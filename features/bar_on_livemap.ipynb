{
 "cells": [
  {
   "cell_type": "code",
   "execution_count": 1,
   "metadata": {},
   "outputs": [
    {
     "data": {
      "text/html": [
       "\n",
       "            <div id=\"93krHT\"></div>\n",
       "            <script type=\"text/javascript\" data-lets-plot-script=\"library\">\n",
       "                if(!window.letsPlotCallQueue) {\n",
       "                    window.letsPlotCallQueue = [];\n",
       "                }; \n",
       "                window.letsPlotCall = function(f) {\n",
       "                    window.letsPlotCallQueue.push(f);\n",
       "                };\n",
       "                (function() {\n",
       "                    var script = document.createElement(\"script\");\n",
       "                    script.type = \"text/javascript\";\n",
       "                    script.src = \"https://cdnjs.cloudflare.com/ajax/libs/lets-plot/2.0.2/lets-plot.min.js\";\n",
       "                    script.onload = function() {\n",
       "                        window.letsPlotCall = function(f) {f();};\n",
       "                        window.letsPlotCallQueue.forEach(function(f) {f();});\n",
       "                        window.letsPlotCallQueue = [];\n",
       "                        \n",
       "                    };\n",
       "                    script.onerror = function(event) {\n",
       "                        window.letsPlotCall = function(f) {};    // noop\n",
       "                        window.letsPlotCallQueue = [];\n",
       "                        var div = document.createElement(\"div\");\n",
       "                        div.style.color = 'darkred';\n",
       "                        div.textContent = 'Error loading Lets-Plot JS';\n",
       "                        document.getElementById(\"93krHT\").appendChild(div);\n",
       "                    };\n",
       "                    var e = document.getElementById(\"93krHT\");\n",
       "                    e.appendChild(script);\n",
       "                })()\n",
       "            </script>\n",
       "            "
      ]
     },
     "metadata": {},
     "output_type": "display_data"
    }
   ],
   "source": [
    "from lets_plot import *\n",
    "LetsPlot.setup_html()"
   ]
  },
  {
   "cell_type": "code",
   "execution_count": 2,
   "metadata": {},
   "outputs": [],
   "source": [
    "data = {\n",
    "    'val': [3000, 1500, 2000, 1500, 1000, 2500],\n",
    "    'order': [1, 2, 3, 1, 2, 3],\n",
    "    'lat': [31, 31, 31, 42, 42, 42],\n",
    "    'lon': [-100, -100, -100, -93, -93, -93]\n",
    "}"
   ]
  },
  {
   "cell_type": "code",
   "execution_count": 3,
   "metadata": {},
   "outputs": [
    {
     "data": {
      "text/html": [
       "   <div id=\"8SLWT1\"></div>\n",
       "   <script type=\"text/javascript\" data-lets-plot-script=\"plot\">\n",
       "       (function() {\n",
       "           var plotSpec={\n",
       "'data':{\n",
       "'val':[3000.0,1500.0,2000.0,1500.0,1000.0,2500.0],\n",
       "'order':[1.0,2.0,3.0,1.0,2.0,3.0],\n",
       "'lat':[31.0,31.0,31.0,42.0,42.0,42.0],\n",
       "'lon':[-100.0,-100.0,-100.0,-93.0,-93.0,-93.0]\n",
       "},\n",
       "'mapping':{\n",
       "},\n",
       "'data_meta':{\n",
       "},\n",
       "'kind':\"plot\",\n",
       "'scales':[],\n",
       "'layers':[{\n",
       "'geom':\"livemap\",\n",
       "'mapping':{\n",
       "'x':\"lon\",\n",
       "'y':\"lat\",\n",
       "'sym_x':\"order\",\n",
       "'sym_y':\"val\",\n",
       "'fill':\"order\"\n",
       "},\n",
       "'data_meta':{\n",
       "},\n",
       "'display_mode':\"bar\",\n",
       "'tiles':{\n",
       "'kind':\"vector_lets_plot\",\n",
       "'url':\"wss://tiles.datalore.jetbrains.com\",\n",
       "'theme':\"color\",\n",
       "'attribution':\"Map: <a href=\\\"https://github.com/JetBrains/lets-plot\\\">© Lets-Plot</a>, map data: <a href=\\\"https://www.openstreetmap.org/copyright\\\">© OpenStreetMap contributors</a>.\"\n",
       "},\n",
       "'geocoding':{\n",
       "'url':\"https://geo2.datalore.jetbrains.com\"\n",
       "},\n",
       "'size':50,\n",
       "'data':{\n",
       "}\n",
       "}]\n",
       "};\n",
       "           var plotContainer = document.getElementById(\"8SLWT1\");\n",
       "           window.letsPlotCall(function() {{\n",
       "               LetsPlot.buildPlotFromProcessedSpecs(plotSpec, -1, -1, plotContainer);\n",
       "           }});\n",
       "       })();    \n",
       "   </script>"
      ],
      "text/plain": [
       "<lets_plot.plot.core.PlotSpec at 0x3da7910>"
      ]
     },
     "execution_count": 3,
     "metadata": {},
     "output_type": "execute_result"
    }
   ],
   "source": [
    "ggplot(data) + geom_livemap(aes(x='lon', y='lat', sym_x='order', sym_y='val', fill='order'), \\\n",
    "                            symbol='bar', size=50) "
   ]
  },
  {
   "cell_type": "code",
   "execution_count": 4,
   "metadata": {},
   "outputs": [
    {
     "data": {
      "text/html": [
       "   <div id=\"ARdRFG\"></div>\n",
       "   <script type=\"text/javascript\" data-lets-plot-script=\"plot\">\n",
       "       (function() {\n",
       "           var plotSpec={\n",
       "'data':{\n",
       "'val':[3000.0,1500.0,2000.0,1500.0,1000.0,2500.0],\n",
       "'order':[1.0,2.0,3.0,1.0,2.0,3.0],\n",
       "'lat':[31.0,31.0,31.0,42.0,42.0,42.0],\n",
       "'lon':[-100.0,-100.0,-100.0,-93.0,-93.0,-93.0]\n",
       "},\n",
       "'mapping':{\n",
       "},\n",
       "'data_meta':{\n",
       "},\n",
       "'kind':\"plot\",\n",
       "'scales':[{\n",
       "'aesthetic':\"fill\",\n",
       "'low':\"red\",\n",
       "'high':\"yellow\",\n",
       "'scale_mapper_kind':\"color_gradient\"\n",
       "}],\n",
       "'layers':[{\n",
       "'geom':\"livemap\",\n",
       "'mapping':{\n",
       "'x':\"lon\",\n",
       "'y':\"lat\",\n",
       "'sym_x':\"order\",\n",
       "'sym_y':\"val\",\n",
       "'fill':\"order\"\n",
       "},\n",
       "'data_meta':{\n",
       "},\n",
       "'display_mode':\"bar\",\n",
       "'tiles':{\n",
       "'kind':\"vector_lets_plot\",\n",
       "'url':\"wss://tiles.datalore.jetbrains.com\",\n",
       "'theme':\"color\",\n",
       "'attribution':\"Map: <a href=\\\"https://github.com/JetBrains/lets-plot\\\">© Lets-Plot</a>, map data: <a href=\\\"https://www.openstreetmap.org/copyright\\\">© OpenStreetMap contributors</a>.\"\n",
       "},\n",
       "'geocoding':{\n",
       "'url':\"https://geo2.datalore.jetbrains.com\"\n",
       "},\n",
       "'size':50,\n",
       "'data':{\n",
       "}\n",
       "}]\n",
       "};\n",
       "           var plotContainer = document.getElementById(\"ARdRFG\");\n",
       "           window.letsPlotCall(function() {{\n",
       "               LetsPlot.buildPlotFromProcessedSpecs(plotSpec, -1, -1, plotContainer);\n",
       "           }});\n",
       "       })();    \n",
       "   </script>"
      ],
      "text/plain": [
       "<lets_plot.plot.core.PlotSpec at 0x97ed6a0>"
      ]
     },
     "execution_count": 4,
     "metadata": {},
     "output_type": "execute_result"
    }
   ],
   "source": [
    "ggplot(data) + geom_livemap(aes(x='lon', y='lat', sym_x='order', sym_y='val', fill='order'), \\\n",
    "                            symbol='bar', size=50) + scale_fill_gradient('red', 'yellow')"
   ]
  }
 ],
 "metadata": {
  "kernelspec": {
   "display_name": "Python 3",
   "language": "python",
   "name": "python3"
  },
  "language_info": {
   "codemirror_mode": {
    "name": "ipython",
    "version": 3
   },
   "file_extension": ".py",
   "mimetype": "text/x-python",
   "name": "python",
   "nbconvert_exporter": "python",
   "pygments_lexer": "ipython3",
   "version": "3.8.10"
  }
 },
 "nbformat": 4,
 "nbformat_minor": 1
}
