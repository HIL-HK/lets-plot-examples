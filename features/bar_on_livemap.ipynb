{
 "cells": [
  {
   "cell_type": "markdown",
   "metadata": {},
   "source": [
    "<em><sub>This page is available as an executable <strong>Jupyter Notebook</strong>:</sub></em>\n",
    "<a href=\"https://mybinder.org/v2/gh/HIL-HK/lets-plot-examples/dev?filepath=features%2Fbar_on_livemap.ipynb\"\n",
    "   target=\"_parent\"> \n",
    "   <img align=\"center\"\n",
    "        src=\"https://mybinder.org/badge_logo.svg\">\n",
    "</a>\n",
    "<br/>"
   ]
  },
  {
   "cell_type": "code",
   "execution_count": null,
   "metadata": {},
   "outputs": [],
   "source": [
    "from lets_plot import *\n",
    "LetsPlot.setup_html()\n",
    "\n",
    "# Let's use Wikimedia Maps provided by Wikimedia Foundation (https://foundation.wikimedia.org/wiki/Maps_Terms_of_Use) \n",
    "# as map tile server. Internet connection is required.\n",
    "\n",
    "LetsPlot.set(maptiles_zxy(url='https://maps.wikimedia.org/osm-intl/{z}/{x}/{y}@2x.png'))"
   ]
  },
  {
   "cell_type": "code",
   "execution_count": null,
   "metadata": {},
   "outputs": [],
   "source": [
    "data = {\n",
    "    'val': [3000, 1500, 2000, 1500, 1000, 2500],\n",
    "    'order': [1, 2, 3, 1, 2, 3],\n",
    "    'lat': [31, 31, 31, 42, 42, 42],\n",
    "    'lon': [-100, -100, -100, -93, -93, -93]\n",
    "}"
   ]
  },
  {
   "cell_type": "code",
   "execution_count": null,
   "metadata": {},
   "outputs": [],
   "source": [
    "ggplot(data) + geom_livemap(aes(x='lon', y='lat', sym_x='order', sym_y='val', fill='order'), \\\n",
    "                            symbol='bar', size=50) "
   ]
  },
  {
   "cell_type": "code",
   "execution_count": null,
   "metadata": {},
   "outputs": [],
   "source": [
    "ggplot(data) + geom_livemap(aes(x='lon', y='lat', sym_x='order', sym_y='val', fill='order'), \\\n",
    "                            symbol='bar', size=50) + scale_fill_gradient('red', 'yellow')"
   ]
  },
  {
   "cell_type": "code",
   "execution_count": null,
   "metadata": {
    "scrolled": true
   },
   "outputs": [],
   "source": []
  },
  {
   "cell_type": "code",
   "execution_count": null,
   "metadata": {},
   "outputs": [],
   "source": []
  }
 ],
 "metadata": {
  "kernelspec": {
   "display_name": "Python 3",
   "language": "python",
   "name": "python3"
  },
  "language_info": {
   "codemirror_mode": {
    "name": "ipython",
    "version": 3
   },
   "file_extension": ".py",
   "mimetype": "text/x-python",
   "name": "python",
   "nbconvert_exporter": "python",
   "pygments_lexer": "ipython3",
   "version": "3.8.3"
  }
 },
 "nbformat": 4,
 "nbformat_minor": 1
}
