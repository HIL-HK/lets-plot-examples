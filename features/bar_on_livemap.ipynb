{
 "cells": [
  {
   "cell_type": "markdown",
   "metadata": {},
   "source": [
    "Available as executable or viewable Jupyter Notebook:\n",
    "\n",
    "[![Binder](https://mybinder.org/badge_logo.svg)](https://mybinder.org/v2/gh/HIL-HK/lets-plot-examples/master?filepath=features%2Fbar_on_livemap.ipynb)\n",
    "\n",
    "[<img alt=\"nbviewer\" src=\"https://raw.githubusercontent.com/jupyter/design/master/logos/Badges/nbviewer_badge.png\" width=\"109\" height=\"20\">](https://nbviewer.jupyter.org/github/HIL-HK/lets-plot-examples/blob/master/features/bar_on_livemap.ipynb)"
   ]
  },
  {
   "cell_type": "code",
   "execution_count": 1,
   "metadata": {},
   "outputs": [
    {
     "data": {
      "text/html": [
       "\n",
       "            <div id=\"xTlhR9\"></div>\n",
       "            <script type=\"text/javascript\" data-lets-plot-script=\"library\">\n",
       "                if(!window.letsPlotCallQueue) {\n",
       "                    window.letsPlotCallQueue = [];\n",
       "                }; \n",
       "                window.letsPlotCall = function(f) {\n",
       "                    window.letsPlotCallQueue.push(f);\n",
       "                };\n",
       "                (function() {\n",
       "                    var script = document.createElement(\"script\");\n",
       "                    script.type = \"text/javascript\";\n",
       "                    script.src = \"https://dl.bintray.com/jetbrains/lets-plot/lets-plot-1.4.2.min.js\";\n",
       "                    script.onload = function() {\n",
       "                        window.letsPlotCall = function(f) {f();};\n",
       "                        window.letsPlotCallQueue.forEach(function(f) {f();});\n",
       "                        window.letsPlotCallQueue = [];\n",
       "                        \n",
       "                    };\n",
       "                    script.onerror = function(event) {\n",
       "                        window.letsPlotCall = function(f) {};    // noop\n",
       "                        window.letsPlotCallQueue = [];\n",
       "                        var div = document.createElement(\"div\");\n",
       "                        div.style.color = 'darkred';\n",
       "                        div.textContent = 'Error loading Lets-Plot JS';\n",
       "                        document.getElementById(\"xTlhR9\").appendChild(div);\n",
       "                    };\n",
       "                    var e = document.getElementById(\"xTlhR9\");\n",
       "                    e.appendChild(script);\n",
       "                })()\n",
       "            </script>\n",
       "            "
      ]
     },
     "metadata": {},
     "output_type": "display_data"
    }
   ],
   "source": [
    "from lets_plot import *\n",
    "LetsPlot.setup_html()\n",
    "\n",
    "# Let's use Wikimedia Maps provided by Wikimedia Foundation (https://foundation.wikimedia.org/wiki/Maps_Terms_of_Use) \n",
    "# as map tile server. Internet connection is required.\n",
    "\n",
    "LetsPlot.set(maptiles_zxy(url='https://maps.wikimedia.org/osm-intl/{z}/{x}/{y}@2x.png'))"
   ]
  },
  {
   "cell_type": "code",
   "execution_count": 2,
   "metadata": {},
   "outputs": [],
   "source": [
    "data = {\n",
    "    'val': [3000, 1500, 2000, 1500, 1000, 2500],\n",
    "    'order': [1, 2, 3, 1, 2, 3],\n",
    "    'lat': [31, 31, 31, 42, 42, 42],\n",
    "    'lon': [-100, -100, -100, -93, -93, -93],\n",
    "    'lonlat': ['-100,31', '-100,31', '-100,31', '-93,42', '-93,42', '-93,42']\n",
    "}"
   ]
  },
  {
   "cell_type": "code",
   "execution_count": 3,
   "metadata": {},
   "outputs": [
    {
     "data": {
      "text/html": [
       "   <div id=\"8ghQka\"></div>\n",
       "   <script type=\"text/javascript\" data-lets-plot-script=\"plot\">\n",
       "       (function() {\n",
       "           var plotSpec={\n",
       "'data':{\n",
       "'val':[3000.0,1500.0,2000.0,1500.0,1000.0,2500.0],\n",
       "'order':[1.0,2.0,3.0,1.0,2.0,3.0],\n",
       "'generated_lonlat':[\"-100.0, 31.0\",\"-100.0, 31.0\",\"-100.0, 31.0\",\"-93.0, 42.0\",\"-93.0, 42.0\",\"-93.0, 42.0\"]\n",
       "},\n",
       "'mapping':{\n",
       "},\n",
       "'data_meta':{\n",
       "},\n",
       "'kind':\"plot\",\n",
       "'scales':[],\n",
       "'layers':[{\n",
       "'geom':\"livemap\",\n",
       "'mapping':{\n",
       "'x':\"order\",\n",
       "'y':\"val\",\n",
       "'map_id':\"generated_lonlat\",\n",
       "'fill':\"order\"\n",
       "},\n",
       "'data_meta':{\n",
       "},\n",
       "'display_mode':\"bar\",\n",
       "'tiles':{\n",
       "'kind':\"raster_zxy\",\n",
       "'url':\"https://maps.wikimedia.org/osm-intl/{z}/{x}/{y}@2x.png\"\n",
       "},\n",
       "'geocoding':{\n",
       "},\n",
       "'size':50,\n",
       "'data':{\n",
       "}\n",
       "}]\n",
       "};\n",
       "           var plotContainer = document.getElementById(\"8ghQka\");\n",
       "           window.letsPlotCall(function() {{\n",
       "               LetsPlot.buildPlotFromProcessedSpecs(plotSpec, -1, -1, plotContainer);\n",
       "           }});\n",
       "       })();    \n",
       "   </script>"
      ],
      "text/plain": [
       "<lets_plot.plot.core.PlotSpec at 0x82e8f88>"
      ]
     },
     "execution_count": 3,
     "metadata": {},
     "output_type": "execute_result"
    }
   ],
   "source": [
    "ggplot(data) + \\\n",
    "    geom_livemap(aes(map_id=lon_lat('lon', 'lat'), x='order', y='val', fill='order'), symbol='bar', size=50) "
   ]
  },
  {
   "cell_type": "code",
   "execution_count": 4,
   "metadata": {
    "scrolled": false
   },
   "outputs": [
    {
     "data": {
      "text/html": [
       "   <div id=\"vH0m1r\"></div>\n",
       "   <script type=\"text/javascript\" data-lets-plot-script=\"plot\">\n",
       "       (function() {\n",
       "           var plotSpec={\n",
       "'data':{\n",
       "'val':[3000.0,1500.0,2000.0,1500.0,1000.0,2500.0],\n",
       "'order':[1.0,2.0,3.0,1.0,2.0,3.0],\n",
       "'lonlat':[\"-100,31\",\"-100,31\",\"-100,31\",\"-93,42\",\"-93,42\",\"-93,42\"]\n",
       "},\n",
       "'mapping':{\n",
       "},\n",
       "'data_meta':{\n",
       "},\n",
       "'kind':\"plot\",\n",
       "'scales':[{\n",
       "'aesthetic':\"fill\",\n",
       "'low':\"red\",\n",
       "'high':\"yellow\",\n",
       "'scale_mapper_kind':\"color_gradient\"\n",
       "}],\n",
       "'layers':[{\n",
       "'geom':\"livemap\",\n",
       "'mapping':{\n",
       "'x':\"order\",\n",
       "'y':\"val\",\n",
       "'map_id':\"lonlat\",\n",
       "'fill':\"order\"\n",
       "},\n",
       "'data_meta':{\n",
       "},\n",
       "'display_mode':\"bar\",\n",
       "'tiles':{\n",
       "'kind':\"raster_zxy\",\n",
       "'url':\"https://maps.wikimedia.org/osm-intl/{z}/{x}/{y}@2x.png\"\n",
       "},\n",
       "'geocoding':{\n",
       "},\n",
       "'size':50,\n",
       "'data':{\n",
       "}\n",
       "}]\n",
       "};\n",
       "           var plotContainer = document.getElementById(\"vH0m1r\");\n",
       "           window.letsPlotCall(function() {{\n",
       "               LetsPlot.buildPlotFromProcessedSpecs(plotSpec, -1, -1, plotContainer);\n",
       "           }});\n",
       "       })();    \n",
       "   </script>"
      ],
      "text/plain": [
       "<lets_plot.plot.core.PlotSpec at 0x3ff6a48>"
      ]
     },
     "execution_count": 4,
     "metadata": {},
     "output_type": "execute_result"
    }
   ],
   "source": [
    "ggplot(data) + \\\n",
    "    geom_livemap(aes(map_id='lonlat', x='order', y='val', fill='order'), symbol='bar', size=50) + \\\n",
    "    scale_fill_gradient('red', 'yellow')"
   ]
  }
 ],
 "metadata": {
  "kernelspec": {
   "display_name": "Python 3",
   "language": "python",
   "name": "python3"
  },
  "language_info": {
   "codemirror_mode": {
    "name": "ipython",
    "version": 3
   },
   "file_extension": ".py",
   "mimetype": "text/x-python",
   "name": "python",
   "nbconvert_exporter": "python",
   "pygments_lexer": "ipython3",
   "version": "3.7.7"
  }
 },
 "nbformat": 4,
 "nbformat_minor": 1
}
