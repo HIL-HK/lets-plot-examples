{
 "cells": [
  {
   "cell_type": "code",
   "execution_count": 1,
   "metadata": {},
   "outputs": [
    {
     "data": {
      "text/html": [
       "\n",
       "            <div id=\"nEZ0IZ\"></div>\n",
       "            <script type=\"text/javascript\" data-lets-plot-script=\"library\">\n",
       "                if(!window.letsPlotCallQueue) {\n",
       "                    window.letsPlotCallQueue = [];\n",
       "                }; \n",
       "                window.letsPlotCall = function(f) {\n",
       "                    window.letsPlotCallQueue.push(f);\n",
       "                };\n",
       "                (function() {\n",
       "                    var script = document.createElement(\"script\");\n",
       "                    script.type = \"text/javascript\";\n",
       "                    script.src = \"https://cdnjs.cloudflare.com/ajax/libs/lets-plot/2.0.2/lets-plot.min.js\";\n",
       "                    script.onload = function() {\n",
       "                        window.letsPlotCall = function(f) {f();};\n",
       "                        window.letsPlotCallQueue.forEach(function(f) {f();});\n",
       "                        window.letsPlotCallQueue = [];\n",
       "                        \n",
       "                    };\n",
       "                    script.onerror = function(event) {\n",
       "                        window.letsPlotCall = function(f) {};    // noop\n",
       "                        window.letsPlotCallQueue = [];\n",
       "                        var div = document.createElement(\"div\");\n",
       "                        div.style.color = 'darkred';\n",
       "                        div.textContent = 'Error loading Lets-Plot JS';\n",
       "                        document.getElementById(\"nEZ0IZ\").appendChild(div);\n",
       "                    };\n",
       "                    var e = document.getElementById(\"nEZ0IZ\");\n",
       "                    e.appendChild(script);\n",
       "                })()\n",
       "            </script>\n",
       "            "
      ]
     },
     "metadata": {},
     "output_type": "display_data"
    }
   ],
   "source": [
    "import pandas as pd\n",
    "\n",
    "from lets_plot import *\n",
    "LetsPlot.setup_html()"
   ]
  },
  {
   "cell_type": "code",
   "execution_count": 2,
   "metadata": {},
   "outputs": [],
   "source": [
    "df = {'cond': ['A', 'A', 'B', 'B', 'C', 'C'], \\\n",
    "      'x': [2, 3, 2, 3, 2, 3], \\\n",
    "      'y': [1.0, 1.5, 2.0, 1.0, 1.6, 1.8]}"
   ]
  },
  {
   "cell_type": "code",
   "execution_count": 3,
   "metadata": {},
   "outputs": [
    {
     "data": {
      "text/html": [
       "   <div id=\"ZgkjeM\"></div>\n",
       "   <script type=\"text/javascript\" data-lets-plot-script=\"plot\">\n",
       "       (function() {\n",
       "           var plotSpec={\n",
       "'data':{\n",
       "'cond':[\"A\",\"A\",\"B\",\"B\",\"C\",\"C\"],\n",
       "'x':[2.0,3.0,2.0,3.0,2.0,3.0],\n",
       "'y':[1.0,1.5,2.0,1.0,1.6,1.8]\n",
       "},\n",
       "'mapping':{\n",
       "},\n",
       "'data_meta':{\n",
       "},\n",
       "'kind':\"plot\",\n",
       "'scales':[],\n",
       "'layers':[{\n",
       "'geom':\"line\",\n",
       "'mapping':{\n",
       "'x':\"x\",\n",
       "'y':\"y\",\n",
       "'group':\"cond\"\n",
       "},\n",
       "'data_meta':{\n",
       "},\n",
       "'data':{\n",
       "}\n",
       "},{\n",
       "'geom':\"point\",\n",
       "'mapping':{\n",
       "'x':\"x\",\n",
       "'y':\"y\"\n",
       "},\n",
       "'data_meta':{\n",
       "},\n",
       "'data':{\n",
       "}\n",
       "}]\n",
       "};\n",
       "           var plotContainer = document.getElementById(\"ZgkjeM\");\n",
       "           window.letsPlotCall(function() {{\n",
       "               LetsPlot.buildPlotFromProcessedSpecs(plotSpec, -1, -1, plotContainer);\n",
       "           }});\n",
       "       })();    \n",
       "   </script>"
      ],
      "text/plain": [
       "<lets_plot.plot.core.PlotSpec at 0x4de2fd0>"
      ]
     },
     "execution_count": 3,
     "metadata": {},
     "output_type": "execute_result"
    }
   ],
   "source": [
    "# Let's plot default lines and points\n",
    "ggplot(df) + geom_line(aes(x='x', y='y', group='cond')) + \\\n",
    "    geom_point(aes(x='x', y='y'))"
   ]
  },
  {
   "cell_type": "code",
   "execution_count": 4,
   "metadata": {},
   "outputs": [
    {
     "data": {
      "text/html": [
       "   <div id=\"WrK0zk\"></div>\n",
       "   <script type=\"text/javascript\" data-lets-plot-script=\"plot\">\n",
       "       (function() {\n",
       "           var plotSpec={\n",
       "'data':{\n",
       "'cond':[\"A\",\"A\",\"B\",\"B\",\"C\",\"C\"],\n",
       "'x':[2.0,3.0,2.0,3.0,2.0,3.0],\n",
       "'y':[1.0,1.5,2.0,1.0,1.6,1.8]\n",
       "},\n",
       "'mapping':{\n",
       "},\n",
       "'data_meta':{\n",
       "},\n",
       "'kind':\"plot\",\n",
       "'scales':[],\n",
       "'layers':[{\n",
       "'geom':\"line\",\n",
       "'mapping':{\n",
       "'x':\"x\",\n",
       "'y':\"y\",\n",
       "'group':\"cond\"\n",
       "},\n",
       "'data_meta':{\n",
       "},\n",
       "'linetype':\"dotted\",\n",
       "'size':1.5,\n",
       "'data':{\n",
       "}\n",
       "},{\n",
       "'geom':\"point\",\n",
       "'mapping':{\n",
       "'x':\"x\",\n",
       "'y':\"y\"\n",
       "},\n",
       "'data_meta':{\n",
       "},\n",
       "'shape':0,\n",
       "'size':4,\n",
       "'data':{\n",
       "}\n",
       "}]\n",
       "};\n",
       "           var plotContainer = document.getElementById(\"WrK0zk\");\n",
       "           window.letsPlotCall(function() {{\n",
       "               LetsPlot.buildPlotFromProcessedSpecs(plotSpec, -1, -1, plotContainer);\n",
       "           }});\n",
       "       })();    \n",
       "   </script>"
      ],
      "text/plain": [
       "<lets_plot.plot.core.PlotSpec at 0x9891e20>"
      ]
     },
     "execution_count": 4,
     "metadata": {},
     "output_type": "execute_result"
    }
   ],
   "source": [
    "# Let's set dotted thicker line and hollow large squares\n",
    "ggplot(df) + geom_line(aes(x='x', y='y', group='cond'), linetype='dotted', size = 1.5) + \\\n",
    "    geom_point(aes(x='x', y='y'), shape = 0, size = 4)"
   ]
  },
  {
   "cell_type": "code",
   "execution_count": 5,
   "metadata": {},
   "outputs": [
    {
     "data": {
      "text/html": [
       "   <div id=\"5DCsXi\"></div>\n",
       "   <script type=\"text/javascript\" data-lets-plot-script=\"plot\">\n",
       "       (function() {\n",
       "           var plotSpec={\n",
       "'data':{\n",
       "'cond':[\"A\",\"A\",\"B\",\"B\",\"C\",\"C\"],\n",
       "'x':[2.0,3.0,2.0,3.0,2.0,3.0],\n",
       "'y':[1.0,1.5,2.0,1.0,1.6,1.8]\n",
       "},\n",
       "'mapping':{\n",
       "},\n",
       "'data_meta':{\n",
       "},\n",
       "'kind':\"plot\",\n",
       "'scales':[],\n",
       "'layers':[{\n",
       "'geom':\"line\",\n",
       "'mapping':{\n",
       "'x':\"x\",\n",
       "'y':\"y\",\n",
       "'group':\"cond\",\n",
       "'linetype':\"cond\"\n",
       "},\n",
       "'data_meta':{\n",
       "},\n",
       "'data':{\n",
       "}\n",
       "},{\n",
       "'geom':\"point\",\n",
       "'mapping':{\n",
       "'x':\"x\",\n",
       "'y':\"y\",\n",
       "'shape':\"cond\"\n",
       "},\n",
       "'data_meta':{\n",
       "},\n",
       "'size':4,\n",
       "'data':{\n",
       "}\n",
       "}]\n",
       "};\n",
       "           var plotContainer = document.getElementById(\"5DCsXi\");\n",
       "           window.letsPlotCall(function() {{\n",
       "               LetsPlot.buildPlotFromProcessedSpecs(plotSpec, -1, -1, plotContainer);\n",
       "           }});\n",
       "       })();    \n",
       "   </script>"
      ],
      "text/plain": [
       "<lets_plot.plot.core.PlotSpec at 0x9896c10>"
      ]
     },
     "execution_count": 5,
     "metadata": {},
     "output_type": "execute_result"
    }
   ],
   "source": [
    "# We can make line type and shape of points depend on variable\n",
    "ggplot(df) + geom_line(aes(x='x', y='y', group='cond', linetype='cond')) + \\\n",
    "    geom_point(aes(x='x', y='y', shape='cond'), size=4)\n"
   ]
  },
  {
   "cell_type": "code",
   "execution_count": 6,
   "metadata": {},
   "outputs": [
    {
     "data": {
      "text/html": [
       "   <div id=\"r5reKG\"></div>\n",
       "   <script type=\"text/javascript\" data-lets-plot-script=\"plot\">\n",
       "       (function() {\n",
       "           var plotSpec={\n",
       "'data':{\n",
       "'cond':[\"A\",\"A\",\"B\",\"B\",\"C\",\"C\"],\n",
       "'x':[2.0,3.0,2.0,3.0,2.0,3.0],\n",
       "'y':[1.0,1.5,2.0,1.0,1.6,1.8]\n",
       "},\n",
       "'mapping':{\n",
       "'x':\"x\",\n",
       "'y':\"y\",\n",
       "'group':\"cond\"\n",
       "},\n",
       "'data_meta':{\n",
       "},\n",
       "'kind':\"plot\",\n",
       "'scales':[{\n",
       "'aesthetic':\"shape\",\n",
       "'solid':false\n",
       "}],\n",
       "'layers':[{\n",
       "'geom':\"line\",\n",
       "'mapping':{\n",
       "'linetype':\"cond\"\n",
       "},\n",
       "'data_meta':{\n",
       "},\n",
       "'data':{\n",
       "}\n",
       "},{\n",
       "'geom':\"point\",\n",
       "'mapping':{\n",
       "'shape':\"cond\"\n",
       "},\n",
       "'data_meta':{\n",
       "},\n",
       "'size':4,\n",
       "'data':{\n",
       "}\n",
       "}]\n",
       "};\n",
       "           var plotContainer = document.getElementById(\"r5reKG\");\n",
       "           window.letsPlotCall(function() {{\n",
       "               LetsPlot.buildPlotFromProcessedSpecs(plotSpec, -1, -1, plotContainer);\n",
       "           }});\n",
       "       })();    \n",
       "   </script>"
      ],
      "text/plain": [
       "<lets_plot.plot.core.PlotSpec at 0x989c490>"
      ]
     },
     "execution_count": 6,
     "metadata": {},
     "output_type": "execute_result"
    }
   ],
   "source": [
    "# The same but with hollow shapes\n",
    "ggplot(df, aes(x='x', y='y', group='cond')) + \\\n",
    "    geom_line(aes(linetype='cond')) + \\\n",
    "    geom_point(aes(shape='cond'), size=4) + scale_shape(solid=False)"
   ]
  },
  {
   "cell_type": "code",
   "execution_count": 7,
   "metadata": {},
   "outputs": [
    {
     "data": {
      "text/html": [
       "   <div id=\"w1eKEt\"></div>\n",
       "   <script type=\"text/javascript\" data-lets-plot-script=\"plot\">\n",
       "       (function() {\n",
       "           var plotSpec={\n",
       "'data':{\n",
       "'cond':[\"A\",\"A\",\"B\",\"B\",\"C\",\"C\"],\n",
       "'x':[2.0,3.0,2.0,3.0,2.0,3.0],\n",
       "'y':[1.0,1.5,2.0,1.0,1.6,1.8]\n",
       "},\n",
       "'mapping':{\n",
       "},\n",
       "'data_meta':{\n",
       "},\n",
       "'kind':\"plot\",\n",
       "'scales':[{\n",
       "'aesthetic':\"linetype\",\n",
       "'values':[\"dotdash\",\"dotted\",\"dashed\"]\n",
       "},{\n",
       "'aesthetic':\"shape\",\n",
       "'values':[6,7,8]\n",
       "}],\n",
       "'layers':[{\n",
       "'geom':\"line\",\n",
       "'mapping':{\n",
       "'x':\"x\",\n",
       "'y':\"y\",\n",
       "'group':\"cond\",\n",
       "'linetype':\"cond\"\n",
       "},\n",
       "'data_meta':{\n",
       "},\n",
       "'data':{\n",
       "}\n",
       "},{\n",
       "'geom':\"point\",\n",
       "'mapping':{\n",
       "'x':\"x\",\n",
       "'y':\"y\",\n",
       "'shape':\"cond\"\n",
       "},\n",
       "'data_meta':{\n",
       "},\n",
       "'size':4,\n",
       "'data':{\n",
       "}\n",
       "}]\n",
       "};\n",
       "           var plotContainer = document.getElementById(\"w1eKEt\");\n",
       "           window.letsPlotCall(function() {{\n",
       "               LetsPlot.buildPlotFromProcessedSpecs(plotSpec, -1, -1, plotContainer);\n",
       "           }});\n",
       "       })();    \n",
       "   </script>"
      ],
      "text/plain": [
       "<lets_plot.plot.core.PlotSpec at 0x98a1520>"
      ]
     },
     "execution_count": 7,
     "metadata": {},
     "output_type": "execute_result"
    }
   ],
   "source": [
    "# Let's manually change the specific linetypes and shapes that are used\n",
    "ggplot(df) + geom_line(aes(x='x', y='y', group='cond', linetype='cond')) + \\\n",
    "    geom_point(aes(x='x', y='y', shape='cond'), size=4) + \\\n",
    "    scale_linetype_manual(values=('dotdash', 'dotted', 'dashed')) + \\\n",
    "    scale_shape_manual(values=(6, 7, 8))"
   ]
  },
  {
   "cell_type": "code",
   "execution_count": 8,
   "metadata": {},
   "outputs": [
    {
     "data": {
      "text/html": [
       "   <div id=\"O8KfK1\"></div>\n",
       "   <script type=\"text/javascript\" data-lets-plot-script=\"plot\">\n",
       "       (function() {\n",
       "           var plotSpec={\n",
       "'data':{\n",
       "'cond':[\"A\",\"A\",\"B\",\"B\",\"C\",\"C\"],\n",
       "'x':[2.0,3.0,2.0,3.0,2.0,3.0],\n",
       "'y':[1.0,1.5,2.0,1.0,1.6,1.8]\n",
       "},\n",
       "'mapping':{\n",
       "'x':\"x\",\n",
       "'y':\"y\",\n",
       "'group':\"cond\"\n",
       "},\n",
       "'data_meta':{\n",
       "},\n",
       "'kind':\"plot\",\n",
       "'scales':[{\n",
       "'aesthetic':\"shape\",\n",
       "'values':[21,22,24]\n",
       "}],\n",
       "'layers':[{\n",
       "'geom':\"line\",\n",
       "'mapping':{\n",
       "'linetype':\"cond\"\n",
       "},\n",
       "'data_meta':{\n",
       "},\n",
       "'size':1.5,\n",
       "'color':\"gray\",\n",
       "'data':{\n",
       "}\n",
       "},{\n",
       "'geom':\"point\",\n",
       "'mapping':{\n",
       "'shape':\"cond\"\n",
       "},\n",
       "'data_meta':{\n",
       "},\n",
       "'fill':\"dark_green\",\n",
       "'color':\"gray\",\n",
       "'size':6,\n",
       "'data':{\n",
       "}\n",
       "}]\n",
       "};\n",
       "           var plotContainer = document.getElementById(\"O8KfK1\");\n",
       "           window.letsPlotCall(function() {{\n",
       "               LetsPlot.buildPlotFromProcessedSpecs(plotSpec, -1, -1, plotContainer);\n",
       "           }});\n",
       "       })();    \n",
       "   </script>"
      ],
      "text/plain": [
       "<lets_plot.plot.core.PlotSpec at 0x989aa00>"
      ]
     },
     "execution_count": 8,
     "metadata": {},
     "output_type": "execute_result"
    }
   ],
   "source": [
    "# Let's set gray lines and shapes with green fill\n",
    "ggplot(df, aes(x='x', y='y', group='cond')) + \\\n",
    "    geom_line(aes(linetype='cond'), size=1.5, color='gray') + \\\n",
    "    geom_point(aes(shape='cond'), fill='dark_green', color='gray', size=6) + \\\n",
    "    scale_shape_manual(values=(21,22,24))  # Shapes: Filled circle, square, triangle"
   ]
  },
  {
   "cell_type": "code",
   "execution_count": 9,
   "metadata": {},
   "outputs": [
    {
     "data": {
      "text/html": [
       "   <div id=\"ou9Yn4\"></div>\n",
       "   <script type=\"text/javascript\" data-lets-plot-script=\"plot\">\n",
       "       (function() {\n",
       "           var plotSpec={\n",
       "'data':{\n",
       "'cond':[\"A\",\"A\",\"B\",\"B\",\"C\",\"C\"],\n",
       "'x':[2.0,3.0,2.0,3.0,2.0,3.0],\n",
       "'y':[1.0,1.5,2.0,1.0,1.6,1.8]\n",
       "},\n",
       "'mapping':{\n",
       "'x':\"x\",\n",
       "'y':\"y\",\n",
       "'group':\"cond\"\n",
       "},\n",
       "'data_meta':{\n",
       "},\n",
       "'kind':\"plot\",\n",
       "'scales':[{\n",
       "'aesthetic':\"shape\",\n",
       "'values':[21,22,24]\n",
       "}],\n",
       "'layers':[{\n",
       "'geom':\"line\",\n",
       "'mapping':{\n",
       "'linetype':\"cond\"\n",
       "},\n",
       "'data_meta':{\n",
       "},\n",
       "'size':1.5,\n",
       "'color':\"gray\",\n",
       "'alpha':0.5,\n",
       "'data':{\n",
       "}\n",
       "},{\n",
       "'geom':\"point\",\n",
       "'mapping':{\n",
       "'shape':\"cond\"\n",
       "},\n",
       "'data_meta':{\n",
       "},\n",
       "'fill':\"dark_green\",\n",
       "'color':\"gray\",\n",
       "'size':6,\n",
       "'alpha':0.7,\n",
       "'data':{\n",
       "}\n",
       "}]\n",
       "};\n",
       "           var plotContainer = document.getElementById(\"ou9Yn4\");\n",
       "           window.letsPlotCall(function() {{\n",
       "               LetsPlot.buildPlotFromProcessedSpecs(plotSpec, -1, -1, plotContainer);\n",
       "           }});\n",
       "       })();    \n",
       "   </script>"
      ],
      "text/plain": [
       "<lets_plot.plot.core.PlotSpec at 0x98a4970>"
      ]
     },
     "execution_count": 9,
     "metadata": {},
     "output_type": "execute_result"
    }
   ],
   "source": [
    "# We can also add alpha channel(transparency)\n",
    "ggplot(df, aes(x='x', y='y', group='cond')) + \\\n",
    "    geom_line(aes(linetype='cond'), size = 1.5, color='gray', alpha=.5) + \\\n",
    "    geom_point(aes(shape='cond'), fill='dark_green', color='gray', size=6, alpha=.7) + \\\n",
    "    scale_shape_manual(values=(21,22,24))"
   ]
  }
 ],
 "metadata": {
  "kernelspec": {
   "display_name": "Python 3",
   "language": "python",
   "name": "python3"
  },
  "language_info": {
   "codemirror_mode": {
    "name": "ipython",
    "version": 3
   },
   "file_extension": ".py",
   "mimetype": "text/x-python",
   "name": "python",
   "nbconvert_exporter": "python",
   "pygments_lexer": "ipython3",
   "version": "3.8.10"
  }
 },
 "nbformat": 4,
 "nbformat_minor": 1
}
