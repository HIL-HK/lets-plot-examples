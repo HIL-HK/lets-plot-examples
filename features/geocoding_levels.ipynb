{
 "cells": [
  {
   "cell_type": "code",
   "execution_count": 1,
   "id": "c93e3d9b",
   "metadata": {},
   "outputs": [
    {
     "name": "stdout",
     "output_type": "stream",
     "text": [
      "The geodata is provided by © OpenStreetMap contributors and is made available here under the Open Database License (ODbL).\n"
     ]
    },
    {
     "data": {
      "text/html": [
       "\n",
       "            <div id=\"05JgsH\"></div>\n",
       "            <script type=\"text/javascript\" data-lets-plot-script=\"library\">\n",
       "                if(!window.letsPlotCallQueue) {\n",
       "                    window.letsPlotCallQueue = [];\n",
       "                }; \n",
       "                window.letsPlotCall = function(f) {\n",
       "                    window.letsPlotCallQueue.push(f);\n",
       "                };\n",
       "                (function() {\n",
       "                    var script = document.createElement(\"script\");\n",
       "                    script.type = \"text/javascript\";\n",
       "                    script.src = \"https://cdn.jsdelivr.net/gh/JetBrains/lets-plot@v2.0.4/js-package/distr/lets-plot.min.js\";\n",
       "                    script.onload = function() {\n",
       "                        window.letsPlotCall = function(f) {f();};\n",
       "                        window.letsPlotCallQueue.forEach(function(f) {f();});\n",
       "                        window.letsPlotCallQueue = [];\n",
       "                        \n",
       "                    };\n",
       "                    script.onerror = function(event) {\n",
       "                        window.letsPlotCall = function(f) {};    // noop\n",
       "                        window.letsPlotCallQueue = [];\n",
       "                        var div = document.createElement(\"div\");\n",
       "                        div.style.color = 'darkred';\n",
       "                        div.textContent = 'Error loading Lets-Plot JS';\n",
       "                        document.getElementById(\"05JgsH\").appendChild(div);\n",
       "                    };\n",
       "                    var e = document.getElementById(\"05JgsH\");\n",
       "                    e.appendChild(script);\n",
       "                })()\n",
       "            </script>\n",
       "            "
      ]
     },
     "metadata": {},
     "output_type": "display_data"
    }
   ],
   "source": [
    "import ipywidgets as widgets\n",
    "\n",
    "import geopandas as gpd\n",
    "\n",
    "from lets_plot.geo_data import *\n",
    "from lets_plot import *\n",
    "LetsPlot.setup_html()"
   ]
  },
  {
   "cell_type": "code",
   "execution_count": 2,
   "id": "2a951999",
   "metadata": {},
   "outputs": [
    {
     "data": {
      "application/vnd.jupyter.widget-view+json": {
       "model_id": "c9bc2c6a04a541d1a2d1c983812e9e33",
       "version_major": 2,
       "version_minor": 0
      },
      "text/plain": [
       "Dropdown(description='Country:', options=('', 'Andorra', 'Angola', 'Anguilla', 'Antigua and Barbuda', 'Argenti…"
      ]
     },
     "metadata": {},
     "output_type": "display_data"
    },
    {
     "data": {
      "application/vnd.jupyter.widget-view+json": {
       "model_id": "b49f5145c9d249d487e079fd9798a638",
       "version_major": 2,
       "version_minor": 0
      },
      "text/plain": [
       "Dropdown(description='State:', options=(), value=None)"
      ]
     },
     "metadata": {},
     "output_type": "display_data"
    },
    {
     "data": {
      "application/vnd.jupyter.widget-view+json": {
       "model_id": "de1ca21651ae41c2818d5bceb618fa3d",
       "version_major": 2,
       "version_minor": 0
      },
      "text/plain": [
       "Dropdown(description='County:', options=(), value=None)"
      ]
     },
     "metadata": {},
     "output_type": "display_data"
    },
    {
     "data": {
      "application/vnd.jupyter.widget-view+json": {
       "model_id": "aa7d07ace28b4fd4aac0e9db1d5572b0",
       "version_major": 2,
       "version_minor": 0
      },
      "text/plain": [
       "IntSlider(value=1, description='Resolution:', max=15, min=1)"
      ]
     },
     "metadata": {},
     "output_type": "display_data"
    },
    {
     "data": {
      "application/vnd.jupyter.widget-view+json": {
       "model_id": "4b15eeada0df43cb8a5604cd2fd023e6",
       "version_major": 2,
       "version_minor": 0
      },
      "text/plain": [
       "Output(layout=Layout(height='320px'))"
      ]
     },
     "metadata": {},
     "output_type": "display_data"
    }
   ],
   "source": [
    "def display_widgets():\n",
    "    W, H = 400, 300\n",
    "    LEVELS = ['country', 'state', 'county', 'city']\n",
    "    RES = {'country': 3, 'state': 6, 'county': 9}\n",
    "\n",
    "    changed = True\n",
    "    w = {\n",
    "        'country': widgets.Dropdown(\n",
    "            options=[''] + geocode(level='country').get_geocodes().sort_values('found name')['found name'].to_list(),\n",
    "            value='',\n",
    "            description='Country:',\n",
    "        ),\n",
    "        'state': widgets.Dropdown(\n",
    "            options=[],\n",
    "            description='State:',\n",
    "        ),\n",
    "        'county': widgets.Dropdown(\n",
    "            options=[],\n",
    "            description='County:',\n",
    "        ),\n",
    "        'res': widgets.IntSlider(\n",
    "            value=1,\n",
    "            min=1,\n",
    "            max=15,\n",
    "            step=1,\n",
    "            description='Resolution:',\n",
    "        ),\n",
    "        'out': widgets.Output(layout=widgets.Layout(height='{0}px'.format(H + 20)))\n",
    "    }\n",
    "    q = {'type': None, 'value': None}\n",
    "\n",
    "    def clear_output(message=None):\n",
    "        w['out'].outputs = ()\n",
    "        if message:\n",
    "            w['out'].append_stdout(message)\n",
    "\n",
    "    def update_output(res_value=None):\n",
    "        nonlocal changed\n",
    "        if not q['type'] or not q['value']:\n",
    "            clear_output()\n",
    "        try:\n",
    "            b_gdf = gpd.GeoDataFrame()\n",
    "            p_gdf = gpd.GeoDataFrame()\n",
    "            for i, level in enumerate(LEVELS[:-1]):\n",
    "                if q['type'] != level or not w[level].value:\n",
    "                    continue\n",
    "                scope = None\n",
    "                for j in range(0, i):\n",
    "                    scope = geocode(level=LEVELS[j], names=w[LEVELS[j]].value, scope=scope).ignore_all_errors() # w[LEVELS[i-1]].value if i > 0 and w[LEVELS[i-1]].value else None\n",
    "                if not res_value:\n",
    "                    res_value = RES[level]\n",
    "                for j in range(i+1, len(LEVELS)-1):\n",
    "                    changed = False\n",
    "                    w[LEVELS[j]].options = []\n",
    "                if q['value'] == '':\n",
    "                    b_gdf = geocode(level=level, scope=scope).ignore_all_errors().get_boundaries(res_value)\n",
    "                else:\n",
    "                    b_gdf = geocode(level=LEVELS[i+1], scope=w[level].value).ignore_all_errors().get_boundaries(res_value)\n",
    "                    if LEVELS[i+1] in w.keys():\n",
    "                        w[LEVELS[i+1]].options = [''] + b_gdf.sort_values('found name')['found name'].to_list()\n",
    "                    if b_gdf.empty or level == 'county':\n",
    "                        geocoded_level = geocode(level=level, names=w[level].value, scope=scope)\\\n",
    "                                         .allow_ambiguous().ignore_all_errors()\n",
    "                        p_gdf = geocode(level='city', scope=geocoded_level).ignore_all_errors().get_centroids()\n",
    "                        if b_gdf.empty:\n",
    "                            b_gdf = geocoded_level.get_boundaries(res_value)\n",
    "                break\n",
    "            if not b_gdf.empty:\n",
    "                p = ggplot() + ggsize(W, H)\n",
    "                if p_gdf.empty:\n",
    "                    p += geom_map(data=b_gdf, fill='black', color='white', tooltips=layer_tooltips().line('@{found name}'))\n",
    "                else:\n",
    "                    p += geom_map(data=b_gdf, fill='black', color='white') + \\\n",
    "                         geom_point(data=p_gdf, shape=1, color='white', tooltips=layer_tooltips().line('@{found name}'))\n",
    "                w['out'].outputs = ()\n",
    "                w['out'].append_display_data(p)\n",
    "            else:\n",
    "                clear_output()\n",
    "            changed = False\n",
    "            w['res'].value = res_value\n",
    "        except:\n",
    "            clear_output('Something went wrong')\n",
    "\n",
    "    def on_change_select(change):\n",
    "        nonlocal changed\n",
    "        if change['type'] != 'change' or change['name'] != 'value':\n",
    "            return\n",
    "        if not changed:\n",
    "            changed = True\n",
    "            return\n",
    "        q['type'] = change.owner.description[:-1].lower()\n",
    "        q['value'] = change['new']\n",
    "        update_output()\n",
    "\n",
    "    def on_change_slider(change):\n",
    "        nonlocal changed\n",
    "        if change['type'] != 'change' or change['name'] != 'value':\n",
    "            return\n",
    "        if not changed:\n",
    "            changed = True\n",
    "            return\n",
    "        update_output(change['new'])\n",
    "\n",
    "    w['country'].observe(on_change_select)\n",
    "    w['state'].observe(on_change_select)\n",
    "    w['county'].observe(on_change_select)\n",
    "    w['res'].observe(on_change_slider)\n",
    "\n",
    "    return display(*w.values())\n",
    "\n",
    "display_widgets()"
   ]
  }
 ],
 "metadata": {
  "kernelspec": {
   "display_name": "Python 3",
   "language": "python",
   "name": "python3"
  },
  "language_info": {
   "codemirror_mode": {
    "name": "ipython",
    "version": 3
   },
   "file_extension": ".py",
   "mimetype": "text/x-python",
   "name": "python",
   "nbconvert_exporter": "python",
   "pygments_lexer": "ipython3",
   "version": "3.7.10"
  }
 },
 "nbformat": 4,
 "nbformat_minor": 5
}
