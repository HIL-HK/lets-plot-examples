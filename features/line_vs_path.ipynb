{
 "cells": [
  {
   "cell_type": "code",
   "execution_count": 1,
   "metadata": {},
   "outputs": [
    {
     "data": {
      "text/html": [
       "\n",
       "            <div id=\"hAMSKL\"></div>\n",
       "            <script type=\"text/javascript\" data-lets-plot-script=\"library\">\n",
       "                if(!window.letsPlotCallQueue) {\n",
       "                    window.letsPlotCallQueue = [];\n",
       "                }; \n",
       "                window.letsPlotCall = function(f) {\n",
       "                    window.letsPlotCallQueue.push(f);\n",
       "                };\n",
       "                (function() {\n",
       "                    var script = document.createElement(\"script\");\n",
       "                    script.type = \"text/javascript\";\n",
       "                    script.src = \"https://dl.bintray.com/jetbrains/lets-plot/lets-plot-1.5.4.min.js\";\n",
       "                    script.onload = function() {\n",
       "                        window.letsPlotCall = function(f) {f();};\n",
       "                        window.letsPlotCallQueue.forEach(function(f) {f();});\n",
       "                        window.letsPlotCallQueue = [];\n",
       "                        \n",
       "                    };\n",
       "                    script.onerror = function(event) {\n",
       "                        window.letsPlotCall = function(f) {};    // noop\n",
       "                        window.letsPlotCallQueue = [];\n",
       "                        var div = document.createElement(\"div\");\n",
       "                        div.style.color = 'darkred';\n",
       "                        div.textContent = 'Error loading Lets-Plot JS';\n",
       "                        document.getElementById(\"hAMSKL\").appendChild(div);\n",
       "                    };\n",
       "                    var e = document.getElementById(\"hAMSKL\");\n",
       "                    e.appendChild(script);\n",
       "                })()\n",
       "            </script>\n",
       "            "
      ]
     },
     "metadata": {},
     "output_type": "display_data"
    }
   ],
   "source": [
    "import numpy as np\n",
    "import pandas as pd\n",
    "\n",
    "from lets_plot import *\n",
    "LetsPlot.setup_html()"
   ]
  },
  {
   "cell_type": "code",
   "execution_count": 2,
   "metadata": {},
   "outputs": [
    {
     "data": {
      "text/html": [
       "<div>\n",
       "<style scoped>\n",
       "    .dataframe tbody tr th:only-of-type {\n",
       "        vertical-align: middle;\n",
       "    }\n",
       "\n",
       "    .dataframe tbody tr th {\n",
       "        vertical-align: top;\n",
       "    }\n",
       "\n",
       "    .dataframe thead th {\n",
       "        text-align: right;\n",
       "    }\n",
       "</style>\n",
       "<table border=\"1\" class=\"dataframe\">\n",
       "  <thead>\n",
       "    <tr style=\"text-align: right;\">\n",
       "      <th></th>\n",
       "      <th>x</th>\n",
       "      <th>y</th>\n",
       "    </tr>\n",
       "  </thead>\n",
       "  <tbody>\n",
       "    <tr>\n",
       "      <th>0</th>\n",
       "      <td>3.819140</td>\n",
       "      <td>-0.626884</td>\n",
       "    </tr>\n",
       "    <tr>\n",
       "      <th>1</th>\n",
       "      <td>28.015345</td>\n",
       "      <td>0.256104</td>\n",
       "    </tr>\n",
       "    <tr>\n",
       "      <th>2</th>\n",
       "      <td>7.618300</td>\n",
       "      <td>0.972355</td>\n",
       "    </tr>\n",
       "    <tr>\n",
       "      <th>3</th>\n",
       "      <td>28.857781</td>\n",
       "      <td>-0.550904</td>\n",
       "    </tr>\n",
       "    <tr>\n",
       "      <th>4</th>\n",
       "      <td>12.685260</td>\n",
       "      <td>0.118610</td>\n",
       "    </tr>\n",
       "  </tbody>\n",
       "</table>\n",
       "</div>"
      ],
      "text/plain": [
       "           x         y\n",
       "0   3.819140 -0.626884\n",
       "1  28.015345  0.256104\n",
       "2   7.618300  0.972355\n",
       "3  28.857781 -0.550904\n",
       "4  12.685260  0.118610"
      ]
     },
     "execution_count": 2,
     "metadata": {},
     "output_type": "execute_result"
    }
   ],
   "source": [
    "x = np.random.uniform(1, 50, size=40)\n",
    "\n",
    "data = pd.DataFrame({'x': x, 'y': np.sin(x)})\n",
    "data.head()"
   ]
  },
  {
   "cell_type": "markdown",
   "metadata": {},
   "source": [
    "**geom_line()** connects points in order of the variable on the x-axis."
   ]
  },
  {
   "cell_type": "code",
   "execution_count": 3,
   "metadata": {},
   "outputs": [
    {
     "data": {
      "text/html": [
       "   <div id=\"GGx8yp\"></div>\n",
       "   <script type=\"text/javascript\" data-lets-plot-script=\"plot\">\n",
       "       (function() {\n",
       "           var plotSpec={\n",
       "'data':{\n",
       "'x':[3.8191398900899234,28.015344758458372,7.6183001680491955,28.85778142112413,12.685260334059988,49.79210442047436,32.185907948238096,32.33838965517772,39.631061716667816,29.966121611944775,32.90241317721146,18.581679760141988,5.423915223153305,41.15449483208094,34.48833147120896,14.066749309344715,26.22217367199902,28.5891776248666,43.317236598789805,35.62291467038222,42.337255665138386,1.1375841000681133,17.743454170001183,47.32458805084623,4.670723085860726,31.185534418912958,46.779276225064024,14.384200599999055,20.914514909073592,40.135805008784686,19.585213886337037,28.250163844910404,6.475028070931618,2.135953999374694,20.471108271375364,25.50128016250998,15.678918570563972,3.242202016215706,16.089874168750555,23.801420613525913],\n",
       "'y':[-0.6268839325239182,0.2561035201262956,0.9723554409685727,-0.5509044117605612,0.11860983786019226,-0.4558954463126001,0.6961218942277804,0.7970914123963959,0.9354898362702192,-0.9926894649451762,0.9964480431938361,-0.2646839428220373,-0.7573661365270395,-0.3086661001242826,0.0691325319089349,0.9975217029016537,0.886364284985613,-0.30966789843631454,-0.617106780562823,-0.8749804718919636,-0.9972450940805909,0.9076219789122612,-0.8939584833335873,-0.19935361085607514,-0.9991321021869246,-0.2283592971301598,0.33783300048504555,0.9696420423664299,0.8803661639517968,0.6479572750726108,0.6710751089701934,0.024167684147931457,0.19066817509977568,0.8445041695322207,0.9987121895667429,0.3602528544970303,0.02904061389967033,-0.1004397164250409,-0.3726943771139104,-0.9714624660755456]\n",
       "},\n",
       "'mapping':{\n",
       "},\n",
       "'data_meta':{\n",
       "},\n",
       "'theme':{\n",
       "'legend_position':\"none\"\n",
       "},\n",
       "'kind':\"plot\",\n",
       "'scales':[{\n",
       "'aesthetic':\"color\",\n",
       "'discrete':true\n",
       "}],\n",
       "'layers':[{\n",
       "'geom':\"point\",\n",
       "'mapping':{\n",
       "'x':\"x\",\n",
       "'y':\"y\",\n",
       "'color':\"x\"\n",
       "},\n",
       "'data_meta':{\n",
       "},\n",
       "'alpha':0.7,\n",
       "'size':4,\n",
       "'data':{\n",
       "}\n",
       "},{\n",
       "'geom':\"line\",\n",
       "'mapping':{\n",
       "'x':\"x\",\n",
       "'y':\"y\"\n",
       "},\n",
       "'data_meta':{\n",
       "},\n",
       "'linetype':3,\n",
       "'data':{\n",
       "}\n",
       "}]\n",
       "};\n",
       "           var plotContainer = document.getElementById(\"GGx8yp\");\n",
       "           window.letsPlotCall(function() {{\n",
       "               LetsPlot.buildPlotFromProcessedSpecs(plotSpec, -1, -1, plotContainer);\n",
       "           }});\n",
       "       })();    \n",
       "   </script>"
      ],
      "text/plain": [
       "<lets_plot.plot.core.PlotSpec at 0x8e05208>"
      ]
     },
     "execution_count": 3,
     "metadata": {},
     "output_type": "execute_result"
    }
   ],
   "source": [
    "ggplot(data) + geom_point(aes(x='x', y='y', color='x'), alpha=0.7, size=4) + \\\n",
    "    scale_color_discrete() + \\\n",
    "    theme(legend_position='none') + \\\n",
    "    geom_line(aes(x='x', y='y'), linetype=3)"
   ]
  },
  {
   "cell_type": "markdown",
   "metadata": {},
   "source": [
    "**geom_path()** connects observations in the order how they appear in data."
   ]
  },
  {
   "cell_type": "code",
   "execution_count": 4,
   "metadata": {},
   "outputs": [
    {
     "data": {
      "text/html": [
       "   <div id=\"C2fF4R\"></div>\n",
       "   <script type=\"text/javascript\" data-lets-plot-script=\"plot\">\n",
       "       (function() {\n",
       "           var plotSpec={\n",
       "'data':{\n",
       "'x':[3.8191398900899234,28.015344758458372,7.6183001680491955,28.85778142112413,12.685260334059988,49.79210442047436,32.185907948238096,32.33838965517772,39.631061716667816,29.966121611944775,32.90241317721146,18.581679760141988,5.423915223153305,41.15449483208094,34.48833147120896,14.066749309344715,26.22217367199902,28.5891776248666,43.317236598789805,35.62291467038222,42.337255665138386,1.1375841000681133,17.743454170001183,47.32458805084623,4.670723085860726,31.185534418912958,46.779276225064024,14.384200599999055,20.914514909073592,40.135805008784686,19.585213886337037,28.250163844910404,6.475028070931618,2.135953999374694,20.471108271375364,25.50128016250998,15.678918570563972,3.242202016215706,16.089874168750555,23.801420613525913],\n",
       "'y':[-0.6268839325239182,0.2561035201262956,0.9723554409685727,-0.5509044117605612,0.11860983786019226,-0.4558954463126001,0.6961218942277804,0.7970914123963959,0.9354898362702192,-0.9926894649451762,0.9964480431938361,-0.2646839428220373,-0.7573661365270395,-0.3086661001242826,0.0691325319089349,0.9975217029016537,0.886364284985613,-0.30966789843631454,-0.617106780562823,-0.8749804718919636,-0.9972450940805909,0.9076219789122612,-0.8939584833335873,-0.19935361085607514,-0.9991321021869246,-0.2283592971301598,0.33783300048504555,0.9696420423664299,0.8803661639517968,0.6479572750726108,0.6710751089701934,0.024167684147931457,0.19066817509977568,0.8445041695322207,0.9987121895667429,0.3602528544970303,0.02904061389967033,-0.1004397164250409,-0.3726943771139104,-0.9714624660755456]\n",
       "},\n",
       "'mapping':{\n",
       "},\n",
       "'data_meta':{\n",
       "},\n",
       "'theme':{\n",
       "'legend_position':\"none\"\n",
       "},\n",
       "'kind':\"plot\",\n",
       "'scales':[{\n",
       "'aesthetic':\"color\",\n",
       "'discrete':true\n",
       "}],\n",
       "'layers':[{\n",
       "'geom':\"point\",\n",
       "'mapping':{\n",
       "'x':\"x\",\n",
       "'y':\"y\",\n",
       "'color':\"x\"\n",
       "},\n",
       "'data_meta':{\n",
       "},\n",
       "'alpha':0.7,\n",
       "'size':4,\n",
       "'data':{\n",
       "}\n",
       "},{\n",
       "'geom':\"path\",\n",
       "'mapping':{\n",
       "'x':\"x\",\n",
       "'y':\"y\"\n",
       "},\n",
       "'data_meta':{\n",
       "},\n",
       "'size':0.7,\n",
       "'linetype':\"dotted\",\n",
       "'data':{\n",
       "}\n",
       "}]\n",
       "};\n",
       "           var plotContainer = document.getElementById(\"C2fF4R\");\n",
       "           window.letsPlotCall(function() {{\n",
       "               LetsPlot.buildPlotFromProcessedSpecs(plotSpec, -1, -1, plotContainer);\n",
       "           }});\n",
       "       })();    \n",
       "   </script>"
      ],
      "text/plain": [
       "<lets_plot.plot.core.PlotSpec at 0x8e0ad08>"
      ]
     },
     "execution_count": 4,
     "metadata": {},
     "output_type": "execute_result"
    }
   ],
   "source": [
    "ggplot(data) + geom_point(aes(x='x', y='y', color='x'), alpha=0.7, size=4) + \\\n",
    "    scale_color_discrete() + \\\n",
    "    theme(legend_position='none') + \\\n",
    "    geom_path(aes(x='x', y='y'), size=0.7, linetype='dotted')"
   ]
  },
  {
   "cell_type": "markdown",
   "metadata": {},
   "source": [
    "Another example to demonstrate the difference between geom_path() and geom_line()."
   ]
  },
  {
   "cell_type": "code",
   "execution_count": 5,
   "metadata": {},
   "outputs": [],
   "source": [
    "a = [5, 1, 1, 5, 5, 2, 2, 4, 4, 3]\n",
    "b = [5, 5, 1, 1, 4, 4, 2, 2, 3, 3]\n",
    "\n",
    "snail = pd.DataFrame({'x': a, 'y': b})"
   ]
  },
  {
   "cell_type": "code",
   "execution_count": 6,
   "metadata": {},
   "outputs": [
    {
     "data": {
      "text/html": [
       "   <div id=\"DYGE2K\"></div>\n",
       "   <script type=\"text/javascript\" data-lets-plot-script=\"plot\">\n",
       "       (function() {\n",
       "           var plotSpec={\n",
       "'mapping':{\n",
       "},\n",
       "'data_meta':{\n",
       "},\n",
       "'kind':\"plot\",\n",
       "'scales':[],\n",
       "'layers':[{\n",
       "'geom':\"path\",\n",
       "'data':{\n",
       "'x':[5.0,1.0,1.0,5.0,5.0,2.0,2.0,4.0,4.0,3.0],\n",
       "'y':[5.0,5.0,1.0,1.0,4.0,4.0,2.0,2.0,3.0,3.0]\n",
       "},\n",
       "'mapping':{\n",
       "'x':\"x\",\n",
       "'y':\"y\"\n",
       "},\n",
       "'data_meta':{\n",
       "},\n",
       "'size':2,\n",
       "'alpha':0.7\n",
       "}]\n",
       "};\n",
       "           var plotContainer = document.getElementById(\"DYGE2K\");\n",
       "           window.letsPlotCall(function() {{\n",
       "               LetsPlot.buildPlotFromProcessedSpecs(plotSpec, -1, -1, plotContainer);\n",
       "           }});\n",
       "       })();    \n",
       "   </script>"
      ],
      "text/plain": [
       "<lets_plot.plot.core.PlotSpec at 0x9051f48>"
      ]
     },
     "execution_count": 6,
     "metadata": {},
     "output_type": "execute_result"
    }
   ],
   "source": [
    "ggplot() + geom_path(data=snail, mapping=aes(x='x', y='y'), size=2, alpha=0.7)"
   ]
  },
  {
   "cell_type": "code",
   "execution_count": 7,
   "metadata": {},
   "outputs": [
    {
     "data": {
      "text/html": [
       "   <div id=\"3gVHYm\"></div>\n",
       "   <script type=\"text/javascript\" data-lets-plot-script=\"plot\">\n",
       "       (function() {\n",
       "           var plotSpec={\n",
       "'mapping':{\n",
       "},\n",
       "'data_meta':{\n",
       "},\n",
       "'kind':\"plot\",\n",
       "'scales':[],\n",
       "'layers':[{\n",
       "'geom':\"line\",\n",
       "'data':{\n",
       "'x':[5.0,1.0,1.0,5.0,5.0,2.0,2.0,4.0,4.0,3.0],\n",
       "'y':[5.0,5.0,1.0,1.0,4.0,4.0,2.0,2.0,3.0,3.0]\n",
       "},\n",
       "'mapping':{\n",
       "'x':\"x\",\n",
       "'y':\"y\"\n",
       "},\n",
       "'data_meta':{\n",
       "},\n",
       "'size':2,\n",
       "'alpha':0.7\n",
       "}]\n",
       "};\n",
       "           var plotContainer = document.getElementById(\"3gVHYm\");\n",
       "           window.letsPlotCall(function() {{\n",
       "               LetsPlot.buildPlotFromProcessedSpecs(plotSpec, -1, -1, plotContainer);\n",
       "           }});\n",
       "       })();    \n",
       "   </script>"
      ],
      "text/plain": [
       "<lets_plot.plot.core.PlotSpec at 0x9053b08>"
      ]
     },
     "execution_count": 7,
     "metadata": {},
     "output_type": "execute_result"
    }
   ],
   "source": [
    "ggplot() + geom_line(data=snail, mapping=aes(x='x', y='y'), size=2, alpha=0.7)"
   ]
  }
 ],
 "metadata": {
  "kernelspec": {
   "display_name": "Python 3",
   "language": "python",
   "name": "python3"
  },
  "language_info": {
   "codemirror_mode": {
    "name": "ipython",
    "version": 3
   },
   "file_extension": ".py",
   "mimetype": "text/x-python",
   "name": "python",
   "nbconvert_exporter": "python",
   "pygments_lexer": "ipython3",
   "version": "3.7.8"
  }
 },
 "nbformat": 4,
 "nbformat_minor": 4
}
