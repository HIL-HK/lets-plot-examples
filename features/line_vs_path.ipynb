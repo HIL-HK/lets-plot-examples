{
 "cells": [
  {
   "cell_type": "code",
   "execution_count": 1,
   "metadata": {},
   "outputs": [
    {
     "data": {
      "text/html": [
       "\n",
       "            <div id=\"nvnbDG\"></div>\n",
       "            <script type=\"text/javascript\" data-lets-plot-script=\"library\">\n",
       "                if(!window.letsPlotCallQueue) {\n",
       "                    window.letsPlotCallQueue = [];\n",
       "                }; \n",
       "                window.letsPlotCall = function(f) {\n",
       "                    window.letsPlotCallQueue.push(f);\n",
       "                };\n",
       "                (function() {\n",
       "                    var script = document.createElement(\"script\");\n",
       "                    script.type = \"text/javascript\";\n",
       "                    script.src = \"https://dl.bintray.com/jetbrains/lets-plot/lets-plot-1.5.4.min.js\";\n",
       "                    script.onload = function() {\n",
       "                        window.letsPlotCall = function(f) {f();};\n",
       "                        window.letsPlotCallQueue.forEach(function(f) {f();});\n",
       "                        window.letsPlotCallQueue = [];\n",
       "                        \n",
       "                    };\n",
       "                    script.onerror = function(event) {\n",
       "                        window.letsPlotCall = function(f) {};    // noop\n",
       "                        window.letsPlotCallQueue = [];\n",
       "                        var div = document.createElement(\"div\");\n",
       "                        div.style.color = 'darkred';\n",
       "                        div.textContent = 'Error loading Lets-Plot JS';\n",
       "                        document.getElementById(\"nvnbDG\").appendChild(div);\n",
       "                    };\n",
       "                    var e = document.getElementById(\"nvnbDG\");\n",
       "                    e.appendChild(script);\n",
       "                })()\n",
       "            </script>\n",
       "            "
      ]
     },
     "metadata": {},
     "output_type": "display_data"
    }
   ],
   "source": [
    "import numpy as np\n",
    "import pandas as pd\n",
    "\n",
    "from lets_plot import *\n",
    "LetsPlot.setup_html()"
   ]
  },
  {
   "cell_type": "code",
   "execution_count": 2,
   "metadata": {},
   "outputs": [
    {
     "data": {
      "text/html": [
       "<div>\n",
       "<style scoped>\n",
       "    .dataframe tbody tr th:only-of-type {\n",
       "        vertical-align: middle;\n",
       "    }\n",
       "\n",
       "    .dataframe tbody tr th {\n",
       "        vertical-align: top;\n",
       "    }\n",
       "\n",
       "    .dataframe thead th {\n",
       "        text-align: right;\n",
       "    }\n",
       "</style>\n",
       "<table border=\"1\" class=\"dataframe\">\n",
       "  <thead>\n",
       "    <tr style=\"text-align: right;\">\n",
       "      <th></th>\n",
       "      <th>x</th>\n",
       "      <th>y</th>\n",
       "    </tr>\n",
       "  </thead>\n",
       "  <tbody>\n",
       "    <tr>\n",
       "      <th>0</th>\n",
       "      <td>37.377670</td>\n",
       "      <td>-0.315935</td>\n",
       "    </tr>\n",
       "    <tr>\n",
       "      <th>1</th>\n",
       "      <td>18.979356</td>\n",
       "      <td>0.129436</td>\n",
       "    </tr>\n",
       "    <tr>\n",
       "      <th>2</th>\n",
       "      <td>20.998840</td>\n",
       "      <td>0.837290</td>\n",
       "    </tr>\n",
       "    <tr>\n",
       "      <th>3</th>\n",
       "      <td>10.761996</td>\n",
       "      <td>-0.972844</td>\n",
       "    </tr>\n",
       "    <tr>\n",
       "      <th>4</th>\n",
       "      <td>2.143929</td>\n",
       "      <td>0.840207</td>\n",
       "    </tr>\n",
       "  </tbody>\n",
       "</table>\n",
       "</div>"
      ],
      "text/plain": [
       "           x         y\n",
       "0  37.377670 -0.315935\n",
       "1  18.979356  0.129436\n",
       "2  20.998840  0.837290\n",
       "3  10.761996 -0.972844\n",
       "4   2.143929  0.840207"
      ]
     },
     "execution_count": 2,
     "metadata": {},
     "output_type": "execute_result"
    }
   ],
   "source": [
    "x = np.random.uniform(1, 50, size=40)\n",
    "\n",
    "dat = pd.DataFrame({'x': x, 'y': np.sin(x)})\n",
    "dat.head()"
   ]
  },
  {
   "cell_type": "markdown",
   "metadata": {},
   "source": [
    "**geom_line()** connects points in order of the variable on the x-axis."
   ]
  },
  {
   "cell_type": "code",
   "execution_count": 3,
   "metadata": {},
   "outputs": [
    {
     "data": {
      "text/html": [
       "   <div id=\"B9dlyb\"></div>\n",
       "   <script type=\"text/javascript\" data-lets-plot-script=\"plot\">\n",
       "       (function() {\n",
       "           var plotSpec={\n",
       "'data':{\n",
       "'x':[37.37766969639422,18.979356044849887,20.99884019953293,10.761995990159964,2.1439285025819177,8.949100906999481,41.77972779098255,1.3408008264217435,1.1468919148704084,40.370687785395084,48.312366194019475,33.31040943436486,14.54567560540392,38.444765261046875,7.636202226618788,37.75850987716016,33.25667224521785,21.080069281954028,13.910236085218903,27.855673767785895,1.5106114696139525,18.760956632785756,2.439172302820308,39.51146477064224,17.029263995281166,41.312240999861196,18.62377870534859,18.052374971952045,46.68167751764338,36.60451468451752,49.10746184123411,34.5734675487401,10.332536645041154,8.813303526753506,47.41955462084144,45.999599825403905,43.76439277412166,18.239841280011557,6.1437804110174525,45.11323569251755],\n",
       "'y':[-0.3159351697357839,0.12943594992339955,0.8372903323372587,-0.9728443918565802,0.8402066257470103,0.4579404413002917,-0.8069816659932408,0.9736674208093035,0.9114899198295592,0.4529011845562033,-0.9278016252828442,0.948069298105789,0.9177142630615022,0.6784519853342715,0.9763796419384895,0.05936311294763466,0.963784396403055,0.7901656913236139,0.9743615039777312,0.4065366527899092,0.9981894381027285,-0.08848341928909792,0.6460669848626129,0.9709667901315535,-0.9690370891400332,-0.45425564776603583,-0.22386392043219402,-0.7153891917352354,0.4279399907372468,-0.888743656612783,-0.9160108670952792,-0.015947683183007953,-0.7881261598065222,0.5740753538870412,-0.2913758841505777,0.9019612220726686,-0.2161840314008661,-0.5726335432729082,-0.1389538086298591,0.9048122292496692]\n",
       "},\n",
       "'mapping':{\n",
       "},\n",
       "'data_meta':{\n",
       "},\n",
       "'theme':{\n",
       "'legend_position':\"none\"\n",
       "},\n",
       "'kind':\"plot\",\n",
       "'scales':[{\n",
       "'aesthetic':\"color\",\n",
       "'discrete':true\n",
       "}],\n",
       "'layers':[{\n",
       "'geom':\"point\",\n",
       "'mapping':{\n",
       "'x':\"x\",\n",
       "'y':\"y\",\n",
       "'color':\"x\"\n",
       "},\n",
       "'data_meta':{\n",
       "},\n",
       "'alpha':0.7,\n",
       "'size':4,\n",
       "'data':{\n",
       "}\n",
       "},{\n",
       "'geom':\"line\",\n",
       "'mapping':{\n",
       "'x':\"x\",\n",
       "'y':\"y\"\n",
       "},\n",
       "'data_meta':{\n",
       "},\n",
       "'linetype':3,\n",
       "'data':{\n",
       "}\n",
       "}]\n",
       "};\n",
       "           var plotContainer = document.getElementById(\"B9dlyb\");\n",
       "           window.letsPlotCall(function() {{\n",
       "               LetsPlot.buildPlotFromProcessedSpecs(plotSpec, -1, -1, plotContainer);\n",
       "           }});\n",
       "       })();    \n",
       "   </script>"
      ],
      "text/plain": [
       "<lets_plot.plot.core.PlotSpec at 0x8e00f48>"
      ]
     },
     "execution_count": 3,
     "metadata": {},
     "output_type": "execute_result"
    }
   ],
   "source": [
    "p1 = ggplot(dat) + geom_point(aes(x='x', y='y', color='x'), alpha=0.7, size=4) + \\\n",
    "    scale_color_discrete() + \\\n",
    "    theme(legend_position='none') + \\\n",
    "    geom_line(aes(x='x', y='y'), linetype=3)\n",
    "p1"
   ]
  },
  {
   "cell_type": "markdown",
   "metadata": {},
   "source": [
    "**geom_path()** connects observations in the order how they appear in data."
   ]
  },
  {
   "cell_type": "code",
   "execution_count": 4,
   "metadata": {},
   "outputs": [
    {
     "data": {
      "text/html": [
       "   <div id=\"Je9Ep3\"></div>\n",
       "   <script type=\"text/javascript\" data-lets-plot-script=\"plot\">\n",
       "       (function() {\n",
       "           var plotSpec={\n",
       "'data':{\n",
       "'x':[37.37766969639422,18.979356044849887,20.99884019953293,10.761995990159964,2.1439285025819177,8.949100906999481,41.77972779098255,1.3408008264217435,1.1468919148704084,40.370687785395084,48.312366194019475,33.31040943436486,14.54567560540392,38.444765261046875,7.636202226618788,37.75850987716016,33.25667224521785,21.080069281954028,13.910236085218903,27.855673767785895,1.5106114696139525,18.760956632785756,2.439172302820308,39.51146477064224,17.029263995281166,41.312240999861196,18.62377870534859,18.052374971952045,46.68167751764338,36.60451468451752,49.10746184123411,34.5734675487401,10.332536645041154,8.813303526753506,47.41955462084144,45.999599825403905,43.76439277412166,18.239841280011557,6.1437804110174525,45.11323569251755],\n",
       "'y':[-0.3159351697357839,0.12943594992339955,0.8372903323372587,-0.9728443918565802,0.8402066257470103,0.4579404413002917,-0.8069816659932408,0.9736674208093035,0.9114899198295592,0.4529011845562033,-0.9278016252828442,0.948069298105789,0.9177142630615022,0.6784519853342715,0.9763796419384895,0.05936311294763466,0.963784396403055,0.7901656913236139,0.9743615039777312,0.4065366527899092,0.9981894381027285,-0.08848341928909792,0.6460669848626129,0.9709667901315535,-0.9690370891400332,-0.45425564776603583,-0.22386392043219402,-0.7153891917352354,0.4279399907372468,-0.888743656612783,-0.9160108670952792,-0.015947683183007953,-0.7881261598065222,0.5740753538870412,-0.2913758841505777,0.9019612220726686,-0.2161840314008661,-0.5726335432729082,-0.1389538086298591,0.9048122292496692]\n",
       "},\n",
       "'mapping':{\n",
       "},\n",
       "'data_meta':{\n",
       "},\n",
       "'theme':{\n",
       "'legend_position':\"none\"\n",
       "},\n",
       "'kind':\"plot\",\n",
       "'scales':[{\n",
       "'aesthetic':\"color\",\n",
       "'discrete':true\n",
       "}],\n",
       "'layers':[{\n",
       "'geom':\"point\",\n",
       "'mapping':{\n",
       "'x':\"x\",\n",
       "'y':\"y\",\n",
       "'color':\"x\"\n",
       "},\n",
       "'data_meta':{\n",
       "},\n",
       "'alpha':0.7,\n",
       "'size':4,\n",
       "'data':{\n",
       "}\n",
       "},{\n",
       "'geom':\"path\",\n",
       "'mapping':{\n",
       "'x':\"x\",\n",
       "'y':\"y\"\n",
       "},\n",
       "'data_meta':{\n",
       "},\n",
       "'size':0.7,\n",
       "'linetype':\"dotted\",\n",
       "'data':{\n",
       "}\n",
       "}]\n",
       "};\n",
       "           var plotContainer = document.getElementById(\"Je9Ep3\");\n",
       "           window.letsPlotCall(function() {{\n",
       "               LetsPlot.buildPlotFromProcessedSpecs(plotSpec, -1, -1, plotContainer);\n",
       "           }});\n",
       "       })();    \n",
       "   </script>"
      ],
      "text/plain": [
       "<lets_plot.plot.core.PlotSpec at 0x8e0afc8>"
      ]
     },
     "execution_count": 4,
     "metadata": {},
     "output_type": "execute_result"
    }
   ],
   "source": [
    "p2 = ggplot(dat) + geom_point(aes(x='x', y='y', color='x'), alpha=0.7, size=4) + \\\n",
    "    scale_color_discrete() + \\\n",
    "    theme(legend_position='none') + \\\n",
    "    geom_path(aes(x='x', y='y'), size=0.7, linetype='dotted')\n",
    "p2"
   ]
  },
  {
   "cell_type": "markdown",
   "metadata": {},
   "source": [
    "Another example to demonstrate the difference between geom_path() and geom_line()."
   ]
  },
  {
   "cell_type": "code",
   "execution_count": 5,
   "metadata": {},
   "outputs": [],
   "source": [
    "a = [5, 1, 1, 5, 5, 2, 2, 4, 4, 3]\n",
    "b = [5, 5, 1, 1, 4, 4, 2, 2, 3, 3]\n",
    "\n",
    "snail = pd.DataFrame({'x': a, 'y': b})"
   ]
  },
  {
   "cell_type": "code",
   "execution_count": 6,
   "metadata": {},
   "outputs": [
    {
     "data": {
      "text/html": [
       "   <div id=\"u4XEHn\"></div>\n",
       "   <script type=\"text/javascript\" data-lets-plot-script=\"plot\">\n",
       "       (function() {\n",
       "           var plotSpec={\n",
       "'mapping':{\n",
       "},\n",
       "'data_meta':{\n",
       "},\n",
       "'kind':\"plot\",\n",
       "'scales':[],\n",
       "'layers':[{\n",
       "'geom':\"path\",\n",
       "'data':{\n",
       "'x':[5.0,1.0,1.0,5.0,5.0,2.0,2.0,4.0,4.0,3.0],\n",
       "'y':[5.0,5.0,1.0,1.0,4.0,4.0,2.0,2.0,3.0,3.0]\n",
       "},\n",
       "'mapping':{\n",
       "'x':\"x\",\n",
       "'y':\"y\",\n",
       "'color':\"x\"\n",
       "},\n",
       "'data_meta':{\n",
       "},\n",
       "'size':2,\n",
       "'alpha':0.7\n",
       "}]\n",
       "};\n",
       "           var plotContainer = document.getElementById(\"u4XEHn\");\n",
       "           window.letsPlotCall(function() {{\n",
       "               LetsPlot.buildPlotFromProcessedSpecs(plotSpec, -1, -1, plotContainer);\n",
       "           }});\n",
       "       })();    \n",
       "   </script>"
      ],
      "text/plain": [
       "<lets_plot.plot.core.PlotSpec at 0x8e0ee48>"
      ]
     },
     "execution_count": 6,
     "metadata": {},
     "output_type": "execute_result"
    }
   ],
   "source": [
    "p3 = ggplot() + geom_path(data=snail, mapping=aes(x='x', y='y', color='x'), size=2, alpha=0.7)\n",
    "p3"
   ]
  },
  {
   "cell_type": "code",
   "execution_count": 7,
   "metadata": {},
   "outputs": [
    {
     "data": {
      "text/html": [
       "   <div id=\"qyzw2M\"></div>\n",
       "   <script type=\"text/javascript\" data-lets-plot-script=\"plot\">\n",
       "       (function() {\n",
       "           var plotSpec={\n",
       "'mapping':{\n",
       "},\n",
       "'data_meta':{\n",
       "},\n",
       "'kind':\"plot\",\n",
       "'scales':[],\n",
       "'layers':[{\n",
       "'geom':\"line\",\n",
       "'data':{\n",
       "'x':[5.0,1.0,1.0,5.0,5.0,2.0,2.0,4.0,4.0,3.0],\n",
       "'y':[5.0,5.0,1.0,1.0,4.0,4.0,2.0,2.0,3.0,3.0]\n",
       "},\n",
       "'mapping':{\n",
       "'x':\"x\",\n",
       "'y':\"y\",\n",
       "'color':\"x\"\n",
       "},\n",
       "'data_meta':{\n",
       "},\n",
       "'size':2,\n",
       "'alpha':0.7\n",
       "}]\n",
       "};\n",
       "           var plotContainer = document.getElementById(\"qyzw2M\");\n",
       "           window.letsPlotCall(function() {{\n",
       "               LetsPlot.buildPlotFromProcessedSpecs(plotSpec, -1, -1, plotContainer);\n",
       "           }});\n",
       "       })();    \n",
       "   </script>"
      ],
      "text/plain": [
       "<lets_plot.plot.core.PlotSpec at 0x8eb4b88>"
      ]
     },
     "execution_count": 7,
     "metadata": {},
     "output_type": "execute_result"
    }
   ],
   "source": [
    "p4 = ggplot() + geom_line(data=snail, mapping=aes(x='x', y='y', color='x'), size=2, alpha=0.7)\n",
    "p4"
   ]
  }
 ],
 "metadata": {
  "kernelspec": {
   "display_name": "Python 3",
   "language": "python",
   "name": "python3"
  },
  "language_info": {
   "codemirror_mode": {
    "name": "ipython",
    "version": 3
   },
   "file_extension": ".py",
   "mimetype": "text/x-python",
   "name": "python",
   "nbconvert_exporter": "python",
   "pygments_lexer": "ipython3",
   "version": "3.7.8"
  }
 },
 "nbformat": 4,
 "nbformat_minor": 4
}
