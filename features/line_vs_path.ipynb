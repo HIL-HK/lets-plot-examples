{
 "cells": [
  {
   "cell_type": "code",
   "execution_count": 1,
   "metadata": {},
   "outputs": [
    {
     "data": {
      "text/html": [
       "\n",
       "            <div id=\"ZW9cqu\"></div>\n",
       "            <script type=\"text/javascript\" data-lets-plot-script=\"library\">\n",
       "                if(!window.letsPlotCallQueue) {\n",
       "                    window.letsPlotCallQueue = [];\n",
       "                }; \n",
       "                window.letsPlotCall = function(f) {\n",
       "                    window.letsPlotCallQueue.push(f);\n",
       "                };\n",
       "                (function() {\n",
       "                    var script = document.createElement(\"script\");\n",
       "                    script.type = \"text/javascript\";\n",
       "                    script.src = \"https://cdnjs.cloudflare.com/ajax/libs/lets-plot/2.0.2/lets-plot.min.js\";\n",
       "                    script.onload = function() {\n",
       "                        window.letsPlotCall = function(f) {f();};\n",
       "                        window.letsPlotCallQueue.forEach(function(f) {f();});\n",
       "                        window.letsPlotCallQueue = [];\n",
       "                        \n",
       "                    };\n",
       "                    script.onerror = function(event) {\n",
       "                        window.letsPlotCall = function(f) {};    // noop\n",
       "                        window.letsPlotCallQueue = [];\n",
       "                        var div = document.createElement(\"div\");\n",
       "                        div.style.color = 'darkred';\n",
       "                        div.textContent = 'Error loading Lets-Plot JS';\n",
       "                        document.getElementById(\"ZW9cqu\").appendChild(div);\n",
       "                    };\n",
       "                    var e = document.getElementById(\"ZW9cqu\");\n",
       "                    e.appendChild(script);\n",
       "                })()\n",
       "            </script>\n",
       "            "
      ]
     },
     "metadata": {},
     "output_type": "display_data"
    }
   ],
   "source": [
    "import numpy as np\n",
    "import pandas as pd\n",
    "\n",
    "from lets_plot import *\n",
    "LetsPlot.setup_html()"
   ]
  },
  {
   "cell_type": "code",
   "execution_count": 2,
   "metadata": {},
   "outputs": [
    {
     "data": {
      "text/html": [
       "<div>\n",
       "<style scoped>\n",
       "    .dataframe tbody tr th:only-of-type {\n",
       "        vertical-align: middle;\n",
       "    }\n",
       "\n",
       "    .dataframe tbody tr th {\n",
       "        vertical-align: top;\n",
       "    }\n",
       "\n",
       "    .dataframe thead th {\n",
       "        text-align: right;\n",
       "    }\n",
       "</style>\n",
       "<table border=\"1\" class=\"dataframe\">\n",
       "  <thead>\n",
       "    <tr style=\"text-align: right;\">\n",
       "      <th></th>\n",
       "      <th>x</th>\n",
       "      <th>y</th>\n",
       "    </tr>\n",
       "  </thead>\n",
       "  <tbody>\n",
       "    <tr>\n",
       "      <th>0</th>\n",
       "      <td>39.315440</td>\n",
       "      <td>0.998964</td>\n",
       "    </tr>\n",
       "    <tr>\n",
       "      <th>1</th>\n",
       "      <td>10.870633</td>\n",
       "      <td>-0.992205</td>\n",
       "    </tr>\n",
       "    <tr>\n",
       "      <th>2</th>\n",
       "      <td>27.960121</td>\n",
       "      <td>0.309068</td>\n",
       "    </tr>\n",
       "    <tr>\n",
       "      <th>3</th>\n",
       "      <td>18.775964</td>\n",
       "      <td>-0.073526</td>\n",
       "    </tr>\n",
       "    <tr>\n",
       "      <th>4</th>\n",
       "      <td>1.454647</td>\n",
       "      <td>0.993262</td>\n",
       "    </tr>\n",
       "  </tbody>\n",
       "</table>\n",
       "</div>"
      ],
      "text/plain": [
       "           x         y\n",
       "0  39.315440  0.998964\n",
       "1  10.870633 -0.992205\n",
       "2  27.960121  0.309068\n",
       "3  18.775964 -0.073526\n",
       "4   1.454647  0.993262"
      ]
     },
     "execution_count": 2,
     "metadata": {},
     "output_type": "execute_result"
    }
   ],
   "source": [
    "x = np.random.uniform(1, 50, size=40)\n",
    "\n",
    "data = pd.DataFrame({'x': x, 'y': np.sin(x)})\n",
    "data.head()"
   ]
  },
  {
   "cell_type": "markdown",
   "metadata": {},
   "source": [
    "**geom_line()** connects points in order of the variable on the x-axis."
   ]
  },
  {
   "cell_type": "code",
   "execution_count": 3,
   "metadata": {},
   "outputs": [
    {
     "data": {
      "text/html": [
       "   <div id=\"h9Vr6N\"></div>\n",
       "   <script type=\"text/javascript\" data-lets-plot-script=\"plot\">\n",
       "       (function() {\n",
       "           var plotSpec={\n",
       "'data':{\n",
       "'x':[39.31544036635495,10.870632934214797,27.96012085990843,18.7759635124215,1.4546471818576638,18.283921650119982,38.251015436942446,20.369772452066,43.489337783413895,6.554937727450316,49.61144085041661,26.14486547085311,28.140586408962264,43.985805855643676,35.99943302660124,22.343887196204392,30.843915014329397,48.30729755042485,38.93327238907801,41.21520301259934,31.668422453316243,35.877518680095015,3.666386585512938,41.8300161483433,38.00992603031167,5.066242869721276,45.293447015178685,42.745130336521655,33.81620314070863,46.2251068298755,48.273836709280985,24.053118894200146,34.131168868716244,3.2379521268898253,41.95842511335757,36.54750810129886,13.270689075185194,49.16101008386103,20.908581543155712,38.784033219300824],\n",
       "'y':[0.9989635886159922,-0.9922049772785454,0.30906811991230515,-0.0735259996179459,0.9932622678614401,-0.5359514066861883,0.5243091413778074,0.9987211147889935,-0.4732349701318061,0.26841995791659395,-0.6083989121171691,0.8479597340992406,0.1333490754287506,0.00350869818728849,-0.9917061420309436,-0.3454691042754153,-0.5413244578276708,-0.9258987365643984,0.9438712520623438,-0.36580584830183466,0.24982151151990328,-0.9687149736993736,-0.501034678392785,-0.8356480908200773,0.30583391308122015,-0.9380442499243109,0.9664808055151847,-0.9448599964335124,0.6752591880647362,0.7825698141900357,-0.9127422505106206,-0.8817797395380805,0.4135505999884789,-0.0962104238508537,-0.8991050174654213,-0.9134178745461441,0.6475146109634704,-0.893227091600209,0.8831648146402442,0.8842667012636465]\n",
       "},\n",
       "'mapping':{\n",
       "},\n",
       "'data_meta':{\n",
       "},\n",
       "'theme':{\n",
       "'legend_position':\"none\"\n",
       "},\n",
       "'kind':\"plot\",\n",
       "'scales':[{\n",
       "'aesthetic':\"color\",\n",
       "'discrete':true\n",
       "}],\n",
       "'layers':[{\n",
       "'geom':\"point\",\n",
       "'mapping':{\n",
       "'x':\"x\",\n",
       "'y':\"y\",\n",
       "'color':\"x\"\n",
       "},\n",
       "'data_meta':{\n",
       "},\n",
       "'alpha':0.7,\n",
       "'size':4,\n",
       "'data':{\n",
       "}\n",
       "},{\n",
       "'geom':\"line\",\n",
       "'mapping':{\n",
       "'x':\"x\",\n",
       "'y':\"y\"\n",
       "},\n",
       "'data_meta':{\n",
       "},\n",
       "'linetype':3,\n",
       "'data':{\n",
       "}\n",
       "}]\n",
       "};\n",
       "           var plotContainer = document.getElementById(\"h9Vr6N\");\n",
       "           window.letsPlotCall(function() {{\n",
       "               LetsPlot.buildPlotFromProcessedSpecs(plotSpec, -1, -1, plotContainer);\n",
       "           }});\n",
       "       })();    \n",
       "   </script>"
      ],
      "text/plain": [
       "<lets_plot.plot.core.PlotSpec at 0x3df0ac0>"
      ]
     },
     "execution_count": 3,
     "metadata": {},
     "output_type": "execute_result"
    }
   ],
   "source": [
    "ggplot(data) + geom_point(aes(x='x', y='y', color='x'), alpha=0.7, size=4) + \\\n",
    "    scale_color_discrete() + \\\n",
    "    theme(legend_position='none') + \\\n",
    "    geom_line(aes(x='x', y='y'), linetype=3)"
   ]
  },
  {
   "cell_type": "markdown",
   "metadata": {},
   "source": [
    "**geom_path()** connects observations in the order how they appear in data."
   ]
  },
  {
   "cell_type": "code",
   "execution_count": 4,
   "metadata": {},
   "outputs": [
    {
     "data": {
      "text/html": [
       "   <div id=\"yUpGYM\"></div>\n",
       "   <script type=\"text/javascript\" data-lets-plot-script=\"plot\">\n",
       "       (function() {\n",
       "           var plotSpec={\n",
       "'data':{\n",
       "'x':[39.31544036635495,10.870632934214797,27.96012085990843,18.7759635124215,1.4546471818576638,18.283921650119982,38.251015436942446,20.369772452066,43.489337783413895,6.554937727450316,49.61144085041661,26.14486547085311,28.140586408962264,43.985805855643676,35.99943302660124,22.343887196204392,30.843915014329397,48.30729755042485,38.93327238907801,41.21520301259934,31.668422453316243,35.877518680095015,3.666386585512938,41.8300161483433,38.00992603031167,5.066242869721276,45.293447015178685,42.745130336521655,33.81620314070863,46.2251068298755,48.273836709280985,24.053118894200146,34.131168868716244,3.2379521268898253,41.95842511335757,36.54750810129886,13.270689075185194,49.16101008386103,20.908581543155712,38.784033219300824],\n",
       "'y':[0.9989635886159922,-0.9922049772785454,0.30906811991230515,-0.0735259996179459,0.9932622678614401,-0.5359514066861883,0.5243091413778074,0.9987211147889935,-0.4732349701318061,0.26841995791659395,-0.6083989121171691,0.8479597340992406,0.1333490754287506,0.00350869818728849,-0.9917061420309436,-0.3454691042754153,-0.5413244578276708,-0.9258987365643984,0.9438712520623438,-0.36580584830183466,0.24982151151990328,-0.9687149736993736,-0.501034678392785,-0.8356480908200773,0.30583391308122015,-0.9380442499243109,0.9664808055151847,-0.9448599964335124,0.6752591880647362,0.7825698141900357,-0.9127422505106206,-0.8817797395380805,0.4135505999884789,-0.0962104238508537,-0.8991050174654213,-0.9134178745461441,0.6475146109634704,-0.893227091600209,0.8831648146402442,0.8842667012636465]\n",
       "},\n",
       "'mapping':{\n",
       "},\n",
       "'data_meta':{\n",
       "},\n",
       "'theme':{\n",
       "'legend_position':\"none\"\n",
       "},\n",
       "'kind':\"plot\",\n",
       "'scales':[{\n",
       "'aesthetic':\"color\",\n",
       "'discrete':true\n",
       "}],\n",
       "'layers':[{\n",
       "'geom':\"point\",\n",
       "'mapping':{\n",
       "'x':\"x\",\n",
       "'y':\"y\",\n",
       "'color':\"x\"\n",
       "},\n",
       "'data_meta':{\n",
       "},\n",
       "'alpha':0.7,\n",
       "'size':4,\n",
       "'data':{\n",
       "}\n",
       "},{\n",
       "'geom':\"path\",\n",
       "'mapping':{\n",
       "'x':\"x\",\n",
       "'y':\"y\"\n",
       "},\n",
       "'data_meta':{\n",
       "},\n",
       "'size':0.7,\n",
       "'linetype':\"dotted\",\n",
       "'data':{\n",
       "}\n",
       "}]\n",
       "};\n",
       "           var plotContainer = document.getElementById(\"yUpGYM\");\n",
       "           window.letsPlotCall(function() {{\n",
       "               LetsPlot.buildPlotFromProcessedSpecs(plotSpec, -1, -1, plotContainer);\n",
       "           }});\n",
       "       })();    \n",
       "   </script>"
      ],
      "text/plain": [
       "<lets_plot.plot.core.PlotSpec at 0x98d4f70>"
      ]
     },
     "execution_count": 4,
     "metadata": {},
     "output_type": "execute_result"
    }
   ],
   "source": [
    "ggplot(data) + geom_point(aes(x='x', y='y', color='x'), alpha=0.7, size=4) + \\\n",
    "    scale_color_discrete() + \\\n",
    "    theme(legend_position='none') + \\\n",
    "    geom_path(aes(x='x', y='y'), size=0.7, linetype='dotted')"
   ]
  },
  {
   "cell_type": "markdown",
   "metadata": {},
   "source": [
    "Another example to demonstrate the difference between geom_path() and geom_line()."
   ]
  },
  {
   "cell_type": "code",
   "execution_count": 5,
   "metadata": {},
   "outputs": [],
   "source": [
    "a = [5, 1, 1, 5, 5, 2, 2, 4, 4, 3]\n",
    "b = [5, 5, 1, 1, 4, 4, 2, 2, 3, 3]\n",
    "\n",
    "snail = pd.DataFrame({'x': a, 'y': b})"
   ]
  },
  {
   "cell_type": "code",
   "execution_count": 6,
   "metadata": {},
   "outputs": [
    {
     "data": {
      "text/html": [
       "   <div id=\"FeEvVs\"></div>\n",
       "   <script type=\"text/javascript\" data-lets-plot-script=\"plot\">\n",
       "       (function() {\n",
       "           var plotSpec={\n",
       "'mapping':{\n",
       "},\n",
       "'data_meta':{\n",
       "},\n",
       "'kind':\"plot\",\n",
       "'scales':[],\n",
       "'layers':[{\n",
       "'geom':\"path\",\n",
       "'data':{\n",
       "'x':[5.0,1.0,1.0,5.0,5.0,2.0,2.0,4.0,4.0,3.0],\n",
       "'y':[5.0,5.0,1.0,1.0,4.0,4.0,2.0,2.0,3.0,3.0]\n",
       "},\n",
       "'mapping':{\n",
       "'x':\"x\",\n",
       "'y':\"y\"\n",
       "},\n",
       "'data_meta':{\n",
       "},\n",
       "'size':2,\n",
       "'alpha':0.7\n",
       "}]\n",
       "};\n",
       "           var plotContainer = document.getElementById(\"FeEvVs\");\n",
       "           window.letsPlotCall(function() {{\n",
       "               LetsPlot.buildPlotFromProcessedSpecs(plotSpec, -1, -1, plotContainer);\n",
       "           }});\n",
       "       })();    \n",
       "   </script>"
      ],
      "text/plain": [
       "<lets_plot.plot.core.PlotSpec at 0x98d44f0>"
      ]
     },
     "execution_count": 6,
     "metadata": {},
     "output_type": "execute_result"
    }
   ],
   "source": [
    "ggplot() + geom_path(data=snail, mapping=aes(x='x', y='y'), size=2, alpha=0.7)"
   ]
  },
  {
   "cell_type": "code",
   "execution_count": 7,
   "metadata": {},
   "outputs": [
    {
     "data": {
      "text/html": [
       "   <div id=\"N4bEL1\"></div>\n",
       "   <script type=\"text/javascript\" data-lets-plot-script=\"plot\">\n",
       "       (function() {\n",
       "           var plotSpec={\n",
       "'mapping':{\n",
       "},\n",
       "'data_meta':{\n",
       "},\n",
       "'kind':\"plot\",\n",
       "'scales':[],\n",
       "'layers':[{\n",
       "'geom':\"line\",\n",
       "'data':{\n",
       "'x':[5.0,1.0,1.0,5.0,5.0,2.0,2.0,4.0,4.0,3.0],\n",
       "'y':[5.0,5.0,1.0,1.0,4.0,4.0,2.0,2.0,3.0,3.0]\n",
       "},\n",
       "'mapping':{\n",
       "'x':\"x\",\n",
       "'y':\"y\"\n",
       "},\n",
       "'data_meta':{\n",
       "},\n",
       "'size':2,\n",
       "'alpha':0.7\n",
       "}]\n",
       "};\n",
       "           var plotContainer = document.getElementById(\"N4bEL1\");\n",
       "           window.letsPlotCall(function() {{\n",
       "               LetsPlot.buildPlotFromProcessedSpecs(plotSpec, -1, -1, plotContainer);\n",
       "           }});\n",
       "       })();    \n",
       "   </script>"
      ],
      "text/plain": [
       "<lets_plot.plot.core.PlotSpec at 0x98d4d00>"
      ]
     },
     "execution_count": 7,
     "metadata": {},
     "output_type": "execute_result"
    }
   ],
   "source": [
    "ggplot() + geom_line(data=snail, mapping=aes(x='x', y='y'), size=2, alpha=0.7)"
   ]
  }
 ],
 "metadata": {
  "kernelspec": {
   "display_name": "Python 3",
   "language": "python",
   "name": "python3"
  },
  "language_info": {
   "codemirror_mode": {
    "name": "ipython",
    "version": 3
   },
   "file_extension": ".py",
   "mimetype": "text/x-python",
   "name": "python",
   "nbconvert_exporter": "python",
   "pygments_lexer": "ipython3",
   "version": "3.8.10"
  }
 },
 "nbformat": 4,
 "nbformat_minor": 4
}
