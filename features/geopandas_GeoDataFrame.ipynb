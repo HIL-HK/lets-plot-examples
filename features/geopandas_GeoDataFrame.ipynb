{
 "cells": [
  {
   "cell_type": "markdown",
   "metadata": {},
   "source": [
    "# Geopandas and GeoDataFrame"
   ]
  },
  {
   "cell_type": "code",
   "execution_count": 1,
   "metadata": {},
   "outputs": [
    {
     "data": {
      "text/html": [
       "\n",
       "            <div id=\"uYhEKV\"></div>\n",
       "            <script type=\"text/javascript\" data-lets-plot-script=\"library\">\n",
       "                if(!window.letsPlotCallQueue) {\n",
       "                    window.letsPlotCallQueue = [];\n",
       "                }; \n",
       "                window.letsPlotCall = function(f) {\n",
       "                    window.letsPlotCallQueue.push(f);\n",
       "                };\n",
       "                (function() {\n",
       "                    var script = document.createElement(\"script\");\n",
       "                    script.type = \"text/javascript\";\n",
       "                    script.src = \"https://dl.bintray.com/jetbrains/lets-plot/lets-plot-1.5.6.min.js\";\n",
       "                    script.onload = function() {\n",
       "                        window.letsPlotCall = function(f) {f();};\n",
       "                        window.letsPlotCallQueue.forEach(function(f) {f();});\n",
       "                        window.letsPlotCallQueue = [];\n",
       "                        \n",
       "                    };\n",
       "                    script.onerror = function(event) {\n",
       "                        window.letsPlotCall = function(f) {};    // noop\n",
       "                        window.letsPlotCallQueue = [];\n",
       "                        var div = document.createElement(\"div\");\n",
       "                        div.style.color = 'darkred';\n",
       "                        div.textContent = 'Error loading Lets-Plot JS';\n",
       "                        document.getElementById(\"uYhEKV\").appendChild(div);\n",
       "                    };\n",
       "                    var e = document.getElementById(\"uYhEKV\");\n",
       "                    e.appendChild(script);\n",
       "                })()\n",
       "            </script>\n",
       "            "
      ]
     },
     "metadata": {},
     "output_type": "display_data"
    }
   ],
   "source": [
    "import pandas as pd\n",
    "from geopandas import GeoDataFrame\n",
    "from shapely.geometry import MultiPolygon, Polygon, LinearRing, Point, MultiPoint, LineString, MultiLineString, mapping\n",
    "\n",
    "from lets_plot import *\n",
    "LetsPlot.setup_html()"
   ]
  },
  {
   "cell_type": "markdown",
   "metadata": {},
   "source": [
    "### Let's draw GeoDataFrame on plot"
   ]
  },
  {
   "cell_type": "code",
   "execution_count": 2,
   "metadata": {},
   "outputs": [],
   "source": [
    "POINT = Point(-5, 17)\n",
    "\n",
    "MULTI_POINT = MultiPoint([Point(3, 15), Point(6, 13)])\n",
    "\n",
    "LINE = LineString([(0, 0), (5, 5)])\n",
    "\n",
    "MULTI_LINE = MultiLineString([\n",
    "    LineString([(10, 0), (15, 5)]),\n",
    "    LineString([(10, 5), (15, 0)])\n",
    "])\n",
    "\n",
    "POLYGON = Polygon(\n",
    "    LinearRing([(1, 1), (1, 9), (9, 9), (9, 1)]),\n",
    "    [LinearRing([(2, 2), (3, 2), (3, 3), (2, 3)]),\n",
    "     LinearRing([(4, 4), (6, 4), (6, 6), (4, 6)])]\n",
    ")\n",
    "\n",
    "MULTIPOLYGON = MultiPolygon([\n",
    "    Polygon(LinearRing([(11, 12), (13, 14), (15, 13), (7, 4)])),\n",
    "    Polygon(LinearRing([(10, 2), (13, 10), (12, 3)]))\n",
    "])"
   ]
  },
  {
   "cell_type": "code",
   "execution_count": 3,
   "metadata": {},
   "outputs": [],
   "source": [
    "gdf = GeoDataFrame(\n",
    "    data={\n",
    "        'key': ['A', 'B', 'C', 'A', 'B', 'C'],\n",
    "        'kind': ['Point', 'MPoint', 'Line', 'MLine', 'Polygon', 'MPolygon'],\n",
    "        'coord': [POINT, MULTI_POINT, LINE, MULTI_LINE, POLYGON, MULTIPOLYGON]\n",
    "    },\n",
    "    geometry='coord'\n",
    ")"
   ]
  },
  {
   "cell_type": "markdown",
   "metadata": {},
   "source": [
    "### Geom kinds that support GeoDataFrame"
   ]
  },
  {
   "cell_type": "markdown",
   "metadata": {},
   "source": [
    "#### geom_polygon()\n",
    "GeoDataFrame is supported natively in the 'data' parameter. Geometries of shapes Polygon and MultiPolygon are automatically taken from GeoDataFrame for geom_polygon()."
   ]
  },
  {
   "cell_type": "code",
   "execution_count": 4,
   "metadata": {},
   "outputs": [
    {
     "data": {
      "text/html": [
       "   <div id=\"9IZgAj\"></div>\n",
       "   <script type=\"text/javascript\" data-lets-plot-script=\"plot\">\n",
       "       (function() {\n",
       "           var plotSpec={\n",
       "'mapping':{\n",
       "},\n",
       "'data_meta':{\n",
       "},\n",
       "'kind':\"plot\",\n",
       "'scales':[],\n",
       "'layers':[{\n",
       "'geom':\"polygon\",\n",
       "'data':{\n",
       "'kind':[\"Point\",\"MPoint\",\"Line\",\"MLine\",\"Polygon\",\"MPolygon\"],\n",
       "'coord':[\"{\\\"type\\\": \\\"Point\\\", \\\"coordinates\\\": [-5.0, 17.0]}\",\"{\\\"type\\\": \\\"MultiPoint\\\", \\\"coordinates\\\": [[3.0, 15.0], [6.0, 13.0]]}\",\"{\\\"type\\\": \\\"LineString\\\", \\\"coordinates\\\": [[0.0, 0.0], [5.0, 5.0]]}\",\"{\\\"type\\\": \\\"MultiLineString\\\", \\\"coordinates\\\": [[[10.0, 0.0], [15.0, 5.0]], [[10.0, 5.0], [15.0, 0.0]]]}\",\"{\\\"type\\\": \\\"Polygon\\\", \\\"coordinates\\\": [[[1.0, 1.0], [1.0, 9.0], [9.0, 9.0], [9.0, 1.0], [1.0, 1.0]], [[2.0, 2.0], [3.0, 2.0], [3.0, 3.0], [2.0, 3.0], [2.0, 2.0]], [[4.0, 4.0], [6.0, 4.0], [6.0, 6.0], [4.0, 6.0], [4.0, 4.0]]]}\",\"{\\\"type\\\": \\\"MultiPolygon\\\", \\\"coordinates\\\": [[[[11.0, 12.0], [13.0, 14.0], [15.0, 13.0], [7.0, 4.0], [11.0, 12.0]]], [[[10.0, 2.0], [13.0, 10.0], [12.0, 3.0], [10.0, 2.0]]]]}\"]\n",
       "},\n",
       "'mapping':{\n",
       "'fill':\"kind\"\n",
       "},\n",
       "'data_meta':{\n",
       "'geodataframe':{\n",
       "'geometry':\"coord\"\n",
       "}\n",
       "}\n",
       "}]\n",
       "};\n",
       "           var plotContainer = document.getElementById(\"9IZgAj\");\n",
       "           window.letsPlotCall(function() {{\n",
       "               LetsPlot.buildPlotFromProcessedSpecs(plotSpec, -1, -1, plotContainer);\n",
       "           }});\n",
       "       })();    \n",
       "   </script>"
      ],
      "text/plain": [
       "<lets_plot.plot.core.PlotSpec at 0x90b4d48>"
      ]
     },
     "execution_count": 4,
     "metadata": {},
     "output_type": "execute_result"
    }
   ],
   "source": [
    "ggplot() + geom_polygon(aes(fill='kind'), data=gdf)"
   ]
  },
  {
   "cell_type": "markdown",
   "metadata": {},
   "source": [
    "GeoDataFrame can be used in the 'map' parameter (without 'data' specified). Geometries of shapes Polygon and MultiPolygon are automatically taken from GeoDataFrame for geom_polygon()."
   ]
  },
  {
   "cell_type": "code",
   "execution_count": 5,
   "metadata": {},
   "outputs": [
    {
     "data": {
      "text/html": [
       "   <div id=\"QXPv3E\"></div>\n",
       "   <script type=\"text/javascript\" data-lets-plot-script=\"plot\">\n",
       "       (function() {\n",
       "           var plotSpec={\n",
       "'mapping':{\n",
       "},\n",
       "'data_meta':{\n",
       "},\n",
       "'kind':\"plot\",\n",
       "'scales':[],\n",
       "'layers':[{\n",
       "'geom':\"polygon\",\n",
       "'mapping':{\n",
       "},\n",
       "'data_meta':{\n",
       "},\n",
       "'map_data_meta':{\n",
       "'geodataframe':{\n",
       "'geometry':\"coord\"\n",
       "}\n",
       "},\n",
       "'map':{\n",
       "'key':[\"A\",\"B\",\"C\",\"A\",\"B\",\"C\"],\n",
       "'kind':[\"Point\",\"MPoint\",\"Line\",\"MLine\",\"Polygon\",\"MPolygon\"],\n",
       "'coord':[\"{\\\"type\\\": \\\"Point\\\", \\\"coordinates\\\": [-5.0, 17.0]}\",\"{\\\"type\\\": \\\"MultiPoint\\\", \\\"coordinates\\\": [[3.0, 15.0], [6.0, 13.0]]}\",\"{\\\"type\\\": \\\"LineString\\\", \\\"coordinates\\\": [[0.0, 0.0], [5.0, 5.0]]}\",\"{\\\"type\\\": \\\"MultiLineString\\\", \\\"coordinates\\\": [[[10.0, 0.0], [15.0, 5.0]], [[10.0, 5.0], [15.0, 0.0]]]}\",\"{\\\"type\\\": \\\"Polygon\\\", \\\"coordinates\\\": [[[1.0, 1.0], [1.0, 9.0], [9.0, 9.0], [9.0, 1.0], [1.0, 1.0]], [[2.0, 2.0], [3.0, 2.0], [3.0, 3.0], [2.0, 3.0], [2.0, 2.0]], [[4.0, 4.0], [6.0, 4.0], [6.0, 6.0], [4.0, 6.0], [4.0, 4.0]]]}\",\"{\\\"type\\\": \\\"MultiPolygon\\\", \\\"coordinates\\\": [[[[11.0, 12.0], [13.0, 14.0], [15.0, 13.0], [7.0, 4.0], [11.0, 12.0]]], [[[10.0, 2.0], [13.0, 10.0], [12.0, 3.0], [10.0, 2.0]]]]}\"]\n",
       "},\n",
       "'data':{\n",
       "}\n",
       "}]\n",
       "};\n",
       "           var plotContainer = document.getElementById(\"QXPv3E\");\n",
       "           window.letsPlotCall(function() {{\n",
       "               LetsPlot.buildPlotFromProcessedSpecs(plotSpec, -1, -1, plotContainer);\n",
       "           }});\n",
       "       })();    \n",
       "   </script>"
      ],
      "text/plain": [
       "<lets_plot.plot.core.PlotSpec at 0x90a8bc8>"
      ]
     },
     "execution_count": 5,
     "metadata": {},
     "output_type": "execute_result"
    }
   ],
   "source": [
    "ggplot() + geom_polygon(map=gdf)"
   ]
  },
  {
   "cell_type": "markdown",
   "metadata": {},
   "source": [
    "The data specified in the 'data' and geometries from the 'map' can be joined by a key value from 'map_id' aesthetic."
   ]
  },
  {
   "cell_type": "code",
   "execution_count": 6,
   "metadata": {},
   "outputs": [],
   "source": [
    "df = pd.DataFrame({\n",
    "    'name': ['A', 'B', 'C'],\n",
    "    'value': [42, 23, 87],\n",
    "})"
   ]
  },
  {
   "cell_type": "code",
   "execution_count": 7,
   "metadata": {},
   "outputs": [
    {
     "data": {
      "text/html": [
       "   <div id=\"tLlH1o\"></div>\n",
       "   <script type=\"text/javascript\" data-lets-plot-script=\"plot\">\n",
       "       (function() {\n",
       "           var plotSpec={\n",
       "'mapping':{\n",
       "},\n",
       "'data_meta':{\n",
       "},\n",
       "'kind':\"plot\",\n",
       "'scales':[],\n",
       "'layers':[{\n",
       "'geom':\"polygon\",\n",
       "'data':{\n",
       "'name':[\"A\",\"B\",\"C\"],\n",
       "'value':[42.0,23.0,87.0]\n",
       "},\n",
       "'mapping':{\n",
       "'fill':\"value\"\n",
       "},\n",
       "'data_meta':{\n",
       "},\n",
       "'map_data_meta':{\n",
       "'geodataframe':{\n",
       "'geometry':\"coord\"\n",
       "}\n",
       "},\n",
       "'map':{\n",
       "'key':[\"A\",\"B\",\"C\",\"A\",\"B\",\"C\"],\n",
       "'kind':[\"Point\",\"MPoint\",\"Line\",\"MLine\",\"Polygon\",\"MPolygon\"],\n",
       "'coord':[\"{\\\"type\\\": \\\"Point\\\", \\\"coordinates\\\": [-5.0, 17.0]}\",\"{\\\"type\\\": \\\"MultiPoint\\\", \\\"coordinates\\\": [[3.0, 15.0], [6.0, 13.0]]}\",\"{\\\"type\\\": \\\"LineString\\\", \\\"coordinates\\\": [[0.0, 0.0], [5.0, 5.0]]}\",\"{\\\"type\\\": \\\"MultiLineString\\\", \\\"coordinates\\\": [[[10.0, 0.0], [15.0, 5.0]], [[10.0, 5.0], [15.0, 0.0]]]}\",\"{\\\"type\\\": \\\"Polygon\\\", \\\"coordinates\\\": [[[1.0, 1.0], [1.0, 9.0], [9.0, 9.0], [9.0, 1.0], [1.0, 1.0]], [[2.0, 2.0], [3.0, 2.0], [3.0, 3.0], [2.0, 3.0], [2.0, 2.0]], [[4.0, 4.0], [6.0, 4.0], [6.0, 6.0], [4.0, 6.0], [4.0, 4.0]]]}\",\"{\\\"type\\\": \\\"MultiPolygon\\\", \\\"coordinates\\\": [[[[11.0, 12.0], [13.0, 14.0], [15.0, 13.0], [7.0, 4.0], [11.0, 12.0]]], [[[10.0, 2.0], [13.0, 10.0], [12.0, 3.0], [10.0, 2.0]]]]}\"]\n",
       "},\n",
       "'map_join':[\"name\",\"key\"]\n",
       "}]\n",
       "};\n",
       "           var plotContainer = document.getElementById(\"tLlH1o\");\n",
       "           window.letsPlotCall(function() {{\n",
       "               LetsPlot.buildPlotFromProcessedSpecs(plotSpec, -1, -1, plotContainer);\n",
       "           }});\n",
       "       })();    \n",
       "   </script>"
      ],
      "text/plain": [
       "<lets_plot.plot.core.PlotSpec at 0x90bc708>"
      ]
     },
     "execution_count": 7,
     "metadata": {},
     "output_type": "execute_result"
    }
   ],
   "source": [
    "ggplot() + geom_polygon(aes(fill='value'), data=df, map=gdf, map_join=['name', 'key'])"
   ]
  },
  {
   "cell_type": "markdown",
   "metadata": {},
   "source": [
    "#### geom_point() and geom_text()\n",
    "\n",
    "GeoDataFrame is supported natively in the 'data' parameter for geom_point() and geom_text(). Geometries of shapes Point and MultiPoint are automatically taken from GeoDataFrame. \n"
   ]
  },
  {
   "cell_type": "code",
   "execution_count": 8,
   "metadata": {},
   "outputs": [
    {
     "data": {
      "text/html": [
       "   <div id=\"6yhSPC\"></div>\n",
       "   <script type=\"text/javascript\" data-lets-plot-script=\"plot\">\n",
       "       (function() {\n",
       "           var plotSpec={\n",
       "'mapping':{\n",
       "},\n",
       "'data_meta':{\n",
       "},\n",
       "'kind':\"plot\",\n",
       "'scales':[],\n",
       "'layers':[{\n",
       "'geom':\"point\",\n",
       "'data':{\n",
       "'kind':[\"Point\",\"MPoint\",\"Line\",\"MLine\",\"Polygon\",\"MPolygon\"],\n",
       "'coord':[\"{\\\"type\\\": \\\"Point\\\", \\\"coordinates\\\": [-5.0, 17.0]}\",\"{\\\"type\\\": \\\"MultiPoint\\\", \\\"coordinates\\\": [[3.0, 15.0], [6.0, 13.0]]}\",\"{\\\"type\\\": \\\"LineString\\\", \\\"coordinates\\\": [[0.0, 0.0], [5.0, 5.0]]}\",\"{\\\"type\\\": \\\"MultiLineString\\\", \\\"coordinates\\\": [[[10.0, 0.0], [15.0, 5.0]], [[10.0, 5.0], [15.0, 0.0]]]}\",\"{\\\"type\\\": \\\"Polygon\\\", \\\"coordinates\\\": [[[1.0, 1.0], [1.0, 9.0], [9.0, 9.0], [9.0, 1.0], [1.0, 1.0]], [[2.0, 2.0], [3.0, 2.0], [3.0, 3.0], [2.0, 3.0], [2.0, 2.0]], [[4.0, 4.0], [6.0, 4.0], [6.0, 6.0], [4.0, 6.0], [4.0, 4.0]]]}\",\"{\\\"type\\\": \\\"MultiPolygon\\\", \\\"coordinates\\\": [[[[11.0, 12.0], [13.0, 14.0], [15.0, 13.0], [7.0, 4.0], [11.0, 12.0]]], [[[10.0, 2.0], [13.0, 10.0], [12.0, 3.0], [10.0, 2.0]]]]}\"]\n",
       "},\n",
       "'mapping':{\n",
       "'color':\"kind\"\n",
       "},\n",
       "'data_meta':{\n",
       "'geodataframe':{\n",
       "'geometry':\"coord\"\n",
       "}\n",
       "},\n",
       "'size':10\n",
       "},{\n",
       "'geom':\"text\",\n",
       "'data':{\n",
       "'kind':[\"Point\",\"MPoint\",\"Line\",\"MLine\",\"Polygon\",\"MPolygon\"],\n",
       "'coord':[\"{\\\"type\\\": \\\"Point\\\", \\\"coordinates\\\": [-5.0, 17.0]}\",\"{\\\"type\\\": \\\"MultiPoint\\\", \\\"coordinates\\\": [[3.0, 15.0], [6.0, 13.0]]}\",\"{\\\"type\\\": \\\"LineString\\\", \\\"coordinates\\\": [[0.0, 0.0], [5.0, 5.0]]}\",\"{\\\"type\\\": \\\"MultiLineString\\\", \\\"coordinates\\\": [[[10.0, 0.0], [15.0, 5.0]], [[10.0, 5.0], [15.0, 0.0]]]}\",\"{\\\"type\\\": \\\"Polygon\\\", \\\"coordinates\\\": [[[1.0, 1.0], [1.0, 9.0], [9.0, 9.0], [9.0, 1.0], [1.0, 1.0]], [[2.0, 2.0], [3.0, 2.0], [3.0, 3.0], [2.0, 3.0], [2.0, 2.0]], [[4.0, 4.0], [6.0, 4.0], [6.0, 6.0], [4.0, 6.0], [4.0, 4.0]]]}\",\"{\\\"type\\\": \\\"MultiPolygon\\\", \\\"coordinates\\\": [[[[11.0, 12.0], [13.0, 14.0], [15.0, 13.0], [7.0, 4.0], [11.0, 12.0]]], [[[10.0, 2.0], [13.0, 10.0], [12.0, 3.0], [10.0, 2.0]]]]}\"]\n",
       "},\n",
       "'mapping':{\n",
       "'label':\"kind\"\n",
       "},\n",
       "'data_meta':{\n",
       "'geodataframe':{\n",
       "'geometry':\"coord\"\n",
       "}\n",
       "},\n",
       "'angle':25\n",
       "}]\n",
       "};\n",
       "           var plotContainer = document.getElementById(\"6yhSPC\");\n",
       "           window.letsPlotCall(function() {{\n",
       "               LetsPlot.buildPlotFromProcessedSpecs(plotSpec, -1, -1, plotContainer);\n",
       "           }});\n",
       "       })();    \n",
       "   </script>"
      ],
      "text/plain": [
       "<lets_plot.plot.core.PlotSpec at 0x9113288>"
      ]
     },
     "execution_count": 8,
     "metadata": {},
     "output_type": "execute_result"
    }
   ],
   "source": [
    "ggplot() + geom_point(aes(color='kind'), data=gdf, size=10) + \\\n",
    "    geom_text(aes(label='kind'), data=gdf, angle=25)"
   ]
  },
  {
   "cell_type": "code",
   "execution_count": 9,
   "metadata": {},
   "outputs": [
    {
     "data": {
      "text/html": [
       "   <div id=\"n8UWhJ\"></div>\n",
       "   <script type=\"text/javascript\" data-lets-plot-script=\"plot\">\n",
       "       (function() {\n",
       "           var plotSpec={\n",
       "'mapping':{\n",
       "},\n",
       "'data_meta':{\n",
       "},\n",
       "'kind':\"plot\",\n",
       "'scales':[],\n",
       "'layers':[{\n",
       "'geom':\"text\",\n",
       "'data':{\n",
       "'key':[\"A\",\"B\",\"C\",\"A\",\"B\",\"C\"],\n",
       "'kind':[\"Point\",\"MPoint\",\"Line\",\"MLine\",\"Polygon\",\"MPolygon\"],\n",
       "'coord':[\"{\\\"type\\\": \\\"Point\\\", \\\"coordinates\\\": [-5.0, 17.0]}\",\"{\\\"type\\\": \\\"MultiPoint\\\", \\\"coordinates\\\": [[3.0, 15.0], [6.0, 13.0]]}\",\"{\\\"type\\\": \\\"LineString\\\", \\\"coordinates\\\": [[0.0, 0.0], [5.0, 5.0]]}\",\"{\\\"type\\\": \\\"MultiLineString\\\", \\\"coordinates\\\": [[[10.0, 0.0], [15.0, 5.0]], [[10.0, 5.0], [15.0, 0.0]]]}\",\"{\\\"type\\\": \\\"Polygon\\\", \\\"coordinates\\\": [[[1.0, 1.0], [1.0, 9.0], [9.0, 9.0], [9.0, 1.0], [1.0, 1.0]], [[2.0, 2.0], [3.0, 2.0], [3.0, 3.0], [2.0, 3.0], [2.0, 2.0]], [[4.0, 4.0], [6.0, 4.0], [6.0, 6.0], [4.0, 6.0], [4.0, 4.0]]]}\",\"{\\\"type\\\": \\\"MultiPolygon\\\", \\\"coordinates\\\": [[[[11.0, 12.0], [13.0, 14.0], [15.0, 13.0], [7.0, 4.0], [11.0, 12.0]]], [[[10.0, 2.0], [13.0, 10.0], [12.0, 3.0], [10.0, 2.0]]]]}\"]\n",
       "},\n",
       "'mapping':{\n",
       "'label':\"key\",\n",
       "'color':\"kind\"\n",
       "},\n",
       "'data_meta':{\n",
       "'geodataframe':{\n",
       "'geometry':\"coord\"\n",
       "}\n",
       "}\n",
       "}]\n",
       "};\n",
       "           var plotContainer = document.getElementById(\"n8UWhJ\");\n",
       "           window.letsPlotCall(function() {{\n",
       "               LetsPlot.buildPlotFromProcessedSpecs(plotSpec, -1, -1, plotContainer);\n",
       "           }});\n",
       "       })();    \n",
       "   </script>"
      ],
      "text/plain": [
       "<lets_plot.plot.core.PlotSpec at 0x9113d08>"
      ]
     },
     "execution_count": 9,
     "metadata": {},
     "output_type": "execute_result"
    }
   ],
   "source": [
    "ggplot() + geom_text(aes(label='key', color='kind'), data=gdf)"
   ]
  },
  {
   "cell_type": "markdown",
   "metadata": {},
   "source": [
    "GeoDataFrame can be used in the 'map' parameter (without 'data' specified). Geometries of shapes Point and MultiPoint are automatically taken from GeoDataFrame for geom_point()."
   ]
  },
  {
   "cell_type": "code",
   "execution_count": 10,
   "metadata": {},
   "outputs": [
    {
     "data": {
      "text/html": [
       "   <div id=\"oOehcv\"></div>\n",
       "   <script type=\"text/javascript\" data-lets-plot-script=\"plot\">\n",
       "       (function() {\n",
       "           var plotSpec={\n",
       "'mapping':{\n",
       "},\n",
       "'data_meta':{\n",
       "},\n",
       "'kind':\"plot\",\n",
       "'scales':[],\n",
       "'layers':[{\n",
       "'geom':\"point\",\n",
       "'mapping':{\n",
       "},\n",
       "'data_meta':{\n",
       "},\n",
       "'map_data_meta':{\n",
       "'geodataframe':{\n",
       "'geometry':\"coord\"\n",
       "}\n",
       "},\n",
       "'map':{\n",
       "'key':[\"A\",\"B\",\"C\",\"A\",\"B\",\"C\"],\n",
       "'kind':[\"Point\",\"MPoint\",\"Line\",\"MLine\",\"Polygon\",\"MPolygon\"],\n",
       "'coord':[\"{\\\"type\\\": \\\"Point\\\", \\\"coordinates\\\": [-5.0, 17.0]}\",\"{\\\"type\\\": \\\"MultiPoint\\\", \\\"coordinates\\\": [[3.0, 15.0], [6.0, 13.0]]}\",\"{\\\"type\\\": \\\"LineString\\\", \\\"coordinates\\\": [[0.0, 0.0], [5.0, 5.0]]}\",\"{\\\"type\\\": \\\"MultiLineString\\\", \\\"coordinates\\\": [[[10.0, 0.0], [15.0, 5.0]], [[10.0, 5.0], [15.0, 0.0]]]}\",\"{\\\"type\\\": \\\"Polygon\\\", \\\"coordinates\\\": [[[1.0, 1.0], [1.0, 9.0], [9.0, 9.0], [9.0, 1.0], [1.0, 1.0]], [[2.0, 2.0], [3.0, 2.0], [3.0, 3.0], [2.0, 3.0], [2.0, 2.0]], [[4.0, 4.0], [6.0, 4.0], [6.0, 6.0], [4.0, 6.0], [4.0, 4.0]]]}\",\"{\\\"type\\\": \\\"MultiPolygon\\\", \\\"coordinates\\\": [[[[11.0, 12.0], [13.0, 14.0], [15.0, 13.0], [7.0, 4.0], [11.0, 12.0]]], [[[10.0, 2.0], [13.0, 10.0], [12.0, 3.0], [10.0, 2.0]]]]}\"]\n",
       "},\n",
       "'size':10,\n",
       "'data':{\n",
       "}\n",
       "}]\n",
       "};\n",
       "           var plotContainer = document.getElementById(\"oOehcv\");\n",
       "           window.letsPlotCall(function() {{\n",
       "               LetsPlot.buildPlotFromProcessedSpecs(plotSpec, -1, -1, plotContainer);\n",
       "           }});\n",
       "       })();    \n",
       "   </script>"
      ],
      "text/plain": [
       "<lets_plot.plot.core.PlotSpec at 0x911a388>"
      ]
     },
     "execution_count": 10,
     "metadata": {},
     "output_type": "execute_result"
    }
   ],
   "source": [
    "ggplot() + geom_point(map=gdf, size=10)"
   ]
  },
  {
   "cell_type": "markdown",
   "metadata": {},
   "source": [
    "The data specified in the 'data' and geometries from the 'map' can be joined by a pair of keys from 'map_join' param."
   ]
  },
  {
   "cell_type": "code",
   "execution_count": 11,
   "metadata": {},
   "outputs": [
    {
     "data": {
      "text/html": [
       "   <div id=\"zTQE06\"></div>\n",
       "   <script type=\"text/javascript\" data-lets-plot-script=\"plot\">\n",
       "       (function() {\n",
       "           var plotSpec={\n",
       "'mapping':{\n",
       "},\n",
       "'data_meta':{\n",
       "},\n",
       "'kind':\"plot\",\n",
       "'scales':[],\n",
       "'layers':[{\n",
       "'geom':\"point\",\n",
       "'data':{\n",
       "'name':[\"A\",\"B\",\"C\"],\n",
       "'value':[42.0,23.0,87.0]\n",
       "},\n",
       "'mapping':{\n",
       "'color':\"value\"\n",
       "},\n",
       "'data_meta':{\n",
       "},\n",
       "'map_data_meta':{\n",
       "'geodataframe':{\n",
       "'geometry':\"coord\"\n",
       "}\n",
       "},\n",
       "'map':{\n",
       "'key':[\"A\",\"B\",\"C\",\"A\",\"B\",\"C\"],\n",
       "'kind':[\"Point\",\"MPoint\",\"Line\",\"MLine\",\"Polygon\",\"MPolygon\"],\n",
       "'coord':[\"{\\\"type\\\": \\\"Point\\\", \\\"coordinates\\\": [-5.0, 17.0]}\",\"{\\\"type\\\": \\\"MultiPoint\\\", \\\"coordinates\\\": [[3.0, 15.0], [6.0, 13.0]]}\",\"{\\\"type\\\": \\\"LineString\\\", \\\"coordinates\\\": [[0.0, 0.0], [5.0, 5.0]]}\",\"{\\\"type\\\": \\\"MultiLineString\\\", \\\"coordinates\\\": [[[10.0, 0.0], [15.0, 5.0]], [[10.0, 5.0], [15.0, 0.0]]]}\",\"{\\\"type\\\": \\\"Polygon\\\", \\\"coordinates\\\": [[[1.0, 1.0], [1.0, 9.0], [9.0, 9.0], [9.0, 1.0], [1.0, 1.0]], [[2.0, 2.0], [3.0, 2.0], [3.0, 3.0], [2.0, 3.0], [2.0, 2.0]], [[4.0, 4.0], [6.0, 4.0], [6.0, 6.0], [4.0, 6.0], [4.0, 4.0]]]}\",\"{\\\"type\\\": \\\"MultiPolygon\\\", \\\"coordinates\\\": [[[[11.0, 12.0], [13.0, 14.0], [15.0, 13.0], [7.0, 4.0], [11.0, 12.0]]], [[[10.0, 2.0], [13.0, 10.0], [12.0, 3.0], [10.0, 2.0]]]]}\"]\n",
       "},\n",
       "'map_join':[\"name\",\"key\"],\n",
       "'size':10\n",
       "}]\n",
       "};\n",
       "           var plotContainer = document.getElementById(\"zTQE06\");\n",
       "           window.letsPlotCall(function() {{\n",
       "               LetsPlot.buildPlotFromProcessedSpecs(plotSpec, -1, -1, plotContainer);\n",
       "           }});\n",
       "       })();    \n",
       "   </script>"
      ],
      "text/plain": [
       "<lets_plot.plot.core.PlotSpec at 0x911af08>"
      ]
     },
     "execution_count": 11,
     "metadata": {},
     "output_type": "execute_result"
    }
   ],
   "source": [
    "ggplot() + geom_point(aes(color='value'), data=df, map=gdf, size=10, map_join=['name','key'])"
   ]
  },
  {
   "cell_type": "markdown",
   "metadata": {},
   "source": [
    "#### geom_rect()\n",
    "\n",
    "GeoDataFrame is supported natively in the 'data' parameter of geom_rect(). Geometries of shapes MultiPoint, Line, MultiLine, Polygon and MultiPolygon are automatically taken from GeoDataFrame, their bounding boxes will be drawn. "
   ]
  },
  {
   "cell_type": "code",
   "execution_count": 12,
   "metadata": {},
   "outputs": [
    {
     "data": {
      "text/html": [
       "   <div id=\"XCt4vs\"></div>\n",
       "   <script type=\"text/javascript\" data-lets-plot-script=\"plot\">\n",
       "       (function() {\n",
       "           var plotSpec={\n",
       "'mapping':{\n",
       "},\n",
       "'data_meta':{\n",
       "},\n",
       "'kind':\"plot\",\n",
       "'scales':[],\n",
       "'layers':[{\n",
       "'geom':\"rect\",\n",
       "'data':{\n",
       "'kind':[\"Point\",\"MPoint\",\"Line\",\"MLine\",\"Polygon\",\"MPolygon\"],\n",
       "'coord':[\"{\\\"type\\\": \\\"Point\\\", \\\"coordinates\\\": [-5.0, 17.0]}\",\"{\\\"type\\\": \\\"MultiPoint\\\", \\\"coordinates\\\": [[3.0, 15.0], [6.0, 13.0]]}\",\"{\\\"type\\\": \\\"LineString\\\", \\\"coordinates\\\": [[0.0, 0.0], [5.0, 5.0]]}\",\"{\\\"type\\\": \\\"MultiLineString\\\", \\\"coordinates\\\": [[[10.0, 0.0], [15.0, 5.0]], [[10.0, 5.0], [15.0, 0.0]]]}\",\"{\\\"type\\\": \\\"Polygon\\\", \\\"coordinates\\\": [[[1.0, 1.0], [1.0, 9.0], [9.0, 9.0], [9.0, 1.0], [1.0, 1.0]], [[2.0, 2.0], [3.0, 2.0], [3.0, 3.0], [2.0, 3.0], [2.0, 2.0]], [[4.0, 4.0], [6.0, 4.0], [6.0, 6.0], [4.0, 6.0], [4.0, 4.0]]]}\",\"{\\\"type\\\": \\\"MultiPolygon\\\", \\\"coordinates\\\": [[[[11.0, 12.0], [13.0, 14.0], [15.0, 13.0], [7.0, 4.0], [11.0, 12.0]]], [[[10.0, 2.0], [13.0, 10.0], [12.0, 3.0], [10.0, 2.0]]]]}\"]\n",
       "},\n",
       "'mapping':{\n",
       "'fill':\"kind\"\n",
       "},\n",
       "'data_meta':{\n",
       "'geodataframe':{\n",
       "'geometry':\"coord\"\n",
       "}\n",
       "}\n",
       "}]\n",
       "};\n",
       "           var plotContainer = document.getElementById(\"XCt4vs\");\n",
       "           window.letsPlotCall(function() {{\n",
       "               LetsPlot.buildPlotFromProcessedSpecs(plotSpec, -1, -1, plotContainer);\n",
       "           }});\n",
       "       })();    \n",
       "   </script>"
      ],
      "text/plain": [
       "<lets_plot.plot.core.PlotSpec at 0x911c708>"
      ]
     },
     "execution_count": 12,
     "metadata": {},
     "output_type": "execute_result"
    }
   ],
   "source": [
    "ggplot() + geom_rect(aes(fill='kind'), data=gdf)"
   ]
  },
  {
   "cell_type": "markdown",
   "metadata": {},
   "source": [
    "GeoDataFrame can be used in the 'map' parameter. Geometries of shapes MultiPoint, Line, MultiLine, Polygon and MultiPolygon are automatically taken from GeoDataFrame for geom_rect(), their bounding boxes will be drawn. "
   ]
  },
  {
   "cell_type": "code",
   "execution_count": 13,
   "metadata": {},
   "outputs": [
    {
     "data": {
      "text/html": [
       "   <div id=\"5pNLRo\"></div>\n",
       "   <script type=\"text/javascript\" data-lets-plot-script=\"plot\">\n",
       "       (function() {\n",
       "           var plotSpec={\n",
       "'mapping':{\n",
       "},\n",
       "'data_meta':{\n",
       "},\n",
       "'kind':\"plot\",\n",
       "'scales':[],\n",
       "'layers':[{\n",
       "'geom':\"rect\",\n",
       "'mapping':{\n",
       "},\n",
       "'data_meta':{\n",
       "},\n",
       "'map_data_meta':{\n",
       "'geodataframe':{\n",
       "'geometry':\"coord\"\n",
       "}\n",
       "},\n",
       "'map':{\n",
       "'key':[\"A\",\"B\",\"C\",\"A\",\"B\",\"C\"],\n",
       "'kind':[\"Point\",\"MPoint\",\"Line\",\"MLine\",\"Polygon\",\"MPolygon\"],\n",
       "'coord':[\"{\\\"type\\\": \\\"Point\\\", \\\"coordinates\\\": [-5.0, 17.0]}\",\"{\\\"type\\\": \\\"MultiPoint\\\", \\\"coordinates\\\": [[3.0, 15.0], [6.0, 13.0]]}\",\"{\\\"type\\\": \\\"LineString\\\", \\\"coordinates\\\": [[0.0, 0.0], [5.0, 5.0]]}\",\"{\\\"type\\\": \\\"MultiLineString\\\", \\\"coordinates\\\": [[[10.0, 0.0], [15.0, 5.0]], [[10.0, 5.0], [15.0, 0.0]]]}\",\"{\\\"type\\\": \\\"Polygon\\\", \\\"coordinates\\\": [[[1.0, 1.0], [1.0, 9.0], [9.0, 9.0], [9.0, 1.0], [1.0, 1.0]], [[2.0, 2.0], [3.0, 2.0], [3.0, 3.0], [2.0, 3.0], [2.0, 2.0]], [[4.0, 4.0], [6.0, 4.0], [6.0, 6.0], [4.0, 6.0], [4.0, 4.0]]]}\",\"{\\\"type\\\": \\\"MultiPolygon\\\", \\\"coordinates\\\": [[[[11.0, 12.0], [13.0, 14.0], [15.0, 13.0], [7.0, 4.0], [11.0, 12.0]]], [[[10.0, 2.0], [13.0, 10.0], [12.0, 3.0], [10.0, 2.0]]]]}\"]\n",
       "},\n",
       "'data':{\n",
       "}\n",
       "}]\n",
       "};\n",
       "           var plotContainer = document.getElementById(\"5pNLRo\");\n",
       "           window.letsPlotCall(function() {{\n",
       "               LetsPlot.buildPlotFromProcessedSpecs(plotSpec, -1, -1, plotContainer);\n",
       "           }});\n",
       "       })();    \n",
       "   </script>"
      ],
      "text/plain": [
       "<lets_plot.plot.core.PlotSpec at 0x911cc08>"
      ]
     },
     "execution_count": 13,
     "metadata": {},
     "output_type": "execute_result"
    }
   ],
   "source": [
    "ggplot() + geom_rect(map=gdf)"
   ]
  },
  {
   "cell_type": "markdown",
   "metadata": {},
   "source": [
    "The data specified in the 'data' and geometries from the 'map' can be joined by a pair of keys from 'map_join' param."
   ]
  },
  {
   "cell_type": "code",
   "execution_count": 14,
   "metadata": {},
   "outputs": [
    {
     "data": {
      "text/html": [
       "   <div id=\"pgoDEe\"></div>\n",
       "   <script type=\"text/javascript\" data-lets-plot-script=\"plot\">\n",
       "       (function() {\n",
       "           var plotSpec={\n",
       "'mapping':{\n",
       "},\n",
       "'data_meta':{\n",
       "},\n",
       "'kind':\"plot\",\n",
       "'scales':[],\n",
       "'layers':[{\n",
       "'geom':\"rect\",\n",
       "'data':{\n",
       "'name':[\"A\",\"B\",\"C\"],\n",
       "'value':[42.0,23.0,87.0]\n",
       "},\n",
       "'mapping':{\n",
       "'fill':\"value\"\n",
       "},\n",
       "'data_meta':{\n",
       "},\n",
       "'map_data_meta':{\n",
       "'geodataframe':{\n",
       "'geometry':\"coord\"\n",
       "}\n",
       "},\n",
       "'map':{\n",
       "'key':[\"A\",\"B\",\"C\",\"A\",\"B\",\"C\"],\n",
       "'kind':[\"Point\",\"MPoint\",\"Line\",\"MLine\",\"Polygon\",\"MPolygon\"],\n",
       "'coord':[\"{\\\"type\\\": \\\"Point\\\", \\\"coordinates\\\": [-5.0, 17.0]}\",\"{\\\"type\\\": \\\"MultiPoint\\\", \\\"coordinates\\\": [[3.0, 15.0], [6.0, 13.0]]}\",\"{\\\"type\\\": \\\"LineString\\\", \\\"coordinates\\\": [[0.0, 0.0], [5.0, 5.0]]}\",\"{\\\"type\\\": \\\"MultiLineString\\\", \\\"coordinates\\\": [[[10.0, 0.0], [15.0, 5.0]], [[10.0, 5.0], [15.0, 0.0]]]}\",\"{\\\"type\\\": \\\"Polygon\\\", \\\"coordinates\\\": [[[1.0, 1.0], [1.0, 9.0], [9.0, 9.0], [9.0, 1.0], [1.0, 1.0]], [[2.0, 2.0], [3.0, 2.0], [3.0, 3.0], [2.0, 3.0], [2.0, 2.0]], [[4.0, 4.0], [6.0, 4.0], [6.0, 6.0], [4.0, 6.0], [4.0, 4.0]]]}\",\"{\\\"type\\\": \\\"MultiPolygon\\\", \\\"coordinates\\\": [[[[11.0, 12.0], [13.0, 14.0], [15.0, 13.0], [7.0, 4.0], [11.0, 12.0]]], [[[10.0, 2.0], [13.0, 10.0], [12.0, 3.0], [10.0, 2.0]]]]}\"]\n",
       "},\n",
       "'map_join':[\"name\",\"key\"]\n",
       "}]\n",
       "};\n",
       "           var plotContainer = document.getElementById(\"pgoDEe\");\n",
       "           window.letsPlotCall(function() {{\n",
       "               LetsPlot.buildPlotFromProcessedSpecs(plotSpec, -1, -1, plotContainer);\n",
       "           }});\n",
       "       })();    \n",
       "   </script>"
      ],
      "text/plain": [
       "<lets_plot.plot.core.PlotSpec at 0x911aa08>"
      ]
     },
     "execution_count": 14,
     "metadata": {},
     "output_type": "execute_result"
    }
   ],
   "source": [
    "ggplot() + geom_rect(aes(fill='value'), data=df, map=gdf, map_join=['name', 'key'])"
   ]
  },
  {
   "cell_type": "markdown",
   "metadata": {},
   "source": [
    "#### geom_path()\n",
    "\n",
    "GeoDataFrame is supported natively in the 'data' parameter for geom_path(). Geometries of shapes Line and MultiLine are automatically taken from GeoDataFrame.\n"
   ]
  },
  {
   "cell_type": "code",
   "execution_count": 15,
   "metadata": {},
   "outputs": [
    {
     "data": {
      "text/html": [
       "   <div id=\"AZY6ks\"></div>\n",
       "   <script type=\"text/javascript\" data-lets-plot-script=\"plot\">\n",
       "       (function() {\n",
       "           var plotSpec={\n",
       "'mapping':{\n",
       "},\n",
       "'data_meta':{\n",
       "},\n",
       "'kind':\"plot\",\n",
       "'scales':[],\n",
       "'layers':[{\n",
       "'geom':\"path\",\n",
       "'data':{\n",
       "'kind':[\"Point\",\"MPoint\",\"Line\",\"MLine\",\"Polygon\",\"MPolygon\"],\n",
       "'coord':[\"{\\\"type\\\": \\\"Point\\\", \\\"coordinates\\\": [-5.0, 17.0]}\",\"{\\\"type\\\": \\\"MultiPoint\\\", \\\"coordinates\\\": [[3.0, 15.0], [6.0, 13.0]]}\",\"{\\\"type\\\": \\\"LineString\\\", \\\"coordinates\\\": [[0.0, 0.0], [5.0, 5.0]]}\",\"{\\\"type\\\": \\\"MultiLineString\\\", \\\"coordinates\\\": [[[10.0, 0.0], [15.0, 5.0]], [[10.0, 5.0], [15.0, 0.0]]]}\",\"{\\\"type\\\": \\\"Polygon\\\", \\\"coordinates\\\": [[[1.0, 1.0], [1.0, 9.0], [9.0, 9.0], [9.0, 1.0], [1.0, 1.0]], [[2.0, 2.0], [3.0, 2.0], [3.0, 3.0], [2.0, 3.0], [2.0, 2.0]], [[4.0, 4.0], [6.0, 4.0], [6.0, 6.0], [4.0, 6.0], [4.0, 4.0]]]}\",\"{\\\"type\\\": \\\"MultiPolygon\\\", \\\"coordinates\\\": [[[[11.0, 12.0], [13.0, 14.0], [15.0, 13.0], [7.0, 4.0], [11.0, 12.0]]], [[[10.0, 2.0], [13.0, 10.0], [12.0, 3.0], [10.0, 2.0]]]]}\"]\n",
       "},\n",
       "'mapping':{\n",
       "'color':\"kind\"\n",
       "},\n",
       "'data_meta':{\n",
       "'geodataframe':{\n",
       "'geometry':\"coord\"\n",
       "}\n",
       "}\n",
       "}]\n",
       "};\n",
       "           var plotContainer = document.getElementById(\"AZY6ks\");\n",
       "           window.letsPlotCall(function() {{\n",
       "               LetsPlot.buildPlotFromProcessedSpecs(plotSpec, -1, -1, plotContainer);\n",
       "           }});\n",
       "       })();    \n",
       "   </script>"
      ],
      "text/plain": [
       "<lets_plot.plot.core.PlotSpec at 0x911ae48>"
      ]
     },
     "execution_count": 15,
     "metadata": {},
     "output_type": "execute_result"
    }
   ],
   "source": [
    "ggplot() + geom_path(aes(color='kind'), data=gdf)"
   ]
  },
  {
   "cell_type": "markdown",
   "metadata": {},
   "source": [
    "Can be used in the 'map' parameter for geom_path() without specifying 'data'."
   ]
  },
  {
   "cell_type": "code",
   "execution_count": 16,
   "metadata": {},
   "outputs": [
    {
     "data": {
      "text/html": [
       "   <div id=\"3kvn3r\"></div>\n",
       "   <script type=\"text/javascript\" data-lets-plot-script=\"plot\">\n",
       "       (function() {\n",
       "           var plotSpec={\n",
       "'mapping':{\n",
       "},\n",
       "'data_meta':{\n",
       "},\n",
       "'kind':\"plot\",\n",
       "'scales':[],\n",
       "'layers':[{\n",
       "'geom':\"path\",\n",
       "'mapping':{\n",
       "},\n",
       "'data_meta':{\n",
       "},\n",
       "'map_data_meta':{\n",
       "'geodataframe':{\n",
       "'geometry':\"coord\"\n",
       "}\n",
       "},\n",
       "'map':{\n",
       "'key':[\"A\",\"B\",\"C\",\"A\",\"B\",\"C\"],\n",
       "'kind':[\"Point\",\"MPoint\",\"Line\",\"MLine\",\"Polygon\",\"MPolygon\"],\n",
       "'coord':[\"{\\\"type\\\": \\\"Point\\\", \\\"coordinates\\\": [-5.0, 17.0]}\",\"{\\\"type\\\": \\\"MultiPoint\\\", \\\"coordinates\\\": [[3.0, 15.0], [6.0, 13.0]]}\",\"{\\\"type\\\": \\\"LineString\\\", \\\"coordinates\\\": [[0.0, 0.0], [5.0, 5.0]]}\",\"{\\\"type\\\": \\\"MultiLineString\\\", \\\"coordinates\\\": [[[10.0, 0.0], [15.0, 5.0]], [[10.0, 5.0], [15.0, 0.0]]]}\",\"{\\\"type\\\": \\\"Polygon\\\", \\\"coordinates\\\": [[[1.0, 1.0], [1.0, 9.0], [9.0, 9.0], [9.0, 1.0], [1.0, 1.0]], [[2.0, 2.0], [3.0, 2.0], [3.0, 3.0], [2.0, 3.0], [2.0, 2.0]], [[4.0, 4.0], [6.0, 4.0], [6.0, 6.0], [4.0, 6.0], [4.0, 4.0]]]}\",\"{\\\"type\\\": \\\"MultiPolygon\\\", \\\"coordinates\\\": [[[[11.0, 12.0], [13.0, 14.0], [15.0, 13.0], [7.0, 4.0], [11.0, 12.0]]], [[[10.0, 2.0], [13.0, 10.0], [12.0, 3.0], [10.0, 2.0]]]]}\"]\n",
       "},\n",
       "'data':{\n",
       "}\n",
       "}]\n",
       "};\n",
       "           var plotContainer = document.getElementById(\"3kvn3r\");\n",
       "           window.letsPlotCall(function() {{\n",
       "               LetsPlot.buildPlotFromProcessedSpecs(plotSpec, -1, -1, plotContainer);\n",
       "           }});\n",
       "       })();    \n",
       "   </script>"
      ],
      "text/plain": [
       "<lets_plot.plot.core.PlotSpec at 0x911aac8>"
      ]
     },
     "execution_count": 16,
     "metadata": {},
     "output_type": "execute_result"
    }
   ],
   "source": [
    "ggplot() + geom_path(map=gdf)"
   ]
  },
  {
   "cell_type": "markdown",
   "metadata": {},
   "source": [
    "The data specified in the 'data' and geometries from the 'map' can be joined by a pair of keys from 'map_join' param."
   ]
  },
  {
   "cell_type": "code",
   "execution_count": 17,
   "metadata": {},
   "outputs": [
    {
     "data": {
      "text/html": [
       "   <div id=\"JwfpPO\"></div>\n",
       "   <script type=\"text/javascript\" data-lets-plot-script=\"plot\">\n",
       "       (function() {\n",
       "           var plotSpec={\n",
       "'mapping':{\n",
       "},\n",
       "'data_meta':{\n",
       "},\n",
       "'kind':\"plot\",\n",
       "'scales':[],\n",
       "'layers':[{\n",
       "'geom':\"path\",\n",
       "'data':{\n",
       "'name':[\"A\",\"B\",\"C\"],\n",
       "'value':[42.0,23.0,87.0]\n",
       "},\n",
       "'mapping':{\n",
       "'color':\"value\"\n",
       "},\n",
       "'data_meta':{\n",
       "},\n",
       "'map_data_meta':{\n",
       "'geodataframe':{\n",
       "'geometry':\"coord\"\n",
       "}\n",
       "},\n",
       "'map':{\n",
       "'key':[\"A\",\"B\",\"C\",\"A\",\"B\",\"C\"],\n",
       "'kind':[\"Point\",\"MPoint\",\"Line\",\"MLine\",\"Polygon\",\"MPolygon\"],\n",
       "'coord':[\"{\\\"type\\\": \\\"Point\\\", \\\"coordinates\\\": [-5.0, 17.0]}\",\"{\\\"type\\\": \\\"MultiPoint\\\", \\\"coordinates\\\": [[3.0, 15.0], [6.0, 13.0]]}\",\"{\\\"type\\\": \\\"LineString\\\", \\\"coordinates\\\": [[0.0, 0.0], [5.0, 5.0]]}\",\"{\\\"type\\\": \\\"MultiLineString\\\", \\\"coordinates\\\": [[[10.0, 0.0], [15.0, 5.0]], [[10.0, 5.0], [15.0, 0.0]]]}\",\"{\\\"type\\\": \\\"Polygon\\\", \\\"coordinates\\\": [[[1.0, 1.0], [1.0, 9.0], [9.0, 9.0], [9.0, 1.0], [1.0, 1.0]], [[2.0, 2.0], [3.0, 2.0], [3.0, 3.0], [2.0, 3.0], [2.0, 2.0]], [[4.0, 4.0], [6.0, 4.0], [6.0, 6.0], [4.0, 6.0], [4.0, 4.0]]]}\",\"{\\\"type\\\": \\\"MultiPolygon\\\", \\\"coordinates\\\": [[[[11.0, 12.0], [13.0, 14.0], [15.0, 13.0], [7.0, 4.0], [11.0, 12.0]]], [[[10.0, 2.0], [13.0, 10.0], [12.0, 3.0], [10.0, 2.0]]]]}\"]\n",
       "},\n",
       "'map_join':[\"name\",\"key\"]\n",
       "}]\n",
       "};\n",
       "           var plotContainer = document.getElementById(\"JwfpPO\");\n",
       "           window.letsPlotCall(function() {{\n",
       "               LetsPlot.buildPlotFromProcessedSpecs(plotSpec, -1, -1, plotContainer);\n",
       "           }});\n",
       "       })();    \n",
       "   </script>"
      ],
      "text/plain": [
       "<lets_plot.plot.core.PlotSpec at 0x90b4288>"
      ]
     },
     "execution_count": 17,
     "metadata": {},
     "output_type": "execute_result"
    }
   ],
   "source": [
    "ggplot() + geom_path(aes(color='value'), data=df, map=gdf, map_join=['name', 'key'])"
   ]
  },
  {
   "cell_type": "markdown",
   "metadata": {},
   "source": [
    "#### geom_map()\n",
    "\n",
    "GeoDataFrame is supported natively in the 'data' parameter of geom_map(). Geometries of shapes Polygon and MultiPolygon are automatically taken from GeoDataFrame. \n"
   ]
  },
  {
   "cell_type": "code",
   "execution_count": 18,
   "metadata": {},
   "outputs": [
    {
     "data": {
      "text/html": [
       "   <div id=\"eO0uS4\"></div>\n",
       "   <script type=\"text/javascript\" data-lets-plot-script=\"plot\">\n",
       "       (function() {\n",
       "           var plotSpec={\n",
       "'mapping':{\n",
       "},\n",
       "'data_meta':{\n",
       "},\n",
       "'kind':\"plot\",\n",
       "'scales':[],\n",
       "'layers':[{\n",
       "'geom':\"map\",\n",
       "'data':{\n",
       "'kind':[\"Point\",\"MPoint\",\"Line\",\"MLine\",\"Polygon\",\"MPolygon\"],\n",
       "'coord':[\"{\\\"type\\\": \\\"Point\\\", \\\"coordinates\\\": [-5.0, 17.0]}\",\"{\\\"type\\\": \\\"MultiPoint\\\", \\\"coordinates\\\": [[3.0, 15.0], [6.0, 13.0]]}\",\"{\\\"type\\\": \\\"LineString\\\", \\\"coordinates\\\": [[0.0, 0.0], [5.0, 5.0]]}\",\"{\\\"type\\\": \\\"MultiLineString\\\", \\\"coordinates\\\": [[[10.0, 0.0], [15.0, 5.0]], [[10.0, 5.0], [15.0, 0.0]]]}\",\"{\\\"type\\\": \\\"Polygon\\\", \\\"coordinates\\\": [[[1.0, 1.0], [1.0, 9.0], [9.0, 9.0], [9.0, 1.0], [1.0, 1.0]], [[2.0, 2.0], [3.0, 2.0], [3.0, 3.0], [2.0, 3.0], [2.0, 2.0]], [[4.0, 4.0], [6.0, 4.0], [6.0, 6.0], [4.0, 6.0], [4.0, 4.0]]]}\",\"{\\\"type\\\": \\\"MultiPolygon\\\", \\\"coordinates\\\": [[[[11.0, 12.0], [13.0, 14.0], [15.0, 13.0], [7.0, 4.0], [11.0, 12.0]]], [[[10.0, 2.0], [13.0, 10.0], [12.0, 3.0], [10.0, 2.0]]]]}\"]\n",
       "},\n",
       "'mapping':{\n",
       "'color':\"kind\"\n",
       "},\n",
       "'data_meta':{\n",
       "'geodataframe':{\n",
       "'geometry':\"coord\"\n",
       "}\n",
       "},\n",
       "'size':1\n",
       "}]\n",
       "};\n",
       "           var plotContainer = document.getElementById(\"eO0uS4\");\n",
       "           window.letsPlotCall(function() {{\n",
       "               LetsPlot.buildPlotFromProcessedSpecs(plotSpec, -1, -1, plotContainer);\n",
       "           }});\n",
       "       })();    \n",
       "   </script>"
      ],
      "text/plain": [
       "<lets_plot.plot.core.PlotSpec at 0x910fcc8>"
      ]
     },
     "execution_count": 18,
     "metadata": {},
     "output_type": "execute_result"
    }
   ],
   "source": [
    "ggplot() + geom_map(aes(color='kind'), data=gdf, size=1)"
   ]
  },
  {
   "cell_type": "markdown",
   "metadata": {},
   "source": [
    "Can be used in the 'map' parameter for geom_map()."
   ]
  },
  {
   "cell_type": "code",
   "execution_count": 19,
   "metadata": {},
   "outputs": [
    {
     "data": {
      "text/html": [
       "   <div id=\"10pXmo\"></div>\n",
       "   <script type=\"text/javascript\" data-lets-plot-script=\"plot\">\n",
       "       (function() {\n",
       "           var plotSpec={\n",
       "'mapping':{\n",
       "},\n",
       "'data_meta':{\n",
       "},\n",
       "'kind':\"plot\",\n",
       "'scales':[],\n",
       "'layers':[{\n",
       "'geom':\"map\",\n",
       "'mapping':{\n",
       "},\n",
       "'data_meta':{\n",
       "},\n",
       "'map_data_meta':{\n",
       "'geodataframe':{\n",
       "'geometry':\"coord\"\n",
       "}\n",
       "},\n",
       "'map':{\n",
       "'key':[\"A\",\"B\",\"C\",\"A\",\"B\",\"C\"],\n",
       "'kind':[\"Point\",\"MPoint\",\"Line\",\"MLine\",\"Polygon\",\"MPolygon\"],\n",
       "'coord':[\"{\\\"type\\\": \\\"Point\\\", \\\"coordinates\\\": [-5.0, 17.0]}\",\"{\\\"type\\\": \\\"MultiPoint\\\", \\\"coordinates\\\": [[3.0, 15.0], [6.0, 13.0]]}\",\"{\\\"type\\\": \\\"LineString\\\", \\\"coordinates\\\": [[0.0, 0.0], [5.0, 5.0]]}\",\"{\\\"type\\\": \\\"MultiLineString\\\", \\\"coordinates\\\": [[[10.0, 0.0], [15.0, 5.0]], [[10.0, 5.0], [15.0, 0.0]]]}\",\"{\\\"type\\\": \\\"Polygon\\\", \\\"coordinates\\\": [[[1.0, 1.0], [1.0, 9.0], [9.0, 9.0], [9.0, 1.0], [1.0, 1.0]], [[2.0, 2.0], [3.0, 2.0], [3.0, 3.0], [2.0, 3.0], [2.0, 2.0]], [[4.0, 4.0], [6.0, 4.0], [6.0, 6.0], [4.0, 6.0], [4.0, 4.0]]]}\",\"{\\\"type\\\": \\\"MultiPolygon\\\", \\\"coordinates\\\": [[[[11.0, 12.0], [13.0, 14.0], [15.0, 13.0], [7.0, 4.0], [11.0, 12.0]]], [[[10.0, 2.0], [13.0, 10.0], [12.0, 3.0], [10.0, 2.0]]]]}\"]\n",
       "},\n",
       "'data':{\n",
       "}\n",
       "}]\n",
       "};\n",
       "           var plotContainer = document.getElementById(\"10pXmo\");\n",
       "           window.letsPlotCall(function() {{\n",
       "               LetsPlot.buildPlotFromProcessedSpecs(plotSpec, -1, -1, plotContainer);\n",
       "           }});\n",
       "       })();    \n",
       "   </script>"
      ],
      "text/plain": [
       "<lets_plot.plot.core.PlotSpec at 0x932c8c8>"
      ]
     },
     "execution_count": 19,
     "metadata": {},
     "output_type": "execute_result"
    }
   ],
   "source": [
    "ggplot() + geom_map(map=gdf)"
   ]
  },
  {
   "cell_type": "markdown",
   "metadata": {},
   "source": [
    "The data specified in the 'data' and geometries from the 'map' can be joined by a pair of keys from 'map_join' param."
   ]
  },
  {
   "cell_type": "code",
   "execution_count": 20,
   "metadata": {},
   "outputs": [
    {
     "data": {
      "text/html": [
       "   <div id=\"MuYkBU\"></div>\n",
       "   <script type=\"text/javascript\" data-lets-plot-script=\"plot\">\n",
       "       (function() {\n",
       "           var plotSpec={\n",
       "'mapping':{\n",
       "},\n",
       "'data_meta':{\n",
       "},\n",
       "'kind':\"plot\",\n",
       "'scales':[],\n",
       "'layers':[{\n",
       "'geom':\"map\",\n",
       "'data':{\n",
       "'name':[\"A\",\"B\",\"C\"],\n",
       "'value':[42.0,23.0,87.0]\n",
       "},\n",
       "'mapping':{\n",
       "'fill':\"value\"\n",
       "},\n",
       "'data_meta':{\n",
       "},\n",
       "'map_data_meta':{\n",
       "'geodataframe':{\n",
       "'geometry':\"coord\"\n",
       "}\n",
       "},\n",
       "'map':{\n",
       "'key':[\"A\",\"B\",\"C\",\"A\",\"B\",\"C\"],\n",
       "'kind':[\"Point\",\"MPoint\",\"Line\",\"MLine\",\"Polygon\",\"MPolygon\"],\n",
       "'coord':[\"{\\\"type\\\": \\\"Point\\\", \\\"coordinates\\\": [-5.0, 17.0]}\",\"{\\\"type\\\": \\\"MultiPoint\\\", \\\"coordinates\\\": [[3.0, 15.0], [6.0, 13.0]]}\",\"{\\\"type\\\": \\\"LineString\\\", \\\"coordinates\\\": [[0.0, 0.0], [5.0, 5.0]]}\",\"{\\\"type\\\": \\\"MultiLineString\\\", \\\"coordinates\\\": [[[10.0, 0.0], [15.0, 5.0]], [[10.0, 5.0], [15.0, 0.0]]]}\",\"{\\\"type\\\": \\\"Polygon\\\", \\\"coordinates\\\": [[[1.0, 1.0], [1.0, 9.0], [9.0, 9.0], [9.0, 1.0], [1.0, 1.0]], [[2.0, 2.0], [3.0, 2.0], [3.0, 3.0], [2.0, 3.0], [2.0, 2.0]], [[4.0, 4.0], [6.0, 4.0], [6.0, 6.0], [4.0, 6.0], [4.0, 4.0]]]}\",\"{\\\"type\\\": \\\"MultiPolygon\\\", \\\"coordinates\\\": [[[[11.0, 12.0], [13.0, 14.0], [15.0, 13.0], [7.0, 4.0], [11.0, 12.0]]], [[[10.0, 2.0], [13.0, 10.0], [12.0, 3.0], [10.0, 2.0]]]]}\"]\n",
       "},\n",
       "'map_join':[\"name\",\"key\"]\n",
       "}]\n",
       "};\n",
       "           var plotContainer = document.getElementById(\"MuYkBU\");\n",
       "           window.letsPlotCall(function() {{\n",
       "               LetsPlot.buildPlotFromProcessedSpecs(plotSpec, -1, -1, plotContainer);\n",
       "           }});\n",
       "       })();    \n",
       "   </script>"
      ],
      "text/plain": [
       "<lets_plot.plot.core.PlotSpec at 0x9330708>"
      ]
     },
     "execution_count": 20,
     "metadata": {},
     "output_type": "execute_result"
    }
   ],
   "source": [
    "ggplot() + geom_map(aes(fill='value'), data=df, map=gdf, map_join=['name', 'key'])"
   ]
  }
 ],
 "metadata": {
  "kernelspec": {
   "display_name": "Python 3",
   "language": "python",
   "name": "python3"
  },
  "language_info": {
   "codemirror_mode": {
    "name": "ipython",
    "version": 3
   },
   "file_extension": ".py",
   "mimetype": "text/x-python",
   "name": "python",
   "nbconvert_exporter": "python",
   "pygments_lexer": "ipython3",
   "version": "3.7.9"
  }
 },
 "nbformat": 4,
 "nbformat_minor": 1
}
