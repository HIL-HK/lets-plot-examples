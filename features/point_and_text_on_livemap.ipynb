{
 "cells": [
  {
   "cell_type": "code",
   "execution_count": 1,
   "metadata": {},
   "outputs": [],
   "source": [
    "import pandas as pd\n",
    "\n",
    "from lets_plot import *"
   ]
  },
  {
   "cell_type": "code",
   "execution_count": 2,
   "metadata": {},
   "outputs": [
    {
     "data": {
      "text/html": [
       "\n",
       "            <div id=\"9O94vP\"></div>\n",
       "            <script type=\"text/javascript\" data-lets-plot-script=\"library\">\n",
       "                if(!window.letsPlotCallQueue) {\n",
       "                    window.letsPlotCallQueue = [];\n",
       "                }; \n",
       "                window.letsPlotCall = function(f) {\n",
       "                    window.letsPlotCallQueue.push(f);\n",
       "                };\n",
       "                (function() {\n",
       "                    var script = document.createElement(\"script\");\n",
       "                    script.type = \"text/javascript\";\n",
       "                    script.src = \"https://cdn.jsdelivr.net/gh/JetBrains/lets-plot@v4.4.1/js-package/distr/lets-plot.min.js\";\n",
       "                    script.onload = function() {\n",
       "                        window.letsPlotCall = function(f) {f();};\n",
       "                        window.letsPlotCallQueue.forEach(function(f) {f();});\n",
       "                        window.letsPlotCallQueue = [];\n",
       "                        \n",
       "                    };\n",
       "                    script.onerror = function(event) {\n",
       "                        window.letsPlotCall = function(f) {};    // noop\n",
       "                        window.letsPlotCallQueue = [];\n",
       "                        var div = document.createElement(\"div\");\n",
       "                        div.style.color = 'darkred';\n",
       "                        div.textContent = 'Error loading Lets-Plot JS';\n",
       "                        document.getElementById(\"9O94vP\").appendChild(div);\n",
       "                    };\n",
       "                    var e = document.getElementById(\"9O94vP\");\n",
       "                    e.appendChild(script);\n",
       "                })()\n",
       "            </script>\n",
       "            "
      ]
     },
     "metadata": {},
     "output_type": "display_data"
    }
   ],
   "source": [
    "LetsPlot.setup_html()"
   ]
  },
  {
   "cell_type": "code",
   "execution_count": 3,
   "metadata": {},
   "outputs": [],
   "source": [
    "x = [29.777834, 29.704789]\n",
    "y = [59.991666, 60.019055]"
   ]
  },
  {
   "cell_type": "code",
   "execution_count": 4,
   "metadata": {},
   "outputs": [],
   "source": [
    "data = pd.DataFrame({'x': x, 'y': y, 'name': ['A', 'B']})\n",
    "\n",
    "labels = {\n",
    "    'lon': [29.723390],\n",
    "    'lat': [60.008983],\n",
    "    'label': ['Kotlin']\n",
    "}"
   ]
  },
  {
   "cell_type": "code",
   "execution_count": 5,
   "metadata": {},
   "outputs": [
    {
     "data": {
      "text/html": [
       "   <div id=\"FStKSz\"></div>\n",
       "   <script type=\"text/javascript\" data-lets-plot-script=\"plot\">\n",
       "       (function() {\n",
       "           var plotSpec={\n",
       "\"data\":{\n",
       "\"x\":[29.777834,29.704789],\n",
       "\"y\":[59.991666,60.019055],\n",
       "\"name\":[\"A\",\"B\"]\n",
       "},\n",
       "\"mapping\":{\n",
       "},\n",
       "\"data_meta\":{\n",
       "\"series_annotations\":[{\n",
       "\"type\":\"float\",\n",
       "\"column\":\"x\"\n",
       "},{\n",
       "\"type\":\"float\",\n",
       "\"column\":\"y\"\n",
       "},{\n",
       "\"type\":\"str\",\n",
       "\"column\":\"name\"\n",
       "}]\n",
       "},\n",
       "\"ggtitle\":{\n",
       "\"text\":\"Points and text on interactive map\"\n",
       "},\n",
       "\"kind\":\"plot\",\n",
       "\"scales\":[],\n",
       "\"layers\":[{\n",
       "\"geom\":\"livemap\",\n",
       "\"mapping\":{\n",
       "},\n",
       "\"data_meta\":{\n",
       "},\n",
       "\"zoom\":12.0,\n",
       "\"tiles\":{\n",
       "\"kind\":\"vector_lets_plot\",\n",
       "\"url\":\"wss://tiles.datalore.jetbrains.com\",\n",
       "\"theme\":\"color\",\n",
       "\"attribution\":\"<a href=\\\"https://lets-plot.org\\\">© Lets-Plot</a>, map data: <a href=\\\"https://www.openstreetmap.org/copyright\\\">© OpenStreetMap contributors</a>.\"\n",
       "},\n",
       "\"geocoding\":{\n",
       "\"url\":\"https://geo2.datalore.jetbrains.com/map_data/geocoding\"\n",
       "},\n",
       "\"data\":{\n",
       "}\n",
       "},{\n",
       "\"geom\":\"point\",\n",
       "\"mapping\":{\n",
       "\"x\":\"x\",\n",
       "\"y\":\"y\",\n",
       "\"color\":\"name\"\n",
       "},\n",
       "\"data_meta\":{\n",
       "},\n",
       "\"shape\":19.0,\n",
       "\"size\":20.0,\n",
       "\"alpha\":0.6,\n",
       "\"data\":{\n",
       "}\n",
       "},{\n",
       "\"geom\":\"text\",\n",
       "\"data\":{\n",
       "\"lon\":[29.72339],\n",
       "\"lat\":[60.008983],\n",
       "\"label\":[\"Kotlin\"]\n",
       "},\n",
       "\"mapping\":{\n",
       "\"x\":\"lon\",\n",
       "\"y\":\"lat\",\n",
       "\"label\":\"label\"\n",
       "},\n",
       "\"data_meta\":{\n",
       "\"series_annotations\":[{\n",
       "\"type\":\"float\",\n",
       "\"column\":\"lon\"\n",
       "},{\n",
       "\"type\":\"float\",\n",
       "\"column\":\"lat\"\n",
       "},{\n",
       "\"type\":\"str\",\n",
       "\"column\":\"label\"\n",
       "}]\n",
       "},\n",
       "\"size\":17.0,\n",
       "\"color\":\"gray\",\n",
       "\"family\":\"serif\",\n",
       "\"fontface\":\"italic bold\",\n",
       "\"hjust\":\"middle\",\n",
       "\"vjust\":\"center\",\n",
       "\"angle\":30.0\n",
       "}],\n",
       "\"metainfo_list\":[]\n",
       "};\n",
       "           var plotContainer = document.getElementById(\"FStKSz\");\n",
       "           window.letsPlotCall(function() {{\n",
       "               LetsPlot.buildPlotFromProcessedSpecs(plotSpec, -1, -1, plotContainer);\n",
       "           }});\n",
       "       })();\n",
       "   </script>"
      ],
      "text/plain": [
       "<lets_plot.plot.core.PlotSpec at 0x7944d1af78e0>"
      ]
     },
     "execution_count": 5,
     "metadata": {},
     "output_type": "execute_result"
    }
   ],
   "source": [
    "ggplot(data) + ggtitle('Points and text on interactive map') + \\\n",
    "    geom_livemap(zoom=12) + \\\n",
    "    geom_point(aes(x='x', y='y', color='name'), shape=19, size=20, alpha=0.6) + \\\n",
    "    geom_text(aes(label='label', x='lon', y='lat'), data=labels, size=17, color='gray', \\\n",
    "                  family='serif', fontface='italic bold', hjust='middle', vjust='center', angle=30)"
   ]
  }
 ],
 "metadata": {
  "kernelspec": {
   "display_name": "Python 3 (ipykernel)",
   "language": "python",
   "name": "python3"
  },
  "language_info": {
   "codemirror_mode": {
    "name": "ipython",
    "version": 3
   },
   "file_extension": ".py",
   "mimetype": "text/x-python",
   "name": "python",
   "nbconvert_exporter": "python",
   "pygments_lexer": "ipython3",
   "version": "3.8.18"
  }
 },
 "nbformat": 4,
 "nbformat_minor": 4
}
