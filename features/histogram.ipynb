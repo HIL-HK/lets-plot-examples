{
 "cells": [
  {
   "cell_type": "markdown",
   "metadata": {},
   "source": [
    "Available as executable or viewable Jupyter Notebook:\n",
    "\n",
    "[![Binder](https://mybinder.org/badge_logo.svg)](https://mybinder.org/v2/gh/HIL-HK/lets-plot-examples/master?filepath=features%2Fhistogram.ipynb)\n",
    "\n",
    "[<img alt=\"nbviewer\" src=\"https://raw.githubusercontent.com/jupyter/design/master/logos/Badges/nbviewer_badge.png\" width=\"109\" height=\"20\">](https://nbviewer.jupyter.org/github/HIL-HK/lets-plot-examples/blob/master/features/histogram.ipynb)"
   ]
  },
  {
   "cell_type": "code",
   "execution_count": null,
   "metadata": {},
   "outputs": [],
   "source": [
    "import numpy as np\n",
    "\n",
    "from lets_plot import *; LetsPlot.setup_html()"
   ]
  },
  {
   "cell_type": "code",
   "execution_count": null,
   "metadata": {},
   "outputs": [],
   "source": [
    "x_a = np.random.normal(-0.5, 1, 100)\n",
    "y_a = np.random.normal(0, 1, 100)\n",
    "cat_a = ['A' for x in range(100)]\n",
    "\n",
    "x_b = np.random.normal(0.5, 1, 100)\n",
    "y_b = np.random.normal(0, 1, 100)\n",
    "cat_b = ['B' for x in range(100)]"
   ]
  },
  {
   "cell_type": "code",
   "execution_count": null,
   "metadata": {},
   "outputs": [],
   "source": [
    "data = {}\n",
    "data['x'] = np.concatenate((x_a, x_b))\n",
    "data['y'] = np.concatenate((y_a, y_b))\n",
    "data['cat'] = np.concatenate((cat_a, cat_b))"
   ]
  },
  {
   "cell_type": "code",
   "execution_count": null,
   "metadata": {},
   "outputs": [],
   "source": [
    "p = ggplot(data, aes('x', fill='cat'))\n",
    "p + geom_point(aes(y='y', color='cat'), size=3, alpha=0.8) + \\\n",
    "    ggtitle('Scatter plot')"
   ]
  },
  {
   "cell_type": "code",
   "execution_count": null,
   "metadata": {},
   "outputs": [],
   "source": [
    "p + geom_histogram() + \\\n",
    "    ggtitle('Default histogram')"
   ]
  },
  {
   "cell_type": "code",
   "execution_count": null,
   "metadata": {},
   "outputs": [],
   "source": [
    "p + geom_histogram(position='dodge') + \\\n",
    "    ggtitle('Interleaved histogram')"
   ]
  },
  {
   "cell_type": "code",
   "execution_count": null,
   "metadata": {
    "scrolled": true
   },
   "outputs": [],
   "source": [
    "p + geom_histogram(alpha=0.5, position='identity') + \\\n",
    "    ggtitle('Overlaid semi transparent histogram')"
   ]
  },
  {
   "cell_type": "code",
   "execution_count": null,
   "metadata": {},
   "outputs": [],
   "source": [
    "p + geom_histogram(bins=10, color='white', size=0.5) + \\\n",
    "    ggtitle('Histogram with bins=10')"
   ]
  }
 ],
 "metadata": {
  "kernelspec": {
   "display_name": "Python 3",
   "language": "python",
   "name": "python3"
  },
  "language_info": {
   "codemirror_mode": {
    "name": "ipython",
    "version": 3
   },
   "file_extension": ".py",
   "mimetype": "text/x-python",
   "name": "python",
   "nbconvert_exporter": "python",
   "pygments_lexer": "ipython3",
   "version": "3.7.6"
  }
 },
 "nbformat": 4,
 "nbformat_minor": 1
}
