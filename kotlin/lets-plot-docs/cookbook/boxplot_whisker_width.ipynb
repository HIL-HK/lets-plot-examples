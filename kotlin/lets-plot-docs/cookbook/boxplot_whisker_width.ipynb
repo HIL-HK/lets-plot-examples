{
 "cells": [
  {
   "cell_type": "code",
   "execution_count": 1,
   "id": "developed-feeling",
   "metadata": {
    "execution": {
     "iopub.execute_input": "2024-10-24T14:52:01.013845Z",
     "iopub.status.busy": "2024-10-24T14:52:01.011770Z",
     "iopub.status.idle": "2024-10-24T14:52:03.133252Z",
     "shell.execute_reply": "2024-10-24T14:52:03.133011Z"
    }
   },
   "outputs": [
    {
     "data": {
      "text/html": [
       "   <div id=\"BBRbor\"></div>\n",
       "   <script type=\"text/javascript\" data-lets-plot-script=\"library\">\n",
       "       if(!window.letsPlotCallQueue) {\n",
       "           window.letsPlotCallQueue = [];\n",
       "       }; \n",
       "       window.letsPlotCall = function(f) {\n",
       "           window.letsPlotCallQueue.push(f);\n",
       "       };\n",
       "       (function() {\n",
       "           var script = document.createElement(\"script\");\n",
       "           script.type = \"text/javascript\";\n",
       "           script.src = \"https://cdn.jsdelivr.net/gh/JetBrains/lets-plot@v4.4.1/js-package/distr/lets-plot.min.js\";\n",
       "           script.onload = function() {\n",
       "               window.letsPlotCall = function(f) {f();};\n",
       "               window.letsPlotCallQueue.forEach(function(f) {f();});\n",
       "               window.letsPlotCallQueue = [];\n",
       "               \n",
       "               \n",
       "           };\n",
       "           script.onerror = function(event) {\n",
       "               window.letsPlotCall = function(f) {};\n",
       "               window.letsPlotCallQueue = [];\n",
       "               var div = document.createElement(\"div\");\n",
       "               div.style.color = 'darkred';\n",
       "               div.textContent = 'Error loading Lets-Plot JS';\n",
       "               document.getElementById(\"BBRbor\").appendChild(div);\n",
       "           };\n",
       "           var e = document.getElementById(\"BBRbor\");\n",
       "           e.appendChild(script);\n",
       "       })();\n",
       "   </script>"
      ]
     },
     "metadata": {},
     "output_type": "display_data"
    }
   ],
   "source": [
    "%useLatestDescriptors\n",
    "%use lets-plot"
   ]
  },
  {
   "cell_type": "code",
   "execution_count": 2,
   "id": "composite-liver",
   "metadata": {
    "execution": {
     "iopub.execute_input": "2024-10-24T14:52:03.135033Z",
     "iopub.status.busy": "2024-10-24T14:52:03.134792Z",
     "iopub.status.idle": "2024-10-24T14:52:03.172257Z",
     "shell.execute_reply": "2024-10-24T14:52:03.172051Z"
    }
   },
   "outputs": [
    {
     "data": {
      "text/plain": [
       "Lets-Plot Kotlin API v.4.8.0. Frontend: Notebook with dynamically loaded JS. Lets-Plot JS v.4.4.1."
      ]
     },
     "execution_count": 2,
     "metadata": {},
     "output_type": "execute_result"
    }
   ],
   "source": [
    "LetsPlot.getInfo()"
   ]
  },
  {
   "cell_type": "code",
   "execution_count": 3,
   "id": "global-lease",
   "metadata": {
    "execution": {
     "iopub.execute_input": "2024-10-24T14:52:03.173974Z",
     "iopub.status.busy": "2024-10-24T14:52:03.173493Z",
     "iopub.status.idle": "2024-10-24T14:52:03.476556Z",
     "shell.execute_reply": "2024-10-24T14:52:03.476417Z"
    }
   },
   "outputs": [
    {
     "data": {
      "text/html": [
       "   <div id=\"Anb6px\"></div>\n",
       "   <script type=\"text/javascript\" data-lets-plot-script=\"plot\">\n",
       "       (function() {\n",
       "           var plotSpec={\n",
       "\"mapping\":{\n",
       "\"x\":\"x\",\n",
       "\"y\":\"y\"\n",
       "},\n",
       "\"data\":{\n",
       "},\n",
       "\"kind\":\"plot\",\n",
       "\"scales\":[],\n",
       "\"layers\":[{\n",
       "\"mapping\":{\n",
       "},\n",
       "\"stat\":\"boxplot\",\n",
       "\"whisker_width\":0.2,\n",
       "\"position\":\"dodge\",\n",
       "\"geom\":\"boxplot\",\n",
       "\"data\":{\n",
       "\"..middle..\":[-0.0998322712645543,0.16992439572141083,-0.03366700906389058],\n",
       "\"..upper..\":[0.5315188988260687,0.6358629498163362,0.7250130763477507],\n",
       "\"..ymax..\":[1.9695418127098692,1.7204367528361415,2.439598419520245],\n",
       "\"..lower..\":[-0.7391316926130742,-0.2886380027744756,-0.49382129817276393],\n",
       "\"x\":[\"a\",\"b\",\"c\"],\n",
       "\"..ymin..\":[-1.577245894169239,-1.494802096457127,-1.3878584214688807]\n",
       "}\n",
       "},{\n",
       "\"mapping\":{\n",
       "},\n",
       "\"stat\":\"boxplot_outlier\",\n",
       "\"show_legend\":false,\n",
       "\"position\":\"dodge\",\n",
       "\"geom\":\"point\",\n",
       "\"data\":{\n",
       "\"..middle..\":[-0.0998322712645543,0.16992439572141083,0.16992439572141083,-0.03366700906389058],\n",
       "\"..upper..\":[0.5315188988260687,0.6358629498163362,0.6358629498163362,0.7250130763477507],\n",
       "\"..ymax..\":[1.9695418127098692,1.7204367528361415,1.7204367528361415,2.439598419520245],\n",
       "\"..lower..\":[-0.7391316926130742,-0.2886380027744756,-0.2886380027744756,-0.49382129817276393],\n",
       "\"x\":[\"a\",\"b\",\"b\",\"c\"],\n",
       "\"..ymin..\":[-1.577245894169239,-1.494802096457127,-1.494802096457127,-1.3878584214688807],\n",
       "\"y\":[NaN,-2.20104878328904,2.162580230059769,NaN]\n",
       "}\n",
       "}],\n",
       "\"data_meta\":{\n",
       "\"series_annotations\":[{\n",
       "\"type\":\"str\",\n",
       "\"column\":\"x\"\n",
       "},{\n",
       "\"type\":\"float\",\n",
       "\"column\":\"y\"\n",
       "}]\n",
       "}\n",
       "};\n",
       "           var plotContainer = document.getElementById(\"Anb6px\");\n",
       "           window.letsPlotCall(function() {{\n",
       "               LetsPlot.buildPlotFromProcessedSpecs(plotSpec, -1, -1, plotContainer);\n",
       "           }});\n",
       "       })();\n",
       "   </script>"
      ]
     },
     "execution_count": 3,
     "metadata": {},
     "output_type": "execute_result"
    }
   ],
   "source": [
    "val n = 100\n",
    "val rand = java.util.Random(37)\n",
    "val data = mapOf<String, Any>(\n",
    "    \"x\" to List(n) { listOf(\"a\", \"b\", \"c\").random() },\n",
    "    \"y\" to List(n) { rand.nextGaussian() }\n",
    ")\n",
    "\n",
    "letsPlot(data) { x = \"x\"; y = \"y\" }  + geomBoxplot(whiskerWidth = 0.2)"
   ]
  }
 ],
 "metadata": {
  "kernelspec": {
   "display_name": "Kotlin",
   "language": "kotlin",
   "name": "kotlin"
  },
  "language_info": {
   "codemirror_mode": "text/x-kotlin",
   "file_extension": ".kt",
   "mimetype": "text/x-kotlin",
   "name": "kotlin",
   "nbconvert_exporter": "",
   "pygments_lexer": "kotlin",
   "version": "1.9.23"
  }
 },
 "nbformat": 4,
 "nbformat_minor": 5
}
