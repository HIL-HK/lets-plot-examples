{
 "cells": [
  {
   "cell_type": "code",
   "execution_count": 1,
   "id": "developed-feeling",
   "metadata": {
    "execution": {
     "iopub.execute_input": "2024-11-01T20:28:54.478725Z",
     "iopub.status.busy": "2024-11-01T20:28:54.476574Z",
     "iopub.status.idle": "2024-11-01T20:28:56.534727Z",
     "shell.execute_reply": "2024-11-01T20:28:56.534553Z"
    }
   },
   "outputs": [
    {
     "data": {
      "text/html": [
       "   <div id=\"as81lY\"></div>\n",
       "   <script type=\"text/javascript\" data-lets-plot-script=\"library\">\n",
       "       if(!window.letsPlotCallQueue) {\n",
       "           window.letsPlotCallQueue = [];\n",
       "       }; \n",
       "       window.letsPlotCall = function(f) {\n",
       "           window.letsPlotCallQueue.push(f);\n",
       "       };\n",
       "       (function() {\n",
       "           var script = document.createElement(\"script\");\n",
       "           script.type = \"text/javascript\";\n",
       "           script.src = \"https://cdn.jsdelivr.net/gh/JetBrains/lets-plot@v4.5.1/js-package/distr/lets-plot.min.js\";\n",
       "           script.onload = function() {\n",
       "               window.letsPlotCall = function(f) {f();};\n",
       "               window.letsPlotCallQueue.forEach(function(f) {f();});\n",
       "               window.letsPlotCallQueue = [];\n",
       "               \n",
       "               \n",
       "           };\n",
       "           script.onerror = function(event) {\n",
       "               window.letsPlotCall = function(f) {};\n",
       "               window.letsPlotCallQueue = [];\n",
       "               var div = document.createElement(\"div\");\n",
       "               div.style.color = 'darkred';\n",
       "               div.textContent = 'Error loading Lets-Plot JS';\n",
       "               document.getElementById(\"as81lY\").appendChild(div);\n",
       "           };\n",
       "           var e = document.getElementById(\"as81lY\");\n",
       "           e.appendChild(script);\n",
       "       })();\n",
       "   </script>"
      ]
     },
     "metadata": {},
     "output_type": "display_data"
    }
   ],
   "source": [
    "%useLatestDescriptors\n",
    "%use lets-plot"
   ]
  },
  {
   "cell_type": "code",
   "execution_count": 2,
   "id": "composite-liver",
   "metadata": {
    "execution": {
     "iopub.execute_input": "2024-11-01T20:28:56.536282Z",
     "iopub.status.busy": "2024-11-01T20:28:56.536041Z",
     "iopub.status.idle": "2024-11-01T20:28:56.571783Z",
     "shell.execute_reply": "2024-11-01T20:28:56.571027Z"
    }
   },
   "outputs": [
    {
     "data": {
      "text/plain": [
       "Lets-Plot Kotlin API v.4.9.0. Frontend: Notebook with dynamically loaded JS. Lets-Plot JS v.4.5.1."
      ]
     },
     "execution_count": 2,
     "metadata": {},
     "output_type": "execute_result"
    }
   ],
   "source": [
    "LetsPlot.getInfo()"
   ]
  },
  {
   "cell_type": "code",
   "execution_count": 3,
   "id": "global-lease",
   "metadata": {
    "execution": {
     "iopub.execute_input": "2024-11-01T20:28:56.574403Z",
     "iopub.status.busy": "2024-11-01T20:28:56.574161Z",
     "iopub.status.idle": "2024-11-01T20:28:56.851070Z",
     "shell.execute_reply": "2024-11-01T20:28:56.850801Z"
    }
   },
   "outputs": [
    {
     "data": {
      "text/html": [
       "   <div id=\"jxbzdq\"></div>\n",
       "   <script type=\"text/javascript\" data-lets-plot-script=\"plot\">\n",
       "   \n",
       "   (function() {\n",
       "   // ----------\n",
       "   \n",
       "   var containerDiv = document.getElementById(\"jxbzdq\");\n",
       "   var observer = new ResizeObserver(function(entries) {\n",
       "       for (let entry of entries) {\n",
       "           var width = containerDiv.clientWidth\n",
       "           if (entry.contentBoxSize && width > 0) {\n",
       "           \n",
       "               // Render plot\n",
       "               if (observer) {\n",
       "                   observer.disconnect();\n",
       "                   observer = null;\n",
       "               }\n",
       "\n",
       "               var plotSpec={\n",
       "\"mapping\":{\n",
       "\"x\":\"x\",\n",
       "\"y\":\"y\"\n",
       "},\n",
       "\"data\":{\n",
       "},\n",
       "\"kind\":\"plot\",\n",
       "\"scales\":[],\n",
       "\"layers\":[{\n",
       "\"mapping\":{\n",
       "},\n",
       "\"stat\":\"boxplot\",\n",
       "\"whisker_width\":0.2,\n",
       "\"position\":\"dodge\",\n",
       "\"geom\":\"boxplot\",\n",
       "\"data\":{\n",
       "\"..middle..\":[0.34645985018170156,0.02068173423588824,-0.013202904846600071],\n",
       "\"..upper..\":[0.7647773223852592,0.521955186799945,0.4738051302961642],\n",
       "\"..ymax..\":[2.429780509168998,1.9695418127098692,1.1079917758816],\n",
       "\"..lower..\":[-0.5843534483656457,-0.6818764670531028,-0.3927948590309335],\n",
       "\"x\":[\"a\",\"c\",\"b\"],\n",
       "\"..ymin..\":[-2.20104878328904,-1.577245894169239,-1.5234992785571666]\n",
       "}\n",
       "},{\n",
       "\"mapping\":{\n",
       "},\n",
       "\"stat\":\"boxplot_outlier\",\n",
       "\"show_legend\":false,\n",
       "\"position\":\"dodge\",\n",
       "\"geom\":\"point\",\n",
       "\"data\":{\n",
       "\"..middle..\":[0.34645985018170156,0.02068173423588824,-0.013202904846600071,-0.013202904846600071],\n",
       "\"..upper..\":[0.7647773223852592,0.521955186799945,0.4738051302961642,0.4738051302961642],\n",
       "\"..ymax..\":[2.429780509168998,1.9695418127098692,1.1079917758816,1.1079917758816],\n",
       "\"..lower..\":[-0.5843534483656457,-0.6818764670531028,-0.3927948590309335,-0.3927948590309335],\n",
       "\"x\":[\"a\",\"c\",\"b\",\"b\"],\n",
       "\"..ymin..\":[-2.20104878328904,-1.577245894169239,-1.5234992785571666,-1.5234992785571666],\n",
       "\"y\":[NaN,2.439598419520245,2.2972205355496347,2.162580230059769]\n",
       "}\n",
       "}],\n",
       "\"data_meta\":{\n",
       "\"series_annotations\":[{\n",
       "\"type\":\"str\",\n",
       "\"column\":\"x\"\n",
       "},{\n",
       "\"type\":\"float\",\n",
       "\"column\":\"y\"\n",
       "}]\n",
       "},\n",
       "\"spec_id\":\"1\"\n",
       "};\n",
       "               window.letsPlotCall(function() {\n",
       "       \n",
       "               var toolbar = null;\n",
       "               var plotContainer = containerDiv;               \n",
       "               \n",
       "                   var options = {\n",
       "                       sizing: {\n",
       "                           width_mode: \"min\",\n",
       "                           height_mode: \"scaled\",\n",
       "                           width: width\n",
       "                       }\n",
       "                   };\n",
       "                   var fig = LetsPlot.buildPlotFromProcessedSpecs(plotSpec, -1, -1, plotContainer, options);\n",
       "                   if (toolbar) {\n",
       "                     toolbar.bind(fig);\n",
       "                   }\n",
       "               });\n",
       "               \n",
       "               break;\n",
       "           }\n",
       "       }\n",
       "   });\n",
       "   \n",
       "   observer.observe(containerDiv);\n",
       "   \n",
       "   // ----------\n",
       "   })();\n",
       "   \n",
       "   </script>"
      ]
     },
     "execution_count": 3,
     "metadata": {},
     "output_type": "execute_result"
    }
   ],
   "source": [
    "val n = 100\n",
    "val rand = java.util.Random(37)\n",
    "val data = mapOf<String, Any>(\n",
    "    \"x\" to List(n) { listOf(\"a\", \"b\", \"c\").random() },\n",
    "    \"y\" to List(n) { rand.nextGaussian() }\n",
    ")\n",
    "\n",
    "letsPlot(data) { x = \"x\"; y = \"y\" }  + geomBoxplot(whiskerWidth = 0.2)"
   ]
  }
 ],
 "metadata": {
  "kernelspec": {
   "display_name": "Kotlin",
   "language": "kotlin",
   "name": "kotlin"
  },
  "language_info": {
   "codemirror_mode": "text/x-kotlin",
   "file_extension": ".kt",
   "mimetype": "text/x-kotlin",
   "name": "kotlin",
   "nbconvert_exporter": "",
   "pygments_lexer": "kotlin",
   "version": "1.9.23"
  }
 },
 "nbformat": 4,
 "nbformat_minor": 5
}
