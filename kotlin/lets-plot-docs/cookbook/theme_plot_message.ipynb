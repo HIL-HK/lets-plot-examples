{
 "cells": [
  {
   "cell_type": "markdown",
   "id": "68dbee24-cf81-471a-b331-3cf08d427e18",
   "metadata": {
    "editable": true,
    "slideshow": {
     "slide_type": ""
    },
    "tags": []
   },
   "source": [
    "# Option to show/hide plot messages\n",
    "\n",
    "The option `plotMessage` allows to hide messages produced by sampling."
   ]
  },
  {
   "cell_type": "code",
   "execution_count": 1,
   "id": "ea0aa561-34ee-4890-abd5-6bfa93863c30",
   "metadata": {
    "editable": true,
    "execution": {
     "iopub.execute_input": "2024-11-01T20:37:56.506082Z",
     "iopub.status.busy": "2024-11-01T20:37:56.504002Z",
     "iopub.status.idle": "2024-11-01T20:37:58.585690Z",
     "shell.execute_reply": "2024-11-01T20:37:58.585422Z"
    },
    "slideshow": {
     "slide_type": ""
    },
    "tags": []
   },
   "outputs": [
    {
     "data": {
      "text/html": [
       "   <div id=\"PX5pF7\"></div>\n",
       "   <script type=\"text/javascript\" data-lets-plot-script=\"library\">\n",
       "       if(!window.letsPlotCallQueue) {\n",
       "           window.letsPlotCallQueue = [];\n",
       "       }; \n",
       "       window.letsPlotCall = function(f) {\n",
       "           window.letsPlotCallQueue.push(f);\n",
       "       };\n",
       "       (function() {\n",
       "           var script = document.createElement(\"script\");\n",
       "           script.type = \"text/javascript\";\n",
       "           script.src = \"https://cdn.jsdelivr.net/gh/JetBrains/lets-plot@v4.5.1/js-package/distr/lets-plot.min.js\";\n",
       "           script.onload = function() {\n",
       "               window.letsPlotCall = function(f) {f();};\n",
       "               window.letsPlotCallQueue.forEach(function(f) {f();});\n",
       "               window.letsPlotCallQueue = [];\n",
       "               \n",
       "               \n",
       "           };\n",
       "           script.onerror = function(event) {\n",
       "               window.letsPlotCall = function(f) {};\n",
       "               window.letsPlotCallQueue = [];\n",
       "               var div = document.createElement(\"div\");\n",
       "               div.style.color = 'darkred';\n",
       "               div.textContent = 'Error loading Lets-Plot JS';\n",
       "               document.getElementById(\"PX5pF7\").appendChild(div);\n",
       "           };\n",
       "           var e = document.getElementById(\"PX5pF7\");\n",
       "           e.appendChild(script);\n",
       "       })();\n",
       "   </script>"
      ]
     },
     "metadata": {},
     "output_type": "display_data"
    }
   ],
   "source": [
    "%useLatestDescriptors\n",
    "%use lets-plot"
   ]
  },
  {
   "cell_type": "code",
   "execution_count": 2,
   "id": "46159eb1-3fb7-49de-b748-1fa76fde073e",
   "metadata": {
    "editable": true,
    "execution": {
     "iopub.execute_input": "2024-11-01T20:37:58.587191Z",
     "iopub.status.busy": "2024-11-01T20:37:58.586955Z",
     "iopub.status.idle": "2024-11-01T20:37:58.649739Z",
     "shell.execute_reply": "2024-11-01T20:37:58.649450Z"
    },
    "slideshow": {
     "slide_type": ""
    },
    "tags": []
   },
   "outputs": [],
   "source": [
    "val d = mapOf(\"x\" to MutableList(11) { it })"
   ]
  },
  {
   "cell_type": "code",
   "execution_count": 3,
   "id": "74defcf1-3a30-4762-abbd-14654a260973",
   "metadata": {
    "editable": true,
    "execution": {
     "iopub.execute_input": "2024-11-01T20:37:58.651194Z",
     "iopub.status.busy": "2024-11-01T20:37:58.650942Z",
     "iopub.status.idle": "2024-11-01T20:37:58.848164Z",
     "shell.execute_reply": "2024-11-01T20:37:58.847752Z"
    },
    "slideshow": {
     "slide_type": ""
    },
    "tags": []
   },
   "outputs": [
    {
     "data": {
      "text/html": [
       "   <div id=\"sYirz7\"></div>\n",
       "   <script type=\"text/javascript\" data-lets-plot-script=\"plot\">\n",
       "   \n",
       "   (function() {\n",
       "   // ----------\n",
       "   \n",
       "   var containerDiv = document.getElementById(\"sYirz7\");\n",
       "   var observer = new ResizeObserver(function(entries) {\n",
       "       for (let entry of entries) {\n",
       "           var width = containerDiv.clientWidth\n",
       "           if (entry.contentBoxSize && width > 0) {\n",
       "           \n",
       "               // Render plot\n",
       "               if (observer) {\n",
       "                   observer.disconnect();\n",
       "                   observer = null;\n",
       "               }\n",
       "\n",
       "               var plotSpec={\n",
       "\"mapping\":{\n",
       "},\n",
       "\"data\":{\n",
       "},\n",
       "\"kind\":\"plot\",\n",
       "\"scales\":[],\n",
       "\"layers\":[{\n",
       "\"mapping\":{\n",
       "\"x\":\"x\"\n",
       "},\n",
       "\"stat\":\"identity\",\n",
       "\"sampling\":{\n",
       "\"n\":10.0,\n",
       "\"seed\":42.0,\n",
       "\"name\":\"random\"\n",
       "},\n",
       "\"position\":\"identity\",\n",
       "\"geom\":\"point\",\n",
       "\"data\":{\n",
       "\"x\":[0.0,1.0,2.0,3.0,4.0,5.0,6.0,7.0,9.0,10.0]\n",
       "}\n",
       "}],\n",
       "\"data_meta\":{\n",
       "\"series_annotations\":[{\n",
       "\"type\":\"int\",\n",
       "\"column\":\"x\"\n",
       "}]\n",
       "},\n",
       "\"spec_id\":\"1\",\n",
       "\"computation_messages\":[\"sampling_random(n=10, seed=42) was applied to [point/identity stat] layer\"]\n",
       "};\n",
       "               window.letsPlotCall(function() {\n",
       "       \n",
       "               var toolbar = null;\n",
       "               var plotContainer = containerDiv;               \n",
       "               \n",
       "                   var options = {\n",
       "                       sizing: {\n",
       "                           width_mode: \"min\",\n",
       "                           height_mode: \"scaled\",\n",
       "                           width: width\n",
       "                       }\n",
       "                   };\n",
       "                   var fig = LetsPlot.buildPlotFromProcessedSpecs(plotSpec, -1, -1, plotContainer, options);\n",
       "                   if (toolbar) {\n",
       "                     toolbar.bind(fig);\n",
       "                   }\n",
       "               });\n",
       "               \n",
       "               break;\n",
       "           }\n",
       "       }\n",
       "   });\n",
       "   \n",
       "   observer.observe(containerDiv);\n",
       "   \n",
       "   // ----------\n",
       "   })();\n",
       "   \n",
       "   </script>"
      ]
     },
     "execution_count": 3,
     "metadata": {},
     "output_type": "execute_result"
    }
   ],
   "source": [
    "val p = letsPlot(d) + geomPoint(sampling = samplingRandom(n = 10, seed = 42)) { x = \"x\" }\n",
    "p"
   ]
  },
  {
   "cell_type": "markdown",
   "id": "83304039-01a4-40f9-862b-c428bc97f7e0",
   "metadata": {},
   "source": [
    "### Using the `plotMessage` parameter\n",
    "Use `elementBlank()` to show no messages, or `elementText()` to show sampling messages. Note that `elementText()` options don't affect a message text."
   ]
  },
  {
   "cell_type": "code",
   "execution_count": 4,
   "id": "61d91358-85cc-44cb-a1cc-c52ca61c43db",
   "metadata": {
    "editable": true,
    "execution": {
     "iopub.execute_input": "2024-11-01T20:37:58.850273Z",
     "iopub.status.busy": "2024-11-01T20:37:58.849936Z",
     "iopub.status.idle": "2024-11-01T20:37:58.919878Z",
     "shell.execute_reply": "2024-11-01T20:37:58.919672Z"
    },
    "slideshow": {
     "slide_type": ""
    },
    "tags": []
   },
   "outputs": [
    {
     "data": {
      "text/html": [
       "   <div id=\"nN0RAw\"></div>\n",
       "   <script type=\"text/javascript\" data-lets-plot-script=\"plot\">\n",
       "   \n",
       "   (function() {\n",
       "   // ----------\n",
       "   \n",
       "   var containerDiv = document.getElementById(\"nN0RAw\");\n",
       "   var observer = new ResizeObserver(function(entries) {\n",
       "       for (let entry of entries) {\n",
       "           var width = containerDiv.clientWidth\n",
       "           if (entry.contentBoxSize && width > 0) {\n",
       "           \n",
       "               // Render plot\n",
       "               if (observer) {\n",
       "                   observer.disconnect();\n",
       "                   observer = null;\n",
       "               }\n",
       "\n",
       "               var plotSpec={\n",
       "\"mapping\":{\n",
       "},\n",
       "\"data\":{\n",
       "},\n",
       "\"kind\":\"plot\",\n",
       "\"scales\":[],\n",
       "\"layers\":[{\n",
       "\"mapping\":{\n",
       "\"x\":\"x\"\n",
       "},\n",
       "\"stat\":\"identity\",\n",
       "\"sampling\":{\n",
       "\"n\":10.0,\n",
       "\"seed\":42.0,\n",
       "\"name\":\"random\"\n",
       "},\n",
       "\"position\":\"identity\",\n",
       "\"geom\":\"point\",\n",
       "\"data\":{\n",
       "\"x\":[0.0,1.0,2.0,3.0,4.0,5.0,6.0,7.0,9.0,10.0]\n",
       "}\n",
       "}],\n",
       "\"theme\":{\n",
       "\"plot_message\":{\n",
       "\"blank\":true\n",
       "}\n",
       "},\n",
       "\"data_meta\":{\n",
       "\"series_annotations\":[{\n",
       "\"type\":\"int\",\n",
       "\"column\":\"x\"\n",
       "}]\n",
       "},\n",
       "\"spec_id\":\"2\"\n",
       "};\n",
       "               window.letsPlotCall(function() {\n",
       "       \n",
       "               var toolbar = null;\n",
       "               var plotContainer = containerDiv;               \n",
       "               \n",
       "                   var options = {\n",
       "                       sizing: {\n",
       "                           width_mode: \"min\",\n",
       "                           height_mode: \"scaled\",\n",
       "                           width: width\n",
       "                       }\n",
       "                   };\n",
       "                   var fig = LetsPlot.buildPlotFromProcessedSpecs(plotSpec, -1, -1, plotContainer, options);\n",
       "                   if (toolbar) {\n",
       "                     toolbar.bind(fig);\n",
       "                   }\n",
       "               });\n",
       "               \n",
       "               break;\n",
       "           }\n",
       "       }\n",
       "   });\n",
       "   \n",
       "   observer.observe(containerDiv);\n",
       "   \n",
       "   // ----------\n",
       "   })();\n",
       "   \n",
       "   </script>"
      ]
     },
     "execution_count": 4,
     "metadata": {},
     "output_type": "execute_result"
    }
   ],
   "source": [
    "p + theme(plotMessage=elementBlank())"
   ]
  },
  {
   "cell_type": "markdown",
   "id": "26e5886e-e3e5-4fcc-bfab-3cea5ac3ffa0",
   "metadata": {},
   "source": [
    "### Hiding plot messages for the whole notebook\n",
    "\n",
    "Using the `LestPlot.theme` property messages can be suppressed for the whole notebook."
   ]
  },
  {
   "cell_type": "code",
   "execution_count": 5,
   "id": "f6f2ee74-8d2e-4fa0-b5dc-44b0bd16c74f",
   "metadata": {
    "execution": {
     "iopub.execute_input": "2024-11-01T20:37:58.921301Z",
     "iopub.status.busy": "2024-11-01T20:37:58.921067Z",
     "iopub.status.idle": "2024-11-01T20:37:58.956134Z",
     "shell.execute_reply": "2024-11-01T20:37:58.955903Z"
    }
   },
   "outputs": [],
   "source": [
    "LetsPlot.theme = theme(plotMessage = elementBlank())"
   ]
  },
  {
   "cell_type": "code",
   "execution_count": 6,
   "id": "f038cfd6-216d-41e1-a415-c1f7c3219107",
   "metadata": {
    "execution": {
     "iopub.execute_input": "2024-11-01T20:37:58.957694Z",
     "iopub.status.busy": "2024-11-01T20:37:58.957500Z",
     "iopub.status.idle": "2024-11-01T20:37:59.021320Z",
     "shell.execute_reply": "2024-11-01T20:37:59.021110Z"
    }
   },
   "outputs": [
    {
     "data": {
      "text/html": [
       "   <div id=\"jnVZ0u\"></div>\n",
       "   <script type=\"text/javascript\" data-lets-plot-script=\"plot\">\n",
       "   \n",
       "   (function() {\n",
       "   // ----------\n",
       "   \n",
       "   var containerDiv = document.getElementById(\"jnVZ0u\");\n",
       "   var observer = new ResizeObserver(function(entries) {\n",
       "       for (let entry of entries) {\n",
       "           var width = containerDiv.clientWidth\n",
       "           if (entry.contentBoxSize && width > 0) {\n",
       "           \n",
       "               // Render plot\n",
       "               if (observer) {\n",
       "                   observer.disconnect();\n",
       "                   observer = null;\n",
       "               }\n",
       "\n",
       "               var plotSpec={\n",
       "\"mapping\":{\n",
       "},\n",
       "\"data\":{\n",
       "},\n",
       "\"kind\":\"plot\",\n",
       "\"scales\":[],\n",
       "\"layers\":[{\n",
       "\"mapping\":{\n",
       "\"x\":\"x\"\n",
       "},\n",
       "\"stat\":\"identity\",\n",
       "\"sampling\":{\n",
       "\"n\":10.0,\n",
       "\"seed\":42.0,\n",
       "\"name\":\"random\"\n",
       "},\n",
       "\"position\":\"identity\",\n",
       "\"geom\":\"point\",\n",
       "\"data\":{\n",
       "\"x\":[0.0,1.0,2.0,3.0,4.0,5.0,6.0,7.0,9.0,10.0]\n",
       "}\n",
       "}],\n",
       "\"theme\":{\n",
       "\"plot_message\":{\n",
       "\"blank\":true\n",
       "}\n",
       "},\n",
       "\"data_meta\":{\n",
       "\"series_annotations\":[{\n",
       "\"type\":\"int\",\n",
       "\"column\":\"x\"\n",
       "}]\n",
       "},\n",
       "\"spec_id\":\"3\"\n",
       "};\n",
       "               window.letsPlotCall(function() {\n",
       "       \n",
       "               var toolbar = null;\n",
       "               var plotContainer = containerDiv;               \n",
       "               \n",
       "                   var options = {\n",
       "                       sizing: {\n",
       "                           width_mode: \"min\",\n",
       "                           height_mode: \"scaled\",\n",
       "                           width: width\n",
       "                       }\n",
       "                   };\n",
       "                   var fig = LetsPlot.buildPlotFromProcessedSpecs(plotSpec, -1, -1, plotContainer, options);\n",
       "                   if (toolbar) {\n",
       "                     toolbar.bind(fig);\n",
       "                   }\n",
       "               });\n",
       "               \n",
       "               break;\n",
       "           }\n",
       "       }\n",
       "   });\n",
       "   \n",
       "   observer.observe(containerDiv);\n",
       "   \n",
       "   // ----------\n",
       "   })();\n",
       "   \n",
       "   </script>"
      ]
     },
     "execution_count": 6,
     "metadata": {},
     "output_type": "execute_result"
    }
   ],
   "source": [
    "letsPlot(d) + geomPoint(sampling = samplingRandom(n = 10, seed = 42)) { x = \"x\" }"
   ]
  }
 ],
 "metadata": {
  "kernelspec": {
   "display_name": "Kotlin",
   "language": "kotlin",
   "name": "kotlin"
  },
  "language_info": {
   "codemirror_mode": "text/x-kotlin",
   "file_extension": ".kt",
   "mimetype": "text/x-kotlin",
   "name": "kotlin",
   "nbconvert_exporter": "",
   "pygments_lexer": "kotlin",
   "version": "1.9.23"
  }
 },
 "nbformat": 4,
 "nbformat_minor": 5
}
