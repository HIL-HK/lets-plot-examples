{
 "cells": [
  {
   "cell_type": "code",
   "execution_count": 1,
   "id": "subjective-telling",
   "metadata": {
    "execution": {
     "iopub.execute_input": "2024-10-24T14:54:58.247420Z",
     "iopub.status.busy": "2024-10-24T14:54:58.245233Z",
     "iopub.status.idle": "2024-10-24T14:55:00.371088Z",
     "shell.execute_reply": "2024-10-24T14:55:00.370817Z"
    }
   },
   "outputs": [
    {
     "data": {
      "text/html": [
       "   <div id=\"Lvov2e\"></div>\n",
       "   <script type=\"text/javascript\" data-lets-plot-script=\"library\">\n",
       "       if(!window.letsPlotCallQueue) {\n",
       "           window.letsPlotCallQueue = [];\n",
       "       }; \n",
       "       window.letsPlotCall = function(f) {\n",
       "           window.letsPlotCallQueue.push(f);\n",
       "       };\n",
       "       (function() {\n",
       "           var script = document.createElement(\"script\");\n",
       "           script.type = \"text/javascript\";\n",
       "           script.src = \"https://cdn.jsdelivr.net/gh/JetBrains/lets-plot@v4.4.1/js-package/distr/lets-plot.min.js\";\n",
       "           script.onload = function() {\n",
       "               window.letsPlotCall = function(f) {f();};\n",
       "               window.letsPlotCallQueue.forEach(function(f) {f();});\n",
       "               window.letsPlotCallQueue = [];\n",
       "               \n",
       "               \n",
       "           };\n",
       "           script.onerror = function(event) {\n",
       "               window.letsPlotCall = function(f) {};\n",
       "               window.letsPlotCallQueue = [];\n",
       "               var div = document.createElement(\"div\");\n",
       "               div.style.color = 'darkred';\n",
       "               div.textContent = 'Error loading Lets-Plot JS';\n",
       "               document.getElementById(\"Lvov2e\").appendChild(div);\n",
       "           };\n",
       "           var e = document.getElementById(\"Lvov2e\");\n",
       "           e.appendChild(script);\n",
       "       })();\n",
       "   </script>"
      ]
     },
     "metadata": {},
     "output_type": "display_data"
    }
   ],
   "source": [
    "%useLatestDescriptors\n",
    "%use lets-plot"
   ]
  },
  {
   "cell_type": "code",
   "execution_count": 2,
   "id": "swiss-conservative",
   "metadata": {
    "execution": {
     "iopub.execute_input": "2024-10-24T14:55:00.372958Z",
     "iopub.status.busy": "2024-10-24T14:55:00.372514Z",
     "iopub.status.idle": "2024-10-24T14:55:00.400461Z",
     "shell.execute_reply": "2024-10-24T14:55:00.400226Z"
    }
   },
   "outputs": [],
   "source": [
    "// Set the 'grey' theme as a default plot theme.\n",
    "LetsPlot.theme = themeGrey()"
   ]
  },
  {
   "cell_type": "code",
   "execution_count": 3,
   "id": "affected-chancellor",
   "metadata": {
    "execution": {
     "iopub.execute_input": "2024-10-24T14:55:00.402140Z",
     "iopub.status.busy": "2024-10-24T14:55:00.401844Z",
     "iopub.status.idle": "2024-10-24T14:55:00.623647Z",
     "shell.execute_reply": "2024-10-24T14:55:00.623766Z"
    }
   },
   "outputs": [
    {
     "data": {
      "text/html": [
       "   <div id=\"5Y3uT5\"></div>\n",
       "   <script type=\"text/javascript\" data-lets-plot-script=\"plot\">\n",
       "       (function() {\n",
       "           var plotSpec={\n",
       "\"mapping\":{\n",
       "\"x\":\"x\",\n",
       "\"y\":\"y\"\n",
       "},\n",
       "\"data\":{\n",
       "\"x\":[1.0,2.0,3.0],\n",
       "\"y\":[1.0,2.0,3.0]\n",
       "},\n",
       "\"kind\":\"plot\",\n",
       "\"scales\":[],\n",
       "\"layers\":[{\n",
       "\"mapping\":{\n",
       "},\n",
       "\"stat\":\"identity\",\n",
       "\"size\":5.0,\n",
       "\"position\":\"identity\",\n",
       "\"geom\":\"point\",\n",
       "\"data\":{\n",
       "}\n",
       "}],\n",
       "\"theme\":{\n",
       "\"name\":\"grey\"\n",
       "},\n",
       "\"data_meta\":{\n",
       "\"series_annotations\":[{\n",
       "\"type\":\"int\",\n",
       "\"column\":\"x\"\n",
       "},{\n",
       "\"type\":\"int\",\n",
       "\"column\":\"y\"\n",
       "}]\n",
       "}\n",
       "};\n",
       "           var plotContainer = document.getElementById(\"5Y3uT5\");\n",
       "           window.letsPlotCall(function() {{\n",
       "               LetsPlot.buildPlotFromProcessedSpecs(plotSpec, -1, -1, plotContainer);\n",
       "           }});\n",
       "       })();\n",
       "   </script>"
      ]
     },
     "execution_count": 3,
     "metadata": {},
     "output_type": "execute_result"
    }
   ],
   "source": [
    "val dat = mapOf(\"x\" to listOf(1, 2, 3), \"y\" to listOf(1, 2, 3))\n",
    "letsPlot(dat) {x = \"x\"; y = \"y\"} + geomPoint(size = 5)"
   ]
  }
 ],
 "metadata": {
  "kernelspec": {
   "display_name": "Kotlin",
   "language": "kotlin",
   "name": "kotlin"
  },
  "language_info": {
   "codemirror_mode": "text/x-kotlin",
   "file_extension": ".kt",
   "mimetype": "text/x-kotlin",
   "name": "kotlin",
   "nbconvert_exporter": "",
   "pygments_lexer": "kotlin",
   "version": "1.9.23"
  }
 },
 "nbformat": 4,
 "nbformat_minor": 5
}
