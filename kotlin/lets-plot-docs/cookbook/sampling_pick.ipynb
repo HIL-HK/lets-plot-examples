{
 "cells": [
  {
   "cell_type": "markdown",
   "metadata": {},
   "source": [
    "### Pick Sampling\n",
    "\n",
    "Pick sampling is intended mostly for bar chart and it doesn’t pick indices. Instead, it analyses X-values\n",
    "and selects all points which X-value is in the set of first n X-values found in the population."
   ]
  },
  {
   "cell_type": "code",
   "execution_count": 1,
   "metadata": {
    "execution": {
     "iopub.execute_input": "2024-10-24T14:51:02.588888Z",
     "iopub.status.busy": "2024-10-24T14:51:02.586752Z",
     "iopub.status.idle": "2024-10-24T14:51:04.668729Z",
     "shell.execute_reply": "2024-10-24T14:51:04.668814Z"
    }
   },
   "outputs": [
    {
     "data": {
      "text/html": [
       "   <div id=\"eDXAh6\"></div>\n",
       "   <script type=\"text/javascript\" data-lets-plot-script=\"library\">\n",
       "       if(!window.letsPlotCallQueue) {\n",
       "           window.letsPlotCallQueue = [];\n",
       "       }; \n",
       "       window.letsPlotCall = function(f) {\n",
       "           window.letsPlotCallQueue.push(f);\n",
       "       };\n",
       "       (function() {\n",
       "           var script = document.createElement(\"script\");\n",
       "           script.type = \"text/javascript\";\n",
       "           script.src = \"https://cdn.jsdelivr.net/gh/JetBrains/lets-plot@v4.4.1/js-package/distr/lets-plot.min.js\";\n",
       "           script.onload = function() {\n",
       "               window.letsPlotCall = function(f) {f();};\n",
       "               window.letsPlotCallQueue.forEach(function(f) {f();});\n",
       "               window.letsPlotCallQueue = [];\n",
       "               \n",
       "               \n",
       "           };\n",
       "           script.onerror = function(event) {\n",
       "               window.letsPlotCall = function(f) {};\n",
       "               window.letsPlotCallQueue = [];\n",
       "               var div = document.createElement(\"div\");\n",
       "               div.style.color = 'darkred';\n",
       "               div.textContent = 'Error loading Lets-Plot JS';\n",
       "               document.getElementById(\"eDXAh6\").appendChild(div);\n",
       "           };\n",
       "           var e = document.getElementById(\"eDXAh6\");\n",
       "           e.appendChild(script);\n",
       "       })();\n",
       "   </script>"
      ]
     },
     "metadata": {},
     "output_type": "display_data"
    }
   ],
   "source": [
    "%useLatestDescriptors\n",
    "%use lets-plot"
   ]
  },
  {
   "cell_type": "code",
   "execution_count": 2,
   "metadata": {
    "execution": {
     "iopub.execute_input": "2024-10-24T14:51:04.670831Z",
     "iopub.status.busy": "2024-10-24T14:51:04.670705Z",
     "iopub.status.idle": "2024-10-24T14:51:04.893760Z",
     "shell.execute_reply": "2024-10-24T14:51:04.893583Z"
    }
   },
   "outputs": [],
   "source": [
    "import kotlin.random.Random\n",
    "\n",
    "fun genWord(length: Int, rnd: Random):String {\n",
    "    val letters = ('a'..'z')\n",
    "    return List(length) { letters.random(rnd) }.joinToString(\"\")\n",
    "}    \n",
    "\n",
    "fun genWordSet(n: Int, seed: Int = 42):Set<String> {\n",
    "    val rnd = Random(seed)\n",
    "    val words = HashSet<String>()\n",
    "    while (words.size < n) {\n",
    "        words.add(genWord(5, rnd))\n",
    "    }\n",
    "    return words\n",
    "}\n",
    "\n",
    "fun data(n: Int, words: Set<String>):Map<String, *> {\n",
    "    val rnd = Random(42)\n",
    "    return mapOf(\n",
    "        \"word\" to List(n) { words.random(rnd) },\n",
    "        \"g\" to List(n) { listOf('a','b','c').random(rnd) }\n",
    "    )\n",
    "}"
   ]
  },
  {
   "cell_type": "code",
   "execution_count": 3,
   "metadata": {
    "execution": {
     "iopub.execute_input": "2024-10-24T14:51:04.895051Z",
     "iopub.status.busy": "2024-10-24T14:51:04.894769Z",
     "iopub.status.idle": "2024-10-24T14:51:04.940346Z",
     "shell.execute_reply": "2024-10-24T14:51:04.940118Z"
    }
   },
   "outputs": [],
   "source": [
    "val words = genWordSet(500)\n",
    "val dat = data(1000, words)\n",
    "val p = ggplot(dat) { x = \"word\" }"
   ]
  },
  {
   "cell_type": "code",
   "execution_count": 4,
   "metadata": {
    "execution": {
     "iopub.execute_input": "2024-10-24T14:51:04.941697Z",
     "iopub.status.busy": "2024-10-24T14:51:04.941507Z",
     "iopub.status.idle": "2024-10-24T14:51:05.096073Z",
     "shell.execute_reply": "2024-10-24T14:51:05.095367Z"
    }
   },
   "outputs": [
    {
     "data": {
      "text/html": [
       "   <div id=\"PBrU83\"></div>\n",
       "   <script type=\"text/javascript\" data-lets-plot-script=\"plot\">\n",
       "       (function() {\n",
       "           var plotSpec={\n",
       "\"mapping\":{\n",
       "\"x\":\"word\"\n",
       "},\n",
       "\"data\":{\n",
       "},\n",
       "\"kind\":\"plot\",\n",
       "\"scales\":[],\n",
       "\"layers\":[{\n",
       "\"mapping\":{\n",
       "},\n",
       "\"stat\":\"count\",\n",
       "\"size\":0.0,\n",
       "\"position\":\"stack\",\n",
       "\"geom\":\"bar\",\n",
       "\"data\":{\n",
       "\"..count..\":[2.0,2.0,3.0,2.0,1.0,2.0,3.0,3.0,4.0,4.0,2.0,2.0,2.0,3.0,3.0,3.0,4.0,2.0,3.0,3.0,2.0,4.0,3.0,3.0,4.0,1.0,4.0,4.0,3.0,2.0,3.0,3.0,2.0,8.0,5.0,2.0,4.0,2.0,3.0,3.0,2.0,5.0,3.0,3.0,2.0,2.0,2.0,2.0,5.0,3.0,4.0,1.0,2.0,1.0,1.0,2.0,4.0,2.0,2.0,3.0,3.0,2.0,3.0,3.0,1.0,2.0,2.0,2.0,5.0,4.0,3.0,5.0,2.0,5.0,3.0,2.0,2.0,5.0,3.0,4.0,2.0,7.0,2.0,2.0,3.0,1.0,3.0,3.0,4.0,2.0,5.0,3.0,3.0,5.0,3.0,1.0,2.0,3.0,2.0,3.0,2.0,3.0,4.0,2.0,3.0,2.0,2.0,3.0,3.0,2.0,2.0,3.0,2.0,2.0,2.0,3.0,4.0,5.0,2.0,5.0,2.0,4.0,1.0,4.0,2.0,3.0,2.0,2.0,4.0,1.0,2.0,3.0,3.0,3.0,3.0,1.0,3.0,2.0,3.0,2.0,3.0,1.0,3.0,4.0,4.0,3.0,3.0,1.0,2.0,3.0,4.0,3.0,3.0,2.0,4.0,2.0,3.0,4.0,2.0,3.0,3.0,2.0,8.0,4.0,5.0,4.0,3.0,2.0,4.0,3.0,2.0,4.0,3.0,2.0,4.0,2.0,3.0,1.0,3.0,2.0,1.0,1.0,4.0,2.0,3.0,2.0,4.0,3.0,3.0,4.0,3.0,2.0,3.0,3.0,3.0,5.0,1.0,5.0,2.0,3.0,1.0,1.0,4.0,2.0,2.0,5.0,4.0,2.0,1.0,2.0,1.0,1.0,2.0,2.0,3.0,3.0,2.0,2.0,2.0,1.0,2.0,4.0,3.0,2.0,2.0,4.0,1.0,4.0,4.0,2.0,2.0,2.0,2.0,1.0,4.0,2.0,1.0,3.0,1.0,3.0,5.0,5.0,1.0,1.0,1.0,1.0,1.0,2.0,5.0,4.0,2.0,1.0,1.0,2.0,2.0,1.0,4.0,3.0,2.0,1.0,2.0,2.0,4.0,2.0,2.0,3.0,1.0,1.0,2.0,1.0,1.0,1.0,6.0,3.0,2.0,3.0,2.0,2.0,2.0,2.0,3.0,4.0,2.0,2.0,4.0,2.0,4.0,4.0,3.0,1.0,2.0,5.0,1.0,3.0,3.0,2.0,1.0,2.0,1.0,1.0,3.0,1.0,1.0,1.0,2.0,2.0,4.0,1.0,2.0,1.0,4.0,4.0,1.0,2.0,2.0,3.0,3.0,4.0,2.0,1.0,1.0,1.0,1.0,1.0,3.0,1.0,2.0,1.0,1.0,3.0,3.0,1.0,1.0,1.0,2.0,1.0,1.0,3.0,2.0,1.0,4.0,1.0,1.0,2.0,1.0,2.0,2.0,1.0,1.0,2.0,2.0,4.0,1.0,2.0,1.0,1.0,2.0,1.0,1.0,1.0,1.0,1.0,1.0,1.0,1.0,1.0,2.0,1.0,1.0,2.0,3.0,2.0,2.0,2.0,2.0,1.0,1.0,2.0,1.0,3.0,1.0,1.0,1.0,1.0,1.0,1.0,1.0,3.0,1.0,1.0,2.0,1.0,1.0,1.0,1.0,1.0,1.0,1.0,1.0,1.0,1.0,1.0,1.0,1.0,1.0,1.0,2.0,1.0,1.0,1.0,1.0,1.0,1.0,1.0,2.0,1.0,1.0,1.0,1.0,1.0,1.0,1.0,1.0,1.0,1.0,1.0,1.0,1.0,1.0,1.0,1.0,1.0],\n",
       "\"word\":[\"gmpmw\",\"khego\",\"pambc\",\"jpyix\",\"bledi\",\"xfmyr\",\"tpycu\",\"nnvzu\",\"roqdu\",\"mpgwn\",\"exmhb\",\"qsmcf\",\"dobny\",\"duxev\",\"limmt\",\"jgsau\",\"cmcjc\",\"sempg\",\"jjtfv\",\"xqohr\",\"hmkub\",\"ccvjp\",\"tmxzu\",\"amwxa\",\"lzyfx\",\"hvofa\",\"wjmnv\",\"saepd\",\"pawfj\",\"exyhd\",\"yyyof\",\"mhsxj\",\"cumua\",\"affuu\",\"jtxrf\",\"glrvx\",\"qatrp\",\"nrpak\",\"fzrac\",\"difuk\",\"xodhj\",\"gqphr\",\"lgqtu\",\"lbyst\",\"kkilv\",\"pqwya\",\"nfrqp\",\"ezbzi\",\"msszc\",\"sjygd\",\"xlheu\",\"epnuf\",\"recsq\",\"hyzen\",\"vhrdh\",\"nqrrx\",\"wtrua\",\"vpkbq\",\"ttbyf\",\"obplr\",\"weifr\",\"crlio\",\"gbnsl\",\"nlsuc\",\"jgdna\",\"viyev\",\"jhtrv\",\"nsrbk\",\"kvthq\",\"kajbp\",\"dzeer\",\"cdqou\",\"gjaiw\",\"dpzna\",\"qnmsp\",\"sikrg\",\"ibpmh\",\"vwnwf\",\"ofysx\",\"qgzna\",\"zxtke\",\"kewds\",\"uhnzb\",\"pcnjh\",\"yizye\",\"jzdfv\",\"pfutc\",\"pzgob\",\"gonks\",\"gcplt\",\"akktq\",\"qaeqc\",\"ymbcn\",\"qrgrp\",\"nqmzo\",\"jjrhy\",\"xcwqx\",\"jqehe\",\"xdsfp\",\"oewno\",\"amzho\",\"auduw\",\"iibad\",\"gduau\",\"zeyhq\",\"witfa\",\"mephc\",\"uyjie\",\"jxzjl\",\"mqusp\",\"dhrwb\",\"hhgpl\",\"bkmni\",\"qsxrg\",\"nmvuv\",\"irrjn\",\"suugr\",\"eddzy\",\"yjrew\",\"flbcq\",\"ohnfm\",\"redjp\",\"ygabb\",\"rrtfa\",\"kafxw\",\"szrhr\",\"jcboq\",\"uuegl\",\"bjitw\",\"pzcbg\",\"nzaiq\",\"bdfou\",\"oukfd\",\"mmbfh\",\"adypi\",\"naoyh\",\"wuxex\",\"efysy\",\"bfvgy\",\"wnhxs\",\"folhw\",\"nosyb\",\"cmspn\",\"eefra\",\"lxmwr\",\"btkrz\",\"hcagt\",\"hcjjk\",\"zjxll\",\"njfni\",\"xnkyp\",\"eerhk\",\"cterv\",\"vzolv\",\"eymyv\",\"zvgrv\",\"dfopc\",\"faggz\",\"hwbxu\",\"bqxcw\",\"ysxam\",\"gppko\",\"teoae\",\"kozsr\",\"vnxyn\",\"ibfmy\",\"ddgar\",\"mwong\",\"zekbu\",\"hwsff\",\"hianz\",\"dpvha\",\"bqgfz\",\"mhbad\",\"dfjxi\",\"hvquc\",\"upaxs\",\"hdxaf\",\"ehsht\",\"qkgic\",\"pgeap\",\"yiezh\",\"ceuml\",\"zjkqm\",\"jhpzz\",\"pnxvg\",\"drvdi\",\"hsraa\",\"ffrfe\",\"mnzxk\",\"bzpng\",\"oqouc\",\"uscem\",\"tbszc\",\"vhakl\",\"txmzc\",\"fujwf\",\"vadhy\",\"ngeyk\",\"bjjrj\",\"hoanj\",\"vowwx\",\"lbsur\",\"myuas\",\"dakdo\",\"xqsgz\",\"mpefp\",\"sazgc\",\"qzjaa\",\"ummli\",\"oamff\",\"cvxft\",\"eqwwp\",\"eelpl\",\"jaxkf\",\"ocvyx\",\"dpvna\",\"dplov\",\"mmxph\",\"ojzqw\",\"yqwjy\",\"hpnia\",\"dinjz\",\"cjvel\",\"oefbf\",\"qkpgk\",\"danew\",\"leurq\",\"vsuyc\",\"ihlpk\",\"tvstd\",\"jbyob\",\"rhkbu\",\"mocai\",\"xdnpn\",\"dokdm\",\"ehfmk\",\"dtlbm\",\"opxtu\",\"twbah\",\"udwox\",\"ptnay\",\"pvbsl\",\"sbuil\",\"kbliz\",\"dgyqo\",\"kvrds\",\"vznkb\",\"tuiwm\",\"lfkni\",\"gptyx\",\"dnmlv\",\"lmfih\",\"ddmjo\",\"zbwzt\",\"rvytl\",\"exuuf\",\"gjyyj\",\"mxmof\",\"hbava\",\"mlohx\",\"exdxs\",\"ocinf\",\"zmvxd\",\"yajqn\",\"hifwh\",\"qdozs\",\"wcyah\",\"oggyi\",\"zpnqa\",\"ceqgq\",\"qmtgv\",\"tpodh\",\"xxgzp\",\"kitro\",\"sesiy\",\"qackh\",\"mdnpy\",\"hqzki\",\"yngfm\",\"arqrq\",\"uswjs\",\"twobk\",\"xhhrr\",\"mpbqz\",\"yjzeo\",\"ohngx\",\"edhtb\",\"nopxe\",\"blxnl\",\"avxsy\",\"vuwob\",\"arlao\",\"jtiwa\",\"ozxva\",\"zskcd\",\"moiah\",\"ykypc\",\"azruj\",\"alskq\",\"mfqng\",\"gfkqi\",\"gwfrl\",\"kabyd\",\"fovnz\",\"vshsz\",\"vcgzf\",\"ermrp\",\"rmtbl\",\"risbv\",\"tqguo\",\"csabx\",\"yqrla\",\"jscsf\",\"omeoe\",\"vfmky\",\"lyeqh\",\"pjrdo\",\"jxqxb\",\"axfnu\",\"dnfje\",\"usojg\",\"fthzl\",\"jtnyw\",\"ddbyk\",\"louph\",\"frdbh\",\"hibme\",\"crrqe\",\"bdubx\",\"ymtuq\",\"zlamr\",\"czkhk\",\"xbnve\",\"mwvxx\",\"gpaxt\",\"ofntu\",\"xnyen\",\"izlrj\",\"hrkxi\",\"kskoy\",\"kvccv\",\"ausjo\",\"xypld\",\"rjhva\",\"niivs\",\"gosso\",\"vtsxd\",\"hmusx\",\"knuyy\",\"rtshn\",\"yhhjn\",\"wpcey\",\"rmzgm\",\"nwisd\",\"wibqc\",\"cozmi\",\"dhghz\",\"xdvyp\",\"fmugr\",\"sylcw\",\"encho\",\"sebms\",\"pceen\",\"dmfpf\",\"kqfrn\",\"ckpng\",\"oznkr\",\"wezze\",\"ycoxx\",\"iyson\",\"adnmm\",\"vezku\",\"pwnoh\",\"uhxgu\",\"wihqt\",\"nahsc\",\"xtgda\",\"oyrqi\",\"ksmov\",\"balry\",\"mvkid\",\"bfcrw\",\"zogej\",\"zflwh\",\"xxxsl\",\"xalih\",\"wvqxy\",\"oupej\",\"chsuj\",\"oufnq\",\"scxxw\",\"btagb\",\"xzdin\",\"lqtvx\",\"orbhv\",\"npjtw\",\"iiqxg\",\"oxoik\",\"qlbzy\",\"wrpcj\",\"yucel\",\"iehvn\",\"tojyn\",\"ventd\",\"mrihe\",\"qlykd\",\"qohrs\",\"ruigm\",\"gmcnz\",\"jibwj\",\"bpgsm\",\"tuimv\",\"vxmol\",\"tkqtn\",\"nfapu\",\"wywzu\",\"qsemn\",\"iizmk\",\"irzcw\",\"mpzxx\",\"lxlgn\",\"bgnav\",\"suumh\",\"fqizc\",\"vqusc\",\"qomfj\",\"ubzaw\",\"dlgyw\",\"bszlw\",\"otihs\",\"qkxbc\"]\n",
       "}\n",
       "}],\n",
       "\"data_meta\":{\n",
       "\"series_annotations\":[{\n",
       "\"type\":\"str\",\n",
       "\"column\":\"word\"\n",
       "}]\n",
       "}\n",
       "};\n",
       "           var plotContainer = document.getElementById(\"PBrU83\");\n",
       "           window.letsPlotCall(function() {{\n",
       "               LetsPlot.buildPlotFromProcessedSpecs(plotSpec, -1, -1, plotContainer);\n",
       "           }});\n",
       "       })();\n",
       "   </script>"
      ]
     },
     "execution_count": 4,
     "metadata": {},
     "output_type": "execute_result"
    }
   ],
   "source": [
    "p + geomBar(size = 0)"
   ]
  },
  {
   "cell_type": "markdown",
   "metadata": {},
   "source": [
    "Let's draw bar chart with \"pick\" sampling."
   ]
  },
  {
   "cell_type": "code",
   "execution_count": 5,
   "metadata": {
    "execution": {
     "iopub.execute_input": "2024-10-24T14:51:05.098345Z",
     "iopub.status.busy": "2024-10-24T14:51:05.097999Z",
     "iopub.status.idle": "2024-10-24T14:51:05.162156Z",
     "shell.execute_reply": "2024-10-24T14:51:05.161938Z"
    }
   },
   "outputs": [
    {
     "data": {
      "text/html": [
       "   <div id=\"OfNrIq\"></div>\n",
       "   <script type=\"text/javascript\" data-lets-plot-script=\"plot\">\n",
       "       (function() {\n",
       "           var plotSpec={\n",
       "\"mapping\":{\n",
       "\"x\":\"word\"\n",
       "},\n",
       "\"data\":{\n",
       "},\n",
       "\"kind\":\"plot\",\n",
       "\"scales\":[],\n",
       "\"layers\":[{\n",
       "\"mapping\":{\n",
       "},\n",
       "\"stat\":\"count\",\n",
       "\"size\":0.0,\n",
       "\"sampling\":{\n",
       "\"n\":50.0,\n",
       "\"name\":\"pick\"\n",
       "},\n",
       "\"position\":\"stack\",\n",
       "\"geom\":\"bar\",\n",
       "\"data\":{\n",
       "\"..count..\":[2.0,2.0,3.0,2.0,1.0,2.0,3.0,3.0,4.0,4.0,2.0,2.0,2.0,3.0,3.0,3.0,4.0,2.0,3.0,3.0,2.0,4.0,3.0,3.0,4.0,1.0,4.0,4.0,3.0,2.0,3.0,3.0,2.0,8.0,5.0,2.0,4.0,2.0,3.0,3.0,2.0,5.0,3.0,3.0,2.0,2.0,2.0,2.0,5.0,3.0],\n",
       "\"word\":[\"gmpmw\",\"khego\",\"pambc\",\"jpyix\",\"bledi\",\"xfmyr\",\"tpycu\",\"nnvzu\",\"roqdu\",\"mpgwn\",\"exmhb\",\"qsmcf\",\"dobny\",\"duxev\",\"limmt\",\"jgsau\",\"cmcjc\",\"sempg\",\"jjtfv\",\"xqohr\",\"hmkub\",\"ccvjp\",\"tmxzu\",\"amwxa\",\"lzyfx\",\"hvofa\",\"wjmnv\",\"saepd\",\"pawfj\",\"exyhd\",\"yyyof\",\"mhsxj\",\"cumua\",\"affuu\",\"jtxrf\",\"glrvx\",\"qatrp\",\"nrpak\",\"fzrac\",\"difuk\",\"xodhj\",\"gqphr\",\"lgqtu\",\"lbyst\",\"kkilv\",\"pqwya\",\"nfrqp\",\"ezbzi\",\"msszc\",\"sjygd\"]\n",
       "}\n",
       "}],\n",
       "\"data_meta\":{\n",
       "\"series_annotations\":[{\n",
       "\"type\":\"str\",\n",
       "\"column\":\"word\"\n",
       "}]\n",
       "},\n",
       "\"computation_messages\":[\"sampling_pick(n=50) was applied to [bar/count stat] layer\"]\n",
       "};\n",
       "           var plotContainer = document.getElementById(\"OfNrIq\");\n",
       "           window.letsPlotCall(function() {{\n",
       "               LetsPlot.buildPlotFromProcessedSpecs(plotSpec, -1, -1, plotContainer);\n",
       "           }});\n",
       "       })();\n",
       "   </script>"
      ]
     },
     "execution_count": 5,
     "metadata": {},
     "output_type": "execute_result"
    }
   ],
   "source": [
    "p + geomBar(sampling = samplingPick(50), size = 0)"
   ]
  },
  {
   "cell_type": "markdown",
   "metadata": {},
   "source": [
    "\"pick\" sampling preserves groups on bar chart."
   ]
  },
  {
   "cell_type": "code",
   "execution_count": 6,
   "metadata": {
    "execution": {
     "iopub.execute_input": "2024-10-24T14:51:05.164158Z",
     "iopub.status.busy": "2024-10-24T14:51:05.163764Z",
     "iopub.status.idle": "2024-10-24T14:51:05.222991Z",
     "shell.execute_reply": "2024-10-24T14:51:05.222827Z"
    }
   },
   "outputs": [
    {
     "data": {
      "text/html": [
       "   <div id=\"WuVX7C\"></div>\n",
       "   <script type=\"text/javascript\" data-lets-plot-script=\"plot\">\n",
       "       (function() {\n",
       "           var plotSpec={\n",
       "\"mapping\":{\n",
       "\"x\":\"word\"\n",
       "},\n",
       "\"data\":{\n",
       "},\n",
       "\"kind\":\"plot\",\n",
       "\"scales\":[],\n",
       "\"layers\":[{\n",
       "\"mapping\":{\n",
       "\"fill\":\"g\"\n",
       "},\n",
       "\"stat\":\"count\",\n",
       "\"size\":0.0,\n",
       "\"sampling\":{\n",
       "\"n\":50.0,\n",
       "\"name\":\"pick\"\n",
       "},\n",
       "\"position\":\"stack\",\n",
       "\"geom\":\"bar\",\n",
       "\"data\":{\n",
       "\"..count..\":[1.0,1.0,1.0,2.0,3.0,2.0,2.0,2.0,2.0,1.0,2.0,2.0,1.0,1.0,1.0,2.0,2.0,1.0,3.0,1.0,1.0,1.0,1.0,1.0,1.0,2.0,1.0,2.0,1.0,2.0,2.0,2.0,2.0,1.0,1.0,2.0,3.0,1.0,2.0,1.0,1.0,1.0,1.0,2.0,1.0,2.0,4.0,3.0,2.0,4.0,1.0,2.0,3.0,1.0,1.0,2.0,1.0,1.0,1.0,2.0,1.0,2.0,2.0,2.0,1.0,1.0,1.0,2.0,1.0,1.0,1.0,1.0,2.0,1.0,2.0,1.0,3.0,1.0,2.0,2.0,1.0,1.0,2.0,1.0,1.0,2.0,1.0,1.0,1.0,1.0,1.0,1.0,1.0,2.0,1.0,1.0],\n",
       "\"g\":[\"c\",\"c\",\"c\",\"c\",\"c\",\"c\",\"c\",\"c\",\"c\",\"c\",\"c\",\"c\",\"c\",\"c\",\"c\",\"c\",\"c\",\"c\",\"c\",\"c\",\"c\",\"c\",\"c\",\"c\",\"c\",\"c\",\"c\",\"c\",\"c\",\"c\",\"c\",\"c\",\"c\",\"c\",\"c\",\"c\",\"c\",\"c\",\"c\",\"c\",\"c\",\"c\",\"c\",\"c\",\"c\",\"c\",\"c\",\"c\",\"c\",\"c\",\"a\",\"a\",\"a\",\"a\",\"a\",\"a\",\"a\",\"a\",\"a\",\"a\",\"a\",\"a\",\"a\",\"a\",\"a\",\"a\",\"a\",\"a\",\"a\",\"a\",\"a\",\"b\",\"b\",\"b\",\"b\",\"b\",\"b\",\"b\",\"b\",\"b\",\"b\",\"b\",\"b\",\"b\",\"b\",\"b\",\"b\",\"b\",\"b\",\"b\",\"b\",\"b\",\"b\",\"b\",\"b\",\"b\"],\n",
       "\"word\":[\"gmpmw\",\"khego\",\"bledi\",\"xfmyr\",\"nnvzu\",\"dobny\",\"cmcjc\",\"hmkub\",\"ccvjp\",\"tmxzu\",\"saepd\",\"pawfj\",\"cumua\",\"glrvx\",\"qatrp\",\"xodhj\",\"kkilv\",\"pqwya\",\"msszc\",\"xlheu\",\"vhrdh\",\"nqrrx\",\"wtrua\",\"ttbyf\",\"crlio\",\"nlsuc\",\"jgdna\",\"jhtrv\",\"duxev\",\"kajbp\",\"qnmsp\",\"uhnzb\",\"pzgob\",\"gonks\",\"akktq\",\"qaeqc\",\"ymbcn\",\"oewno\",\"iibad\",\"gduau\",\"witfa\",\"nqmzo\",\"bkmni\",\"qsxrg\",\"gqphr\",\"nmvuv\",\"affuu\",\"jtxrf\",\"jqehe\",\"eddzy\",\"jtxrf\",\"tmxzu\",\"gqphr\",\"nqmzo\",\"jqehe\",\"iibad\",\"qnmsp\",\"pqwya\",\"oewno\",\"wtrua\",\"qaeqc\",\"akktq\",\"affuu\",\"msszc\",\"ccvjp\",\"eddzy\",\"witfa\",\"cmcjc\",\"gonks\",\"qatrp\",\"cumua\",\"khego\",\"duxev\",\"pawfj\",\"affuu\",\"wtrua\",\"xlheu\",\"crlio\",\"saepd\",\"kajbp\",\"bkmni\",\"nqmzo\",\"gonks\",\"glrvx\",\"oewno\",\"akktq\",\"jtxrf\",\"gduau\",\"ttbyf\",\"pzgob\",\"ccvjp\",\"nqrrx\",\"gqphr\",\"qatrp\",\"nlsuc\",\"gmpmw\"]\n",
       "}\n",
       "}],\n",
       "\"data_meta\":{\n",
       "\"series_annotations\":[{\n",
       "\"type\":\"str\",\n",
       "\"column\":\"word\"\n",
       "}]\n",
       "},\n",
       "\"computation_messages\":[\"sampling_pick(n=50) was applied to [bar/count stat] layer\"]\n",
       "};\n",
       "           var plotContainer = document.getElementById(\"WuVX7C\");\n",
       "           window.letsPlotCall(function() {{\n",
       "               LetsPlot.buildPlotFromProcessedSpecs(plotSpec, -1, -1, plotContainer);\n",
       "           }});\n",
       "       })();\n",
       "   </script>"
      ]
     },
     "execution_count": 6,
     "metadata": {},
     "output_type": "execute_result"
    }
   ],
   "source": [
    "p + geomBar(sampling = samplingPick(50), size = 0) { fill = \"g\" }"
   ]
  },
  {
   "cell_type": "markdown",
   "metadata": {},
   "source": [
    "You can also order words by count."
   ]
  },
  {
   "cell_type": "code",
   "execution_count": 7,
   "metadata": {
    "execution": {
     "iopub.execute_input": "2024-10-24T14:51:05.224702Z",
     "iopub.status.busy": "2024-10-24T14:51:05.224316Z",
     "iopub.status.idle": "2024-10-24T14:51:05.289912Z",
     "shell.execute_reply": "2024-10-24T14:51:05.290031Z"
    }
   },
   "outputs": [
    {
     "data": {
      "text/html": [
       "   <div id=\"IDveLI\"></div>\n",
       "   <script type=\"text/javascript\" data-lets-plot-script=\"plot\">\n",
       "       (function() {\n",
       "           var plotSpec={\n",
       "\"mapping\":{\n",
       "\"x\":\"word\"\n",
       "},\n",
       "\"data\":{\n",
       "},\n",
       "\"kind\":\"plot\",\n",
       "\"scales\":[],\n",
       "\"layers\":[{\n",
       "\"mapping\":{\n",
       "\"x\":\"word\",\n",
       "\"fill\":\"g\"\n",
       "},\n",
       "\"stat\":\"count\",\n",
       "\"size\":0.0,\n",
       "\"sampling\":{\n",
       "\"n\":50.0,\n",
       "\"name\":\"pick\"\n",
       "},\n",
       "\"position\":\"stack\",\n",
       "\"geom\":\"bar\",\n",
       "\"data_meta\":{\n",
       "\"mapping_annotations\":[{\n",
       "\"aes\":\"x\",\n",
       "\"annotation\":\"as_discrete\",\n",
       "\"parameters\":{\n",
       "\"label\":\"word\",\n",
       "\"order_by\":\"..count..\"\n",
       "}\n",
       "}]\n",
       "},\n",
       "\"data\":{\n",
       "\"..count..\":[2.0,1.0,3.0,1.0,1.0,1.0,1.0,4.0,3.0,4.0,1.0,3.0,2.0,3.0,3.0,2.0,1.0,1.0,2.0,2.0,2.0,3.0,1.0,2.0,1.0,2.0,2.0,1.0,1.0,1.0,1.0,2.0,1.0,1.0,1.0,1.0,3.0,1.0,2.0,1.0,1.0,1.0,1.0,1.0,1.0,1.0,2.0,1.0,3.0,1.0,3.0,2.0,2.0,3.0,3.0,3.0,2.0,2.0,3.0,2.0,3.0,2.0,1.0,3.0,2.0,2.0,2.0,2.0,1.0,2.0,2.0,2.0,1.0,2.0,2.0,1.0,1.0,2.0,2.0,2.0,2.0,1.0,1.0,1.0,1.0,1.0,1.0,2.0,5.0,2.0,1.0,3.0,2.0,1.0,3.0,4.0,2.0,2.0,3.0,2.0,1.0,1.0,3.0,2.0,1.0,2.0,1.0,1.0,2.0,3.0,3.0,2.0,1.0,1.0,2.0,1.0,1.0,2.0,1.0,1.0,2.0,2.0,1.0,2.0,1.0,1.0,1.0,2.0,2.0],\n",
       "\"g\":[\"c\",\"c\",\"c\",\"c\",\"c\",\"c\",\"c\",\"c\",\"c\",\"c\",\"c\",\"c\",\"c\",\"c\",\"c\",\"c\",\"c\",\"c\",\"c\",\"c\",\"c\",\"c\",\"c\",\"c\",\"c\",\"c\",\"c\",\"c\",\"c\",\"c\",\"c\",\"c\",\"c\",\"c\",\"c\",\"c\",\"c\",\"c\",\"c\",\"c\",\"c\",\"c\",\"c\",\"c\",\"a\",\"a\",\"a\",\"a\",\"a\",\"a\",\"a\",\"a\",\"a\",\"a\",\"a\",\"a\",\"a\",\"a\",\"a\",\"a\",\"a\",\"a\",\"a\",\"a\",\"a\",\"a\",\"a\",\"a\",\"a\",\"a\",\"a\",\"a\",\"a\",\"a\",\"a\",\"a\",\"a\",\"a\",\"a\",\"a\",\"a\",\"a\",\"a\",\"a\",\"a\",\"a\",\"b\",\"b\",\"b\",\"b\",\"b\",\"b\",\"b\",\"b\",\"b\",\"b\",\"b\",\"b\",\"b\",\"b\",\"b\",\"b\",\"b\",\"b\",\"b\",\"b\",\"b\",\"b\",\"b\",\"b\",\"b\",\"b\",\"b\",\"b\",\"b\",\"b\",\"b\",\"b\",\"b\",\"b\",\"b\",\"b\",\"b\",\"b\",\"b\",\"b\",\"b\",\"b\",\"b\"],\n",
       "\"word\":[\"saepd\",\"qatrp\",\"msszc\",\"xlheu\",\"wtrua\",\"akktq\",\"gqphr\",\"affuu\",\"jtxrf\",\"eddzy\",\"flbcq\",\"rrtfa\",\"xnkyp\",\"roqdu\",\"kewds\",\"zekbu\",\"mpefp\",\"xdnpn\",\"qkpgk\",\"cdqou\",\"wjmnv\",\"tpodh\",\"ocinf\",\"mpgwn\",\"udwox\",\"ptnay\",\"pjrdo\",\"qgzna\",\"mpbqz\",\"txmzc\",\"teoae\",\"tuiwm\",\"vcgzf\",\"mnzxk\",\"lzyfx\",\"qrgrp\",\"tqguo\",\"ohngx\",\"vuwob\",\"vsuyc\",\"redjp\",\"vadhy\",\"yhhjn\",\"vwnwf\",\"roqdu\",\"mpgwn\",\"lzyfx\",\"jtxrf\",\"gqphr\",\"cdqou\",\"dpzna\",\"vwnwf\",\"qgzna\",\"qrgrp\",\"teoae\",\"suugr\",\"mnzxk\",\"wtrua\",\"xqsgz\",\"qkpgk\",\"vsuyc\",\"akktq\",\"txmzc\",\"vnxyn\",\"tuiwm\",\"xdnpn\",\"vadhy\",\"mpefp\",\"tqguo\",\"affuu\",\"tpodh\",\"msszc\",\"yhhjn\",\"flbcq\",\"xnkyp\",\"eddzy\",\"wjmnv\",\"kewds\",\"ocinf\",\"vuwob\",\"uswjs\",\"udwox\",\"vcgzf\",\"zekbu\",\"qatrp\",\"ptnay\",\"wjmnv\",\"affuu\",\"kvthq\",\"kewds\",\"wtrua\",\"xlheu\",\"dpzna\",\"suugr\",\"redjp\",\"teoae\",\"vnxyn\",\"saepd\",\"txmzc\",\"vadhy\",\"lzyfx\",\"xdnpn\",\"udwox\",\"ptnay\",\"tuiwm\",\"vwnwf\",\"qrgrp\",\"ocinf\",\"uswjs\",\"mpbqz\",\"ohngx\",\"cdqou\",\"vuwob\",\"mpgwn\",\"akktq\",\"rrtfa\",\"jtxrf\",\"vcgzf\",\"mnzxk\",\"qgzna\",\"xqsgz\",\"flbcq\",\"mpefp\",\"pjrdo\",\"tpodh\",\"gqphr\",\"zekbu\",\"yhhjn\",\"qatrp\"]\n",
       "}\n",
       "}],\n",
       "\"data_meta\":{\n",
       "\"series_annotations\":[{\n",
       "\"type\":\"str\",\n",
       "\"column\":\"word\"\n",
       "}]\n",
       "},\n",
       "\"computation_messages\":[\"sampling_pick(n=50) was applied to [bar/count stat] layer\"]\n",
       "};\n",
       "           var plotContainer = document.getElementById(\"IDveLI\");\n",
       "           window.letsPlotCall(function() {{\n",
       "               LetsPlot.buildPlotFromProcessedSpecs(plotSpec, -1, -1, plotContainer);\n",
       "           }});\n",
       "       })();\n",
       "   </script>"
      ]
     },
     "execution_count": 7,
     "metadata": {},
     "output_type": "execute_result"
    }
   ],
   "source": [
    "p + geomBar(sampling = samplingPick(50), size = 0) {\n",
    "    fill = \"g\"\n",
    "    x = asDiscrete(\"word\", orderBy = \"..count..\")\n",
    "}"
   ]
  }
 ],
 "metadata": {
  "kernelspec": {
   "display_name": "Kotlin",
   "language": "kotlin",
   "name": "kotlin"
  },
  "language_info": {
   "codemirror_mode": "text/x-kotlin",
   "file_extension": ".kt",
   "mimetype": "text/x-kotlin",
   "name": "kotlin",
   "nbconvert_exporter": "",
   "pygments_lexer": "kotlin",
   "version": "1.9.23"
  }
 },
 "nbformat": 4,
 "nbformat_minor": 4
}
