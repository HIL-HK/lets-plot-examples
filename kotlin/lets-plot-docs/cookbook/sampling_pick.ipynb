{
 "cells": [
  {
   "cell_type": "markdown",
   "metadata": {},
   "source": [
    "### Pick Sampling"
   ]
  },
  {
   "cell_type": "code",
   "execution_count": 1,
   "metadata": {},
   "outputs": [
    {
     "data": {
      "text/html": [
       "   <div id=\"3MoKkd\"></div>\n",
       "   <script type=\"text/javascript\" data-lets-plot-script=\"library\">\n",
       "       if(!window.letsPlotCallQueue) {\n",
       "           window.letsPlotCallQueue = [];\n",
       "       }; \n",
       "       window.letsPlotCall = function(f) {\n",
       "           window.letsPlotCallQueue.push(f);\n",
       "       };\n",
       "       (function() {\n",
       "           var script = document.createElement(\"script\");\n",
       "           script.type = \"text/javascript\";\n",
       "           script.src = \"https://cdn.jsdelivr.net/gh/JetBrains/lets-plot@v4.4.1/js-package/distr/lets-plot.min.js\";\n",
       "           script.onload = function() {\n",
       "               window.letsPlotCall = function(f) {f();};\n",
       "               window.letsPlotCallQueue.forEach(function(f) {f();});\n",
       "               window.letsPlotCallQueue = [];\n",
       "               \n",
       "               \n",
       "           };\n",
       "           script.onerror = function(event) {\n",
       "               window.letsPlotCall = function(f) {};\n",
       "               window.letsPlotCallQueue = [];\n",
       "               var div = document.createElement(\"div\");\n",
       "               div.style.color = 'darkred';\n",
       "               div.textContent = 'Error loading Lets-Plot JS';\n",
       "               document.getElementById(\"3MoKkd\").appendChild(div);\n",
       "           };\n",
       "           var e = document.getElementById(\"3MoKkd\");\n",
       "           e.appendChild(script);\n",
       "       })();\n",
       "   </script>"
      ]
     },
     "metadata": {},
     "output_type": "display_data"
    }
   ],
   "source": [
    "%useLatestDescriptors\n",
    "%use lets-plot"
   ]
  },
  {
   "cell_type": "code",
   "execution_count": 2,
   "metadata": {},
   "outputs": [],
   "source": [
    "import kotlin.random.Random\n",
    "\n",
    "fun genWord(length: Int, rnd: Random):String {\n",
    "    val letters = ('a'..'z')\n",
    "    return List(length) { letters.random(rnd) }.joinToString(\"\")\n",
    "}    \n",
    "\n",
    "fun genWordSet(n: Int, seed: Int = 42):Set<String> {\n",
    "    val rnd = Random(seed)\n",
    "    val words = HashSet<String>()\n",
    "    while (words.size < n) {\n",
    "        words.add(genWord(5, rnd))\n",
    "    }\n",
    "    return words\n",
    "}\n",
    "\n",
    "fun data(n: Int, words: Set<String>):Map<String, *> {\n",
    "    val rnd = Random(42)\n",
    "    return mapOf(\n",
    "        \"word\" to List(n) { words.random(rnd) },\n",
    "        \"g\" to List(n) { listOf('a','b','c').random(rnd) }\n",
    "    )\n",
    "}"
   ]
  },
  {
   "cell_type": "code",
   "execution_count": 3,
   "metadata": {},
   "outputs": [],
   "source": [
    "// Number of unique words exceeds threshold (50) of default 'pick' sampling on bar chart.\n",
    "val words = genWordSet(500)\n",
    "val dat = data(1000, words)\n",
    "val p = ggplot(dat) { x = \"word\" }"
   ]
  },
  {
   "cell_type": "code",
   "execution_count": 4,
   "metadata": {},
   "outputs": [
    {
     "data": {
      "text/html": [
       "   <div id=\"lcnMkb\"></div>\n",
       "   <script type=\"text/javascript\" data-lets-plot-script=\"plot\">\n",
       "       (function() {\n",
       "           var plotSpec={\n",
       "\"mapping\":{\n",
       "\"x\":\"word\"\n",
       "},\n",
       "\"data\":{\n",
       "},\n",
       "\"kind\":\"plot\",\n",
       "\"scales\":[],\n",
       "\"layers\":[{\n",
       "\"mapping\":{\n",
       "},\n",
       "\"stat\":\"count\",\n",
       "\"size\":0.0,\n",
       "\"sampling\":\"none\",\n",
       "\"position\":\"stack\",\n",
       "\"geom\":\"bar\",\n",
       "\"data\":{\n",
       "\"..count..\":[2.0,2.0,3.0,2.0,1.0,2.0,3.0,3.0,4.0,4.0,2.0,2.0,2.0,3.0,3.0,3.0,4.0,2.0,3.0,3.0,2.0,4.0,3.0,3.0,4.0,1.0,4.0,4.0,3.0,2.0,3.0,3.0,2.0,8.0,5.0,2.0,4.0,2.0,3.0,3.0,2.0,5.0,3.0,3.0,2.0,2.0,2.0,2.0,5.0,3.0,4.0,1.0,2.0,1.0,1.0,2.0,4.0,2.0,2.0,3.0,3.0,2.0,3.0,3.0,1.0,2.0,2.0,2.0,5.0,4.0,3.0,5.0,2.0,5.0,3.0,2.0,2.0,5.0,3.0,4.0,2.0,7.0,2.0,2.0,3.0,1.0,3.0,3.0,4.0,2.0,5.0,3.0,3.0,5.0,3.0,1.0,2.0,3.0,2.0,3.0,2.0,3.0,4.0,2.0,3.0,2.0,2.0,3.0,3.0,2.0,2.0,3.0,2.0,2.0,2.0,3.0,4.0,5.0,2.0,5.0,2.0,4.0,1.0,4.0,2.0,3.0,2.0,2.0,4.0,1.0,2.0,3.0,3.0,3.0,3.0,1.0,3.0,2.0,3.0,2.0,3.0,1.0,3.0,4.0,4.0,3.0,3.0,1.0,2.0,3.0,4.0,3.0,3.0,2.0,4.0,2.0,3.0,4.0,2.0,3.0,3.0,2.0,8.0,4.0,5.0,4.0,3.0,2.0,4.0,3.0,2.0,4.0,3.0,2.0,4.0,2.0,3.0,1.0,3.0,2.0,1.0,1.0,4.0,2.0,3.0,2.0,4.0,3.0,3.0,4.0,3.0,2.0,3.0,3.0,3.0,5.0,1.0,5.0,2.0,3.0,1.0,1.0,4.0,2.0,2.0,5.0,4.0,2.0,1.0,2.0,1.0,1.0,2.0,2.0,3.0,3.0,2.0,2.0,2.0,1.0,2.0,4.0,3.0,2.0,2.0,4.0,1.0,4.0,4.0,2.0,2.0,2.0,2.0,1.0,4.0,2.0,1.0,3.0,1.0,3.0,5.0,5.0,1.0,1.0,1.0,1.0,1.0,2.0,5.0,4.0,2.0,1.0,1.0,2.0,2.0,1.0,4.0,3.0,2.0,1.0,2.0,2.0,4.0,2.0,2.0,3.0,1.0,1.0,2.0,1.0,1.0,1.0,6.0,3.0,2.0,3.0,2.0,2.0,2.0,2.0,3.0,4.0,2.0,2.0,4.0,2.0,4.0,4.0,3.0,1.0,2.0,5.0,1.0,3.0,3.0,2.0,1.0,2.0,1.0,1.0,3.0,1.0,1.0,1.0,2.0,2.0,4.0,1.0,2.0,1.0,4.0,4.0,1.0,2.0,2.0,3.0,3.0,4.0,2.0,1.0,1.0,1.0,1.0,1.0,3.0,1.0,2.0,1.0,1.0,3.0,3.0,1.0,1.0,1.0,2.0,1.0,1.0,3.0,2.0,1.0,4.0,1.0,1.0,2.0,1.0,2.0,2.0,1.0,1.0,2.0,2.0,4.0,1.0,2.0,1.0,1.0,2.0,1.0,1.0,1.0,1.0,1.0,1.0,1.0,1.0,1.0,2.0,1.0,1.0,2.0,3.0,2.0,2.0,2.0,2.0,1.0,1.0,2.0,1.0,3.0,1.0,1.0,1.0,1.0,1.0,1.0,1.0,3.0,1.0,1.0,2.0,1.0,1.0,1.0,1.0,1.0,1.0,1.0,1.0,1.0,1.0,1.0,1.0,1.0,1.0,1.0,2.0,1.0,1.0,1.0,1.0,1.0,1.0,1.0,2.0,1.0,1.0,1.0,1.0,1.0,1.0,1.0,1.0,1.0,1.0,1.0,1.0,1.0,1.0,1.0,1.0,1.0],\n",
       "\"word\":[\"gmpmw\",\"khego\",\"pambc\",\"jpyix\",\"bledi\",\"xfmyr\",\"tpycu\",\"nnvzu\",\"roqdu\",\"mpgwn\",\"exmhb\",\"qsmcf\",\"dobny\",\"duxev\",\"limmt\",\"jgsau\",\"cmcjc\",\"sempg\",\"jjtfv\",\"xqohr\",\"hmkub\",\"ccvjp\",\"tmxzu\",\"amwxa\",\"lzyfx\",\"hvofa\",\"wjmnv\",\"saepd\",\"pawfj\",\"exyhd\",\"yyyof\",\"mhsxj\",\"cumua\",\"affuu\",\"jtxrf\",\"glrvx\",\"qatrp\",\"nrpak\",\"fzrac\",\"difuk\",\"xodhj\",\"gqphr\",\"lgqtu\",\"lbyst\",\"kkilv\",\"pqwya\",\"nfrqp\",\"ezbzi\",\"msszc\",\"sjygd\",\"xlheu\",\"epnuf\",\"recsq\",\"hyzen\",\"vhrdh\",\"nqrrx\",\"wtrua\",\"vpkbq\",\"ttbyf\",\"obplr\",\"weifr\",\"crlio\",\"gbnsl\",\"nlsuc\",\"jgdna\",\"viyev\",\"jhtrv\",\"nsrbk\",\"kvthq\",\"kajbp\",\"dzeer\",\"cdqou\",\"gjaiw\",\"dpzna\",\"qnmsp\",\"sikrg\",\"ibpmh\",\"vwnwf\",\"ofysx\",\"qgzna\",\"zxtke\",\"kewds\",\"uhnzb\",\"pcnjh\",\"yizye\",\"jzdfv\",\"pfutc\",\"pzgob\",\"gonks\",\"gcplt\",\"akktq\",\"qaeqc\",\"ymbcn\",\"qrgrp\",\"nqmzo\",\"jjrhy\",\"xcwqx\",\"jqehe\",\"xdsfp\",\"oewno\",\"amzho\",\"auduw\",\"iibad\",\"gduau\",\"zeyhq\",\"witfa\",\"mephc\",\"uyjie\",\"jxzjl\",\"mqusp\",\"dhrwb\",\"hhgpl\",\"bkmni\",\"qsxrg\",\"nmvuv\",\"irrjn\",\"suugr\",\"eddzy\",\"yjrew\",\"flbcq\",\"ohnfm\",\"redjp\",\"ygabb\",\"rrtfa\",\"kafxw\",\"szrhr\",\"jcboq\",\"uuegl\",\"bjitw\",\"pzcbg\",\"nzaiq\",\"bdfou\",\"oukfd\",\"mmbfh\",\"adypi\",\"naoyh\",\"wuxex\",\"efysy\",\"bfvgy\",\"wnhxs\",\"folhw\",\"nosyb\",\"cmspn\",\"eefra\",\"lxmwr\",\"btkrz\",\"hcagt\",\"hcjjk\",\"zjxll\",\"njfni\",\"xnkyp\",\"eerhk\",\"cterv\",\"vzolv\",\"eymyv\",\"zvgrv\",\"dfopc\",\"faggz\",\"hwbxu\",\"bqxcw\",\"ysxam\",\"gppko\",\"teoae\",\"kozsr\",\"vnxyn\",\"ibfmy\",\"ddgar\",\"mwong\",\"zekbu\",\"hwsff\",\"hianz\",\"dpvha\",\"bqgfz\",\"mhbad\",\"dfjxi\",\"hvquc\",\"upaxs\",\"hdxaf\",\"ehsht\",\"qkgic\",\"pgeap\",\"yiezh\",\"ceuml\",\"zjkqm\",\"jhpzz\",\"pnxvg\",\"drvdi\",\"hsraa\",\"ffrfe\",\"mnzxk\",\"bzpng\",\"oqouc\",\"uscem\",\"tbszc\",\"vhakl\",\"txmzc\",\"fujwf\",\"vadhy\",\"ngeyk\",\"bjjrj\",\"hoanj\",\"vowwx\",\"lbsur\",\"myuas\",\"dakdo\",\"xqsgz\",\"mpefp\",\"sazgc\",\"qzjaa\",\"ummli\",\"oamff\",\"cvxft\",\"eqwwp\",\"eelpl\",\"jaxkf\",\"ocvyx\",\"dpvna\",\"dplov\",\"mmxph\",\"ojzqw\",\"yqwjy\",\"hpnia\",\"dinjz\",\"cjvel\",\"oefbf\",\"qkpgk\",\"danew\",\"leurq\",\"vsuyc\",\"ihlpk\",\"tvstd\",\"jbyob\",\"rhkbu\",\"mocai\",\"xdnpn\",\"dokdm\",\"ehfmk\",\"dtlbm\",\"opxtu\",\"twbah\",\"udwox\",\"ptnay\",\"pvbsl\",\"sbuil\",\"kbliz\",\"dgyqo\",\"kvrds\",\"vznkb\",\"tuiwm\",\"lfkni\",\"gptyx\",\"dnmlv\",\"lmfih\",\"ddmjo\",\"zbwzt\",\"rvytl\",\"exuuf\",\"gjyyj\",\"mxmof\",\"hbava\",\"mlohx\",\"exdxs\",\"ocinf\",\"zmvxd\",\"yajqn\",\"hifwh\",\"qdozs\",\"wcyah\",\"oggyi\",\"zpnqa\",\"ceqgq\",\"qmtgv\",\"tpodh\",\"xxgzp\",\"kitro\",\"sesiy\",\"qackh\",\"mdnpy\",\"hqzki\",\"yngfm\",\"arqrq\",\"uswjs\",\"twobk\",\"xhhrr\",\"mpbqz\",\"yjzeo\",\"ohngx\",\"edhtb\",\"nopxe\",\"blxnl\",\"avxsy\",\"vuwob\",\"arlao\",\"jtiwa\",\"ozxva\",\"zskcd\",\"moiah\",\"ykypc\",\"azruj\",\"alskq\",\"mfqng\",\"gfkqi\",\"gwfrl\",\"kabyd\",\"fovnz\",\"vshsz\",\"vcgzf\",\"ermrp\",\"rmtbl\",\"risbv\",\"tqguo\",\"csabx\",\"yqrla\",\"jscsf\",\"omeoe\",\"vfmky\",\"lyeqh\",\"pjrdo\",\"jxqxb\",\"axfnu\",\"dnfje\",\"usojg\",\"fthzl\",\"jtnyw\",\"ddbyk\",\"louph\",\"frdbh\",\"hibme\",\"crrqe\",\"bdubx\",\"ymtuq\",\"zlamr\",\"czkhk\",\"xbnve\",\"mwvxx\",\"gpaxt\",\"ofntu\",\"xnyen\",\"izlrj\",\"hrkxi\",\"kskoy\",\"kvccv\",\"ausjo\",\"xypld\",\"rjhva\",\"niivs\",\"gosso\",\"vtsxd\",\"hmusx\",\"knuyy\",\"rtshn\",\"yhhjn\",\"wpcey\",\"rmzgm\",\"nwisd\",\"wibqc\",\"cozmi\",\"dhghz\",\"xdvyp\",\"fmugr\",\"sylcw\",\"encho\",\"sebms\",\"pceen\",\"dmfpf\",\"kqfrn\",\"ckpng\",\"oznkr\",\"wezze\",\"ycoxx\",\"iyson\",\"adnmm\",\"vezku\",\"pwnoh\",\"uhxgu\",\"wihqt\",\"nahsc\",\"xtgda\",\"oyrqi\",\"ksmov\",\"balry\",\"mvkid\",\"bfcrw\",\"zogej\",\"zflwh\",\"xxxsl\",\"xalih\",\"wvqxy\",\"oupej\",\"chsuj\",\"oufnq\",\"scxxw\",\"btagb\",\"xzdin\",\"lqtvx\",\"orbhv\",\"npjtw\",\"iiqxg\",\"oxoik\",\"qlbzy\",\"wrpcj\",\"yucel\",\"iehvn\",\"tojyn\",\"ventd\",\"mrihe\",\"qlykd\",\"qohrs\",\"ruigm\",\"gmcnz\",\"jibwj\",\"bpgsm\",\"tuimv\",\"vxmol\",\"tkqtn\",\"nfapu\",\"wywzu\",\"qsemn\",\"iizmk\",\"irzcw\",\"mpzxx\",\"lxlgn\",\"bgnav\",\"suumh\",\"fqizc\",\"vqusc\",\"qomfj\",\"ubzaw\",\"dlgyw\",\"bszlw\",\"otihs\",\"qkxbc\"]\n",
       "}\n",
       "}],\n",
       "\"data_meta\":{\n",
       "\"series_annotations\":[{\n",
       "\"type\":\"str\",\n",
       "\"column\":\"word\"\n",
       "}]\n",
       "}\n",
       "};\n",
       "           var plotContainer = document.getElementById(\"lcnMkb\");\n",
       "           window.letsPlotCall(function() {{\n",
       "               LetsPlot.buildPlotFromProcessedSpecs(plotSpec, -1, -1, plotContainer);\n",
       "           }});\n",
       "       })();\n",
       "   </script>"
      ]
     },
     "execution_count": 4,
     "metadata": {},
     "output_type": "execute_result"
    }
   ],
   "source": [
    "// Disable sampling to see the overplotting.\n",
    "p + geomBar(sampling = samplingNone, size = 0)"
   ]
  },
  {
   "cell_type": "code",
   "execution_count": 5,
   "metadata": {},
   "outputs": [
    {
     "data": {
      "text/html": [
       "   <div id=\"FSYNFL\"></div>\n",
       "   <script type=\"text/javascript\" data-lets-plot-script=\"plot\">\n",
       "       (function() {\n",
       "           var plotSpec={\n",
       "\"mapping\":{\n",
       "\"x\":\"word\"\n",
       "},\n",
       "\"data\":{\n",
       "},\n",
       "\"kind\":\"plot\",\n",
       "\"scales\":[],\n",
       "\"layers\":[{\n",
       "\"mapping\":{\n",
       "},\n",
       "\"stat\":\"count\",\n",
       "\"size\":0.0,\n",
       "\"position\":\"stack\",\n",
       "\"geom\":\"bar\",\n",
       "\"data\":{\n",
       "\"..count..\":[2.0,2.0,3.0,2.0,1.0,2.0,3.0,3.0,4.0,4.0,2.0,2.0,2.0,3.0,3.0,3.0,4.0,2.0,3.0,3.0,2.0,4.0,3.0,3.0,4.0,1.0,4.0,4.0,3.0,2.0,3.0,3.0,2.0,8.0,5.0,2.0,4.0,2.0,3.0,3.0,2.0,5.0,3.0,3.0,2.0,2.0,2.0,2.0,5.0,3.0,4.0,1.0,2.0,1.0,1.0,2.0,4.0,2.0,2.0,3.0,3.0,2.0,3.0,3.0,1.0,2.0,2.0,2.0,5.0,4.0,3.0,5.0,2.0,5.0,3.0,2.0,2.0,5.0,3.0,4.0,2.0,7.0,2.0,2.0,3.0,1.0,3.0,3.0,4.0,2.0,5.0,3.0,3.0,5.0,3.0,1.0,2.0,3.0,2.0,3.0,2.0,3.0,4.0,2.0,3.0,2.0,2.0,3.0,3.0,2.0,2.0,3.0,2.0,2.0,2.0,3.0,4.0,5.0,2.0,5.0,2.0,4.0,1.0,4.0,2.0,3.0,2.0,2.0,4.0,1.0,2.0,3.0,3.0,3.0,3.0,1.0,3.0,2.0,3.0,2.0,3.0,1.0,3.0,4.0,4.0,3.0,3.0,1.0,2.0,3.0,4.0,3.0,3.0,2.0,4.0,2.0,3.0,4.0,2.0,3.0,3.0,2.0,8.0,4.0,5.0,4.0,3.0,2.0,4.0,3.0,2.0,4.0,3.0,2.0,4.0,2.0,3.0,1.0,3.0,2.0,1.0,1.0,4.0,2.0,3.0,2.0,4.0,3.0,3.0,4.0,3.0,2.0,3.0,3.0,3.0,5.0,1.0,5.0,2.0,3.0,1.0,1.0,4.0,2.0,2.0,5.0,4.0,2.0,1.0,2.0,1.0,1.0,2.0,2.0,3.0,3.0,2.0,2.0,2.0,1.0,2.0,4.0,3.0,2.0,2.0,4.0,1.0,4.0,4.0,2.0,2.0,2.0,2.0,1.0,4.0,2.0,1.0,3.0,1.0,3.0,5.0,5.0,1.0,1.0,1.0,1.0,1.0,2.0,5.0,4.0,2.0,1.0,1.0,2.0,2.0,1.0,4.0,3.0,2.0,1.0,2.0,2.0,4.0,2.0,2.0,3.0,1.0,1.0,2.0,1.0,1.0,1.0,6.0,3.0,2.0,3.0,2.0,2.0,2.0,2.0,3.0,4.0,2.0,2.0,4.0,2.0,4.0,4.0,3.0,1.0,2.0,5.0,1.0,3.0,3.0,2.0,1.0,2.0,1.0,1.0,3.0,1.0,1.0,1.0,2.0,2.0,4.0,1.0,2.0,1.0,4.0,4.0,1.0,2.0,2.0,3.0,3.0,4.0,2.0,1.0,1.0,1.0,1.0,1.0,3.0,1.0,2.0,1.0,1.0,3.0,3.0,1.0,1.0,1.0,2.0,1.0,1.0,3.0,2.0,1.0,4.0,1.0,1.0,2.0,1.0,2.0,2.0,1.0,1.0,2.0,2.0,4.0,1.0,2.0,1.0,1.0,2.0,1.0,1.0,1.0,1.0,1.0,1.0,1.0,1.0,1.0,2.0,1.0,1.0,2.0,3.0,2.0,2.0,2.0,2.0,1.0,1.0,2.0,1.0,3.0,1.0,1.0,1.0,1.0,1.0,1.0,1.0,3.0,1.0,1.0,2.0,1.0,1.0,1.0,1.0,1.0,1.0,1.0,1.0,1.0,1.0,1.0,1.0,1.0,1.0,1.0,2.0,1.0,1.0,1.0,1.0,1.0,1.0,1.0,2.0,1.0,1.0,1.0,1.0,1.0,1.0,1.0,1.0,1.0,1.0,1.0,1.0,1.0,1.0,1.0,1.0,1.0],\n",
       "\"word\":[\"gmpmw\",\"khego\",\"pambc\",\"jpyix\",\"bledi\",\"xfmyr\",\"tpycu\",\"nnvzu\",\"roqdu\",\"mpgwn\",\"exmhb\",\"qsmcf\",\"dobny\",\"duxev\",\"limmt\",\"jgsau\",\"cmcjc\",\"sempg\",\"jjtfv\",\"xqohr\",\"hmkub\",\"ccvjp\",\"tmxzu\",\"amwxa\",\"lzyfx\",\"hvofa\",\"wjmnv\",\"saepd\",\"pawfj\",\"exyhd\",\"yyyof\",\"mhsxj\",\"cumua\",\"affuu\",\"jtxrf\",\"glrvx\",\"qatrp\",\"nrpak\",\"fzrac\",\"difuk\",\"xodhj\",\"gqphr\",\"lgqtu\",\"lbyst\",\"kkilv\",\"pqwya\",\"nfrqp\",\"ezbzi\",\"msszc\",\"sjygd\",\"xlheu\",\"epnuf\",\"recsq\",\"hyzen\",\"vhrdh\",\"nqrrx\",\"wtrua\",\"vpkbq\",\"ttbyf\",\"obplr\",\"weifr\",\"crlio\",\"gbnsl\",\"nlsuc\",\"jgdna\",\"viyev\",\"jhtrv\",\"nsrbk\",\"kvthq\",\"kajbp\",\"dzeer\",\"cdqou\",\"gjaiw\",\"dpzna\",\"qnmsp\",\"sikrg\",\"ibpmh\",\"vwnwf\",\"ofysx\",\"qgzna\",\"zxtke\",\"kewds\",\"uhnzb\",\"pcnjh\",\"yizye\",\"jzdfv\",\"pfutc\",\"pzgob\",\"gonks\",\"gcplt\",\"akktq\",\"qaeqc\",\"ymbcn\",\"qrgrp\",\"nqmzo\",\"jjrhy\",\"xcwqx\",\"jqehe\",\"xdsfp\",\"oewno\",\"amzho\",\"auduw\",\"iibad\",\"gduau\",\"zeyhq\",\"witfa\",\"mephc\",\"uyjie\",\"jxzjl\",\"mqusp\",\"dhrwb\",\"hhgpl\",\"bkmni\",\"qsxrg\",\"nmvuv\",\"irrjn\",\"suugr\",\"eddzy\",\"yjrew\",\"flbcq\",\"ohnfm\",\"redjp\",\"ygabb\",\"rrtfa\",\"kafxw\",\"szrhr\",\"jcboq\",\"uuegl\",\"bjitw\",\"pzcbg\",\"nzaiq\",\"bdfou\",\"oukfd\",\"mmbfh\",\"adypi\",\"naoyh\",\"wuxex\",\"efysy\",\"bfvgy\",\"wnhxs\",\"folhw\",\"nosyb\",\"cmspn\",\"eefra\",\"lxmwr\",\"btkrz\",\"hcagt\",\"hcjjk\",\"zjxll\",\"njfni\",\"xnkyp\",\"eerhk\",\"cterv\",\"vzolv\",\"eymyv\",\"zvgrv\",\"dfopc\",\"faggz\",\"hwbxu\",\"bqxcw\",\"ysxam\",\"gppko\",\"teoae\",\"kozsr\",\"vnxyn\",\"ibfmy\",\"ddgar\",\"mwong\",\"zekbu\",\"hwsff\",\"hianz\",\"dpvha\",\"bqgfz\",\"mhbad\",\"dfjxi\",\"hvquc\",\"upaxs\",\"hdxaf\",\"ehsht\",\"qkgic\",\"pgeap\",\"yiezh\",\"ceuml\",\"zjkqm\",\"jhpzz\",\"pnxvg\",\"drvdi\",\"hsraa\",\"ffrfe\",\"mnzxk\",\"bzpng\",\"oqouc\",\"uscem\",\"tbszc\",\"vhakl\",\"txmzc\",\"fujwf\",\"vadhy\",\"ngeyk\",\"bjjrj\",\"hoanj\",\"vowwx\",\"lbsur\",\"myuas\",\"dakdo\",\"xqsgz\",\"mpefp\",\"sazgc\",\"qzjaa\",\"ummli\",\"oamff\",\"cvxft\",\"eqwwp\",\"eelpl\",\"jaxkf\",\"ocvyx\",\"dpvna\",\"dplov\",\"mmxph\",\"ojzqw\",\"yqwjy\",\"hpnia\",\"dinjz\",\"cjvel\",\"oefbf\",\"qkpgk\",\"danew\",\"leurq\",\"vsuyc\",\"ihlpk\",\"tvstd\",\"jbyob\",\"rhkbu\",\"mocai\",\"xdnpn\",\"dokdm\",\"ehfmk\",\"dtlbm\",\"opxtu\",\"twbah\",\"udwox\",\"ptnay\",\"pvbsl\",\"sbuil\",\"kbliz\",\"dgyqo\",\"kvrds\",\"vznkb\",\"tuiwm\",\"lfkni\",\"gptyx\",\"dnmlv\",\"lmfih\",\"ddmjo\",\"zbwzt\",\"rvytl\",\"exuuf\",\"gjyyj\",\"mxmof\",\"hbava\",\"mlohx\",\"exdxs\",\"ocinf\",\"zmvxd\",\"yajqn\",\"hifwh\",\"qdozs\",\"wcyah\",\"oggyi\",\"zpnqa\",\"ceqgq\",\"qmtgv\",\"tpodh\",\"xxgzp\",\"kitro\",\"sesiy\",\"qackh\",\"mdnpy\",\"hqzki\",\"yngfm\",\"arqrq\",\"uswjs\",\"twobk\",\"xhhrr\",\"mpbqz\",\"yjzeo\",\"ohngx\",\"edhtb\",\"nopxe\",\"blxnl\",\"avxsy\",\"vuwob\",\"arlao\",\"jtiwa\",\"ozxva\",\"zskcd\",\"moiah\",\"ykypc\",\"azruj\",\"alskq\",\"mfqng\",\"gfkqi\",\"gwfrl\",\"kabyd\",\"fovnz\",\"vshsz\",\"vcgzf\",\"ermrp\",\"rmtbl\",\"risbv\",\"tqguo\",\"csabx\",\"yqrla\",\"jscsf\",\"omeoe\",\"vfmky\",\"lyeqh\",\"pjrdo\",\"jxqxb\",\"axfnu\",\"dnfje\",\"usojg\",\"fthzl\",\"jtnyw\",\"ddbyk\",\"louph\",\"frdbh\",\"hibme\",\"crrqe\",\"bdubx\",\"ymtuq\",\"zlamr\",\"czkhk\",\"xbnve\",\"mwvxx\",\"gpaxt\",\"ofntu\",\"xnyen\",\"izlrj\",\"hrkxi\",\"kskoy\",\"kvccv\",\"ausjo\",\"xypld\",\"rjhva\",\"niivs\",\"gosso\",\"vtsxd\",\"hmusx\",\"knuyy\",\"rtshn\",\"yhhjn\",\"wpcey\",\"rmzgm\",\"nwisd\",\"wibqc\",\"cozmi\",\"dhghz\",\"xdvyp\",\"fmugr\",\"sylcw\",\"encho\",\"sebms\",\"pceen\",\"dmfpf\",\"kqfrn\",\"ckpng\",\"oznkr\",\"wezze\",\"ycoxx\",\"iyson\",\"adnmm\",\"vezku\",\"pwnoh\",\"uhxgu\",\"wihqt\",\"nahsc\",\"xtgda\",\"oyrqi\",\"ksmov\",\"balry\",\"mvkid\",\"bfcrw\",\"zogej\",\"zflwh\",\"xxxsl\",\"xalih\",\"wvqxy\",\"oupej\",\"chsuj\",\"oufnq\",\"scxxw\",\"btagb\",\"xzdin\",\"lqtvx\",\"orbhv\",\"npjtw\",\"iiqxg\",\"oxoik\",\"qlbzy\",\"wrpcj\",\"yucel\",\"iehvn\",\"tojyn\",\"ventd\",\"mrihe\",\"qlykd\",\"qohrs\",\"ruigm\",\"gmcnz\",\"jibwj\",\"bpgsm\",\"tuimv\",\"vxmol\",\"tkqtn\",\"nfapu\",\"wywzu\",\"qsemn\",\"iizmk\",\"irzcw\",\"mpzxx\",\"lxlgn\",\"bgnav\",\"suumh\",\"fqizc\",\"vqusc\",\"qomfj\",\"ubzaw\",\"dlgyw\",\"bszlw\",\"otihs\",\"qkxbc\"]\n",
       "}\n",
       "}],\n",
       "\"data_meta\":{\n",
       "\"series_annotations\":[{\n",
       "\"type\":\"str\",\n",
       "\"column\":\"word\"\n",
       "}]\n",
       "}\n",
       "};\n",
       "           var plotContainer = document.getElementById(\"FSYNFL\");\n",
       "           window.letsPlotCall(function() {{\n",
       "               LetsPlot.buildPlotFromProcessedSpecs(plotSpec, -1, -1, plotContainer);\n",
       "           }});\n",
       "       })();\n",
       "   </script>"
      ]
     },
     "execution_count": 5,
     "metadata": {},
     "output_type": "execute_result"
    }
   ],
   "source": [
    "// Draw plot with default sampling.\n",
    "p + geomBar(size = 0)"
   ]
  },
  {
   "cell_type": "code",
   "execution_count": 6,
   "metadata": {},
   "outputs": [
    {
     "data": {
      "text/html": [
       "   <div id=\"RyjbTM\"></div>\n",
       "   <script type=\"text/javascript\" data-lets-plot-script=\"plot\">\n",
       "       (function() {\n",
       "           var plotSpec={\n",
       "\"mapping\":{\n",
       "\"x\":\"word\"\n",
       "},\n",
       "\"data\":{\n",
       "},\n",
       "\"kind\":\"plot\",\n",
       "\"scales\":[],\n",
       "\"layers\":[{\n",
       "\"mapping\":{\n",
       "\"fill\":\"g\"\n",
       "},\n",
       "\"stat\":\"count\",\n",
       "\"size\":0.0,\n",
       "\"position\":\"stack\",\n",
       "\"geom\":\"bar\",\n",
       "\"data\":{\n",
       "\"..count..\":[1.0,1.0,1.0,2.0,3.0,2.0,2.0,2.0,2.0,1.0,2.0,2.0,1.0,1.0,1.0,2.0,2.0,1.0,3.0,1.0,1.0,1.0,1.0,1.0,1.0,2.0,1.0,2.0,1.0,2.0,2.0,2.0,2.0,1.0,1.0,2.0,3.0,1.0,2.0,1.0,1.0,1.0,1.0,2.0,1.0,2.0,4.0,3.0,2.0,4.0,2.0,1.0,1.0,3.0,1.0,3.0,1.0,2.0,2.0,1.0,1.0,2.0,1.0,2.0,2.0,3.0,3.0,1.0,3.0,3.0,2.0,2.0,1.0,1.0,2.0,1.0,1.0,1.0,3.0,2.0,1.0,1.0,1.0,1.0,2.0,1.0,1.0,1.0,1.0,1.0,2.0,3.0,3.0,1.0,1.0,1.0,1.0,1.0,2.0,1.0,1.0,1.0,2.0,1.0,1.0,1.0,1.0,1.0,1.0,1.0,1.0,1.0,1.0,1.0,2.0,2.0,1.0,1.0,2.0,1.0,3.0,1.0,1.0,2.0,2.0,1.0,1.0,1.0,2.0,1.0,1.0,1.0,1.0,1.0,1.0,2.0,1.0,1.0,2.0,2.0,2.0,1.0,3.0,3.0,2.0,1.0,1.0,1.0,1.0,1.0,1.0,1.0,1.0,2.0,1.0,1.0,1.0,1.0,1.0,1.0,1.0,1.0,1.0,1.0,1.0,1.0,2.0,2.0,2.0,1.0,1.0,1.0,1.0,1.0,1.0,1.0,1.0,1.0,1.0,2.0,1.0,1.0,1.0,1.0,2.0,1.0,1.0,1.0,2.0,1.0,1.0,1.0,1.0,1.0,1.0,2.0,1.0,2.0,3.0,1.0,1.0,1.0,1.0,2.0,1.0,1.0,1.0,2.0,1.0,3.0,1.0,1.0,1.0,1.0,1.0,1.0,1.0,2.0,1.0,1.0,1.0,1.0,1.0,1.0,1.0,1.0,1.0,1.0,1.0,1.0,1.0,1.0,1.0,1.0,1.0,1.0,1.0,1.0,1.0,1.0,1.0,1.0,1.0,1.0,2.0,1.0,1.0,1.0,2.0,1.0,1.0,2.0,1.0,1.0,2.0,1.0,2.0,3.0,1.0,2.0,1.0,1.0,1.0,2.0,2.0,2.0,1.0,3.0,2.0,2.0,1.0,1.0,3.0,1.0,1.0,1.0,2.0,1.0,2.0,1.0,2.0,1.0,2.0,1.0,2.0,1.0,1.0,1.0,1.0,2.0,2.0,2.0,1.0,1.0,2.0,3.0,2.0,1.0,2.0,3.0,3.0,1.0,2.0,3.0,1.0,1.0,2.0,2.0,1.0,2.0,2.0,1.0,1.0,1.0,1.0,1.0,2.0,2.0,2.0,2.0,3.0,1.0,1.0,1.0,2.0,2.0,1.0,1.0,2.0,1.0,3.0,1.0,1.0,1.0,2.0,1.0,2.0,1.0,2.0,1.0,1.0,3.0,1.0,2.0,1.0,1.0,1.0,1.0,1.0,1.0,1.0,1.0,2.0,1.0,2.0,1.0,2.0,1.0,2.0,2.0,1.0,3.0,1.0,1.0,2.0,2.0,2.0,1.0,2.0,1.0,1.0,1.0,2.0,1.0,2.0,1.0,1.0,1.0,1.0,2.0,1.0,1.0,1.0,2.0,1.0,1.0,2.0,1.0,1.0,2.0,1.0,3.0,1.0,2.0,1.0,1.0,1.0,1.0,1.0,1.0,1.0,1.0,1.0,1.0,1.0,1.0,1.0,1.0,2.0,2.0,1.0,1.0,1.0,1.0,1.0,1.0,1.0,1.0,1.0,1.0,1.0,1.0,2.0,2.0,1.0,2.0,1.0,1.0,2.0,1.0,1.0,2.0,1.0,1.0,1.0,1.0,1.0,1.0,1.0,1.0,1.0,1.0,1.0,1.0,2.0,1.0,2.0,1.0,1.0,1.0,1.0,1.0,1.0,1.0,1.0,1.0,1.0,1.0,1.0,2.0,1.0,1.0,1.0,1.0,1.0,1.0,1.0,1.0,1.0,1.0,1.0,1.0,1.0,1.0,1.0,1.0,1.0,1.0,2.0,1.0,1.0,2.0,1.0,2.0,2.0,1.0,1.0,1.0,2.0,2.0,3.0,2.0,2.0,1.0,2.0,1.0,1.0,2.0,1.0,5.0,2.0,2.0,1.0,1.0,1.0,2.0,2.0,2.0,1.0,3.0,1.0,1.0,2.0,1.0,2.0,1.0,3.0,1.0,1.0,1.0,2.0,1.0,1.0,1.0,3.0,1.0,1.0,1.0,2.0,2.0,2.0,2.0,2.0,1.0,2.0,1.0,1.0,2.0,4.0,2.0,2.0,2.0,2.0,1.0,1.0,1.0,1.0,2.0,1.0,1.0,1.0,1.0,2.0,1.0,2.0,3.0,1.0,2.0,3.0,1.0,1.0,2.0,1.0,1.0,1.0,1.0,2.0,4.0,2.0,1.0,1.0,1.0,1.0,2.0,2.0,1.0,3.0,2.0,2.0,1.0,1.0,1.0,1.0,2.0,1.0,1.0,1.0,2.0,1.0,1.0,1.0,2.0,1.0,2.0,1.0,2.0,2.0,2.0,3.0,3.0,2.0,2.0,1.0,2.0,1.0,1.0,1.0,1.0,2.0,1.0,2.0,1.0,2.0,1.0,1.0,2.0,1.0,1.0,1.0,1.0,2.0,1.0,1.0,1.0,2.0,1.0,1.0,1.0,2.0,1.0,1.0,1.0,1.0,1.0,2.0,1.0,1.0,1.0,2.0,2.0,1.0,1.0,1.0,1.0,1.0,1.0,2.0,1.0,2.0,1.0,1.0,1.0,1.0,1.0,1.0,2.0,1.0,1.0,1.0,1.0,1.0,2.0,1.0,1.0,1.0,1.0,1.0,1.0,1.0,1.0,1.0,1.0,2.0,1.0,1.0,1.0,1.0,1.0,1.0,2.0,1.0,1.0,1.0,1.0,2.0,1.0,1.0,1.0,1.0,1.0,1.0,1.0,1.0,1.0,1.0,1.0,1.0,1.0,1.0,1.0,1.0,1.0,1.0,1.0,1.0,1.0,1.0,1.0,1.0,1.0,1.0,1.0,1.0,1.0,1.0,1.0,1.0,1.0],\n",
       "\"g\":[\"c\",\"c\",\"c\",\"c\",\"c\",\"c\",\"c\",\"c\",\"c\",\"c\",\"c\",\"c\",\"c\",\"c\",\"c\",\"c\",\"c\",\"c\",\"c\",\"c\",\"c\",\"c\",\"c\",\"c\",\"c\",\"c\",\"c\",\"c\",\"c\",\"c\",\"c\",\"c\",\"c\",\"c\",\"c\",\"c\",\"c\",\"c\",\"c\",\"c\",\"c\",\"c\",\"c\",\"c\",\"c\",\"c\",\"c\",\"c\",\"c\",\"c\",\"c\",\"c\",\"c\",\"c\",\"c\",\"c\",\"c\",\"c\",\"c\",\"c\",\"c\",\"c\",\"c\",\"c\",\"c\",\"c\",\"c\",\"c\",\"c\",\"c\",\"c\",\"c\",\"c\",\"c\",\"c\",\"c\",\"c\",\"c\",\"c\",\"c\",\"c\",\"c\",\"c\",\"c\",\"c\",\"c\",\"c\",\"c\",\"c\",\"c\",\"c\",\"c\",\"c\",\"c\",\"c\",\"c\",\"c\",\"c\",\"c\",\"c\",\"c\",\"c\",\"c\",\"c\",\"c\",\"c\",\"c\",\"c\",\"c\",\"c\",\"c\",\"c\",\"c\",\"c\",\"c\",\"c\",\"c\",\"c\",\"c\",\"c\",\"c\",\"c\",\"c\",\"c\",\"c\",\"c\",\"c\",\"c\",\"c\",\"c\",\"c\",\"c\",\"c\",\"c\",\"c\",\"c\",\"c\",\"c\",\"c\",\"c\",\"c\",\"c\",\"c\",\"c\",\"c\",\"c\",\"c\",\"c\",\"c\",\"c\",\"c\",\"c\",\"c\",\"c\",\"c\",\"c\",\"c\",\"c\",\"c\",\"c\",\"c\",\"c\",\"c\",\"c\",\"c\",\"c\",\"c\",\"c\",\"c\",\"c\",\"c\",\"c\",\"c\",\"c\",\"c\",\"c\",\"c\",\"c\",\"c\",\"c\",\"c\",\"c\",\"c\",\"c\",\"c\",\"c\",\"c\",\"c\",\"c\",\"c\",\"c\",\"c\",\"c\",\"c\",\"c\",\"c\",\"c\",\"c\",\"c\",\"c\",\"c\",\"c\",\"c\",\"c\",\"c\",\"c\",\"c\",\"c\",\"c\",\"c\",\"c\",\"c\",\"c\",\"c\",\"c\",\"c\",\"c\",\"c\",\"c\",\"c\",\"c\",\"c\",\"c\",\"c\",\"c\",\"c\",\"c\",\"c\",\"c\",\"c\",\"c\",\"c\",\"c\",\"c\",\"c\",\"c\",\"c\",\"c\",\"c\",\"c\",\"c\",\"c\",\"c\",\"c\",\"a\",\"a\",\"a\",\"a\",\"a\",\"a\",\"a\",\"a\",\"a\",\"a\",\"a\",\"a\",\"a\",\"a\",\"a\",\"a\",\"a\",\"a\",\"a\",\"a\",\"a\",\"a\",\"a\",\"a\",\"a\",\"a\",\"a\",\"a\",\"a\",\"a\",\"a\",\"a\",\"a\",\"a\",\"a\",\"a\",\"a\",\"a\",\"a\",\"a\",\"a\",\"a\",\"a\",\"a\",\"a\",\"a\",\"a\",\"a\",\"a\",\"a\",\"a\",\"a\",\"a\",\"a\",\"a\",\"a\",\"a\",\"a\",\"a\",\"a\",\"a\",\"a\",\"a\",\"a\",\"a\",\"a\",\"a\",\"a\",\"a\",\"a\",\"a\",\"a\",\"a\",\"a\",\"a\",\"a\",\"a\",\"a\",\"a\",\"a\",\"a\",\"a\",\"a\",\"a\",\"a\",\"a\",\"a\",\"a\",\"a\",\"a\",\"a\",\"a\",\"a\",\"a\",\"a\",\"a\",\"a\",\"a\",\"a\",\"a\",\"a\",\"a\",\"a\",\"a\",\"a\",\"a\",\"a\",\"a\",\"a\",\"a\",\"a\",\"a\",\"a\",\"a\",\"a\",\"a\",\"a\",\"a\",\"a\",\"a\",\"a\",\"a\",\"a\",\"a\",\"a\",\"a\",\"a\",\"a\",\"a\",\"a\",\"a\",\"a\",\"a\",\"a\",\"a\",\"a\",\"a\",\"a\",\"a\",\"a\",\"a\",\"a\",\"a\",\"a\",\"a\",\"a\",\"a\",\"a\",\"a\",\"a\",\"a\",\"a\",\"a\",\"a\",\"a\",\"a\",\"a\",\"a\",\"a\",\"a\",\"a\",\"a\",\"a\",\"a\",\"a\",\"a\",\"a\",\"a\",\"a\",\"a\",\"a\",\"a\",\"a\",\"a\",\"a\",\"a\",\"a\",\"a\",\"a\",\"a\",\"a\",\"a\",\"a\",\"a\",\"a\",\"a\",\"a\",\"a\",\"a\",\"a\",\"a\",\"a\",\"a\",\"a\",\"a\",\"a\",\"a\",\"a\",\"a\",\"a\",\"a\",\"a\",\"a\",\"a\",\"a\",\"a\",\"a\",\"a\",\"a\",\"a\",\"a\",\"a\",\"a\",\"a\",\"a\",\"a\",\"a\",\"a\",\"a\",\"a\",\"a\",\"a\",\"a\",\"a\",\"a\",\"a\",\"a\",\"a\",\"a\",\"a\",\"a\",\"a\",\"a\",\"a\",\"b\",\"b\",\"b\",\"b\",\"b\",\"b\",\"b\",\"b\",\"b\",\"b\",\"b\",\"b\",\"b\",\"b\",\"b\",\"b\",\"b\",\"b\",\"b\",\"b\",\"b\",\"b\",\"b\",\"b\",\"b\",\"b\",\"b\",\"b\",\"b\",\"b\",\"b\",\"b\",\"b\",\"b\",\"b\",\"b\",\"b\",\"b\",\"b\",\"b\",\"b\",\"b\",\"b\",\"b\",\"b\",\"b\",\"b\",\"b\",\"b\",\"b\",\"b\",\"b\",\"b\",\"b\",\"b\",\"b\",\"b\",\"b\",\"b\",\"b\",\"b\",\"b\",\"b\",\"b\",\"b\",\"b\",\"b\",\"b\",\"b\",\"b\",\"b\",\"b\",\"b\",\"b\",\"b\",\"b\",\"b\",\"b\",\"b\",\"b\",\"b\",\"b\",\"b\",\"b\",\"b\",\"b\",\"b\",\"b\",\"b\",\"b\",\"b\",\"b\",\"b\",\"b\",\"b\",\"b\",\"b\",\"b\",\"b\",\"b\",\"b\",\"b\",\"b\",\"b\",\"b\",\"b\",\"b\",\"b\",\"b\",\"b\",\"b\",\"b\",\"b\",\"b\",\"b\",\"b\",\"b\",\"b\",\"b\",\"b\",\"b\",\"b\",\"b\",\"b\",\"b\",\"b\",\"b\",\"b\",\"b\",\"b\",\"b\",\"b\",\"b\",\"b\",\"b\",\"b\",\"b\",\"b\",\"b\",\"b\",\"b\",\"b\",\"b\",\"b\",\"b\",\"b\",\"b\",\"b\",\"b\",\"b\",\"b\",\"b\",\"b\",\"b\",\"b\",\"b\",\"b\",\"b\",\"b\",\"b\",\"b\",\"b\",\"b\",\"b\",\"b\",\"b\",\"b\",\"b\",\"b\",\"b\",\"b\",\"b\",\"b\",\"b\",\"b\",\"b\",\"b\",\"b\",\"b\",\"b\",\"b\",\"b\",\"b\",\"b\",\"b\",\"b\",\"b\",\"b\",\"b\",\"b\",\"b\",\"b\",\"b\",\"b\",\"b\",\"b\",\"b\",\"b\",\"b\",\"b\",\"b\",\"b\",\"b\",\"b\",\"b\",\"b\",\"b\",\"b\",\"b\",\"b\",\"b\",\"b\",\"b\",\"b\",\"b\",\"b\",\"b\",\"b\",\"b\",\"b\",\"b\",\"b\",\"b\",\"b\",\"b\",\"b\",\"b\",\"b\",\"b\",\"b\",\"b\",\"b\",\"b\",\"b\",\"b\",\"b\",\"b\",\"b\",\"b\",\"b\"],\n",
       "\"word\":[\"gmpmw\",\"khego\",\"bledi\",\"xfmyr\",\"nnvzu\",\"dobny\",\"cmcjc\",\"hmkub\",\"ccvjp\",\"tmxzu\",\"saepd\",\"pawfj\",\"cumua\",\"glrvx\",\"qatrp\",\"xodhj\",\"kkilv\",\"pqwya\",\"msszc\",\"xlheu\",\"vhrdh\",\"nqrrx\",\"wtrua\",\"ttbyf\",\"crlio\",\"nlsuc\",\"jgdna\",\"jhtrv\",\"duxev\",\"kajbp\",\"qnmsp\",\"uhnzb\",\"pzgob\",\"gonks\",\"akktq\",\"qaeqc\",\"ymbcn\",\"oewno\",\"iibad\",\"gduau\",\"witfa\",\"nqmzo\",\"bkmni\",\"qsxrg\",\"gqphr\",\"nmvuv\",\"affuu\",\"jtxrf\",\"jqehe\",\"eddzy\",\"yjrew\",\"flbcq\",\"ygabb\",\"rrtfa\",\"kafxw\",\"bjitw\",\"pzcbg\",\"adypi\",\"bfvgy\",\"folhw\",\"nosyb\",\"cmspn\",\"njfni\",\"xnkyp\",\"cterv\",\"faggz\",\"roqdu\",\"lxmwr\",\"ibfmy\",\"kewds\",\"zekbu\",\"hwsff\",\"dpvha\",\"upaxs\",\"ehsht\",\"jhpzz\",\"pcnjh\",\"ffrfe\",\"bzpng\",\"oukfd\",\"uscem\",\"zjkqm\",\"hoanj\",\"vowwx\",\"myuas\",\"mpefp\",\"oamff\",\"cvxft\",\"dpvna\",\"dinjz\",\"cjvel\",\"ceuml\",\"eymyv\",\"danew\",\"ihlpk\",\"tvstd\",\"sazgc\",\"xdnpn\",\"qkpgk\",\"ehfmk\",\"hsraa\",\"twbah\",\"cdqou\",\"hpnia\",\"pvbsl\",\"sbuil\",\"jgsau\",\"eefra\",\"kbliz\",\"kvrds\",\"vznkb\",\"lmfih\",\"ddmjo\",\"zbwzt\",\"wjmnv\",\"exuuf\",\"exdxs\",\"zmvxd\",\"yajqn\",\"zpnqa\",\"tpodh\",\"pfutc\",\"ocinf\",\"mpgwn\",\"twobk\",\"yjzeo\",\"udwox\",\"arlao\",\"ozxva\",\"pambc\",\"amwxa\",\"azruj\",\"irrjn\",\"gfkqi\",\"kabyd\",\"vshsz\",\"uyjie\",\"limmt\",\"ptnay\",\"rmtbl\",\"mfqng\",\"csabx\",\"vfmky\",\"lyeqh\",\"pjrdo\",\"jxqxb\",\"fthzl\",\"kozsr\",\"ddbyk\",\"louph\",\"hibme\",\"kitro\",\"qgzna\",\"ymtuq\",\"czkhk\",\"eerhk\",\"mpbqz\",\"gpaxt\",\"sjygd\",\"izlrj\",\"mwvxx\",\"rjhva\",\"gosso\",\"knuyy\",\"txmzc\",\"teoae\",\"jjtfv\",\"tuiwm\",\"hcagt\",\"dhghz\",\"cozmi\",\"xdvyp\",\"fmugr\",\"vcgzf\",\"sebms\",\"pceen\",\"efysy\",\"mnzxk\",\"ycoxx\",\"iyson\",\"ykypc\",\"rmzgm\",\"arqrq\",\"pwnoh\",\"tbszc\",\"ofysx\",\"zeyhq\",\"nahsc\",\"ksmov\",\"balry\",\"lzyfx\",\"qrgrp\",\"zflwh\",\"vhakl\",\"oupej\",\"gjyyj\",\"ocvyx\",\"oufnq\",\"tqguo\",\"weifr\",\"bqgfz\",\"mmbfh\",\"oxoik\",\"edhtb\",\"wrpcj\",\"sikrg\",\"ohngx\",\"vuwob\",\"sesiy\",\"kskoy\",\"vsuyc\",\"wuxex\",\"tojyn\",\"xqohr\",\"dplov\",\"ventd\",\"dtlbm\",\"qlykd\",\"redjp\",\"ruigm\",\"xxgzp\",\"gmcnz\",\"vadhy\",\"obplr\",\"nfapu\",\"qackh\",\"ngeyk\",\"xypld\",\"xnyen\",\"yhhjn\",\"lbyst\",\"irzcw\",\"hifwh\",\"jxzjl\",\"mpzxx\",\"nrpak\",\"lxlgn\",\"wvqxy\",\"hhgpl\",\"suumh\",\"adnmm\",\"difuk\",\"vwnwf\",\"qkxbc\",\"pambc\",\"jpyix\",\"roqdu\",\"mpgwn\",\"exmhb\",\"jjtfv\",\"amwxa\",\"lzyfx\",\"hvofa\",\"jtxrf\",\"tmxzu\",\"nrpak\",\"fzrac\",\"gqphr\",\"lgqtu\",\"lbyst\",\"ezbzi\",\"epnuf\",\"vpkbq\",\"obplr\",\"gbnsl\",\"viyev\",\"cdqou\",\"dpzna\",\"vwnwf\",\"qgzna\",\"jzdfv\",\"gcplt\",\"qrgrp\",\"nqmzo\",\"jjrhy\",\"jqehe\",\"mephc\",\"uyjie\",\"iibad\",\"auduw\",\"irrjn\",\"ohnfm\",\"jcboq\",\"uuegl\",\"nzaiq\",\"bdfou\",\"qsmcf\",\"naoyh\",\"efysy\",\"wnhxs\",\"lxmwr\",\"btkrz\",\"hcagt\",\"hcjjk\",\"zjxll\",\"dfopc\",\"hwbxu\",\"bqxcw\",\"gppko\",\"teoae\",\"suugr\",\"qnmsp\",\"mhbad\",\"dfjxi\",\"yiezh\",\"zjkqm\",\"pnxvg\",\"drvdi\",\"pqwya\",\"mnzxk\",\"szrhr\",\"jhpzz\",\"oewno\",\"zeyhq\",\"tbszc\",\"ngeyk\",\"bjjrj\",\"lbsur\",\"wtrua\",\"dakdo\",\"xqsgz\",\"sazgc\",\"qzjaa\",\"ummli\",\"eqwwp\",\"eelpl\",\"ojzqw\",\"qaeqc\",\"qkpgk\",\"ehsht\",\"vsuyc\",\"yqwjy\",\"rhkbu\",\"dtlbm\",\"akktq\",\"oqouc\",\"twbah\",\"txmzc\",\"lfkni\",\"dnmlv\",\"kozsr\",\"vnxyn\",\"rvytl\",\"mxmof\",\"hhgpl\",\"mlohx\",\"cterv\",\"qdozs\",\"wcyah\",\"ceqgq\",\"qmtgv\",\"kitro\",\"sesiy\",\"qackh\",\"tuiwm\",\"mdnpy\",\"hqzki\",\"arqrq\",\"xhhrr\",\"xdnpn\",\"hianz\",\"nopxe\",\"blxnl\",\"jtiwa\",\"folhw\",\"vadhy\",\"ffrfe\",\"mfqng\",\"dpvha\",\"gwfrl\",\"mqusp\",\"hvquc\",\"fovnz\",\"risbv\",\"mpefp\",\"tqguo\",\"nfrqp\",\"jscsf\",\"yyyof\",\"affuu\",\"xcwqx\",\"cmspn\",\"xqohr\",\"hpnia\",\"dnfje\",\"usojg\",\"tpodh\",\"qkgic\",\"bfvgy\",\"frdbh\",\"eefra\",\"bdubx\",\"xbnve\",\"msszc\",\"ccvjp\",\"mwvxx\",\"ofntu\",\"hrkxi\",\"kskoy\",\"xypld\",\"niivs\",\"vtsxd\",\"yhhjn\",\"wpcey\",\"rmzgm\",\"zbwzt\",\"izlrj\",\"wibqc\",\"flbcq\",\"xnkyp\",\"ysxam\",\"avxsy\",\"eddzy\",\"sylcw\",\"encho\",\"oggyi\",\"oznkr\",\"wezze\",\"pfutc\",\"jxzjl\",\"wjmnv\",\"adnmm\",\"vezku\",\"kewds\",\"recsq\",\"ocinf\",\"ddmjo\",\"njfni\",\"xtgda\",\"oyrqi\",\"mvkid\",\"csabx\",\"ocvyx\",\"chsuj\",\"scxxw\",\"btagb\",\"xzdin\",\"tvstd\",\"bqgfz\",\"orbhv\",\"npjtw\",\"qlbzy\",\"nsrbk\",\"uhxgu\",\"vuwob\",\"tpycu\",\"uswjs\",\"iyson\",\"dhrwb\",\"upaxs\",\"udwox\",\"jbyob\",\"rtshn\",\"wvqxy\",\"jibwj\",\"ddgar\",\"ibpmh\",\"vcgzf\",\"witfa\",\"cmcjc\",\"faggz\",\"gonks\",\"gptyx\",\"limmt\",\"zekbu\",\"amzho\",\"tkqtn\",\"uscem\",\"qatrp\",\"dzeer\",\"ptnay\",\"cumua\",\"bgnav\",\"fqizc\",\"vznkb\",\"kafxw\",\"dlgyw\",\"bszlw\",\"tpycu\",\"khego\",\"qsmcf\",\"duxev\",\"limmt\",\"jgsau\",\"sempg\",\"xqohr\",\"wjmnv\",\"pawfj\",\"exyhd\",\"yyyof\",\"mhsxj\",\"affuu\",\"difuk\",\"nfrqp\",\"sjygd\",\"recsq\",\"hyzen\",\"weifr\",\"nsrbk\",\"kvthq\",\"dzeer\",\"gjaiw\",\"amwxa\",\"sikrg\",\"ibpmh\",\"ofysx\",\"zxtke\",\"kewds\",\"pcnjh\",\"yizye\",\"pfutc\",\"xcwqx\",\"xdsfp\",\"amzho\",\"auduw\",\"wtrua\",\"xlheu\",\"zeyhq\",\"jxzjl\",\"mqusp\",\"dpzna\",\"dhrwb\",\"hhgpl\",\"suugr\",\"redjp\",\"crlio\",\"szrhr\",\"oukfd\",\"mmbfh\",\"wuxex\",\"eefra\",\"eerhk\",\"vzolv\",\"eymyv\",\"zvgrv\",\"btkrz\",\"bjitw\",\"ysxam\",\"teoae\",\"kozsr\",\"vnxyn\",\"ddgar\",\"mwong\",\"hianz\",\"bqgfz\",\"hvquc\",\"hdxaf\",\"saepd\",\"qkgic\",\"pgeap\",\"lxmwr\",\"ceuml\",\"hsraa\",\"oqouc\",\"vhakl\",\"txmzc\",\"fujwf\",\"vadhy\",\"jaxkf\",\"ocvyx\",\"dplov\",\"mmxph\",\"gcplt\",\"yqwjy\",\"lzyfx\",\"hpnia\",\"oefbf\",\"leurq\",\"kajbp\",\"jbyob\",\"mocai\",\"uuegl\",\"xdnpn\",\"drvdi\",\"dokdm\",\"opxtu\",\"udwox\",\"ptnay\",\"bqxcw\",\"dgyqo\",\"tuiwm\",\"gptyx\",\"ihlpk\",\"exuuf\",\"gjyyj\",\"hbava\",\"upaxs\",\"vwnwf\",\"qrgrp\",\"bkmni\",\"ocinf\",\"lfkni\",\"nqmzo\",\"hifwh\",\"oggyi\",\"xxgzp\",\"yngfm\",\"uswjs\",\"mpbqz\",\"ohngx\",\"cdqou\",\"edhtb\",\"avxsy\",\"gonks\",\"glrvx\",\"vuwob\",\"oewno\",\"mpgwn\",\"zskcd\",\"moiah\",\"lbsur\",\"ykypc\",\"akktq\",\"alskq\",\"rrtfa\",\"lgqtu\",\"ibfmy\",\"jtxrf\",\"jpyix\",\"ezbzi\",\"vcgzf\",\"ermrp\",\"arqrq\",\"jhpzz\",\"jtiwa\",\"mnzxk\",\"gduau\",\"yqrla\",\"omeoe\",\"mdnpy\",\"axfnu\",\"jtnyw\",\"crrqe\",\"qgzna\",\"dinjz\",\"zlamr\",\"ttbyf\",\"jxqxb\",\"xqsgz\",\"xnyen\",\"kvccv\",\"ausjo\",\"hmusx\",\"rtshn\",\"njfni\",\"knuyy\",\"flbcq\",\"nwisd\",\"bdfou\",\"cozmi\",\"csabx\",\"mpefp\",\"pzgob\",\"dmfpf\",\"kqfrn\",\"ckpng\",\"yjzeo\",\"zmvxd\",\"ccvjp\",\"nqrrx\",\"dtlbm\",\"pjrdo\",\"uhxgu\",\"wihqt\",\"bfcrw\",\"zogej\",\"xxxsl\",\"xalih\",\"tpodh\",\"wvqxy\",\"gqphr\",\"exdxs\",\"ddbyk\",\"lqtvx\",\"zekbu\",\"ummli\",\"iiqxg\",\"yucel\",\"pwnoh\",\"yhhjn\",\"fzrac\",\"iehvn\",\"dpvha\",\"adypi\",\"qatrp\",\"mrihe\",\"vpkbq\",\"qohrs\",\"uyjie\",\"niivs\",\"bpgsm\",\"nlsuc\",\"tuimv\",\"ozxva\",\"vxmol\",\"tkqtn\",\"gmpmw\",\"wywzu\",\"qsemn\",\"iizmk\",\"uscem\",\"ymtuq\",\"ycoxx\",\"gosso\",\"ohnfm\",\"jscsf\",\"ksmov\",\"dpvna\",\"rhkbu\",\"dfjxi\",\"bjjrj\",\"hwsff\",\"gbnsl\",\"vqusc\",\"qomfj\",\"ubzaw\",\"mlohx\",\"otihs\"]\n",
       "}\n",
       "}],\n",
       "\"data_meta\":{\n",
       "\"series_annotations\":[{\n",
       "\"type\":\"str\",\n",
       "\"column\":\"word\"\n",
       "}]\n",
       "}\n",
       "};\n",
       "           var plotContainer = document.getElementById(\"RyjbTM\");\n",
       "           window.letsPlotCall(function() {{\n",
       "               LetsPlot.buildPlotFromProcessedSpecs(plotSpec, -1, -1, plotContainer);\n",
       "           }});\n",
       "       })();\n",
       "   </script>"
      ]
     },
     "execution_count": 6,
     "metadata": {},
     "output_type": "execute_result"
    }
   ],
   "source": [
    "// 'pick' sampling preserves groups on bar chart.\n",
    "p + geomBar(size = 0) { fill = \"g\" }"
   ]
  },
  {
   "cell_type": "code",
   "execution_count": 7,
   "metadata": {},
   "outputs": [
    {
     "data": {
      "text/html": [
       "   <div id=\"ScFKtP\"></div>\n",
       "   <script type=\"text/javascript\" data-lets-plot-script=\"plot\">\n",
       "       (function() {\n",
       "           var plotSpec={\n",
       "\"mapping\":{\n",
       "\"x\":\"word\"\n",
       "},\n",
       "\"data\":{\n",
       "},\n",
       "\"kind\":\"plot\",\n",
       "\"scales\":[],\n",
       "\"layers\":[{\n",
       "\"mapping\":{\n",
       "\"x\":\"word\",\n",
       "\"fill\":\"g\"\n",
       "},\n",
       "\"stat\":\"count\",\n",
       "\"size\":0.0,\n",
       "\"position\":\"stack\",\n",
       "\"geom\":\"bar\",\n",
       "\"data_meta\":{\n",
       "\"mapping_annotations\":[{\n",
       "\"aes\":\"x\",\n",
       "\"annotation\":\"as_discrete\",\n",
       "\"parameters\":{\n",
       "\"label\":\"word\",\n",
       "\"order_by\":\"..count..\"\n",
       "}\n",
       "}]\n",
       "},\n",
       "\"data\":{\n",
       "\"..count..\":[1.0,1.0,1.0,2.0,3.0,2.0,2.0,2.0,2.0,1.0,2.0,2.0,1.0,1.0,1.0,2.0,2.0,1.0,3.0,1.0,1.0,1.0,1.0,1.0,1.0,2.0,1.0,2.0,1.0,2.0,2.0,2.0,2.0,1.0,1.0,2.0,3.0,1.0,2.0,1.0,1.0,1.0,1.0,2.0,1.0,2.0,4.0,3.0,2.0,4.0,2.0,1.0,1.0,3.0,1.0,3.0,1.0,2.0,2.0,1.0,1.0,2.0,1.0,2.0,2.0,3.0,3.0,1.0,3.0,3.0,2.0,2.0,1.0,1.0,2.0,1.0,1.0,1.0,3.0,2.0,1.0,1.0,1.0,1.0,2.0,1.0,1.0,1.0,1.0,1.0,2.0,3.0,3.0,1.0,1.0,1.0,1.0,1.0,2.0,1.0,1.0,1.0,2.0,1.0,1.0,1.0,1.0,1.0,1.0,1.0,1.0,1.0,1.0,1.0,2.0,2.0,1.0,1.0,2.0,1.0,3.0,1.0,1.0,2.0,2.0,1.0,1.0,1.0,2.0,1.0,1.0,1.0,1.0,1.0,1.0,2.0,1.0,1.0,2.0,2.0,2.0,1.0,3.0,3.0,2.0,1.0,1.0,1.0,1.0,1.0,1.0,1.0,1.0,2.0,1.0,1.0,1.0,1.0,1.0,1.0,1.0,1.0,1.0,1.0,1.0,1.0,2.0,2.0,2.0,1.0,1.0,1.0,1.0,1.0,1.0,1.0,1.0,1.0,1.0,2.0,1.0,1.0,1.0,1.0,2.0,1.0,1.0,1.0,2.0,1.0,1.0,1.0,1.0,1.0,1.0,2.0,1.0,2.0,3.0,1.0,1.0,1.0,1.0,2.0,1.0,1.0,1.0,2.0,1.0,3.0,1.0,1.0,1.0,1.0,1.0,1.0,1.0,2.0,1.0,1.0,1.0,1.0,1.0,1.0,1.0,1.0,1.0,1.0,1.0,1.0,1.0,1.0,1.0,1.0,1.0,1.0,1.0,1.0,1.0,1.0,1.0,1.0,1.0,1.0,2.0,1.0,1.0,1.0,2.0,1.0,1.0,2.0,1.0,1.0,2.0,1.0,2.0,3.0,1.0,2.0,1.0,1.0,1.0,2.0,2.0,2.0,1.0,3.0,2.0,2.0,1.0,1.0,3.0,1.0,1.0,1.0,2.0,1.0,2.0,1.0,2.0,1.0,2.0,1.0,2.0,1.0,1.0,1.0,1.0,2.0,2.0,2.0,1.0,1.0,2.0,3.0,2.0,1.0,2.0,3.0,3.0,1.0,2.0,3.0,1.0,1.0,2.0,2.0,1.0,2.0,2.0,1.0,1.0,1.0,1.0,1.0,2.0,2.0,2.0,2.0,3.0,1.0,1.0,1.0,2.0,2.0,1.0,1.0,2.0,1.0,3.0,1.0,1.0,1.0,2.0,1.0,2.0,1.0,2.0,1.0,1.0,3.0,1.0,2.0,1.0,1.0,1.0,1.0,1.0,1.0,1.0,1.0,2.0,1.0,2.0,1.0,2.0,1.0,2.0,2.0,1.0,3.0,1.0,1.0,2.0,2.0,2.0,1.0,2.0,1.0,1.0,1.0,2.0,1.0,2.0,1.0,1.0,1.0,1.0,2.0,1.0,1.0,1.0,2.0,1.0,1.0,2.0,1.0,1.0,2.0,1.0,3.0,1.0,2.0,1.0,1.0,1.0,1.0,1.0,1.0,1.0,1.0,1.0,1.0,1.0,1.0,1.0,1.0,2.0,2.0,1.0,1.0,1.0,1.0,1.0,1.0,1.0,1.0,1.0,1.0,1.0,1.0,2.0,2.0,1.0,2.0,1.0,1.0,2.0,1.0,1.0,2.0,1.0,1.0,1.0,1.0,1.0,1.0,1.0,1.0,1.0,1.0,1.0,1.0,2.0,1.0,2.0,1.0,1.0,1.0,1.0,1.0,1.0,1.0,1.0,1.0,1.0,1.0,1.0,2.0,1.0,1.0,1.0,1.0,1.0,1.0,1.0,1.0,1.0,1.0,1.0,1.0,1.0,1.0,1.0,1.0,1.0,1.0,2.0,1.0,1.0,2.0,1.0,2.0,2.0,1.0,1.0,1.0,2.0,2.0,3.0,2.0,2.0,1.0,2.0,1.0,1.0,2.0,1.0,5.0,2.0,2.0,1.0,1.0,1.0,2.0,2.0,2.0,1.0,3.0,1.0,1.0,2.0,1.0,2.0,1.0,3.0,1.0,1.0,1.0,2.0,1.0,1.0,1.0,3.0,1.0,1.0,1.0,2.0,2.0,2.0,2.0,2.0,1.0,2.0,1.0,1.0,2.0,4.0,2.0,2.0,2.0,2.0,1.0,1.0,1.0,1.0,2.0,1.0,1.0,1.0,1.0,2.0,1.0,2.0,3.0,1.0,2.0,3.0,1.0,1.0,2.0,1.0,1.0,1.0,1.0,2.0,4.0,2.0,1.0,1.0,1.0,1.0,2.0,2.0,1.0,3.0,2.0,2.0,1.0,1.0,1.0,1.0,2.0,1.0,1.0,1.0,2.0,1.0,1.0,1.0,2.0,1.0,2.0,1.0,2.0,2.0,2.0,3.0,3.0,2.0,2.0,1.0,2.0,1.0,1.0,1.0,1.0,2.0,1.0,2.0,1.0,2.0,1.0,1.0,2.0,1.0,1.0,1.0,1.0,2.0,1.0,1.0,1.0,2.0,1.0,1.0,1.0,2.0,1.0,1.0,1.0,1.0,1.0,2.0,1.0,1.0,1.0,2.0,2.0,1.0,1.0,1.0,1.0,1.0,1.0,2.0,1.0,2.0,1.0,1.0,1.0,1.0,1.0,1.0,2.0,1.0,1.0,1.0,1.0,1.0,2.0,1.0,1.0,1.0,1.0,1.0,1.0,1.0,1.0,1.0,1.0,2.0,1.0,1.0,1.0,1.0,1.0,1.0,2.0,1.0,1.0,1.0,1.0,2.0,1.0,1.0,1.0,1.0,1.0,1.0,1.0,1.0,1.0,1.0,1.0,1.0,1.0,1.0,1.0,1.0,1.0,1.0,1.0,1.0,1.0,1.0,1.0,1.0,1.0,1.0,1.0,1.0,1.0,1.0,1.0,1.0,1.0],\n",
       "\"g\":[\"c\",\"c\",\"c\",\"c\",\"c\",\"c\",\"c\",\"c\",\"c\",\"c\",\"c\",\"c\",\"c\",\"c\",\"c\",\"c\",\"c\",\"c\",\"c\",\"c\",\"c\",\"c\",\"c\",\"c\",\"c\",\"c\",\"c\",\"c\",\"c\",\"c\",\"c\",\"c\",\"c\",\"c\",\"c\",\"c\",\"c\",\"c\",\"c\",\"c\",\"c\",\"c\",\"c\",\"c\",\"c\",\"c\",\"c\",\"c\",\"c\",\"c\",\"c\",\"c\",\"c\",\"c\",\"c\",\"c\",\"c\",\"c\",\"c\",\"c\",\"c\",\"c\",\"c\",\"c\",\"c\",\"c\",\"c\",\"c\",\"c\",\"c\",\"c\",\"c\",\"c\",\"c\",\"c\",\"c\",\"c\",\"c\",\"c\",\"c\",\"c\",\"c\",\"c\",\"c\",\"c\",\"c\",\"c\",\"c\",\"c\",\"c\",\"c\",\"c\",\"c\",\"c\",\"c\",\"c\",\"c\",\"c\",\"c\",\"c\",\"c\",\"c\",\"c\",\"c\",\"c\",\"c\",\"c\",\"c\",\"c\",\"c\",\"c\",\"c\",\"c\",\"c\",\"c\",\"c\",\"c\",\"c\",\"c\",\"c\",\"c\",\"c\",\"c\",\"c\",\"c\",\"c\",\"c\",\"c\",\"c\",\"c\",\"c\",\"c\",\"c\",\"c\",\"c\",\"c\",\"c\",\"c\",\"c\",\"c\",\"c\",\"c\",\"c\",\"c\",\"c\",\"c\",\"c\",\"c\",\"c\",\"c\",\"c\",\"c\",\"c\",\"c\",\"c\",\"c\",\"c\",\"c\",\"c\",\"c\",\"c\",\"c\",\"c\",\"c\",\"c\",\"c\",\"c\",\"c\",\"c\",\"c\",\"c\",\"c\",\"c\",\"c\",\"c\",\"c\",\"c\",\"c\",\"c\",\"c\",\"c\",\"c\",\"c\",\"c\",\"c\",\"c\",\"c\",\"c\",\"c\",\"c\",\"c\",\"c\",\"c\",\"c\",\"c\",\"c\",\"c\",\"c\",\"c\",\"c\",\"c\",\"c\",\"c\",\"c\",\"c\",\"c\",\"c\",\"c\",\"c\",\"c\",\"c\",\"c\",\"c\",\"c\",\"c\",\"c\",\"c\",\"c\",\"c\",\"c\",\"c\",\"c\",\"c\",\"c\",\"c\",\"c\",\"c\",\"c\",\"c\",\"c\",\"c\",\"c\",\"c\",\"c\",\"c\",\"c\",\"c\",\"c\",\"c\",\"c\",\"c\",\"c\",\"c\",\"c\",\"a\",\"a\",\"a\",\"a\",\"a\",\"a\",\"a\",\"a\",\"a\",\"a\",\"a\",\"a\",\"a\",\"a\",\"a\",\"a\",\"a\",\"a\",\"a\",\"a\",\"a\",\"a\",\"a\",\"a\",\"a\",\"a\",\"a\",\"a\",\"a\",\"a\",\"a\",\"a\",\"a\",\"a\",\"a\",\"a\",\"a\",\"a\",\"a\",\"a\",\"a\",\"a\",\"a\",\"a\",\"a\",\"a\",\"a\",\"a\",\"a\",\"a\",\"a\",\"a\",\"a\",\"a\",\"a\",\"a\",\"a\",\"a\",\"a\",\"a\",\"a\",\"a\",\"a\",\"a\",\"a\",\"a\",\"a\",\"a\",\"a\",\"a\",\"a\",\"a\",\"a\",\"a\",\"a\",\"a\",\"a\",\"a\",\"a\",\"a\",\"a\",\"a\",\"a\",\"a\",\"a\",\"a\",\"a\",\"a\",\"a\",\"a\",\"a\",\"a\",\"a\",\"a\",\"a\",\"a\",\"a\",\"a\",\"a\",\"a\",\"a\",\"a\",\"a\",\"a\",\"a\",\"a\",\"a\",\"a\",\"a\",\"a\",\"a\",\"a\",\"a\",\"a\",\"a\",\"a\",\"a\",\"a\",\"a\",\"a\",\"a\",\"a\",\"a\",\"a\",\"a\",\"a\",\"a\",\"a\",\"a\",\"a\",\"a\",\"a\",\"a\",\"a\",\"a\",\"a\",\"a\",\"a\",\"a\",\"a\",\"a\",\"a\",\"a\",\"a\",\"a\",\"a\",\"a\",\"a\",\"a\",\"a\",\"a\",\"a\",\"a\",\"a\",\"a\",\"a\",\"a\",\"a\",\"a\",\"a\",\"a\",\"a\",\"a\",\"a\",\"a\",\"a\",\"a\",\"a\",\"a\",\"a\",\"a\",\"a\",\"a\",\"a\",\"a\",\"a\",\"a\",\"a\",\"a\",\"a\",\"a\",\"a\",\"a\",\"a\",\"a\",\"a\",\"a\",\"a\",\"a\",\"a\",\"a\",\"a\",\"a\",\"a\",\"a\",\"a\",\"a\",\"a\",\"a\",\"a\",\"a\",\"a\",\"a\",\"a\",\"a\",\"a\",\"a\",\"a\",\"a\",\"a\",\"a\",\"a\",\"a\",\"a\",\"a\",\"a\",\"a\",\"a\",\"a\",\"a\",\"a\",\"a\",\"a\",\"a\",\"a\",\"a\",\"a\",\"a\",\"a\",\"a\",\"a\",\"a\",\"a\",\"a\",\"b\",\"b\",\"b\",\"b\",\"b\",\"b\",\"b\",\"b\",\"b\",\"b\",\"b\",\"b\",\"b\",\"b\",\"b\",\"b\",\"b\",\"b\",\"b\",\"b\",\"b\",\"b\",\"b\",\"b\",\"b\",\"b\",\"b\",\"b\",\"b\",\"b\",\"b\",\"b\",\"b\",\"b\",\"b\",\"b\",\"b\",\"b\",\"b\",\"b\",\"b\",\"b\",\"b\",\"b\",\"b\",\"b\",\"b\",\"b\",\"b\",\"b\",\"b\",\"b\",\"b\",\"b\",\"b\",\"b\",\"b\",\"b\",\"b\",\"b\",\"b\",\"b\",\"b\",\"b\",\"b\",\"b\",\"b\",\"b\",\"b\",\"b\",\"b\",\"b\",\"b\",\"b\",\"b\",\"b\",\"b\",\"b\",\"b\",\"b\",\"b\",\"b\",\"b\",\"b\",\"b\",\"b\",\"b\",\"b\",\"b\",\"b\",\"b\",\"b\",\"b\",\"b\",\"b\",\"b\",\"b\",\"b\",\"b\",\"b\",\"b\",\"b\",\"b\",\"b\",\"b\",\"b\",\"b\",\"b\",\"b\",\"b\",\"b\",\"b\",\"b\",\"b\",\"b\",\"b\",\"b\",\"b\",\"b\",\"b\",\"b\",\"b\",\"b\",\"b\",\"b\",\"b\",\"b\",\"b\",\"b\",\"b\",\"b\",\"b\",\"b\",\"b\",\"b\",\"b\",\"b\",\"b\",\"b\",\"b\",\"b\",\"b\",\"b\",\"b\",\"b\",\"b\",\"b\",\"b\",\"b\",\"b\",\"b\",\"b\",\"b\",\"b\",\"b\",\"b\",\"b\",\"b\",\"b\",\"b\",\"b\",\"b\",\"b\",\"b\",\"b\",\"b\",\"b\",\"b\",\"b\",\"b\",\"b\",\"b\",\"b\",\"b\",\"b\",\"b\",\"b\",\"b\",\"b\",\"b\",\"b\",\"b\",\"b\",\"b\",\"b\",\"b\",\"b\",\"b\",\"b\",\"b\",\"b\",\"b\",\"b\",\"b\",\"b\",\"b\",\"b\",\"b\",\"b\",\"b\",\"b\",\"b\",\"b\",\"b\",\"b\",\"b\",\"b\",\"b\",\"b\",\"b\",\"b\",\"b\",\"b\",\"b\",\"b\",\"b\",\"b\",\"b\",\"b\",\"b\",\"b\",\"b\",\"b\",\"b\",\"b\",\"b\",\"b\",\"b\",\"b\",\"b\",\"b\",\"b\",\"b\",\"b\",\"b\",\"b\",\"b\",\"b\",\"b\",\"b\"],\n",
       "\"word\":[\"gmpmw\",\"khego\",\"bledi\",\"xfmyr\",\"nnvzu\",\"dobny\",\"cmcjc\",\"hmkub\",\"ccvjp\",\"tmxzu\",\"saepd\",\"pawfj\",\"cumua\",\"glrvx\",\"qatrp\",\"xodhj\",\"kkilv\",\"pqwya\",\"msszc\",\"xlheu\",\"vhrdh\",\"nqrrx\",\"wtrua\",\"ttbyf\",\"crlio\",\"nlsuc\",\"jgdna\",\"jhtrv\",\"duxev\",\"kajbp\",\"qnmsp\",\"uhnzb\",\"pzgob\",\"gonks\",\"akktq\",\"qaeqc\",\"ymbcn\",\"oewno\",\"iibad\",\"gduau\",\"witfa\",\"nqmzo\",\"bkmni\",\"qsxrg\",\"gqphr\",\"nmvuv\",\"affuu\",\"jtxrf\",\"jqehe\",\"eddzy\",\"yjrew\",\"flbcq\",\"ygabb\",\"rrtfa\",\"kafxw\",\"bjitw\",\"pzcbg\",\"adypi\",\"bfvgy\",\"folhw\",\"nosyb\",\"cmspn\",\"njfni\",\"xnkyp\",\"cterv\",\"faggz\",\"roqdu\",\"lxmwr\",\"ibfmy\",\"kewds\",\"zekbu\",\"hwsff\",\"dpvha\",\"upaxs\",\"ehsht\",\"jhpzz\",\"pcnjh\",\"ffrfe\",\"bzpng\",\"oukfd\",\"uscem\",\"zjkqm\",\"hoanj\",\"vowwx\",\"myuas\",\"mpefp\",\"oamff\",\"cvxft\",\"dpvna\",\"dinjz\",\"cjvel\",\"ceuml\",\"eymyv\",\"danew\",\"ihlpk\",\"tvstd\",\"sazgc\",\"xdnpn\",\"qkpgk\",\"ehfmk\",\"hsraa\",\"twbah\",\"cdqou\",\"hpnia\",\"pvbsl\",\"sbuil\",\"jgsau\",\"eefra\",\"kbliz\",\"kvrds\",\"vznkb\",\"lmfih\",\"ddmjo\",\"zbwzt\",\"wjmnv\",\"exuuf\",\"exdxs\",\"zmvxd\",\"yajqn\",\"zpnqa\",\"tpodh\",\"pfutc\",\"ocinf\",\"mpgwn\",\"twobk\",\"yjzeo\",\"udwox\",\"arlao\",\"ozxva\",\"pambc\",\"amwxa\",\"azruj\",\"irrjn\",\"gfkqi\",\"kabyd\",\"vshsz\",\"uyjie\",\"limmt\",\"ptnay\",\"rmtbl\",\"mfqng\",\"csabx\",\"vfmky\",\"lyeqh\",\"pjrdo\",\"jxqxb\",\"fthzl\",\"kozsr\",\"ddbyk\",\"louph\",\"hibme\",\"kitro\",\"qgzna\",\"ymtuq\",\"czkhk\",\"eerhk\",\"mpbqz\",\"gpaxt\",\"sjygd\",\"izlrj\",\"mwvxx\",\"rjhva\",\"gosso\",\"knuyy\",\"txmzc\",\"teoae\",\"jjtfv\",\"tuiwm\",\"hcagt\",\"dhghz\",\"cozmi\",\"xdvyp\",\"fmugr\",\"vcgzf\",\"sebms\",\"pceen\",\"efysy\",\"mnzxk\",\"ycoxx\",\"iyson\",\"ykypc\",\"rmzgm\",\"arqrq\",\"pwnoh\",\"tbszc\",\"ofysx\",\"zeyhq\",\"nahsc\",\"ksmov\",\"balry\",\"lzyfx\",\"qrgrp\",\"zflwh\",\"vhakl\",\"oupej\",\"gjyyj\",\"ocvyx\",\"oufnq\",\"tqguo\",\"weifr\",\"bqgfz\",\"mmbfh\",\"oxoik\",\"edhtb\",\"wrpcj\",\"sikrg\",\"ohngx\",\"vuwob\",\"sesiy\",\"kskoy\",\"vsuyc\",\"wuxex\",\"tojyn\",\"xqohr\",\"dplov\",\"ventd\",\"dtlbm\",\"qlykd\",\"redjp\",\"ruigm\",\"xxgzp\",\"gmcnz\",\"vadhy\",\"obplr\",\"nfapu\",\"qackh\",\"ngeyk\",\"xypld\",\"xnyen\",\"yhhjn\",\"lbyst\",\"irzcw\",\"hifwh\",\"jxzjl\",\"mpzxx\",\"nrpak\",\"lxlgn\",\"wvqxy\",\"hhgpl\",\"suumh\",\"adnmm\",\"difuk\",\"vwnwf\",\"qkxbc\",\"pambc\",\"jpyix\",\"roqdu\",\"mpgwn\",\"exmhb\",\"jjtfv\",\"amwxa\",\"lzyfx\",\"hvofa\",\"jtxrf\",\"tmxzu\",\"nrpak\",\"fzrac\",\"gqphr\",\"lgqtu\",\"lbyst\",\"ezbzi\",\"epnuf\",\"vpkbq\",\"obplr\",\"gbnsl\",\"viyev\",\"cdqou\",\"dpzna\",\"vwnwf\",\"qgzna\",\"jzdfv\",\"gcplt\",\"qrgrp\",\"nqmzo\",\"jjrhy\",\"jqehe\",\"mephc\",\"uyjie\",\"iibad\",\"auduw\",\"irrjn\",\"ohnfm\",\"jcboq\",\"uuegl\",\"nzaiq\",\"bdfou\",\"qsmcf\",\"naoyh\",\"efysy\",\"wnhxs\",\"lxmwr\",\"btkrz\",\"hcagt\",\"hcjjk\",\"zjxll\",\"dfopc\",\"hwbxu\",\"bqxcw\",\"gppko\",\"teoae\",\"suugr\",\"qnmsp\",\"mhbad\",\"dfjxi\",\"yiezh\",\"zjkqm\",\"pnxvg\",\"drvdi\",\"pqwya\",\"mnzxk\",\"szrhr\",\"jhpzz\",\"oewno\",\"zeyhq\",\"tbszc\",\"ngeyk\",\"bjjrj\",\"lbsur\",\"wtrua\",\"dakdo\",\"xqsgz\",\"sazgc\",\"qzjaa\",\"ummli\",\"eqwwp\",\"eelpl\",\"ojzqw\",\"qaeqc\",\"qkpgk\",\"ehsht\",\"vsuyc\",\"yqwjy\",\"rhkbu\",\"dtlbm\",\"akktq\",\"oqouc\",\"twbah\",\"txmzc\",\"lfkni\",\"dnmlv\",\"kozsr\",\"vnxyn\",\"rvytl\",\"mxmof\",\"hhgpl\",\"mlohx\",\"cterv\",\"qdozs\",\"wcyah\",\"ceqgq\",\"qmtgv\",\"kitro\",\"sesiy\",\"qackh\",\"tuiwm\",\"mdnpy\",\"hqzki\",\"arqrq\",\"xhhrr\",\"xdnpn\",\"hianz\",\"nopxe\",\"blxnl\",\"jtiwa\",\"folhw\",\"vadhy\",\"ffrfe\",\"mfqng\",\"dpvha\",\"gwfrl\",\"mqusp\",\"hvquc\",\"fovnz\",\"risbv\",\"mpefp\",\"tqguo\",\"nfrqp\",\"jscsf\",\"yyyof\",\"affuu\",\"xcwqx\",\"cmspn\",\"xqohr\",\"hpnia\",\"dnfje\",\"usojg\",\"tpodh\",\"qkgic\",\"bfvgy\",\"frdbh\",\"eefra\",\"bdubx\",\"xbnve\",\"msszc\",\"ccvjp\",\"mwvxx\",\"ofntu\",\"hrkxi\",\"kskoy\",\"xypld\",\"niivs\",\"vtsxd\",\"yhhjn\",\"wpcey\",\"rmzgm\",\"zbwzt\",\"izlrj\",\"wibqc\",\"flbcq\",\"xnkyp\",\"ysxam\",\"avxsy\",\"eddzy\",\"sylcw\",\"encho\",\"oggyi\",\"oznkr\",\"wezze\",\"pfutc\",\"jxzjl\",\"wjmnv\",\"adnmm\",\"vezku\",\"kewds\",\"recsq\",\"ocinf\",\"ddmjo\",\"njfni\",\"xtgda\",\"oyrqi\",\"mvkid\",\"csabx\",\"ocvyx\",\"chsuj\",\"scxxw\",\"btagb\",\"xzdin\",\"tvstd\",\"bqgfz\",\"orbhv\",\"npjtw\",\"qlbzy\",\"nsrbk\",\"uhxgu\",\"vuwob\",\"tpycu\",\"uswjs\",\"iyson\",\"dhrwb\",\"upaxs\",\"udwox\",\"jbyob\",\"rtshn\",\"wvqxy\",\"jibwj\",\"ddgar\",\"ibpmh\",\"vcgzf\",\"witfa\",\"cmcjc\",\"faggz\",\"gonks\",\"gptyx\",\"limmt\",\"zekbu\",\"amzho\",\"tkqtn\",\"uscem\",\"qatrp\",\"dzeer\",\"ptnay\",\"cumua\",\"bgnav\",\"fqizc\",\"vznkb\",\"kafxw\",\"dlgyw\",\"bszlw\",\"tpycu\",\"khego\",\"qsmcf\",\"duxev\",\"limmt\",\"jgsau\",\"sempg\",\"xqohr\",\"wjmnv\",\"pawfj\",\"exyhd\",\"yyyof\",\"mhsxj\",\"affuu\",\"difuk\",\"nfrqp\",\"sjygd\",\"recsq\",\"hyzen\",\"weifr\",\"nsrbk\",\"kvthq\",\"dzeer\",\"gjaiw\",\"amwxa\",\"sikrg\",\"ibpmh\",\"ofysx\",\"zxtke\",\"kewds\",\"pcnjh\",\"yizye\",\"pfutc\",\"xcwqx\",\"xdsfp\",\"amzho\",\"auduw\",\"wtrua\",\"xlheu\",\"zeyhq\",\"jxzjl\",\"mqusp\",\"dpzna\",\"dhrwb\",\"hhgpl\",\"suugr\",\"redjp\",\"crlio\",\"szrhr\",\"oukfd\",\"mmbfh\",\"wuxex\",\"eefra\",\"eerhk\",\"vzolv\",\"eymyv\",\"zvgrv\",\"btkrz\",\"bjitw\",\"ysxam\",\"teoae\",\"kozsr\",\"vnxyn\",\"ddgar\",\"mwong\",\"hianz\",\"bqgfz\",\"hvquc\",\"hdxaf\",\"saepd\",\"qkgic\",\"pgeap\",\"lxmwr\",\"ceuml\",\"hsraa\",\"oqouc\",\"vhakl\",\"txmzc\",\"fujwf\",\"vadhy\",\"jaxkf\",\"ocvyx\",\"dplov\",\"mmxph\",\"gcplt\",\"yqwjy\",\"lzyfx\",\"hpnia\",\"oefbf\",\"leurq\",\"kajbp\",\"jbyob\",\"mocai\",\"uuegl\",\"xdnpn\",\"drvdi\",\"dokdm\",\"opxtu\",\"udwox\",\"ptnay\",\"bqxcw\",\"dgyqo\",\"tuiwm\",\"gptyx\",\"ihlpk\",\"exuuf\",\"gjyyj\",\"hbava\",\"upaxs\",\"vwnwf\",\"qrgrp\",\"bkmni\",\"ocinf\",\"lfkni\",\"nqmzo\",\"hifwh\",\"oggyi\",\"xxgzp\",\"yngfm\",\"uswjs\",\"mpbqz\",\"ohngx\",\"cdqou\",\"edhtb\",\"avxsy\",\"gonks\",\"glrvx\",\"vuwob\",\"oewno\",\"mpgwn\",\"zskcd\",\"moiah\",\"lbsur\",\"ykypc\",\"akktq\",\"alskq\",\"rrtfa\",\"lgqtu\",\"ibfmy\",\"jtxrf\",\"jpyix\",\"ezbzi\",\"vcgzf\",\"ermrp\",\"arqrq\",\"jhpzz\",\"jtiwa\",\"mnzxk\",\"gduau\",\"yqrla\",\"omeoe\",\"mdnpy\",\"axfnu\",\"jtnyw\",\"crrqe\",\"qgzna\",\"dinjz\",\"zlamr\",\"ttbyf\",\"jxqxb\",\"xqsgz\",\"xnyen\",\"kvccv\",\"ausjo\",\"hmusx\",\"rtshn\",\"njfni\",\"knuyy\",\"flbcq\",\"nwisd\",\"bdfou\",\"cozmi\",\"csabx\",\"mpefp\",\"pzgob\",\"dmfpf\",\"kqfrn\",\"ckpng\",\"yjzeo\",\"zmvxd\",\"ccvjp\",\"nqrrx\",\"dtlbm\",\"pjrdo\",\"uhxgu\",\"wihqt\",\"bfcrw\",\"zogej\",\"xxxsl\",\"xalih\",\"tpodh\",\"wvqxy\",\"gqphr\",\"exdxs\",\"ddbyk\",\"lqtvx\",\"zekbu\",\"ummli\",\"iiqxg\",\"yucel\",\"pwnoh\",\"yhhjn\",\"fzrac\",\"iehvn\",\"dpvha\",\"adypi\",\"qatrp\",\"mrihe\",\"vpkbq\",\"qohrs\",\"uyjie\",\"niivs\",\"bpgsm\",\"nlsuc\",\"tuimv\",\"ozxva\",\"vxmol\",\"tkqtn\",\"gmpmw\",\"wywzu\",\"qsemn\",\"iizmk\",\"uscem\",\"ymtuq\",\"ycoxx\",\"gosso\",\"ohnfm\",\"jscsf\",\"ksmov\",\"dpvna\",\"rhkbu\",\"dfjxi\",\"bjjrj\",\"hwsff\",\"gbnsl\",\"vqusc\",\"qomfj\",\"ubzaw\",\"mlohx\",\"otihs\"]\n",
       "}\n",
       "}],\n",
       "\"data_meta\":{\n",
       "\"series_annotations\":[{\n",
       "\"type\":\"str\",\n",
       "\"column\":\"word\"\n",
       "}]\n",
       "}\n",
       "};\n",
       "           var plotContainer = document.getElementById(\"ScFKtP\");\n",
       "           window.letsPlotCall(function() {{\n",
       "               LetsPlot.buildPlotFromProcessedSpecs(plotSpec, -1, -1, plotContainer);\n",
       "           }});\n",
       "       })();\n",
       "   </script>"
      ]
     },
     "execution_count": 7,
     "metadata": {},
     "output_type": "execute_result"
    }
   ],
   "source": [
    "// Orgering words by `count` might be a good idea.\n",
    "p + geomBar(size = 0) {\n",
    "    fill = \"g\"\n",
    "    x = asDiscrete(\"word\", orderBy = \"..count..\")\n",
    "}"
   ]
  }
 ],
 "metadata": {
  "kernelspec": {
   "display_name": "Kotlin",
   "language": "kotlin",
   "name": "kotlin"
  },
  "language_info": {
   "codemirror_mode": "text/x-kotlin",
   "file_extension": ".kt",
   "mimetype": "text/x-kotlin",
   "name": "kotlin",
   "nbconvert_exporter": "",
   "pygments_lexer": "kotlin",
   "version": "1.9.23"
  }
 },
 "nbformat": 4,
 "nbformat_minor": 4
}
