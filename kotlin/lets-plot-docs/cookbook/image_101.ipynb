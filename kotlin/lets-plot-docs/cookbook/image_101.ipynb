{
 "cells": [
  {
   "cell_type": "markdown",
   "metadata": {},
   "source": [
    "## geomImshow()\n",
    "\n",
    "`geomImshow()` displays an image specified by 2D or 3D array.\n",
    "\n",
    "Whether the image is grayscale or color depends on the shape of the image array:\n",
    "- (M, N) - grey-scale image\n",
    "- (M, N, 3) - color RGB image\n",
    "- (M, N, 4) - color RGB image with alpha channel\n",
    "\n",
    "By default, all values in the image array will be transformed to the range [0-255] using a linear scaler."
   ]
  },
  {
   "cell_type": "code",
   "execution_count": 1,
   "metadata": {
    "execution": {
     "iopub.execute_input": "2024-10-24T14:57:17.579994Z",
     "iopub.status.busy": "2024-10-24T14:57:17.577827Z",
     "iopub.status.idle": "2024-10-24T14:57:19.677484Z",
     "shell.execute_reply": "2024-10-24T14:57:19.677571Z"
    }
   },
   "outputs": [
    {
     "data": {
      "text/html": [
       "   <div id=\"ZXdh5L\"></div>\n",
       "   <script type=\"text/javascript\" data-lets-plot-script=\"library\">\n",
       "       if(!window.letsPlotCallQueue) {\n",
       "           window.letsPlotCallQueue = [];\n",
       "       }; \n",
       "       window.letsPlotCall = function(f) {\n",
       "           window.letsPlotCallQueue.push(f);\n",
       "       };\n",
       "       (function() {\n",
       "           var script = document.createElement(\"script\");\n",
       "           script.type = \"text/javascript\";\n",
       "           script.src = \"https://cdn.jsdelivr.net/gh/JetBrains/lets-plot@v4.4.1/js-package/distr/lets-plot.min.js\";\n",
       "           script.onload = function() {\n",
       "               window.letsPlotCall = function(f) {f();};\n",
       "               window.letsPlotCallQueue.forEach(function(f) {f();});\n",
       "               window.letsPlotCallQueue = [];\n",
       "               \n",
       "               \n",
       "           };\n",
       "           script.onerror = function(event) {\n",
       "               window.letsPlotCall = function(f) {};\n",
       "               window.letsPlotCallQueue = [];\n",
       "               var div = document.createElement(\"div\");\n",
       "               div.style.color = 'darkred';\n",
       "               div.textContent = 'Error loading Lets-Plot JS';\n",
       "               document.getElementById(\"ZXdh5L\").appendChild(div);\n",
       "           };\n",
       "           var e = document.getElementById(\"ZXdh5L\");\n",
       "           e.appendChild(script);\n",
       "       })();\n",
       "   </script>"
      ]
     },
     "metadata": {},
     "output_type": "display_data"
    }
   ],
   "source": [
    "%useLatestDescriptors\n",
    "%use lets-plot"
   ]
  },
  {
   "cell_type": "markdown",
   "metadata": {},
   "source": [
    "### Grayscale image\n"
   ]
  },
  {
   "cell_type": "code",
   "execution_count": 2,
   "metadata": {
    "execution": {
     "iopub.execute_input": "2024-10-24T14:57:19.679428Z",
     "iopub.status.busy": "2024-10-24T14:57:19.679185Z",
     "iopub.status.idle": "2024-10-24T14:57:19.880516Z",
     "shell.execute_reply": "2024-10-24T14:57:19.880272Z"
    }
   },
   "outputs": [
    {
     "data": {
      "text/html": [
       "   <div id=\"NqRmVi\"></div>\n",
       "   <script type=\"text/javascript\" data-lets-plot-script=\"plot\">\n",
       "       (function() {\n",
       "           var plotSpec={\n",
       "\"mapping\":{\n",
       "},\n",
       "\"kind\":\"plot\",\n",
       "\"scales\":[{\n",
       "\"aesthetic\":\"paint_c\",\n",
       "\"scale_mapper_kind\":\"color_grey\",\n",
       "\"name\":\"\",\n",
       "\"start\":0.0,\n",
       "\"end\":1.0\n",
       "}],\n",
       "\"layers\":[{\n",
       "\"ymin\":-0.5,\n",
       "\"mapping\":{\n",
       "\"paint_c\":\"paint_c\"\n",
       "},\n",
       "\"stat\":\"identity\",\n",
       "\"xmin\":-0.5,\n",
       "\"ymax\":1.5,\n",
       "\"xmax\":2.5,\n",
       "\"color_by\":\"paint_c\",\n",
       "\"href\":\"data:image/png;base64,iVBORw0KGgoAAAANSUhEUgAAAAMAAAACCAAAAAC4HznGAAAAEElEQVR42mNgWPWf4X8oAwAMpgL+0LIbjQAAAABJRU5ErkJggg==\",\n",
       "\"geom\":\"image\",\n",
       "\"data\":{\n",
       "\"paint_c\":[50.0,200.0]\n",
       "}\n",
       "}]\n",
       "};\n",
       "           var plotContainer = document.getElementById(\"NqRmVi\");\n",
       "           window.letsPlotCall(function() {{\n",
       "               LetsPlot.buildPlotFromProcessedSpecs(plotSpec, -1, -1, plotContainer);\n",
       "           }});\n",
       "       })();\n",
       "   </script>"
      ]
     },
     "execution_count": 2,
     "metadata": {},
     "output_type": "execute_result"
    }
   ],
   "source": [
    "val A2x3 = RasterData.create(\n",
    "    listOf(\n",
    "        listOf(50, 150 ,200),\n",
    "        listOf(200,100,50)\n",
    "    )\n",
    ")\n",
    "\n",
    "ggplot() + geomImshow(A2x3)"
   ]
  },
  {
   "cell_type": "markdown",
   "metadata": {},
   "source": [
    "#### Grayscale image without normalization"
   ]
  },
  {
   "cell_type": "code",
   "execution_count": 3,
   "metadata": {
    "execution": {
     "iopub.execute_input": "2024-10-24T14:57:19.882128Z",
     "iopub.status.busy": "2024-10-24T14:57:19.881900Z",
     "iopub.status.idle": "2024-10-24T14:57:19.938606Z",
     "shell.execute_reply": "2024-10-24T14:57:19.938490Z"
    }
   },
   "outputs": [
    {
     "data": {
      "text/html": [
       "   <div id=\"hyc3Hg\"></div>\n",
       "   <script type=\"text/javascript\" data-lets-plot-script=\"plot\">\n",
       "       (function() {\n",
       "           var plotSpec={\n",
       "\"mapping\":{\n",
       "},\n",
       "\"kind\":\"plot\",\n",
       "\"scales\":[{\n",
       "\"aesthetic\":\"paint_c\",\n",
       "\"scale_mapper_kind\":\"color_grey\",\n",
       "\"name\":\"\",\n",
       "\"start\":0.19607843137254902,\n",
       "\"end\":0.7843137254901961\n",
       "}],\n",
       "\"layers\":[{\n",
       "\"ymin\":-0.5,\n",
       "\"mapping\":{\n",
       "\"paint_c\":\"paint_c\"\n",
       "},\n",
       "\"stat\":\"identity\",\n",
       "\"xmin\":-0.5,\n",
       "\"ymax\":1.5,\n",
       "\"xmax\":2.5,\n",
       "\"color_by\":\"paint_c\",\n",
       "\"href\":\"data:image/png;base64,iVBORw0KGgoAAAANSUhEUgAAAAMAAAACCAAAAAC4HznGAAAAEElEQVR42mMwmnaC4USKEQAMJALvl3jyVQAAAABJRU5ErkJggg==\",\n",
       "\"geom\":\"image\",\n",
       "\"data\":{\n",
       "\"paint_c\":[50.0,200.0]\n",
       "}\n",
       "}]\n",
       "};\n",
       "           var plotContainer = document.getElementById(\"hyc3Hg\");\n",
       "           window.letsPlotCall(function() {{\n",
       "               LetsPlot.buildPlotFromProcessedSpecs(plotSpec, -1, -1, plotContainer);\n",
       "           }});\n",
       "       })();\n",
       "   </script>"
      ]
     },
     "execution_count": 3,
     "metadata": {},
     "output_type": "execute_result"
    }
   ],
   "source": [
    "ggplot() + geomImshow(A2x3, norm=false)"
   ]
  },
  {
   "cell_type": "markdown",
   "metadata": {},
   "source": [
    "### RGB image\n",
    "\n",
    "M x N x 3 array"
   ]
  },
  {
   "cell_type": "code",
   "execution_count": 4,
   "metadata": {
    "execution": {
     "iopub.execute_input": "2024-10-24T14:57:19.940014Z",
     "iopub.status.busy": "2024-10-24T14:57:19.939829Z",
     "iopub.status.idle": "2024-10-24T14:57:20.029329Z",
     "shell.execute_reply": "2024-10-24T14:57:20.029215Z"
    }
   },
   "outputs": [
    {
     "data": {
      "text/html": [
       "   <div id=\"Fyu2mS\"></div>\n",
       "   <script type=\"text/javascript\" data-lets-plot-script=\"plot\">\n",
       "       (function() {\n",
       "           var plotSpec={\n",
       "\"mapping\":{\n",
       "},\n",
       "\"kind\":\"plot\",\n",
       "\"scales\":[],\n",
       "\"layers\":[{\n",
       "\"ymin\":-0.5,\n",
       "\"mapping\":{\n",
       "},\n",
       "\"stat\":\"identity\",\n",
       "\"xmin\":-0.5,\n",
       "\"ymax\":1.5,\n",
       "\"xmax\":2.5,\n",
       "\"color_by\":\"paint_c\",\n",
       "\"href\":\"data:image/png;base64,iVBORw0KGgoAAAANSUhEUgAAAAMAAAACCAIAAAASFvFNAAAAEklEQVR42mP4z8DAAMVgCkgAADvYBftImLKDAAAAAElFTkSuQmCC\",\n",
       "\"geom\":\"image\",\n",
       "\"data\":{\n",
       "}\n",
       "}]\n",
       "};\n",
       "           var plotContainer = document.getElementById(\"Fyu2mS\");\n",
       "           window.letsPlotCall(function() {{\n",
       "               LetsPlot.buildPlotFromProcessedSpecs(plotSpec, -1, -1, plotContainer);\n",
       "           }});\n",
       "       })();\n",
       "   </script>"
      ]
     },
     "execution_count": 4,
     "metadata": {},
     "output_type": "execute_result"
    }
   ],
   "source": [
    "val A2x3x3 = RasterData.create(\n",
    "    listOf(\n",
    "        listOf(listOf(255, 0, 0), listOf(0, 255, 0), listOf(0, 0, 255)),\n",
    "        listOf(listOf(0, 255, 0), listOf(0, 0, 255), listOf(255, 0, 0))\n",
    "    )\n",
    ")\n",
    "\n",
    "ggplot() + geomImshow(A2x3x3)"
   ]
  },
  {
   "cell_type": "markdown",
   "metadata": {},
   "source": [
    "### RGB image with alpha channel\n",
    "\n",
    "M x N x 4 array"
   ]
  },
  {
   "cell_type": "code",
   "execution_count": 5,
   "metadata": {
    "execution": {
     "iopub.execute_input": "2024-10-24T14:57:20.030868Z",
     "iopub.status.busy": "2024-10-24T14:57:20.030614Z",
     "iopub.status.idle": "2024-10-24T14:57:20.105336Z",
     "shell.execute_reply": "2024-10-24T14:57:20.105434Z"
    }
   },
   "outputs": [
    {
     "data": {
      "text/html": [
       "   <div id=\"9pebGj\"></div>\n",
       "   <script type=\"text/javascript\" data-lets-plot-script=\"plot\">\n",
       "       (function() {\n",
       "           var plotSpec={\n",
       "\"mapping\":{\n",
       "},\n",
       "\"kind\":\"plot\",\n",
       "\"scales\":[],\n",
       "\"layers\":[{\n",
       "\"ymin\":-0.5,\n",
       "\"mapping\":{\n",
       "},\n",
       "\"stat\":\"identity\",\n",
       "\"xmin\":-0.5,\n",
       "\"ymax\":1.5,\n",
       "\"xmax\":2.5,\n",
       "\"color_by\":\"paint_c\",\n",
       "\"href\":\"data:image/png;base64,iVBORw0KGgoAAAANSUhEUgAAAAMAAAACCAYAAACddGYaAAAAGUlEQVR42mP4z8DwHwwZ/oOZvkDCF8jyBQCLFgnfxsUWGQAAAABJRU5ErkJggg==\",\n",
       "\"geom\":\"image\",\n",
       "\"data\":{\n",
       "}\n",
       "}]\n",
       "};\n",
       "           var plotContainer = document.getElementById(\"9pebGj\");\n",
       "           window.letsPlotCall(function() {{\n",
       "               LetsPlot.buildPlotFromProcessedSpecs(plotSpec, -1, -1, plotContainer);\n",
       "           }});\n",
       "       })();\n",
       "   </script>"
      ]
     },
     "execution_count": 5,
     "metadata": {},
     "output_type": "execute_result"
    }
   ],
   "source": [
    "val A2x3x4 = RasterData.create(\n",
    "    listOf(\n",
    "        listOf(\n",
    "            listOf(1.0, 0.0, 0.0, 1.0), listOf(0.0, 1.0, 0.0, 1.0), listOf(0.0, 0.0, 1.0, 1.0)\n",
    "        ),\n",
    "        listOf(\n",
    "            listOf(0.0, 1.0, 0.0, 0.3), listOf(0.0, 0.0, 1.0, 0.3), listOf(1.0, 0.0, 0.0, 0.3)\n",
    "        )\n",
    "    )\n",
    ")\n",
    "\n",
    "ggplot() + geomImshow(A2x3x4)"
   ]
  },
  {
   "cell_type": "markdown",
   "metadata": {},
   "source": [
    "## Image specified by array"
   ]
  },
  {
   "cell_type": "markdown",
   "metadata": {},
   "source": [
    "### Grayscale image specified by ByteArray\n"
   ]
  },
  {
   "cell_type": "code",
   "execution_count": 6,
   "metadata": {
    "execution": {
     "iopub.execute_input": "2024-10-24T14:57:20.106591Z",
     "iopub.status.busy": "2024-10-24T14:57:20.106426Z",
     "iopub.status.idle": "2024-10-24T14:57:20.172917Z",
     "shell.execute_reply": "2024-10-24T14:57:20.173046Z"
    }
   },
   "outputs": [
    {
     "data": {
      "text/html": [
       "   <div id=\"tVwuMQ\"></div>\n",
       "   <script type=\"text/javascript\" data-lets-plot-script=\"plot\">\n",
       "       (function() {\n",
       "           var plotSpec={\n",
       "\"mapping\":{\n",
       "},\n",
       "\"kind\":\"plot\",\n",
       "\"scales\":[{\n",
       "\"aesthetic\":\"paint_c\",\n",
       "\"scale_mapper_kind\":\"color_grey\",\n",
       "\"name\":\"\",\n",
       "\"start\":0.0,\n",
       "\"end\":1.0\n",
       "}],\n",
       "\"layers\":[{\n",
       "\"ymin\":-0.5,\n",
       "\"mapping\":{\n",
       "\"paint_c\":\"paint_c\"\n",
       "},\n",
       "\"stat\":\"identity\",\n",
       "\"xmin\":-0.5,\n",
       "\"ymax\":1.5,\n",
       "\"xmax\":2.5,\n",
       "\"color_by\":\"paint_c\",\n",
       "\"href\":\"data:image/png;base64,iVBORw0KGgoAAAANSUhEUgAAAAMAAAACCAAAAAC4HznGAAAAEElEQVR42mNgWPWf4X8oAwAMpgL+0LIbjQAAAABJRU5ErkJggg==\",\n",
       "\"geom\":\"image\",\n",
       "\"data\":{\n",
       "\"paint_c\":[50.0,200.0]\n",
       "}\n",
       "}]\n",
       "};\n",
       "           var plotContainer = document.getElementById(\"tVwuMQ\");\n",
       "           window.letsPlotCall(function() {{\n",
       "               LetsPlot.buildPlotFromProcessedSpecs(plotSpec, -1, -1, plotContainer);\n",
       "           }});\n",
       "       })();\n",
       "   </script>"
      ]
     },
     "execution_count": 6,
     "metadata": {},
     "output_type": "execute_result"
    }
   ],
   "source": [
    "val byteArrayA2x3 = RasterData.create(\n",
    "    byteArrayOf(50, 150.toByte(), 200.toByte(), 200.toByte(), 100, 50),\n",
    "    width = 3, height = 2, nChannels = 1\n",
    ")\n",
    "\n",
    "ggplot() + geomImshow(byteArrayA2x3)"
   ]
  },
  {
   "cell_type": "markdown",
   "metadata": {},
   "source": [
    "### RGB image with alpha channel specified by IntArray\n",
    "Note that pixels are not packed - size of the array have to be equal to `width * height * nChannels`"
   ]
  },
  {
   "cell_type": "code",
   "execution_count": 7,
   "metadata": {
    "execution": {
     "iopub.execute_input": "2024-10-24T14:57:20.174416Z",
     "iopub.status.busy": "2024-10-24T14:57:20.174271Z",
     "iopub.status.idle": "2024-10-24T14:57:20.292689Z",
     "shell.execute_reply": "2024-10-24T14:57:20.292802Z"
    }
   },
   "outputs": [
    {
     "data": {
      "text/html": [
       "   <div id=\"HT53mT\"></div>\n",
       "   <script type=\"text/javascript\" data-lets-plot-script=\"plot\">\n",
       "       (function() {\n",
       "           var plotSpec={\n",
       "\"mapping\":{\n",
       "},\n",
       "\"kind\":\"plot\",\n",
       "\"scales\":[],\n",
       "\"layers\":[{\n",
       "\"ymin\":-0.5,\n",
       "\"mapping\":{\n",
       "},\n",
       "\"stat\":\"identity\",\n",
       "\"xmin\":-0.5,\n",
       "\"ymax\":1.5,\n",
       "\"xmax\":2.5,\n",
       "\"color_by\":\"paint_c\",\n",
       "\"href\":\"data:image/png;base64,iVBORw0KGgoAAAANSUhEUgAAAAMAAAACCAYAAACddGYaAAAAGUlEQVR42mP4z8DwHwwZ/oOZAUAiAMgKAACLQwno6mpeHAAAAABJRU5ErkJggg==\",\n",
       "\"geom\":\"image\",\n",
       "\"data\":{\n",
       "}\n",
       "}]\n",
       "};\n",
       "           var plotContainer = document.getElementById(\"HT53mT\");\n",
       "           window.letsPlotCall(function() {{\n",
       "               LetsPlot.buildPlotFromProcessedSpecs(plotSpec, -1, -1, plotContainer);\n",
       "           }});\n",
       "       })();\n",
       "   </script>"
      ]
     },
     "execution_count": 7,
     "metadata": {},
     "output_type": "execute_result"
    }
   ],
   "source": [
    "val intArrayA2x3x4 = RasterData.create(\n",
    "    listOf(\n",
    "            255, 0, 0, 255, \n",
    "            0, 255, 0, 255, \n",
    "            0, 0, 255, 255,\n",
    "            0, 255, 0, 80, \n",
    "            0, 0, 255, 80, \n",
    "            255, 0, 0, 80\n",
    "        ).toIntArray(),\n",
    "    width = 3, height = 2, nChannels = 4\n",
    ")\n",
    "\n",
    "ggplot() + geomImshow(intArrayA2x3x4)"
   ]
  }
 ],
 "metadata": {
  "kernelspec": {
   "display_name": "Kotlin",
   "language": "kotlin",
   "name": "kotlin"
  },
  "language_info": {
   "codemirror_mode": "text/x-kotlin",
   "file_extension": ".kt",
   "mimetype": "text/x-kotlin",
   "name": "kotlin",
   "nbconvert_exporter": "",
   "pygments_lexer": "kotlin",
   "version": "1.9.23"
  }
 },
 "nbformat": 4,
 "nbformat_minor": 4
}
