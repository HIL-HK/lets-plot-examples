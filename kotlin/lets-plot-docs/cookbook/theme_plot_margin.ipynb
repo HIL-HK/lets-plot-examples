{
 "cells": [
  {
   "cell_type": "markdown",
   "id": "fc1b4100",
   "metadata": {},
   "source": [
    "# Plot Margins\n",
    "\n",
    "`plot_margin` parameter in `theme()` allows to change the margin areas of a plot using the `margin()` function."
   ]
  },
  {
   "cell_type": "code",
   "execution_count": 1,
   "id": "11298efb",
   "metadata": {
    "execution": {
     "iopub.execute_input": "2024-11-01T20:32:48.235775Z",
     "iopub.status.busy": "2024-11-01T20:32:48.233519Z",
     "iopub.status.idle": "2024-11-01T20:32:50.324863Z",
     "shell.execute_reply": "2024-11-01T20:32:50.324694Z"
    }
   },
   "outputs": [
    {
     "data": {
      "text/html": [
       "   <div id=\"3HASi2\"></div>\n",
       "   <script type=\"text/javascript\" data-lets-plot-script=\"library\">\n",
       "       if(!window.letsPlotCallQueue) {\n",
       "           window.letsPlotCallQueue = [];\n",
       "       }; \n",
       "       window.letsPlotCall = function(f) {\n",
       "           window.letsPlotCallQueue.push(f);\n",
       "       };\n",
       "       (function() {\n",
       "           var script = document.createElement(\"script\");\n",
       "           script.type = \"text/javascript\";\n",
       "           script.src = \"https://cdn.jsdelivr.net/gh/JetBrains/lets-plot@v4.5.1/js-package/distr/lets-plot.min.js\";\n",
       "           script.onload = function() {\n",
       "               window.letsPlotCall = function(f) {f();};\n",
       "               window.letsPlotCallQueue.forEach(function(f) {f();});\n",
       "               window.letsPlotCallQueue = [];\n",
       "               \n",
       "               \n",
       "           };\n",
       "           script.onerror = function(event) {\n",
       "               window.letsPlotCall = function(f) {};\n",
       "               window.letsPlotCallQueue = [];\n",
       "               var div = document.createElement(\"div\");\n",
       "               div.style.color = 'darkred';\n",
       "               div.textContent = 'Error loading Lets-Plot JS';\n",
       "               document.getElementById(\"3HASi2\").appendChild(div);\n",
       "           };\n",
       "           var e = document.getElementById(\"3HASi2\");\n",
       "           e.appendChild(script);\n",
       "       })();\n",
       "   </script>"
      ]
     },
     "metadata": {},
     "output_type": "display_data"
    }
   ],
   "source": [
    "%useLatestDescriptors\n",
    "%use lets-plot"
   ]
  },
  {
   "cell_type": "code",
   "execution_count": 2,
   "id": "13ff2ed9",
   "metadata": {
    "execution": {
     "iopub.execute_input": "2024-11-01T20:32:50.326774Z",
     "iopub.status.busy": "2024-11-01T20:32:50.326655Z",
     "iopub.status.idle": "2024-11-01T20:32:50.371404Z",
     "shell.execute_reply": "2024-11-01T20:32:50.371522Z"
    }
   },
   "outputs": [
    {
     "data": {
      "text/plain": [
       "Lets-Plot Kotlin API v.4.9.0. Frontend: Notebook with dynamically loaded JS. Lets-Plot JS v.4.5.1."
      ]
     },
     "execution_count": 2,
     "metadata": {},
     "output_type": "execute_result"
    }
   ],
   "source": [
    "LetsPlot.getInfo()"
   ]
  },
  {
   "cell_type": "code",
   "execution_count": 3,
   "id": "f8500fa7",
   "metadata": {
    "execution": {
     "iopub.execute_input": "2024-11-01T20:32:50.374075Z",
     "iopub.status.busy": "2024-11-01T20:32:50.373579Z",
     "iopub.status.idle": "2024-11-01T20:32:50.523829Z",
     "shell.execute_reply": "2024-11-01T20:32:50.523654Z"
    }
   },
   "outputs": [],
   "source": [
    "val rand = java.util.Random()\n",
    "\n",
    "val data = mapOf(\"x\" to List(100) { rand.nextInt(10) })\n",
    "\n",
    "val p = letsPlot(data) { x = \"x\" } + geomBar() + ggtitle(\"Bar Сhart\") +\n",
    "    theme(plotBackground = elementRect(size = 6))"
   ]
  },
  {
   "cell_type": "markdown",
   "id": "57bc28a9",
   "metadata": {},
   "source": [
    "#### Plot without Margins"
   ]
  },
  {
   "cell_type": "code",
   "execution_count": 4,
   "id": "1fc6984a",
   "metadata": {
    "execution": {
     "iopub.execute_input": "2024-11-01T20:32:50.525905Z",
     "iopub.status.busy": "2024-11-01T20:32:50.525702Z",
     "iopub.status.idle": "2024-11-01T20:32:50.667153Z",
     "shell.execute_reply": "2024-11-01T20:32:50.667002Z"
    }
   },
   "outputs": [
    {
     "data": {
      "text/html": [
       "   <div id=\"6tVyJI\"></div>\n",
       "   <script type=\"text/javascript\" data-lets-plot-script=\"plot\">\n",
       "   \n",
       "   (function() {\n",
       "   // ----------\n",
       "   \n",
       "   var containerDiv = document.getElementById(\"6tVyJI\");\n",
       "   var observer = new ResizeObserver(function(entries) {\n",
       "       for (let entry of entries) {\n",
       "           var width = containerDiv.clientWidth\n",
       "           if (entry.contentBoxSize && width > 0) {\n",
       "           \n",
       "               // Render plot\n",
       "               if (observer) {\n",
       "                   observer.disconnect();\n",
       "                   observer = null;\n",
       "               }\n",
       "\n",
       "               var plotSpec={\n",
       "\"ggtitle\":{\n",
       "\"text\":\"Bar Сhart\"\n",
       "},\n",
       "\"mapping\":{\n",
       "\"x\":\"x\"\n",
       "},\n",
       "\"data\":{\n",
       "},\n",
       "\"kind\":\"plot\",\n",
       "\"scales\":[],\n",
       "\"layers\":[{\n",
       "\"mapping\":{\n",
       "},\n",
       "\"stat\":\"count\",\n",
       "\"position\":\"stack\",\n",
       "\"geom\":\"bar\",\n",
       "\"data\":{\n",
       "\"..count..\":[8.0,12.0,18.0,10.0,9.0,8.0,7.0,8.0,10.0,10.0],\n",
       "\"x\":[7.0,6.0,2.0,8.0,4.0,1.0,5.0,3.0,9.0,0.0]\n",
       "}\n",
       "}],\n",
       "\"theme\":{\n",
       "\"plot_background\":{\n",
       "\"size\":6.0,\n",
       "\"blank\":false\n",
       "}\n",
       "},\n",
       "\"data_meta\":{\n",
       "\"series_annotations\":[{\n",
       "\"type\":\"int\",\n",
       "\"column\":\"x\"\n",
       "}]\n",
       "},\n",
       "\"spec_id\":\"1\"\n",
       "};\n",
       "               window.letsPlotCall(function() {\n",
       "       \n",
       "               var toolbar = null;\n",
       "               var plotContainer = containerDiv;               \n",
       "               \n",
       "                   var options = {\n",
       "                       sizing: {\n",
       "                           width_mode: \"min\",\n",
       "                           height_mode: \"scaled\",\n",
       "                           width: width\n",
       "                       }\n",
       "                   };\n",
       "                   var fig = LetsPlot.buildPlotFromProcessedSpecs(plotSpec, -1, -1, plotContainer, options);\n",
       "                   if (toolbar) {\n",
       "                     toolbar.bind(fig);\n",
       "                   }\n",
       "               });\n",
       "               \n",
       "               break;\n",
       "           }\n",
       "       }\n",
       "   });\n",
       "   \n",
       "   observer.observe(containerDiv);\n",
       "   \n",
       "   // ----------\n",
       "   })();\n",
       "   \n",
       "   </script>"
      ]
     },
     "execution_count": 4,
     "metadata": {},
     "output_type": "execute_result"
    }
   ],
   "source": [
    "p"
   ]
  },
  {
   "cell_type": "markdown",
   "id": "0bb41b1d",
   "metadata": {},
   "source": [
    "#### Plot with Margins"
   ]
  },
  {
   "cell_type": "code",
   "execution_count": 5,
   "id": "d19ad8bd",
   "metadata": {
    "execution": {
     "iopub.execute_input": "2024-11-01T20:32:50.668754Z",
     "iopub.status.busy": "2024-11-01T20:32:50.668562Z",
     "iopub.status.idle": "2024-11-01T20:32:50.726052Z",
     "shell.execute_reply": "2024-11-01T20:32:50.725901Z"
    }
   },
   "outputs": [
    {
     "data": {
      "text/html": [
       "   <div id=\"oZ1pSj\"></div>\n",
       "   <script type=\"text/javascript\" data-lets-plot-script=\"plot\">\n",
       "   \n",
       "   (function() {\n",
       "   // ----------\n",
       "   \n",
       "   var containerDiv = document.getElementById(\"oZ1pSj\");\n",
       "   var observer = new ResizeObserver(function(entries) {\n",
       "       for (let entry of entries) {\n",
       "           var width = containerDiv.clientWidth\n",
       "           if (entry.contentBoxSize && width > 0) {\n",
       "           \n",
       "               // Render plot\n",
       "               if (observer) {\n",
       "                   observer.disconnect();\n",
       "                   observer = null;\n",
       "               }\n",
       "\n",
       "               var plotSpec={\n",
       "\"ggtitle\":{\n",
       "\"text\":\"Bar Сhart\"\n",
       "},\n",
       "\"mapping\":{\n",
       "\"x\":\"x\"\n",
       "},\n",
       "\"data\":{\n",
       "},\n",
       "\"kind\":\"plot\",\n",
       "\"scales\":[],\n",
       "\"layers\":[{\n",
       "\"mapping\":{\n",
       "},\n",
       "\"stat\":\"count\",\n",
       "\"position\":\"stack\",\n",
       "\"geom\":\"bar\",\n",
       "\"data\":{\n",
       "\"..count..\":[8.0,12.0,18.0,10.0,9.0,8.0,7.0,8.0,10.0,10.0],\n",
       "\"x\":[7.0,6.0,2.0,8.0,4.0,1.0,5.0,3.0,9.0,0.0]\n",
       "}\n",
       "}],\n",
       "\"theme\":{\n",
       "\"plot_background\":{\n",
       "\"size\":6.0,\n",
       "\"blank\":false\n",
       "},\n",
       "\"plot_margin\":[20.0,10.0,10.0,10.0]\n",
       "},\n",
       "\"data_meta\":{\n",
       "\"series_annotations\":[{\n",
       "\"type\":\"int\",\n",
       "\"column\":\"x\"\n",
       "}]\n",
       "},\n",
       "\"spec_id\":\"2\"\n",
       "};\n",
       "               window.letsPlotCall(function() {\n",
       "       \n",
       "               var toolbar = null;\n",
       "               var plotContainer = containerDiv;               \n",
       "               \n",
       "                   var options = {\n",
       "                       sizing: {\n",
       "                           width_mode: \"min\",\n",
       "                           height_mode: \"scaled\",\n",
       "                           width: width\n",
       "                       }\n",
       "                   };\n",
       "                   var fig = LetsPlot.buildPlotFromProcessedSpecs(plotSpec, -1, -1, plotContainer, options);\n",
       "                   if (toolbar) {\n",
       "                     toolbar.bind(fig);\n",
       "                   }\n",
       "               });\n",
       "               \n",
       "               break;\n",
       "           }\n",
       "       }\n",
       "   });\n",
       "   \n",
       "   observer.observe(containerDiv);\n",
       "   \n",
       "   // ----------\n",
       "   })();\n",
       "   \n",
       "   </script>"
      ]
     },
     "execution_count": 5,
     "metadata": {},
     "output_type": "execute_result"
    }
   ],
   "source": [
    "p + theme(plotMargin = margin(t=20,  // Top\n",
    "                              r=10,  // Right\n",
    "                              b=10,  // Bottom\n",
    "                              l=10)) // Left      "
   ]
  }
 ],
 "metadata": {
  "kernelspec": {
   "display_name": "Kotlin",
   "language": "kotlin",
   "name": "kotlin"
  },
  "language_info": {
   "codemirror_mode": "text/x-kotlin",
   "file_extension": ".kt",
   "mimetype": "text/x-kotlin",
   "name": "kotlin",
   "nbconvert_exporter": "",
   "pygments_lexer": "kotlin",
   "version": "1.9.23"
  }
 },
 "nbformat": 4,
 "nbformat_minor": 5
}
