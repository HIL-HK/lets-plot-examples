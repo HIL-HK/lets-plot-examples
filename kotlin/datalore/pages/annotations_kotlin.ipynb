{
 "cells": [
  {
   "attachments": {},
   "cell_type": "markdown",
   "metadata": {
    "datalore": {
     "hide_input_from_viewers": false,
     "hide_output_from_viewers": false,
     "node_id": "6TSjJxkCZ6rCEIBGpCcmz7",
     "report_properties": {
      "relativeY": 0,
      "rowId": "6EQyjPAkK3rArptiaFSn5v"
     },
     "type": "MD"
    }
   },
   "source": [
    "# Annotation Labels\n",
    "\n",
    "Annotation labels specify content of the annotations for pie and bar charts."
   ]
  },
  {
   "attachments": {},
   "cell_type": "markdown",
   "metadata": {
    "datalore": {
     "hide_input_from_viewers": false,
     "hide_output_from_viewers": false,
     "node_id": "UJttgXFVUwFIFGAc9nzNIp",
     "report_properties": {
      "relativeY": 0,
      "rowId": "Ve0R8dKss7HcDPqQG624g5"
     },
     "type": "MD"
    }
   },
   "source": [
    "## Annotated Pie Chart"
   ]
  },
  {
   "cell_type": "code",
   "execution_count": 1,
   "metadata": {
    "datalore": {
     "hide_input_from_viewers": false,
     "hide_output_from_viewers": true,
     "node_id": "reI9iErZMiDAbCYLmtExbG",
     "report_properties": {
      "relativeY": 0,
      "rowId": "C7vkeM3blHAg7JQ6ZFVYjK"
     },
     "type": "CODE"
    },
    "execution": {
     "iopub.execute_input": "2024-09-26T16:01:10.108236Z",
     "iopub.status.busy": "2024-09-26T16:01:10.107215Z",
     "iopub.status.idle": "2024-09-26T16:01:18.373276Z",
     "shell.execute_reply": "2024-09-26T16:01:18.372733Z"
    }
   },
   "outputs": [
    {
     "data": {
      "text/html": [
       "   <div id=\"GpsVwd\"></div>\n",
       "   <script type=\"text/javascript\" data-lets-plot-script=\"library\">\n",
       "       if(!window.letsPlotCallQueue) {\n",
       "           window.letsPlotCallQueue = [];\n",
       "       }; \n",
       "       window.letsPlotCall = function(f) {\n",
       "           window.letsPlotCallQueue.push(f);\n",
       "       };\n",
       "       (function() {\n",
       "           var script = document.createElement(\"script\");\n",
       "           script.type = \"text/javascript\";\n",
       "           script.src = \"https://cdn.jsdelivr.net/gh/JetBrains/lets-plot@v4.3.2/js-package/distr/lets-plot.min.js\";\n",
       "           script.onload = function() {\n",
       "               window.letsPlotCall = function(f) {f();};\n",
       "               window.letsPlotCallQueue.forEach(function(f) {f();});\n",
       "               window.letsPlotCallQueue = [];\n",
       "               \n",
       "               \n",
       "           };\n",
       "           script.onerror = function(event) {\n",
       "               window.letsPlotCall = function(f) {};\n",
       "               window.letsPlotCallQueue = [];\n",
       "               var div = document.createElement(\"div\");\n",
       "               div.style.color = 'darkred';\n",
       "               div.textContent = 'Error loading Lets-Plot JS';\n",
       "               document.getElementById(\"GpsVwd\").appendChild(div);\n",
       "           };\n",
       "           var e = document.getElementById(\"GpsVwd\");\n",
       "           e.appendChild(script);\n",
       "       })();\n",
       "   </script>"
      ]
     },
     "metadata": {},
     "output_type": "display_data"
    },
    {
     "data": {
      "text/html": [
       "            <div id=\"kotlin_out_0\"></div>\n",
       "            <script type=\"text/javascript\">\n",
       "                            if(!window.kotlinQueues) {\n",
       "                window.kotlinQueues = {};\n",
       "            }\n",
       "            if(!window.kotlinQueues[\"DataFrame\"]) {\n",
       "                var resQueue = [];\n",
       "                window.kotlinQueues[\"DataFrame\"] = resQueue;\n",
       "                window[\"call_DataFrame\"] = function(f) {\n",
       "                    resQueue.push(f);\n",
       "                }\n",
       "            }\n",
       "            (function (){\n",
       "                var modifiers = [(function(script) {\n",
       "    script.src = \"https://cdn.jsdelivr.net/gh/Kotlin/dataframe@3db46ccccaa1291c0627307d64133317f545e6ae/core/src/main/resources/init.js\"\n",
       "    script.type = \"text/javascript\";\n",
       "})];\n",
       "                var e = document.getElementById(\"kotlin_out_0\");\n",
       "                modifiers.forEach(function (gen) {\n",
       "                    var script = document.createElement(\"script\");\n",
       "                    gen(script)\n",
       "                    script.addEventListener(\"load\", function() {\n",
       "                        window[\"call_DataFrame\"] = function(f) {f();};\n",
       "                        window.kotlinQueues[\"DataFrame\"].forEach(function(f) {f();});\n",
       "                        window.kotlinQueues[\"DataFrame\"] = [];\n",
       "                    }, false);\n",
       "                    script.addEventListener(\"error\", function() {\n",
       "                        window[\"call_DataFrame\"] = function(f) {};\n",
       "                        window.kotlinQueues[\"DataFrame\"] = [];\n",
       "                        var div = document.createElement(\"div\");\n",
       "                        div.style.color = 'darkred';\n",
       "                        div.textContent = 'Error loading resource DataFrame';\n",
       "                        document.getElementById(\"kotlin_out_0\").appendChild(div);\n",
       "                    }, false);\n",
       "                    \n",
       "                    e.appendChild(script);\n",
       "                });\n",
       "            })();\n",
       "            </script>"
      ]
     },
     "metadata": {},
     "output_type": "display_data"
    },
    {
     "data": {
      "text/html": [
       "                <style>\n",
       "                :root {\n",
       "    --background: #fff;\n",
       "    --background-odd: #f5f5f5;\n",
       "    --background-hover: #d9edfd;\n",
       "    --header-text-color: #474747;\n",
       "    --text-color: #848484;\n",
       "    --text-color-dark: #000;\n",
       "    --text-color-medium: #737373;\n",
       "    --text-color-pale: #b3b3b3;\n",
       "    --inner-border-color: #aaa;\n",
       "    --bold-border-color: #000;\n",
       "    --link-color: #296eaa;\n",
       "    --link-color-pale: #296eaa;\n",
       "    --link-hover: #1a466c;\n",
       "}\n",
       "\n",
       ":root[theme=\"dark\"], :root [data-jp-theme-light=\"false\"], .dataframe_dark{\n",
       "    --background: #303030;\n",
       "    --background-odd: #3c3c3c;\n",
       "    --background-hover: #464646;\n",
       "    --header-text-color: #dddddd;\n",
       "    --text-color: #b3b3b3;\n",
       "    --text-color-dark: #dddddd;\n",
       "    --text-color-medium: #b2b2b2;\n",
       "    --text-color-pale: #737373;\n",
       "    --inner-border-color: #707070;\n",
       "    --bold-border-color: #777777;\n",
       "    --link-color: #008dc0;\n",
       "    --link-color-pale: #97e1fb;\n",
       "    --link-hover: #00688e;\n",
       "}\n",
       "\n",
       "p.dataframe_description {\n",
       "    color: var(--text-color-dark);\n",
       "}\n",
       "\n",
       "table.dataframe {\n",
       "    font-family: \"Helvetica Neue\", Helvetica, Arial, sans-serif;\n",
       "    font-size: 12px;\n",
       "    background-color: var(--background);\n",
       "    color: var(--text-color-dark);\n",
       "    border: none;\n",
       "    border-collapse: collapse;\n",
       "}\n",
       "\n",
       "table.dataframe th, td {\n",
       "    padding: 6px;\n",
       "    border: 1px solid transparent;\n",
       "    text-align: left;\n",
       "}\n",
       "\n",
       "table.dataframe th {\n",
       "    background-color: var(--background);\n",
       "    color: var(--header-text-color);\n",
       "}\n",
       "\n",
       "table.dataframe td {\n",
       "    vertical-align: top;\n",
       "}\n",
       "\n",
       "table.dataframe th.bottomBorder {\n",
       "    border-bottom-color: var(--bold-border-color);\n",
       "}\n",
       "\n",
       "table.dataframe tbody > tr:nth-child(odd) {\n",
       "    background: var(--background-odd);\n",
       "}\n",
       "\n",
       "table.dataframe tbody > tr:nth-child(even) {\n",
       "    background: var(--background);\n",
       "}\n",
       "\n",
       "table.dataframe tbody > tr:hover {\n",
       "    background: var(--background-hover);\n",
       "}\n",
       "\n",
       "table.dataframe a {\n",
       "    cursor: pointer;\n",
       "    color: var(--link-color);\n",
       "    text-decoration: none;\n",
       "}\n",
       "\n",
       "table.dataframe tr:hover > td a {\n",
       "    color: var(--link-color-pale);\n",
       "}\n",
       "\n",
       "table.dataframe a:hover {\n",
       "    color: var(--link-hover);\n",
       "    text-decoration: underline;\n",
       "}\n",
       "\n",
       "table.dataframe img {\n",
       "    max-width: fit-content;\n",
       "}\n",
       "\n",
       "table.dataframe th.complex {\n",
       "    background-color: var(--background);\n",
       "    border: 1px solid var(--background);\n",
       "}\n",
       "\n",
       "table.dataframe .leftBorder {\n",
       "    border-left-color: var(--inner-border-color);\n",
       "}\n",
       "\n",
       "table.dataframe .rightBorder {\n",
       "    border-right-color: var(--inner-border-color);\n",
       "}\n",
       "\n",
       "table.dataframe .rightAlign {\n",
       "    text-align: right;\n",
       "}\n",
       "\n",
       "table.dataframe .expanderSvg {\n",
       "    width: 8px;\n",
       "    height: 8px;\n",
       "    margin-right: 3px;\n",
       "}\n",
       "\n",
       "table.dataframe .expander {\n",
       "    display: flex;\n",
       "    align-items: center;\n",
       "}\n",
       "\n",
       "/* formatting */\n",
       "\n",
       "table.dataframe .null {\n",
       "    color: var(--text-color-pale);\n",
       "}\n",
       "\n",
       "table.dataframe .structural {\n",
       "    color: var(--text-color-medium);\n",
       "    font-weight: bold;\n",
       "}\n",
       "\n",
       "table.dataframe .dataFrameCaption {\n",
       "    font-weight: bold;\n",
       "}\n",
       "\n",
       "table.dataframe .numbers {\n",
       "    color: var(--text-color-dark);\n",
       "}\n",
       "\n",
       "table.dataframe td:hover .formatted .structural, .null {\n",
       "    color: var(--text-color-dark);\n",
       "}\n",
       "\n",
       "table.dataframe tr:hover .formatted .structural, .null {\n",
       "    color: var(--text-color-dark);\n",
       "}\n",
       "\n",
       "\n",
       "                </style>"
      ]
     },
     "metadata": {},
     "output_type": "display_data"
    }
   ],
   "source": [
    "%useLatestDescriptors\n",
    "%use lets-plot\n",
    "%use dataframe(0.13.0)"
   ]
  },
  {
   "cell_type": "code",
   "execution_count": 2,
   "metadata": {
    "datalore": {
     "hide_input_from_viewers": false,
     "hide_output_from_viewers": false,
     "node_id": "jHhrPRA0GgKj3HkLwRjEra",
     "report_properties": {
      "relativeY": 0,
      "rowId": "FY5F4UsqTgKMF3LX14Hxeh"
     },
     "type": "CODE"
    },
    "execution": {
     "iopub.execute_input": "2024-09-26T16:01:18.376720Z",
     "iopub.status.busy": "2024-09-26T16:01:18.376095Z",
     "iopub.status.idle": "2024-09-26T16:01:19.372085Z",
     "shell.execute_reply": "2024-09-26T16:01:19.370717Z"
    }
   },
   "outputs": [
    {
     "data": {
      "application/kotlindataframe+json": "{\"nrow\":5,\"ncol\":13,\"columns\":[\"untitled\",\"manufacturer\",\"model\",\"displ\",\"year\",\"cyl\",\"trans\",\"drv\",\"cty\",\"hwy\",\"fl\",\"class\",\"explode\"],\"kotlin_dataframe\":[{\"untitled\":1,\"manufacturer\":\"audi\",\"model\":\"a4\",\"displ\":1.8,\"year\":1999,\"cyl\":4,\"trans\":\"auto(l5)\",\"drv\":\"f\",\"cty\":18,\"hwy\":29,\"fl\":\"p\",\"class\":\"compact\",\"explode\":0.0},{\"untitled\":2,\"manufacturer\":\"audi\",\"model\":\"a4\",\"displ\":1.8,\"year\":1999,\"cyl\":4,\"trans\":\"manual(m5)\",\"drv\":\"f\",\"cty\":21,\"hwy\":29,\"fl\":\"p\",\"class\":\"compact\",\"explode\":0.0},{\"untitled\":3,\"manufacturer\":\"audi\",\"model\":\"a4\",\"displ\":2.0,\"year\":2008,\"cyl\":4,\"trans\":\"manual(m6)\",\"drv\":\"f\",\"cty\":20,\"hwy\":31,\"fl\":\"p\",\"class\":\"compact\",\"explode\":0.0},{\"untitled\":4,\"manufacturer\":\"audi\",\"model\":\"a4\",\"displ\":2.0,\"year\":2008,\"cyl\":4,\"trans\":\"auto(av)\",\"drv\":\"f\",\"cty\":21,\"hwy\":30,\"fl\":\"p\",\"class\":\"compact\",\"explode\":0.0},{\"untitled\":5,\"manufacturer\":\"audi\",\"model\":\"a4\",\"displ\":2.8,\"year\":1999,\"cyl\":6,\"trans\":\"auto(l5)\",\"drv\":\"f\",\"cty\":16,\"hwy\":26,\"fl\":\"p\",\"class\":\"compact\",\"explode\":0.0}]}",
      "text/html": [
       "        <html>\n",
       "        <head>\n",
       "            <style type=\"text/css\">\n",
       "                :root {\n",
       "    --background: #fff;\n",
       "    --background-odd: #f5f5f5;\n",
       "    --background-hover: #d9edfd;\n",
       "    --header-text-color: #474747;\n",
       "    --text-color: #848484;\n",
       "    --text-color-dark: #000;\n",
       "    --text-color-medium: #737373;\n",
       "    --text-color-pale: #b3b3b3;\n",
       "    --inner-border-color: #aaa;\n",
       "    --bold-border-color: #000;\n",
       "    --link-color: #296eaa;\n",
       "    --link-color-pale: #296eaa;\n",
       "    --link-hover: #1a466c;\n",
       "}\n",
       "\n",
       ":root[theme=\"dark\"], :root [data-jp-theme-light=\"false\"], .dataframe_dark{\n",
       "    --background: #303030;\n",
       "    --background-odd: #3c3c3c;\n",
       "    --background-hover: #464646;\n",
       "    --header-text-color: #dddddd;\n",
       "    --text-color: #b3b3b3;\n",
       "    --text-color-dark: #dddddd;\n",
       "    --text-color-medium: #b2b2b2;\n",
       "    --text-color-pale: #737373;\n",
       "    --inner-border-color: #707070;\n",
       "    --bold-border-color: #777777;\n",
       "    --link-color: #008dc0;\n",
       "    --link-color-pale: #97e1fb;\n",
       "    --link-hover: #00688e;\n",
       "}\n",
       "\n",
       "p.dataframe_description {\n",
       "    color: var(--text-color-dark);\n",
       "}\n",
       "\n",
       "table.dataframe {\n",
       "    font-family: \"Helvetica Neue\", Helvetica, Arial, sans-serif;\n",
       "    font-size: 12px;\n",
       "    background-color: var(--background);\n",
       "    color: var(--text-color-dark);\n",
       "    border: none;\n",
       "    border-collapse: collapse;\n",
       "}\n",
       "\n",
       "table.dataframe th, td {\n",
       "    padding: 6px;\n",
       "    border: 1px solid transparent;\n",
       "    text-align: left;\n",
       "}\n",
       "\n",
       "table.dataframe th {\n",
       "    background-color: var(--background);\n",
       "    color: var(--header-text-color);\n",
       "}\n",
       "\n",
       "table.dataframe td {\n",
       "    vertical-align: top;\n",
       "}\n",
       "\n",
       "table.dataframe th.bottomBorder {\n",
       "    border-bottom-color: var(--bold-border-color);\n",
       "}\n",
       "\n",
       "table.dataframe tbody > tr:nth-child(odd) {\n",
       "    background: var(--background-odd);\n",
       "}\n",
       "\n",
       "table.dataframe tbody > tr:nth-child(even) {\n",
       "    background: var(--background);\n",
       "}\n",
       "\n",
       "table.dataframe tbody > tr:hover {\n",
       "    background: var(--background-hover);\n",
       "}\n",
       "\n",
       "table.dataframe a {\n",
       "    cursor: pointer;\n",
       "    color: var(--link-color);\n",
       "    text-decoration: none;\n",
       "}\n",
       "\n",
       "table.dataframe tr:hover > td a {\n",
       "    color: var(--link-color-pale);\n",
       "}\n",
       "\n",
       "table.dataframe a:hover {\n",
       "    color: var(--link-hover);\n",
       "    text-decoration: underline;\n",
       "}\n",
       "\n",
       "table.dataframe img {\n",
       "    max-width: fit-content;\n",
       "}\n",
       "\n",
       "table.dataframe th.complex {\n",
       "    background-color: var(--background);\n",
       "    border: 1px solid var(--background);\n",
       "}\n",
       "\n",
       "table.dataframe .leftBorder {\n",
       "    border-left-color: var(--inner-border-color);\n",
       "}\n",
       "\n",
       "table.dataframe .rightBorder {\n",
       "    border-right-color: var(--inner-border-color);\n",
       "}\n",
       "\n",
       "table.dataframe .rightAlign {\n",
       "    text-align: right;\n",
       "}\n",
       "\n",
       "table.dataframe .expanderSvg {\n",
       "    width: 8px;\n",
       "    height: 8px;\n",
       "    margin-right: 3px;\n",
       "}\n",
       "\n",
       "table.dataframe .expander {\n",
       "    display: flex;\n",
       "    align-items: center;\n",
       "}\n",
       "\n",
       "/* formatting */\n",
       "\n",
       "table.dataframe .null {\n",
       "    color: var(--text-color-pale);\n",
       "}\n",
       "\n",
       "table.dataframe .structural {\n",
       "    color: var(--text-color-medium);\n",
       "    font-weight: bold;\n",
       "}\n",
       "\n",
       "table.dataframe .dataFrameCaption {\n",
       "    font-weight: bold;\n",
       "}\n",
       "\n",
       "table.dataframe .numbers {\n",
       "    color: var(--text-color-dark);\n",
       "}\n",
       "\n",
       "table.dataframe td:hover .formatted .structural, .null {\n",
       "    color: var(--text-color-dark);\n",
       "}\n",
       "\n",
       "table.dataframe tr:hover .formatted .structural, .null {\n",
       "    color: var(--text-color-dark);\n",
       "}\n",
       "\n",
       "\n",
       ":root {\n",
       "    --background: #fff;\n",
       "    --background-odd: #f5f5f5;\n",
       "    --background-hover: #d9edfd;\n",
       "    --header-text-color: #474747;\n",
       "    --text-color: #848484;\n",
       "    --text-color-dark: #000;\n",
       "    --text-color-medium: #737373;\n",
       "    --text-color-pale: #b3b3b3;\n",
       "    --inner-border-color: #aaa;\n",
       "    --bold-border-color: #000;\n",
       "    --link-color: #296eaa;\n",
       "    --link-color-pale: #296eaa;\n",
       "    --link-hover: #1a466c;\n",
       "}\n",
       "\n",
       ":root[theme=\"dark\"], :root [data-jp-theme-light=\"false\"], .dataframe_dark{\n",
       "    --background: #303030;\n",
       "    --background-odd: #3c3c3c;\n",
       "    --background-hover: #464646;\n",
       "    --header-text-color: #dddddd;\n",
       "    --text-color: #b3b3b3;\n",
       "    --text-color-dark: #dddddd;\n",
       "    --text-color-medium: #b2b2b2;\n",
       "    --text-color-pale: #737373;\n",
       "    --inner-border-color: #707070;\n",
       "    --bold-border-color: #777777;\n",
       "    --link-color: #008dc0;\n",
       "    --link-color-pale: #97e1fb;\n",
       "    --link-hover: #00688e;\n",
       "}\n",
       "\n",
       "p.dataframe_description {\n",
       "    color: var(--text-color-dark);\n",
       "}\n",
       "\n",
       "table.dataframe {\n",
       "    font-family: \"Helvetica Neue\", Helvetica, Arial, sans-serif;\n",
       "    font-size: 12px;\n",
       "    background-color: var(--background);\n",
       "    color: var(--text-color-dark);\n",
       "    border: none;\n",
       "    border-collapse: collapse;\n",
       "}\n",
       "\n",
       "table.dataframe th, td {\n",
       "    padding: 6px;\n",
       "    border: 1px solid transparent;\n",
       "    text-align: left;\n",
       "}\n",
       "\n",
       "table.dataframe th {\n",
       "    background-color: var(--background);\n",
       "    color: var(--header-text-color);\n",
       "}\n",
       "\n",
       "table.dataframe td {\n",
       "    vertical-align: top;\n",
       "}\n",
       "\n",
       "table.dataframe th.bottomBorder {\n",
       "    border-bottom-color: var(--bold-border-color);\n",
       "}\n",
       "\n",
       "table.dataframe tbody > tr:nth-child(odd) {\n",
       "    background: var(--background-odd);\n",
       "}\n",
       "\n",
       "table.dataframe tbody > tr:nth-child(even) {\n",
       "    background: var(--background);\n",
       "}\n",
       "\n",
       "table.dataframe tbody > tr:hover {\n",
       "    background: var(--background-hover);\n",
       "}\n",
       "\n",
       "table.dataframe a {\n",
       "    cursor: pointer;\n",
       "    color: var(--link-color);\n",
       "    text-decoration: none;\n",
       "}\n",
       "\n",
       "table.dataframe tr:hover > td a {\n",
       "    color: var(--link-color-pale);\n",
       "}\n",
       "\n",
       "table.dataframe a:hover {\n",
       "    color: var(--link-hover);\n",
       "    text-decoration: underline;\n",
       "}\n",
       "\n",
       "table.dataframe img {\n",
       "    max-width: fit-content;\n",
       "}\n",
       "\n",
       "table.dataframe th.complex {\n",
       "    background-color: var(--background);\n",
       "    border: 1px solid var(--background);\n",
       "}\n",
       "\n",
       "table.dataframe .leftBorder {\n",
       "    border-left-color: var(--inner-border-color);\n",
       "}\n",
       "\n",
       "table.dataframe .rightBorder {\n",
       "    border-right-color: var(--inner-border-color);\n",
       "}\n",
       "\n",
       "table.dataframe .rightAlign {\n",
       "    text-align: right;\n",
       "}\n",
       "\n",
       "table.dataframe .expanderSvg {\n",
       "    width: 8px;\n",
       "    height: 8px;\n",
       "    margin-right: 3px;\n",
       "}\n",
       "\n",
       "table.dataframe .expander {\n",
       "    display: flex;\n",
       "    align-items: center;\n",
       "}\n",
       "\n",
       "/* formatting */\n",
       "\n",
       "table.dataframe .null {\n",
       "    color: var(--text-color-pale);\n",
       "}\n",
       "\n",
       "table.dataframe .structural {\n",
       "    color: var(--text-color-medium);\n",
       "    font-weight: bold;\n",
       "}\n",
       "\n",
       "table.dataframe .dataFrameCaption {\n",
       "    font-weight: bold;\n",
       "}\n",
       "\n",
       "table.dataframe .numbers {\n",
       "    color: var(--text-color-dark);\n",
       "}\n",
       "\n",
       "table.dataframe td:hover .formatted .structural, .null {\n",
       "    color: var(--text-color-dark);\n",
       "}\n",
       "\n",
       "table.dataframe tr:hover .formatted .structural, .null {\n",
       "    color: var(--text-color-dark);\n",
       "}\n",
       "\n",
       "\n",
       "            </style>\n",
       "        </head>\n",
       "        <body>\n",
       "            <table class=\"dataframe\" id=\"df_1459617792\"></table>\n",
       "\n",
       "<p class=\"dataframe_description\">DataFrame: rowsCount = 5, columnsCount = 13</p>\n",
       "<table class=\"dataframe\" id=\"static_df_1459617793\"><thead><tr><th class=\"bottomBorder\" style=\"text-align:left\">untitled</th><th class=\"bottomBorder\" style=\"text-align:left\">manufacturer</th><th class=\"bottomBorder\" style=\"text-align:left\">model</th><th class=\"bottomBorder\" style=\"text-align:left\">displ</th><th class=\"bottomBorder\" style=\"text-align:left\">year</th><th class=\"bottomBorder\" style=\"text-align:left\">cyl</th><th class=\"bottomBorder\" style=\"text-align:left\">trans</th><th class=\"bottomBorder\" style=\"text-align:left\">drv</th><th class=\"bottomBorder\" style=\"text-align:left\">cty</th><th class=\"bottomBorder\" style=\"text-align:left\">hwy</th><th class=\"bottomBorder\" style=\"text-align:left\">fl</th><th class=\"bottomBorder\" style=\"text-align:left\">class</th><th class=\"bottomBorder\" style=\"text-align:left\">explode</th></tr></thead><tbody><tr><td  style=\"vertical-align:top\">1</td><td  style=\"vertical-align:top\">audi</td><td  style=\"vertical-align:top\">a4</td><td  style=\"vertical-align:top\">1.800000</td><td  style=\"vertical-align:top\">1999</td><td  style=\"vertical-align:top\">4</td><td  style=\"vertical-align:top\">auto(l5)</td><td  style=\"vertical-align:top\">f</td><td  style=\"vertical-align:top\">18</td><td  style=\"vertical-align:top\">29</td><td  style=\"vertical-align:top\">p</td><td  style=\"vertical-align:top\">compact</td><td  style=\"vertical-align:top\">0.000000</td></tr><tr><td  style=\"vertical-align:top\">2</td><td  style=\"vertical-align:top\">audi</td><td  style=\"vertical-align:top\">a4</td><td  style=\"vertical-align:top\">1.800000</td><td  style=\"vertical-align:top\">1999</td><td  style=\"vertical-align:top\">4</td><td  style=\"vertical-align:top\">manual(m5)</td><td  style=\"vertical-align:top\">f</td><td  style=\"vertical-align:top\">21</td><td  style=\"vertical-align:top\">29</td><td  style=\"vertical-align:top\">p</td><td  style=\"vertical-align:top\">compact</td><td  style=\"vertical-align:top\">0.000000</td></tr><tr><td  style=\"vertical-align:top\">3</td><td  style=\"vertical-align:top\">audi</td><td  style=\"vertical-align:top\">a4</td><td  style=\"vertical-align:top\">2.000000</td><td  style=\"vertical-align:top\">2008</td><td  style=\"vertical-align:top\">4</td><td  style=\"vertical-align:top\">manual(m6)</td><td  style=\"vertical-align:top\">f</td><td  style=\"vertical-align:top\">20</td><td  style=\"vertical-align:top\">31</td><td  style=\"vertical-align:top\">p</td><td  style=\"vertical-align:top\">compact</td><td  style=\"vertical-align:top\">0.000000</td></tr><tr><td  style=\"vertical-align:top\">4</td><td  style=\"vertical-align:top\">audi</td><td  style=\"vertical-align:top\">a4</td><td  style=\"vertical-align:top\">2.000000</td><td  style=\"vertical-align:top\">2008</td><td  style=\"vertical-align:top\">4</td><td  style=\"vertical-align:top\">auto(av)</td><td  style=\"vertical-align:top\">f</td><td  style=\"vertical-align:top\">21</td><td  style=\"vertical-align:top\">30</td><td  style=\"vertical-align:top\">p</td><td  style=\"vertical-align:top\">compact</td><td  style=\"vertical-align:top\">0.000000</td></tr><tr><td  style=\"vertical-align:top\">5</td><td  style=\"vertical-align:top\">audi</td><td  style=\"vertical-align:top\">a4</td><td  style=\"vertical-align:top\">2.800000</td><td  style=\"vertical-align:top\">1999</td><td  style=\"vertical-align:top\">6</td><td  style=\"vertical-align:top\">auto(l5)</td><td  style=\"vertical-align:top\">f</td><td  style=\"vertical-align:top\">16</td><td  style=\"vertical-align:top\">26</td><td  style=\"vertical-align:top\">p</td><td  style=\"vertical-align:top\">compact</td><td  style=\"vertical-align:top\">0.000000</td></tr></tbody></table>\n",
       "        </body>\n",
       "        <script>\n",
       "            /*<!--*/\n",
       "call_DataFrame(function() { DataFrame.addTable({ cols: [{ name: \"<span title=\\\"untitled: Int\\\">untitled</span>\", children: [], rightAlign: true, values: [\"<span class=\\\"formatted\\\" title=\\\"\\\"><span class=\\\"numbers\\\">1</span></span>\",\"<span class=\\\"formatted\\\" title=\\\"\\\"><span class=\\\"numbers\\\">2</span></span>\",\"<span class=\\\"formatted\\\" title=\\\"\\\"><span class=\\\"numbers\\\">3</span></span>\",\"<span class=\\\"formatted\\\" title=\\\"\\\"><span class=\\\"numbers\\\">4</span></span>\",\"<span class=\\\"formatted\\\" title=\\\"\\\"><span class=\\\"numbers\\\">5</span></span>\"] }, \n",
       "{ name: \"<span title=\\\"manufacturer: String\\\">manufacturer</span>\", children: [], rightAlign: false, values: [\"audi\",\"audi\",\"audi\",\"audi\",\"audi\"] }, \n",
       "{ name: \"<span title=\\\"model: String\\\">model</span>\", children: [], rightAlign: false, values: [\"a4\",\"a4\",\"a4\",\"a4\",\"a4\"] }, \n",
       "{ name: \"<span title=\\\"displ: Double\\\">displ</span>\", children: [], rightAlign: true, values: [\"<span class=\\\"formatted\\\" title=\\\"\\\"><span class=\\\"numbers\\\">1.8</span></span>\",\"<span class=\\\"formatted\\\" title=\\\"\\\"><span class=\\\"numbers\\\">1.8</span></span>\",\"<span class=\\\"formatted\\\" title=\\\"\\\"><span class=\\\"numbers\\\">2.0</span></span>\",\"<span class=\\\"formatted\\\" title=\\\"\\\"><span class=\\\"numbers\\\">2.0</span></span>\",\"<span class=\\\"formatted\\\" title=\\\"\\\"><span class=\\\"numbers\\\">2.8</span></span>\"] }, \n",
       "{ name: \"<span title=\\\"year: Int\\\">year</span>\", children: [], rightAlign: true, values: [\"<span class=\\\"formatted\\\" title=\\\"\\\"><span class=\\\"numbers\\\">1999</span></span>\",\"<span class=\\\"formatted\\\" title=\\\"\\\"><span class=\\\"numbers\\\">1999</span></span>\",\"<span class=\\\"formatted\\\" title=\\\"\\\"><span class=\\\"numbers\\\">2008</span></span>\",\"<span class=\\\"formatted\\\" title=\\\"\\\"><span class=\\\"numbers\\\">2008</span></span>\",\"<span class=\\\"formatted\\\" title=\\\"\\\"><span class=\\\"numbers\\\">1999</span></span>\"] }, \n",
       "{ name: \"<span title=\\\"cyl: Int\\\">cyl</span>\", children: [], rightAlign: true, values: [\"<span class=\\\"formatted\\\" title=\\\"\\\"><span class=\\\"numbers\\\">4</span></span>\",\"<span class=\\\"formatted\\\" title=\\\"\\\"><span class=\\\"numbers\\\">4</span></span>\",\"<span class=\\\"formatted\\\" title=\\\"\\\"><span class=\\\"numbers\\\">4</span></span>\",\"<span class=\\\"formatted\\\" title=\\\"\\\"><span class=\\\"numbers\\\">4</span></span>\",\"<span class=\\\"formatted\\\" title=\\\"\\\"><span class=\\\"numbers\\\">6</span></span>\"] }, \n",
       "{ name: \"<span title=\\\"trans: String\\\">trans</span>\", children: [], rightAlign: false, values: [\"auto(l5)\",\"manual(m5)\",\"manual(m6)\",\"auto(av)\",\"auto(l5)\"] }, \n",
       "{ name: \"<span title=\\\"drv: String\\\">drv</span>\", children: [], rightAlign: false, values: [\"f\",\"f\",\"f\",\"f\",\"f\"] }, \n",
       "{ name: \"<span title=\\\"cty: Int\\\">cty</span>\", children: [], rightAlign: true, values: [\"<span class=\\\"formatted\\\" title=\\\"\\\"><span class=\\\"numbers\\\">18</span></span>\",\"<span class=\\\"formatted\\\" title=\\\"\\\"><span class=\\\"numbers\\\">21</span></span>\",\"<span class=\\\"formatted\\\" title=\\\"\\\"><span class=\\\"numbers\\\">20</span></span>\",\"<span class=\\\"formatted\\\" title=\\\"\\\"><span class=\\\"numbers\\\">21</span></span>\",\"<span class=\\\"formatted\\\" title=\\\"\\\"><span class=\\\"numbers\\\">16</span></span>\"] }, \n",
       "{ name: \"<span title=\\\"hwy: Int\\\">hwy</span>\", children: [], rightAlign: true, values: [\"<span class=\\\"formatted\\\" title=\\\"\\\"><span class=\\\"numbers\\\">29</span></span>\",\"<span class=\\\"formatted\\\" title=\\\"\\\"><span class=\\\"numbers\\\">29</span></span>\",\"<span class=\\\"formatted\\\" title=\\\"\\\"><span class=\\\"numbers\\\">31</span></span>\",\"<span class=\\\"formatted\\\" title=\\\"\\\"><span class=\\\"numbers\\\">30</span></span>\",\"<span class=\\\"formatted\\\" title=\\\"\\\"><span class=\\\"numbers\\\">26</span></span>\"] }, \n",
       "{ name: \"<span title=\\\"fl: String\\\">fl</span>\", children: [], rightAlign: false, values: [\"p\",\"p\",\"p\",\"p\",\"p\"] }, \n",
       "{ name: \"<span title=\\\"class: String\\\">class</span>\", children: [], rightAlign: false, values: [\"compact\",\"compact\",\"compact\",\"compact\",\"compact\"] }, \n",
       "{ name: \"<span title=\\\"explode: Double\\\">explode</span>\", children: [], rightAlign: true, values: [\"<span class=\\\"formatted\\\" title=\\\"\\\"><span class=\\\"numbers\\\">0.0</span></span>\",\"<span class=\\\"formatted\\\" title=\\\"\\\"><span class=\\\"numbers\\\">0.0</span></span>\",\"<span class=\\\"formatted\\\" title=\\\"\\\"><span class=\\\"numbers\\\">0.0</span></span>\",\"<span class=\\\"formatted\\\" title=\\\"\\\"><span class=\\\"numbers\\\">0.0</span></span>\",\"<span class=\\\"formatted\\\" title=\\\"\\\"><span class=\\\"numbers\\\">0.0</span></span>\"] }, \n",
       "], id: 1459617792, rootId: 1459617792, totalRows: 5 } ) });\n",
       "/*-->*/\n",
       "\n",
       "call_DataFrame(function() { DataFrame.renderTable(1459617792) });\n",
       "\n",
       "document.getElementById(\"static_df_1459617793\").style.display = \"none\";\n",
       "        </script>\n",
       "        </html>"
      ]
     },
     "execution_count": 2,
     "metadata": {},
     "output_type": "execute_result"
    }
   ],
   "source": [
    "val mpgDf = DataFrame.readCSV(\"https://raw.githubusercontent.com/JetBrains/lets-plot-docs/master/data/mpg.csv\")\n",
    "    .add(\"explode\") {\n",
    "        when (\"class\"<String>()) {\n",
    "            \"pickup\" -> 0.2\n",
    "            else -> 0.0\n",
    "        }\n",
    "    }\n",
    "val mpg = mpgDf.toMap()\n",
    "mpgDf.head()"
   ]
  },
  {
   "attachments": {},
   "cell_type": "markdown",
   "metadata": {
    "datalore": {
     "hide_input_from_viewers": false,
     "hide_output_from_viewers": false,
     "node_id": "t1mMMJ31Abb2o0ZtKZXUsn",
     "report_properties": {
      "relativeY": 0,
      "rowId": "vm0qFEsdezQ4vSg4YfaNwF"
     },
     "type": "MD"
    }
   },
   "source": [
    "### Default Presentation\n",
    "\n",
    "By default, `geomPie()` doesn't display any annotations and is not very informative."
   ]
  },
  {
   "cell_type": "code",
   "execution_count": 3,
   "metadata": {
    "datalore": {
     "hide_input_from_viewers": false,
     "hide_output_from_viewers": false,
     "node_id": "hqLig2gvLcC9jmWhHx5dik",
     "report_properties": {
      "isDynamicHeight": true,
      "relativeY": 0,
      "rowId": "9GaXnDCXZEs0QLO1eS0qT3",
      "width": 0.6666666666666666,
      "x": 0
     },
     "type": "CODE"
    },
    "execution": {
     "iopub.execute_input": "2024-09-26T16:01:19.374739Z",
     "iopub.status.busy": "2024-09-26T16:01:19.374326Z",
     "iopub.status.idle": "2024-09-26T16:01:19.549915Z",
     "shell.execute_reply": "2024-09-26T16:01:19.550147Z"
    }
   },
   "outputs": [
    {
     "data": {
      "text/html": [
       "   <div id=\"MiNirp\"></div>\n",
       "   <script type=\"text/javascript\" data-lets-plot-script=\"plot\">\n",
       "       (function() {\n",
       "           var plotSpec={\n",
       "\"mapping\":{\n",
       "},\n",
       "\"data\":{\n",
       "},\n",
       "\"kind\":\"plot\",\n",
       "\"scales\":[],\n",
       "\"layers\":[{\n",
       "\"hole\":0.2,\n",
       "\"mapping\":{\n",
       "\"fill\":\"class\"\n",
       "},\n",
       "\"stat\":\"count2d\",\n",
       "\"size\":22.0,\n",
       "\"position\":\"identity\",\n",
       "\"geom\":\"pie\",\n",
       "\"data\":{\n",
       "\"..count..\":[47.0,41.0,62.0,5.0,11.0,33.0,35.0],\n",
       "\"..x..\":[0.0,0.0,0.0,0.0,0.0,0.0,0.0],\n",
       "\"..y..\":[0.0,0.0,0.0,0.0,0.0,0.0,0.0],\n",
       "\"class\":[\"compact\",\"midsize\",\"suv\",\"2seater\",\"minivan\",\"pickup\",\"subcompact\"]\n",
       "}\n",
       "}]\n",
       "};\n",
       "           var plotContainer = document.getElementById(\"MiNirp\");\n",
       "           window.letsPlotCall(function() {{\n",
       "               LetsPlot.buildPlotFromProcessedSpecs(plotSpec, -1, -1, plotContainer);\n",
       "           }});\n",
       "       })();\n",
       "   </script>"
      ]
     },
     "execution_count": 3,
     "metadata": {},
     "output_type": "execute_result"
    }
   ],
   "source": [
    "letsPlot(mpg) + geomPie(size = 22, hole = .2) { fill = \"class\" }"
   ]
  },
  {
   "attachments": {},
   "cell_type": "markdown",
   "metadata": {
    "datalore": {
     "hide_input_from_viewers": false,
     "hide_output_from_viewers": false,
     "node_id": "rls94O7OzpJMrhbxZKz0lJ",
     "report_properties": {
      "relativeY": 0,
      "rowId": "57EtmO8S02Sv7sJFFbGMdV"
     },
     "type": "MD"
    }
   },
   "source": [
    "### Change Default Annotation\n",
    "\n",
    "Let's add simple annotations. Аnnotations are placed inside sectors. If they do not fit, then external labels will appear."
   ]
  },
  {
   "cell_type": "code",
   "execution_count": 4,
   "metadata": {
    "datalore": {
     "hide_input_from_viewers": false,
     "hide_output_from_viewers": false,
     "node_id": "ICmi7kVI3GgiPDG7M3m3TF",
     "report_properties": {
      "relativeY": 0,
      "rowId": "QKpp1khZNjptOpu3Xn7n52",
      "width": 0.6666666666666666,
      "x": 0
     },
     "type": "CODE"
    },
    "execution": {
     "iopub.execute_input": "2024-09-26T16:01:19.552793Z",
     "iopub.status.busy": "2024-09-26T16:01:19.552323Z",
     "iopub.status.idle": "2024-09-26T16:01:19.653625Z",
     "shell.execute_reply": "2024-09-26T16:01:19.653776Z"
    }
   },
   "outputs": [
    {
     "data": {
      "text/html": [
       "   <div id=\"LPaY5g\"></div>\n",
       "   <script type=\"text/javascript\" data-lets-plot-script=\"plot\">\n",
       "       (function() {\n",
       "           var plotSpec={\n",
       "\"mapping\":{\n",
       "},\n",
       "\"data\":{\n",
       "},\n",
       "\"kind\":\"plot\",\n",
       "\"scales\":[{\n",
       "\"aesthetic\":\"fill\",\n",
       "\"scale_mapper_kind\":\"color_brewer\",\n",
       "\"palette\":\"Dark2\"\n",
       "}],\n",
       "\"layers\":[{\n",
       "\"hole\":0.2,\n",
       "\"mapping\":{\n",
       "\"fill\":\"class\"\n",
       "},\n",
       "\"stat\":\"count2d\",\n",
       "\"size\":22.0,\n",
       "\"position\":\"identity\",\n",
       "\"geom\":\"pie\",\n",
       "\"tooltips\":\"none\",\n",
       "\"labels\":{\n",
       "\"lines\":[\"@class\"]\n",
       "},\n",
       "\"data\":{\n",
       "\"..count..\":[47.0,41.0,62.0,5.0,11.0,33.0,35.0],\n",
       "\"..x..\":[0.0,0.0,0.0,0.0,0.0,0.0,0.0],\n",
       "\"..y..\":[0.0,0.0,0.0,0.0,0.0,0.0,0.0],\n",
       "\"class\":[\"compact\",\"midsize\",\"suv\",\"2seater\",\"minivan\",\"pickup\",\"subcompact\"]\n",
       "}\n",
       "}],\n",
       "\"theme\":{\n",
       "\"name\":\"classic\",\n",
       "\"axis\":{\n",
       "\"blank\":true\n",
       "},\n",
       "\"line\":{\n",
       "\"blank\":true\n",
       "},\n",
       "\"legend_position\":\"none\"\n",
       "}\n",
       "};\n",
       "           var plotContainer = document.getElementById(\"LPaY5g\");\n",
       "           window.letsPlotCall(function() {{\n",
       "               LetsPlot.buildPlotFromProcessedSpecs(plotSpec, -1, -1, plotContainer);\n",
       "           }});\n",
       "       })();\n",
       "   </script>"
      ]
     },
     "execution_count": 4,
     "metadata": {},
     "output_type": "execute_result"
    }
   ],
   "source": [
    "letsPlot(mpg) +\n",
    "    geomPie(size = 22, hole = .2,\n",
    "            labels = layerLabels().line(\"@class\"),\n",
    "            tooltips = tooltipsNone) { fill = \"class\" } +\n",
    "    scaleFillBrewer(palette = \"Dark2\") +\n",
    "    themeVoid() +\n",
    "    theme().legendPositionNone()"
   ]
  },
  {
   "attachments": {},
   "cell_type": "markdown",
   "metadata": {
    "datalore": {
     "hide_input_from_viewers": false,
     "hide_output_from_viewers": false,
     "node_id": "YC1DvGzEKCqrHikOdG3aes",
     "report_properties": {
      "relativeY": 0,
      "rowId": "vphb0HnhLEFRMItJ9152S6"
     },
     "type": "MD"
    }
   },
   "source": [
    "Let's add multiline annotations."
   ]
  },
  {
   "cell_type": "code",
   "execution_count": 5,
   "metadata": {
    "datalore": {
     "hide_input_from_viewers": false,
     "hide_output_from_viewers": false,
     "node_id": "ifQzw7irH6XYB6UFAU7GYL",
     "report_properties": {
      "relativeY": 0,
      "rowId": "tO818ng8bkLeNibLTZgDoi",
      "width": 0.6666666666666666,
      "x": 0
     },
     "type": "CODE"
    },
    "execution": {
     "iopub.execute_input": "2024-09-26T16:01:19.655839Z",
     "iopub.status.busy": "2024-09-26T16:01:19.655422Z",
     "iopub.status.idle": "2024-09-26T16:01:19.742034Z",
     "shell.execute_reply": "2024-09-26T16:01:19.742234Z"
    }
   },
   "outputs": [
    {
     "data": {
      "text/html": [
       "   <div id=\"FSzaue\"></div>\n",
       "   <script type=\"text/javascript\" data-lets-plot-script=\"plot\">\n",
       "       (function() {\n",
       "           var plotSpec={\n",
       "\"mapping\":{\n",
       "},\n",
       "\"data\":{\n",
       "},\n",
       "\"kind\":\"plot\",\n",
       "\"scales\":[{\n",
       "\"aesthetic\":\"fill\",\n",
       "\"scale_mapper_kind\":\"color_brewer\",\n",
       "\"palette\":\"Dark2\"\n",
       "}],\n",
       "\"layers\":[{\n",
       "\"hole\":0.2,\n",
       "\"mapping\":{\n",
       "\"fill\":\"class\"\n",
       "},\n",
       "\"stat\":\"count2d\",\n",
       "\"size\":22.0,\n",
       "\"position\":\"identity\",\n",
       "\"geom\":\"pie\",\n",
       "\"tooltips\":\"none\",\n",
       "\"labels\":{\n",
       "\"lines\":[\"@class\",\"(@{..prop..})\"],\n",
       "\"formats\":[{\n",
       "\"field\":\"..prop..\",\n",
       "\"format\":\".0%\"\n",
       "}]\n",
       "},\n",
       "\"data\":{\n",
       "\"..count..\":[47.0,41.0,62.0,5.0,11.0,33.0,35.0],\n",
       "\"..x..\":[0.0,0.0,0.0,0.0,0.0,0.0,0.0],\n",
       "\"..y..\":[0.0,0.0,0.0,0.0,0.0,0.0,0.0],\n",
       "\"class\":[\"compact\",\"midsize\",\"suv\",\"2seater\",\"minivan\",\"pickup\",\"subcompact\"],\n",
       "\"..prop..\":[0.20085470085470086,0.1752136752136752,0.26495726495726496,0.021367521367521368,0.04700854700854701,0.14102564102564102,0.14957264957264957]\n",
       "}\n",
       "}],\n",
       "\"theme\":{\n",
       "\"name\":\"classic\",\n",
       "\"axis\":{\n",
       "\"blank\":true\n",
       "},\n",
       "\"line\":{\n",
       "\"blank\":true\n",
       "},\n",
       "\"legend_position\":\"none\"\n",
       "}\n",
       "};\n",
       "           var plotContainer = document.getElementById(\"FSzaue\");\n",
       "           window.letsPlotCall(function() {{\n",
       "               LetsPlot.buildPlotFromProcessedSpecs(plotSpec, -1, -1, plotContainer);\n",
       "           }});\n",
       "       })();\n",
       "   </script>"
      ]
     },
     "execution_count": 5,
     "metadata": {},
     "output_type": "execute_result"
    }
   ],
   "source": [
    "letsPlot(mpg) +\n",
    "    geomPie(size = 22, hole = .2,\n",
    "            labels = layerLabels().line(\"@class\")\n",
    "                                  .line(\"(@{..prop..})\")\n",
    "                                  .format(\"..prop..\", \".0%\"),\n",
    "            tooltips = tooltipsNone) { fill = \"class\" } +\n",
    "    scaleFillBrewer(palette = \"Dark2\") +\n",
    "    themeVoid() +\n",
    "    theme().legendPositionNone()"
   ]
  },
  {
   "attachments": {},
   "cell_type": "markdown",
   "metadata": {
    "datalore": {
     "hide_input_from_viewers": false,
     "hide_output_from_viewers": false,
     "node_id": "U4lvNQJfwUNXg0NWDtQo0p",
     "report_properties": {
      "relativeY": 0,
      "rowId": "ACIoRh41VEeqXgqupJhsb2"
     },
     "type": "MD"
    }
   },
   "source": [
    "You can change labels size with `size()` function."
   ]
  },
  {
   "cell_type": "code",
   "execution_count": 6,
   "metadata": {
    "datalore": {
     "hide_input_from_viewers": false,
     "hide_output_from_viewers": false,
     "node_id": "CEa69hSFvUon5PWgD3PNdJ",
     "report_properties": {
      "relativeY": 0,
      "rowId": "yCTpCwOBrXvoEeiG7oyt6w",
      "width": 0.6666666666666666,
      "x": 0
     },
     "type": "CODE"
    },
    "execution": {
     "iopub.execute_input": "2024-09-26T16:01:19.744755Z",
     "iopub.status.busy": "2024-09-26T16:01:19.744259Z",
     "iopub.status.idle": "2024-09-26T16:01:19.836651Z",
     "shell.execute_reply": "2024-09-26T16:01:19.836417Z"
    }
   },
   "outputs": [
    {
     "data": {
      "text/html": [
       "   <div id=\"A7M8Rp\"></div>\n",
       "   <script type=\"text/javascript\" data-lets-plot-script=\"plot\">\n",
       "       (function() {\n",
       "           var plotSpec={\n",
       "\"mapping\":{\n",
       "},\n",
       "\"data\":{\n",
       "},\n",
       "\"kind\":\"plot\",\n",
       "\"scales\":[{\n",
       "\"aesthetic\":\"fill\",\n",
       "\"scale_mapper_kind\":\"color_brewer\",\n",
       "\"palette\":\"Dark2\"\n",
       "}],\n",
       "\"layers\":[{\n",
       "\"hole\":0.2,\n",
       "\"mapping\":{\n",
       "\"fill\":\"class\"\n",
       "},\n",
       "\"stat\":\"count2d\",\n",
       "\"size\":22.0,\n",
       "\"position\":\"identity\",\n",
       "\"geom\":\"pie\",\n",
       "\"data_meta\":{\n",
       "\"mapping_annotations\":[{\n",
       "\"aes\":\"fill\",\n",
       "\"annotation\":\"as_discrete\",\n",
       "\"parameters\":{\n",
       "\"label\":\"class\",\n",
       "\"order_by\":\"..count..\"\n",
       "}\n",
       "}]\n",
       "},\n",
       "\"tooltips\":\"none\",\n",
       "\"labels\":{\n",
       "\"lines\":[\"@..proppct.. %\"],\n",
       "\"annotation_size\":18,\n",
       "\"formats\":[{\n",
       "\"field\":\"..proppct..\",\n",
       "\"format\":\".1f\"\n",
       "}]\n",
       "},\n",
       "\"data\":{\n",
       "\"..proppct..\":[26.495726495726498,20.085470085470085,17.52136752136752,14.957264957264957,14.102564102564102,4.700854700854701,2.1367521367521367],\n",
       "\"..count..\":[62.0,47.0,41.0,35.0,33.0,11.0,5.0],\n",
       "\"..x..\":[0.0,0.0,0.0,0.0,0.0,0.0,0.0],\n",
       "\"..y..\":[0.0,0.0,0.0,0.0,0.0,0.0,0.0],\n",
       "\"class\":[\"suv\",\"compact\",\"midsize\",\"subcompact\",\"pickup\",\"minivan\",\"2seater\"]\n",
       "}\n",
       "}],\n",
       "\"theme\":{\n",
       "\"name\":\"classic\",\n",
       "\"axis\":{\n",
       "\"blank\":true\n",
       "},\n",
       "\"line\":{\n",
       "\"blank\":true\n",
       "}\n",
       "}\n",
       "};\n",
       "           var plotContainer = document.getElementById(\"A7M8Rp\");\n",
       "           window.letsPlotCall(function() {{\n",
       "               LetsPlot.buildPlotFromProcessedSpecs(plotSpec, -1, -1, plotContainer);\n",
       "           }});\n",
       "       })();\n",
       "   </script>"
      ]
     },
     "execution_count": 6,
     "metadata": {},
     "output_type": "execute_result"
    }
   ],
   "source": [
    "letsPlot(mpg) +\n",
    "    geomPie(size = 22, hole = .2,\n",
    "            labels = layerLabels().line(\"@..proppct.. %\")\n",
    "                                  .format(\"..proppct..\", \".1f\")\n",
    "                                  .size(18),\n",
    "            tooltips = tooltipsNone) {\n",
    "                fill = asDiscrete(\"class\", orderBy = \"..count..\")\n",
    "            } +\n",
    "    scaleFillBrewer(palette = \"Dark2\") +\n",
    "    themeVoid()"
   ]
  },
  {
   "attachments": {},
   "cell_type": "markdown",
   "metadata": {
    "datalore": {
     "hide_input_from_viewers": false,
     "hide_output_from_viewers": false,
     "node_id": "WtKslv2ACGZnNd1kpcg2k2",
     "report_properties": {
      "relativeY": 0,
      "rowId": "0OjXTV30ndDQ7ZKrFOmexT"
     },
     "type": "MD"
    }
   },
   "source": [
    "Use the `labelText` parameter in `theme()` to set basic text settings for annotations, using the `elementText()` function with the following parameters:\n",
    "\n",
    "- `family` - font family;\n",
    "- `face` - font face ('plain', 'italic', 'bold', 'bold_italic');\n",
    "- `size` - text size, can also be specified via `layerLabels().size()`;\n",
    "- `color` - text color."
   ]
  },
  {
   "cell_type": "code",
   "execution_count": 7,
   "metadata": {
    "datalore": {
     "hide_input_from_viewers": false,
     "hide_output_from_viewers": false,
     "node_id": "mp0m3mzltaqynw5zgZDuPp",
     "report_properties": {
      "relativeY": 0,
      "rowId": "mwATxlziPs6JW7xU1cNwmH"
     },
     "type": "CODE"
    },
    "execution": {
     "iopub.execute_input": "2024-09-26T16:01:19.839707Z",
     "iopub.status.busy": "2024-09-26T16:01:19.839010Z",
     "iopub.status.idle": "2024-09-26T16:01:19.868451Z",
     "shell.execute_reply": "2024-09-26T16:01:19.866574Z"
    }
   },
   "outputs": [],
   "source": [
    "val labelTextOptions = elementText(family = \"Rockwell\", face = \"bold\", size = 16, color = \"#542788\")"
   ]
  },
  {
   "cell_type": "code",
   "execution_count": 8,
   "metadata": {
    "datalore": {
     "hide_input_from_viewers": false,
     "hide_output_from_viewers": false,
     "node_id": "KgcZJxoJE8SAVZknNatkTS",
     "report_properties": {
      "relativeY": 0,
      "rowId": "jMMuGmicXTtlMEPT357UJY",
      "width": 0.6666666666666666,
      "x": 0
     },
     "type": "CODE"
    },
    "execution": {
     "iopub.execute_input": "2024-09-26T16:01:19.870908Z",
     "iopub.status.busy": "2024-09-26T16:01:19.870434Z",
     "iopub.status.idle": "2024-09-26T16:01:19.958475Z",
     "shell.execute_reply": "2024-09-26T16:01:19.958244Z"
    }
   },
   "outputs": [
    {
     "data": {
      "text/html": [
       "   <div id=\"qUnnFR\"></div>\n",
       "   <script type=\"text/javascript\" data-lets-plot-script=\"plot\">\n",
       "       (function() {\n",
       "           var plotSpec={\n",
       "\"mapping\":{\n",
       "},\n",
       "\"data\":{\n",
       "},\n",
       "\"kind\":\"plot\",\n",
       "\"scales\":[],\n",
       "\"layers\":[{\n",
       "\"hole\":0.3,\n",
       "\"mapping\":{\n",
       "\"fill\":\"class\"\n",
       "},\n",
       "\"stat\":\"count2d\",\n",
       "\"size\":20.0,\n",
       "\"position\":\"identity\",\n",
       "\"geom\":\"pie\",\n",
       "\"data_meta\":{\n",
       "\"mapping_annotations\":[{\n",
       "\"aes\":\"fill\",\n",
       "\"annotation\":\"as_discrete\",\n",
       "\"parameters\":{\n",
       "\"label\":\"class\",\n",
       "\"order_by\":\"..count..\",\n",
       "\"order\":1\n",
       "}\n",
       "}]\n",
       "},\n",
       "\"tooltips\":\"none\",\n",
       "\"labels\":{\n",
       "\"lines\":[\"@..proppct.. %\"],\n",
       "\"formats\":[{\n",
       "\"field\":\"..proppct..\",\n",
       "\"format\":\".1f\"\n",
       "}]\n",
       "},\n",
       "\"data\":{\n",
       "\"..proppct..\":[2.1367521367521367,4.700854700854701,14.102564102564102,14.957264957264957,17.52136752136752,20.085470085470085,26.495726495726498],\n",
       "\"..count..\":[5.0,11.0,33.0,35.0,41.0,47.0,62.0],\n",
       "\"..x..\":[0.0,0.0,0.0,0.0,0.0,0.0,0.0],\n",
       "\"..y..\":[0.0,0.0,0.0,0.0,0.0,0.0,0.0],\n",
       "\"class\":[\"2seater\",\"minivan\",\"pickup\",\"subcompact\",\"midsize\",\"compact\",\"suv\"]\n",
       "}\n",
       "}],\n",
       "\"theme\":{\n",
       "\"name\":\"classic\",\n",
       "\"axis\":{\n",
       "\"blank\":true\n",
       "},\n",
       "\"line\":{\n",
       "\"blank\":true\n",
       "},\n",
       "\"label_text\":{\n",
       "\"color\":\"#542788\",\n",
       "\"family\":\"Rockwell\",\n",
       "\"face\":\"bold\",\n",
       "\"size\":16.0,\n",
       "\"blank\":false\n",
       "},\n",
       "\"legend_position\":\"right\"\n",
       "}\n",
       "};\n",
       "           var plotContainer = document.getElementById(\"qUnnFR\");\n",
       "           window.letsPlotCall(function() {{\n",
       "               LetsPlot.buildPlotFromProcessedSpecs(plotSpec, -1, -1, plotContainer);\n",
       "           }});\n",
       "       })();\n",
       "   </script>"
      ]
     },
     "execution_count": 8,
     "metadata": {},
     "output_type": "execute_result"
    }
   ],
   "source": [
    "letsPlot(mpg) +\n",
    "    geomPie(size = 20, hole = .3,\n",
    "            labels = layerLabels().line(\"@..proppct.. %\")\n",
    "                                  .format(\"..proppct..\", \".1f\"),\n",
    "            tooltips = tooltipsNone) {\n",
    "                fill = asDiscrete(\"class\", orderBy = \"..count..\", order = 1)\n",
    "            } +\n",
    "    themeVoid() +\n",
    "    theme(labelText = labelTextOptions).legendPositionRight()"
   ]
  },
  {
   "attachments": {},
   "cell_type": "markdown",
   "metadata": {
    "datalore": {
     "hide_input_from_viewers": false,
     "hide_output_from_viewers": false,
     "node_id": "a8eQiyLxuJwq1rcWgd37nO",
     "report_properties": {
      "relativeY": 0,
      "rowId": "yoxLYr5VSqSZ5XtSbreYvp"
     },
     "type": "MD"
    }
   },
   "source": [
    "### Annotations for Pie Chart with Explode Parameter"
   ]
  },
  {
   "cell_type": "code",
   "execution_count": 9,
   "metadata": {
    "datalore": {
     "hide_input_from_viewers": false,
     "hide_output_from_viewers": false,
     "node_id": "523euomiVbYf86HnwpGHKj",
     "report_properties": {
      "relativeY": 0,
      "rowId": "XMij2ZP91hwPar9Ljy8smw",
      "width": 0.6666666666666666,
      "x": 0
     },
     "type": "CODE"
    },
    "execution": {
     "iopub.execute_input": "2024-09-26T16:01:19.960517Z",
     "iopub.status.busy": "2024-09-26T16:01:19.960073Z",
     "iopub.status.idle": "2024-09-26T16:01:20.055178Z",
     "shell.execute_reply": "2024-09-26T16:01:20.055473Z"
    }
   },
   "outputs": [
    {
     "data": {
      "text/html": [
       "   <div id=\"o2Mosk\"></div>\n",
       "   <script type=\"text/javascript\" data-lets-plot-script=\"plot\">\n",
       "       (function() {\n",
       "           var plotSpec={\n",
       "\"mapping\":{\n",
       "},\n",
       "\"data\":{\n",
       "},\n",
       "\"kind\":\"plot\",\n",
       "\"scales\":[{\n",
       "\"aesthetic\":\"fill\",\n",
       "\"scale_mapper_kind\":\"color_gradient\",\n",
       "\"high\":\"light_green\",\n",
       "\"low\":\"dark_blue\"\n",
       "}],\n",
       "\"layers\":[{\n",
       "\"hole\":0.3,\n",
       "\"mapping\":{\n",
       "\"explode\":\"explode\",\n",
       "\"fill\":\"class\"\n",
       "},\n",
       "\"stat\":\"count2d\",\n",
       "\"size\":20.0,\n",
       "\"color\":\"black\",\n",
       "\"position\":\"identity\",\n",
       "\"geom\":\"pie\",\n",
       "\"tooltips\":\"none\",\n",
       "\"labels\":{\n",
       "\"variables\":[\"class\",\"..count..\"]\n",
       "},\n",
       "\"data\":{\n",
       "\"explode\":[0.0,0.0,0.0,0.0,0.0,0.2,0.0],\n",
       "\"..count..\":[47.0,41.0,62.0,5.0,11.0,33.0,35.0],\n",
       "\"..x..\":[0.0,0.0,0.0,0.0,0.0,0.0,0.0],\n",
       "\"..y..\":[0.0,0.0,0.0,0.0,0.0,0.0,0.0],\n",
       "\"class\":[\"compact\",\"midsize\",\"suv\",\"2seater\",\"minivan\",\"pickup\",\"subcompact\"]\n",
       "}\n",
       "}],\n",
       "\"theme\":{\n",
       "\"name\":\"classic\",\n",
       "\"axis\":{\n",
       "\"blank\":true\n",
       "},\n",
       "\"line\":{\n",
       "\"blank\":true\n",
       "},\n",
       "\"legend_position\":\"none\"\n",
       "}\n",
       "};\n",
       "           var plotContainer = document.getElementById(\"o2Mosk\");\n",
       "           window.letsPlotCall(function() {{\n",
       "               LetsPlot.buildPlotFromProcessedSpecs(plotSpec, -1, -1, plotContainer);\n",
       "           }});\n",
       "       })();\n",
       "   </script>"
      ]
     },
     "execution_count": 9,
     "metadata": {},
     "output_type": "execute_result"
    }
   ],
   "source": [
    "letsPlot(mpg) +\n",
    "    geomPie(color = \"black\", size = 20, hole = .3,\n",
    "            labels = layerLabels(\"class\", \"..count..\"),\n",
    "            tooltips = tooltipsNone) { fill = \"class\"; explode = \"explode\" } +\n",
    "    scaleFillGradient(low = \"dark_blue\", high = \"light_green\") +\n",
    "    themeVoid() + theme().legendPositionNone()"
   ]
  },
  {
   "attachments": {},
   "cell_type": "markdown",
   "metadata": {
    "datalore": {
     "hide_input_from_viewers": false,
     "hide_output_from_viewers": false,
     "node_id": "jgLdHPj7L9itZm04qK2FTk",
     "report_properties": {
      "relativeY": 0,
      "rowId": "32s8rq52H3Ouz1Kw4llsMj"
     },
     "type": "MD"
    }
   },
   "source": [
    "### Annotations on Scatter Pie Plot"
   ]
  },
  {
   "cell_type": "code",
   "execution_count": 10,
   "metadata": {
    "datalore": {
     "hide_input_from_viewers": false,
     "hide_output_from_viewers": false,
     "node_id": "OPy4BQK0YfSAw5MkV7imHi",
     "report_properties": {
      "relativeY": 0,
      "rowId": "YEs42E8fVTWXDcIIUCN9sI"
     },
     "type": "CODE"
    },
    "execution": {
     "iopub.execute_input": "2024-09-26T16:01:20.058282Z",
     "iopub.status.busy": "2024-09-26T16:01:20.057779Z",
     "iopub.status.idle": "2024-09-26T16:01:20.149136Z",
     "shell.execute_reply": "2024-09-26T16:01:20.148884Z"
    }
   },
   "outputs": [
    {
     "data": {
      "text/html": [
       "   <div id=\"iPi5Ge\"></div>\n",
       "   <script type=\"text/javascript\" data-lets-plot-script=\"plot\">\n",
       "       (function() {\n",
       "           var plotSpec={\n",
       "\"mapping\":{\n",
       "\"x\":\"drv\",\n",
       "\"y\":\"year\"\n",
       "},\n",
       "\"data\":{\n",
       "},\n",
       "\"ggsize\":{\n",
       "\"width\":1000.0,\n",
       "\"height\":400.0\n",
       "},\n",
       "\"kind\":\"plot\",\n",
       "\"scales\":[],\n",
       "\"layers\":[{\n",
       "\"mapping\":{\n",
       "\"fill\":\"class\"\n",
       "},\n",
       "\"stat\":\"count2d\",\n",
       "\"position\":\"identity\",\n",
       "\"geom\":\"pie\",\n",
       "\"tooltips\":\"none\",\n",
       "\"labels\":{\n",
       "\"variables\":[\"..proppct..\"]\n",
       "},\n",
       "\"data\":{\n",
       "\"..proppct..\":[36.84210526315789,28.57142857142857,8.16326530612245,14.814814814814813,2.0408163265306123,3.7037037037037033,33.33333333333333,38.775510204081634,42.857142857142854,45.45454545454545,50.0,48.97959183673469,18.181818181818183,21.428571428571427,10.526315789473683,10.204081632653061,31.48148148148148,32.6530612244898,36.36363636363637,35.714285714285715,19.298245614035086,22.448979591836736,8.16326530612245],\n",
       "\"year\":[1999.0,2008.0,1999.0,2008.0,1999.0,2008.0,1999.0,2008.0,2008.0,1999.0,2008.0,1999.0,1999.0,2008.0,1999.0,2008.0,2008.0,1999.0,1999.0,2008.0,1999.0,2008.0,1999.0],\n",
       "\"..count..\":[21.0,14.0,4.0,8.0,1.0,2.0,19.0,19.0,6.0,5.0,27.0,24.0,2.0,3.0,6.0,5.0,17.0,16.0,4.0,5.0,11.0,11.0,4.0],\n",
       "\"drv\":[\"f\",\"f\",\"4\",\"4\",\"4\",\"4\",\"f\",\"f\",\"r\",\"r\",\"4\",\"4\",\"r\",\"r\",\"f\",\"f\",\"4\",\"4\",\"r\",\"r\",\"f\",\"f\",\"4\"],\n",
       "\"class\":[\"compact\",\"compact\",\"compact\",\"compact\",\"midsize\",\"midsize\",\"midsize\",\"midsize\",\"suv\",\"suv\",\"suv\",\"suv\",\"2seater\",\"2seater\",\"minivan\",\"minivan\",\"pickup\",\"pickup\",\"subcompact\",\"subcompact\",\"subcompact\",\"subcompact\",\"subcompact\"]\n",
       "}\n",
       "}],\n",
       "\"data_meta\":{\n",
       "\"mapping_annotations\":[{\n",
       "\"aes\":\"y\",\n",
       "\"annotation\":\"as_discrete\",\n",
       "\"parameters\":{\n",
       "\"label\":\"year\"\n",
       "}\n",
       "}]\n",
       "}\n",
       "};\n",
       "           var plotContainer = document.getElementById(\"iPi5Ge\");\n",
       "           window.letsPlotCall(function() {{\n",
       "               LetsPlot.buildPlotFromProcessedSpecs(plotSpec, -1, -1, plotContainer);\n",
       "           }});\n",
       "       })();\n",
       "   </script>"
      ]
     },
     "execution_count": 10,
     "metadata": {},
     "output_type": "execute_result"
    }
   ],
   "source": [
    "letsPlot(mpg) { x = \"drv\"; y = asDiscrete(\"year\") } +\n",
    "    geomPie(labels = layerLabels(\"..proppct..\"),\n",
    "            tooltips = tooltipsNone) { fill = \"class\" } +\n",
    "    ggsize(1000, 400)"
   ]
  },
  {
   "attachments": {},
   "cell_type": "markdown",
   "metadata": {
    "datalore": {
     "hide_input_from_viewers": false,
     "hide_output_from_viewers": false,
     "node_id": "I9i5uTPQHle7gMGt37hgi1",
     "report_properties": {
      "relativeY": 0,
      "rowId": "PUmDiZ436VskZhCensAUEb"
     },
     "type": "MD"
    }
   },
   "source": [
    "### Annotations for Pie Chart with Different Sector's Size"
   ]
  },
  {
   "cell_type": "code",
   "execution_count": 11,
   "metadata": {
    "datalore": {
     "hide_input_from_viewers": false,
     "hide_output_from_viewers": false,
     "node_id": "gIl1qkPVjKrGrArKnVZ3LC",
     "report_properties": {
      "relativeY": 0,
      "rowId": "DaKSu0lYXNBcgSZdzd8HdI",
      "width": 0.6666666666666666,
      "x": 0
     },
     "type": "CODE"
    },
    "execution": {
     "iopub.execute_input": "2024-09-26T16:01:20.151791Z",
     "iopub.status.busy": "2024-09-26T16:01:20.151309Z",
     "iopub.status.idle": "2024-09-26T16:01:20.235815Z",
     "shell.execute_reply": "2024-09-26T16:01:20.235559Z"
    }
   },
   "outputs": [
    {
     "data": {
      "text/html": [
       "   <div id=\"wij2Qn\"></div>\n",
       "   <script type=\"text/javascript\" data-lets-plot-script=\"plot\">\n",
       "       (function() {\n",
       "           var plotSpec={\n",
       "\"mapping\":{\n",
       "},\n",
       "\"data\":{\n",
       "},\n",
       "\"kind\":\"plot\",\n",
       "\"scales\":[{\n",
       "\"aesthetic\":\"fill\",\n",
       "\"scale_mapper_kind\":\"color_brewer\",\n",
       "\"palette\":\"Dark2\"\n",
       "},{\n",
       "\"aesthetic\":\"size\",\n",
       "\"range\":[10.0,30.0]\n",
       "}],\n",
       "\"layers\":[{\n",
       "\"mapping\":{\n",
       "\"size\":\"..count..\",\n",
       "\"fill\":\"class\"\n",
       "},\n",
       "\"stat\":\"count2d\",\n",
       "\"position\":\"identity\",\n",
       "\"geom\":\"pie\",\n",
       "\"tooltips\":\"none\",\n",
       "\"labels\":{\n",
       "\"variables\":[\"class\",\"..count..\"]\n",
       "},\n",
       "\"data\":{\n",
       "\"..count..\":[47.0,41.0,62.0,5.0,11.0,33.0,35.0],\n",
       "\"..x..\":[0.0,0.0,0.0,0.0,0.0,0.0,0.0],\n",
       "\"..y..\":[0.0,0.0,0.0,0.0,0.0,0.0,0.0],\n",
       "\"class\":[\"compact\",\"midsize\",\"suv\",\"2seater\",\"minivan\",\"pickup\",\"subcompact\"]\n",
       "}\n",
       "}],\n",
       "\"theme\":{\n",
       "\"name\":\"classic\",\n",
       "\"axis\":{\n",
       "\"blank\":true\n",
       "},\n",
       "\"line\":{\n",
       "\"blank\":true\n",
       "},\n",
       "\"legend_position\":\"none\"\n",
       "}\n",
       "};\n",
       "           var plotContainer = document.getElementById(\"wij2Qn\");\n",
       "           window.letsPlotCall(function() {{\n",
       "               LetsPlot.buildPlotFromProcessedSpecs(plotSpec, -1, -1, plotContainer);\n",
       "           }});\n",
       "       })();\n",
       "   </script>"
      ]
     },
     "execution_count": 11,
     "metadata": {},
     "output_type": "execute_result"
    }
   ],
   "source": [
    "letsPlot(mpg) +\n",
    "    geomPie(labels = layerLabels(\"class\", \"..count..\"),\n",
    "            tooltips = tooltipsNone) { fill = \"class\"; size = \"..count..\" } +\n",
    "    scaleFillBrewer(palette = \"Dark2\") +\n",
    "    scaleSize(range = Pair(10, 30)) +\n",
    "    themeVoid() +\n",
    "    theme().legendPositionNone()"
   ]
  },
  {
   "attachments": {},
   "cell_type": "markdown",
   "metadata": {
    "datalore": {
     "hide_input_from_viewers": false,
     "hide_output_from_viewers": false,
     "node_id": "4gyDR82hfAyz2HNFWqshgM",
     "report_properties": {
      "relativeY": 0,
      "rowId": "xDFjnt7Ama57xyG2A1Yss7"
     },
     "type": "MD"
    }
   },
   "source": [
    "## Annotated Barchart"
   ]
  },
  {
   "attachments": {},
   "cell_type": "markdown",
   "metadata": {
    "datalore": {
     "hide_input_from_viewers": false,
     "hide_output_from_viewers": false,
     "node_id": "341XHW1IgeQKJ3YWyQZLM9",
     "report_properties": {
      "relativeY": 0,
      "rowId": "FSx1MlGvV0i6Y9jSnSWCMX"
     },
     "type": "MD"
    }
   },
   "source": [
    "### Configure Layer Labels Using API Similar to the Tooltip Configuration API"
   ]
  },
  {
   "cell_type": "code",
   "execution_count": 12,
   "metadata": {
    "datalore": {
     "hide_input_from_viewers": false,
     "hide_output_from_viewers": false,
     "node_id": "X2o4VCxxaQqVfwdYYajtOm",
     "report_properties": {
      "relativeY": 0,
      "rowId": "zWcamtRGSUJhwUol4KVGTP",
      "width": 1,
      "x": 0
     },
     "type": "CODE"
    },
    "execution": {
     "iopub.execute_input": "2024-09-26T16:01:20.238400Z",
     "iopub.status.busy": "2024-09-26T16:01:20.237980Z",
     "iopub.status.idle": "2024-09-26T16:01:20.342757Z",
     "shell.execute_reply": "2024-09-26T16:01:20.342591Z"
    }
   },
   "outputs": [
    {
     "data": {
      "text/html": [
       "   <div id=\"Ro0LQc\"></div>\n",
       "   <script type=\"text/javascript\" data-lets-plot-script=\"plot\">\n",
       "       (function() {\n",
       "           var plotSpec={\n",
       "\"layout\":{\n",
       "\"name\":\"grid\",\n",
       "\"ncol\":2,\n",
       "\"nrow\":1,\n",
       "\"widths\":[1,1.2],\n",
       "\"fit\":true,\n",
       "\"align\":false\n",
       "},\n",
       "\"figures\":[{\n",
       "\"layers\":[{\n",
       "\"mapping\":{\n",
       "\"x\":\"trans\"\n",
       "},\n",
       "\"stat\":\"count\",\n",
       "\"position\":\"stack\",\n",
       "\"geom\":\"bar\",\n",
       "\"labels\":{\n",
       "\"lines\":[\"@..count..\"]\n",
       "},\n",
       "\"data\":{\n",
       "\"..count..\":[39.0,58.0,19.0,5.0,16.0,83.0,2.0,6.0,3.0,3.0],\n",
       "\"trans\":[\"auto(l5)\",\"manual(m5)\",\"manual(m6)\",\"auto(av)\",\"auto(s6)\",\"auto(l4)\",\"auto(l3)\",\"auto(l6)\",\"auto(s5)\",\"auto(s4)\"]\n",
       "}\n",
       "}],\n",
       "\"mapping\":{\n",
       "},\n",
       "\"data\":{\n",
       "},\n",
       "\"kind\":\"plot\",\n",
       "\"scales\":[]\n",
       "},{\n",
       "\"mapping\":{\n",
       "},\n",
       "\"coord\":{\n",
       "\"name\":\"flip\",\n",
       "\"flip\":true\n",
       "},\n",
       "\"data\":{\n",
       "},\n",
       "\"kind\":\"plot\",\n",
       "\"scales\":[],\n",
       "\"layers\":[{\n",
       "\"mapping\":{\n",
       "\"x\":\"trans\",\n",
       "\"y\":\"..n..\"\n",
       "},\n",
       "\"stat\":\"sum\",\n",
       "\"size\":0.0,\n",
       "\"position\":\"stack\",\n",
       "\"geom\":\"bar\",\n",
       "\"labels\":{\n",
       "\"lines\":[\"@..proppct..\"]\n",
       "},\n",
       "\"data\":{\n",
       "\"..n..\":[39.0,58.0,19.0,5.0,16.0,83.0,2.0,6.0,3.0,3.0],\n",
       "\"..proppct..\":[16.666666666666664,24.786324786324787,8.11965811965812,2.1367521367521367,6.837606837606838,35.47008547008547,0.8547008547008548,2.564102564102564,1.282051282051282,1.282051282051282],\n",
       "\"trans\":[\"auto(l5)\",\"manual(m5)\",\"manual(m6)\",\"auto(av)\",\"auto(s6)\",\"auto(l4)\",\"auto(l3)\",\"auto(l6)\",\"auto(s5)\",\"auto(s4)\"]\n",
       "}\n",
       "}]\n",
       "}],\n",
       "\"kind\":\"subplots\"\n",
       "};\n",
       "           var plotContainer = document.getElementById(\"Ro0LQc\");\n",
       "           window.letsPlotCall(function() {{\n",
       "               LetsPlot.buildPlotFromProcessedSpecs(plotSpec, -1, -1, plotContainer);\n",
       "           }});\n",
       "       })();\n",
       "   </script>"
      ]
     },
     "execution_count": 12,
     "metadata": {},
     "output_type": "execute_result"
    }
   ],
   "source": [
    "gggrid(listOf(\n",
    "    letsPlot(mpg) +\n",
    "        geomBar(labels = layerLabels().line(\"@..count..\")) { x = \"trans\" },\n",
    "    letsPlot(mpg) +\n",
    "        geomBar(stat = Stat.sum(), size = 0,\n",
    "                labels = layerLabels().line(\"@..proppct..\")) { x = \"trans\"; y = \"..n..\" } +\n",
    "        coordFlip(),\n",
    "), widths = listOf(1, 1.2))"
   ]
  },
  {
   "attachments": {},
   "cell_type": "markdown",
   "metadata": {
    "datalore": {
     "hide_input_from_viewers": false,
     "hide_output_from_viewers": false,
     "node_id": "7PynGM5SvzNlalMm4zXov5",
     "report_properties": {
      "relativeY": 0,
      "rowId": "39dt2S7l8LA6CGYLAO4qig"
     },
     "type": "MD"
    }
   },
   "source": [
    "### Stacked Bars"
   ]
  },
  {
   "cell_type": "code",
   "execution_count": 13,
   "metadata": {
    "datalore": {
     "hide_input_from_viewers": false,
     "hide_output_from_viewers": false,
     "node_id": "R64OMgXFeye8pI0hoeZDXH",
     "report_properties": {
      "relativeY": 0,
      "rowId": "Viq4uMIrDlNMCvjR2RwsJP"
     },
     "type": "CODE"
    },
    "execution": {
     "iopub.execute_input": "2024-09-26T16:01:20.344922Z",
     "iopub.status.busy": "2024-09-26T16:01:20.344488Z",
     "iopub.status.idle": "2024-09-26T16:01:20.442816Z",
     "shell.execute_reply": "2024-09-26T16:01:20.442594Z"
    }
   },
   "outputs": [
    {
     "data": {
      "text/html": [
       "   <div id=\"yrOTIB\"></div>\n",
       "   <script type=\"text/javascript\" data-lets-plot-script=\"plot\">\n",
       "       (function() {\n",
       "           var plotSpec={\n",
       "\"layout\":{\n",
       "\"name\":\"grid\",\n",
       "\"ncol\":2,\n",
       "\"nrow\":1,\n",
       "\"fit\":true,\n",
       "\"align\":false\n",
       "},\n",
       "\"figures\":[{\n",
       "\"layers\":[{\n",
       "\"mapping\":{\n",
       "\"x\":\"class\",\n",
       "\"fill\":\"drv\"\n",
       "},\n",
       "\"stat\":\"count\",\n",
       "\"position\":\"stack\",\n",
       "\"geom\":\"bar\",\n",
       "\"labels\":{\n",
       "\"lines\":[\"@..proppct..\"],\n",
       "\"formats\":[{\n",
       "\"field\":\"@..proppct..\",\n",
       "\"format\":\"{d} %\"\n",
       "}]\n",
       "},\n",
       "\"data\":{\n",
       "\"..proppct..\":[74.46808510638297,92.6829268292683,100.0,62.857142857142854,25.53191489361702,7.317073170731707,82.25806451612904,100.0,11.428571428571429,17.741935483870968,100.0,25.71428571428571],\n",
       "\"..count..\":[35.0,38.0,11.0,22.0,12.0,3.0,51.0,33.0,4.0,11.0,5.0,9.0],\n",
       "\"drv\":[\"f\",\"f\",\"f\",\"f\",\"4\",\"4\",\"4\",\"4\",\"4\",\"r\",\"r\",\"r\"],\n",
       "\"class\":[\"compact\",\"midsize\",\"minivan\",\"subcompact\",\"compact\",\"midsize\",\"suv\",\"pickup\",\"subcompact\",\"suv\",\"2seater\",\"subcompact\"]\n",
       "}\n",
       "}],\n",
       "\"mapping\":{\n",
       "},\n",
       "\"data\":{\n",
       "},\n",
       "\"kind\":\"plot\",\n",
       "\"scales\":[]\n",
       "},{\n",
       "\"mapping\":{\n",
       "},\n",
       "\"coord\":{\n",
       "\"name\":\"flip\",\n",
       "\"flip\":true\n",
       "},\n",
       "\"data\":{\n",
       "},\n",
       "\"kind\":\"plot\",\n",
       "\"scales\":[],\n",
       "\"layers\":[{\n",
       "\"mapping\":{\n",
       "\"x\":\"class\",\n",
       "\"fill\":\"drv\"\n",
       "},\n",
       "\"stat\":\"count\",\n",
       "\"position\":\"fill\",\n",
       "\"geom\":\"bar\",\n",
       "\"labels\":{\n",
       "\"lines\":[\"@..proppct..\"],\n",
       "\"formats\":[{\n",
       "\"field\":\"@..proppct..\",\n",
       "\"format\":\"{d} %\"\n",
       "}]\n",
       "},\n",
       "\"data\":{\n",
       "\"..proppct..\":[74.46808510638297,92.6829268292683,100.0,62.857142857142854,25.53191489361702,7.317073170731707,82.25806451612904,100.0,11.428571428571429,17.741935483870968,100.0,25.71428571428571],\n",
       "\"..count..\":[35.0,38.0,11.0,22.0,12.0,3.0,51.0,33.0,4.0,11.0,5.0,9.0],\n",
       "\"drv\":[\"f\",\"f\",\"f\",\"f\",\"4\",\"4\",\"4\",\"4\",\"4\",\"r\",\"r\",\"r\"],\n",
       "\"class\":[\"compact\",\"midsize\",\"minivan\",\"subcompact\",\"compact\",\"midsize\",\"suv\",\"pickup\",\"subcompact\",\"suv\",\"2seater\",\"subcompact\"]\n",
       "}\n",
       "}]\n",
       "}],\n",
       "\"kind\":\"subplots\"\n",
       "};\n",
       "           var plotContainer = document.getElementById(\"yrOTIB\");\n",
       "           window.letsPlotCall(function() {{\n",
       "               LetsPlot.buildPlotFromProcessedSpecs(plotSpec, -1, -1, plotContainer);\n",
       "           }});\n",
       "       })();\n",
       "   </script>"
      ]
     },
     "execution_count": 13,
     "metadata": {},
     "output_type": "execute_result"
    }
   ],
   "source": [
    "gggrid(listOf(\n",
    "    letsPlot(mpg) +\n",
    "        geomBar(labels = layerLabels().line(\"@..proppct..\")\n",
    "                                      .format(\"@..proppct..\", \"{d} %\")) { x = \"class\"; fill = \"drv\" },\n",
    "    letsPlot(mpg) +\n",
    "        geomBar(position = positionFill(),\n",
    "                labels = layerLabels().line(\"@..proppct..\")\n",
    "                                      .format(\"@..proppct..\", \"{d} %\")) { x = \"class\"; fill = \"drv\" } +\n",
    "        coordFlip(),\n",
    "))"
   ]
  },
  {
   "attachments": {},
   "cell_type": "markdown",
   "metadata": {
    "datalore": {
     "hide_input_from_viewers": false,
     "hide_output_from_viewers": false,
     "node_id": "hZlDAm1M9NB9LeD0mQmy1T",
     "report_properties": {
      "relativeY": 0,
      "rowId": "Ma0AkUd9AVQISIgoi0Lgiu"
     },
     "type": "MD"
    }
   },
   "source": [
    "### Narrow Bars\n",
    "\n",
    "Narrow bars are too thin for labels to fit in, so they are displayed externally. Also, you can use the `labelText` parameter for barchart as for pies."
   ]
  },
  {
   "cell_type": "code",
   "execution_count": 14,
   "metadata": {
    "datalore": {
     "hide_input_from_viewers": false,
     "hide_output_from_viewers": false,
     "node_id": "Mq9IYNbxW3Tmdlz5ODqyA5",
     "report_properties": {
      "relativeY": 0,
      "rowId": "f8oaSUYMSMhKCueIm97EmB"
     },
     "type": "CODE"
    },
    "execution": {
     "iopub.execute_input": "2024-09-26T16:01:20.445069Z",
     "iopub.status.busy": "2024-09-26T16:01:20.444669Z",
     "iopub.status.idle": "2024-09-26T16:01:20.525429Z",
     "shell.execute_reply": "2024-09-26T16:01:20.525259Z"
    }
   },
   "outputs": [
    {
     "data": {
      "text/html": [
       "   <div id=\"8HIt05\"></div>\n",
       "   <script type=\"text/javascript\" data-lets-plot-script=\"plot\">\n",
       "       (function() {\n",
       "           var plotSpec={\n",
       "\"mapping\":{\n",
       "\"x\":\"class\",\n",
       "\"fill\":\"drv\"\n",
       "},\n",
       "\"data\":{\n",
       "},\n",
       "\"ggsize\":{\n",
       "\"width\":700.0,\n",
       "\"height\":400.0\n",
       "},\n",
       "\"kind\":\"plot\",\n",
       "\"scales\":[],\n",
       "\"layers\":[{\n",
       "\"mapping\":{\n",
       "},\n",
       "\"stat\":\"count\",\n",
       "\"position\":\"dodge\",\n",
       "\"geom\":\"bar\",\n",
       "\"labels\":{\n",
       "\"lines\":[\"@..proppct..\"],\n",
       "\"formats\":[{\n",
       "\"field\":\"..proppct..\",\n",
       "\"format\":\"{d} %\"\n",
       "}]\n",
       "},\n",
       "\"data\":{\n",
       "\"..proppct..\":[74.46808510638297,92.6829268292683,100.0,62.857142857142854,25.53191489361702,7.317073170731707,82.25806451612904,100.0,11.428571428571429,17.741935483870968,100.0,25.71428571428571],\n",
       "\"..count..\":[35.0,38.0,11.0,22.0,12.0,3.0,51.0,33.0,4.0,11.0,5.0,9.0],\n",
       "\"drv\":[\"f\",\"f\",\"f\",\"f\",\"4\",\"4\",\"4\",\"4\",\"4\",\"r\",\"r\",\"r\"],\n",
       "\"class\":[\"compact\",\"midsize\",\"minivan\",\"subcompact\",\"compact\",\"midsize\",\"suv\",\"pickup\",\"subcompact\",\"suv\",\"2seater\",\"subcompact\"]\n",
       "}\n",
       "}],\n",
       "\"theme\":{\n",
       "\"label_text\":{\n",
       "\"color\":\"#542788\",\n",
       "\"family\":\"Rockwell\",\n",
       "\"face\":\"bold\",\n",
       "\"size\":16.0,\n",
       "\"blank\":false\n",
       "}\n",
       "}\n",
       "};\n",
       "           var plotContainer = document.getElementById(\"8HIt05\");\n",
       "           window.letsPlotCall(function() {{\n",
       "               LetsPlot.buildPlotFromProcessedSpecs(plotSpec, -1, -1, plotContainer);\n",
       "           }});\n",
       "       })();\n",
       "   </script>"
      ]
     },
     "execution_count": 14,
     "metadata": {},
     "output_type": "execute_result"
    }
   ],
   "source": [
    "letsPlot(mpg) { x = \"class\"; fill = \"drv\" } +\n",
    "    geomBar(labels = layerLabels().line(\"@..proppct..\").format(\"..proppct..\", \"{d} %\"),\n",
    "            position = positionDodge()) +\n",
    "    theme(labelText = labelTextOptions) +\n",
    "    ggsize(700, 400)"
   ]
  }
 ],
 "metadata": {
  "datalore": {
   "base_environment": "default",
   "computation_mode": "JUPYTER",
   "package_manager": "pip",
   "packages": [],
   "report_link": "https://datalore.jetbrains.com/report/HZqq77cegYd.E7get_WnChZ/mynA4kNRFpu3XYl2b7tlBd",
   "report_row_ids": [
    "6EQyjPAkK3rArptiaFSn5v",
    "Ve0R8dKss7HcDPqQG624g5",
    "C7vkeM3blHAg7JQ6ZFVYjK",
    "FY5F4UsqTgKMF3LX14Hxeh",
    "vm0qFEsdezQ4vSg4YfaNwF",
    "9GaXnDCXZEs0QLO1eS0qT3",
    "57EtmO8S02Sv7sJFFbGMdV",
    "QKpp1khZNjptOpu3Xn7n52",
    "vphb0HnhLEFRMItJ9152S6",
    "tO818ng8bkLeNibLTZgDoi",
    "ACIoRh41VEeqXgqupJhsb2",
    "yCTpCwOBrXvoEeiG7oyt6w",
    "0OjXTV30ndDQ7ZKrFOmexT",
    "mwATxlziPs6JW7xU1cNwmH",
    "jMMuGmicXTtlMEPT357UJY",
    "yoxLYr5VSqSZ5XtSbreYvp",
    "XMij2ZP91hwPar9Ljy8smw",
    "32s8rq52H3Ouz1Kw4llsMj",
    "YEs42E8fVTWXDcIIUCN9sI",
    "PUmDiZ436VskZhCensAUEb",
    "DaKSu0lYXNBcgSZdzd8HdI",
    "xDFjnt7Ama57xyG2A1Yss7",
    "FSx1MlGvV0i6Y9jSnSWCMX",
    "zWcamtRGSUJhwUol4KVGTP",
    "39dt2S7l8LA6CGYLAO4qig",
    "Viq4uMIrDlNMCvjR2RwsJP",
    "Ma0AkUd9AVQISIgoi0Lgiu",
    "f8oaSUYMSMhKCueIm97EmB"
   ],
   "version": 3
  },
  "kernelspec": {
   "display_name": "Kotlin",
   "language": "kotlin",
   "name": "kotlin"
  },
  "language_info": {
   "codemirror_mode": "text/x-kotlin",
   "file_extension": ".kt",
   "mimetype": "text/x-kotlin",
   "name": "kotlin",
   "nbconvert_exporter": "",
   "pygments_lexer": "kotlin",
   "version": "1.9.23"
  }
 },
 "nbformat": 4,
 "nbformat_minor": 4
}
