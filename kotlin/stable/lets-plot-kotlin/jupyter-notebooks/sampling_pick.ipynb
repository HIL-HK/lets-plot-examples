{
 "cells": [
  {
   "cell_type": "markdown",
   "metadata": {},
   "source": [
    "### Pick Sampling"
   ]
  },
  {
   "cell_type": "code",
   "execution_count": 1,
   "metadata": {
    "execution": {
     "iopub.execute_input": "2024-09-29T16:03:45.517211Z",
     "iopub.status.busy": "2024-09-29T16:03:45.514830Z",
     "iopub.status.idle": "2024-09-29T16:03:48.173245Z",
     "shell.execute_reply": "2024-09-29T16:03:48.173366Z"
    }
   },
   "outputs": [
    {
     "data": {
      "text/html": [
       "   <div id=\"IEmWsZ\"></div>\n",
       "   <script type=\"text/javascript\" data-lets-plot-script=\"library\">\n",
       "       if(!window.letsPlotCallQueue) {\n",
       "           window.letsPlotCallQueue = [];\n",
       "       }; \n",
       "       window.letsPlotCall = function(f) {\n",
       "           window.letsPlotCallQueue.push(f);\n",
       "       };\n",
       "       (function() {\n",
       "           var script = document.createElement(\"script\");\n",
       "           script.type = \"text/javascript\";\n",
       "           script.src = \"https://cdn.jsdelivr.net/gh/JetBrains/lets-plot@v4.4.1/js-package/distr/lets-plot.min.js\";\n",
       "           script.onload = function() {\n",
       "               window.letsPlotCall = function(f) {f();};\n",
       "               window.letsPlotCallQueue.forEach(function(f) {f();});\n",
       "               window.letsPlotCallQueue = [];\n",
       "               \n",
       "               \n",
       "           };\n",
       "           script.onerror = function(event) {\n",
       "               window.letsPlotCall = function(f) {};\n",
       "               window.letsPlotCallQueue = [];\n",
       "               var div = document.createElement(\"div\");\n",
       "               div.style.color = 'darkred';\n",
       "               div.textContent = 'Error loading Lets-Plot JS';\n",
       "               document.getElementById(\"IEmWsZ\").appendChild(div);\n",
       "           };\n",
       "           var e = document.getElementById(\"IEmWsZ\");\n",
       "           e.appendChild(script);\n",
       "       })();\n",
       "   </script>"
      ]
     },
     "metadata": {},
     "output_type": "display_data"
    }
   ],
   "source": [
    "%useLatestDescriptors\n",
    "%use lets-plot"
   ]
  },
  {
   "cell_type": "code",
   "execution_count": 2,
   "metadata": {
    "execution": {
     "iopub.execute_input": "2024-09-29T16:03:48.175533Z",
     "iopub.status.busy": "2024-09-29T16:03:48.175291Z",
     "iopub.status.idle": "2024-09-29T16:03:48.364626Z",
     "shell.execute_reply": "2024-09-29T16:03:48.364409Z"
    }
   },
   "outputs": [],
   "source": [
    "fun genWord(length:Int):String {\n",
    "    val letters = ('a'..'z')\n",
    "    return List(length) { letters.random() }.joinToString(\"\")\n",
    "}    \n",
    "\n",
    "fun genWordSet(n:Int):Set<String> {\n",
    "    val words = HashSet<String>()\n",
    "    while(words.size < n) {\n",
    "        words.add(genWord(5))\n",
    "    }\n",
    "    return words\n",
    "}\n",
    "\n",
    "fun data(n:Int, words:Set<String>):Map<String, *> {\n",
    "    return mapOf(\n",
    "        \"word\" to List(n) { words.random() },\n",
    "        \"g\" to List(n) { listOf('a','b','c').random() }\n",
    "    )\n",
    "}"
   ]
  },
  {
   "cell_type": "code",
   "execution_count": 3,
   "metadata": {
    "execution": {
     "iopub.execute_input": "2024-09-29T16:03:48.366694Z",
     "iopub.status.busy": "2024-09-29T16:03:48.366268Z",
     "iopub.status.idle": "2024-09-29T16:03:48.410379Z",
     "shell.execute_reply": "2024-09-29T16:03:48.410068Z"
    }
   },
   "outputs": [],
   "source": [
    "// Number of unique words exceeds threshold (50) of default 'pick' sampling on bar chart.\n",
    "val words = genWordSet(500)\n",
    "val dat = data(1000, words)\n",
    "val p = ggplot(dat) { x = \"word\" }"
   ]
  },
  {
   "cell_type": "code",
   "execution_count": 4,
   "metadata": {
    "execution": {
     "iopub.execute_input": "2024-09-29T16:03:48.412190Z",
     "iopub.status.busy": "2024-09-29T16:03:48.411786Z",
     "iopub.status.idle": "2024-09-29T16:03:48.544418Z",
     "shell.execute_reply": "2024-09-29T16:03:48.544515Z"
    }
   },
   "outputs": [
    {
     "data": {
      "text/html": [
       "   <div id=\"LJPEZF\"></div>\n",
       "   <script type=\"text/javascript\" data-lets-plot-script=\"plot\">\n",
       "       (function() {\n",
       "           var plotSpec={\n",
       "\"mapping\":{\n",
       "\"x\":\"word\"\n",
       "},\n",
       "\"data\":{\n",
       "},\n",
       "\"kind\":\"plot\",\n",
       "\"scales\":[],\n",
       "\"layers\":[{\n",
       "\"mapping\":{\n",
       "},\n",
       "\"stat\":\"count\",\n",
       "\"size\":0.0,\n",
       "\"sampling\":\"none\",\n",
       "\"position\":\"stack\",\n",
       "\"geom\":\"bar\",\n",
       "\"data\":{\n",
       "\"..count..\":[7.0,2.0,1.0,3.0,4.0,5.0,1.0,7.0,3.0,6.0,3.0,2.0,4.0,2.0,5.0,4.0,3.0,2.0,5.0,2.0,5.0,6.0,4.0,4.0,1.0,4.0,3.0,5.0,3.0,1.0,4.0,2.0,3.0,5.0,4.0,3.0,3.0,3.0,4.0,3.0,2.0,4.0,1.0,2.0,2.0,5.0,1.0,3.0,2.0,4.0,1.0,3.0,1.0,4.0,2.0,4.0,4.0,3.0,5.0,6.0,4.0,5.0,4.0,5.0,2.0,3.0,2.0,4.0,3.0,4.0,2.0,5.0,2.0,4.0,4.0,1.0,3.0,3.0,3.0,4.0,2.0,3.0,2.0,4.0,2.0,1.0,1.0,2.0,1.0,2.0,5.0,2.0,1.0,4.0,2.0,3.0,1.0,3.0,1.0,5.0,1.0,2.0,4.0,1.0,3.0,5.0,1.0,4.0,3.0,5.0,3.0,2.0,4.0,4.0,4.0,3.0,2.0,3.0,1.0,2.0,4.0,4.0,2.0,2.0,4.0,2.0,5.0,1.0,2.0,4.0,3.0,4.0,1.0,3.0,2.0,4.0,2.0,2.0,3.0,5.0,4.0,3.0,4.0,2.0,4.0,3.0,3.0,1.0,1.0,2.0,5.0,3.0,5.0,2.0,1.0,2.0,3.0,2.0,3.0,1.0,3.0,5.0,4.0,3.0,6.0,4.0,3.0,1.0,2.0,2.0,3.0,2.0,1.0,2.0,2.0,5.0,1.0,1.0,1.0,2.0,2.0,1.0,3.0,2.0,2.0,2.0,1.0,1.0,2.0,3.0,2.0,2.0,5.0,4.0,3.0,1.0,1.0,3.0,1.0,2.0,1.0,1.0,2.0,3.0,3.0,1.0,4.0,1.0,3.0,2.0,6.0,2.0,4.0,5.0,2.0,3.0,2.0,4.0,3.0,2.0,3.0,5.0,2.0,1.0,2.0,2.0,1.0,3.0,1.0,2.0,4.0,2.0,3.0,1.0,1.0,3.0,4.0,2.0,5.0,1.0,2.0,1.0,4.0,2.0,1.0,3.0,4.0,2.0,2.0,1.0,1.0,1.0,2.0,1.0,4.0,2.0,3.0,1.0,2.0,4.0,2.0,1.0,1.0,4.0,4.0,3.0,2.0,2.0,3.0,1.0,2.0,1.0,1.0,1.0,3.0,1.0,4.0,2.0,5.0,3.0,1.0,3.0,1.0,1.0,4.0,3.0,3.0,1.0,1.0,2.0,1.0,3.0,1.0,2.0,2.0,1.0,2.0,3.0,1.0,2.0,1.0,2.0,1.0,2.0,1.0,1.0,2.0,1.0,2.0,1.0,1.0,1.0,2.0,2.0,3.0,2.0,1.0,1.0,2.0,1.0,2.0,2.0,1.0,2.0,2.0,1.0,3.0,1.0,1.0,3.0,2.0,1.0,4.0,1.0,2.0,2.0,3.0,1.0,1.0,3.0,1.0,2.0,2.0,2.0,2.0,1.0,2.0,1.0,1.0,1.0,2.0,1.0,3.0,2.0,1.0,1.0,2.0,2.0,2.0,1.0,1.0,2.0,2.0,1.0,1.0,3.0,1.0,1.0,1.0,1.0,1.0,2.0,1.0,1.0,1.0,1.0,2.0,3.0,2.0,2.0,2.0,2.0,1.0,2.0,1.0,2.0,1.0,1.0,1.0,2.0,1.0,1.0,1.0,1.0,1.0,1.0,1.0,2.0,2.0,1.0,2.0,1.0,1.0,1.0,1.0,1.0,1.0,1.0,1.0,1.0,1.0,2.0,1.0,2.0,2.0,1.0,1.0,1.0,1.0,1.0,2.0,2.0,1.0,1.0,1.0,1.0,1.0,1.0],\n",
       "\"word\":[\"htasp\",\"mobmb\",\"xhbks\",\"vmubp\",\"epgzb\",\"ljsks\",\"rkuzq\",\"xwijk\",\"pszcj\",\"teybl\",\"mzxkb\",\"scjdo\",\"gkdxv\",\"xoaal\",\"cwnvb\",\"ukjrh\",\"cmcgu\",\"dsget\",\"mldzu\",\"fnmat\",\"jofsp\",\"juthe\",\"fyeer\",\"jwyih\",\"vrmif\",\"ccfmt\",\"dcboq\",\"kczlj\",\"kgdxy\",\"tzjoz\",\"moycj\",\"tmpjg\",\"ixidh\",\"mhxho\",\"yqngf\",\"jcgqk\",\"avcdt\",\"ofpit\",\"naarr\",\"szvvw\",\"oqido\",\"slwbu\",\"lhrvm\",\"axvgx\",\"sjonp\",\"lgeye\",\"jdlop\",\"irymm\",\"rrwqu\",\"jyxgp\",\"endvm\",\"eivrv\",\"ipfia\",\"sgtfa\",\"wbtgd\",\"xelii\",\"wdkjl\",\"rqcxf\",\"otfcy\",\"ospmx\",\"gerdm\",\"ejnss\",\"ryuar\",\"pjajf\",\"pifrq\",\"mjuar\",\"oohxg\",\"ilpnt\",\"cqdsl\",\"xabkt\",\"rmlrw\",\"auxku\",\"jooax\",\"mkpdk\",\"leqyh\",\"kfavv\",\"rcxeh\",\"dpuge\",\"oehdd\",\"tjjwz\",\"bftlf\",\"udviu\",\"rwvkv\",\"wmpyv\",\"exunn\",\"peonk\",\"kqatf\",\"gyqzs\",\"scclr\",\"xrmmy\",\"ogero\",\"wcwur\",\"dtwum\",\"sklyk\",\"unupb\",\"tqaoz\",\"ltejf\",\"idpjr\",\"qcpgd\",\"rtoaj\",\"vvlqk\",\"nipze\",\"tfout\",\"jltli\",\"cylmc\",\"hyuxd\",\"ehroz\",\"claqj\",\"vljfv\",\"zpztg\",\"nluvr\",\"xjnqf\",\"nphsy\",\"qozhx\",\"bebvq\",\"dmsli\",\"jkpbf\",\"tlqnv\",\"ynxhk\",\"jjpzh\",\"dgakx\",\"jqhfs\",\"mkwdz\",\"sdqak\",\"tamzs\",\"jqsxi\",\"bzxnw\",\"lavym\",\"ikivc\",\"auaps\",\"epnkp\",\"hrvbu\",\"ydcyg\",\"luxxe\",\"zctso\",\"upgld\",\"rkame\",\"ngjja\",\"cpbos\",\"brydy\",\"ihkhk\",\"ehbdq\",\"drjik\",\"bfmis\",\"dhfca\",\"vbztg\",\"zrrph\",\"vgwha\",\"nhtmm\",\"ynlgk\",\"rlfrx\",\"zvous\",\"fdygd\",\"vxxwq\",\"ciems\",\"bamfr\",\"fovct\",\"kacks\",\"kttuy\",\"xilno\",\"zyzkf\",\"akumc\",\"agvgn\",\"eonuw\",\"uiboa\",\"jooga\",\"egpkl\",\"lizyh\",\"hmodm\",\"krgwm\",\"ftwpa\",\"jtspn\",\"mevur\",\"rqcwk\",\"yqncy\",\"jfinz\",\"dlosp\",\"wqltu\",\"loaxa\",\"bhgdg\",\"ayqps\",\"epcbs\",\"xztcd\",\"gnmek\",\"xffom\",\"hpxzo\",\"qfxcx\",\"ngoxz\",\"amfjd\",\"zmbzf\",\"wioga\",\"xxghf\",\"lwqyu\",\"sxkzv\",\"qdodi\",\"wowmh\",\"klkfx\",\"vwklm\",\"atfwv\",\"mjtnx\",\"tkjog\",\"zbnsn\",\"iwcsr\",\"mgclx\",\"dycgn\",\"arnah\",\"dxmun\",\"coyfd\",\"hofxo\",\"vysyp\",\"siemm\",\"famqc\",\"saymi\",\"rmlyy\",\"gynrs\",\"zsifh\",\"tesqm\",\"mhwrb\",\"kzsqw\",\"avyea\",\"svhtr\",\"khyat\",\"kgtdw\",\"ifvwz\",\"mygyq\",\"innte\",\"jpjuz\",\"jaufm\",\"pimle\",\"qaksb\",\"xdoxb\",\"ornqn\",\"fmpzn\",\"spyjp\",\"hwlto\",\"zsszi\",\"aemaf\",\"navwd\",\"qcyyb\",\"cgszi\",\"fwdft\",\"nphoe\",\"qwvao\",\"qrrpw\",\"scvcr\",\"svmzg\",\"dyhjv\",\"vaaio\",\"uhufg\",\"grcsx\",\"ohnwm\",\"fcnga\",\"klhlx\",\"jtfjt\",\"vuwzy\",\"zapzd\",\"dhbga\",\"jpyrv\",\"xnitd\",\"vulqd\",\"juwad\",\"nnpwe\",\"rsjtn\",\"uqclp\",\"oenwa\",\"ulcsb\",\"dpopw\",\"kbcvj\",\"riane\",\"vqxck\",\"hfnlk\",\"klxzy\",\"qavex\",\"oymut\",\"dpxju\",\"mllwu\",\"dmykn\",\"skbil\",\"bdadw\",\"wvvil\",\"garhm\",\"ljlpo\",\"xwkgc\",\"nxlma\",\"jchwg\",\"vdwji\",\"qvupx\",\"wusfa\",\"qveom\",\"gmtqi\",\"ualij\",\"yrpiq\",\"ykjpf\",\"quumk\",\"jeooy\",\"czvje\",\"rropu\",\"kopha\",\"igdev\",\"tinwu\",\"kdmzs\",\"jdbrv\",\"ijdhi\",\"wbaqv\",\"zkvnf\",\"oxwth\",\"eavzu\",\"mhuby\",\"cqwxr\",\"txftu\",\"plvsl\",\"zkicz\",\"llesf\",\"oqcex\",\"erjug\",\"mvxyt\",\"rjtmo\",\"ggxyo\",\"vkdvn\",\"cnaid\",\"unnbd\",\"uhqrj\",\"eyoff\",\"ncgkn\",\"ccfoo\",\"lkffs\",\"lyzub\",\"jfalv\",\"vamdo\",\"jrypi\",\"haiky\",\"mwwaf\",\"lykcv\",\"iscdk\",\"kixsd\",\"rxqqw\",\"cpgwn\",\"qrgnc\",\"jpnwl\",\"rvpnq\",\"zndxa\",\"kydkf\",\"wheio\",\"auylh\",\"ouhqu\",\"hgktt\",\"kzjyd\",\"nnids\",\"flkrs\",\"liogf\",\"jyhil\",\"xvqqk\",\"rkmac\",\"brqhv\",\"jxqtb\",\"luqkt\",\"bkbdo\",\"fqtex\",\"ahmlv\",\"sdrng\",\"cvveq\",\"cowtz\",\"vyzqw\",\"qwfmn\",\"oczfc\",\"hlxkh\",\"hcnkk\",\"ltegc\",\"ajyul\",\"duxya\",\"shopu\",\"jmzaq\",\"eiqkv\",\"apsry\",\"owgoa\",\"onbnb\",\"bwomu\",\"dlogf\",\"jigsu\",\"bnmqo\",\"dawlr\",\"ebzom\",\"wfogn\",\"tpaxr\",\"dhohn\",\"perpw\",\"htdcf\",\"lputo\",\"huchy\",\"vbmcl\",\"jcjrk\",\"fqjue\",\"holni\",\"btxik\",\"hbgai\",\"cohtl\",\"dpoxp\",\"fipzx\",\"hmosn\",\"cittk\",\"qqpnq\",\"vknme\",\"hvjtt\",\"hopvh\",\"tsvej\",\"pcmez\",\"wnvee\",\"aaffs\",\"vnxbf\",\"mxwcx\",\"pfaab\",\"nehus\",\"avqfo\",\"nlrdw\",\"ybsdf\",\"vbsll\",\"nxgob\",\"axuhv\",\"yvuzi\",\"wbnsu\",\"puplz\",\"ncszz\",\"zeedq\",\"wyoos\",\"gciqy\",\"bjhhf\",\"xivnf\",\"blxjn\"]\n",
       "}\n",
       "}],\n",
       "\"data_meta\":{\n",
       "\"series_annotations\":[{\n",
       "\"type\":\"str\",\n",
       "\"column\":\"word\"\n",
       "}]\n",
       "}\n",
       "};\n",
       "           var plotContainer = document.getElementById(\"LJPEZF\");\n",
       "           window.letsPlotCall(function() {{\n",
       "               LetsPlot.buildPlotFromProcessedSpecs(plotSpec, -1, -1, plotContainer);\n",
       "           }});\n",
       "       })();\n",
       "   </script>"
      ]
     },
     "execution_count": 4,
     "metadata": {},
     "output_type": "execute_result"
    }
   ],
   "source": [
    "// Disable sampling to see the overplotting.\n",
    "p + geomBar(sampling = samplingNone, size = 0)"
   ]
  },
  {
   "cell_type": "code",
   "execution_count": 5,
   "metadata": {
    "execution": {
     "iopub.execute_input": "2024-09-29T16:03:48.546345Z",
     "iopub.status.busy": "2024-09-29T16:03:48.545959Z",
     "iopub.status.idle": "2024-09-29T16:03:48.592509Z",
     "shell.execute_reply": "2024-09-29T16:03:48.592622Z"
    }
   },
   "outputs": [
    {
     "data": {
      "text/html": [
       "   <div id=\"DSnRre\"></div>\n",
       "   <script type=\"text/javascript\" data-lets-plot-script=\"plot\">\n",
       "       (function() {\n",
       "           var plotSpec={\n",
       "\"mapping\":{\n",
       "\"x\":\"word\"\n",
       "},\n",
       "\"data\":{\n",
       "},\n",
       "\"kind\":\"plot\",\n",
       "\"scales\":[],\n",
       "\"layers\":[{\n",
       "\"mapping\":{\n",
       "},\n",
       "\"stat\":\"count\",\n",
       "\"size\":0.0,\n",
       "\"position\":\"stack\",\n",
       "\"geom\":\"bar\",\n",
       "\"data\":{\n",
       "\"..count..\":[7.0,2.0,1.0,3.0,4.0,5.0,1.0,7.0,3.0,6.0,3.0,2.0,4.0,2.0,5.0,4.0,3.0,2.0,5.0,2.0,5.0,6.0,4.0,4.0,1.0,4.0,3.0,5.0,3.0,1.0,4.0,2.0,3.0,5.0,4.0,3.0,3.0,3.0,4.0,3.0,2.0,4.0,1.0,2.0,2.0,5.0,1.0,3.0,2.0,4.0,1.0,3.0,1.0,4.0,2.0,4.0,4.0,3.0,5.0,6.0,4.0,5.0,4.0,5.0,2.0,3.0,2.0,4.0,3.0,4.0,2.0,5.0,2.0,4.0,4.0,1.0,3.0,3.0,3.0,4.0,2.0,3.0,2.0,4.0,2.0,1.0,1.0,2.0,1.0,2.0,5.0,2.0,1.0,4.0,2.0,3.0,1.0,3.0,1.0,5.0,1.0,2.0,4.0,1.0,3.0,5.0,1.0,4.0,3.0,5.0,3.0,2.0,4.0,4.0,4.0,3.0,2.0,3.0,1.0,2.0,4.0,4.0,2.0,2.0,4.0,2.0,5.0,1.0,2.0,4.0,3.0,4.0,1.0,3.0,2.0,4.0,2.0,2.0,3.0,5.0,4.0,3.0,4.0,2.0,4.0,3.0,3.0,1.0,1.0,2.0,5.0,3.0,5.0,2.0,1.0,2.0,3.0,2.0,3.0,1.0,3.0,5.0,4.0,3.0,6.0,4.0,3.0,1.0,2.0,2.0,3.0,2.0,1.0,2.0,2.0,5.0,1.0,1.0,1.0,2.0,2.0,1.0,3.0,2.0,2.0,2.0,1.0,1.0,2.0,3.0,2.0,2.0,5.0,4.0,3.0,1.0,1.0,3.0,1.0,2.0,1.0,1.0,2.0,3.0,3.0,1.0,4.0,1.0,3.0,2.0,6.0,2.0,4.0,5.0,2.0,3.0,2.0,4.0,3.0,2.0,3.0,5.0,2.0,1.0,2.0,2.0,1.0,3.0,1.0,2.0,4.0,2.0,3.0,1.0,1.0,3.0,4.0,2.0,5.0,1.0,2.0,1.0,4.0,2.0,1.0,3.0,4.0,2.0,2.0,1.0,1.0,1.0,2.0,1.0,4.0,2.0,3.0,1.0,2.0,4.0,2.0,1.0,1.0,4.0,4.0,3.0,2.0,2.0,3.0,1.0,2.0,1.0,1.0,1.0,3.0,1.0,4.0,2.0,5.0,3.0,1.0,3.0,1.0,1.0,4.0,3.0,3.0,1.0,1.0,2.0,1.0,3.0,1.0,2.0,2.0,1.0,2.0,3.0,1.0,2.0,1.0,2.0,1.0,2.0,1.0,1.0,2.0,1.0,2.0,1.0,1.0,1.0,2.0,2.0,3.0,2.0,1.0,1.0,2.0,1.0,2.0,2.0,1.0,2.0,2.0,1.0,3.0,1.0,1.0,3.0,2.0,1.0,4.0,1.0,2.0,2.0,3.0,1.0,1.0,3.0,1.0,2.0,2.0,2.0,2.0,1.0,2.0,1.0,1.0,1.0,2.0,1.0,3.0,2.0,1.0,1.0,2.0,2.0,2.0,1.0,1.0,2.0,2.0,1.0,1.0,3.0,1.0,1.0,1.0,1.0,1.0,2.0,1.0,1.0,1.0,1.0,2.0,3.0,2.0,2.0,2.0,2.0,1.0,2.0,1.0,2.0,1.0,1.0,1.0,2.0,1.0,1.0,1.0,1.0,1.0,1.0,1.0,2.0,2.0,1.0,2.0,1.0,1.0,1.0,1.0,1.0,1.0,1.0,1.0,1.0,1.0,2.0,1.0,2.0,2.0,1.0,1.0,1.0,1.0,1.0,2.0,2.0,1.0,1.0,1.0,1.0,1.0,1.0],\n",
       "\"word\":[\"htasp\",\"mobmb\",\"xhbks\",\"vmubp\",\"epgzb\",\"ljsks\",\"rkuzq\",\"xwijk\",\"pszcj\",\"teybl\",\"mzxkb\",\"scjdo\",\"gkdxv\",\"xoaal\",\"cwnvb\",\"ukjrh\",\"cmcgu\",\"dsget\",\"mldzu\",\"fnmat\",\"jofsp\",\"juthe\",\"fyeer\",\"jwyih\",\"vrmif\",\"ccfmt\",\"dcboq\",\"kczlj\",\"kgdxy\",\"tzjoz\",\"moycj\",\"tmpjg\",\"ixidh\",\"mhxho\",\"yqngf\",\"jcgqk\",\"avcdt\",\"ofpit\",\"naarr\",\"szvvw\",\"oqido\",\"slwbu\",\"lhrvm\",\"axvgx\",\"sjonp\",\"lgeye\",\"jdlop\",\"irymm\",\"rrwqu\",\"jyxgp\",\"endvm\",\"eivrv\",\"ipfia\",\"sgtfa\",\"wbtgd\",\"xelii\",\"wdkjl\",\"rqcxf\",\"otfcy\",\"ospmx\",\"gerdm\",\"ejnss\",\"ryuar\",\"pjajf\",\"pifrq\",\"mjuar\",\"oohxg\",\"ilpnt\",\"cqdsl\",\"xabkt\",\"rmlrw\",\"auxku\",\"jooax\",\"mkpdk\",\"leqyh\",\"kfavv\",\"rcxeh\",\"dpuge\",\"oehdd\",\"tjjwz\",\"bftlf\",\"udviu\",\"rwvkv\",\"wmpyv\",\"exunn\",\"peonk\",\"kqatf\",\"gyqzs\",\"scclr\",\"xrmmy\",\"ogero\",\"wcwur\",\"dtwum\",\"sklyk\",\"unupb\",\"tqaoz\",\"ltejf\",\"idpjr\",\"qcpgd\",\"rtoaj\",\"vvlqk\",\"nipze\",\"tfout\",\"jltli\",\"cylmc\",\"hyuxd\",\"ehroz\",\"claqj\",\"vljfv\",\"zpztg\",\"nluvr\",\"xjnqf\",\"nphsy\",\"qozhx\",\"bebvq\",\"dmsli\",\"jkpbf\",\"tlqnv\",\"ynxhk\",\"jjpzh\",\"dgakx\",\"jqhfs\",\"mkwdz\",\"sdqak\",\"tamzs\",\"jqsxi\",\"bzxnw\",\"lavym\",\"ikivc\",\"auaps\",\"epnkp\",\"hrvbu\",\"ydcyg\",\"luxxe\",\"zctso\",\"upgld\",\"rkame\",\"ngjja\",\"cpbos\",\"brydy\",\"ihkhk\",\"ehbdq\",\"drjik\",\"bfmis\",\"dhfca\",\"vbztg\",\"zrrph\",\"vgwha\",\"nhtmm\",\"ynlgk\",\"rlfrx\",\"zvous\",\"fdygd\",\"vxxwq\",\"ciems\",\"bamfr\",\"fovct\",\"kacks\",\"kttuy\",\"xilno\",\"zyzkf\",\"akumc\",\"agvgn\",\"eonuw\",\"uiboa\",\"jooga\",\"egpkl\",\"lizyh\",\"hmodm\",\"krgwm\",\"ftwpa\",\"jtspn\",\"mevur\",\"rqcwk\",\"yqncy\",\"jfinz\",\"dlosp\",\"wqltu\",\"loaxa\",\"bhgdg\",\"ayqps\",\"epcbs\",\"xztcd\",\"gnmek\",\"xffom\",\"hpxzo\",\"qfxcx\",\"ngoxz\",\"amfjd\",\"zmbzf\",\"wioga\",\"xxghf\",\"lwqyu\",\"sxkzv\",\"qdodi\",\"wowmh\",\"klkfx\",\"vwklm\",\"atfwv\",\"mjtnx\",\"tkjog\",\"zbnsn\",\"iwcsr\",\"mgclx\",\"dycgn\",\"arnah\",\"dxmun\",\"coyfd\",\"hofxo\",\"vysyp\",\"siemm\",\"famqc\",\"saymi\",\"rmlyy\",\"gynrs\",\"zsifh\",\"tesqm\",\"mhwrb\",\"kzsqw\",\"avyea\",\"svhtr\",\"khyat\",\"kgtdw\",\"ifvwz\",\"mygyq\",\"innte\",\"jpjuz\",\"jaufm\",\"pimle\",\"qaksb\",\"xdoxb\",\"ornqn\",\"fmpzn\",\"spyjp\",\"hwlto\",\"zsszi\",\"aemaf\",\"navwd\",\"qcyyb\",\"cgszi\",\"fwdft\",\"nphoe\",\"qwvao\",\"qrrpw\",\"scvcr\",\"svmzg\",\"dyhjv\",\"vaaio\",\"uhufg\",\"grcsx\",\"ohnwm\",\"fcnga\",\"klhlx\",\"jtfjt\",\"vuwzy\",\"zapzd\",\"dhbga\",\"jpyrv\",\"xnitd\",\"vulqd\",\"juwad\",\"nnpwe\",\"rsjtn\",\"uqclp\",\"oenwa\",\"ulcsb\",\"dpopw\",\"kbcvj\",\"riane\",\"vqxck\",\"hfnlk\",\"klxzy\",\"qavex\",\"oymut\",\"dpxju\",\"mllwu\",\"dmykn\",\"skbil\",\"bdadw\",\"wvvil\",\"garhm\",\"ljlpo\",\"xwkgc\",\"nxlma\",\"jchwg\",\"vdwji\",\"qvupx\",\"wusfa\",\"qveom\",\"gmtqi\",\"ualij\",\"yrpiq\",\"ykjpf\",\"quumk\",\"jeooy\",\"czvje\",\"rropu\",\"kopha\",\"igdev\",\"tinwu\",\"kdmzs\",\"jdbrv\",\"ijdhi\",\"wbaqv\",\"zkvnf\",\"oxwth\",\"eavzu\",\"mhuby\",\"cqwxr\",\"txftu\",\"plvsl\",\"zkicz\",\"llesf\",\"oqcex\",\"erjug\",\"mvxyt\",\"rjtmo\",\"ggxyo\",\"vkdvn\",\"cnaid\",\"unnbd\",\"uhqrj\",\"eyoff\",\"ncgkn\",\"ccfoo\",\"lkffs\",\"lyzub\",\"jfalv\",\"vamdo\",\"jrypi\",\"haiky\",\"mwwaf\",\"lykcv\",\"iscdk\",\"kixsd\",\"rxqqw\",\"cpgwn\",\"qrgnc\",\"jpnwl\",\"rvpnq\",\"zndxa\",\"kydkf\",\"wheio\",\"auylh\",\"ouhqu\",\"hgktt\",\"kzjyd\",\"nnids\",\"flkrs\",\"liogf\",\"jyhil\",\"xvqqk\",\"rkmac\",\"brqhv\",\"jxqtb\",\"luqkt\",\"bkbdo\",\"fqtex\",\"ahmlv\",\"sdrng\",\"cvveq\",\"cowtz\",\"vyzqw\",\"qwfmn\",\"oczfc\",\"hlxkh\",\"hcnkk\",\"ltegc\",\"ajyul\",\"duxya\",\"shopu\",\"jmzaq\",\"eiqkv\",\"apsry\",\"owgoa\",\"onbnb\",\"bwomu\",\"dlogf\",\"jigsu\",\"bnmqo\",\"dawlr\",\"ebzom\",\"wfogn\",\"tpaxr\",\"dhohn\",\"perpw\",\"htdcf\",\"lputo\",\"huchy\",\"vbmcl\",\"jcjrk\",\"fqjue\",\"holni\",\"btxik\",\"hbgai\",\"cohtl\",\"dpoxp\",\"fipzx\",\"hmosn\",\"cittk\",\"qqpnq\",\"vknme\",\"hvjtt\",\"hopvh\",\"tsvej\",\"pcmez\",\"wnvee\",\"aaffs\",\"vnxbf\",\"mxwcx\",\"pfaab\",\"nehus\",\"avqfo\",\"nlrdw\",\"ybsdf\",\"vbsll\",\"nxgob\",\"axuhv\",\"yvuzi\",\"wbnsu\",\"puplz\",\"ncszz\",\"zeedq\",\"wyoos\",\"gciqy\",\"bjhhf\",\"xivnf\",\"blxjn\"]\n",
       "}\n",
       "}],\n",
       "\"data_meta\":{\n",
       "\"series_annotations\":[{\n",
       "\"type\":\"str\",\n",
       "\"column\":\"word\"\n",
       "}]\n",
       "}\n",
       "};\n",
       "           var plotContainer = document.getElementById(\"DSnRre\");\n",
       "           window.letsPlotCall(function() {{\n",
       "               LetsPlot.buildPlotFromProcessedSpecs(plotSpec, -1, -1, plotContainer);\n",
       "           }});\n",
       "       })();\n",
       "   </script>"
      ]
     },
     "execution_count": 5,
     "metadata": {},
     "output_type": "execute_result"
    }
   ],
   "source": [
    "// Draw plot with default sampling.\n",
    "p + geomBar(size = 0)"
   ]
  },
  {
   "cell_type": "code",
   "execution_count": 6,
   "metadata": {
    "execution": {
     "iopub.execute_input": "2024-09-29T16:03:48.594404Z",
     "iopub.status.busy": "2024-09-29T16:03:48.594054Z",
     "iopub.status.idle": "2024-09-29T16:03:48.648461Z",
     "shell.execute_reply": "2024-09-29T16:03:48.648568Z"
    }
   },
   "outputs": [
    {
     "data": {
      "text/html": [
       "   <div id=\"CHsumd\"></div>\n",
       "   <script type=\"text/javascript\" data-lets-plot-script=\"plot\">\n",
       "       (function() {\n",
       "           var plotSpec={\n",
       "\"mapping\":{\n",
       "\"x\":\"word\"\n",
       "},\n",
       "\"data\":{\n",
       "},\n",
       "\"kind\":\"plot\",\n",
       "\"scales\":[],\n",
       "\"layers\":[{\n",
       "\"mapping\":{\n",
       "\"fill\":\"g\"\n",
       "},\n",
       "\"stat\":\"count\",\n",
       "\"size\":0.0,\n",
       "\"position\":\"stack\",\n",
       "\"geom\":\"bar\",\n",
       "\"data\":{\n",
       "\"..count..\":[3.0,2.0,2.0,2.0,2.0,2.0,1.0,3.0,1.0,2.0,3.0,1.0,2.0,2.0,1.0,2.0,1.0,1.0,2.0,2.0,1.0,2.0,3.0,2.0,2.0,3.0,1.0,4.0,1.0,1.0,2.0,1.0,2.0,1.0,2.0,2.0,4.0,2.0,2.0,2.0,1.0,1.0,1.0,1.0,1.0,1.0,2.0,1.0,2.0,1.0,1.0,1.0,1.0,2.0,1.0,1.0,3.0,1.0,1.0,1.0,1.0,1.0,1.0,2.0,1.0,2.0,1.0,3.0,1.0,2.0,2.0,1.0,1.0,1.0,1.0,2.0,1.0,2.0,2.0,1.0,2.0,1.0,1.0,1.0,2.0,1.0,2.0,1.0,1.0,4.0,1.0,2.0,1.0,1.0,1.0,1.0,1.0,1.0,2.0,1.0,1.0,2.0,3.0,1.0,1.0,1.0,1.0,2.0,2.0,2.0,2.0,2.0,1.0,2.0,1.0,1.0,1.0,1.0,1.0,1.0,1.0,1.0,1.0,1.0,1.0,1.0,2.0,1.0,2.0,2.0,1.0,1.0,3.0,1.0,2.0,1.0,1.0,2.0,1.0,2.0,2.0,2.0,2.0,1.0,1.0,1.0,1.0,1.0,1.0,1.0,1.0,2.0,2.0,2.0,1.0,1.0,1.0,1.0,1.0,1.0,1.0,1.0,2.0,1.0,1.0,1.0,1.0,1.0,1.0,1.0,1.0,2.0,1.0,1.0,1.0,1.0,1.0,1.0,2.0,2.0,1.0,1.0,1.0,1.0,1.0,3.0,1.0,1.0,1.0,1.0,1.0,2.0,1.0,1.0,1.0,1.0,2.0,1.0,1.0,1.0,1.0,1.0,2.0,1.0,1.0,1.0,1.0,1.0,1.0,2.0,2.0,1.0,1.0,1.0,1.0,1.0,1.0,1.0,1.0,2.0,1.0,1.0,1.0,1.0,1.0,1.0,1.0,1.0,1.0,1.0,1.0,1.0,1.0,1.0,1.0,1.0,1.0,1.0,1.0,1.0,1.0,1.0,3.0,3.0,1.0,2.0,2.0,1.0,2.0,2.0,2.0,3.0,2.0,1.0,2.0,1.0,2.0,1.0,2.0,1.0,2.0,1.0,2.0,1.0,1.0,3.0,2.0,2.0,1.0,2.0,1.0,1.0,1.0,3.0,1.0,1.0,1.0,1.0,1.0,1.0,2.0,3.0,1.0,1.0,1.0,2.0,2.0,1.0,2.0,1.0,1.0,1.0,2.0,1.0,1.0,2.0,1.0,2.0,1.0,1.0,1.0,1.0,1.0,1.0,2.0,1.0,1.0,1.0,2.0,3.0,1.0,1.0,1.0,2.0,2.0,1.0,1.0,2.0,2.0,1.0,1.0,1.0,2.0,2.0,1.0,2.0,1.0,1.0,1.0,1.0,1.0,1.0,2.0,3.0,2.0,1.0,1.0,1.0,2.0,2.0,1.0,2.0,1.0,1.0,1.0,1.0,2.0,1.0,1.0,2.0,2.0,2.0,1.0,1.0,1.0,2.0,1.0,1.0,2.0,1.0,2.0,1.0,1.0,1.0,2.0,1.0,1.0,1.0,1.0,1.0,1.0,1.0,1.0,3.0,1.0,1.0,1.0,1.0,2.0,1.0,1.0,1.0,1.0,2.0,2.0,1.0,1.0,1.0,1.0,1.0,2.0,2.0,2.0,1.0,2.0,1.0,1.0,2.0,2.0,1.0,2.0,1.0,1.0,1.0,1.0,1.0,1.0,1.0,2.0,1.0,1.0,1.0,1.0,1.0,1.0,1.0,2.0,1.0,1.0,1.0,1.0,1.0,1.0,1.0,2.0,1.0,1.0,1.0,1.0,1.0,3.0,1.0,1.0,1.0,1.0,1.0,1.0,1.0,1.0,1.0,1.0,1.0,1.0,1.0,1.0,2.0,1.0,1.0,1.0,1.0,2.0,1.0,1.0,1.0,2.0,1.0,1.0,1.0,1.0,1.0,1.0,1.0,1.0,1.0,1.0,1.0,1.0,1.0,1.0,1.0,1.0,1.0,1.0,1.0,1.0,1.0,1.0,1.0,1.0,3.0,1.0,2.0,2.0,1.0,1.0,2.0,1.0,2.0,1.0,1.0,1.0,1.0,2.0,1.0,1.0,1.0,4.0,2.0,2.0,2.0,2.0,3.0,1.0,1.0,2.0,1.0,2.0,1.0,1.0,2.0,1.0,1.0,1.0,1.0,1.0,1.0,1.0,1.0,1.0,1.0,2.0,2.0,2.0,2.0,2.0,4.0,1.0,2.0,3.0,2.0,3.0,1.0,2.0,1.0,2.0,1.0,1.0,1.0,1.0,2.0,3.0,2.0,1.0,1.0,1.0,1.0,1.0,3.0,2.0,3.0,2.0,1.0,3.0,2.0,1.0,2.0,1.0,1.0,1.0,2.0,1.0,1.0,1.0,1.0,2.0,1.0,2.0,3.0,1.0,2.0,3.0,2.0,3.0,2.0,2.0,1.0,3.0,2.0,3.0,1.0,2.0,1.0,2.0,2.0,2.0,2.0,2.0,1.0,1.0,2.0,1.0,3.0,1.0,1.0,1.0,2.0,2.0,1.0,1.0,1.0,1.0,2.0,1.0,1.0,1.0,2.0,1.0,1.0,2.0,2.0,1.0,1.0,1.0,1.0,1.0,2.0,1.0,1.0,1.0,1.0,1.0,1.0,1.0,2.0,1.0,1.0,1.0,3.0,1.0,2.0,1.0,2.0,1.0,1.0,2.0,1.0,1.0,1.0,1.0,2.0,1.0,1.0,1.0,1.0,3.0,1.0,1.0,1.0,1.0,1.0,1.0,1.0,1.0,1.0,1.0,2.0,1.0,1.0,2.0,1.0,1.0,1.0,1.0,1.0,1.0,1.0,1.0,1.0,1.0,1.0,1.0,1.0,1.0,2.0,1.0,3.0,1.0,1.0,1.0,1.0,1.0,1.0,1.0,2.0,1.0,1.0,1.0,1.0,1.0,1.0,2.0,1.0,2.0,2.0,1.0,1.0,1.0,1.0,1.0,1.0,1.0,1.0,1.0,1.0,1.0,1.0,1.0,1.0,1.0,1.0,1.0,2.0,1.0,1.0,1.0,1.0,1.0,1.0,1.0,1.0,1.0,1.0,1.0,1.0,1.0],\n",
       "\"g\":[\"a\",\"a\",\"a\",\"a\",\"a\",\"a\",\"a\",\"a\",\"a\",\"a\",\"a\",\"a\",\"a\",\"a\",\"a\",\"a\",\"a\",\"a\",\"a\",\"a\",\"a\",\"a\",\"a\",\"a\",\"a\",\"a\",\"a\",\"a\",\"a\",\"a\",\"a\",\"a\",\"a\",\"a\",\"a\",\"a\",\"a\",\"a\",\"a\",\"a\",\"a\",\"a\",\"a\",\"a\",\"a\",\"a\",\"a\",\"a\",\"a\",\"a\",\"a\",\"a\",\"a\",\"a\",\"a\",\"a\",\"a\",\"a\",\"a\",\"a\",\"a\",\"a\",\"a\",\"a\",\"a\",\"a\",\"a\",\"a\",\"a\",\"a\",\"a\",\"a\",\"a\",\"a\",\"a\",\"a\",\"a\",\"a\",\"a\",\"a\",\"a\",\"a\",\"a\",\"a\",\"a\",\"a\",\"a\",\"a\",\"a\",\"a\",\"a\",\"a\",\"a\",\"a\",\"a\",\"a\",\"a\",\"a\",\"a\",\"a\",\"a\",\"a\",\"a\",\"a\",\"a\",\"a\",\"a\",\"a\",\"a\",\"a\",\"a\",\"a\",\"a\",\"a\",\"a\",\"a\",\"a\",\"a\",\"a\",\"a\",\"a\",\"a\",\"a\",\"a\",\"a\",\"a\",\"a\",\"a\",\"a\",\"a\",\"a\",\"a\",\"a\",\"a\",\"a\",\"a\",\"a\",\"a\",\"a\",\"a\",\"a\",\"a\",\"a\",\"a\",\"a\",\"a\",\"a\",\"a\",\"a\",\"a\",\"a\",\"a\",\"a\",\"a\",\"a\",\"a\",\"a\",\"a\",\"a\",\"a\",\"a\",\"a\",\"a\",\"a\",\"a\",\"a\",\"a\",\"a\",\"a\",\"a\",\"a\",\"a\",\"a\",\"a\",\"a\",\"a\",\"a\",\"a\",\"a\",\"a\",\"a\",\"a\",\"a\",\"a\",\"a\",\"a\",\"a\",\"a\",\"a\",\"a\",\"a\",\"a\",\"a\",\"a\",\"a\",\"a\",\"a\",\"a\",\"a\",\"a\",\"a\",\"a\",\"a\",\"a\",\"a\",\"a\",\"a\",\"a\",\"a\",\"a\",\"a\",\"a\",\"a\",\"a\",\"a\",\"a\",\"a\",\"a\",\"a\",\"a\",\"a\",\"a\",\"a\",\"a\",\"a\",\"a\",\"a\",\"a\",\"a\",\"a\",\"a\",\"a\",\"a\",\"a\",\"a\",\"a\",\"a\",\"a\",\"a\",\"a\",\"a\",\"c\",\"c\",\"c\",\"c\",\"c\",\"c\",\"c\",\"c\",\"c\",\"c\",\"c\",\"c\",\"c\",\"c\",\"c\",\"c\",\"c\",\"c\",\"c\",\"c\",\"c\",\"c\",\"c\",\"c\",\"c\",\"c\",\"c\",\"c\",\"c\",\"c\",\"c\",\"c\",\"c\",\"c\",\"c\",\"c\",\"c\",\"c\",\"c\",\"c\",\"c\",\"c\",\"c\",\"c\",\"c\",\"c\",\"c\",\"c\",\"c\",\"c\",\"c\",\"c\",\"c\",\"c\",\"c\",\"c\",\"c\",\"c\",\"c\",\"c\",\"c\",\"c\",\"c\",\"c\",\"c\",\"c\",\"c\",\"c\",\"c\",\"c\",\"c\",\"c\",\"c\",\"c\",\"c\",\"c\",\"c\",\"c\",\"c\",\"c\",\"c\",\"c\",\"c\",\"c\",\"c\",\"c\",\"c\",\"c\",\"c\",\"c\",\"c\",\"c\",\"c\",\"c\",\"c\",\"c\",\"c\",\"c\",\"c\",\"c\",\"c\",\"c\",\"c\",\"c\",\"c\",\"c\",\"c\",\"c\",\"c\",\"c\",\"c\",\"c\",\"c\",\"c\",\"c\",\"c\",\"c\",\"c\",\"c\",\"c\",\"c\",\"c\",\"c\",\"c\",\"c\",\"c\",\"c\",\"c\",\"c\",\"c\",\"c\",\"c\",\"c\",\"c\",\"c\",\"c\",\"c\",\"c\",\"c\",\"c\",\"c\",\"c\",\"c\",\"c\",\"c\",\"c\",\"c\",\"c\",\"c\",\"c\",\"c\",\"c\",\"c\",\"c\",\"c\",\"c\",\"c\",\"c\",\"c\",\"c\",\"c\",\"c\",\"c\",\"c\",\"c\",\"c\",\"c\",\"c\",\"c\",\"c\",\"c\",\"c\",\"c\",\"c\",\"c\",\"c\",\"c\",\"c\",\"c\",\"c\",\"c\",\"c\",\"c\",\"c\",\"c\",\"c\",\"c\",\"c\",\"c\",\"c\",\"c\",\"c\",\"c\",\"c\",\"c\",\"c\",\"c\",\"c\",\"c\",\"c\",\"c\",\"c\",\"c\",\"c\",\"c\",\"c\",\"c\",\"c\",\"c\",\"c\",\"c\",\"c\",\"c\",\"c\",\"c\",\"c\",\"c\",\"c\",\"c\",\"c\",\"c\",\"c\",\"c\",\"c\",\"c\",\"c\",\"c\",\"c\",\"c\",\"c\",\"c\",\"c\",\"c\",\"c\",\"c\",\"c\",\"c\",\"b\",\"b\",\"b\",\"b\",\"b\",\"b\",\"b\",\"b\",\"b\",\"b\",\"b\",\"b\",\"b\",\"b\",\"b\",\"b\",\"b\",\"b\",\"b\",\"b\",\"b\",\"b\",\"b\",\"b\",\"b\",\"b\",\"b\",\"b\",\"b\",\"b\",\"b\",\"b\",\"b\",\"b\",\"b\",\"b\",\"b\",\"b\",\"b\",\"b\",\"b\",\"b\",\"b\",\"b\",\"b\",\"b\",\"b\",\"b\",\"b\",\"b\",\"b\",\"b\",\"b\",\"b\",\"b\",\"b\",\"b\",\"b\",\"b\",\"b\",\"b\",\"b\",\"b\",\"b\",\"b\",\"b\",\"b\",\"b\",\"b\",\"b\",\"b\",\"b\",\"b\",\"b\",\"b\",\"b\",\"b\",\"b\",\"b\",\"b\",\"b\",\"b\",\"b\",\"b\",\"b\",\"b\",\"b\",\"b\",\"b\",\"b\",\"b\",\"b\",\"b\",\"b\",\"b\",\"b\",\"b\",\"b\",\"b\",\"b\",\"b\",\"b\",\"b\",\"b\",\"b\",\"b\",\"b\",\"b\",\"b\",\"b\",\"b\",\"b\",\"b\",\"b\",\"b\",\"b\",\"b\",\"b\",\"b\",\"b\",\"b\",\"b\",\"b\",\"b\",\"b\",\"b\",\"b\",\"b\",\"b\",\"b\",\"b\",\"b\",\"b\",\"b\",\"b\",\"b\",\"b\",\"b\",\"b\",\"b\",\"b\",\"b\",\"b\",\"b\",\"b\",\"b\",\"b\",\"b\",\"b\",\"b\",\"b\",\"b\",\"b\",\"b\",\"b\",\"b\",\"b\",\"b\",\"b\",\"b\",\"b\",\"b\",\"b\",\"b\",\"b\",\"b\",\"b\",\"b\",\"b\",\"b\",\"b\",\"b\",\"b\",\"b\",\"b\",\"b\",\"b\",\"b\",\"b\",\"b\",\"b\",\"b\",\"b\",\"b\",\"b\",\"b\",\"b\",\"b\",\"b\",\"b\",\"b\",\"b\",\"b\",\"b\",\"b\",\"b\",\"b\",\"b\",\"b\",\"b\",\"b\",\"b\",\"b\",\"b\",\"b\",\"b\",\"b\",\"b\",\"b\",\"b\",\"b\",\"b\",\"b\",\"b\",\"b\",\"b\",\"b\",\"b\",\"b\",\"b\",\"b\",\"b\",\"b\",\"b\",\"b\",\"b\",\"b\",\"b\",\"b\",\"b\",\"b\",\"b\",\"b\",\"b\",\"b\",\"b\",\"b\",\"b\",\"b\",\"b\",\"b\",\"b\",\"b\",\"b\",\"b\",\"b\",\"b\"],\n",
       "\"word\":[\"htasp\",\"mobmb\",\"vmubp\",\"pszcj\",\"mzxkb\",\"cmcgu\",\"dsget\",\"mldzu\",\"fnmat\",\"jofsp\",\"fyeer\",\"jwyih\",\"ixidh\",\"avcdt\",\"ofpit\",\"naarr\",\"lhrvm\",\"axvgx\",\"cwnvb\",\"lgeye\",\"jdlop\",\"kczlj\",\"sgtfa\",\"xelii\",\"rqcxf\",\"otfcy\",\"gerdm\",\"pjajf\",\"xabkt\",\"kfavv\",\"dpuge\",\"rrwqu\",\"mkpdk\",\"kqatf\",\"ogero\",\"tqaoz\",\"rtoaj\",\"ospmx\",\"cylmc\",\"hyuxd\",\"xjnqf\",\"bebvq\",\"dgakx\",\"lavym\",\"kgdxy\",\"ngjja\",\"cpbos\",\"sklyk\",\"drjik\",\"vbztg\",\"nhtmm\",\"zvous\",\"fovct\",\"juthe\",\"zyzkf\",\"szvvw\",\"akumc\",\"ihkhk\",\"claqj\",\"dlosp\",\"oqido\",\"wqltu\",\"epcbs\",\"xztcd\",\"gnmek\",\"gkdxv\",\"hpxzo\",\"lwqyu\",\"vwklm\",\"mjtnx\",\"wdkjl\",\"zbnsn\",\"tlqnv\",\"dycgn\",\"arnah\",\"vysyp\",\"zpztg\",\"zsifh\",\"mhwrb\",\"upgld\",\"khyat\",\"jooga\",\"mygyq\",\"jpjuz\",\"jaufm\",\"pimle\",\"mhxho\",\"xdoxb\",\"fwdft\",\"qwvao\",\"qrrpw\",\"jcgqk\",\"scvcr\",\"dmsli\",\"ohnwm\",\"klhlx\",\"zsszi\",\"jtfjt\",\"zapzd\",\"vljfv\",\"bftlf\",\"xnitd\",\"jfinz\",\"kbcvj\",\"qavex\",\"dpxju\",\"mllwu\",\"dmykn\",\"aemaf\",\"brydy\",\"bdadw\",\"siemm\",\"ljlpo\",\"dhbga\",\"xwkgc\",\"nxlma\",\"hofxo\",\"ualij\",\"ykjpf\",\"agvgn\",\"jeooy\",\"rropu\",\"tinwu\",\"rcxeh\",\"zkvnf\",\"eavzu\",\"rmlyy\",\"mhuby\",\"cqwxr\",\"auxku\",\"hrvbu\",\"plvsl\",\"ejnss\",\"llesf\",\"mvxyt\",\"rjtmo\",\"hfnlk\",\"vkdvn\",\"vuwzy\",\"unnbd\",\"ncgkn\",\"kopha\",\"jrypi\",\"kzsqw\",\"rlfrx\",\"mwwaf\",\"kixsd\",\"dyhjv\",\"rvpnq\",\"zndxa\",\"kydkf\",\"wmpyv\",\"irymm\",\"wheio\",\"sxkzv\",\"auylh\",\"ouhqu\",\"kzjyd\",\"vdwji\",\"saymi\",\"liogf\",\"ehbdq\",\"jyhil\",\"xvqqk\",\"dhfca\",\"qcyyb\",\"gmtqi\",\"bkbdo\",\"sdrng\",\"qwfmn\",\"uiboa\",\"rkmac\",\"oczfc\",\"ltegc\",\"unupb\",\"ajyul\",\"idpjr\",\"teybl\",\"jmzaq\",\"uqclp\",\"jyxgp\",\"apsry\",\"owgoa\",\"onbnb\",\"dlogf\",\"xwijk\",\"bnmqo\",\"jchwg\",\"wfogn\",\"amfjd\",\"lputo\",\"fdygd\",\"nphsy\",\"hlxkh\",\"huchy\",\"jdbrv\",\"vbmcl\",\"uhqrj\",\"tfout\",\"bwomu\",\"holni\",\"auaps\",\"vulqd\",\"oenwa\",\"qdodi\",\"sjonp\",\"bzxnw\",\"lykcv\",\"udviu\",\"lyzub\",\"kttuy\",\"cittk\",\"qqpnq\",\"yqncy\",\"kgtdw\",\"brqhv\",\"vknme\",\"hopvh\",\"tsvej\",\"oehdd\",\"mkwdz\",\"mxwcx\",\"pfaab\",\"bfmis\",\"qvupx\",\"jjpzh\",\"epnkp\",\"ikivc\",\"ynlgk\",\"axuhv\",\"eonuw\",\"yvuzi\",\"kacks\",\"puplz\",\"ncszz\",\"yqngf\",\"tesqm\",\"wbaqv\",\"tpaxr\",\"fqtex\",\"nehus\",\"xhbks\",\"epgzb\",\"ljsks\",\"rkuzq\",\"gkdxv\",\"cwnvb\",\"juthe\",\"ccfmt\",\"kczlj\",\"kgdxy\",\"mhxho\",\"yqngf\",\"jcgqk\",\"teybl\",\"oqido\",\"slwbu\",\"rrwqu\",\"jyxgp\",\"endvm\",\"eivrv\",\"ipfia\",\"wbtgd\",\"ospmx\",\"ejnss\",\"ryuar\",\"pifrq\",\"oohxg\",\"auxku\",\"mkpdk\",\"cqdsl\",\"oehdd\",\"jwyih\",\"tjjwz\",\"bftlf\",\"udviu\",\"wmpyv\",\"rcxeh\",\"scclr\",\"dtwum\",\"sklyk\",\"xwijk\",\"idpjr\",\"vvlqk\",\"jltli\",\"qozhx\",\"bebvq\",\"dmsli\",\"jkpbf\",\"ynxhk\",\"jjpzh\",\"naarr\",\"ukjrh\",\"cmcgu\",\"jqsxi\",\"auaps\",\"epnkp\",\"hrvbu\",\"luxxe\",\"rkame\",\"xelii\",\"ehbdq\",\"dcboq\",\"scjdo\",\"dhfca\",\"vgwha\",\"ynlgk\",\"ciems\",\"uiboa\",\"egpkl\",\"lizyh\",\"mevur\",\"yqncy\",\"mjuar\",\"jfinz\",\"loaxa\",\"bhgdg\",\"ayqps\",\"zpztg\",\"ngoxz\",\"amfjd\",\"xffom\",\"zmbzf\",\"wioga\",\"xxghf\",\"lgeye\",\"qdodi\",\"tkjog\",\"iwcsr\",\"rlfrx\",\"mgclx\",\"coyfd\",\"hofxo\",\"gerdm\",\"htasp\",\"kzsqw\",\"vljfv\",\"kgtdw\",\"innte\",\"qaksb\",\"ornqn\",\"brydy\",\"szvvw\",\"spyjp\",\"hwlto\",\"navwd\",\"upgld\",\"wdkjl\",\"sxkzv\",\"svmzg\",\"dyhjv\",\"uhufg\",\"grcsx\",\"dhbga\",\"vulqd\",\"juwad\",\"nnpwe\",\"rsjtn\",\"oenwa\",\"ulcsb\",\"dpopw\",\"nphsy\",\"hfnlk\",\"klxzy\",\"wvvil\",\"garhm\",\"zrrph\",\"pjajf\",\"mhwrb\",\"tmpjg\",\"fwdft\",\"gmtqi\",\"czvje\",\"hyuxd\",\"igdev\",\"jdbrv\",\"oxwth\",\"riane\",\"claqj\",\"cylmc\",\"uqclp\",\"cnaid\",\"eyoff\",\"ihkhk\",\"ccfoo\",\"lkffs\",\"lyzub\",\"jfalv\",\"vamdo\",\"dgakx\",\"vwklm\",\"haiky\",\"tfout\",\"iscdk\",\"rxqqw\",\"dpxju\",\"qrgnc\",\"qcyyb\",\"dxmun\",\"quumk\",\"khyat\",\"rmlyy\",\"xabkt\",\"oqcex\",\"flkrs\",\"zsifh\",\"fmpzn\",\"bzxnw\",\"dmykn\",\"fovct\",\"brqhv\",\"lwqyu\",\"jxqtb\",\"fqtex\",\"ahmlv\",\"cowtz\",\"vyzqw\",\"dsget\",\"siemm\",\"wcwur\",\"ofpit\",\"kydkf\",\"hlxkh\",\"kbcvj\",\"moycj\",\"tqaoz\",\"krgwm\",\"leqyh\",\"jigsu\",\"tamzs\",\"xdoxb\",\"skbil\",\"fdygd\",\"erjug\",\"htdcf\",\"bamfr\",\"ebzom\",\"ljlpo\",\"zvous\",\"llesf\",\"jofsp\",\"cpgwn\",\"auylh\",\"fqjue\",\"ouhqu\",\"jchwg\",\"gyqzs\",\"xjnqf\",\"dpoxp\",\"ngjja\",\"hmosn\",\"gnmek\",\"fnmat\",\"dlogf\",\"vbztg\",\"bnmqo\",\"eavzu\",\"wnvee\",\"zyzkf\",\"vxxwq\",\"nipze\",\"nehus\",\"dawlr\",\"ybsdf\",\"vbsll\",\"kzjyd\",\"mygyq\",\"yrpiq\",\"wbnsu\",\"nluvr\",\"zeedq\",\"wyoos\",\"lykcv\",\"gciqy\",\"bjhhf\",\"xivnf\",\"rtoaj\",\"klhlx\",\"xwijk\",\"teybl\",\"scjdo\",\"xoaal\",\"ukjrh\",\"mzxkb\",\"vrmif\",\"dcboq\",\"tzjoz\",\"moycj\",\"tmpjg\",\"szvvw\",\"sjonp\",\"irymm\",\"ljsks\",\"cwnvb\",\"wdkjl\",\"mjuar\",\"ilpnt\",\"cqdsl\",\"rmlrw\",\"jwyih\",\"jooax\",\"leqyh\",\"rcxeh\",\"axvgx\",\"rwvkv\",\"vmubp\",\"exunn\",\"peonk\",\"gyqzs\",\"xrmmy\",\"wcwur\",\"unupb\",\"ltejf\",\"xelii\",\"qcpgd\",\"nipze\",\"tfout\",\"ehroz\",\"claqj\",\"vljfv\",\"zpztg\",\"nluvr\",\"nphsy\",\"jofsp\",\"tlqnv\",\"jqhfs\",\"mkwdz\",\"sdqak\",\"tamzs\",\"slwbu\",\"bzxnw\",\"ikivc\",\"dgakx\",\"ydcyg\",\"zctso\",\"upgld\",\"brydy\",\"ihkhk\",\"bfmis\",\"zrrph\",\"rlfrx\",\"fdygd\",\"vxxwq\",\"bamfr\",\"kacks\",\"kttuy\",\"xilno\",\"agvgn\",\"eonuw\",\"jooga\",\"hmodm\",\"krgwm\",\"ftwpa\",\"jtspn\",\"idpjr\",\"rqcwk\",\"ofpit\",\"xffom\",\"qfxcx\",\"sxkzv\",\"udviu\",\"wowmh\",\"klkfx\",\"rkame\",\"akumc\",\"atfwv\",\"luxxe\",\"uiboa\",\"hrvbu\",\"dxmun\",\"siemm\",\"famqc\",\"saymi\",\"rmlyy\",\"gynrs\",\"tesqm\",\"ospmx\",\"avyea\",\"svhtr\",\"ifvwz\",\"drjik\",\"eivrv\",\"fmpzn\",\"zsszi\",\"aemaf\",\"xabkt\",\"qcyyb\",\"cgszi\",\"nphoe\",\"vaaio\",\"fcnga\",\"vuwzy\",\"dhfca\",\"iwcsr\",\"jpyrv\",\"mldzu\",\"mgclx\",\"ornqn\",\"ryuar\",\"khyat\",\"uqclp\",\"riane\",\"vqxck\",\"oymut\",\"skbil\",\"auxku\",\"avcdt\",\"jchwg\",\"vdwji\",\"qvupx\",\"wmpyv\",\"wusfa\",\"qveom\",\"zyzkf\",\"bebvq\",\"yrpiq\",\"rqcxf\",\"quumk\",\"kopha\",\"kdmzs\",\"epgzb\",\"ijdhi\",\"wbaqv\",\"otfcy\",\"txftu\",\"dpxju\",\"zkicz\",\"ogero\",\"oqcex\",\"erjug\",\"kzsqw\",\"ulcsb\",\"ggxyo\",\"uhqrj\",\"lykcv\",\"lgeye\",\"fovct\",\"kixsd\",\"xztcd\",\"cpgwn\",\"jpnwl\",\"naarr\",\"bhgdg\",\"hgktt\",\"juthe\",\"nnids\",\"epnkp\",\"oenwa\",\"dyhjv\",\"jqsxi\",\"hpxzo\",\"rkmac\",\"ixidh\",\"auaps\",\"qrrpw\",\"rvpnq\",\"luqkt\",\"cvveq\",\"qozhx\",\"ejnss\",\"hcnkk\",\"wvvil\",\"duxya\",\"shopu\",\"zvous\",\"eiqkv\",\"bwomu\",\"cpbos\",\"rropu\",\"dawlr\",\"ebzom\",\"tpaxr\",\"dhohn\",\"perpw\",\"hlxkh\",\"bdadw\",\"sklyk\",\"ehbdq\",\"jrypi\",\"jyxgp\",\"svmzg\",\"cowtz\",\"jcjrk\",\"htasp\",\"dpuge\",\"btxik\",\"vulqd\",\"mhwrb\",\"pszcj\",\"hbgai\",\"dycgn\",\"cohtl\",\"ccfmt\",\"fipzx\",\"yqngf\",\"ahmlv\",\"zmbzf\",\"fyeer\",\"jigsu\",\"hvjtt\",\"qdodi\",\"sgtfa\",\"qqpnq\",\"dmsli\",\"pcmez\",\"aaffs\",\"jeooy\",\"vnxbf\",\"bkbdo\",\"avqfo\",\"navwd\",\"nlrdw\",\"jaufm\",\"nxgob\",\"tjjwz\",\"dlogf\",\"kczlj\",\"lwqyu\",\"puplz\",\"ncszz\",\"ybsdf\",\"tinwu\",\"xxghf\",\"blxjn\",\"ljlpo\"]\n",
       "}\n",
       "}],\n",
       "\"data_meta\":{\n",
       "\"series_annotations\":[{\n",
       "\"type\":\"str\",\n",
       "\"column\":\"word\"\n",
       "}]\n",
       "}\n",
       "};\n",
       "           var plotContainer = document.getElementById(\"CHsumd\");\n",
       "           window.letsPlotCall(function() {{\n",
       "               LetsPlot.buildPlotFromProcessedSpecs(plotSpec, -1, -1, plotContainer);\n",
       "           }});\n",
       "       })();\n",
       "   </script>"
      ]
     },
     "execution_count": 6,
     "metadata": {},
     "output_type": "execute_result"
    }
   ],
   "source": [
    "// 'pick' sampling preserves groups on bar chart.\n",
    "p + geomBar(size = 0) { fill = \"g\" }"
   ]
  },
  {
   "cell_type": "code",
   "execution_count": 7,
   "metadata": {
    "execution": {
     "iopub.execute_input": "2024-09-29T16:03:48.650261Z",
     "iopub.status.busy": "2024-09-29T16:03:48.649888Z",
     "iopub.status.idle": "2024-09-29T16:03:48.722514Z",
     "shell.execute_reply": "2024-09-29T16:03:48.722362Z"
    }
   },
   "outputs": [
    {
     "data": {
      "text/html": [
       "   <div id=\"5bkQjU\"></div>\n",
       "   <script type=\"text/javascript\" data-lets-plot-script=\"plot\">\n",
       "       (function() {\n",
       "           var plotSpec={\n",
       "\"mapping\":{\n",
       "\"x\":\"word\"\n",
       "},\n",
       "\"data\":{\n",
       "},\n",
       "\"kind\":\"plot\",\n",
       "\"scales\":[],\n",
       "\"layers\":[{\n",
       "\"mapping\":{\n",
       "\"x\":\"word\",\n",
       "\"fill\":\"g\"\n",
       "},\n",
       "\"stat\":\"count\",\n",
       "\"size\":0.0,\n",
       "\"position\":\"stack\",\n",
       "\"geom\":\"bar\",\n",
       "\"data_meta\":{\n",
       "\"mapping_annotations\":[{\n",
       "\"aes\":\"x\",\n",
       "\"annotation\":\"as_discrete\",\n",
       "\"parameters\":{\n",
       "\"label\":\"word\",\n",
       "\"order_by\":\"..count..\"\n",
       "}\n",
       "}]\n",
       "},\n",
       "\"data\":{\n",
       "\"..count..\":[3.0,2.0,2.0,2.0,2.0,2.0,1.0,3.0,1.0,2.0,3.0,1.0,2.0,2.0,1.0,2.0,1.0,1.0,2.0,2.0,1.0,2.0,3.0,2.0,2.0,3.0,1.0,4.0,1.0,1.0,2.0,1.0,2.0,1.0,2.0,2.0,4.0,2.0,2.0,2.0,1.0,1.0,1.0,1.0,1.0,1.0,2.0,1.0,2.0,1.0,1.0,1.0,1.0,2.0,1.0,1.0,3.0,1.0,1.0,1.0,1.0,1.0,1.0,2.0,1.0,2.0,1.0,3.0,1.0,2.0,2.0,1.0,1.0,1.0,1.0,2.0,1.0,2.0,2.0,1.0,2.0,1.0,1.0,1.0,2.0,1.0,2.0,1.0,1.0,4.0,1.0,2.0,1.0,1.0,1.0,1.0,1.0,1.0,2.0,1.0,1.0,2.0,3.0,1.0,1.0,1.0,1.0,2.0,2.0,2.0,2.0,2.0,1.0,2.0,1.0,1.0,1.0,1.0,1.0,1.0,1.0,1.0,1.0,1.0,1.0,1.0,2.0,1.0,2.0,2.0,1.0,1.0,3.0,1.0,2.0,1.0,1.0,2.0,1.0,2.0,2.0,2.0,2.0,1.0,1.0,1.0,1.0,1.0,1.0,1.0,1.0,2.0,2.0,2.0,1.0,1.0,1.0,1.0,1.0,1.0,1.0,1.0,2.0,1.0,1.0,1.0,1.0,1.0,1.0,1.0,1.0,2.0,1.0,1.0,1.0,1.0,1.0,1.0,2.0,2.0,1.0,1.0,1.0,1.0,1.0,3.0,1.0,1.0,1.0,1.0,1.0,2.0,1.0,1.0,1.0,1.0,2.0,1.0,1.0,1.0,1.0,1.0,2.0,1.0,1.0,1.0,1.0,1.0,1.0,2.0,2.0,1.0,1.0,1.0,1.0,1.0,1.0,1.0,1.0,2.0,1.0,1.0,1.0,1.0,1.0,1.0,1.0,1.0,1.0,1.0,1.0,1.0,1.0,1.0,1.0,1.0,1.0,1.0,1.0,1.0,1.0,1.0,3.0,3.0,1.0,2.0,2.0,1.0,2.0,2.0,2.0,3.0,2.0,1.0,2.0,1.0,2.0,1.0,2.0,1.0,2.0,1.0,2.0,1.0,1.0,3.0,2.0,2.0,1.0,2.0,1.0,1.0,1.0,3.0,1.0,1.0,1.0,1.0,1.0,1.0,2.0,3.0,1.0,1.0,1.0,2.0,2.0,1.0,2.0,1.0,1.0,1.0,2.0,1.0,1.0,2.0,1.0,2.0,1.0,1.0,1.0,1.0,1.0,1.0,2.0,1.0,1.0,1.0,2.0,3.0,1.0,1.0,1.0,2.0,2.0,1.0,1.0,2.0,2.0,1.0,1.0,1.0,2.0,2.0,1.0,2.0,1.0,1.0,1.0,1.0,1.0,1.0,2.0,3.0,2.0,1.0,1.0,1.0,2.0,2.0,1.0,2.0,1.0,1.0,1.0,1.0,2.0,1.0,1.0,2.0,2.0,2.0,1.0,1.0,1.0,2.0,1.0,1.0,2.0,1.0,2.0,1.0,1.0,1.0,2.0,1.0,1.0,1.0,1.0,1.0,1.0,1.0,1.0,3.0,1.0,1.0,1.0,1.0,2.0,1.0,1.0,1.0,1.0,2.0,2.0,1.0,1.0,1.0,1.0,1.0,2.0,2.0,2.0,1.0,2.0,1.0,1.0,2.0,2.0,1.0,2.0,1.0,1.0,1.0,1.0,1.0,1.0,1.0,2.0,1.0,1.0,1.0,1.0,1.0,1.0,1.0,2.0,1.0,1.0,1.0,1.0,1.0,1.0,1.0,2.0,1.0,1.0,1.0,1.0,1.0,3.0,1.0,1.0,1.0,1.0,1.0,1.0,1.0,1.0,1.0,1.0,1.0,1.0,1.0,1.0,2.0,1.0,1.0,1.0,1.0,2.0,1.0,1.0,1.0,2.0,1.0,1.0,1.0,1.0,1.0,1.0,1.0,1.0,1.0,1.0,1.0,1.0,1.0,1.0,1.0,1.0,1.0,1.0,1.0,1.0,1.0,1.0,1.0,1.0,3.0,1.0,2.0,2.0,1.0,1.0,2.0,1.0,2.0,1.0,1.0,1.0,1.0,2.0,1.0,1.0,1.0,4.0,2.0,2.0,2.0,2.0,3.0,1.0,1.0,2.0,1.0,2.0,1.0,1.0,2.0,1.0,1.0,1.0,1.0,1.0,1.0,1.0,1.0,1.0,1.0,2.0,2.0,2.0,2.0,2.0,4.0,1.0,2.0,3.0,2.0,3.0,1.0,2.0,1.0,2.0,1.0,1.0,1.0,1.0,2.0,3.0,2.0,1.0,1.0,1.0,1.0,1.0,3.0,2.0,3.0,2.0,1.0,3.0,2.0,1.0,2.0,1.0,1.0,1.0,2.0,1.0,1.0,1.0,1.0,2.0,1.0,2.0,3.0,1.0,2.0,3.0,2.0,3.0,2.0,2.0,1.0,3.0,2.0,3.0,1.0,2.0,1.0,2.0,2.0,2.0,2.0,2.0,1.0,1.0,2.0,1.0,3.0,1.0,1.0,1.0,2.0,2.0,1.0,1.0,1.0,1.0,2.0,1.0,1.0,1.0,2.0,1.0,1.0,2.0,2.0,1.0,1.0,1.0,1.0,1.0,2.0,1.0,1.0,1.0,1.0,1.0,1.0,1.0,2.0,1.0,1.0,1.0,3.0,1.0,2.0,1.0,2.0,1.0,1.0,2.0,1.0,1.0,1.0,1.0,2.0,1.0,1.0,1.0,1.0,3.0,1.0,1.0,1.0,1.0,1.0,1.0,1.0,1.0,1.0,1.0,2.0,1.0,1.0,2.0,1.0,1.0,1.0,1.0,1.0,1.0,1.0,1.0,1.0,1.0,1.0,1.0,1.0,1.0,2.0,1.0,3.0,1.0,1.0,1.0,1.0,1.0,1.0,1.0,2.0,1.0,1.0,1.0,1.0,1.0,1.0,2.0,1.0,2.0,2.0,1.0,1.0,1.0,1.0,1.0,1.0,1.0,1.0,1.0,1.0,1.0,1.0,1.0,1.0,1.0,1.0,1.0,2.0,1.0,1.0,1.0,1.0,1.0,1.0,1.0,1.0,1.0,1.0,1.0,1.0,1.0],\n",
       "\"g\":[\"a\",\"a\",\"a\",\"a\",\"a\",\"a\",\"a\",\"a\",\"a\",\"a\",\"a\",\"a\",\"a\",\"a\",\"a\",\"a\",\"a\",\"a\",\"a\",\"a\",\"a\",\"a\",\"a\",\"a\",\"a\",\"a\",\"a\",\"a\",\"a\",\"a\",\"a\",\"a\",\"a\",\"a\",\"a\",\"a\",\"a\",\"a\",\"a\",\"a\",\"a\",\"a\",\"a\",\"a\",\"a\",\"a\",\"a\",\"a\",\"a\",\"a\",\"a\",\"a\",\"a\",\"a\",\"a\",\"a\",\"a\",\"a\",\"a\",\"a\",\"a\",\"a\",\"a\",\"a\",\"a\",\"a\",\"a\",\"a\",\"a\",\"a\",\"a\",\"a\",\"a\",\"a\",\"a\",\"a\",\"a\",\"a\",\"a\",\"a\",\"a\",\"a\",\"a\",\"a\",\"a\",\"a\",\"a\",\"a\",\"a\",\"a\",\"a\",\"a\",\"a\",\"a\",\"a\",\"a\",\"a\",\"a\",\"a\",\"a\",\"a\",\"a\",\"a\",\"a\",\"a\",\"a\",\"a\",\"a\",\"a\",\"a\",\"a\",\"a\",\"a\",\"a\",\"a\",\"a\",\"a\",\"a\",\"a\",\"a\",\"a\",\"a\",\"a\",\"a\",\"a\",\"a\",\"a\",\"a\",\"a\",\"a\",\"a\",\"a\",\"a\",\"a\",\"a\",\"a\",\"a\",\"a\",\"a\",\"a\",\"a\",\"a\",\"a\",\"a\",\"a\",\"a\",\"a\",\"a\",\"a\",\"a\",\"a\",\"a\",\"a\",\"a\",\"a\",\"a\",\"a\",\"a\",\"a\",\"a\",\"a\",\"a\",\"a\",\"a\",\"a\",\"a\",\"a\",\"a\",\"a\",\"a\",\"a\",\"a\",\"a\",\"a\",\"a\",\"a\",\"a\",\"a\",\"a\",\"a\",\"a\",\"a\",\"a\",\"a\",\"a\",\"a\",\"a\",\"a\",\"a\",\"a\",\"a\",\"a\",\"a\",\"a\",\"a\",\"a\",\"a\",\"a\",\"a\",\"a\",\"a\",\"a\",\"a\",\"a\",\"a\",\"a\",\"a\",\"a\",\"a\",\"a\",\"a\",\"a\",\"a\",\"a\",\"a\",\"a\",\"a\",\"a\",\"a\",\"a\",\"a\",\"a\",\"a\",\"a\",\"a\",\"a\",\"a\",\"a\",\"a\",\"a\",\"a\",\"a\",\"a\",\"a\",\"a\",\"a\",\"a\",\"a\",\"a\",\"a\",\"a\",\"c\",\"c\",\"c\",\"c\",\"c\",\"c\",\"c\",\"c\",\"c\",\"c\",\"c\",\"c\",\"c\",\"c\",\"c\",\"c\",\"c\",\"c\",\"c\",\"c\",\"c\",\"c\",\"c\",\"c\",\"c\",\"c\",\"c\",\"c\",\"c\",\"c\",\"c\",\"c\",\"c\",\"c\",\"c\",\"c\",\"c\",\"c\",\"c\",\"c\",\"c\",\"c\",\"c\",\"c\",\"c\",\"c\",\"c\",\"c\",\"c\",\"c\",\"c\",\"c\",\"c\",\"c\",\"c\",\"c\",\"c\",\"c\",\"c\",\"c\",\"c\",\"c\",\"c\",\"c\",\"c\",\"c\",\"c\",\"c\",\"c\",\"c\",\"c\",\"c\",\"c\",\"c\",\"c\",\"c\",\"c\",\"c\",\"c\",\"c\",\"c\",\"c\",\"c\",\"c\",\"c\",\"c\",\"c\",\"c\",\"c\",\"c\",\"c\",\"c\",\"c\",\"c\",\"c\",\"c\",\"c\",\"c\",\"c\",\"c\",\"c\",\"c\",\"c\",\"c\",\"c\",\"c\",\"c\",\"c\",\"c\",\"c\",\"c\",\"c\",\"c\",\"c\",\"c\",\"c\",\"c\",\"c\",\"c\",\"c\",\"c\",\"c\",\"c\",\"c\",\"c\",\"c\",\"c\",\"c\",\"c\",\"c\",\"c\",\"c\",\"c\",\"c\",\"c\",\"c\",\"c\",\"c\",\"c\",\"c\",\"c\",\"c\",\"c\",\"c\",\"c\",\"c\",\"c\",\"c\",\"c\",\"c\",\"c\",\"c\",\"c\",\"c\",\"c\",\"c\",\"c\",\"c\",\"c\",\"c\",\"c\",\"c\",\"c\",\"c\",\"c\",\"c\",\"c\",\"c\",\"c\",\"c\",\"c\",\"c\",\"c\",\"c\",\"c\",\"c\",\"c\",\"c\",\"c\",\"c\",\"c\",\"c\",\"c\",\"c\",\"c\",\"c\",\"c\",\"c\",\"c\",\"c\",\"c\",\"c\",\"c\",\"c\",\"c\",\"c\",\"c\",\"c\",\"c\",\"c\",\"c\",\"c\",\"c\",\"c\",\"c\",\"c\",\"c\",\"c\",\"c\",\"c\",\"c\",\"c\",\"c\",\"c\",\"c\",\"c\",\"c\",\"c\",\"c\",\"c\",\"c\",\"c\",\"c\",\"c\",\"c\",\"c\",\"c\",\"c\",\"c\",\"c\",\"c\",\"c\",\"c\",\"c\",\"c\",\"c\",\"c\",\"b\",\"b\",\"b\",\"b\",\"b\",\"b\",\"b\",\"b\",\"b\",\"b\",\"b\",\"b\",\"b\",\"b\",\"b\",\"b\",\"b\",\"b\",\"b\",\"b\",\"b\",\"b\",\"b\",\"b\",\"b\",\"b\",\"b\",\"b\",\"b\",\"b\",\"b\",\"b\",\"b\",\"b\",\"b\",\"b\",\"b\",\"b\",\"b\",\"b\",\"b\",\"b\",\"b\",\"b\",\"b\",\"b\",\"b\",\"b\",\"b\",\"b\",\"b\",\"b\",\"b\",\"b\",\"b\",\"b\",\"b\",\"b\",\"b\",\"b\",\"b\",\"b\",\"b\",\"b\",\"b\",\"b\",\"b\",\"b\",\"b\",\"b\",\"b\",\"b\",\"b\",\"b\",\"b\",\"b\",\"b\",\"b\",\"b\",\"b\",\"b\",\"b\",\"b\",\"b\",\"b\",\"b\",\"b\",\"b\",\"b\",\"b\",\"b\",\"b\",\"b\",\"b\",\"b\",\"b\",\"b\",\"b\",\"b\",\"b\",\"b\",\"b\",\"b\",\"b\",\"b\",\"b\",\"b\",\"b\",\"b\",\"b\",\"b\",\"b\",\"b\",\"b\",\"b\",\"b\",\"b\",\"b\",\"b\",\"b\",\"b\",\"b\",\"b\",\"b\",\"b\",\"b\",\"b\",\"b\",\"b\",\"b\",\"b\",\"b\",\"b\",\"b\",\"b\",\"b\",\"b\",\"b\",\"b\",\"b\",\"b\",\"b\",\"b\",\"b\",\"b\",\"b\",\"b\",\"b\",\"b\",\"b\",\"b\",\"b\",\"b\",\"b\",\"b\",\"b\",\"b\",\"b\",\"b\",\"b\",\"b\",\"b\",\"b\",\"b\",\"b\",\"b\",\"b\",\"b\",\"b\",\"b\",\"b\",\"b\",\"b\",\"b\",\"b\",\"b\",\"b\",\"b\",\"b\",\"b\",\"b\",\"b\",\"b\",\"b\",\"b\",\"b\",\"b\",\"b\",\"b\",\"b\",\"b\",\"b\",\"b\",\"b\",\"b\",\"b\",\"b\",\"b\",\"b\",\"b\",\"b\",\"b\",\"b\",\"b\",\"b\",\"b\",\"b\",\"b\",\"b\",\"b\",\"b\",\"b\",\"b\",\"b\",\"b\",\"b\",\"b\",\"b\",\"b\",\"b\",\"b\",\"b\",\"b\",\"b\",\"b\",\"b\",\"b\",\"b\",\"b\",\"b\",\"b\",\"b\",\"b\",\"b\",\"b\",\"b\",\"b\",\"b\",\"b\",\"b\",\"b\",\"b\",\"b\",\"b\",\"b\",\"b\",\"b\"],\n",
       "\"word\":[\"htasp\",\"mobmb\",\"vmubp\",\"pszcj\",\"mzxkb\",\"cmcgu\",\"dsget\",\"mldzu\",\"fnmat\",\"jofsp\",\"fyeer\",\"jwyih\",\"ixidh\",\"avcdt\",\"ofpit\",\"naarr\",\"lhrvm\",\"axvgx\",\"cwnvb\",\"lgeye\",\"jdlop\",\"kczlj\",\"sgtfa\",\"xelii\",\"rqcxf\",\"otfcy\",\"gerdm\",\"pjajf\",\"xabkt\",\"kfavv\",\"dpuge\",\"rrwqu\",\"mkpdk\",\"kqatf\",\"ogero\",\"tqaoz\",\"rtoaj\",\"ospmx\",\"cylmc\",\"hyuxd\",\"xjnqf\",\"bebvq\",\"dgakx\",\"lavym\",\"kgdxy\",\"ngjja\",\"cpbos\",\"sklyk\",\"drjik\",\"vbztg\",\"nhtmm\",\"zvous\",\"fovct\",\"juthe\",\"zyzkf\",\"szvvw\",\"akumc\",\"ihkhk\",\"claqj\",\"dlosp\",\"oqido\",\"wqltu\",\"epcbs\",\"xztcd\",\"gnmek\",\"gkdxv\",\"hpxzo\",\"lwqyu\",\"vwklm\",\"mjtnx\",\"wdkjl\",\"zbnsn\",\"tlqnv\",\"dycgn\",\"arnah\",\"vysyp\",\"zpztg\",\"zsifh\",\"mhwrb\",\"upgld\",\"khyat\",\"jooga\",\"mygyq\",\"jpjuz\",\"jaufm\",\"pimle\",\"mhxho\",\"xdoxb\",\"fwdft\",\"qwvao\",\"qrrpw\",\"jcgqk\",\"scvcr\",\"dmsli\",\"ohnwm\",\"klhlx\",\"zsszi\",\"jtfjt\",\"zapzd\",\"vljfv\",\"bftlf\",\"xnitd\",\"jfinz\",\"kbcvj\",\"qavex\",\"dpxju\",\"mllwu\",\"dmykn\",\"aemaf\",\"brydy\",\"bdadw\",\"siemm\",\"ljlpo\",\"dhbga\",\"xwkgc\",\"nxlma\",\"hofxo\",\"ualij\",\"ykjpf\",\"agvgn\",\"jeooy\",\"rropu\",\"tinwu\",\"rcxeh\",\"zkvnf\",\"eavzu\",\"rmlyy\",\"mhuby\",\"cqwxr\",\"auxku\",\"hrvbu\",\"plvsl\",\"ejnss\",\"llesf\",\"mvxyt\",\"rjtmo\",\"hfnlk\",\"vkdvn\",\"vuwzy\",\"unnbd\",\"ncgkn\",\"kopha\",\"jrypi\",\"kzsqw\",\"rlfrx\",\"mwwaf\",\"kixsd\",\"dyhjv\",\"rvpnq\",\"zndxa\",\"kydkf\",\"wmpyv\",\"irymm\",\"wheio\",\"sxkzv\",\"auylh\",\"ouhqu\",\"kzjyd\",\"vdwji\",\"saymi\",\"liogf\",\"ehbdq\",\"jyhil\",\"xvqqk\",\"dhfca\",\"qcyyb\",\"gmtqi\",\"bkbdo\",\"sdrng\",\"qwfmn\",\"uiboa\",\"rkmac\",\"oczfc\",\"ltegc\",\"unupb\",\"ajyul\",\"idpjr\",\"teybl\",\"jmzaq\",\"uqclp\",\"jyxgp\",\"apsry\",\"owgoa\",\"onbnb\",\"dlogf\",\"xwijk\",\"bnmqo\",\"jchwg\",\"wfogn\",\"amfjd\",\"lputo\",\"fdygd\",\"nphsy\",\"hlxkh\",\"huchy\",\"jdbrv\",\"vbmcl\",\"uhqrj\",\"tfout\",\"bwomu\",\"holni\",\"auaps\",\"vulqd\",\"oenwa\",\"qdodi\",\"sjonp\",\"bzxnw\",\"lykcv\",\"udviu\",\"lyzub\",\"kttuy\",\"cittk\",\"qqpnq\",\"yqncy\",\"kgtdw\",\"brqhv\",\"vknme\",\"hopvh\",\"tsvej\",\"oehdd\",\"mkwdz\",\"mxwcx\",\"pfaab\",\"bfmis\",\"qvupx\",\"jjpzh\",\"epnkp\",\"ikivc\",\"ynlgk\",\"axuhv\",\"eonuw\",\"yvuzi\",\"kacks\",\"puplz\",\"ncszz\",\"yqngf\",\"tesqm\",\"wbaqv\",\"tpaxr\",\"fqtex\",\"nehus\",\"xhbks\",\"epgzb\",\"ljsks\",\"rkuzq\",\"gkdxv\",\"cwnvb\",\"juthe\",\"ccfmt\",\"kczlj\",\"kgdxy\",\"mhxho\",\"yqngf\",\"jcgqk\",\"teybl\",\"oqido\",\"slwbu\",\"rrwqu\",\"jyxgp\",\"endvm\",\"eivrv\",\"ipfia\",\"wbtgd\",\"ospmx\",\"ejnss\",\"ryuar\",\"pifrq\",\"oohxg\",\"auxku\",\"mkpdk\",\"cqdsl\",\"oehdd\",\"jwyih\",\"tjjwz\",\"bftlf\",\"udviu\",\"wmpyv\",\"rcxeh\",\"scclr\",\"dtwum\",\"sklyk\",\"xwijk\",\"idpjr\",\"vvlqk\",\"jltli\",\"qozhx\",\"bebvq\",\"dmsli\",\"jkpbf\",\"ynxhk\",\"jjpzh\",\"naarr\",\"ukjrh\",\"cmcgu\",\"jqsxi\",\"auaps\",\"epnkp\",\"hrvbu\",\"luxxe\",\"rkame\",\"xelii\",\"ehbdq\",\"dcboq\",\"scjdo\",\"dhfca\",\"vgwha\",\"ynlgk\",\"ciems\",\"uiboa\",\"egpkl\",\"lizyh\",\"mevur\",\"yqncy\",\"mjuar\",\"jfinz\",\"loaxa\",\"bhgdg\",\"ayqps\",\"zpztg\",\"ngoxz\",\"amfjd\",\"xffom\",\"zmbzf\",\"wioga\",\"xxghf\",\"lgeye\",\"qdodi\",\"tkjog\",\"iwcsr\",\"rlfrx\",\"mgclx\",\"coyfd\",\"hofxo\",\"gerdm\",\"htasp\",\"kzsqw\",\"vljfv\",\"kgtdw\",\"innte\",\"qaksb\",\"ornqn\",\"brydy\",\"szvvw\",\"spyjp\",\"hwlto\",\"navwd\",\"upgld\",\"wdkjl\",\"sxkzv\",\"svmzg\",\"dyhjv\",\"uhufg\",\"grcsx\",\"dhbga\",\"vulqd\",\"juwad\",\"nnpwe\",\"rsjtn\",\"oenwa\",\"ulcsb\",\"dpopw\",\"nphsy\",\"hfnlk\",\"klxzy\",\"wvvil\",\"garhm\",\"zrrph\",\"pjajf\",\"mhwrb\",\"tmpjg\",\"fwdft\",\"gmtqi\",\"czvje\",\"hyuxd\",\"igdev\",\"jdbrv\",\"oxwth\",\"riane\",\"claqj\",\"cylmc\",\"uqclp\",\"cnaid\",\"eyoff\",\"ihkhk\",\"ccfoo\",\"lkffs\",\"lyzub\",\"jfalv\",\"vamdo\",\"dgakx\",\"vwklm\",\"haiky\",\"tfout\",\"iscdk\",\"rxqqw\",\"dpxju\",\"qrgnc\",\"qcyyb\",\"dxmun\",\"quumk\",\"khyat\",\"rmlyy\",\"xabkt\",\"oqcex\",\"flkrs\",\"zsifh\",\"fmpzn\",\"bzxnw\",\"dmykn\",\"fovct\",\"brqhv\",\"lwqyu\",\"jxqtb\",\"fqtex\",\"ahmlv\",\"cowtz\",\"vyzqw\",\"dsget\",\"siemm\",\"wcwur\",\"ofpit\",\"kydkf\",\"hlxkh\",\"kbcvj\",\"moycj\",\"tqaoz\",\"krgwm\",\"leqyh\",\"jigsu\",\"tamzs\",\"xdoxb\",\"skbil\",\"fdygd\",\"erjug\",\"htdcf\",\"bamfr\",\"ebzom\",\"ljlpo\",\"zvous\",\"llesf\",\"jofsp\",\"cpgwn\",\"auylh\",\"fqjue\",\"ouhqu\",\"jchwg\",\"gyqzs\",\"xjnqf\",\"dpoxp\",\"ngjja\",\"hmosn\",\"gnmek\",\"fnmat\",\"dlogf\",\"vbztg\",\"bnmqo\",\"eavzu\",\"wnvee\",\"zyzkf\",\"vxxwq\",\"nipze\",\"nehus\",\"dawlr\",\"ybsdf\",\"vbsll\",\"kzjyd\",\"mygyq\",\"yrpiq\",\"wbnsu\",\"nluvr\",\"zeedq\",\"wyoos\",\"lykcv\",\"gciqy\",\"bjhhf\",\"xivnf\",\"rtoaj\",\"klhlx\",\"xwijk\",\"teybl\",\"scjdo\",\"xoaal\",\"ukjrh\",\"mzxkb\",\"vrmif\",\"dcboq\",\"tzjoz\",\"moycj\",\"tmpjg\",\"szvvw\",\"sjonp\",\"irymm\",\"ljsks\",\"cwnvb\",\"wdkjl\",\"mjuar\",\"ilpnt\",\"cqdsl\",\"rmlrw\",\"jwyih\",\"jooax\",\"leqyh\",\"rcxeh\",\"axvgx\",\"rwvkv\",\"vmubp\",\"exunn\",\"peonk\",\"gyqzs\",\"xrmmy\",\"wcwur\",\"unupb\",\"ltejf\",\"xelii\",\"qcpgd\",\"nipze\",\"tfout\",\"ehroz\",\"claqj\",\"vljfv\",\"zpztg\",\"nluvr\",\"nphsy\",\"jofsp\",\"tlqnv\",\"jqhfs\",\"mkwdz\",\"sdqak\",\"tamzs\",\"slwbu\",\"bzxnw\",\"ikivc\",\"dgakx\",\"ydcyg\",\"zctso\",\"upgld\",\"brydy\",\"ihkhk\",\"bfmis\",\"zrrph\",\"rlfrx\",\"fdygd\",\"vxxwq\",\"bamfr\",\"kacks\",\"kttuy\",\"xilno\",\"agvgn\",\"eonuw\",\"jooga\",\"hmodm\",\"krgwm\",\"ftwpa\",\"jtspn\",\"idpjr\",\"rqcwk\",\"ofpit\",\"xffom\",\"qfxcx\",\"sxkzv\",\"udviu\",\"wowmh\",\"klkfx\",\"rkame\",\"akumc\",\"atfwv\",\"luxxe\",\"uiboa\",\"hrvbu\",\"dxmun\",\"siemm\",\"famqc\",\"saymi\",\"rmlyy\",\"gynrs\",\"tesqm\",\"ospmx\",\"avyea\",\"svhtr\",\"ifvwz\",\"drjik\",\"eivrv\",\"fmpzn\",\"zsszi\",\"aemaf\",\"xabkt\",\"qcyyb\",\"cgszi\",\"nphoe\",\"vaaio\",\"fcnga\",\"vuwzy\",\"dhfca\",\"iwcsr\",\"jpyrv\",\"mldzu\",\"mgclx\",\"ornqn\",\"ryuar\",\"khyat\",\"uqclp\",\"riane\",\"vqxck\",\"oymut\",\"skbil\",\"auxku\",\"avcdt\",\"jchwg\",\"vdwji\",\"qvupx\",\"wmpyv\",\"wusfa\",\"qveom\",\"zyzkf\",\"bebvq\",\"yrpiq\",\"rqcxf\",\"quumk\",\"kopha\",\"kdmzs\",\"epgzb\",\"ijdhi\",\"wbaqv\",\"otfcy\",\"txftu\",\"dpxju\",\"zkicz\",\"ogero\",\"oqcex\",\"erjug\",\"kzsqw\",\"ulcsb\",\"ggxyo\",\"uhqrj\",\"lykcv\",\"lgeye\",\"fovct\",\"kixsd\",\"xztcd\",\"cpgwn\",\"jpnwl\",\"naarr\",\"bhgdg\",\"hgktt\",\"juthe\",\"nnids\",\"epnkp\",\"oenwa\",\"dyhjv\",\"jqsxi\",\"hpxzo\",\"rkmac\",\"ixidh\",\"auaps\",\"qrrpw\",\"rvpnq\",\"luqkt\",\"cvveq\",\"qozhx\",\"ejnss\",\"hcnkk\",\"wvvil\",\"duxya\",\"shopu\",\"zvous\",\"eiqkv\",\"bwomu\",\"cpbos\",\"rropu\",\"dawlr\",\"ebzom\",\"tpaxr\",\"dhohn\",\"perpw\",\"hlxkh\",\"bdadw\",\"sklyk\",\"ehbdq\",\"jrypi\",\"jyxgp\",\"svmzg\",\"cowtz\",\"jcjrk\",\"htasp\",\"dpuge\",\"btxik\",\"vulqd\",\"mhwrb\",\"pszcj\",\"hbgai\",\"dycgn\",\"cohtl\",\"ccfmt\",\"fipzx\",\"yqngf\",\"ahmlv\",\"zmbzf\",\"fyeer\",\"jigsu\",\"hvjtt\",\"qdodi\",\"sgtfa\",\"qqpnq\",\"dmsli\",\"pcmez\",\"aaffs\",\"jeooy\",\"vnxbf\",\"bkbdo\",\"avqfo\",\"navwd\",\"nlrdw\",\"jaufm\",\"nxgob\",\"tjjwz\",\"dlogf\",\"kczlj\",\"lwqyu\",\"puplz\",\"ncszz\",\"ybsdf\",\"tinwu\",\"xxghf\",\"blxjn\",\"ljlpo\"]\n",
       "}\n",
       "}],\n",
       "\"data_meta\":{\n",
       "\"series_annotations\":[{\n",
       "\"type\":\"str\",\n",
       "\"column\":\"word\"\n",
       "}]\n",
       "}\n",
       "};\n",
       "           var plotContainer = document.getElementById(\"5bkQjU\");\n",
       "           window.letsPlotCall(function() {{\n",
       "               LetsPlot.buildPlotFromProcessedSpecs(plotSpec, -1, -1, plotContainer);\n",
       "           }});\n",
       "       })();\n",
       "   </script>"
      ]
     },
     "execution_count": 7,
     "metadata": {},
     "output_type": "execute_result"
    }
   ],
   "source": [
    "// Orgering words by `count` might be a good idea.\n",
    "p + geomBar(size = 0) {\n",
    "    fill = \"g\"\n",
    "    x = asDiscrete(\"word\", orderBy = \"..count..\")\n",
    "}"
   ]
  }
 ],
 "metadata": {
  "kernelspec": {
   "display_name": "Kotlin",
   "language": "kotlin",
   "name": "kotlin"
  },
  "language_info": {
   "codemirror_mode": "text/x-kotlin",
   "file_extension": ".kt",
   "mimetype": "text/x-kotlin",
   "name": "kotlin",
   "nbconvert_exporter": "",
   "pygments_lexer": "kotlin",
   "version": "1.9.23"
  }
 },
 "nbformat": 4,
 "nbformat_minor": 4
}
