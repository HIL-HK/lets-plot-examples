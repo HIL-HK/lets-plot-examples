{
 "cells": [
  {
   "cell_type": "code",
   "execution_count": 1,
   "id": "subjective-telling",
   "metadata": {
    "execution": {
     "iopub.execute_input": "2024-09-26T15:54:55.225808Z",
     "iopub.status.busy": "2024-09-26T15:54:55.224119Z",
     "iopub.status.idle": "2024-09-26T15:55:02.365652Z",
     "shell.execute_reply": "2024-09-26T15:55:02.365347Z"
    }
   },
   "outputs": [
    {
     "data": {
      "text/html": [
       "   <div id=\"p1TdF9\"></div>\n",
       "   <script type=\"text/javascript\" data-lets-plot-script=\"library\">\n",
       "       if(!window.letsPlotCallQueue) {\n",
       "           window.letsPlotCallQueue = [];\n",
       "       }; \n",
       "       window.letsPlotCall = function(f) {\n",
       "           window.letsPlotCallQueue.push(f);\n",
       "       };\n",
       "       (function() {\n",
       "           var script = document.createElement(\"script\");\n",
       "           script.type = \"text/javascript\";\n",
       "           script.src = \"https://cdn.jsdelivr.net/gh/JetBrains/lets-plot@v4.3.2/js-package/distr/lets-plot.min.js\";\n",
       "           script.onload = function() {\n",
       "               window.letsPlotCall = function(f) {f();};\n",
       "               window.letsPlotCallQueue.forEach(function(f) {f();});\n",
       "               window.letsPlotCallQueue = [];\n",
       "               \n",
       "               \n",
       "           };\n",
       "           script.onerror = function(event) {\n",
       "               window.letsPlotCall = function(f) {};\n",
       "               window.letsPlotCallQueue = [];\n",
       "               var div = document.createElement(\"div\");\n",
       "               div.style.color = 'darkred';\n",
       "               div.textContent = 'Error loading Lets-Plot JS';\n",
       "               document.getElementById(\"p1TdF9\").appendChild(div);\n",
       "           };\n",
       "           var e = document.getElementById(\"p1TdF9\");\n",
       "           e.appendChild(script);\n",
       "       })();\n",
       "   </script>"
      ]
     },
     "metadata": {},
     "output_type": "display_data"
    }
   ],
   "source": [
    "%useLatestDescriptors\n",
    "%use lets-plot\n"
   ]
  },
  {
   "cell_type": "code",
   "execution_count": 2,
   "id": "swiss-conservative",
   "metadata": {
    "execution": {
     "iopub.execute_input": "2024-09-26T15:55:02.368014Z",
     "iopub.status.busy": "2024-09-26T15:55:02.367523Z",
     "iopub.status.idle": "2024-09-26T15:55:02.393333Z",
     "shell.execute_reply": "2024-09-26T15:55:02.393049Z"
    }
   },
   "outputs": [],
   "source": [
    "// Set the 'grey' theme as a default plot theme.\n",
    "LetsPlot.theme = themeGrey()"
   ]
  },
  {
   "cell_type": "code",
   "execution_count": 3,
   "id": "affected-chancellor",
   "metadata": {
    "execution": {
     "iopub.execute_input": "2024-09-26T15:55:02.395810Z",
     "iopub.status.busy": "2024-09-26T15:55:02.395391Z",
     "iopub.status.idle": "2024-09-26T15:55:02.598906Z",
     "shell.execute_reply": "2024-09-26T15:55:02.598716Z"
    }
   },
   "outputs": [
    {
     "data": {
      "text/html": [
       "   <div id=\"Pzf3W1\"></div>\n",
       "   <script type=\"text/javascript\" data-lets-plot-script=\"plot\">\n",
       "       (function() {\n",
       "           var plotSpec={\n",
       "\"mapping\":{\n",
       "\"x\":\"x\",\n",
       "\"y\":\"y\"\n",
       "},\n",
       "\"data\":{\n",
       "\"x\":[1.0,2.0,3.0],\n",
       "\"y\":[1.0,2.0,3.0]\n",
       "},\n",
       "\"kind\":\"plot\",\n",
       "\"scales\":[],\n",
       "\"layers\":[{\n",
       "\"mapping\":{\n",
       "},\n",
       "\"stat\":\"identity\",\n",
       "\"size\":5.0,\n",
       "\"position\":\"identity\",\n",
       "\"geom\":\"point\",\n",
       "\"data\":{\n",
       "}\n",
       "}],\n",
       "\"theme\":{\n",
       "\"name\":\"grey\"\n",
       "}\n",
       "};\n",
       "           var plotContainer = document.getElementById(\"Pzf3W1\");\n",
       "           window.letsPlotCall(function() {{\n",
       "               LetsPlot.buildPlotFromProcessedSpecs(plotSpec, -1, -1, plotContainer);\n",
       "           }});\n",
       "       })();\n",
       "   </script>"
      ]
     },
     "execution_count": 3,
     "metadata": {},
     "output_type": "execute_result"
    }
   ],
   "source": [
    "val dat = mapOf(\"x\" to listOf(1, 2, 3), \"y\" to listOf(1, 2, 3))\n",
    "letsPlot(dat) {x = \"x\"; y = \"y\"} + geomPoint(size = 5)"
   ]
  }
 ],
 "metadata": {
  "kernelspec": {
   "display_name": "Kotlin",
   "language": "kotlin",
   "name": "kotlin"
  },
  "language_info": {
   "codemirror_mode": "text/x-kotlin",
   "file_extension": ".kt",
   "mimetype": "text/x-kotlin",
   "name": "kotlin",
   "nbconvert_exporter": "",
   "pygments_lexer": "kotlin",
   "version": "1.9.23"
  }
 },
 "nbformat": 4,
 "nbformat_minor": 5
}
