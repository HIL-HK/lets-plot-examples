{
 "cells": [
  {
   "cell_type": "markdown",
   "id": "68dbee24-cf81-471a-b331-3cf08d427e18",
   "metadata": {
    "editable": true,
    "slideshow": {
     "slide_type": ""
    },
    "tags": []
   },
   "source": [
    "# Option to show/hide plot messages\n",
    "\n",
    "The option `plotMessage` allows to hide messages produced by sampling."
   ]
  },
  {
   "cell_type": "code",
   "execution_count": 1,
   "id": "ea0aa561-34ee-4890-abd5-6bfa93863c30",
   "metadata": {
    "editable": true,
    "execution": {
     "iopub.execute_input": "2024-09-30T08:17:15.160967Z",
     "iopub.status.busy": "2024-09-30T08:17:15.159157Z",
     "iopub.status.idle": "2024-09-30T08:17:17.357074Z",
     "shell.execute_reply": "2024-09-30T08:17:17.356785Z"
    },
    "slideshow": {
     "slide_type": ""
    },
    "tags": []
   },
   "outputs": [
    {
     "data": {
      "text/html": [
       "   <div id=\"VFa8LD\"></div>\n",
       "   <script type=\"text/javascript\" data-lets-plot-script=\"library\">\n",
       "       if(!window.letsPlotCallQueue) {\n",
       "           window.letsPlotCallQueue = [];\n",
       "       }; \n",
       "       window.letsPlotCall = function(f) {\n",
       "           window.letsPlotCallQueue.push(f);\n",
       "       };\n",
       "       (function() {\n",
       "           var script = document.createElement(\"script\");\n",
       "           script.type = \"text/javascript\";\n",
       "           script.src = \"https://cdn.jsdelivr.net/gh/JetBrains/lets-plot@v4.4.1/js-package/distr/lets-plot.min.js\";\n",
       "           script.onload = function() {\n",
       "               window.letsPlotCall = function(f) {f();};\n",
       "               window.letsPlotCallQueue.forEach(function(f) {f();});\n",
       "               window.letsPlotCallQueue = [];\n",
       "               \n",
       "               \n",
       "           };\n",
       "           script.onerror = function(event) {\n",
       "               window.letsPlotCall = function(f) {};\n",
       "               window.letsPlotCallQueue = [];\n",
       "               var div = document.createElement(\"div\");\n",
       "               div.style.color = 'darkred';\n",
       "               div.textContent = 'Error loading Lets-Plot JS';\n",
       "               document.getElementById(\"VFa8LD\").appendChild(div);\n",
       "           };\n",
       "           var e = document.getElementById(\"VFa8LD\");\n",
       "           e.appendChild(script);\n",
       "       })();\n",
       "   </script>"
      ]
     },
     "metadata": {},
     "output_type": "display_data"
    }
   ],
   "source": [
    "%useLatestDescriptors\n",
    "%use lets-plot"
   ]
  },
  {
   "cell_type": "code",
   "execution_count": 2,
   "id": "46159eb1-3fb7-49de-b748-1fa76fde073e",
   "metadata": {
    "editable": true,
    "execution": {
     "iopub.execute_input": "2024-09-30T08:17:17.359319Z",
     "iopub.status.busy": "2024-09-30T08:17:17.358881Z",
     "iopub.status.idle": "2024-09-30T08:17:17.419877Z",
     "shell.execute_reply": "2024-09-30T08:17:17.419613Z"
    },
    "slideshow": {
     "slide_type": ""
    },
    "tags": []
   },
   "outputs": [],
   "source": [
    "val d = mapOf(\"x\" to MutableList(11) { it })"
   ]
  },
  {
   "cell_type": "code",
   "execution_count": 3,
   "id": "74defcf1-3a30-4762-abbd-14654a260973",
   "metadata": {
    "editable": true,
    "execution": {
     "iopub.execute_input": "2024-09-30T08:17:17.421436Z",
     "iopub.status.busy": "2024-09-30T08:17:17.421138Z",
     "iopub.status.idle": "2024-09-30T08:17:17.570905Z",
     "shell.execute_reply": "2024-09-30T08:17:17.571091Z"
    },
    "slideshow": {
     "slide_type": ""
    },
    "tags": []
   },
   "outputs": [
    {
     "data": {
      "text/html": [
       "   <div id=\"nK4RdX\"></div>\n",
       "   <script type=\"text/javascript\" data-lets-plot-script=\"plot\">\n",
       "       (function() {\n",
       "           var plotSpec={\n",
       "\"mapping\":{\n",
       "},\n",
       "\"data\":{\n",
       "},\n",
       "\"kind\":\"plot\",\n",
       "\"scales\":[],\n",
       "\"layers\":[{\n",
       "\"mapping\":{\n",
       "\"x\":\"x\"\n",
       "},\n",
       "\"stat\":\"identity\",\n",
       "\"sampling\":{\n",
       "\"n\":10.0,\n",
       "\"name\":\"random\"\n",
       "},\n",
       "\"position\":\"identity\",\n",
       "\"geom\":\"point\",\n",
       "\"data\":{\n",
       "\"x\":[0.0,1.0,2.0,4.0,5.0,6.0,7.0,8.0,9.0,10.0]\n",
       "}\n",
       "}],\n",
       "\"data_meta\":{\n",
       "\"series_annotations\":[{\n",
       "\"type\":\"int\",\n",
       "\"column\":\"x\"\n",
       "}]\n",
       "},\n",
       "\"computation_messages\":[\"sampling_random(n=10) was applied to [point/identity stat] layer\"]\n",
       "};\n",
       "           var plotContainer = document.getElementById(\"nK4RdX\");\n",
       "           window.letsPlotCall(function() {{\n",
       "               LetsPlot.buildPlotFromProcessedSpecs(plotSpec, -1, -1, plotContainer);\n",
       "           }});\n",
       "       })();\n",
       "   </script>"
      ]
     },
     "execution_count": 3,
     "metadata": {},
     "output_type": "execute_result"
    }
   ],
   "source": [
    "val p = letsPlot(d) + geomPoint(sampling = samplingRandom(n = 10)) { x = \"x\" }\n",
    "p"
   ]
  },
  {
   "cell_type": "markdown",
   "id": "83304039-01a4-40f9-862b-c428bc97f7e0",
   "metadata": {},
   "source": [
    "### Using the `plotMessage` parameter\n",
    "Use `elementBlank()` to show no messages, or `elementText()` to show sampling messages. Note that `elementText()` options don't affect a message text."
   ]
  },
  {
   "cell_type": "code",
   "execution_count": 4,
   "id": "61d91358-85cc-44cb-a1cc-c52ca61c43db",
   "metadata": {
    "editable": true,
    "execution": {
     "iopub.execute_input": "2024-09-30T08:17:17.573603Z",
     "iopub.status.busy": "2024-09-30T08:17:17.573162Z",
     "iopub.status.idle": "2024-09-30T08:17:17.632973Z",
     "shell.execute_reply": "2024-09-30T08:17:17.632702Z"
    },
    "slideshow": {
     "slide_type": ""
    },
    "tags": []
   },
   "outputs": [
    {
     "data": {
      "text/html": [
       "   <div id=\"XDcRl0\"></div>\n",
       "   <script type=\"text/javascript\" data-lets-plot-script=\"plot\">\n",
       "       (function() {\n",
       "           var plotSpec={\n",
       "\"mapping\":{\n",
       "},\n",
       "\"data\":{\n",
       "},\n",
       "\"kind\":\"plot\",\n",
       "\"scales\":[],\n",
       "\"layers\":[{\n",
       "\"mapping\":{\n",
       "\"x\":\"x\"\n",
       "},\n",
       "\"stat\":\"identity\",\n",
       "\"sampling\":{\n",
       "\"n\":10.0,\n",
       "\"name\":\"random\"\n",
       "},\n",
       "\"position\":\"identity\",\n",
       "\"geom\":\"point\",\n",
       "\"data\":{\n",
       "\"x\":[0.0,1.0,2.0,3.0,4.0,6.0,7.0,8.0,9.0,10.0]\n",
       "}\n",
       "}],\n",
       "\"theme\":{\n",
       "\"plot_message\":{\n",
       "\"blank\":true\n",
       "}\n",
       "},\n",
       "\"data_meta\":{\n",
       "\"series_annotations\":[{\n",
       "\"type\":\"int\",\n",
       "\"column\":\"x\"\n",
       "}]\n",
       "}\n",
       "};\n",
       "           var plotContainer = document.getElementById(\"XDcRl0\");\n",
       "           window.letsPlotCall(function() {{\n",
       "               LetsPlot.buildPlotFromProcessedSpecs(plotSpec, -1, -1, plotContainer);\n",
       "           }});\n",
       "       })();\n",
       "   </script>"
      ]
     },
     "execution_count": 4,
     "metadata": {},
     "output_type": "execute_result"
    }
   ],
   "source": [
    "p + theme(plotMessage=elementBlank())"
   ]
  },
  {
   "cell_type": "markdown",
   "id": "26e5886e-e3e5-4fcc-bfab-3cea5ac3ffa0",
   "metadata": {},
   "source": [
    "### Hiding plot messages for the whole notebook\n",
    "\n",
    "Using the `LestPlot.theme` property messages can be suppressed for the whole notebook."
   ]
  },
  {
   "cell_type": "code",
   "execution_count": 5,
   "id": "f6f2ee74-8d2e-4fa0-b5dc-44b0bd16c74f",
   "metadata": {
    "execution": {
     "iopub.execute_input": "2024-09-30T08:17:17.635103Z",
     "iopub.status.busy": "2024-09-30T08:17:17.634653Z",
     "iopub.status.idle": "2024-09-30T08:17:17.663090Z",
     "shell.execute_reply": "2024-09-30T08:17:17.662919Z"
    }
   },
   "outputs": [],
   "source": [
    "LetsPlot.theme = theme(plotMessage = elementBlank())"
   ]
  },
  {
   "cell_type": "code",
   "execution_count": 6,
   "id": "f038cfd6-216d-41e1-a415-c1f7c3219107",
   "metadata": {
    "execution": {
     "iopub.execute_input": "2024-09-30T08:17:17.664980Z",
     "iopub.status.busy": "2024-09-30T08:17:17.664577Z",
     "iopub.status.idle": "2024-09-30T08:17:17.726518Z",
     "shell.execute_reply": "2024-09-30T08:17:17.726384Z"
    }
   },
   "outputs": [
    {
     "data": {
      "text/html": [
       "   <div id=\"thIqQr\"></div>\n",
       "   <script type=\"text/javascript\" data-lets-plot-script=\"plot\">\n",
       "       (function() {\n",
       "           var plotSpec={\n",
       "\"mapping\":{\n",
       "},\n",
       "\"data\":{\n",
       "},\n",
       "\"kind\":\"plot\",\n",
       "\"scales\":[],\n",
       "\"layers\":[{\n",
       "\"mapping\":{\n",
       "\"x\":\"x\"\n",
       "},\n",
       "\"stat\":\"identity\",\n",
       "\"sampling\":{\n",
       "\"n\":10.0,\n",
       "\"name\":\"random\"\n",
       "},\n",
       "\"position\":\"identity\",\n",
       "\"geom\":\"point\",\n",
       "\"data\":{\n",
       "\"x\":[1.0,2.0,3.0,4.0,5.0,6.0,7.0,8.0,9.0,10.0]\n",
       "}\n",
       "}],\n",
       "\"theme\":{\n",
       "\"plot_message\":{\n",
       "\"blank\":true\n",
       "}\n",
       "},\n",
       "\"data_meta\":{\n",
       "\"series_annotations\":[{\n",
       "\"type\":\"int\",\n",
       "\"column\":\"x\"\n",
       "}]\n",
       "}\n",
       "};\n",
       "           var plotContainer = document.getElementById(\"thIqQr\");\n",
       "           window.letsPlotCall(function() {{\n",
       "               LetsPlot.buildPlotFromProcessedSpecs(plotSpec, -1, -1, plotContainer);\n",
       "           }});\n",
       "       })();\n",
       "   </script>"
      ]
     },
     "execution_count": 6,
     "metadata": {},
     "output_type": "execute_result"
    }
   ],
   "source": [
    "letsPlot(d) + geomPoint(sampling = samplingRandom(n = 10)) { x = \"x\" }"
   ]
  }
 ],
 "metadata": {
  "kernelspec": {
   "display_name": "Kotlin",
   "language": "kotlin",
   "name": "kotlin"
  },
  "language_info": {
   "codemirror_mode": "text/x-kotlin",
   "file_extension": ".kt",
   "mimetype": "text/x-kotlin",
   "name": "kotlin",
   "nbconvert_exporter": "",
   "pygments_lexer": "kotlin",
   "version": "1.9.23"
  }
 },
 "nbformat": 4,
 "nbformat_minor": 5
}
