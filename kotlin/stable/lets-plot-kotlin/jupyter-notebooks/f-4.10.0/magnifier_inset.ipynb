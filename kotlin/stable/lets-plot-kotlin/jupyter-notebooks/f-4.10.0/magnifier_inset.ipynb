{
 "cells": [
  {
   "cell_type": "markdown",
   "id": "941a850c-2fed-4735-81de-bda682f73c9b",
   "metadata": {},
   "source": [
    "# Creating Magnifier Inset Effect with `ggbunch()`\n",
    "The `ggbunch()` here combines two plots into a single figure with custom layout - a main scatter plot showing diamond price vs. carat weight colored by cut quality, and a zoomed-in inset that magnifies a specific region of interest."
   ]
  },
  {
   "cell_type": "code",
   "execution_count": null,
   "id": "0fb4fffe-dc18-4ad6-b8ca-2806c52f6034",
   "metadata": {},
   "outputs": [],
   "source": [
    "%useLatestDescriptors\n",
    "%use dataframe\n",
    "%use lets-plot"
   ]
  },
  {
   "cell_type": "code",
   "execution_count": null,
   "id": "0d010ed4-3649-4c64-9afb-eccee2692c8f",
   "metadata": {},
   "outputs": [],
   "source": [
    "LetsPlot.getInfo()"
   ]
  },
  {
   "cell_type": "code",
   "execution_count": null,
   "id": "f6f90fed-4ff7-4185-b593-28c6e976fdc2",
   "metadata": {},
   "outputs": [],
   "source": [
    "val df = DataFrame.readCSV(\"https://raw.githubusercontent.com/JetBrains/lets-plot-docs/refs/heads/master/data/diamonds.csv\")\n",
    "print(df.size())\n",
    "df.head(3)"
   ]
  },
  {
   "cell_type": "code",
   "execution_count": null,
   "id": "4002d6c1-156a-4d21-b82e-229542d1c7e5",
   "metadata": {},
   "outputs": [],
   "source": [
    "// Convert the 'cut' column to categorical data type with specified order\n",
    "val cutCategories = listOf(\"Fair\", \"Good\", \"Very Good\", \"Premium\", \"Ideal\")\n",
    "\n",
    "val pBase = (letsPlot(df.toMap()) { x = \"carat\"; y = \"price\"\n",
    "                                    color = asDiscrete(\"cut\", levels=cutCategories)\n",
    "                                  }\n",
    " + geomPoint() \n",
    " + geomSmooth(deg=2, size=1, tooltips=tooltipsNone)\n",
    " + scaleColorViridis(direction=-1)\n",
    ")"
   ]
  },
  {
   "cell_type": "code",
   "execution_count": null,
   "id": "02746628-519f-4a31-a941-89286e22fbb7",
   "metadata": {},
   "outputs": [],
   "source": [
    "// The region of interest\n",
    "val caratMin = 2.1\n",
    "val caratMax = 2.7\n",
    "val priceMin = 12650\n",
    "val priceMax = 17100"
   ]
  },
  {
   "cell_type": "code",
   "execution_count": null,
   "id": "7990822f-7392-4966-bf90-0b8c444b9831",
   "metadata": {},
   "outputs": [],
   "source": [
    "// The main plot\n",
    "val pMain = (pBase\n",
    "    + geomRect(\n",
    "        xmin = caratMin,\n",
    "        xmax = caratMax,\n",
    "        ymin = priceMin,\n",
    "        ymax = priceMax,\n",
    "        alpha = 0.4, \n",
    "        inheritAes = false, \n",
    "        fill = \"white\"\n",
    "    )\n",
    "    + themeGrey()\n",
    "    + coordCartesian(ylim = Pair(0, 20000))\n",
    "    + theme()\n",
    "        .legendPosition(0.58, 0.02)\n",
    "        .legendJustification(0, 0)\n",
    ")\n",
    "\n",
    "pMain"
   ]
  },
  {
   "cell_type": "code",
   "execution_count": null,
   "id": "9ac8fbdd-ea65-41f9-aff5-14685d68df97",
   "metadata": {},
   "outputs": [],
   "source": [
    "// The 'magnifier' plot\n",
    "val pMag = (pBase\n",
    "    + themeMinimal()\n",
    "    + coordCartesian(\n",
    "        xlim = Pair(caratMin, caratMax),\n",
    "        ylim = Pair(priceMin, priceMax)\n",
    "    )\n",
    "    + themeVoid()\n",
    "    + theme(plotInset = 0).legendPositionNone() \n",
    ")\n",
    "\n",
    "pMag"
   ]
  },
  {
   "cell_type": "code",
   "execution_count": null,
   "id": "6c2b101e-9cce-42ee-aae7-f975ae2f40c9",
   "metadata": {},
   "outputs": [],
   "source": [
    "ggbunch(\n",
    "    plots = listOf(\n",
    "        pMain + geomSegment(\n",
    "                x = caratMin, \n",
    "                y = priceMin, \n",
    "                xend = 4.30, \n",
    "                yend = 5800, \n",
    "                inheritAes = false, \n",
    "                size = 0.5\n",
    "        ) + geomSegment(\n",
    "                x = caratMin, \n",
    "                y = priceMax, \n",
    "                xend = 4.30, \n",
    "                yend = 19100, \n",
    "                inheritAes = false, \n",
    "                size = 0.5\n",
    "        ),\n",
    "        pMag + theme(plotBackground = elementRect(size = 2, fill = \"rgba(255, 255, 255, 0.7)\"))\n",
    "    ),\n",
    "    regions = listOf(\n",
    "        listOf(0, 0, 0.9, 1),\n",
    "        listOf(0.75, 0.05, 0.25, 0.6)\n",
    "    )\n",
    ") + \n",
    "ggsize(900, 600) +\n",
    "ggtitle(\"Diamond Price vs. Carat Weight by Cut Quality\") +\n",
    "theme(plotTitle = elementText(hjust = 0.5, size = 18))\n"
   ]
  }
 ],
 "metadata": {
  "kernelspec": {
   "display_name": "Kotlin",
   "language": "kotlin",
   "name": "kotlin"
  },
  "language_info": {
   "codemirror_mode": "text/x-kotlin",
   "file_extension": ".kt",
   "mimetype": "text/x-kotlin",
   "name": "kotlin",
   "nbconvert_exporter": "",
   "pygments_lexer": "kotlin",
   "version": "1.9.23"
  }
 },
 "nbformat": 4,
 "nbformat_minor": 5
}
