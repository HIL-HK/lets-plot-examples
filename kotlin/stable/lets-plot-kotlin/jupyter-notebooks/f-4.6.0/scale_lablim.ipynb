{
 "cells": [
  {
   "cell_type": "markdown",
   "id": "667912ba",
   "metadata": {},
   "source": [
    "# Limiting Labels Length for Axis and Legends\n",
    "\n",
    "Use the `lablim` parameter in `scaleXxx()` functions to specify the maximum length (number of characters) of labels for correspondent axis or legend.\n",
    "\n",
    "Labels exceeding the specified maximum lenfth will be trimmed."
   ]
  },
  {
   "cell_type": "code",
   "execution_count": 1,
   "id": "71955ca7",
   "metadata": {
    "execution": {
     "iopub.execute_input": "2024-09-30T08:17:38.552963Z",
     "iopub.status.busy": "2024-09-30T08:17:38.551049Z",
     "iopub.status.idle": "2024-09-30T08:17:40.762858Z",
     "shell.execute_reply": "2024-09-30T08:17:40.762526Z"
    }
   },
   "outputs": [
    {
     "data": {
      "text/html": [
       "   <div id=\"OKthuG\"></div>\n",
       "   <script type=\"text/javascript\" data-lets-plot-script=\"library\">\n",
       "       if(!window.letsPlotCallQueue) {\n",
       "           window.letsPlotCallQueue = [];\n",
       "       }; \n",
       "       window.letsPlotCall = function(f) {\n",
       "           window.letsPlotCallQueue.push(f);\n",
       "       };\n",
       "       (function() {\n",
       "           var script = document.createElement(\"script\");\n",
       "           script.type = \"text/javascript\";\n",
       "           script.src = \"https://cdn.jsdelivr.net/gh/JetBrains/lets-plot@v4.4.1/js-package/distr/lets-plot.min.js\";\n",
       "           script.onload = function() {\n",
       "               window.letsPlotCall = function(f) {f();};\n",
       "               window.letsPlotCallQueue.forEach(function(f) {f();});\n",
       "               window.letsPlotCallQueue = [];\n",
       "               \n",
       "               \n",
       "           };\n",
       "           script.onerror = function(event) {\n",
       "               window.letsPlotCall = function(f) {};\n",
       "               window.letsPlotCallQueue = [];\n",
       "               var div = document.createElement(\"div\");\n",
       "               div.style.color = 'darkred';\n",
       "               div.textContent = 'Error loading Lets-Plot JS';\n",
       "               document.getElementById(\"OKthuG\").appendChild(div);\n",
       "           };\n",
       "           var e = document.getElementById(\"OKthuG\");\n",
       "           e.appendChild(script);\n",
       "       })();\n",
       "   </script>"
      ]
     },
     "metadata": {},
     "output_type": "display_data"
    }
   ],
   "source": [
    "%useLatestDescriptors\n",
    "%use lets-plot"
   ]
  },
  {
   "cell_type": "code",
   "execution_count": 2,
   "id": "37bf065c",
   "metadata": {
    "execution": {
     "iopub.execute_input": "2024-09-30T08:17:40.765356Z",
     "iopub.status.busy": "2024-09-30T08:17:40.764881Z",
     "iopub.status.idle": "2024-09-30T08:17:40.802267Z",
     "shell.execute_reply": "2024-09-30T08:17:40.802473Z"
    }
   },
   "outputs": [
    {
     "data": {
      "text/plain": [
       "Lets-Plot Kotlin API v.4.8.0. Frontend: Notebook with dynamically loaded JS. Lets-Plot JS v.4.4.1."
      ]
     },
     "execution_count": 2,
     "metadata": {},
     "output_type": "execute_result"
    }
   ],
   "source": [
    "LetsPlot.getInfo()"
   ]
  },
  {
   "cell_type": "markdown",
   "id": "af123880",
   "metadata": {},
   "source": [
    "#### 1. Long Labels without Trimming"
   ]
  },
  {
   "cell_type": "code",
   "execution_count": 3,
   "id": "74d9efb4",
   "metadata": {
    "execution": {
     "iopub.execute_input": "2024-09-30T08:17:40.805422Z",
     "iopub.status.busy": "2024-09-30T08:17:40.804975Z",
     "iopub.status.idle": "2024-09-30T08:17:40.983814Z",
     "shell.execute_reply": "2024-09-30T08:17:40.983923Z"
    }
   },
   "outputs": [
    {
     "data": {
      "text/html": [
       "   <div id=\"ykpjtg\"></div>\n",
       "   <script type=\"text/javascript\" data-lets-plot-script=\"plot\">\n",
       "       (function() {\n",
       "           var plotSpec={\n",
       "\"mapping\":{\n",
       "\"x\":\"x\",\n",
       "\"color\":\"x\"\n",
       "},\n",
       "\"data\":{\n",
       "\"x\":[\"A picture is worth a thousand words\",\"Make a long story short\"]\n",
       "},\n",
       "\"kind\":\"plot\",\n",
       "\"scales\":[],\n",
       "\"layers\":[{\n",
       "\"mapping\":{\n",
       "},\n",
       "\"stat\":\"identity\",\n",
       "\"size\":7.0,\n",
       "\"position\":\"identity\",\n",
       "\"geom\":\"point\",\n",
       "\"data\":{\n",
       "}\n",
       "}],\n",
       "\"data_meta\":{\n",
       "\"series_annotations\":[{\n",
       "\"type\":\"str\",\n",
       "\"column\":\"x\"\n",
       "}]\n",
       "}\n",
       "};\n",
       "           var plotContainer = document.getElementById(\"ykpjtg\");\n",
       "           window.letsPlotCall(function() {{\n",
       "               LetsPlot.buildPlotFromProcessedSpecs(plotSpec, -1, -1, plotContainer);\n",
       "           }});\n",
       "       })();\n",
       "   </script>"
      ]
     },
     "execution_count": 3,
     "metadata": {},
     "output_type": "execute_result"
    }
   ],
   "source": [
    "val data = mapOf(\n",
    "    \"x\" to listOf(\"A picture is worth a thousand words\", \"Make a long story short\")\n",
    ")\n",
    "\n",
    "val p = letsPlot(data) { x = \"x\"; color = \"x\" } + geomPoint(size = 7)\n",
    "p"
   ]
  },
  {
   "cell_type": "markdown",
   "id": "a71965ae",
   "metadata": {},
   "source": [
    "#### 2. Use `lablim` Parameter to Trim X-Axis Labels"
   ]
  },
  {
   "cell_type": "code",
   "execution_count": 4,
   "id": "4fb52193",
   "metadata": {
    "execution": {
     "iopub.execute_input": "2024-09-30T08:17:40.985911Z",
     "iopub.status.busy": "2024-09-30T08:17:40.985292Z",
     "iopub.status.idle": "2024-09-30T08:17:41.046421Z",
     "shell.execute_reply": "2024-09-30T08:17:41.046015Z"
    }
   },
   "outputs": [
    {
     "data": {
      "text/html": [
       "   <div id=\"99DKda\"></div>\n",
       "   <script type=\"text/javascript\" data-lets-plot-script=\"plot\">\n",
       "       (function() {\n",
       "           var plotSpec={\n",
       "\"mapping\":{\n",
       "\"x\":\"x\",\n",
       "\"color\":\"x\"\n",
       "},\n",
       "\"data\":{\n",
       "\"x\":[\"A picture is worth a thousand words\",\"Make a long story short\"]\n",
       "},\n",
       "\"kind\":\"plot\",\n",
       "\"scales\":[{\n",
       "\"aesthetic\":\"x\",\n",
       "\"discrete\":true,\n",
       "\"lablim\":10\n",
       "}],\n",
       "\"layers\":[{\n",
       "\"mapping\":{\n",
       "},\n",
       "\"stat\":\"identity\",\n",
       "\"size\":7.0,\n",
       "\"position\":\"identity\",\n",
       "\"geom\":\"point\",\n",
       "\"data\":{\n",
       "}\n",
       "}],\n",
       "\"data_meta\":{\n",
       "\"series_annotations\":[{\n",
       "\"type\":\"str\",\n",
       "\"column\":\"x\"\n",
       "}]\n",
       "}\n",
       "};\n",
       "           var plotContainer = document.getElementById(\"99DKda\");\n",
       "           window.letsPlotCall(function() {{\n",
       "               LetsPlot.buildPlotFromProcessedSpecs(plotSpec, -1, -1, plotContainer);\n",
       "           }});\n",
       "       })();\n",
       "   </script>"
      ]
     },
     "execution_count": 4,
     "metadata": {},
     "output_type": "execute_result"
    }
   ],
   "source": [
    "p + scaleXDiscrete(lablim = 10)"
   ]
  }
 ],
 "metadata": {
  "kernelspec": {
   "display_name": "Kotlin",
   "language": "kotlin",
   "name": "kotlin"
  },
  "language_info": {
   "codemirror_mode": "text/x-kotlin",
   "file_extension": ".kt",
   "mimetype": "text/x-kotlin",
   "name": "kotlin",
   "nbconvert_exporter": "",
   "pygments_lexer": "kotlin",
   "version": "1.9.23"
  }
 },
 "nbformat": 4,
 "nbformat_minor": 5
}
