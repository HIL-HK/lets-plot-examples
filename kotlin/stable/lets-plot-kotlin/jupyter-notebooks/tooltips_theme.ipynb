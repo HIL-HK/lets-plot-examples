{
 "cells": [
  {
   "cell_type": "code",
   "execution_count": 1,
   "id": "human-easter",
   "metadata": {
    "execution": {
     "iopub.execute_input": "2024-09-29T03:07:27.180326Z",
     "iopub.status.busy": "2024-09-29T03:07:27.178518Z",
     "iopub.status.idle": "2024-09-29T03:07:29.420755Z",
     "shell.execute_reply": "2024-09-29T03:07:29.420397Z"
    }
   },
   "outputs": [
    {
     "data": {
      "text/html": [
       "   <div id=\"F9OBZ1\"></div>\n",
       "   <script type=\"text/javascript\" data-lets-plot-script=\"library\">\n",
       "       if(!window.letsPlotCallQueue) {\n",
       "           window.letsPlotCallQueue = [];\n",
       "       }; \n",
       "       window.letsPlotCall = function(f) {\n",
       "           window.letsPlotCallQueue.push(f);\n",
       "       };\n",
       "       (function() {\n",
       "           var script = document.createElement(\"script\");\n",
       "           script.type = \"text/javascript\";\n",
       "           script.src = \"https://cdn.jsdelivr.net/gh/JetBrains/lets-plot@v4.4.1/js-package/distr/lets-plot.min.js\";\n",
       "           script.onload = function() {\n",
       "               window.letsPlotCall = function(f) {f();};\n",
       "               window.letsPlotCallQueue.forEach(function(f) {f();});\n",
       "               window.letsPlotCallQueue = [];\n",
       "               \n",
       "               \n",
       "           };\n",
       "           script.onerror = function(event) {\n",
       "               window.letsPlotCall = function(f) {};\n",
       "               window.letsPlotCallQueue = [];\n",
       "               var div = document.createElement(\"div\");\n",
       "               div.style.color = 'darkred';\n",
       "               div.textContent = 'Error loading Lets-Plot JS';\n",
       "               document.getElementById(\"F9OBZ1\").appendChild(div);\n",
       "           };\n",
       "           var e = document.getElementById(\"F9OBZ1\");\n",
       "           e.appendChild(script);\n",
       "       })();\n",
       "   </script>"
      ]
     },
     "metadata": {},
     "output_type": "display_data"
    }
   ],
   "source": [
    "%useLatestDescriptors\n",
    "%use lets-plot\n"
   ]
  },
  {
   "cell_type": "code",
   "execution_count": 2,
   "id": "short-render",
   "metadata": {
    "execution": {
     "iopub.execute_input": "2024-09-29T03:07:29.423139Z",
     "iopub.status.busy": "2024-09-29T03:07:29.422713Z",
     "iopub.status.idle": "2024-09-29T03:07:29.607795Z",
     "shell.execute_reply": "2024-09-29T03:07:29.607909Z"
    }
   },
   "outputs": [
    {
     "data": {
      "text/html": [
       "   <div id=\"8saZvF\"></div>\n",
       "   <script type=\"text/javascript\" data-lets-plot-script=\"plot\">\n",
       "       (function() {\n",
       "           var plotSpec={\n",
       "\"mapping\":{\n",
       "},\n",
       "\"data\":{\n",
       "\"x\":[0.0,1.0],\n",
       "\"y\":[0.0,1.0]\n",
       "},\n",
       "\"kind\":\"plot\",\n",
       "\"scales\":[],\n",
       "\"layers\":[{\n",
       "\"mapping\":{\n",
       "\"x\":\"x\",\n",
       "\"y\":\"y\"\n",
       "},\n",
       "\"stat\":\"identity\",\n",
       "\"position\":\"identity\",\n",
       "\"geom\":\"tile\",\n",
       "\"fill\":\"light-gray\",\n",
       "\"tooltips\":{\n",
       "\"title\":\"Tooltip title\",\n",
       "\"lines\":[\"label|value\"]\n",
       "},\n",
       "\"data\":{\n",
       "}\n",
       "}],\n",
       "\"data_meta\":{\n",
       "\"series_annotations\":[{\n",
       "\"type\":\"int\",\n",
       "\"column\":\"x\"\n",
       "},{\n",
       "\"type\":\"int\",\n",
       "\"column\":\"y\"\n",
       "}]\n",
       "}\n",
       "};\n",
       "           var plotContainer = document.getElementById(\"8saZvF\");\n",
       "           window.letsPlotCall(function() {{\n",
       "               LetsPlot.buildPlotFromProcessedSpecs(plotSpec, -1, -1, plotContainer);\n",
       "           }});\n",
       "       })();\n",
       "   </script>"
      ]
     },
     "execution_count": 2,
     "metadata": {},
     "output_type": "execute_result"
    }
   ],
   "source": [
    "val dat = mapOf(\"x\" to 0..1, \"y\" to 0..1)\n",
    "val p = letsPlot(dat) +\n",
    "        geomTile(fill = \"light-gray\", tooltips = layerTooltips().title(\"Tooltip title\").line(\"label|value\")) {\n",
    "            x = \"x\"\n",
    "            y = \"y\"\n",
    "        }\n",
    "p"
   ]
  },
  {
   "cell_type": "markdown",
   "id": "nonprofit-usage",
   "metadata": {},
   "source": [
    "### Tooltip properties in theme:\n",
    "\n",
    "- `tooltip` - tooltip rectangle;\n",
    "- `tooltipText` - text in general tooltip;\n",
    "- `tooltipTitleText` - tooltip title text;\n",
    "- `axisTooltipText[X|Y]` - axis tooltip text (inherits from 'tooltipText')\n"
   ]
  },
  {
   "cell_type": "code",
   "execution_count": 3,
   "id": "discrete-suicide",
   "metadata": {
    "execution": {
     "iopub.execute_input": "2024-09-29T03:07:29.610045Z",
     "iopub.status.busy": "2024-09-29T03:07:29.609455Z",
     "iopub.status.idle": "2024-09-29T03:07:29.678225Z",
     "shell.execute_reply": "2024-09-29T03:07:29.678339Z"
    }
   },
   "outputs": [
    {
     "data": {
      "text/html": [
       "   <div id=\"ADU4Jp\"></div>\n",
       "   <script type=\"text/javascript\" data-lets-plot-script=\"plot\">\n",
       "       (function() {\n",
       "           var plotSpec={\n",
       "\"mapping\":{\n",
       "},\n",
       "\"data\":{\n",
       "\"x\":[0.0,1.0],\n",
       "\"y\":[0.0,1.0]\n",
       "},\n",
       "\"kind\":\"plot\",\n",
       "\"scales\":[],\n",
       "\"layers\":[{\n",
       "\"mapping\":{\n",
       "\"x\":\"x\",\n",
       "\"y\":\"y\"\n",
       "},\n",
       "\"stat\":\"identity\",\n",
       "\"position\":\"identity\",\n",
       "\"geom\":\"tile\",\n",
       "\"fill\":\"light-gray\",\n",
       "\"tooltips\":{\n",
       "\"title\":\"Tooltip title\",\n",
       "\"lines\":[\"label|value\"]\n",
       "},\n",
       "\"data\":{\n",
       "}\n",
       "}],\n",
       "\"theme\":{\n",
       "\"tooltip\":{\n",
       "\"fill\":\"#238b45\",\n",
       "\"color\":\"#225e32\",\n",
       "\"size\":2.0,\n",
       "\"blank\":false\n",
       "},\n",
       "\"tooltip_title_text\":{\n",
       "\"color\":\"#edf8e9\",\n",
       "\"blank\":false\n",
       "},\n",
       "\"tooltip_text\":{\n",
       "\"color\":\"#bae4b3\",\n",
       "\"blank\":false\n",
       "},\n",
       "\"axis_tooltip_text_x\":{\n",
       "\"color\":\"green\",\n",
       "\"blank\":false\n",
       "}\n",
       "},\n",
       "\"data_meta\":{\n",
       "\"series_annotations\":[{\n",
       "\"type\":\"int\",\n",
       "\"column\":\"x\"\n",
       "},{\n",
       "\"type\":\"int\",\n",
       "\"column\":\"y\"\n",
       "}]\n",
       "}\n",
       "};\n",
       "           var plotContainer = document.getElementById(\"ADU4Jp\");\n",
       "           window.letsPlotCall(function() {{\n",
       "               LetsPlot.buildPlotFromProcessedSpecs(plotSpec, -1, -1, plotContainer);\n",
       "           }});\n",
       "       })();\n",
       "   </script>"
      ]
     },
     "execution_count": 3,
     "metadata": {},
     "output_type": "execute_result"
    }
   ],
   "source": [
    "p + theme(\n",
    "    tooltip = elementRect(color = \"#225e32\", fill = \"#238b45\", size = 2),\n",
    "    tooltipText = elementText(color = \"#bae4b3\"),\n",
    "    tooltipTitleText = elementText(color = \"#edf8e9\"),\n",
    "    axisTooltipTextX = elementText(color = \"green\")\n",
    ")"
   ]
  }
 ],
 "metadata": {
  "kernelspec": {
   "display_name": "Kotlin",
   "language": "kotlin",
   "name": "kotlin"
  },
  "language_info": {
   "codemirror_mode": "text/x-kotlin",
   "file_extension": ".kt",
   "mimetype": "text/x-kotlin",
   "name": "kotlin",
   "nbconvert_exporter": "",
   "pygments_lexer": "kotlin",
   "version": "1.9.23"
  }
 },
 "nbformat": 4,
 "nbformat_minor": 5
}
