{
 "cells": [
  {
   "cell_type": "code",
   "execution_count": 1,
   "id": "developed-feeling",
   "metadata": {
    "execution": {
     "iopub.execute_input": "2024-09-29T02:08:49.744335Z",
     "iopub.status.busy": "2024-09-29T02:08:49.742496Z",
     "iopub.status.idle": "2024-09-29T02:15:30.898158Z",
     "shell.execute_reply": "2024-09-29T02:15:30.897868Z"
    }
   },
   "outputs": [
    {
     "data": {
      "text/html": [
       "   <div id=\"drWXhI\"></div>\n",
       "   <script type=\"text/javascript\" data-lets-plot-script=\"library\">\n",
       "       if(!window.letsPlotCallQueue) {\n",
       "           window.letsPlotCallQueue = [];\n",
       "       }; \n",
       "       window.letsPlotCall = function(f) {\n",
       "           window.letsPlotCallQueue.push(f);\n",
       "       };\n",
       "       (function() {\n",
       "           var script = document.createElement(\"script\");\n",
       "           script.type = \"text/javascript\";\n",
       "           script.src = \"https://cdn.jsdelivr.net/gh/JetBrains/lets-plot@v4.4.1/js-package/distr/lets-plot.min.js\";\n",
       "           script.onload = function() {\n",
       "               window.letsPlotCall = function(f) {f();};\n",
       "               window.letsPlotCallQueue.forEach(function(f) {f();});\n",
       "               window.letsPlotCallQueue = [];\n",
       "               \n",
       "               \n",
       "           };\n",
       "           script.onerror = function(event) {\n",
       "               window.letsPlotCall = function(f) {};\n",
       "               window.letsPlotCallQueue = [];\n",
       "               var div = document.createElement(\"div\");\n",
       "               div.style.color = 'darkred';\n",
       "               div.textContent = 'Error loading Lets-Plot JS';\n",
       "               document.getElementById(\"drWXhI\").appendChild(div);\n",
       "           };\n",
       "           var e = document.getElementById(\"drWXhI\");\n",
       "           e.appendChild(script);\n",
       "       })();\n",
       "   </script>"
      ]
     },
     "metadata": {},
     "output_type": "display_data"
    }
   ],
   "source": [
    "%useLatestDescriptors\n",
    "%use lets-plot"
   ]
  },
  {
   "cell_type": "code",
   "execution_count": 2,
   "id": "composite-liver",
   "metadata": {
    "execution": {
     "iopub.execute_input": "2024-09-29T02:15:30.900485Z",
     "iopub.status.busy": "2024-09-29T02:15:30.900065Z",
     "iopub.status.idle": "2024-09-29T02:15:30.933063Z",
     "shell.execute_reply": "2024-09-29T02:15:30.932806Z"
    }
   },
   "outputs": [
    {
     "data": {
      "text/plain": [
       "Lets-Plot Kotlin API v.4.8.0. Frontend: Notebook with dynamically loaded JS. Lets-Plot JS v.4.4.1."
      ]
     },
     "execution_count": 2,
     "metadata": {},
     "output_type": "execute_result"
    }
   ],
   "source": [
    "LetsPlot.getInfo()"
   ]
  },
  {
   "cell_type": "code",
   "execution_count": 3,
   "id": "global-lease",
   "metadata": {
    "execution": {
     "iopub.execute_input": "2024-09-29T02:15:30.935028Z",
     "iopub.status.busy": "2024-09-29T02:15:30.934621Z",
     "iopub.status.idle": "2024-09-29T02:15:31.179454Z",
     "shell.execute_reply": "2024-09-29T02:15:31.179567Z"
    }
   },
   "outputs": [
    {
     "data": {
      "text/html": [
       "   <div id=\"IVIrv4\"></div>\n",
       "   <script type=\"text/javascript\" data-lets-plot-script=\"plot\">\n",
       "       (function() {\n",
       "           var plotSpec={\n",
       "\"mapping\":{\n",
       "\"x\":\"x\",\n",
       "\"y\":\"y\"\n",
       "},\n",
       "\"data\":{\n",
       "},\n",
       "\"kind\":\"plot\",\n",
       "\"scales\":[],\n",
       "\"layers\":[{\n",
       "\"mapping\":{\n",
       "},\n",
       "\"stat\":\"boxplot\",\n",
       "\"whisker_width\":0.2,\n",
       "\"position\":\"dodge\",\n",
       "\"geom\":\"boxplot\",\n",
       "\"data\":{\n",
       "\"..middle..\":[0.31624878281669333,-0.03625210379296746,0.1663109595197368],\n",
       "\"..upper..\":[0.6847231553643796,0.5161937494021966,0.6471885375454148],\n",
       "\"..ymax..\":[1.7687943677666822,2.162580230059769,1.9695418127098692],\n",
       "\"..lower..\":[-0.17339881654745992,-0.6497562324361997,-0.5876750570891159],\n",
       "\"x\":[\"b\",\"a\",\"c\"],\n",
       "\"..ymin..\":[-1.3941301234610528,-1.577245894169239,-2.20104878328904]\n",
       "}\n",
       "},{\n",
       "\"mapping\":{\n",
       "},\n",
       "\"stat\":\"boxplot_outlier\",\n",
       "\"show_legend\":false,\n",
       "\"position\":\"dodge\",\n",
       "\"geom\":\"point\",\n",
       "\"data\":{\n",
       "\"..middle..\":[0.31624878281669333,-0.03625210379296746,-0.03625210379296746,-0.03625210379296746,0.1663109595197368],\n",
       "\"..upper..\":[0.6847231553643796,0.5161937494021966,0.5161937494021966,0.5161937494021966,0.6471885375454148],\n",
       "\"..ymax..\":[1.7687943677666822,2.162580230059769,2.162580230059769,2.162580230059769,1.9695418127098692],\n",
       "\"..lower..\":[-0.17339881654745992,-0.6497562324361997,-0.6497562324361997,-0.6497562324361997,-0.5876750570891159],\n",
       "\"x\":[\"b\",\"a\",\"a\",\"a\",\"c\"],\n",
       "\"y\":[-1.5229462883897182,2.429780509168998,2.439598419520245,2.2972205355496347,NaN],\n",
       "\"..ymin..\":[-1.3941301234610528,-1.577245894169239,-1.577245894169239,-1.577245894169239,-2.20104878328904]\n",
       "}\n",
       "}],\n",
       "\"data_meta\":{\n",
       "\"series_annotations\":[{\n",
       "\"type\":\"str\",\n",
       "\"column\":\"x\"\n",
       "},{\n",
       "\"type\":\"float\",\n",
       "\"column\":\"y\"\n",
       "}]\n",
       "}\n",
       "};\n",
       "           var plotContainer = document.getElementById(\"IVIrv4\");\n",
       "           window.letsPlotCall(function() {{\n",
       "               LetsPlot.buildPlotFromProcessedSpecs(plotSpec, -1, -1, plotContainer);\n",
       "           }});\n",
       "       })();\n",
       "   </script>"
      ]
     },
     "execution_count": 3,
     "metadata": {},
     "output_type": "execute_result"
    }
   ],
   "source": [
    "val n = 100\n",
    "val rand = java.util.Random(37)\n",
    "val data = mapOf<String, Any>(\n",
    "    \"x\" to List(n) { listOf(\"a\", \"b\", \"c\").random() },\n",
    "    \"y\" to List(n) { rand.nextGaussian() }\n",
    ")\n",
    "\n",
    "letsPlot(data) { x = \"x\"; y = \"y\" }  + geomBoxplot(whiskerWidth = 0.2)"
   ]
  }
 ],
 "metadata": {
  "kernelspec": {
   "display_name": "Kotlin",
   "language": "kotlin",
   "name": "kotlin"
  },
  "language_info": {
   "codemirror_mode": "text/x-kotlin",
   "file_extension": ".kt",
   "mimetype": "text/x-kotlin",
   "name": "kotlin",
   "nbconvert_exporter": "",
   "pygments_lexer": "kotlin",
   "version": "1.9.23"
  }
 },
 "nbformat": 4,
 "nbformat_minor": 5
}
