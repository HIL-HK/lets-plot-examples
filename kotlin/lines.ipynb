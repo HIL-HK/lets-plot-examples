{
 "cells": [
  {
   "cell_type": "markdown",
   "id": "872680a6",
   "metadata": {},
   "source": [
    "# Lines in Lets-Plot"
   ]
  },
  {
   "cell_type": "code",
   "execution_count": 1,
   "id": "9c24c1d2",
   "metadata": {},
   "outputs": [
    {
     "name": "stderr",
     "output_type": "stream",
     "text": [
      "WARNING: Can't resolve library kotlin-statistics from the given reference. Using classpath version of this library. Error: java.io.IOException: Http request failed. Url = https://api.github.com/repos/Kotlin/kotlin-jupyter-libraries/contents/kotlin-statistics.json?ref=3e13e15ec9b09b298ee463a56148ae70e373f5df. Response = {\"message\":\"Not Found\",\"documentation_url\":\"https://docs.github.com/rest/repos/contents#get-repository-content\",\"status\":\"404\"}\n",
      "The problem is found in one of the loaded libraries: check library imports, dependencies and repositories\n",
      "Error compiling code:\n",
      "@file:DependsOn(\"com.github.thomasnield:kotlin-statistics:-SNAPSHOT\")\n",
      "import org.nield.kotlinstatistics.*\n",
      "\n",
      "\n",
      "Errors:\n",
      "Failed to resolve [Dependency(value=com.github.thomasnield:kotlin-statistics:-SNAPSHOT, hasSources=MAYBE, isMultiplatform=MAYBE)]:\n",
      "File 'com.github.thomasnield:kotlin-statistics:-SNAPSHOT' not found\n",
      "ArtifactResolutionException: Could not transfer artifact com.github.thomasnield:kotlin-statistics:pom:-SNAPSHOT from/to https___jitpack.io_ (https://jitpack.io/): authentication failed for https://jitpack.io/com/github/thomasnield/kotlin-statistics/-SNAPSHOT/kotlin-statistics--SNAPSHOT.pom, status: 401 Unauthorized\n",
      "\n",
      "org.jetbrains.kotlinx.jupyter.exceptions.ReplLibraryException: The problem is found in one of the loaded libraries: check library imports, dependencies and repositories\n",
      "\tat org.jetbrains.kotlinx.jupyter.exceptions.ReplLibraryExceptionKt.rethrowAsLibraryException(ReplLibraryException.kt:38)\n",
      "\tat org.jetbrains.kotlinx.jupyter.repl.impl.CellExecutorImpl$ExecutionContext.doAddLibraries(CellExecutorImpl.kt:157)\n",
      "\tat org.jetbrains.kotlinx.jupyter.repl.impl.CellExecutorImpl$ExecutionContext.addLibraries(CellExecutorImpl.kt:192)\n",
      "\tat org.jetbrains.kotlinx.jupyter.api.KotlinKernelHost$DefaultImpls.addLibrary(KotlinKernelHost.kt:49)\n",
      "\tat org.jetbrains.kotlinx.jupyter.repl.impl.CellExecutorImpl$ExecutionContext.addLibrary(CellExecutorImpl.kt:138)\n",
      "\tat org.jetbrains.kotlinx.jupyter.repl.impl.CellExecutorImpl.execute(CellExecutorImpl.kt:63)\n",
      "\tat org.jetbrains.kotlinx.jupyter.repl.execution.CellExecutor$DefaultImpls.execute$default(CellExecutor.kt:12)\n",
      "\tat org.jetbrains.kotlinx.jupyter.repl.impl.ReplForJupyterImpl.evaluateUserCode(ReplForJupyterImpl.kt:581)\n",
      "\tat org.jetbrains.kotlinx.jupyter.repl.impl.ReplForJupyterImpl.access$evaluateUserCode(ReplForJupyterImpl.kt:136)\n",
      "\tat org.jetbrains.kotlinx.jupyter.repl.impl.ReplForJupyterImpl$evalEx$1.invoke(ReplForJupyterImpl.kt:439)\n",
      "\tat org.jetbrains.kotlinx.jupyter.repl.impl.ReplForJupyterImpl$evalEx$1.invoke(ReplForJupyterImpl.kt:436)\n",
      "\tat org.jetbrains.kotlinx.jupyter.repl.impl.ReplForJupyterImpl.withEvalContext(ReplForJupyterImpl.kt:417)\n",
      "\tat org.jetbrains.kotlinx.jupyter.repl.impl.ReplForJupyterImpl.evalEx(ReplForJupyterImpl.kt:436)\n",
      "\tat org.jetbrains.kotlinx.jupyter.messaging.IdeCompatibleMessageRequestProcessor$processExecuteRequest$1$response$1$1.invoke(IdeCompatibleMessageRequestProcessor.kt:140)\n",
      "\tat org.jetbrains.kotlinx.jupyter.messaging.IdeCompatibleMessageRequestProcessor$processExecuteRequest$1$response$1$1.invoke(IdeCompatibleMessageRequestProcessor.kt:139)\n",
      "\tat org.jetbrains.kotlinx.jupyter.execution.JupyterExecutorImpl$Task.execute(JupyterExecutorImpl.kt:42)\n",
      "\tat org.jetbrains.kotlinx.jupyter.execution.JupyterExecutorImpl$executorThread$1.invoke(JupyterExecutorImpl.kt:82)\n",
      "\tat org.jetbrains.kotlinx.jupyter.execution.JupyterExecutorImpl$executorThread$1.invoke(JupyterExecutorImpl.kt:80)\n",
      "\tat kotlin.concurrent.ThreadsKt$thread$thread$1.run(Thread.kt:30)\n",
      "Caused by: org.jetbrains.kotlinx.jupyter.exceptions.ReplCompilerException: Failed to resolve [Dependency(value=com.github.thomasnield:kotlin-statistics:-SNAPSHOT, hasSources=MAYBE, isMultiplatform=MAYBE)]:\n",
      "File 'com.github.thomasnield:kotlin-statistics:-SNAPSHOT' not found\n",
      "ArtifactResolutionException: Could not transfer artifact com.github.thomasnield:kotlin-statistics:pom:-SNAPSHOT from/to https___jitpack.io_ (https://jitpack.io/): authentication failed for https://jitpack.io/com/github/thomasnield/kotlin-statistics/-SNAPSHOT/kotlin-statistics--SNAPSHOT.pom, status: 401 Unauthorized\n",
      "\tat org.jetbrains.kotlinx.jupyter.repl.impl.JupyterCompilerImpl.compileSync(JupyterCompilerImpl.kt:201)\n",
      "\tat org.jetbrains.kotlinx.jupyter.repl.impl.InternalEvaluatorImpl.eval(InternalEvaluatorImpl.kt:120)\n",
      "\tat org.jetbrains.kotlinx.jupyter.repl.impl.CellExecutorImpl$execute$1$result$1.invoke(CellExecutorImpl.kt:79)\n",
      "\tat org.jetbrains.kotlinx.jupyter.repl.impl.CellExecutorImpl$execute$1$result$1.invoke(CellExecutorImpl.kt:77)\n",
      "\tat org.jetbrains.kotlinx.jupyter.repl.impl.ReplForJupyterImpl.withHost(ReplForJupyterImpl.kt:758)\n",
      "\tat org.jetbrains.kotlinx.jupyter.repl.impl.CellExecutorImpl.execute(CellExecutorImpl.kt:77)\n",
      "\tat org.jetbrains.kotlinx.jupyter.repl.execution.CellExecutor$DefaultImpls.execute$default(CellExecutor.kt:12)\n",
      "\tat org.jetbrains.kotlinx.jupyter.repl.impl.CellExecutorImpl$ExecutionContext.execute(CellExecutorImpl.kt:239)\n",
      "\tat org.jetbrains.kotlinx.jupyter.api.libraries.CodeExecutionCallback.invoke(CodeExecutionCallback.kt:8)\n",
      "\tat org.jetbrains.kotlinx.jupyter.api.libraries.CodeExecutionCallback.invoke(CodeExecutionCallback.kt:6)\n",
      "\tat org.jetbrains.kotlinx.jupyter.repl.impl.CellExecutorImpl$ExecutionContext.execute(CellExecutorImpl.kt:272)\n",
      "\tat org.jetbrains.kotlinx.jupyter.repl.impl.CellExecutorImpl$ExecutionContext.runChild(CellExecutorImpl.kt:150)\n",
      "\tat org.jetbrains.kotlinx.jupyter.repl.impl.CellExecutorImpl$ExecutionContext.runChild(CellExecutorImpl.kt:146)\n",
      "\tat org.jetbrains.kotlinx.jupyter.repl.impl.CellExecutorImpl$ExecutionContext.access$runChild(CellExecutorImpl.kt:138)\n",
      "\tat org.jetbrains.kotlinx.jupyter.repl.impl.CellExecutorImpl$ExecutionContext$doAddLibraries$1.invoke(CellExecutorImpl.kt:158)\n",
      "\tat org.jetbrains.kotlinx.jupyter.repl.impl.CellExecutorImpl$ExecutionContext$doAddLibraries$1.invoke(CellExecutorImpl.kt:157)\n",
      "\tat org.jetbrains.kotlinx.jupyter.exceptions.ReplLibraryExceptionKt.rethrowAsLibraryException(ReplLibraryException.kt:36)\n",
      "\t... 18 more\n",
      "\n"
     ]
    }
   ],
   "source": [
    "%useLatestDescriptors\n",
    "%use krangl\n",
    "%use kotlin-statistics\n",
    "%use lets-plot"
   ]
  },
  {
   "cell_type": "markdown",
   "id": "91a3bca2",
   "metadata": {},
   "source": [
    "## Vertical, horizontal and oblique lines"
   ]
  },
  {
   "cell_type": "code",
   "execution_count": 2,
   "id": "b62278c4",
   "metadata": {},
   "outputs": [
    {
     "data": {
      "text/html": [
       "<html><body><table><tr><th style=\"text-align:left\"></th><th style=\"text-align:left\">manufacturer</th><th style=\"text-align:left\">model</th><th style=\"text-align:left\">displ</th><th style=\"text-align:left\">year</th><th style=\"text-align:left\">cyl</th><th style=\"text-align:left\">trans</th><th style=\"text-align:left\">drv</th><th style=\"text-align:left\">cty</th><th style=\"text-align:left\">hwy</th><th style=\"text-align:left\">fl</th><th style=\"text-align:left\">class</th></tr><tr><td style=\"text-align:left\" title=\"1\">1</td><td style=\"text-align:left\" title=\"audi\">audi</td><td style=\"text-align:left\" title=\"a4\">a4</td><td style=\"text-align:left\" title=\"1.8\">1.8</td><td style=\"text-align:left\" title=\"1999\">1999</td><td style=\"text-align:left\" title=\"4\">4</td><td style=\"text-align:left\" title=\"auto(l5)\">auto(l5)</td><td style=\"text-align:left\" title=\"f\">f</td><td style=\"text-align:left\" title=\"18\">18</td><td style=\"text-align:left\" title=\"29\">29</td><td style=\"text-align:left\" title=\"p\">p</td><td style=\"text-align:left\" title=\"compact\">compact</td></tr><tr><td style=\"text-align:left\" title=\"2\">2</td><td style=\"text-align:left\" title=\"audi\">audi</td><td style=\"text-align:left\" title=\"a4\">a4</td><td style=\"text-align:left\" title=\"1.8\">1.8</td><td style=\"text-align:left\" title=\"1999\">1999</td><td style=\"text-align:left\" title=\"4\">4</td><td style=\"text-align:left\" title=\"manual(m5)\">manual(m5)</td><td style=\"text-align:left\" title=\"f\">f</td><td style=\"text-align:left\" title=\"21\">21</td><td style=\"text-align:left\" title=\"29\">29</td><td style=\"text-align:left\" title=\"p\">p</td><td style=\"text-align:left\" title=\"compact\">compact</td></tr><tr><td style=\"text-align:left\" title=\"3\">3</td><td style=\"text-align:left\" title=\"audi\">audi</td><td style=\"text-align:left\" title=\"a4\">a4</td><td style=\"text-align:left\" title=\"2.0\">2.0</td><td style=\"text-align:left\" title=\"2008\">2008</td><td style=\"text-align:left\" title=\"4\">4</td><td style=\"text-align:left\" title=\"manual(m6)\">manual(m6)</td><td style=\"text-align:left\" title=\"f\">f</td><td style=\"text-align:left\" title=\"20\">20</td><td style=\"text-align:left\" title=\"31\">31</td><td style=\"text-align:left\" title=\"p\">p</td><td style=\"text-align:left\" title=\"compact\">compact</td></tr><tr><td style=\"text-align:left\" title=\"4\">4</td><td style=\"text-align:left\" title=\"audi\">audi</td><td style=\"text-align:left\" title=\"a4\">a4</td><td style=\"text-align:left\" title=\"2.0\">2.0</td><td style=\"text-align:left\" title=\"2008\">2008</td><td style=\"text-align:left\" title=\"4\">4</td><td style=\"text-align:left\" title=\"auto(av)\">auto(av)</td><td style=\"text-align:left\" title=\"f\">f</td><td style=\"text-align:left\" title=\"21\">21</td><td style=\"text-align:left\" title=\"30\">30</td><td style=\"text-align:left\" title=\"p\">p</td><td style=\"text-align:left\" title=\"compact\">compact</td></tr><tr><td style=\"text-align:left\" title=\"5\">5</td><td style=\"text-align:left\" title=\"audi\">audi</td><td style=\"text-align:left\" title=\"a4\">a4</td><td style=\"text-align:left\" title=\"2.8\">2.8</td><td style=\"text-align:left\" title=\"1999\">1999</td><td style=\"text-align:left\" title=\"6\">6</td><td style=\"text-align:left\" title=\"auto(l5)\">auto(l5)</td><td style=\"text-align:left\" title=\"f\">f</td><td style=\"text-align:left\" title=\"16\">16</td><td style=\"text-align:left\" title=\"26\">26</td><td style=\"text-align:left\" title=\"p\">p</td><td style=\"text-align:left\" title=\"compact\">compact</td></tr></table><p>Shape: 5 x 12. \n",
       "</p></body></html>"
      ]
     },
     "execution_count": 2,
     "metadata": {},
     "output_type": "execute_result"
    }
   ],
   "source": [
    "val mpgDf = DataFrame.readCSV(\"https://raw.githubusercontent.com/JetBrains/lets-plot-kotlin/master/docs/examples/data/mpg.csv\")\n",
    "mpgDf.head()"
   ]
  },
  {
   "cell_type": "code",
   "execution_count": 3,
   "id": "f395c360",
   "metadata": {},
   "outputs": [],
   "source": [
    "val mpgMap = mpgDf.toMap()"
   ]
  },
  {
   "cell_type": "code",
   "execution_count": 4,
   "id": "781fdc93",
   "metadata": {},
   "outputs": [
    {
     "name": "stderr",
     "output_type": "stream",
     "text": [
      "Line_5.jupyter.kts (1:54 - 70) Unresolved reference: simpleRegression\n",
      "Line_5.jupyter.kts (2:19 - 21) Unresolved reference: it\n",
      "Line_5.jupyter.kts (2:28 - 37) No cast needed\n",
      "Line_5.jupyter.kts (3:19 - 21) Unresolved reference: it\n",
      "Line_5.jupyter.kts (3:29 - 38) No cast needed"
     ]
    }
   ],
   "source": [
    "val regModel = (mpgMap[\"cty\"]!! zip mpgMap[\"hwy\"]!!).simpleRegression(\n",
    "    xSelector = { it.first as Number },\n",
    "    ySelector = { it.second as Number }\n",
    ")\n",
    "val ctyMedian = mpgDf.get(\"cty\").median()\n",
    "val hwyMedian = mpgDf.get(\"hwy\").median()"
   ]
  },
  {
   "cell_type": "code",
   "execution_count": 5,
   "id": "ac17c9ed",
   "metadata": {},
   "outputs": [
    {
     "name": "stderr",
     "output_type": "stream",
     "text": [
      "Line_6.jupyter.kts (1:1 - 9) Unresolved reference. None of the following candidates is applicable because of receiver type mismatch: \n",
      "public fun DataFrame.letsPlot(mapping: GenericAesMapping.() -> Unit = ...): Plot defined in krangl\n",
      "Line_6.jupyter.kts (1:20 - 21) Unresolved reference: x\n",
      "Line_6.jupyter.kts (1:31 - 32) Unresolved reference: y\n",
      "Line_6.jupyter.kts (2:5 - 14) Unresolved reference: geomPoint\n",
      "Line_6.jupyter.kts (3:5 - 14) Unresolved reference: geomVLine\n",
      "Line_6.jupyter.kts (3:28 - 37) Unresolved reference: ctyMedian\n",
      "Line_6.jupyter.kts (4:5 - 14) Unresolved reference: geomHLine\n",
      "Line_6.jupyter.kts (4:28 - 37) Unresolved reference: hwyMedian\n",
      "Line_6.jupyter.kts (5:5 - 15) Unresolved reference: geomABLine\n",
      "Line_6.jupyter.kts (5:24 - 32) Unresolved reference: regModel\n",
      "Line_6.jupyter.kts (5:52 - 60) Unresolved reference: regModel\n",
      "Line_6.jupyter.kts (6:5 - 17) Unresolved reference: themeMinimal"
     ]
    }
   ],
   "source": [
    "letsPlot(mpgMap) { x = \"cty\"; y = \"hwy\" } +\n",
    "    geomPoint() +\n",
    "    geomVLine(xintercept = ctyMedian, color = \"#756bb1\", linetype = \"dashed\") +\n",
    "    geomHLine(yintercept = hwyMedian, color = \"#756bb1\", linetype = \"dashed\") +\n",
    "    geomABLine(slope = regModel.slope, intercept = regModel.intercept, color = \"#de2d26\") +\n",
    "    themeMinimal()"
   ]
  },
  {
   "cell_type": "markdown",
   "id": "4211165f",
   "metadata": {},
   "source": [
    "## Broken lines"
   ]
  },
  {
   "cell_type": "code",
   "execution_count": 6,
   "id": "d1c840c9",
   "metadata": {},
   "outputs": [],
   "source": [
    "fun generateParabolicDataMap(n: Int = 25, a: Double = 1.0): Map<String, List<Double>> {\n",
    "    val rand = java.util.Random(42)\n",
    "    val x = List(2 * n + 1) { i -> a * (i - n).toDouble() / n }\n",
    "    val y = x.map { i -> i * i + rand.nextGaussian() }\n",
    "    return mapOf(\"x\" to x, \"y\" to y)\n",
    "}\n",
    "\n",
    "val pDataMap = generateParabolicDataMap(a = 3.0)"
   ]
  },
  {
   "cell_type": "code",
   "execution_count": 7,
   "id": "e89d3e81",
   "metadata": {},
   "outputs": [
    {
     "name": "stderr",
     "output_type": "stream",
     "text": [
      "Line_8.jupyter.kts (1:1 - 9) Unresolved reference. None of the following candidates is applicable because of receiver type mismatch: \n",
      "public fun DataFrame.letsPlot(mapping: GenericAesMapping.() -> Unit = ...): Plot defined in krangl\n",
      "Line_8.jupyter.kts (1:22 - 30) Unresolved reference: geomLine\n",
      "Line_8.jupyter.kts (1:35 - 36) Unresolved reference: x\n",
      "Line_8.jupyter.kts (1:44 - 45) Unresolved reference: y"
     ]
    }
   ],
   "source": [
    "letsPlot(pDataMap) + geomLine() { x = \"x\"; y = \"y\" }"
   ]
  },
  {
   "cell_type": "code",
   "execution_count": 8,
   "id": "be4d7ac2",
   "metadata": {},
   "outputs": [
    {
     "name": "stderr",
     "output_type": "stream",
     "text": [
      "Line_9.jupyter.kts (1:1 - 9) Unresolved reference. None of the following candidates is applicable because of receiver type mismatch: \n",
      "public fun DataFrame.letsPlot(mapping: GenericAesMapping.() -> Unit = ...): Plot defined in krangl\n",
      "Line_9.jupyter.kts (1:22 - 30) Unresolved reference: geomPath\n",
      "Line_9.jupyter.kts (1:35 - 36) Unresolved reference: x\n",
      "Line_9.jupyter.kts (1:44 - 45) Unresolved reference: y"
     ]
    }
   ],
   "source": [
    "letsPlot(pDataMap) + geomPath() { x = \"x\"; y = \"y\" }"
   ]
  },
  {
   "cell_type": "code",
   "execution_count": 9,
   "id": "de850faa",
   "metadata": {},
   "outputs": [
    {
     "name": "stderr",
     "output_type": "stream",
     "text": [
      "Line_10.jupyter.kts (1:1 - 9) Unresolved reference. None of the following candidates is applicable because of receiver type mismatch: \n",
      "public fun DataFrame.letsPlot(mapping: GenericAesMapping.() -> Unit = ...): Plot defined in krangl\n",
      "Line_10.jupyter.kts (1:22 - 30) Unresolved reference: geomStep\n",
      "Line_10.jupyter.kts (1:35 - 36) Unresolved reference: x\n",
      "Line_10.jupyter.kts (1:44 - 45) Unresolved reference: y"
     ]
    }
   ],
   "source": [
    "letsPlot(pDataMap) + geomStep() { x = \"x\"; y = \"y\" }"
   ]
  },
  {
   "cell_type": "markdown",
   "id": "5ebb12bf",
   "metadata": {},
   "source": [
    "And what is the difference between `geomLine()` and `geomPath()`?\n",
    "\n",
    "Let's have a look at the following example:"
   ]
  },
  {
   "cell_type": "code",
   "execution_count": 10,
   "id": "ec5263cf",
   "metadata": {},
   "outputs": [],
   "source": [
    "fun generateArchimedeanDataMap(n: Int = 25, k: Double = 1.0, a: Double = 1.0): Map<String, List<Double>> {\n",
    "    val phi = List(n) { i -> 2.0 * PI * k * i.toDouble() / (n - 1) }\n",
    "    val r = phi.map { angle -> (a * angle) / (2.0 * PI) }\n",
    "    val x = (r zip phi).map { p -> p.first * cos(p.second) }\n",
    "    val y = (r zip phi).map { p -> p.first * sin(p.second) }\n",
    "    return mapOf(\"x\" to x, \"y\" to y)\n",
    "}\n",
    "\n",
    "val aDataMap = generateArchimedeanDataMap(n = 200, k = 2.0)"
   ]
  },
  {
   "cell_type": "code",
   "execution_count": 11,
   "id": "b3bb2266",
   "metadata": {},
   "outputs": [
    {
     "name": "stderr",
     "output_type": "stream",
     "text": [
      "Line_12.jupyter.kts (1:1 - 9) Unresolved reference. None of the following candidates is applicable because of receiver type mismatch: \n",
      "public fun DataFrame.letsPlot(mapping: GenericAesMapping.() -> Unit = ...): Plot defined in krangl\n",
      "Line_12.jupyter.kts (2:5 - 13) Unresolved reference: geomLine\n",
      "Line_12.jupyter.kts (2:18 - 19) Unresolved reference: x\n",
      "Line_12.jupyter.kts (2:27 - 28) Unresolved reference: y\n",
      "Line_12.jupyter.kts (3:5 - 12) Unresolved reference: ggtitle"
     ]
    }
   ],
   "source": [
    "letsPlot(aDataMap) +\n",
    "    geomLine() { x = \"x\"; y = \"y\" } +\n",
    "    ggtitle(\"Plotting with geomLine()\")"
   ]
  },
  {
   "cell_type": "code",
   "execution_count": 12,
   "id": "2b5db95c",
   "metadata": {},
   "outputs": [
    {
     "name": "stderr",
     "output_type": "stream",
     "text": [
      "Line_13.jupyter.kts (1:1 - 9) Unresolved reference. None of the following candidates is applicable because of receiver type mismatch: \n",
      "public fun DataFrame.letsPlot(mapping: GenericAesMapping.() -> Unit = ...): Plot defined in krangl\n",
      "Line_13.jupyter.kts (2:5 - 13) Unresolved reference: geomPath\n",
      "Line_13.jupyter.kts (2:18 - 19) Unresolved reference: x\n",
      "Line_13.jupyter.kts (2:27 - 28) Unresolved reference: y\n",
      "Line_13.jupyter.kts (3:5 - 12) Unresolved reference: ggtitle"
     ]
    }
   ],
   "source": [
    "letsPlot(aDataMap) +\n",
    "    geomPath() { x = \"x\"; y = \"y\" } +\n",
    "    ggtitle(\"Plotting with geomPath()\")"
   ]
  },
  {
   "cell_type": "markdown",
   "id": "96c52474",
   "metadata": {},
   "source": [
    "Also an interesting plot could be drawed with `geomSegment()`:"
   ]
  },
  {
   "cell_type": "code",
   "execution_count": 13,
   "id": "a02fac5f",
   "metadata": {},
   "outputs": [
    {
     "name": "stderr",
     "output_type": "stream",
     "text": [
      "Line_14.jupyter.kts (1:1 - 9) Unresolved reference. None of the following candidates is applicable because of receiver type mismatch: \n",
      "public fun DataFrame.letsPlot(mapping: GenericAesMapping.() -> Unit = ...): Plot defined in krangl\n",
      "Line_14.jupyter.kts (1:48 - 59) Unresolved reference: geomSegment\n",
      "Line_14.jupyter.kts (1:86 - 87) Unresolved reference: x\n",
      "Line_14.jupyter.kts (1:95 - 96) Unresolved reference: y"
     ]
    }
   ],
   "source": [
    "letsPlot(generateArchimedeanDataMap(n = 50)) + geomSegment(xend = 0.0, yend = 0.0) { x = \"x\"; y = \"y\" }"
   ]
  }
 ],
 "metadata": {
  "kernelspec": {
   "display_name": "Kotlin",
   "language": "kotlin",
   "name": "kotlin"
  },
  "language_info": {
   "codemirror_mode": "text/x-kotlin",
   "file_extension": ".kt",
   "mimetype": "text/x-kotlin",
   "name": "kotlin",
   "nbconvert_exporter": "",
   "pygments_lexer": "kotlin",
   "version": "1.9.23"
  }
 },
 "nbformat": 4,
 "nbformat_minor": 5
}
