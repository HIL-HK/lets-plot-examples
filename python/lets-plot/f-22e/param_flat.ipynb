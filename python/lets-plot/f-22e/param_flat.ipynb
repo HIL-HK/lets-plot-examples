{
 "cells": [
  {
   "cell_type": "markdown",
   "id": "8f9ded50",
   "metadata": {},
   "source": [
    "# Controlling lines curvnes on a livemap with `flat` parameter.\n",
    "\n",
    "Parameter `flat` is a replacement for the deprecated `geodesic` parameter of the livemap layer.   \n",
    "Layers that support this parameter: `geom_segment()`, `geom_path()`:\n",
    "- `False` (by default) - allows a line to get geodesic;\n",
    "- `True` - keeps a line straight."
   ]
  },
  {
   "cell_type": "code",
   "execution_count": 1,
   "id": "e6fabcbd",
   "metadata": {
    "execution": {
     "iopub.execute_input": "2024-09-27T18:00:43.709422Z",
     "iopub.status.busy": "2024-09-27T18:00:43.709139Z",
     "iopub.status.idle": "2024-09-27T18:00:44.134403Z",
     "shell.execute_reply": "2024-09-27T18:00:44.134037Z"
    }
   },
   "outputs": [],
   "source": [
    "from lets_plot import *"
   ]
  },
  {
   "cell_type": "code",
   "execution_count": 2,
   "id": "5c0be31c",
   "metadata": {
    "execution": {
     "iopub.execute_input": "2024-09-27T18:00:44.135782Z",
     "iopub.status.busy": "2024-09-27T18:00:44.135672Z",
     "iopub.status.idle": "2024-09-27T18:00:44.137845Z",
     "shell.execute_reply": "2024-09-27T18:00:44.137650Z"
    }
   },
   "outputs": [
    {
     "data": {
      "text/html": [
       "\n",
       "            <div id=\"leGRtJ\"></div>\n",
       "            <script type=\"text/javascript\" data-lets-plot-script=\"library\">\n",
       "                if(!window.letsPlotCallQueue) {\n",
       "                    window.letsPlotCallQueue = [];\n",
       "                }; \n",
       "                window.letsPlotCall = function(f) {\n",
       "                    window.letsPlotCallQueue.push(f);\n",
       "                };\n",
       "                (function() {\n",
       "                    var script = document.createElement(\"script\");\n",
       "                    script.type = \"text/javascript\";\n",
       "                    script.src = \"https://cdn.jsdelivr.net/gh/JetBrains/lets-plot@v4.4.1/js-package/distr/lets-plot.min.js\";\n",
       "                    script.onload = function() {\n",
       "                        window.letsPlotCall = function(f) {f();};\n",
       "                        window.letsPlotCallQueue.forEach(function(f) {f();});\n",
       "                        window.letsPlotCallQueue = [];\n",
       "                        \n",
       "                    };\n",
       "                    script.onerror = function(event) {\n",
       "                        window.letsPlotCall = function(f) {};    // noop\n",
       "                        window.letsPlotCallQueue = [];\n",
       "                        var div = document.createElement(\"div\");\n",
       "                        div.style.color = 'darkred';\n",
       "                        div.textContent = 'Error loading Lets-Plot JS';\n",
       "                        document.getElementById(\"leGRtJ\").appendChild(div);\n",
       "                    };\n",
       "                    var e = document.getElementById(\"leGRtJ\");\n",
       "                    e.appendChild(script);\n",
       "                })()\n",
       "            </script>\n",
       "            "
      ]
     },
     "metadata": {},
     "output_type": "display_data"
    }
   ],
   "source": [
    "LetsPlot.setup_html()"
   ]
  },
  {
   "cell_type": "code",
   "execution_count": 3,
   "id": "e09adfa5",
   "metadata": {
    "execution": {
     "iopub.execute_input": "2024-09-27T18:00:44.138907Z",
     "iopub.status.busy": "2024-09-27T18:00:44.138837Z",
     "iopub.status.idle": "2024-09-27T18:00:44.140366Z",
     "shell.execute_reply": "2024-09-27T18:00:44.140168Z"
    },
    "scrolled": true
   },
   "outputs": [],
   "source": [
    "data = {\n",
    "    'lon': [-73.7997, -149.9002],\n",
    "    'lat': [40.6408, 61.2180],\n",
    "}"
   ]
  },
  {
   "cell_type": "code",
   "execution_count": 4,
   "id": "cea9383b",
   "metadata": {
    "execution": {
     "iopub.execute_input": "2024-09-27T18:00:44.141273Z",
     "iopub.status.busy": "2024-09-27T18:00:44.141208Z",
     "iopub.status.idle": "2024-09-27T18:00:44.169918Z",
     "shell.execute_reply": "2024-09-27T18:00:44.169694Z"
    }
   },
   "outputs": [
    {
     "data": {
      "text/html": [
       "   <div id=\"nqIKbW\"></div>\n",
       "   <script type=\"text/javascript\" data-lets-plot-script=\"plot\">\n",
       "       (function() {\n",
       "           var plotSpec={\n",
       "\"data\":{\n",
       "\"lon\":[-73.7997,-149.9002],\n",
       "\"lat\":[40.6408,61.218]\n",
       "},\n",
       "\"mapping\":{\n",
       "\"x\":\"lon\",\n",
       "\"y\":\"lat\"\n",
       "},\n",
       "\"data_meta\":{\n",
       "\"series_annotations\":[{\n",
       "\"type\":\"float\",\n",
       "\"column\":\"lon\"\n",
       "},{\n",
       "\"type\":\"float\",\n",
       "\"column\":\"lat\"\n",
       "}]\n",
       "},\n",
       "\"kind\":\"plot\",\n",
       "\"scales\":[],\n",
       "\"layers\":[{\n",
       "\"geom\":\"livemap\",\n",
       "\"mapping\":{\n",
       "},\n",
       "\"data_meta\":{\n",
       "},\n",
       "\"tiles\":{\n",
       "\"kind\":\"vector_lets_plot\",\n",
       "\"url\":\"wss://tiles.datalore.jetbrains.com\",\n",
       "\"theme\":\"color\",\n",
       "\"attribution\":\"<a href=\\\"https://lets-plot.org\\\">© Lets-Plot</a>, map data: <a href=\\\"https://www.openstreetmap.org/copyright\\\">© OpenStreetMap contributors</a>.\"\n",
       "},\n",
       "\"geocoding\":{\n",
       "\"url\":\"https://geo2.datalore.jetbrains.com/map_data/geocoding\"\n",
       "},\n",
       "\"data\":{\n",
       "}\n",
       "},{\n",
       "\"geom\":\"path\",\n",
       "\"mapping\":{\n",
       "},\n",
       "\"data_meta\":{\n",
       "},\n",
       "\"flat\":true,\n",
       "\"color\":\"red\",\n",
       "\"data\":{\n",
       "}\n",
       "}],\n",
       "\"metainfo_list\":[]\n",
       "};\n",
       "           var plotContainer = document.getElementById(\"nqIKbW\");\n",
       "           window.letsPlotCall(function() {{\n",
       "               LetsPlot.buildPlotFromProcessedSpecs(plotSpec, -1, -1, plotContainer);\n",
       "           }});\n",
       "       })();\n",
       "   </script>"
      ],
      "text/plain": [
       "<lets_plot.plot.core.PlotSpec at 0x123a65930>"
      ]
     },
     "execution_count": 4,
     "metadata": {},
     "output_type": "execute_result"
    }
   ],
   "source": [
    "ggplot(data, aes(x='lon', y='lat')) + \\\n",
    "    geom_livemap() + \\\n",
    "    geom_path(flat=True, color='red')"
   ]
  },
  {
   "cell_type": "code",
   "execution_count": 5,
   "id": "f34cb543",
   "metadata": {
    "execution": {
     "iopub.execute_input": "2024-09-27T18:00:44.170960Z",
     "iopub.status.busy": "2024-09-27T18:00:44.170882Z",
     "iopub.status.idle": "2024-09-27T18:00:44.173513Z",
     "shell.execute_reply": "2024-09-27T18:00:44.173311Z"
    }
   },
   "outputs": [
    {
     "data": {
      "text/html": [
       "   <div id=\"GxlumC\"></div>\n",
       "   <script type=\"text/javascript\" data-lets-plot-script=\"plot\">\n",
       "       (function() {\n",
       "           var plotSpec={\n",
       "\"data\":{\n",
       "\"lon\":[-73.7997,-149.9002],\n",
       "\"lat\":[40.6408,61.218]\n",
       "},\n",
       "\"mapping\":{\n",
       "\"x\":\"lon\",\n",
       "\"y\":\"lat\"\n",
       "},\n",
       "\"data_meta\":{\n",
       "\"series_annotations\":[{\n",
       "\"type\":\"float\",\n",
       "\"column\":\"lon\"\n",
       "},{\n",
       "\"type\":\"float\",\n",
       "\"column\":\"lat\"\n",
       "}]\n",
       "},\n",
       "\"kind\":\"plot\",\n",
       "\"scales\":[],\n",
       "\"layers\":[{\n",
       "\"geom\":\"livemap\",\n",
       "\"mapping\":{\n",
       "},\n",
       "\"data_meta\":{\n",
       "},\n",
       "\"tiles\":{\n",
       "\"kind\":\"vector_lets_plot\",\n",
       "\"url\":\"wss://tiles.datalore.jetbrains.com\",\n",
       "\"theme\":\"color\",\n",
       "\"attribution\":\"<a href=\\\"https://lets-plot.org\\\">© Lets-Plot</a>, map data: <a href=\\\"https://www.openstreetmap.org/copyright\\\">© OpenStreetMap contributors</a>.\"\n",
       "},\n",
       "\"geocoding\":{\n",
       "\"url\":\"https://geo2.datalore.jetbrains.com/map_data/geocoding\"\n",
       "},\n",
       "\"data\":{\n",
       "}\n",
       "},{\n",
       "\"geom\":\"path\",\n",
       "\"mapping\":{\n",
       "},\n",
       "\"data_meta\":{\n",
       "},\n",
       "\"flat\":true,\n",
       "\"color\":\"red\",\n",
       "\"data\":{\n",
       "}\n",
       "},{\n",
       "\"geom\":\"path\",\n",
       "\"mapping\":{\n",
       "},\n",
       "\"data_meta\":{\n",
       "},\n",
       "\"flat\":false,\n",
       "\"color\":\"blue\",\n",
       "\"data\":{\n",
       "}\n",
       "}],\n",
       "\"metainfo_list\":[]\n",
       "};\n",
       "           var plotContainer = document.getElementById(\"GxlumC\");\n",
       "           window.letsPlotCall(function() {{\n",
       "               LetsPlot.buildPlotFromProcessedSpecs(plotSpec, -1, -1, plotContainer);\n",
       "           }});\n",
       "       })();\n",
       "   </script>"
      ],
      "text/plain": [
       "<lets_plot.plot.core.PlotSpec at 0x123a66ad0>"
      ]
     },
     "execution_count": 5,
     "metadata": {},
     "output_type": "execute_result"
    }
   ],
   "source": [
    "ggplot(data, aes(x='lon', y='lat')) + \\\n",
    "    geom_livemap() + \\\n",
    "    geom_path(flat=True, color='red') + \\\n",
    "    geom_path(flat=False, color='blue')"
   ]
  }
 ],
 "metadata": {
  "kernelspec": {
   "display_name": "Python 3 (ipykernel)",
   "language": "python",
   "name": "python3"
  },
  "language_info": {
   "codemirror_mode": {
    "name": "ipython",
    "version": 3
   },
   "file_extension": ".py",
   "mimetype": "text/x-python",
   "name": "python",
   "nbconvert_exporter": "python",
   "pygments_lexer": "ipython3",
   "version": "3.10.15"
  }
 },
 "nbformat": 4,
 "nbformat_minor": 5
}
