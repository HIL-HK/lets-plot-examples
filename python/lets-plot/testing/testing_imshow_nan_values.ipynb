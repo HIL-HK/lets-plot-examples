{
 "cells": [
  {
   "cell_type": "markdown",
   "metadata": {},
   "source": [
    "Use this notebook to obtain \"expected\" values for \n",
    "```\n",
    "test_geom_imshow_nan_values.py\n",
    "```\n",
    "test suite."
   ]
  },
  {
   "cell_type": "code",
   "execution_count": 1,
   "metadata": {
    "execution": {
     "iopub.execute_input": "2024-10-02T08:42:04.541545Z",
     "iopub.status.busy": "2024-10-02T08:42:04.541240Z",
     "iopub.status.idle": "2024-10-02T08:42:05.000835Z",
     "shell.execute_reply": "2024-10-02T08:42:05.000564Z"
    }
   },
   "outputs": [
    {
     "data": {
      "text/html": [
       "\n",
       "            <div id=\"GJ1lUr\"></div>\n",
       "            <script type=\"text/javascript\" data-lets-plot-script=\"library\">\n",
       "                if(!window.letsPlotCallQueue) {\n",
       "                    window.letsPlotCallQueue = [];\n",
       "                }; \n",
       "                window.letsPlotCall = function(f) {\n",
       "                    window.letsPlotCallQueue.push(f);\n",
       "                };\n",
       "                (function() {\n",
       "                    var script = document.createElement(\"script\");\n",
       "                    script.type = \"text/javascript\";\n",
       "                    script.src = \"https://cdn.jsdelivr.net/gh/JetBrains/lets-plot@v4.4.1/js-package/distr/lets-plot.min.js\";\n",
       "                    script.onload = function() {\n",
       "                        window.letsPlotCall = function(f) {f();};\n",
       "                        window.letsPlotCallQueue.forEach(function(f) {f();});\n",
       "                        window.letsPlotCallQueue = [];\n",
       "                        \n",
       "                    };\n",
       "                    script.onerror = function(event) {\n",
       "                        window.letsPlotCall = function(f) {};    // noop\n",
       "                        window.letsPlotCallQueue = [];\n",
       "                        var div = document.createElement(\"div\");\n",
       "                        div.style.color = 'darkred';\n",
       "                        div.textContent = 'Error loading Lets-Plot JS';\n",
       "                        document.getElementById(\"GJ1lUr\").appendChild(div);\n",
       "                    };\n",
       "                    var e = document.getElementById(\"GJ1lUr\");\n",
       "                    e.appendChild(script);\n",
       "                })()\n",
       "            </script>\n",
       "            "
      ]
     },
     "metadata": {},
     "output_type": "display_data"
    }
   ],
   "source": [
    "import numpy as np\n",
    "from lets_plot import *\n",
    "\n",
    "LetsPlot.setup_html()"
   ]
  },
  {
   "cell_type": "code",
   "execution_count": 2,
   "metadata": {
    "execution": {
     "iopub.execute_input": "2024-10-02T08:42:05.017592Z",
     "iopub.status.busy": "2024-10-02T08:42:05.017433Z",
     "iopub.status.idle": "2024-10-02T08:42:05.019161Z",
     "shell.execute_reply": "2024-10-02T08:42:05.018913Z"
    }
   },
   "outputs": [],
   "source": [
    "LetsPlot.set_theme(flavor_solarized_light())"
   ]
  },
  {
   "cell_type": "code",
   "execution_count": 3,
   "metadata": {
    "execution": {
     "iopub.execute_input": "2024-10-02T08:42:05.020215Z",
     "iopub.status.busy": "2024-10-02T08:42:05.020137Z",
     "iopub.status.idle": "2024-10-02T08:42:05.021815Z",
     "shell.execute_reply": "2024-10-02T08:42:05.021597Z"
    }
   },
   "outputs": [],
   "source": [
    "arr = np.array([\n",
    "    [50., 150., 200.],\n",
    "    [200., 100., 50.]\n",
    "    ])\n"
   ]
  },
  {
   "cell_type": "code",
   "execution_count": 4,
   "metadata": {
    "execution": {
     "iopub.execute_input": "2024-10-02T08:42:05.022815Z",
     "iopub.status.busy": "2024-10-02T08:42:05.022746Z",
     "iopub.status.idle": "2024-10-02T08:42:05.057274Z",
     "shell.execute_reply": "2024-10-02T08:42:05.057047Z"
    }
   },
   "outputs": [
    {
     "data": {
      "text/html": [
       "   <div id=\"ncu0YB\"></div>\n",
       "   <script type=\"text/javascript\" data-lets-plot-script=\"plot\">\n",
       "       (function() {\n",
       "           var plotSpec={\n",
       "\"mapping\":{\n",
       "},\n",
       "\"data_meta\":{\n",
       "},\n",
       "\"theme\":{\n",
       "\"flavor\":\"solarized_light\"\n",
       "},\n",
       "\"kind\":\"plot\",\n",
       "\"scales\":[{\n",
       "\"name\":\"\",\n",
       "\"aesthetic\":\"paint_c\",\n",
       "\"start\":0.0,\n",
       "\"end\":1.0,\n",
       "\"scale_mapper_kind\":\"color_grey\"\n",
       "}],\n",
       "\"layers\":[{\n",
       "\"geom\":\"image\",\n",
       "\"mapping\":{\n",
       "\"paint_c\":\"paint_c\"\n",
       "},\n",
       "\"show_legend\":true,\n",
       "\"data_meta\":{\n",
       "},\n",
       "\"href\":\"data:image/png;base64,iVBORw0KGgoAAAANSUhEUgAAAAMAAAACCAAAAAC4HznGAAAAEElEQVR4nGNgWPWf4X8oAwAMpgL+OLO0AgAAAABJRU5ErkJggg==\",\n",
       "\"xmin\":-0.5,\n",
       "\"ymin\":-0.5,\n",
       "\"xmax\":2.5,\n",
       "\"ymax\":1.5,\n",
       "\"color_by\":\"paint_c\",\n",
       "\"data\":{\n",
       "\"paint_c\":[50.0,200.0]\n",
       "}\n",
       "}],\n",
       "\"metainfo_list\":[]\n",
       "};\n",
       "           var plotContainer = document.getElementById(\"ncu0YB\");\n",
       "           window.letsPlotCall(function() {{\n",
       "               LetsPlot.buildPlotFromProcessedSpecs(plotSpec, -1, -1, plotContainer);\n",
       "           }});\n",
       "       })();\n",
       "   </script>"
      ],
      "text/plain": [
       "<lets_plot.plot.core.PlotSpec at 0x1494cb3d0>"
      ]
     },
     "execution_count": 4,
     "metadata": {},
     "output_type": "execute_result"
    }
   ],
   "source": [
    "ggplot() + geom_imshow(arr)"
   ]
  },
  {
   "cell_type": "code",
   "execution_count": 5,
   "metadata": {
    "execution": {
     "iopub.execute_input": "2024-10-02T08:42:05.058392Z",
     "iopub.status.busy": "2024-10-02T08:42:05.058300Z",
     "iopub.status.idle": "2024-10-02T08:42:05.059956Z",
     "shell.execute_reply": "2024-10-02T08:42:05.059749Z"
    }
   },
   "outputs": [],
   "source": [
    "# With NaN values\n",
    "\n",
    "arr_nan = np.array([\n",
    "    [50., np.nan, 200.],\n",
    "    [np.nan, 100., 50.]\n",
    "    ])\n"
   ]
  },
  {
   "cell_type": "code",
   "execution_count": 6,
   "metadata": {
    "execution": {
     "iopub.execute_input": "2024-10-02T08:42:05.060954Z",
     "iopub.status.busy": "2024-10-02T08:42:05.060868Z",
     "iopub.status.idle": "2024-10-02T08:42:05.063264Z",
     "shell.execute_reply": "2024-10-02T08:42:05.063057Z"
    }
   },
   "outputs": [
    {
     "data": {
      "text/html": [
       "   <div id=\"GfgS7O\"></div>\n",
       "   <script type=\"text/javascript\" data-lets-plot-script=\"plot\">\n",
       "       (function() {\n",
       "           var plotSpec={\n",
       "\"mapping\":{\n",
       "},\n",
       "\"data_meta\":{\n",
       "},\n",
       "\"theme\":{\n",
       "\"flavor\":\"solarized_light\"\n",
       "},\n",
       "\"kind\":\"plot\",\n",
       "\"scales\":[{\n",
       "\"name\":\"\",\n",
       "\"aesthetic\":\"paint_c\",\n",
       "\"start\":0.0,\n",
       "\"end\":1.0,\n",
       "\"scale_mapper_kind\":\"color_grey\"\n",
       "}],\n",
       "\"layers\":[{\n",
       "\"geom\":\"image\",\n",
       "\"mapping\":{\n",
       "\"paint_c\":\"paint_c\"\n",
       "},\n",
       "\"show_legend\":true,\n",
       "\"data_meta\":{\n",
       "},\n",
       "\"href\":\"data:image/png;base64,iVBORw0KGgoAAAANSUhEUgAAAAMAAAACCAQAAAA3fa6RAAAAFUlEQVR4nGNg+M/A8B+IGUL/M/wHACJBBVE68QEEAAAAAElFTkSuQmCC\",\n",
       "\"xmin\":-0.5,\n",
       "\"ymin\":-0.5,\n",
       "\"xmax\":2.5,\n",
       "\"ymax\":1.5,\n",
       "\"color_by\":\"paint_c\",\n",
       "\"data\":{\n",
       "\"paint_c\":[50.0,200.0]\n",
       "}\n",
       "}],\n",
       "\"metainfo_list\":[]\n",
       "};\n",
       "           var plotContainer = document.getElementById(\"GfgS7O\");\n",
       "           window.letsPlotCall(function() {{\n",
       "               LetsPlot.buildPlotFromProcessedSpecs(plotSpec, -1, -1, plotContainer);\n",
       "           }});\n",
       "       })();\n",
       "   </script>"
      ],
      "text/plain": [
       "<lets_plot.plot.core.PlotSpec at 0x105adb550>"
      ]
     },
     "execution_count": 6,
     "metadata": {},
     "output_type": "execute_result"
    }
   ],
   "source": [
    "ggplot() + geom_imshow(arr_nan)"
   ]
  },
  {
   "cell_type": "markdown",
   "metadata": {},
   "source": [
    "## NaN values + cmap"
   ]
  },
  {
   "cell_type": "code",
   "execution_count": 7,
   "metadata": {
    "execution": {
     "iopub.execute_input": "2024-10-02T08:42:05.064275Z",
     "iopub.status.busy": "2024-10-02T08:42:05.064192Z",
     "iopub.status.idle": "2024-10-02T08:42:05.067589Z",
     "shell.execute_reply": "2024-10-02T08:42:05.067370Z"
    }
   },
   "outputs": [
    {
     "data": {
      "text/html": [
       "   <div id=\"oNz2HQ\"></div>\n",
       "   <script type=\"text/javascript\" data-lets-plot-script=\"plot\">\n",
       "       (function() {\n",
       "           var plotSpec={\n",
       "\"mapping\":{\n",
       "},\n",
       "\"data_meta\":{\n",
       "},\n",
       "\"theme\":{\n",
       "\"flavor\":\"solarized_light\"\n",
       "},\n",
       "\"kind\":\"plot\",\n",
       "\"scales\":[{\n",
       "\"name\":\"\",\n",
       "\"aesthetic\":\"paint_c\",\n",
       "\"colors\":[\"#000004\",\"#030312\",\"#0A0822\",\"#140E36\",\"#1E1149\",\"#2A115C\",\"#38106C\",\"#471078\",\"#54137D\",\"#601880\",\"#6D1D81\",\"#792282\",\"#882781\",\"#942C80\",\"#A1307E\",\"#AE347B\",\"#BD3977\",\"#CA3E72\",\"#D6456C\",\"#E24D66\",\"#EC5860\",\"#F3655C\",\"#F8745C\",\"#FB835F\",\"#FD9266\",\"#FEA36F\",\"#FEB27A\",\"#FEC185\",\"#FECF92\",\"#FDE0A1\",\"#FCEEB0\",\"#FCFDBF\"],\n",
       "\"scale_mapper_kind\":\"color_gradientn\"\n",
       "}],\n",
       "\"layers\":[{\n",
       "\"geom\":\"image\",\n",
       "\"mapping\":{\n",
       "\"paint_c\":\"paint_c\"\n",
       "},\n",
       "\"show_legend\":true,\n",
       "\"data_meta\":{\n",
       "},\n",
       "\"href\":\"data:image/png;base64,iVBORw0KGgoAAAANSUhEUgAAAAMAAAACCAMAAACqqpYoAAADAFBMVEUAAAAAAAQBAAUBAQYBAQgCAQkCAgsCAg0DAw8DAxIEBBQFBBYGBRgGBRoHBhwIBx4JByAKCCILCSQMCSYNCikOCysQCy0RDC8SDTETDTQUDjYVDjgWDzsYDz0ZED8aEEIcEEQdEUceEUkgEUshEU4iEVAkElMlElUnElgpEVoqEVwsEV8tEWEvEWMxEWUzEGc0EGk2EGs4EGw5D247D3A9D3E/D3JAD3RCD3VED3ZFEHdHEHhJEHhKEHlMEXpOEXtPEntREnxSE3xUE31WFH1XFX5ZFX5aFn5cFn9dF39fGH9gGIBiGYBkGoBlGoBnG4BoHIFqHIFrHYFtHYFuHoFwH4FyH4FzIIF1IYF2IYF4IoF5IoJ7I4J8I4J+JIKAJYKBJYGDJoGEJoGGJ4GIJ4GJKIGLKYGMKYGOKoGQKoGRK4GTK4CULICWLICYLYCZLYCbLn+cLn+eL3+gL3+hMH6jMH6lMX6mMX2oMn2qM32rM3ytNHyuNHuwNXuyNXuzNnq3N3m4N3m6OHi8OXi9OXe/OnfAOnbCO3XEPHXFPHTHPXPIPnPKPnLMP3HNQHHPQHDQQW/SQm/TQ27VRG3WRWzYRWzZRmvbR2rcSGneSWjfSmjgTGfiTWbjTmXkT2TlUGTnUmPoU2LpVGLqVmHrV2DsWGDtWl/uW17vXV7wX17xYF3yYl3yZFzzZVz0Z1z0aVz1a1z2bFz2blz3cFz3clz4dFz4dlz5eF35eV35e136fV76f176gV/7g1/7hWD7h2H8iWH8imL8jGP8jmT8kGX9kmb9lGf9lmj9mGn9mmr9m2v+nWz+n23+oW7+o2/+pXH+p3L+qXP+qnT+rHb+rnf+sHj+snr+tHv+tnz+t37+uX/+u4H+vYL+v4T+wYX+wof+xIj+xor+yIz+yo3+zI/+zZD+z5L+0ZT+05X+1Zf+15n+2Jr92pz93J793qD94KH94qP946X95af956n96ar966z87K787rD88LL88rT89Lb89rj897n8+bv8+738/b/pkH4eAAABAHRSTlMA////////////////////////////////////////////////////////////////////////////////////////////////////////////////////////////////////////////////////////////////////////////////////////////////////////////////////////////////////////////////////////////////////////////////////////////////////////////////////////////////////////////////////Cpf0PAAAABBJREFUeJxjYGT4z8AQxggABbcBWIp93mUAAAAASUVORK5CYII=\",\n",
       "\"xmin\":-0.5,\n",
       "\"ymin\":-0.5,\n",
       "\"xmax\":2.5,\n",
       "\"ymax\":1.5,\n",
       "\"color_by\":\"paint_c\",\n",
       "\"data\":{\n",
       "\"paint_c\":[50.0,200.0]\n",
       "}\n",
       "}],\n",
       "\"metainfo_list\":[]\n",
       "};\n",
       "           var plotContainer = document.getElementById(\"oNz2HQ\");\n",
       "           window.letsPlotCall(function() {{\n",
       "               LetsPlot.buildPlotFromProcessedSpecs(plotSpec, -1, -1, plotContainer);\n",
       "           }});\n",
       "       })();\n",
       "   </script>"
      ],
      "text/plain": [
       "<lets_plot.plot.core.PlotSpec at 0x149666b90>"
      ]
     },
     "execution_count": 7,
     "metadata": {},
     "output_type": "execute_result"
    }
   ],
   "source": [
    "ggplot() + geom_imshow(arr_nan, cmap=\"magma\")"
   ]
  },
  {
   "cell_type": "code",
   "execution_count": 8,
   "metadata": {
    "execution": {
     "iopub.execute_input": "2024-10-02T08:42:05.068624Z",
     "iopub.status.busy": "2024-10-02T08:42:05.068543Z",
     "iopub.status.idle": "2024-10-02T08:42:05.071043Z",
     "shell.execute_reply": "2024-10-02T08:42:05.070817Z"
    }
   },
   "outputs": [
    {
     "data": {
      "text/plain": [
       "{'mapping': {},\n",
       " 'data_meta': {},\n",
       " 'theme': {'flavor': 'solarized_light'},\n",
       " 'kind': 'plot',\n",
       " 'scales': [{'name': '',\n",
       "   'aesthetic': 'paint_c',\n",
       "   'colors': ['#000004',\n",
       "    '#030312',\n",
       "    '#0A0822',\n",
       "    '#140E36',\n",
       "    '#1E1149',\n",
       "    '#2A115C',\n",
       "    '#38106C',\n",
       "    '#471078',\n",
       "    '#54137D',\n",
       "    '#601880',\n",
       "    '#6D1D81',\n",
       "    '#792282',\n",
       "    '#882781',\n",
       "    '#942C80',\n",
       "    '#A1307E',\n",
       "    '#AE347B',\n",
       "    '#BD3977',\n",
       "    '#CA3E72',\n",
       "    '#D6456C',\n",
       "    '#E24D66',\n",
       "    '#EC5860',\n",
       "    '#F3655C',\n",
       "    '#F8745C',\n",
       "    '#FB835F',\n",
       "    '#FD9266',\n",
       "    '#FEA36F',\n",
       "    '#FEB27A',\n",
       "    '#FEC185',\n",
       "    '#FECF92',\n",
       "    '#FDE0A1',\n",
       "    '#FCEEB0',\n",
       "    '#FCFDBF'],\n",
       "   'scale_mapper_kind': 'color_gradientn'}],\n",
       " 'layers': [{'geom': 'image',\n",
       "   'mapping': {'paint_c': [50.0, 200.0]},\n",
       "   'show_legend': True,\n",
       "   'data_meta': {},\n",
       "   'href': 'data:image/png;base64,iVBORw0KGgoAAAANSUhEUgAAAAMAAAACCAMAAACqqpYoAAADAFBMVEUAAAAAAAQBAAUBAQYBAQgCAQkCAgsCAg0DAw8DAxIEBBQFBBYGBRgGBRoHBhwIBx4JByAKCCILCSQMCSYNCikOCysQCy0RDC8SDTETDTQUDjYVDjgWDzsYDz0ZED8aEEIcEEQdEUceEUkgEUshEU4iEVAkElMlElUnElgpEVoqEVwsEV8tEWEvEWMxEWUzEGc0EGk2EGs4EGw5D247D3A9D3E/D3JAD3RCD3VED3ZFEHdHEHhJEHhKEHlMEXpOEXtPEntREnxSE3xUE31WFH1XFX5ZFX5aFn5cFn9dF39fGH9gGIBiGYBkGoBlGoBnG4BoHIFqHIFrHYFtHYFuHoFwH4FyH4FzIIF1IYF2IYF4IoF5IoJ7I4J8I4J+JIKAJYKBJYGDJoGEJoGGJ4GIJ4GJKIGLKYGMKYGOKoGQKoGRK4GTK4CULICWLICYLYCZLYCbLn+cLn+eL3+gL3+hMH6jMH6lMX6mMX2oMn2qM32rM3ytNHyuNHuwNXuyNXuzNnq3N3m4N3m6OHi8OXi9OXe/OnfAOnbCO3XEPHXFPHTHPXPIPnPKPnLMP3HNQHHPQHDQQW/SQm/TQ27VRG3WRWzYRWzZRmvbR2rcSGneSWjfSmjgTGfiTWbjTmXkT2TlUGTnUmPoU2LpVGLqVmHrV2DsWGDtWl/uW17vXV7wX17xYF3yYl3yZFzzZVz0Z1z0aVz1a1z2bFz2blz3cFz3clz4dFz4dlz5eF35eV35e136fV76f176gV/7g1/7hWD7h2H8iWH8imL8jGP8jmT8kGX9kmb9lGf9lmj9mGn9mmr9m2v+nWz+n23+oW7+o2/+pXH+p3L+qXP+qnT+rHb+rnf+sHj+snr+tHv+tnz+t37+uX/+u4H+vYL+v4T+wYX+wof+xIj+xor+yIz+yo3+zI/+zZD+z5L+0ZT+05X+1Zf+15n+2Jr92pz93J793qD94KH94qP946X95af956n96ar966z87K787rD88LL88rT89Lb89rj897n8+bv8+738/b/pkH4eAAABAHRSTlMA////////////////////////////////////////////////////////////////////////////////////////////////////////////////////////////////////////////////////////////////////////////////////////////////////////////////////////////////////////////////////////////////////////////////////////////////////////////////////////////////////////////////////Cpf0PAAAABBJREFUeJxjYGT4z8AQxggABbcBWIp93mUAAAAASUVORK5CYII=',\n",
       "   'xmin': -0.5,\n",
       "   'ymin': -0.5,\n",
       "   'xmax': 2.5,\n",
       "   'ymax': 1.5,\n",
       "   'color_by': 'paint_c'}],\n",
       " 'metainfo_list': []}"
      ]
     },
     "execution_count": 8,
     "metadata": {},
     "output_type": "execute_result"
    }
   ],
   "source": [
    "_.as_dict()"
   ]
  },
  {
   "cell_type": "code",
   "execution_count": null,
   "metadata": {},
   "outputs": [],
   "source": []
  }
 ],
 "metadata": {
  "kernelspec": {
   "display_name": "Python 3",
   "language": "python",
   "name": "python3"
  },
  "language_info": {
   "codemirror_mode": {
    "name": "ipython",
    "version": 3
   },
   "file_extension": ".py",
   "mimetype": "text/x-python",
   "name": "python",
   "nbconvert_exporter": "python",
   "pygments_lexer": "ipython3",
   "version": "3.10.15"
  }
 },
 "nbformat": 4,
 "nbformat_minor": 4
}
