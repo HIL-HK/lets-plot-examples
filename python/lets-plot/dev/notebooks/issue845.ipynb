{
 "cells": [
  {
   "cell_type": "code",
   "execution_count": 1,
   "id": "f2a9d691",
   "metadata": {
    "execution": {
     "iopub.execute_input": "2024-09-27T17:56:55.722143Z",
     "iopub.status.busy": "2024-09-27T17:56:55.721715Z",
     "iopub.status.idle": "2024-09-27T17:56:56.139056Z",
     "shell.execute_reply": "2024-09-27T17:56:56.138724Z"
    }
   },
   "outputs": [],
   "source": [
    "import pandas as pd\n",
    "from lets_plot import *\n",
    "\n",
    "def dump_plot(plot, display=None):\n",
    "    import json\n",
    "\n",
    "    try:\n",
    "        import clipboard\n",
    "    except:\n",
    "        clipboard = None\n",
    "        \n",
    "    from lets_plot._type_utils import standardize_dict\n",
    "    \n",
    "    plot_dict = standardize_dict(plot.as_dict())\n",
    "    plot_json = json.dumps(plot_dict, indent=2)\n",
    "    \n",
    "    if clipboard:\n",
    "        clipboard.copy('')\n",
    "        clipboard.copy(str(plot_json))\n",
    "    else:\n",
    "        if display is None:\n",
    "            display = True\n",
    "    \n",
    "    if display:\n",
    "        print(plot_json)\n",
    "\n",
    "    return plot\n",
    "    "
   ]
  },
  {
   "cell_type": "code",
   "execution_count": 2,
   "id": "632b5308",
   "metadata": {
    "execution": {
     "iopub.execute_input": "2024-09-27T17:56:56.140361Z",
     "iopub.status.busy": "2024-09-27T17:56:56.140247Z",
     "iopub.status.idle": "2024-09-27T17:56:56.142373Z",
     "shell.execute_reply": "2024-09-27T17:56:56.142183Z"
    }
   },
   "outputs": [
    {
     "data": {
      "text/html": [
       "\n",
       "            <div id=\"Rplf5h\"></div>\n",
       "            <script type=\"text/javascript\" data-lets-plot-script=\"library\">\n",
       "                if(!window.letsPlotCallQueue) {\n",
       "                    window.letsPlotCallQueue = [];\n",
       "                }; \n",
       "                window.letsPlotCall = function(f) {\n",
       "                    window.letsPlotCallQueue.push(f);\n",
       "                };\n",
       "                (function() {\n",
       "                    var script = document.createElement(\"script\");\n",
       "                    script.type = \"text/javascript\";\n",
       "                    script.src = \"https://cdn.jsdelivr.net/gh/JetBrains/lets-plot@v4.4.1/js-package/distr/lets-plot.min.js\";\n",
       "                    script.onload = function() {\n",
       "                        window.letsPlotCall = function(f) {f();};\n",
       "                        window.letsPlotCallQueue.forEach(function(f) {f();});\n",
       "                        window.letsPlotCallQueue = [];\n",
       "                        \n",
       "                    };\n",
       "                    script.onerror = function(event) {\n",
       "                        window.letsPlotCall = function(f) {};    // noop\n",
       "                        window.letsPlotCallQueue = [];\n",
       "                        var div = document.createElement(\"div\");\n",
       "                        div.style.color = 'darkred';\n",
       "                        div.textContent = 'Error loading Lets-Plot JS';\n",
       "                        document.getElementById(\"Rplf5h\").appendChild(div);\n",
       "                    };\n",
       "                    var e = document.getElementById(\"Rplf5h\");\n",
       "                    e.appendChild(script);\n",
       "                })()\n",
       "            </script>\n",
       "            "
      ]
     },
     "metadata": {},
     "output_type": "display_data"
    }
   ],
   "source": [
    "LetsPlot.setup_html()"
   ]
  },
  {
   "cell_type": "code",
   "execution_count": 3,
   "id": "57d71b80",
   "metadata": {
    "execution": {
     "iopub.execute_input": "2024-09-27T17:56:56.143402Z",
     "iopub.status.busy": "2024-09-27T17:56:56.143331Z",
     "iopub.status.idle": "2024-09-27T17:56:56.145661Z",
     "shell.execute_reply": "2024-09-27T17:56:56.145405Z"
    }
   },
   "outputs": [],
   "source": [
    "plot_data = pd.DataFrame.from_records([\n",
    "    (\"pet\", \"cat\", 5, \"carnivore\"),\n",
    "    (\"pet\", \"dog\", 10, \"carnivore\"),\n",
    "    (\"pet\", \"rabbit\", 2, \"herbivore\"),\n",
    "    (\"pet\", \"hamster\", 1, \"herbivore\"),\n",
    "\n",
    "    (\"farm_animal\", \"cow\", 500, \"herbivore\"),\n",
    "    (\"farm_animal\", \"pig\", 100, \"carnivore\"),\n",
    "    (\"farm_animal\", \"horse\", 700, \"herbivore\"),\n",
    "])\n",
    "plot_data.columns = (\"animal_type\", \"animal\", \"weight\", \"diet\")\n"
   ]
  },
  {
   "cell_type": "code",
   "execution_count": 4,
   "id": "c2b38e6c",
   "metadata": {
    "execution": {
     "iopub.execute_input": "2024-09-27T17:56:56.146649Z",
     "iopub.status.busy": "2024-09-27T17:56:56.146579Z",
     "iopub.status.idle": "2024-09-27T17:56:56.175359Z",
     "shell.execute_reply": "2024-09-27T17:56:56.175127Z"
    }
   },
   "outputs": [
    {
     "name": "stdout",
     "output_type": "stream",
     "text": [
      "{\n",
      "  \"data\": {\n",
      "    \"animal_type\": [\n",
      "      \"pet\",\n",
      "      \"pet\",\n",
      "      \"pet\",\n",
      "      \"pet\",\n",
      "      \"farm_animal\",\n",
      "      \"farm_animal\",\n",
      "      \"farm_animal\"\n",
      "    ],\n",
      "    \"animal\": [\n",
      "      \"cat\",\n",
      "      \"dog\",\n",
      "      \"rabbit\",\n",
      "      \"hamster\",\n",
      "      \"cow\",\n",
      "      \"pig\",\n",
      "      \"horse\"\n",
      "    ],\n",
      "    \"weight\": [\n",
      "      5.0,\n",
      "      10.0,\n",
      "      2.0,\n",
      "      1.0,\n",
      "      500.0,\n",
      "      100.0,\n",
      "      700.0\n",
      "    ],\n",
      "    \"diet\": [\n",
      "      \"carnivore\",\n",
      "      \"carnivore\",\n",
      "      \"herbivore\",\n",
      "      \"herbivore\",\n",
      "      \"herbivore\",\n",
      "      \"carnivore\",\n",
      "      \"herbivore\"\n",
      "    ]\n",
      "  },\n",
      "  \"mapping\": {\n",
      "    \"x\": \"animal\",\n",
      "    \"y\": \"weight\"\n",
      "  },\n",
      "  \"data_meta\": {\n",
      "    \"series_annotations\": [\n",
      "      {\n",
      "        \"type\": \"str\",\n",
      "        \"column\": \"animal_type\"\n",
      "      },\n",
      "      {\n",
      "        \"type\": \"str\",\n",
      "        \"column\": \"animal\"\n",
      "      },\n",
      "      {\n",
      "        \"type\": \"int\",\n",
      "        \"column\": \"weight\"\n",
      "      },\n",
      "      {\n",
      "        \"type\": \"str\",\n",
      "        \"column\": \"diet\"\n",
      "      }\n",
      "    ]\n",
      "  },\n",
      "  \"theme\": {\n",
      "    \"name\": \"bw\",\n",
      "    \"panel_grid_minor\": {\n",
      "      \"blank\": true\n",
      "    }\n",
      "  },\n",
      "  \"kind\": \"plot\",\n",
      "  \"scales\": [],\n",
      "  \"layers\": [\n",
      "    {\n",
      "      \"geom\": \"bar\",\n",
      "      \"stat\": \"identity\",\n",
      "      \"mapping\": {},\n",
      "      \"data_meta\": {}\n",
      "    }\n",
      "  ],\n",
      "  \"metainfo_list\": []\n",
      "}\n"
     ]
    },
    {
     "data": {
      "text/html": [
       "   <div id=\"V1Iw8v\"></div>\n",
       "   <script type=\"text/javascript\" data-lets-plot-script=\"plot\">\n",
       "       (function() {\n",
       "           var plotSpec={\n",
       "\"data\":{\n",
       "\"animal\":[\"cat\",\"dog\",\"rabbit\",\"hamster\",\"cow\",\"pig\",\"horse\"],\n",
       "\"weight\":[5.0,10.0,2.0,1.0,500.0,100.0,700.0]\n",
       "},\n",
       "\"mapping\":{\n",
       "\"x\":\"animal\",\n",
       "\"y\":\"weight\"\n",
       "},\n",
       "\"data_meta\":{\n",
       "\"series_annotations\":[{\n",
       "\"type\":\"str\",\n",
       "\"column\":\"animal_type\"\n",
       "},{\n",
       "\"type\":\"str\",\n",
       "\"column\":\"animal\"\n",
       "},{\n",
       "\"type\":\"int\",\n",
       "\"column\":\"weight\"\n",
       "},{\n",
       "\"type\":\"str\",\n",
       "\"column\":\"diet\"\n",
       "}]\n",
       "},\n",
       "\"theme\":{\n",
       "\"name\":\"bw\",\n",
       "\"panel_grid_minor\":{\n",
       "\"blank\":true\n",
       "}\n",
       "},\n",
       "\"kind\":\"plot\",\n",
       "\"scales\":[],\n",
       "\"layers\":[{\n",
       "\"geom\":\"bar\",\n",
       "\"stat\":\"identity\",\n",
       "\"mapping\":{\n",
       "},\n",
       "\"data_meta\":{\n",
       "},\n",
       "\"data\":{\n",
       "}\n",
       "}],\n",
       "\"metainfo_list\":[]\n",
       "};\n",
       "           var plotContainer = document.getElementById(\"V1Iw8v\");\n",
       "           window.letsPlotCall(function() {{\n",
       "               LetsPlot.buildPlotFromProcessedSpecs(plotSpec, -1, -1, plotContainer);\n",
       "           }});\n",
       "       })();\n",
       "   </script>"
      ],
      "text/plain": [
       "<lets_plot.plot.core.PlotSpec at 0x12dcd0070>"
      ]
     },
     "execution_count": 4,
     "metadata": {},
     "output_type": "execute_result"
    }
   ],
   "source": [
    "plot = (\n",
    "    ggplot(plot_data, aes(x=\"animal\", y=\"weight\"))\n",
    "    + geom_bar(stat=\"identity\")\n",
    "    + theme_bw()\n",
    "    + theme(\n",
    "        panel_grid_minor=element_blank()\n",
    "    )\n",
    ")\n",
    "dump_plot(plot)"
   ]
  },
  {
   "cell_type": "markdown",
   "id": "e6b3addb",
   "metadata": {},
   "source": [
    "#### Two facets, grid, free scales"
   ]
  },
  {
   "cell_type": "code",
   "execution_count": 5,
   "id": "d49c97ea",
   "metadata": {
    "execution": {
     "iopub.execute_input": "2024-09-27T17:56:56.176460Z",
     "iopub.status.busy": "2024-09-27T17:56:56.176388Z",
     "iopub.status.idle": "2024-09-27T17:56:56.178700Z",
     "shell.execute_reply": "2024-09-27T17:56:56.178502Z"
    }
   },
   "outputs": [
    {
     "data": {
      "text/html": [
       "   <div id=\"kEK9OI\"></div>\n",
       "   <script type=\"text/javascript\" data-lets-plot-script=\"plot\">\n",
       "       (function() {\n",
       "           var plotSpec={\n",
       "\"data\":{\n",
       "\"animal_type\":[\"pet\",\"pet\",\"pet\",\"pet\",\"farm_animal\",\"farm_animal\",\"farm_animal\"],\n",
       "\"animal\":[\"cat\",\"dog\",\"rabbit\",\"hamster\",\"cow\",\"pig\",\"horse\"],\n",
       "\"weight\":[5.0,10.0,2.0,1.0,500.0,100.0,700.0]\n",
       "},\n",
       "\"mapping\":{\n",
       "\"x\":\"animal\",\n",
       "\"y\":\"weight\"\n",
       "},\n",
       "\"data_meta\":{\n",
       "\"series_annotations\":[{\n",
       "\"type\":\"str\",\n",
       "\"column\":\"animal_type\"\n",
       "},{\n",
       "\"type\":\"str\",\n",
       "\"column\":\"animal\"\n",
       "},{\n",
       "\"type\":\"int\",\n",
       "\"column\":\"weight\"\n",
       "},{\n",
       "\"type\":\"str\",\n",
       "\"column\":\"diet\"\n",
       "}]\n",
       "},\n",
       "\"theme\":{\n",
       "\"name\":\"bw\",\n",
       "\"panel_grid_minor\":{\n",
       "\"blank\":true\n",
       "}\n",
       "},\n",
       "\"facet\":{\n",
       "\"name\":\"grid\",\n",
       "\"x\":\"animal_type\",\n",
       "\"scales\":\"free\",\n",
       "\"x_order\":1.0,\n",
       "\"y_order\":1.0\n",
       "},\n",
       "\"kind\":\"plot\",\n",
       "\"scales\":[],\n",
       "\"layers\":[{\n",
       "\"geom\":\"bar\",\n",
       "\"stat\":\"identity\",\n",
       "\"mapping\":{\n",
       "},\n",
       "\"data_meta\":{\n",
       "},\n",
       "\"data\":{\n",
       "}\n",
       "}],\n",
       "\"metainfo_list\":[]\n",
       "};\n",
       "           var plotContainer = document.getElementById(\"kEK9OI\");\n",
       "           window.letsPlotCall(function() {{\n",
       "               LetsPlot.buildPlotFromProcessedSpecs(plotSpec, -1, -1, plotContainer);\n",
       "           }});\n",
       "       })();\n",
       "   </script>"
      ],
      "text/plain": [
       "<lets_plot.plot.core.PlotSpec at 0x105d7b700>"
      ]
     },
     "execution_count": 5,
     "metadata": {},
     "output_type": "execute_result"
    }
   ],
   "source": [
    "plot + facet_grid(x = \"animal_type\", scales=\"free\")"
   ]
  },
  {
   "cell_type": "markdown",
   "id": "009732d4",
   "metadata": {},
   "source": [
    "#### Two facets, wrap, free scales"
   ]
  },
  {
   "cell_type": "code",
   "execution_count": 6,
   "id": "cc578600",
   "metadata": {
    "execution": {
     "iopub.execute_input": "2024-09-27T17:56:56.179732Z",
     "iopub.status.busy": "2024-09-27T17:56:56.179663Z",
     "iopub.status.idle": "2024-09-27T17:56:56.181955Z",
     "shell.execute_reply": "2024-09-27T17:56:56.181736Z"
    }
   },
   "outputs": [
    {
     "data": {
      "text/html": [
       "   <div id=\"10qG4f\"></div>\n",
       "   <script type=\"text/javascript\" data-lets-plot-script=\"plot\">\n",
       "       (function() {\n",
       "           var plotSpec={\n",
       "\"data\":{\n",
       "\"animal_type\":[\"pet\",\"pet\",\"pet\",\"pet\",\"farm_animal\",\"farm_animal\",\"farm_animal\"],\n",
       "\"animal\":[\"cat\",\"dog\",\"rabbit\",\"hamster\",\"cow\",\"pig\",\"horse\"],\n",
       "\"weight\":[5.0,10.0,2.0,1.0,500.0,100.0,700.0]\n",
       "},\n",
       "\"mapping\":{\n",
       "\"x\":\"animal\",\n",
       "\"y\":\"weight\"\n",
       "},\n",
       "\"data_meta\":{\n",
       "\"series_annotations\":[{\n",
       "\"type\":\"str\",\n",
       "\"column\":\"animal_type\"\n",
       "},{\n",
       "\"type\":\"str\",\n",
       "\"column\":\"animal\"\n",
       "},{\n",
       "\"type\":\"int\",\n",
       "\"column\":\"weight\"\n",
       "},{\n",
       "\"type\":\"str\",\n",
       "\"column\":\"diet\"\n",
       "}]\n",
       "},\n",
       "\"theme\":{\n",
       "\"name\":\"bw\",\n",
       "\"panel_grid_minor\":{\n",
       "\"blank\":true\n",
       "}\n",
       "},\n",
       "\"facet\":{\n",
       "\"name\":\"wrap\",\n",
       "\"facets\":\"animal_type\",\n",
       "\"ncol\":2.0,\n",
       "\"scales\":\"free\",\n",
       "\"order\":1.0,\n",
       "\"dir\":\"h\"\n",
       "},\n",
       "\"kind\":\"plot\",\n",
       "\"scales\":[],\n",
       "\"layers\":[{\n",
       "\"geom\":\"bar\",\n",
       "\"stat\":\"identity\",\n",
       "\"mapping\":{\n",
       "},\n",
       "\"data_meta\":{\n",
       "},\n",
       "\"data\":{\n",
       "}\n",
       "}],\n",
       "\"metainfo_list\":[]\n",
       "};\n",
       "           var plotContainer = document.getElementById(\"10qG4f\");\n",
       "           window.letsPlotCall(function() {{\n",
       "               LetsPlot.buildPlotFromProcessedSpecs(plotSpec, -1, -1, plotContainer);\n",
       "           }});\n",
       "       })();\n",
       "   </script>"
      ],
      "text/plain": [
       "<lets_plot.plot.core.PlotSpec at 0x12de8c670>"
      ]
     },
     "execution_count": 6,
     "metadata": {},
     "output_type": "execute_result"
    }
   ],
   "source": [
    "plot + facet_wrap(facets=\"animal_type\", ncol=2, scales=\"free\")"
   ]
  },
  {
   "cell_type": "markdown",
   "id": "be5fb006",
   "metadata": {},
   "source": [
    "#### Four facets, grid, free x"
   ]
  },
  {
   "cell_type": "code",
   "execution_count": 7,
   "id": "dfcffe78",
   "metadata": {
    "execution": {
     "iopub.execute_input": "2024-09-27T17:56:56.182966Z",
     "iopub.status.busy": "2024-09-27T17:56:56.182897Z",
     "iopub.status.idle": "2024-09-27T17:56:56.185125Z",
     "shell.execute_reply": "2024-09-27T17:56:56.184917Z"
    }
   },
   "outputs": [
    {
     "data": {
      "text/html": [
       "   <div id=\"b9LGjm\"></div>\n",
       "   <script type=\"text/javascript\" data-lets-plot-script=\"plot\">\n",
       "       (function() {\n",
       "           var plotSpec={\n",
       "\"data\":{\n",
       "\"animal_type\":[\"pet\",\"pet\",\"pet\",\"pet\",\"farm_animal\",\"farm_animal\",\"farm_animal\"],\n",
       "\"animal\":[\"cat\",\"dog\",\"rabbit\",\"hamster\",\"cow\",\"pig\",\"horse\"],\n",
       "\"weight\":[5.0,10.0,2.0,1.0,500.0,100.0,700.0],\n",
       "\"diet\":[\"carnivore\",\"carnivore\",\"herbivore\",\"herbivore\",\"herbivore\",\"carnivore\",\"herbivore\"]\n",
       "},\n",
       "\"mapping\":{\n",
       "\"x\":\"animal\",\n",
       "\"y\":\"weight\"\n",
       "},\n",
       "\"data_meta\":{\n",
       "\"series_annotations\":[{\n",
       "\"type\":\"str\",\n",
       "\"column\":\"animal_type\"\n",
       "},{\n",
       "\"type\":\"str\",\n",
       "\"column\":\"animal\"\n",
       "},{\n",
       "\"type\":\"int\",\n",
       "\"column\":\"weight\"\n",
       "},{\n",
       "\"type\":\"str\",\n",
       "\"column\":\"diet\"\n",
       "}]\n",
       "},\n",
       "\"theme\":{\n",
       "\"name\":\"bw\",\n",
       "\"panel_grid_minor\":{\n",
       "\"blank\":true\n",
       "}\n",
       "},\n",
       "\"facet\":{\n",
       "\"name\":\"grid\",\n",
       "\"x\":\"animal_type\",\n",
       "\"y\":\"diet\",\n",
       "\"scales\":\"free_x\",\n",
       "\"x_order\":1.0,\n",
       "\"y_order\":1.0\n",
       "},\n",
       "\"kind\":\"plot\",\n",
       "\"scales\":[],\n",
       "\"layers\":[{\n",
       "\"geom\":\"bar\",\n",
       "\"stat\":\"identity\",\n",
       "\"mapping\":{\n",
       "},\n",
       "\"data_meta\":{\n",
       "},\n",
       "\"data\":{\n",
       "}\n",
       "}],\n",
       "\"metainfo_list\":[]\n",
       "};\n",
       "           var plotContainer = document.getElementById(\"b9LGjm\");\n",
       "           window.letsPlotCall(function() {{\n",
       "               LetsPlot.buildPlotFromProcessedSpecs(plotSpec, -1, -1, plotContainer);\n",
       "           }});\n",
       "       })();\n",
       "   </script>"
      ],
      "text/plain": [
       "<lets_plot.plot.core.PlotSpec at 0x12de8d570>"
      ]
     },
     "execution_count": 7,
     "metadata": {},
     "output_type": "execute_result"
    }
   ],
   "source": [
    "plot + facet_grid(x=\"animal_type\", y=\"diet\", scales=\"free_x\")"
   ]
  },
  {
   "cell_type": "markdown",
   "id": "ac86f5cb",
   "metadata": {},
   "source": [
    "#### Four facets, wrap, free x"
   ]
  },
  {
   "cell_type": "code",
   "execution_count": 8,
   "id": "c44f0d76",
   "metadata": {
    "execution": {
     "iopub.execute_input": "2024-09-27T17:56:56.186094Z",
     "iopub.status.busy": "2024-09-27T17:56:56.186027Z",
     "iopub.status.idle": "2024-09-27T17:56:56.188240Z",
     "shell.execute_reply": "2024-09-27T17:56:56.188048Z"
    }
   },
   "outputs": [
    {
     "data": {
      "text/html": [
       "   <div id=\"aruCy1\"></div>\n",
       "   <script type=\"text/javascript\" data-lets-plot-script=\"plot\">\n",
       "       (function() {\n",
       "           var plotSpec={\n",
       "\"data\":{\n",
       "\"animal_type\":[\"pet\",\"pet\",\"pet\",\"pet\",\"farm_animal\",\"farm_animal\",\"farm_animal\"],\n",
       "\"animal\":[\"cat\",\"dog\",\"rabbit\",\"hamster\",\"cow\",\"pig\",\"horse\"],\n",
       "\"weight\":[5.0,10.0,2.0,1.0,500.0,100.0,700.0],\n",
       "\"diet\":[\"carnivore\",\"carnivore\",\"herbivore\",\"herbivore\",\"herbivore\",\"carnivore\",\"herbivore\"]\n",
       "},\n",
       "\"mapping\":{\n",
       "\"x\":\"animal\",\n",
       "\"y\":\"weight\"\n",
       "},\n",
       "\"data_meta\":{\n",
       "\"series_annotations\":[{\n",
       "\"type\":\"str\",\n",
       "\"column\":\"animal_type\"\n",
       "},{\n",
       "\"type\":\"str\",\n",
       "\"column\":\"animal\"\n",
       "},{\n",
       "\"type\":\"int\",\n",
       "\"column\":\"weight\"\n",
       "},{\n",
       "\"type\":\"str\",\n",
       "\"column\":\"diet\"\n",
       "}]\n",
       "},\n",
       "\"theme\":{\n",
       "\"name\":\"bw\",\n",
       "\"panel_grid_minor\":{\n",
       "\"blank\":true\n",
       "}\n",
       "},\n",
       "\"facet\":{\n",
       "\"name\":\"wrap\",\n",
       "\"facets\":[\"animal_type\",\"diet\"],\n",
       "\"ncol\":2.0,\n",
       "\"scales\":\"free_x\",\n",
       "\"order\":1.0,\n",
       "\"dir\":\"h\"\n",
       "},\n",
       "\"kind\":\"plot\",\n",
       "\"scales\":[],\n",
       "\"layers\":[{\n",
       "\"geom\":\"bar\",\n",
       "\"stat\":\"identity\",\n",
       "\"mapping\":{\n",
       "},\n",
       "\"data_meta\":{\n",
       "},\n",
       "\"data\":{\n",
       "}\n",
       "}],\n",
       "\"metainfo_list\":[]\n",
       "};\n",
       "           var plotContainer = document.getElementById(\"aruCy1\");\n",
       "           window.letsPlotCall(function() {{\n",
       "               LetsPlot.buildPlotFromProcessedSpecs(plotSpec, -1, -1, plotContainer);\n",
       "           }});\n",
       "       })();\n",
       "   </script>"
      ],
      "text/plain": [
       "<lets_plot.plot.core.PlotSpec at 0x12de8e380>"
      ]
     },
     "execution_count": 8,
     "metadata": {},
     "output_type": "execute_result"
    }
   ],
   "source": [
    "plot + facet_wrap(facets=[\"animal_type\", \"diet\"], ncol=2, scales=\"free_x\")"
   ]
  },
  {
   "cell_type": "markdown",
   "id": "763efd82",
   "metadata": {},
   "source": [
    "#### Four facets, grid, free y"
   ]
  },
  {
   "cell_type": "code",
   "execution_count": 9,
   "id": "a0fda8bf",
   "metadata": {
    "execution": {
     "iopub.execute_input": "2024-09-27T17:56:56.189273Z",
     "iopub.status.busy": "2024-09-27T17:56:56.189206Z",
     "iopub.status.idle": "2024-09-27T17:56:56.191506Z",
     "shell.execute_reply": "2024-09-27T17:56:56.191282Z"
    }
   },
   "outputs": [
    {
     "data": {
      "text/html": [
       "   <div id=\"JJkmkG\"></div>\n",
       "   <script type=\"text/javascript\" data-lets-plot-script=\"plot\">\n",
       "       (function() {\n",
       "           var plotSpec={\n",
       "\"data\":{\n",
       "\"animal_type\":[\"pet\",\"pet\",\"pet\",\"pet\",\"farm_animal\",\"farm_animal\",\"farm_animal\"],\n",
       "\"animal\":[\"cat\",\"dog\",\"rabbit\",\"hamster\",\"cow\",\"pig\",\"horse\"],\n",
       "\"weight\":[5.0,10.0,2.0,1.0,500.0,100.0,700.0],\n",
       "\"diet\":[\"carnivore\",\"carnivore\",\"herbivore\",\"herbivore\",\"herbivore\",\"carnivore\",\"herbivore\"]\n",
       "},\n",
       "\"mapping\":{\n",
       "\"x\":\"animal\",\n",
       "\"y\":\"weight\"\n",
       "},\n",
       "\"data_meta\":{\n",
       "\"series_annotations\":[{\n",
       "\"type\":\"str\",\n",
       "\"column\":\"animal_type\"\n",
       "},{\n",
       "\"type\":\"str\",\n",
       "\"column\":\"animal\"\n",
       "},{\n",
       "\"type\":\"int\",\n",
       "\"column\":\"weight\"\n",
       "},{\n",
       "\"type\":\"str\",\n",
       "\"column\":\"diet\"\n",
       "}]\n",
       "},\n",
       "\"theme\":{\n",
       "\"name\":\"bw\",\n",
       "\"panel_grid_minor\":{\n",
       "\"blank\":true\n",
       "}\n",
       "},\n",
       "\"facet\":{\n",
       "\"name\":\"grid\",\n",
       "\"x\":\"animal_type\",\n",
       "\"y\":\"diet\",\n",
       "\"scales\":\"free_y\",\n",
       "\"x_order\":1.0,\n",
       "\"y_order\":1.0\n",
       "},\n",
       "\"kind\":\"plot\",\n",
       "\"scales\":[],\n",
       "\"layers\":[{\n",
       "\"geom\":\"bar\",\n",
       "\"stat\":\"identity\",\n",
       "\"mapping\":{\n",
       "},\n",
       "\"data_meta\":{\n",
       "},\n",
       "\"data\":{\n",
       "}\n",
       "}],\n",
       "\"metainfo_list\":[]\n",
       "};\n",
       "           var plotContainer = document.getElementById(\"JJkmkG\");\n",
       "           window.letsPlotCall(function() {{\n",
       "               LetsPlot.buildPlotFromProcessedSpecs(plotSpec, -1, -1, plotContainer);\n",
       "           }});\n",
       "       })();\n",
       "   </script>"
      ],
      "text/plain": [
       "<lets_plot.plot.core.PlotSpec at 0x12de8f160>"
      ]
     },
     "execution_count": 9,
     "metadata": {},
     "output_type": "execute_result"
    }
   ],
   "source": [
    "plot + facet_grid(x=\"animal_type\", y=\"diet\", scales=\"free_y\")"
   ]
  },
  {
   "cell_type": "markdown",
   "id": "447c81a8",
   "metadata": {},
   "source": [
    "#### Four facets, wrap, free y"
   ]
  },
  {
   "cell_type": "code",
   "execution_count": 10,
   "id": "279c2c26",
   "metadata": {
    "execution": {
     "iopub.execute_input": "2024-09-27T17:56:56.192511Z",
     "iopub.status.busy": "2024-09-27T17:56:56.192437Z",
     "iopub.status.idle": "2024-09-27T17:56:56.194898Z",
     "shell.execute_reply": "2024-09-27T17:56:56.194699Z"
    }
   },
   "outputs": [
    {
     "data": {
      "text/html": [
       "   <div id=\"8UmWqQ\"></div>\n",
       "   <script type=\"text/javascript\" data-lets-plot-script=\"plot\">\n",
       "       (function() {\n",
       "           var plotSpec={\n",
       "\"data\":{\n",
       "\"animal_type\":[\"pet\",\"pet\",\"pet\",\"pet\",\"farm_animal\",\"farm_animal\",\"farm_animal\"],\n",
       "\"animal\":[\"cat\",\"dog\",\"rabbit\",\"hamster\",\"cow\",\"pig\",\"horse\"],\n",
       "\"weight\":[5.0,10.0,2.0,1.0,500.0,100.0,700.0],\n",
       "\"diet\":[\"carnivore\",\"carnivore\",\"herbivore\",\"herbivore\",\"herbivore\",\"carnivore\",\"herbivore\"]\n",
       "},\n",
       "\"mapping\":{\n",
       "\"x\":\"animal\",\n",
       "\"y\":\"weight\"\n",
       "},\n",
       "\"data_meta\":{\n",
       "\"series_annotations\":[{\n",
       "\"type\":\"str\",\n",
       "\"column\":\"animal_type\"\n",
       "},{\n",
       "\"type\":\"str\",\n",
       "\"column\":\"animal\"\n",
       "},{\n",
       "\"type\":\"int\",\n",
       "\"column\":\"weight\"\n",
       "},{\n",
       "\"type\":\"str\",\n",
       "\"column\":\"diet\"\n",
       "}]\n",
       "},\n",
       "\"theme\":{\n",
       "\"name\":\"bw\",\n",
       "\"panel_grid_minor\":{\n",
       "\"blank\":true\n",
       "}\n",
       "},\n",
       "\"facet\":{\n",
       "\"name\":\"wrap\",\n",
       "\"facets\":[\"animal_type\",\"diet\"],\n",
       "\"ncol\":2.0,\n",
       "\"scales\":\"free_y\",\n",
       "\"order\":1.0,\n",
       "\"dir\":\"h\"\n",
       "},\n",
       "\"kind\":\"plot\",\n",
       "\"scales\":[],\n",
       "\"layers\":[{\n",
       "\"geom\":\"bar\",\n",
       "\"stat\":\"identity\",\n",
       "\"mapping\":{\n",
       "},\n",
       "\"data_meta\":{\n",
       "},\n",
       "\"data\":{\n",
       "}\n",
       "}],\n",
       "\"metainfo_list\":[]\n",
       "};\n",
       "           var plotContainer = document.getElementById(\"8UmWqQ\");\n",
       "           window.letsPlotCall(function() {{\n",
       "               LetsPlot.buildPlotFromProcessedSpecs(plotSpec, -1, -1, plotContainer);\n",
       "           }});\n",
       "       })();\n",
       "   </script>"
      ],
      "text/plain": [
       "<lets_plot.plot.core.PlotSpec at 0x12de5e5f0>"
      ]
     },
     "execution_count": 10,
     "metadata": {},
     "output_type": "execute_result"
    }
   ],
   "source": [
    "plot + facet_wrap(facets=[\"animal_type\", \"diet\"], ncol=2, scales=\"free_y\")"
   ]
  },
  {
   "cell_type": "markdown",
   "id": "ed178b59",
   "metadata": {},
   "source": [
    "#### Four facets, grid, free scales"
   ]
  },
  {
   "cell_type": "code",
   "execution_count": 11,
   "id": "54415628",
   "metadata": {
    "execution": {
     "iopub.execute_input": "2024-09-27T17:56:56.195946Z",
     "iopub.status.busy": "2024-09-27T17:56:56.195870Z",
     "iopub.status.idle": "2024-09-27T17:56:56.198149Z",
     "shell.execute_reply": "2024-09-27T17:56:56.197946Z"
    }
   },
   "outputs": [
    {
     "data": {
      "text/html": [
       "   <div id=\"jktec1\"></div>\n",
       "   <script type=\"text/javascript\" data-lets-plot-script=\"plot\">\n",
       "       (function() {\n",
       "           var plotSpec={\n",
       "\"data\":{\n",
       "\"animal_type\":[\"pet\",\"pet\",\"pet\",\"pet\",\"farm_animal\",\"farm_animal\",\"farm_animal\"],\n",
       "\"animal\":[\"cat\",\"dog\",\"rabbit\",\"hamster\",\"cow\",\"pig\",\"horse\"],\n",
       "\"weight\":[5.0,10.0,2.0,1.0,500.0,100.0,700.0],\n",
       "\"diet\":[\"carnivore\",\"carnivore\",\"herbivore\",\"herbivore\",\"herbivore\",\"carnivore\",\"herbivore\"]\n",
       "},\n",
       "\"mapping\":{\n",
       "\"x\":\"animal\",\n",
       "\"y\":\"weight\"\n",
       "},\n",
       "\"data_meta\":{\n",
       "\"series_annotations\":[{\n",
       "\"type\":\"str\",\n",
       "\"column\":\"animal_type\"\n",
       "},{\n",
       "\"type\":\"str\",\n",
       "\"column\":\"animal\"\n",
       "},{\n",
       "\"type\":\"int\",\n",
       "\"column\":\"weight\"\n",
       "},{\n",
       "\"type\":\"str\",\n",
       "\"column\":\"diet\"\n",
       "}]\n",
       "},\n",
       "\"theme\":{\n",
       "\"name\":\"bw\",\n",
       "\"panel_grid_minor\":{\n",
       "\"blank\":true\n",
       "}\n",
       "},\n",
       "\"facet\":{\n",
       "\"name\":\"grid\",\n",
       "\"x\":\"animal_type\",\n",
       "\"y\":\"diet\",\n",
       "\"scales\":\"free\",\n",
       "\"x_order\":1.0,\n",
       "\"y_order\":1.0\n",
       "},\n",
       "\"kind\":\"plot\",\n",
       "\"scales\":[],\n",
       "\"layers\":[{\n",
       "\"geom\":\"bar\",\n",
       "\"stat\":\"identity\",\n",
       "\"mapping\":{\n",
       "},\n",
       "\"data_meta\":{\n",
       "},\n",
       "\"data\":{\n",
       "}\n",
       "}],\n",
       "\"metainfo_list\":[]\n",
       "};\n",
       "           var plotContainer = document.getElementById(\"jktec1\");\n",
       "           window.letsPlotCall(function() {{\n",
       "               LetsPlot.buildPlotFromProcessedSpecs(plotSpec, -1, -1, plotContainer);\n",
       "           }});\n",
       "       })();\n",
       "   </script>"
      ],
      "text/plain": [
       "<lets_plot.plot.core.PlotSpec at 0x105d7bc40>"
      ]
     },
     "execution_count": 11,
     "metadata": {},
     "output_type": "execute_result"
    }
   ],
   "source": [
    "plot + facet_grid(x=\"animal_type\", y=\"diet\", scales=\"free\")"
   ]
  },
  {
   "cell_type": "markdown",
   "id": "f01f9d1a",
   "metadata": {},
   "source": [
    "#### Four facets, wrap, free scales"
   ]
  },
  {
   "cell_type": "code",
   "execution_count": 12,
   "id": "375864f5",
   "metadata": {
    "execution": {
     "iopub.execute_input": "2024-09-27T17:56:56.199124Z",
     "iopub.status.busy": "2024-09-27T17:56:56.199052Z",
     "iopub.status.idle": "2024-09-27T17:56:56.201299Z",
     "shell.execute_reply": "2024-09-27T17:56:56.201097Z"
    }
   },
   "outputs": [
    {
     "data": {
      "text/html": [
       "   <div id=\"HZE9L8\"></div>\n",
       "   <script type=\"text/javascript\" data-lets-plot-script=\"plot\">\n",
       "       (function() {\n",
       "           var plotSpec={\n",
       "\"data\":{\n",
       "\"animal_type\":[\"pet\",\"pet\",\"pet\",\"pet\",\"farm_animal\",\"farm_animal\",\"farm_animal\"],\n",
       "\"animal\":[\"cat\",\"dog\",\"rabbit\",\"hamster\",\"cow\",\"pig\",\"horse\"],\n",
       "\"weight\":[5.0,10.0,2.0,1.0,500.0,100.0,700.0],\n",
       "\"diet\":[\"carnivore\",\"carnivore\",\"herbivore\",\"herbivore\",\"herbivore\",\"carnivore\",\"herbivore\"]\n",
       "},\n",
       "\"mapping\":{\n",
       "\"x\":\"animal\",\n",
       "\"y\":\"weight\"\n",
       "},\n",
       "\"data_meta\":{\n",
       "\"series_annotations\":[{\n",
       "\"type\":\"str\",\n",
       "\"column\":\"animal_type\"\n",
       "},{\n",
       "\"type\":\"str\",\n",
       "\"column\":\"animal\"\n",
       "},{\n",
       "\"type\":\"int\",\n",
       "\"column\":\"weight\"\n",
       "},{\n",
       "\"type\":\"str\",\n",
       "\"column\":\"diet\"\n",
       "}]\n",
       "},\n",
       "\"theme\":{\n",
       "\"name\":\"bw\",\n",
       "\"panel_grid_minor\":{\n",
       "\"blank\":true\n",
       "}\n",
       "},\n",
       "\"facet\":{\n",
       "\"name\":\"wrap\",\n",
       "\"facets\":[\"animal_type\",\"diet\"],\n",
       "\"ncol\":2.0,\n",
       "\"scales\":\"free\",\n",
       "\"order\":1.0,\n",
       "\"dir\":\"h\"\n",
       "},\n",
       "\"kind\":\"plot\",\n",
       "\"scales\":[],\n",
       "\"layers\":[{\n",
       "\"geom\":\"bar\",\n",
       "\"stat\":\"identity\",\n",
       "\"mapping\":{\n",
       "},\n",
       "\"data_meta\":{\n",
       "},\n",
       "\"data\":{\n",
       "}\n",
       "}],\n",
       "\"metainfo_list\":[]\n",
       "};\n",
       "           var plotContainer = document.getElementById(\"HZE9L8\");\n",
       "           window.letsPlotCall(function() {{\n",
       "               LetsPlot.buildPlotFromProcessedSpecs(plotSpec, -1, -1, plotContainer);\n",
       "           }});\n",
       "       })();\n",
       "   </script>"
      ],
      "text/plain": [
       "<lets_plot.plot.core.PlotSpec at 0x12de957b0>"
      ]
     },
     "execution_count": 12,
     "metadata": {},
     "output_type": "execute_result"
    }
   ],
   "source": [
    "plot + facet_wrap(facets=[\"animal_type\", \"diet\"], ncol=2, scales=\"free\")"
   ]
  },
  {
   "cell_type": "markdown",
   "id": "648003c3",
   "metadata": {},
   "source": [
    "## Y-orientation"
   ]
  },
  {
   "cell_type": "code",
   "execution_count": 13,
   "id": "3dc987b2",
   "metadata": {
    "execution": {
     "iopub.execute_input": "2024-09-27T17:56:56.202298Z",
     "iopub.status.busy": "2024-09-27T17:56:56.202227Z",
     "iopub.status.idle": "2024-09-27T17:56:56.204688Z",
     "shell.execute_reply": "2024-09-27T17:56:56.204485Z"
    }
   },
   "outputs": [
    {
     "data": {
      "text/html": [
       "   <div id=\"VvFIkF\"></div>\n",
       "   <script type=\"text/javascript\" data-lets-plot-script=\"plot\">\n",
       "       (function() {\n",
       "           var plotSpec={\n",
       "\"data\":{\n",
       "\"animal\":[\"cat\",\"dog\",\"rabbit\",\"hamster\",\"cow\",\"pig\",\"horse\"],\n",
       "\"weight\":[5.0,10.0,2.0,1.0,500.0,100.0,700.0]\n",
       "},\n",
       "\"mapping\":{\n",
       "\"x\":\"weight\",\n",
       "\"y\":\"animal\"\n",
       "},\n",
       "\"data_meta\":{\n",
       "\"series_annotations\":[{\n",
       "\"type\":\"str\",\n",
       "\"column\":\"animal_type\"\n",
       "},{\n",
       "\"type\":\"str\",\n",
       "\"column\":\"animal\"\n",
       "},{\n",
       "\"type\":\"int\",\n",
       "\"column\":\"weight\"\n",
       "},{\n",
       "\"type\":\"str\",\n",
       "\"column\":\"diet\"\n",
       "}]\n",
       "},\n",
       "\"theme\":{\n",
       "\"name\":\"bw\",\n",
       "\"panel_grid_minor\":{\n",
       "\"blank\":true\n",
       "}\n",
       "},\n",
       "\"kind\":\"plot\",\n",
       "\"scales\":[],\n",
       "\"layers\":[{\n",
       "\"geom\":\"bar\",\n",
       "\"stat\":\"identity\",\n",
       "\"mapping\":{\n",
       "},\n",
       "\"data_meta\":{\n",
       "},\n",
       "\"orientation\":\"y\",\n",
       "\"data\":{\n",
       "}\n",
       "}],\n",
       "\"metainfo_list\":[]\n",
       "};\n",
       "           var plotContainer = document.getElementById(\"VvFIkF\");\n",
       "           window.letsPlotCall(function() {{\n",
       "               LetsPlot.buildPlotFromProcessedSpecs(plotSpec, -1, -1, plotContainer);\n",
       "           }});\n",
       "       })();\n",
       "   </script>"
      ],
      "text/plain": [
       "<lets_plot.plot.core.PlotSpec at 0x12de96620>"
      ]
     },
     "execution_count": 13,
     "metadata": {},
     "output_type": "execute_result"
    }
   ],
   "source": [
    "plot_y = (\n",
    "    ggplot(plot_data, aes(x=\"weight\", y=\"animal\"))\n",
    "    + geom_bar(stat=\"identity\", orientation=\"y\")\n",
    "    + theme_bw()\n",
    "    + theme(\n",
    "        panel_grid_minor=element_blank()\n",
    "    )\n",
    ")\n",
    "plot_y"
   ]
  },
  {
   "cell_type": "markdown",
   "id": "488b572a",
   "metadata": {},
   "source": [
    "#### Two facets, grid, free scales"
   ]
  },
  {
   "cell_type": "code",
   "execution_count": 14,
   "id": "0dd614c1",
   "metadata": {
    "execution": {
     "iopub.execute_input": "2024-09-27T17:56:56.205708Z",
     "iopub.status.busy": "2024-09-27T17:56:56.205638Z",
     "iopub.status.idle": "2024-09-27T17:56:56.207762Z",
     "shell.execute_reply": "2024-09-27T17:56:56.207552Z"
    }
   },
   "outputs": [
    {
     "data": {
      "text/html": [
       "   <div id=\"iUoeko\"></div>\n",
       "   <script type=\"text/javascript\" data-lets-plot-script=\"plot\">\n",
       "       (function() {\n",
       "           var plotSpec={\n",
       "\"data\":{\n",
       "\"animal_type\":[\"pet\",\"pet\",\"pet\",\"pet\",\"farm_animal\",\"farm_animal\",\"farm_animal\"],\n",
       "\"animal\":[\"cat\",\"dog\",\"rabbit\",\"hamster\",\"cow\",\"pig\",\"horse\"],\n",
       "\"weight\":[5.0,10.0,2.0,1.0,500.0,100.0,700.0]\n",
       "},\n",
       "\"mapping\":{\n",
       "\"x\":\"weight\",\n",
       "\"y\":\"animal\"\n",
       "},\n",
       "\"data_meta\":{\n",
       "\"series_annotations\":[{\n",
       "\"type\":\"str\",\n",
       "\"column\":\"animal_type\"\n",
       "},{\n",
       "\"type\":\"str\",\n",
       "\"column\":\"animal\"\n",
       "},{\n",
       "\"type\":\"int\",\n",
       "\"column\":\"weight\"\n",
       "},{\n",
       "\"type\":\"str\",\n",
       "\"column\":\"diet\"\n",
       "}]\n",
       "},\n",
       "\"theme\":{\n",
       "\"name\":\"bw\",\n",
       "\"panel_grid_minor\":{\n",
       "\"blank\":true\n",
       "}\n",
       "},\n",
       "\"facet\":{\n",
       "\"name\":\"grid\",\n",
       "\"y\":\"animal_type\",\n",
       "\"scales\":\"free_y\",\n",
       "\"x_order\":1.0,\n",
       "\"y_order\":1.0\n",
       "},\n",
       "\"kind\":\"plot\",\n",
       "\"scales\":[],\n",
       "\"layers\":[{\n",
       "\"geom\":\"bar\",\n",
       "\"stat\":\"identity\",\n",
       "\"mapping\":{\n",
       "},\n",
       "\"data_meta\":{\n",
       "},\n",
       "\"orientation\":\"y\",\n",
       "\"data\":{\n",
       "}\n",
       "}],\n",
       "\"metainfo_list\":[]\n",
       "};\n",
       "           var plotContainer = document.getElementById(\"iUoeko\");\n",
       "           window.letsPlotCall(function() {{\n",
       "               LetsPlot.buildPlotFromProcessedSpecs(plotSpec, -1, -1, plotContainer);\n",
       "           }});\n",
       "       })();\n",
       "   </script>"
      ],
      "text/plain": [
       "<lets_plot.plot.core.PlotSpec at 0x12de96bc0>"
      ]
     },
     "execution_count": 14,
     "metadata": {},
     "output_type": "execute_result"
    }
   ],
   "source": [
    "plot_y + facet_grid(y = \"animal_type\", scales=\"free_y\")"
   ]
  },
  {
   "cell_type": "markdown",
   "id": "cc13ed2f",
   "metadata": {},
   "source": [
    "#### Two facets, wrap, free scales"
   ]
  },
  {
   "cell_type": "code",
   "execution_count": 15,
   "id": "310a5a2b",
   "metadata": {
    "execution": {
     "iopub.execute_input": "2024-09-27T17:56:56.208794Z",
     "iopub.status.busy": "2024-09-27T17:56:56.208725Z",
     "iopub.status.idle": "2024-09-27T17:56:56.210925Z",
     "shell.execute_reply": "2024-09-27T17:56:56.210715Z"
    }
   },
   "outputs": [
    {
     "data": {
      "text/html": [
       "   <div id=\"o6GUAf\"></div>\n",
       "   <script type=\"text/javascript\" data-lets-plot-script=\"plot\">\n",
       "       (function() {\n",
       "           var plotSpec={\n",
       "\"data\":{\n",
       "\"animal_type\":[\"pet\",\"pet\",\"pet\",\"pet\",\"farm_animal\",\"farm_animal\",\"farm_animal\"],\n",
       "\"animal\":[\"cat\",\"dog\",\"rabbit\",\"hamster\",\"cow\",\"pig\",\"horse\"],\n",
       "\"weight\":[5.0,10.0,2.0,1.0,500.0,100.0,700.0]\n",
       "},\n",
       "\"mapping\":{\n",
       "\"x\":\"weight\",\n",
       "\"y\":\"animal\"\n",
       "},\n",
       "\"data_meta\":{\n",
       "\"series_annotations\":[{\n",
       "\"type\":\"str\",\n",
       "\"column\":\"animal_type\"\n",
       "},{\n",
       "\"type\":\"str\",\n",
       "\"column\":\"animal\"\n",
       "},{\n",
       "\"type\":\"int\",\n",
       "\"column\":\"weight\"\n",
       "},{\n",
       "\"type\":\"str\",\n",
       "\"column\":\"diet\"\n",
       "}]\n",
       "},\n",
       "\"theme\":{\n",
       "\"name\":\"bw\",\n",
       "\"panel_grid_minor\":{\n",
       "\"blank\":true\n",
       "}\n",
       "},\n",
       "\"facet\":{\n",
       "\"name\":\"wrap\",\n",
       "\"facets\":\"animal_type\",\n",
       "\"ncol\":2.0,\n",
       "\"scales\":\"free\",\n",
       "\"order\":1.0,\n",
       "\"dir\":\"h\"\n",
       "},\n",
       "\"kind\":\"plot\",\n",
       "\"scales\":[],\n",
       "\"layers\":[{\n",
       "\"geom\":\"bar\",\n",
       "\"stat\":\"identity\",\n",
       "\"mapping\":{\n",
       "},\n",
       "\"data_meta\":{\n",
       "},\n",
       "\"orientation\":\"y\",\n",
       "\"data\":{\n",
       "}\n",
       "}],\n",
       "\"metainfo_list\":[]\n",
       "};\n",
       "           var plotContainer = document.getElementById(\"o6GUAf\");\n",
       "           window.letsPlotCall(function() {{\n",
       "               LetsPlot.buildPlotFromProcessedSpecs(plotSpec, -1, -1, plotContainer);\n",
       "           }});\n",
       "       })();\n",
       "   </script>"
      ],
      "text/plain": [
       "<lets_plot.plot.core.PlotSpec at 0x12de97fd0>"
      ]
     },
     "execution_count": 15,
     "metadata": {},
     "output_type": "execute_result"
    }
   ],
   "source": [
    "plot_y + facet_wrap(facets=\"animal_type\", ncol=2, scales=\"free\")"
   ]
  },
  {
   "cell_type": "markdown",
   "id": "f84e759c",
   "metadata": {},
   "source": [
    "#### Four facets, grid, free x"
   ]
  },
  {
   "cell_type": "code",
   "execution_count": 16,
   "id": "15a97b25",
   "metadata": {
    "execution": {
     "iopub.execute_input": "2024-09-27T17:56:56.211914Z",
     "iopub.status.busy": "2024-09-27T17:56:56.211846Z",
     "iopub.status.idle": "2024-09-27T17:56:56.213994Z",
     "shell.execute_reply": "2024-09-27T17:56:56.213801Z"
    }
   },
   "outputs": [
    {
     "data": {
      "text/html": [
       "   <div id=\"7q25uh\"></div>\n",
       "   <script type=\"text/javascript\" data-lets-plot-script=\"plot\">\n",
       "       (function() {\n",
       "           var plotSpec={\n",
       "\"data\":{\n",
       "\"animal_type\":[\"pet\",\"pet\",\"pet\",\"pet\",\"farm_animal\",\"farm_animal\",\"farm_animal\"],\n",
       "\"animal\":[\"cat\",\"dog\",\"rabbit\",\"hamster\",\"cow\",\"pig\",\"horse\"],\n",
       "\"weight\":[5.0,10.0,2.0,1.0,500.0,100.0,700.0],\n",
       "\"diet\":[\"carnivore\",\"carnivore\",\"herbivore\",\"herbivore\",\"herbivore\",\"carnivore\",\"herbivore\"]\n",
       "},\n",
       "\"mapping\":{\n",
       "\"x\":\"weight\",\n",
       "\"y\":\"animal\"\n",
       "},\n",
       "\"data_meta\":{\n",
       "\"series_annotations\":[{\n",
       "\"type\":\"str\",\n",
       "\"column\":\"animal_type\"\n",
       "},{\n",
       "\"type\":\"str\",\n",
       "\"column\":\"animal\"\n",
       "},{\n",
       "\"type\":\"int\",\n",
       "\"column\":\"weight\"\n",
       "},{\n",
       "\"type\":\"str\",\n",
       "\"column\":\"diet\"\n",
       "}]\n",
       "},\n",
       "\"theme\":{\n",
       "\"name\":\"bw\",\n",
       "\"panel_grid_minor\":{\n",
       "\"blank\":true\n",
       "}\n",
       "},\n",
       "\"facet\":{\n",
       "\"name\":\"grid\",\n",
       "\"x\":\"diet\",\n",
       "\"y\":\"animal_type\",\n",
       "\"scales\":\"free_x\",\n",
       "\"x_order\":1.0,\n",
       "\"y_order\":1.0\n",
       "},\n",
       "\"kind\":\"plot\",\n",
       "\"scales\":[],\n",
       "\"layers\":[{\n",
       "\"geom\":\"bar\",\n",
       "\"stat\":\"identity\",\n",
       "\"mapping\":{\n",
       "},\n",
       "\"data_meta\":{\n",
       "},\n",
       "\"orientation\":\"y\",\n",
       "\"data\":{\n",
       "}\n",
       "}],\n",
       "\"metainfo_list\":[]\n",
       "};\n",
       "           var plotContainer = document.getElementById(\"7q25uh\");\n",
       "           window.letsPlotCall(function() {{\n",
       "               LetsPlot.buildPlotFromProcessedSpecs(plotSpec, -1, -1, plotContainer);\n",
       "           }});\n",
       "       })();\n",
       "   </script>"
      ],
      "text/plain": [
       "<lets_plot.plot.core.PlotSpec at 0x105d78970>"
      ]
     },
     "execution_count": 16,
     "metadata": {},
     "output_type": "execute_result"
    }
   ],
   "source": [
    "plot_y + facet_grid(y=\"animal_type\", x=\"diet\", scales=\"free_x\")"
   ]
  },
  {
   "cell_type": "markdown",
   "id": "50f107a8",
   "metadata": {},
   "source": [
    "#### Four facets, wrap, free x"
   ]
  },
  {
   "cell_type": "code",
   "execution_count": 17,
   "id": "0d1138c1",
   "metadata": {
    "execution": {
     "iopub.execute_input": "2024-09-27T17:56:56.214949Z",
     "iopub.status.busy": "2024-09-27T17:56:56.214884Z",
     "iopub.status.idle": "2024-09-27T17:56:56.217153Z",
     "shell.execute_reply": "2024-09-27T17:56:56.216953Z"
    }
   },
   "outputs": [
    {
     "data": {
      "text/html": [
       "   <div id=\"ht6625\"></div>\n",
       "   <script type=\"text/javascript\" data-lets-plot-script=\"plot\">\n",
       "       (function() {\n",
       "           var plotSpec={\n",
       "\"data\":{\n",
       "\"animal_type\":[\"pet\",\"pet\",\"pet\",\"pet\",\"farm_animal\",\"farm_animal\",\"farm_animal\"],\n",
       "\"animal\":[\"cat\",\"dog\",\"rabbit\",\"hamster\",\"cow\",\"pig\",\"horse\"],\n",
       "\"weight\":[5.0,10.0,2.0,1.0,500.0,100.0,700.0],\n",
       "\"diet\":[\"carnivore\",\"carnivore\",\"herbivore\",\"herbivore\",\"herbivore\",\"carnivore\",\"herbivore\"]\n",
       "},\n",
       "\"mapping\":{\n",
       "\"x\":\"weight\",\n",
       "\"y\":\"animal\"\n",
       "},\n",
       "\"data_meta\":{\n",
       "\"series_annotations\":[{\n",
       "\"type\":\"str\",\n",
       "\"column\":\"animal_type\"\n",
       "},{\n",
       "\"type\":\"str\",\n",
       "\"column\":\"animal\"\n",
       "},{\n",
       "\"type\":\"int\",\n",
       "\"column\":\"weight\"\n",
       "},{\n",
       "\"type\":\"str\",\n",
       "\"column\":\"diet\"\n",
       "}]\n",
       "},\n",
       "\"theme\":{\n",
       "\"name\":\"bw\",\n",
       "\"panel_grid_minor\":{\n",
       "\"blank\":true\n",
       "}\n",
       "},\n",
       "\"facet\":{\n",
       "\"name\":\"wrap\",\n",
       "\"facets\":[\"animal_type\",\"diet\"],\n",
       "\"ncol\":2.0,\n",
       "\"scales\":\"free_x\",\n",
       "\"order\":1.0,\n",
       "\"dir\":\"h\"\n",
       "},\n",
       "\"kind\":\"plot\",\n",
       "\"scales\":[],\n",
       "\"layers\":[{\n",
       "\"geom\":\"bar\",\n",
       "\"stat\":\"identity\",\n",
       "\"mapping\":{\n",
       "},\n",
       "\"data_meta\":{\n",
       "},\n",
       "\"orientation\":\"y\",\n",
       "\"data\":{\n",
       "}\n",
       "}],\n",
       "\"metainfo_list\":[]\n",
       "};\n",
       "           var plotContainer = document.getElementById(\"ht6625\");\n",
       "           window.letsPlotCall(function() {{\n",
       "               LetsPlot.buildPlotFromProcessedSpecs(plotSpec, -1, -1, plotContainer);\n",
       "           }});\n",
       "       })();\n",
       "   </script>"
      ],
      "text/plain": [
       "<lets_plot.plot.core.PlotSpec at 0x12de9de10>"
      ]
     },
     "execution_count": 17,
     "metadata": {},
     "output_type": "execute_result"
    }
   ],
   "source": [
    "plot_y + facet_wrap(facets=[\"animal_type\", \"diet\"], ncol=2, scales=\"free_x\")"
   ]
  },
  {
   "cell_type": "markdown",
   "id": "1b178076",
   "metadata": {},
   "source": [
    "#### Four facets, grid, free y"
   ]
  },
  {
   "cell_type": "code",
   "execution_count": 18,
   "id": "33355fcf",
   "metadata": {
    "execution": {
     "iopub.execute_input": "2024-09-27T17:56:56.218163Z",
     "iopub.status.busy": "2024-09-27T17:56:56.218099Z",
     "iopub.status.idle": "2024-09-27T17:56:56.220243Z",
     "shell.execute_reply": "2024-09-27T17:56:56.220038Z"
    }
   },
   "outputs": [
    {
     "data": {
      "text/html": [
       "   <div id=\"BWTTEi\"></div>\n",
       "   <script type=\"text/javascript\" data-lets-plot-script=\"plot\">\n",
       "       (function() {\n",
       "           var plotSpec={\n",
       "\"data\":{\n",
       "\"animal_type\":[\"pet\",\"pet\",\"pet\",\"pet\",\"farm_animal\",\"farm_animal\",\"farm_animal\"],\n",
       "\"animal\":[\"cat\",\"dog\",\"rabbit\",\"hamster\",\"cow\",\"pig\",\"horse\"],\n",
       "\"weight\":[5.0,10.0,2.0,1.0,500.0,100.0,700.0],\n",
       "\"diet\":[\"carnivore\",\"carnivore\",\"herbivore\",\"herbivore\",\"herbivore\",\"carnivore\",\"herbivore\"]\n",
       "},\n",
       "\"mapping\":{\n",
       "\"x\":\"weight\",\n",
       "\"y\":\"animal\"\n",
       "},\n",
       "\"data_meta\":{\n",
       "\"series_annotations\":[{\n",
       "\"type\":\"str\",\n",
       "\"column\":\"animal_type\"\n",
       "},{\n",
       "\"type\":\"str\",\n",
       "\"column\":\"animal\"\n",
       "},{\n",
       "\"type\":\"int\",\n",
       "\"column\":\"weight\"\n",
       "},{\n",
       "\"type\":\"str\",\n",
       "\"column\":\"diet\"\n",
       "}]\n",
       "},\n",
       "\"theme\":{\n",
       "\"name\":\"bw\",\n",
       "\"panel_grid_minor\":{\n",
       "\"blank\":true\n",
       "}\n",
       "},\n",
       "\"facet\":{\n",
       "\"name\":\"grid\",\n",
       "\"x\":\"diet\",\n",
       "\"y\":\"animal_type\",\n",
       "\"scales\":\"free_y\",\n",
       "\"x_order\":1.0,\n",
       "\"y_order\":1.0\n",
       "},\n",
       "\"kind\":\"plot\",\n",
       "\"scales\":[],\n",
       "\"layers\":[{\n",
       "\"geom\":\"bar\",\n",
       "\"stat\":\"identity\",\n",
       "\"mapping\":{\n",
       "},\n",
       "\"data_meta\":{\n",
       "},\n",
       "\"orientation\":\"y\",\n",
       "\"data\":{\n",
       "}\n",
       "}],\n",
       "\"metainfo_list\":[]\n",
       "};\n",
       "           var plotContainer = document.getElementById(\"BWTTEi\");\n",
       "           window.letsPlotCall(function() {{\n",
       "               LetsPlot.buildPlotFromProcessedSpecs(plotSpec, -1, -1, plotContainer);\n",
       "           }});\n",
       "       })();\n",
       "   </script>"
      ],
      "text/plain": [
       "<lets_plot.plot.core.PlotSpec at 0x12de9ec80>"
      ]
     },
     "execution_count": 18,
     "metadata": {},
     "output_type": "execute_result"
    }
   ],
   "source": [
    "plot_y + facet_grid(y=\"animal_type\", x=\"diet\", scales=\"free_y\")"
   ]
  },
  {
   "cell_type": "markdown",
   "id": "a6f9c778",
   "metadata": {},
   "source": [
    "#### Four facets, wrap, free y"
   ]
  },
  {
   "cell_type": "code",
   "execution_count": 19,
   "id": "20018426",
   "metadata": {
    "execution": {
     "iopub.execute_input": "2024-09-27T17:56:56.221179Z",
     "iopub.status.busy": "2024-09-27T17:56:56.221111Z",
     "iopub.status.idle": "2024-09-27T17:56:56.223335Z",
     "shell.execute_reply": "2024-09-27T17:56:56.223130Z"
    }
   },
   "outputs": [
    {
     "data": {
      "text/html": [
       "   <div id=\"vWifwc\"></div>\n",
       "   <script type=\"text/javascript\" data-lets-plot-script=\"plot\">\n",
       "       (function() {\n",
       "           var plotSpec={\n",
       "\"data\":{\n",
       "\"animal_type\":[\"pet\",\"pet\",\"pet\",\"pet\",\"farm_animal\",\"farm_animal\",\"farm_animal\"],\n",
       "\"animal\":[\"cat\",\"dog\",\"rabbit\",\"hamster\",\"cow\",\"pig\",\"horse\"],\n",
       "\"weight\":[5.0,10.0,2.0,1.0,500.0,100.0,700.0],\n",
       "\"diet\":[\"carnivore\",\"carnivore\",\"herbivore\",\"herbivore\",\"herbivore\",\"carnivore\",\"herbivore\"]\n",
       "},\n",
       "\"mapping\":{\n",
       "\"x\":\"weight\",\n",
       "\"y\":\"animal\"\n",
       "},\n",
       "\"data_meta\":{\n",
       "\"series_annotations\":[{\n",
       "\"type\":\"str\",\n",
       "\"column\":\"animal_type\"\n",
       "},{\n",
       "\"type\":\"str\",\n",
       "\"column\":\"animal\"\n",
       "},{\n",
       "\"type\":\"int\",\n",
       "\"column\":\"weight\"\n",
       "},{\n",
       "\"type\":\"str\",\n",
       "\"column\":\"diet\"\n",
       "}]\n",
       "},\n",
       "\"theme\":{\n",
       "\"name\":\"bw\",\n",
       "\"panel_grid_minor\":{\n",
       "\"blank\":true\n",
       "}\n",
       "},\n",
       "\"facet\":{\n",
       "\"name\":\"wrap\",\n",
       "\"facets\":[\"animal_type\",\"diet\"],\n",
       "\"ncol\":2.0,\n",
       "\"scales\":\"free_y\",\n",
       "\"order\":1.0,\n",
       "\"dir\":\"h\"\n",
       "},\n",
       "\"kind\":\"plot\",\n",
       "\"scales\":[],\n",
       "\"layers\":[{\n",
       "\"geom\":\"bar\",\n",
       "\"stat\":\"identity\",\n",
       "\"mapping\":{\n",
       "},\n",
       "\"data_meta\":{\n",
       "},\n",
       "\"orientation\":\"y\",\n",
       "\"data\":{\n",
       "}\n",
       "}],\n",
       "\"metainfo_list\":[]\n",
       "};\n",
       "           var plotContainer = document.getElementById(\"vWifwc\");\n",
       "           window.letsPlotCall(function() {{\n",
       "               LetsPlot.buildPlotFromProcessedSpecs(plotSpec, -1, -1, plotContainer);\n",
       "           }});\n",
       "       })();\n",
       "   </script>"
      ],
      "text/plain": [
       "<lets_plot.plot.core.PlotSpec at 0x12de9faf0>"
      ]
     },
     "execution_count": 19,
     "metadata": {},
     "output_type": "execute_result"
    }
   ],
   "source": [
    "plot_y + facet_wrap(facets=[\"animal_type\", \"diet\"], ncol=2, scales=\"free_y\")"
   ]
  },
  {
   "cell_type": "markdown",
   "id": "b7411929",
   "metadata": {},
   "source": [
    "#### Four facets, grid, free scales"
   ]
  },
  {
   "cell_type": "code",
   "execution_count": 20,
   "id": "8d51722a",
   "metadata": {
    "execution": {
     "iopub.execute_input": "2024-09-27T17:56:56.224299Z",
     "iopub.status.busy": "2024-09-27T17:56:56.224233Z",
     "iopub.status.idle": "2024-09-27T17:56:56.226598Z",
     "shell.execute_reply": "2024-09-27T17:56:56.226393Z"
    }
   },
   "outputs": [
    {
     "data": {
      "text/html": [
       "   <div id=\"tPj6DC\"></div>\n",
       "   <script type=\"text/javascript\" data-lets-plot-script=\"plot\">\n",
       "       (function() {\n",
       "           var plotSpec={\n",
       "\"data\":{\n",
       "\"animal_type\":[\"pet\",\"pet\",\"pet\",\"pet\",\"farm_animal\",\"farm_animal\",\"farm_animal\"],\n",
       "\"animal\":[\"cat\",\"dog\",\"rabbit\",\"hamster\",\"cow\",\"pig\",\"horse\"],\n",
       "\"weight\":[5.0,10.0,2.0,1.0,500.0,100.0,700.0],\n",
       "\"diet\":[\"carnivore\",\"carnivore\",\"herbivore\",\"herbivore\",\"herbivore\",\"carnivore\",\"herbivore\"]\n",
       "},\n",
       "\"mapping\":{\n",
       "\"x\":\"weight\",\n",
       "\"y\":\"animal\"\n",
       "},\n",
       "\"data_meta\":{\n",
       "\"series_annotations\":[{\n",
       "\"type\":\"str\",\n",
       "\"column\":\"animal_type\"\n",
       "},{\n",
       "\"type\":\"str\",\n",
       "\"column\":\"animal\"\n",
       "},{\n",
       "\"type\":\"int\",\n",
       "\"column\":\"weight\"\n",
       "},{\n",
       "\"type\":\"str\",\n",
       "\"column\":\"diet\"\n",
       "}]\n",
       "},\n",
       "\"theme\":{\n",
       "\"name\":\"bw\",\n",
       "\"panel_grid_minor\":{\n",
       "\"blank\":true\n",
       "},\n",
       "\"panel_border\":{\n",
       "\"blank\":false\n",
       "}\n",
       "},\n",
       "\"facet\":{\n",
       "\"name\":\"grid\",\n",
       "\"x\":\"diet\",\n",
       "\"y\":\"animal_type\",\n",
       "\"scales\":\"free\",\n",
       "\"x_order\":1.0,\n",
       "\"y_order\":1.0\n",
       "},\n",
       "\"kind\":\"plot\",\n",
       "\"scales\":[],\n",
       "\"layers\":[{\n",
       "\"geom\":\"bar\",\n",
       "\"stat\":\"identity\",\n",
       "\"mapping\":{\n",
       "},\n",
       "\"data_meta\":{\n",
       "},\n",
       "\"orientation\":\"y\",\n",
       "\"data\":{\n",
       "}\n",
       "}],\n",
       "\"metainfo_list\":[]\n",
       "};\n",
       "           var plotContainer = document.getElementById(\"tPj6DC\");\n",
       "           window.letsPlotCall(function() {{\n",
       "               LetsPlot.buildPlotFromProcessedSpecs(plotSpec, -1, -1, plotContainer);\n",
       "           }});\n",
       "       })();\n",
       "   </script>"
      ],
      "text/plain": [
       "<lets_plot.plot.core.PlotSpec at 0x12dea4a30>"
      ]
     },
     "execution_count": 20,
     "metadata": {},
     "output_type": "execute_result"
    }
   ],
   "source": [
    "plot_y + facet_grid(y=\"animal_type\", x=\"diet\", scales=\"free\") + theme(panel_border=element_rect())"
   ]
  },
  {
   "cell_type": "markdown",
   "id": "1366bce4",
   "metadata": {},
   "source": [
    "#### Four facets, wrap, free scales"
   ]
  },
  {
   "cell_type": "code",
   "execution_count": 21,
   "id": "e22440f7",
   "metadata": {
    "execution": {
     "iopub.execute_input": "2024-09-27T17:56:56.227542Z",
     "iopub.status.busy": "2024-09-27T17:56:56.227477Z",
     "iopub.status.idle": "2024-09-27T17:56:56.230274Z",
     "shell.execute_reply": "2024-09-27T17:56:56.230072Z"
    }
   },
   "outputs": [
    {
     "name": "stdout",
     "output_type": "stream",
     "text": [
      "{\n",
      "  \"data\": {\n",
      "    \"animal_type\": [\n",
      "      \"pet\",\n",
      "      \"pet\",\n",
      "      \"pet\",\n",
      "      \"pet\",\n",
      "      \"farm_animal\",\n",
      "      \"farm_animal\",\n",
      "      \"farm_animal\"\n",
      "    ],\n",
      "    \"animal\": [\n",
      "      \"cat\",\n",
      "      \"dog\",\n",
      "      \"rabbit\",\n",
      "      \"hamster\",\n",
      "      \"cow\",\n",
      "      \"pig\",\n",
      "      \"horse\"\n",
      "    ],\n",
      "    \"weight\": [\n",
      "      5.0,\n",
      "      10.0,\n",
      "      2.0,\n",
      "      1.0,\n",
      "      500.0,\n",
      "      100.0,\n",
      "      700.0\n",
      "    ],\n",
      "    \"diet\": [\n",
      "      \"carnivore\",\n",
      "      \"carnivore\",\n",
      "      \"herbivore\",\n",
      "      \"herbivore\",\n",
      "      \"herbivore\",\n",
      "      \"carnivore\",\n",
      "      \"herbivore\"\n",
      "    ]\n",
      "  },\n",
      "  \"mapping\": {\n",
      "    \"x\": \"weight\",\n",
      "    \"y\": \"animal\"\n",
      "  },\n",
      "  \"data_meta\": {\n",
      "    \"series_annotations\": [\n",
      "      {\n",
      "        \"type\": \"str\",\n",
      "        \"column\": \"animal_type\"\n",
      "      },\n",
      "      {\n",
      "        \"type\": \"str\",\n",
      "        \"column\": \"animal\"\n",
      "      },\n",
      "      {\n",
      "        \"type\": \"int\",\n",
      "        \"column\": \"weight\"\n",
      "      },\n",
      "      {\n",
      "        \"type\": \"str\",\n",
      "        \"column\": \"diet\"\n",
      "      }\n",
      "    ]\n",
      "  },\n",
      "  \"theme\": {\n",
      "    \"name\": \"bw\",\n",
      "    \"panel_grid_minor\": {\n",
      "      \"blank\": true\n",
      "    },\n",
      "    \"panel_border\": {\n",
      "      \"blank\": false\n",
      "    }\n",
      "  },\n",
      "  \"facet\": {\n",
      "    \"name\": \"wrap\",\n",
      "    \"facets\": [\n",
      "      \"animal_type\",\n",
      "      \"diet\"\n",
      "    ],\n",
      "    \"ncol\": 2.0,\n",
      "    \"scales\": \"free\",\n",
      "    \"order\": 1.0,\n",
      "    \"dir\": \"h\"\n",
      "  },\n",
      "  \"kind\": \"plot\",\n",
      "  \"scales\": [],\n",
      "  \"layers\": [\n",
      "    {\n",
      "      \"geom\": \"bar\",\n",
      "      \"stat\": \"identity\",\n",
      "      \"mapping\": {},\n",
      "      \"data_meta\": {},\n",
      "      \"orientation\": \"y\"\n",
      "    }\n",
      "  ],\n",
      "  \"metainfo_list\": []\n",
      "}\n"
     ]
    },
    {
     "data": {
      "text/html": [
       "   <div id=\"tLSPXM\"></div>\n",
       "   <script type=\"text/javascript\" data-lets-plot-script=\"plot\">\n",
       "       (function() {\n",
       "           var plotSpec={\n",
       "\"data\":{\n",
       "\"animal_type\":[\"pet\",\"pet\",\"pet\",\"pet\",\"farm_animal\",\"farm_animal\",\"farm_animal\"],\n",
       "\"animal\":[\"cat\",\"dog\",\"rabbit\",\"hamster\",\"cow\",\"pig\",\"horse\"],\n",
       "\"weight\":[5.0,10.0,2.0,1.0,500.0,100.0,700.0],\n",
       "\"diet\":[\"carnivore\",\"carnivore\",\"herbivore\",\"herbivore\",\"herbivore\",\"carnivore\",\"herbivore\"]\n",
       "},\n",
       "\"mapping\":{\n",
       "\"x\":\"weight\",\n",
       "\"y\":\"animal\"\n",
       "},\n",
       "\"data_meta\":{\n",
       "\"series_annotations\":[{\n",
       "\"type\":\"str\",\n",
       "\"column\":\"animal_type\"\n",
       "},{\n",
       "\"type\":\"str\",\n",
       "\"column\":\"animal\"\n",
       "},{\n",
       "\"type\":\"int\",\n",
       "\"column\":\"weight\"\n",
       "},{\n",
       "\"type\":\"str\",\n",
       "\"column\":\"diet\"\n",
       "}]\n",
       "},\n",
       "\"theme\":{\n",
       "\"name\":\"bw\",\n",
       "\"panel_grid_minor\":{\n",
       "\"blank\":true\n",
       "},\n",
       "\"panel_border\":{\n",
       "\"blank\":false\n",
       "}\n",
       "},\n",
       "\"facet\":{\n",
       "\"name\":\"wrap\",\n",
       "\"facets\":[\"animal_type\",\"diet\"],\n",
       "\"ncol\":2.0,\n",
       "\"scales\":\"free\",\n",
       "\"order\":1.0,\n",
       "\"dir\":\"h\"\n",
       "},\n",
       "\"kind\":\"plot\",\n",
       "\"scales\":[],\n",
       "\"layers\":[{\n",
       "\"geom\":\"bar\",\n",
       "\"stat\":\"identity\",\n",
       "\"mapping\":{\n",
       "},\n",
       "\"data_meta\":{\n",
       "},\n",
       "\"orientation\":\"y\",\n",
       "\"data\":{\n",
       "}\n",
       "}],\n",
       "\"metainfo_list\":[]\n",
       "};\n",
       "           var plotContainer = document.getElementById(\"tLSPXM\");\n",
       "           window.letsPlotCall(function() {{\n",
       "               LetsPlot.buildPlotFromProcessedSpecs(plotSpec, -1, -1, plotContainer);\n",
       "           }});\n",
       "       })();\n",
       "   </script>"
      ],
      "text/plain": [
       "<lets_plot.plot.core.PlotSpec at 0x12dea5810>"
      ]
     },
     "execution_count": 21,
     "metadata": {},
     "output_type": "execute_result"
    }
   ],
   "source": [
    "\n",
    "dump_plot(plot_y + facet_wrap(facets=[\"animal_type\", \"diet\"], ncol=2, scales=\"free\") + theme(panel_border=element_rect()))"
   ]
  },
  {
   "cell_type": "code",
   "execution_count": null,
   "id": "7ac474df-973f-4312-aaac-a9420eb03cec",
   "metadata": {},
   "outputs": [],
   "source": []
  }
 ],
 "metadata": {
  "kernelspec": {
   "display_name": "Python 3 (ipykernel)",
   "language": "python",
   "name": "python3"
  },
  "language_info": {
   "codemirror_mode": {
    "name": "ipython",
    "version": 3
   },
   "file_extension": ".py",
   "mimetype": "text/x-python",
   "name": "python",
   "nbconvert_exporter": "python",
   "pygments_lexer": "ipython3",
   "version": "3.10.15"
  }
 },
 "nbformat": 4,
 "nbformat_minor": 5
}
