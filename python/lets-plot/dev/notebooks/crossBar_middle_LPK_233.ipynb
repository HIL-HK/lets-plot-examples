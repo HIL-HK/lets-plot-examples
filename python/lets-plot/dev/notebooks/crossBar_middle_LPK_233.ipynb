{
 "cells": [
  {
   "cell_type": "code",
   "execution_count": 1,
   "id": "dab12aad",
   "metadata": {
    "execution": {
     "iopub.execute_input": "2024-10-02T08:47:46.252159Z",
     "iopub.status.busy": "2024-10-02T08:47:46.251675Z",
     "iopub.status.idle": "2024-10-02T08:47:46.696970Z",
     "shell.execute_reply": "2024-10-02T08:47:46.696614Z"
    }
   },
   "outputs": [],
   "source": [
    "from lets_plot import *\n"
   ]
  },
  {
   "cell_type": "code",
   "execution_count": 2,
   "id": "ce2508c2",
   "metadata": {
    "execution": {
     "iopub.execute_input": "2024-10-02T08:47:46.698411Z",
     "iopub.status.busy": "2024-10-02T08:47:46.698267Z",
     "iopub.status.idle": "2024-10-02T08:47:46.700511Z",
     "shell.execute_reply": "2024-10-02T08:47:46.700287Z"
    }
   },
   "outputs": [
    {
     "data": {
      "text/html": [
       "\n",
       "            <div id=\"OfdH2I\"></div>\n",
       "            <script type=\"text/javascript\" data-lets-plot-script=\"library\">\n",
       "                if(!window.letsPlotCallQueue) {\n",
       "                    window.letsPlotCallQueue = [];\n",
       "                }; \n",
       "                window.letsPlotCall = function(f) {\n",
       "                    window.letsPlotCallQueue.push(f);\n",
       "                };\n",
       "                (function() {\n",
       "                    var script = document.createElement(\"script\");\n",
       "                    script.type = \"text/javascript\";\n",
       "                    script.src = \"https://cdn.jsdelivr.net/gh/JetBrains/lets-plot@v4.4.1/js-package/distr/lets-plot.min.js\";\n",
       "                    script.onload = function() {\n",
       "                        window.letsPlotCall = function(f) {f();};\n",
       "                        window.letsPlotCallQueue.forEach(function(f) {f();});\n",
       "                        window.letsPlotCallQueue = [];\n",
       "                        \n",
       "                    };\n",
       "                    script.onerror = function(event) {\n",
       "                        window.letsPlotCall = function(f) {};    // noop\n",
       "                        window.letsPlotCallQueue = [];\n",
       "                        var div = document.createElement(\"div\");\n",
       "                        div.style.color = 'darkred';\n",
       "                        div.textContent = 'Error loading Lets-Plot JS';\n",
       "                        document.getElementById(\"OfdH2I\").appendChild(div);\n",
       "                    };\n",
       "                    var e = document.getElementById(\"OfdH2I\");\n",
       "                    e.appendChild(script);\n",
       "                })()\n",
       "            </script>\n",
       "            "
      ]
     },
     "metadata": {},
     "output_type": "display_data"
    }
   ],
   "source": [
    "LetsPlot.setup_html()"
   ]
  },
  {
   "cell_type": "code",
   "execution_count": 3,
   "id": "91ee237b",
   "metadata": {
    "execution": {
     "iopub.execute_input": "2024-10-02T08:47:46.701593Z",
     "iopub.status.busy": "2024-10-02T08:47:46.701521Z",
     "iopub.status.idle": "2024-10-02T08:47:46.734525Z",
     "shell.execute_reply": "2024-10-02T08:47:46.734300Z"
    }
   },
   "outputs": [
    {
     "data": {
      "text/html": [
       "   <div id=\"Eyowv6\"></div>\n",
       "   <script type=\"text/javascript\" data-lets-plot-script=\"plot\">\n",
       "       (function() {\n",
       "           var plotSpec={\n",
       "\"data\":{\n",
       "\"animal\":[\"cow\",\"mouse\",\"horse\"],\n",
       "\"weight_l\":[20.0,5.0,30.0],\n",
       "\"weight_h\":[27.0,10.0,39.0],\n",
       "\"weight_m\":[25.0,7.0,32.0]\n",
       "},\n",
       "\"mapping\":{\n",
       "},\n",
       "\"data_meta\":{\n",
       "\"series_annotations\":[{\n",
       "\"type\":\"str\",\n",
       "\"column\":\"animal\"\n",
       "},{\n",
       "\"type\":\"int\",\n",
       "\"column\":\"weight_l\"\n",
       "},{\n",
       "\"type\":\"int\",\n",
       "\"column\":\"weight_h\"\n",
       "},{\n",
       "\"type\":\"int\",\n",
       "\"column\":\"weight_m\"\n",
       "}]\n",
       "},\n",
       "\"theme\":{\n",
       "\"name\":\"bw\"\n",
       "},\n",
       "\"kind\":\"plot\",\n",
       "\"scales\":[],\n",
       "\"layers\":[{\n",
       "\"geom\":\"crossbar\",\n",
       "\"mapping\":{\n",
       "\"x\":\"animal\",\n",
       "\"y\":\"weight_m\",\n",
       "\"ymin\":\"weight_l\",\n",
       "\"ymax\":\"weight_h\"\n",
       "},\n",
       "\"data_meta\":{\n",
       "},\n",
       "\"data\":{\n",
       "}\n",
       "}],\n",
       "\"metainfo_list\":[]\n",
       "};\n",
       "           var plotContainer = document.getElementById(\"Eyowv6\");\n",
       "           window.letsPlotCall(function() {{\n",
       "               LetsPlot.buildPlotFromProcessedSpecs(plotSpec, -1, -1, plotContainer);\n",
       "           }});\n",
       "       })();\n",
       "   </script>"
      ],
      "text/plain": [
       "<lets_plot.plot.core.PlotSpec at 0x149887370>"
      ]
     },
     "execution_count": 3,
     "metadata": {},
     "output_type": "execute_result"
    }
   ],
   "source": [
    "dat = dict(\n",
    "    animal = [\"cow\", \"mouse\", \"horse\"],\n",
    "    weight_l = [ 20, 5, 30 ],\n",
    "    weight_h = [ 27, 10, 39 ],\n",
    "    weight_m = [ 25, 7, 32 ],\n",
    ")\n",
    "\n",
    "(ggplot(dat)\n",
    "    + geom_crossbar(aes(x=\"animal\", y=\"weight_m\", ymin=\"weight_l\", ymax=\"weight_h\"))\n",
    "    + theme_bw()\n",
    ")"
   ]
  },
  {
   "cell_type": "code",
   "execution_count": 4,
   "id": "c3e8ba67",
   "metadata": {
    "execution": {
     "iopub.execute_input": "2024-10-02T08:47:46.735644Z",
     "iopub.status.busy": "2024-10-02T08:47:46.735545Z",
     "iopub.status.idle": "2024-10-02T08:47:46.738084Z",
     "shell.execute_reply": "2024-10-02T08:47:46.737891Z"
    }
   },
   "outputs": [
    {
     "data": {
      "text/html": [
       "   <div id=\"B2MMYj\"></div>\n",
       "   <script type=\"text/javascript\" data-lets-plot-script=\"plot\">\n",
       "       (function() {\n",
       "           var plotSpec={\n",
       "\"data\":{\n",
       "\"animal\":[\"cow\",\"mouse\",\"horse\"],\n",
       "\"weight_l\":[20.0,5.0,30.0],\n",
       "\"weight_h\":[27.0,10.0,39.0],\n",
       "\"weight_m\":[25.0,7.0,32.0]\n",
       "},\n",
       "\"mapping\":{\n",
       "},\n",
       "\"data_meta\":{\n",
       "\"series_annotations\":[{\n",
       "\"type\":\"str\",\n",
       "\"column\":\"animal\"\n",
       "},{\n",
       "\"type\":\"int\",\n",
       "\"column\":\"weight_l\"\n",
       "},{\n",
       "\"type\":\"int\",\n",
       "\"column\":\"weight_h\"\n",
       "},{\n",
       "\"type\":\"int\",\n",
       "\"column\":\"weight_m\"\n",
       "}]\n",
       "},\n",
       "\"theme\":{\n",
       "\"name\":\"bw\"\n",
       "},\n",
       "\"kind\":\"plot\",\n",
       "\"scales\":[],\n",
       "\"layers\":[{\n",
       "\"geom\":\"crossbar\",\n",
       "\"mapping\":{\n",
       "\"x\":\"weight_m\",\n",
       "\"y\":\"animal\",\n",
       "\"xmin\":\"weight_l\",\n",
       "\"xmax\":\"weight_h\"\n",
       "},\n",
       "\"data_meta\":{\n",
       "},\n",
       "\"data\":{\n",
       "}\n",
       "}],\n",
       "\"metainfo_list\":[]\n",
       "};\n",
       "           var plotContainer = document.getElementById(\"B2MMYj\");\n",
       "           window.letsPlotCall(function() {{\n",
       "               LetsPlot.buildPlotFromProcessedSpecs(plotSpec, -1, -1, plotContainer);\n",
       "           }});\n",
       "       })();\n",
       "   </script>"
      ],
      "text/plain": [
       "<lets_plot.plot.core.PlotSpec at 0x149b02e60>"
      ]
     },
     "execution_count": 4,
     "metadata": {},
     "output_type": "execute_result"
    }
   ],
   "source": [
    "(ggplot(dat)\n",
    "    + geom_crossbar(aes(y=\"animal\", x=\"weight_m\", xmin=\"weight_l\", xmax=\"weight_h\"))\n",
    "    + theme_bw()\n",
    ")"
   ]
  },
  {
   "cell_type": "code",
   "execution_count": 5,
   "id": "14fe473a",
   "metadata": {
    "execution": {
     "iopub.execute_input": "2024-10-02T08:47:46.739066Z",
     "iopub.status.busy": "2024-10-02T08:47:46.738993Z",
     "iopub.status.idle": "2024-10-02T08:47:46.741148Z",
     "shell.execute_reply": "2024-10-02T08:47:46.740954Z"
    }
   },
   "outputs": [
    {
     "data": {
      "text/html": [
       "   <div id=\"7Cja3F\"></div>\n",
       "   <script type=\"text/javascript\" data-lets-plot-script=\"plot\">\n",
       "       (function() {\n",
       "           var plotSpec={\n",
       "\"mapping\":{\n",
       "},\n",
       "\"data_meta\":{\n",
       "},\n",
       "\"theme\":{\n",
       "\"name\":\"bw\"\n",
       "},\n",
       "\"kind\":\"plot\",\n",
       "\"scales\":[],\n",
       "\"layers\":[{\n",
       "\"geom\":\"crossbar\",\n",
       "\"mapping\":{\n",
       "},\n",
       "\"data_meta\":{\n",
       "},\n",
       "\"y\":7.0,\n",
       "\"ymin\":5.0,\n",
       "\"ymax\":10.0,\n",
       "\"data\":{\n",
       "}\n",
       "}],\n",
       "\"metainfo_list\":[]\n",
       "};\n",
       "           var plotContainer = document.getElementById(\"7Cja3F\");\n",
       "           window.letsPlotCall(function() {{\n",
       "               LetsPlot.buildPlotFromProcessedSpecs(plotSpec, -1, -1, plotContainer);\n",
       "           }});\n",
       "       })();\n",
       "   </script>"
      ],
      "text/plain": [
       "<lets_plot.plot.core.PlotSpec at 0x149887d90>"
      ]
     },
     "execution_count": 5,
     "metadata": {},
     "output_type": "execute_result"
    }
   ],
   "source": [
    "(ggplot()\n",
    "    + geom_crossbar(y=7, ymin=5, ymax=10)\n",
    "    + theme_bw()\n",
    ")"
   ]
  },
  {
   "cell_type": "code",
   "execution_count": 6,
   "id": "a3548b74",
   "metadata": {
    "execution": {
     "iopub.execute_input": "2024-10-02T08:47:46.742091Z",
     "iopub.status.busy": "2024-10-02T08:47:46.742011Z",
     "iopub.status.idle": "2024-10-02T08:47:46.744113Z",
     "shell.execute_reply": "2024-10-02T08:47:46.743930Z"
    }
   },
   "outputs": [
    {
     "data": {
      "text/html": [
       "   <div id=\"tpe8xU\"></div>\n",
       "   <script type=\"text/javascript\" data-lets-plot-script=\"plot\">\n",
       "       (function() {\n",
       "           var plotSpec={\n",
       "\"mapping\":{\n",
       "},\n",
       "\"data_meta\":{\n",
       "},\n",
       "\"theme\":{\n",
       "\"name\":\"bw\"\n",
       "},\n",
       "\"kind\":\"plot\",\n",
       "\"scales\":[],\n",
       "\"layers\":[{\n",
       "\"geom\":\"crossbar\",\n",
       "\"mapping\":{\n",
       "},\n",
       "\"data_meta\":{\n",
       "},\n",
       "\"x\":7.0,\n",
       "\"xmin\":5.0,\n",
       "\"xmax\":10.0,\n",
       "\"data\":{\n",
       "}\n",
       "}],\n",
       "\"metainfo_list\":[]\n",
       "};\n",
       "           var plotContainer = document.getElementById(\"tpe8xU\");\n",
       "           window.letsPlotCall(function() {{\n",
       "               LetsPlot.buildPlotFromProcessedSpecs(plotSpec, -1, -1, plotContainer);\n",
       "           }});\n",
       "       })();\n",
       "   </script>"
      ],
      "text/plain": [
       "<lets_plot.plot.core.PlotSpec at 0x149b03580>"
      ]
     },
     "execution_count": 6,
     "metadata": {},
     "output_type": "execute_result"
    }
   ],
   "source": [
    "(ggplot()\n",
    "    + geom_crossbar(x=7, xmin=5, xmax=10)\n",
    "    + theme_bw()\n",
    ")"
   ]
  },
  {
   "cell_type": "markdown",
   "id": "e6df0119",
   "metadata": {},
   "source": [
    "### Undefined Y"
   ]
  },
  {
   "cell_type": "code",
   "execution_count": 7,
   "id": "917c498b",
   "metadata": {
    "execution": {
     "iopub.execute_input": "2024-10-02T08:47:46.745082Z",
     "iopub.status.busy": "2024-10-02T08:47:46.745010Z",
     "iopub.status.idle": "2024-10-02T08:47:46.747446Z",
     "shell.execute_reply": "2024-10-02T08:47:46.747248Z"
    }
   },
   "outputs": [
    {
     "data": {
      "text/html": [
       "   <div id=\"cWk54c\"></div>\n",
       "   <script type=\"text/javascript\" data-lets-plot-script=\"plot\">\n",
       "       (function() {\n",
       "           var plotSpec={\n",
       "\"data\":{\n",
       "\"animal\":[\"cow\",\"mouse\",\"horse\"],\n",
       "\"weight_l\":[20.0,5.0,30.0],\n",
       "\"weight_h\":[27.0,10.0,39.0]\n",
       "},\n",
       "\"mapping\":{\n",
       "},\n",
       "\"data_meta\":{\n",
       "\"series_annotations\":[{\n",
       "\"type\":\"str\",\n",
       "\"column\":\"animal\"\n",
       "},{\n",
       "\"type\":\"int\",\n",
       "\"column\":\"weight_l\"\n",
       "},{\n",
       "\"type\":\"int\",\n",
       "\"column\":\"weight_h\"\n",
       "},{\n",
       "\"type\":\"int\",\n",
       "\"column\":\"weight_m\"\n",
       "}]\n",
       "},\n",
       "\"theme\":{\n",
       "\"name\":\"bw\"\n",
       "},\n",
       "\"kind\":\"plot\",\n",
       "\"scales\":[],\n",
       "\"layers\":[{\n",
       "\"geom\":\"crossbar\",\n",
       "\"mapping\":{\n",
       "\"x\":\"animal\",\n",
       "\"ymin\":\"weight_l\",\n",
       "\"ymax\":\"weight_h\"\n",
       "},\n",
       "\"data_meta\":{\n",
       "},\n",
       "\"data\":{\n",
       "}\n",
       "}],\n",
       "\"metainfo_list\":[]\n",
       "};\n",
       "           var plotContainer = document.getElementById(\"cWk54c\");\n",
       "           window.letsPlotCall(function() {{\n",
       "               LetsPlot.buildPlotFromProcessedSpecs(plotSpec, -1, -1, plotContainer);\n",
       "           }});\n",
       "       })();\n",
       "   </script>"
      ],
      "text/plain": [
       "<lets_plot.plot.core.PlotSpec at 0x149b039d0>"
      ]
     },
     "execution_count": 7,
     "metadata": {},
     "output_type": "execute_result"
    }
   ],
   "source": [
    "(ggplot(dat)\n",
    "    + geom_crossbar(aes(x=\"animal\", ymin=\"weight_l\", ymax=\"weight_h\"))\n",
    "    + theme_bw()\n",
    ")"
   ]
  },
  {
   "cell_type": "code",
   "execution_count": 8,
   "id": "d25f7805",
   "metadata": {
    "execution": {
     "iopub.execute_input": "2024-10-02T08:47:46.748427Z",
     "iopub.status.busy": "2024-10-02T08:47:46.748359Z",
     "iopub.status.idle": "2024-10-02T08:47:46.750528Z",
     "shell.execute_reply": "2024-10-02T08:47:46.750315Z"
    }
   },
   "outputs": [
    {
     "data": {
      "text/html": [
       "   <div id=\"mfPNq1\"></div>\n",
       "   <script type=\"text/javascript\" data-lets-plot-script=\"plot\">\n",
       "       (function() {\n",
       "           var plotSpec={\n",
       "\"mapping\":{\n",
       "},\n",
       "\"data_meta\":{\n",
       "},\n",
       "\"theme\":{\n",
       "\"name\":\"bw\"\n",
       "},\n",
       "\"kind\":\"plot\",\n",
       "\"scales\":[],\n",
       "\"layers\":[{\n",
       "\"geom\":\"crossbar\",\n",
       "\"mapping\":{\n",
       "},\n",
       "\"data_meta\":{\n",
       "},\n",
       "\"ymin\":5.0,\n",
       "\"ymax\":10.0,\n",
       "\"data\":{\n",
       "}\n",
       "}],\n",
       "\"metainfo_list\":[]\n",
       "};\n",
       "           var plotContainer = document.getElementById(\"mfPNq1\");\n",
       "           window.letsPlotCall(function() {{\n",
       "               LetsPlot.buildPlotFromProcessedSpecs(plotSpec, -1, -1, plotContainer);\n",
       "           }});\n",
       "       })();\n",
       "   </script>"
      ],
      "text/plain": [
       "<lets_plot.plot.core.PlotSpec at 0x149b2c4f0>"
      ]
     },
     "execution_count": 8,
     "metadata": {},
     "output_type": "execute_result"
    }
   ],
   "source": [
    "(ggplot()\n",
    "    + geom_crossbar(ymin=5, ymax=10)\n",
    "    + theme_bw()\n",
    ")"
   ]
  },
  {
   "cell_type": "markdown",
   "id": "f8f1935e",
   "metadata": {},
   "source": [
    "### Undefined X"
   ]
  },
  {
   "cell_type": "code",
   "execution_count": 9,
   "id": "c9e02137",
   "metadata": {
    "execution": {
     "iopub.execute_input": "2024-10-02T08:47:46.751578Z",
     "iopub.status.busy": "2024-10-02T08:47:46.751512Z",
     "iopub.status.idle": "2024-10-02T08:47:46.753787Z",
     "shell.execute_reply": "2024-10-02T08:47:46.753608Z"
    }
   },
   "outputs": [
    {
     "data": {
      "text/html": [
       "   <div id=\"66c0De\"></div>\n",
       "   <script type=\"text/javascript\" data-lets-plot-script=\"plot\">\n",
       "       (function() {\n",
       "           var plotSpec={\n",
       "\"data\":{\n",
       "\"animal\":[\"cow\",\"mouse\",\"horse\"],\n",
       "\"weight_l\":[20.0,5.0,30.0],\n",
       "\"weight_h\":[27.0,10.0,39.0]\n",
       "},\n",
       "\"mapping\":{\n",
       "},\n",
       "\"data_meta\":{\n",
       "\"series_annotations\":[{\n",
       "\"type\":\"str\",\n",
       "\"column\":\"animal\"\n",
       "},{\n",
       "\"type\":\"int\",\n",
       "\"column\":\"weight_l\"\n",
       "},{\n",
       "\"type\":\"int\",\n",
       "\"column\":\"weight_h\"\n",
       "},{\n",
       "\"type\":\"int\",\n",
       "\"column\":\"weight_m\"\n",
       "}]\n",
       "},\n",
       "\"theme\":{\n",
       "\"name\":\"bw\"\n",
       "},\n",
       "\"kind\":\"plot\",\n",
       "\"scales\":[],\n",
       "\"layers\":[{\n",
       "\"geom\":\"crossbar\",\n",
       "\"mapping\":{\n",
       "\"y\":\"animal\",\n",
       "\"xmin\":\"weight_l\",\n",
       "\"xmax\":\"weight_h\"\n",
       "},\n",
       "\"data_meta\":{\n",
       "},\n",
       "\"data\":{\n",
       "}\n",
       "}],\n",
       "\"metainfo_list\":[]\n",
       "};\n",
       "           var plotContainer = document.getElementById(\"66c0De\");\n",
       "           window.letsPlotCall(function() {{\n",
       "               LetsPlot.buildPlotFromProcessedSpecs(plotSpec, -1, -1, plotContainer);\n",
       "           }});\n",
       "       })();\n",
       "   </script>"
      ],
      "text/plain": [
       "<lets_plot.plot.core.PlotSpec at 0x149b2c820>"
      ]
     },
     "execution_count": 9,
     "metadata": {},
     "output_type": "execute_result"
    }
   ],
   "source": [
    "(ggplot(dat)\n",
    "    + geom_crossbar(aes(y=\"animal\", xmin=\"weight_l\", xmax=\"weight_h\"))\n",
    "    + theme_bw()\n",
    ")"
   ]
  },
  {
   "cell_type": "code",
   "execution_count": 10,
   "id": "7d9489aa",
   "metadata": {
    "execution": {
     "iopub.execute_input": "2024-10-02T08:47:46.754786Z",
     "iopub.status.busy": "2024-10-02T08:47:46.754720Z",
     "iopub.status.idle": "2024-10-02T08:47:46.756818Z",
     "shell.execute_reply": "2024-10-02T08:47:46.756620Z"
    }
   },
   "outputs": [
    {
     "data": {
      "text/html": [
       "   <div id=\"1SQ8xl\"></div>\n",
       "   <script type=\"text/javascript\" data-lets-plot-script=\"plot\">\n",
       "       (function() {\n",
       "           var plotSpec={\n",
       "\"mapping\":{\n",
       "},\n",
       "\"data_meta\":{\n",
       "},\n",
       "\"theme\":{\n",
       "\"name\":\"bw\"\n",
       "},\n",
       "\"kind\":\"plot\",\n",
       "\"scales\":[],\n",
       "\"layers\":[{\n",
       "\"geom\":\"crossbar\",\n",
       "\"mapping\":{\n",
       "},\n",
       "\"data_meta\":{\n",
       "},\n",
       "\"xmin\":5.0,\n",
       "\"xmax\":10.0,\n",
       "\"data\":{\n",
       "}\n",
       "}],\n",
       "\"metainfo_list\":[]\n",
       "};\n",
       "           var plotContainer = document.getElementById(\"1SQ8xl\");\n",
       "           window.letsPlotCall(function() {{\n",
       "               LetsPlot.buildPlotFromProcessedSpecs(plotSpec, -1, -1, plotContainer);\n",
       "           }});\n",
       "       })();\n",
       "   </script>"
      ],
      "text/plain": [
       "<lets_plot.plot.core.PlotSpec at 0x149b2c730>"
      ]
     },
     "execution_count": 10,
     "metadata": {},
     "output_type": "execute_result"
    }
   ],
   "source": [
    "(ggplot()\n",
    "    + geom_crossbar(xmin=5, xmax=10)\n",
    "    + theme_bw()\n",
    ")"
   ]
  },
  {
   "cell_type": "markdown",
   "id": "a3ba6576",
   "metadata": {},
   "source": [
    "## Box-plot : no X"
   ]
  },
  {
   "cell_type": "code",
   "execution_count": 11,
   "id": "d4e59d58",
   "metadata": {
    "execution": {
     "iopub.execute_input": "2024-10-02T08:47:46.757818Z",
     "iopub.status.busy": "2024-10-02T08:47:46.757749Z",
     "iopub.status.idle": "2024-10-02T08:47:46.760085Z",
     "shell.execute_reply": "2024-10-02T08:47:46.759880Z"
    }
   },
   "outputs": [
    {
     "data": {
      "text/html": [
       "   <div id=\"HOWGkx\"></div>\n",
       "   <script type=\"text/javascript\" data-lets-plot-script=\"plot\">\n",
       "       (function() {\n",
       "           var plotSpec={\n",
       "\"mapping\":{\n",
       "},\n",
       "\"data_meta\":{\n",
       "},\n",
       "\"theme\":{\n",
       "\"name\":\"bw\"\n",
       "},\n",
       "\"kind\":\"plot\",\n",
       "\"scales\":[],\n",
       "\"layers\":[{\n",
       "\"geom\":\"boxplot\",\n",
       "\"mapping\":{\n",
       "},\n",
       "\"data_meta\":{\n",
       "},\n",
       "\"middle\":8.0,\n",
       "\"lower\":6.0,\n",
       "\"upper\":9.0,\n",
       "\"ymin\":5.0,\n",
       "\"ymax\":10.0,\n",
       "\"data\":{\n",
       "\"..x..\":[],\n",
       "\"..ymin..\":[],\n",
       "\"..ymax..\":[],\n",
       "\"..lower..\":[],\n",
       "\"..middle..\":[],\n",
       "\"..upper..\":[],\n",
       "\"..group..\":[]\n",
       "}\n",
       "},{\n",
       "\"geom\":\"point\",\n",
       "\"stat\":\"boxplot_outlier\",\n",
       "\"mapping\":{\n",
       "},\n",
       "\"show_legend\":false,\n",
       "\"data_meta\":{\n",
       "},\n",
       "\"data\":{\n",
       "\"..x..\":[],\n",
       "\"..y..\":[],\n",
       "\"..ymin..\":[],\n",
       "\"..ymax..\":[],\n",
       "\"..lower..\":[],\n",
       "\"..middle..\":[],\n",
       "\"..upper..\":[],\n",
       "\"..group..\":[]\n",
       "}\n",
       "}],\n",
       "\"metainfo_list\":[]\n",
       "};\n",
       "           var plotContainer = document.getElementById(\"HOWGkx\");\n",
       "           window.letsPlotCall(function() {{\n",
       "               LetsPlot.buildPlotFromProcessedSpecs(plotSpec, -1, -1, plotContainer);\n",
       "           }});\n",
       "       })();\n",
       "   </script>"
      ],
      "text/plain": [
       "<lets_plot.plot.core.PlotSpec at 0x149b2d750>"
      ]
     },
     "execution_count": 11,
     "metadata": {},
     "output_type": "execute_result"
    }
   ],
   "source": [
    "(ggplot()\n",
    "    + geom_boxplot(middle=8, lower=6, upper=9, ymin=5, ymax=10)\n",
    "    + theme_bw()\n",
    ")"
   ]
  },
  {
   "cell_type": "markdown",
   "id": "c5744d3e",
   "metadata": {},
   "source": [
    "## Box-plot : no Y"
   ]
  },
  {
   "cell_type": "code",
   "execution_count": 12,
   "id": "c4784869",
   "metadata": {
    "execution": {
     "iopub.execute_input": "2024-10-02T08:47:46.761085Z",
     "iopub.status.busy": "2024-10-02T08:47:46.761019Z",
     "iopub.status.idle": "2024-10-02T08:47:46.763359Z",
     "shell.execute_reply": "2024-10-02T08:47:46.763163Z"
    }
   },
   "outputs": [
    {
     "data": {
      "text/html": [
       "   <div id=\"ju78Qz\"></div>\n",
       "   <script type=\"text/javascript\" data-lets-plot-script=\"plot\">\n",
       "       (function() {\n",
       "           var plotSpec={\n",
       "\"mapping\":{\n",
       "},\n",
       "\"data_meta\":{\n",
       "},\n",
       "\"theme\":{\n",
       "\"name\":\"bw\"\n",
       "},\n",
       "\"kind\":\"plot\",\n",
       "\"scales\":[],\n",
       "\"layers\":[{\n",
       "\"geom\":\"boxplot\",\n",
       "\"mapping\":{\n",
       "},\n",
       "\"data_meta\":{\n",
       "},\n",
       "\"orientation\":\"y\",\n",
       "\"middle\":8.0,\n",
       "\"lower\":6.0,\n",
       "\"upper\":9.0,\n",
       "\"ymin\":5.0,\n",
       "\"ymax\":10.0,\n",
       "\"data\":{\n",
       "\"..x..\":[],\n",
       "\"..ymin..\":[],\n",
       "\"..ymax..\":[],\n",
       "\"..lower..\":[],\n",
       "\"..middle..\":[],\n",
       "\"..upper..\":[],\n",
       "\"..group..\":[]\n",
       "}\n",
       "},{\n",
       "\"geom\":\"point\",\n",
       "\"stat\":\"boxplot_outlier\",\n",
       "\"mapping\":{\n",
       "},\n",
       "\"show_legend\":false,\n",
       "\"data_meta\":{\n",
       "},\n",
       "\"orientation\":\"y\",\n",
       "\"data\":{\n",
       "\"..x..\":[],\n",
       "\"..y..\":[],\n",
       "\"..ymin..\":[],\n",
       "\"..ymax..\":[],\n",
       "\"..lower..\":[],\n",
       "\"..middle..\":[],\n",
       "\"..upper..\":[],\n",
       "\"..group..\":[]\n",
       "}\n",
       "}],\n",
       "\"metainfo_list\":[]\n",
       "};\n",
       "           var plotContainer = document.getElementById(\"ju78Qz\");\n",
       "           window.letsPlotCall(function() {{\n",
       "               LetsPlot.buildPlotFromProcessedSpecs(plotSpec, -1, -1, plotContainer);\n",
       "           }});\n",
       "       })();\n",
       "   </script>"
      ],
      "text/plain": [
       "<lets_plot.plot.core.PlotSpec at 0x149b2dde0>"
      ]
     },
     "execution_count": 12,
     "metadata": {},
     "output_type": "execute_result"
    }
   ],
   "source": [
    "(ggplot()\n",
    "    + geom_boxplot(middle=8, lower=6, upper=9, ymin=5, ymax=10, orientation=\"y\")\n",
    "    + theme_bw()\n",
    ")"
   ]
  }
 ],
 "metadata": {
  "kernelspec": {
   "display_name": "Python 3 (ipykernel)",
   "language": "python",
   "name": "python3"
  },
  "language_info": {
   "codemirror_mode": {
    "name": "ipython",
    "version": 3
   },
   "file_extension": ".py",
   "mimetype": "text/x-python",
   "name": "python",
   "nbconvert_exporter": "python",
   "pygments_lexer": "ipython3",
   "version": "3.10.15"
  }
 },
 "nbformat": 4,
 "nbformat_minor": 5
}
