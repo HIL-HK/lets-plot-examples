{
 "cells": [
  {
   "cell_type": "code",
   "execution_count": 1,
   "id": "be99aa89",
   "metadata": {
    "execution": {
     "iopub.execute_input": "2024-10-02T08:48:30.318400Z",
     "iopub.status.busy": "2024-10-02T08:48:30.318137Z",
     "iopub.status.idle": "2024-10-02T08:48:30.736085Z",
     "shell.execute_reply": "2024-10-02T08:48:30.735744Z"
    }
   },
   "outputs": [],
   "source": [
    "import numpy as np\n",
    "from lets_plot import *"
   ]
  },
  {
   "cell_type": "code",
   "execution_count": 2,
   "id": "e73366e1",
   "metadata": {
    "execution": {
     "iopub.execute_input": "2024-10-02T08:48:30.737484Z",
     "iopub.status.busy": "2024-10-02T08:48:30.737366Z",
     "iopub.status.idle": "2024-10-02T08:48:30.739605Z",
     "shell.execute_reply": "2024-10-02T08:48:30.739403Z"
    }
   },
   "outputs": [
    {
     "data": {
      "text/html": [
       "\n",
       "            <div id=\"Eif8cd\"></div>\n",
       "            <script type=\"text/javascript\" data-lets-plot-script=\"library\">\n",
       "                if(!window.letsPlotCallQueue) {\n",
       "                    window.letsPlotCallQueue = [];\n",
       "                }; \n",
       "                window.letsPlotCall = function(f) {\n",
       "                    window.letsPlotCallQueue.push(f);\n",
       "                };\n",
       "                (function() {\n",
       "                    var script = document.createElement(\"script\");\n",
       "                    script.type = \"text/javascript\";\n",
       "                    script.src = \"https://cdn.jsdelivr.net/gh/JetBrains/lets-plot@v4.4.1/js-package/distr/lets-plot.min.js\";\n",
       "                    script.onload = function() {\n",
       "                        window.letsPlotCall = function(f) {f();};\n",
       "                        window.letsPlotCallQueue.forEach(function(f) {f();});\n",
       "                        window.letsPlotCallQueue = [];\n",
       "                        \n",
       "                    };\n",
       "                    script.onerror = function(event) {\n",
       "                        window.letsPlotCall = function(f) {};    // noop\n",
       "                        window.letsPlotCallQueue = [];\n",
       "                        var div = document.createElement(\"div\");\n",
       "                        div.style.color = 'darkred';\n",
       "                        div.textContent = 'Error loading Lets-Plot JS';\n",
       "                        document.getElementById(\"Eif8cd\").appendChild(div);\n",
       "                    };\n",
       "                    var e = document.getElementById(\"Eif8cd\");\n",
       "                    e.appendChild(script);\n",
       "                })()\n",
       "            </script>\n",
       "            "
      ]
     },
     "metadata": {},
     "output_type": "display_data"
    }
   ],
   "source": [
    "LetsPlot.setup_html()"
   ]
  },
  {
   "cell_type": "markdown",
   "id": "cce7875d",
   "metadata": {},
   "source": [
    "### Setting Theme Parameters Via Sum In `set_theme()`"
   ]
  },
  {
   "cell_type": "code",
   "execution_count": 3,
   "id": "b7246fcd",
   "metadata": {
    "execution": {
     "iopub.execute_input": "2024-10-02T08:48:30.740702Z",
     "iopub.status.busy": "2024-10-02T08:48:30.740628Z",
     "iopub.status.idle": "2024-10-02T08:48:30.742229Z",
     "shell.execute_reply": "2024-10-02T08:48:30.742023Z"
    }
   },
   "outputs": [],
   "source": [
    "LetsPlot.set_theme(theme_bw() \n",
    "                   + flavor_darcula() \n",
    "                   + theme(panel_background=element_rect(fill='yellow')))"
   ]
  },
  {
   "cell_type": "code",
   "execution_count": 4,
   "id": "28e6fca6",
   "metadata": {
    "execution": {
     "iopub.execute_input": "2024-10-02T08:48:30.743226Z",
     "iopub.status.busy": "2024-10-02T08:48:30.743151Z",
     "iopub.status.idle": "2024-10-02T08:48:30.771966Z",
     "shell.execute_reply": "2024-10-02T08:48:30.771723Z"
    }
   },
   "outputs": [
    {
     "data": {
      "text/html": [
       "   <div id=\"Wg8LWV\"></div>\n",
       "   <script type=\"text/javascript\" data-lets-plot-script=\"plot\">\n",
       "       (function() {\n",
       "           var plotSpec={\n",
       "\"data\":{\n",
       "\"name\":[\"pen\",\"brush\",\"paper\"],\n",
       "\"slice\":[1.0,3.0,3.0]\n",
       "},\n",
       "\"mapping\":{\n",
       "},\n",
       "\"data_meta\":{\n",
       "\"series_annotations\":[{\n",
       "\"type\":\"str\",\n",
       "\"column\":\"name\"\n",
       "},{\n",
       "\"type\":\"int\",\n",
       "\"column\":\"slice\"\n",
       "}]\n",
       "},\n",
       "\"theme\":{\n",
       "\"name\":\"bw\",\n",
       "\"flavor\":\"darcula\",\n",
       "\"panel_background\":{\n",
       "\"fill\":\"yellow\",\n",
       "\"blank\":false\n",
       "}\n",
       "},\n",
       "\"kind\":\"plot\",\n",
       "\"scales\":[{\n",
       "\"aesthetic\":\"fill\",\n",
       "\"values\":[\"pen\",\"brush\",\"paper\"]\n",
       "}],\n",
       "\"layers\":[{\n",
       "\"geom\":\"pie\",\n",
       "\"stat\":\"identity\",\n",
       "\"mapping\":{\n",
       "\"fill\":\"name\",\n",
       "\"slice\":\"slice\"\n",
       "},\n",
       "\"tooltips\":\"none\",\n",
       "\"data_meta\":{\n",
       "},\n",
       "\"labels\":{\n",
       "\"formats\":[],\n",
       "\"lines\":[\"@name\"]\n",
       "},\n",
       "\"color\":\"pen\",\n",
       "\"data\":{\n",
       "}\n",
       "}],\n",
       "\"metainfo_list\":[]\n",
       "};\n",
       "           var plotContainer = document.getElementById(\"Wg8LWV\");\n",
       "           window.letsPlotCall(function() {{\n",
       "               LetsPlot.buildPlotFromProcessedSpecs(plotSpec, -1, -1, plotContainer);\n",
       "           }});\n",
       "       })();\n",
       "   </script>"
      ],
      "text/plain": [
       "<lets_plot.plot.core.PlotSpec at 0x125d57a90>"
      ]
     },
     "execution_count": 4,
     "metadata": {},
     "output_type": "execute_result"
    }
   ],
   "source": [
    "data = {'name': ['pen', 'brush', 'paper'],\n",
    "        'slice': [1, 3, 3]}\n",
    "ggplot(data) + \\\n",
    "    geom_pie(aes(fill='name', slice='slice'),\n",
    "             stat='identity', color='pen',\n",
    "             tooltips='none', labels=layer_labels().line('@name')) + \\\n",
    "    scale_fill_manual(['pen', 'brush', 'paper'])"
   ]
  },
  {
   "cell_type": "markdown",
   "id": "d61e5176",
   "metadata": {},
   "source": [
    "### The Last Theme Overwrites Previous Theme Settings"
   ]
  },
  {
   "cell_type": "code",
   "execution_count": 5,
   "id": "8658ade3",
   "metadata": {
    "execution": {
     "iopub.execute_input": "2024-10-02T08:48:30.773060Z",
     "iopub.status.busy": "2024-10-02T08:48:30.772990Z",
     "iopub.status.idle": "2024-10-02T08:48:30.774555Z",
     "shell.execute_reply": "2024-10-02T08:48:30.774337Z"
    }
   },
   "outputs": [],
   "source": [
    "LetsPlot.set_theme(theme(panel_background=element_rect(fill='yellow')) \n",
    "                   + theme_bw() \n",
    "                   + flavor_darcula())"
   ]
  },
  {
   "cell_type": "code",
   "execution_count": 6,
   "id": "d5f8d513",
   "metadata": {
    "execution": {
     "iopub.execute_input": "2024-10-02T08:48:30.775591Z",
     "iopub.status.busy": "2024-10-02T08:48:30.775524Z",
     "iopub.status.idle": "2024-10-02T08:48:30.778207Z",
     "shell.execute_reply": "2024-10-02T08:48:30.778006Z"
    }
   },
   "outputs": [
    {
     "data": {
      "text/html": [
       "   <div id=\"wUPJnd\"></div>\n",
       "   <script type=\"text/javascript\" data-lets-plot-script=\"plot\">\n",
       "       (function() {\n",
       "           var plotSpec={\n",
       "\"data\":{\n",
       "\"name\":[\"pen\",\"brush\",\"paper\"],\n",
       "\"slice\":[1.0,3.0,3.0]\n",
       "},\n",
       "\"mapping\":{\n",
       "},\n",
       "\"data_meta\":{\n",
       "\"series_annotations\":[{\n",
       "\"type\":\"str\",\n",
       "\"column\":\"name\"\n",
       "},{\n",
       "\"type\":\"int\",\n",
       "\"column\":\"slice\"\n",
       "}]\n",
       "},\n",
       "\"theme\":{\n",
       "\"name\":\"bw\",\n",
       "\"flavor\":\"darcula\"\n",
       "},\n",
       "\"kind\":\"plot\",\n",
       "\"scales\":[{\n",
       "\"aesthetic\":\"fill\",\n",
       "\"values\":[\"pen\",\"brush\",\"paper\"]\n",
       "}],\n",
       "\"layers\":[{\n",
       "\"geom\":\"pie\",\n",
       "\"stat\":\"identity\",\n",
       "\"mapping\":{\n",
       "\"fill\":\"name\",\n",
       "\"slice\":\"slice\"\n",
       "},\n",
       "\"tooltips\":\"none\",\n",
       "\"data_meta\":{\n",
       "},\n",
       "\"labels\":{\n",
       "\"formats\":[],\n",
       "\"lines\":[\"@name\"]\n",
       "},\n",
       "\"color\":\"pen\",\n",
       "\"data\":{\n",
       "}\n",
       "}],\n",
       "\"metainfo_list\":[]\n",
       "};\n",
       "           var plotContainer = document.getElementById(\"wUPJnd\");\n",
       "           window.letsPlotCall(function() {{\n",
       "               LetsPlot.buildPlotFromProcessedSpecs(plotSpec, -1, -1, plotContainer);\n",
       "           }});\n",
       "       })();\n",
       "   </script>"
      ],
      "text/plain": [
       "<lets_plot.plot.core.PlotSpec at 0x125fd3580>"
      ]
     },
     "execution_count": 6,
     "metadata": {},
     "output_type": "execute_result"
    }
   ],
   "source": [
    "data = {'name': ['pen', 'brush', 'paper'],\n",
    "        'slice': [1, 3, 3]}\n",
    "ggplot(data) + \\\n",
    "    geom_pie(aes(fill='name', slice='slice'),\n",
    "             stat='identity', color='pen',\n",
    "             tooltips='none', labels=layer_labels().line('@name')) + \\\n",
    "    scale_fill_manual(['pen', 'brush', 'paper'])"
   ]
  },
  {
   "cell_type": "markdown",
   "id": "1087090e",
   "metadata": {},
   "source": [
    "The previous flavors are overwritten by the last flavor."
   ]
  },
  {
   "cell_type": "code",
   "execution_count": 7,
   "id": "270b7b05",
   "metadata": {
    "execution": {
     "iopub.execute_input": "2024-10-02T08:48:30.779218Z",
     "iopub.status.busy": "2024-10-02T08:48:30.779150Z",
     "iopub.status.idle": "2024-10-02T08:48:30.780630Z",
     "shell.execute_reply": "2024-10-02T08:48:30.780455Z"
    }
   },
   "outputs": [],
   "source": [
    "LetsPlot.set_theme(theme(panel_background=element_rect(fill='yellow')) \n",
    "                   + theme_bw() \n",
    "                   + flavor_darcula() \n",
    "                   + flavor_high_contrast_light())"
   ]
  },
  {
   "cell_type": "code",
   "execution_count": 8,
   "id": "b654b400",
   "metadata": {
    "execution": {
     "iopub.execute_input": "2024-10-02T08:48:30.781614Z",
     "iopub.status.busy": "2024-10-02T08:48:30.781534Z",
     "iopub.status.idle": "2024-10-02T08:48:30.784223Z",
     "shell.execute_reply": "2024-10-02T08:48:30.784023Z"
    }
   },
   "outputs": [
    {
     "data": {
      "text/html": [
       "   <div id=\"iOtSQ7\"></div>\n",
       "   <script type=\"text/javascript\" data-lets-plot-script=\"plot\">\n",
       "       (function() {\n",
       "           var plotSpec={\n",
       "\"data\":{\n",
       "\"name\":[\"pen\",\"brush\",\"paper\"],\n",
       "\"slice\":[1.0,3.0,3.0]\n",
       "},\n",
       "\"mapping\":{\n",
       "},\n",
       "\"data_meta\":{\n",
       "\"series_annotations\":[{\n",
       "\"type\":\"str\",\n",
       "\"column\":\"name\"\n",
       "},{\n",
       "\"type\":\"int\",\n",
       "\"column\":\"slice\"\n",
       "}]\n",
       "},\n",
       "\"theme\":{\n",
       "\"name\":\"bw\",\n",
       "\"flavor\":\"high_contrast_light\"\n",
       "},\n",
       "\"kind\":\"plot\",\n",
       "\"scales\":[{\n",
       "\"aesthetic\":\"fill\",\n",
       "\"values\":[\"pen\",\"brush\",\"paper\"]\n",
       "}],\n",
       "\"layers\":[{\n",
       "\"geom\":\"pie\",\n",
       "\"stat\":\"identity\",\n",
       "\"mapping\":{\n",
       "\"fill\":\"name\",\n",
       "\"slice\":\"slice\"\n",
       "},\n",
       "\"tooltips\":\"none\",\n",
       "\"data_meta\":{\n",
       "},\n",
       "\"labels\":{\n",
       "\"formats\":[],\n",
       "\"lines\":[\"@name\"]\n",
       "},\n",
       "\"color\":\"pen\",\n",
       "\"data\":{\n",
       "}\n",
       "}],\n",
       "\"metainfo_list\":[]\n",
       "};\n",
       "           var plotContainer = document.getElementById(\"iOtSQ7\");\n",
       "           window.letsPlotCall(function() {{\n",
       "               LetsPlot.buildPlotFromProcessedSpecs(plotSpec, -1, -1, plotContainer);\n",
       "           }});\n",
       "       })();\n",
       "   </script>"
      ],
      "text/plain": [
       "<lets_plot.plot.core.PlotSpec at 0x107d23d30>"
      ]
     },
     "execution_count": 8,
     "metadata": {},
     "output_type": "execute_result"
    }
   ],
   "source": [
    "data = {'name': ['pen', 'brush', 'paper'],\n",
    "        'slice': [1, 3, 3]}\n",
    "ggplot(data) + \\\n",
    "    geom_pie(aes(fill='name', slice='slice'),\n",
    "             stat='identity', color='pen',\n",
    "             tooltips='none', labels=layer_labels().line('@name')) + \\\n",
    "    scale_fill_manual(['pen', 'brush', 'paper'])"
   ]
  },
  {
   "cell_type": "markdown",
   "id": "3d698321",
   "metadata": {},
   "source": [
    "### Overwriting of Local Theme"
   ]
  },
  {
   "cell_type": "code",
   "execution_count": 9,
   "id": "bd206eac",
   "metadata": {
    "execution": {
     "iopub.execute_input": "2024-10-02T08:48:30.785239Z",
     "iopub.status.busy": "2024-10-02T08:48:30.785147Z",
     "iopub.status.idle": "2024-10-02T08:48:30.787922Z",
     "shell.execute_reply": "2024-10-02T08:48:30.787711Z"
    }
   },
   "outputs": [
    {
     "data": {
      "text/html": [
       "   <div id=\"Aau1YY\"></div>\n",
       "   <script type=\"text/javascript\" data-lets-plot-script=\"plot\">\n",
       "       (function() {\n",
       "           var plotSpec={\n",
       "\"data\":{\n",
       "\"name\":[\"pen\",\"brush\",\"paper\"],\n",
       "\"slice\":[1.0,3.0,3.0]\n",
       "},\n",
       "\"mapping\":{\n",
       "},\n",
       "\"data_meta\":{\n",
       "\"series_annotations\":[{\n",
       "\"type\":\"str\",\n",
       "\"column\":\"name\"\n",
       "},{\n",
       "\"type\":\"int\",\n",
       "\"column\":\"slice\"\n",
       "}]\n",
       "},\n",
       "\"theme\":{\n",
       "\"name\":\"classic\",\n",
       "\"flavor\":\"high_contrast_light\"\n",
       "},\n",
       "\"kind\":\"plot\",\n",
       "\"scales\":[{\n",
       "\"aesthetic\":\"fill\",\n",
       "\"values\":[\"pen\",\"brush\",\"paper\"]\n",
       "}],\n",
       "\"layers\":[{\n",
       "\"geom\":\"pie\",\n",
       "\"stat\":\"identity\",\n",
       "\"mapping\":{\n",
       "\"fill\":\"name\",\n",
       "\"slice\":\"slice\"\n",
       "},\n",
       "\"tooltips\":\"none\",\n",
       "\"data_meta\":{\n",
       "},\n",
       "\"labels\":{\n",
       "\"formats\":[],\n",
       "\"lines\":[\"@name\"]\n",
       "},\n",
       "\"color\":\"pen\",\n",
       "\"data\":{\n",
       "}\n",
       "}],\n",
       "\"metainfo_list\":[]\n",
       "};\n",
       "           var plotContainer = document.getElementById(\"Aau1YY\");\n",
       "           window.letsPlotCall(function() {{\n",
       "               LetsPlot.buildPlotFromProcessedSpecs(plotSpec, -1, -1, plotContainer);\n",
       "           }});\n",
       "       })();\n",
       "   </script>"
      ],
      "text/plain": [
       "<lets_plot.plot.core.PlotSpec at 0x125fd39a0>"
      ]
     },
     "execution_count": 9,
     "metadata": {},
     "output_type": "execute_result"
    }
   ],
   "source": [
    "data = {'name': ['pen', 'brush', 'paper'],\n",
    "        'slice': [1, 3, 3]}\n",
    "ggplot(data) + \\\n",
    "    geom_pie(aes(fill='name', slice='slice'),\n",
    "             stat='identity', color='pen',\n",
    "             tooltips='none', labels=layer_labels().line('@name')) + \\\n",
    "    scale_fill_manual(['pen', 'brush', 'paper']) +\\\n",
    "    theme(panel_background=element_rect(fill='yellow')) +\\\n",
    "    theme_classic() +\\\n",
    "    flavor_darcula() +\\\n",
    "    flavor_high_contrast_light()"
   ]
  },
  {
   "cell_type": "markdown",
   "id": "e34a54d0",
   "metadata": {},
   "source": [
    "### `gggrid()` and `GGbunch()`"
   ]
  },
  {
   "cell_type": "code",
   "execution_count": 10,
   "id": "817006e4",
   "metadata": {
    "execution": {
     "iopub.execute_input": "2024-10-02T08:48:30.788945Z",
     "iopub.status.busy": "2024-10-02T08:48:30.788860Z",
     "iopub.status.idle": "2024-10-02T08:48:30.790331Z",
     "shell.execute_reply": "2024-10-02T08:48:30.790157Z"
    }
   },
   "outputs": [],
   "source": [
    "LetsPlot.set_theme(theme_bw() \n",
    "                   + flavor_darcula() \n",
    "                   + theme(panel_background=element_rect(fill='yellow')))"
   ]
  },
  {
   "cell_type": "code",
   "execution_count": 11,
   "id": "3f3ac0c5",
   "metadata": {
    "execution": {
     "iopub.execute_input": "2024-10-02T08:48:30.791272Z",
     "iopub.status.busy": "2024-10-02T08:48:30.791201Z",
     "iopub.status.idle": "2024-10-02T08:48:30.792940Z",
     "shell.execute_reply": "2024-10-02T08:48:30.792759Z"
    }
   },
   "outputs": [],
   "source": [
    "np.random.seed(42)\n",
    "n = 100\n",
    "x = np.arange(n)\n",
    "y = np.random.normal(size=n)\n",
    "w, h = 200, 150"
   ]
  },
  {
   "cell_type": "code",
   "execution_count": 12,
   "id": "e4d5026e",
   "metadata": {
    "execution": {
     "iopub.execute_input": "2024-10-02T08:48:30.793929Z",
     "iopub.status.busy": "2024-10-02T08:48:30.793852Z",
     "iopub.status.idle": "2024-10-02T08:48:30.797813Z",
     "shell.execute_reply": "2024-10-02T08:48:30.797636Z"
    }
   },
   "outputs": [
    {
     "data": {
      "text/html": [
       "   <div id=\"GWpoHg\"></div>\n",
       "   <script type=\"text/javascript\" data-lets-plot-script=\"plot\">\n",
       "       (function() {\n",
       "           var plotSpec={\n",
       "\"theme\":{\n",
       "\"name\":\"bw\",\n",
       "\"flavor\":\"darcula\",\n",
       "\"panel_background\":{\n",
       "\"fill\":\"yellow\",\n",
       "\"blank\":false\n",
       "}\n",
       "},\n",
       "\"ggsize\":{\n",
       "\"width\":400.0,\n",
       "\"height\":300.0\n",
       "},\n",
       "\"kind\":\"subplots\",\n",
       "\"layout\":{\n",
       "\"ncol\":1.0,\n",
       "\"nrow\":2.0,\n",
       "\"name\":\"grid\"\n",
       "},\n",
       "\"figures\":[{\n",
       "\"theme\":{\n",
       "\"name\":\"bw\",\n",
       "\"flavor\":\"darcula\",\n",
       "\"panel_background\":{\n",
       "\"fill\":\"yellow\",\n",
       "\"blank\":false\n",
       "}\n",
       "},\n",
       "\"kind\":\"subplots\",\n",
       "\"layout\":{\n",
       "\"ncol\":2.0,\n",
       "\"nrow\":1.0,\n",
       "\"name\":\"grid\"\n",
       "},\n",
       "\"figures\":[{\n",
       "\"data\":{\n",
       "\"x\":[0.0,1.0,2.0,3.0,4.0,5.0,6.0,7.0,8.0,9.0,10.0,11.0,12.0,13.0,14.0,15.0,16.0,17.0,18.0,19.0,20.0,21.0,22.0,23.0,24.0,25.0,26.0,27.0,28.0,29.0,30.0,31.0,32.0,33.0,34.0,35.0,36.0,37.0,38.0,39.0,40.0,41.0,42.0,43.0,44.0,45.0,46.0,47.0,48.0,49.0,50.0,51.0,52.0,53.0,54.0,55.0,56.0,57.0,58.0,59.0,60.0,61.0,62.0,63.0,64.0,65.0,66.0,67.0,68.0,69.0,70.0,71.0,72.0,73.0,74.0,75.0,76.0,77.0,78.0,79.0,80.0,81.0,82.0,83.0,84.0,85.0,86.0,87.0,88.0,89.0,90.0,91.0,92.0,93.0,94.0,95.0,96.0,97.0,98.0,99.0],\n",
       "\"y\":[0.4967141530112327,-0.13826430117118466,0.6476885381006925,1.5230298564080254,-0.23415337472333597,-0.23413695694918055,1.5792128155073915,0.7674347291529088,-0.4694743859349521,0.5425600435859647,-0.46341769281246226,-0.46572975357025687,0.24196227156603412,-1.913280244657798,-1.7249178325130328,-0.5622875292409727,-1.0128311203344238,0.3142473325952739,-0.9080240755212111,-1.4123037013352917,1.465648768921554,-0.22577630048653566,0.06752820468792384,-1.4247481862134568,-0.5443827245251827,0.11092258970986608,-1.1509935774223028,0.37569801834567196,-0.600638689918805,-0.2916937497932768,-0.6017066122293969,1.8522781845089378,-0.013497224737933914,-1.0577109289559,0.822544912103189,-1.2208436499710222,0.2088635950047554,-1.9596701238797756,-1.3281860488984305,0.19686123586912352,0.7384665799954104,0.1713682811899705,-0.11564828238824053,-0.3011036955892888,-1.4785219903674274,-0.7198442083947086,-0.4606387709597875,1.0571222262189157,0.3436182895684614,-1.763040155362734,0.324083969394795,-0.38508228041631654,-0.6769220003059587,0.6116762888408679,1.030999522495951,0.9312801191161986,-0.8392175232226385,-0.3092123758512146,0.33126343140356396,0.9755451271223592,-0.47917423784528995,-0.18565897666381712,-1.1063349740060282,-1.1962066240806708,0.812525822394198,1.356240028570823,-0.07201012158033385,1.0035328978920242,0.36163602504763415,-0.6451197546051243,0.36139560550841393,1.5380365664659692,-0.03582603910995153,1.564643655814006,-2.6197451040897444,0.8219025043752238,0.08704706823817134,-0.29900735046586785,0.0917607765355023,-1.9875689146008928,-0.21967188783751193,0.3571125715117464,1.477894044741516,-0.5182702182736474,-0.8084936028931876,-0.5017570435845365,0.9154021177020741,0.32875110965968446,-0.5297602037670388,0.5132674331133561,0.09707754934804039,0.9686449905328892,-0.7020530938773524,-0.3276621465977682,-0.39210815313215763,-1.4635149481321186,0.29612027706457605,0.26105527217988933,0.0051134566424609,-0.23458713337514742]\n",
       "},\n",
       "\"mapping\":{\n",
       "\"x\":\"x\",\n",
       "\"y\":\"y\"\n",
       "},\n",
       "\"data_meta\":{\n",
       "\"series_annotations\":[{\n",
       "\"type\":\"int\",\n",
       "\"column\":\"x\"\n",
       "},{\n",
       "\"type\":\"float\",\n",
       "\"column\":\"y\"\n",
       "}]\n",
       "},\n",
       "\"theme\":{\n",
       "\"name\":\"bw\",\n",
       "\"flavor\":\"darcula\",\n",
       "\"panel_background\":{\n",
       "\"fill\":\"yellow\",\n",
       "\"blank\":false\n",
       "}\n",
       "},\n",
       "\"ggsize\":{\n",
       "\"width\":200.0,\n",
       "\"height\":150.0\n",
       "},\n",
       "\"kind\":\"plot\",\n",
       "\"scales\":[],\n",
       "\"layers\":[{\n",
       "\"geom\":\"point\",\n",
       "\"mapping\":{\n",
       "},\n",
       "\"data_meta\":{\n",
       "},\n",
       "\"data\":{\n",
       "}\n",
       "}],\n",
       "\"metainfo_list\":[]\n",
       "},{\n",
       "\"data\":{\n",
       "},\n",
       "\"mapping\":{\n",
       "\"x\":\"x\",\n",
       "\"y\":\"y\"\n",
       "},\n",
       "\"data_meta\":{\n",
       "\"series_annotations\":[{\n",
       "\"type\":\"int\",\n",
       "\"column\":\"x\"\n",
       "},{\n",
       "\"type\":\"float\",\n",
       "\"column\":\"y\"\n",
       "}]\n",
       "},\n",
       "\"theme\":{\n",
       "\"name\":\"bw\",\n",
       "\"flavor\":\"darcula\",\n",
       "\"panel_background\":{\n",
       "\"fill\":\"yellow\",\n",
       "\"blank\":false\n",
       "}\n",
       "},\n",
       "\"ggsize\":{\n",
       "\"width\":200.0,\n",
       "\"height\":150.0\n",
       "},\n",
       "\"kind\":\"plot\",\n",
       "\"scales\":[],\n",
       "\"layers\":[{\n",
       "\"geom\":\"histogram\",\n",
       "\"mapping\":{\n",
       "},\n",
       "\"data_meta\":{\n",
       "},\n",
       "\"bins\":3.0,\n",
       "\"data\":{\n",
       "\"x\":[1.1000000000000014,49.5,97.9],\n",
       "\"y\":[26.0,48.0,26.0]\n",
       "}\n",
       "}],\n",
       "\"metainfo_list\":[]\n",
       "}]\n",
       "},{\n",
       "\"data\":{\n",
       "\"x\":[0.0,1.0,2.0,3.0,4.0,5.0,6.0,7.0,8.0,9.0,10.0,11.0,12.0,13.0,14.0,15.0,16.0,17.0,18.0,19.0,20.0,21.0,22.0,23.0,24.0,25.0,26.0,27.0,28.0,29.0,30.0,31.0,32.0,33.0,34.0,35.0,36.0,37.0,38.0,39.0,40.0,41.0,42.0,43.0,44.0,45.0,46.0,47.0,48.0,49.0,50.0,51.0,52.0,53.0,54.0,55.0,56.0,57.0,58.0,59.0,60.0,61.0,62.0,63.0,64.0,65.0,66.0,67.0,68.0,69.0,70.0,71.0,72.0,73.0,74.0,75.0,76.0,77.0,78.0,79.0,80.0,81.0,82.0,83.0,84.0,85.0,86.0,87.0,88.0,89.0,90.0,91.0,92.0,93.0,94.0,95.0,96.0,97.0,98.0,99.0],\n",
       "\"y\":[0.4967141530112327,-0.13826430117118466,0.6476885381006925,1.5230298564080254,-0.23415337472333597,-0.23413695694918055,1.5792128155073915,0.7674347291529088,-0.4694743859349521,0.5425600435859647,-0.46341769281246226,-0.46572975357025687,0.24196227156603412,-1.913280244657798,-1.7249178325130328,-0.5622875292409727,-1.0128311203344238,0.3142473325952739,-0.9080240755212111,-1.4123037013352917,1.465648768921554,-0.22577630048653566,0.06752820468792384,-1.4247481862134568,-0.5443827245251827,0.11092258970986608,-1.1509935774223028,0.37569801834567196,-0.600638689918805,-0.2916937497932768,-0.6017066122293969,1.8522781845089378,-0.013497224737933914,-1.0577109289559,0.822544912103189,-1.2208436499710222,0.2088635950047554,-1.9596701238797756,-1.3281860488984305,0.19686123586912352,0.7384665799954104,0.1713682811899705,-0.11564828238824053,-0.3011036955892888,-1.4785219903674274,-0.7198442083947086,-0.4606387709597875,1.0571222262189157,0.3436182895684614,-1.763040155362734,0.324083969394795,-0.38508228041631654,-0.6769220003059587,0.6116762888408679,1.030999522495951,0.9312801191161986,-0.8392175232226385,-0.3092123758512146,0.33126343140356396,0.9755451271223592,-0.47917423784528995,-0.18565897666381712,-1.1063349740060282,-1.1962066240806708,0.812525822394198,1.356240028570823,-0.07201012158033385,1.0035328978920242,0.36163602504763415,-0.6451197546051243,0.36139560550841393,1.5380365664659692,-0.03582603910995153,1.564643655814006,-2.6197451040897444,0.8219025043752238,0.08704706823817134,-0.29900735046586785,0.0917607765355023,-1.9875689146008928,-0.21967188783751193,0.3571125715117464,1.477894044741516,-0.5182702182736474,-0.8084936028931876,-0.5017570435845365,0.9154021177020741,0.32875110965968446,-0.5297602037670388,0.5132674331133561,0.09707754934804039,0.9686449905328892,-0.7020530938773524,-0.3276621465977682,-0.39210815313215763,-1.4635149481321186,0.29612027706457605,0.26105527217988933,0.0051134566424609,-0.23458713337514742]\n",
       "},\n",
       "\"mapping\":{\n",
       "\"x\":\"x\",\n",
       "\"y\":\"y\"\n",
       "},\n",
       "\"data_meta\":{\n",
       "\"series_annotations\":[{\n",
       "\"type\":\"int\",\n",
       "\"column\":\"x\"\n",
       "},{\n",
       "\"type\":\"float\",\n",
       "\"column\":\"y\"\n",
       "}]\n",
       "},\n",
       "\"theme\":{\n",
       "\"name\":\"bw\",\n",
       "\"flavor\":\"darcula\",\n",
       "\"panel_background\":{\n",
       "\"fill\":\"yellow\",\n",
       "\"blank\":false\n",
       "}\n",
       "},\n",
       "\"ggsize\":{\n",
       "\"width\":200.0,\n",
       "\"height\":150.0\n",
       "},\n",
       "\"kind\":\"plot\",\n",
       "\"scales\":[],\n",
       "\"layers\":[{\n",
       "\"geom\":\"line\",\n",
       "\"mapping\":{\n",
       "},\n",
       "\"data_meta\":{\n",
       "},\n",
       "\"data\":{\n",
       "}\n",
       "}],\n",
       "\"metainfo_list\":[]\n",
       "}]\n",
       "};\n",
       "           var plotContainer = document.getElementById(\"GWpoHg\");\n",
       "           window.letsPlotCall(function() {{\n",
       "               LetsPlot.buildPlotFromProcessedSpecs(plotSpec, -1, -1, plotContainer);\n",
       "           }});\n",
       "       })();\n",
       "   </script>"
      ],
      "text/plain": [
       "<lets_plot.plot.subplots.SupPlotsSpec at 0x1260095a0>"
      ]
     },
     "execution_count": 12,
     "metadata": {},
     "output_type": "execute_result"
    }
   ],
   "source": [
    "p = ggplot({'x': x, 'y': y}, aes(x='x', y='y')) + ggsize(w, h)\n",
    "plot_list=[\n",
    "    gggrid([p+geom_point(), p+geom_histogram(bins=3)]),\n",
    "    p+geom_line()\n",
    "]\n",
    "gggrid(plot_list, ncol=1) + ggsize(400, 300)"
   ]
  },
  {
   "cell_type": "code",
   "execution_count": 13,
   "id": "df3020bc",
   "metadata": {
    "execution": {
     "iopub.execute_input": "2024-10-02T08:48:30.798729Z",
     "iopub.status.busy": "2024-10-02T08:48:30.798663Z",
     "iopub.status.idle": "2024-10-02T08:48:30.802130Z",
     "shell.execute_reply": "2024-10-02T08:48:30.801935Z"
    }
   },
   "outputs": [
    {
     "data": {
      "text/html": [
       "   <div id=\"lJIG4Y\"></div>\n",
       "   <script type=\"text/javascript\" data-lets-plot-script=\"plot\">\n",
       "       (function() {\n",
       "           var plotSpec={\n",
       "\"kind\":\"ggbunch\",\n",
       "\"items\":[{\n",
       "\"x\":0.0,\n",
       "\"y\":0.0,\n",
       "\"width\":null,\n",
       "\"height\":null,\n",
       "\"feature_spec\":{\n",
       "\"data\":{\n",
       "\"x\":[0.0,1.0,2.0,3.0,4.0,5.0,6.0,7.0,8.0,9.0,10.0,11.0,12.0,13.0,14.0,15.0,16.0,17.0,18.0,19.0,20.0,21.0,22.0,23.0,24.0,25.0,26.0,27.0,28.0,29.0,30.0,31.0,32.0,33.0,34.0,35.0,36.0,37.0,38.0,39.0,40.0,41.0,42.0,43.0,44.0,45.0,46.0,47.0,48.0,49.0,50.0,51.0,52.0,53.0,54.0,55.0,56.0,57.0,58.0,59.0,60.0,61.0,62.0,63.0,64.0,65.0,66.0,67.0,68.0,69.0,70.0,71.0,72.0,73.0,74.0,75.0,76.0,77.0,78.0,79.0,80.0,81.0,82.0,83.0,84.0,85.0,86.0,87.0,88.0,89.0,90.0,91.0,92.0,93.0,94.0,95.0,96.0,97.0,98.0,99.0],\n",
       "\"y\":[0.4967141530112327,-0.13826430117118466,0.6476885381006925,1.5230298564080254,-0.23415337472333597,-0.23413695694918055,1.5792128155073915,0.7674347291529088,-0.4694743859349521,0.5425600435859647,-0.46341769281246226,-0.46572975357025687,0.24196227156603412,-1.913280244657798,-1.7249178325130328,-0.5622875292409727,-1.0128311203344238,0.3142473325952739,-0.9080240755212111,-1.4123037013352917,1.465648768921554,-0.22577630048653566,0.06752820468792384,-1.4247481862134568,-0.5443827245251827,0.11092258970986608,-1.1509935774223028,0.37569801834567196,-0.600638689918805,-0.2916937497932768,-0.6017066122293969,1.8522781845089378,-0.013497224737933914,-1.0577109289559,0.822544912103189,-1.2208436499710222,0.2088635950047554,-1.9596701238797756,-1.3281860488984305,0.19686123586912352,0.7384665799954104,0.1713682811899705,-0.11564828238824053,-0.3011036955892888,-1.4785219903674274,-0.7198442083947086,-0.4606387709597875,1.0571222262189157,0.3436182895684614,-1.763040155362734,0.324083969394795,-0.38508228041631654,-0.6769220003059587,0.6116762888408679,1.030999522495951,0.9312801191161986,-0.8392175232226385,-0.3092123758512146,0.33126343140356396,0.9755451271223592,-0.47917423784528995,-0.18565897666381712,-1.1063349740060282,-1.1962066240806708,0.812525822394198,1.356240028570823,-0.07201012158033385,1.0035328978920242,0.36163602504763415,-0.6451197546051243,0.36139560550841393,1.5380365664659692,-0.03582603910995153,1.564643655814006,-2.6197451040897444,0.8219025043752238,0.08704706823817134,-0.29900735046586785,0.0917607765355023,-1.9875689146008928,-0.21967188783751193,0.3571125715117464,1.477894044741516,-0.5182702182736474,-0.8084936028931876,-0.5017570435845365,0.9154021177020741,0.32875110965968446,-0.5297602037670388,0.5132674331133561,0.09707754934804039,0.9686449905328892,-0.7020530938773524,-0.3276621465977682,-0.39210815313215763,-1.4635149481321186,0.29612027706457605,0.26105527217988933,0.0051134566424609,-0.23458713337514742]\n",
       "},\n",
       "\"mapping\":{\n",
       "\"x\":\"x\",\n",
       "\"y\":\"y\"\n",
       "},\n",
       "\"data_meta\":{\n",
       "\"series_annotations\":[{\n",
       "\"type\":\"int\",\n",
       "\"column\":\"x\"\n",
       "},{\n",
       "\"type\":\"float\",\n",
       "\"column\":\"y\"\n",
       "}]\n",
       "},\n",
       "\"theme\":{\n",
       "\"name\":\"bw\",\n",
       "\"flavor\":\"darcula\",\n",
       "\"panel_background\":{\n",
       "\"fill\":\"yellow\",\n",
       "\"blank\":false\n",
       "}\n",
       "},\n",
       "\"ggsize\":{\n",
       "\"width\":200.0,\n",
       "\"height\":150.0\n",
       "},\n",
       "\"kind\":\"plot\",\n",
       "\"scales\":[],\n",
       "\"layers\":[{\n",
       "\"geom\":\"point\",\n",
       "\"mapping\":{\n",
       "},\n",
       "\"data_meta\":{\n",
       "},\n",
       "\"data\":{\n",
       "}\n",
       "}],\n",
       "\"metainfo_list\":[]\n",
       "}\n",
       "},{\n",
       "\"x\":200.0,\n",
       "\"y\":0.0,\n",
       "\"width\":null,\n",
       "\"height\":null,\n",
       "\"feature_spec\":{\n",
       "\"data\":{\n",
       "},\n",
       "\"mapping\":{\n",
       "\"x\":\"x\",\n",
       "\"y\":\"y\"\n",
       "},\n",
       "\"data_meta\":{\n",
       "\"series_annotations\":[{\n",
       "\"type\":\"int\",\n",
       "\"column\":\"x\"\n",
       "},{\n",
       "\"type\":\"float\",\n",
       "\"column\":\"y\"\n",
       "}]\n",
       "},\n",
       "\"theme\":{\n",
       "\"name\":\"bw\",\n",
       "\"flavor\":\"darcula\",\n",
       "\"panel_background\":{\n",
       "\"fill\":\"yellow\",\n",
       "\"blank\":false\n",
       "}\n",
       "},\n",
       "\"ggsize\":{\n",
       "\"width\":200.0,\n",
       "\"height\":150.0\n",
       "},\n",
       "\"kind\":\"plot\",\n",
       "\"scales\":[],\n",
       "\"layers\":[{\n",
       "\"geom\":\"histogram\",\n",
       "\"mapping\":{\n",
       "},\n",
       "\"data_meta\":{\n",
       "},\n",
       "\"bins\":3.0,\n",
       "\"data\":{\n",
       "\"x\":[1.1000000000000014,49.5,97.9],\n",
       "\"y\":[26.0,48.0,26.0]\n",
       "}\n",
       "}],\n",
       "\"metainfo_list\":[]\n",
       "}\n",
       "},{\n",
       "\"x\":0.0,\n",
       "\"y\":150.0,\n",
       "\"width\":400.0,\n",
       "\"height\":150.0,\n",
       "\"feature_spec\":{\n",
       "\"data\":{\n",
       "\"x\":[0.0,1.0,2.0,3.0,4.0,5.0,6.0,7.0,8.0,9.0,10.0,11.0,12.0,13.0,14.0,15.0,16.0,17.0,18.0,19.0,20.0,21.0,22.0,23.0,24.0,25.0,26.0,27.0,28.0,29.0,30.0,31.0,32.0,33.0,34.0,35.0,36.0,37.0,38.0,39.0,40.0,41.0,42.0,43.0,44.0,45.0,46.0,47.0,48.0,49.0,50.0,51.0,52.0,53.0,54.0,55.0,56.0,57.0,58.0,59.0,60.0,61.0,62.0,63.0,64.0,65.0,66.0,67.0,68.0,69.0,70.0,71.0,72.0,73.0,74.0,75.0,76.0,77.0,78.0,79.0,80.0,81.0,82.0,83.0,84.0,85.0,86.0,87.0,88.0,89.0,90.0,91.0,92.0,93.0,94.0,95.0,96.0,97.0,98.0,99.0],\n",
       "\"y\":[0.4967141530112327,-0.13826430117118466,0.6476885381006925,1.5230298564080254,-0.23415337472333597,-0.23413695694918055,1.5792128155073915,0.7674347291529088,-0.4694743859349521,0.5425600435859647,-0.46341769281246226,-0.46572975357025687,0.24196227156603412,-1.913280244657798,-1.7249178325130328,-0.5622875292409727,-1.0128311203344238,0.3142473325952739,-0.9080240755212111,-1.4123037013352917,1.465648768921554,-0.22577630048653566,0.06752820468792384,-1.4247481862134568,-0.5443827245251827,0.11092258970986608,-1.1509935774223028,0.37569801834567196,-0.600638689918805,-0.2916937497932768,-0.6017066122293969,1.8522781845089378,-0.013497224737933914,-1.0577109289559,0.822544912103189,-1.2208436499710222,0.2088635950047554,-1.9596701238797756,-1.3281860488984305,0.19686123586912352,0.7384665799954104,0.1713682811899705,-0.11564828238824053,-0.3011036955892888,-1.4785219903674274,-0.7198442083947086,-0.4606387709597875,1.0571222262189157,0.3436182895684614,-1.763040155362734,0.324083969394795,-0.38508228041631654,-0.6769220003059587,0.6116762888408679,1.030999522495951,0.9312801191161986,-0.8392175232226385,-0.3092123758512146,0.33126343140356396,0.9755451271223592,-0.47917423784528995,-0.18565897666381712,-1.1063349740060282,-1.1962066240806708,0.812525822394198,1.356240028570823,-0.07201012158033385,1.0035328978920242,0.36163602504763415,-0.6451197546051243,0.36139560550841393,1.5380365664659692,-0.03582603910995153,1.564643655814006,-2.6197451040897444,0.8219025043752238,0.08704706823817134,-0.29900735046586785,0.0917607765355023,-1.9875689146008928,-0.21967188783751193,0.3571125715117464,1.477894044741516,-0.5182702182736474,-0.8084936028931876,-0.5017570435845365,0.9154021177020741,0.32875110965968446,-0.5297602037670388,0.5132674331133561,0.09707754934804039,0.9686449905328892,-0.7020530938773524,-0.3276621465977682,-0.39210815313215763,-1.4635149481321186,0.29612027706457605,0.26105527217988933,0.0051134566424609,-0.23458713337514742]\n",
       "},\n",
       "\"mapping\":{\n",
       "\"x\":\"x\",\n",
       "\"y\":\"y\"\n",
       "},\n",
       "\"data_meta\":{\n",
       "\"series_annotations\":[{\n",
       "\"type\":\"int\",\n",
       "\"column\":\"x\"\n",
       "},{\n",
       "\"type\":\"float\",\n",
       "\"column\":\"y\"\n",
       "}]\n",
       "},\n",
       "\"theme\":{\n",
       "\"name\":\"bw\",\n",
       "\"flavor\":\"darcula\",\n",
       "\"panel_background\":{\n",
       "\"fill\":\"yellow\",\n",
       "\"blank\":false\n",
       "}\n",
       "},\n",
       "\"ggsize\":{\n",
       "\"width\":200.0,\n",
       "\"height\":150.0\n",
       "},\n",
       "\"kind\":\"plot\",\n",
       "\"scales\":[],\n",
       "\"layers\":[{\n",
       "\"geom\":\"line\",\n",
       "\"mapping\":{\n",
       "},\n",
       "\"data_meta\":{\n",
       "},\n",
       "\"data\":{\n",
       "}\n",
       "}],\n",
       "\"metainfo_list\":[]\n",
       "}\n",
       "}]\n",
       "};\n",
       "           var plotContainer = document.getElementById(\"lJIG4Y\");\n",
       "           window.letsPlotCall(function() {{\n",
       "               LetsPlot.buildPlotFromProcessedSpecs(plotSpec, -1, -1, plotContainer);\n",
       "           }});\n",
       "       })();\n",
       "   </script>"
      ]
     },
     "metadata": {},
     "output_type": "display_data"
    }
   ],
   "source": [
    "p = ggplot({'x': x, 'y': y}, aes(x='x', y='y')) + ggsize(w, h)\n",
    "bunch = GGBunch()\n",
    "bunch.add_plot(p + geom_point(), 0, 0)\n",
    "bunch.add_plot(p + geom_histogram(bins=3), w, 0)\n",
    "bunch.add_plot(p + geom_line(), 0, h, 2*w, h)\n",
    "bunch.show()"
   ]
  },
  {
   "cell_type": "markdown",
   "id": "5b9ebff5",
   "metadata": {},
   "source": [
    "### Wrong Type Exception"
   ]
  },
  {
   "cell_type": "code",
   "execution_count": 14,
   "id": "f07696fa",
   "metadata": {
    "execution": {
     "iopub.execute_input": "2024-10-02T08:48:30.803104Z",
     "iopub.status.busy": "2024-10-02T08:48:30.803034Z",
     "iopub.status.idle": "2024-10-02T08:48:30.805494Z",
     "shell.execute_reply": "2024-10-02T08:48:30.805297Z"
    }
   },
   "outputs": [
    {
     "data": {
      "text/html": [
       "   <div id=\"5RGv5N\"></div>\n",
       "   <script type=\"text/javascript\" data-lets-plot-script=\"plot\">\n",
       "       (function() {\n",
       "           var plotSpec={\n",
       "\"data\":{\n",
       "\"x\":[0.0,1.0,2.0,3.0,4.0,5.0,6.0,7.0,8.0,9.0,10.0,11.0,12.0,13.0,14.0,15.0,16.0,17.0,18.0,19.0,20.0,21.0,22.0,23.0,24.0,25.0,26.0,27.0,28.0,29.0,30.0,31.0,32.0,33.0,34.0,35.0,36.0,37.0,38.0,39.0,40.0,41.0,42.0,43.0,44.0,45.0,46.0,47.0,48.0,49.0,50.0,51.0,52.0,53.0,54.0,55.0,56.0,57.0,58.0,59.0,60.0,61.0,62.0,63.0,64.0,65.0,66.0,67.0,68.0,69.0,70.0,71.0,72.0,73.0,74.0,75.0,76.0,77.0,78.0,79.0,80.0,81.0,82.0,83.0,84.0,85.0,86.0,87.0,88.0,89.0,90.0,91.0,92.0,93.0,94.0,95.0,96.0,97.0,98.0,99.0],\n",
       "\"y\":[0.4967141530112327,-0.13826430117118466,0.6476885381006925,1.5230298564080254,-0.23415337472333597,-0.23413695694918055,1.5792128155073915,0.7674347291529088,-0.4694743859349521,0.5425600435859647,-0.46341769281246226,-0.46572975357025687,0.24196227156603412,-1.913280244657798,-1.7249178325130328,-0.5622875292409727,-1.0128311203344238,0.3142473325952739,-0.9080240755212111,-1.4123037013352917,1.465648768921554,-0.22577630048653566,0.06752820468792384,-1.4247481862134568,-0.5443827245251827,0.11092258970986608,-1.1509935774223028,0.37569801834567196,-0.600638689918805,-0.2916937497932768,-0.6017066122293969,1.8522781845089378,-0.013497224737933914,-1.0577109289559,0.822544912103189,-1.2208436499710222,0.2088635950047554,-1.9596701238797756,-1.3281860488984305,0.19686123586912352,0.7384665799954104,0.1713682811899705,-0.11564828238824053,-0.3011036955892888,-1.4785219903674274,-0.7198442083947086,-0.4606387709597875,1.0571222262189157,0.3436182895684614,-1.763040155362734,0.324083969394795,-0.38508228041631654,-0.6769220003059587,0.6116762888408679,1.030999522495951,0.9312801191161986,-0.8392175232226385,-0.3092123758512146,0.33126343140356396,0.9755451271223592,-0.47917423784528995,-0.18565897666381712,-1.1063349740060282,-1.1962066240806708,0.812525822394198,1.356240028570823,-0.07201012158033385,1.0035328978920242,0.36163602504763415,-0.6451197546051243,0.36139560550841393,1.5380365664659692,-0.03582603910995153,1.564643655814006,-2.6197451040897444,0.8219025043752238,0.08704706823817134,-0.29900735046586785,0.0917607765355023,-1.9875689146008928,-0.21967188783751193,0.3571125715117464,1.477894044741516,-0.5182702182736474,-0.8084936028931876,-0.5017570435845365,0.9154021177020741,0.32875110965968446,-0.5297602037670388,0.5132674331133561,0.09707754934804039,0.9686449905328892,-0.7020530938773524,-0.3276621465977682,-0.39210815313215763,-1.4635149481321186,0.29612027706457605,0.26105527217988933,0.0051134566424609,-0.23458713337514742]\n",
       "},\n",
       "\"mapping\":{\n",
       "\"x\":\"x\",\n",
       "\"y\":\"y\"\n",
       "},\n",
       "\"data_meta\":{\n",
       "\"series_annotations\":[{\n",
       "\"type\":\"int\",\n",
       "\"column\":\"x\"\n",
       "},{\n",
       "\"type\":\"float\",\n",
       "\"column\":\"y\"\n",
       "}]\n",
       "},\n",
       "\"theme\":{\n",
       "\"name\":\"bw\",\n",
       "\"flavor\":\"high_contrast_light\"\n",
       "},\n",
       "\"ggsize\":{\n",
       "\"width\":200.0,\n",
       "\"height\":150.0\n",
       "},\n",
       "\"kind\":\"plot\",\n",
       "\"scales\":[],\n",
       "\"layers\":[{\n",
       "\"geom\":\"point\",\n",
       "\"mapping\":{\n",
       "},\n",
       "\"data_meta\":{\n",
       "},\n",
       "\"data\":{\n",
       "}\n",
       "}],\n",
       "\"metainfo_list\":[]\n",
       "};\n",
       "           var plotContainer = document.getElementById(\"5RGv5N\");\n",
       "           window.letsPlotCall(function() {{\n",
       "               LetsPlot.buildPlotFromProcessedSpecs(plotSpec, -1, -1, plotContainer);\n",
       "           }});\n",
       "       })();\n",
       "   </script>"
      ],
      "text/plain": [
       "<lets_plot.plot.core.PlotSpec at 0x125d570d0>"
      ]
     },
     "execution_count": 14,
     "metadata": {},
     "output_type": "execute_result"
    }
   ],
   "source": [
    "LetsPlot.set_theme(theme(panel_background=element_rect(fill='yellow')))\n",
    "                   \n",
    "p + theme_bw() + flavor_darcula() + flavor_high_contrast_light() + geom_point()"
   ]
  },
  {
   "cell_type": "code",
   "execution_count": null,
   "id": "df1e1178-1abc-4962-a56a-6bd9472f3ee0",
   "metadata": {},
   "outputs": [],
   "source": []
  }
 ],
 "metadata": {
  "kernelspec": {
   "display_name": "Python 3 (ipykernel)",
   "language": "python",
   "name": "python3"
  },
  "language_info": {
   "codemirror_mode": {
    "name": "ipython",
    "version": 3
   },
   "file_extension": ".py",
   "mimetype": "text/x-python",
   "name": "python",
   "nbconvert_exporter": "python",
   "pygments_lexer": "ipython3",
   "version": "3.10.15"
  }
 },
 "nbformat": 4,
 "nbformat_minor": 5
}
