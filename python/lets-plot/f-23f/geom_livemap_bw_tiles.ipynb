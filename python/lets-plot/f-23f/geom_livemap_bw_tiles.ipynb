{
 "cells": [
  {
   "cell_type": "markdown",
   "id": "978283e4-0431-47ba-9d3f-25e3ae3d8726",
   "metadata": {},
   "source": [
    "## `BW` tiles for `geom_livemap()`\n",
    "This theme is designed to be used for papers - it is a high contrast greyscale theme, also it draws roads and streets starting from zoom=13."
   ]
  },
  {
   "cell_type": "code",
   "execution_count": 1,
   "id": "6d81eebe-0411-46e4-8277-6097eb635b74",
   "metadata": {
    "execution": {
     "iopub.execute_input": "2024-10-02T08:42:46.890631Z",
     "iopub.status.busy": "2024-10-02T08:42:46.890378Z",
     "iopub.status.idle": "2024-10-02T08:42:47.342106Z",
     "shell.execute_reply": "2024-10-02T08:42:47.341826Z"
    }
   },
   "outputs": [
    {
     "data": {
      "text/html": [
       "\n",
       "            <div id=\"1828Ny\"></div>\n",
       "            <script type=\"text/javascript\" data-lets-plot-script=\"library\">\n",
       "                if(!window.letsPlotCallQueue) {\n",
       "                    window.letsPlotCallQueue = [];\n",
       "                }; \n",
       "                window.letsPlotCall = function(f) {\n",
       "                    window.letsPlotCallQueue.push(f);\n",
       "                };\n",
       "                (function() {\n",
       "                    var script = document.createElement(\"script\");\n",
       "                    script.type = \"text/javascript\";\n",
       "                    script.src = \"https://cdn.jsdelivr.net/gh/JetBrains/lets-plot@v4.4.1/js-package/distr/lets-plot.min.js\";\n",
       "                    script.onload = function() {\n",
       "                        window.letsPlotCall = function(f) {f();};\n",
       "                        window.letsPlotCallQueue.forEach(function(f) {f();});\n",
       "                        window.letsPlotCallQueue = [];\n",
       "                        \n",
       "                    };\n",
       "                    script.onerror = function(event) {\n",
       "                        window.letsPlotCall = function(f) {};    // noop\n",
       "                        window.letsPlotCallQueue = [];\n",
       "                        var div = document.createElement(\"div\");\n",
       "                        div.style.color = 'darkred';\n",
       "                        div.textContent = 'Error loading Lets-Plot JS';\n",
       "                        document.getElementById(\"1828Ny\").appendChild(div);\n",
       "                    };\n",
       "                    var e = document.getElementById(\"1828Ny\");\n",
       "                    e.appendChild(script);\n",
       "                })()\n",
       "            </script>\n",
       "            "
      ]
     },
     "metadata": {},
     "output_type": "display_data"
    }
   ],
   "source": [
    "from lets_plot import *\n",
    "LetsPlot.setup_html()"
   ]
  },
  {
   "cell_type": "code",
   "execution_count": 2,
   "id": "7b907068-2d7a-42f9-a51e-958d8d366f14",
   "metadata": {
    "execution": {
     "iopub.execute_input": "2024-10-02T08:42:47.343382Z",
     "iopub.status.busy": "2024-10-02T08:42:47.343261Z",
     "iopub.status.idle": "2024-10-02T08:42:47.374421Z",
     "shell.execute_reply": "2024-10-02T08:42:47.374162Z"
    }
   },
   "outputs": [
    {
     "data": {
      "text/html": [
       "   <div id=\"neKj9P\"></div>\n",
       "   <script type=\"text/javascript\" data-lets-plot-script=\"plot\">\n",
       "       (function() {\n",
       "           var plotSpec={\n",
       "\"mapping\":{\n",
       "},\n",
       "\"data_meta\":{\n",
       "},\n",
       "\"kind\":\"plot\",\n",
       "\"scales\":[],\n",
       "\"layers\":[{\n",
       "\"geom\":\"livemap\",\n",
       "\"mapping\":{\n",
       "},\n",
       "\"data_meta\":{\n",
       "},\n",
       "\"location\":{\n",
       "\"type\":\"coordinates\",\n",
       "\"data\":[-71.106385,42.375922]\n",
       "},\n",
       "\"zoom\":13.0,\n",
       "\"tiles\":{\n",
       "\"kind\":\"vector_lets_plot\",\n",
       "\"url\":\"wss://tiles.datalore.jetbrains.com\",\n",
       "\"theme\":\"bw\",\n",
       "\"attribution\":\"<a href=\\\"https://lets-plot.org\\\">© Lets-Plot</a>, map data: <a href=\\\"https://www.openstreetmap.org/copyright\\\">© OpenStreetMap contributors</a>.\"\n",
       "},\n",
       "\"geocoding\":{\n",
       "\"url\":\"https://geo2.datalore.jetbrains.com/map_data/geocoding\"\n",
       "},\n",
       "\"data\":{\n",
       "}\n",
       "}],\n",
       "\"metainfo_list\":[]\n",
       "};\n",
       "           var plotContainer = document.getElementById(\"neKj9P\");\n",
       "           window.letsPlotCall(function() {{\n",
       "               LetsPlot.buildPlotFromProcessedSpecs(plotSpec, -1, -1, plotContainer);\n",
       "           }});\n",
       "       })();\n",
       "   </script>"
      ],
      "text/plain": [
       "<lets_plot.plot.core.PlotSpec at 0x1041dfac0>"
      ]
     },
     "execution_count": 2,
     "metadata": {},
     "output_type": "execute_result"
    }
   ],
   "source": [
    "from lets_plot import tilesets\n",
    "ggplot() + geom_livemap(\n",
    "    tiles=tilesets.LETS_PLOT_BW,\n",
    "    location=[-71.106385, 42.375922],\n",
    "    zoom=13\n",
    ")"
   ]
  }
 ],
 "metadata": {
  "kernelspec": {
   "display_name": "Python 3 (ipykernel)",
   "language": "python",
   "name": "python3"
  },
  "language_info": {
   "codemirror_mode": {
    "name": "ipython",
    "version": 3
   },
   "file_extension": ".py",
   "mimetype": "text/x-python",
   "name": "python",
   "nbconvert_exporter": "python",
   "pygments_lexer": "ipython3",
   "version": "3.10.15"
  }
 },
 "nbformat": 4,
 "nbformat_minor": 5
}
