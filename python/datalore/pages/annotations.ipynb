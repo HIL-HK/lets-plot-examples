{
 "cells": [
  {
   "attachments": {},
   "cell_type": "markdown",
   "metadata": {
    "datalore": {
     "hide_input_from_viewers": false,
     "hide_output_from_viewers": false,
     "node_id": "Piw5nWEdliOquFTq1M2pXE",
     "report_properties": {
      "relativeY": 0,
      "rowId": "JGl5CxxyTJEpW7Jq7jCsyD"
     },
     "type": "MD"
    }
   },
   "source": [
    "# Annotation Labels "
   ]
  },
  {
   "attachments": {},
   "cell_type": "markdown",
   "metadata": {
    "datalore": {
     "hide_input_from_viewers": false,
     "hide_output_from_viewers": false,
     "node_id": "yB6zCFySuxALvfvoKpPbKS",
     "report_properties": {
      "relativeY": 0,
      "rowId": "ch5dINayozHbE5y9qmIdsK"
     },
     "type": "MD"
    }
   },
   "source": [
    "Annotation labels specify the content of the annotations for pie and bar charts through the parameter ``labels``.\n",
    "\n",
    "The following functions set lines, define formatting of the annotation and its size:\n",
    "\n",
    "```python\n",
    "labels=layer_labels(variables)\n",
    "    .format(field, format)\n",
    "    .line(template)\n",
    "    .size(value)\n",
    "```"
   ]
  },
  {
   "attachments": {},
   "cell_type": "markdown",
   "metadata": {
    "datalore": {
     "hide_input_from_viewers": false,
     "hide_output_from_viewers": false,
     "node_id": "jMuKBHAdlNZmIjaqELPScS",
     "report_properties": {
      "relativeY": 0,
      "rowId": "rUgQctQXiJX92MsvH2z1Oy"
     },
     "type": "MD"
    }
   },
   "source": [
    "## Annotation Variable List: `layer_labels(variables=['var_name_1', ..., 'var_name_N'])`\n",
    "\n",
    "The `variables` parameter defines a list of variable names, which values will be placed line by line in the annotation. If formatting is specified for a variable from this list (with the `format()` function), it will be applied. Otherwise, the default formatting is used. Additional annotation lines can be specified using the `line()` functions."
   ]
  },
  {
   "attachments": {},
   "cell_type": "markdown",
   "metadata": {
    "datalore": {
     "hide_input_from_viewers": false,
     "hide_output_from_viewers": false,
     "node_id": "AfnwrEut7zM8SeiMwW0v0f",
     "report_properties": {
      "relativeY": 0,
      "rowId": "211gBKnANnfuqxW4FBZfmU"
     },
     "type": "MD"
    }
   },
   "source": [
    "## Formatting Annotation Fields: `layer_labels().format(field, format)`\n",
    "\n",
    "Defines the format for displaying the value.\n",
    "The format will be applied to the corresponding value specified in the line template."
   ]
  },
  {
   "attachments": {},
   "cell_type": "markdown",
   "metadata": {
    "datalore": {
     "hide_input_from_viewers": false,
     "hide_output_from_viewers": false,
     "node_id": "ijg7U5g4hSgpHDCrDubZZ8",
     "report_properties": {
      "relativeY": 0,
      "rowId": "6iq7OfxgmAmQZWt6pFjr5F"
     },
     "type": "MD"
    }
   },
   "outputs": [
    {
     "ename": "SyntaxError",
     "evalue": "SyntaxError: invalid syntax (<ipython-input-35-03343dce2f7e>, line 1)",
     "output_type": "error",
     "traceback": [
      "\u001b[0;31m---------------------------------------------------------------------------",
      "Traceback (most recent call last)",
      "SyntaxError: invalid syntax (<ipython-input-35-03343dce2f7e>, line 1)"
     ]
    }
   ],
   "source": [
    "### Arguments\n",
    "\n",
    "- `field` (string): The name of the variable/aesthetics. The field name begins with `^` for aesthetics. You can specify variable names without a prefix, but the `@` prefix can be also used. For example:\n",
    "\n",
    "  - `field = '^y'` - for y aesthetic;\n",
    "  - `field = 'y'` - for variable with the name \"y\".\n",
    "\n",
    "- `format` (string): The format to apply to the field. The format contains a number format (`'1.f'`) or a string template (`'{.1f}'`). The numeric format for non-numeric value will be ignored. The string template contains \"replacement fields\" surrounded by curly braces `{}`. Any code that is not in the braces is considered literal text, and it will be copied unchanged to the result string. If you need to include a brace character into the literal text, it can be escaped by doubling: {{ and }}. For example:\n",
    "\n",
    "  - `.format('^color', '.1f')` -> `\"17.0\"`;\n",
    "  - `.format('cty', '{.2f} (mpg)'))` -> `\"17.00 (mpg)\"`;\n",
    "  - `.format('^color', '{{{.2f}}}')` -> `\"{17.00}\"`;\n",
    "  - `.format('model', '{} {{text}}')` -> `\"mustang {text}\"`.\n",
    "\n",
    "Variable's and aesthetic's formats are not interchangeable, for example, `var` format will not be applied to `aes` mapped to this variable."
   ]
  },
  {
   "attachments": {},
   "cell_type": "markdown",
   "metadata": {
    "datalore": {
     "hide_input_from_viewers": false,
     "hide_output_from_viewers": false,
     "node_id": "nLZUnzKD3fvw2W8kFlbKLb",
     "report_properties": {
      "relativeY": 0,
      "rowId": "reywORZa7twGePOrk5dHO3"
     },
     "type": "MD"
    }
   },
   "outputs": [
    {
     "ename": "SyntaxError",
     "evalue": "SyntaxError: invalid syntax (<ipython-input-36-877c1c0576bc>, line 1)",
     "output_type": "error",
     "traceback": [
      "\u001b[0;31m---------------------------------------------------------------------------",
      "Traceback (most recent call last)",
      "SyntaxError: invalid syntax (<ipython-input-36-877c1c0576bc>, line 1)"
     ]
    }
   ],
   "source": [
    "## Customizing Annotation Lines: `layer_labels().line(template)`\n",
    "\n",
    "Specifies the string template to use in an annotation.\n",
    "\n",
    "Variables and aesthetics can be accessed via a special syntax:\n",
    "\n",
    "- `^color` for aesthetic;\n",
    "- `@year` for variable;\n",
    "- `@{number of cylinders}` for a variable with spaces or non-word characters in the name;\n",
    "- `@..count..` for statistics variables.\n",
    "\n",
    "A `'^'` symbol can be escaped with a backslash; a brace character in the literal text - by doubling:\n",
    "\n",
    "- `.line('text')` -> `\"text\"`;\n",
    "- `.line('\\^text')` -> `\"^text\"`;\n",
    "- `.line('{{text}}')` -> `\"{text}\"`;\n",
    "- `.line('@model')` -> `\"mustang\"`;\n",
    "- `.line('{{@model}}')` -> `\"{mustang}\"`."
   ]
  },
  {
   "attachments": {},
   "cell_type": "markdown",
   "metadata": {
    "datalore": {
     "hide_input_from_viewers": false,
     "hide_output_from_viewers": false,
     "node_id": "WG7w1csZZKk6IFbc0NjJ1J",
     "report_properties": {
      "relativeY": 0,
      "rowId": "lCzP6xmjGnQhbFHubcyjgQ"
     },
     "type": "MD"
    }
   },
   "source": [
    "## Annotation Text Size: `layer_labels().size(value)`\n",
    "\n",
    "Specifies a text size in the annotation."
   ]
  },
  {
   "cell_type": "code",
   "execution_count": 1,
   "metadata": {
    "datalore": {
     "hide_input_from_viewers": false,
     "hide_output_from_viewers": false,
     "node_id": "E4Zc7GqBFiPKjicFXAHtBx",
     "report_properties": {
      "relativeY": 0,
      "rowId": "yCdzOruXncmI3pRJ7sWfRf"
     },
     "type": "CODE"
    },
    "execution": {
     "iopub.execute_input": "2024-09-27T18:23:53.162952Z",
     "iopub.status.busy": "2024-09-27T18:23:53.162652Z",
     "iopub.status.idle": "2024-09-27T18:23:53.587915Z",
     "shell.execute_reply": "2024-09-27T18:23:53.587567Z"
    }
   },
   "outputs": [],
   "source": [
    "from lets_plot import *\n",
    "from lets_plot.mapping import *"
   ]
  },
  {
   "cell_type": "code",
   "execution_count": 2,
   "metadata": {
    "datalore": {
     "hide_input_from_viewers": false,
     "hide_output_from_viewers": false,
     "node_id": "Y0YxslbOcidkuIGbuJHARf",
     "report_properties": {
      "relativeY": 0,
      "rowId": "nmD722soF2BhgO52TO4iwm"
     },
     "type": "CODE"
    },
    "execution": {
     "iopub.execute_input": "2024-09-27T18:23:53.589296Z",
     "iopub.status.busy": "2024-09-27T18:23:53.589190Z",
     "iopub.status.idle": "2024-09-27T18:23:53.591563Z",
     "shell.execute_reply": "2024-09-27T18:23:53.591346Z"
    }
   },
   "outputs": [
    {
     "data": {
      "text/html": [
       "\n",
       "            <div id=\"BEmUvW\"></div>\n",
       "            <script type=\"text/javascript\" data-lets-plot-script=\"library\">\n",
       "                if(!window.letsPlotCallQueue) {\n",
       "                    window.letsPlotCallQueue = [];\n",
       "                }; \n",
       "                window.letsPlotCall = function(f) {\n",
       "                    window.letsPlotCallQueue.push(f);\n",
       "                };\n",
       "                (function() {\n",
       "                    var script = document.createElement(\"script\");\n",
       "                    script.type = \"text/javascript\";\n",
       "                    script.src = \"https://cdn.jsdelivr.net/gh/JetBrains/lets-plot@v4.4.1/js-package/distr/lets-plot.min.js\";\n",
       "                    script.onload = function() {\n",
       "                        window.letsPlotCall = function(f) {f();};\n",
       "                        window.letsPlotCallQueue.forEach(function(f) {f();});\n",
       "                        window.letsPlotCallQueue = [];\n",
       "                        \n",
       "                    };\n",
       "                    script.onerror = function(event) {\n",
       "                        window.letsPlotCall = function(f) {};    // noop\n",
       "                        window.letsPlotCallQueue = [];\n",
       "                        var div = document.createElement(\"div\");\n",
       "                        div.style.color = 'darkred';\n",
       "                        div.textContent = 'Error loading Lets-Plot JS';\n",
       "                        document.getElementById(\"BEmUvW\").appendChild(div);\n",
       "                    };\n",
       "                    var e = document.getElementById(\"BEmUvW\");\n",
       "                    e.appendChild(script);\n",
       "                })()\n",
       "            </script>\n",
       "            "
      ]
     },
     "metadata": {},
     "output_type": "display_data"
    }
   ],
   "source": [
    "LetsPlot.setup_html()"
   ]
  },
  {
   "cell_type": "code",
   "execution_count": 3,
   "metadata": {
    "datalore": {
     "hide_input_from_viewers": false,
     "hide_output_from_viewers": false,
     "node_id": "Y1IqPDRKlLPReX0TlSLi3k",
     "report_properties": {
      "relativeY": 0,
      "rowId": "jK6SV0ouj4vltAdIyq3v8m"
     },
     "type": "CODE"
    },
    "execution": {
     "iopub.execute_input": "2024-09-27T18:23:53.606590Z",
     "iopub.status.busy": "2024-09-27T18:23:53.606494Z",
     "iopub.status.idle": "2024-09-27T18:23:53.608415Z",
     "shell.execute_reply": "2024-09-27T18:23:53.608209Z"
    }
   },
   "outputs": [],
   "source": [
    "def get_data():\n",
    "    import pandas as pd\n",
    "    result = pd.read_csv('https://raw.githubusercontent.com/JetBrains/lets-plot-docs/master/data/mpg.csv')\n",
    "    result['explode'] = [0.2 if c == 'pickup' else 0.0 for c in result['class']]\n",
    "    return result"
   ]
  },
  {
   "cell_type": "code",
   "execution_count": 4,
   "metadata": {
    "datalore": {
     "hide_input_from_viewers": false,
     "hide_output_from_viewers": false,
     "node_id": "8fNZms4AcfY7eFsPDF0PGa",
     "report_properties": {
      "relativeY": 0,
      "rowId": "0F88mBTcmOUsnUqQ6r68pY"
     },
     "type": "CODE"
    },
    "execution": {
     "iopub.execute_input": "2024-09-27T18:23:53.609489Z",
     "iopub.status.busy": "2024-09-27T18:23:53.609420Z",
     "iopub.status.idle": "2024-09-27T18:23:53.717124Z",
     "shell.execute_reply": "2024-09-27T18:23:53.716813Z"
    }
   },
   "outputs": [
    {
     "name": "stdout",
     "output_type": "stream",
     "text": [
      "(234, 13)\n"
     ]
    },
    {
     "data": {
      "text/html": [
       "<div>\n",
       "<style scoped>\n",
       "    .dataframe tbody tr th:only-of-type {\n",
       "        vertical-align: middle;\n",
       "    }\n",
       "\n",
       "    .dataframe tbody tr th {\n",
       "        vertical-align: top;\n",
       "    }\n",
       "\n",
       "    .dataframe thead th {\n",
       "        text-align: right;\n",
       "    }\n",
       "</style>\n",
       "<table border=\"1\" class=\"dataframe\">\n",
       "  <thead>\n",
       "    <tr style=\"text-align: right;\">\n",
       "      <th></th>\n",
       "      <th>Unnamed: 0</th>\n",
       "      <th>manufacturer</th>\n",
       "      <th>model</th>\n",
       "      <th>displ</th>\n",
       "      <th>year</th>\n",
       "      <th>cyl</th>\n",
       "      <th>trans</th>\n",
       "      <th>drv</th>\n",
       "      <th>cty</th>\n",
       "      <th>hwy</th>\n",
       "      <th>fl</th>\n",
       "      <th>class</th>\n",
       "      <th>explode</th>\n",
       "    </tr>\n",
       "  </thead>\n",
       "  <tbody>\n",
       "    <tr>\n",
       "      <th>0</th>\n",
       "      <td>1</td>\n",
       "      <td>audi</td>\n",
       "      <td>a4</td>\n",
       "      <td>1.8</td>\n",
       "      <td>1999</td>\n",
       "      <td>4</td>\n",
       "      <td>auto(l5)</td>\n",
       "      <td>f</td>\n",
       "      <td>18</td>\n",
       "      <td>29</td>\n",
       "      <td>p</td>\n",
       "      <td>compact</td>\n",
       "      <td>0.0</td>\n",
       "    </tr>\n",
       "    <tr>\n",
       "      <th>1</th>\n",
       "      <td>2</td>\n",
       "      <td>audi</td>\n",
       "      <td>a4</td>\n",
       "      <td>1.8</td>\n",
       "      <td>1999</td>\n",
       "      <td>4</td>\n",
       "      <td>manual(m5)</td>\n",
       "      <td>f</td>\n",
       "      <td>21</td>\n",
       "      <td>29</td>\n",
       "      <td>p</td>\n",
       "      <td>compact</td>\n",
       "      <td>0.0</td>\n",
       "    </tr>\n",
       "    <tr>\n",
       "      <th>2</th>\n",
       "      <td>3</td>\n",
       "      <td>audi</td>\n",
       "      <td>a4</td>\n",
       "      <td>2.0</td>\n",
       "      <td>2008</td>\n",
       "      <td>4</td>\n",
       "      <td>manual(m6)</td>\n",
       "      <td>f</td>\n",
       "      <td>20</td>\n",
       "      <td>31</td>\n",
       "      <td>p</td>\n",
       "      <td>compact</td>\n",
       "      <td>0.0</td>\n",
       "    </tr>\n",
       "    <tr>\n",
       "      <th>3</th>\n",
       "      <td>4</td>\n",
       "      <td>audi</td>\n",
       "      <td>a4</td>\n",
       "      <td>2.0</td>\n",
       "      <td>2008</td>\n",
       "      <td>4</td>\n",
       "      <td>auto(av)</td>\n",
       "      <td>f</td>\n",
       "      <td>21</td>\n",
       "      <td>30</td>\n",
       "      <td>p</td>\n",
       "      <td>compact</td>\n",
       "      <td>0.0</td>\n",
       "    </tr>\n",
       "    <tr>\n",
       "      <th>4</th>\n",
       "      <td>5</td>\n",
       "      <td>audi</td>\n",
       "      <td>a4</td>\n",
       "      <td>2.8</td>\n",
       "      <td>1999</td>\n",
       "      <td>6</td>\n",
       "      <td>auto(l5)</td>\n",
       "      <td>f</td>\n",
       "      <td>16</td>\n",
       "      <td>26</td>\n",
       "      <td>p</td>\n",
       "      <td>compact</td>\n",
       "      <td>0.0</td>\n",
       "    </tr>\n",
       "  </tbody>\n",
       "</table>\n",
       "</div>"
      ],
      "text/plain": [
       "   Unnamed: 0 manufacturer model  displ  year  cyl       trans drv  cty  hwy  \\\n",
       "0           1         audi    a4    1.8  1999    4    auto(l5)   f   18   29   \n",
       "1           2         audi    a4    1.8  1999    4  manual(m5)   f   21   29   \n",
       "2           3         audi    a4    2.0  2008    4  manual(m6)   f   20   31   \n",
       "3           4         audi    a4    2.0  2008    4    auto(av)   f   21   30   \n",
       "4           5         audi    a4    2.8  1999    6    auto(l5)   f   16   26   \n",
       "\n",
       "  fl    class  explode  \n",
       "0  p  compact      0.0  \n",
       "1  p  compact      0.0  \n",
       "2  p  compact      0.0  \n",
       "3  p  compact      0.0  \n",
       "4  p  compact      0.0  "
      ]
     },
     "execution_count": 4,
     "metadata": {},
     "output_type": "execute_result"
    }
   ],
   "source": [
    "df = get_data()\n",
    "print(df.shape)\n",
    "df.head()"
   ]
  },
  {
   "attachments": {},
   "cell_type": "markdown",
   "metadata": {
    "datalore": {
     "hide_input_from_viewers": false,
     "hide_output_from_viewers": false,
     "node_id": "FWxPA2mKwRqK8cjyWroO4c",
     "report_properties": {
      "relativeY": 0,
      "rowId": "Kpc5HzLD90CFsOpbONOvwo"
     },
     "type": "MD"
    }
   },
   "source": [
    "## Annotated Bar Chart"
   ]
  },
  {
   "attachments": {},
   "cell_type": "markdown",
   "metadata": {
    "datalore": {
     "hide_input_from_viewers": false,
     "hide_output_from_viewers": false,
     "node_id": "BOZWDERzc72l0IKOqWEGpr",
     "report_properties": {
      "relativeY": 0,
      "rowId": "HF1TY4WfgESgoffZkAo8Ij"
     },
     "type": "MD"
    }
   },
   "source": [
    "### Configure Layer Labels Using API [Similar to the Tooltip Configuration API](https://datalore.jetbrains.com/report/static/HZqq77cegYd.E7get_WnChZ/y8xk12VJ0sHpRHcWnrDhQO)"
   ]
  },
  {
   "cell_type": "code",
   "execution_count": 5,
   "metadata": {
    "datalore": {
     "hide_input_from_viewers": false,
     "hide_output_from_viewers": false,
     "node_id": "gUjQsHF07HvAA523mKoolS",
     "report_properties": {
      "relativeY": 0,
      "rowId": "OP4SPonsdcX9Qu2CiTZh1F"
     },
     "type": "CODE"
    },
    "execution": {
     "iopub.execute_input": "2024-09-27T18:23:53.718550Z",
     "iopub.status.busy": "2024-09-27T18:23:53.718432Z",
     "iopub.status.idle": "2024-09-27T18:23:53.755512Z",
     "shell.execute_reply": "2024-09-27T18:23:53.755250Z"
    }
   },
   "outputs": [
    {
     "data": {
      "text/html": [
       "   <div id=\"20rs9J\"></div>\n",
       "   <script type=\"text/javascript\" data-lets-plot-script=\"plot\">\n",
       "       (function() {\n",
       "           var plotSpec={\n",
       "\"kind\":\"subplots\",\n",
       "\"layout\":{\n",
       "\"ncol\":2.0,\n",
       "\"nrow\":1.0,\n",
       "\"widths\":[1.0,1.2],\n",
       "\"name\":\"grid\"\n",
       "},\n",
       "\"figures\":[{\n",
       "\"data\":{\n",
       "},\n",
       "\"mapping\":{\n",
       "},\n",
       "\"data_meta\":{\n",
       "\"series_annotations\":[{\n",
       "\"type\":\"int\",\n",
       "\"column\":\"Unnamed: 0\"\n",
       "},{\n",
       "\"type\":\"str\",\n",
       "\"column\":\"manufacturer\"\n",
       "},{\n",
       "\"type\":\"str\",\n",
       "\"column\":\"model\"\n",
       "},{\n",
       "\"type\":\"float\",\n",
       "\"column\":\"displ\"\n",
       "},{\n",
       "\"type\":\"int\",\n",
       "\"column\":\"year\"\n",
       "},{\n",
       "\"type\":\"int\",\n",
       "\"column\":\"cyl\"\n",
       "},{\n",
       "\"type\":\"str\",\n",
       "\"column\":\"trans\"\n",
       "},{\n",
       "\"type\":\"str\",\n",
       "\"column\":\"drv\"\n",
       "},{\n",
       "\"type\":\"int\",\n",
       "\"column\":\"cty\"\n",
       "},{\n",
       "\"type\":\"int\",\n",
       "\"column\":\"hwy\"\n",
       "},{\n",
       "\"type\":\"str\",\n",
       "\"column\":\"fl\"\n",
       "},{\n",
       "\"type\":\"str\",\n",
       "\"column\":\"class\"\n",
       "},{\n",
       "\"type\":\"float\",\n",
       "\"column\":\"explode\"\n",
       "}]\n",
       "},\n",
       "\"kind\":\"plot\",\n",
       "\"scales\":[],\n",
       "\"layers\":[{\n",
       "\"geom\":\"bar\",\n",
       "\"mapping\":{\n",
       "\"x\":\"trans\"\n",
       "},\n",
       "\"data_meta\":{\n",
       "},\n",
       "\"labels\":{\n",
       "\"formats\":[],\n",
       "\"lines\":[\"@..count..\"]\n",
       "},\n",
       "\"data\":{\n",
       "\"..count..\":[39.0,58.0,19.0,5.0,16.0,83.0,2.0,6.0,3.0,3.0],\n",
       "\"trans\":[\"auto(l5)\",\"manual(m5)\",\"manual(m6)\",\"auto(av)\",\"auto(s6)\",\"auto(l4)\",\"auto(l3)\",\"auto(l6)\",\"auto(s5)\",\"auto(s4)\"]\n",
       "}\n",
       "}],\n",
       "\"metainfo_list\":[]\n",
       "},{\n",
       "\"data\":{\n",
       "},\n",
       "\"mapping\":{\n",
       "},\n",
       "\"data_meta\":{\n",
       "\"series_annotations\":[{\n",
       "\"type\":\"int\",\n",
       "\"column\":\"Unnamed: 0\"\n",
       "},{\n",
       "\"type\":\"str\",\n",
       "\"column\":\"manufacturer\"\n",
       "},{\n",
       "\"type\":\"str\",\n",
       "\"column\":\"model\"\n",
       "},{\n",
       "\"type\":\"float\",\n",
       "\"column\":\"displ\"\n",
       "},{\n",
       "\"type\":\"int\",\n",
       "\"column\":\"year\"\n",
       "},{\n",
       "\"type\":\"int\",\n",
       "\"column\":\"cyl\"\n",
       "},{\n",
       "\"type\":\"str\",\n",
       "\"column\":\"trans\"\n",
       "},{\n",
       "\"type\":\"str\",\n",
       "\"column\":\"drv\"\n",
       "},{\n",
       "\"type\":\"int\",\n",
       "\"column\":\"cty\"\n",
       "},{\n",
       "\"type\":\"int\",\n",
       "\"column\":\"hwy\"\n",
       "},{\n",
       "\"type\":\"str\",\n",
       "\"column\":\"fl\"\n",
       "},{\n",
       "\"type\":\"str\",\n",
       "\"column\":\"class\"\n",
       "},{\n",
       "\"type\":\"float\",\n",
       "\"column\":\"explode\"\n",
       "}]\n",
       "},\n",
       "\"coord\":{\n",
       "\"name\":\"flip\",\n",
       "\"flip\":true\n",
       "},\n",
       "\"kind\":\"plot\",\n",
       "\"scales\":[],\n",
       "\"layers\":[{\n",
       "\"geom\":\"bar\",\n",
       "\"stat\":\"sum\",\n",
       "\"mapping\":{\n",
       "\"x\":\"trans\",\n",
       "\"y\":\"..n..\"\n",
       "},\n",
       "\"data_meta\":{\n",
       "},\n",
       "\"labels\":{\n",
       "\"formats\":[],\n",
       "\"lines\":[\"@..proppct..\"]\n",
       "},\n",
       "\"size\":0.0,\n",
       "\"data\":{\n",
       "\"..proppct..\":[16.666666666666664,24.786324786324787,8.11965811965812,2.1367521367521367,6.837606837606838,35.47008547008547,0.8547008547008548,2.564102564102564,1.282051282051282,1.282051282051282],\n",
       "\"..n..\":[39.0,58.0,19.0,5.0,16.0,83.0,2.0,6.0,3.0,3.0],\n",
       "\"trans\":[\"auto(l5)\",\"manual(m5)\",\"manual(m6)\",\"auto(av)\",\"auto(s6)\",\"auto(l4)\",\"auto(l3)\",\"auto(l6)\",\"auto(s5)\",\"auto(s4)\"]\n",
       "}\n",
       "}],\n",
       "\"metainfo_list\":[]\n",
       "}]\n",
       "};\n",
       "           var plotContainer = document.getElementById(\"20rs9J\");\n",
       "           window.letsPlotCall(function() {{\n",
       "               LetsPlot.buildPlotFromProcessedSpecs(plotSpec, -1, -1, plotContainer);\n",
       "           }});\n",
       "       })();\n",
       "   </script>"
      ],
      "text/plain": [
       "<lets_plot.plot.subplots.SupPlotsSpec at 0x14b971300>"
      ]
     },
     "execution_count": 5,
     "metadata": {},
     "output_type": "execute_result"
    }
   ],
   "source": [
    "gggrid([\n",
    "    ggplot(df) + \\\n",
    "        geom_bar(aes('trans'),\n",
    "                 labels=layer_labels().line('@..count..')),\n",
    "    ggplot(df) + \\\n",
    "        geom_bar(aes('trans', y='..n..'), stat='sum', size=0,\n",
    "                 labels=layer_labels().line('@..proppct..')) + \\\n",
    "        coord_flip()\n",
    "], widths=[1, 1.2])"
   ]
  },
  {
   "attachments": {},
   "cell_type": "markdown",
   "metadata": {
    "datalore": {
     "hide_input_from_viewers": false,
     "hide_output_from_viewers": false,
     "node_id": "qq6PZc874X102pv0XvSGSa",
     "report_properties": {
      "relativeY": 0,
      "rowId": "W4lTU1iMrOSfLR4tm0cRYQ"
     },
     "type": "MD"
    }
   },
   "source": [
    "### Stacked Bars"
   ]
  },
  {
   "cell_type": "code",
   "execution_count": 6,
   "metadata": {
    "datalore": {
     "hide_input_from_viewers": false,
     "hide_output_from_viewers": false,
     "node_id": "rjO8JbJJzicKJLm1SnGV5B",
     "report_properties": {
      "relativeY": 0,
      "rowId": "aUwSG91UQIUaRStQnYR8B4"
     },
     "type": "CODE"
    },
    "execution": {
     "iopub.execute_input": "2024-09-27T18:23:53.756690Z",
     "iopub.status.busy": "2024-09-27T18:23:53.756617Z",
     "iopub.status.idle": "2024-09-27T18:23:53.763618Z",
     "shell.execute_reply": "2024-09-27T18:23:53.763405Z"
    }
   },
   "outputs": [
    {
     "data": {
      "text/html": [
       "   <div id=\"igFFHP\"></div>\n",
       "   <script type=\"text/javascript\" data-lets-plot-script=\"plot\">\n",
       "       (function() {\n",
       "           var plotSpec={\n",
       "\"kind\":\"subplots\",\n",
       "\"layout\":{\n",
       "\"ncol\":2.0,\n",
       "\"nrow\":1.0,\n",
       "\"name\":\"grid\"\n",
       "},\n",
       "\"figures\":[{\n",
       "\"data\":{\n",
       "},\n",
       "\"mapping\":{\n",
       "},\n",
       "\"data_meta\":{\n",
       "\"series_annotations\":[{\n",
       "\"type\":\"int\",\n",
       "\"column\":\"Unnamed: 0\"\n",
       "},{\n",
       "\"type\":\"str\",\n",
       "\"column\":\"manufacturer\"\n",
       "},{\n",
       "\"type\":\"str\",\n",
       "\"column\":\"model\"\n",
       "},{\n",
       "\"type\":\"float\",\n",
       "\"column\":\"displ\"\n",
       "},{\n",
       "\"type\":\"int\",\n",
       "\"column\":\"year\"\n",
       "},{\n",
       "\"type\":\"int\",\n",
       "\"column\":\"cyl\"\n",
       "},{\n",
       "\"type\":\"str\",\n",
       "\"column\":\"trans\"\n",
       "},{\n",
       "\"type\":\"str\",\n",
       "\"column\":\"drv\"\n",
       "},{\n",
       "\"type\":\"int\",\n",
       "\"column\":\"cty\"\n",
       "},{\n",
       "\"type\":\"int\",\n",
       "\"column\":\"hwy\"\n",
       "},{\n",
       "\"type\":\"str\",\n",
       "\"column\":\"fl\"\n",
       "},{\n",
       "\"type\":\"str\",\n",
       "\"column\":\"class\"\n",
       "},{\n",
       "\"type\":\"float\",\n",
       "\"column\":\"explode\"\n",
       "}]\n",
       "},\n",
       "\"kind\":\"plot\",\n",
       "\"scales\":[],\n",
       "\"layers\":[{\n",
       "\"geom\":\"bar\",\n",
       "\"mapping\":{\n",
       "\"x\":\"class\",\n",
       "\"fill\":\"drv\"\n",
       "},\n",
       "\"data_meta\":{\n",
       "},\n",
       "\"labels\":{\n",
       "\"formats\":[{\n",
       "\"field\":\"..proppct..\",\n",
       "\"format\":\"{d} %\"\n",
       "}],\n",
       "\"lines\":[\"@..proppct..\"]\n",
       "},\n",
       "\"data\":{\n",
       "\"..count..\":[35.0,38.0,11.0,22.0,12.0,3.0,51.0,33.0,4.0,11.0,5.0,9.0],\n",
       "\"class\":[\"compact\",\"midsize\",\"minivan\",\"subcompact\",\"compact\",\"midsize\",\"suv\",\"pickup\",\"subcompact\",\"suv\",\"2seater\",\"subcompact\"],\n",
       "\"drv\":[\"f\",\"f\",\"f\",\"f\",\"4\",\"4\",\"4\",\"4\",\"4\",\"r\",\"r\",\"r\"],\n",
       "\"..proppct..\":[74.46808510638297,92.6829268292683,100.0,62.857142857142854,25.53191489361702,7.317073170731707,82.25806451612904,100.0,11.428571428571429,17.741935483870968,100.0,25.71428571428571]\n",
       "}\n",
       "}],\n",
       "\"metainfo_list\":[]\n",
       "},{\n",
       "\"data\":{\n",
       "},\n",
       "\"mapping\":{\n",
       "},\n",
       "\"data_meta\":{\n",
       "\"series_annotations\":[{\n",
       "\"type\":\"int\",\n",
       "\"column\":\"Unnamed: 0\"\n",
       "},{\n",
       "\"type\":\"str\",\n",
       "\"column\":\"manufacturer\"\n",
       "},{\n",
       "\"type\":\"str\",\n",
       "\"column\":\"model\"\n",
       "},{\n",
       "\"type\":\"float\",\n",
       "\"column\":\"displ\"\n",
       "},{\n",
       "\"type\":\"int\",\n",
       "\"column\":\"year\"\n",
       "},{\n",
       "\"type\":\"int\",\n",
       "\"column\":\"cyl\"\n",
       "},{\n",
       "\"type\":\"str\",\n",
       "\"column\":\"trans\"\n",
       "},{\n",
       "\"type\":\"str\",\n",
       "\"column\":\"drv\"\n",
       "},{\n",
       "\"type\":\"int\",\n",
       "\"column\":\"cty\"\n",
       "},{\n",
       "\"type\":\"int\",\n",
       "\"column\":\"hwy\"\n",
       "},{\n",
       "\"type\":\"str\",\n",
       "\"column\":\"fl\"\n",
       "},{\n",
       "\"type\":\"str\",\n",
       "\"column\":\"class\"\n",
       "},{\n",
       "\"type\":\"float\",\n",
       "\"column\":\"explode\"\n",
       "}]\n",
       "},\n",
       "\"coord\":{\n",
       "\"name\":\"flip\",\n",
       "\"flip\":true\n",
       "},\n",
       "\"kind\":\"plot\",\n",
       "\"scales\":[],\n",
       "\"layers\":[{\n",
       "\"geom\":\"bar\",\n",
       "\"mapping\":{\n",
       "\"x\":\"class\",\n",
       "\"fill\":\"drv\"\n",
       "},\n",
       "\"position\":\"fill\",\n",
       "\"data_meta\":{\n",
       "},\n",
       "\"labels\":{\n",
       "\"formats\":[{\n",
       "\"field\":\"..proppct..\",\n",
       "\"format\":\"{d} %\"\n",
       "}],\n",
       "\"lines\":[\"@..proppct..\"]\n",
       "},\n",
       "\"data\":{\n",
       "\"..count..\":[35.0,38.0,11.0,22.0,12.0,3.0,51.0,33.0,4.0,11.0,5.0,9.0],\n",
       "\"class\":[\"compact\",\"midsize\",\"minivan\",\"subcompact\",\"compact\",\"midsize\",\"suv\",\"pickup\",\"subcompact\",\"suv\",\"2seater\",\"subcompact\"],\n",
       "\"drv\":[\"f\",\"f\",\"f\",\"f\",\"4\",\"4\",\"4\",\"4\",\"4\",\"r\",\"r\",\"r\"],\n",
       "\"..proppct..\":[74.46808510638297,92.6829268292683,100.0,62.857142857142854,25.53191489361702,7.317073170731707,82.25806451612904,100.0,11.428571428571429,17.741935483870968,100.0,25.71428571428571]\n",
       "}\n",
       "}],\n",
       "\"metainfo_list\":[]\n",
       "}]\n",
       "};\n",
       "           var plotContainer = document.getElementById(\"igFFHP\");\n",
       "           window.letsPlotCall(function() {{\n",
       "               LetsPlot.buildPlotFromProcessedSpecs(plotSpec, -1, -1, plotContainer);\n",
       "           }});\n",
       "       })();\n",
       "   </script>"
      ],
      "text/plain": [
       "<lets_plot.plot.subplots.SupPlotsSpec at 0x14b9c8f70>"
      ]
     },
     "execution_count": 6,
     "metadata": {},
     "output_type": "execute_result"
    }
   ],
   "source": [
    "gggrid([\n",
    "    ggplot(df) + \\\n",
    "        geom_bar(aes('class', fill='drv'),\n",
    "                 labels=layer_labels().line('@..proppct..')\n",
    "                                      .format('..proppct..', '{d} %')),\n",
    "    ggplot(df) + \\\n",
    "        geom_bar(aes('class', fill='drv'),  position='fill',\n",
    "                 labels=layer_labels().line('@..proppct..')\n",
    "                                      .format('..proppct..', '{d} %')) + \\\n",
    "        coord_flip()\n",
    "])"
   ]
  },
  {
   "attachments": {},
   "cell_type": "markdown",
   "metadata": {
    "datalore": {
     "hide_input_from_viewers": false,
     "hide_output_from_viewers": false,
     "node_id": "SoA7j6XP1ZB8EORvnSu0ZV",
     "report_properties": {
      "relativeY": 0,
      "rowId": "rxyCwIiIeP88MnfPOAu0uS"
     },
     "type": "MD"
    }
   },
   "source": [
    "### Narrow Bars\n",
    "\n",
    "Narrow bars are too thin for labels to fit in, so they are displayed externally.\n",
    "\n",
    "Also, you can use the `label_text` parameter in `theme()` to set basic text settings for annotations, using the `element_text()` function with the following parameters:\n",
    "\n",
    "- `family` - font family;\n",
    "- `face` - font face ('plain', 'italic', 'bold', 'bold_italic');\n",
    "- `size` - text size, can also be specified via `layer_labels().size()`;\n",
    "- `color` - text color."
   ]
  },
  {
   "cell_type": "code",
   "execution_count": 7,
   "metadata": {
    "datalore": {
     "hide_input_from_viewers": false,
     "hide_output_from_viewers": false,
     "node_id": "oTbqEnH4l9n4g8Efsdx8Pm",
     "report_properties": {
      "relativeY": 0,
      "rowId": "CQKIbd93agZQen5mAisuf5"
     },
     "type": "CODE"
    },
    "execution": {
     "iopub.execute_input": "2024-09-27T18:23:53.764673Z",
     "iopub.status.busy": "2024-09-27T18:23:53.764601Z",
     "iopub.status.idle": "2024-09-27T18:23:53.766367Z",
     "shell.execute_reply": "2024-09-27T18:23:53.766114Z"
    }
   },
   "outputs": [],
   "source": [
    "label_text_options = element_text(family='Rockwell', face='bold', size=16, color='#542788')"
   ]
  },
  {
   "cell_type": "code",
   "execution_count": 8,
   "metadata": {
    "datalore": {
     "hide_input_from_viewers": false,
     "hide_output_from_viewers": false,
     "node_id": "fQjxgzqK0JNVXqTqVRsLM0",
     "report_properties": {
      "relativeY": 0,
      "rowId": "L0ROQ8Had7oamro9NCkDdm"
     },
     "type": "CODE"
    },
    "execution": {
     "iopub.execute_input": "2024-09-27T18:23:53.767365Z",
     "iopub.status.busy": "2024-09-27T18:23:53.767290Z",
     "iopub.status.idle": "2024-09-27T18:23:53.771925Z",
     "shell.execute_reply": "2024-09-27T18:23:53.771714Z"
    }
   },
   "outputs": [
    {
     "data": {
      "text/html": [
       "   <div id=\"oh54P5\"></div>\n",
       "   <script type=\"text/javascript\" data-lets-plot-script=\"plot\">\n",
       "       (function() {\n",
       "           var plotSpec={\n",
       "\"data\":{\n",
       "},\n",
       "\"mapping\":{\n",
       "\"x\":\"class\",\n",
       "\"fill\":\"drv\"\n",
       "},\n",
       "\"data_meta\":{\n",
       "\"series_annotations\":[{\n",
       "\"type\":\"int\",\n",
       "\"column\":\"Unnamed: 0\"\n",
       "},{\n",
       "\"type\":\"str\",\n",
       "\"column\":\"manufacturer\"\n",
       "},{\n",
       "\"type\":\"str\",\n",
       "\"column\":\"model\"\n",
       "},{\n",
       "\"type\":\"float\",\n",
       "\"column\":\"displ\"\n",
       "},{\n",
       "\"type\":\"int\",\n",
       "\"column\":\"year\"\n",
       "},{\n",
       "\"type\":\"int\",\n",
       "\"column\":\"cyl\"\n",
       "},{\n",
       "\"type\":\"str\",\n",
       "\"column\":\"trans\"\n",
       "},{\n",
       "\"type\":\"str\",\n",
       "\"column\":\"drv\"\n",
       "},{\n",
       "\"type\":\"int\",\n",
       "\"column\":\"cty\"\n",
       "},{\n",
       "\"type\":\"int\",\n",
       "\"column\":\"hwy\"\n",
       "},{\n",
       "\"type\":\"str\",\n",
       "\"column\":\"fl\"\n",
       "},{\n",
       "\"type\":\"str\",\n",
       "\"column\":\"class\"\n",
       "},{\n",
       "\"type\":\"float\",\n",
       "\"column\":\"explode\"\n",
       "}]\n",
       "},\n",
       "\"theme\":{\n",
       "\"label_text\":{\n",
       "\"color\":\"#542788\",\n",
       "\"family\":\"Rockwell\",\n",
       "\"face\":\"bold\",\n",
       "\"size\":16.0,\n",
       "\"blank\":false\n",
       "}\n",
       "},\n",
       "\"ggsize\":{\n",
       "\"width\":700.0,\n",
       "\"height\":400.0\n",
       "},\n",
       "\"kind\":\"plot\",\n",
       "\"scales\":[],\n",
       "\"layers\":[{\n",
       "\"geom\":\"bar\",\n",
       "\"mapping\":{\n",
       "},\n",
       "\"position\":\"dodge\",\n",
       "\"data_meta\":{\n",
       "},\n",
       "\"labels\":{\n",
       "\"formats\":[{\n",
       "\"field\":\"..proppct..\",\n",
       "\"format\":\"{d} %\"\n",
       "}],\n",
       "\"lines\":[\"@..proppct..\"]\n",
       "},\n",
       "\"data\":{\n",
       "\"..count..\":[35.0,38.0,11.0,22.0,12.0,3.0,51.0,33.0,4.0,11.0,5.0,9.0],\n",
       "\"class\":[\"compact\",\"midsize\",\"minivan\",\"subcompact\",\"compact\",\"midsize\",\"suv\",\"pickup\",\"subcompact\",\"suv\",\"2seater\",\"subcompact\"],\n",
       "\"drv\":[\"f\",\"f\",\"f\",\"f\",\"4\",\"4\",\"4\",\"4\",\"4\",\"r\",\"r\",\"r\"],\n",
       "\"..proppct..\":[74.46808510638297,92.6829268292683,100.0,62.857142857142854,25.53191489361702,7.317073170731707,82.25806451612904,100.0,11.428571428571429,17.741935483870968,100.0,25.71428571428571]\n",
       "}\n",
       "}],\n",
       "\"metainfo_list\":[]\n",
       "};\n",
       "           var plotContainer = document.getElementById(\"oh54P5\");\n",
       "           window.letsPlotCall(function() {{\n",
       "               LetsPlot.buildPlotFromProcessedSpecs(plotSpec, -1, -1, plotContainer);\n",
       "           }});\n",
       "       })();\n",
       "   </script>"
      ],
      "text/plain": [
       "<lets_plot.plot.core.PlotSpec at 0x14b4d2c80>"
      ]
     },
     "execution_count": 8,
     "metadata": {},
     "output_type": "execute_result"
    }
   ],
   "source": [
    "ggplot(df, aes('class', fill='drv')) + \\\n",
    "    geom_bar(labels=layer_labels().line('@..proppct..').format('..proppct..', '{d} %'),\n",
    "             position='dodge') + \\\n",
    "    theme(label_text=label_text_options) + \\\n",
    "    ggsize(700, 400)"
   ]
  },
  {
   "attachments": {},
   "cell_type": "markdown",
   "metadata": {
    "datalore": {
     "hide_input_from_viewers": false,
     "hide_output_from_viewers": false,
     "node_id": "UI2Oi29iPAESPuqSduupdl",
     "report_properties": {
      "relativeY": 0,
      "rowId": "IPLVCfHkirJCK2OzkrF8X4"
     },
     "type": "MD"
    }
   },
   "source": [
    "## Annotated Pie Chart"
   ]
  },
  {
   "cell_type": "code",
   "execution_count": 9,
   "metadata": {
    "datalore": {
     "hide_input_from_viewers": false,
     "hide_output_from_viewers": false,
     "node_id": "0TEOwUJCu6zHb55ENMPLqv",
     "report_properties": {
      "relativeY": 0,
      "rowId": "VzBhsfO2ts1E9o0fePrrZ3",
      "width": 0.5833333333333334,
      "x": 0
     },
     "type": "CODE"
    },
    "execution": {
     "iopub.execute_input": "2024-09-27T18:23:53.772980Z",
     "iopub.status.busy": "2024-09-27T18:23:53.772906Z",
     "iopub.status.idle": "2024-09-27T18:23:53.777631Z",
     "shell.execute_reply": "2024-09-27T18:23:53.777425Z"
    }
   },
   "outputs": [
    {
     "data": {
      "text/html": [
       "   <div id=\"ucO4oT\"></div>\n",
       "   <script type=\"text/javascript\" data-lets-plot-script=\"plot\">\n",
       "       (function() {\n",
       "           var plotSpec={\n",
       "\"data\":{\n",
       "},\n",
       "\"mapping\":{\n",
       "},\n",
       "\"data_meta\":{\n",
       "\"series_annotations\":[{\n",
       "\"type\":\"int\",\n",
       "\"column\":\"Unnamed: 0\"\n",
       "},{\n",
       "\"type\":\"str\",\n",
       "\"column\":\"manufacturer\"\n",
       "},{\n",
       "\"type\":\"str\",\n",
       "\"column\":\"model\"\n",
       "},{\n",
       "\"type\":\"float\",\n",
       "\"column\":\"displ\"\n",
       "},{\n",
       "\"type\":\"int\",\n",
       "\"column\":\"year\"\n",
       "},{\n",
       "\"type\":\"int\",\n",
       "\"column\":\"cyl\"\n",
       "},{\n",
       "\"type\":\"str\",\n",
       "\"column\":\"trans\"\n",
       "},{\n",
       "\"type\":\"str\",\n",
       "\"column\":\"drv\"\n",
       "},{\n",
       "\"type\":\"int\",\n",
       "\"column\":\"cty\"\n",
       "},{\n",
       "\"type\":\"int\",\n",
       "\"column\":\"hwy\"\n",
       "},{\n",
       "\"type\":\"str\",\n",
       "\"column\":\"fl\"\n",
       "},{\n",
       "\"type\":\"str\",\n",
       "\"column\":\"class\"\n",
       "},{\n",
       "\"type\":\"float\",\n",
       "\"column\":\"explode\"\n",
       "}]\n",
       "},\n",
       "\"theme\":{\n",
       "\"name\":\"classic\",\n",
       "\"line\":\"blank\",\n",
       "\"axis\":\"blank\",\n",
       "\"legend_position\":\"none\"\n",
       "},\n",
       "\"kind\":\"plot\",\n",
       "\"scales\":[{\n",
       "\"aesthetic\":\"fill\",\n",
       "\"palette\":\"Dark2\",\n",
       "\"scale_mapper_kind\":\"color_brewer\"\n",
       "}],\n",
       "\"layers\":[{\n",
       "\"geom\":\"pie\",\n",
       "\"mapping\":{\n",
       "\"fill\":\"class\"\n",
       "},\n",
       "\"tooltips\":\"none\",\n",
       "\"data_meta\":{\n",
       "},\n",
       "\"labels\":{\n",
       "\"formats\":[],\n",
       "\"lines\":[\"@class\"]\n",
       "},\n",
       "\"hole\":0.2,\n",
       "\"size\":22.0,\n",
       "\"data\":{\n",
       "\"..x..\":[0.0,0.0,0.0,0.0,0.0,0.0,0.0],\n",
       "\"..y..\":[0.0,0.0,0.0,0.0,0.0,0.0,0.0],\n",
       "\"..count..\":[47.0,41.0,62.0,5.0,11.0,33.0,35.0],\n",
       "\"class\":[\"compact\",\"midsize\",\"suv\",\"2seater\",\"minivan\",\"pickup\",\"subcompact\"]\n",
       "}\n",
       "}],\n",
       "\"metainfo_list\":[]\n",
       "};\n",
       "           var plotContainer = document.getElementById(\"ucO4oT\");\n",
       "           window.letsPlotCall(function() {{\n",
       "               LetsPlot.buildPlotFromProcessedSpecs(plotSpec, -1, -1, plotContainer);\n",
       "           }});\n",
       "       })();\n",
       "   </script>"
      ],
      "text/plain": [
       "<lets_plot.plot.core.PlotSpec at 0x14b9efee0>"
      ]
     },
     "execution_count": 9,
     "metadata": {},
     "output_type": "execute_result"
    }
   ],
   "source": [
    "ggplot(df) + \\\n",
    "    geom_pie(aes(fill='class'), size=22, hole=.2,\n",
    "             labels=layer_labels().line('@class'),\n",
    "             tooltips='none') + \\\n",
    "    scale_fill_brewer(palette='Dark2') + \\\n",
    "    theme_void() + \\\n",
    "    theme(legend_position='none')"
   ]
  },
  {
   "attachments": {},
   "cell_type": "markdown",
   "metadata": {
    "datalore": {
     "hide_input_from_viewers": false,
     "hide_output_from_viewers": false,
     "node_id": "wRCCukaiViIxTo1umRcJ40",
     "report_properties": {
      "relativeY": 0,
      "rowId": "1c3gH3NWLiQnip9pCaipKK"
     },
     "type": "MD"
    }
   },
   "source": [
    "Let's add multiline annotations."
   ]
  },
  {
   "cell_type": "code",
   "execution_count": 10,
   "metadata": {
    "datalore": {
     "hide_input_from_viewers": false,
     "hide_output_from_viewers": false,
     "node_id": "g12Y9xPPmefngqgCu1fjEX",
     "report_properties": {
      "relativeY": 0,
      "rowId": "74cymIQbs4cKhnFNIqDq33",
      "width": 0.5833333333333334,
      "x": 0
     },
     "type": "CODE"
    },
    "execution": {
     "iopub.execute_input": "2024-09-27T18:23:53.778654Z",
     "iopub.status.busy": "2024-09-27T18:23:53.778588Z",
     "iopub.status.idle": "2024-09-27T18:23:53.783160Z",
     "shell.execute_reply": "2024-09-27T18:23:53.782965Z"
    }
   },
   "outputs": [
    {
     "data": {
      "text/html": [
       "   <div id=\"aWSYhy\"></div>\n",
       "   <script type=\"text/javascript\" data-lets-plot-script=\"plot\">\n",
       "       (function() {\n",
       "           var plotSpec={\n",
       "\"data\":{\n",
       "},\n",
       "\"mapping\":{\n",
       "},\n",
       "\"data_meta\":{\n",
       "\"series_annotations\":[{\n",
       "\"type\":\"int\",\n",
       "\"column\":\"Unnamed: 0\"\n",
       "},{\n",
       "\"type\":\"str\",\n",
       "\"column\":\"manufacturer\"\n",
       "},{\n",
       "\"type\":\"str\",\n",
       "\"column\":\"model\"\n",
       "},{\n",
       "\"type\":\"float\",\n",
       "\"column\":\"displ\"\n",
       "},{\n",
       "\"type\":\"int\",\n",
       "\"column\":\"year\"\n",
       "},{\n",
       "\"type\":\"int\",\n",
       "\"column\":\"cyl\"\n",
       "},{\n",
       "\"type\":\"str\",\n",
       "\"column\":\"trans\"\n",
       "},{\n",
       "\"type\":\"str\",\n",
       "\"column\":\"drv\"\n",
       "},{\n",
       "\"type\":\"int\",\n",
       "\"column\":\"cty\"\n",
       "},{\n",
       "\"type\":\"int\",\n",
       "\"column\":\"hwy\"\n",
       "},{\n",
       "\"type\":\"str\",\n",
       "\"column\":\"fl\"\n",
       "},{\n",
       "\"type\":\"str\",\n",
       "\"column\":\"class\"\n",
       "},{\n",
       "\"type\":\"float\",\n",
       "\"column\":\"explode\"\n",
       "}]\n",
       "},\n",
       "\"theme\":{\n",
       "\"name\":\"classic\",\n",
       "\"line\":\"blank\",\n",
       "\"axis\":\"blank\",\n",
       "\"legend_position\":\"none\"\n",
       "},\n",
       "\"kind\":\"plot\",\n",
       "\"scales\":[{\n",
       "\"aesthetic\":\"fill\",\n",
       "\"palette\":\"Dark2\",\n",
       "\"scale_mapper_kind\":\"color_brewer\"\n",
       "}],\n",
       "\"layers\":[{\n",
       "\"geom\":\"pie\",\n",
       "\"mapping\":{\n",
       "\"fill\":\"class\"\n",
       "},\n",
       "\"tooltips\":\"none\",\n",
       "\"data_meta\":{\n",
       "},\n",
       "\"labels\":{\n",
       "\"formats\":[{\n",
       "\"field\":\"..prop..\",\n",
       "\"format\":\".0%\"\n",
       "}],\n",
       "\"lines\":[\"@class\",\"(@{..prop..})\"]\n",
       "},\n",
       "\"hole\":0.2,\n",
       "\"size\":22.0,\n",
       "\"data\":{\n",
       "\"..x..\":[0.0,0.0,0.0,0.0,0.0,0.0,0.0],\n",
       "\"..y..\":[0.0,0.0,0.0,0.0,0.0,0.0,0.0],\n",
       "\"..count..\":[47.0,41.0,62.0,5.0,11.0,33.0,35.0],\n",
       "\"class\":[\"compact\",\"midsize\",\"suv\",\"2seater\",\"minivan\",\"pickup\",\"subcompact\"],\n",
       "\"..prop..\":[0.20085470085470086,0.1752136752136752,0.26495726495726496,0.021367521367521368,0.04700854700854701,0.14102564102564102,0.14957264957264957]\n",
       "}\n",
       "}],\n",
       "\"metainfo_list\":[]\n",
       "};\n",
       "           var plotContainer = document.getElementById(\"aWSYhy\");\n",
       "           window.letsPlotCall(function() {{\n",
       "               LetsPlot.buildPlotFromProcessedSpecs(plotSpec, -1, -1, plotContainer);\n",
       "           }});\n",
       "       })();\n",
       "   </script>"
      ],
      "text/plain": [
       "<lets_plot.plot.core.PlotSpec at 0x14b4d27a0>"
      ]
     },
     "execution_count": 10,
     "metadata": {},
     "output_type": "execute_result"
    }
   ],
   "source": [
    "ggplot(df) + \\\n",
    "    geom_pie(aes(fill='class'), size=22, hole=.2,\n",
    "             labels=layer_labels().line('@class')\n",
    "                                  .line('(@{..prop..})')\n",
    "                                  .format('..prop..', '.0%'),\n",
    "             tooltips='none') + \\\n",
    "    scale_fill_brewer(palette='Dark2') + \\\n",
    "    theme_void() + \\\n",
    "    theme(legend_position='none')"
   ]
  },
  {
   "attachments": {},
   "cell_type": "markdown",
   "metadata": {
    "datalore": {
     "hide_input_from_viewers": false,
     "hide_output_from_viewers": false,
     "node_id": "iLa3lE6MzM6s8EAQHhMFFr",
     "report_properties": {
      "relativeY": 0,
      "rowId": "obg0gPcaTmJwchvaLUVCDD"
     },
     "type": "MD"
    }
   },
   "source": [
    "You can change labels size with `size()` function."
   ]
  },
  {
   "cell_type": "code",
   "execution_count": 11,
   "metadata": {
    "datalore": {
     "hide_input_from_viewers": false,
     "hide_output_from_viewers": false,
     "node_id": "Ydjsj1R9Oyu6AHJxmhi7FT",
     "report_properties": {
      "relativeY": 0,
      "rowId": "ejCTHxuDuegSr0JZM5dYCK",
      "width": 0.625,
      "x": 0
     },
     "type": "CODE"
    },
    "execution": {
     "iopub.execute_input": "2024-09-27T18:23:53.784171Z",
     "iopub.status.busy": "2024-09-27T18:23:53.784103Z",
     "iopub.status.idle": "2024-09-27T18:23:53.788722Z",
     "shell.execute_reply": "2024-09-27T18:23:53.788523Z"
    }
   },
   "outputs": [
    {
     "data": {
      "text/html": [
       "   <div id=\"bfI1sy\"></div>\n",
       "   <script type=\"text/javascript\" data-lets-plot-script=\"plot\">\n",
       "       (function() {\n",
       "           var plotSpec={\n",
       "\"data\":{\n",
       "},\n",
       "\"mapping\":{\n",
       "},\n",
       "\"data_meta\":{\n",
       "\"series_annotations\":[{\n",
       "\"type\":\"int\",\n",
       "\"column\":\"Unnamed: 0\"\n",
       "},{\n",
       "\"type\":\"str\",\n",
       "\"column\":\"manufacturer\"\n",
       "},{\n",
       "\"type\":\"str\",\n",
       "\"column\":\"model\"\n",
       "},{\n",
       "\"type\":\"float\",\n",
       "\"column\":\"displ\"\n",
       "},{\n",
       "\"type\":\"int\",\n",
       "\"column\":\"year\"\n",
       "},{\n",
       "\"type\":\"int\",\n",
       "\"column\":\"cyl\"\n",
       "},{\n",
       "\"type\":\"str\",\n",
       "\"column\":\"trans\"\n",
       "},{\n",
       "\"type\":\"str\",\n",
       "\"column\":\"drv\"\n",
       "},{\n",
       "\"type\":\"int\",\n",
       "\"column\":\"cty\"\n",
       "},{\n",
       "\"type\":\"int\",\n",
       "\"column\":\"hwy\"\n",
       "},{\n",
       "\"type\":\"str\",\n",
       "\"column\":\"fl\"\n",
       "},{\n",
       "\"type\":\"str\",\n",
       "\"column\":\"class\"\n",
       "},{\n",
       "\"type\":\"float\",\n",
       "\"column\":\"explode\"\n",
       "}]\n",
       "},\n",
       "\"theme\":{\n",
       "\"name\":\"classic\",\n",
       "\"line\":\"blank\",\n",
       "\"axis\":\"blank\"\n",
       "},\n",
       "\"kind\":\"plot\",\n",
       "\"scales\":[{\n",
       "\"aesthetic\":\"fill\",\n",
       "\"palette\":\"Dark2\",\n",
       "\"scale_mapper_kind\":\"color_brewer\"\n",
       "}],\n",
       "\"layers\":[{\n",
       "\"geom\":\"pie\",\n",
       "\"mapping\":{\n",
       "\"fill\":\"class\"\n",
       "},\n",
       "\"tooltips\":\"none\",\n",
       "\"data_meta\":{\n",
       "\"mapping_annotations\":[{\n",
       "\"parameters\":{\n",
       "\"label\":\"class\",\n",
       "\"order_by\":\"..count..\"\n",
       "},\n",
       "\"aes\":\"fill\",\n",
       "\"annotation\":\"as_discrete\"\n",
       "}]\n",
       "},\n",
       "\"labels\":{\n",
       "\"formats\":[],\n",
       "\"lines\":[\"@..proppct..\"],\n",
       "\"annotation_size\":18.0\n",
       "},\n",
       "\"hole\":0.2,\n",
       "\"size\":20.0,\n",
       "\"data\":{\n",
       "\"..x..\":[0.0,0.0,0.0,0.0,0.0,0.0,0.0],\n",
       "\"..y..\":[0.0,0.0,0.0,0.0,0.0,0.0,0.0],\n",
       "\"..count..\":[62.0,47.0,41.0,35.0,33.0,11.0,5.0],\n",
       "\"class\":[\"suv\",\"compact\",\"midsize\",\"subcompact\",\"pickup\",\"minivan\",\"2seater\"],\n",
       "\"..proppct..\":[26.495726495726498,20.085470085470085,17.52136752136752,14.957264957264957,14.102564102564102,4.700854700854701,2.1367521367521367]\n",
       "}\n",
       "}],\n",
       "\"metainfo_list\":[]\n",
       "};\n",
       "           var plotContainer = document.getElementById(\"bfI1sy\");\n",
       "           window.letsPlotCall(function() {{\n",
       "               LetsPlot.buildPlotFromProcessedSpecs(plotSpec, -1, -1, plotContainer);\n",
       "           }});\n",
       "       })();\n",
       "   </script>"
      ],
      "text/plain": [
       "<lets_plot.plot.core.PlotSpec at 0x14b47ed70>"
      ]
     },
     "execution_count": 11,
     "metadata": {},
     "output_type": "execute_result"
    }
   ],
   "source": [
    "ggplot(df) + \\\n",
    "    geom_pie(aes(fill=as_discrete('class', order_by='..count..')), \n",
    "             size=20, hole=.2,\n",
    "             labels=layer_labels().line('@..proppct..')\n",
    "                                  .size(18),\n",
    "             tooltips='none') + \\\n",
    "    scale_fill_brewer(palette='Dark2') + \\\n",
    "    theme_void()"
   ]
  },
  {
   "cell_type": "code",
   "execution_count": 12,
   "metadata": {
    "datalore": {
     "hide_input_from_viewers": false,
     "hide_output_from_viewers": false,
     "node_id": "Y8A1F3eAuhZcGVoAueMmof",
     "report_properties": {
      "relativeY": 0,
      "rowId": "xzXdeZSbnitIzajMaS2p6o",
      "width": 0.6666666666666666,
      "x": 0
     },
     "type": "CODE"
    },
    "execution": {
     "iopub.execute_input": "2024-09-27T18:23:53.789727Z",
     "iopub.status.busy": "2024-09-27T18:23:53.789658Z",
     "iopub.status.idle": "2024-09-27T18:23:53.794546Z",
     "shell.execute_reply": "2024-09-27T18:23:53.794345Z"
    }
   },
   "outputs": [
    {
     "data": {
      "text/html": [
       "   <div id=\"wZauCQ\"></div>\n",
       "   <script type=\"text/javascript\" data-lets-plot-script=\"plot\">\n",
       "       (function() {\n",
       "           var plotSpec={\n",
       "\"data\":{\n",
       "},\n",
       "\"mapping\":{\n",
       "},\n",
       "\"data_meta\":{\n",
       "\"series_annotations\":[{\n",
       "\"type\":\"int\",\n",
       "\"column\":\"Unnamed: 0\"\n",
       "},{\n",
       "\"type\":\"str\",\n",
       "\"column\":\"manufacturer\"\n",
       "},{\n",
       "\"type\":\"str\",\n",
       "\"column\":\"model\"\n",
       "},{\n",
       "\"type\":\"float\",\n",
       "\"column\":\"displ\"\n",
       "},{\n",
       "\"type\":\"int\",\n",
       "\"column\":\"year\"\n",
       "},{\n",
       "\"type\":\"int\",\n",
       "\"column\":\"cyl\"\n",
       "},{\n",
       "\"type\":\"str\",\n",
       "\"column\":\"trans\"\n",
       "},{\n",
       "\"type\":\"str\",\n",
       "\"column\":\"drv\"\n",
       "},{\n",
       "\"type\":\"int\",\n",
       "\"column\":\"cty\"\n",
       "},{\n",
       "\"type\":\"int\",\n",
       "\"column\":\"hwy\"\n",
       "},{\n",
       "\"type\":\"str\",\n",
       "\"column\":\"fl\"\n",
       "},{\n",
       "\"type\":\"str\",\n",
       "\"column\":\"class\"\n",
       "},{\n",
       "\"type\":\"float\",\n",
       "\"column\":\"explode\"\n",
       "}]\n",
       "},\n",
       "\"theme\":{\n",
       "\"name\":\"classic\",\n",
       "\"line\":\"blank\",\n",
       "\"axis\":\"blank\",\n",
       "\"legend_position\":\"right\",\n",
       "\"label_text\":{\n",
       "\"color\":\"#542788\",\n",
       "\"family\":\"Rockwell\",\n",
       "\"face\":\"bold\",\n",
       "\"size\":16.0,\n",
       "\"blank\":false\n",
       "}\n",
       "},\n",
       "\"kind\":\"plot\",\n",
       "\"scales\":[],\n",
       "\"layers\":[{\n",
       "\"geom\":\"pie\",\n",
       "\"mapping\":{\n",
       "\"fill\":\"class\"\n",
       "},\n",
       "\"tooltips\":\"none\",\n",
       "\"data_meta\":{\n",
       "\"mapping_annotations\":[{\n",
       "\"parameters\":{\n",
       "\"label\":\"class\",\n",
       "\"order_by\":\"..count..\",\n",
       "\"order\":1.0\n",
       "},\n",
       "\"aes\":\"fill\",\n",
       "\"annotation\":\"as_discrete\"\n",
       "}]\n",
       "},\n",
       "\"labels\":{\n",
       "\"formats\":[],\n",
       "\"lines\":[\"@..proppct..\"]\n",
       "},\n",
       "\"hole\":0.3,\n",
       "\"size\":20.0,\n",
       "\"data\":{\n",
       "\"..x..\":[0.0,0.0,0.0,0.0,0.0,0.0,0.0],\n",
       "\"..y..\":[0.0,0.0,0.0,0.0,0.0,0.0,0.0],\n",
       "\"..count..\":[5.0,11.0,33.0,35.0,41.0,47.0,62.0],\n",
       "\"class\":[\"2seater\",\"minivan\",\"pickup\",\"subcompact\",\"midsize\",\"compact\",\"suv\"],\n",
       "\"..proppct..\":[2.1367521367521367,4.700854700854701,14.102564102564102,14.957264957264957,17.52136752136752,20.085470085470085,26.495726495726498]\n",
       "}\n",
       "}],\n",
       "\"metainfo_list\":[]\n",
       "};\n",
       "           var plotContainer = document.getElementById(\"wZauCQ\");\n",
       "           window.letsPlotCall(function() {{\n",
       "               LetsPlot.buildPlotFromProcessedSpecs(plotSpec, -1, -1, plotContainer);\n",
       "           }});\n",
       "       })();\n",
       "   </script>"
      ],
      "text/plain": [
       "<lets_plot.plot.core.PlotSpec at 0x14b4d1fc0>"
      ]
     },
     "execution_count": 12,
     "metadata": {},
     "output_type": "execute_result"
    }
   ],
   "source": [
    "ggplot(df) + \\\n",
    "    geom_pie(aes(fill=as_discrete('class', order_by='..count..', order=1)),\n",
    "             size=20, hole=.3,\n",
    "             labels=layer_labels().line('@..proppct..'),\n",
    "             tooltips='none') + \\\n",
    "    theme_void() + \\\n",
    "    theme(label_text=label_text_options, legend_position='right') "
   ]
  },
  {
   "attachments": {},
   "cell_type": "markdown",
   "metadata": {
    "datalore": {
     "hide_input_from_viewers": false,
     "hide_output_from_viewers": false,
     "node_id": "SkmPMhJEc9tCBAliBv4ybQ",
     "report_properties": {
      "relativeY": 0,
      "rowId": "qqV7st5fWfSwixTVbew1iq"
     },
     "type": "MD"
    }
   },
   "source": [
    "### Exploded Pie Chart"
   ]
  },
  {
   "cell_type": "code",
   "execution_count": 13,
   "metadata": {
    "datalore": {
     "hide_input_from_viewers": false,
     "hide_output_from_viewers": false,
     "node_id": "eFvB2DnbkPAw6MJWLUHuZ5",
     "report_properties": {
      "relativeY": 0,
      "rowId": "uetNKCUeWY6VrMMcZ31Gcg",
      "width": 0.5833333333333334,
      "x": 0
     },
     "type": "CODE"
    },
    "execution": {
     "iopub.execute_input": "2024-09-27T18:23:53.795577Z",
     "iopub.status.busy": "2024-09-27T18:23:53.795510Z",
     "iopub.status.idle": "2024-09-27T18:23:53.800058Z",
     "shell.execute_reply": "2024-09-27T18:23:53.799849Z"
    }
   },
   "outputs": [
    {
     "data": {
      "text/html": [
       "   <div id=\"0SBXwx\"></div>\n",
       "   <script type=\"text/javascript\" data-lets-plot-script=\"plot\">\n",
       "       (function() {\n",
       "           var plotSpec={\n",
       "\"data\":{\n",
       "},\n",
       "\"mapping\":{\n",
       "},\n",
       "\"data_meta\":{\n",
       "\"series_annotations\":[{\n",
       "\"type\":\"int\",\n",
       "\"column\":\"Unnamed: 0\"\n",
       "},{\n",
       "\"type\":\"str\",\n",
       "\"column\":\"manufacturer\"\n",
       "},{\n",
       "\"type\":\"str\",\n",
       "\"column\":\"model\"\n",
       "},{\n",
       "\"type\":\"float\",\n",
       "\"column\":\"displ\"\n",
       "},{\n",
       "\"type\":\"int\",\n",
       "\"column\":\"year\"\n",
       "},{\n",
       "\"type\":\"int\",\n",
       "\"column\":\"cyl\"\n",
       "},{\n",
       "\"type\":\"str\",\n",
       "\"column\":\"trans\"\n",
       "},{\n",
       "\"type\":\"str\",\n",
       "\"column\":\"drv\"\n",
       "},{\n",
       "\"type\":\"int\",\n",
       "\"column\":\"cty\"\n",
       "},{\n",
       "\"type\":\"int\",\n",
       "\"column\":\"hwy\"\n",
       "},{\n",
       "\"type\":\"str\",\n",
       "\"column\":\"fl\"\n",
       "},{\n",
       "\"type\":\"str\",\n",
       "\"column\":\"class\"\n",
       "},{\n",
       "\"type\":\"float\",\n",
       "\"column\":\"explode\"\n",
       "}]\n",
       "},\n",
       "\"theme\":{\n",
       "\"name\":\"classic\",\n",
       "\"line\":\"blank\",\n",
       "\"axis\":\"blank\",\n",
       "\"legend_position\":\"none\"\n",
       "},\n",
       "\"kind\":\"plot\",\n",
       "\"scales\":[{\n",
       "\"aesthetic\":\"fill\",\n",
       "\"low\":\"dark_blue\",\n",
       "\"high\":\"light_green\",\n",
       "\"scale_mapper_kind\":\"color_gradient\"\n",
       "}],\n",
       "\"layers\":[{\n",
       "\"geom\":\"pie\",\n",
       "\"mapping\":{\n",
       "\"fill\":\"class\",\n",
       "\"explode\":\"explode\"\n",
       "},\n",
       "\"tooltips\":\"none\",\n",
       "\"data_meta\":{\n",
       "},\n",
       "\"labels\":{\n",
       "\"formats\":[],\n",
       "\"variables\":[\"class\",\"..count..\"]\n",
       "},\n",
       "\"hole\":0.3,\n",
       "\"color\":\"black\",\n",
       "\"size\":20.0,\n",
       "\"data\":{\n",
       "\"..x..\":[0.0,0.0,0.0,0.0,0.0,0.0,0.0],\n",
       "\"..y..\":[0.0,0.0,0.0,0.0,0.0,0.0,0.0],\n",
       "\"..count..\":[47.0,41.0,62.0,5.0,11.0,33.0,35.0],\n",
       "\"explode\":[0.0,0.0,0.0,0.0,0.0,0.2,0.0],\n",
       "\"class\":[\"compact\",\"midsize\",\"suv\",\"2seater\",\"minivan\",\"pickup\",\"subcompact\"]\n",
       "}\n",
       "}],\n",
       "\"metainfo_list\":[]\n",
       "};\n",
       "           var plotContainer = document.getElementById(\"0SBXwx\");\n",
       "           window.letsPlotCall(function() {{\n",
       "               LetsPlot.buildPlotFromProcessedSpecs(plotSpec, -1, -1, plotContainer);\n",
       "           }});\n",
       "       })();\n",
       "   </script>"
      ],
      "text/plain": [
       "<lets_plot.plot.core.PlotSpec at 0x14e4dbf10>"
      ]
     },
     "execution_count": 13,
     "metadata": {},
     "output_type": "execute_result"
    }
   ],
   "source": [
    "ggplot(df) + \\\n",
    "    geom_pie(aes(fill='class', explode='explode'),\n",
    "             color='black', size=20, hole=.3,\n",
    "             labels=layer_labels(['class', '..count..']),\n",
    "             tooltips='none') + \\\n",
    "    scale_fill_gradient(low='dark_blue', high='light_green') + \\\n",
    "    theme_void() + theme(legend_position='none')"
   ]
  },
  {
   "attachments": {},
   "cell_type": "markdown",
   "metadata": {
    "datalore": {
     "hide_input_from_viewers": false,
     "hide_output_from_viewers": false,
     "node_id": "ns0fOMFMmSIC1kqaYbVy46",
     "report_properties": {
      "relativeY": 0,
      "rowId": "hepYNUB1Wc2ID3tkYYT45E"
     },
     "type": "MD"
    }
   },
   "source": [
    "### Annotations on Scatter Pie Plot"
   ]
  },
  {
   "cell_type": "code",
   "execution_count": 14,
   "metadata": {
    "datalore": {
     "hide_input_from_viewers": false,
     "hide_output_from_viewers": false,
     "node_id": "HxXS6gpkxFsBrTWHOJjS2m",
     "report_properties": {
      "relativeY": 0,
      "rowId": "Ed2XiT941UZO35QODwKR8h"
     },
     "type": "CODE"
    },
    "execution": {
     "iopub.execute_input": "2024-09-27T18:23:53.801058Z",
     "iopub.status.busy": "2024-09-27T18:23:53.800989Z",
     "iopub.status.idle": "2024-09-27T18:23:53.805346Z",
     "shell.execute_reply": "2024-09-27T18:23:53.805140Z"
    }
   },
   "outputs": [
    {
     "data": {
      "text/html": [
       "   <div id=\"KAShEI\"></div>\n",
       "   <script type=\"text/javascript\" data-lets-plot-script=\"plot\">\n",
       "       (function() {\n",
       "           var plotSpec={\n",
       "\"data\":{\n",
       "},\n",
       "\"mapping\":{\n",
       "\"x\":\"drv\",\n",
       "\"y\":\"year\"\n",
       "},\n",
       "\"data_meta\":{\n",
       "\"series_annotations\":[{\n",
       "\"type\":\"int\",\n",
       "\"column\":\"year\"\n",
       "},{\n",
       "\"type\":\"int\",\n",
       "\"column\":\"Unnamed: 0\"\n",
       "},{\n",
       "\"type\":\"str\",\n",
       "\"column\":\"manufacturer\"\n",
       "},{\n",
       "\"type\":\"str\",\n",
       "\"column\":\"model\"\n",
       "},{\n",
       "\"type\":\"float\",\n",
       "\"column\":\"displ\"\n",
       "},{\n",
       "\"type\":\"int\",\n",
       "\"column\":\"cyl\"\n",
       "},{\n",
       "\"type\":\"str\",\n",
       "\"column\":\"trans\"\n",
       "},{\n",
       "\"type\":\"str\",\n",
       "\"column\":\"drv\"\n",
       "},{\n",
       "\"type\":\"int\",\n",
       "\"column\":\"cty\"\n",
       "},{\n",
       "\"type\":\"int\",\n",
       "\"column\":\"hwy\"\n",
       "},{\n",
       "\"type\":\"str\",\n",
       "\"column\":\"fl\"\n",
       "},{\n",
       "\"type\":\"str\",\n",
       "\"column\":\"class\"\n",
       "},{\n",
       "\"type\":\"float\",\n",
       "\"column\":\"explode\"\n",
       "}],\n",
       "\"mapping_annotations\":[{\n",
       "\"parameters\":{\n",
       "\"label\":\"year\"\n",
       "},\n",
       "\"aes\":\"y\",\n",
       "\"annotation\":\"as_discrete\"\n",
       "}]\n",
       "},\n",
       "\"ggsize\":{\n",
       "\"width\":1000.0,\n",
       "\"height\":400.0\n",
       "},\n",
       "\"kind\":\"plot\",\n",
       "\"scales\":[],\n",
       "\"layers\":[{\n",
       "\"geom\":\"pie\",\n",
       "\"mapping\":{\n",
       "\"fill\":\"class\"\n",
       "},\n",
       "\"tooltips\":\"none\",\n",
       "\"data_meta\":{\n",
       "},\n",
       "\"labels\":{\n",
       "\"formats\":[],\n",
       "\"variables\":[\"..proppct..\"]\n",
       "},\n",
       "\"data\":{\n",
       "\"..count..\":[21.0,14.0,4.0,8.0,1.0,2.0,19.0,19.0,6.0,5.0,27.0,24.0,2.0,3.0,6.0,5.0,17.0,16.0,4.0,5.0,11.0,11.0,4.0],\n",
       "\"drv\":[\"f\",\"f\",\"4\",\"4\",\"4\",\"4\",\"f\",\"f\",\"r\",\"r\",\"4\",\"4\",\"r\",\"r\",\"f\",\"f\",\"4\",\"4\",\"r\",\"r\",\"f\",\"f\",\"4\"],\n",
       "\"year\":[1999.0,2008.0,1999.0,2008.0,1999.0,2008.0,1999.0,2008.0,2008.0,1999.0,2008.0,1999.0,1999.0,2008.0,1999.0,2008.0,2008.0,1999.0,1999.0,2008.0,1999.0,2008.0,1999.0],\n",
       "\"class\":[\"compact\",\"compact\",\"compact\",\"compact\",\"midsize\",\"midsize\",\"midsize\",\"midsize\",\"suv\",\"suv\",\"suv\",\"suv\",\"2seater\",\"2seater\",\"minivan\",\"minivan\",\"pickup\",\"pickup\",\"subcompact\",\"subcompact\",\"subcompact\",\"subcompact\",\"subcompact\"],\n",
       "\"..proppct..\":[36.84210526315789,28.57142857142857,8.16326530612245,14.814814814814813,2.0408163265306123,3.7037037037037033,33.33333333333333,38.775510204081634,42.857142857142854,45.45454545454545,50.0,48.97959183673469,18.181818181818183,21.428571428571427,10.526315789473683,10.204081632653061,31.48148148148148,32.6530612244898,36.36363636363637,35.714285714285715,19.298245614035086,22.448979591836736,8.16326530612245]\n",
       "}\n",
       "}],\n",
       "\"metainfo_list\":[]\n",
       "};\n",
       "           var plotContainer = document.getElementById(\"KAShEI\");\n",
       "           window.letsPlotCall(function() {{\n",
       "               LetsPlot.buildPlotFromProcessedSpecs(plotSpec, -1, -1, plotContainer);\n",
       "           }});\n",
       "       })();\n",
       "   </script>"
      ],
      "text/plain": [
       "<lets_plot.plot.core.PlotSpec at 0x14e4ebf70>"
      ]
     },
     "execution_count": 14,
     "metadata": {},
     "output_type": "execute_result"
    }
   ],
   "source": [
    "ggplot(df, aes('drv', as_discrete('year'))) + \\\n",
    "    geom_pie(aes(fill='class'),\n",
    "             labels=layer_labels(['..proppct..']),\n",
    "             tooltips='none') + \\\n",
    "    ggsize(1000, 400)"
   ]
  },
  {
   "attachments": {},
   "cell_type": "markdown",
   "metadata": {
    "datalore": {
     "hide_input_from_viewers": false,
     "hide_output_from_viewers": false,
     "node_id": "Lm5DBtWz5qzpZfOWl7watn",
     "report_properties": {
      "relativeY": 0,
      "rowId": "1TVGTmHZAl442dYCeWhGIo"
     },
     "type": "MD"
    }
   },
   "source": [
    "### Pie Chart with Variable Sector Sizes"
   ]
  },
  {
   "cell_type": "code",
   "execution_count": 15,
   "metadata": {
    "datalore": {
     "hide_input_from_viewers": false,
     "hide_output_from_viewers": false,
     "node_id": "Vxf6sklHk9ojSmO3FLKBwT",
     "report_properties": {
      "isDynamicHeight": true,
      "relativeY": 0,
      "rowId": "RYj0G5ZACiLQgedxmHeahf",
      "width": 0.5833333333333334,
      "x": 0
     },
     "type": "CODE"
    },
    "execution": {
     "iopub.execute_input": "2024-09-27T18:23:53.806329Z",
     "iopub.status.busy": "2024-09-27T18:23:53.806256Z",
     "iopub.status.idle": "2024-09-27T18:23:53.810598Z",
     "shell.execute_reply": "2024-09-27T18:23:53.810414Z"
    }
   },
   "outputs": [
    {
     "data": {
      "text/html": [
       "   <div id=\"Uv8Xod\"></div>\n",
       "   <script type=\"text/javascript\" data-lets-plot-script=\"plot\">\n",
       "       (function() {\n",
       "           var plotSpec={\n",
       "\"data\":{\n",
       "},\n",
       "\"mapping\":{\n",
       "},\n",
       "\"data_meta\":{\n",
       "\"series_annotations\":[{\n",
       "\"type\":\"int\",\n",
       "\"column\":\"Unnamed: 0\"\n",
       "},{\n",
       "\"type\":\"str\",\n",
       "\"column\":\"manufacturer\"\n",
       "},{\n",
       "\"type\":\"str\",\n",
       "\"column\":\"model\"\n",
       "},{\n",
       "\"type\":\"float\",\n",
       "\"column\":\"displ\"\n",
       "},{\n",
       "\"type\":\"int\",\n",
       "\"column\":\"year\"\n",
       "},{\n",
       "\"type\":\"int\",\n",
       "\"column\":\"cyl\"\n",
       "},{\n",
       "\"type\":\"str\",\n",
       "\"column\":\"trans\"\n",
       "},{\n",
       "\"type\":\"str\",\n",
       "\"column\":\"drv\"\n",
       "},{\n",
       "\"type\":\"int\",\n",
       "\"column\":\"cty\"\n",
       "},{\n",
       "\"type\":\"int\",\n",
       "\"column\":\"hwy\"\n",
       "},{\n",
       "\"type\":\"str\",\n",
       "\"column\":\"fl\"\n",
       "},{\n",
       "\"type\":\"str\",\n",
       "\"column\":\"class\"\n",
       "},{\n",
       "\"type\":\"float\",\n",
       "\"column\":\"explode\"\n",
       "}]\n",
       "},\n",
       "\"theme\":{\n",
       "\"name\":\"classic\",\n",
       "\"line\":\"blank\",\n",
       "\"axis\":\"blank\",\n",
       "\"legend_position\":\"none\"\n",
       "},\n",
       "\"kind\":\"plot\",\n",
       "\"scales\":[{\n",
       "\"aesthetic\":\"fill\",\n",
       "\"palette\":\"Dark2\",\n",
       "\"scale_mapper_kind\":\"color_brewer\"\n",
       "},{\n",
       "\"aesthetic\":\"size\",\n",
       "\"range\":[15.0,25.0]\n",
       "}],\n",
       "\"layers\":[{\n",
       "\"geom\":\"pie\",\n",
       "\"mapping\":{\n",
       "\"fill\":\"class\",\n",
       "\"size\":\"..count..\"\n",
       "},\n",
       "\"tooltips\":\"none\",\n",
       "\"data_meta\":{\n",
       "},\n",
       "\"labels\":{\n",
       "\"formats\":[],\n",
       "\"variables\":[\"class\",\"..count..\"]\n",
       "},\n",
       "\"data\":{\n",
       "\"..x..\":[0.0,0.0,0.0,0.0,0.0,0.0,0.0],\n",
       "\"..y..\":[0.0,0.0,0.0,0.0,0.0,0.0,0.0],\n",
       "\"..count..\":[47.0,41.0,62.0,5.0,11.0,33.0,35.0],\n",
       "\"class\":[\"compact\",\"midsize\",\"suv\",\"2seater\",\"minivan\",\"pickup\",\"subcompact\"]\n",
       "}\n",
       "}],\n",
       "\"metainfo_list\":[]\n",
       "};\n",
       "           var plotContainer = document.getElementById(\"Uv8Xod\");\n",
       "           window.letsPlotCall(function() {{\n",
       "               LetsPlot.buildPlotFromProcessedSpecs(plotSpec, -1, -1, plotContainer);\n",
       "           }});\n",
       "       })();\n",
       "   </script>"
      ],
      "text/plain": [
       "<lets_plot.plot.core.PlotSpec at 0x14e4fbb20>"
      ]
     },
     "execution_count": 15,
     "metadata": {},
     "output_type": "execute_result"
    }
   ],
   "source": [
    "ggplot(df) + \\\n",
    "    geom_pie(aes(fill='class', size='..count..'),\n",
    "             labels=layer_labels(['class', '..count..']),\n",
    "             tooltips='none') + \\\n",
    "    scale_fill_brewer(palette='Dark2') + \\\n",
    "    scale_size(range=[15, 25]) + \\\n",
    "    theme_void() + \\\n",
    "    theme(legend_position='none')"
   ]
  }
 ],
 "metadata": {
  "datalore": {
   "base_environment": "default",
   "computation_mode": "JUPYTER",
   "package_manager": "pip",
   "packages": [],
   "report_link": "https://datalore.jetbrains.com/report/HZqq77cegYd.E7get_WnChZ/5n70Ra4matSQVR2O4Dm4PH",
   "report_row_ids": [
    "JGl5CxxyTJEpW7Jq7jCsyD",
    "ch5dINayozHbE5y9qmIdsK",
    "rUgQctQXiJX92MsvH2z1Oy",
    "211gBKnANnfuqxW4FBZfmU",
    "6iq7OfxgmAmQZWt6pFjr5F",
    "reywORZa7twGePOrk5dHO3",
    "lCzP6xmjGnQhbFHubcyjgQ",
    "yCdzOruXncmI3pRJ7sWfRf",
    "nmD722soF2BhgO52TO4iwm",
    "jK6SV0ouj4vltAdIyq3v8m",
    "0F88mBTcmOUsnUqQ6r68pY",
    "Kpc5HzLD90CFsOpbONOvwo",
    "HF1TY4WfgESgoffZkAo8Ij",
    "OP4SPonsdcX9Qu2CiTZh1F",
    "W4lTU1iMrOSfLR4tm0cRYQ",
    "aUwSG91UQIUaRStQnYR8B4",
    "rxyCwIiIeP88MnfPOAu0uS",
    "CQKIbd93agZQen5mAisuf5",
    "L0ROQ8Had7oamro9NCkDdm",
    "IPLVCfHkirJCK2OzkrF8X4",
    "VzBhsfO2ts1E9o0fePrrZ3",
    "1c3gH3NWLiQnip9pCaipKK",
    "74cymIQbs4cKhnFNIqDq33",
    "obg0gPcaTmJwchvaLUVCDD",
    "ejCTHxuDuegSr0JZM5dYCK",
    "xzXdeZSbnitIzajMaS2p6o",
    "qqV7st5fWfSwixTVbew1iq",
    "uetNKCUeWY6VrMMcZ31Gcg",
    "hepYNUB1Wc2ID3tkYYT45E",
    "Ed2XiT941UZO35QODwKR8h",
    "1TVGTmHZAl442dYCeWhGIo",
    "RYj0G5ZACiLQgedxmHeahf"
   ],
   "version": 3
  },
  "kernelspec": {
   "display_name": "Python",
   "language": "python",
   "name": "python"
  },
  "language_info": {
   "codemirror_mode": {
    "name": "ipython",
    "version": 3
   },
   "file_extension": ".py",
   "mimetype": "text/x-python",
   "name": "python",
   "nbconvert_exporter": "python",
   "pygments_lexer": "ipython3",
   "version": "3.10.15"
  }
 },
 "nbformat": 4,
 "nbformat_minor": 4
}
