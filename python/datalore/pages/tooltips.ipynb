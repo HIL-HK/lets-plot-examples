{
 "cells":[
  {
   "cell_type":"markdown",
   "source":[
    "# Tooltip Customization"
   ],
   "attachments":{},
   "metadata":{
    "datalore":{
     "node_id":"9YNxvtm71M2Q1zKENi4JVr",
     "type":"MD",
     "hide_input_from_viewers":false,
     "hide_output_from_viewers":false,
     "report_properties":{
      "rowId":"2zkugXd1072jfqZdevBxp7",
      "relativeY":0
     }
    }
   }
  },
  {
   "cell_type":"markdown",
   "source":[
    "You can customize the content of tooltips for the layer by using the parameter ``tooltips`` of ``geom`` functions.\n",
    "\n",
    "The following functions set lines, define formatting of the tooltip, its location and width:\n",
    "\n",
    "```python\n",
    "tooltips=layer_tooltips(variables)\n",
    "    .format(field, format)\n",
    "    .line(template)\n",
    "    .title(value)\n",
    "    .anchor(position)\n",
    "    .min_width(value)\n",
    "```"
   ],
   "attachments":{},
   "metadata":{
    "datalore":{
     "node_id":"uBfZNDlQCLRTx2BcqClftc",
     "type":"MD",
     "hide_input_from_viewers":false,
     "hide_output_from_viewers":false,
     "report_properties":{
      "rowId":"2wLAHbkQxpPLwCZCEYp3Vz",
      "relativeY":0
     }
    }
   }
  },
  {
   "cell_type":"markdown",
   "source":[
    "## Tooltip Variable List: `layer_tooltips(variables=['var_name_1', ..., 'var_name_N'])`\n",
    "\n",
    "The `variables` parameter defines a list of variable names, which values will be placed line by line in the general tooltip. If formatting is specified for a variable from this list (with the `format()` function), it will be applied. Otherwise, the default formatting is used. Additional tooltip lines can be specified using the `line()` functions."
   ],
   "attachments":{},
   "metadata":{
    "datalore":{
     "node_id":"7TdSwQiDSAW5MLUn1dMKyz",
     "type":"MD",
     "hide_input_from_viewers":false,
     "hide_output_from_viewers":false,
     "report_properties":{
      "rowId":"XaFCqyhS9T3dIacjsCcNP4",
      "relativeY":0
     }
    }
   }
  },
  {
   "cell_type":"markdown",
   "source":[
    "## Formatting Tooltip Fields: `layer_tooltips().format(field, format)`\n",
    "\n",
    "Defines the format for displaying the value.\n",
    "The format will be applied to the mapped value in the default tooltip or to the corresponding value specified in the `line` template."
   ],
   "attachments":{},
   "metadata":{
    "datalore":{
     "node_id":"JYmLXwbXxfYbGtndqonVMH",
     "type":"MD",
     "hide_input_from_viewers":false,
     "hide_output_from_viewers":false,
     "report_properties":{
      "rowId":"rapko9X0isuAOEcr8byt2T",
      "relativeY":0
     }
    }
   }
  },
  {
   "cell_type":"markdown",
   "source":[
    "### Arguments\n",
    "\n",
    "- `field` (string): The name of the variable\/aesthetics. The field name begins with `^` for aesthetics. You can specify variable names without a prefix, but the `@` prefix can be also used. It's possible to set a format for all positional aesthetics: `^X` (all positional x) and `^Y` (all positional y). For example:\n",
    "\n",
    "  - `field = '^Y'` - for all Y-axis aesthetic, e.g. `y`, `ymin`, `ymax` etc.;\n",
    "  - `field = '^y'` - for y aesthetic;\n",
    "  - `field = 'y'` - for variable with the name \"y\".\n",
    "\n",
    "- `format` (string): The format to apply to the field. The format contains a number format (`'1.f'`) or a string template (`'{.1f}'`). The numeric format for non-numeric value will be ignored. The string template contains \"replacement fields\" surrounded by curly braces `{}`. Any code that is not in the braces is considered literal text, and it will be copied unchanged to the result string. If you need to include a brace character into the literal text, it can be escaped by doubling: \\{\\{ and \\}\\}. For example:\n",
    "\n",
    "  - `.format('^color', '.1f')` -> `\"17.0\"`;\n",
    "  - `.format('cty', '{.2f} (mpg)'))` -> `\"17.00 (mpg)\"`;\n",
    "  - `.format('^color', '{{{.2f}}}')` -> `\"{17.00}\"`;\n",
    "  - `.format('model', '{} {{text}}')` -> `\"mustang {text}\"`.\n",
    "\n",
    "The string template in the `format` parameter will allow changing lines for the default tooltip without `line` specifying.\n",
    "\n",
    "Variable's and aesthetic's formats are not interchangeable, for example, `var` format will not be applied to `aes` mapped to this variable."
   ],
   "outputs":[
    {
     "ename":"SyntaxError",
     "evalue":"SyntaxError: invalid syntax (<ipython-input-6-5a24560c94b2>, line 1)",
     "traceback":[
      "\u001b[0;31m---------------------------------------------------------------------------",
      "Traceback (most recent call last)",
      "SyntaxError: invalid syntax (<ipython-input-6-5a24560c94b2>, line 1)"
     ],
     "output_type":"error"
    }
   ],
   "attachments":{},
   "metadata":{
    "datalore":{
     "node_id":"ZQ3GqvXZct6D0QEuxFReUW",
     "type":"MD",
     "hide_input_from_viewers":false,
     "hide_output_from_viewers":false,
     "report_properties":{
      "rowId":"UNGDhMWMESQJhQu4KLGmsi",
      "relativeY":0
     }
    }
   }
  },
  {
   "cell_type":"markdown",
   "source":[
    "## Customizing Tooltip Lines: `layer_tooltips().line(template)`\n",
    "\n",
    "Specifies the string template to use in a general tooltip. If you add `line()`, it overrides the default tooltip.\n",
    "\n",
    "Variables and aesthetics can be accessed via a special syntax:\n",
    "\n",
    "- `^color` for aesthetic;\n",
    "- `@year` for variable;\n",
    "- `@{number of cylinders}` for a variable with spaces or non-word characters in the name;\n",
    "- `@..count..` for statistics variables.\n",
    "\n",
    "A `'^'` symbol can be escaped with a backslash; a brace character in the literal text - by doubling:\n",
    "\n",
    "- `.line('text')` -> `\"text\"`;\n",
    "- `.line('\\^text')` -> `\"^text\"`;\n",
    "- `.line('{{text}}')` -> `\"{text}\"`;\n",
    "- `.line('@model')` -> `\"mustang\"`;\n",
    "- `.line('{{@model}}')` -> `\"{mustang}\"`."
   ],
   "outputs":[
    {
     "ename":"SyntaxError",
     "evalue":"SyntaxError: invalid syntax (<ipython-input-9-877c1c0576bc>, line 1)",
     "traceback":[
      "\u001b[0;31m---------------------------------------------------------------------------",
      "Traceback (most recent call last)",
      "SyntaxError: invalid syntax (<ipython-input-9-877c1c0576bc>, line 1)"
     ],
     "output_type":"error"
    }
   ],
   "attachments":{},
   "metadata":{
    "datalore":{
     "node_id":"W1idA71P8Ig5dZLXhNDvQj",
     "type":"MD",
     "hide_input_from_viewers":false,
     "hide_output_from_viewers":false,
     "report_properties":{
      "rowId":"IHSqznlxRTUc8ifAkfXGRB",
      "relativeY":0
     }
    }
   }
  },
  {
   "cell_type":"markdown",
   "source":[
    "### Labels Configuration\n",
    "\n",
    "The default tooltip has a label before the value usually containing the name of the mapped variable.\n",
    "It has its own behavior similar to a blank label for an axis aesthetics. \n",
    "This default label can be set in the template by using a pair of symbols `@|`.\n",
    "You can override the label by specifying a string value before `|` symbol.\n",
    "\n",
    "Within the tooltip line, you can align a label to left. The string formed by a template can be aligned to right.\n",
    "If you do not specify a label, the string will be centered in the tooltip. For example:\n",
    "\n",
    "- `line('^color')`: no label, value is centered;\n",
    "- `line('|^color')`: label is empty, value is right-aligned;\n",
    "- `line('@|^color')`: default label is used, value is right-aligned;\n",
    "- `line('my label|^color')`: label is specified, value is right-aligned."
   ],
   "attachments":{},
   "metadata":{
    "datalore":{
     "node_id":"31kkicbHl5LUL2fK3CZaSp",
     "type":"MD",
     "hide_input_from_viewers":false,
     "hide_output_from_viewers":false,
     "report_properties":{
      "rowId":"4MFVTtxwmlo0hGvywOIr0g",
      "relativeY":0
     }
    }
   }
  },
  {
   "cell_type":"markdown",
   "source":[
    "## Tooltip Title: `layer_tooltips().title(text)`\n",
    "\n",
    "Adds a title template to the tooltip.\n",
    "\n",
    "The specification rules are the same as for the `lines()` function.\n",
    "\n",
    "A long title can be split into multiple lines using `\\n` as a text separator."
   ],
   "attachments":{},
   "metadata":{
    "datalore":{
     "node_id":"SzyK1qBgt8XmUjAc8Ijekk",
     "type":"MD",
     "hide_input_from_viewers":false,
     "hide_output_from_viewers":false,
     "report_properties":{
      "rowId":"fIlpw4Xp2ajBqg0nHWBx0v",
      "relativeY":0
     }
    }
   }
  },
  {
   "cell_type":"markdown",
   "source":[
    "## Tooltip Anchor: `layer_tooltips().anchor(position)`\n",
    "\n",
    "Specifies a fixed position for a general tooltip.\n",
    "\n",
    "The `anchor()` function accepts the following values:\n",
    "\n",
    "- 'top_right'\n",
    "- 'top_center'\n",
    "- 'top_left' \n",
    "- 'bottom_right' \n",
    "- 'bottom_center'\n",
    "- 'bottom_left'\n",
    "- 'middle_right'\n",
    "- 'middle_center' \n",
    "- 'middle_left'"
   ],
   "attachments":{},
   "metadata":{
    "datalore":{
     "node_id":"5e9LvIrsp66WS1qTOIu0Tc",
     "type":"MD",
     "hide_input_from_viewers":false,
     "hide_output_from_viewers":false,
     "report_properties":{
      "rowId":"MUCFUu8CaS79dzGAnxsK3L",
      "relativeY":0
     }
    }
   }
  },
  {
   "cell_type":"markdown",
   "source":[
    "## Minimum Width of a General Tooltip: `layer_tooltips().min_width(value)`\n",
    "\n",
    "Specifies a minimum width of a general tooltip in pixels."
   ],
   "attachments":{},
   "metadata":{
    "datalore":{
     "node_id":"drzawdMiBvaJZLqM3jwOPZ",
     "type":"MD",
     "hide_input_from_viewers":false,
     "hide_output_from_viewers":false,
     "report_properties":{
      "rowId":"HmlmtTrhh3U4u32gMKK6tK",
      "relativeY":0
     }
    }
   }
  },
  {
   "cell_type":"markdown",
   "source":[
    "## Configure Tooltips Using API [Similar to the Annotation Labels Configuration API](https:\/\/datalore.jetbrains.com\/report\/static\/HZqq77cegYd.E7get_WnChZ\/5n70Ra4matSQVR2O4Dm4PH)"
   ],
   "attachments":{},
   "metadata":{
    "datalore":{
     "node_id":"kySeoqfY2KvthOp2Zxjmam",
     "type":"MD",
     "hide_input_from_viewers":false,
     "hide_output_from_viewers":false,
     "report_properties":{
      "rowId":"v3SlZGkSjztB6rN7z9INS8",
      "relativeY":0
     }
    }
   }
  },
  {
   "cell_type":"code",
   "source":[
    "import pandas as pd\n",
    "\n",
    "from lets_plot import *"
   ],
   "execution_count":10,
   "outputs":[],
   "metadata":{
    "datalore":{
     "node_id":"ifgeLg8MUprEYV6XHDaeKn",
     "type":"CODE",
     "hide_input_from_viewers":false,
     "hide_output_from_viewers":false,
     "report_properties":{
      "rowId":"Z11xlbHvnHWFiG3iIMWxhk",
      "relativeY":0
     }
    }
   }
  },
  {
   "cell_type":"code",
   "source":[
    "LetsPlot.setup_html()"
   ],
   "execution_count":11,
   "outputs":[],
   "metadata":{
    "datalore":{
     "node_id":"W18xehwr94CxOyVd2X4imJ",
     "type":"CODE",
     "hide_input_from_viewers":false,
     "hide_output_from_viewers":false,
     "report_properties":{
      "rowId":"2oJsbqToUcZoxLoPxBoJH9",
      "relativeY":0
     }
    }
   }
  },
  {
   "cell_type":"code",
   "source":[
    "df = pd.read_csv('https:\/\/raw.githubusercontent.com\/JetBrains\/lets-plot-docs\/master\/data\/mpg.csv')"
   ],
   "execution_count":12,
   "outputs":[],
   "metadata":{
    "datalore":{
     "node_id":"Xb2OwmVh6D0n5wPFFyvgK7",
     "type":"CODE",
     "hide_input_from_viewers":false,
     "hide_output_from_viewers":false,
     "report_properties":{
      "rowId":"UTaEmUbS0GkssnRtjgsMSj",
      "relativeY":0
     }
    }
   }
  },
  {
   "cell_type":"code",
   "source":[
    "ggplot(df) + geom_point(aes(x='displ', y='cty', fill='drv', size='hwy'),\n",
    "                        shape=21, color='black',\n",
    "                        tooltips=layer_tooltips().format('cty', '.1f')\n",
    "                                                 .format('hwy', '.1f')\n",
    "                                                 .format('drv', '{}wd')\n",
    "                                                 .line('@manufacturer @model')\n",
    "                                                 .line('cty\/hwy|@cty\/@hwy')\n",
    "                                                 .line('@|@class')\n",
    "                                                 .line('drive train|@drv')\n",
    "                                                 .line('@|@year'))"
   ],
   "execution_count":13,
   "outputs":[
    {
     "data":{
      "text\/html":[
       "<html lang=\"en\">\n",
       "   <head>\n",
       "       <meta charset=\"UTF-8\">\n",
       "       <script type=\"text\/javascript\" data-lets-plot-script=\"library\" src=\"https:\/\/cdn.jsdelivr.net\/gh\/JetBrains\/lets-plot@v4.3.3\/js-package\/distr\/lets-plot.min.js\"><\/script>\n",
       "   <\/head>\n",
       "   <body>\n",
       "          <div id=\"ZhZAUp\"><\/div>\n",
       "   <script type=\"text\/javascript\" data-lets-plot-script=\"plot\">\n",
       "       var plotSpec={\n",
       "\"data\":{\n",
       "\"manufacturer\":[\"audi\",\"audi\",\"audi\",\"audi\",\"audi\",\"audi\",\"audi\",\"audi\",\"audi\",\"audi\",\"audi\",\"audi\",\"audi\",\"audi\",\"audi\",\"audi\",\"audi\",\"audi\",\"chevrolet\",\"chevrolet\",\"chevrolet\",\"chevrolet\",\"chevrolet\",\"chevrolet\",\"chevrolet\",\"chevrolet\",\"chevrolet\",\"chevrolet\",\"chevrolet\",\"chevrolet\",\"chevrolet\",\"chevrolet\",\"chevrolet\",\"chevrolet\",\"chevrolet\",\"chevrolet\",\"chevrolet\",\"dodge\",\"dodge\",\"dodge\",\"dodge\",\"dodge\",\"dodge\",\"dodge\",\"dodge\",\"dodge\",\"dodge\",\"dodge\",\"dodge\",\"dodge\",\"dodge\",\"dodge\",\"dodge\",\"dodge\",\"dodge\",\"dodge\",\"dodge\",\"dodge\",\"dodge\",\"dodge\",\"dodge\",\"dodge\",\"dodge\",\"dodge\",\"dodge\",\"dodge\",\"dodge\",\"dodge\",\"dodge\",\"dodge\",\"dodge\",\"dodge\",\"dodge\",\"dodge\",\"ford\",\"ford\",\"ford\",\"ford\",\"ford\",\"ford\",\"ford\",\"ford\",\"ford\",\"ford\",\"ford\",\"ford\",\"ford\",\"ford\",\"ford\",\"ford\",\"ford\",\"ford\",\"ford\",\"ford\",\"ford\",\"ford\",\"ford\",\"ford\",\"ford\",\"honda\",\"honda\",\"honda\",\"honda\",\"honda\",\"honda\",\"honda\",\"honda\",\"honda\",\"hyundai\",\"hyundai\",\"hyundai\",\"hyundai\",\"hyundai\",\"hyundai\",\"hyundai\",\"hyundai\",\"hyundai\",\"hyundai\",\"hyundai\",\"hyundai\",\"hyundai\",\"hyundai\",\"jeep\",\"jeep\",\"jeep\",\"jeep\",\"jeep\",\"jeep\",\"jeep\",\"jeep\",\"land rover\",\"land rover\",\"land rover\",\"land rover\",\"lincoln\",\"lincoln\",\"lincoln\",\"mercury\",\"mercury\",\"mercury\",\"mercury\",\"nissan\",\"nissan\",\"nissan\",\"nissan\",\"nissan\",\"nissan\",\"nissan\",\"nissan\",\"nissan\",\"nissan\",\"nissan\",\"nissan\",\"nissan\",\"pontiac\",\"pontiac\",\"pontiac\",\"pontiac\",\"pontiac\",\"subaru\",\"subaru\",\"subaru\",\"subaru\",\"subaru\",\"subaru\",\"subaru\",\"subaru\",\"subaru\",\"subaru\",\"subaru\",\"subaru\",\"subaru\",\"subaru\",\"toyota\",\"toyota\",\"toyota\",\"toyota\",\"toyota\",\"toyota\",\"toyota\",\"toyota\",\"toyota\",\"toyota\",\"toyota\",\"toyota\",\"toyota\",\"toyota\",\"toyota\",\"toyota\",\"toyota\",\"toyota\",\"toyota\",\"toyota\",\"toyota\",\"toyota\",\"toyota\",\"toyota\",\"toyota\",\"toyota\",\"toyota\",\"toyota\",\"toyota\",\"toyota\",\"toyota\",\"toyota\",\"toyota\",\"toyota\",\"volkswagen\",\"volkswagen\",\"volkswagen\",\"volkswagen\",\"volkswagen\",\"volkswagen\",\"volkswagen\",\"volkswagen\",\"volkswagen\",\"volkswagen\",\"volkswagen\",\"volkswagen\",\"volkswagen\",\"volkswagen\",\"volkswagen\",\"volkswagen\",\"volkswagen\",\"volkswagen\",\"volkswagen\",\"volkswagen\",\"volkswagen\",\"volkswagen\",\"volkswagen\",\"volkswagen\",\"volkswagen\",\"volkswagen\",\"volkswagen\"],\n",
       "\"model\":[\"a4\",\"a4\",\"a4\",\"a4\",\"a4\",\"a4\",\"a4\",\"a4 quattro\",\"a4 quattro\",\"a4 quattro\",\"a4 quattro\",\"a4 quattro\",\"a4 quattro\",\"a4 quattro\",\"a4 quattro\",\"a6 quattro\",\"a6 quattro\",\"a6 quattro\",\"c1500 suburban 2wd\",\"c1500 suburban 2wd\",\"c1500 suburban 2wd\",\"c1500 suburban 2wd\",\"c1500 suburban 2wd\",\"corvette\",\"corvette\",\"corvette\",\"corvette\",\"corvette\",\"k1500 tahoe 4wd\",\"k1500 tahoe 4wd\",\"k1500 tahoe 4wd\",\"k1500 tahoe 4wd\",\"malibu\",\"malibu\",\"malibu\",\"malibu\",\"malibu\",\"caravan 2wd\",\"caravan 2wd\",\"caravan 2wd\",\"caravan 2wd\",\"caravan 2wd\",\"caravan 2wd\",\"caravan 2wd\",\"caravan 2wd\",\"caravan 2wd\",\"caravan 2wd\",\"caravan 2wd\",\"dakota pickup 4wd\",\"dakota pickup 4wd\",\"dakota pickup 4wd\",\"dakota pickup 4wd\",\"dakota pickup 4wd\",\"dakota pickup 4wd\",\"dakota pickup 4wd\",\"dakota pickup 4wd\",\"dakota pickup 4wd\",\"durango 4wd\",\"durango 4wd\",\"durango 4wd\",\"durango 4wd\",\"durango 4wd\",\"durango 4wd\",\"durango 4wd\",\"ram 1500 pickup 4wd\",\"ram 1500 pickup 4wd\",\"ram 1500 pickup 4wd\",\"ram 1500 pickup 4wd\",\"ram 1500 pickup 4wd\",\"ram 1500 pickup 4wd\",\"ram 1500 pickup 4wd\",\"ram 1500 pickup 4wd\",\"ram 1500 pickup 4wd\",\"ram 1500 pickup 4wd\",\"expedition 2wd\",\"expedition 2wd\",\"expedition 2wd\",\"explorer 4wd\",\"explorer 4wd\",\"explorer 4wd\",\"explorer 4wd\",\"explorer 4wd\",\"explorer 4wd\",\"f150 pickup 4wd\",\"f150 pickup 4wd\",\"f150 pickup 4wd\",\"f150 pickup 4wd\",\"f150 pickup 4wd\",\"f150 pickup 4wd\",\"f150 pickup 4wd\",\"mustang\",\"mustang\",\"mustang\",\"mustang\",\"mustang\",\"mustang\",\"mustang\",\"mustang\",\"mustang\",\"civic\",\"civic\",\"civic\",\"civic\",\"civic\",\"civic\",\"civic\",\"civic\",\"civic\",\"sonata\",\"sonata\",\"sonata\",\"sonata\",\"sonata\",\"sonata\",\"sonata\",\"tiburon\",\"tiburon\",\"tiburon\",\"tiburon\",\"tiburon\",\"tiburon\",\"tiburon\",\"grand cherokee 4wd\",\"grand cherokee 4wd\",\"grand cherokee 4wd\",\"grand cherokee 4wd\",\"grand cherokee 4wd\",\"grand cherokee 4wd\",\"grand cherokee 4wd\",\"grand cherokee 4wd\",\"range rover\",\"range rover\",\"range rover\",\"range rover\",\"navigator 2wd\",\"navigator 2wd\",\"navigator 2wd\",\"mountaineer 4wd\",\"mountaineer 4wd\",\"mountaineer 4wd\",\"mountaineer 4wd\",\"altima\",\"altima\",\"altima\",\"altima\",\"altima\",\"altima\",\"maxima\",\"maxima\",\"maxima\",\"pathfinder 4wd\",\"pathfinder 4wd\",\"pathfinder 4wd\",\"pathfinder 4wd\",\"grand prix\",\"grand prix\",\"grand prix\",\"grand prix\",\"grand prix\",\"forester awd\",\"forester awd\",\"forester awd\",\"forester awd\",\"forester awd\",\"forester awd\",\"impreza awd\",\"impreza awd\",\"impreza awd\",\"impreza awd\",\"impreza awd\",\"impreza awd\",\"impreza awd\",\"impreza awd\",\"4runner 4wd\",\"4runner 4wd\",\"4runner 4wd\",\"4runner 4wd\",\"4runner 4wd\",\"4runner 4wd\",\"camry\",\"camry\",\"camry\",\"camry\",\"camry\",\"camry\",\"camry\",\"camry solara\",\"camry solara\",\"camry solara\",\"camry solara\",\"camry solara\",\"camry solara\",\"camry solara\",\"corolla\",\"corolla\",\"corolla\",\"corolla\",\"corolla\",\"land cruiser wagon 4wd\",\"land cruiser wagon 4wd\",\"toyota tacoma 4wd\",\"toyota tacoma 4wd\",\"toyota tacoma 4wd\",\"toyota tacoma 4wd\",\"toyota tacoma 4wd\",\"toyota tacoma 4wd\",\"toyota tacoma 4wd\",\"gti\",\"gti\",\"gti\",\"gti\",\"gti\",\"jetta\",\"jetta\",\"jetta\",\"jetta\",\"jetta\",\"jetta\",\"jetta\",\"jetta\",\"jetta\",\"new beetle\",\"new beetle\",\"new beetle\",\"new beetle\",\"new beetle\",\"new beetle\",\"passat\",\"passat\",\"passat\",\"passat\",\"passat\",\"passat\",\"passat\"],\n",
       "\"displ\":[1.8,1.8,2.0,2.0,2.8,2.8,3.1,1.8,1.8,2.0,2.0,2.8,2.8,3.1,3.1,2.8,3.1,4.2,5.3,5.3,5.3,5.7,6.0,5.7,5.7,6.2,6.2,7.0,5.3,5.3,5.7,6.5,2.4,2.4,3.1,3.5,3.6,2.4,3.0,3.3,3.3,3.3,3.3,3.3,3.8,3.8,3.8,4.0,3.7,3.7,3.9,3.9,4.7,4.7,4.7,5.2,5.2,3.9,4.7,4.7,4.7,5.2,5.7,5.9,4.7,4.7,4.7,4.7,4.7,4.7,5.2,5.2,5.7,5.9,4.6,5.4,5.4,4.0,4.0,4.0,4.0,4.6,5.0,4.2,4.2,4.6,4.6,4.6,5.4,5.4,3.8,3.8,4.0,4.0,4.6,4.6,4.6,4.6,5.4,1.6,1.6,1.6,1.6,1.6,1.8,1.8,1.8,2.0,2.4,2.4,2.4,2.4,2.5,2.5,3.3,2.0,2.0,2.0,2.0,2.7,2.7,2.7,3.0,3.7,4.0,4.7,4.7,4.7,5.7,6.1,4.0,4.2,4.4,4.6,5.4,5.4,5.4,4.0,4.0,4.6,5.0,2.4,2.4,2.5,2.5,3.5,3.5,3.0,3.0,3.5,3.3,3.3,4.0,5.6,3.1,3.8,3.8,3.8,5.3,2.5,2.5,2.5,2.5,2.5,2.5,2.2,2.2,2.5,2.5,2.5,2.5,2.5,2.5,2.7,2.7,3.4,3.4,4.0,4.7,2.2,2.2,2.4,2.4,3.0,3.0,3.5,2.2,2.2,2.4,2.4,3.0,3.0,3.3,1.8,1.8,1.8,1.8,1.8,4.7,5.7,2.7,2.7,2.7,3.4,3.4,4.0,4.0,2.0,2.0,2.0,2.0,2.8,1.9,2.0,2.0,2.0,2.0,2.5,2.5,2.8,2.8,1.9,1.9,2.0,2.0,2.5,2.5,1.8,1.8,2.0,2.0,2.8,2.8,3.6],\n",
       "\"year\":[1999.0,1999.0,2008.0,2008.0,1999.0,1999.0,2008.0,1999.0,1999.0,2008.0,2008.0,1999.0,1999.0,2008.0,2008.0,1999.0,2008.0,2008.0,2008.0,2008.0,2008.0,1999.0,2008.0,1999.0,1999.0,2008.0,2008.0,2008.0,2008.0,2008.0,1999.0,1999.0,1999.0,2008.0,1999.0,2008.0,2008.0,1999.0,1999.0,1999.0,1999.0,2008.0,2008.0,2008.0,1999.0,1999.0,2008.0,2008.0,2008.0,2008.0,1999.0,1999.0,2008.0,2008.0,2008.0,1999.0,1999.0,1999.0,2008.0,2008.0,2008.0,1999.0,2008.0,1999.0,2008.0,2008.0,2008.0,2008.0,2008.0,2008.0,1999.0,1999.0,2008.0,1999.0,1999.0,1999.0,2008.0,1999.0,1999.0,1999.0,2008.0,2008.0,1999.0,1999.0,1999.0,1999.0,1999.0,2008.0,1999.0,2008.0,1999.0,1999.0,2008.0,2008.0,1999.0,1999.0,2008.0,2008.0,2008.0,1999.0,1999.0,1999.0,1999.0,1999.0,2008.0,2008.0,2008.0,2008.0,1999.0,1999.0,2008.0,2008.0,1999.0,1999.0,2008.0,1999.0,1999.0,2008.0,2008.0,2008.0,2008.0,2008.0,2008.0,2008.0,1999.0,1999.0,2008.0,2008.0,2008.0,2008.0,1999.0,2008.0,2008.0,1999.0,1999.0,1999.0,2008.0,1999.0,2008.0,2008.0,1999.0,1999.0,1999.0,2008.0,2008.0,2008.0,2008.0,1999.0,1999.0,2008.0,1999.0,1999.0,2008.0,2008.0,1999.0,1999.0,1999.0,2008.0,2008.0,1999.0,1999.0,2008.0,2008.0,2008.0,2008.0,1999.0,1999.0,1999.0,1999.0,2008.0,2008.0,2008.0,2008.0,1999.0,1999.0,1999.0,1999.0,2008.0,2008.0,1999.0,1999.0,2008.0,2008.0,1999.0,1999.0,2008.0,1999.0,1999.0,2008.0,2008.0,1999.0,1999.0,2008.0,1999.0,1999.0,1999.0,2008.0,2008.0,1999.0,2008.0,1999.0,1999.0,2008.0,1999.0,1999.0,2008.0,2008.0,1999.0,1999.0,2008.0,2008.0,1999.0,1999.0,1999.0,1999.0,2008.0,2008.0,2008.0,2008.0,1999.0,1999.0,1999.0,1999.0,1999.0,1999.0,2008.0,2008.0,1999.0,1999.0,2008.0,2008.0,1999.0,1999.0,2008.0],\n",
       "\"drv\":[\"f\",\"f\",\"f\",\"f\",\"f\",\"f\",\"f\",\"4\",\"4\",\"4\",\"4\",\"4\",\"4\",\"4\",\"4\",\"4\",\"4\",\"4\",\"r\",\"r\",\"r\",\"r\",\"r\",\"r\",\"r\",\"r\",\"r\",\"r\",\"4\",\"4\",\"4\",\"4\",\"f\",\"f\",\"f\",\"f\",\"f\",\"f\",\"f\",\"f\",\"f\",\"f\",\"f\",\"f\",\"f\",\"f\",\"f\",\"f\",\"4\",\"4\",\"4\",\"4\",\"4\",\"4\",\"4\",\"4\",\"4\",\"4\",\"4\",\"4\",\"4\",\"4\",\"4\",\"4\",\"4\",\"4\",\"4\",\"4\",\"4\",\"4\",\"4\",\"4\",\"4\",\"4\",\"r\",\"r\",\"r\",\"4\",\"4\",\"4\",\"4\",\"4\",\"4\",\"4\",\"4\",\"4\",\"4\",\"4\",\"4\",\"4\",\"r\",\"r\",\"r\",\"r\",\"r\",\"r\",\"r\",\"r\",\"r\",\"f\",\"f\",\"f\",\"f\",\"f\",\"f\",\"f\",\"f\",\"f\",\"f\",\"f\",\"f\",\"f\",\"f\",\"f\",\"f\",\"f\",\"f\",\"f\",\"f\",\"f\",\"f\",\"f\",\"4\",\"4\",\"4\",\"4\",\"4\",\"4\",\"4\",\"4\",\"4\",\"4\",\"4\",\"4\",\"r\",\"r\",\"r\",\"4\",\"4\",\"4\",\"4\",\"f\",\"f\",\"f\",\"f\",\"f\",\"f\",\"f\",\"f\",\"f\",\"4\",\"4\",\"4\",\"4\",\"f\",\"f\",\"f\",\"f\",\"f\",\"4\",\"4\",\"4\",\"4\",\"4\",\"4\",\"4\",\"4\",\"4\",\"4\",\"4\",\"4\",\"4\",\"4\",\"4\",\"4\",\"4\",\"4\",\"4\",\"4\",\"f\",\"f\",\"f\",\"f\",\"f\",\"f\",\"f\",\"f\",\"f\",\"f\",\"f\",\"f\",\"f\",\"f\",\"f\",\"f\",\"f\",\"f\",\"f\",\"4\",\"4\",\"4\",\"4\",\"4\",\"4\",\"4\",\"4\",\"4\",\"f\",\"f\",\"f\",\"f\",\"f\",\"f\",\"f\",\"f\",\"f\",\"f\",\"f\",\"f\",\"f\",\"f\",\"f\",\"f\",\"f\",\"f\",\"f\",\"f\",\"f\",\"f\",\"f\",\"f\",\"f\",\"f\",\"f\"],\n",
       "\"cty\":[18.0,21.0,20.0,21.0,16.0,18.0,18.0,18.0,16.0,20.0,19.0,15.0,17.0,17.0,15.0,15.0,17.0,16.0,14.0,11.0,14.0,13.0,12.0,16.0,15.0,16.0,15.0,15.0,14.0,11.0,11.0,14.0,19.0,22.0,18.0,18.0,17.0,18.0,17.0,16.0,16.0,17.0,17.0,11.0,15.0,15.0,16.0,16.0,15.0,14.0,13.0,14.0,14.0,14.0,9.0,11.0,11.0,13.0,13.0,9.0,13.0,11.0,13.0,11.0,12.0,9.0,13.0,13.0,12.0,9.0,11.0,11.0,13.0,11.0,11.0,11.0,12.0,14.0,15.0,14.0,13.0,13.0,13.0,14.0,14.0,13.0,13.0,13.0,11.0,13.0,18.0,18.0,17.0,16.0,15.0,15.0,15.0,15.0,14.0,28.0,24.0,25.0,23.0,24.0,26.0,25.0,24.0,21.0,18.0,18.0,21.0,21.0,18.0,18.0,19.0,19.0,19.0,20.0,20.0,17.0,16.0,17.0,17.0,15.0,15.0,14.0,9.0,14.0,13.0,11.0,11.0,12.0,12.0,11.0,11.0,11.0,12.0,14.0,13.0,13.0,13.0,21.0,19.0,23.0,23.0,19.0,19.0,18.0,19.0,19.0,14.0,15.0,14.0,12.0,18.0,16.0,17.0,18.0,16.0,18.0,18.0,20.0,19.0,20.0,18.0,21.0,19.0,19.0,19.0,20.0,20.0,19.0,20.0,15.0,16.0,15.0,15.0,16.0,14.0,21.0,21.0,21.0,21.0,18.0,18.0,19.0,21.0,21.0,21.0,22.0,18.0,18.0,18.0,24.0,24.0,26.0,28.0,26.0,11.0,13.0,15.0,16.0,17.0,15.0,15.0,15.0,16.0,21.0,19.0,21.0,22.0,17.0,33.0,21.0,19.0,22.0,21.0,21.0,21.0,16.0,17.0,35.0,29.0,21.0,19.0,20.0,20.0,21.0,18.0,19.0,21.0,16.0,18.0,17.0],\n",
       "\"hwy\":[29.0,29.0,31.0,30.0,26.0,26.0,27.0,26.0,25.0,28.0,27.0,25.0,25.0,25.0,25.0,24.0,25.0,23.0,20.0,15.0,20.0,17.0,17.0,26.0,23.0,26.0,25.0,24.0,19.0,14.0,15.0,17.0,27.0,30.0,26.0,29.0,26.0,24.0,24.0,22.0,22.0,24.0,24.0,17.0,22.0,21.0,23.0,23.0,19.0,18.0,17.0,17.0,19.0,19.0,12.0,17.0,15.0,17.0,17.0,12.0,17.0,16.0,18.0,15.0,16.0,12.0,17.0,17.0,16.0,12.0,15.0,16.0,17.0,15.0,17.0,17.0,18.0,17.0,19.0,17.0,19.0,19.0,17.0,17.0,17.0,16.0,16.0,17.0,15.0,17.0,26.0,25.0,26.0,24.0,21.0,22.0,23.0,22.0,20.0,33.0,32.0,32.0,29.0,32.0,34.0,36.0,36.0,29.0,26.0,27.0,30.0,31.0,26.0,26.0,28.0,26.0,29.0,28.0,27.0,24.0,24.0,24.0,22.0,19.0,20.0,17.0,12.0,19.0,18.0,14.0,15.0,18.0,18.0,15.0,17.0,16.0,18.0,17.0,19.0,19.0,17.0,29.0,27.0,31.0,32.0,27.0,26.0,26.0,25.0,25.0,17.0,17.0,20.0,18.0,26.0,26.0,27.0,28.0,25.0,25.0,24.0,27.0,25.0,26.0,23.0,26.0,26.0,26.0,26.0,25.0,27.0,25.0,27.0,20.0,20.0,19.0,17.0,20.0,17.0,29.0,27.0,31.0,31.0,26.0,26.0,28.0,27.0,29.0,31.0,31.0,26.0,26.0,27.0,30.0,33.0,35.0,37.0,35.0,15.0,18.0,20.0,20.0,22.0,17.0,19.0,18.0,20.0,29.0,26.0,29.0,29.0,24.0,44.0,29.0,26.0,29.0,29.0,29.0,29.0,23.0,24.0,44.0,41.0,29.0,26.0,28.0,29.0,29.0,29.0,28.0,29.0,26.0,26.0,26.0],\n",
       "\"class\":[\"compact\",\"compact\",\"compact\",\"compact\",\"compact\",\"compact\",\"compact\",\"compact\",\"compact\",\"compact\",\"compact\",\"compact\",\"compact\",\"compact\",\"compact\",\"midsize\",\"midsize\",\"midsize\",\"suv\",\"suv\",\"suv\",\"suv\",\"suv\",\"2seater\",\"2seater\",\"2seater\",\"2seater\",\"2seater\",\"suv\",\"suv\",\"suv\",\"suv\",\"midsize\",\"midsize\",\"midsize\",\"midsize\",\"midsize\",\"minivan\",\"minivan\",\"minivan\",\"minivan\",\"minivan\",\"minivan\",\"minivan\",\"minivan\",\"minivan\",\"minivan\",\"minivan\",\"pickup\",\"pickup\",\"pickup\",\"pickup\",\"pickup\",\"pickup\",\"pickup\",\"pickup\",\"pickup\",\"suv\",\"suv\",\"suv\",\"suv\",\"suv\",\"suv\",\"suv\",\"pickup\",\"pickup\",\"pickup\",\"pickup\",\"pickup\",\"pickup\",\"pickup\",\"pickup\",\"pickup\",\"pickup\",\"suv\",\"suv\",\"suv\",\"suv\",\"suv\",\"suv\",\"suv\",\"suv\",\"suv\",\"pickup\",\"pickup\",\"pickup\",\"pickup\",\"pickup\",\"pickup\",\"pickup\",\"subcompact\",\"subcompact\",\"subcompact\",\"subcompact\",\"subcompact\",\"subcompact\",\"subcompact\",\"subcompact\",\"subcompact\",\"subcompact\",\"subcompact\",\"subcompact\",\"subcompact\",\"subcompact\",\"subcompact\",\"subcompact\",\"subcompact\",\"subcompact\",\"midsize\",\"midsize\",\"midsize\",\"midsize\",\"midsize\",\"midsize\",\"midsize\",\"subcompact\",\"subcompact\",\"subcompact\",\"subcompact\",\"subcompact\",\"subcompact\",\"subcompact\",\"suv\",\"suv\",\"suv\",\"suv\",\"suv\",\"suv\",\"suv\",\"suv\",\"suv\",\"suv\",\"suv\",\"suv\",\"suv\",\"suv\",\"suv\",\"suv\",\"suv\",\"suv\",\"suv\",\"compact\",\"compact\",\"midsize\",\"midsize\",\"midsize\",\"midsize\",\"midsize\",\"midsize\",\"midsize\",\"suv\",\"suv\",\"suv\",\"suv\",\"midsize\",\"midsize\",\"midsize\",\"midsize\",\"midsize\",\"suv\",\"suv\",\"suv\",\"suv\",\"suv\",\"suv\",\"subcompact\",\"subcompact\",\"subcompact\",\"subcompact\",\"compact\",\"compact\",\"compact\",\"compact\",\"suv\",\"suv\",\"suv\",\"suv\",\"suv\",\"suv\",\"midsize\",\"midsize\",\"midsize\",\"midsize\",\"midsize\",\"midsize\",\"midsize\",\"compact\",\"compact\",\"compact\",\"compact\",\"compact\",\"compact\",\"compact\",\"compact\",\"compact\",\"compact\",\"compact\",\"compact\",\"suv\",\"suv\",\"pickup\",\"pickup\",\"pickup\",\"pickup\",\"pickup\",\"pickup\",\"pickup\",\"compact\",\"compact\",\"compact\",\"compact\",\"compact\",\"compact\",\"compact\",\"compact\",\"compact\",\"compact\",\"compact\",\"compact\",\"compact\",\"compact\",\"subcompact\",\"subcompact\",\"subcompact\",\"subcompact\",\"subcompact\",\"subcompact\",\"midsize\",\"midsize\",\"midsize\",\"midsize\",\"midsize\",\"midsize\",\"midsize\"]\n",
       "},\n",
       "\"mapping\":{\n",
       "},\n",
       "\"data_meta\":{\n",
       "},\n",
       "\"kind\":\"plot\",\n",
       "\"scales\":[],\n",
       "\"layers\":[{\n",
       "\"geom\":\"point\",\n",
       "\"mapping\":{\n",
       "\"x\":\"displ\",\n",
       "\"y\":\"cty\",\n",
       "\"fill\":\"drv\",\n",
       "\"size\":\"hwy\"\n",
       "},\n",
       "\"tooltips\":{\n",
       "\"formats\":[{\n",
       "\"field\":\"cty\",\n",
       "\"format\":\".1f\"\n",
       "},{\n",
       "\"field\":\"hwy\",\n",
       "\"format\":\".1f\"\n",
       "},{\n",
       "\"field\":\"drv\",\n",
       "\"format\":\"{}wd\"\n",
       "}],\n",
       "\"lines\":[\"@manufacturer @model\",\"cty\/hwy|@cty\/@hwy\",\"@|@class\",\"drive train|@drv\",\"@|@year\"]\n",
       "},\n",
       "\"data_meta\":{\n",
       "},\n",
       "\"shape\":21.0,\n",
       "\"color\":\"black\",\n",
       "\"data\":{\n",
       "}\n",
       "}],\n",
       "\"metainfo_list\":[]\n",
       "};\n",
       "       var plotContainer = document.getElementById(\"ZhZAUp\");\n",
       "       LetsPlot.buildPlotFromProcessedSpecs(plotSpec, -1, -1, plotContainer);\n",
       "   <\/script>\n",
       "   <\/body>\n",
       "<\/html>"
      ]
     },
     "metadata":{},
     "output_type":"display_data"
    }
   ],
   "metadata":{
    "datalore":{
     "node_id":"wVF3KdIaKjXsBnwi0hdWlC",
     "type":"CODE",
     "hide_input_from_viewers":false,
     "hide_output_from_viewers":false,
     "report_properties":{
      "rowId":"2ZdL62arjblMSpuuj65hNG",
      "relativeY":0
     }
    }
   }
  },
  {
   "cell_type":"markdown",
   "source":[
    "Change format for the default tooltip:"
   ],
   "attachments":{},
   "metadata":{
    "datalore":{
     "node_id":"IIW2z9Xuva8uNLJ8UvUzaW",
     "type":"MD",
     "hide_input_from_viewers":false,
     "hide_output_from_viewers":false,
     "report_properties":{
      "rowId":"SSR4HiA9anAczVKWgMrBKR",
      "relativeY":0
     }
    }
   }
  },
  {
   "cell_type":"code",
   "source":[
    "ggplot(df) + geom_point(aes(x='displ', y='cty', fill='drv', size='hwy'),\n",
    "                        shape=21, color='black',\n",
    "                        tooltips=layer_tooltips().format('^fill', '{.2f} (mpg)'))"
   ],
   "execution_count":14,
   "outputs":[
    {
     "data":{
      "text\/html":[
       "<html lang=\"en\">\n",
       "   <head>\n",
       "       <meta charset=\"UTF-8\">\n",
       "       <script type=\"text\/javascript\" data-lets-plot-script=\"library\" src=\"https:\/\/cdn.jsdelivr.net\/gh\/JetBrains\/lets-plot@v4.3.3\/js-package\/distr\/lets-plot.min.js\"><\/script>\n",
       "   <\/head>\n",
       "   <body>\n",
       "          <div id=\"9LyZdC\"><\/div>\n",
       "   <script type=\"text\/javascript\" data-lets-plot-script=\"plot\">\n",
       "       var plotSpec={\n",
       "\"data\":{\n",
       "\"displ\":[1.8,1.8,2.0,2.0,2.8,2.8,3.1,1.8,1.8,2.0,2.0,2.8,2.8,3.1,3.1,2.8,3.1,4.2,5.3,5.3,5.3,5.7,6.0,5.7,5.7,6.2,6.2,7.0,5.3,5.3,5.7,6.5,2.4,2.4,3.1,3.5,3.6,2.4,3.0,3.3,3.3,3.3,3.3,3.3,3.8,3.8,3.8,4.0,3.7,3.7,3.9,3.9,4.7,4.7,4.7,5.2,5.2,3.9,4.7,4.7,4.7,5.2,5.7,5.9,4.7,4.7,4.7,4.7,4.7,4.7,5.2,5.2,5.7,5.9,4.6,5.4,5.4,4.0,4.0,4.0,4.0,4.6,5.0,4.2,4.2,4.6,4.6,4.6,5.4,5.4,3.8,3.8,4.0,4.0,4.6,4.6,4.6,4.6,5.4,1.6,1.6,1.6,1.6,1.6,1.8,1.8,1.8,2.0,2.4,2.4,2.4,2.4,2.5,2.5,3.3,2.0,2.0,2.0,2.0,2.7,2.7,2.7,3.0,3.7,4.0,4.7,4.7,4.7,5.7,6.1,4.0,4.2,4.4,4.6,5.4,5.4,5.4,4.0,4.0,4.6,5.0,2.4,2.4,2.5,2.5,3.5,3.5,3.0,3.0,3.5,3.3,3.3,4.0,5.6,3.1,3.8,3.8,3.8,5.3,2.5,2.5,2.5,2.5,2.5,2.5,2.2,2.2,2.5,2.5,2.5,2.5,2.5,2.5,2.7,2.7,3.4,3.4,4.0,4.7,2.2,2.2,2.4,2.4,3.0,3.0,3.5,2.2,2.2,2.4,2.4,3.0,3.0,3.3,1.8,1.8,1.8,1.8,1.8,4.7,5.7,2.7,2.7,2.7,3.4,3.4,4.0,4.0,2.0,2.0,2.0,2.0,2.8,1.9,2.0,2.0,2.0,2.0,2.5,2.5,2.8,2.8,1.9,1.9,2.0,2.0,2.5,2.5,1.8,1.8,2.0,2.0,2.8,2.8,3.6],\n",
       "\"drv\":[\"f\",\"f\",\"f\",\"f\",\"f\",\"f\",\"f\",\"4\",\"4\",\"4\",\"4\",\"4\",\"4\",\"4\",\"4\",\"4\",\"4\",\"4\",\"r\",\"r\",\"r\",\"r\",\"r\",\"r\",\"r\",\"r\",\"r\",\"r\",\"4\",\"4\",\"4\",\"4\",\"f\",\"f\",\"f\",\"f\",\"f\",\"f\",\"f\",\"f\",\"f\",\"f\",\"f\",\"f\",\"f\",\"f\",\"f\",\"f\",\"4\",\"4\",\"4\",\"4\",\"4\",\"4\",\"4\",\"4\",\"4\",\"4\",\"4\",\"4\",\"4\",\"4\",\"4\",\"4\",\"4\",\"4\",\"4\",\"4\",\"4\",\"4\",\"4\",\"4\",\"4\",\"4\",\"r\",\"r\",\"r\",\"4\",\"4\",\"4\",\"4\",\"4\",\"4\",\"4\",\"4\",\"4\",\"4\",\"4\",\"4\",\"4\",\"r\",\"r\",\"r\",\"r\",\"r\",\"r\",\"r\",\"r\",\"r\",\"f\",\"f\",\"f\",\"f\",\"f\",\"f\",\"f\",\"f\",\"f\",\"f\",\"f\",\"f\",\"f\",\"f\",\"f\",\"f\",\"f\",\"f\",\"f\",\"f\",\"f\",\"f\",\"f\",\"4\",\"4\",\"4\",\"4\",\"4\",\"4\",\"4\",\"4\",\"4\",\"4\",\"4\",\"4\",\"r\",\"r\",\"r\",\"4\",\"4\",\"4\",\"4\",\"f\",\"f\",\"f\",\"f\",\"f\",\"f\",\"f\",\"f\",\"f\",\"4\",\"4\",\"4\",\"4\",\"f\",\"f\",\"f\",\"f\",\"f\",\"4\",\"4\",\"4\",\"4\",\"4\",\"4\",\"4\",\"4\",\"4\",\"4\",\"4\",\"4\",\"4\",\"4\",\"4\",\"4\",\"4\",\"4\",\"4\",\"4\",\"f\",\"f\",\"f\",\"f\",\"f\",\"f\",\"f\",\"f\",\"f\",\"f\",\"f\",\"f\",\"f\",\"f\",\"f\",\"f\",\"f\",\"f\",\"f\",\"4\",\"4\",\"4\",\"4\",\"4\",\"4\",\"4\",\"4\",\"4\",\"f\",\"f\",\"f\",\"f\",\"f\",\"f\",\"f\",\"f\",\"f\",\"f\",\"f\",\"f\",\"f\",\"f\",\"f\",\"f\",\"f\",\"f\",\"f\",\"f\",\"f\",\"f\",\"f\",\"f\",\"f\",\"f\",\"f\"],\n",
       "\"cty\":[18.0,21.0,20.0,21.0,16.0,18.0,18.0,18.0,16.0,20.0,19.0,15.0,17.0,17.0,15.0,15.0,17.0,16.0,14.0,11.0,14.0,13.0,12.0,16.0,15.0,16.0,15.0,15.0,14.0,11.0,11.0,14.0,19.0,22.0,18.0,18.0,17.0,18.0,17.0,16.0,16.0,17.0,17.0,11.0,15.0,15.0,16.0,16.0,15.0,14.0,13.0,14.0,14.0,14.0,9.0,11.0,11.0,13.0,13.0,9.0,13.0,11.0,13.0,11.0,12.0,9.0,13.0,13.0,12.0,9.0,11.0,11.0,13.0,11.0,11.0,11.0,12.0,14.0,15.0,14.0,13.0,13.0,13.0,14.0,14.0,13.0,13.0,13.0,11.0,13.0,18.0,18.0,17.0,16.0,15.0,15.0,15.0,15.0,14.0,28.0,24.0,25.0,23.0,24.0,26.0,25.0,24.0,21.0,18.0,18.0,21.0,21.0,18.0,18.0,19.0,19.0,19.0,20.0,20.0,17.0,16.0,17.0,17.0,15.0,15.0,14.0,9.0,14.0,13.0,11.0,11.0,12.0,12.0,11.0,11.0,11.0,12.0,14.0,13.0,13.0,13.0,21.0,19.0,23.0,23.0,19.0,19.0,18.0,19.0,19.0,14.0,15.0,14.0,12.0,18.0,16.0,17.0,18.0,16.0,18.0,18.0,20.0,19.0,20.0,18.0,21.0,19.0,19.0,19.0,20.0,20.0,19.0,20.0,15.0,16.0,15.0,15.0,16.0,14.0,21.0,21.0,21.0,21.0,18.0,18.0,19.0,21.0,21.0,21.0,22.0,18.0,18.0,18.0,24.0,24.0,26.0,28.0,26.0,11.0,13.0,15.0,16.0,17.0,15.0,15.0,15.0,16.0,21.0,19.0,21.0,22.0,17.0,33.0,21.0,19.0,22.0,21.0,21.0,21.0,16.0,17.0,35.0,29.0,21.0,19.0,20.0,20.0,21.0,18.0,19.0,21.0,16.0,18.0,17.0],\n",
       "\"hwy\":[29.0,29.0,31.0,30.0,26.0,26.0,27.0,26.0,25.0,28.0,27.0,25.0,25.0,25.0,25.0,24.0,25.0,23.0,20.0,15.0,20.0,17.0,17.0,26.0,23.0,26.0,25.0,24.0,19.0,14.0,15.0,17.0,27.0,30.0,26.0,29.0,26.0,24.0,24.0,22.0,22.0,24.0,24.0,17.0,22.0,21.0,23.0,23.0,19.0,18.0,17.0,17.0,19.0,19.0,12.0,17.0,15.0,17.0,17.0,12.0,17.0,16.0,18.0,15.0,16.0,12.0,17.0,17.0,16.0,12.0,15.0,16.0,17.0,15.0,17.0,17.0,18.0,17.0,19.0,17.0,19.0,19.0,17.0,17.0,17.0,16.0,16.0,17.0,15.0,17.0,26.0,25.0,26.0,24.0,21.0,22.0,23.0,22.0,20.0,33.0,32.0,32.0,29.0,32.0,34.0,36.0,36.0,29.0,26.0,27.0,30.0,31.0,26.0,26.0,28.0,26.0,29.0,28.0,27.0,24.0,24.0,24.0,22.0,19.0,20.0,17.0,12.0,19.0,18.0,14.0,15.0,18.0,18.0,15.0,17.0,16.0,18.0,17.0,19.0,19.0,17.0,29.0,27.0,31.0,32.0,27.0,26.0,26.0,25.0,25.0,17.0,17.0,20.0,18.0,26.0,26.0,27.0,28.0,25.0,25.0,24.0,27.0,25.0,26.0,23.0,26.0,26.0,26.0,26.0,25.0,27.0,25.0,27.0,20.0,20.0,19.0,17.0,20.0,17.0,29.0,27.0,31.0,31.0,26.0,26.0,28.0,27.0,29.0,31.0,31.0,26.0,26.0,27.0,30.0,33.0,35.0,37.0,35.0,15.0,18.0,20.0,20.0,22.0,17.0,19.0,18.0,20.0,29.0,26.0,29.0,29.0,24.0,44.0,29.0,26.0,29.0,29.0,29.0,29.0,23.0,24.0,44.0,41.0,29.0,26.0,28.0,29.0,29.0,29.0,28.0,29.0,26.0,26.0,26.0]\n",
       "},\n",
       "\"mapping\":{\n",
       "},\n",
       "\"data_meta\":{\n",
       "},\n",
       "\"kind\":\"plot\",\n",
       "\"scales\":[],\n",
       "\"layers\":[{\n",
       "\"geom\":\"point\",\n",
       "\"mapping\":{\n",
       "\"x\":\"displ\",\n",
       "\"y\":\"cty\",\n",
       "\"fill\":\"drv\",\n",
       "\"size\":\"hwy\"\n",
       "},\n",
       "\"tooltips\":{\n",
       "\"formats\":[{\n",
       "\"field\":\"^fill\",\n",
       "\"format\":\"{.2f} (mpg)\"\n",
       "}]\n",
       "},\n",
       "\"data_meta\":{\n",
       "},\n",
       "\"shape\":21.0,\n",
       "\"color\":\"black\",\n",
       "\"data\":{\n",
       "}\n",
       "}],\n",
       "\"metainfo_list\":[]\n",
       "};\n",
       "       var plotContainer = document.getElementById(\"9LyZdC\");\n",
       "       LetsPlot.buildPlotFromProcessedSpecs(plotSpec, -1, -1, plotContainer);\n",
       "   <\/script>\n",
       "   <\/body>\n",
       "<\/html>"
      ]
     },
     "metadata":{},
     "output_type":"display_data"
    }
   ],
   "metadata":{
    "datalore":{
     "node_id":"PNPSEg8IBfd2wQXMcrcqWo",
     "type":"CODE",
     "hide_input_from_viewers":false,
     "hide_output_from_viewers":false,
     "report_properties":{
      "rowId":"4FmzQxp0Lc24LjV36hKQZj",
      "relativeY":0
     }
    }
   }
  },
  {
   "cell_type":"markdown",
   "source":[
    "Set list of variables to place them in a multiline tooltip with the default formatting:"
   ],
   "attachments":{},
   "metadata":{
    "datalore":{
     "node_id":"mHUOSUFn4qyd1MtPGJUtVJ",
     "type":"MD",
     "hide_input_from_viewers":false,
     "hide_output_from_viewers":false,
     "report_properties":{
      "rowId":"9ytl36KMePCWmIym7dlXGs",
      "relativeY":0
     }
    }
   }
  },
  {
   "cell_type":"code",
   "source":[
    "ggplot(df) + geom_point(aes(x='displ', y='cty', fill='drv', size='hwy'),\n",
    "                        shape=21, color='black',\n",
    "                        tooltips=layer_tooltips(['manufacturer', 'model', 'class', 'drv']))"
   ],
   "execution_count":15,
   "outputs":[
    {
     "data":{
      "text\/html":[
       "<html lang=\"en\">\n",
       "   <head>\n",
       "       <meta charset=\"UTF-8\">\n",
       "       <script type=\"text\/javascript\" data-lets-plot-script=\"library\" src=\"https:\/\/cdn.jsdelivr.net\/gh\/JetBrains\/lets-plot@v4.3.3\/js-package\/distr\/lets-plot.min.js\"><\/script>\n",
       "   <\/head>\n",
       "   <body>\n",
       "          <div id=\"wZ7gUi\"><\/div>\n",
       "   <script type=\"text\/javascript\" data-lets-plot-script=\"plot\">\n",
       "       var plotSpec={\n",
       "\"data\":{\n",
       "\"manufacturer\":[\"audi\",\"audi\",\"audi\",\"audi\",\"audi\",\"audi\",\"audi\",\"audi\",\"audi\",\"audi\",\"audi\",\"audi\",\"audi\",\"audi\",\"audi\",\"audi\",\"audi\",\"audi\",\"chevrolet\",\"chevrolet\",\"chevrolet\",\"chevrolet\",\"chevrolet\",\"chevrolet\",\"chevrolet\",\"chevrolet\",\"chevrolet\",\"chevrolet\",\"chevrolet\",\"chevrolet\",\"chevrolet\",\"chevrolet\",\"chevrolet\",\"chevrolet\",\"chevrolet\",\"chevrolet\",\"chevrolet\",\"dodge\",\"dodge\",\"dodge\",\"dodge\",\"dodge\",\"dodge\",\"dodge\",\"dodge\",\"dodge\",\"dodge\",\"dodge\",\"dodge\",\"dodge\",\"dodge\",\"dodge\",\"dodge\",\"dodge\",\"dodge\",\"dodge\",\"dodge\",\"dodge\",\"dodge\",\"dodge\",\"dodge\",\"dodge\",\"dodge\",\"dodge\",\"dodge\",\"dodge\",\"dodge\",\"dodge\",\"dodge\",\"dodge\",\"dodge\",\"dodge\",\"dodge\",\"dodge\",\"ford\",\"ford\",\"ford\",\"ford\",\"ford\",\"ford\",\"ford\",\"ford\",\"ford\",\"ford\",\"ford\",\"ford\",\"ford\",\"ford\",\"ford\",\"ford\",\"ford\",\"ford\",\"ford\",\"ford\",\"ford\",\"ford\",\"ford\",\"ford\",\"ford\",\"honda\",\"honda\",\"honda\",\"honda\",\"honda\",\"honda\",\"honda\",\"honda\",\"honda\",\"hyundai\",\"hyundai\",\"hyundai\",\"hyundai\",\"hyundai\",\"hyundai\",\"hyundai\",\"hyundai\",\"hyundai\",\"hyundai\",\"hyundai\",\"hyundai\",\"hyundai\",\"hyundai\",\"jeep\",\"jeep\",\"jeep\",\"jeep\",\"jeep\",\"jeep\",\"jeep\",\"jeep\",\"land rover\",\"land rover\",\"land rover\",\"land rover\",\"lincoln\",\"lincoln\",\"lincoln\",\"mercury\",\"mercury\",\"mercury\",\"mercury\",\"nissan\",\"nissan\",\"nissan\",\"nissan\",\"nissan\",\"nissan\",\"nissan\",\"nissan\",\"nissan\",\"nissan\",\"nissan\",\"nissan\",\"nissan\",\"pontiac\",\"pontiac\",\"pontiac\",\"pontiac\",\"pontiac\",\"subaru\",\"subaru\",\"subaru\",\"subaru\",\"subaru\",\"subaru\",\"subaru\",\"subaru\",\"subaru\",\"subaru\",\"subaru\",\"subaru\",\"subaru\",\"subaru\",\"toyota\",\"toyota\",\"toyota\",\"toyota\",\"toyota\",\"toyota\",\"toyota\",\"toyota\",\"toyota\",\"toyota\",\"toyota\",\"toyota\",\"toyota\",\"toyota\",\"toyota\",\"toyota\",\"toyota\",\"toyota\",\"toyota\",\"toyota\",\"toyota\",\"toyota\",\"toyota\",\"toyota\",\"toyota\",\"toyota\",\"toyota\",\"toyota\",\"toyota\",\"toyota\",\"toyota\",\"toyota\",\"toyota\",\"toyota\",\"volkswagen\",\"volkswagen\",\"volkswagen\",\"volkswagen\",\"volkswagen\",\"volkswagen\",\"volkswagen\",\"volkswagen\",\"volkswagen\",\"volkswagen\",\"volkswagen\",\"volkswagen\",\"volkswagen\",\"volkswagen\",\"volkswagen\",\"volkswagen\",\"volkswagen\",\"volkswagen\",\"volkswagen\",\"volkswagen\",\"volkswagen\",\"volkswagen\",\"volkswagen\",\"volkswagen\",\"volkswagen\",\"volkswagen\",\"volkswagen\"],\n",
       "\"model\":[\"a4\",\"a4\",\"a4\",\"a4\",\"a4\",\"a4\",\"a4\",\"a4 quattro\",\"a4 quattro\",\"a4 quattro\",\"a4 quattro\",\"a4 quattro\",\"a4 quattro\",\"a4 quattro\",\"a4 quattro\",\"a6 quattro\",\"a6 quattro\",\"a6 quattro\",\"c1500 suburban 2wd\",\"c1500 suburban 2wd\",\"c1500 suburban 2wd\",\"c1500 suburban 2wd\",\"c1500 suburban 2wd\",\"corvette\",\"corvette\",\"corvette\",\"corvette\",\"corvette\",\"k1500 tahoe 4wd\",\"k1500 tahoe 4wd\",\"k1500 tahoe 4wd\",\"k1500 tahoe 4wd\",\"malibu\",\"malibu\",\"malibu\",\"malibu\",\"malibu\",\"caravan 2wd\",\"caravan 2wd\",\"caravan 2wd\",\"caravan 2wd\",\"caravan 2wd\",\"caravan 2wd\",\"caravan 2wd\",\"caravan 2wd\",\"caravan 2wd\",\"caravan 2wd\",\"caravan 2wd\",\"dakota pickup 4wd\",\"dakota pickup 4wd\",\"dakota pickup 4wd\",\"dakota pickup 4wd\",\"dakota pickup 4wd\",\"dakota pickup 4wd\",\"dakota pickup 4wd\",\"dakota pickup 4wd\",\"dakota pickup 4wd\",\"durango 4wd\",\"durango 4wd\",\"durango 4wd\",\"durango 4wd\",\"durango 4wd\",\"durango 4wd\",\"durango 4wd\",\"ram 1500 pickup 4wd\",\"ram 1500 pickup 4wd\",\"ram 1500 pickup 4wd\",\"ram 1500 pickup 4wd\",\"ram 1500 pickup 4wd\",\"ram 1500 pickup 4wd\",\"ram 1500 pickup 4wd\",\"ram 1500 pickup 4wd\",\"ram 1500 pickup 4wd\",\"ram 1500 pickup 4wd\",\"expedition 2wd\",\"expedition 2wd\",\"expedition 2wd\",\"explorer 4wd\",\"explorer 4wd\",\"explorer 4wd\",\"explorer 4wd\",\"explorer 4wd\",\"explorer 4wd\",\"f150 pickup 4wd\",\"f150 pickup 4wd\",\"f150 pickup 4wd\",\"f150 pickup 4wd\",\"f150 pickup 4wd\",\"f150 pickup 4wd\",\"f150 pickup 4wd\",\"mustang\",\"mustang\",\"mustang\",\"mustang\",\"mustang\",\"mustang\",\"mustang\",\"mustang\",\"mustang\",\"civic\",\"civic\",\"civic\",\"civic\",\"civic\",\"civic\",\"civic\",\"civic\",\"civic\",\"sonata\",\"sonata\",\"sonata\",\"sonata\",\"sonata\",\"sonata\",\"sonata\",\"tiburon\",\"tiburon\",\"tiburon\",\"tiburon\",\"tiburon\",\"tiburon\",\"tiburon\",\"grand cherokee 4wd\",\"grand cherokee 4wd\",\"grand cherokee 4wd\",\"grand cherokee 4wd\",\"grand cherokee 4wd\",\"grand cherokee 4wd\",\"grand cherokee 4wd\",\"grand cherokee 4wd\",\"range rover\",\"range rover\",\"range rover\",\"range rover\",\"navigator 2wd\",\"navigator 2wd\",\"navigator 2wd\",\"mountaineer 4wd\",\"mountaineer 4wd\",\"mountaineer 4wd\",\"mountaineer 4wd\",\"altima\",\"altima\",\"altima\",\"altima\",\"altima\",\"altima\",\"maxima\",\"maxima\",\"maxima\",\"pathfinder 4wd\",\"pathfinder 4wd\",\"pathfinder 4wd\",\"pathfinder 4wd\",\"grand prix\",\"grand prix\",\"grand prix\",\"grand prix\",\"grand prix\",\"forester awd\",\"forester awd\",\"forester awd\",\"forester awd\",\"forester awd\",\"forester awd\",\"impreza awd\",\"impreza awd\",\"impreza awd\",\"impreza awd\",\"impreza awd\",\"impreza awd\",\"impreza awd\",\"impreza awd\",\"4runner 4wd\",\"4runner 4wd\",\"4runner 4wd\",\"4runner 4wd\",\"4runner 4wd\",\"4runner 4wd\",\"camry\",\"camry\",\"camry\",\"camry\",\"camry\",\"camry\",\"camry\",\"camry solara\",\"camry solara\",\"camry solara\",\"camry solara\",\"camry solara\",\"camry solara\",\"camry solara\",\"corolla\",\"corolla\",\"corolla\",\"corolla\",\"corolla\",\"land cruiser wagon 4wd\",\"land cruiser wagon 4wd\",\"toyota tacoma 4wd\",\"toyota tacoma 4wd\",\"toyota tacoma 4wd\",\"toyota tacoma 4wd\",\"toyota tacoma 4wd\",\"toyota tacoma 4wd\",\"toyota tacoma 4wd\",\"gti\",\"gti\",\"gti\",\"gti\",\"gti\",\"jetta\",\"jetta\",\"jetta\",\"jetta\",\"jetta\",\"jetta\",\"jetta\",\"jetta\",\"jetta\",\"new beetle\",\"new beetle\",\"new beetle\",\"new beetle\",\"new beetle\",\"new beetle\",\"passat\",\"passat\",\"passat\",\"passat\",\"passat\",\"passat\",\"passat\"],\n",
       "\"displ\":[1.8,1.8,2.0,2.0,2.8,2.8,3.1,1.8,1.8,2.0,2.0,2.8,2.8,3.1,3.1,2.8,3.1,4.2,5.3,5.3,5.3,5.7,6.0,5.7,5.7,6.2,6.2,7.0,5.3,5.3,5.7,6.5,2.4,2.4,3.1,3.5,3.6,2.4,3.0,3.3,3.3,3.3,3.3,3.3,3.8,3.8,3.8,4.0,3.7,3.7,3.9,3.9,4.7,4.7,4.7,5.2,5.2,3.9,4.7,4.7,4.7,5.2,5.7,5.9,4.7,4.7,4.7,4.7,4.7,4.7,5.2,5.2,5.7,5.9,4.6,5.4,5.4,4.0,4.0,4.0,4.0,4.6,5.0,4.2,4.2,4.6,4.6,4.6,5.4,5.4,3.8,3.8,4.0,4.0,4.6,4.6,4.6,4.6,5.4,1.6,1.6,1.6,1.6,1.6,1.8,1.8,1.8,2.0,2.4,2.4,2.4,2.4,2.5,2.5,3.3,2.0,2.0,2.0,2.0,2.7,2.7,2.7,3.0,3.7,4.0,4.7,4.7,4.7,5.7,6.1,4.0,4.2,4.4,4.6,5.4,5.4,5.4,4.0,4.0,4.6,5.0,2.4,2.4,2.5,2.5,3.5,3.5,3.0,3.0,3.5,3.3,3.3,4.0,5.6,3.1,3.8,3.8,3.8,5.3,2.5,2.5,2.5,2.5,2.5,2.5,2.2,2.2,2.5,2.5,2.5,2.5,2.5,2.5,2.7,2.7,3.4,3.4,4.0,4.7,2.2,2.2,2.4,2.4,3.0,3.0,3.5,2.2,2.2,2.4,2.4,3.0,3.0,3.3,1.8,1.8,1.8,1.8,1.8,4.7,5.7,2.7,2.7,2.7,3.4,3.4,4.0,4.0,2.0,2.0,2.0,2.0,2.8,1.9,2.0,2.0,2.0,2.0,2.5,2.5,2.8,2.8,1.9,1.9,2.0,2.0,2.5,2.5,1.8,1.8,2.0,2.0,2.8,2.8,3.6],\n",
       "\"drv\":[\"f\",\"f\",\"f\",\"f\",\"f\",\"f\",\"f\",\"4\",\"4\",\"4\",\"4\",\"4\",\"4\",\"4\",\"4\",\"4\",\"4\",\"4\",\"r\",\"r\",\"r\",\"r\",\"r\",\"r\",\"r\",\"r\",\"r\",\"r\",\"4\",\"4\",\"4\",\"4\",\"f\",\"f\",\"f\",\"f\",\"f\",\"f\",\"f\",\"f\",\"f\",\"f\",\"f\",\"f\",\"f\",\"f\",\"f\",\"f\",\"4\",\"4\",\"4\",\"4\",\"4\",\"4\",\"4\",\"4\",\"4\",\"4\",\"4\",\"4\",\"4\",\"4\",\"4\",\"4\",\"4\",\"4\",\"4\",\"4\",\"4\",\"4\",\"4\",\"4\",\"4\",\"4\",\"r\",\"r\",\"r\",\"4\",\"4\",\"4\",\"4\",\"4\",\"4\",\"4\",\"4\",\"4\",\"4\",\"4\",\"4\",\"4\",\"r\",\"r\",\"r\",\"r\",\"r\",\"r\",\"r\",\"r\",\"r\",\"f\",\"f\",\"f\",\"f\",\"f\",\"f\",\"f\",\"f\",\"f\",\"f\",\"f\",\"f\",\"f\",\"f\",\"f\",\"f\",\"f\",\"f\",\"f\",\"f\",\"f\",\"f\",\"f\",\"4\",\"4\",\"4\",\"4\",\"4\",\"4\",\"4\",\"4\",\"4\",\"4\",\"4\",\"4\",\"r\",\"r\",\"r\",\"4\",\"4\",\"4\",\"4\",\"f\",\"f\",\"f\",\"f\",\"f\",\"f\",\"f\",\"f\",\"f\",\"4\",\"4\",\"4\",\"4\",\"f\",\"f\",\"f\",\"f\",\"f\",\"4\",\"4\",\"4\",\"4\",\"4\",\"4\",\"4\",\"4\",\"4\",\"4\",\"4\",\"4\",\"4\",\"4\",\"4\",\"4\",\"4\",\"4\",\"4\",\"4\",\"f\",\"f\",\"f\",\"f\",\"f\",\"f\",\"f\",\"f\",\"f\",\"f\",\"f\",\"f\",\"f\",\"f\",\"f\",\"f\",\"f\",\"f\",\"f\",\"4\",\"4\",\"4\",\"4\",\"4\",\"4\",\"4\",\"4\",\"4\",\"f\",\"f\",\"f\",\"f\",\"f\",\"f\",\"f\",\"f\",\"f\",\"f\",\"f\",\"f\",\"f\",\"f\",\"f\",\"f\",\"f\",\"f\",\"f\",\"f\",\"f\",\"f\",\"f\",\"f\",\"f\",\"f\",\"f\"],\n",
       "\"cty\":[18.0,21.0,20.0,21.0,16.0,18.0,18.0,18.0,16.0,20.0,19.0,15.0,17.0,17.0,15.0,15.0,17.0,16.0,14.0,11.0,14.0,13.0,12.0,16.0,15.0,16.0,15.0,15.0,14.0,11.0,11.0,14.0,19.0,22.0,18.0,18.0,17.0,18.0,17.0,16.0,16.0,17.0,17.0,11.0,15.0,15.0,16.0,16.0,15.0,14.0,13.0,14.0,14.0,14.0,9.0,11.0,11.0,13.0,13.0,9.0,13.0,11.0,13.0,11.0,12.0,9.0,13.0,13.0,12.0,9.0,11.0,11.0,13.0,11.0,11.0,11.0,12.0,14.0,15.0,14.0,13.0,13.0,13.0,14.0,14.0,13.0,13.0,13.0,11.0,13.0,18.0,18.0,17.0,16.0,15.0,15.0,15.0,15.0,14.0,28.0,24.0,25.0,23.0,24.0,26.0,25.0,24.0,21.0,18.0,18.0,21.0,21.0,18.0,18.0,19.0,19.0,19.0,20.0,20.0,17.0,16.0,17.0,17.0,15.0,15.0,14.0,9.0,14.0,13.0,11.0,11.0,12.0,12.0,11.0,11.0,11.0,12.0,14.0,13.0,13.0,13.0,21.0,19.0,23.0,23.0,19.0,19.0,18.0,19.0,19.0,14.0,15.0,14.0,12.0,18.0,16.0,17.0,18.0,16.0,18.0,18.0,20.0,19.0,20.0,18.0,21.0,19.0,19.0,19.0,20.0,20.0,19.0,20.0,15.0,16.0,15.0,15.0,16.0,14.0,21.0,21.0,21.0,21.0,18.0,18.0,19.0,21.0,21.0,21.0,22.0,18.0,18.0,18.0,24.0,24.0,26.0,28.0,26.0,11.0,13.0,15.0,16.0,17.0,15.0,15.0,15.0,16.0,21.0,19.0,21.0,22.0,17.0,33.0,21.0,19.0,22.0,21.0,21.0,21.0,16.0,17.0,35.0,29.0,21.0,19.0,20.0,20.0,21.0,18.0,19.0,21.0,16.0,18.0,17.0],\n",
       "\"hwy\":[29.0,29.0,31.0,30.0,26.0,26.0,27.0,26.0,25.0,28.0,27.0,25.0,25.0,25.0,25.0,24.0,25.0,23.0,20.0,15.0,20.0,17.0,17.0,26.0,23.0,26.0,25.0,24.0,19.0,14.0,15.0,17.0,27.0,30.0,26.0,29.0,26.0,24.0,24.0,22.0,22.0,24.0,24.0,17.0,22.0,21.0,23.0,23.0,19.0,18.0,17.0,17.0,19.0,19.0,12.0,17.0,15.0,17.0,17.0,12.0,17.0,16.0,18.0,15.0,16.0,12.0,17.0,17.0,16.0,12.0,15.0,16.0,17.0,15.0,17.0,17.0,18.0,17.0,19.0,17.0,19.0,19.0,17.0,17.0,17.0,16.0,16.0,17.0,15.0,17.0,26.0,25.0,26.0,24.0,21.0,22.0,23.0,22.0,20.0,33.0,32.0,32.0,29.0,32.0,34.0,36.0,36.0,29.0,26.0,27.0,30.0,31.0,26.0,26.0,28.0,26.0,29.0,28.0,27.0,24.0,24.0,24.0,22.0,19.0,20.0,17.0,12.0,19.0,18.0,14.0,15.0,18.0,18.0,15.0,17.0,16.0,18.0,17.0,19.0,19.0,17.0,29.0,27.0,31.0,32.0,27.0,26.0,26.0,25.0,25.0,17.0,17.0,20.0,18.0,26.0,26.0,27.0,28.0,25.0,25.0,24.0,27.0,25.0,26.0,23.0,26.0,26.0,26.0,26.0,25.0,27.0,25.0,27.0,20.0,20.0,19.0,17.0,20.0,17.0,29.0,27.0,31.0,31.0,26.0,26.0,28.0,27.0,29.0,31.0,31.0,26.0,26.0,27.0,30.0,33.0,35.0,37.0,35.0,15.0,18.0,20.0,20.0,22.0,17.0,19.0,18.0,20.0,29.0,26.0,29.0,29.0,24.0,44.0,29.0,26.0,29.0,29.0,29.0,29.0,23.0,24.0,44.0,41.0,29.0,26.0,28.0,29.0,29.0,29.0,28.0,29.0,26.0,26.0,26.0],\n",
       "\"class\":[\"compact\",\"compact\",\"compact\",\"compact\",\"compact\",\"compact\",\"compact\",\"compact\",\"compact\",\"compact\",\"compact\",\"compact\",\"compact\",\"compact\",\"compact\",\"midsize\",\"midsize\",\"midsize\",\"suv\",\"suv\",\"suv\",\"suv\",\"suv\",\"2seater\",\"2seater\",\"2seater\",\"2seater\",\"2seater\",\"suv\",\"suv\",\"suv\",\"suv\",\"midsize\",\"midsize\",\"midsize\",\"midsize\",\"midsize\",\"minivan\",\"minivan\",\"minivan\",\"minivan\",\"minivan\",\"minivan\",\"minivan\",\"minivan\",\"minivan\",\"minivan\",\"minivan\",\"pickup\",\"pickup\",\"pickup\",\"pickup\",\"pickup\",\"pickup\",\"pickup\",\"pickup\",\"pickup\",\"suv\",\"suv\",\"suv\",\"suv\",\"suv\",\"suv\",\"suv\",\"pickup\",\"pickup\",\"pickup\",\"pickup\",\"pickup\",\"pickup\",\"pickup\",\"pickup\",\"pickup\",\"pickup\",\"suv\",\"suv\",\"suv\",\"suv\",\"suv\",\"suv\",\"suv\",\"suv\",\"suv\",\"pickup\",\"pickup\",\"pickup\",\"pickup\",\"pickup\",\"pickup\",\"pickup\",\"subcompact\",\"subcompact\",\"subcompact\",\"subcompact\",\"subcompact\",\"subcompact\",\"subcompact\",\"subcompact\",\"subcompact\",\"subcompact\",\"subcompact\",\"subcompact\",\"subcompact\",\"subcompact\",\"subcompact\",\"subcompact\",\"subcompact\",\"subcompact\",\"midsize\",\"midsize\",\"midsize\",\"midsize\",\"midsize\",\"midsize\",\"midsize\",\"subcompact\",\"subcompact\",\"subcompact\",\"subcompact\",\"subcompact\",\"subcompact\",\"subcompact\",\"suv\",\"suv\",\"suv\",\"suv\",\"suv\",\"suv\",\"suv\",\"suv\",\"suv\",\"suv\",\"suv\",\"suv\",\"suv\",\"suv\",\"suv\",\"suv\",\"suv\",\"suv\",\"suv\",\"compact\",\"compact\",\"midsize\",\"midsize\",\"midsize\",\"midsize\",\"midsize\",\"midsize\",\"midsize\",\"suv\",\"suv\",\"suv\",\"suv\",\"midsize\",\"midsize\",\"midsize\",\"midsize\",\"midsize\",\"suv\",\"suv\",\"suv\",\"suv\",\"suv\",\"suv\",\"subcompact\",\"subcompact\",\"subcompact\",\"subcompact\",\"compact\",\"compact\",\"compact\",\"compact\",\"suv\",\"suv\",\"suv\",\"suv\",\"suv\",\"suv\",\"midsize\",\"midsize\",\"midsize\",\"midsize\",\"midsize\",\"midsize\",\"midsize\",\"compact\",\"compact\",\"compact\",\"compact\",\"compact\",\"compact\",\"compact\",\"compact\",\"compact\",\"compact\",\"compact\",\"compact\",\"suv\",\"suv\",\"pickup\",\"pickup\",\"pickup\",\"pickup\",\"pickup\",\"pickup\",\"pickup\",\"compact\",\"compact\",\"compact\",\"compact\",\"compact\",\"compact\",\"compact\",\"compact\",\"compact\",\"compact\",\"compact\",\"compact\",\"compact\",\"compact\",\"subcompact\",\"subcompact\",\"subcompact\",\"subcompact\",\"subcompact\",\"subcompact\",\"midsize\",\"midsize\",\"midsize\",\"midsize\",\"midsize\",\"midsize\",\"midsize\"]\n",
       "},\n",
       "\"mapping\":{\n",
       "},\n",
       "\"data_meta\":{\n",
       "},\n",
       "\"kind\":\"plot\",\n",
       "\"scales\":[],\n",
       "\"layers\":[{\n",
       "\"geom\":\"point\",\n",
       "\"mapping\":{\n",
       "\"x\":\"displ\",\n",
       "\"y\":\"cty\",\n",
       "\"fill\":\"drv\",\n",
       "\"size\":\"hwy\"\n",
       "},\n",
       "\"tooltips\":{\n",
       "\"formats\":[],\n",
       "\"variables\":[\"manufacturer\",\"model\",\"class\",\"drv\"]\n",
       "},\n",
       "\"data_meta\":{\n",
       "},\n",
       "\"shape\":21.0,\n",
       "\"color\":\"black\",\n",
       "\"data\":{\n",
       "}\n",
       "}],\n",
       "\"metainfo_list\":[]\n",
       "};\n",
       "       var plotContainer = document.getElementById(\"wZ7gUi\");\n",
       "       LetsPlot.buildPlotFromProcessedSpecs(plotSpec, -1, -1, plotContainer);\n",
       "   <\/script>\n",
       "   <\/body>\n",
       "<\/html>"
      ]
     },
     "metadata":{},
     "output_type":"display_data"
    }
   ],
   "metadata":{
    "datalore":{
     "node_id":"fTtPPIWLZAF5KJzDP5nP95",
     "type":"CODE",
     "hide_input_from_viewers":false,
     "hide_output_from_viewers":false,
     "report_properties":{
      "rowId":"KRFz1y1R4YfHJvqow5tGrJ",
      "relativeY":0
     }
    }
   }
  },
  {
   "cell_type":"markdown",
   "source":[
    "Define the format for the variable from the list and specify an additional line:"
   ],
   "attachments":{},
   "metadata":{
    "datalore":{
     "node_id":"p7FgNraMNHtYxLlCqJQJ4d",
     "type":"MD",
     "hide_input_from_viewers":false,
     "hide_output_from_viewers":false,
     "report_properties":{
      "rowId":"QS7HJpGUSZen5VT5fwNEZb",
      "relativeY":0
     }
    }
   }
  },
  {
   "cell_type":"code",
   "source":[
    "ggplot(df) + geom_point(aes(x='displ', y='cty', fill='drv', size='hwy'),\n",
    "                        shape=21, color='black',\n",
    "                        tooltips=layer_tooltips(['manufacturer', 'model', 'class', 'drv'])\n",
    "                                                 .format('drv', '{}wd')\n",
    "                                                 .line('cty\/hwy [mpg]|@cty\/@hwy'))"
   ],
   "execution_count":16,
   "outputs":[
    {
     "data":{
      "text\/html":[
       "<html lang=\"en\">\n",
       "   <head>\n",
       "       <meta charset=\"UTF-8\">\n",
       "       <script type=\"text\/javascript\" data-lets-plot-script=\"library\" src=\"https:\/\/cdn.jsdelivr.net\/gh\/JetBrains\/lets-plot@v4.3.3\/js-package\/distr\/lets-plot.min.js\"><\/script>\n",
       "   <\/head>\n",
       "   <body>\n",
       "          <div id=\"Sl6FZi\"><\/div>\n",
       "   <script type=\"text\/javascript\" data-lets-plot-script=\"plot\">\n",
       "       var plotSpec={\n",
       "\"data\":{\n",
       "\"manufacturer\":[\"audi\",\"audi\",\"audi\",\"audi\",\"audi\",\"audi\",\"audi\",\"audi\",\"audi\",\"audi\",\"audi\",\"audi\",\"audi\",\"audi\",\"audi\",\"audi\",\"audi\",\"audi\",\"chevrolet\",\"chevrolet\",\"chevrolet\",\"chevrolet\",\"chevrolet\",\"chevrolet\",\"chevrolet\",\"chevrolet\",\"chevrolet\",\"chevrolet\",\"chevrolet\",\"chevrolet\",\"chevrolet\",\"chevrolet\",\"chevrolet\",\"chevrolet\",\"chevrolet\",\"chevrolet\",\"chevrolet\",\"dodge\",\"dodge\",\"dodge\",\"dodge\",\"dodge\",\"dodge\",\"dodge\",\"dodge\",\"dodge\",\"dodge\",\"dodge\",\"dodge\",\"dodge\",\"dodge\",\"dodge\",\"dodge\",\"dodge\",\"dodge\",\"dodge\",\"dodge\",\"dodge\",\"dodge\",\"dodge\",\"dodge\",\"dodge\",\"dodge\",\"dodge\",\"dodge\",\"dodge\",\"dodge\",\"dodge\",\"dodge\",\"dodge\",\"dodge\",\"dodge\",\"dodge\",\"dodge\",\"ford\",\"ford\",\"ford\",\"ford\",\"ford\",\"ford\",\"ford\",\"ford\",\"ford\",\"ford\",\"ford\",\"ford\",\"ford\",\"ford\",\"ford\",\"ford\",\"ford\",\"ford\",\"ford\",\"ford\",\"ford\",\"ford\",\"ford\",\"ford\",\"ford\",\"honda\",\"honda\",\"honda\",\"honda\",\"honda\",\"honda\",\"honda\",\"honda\",\"honda\",\"hyundai\",\"hyundai\",\"hyundai\",\"hyundai\",\"hyundai\",\"hyundai\",\"hyundai\",\"hyundai\",\"hyundai\",\"hyundai\",\"hyundai\",\"hyundai\",\"hyundai\",\"hyundai\",\"jeep\",\"jeep\",\"jeep\",\"jeep\",\"jeep\",\"jeep\",\"jeep\",\"jeep\",\"land rover\",\"land rover\",\"land rover\",\"land rover\",\"lincoln\",\"lincoln\",\"lincoln\",\"mercury\",\"mercury\",\"mercury\",\"mercury\",\"nissan\",\"nissan\",\"nissan\",\"nissan\",\"nissan\",\"nissan\",\"nissan\",\"nissan\",\"nissan\",\"nissan\",\"nissan\",\"nissan\",\"nissan\",\"pontiac\",\"pontiac\",\"pontiac\",\"pontiac\",\"pontiac\",\"subaru\",\"subaru\",\"subaru\",\"subaru\",\"subaru\",\"subaru\",\"subaru\",\"subaru\",\"subaru\",\"subaru\",\"subaru\",\"subaru\",\"subaru\",\"subaru\",\"toyota\",\"toyota\",\"toyota\",\"toyota\",\"toyota\",\"toyota\",\"toyota\",\"toyota\",\"toyota\",\"toyota\",\"toyota\",\"toyota\",\"toyota\",\"toyota\",\"toyota\",\"toyota\",\"toyota\",\"toyota\",\"toyota\",\"toyota\",\"toyota\",\"toyota\",\"toyota\",\"toyota\",\"toyota\",\"toyota\",\"toyota\",\"toyota\",\"toyota\",\"toyota\",\"toyota\",\"toyota\",\"toyota\",\"toyota\",\"volkswagen\",\"volkswagen\",\"volkswagen\",\"volkswagen\",\"volkswagen\",\"volkswagen\",\"volkswagen\",\"volkswagen\",\"volkswagen\",\"volkswagen\",\"volkswagen\",\"volkswagen\",\"volkswagen\",\"volkswagen\",\"volkswagen\",\"volkswagen\",\"volkswagen\",\"volkswagen\",\"volkswagen\",\"volkswagen\",\"volkswagen\",\"volkswagen\",\"volkswagen\",\"volkswagen\",\"volkswagen\",\"volkswagen\",\"volkswagen\"],\n",
       "\"model\":[\"a4\",\"a4\",\"a4\",\"a4\",\"a4\",\"a4\",\"a4\",\"a4 quattro\",\"a4 quattro\",\"a4 quattro\",\"a4 quattro\",\"a4 quattro\",\"a4 quattro\",\"a4 quattro\",\"a4 quattro\",\"a6 quattro\",\"a6 quattro\",\"a6 quattro\",\"c1500 suburban 2wd\",\"c1500 suburban 2wd\",\"c1500 suburban 2wd\",\"c1500 suburban 2wd\",\"c1500 suburban 2wd\",\"corvette\",\"corvette\",\"corvette\",\"corvette\",\"corvette\",\"k1500 tahoe 4wd\",\"k1500 tahoe 4wd\",\"k1500 tahoe 4wd\",\"k1500 tahoe 4wd\",\"malibu\",\"malibu\",\"malibu\",\"malibu\",\"malibu\",\"caravan 2wd\",\"caravan 2wd\",\"caravan 2wd\",\"caravan 2wd\",\"caravan 2wd\",\"caravan 2wd\",\"caravan 2wd\",\"caravan 2wd\",\"caravan 2wd\",\"caravan 2wd\",\"caravan 2wd\",\"dakota pickup 4wd\",\"dakota pickup 4wd\",\"dakota pickup 4wd\",\"dakota pickup 4wd\",\"dakota pickup 4wd\",\"dakota pickup 4wd\",\"dakota pickup 4wd\",\"dakota pickup 4wd\",\"dakota pickup 4wd\",\"durango 4wd\",\"durango 4wd\",\"durango 4wd\",\"durango 4wd\",\"durango 4wd\",\"durango 4wd\",\"durango 4wd\",\"ram 1500 pickup 4wd\",\"ram 1500 pickup 4wd\",\"ram 1500 pickup 4wd\",\"ram 1500 pickup 4wd\",\"ram 1500 pickup 4wd\",\"ram 1500 pickup 4wd\",\"ram 1500 pickup 4wd\",\"ram 1500 pickup 4wd\",\"ram 1500 pickup 4wd\",\"ram 1500 pickup 4wd\",\"expedition 2wd\",\"expedition 2wd\",\"expedition 2wd\",\"explorer 4wd\",\"explorer 4wd\",\"explorer 4wd\",\"explorer 4wd\",\"explorer 4wd\",\"explorer 4wd\",\"f150 pickup 4wd\",\"f150 pickup 4wd\",\"f150 pickup 4wd\",\"f150 pickup 4wd\",\"f150 pickup 4wd\",\"f150 pickup 4wd\",\"f150 pickup 4wd\",\"mustang\",\"mustang\",\"mustang\",\"mustang\",\"mustang\",\"mustang\",\"mustang\",\"mustang\",\"mustang\",\"civic\",\"civic\",\"civic\",\"civic\",\"civic\",\"civic\",\"civic\",\"civic\",\"civic\",\"sonata\",\"sonata\",\"sonata\",\"sonata\",\"sonata\",\"sonata\",\"sonata\",\"tiburon\",\"tiburon\",\"tiburon\",\"tiburon\",\"tiburon\",\"tiburon\",\"tiburon\",\"grand cherokee 4wd\",\"grand cherokee 4wd\",\"grand cherokee 4wd\",\"grand cherokee 4wd\",\"grand cherokee 4wd\",\"grand cherokee 4wd\",\"grand cherokee 4wd\",\"grand cherokee 4wd\",\"range rover\",\"range rover\",\"range rover\",\"range rover\",\"navigator 2wd\",\"navigator 2wd\",\"navigator 2wd\",\"mountaineer 4wd\",\"mountaineer 4wd\",\"mountaineer 4wd\",\"mountaineer 4wd\",\"altima\",\"altima\",\"altima\",\"altima\",\"altima\",\"altima\",\"maxima\",\"maxima\",\"maxima\",\"pathfinder 4wd\",\"pathfinder 4wd\",\"pathfinder 4wd\",\"pathfinder 4wd\",\"grand prix\",\"grand prix\",\"grand prix\",\"grand prix\",\"grand prix\",\"forester awd\",\"forester awd\",\"forester awd\",\"forester awd\",\"forester awd\",\"forester awd\",\"impreza awd\",\"impreza awd\",\"impreza awd\",\"impreza awd\",\"impreza awd\",\"impreza awd\",\"impreza awd\",\"impreza awd\",\"4runner 4wd\",\"4runner 4wd\",\"4runner 4wd\",\"4runner 4wd\",\"4runner 4wd\",\"4runner 4wd\",\"camry\",\"camry\",\"camry\",\"camry\",\"camry\",\"camry\",\"camry\",\"camry solara\",\"camry solara\",\"camry solara\",\"camry solara\",\"camry solara\",\"camry solara\",\"camry solara\",\"corolla\",\"corolla\",\"corolla\",\"corolla\",\"corolla\",\"land cruiser wagon 4wd\",\"land cruiser wagon 4wd\",\"toyota tacoma 4wd\",\"toyota tacoma 4wd\",\"toyota tacoma 4wd\",\"toyota tacoma 4wd\",\"toyota tacoma 4wd\",\"toyota tacoma 4wd\",\"toyota tacoma 4wd\",\"gti\",\"gti\",\"gti\",\"gti\",\"gti\",\"jetta\",\"jetta\",\"jetta\",\"jetta\",\"jetta\",\"jetta\",\"jetta\",\"jetta\",\"jetta\",\"new beetle\",\"new beetle\",\"new beetle\",\"new beetle\",\"new beetle\",\"new beetle\",\"passat\",\"passat\",\"passat\",\"passat\",\"passat\",\"passat\",\"passat\"],\n",
       "\"displ\":[1.8,1.8,2.0,2.0,2.8,2.8,3.1,1.8,1.8,2.0,2.0,2.8,2.8,3.1,3.1,2.8,3.1,4.2,5.3,5.3,5.3,5.7,6.0,5.7,5.7,6.2,6.2,7.0,5.3,5.3,5.7,6.5,2.4,2.4,3.1,3.5,3.6,2.4,3.0,3.3,3.3,3.3,3.3,3.3,3.8,3.8,3.8,4.0,3.7,3.7,3.9,3.9,4.7,4.7,4.7,5.2,5.2,3.9,4.7,4.7,4.7,5.2,5.7,5.9,4.7,4.7,4.7,4.7,4.7,4.7,5.2,5.2,5.7,5.9,4.6,5.4,5.4,4.0,4.0,4.0,4.0,4.6,5.0,4.2,4.2,4.6,4.6,4.6,5.4,5.4,3.8,3.8,4.0,4.0,4.6,4.6,4.6,4.6,5.4,1.6,1.6,1.6,1.6,1.6,1.8,1.8,1.8,2.0,2.4,2.4,2.4,2.4,2.5,2.5,3.3,2.0,2.0,2.0,2.0,2.7,2.7,2.7,3.0,3.7,4.0,4.7,4.7,4.7,5.7,6.1,4.0,4.2,4.4,4.6,5.4,5.4,5.4,4.0,4.0,4.6,5.0,2.4,2.4,2.5,2.5,3.5,3.5,3.0,3.0,3.5,3.3,3.3,4.0,5.6,3.1,3.8,3.8,3.8,5.3,2.5,2.5,2.5,2.5,2.5,2.5,2.2,2.2,2.5,2.5,2.5,2.5,2.5,2.5,2.7,2.7,3.4,3.4,4.0,4.7,2.2,2.2,2.4,2.4,3.0,3.0,3.5,2.2,2.2,2.4,2.4,3.0,3.0,3.3,1.8,1.8,1.8,1.8,1.8,4.7,5.7,2.7,2.7,2.7,3.4,3.4,4.0,4.0,2.0,2.0,2.0,2.0,2.8,1.9,2.0,2.0,2.0,2.0,2.5,2.5,2.8,2.8,1.9,1.9,2.0,2.0,2.5,2.5,1.8,1.8,2.0,2.0,2.8,2.8,3.6],\n",
       "\"drv\":[\"f\",\"f\",\"f\",\"f\",\"f\",\"f\",\"f\",\"4\",\"4\",\"4\",\"4\",\"4\",\"4\",\"4\",\"4\",\"4\",\"4\",\"4\",\"r\",\"r\",\"r\",\"r\",\"r\",\"r\",\"r\",\"r\",\"r\",\"r\",\"4\",\"4\",\"4\",\"4\",\"f\",\"f\",\"f\",\"f\",\"f\",\"f\",\"f\",\"f\",\"f\",\"f\",\"f\",\"f\",\"f\",\"f\",\"f\",\"f\",\"4\",\"4\",\"4\",\"4\",\"4\",\"4\",\"4\",\"4\",\"4\",\"4\",\"4\",\"4\",\"4\",\"4\",\"4\",\"4\",\"4\",\"4\",\"4\",\"4\",\"4\",\"4\",\"4\",\"4\",\"4\",\"4\",\"r\",\"r\",\"r\",\"4\",\"4\",\"4\",\"4\",\"4\",\"4\",\"4\",\"4\",\"4\",\"4\",\"4\",\"4\",\"4\",\"r\",\"r\",\"r\",\"r\",\"r\",\"r\",\"r\",\"r\",\"r\",\"f\",\"f\",\"f\",\"f\",\"f\",\"f\",\"f\",\"f\",\"f\",\"f\",\"f\",\"f\",\"f\",\"f\",\"f\",\"f\",\"f\",\"f\",\"f\",\"f\",\"f\",\"f\",\"f\",\"4\",\"4\",\"4\",\"4\",\"4\",\"4\",\"4\",\"4\",\"4\",\"4\",\"4\",\"4\",\"r\",\"r\",\"r\",\"4\",\"4\",\"4\",\"4\",\"f\",\"f\",\"f\",\"f\",\"f\",\"f\",\"f\",\"f\",\"f\",\"4\",\"4\",\"4\",\"4\",\"f\",\"f\",\"f\",\"f\",\"f\",\"4\",\"4\",\"4\",\"4\",\"4\",\"4\",\"4\",\"4\",\"4\",\"4\",\"4\",\"4\",\"4\",\"4\",\"4\",\"4\",\"4\",\"4\",\"4\",\"4\",\"f\",\"f\",\"f\",\"f\",\"f\",\"f\",\"f\",\"f\",\"f\",\"f\",\"f\",\"f\",\"f\",\"f\",\"f\",\"f\",\"f\",\"f\",\"f\",\"4\",\"4\",\"4\",\"4\",\"4\",\"4\",\"4\",\"4\",\"4\",\"f\",\"f\",\"f\",\"f\",\"f\",\"f\",\"f\",\"f\",\"f\",\"f\",\"f\",\"f\",\"f\",\"f\",\"f\",\"f\",\"f\",\"f\",\"f\",\"f\",\"f\",\"f\",\"f\",\"f\",\"f\",\"f\",\"f\"],\n",
       "\"cty\":[18.0,21.0,20.0,21.0,16.0,18.0,18.0,18.0,16.0,20.0,19.0,15.0,17.0,17.0,15.0,15.0,17.0,16.0,14.0,11.0,14.0,13.0,12.0,16.0,15.0,16.0,15.0,15.0,14.0,11.0,11.0,14.0,19.0,22.0,18.0,18.0,17.0,18.0,17.0,16.0,16.0,17.0,17.0,11.0,15.0,15.0,16.0,16.0,15.0,14.0,13.0,14.0,14.0,14.0,9.0,11.0,11.0,13.0,13.0,9.0,13.0,11.0,13.0,11.0,12.0,9.0,13.0,13.0,12.0,9.0,11.0,11.0,13.0,11.0,11.0,11.0,12.0,14.0,15.0,14.0,13.0,13.0,13.0,14.0,14.0,13.0,13.0,13.0,11.0,13.0,18.0,18.0,17.0,16.0,15.0,15.0,15.0,15.0,14.0,28.0,24.0,25.0,23.0,24.0,26.0,25.0,24.0,21.0,18.0,18.0,21.0,21.0,18.0,18.0,19.0,19.0,19.0,20.0,20.0,17.0,16.0,17.0,17.0,15.0,15.0,14.0,9.0,14.0,13.0,11.0,11.0,12.0,12.0,11.0,11.0,11.0,12.0,14.0,13.0,13.0,13.0,21.0,19.0,23.0,23.0,19.0,19.0,18.0,19.0,19.0,14.0,15.0,14.0,12.0,18.0,16.0,17.0,18.0,16.0,18.0,18.0,20.0,19.0,20.0,18.0,21.0,19.0,19.0,19.0,20.0,20.0,19.0,20.0,15.0,16.0,15.0,15.0,16.0,14.0,21.0,21.0,21.0,21.0,18.0,18.0,19.0,21.0,21.0,21.0,22.0,18.0,18.0,18.0,24.0,24.0,26.0,28.0,26.0,11.0,13.0,15.0,16.0,17.0,15.0,15.0,15.0,16.0,21.0,19.0,21.0,22.0,17.0,33.0,21.0,19.0,22.0,21.0,21.0,21.0,16.0,17.0,35.0,29.0,21.0,19.0,20.0,20.0,21.0,18.0,19.0,21.0,16.0,18.0,17.0],\n",
       "\"hwy\":[29.0,29.0,31.0,30.0,26.0,26.0,27.0,26.0,25.0,28.0,27.0,25.0,25.0,25.0,25.0,24.0,25.0,23.0,20.0,15.0,20.0,17.0,17.0,26.0,23.0,26.0,25.0,24.0,19.0,14.0,15.0,17.0,27.0,30.0,26.0,29.0,26.0,24.0,24.0,22.0,22.0,24.0,24.0,17.0,22.0,21.0,23.0,23.0,19.0,18.0,17.0,17.0,19.0,19.0,12.0,17.0,15.0,17.0,17.0,12.0,17.0,16.0,18.0,15.0,16.0,12.0,17.0,17.0,16.0,12.0,15.0,16.0,17.0,15.0,17.0,17.0,18.0,17.0,19.0,17.0,19.0,19.0,17.0,17.0,17.0,16.0,16.0,17.0,15.0,17.0,26.0,25.0,26.0,24.0,21.0,22.0,23.0,22.0,20.0,33.0,32.0,32.0,29.0,32.0,34.0,36.0,36.0,29.0,26.0,27.0,30.0,31.0,26.0,26.0,28.0,26.0,29.0,28.0,27.0,24.0,24.0,24.0,22.0,19.0,20.0,17.0,12.0,19.0,18.0,14.0,15.0,18.0,18.0,15.0,17.0,16.0,18.0,17.0,19.0,19.0,17.0,29.0,27.0,31.0,32.0,27.0,26.0,26.0,25.0,25.0,17.0,17.0,20.0,18.0,26.0,26.0,27.0,28.0,25.0,25.0,24.0,27.0,25.0,26.0,23.0,26.0,26.0,26.0,26.0,25.0,27.0,25.0,27.0,20.0,20.0,19.0,17.0,20.0,17.0,29.0,27.0,31.0,31.0,26.0,26.0,28.0,27.0,29.0,31.0,31.0,26.0,26.0,27.0,30.0,33.0,35.0,37.0,35.0,15.0,18.0,20.0,20.0,22.0,17.0,19.0,18.0,20.0,29.0,26.0,29.0,29.0,24.0,44.0,29.0,26.0,29.0,29.0,29.0,29.0,23.0,24.0,44.0,41.0,29.0,26.0,28.0,29.0,29.0,29.0,28.0,29.0,26.0,26.0,26.0],\n",
       "\"class\":[\"compact\",\"compact\",\"compact\",\"compact\",\"compact\",\"compact\",\"compact\",\"compact\",\"compact\",\"compact\",\"compact\",\"compact\",\"compact\",\"compact\",\"compact\",\"midsize\",\"midsize\",\"midsize\",\"suv\",\"suv\",\"suv\",\"suv\",\"suv\",\"2seater\",\"2seater\",\"2seater\",\"2seater\",\"2seater\",\"suv\",\"suv\",\"suv\",\"suv\",\"midsize\",\"midsize\",\"midsize\",\"midsize\",\"midsize\",\"minivan\",\"minivan\",\"minivan\",\"minivan\",\"minivan\",\"minivan\",\"minivan\",\"minivan\",\"minivan\",\"minivan\",\"minivan\",\"pickup\",\"pickup\",\"pickup\",\"pickup\",\"pickup\",\"pickup\",\"pickup\",\"pickup\",\"pickup\",\"suv\",\"suv\",\"suv\",\"suv\",\"suv\",\"suv\",\"suv\",\"pickup\",\"pickup\",\"pickup\",\"pickup\",\"pickup\",\"pickup\",\"pickup\",\"pickup\",\"pickup\",\"pickup\",\"suv\",\"suv\",\"suv\",\"suv\",\"suv\",\"suv\",\"suv\",\"suv\",\"suv\",\"pickup\",\"pickup\",\"pickup\",\"pickup\",\"pickup\",\"pickup\",\"pickup\",\"subcompact\",\"subcompact\",\"subcompact\",\"subcompact\",\"subcompact\",\"subcompact\",\"subcompact\",\"subcompact\",\"subcompact\",\"subcompact\",\"subcompact\",\"subcompact\",\"subcompact\",\"subcompact\",\"subcompact\",\"subcompact\",\"subcompact\",\"subcompact\",\"midsize\",\"midsize\",\"midsize\",\"midsize\",\"midsize\",\"midsize\",\"midsize\",\"subcompact\",\"subcompact\",\"subcompact\",\"subcompact\",\"subcompact\",\"subcompact\",\"subcompact\",\"suv\",\"suv\",\"suv\",\"suv\",\"suv\",\"suv\",\"suv\",\"suv\",\"suv\",\"suv\",\"suv\",\"suv\",\"suv\",\"suv\",\"suv\",\"suv\",\"suv\",\"suv\",\"suv\",\"compact\",\"compact\",\"midsize\",\"midsize\",\"midsize\",\"midsize\",\"midsize\",\"midsize\",\"midsize\",\"suv\",\"suv\",\"suv\",\"suv\",\"midsize\",\"midsize\",\"midsize\",\"midsize\",\"midsize\",\"suv\",\"suv\",\"suv\",\"suv\",\"suv\",\"suv\",\"subcompact\",\"subcompact\",\"subcompact\",\"subcompact\",\"compact\",\"compact\",\"compact\",\"compact\",\"suv\",\"suv\",\"suv\",\"suv\",\"suv\",\"suv\",\"midsize\",\"midsize\",\"midsize\",\"midsize\",\"midsize\",\"midsize\",\"midsize\",\"compact\",\"compact\",\"compact\",\"compact\",\"compact\",\"compact\",\"compact\",\"compact\",\"compact\",\"compact\",\"compact\",\"compact\",\"suv\",\"suv\",\"pickup\",\"pickup\",\"pickup\",\"pickup\",\"pickup\",\"pickup\",\"pickup\",\"compact\",\"compact\",\"compact\",\"compact\",\"compact\",\"compact\",\"compact\",\"compact\",\"compact\",\"compact\",\"compact\",\"compact\",\"compact\",\"compact\",\"subcompact\",\"subcompact\",\"subcompact\",\"subcompact\",\"subcompact\",\"subcompact\",\"midsize\",\"midsize\",\"midsize\",\"midsize\",\"midsize\",\"midsize\",\"midsize\"]\n",
       "},\n",
       "\"mapping\":{\n",
       "},\n",
       "\"data_meta\":{\n",
       "},\n",
       "\"kind\":\"plot\",\n",
       "\"scales\":[],\n",
       "\"layers\":[{\n",
       "\"geom\":\"point\",\n",
       "\"mapping\":{\n",
       "\"x\":\"displ\",\n",
       "\"y\":\"cty\",\n",
       "\"fill\":\"drv\",\n",
       "\"size\":\"hwy\"\n",
       "},\n",
       "\"tooltips\":{\n",
       "\"formats\":[{\n",
       "\"field\":\"drv\",\n",
       "\"format\":\"{}wd\"\n",
       "}],\n",
       "\"lines\":[\"cty\/hwy [mpg]|@cty\/@hwy\"],\n",
       "\"variables\":[\"manufacturer\",\"model\",\"class\",\"drv\"]\n",
       "},\n",
       "\"data_meta\":{\n",
       "},\n",
       "\"shape\":21.0,\n",
       "\"color\":\"black\",\n",
       "\"data\":{\n",
       "}\n",
       "}],\n",
       "\"metainfo_list\":[]\n",
       "};\n",
       "       var plotContainer = document.getElementById(\"Sl6FZi\");\n",
       "       LetsPlot.buildPlotFromProcessedSpecs(plotSpec, -1, -1, plotContainer);\n",
       "   <\/script>\n",
       "   <\/body>\n",
       "<\/html>"
      ]
     },
     "metadata":{},
     "output_type":"display_data"
    }
   ],
   "metadata":{
    "datalore":{
     "node_id":"glJXkulpWXNfJ6nLaGIXj1",
     "type":"CODE",
     "hide_input_from_viewers":false,
     "hide_output_from_viewers":false,
     "report_properties":{
      "rowId":"s0fd700B9CEnNAlaAQSNZ0",
      "relativeY":0
     }
    }
   }
  },
  {
   "cell_type":"markdown",
   "source":[
    "Place a general tooltip at the top center and define its minimum width:"
   ],
   "attachments":{},
   "metadata":{
    "datalore":{
     "node_id":"qnRJ1PI8c4ubH2OsJTQrxZ",
     "type":"MD",
     "hide_input_from_viewers":false,
     "hide_output_from_viewers":false,
     "report_properties":{
      "rowId":"WAHM2TCYa4oUXRDbobAPgD",
      "relativeY":0
     }
    }
   }
  },
  {
   "cell_type":"code",
   "source":[
    "ggplot(df) + geom_point(aes(x='displ', y='cty', fill='drv', size='hwy'),\n",
    "                        shape=21, color='black',\n",
    "                        tooltips=layer_tooltips().format('cty', '.1f')\n",
    "                                                 .format('hwy', '.1f')\n",
    "                                                 .format('drv', '{}wd')\n",
    "                                                 .line('@manufacturer @model')\n",
    "                                                 .line('cty\/hwy|@cty\/@hwy')\n",
    "                                                 .line('@|@class')\n",
    "                                                 .line('drive train|@drv')\n",
    "                                                 .line('@|@year')\n",
    "                                                 .anchor('top_center')\n",
    "                                                 .min_width(200))"
   ],
   "execution_count":17,
   "outputs":[
    {
     "data":{
      "text\/html":[
       "<html lang=\"en\">\n",
       "   <head>\n",
       "       <meta charset=\"UTF-8\">\n",
       "       <script type=\"text\/javascript\" data-lets-plot-script=\"library\" src=\"https:\/\/cdn.jsdelivr.net\/gh\/JetBrains\/lets-plot@v4.3.3\/js-package\/distr\/lets-plot.min.js\"><\/script>\n",
       "   <\/head>\n",
       "   <body>\n",
       "          <div id=\"KF692P\"><\/div>\n",
       "   <script type=\"text\/javascript\" data-lets-plot-script=\"plot\">\n",
       "       var plotSpec={\n",
       "\"data\":{\n",
       "\"manufacturer\":[\"audi\",\"audi\",\"audi\",\"audi\",\"audi\",\"audi\",\"audi\",\"audi\",\"audi\",\"audi\",\"audi\",\"audi\",\"audi\",\"audi\",\"audi\",\"audi\",\"audi\",\"audi\",\"chevrolet\",\"chevrolet\",\"chevrolet\",\"chevrolet\",\"chevrolet\",\"chevrolet\",\"chevrolet\",\"chevrolet\",\"chevrolet\",\"chevrolet\",\"chevrolet\",\"chevrolet\",\"chevrolet\",\"chevrolet\",\"chevrolet\",\"chevrolet\",\"chevrolet\",\"chevrolet\",\"chevrolet\",\"dodge\",\"dodge\",\"dodge\",\"dodge\",\"dodge\",\"dodge\",\"dodge\",\"dodge\",\"dodge\",\"dodge\",\"dodge\",\"dodge\",\"dodge\",\"dodge\",\"dodge\",\"dodge\",\"dodge\",\"dodge\",\"dodge\",\"dodge\",\"dodge\",\"dodge\",\"dodge\",\"dodge\",\"dodge\",\"dodge\",\"dodge\",\"dodge\",\"dodge\",\"dodge\",\"dodge\",\"dodge\",\"dodge\",\"dodge\",\"dodge\",\"dodge\",\"dodge\",\"ford\",\"ford\",\"ford\",\"ford\",\"ford\",\"ford\",\"ford\",\"ford\",\"ford\",\"ford\",\"ford\",\"ford\",\"ford\",\"ford\",\"ford\",\"ford\",\"ford\",\"ford\",\"ford\",\"ford\",\"ford\",\"ford\",\"ford\",\"ford\",\"ford\",\"honda\",\"honda\",\"honda\",\"honda\",\"honda\",\"honda\",\"honda\",\"honda\",\"honda\",\"hyundai\",\"hyundai\",\"hyundai\",\"hyundai\",\"hyundai\",\"hyundai\",\"hyundai\",\"hyundai\",\"hyundai\",\"hyundai\",\"hyundai\",\"hyundai\",\"hyundai\",\"hyundai\",\"jeep\",\"jeep\",\"jeep\",\"jeep\",\"jeep\",\"jeep\",\"jeep\",\"jeep\",\"land rover\",\"land rover\",\"land rover\",\"land rover\",\"lincoln\",\"lincoln\",\"lincoln\",\"mercury\",\"mercury\",\"mercury\",\"mercury\",\"nissan\",\"nissan\",\"nissan\",\"nissan\",\"nissan\",\"nissan\",\"nissan\",\"nissan\",\"nissan\",\"nissan\",\"nissan\",\"nissan\",\"nissan\",\"pontiac\",\"pontiac\",\"pontiac\",\"pontiac\",\"pontiac\",\"subaru\",\"subaru\",\"subaru\",\"subaru\",\"subaru\",\"subaru\",\"subaru\",\"subaru\",\"subaru\",\"subaru\",\"subaru\",\"subaru\",\"subaru\",\"subaru\",\"toyota\",\"toyota\",\"toyota\",\"toyota\",\"toyota\",\"toyota\",\"toyota\",\"toyota\",\"toyota\",\"toyota\",\"toyota\",\"toyota\",\"toyota\",\"toyota\",\"toyota\",\"toyota\",\"toyota\",\"toyota\",\"toyota\",\"toyota\",\"toyota\",\"toyota\",\"toyota\",\"toyota\",\"toyota\",\"toyota\",\"toyota\",\"toyota\",\"toyota\",\"toyota\",\"toyota\",\"toyota\",\"toyota\",\"toyota\",\"volkswagen\",\"volkswagen\",\"volkswagen\",\"volkswagen\",\"volkswagen\",\"volkswagen\",\"volkswagen\",\"volkswagen\",\"volkswagen\",\"volkswagen\",\"volkswagen\",\"volkswagen\",\"volkswagen\",\"volkswagen\",\"volkswagen\",\"volkswagen\",\"volkswagen\",\"volkswagen\",\"volkswagen\",\"volkswagen\",\"volkswagen\",\"volkswagen\",\"volkswagen\",\"volkswagen\",\"volkswagen\",\"volkswagen\",\"volkswagen\"],\n",
       "\"model\":[\"a4\",\"a4\",\"a4\",\"a4\",\"a4\",\"a4\",\"a4\",\"a4 quattro\",\"a4 quattro\",\"a4 quattro\",\"a4 quattro\",\"a4 quattro\",\"a4 quattro\",\"a4 quattro\",\"a4 quattro\",\"a6 quattro\",\"a6 quattro\",\"a6 quattro\",\"c1500 suburban 2wd\",\"c1500 suburban 2wd\",\"c1500 suburban 2wd\",\"c1500 suburban 2wd\",\"c1500 suburban 2wd\",\"corvette\",\"corvette\",\"corvette\",\"corvette\",\"corvette\",\"k1500 tahoe 4wd\",\"k1500 tahoe 4wd\",\"k1500 tahoe 4wd\",\"k1500 tahoe 4wd\",\"malibu\",\"malibu\",\"malibu\",\"malibu\",\"malibu\",\"caravan 2wd\",\"caravan 2wd\",\"caravan 2wd\",\"caravan 2wd\",\"caravan 2wd\",\"caravan 2wd\",\"caravan 2wd\",\"caravan 2wd\",\"caravan 2wd\",\"caravan 2wd\",\"caravan 2wd\",\"dakota pickup 4wd\",\"dakota pickup 4wd\",\"dakota pickup 4wd\",\"dakota pickup 4wd\",\"dakota pickup 4wd\",\"dakota pickup 4wd\",\"dakota pickup 4wd\",\"dakota pickup 4wd\",\"dakota pickup 4wd\",\"durango 4wd\",\"durango 4wd\",\"durango 4wd\",\"durango 4wd\",\"durango 4wd\",\"durango 4wd\",\"durango 4wd\",\"ram 1500 pickup 4wd\",\"ram 1500 pickup 4wd\",\"ram 1500 pickup 4wd\",\"ram 1500 pickup 4wd\",\"ram 1500 pickup 4wd\",\"ram 1500 pickup 4wd\",\"ram 1500 pickup 4wd\",\"ram 1500 pickup 4wd\",\"ram 1500 pickup 4wd\",\"ram 1500 pickup 4wd\",\"expedition 2wd\",\"expedition 2wd\",\"expedition 2wd\",\"explorer 4wd\",\"explorer 4wd\",\"explorer 4wd\",\"explorer 4wd\",\"explorer 4wd\",\"explorer 4wd\",\"f150 pickup 4wd\",\"f150 pickup 4wd\",\"f150 pickup 4wd\",\"f150 pickup 4wd\",\"f150 pickup 4wd\",\"f150 pickup 4wd\",\"f150 pickup 4wd\",\"mustang\",\"mustang\",\"mustang\",\"mustang\",\"mustang\",\"mustang\",\"mustang\",\"mustang\",\"mustang\",\"civic\",\"civic\",\"civic\",\"civic\",\"civic\",\"civic\",\"civic\",\"civic\",\"civic\",\"sonata\",\"sonata\",\"sonata\",\"sonata\",\"sonata\",\"sonata\",\"sonata\",\"tiburon\",\"tiburon\",\"tiburon\",\"tiburon\",\"tiburon\",\"tiburon\",\"tiburon\",\"grand cherokee 4wd\",\"grand cherokee 4wd\",\"grand cherokee 4wd\",\"grand cherokee 4wd\",\"grand cherokee 4wd\",\"grand cherokee 4wd\",\"grand cherokee 4wd\",\"grand cherokee 4wd\",\"range rover\",\"range rover\",\"range rover\",\"range rover\",\"navigator 2wd\",\"navigator 2wd\",\"navigator 2wd\",\"mountaineer 4wd\",\"mountaineer 4wd\",\"mountaineer 4wd\",\"mountaineer 4wd\",\"altima\",\"altima\",\"altima\",\"altima\",\"altima\",\"altima\",\"maxima\",\"maxima\",\"maxima\",\"pathfinder 4wd\",\"pathfinder 4wd\",\"pathfinder 4wd\",\"pathfinder 4wd\",\"grand prix\",\"grand prix\",\"grand prix\",\"grand prix\",\"grand prix\",\"forester awd\",\"forester awd\",\"forester awd\",\"forester awd\",\"forester awd\",\"forester awd\",\"impreza awd\",\"impreza awd\",\"impreza awd\",\"impreza awd\",\"impreza awd\",\"impreza awd\",\"impreza awd\",\"impreza awd\",\"4runner 4wd\",\"4runner 4wd\",\"4runner 4wd\",\"4runner 4wd\",\"4runner 4wd\",\"4runner 4wd\",\"camry\",\"camry\",\"camry\",\"camry\",\"camry\",\"camry\",\"camry\",\"camry solara\",\"camry solara\",\"camry solara\",\"camry solara\",\"camry solara\",\"camry solara\",\"camry solara\",\"corolla\",\"corolla\",\"corolla\",\"corolla\",\"corolla\",\"land cruiser wagon 4wd\",\"land cruiser wagon 4wd\",\"toyota tacoma 4wd\",\"toyota tacoma 4wd\",\"toyota tacoma 4wd\",\"toyota tacoma 4wd\",\"toyota tacoma 4wd\",\"toyota tacoma 4wd\",\"toyota tacoma 4wd\",\"gti\",\"gti\",\"gti\",\"gti\",\"gti\",\"jetta\",\"jetta\",\"jetta\",\"jetta\",\"jetta\",\"jetta\",\"jetta\",\"jetta\",\"jetta\",\"new beetle\",\"new beetle\",\"new beetle\",\"new beetle\",\"new beetle\",\"new beetle\",\"passat\",\"passat\",\"passat\",\"passat\",\"passat\",\"passat\",\"passat\"],\n",
       "\"displ\":[1.8,1.8,2.0,2.0,2.8,2.8,3.1,1.8,1.8,2.0,2.0,2.8,2.8,3.1,3.1,2.8,3.1,4.2,5.3,5.3,5.3,5.7,6.0,5.7,5.7,6.2,6.2,7.0,5.3,5.3,5.7,6.5,2.4,2.4,3.1,3.5,3.6,2.4,3.0,3.3,3.3,3.3,3.3,3.3,3.8,3.8,3.8,4.0,3.7,3.7,3.9,3.9,4.7,4.7,4.7,5.2,5.2,3.9,4.7,4.7,4.7,5.2,5.7,5.9,4.7,4.7,4.7,4.7,4.7,4.7,5.2,5.2,5.7,5.9,4.6,5.4,5.4,4.0,4.0,4.0,4.0,4.6,5.0,4.2,4.2,4.6,4.6,4.6,5.4,5.4,3.8,3.8,4.0,4.0,4.6,4.6,4.6,4.6,5.4,1.6,1.6,1.6,1.6,1.6,1.8,1.8,1.8,2.0,2.4,2.4,2.4,2.4,2.5,2.5,3.3,2.0,2.0,2.0,2.0,2.7,2.7,2.7,3.0,3.7,4.0,4.7,4.7,4.7,5.7,6.1,4.0,4.2,4.4,4.6,5.4,5.4,5.4,4.0,4.0,4.6,5.0,2.4,2.4,2.5,2.5,3.5,3.5,3.0,3.0,3.5,3.3,3.3,4.0,5.6,3.1,3.8,3.8,3.8,5.3,2.5,2.5,2.5,2.5,2.5,2.5,2.2,2.2,2.5,2.5,2.5,2.5,2.5,2.5,2.7,2.7,3.4,3.4,4.0,4.7,2.2,2.2,2.4,2.4,3.0,3.0,3.5,2.2,2.2,2.4,2.4,3.0,3.0,3.3,1.8,1.8,1.8,1.8,1.8,4.7,5.7,2.7,2.7,2.7,3.4,3.4,4.0,4.0,2.0,2.0,2.0,2.0,2.8,1.9,2.0,2.0,2.0,2.0,2.5,2.5,2.8,2.8,1.9,1.9,2.0,2.0,2.5,2.5,1.8,1.8,2.0,2.0,2.8,2.8,3.6],\n",
       "\"year\":[1999.0,1999.0,2008.0,2008.0,1999.0,1999.0,2008.0,1999.0,1999.0,2008.0,2008.0,1999.0,1999.0,2008.0,2008.0,1999.0,2008.0,2008.0,2008.0,2008.0,2008.0,1999.0,2008.0,1999.0,1999.0,2008.0,2008.0,2008.0,2008.0,2008.0,1999.0,1999.0,1999.0,2008.0,1999.0,2008.0,2008.0,1999.0,1999.0,1999.0,1999.0,2008.0,2008.0,2008.0,1999.0,1999.0,2008.0,2008.0,2008.0,2008.0,1999.0,1999.0,2008.0,2008.0,2008.0,1999.0,1999.0,1999.0,2008.0,2008.0,2008.0,1999.0,2008.0,1999.0,2008.0,2008.0,2008.0,2008.0,2008.0,2008.0,1999.0,1999.0,2008.0,1999.0,1999.0,1999.0,2008.0,1999.0,1999.0,1999.0,2008.0,2008.0,1999.0,1999.0,1999.0,1999.0,1999.0,2008.0,1999.0,2008.0,1999.0,1999.0,2008.0,2008.0,1999.0,1999.0,2008.0,2008.0,2008.0,1999.0,1999.0,1999.0,1999.0,1999.0,2008.0,2008.0,2008.0,2008.0,1999.0,1999.0,2008.0,2008.0,1999.0,1999.0,2008.0,1999.0,1999.0,2008.0,2008.0,2008.0,2008.0,2008.0,2008.0,2008.0,1999.0,1999.0,2008.0,2008.0,2008.0,2008.0,1999.0,2008.0,2008.0,1999.0,1999.0,1999.0,2008.0,1999.0,2008.0,2008.0,1999.0,1999.0,1999.0,2008.0,2008.0,2008.0,2008.0,1999.0,1999.0,2008.0,1999.0,1999.0,2008.0,2008.0,1999.0,1999.0,1999.0,2008.0,2008.0,1999.0,1999.0,2008.0,2008.0,2008.0,2008.0,1999.0,1999.0,1999.0,1999.0,2008.0,2008.0,2008.0,2008.0,1999.0,1999.0,1999.0,1999.0,2008.0,2008.0,1999.0,1999.0,2008.0,2008.0,1999.0,1999.0,2008.0,1999.0,1999.0,2008.0,2008.0,1999.0,1999.0,2008.0,1999.0,1999.0,1999.0,2008.0,2008.0,1999.0,2008.0,1999.0,1999.0,2008.0,1999.0,1999.0,2008.0,2008.0,1999.0,1999.0,2008.0,2008.0,1999.0,1999.0,1999.0,1999.0,2008.0,2008.0,2008.0,2008.0,1999.0,1999.0,1999.0,1999.0,1999.0,1999.0,2008.0,2008.0,1999.0,1999.0,2008.0,2008.0,1999.0,1999.0,2008.0],\n",
       "\"drv\":[\"f\",\"f\",\"f\",\"f\",\"f\",\"f\",\"f\",\"4\",\"4\",\"4\",\"4\",\"4\",\"4\",\"4\",\"4\",\"4\",\"4\",\"4\",\"r\",\"r\",\"r\",\"r\",\"r\",\"r\",\"r\",\"r\",\"r\",\"r\",\"4\",\"4\",\"4\",\"4\",\"f\",\"f\",\"f\",\"f\",\"f\",\"f\",\"f\",\"f\",\"f\",\"f\",\"f\",\"f\",\"f\",\"f\",\"f\",\"f\",\"4\",\"4\",\"4\",\"4\",\"4\",\"4\",\"4\",\"4\",\"4\",\"4\",\"4\",\"4\",\"4\",\"4\",\"4\",\"4\",\"4\",\"4\",\"4\",\"4\",\"4\",\"4\",\"4\",\"4\",\"4\",\"4\",\"r\",\"r\",\"r\",\"4\",\"4\",\"4\",\"4\",\"4\",\"4\",\"4\",\"4\",\"4\",\"4\",\"4\",\"4\",\"4\",\"r\",\"r\",\"r\",\"r\",\"r\",\"r\",\"r\",\"r\",\"r\",\"f\",\"f\",\"f\",\"f\",\"f\",\"f\",\"f\",\"f\",\"f\",\"f\",\"f\",\"f\",\"f\",\"f\",\"f\",\"f\",\"f\",\"f\",\"f\",\"f\",\"f\",\"f\",\"f\",\"4\",\"4\",\"4\",\"4\",\"4\",\"4\",\"4\",\"4\",\"4\",\"4\",\"4\",\"4\",\"r\",\"r\",\"r\",\"4\",\"4\",\"4\",\"4\",\"f\",\"f\",\"f\",\"f\",\"f\",\"f\",\"f\",\"f\",\"f\",\"4\",\"4\",\"4\",\"4\",\"f\",\"f\",\"f\",\"f\",\"f\",\"4\",\"4\",\"4\",\"4\",\"4\",\"4\",\"4\",\"4\",\"4\",\"4\",\"4\",\"4\",\"4\",\"4\",\"4\",\"4\",\"4\",\"4\",\"4\",\"4\",\"f\",\"f\",\"f\",\"f\",\"f\",\"f\",\"f\",\"f\",\"f\",\"f\",\"f\",\"f\",\"f\",\"f\",\"f\",\"f\",\"f\",\"f\",\"f\",\"4\",\"4\",\"4\",\"4\",\"4\",\"4\",\"4\",\"4\",\"4\",\"f\",\"f\",\"f\",\"f\",\"f\",\"f\",\"f\",\"f\",\"f\",\"f\",\"f\",\"f\",\"f\",\"f\",\"f\",\"f\",\"f\",\"f\",\"f\",\"f\",\"f\",\"f\",\"f\",\"f\",\"f\",\"f\",\"f\"],\n",
       "\"cty\":[18.0,21.0,20.0,21.0,16.0,18.0,18.0,18.0,16.0,20.0,19.0,15.0,17.0,17.0,15.0,15.0,17.0,16.0,14.0,11.0,14.0,13.0,12.0,16.0,15.0,16.0,15.0,15.0,14.0,11.0,11.0,14.0,19.0,22.0,18.0,18.0,17.0,18.0,17.0,16.0,16.0,17.0,17.0,11.0,15.0,15.0,16.0,16.0,15.0,14.0,13.0,14.0,14.0,14.0,9.0,11.0,11.0,13.0,13.0,9.0,13.0,11.0,13.0,11.0,12.0,9.0,13.0,13.0,12.0,9.0,11.0,11.0,13.0,11.0,11.0,11.0,12.0,14.0,15.0,14.0,13.0,13.0,13.0,14.0,14.0,13.0,13.0,13.0,11.0,13.0,18.0,18.0,17.0,16.0,15.0,15.0,15.0,15.0,14.0,28.0,24.0,25.0,23.0,24.0,26.0,25.0,24.0,21.0,18.0,18.0,21.0,21.0,18.0,18.0,19.0,19.0,19.0,20.0,20.0,17.0,16.0,17.0,17.0,15.0,15.0,14.0,9.0,14.0,13.0,11.0,11.0,12.0,12.0,11.0,11.0,11.0,12.0,14.0,13.0,13.0,13.0,21.0,19.0,23.0,23.0,19.0,19.0,18.0,19.0,19.0,14.0,15.0,14.0,12.0,18.0,16.0,17.0,18.0,16.0,18.0,18.0,20.0,19.0,20.0,18.0,21.0,19.0,19.0,19.0,20.0,20.0,19.0,20.0,15.0,16.0,15.0,15.0,16.0,14.0,21.0,21.0,21.0,21.0,18.0,18.0,19.0,21.0,21.0,21.0,22.0,18.0,18.0,18.0,24.0,24.0,26.0,28.0,26.0,11.0,13.0,15.0,16.0,17.0,15.0,15.0,15.0,16.0,21.0,19.0,21.0,22.0,17.0,33.0,21.0,19.0,22.0,21.0,21.0,21.0,16.0,17.0,35.0,29.0,21.0,19.0,20.0,20.0,21.0,18.0,19.0,21.0,16.0,18.0,17.0],\n",
       "\"hwy\":[29.0,29.0,31.0,30.0,26.0,26.0,27.0,26.0,25.0,28.0,27.0,25.0,25.0,25.0,25.0,24.0,25.0,23.0,20.0,15.0,20.0,17.0,17.0,26.0,23.0,26.0,25.0,24.0,19.0,14.0,15.0,17.0,27.0,30.0,26.0,29.0,26.0,24.0,24.0,22.0,22.0,24.0,24.0,17.0,22.0,21.0,23.0,23.0,19.0,18.0,17.0,17.0,19.0,19.0,12.0,17.0,15.0,17.0,17.0,12.0,17.0,16.0,18.0,15.0,16.0,12.0,17.0,17.0,16.0,12.0,15.0,16.0,17.0,15.0,17.0,17.0,18.0,17.0,19.0,17.0,19.0,19.0,17.0,17.0,17.0,16.0,16.0,17.0,15.0,17.0,26.0,25.0,26.0,24.0,21.0,22.0,23.0,22.0,20.0,33.0,32.0,32.0,29.0,32.0,34.0,36.0,36.0,29.0,26.0,27.0,30.0,31.0,26.0,26.0,28.0,26.0,29.0,28.0,27.0,24.0,24.0,24.0,22.0,19.0,20.0,17.0,12.0,19.0,18.0,14.0,15.0,18.0,18.0,15.0,17.0,16.0,18.0,17.0,19.0,19.0,17.0,29.0,27.0,31.0,32.0,27.0,26.0,26.0,25.0,25.0,17.0,17.0,20.0,18.0,26.0,26.0,27.0,28.0,25.0,25.0,24.0,27.0,25.0,26.0,23.0,26.0,26.0,26.0,26.0,25.0,27.0,25.0,27.0,20.0,20.0,19.0,17.0,20.0,17.0,29.0,27.0,31.0,31.0,26.0,26.0,28.0,27.0,29.0,31.0,31.0,26.0,26.0,27.0,30.0,33.0,35.0,37.0,35.0,15.0,18.0,20.0,20.0,22.0,17.0,19.0,18.0,20.0,29.0,26.0,29.0,29.0,24.0,44.0,29.0,26.0,29.0,29.0,29.0,29.0,23.0,24.0,44.0,41.0,29.0,26.0,28.0,29.0,29.0,29.0,28.0,29.0,26.0,26.0,26.0],\n",
       "\"class\":[\"compact\",\"compact\",\"compact\",\"compact\",\"compact\",\"compact\",\"compact\",\"compact\",\"compact\",\"compact\",\"compact\",\"compact\",\"compact\",\"compact\",\"compact\",\"midsize\",\"midsize\",\"midsize\",\"suv\",\"suv\",\"suv\",\"suv\",\"suv\",\"2seater\",\"2seater\",\"2seater\",\"2seater\",\"2seater\",\"suv\",\"suv\",\"suv\",\"suv\",\"midsize\",\"midsize\",\"midsize\",\"midsize\",\"midsize\",\"minivan\",\"minivan\",\"minivan\",\"minivan\",\"minivan\",\"minivan\",\"minivan\",\"minivan\",\"minivan\",\"minivan\",\"minivan\",\"pickup\",\"pickup\",\"pickup\",\"pickup\",\"pickup\",\"pickup\",\"pickup\",\"pickup\",\"pickup\",\"suv\",\"suv\",\"suv\",\"suv\",\"suv\",\"suv\",\"suv\",\"pickup\",\"pickup\",\"pickup\",\"pickup\",\"pickup\",\"pickup\",\"pickup\",\"pickup\",\"pickup\",\"pickup\",\"suv\",\"suv\",\"suv\",\"suv\",\"suv\",\"suv\",\"suv\",\"suv\",\"suv\",\"pickup\",\"pickup\",\"pickup\",\"pickup\",\"pickup\",\"pickup\",\"pickup\",\"subcompact\",\"subcompact\",\"subcompact\",\"subcompact\",\"subcompact\",\"subcompact\",\"subcompact\",\"subcompact\",\"subcompact\",\"subcompact\",\"subcompact\",\"subcompact\",\"subcompact\",\"subcompact\",\"subcompact\",\"subcompact\",\"subcompact\",\"subcompact\",\"midsize\",\"midsize\",\"midsize\",\"midsize\",\"midsize\",\"midsize\",\"midsize\",\"subcompact\",\"subcompact\",\"subcompact\",\"subcompact\",\"subcompact\",\"subcompact\",\"subcompact\",\"suv\",\"suv\",\"suv\",\"suv\",\"suv\",\"suv\",\"suv\",\"suv\",\"suv\",\"suv\",\"suv\",\"suv\",\"suv\",\"suv\",\"suv\",\"suv\",\"suv\",\"suv\",\"suv\",\"compact\",\"compact\",\"midsize\",\"midsize\",\"midsize\",\"midsize\",\"midsize\",\"midsize\",\"midsize\",\"suv\",\"suv\",\"suv\",\"suv\",\"midsize\",\"midsize\",\"midsize\",\"midsize\",\"midsize\",\"suv\",\"suv\",\"suv\",\"suv\",\"suv\",\"suv\",\"subcompact\",\"subcompact\",\"subcompact\",\"subcompact\",\"compact\",\"compact\",\"compact\",\"compact\",\"suv\",\"suv\",\"suv\",\"suv\",\"suv\",\"suv\",\"midsize\",\"midsize\",\"midsize\",\"midsize\",\"midsize\",\"midsize\",\"midsize\",\"compact\",\"compact\",\"compact\",\"compact\",\"compact\",\"compact\",\"compact\",\"compact\",\"compact\",\"compact\",\"compact\",\"compact\",\"suv\",\"suv\",\"pickup\",\"pickup\",\"pickup\",\"pickup\",\"pickup\",\"pickup\",\"pickup\",\"compact\",\"compact\",\"compact\",\"compact\",\"compact\",\"compact\",\"compact\",\"compact\",\"compact\",\"compact\",\"compact\",\"compact\",\"compact\",\"compact\",\"subcompact\",\"subcompact\",\"subcompact\",\"subcompact\",\"subcompact\",\"subcompact\",\"midsize\",\"midsize\",\"midsize\",\"midsize\",\"midsize\",\"midsize\",\"midsize\"]\n",
       "},\n",
       "\"mapping\":{\n",
       "},\n",
       "\"data_meta\":{\n",
       "},\n",
       "\"kind\":\"plot\",\n",
       "\"scales\":[],\n",
       "\"layers\":[{\n",
       "\"geom\":\"point\",\n",
       "\"mapping\":{\n",
       "\"x\":\"displ\",\n",
       "\"y\":\"cty\",\n",
       "\"fill\":\"drv\",\n",
       "\"size\":\"hwy\"\n",
       "},\n",
       "\"tooltips\":{\n",
       "\"formats\":[{\n",
       "\"field\":\"cty\",\n",
       "\"format\":\".1f\"\n",
       "},{\n",
       "\"field\":\"hwy\",\n",
       "\"format\":\".1f\"\n",
       "},{\n",
       "\"field\":\"drv\",\n",
       "\"format\":\"{}wd\"\n",
       "}],\n",
       "\"lines\":[\"@manufacturer @model\",\"cty\/hwy|@cty\/@hwy\",\"@|@class\",\"drive train|@drv\",\"@|@year\"],\n",
       "\"tooltip_anchor\":\"top_center\",\n",
       "\"tooltip_min_width\":200.0\n",
       "},\n",
       "\"data_meta\":{\n",
       "},\n",
       "\"shape\":21.0,\n",
       "\"color\":\"black\",\n",
       "\"data\":{\n",
       "}\n",
       "}],\n",
       "\"metainfo_list\":[]\n",
       "};\n",
       "       var plotContainer = document.getElementById(\"KF692P\");\n",
       "       LetsPlot.buildPlotFromProcessedSpecs(plotSpec, -1, -1, plotContainer);\n",
       "   <\/script>\n",
       "   <\/body>\n",
       "<\/html>"
      ]
     },
     "metadata":{},
     "output_type":"display_data"
    }
   ],
   "metadata":{
    "datalore":{
     "node_id":"qDixdUGyK5nnQ3rUrpbMuP",
     "type":"CODE",
     "hide_input_from_viewers":false,
     "hide_output_from_viewers":false,
     "report_properties":{
      "rowId":"FUEQtecUZoZWW9q8Caz6wy",
      "relativeY":0
     }
    }
   }
  },
  {
   "cell_type":"markdown",
   "source":[
    "Move the tooltips to the top right corner and change its title:"
   ],
   "attachments":{},
   "metadata":{
    "datalore":{
     "node_id":"vo9J93nbwb4XFzTbCgjNax",
     "type":"MD",
     "hide_input_from_viewers":false,
     "hide_output_from_viewers":false,
     "report_properties":{
      "rowId":"Km563p4katphpOB3qtsLmv",
      "relativeY":0
     }
    }
   }
  },
  {
   "cell_type":"code",
   "source":[
    "ggplot(df) + geom_point(aes(x='displ', y='cty', fill='drv', size='hwy'),\n",
    "                        shape=21, color='black',\n",
    "                        tooltips=layer_tooltips().title('Drive type: @drv')\n",
    "                                                 .anchor('top_right'))"
   ],
   "execution_count":18,
   "outputs":[
    {
     "data":{
      "text\/html":[
       "<html lang=\"en\">\n",
       "   <head>\n",
       "       <meta charset=\"UTF-8\">\n",
       "       <script type=\"text\/javascript\" data-lets-plot-script=\"library\" src=\"https:\/\/cdn.jsdelivr.net\/gh\/JetBrains\/lets-plot@v4.3.3\/js-package\/distr\/lets-plot.min.js\"><\/script>\n",
       "   <\/head>\n",
       "   <body>\n",
       "          <div id=\"LlDL4n\"><\/div>\n",
       "   <script type=\"text\/javascript\" data-lets-plot-script=\"plot\">\n",
       "       var plotSpec={\n",
       "\"data\":{\n",
       "\"displ\":[1.8,1.8,2.0,2.0,2.8,2.8,3.1,1.8,1.8,2.0,2.0,2.8,2.8,3.1,3.1,2.8,3.1,4.2,5.3,5.3,5.3,5.7,6.0,5.7,5.7,6.2,6.2,7.0,5.3,5.3,5.7,6.5,2.4,2.4,3.1,3.5,3.6,2.4,3.0,3.3,3.3,3.3,3.3,3.3,3.8,3.8,3.8,4.0,3.7,3.7,3.9,3.9,4.7,4.7,4.7,5.2,5.2,3.9,4.7,4.7,4.7,5.2,5.7,5.9,4.7,4.7,4.7,4.7,4.7,4.7,5.2,5.2,5.7,5.9,4.6,5.4,5.4,4.0,4.0,4.0,4.0,4.6,5.0,4.2,4.2,4.6,4.6,4.6,5.4,5.4,3.8,3.8,4.0,4.0,4.6,4.6,4.6,4.6,5.4,1.6,1.6,1.6,1.6,1.6,1.8,1.8,1.8,2.0,2.4,2.4,2.4,2.4,2.5,2.5,3.3,2.0,2.0,2.0,2.0,2.7,2.7,2.7,3.0,3.7,4.0,4.7,4.7,4.7,5.7,6.1,4.0,4.2,4.4,4.6,5.4,5.4,5.4,4.0,4.0,4.6,5.0,2.4,2.4,2.5,2.5,3.5,3.5,3.0,3.0,3.5,3.3,3.3,4.0,5.6,3.1,3.8,3.8,3.8,5.3,2.5,2.5,2.5,2.5,2.5,2.5,2.2,2.2,2.5,2.5,2.5,2.5,2.5,2.5,2.7,2.7,3.4,3.4,4.0,4.7,2.2,2.2,2.4,2.4,3.0,3.0,3.5,2.2,2.2,2.4,2.4,3.0,3.0,3.3,1.8,1.8,1.8,1.8,1.8,4.7,5.7,2.7,2.7,2.7,3.4,3.4,4.0,4.0,2.0,2.0,2.0,2.0,2.8,1.9,2.0,2.0,2.0,2.0,2.5,2.5,2.8,2.8,1.9,1.9,2.0,2.0,2.5,2.5,1.8,1.8,2.0,2.0,2.8,2.8,3.6],\n",
       "\"drv\":[\"f\",\"f\",\"f\",\"f\",\"f\",\"f\",\"f\",\"4\",\"4\",\"4\",\"4\",\"4\",\"4\",\"4\",\"4\",\"4\",\"4\",\"4\",\"r\",\"r\",\"r\",\"r\",\"r\",\"r\",\"r\",\"r\",\"r\",\"r\",\"4\",\"4\",\"4\",\"4\",\"f\",\"f\",\"f\",\"f\",\"f\",\"f\",\"f\",\"f\",\"f\",\"f\",\"f\",\"f\",\"f\",\"f\",\"f\",\"f\",\"4\",\"4\",\"4\",\"4\",\"4\",\"4\",\"4\",\"4\",\"4\",\"4\",\"4\",\"4\",\"4\",\"4\",\"4\",\"4\",\"4\",\"4\",\"4\",\"4\",\"4\",\"4\",\"4\",\"4\",\"4\",\"4\",\"r\",\"r\",\"r\",\"4\",\"4\",\"4\",\"4\",\"4\",\"4\",\"4\",\"4\",\"4\",\"4\",\"4\",\"4\",\"4\",\"r\",\"r\",\"r\",\"r\",\"r\",\"r\",\"r\",\"r\",\"r\",\"f\",\"f\",\"f\",\"f\",\"f\",\"f\",\"f\",\"f\",\"f\",\"f\",\"f\",\"f\",\"f\",\"f\",\"f\",\"f\",\"f\",\"f\",\"f\",\"f\",\"f\",\"f\",\"f\",\"4\",\"4\",\"4\",\"4\",\"4\",\"4\",\"4\",\"4\",\"4\",\"4\",\"4\",\"4\",\"r\",\"r\",\"r\",\"4\",\"4\",\"4\",\"4\",\"f\",\"f\",\"f\",\"f\",\"f\",\"f\",\"f\",\"f\",\"f\",\"4\",\"4\",\"4\",\"4\",\"f\",\"f\",\"f\",\"f\",\"f\",\"4\",\"4\",\"4\",\"4\",\"4\",\"4\",\"4\",\"4\",\"4\",\"4\",\"4\",\"4\",\"4\",\"4\",\"4\",\"4\",\"4\",\"4\",\"4\",\"4\",\"f\",\"f\",\"f\",\"f\",\"f\",\"f\",\"f\",\"f\",\"f\",\"f\",\"f\",\"f\",\"f\",\"f\",\"f\",\"f\",\"f\",\"f\",\"f\",\"4\",\"4\",\"4\",\"4\",\"4\",\"4\",\"4\",\"4\",\"4\",\"f\",\"f\",\"f\",\"f\",\"f\",\"f\",\"f\",\"f\",\"f\",\"f\",\"f\",\"f\",\"f\",\"f\",\"f\",\"f\",\"f\",\"f\",\"f\",\"f\",\"f\",\"f\",\"f\",\"f\",\"f\",\"f\",\"f\"],\n",
       "\"cty\":[18.0,21.0,20.0,21.0,16.0,18.0,18.0,18.0,16.0,20.0,19.0,15.0,17.0,17.0,15.0,15.0,17.0,16.0,14.0,11.0,14.0,13.0,12.0,16.0,15.0,16.0,15.0,15.0,14.0,11.0,11.0,14.0,19.0,22.0,18.0,18.0,17.0,18.0,17.0,16.0,16.0,17.0,17.0,11.0,15.0,15.0,16.0,16.0,15.0,14.0,13.0,14.0,14.0,14.0,9.0,11.0,11.0,13.0,13.0,9.0,13.0,11.0,13.0,11.0,12.0,9.0,13.0,13.0,12.0,9.0,11.0,11.0,13.0,11.0,11.0,11.0,12.0,14.0,15.0,14.0,13.0,13.0,13.0,14.0,14.0,13.0,13.0,13.0,11.0,13.0,18.0,18.0,17.0,16.0,15.0,15.0,15.0,15.0,14.0,28.0,24.0,25.0,23.0,24.0,26.0,25.0,24.0,21.0,18.0,18.0,21.0,21.0,18.0,18.0,19.0,19.0,19.0,20.0,20.0,17.0,16.0,17.0,17.0,15.0,15.0,14.0,9.0,14.0,13.0,11.0,11.0,12.0,12.0,11.0,11.0,11.0,12.0,14.0,13.0,13.0,13.0,21.0,19.0,23.0,23.0,19.0,19.0,18.0,19.0,19.0,14.0,15.0,14.0,12.0,18.0,16.0,17.0,18.0,16.0,18.0,18.0,20.0,19.0,20.0,18.0,21.0,19.0,19.0,19.0,20.0,20.0,19.0,20.0,15.0,16.0,15.0,15.0,16.0,14.0,21.0,21.0,21.0,21.0,18.0,18.0,19.0,21.0,21.0,21.0,22.0,18.0,18.0,18.0,24.0,24.0,26.0,28.0,26.0,11.0,13.0,15.0,16.0,17.0,15.0,15.0,15.0,16.0,21.0,19.0,21.0,22.0,17.0,33.0,21.0,19.0,22.0,21.0,21.0,21.0,16.0,17.0,35.0,29.0,21.0,19.0,20.0,20.0,21.0,18.0,19.0,21.0,16.0,18.0,17.0],\n",
       "\"hwy\":[29.0,29.0,31.0,30.0,26.0,26.0,27.0,26.0,25.0,28.0,27.0,25.0,25.0,25.0,25.0,24.0,25.0,23.0,20.0,15.0,20.0,17.0,17.0,26.0,23.0,26.0,25.0,24.0,19.0,14.0,15.0,17.0,27.0,30.0,26.0,29.0,26.0,24.0,24.0,22.0,22.0,24.0,24.0,17.0,22.0,21.0,23.0,23.0,19.0,18.0,17.0,17.0,19.0,19.0,12.0,17.0,15.0,17.0,17.0,12.0,17.0,16.0,18.0,15.0,16.0,12.0,17.0,17.0,16.0,12.0,15.0,16.0,17.0,15.0,17.0,17.0,18.0,17.0,19.0,17.0,19.0,19.0,17.0,17.0,17.0,16.0,16.0,17.0,15.0,17.0,26.0,25.0,26.0,24.0,21.0,22.0,23.0,22.0,20.0,33.0,32.0,32.0,29.0,32.0,34.0,36.0,36.0,29.0,26.0,27.0,30.0,31.0,26.0,26.0,28.0,26.0,29.0,28.0,27.0,24.0,24.0,24.0,22.0,19.0,20.0,17.0,12.0,19.0,18.0,14.0,15.0,18.0,18.0,15.0,17.0,16.0,18.0,17.0,19.0,19.0,17.0,29.0,27.0,31.0,32.0,27.0,26.0,26.0,25.0,25.0,17.0,17.0,20.0,18.0,26.0,26.0,27.0,28.0,25.0,25.0,24.0,27.0,25.0,26.0,23.0,26.0,26.0,26.0,26.0,25.0,27.0,25.0,27.0,20.0,20.0,19.0,17.0,20.0,17.0,29.0,27.0,31.0,31.0,26.0,26.0,28.0,27.0,29.0,31.0,31.0,26.0,26.0,27.0,30.0,33.0,35.0,37.0,35.0,15.0,18.0,20.0,20.0,22.0,17.0,19.0,18.0,20.0,29.0,26.0,29.0,29.0,24.0,44.0,29.0,26.0,29.0,29.0,29.0,29.0,23.0,24.0,44.0,41.0,29.0,26.0,28.0,29.0,29.0,29.0,28.0,29.0,26.0,26.0,26.0]\n",
       "},\n",
       "\"mapping\":{\n",
       "},\n",
       "\"data_meta\":{\n",
       "},\n",
       "\"kind\":\"plot\",\n",
       "\"scales\":[],\n",
       "\"layers\":[{\n",
       "\"geom\":\"point\",\n",
       "\"mapping\":{\n",
       "\"x\":\"displ\",\n",
       "\"y\":\"cty\",\n",
       "\"fill\":\"drv\",\n",
       "\"size\":\"hwy\"\n",
       "},\n",
       "\"tooltips\":{\n",
       "\"formats\":[],\n",
       "\"tooltip_anchor\":\"top_right\",\n",
       "\"title\":\"Drive type: @drv\"\n",
       "},\n",
       "\"data_meta\":{\n",
       "},\n",
       "\"shape\":21.0,\n",
       "\"color\":\"black\",\n",
       "\"data\":{\n",
       "}\n",
       "}],\n",
       "\"metainfo_list\":[]\n",
       "};\n",
       "       var plotContainer = document.getElementById(\"LlDL4n\");\n",
       "       LetsPlot.buildPlotFromProcessedSpecs(plotSpec, -1, -1, plotContainer);\n",
       "   <\/script>\n",
       "   <\/body>\n",
       "<\/html>"
      ]
     },
     "metadata":{},
     "output_type":"display_data"
    }
   ],
   "metadata":{
    "datalore":{
     "node_id":"HX6SzelvC8kiZxzqf4UmLy",
     "type":"CODE",
     "hide_input_from_viewers":false,
     "hide_output_from_viewers":false,
     "report_properties":{
      "rowId":"ynq7lFgSV6vn5eBCaBBkTJ",
      "relativeY":0
     }
    }
   }
  },
  {
   "cell_type":"markdown",
   "source":[
    "## Side Tooltips Configuration\n",
    "\n",
    "In Lets-Plot certain aesthetics by default are represented by so-called \"side tooltip\" - a small tipped box containing just a single numeric value.\n",
    "\n",
    "You can override these defaults using the `line()` function.\n",
    "Configuring a \"line\" in a general multi-line tooltip disables side tooltip for the correspondent aesthetic.\n",
    "\n",
    "Formatting in side tooltip is configured with the help of the `format()` function: the same way it's done for lines in general tooltip."
   ],
   "attachments":{},
   "metadata":{
    "datalore":{
     "node_id":"OUZXQTs0IuyesKWIdWJiY4",
     "type":"MD",
     "hide_input_from_viewers":false,
     "hide_output_from_viewers":false,
     "report_properties":{
      "rowId":"04eetvR5gr68IVpnRkMlmL",
      "relativeY":0
     }
    }
   }
  },
  {
   "cell_type":"markdown",
   "source":[
    "### Examples\n",
    "\n",
    "Change formatting for side tooltips:"
   ],
   "attachments":{},
   "metadata":{
    "datalore":{
     "node_id":"itJuld0gKEjRpp3C5uDAQw",
     "type":"MD",
     "hide_input_from_viewers":false,
     "hide_output_from_viewers":false,
     "report_properties":{
      "rowId":"2BxqrZSOGzEVzLjrt0vzZf",
      "relativeY":0
     }
    }
   }
  },
  {
   "cell_type":"code",
   "source":[
    "ggplot(df, aes('class', 'hwy')) + \\\n",
    "    geom_boxplot(tooltips=layer_tooltips().format('^Y', '.2f')        # all positionals\n",
    "                                          .format('^ymax', '.3f')     # use number format --> \"ymax: value\"\n",
    "                                          .format('^middle', '{.3f}') # use line format --> \"value\"\n",
    "                                          .format('^ymin', 'ymin is {.3f}')) + \\\n",
    "    theme(legend_position='none')"
   ],
   "execution_count":19,
   "outputs":[
    {
     "data":{
      "text\/html":[
       "<html lang=\"en\">\n",
       "   <head>\n",
       "       <meta charset=\"UTF-8\">\n",
       "       <script type=\"text\/javascript\" data-lets-plot-script=\"library\" src=\"https:\/\/cdn.jsdelivr.net\/gh\/JetBrains\/lets-plot@v4.3.3\/js-package\/distr\/lets-plot.min.js\"><\/script>\n",
       "   <\/head>\n",
       "   <body>\n",
       "          <div id=\"vMxC8p\"><\/div>\n",
       "   <script type=\"text\/javascript\" data-lets-plot-script=\"plot\">\n",
       "       var plotSpec={\n",
       "\"data\":{\n",
       "},\n",
       "\"mapping\":{\n",
       "\"x\":\"class\",\n",
       "\"y\":\"hwy\"\n",
       "},\n",
       "\"data_meta\":{\n",
       "},\n",
       "\"theme\":{\n",
       "\"legend_position\":\"none\"\n",
       "},\n",
       "\"kind\":\"plot\",\n",
       "\"scales\":[],\n",
       "\"layers\":[{\n",
       "\"geom\":\"boxplot\",\n",
       "\"mapping\":{\n",
       "},\n",
       "\"tooltips\":{\n",
       "\"formats\":[{\n",
       "\"field\":\"^Y\",\n",
       "\"format\":\".2f\"\n",
       "},{\n",
       "\"field\":\"^ymax\",\n",
       "\"format\":\".3f\"\n",
       "},{\n",
       "\"field\":\"^middle\",\n",
       "\"format\":\"{.3f}\"\n",
       "},{\n",
       "\"field\":\"^ymin\",\n",
       "\"format\":\"ymin is {.3f}\"\n",
       "}]\n",
       "},\n",
       "\"data_meta\":{\n",
       "},\n",
       "\"data\":{\n",
       "\"..middle..\":[27.0,27.0,17.5,25.0,23.0,17.0,26.0],\n",
       "\"..lower..\":[26.0,26.0,17.0,24.0,22.0,16.0,24.5],\n",
       "\"..upper..\":[29.0,29.0,19.0,26.0,24.0,18.0,30.5],\n",
       "\"..ymin..\":[23.0,23.0,14.0,23.0,21.0,15.0,20.0],\n",
       "\"..ymax..\":[33.0,32.0,22.0,26.0,24.0,20.0,36.0],\n",
       "\"class\":[\"compact\",\"midsize\",\"suv\",\"2seater\",\"minivan\",\"pickup\",\"subcompact\"]\n",
       "}\n",
       "},{\n",
       "\"geom\":\"point\",\n",
       "\"stat\":\"boxplot_outlier\",\n",
       "\"mapping\":{\n",
       "},\n",
       "\"show_legend\":false,\n",
       "\"data_meta\":{\n",
       "},\n",
       "\"data\":{\n",
       "\"..middle..\":[27.0,27.0,27.0,27.0,27.0,17.5,17.5,17.5,17.5,17.5,17.5,17.5,17.5,25.0,23.0,17.0,17.0,17.0,17.0,26.0,26.0],\n",
       "\"..lower..\":[26.0,26.0,26.0,26.0,26.0,17.0,17.0,17.0,17.0,17.0,17.0,17.0,17.0,24.0,22.0,16.0,16.0,16.0,16.0,24.5,24.5],\n",
       "\"..upper..\":[29.0,29.0,29.0,29.0,29.0,19.0,19.0,19.0,19.0,19.0,19.0,19.0,19.0,26.0,24.0,18.0,18.0,18.0,18.0,30.5,30.5],\n",
       "\"..ymin..\":[23.0,23.0,23.0,23.0,23.0,14.0,14.0,14.0,14.0,14.0,14.0,14.0,14.0,23.0,21.0,15.0,15.0,15.0,15.0,20.0,20.0],\n",
       "\"..ymax..\":[33.0,33.0,33.0,33.0,32.0,22.0,22.0,22.0,22.0,22.0,22.0,22.0,22.0,26.0,24.0,20.0,20.0,20.0,20.0,36.0,36.0],\n",
       "\"class\":[\"compact\",\"compact\",\"compact\",\"compact\",\"midsize\",\"suv\",\"suv\",\"suv\",\"suv\",\"suv\",\"suv\",\"suv\",\"suv\",\"2seater\",\"minivan\",\"pickup\",\"pickup\",\"pickup\",\"pickup\",\"subcompact\",\"subcompact\"],\n",
       "\"hwy\":[35.0,37.0,35.0,44.0,NaN,12.0,12.0,25.0,24.0,27.0,25.0,26.0,23.0,NaN,17.0,12.0,12.0,12.0,22.0,44.0,41.0]\n",
       "}\n",
       "}],\n",
       "\"metainfo_list\":[]\n",
       "};\n",
       "       var plotContainer = document.getElementById(\"vMxC8p\");\n",
       "       LetsPlot.buildPlotFromProcessedSpecs(plotSpec, -1, -1, plotContainer);\n",
       "   <\/script>\n",
       "   <\/body>\n",
       "<\/html>"
      ]
     },
     "metadata":{},
     "output_type":"display_data"
    }
   ],
   "metadata":{
    "datalore":{
     "node_id":"mMAv08n8ZrpuSFEp06xEil",
     "type":"CODE",
     "hide_input_from_viewers":false,
     "hide_output_from_viewers":false,
     "report_properties":{
      "rowId":"Sjkw2cPgswZ4cyZCuSzei4",
      "relativeY":0
     }
    }
   }
  },
  {
   "cell_type":"markdown",
   "source":[
    "Move side tooltips to a general tooltip:"
   ],
   "attachments":{},
   "metadata":{
    "datalore":{
     "node_id":"61FUxRobYpPpiu18U7Fsfu",
     "type":"MD",
     "hide_input_from_viewers":false,
     "hide_output_from_viewers":false,
     "report_properties":{
      "rowId":"FiKmwUh4pCL845u6uPW2Cg",
      "relativeY":0
     }
    }
   }
  },
  {
   "cell_type":"code",
   "source":[
    "ggplot(df, aes('class', 'hwy')) + \\\n",
    "    geom_boxplot(tooltips=layer_tooltips().line('lower\/upper|^lower, ^upper')) + \\\n",
    "    theme(legend_position='none')"
   ],
   "execution_count":20,
   "outputs":[
    {
     "data":{
      "text\/html":[
       "<html lang=\"en\">\n",
       "   <head>\n",
       "       <meta charset=\"UTF-8\">\n",
       "       <script type=\"text\/javascript\" data-lets-plot-script=\"library\" src=\"https:\/\/cdn.jsdelivr.net\/gh\/JetBrains\/lets-plot@v4.3.3\/js-package\/distr\/lets-plot.min.js\"><\/script>\n",
       "   <\/head>\n",
       "   <body>\n",
       "          <div id=\"1FiZa4\"><\/div>\n",
       "   <script type=\"text\/javascript\" data-lets-plot-script=\"plot\">\n",
       "       var plotSpec={\n",
       "\"data\":{\n",
       "},\n",
       "\"mapping\":{\n",
       "\"x\":\"class\",\n",
       "\"y\":\"hwy\"\n",
       "},\n",
       "\"data_meta\":{\n",
       "},\n",
       "\"theme\":{\n",
       "\"legend_position\":\"none\"\n",
       "},\n",
       "\"kind\":\"plot\",\n",
       "\"scales\":[],\n",
       "\"layers\":[{\n",
       "\"geom\":\"boxplot\",\n",
       "\"mapping\":{\n",
       "},\n",
       "\"tooltips\":{\n",
       "\"formats\":[],\n",
       "\"lines\":[\"lower\/upper|^lower, ^upper\"]\n",
       "},\n",
       "\"data_meta\":{\n",
       "},\n",
       "\"data\":{\n",
       "\"..middle..\":[27.0,27.0,17.5,25.0,23.0,17.0,26.0],\n",
       "\"..lower..\":[26.0,26.0,17.0,24.0,22.0,16.0,24.5],\n",
       "\"..upper..\":[29.0,29.0,19.0,26.0,24.0,18.0,30.5],\n",
       "\"..ymin..\":[23.0,23.0,14.0,23.0,21.0,15.0,20.0],\n",
       "\"..ymax..\":[33.0,32.0,22.0,26.0,24.0,20.0,36.0],\n",
       "\"class\":[\"compact\",\"midsize\",\"suv\",\"2seater\",\"minivan\",\"pickup\",\"subcompact\"]\n",
       "}\n",
       "},{\n",
       "\"geom\":\"point\",\n",
       "\"stat\":\"boxplot_outlier\",\n",
       "\"mapping\":{\n",
       "},\n",
       "\"show_legend\":false,\n",
       "\"data_meta\":{\n",
       "},\n",
       "\"data\":{\n",
       "\"..middle..\":[27.0,27.0,27.0,27.0,27.0,17.5,17.5,17.5,17.5,17.5,17.5,17.5,17.5,25.0,23.0,17.0,17.0,17.0,17.0,26.0,26.0],\n",
       "\"..lower..\":[26.0,26.0,26.0,26.0,26.0,17.0,17.0,17.0,17.0,17.0,17.0,17.0,17.0,24.0,22.0,16.0,16.0,16.0,16.0,24.5,24.5],\n",
       "\"..upper..\":[29.0,29.0,29.0,29.0,29.0,19.0,19.0,19.0,19.0,19.0,19.0,19.0,19.0,26.0,24.0,18.0,18.0,18.0,18.0,30.5,30.5],\n",
       "\"..ymin..\":[23.0,23.0,23.0,23.0,23.0,14.0,14.0,14.0,14.0,14.0,14.0,14.0,14.0,23.0,21.0,15.0,15.0,15.0,15.0,20.0,20.0],\n",
       "\"..ymax..\":[33.0,33.0,33.0,33.0,32.0,22.0,22.0,22.0,22.0,22.0,22.0,22.0,22.0,26.0,24.0,20.0,20.0,20.0,20.0,36.0,36.0],\n",
       "\"class\":[\"compact\",\"compact\",\"compact\",\"compact\",\"midsize\",\"suv\",\"suv\",\"suv\",\"suv\",\"suv\",\"suv\",\"suv\",\"suv\",\"2seater\",\"minivan\",\"pickup\",\"pickup\",\"pickup\",\"pickup\",\"subcompact\",\"subcompact\"],\n",
       "\"hwy\":[35.0,37.0,35.0,44.0,NaN,12.0,12.0,25.0,24.0,27.0,25.0,26.0,23.0,NaN,17.0,12.0,12.0,12.0,22.0,44.0,41.0]\n",
       "}\n",
       "}],\n",
       "\"metainfo_list\":[]\n",
       "};\n",
       "       var plotContainer = document.getElementById(\"1FiZa4\");\n",
       "       LetsPlot.buildPlotFromProcessedSpecs(plotSpec, -1, -1, plotContainer);\n",
       "   <\/script>\n",
       "   <\/body>\n",
       "<\/html>"
      ]
     },
     "metadata":{},
     "output_type":"display_data"
    }
   ],
   "metadata":{
    "datalore":{
     "node_id":"mt3r3tJgw6Ax1aQSZ2y9GF",
     "type":"CODE",
     "hide_input_from_viewers":false,
     "hide_output_from_viewers":false,
     "report_properties":{
      "rowId":"th8UIAp0cuCj2m1lfpQ71j",
      "relativeY":0
     }
    }
   }
  },
  {
   "cell_type":"markdown",
   "source":[
    "Place tooltip at the top center:"
   ],
   "attachments":{},
   "metadata":{
    "datalore":{
     "node_id":"4G0upXGCTEkkvKXmHfyVHl",
     "type":"MD",
     "hide_input_from_viewers":false,
     "hide_output_from_viewers":false,
     "report_properties":{
      "rowId":"vUkyofiog4FfOiwoTyspnc",
      "relativeY":0
     }
    }
   }
  },
  {
   "cell_type":"code",
   "source":[
    "ggplot(df, aes('class', 'hwy')) + \\\n",
    "    geom_boxplot(tooltips=layer_tooltips().anchor('top_center')\n",
    "                                            .format('^Y', '.0f')\n",
    "                                            .format('^middle', '.2f')\n",
    "                                            .line('@|^middle')\n",
    "                                            .line('lower\/upper|^lower\/^upper')\n",
    "                                            .line('min\/max|^ymin\/^ymax')) + \\\n",
    "    theme(legend_position='none')"
   ],
   "execution_count":21,
   "outputs":[
    {
     "data":{
      "text\/html":[
       "<html lang=\"en\">\n",
       "   <head>\n",
       "       <meta charset=\"UTF-8\">\n",
       "       <script type=\"text\/javascript\" data-lets-plot-script=\"library\" src=\"https:\/\/cdn.jsdelivr.net\/gh\/JetBrains\/lets-plot@v4.3.3\/js-package\/distr\/lets-plot.min.js\"><\/script>\n",
       "   <\/head>\n",
       "   <body>\n",
       "          <div id=\"sbfBtp\"><\/div>\n",
       "   <script type=\"text\/javascript\" data-lets-plot-script=\"plot\">\n",
       "       var plotSpec={\n",
       "\"data\":{\n",
       "},\n",
       "\"mapping\":{\n",
       "\"x\":\"class\",\n",
       "\"y\":\"hwy\"\n",
       "},\n",
       "\"data_meta\":{\n",
       "},\n",
       "\"theme\":{\n",
       "\"legend_position\":\"none\"\n",
       "},\n",
       "\"kind\":\"plot\",\n",
       "\"scales\":[],\n",
       "\"layers\":[{\n",
       "\"geom\":\"boxplot\",\n",
       "\"mapping\":{\n",
       "},\n",
       "\"tooltips\":{\n",
       "\"formats\":[{\n",
       "\"field\":\"^Y\",\n",
       "\"format\":\".0f\"\n",
       "},{\n",
       "\"field\":\"^middle\",\n",
       "\"format\":\".2f\"\n",
       "}],\n",
       "\"lines\":[\"@|^middle\",\"lower\/upper|^lower\/^upper\",\"min\/max|^ymin\/^ymax\"],\n",
       "\"tooltip_anchor\":\"top_center\"\n",
       "},\n",
       "\"data_meta\":{\n",
       "},\n",
       "\"data\":{\n",
       "\"..middle..\":[27.0,27.0,17.5,25.0,23.0,17.0,26.0],\n",
       "\"..lower..\":[26.0,26.0,17.0,24.0,22.0,16.0,24.5],\n",
       "\"..upper..\":[29.0,29.0,19.0,26.0,24.0,18.0,30.5],\n",
       "\"..ymin..\":[23.0,23.0,14.0,23.0,21.0,15.0,20.0],\n",
       "\"..ymax..\":[33.0,32.0,22.0,26.0,24.0,20.0,36.0],\n",
       "\"class\":[\"compact\",\"midsize\",\"suv\",\"2seater\",\"minivan\",\"pickup\",\"subcompact\"]\n",
       "}\n",
       "},{\n",
       "\"geom\":\"point\",\n",
       "\"stat\":\"boxplot_outlier\",\n",
       "\"mapping\":{\n",
       "},\n",
       "\"show_legend\":false,\n",
       "\"data_meta\":{\n",
       "},\n",
       "\"data\":{\n",
       "\"..middle..\":[27.0,27.0,27.0,27.0,27.0,17.5,17.5,17.5,17.5,17.5,17.5,17.5,17.5,25.0,23.0,17.0,17.0,17.0,17.0,26.0,26.0],\n",
       "\"..lower..\":[26.0,26.0,26.0,26.0,26.0,17.0,17.0,17.0,17.0,17.0,17.0,17.0,17.0,24.0,22.0,16.0,16.0,16.0,16.0,24.5,24.5],\n",
       "\"..upper..\":[29.0,29.0,29.0,29.0,29.0,19.0,19.0,19.0,19.0,19.0,19.0,19.0,19.0,26.0,24.0,18.0,18.0,18.0,18.0,30.5,30.5],\n",
       "\"..ymin..\":[23.0,23.0,23.0,23.0,23.0,14.0,14.0,14.0,14.0,14.0,14.0,14.0,14.0,23.0,21.0,15.0,15.0,15.0,15.0,20.0,20.0],\n",
       "\"..ymax..\":[33.0,33.0,33.0,33.0,32.0,22.0,22.0,22.0,22.0,22.0,22.0,22.0,22.0,26.0,24.0,20.0,20.0,20.0,20.0,36.0,36.0],\n",
       "\"class\":[\"compact\",\"compact\",\"compact\",\"compact\",\"midsize\",\"suv\",\"suv\",\"suv\",\"suv\",\"suv\",\"suv\",\"suv\",\"suv\",\"2seater\",\"minivan\",\"pickup\",\"pickup\",\"pickup\",\"pickup\",\"subcompact\",\"subcompact\"],\n",
       "\"hwy\":[35.0,37.0,35.0,44.0,NaN,12.0,12.0,25.0,24.0,27.0,25.0,26.0,23.0,NaN,17.0,12.0,12.0,12.0,22.0,44.0,41.0]\n",
       "}\n",
       "}],\n",
       "\"metainfo_list\":[]\n",
       "};\n",
       "       var plotContainer = document.getElementById(\"sbfBtp\");\n",
       "       LetsPlot.buildPlotFromProcessedSpecs(plotSpec, -1, -1, plotContainer);\n",
       "   <\/script>\n",
       "   <\/body>\n",
       "<\/html>"
      ]
     },
     "metadata":{},
     "output_type":"display_data"
    }
   ],
   "metadata":{
    "datalore":{
     "node_id":"t6pEbPTdfwqsN3CLIQuuHO",
     "type":"CODE",
     "hide_input_from_viewers":false,
     "hide_output_from_viewers":false,
     "report_properties":{
      "rowId":"YTZl7sugCJI4HLciISdiEY",
      "relativeY":0
     }
    }
   }
  },
  {
   "cell_type":"markdown",
   "source":[
    "## Hiding Tooltips\n",
    "\n",
    "Set `tooltips='none'` to hide tooltips from the layer.\n",
    "\n",
    "To hide axis tooltips you can set `'blank'` or `element_blank()` to the `axis_tooltip`, `axis_tooltip_x`, `axis_tooltip_y` parameters of the `theme()` function."
   ],
   "attachments":{},
   "metadata":{
    "datalore":{
     "node_id":"f2R2krQ89EcQgS6duPPFaR",
     "type":"MD",
     "hide_input_from_viewers":false,
     "hide_output_from_viewers":false,
     "report_properties":{
      "rowId":"9LTZEC0Qyvm0uCY8WTDBiE",
      "relativeY":0
     }
    }
   }
  },
  {
   "cell_type":"markdown",
   "source":[
    "## Tooltip Theme\n",
    "\n",
    "You can modify tooltip appearance using following parameters in the `theme()` function.\n",
    "\n",
    "- tooltip rectangle:\n",
    "\n",
    "  - `tooltip`\n",
    "\n",
    "  - `axis_tooltip`, `axis_tooltip_x`, `axis_tooltip_y`\n",
    "\n",
    "- tooltip text:\n",
    "\n",
    "  - `tooltip_text`\n",
    "\n",
    "  - `tooltip_title_text`\n",
    "\n",
    "  - `axis_tooltip_text`, `axis_tooltip_text_x`, `axis_tooltip_text_y`\n",
    "\n",
    "See: [example notebook](https:\/\/nbviewer.org\/github\/JetBrains\/lets-plot-docs\/blob\/master\/source\/examples\/cookbook\/tooltips_theme.ipynb)."
   ],
   "attachments":{},
   "metadata":{
    "datalore":{
     "node_id":"9MVAMMPWH9XwMIAlRhv6s8",
     "type":"MD",
     "hide_input_from_viewers":false,
     "hide_output_from_viewers":false,
     "report_properties":{
      "rowId":"qiC0ziuy2JQexUjvUgF7BX",
      "relativeY":0
     }
    }
   }
  },
  {
   "cell_type":"markdown",
   "source":[
    "## Example Notebooks\n",
    "\n",
    "- [Tooltip title](https:\/\/nbviewer.jupyter.org\/github\/JetBrains\/lets-plot-docs\/blob\/master\/source\/examples\/cookbook\/tooltip_title.ipynb)\n",
    " \n",
    "- [Tooltip customization](https:\/\/nbviewer.jupyter.org\/github\/JetBrains\/lets-plot-docs\/blob\/master\/source\/examples\/cookbook\/tooltip_config.ipynb)\n",
    "\n",
    "- [Visualization of Airport Data on Map](https:\/\/www.kaggle.com\/alshan\/visualization-of-airport-data-on-map)"
   ],
   "attachments":{},
   "metadata":{
    "datalore":{
     "node_id":"GMuKE1wnyzkd8HxtlqIuDO",
     "type":"MD",
     "hide_input_from_viewers":false,
     "hide_output_from_viewers":false,
     "report_properties":{
      "rowId":"bxy40XKcW5aNvdwAsgfTJG",
      "relativeY":0
     }
    }
   }
  }
 ],
 "metadata":{
  "kernelspec":{
   "display_name":"Python",
   "language":"python",
   "name":"python"
  },
  "datalore":{
   "computation_mode":"JUPYTER",
   "package_manager":"pip",
   "base_environment":"default",
   "packages":[],
   "report_row_ids":[
    "2zkugXd1072jfqZdevBxp7",
    "2wLAHbkQxpPLwCZCEYp3Vz",
    "XaFCqyhS9T3dIacjsCcNP4",
    "rapko9X0isuAOEcr8byt2T",
    "UNGDhMWMESQJhQu4KLGmsi",
    "IHSqznlxRTUc8ifAkfXGRB",
    "4MFVTtxwmlo0hGvywOIr0g",
    "fIlpw4Xp2ajBqg0nHWBx0v",
    "MUCFUu8CaS79dzGAnxsK3L",
    "HmlmtTrhh3U4u32gMKK6tK",
    "v3SlZGkSjztB6rN7z9INS8",
    "Z11xlbHvnHWFiG3iIMWxhk",
    "2oJsbqToUcZoxLoPxBoJH9",
    "UTaEmUbS0GkssnRtjgsMSj",
    "2ZdL62arjblMSpuuj65hNG",
    "SSR4HiA9anAczVKWgMrBKR",
    "4FmzQxp0Lc24LjV36hKQZj",
    "9ytl36KMePCWmIym7dlXGs",
    "KRFz1y1R4YfHJvqow5tGrJ",
    "QS7HJpGUSZen5VT5fwNEZb",
    "s0fd700B9CEnNAlaAQSNZ0",
    "WAHM2TCYa4oUXRDbobAPgD",
    "FUEQtecUZoZWW9q8Caz6wy",
    "Km563p4katphpOB3qtsLmv",
    "ynq7lFgSV6vn5eBCaBBkTJ",
    "04eetvR5gr68IVpnRkMlmL",
    "2BxqrZSOGzEVzLjrt0vzZf",
    "Sjkw2cPgswZ4cyZCuSzei4",
    "FiKmwUh4pCL845u6uPW2Cg",
    "th8UIAp0cuCj2m1lfpQ71j",
    "vUkyofiog4FfOiwoTyspnc",
    "YTZl7sugCJI4HLciISdiEY",
    "9LTZEC0Qyvm0uCY8WTDBiE",
    "qiC0ziuy2JQexUjvUgF7BX",
    "bxy40XKcW5aNvdwAsgfTJG"
   ],
   "report_link":"https:\/\/datalore.jetbrains.com\/report\/HZqq77cegYd.E7get_WnChZ\/y8xk12VJ0sHpRHcWnrDhQO",
   "version":3
  }
 },
 "nbformat":4,
 "nbformat_minor":4
}