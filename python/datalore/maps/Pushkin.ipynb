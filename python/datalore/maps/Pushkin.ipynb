{
 "cells": [
  {
   "attachments": {},
   "cell_type": "markdown",
   "metadata": {
    "datalore": {
     "hide_input_from_viewers": false,
     "hide_output_from_viewers": false,
     "node_id": "RbqIT0Ffy0K3Y19ukexs4c",
     "report_properties": {
      "relativeY": 0,
      "rowId": "KEmvgqU9p3mD9ZU2iUzWYK"
     },
     "type": "MD"
    }
   },
   "source": [
    "# Pushkin as a Traveller\n",
    "\n",
    "Pushkin grew up in Moscow and St. Petersburg. In 1819 he was exiled, at the age of nineteen, to a small town called Kishinev and then he was moved to his family estate in Ekaterinoslav. He remained in exile for nearly seven years until 1826 when Tsar Nicholas came to power. Below you can see a map of his travels throughout Russia.\n",
    "\n",
    "<img src=\"https://raw.githubusercontent.com/JetBrains/lets-plot-docs/master/data/pushkin/O.Kiprensky_-_A.S.Pushkin.jpg\" alt=\"Portrait of A.S. Pushkin\" style=\"width: 300px;\"/>\n",
    "\n",
    "[Original version](https://www.rgo.ru/ru/article/pushkin-puteshestvennik-linii-zhizni-linii-na-karte) of the graph that you can see below.\n",
    "\n",
    "Also, see the [short journey through his biography](https://pushkinland.ru/2018/english/push1.php).\n",
    "\n",
    "Some data was collected from other sources, such as:\n",
    "\n",
    "- [https://en.wikipedia.org/wiki/Alexander_Pushkin](https://en.wikipedia.org/wiki/Alexander_Pushkin)\n",
    "- [http://hronika.su/pushkin-a-s](http://hronika.su/pushkin-a-s)"
   ]
  },
  {
   "cell_type": "code",
   "execution_count": 1,
   "metadata": {
    "datalore": {
     "hide_input_from_viewers": false,
     "hide_output_from_viewers": false,
     "node_id": "oqftYUJICKS69NYV1pwN2m",
     "report_properties": {
      "relativeY": 0,
      "rowId": "D95lYf8Jfdk6pxU86rmNz5"
     },
     "type": "CODE"
    },
    "execution": {
     "iopub.execute_input": "2024-11-07T09:28:17.884102Z",
     "iopub.status.busy": "2024-11-07T09:28:17.883518Z",
     "iopub.status.idle": "2024-11-07T09:28:18.304544Z",
     "shell.execute_reply": "2024-11-07T09:28:18.304212Z"
    }
   },
   "outputs": [],
   "source": [
    "import pandas as pd\n",
    "\n",
    "from lets_plot import *"
   ]
  },
  {
   "cell_type": "code",
   "execution_count": 2,
   "metadata": {
    "datalore": {
     "hide_input_from_viewers": false,
     "hide_output_from_viewers": false,
     "node_id": "QxDmg3GumKvc3qUS2cF8hD",
     "report_properties": {
      "relativeY": 0,
      "rowId": "O1LmSJ86VEnrkaR923SpmY"
     },
     "type": "CODE"
    },
    "execution": {
     "iopub.execute_input": "2024-11-07T09:28:18.305884Z",
     "iopub.status.busy": "2024-11-07T09:28:18.305773Z",
     "iopub.status.idle": "2024-11-07T09:28:18.308118Z",
     "shell.execute_reply": "2024-11-07T09:28:18.307897Z"
    }
   },
   "outputs": [
    {
     "data": {
      "text/html": [
       "\n",
       "            <div id=\"MFVTAs\"></div>\n",
       "            <script type=\"text/javascript\" data-lets-plot-script=\"library\">\n",
       "                if(!window.letsPlotCallQueue) {\n",
       "                    window.letsPlotCallQueue = [];\n",
       "                }; \n",
       "                window.letsPlotCall = function(f) {\n",
       "                    window.letsPlotCallQueue.push(f);\n",
       "                };\n",
       "                (function() {\n",
       "                    var script = document.createElement(\"script\");\n",
       "                    script.type = \"text/javascript\";\n",
       "                    script.src = \"https://cdn.jsdelivr.net/gh/JetBrains/lets-plot@v4.5.1/js-package/distr/lets-plot.min.js\";\n",
       "                    script.onload = function() {\n",
       "                        window.letsPlotCall = function(f) {f();};\n",
       "                        window.letsPlotCallQueue.forEach(function(f) {f();});\n",
       "                        window.letsPlotCallQueue = [];\n",
       "                        \n",
       "                    };\n",
       "                    script.onerror = function(event) {\n",
       "                        window.letsPlotCall = function(f) {};    // noop\n",
       "                        window.letsPlotCallQueue = [];\n",
       "                        var div = document.createElement(\"div\");\n",
       "                        div.style.color = 'darkred';\n",
       "                        div.textContent = 'Error loading Lets-Plot JS';\n",
       "                        document.getElementById(\"MFVTAs\").appendChild(div);\n",
       "                    };\n",
       "                    var e = document.getElementById(\"MFVTAs\");\n",
       "                    e.appendChild(script);\n",
       "                })()\n",
       "            </script>\n",
       "            "
      ]
     },
     "metadata": {},
     "output_type": "display_data"
    }
   ],
   "source": [
    "LetsPlot.setup_html()"
   ]
  },
  {
   "cell_type": "code",
   "execution_count": 3,
   "metadata": {
    "datalore": {
     "hide_input_from_viewers": false,
     "hide_output_from_viewers": false,
     "node_id": "ekn75M1cJiIgzChStWQnAq",
     "report_properties": {
      "relativeY": 0,
      "rowId": "WSfybvCeb5ND6bSPj5PaHF"
     },
     "type": "CODE"
    },
    "execution": {
     "iopub.execute_input": "2024-11-07T09:28:18.323521Z",
     "iopub.status.busy": "2024-11-07T09:28:18.323409Z",
     "iopub.status.idle": "2024-11-07T09:28:18.326971Z",
     "shell.execute_reply": "2024-11-07T09:28:18.326725Z"
    }
   },
   "outputs": [],
   "source": [
    "def append_stay_time(places_df, moves_df):\n",
    "    def city_name_to_years(name):\n",
    "        moves_df.sort_values(by=\"year\", inplace=True)\n",
    "        departure_years = moves_df[moves_df[\"departure\"] == name][\"year\"].to_list()\n",
    "        arrival_years = moves_df[moves_df[\"arrival\"] == name][\"year\"].to_list()\n",
    "        if len(departure_years) > 0 and min(departure_years) < min(arrival_years):\n",
    "            arrival_years = [min(departure_years)] + arrival_years\n",
    "        def arrival_year_to_years_range(arrival_year):\n",
    "            departure_year = next((year for year in departure_years if year >= arrival_year), None) \\\n",
    "                             if len(departure_years) > 0 else arrival_year\n",
    "            if departure_year is None:\n",
    "                departure_year = arrival_year\n",
    "            return arrival_year, departure_year\n",
    "        all_years_range = sorted(\n",
    "            [arrival_year_to_years_range(arrival_year) for arrival_year in arrival_years],\n",
    "            key=lambda pair: pair[1] - pair[0],\n",
    "            reverse=True\n",
    "        )\n",
    "        year_ranges = []\n",
    "        for year_range in all_years_range:\n",
    "            outer_range = next((\n",
    "                big_year_range\n",
    "                for big_year_range in year_ranges\n",
    "                if big_year_range[0] <= year_range[0] and year_range[1] <= big_year_range[1]\n",
    "            ), None)\n",
    "            if outer_range is None:\n",
    "                year_ranges.append(year_range)\n",
    "        return \", \".join([\n",
    "            str(year_range[0]) if year_range[0] == year_range[1] else \"{0}-{1}\".format(*year_range)\n",
    "            for year_range in sorted(year_ranges, key=lambda yrange: yrange[0])\n",
    "        ])\n",
    "\n",
    "    return places_df.assign(years=[city_name_to_years(name) for name in places_df[\"name\"]])"
   ]
  },
  {
   "cell_type": "code",
   "execution_count": 4,
   "metadata": {
    "datalore": {
     "hide_input_from_viewers": false,
     "hide_output_from_viewers": false,
     "node_id": "bBgrA3IK57eAQBUWLcjsNf",
     "report_properties": {
      "relativeY": 0,
      "rowId": "JGGNGyKIwo8SeUSJ7RLopZ"
     },
     "type": "CODE"
    },
    "execution": {
     "iopub.execute_input": "2024-11-07T09:28:18.327989Z",
     "iopub.status.busy": "2024-11-07T09:28:18.327921Z",
     "iopub.status.idle": "2024-11-07T09:28:19.023657Z",
     "shell.execute_reply": "2024-11-07T09:28:19.023282Z"
    }
   },
   "outputs": [
    {
     "name": "stderr",
     "output_type": "stream",
     "text": [
      "/var/folders/rh/rpmcnm9j75x10cnx_sfmclsr0000gn/T/ipykernel_39801/2394508422.py:17: FutureWarning: Downcasting behavior in `replace` is deprecated and will be removed in a future version. To retain the old behavior, explicitly call `result.infer_objects(copy=False)`. To opt-in to the future behavior, set `pd.set_option('future.no_silent_downcasting', True)`\n",
      "  size_start=moves_df[\"departure\"].isin(big_cities).replace(size_replace),\n",
      "/var/folders/rh/rpmcnm9j75x10cnx_sfmclsr0000gn/T/ipykernel_39801/2394508422.py:18: FutureWarning: Downcasting behavior in `replace` is deprecated and will be removed in a future version. To retain the old behavior, explicitly call `result.infer_objects(copy=False)`. To opt-in to the future behavior, set `pd.set_option('future.no_silent_downcasting', True)`\n",
      "  size_end=moves_df[\"arrival\"].isin(big_cities).replace(size_replace),\n",
      "/var/folders/rh/rpmcnm9j75x10cnx_sfmclsr0000gn/T/ipykernel_39801/2394508422.py:22: FutureWarning: Downcasting behavior in `replace` is deprecated and will be removed in a future version. To retain the old behavior, explicitly call `result.infer_objects(copy=False)`. To opt-in to the future behavior, set `pd.set_option('future.no_silent_downcasting', True)`\n",
      "  places_df = places_df.assign(size=places_df[\"name\"].isin(big_cities).replace(size_replace))\n"
     ]
    }
   ],
   "source": [
    "city_size = 3\n",
    "big_city_size = 6\n",
    "big_cities = [\"Moscow\", \"Petersburg\"]\n",
    "size_replace = {True: big_city_size, False: city_size}\n",
    "\n",
    "raw_places_df = pd.read_csv(\"https://raw.githubusercontent.com/JetBrains/lets-plot-docs/master/data/pushkin/places.csv\")\n",
    "\n",
    "raw_moves_df = pd.read_csv(\"https://raw.githubusercontent.com/JetBrains/lets-plot-docs/master/data/pushkin/moves.csv\")\n",
    "\n",
    "moves_df = raw_moves_df.merge(raw_places_df, left_on=\"departure\", right_on=\"name\")\\\n",
    "                       .rename(columns=dict(longitude=\"from_lon\", latitude=\"from_lat\"))\\\n",
    "                       .drop(columns=[\"name\"])\\\n",
    "                       .merge(raw_places_df, left_on=\"arrival\", right_on=\"name\")\\\n",
    "                       .rename(columns=dict(longitude=\"to_lon\", latitude=\"to_lat\"))\\\n",
    "                       .drop(columns=[\"name\"])\n",
    "moves_df = moves_df.assign(\n",
    "    size_start=moves_df[\"departure\"].isin(big_cities).replace(size_replace),\n",
    "    size_end=moves_df[\"arrival\"].isin(big_cities).replace(size_replace),\n",
    ")\n",
    "\n",
    "places_df = append_stay_time(raw_places_df, raw_moves_df)\n",
    "places_df = places_df.assign(size=places_df[\"name\"].isin(big_cities).replace(size_replace))"
   ]
  },
  {
   "cell_type": "code",
   "execution_count": 5,
   "metadata": {
    "datalore": {
     "hide_input_from_viewers": false,
     "hide_output_from_viewers": false,
     "node_id": "jLrpQedcbHIYId4TdyN5od",
     "report_properties": {
      "relativeY": 0,
      "rowId": "SXF2Y4Eq9CgrBDOJQqD3w7"
     },
     "type": "CODE"
    },
    "execution": {
     "iopub.execute_input": "2024-11-07T09:28:19.025554Z",
     "iopub.status.busy": "2024-11-07T09:28:19.025223Z",
     "iopub.status.idle": "2024-11-07T09:28:19.067579Z",
     "shell.execute_reply": "2024-11-07T09:28:19.067328Z"
    }
   },
   "outputs": [
    {
     "data": {
      "text/html": [
       "   <div id=\"oX3YMz\"></div>\n",
       "   <script type=\"text/javascript\" data-lets-plot-script=\"plot\">\n",
       "   \n",
       "   (function() {\n",
       "   // ----------\n",
       "   \n",
       "   var containerDiv = document.getElementById(\"oX3YMz\");\n",
       "   var observer = new ResizeObserver(function(entries) {\n",
       "       for (let entry of entries) {\n",
       "           var width = containerDiv.clientWidth\n",
       "           if (entry.contentBoxSize && width > 0) {\n",
       "           \n",
       "               // Render plot\n",
       "               if (observer) {\n",
       "                   observer.disconnect();\n",
       "                   observer = null;\n",
       "               }\n",
       "\n",
       "               var plotSpec={\n",
       "\"mapping\":{\n",
       "},\n",
       "\"data_meta\":{\n",
       "},\n",
       "\"ggtitle\":{\n",
       "\"text\":\"Alexander Pushkin's Trips\"\n",
       "},\n",
       "\"ggsize\":{\n",
       "\"width\":900.0,\n",
       "\"height\":900.0\n",
       "},\n",
       "\"theme\":{\n",
       "\"axis_title\":\"blank\",\n",
       "\"axis_text\":\"blank\",\n",
       "\"axis_ticks\":\"blank\",\n",
       "\"axis_line\":\"blank\",\n",
       "\"legend_position\":[1.0,1.0],\n",
       "\"legend_justification\":[1.0,1.0],\n",
       "\"plot_title\":{\n",
       "\"size\":20.0,\n",
       "\"margin\":[20.0,0.0,0.0,0.0],\n",
       "\"blank\":false\n",
       "}\n",
       "},\n",
       "\"kind\":\"plot\",\n",
       "\"scales\":[{\n",
       "\"name\":\"Trip name\",\n",
       "\"aesthetic\":\"color\",\n",
       "\"values\":[\"#addd8e\",\"#e34a33\",\"#8856a7\",\"#2c7fb8\",\"#1c9099\",\"#006d2c\",\"#fec44f\",\"#636363\"]\n",
       "},{\n",
       "\"aesthetic\":\"size\",\n",
       "\"guide\":\"none\",\n",
       "\"scale_mapper_kind\":\"identity\"\n",
       "}],\n",
       "\"layers\":[{\n",
       "\"geom\":\"livemap\",\n",
       "\"mapping\":{\n",
       "},\n",
       "\"data_meta\":{\n",
       "},\n",
       "\"tiles\":{\n",
       "\"kind\":\"vector_lets_plot\",\n",
       "\"url\":\"wss://tiles.datalore.jetbrains.com\",\n",
       "\"theme\":\"color\",\n",
       "\"attribution\":\"<a href=\\\"https://lets-plot.org\\\">© Lets-Plot</a>, map data: <a href=\\\"https://www.openstreetmap.org/copyright\\\">© OpenStreetMap contributors</a>.\"\n",
       "},\n",
       "\"geocoding\":{\n",
       "\"url\":\"https://geo2.datalore.jetbrains.com/map_data/geocoding\"\n",
       "},\n",
       "\"const_size_zoomin\":3.0,\n",
       "\"data\":{\n",
       "}\n",
       "},{\n",
       "\"geom\":\"curve\",\n",
       "\"data\":{\n",
       "\"path\":[\"To Lyceum\",\"Southern exile\",\"Southern exile\",\"Southern exile\",\"Southern exile\",\"Southern exile\",\"Southern exile\",\"Southern exile\",\"Southern exile\",\"Southern exile\",\"Southern exile\",\"Southern exile\",\"Southern exile\",\"Southern exile\",\"Mikhailovsky exile\",\"Mikhailovsky exile\",\"Mikhailovsky exile\",\"Mikhailovsky exile\",\"Mikhailovsky exile\",\"Travel to the Caucasus\",\"Travel to the Caucasus\",\"Travel to the Caucasus\",\"Travel to the Caucasus\",\"Travel to the Caucasus\",\"Travel to the Caucasus\",\"Travel to the Caucasus\",\"Travel to the Caucasus\",\"Autumn at Boldino\",\"Autumn at Boldino\",\"Trip researching the Pugachev rebellion\",\"Trip researching the Pugachev rebellion\",\"Trip researching the Pugachev rebellion\",\"Trip researching the Pugachev rebellion\",\"Trip researching the Pugachev rebellion\",\"Trip researching the Pugachev rebellion\",\"Trip researching the Pugachev rebellion\",\"Final journey\",\"Regular routes\",\"Regular routes\",\"Regular routes\",\"Regular routes\",\"Regular routes\",\"Regular routes\",\"Regular routes\",\"Regular routes\",\"Regular routes\",\"Regular routes\",\"Regular routes\",\"Regular routes\",\"Regular routes\"],\n",
       "\"from_lat\":[55.751244,59.93863,55.187222,50.431782,48.450001,47.414101,45.0428,44.1497667,44.04861,45.0428,45.04484,44.957813,46.469391,47.00367,46.469391,51.50551,55.187222,57.061332,57.8136,55.751244,52.929697,47.414101,45.0428,44.1497667,43.03667,41.716667,40.60199,55.751244,55.004477,55.751244,56.32753,55.78874,54.32824,51.776272,51.23333,55.004477,59.93863,47.00367,50.431782,47.00367,46.469391,55.751244,59.93863,55.751244,54.728958,55.751244,55.751244,54.728958,59.93863,55.751244],\n",
       "\"from_lon\":[37.618423,30.31413,30.205116,30.516382,34.983334,40.110401,41.9734,43.4577689,43.05944,41.9734,38.97603,34.109547,30.740883,28.907089,30.740883,31.28487,30.205116,28.919346,28.3496,37.618423,36.098689,40.110401,41.9734,43.4577689,44.66778,44.783333,43.09495,37.618423,45.30885,37.618423,44.000717,49.12214,48.38657,55.099594,51.36667,45.30885,30.31413,28.907089,30.516382,28.907089,30.740883,37.618423,30.31413,37.618423,35.971598,37.618423,37.618423,35.971598,30.31413,37.618423],\n",
       "\"to_lat\":[59.93863,55.187222,50.431782,48.450001,47.414101,45.0428,44.1497667,44.04861,45.0428,45.04484,44.957813,46.469391,47.00367,46.469391,51.50551,55.187222,57.061332,57.8136,55.751244,52.929697,47.414101,45.0428,44.1497667,43.03667,41.716667,40.60199,39.90861,55.004477,55.751244,56.32753,55.78874,54.32824,51.776272,51.23333,55.004477,55.751244,57.022162,50.431782,47.00367,46.469391,47.00367,59.93863,55.751244,54.728958,55.751244,59.93863,54.728958,55.751244,55.751244,59.93863],\n",
       "\"to_lon\":[30.31413,30.205116,30.516382,34.983334,40.110401,41.9734,43.4577689,43.05944,41.9734,38.97603,34.109547,30.740883,28.907089,30.740883,31.28487,30.205116,28.919346,28.3496,37.618423,36.098689,40.110401,41.9734,43.4577689,44.66778,44.783333,43.09495,41.27694,45.30885,37.618423,44.000717,49.12214,48.38657,55.099594,51.36667,45.30885,37.618423,28.920945,30.516382,28.907089,30.740883,28.907089,30.31413,37.618423,35.971598,37.618423,30.31413,35.971598,37.618423,37.618423,30.31413],\n",
       "\"size_start\":[6.0,6.0,3.0,3.0,3.0,3.0,3.0,3.0,3.0,3.0,3.0,3.0,3.0,3.0,3.0,3.0,3.0,3.0,3.0,6.0,3.0,3.0,3.0,3.0,3.0,3.0,3.0,6.0,3.0,6.0,3.0,3.0,3.0,3.0,3.0,3.0,6.0,3.0,3.0,3.0,3.0,6.0,6.0,6.0,3.0,6.0,6.0,3.0,6.0,6.0],\n",
       "\"size_end\":[6.0,3.0,3.0,3.0,3.0,3.0,3.0,3.0,3.0,3.0,3.0,3.0,3.0,3.0,3.0,3.0,3.0,3.0,6.0,3.0,3.0,3.0,3.0,3.0,3.0,3.0,3.0,3.0,6.0,3.0,3.0,3.0,3.0,3.0,3.0,6.0,3.0,3.0,3.0,3.0,3.0,6.0,6.0,3.0,6.0,6.0,3.0,6.0,6.0,6.0]\n",
       "},\n",
       "\"mapping\":{\n",
       "\"x\":\"from_lon\",\n",
       "\"y\":\"from_lat\",\n",
       "\"xend\":\"to_lon\",\n",
       "\"yend\":\"to_lat\",\n",
       "\"color\":\"path\",\n",
       "\"size_start\":\"size_start\",\n",
       "\"size_end\":\"size_end\"\n",
       "},\n",
       "\"tooltips\":{\n",
       "\"formats\":[],\n",
       "\"lines\":[\"@path\"],\n",
       "\"title\":\"Trip name\"\n",
       "},\n",
       "\"data_meta\":{\n",
       "\"series_annotations\":[{\n",
       "\"type\":\"str\",\n",
       "\"column\":\"departure\"\n",
       "},{\n",
       "\"type\":\"str\",\n",
       "\"column\":\"arrival\"\n",
       "},{\n",
       "\"type\":\"int\",\n",
       "\"column\":\"year\"\n",
       "},{\n",
       "\"type\":\"str\",\n",
       "\"column\":\"path\"\n",
       "},{\n",
       "\"type\":\"float\",\n",
       "\"column\":\"from_lat\"\n",
       "},{\n",
       "\"type\":\"float\",\n",
       "\"column\":\"from_lon\"\n",
       "},{\n",
       "\"type\":\"float\",\n",
       "\"column\":\"to_lat\"\n",
       "},{\n",
       "\"type\":\"float\",\n",
       "\"column\":\"to_lon\"\n",
       "},{\n",
       "\"type\":\"int\",\n",
       "\"column\":\"size_start\"\n",
       "},{\n",
       "\"type\":\"int\",\n",
       "\"column\":\"size_end\"\n",
       "}]\n",
       "},\n",
       "\"arrow\":{\n",
       "\"name\":\"arrow\",\n",
       "\"angle\":14.0,\n",
       "\"length\":10.0,\n",
       "\"type\":\"closed\"\n",
       "},\n",
       "\"curvature\":-0.15,\n",
       "\"size\":0.75\n",
       "},{\n",
       "\"geom\":\"point\",\n",
       "\"data\":{\n",
       "\"name\":[\"Erzurum\",\"Boldino\",\"Vitebsk\",\"Vladikavkaz\",\"Georgiyevsk\",\"Goryachie Vody\",\"Ekaterinodar\",\"Ekaterinoslav\",\"Kazan\",\"Kars\",\"Kiev\",\"Chișinău\",\"Moscow\",\"Mikhaylovskoye\",\"Nizhny Novgorod\",\"Novocherkassk\",\"Odessa\",\"Orenburg\",\"Oryol\",\"Petersburg\",\"Polotnyany Zavod\",\"Pskov\",\"Svyatogorskij monastery\",\"Simbirsk\",\"Simferopol\",\"Stavropol\",\"Tiflis\",\"Uralsk\",\"Chernihiv\"],\n",
       "\"latitude\":[39.90861,55.004477,55.187222,43.03667,44.1497667,44.04861,45.04484,48.450001,55.78874,40.60199,50.431782,47.00367,55.751244,57.061332,56.32753,47.414101,46.469391,51.776272,52.929697,59.93863,54.728958,57.8136,57.022162,54.32824,44.957813,45.0428,41.716667,51.23333,51.50551],\n",
       "\"longitude\":[41.27694,45.30885,30.205116,44.66778,43.4577689,43.05944,38.97603,34.983334,49.12214,43.09495,30.516382,28.907089,37.618423,28.919346,44.000717,40.110401,30.740883,55.099594,36.098689,30.31413,35.971598,28.3496,28.920945,48.38657,34.109547,41.9734,44.783333,51.36667,31.28487],\n",
       "\"years\":[\"1829\",\"1830, 1833\",\"1820, 1824\",\"1829\",\"1820, 1829\",\"1820\",\"1820\",\"1820\",\"1833\",\"1829\",\"1820, 1821\",\"1820-1821\",\"1811, 1826-1827, 1828-1829, 1830, 1833, 1834, 1836\",\"1824-1826\",\"1833\",\"1820, 1829\",\"1820, 1821, 1823-1824\",\"1833\",\"1829\",\"1811-1820, 1827-1828, 1833-1836\",\"1830, 1834\",\"1826\",\"1837\",\"1833\",\"1820\",\"1820, 1829\",\"1829\",\"1833\",\"1824\"],\n",
       "\"size\":[3.0,3.0,3.0,3.0,3.0,3.0,3.0,3.0,3.0,3.0,3.0,3.0,6.0,3.0,3.0,3.0,3.0,3.0,3.0,6.0,3.0,3.0,3.0,3.0,3.0,3.0,3.0,3.0,3.0]\n",
       "},\n",
       "\"mapping\":{\n",
       "\"x\":\"longitude\",\n",
       "\"y\":\"latitude\",\n",
       "\"size\":\"size\"\n",
       "},\n",
       "\"tooltips\":{\n",
       "\"formats\":[],\n",
       "\"lines\":[\"Visited in @years\"],\n",
       "\"title\":\"@name\"\n",
       "},\n",
       "\"data_meta\":{\n",
       "\"series_annotations\":[{\n",
       "\"type\":\"str\",\n",
       "\"column\":\"name\"\n",
       "},{\n",
       "\"type\":\"float\",\n",
       "\"column\":\"latitude\"\n",
       "},{\n",
       "\"type\":\"float\",\n",
       "\"column\":\"longitude\"\n",
       "},{\n",
       "\"type\":\"str\",\n",
       "\"column\":\"years\"\n",
       "},{\n",
       "\"type\":\"int\",\n",
       "\"column\":\"size\"\n",
       "}]\n",
       "},\n",
       "\"shape\":21.0,\n",
       "\"fill\":\"white\"\n",
       "}],\n",
       "\"metainfo_list\":[],\n",
       "\"spec_id\":\"1\"\n",
       "};\n",
       "               window.letsPlotCall(function() {\n",
       "       \n",
       "               var toolbar = null;\n",
       "               var plotContainer = containerDiv;               \n",
       "               \n",
       "                   var options = {\n",
       "                       sizing: {\n",
       "                           width_mode: \"min\",\n",
       "                           height_mode: \"scaled\",\n",
       "                           width: width\n",
       "                       }\n",
       "                   };\n",
       "                   var fig = LetsPlot.buildPlotFromProcessedSpecs(plotSpec, -1, -1, plotContainer, options);\n",
       "                   if (toolbar) {\n",
       "                     toolbar.bind(fig);\n",
       "                   }\n",
       "               });\n",
       "               \n",
       "               break;\n",
       "           }\n",
       "       }\n",
       "   });\n",
       "   \n",
       "   observer.observe(containerDiv);\n",
       "   \n",
       "   // ----------\n",
       "   })();\n",
       "   \n",
       "   </script>"
      ],
      "text/plain": [
       "<lets_plot.plot.core.PlotSpec at 0x138d01000>"
      ]
     },
     "execution_count": 5,
     "metadata": {},
     "output_type": "execute_result"
    }
   ],
   "source": [
    "ggplot() + \\\n",
    "    geom_livemap(const_size_zoomin=3) + \\\n",
    "    geom_curve(aes(x=\"from_lon\", y=\"from_lat\", xend=\"to_lon\", yend=\"to_lat\", color=\"path\", \\\n",
    "                   size_start=\"size_start\", size_end=\"size_end\"),\n",
    "               data=moves_df, curvature=-.15, size=.75,\n",
    "               tooltips=layer_tooltips().title(\"Trip name\").line(\"@path\"),\n",
    "               arrow=arrow(type='closed', length=10, angle=14)) + \\\n",
    "    geom_point(aes(x=\"longitude\", y=\"latitude\", size=\"size\"), data=places_df, shape=21, fill=\"white\",\n",
    "               tooltips=layer_tooltips().title(\"@name\").line(\"Visited in @years\")) + \\\n",
    "    scale_color_manual(name=\"Trip name\", values=['#addd8e', '#e34a33', '#8856a7', '#2c7fb8',\n",
    "                                                 '#1c9099', '#006d2c', '#fec44f', '#636363']) + \\\n",
    "    scale_size_identity(guide='none') + \\\n",
    "    ggtitle(\"Alexander Pushkin's Trips\") + \\\n",
    "    ggsize(900, 900) + \\\n",
    "    theme(axis_title='blank', axis_text='blank', axis_ticks='blank', axis_line='blank',\n",
    "          plot_title=element_text(size=20, margin=[20, 0, 0, 0]),\n",
    "          legend_position=[1, 1], legend_justification=[1, 1])"
   ]
  }
 ],
 "metadata": {
  "datalore": {
   "computation_mode": "JUPYTER",
   "packages": [],
   "report_link": "https://datalore.jetbrains.com/report/HZqq77cegYd.E7get_WnChZ/DyD2CLrAbpfO3FMtg6QuhT",
   "report_row_ids": [
    "KEmvgqU9p3mD9ZU2iUzWYK",
    "D95lYf8Jfdk6pxU86rmNz5",
    "O1LmSJ86VEnrkaR923SpmY",
    "WSfybvCeb5ND6bSPj5PaHF",
    "JGGNGyKIwo8SeUSJ7RLopZ",
    "SXF2Y4Eq9CgrBDOJQqD3w7"
   ],
   "version": 3
  },
  "kernelspec": {
   "display_name": "Python",
   "language": "python",
   "name": "python"
  },
  "language_info": {
   "codemirror_mode": {
    "name": "ipython",
    "version": 3
   },
   "file_extension": ".py",
   "mimetype": "text/x-python",
   "name": "python",
   "nbconvert_exporter": "python",
   "pygments_lexer": "ipython3",
   "version": "3.10.15"
  }
 },
 "nbformat": 4,
 "nbformat_minor": 4
}
