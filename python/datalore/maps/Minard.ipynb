{
 "cells":[
  {
   "cell_type":"markdown",
   "source":[
    "# Exploring Minard's 1812 Plot with Lets-Plot"
   ],
   "attachments":{},
   "metadata":{
    "datalore":{
     "node_id":"XCLZ3U7tboTfOig5dk33Af",
     "type":"MD",
     "hide_input_from_viewers":false,
     "hide_output_from_viewers":false,
     "report_properties":{
      "rowId":"mnAYc8rSWlZQD7cnAWTzSm",
      "relativeY":0
     }
    }
   }
  },
  {
   "cell_type":"code",
   "source":[
    "import pandas as pd\n",
    "\n",
    "from lets_plot import *"
   ],
   "execution_count":56,
   "outputs":[],
   "metadata":{
    "datalore":{
     "node_id":"k24xM9igzyDS8wMyx46GzE",
     "type":"CODE",
     "hide_input_from_viewers":false,
     "hide_output_from_viewers":false,
     "report_properties":{
      "rowId":"W4fyEgUjdNvPsIFyo49Q2T",
      "relativeY":0
     }
    }
   }
  },
  {
   "cell_type":"code",
   "source":[
    "LetsPlot.setup_html()"
   ],
   "execution_count":57,
   "outputs":[],
   "metadata":{
    "datalore":{
     "node_id":"N72Uz3kcey19DPqDIcS5Fo",
     "type":"CODE",
     "hide_input_from_viewers":true,
     "hide_output_from_viewers":true
    }
   }
  },
  {
   "cell_type":"code",
   "source":[
    "PLOT_TITLE = \"Charles Minard's 1869 Chart\"\n",
    "PLOT_SIZE = (800, 300)\n",
    "\n",
    "FORWARD_PATH_COLOR = '#dfc17e'\n",
    "BACKWARD_PATH_COLOR = '#252523'\n",
    "MARKS_COLOR = '#bb0000'"
   ],
   "execution_count":58,
   "outputs":[],
   "metadata":{
    "datalore":{
     "node_id":"HZzhIhSzfW4Zp36ofIlPV0",
     "type":"CODE",
     "hide_input_from_viewers":false,
     "hide_output_from_viewers":false,
     "report_properties":{
      "rowId":"LlIBdlPXBiV960ybFFrlBr",
      "relativeY":0
     }
    }
   }
  },
  {
   "cell_type":"code",
   "source":[
    "cities = pd.read_csv(\"https:\/\/raw.githubusercontent.com\/JetBrains\/lets-plot-docs\/master\/data\/minard\/cities.csv\")\n",
    "troops = pd.read_csv(\"https:\/\/raw.githubusercontent.com\/JetBrains\/lets-plot-docs\/master\/data\/minard\/troops.csv\")\n",
    "temps = pd.read_csv(\"https:\/\/raw.githubusercontent.com\/JetBrains\/lets-plot-docs\/master\/data\/minard\/temps.csv\")"
   ],
   "execution_count":59,
   "outputs":[],
   "metadata":{
    "datalore":{
     "node_id":"bktVQqcqIUWHWdDkcs039p",
     "type":"CODE",
     "hide_input_from_viewers":false,
     "hide_output_from_viewers":false,
     "report_properties":{
      "rowId":"xxYAuOc8JIhB5lqZFHY8A8",
      "relativeY":0
     }
    }
   }
  },
  {
   "cell_type":"markdown",
   "source":[
    "## Without Livemap"
   ],
   "attachments":{},
   "metadata":{
    "datalore":{
     "node_id":"e1jEVnGYlAVAxk1O9UhZn9",
     "type":"MD",
     "hide_input_from_viewers":false,
     "hide_output_from_viewers":false,
     "report_properties":{
      "rowId":"G58hEy1OZmr08UPgGcKJLT",
      "relativeY":0
     }
    }
   }
  },
  {
   "cell_type":"code",
   "source":[
    "ggplot(troops) + \\\n",
    "    geom_path(aes(x='long', y='lat', group='group', color='direction', size='survivors')) + \\\n",
    "    scale_size(range=[1, 20]) + \\\n",
    "    scale_color_manual(values=[FORWARD_PATH_COLOR, BACKWARD_PATH_COLOR]) + \\\n",
    "    geom_point(aes(x='long', y='lat'), data=cities, color=MARKS_COLOR) + \\\n",
    "    geom_label(aes(x='long', y='lat', label='city'),\n",
    "               data=cities, color=MARKS_COLOR, nudge_x=-.2, nudge_y=.1, angle=45) + \\\n",
    "    ggtitle(PLOT_TITLE) + \\\n",
    "    ggsize(*PLOT_SIZE) + \\\n",
    "    theme_void() + theme(legend_position='none')"
   ],
   "execution_count":60,
   "outputs":[
    {
     "data":{
      "text\/html":[
       "<html lang=\"en\">\n",
       "   <head>\n",
       "       <script type=\"text\/javascript\" data-lets-plot-script=\"library\" src=\"https:\/\/cdn.jsdelivr.net\/gh\/JetBrains\/lets-plot@v4.0.0\/js-package\/distr\/lets-plot.min.js\"><\/script>\n",
       "   <\/head>\n",
       "   <body>\n",
       "          <div id=\"44CqM6\"><\/div>\n",
       "   <script type=\"text\/javascript\" data-lets-plot-script=\"plot\">\n",
       "       var plotSpec={\n",
       "\"data\":{\n",
       "\"long\":[24.0,24.5,25.5,26.0,27.0,28.0,28.5,29.0,30.0,30.3,32.0,33.2,34.4,35.5,36.0,37.6,37.7,37.5,37.0,36.8,35.4,34.3,33.3,32.0,30.4,29.2,28.5,28.3,27.5,26.8,26.4,25.0,24.4,24.2,24.1,24.0,24.5,25.5,26.6,27.4,28.7,28.7,29.2,28.5,28.3,24.0,24.5,24.6,24.6,24.2,24.1],\n",
       "\"lat\":[54.9,55.0,54.5,54.7,54.8,54.9,55.0,55.1,55.2,55.3,54.8,54.9,55.5,55.4,55.5,55.8,55.7,55.7,55.0,55.0,55.3,55.2,54.8,54.6,54.4,54.3,54.2,54.3,54.5,54.3,54.4,54.4,54.4,54.4,54.4,55.1,55.2,54.7,55.7,55.6,55.5,55.5,54.2,54.1,54.2,55.2,55.3,55.8,55.8,54.4,54.4],\n",
       "\"survivors\":[340000.0,340000.0,340000.0,320000.0,300000.0,280000.0,240000.0,210000.0,180000.0,175000.0,145000.0,140000.0,127100.0,100000.0,100000.0,100000.0,100000.0,98000.0,97000.0,96000.0,87000.0,55000.0,37000.0,24000.0,20000.0,20000.0,20000.0,20000.0,20000.0,12000.0,14000.0,8000.0,4000.0,4000.0,4000.0,60000.0,60000.0,60000.0,40000.0,33000.0,33000.0,33000.0,30000.0,30000.0,28000.0,22000.0,22000.0,6000.0,6000.0,6000.0,6000.0],\n",
       "\"direction\":[\"A\",\"A\",\"A\",\"A\",\"A\",\"A\",\"A\",\"A\",\"A\",\"A\",\"A\",\"A\",\"A\",\"A\",\"A\",\"A\",\"R\",\"R\",\"R\",\"R\",\"R\",\"R\",\"R\",\"R\",\"R\",\"R\",\"R\",\"R\",\"R\",\"R\",\"R\",\"R\",\"R\",\"R\",\"R\",\"A\",\"A\",\"A\",\"A\",\"A\",\"A\",\"R\",\"R\",\"R\",\"R\",\"A\",\"A\",\"A\",\"R\",\"R\",\"R\"],\n",
       "\"group\":[1.0,1.0,1.0,1.0,1.0,1.0,1.0,1.0,1.0,1.0,1.0,1.0,1.0,1.0,1.0,1.0,1.0,1.0,1.0,1.0,1.0,1.0,1.0,1.0,1.0,1.0,1.0,1.0,1.0,1.0,1.0,1.0,1.0,1.0,1.0,2.0,2.0,2.0,2.0,2.0,2.0,2.0,2.0,2.0,2.0,3.0,3.0,3.0,3.0,3.0,3.0]\n",
       "},\n",
       "\"mapping\":{\n",
       "},\n",
       "\"data_meta\":{\n",
       "},\n",
       "\"ggtitle\":{\n",
       "\"text\":\"Charles Minard's 1869 Chart\"\n",
       "},\n",
       "\"ggsize\":{\n",
       "\"width\":800.0,\n",
       "\"height\":300.0\n",
       "},\n",
       "\"theme\":{\n",
       "\"name\":\"classic\",\n",
       "\"line\":\"blank\",\n",
       "\"rect\":\"blank\",\n",
       "\"axis\":\"blank\",\n",
       "\"legend_position\":\"none\"\n",
       "},\n",
       "\"kind\":\"plot\",\n",
       "\"scales\":[{\n",
       "\"aesthetic\":\"size\",\n",
       "\"range\":[1.0,20.0]\n",
       "},{\n",
       "\"aesthetic\":\"color\",\n",
       "\"values\":[\"#dfc17e\",\"#252523\"]\n",
       "}],\n",
       "\"layers\":[{\n",
       "\"geom\":\"path\",\n",
       "\"mapping\":{\n",
       "\"x\":\"long\",\n",
       "\"y\":\"lat\",\n",
       "\"group\":\"group\",\n",
       "\"color\":\"direction\",\n",
       "\"size\":\"survivors\"\n",
       "},\n",
       "\"data_meta\":{\n",
       "},\n",
       "\"data\":{\n",
       "}\n",
       "},{\n",
       "\"geom\":\"point\",\n",
       "\"data\":{\n",
       "\"long\":[24.0,25.3,26.4,26.8,27.7,27.6,28.5,28.7,29.2,30.2,30.4,30.4,32.0,33.2,34.3,34.4,36.0,37.6,36.6,36.5],\n",
       "\"lat\":[55.0,54.7,54.4,54.3,55.2,53.9,54.3,55.5,54.4,55.3,54.5,53.9,54.8,54.9,55.2,55.5,55.5,55.8,55.3,55.0]\n",
       "},\n",
       "\"mapping\":{\n",
       "\"x\":\"long\",\n",
       "\"y\":\"lat\"\n",
       "},\n",
       "\"data_meta\":{\n",
       "},\n",
       "\"color\":\"#bb0000\"\n",
       "},{\n",
       "\"geom\":\"label\",\n",
       "\"data\":{\n",
       "\"long\":[24.0,25.3,26.4,26.8,27.7,27.6,28.5,28.7,29.2,30.2,30.4,30.4,32.0,33.2,34.3,34.4,36.0,37.6,36.6,36.5],\n",
       "\"lat\":[55.0,54.7,54.4,54.3,55.2,53.9,54.3,55.5,54.4,55.3,54.5,53.9,54.8,54.9,55.2,55.5,55.5,55.8,55.3,55.0],\n",
       "\"city\":[\"Kowno\",\"Wilna\",\"Smorgoni\",\"Moiodexno\",\"Gloubokoe\",\"Minsk\",\"Studienska\",\"Polotzk\",\"Bobr\",\"Witebsk\",\"Orscha\",\"Mohilow\",\"Smolensk\",\"Dorogobouge\",\"Wixma\",\"Chjat\",\"Mojaisk\",\"Moscou\",\"Tarantino\",\"Malo-Jarosewii\"]\n",
       "},\n",
       "\"mapping\":{\n",
       "\"x\":\"long\",\n",
       "\"y\":\"lat\",\n",
       "\"label\":\"city\"\n",
       "},\n",
       "\"data_meta\":{\n",
       "},\n",
       "\"nudge_x\":-0.2,\n",
       "\"nudge_y\":0.1,\n",
       "\"color\":\"#bb0000\",\n",
       "\"angle\":45.0\n",
       "}],\n",
       "\"metainfo_list\":[]\n",
       "};\n",
       "       var plotContainer = document.getElementById(\"44CqM6\");\n",
       "       LetsPlot.buildPlotFromProcessedSpecs(plotSpec, -1, -1, plotContainer);\n",
       "   <\/script>\n",
       "   <\/body>\n",
       "<\/html>"
      ]
     },
     "metadata":{},
     "output_type":"display_data"
    }
   ],
   "metadata":{
    "datalore":{
     "node_id":"NHQ4sHVVx5SzIcntxJZ0nH",
     "type":"CODE",
     "hide_input_from_viewers":false,
     "hide_output_from_viewers":false,
     "report_properties":{
      "rowId":"aSBhTsnlLN3pPAAEOkb1r6",
      "relativeY":0
     }
    }
   }
  },
  {
   "cell_type":"markdown",
   "source":[
    "## With Livemap"
   ],
   "attachments":{},
   "metadata":{
    "datalore":{
     "node_id":"uOOogVWETZZJYP9DM2zZiO",
     "type":"MD",
     "hide_input_from_viewers":false,
     "hide_output_from_viewers":false,
     "report_properties":{
      "rowId":"TRO85dw3qERs6GTeB8vUpF",
      "relativeY":0
     }
    }
   }
  },
  {
   "cell_type":"code",
   "source":[
    "ggplot(troops) + \\\n",
    "    geom_livemap(location=[23.5, 53.4, 38.1, 56.3],\n",
    "                 const_size_zoomin=2, data_size_zoomin=2) + \\\n",
    "    geom_path(aes(x='long', y='lat', group='group', color='direction', size='survivors')) + \\\n",
    "    scale_size(range=[1, 20]) + \\\n",
    "    scale_color_manual(values=[FORWARD_PATH_COLOR, BACKWARD_PATH_COLOR]) + \\\n",
    "    geom_point(aes(x='long', y='lat'), data=cities, color=MARKS_COLOR,\n",
    "               tooltips=layer_tooltips().line('@city')) + \\\n",
    "    ggtitle(PLOT_TITLE) + \\\n",
    "    ggsize(*PLOT_SIZE) + \\\n",
    "    theme(legend_position='none', axis='blank')"
   ],
   "execution_count":61,
   "outputs":[
    {
     "data":{
      "text\/html":[
       "<html lang=\"en\">\n",
       "   <head>\n",
       "       <script type=\"text\/javascript\" data-lets-plot-script=\"library\" src=\"https:\/\/cdn.jsdelivr.net\/gh\/JetBrains\/lets-plot@v4.0.0\/js-package\/distr\/lets-plot.min.js\"><\/script>\n",
       "   <\/head>\n",
       "   <body>\n",
       "          <div id=\"vApU5E\"><\/div>\n",
       "   <script type=\"text\/javascript\" data-lets-plot-script=\"plot\">\n",
       "       var plotSpec={\n",
       "\"data\":{\n",
       "\"long\":[24.0,24.5,25.5,26.0,27.0,28.0,28.5,29.0,30.0,30.3,32.0,33.2,34.4,35.5,36.0,37.6,37.7,37.5,37.0,36.8,35.4,34.3,33.3,32.0,30.4,29.2,28.5,28.3,27.5,26.8,26.4,25.0,24.4,24.2,24.1,24.0,24.5,25.5,26.6,27.4,28.7,28.7,29.2,28.5,28.3,24.0,24.5,24.6,24.6,24.2,24.1],\n",
       "\"lat\":[54.9,55.0,54.5,54.7,54.8,54.9,55.0,55.1,55.2,55.3,54.8,54.9,55.5,55.4,55.5,55.8,55.7,55.7,55.0,55.0,55.3,55.2,54.8,54.6,54.4,54.3,54.2,54.3,54.5,54.3,54.4,54.4,54.4,54.4,54.4,55.1,55.2,54.7,55.7,55.6,55.5,55.5,54.2,54.1,54.2,55.2,55.3,55.8,55.8,54.4,54.4],\n",
       "\"survivors\":[340000.0,340000.0,340000.0,320000.0,300000.0,280000.0,240000.0,210000.0,180000.0,175000.0,145000.0,140000.0,127100.0,100000.0,100000.0,100000.0,100000.0,98000.0,97000.0,96000.0,87000.0,55000.0,37000.0,24000.0,20000.0,20000.0,20000.0,20000.0,20000.0,12000.0,14000.0,8000.0,4000.0,4000.0,4000.0,60000.0,60000.0,60000.0,40000.0,33000.0,33000.0,33000.0,30000.0,30000.0,28000.0,22000.0,22000.0,6000.0,6000.0,6000.0,6000.0],\n",
       "\"direction\":[\"A\",\"A\",\"A\",\"A\",\"A\",\"A\",\"A\",\"A\",\"A\",\"A\",\"A\",\"A\",\"A\",\"A\",\"A\",\"A\",\"R\",\"R\",\"R\",\"R\",\"R\",\"R\",\"R\",\"R\",\"R\",\"R\",\"R\",\"R\",\"R\",\"R\",\"R\",\"R\",\"R\",\"R\",\"R\",\"A\",\"A\",\"A\",\"A\",\"A\",\"A\",\"R\",\"R\",\"R\",\"R\",\"A\",\"A\",\"A\",\"R\",\"R\",\"R\"],\n",
       "\"group\":[1.0,1.0,1.0,1.0,1.0,1.0,1.0,1.0,1.0,1.0,1.0,1.0,1.0,1.0,1.0,1.0,1.0,1.0,1.0,1.0,1.0,1.0,1.0,1.0,1.0,1.0,1.0,1.0,1.0,1.0,1.0,1.0,1.0,1.0,1.0,2.0,2.0,2.0,2.0,2.0,2.0,2.0,2.0,2.0,2.0,3.0,3.0,3.0,3.0,3.0,3.0]\n",
       "},\n",
       "\"mapping\":{\n",
       "},\n",
       "\"data_meta\":{\n",
       "},\n",
       "\"ggtitle\":{\n",
       "\"text\":\"Charles Minard's 1869 Chart\"\n",
       "},\n",
       "\"ggsize\":{\n",
       "\"width\":800.0,\n",
       "\"height\":300.0\n",
       "},\n",
       "\"theme\":{\n",
       "\"axis\":\"blank\",\n",
       "\"legend_position\":\"none\"\n",
       "},\n",
       "\"kind\":\"plot\",\n",
       "\"scales\":[{\n",
       "\"aesthetic\":\"size\",\n",
       "\"range\":[1.0,20.0]\n",
       "},{\n",
       "\"aesthetic\":\"color\",\n",
       "\"values\":[\"#dfc17e\",\"#252523\"]\n",
       "}],\n",
       "\"layers\":[{\n",
       "\"geom\":\"livemap\",\n",
       "\"mapping\":{\n",
       "},\n",
       "\"data_meta\":{\n",
       "},\n",
       "\"location\":{\n",
       "\"type\":\"coordinates\",\n",
       "\"data\":[23.5,53.4,38.1,56.3]\n",
       "},\n",
       "\"tiles\":{\n",
       "\"kind\":\"vector_lets_plot\",\n",
       "\"url\":\"wss:\/\/tiles.datalore.jetbrains.com\",\n",
       "\"theme\":\"color\",\n",
       "\"attribution\":\"Map: <a href=\\\"https:\/\/github.com\/JetBrains\/lets-plot\\\">© Lets-Plot<\/a>, map data: <a href=\\\"https:\/\/www.openstreetmap.org\/copyright\\\">© OpenStreetMap contributors<\/a>.\"\n",
       "},\n",
       "\"geocoding\":{\n",
       "\"url\":\"https:\/\/geo2.datalore.jetbrains.com\/map_data\/geocoding\"\n",
       "},\n",
       "\"data_size_zoomin\":2.0,\n",
       "\"const_size_zoomin\":2.0,\n",
       "\"data\":{\n",
       "}\n",
       "},{\n",
       "\"geom\":\"path\",\n",
       "\"mapping\":{\n",
       "\"x\":\"long\",\n",
       "\"y\":\"lat\",\n",
       "\"group\":\"group\",\n",
       "\"color\":\"direction\",\n",
       "\"size\":\"survivors\"\n",
       "},\n",
       "\"data_meta\":{\n",
       "},\n",
       "\"data\":{\n",
       "}\n",
       "},{\n",
       "\"geom\":\"point\",\n",
       "\"data\":{\n",
       "\"long\":[24.0,25.3,26.4,26.8,27.7,27.6,28.5,28.7,29.2,30.2,30.4,30.4,32.0,33.2,34.3,34.4,36.0,37.6,36.6,36.5],\n",
       "\"lat\":[55.0,54.7,54.4,54.3,55.2,53.9,54.3,55.5,54.4,55.3,54.5,53.9,54.8,54.9,55.2,55.5,55.5,55.8,55.3,55.0],\n",
       "\"city\":[\"Kowno\",\"Wilna\",\"Smorgoni\",\"Moiodexno\",\"Gloubokoe\",\"Minsk\",\"Studienska\",\"Polotzk\",\"Bobr\",\"Witebsk\",\"Orscha\",\"Mohilow\",\"Smolensk\",\"Dorogobouge\",\"Wixma\",\"Chjat\",\"Mojaisk\",\"Moscou\",\"Tarantino\",\"Malo-Jarosewii\"]\n",
       "},\n",
       "\"mapping\":{\n",
       "\"x\":\"long\",\n",
       "\"y\":\"lat\"\n",
       "},\n",
       "\"tooltips\":{\n",
       "\"formats\":[],\n",
       "\"lines\":[\"@city\"]\n",
       "},\n",
       "\"data_meta\":{\n",
       "},\n",
       "\"color\":\"#bb0000\"\n",
       "}],\n",
       "\"metainfo_list\":[]\n",
       "};\n",
       "       var plotContainer = document.getElementById(\"vApU5E\");\n",
       "       LetsPlot.buildPlotFromProcessedSpecs(plotSpec, -1, -1, plotContainer);\n",
       "   <\/script>\n",
       "   <\/body>\n",
       "<\/html>"
      ]
     },
     "metadata":{},
     "output_type":"display_data"
    }
   ],
   "metadata":{
    "datalore":{
     "node_id":"GAnyQP8KgCMjMrgSfZwcDQ",
     "type":"CODE",
     "hide_input_from_viewers":false,
     "hide_output_from_viewers":false,
     "report_properties":{
      "rowId":"qmkSBs4y3RJAVm6UV2x89o",
      "relativeY":0
     }
    }
   }
  }
 ],
 "metadata":{
  "kernelspec":{
   "display_name":"Python",
   "language":"python",
   "name":"python"
  },
  "datalore":{
   "computation_mode":"JUPYTER",
   "packages":[],
   "report_row_ids":[],
   "report_tabs":[
    {
     "id":"EwQR02DUylMlVca6QV47P7",
     "name":"Report tab",
     "rows":[
      "mnAYc8rSWlZQD7cnAWTzSm",
      "W4fyEgUjdNvPsIFyo49Q2T",
      "LlIBdlPXBiV960ybFFrlBr",
      "xxYAuOc8JIhB5lqZFHY8A8",
      "G58hEy1OZmr08UPgGcKJLT",
      "aSBhTsnlLN3pPAAEOkb1r6",
      "TRO85dw3qERs6GTeB8vUpF",
      "qmkSBs4y3RJAVm6UV2x89o"
     ]
    }
   ],
   "report_link":"https:\/\/datalore.jetbrains.com\/report\/HZqq77cegYd.E7get_WnChZ\/g1OrpV6Vx4CGxIInpB2b5y",
   "version":4
  }
 },
 "nbformat":4,
 "nbformat_minor":4
}