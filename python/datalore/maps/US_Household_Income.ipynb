{
 "cells": [
  {
   "attachments": {},
   "cell_type": "markdown",
   "metadata": {
    "datalore": {
     "hide_input_from_viewers": true,
     "hide_output_from_viewers": true,
     "node_id": "TekKFO8XVgLLAyjktMAlvA",
     "type": "MD"
    }
   },
   "source": [
    "## Mapping US household income.\n",
    "\n",
    "In this demo we will explore, how Lets-Plot Geocoding API and spatial plots are used to create choropleth maps without a use of any additional shapefiles or GeoJSON files.\n",
    "\n",
    "#### Data\n",
    "\n",
    "The dataset contains household `mean` income as well as name of City, County and State.\n",
    "\n",
    "> **Note:** This dataset is incomplete, not all US counties are present in this dataset.\n",
    "\n",
    "\n",
    "#### Tasks completed in this notebook:\n",
    " - Load and clean the data.\n",
    " - Use **state geocoder** to fetch the US states boundaries.\n",
    " - Use simple **map join** to create a choropleth map of the US states.\n",
    " - Use **county geocoder** to fetch the US counties boundaries.\n",
    " - Use complex (2-key form) **map join** to create a choropleth map of the US counties.\n",
    " - Add the `geom_livemap()` layer to choropleth map to make it interactive.\n",
    " \n",
    " \n",
    "To learn more about the geocoding API in Lets-Plot go to [lets-plot.org](https://lets-plot.org/). "
   ]
  },
  {
   "cell_type": "code",
   "execution_count": null,
   "metadata": {
    "datalore": {
     "hide_input_from_viewers": true,
     "hide_output_from_viewers": true,
     "node_id": "CTjOYd4kLGH0lDdIGgRRwk",
     "type": "CODE"
    }
   },
   "outputs": [],
   "source": [
    "import pandas as pd\n",
    "\n",
    "from lets_plot import *\n",
    "from lets_plot.geo_data import *\n",
    "\n",
    "LetsPlot.setup_html()"
   ]
  },
  {
   "cell_type": "code",
   "execution_count": null,
   "metadata": {
    "datalore": {
     "hide_input_from_viewers": true,
     "hide_output_from_viewers": true,
     "node_id": "eywGw3MgLJhcUnc6llJJNC",
     "type": "CODE"
    }
   },
   "outputs": [],
   "source": [
    "import lets_plot\n",
    "lets_plot.__version__"
   ]
  },
  {
   "attachments": {},
   "cell_type": "markdown",
   "metadata": {
    "datalore": {
     "hide_input_from_viewers": true,
     "hide_output_from_viewers": true,
     "node_id": "02DK5S2fFscxSFQHGN9xLE",
     "type": "MD"
    }
   },
   "source": [
    "### Data\n",
    "\n",
    "In order to keep plots simple we will remove the states of Alaska, Hawaii and Puerto Rico from our dataset.\n",
    "\n",
    "These 3 states are located far away from the rest [48 contiguous states](https://en.wikipedia.org/wiki/Contiguous_United_States) (aka CONUS) and need to be shown on separate plots. "
   ]
  },
  {
   "cell_type": "code",
   "execution_count": null,
   "metadata": {
    "datalore": {
     "hide_input_from_viewers": true,
     "hide_output_from_viewers": true,
     "node_id": "n7GBFWofSeX1OXP4j7m9al",
     "type": "CODE"
    }
   },
   "outputs": [],
   "source": [
    "income_dat = pd.read_csv(\"https://raw.githubusercontent.com/JetBrains/lets-plot-docs/master/data/US_household_income_2017.csv\", \n",
    "                         encoding='latin-1')\n",
    "income_dat.head(3)"
   ]
  },
  {
   "cell_type": "code",
   "execution_count": null,
   "metadata": {
    "datalore": {
     "hide_input_from_viewers": true,
     "hide_output_from_viewers": true,
     "node_id": "YsveEB0ll6HW2wGiSGBLsu",
     "type": "CODE"
    }
   },
   "outputs": [],
   "source": [
    "income_dat = income_dat[~income_dat[\"State_Name\"].isin([\"Alaska\", \"Hawaii\", \"Puerto Rico\"])]"
   ]
  },
  {
   "cell_type": "code",
   "execution_count": null,
   "metadata": {
    "datalore": {
     "hide_input_from_viewers": true,
     "hide_output_from_viewers": true,
     "node_id": "RJTIr2MiOq0AxGDd15yDYp",
     "type": "CODE"
    }
   },
   "outputs": [],
   "source": [
    "income_dat = income_dat[income_dat[\"Mean\"] > 0]\n",
    "mean_US = income_dat[\"Mean\"].describe()[\"mean\"]\n",
    "mean_US"
   ]
  },
  {
   "attachments": {},
   "cell_type": "markdown",
   "metadata": {
    "datalore": {
     "hide_input_from_viewers": true,
     "hide_output_from_viewers": true,
     "node_id": "vN60vyinRogxMbRZAeXcbI",
     "type": "MD"
    }
   },
   "source": [
    "### Map of the US states"
   ]
  },
  {
   "cell_type": "code",
   "execution_count": null,
   "metadata": {
    "datalore": {
     "hide_input_from_viewers": true,
     "hide_output_from_viewers": true,
     "node_id": "SAY2Aj70UVnNQN07ZUbujX",
     "type": "CODE"
    }
   },
   "outputs": [],
   "source": [
    "# Create geocoder for the 48 contiguous states.\n",
    "state_gcoder = geocode_states(\"US-48\")\n",
    "state_gcoder.get_geocodes().head(3)"
   ]
  },
  {
   "attachments": {},
   "cell_type": "markdown",
   "metadata": {
    "datalore": {
     "hide_input_from_viewers": true,
     "hide_output_from_viewers": true,
     "node_id": "tew3k7hVokQeSaCp1seGox",
     "type": "MD"
    }
   },
   "source": [
    "#### Simple blank map"
   ]
  },
  {
   "cell_type": "code",
   "execution_count": null,
   "metadata": {
    "datalore": {
     "hide_input_from_viewers": true,
     "hide_output_from_viewers": true,
     "node_id": "B5zdmjlDOdo1vXMC9Mwvg2",
     "type": "CODE"
    }
   },
   "outputs": [],
   "source": [
    "ggplot() + geom_map(map=state_gcoder)"
   ]
  },
  {
   "attachments": {},
   "cell_type": "markdown",
   "metadata": {
    "datalore": {
     "hide_input_from_viewers": true,
     "hide_output_from_viewers": true,
     "node_id": "m5amJUQI5bXcCNnjNn05HB",
     "type": "MD"
    }
   },
   "source": [
    "### Choropleth map - states"
   ]
  },
  {
   "cell_type": "code",
   "execution_count": null,
   "metadata": {
    "datalore": {
     "hide_input_from_viewers": true,
     "hide_output_from_viewers": true,
     "node_id": "IhLWqpw0i1wLI8bgllkfVY",
     "type": "CODE"
    }
   },
   "outputs": [],
   "source": [
    "# Compute mean income by the US state.\n",
    "mean_income_state = income_dat.groupby(\"State_Name\", as_index=False)[\"Mean\"].mean()\n",
    "mean_income_state.head(3)"
   ]
  },
  {
   "cell_type": "code",
   "execution_count": null,
   "metadata": {
    "datalore": {
     "hide_input_from_viewers": true,
     "hide_output_from_viewers": true,
     "node_id": "TJG4WjzmlemgwgHIfx6b9C",
     "type": "CODE"
    }
   },
   "outputs": [],
   "source": [
    "# Define some setting to use on plots later on:\n",
    "#\n",
    "# - A gradient color palette. We will borrow color codes from the Brewer's 'PiYG' palette:\n",
    "#   https://colorbrewer2.org/#type=diverging&scheme=PiYG&n=11\n",
    "#   We will be using the US mean income as a `midpoint` for the color scale.\n",
    "map_fill_colors = scale_fill_gradient2(name=\"\", low=\"#8e0152\",mid=\"#f7f7f7\",high=\"#276419\", midpoint=mean_US,\n",
    "                                       format=\".2s\",\n",
    "                                       guide=guide_colorbar(barheight=10, barwidth=300))\n",
    "\n",
    "# - Remove axis.\n",
    "# - Define plot coordinate system and size.\n",
    "map_settings = (theme(axis=\"blank\", panel_grid='blank',\n",
    "                      legend_direction='horizontal', legend_position=\"bottom\") + \n",
    "                map_fill_colors + \n",
    "                coord_map() +\n",
    "                ggsize(700, 400))"
   ]
  },
  {
   "cell_type": "code",
   "execution_count": null,
   "metadata": {
    "datalore": {
     "hide_input_from_viewers": true,
     "hide_output_from_viewers": true,
     "node_id": "Zyqgf1ewBGSKlR5YR64iSR",
     "type": "CODE"
    }
   },
   "outputs": [],
   "source": [
    "# Use `geom_polygon` to create choropleth.\n",
    "# - pass state geocoder to the `map` parameter.\n",
    "# - specify the \"State_Name\" variable (from the dataset) as a single key in the `map_join` parameter.\n",
    "(ggplot(mean_income_state) + \n",
    " geom_polygon(aes(fill=\"Mean\"), map=state_gcoder, map_join=\"State_Name\", color=\"white\") + \n",
    " map_settings)"
   ]
  },
  {
   "attachments": {},
   "cell_type": "markdown",
   "metadata": {
    "datalore": {
     "hide_input_from_viewers": true,
     "hide_output_from_viewers": true,
     "node_id": "kog3rLXEi7wEufnX17lreX",
     "type": "MD"
    }
   },
   "source": [
    "#### Adjusting geocoder resolution\n",
    "\n",
    "Plot of this size looks too pixelated with the resolution used by default.\n",
    "\n",
    "To create a better looking choropleth use the `inc_res()` function.\n",
    "\n",
    "We will also configure a better looking tooltips."
   ]
  },
  {
   "cell_type": "code",
   "execution_count": null,
   "metadata": {
    "datalore": {
     "hide_input_from_viewers": true,
     "hide_output_from_viewers": true,
     "node_id": "mmv8Kxcv0PdQEiclvixwZf",
     "type": "CODE"
    }
   },
   "outputs": [],
   "source": [
    "tooltip_state=(layer_tooltips()\n",
    "          .format('Mean', '.2s')\n",
    "          .title('@State_Name')\n",
    "          .line('Mean income|$@Mean'))\n",
    "\n",
    "(ggplot(mean_income_state) + \n",
    " geom_polygon(aes(fill=\"Mean\"), \n",
    "              map=state_gcoder.inc_res(), \n",
    "              map_join=\"State_Name\", \n",
    "              tooltips=tooltip_state,\n",
    "              color=\"white\") + \n",
    " map_settings)"
   ]
  },
  {
   "attachments": {},
   "cell_type": "markdown",
   "metadata": {
    "datalore": {
     "hide_input_from_viewers": true,
     "hide_output_from_viewers": true,
     "node_id": "kxLajRSeymmmzkoxE1j4qQ",
     "type": "MD"
    }
   },
   "source": [
    "### Choropleth map - counties"
   ]
  },
  {
   "cell_type": "code",
   "execution_count": null,
   "metadata": {
    "datalore": {
     "hide_input_from_viewers": true,
     "hide_output_from_viewers": true,
     "node_id": "pWjgRAhYopvVH015kDERnC",
     "type": "CODE"
    }
   },
   "outputs": [],
   "source": [
    "# Compute mean income by the US county.\n",
    "# Note: the resulting dataframe two key variables: \"County\" and \"State_Name\".\n",
    "#       Later we will use these two variables to 'join' this dataframe with counties geocoder data.\n",
    "mean_income_county = income_dat.groupby([\"State_Name\",\"County\"], as_index=False)[\"Mean\"].mean()\n",
    "mean_income_county.head(3)"
   ]
  },
  {
   "cell_type": "code",
   "execution_count": null,
   "metadata": {
    "datalore": {
     "hide_input_from_viewers": true,
     "hide_output_from_viewers": true,
     "node_id": "FV4cKw6w1NNM3WuSsSHGo8",
     "type": "CODE"
    }
   },
   "outputs": [],
   "source": [
    "# Create geocoder for the US counties.\n",
    "# Note: in addition to county names we are using here the `states()` function.\n",
    "#       The `states()` allows us to tell geocoder to use names of states as parent qualifiers for county names.\n",
    "#       This is necessary because names counties in the US are not unique, i.e. different states can easy have \n",
    "#       counties with identical names.\n",
    "county_gcoder = (geocode_counties(mean_income_county[\"County\"])\n",
    "    .states(mean_income_county[\"State_Name\"])\n",
    "    .ignore_all_errors())\n",
    "county_gcoder.get_geocodes().head(3)"
   ]
  },
  {
   "cell_type": "code",
   "execution_count": null,
   "metadata": {
    "datalore": {
     "hide_input_from_viewers": true,
     "hide_output_from_viewers": true,
     "node_id": "m4KChW0K3eAfSCvkgoH2Tt",
     "type": "CODE"
    }
   },
   "outputs": [],
   "source": [
    "# Configure tooltip.\n",
    "tooltip_county=(layer_tooltips()\n",
    "          .format('Mean', '.2s')\n",
    "          .title('@County\\n@State_Name')\n",
    "          .line('Mean income|$@Mean')\n",
    "          .color(\"black\"))"
   ]
  },
  {
   "cell_type": "code",
   "execution_count": null,
   "metadata": {
    "datalore": {
     "hide_input_from_viewers": true,
     "hide_output_from_viewers": true,
     "node_id": "yuGCEB5xI6R7ESKfytBpFu",
     "type": "CODE"
    }
   },
   "outputs": [],
   "source": [
    "# Again, use `geom_polygon` to create choropleth.\n",
    "# - pass county geocoder to the `map` parameter.\n",
    "# - specify the \"County\" and \"State_Name\" variables as a hieratchical key in the `map_join` parameter.\n",
    "#   Note: the order of keys in hierarchical key is important.\n",
    "#         Lets-Plot expects the same order as it is in a US street address, i.e.: city, state, country. \n",
    "(ggplot(mean_income_county) + \n",
    " geom_polygon(aes(fill=\"Mean\"), \n",
    "              map=county_gcoder, \n",
    "              map_join=[[\"County\", \"State_Name\"]], \n",
    "              tooltips=tooltip_county, \n",
    "              color=\"white\") + \n",
    " map_settings)"
   ]
  },
  {
   "attachments": {},
   "cell_type": "markdown",
   "metadata": {
    "datalore": {
     "hide_input_from_viewers": true,
     "hide_output_from_viewers": true,
     "node_id": "Nvj5joaDo7doeLbv4lz8ci",
     "type": "MD"
    }
   },
   "source": [
    "### An Interactive Map\n",
    "\n",
    "Finally, let's add the `geom_livemap()` layer to create an interactive map which you can zoom in and out, and pan."
   ]
  },
  {
   "cell_type": "code",
   "execution_count": null,
   "metadata": {
    "datalore": {
     "hide_input_from_viewers": true,
     "hide_output_from_viewers": true,
     "node_id": "vLklXexPYeKO9Q5Dyn1Kde",
     "type": "CODE"
    }
   },
   "outputs": [],
   "source": [
    "(ggplot(mean_income_county) + \n",
    " geom_livemap() +\n",
    " geom_polygon(aes(fill=\"Mean\"), \n",
    "              map=county_gcoder, \n",
    "              map_join=[[\"County\", \"State_Name\"]], \n",
    "              tooltips=tooltip_county, color=\"white\") + \n",
    " map_settings +theme(legend_position=[.5, 0.05]))"
   ]
  },
  {
   "cell_type": "code",
   "execution_count": null,
   "metadata": {},
   "outputs": [],
   "source": []
  }
 ],
 "metadata": {
  "datalore": {
   "computation_mode": "JUPYTER",
   "packages": [],
   "report_link": "https://datalore.jetbrains.com/report/HZqq77cegYd.E7get_WnChZ/18vW14MKvPqWBIedhsrrSQ",
   "report_row_ids": [],
   "report_tabs": [],
   "version": 4
  },
  "kernelspec": {
   "display_name": "Python 3 (ipykernel)",
   "language": "python",
   "name": "python3"
  },
  "language_info": {
   "codemirror_mode": {
    "name": "ipython",
    "version": 3
   },
   "file_extension": ".py",
   "mimetype": "text/x-python",
   "name": "python",
   "nbconvert_exporter": "python",
   "pygments_lexer": "ipython3",
   "version": "3.10.18"
  }
 },
 "nbformat": 4,
 "nbformat_minor": 4
}
