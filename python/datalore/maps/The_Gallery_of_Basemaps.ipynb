{
 "cells": [
  {
   "attachments": {},
   "cell_type": "markdown",
   "metadata": {
    "datalore": {
     "hide_input_from_viewers": false,
     "hide_output_from_viewers": false,
     "node_id": "DmfBS9j99FBSTRhXlKeC3G",
     "report_properties": {
      "relativeY": 0,
      "rowId": "WuGli6fUjtCFlPZTcvQXRu"
     },
     "type": "MD"
    }
   },
   "source": [
    "## Configuring basemap tiles in [Lets-Plot](https://lets-plot.org)\n",
    "\n",
    "\n",
    "### Configuring globally\n",
    "\n",
    "You can configure global Lets-Plot options using the `LestPlot.set(dictionary)` method.\n",
    "\n",
    "Where the `dictionary` can contain all sorts of Lets-Plot options, including basemap tiles configuration options.\n",
    "\n",
    "Lets-Plot provides a variety of constantas and functions which make configuring of basemap tiles simple:\n",
    "\n",
    "```\n",
    "from lets_plot import tilesets\n",
    "\n",
    "LetsPlot.set(tilesets.LETS_PLOT_DARK)\n",
    "```\n",
    "\n",
    "### Configuring for a single plot\n",
    "\n",
    "Use `tiles` parameter in the `geom_livemap()` function:\n",
    "```\n",
    "from lets_plot import tilesets\n",
    "\n",
    "ggplot() + geom_livemap(tiles=tilesets.LETS_PLOT_DARK)\n",
    "```\n",
    "\n",
    "\n",
    "In this demo we will be using the `tiles` parameter because each plot here is using different map-tile service."
   ]
  },
  {
   "cell_type": "code",
   "execution_count": 1,
   "metadata": {
    "datalore": {
     "hide_input_from_viewers": false,
     "hide_output_from_viewers": false,
     "node_id": "uDw0cGuxd7x8WNqVulhFGf",
     "report_properties": {
      "relativeY": 0,
      "rowId": "qHZJJbHcOGK6ngxYSiGpbh"
     },
     "type": "CODE"
    },
    "execution": {
     "iopub.execute_input": "2024-09-27T18:22:54.044174Z",
     "iopub.status.busy": "2024-09-27T18:22:54.043914Z",
     "iopub.status.idle": "2024-09-27T18:22:54.466814Z",
     "shell.execute_reply": "2024-09-27T18:22:54.466550Z"
    }
   },
   "outputs": [
    {
     "data": {
      "text/html": [
       "\n",
       "            <div id=\"27Zu6v\"></div>\n",
       "            <script type=\"text/javascript\" data-lets-plot-script=\"library\">\n",
       "                if(!window.letsPlotCallQueue) {\n",
       "                    window.letsPlotCallQueue = [];\n",
       "                }; \n",
       "                window.letsPlotCall = function(f) {\n",
       "                    window.letsPlotCallQueue.push(f);\n",
       "                };\n",
       "                (function() {\n",
       "                    var script = document.createElement(\"script\");\n",
       "                    script.type = \"text/javascript\";\n",
       "                    script.src = \"https://cdn.jsdelivr.net/gh/JetBrains/lets-plot@v4.4.1/js-package/distr/lets-plot.min.js\";\n",
       "                    script.onload = function() {\n",
       "                        window.letsPlotCall = function(f) {f();};\n",
       "                        window.letsPlotCallQueue.forEach(function(f) {f();});\n",
       "                        window.letsPlotCallQueue = [];\n",
       "                        \n",
       "                    };\n",
       "                    script.onerror = function(event) {\n",
       "                        window.letsPlotCall = function(f) {};    // noop\n",
       "                        window.letsPlotCallQueue = [];\n",
       "                        var div = document.createElement(\"div\");\n",
       "                        div.style.color = 'darkred';\n",
       "                        div.textContent = 'Error loading Lets-Plot JS';\n",
       "                        document.getElementById(\"27Zu6v\").appendChild(div);\n",
       "                    };\n",
       "                    var e = document.getElementById(\"27Zu6v\");\n",
       "                    e.appendChild(script);\n",
       "                })()\n",
       "            </script>\n",
       "            "
      ]
     },
     "metadata": {},
     "output_type": "display_data"
    }
   ],
   "source": [
    "from lets_plot import *\n",
    "from lets_plot import tilesets\n",
    "LetsPlot.setup_html()"
   ]
  },
  {
   "cell_type": "code",
   "execution_count": 2,
   "metadata": {
    "datalore": {
     "hide_input_from_viewers": false,
     "hide_output_from_viewers": false,
     "node_id": "MYQ9XVovKUhBkl5fQ8AGgg",
     "report_properties": {
      "relativeY": 0,
      "rowId": "mvr8hhrWX5nM3hKCMRyCes"
     },
     "type": "CODE"
    },
    "execution": {
     "iopub.execute_input": "2024-09-27T18:22:54.482252Z",
     "iopub.status.busy": "2024-09-27T18:22:54.482109Z",
     "iopub.status.idle": "2024-09-27T18:22:54.484166Z",
     "shell.execute_reply": "2024-09-27T18:22:54.483944Z"
    }
   },
   "outputs": [],
   "source": [
    "def show_map(text, tiles=None):\n",
    "    (ggplot() + geom_livemap(location=[13.3, 37.6], zoom=3, tiles=tiles) + \n",
    "     ggsize(500, 450) + \n",
    "     ggtitle(text)).show()"
   ]
  },
  {
   "attachments": {},
   "cell_type": "markdown",
   "metadata": {
    "datalore": {
     "hide_input_from_viewers": false,
     "hide_output_from_viewers": false,
     "node_id": "5cs7RClCpynlVpeb8bEcBp",
     "report_properties": {
      "relativeY": 0,
      "rowId": "31jU6aEYPN3pymWfrQqEaT"
     },
     "type": "MD"
    }
   },
   "source": [
    "### Lets-Plot vector tiles\n",
    "\n",
    "Lets-Plot provides its own vector basemap tiles available in four variants:\n",
    "\n",
    "- color\n",
    "- dark\n",
    "- light\n",
    "- bw\n",
    "\n",
    "By default Lets-Plot uses its \"color\" tiles."
   ]
  },
  {
   "cell_type": "code",
   "execution_count": 3,
   "metadata": {
    "datalore": {
     "hide_input_from_viewers": false,
     "hide_output_from_viewers": false,
     "node_id": "QXIM2o9IgEfgen4LOsVhdr",
     "report_properties": {
      "relativeY": 0,
      "rowId": "daoRsyjO2tgthul6VI9xr1"
     },
     "type": "CODE"
    },
    "execution": {
     "iopub.execute_input": "2024-09-27T18:22:54.485280Z",
     "iopub.status.busy": "2024-09-27T18:22:54.485192Z",
     "iopub.status.idle": "2024-09-27T18:22:54.514030Z",
     "shell.execute_reply": "2024-09-27T18:22:54.513832Z"
    }
   },
   "outputs": [
    {
     "data": {
      "text/html": [
       "   <div id=\"eHXty7\"></div>\n",
       "   <script type=\"text/javascript\" data-lets-plot-script=\"plot\">\n",
       "       (function() {\n",
       "           var plotSpec={\n",
       "\"mapping\":{\n",
       "},\n",
       "\"data_meta\":{\n",
       "},\n",
       "\"ggsize\":{\n",
       "\"width\":500.0,\n",
       "\"height\":450.0\n",
       "},\n",
       "\"ggtitle\":{\n",
       "\"text\":\"Lets-Plot vector tiles (default).\"\n",
       "},\n",
       "\"kind\":\"plot\",\n",
       "\"scales\":[],\n",
       "\"layers\":[{\n",
       "\"geom\":\"livemap\",\n",
       "\"mapping\":{\n",
       "},\n",
       "\"data_meta\":{\n",
       "},\n",
       "\"location\":{\n",
       "\"type\":\"coordinates\",\n",
       "\"data\":[13.3,37.6]\n",
       "},\n",
       "\"zoom\":3.0,\n",
       "\"tiles\":{\n",
       "\"kind\":\"vector_lets_plot\",\n",
       "\"url\":\"wss://tiles.datalore.jetbrains.com\",\n",
       "\"theme\":\"color\",\n",
       "\"attribution\":\"<a href=\\\"https://lets-plot.org\\\">© Lets-Plot</a>, map data: <a href=\\\"https://www.openstreetmap.org/copyright\\\">© OpenStreetMap contributors</a>.\"\n",
       "},\n",
       "\"geocoding\":{\n",
       "\"url\":\"https://geo2.datalore.jetbrains.com/map_data/geocoding\"\n",
       "},\n",
       "\"data\":{\n",
       "}\n",
       "}],\n",
       "\"metainfo_list\":[]\n",
       "};\n",
       "           var plotContainer = document.getElementById(\"eHXty7\");\n",
       "           window.letsPlotCall(function() {{\n",
       "               LetsPlot.buildPlotFromProcessedSpecs(plotSpec, -1, -1, plotContainer);\n",
       "           }});\n",
       "       })();\n",
       "   </script>"
      ]
     },
     "metadata": {},
     "output_type": "display_data"
    },
    {
     "data": {
      "text/html": [
       "   <div id=\"FAdNbl\"></div>\n",
       "   <script type=\"text/javascript\" data-lets-plot-script=\"plot\">\n",
       "       (function() {\n",
       "           var plotSpec={\n",
       "\"mapping\":{\n",
       "},\n",
       "\"data_meta\":{\n",
       "},\n",
       "\"ggsize\":{\n",
       "\"width\":500.0,\n",
       "\"height\":450.0\n",
       "},\n",
       "\"ggtitle\":{\n",
       "\"text\":\"Lets-Plot vector tiles (dark).\"\n",
       "},\n",
       "\"kind\":\"plot\",\n",
       "\"scales\":[],\n",
       "\"layers\":[{\n",
       "\"geom\":\"livemap\",\n",
       "\"mapping\":{\n",
       "},\n",
       "\"data_meta\":{\n",
       "},\n",
       "\"location\":{\n",
       "\"type\":\"coordinates\",\n",
       "\"data\":[13.3,37.6]\n",
       "},\n",
       "\"zoom\":3.0,\n",
       "\"tiles\":{\n",
       "\"kind\":\"vector_lets_plot\",\n",
       "\"url\":\"wss://tiles.datalore.jetbrains.com\",\n",
       "\"theme\":\"dark\",\n",
       "\"attribution\":\"<a href=\\\"https://lets-plot.org\\\">© Lets-Plot</a>, map data: <a href=\\\"https://www.openstreetmap.org/copyright\\\">© OpenStreetMap contributors</a>.\"\n",
       "},\n",
       "\"geocoding\":{\n",
       "\"url\":\"https://geo2.datalore.jetbrains.com/map_data/geocoding\"\n",
       "},\n",
       "\"data\":{\n",
       "}\n",
       "}],\n",
       "\"metainfo_list\":[]\n",
       "};\n",
       "           var plotContainer = document.getElementById(\"FAdNbl\");\n",
       "           window.letsPlotCall(function() {{\n",
       "               LetsPlot.buildPlotFromProcessedSpecs(plotSpec, -1, -1, plotContainer);\n",
       "           }});\n",
       "       })();\n",
       "   </script>"
      ]
     },
     "metadata": {},
     "output_type": "display_data"
    },
    {
     "data": {
      "text/html": [
       "   <div id=\"90Cqhw\"></div>\n",
       "   <script type=\"text/javascript\" data-lets-plot-script=\"plot\">\n",
       "       (function() {\n",
       "           var plotSpec={\n",
       "\"mapping\":{\n",
       "},\n",
       "\"data_meta\":{\n",
       "},\n",
       "\"ggsize\":{\n",
       "\"width\":500.0,\n",
       "\"height\":450.0\n",
       "},\n",
       "\"ggtitle\":{\n",
       "\"text\":\"Lets-Plot vector tiles (light).\"\n",
       "},\n",
       "\"kind\":\"plot\",\n",
       "\"scales\":[],\n",
       "\"layers\":[{\n",
       "\"geom\":\"livemap\",\n",
       "\"mapping\":{\n",
       "},\n",
       "\"data_meta\":{\n",
       "},\n",
       "\"location\":{\n",
       "\"type\":\"coordinates\",\n",
       "\"data\":[13.3,37.6]\n",
       "},\n",
       "\"zoom\":3.0,\n",
       "\"tiles\":{\n",
       "\"kind\":\"vector_lets_plot\",\n",
       "\"url\":\"wss://tiles.datalore.jetbrains.com\",\n",
       "\"theme\":\"light\",\n",
       "\"attribution\":\"<a href=\\\"https://lets-plot.org\\\">© Lets-Plot</a>, map data: <a href=\\\"https://www.openstreetmap.org/copyright\\\">© OpenStreetMap contributors</a>.\"\n",
       "},\n",
       "\"geocoding\":{\n",
       "\"url\":\"https://geo2.datalore.jetbrains.com/map_data/geocoding\"\n",
       "},\n",
       "\"data\":{\n",
       "}\n",
       "}],\n",
       "\"metainfo_list\":[]\n",
       "};\n",
       "           var plotContainer = document.getElementById(\"90Cqhw\");\n",
       "           window.letsPlotCall(function() {{\n",
       "               LetsPlot.buildPlotFromProcessedSpecs(plotSpec, -1, -1, plotContainer);\n",
       "           }});\n",
       "       })();\n",
       "   </script>"
      ]
     },
     "metadata": {},
     "output_type": "display_data"
    },
    {
     "data": {
      "text/html": [
       "   <div id=\"1rn85M\"></div>\n",
       "   <script type=\"text/javascript\" data-lets-plot-script=\"plot\">\n",
       "       (function() {\n",
       "           var plotSpec={\n",
       "\"mapping\":{\n",
       "},\n",
       "\"data_meta\":{\n",
       "},\n",
       "\"ggsize\":{\n",
       "\"width\":500.0,\n",
       "\"height\":450.0\n",
       "},\n",
       "\"ggtitle\":{\n",
       "\"text\":\"Lets-Plot vector tiles (bw).\"\n",
       "},\n",
       "\"kind\":\"plot\",\n",
       "\"scales\":[],\n",
       "\"layers\":[{\n",
       "\"geom\":\"livemap\",\n",
       "\"mapping\":{\n",
       "},\n",
       "\"data_meta\":{\n",
       "},\n",
       "\"location\":{\n",
       "\"type\":\"coordinates\",\n",
       "\"data\":[13.3,37.6]\n",
       "},\n",
       "\"zoom\":3.0,\n",
       "\"tiles\":{\n",
       "\"kind\":\"vector_lets_plot\",\n",
       "\"url\":\"wss://tiles.datalore.jetbrains.com\",\n",
       "\"theme\":\"bw\",\n",
       "\"attribution\":\"<a href=\\\"https://lets-plot.org\\\">© Lets-Plot</a>, map data: <a href=\\\"https://www.openstreetmap.org/copyright\\\">© OpenStreetMap contributors</a>.\"\n",
       "},\n",
       "\"geocoding\":{\n",
       "\"url\":\"https://geo2.datalore.jetbrains.com/map_data/geocoding\"\n",
       "},\n",
       "\"data\":{\n",
       "}\n",
       "}],\n",
       "\"metainfo_list\":[]\n",
       "};\n",
       "           var plotContainer = document.getElementById(\"1rn85M\");\n",
       "           window.letsPlotCall(function() {{\n",
       "               LetsPlot.buildPlotFromProcessedSpecs(plotSpec, -1, -1, plotContainer);\n",
       "           }});\n",
       "       })();\n",
       "   </script>"
      ]
     },
     "metadata": {},
     "output_type": "display_data"
    }
   ],
   "source": [
    "show_map(\"Lets-Plot vector tiles (default).\")\n",
    "show_map(\"Lets-Plot vector tiles (dark).\", tilesets.LETS_PLOT_DARK)\n",
    "show_map(\"Lets-Plot vector tiles (light).\", tilesets.LETS_PLOT_LIGHT)\n",
    "show_map(\"Lets-Plot vector tiles (bw).\", tilesets.LETS_PLOT_BW)"
   ]
  },
  {
   "attachments": {},
   "cell_type": "markdown",
   "metadata": {
    "datalore": {
     "hide_input_from_viewers": false,
     "hide_output_from_viewers": false,
     "node_id": "kfp0cTDwesXK5BM7S9txYO",
     "report_properties": {
      "relativeY": 0,
      "rowId": "mzLkX4aSTaLMTyF9Tp976b"
     },
     "type": "MD"
    }
   },
   "source": [
    "## Raster tiles\n",
    "\n",
    "You can use `ZXY` raster tiles provided by 3rd party maptile services.\n",
    "\n",
    "Some services provide free of charge raster tilesets. \n",
    "\n",
    "The `tilesets` module in Lets-Plot contains many such tilesets pre-cofigured."
   ]
  },
  {
   "attachments": {},
   "cell_type": "markdown",
   "metadata": {
    "datalore": {
     "hide_input_from_viewers": false,
     "hide_output_from_viewers": false,
     "node_id": "WYJGMfGBFu7UUDViP9ZMhd",
     "report_properties": {
      "relativeY": 0,
      "rowId": "fzYYLMnxwRjb3RP8fbWBbS"
     },
     "type": "MD"
    }
   },
   "source": [
    "### OpenStreetMap\n",
    "\n",
    "[© OpenStreetMap contributors](https://www.openstreetmap.org/copyright)\n"
   ]
  },
  {
   "cell_type": "code",
   "execution_count": 4,
   "metadata": {
    "datalore": {
     "hide_input_from_viewers": false,
     "hide_output_from_viewers": false,
     "node_id": "HRiEQdP26ZlXd6eYBoWAxv",
     "report_properties": {
      "relativeY": 0,
      "rowId": "L0q0yUdBPE3s7tj6bEHKvf"
     },
     "type": "CODE"
    },
    "execution": {
     "iopub.execute_input": "2024-09-27T18:22:54.515295Z",
     "iopub.status.busy": "2024-09-27T18:22:54.515195Z",
     "iopub.status.idle": "2024-09-27T18:22:54.517404Z",
     "shell.execute_reply": "2024-09-27T18:22:54.517208Z"
    }
   },
   "outputs": [
    {
     "data": {
      "text/html": [
       "   <div id=\"CyLR3k\"></div>\n",
       "   <script type=\"text/javascript\" data-lets-plot-script=\"plot\">\n",
       "       (function() {\n",
       "           var plotSpec={\n",
       "\"mapping\":{\n",
       "},\n",
       "\"data_meta\":{\n",
       "},\n",
       "\"ggsize\":{\n",
       "\"width\":500.0,\n",
       "\"height\":450.0\n",
       "},\n",
       "\"ggtitle\":{\n",
       "\"text\":\"OpenStreetMap's Standard tile layer\"\n",
       "},\n",
       "\"kind\":\"plot\",\n",
       "\"scales\":[],\n",
       "\"layers\":[{\n",
       "\"geom\":\"livemap\",\n",
       "\"mapping\":{\n",
       "},\n",
       "\"data_meta\":{\n",
       "},\n",
       "\"location\":{\n",
       "\"type\":\"coordinates\",\n",
       "\"data\":[13.3,37.6]\n",
       "},\n",
       "\"zoom\":3.0,\n",
       "\"tiles\":{\n",
       "\"kind\":\"raster_zxy\",\n",
       "\"url\":\"https://[abc].tile.openstreetmap.org/{z}/{x}/{y}.png\",\n",
       "\"attribution\":\"<a href=\\\"https://lets-plot.org\\\">© Lets-Plot</a>, map data: <a href=\\\"https://www.openstreetmap.org/copyright\\\">© OpenStreetMap contributors</a>\",\n",
       "\"min_zoom\":1.0,\n",
       "\"max_zoom\":19.0\n",
       "},\n",
       "\"geocoding\":{\n",
       "\"url\":\"https://geo2.datalore.jetbrains.com/map_data/geocoding\"\n",
       "},\n",
       "\"data\":{\n",
       "}\n",
       "}],\n",
       "\"metainfo_list\":[]\n",
       "};\n",
       "           var plotContainer = document.getElementById(\"CyLR3k\");\n",
       "           window.letsPlotCall(function() {{\n",
       "               LetsPlot.buildPlotFromProcessedSpecs(plotSpec, -1, -1, plotContainer);\n",
       "           }});\n",
       "       })();\n",
       "   </script>"
      ]
     },
     "metadata": {},
     "output_type": "display_data"
    }
   ],
   "source": [
    "show_map(\"OpenStreetMap's Standard tile layer\", tilesets.OSM)"
   ]
  },
  {
   "attachments": {},
   "cell_type": "markdown",
   "metadata": {
    "datalore": {
     "hide_input_from_viewers": false,
     "hide_output_from_viewers": false,
     "node_id": "50KHgYLY5N8VRApR8hyYtc",
     "report_properties": {
      "relativeY": 0,
      "rowId": "FtOozoMQ2jnlZKuHSJWrvz"
     },
     "type": "MD"
    }
   },
   "source": [
    "### OpenTopoMap\n",
    "\n",
    "Map data: [© OpenStreetMap contributors](https://www.openstreetmap.org/copyright), [SRTM](http://viewfinderpanoramas.org/) | map style: [© OpenTopoMap](https://opentopomap.org/) ([CC-BY-SA](https://creativecommons.org/licenses/by-sa/3.0/))\n"
   ]
  },
  {
   "cell_type": "code",
   "execution_count": 5,
   "metadata": {
    "datalore": {
     "hide_input_from_viewers": false,
     "hide_output_from_viewers": false,
     "node_id": "26gXsLbtmfvISEVzqVuMLO",
     "report_properties": {
      "relativeY": 0,
      "rowId": "0SN0YoI8mpy8ODRDXchvlM"
     },
     "type": "CODE"
    },
    "execution": {
     "iopub.execute_input": "2024-09-27T18:22:54.518478Z",
     "iopub.status.busy": "2024-09-27T18:22:54.518388Z",
     "iopub.status.idle": "2024-09-27T18:22:54.520523Z",
     "shell.execute_reply": "2024-09-27T18:22:54.520320Z"
    }
   },
   "outputs": [
    {
     "data": {
      "text/html": [
       "   <div id=\"WqCCGf\"></div>\n",
       "   <script type=\"text/javascript\" data-lets-plot-script=\"plot\">\n",
       "       (function() {\n",
       "           var plotSpec={\n",
       "\"mapping\":{\n",
       "},\n",
       "\"data_meta\":{\n",
       "},\n",
       "\"ggsize\":{\n",
       "\"width\":500.0,\n",
       "\"height\":450.0\n",
       "},\n",
       "\"ggtitle\":{\n",
       "\"text\":\"OpenTopoMap\"\n",
       "},\n",
       "\"kind\":\"plot\",\n",
       "\"scales\":[],\n",
       "\"layers\":[{\n",
       "\"geom\":\"livemap\",\n",
       "\"mapping\":{\n",
       "},\n",
       "\"data_meta\":{\n",
       "},\n",
       "\"location\":{\n",
       "\"type\":\"coordinates\",\n",
       "\"data\":[13.3,37.6]\n",
       "},\n",
       "\"zoom\":3.0,\n",
       "\"tiles\":{\n",
       "\"kind\":\"raster_zxy\",\n",
       "\"url\":\"https://tile.opentopomap.org/{z}/{x}/{y}.png\",\n",
       "\"attribution\":\"<a href=\\\"https://lets-plot.org\\\">© Lets-Plot</a>, map data: <a href=\\\"https://www.openstreetmap.org/copyright\\\">© OpenStreetMap contributors</a>, <a href=\\\"http://viewfinderpanoramas.org/\\\">SRTM</a> | map style: <a href=\\\"https://opentopomap.org/\\\">© OpenTopoMap</a> (<a href=\\\"https://creativecommons.org/licenses/by-sa/3.0/\\\">CC-BY-SA</a>) \",\n",
       "\"min_zoom\":1.0,\n",
       "\"max_zoom\":16.0\n",
       "},\n",
       "\"geocoding\":{\n",
       "\"url\":\"https://geo2.datalore.jetbrains.com/map_data/geocoding\"\n",
       "},\n",
       "\"data\":{\n",
       "}\n",
       "}],\n",
       "\"metainfo_list\":[]\n",
       "};\n",
       "           var plotContainer = document.getElementById(\"WqCCGf\");\n",
       "           window.letsPlotCall(function() {{\n",
       "               LetsPlot.buildPlotFromProcessedSpecs(plotSpec, -1, -1, plotContainer);\n",
       "           }});\n",
       "       })();\n",
       "   </script>"
      ]
     },
     "metadata": {},
     "output_type": "display_data"
    }
   ],
   "source": [
    "show_map(\"OpenTopoMap\", tilesets.OPEN_TOPO_MAP)"
   ]
  },
  {
   "attachments": {},
   "cell_type": "markdown",
   "metadata": {
    "datalore": {
     "hide_input_from_viewers": false,
     "hide_output_from_viewers": false,
     "node_id": "LPJXf2bW0syRKn0d212AMu",
     "report_properties": {
      "relativeY": 0,
      "rowId": "K1uAJHxhxNH8X9EZrMbYjy"
     },
     "type": "MD"
    }
   },
   "source": [
    "### CARTO\n",
    "\n",
    "[© OpenStreetMap contributors](https://www.openstreetmap.org/copyright) [© CARTO](https://carto.com/attributions#basemaps), [© CARTO](https://carto.com/attributions)\n",
    "\n",
    "Free for none-commercial services only (see [Limitations](https://github.com/CartoDB/basemap-styles#1-web-raster-basemaps), [License](https://github.com/CartoDB/basemap-styles/blob/master/LICENSE.md)).\n"
   ]
  },
  {
   "cell_type": "code",
   "execution_count": 6,
   "metadata": {
    "datalore": {
     "hide_input_from_viewers": false,
     "hide_output_from_viewers": false,
     "node_id": "YAV55COth8pR4A3Krieg8R",
     "report_properties": {
      "relativeY": 0,
      "rowId": "cA0rvDgf3DaMubBubqrzqi"
     },
     "type": "CODE"
    },
    "execution": {
     "iopub.execute_input": "2024-09-27T18:22:54.521558Z",
     "iopub.status.busy": "2024-09-27T18:22:54.521468Z",
     "iopub.status.idle": "2024-09-27T18:22:54.526983Z",
     "shell.execute_reply": "2024-09-27T18:22:54.526802Z"
    }
   },
   "outputs": [
    {
     "data": {
      "text/html": [
       "   <div id=\"I3RBPZ\"></div>\n",
       "   <script type=\"text/javascript\" data-lets-plot-script=\"plot\">\n",
       "       (function() {\n",
       "           var plotSpec={\n",
       "\"mapping\":{\n",
       "},\n",
       "\"data_meta\":{\n",
       "},\n",
       "\"ggsize\":{\n",
       "\"width\":500.0,\n",
       "\"height\":450.0\n",
       "},\n",
       "\"ggtitle\":{\n",
       "\"text\":\"CARTO Positron\"\n",
       "},\n",
       "\"kind\":\"plot\",\n",
       "\"scales\":[],\n",
       "\"layers\":[{\n",
       "\"geom\":\"livemap\",\n",
       "\"mapping\":{\n",
       "},\n",
       "\"data_meta\":{\n",
       "},\n",
       "\"location\":{\n",
       "\"type\":\"coordinates\",\n",
       "\"data\":[13.3,37.6]\n",
       "},\n",
       "\"zoom\":3.0,\n",
       "\"tiles\":{\n",
       "\"kind\":\"raster_zxy\",\n",
       "\"url\":\"https://[abc].basemaps.cartocdn.com/rastertiles/light_all/{z}/{x}/{y}@2x.png\",\n",
       "\"attribution\":\"<a href=\\\"https://lets-plot.org\\\">© Lets-Plot</a>, map data: <a href=\\\"https://www.openstreetmap.org/copyright\\\">© OpenStreetMap contributors</a> <a href=\\\"https://carto.com/attributions#basemaps\\\">© CARTO</a>, <a href=\\\"https://carto.com/attributions\\\">© CARTO</a>\",\n",
       "\"min_zoom\":1.0,\n",
       "\"max_zoom\":20.0\n",
       "},\n",
       "\"geocoding\":{\n",
       "\"url\":\"https://geo2.datalore.jetbrains.com/map_data/geocoding\"\n",
       "},\n",
       "\"data\":{\n",
       "}\n",
       "}],\n",
       "\"metainfo_list\":[]\n",
       "};\n",
       "           var plotContainer = document.getElementById(\"I3RBPZ\");\n",
       "           window.letsPlotCall(function() {{\n",
       "               LetsPlot.buildPlotFromProcessedSpecs(plotSpec, -1, -1, plotContainer);\n",
       "           }});\n",
       "       })();\n",
       "   </script>"
      ]
     },
     "metadata": {},
     "output_type": "display_data"
    },
    {
     "data": {
      "text/html": [
       "   <div id=\"Dktrz2\"></div>\n",
       "   <script type=\"text/javascript\" data-lets-plot-script=\"plot\">\n",
       "       (function() {\n",
       "           var plotSpec={\n",
       "\"mapping\":{\n",
       "},\n",
       "\"data_meta\":{\n",
       "},\n",
       "\"ggsize\":{\n",
       "\"width\":500.0,\n",
       "\"height\":450.0\n",
       "},\n",
       "\"ggtitle\":{\n",
       "\"text\":\"CARTO Positron (no labels)\"\n",
       "},\n",
       "\"kind\":\"plot\",\n",
       "\"scales\":[],\n",
       "\"layers\":[{\n",
       "\"geom\":\"livemap\",\n",
       "\"mapping\":{\n",
       "},\n",
       "\"data_meta\":{\n",
       "},\n",
       "\"location\":{\n",
       "\"type\":\"coordinates\",\n",
       "\"data\":[13.3,37.6]\n",
       "},\n",
       "\"zoom\":3.0,\n",
       "\"tiles\":{\n",
       "\"kind\":\"raster_zxy\",\n",
       "\"url\":\"https://[abc].basemaps.cartocdn.com/rastertiles/light_nolabels/{z}/{x}/{y}@2x.png\",\n",
       "\"attribution\":\"<a href=\\\"https://lets-plot.org\\\">© Lets-Plot</a>, map data: <a href=\\\"https://www.openstreetmap.org/copyright\\\">© OpenStreetMap contributors</a> <a href=\\\"https://carto.com/attributions#basemaps\\\">© CARTO</a>, <a href=\\\"https://carto.com/attributions\\\">© CARTO</a>\",\n",
       "\"min_zoom\":1.0,\n",
       "\"max_zoom\":20.0\n",
       "},\n",
       "\"geocoding\":{\n",
       "\"url\":\"https://geo2.datalore.jetbrains.com/map_data/geocoding\"\n",
       "},\n",
       "\"data\":{\n",
       "}\n",
       "}],\n",
       "\"metainfo_list\":[]\n",
       "};\n",
       "           var plotContainer = document.getElementById(\"Dktrz2\");\n",
       "           window.letsPlotCall(function() {{\n",
       "               LetsPlot.buildPlotFromProcessedSpecs(plotSpec, -1, -1, plotContainer);\n",
       "           }});\n",
       "       })();\n",
       "   </script>"
      ]
     },
     "metadata": {},
     "output_type": "display_data"
    },
    {
     "data": {
      "text/html": [
       "   <div id=\"JLEF6z\"></div>\n",
       "   <script type=\"text/javascript\" data-lets-plot-script=\"plot\">\n",
       "       (function() {\n",
       "           var plotSpec={\n",
       "\"mapping\":{\n",
       "},\n",
       "\"data_meta\":{\n",
       "},\n",
       "\"ggsize\":{\n",
       "\"width\":500.0,\n",
       "\"height\":450.0\n",
       "},\n",
       "\"ggtitle\":{\n",
       "\"text\":\"CARTO Dark Matter (no labels)\"\n",
       "},\n",
       "\"kind\":\"plot\",\n",
       "\"scales\":[],\n",
       "\"layers\":[{\n",
       "\"geom\":\"livemap\",\n",
       "\"mapping\":{\n",
       "},\n",
       "\"data_meta\":{\n",
       "},\n",
       "\"location\":{\n",
       "\"type\":\"coordinates\",\n",
       "\"data\":[13.3,37.6]\n",
       "},\n",
       "\"zoom\":3.0,\n",
       "\"tiles\":{\n",
       "\"kind\":\"raster_zxy\",\n",
       "\"url\":\"https://[abc].basemaps.cartocdn.com/rastertiles/dark_nolabels/{z}/{x}/{y}@2x.png\",\n",
       "\"attribution\":\"<a href=\\\"https://lets-plot.org\\\">© Lets-Plot</a>, map data: <a href=\\\"https://www.openstreetmap.org/copyright\\\">© OpenStreetMap contributors</a> <a href=\\\"https://carto.com/attributions#basemaps\\\">© CARTO</a>, <a href=\\\"https://carto.com/attributions\\\">© CARTO</a>\",\n",
       "\"min_zoom\":1.0,\n",
       "\"max_zoom\":20.0\n",
       "},\n",
       "\"geocoding\":{\n",
       "\"url\":\"https://geo2.datalore.jetbrains.com/map_data/geocoding\"\n",
       "},\n",
       "\"data\":{\n",
       "}\n",
       "}],\n",
       "\"metainfo_list\":[]\n",
       "};\n",
       "           var plotContainer = document.getElementById(\"JLEF6z\");\n",
       "           window.letsPlotCall(function() {{\n",
       "               LetsPlot.buildPlotFromProcessedSpecs(plotSpec, -1, -1, plotContainer);\n",
       "           }});\n",
       "       })();\n",
       "   </script>"
      ]
     },
     "metadata": {},
     "output_type": "display_data"
    },
    {
     "data": {
      "text/html": [
       "   <div id=\"czv5GR\"></div>\n",
       "   <script type=\"text/javascript\" data-lets-plot-script=\"plot\">\n",
       "       (function() {\n",
       "           var plotSpec={\n",
       "\"mapping\":{\n",
       "},\n",
       "\"data_meta\":{\n",
       "},\n",
       "\"ggsize\":{\n",
       "\"width\":500.0,\n",
       "\"height\":450.0\n",
       "},\n",
       "\"ggtitle\":{\n",
       "\"text\":\"CARTO Voyager\"\n",
       "},\n",
       "\"kind\":\"plot\",\n",
       "\"scales\":[],\n",
       "\"layers\":[{\n",
       "\"geom\":\"livemap\",\n",
       "\"mapping\":{\n",
       "},\n",
       "\"data_meta\":{\n",
       "},\n",
       "\"location\":{\n",
       "\"type\":\"coordinates\",\n",
       "\"data\":[13.3,37.6]\n",
       "},\n",
       "\"zoom\":3.0,\n",
       "\"tiles\":{\n",
       "\"kind\":\"raster_zxy\",\n",
       "\"url\":\"https://[abc].basemaps.cartocdn.com/rastertiles/voyager/{z}/{x}/{y}@2x.png\",\n",
       "\"attribution\":\"<a href=\\\"https://lets-plot.org\\\">© Lets-Plot</a>, map data: <a href=\\\"https://www.openstreetmap.org/copyright\\\">© OpenStreetMap contributors</a> <a href=\\\"https://carto.com/attributions#basemaps\\\">© CARTO</a>, <a href=\\\"https://carto.com/attributions\\\">© CARTO</a>\",\n",
       "\"min_zoom\":1.0,\n",
       "\"max_zoom\":20.0\n",
       "},\n",
       "\"geocoding\":{\n",
       "\"url\":\"https://geo2.datalore.jetbrains.com/map_data/geocoding\"\n",
       "},\n",
       "\"data\":{\n",
       "}\n",
       "}],\n",
       "\"metainfo_list\":[]\n",
       "};\n",
       "           var plotContainer = document.getElementById(\"czv5GR\");\n",
       "           window.letsPlotCall(function() {{\n",
       "               LetsPlot.buildPlotFromProcessedSpecs(plotSpec, -1, -1, plotContainer);\n",
       "           }});\n",
       "       })();\n",
       "   </script>"
      ]
     },
     "metadata": {},
     "output_type": "display_data"
    },
    {
     "data": {
      "text/html": [
       "   <div id=\"Oev3Bi\"></div>\n",
       "   <script type=\"text/javascript\" data-lets-plot-script=\"plot\">\n",
       "       (function() {\n",
       "           var plotSpec={\n",
       "\"mapping\":{\n",
       "},\n",
       "\"data_meta\":{\n",
       "},\n",
       "\"ggsize\":{\n",
       "\"width\":500.0,\n",
       "\"height\":450.0\n",
       "},\n",
       "\"ggtitle\":{\n",
       "\"text\":\"CARTO Flat Blue\"\n",
       "},\n",
       "\"kind\":\"plot\",\n",
       "\"scales\":[],\n",
       "\"layers\":[{\n",
       "\"geom\":\"livemap\",\n",
       "\"mapping\":{\n",
       "},\n",
       "\"data_meta\":{\n",
       "},\n",
       "\"location\":{\n",
       "\"type\":\"coordinates\",\n",
       "\"data\":[13.3,37.6]\n",
       "},\n",
       "\"zoom\":3.0,\n",
       "\"tiles\":{\n",
       "\"kind\":\"raster_zxy\",\n",
       "\"url\":\"https://cartocdn_[abc].global.ssl.fastly.net/base-flatblue/{z}/{x}/{y}.png\",\n",
       "\"attribution\":\"<a href=\\\"https://lets-plot.org\\\">© Lets-Plot</a>, map data: <a href=\\\"https://www.openstreetmap.org/copyright\\\">© OpenStreetMap contributors</a> <a href=\\\"https://carto.com/attributions#basemaps\\\">© CARTO</a>, <a href=\\\"https://carto.com/attributions\\\">© CARTO</a>\",\n",
       "\"min_zoom\":1.0,\n",
       "\"max_zoom\":20.0\n",
       "},\n",
       "\"geocoding\":{\n",
       "\"url\":\"https://geo2.datalore.jetbrains.com/map_data/geocoding\"\n",
       "},\n",
       "\"data\":{\n",
       "}\n",
       "}],\n",
       "\"metainfo_list\":[]\n",
       "};\n",
       "           var plotContainer = document.getElementById(\"Oev3Bi\");\n",
       "           window.letsPlotCall(function() {{\n",
       "               LetsPlot.buildPlotFromProcessedSpecs(plotSpec, -1, -1, plotContainer);\n",
       "           }});\n",
       "       })();\n",
       "   </script>"
      ]
     },
     "metadata": {},
     "output_type": "display_data"
    },
    {
     "data": {
      "text/html": [
       "   <div id=\"ZrEVwG\"></div>\n",
       "   <script type=\"text/javascript\" data-lets-plot-script=\"plot\">\n",
       "       (function() {\n",
       "           var plotSpec={\n",
       "\"mapping\":{\n",
       "},\n",
       "\"data_meta\":{\n",
       "},\n",
       "\"ggsize\":{\n",
       "\"width\":500.0,\n",
       "\"height\":450.0\n",
       "},\n",
       "\"ggtitle\":{\n",
       "\"text\":\"CARTO Midnight commander\"\n",
       "},\n",
       "\"kind\":\"plot\",\n",
       "\"scales\":[],\n",
       "\"layers\":[{\n",
       "\"geom\":\"livemap\",\n",
       "\"mapping\":{\n",
       "},\n",
       "\"data_meta\":{\n",
       "},\n",
       "\"location\":{\n",
       "\"type\":\"coordinates\",\n",
       "\"data\":[13.3,37.6]\n",
       "},\n",
       "\"zoom\":3.0,\n",
       "\"tiles\":{\n",
       "\"kind\":\"raster_zxy\",\n",
       "\"url\":\"https://cartocdn_[abc].global.ssl.fastly.net/base-midnight/{z}/{x}/{y}.png\",\n",
       "\"attribution\":\"<a href=\\\"https://lets-plot.org\\\">© Lets-Plot</a>, map data: <a href=\\\"https://www.openstreetmap.org/copyright\\\">© OpenStreetMap contributors</a> <a href=\\\"https://carto.com/attributions#basemaps\\\">© CARTO</a>, <a href=\\\"https://carto.com/attributions\\\">© CARTO</a>\",\n",
       "\"min_zoom\":1.0,\n",
       "\"max_zoom\":20.0\n",
       "},\n",
       "\"geocoding\":{\n",
       "\"url\":\"https://geo2.datalore.jetbrains.com/map_data/geocoding\"\n",
       "},\n",
       "\"data\":{\n",
       "}\n",
       "}],\n",
       "\"metainfo_list\":[]\n",
       "};\n",
       "           var plotContainer = document.getElementById(\"ZrEVwG\");\n",
       "           window.letsPlotCall(function() {{\n",
       "               LetsPlot.buildPlotFromProcessedSpecs(plotSpec, -1, -1, plotContainer);\n",
       "           }});\n",
       "       })();\n",
       "   </script>"
      ]
     },
     "metadata": {},
     "output_type": "display_data"
    },
    {
     "data": {
      "text/html": [
       "   <div id=\"9ML3P7\"></div>\n",
       "   <script type=\"text/javascript\" data-lets-plot-script=\"plot\">\n",
       "       (function() {\n",
       "           var plotSpec={\n",
       "\"mapping\":{\n",
       "},\n",
       "\"data_meta\":{\n",
       "},\n",
       "\"ggsize\":{\n",
       "\"width\":500.0,\n",
       "\"height\":450.0\n",
       "},\n",
       "\"ggtitle\":{\n",
       "\"text\":\"CARTO Antique\"\n",
       "},\n",
       "\"kind\":\"plot\",\n",
       "\"scales\":[],\n",
       "\"layers\":[{\n",
       "\"geom\":\"livemap\",\n",
       "\"mapping\":{\n",
       "},\n",
       "\"data_meta\":{\n",
       "},\n",
       "\"location\":{\n",
       "\"type\":\"coordinates\",\n",
       "\"data\":[13.3,37.6]\n",
       "},\n",
       "\"zoom\":3.0,\n",
       "\"tiles\":{\n",
       "\"kind\":\"raster_zxy\",\n",
       "\"url\":\"https://cartocdn_[abc].global.ssl.fastly.net/base-antique/{z}/{x}/{y}@2x.png\",\n",
       "\"attribution\":\"<a href=\\\"https://lets-plot.org\\\">© Lets-Plot</a>, map data: <a href=\\\"https://www.openstreetmap.org/copyright\\\">© OpenStreetMap contributors</a> <a href=\\\"https://carto.com/attributions#basemaps\\\">© CARTO</a>, <a href=\\\"https://carto.com/attributions\\\">© CARTO</a>\",\n",
       "\"min_zoom\":1.0,\n",
       "\"max_zoom\":20.0\n",
       "},\n",
       "\"geocoding\":{\n",
       "\"url\":\"https://geo2.datalore.jetbrains.com/map_data/geocoding\"\n",
       "},\n",
       "\"data\":{\n",
       "}\n",
       "}],\n",
       "\"metainfo_list\":[]\n",
       "};\n",
       "           var plotContainer = document.getElementById(\"9ML3P7\");\n",
       "           window.letsPlotCall(function() {{\n",
       "               LetsPlot.buildPlotFromProcessedSpecs(plotSpec, -1, -1, plotContainer);\n",
       "           }});\n",
       "       })();\n",
       "   </script>"
      ]
     },
     "metadata": {},
     "output_type": "display_data"
    }
   ],
   "source": [
    "show_map(\"CARTO Positron\", tilesets.CARTO_POSITRON_HIRES)\n",
    "show_map(\"CARTO Positron (no labels)\", tilesets.CARTO_POSITRON_NO_LABELS_HIRES)\n",
    "show_map(\"CARTO Dark Matter (no labels)\", tilesets.CARTO_DARK_MATTER_NO_LABELS_HIRES)\n",
    "show_map(\"CARTO Voyager\", tilesets.CARTO_VOYAGER_HIRES)\n",
    "show_map(\"CARTO Flat Blue\", tilesets.CARTO_FLAT_BLUE)\n",
    "show_map(\"CARTO Midnight commander\", tilesets.CARTO_MIDNIGHT_COMMANDER)\n",
    "show_map(\"CARTO Antique\", tilesets.CARTO_ANTIQUE_HIRES)"
   ]
  },
  {
   "attachments": {},
   "cell_type": "markdown",
   "metadata": {
    "datalore": {
     "hide_input_from_viewers": false,
     "hide_output_from_viewers": false,
     "node_id": "GrHLCtHm6giRFEN7Mos0nM",
     "report_properties": {
      "relativeY": 0,
      "rowId": "BO1iM3ktK99AYTZw5Gf4cn"
     },
     "type": "MD"
    }
   },
   "source": [
    "### NASA's Global Imagery Browse Services (GIBS)\n",
    "\n",
    "Imagery provided by services from NASA's Global Imagery Browse Services ([GIBS](https://earthdata.nasa.gov/eosdis/science-system-description/eosdis-components/gibs)), part of NASA's Earth Observing System Data and Information System ([EOSDIS](https://earthdata.nasa.gov)).\n",
    "\n",
    "[NASA's Global Imagery Browse Services (GIBS)](https://earthdata.nasa.gov/eosdis/science-system-description/eosdis-components/gibs).\n",
    "\n",
    "Global Imagery Browse Services (GIBS) - [API for Developers](https://wiki.earthdata.nasa.gov/display/GIBS/GIBS+API+for+Developers).\n",
    "\n",
    "Global Imagery Browse Services (GIBS) API - [Generic XYZ Tile Access](https://wiki.earthdata.nasa.gov/display/GIBS/GIBS+API+for+Developers#GIBSAPIforDevelopers-GenericXYZTileAccess).\n",
    "\n",
    "[GIBS Available Imagery Products](https://wiki.earthdata.nasa.gov/display/GIBS/GIBS+Available+Imagery+Products)."
   ]
  },
  {
   "cell_type": "code",
   "execution_count": 7,
   "metadata": {
    "datalore": {
     "hide_input_from_viewers": false,
     "hide_output_from_viewers": false,
     "node_id": "Wtx1zaf2AiK98MrKtmEaPX",
     "report_properties": {
      "relativeY": 0,
      "rowId": "qPFpkLNl6YLvSvu9F9dtqz"
     },
     "type": "CODE"
    },
    "execution": {
     "iopub.execute_input": "2024-09-27T18:22:54.528219Z",
     "iopub.status.busy": "2024-09-27T18:22:54.528044Z",
     "iopub.status.idle": "2024-09-27T18:22:54.531709Z",
     "shell.execute_reply": "2024-09-27T18:22:54.531460Z"
    }
   },
   "outputs": [
    {
     "data": {
      "text/html": [
       "   <div id=\"kJhfvI\"></div>\n",
       "   <script type=\"text/javascript\" data-lets-plot-script=\"plot\">\n",
       "       (function() {\n",
       "           var plotSpec={\n",
       "\"mapping\":{\n",
       "},\n",
       "\"data_meta\":{\n",
       "},\n",
       "\"ggsize\":{\n",
       "\"width\":500.0,\n",
       "\"height\":450.0\n",
       "},\n",
       "\"ggtitle\":{\n",
       "\"text\":\"NASA GIBS: CityLights 2012\"\n",
       "},\n",
       "\"kind\":\"plot\",\n",
       "\"scales\":[],\n",
       "\"layers\":[{\n",
       "\"geom\":\"livemap\",\n",
       "\"mapping\":{\n",
       "},\n",
       "\"data_meta\":{\n",
       "},\n",
       "\"location\":{\n",
       "\"type\":\"coordinates\",\n",
       "\"data\":[13.3,37.6]\n",
       "},\n",
       "\"zoom\":3.0,\n",
       "\"tiles\":{\n",
       "\"kind\":\"raster_zxy\",\n",
       "\"url\":\"https://gibs.earthdata.nasa.gov/wmts/epsg3857/best/VIIRS_CityLights_2012/default//GoogleMapsCompatible_Level8/{z}/{y}/{x}.jpg\",\n",
       "\"attribution\":\"<a href=\\\"https://lets-plot.org\\\">© Lets-Plot</a>, map data: <a href=\\\"https://earthdata.nasa.gov/eosdis/science-system-description/eosdis-components/gibs\\\">© NASA Global Imagery Browse Services (GIBS)</a>\",\n",
       "\"min_zoom\":1.0,\n",
       "\"max_zoom\":8.0\n",
       "},\n",
       "\"geocoding\":{\n",
       "\"url\":\"https://geo2.datalore.jetbrains.com/map_data/geocoding\"\n",
       "},\n",
       "\"data\":{\n",
       "}\n",
       "}],\n",
       "\"metainfo_list\":[]\n",
       "};\n",
       "           var plotContainer = document.getElementById(\"kJhfvI\");\n",
       "           window.letsPlotCall(function() {{\n",
       "               LetsPlot.buildPlotFromProcessedSpecs(plotSpec, -1, -1, plotContainer);\n",
       "           }});\n",
       "       })();\n",
       "   </script>"
      ]
     },
     "metadata": {},
     "output_type": "display_data"
    },
    {
     "data": {
      "text/html": [
       "   <div id=\"vccUGs\"></div>\n",
       "   <script type=\"text/javascript\" data-lets-plot-script=\"plot\">\n",
       "       (function() {\n",
       "           var plotSpec={\n",
       "\"mapping\":{\n",
       "},\n",
       "\"data_meta\":{\n",
       "},\n",
       "\"ggsize\":{\n",
       "\"width\":500.0,\n",
       "\"height\":450.0\n",
       "},\n",
       "\"ggtitle\":{\n",
       "\"text\":\"NASA GIBS: Greyscale Shaded Relief (30m)\"\n",
       "},\n",
       "\"kind\":\"plot\",\n",
       "\"scales\":[],\n",
       "\"layers\":[{\n",
       "\"geom\":\"livemap\",\n",
       "\"mapping\":{\n",
       "},\n",
       "\"data_meta\":{\n",
       "},\n",
       "\"location\":{\n",
       "\"type\":\"coordinates\",\n",
       "\"data\":[13.3,37.6]\n",
       "},\n",
       "\"zoom\":3.0,\n",
       "\"tiles\":{\n",
       "\"kind\":\"raster_zxy\",\n",
       "\"url\":\"https://gibs.earthdata.nasa.gov/wmts/epsg3857/best/ASTER_GDEM_Greyscale_Shaded_Relief/default//GoogleMapsCompatible_Level12/{z}/{y}/{x}.jpg\",\n",
       "\"attribution\":\"<a href=\\\"https://lets-plot.org\\\">© Lets-Plot</a>, map data: <a href=\\\"https://earthdata.nasa.gov/eosdis/science-system-description/eosdis-components/gibs\\\">© NASA Global Imagery Browse Services (GIBS)</a>\",\n",
       "\"min_zoom\":1.0,\n",
       "\"max_zoom\":12.0\n",
       "},\n",
       "\"geocoding\":{\n",
       "\"url\":\"https://geo2.datalore.jetbrains.com/map_data/geocoding\"\n",
       "},\n",
       "\"data\":{\n",
       "}\n",
       "}],\n",
       "\"metainfo_list\":[]\n",
       "};\n",
       "           var plotContainer = document.getElementById(\"vccUGs\");\n",
       "           window.letsPlotCall(function() {{\n",
       "               LetsPlot.buildPlotFromProcessedSpecs(plotSpec, -1, -1, plotContainer);\n",
       "           }});\n",
       "       })();\n",
       "   </script>"
      ]
     },
     "metadata": {},
     "output_type": "display_data"
    },
    {
     "data": {
      "text/html": [
       "   <div id=\"L24YmH\"></div>\n",
       "   <script type=\"text/javascript\" data-lets-plot-script=\"plot\">\n",
       "       (function() {\n",
       "           var plotSpec={\n",
       "\"mapping\":{\n",
       "},\n",
       "\"data_meta\":{\n",
       "},\n",
       "\"ggsize\":{\n",
       "\"width\":500.0,\n",
       "\"height\":450.0\n",
       "},\n",
       "\"ggtitle\":{\n",
       "\"text\":\"NASA GIBS: Color Shaded Relief (30m)\"\n",
       "},\n",
       "\"kind\":\"plot\",\n",
       "\"scales\":[],\n",
       "\"layers\":[{\n",
       "\"geom\":\"livemap\",\n",
       "\"mapping\":{\n",
       "},\n",
       "\"data_meta\":{\n",
       "},\n",
       "\"location\":{\n",
       "\"type\":\"coordinates\",\n",
       "\"data\":[13.3,37.6]\n",
       "},\n",
       "\"zoom\":3.0,\n",
       "\"tiles\":{\n",
       "\"kind\":\"raster_zxy\",\n",
       "\"url\":\"https://gibs.earthdata.nasa.gov/wmts/epsg3857/best/ASTER_GDEM_Color_Shaded_Relief/default//GoogleMapsCompatible_Level12/{z}/{y}/{x}.jpg\",\n",
       "\"attribution\":\"<a href=\\\"https://lets-plot.org\\\">© Lets-Plot</a>, map data: <a href=\\\"https://earthdata.nasa.gov/eosdis/science-system-description/eosdis-components/gibs\\\">© NASA Global Imagery Browse Services (GIBS)</a>\",\n",
       "\"min_zoom\":1.0,\n",
       "\"max_zoom\":12.0\n",
       "},\n",
       "\"geocoding\":{\n",
       "\"url\":\"https://geo2.datalore.jetbrains.com/map_data/geocoding\"\n",
       "},\n",
       "\"data\":{\n",
       "}\n",
       "}],\n",
       "\"metainfo_list\":[]\n",
       "};\n",
       "           var plotContainer = document.getElementById(\"L24YmH\");\n",
       "           window.letsPlotCall(function() {{\n",
       "               LetsPlot.buildPlotFromProcessedSpecs(plotSpec, -1, -1, plotContainer);\n",
       "           }});\n",
       "       })();\n",
       "   </script>"
      ]
     },
     "metadata": {},
     "output_type": "display_data"
    },
    {
     "data": {
      "text/html": [
       "   <div id=\"RMx3Xd\"></div>\n",
       "   <script type=\"text/javascript\" data-lets-plot-script=\"plot\">\n",
       "       (function() {\n",
       "           var plotSpec={\n",
       "\"mapping\":{\n",
       "},\n",
       "\"data_meta\":{\n",
       "},\n",
       "\"ggsize\":{\n",
       "\"width\":500.0,\n",
       "\"height\":450.0\n",
       "},\n",
       "\"ggtitle\":{\n",
       "\"text\":\"NASA GIBS: Terra TrueColor\"\n",
       "},\n",
       "\"kind\":\"plot\",\n",
       "\"scales\":[],\n",
       "\"layers\":[{\n",
       "\"geom\":\"livemap\",\n",
       "\"mapping\":{\n",
       "},\n",
       "\"data_meta\":{\n",
       "},\n",
       "\"location\":{\n",
       "\"type\":\"coordinates\",\n",
       "\"data\":[13.3,37.6]\n",
       "},\n",
       "\"zoom\":3.0,\n",
       "\"tiles\":{\n",
       "\"kind\":\"raster_zxy\",\n",
       "\"url\":\"https://gibs.earthdata.nasa.gov/wmts/epsg3857/best/MODIS_Terra_CorrectedReflectance_TrueColor/default/2015-06-07/GoogleMapsCompatible_Level9/{z}/{y}/{x}.jpg\",\n",
       "\"attribution\":\"<a href=\\\"https://lets-plot.org\\\">© Lets-Plot</a>, map data: <a href=\\\"https://earthdata.nasa.gov/eosdis/science-system-description/eosdis-components/gibs\\\">© NASA Global Imagery Browse Services (GIBS)</a>\",\n",
       "\"min_zoom\":1.0,\n",
       "\"max_zoom\":9.0\n",
       "},\n",
       "\"geocoding\":{\n",
       "\"url\":\"https://geo2.datalore.jetbrains.com/map_data/geocoding\"\n",
       "},\n",
       "\"data\":{\n",
       "}\n",
       "}],\n",
       "\"metainfo_list\":[]\n",
       "};\n",
       "           var plotContainer = document.getElementById(\"RMx3Xd\");\n",
       "           window.letsPlotCall(function() {{\n",
       "               LetsPlot.buildPlotFromProcessedSpecs(plotSpec, -1, -1, plotContainer);\n",
       "           }});\n",
       "       })();\n",
       "   </script>"
      ]
     },
     "metadata": {},
     "output_type": "display_data"
    }
   ],
   "source": [
    "show_map(\"NASA GIBS: CityLights 2012\", tilesets.NASA_CITYLIGHTS_2012)\n",
    "show_map(\"NASA GIBS: Greyscale Shaded Relief (30m)\", tilesets.NASA_GREYSCALE_SHADED_RELIEF_30M)\n",
    "show_map(\"NASA GIBS: Color Shaded Relief (30m)\", tilesets.NASA_COLOR_SHADED_RELIEF_30M)\n",
    "show_map(\"NASA GIBS: Terra TrueColor\", tilesets.NASA_TERRA_TRUECOLOR)"
   ]
  },
  {
   "attachments": {},
   "cell_type": "markdown",
   "metadata": {
    "datalore": {
     "hide_input_from_viewers": false,
     "hide_output_from_viewers": false,
     "node_id": "1XNQqINdwefb4AzKwaPGha",
     "report_properties": {
      "relativeY": 0,
      "rowId": "y7kV58cAHMubvCrEpGopWo"
     },
     "type": "MD"
    }
   },
   "source": [
    "## Configuring raster tiles manually\n",
    "\n",
    "In addition to pre-configured tilesets you can configure and use almost any other raster tilesets provided in `ZXY` format.\n",
    "\n",
    "You can do it with the help of the `LetsPlot.maptiles_zxy()` function.\n",
    "\n",
    "The following code will configure 'NASA, CityLights 2012' tiles:"
   ]
  },
  {
   "cell_type": "code",
   "execution_count": 8,
   "metadata": {
    "datalore": {
     "hide_input_from_viewers": false,
     "hide_output_from_viewers": false,
     "node_id": "h9YonqBJbCXI3GRIK8bKxO",
     "report_properties": {
      "relativeY": 0,
      "rowId": "3FO1ZyxfLelSARPRcLzb59"
     },
     "type": "CODE"
    },
    "execution": {
     "iopub.execute_input": "2024-09-27T18:22:54.532884Z",
     "iopub.status.busy": "2024-09-27T18:22:54.532799Z",
     "iopub.status.idle": "2024-09-27T18:22:54.535103Z",
     "shell.execute_reply": "2024-09-27T18:22:54.534896Z"
    }
   },
   "outputs": [
    {
     "data": {
      "text/html": [
       "   <div id=\"bEw3SD\"></div>\n",
       "   <script type=\"text/javascript\" data-lets-plot-script=\"plot\">\n",
       "       (function() {\n",
       "           var plotSpec={\n",
       "\"mapping\":{\n",
       "},\n",
       "\"data_meta\":{\n",
       "},\n",
       "\"ggsize\":{\n",
       "\"width\":500.0,\n",
       "\"height\":450.0\n",
       "},\n",
       "\"ggtitle\":{\n",
       "\"text\":\"NASA, CityLights 2012\"\n",
       "},\n",
       "\"kind\":\"plot\",\n",
       "\"scales\":[],\n",
       "\"layers\":[{\n",
       "\"geom\":\"livemap\",\n",
       "\"mapping\":{\n",
       "},\n",
       "\"data_meta\":{\n",
       "},\n",
       "\"location\":{\n",
       "\"type\":\"coordinates\",\n",
       "\"data\":[13.3,37.6]\n",
       "},\n",
       "\"zoom\":3.0,\n",
       "\"tiles\":{\n",
       "\"kind\":\"raster_zxy\",\n",
       "\"url\":\"https://gibs.earthdata.nasa.gov/wmts/epsg3857/best/VIIRS_CityLights_2012/default/GoogleMapsCompatible_Level8/{z}/{y}/{x}.jpg\",\n",
       "\"attribution\":\"<a href=\\\"https://lets-plot.org\\\">© Lets-Plot</a>, <a href=\\\"https://earthdata.nasa.gov/eosdis/science-system-description/eosdis-components/gibs\\\">© NASA Global Imagery Browse Services (GIBS)</a>\",\n",
       "\"max_zoom\":8.0\n",
       "},\n",
       "\"geocoding\":{\n",
       "\"url\":\"https://geo2.datalore.jetbrains.com/map_data/geocoding\"\n",
       "},\n",
       "\"data\":{\n",
       "}\n",
       "}],\n",
       "\"metainfo_list\":[]\n",
       "};\n",
       "           var plotContainer = document.getElementById(\"bEw3SD\");\n",
       "           window.letsPlotCall(function() {{\n",
       "               LetsPlot.buildPlotFromProcessedSpecs(plotSpec, -1, -1, plotContainer);\n",
       "           }});\n",
       "       })();\n",
       "   </script>"
      ]
     },
     "metadata": {},
     "output_type": "display_data"
    }
   ],
   "source": [
    "settings = dict(\n",
    "    url = \"https://gibs.earthdata.nasa.gov/wmts/epsg3857/best/VIIRS_CityLights_2012/default/GoogleMapsCompatible_Level8/{z}/{y}/{x}.jpg\",\n",
    "    attribution = '<a href=\"https://earthdata.nasa.gov/eosdis/science-system-description/eosdis-components/gibs\">© NASA Global Imagery Browse Services (GIBS)</a>',\n",
    "    max_zoom=8\n",
    ")\n",
    "\n",
    "show_map(\"NASA, CityLights 2012\", maptiles_zxy(**settings))"
   ]
  }
 ],
 "metadata": {
  "datalore": {
   "base_environment": "default",
   "computation_mode": "JUPYTER",
   "package_manager": "pip",
   "packages": [
    {
     "name": "lets-plot",
     "source": "PIP",
     "version": "4.2.0rc1"
    }
   ],
   "report_link": "https://datalore.jetbrains.com/report/HZqq77cegYd.E7get_WnChZ/05NSsbcsOYZMBN9n4JfKzL",
   "report_row_ids": [
    "WuGli6fUjtCFlPZTcvQXRu",
    "qHZJJbHcOGK6ngxYSiGpbh",
    "mvr8hhrWX5nM3hKCMRyCes",
    "31jU6aEYPN3pymWfrQqEaT",
    "daoRsyjO2tgthul6VI9xr1",
    "mzLkX4aSTaLMTyF9Tp976b",
    "fzYYLMnxwRjb3RP8fbWBbS",
    "L0q0yUdBPE3s7tj6bEHKvf",
    "FtOozoMQ2jnlZKuHSJWrvz",
    "0SN0YoI8mpy8ODRDXchvlM",
    "EejYyeiSgQGj69y7oPENzr",
    "oZDPIGfLtZyrF8wtKuLjEU",
    "K1uAJHxhxNH8X9EZrMbYjy",
    "cA0rvDgf3DaMubBubqrzqi",
    "BO1iM3ktK99AYTZw5Gf4cn",
    "qPFpkLNl6YLvSvu9F9dtqz",
    "y7kV58cAHMubvCrEpGopWo",
    "3FO1ZyxfLelSARPRcLzb59"
   ],
   "version": 3
  },
  "kernelspec": {
   "display_name": "Python 3 (ipykernel)",
   "language": "python",
   "name": "python3"
  },
  "language_info": {
   "codemirror_mode": {
    "name": "ipython",
    "version": 3
   },
   "file_extension": ".py",
   "mimetype": "text/x-python",
   "name": "python",
   "nbconvert_exporter": "python",
   "pygments_lexer": "ipython3",
   "version": "3.10.15"
  }
 },
 "nbformat": 4,
 "nbformat_minor": 4
}
