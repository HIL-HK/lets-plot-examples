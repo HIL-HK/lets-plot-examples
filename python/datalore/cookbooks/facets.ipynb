{
 "cells": [
  {
   "attachments": {},
   "cell_type": "markdown",
   "metadata": {
    "datalore": {
     "hide_input_from_viewers": false,
     "hide_output_from_viewers": false,
     "node_id": "okxNokgK47Fea8bE3Ok83K",
     "report_properties": {
      "relativeY": 0,
      "rowId": "VRrPFHbDolUq7aQCeW7iZC"
     },
     "type": "MD"
    }
   },
   "source": [
    "# Multipanel Plots With Facets\n",
    "\n",
    "If you want to see more aspects of your data and it is not practical to use the regular aesthetics approach, you can add one or more new dimensions to your plot using faceting."
   ]
  },
  {
   "cell_type": "code",
   "execution_count": 1,
   "metadata": {
    "datalore": {
     "hide_input_from_viewers": false,
     "hide_output_from_viewers": false,
     "node_id": "eb9bq8FGgokbxYmgZoSuf6",
     "report_properties": {
      "relativeY": 0,
      "rowId": "JTYzESbQ9V6pP8EUxM7Q0N"
     },
     "type": "CODE"
    },
    "execution": {
     "iopub.execute_input": "2024-09-27T18:24:10.586435Z",
     "iopub.status.busy": "2024-09-27T18:24:10.586140Z",
     "iopub.status.idle": "2024-09-27T18:24:11.011420Z",
     "shell.execute_reply": "2024-09-27T18:24:11.011077Z"
    }
   },
   "outputs": [],
   "source": [
    "import pandas as pd\n",
    "\n",
    "from lets_plot import *"
   ]
  },
  {
   "cell_type": "code",
   "execution_count": 2,
   "metadata": {
    "datalore": {
     "hide_input_from_viewers": false,
     "hide_output_from_viewers": false,
     "node_id": "kFgYpqNEOrcAFtDxIuDfVu",
     "report_properties": {
      "relativeY": 0,
      "rowId": "wYGfNvjtVjc9TFCqX5pqnt"
     },
     "type": "CODE"
    },
    "execution": {
     "iopub.execute_input": "2024-09-27T18:24:11.012794Z",
     "iopub.status.busy": "2024-09-27T18:24:11.012690Z",
     "iopub.status.idle": "2024-09-27T18:24:11.015021Z",
     "shell.execute_reply": "2024-09-27T18:24:11.014804Z"
    }
   },
   "outputs": [
    {
     "data": {
      "text/html": [
       "\n",
       "            <div id=\"7gqU5j\"></div>\n",
       "            <script type=\"text/javascript\" data-lets-plot-script=\"library\">\n",
       "                if(!window.letsPlotCallQueue) {\n",
       "                    window.letsPlotCallQueue = [];\n",
       "                }; \n",
       "                window.letsPlotCall = function(f) {\n",
       "                    window.letsPlotCallQueue.push(f);\n",
       "                };\n",
       "                (function() {\n",
       "                    var script = document.createElement(\"script\");\n",
       "                    script.type = \"text/javascript\";\n",
       "                    script.src = \"https://cdn.jsdelivr.net/gh/JetBrains/lets-plot@v4.4.1/js-package/distr/lets-plot.min.js\";\n",
       "                    script.onload = function() {\n",
       "                        window.letsPlotCall = function(f) {f();};\n",
       "                        window.letsPlotCallQueue.forEach(function(f) {f();});\n",
       "                        window.letsPlotCallQueue = [];\n",
       "                        \n",
       "                    };\n",
       "                    script.onerror = function(event) {\n",
       "                        window.letsPlotCall = function(f) {};    // noop\n",
       "                        window.letsPlotCallQueue = [];\n",
       "                        var div = document.createElement(\"div\");\n",
       "                        div.style.color = 'darkred';\n",
       "                        div.textContent = 'Error loading Lets-Plot JS';\n",
       "                        document.getElementById(\"7gqU5j\").appendChild(div);\n",
       "                    };\n",
       "                    var e = document.getElementById(\"7gqU5j\");\n",
       "                    e.appendChild(script);\n",
       "                })()\n",
       "            </script>\n",
       "            "
      ]
     },
     "metadata": {},
     "output_type": "display_data"
    }
   ],
   "source": [
    "LetsPlot.setup_html()"
   ]
  },
  {
   "attachments": {},
   "cell_type": "markdown",
   "metadata": {
    "datalore": {
     "hide_input_from_viewers": false,
     "hide_output_from_viewers": false,
     "node_id": "tqBTJPfaRkfHh4O1YOHurN",
     "report_properties": {
      "relativeY": 0,
      "rowId": "IckO6v4UqSJiTsKJBIixkL"
     },
     "type": "MD"
    }
   },
   "source": [
    "## Creating Multipanel Plots Using Facets\n",
    "\n",
    "This approach allows you to split up your data by one or more variables and plot the subsets of data together."
   ]
  },
  {
   "cell_type": "code",
   "execution_count": 3,
   "metadata": {
    "datalore": {
     "hide_input_from_viewers": false,
     "hide_output_from_viewers": false,
     "node_id": "GkFcOHMrUE1aQ7RJEoCR4k",
     "report_properties": {
      "relativeY": 0,
      "rowId": "Hdf03lpB6svebq49ReZKSi"
     },
     "type": "CODE"
    },
    "execution": {
     "iopub.execute_input": "2024-09-27T18:24:11.030048Z",
     "iopub.status.busy": "2024-09-27T18:24:11.029947Z",
     "iopub.status.idle": "2024-09-27T18:24:11.238108Z",
     "shell.execute_reply": "2024-09-27T18:24:11.237614Z"
    }
   },
   "outputs": [
    {
     "name": "stdout",
     "output_type": "stream",
     "text": [
      "(234, 12)\n"
     ]
    },
    {
     "data": {
      "text/html": [
       "<div>\n",
       "<style scoped>\n",
       "    .dataframe tbody tr th:only-of-type {\n",
       "        vertical-align: middle;\n",
       "    }\n",
       "\n",
       "    .dataframe tbody tr th {\n",
       "        vertical-align: top;\n",
       "    }\n",
       "\n",
       "    .dataframe thead th {\n",
       "        text-align: right;\n",
       "    }\n",
       "</style>\n",
       "<table border=\"1\" class=\"dataframe\">\n",
       "  <thead>\n",
       "    <tr style=\"text-align: right;\">\n",
       "      <th></th>\n",
       "      <th>Unnamed: 0</th>\n",
       "      <th>manufacturer</th>\n",
       "      <th>model</th>\n",
       "      <th>displ</th>\n",
       "      <th>year</th>\n",
       "      <th>cyl</th>\n",
       "      <th>trans</th>\n",
       "      <th>drv</th>\n",
       "      <th>cty</th>\n",
       "      <th>hwy</th>\n",
       "      <th>fl</th>\n",
       "      <th>class</th>\n",
       "    </tr>\n",
       "  </thead>\n",
       "  <tbody>\n",
       "    <tr>\n",
       "      <th>0</th>\n",
       "      <td>1</td>\n",
       "      <td>audi</td>\n",
       "      <td>a4</td>\n",
       "      <td>1.8</td>\n",
       "      <td>1999</td>\n",
       "      <td>4</td>\n",
       "      <td>auto(l5)</td>\n",
       "      <td>f</td>\n",
       "      <td>18</td>\n",
       "      <td>29</td>\n",
       "      <td>p</td>\n",
       "      <td>compact</td>\n",
       "    </tr>\n",
       "    <tr>\n",
       "      <th>1</th>\n",
       "      <td>2</td>\n",
       "      <td>audi</td>\n",
       "      <td>a4</td>\n",
       "      <td>1.8</td>\n",
       "      <td>1999</td>\n",
       "      <td>4</td>\n",
       "      <td>manual(m5)</td>\n",
       "      <td>f</td>\n",
       "      <td>21</td>\n",
       "      <td>29</td>\n",
       "      <td>p</td>\n",
       "      <td>compact</td>\n",
       "    </tr>\n",
       "    <tr>\n",
       "      <th>2</th>\n",
       "      <td>3</td>\n",
       "      <td>audi</td>\n",
       "      <td>a4</td>\n",
       "      <td>2.0</td>\n",
       "      <td>2008</td>\n",
       "      <td>4</td>\n",
       "      <td>manual(m6)</td>\n",
       "      <td>f</td>\n",
       "      <td>20</td>\n",
       "      <td>31</td>\n",
       "      <td>p</td>\n",
       "      <td>compact</td>\n",
       "    </tr>\n",
       "    <tr>\n",
       "      <th>3</th>\n",
       "      <td>4</td>\n",
       "      <td>audi</td>\n",
       "      <td>a4</td>\n",
       "      <td>2.0</td>\n",
       "      <td>2008</td>\n",
       "      <td>4</td>\n",
       "      <td>auto(av)</td>\n",
       "      <td>f</td>\n",
       "      <td>21</td>\n",
       "      <td>30</td>\n",
       "      <td>p</td>\n",
       "      <td>compact</td>\n",
       "    </tr>\n",
       "    <tr>\n",
       "      <th>4</th>\n",
       "      <td>5</td>\n",
       "      <td>audi</td>\n",
       "      <td>a4</td>\n",
       "      <td>2.8</td>\n",
       "      <td>1999</td>\n",
       "      <td>6</td>\n",
       "      <td>auto(l5)</td>\n",
       "      <td>f</td>\n",
       "      <td>16</td>\n",
       "      <td>26</td>\n",
       "      <td>p</td>\n",
       "      <td>compact</td>\n",
       "    </tr>\n",
       "  </tbody>\n",
       "</table>\n",
       "</div>"
      ],
      "text/plain": [
       "   Unnamed: 0 manufacturer model  displ  year  cyl       trans drv  cty  hwy  \\\n",
       "0           1         audi    a4    1.8  1999    4    auto(l5)   f   18   29   \n",
       "1           2         audi    a4    1.8  1999    4  manual(m5)   f   21   29   \n",
       "2           3         audi    a4    2.0  2008    4  manual(m6)   f   20   31   \n",
       "3           4         audi    a4    2.0  2008    4    auto(av)   f   21   30   \n",
       "4           5         audi    a4    2.8  1999    6    auto(l5)   f   16   26   \n",
       "\n",
       "  fl    class  \n",
       "0  p  compact  \n",
       "1  p  compact  \n",
       "2  p  compact  \n",
       "3  p  compact  \n",
       "4  p  compact  "
      ]
     },
     "execution_count": 3,
     "metadata": {},
     "output_type": "execute_result"
    }
   ],
   "source": [
    "df = pd.read_csv(\"https://raw.githubusercontent.com/JetBrains/lets-plot-docs/master/data/mpg.csv\")\n",
    "print(df.shape)\n",
    "df.head()"
   ]
  },
  {
   "attachments": {},
   "cell_type": "markdown",
   "metadata": {
    "datalore": {
     "hide_input_from_viewers": false,
     "hide_output_from_viewers": false,
     "node_id": "UPge1Z8vLtRwLherFt3I0Q",
     "report_properties": {
      "relativeY": 0,
      "rowId": "xNX9nnYAKVLpDwIvxO9IlK"
     },
     "type": "MD"
    }
   },
   "source": [
    "### One Plot\n",
    "\n",
    "Let's create a scatter plot to show how `hwy` is related to `cty` and use the `color` aesthetic to visualize the car's class."
   ]
  },
  {
   "cell_type": "code",
   "execution_count": 4,
   "metadata": {
    "datalore": {
     "hide_input_from_viewers": false,
     "hide_output_from_viewers": false,
     "node_id": "b2qirVmWNUfwH3znZjWRPc",
     "report_properties": {
      "relativeY": 0,
      "rowId": "EgGgxlHrCAxR7eTrS0NGXF"
     },
     "type": "CODE"
    },
    "execution": {
     "iopub.execute_input": "2024-09-27T18:24:11.240478Z",
     "iopub.status.busy": "2024-09-27T18:24:11.240074Z",
     "iopub.status.idle": "2024-09-27T18:24:11.285217Z",
     "shell.execute_reply": "2024-09-27T18:24:11.284955Z"
    }
   },
   "outputs": [
    {
     "data": {
      "text/html": [
       "   <div id=\"cwnptf\"></div>\n",
       "   <script type=\"text/javascript\" data-lets-plot-script=\"plot\">\n",
       "       (function() {\n",
       "           var plotSpec={\n",
       "\"data\":{\n",
       "\"cty\":[18.0,21.0,20.0,21.0,16.0,18.0,18.0,18.0,16.0,20.0,19.0,15.0,17.0,17.0,15.0,15.0,17.0,16.0,14.0,11.0,14.0,13.0,12.0,16.0,15.0,16.0,15.0,15.0,14.0,11.0,11.0,14.0,19.0,22.0,18.0,18.0,17.0,18.0,17.0,16.0,16.0,17.0,17.0,11.0,15.0,15.0,16.0,16.0,15.0,14.0,13.0,14.0,14.0,14.0,9.0,11.0,11.0,13.0,13.0,9.0,13.0,11.0,13.0,11.0,12.0,9.0,13.0,13.0,12.0,9.0,11.0,11.0,13.0,11.0,11.0,11.0,12.0,14.0,15.0,14.0,13.0,13.0,13.0,14.0,14.0,13.0,13.0,13.0,11.0,13.0,18.0,18.0,17.0,16.0,15.0,15.0,15.0,15.0,14.0,28.0,24.0,25.0,23.0,24.0,26.0,25.0,24.0,21.0,18.0,18.0,21.0,21.0,18.0,18.0,19.0,19.0,19.0,20.0,20.0,17.0,16.0,17.0,17.0,15.0,15.0,14.0,9.0,14.0,13.0,11.0,11.0,12.0,12.0,11.0,11.0,11.0,12.0,14.0,13.0,13.0,13.0,21.0,19.0,23.0,23.0,19.0,19.0,18.0,19.0,19.0,14.0,15.0,14.0,12.0,18.0,16.0,17.0,18.0,16.0,18.0,18.0,20.0,19.0,20.0,18.0,21.0,19.0,19.0,19.0,20.0,20.0,19.0,20.0,15.0,16.0,15.0,15.0,16.0,14.0,21.0,21.0,21.0,21.0,18.0,18.0,19.0,21.0,21.0,21.0,22.0,18.0,18.0,18.0,24.0,24.0,26.0,28.0,26.0,11.0,13.0,15.0,16.0,17.0,15.0,15.0,15.0,16.0,21.0,19.0,21.0,22.0,17.0,33.0,21.0,19.0,22.0,21.0,21.0,21.0,16.0,17.0,35.0,29.0,21.0,19.0,20.0,20.0,21.0,18.0,19.0,21.0,16.0,18.0,17.0],\n",
       "\"hwy\":[29.0,29.0,31.0,30.0,26.0,26.0,27.0,26.0,25.0,28.0,27.0,25.0,25.0,25.0,25.0,24.0,25.0,23.0,20.0,15.0,20.0,17.0,17.0,26.0,23.0,26.0,25.0,24.0,19.0,14.0,15.0,17.0,27.0,30.0,26.0,29.0,26.0,24.0,24.0,22.0,22.0,24.0,24.0,17.0,22.0,21.0,23.0,23.0,19.0,18.0,17.0,17.0,19.0,19.0,12.0,17.0,15.0,17.0,17.0,12.0,17.0,16.0,18.0,15.0,16.0,12.0,17.0,17.0,16.0,12.0,15.0,16.0,17.0,15.0,17.0,17.0,18.0,17.0,19.0,17.0,19.0,19.0,17.0,17.0,17.0,16.0,16.0,17.0,15.0,17.0,26.0,25.0,26.0,24.0,21.0,22.0,23.0,22.0,20.0,33.0,32.0,32.0,29.0,32.0,34.0,36.0,36.0,29.0,26.0,27.0,30.0,31.0,26.0,26.0,28.0,26.0,29.0,28.0,27.0,24.0,24.0,24.0,22.0,19.0,20.0,17.0,12.0,19.0,18.0,14.0,15.0,18.0,18.0,15.0,17.0,16.0,18.0,17.0,19.0,19.0,17.0,29.0,27.0,31.0,32.0,27.0,26.0,26.0,25.0,25.0,17.0,17.0,20.0,18.0,26.0,26.0,27.0,28.0,25.0,25.0,24.0,27.0,25.0,26.0,23.0,26.0,26.0,26.0,26.0,25.0,27.0,25.0,27.0,20.0,20.0,19.0,17.0,20.0,17.0,29.0,27.0,31.0,31.0,26.0,26.0,28.0,27.0,29.0,31.0,31.0,26.0,26.0,27.0,30.0,33.0,35.0,37.0,35.0,15.0,18.0,20.0,20.0,22.0,17.0,19.0,18.0,20.0,29.0,26.0,29.0,29.0,24.0,44.0,29.0,26.0,29.0,29.0,29.0,29.0,23.0,24.0,44.0,41.0,29.0,26.0,28.0,29.0,29.0,29.0,28.0,29.0,26.0,26.0,26.0],\n",
       "\"class\":[\"compact\",\"compact\",\"compact\",\"compact\",\"compact\",\"compact\",\"compact\",\"compact\",\"compact\",\"compact\",\"compact\",\"compact\",\"compact\",\"compact\",\"compact\",\"midsize\",\"midsize\",\"midsize\",\"suv\",\"suv\",\"suv\",\"suv\",\"suv\",\"2seater\",\"2seater\",\"2seater\",\"2seater\",\"2seater\",\"suv\",\"suv\",\"suv\",\"suv\",\"midsize\",\"midsize\",\"midsize\",\"midsize\",\"midsize\",\"minivan\",\"minivan\",\"minivan\",\"minivan\",\"minivan\",\"minivan\",\"minivan\",\"minivan\",\"minivan\",\"minivan\",\"minivan\",\"pickup\",\"pickup\",\"pickup\",\"pickup\",\"pickup\",\"pickup\",\"pickup\",\"pickup\",\"pickup\",\"suv\",\"suv\",\"suv\",\"suv\",\"suv\",\"suv\",\"suv\",\"pickup\",\"pickup\",\"pickup\",\"pickup\",\"pickup\",\"pickup\",\"pickup\",\"pickup\",\"pickup\",\"pickup\",\"suv\",\"suv\",\"suv\",\"suv\",\"suv\",\"suv\",\"suv\",\"suv\",\"suv\",\"pickup\",\"pickup\",\"pickup\",\"pickup\",\"pickup\",\"pickup\",\"pickup\",\"subcompact\",\"subcompact\",\"subcompact\",\"subcompact\",\"subcompact\",\"subcompact\",\"subcompact\",\"subcompact\",\"subcompact\",\"subcompact\",\"subcompact\",\"subcompact\",\"subcompact\",\"subcompact\",\"subcompact\",\"subcompact\",\"subcompact\",\"subcompact\",\"midsize\",\"midsize\",\"midsize\",\"midsize\",\"midsize\",\"midsize\",\"midsize\",\"subcompact\",\"subcompact\",\"subcompact\",\"subcompact\",\"subcompact\",\"subcompact\",\"subcompact\",\"suv\",\"suv\",\"suv\",\"suv\",\"suv\",\"suv\",\"suv\",\"suv\",\"suv\",\"suv\",\"suv\",\"suv\",\"suv\",\"suv\",\"suv\",\"suv\",\"suv\",\"suv\",\"suv\",\"compact\",\"compact\",\"midsize\",\"midsize\",\"midsize\",\"midsize\",\"midsize\",\"midsize\",\"midsize\",\"suv\",\"suv\",\"suv\",\"suv\",\"midsize\",\"midsize\",\"midsize\",\"midsize\",\"midsize\",\"suv\",\"suv\",\"suv\",\"suv\",\"suv\",\"suv\",\"subcompact\",\"subcompact\",\"subcompact\",\"subcompact\",\"compact\",\"compact\",\"compact\",\"compact\",\"suv\",\"suv\",\"suv\",\"suv\",\"suv\",\"suv\",\"midsize\",\"midsize\",\"midsize\",\"midsize\",\"midsize\",\"midsize\",\"midsize\",\"compact\",\"compact\",\"compact\",\"compact\",\"compact\",\"compact\",\"compact\",\"compact\",\"compact\",\"compact\",\"compact\",\"compact\",\"suv\",\"suv\",\"pickup\",\"pickup\",\"pickup\",\"pickup\",\"pickup\",\"pickup\",\"pickup\",\"compact\",\"compact\",\"compact\",\"compact\",\"compact\",\"compact\",\"compact\",\"compact\",\"compact\",\"compact\",\"compact\",\"compact\",\"compact\",\"compact\",\"subcompact\",\"subcompact\",\"subcompact\",\"subcompact\",\"subcompact\",\"subcompact\",\"midsize\",\"midsize\",\"midsize\",\"midsize\",\"midsize\",\"midsize\",\"midsize\"]\n",
       "},\n",
       "\"mapping\":{\n",
       "\"x\":\"cty\",\n",
       "\"y\":\"hwy\"\n",
       "},\n",
       "\"data_meta\":{\n",
       "\"series_annotations\":[{\n",
       "\"type\":\"int\",\n",
       "\"column\":\"Unnamed: 0\"\n",
       "},{\n",
       "\"type\":\"str\",\n",
       "\"column\":\"manufacturer\"\n",
       "},{\n",
       "\"type\":\"str\",\n",
       "\"column\":\"model\"\n",
       "},{\n",
       "\"type\":\"float\",\n",
       "\"column\":\"displ\"\n",
       "},{\n",
       "\"type\":\"int\",\n",
       "\"column\":\"year\"\n",
       "},{\n",
       "\"type\":\"int\",\n",
       "\"column\":\"cyl\"\n",
       "},{\n",
       "\"type\":\"str\",\n",
       "\"column\":\"trans\"\n",
       "},{\n",
       "\"type\":\"str\",\n",
       "\"column\":\"drv\"\n",
       "},{\n",
       "\"type\":\"int\",\n",
       "\"column\":\"cty\"\n",
       "},{\n",
       "\"type\":\"int\",\n",
       "\"column\":\"hwy\"\n",
       "},{\n",
       "\"type\":\"str\",\n",
       "\"column\":\"fl\"\n",
       "},{\n",
       "\"type\":\"str\",\n",
       "\"column\":\"class\"\n",
       "}]\n",
       "},\n",
       "\"theme\":{\n",
       "\"name\":\"light\"\n",
       "},\n",
       "\"ggsize\":{\n",
       "\"width\":700.0,\n",
       "\"height\":400.0\n",
       "},\n",
       "\"kind\":\"plot\",\n",
       "\"scales\":[],\n",
       "\"layers\":[{\n",
       "\"geom\":\"point\",\n",
       "\"mapping\":{\n",
       "\"color\":\"class\"\n",
       "},\n",
       "\"data_meta\":{\n",
       "},\n",
       "\"shape\":21.0,\n",
       "\"data\":{\n",
       "}\n",
       "}],\n",
       "\"metainfo_list\":[]\n",
       "};\n",
       "           var plotContainer = document.getElementById(\"cwnptf\");\n",
       "           window.letsPlotCall(function() {{\n",
       "               LetsPlot.buildPlotFromProcessedSpecs(plotSpec, -1, -1, plotContainer);\n",
       "           }});\n",
       "       })();\n",
       "   </script>"
      ],
      "text/plain": [
       "<lets_plot.plot.core.PlotSpec at 0x1237d9810>"
      ]
     },
     "execution_count": 4,
     "metadata": {},
     "output_type": "execute_result"
    }
   ],
   "source": [
    "p = ggplot(df, aes(x=\"cty\", y=\"hwy\")) + \\\n",
    "    geom_point(aes(color=\"class\"), shape=21) + \\\n",
    "    theme_light()\n",
    "\n",
    "p + ggsize(700, 400)"
   ]
  },
  {
   "attachments": {},
   "cell_type": "markdown",
   "metadata": {
    "datalore": {
     "hide_input_from_viewers": false,
     "hide_output_from_viewers": false,
     "node_id": "F2EUsh0DqEmWLT0zBwfa46",
     "report_properties": {
      "relativeY": 0,
      "rowId": "2JA8mwiJcSyx0BTX2LbCKk"
     },
     "type": "MD"
    }
   },
   "source": [
    "### More Dimensions\n",
    "\n",
    "There are two functions for faceting: `facet_grid()` and `facet_wrap()`.\n",
    "\n",
    "The first one creates a 2D matrix of plot panels and the second creates a one dimensional strip of plot panels."
   ]
  },
  {
   "attachments": {},
   "cell_type": "markdown",
   "metadata": {
    "datalore": {
     "hide_input_from_viewers": false,
     "hide_output_from_viewers": false,
     "node_id": "weE9CcSnlPVRpOEuI9ADh4",
     "report_properties": {
      "relativeY": 0,
      "rowId": "1l7jbyHIE0eV1mNj7BDOqo"
     },
     "type": "MD"
    }
   },
   "source": [
    "#### facet_grid()\n",
    "\n",
    "The data can be split up by one or two variables that vary on the X and/or Y direction with `facet_grid()`."
   ]
  },
  {
   "attachments": {},
   "cell_type": "markdown",
   "metadata": {
    "datalore": {
     "hide_input_from_viewers": false,
     "hide_output_from_viewers": false,
     "node_id": "fWXvMTcUBWtI5yW3kzb19m",
     "report_properties": {
      "relativeY": 0,
      "rowId": "UcBttlOybf5uj2Qz5UWanS"
     },
     "type": "MD"
    }
   },
   "source": [
    "**One Facet**\n",
    "\n",
    "Let's split up the data by `cyl`."
   ]
  },
  {
   "cell_type": "code",
   "execution_count": 5,
   "metadata": {
    "datalore": {
     "hide_input_from_viewers": false,
     "hide_output_from_viewers": false,
     "node_id": "ZCXhJeuyHLhaWBQBQb2L1W",
     "report_properties": {
      "relativeY": 0,
      "rowId": "m8aiEzy8DWK59c0iOIGB5y"
     },
     "type": "CODE"
    },
    "execution": {
     "iopub.execute_input": "2024-09-27T18:24:11.286630Z",
     "iopub.status.busy": "2024-09-27T18:24:11.286538Z",
     "iopub.status.idle": "2024-09-27T18:24:11.291406Z",
     "shell.execute_reply": "2024-09-27T18:24:11.291178Z"
    }
   },
   "outputs": [
    {
     "data": {
      "text/html": [
       "   <div id=\"smNomN\"></div>\n",
       "   <script type=\"text/javascript\" data-lets-plot-script=\"plot\">\n",
       "       (function() {\n",
       "           var plotSpec={\n",
       "\"data\":{\n",
       "\"cyl\":[4.0,4.0,4.0,4.0,6.0,6.0,6.0,4.0,4.0,4.0,4.0,6.0,6.0,6.0,6.0,6.0,6.0,8.0,8.0,8.0,8.0,8.0,8.0,8.0,8.0,8.0,8.0,8.0,8.0,8.0,8.0,8.0,4.0,4.0,6.0,6.0,6.0,4.0,6.0,6.0,6.0,6.0,6.0,6.0,6.0,6.0,6.0,6.0,6.0,6.0,6.0,6.0,8.0,8.0,8.0,8.0,8.0,6.0,8.0,8.0,8.0,8.0,8.0,8.0,8.0,8.0,8.0,8.0,8.0,8.0,8.0,8.0,8.0,8.0,8.0,8.0,8.0,6.0,6.0,6.0,6.0,8.0,8.0,6.0,6.0,8.0,8.0,8.0,8.0,8.0,6.0,6.0,6.0,6.0,8.0,8.0,8.0,8.0,8.0,4.0,4.0,4.0,4.0,4.0,4.0,4.0,4.0,4.0,4.0,4.0,4.0,4.0,6.0,6.0,6.0,4.0,4.0,4.0,4.0,6.0,6.0,6.0,6.0,6.0,6.0,8.0,8.0,8.0,8.0,8.0,8.0,8.0,8.0,8.0,8.0,8.0,8.0,6.0,6.0,8.0,8.0,4.0,4.0,4.0,4.0,6.0,6.0,6.0,6.0,6.0,6.0,6.0,6.0,8.0,6.0,6.0,6.0,6.0,8.0,4.0,4.0,4.0,4.0,4.0,4.0,4.0,4.0,4.0,4.0,4.0,4.0,4.0,4.0,4.0,4.0,6.0,6.0,6.0,8.0,4.0,4.0,4.0,4.0,6.0,6.0,6.0,4.0,4.0,4.0,4.0,6.0,6.0,6.0,4.0,4.0,4.0,4.0,4.0,8.0,8.0,4.0,4.0,4.0,6.0,6.0,6.0,6.0,4.0,4.0,4.0,4.0,6.0,4.0,4.0,4.0,4.0,4.0,5.0,5.0,6.0,6.0,4.0,4.0,4.0,4.0,5.0,5.0,4.0,4.0,4.0,4.0,6.0,6.0,6.0],\n",
       "\"cty\":[18.0,21.0,20.0,21.0,16.0,18.0,18.0,18.0,16.0,20.0,19.0,15.0,17.0,17.0,15.0,15.0,17.0,16.0,14.0,11.0,14.0,13.0,12.0,16.0,15.0,16.0,15.0,15.0,14.0,11.0,11.0,14.0,19.0,22.0,18.0,18.0,17.0,18.0,17.0,16.0,16.0,17.0,17.0,11.0,15.0,15.0,16.0,16.0,15.0,14.0,13.0,14.0,14.0,14.0,9.0,11.0,11.0,13.0,13.0,9.0,13.0,11.0,13.0,11.0,12.0,9.0,13.0,13.0,12.0,9.0,11.0,11.0,13.0,11.0,11.0,11.0,12.0,14.0,15.0,14.0,13.0,13.0,13.0,14.0,14.0,13.0,13.0,13.0,11.0,13.0,18.0,18.0,17.0,16.0,15.0,15.0,15.0,15.0,14.0,28.0,24.0,25.0,23.0,24.0,26.0,25.0,24.0,21.0,18.0,18.0,21.0,21.0,18.0,18.0,19.0,19.0,19.0,20.0,20.0,17.0,16.0,17.0,17.0,15.0,15.0,14.0,9.0,14.0,13.0,11.0,11.0,12.0,12.0,11.0,11.0,11.0,12.0,14.0,13.0,13.0,13.0,21.0,19.0,23.0,23.0,19.0,19.0,18.0,19.0,19.0,14.0,15.0,14.0,12.0,18.0,16.0,17.0,18.0,16.0,18.0,18.0,20.0,19.0,20.0,18.0,21.0,19.0,19.0,19.0,20.0,20.0,19.0,20.0,15.0,16.0,15.0,15.0,16.0,14.0,21.0,21.0,21.0,21.0,18.0,18.0,19.0,21.0,21.0,21.0,22.0,18.0,18.0,18.0,24.0,24.0,26.0,28.0,26.0,11.0,13.0,15.0,16.0,17.0,15.0,15.0,15.0,16.0,21.0,19.0,21.0,22.0,17.0,33.0,21.0,19.0,22.0,21.0,21.0,21.0,16.0,17.0,35.0,29.0,21.0,19.0,20.0,20.0,21.0,18.0,19.0,21.0,16.0,18.0,17.0],\n",
       "\"hwy\":[29.0,29.0,31.0,30.0,26.0,26.0,27.0,26.0,25.0,28.0,27.0,25.0,25.0,25.0,25.0,24.0,25.0,23.0,20.0,15.0,20.0,17.0,17.0,26.0,23.0,26.0,25.0,24.0,19.0,14.0,15.0,17.0,27.0,30.0,26.0,29.0,26.0,24.0,24.0,22.0,22.0,24.0,24.0,17.0,22.0,21.0,23.0,23.0,19.0,18.0,17.0,17.0,19.0,19.0,12.0,17.0,15.0,17.0,17.0,12.0,17.0,16.0,18.0,15.0,16.0,12.0,17.0,17.0,16.0,12.0,15.0,16.0,17.0,15.0,17.0,17.0,18.0,17.0,19.0,17.0,19.0,19.0,17.0,17.0,17.0,16.0,16.0,17.0,15.0,17.0,26.0,25.0,26.0,24.0,21.0,22.0,23.0,22.0,20.0,33.0,32.0,32.0,29.0,32.0,34.0,36.0,36.0,29.0,26.0,27.0,30.0,31.0,26.0,26.0,28.0,26.0,29.0,28.0,27.0,24.0,24.0,24.0,22.0,19.0,20.0,17.0,12.0,19.0,18.0,14.0,15.0,18.0,18.0,15.0,17.0,16.0,18.0,17.0,19.0,19.0,17.0,29.0,27.0,31.0,32.0,27.0,26.0,26.0,25.0,25.0,17.0,17.0,20.0,18.0,26.0,26.0,27.0,28.0,25.0,25.0,24.0,27.0,25.0,26.0,23.0,26.0,26.0,26.0,26.0,25.0,27.0,25.0,27.0,20.0,20.0,19.0,17.0,20.0,17.0,29.0,27.0,31.0,31.0,26.0,26.0,28.0,27.0,29.0,31.0,31.0,26.0,26.0,27.0,30.0,33.0,35.0,37.0,35.0,15.0,18.0,20.0,20.0,22.0,17.0,19.0,18.0,20.0,29.0,26.0,29.0,29.0,24.0,44.0,29.0,26.0,29.0,29.0,29.0,29.0,23.0,24.0,44.0,41.0,29.0,26.0,28.0,29.0,29.0,29.0,28.0,29.0,26.0,26.0,26.0],\n",
       "\"class\":[\"compact\",\"compact\",\"compact\",\"compact\",\"compact\",\"compact\",\"compact\",\"compact\",\"compact\",\"compact\",\"compact\",\"compact\",\"compact\",\"compact\",\"compact\",\"midsize\",\"midsize\",\"midsize\",\"suv\",\"suv\",\"suv\",\"suv\",\"suv\",\"2seater\",\"2seater\",\"2seater\",\"2seater\",\"2seater\",\"suv\",\"suv\",\"suv\",\"suv\",\"midsize\",\"midsize\",\"midsize\",\"midsize\",\"midsize\",\"minivan\",\"minivan\",\"minivan\",\"minivan\",\"minivan\",\"minivan\",\"minivan\",\"minivan\",\"minivan\",\"minivan\",\"minivan\",\"pickup\",\"pickup\",\"pickup\",\"pickup\",\"pickup\",\"pickup\",\"pickup\",\"pickup\",\"pickup\",\"suv\",\"suv\",\"suv\",\"suv\",\"suv\",\"suv\",\"suv\",\"pickup\",\"pickup\",\"pickup\",\"pickup\",\"pickup\",\"pickup\",\"pickup\",\"pickup\",\"pickup\",\"pickup\",\"suv\",\"suv\",\"suv\",\"suv\",\"suv\",\"suv\",\"suv\",\"suv\",\"suv\",\"pickup\",\"pickup\",\"pickup\",\"pickup\",\"pickup\",\"pickup\",\"pickup\",\"subcompact\",\"subcompact\",\"subcompact\",\"subcompact\",\"subcompact\",\"subcompact\",\"subcompact\",\"subcompact\",\"subcompact\",\"subcompact\",\"subcompact\",\"subcompact\",\"subcompact\",\"subcompact\",\"subcompact\",\"subcompact\",\"subcompact\",\"subcompact\",\"midsize\",\"midsize\",\"midsize\",\"midsize\",\"midsize\",\"midsize\",\"midsize\",\"subcompact\",\"subcompact\",\"subcompact\",\"subcompact\",\"subcompact\",\"subcompact\",\"subcompact\",\"suv\",\"suv\",\"suv\",\"suv\",\"suv\",\"suv\",\"suv\",\"suv\",\"suv\",\"suv\",\"suv\",\"suv\",\"suv\",\"suv\",\"suv\",\"suv\",\"suv\",\"suv\",\"suv\",\"compact\",\"compact\",\"midsize\",\"midsize\",\"midsize\",\"midsize\",\"midsize\",\"midsize\",\"midsize\",\"suv\",\"suv\",\"suv\",\"suv\",\"midsize\",\"midsize\",\"midsize\",\"midsize\",\"midsize\",\"suv\",\"suv\",\"suv\",\"suv\",\"suv\",\"suv\",\"subcompact\",\"subcompact\",\"subcompact\",\"subcompact\",\"compact\",\"compact\",\"compact\",\"compact\",\"suv\",\"suv\",\"suv\",\"suv\",\"suv\",\"suv\",\"midsize\",\"midsize\",\"midsize\",\"midsize\",\"midsize\",\"midsize\",\"midsize\",\"compact\",\"compact\",\"compact\",\"compact\",\"compact\",\"compact\",\"compact\",\"compact\",\"compact\",\"compact\",\"compact\",\"compact\",\"suv\",\"suv\",\"pickup\",\"pickup\",\"pickup\",\"pickup\",\"pickup\",\"pickup\",\"pickup\",\"compact\",\"compact\",\"compact\",\"compact\",\"compact\",\"compact\",\"compact\",\"compact\",\"compact\",\"compact\",\"compact\",\"compact\",\"compact\",\"compact\",\"subcompact\",\"subcompact\",\"subcompact\",\"subcompact\",\"subcompact\",\"subcompact\",\"midsize\",\"midsize\",\"midsize\",\"midsize\",\"midsize\",\"midsize\",\"midsize\"]\n",
       "},\n",
       "\"mapping\":{\n",
       "\"x\":\"cty\",\n",
       "\"y\":\"hwy\"\n",
       "},\n",
       "\"data_meta\":{\n",
       "\"series_annotations\":[{\n",
       "\"type\":\"int\",\n",
       "\"column\":\"Unnamed: 0\"\n",
       "},{\n",
       "\"type\":\"str\",\n",
       "\"column\":\"manufacturer\"\n",
       "},{\n",
       "\"type\":\"str\",\n",
       "\"column\":\"model\"\n",
       "},{\n",
       "\"type\":\"float\",\n",
       "\"column\":\"displ\"\n",
       "},{\n",
       "\"type\":\"int\",\n",
       "\"column\":\"year\"\n",
       "},{\n",
       "\"type\":\"int\",\n",
       "\"column\":\"cyl\"\n",
       "},{\n",
       "\"type\":\"str\",\n",
       "\"column\":\"trans\"\n",
       "},{\n",
       "\"type\":\"str\",\n",
       "\"column\":\"drv\"\n",
       "},{\n",
       "\"type\":\"int\",\n",
       "\"column\":\"cty\"\n",
       "},{\n",
       "\"type\":\"int\",\n",
       "\"column\":\"hwy\"\n",
       "},{\n",
       "\"type\":\"str\",\n",
       "\"column\":\"fl\"\n",
       "},{\n",
       "\"type\":\"str\",\n",
       "\"column\":\"class\"\n",
       "}]\n",
       "},\n",
       "\"theme\":{\n",
       "\"name\":\"light\"\n",
       "},\n",
       "\"facet\":{\n",
       "\"name\":\"grid\",\n",
       "\"x\":\"cyl\",\n",
       "\"x_order\":1.0,\n",
       "\"y_order\":1.0\n",
       "},\n",
       "\"kind\":\"plot\",\n",
       "\"scales\":[],\n",
       "\"layers\":[{\n",
       "\"geom\":\"point\",\n",
       "\"mapping\":{\n",
       "\"color\":\"class\"\n",
       "},\n",
       "\"data_meta\":{\n",
       "},\n",
       "\"shape\":21.0,\n",
       "\"data\":{\n",
       "}\n",
       "}],\n",
       "\"metainfo_list\":[]\n",
       "};\n",
       "           var plotContainer = document.getElementById(\"smNomN\");\n",
       "           window.letsPlotCall(function() {{\n",
       "               LetsPlot.buildPlotFromProcessedSpecs(plotSpec, -1, -1, plotContainer);\n",
       "           }});\n",
       "       })();\n",
       "   </script>"
      ],
      "text/plain": [
       "<lets_plot.plot.core.PlotSpec at 0x1237835b0>"
      ]
     },
     "execution_count": 5,
     "metadata": {},
     "output_type": "execute_result"
    }
   ],
   "source": [
    "p + facet_grid(x=\"cyl\")"
   ]
  },
  {
   "attachments": {},
   "cell_type": "markdown",
   "metadata": {
    "datalore": {
     "hide_input_from_viewers": false,
     "hide_output_from_viewers": false,
     "node_id": "8SAw0jpBggdpxhjqstcxr7",
     "report_properties": {
      "relativeY": 0,
      "rowId": "47xwOkUbGx2RaVlMGT5tQb"
     },
     "type": "MD"
    }
   },
   "source": [
    "**Two Facets**\n",
    "\n",
    "We can split up the data by two faceting variables `cyl` and `year`."
   ]
  },
  {
   "cell_type": "code",
   "execution_count": 6,
   "metadata": {
    "datalore": {
     "hide_input_from_viewers": false,
     "hide_output_from_viewers": false,
     "node_id": "fLxTKhRfZPnyXKJhy7Fvnl",
     "report_properties": {
      "relativeY": 0,
      "rowId": "MeSbgm94r1KB3SGZVchFAd"
     },
     "type": "CODE"
    },
    "execution": {
     "iopub.execute_input": "2024-09-27T18:24:11.292572Z",
     "iopub.status.busy": "2024-09-27T18:24:11.292499Z",
     "iopub.status.idle": "2024-09-27T18:24:11.297234Z",
     "shell.execute_reply": "2024-09-27T18:24:11.296992Z"
    }
   },
   "outputs": [
    {
     "data": {
      "text/html": [
       "   <div id=\"QmUYVl\"></div>\n",
       "   <script type=\"text/javascript\" data-lets-plot-script=\"plot\">\n",
       "       (function() {\n",
       "           var plotSpec={\n",
       "\"data\":{\n",
       "\"year\":[1999.0,1999.0,2008.0,2008.0,1999.0,1999.0,2008.0,1999.0,1999.0,2008.0,2008.0,1999.0,1999.0,2008.0,2008.0,1999.0,2008.0,2008.0,2008.0,2008.0,2008.0,1999.0,2008.0,1999.0,1999.0,2008.0,2008.0,2008.0,2008.0,2008.0,1999.0,1999.0,1999.0,2008.0,1999.0,2008.0,2008.0,1999.0,1999.0,1999.0,1999.0,2008.0,2008.0,2008.0,1999.0,1999.0,2008.0,2008.0,2008.0,2008.0,1999.0,1999.0,2008.0,2008.0,2008.0,1999.0,1999.0,1999.0,2008.0,2008.0,2008.0,1999.0,2008.0,1999.0,2008.0,2008.0,2008.0,2008.0,2008.0,2008.0,1999.0,1999.0,2008.0,1999.0,1999.0,1999.0,2008.0,1999.0,1999.0,1999.0,2008.0,2008.0,1999.0,1999.0,1999.0,1999.0,1999.0,2008.0,1999.0,2008.0,1999.0,1999.0,2008.0,2008.0,1999.0,1999.0,2008.0,2008.0,2008.0,1999.0,1999.0,1999.0,1999.0,1999.0,2008.0,2008.0,2008.0,2008.0,1999.0,1999.0,2008.0,2008.0,1999.0,1999.0,2008.0,1999.0,1999.0,2008.0,2008.0,2008.0,2008.0,2008.0,2008.0,2008.0,1999.0,1999.0,2008.0,2008.0,2008.0,2008.0,1999.0,2008.0,2008.0,1999.0,1999.0,1999.0,2008.0,1999.0,2008.0,2008.0,1999.0,1999.0,1999.0,2008.0,2008.0,2008.0,2008.0,1999.0,1999.0,2008.0,1999.0,1999.0,2008.0,2008.0,1999.0,1999.0,1999.0,2008.0,2008.0,1999.0,1999.0,2008.0,2008.0,2008.0,2008.0,1999.0,1999.0,1999.0,1999.0,2008.0,2008.0,2008.0,2008.0,1999.0,1999.0,1999.0,1999.0,2008.0,2008.0,1999.0,1999.0,2008.0,2008.0,1999.0,1999.0,2008.0,1999.0,1999.0,2008.0,2008.0,1999.0,1999.0,2008.0,1999.0,1999.0,1999.0,2008.0,2008.0,1999.0,2008.0,1999.0,1999.0,2008.0,1999.0,1999.0,2008.0,2008.0,1999.0,1999.0,2008.0,2008.0,1999.0,1999.0,1999.0,1999.0,2008.0,2008.0,2008.0,2008.0,1999.0,1999.0,1999.0,1999.0,1999.0,1999.0,2008.0,2008.0,1999.0,1999.0,2008.0,2008.0,1999.0,1999.0,2008.0],\n",
       "\"cyl\":[4.0,4.0,4.0,4.0,6.0,6.0,6.0,4.0,4.0,4.0,4.0,6.0,6.0,6.0,6.0,6.0,6.0,8.0,8.0,8.0,8.0,8.0,8.0,8.0,8.0,8.0,8.0,8.0,8.0,8.0,8.0,8.0,4.0,4.0,6.0,6.0,6.0,4.0,6.0,6.0,6.0,6.0,6.0,6.0,6.0,6.0,6.0,6.0,6.0,6.0,6.0,6.0,8.0,8.0,8.0,8.0,8.0,6.0,8.0,8.0,8.0,8.0,8.0,8.0,8.0,8.0,8.0,8.0,8.0,8.0,8.0,8.0,8.0,8.0,8.0,8.0,8.0,6.0,6.0,6.0,6.0,8.0,8.0,6.0,6.0,8.0,8.0,8.0,8.0,8.0,6.0,6.0,6.0,6.0,8.0,8.0,8.0,8.0,8.0,4.0,4.0,4.0,4.0,4.0,4.0,4.0,4.0,4.0,4.0,4.0,4.0,4.0,6.0,6.0,6.0,4.0,4.0,4.0,4.0,6.0,6.0,6.0,6.0,6.0,6.0,8.0,8.0,8.0,8.0,8.0,8.0,8.0,8.0,8.0,8.0,8.0,8.0,6.0,6.0,8.0,8.0,4.0,4.0,4.0,4.0,6.0,6.0,6.0,6.0,6.0,6.0,6.0,6.0,8.0,6.0,6.0,6.0,6.0,8.0,4.0,4.0,4.0,4.0,4.0,4.0,4.0,4.0,4.0,4.0,4.0,4.0,4.0,4.0,4.0,4.0,6.0,6.0,6.0,8.0,4.0,4.0,4.0,4.0,6.0,6.0,6.0,4.0,4.0,4.0,4.0,6.0,6.0,6.0,4.0,4.0,4.0,4.0,4.0,8.0,8.0,4.0,4.0,4.0,6.0,6.0,6.0,6.0,4.0,4.0,4.0,4.0,6.0,4.0,4.0,4.0,4.0,4.0,5.0,5.0,6.0,6.0,4.0,4.0,4.0,4.0,5.0,5.0,4.0,4.0,4.0,4.0,6.0,6.0,6.0],\n",
       "\"cty\":[18.0,21.0,20.0,21.0,16.0,18.0,18.0,18.0,16.0,20.0,19.0,15.0,17.0,17.0,15.0,15.0,17.0,16.0,14.0,11.0,14.0,13.0,12.0,16.0,15.0,16.0,15.0,15.0,14.0,11.0,11.0,14.0,19.0,22.0,18.0,18.0,17.0,18.0,17.0,16.0,16.0,17.0,17.0,11.0,15.0,15.0,16.0,16.0,15.0,14.0,13.0,14.0,14.0,14.0,9.0,11.0,11.0,13.0,13.0,9.0,13.0,11.0,13.0,11.0,12.0,9.0,13.0,13.0,12.0,9.0,11.0,11.0,13.0,11.0,11.0,11.0,12.0,14.0,15.0,14.0,13.0,13.0,13.0,14.0,14.0,13.0,13.0,13.0,11.0,13.0,18.0,18.0,17.0,16.0,15.0,15.0,15.0,15.0,14.0,28.0,24.0,25.0,23.0,24.0,26.0,25.0,24.0,21.0,18.0,18.0,21.0,21.0,18.0,18.0,19.0,19.0,19.0,20.0,20.0,17.0,16.0,17.0,17.0,15.0,15.0,14.0,9.0,14.0,13.0,11.0,11.0,12.0,12.0,11.0,11.0,11.0,12.0,14.0,13.0,13.0,13.0,21.0,19.0,23.0,23.0,19.0,19.0,18.0,19.0,19.0,14.0,15.0,14.0,12.0,18.0,16.0,17.0,18.0,16.0,18.0,18.0,20.0,19.0,20.0,18.0,21.0,19.0,19.0,19.0,20.0,20.0,19.0,20.0,15.0,16.0,15.0,15.0,16.0,14.0,21.0,21.0,21.0,21.0,18.0,18.0,19.0,21.0,21.0,21.0,22.0,18.0,18.0,18.0,24.0,24.0,26.0,28.0,26.0,11.0,13.0,15.0,16.0,17.0,15.0,15.0,15.0,16.0,21.0,19.0,21.0,22.0,17.0,33.0,21.0,19.0,22.0,21.0,21.0,21.0,16.0,17.0,35.0,29.0,21.0,19.0,20.0,20.0,21.0,18.0,19.0,21.0,16.0,18.0,17.0],\n",
       "\"hwy\":[29.0,29.0,31.0,30.0,26.0,26.0,27.0,26.0,25.0,28.0,27.0,25.0,25.0,25.0,25.0,24.0,25.0,23.0,20.0,15.0,20.0,17.0,17.0,26.0,23.0,26.0,25.0,24.0,19.0,14.0,15.0,17.0,27.0,30.0,26.0,29.0,26.0,24.0,24.0,22.0,22.0,24.0,24.0,17.0,22.0,21.0,23.0,23.0,19.0,18.0,17.0,17.0,19.0,19.0,12.0,17.0,15.0,17.0,17.0,12.0,17.0,16.0,18.0,15.0,16.0,12.0,17.0,17.0,16.0,12.0,15.0,16.0,17.0,15.0,17.0,17.0,18.0,17.0,19.0,17.0,19.0,19.0,17.0,17.0,17.0,16.0,16.0,17.0,15.0,17.0,26.0,25.0,26.0,24.0,21.0,22.0,23.0,22.0,20.0,33.0,32.0,32.0,29.0,32.0,34.0,36.0,36.0,29.0,26.0,27.0,30.0,31.0,26.0,26.0,28.0,26.0,29.0,28.0,27.0,24.0,24.0,24.0,22.0,19.0,20.0,17.0,12.0,19.0,18.0,14.0,15.0,18.0,18.0,15.0,17.0,16.0,18.0,17.0,19.0,19.0,17.0,29.0,27.0,31.0,32.0,27.0,26.0,26.0,25.0,25.0,17.0,17.0,20.0,18.0,26.0,26.0,27.0,28.0,25.0,25.0,24.0,27.0,25.0,26.0,23.0,26.0,26.0,26.0,26.0,25.0,27.0,25.0,27.0,20.0,20.0,19.0,17.0,20.0,17.0,29.0,27.0,31.0,31.0,26.0,26.0,28.0,27.0,29.0,31.0,31.0,26.0,26.0,27.0,30.0,33.0,35.0,37.0,35.0,15.0,18.0,20.0,20.0,22.0,17.0,19.0,18.0,20.0,29.0,26.0,29.0,29.0,24.0,44.0,29.0,26.0,29.0,29.0,29.0,29.0,23.0,24.0,44.0,41.0,29.0,26.0,28.0,29.0,29.0,29.0,28.0,29.0,26.0,26.0,26.0],\n",
       "\"class\":[\"compact\",\"compact\",\"compact\",\"compact\",\"compact\",\"compact\",\"compact\",\"compact\",\"compact\",\"compact\",\"compact\",\"compact\",\"compact\",\"compact\",\"compact\",\"midsize\",\"midsize\",\"midsize\",\"suv\",\"suv\",\"suv\",\"suv\",\"suv\",\"2seater\",\"2seater\",\"2seater\",\"2seater\",\"2seater\",\"suv\",\"suv\",\"suv\",\"suv\",\"midsize\",\"midsize\",\"midsize\",\"midsize\",\"midsize\",\"minivan\",\"minivan\",\"minivan\",\"minivan\",\"minivan\",\"minivan\",\"minivan\",\"minivan\",\"minivan\",\"minivan\",\"minivan\",\"pickup\",\"pickup\",\"pickup\",\"pickup\",\"pickup\",\"pickup\",\"pickup\",\"pickup\",\"pickup\",\"suv\",\"suv\",\"suv\",\"suv\",\"suv\",\"suv\",\"suv\",\"pickup\",\"pickup\",\"pickup\",\"pickup\",\"pickup\",\"pickup\",\"pickup\",\"pickup\",\"pickup\",\"pickup\",\"suv\",\"suv\",\"suv\",\"suv\",\"suv\",\"suv\",\"suv\",\"suv\",\"suv\",\"pickup\",\"pickup\",\"pickup\",\"pickup\",\"pickup\",\"pickup\",\"pickup\",\"subcompact\",\"subcompact\",\"subcompact\",\"subcompact\",\"subcompact\",\"subcompact\",\"subcompact\",\"subcompact\",\"subcompact\",\"subcompact\",\"subcompact\",\"subcompact\",\"subcompact\",\"subcompact\",\"subcompact\",\"subcompact\",\"subcompact\",\"subcompact\",\"midsize\",\"midsize\",\"midsize\",\"midsize\",\"midsize\",\"midsize\",\"midsize\",\"subcompact\",\"subcompact\",\"subcompact\",\"subcompact\",\"subcompact\",\"subcompact\",\"subcompact\",\"suv\",\"suv\",\"suv\",\"suv\",\"suv\",\"suv\",\"suv\",\"suv\",\"suv\",\"suv\",\"suv\",\"suv\",\"suv\",\"suv\",\"suv\",\"suv\",\"suv\",\"suv\",\"suv\",\"compact\",\"compact\",\"midsize\",\"midsize\",\"midsize\",\"midsize\",\"midsize\",\"midsize\",\"midsize\",\"suv\",\"suv\",\"suv\",\"suv\",\"midsize\",\"midsize\",\"midsize\",\"midsize\",\"midsize\",\"suv\",\"suv\",\"suv\",\"suv\",\"suv\",\"suv\",\"subcompact\",\"subcompact\",\"subcompact\",\"subcompact\",\"compact\",\"compact\",\"compact\",\"compact\",\"suv\",\"suv\",\"suv\",\"suv\",\"suv\",\"suv\",\"midsize\",\"midsize\",\"midsize\",\"midsize\",\"midsize\",\"midsize\",\"midsize\",\"compact\",\"compact\",\"compact\",\"compact\",\"compact\",\"compact\",\"compact\",\"compact\",\"compact\",\"compact\",\"compact\",\"compact\",\"suv\",\"suv\",\"pickup\",\"pickup\",\"pickup\",\"pickup\",\"pickup\",\"pickup\",\"pickup\",\"compact\",\"compact\",\"compact\",\"compact\",\"compact\",\"compact\",\"compact\",\"compact\",\"compact\",\"compact\",\"compact\",\"compact\",\"compact\",\"compact\",\"subcompact\",\"subcompact\",\"subcompact\",\"subcompact\",\"subcompact\",\"subcompact\",\"midsize\",\"midsize\",\"midsize\",\"midsize\",\"midsize\",\"midsize\",\"midsize\"]\n",
       "},\n",
       "\"mapping\":{\n",
       "\"x\":\"cty\",\n",
       "\"y\":\"hwy\"\n",
       "},\n",
       "\"data_meta\":{\n",
       "\"series_annotations\":[{\n",
       "\"type\":\"int\",\n",
       "\"column\":\"Unnamed: 0\"\n",
       "},{\n",
       "\"type\":\"str\",\n",
       "\"column\":\"manufacturer\"\n",
       "},{\n",
       "\"type\":\"str\",\n",
       "\"column\":\"model\"\n",
       "},{\n",
       "\"type\":\"float\",\n",
       "\"column\":\"displ\"\n",
       "},{\n",
       "\"type\":\"int\",\n",
       "\"column\":\"year\"\n",
       "},{\n",
       "\"type\":\"int\",\n",
       "\"column\":\"cyl\"\n",
       "},{\n",
       "\"type\":\"str\",\n",
       "\"column\":\"trans\"\n",
       "},{\n",
       "\"type\":\"str\",\n",
       "\"column\":\"drv\"\n",
       "},{\n",
       "\"type\":\"int\",\n",
       "\"column\":\"cty\"\n",
       "},{\n",
       "\"type\":\"int\",\n",
       "\"column\":\"hwy\"\n",
       "},{\n",
       "\"type\":\"str\",\n",
       "\"column\":\"fl\"\n",
       "},{\n",
       "\"type\":\"str\",\n",
       "\"column\":\"class\"\n",
       "}]\n",
       "},\n",
       "\"theme\":{\n",
       "\"name\":\"light\"\n",
       "},\n",
       "\"facet\":{\n",
       "\"name\":\"grid\",\n",
       "\"x\":\"cyl\",\n",
       "\"y\":\"year\",\n",
       "\"x_order\":1.0,\n",
       "\"y_order\":1.0\n",
       "},\n",
       "\"kind\":\"plot\",\n",
       "\"scales\":[],\n",
       "\"layers\":[{\n",
       "\"geom\":\"point\",\n",
       "\"mapping\":{\n",
       "\"color\":\"class\"\n",
       "},\n",
       "\"data_meta\":{\n",
       "},\n",
       "\"shape\":21.0,\n",
       "\"data\":{\n",
       "}\n",
       "}],\n",
       "\"metainfo_list\":[]\n",
       "};\n",
       "           var plotContainer = document.getElementById(\"QmUYVl\");\n",
       "           window.letsPlotCall(function() {{\n",
       "               LetsPlot.buildPlotFromProcessedSpecs(plotSpec, -1, -1, plotContainer);\n",
       "           }});\n",
       "       })();\n",
       "   </script>"
      ],
      "text/plain": [
       "<lets_plot.plot.core.PlotSpec at 0x123a33ca0>"
      ]
     },
     "execution_count": 6,
     "metadata": {},
     "output_type": "execute_result"
    }
   ],
   "source": [
    "p + facet_grid(x=\"cyl\", y=\"year\")"
   ]
  },
  {
   "attachments": {},
   "cell_type": "markdown",
   "metadata": {
    "datalore": {
     "hide_input_from_viewers": false,
     "hide_output_from_viewers": false,
     "node_id": "AgXf0aht9s2NSdSrNk3QFZ",
     "report_properties": {
      "relativeY": 0,
      "rowId": "c0e3bc3l12dRYzGVkRrCtE"
     },
     "type": "MD"
    }
   },
   "source": [
    "**Formatting and Sorting**\n",
    "\n",
    "Let's apply a formatting template to the `cyl` and reverse the `year` sorting.\n",
    "\n",
    "To learn more about formatting templates see: [Formatting](https://lets-plot.org/python/pages/formats.html). "
   ]
  },
  {
   "cell_type": "code",
   "execution_count": 7,
   "metadata": {
    "datalore": {
     "hide_input_from_viewers": false,
     "hide_output_from_viewers": false,
     "node_id": "CnXQVEnYs5qyXOYcRKL1lm",
     "report_properties": {
      "relativeY": 0,
      "rowId": "2C4duTMhuLdFSZu3JmflIt"
     },
     "type": "CODE"
    },
    "execution": {
     "iopub.execute_input": "2024-09-27T18:24:11.298369Z",
     "iopub.status.busy": "2024-09-27T18:24:11.298293Z",
     "iopub.status.idle": "2024-09-27T18:24:11.303085Z",
     "shell.execute_reply": "2024-09-27T18:24:11.302886Z"
    }
   },
   "outputs": [
    {
     "data": {
      "text/html": [
       "   <div id=\"Mg5R6y\"></div>\n",
       "   <script type=\"text/javascript\" data-lets-plot-script=\"plot\">\n",
       "       (function() {\n",
       "           var plotSpec={\n",
       "\"data\":{\n",
       "\"year\":[1999.0,1999.0,2008.0,2008.0,1999.0,1999.0,2008.0,1999.0,1999.0,2008.0,2008.0,1999.0,1999.0,2008.0,2008.0,1999.0,2008.0,2008.0,2008.0,2008.0,2008.0,1999.0,2008.0,1999.0,1999.0,2008.0,2008.0,2008.0,2008.0,2008.0,1999.0,1999.0,1999.0,2008.0,1999.0,2008.0,2008.0,1999.0,1999.0,1999.0,1999.0,2008.0,2008.0,2008.0,1999.0,1999.0,2008.0,2008.0,2008.0,2008.0,1999.0,1999.0,2008.0,2008.0,2008.0,1999.0,1999.0,1999.0,2008.0,2008.0,2008.0,1999.0,2008.0,1999.0,2008.0,2008.0,2008.0,2008.0,2008.0,2008.0,1999.0,1999.0,2008.0,1999.0,1999.0,1999.0,2008.0,1999.0,1999.0,1999.0,2008.0,2008.0,1999.0,1999.0,1999.0,1999.0,1999.0,2008.0,1999.0,2008.0,1999.0,1999.0,2008.0,2008.0,1999.0,1999.0,2008.0,2008.0,2008.0,1999.0,1999.0,1999.0,1999.0,1999.0,2008.0,2008.0,2008.0,2008.0,1999.0,1999.0,2008.0,2008.0,1999.0,1999.0,2008.0,1999.0,1999.0,2008.0,2008.0,2008.0,2008.0,2008.0,2008.0,2008.0,1999.0,1999.0,2008.0,2008.0,2008.0,2008.0,1999.0,2008.0,2008.0,1999.0,1999.0,1999.0,2008.0,1999.0,2008.0,2008.0,1999.0,1999.0,1999.0,2008.0,2008.0,2008.0,2008.0,1999.0,1999.0,2008.0,1999.0,1999.0,2008.0,2008.0,1999.0,1999.0,1999.0,2008.0,2008.0,1999.0,1999.0,2008.0,2008.0,2008.0,2008.0,1999.0,1999.0,1999.0,1999.0,2008.0,2008.0,2008.0,2008.0,1999.0,1999.0,1999.0,1999.0,2008.0,2008.0,1999.0,1999.0,2008.0,2008.0,1999.0,1999.0,2008.0,1999.0,1999.0,2008.0,2008.0,1999.0,1999.0,2008.0,1999.0,1999.0,1999.0,2008.0,2008.0,1999.0,2008.0,1999.0,1999.0,2008.0,1999.0,1999.0,2008.0,2008.0,1999.0,1999.0,2008.0,2008.0,1999.0,1999.0,1999.0,1999.0,2008.0,2008.0,2008.0,2008.0,1999.0,1999.0,1999.0,1999.0,1999.0,1999.0,2008.0,2008.0,1999.0,1999.0,2008.0,2008.0,1999.0,1999.0,2008.0],\n",
       "\"cyl\":[4.0,4.0,4.0,4.0,6.0,6.0,6.0,4.0,4.0,4.0,4.0,6.0,6.0,6.0,6.0,6.0,6.0,8.0,8.0,8.0,8.0,8.0,8.0,8.0,8.0,8.0,8.0,8.0,8.0,8.0,8.0,8.0,4.0,4.0,6.0,6.0,6.0,4.0,6.0,6.0,6.0,6.0,6.0,6.0,6.0,6.0,6.0,6.0,6.0,6.0,6.0,6.0,8.0,8.0,8.0,8.0,8.0,6.0,8.0,8.0,8.0,8.0,8.0,8.0,8.0,8.0,8.0,8.0,8.0,8.0,8.0,8.0,8.0,8.0,8.0,8.0,8.0,6.0,6.0,6.0,6.0,8.0,8.0,6.0,6.0,8.0,8.0,8.0,8.0,8.0,6.0,6.0,6.0,6.0,8.0,8.0,8.0,8.0,8.0,4.0,4.0,4.0,4.0,4.0,4.0,4.0,4.0,4.0,4.0,4.0,4.0,4.0,6.0,6.0,6.0,4.0,4.0,4.0,4.0,6.0,6.0,6.0,6.0,6.0,6.0,8.0,8.0,8.0,8.0,8.0,8.0,8.0,8.0,8.0,8.0,8.0,8.0,6.0,6.0,8.0,8.0,4.0,4.0,4.0,4.0,6.0,6.0,6.0,6.0,6.0,6.0,6.0,6.0,8.0,6.0,6.0,6.0,6.0,8.0,4.0,4.0,4.0,4.0,4.0,4.0,4.0,4.0,4.0,4.0,4.0,4.0,4.0,4.0,4.0,4.0,6.0,6.0,6.0,8.0,4.0,4.0,4.0,4.0,6.0,6.0,6.0,4.0,4.0,4.0,4.0,6.0,6.0,6.0,4.0,4.0,4.0,4.0,4.0,8.0,8.0,4.0,4.0,4.0,6.0,6.0,6.0,6.0,4.0,4.0,4.0,4.0,6.0,4.0,4.0,4.0,4.0,4.0,5.0,5.0,6.0,6.0,4.0,4.0,4.0,4.0,5.0,5.0,4.0,4.0,4.0,4.0,6.0,6.0,6.0],\n",
       "\"cty\":[18.0,21.0,20.0,21.0,16.0,18.0,18.0,18.0,16.0,20.0,19.0,15.0,17.0,17.0,15.0,15.0,17.0,16.0,14.0,11.0,14.0,13.0,12.0,16.0,15.0,16.0,15.0,15.0,14.0,11.0,11.0,14.0,19.0,22.0,18.0,18.0,17.0,18.0,17.0,16.0,16.0,17.0,17.0,11.0,15.0,15.0,16.0,16.0,15.0,14.0,13.0,14.0,14.0,14.0,9.0,11.0,11.0,13.0,13.0,9.0,13.0,11.0,13.0,11.0,12.0,9.0,13.0,13.0,12.0,9.0,11.0,11.0,13.0,11.0,11.0,11.0,12.0,14.0,15.0,14.0,13.0,13.0,13.0,14.0,14.0,13.0,13.0,13.0,11.0,13.0,18.0,18.0,17.0,16.0,15.0,15.0,15.0,15.0,14.0,28.0,24.0,25.0,23.0,24.0,26.0,25.0,24.0,21.0,18.0,18.0,21.0,21.0,18.0,18.0,19.0,19.0,19.0,20.0,20.0,17.0,16.0,17.0,17.0,15.0,15.0,14.0,9.0,14.0,13.0,11.0,11.0,12.0,12.0,11.0,11.0,11.0,12.0,14.0,13.0,13.0,13.0,21.0,19.0,23.0,23.0,19.0,19.0,18.0,19.0,19.0,14.0,15.0,14.0,12.0,18.0,16.0,17.0,18.0,16.0,18.0,18.0,20.0,19.0,20.0,18.0,21.0,19.0,19.0,19.0,20.0,20.0,19.0,20.0,15.0,16.0,15.0,15.0,16.0,14.0,21.0,21.0,21.0,21.0,18.0,18.0,19.0,21.0,21.0,21.0,22.0,18.0,18.0,18.0,24.0,24.0,26.0,28.0,26.0,11.0,13.0,15.0,16.0,17.0,15.0,15.0,15.0,16.0,21.0,19.0,21.0,22.0,17.0,33.0,21.0,19.0,22.0,21.0,21.0,21.0,16.0,17.0,35.0,29.0,21.0,19.0,20.0,20.0,21.0,18.0,19.0,21.0,16.0,18.0,17.0],\n",
       "\"hwy\":[29.0,29.0,31.0,30.0,26.0,26.0,27.0,26.0,25.0,28.0,27.0,25.0,25.0,25.0,25.0,24.0,25.0,23.0,20.0,15.0,20.0,17.0,17.0,26.0,23.0,26.0,25.0,24.0,19.0,14.0,15.0,17.0,27.0,30.0,26.0,29.0,26.0,24.0,24.0,22.0,22.0,24.0,24.0,17.0,22.0,21.0,23.0,23.0,19.0,18.0,17.0,17.0,19.0,19.0,12.0,17.0,15.0,17.0,17.0,12.0,17.0,16.0,18.0,15.0,16.0,12.0,17.0,17.0,16.0,12.0,15.0,16.0,17.0,15.0,17.0,17.0,18.0,17.0,19.0,17.0,19.0,19.0,17.0,17.0,17.0,16.0,16.0,17.0,15.0,17.0,26.0,25.0,26.0,24.0,21.0,22.0,23.0,22.0,20.0,33.0,32.0,32.0,29.0,32.0,34.0,36.0,36.0,29.0,26.0,27.0,30.0,31.0,26.0,26.0,28.0,26.0,29.0,28.0,27.0,24.0,24.0,24.0,22.0,19.0,20.0,17.0,12.0,19.0,18.0,14.0,15.0,18.0,18.0,15.0,17.0,16.0,18.0,17.0,19.0,19.0,17.0,29.0,27.0,31.0,32.0,27.0,26.0,26.0,25.0,25.0,17.0,17.0,20.0,18.0,26.0,26.0,27.0,28.0,25.0,25.0,24.0,27.0,25.0,26.0,23.0,26.0,26.0,26.0,26.0,25.0,27.0,25.0,27.0,20.0,20.0,19.0,17.0,20.0,17.0,29.0,27.0,31.0,31.0,26.0,26.0,28.0,27.0,29.0,31.0,31.0,26.0,26.0,27.0,30.0,33.0,35.0,37.0,35.0,15.0,18.0,20.0,20.0,22.0,17.0,19.0,18.0,20.0,29.0,26.0,29.0,29.0,24.0,44.0,29.0,26.0,29.0,29.0,29.0,29.0,23.0,24.0,44.0,41.0,29.0,26.0,28.0,29.0,29.0,29.0,28.0,29.0,26.0,26.0,26.0],\n",
       "\"class\":[\"compact\",\"compact\",\"compact\",\"compact\",\"compact\",\"compact\",\"compact\",\"compact\",\"compact\",\"compact\",\"compact\",\"compact\",\"compact\",\"compact\",\"compact\",\"midsize\",\"midsize\",\"midsize\",\"suv\",\"suv\",\"suv\",\"suv\",\"suv\",\"2seater\",\"2seater\",\"2seater\",\"2seater\",\"2seater\",\"suv\",\"suv\",\"suv\",\"suv\",\"midsize\",\"midsize\",\"midsize\",\"midsize\",\"midsize\",\"minivan\",\"minivan\",\"minivan\",\"minivan\",\"minivan\",\"minivan\",\"minivan\",\"minivan\",\"minivan\",\"minivan\",\"minivan\",\"pickup\",\"pickup\",\"pickup\",\"pickup\",\"pickup\",\"pickup\",\"pickup\",\"pickup\",\"pickup\",\"suv\",\"suv\",\"suv\",\"suv\",\"suv\",\"suv\",\"suv\",\"pickup\",\"pickup\",\"pickup\",\"pickup\",\"pickup\",\"pickup\",\"pickup\",\"pickup\",\"pickup\",\"pickup\",\"suv\",\"suv\",\"suv\",\"suv\",\"suv\",\"suv\",\"suv\",\"suv\",\"suv\",\"pickup\",\"pickup\",\"pickup\",\"pickup\",\"pickup\",\"pickup\",\"pickup\",\"subcompact\",\"subcompact\",\"subcompact\",\"subcompact\",\"subcompact\",\"subcompact\",\"subcompact\",\"subcompact\",\"subcompact\",\"subcompact\",\"subcompact\",\"subcompact\",\"subcompact\",\"subcompact\",\"subcompact\",\"subcompact\",\"subcompact\",\"subcompact\",\"midsize\",\"midsize\",\"midsize\",\"midsize\",\"midsize\",\"midsize\",\"midsize\",\"subcompact\",\"subcompact\",\"subcompact\",\"subcompact\",\"subcompact\",\"subcompact\",\"subcompact\",\"suv\",\"suv\",\"suv\",\"suv\",\"suv\",\"suv\",\"suv\",\"suv\",\"suv\",\"suv\",\"suv\",\"suv\",\"suv\",\"suv\",\"suv\",\"suv\",\"suv\",\"suv\",\"suv\",\"compact\",\"compact\",\"midsize\",\"midsize\",\"midsize\",\"midsize\",\"midsize\",\"midsize\",\"midsize\",\"suv\",\"suv\",\"suv\",\"suv\",\"midsize\",\"midsize\",\"midsize\",\"midsize\",\"midsize\",\"suv\",\"suv\",\"suv\",\"suv\",\"suv\",\"suv\",\"subcompact\",\"subcompact\",\"subcompact\",\"subcompact\",\"compact\",\"compact\",\"compact\",\"compact\",\"suv\",\"suv\",\"suv\",\"suv\",\"suv\",\"suv\",\"midsize\",\"midsize\",\"midsize\",\"midsize\",\"midsize\",\"midsize\",\"midsize\",\"compact\",\"compact\",\"compact\",\"compact\",\"compact\",\"compact\",\"compact\",\"compact\",\"compact\",\"compact\",\"compact\",\"compact\",\"suv\",\"suv\",\"pickup\",\"pickup\",\"pickup\",\"pickup\",\"pickup\",\"pickup\",\"pickup\",\"compact\",\"compact\",\"compact\",\"compact\",\"compact\",\"compact\",\"compact\",\"compact\",\"compact\",\"compact\",\"compact\",\"compact\",\"compact\",\"compact\",\"subcompact\",\"subcompact\",\"subcompact\",\"subcompact\",\"subcompact\",\"subcompact\",\"midsize\",\"midsize\",\"midsize\",\"midsize\",\"midsize\",\"midsize\",\"midsize\"]\n",
       "},\n",
       "\"mapping\":{\n",
       "\"x\":\"cty\",\n",
       "\"y\":\"hwy\"\n",
       "},\n",
       "\"data_meta\":{\n",
       "\"series_annotations\":[{\n",
       "\"type\":\"int\",\n",
       "\"column\":\"Unnamed: 0\"\n",
       "},{\n",
       "\"type\":\"str\",\n",
       "\"column\":\"manufacturer\"\n",
       "},{\n",
       "\"type\":\"str\",\n",
       "\"column\":\"model\"\n",
       "},{\n",
       "\"type\":\"float\",\n",
       "\"column\":\"displ\"\n",
       "},{\n",
       "\"type\":\"int\",\n",
       "\"column\":\"year\"\n",
       "},{\n",
       "\"type\":\"int\",\n",
       "\"column\":\"cyl\"\n",
       "},{\n",
       "\"type\":\"str\",\n",
       "\"column\":\"trans\"\n",
       "},{\n",
       "\"type\":\"str\",\n",
       "\"column\":\"drv\"\n",
       "},{\n",
       "\"type\":\"int\",\n",
       "\"column\":\"cty\"\n",
       "},{\n",
       "\"type\":\"int\",\n",
       "\"column\":\"hwy\"\n",
       "},{\n",
       "\"type\":\"str\",\n",
       "\"column\":\"fl\"\n",
       "},{\n",
       "\"type\":\"str\",\n",
       "\"column\":\"class\"\n",
       "}]\n",
       "},\n",
       "\"theme\":{\n",
       "\"name\":\"light\"\n",
       "},\n",
       "\"facet\":{\n",
       "\"name\":\"grid\",\n",
       "\"x\":\"cyl\",\n",
       "\"y\":\"year\",\n",
       "\"x_order\":1.0,\n",
       "\"y_order\":-1.0,\n",
       "\"x_format\":\"{d} cyl\"\n",
       "},\n",
       "\"kind\":\"plot\",\n",
       "\"scales\":[],\n",
       "\"layers\":[{\n",
       "\"geom\":\"point\",\n",
       "\"mapping\":{\n",
       "\"color\":\"class\"\n",
       "},\n",
       "\"data_meta\":{\n",
       "},\n",
       "\"shape\":21.0,\n",
       "\"data\":{\n",
       "}\n",
       "}],\n",
       "\"metainfo_list\":[]\n",
       "};\n",
       "           var plotContainer = document.getElementById(\"Mg5R6y\");\n",
       "           window.letsPlotCall(function() {{\n",
       "               LetsPlot.buildPlotFromProcessedSpecs(plotSpec, -1, -1, plotContainer);\n",
       "           }});\n",
       "       })();\n",
       "   </script>"
      ],
      "text/plain": [
       "<lets_plot.plot.core.PlotSpec at 0x123a438e0>"
      ]
     },
     "execution_count": 7,
     "metadata": {},
     "output_type": "execute_result"
    }
   ],
   "source": [
    "p + facet_grid(x=\"cyl\", y=\"year\", x_format=\"{d} cyl\", y_order=-1)"
   ]
  },
  {
   "attachments": {},
   "cell_type": "markdown",
   "metadata": {
    "datalore": {
     "hide_input_from_viewers": false,
     "hide_output_from_viewers": false,
     "node_id": "gsl291J7KIQW5FuccDTrvt",
     "report_properties": {
      "relativeY": 0,
      "rowId": "V7zElo23NKumXUx56Ayoh9"
     },
     "type": "MD"
    }
   },
   "source": [
    "#### facet_wrap()\n",
    "\n",
    "The data can be split up by one or more variables with `facet_wrap()` function. \n",
    "The panels layout is flexible and controlled by `ncol`, `nrow` and `dir` options."
   ]
  },
  {
   "attachments": {},
   "cell_type": "markdown",
   "metadata": {
    "datalore": {
     "hide_input_from_viewers": false,
     "hide_output_from_viewers": false,
     "node_id": "APHAcWIt5Och28Y6aXkEME",
     "report_properties": {
      "relativeY": 0,
      "rowId": "LD7NepfywF9o9S9SAclHDT"
     },
     "type": "MD"
    }
   },
   "source": [
    "**One Facet**\n",
    "\n",
    "Now let's split data by the `cyl` variable and arrange tiles in one row."
   ]
  },
  {
   "cell_type": "code",
   "execution_count": 8,
   "metadata": {
    "datalore": {
     "hide_input_from_viewers": false,
     "hide_output_from_viewers": false,
     "node_id": "spjLa9FwFGfu8LGvXUcOMt",
     "report_properties": {
      "relativeY": 0,
      "rowId": "nRE5AJbUOgoHLgxhZGiiCX"
     },
     "type": "CODE"
    },
    "execution": {
     "iopub.execute_input": "2024-09-27T18:24:11.304193Z",
     "iopub.status.busy": "2024-09-27T18:24:11.304108Z",
     "iopub.status.idle": "2024-09-27T18:24:11.308271Z",
     "shell.execute_reply": "2024-09-27T18:24:11.308073Z"
    }
   },
   "outputs": [
    {
     "data": {
      "text/html": [
       "   <div id=\"K3VuaU\"></div>\n",
       "   <script type=\"text/javascript\" data-lets-plot-script=\"plot\">\n",
       "       (function() {\n",
       "           var plotSpec={\n",
       "\"data\":{\n",
       "\"cyl\":[4.0,4.0,4.0,4.0,6.0,6.0,6.0,4.0,4.0,4.0,4.0,6.0,6.0,6.0,6.0,6.0,6.0,8.0,8.0,8.0,8.0,8.0,8.0,8.0,8.0,8.0,8.0,8.0,8.0,8.0,8.0,8.0,4.0,4.0,6.0,6.0,6.0,4.0,6.0,6.0,6.0,6.0,6.0,6.0,6.0,6.0,6.0,6.0,6.0,6.0,6.0,6.0,8.0,8.0,8.0,8.0,8.0,6.0,8.0,8.0,8.0,8.0,8.0,8.0,8.0,8.0,8.0,8.0,8.0,8.0,8.0,8.0,8.0,8.0,8.0,8.0,8.0,6.0,6.0,6.0,6.0,8.0,8.0,6.0,6.0,8.0,8.0,8.0,8.0,8.0,6.0,6.0,6.0,6.0,8.0,8.0,8.0,8.0,8.0,4.0,4.0,4.0,4.0,4.0,4.0,4.0,4.0,4.0,4.0,4.0,4.0,4.0,6.0,6.0,6.0,4.0,4.0,4.0,4.0,6.0,6.0,6.0,6.0,6.0,6.0,8.0,8.0,8.0,8.0,8.0,8.0,8.0,8.0,8.0,8.0,8.0,8.0,6.0,6.0,8.0,8.0,4.0,4.0,4.0,4.0,6.0,6.0,6.0,6.0,6.0,6.0,6.0,6.0,8.0,6.0,6.0,6.0,6.0,8.0,4.0,4.0,4.0,4.0,4.0,4.0,4.0,4.0,4.0,4.0,4.0,4.0,4.0,4.0,4.0,4.0,6.0,6.0,6.0,8.0,4.0,4.0,4.0,4.0,6.0,6.0,6.0,4.0,4.0,4.0,4.0,6.0,6.0,6.0,4.0,4.0,4.0,4.0,4.0,8.0,8.0,4.0,4.0,4.0,6.0,6.0,6.0,6.0,4.0,4.0,4.0,4.0,6.0,4.0,4.0,4.0,4.0,4.0,5.0,5.0,6.0,6.0,4.0,4.0,4.0,4.0,5.0,5.0,4.0,4.0,4.0,4.0,6.0,6.0,6.0],\n",
       "\"cty\":[18.0,21.0,20.0,21.0,16.0,18.0,18.0,18.0,16.0,20.0,19.0,15.0,17.0,17.0,15.0,15.0,17.0,16.0,14.0,11.0,14.0,13.0,12.0,16.0,15.0,16.0,15.0,15.0,14.0,11.0,11.0,14.0,19.0,22.0,18.0,18.0,17.0,18.0,17.0,16.0,16.0,17.0,17.0,11.0,15.0,15.0,16.0,16.0,15.0,14.0,13.0,14.0,14.0,14.0,9.0,11.0,11.0,13.0,13.0,9.0,13.0,11.0,13.0,11.0,12.0,9.0,13.0,13.0,12.0,9.0,11.0,11.0,13.0,11.0,11.0,11.0,12.0,14.0,15.0,14.0,13.0,13.0,13.0,14.0,14.0,13.0,13.0,13.0,11.0,13.0,18.0,18.0,17.0,16.0,15.0,15.0,15.0,15.0,14.0,28.0,24.0,25.0,23.0,24.0,26.0,25.0,24.0,21.0,18.0,18.0,21.0,21.0,18.0,18.0,19.0,19.0,19.0,20.0,20.0,17.0,16.0,17.0,17.0,15.0,15.0,14.0,9.0,14.0,13.0,11.0,11.0,12.0,12.0,11.0,11.0,11.0,12.0,14.0,13.0,13.0,13.0,21.0,19.0,23.0,23.0,19.0,19.0,18.0,19.0,19.0,14.0,15.0,14.0,12.0,18.0,16.0,17.0,18.0,16.0,18.0,18.0,20.0,19.0,20.0,18.0,21.0,19.0,19.0,19.0,20.0,20.0,19.0,20.0,15.0,16.0,15.0,15.0,16.0,14.0,21.0,21.0,21.0,21.0,18.0,18.0,19.0,21.0,21.0,21.0,22.0,18.0,18.0,18.0,24.0,24.0,26.0,28.0,26.0,11.0,13.0,15.0,16.0,17.0,15.0,15.0,15.0,16.0,21.0,19.0,21.0,22.0,17.0,33.0,21.0,19.0,22.0,21.0,21.0,21.0,16.0,17.0,35.0,29.0,21.0,19.0,20.0,20.0,21.0,18.0,19.0,21.0,16.0,18.0,17.0],\n",
       "\"hwy\":[29.0,29.0,31.0,30.0,26.0,26.0,27.0,26.0,25.0,28.0,27.0,25.0,25.0,25.0,25.0,24.0,25.0,23.0,20.0,15.0,20.0,17.0,17.0,26.0,23.0,26.0,25.0,24.0,19.0,14.0,15.0,17.0,27.0,30.0,26.0,29.0,26.0,24.0,24.0,22.0,22.0,24.0,24.0,17.0,22.0,21.0,23.0,23.0,19.0,18.0,17.0,17.0,19.0,19.0,12.0,17.0,15.0,17.0,17.0,12.0,17.0,16.0,18.0,15.0,16.0,12.0,17.0,17.0,16.0,12.0,15.0,16.0,17.0,15.0,17.0,17.0,18.0,17.0,19.0,17.0,19.0,19.0,17.0,17.0,17.0,16.0,16.0,17.0,15.0,17.0,26.0,25.0,26.0,24.0,21.0,22.0,23.0,22.0,20.0,33.0,32.0,32.0,29.0,32.0,34.0,36.0,36.0,29.0,26.0,27.0,30.0,31.0,26.0,26.0,28.0,26.0,29.0,28.0,27.0,24.0,24.0,24.0,22.0,19.0,20.0,17.0,12.0,19.0,18.0,14.0,15.0,18.0,18.0,15.0,17.0,16.0,18.0,17.0,19.0,19.0,17.0,29.0,27.0,31.0,32.0,27.0,26.0,26.0,25.0,25.0,17.0,17.0,20.0,18.0,26.0,26.0,27.0,28.0,25.0,25.0,24.0,27.0,25.0,26.0,23.0,26.0,26.0,26.0,26.0,25.0,27.0,25.0,27.0,20.0,20.0,19.0,17.0,20.0,17.0,29.0,27.0,31.0,31.0,26.0,26.0,28.0,27.0,29.0,31.0,31.0,26.0,26.0,27.0,30.0,33.0,35.0,37.0,35.0,15.0,18.0,20.0,20.0,22.0,17.0,19.0,18.0,20.0,29.0,26.0,29.0,29.0,24.0,44.0,29.0,26.0,29.0,29.0,29.0,29.0,23.0,24.0,44.0,41.0,29.0,26.0,28.0,29.0,29.0,29.0,28.0,29.0,26.0,26.0,26.0],\n",
       "\"class\":[\"compact\",\"compact\",\"compact\",\"compact\",\"compact\",\"compact\",\"compact\",\"compact\",\"compact\",\"compact\",\"compact\",\"compact\",\"compact\",\"compact\",\"compact\",\"midsize\",\"midsize\",\"midsize\",\"suv\",\"suv\",\"suv\",\"suv\",\"suv\",\"2seater\",\"2seater\",\"2seater\",\"2seater\",\"2seater\",\"suv\",\"suv\",\"suv\",\"suv\",\"midsize\",\"midsize\",\"midsize\",\"midsize\",\"midsize\",\"minivan\",\"minivan\",\"minivan\",\"minivan\",\"minivan\",\"minivan\",\"minivan\",\"minivan\",\"minivan\",\"minivan\",\"minivan\",\"pickup\",\"pickup\",\"pickup\",\"pickup\",\"pickup\",\"pickup\",\"pickup\",\"pickup\",\"pickup\",\"suv\",\"suv\",\"suv\",\"suv\",\"suv\",\"suv\",\"suv\",\"pickup\",\"pickup\",\"pickup\",\"pickup\",\"pickup\",\"pickup\",\"pickup\",\"pickup\",\"pickup\",\"pickup\",\"suv\",\"suv\",\"suv\",\"suv\",\"suv\",\"suv\",\"suv\",\"suv\",\"suv\",\"pickup\",\"pickup\",\"pickup\",\"pickup\",\"pickup\",\"pickup\",\"pickup\",\"subcompact\",\"subcompact\",\"subcompact\",\"subcompact\",\"subcompact\",\"subcompact\",\"subcompact\",\"subcompact\",\"subcompact\",\"subcompact\",\"subcompact\",\"subcompact\",\"subcompact\",\"subcompact\",\"subcompact\",\"subcompact\",\"subcompact\",\"subcompact\",\"midsize\",\"midsize\",\"midsize\",\"midsize\",\"midsize\",\"midsize\",\"midsize\",\"subcompact\",\"subcompact\",\"subcompact\",\"subcompact\",\"subcompact\",\"subcompact\",\"subcompact\",\"suv\",\"suv\",\"suv\",\"suv\",\"suv\",\"suv\",\"suv\",\"suv\",\"suv\",\"suv\",\"suv\",\"suv\",\"suv\",\"suv\",\"suv\",\"suv\",\"suv\",\"suv\",\"suv\",\"compact\",\"compact\",\"midsize\",\"midsize\",\"midsize\",\"midsize\",\"midsize\",\"midsize\",\"midsize\",\"suv\",\"suv\",\"suv\",\"suv\",\"midsize\",\"midsize\",\"midsize\",\"midsize\",\"midsize\",\"suv\",\"suv\",\"suv\",\"suv\",\"suv\",\"suv\",\"subcompact\",\"subcompact\",\"subcompact\",\"subcompact\",\"compact\",\"compact\",\"compact\",\"compact\",\"suv\",\"suv\",\"suv\",\"suv\",\"suv\",\"suv\",\"midsize\",\"midsize\",\"midsize\",\"midsize\",\"midsize\",\"midsize\",\"midsize\",\"compact\",\"compact\",\"compact\",\"compact\",\"compact\",\"compact\",\"compact\",\"compact\",\"compact\",\"compact\",\"compact\",\"compact\",\"suv\",\"suv\",\"pickup\",\"pickup\",\"pickup\",\"pickup\",\"pickup\",\"pickup\",\"pickup\",\"compact\",\"compact\",\"compact\",\"compact\",\"compact\",\"compact\",\"compact\",\"compact\",\"compact\",\"compact\",\"compact\",\"compact\",\"compact\",\"compact\",\"subcompact\",\"subcompact\",\"subcompact\",\"subcompact\",\"subcompact\",\"subcompact\",\"midsize\",\"midsize\",\"midsize\",\"midsize\",\"midsize\",\"midsize\",\"midsize\"]\n",
       "},\n",
       "\"mapping\":{\n",
       "\"x\":\"cty\",\n",
       "\"y\":\"hwy\"\n",
       "},\n",
       "\"data_meta\":{\n",
       "\"series_annotations\":[{\n",
       "\"type\":\"int\",\n",
       "\"column\":\"Unnamed: 0\"\n",
       "},{\n",
       "\"type\":\"str\",\n",
       "\"column\":\"manufacturer\"\n",
       "},{\n",
       "\"type\":\"str\",\n",
       "\"column\":\"model\"\n",
       "},{\n",
       "\"type\":\"float\",\n",
       "\"column\":\"displ\"\n",
       "},{\n",
       "\"type\":\"int\",\n",
       "\"column\":\"year\"\n",
       "},{\n",
       "\"type\":\"int\",\n",
       "\"column\":\"cyl\"\n",
       "},{\n",
       "\"type\":\"str\",\n",
       "\"column\":\"trans\"\n",
       "},{\n",
       "\"type\":\"str\",\n",
       "\"column\":\"drv\"\n",
       "},{\n",
       "\"type\":\"int\",\n",
       "\"column\":\"cty\"\n",
       "},{\n",
       "\"type\":\"int\",\n",
       "\"column\":\"hwy\"\n",
       "},{\n",
       "\"type\":\"str\",\n",
       "\"column\":\"fl\"\n",
       "},{\n",
       "\"type\":\"str\",\n",
       "\"column\":\"class\"\n",
       "}]\n",
       "},\n",
       "\"theme\":{\n",
       "\"name\":\"light\"\n",
       "},\n",
       "\"facet\":{\n",
       "\"name\":\"wrap\",\n",
       "\"facets\":\"cyl\",\n",
       "\"nrow\":1.0,\n",
       "\"order\":1.0,\n",
       "\"dir\":\"h\"\n",
       "},\n",
       "\"kind\":\"plot\",\n",
       "\"scales\":[],\n",
       "\"layers\":[{\n",
       "\"geom\":\"point\",\n",
       "\"mapping\":{\n",
       "\"color\":\"class\"\n",
       "},\n",
       "\"data_meta\":{\n",
       "},\n",
       "\"shape\":21.0,\n",
       "\"data\":{\n",
       "}\n",
       "}],\n",
       "\"metainfo_list\":[]\n",
       "};\n",
       "           var plotContainer = document.getElementById(\"K3VuaU\");\n",
       "           window.letsPlotCall(function() {{\n",
       "               LetsPlot.buildPlotFromProcessedSpecs(plotSpec, -1, -1, plotContainer);\n",
       "           }});\n",
       "       })();\n",
       "   </script>"
      ],
      "text/plain": [
       "<lets_plot.plot.core.PlotSpec at 0x1237834f0>"
      ]
     },
     "execution_count": 8,
     "metadata": {},
     "output_type": "execute_result"
    }
   ],
   "source": [
    "p + facet_wrap(facets=\"cyl\", nrow=1)"
   ]
  },
  {
   "attachments": {},
   "cell_type": "markdown",
   "metadata": {
    "datalore": {
     "hide_input_from_viewers": false,
     "hide_output_from_viewers": false,
     "node_id": "a4X8MWB6fKvfv2S06TYFcl",
     "report_properties": {
      "relativeY": 0,
      "rowId": "KPcjoedwLZ6efP4yVLEsC2"
     },
     "type": "MD"
    }
   },
   "source": [
    "**Two Facets**\n",
    "\n",
    "Here we will split up data by two variables `year` and `cyl`."
   ]
  },
  {
   "cell_type": "code",
   "execution_count": 9,
   "metadata": {
    "datalore": {
     "hide_input_from_viewers": false,
     "hide_output_from_viewers": false,
     "node_id": "8kogEuavTaXzjGRywfsloM",
     "report_properties": {
      "relativeY": 0,
      "rowId": "K3hl2RqIRy8D5XIQw78E4G"
     },
     "type": "CODE"
    },
    "execution": {
     "iopub.execute_input": "2024-09-27T18:24:11.309297Z",
     "iopub.status.busy": "2024-09-27T18:24:11.309229Z",
     "iopub.status.idle": "2024-09-27T18:24:11.313827Z",
     "shell.execute_reply": "2024-09-27T18:24:11.313625Z"
    }
   },
   "outputs": [
    {
     "data": {
      "text/html": [
       "   <div id=\"V8FCUR\"></div>\n",
       "   <script type=\"text/javascript\" data-lets-plot-script=\"plot\">\n",
       "       (function() {\n",
       "           var plotSpec={\n",
       "\"data\":{\n",
       "\"year\":[1999.0,1999.0,2008.0,2008.0,1999.0,1999.0,2008.0,1999.0,1999.0,2008.0,2008.0,1999.0,1999.0,2008.0,2008.0,1999.0,2008.0,2008.0,2008.0,2008.0,2008.0,1999.0,2008.0,1999.0,1999.0,2008.0,2008.0,2008.0,2008.0,2008.0,1999.0,1999.0,1999.0,2008.0,1999.0,2008.0,2008.0,1999.0,1999.0,1999.0,1999.0,2008.0,2008.0,2008.0,1999.0,1999.0,2008.0,2008.0,2008.0,2008.0,1999.0,1999.0,2008.0,2008.0,2008.0,1999.0,1999.0,1999.0,2008.0,2008.0,2008.0,1999.0,2008.0,1999.0,2008.0,2008.0,2008.0,2008.0,2008.0,2008.0,1999.0,1999.0,2008.0,1999.0,1999.0,1999.0,2008.0,1999.0,1999.0,1999.0,2008.0,2008.0,1999.0,1999.0,1999.0,1999.0,1999.0,2008.0,1999.0,2008.0,1999.0,1999.0,2008.0,2008.0,1999.0,1999.0,2008.0,2008.0,2008.0,1999.0,1999.0,1999.0,1999.0,1999.0,2008.0,2008.0,2008.0,2008.0,1999.0,1999.0,2008.0,2008.0,1999.0,1999.0,2008.0,1999.0,1999.0,2008.0,2008.0,2008.0,2008.0,2008.0,2008.0,2008.0,1999.0,1999.0,2008.0,2008.0,2008.0,2008.0,1999.0,2008.0,2008.0,1999.0,1999.0,1999.0,2008.0,1999.0,2008.0,2008.0,1999.0,1999.0,1999.0,2008.0,2008.0,2008.0,2008.0,1999.0,1999.0,2008.0,1999.0,1999.0,2008.0,2008.0,1999.0,1999.0,1999.0,2008.0,2008.0,1999.0,1999.0,2008.0,2008.0,2008.0,2008.0,1999.0,1999.0,1999.0,1999.0,2008.0,2008.0,2008.0,2008.0,1999.0,1999.0,1999.0,1999.0,2008.0,2008.0,1999.0,1999.0,2008.0,2008.0,1999.0,1999.0,2008.0,1999.0,1999.0,2008.0,2008.0,1999.0,1999.0,2008.0,1999.0,1999.0,1999.0,2008.0,2008.0,1999.0,2008.0,1999.0,1999.0,2008.0,1999.0,1999.0,2008.0,2008.0,1999.0,1999.0,2008.0,2008.0,1999.0,1999.0,1999.0,1999.0,2008.0,2008.0,2008.0,2008.0,1999.0,1999.0,1999.0,1999.0,1999.0,1999.0,2008.0,2008.0,1999.0,1999.0,2008.0,2008.0,1999.0,1999.0,2008.0],\n",
       "\"cyl\":[4.0,4.0,4.0,4.0,6.0,6.0,6.0,4.0,4.0,4.0,4.0,6.0,6.0,6.0,6.0,6.0,6.0,8.0,8.0,8.0,8.0,8.0,8.0,8.0,8.0,8.0,8.0,8.0,8.0,8.0,8.0,8.0,4.0,4.0,6.0,6.0,6.0,4.0,6.0,6.0,6.0,6.0,6.0,6.0,6.0,6.0,6.0,6.0,6.0,6.0,6.0,6.0,8.0,8.0,8.0,8.0,8.0,6.0,8.0,8.0,8.0,8.0,8.0,8.0,8.0,8.0,8.0,8.0,8.0,8.0,8.0,8.0,8.0,8.0,8.0,8.0,8.0,6.0,6.0,6.0,6.0,8.0,8.0,6.0,6.0,8.0,8.0,8.0,8.0,8.0,6.0,6.0,6.0,6.0,8.0,8.0,8.0,8.0,8.0,4.0,4.0,4.0,4.0,4.0,4.0,4.0,4.0,4.0,4.0,4.0,4.0,4.0,6.0,6.0,6.0,4.0,4.0,4.0,4.0,6.0,6.0,6.0,6.0,6.0,6.0,8.0,8.0,8.0,8.0,8.0,8.0,8.0,8.0,8.0,8.0,8.0,8.0,6.0,6.0,8.0,8.0,4.0,4.0,4.0,4.0,6.0,6.0,6.0,6.0,6.0,6.0,6.0,6.0,8.0,6.0,6.0,6.0,6.0,8.0,4.0,4.0,4.0,4.0,4.0,4.0,4.0,4.0,4.0,4.0,4.0,4.0,4.0,4.0,4.0,4.0,6.0,6.0,6.0,8.0,4.0,4.0,4.0,4.0,6.0,6.0,6.0,4.0,4.0,4.0,4.0,6.0,6.0,6.0,4.0,4.0,4.0,4.0,4.0,8.0,8.0,4.0,4.0,4.0,6.0,6.0,6.0,6.0,4.0,4.0,4.0,4.0,6.0,4.0,4.0,4.0,4.0,4.0,5.0,5.0,6.0,6.0,4.0,4.0,4.0,4.0,5.0,5.0,4.0,4.0,4.0,4.0,6.0,6.0,6.0],\n",
       "\"cty\":[18.0,21.0,20.0,21.0,16.0,18.0,18.0,18.0,16.0,20.0,19.0,15.0,17.0,17.0,15.0,15.0,17.0,16.0,14.0,11.0,14.0,13.0,12.0,16.0,15.0,16.0,15.0,15.0,14.0,11.0,11.0,14.0,19.0,22.0,18.0,18.0,17.0,18.0,17.0,16.0,16.0,17.0,17.0,11.0,15.0,15.0,16.0,16.0,15.0,14.0,13.0,14.0,14.0,14.0,9.0,11.0,11.0,13.0,13.0,9.0,13.0,11.0,13.0,11.0,12.0,9.0,13.0,13.0,12.0,9.0,11.0,11.0,13.0,11.0,11.0,11.0,12.0,14.0,15.0,14.0,13.0,13.0,13.0,14.0,14.0,13.0,13.0,13.0,11.0,13.0,18.0,18.0,17.0,16.0,15.0,15.0,15.0,15.0,14.0,28.0,24.0,25.0,23.0,24.0,26.0,25.0,24.0,21.0,18.0,18.0,21.0,21.0,18.0,18.0,19.0,19.0,19.0,20.0,20.0,17.0,16.0,17.0,17.0,15.0,15.0,14.0,9.0,14.0,13.0,11.0,11.0,12.0,12.0,11.0,11.0,11.0,12.0,14.0,13.0,13.0,13.0,21.0,19.0,23.0,23.0,19.0,19.0,18.0,19.0,19.0,14.0,15.0,14.0,12.0,18.0,16.0,17.0,18.0,16.0,18.0,18.0,20.0,19.0,20.0,18.0,21.0,19.0,19.0,19.0,20.0,20.0,19.0,20.0,15.0,16.0,15.0,15.0,16.0,14.0,21.0,21.0,21.0,21.0,18.0,18.0,19.0,21.0,21.0,21.0,22.0,18.0,18.0,18.0,24.0,24.0,26.0,28.0,26.0,11.0,13.0,15.0,16.0,17.0,15.0,15.0,15.0,16.0,21.0,19.0,21.0,22.0,17.0,33.0,21.0,19.0,22.0,21.0,21.0,21.0,16.0,17.0,35.0,29.0,21.0,19.0,20.0,20.0,21.0,18.0,19.0,21.0,16.0,18.0,17.0],\n",
       "\"hwy\":[29.0,29.0,31.0,30.0,26.0,26.0,27.0,26.0,25.0,28.0,27.0,25.0,25.0,25.0,25.0,24.0,25.0,23.0,20.0,15.0,20.0,17.0,17.0,26.0,23.0,26.0,25.0,24.0,19.0,14.0,15.0,17.0,27.0,30.0,26.0,29.0,26.0,24.0,24.0,22.0,22.0,24.0,24.0,17.0,22.0,21.0,23.0,23.0,19.0,18.0,17.0,17.0,19.0,19.0,12.0,17.0,15.0,17.0,17.0,12.0,17.0,16.0,18.0,15.0,16.0,12.0,17.0,17.0,16.0,12.0,15.0,16.0,17.0,15.0,17.0,17.0,18.0,17.0,19.0,17.0,19.0,19.0,17.0,17.0,17.0,16.0,16.0,17.0,15.0,17.0,26.0,25.0,26.0,24.0,21.0,22.0,23.0,22.0,20.0,33.0,32.0,32.0,29.0,32.0,34.0,36.0,36.0,29.0,26.0,27.0,30.0,31.0,26.0,26.0,28.0,26.0,29.0,28.0,27.0,24.0,24.0,24.0,22.0,19.0,20.0,17.0,12.0,19.0,18.0,14.0,15.0,18.0,18.0,15.0,17.0,16.0,18.0,17.0,19.0,19.0,17.0,29.0,27.0,31.0,32.0,27.0,26.0,26.0,25.0,25.0,17.0,17.0,20.0,18.0,26.0,26.0,27.0,28.0,25.0,25.0,24.0,27.0,25.0,26.0,23.0,26.0,26.0,26.0,26.0,25.0,27.0,25.0,27.0,20.0,20.0,19.0,17.0,20.0,17.0,29.0,27.0,31.0,31.0,26.0,26.0,28.0,27.0,29.0,31.0,31.0,26.0,26.0,27.0,30.0,33.0,35.0,37.0,35.0,15.0,18.0,20.0,20.0,22.0,17.0,19.0,18.0,20.0,29.0,26.0,29.0,29.0,24.0,44.0,29.0,26.0,29.0,29.0,29.0,29.0,23.0,24.0,44.0,41.0,29.0,26.0,28.0,29.0,29.0,29.0,28.0,29.0,26.0,26.0,26.0],\n",
       "\"class\":[\"compact\",\"compact\",\"compact\",\"compact\",\"compact\",\"compact\",\"compact\",\"compact\",\"compact\",\"compact\",\"compact\",\"compact\",\"compact\",\"compact\",\"compact\",\"midsize\",\"midsize\",\"midsize\",\"suv\",\"suv\",\"suv\",\"suv\",\"suv\",\"2seater\",\"2seater\",\"2seater\",\"2seater\",\"2seater\",\"suv\",\"suv\",\"suv\",\"suv\",\"midsize\",\"midsize\",\"midsize\",\"midsize\",\"midsize\",\"minivan\",\"minivan\",\"minivan\",\"minivan\",\"minivan\",\"minivan\",\"minivan\",\"minivan\",\"minivan\",\"minivan\",\"minivan\",\"pickup\",\"pickup\",\"pickup\",\"pickup\",\"pickup\",\"pickup\",\"pickup\",\"pickup\",\"pickup\",\"suv\",\"suv\",\"suv\",\"suv\",\"suv\",\"suv\",\"suv\",\"pickup\",\"pickup\",\"pickup\",\"pickup\",\"pickup\",\"pickup\",\"pickup\",\"pickup\",\"pickup\",\"pickup\",\"suv\",\"suv\",\"suv\",\"suv\",\"suv\",\"suv\",\"suv\",\"suv\",\"suv\",\"pickup\",\"pickup\",\"pickup\",\"pickup\",\"pickup\",\"pickup\",\"pickup\",\"subcompact\",\"subcompact\",\"subcompact\",\"subcompact\",\"subcompact\",\"subcompact\",\"subcompact\",\"subcompact\",\"subcompact\",\"subcompact\",\"subcompact\",\"subcompact\",\"subcompact\",\"subcompact\",\"subcompact\",\"subcompact\",\"subcompact\",\"subcompact\",\"midsize\",\"midsize\",\"midsize\",\"midsize\",\"midsize\",\"midsize\",\"midsize\",\"subcompact\",\"subcompact\",\"subcompact\",\"subcompact\",\"subcompact\",\"subcompact\",\"subcompact\",\"suv\",\"suv\",\"suv\",\"suv\",\"suv\",\"suv\",\"suv\",\"suv\",\"suv\",\"suv\",\"suv\",\"suv\",\"suv\",\"suv\",\"suv\",\"suv\",\"suv\",\"suv\",\"suv\",\"compact\",\"compact\",\"midsize\",\"midsize\",\"midsize\",\"midsize\",\"midsize\",\"midsize\",\"midsize\",\"suv\",\"suv\",\"suv\",\"suv\",\"midsize\",\"midsize\",\"midsize\",\"midsize\",\"midsize\",\"suv\",\"suv\",\"suv\",\"suv\",\"suv\",\"suv\",\"subcompact\",\"subcompact\",\"subcompact\",\"subcompact\",\"compact\",\"compact\",\"compact\",\"compact\",\"suv\",\"suv\",\"suv\",\"suv\",\"suv\",\"suv\",\"midsize\",\"midsize\",\"midsize\",\"midsize\",\"midsize\",\"midsize\",\"midsize\",\"compact\",\"compact\",\"compact\",\"compact\",\"compact\",\"compact\",\"compact\",\"compact\",\"compact\",\"compact\",\"compact\",\"compact\",\"suv\",\"suv\",\"pickup\",\"pickup\",\"pickup\",\"pickup\",\"pickup\",\"pickup\",\"pickup\",\"compact\",\"compact\",\"compact\",\"compact\",\"compact\",\"compact\",\"compact\",\"compact\",\"compact\",\"compact\",\"compact\",\"compact\",\"compact\",\"compact\",\"subcompact\",\"subcompact\",\"subcompact\",\"subcompact\",\"subcompact\",\"subcompact\",\"midsize\",\"midsize\",\"midsize\",\"midsize\",\"midsize\",\"midsize\",\"midsize\"]\n",
       "},\n",
       "\"mapping\":{\n",
       "\"x\":\"cty\",\n",
       "\"y\":\"hwy\"\n",
       "},\n",
       "\"data_meta\":{\n",
       "\"series_annotations\":[{\n",
       "\"type\":\"int\",\n",
       "\"column\":\"Unnamed: 0\"\n",
       "},{\n",
       "\"type\":\"str\",\n",
       "\"column\":\"manufacturer\"\n",
       "},{\n",
       "\"type\":\"str\",\n",
       "\"column\":\"model\"\n",
       "},{\n",
       "\"type\":\"float\",\n",
       "\"column\":\"displ\"\n",
       "},{\n",
       "\"type\":\"int\",\n",
       "\"column\":\"year\"\n",
       "},{\n",
       "\"type\":\"int\",\n",
       "\"column\":\"cyl\"\n",
       "},{\n",
       "\"type\":\"str\",\n",
       "\"column\":\"trans\"\n",
       "},{\n",
       "\"type\":\"str\",\n",
       "\"column\":\"drv\"\n",
       "},{\n",
       "\"type\":\"int\",\n",
       "\"column\":\"cty\"\n",
       "},{\n",
       "\"type\":\"int\",\n",
       "\"column\":\"hwy\"\n",
       "},{\n",
       "\"type\":\"str\",\n",
       "\"column\":\"fl\"\n",
       "},{\n",
       "\"type\":\"str\",\n",
       "\"column\":\"class\"\n",
       "}]\n",
       "},\n",
       "\"theme\":{\n",
       "\"name\":\"light\"\n",
       "},\n",
       "\"facet\":{\n",
       "\"name\":\"wrap\",\n",
       "\"facets\":[\"year\",\"cyl\"],\n",
       "\"order\":1.0,\n",
       "\"dir\":\"h\"\n",
       "},\n",
       "\"kind\":\"plot\",\n",
       "\"scales\":[],\n",
       "\"layers\":[{\n",
       "\"geom\":\"point\",\n",
       "\"mapping\":{\n",
       "\"color\":\"class\"\n",
       "},\n",
       "\"data_meta\":{\n",
       "},\n",
       "\"shape\":21.0,\n",
       "\"data\":{\n",
       "}\n",
       "}],\n",
       "\"metainfo_list\":[]\n",
       "};\n",
       "           var plotContainer = document.getElementById(\"V8FCUR\");\n",
       "           window.letsPlotCall(function() {{\n",
       "               LetsPlot.buildPlotFromProcessedSpecs(plotSpec, -1, -1, plotContainer);\n",
       "           }});\n",
       "       })();\n",
       "   </script>"
      ],
      "text/plain": [
       "<lets_plot.plot.core.PlotSpec at 0x1237d9ab0>"
      ]
     },
     "execution_count": 9,
     "metadata": {},
     "output_type": "execute_result"
    }
   ],
   "source": [
    "p + facet_wrap(facets=[\"year\", \"cyl\"])"
   ]
  },
  {
   "attachments": {},
   "cell_type": "markdown",
   "metadata": {
    "datalore": {
     "hide_input_from_viewers": false,
     "hide_output_from_viewers": false,
     "node_id": "7yEIvMtO6wp1UNlIivAhbX",
     "report_properties": {
      "relativeY": 0,
      "rowId": "426R2GIU51nIE5nes5IhjO"
     },
     "type": "MD"
    }
   },
   "source": [
    "**Arranging Panels Vertically**\n",
    "\n",
    "You can use the `dir` parameter to arrange tiles vertically. The default tile arrangment is by row.\n",
    "\n",
    "Also, let's format `cyls` labels and change the sorting direction for this facetting variable."
   ]
  },
  {
   "cell_type": "code",
   "execution_count": 10,
   "metadata": {
    "datalore": {
     "hide_input_from_viewers": false,
     "hide_output_from_viewers": false,
     "node_id": "WlBtwZqqoom4v93AFAgSGu",
     "report_properties": {
      "relativeY": 0,
      "rowId": "zzmaJpuYmYMF5JSvrUoEvu"
     },
     "type": "CODE"
    },
    "execution": {
     "iopub.execute_input": "2024-09-27T18:24:11.314868Z",
     "iopub.status.busy": "2024-09-27T18:24:11.314797Z",
     "iopub.status.idle": "2024-09-27T18:24:11.319711Z",
     "shell.execute_reply": "2024-09-27T18:24:11.319499Z"
    }
   },
   "outputs": [
    {
     "data": {
      "text/html": [
       "   <div id=\"zFtbyE\"></div>\n",
       "   <script type=\"text/javascript\" data-lets-plot-script=\"plot\">\n",
       "       (function() {\n",
       "           var plotSpec={\n",
       "\"data\":{\n",
       "\"year\":[1999.0,1999.0,2008.0,2008.0,1999.0,1999.0,2008.0,1999.0,1999.0,2008.0,2008.0,1999.0,1999.0,2008.0,2008.0,1999.0,2008.0,2008.0,2008.0,2008.0,2008.0,1999.0,2008.0,1999.0,1999.0,2008.0,2008.0,2008.0,2008.0,2008.0,1999.0,1999.0,1999.0,2008.0,1999.0,2008.0,2008.0,1999.0,1999.0,1999.0,1999.0,2008.0,2008.0,2008.0,1999.0,1999.0,2008.0,2008.0,2008.0,2008.0,1999.0,1999.0,2008.0,2008.0,2008.0,1999.0,1999.0,1999.0,2008.0,2008.0,2008.0,1999.0,2008.0,1999.0,2008.0,2008.0,2008.0,2008.0,2008.0,2008.0,1999.0,1999.0,2008.0,1999.0,1999.0,1999.0,2008.0,1999.0,1999.0,1999.0,2008.0,2008.0,1999.0,1999.0,1999.0,1999.0,1999.0,2008.0,1999.0,2008.0,1999.0,1999.0,2008.0,2008.0,1999.0,1999.0,2008.0,2008.0,2008.0,1999.0,1999.0,1999.0,1999.0,1999.0,2008.0,2008.0,2008.0,2008.0,1999.0,1999.0,2008.0,2008.0,1999.0,1999.0,2008.0,1999.0,1999.0,2008.0,2008.0,2008.0,2008.0,2008.0,2008.0,2008.0,1999.0,1999.0,2008.0,2008.0,2008.0,2008.0,1999.0,2008.0,2008.0,1999.0,1999.0,1999.0,2008.0,1999.0,2008.0,2008.0,1999.0,1999.0,1999.0,2008.0,2008.0,2008.0,2008.0,1999.0,1999.0,2008.0,1999.0,1999.0,2008.0,2008.0,1999.0,1999.0,1999.0,2008.0,2008.0,1999.0,1999.0,2008.0,2008.0,2008.0,2008.0,1999.0,1999.0,1999.0,1999.0,2008.0,2008.0,2008.0,2008.0,1999.0,1999.0,1999.0,1999.0,2008.0,2008.0,1999.0,1999.0,2008.0,2008.0,1999.0,1999.0,2008.0,1999.0,1999.0,2008.0,2008.0,1999.0,1999.0,2008.0,1999.0,1999.0,1999.0,2008.0,2008.0,1999.0,2008.0,1999.0,1999.0,2008.0,1999.0,1999.0,2008.0,2008.0,1999.0,1999.0,2008.0,2008.0,1999.0,1999.0,1999.0,1999.0,2008.0,2008.0,2008.0,2008.0,1999.0,1999.0,1999.0,1999.0,1999.0,1999.0,2008.0,2008.0,1999.0,1999.0,2008.0,2008.0,1999.0,1999.0,2008.0],\n",
       "\"cyl\":[4.0,4.0,4.0,4.0,6.0,6.0,6.0,4.0,4.0,4.0,4.0,6.0,6.0,6.0,6.0,6.0,6.0,8.0,8.0,8.0,8.0,8.0,8.0,8.0,8.0,8.0,8.0,8.0,8.0,8.0,8.0,8.0,4.0,4.0,6.0,6.0,6.0,4.0,6.0,6.0,6.0,6.0,6.0,6.0,6.0,6.0,6.0,6.0,6.0,6.0,6.0,6.0,8.0,8.0,8.0,8.0,8.0,6.0,8.0,8.0,8.0,8.0,8.0,8.0,8.0,8.0,8.0,8.0,8.0,8.0,8.0,8.0,8.0,8.0,8.0,8.0,8.0,6.0,6.0,6.0,6.0,8.0,8.0,6.0,6.0,8.0,8.0,8.0,8.0,8.0,6.0,6.0,6.0,6.0,8.0,8.0,8.0,8.0,8.0,4.0,4.0,4.0,4.0,4.0,4.0,4.0,4.0,4.0,4.0,4.0,4.0,4.0,6.0,6.0,6.0,4.0,4.0,4.0,4.0,6.0,6.0,6.0,6.0,6.0,6.0,8.0,8.0,8.0,8.0,8.0,8.0,8.0,8.0,8.0,8.0,8.0,8.0,6.0,6.0,8.0,8.0,4.0,4.0,4.0,4.0,6.0,6.0,6.0,6.0,6.0,6.0,6.0,6.0,8.0,6.0,6.0,6.0,6.0,8.0,4.0,4.0,4.0,4.0,4.0,4.0,4.0,4.0,4.0,4.0,4.0,4.0,4.0,4.0,4.0,4.0,6.0,6.0,6.0,8.0,4.0,4.0,4.0,4.0,6.0,6.0,6.0,4.0,4.0,4.0,4.0,6.0,6.0,6.0,4.0,4.0,4.0,4.0,4.0,8.0,8.0,4.0,4.0,4.0,6.0,6.0,6.0,6.0,4.0,4.0,4.0,4.0,6.0,4.0,4.0,4.0,4.0,4.0,5.0,5.0,6.0,6.0,4.0,4.0,4.0,4.0,5.0,5.0,4.0,4.0,4.0,4.0,6.0,6.0,6.0],\n",
       "\"cty\":[18.0,21.0,20.0,21.0,16.0,18.0,18.0,18.0,16.0,20.0,19.0,15.0,17.0,17.0,15.0,15.0,17.0,16.0,14.0,11.0,14.0,13.0,12.0,16.0,15.0,16.0,15.0,15.0,14.0,11.0,11.0,14.0,19.0,22.0,18.0,18.0,17.0,18.0,17.0,16.0,16.0,17.0,17.0,11.0,15.0,15.0,16.0,16.0,15.0,14.0,13.0,14.0,14.0,14.0,9.0,11.0,11.0,13.0,13.0,9.0,13.0,11.0,13.0,11.0,12.0,9.0,13.0,13.0,12.0,9.0,11.0,11.0,13.0,11.0,11.0,11.0,12.0,14.0,15.0,14.0,13.0,13.0,13.0,14.0,14.0,13.0,13.0,13.0,11.0,13.0,18.0,18.0,17.0,16.0,15.0,15.0,15.0,15.0,14.0,28.0,24.0,25.0,23.0,24.0,26.0,25.0,24.0,21.0,18.0,18.0,21.0,21.0,18.0,18.0,19.0,19.0,19.0,20.0,20.0,17.0,16.0,17.0,17.0,15.0,15.0,14.0,9.0,14.0,13.0,11.0,11.0,12.0,12.0,11.0,11.0,11.0,12.0,14.0,13.0,13.0,13.0,21.0,19.0,23.0,23.0,19.0,19.0,18.0,19.0,19.0,14.0,15.0,14.0,12.0,18.0,16.0,17.0,18.0,16.0,18.0,18.0,20.0,19.0,20.0,18.0,21.0,19.0,19.0,19.0,20.0,20.0,19.0,20.0,15.0,16.0,15.0,15.0,16.0,14.0,21.0,21.0,21.0,21.0,18.0,18.0,19.0,21.0,21.0,21.0,22.0,18.0,18.0,18.0,24.0,24.0,26.0,28.0,26.0,11.0,13.0,15.0,16.0,17.0,15.0,15.0,15.0,16.0,21.0,19.0,21.0,22.0,17.0,33.0,21.0,19.0,22.0,21.0,21.0,21.0,16.0,17.0,35.0,29.0,21.0,19.0,20.0,20.0,21.0,18.0,19.0,21.0,16.0,18.0,17.0],\n",
       "\"hwy\":[29.0,29.0,31.0,30.0,26.0,26.0,27.0,26.0,25.0,28.0,27.0,25.0,25.0,25.0,25.0,24.0,25.0,23.0,20.0,15.0,20.0,17.0,17.0,26.0,23.0,26.0,25.0,24.0,19.0,14.0,15.0,17.0,27.0,30.0,26.0,29.0,26.0,24.0,24.0,22.0,22.0,24.0,24.0,17.0,22.0,21.0,23.0,23.0,19.0,18.0,17.0,17.0,19.0,19.0,12.0,17.0,15.0,17.0,17.0,12.0,17.0,16.0,18.0,15.0,16.0,12.0,17.0,17.0,16.0,12.0,15.0,16.0,17.0,15.0,17.0,17.0,18.0,17.0,19.0,17.0,19.0,19.0,17.0,17.0,17.0,16.0,16.0,17.0,15.0,17.0,26.0,25.0,26.0,24.0,21.0,22.0,23.0,22.0,20.0,33.0,32.0,32.0,29.0,32.0,34.0,36.0,36.0,29.0,26.0,27.0,30.0,31.0,26.0,26.0,28.0,26.0,29.0,28.0,27.0,24.0,24.0,24.0,22.0,19.0,20.0,17.0,12.0,19.0,18.0,14.0,15.0,18.0,18.0,15.0,17.0,16.0,18.0,17.0,19.0,19.0,17.0,29.0,27.0,31.0,32.0,27.0,26.0,26.0,25.0,25.0,17.0,17.0,20.0,18.0,26.0,26.0,27.0,28.0,25.0,25.0,24.0,27.0,25.0,26.0,23.0,26.0,26.0,26.0,26.0,25.0,27.0,25.0,27.0,20.0,20.0,19.0,17.0,20.0,17.0,29.0,27.0,31.0,31.0,26.0,26.0,28.0,27.0,29.0,31.0,31.0,26.0,26.0,27.0,30.0,33.0,35.0,37.0,35.0,15.0,18.0,20.0,20.0,22.0,17.0,19.0,18.0,20.0,29.0,26.0,29.0,29.0,24.0,44.0,29.0,26.0,29.0,29.0,29.0,29.0,23.0,24.0,44.0,41.0,29.0,26.0,28.0,29.0,29.0,29.0,28.0,29.0,26.0,26.0,26.0],\n",
       "\"class\":[\"compact\",\"compact\",\"compact\",\"compact\",\"compact\",\"compact\",\"compact\",\"compact\",\"compact\",\"compact\",\"compact\",\"compact\",\"compact\",\"compact\",\"compact\",\"midsize\",\"midsize\",\"midsize\",\"suv\",\"suv\",\"suv\",\"suv\",\"suv\",\"2seater\",\"2seater\",\"2seater\",\"2seater\",\"2seater\",\"suv\",\"suv\",\"suv\",\"suv\",\"midsize\",\"midsize\",\"midsize\",\"midsize\",\"midsize\",\"minivan\",\"minivan\",\"minivan\",\"minivan\",\"minivan\",\"minivan\",\"minivan\",\"minivan\",\"minivan\",\"minivan\",\"minivan\",\"pickup\",\"pickup\",\"pickup\",\"pickup\",\"pickup\",\"pickup\",\"pickup\",\"pickup\",\"pickup\",\"suv\",\"suv\",\"suv\",\"suv\",\"suv\",\"suv\",\"suv\",\"pickup\",\"pickup\",\"pickup\",\"pickup\",\"pickup\",\"pickup\",\"pickup\",\"pickup\",\"pickup\",\"pickup\",\"suv\",\"suv\",\"suv\",\"suv\",\"suv\",\"suv\",\"suv\",\"suv\",\"suv\",\"pickup\",\"pickup\",\"pickup\",\"pickup\",\"pickup\",\"pickup\",\"pickup\",\"subcompact\",\"subcompact\",\"subcompact\",\"subcompact\",\"subcompact\",\"subcompact\",\"subcompact\",\"subcompact\",\"subcompact\",\"subcompact\",\"subcompact\",\"subcompact\",\"subcompact\",\"subcompact\",\"subcompact\",\"subcompact\",\"subcompact\",\"subcompact\",\"midsize\",\"midsize\",\"midsize\",\"midsize\",\"midsize\",\"midsize\",\"midsize\",\"subcompact\",\"subcompact\",\"subcompact\",\"subcompact\",\"subcompact\",\"subcompact\",\"subcompact\",\"suv\",\"suv\",\"suv\",\"suv\",\"suv\",\"suv\",\"suv\",\"suv\",\"suv\",\"suv\",\"suv\",\"suv\",\"suv\",\"suv\",\"suv\",\"suv\",\"suv\",\"suv\",\"suv\",\"compact\",\"compact\",\"midsize\",\"midsize\",\"midsize\",\"midsize\",\"midsize\",\"midsize\",\"midsize\",\"suv\",\"suv\",\"suv\",\"suv\",\"midsize\",\"midsize\",\"midsize\",\"midsize\",\"midsize\",\"suv\",\"suv\",\"suv\",\"suv\",\"suv\",\"suv\",\"subcompact\",\"subcompact\",\"subcompact\",\"subcompact\",\"compact\",\"compact\",\"compact\",\"compact\",\"suv\",\"suv\",\"suv\",\"suv\",\"suv\",\"suv\",\"midsize\",\"midsize\",\"midsize\",\"midsize\",\"midsize\",\"midsize\",\"midsize\",\"compact\",\"compact\",\"compact\",\"compact\",\"compact\",\"compact\",\"compact\",\"compact\",\"compact\",\"compact\",\"compact\",\"compact\",\"suv\",\"suv\",\"pickup\",\"pickup\",\"pickup\",\"pickup\",\"pickup\",\"pickup\",\"pickup\",\"compact\",\"compact\",\"compact\",\"compact\",\"compact\",\"compact\",\"compact\",\"compact\",\"compact\",\"compact\",\"compact\",\"compact\",\"compact\",\"compact\",\"subcompact\",\"subcompact\",\"subcompact\",\"subcompact\",\"subcompact\",\"subcompact\",\"midsize\",\"midsize\",\"midsize\",\"midsize\",\"midsize\",\"midsize\",\"midsize\"]\n",
       "},\n",
       "\"mapping\":{\n",
       "\"x\":\"cty\",\n",
       "\"y\":\"hwy\"\n",
       "},\n",
       "\"data_meta\":{\n",
       "\"series_annotations\":[{\n",
       "\"type\":\"int\",\n",
       "\"column\":\"Unnamed: 0\"\n",
       "},{\n",
       "\"type\":\"str\",\n",
       "\"column\":\"manufacturer\"\n",
       "},{\n",
       "\"type\":\"str\",\n",
       "\"column\":\"model\"\n",
       "},{\n",
       "\"type\":\"float\",\n",
       "\"column\":\"displ\"\n",
       "},{\n",
       "\"type\":\"int\",\n",
       "\"column\":\"year\"\n",
       "},{\n",
       "\"type\":\"int\",\n",
       "\"column\":\"cyl\"\n",
       "},{\n",
       "\"type\":\"str\",\n",
       "\"column\":\"trans\"\n",
       "},{\n",
       "\"type\":\"str\",\n",
       "\"column\":\"drv\"\n",
       "},{\n",
       "\"type\":\"int\",\n",
       "\"column\":\"cty\"\n",
       "},{\n",
       "\"type\":\"int\",\n",
       "\"column\":\"hwy\"\n",
       "},{\n",
       "\"type\":\"str\",\n",
       "\"column\":\"fl\"\n",
       "},{\n",
       "\"type\":\"str\",\n",
       "\"column\":\"class\"\n",
       "}]\n",
       "},\n",
       "\"theme\":{\n",
       "\"name\":\"light\"\n",
       "},\n",
       "\"facet\":{\n",
       "\"name\":\"wrap\",\n",
       "\"facets\":[\"year\",\"cyl\"],\n",
       "\"order\":[1.0,-1.0],\n",
       "\"format\":[null,\"{} cyl\"],\n",
       "\"dir\":\"v\"\n",
       "},\n",
       "\"kind\":\"plot\",\n",
       "\"scales\":[],\n",
       "\"layers\":[{\n",
       "\"geom\":\"point\",\n",
       "\"mapping\":{\n",
       "\"color\":\"class\"\n",
       "},\n",
       "\"data_meta\":{\n",
       "},\n",
       "\"shape\":21.0,\n",
       "\"data\":{\n",
       "}\n",
       "}],\n",
       "\"metainfo_list\":[]\n",
       "};\n",
       "           var plotContainer = document.getElementById(\"zFtbyE\");\n",
       "           window.letsPlotCall(function() {{\n",
       "               LetsPlot.buildPlotFromProcessedSpecs(plotSpec, -1, -1, plotContainer);\n",
       "           }});\n",
       "       })();\n",
       "   </script>"
      ],
      "text/plain": [
       "<lets_plot.plot.core.PlotSpec at 0x123a6e620>"
      ]
     },
     "execution_count": 10,
     "metadata": {},
     "output_type": "execute_result"
    }
   ],
   "source": [
    "p + facet_wrap(facets=[\"year\", \"cyl\"], \n",
    "               format=[None, \"{} cyl\"],\n",
    "               order=[1, -1], dir=\"v\")"
   ]
  },
  {
   "attachments": {},
   "cell_type": "markdown",
   "metadata": {
    "datalore": {
     "hide_input_from_viewers": false,
     "hide_output_from_viewers": false,
     "node_id": "I0KkaQw7CDmx8b8YRBz3Sx",
     "report_properties": {
      "relativeY": 0,
      "rowId": "9Tg5OgOIvE5VOA8eOoFrsV"
     },
     "type": "MD"
    }
   },
   "source": [
    "## Free Scales on Faceted Plot"
   ]
  },
  {
   "attachments": {},
   "cell_type": "markdown",
   "metadata": {
    "datalore": {
     "hide_input_from_viewers": false,
     "hide_output_from_viewers": false,
     "node_id": "eXeYKTEO6cYRhHnQO6dHiN",
     "report_properties": {
      "relativeY": 0,
      "rowId": "bvSpMvB1JLtVw3waRAsfeC"
     },
     "type": "MD"
    }
   },
   "source": [
    "### facet_grid()\n",
    "\n",
    "By default, in `facet_grid()` scales are constant across all panels."
   ]
  },
  {
   "cell_type": "code",
   "execution_count": 11,
   "metadata": {
    "datalore": {
     "hide_input_from_viewers": false,
     "hide_output_from_viewers": false,
     "node_id": "OryD16sZaxomL7VyYWC47f",
     "report_properties": {
      "relativeY": 0,
      "rowId": "lFiHpUU7I76LvxD9GtWpDq"
     },
     "type": "CODE"
    },
    "execution": {
     "iopub.execute_input": "2024-09-27T18:24:11.320788Z",
     "iopub.status.busy": "2024-09-27T18:24:11.320720Z",
     "iopub.status.idle": "2024-09-27T18:24:11.327262Z",
     "shell.execute_reply": "2024-09-27T18:24:11.327060Z"
    }
   },
   "outputs": [
    {
     "data": {
      "text/html": [
       "   <div id=\"QxDleB\"></div>\n",
       "   <script type=\"text/javascript\" data-lets-plot-script=\"plot\">\n",
       "       (function() {\n",
       "           var plotSpec={\n",
       "\"ggsize\":{\n",
       "\"width\":1200.0,\n",
       "\"height\":800.0\n",
       "},\n",
       "\"kind\":\"subplots\",\n",
       "\"layout\":{\n",
       "\"ncol\":2.0,\n",
       "\"nrow\":1.0,\n",
       "\"name\":\"grid\"\n",
       "},\n",
       "\"figures\":[{\n",
       "\"data\":{\n",
       "\"cyl\":[4.0,4.0,4.0,4.0,6.0,6.0,6.0,4.0,4.0,4.0,4.0,6.0,6.0,6.0,6.0,6.0,6.0,8.0,8.0,8.0,8.0,8.0,8.0,8.0,8.0,8.0,8.0,8.0,8.0,8.0,8.0,8.0,4.0,4.0,6.0,6.0,6.0,4.0,6.0,6.0,6.0,6.0,6.0,6.0,6.0,6.0,6.0,6.0,6.0,6.0,6.0,6.0,8.0,8.0,8.0,8.0,8.0,6.0,8.0,8.0,8.0,8.0,8.0,8.0,8.0,8.0,8.0,8.0,8.0,8.0,8.0,8.0,8.0,8.0,8.0,8.0,8.0,6.0,6.0,6.0,6.0,8.0,8.0,6.0,6.0,8.0,8.0,8.0,8.0,8.0,6.0,6.0,6.0,6.0,8.0,8.0,8.0,8.0,8.0,4.0,4.0,4.0,4.0,4.0,4.0,4.0,4.0,4.0,4.0,4.0,4.0,4.0,6.0,6.0,6.0,4.0,4.0,4.0,4.0,6.0,6.0,6.0,6.0,6.0,6.0,8.0,8.0,8.0,8.0,8.0,8.0,8.0,8.0,8.0,8.0,8.0,8.0,6.0,6.0,8.0,8.0,4.0,4.0,4.0,4.0,6.0,6.0,6.0,6.0,6.0,6.0,6.0,6.0,8.0,6.0,6.0,6.0,6.0,8.0,4.0,4.0,4.0,4.0,4.0,4.0,4.0,4.0,4.0,4.0,4.0,4.0,4.0,4.0,4.0,4.0,6.0,6.0,6.0,8.0,4.0,4.0,4.0,4.0,6.0,6.0,6.0,4.0,4.0,4.0,4.0,6.0,6.0,6.0,4.0,4.0,4.0,4.0,4.0,8.0,8.0,4.0,4.0,4.0,6.0,6.0,6.0,6.0,4.0,4.0,4.0,4.0,6.0,4.0,4.0,4.0,4.0,4.0,5.0,5.0,6.0,6.0,4.0,4.0,4.0,4.0,5.0,5.0,4.0,4.0,4.0,4.0,6.0,6.0,6.0],\n",
       "\"cty\":[18.0,21.0,20.0,21.0,16.0,18.0,18.0,18.0,16.0,20.0,19.0,15.0,17.0,17.0,15.0,15.0,17.0,16.0,14.0,11.0,14.0,13.0,12.0,16.0,15.0,16.0,15.0,15.0,14.0,11.0,11.0,14.0,19.0,22.0,18.0,18.0,17.0,18.0,17.0,16.0,16.0,17.0,17.0,11.0,15.0,15.0,16.0,16.0,15.0,14.0,13.0,14.0,14.0,14.0,9.0,11.0,11.0,13.0,13.0,9.0,13.0,11.0,13.0,11.0,12.0,9.0,13.0,13.0,12.0,9.0,11.0,11.0,13.0,11.0,11.0,11.0,12.0,14.0,15.0,14.0,13.0,13.0,13.0,14.0,14.0,13.0,13.0,13.0,11.0,13.0,18.0,18.0,17.0,16.0,15.0,15.0,15.0,15.0,14.0,28.0,24.0,25.0,23.0,24.0,26.0,25.0,24.0,21.0,18.0,18.0,21.0,21.0,18.0,18.0,19.0,19.0,19.0,20.0,20.0,17.0,16.0,17.0,17.0,15.0,15.0,14.0,9.0,14.0,13.0,11.0,11.0,12.0,12.0,11.0,11.0,11.0,12.0,14.0,13.0,13.0,13.0,21.0,19.0,23.0,23.0,19.0,19.0,18.0,19.0,19.0,14.0,15.0,14.0,12.0,18.0,16.0,17.0,18.0,16.0,18.0,18.0,20.0,19.0,20.0,18.0,21.0,19.0,19.0,19.0,20.0,20.0,19.0,20.0,15.0,16.0,15.0,15.0,16.0,14.0,21.0,21.0,21.0,21.0,18.0,18.0,19.0,21.0,21.0,21.0,22.0,18.0,18.0,18.0,24.0,24.0,26.0,28.0,26.0,11.0,13.0,15.0,16.0,17.0,15.0,15.0,15.0,16.0,21.0,19.0,21.0,22.0,17.0,33.0,21.0,19.0,22.0,21.0,21.0,21.0,16.0,17.0,35.0,29.0,21.0,19.0,20.0,20.0,21.0,18.0,19.0,21.0,16.0,18.0,17.0],\n",
       "\"hwy\":[29.0,29.0,31.0,30.0,26.0,26.0,27.0,26.0,25.0,28.0,27.0,25.0,25.0,25.0,25.0,24.0,25.0,23.0,20.0,15.0,20.0,17.0,17.0,26.0,23.0,26.0,25.0,24.0,19.0,14.0,15.0,17.0,27.0,30.0,26.0,29.0,26.0,24.0,24.0,22.0,22.0,24.0,24.0,17.0,22.0,21.0,23.0,23.0,19.0,18.0,17.0,17.0,19.0,19.0,12.0,17.0,15.0,17.0,17.0,12.0,17.0,16.0,18.0,15.0,16.0,12.0,17.0,17.0,16.0,12.0,15.0,16.0,17.0,15.0,17.0,17.0,18.0,17.0,19.0,17.0,19.0,19.0,17.0,17.0,17.0,16.0,16.0,17.0,15.0,17.0,26.0,25.0,26.0,24.0,21.0,22.0,23.0,22.0,20.0,33.0,32.0,32.0,29.0,32.0,34.0,36.0,36.0,29.0,26.0,27.0,30.0,31.0,26.0,26.0,28.0,26.0,29.0,28.0,27.0,24.0,24.0,24.0,22.0,19.0,20.0,17.0,12.0,19.0,18.0,14.0,15.0,18.0,18.0,15.0,17.0,16.0,18.0,17.0,19.0,19.0,17.0,29.0,27.0,31.0,32.0,27.0,26.0,26.0,25.0,25.0,17.0,17.0,20.0,18.0,26.0,26.0,27.0,28.0,25.0,25.0,24.0,27.0,25.0,26.0,23.0,26.0,26.0,26.0,26.0,25.0,27.0,25.0,27.0,20.0,20.0,19.0,17.0,20.0,17.0,29.0,27.0,31.0,31.0,26.0,26.0,28.0,27.0,29.0,31.0,31.0,26.0,26.0,27.0,30.0,33.0,35.0,37.0,35.0,15.0,18.0,20.0,20.0,22.0,17.0,19.0,18.0,20.0,29.0,26.0,29.0,29.0,24.0,44.0,29.0,26.0,29.0,29.0,29.0,29.0,23.0,24.0,44.0,41.0,29.0,26.0,28.0,29.0,29.0,29.0,28.0,29.0,26.0,26.0,26.0],\n",
       "\"class\":[\"compact\",\"compact\",\"compact\",\"compact\",\"compact\",\"compact\",\"compact\",\"compact\",\"compact\",\"compact\",\"compact\",\"compact\",\"compact\",\"compact\",\"compact\",\"midsize\",\"midsize\",\"midsize\",\"suv\",\"suv\",\"suv\",\"suv\",\"suv\",\"2seater\",\"2seater\",\"2seater\",\"2seater\",\"2seater\",\"suv\",\"suv\",\"suv\",\"suv\",\"midsize\",\"midsize\",\"midsize\",\"midsize\",\"midsize\",\"minivan\",\"minivan\",\"minivan\",\"minivan\",\"minivan\",\"minivan\",\"minivan\",\"minivan\",\"minivan\",\"minivan\",\"minivan\",\"pickup\",\"pickup\",\"pickup\",\"pickup\",\"pickup\",\"pickup\",\"pickup\",\"pickup\",\"pickup\",\"suv\",\"suv\",\"suv\",\"suv\",\"suv\",\"suv\",\"suv\",\"pickup\",\"pickup\",\"pickup\",\"pickup\",\"pickup\",\"pickup\",\"pickup\",\"pickup\",\"pickup\",\"pickup\",\"suv\",\"suv\",\"suv\",\"suv\",\"suv\",\"suv\",\"suv\",\"suv\",\"suv\",\"pickup\",\"pickup\",\"pickup\",\"pickup\",\"pickup\",\"pickup\",\"pickup\",\"subcompact\",\"subcompact\",\"subcompact\",\"subcompact\",\"subcompact\",\"subcompact\",\"subcompact\",\"subcompact\",\"subcompact\",\"subcompact\",\"subcompact\",\"subcompact\",\"subcompact\",\"subcompact\",\"subcompact\",\"subcompact\",\"subcompact\",\"subcompact\",\"midsize\",\"midsize\",\"midsize\",\"midsize\",\"midsize\",\"midsize\",\"midsize\",\"subcompact\",\"subcompact\",\"subcompact\",\"subcompact\",\"subcompact\",\"subcompact\",\"subcompact\",\"suv\",\"suv\",\"suv\",\"suv\",\"suv\",\"suv\",\"suv\",\"suv\",\"suv\",\"suv\",\"suv\",\"suv\",\"suv\",\"suv\",\"suv\",\"suv\",\"suv\",\"suv\",\"suv\",\"compact\",\"compact\",\"midsize\",\"midsize\",\"midsize\",\"midsize\",\"midsize\",\"midsize\",\"midsize\",\"suv\",\"suv\",\"suv\",\"suv\",\"midsize\",\"midsize\",\"midsize\",\"midsize\",\"midsize\",\"suv\",\"suv\",\"suv\",\"suv\",\"suv\",\"suv\",\"subcompact\",\"subcompact\",\"subcompact\",\"subcompact\",\"compact\",\"compact\",\"compact\",\"compact\",\"suv\",\"suv\",\"suv\",\"suv\",\"suv\",\"suv\",\"midsize\",\"midsize\",\"midsize\",\"midsize\",\"midsize\",\"midsize\",\"midsize\",\"compact\",\"compact\",\"compact\",\"compact\",\"compact\",\"compact\",\"compact\",\"compact\",\"compact\",\"compact\",\"compact\",\"compact\",\"suv\",\"suv\",\"pickup\",\"pickup\",\"pickup\",\"pickup\",\"pickup\",\"pickup\",\"pickup\",\"compact\",\"compact\",\"compact\",\"compact\",\"compact\",\"compact\",\"compact\",\"compact\",\"compact\",\"compact\",\"compact\",\"compact\",\"compact\",\"compact\",\"subcompact\",\"subcompact\",\"subcompact\",\"subcompact\",\"subcompact\",\"subcompact\",\"midsize\",\"midsize\",\"midsize\",\"midsize\",\"midsize\",\"midsize\",\"midsize\"]\n",
       "},\n",
       "\"mapping\":{\n",
       "\"x\":\"cty\",\n",
       "\"y\":\"hwy\"\n",
       "},\n",
       "\"data_meta\":{\n",
       "\"series_annotations\":[{\n",
       "\"type\":\"int\",\n",
       "\"column\":\"Unnamed: 0\"\n",
       "},{\n",
       "\"type\":\"str\",\n",
       "\"column\":\"manufacturer\"\n",
       "},{\n",
       "\"type\":\"str\",\n",
       "\"column\":\"model\"\n",
       "},{\n",
       "\"type\":\"float\",\n",
       "\"column\":\"displ\"\n",
       "},{\n",
       "\"type\":\"int\",\n",
       "\"column\":\"year\"\n",
       "},{\n",
       "\"type\":\"int\",\n",
       "\"column\":\"cyl\"\n",
       "},{\n",
       "\"type\":\"str\",\n",
       "\"column\":\"trans\"\n",
       "},{\n",
       "\"type\":\"str\",\n",
       "\"column\":\"drv\"\n",
       "},{\n",
       "\"type\":\"int\",\n",
       "\"column\":\"cty\"\n",
       "},{\n",
       "\"type\":\"int\",\n",
       "\"column\":\"hwy\"\n",
       "},{\n",
       "\"type\":\"str\",\n",
       "\"column\":\"fl\"\n",
       "},{\n",
       "\"type\":\"str\",\n",
       "\"column\":\"class\"\n",
       "}]\n",
       "},\n",
       "\"theme\":{\n",
       "\"name\":\"light\"\n",
       "},\n",
       "\"facet\":{\n",
       "\"name\":\"grid\",\n",
       "\"y\":\"cyl\",\n",
       "\"x_order\":1.0,\n",
       "\"y_order\":1.0\n",
       "},\n",
       "\"ggtitle\":{\n",
       "\"text\":\"facet_grid() with fixed scales (default)\"\n",
       "},\n",
       "\"kind\":\"plot\",\n",
       "\"scales\":[],\n",
       "\"layers\":[{\n",
       "\"geom\":\"point\",\n",
       "\"mapping\":{\n",
       "\"color\":\"class\"\n",
       "},\n",
       "\"data_meta\":{\n",
       "},\n",
       "\"shape\":21.0,\n",
       "\"data\":{\n",
       "}\n",
       "}],\n",
       "\"metainfo_list\":[]\n",
       "},{\n",
       "\"data\":{\n",
       "\"cyl\":[4.0,4.0,4.0,4.0,6.0,6.0,6.0,4.0,4.0,4.0,4.0,6.0,6.0,6.0,6.0,6.0,6.0,8.0,8.0,8.0,8.0,8.0,8.0,8.0,8.0,8.0,8.0,8.0,8.0,8.0,8.0,8.0,4.0,4.0,6.0,6.0,6.0,4.0,6.0,6.0,6.0,6.0,6.0,6.0,6.0,6.0,6.0,6.0,6.0,6.0,6.0,6.0,8.0,8.0,8.0,8.0,8.0,6.0,8.0,8.0,8.0,8.0,8.0,8.0,8.0,8.0,8.0,8.0,8.0,8.0,8.0,8.0,8.0,8.0,8.0,8.0,8.0,6.0,6.0,6.0,6.0,8.0,8.0,6.0,6.0,8.0,8.0,8.0,8.0,8.0,6.0,6.0,6.0,6.0,8.0,8.0,8.0,8.0,8.0,4.0,4.0,4.0,4.0,4.0,4.0,4.0,4.0,4.0,4.0,4.0,4.0,4.0,6.0,6.0,6.0,4.0,4.0,4.0,4.0,6.0,6.0,6.0,6.0,6.0,6.0,8.0,8.0,8.0,8.0,8.0,8.0,8.0,8.0,8.0,8.0,8.0,8.0,6.0,6.0,8.0,8.0,4.0,4.0,4.0,4.0,6.0,6.0,6.0,6.0,6.0,6.0,6.0,6.0,8.0,6.0,6.0,6.0,6.0,8.0,4.0,4.0,4.0,4.0,4.0,4.0,4.0,4.0,4.0,4.0,4.0,4.0,4.0,4.0,4.0,4.0,6.0,6.0,6.0,8.0,4.0,4.0,4.0,4.0,6.0,6.0,6.0,4.0,4.0,4.0,4.0,6.0,6.0,6.0,4.0,4.0,4.0,4.0,4.0,8.0,8.0,4.0,4.0,4.0,6.0,6.0,6.0,6.0,4.0,4.0,4.0,4.0,6.0,4.0,4.0,4.0,4.0,4.0,5.0,5.0,6.0,6.0,4.0,4.0,4.0,4.0,5.0,5.0,4.0,4.0,4.0,4.0,6.0,6.0,6.0],\n",
       "\"cty\":[18.0,21.0,20.0,21.0,16.0,18.0,18.0,18.0,16.0,20.0,19.0,15.0,17.0,17.0,15.0,15.0,17.0,16.0,14.0,11.0,14.0,13.0,12.0,16.0,15.0,16.0,15.0,15.0,14.0,11.0,11.0,14.0,19.0,22.0,18.0,18.0,17.0,18.0,17.0,16.0,16.0,17.0,17.0,11.0,15.0,15.0,16.0,16.0,15.0,14.0,13.0,14.0,14.0,14.0,9.0,11.0,11.0,13.0,13.0,9.0,13.0,11.0,13.0,11.0,12.0,9.0,13.0,13.0,12.0,9.0,11.0,11.0,13.0,11.0,11.0,11.0,12.0,14.0,15.0,14.0,13.0,13.0,13.0,14.0,14.0,13.0,13.0,13.0,11.0,13.0,18.0,18.0,17.0,16.0,15.0,15.0,15.0,15.0,14.0,28.0,24.0,25.0,23.0,24.0,26.0,25.0,24.0,21.0,18.0,18.0,21.0,21.0,18.0,18.0,19.0,19.0,19.0,20.0,20.0,17.0,16.0,17.0,17.0,15.0,15.0,14.0,9.0,14.0,13.0,11.0,11.0,12.0,12.0,11.0,11.0,11.0,12.0,14.0,13.0,13.0,13.0,21.0,19.0,23.0,23.0,19.0,19.0,18.0,19.0,19.0,14.0,15.0,14.0,12.0,18.0,16.0,17.0,18.0,16.0,18.0,18.0,20.0,19.0,20.0,18.0,21.0,19.0,19.0,19.0,20.0,20.0,19.0,20.0,15.0,16.0,15.0,15.0,16.0,14.0,21.0,21.0,21.0,21.0,18.0,18.0,19.0,21.0,21.0,21.0,22.0,18.0,18.0,18.0,24.0,24.0,26.0,28.0,26.0,11.0,13.0,15.0,16.0,17.0,15.0,15.0,15.0,16.0,21.0,19.0,21.0,22.0,17.0,33.0,21.0,19.0,22.0,21.0,21.0,21.0,16.0,17.0,35.0,29.0,21.0,19.0,20.0,20.0,21.0,18.0,19.0,21.0,16.0,18.0,17.0],\n",
       "\"hwy\":[29.0,29.0,31.0,30.0,26.0,26.0,27.0,26.0,25.0,28.0,27.0,25.0,25.0,25.0,25.0,24.0,25.0,23.0,20.0,15.0,20.0,17.0,17.0,26.0,23.0,26.0,25.0,24.0,19.0,14.0,15.0,17.0,27.0,30.0,26.0,29.0,26.0,24.0,24.0,22.0,22.0,24.0,24.0,17.0,22.0,21.0,23.0,23.0,19.0,18.0,17.0,17.0,19.0,19.0,12.0,17.0,15.0,17.0,17.0,12.0,17.0,16.0,18.0,15.0,16.0,12.0,17.0,17.0,16.0,12.0,15.0,16.0,17.0,15.0,17.0,17.0,18.0,17.0,19.0,17.0,19.0,19.0,17.0,17.0,17.0,16.0,16.0,17.0,15.0,17.0,26.0,25.0,26.0,24.0,21.0,22.0,23.0,22.0,20.0,33.0,32.0,32.0,29.0,32.0,34.0,36.0,36.0,29.0,26.0,27.0,30.0,31.0,26.0,26.0,28.0,26.0,29.0,28.0,27.0,24.0,24.0,24.0,22.0,19.0,20.0,17.0,12.0,19.0,18.0,14.0,15.0,18.0,18.0,15.0,17.0,16.0,18.0,17.0,19.0,19.0,17.0,29.0,27.0,31.0,32.0,27.0,26.0,26.0,25.0,25.0,17.0,17.0,20.0,18.0,26.0,26.0,27.0,28.0,25.0,25.0,24.0,27.0,25.0,26.0,23.0,26.0,26.0,26.0,26.0,25.0,27.0,25.0,27.0,20.0,20.0,19.0,17.0,20.0,17.0,29.0,27.0,31.0,31.0,26.0,26.0,28.0,27.0,29.0,31.0,31.0,26.0,26.0,27.0,30.0,33.0,35.0,37.0,35.0,15.0,18.0,20.0,20.0,22.0,17.0,19.0,18.0,20.0,29.0,26.0,29.0,29.0,24.0,44.0,29.0,26.0,29.0,29.0,29.0,29.0,23.0,24.0,44.0,41.0,29.0,26.0,28.0,29.0,29.0,29.0,28.0,29.0,26.0,26.0,26.0],\n",
       "\"class\":[\"compact\",\"compact\",\"compact\",\"compact\",\"compact\",\"compact\",\"compact\",\"compact\",\"compact\",\"compact\",\"compact\",\"compact\",\"compact\",\"compact\",\"compact\",\"midsize\",\"midsize\",\"midsize\",\"suv\",\"suv\",\"suv\",\"suv\",\"suv\",\"2seater\",\"2seater\",\"2seater\",\"2seater\",\"2seater\",\"suv\",\"suv\",\"suv\",\"suv\",\"midsize\",\"midsize\",\"midsize\",\"midsize\",\"midsize\",\"minivan\",\"minivan\",\"minivan\",\"minivan\",\"minivan\",\"minivan\",\"minivan\",\"minivan\",\"minivan\",\"minivan\",\"minivan\",\"pickup\",\"pickup\",\"pickup\",\"pickup\",\"pickup\",\"pickup\",\"pickup\",\"pickup\",\"pickup\",\"suv\",\"suv\",\"suv\",\"suv\",\"suv\",\"suv\",\"suv\",\"pickup\",\"pickup\",\"pickup\",\"pickup\",\"pickup\",\"pickup\",\"pickup\",\"pickup\",\"pickup\",\"pickup\",\"suv\",\"suv\",\"suv\",\"suv\",\"suv\",\"suv\",\"suv\",\"suv\",\"suv\",\"pickup\",\"pickup\",\"pickup\",\"pickup\",\"pickup\",\"pickup\",\"pickup\",\"subcompact\",\"subcompact\",\"subcompact\",\"subcompact\",\"subcompact\",\"subcompact\",\"subcompact\",\"subcompact\",\"subcompact\",\"subcompact\",\"subcompact\",\"subcompact\",\"subcompact\",\"subcompact\",\"subcompact\",\"subcompact\",\"subcompact\",\"subcompact\",\"midsize\",\"midsize\",\"midsize\",\"midsize\",\"midsize\",\"midsize\",\"midsize\",\"subcompact\",\"subcompact\",\"subcompact\",\"subcompact\",\"subcompact\",\"subcompact\",\"subcompact\",\"suv\",\"suv\",\"suv\",\"suv\",\"suv\",\"suv\",\"suv\",\"suv\",\"suv\",\"suv\",\"suv\",\"suv\",\"suv\",\"suv\",\"suv\",\"suv\",\"suv\",\"suv\",\"suv\",\"compact\",\"compact\",\"midsize\",\"midsize\",\"midsize\",\"midsize\",\"midsize\",\"midsize\",\"midsize\",\"suv\",\"suv\",\"suv\",\"suv\",\"midsize\",\"midsize\",\"midsize\",\"midsize\",\"midsize\",\"suv\",\"suv\",\"suv\",\"suv\",\"suv\",\"suv\",\"subcompact\",\"subcompact\",\"subcompact\",\"subcompact\",\"compact\",\"compact\",\"compact\",\"compact\",\"suv\",\"suv\",\"suv\",\"suv\",\"suv\",\"suv\",\"midsize\",\"midsize\",\"midsize\",\"midsize\",\"midsize\",\"midsize\",\"midsize\",\"compact\",\"compact\",\"compact\",\"compact\",\"compact\",\"compact\",\"compact\",\"compact\",\"compact\",\"compact\",\"compact\",\"compact\",\"suv\",\"suv\",\"pickup\",\"pickup\",\"pickup\",\"pickup\",\"pickup\",\"pickup\",\"pickup\",\"compact\",\"compact\",\"compact\",\"compact\",\"compact\",\"compact\",\"compact\",\"compact\",\"compact\",\"compact\",\"compact\",\"compact\",\"compact\",\"compact\",\"subcompact\",\"subcompact\",\"subcompact\",\"subcompact\",\"subcompact\",\"subcompact\",\"midsize\",\"midsize\",\"midsize\",\"midsize\",\"midsize\",\"midsize\",\"midsize\"]\n",
       "},\n",
       "\"mapping\":{\n",
       "\"x\":\"cty\",\n",
       "\"y\":\"hwy\"\n",
       "},\n",
       "\"data_meta\":{\n",
       "\"series_annotations\":[{\n",
       "\"type\":\"int\",\n",
       "\"column\":\"Unnamed: 0\"\n",
       "},{\n",
       "\"type\":\"str\",\n",
       "\"column\":\"manufacturer\"\n",
       "},{\n",
       "\"type\":\"str\",\n",
       "\"column\":\"model\"\n",
       "},{\n",
       "\"type\":\"float\",\n",
       "\"column\":\"displ\"\n",
       "},{\n",
       "\"type\":\"int\",\n",
       "\"column\":\"year\"\n",
       "},{\n",
       "\"type\":\"int\",\n",
       "\"column\":\"cyl\"\n",
       "},{\n",
       "\"type\":\"str\",\n",
       "\"column\":\"trans\"\n",
       "},{\n",
       "\"type\":\"str\",\n",
       "\"column\":\"drv\"\n",
       "},{\n",
       "\"type\":\"int\",\n",
       "\"column\":\"cty\"\n",
       "},{\n",
       "\"type\":\"int\",\n",
       "\"column\":\"hwy\"\n",
       "},{\n",
       "\"type\":\"str\",\n",
       "\"column\":\"fl\"\n",
       "},{\n",
       "\"type\":\"str\",\n",
       "\"column\":\"class\"\n",
       "}]\n",
       "},\n",
       "\"theme\":{\n",
       "\"name\":\"light\"\n",
       "},\n",
       "\"facet\":{\n",
       "\"name\":\"grid\",\n",
       "\"y\":\"cyl\",\n",
       "\"scales\":\"free_y\",\n",
       "\"x_order\":1.0,\n",
       "\"y_order\":1.0\n",
       "},\n",
       "\"ggtitle\":{\n",
       "\"text\":\"facet_grid() with free Y scales\"\n",
       "},\n",
       "\"kind\":\"plot\",\n",
       "\"scales\":[],\n",
       "\"layers\":[{\n",
       "\"geom\":\"point\",\n",
       "\"mapping\":{\n",
       "\"color\":\"class\"\n",
       "},\n",
       "\"data_meta\":{\n",
       "},\n",
       "\"shape\":21.0,\n",
       "\"data\":{\n",
       "}\n",
       "}],\n",
       "\"metainfo_list\":[]\n",
       "}]\n",
       "};\n",
       "           var plotContainer = document.getElementById(\"QxDleB\");\n",
       "           window.letsPlotCall(function() {{\n",
       "               LetsPlot.buildPlotFromProcessedSpecs(plotSpec, -1, -1, plotContainer);\n",
       "           }});\n",
       "       })();\n",
       "   </script>"
      ],
      "text/plain": [
       "<lets_plot.plot.subplots.SupPlotsSpec at 0x126d82800>"
      ]
     },
     "execution_count": 11,
     "metadata": {},
     "output_type": "execute_result"
    }
   ],
   "source": [
    "gggrid([\n",
    "    p + \\\n",
    "        facet_grid(y=\"cyl\") + \\\n",
    "        ggtitle(\"facet_grid() with fixed scales (default)\"),\n",
    "    p + \\\n",
    "        facet_grid(y=\"cyl\", scales=\"free_y\") + \\\n",
    "        ggtitle(\"facet_grid() with free Y scales\")\n",
    "]) + ggsize(1200, 800)"
   ]
  },
  {
   "attachments": {},
   "cell_type": "markdown",
   "metadata": {
    "datalore": {
     "hide_input_from_viewers": false,
     "hide_output_from_viewers": false,
     "node_id": "v8qsWRUmBgNzcErlC4Ikiw",
     "report_properties": {
      "relativeY": 0,
      "rowId": "SZo9STW4IBuJRvBn5vYMlI"
     },
     "type": "MD"
    }
   },
   "source": [
    "### facet_wrap() With Fixed Scales\n",
    "\n",
    "By default, in `facet_wrap()` scales are constant across all panels."
   ]
  },
  {
   "cell_type": "code",
   "execution_count": 12,
   "metadata": {
    "datalore": {
     "hide_input_from_viewers": false,
     "hide_output_from_viewers": false,
     "node_id": "ygRmcJphLrFT0mjPN1R3vS",
     "report_properties": {
      "relativeY": 0,
      "rowId": "2VjUJky4tpWcaXsTfTjcEm"
     },
     "type": "CODE"
    },
    "execution": {
     "iopub.execute_input": "2024-09-27T18:24:11.328280Z",
     "iopub.status.busy": "2024-09-27T18:24:11.328210Z",
     "iopub.status.idle": "2024-09-27T18:24:11.332285Z",
     "shell.execute_reply": "2024-09-27T18:24:11.332074Z"
    }
   },
   "outputs": [
    {
     "data": {
      "text/html": [
       "   <div id=\"27OOA5\"></div>\n",
       "   <script type=\"text/javascript\" data-lets-plot-script=\"plot\">\n",
       "       (function() {\n",
       "           var plotSpec={\n",
       "\"data\":{\n",
       "\"cyl\":[4.0,4.0,4.0,4.0,6.0,6.0,6.0,4.0,4.0,4.0,4.0,6.0,6.0,6.0,6.0,6.0,6.0,8.0,8.0,8.0,8.0,8.0,8.0,8.0,8.0,8.0,8.0,8.0,8.0,8.0,8.0,8.0,4.0,4.0,6.0,6.0,6.0,4.0,6.0,6.0,6.0,6.0,6.0,6.0,6.0,6.0,6.0,6.0,6.0,6.0,6.0,6.0,8.0,8.0,8.0,8.0,8.0,6.0,8.0,8.0,8.0,8.0,8.0,8.0,8.0,8.0,8.0,8.0,8.0,8.0,8.0,8.0,8.0,8.0,8.0,8.0,8.0,6.0,6.0,6.0,6.0,8.0,8.0,6.0,6.0,8.0,8.0,8.0,8.0,8.0,6.0,6.0,6.0,6.0,8.0,8.0,8.0,8.0,8.0,4.0,4.0,4.0,4.0,4.0,4.0,4.0,4.0,4.0,4.0,4.0,4.0,4.0,6.0,6.0,6.0,4.0,4.0,4.0,4.0,6.0,6.0,6.0,6.0,6.0,6.0,8.0,8.0,8.0,8.0,8.0,8.0,8.0,8.0,8.0,8.0,8.0,8.0,6.0,6.0,8.0,8.0,4.0,4.0,4.0,4.0,6.0,6.0,6.0,6.0,6.0,6.0,6.0,6.0,8.0,6.0,6.0,6.0,6.0,8.0,4.0,4.0,4.0,4.0,4.0,4.0,4.0,4.0,4.0,4.0,4.0,4.0,4.0,4.0,4.0,4.0,6.0,6.0,6.0,8.0,4.0,4.0,4.0,4.0,6.0,6.0,6.0,4.0,4.0,4.0,4.0,6.0,6.0,6.0,4.0,4.0,4.0,4.0,4.0,8.0,8.0,4.0,4.0,4.0,6.0,6.0,6.0,6.0,4.0,4.0,4.0,4.0,6.0,4.0,4.0,4.0,4.0,4.0,5.0,5.0,6.0,6.0,4.0,4.0,4.0,4.0,5.0,5.0,4.0,4.0,4.0,4.0,6.0,6.0,6.0],\n",
       "\"cty\":[18.0,21.0,20.0,21.0,16.0,18.0,18.0,18.0,16.0,20.0,19.0,15.0,17.0,17.0,15.0,15.0,17.0,16.0,14.0,11.0,14.0,13.0,12.0,16.0,15.0,16.0,15.0,15.0,14.0,11.0,11.0,14.0,19.0,22.0,18.0,18.0,17.0,18.0,17.0,16.0,16.0,17.0,17.0,11.0,15.0,15.0,16.0,16.0,15.0,14.0,13.0,14.0,14.0,14.0,9.0,11.0,11.0,13.0,13.0,9.0,13.0,11.0,13.0,11.0,12.0,9.0,13.0,13.0,12.0,9.0,11.0,11.0,13.0,11.0,11.0,11.0,12.0,14.0,15.0,14.0,13.0,13.0,13.0,14.0,14.0,13.0,13.0,13.0,11.0,13.0,18.0,18.0,17.0,16.0,15.0,15.0,15.0,15.0,14.0,28.0,24.0,25.0,23.0,24.0,26.0,25.0,24.0,21.0,18.0,18.0,21.0,21.0,18.0,18.0,19.0,19.0,19.0,20.0,20.0,17.0,16.0,17.0,17.0,15.0,15.0,14.0,9.0,14.0,13.0,11.0,11.0,12.0,12.0,11.0,11.0,11.0,12.0,14.0,13.0,13.0,13.0,21.0,19.0,23.0,23.0,19.0,19.0,18.0,19.0,19.0,14.0,15.0,14.0,12.0,18.0,16.0,17.0,18.0,16.0,18.0,18.0,20.0,19.0,20.0,18.0,21.0,19.0,19.0,19.0,20.0,20.0,19.0,20.0,15.0,16.0,15.0,15.0,16.0,14.0,21.0,21.0,21.0,21.0,18.0,18.0,19.0,21.0,21.0,21.0,22.0,18.0,18.0,18.0,24.0,24.0,26.0,28.0,26.0,11.0,13.0,15.0,16.0,17.0,15.0,15.0,15.0,16.0,21.0,19.0,21.0,22.0,17.0,33.0,21.0,19.0,22.0,21.0,21.0,21.0,16.0,17.0,35.0,29.0,21.0,19.0,20.0,20.0,21.0,18.0,19.0,21.0,16.0,18.0,17.0],\n",
       "\"hwy\":[29.0,29.0,31.0,30.0,26.0,26.0,27.0,26.0,25.0,28.0,27.0,25.0,25.0,25.0,25.0,24.0,25.0,23.0,20.0,15.0,20.0,17.0,17.0,26.0,23.0,26.0,25.0,24.0,19.0,14.0,15.0,17.0,27.0,30.0,26.0,29.0,26.0,24.0,24.0,22.0,22.0,24.0,24.0,17.0,22.0,21.0,23.0,23.0,19.0,18.0,17.0,17.0,19.0,19.0,12.0,17.0,15.0,17.0,17.0,12.0,17.0,16.0,18.0,15.0,16.0,12.0,17.0,17.0,16.0,12.0,15.0,16.0,17.0,15.0,17.0,17.0,18.0,17.0,19.0,17.0,19.0,19.0,17.0,17.0,17.0,16.0,16.0,17.0,15.0,17.0,26.0,25.0,26.0,24.0,21.0,22.0,23.0,22.0,20.0,33.0,32.0,32.0,29.0,32.0,34.0,36.0,36.0,29.0,26.0,27.0,30.0,31.0,26.0,26.0,28.0,26.0,29.0,28.0,27.0,24.0,24.0,24.0,22.0,19.0,20.0,17.0,12.0,19.0,18.0,14.0,15.0,18.0,18.0,15.0,17.0,16.0,18.0,17.0,19.0,19.0,17.0,29.0,27.0,31.0,32.0,27.0,26.0,26.0,25.0,25.0,17.0,17.0,20.0,18.0,26.0,26.0,27.0,28.0,25.0,25.0,24.0,27.0,25.0,26.0,23.0,26.0,26.0,26.0,26.0,25.0,27.0,25.0,27.0,20.0,20.0,19.0,17.0,20.0,17.0,29.0,27.0,31.0,31.0,26.0,26.0,28.0,27.0,29.0,31.0,31.0,26.0,26.0,27.0,30.0,33.0,35.0,37.0,35.0,15.0,18.0,20.0,20.0,22.0,17.0,19.0,18.0,20.0,29.0,26.0,29.0,29.0,24.0,44.0,29.0,26.0,29.0,29.0,29.0,29.0,23.0,24.0,44.0,41.0,29.0,26.0,28.0,29.0,29.0,29.0,28.0,29.0,26.0,26.0,26.0],\n",
       "\"class\":[\"compact\",\"compact\",\"compact\",\"compact\",\"compact\",\"compact\",\"compact\",\"compact\",\"compact\",\"compact\",\"compact\",\"compact\",\"compact\",\"compact\",\"compact\",\"midsize\",\"midsize\",\"midsize\",\"suv\",\"suv\",\"suv\",\"suv\",\"suv\",\"2seater\",\"2seater\",\"2seater\",\"2seater\",\"2seater\",\"suv\",\"suv\",\"suv\",\"suv\",\"midsize\",\"midsize\",\"midsize\",\"midsize\",\"midsize\",\"minivan\",\"minivan\",\"minivan\",\"minivan\",\"minivan\",\"minivan\",\"minivan\",\"minivan\",\"minivan\",\"minivan\",\"minivan\",\"pickup\",\"pickup\",\"pickup\",\"pickup\",\"pickup\",\"pickup\",\"pickup\",\"pickup\",\"pickup\",\"suv\",\"suv\",\"suv\",\"suv\",\"suv\",\"suv\",\"suv\",\"pickup\",\"pickup\",\"pickup\",\"pickup\",\"pickup\",\"pickup\",\"pickup\",\"pickup\",\"pickup\",\"pickup\",\"suv\",\"suv\",\"suv\",\"suv\",\"suv\",\"suv\",\"suv\",\"suv\",\"suv\",\"pickup\",\"pickup\",\"pickup\",\"pickup\",\"pickup\",\"pickup\",\"pickup\",\"subcompact\",\"subcompact\",\"subcompact\",\"subcompact\",\"subcompact\",\"subcompact\",\"subcompact\",\"subcompact\",\"subcompact\",\"subcompact\",\"subcompact\",\"subcompact\",\"subcompact\",\"subcompact\",\"subcompact\",\"subcompact\",\"subcompact\",\"subcompact\",\"midsize\",\"midsize\",\"midsize\",\"midsize\",\"midsize\",\"midsize\",\"midsize\",\"subcompact\",\"subcompact\",\"subcompact\",\"subcompact\",\"subcompact\",\"subcompact\",\"subcompact\",\"suv\",\"suv\",\"suv\",\"suv\",\"suv\",\"suv\",\"suv\",\"suv\",\"suv\",\"suv\",\"suv\",\"suv\",\"suv\",\"suv\",\"suv\",\"suv\",\"suv\",\"suv\",\"suv\",\"compact\",\"compact\",\"midsize\",\"midsize\",\"midsize\",\"midsize\",\"midsize\",\"midsize\",\"midsize\",\"suv\",\"suv\",\"suv\",\"suv\",\"midsize\",\"midsize\",\"midsize\",\"midsize\",\"midsize\",\"suv\",\"suv\",\"suv\",\"suv\",\"suv\",\"suv\",\"subcompact\",\"subcompact\",\"subcompact\",\"subcompact\",\"compact\",\"compact\",\"compact\",\"compact\",\"suv\",\"suv\",\"suv\",\"suv\",\"suv\",\"suv\",\"midsize\",\"midsize\",\"midsize\",\"midsize\",\"midsize\",\"midsize\",\"midsize\",\"compact\",\"compact\",\"compact\",\"compact\",\"compact\",\"compact\",\"compact\",\"compact\",\"compact\",\"compact\",\"compact\",\"compact\",\"suv\",\"suv\",\"pickup\",\"pickup\",\"pickup\",\"pickup\",\"pickup\",\"pickup\",\"pickup\",\"compact\",\"compact\",\"compact\",\"compact\",\"compact\",\"compact\",\"compact\",\"compact\",\"compact\",\"compact\",\"compact\",\"compact\",\"compact\",\"compact\",\"subcompact\",\"subcompact\",\"subcompact\",\"subcompact\",\"subcompact\",\"subcompact\",\"midsize\",\"midsize\",\"midsize\",\"midsize\",\"midsize\",\"midsize\",\"midsize\"]\n",
       "},\n",
       "\"mapping\":{\n",
       "\"x\":\"cty\",\n",
       "\"y\":\"hwy\"\n",
       "},\n",
       "\"data_meta\":{\n",
       "\"series_annotations\":[{\n",
       "\"type\":\"int\",\n",
       "\"column\":\"Unnamed: 0\"\n",
       "},{\n",
       "\"type\":\"str\",\n",
       "\"column\":\"manufacturer\"\n",
       "},{\n",
       "\"type\":\"str\",\n",
       "\"column\":\"model\"\n",
       "},{\n",
       "\"type\":\"float\",\n",
       "\"column\":\"displ\"\n",
       "},{\n",
       "\"type\":\"int\",\n",
       "\"column\":\"year\"\n",
       "},{\n",
       "\"type\":\"int\",\n",
       "\"column\":\"cyl\"\n",
       "},{\n",
       "\"type\":\"str\",\n",
       "\"column\":\"trans\"\n",
       "},{\n",
       "\"type\":\"str\",\n",
       "\"column\":\"drv\"\n",
       "},{\n",
       "\"type\":\"int\",\n",
       "\"column\":\"cty\"\n",
       "},{\n",
       "\"type\":\"int\",\n",
       "\"column\":\"hwy\"\n",
       "},{\n",
       "\"type\":\"str\",\n",
       "\"column\":\"fl\"\n",
       "},{\n",
       "\"type\":\"str\",\n",
       "\"column\":\"class\"\n",
       "}]\n",
       "},\n",
       "\"theme\":{\n",
       "\"name\":\"light\"\n",
       "},\n",
       "\"facet\":{\n",
       "\"name\":\"wrap\",\n",
       "\"facets\":\"cyl\",\n",
       "\"order\":1.0,\n",
       "\"dir\":\"h\"\n",
       "},\n",
       "\"kind\":\"plot\",\n",
       "\"scales\":[],\n",
       "\"layers\":[{\n",
       "\"geom\":\"point\",\n",
       "\"mapping\":{\n",
       "\"color\":\"class\"\n",
       "},\n",
       "\"data_meta\":{\n",
       "},\n",
       "\"shape\":21.0,\n",
       "\"data\":{\n",
       "}\n",
       "}],\n",
       "\"metainfo_list\":[]\n",
       "};\n",
       "           var plotContainer = document.getElementById(\"27OOA5\");\n",
       "           window.letsPlotCall(function() {{\n",
       "               LetsPlot.buildPlotFromProcessedSpecs(plotSpec, -1, -1, plotContainer);\n",
       "           }});\n",
       "       })();\n",
       "   </script>"
      ],
      "text/plain": [
       "<lets_plot.plot.core.PlotSpec at 0x1237d9a50>"
      ]
     },
     "execution_count": 12,
     "metadata": {},
     "output_type": "execute_result"
    }
   ],
   "source": [
    "p + facet_wrap(facets=\"cyl\")"
   ]
  },
  {
   "attachments": {},
   "cell_type": "markdown",
   "metadata": {
    "datalore": {
     "hide_input_from_viewers": false,
     "hide_output_from_viewers": false,
     "node_id": "VgT5OYHJlFa4os2Iv8BIqU",
     "report_properties": {
      "relativeY": 0,
      "rowId": "hD1rIA5E5Vqk3vmYz2tC81"
     },
     "type": "MD"
    }
   },
   "source": [
    "### facet_wrap() With Free Scales Along Both Axis"
   ]
  },
  {
   "cell_type": "code",
   "execution_count": 13,
   "metadata": {
    "datalore": {
     "hide_input_from_viewers": false,
     "hide_output_from_viewers": false,
     "node_id": "1ljNYmjJjBK9HGbO0soAof",
     "report_properties": {
      "relativeY": 0,
      "rowId": "CJGhEdLHlB455K8LxI8wz3"
     },
     "type": "CODE"
    },
    "execution": {
     "iopub.execute_input": "2024-09-27T18:24:11.333310Z",
     "iopub.status.busy": "2024-09-27T18:24:11.333240Z",
     "iopub.status.idle": "2024-09-27T18:24:11.337267Z",
     "shell.execute_reply": "2024-09-27T18:24:11.337092Z"
    }
   },
   "outputs": [
    {
     "data": {
      "text/html": [
       "   <div id=\"JBXTu5\"></div>\n",
       "   <script type=\"text/javascript\" data-lets-plot-script=\"plot\">\n",
       "       (function() {\n",
       "           var plotSpec={\n",
       "\"data\":{\n",
       "\"cyl\":[4.0,4.0,4.0,4.0,6.0,6.0,6.0,4.0,4.0,4.0,4.0,6.0,6.0,6.0,6.0,6.0,6.0,8.0,8.0,8.0,8.0,8.0,8.0,8.0,8.0,8.0,8.0,8.0,8.0,8.0,8.0,8.0,4.0,4.0,6.0,6.0,6.0,4.0,6.0,6.0,6.0,6.0,6.0,6.0,6.0,6.0,6.0,6.0,6.0,6.0,6.0,6.0,8.0,8.0,8.0,8.0,8.0,6.0,8.0,8.0,8.0,8.0,8.0,8.0,8.0,8.0,8.0,8.0,8.0,8.0,8.0,8.0,8.0,8.0,8.0,8.0,8.0,6.0,6.0,6.0,6.0,8.0,8.0,6.0,6.0,8.0,8.0,8.0,8.0,8.0,6.0,6.0,6.0,6.0,8.0,8.0,8.0,8.0,8.0,4.0,4.0,4.0,4.0,4.0,4.0,4.0,4.0,4.0,4.0,4.0,4.0,4.0,6.0,6.0,6.0,4.0,4.0,4.0,4.0,6.0,6.0,6.0,6.0,6.0,6.0,8.0,8.0,8.0,8.0,8.0,8.0,8.0,8.0,8.0,8.0,8.0,8.0,6.0,6.0,8.0,8.0,4.0,4.0,4.0,4.0,6.0,6.0,6.0,6.0,6.0,6.0,6.0,6.0,8.0,6.0,6.0,6.0,6.0,8.0,4.0,4.0,4.0,4.0,4.0,4.0,4.0,4.0,4.0,4.0,4.0,4.0,4.0,4.0,4.0,4.0,6.0,6.0,6.0,8.0,4.0,4.0,4.0,4.0,6.0,6.0,6.0,4.0,4.0,4.0,4.0,6.0,6.0,6.0,4.0,4.0,4.0,4.0,4.0,8.0,8.0,4.0,4.0,4.0,6.0,6.0,6.0,6.0,4.0,4.0,4.0,4.0,6.0,4.0,4.0,4.0,4.0,4.0,5.0,5.0,6.0,6.0,4.0,4.0,4.0,4.0,5.0,5.0,4.0,4.0,4.0,4.0,6.0,6.0,6.0],\n",
       "\"cty\":[18.0,21.0,20.0,21.0,16.0,18.0,18.0,18.0,16.0,20.0,19.0,15.0,17.0,17.0,15.0,15.0,17.0,16.0,14.0,11.0,14.0,13.0,12.0,16.0,15.0,16.0,15.0,15.0,14.0,11.0,11.0,14.0,19.0,22.0,18.0,18.0,17.0,18.0,17.0,16.0,16.0,17.0,17.0,11.0,15.0,15.0,16.0,16.0,15.0,14.0,13.0,14.0,14.0,14.0,9.0,11.0,11.0,13.0,13.0,9.0,13.0,11.0,13.0,11.0,12.0,9.0,13.0,13.0,12.0,9.0,11.0,11.0,13.0,11.0,11.0,11.0,12.0,14.0,15.0,14.0,13.0,13.0,13.0,14.0,14.0,13.0,13.0,13.0,11.0,13.0,18.0,18.0,17.0,16.0,15.0,15.0,15.0,15.0,14.0,28.0,24.0,25.0,23.0,24.0,26.0,25.0,24.0,21.0,18.0,18.0,21.0,21.0,18.0,18.0,19.0,19.0,19.0,20.0,20.0,17.0,16.0,17.0,17.0,15.0,15.0,14.0,9.0,14.0,13.0,11.0,11.0,12.0,12.0,11.0,11.0,11.0,12.0,14.0,13.0,13.0,13.0,21.0,19.0,23.0,23.0,19.0,19.0,18.0,19.0,19.0,14.0,15.0,14.0,12.0,18.0,16.0,17.0,18.0,16.0,18.0,18.0,20.0,19.0,20.0,18.0,21.0,19.0,19.0,19.0,20.0,20.0,19.0,20.0,15.0,16.0,15.0,15.0,16.0,14.0,21.0,21.0,21.0,21.0,18.0,18.0,19.0,21.0,21.0,21.0,22.0,18.0,18.0,18.0,24.0,24.0,26.0,28.0,26.0,11.0,13.0,15.0,16.0,17.0,15.0,15.0,15.0,16.0,21.0,19.0,21.0,22.0,17.0,33.0,21.0,19.0,22.0,21.0,21.0,21.0,16.0,17.0,35.0,29.0,21.0,19.0,20.0,20.0,21.0,18.0,19.0,21.0,16.0,18.0,17.0],\n",
       "\"hwy\":[29.0,29.0,31.0,30.0,26.0,26.0,27.0,26.0,25.0,28.0,27.0,25.0,25.0,25.0,25.0,24.0,25.0,23.0,20.0,15.0,20.0,17.0,17.0,26.0,23.0,26.0,25.0,24.0,19.0,14.0,15.0,17.0,27.0,30.0,26.0,29.0,26.0,24.0,24.0,22.0,22.0,24.0,24.0,17.0,22.0,21.0,23.0,23.0,19.0,18.0,17.0,17.0,19.0,19.0,12.0,17.0,15.0,17.0,17.0,12.0,17.0,16.0,18.0,15.0,16.0,12.0,17.0,17.0,16.0,12.0,15.0,16.0,17.0,15.0,17.0,17.0,18.0,17.0,19.0,17.0,19.0,19.0,17.0,17.0,17.0,16.0,16.0,17.0,15.0,17.0,26.0,25.0,26.0,24.0,21.0,22.0,23.0,22.0,20.0,33.0,32.0,32.0,29.0,32.0,34.0,36.0,36.0,29.0,26.0,27.0,30.0,31.0,26.0,26.0,28.0,26.0,29.0,28.0,27.0,24.0,24.0,24.0,22.0,19.0,20.0,17.0,12.0,19.0,18.0,14.0,15.0,18.0,18.0,15.0,17.0,16.0,18.0,17.0,19.0,19.0,17.0,29.0,27.0,31.0,32.0,27.0,26.0,26.0,25.0,25.0,17.0,17.0,20.0,18.0,26.0,26.0,27.0,28.0,25.0,25.0,24.0,27.0,25.0,26.0,23.0,26.0,26.0,26.0,26.0,25.0,27.0,25.0,27.0,20.0,20.0,19.0,17.0,20.0,17.0,29.0,27.0,31.0,31.0,26.0,26.0,28.0,27.0,29.0,31.0,31.0,26.0,26.0,27.0,30.0,33.0,35.0,37.0,35.0,15.0,18.0,20.0,20.0,22.0,17.0,19.0,18.0,20.0,29.0,26.0,29.0,29.0,24.0,44.0,29.0,26.0,29.0,29.0,29.0,29.0,23.0,24.0,44.0,41.0,29.0,26.0,28.0,29.0,29.0,29.0,28.0,29.0,26.0,26.0,26.0],\n",
       "\"class\":[\"compact\",\"compact\",\"compact\",\"compact\",\"compact\",\"compact\",\"compact\",\"compact\",\"compact\",\"compact\",\"compact\",\"compact\",\"compact\",\"compact\",\"compact\",\"midsize\",\"midsize\",\"midsize\",\"suv\",\"suv\",\"suv\",\"suv\",\"suv\",\"2seater\",\"2seater\",\"2seater\",\"2seater\",\"2seater\",\"suv\",\"suv\",\"suv\",\"suv\",\"midsize\",\"midsize\",\"midsize\",\"midsize\",\"midsize\",\"minivan\",\"minivan\",\"minivan\",\"minivan\",\"minivan\",\"minivan\",\"minivan\",\"minivan\",\"minivan\",\"minivan\",\"minivan\",\"pickup\",\"pickup\",\"pickup\",\"pickup\",\"pickup\",\"pickup\",\"pickup\",\"pickup\",\"pickup\",\"suv\",\"suv\",\"suv\",\"suv\",\"suv\",\"suv\",\"suv\",\"pickup\",\"pickup\",\"pickup\",\"pickup\",\"pickup\",\"pickup\",\"pickup\",\"pickup\",\"pickup\",\"pickup\",\"suv\",\"suv\",\"suv\",\"suv\",\"suv\",\"suv\",\"suv\",\"suv\",\"suv\",\"pickup\",\"pickup\",\"pickup\",\"pickup\",\"pickup\",\"pickup\",\"pickup\",\"subcompact\",\"subcompact\",\"subcompact\",\"subcompact\",\"subcompact\",\"subcompact\",\"subcompact\",\"subcompact\",\"subcompact\",\"subcompact\",\"subcompact\",\"subcompact\",\"subcompact\",\"subcompact\",\"subcompact\",\"subcompact\",\"subcompact\",\"subcompact\",\"midsize\",\"midsize\",\"midsize\",\"midsize\",\"midsize\",\"midsize\",\"midsize\",\"subcompact\",\"subcompact\",\"subcompact\",\"subcompact\",\"subcompact\",\"subcompact\",\"subcompact\",\"suv\",\"suv\",\"suv\",\"suv\",\"suv\",\"suv\",\"suv\",\"suv\",\"suv\",\"suv\",\"suv\",\"suv\",\"suv\",\"suv\",\"suv\",\"suv\",\"suv\",\"suv\",\"suv\",\"compact\",\"compact\",\"midsize\",\"midsize\",\"midsize\",\"midsize\",\"midsize\",\"midsize\",\"midsize\",\"suv\",\"suv\",\"suv\",\"suv\",\"midsize\",\"midsize\",\"midsize\",\"midsize\",\"midsize\",\"suv\",\"suv\",\"suv\",\"suv\",\"suv\",\"suv\",\"subcompact\",\"subcompact\",\"subcompact\",\"subcompact\",\"compact\",\"compact\",\"compact\",\"compact\",\"suv\",\"suv\",\"suv\",\"suv\",\"suv\",\"suv\",\"midsize\",\"midsize\",\"midsize\",\"midsize\",\"midsize\",\"midsize\",\"midsize\",\"compact\",\"compact\",\"compact\",\"compact\",\"compact\",\"compact\",\"compact\",\"compact\",\"compact\",\"compact\",\"compact\",\"compact\",\"suv\",\"suv\",\"pickup\",\"pickup\",\"pickup\",\"pickup\",\"pickup\",\"pickup\",\"pickup\",\"compact\",\"compact\",\"compact\",\"compact\",\"compact\",\"compact\",\"compact\",\"compact\",\"compact\",\"compact\",\"compact\",\"compact\",\"compact\",\"compact\",\"subcompact\",\"subcompact\",\"subcompact\",\"subcompact\",\"subcompact\",\"subcompact\",\"midsize\",\"midsize\",\"midsize\",\"midsize\",\"midsize\",\"midsize\",\"midsize\"]\n",
       "},\n",
       "\"mapping\":{\n",
       "\"x\":\"cty\",\n",
       "\"y\":\"hwy\"\n",
       "},\n",
       "\"data_meta\":{\n",
       "\"series_annotations\":[{\n",
       "\"type\":\"int\",\n",
       "\"column\":\"Unnamed: 0\"\n",
       "},{\n",
       "\"type\":\"str\",\n",
       "\"column\":\"manufacturer\"\n",
       "},{\n",
       "\"type\":\"str\",\n",
       "\"column\":\"model\"\n",
       "},{\n",
       "\"type\":\"float\",\n",
       "\"column\":\"displ\"\n",
       "},{\n",
       "\"type\":\"int\",\n",
       "\"column\":\"year\"\n",
       "},{\n",
       "\"type\":\"int\",\n",
       "\"column\":\"cyl\"\n",
       "},{\n",
       "\"type\":\"str\",\n",
       "\"column\":\"trans\"\n",
       "},{\n",
       "\"type\":\"str\",\n",
       "\"column\":\"drv\"\n",
       "},{\n",
       "\"type\":\"int\",\n",
       "\"column\":\"cty\"\n",
       "},{\n",
       "\"type\":\"int\",\n",
       "\"column\":\"hwy\"\n",
       "},{\n",
       "\"type\":\"str\",\n",
       "\"column\":\"fl\"\n",
       "},{\n",
       "\"type\":\"str\",\n",
       "\"column\":\"class\"\n",
       "}]\n",
       "},\n",
       "\"theme\":{\n",
       "\"name\":\"light\"\n",
       "},\n",
       "\"facet\":{\n",
       "\"name\":\"wrap\",\n",
       "\"facets\":\"cyl\",\n",
       "\"scales\":\"free\",\n",
       "\"order\":1.0,\n",
       "\"dir\":\"h\"\n",
       "},\n",
       "\"kind\":\"plot\",\n",
       "\"scales\":[],\n",
       "\"layers\":[{\n",
       "\"geom\":\"point\",\n",
       "\"mapping\":{\n",
       "\"color\":\"class\"\n",
       "},\n",
       "\"data_meta\":{\n",
       "},\n",
       "\"shape\":21.0,\n",
       "\"data\":{\n",
       "}\n",
       "}],\n",
       "\"metainfo_list\":[]\n",
       "};\n",
       "           var plotContainer = document.getElementById(\"JBXTu5\");\n",
       "           window.letsPlotCall(function() {{\n",
       "               LetsPlot.buildPlotFromProcessedSpecs(plotSpec, -1, -1, plotContainer);\n",
       "           }});\n",
       "       })();\n",
       "   </script>"
      ],
      "text/plain": [
       "<lets_plot.plot.core.PlotSpec at 0x126db8fd0>"
      ]
     },
     "execution_count": 13,
     "metadata": {},
     "output_type": "execute_result"
    }
   ],
   "source": [
    "p + facet_wrap(facets=\"cyl\", scales=\"free\")"
   ]
  },
  {
   "attachments": {},
   "cell_type": "markdown",
   "metadata": {
    "datalore": {
     "hide_input_from_viewers": false,
     "hide_output_from_viewers": false,
     "node_id": "htTYq2QnEmK9xQObNIP9Ie",
     "report_properties": {
      "relativeY": 0,
      "rowId": "K6rwLwOLzmRbk59zkaPgsC"
     },
     "type": "MD"
    }
   },
   "source": [
    "## Multi-line Labels in Faceted Plot\n",
    "\n",
    "Automatic line breaking in the facet titles is performed according to the text length limit specified with parameters `labwidth` in `facet_wrap()` and `x_labwidth` / `y_labwidth` in `facet_grid()`."
   ]
  },
  {
   "cell_type": "code",
   "execution_count": 14,
   "metadata": {
    "datalore": {
     "hide_input_from_viewers": false,
     "hide_output_from_viewers": false,
     "node_id": "wDJaZ3lOH0iHipeWu9WaVD",
     "report_properties": {
      "relativeY": 0,
      "rowId": "wPYhKPz4CZoOsWdSHhpTAi"
     },
     "type": "CODE"
    },
    "execution": {
     "iopub.execute_input": "2024-09-27T18:24:11.338276Z",
     "iopub.status.busy": "2024-09-27T18:24:11.338207Z",
     "iopub.status.idle": "2024-09-27T18:24:11.342508Z",
     "shell.execute_reply": "2024-09-27T18:24:11.342314Z"
    }
   },
   "outputs": [
    {
     "data": {
      "text/html": [
       "   <div id=\"QpmON1\"></div>\n",
       "   <script type=\"text/javascript\" data-lets-plot-script=\"plot\">\n",
       "       (function() {\n",
       "           var plotSpec={\n",
       "\"data\":{\n",
       "\"year\":[1999.0,1999.0,2008.0,2008.0,1999.0,1999.0,2008.0,1999.0,1999.0,2008.0,2008.0,1999.0,1999.0,2008.0,2008.0,1999.0,2008.0,2008.0,2008.0,2008.0,2008.0,1999.0,2008.0,1999.0,1999.0,2008.0,2008.0,2008.0,2008.0,2008.0,1999.0,1999.0,1999.0,2008.0,1999.0,2008.0,2008.0,1999.0,1999.0,1999.0,1999.0,2008.0,2008.0,2008.0,1999.0,1999.0,2008.0,2008.0,2008.0,2008.0,1999.0,1999.0,2008.0,2008.0,2008.0,1999.0,1999.0,1999.0,2008.0,2008.0,2008.0,1999.0,2008.0,1999.0,2008.0,2008.0,2008.0,2008.0,2008.0,2008.0,1999.0,1999.0,2008.0,1999.0,1999.0,1999.0,2008.0,1999.0,1999.0,1999.0,2008.0,2008.0,1999.0,1999.0,1999.0,1999.0,1999.0,2008.0,1999.0,2008.0,1999.0,1999.0,2008.0,2008.0,1999.0,1999.0,2008.0,2008.0,2008.0,1999.0,1999.0,1999.0,1999.0,1999.0,2008.0,2008.0,2008.0,2008.0,1999.0,1999.0,2008.0,2008.0,1999.0,1999.0,2008.0,1999.0,1999.0,2008.0,2008.0,2008.0,2008.0,2008.0,2008.0,2008.0,1999.0,1999.0,2008.0,2008.0,2008.0,2008.0,1999.0,2008.0,2008.0,1999.0,1999.0,1999.0,2008.0,1999.0,2008.0,2008.0,1999.0,1999.0,1999.0,2008.0,2008.0,2008.0,2008.0,1999.0,1999.0,2008.0,1999.0,1999.0,2008.0,2008.0,1999.0,1999.0,1999.0,2008.0,2008.0,1999.0,1999.0,2008.0,2008.0,2008.0,2008.0,1999.0,1999.0,1999.0,1999.0,2008.0,2008.0,2008.0,2008.0,1999.0,1999.0,1999.0,1999.0,2008.0,2008.0,1999.0,1999.0,2008.0,2008.0,1999.0,1999.0,2008.0,1999.0,1999.0,2008.0,2008.0,1999.0,1999.0,2008.0,1999.0,1999.0,1999.0,2008.0,2008.0,1999.0,2008.0,1999.0,1999.0,2008.0,1999.0,1999.0,2008.0,2008.0,1999.0,1999.0,2008.0,2008.0,1999.0,1999.0,1999.0,1999.0,2008.0,2008.0,2008.0,2008.0,1999.0,1999.0,1999.0,1999.0,1999.0,1999.0,2008.0,2008.0,1999.0,1999.0,2008.0,2008.0,1999.0,1999.0,2008.0],\n",
       "\"cyl\":[4.0,4.0,4.0,4.0,6.0,6.0,6.0,4.0,4.0,4.0,4.0,6.0,6.0,6.0,6.0,6.0,6.0,8.0,8.0,8.0,8.0,8.0,8.0,8.0,8.0,8.0,8.0,8.0,8.0,8.0,8.0,8.0,4.0,4.0,6.0,6.0,6.0,4.0,6.0,6.0,6.0,6.0,6.0,6.0,6.0,6.0,6.0,6.0,6.0,6.0,6.0,6.0,8.0,8.0,8.0,8.0,8.0,6.0,8.0,8.0,8.0,8.0,8.0,8.0,8.0,8.0,8.0,8.0,8.0,8.0,8.0,8.0,8.0,8.0,8.0,8.0,8.0,6.0,6.0,6.0,6.0,8.0,8.0,6.0,6.0,8.0,8.0,8.0,8.0,8.0,6.0,6.0,6.0,6.0,8.0,8.0,8.0,8.0,8.0,4.0,4.0,4.0,4.0,4.0,4.0,4.0,4.0,4.0,4.0,4.0,4.0,4.0,6.0,6.0,6.0,4.0,4.0,4.0,4.0,6.0,6.0,6.0,6.0,6.0,6.0,8.0,8.0,8.0,8.0,8.0,8.0,8.0,8.0,8.0,8.0,8.0,8.0,6.0,6.0,8.0,8.0,4.0,4.0,4.0,4.0,6.0,6.0,6.0,6.0,6.0,6.0,6.0,6.0,8.0,6.0,6.0,6.0,6.0,8.0,4.0,4.0,4.0,4.0,4.0,4.0,4.0,4.0,4.0,4.0,4.0,4.0,4.0,4.0,4.0,4.0,6.0,6.0,6.0,8.0,4.0,4.0,4.0,4.0,6.0,6.0,6.0,4.0,4.0,4.0,4.0,6.0,6.0,6.0,4.0,4.0,4.0,4.0,4.0,8.0,8.0,4.0,4.0,4.0,6.0,6.0,6.0,6.0,4.0,4.0,4.0,4.0,6.0,4.0,4.0,4.0,4.0,4.0,5.0,5.0,6.0,6.0,4.0,4.0,4.0,4.0,5.0,5.0,4.0,4.0,4.0,4.0,6.0,6.0,6.0],\n",
       "\"cty\":[18.0,21.0,20.0,21.0,16.0,18.0,18.0,18.0,16.0,20.0,19.0,15.0,17.0,17.0,15.0,15.0,17.0,16.0,14.0,11.0,14.0,13.0,12.0,16.0,15.0,16.0,15.0,15.0,14.0,11.0,11.0,14.0,19.0,22.0,18.0,18.0,17.0,18.0,17.0,16.0,16.0,17.0,17.0,11.0,15.0,15.0,16.0,16.0,15.0,14.0,13.0,14.0,14.0,14.0,9.0,11.0,11.0,13.0,13.0,9.0,13.0,11.0,13.0,11.0,12.0,9.0,13.0,13.0,12.0,9.0,11.0,11.0,13.0,11.0,11.0,11.0,12.0,14.0,15.0,14.0,13.0,13.0,13.0,14.0,14.0,13.0,13.0,13.0,11.0,13.0,18.0,18.0,17.0,16.0,15.0,15.0,15.0,15.0,14.0,28.0,24.0,25.0,23.0,24.0,26.0,25.0,24.0,21.0,18.0,18.0,21.0,21.0,18.0,18.0,19.0,19.0,19.0,20.0,20.0,17.0,16.0,17.0,17.0,15.0,15.0,14.0,9.0,14.0,13.0,11.0,11.0,12.0,12.0,11.0,11.0,11.0,12.0,14.0,13.0,13.0,13.0,21.0,19.0,23.0,23.0,19.0,19.0,18.0,19.0,19.0,14.0,15.0,14.0,12.0,18.0,16.0,17.0,18.0,16.0,18.0,18.0,20.0,19.0,20.0,18.0,21.0,19.0,19.0,19.0,20.0,20.0,19.0,20.0,15.0,16.0,15.0,15.0,16.0,14.0,21.0,21.0,21.0,21.0,18.0,18.0,19.0,21.0,21.0,21.0,22.0,18.0,18.0,18.0,24.0,24.0,26.0,28.0,26.0,11.0,13.0,15.0,16.0,17.0,15.0,15.0,15.0,16.0,21.0,19.0,21.0,22.0,17.0,33.0,21.0,19.0,22.0,21.0,21.0,21.0,16.0,17.0,35.0,29.0,21.0,19.0,20.0,20.0,21.0,18.0,19.0,21.0,16.0,18.0,17.0],\n",
       "\"hwy\":[29.0,29.0,31.0,30.0,26.0,26.0,27.0,26.0,25.0,28.0,27.0,25.0,25.0,25.0,25.0,24.0,25.0,23.0,20.0,15.0,20.0,17.0,17.0,26.0,23.0,26.0,25.0,24.0,19.0,14.0,15.0,17.0,27.0,30.0,26.0,29.0,26.0,24.0,24.0,22.0,22.0,24.0,24.0,17.0,22.0,21.0,23.0,23.0,19.0,18.0,17.0,17.0,19.0,19.0,12.0,17.0,15.0,17.0,17.0,12.0,17.0,16.0,18.0,15.0,16.0,12.0,17.0,17.0,16.0,12.0,15.0,16.0,17.0,15.0,17.0,17.0,18.0,17.0,19.0,17.0,19.0,19.0,17.0,17.0,17.0,16.0,16.0,17.0,15.0,17.0,26.0,25.0,26.0,24.0,21.0,22.0,23.0,22.0,20.0,33.0,32.0,32.0,29.0,32.0,34.0,36.0,36.0,29.0,26.0,27.0,30.0,31.0,26.0,26.0,28.0,26.0,29.0,28.0,27.0,24.0,24.0,24.0,22.0,19.0,20.0,17.0,12.0,19.0,18.0,14.0,15.0,18.0,18.0,15.0,17.0,16.0,18.0,17.0,19.0,19.0,17.0,29.0,27.0,31.0,32.0,27.0,26.0,26.0,25.0,25.0,17.0,17.0,20.0,18.0,26.0,26.0,27.0,28.0,25.0,25.0,24.0,27.0,25.0,26.0,23.0,26.0,26.0,26.0,26.0,25.0,27.0,25.0,27.0,20.0,20.0,19.0,17.0,20.0,17.0,29.0,27.0,31.0,31.0,26.0,26.0,28.0,27.0,29.0,31.0,31.0,26.0,26.0,27.0,30.0,33.0,35.0,37.0,35.0,15.0,18.0,20.0,20.0,22.0,17.0,19.0,18.0,20.0,29.0,26.0,29.0,29.0,24.0,44.0,29.0,26.0,29.0,29.0,29.0,29.0,23.0,24.0,44.0,41.0,29.0,26.0,28.0,29.0,29.0,29.0,28.0,29.0,26.0,26.0,26.0],\n",
       "\"class\":[\"compact\",\"compact\",\"compact\",\"compact\",\"compact\",\"compact\",\"compact\",\"compact\",\"compact\",\"compact\",\"compact\",\"compact\",\"compact\",\"compact\",\"compact\",\"midsize\",\"midsize\",\"midsize\",\"suv\",\"suv\",\"suv\",\"suv\",\"suv\",\"2seater\",\"2seater\",\"2seater\",\"2seater\",\"2seater\",\"suv\",\"suv\",\"suv\",\"suv\",\"midsize\",\"midsize\",\"midsize\",\"midsize\",\"midsize\",\"minivan\",\"minivan\",\"minivan\",\"minivan\",\"minivan\",\"minivan\",\"minivan\",\"minivan\",\"minivan\",\"minivan\",\"minivan\",\"pickup\",\"pickup\",\"pickup\",\"pickup\",\"pickup\",\"pickup\",\"pickup\",\"pickup\",\"pickup\",\"suv\",\"suv\",\"suv\",\"suv\",\"suv\",\"suv\",\"suv\",\"pickup\",\"pickup\",\"pickup\",\"pickup\",\"pickup\",\"pickup\",\"pickup\",\"pickup\",\"pickup\",\"pickup\",\"suv\",\"suv\",\"suv\",\"suv\",\"suv\",\"suv\",\"suv\",\"suv\",\"suv\",\"pickup\",\"pickup\",\"pickup\",\"pickup\",\"pickup\",\"pickup\",\"pickup\",\"subcompact\",\"subcompact\",\"subcompact\",\"subcompact\",\"subcompact\",\"subcompact\",\"subcompact\",\"subcompact\",\"subcompact\",\"subcompact\",\"subcompact\",\"subcompact\",\"subcompact\",\"subcompact\",\"subcompact\",\"subcompact\",\"subcompact\",\"subcompact\",\"midsize\",\"midsize\",\"midsize\",\"midsize\",\"midsize\",\"midsize\",\"midsize\",\"subcompact\",\"subcompact\",\"subcompact\",\"subcompact\",\"subcompact\",\"subcompact\",\"subcompact\",\"suv\",\"suv\",\"suv\",\"suv\",\"suv\",\"suv\",\"suv\",\"suv\",\"suv\",\"suv\",\"suv\",\"suv\",\"suv\",\"suv\",\"suv\",\"suv\",\"suv\",\"suv\",\"suv\",\"compact\",\"compact\",\"midsize\",\"midsize\",\"midsize\",\"midsize\",\"midsize\",\"midsize\",\"midsize\",\"suv\",\"suv\",\"suv\",\"suv\",\"midsize\",\"midsize\",\"midsize\",\"midsize\",\"midsize\",\"suv\",\"suv\",\"suv\",\"suv\",\"suv\",\"suv\",\"subcompact\",\"subcompact\",\"subcompact\",\"subcompact\",\"compact\",\"compact\",\"compact\",\"compact\",\"suv\",\"suv\",\"suv\",\"suv\",\"suv\",\"suv\",\"midsize\",\"midsize\",\"midsize\",\"midsize\",\"midsize\",\"midsize\",\"midsize\",\"compact\",\"compact\",\"compact\",\"compact\",\"compact\",\"compact\",\"compact\",\"compact\",\"compact\",\"compact\",\"compact\",\"compact\",\"suv\",\"suv\",\"pickup\",\"pickup\",\"pickup\",\"pickup\",\"pickup\",\"pickup\",\"pickup\",\"compact\",\"compact\",\"compact\",\"compact\",\"compact\",\"compact\",\"compact\",\"compact\",\"compact\",\"compact\",\"compact\",\"compact\",\"compact\",\"compact\",\"subcompact\",\"subcompact\",\"subcompact\",\"subcompact\",\"subcompact\",\"subcompact\",\"midsize\",\"midsize\",\"midsize\",\"midsize\",\"midsize\",\"midsize\",\"midsize\"]\n",
       "},\n",
       "\"mapping\":{\n",
       "\"x\":\"cty\",\n",
       "\"y\":\"hwy\"\n",
       "},\n",
       "\"data_meta\":{\n",
       "\"series_annotations\":[{\n",
       "\"type\":\"int\",\n",
       "\"column\":\"Unnamed: 0\"\n",
       "},{\n",
       "\"type\":\"str\",\n",
       "\"column\":\"manufacturer\"\n",
       "},{\n",
       "\"type\":\"str\",\n",
       "\"column\":\"model\"\n",
       "},{\n",
       "\"type\":\"float\",\n",
       "\"column\":\"displ\"\n",
       "},{\n",
       "\"type\":\"int\",\n",
       "\"column\":\"year\"\n",
       "},{\n",
       "\"type\":\"int\",\n",
       "\"column\":\"cyl\"\n",
       "},{\n",
       "\"type\":\"str\",\n",
       "\"column\":\"trans\"\n",
       "},{\n",
       "\"type\":\"str\",\n",
       "\"column\":\"drv\"\n",
       "},{\n",
       "\"type\":\"int\",\n",
       "\"column\":\"cty\"\n",
       "},{\n",
       "\"type\":\"int\",\n",
       "\"column\":\"hwy\"\n",
       "},{\n",
       "\"type\":\"str\",\n",
       "\"column\":\"fl\"\n",
       "},{\n",
       "\"type\":\"str\",\n",
       "\"column\":\"class\"\n",
       "}]\n",
       "},\n",
       "\"theme\":{\n",
       "\"name\":\"light\"\n",
       "},\n",
       "\"facet\":{\n",
       "\"name\":\"grid\",\n",
       "\"x\":\"cyl\",\n",
       "\"y\":\"year\",\n",
       "\"x_order\":1.0,\n",
       "\"y_order\":1.0,\n",
       "\"x_format\":\"{d} cylinders car\"\n",
       "},\n",
       "\"kind\":\"plot\",\n",
       "\"scales\":[],\n",
       "\"layers\":[{\n",
       "\"geom\":\"point\",\n",
       "\"mapping\":{\n",
       "\"color\":\"class\"\n",
       "},\n",
       "\"data_meta\":{\n",
       "},\n",
       "\"shape\":21.0,\n",
       "\"data\":{\n",
       "}\n",
       "}],\n",
       "\"metainfo_list\":[]\n",
       "};\n",
       "           var plotContainer = document.getElementById(\"QpmON1\");\n",
       "           window.letsPlotCall(function() {{\n",
       "               LetsPlot.buildPlotFromProcessedSpecs(plotSpec, -1, -1, plotContainer);\n",
       "           }});\n",
       "       })();\n",
       "   </script>"
      ],
      "text/plain": [
       "<lets_plot.plot.core.PlotSpec at 0x126dc4be0>"
      ]
     },
     "execution_count": 14,
     "metadata": {},
     "output_type": "execute_result"
    }
   ],
   "source": [
    "p + facet_grid(x=\"cyl\", y=\"year\", x_format=\"{d} cylinders car\")"
   ]
  },
  {
   "attachments": {},
   "cell_type": "markdown",
   "metadata": {
    "datalore": {
     "hide_input_from_viewers": false,
     "hide_output_from_viewers": false,
     "node_id": "Y6pKndhHmsp0b5ru46mgmY",
     "report_properties": {
      "relativeY": 0,
      "rowId": "xZeRu6RxSUJgAbbCxoTYbT"
     },
     "type": "MD"
    }
   },
   "source": [
    "Let's make the horizontal headers two-line using `x_linewidth` parameter."
   ]
  },
  {
   "cell_type": "code",
   "execution_count": 15,
   "metadata": {
    "datalore": {
     "hide_input_from_viewers": false,
     "hide_output_from_viewers": false,
     "node_id": "c8t6fAHonLr5FOfaBp0wKb",
     "report_properties": {
      "relativeY": 0,
      "rowId": "v5Ikau40KJJ33NnaJ0egoW"
     },
     "type": "CODE"
    },
    "execution": {
     "iopub.execute_input": "2024-09-27T18:24:11.343529Z",
     "iopub.status.busy": "2024-09-27T18:24:11.343459Z",
     "iopub.status.idle": "2024-09-27T18:24:11.348188Z",
     "shell.execute_reply": "2024-09-27T18:24:11.348005Z"
    }
   },
   "outputs": [
    {
     "data": {
      "text/html": [
       "   <div id=\"UXSEPc\"></div>\n",
       "   <script type=\"text/javascript\" data-lets-plot-script=\"plot\">\n",
       "       (function() {\n",
       "           var plotSpec={\n",
       "\"data\":{\n",
       "\"year\":[1999.0,1999.0,2008.0,2008.0,1999.0,1999.0,2008.0,1999.0,1999.0,2008.0,2008.0,1999.0,1999.0,2008.0,2008.0,1999.0,2008.0,2008.0,2008.0,2008.0,2008.0,1999.0,2008.0,1999.0,1999.0,2008.0,2008.0,2008.0,2008.0,2008.0,1999.0,1999.0,1999.0,2008.0,1999.0,2008.0,2008.0,1999.0,1999.0,1999.0,1999.0,2008.0,2008.0,2008.0,1999.0,1999.0,2008.0,2008.0,2008.0,2008.0,1999.0,1999.0,2008.0,2008.0,2008.0,1999.0,1999.0,1999.0,2008.0,2008.0,2008.0,1999.0,2008.0,1999.0,2008.0,2008.0,2008.0,2008.0,2008.0,2008.0,1999.0,1999.0,2008.0,1999.0,1999.0,1999.0,2008.0,1999.0,1999.0,1999.0,2008.0,2008.0,1999.0,1999.0,1999.0,1999.0,1999.0,2008.0,1999.0,2008.0,1999.0,1999.0,2008.0,2008.0,1999.0,1999.0,2008.0,2008.0,2008.0,1999.0,1999.0,1999.0,1999.0,1999.0,2008.0,2008.0,2008.0,2008.0,1999.0,1999.0,2008.0,2008.0,1999.0,1999.0,2008.0,1999.0,1999.0,2008.0,2008.0,2008.0,2008.0,2008.0,2008.0,2008.0,1999.0,1999.0,2008.0,2008.0,2008.0,2008.0,1999.0,2008.0,2008.0,1999.0,1999.0,1999.0,2008.0,1999.0,2008.0,2008.0,1999.0,1999.0,1999.0,2008.0,2008.0,2008.0,2008.0,1999.0,1999.0,2008.0,1999.0,1999.0,2008.0,2008.0,1999.0,1999.0,1999.0,2008.0,2008.0,1999.0,1999.0,2008.0,2008.0,2008.0,2008.0,1999.0,1999.0,1999.0,1999.0,2008.0,2008.0,2008.0,2008.0,1999.0,1999.0,1999.0,1999.0,2008.0,2008.0,1999.0,1999.0,2008.0,2008.0,1999.0,1999.0,2008.0,1999.0,1999.0,2008.0,2008.0,1999.0,1999.0,2008.0,1999.0,1999.0,1999.0,2008.0,2008.0,1999.0,2008.0,1999.0,1999.0,2008.0,1999.0,1999.0,2008.0,2008.0,1999.0,1999.0,2008.0,2008.0,1999.0,1999.0,1999.0,1999.0,2008.0,2008.0,2008.0,2008.0,1999.0,1999.0,1999.0,1999.0,1999.0,1999.0,2008.0,2008.0,1999.0,1999.0,2008.0,2008.0,1999.0,1999.0,2008.0],\n",
       "\"cyl\":[4.0,4.0,4.0,4.0,6.0,6.0,6.0,4.0,4.0,4.0,4.0,6.0,6.0,6.0,6.0,6.0,6.0,8.0,8.0,8.0,8.0,8.0,8.0,8.0,8.0,8.0,8.0,8.0,8.0,8.0,8.0,8.0,4.0,4.0,6.0,6.0,6.0,4.0,6.0,6.0,6.0,6.0,6.0,6.0,6.0,6.0,6.0,6.0,6.0,6.0,6.0,6.0,8.0,8.0,8.0,8.0,8.0,6.0,8.0,8.0,8.0,8.0,8.0,8.0,8.0,8.0,8.0,8.0,8.0,8.0,8.0,8.0,8.0,8.0,8.0,8.0,8.0,6.0,6.0,6.0,6.0,8.0,8.0,6.0,6.0,8.0,8.0,8.0,8.0,8.0,6.0,6.0,6.0,6.0,8.0,8.0,8.0,8.0,8.0,4.0,4.0,4.0,4.0,4.0,4.0,4.0,4.0,4.0,4.0,4.0,4.0,4.0,6.0,6.0,6.0,4.0,4.0,4.0,4.0,6.0,6.0,6.0,6.0,6.0,6.0,8.0,8.0,8.0,8.0,8.0,8.0,8.0,8.0,8.0,8.0,8.0,8.0,6.0,6.0,8.0,8.0,4.0,4.0,4.0,4.0,6.0,6.0,6.0,6.0,6.0,6.0,6.0,6.0,8.0,6.0,6.0,6.0,6.0,8.0,4.0,4.0,4.0,4.0,4.0,4.0,4.0,4.0,4.0,4.0,4.0,4.0,4.0,4.0,4.0,4.0,6.0,6.0,6.0,8.0,4.0,4.0,4.0,4.0,6.0,6.0,6.0,4.0,4.0,4.0,4.0,6.0,6.0,6.0,4.0,4.0,4.0,4.0,4.0,8.0,8.0,4.0,4.0,4.0,6.0,6.0,6.0,6.0,4.0,4.0,4.0,4.0,6.0,4.0,4.0,4.0,4.0,4.0,5.0,5.0,6.0,6.0,4.0,4.0,4.0,4.0,5.0,5.0,4.0,4.0,4.0,4.0,6.0,6.0,6.0],\n",
       "\"cty\":[18.0,21.0,20.0,21.0,16.0,18.0,18.0,18.0,16.0,20.0,19.0,15.0,17.0,17.0,15.0,15.0,17.0,16.0,14.0,11.0,14.0,13.0,12.0,16.0,15.0,16.0,15.0,15.0,14.0,11.0,11.0,14.0,19.0,22.0,18.0,18.0,17.0,18.0,17.0,16.0,16.0,17.0,17.0,11.0,15.0,15.0,16.0,16.0,15.0,14.0,13.0,14.0,14.0,14.0,9.0,11.0,11.0,13.0,13.0,9.0,13.0,11.0,13.0,11.0,12.0,9.0,13.0,13.0,12.0,9.0,11.0,11.0,13.0,11.0,11.0,11.0,12.0,14.0,15.0,14.0,13.0,13.0,13.0,14.0,14.0,13.0,13.0,13.0,11.0,13.0,18.0,18.0,17.0,16.0,15.0,15.0,15.0,15.0,14.0,28.0,24.0,25.0,23.0,24.0,26.0,25.0,24.0,21.0,18.0,18.0,21.0,21.0,18.0,18.0,19.0,19.0,19.0,20.0,20.0,17.0,16.0,17.0,17.0,15.0,15.0,14.0,9.0,14.0,13.0,11.0,11.0,12.0,12.0,11.0,11.0,11.0,12.0,14.0,13.0,13.0,13.0,21.0,19.0,23.0,23.0,19.0,19.0,18.0,19.0,19.0,14.0,15.0,14.0,12.0,18.0,16.0,17.0,18.0,16.0,18.0,18.0,20.0,19.0,20.0,18.0,21.0,19.0,19.0,19.0,20.0,20.0,19.0,20.0,15.0,16.0,15.0,15.0,16.0,14.0,21.0,21.0,21.0,21.0,18.0,18.0,19.0,21.0,21.0,21.0,22.0,18.0,18.0,18.0,24.0,24.0,26.0,28.0,26.0,11.0,13.0,15.0,16.0,17.0,15.0,15.0,15.0,16.0,21.0,19.0,21.0,22.0,17.0,33.0,21.0,19.0,22.0,21.0,21.0,21.0,16.0,17.0,35.0,29.0,21.0,19.0,20.0,20.0,21.0,18.0,19.0,21.0,16.0,18.0,17.0],\n",
       "\"hwy\":[29.0,29.0,31.0,30.0,26.0,26.0,27.0,26.0,25.0,28.0,27.0,25.0,25.0,25.0,25.0,24.0,25.0,23.0,20.0,15.0,20.0,17.0,17.0,26.0,23.0,26.0,25.0,24.0,19.0,14.0,15.0,17.0,27.0,30.0,26.0,29.0,26.0,24.0,24.0,22.0,22.0,24.0,24.0,17.0,22.0,21.0,23.0,23.0,19.0,18.0,17.0,17.0,19.0,19.0,12.0,17.0,15.0,17.0,17.0,12.0,17.0,16.0,18.0,15.0,16.0,12.0,17.0,17.0,16.0,12.0,15.0,16.0,17.0,15.0,17.0,17.0,18.0,17.0,19.0,17.0,19.0,19.0,17.0,17.0,17.0,16.0,16.0,17.0,15.0,17.0,26.0,25.0,26.0,24.0,21.0,22.0,23.0,22.0,20.0,33.0,32.0,32.0,29.0,32.0,34.0,36.0,36.0,29.0,26.0,27.0,30.0,31.0,26.0,26.0,28.0,26.0,29.0,28.0,27.0,24.0,24.0,24.0,22.0,19.0,20.0,17.0,12.0,19.0,18.0,14.0,15.0,18.0,18.0,15.0,17.0,16.0,18.0,17.0,19.0,19.0,17.0,29.0,27.0,31.0,32.0,27.0,26.0,26.0,25.0,25.0,17.0,17.0,20.0,18.0,26.0,26.0,27.0,28.0,25.0,25.0,24.0,27.0,25.0,26.0,23.0,26.0,26.0,26.0,26.0,25.0,27.0,25.0,27.0,20.0,20.0,19.0,17.0,20.0,17.0,29.0,27.0,31.0,31.0,26.0,26.0,28.0,27.0,29.0,31.0,31.0,26.0,26.0,27.0,30.0,33.0,35.0,37.0,35.0,15.0,18.0,20.0,20.0,22.0,17.0,19.0,18.0,20.0,29.0,26.0,29.0,29.0,24.0,44.0,29.0,26.0,29.0,29.0,29.0,29.0,23.0,24.0,44.0,41.0,29.0,26.0,28.0,29.0,29.0,29.0,28.0,29.0,26.0,26.0,26.0],\n",
       "\"class\":[\"compact\",\"compact\",\"compact\",\"compact\",\"compact\",\"compact\",\"compact\",\"compact\",\"compact\",\"compact\",\"compact\",\"compact\",\"compact\",\"compact\",\"compact\",\"midsize\",\"midsize\",\"midsize\",\"suv\",\"suv\",\"suv\",\"suv\",\"suv\",\"2seater\",\"2seater\",\"2seater\",\"2seater\",\"2seater\",\"suv\",\"suv\",\"suv\",\"suv\",\"midsize\",\"midsize\",\"midsize\",\"midsize\",\"midsize\",\"minivan\",\"minivan\",\"minivan\",\"minivan\",\"minivan\",\"minivan\",\"minivan\",\"minivan\",\"minivan\",\"minivan\",\"minivan\",\"pickup\",\"pickup\",\"pickup\",\"pickup\",\"pickup\",\"pickup\",\"pickup\",\"pickup\",\"pickup\",\"suv\",\"suv\",\"suv\",\"suv\",\"suv\",\"suv\",\"suv\",\"pickup\",\"pickup\",\"pickup\",\"pickup\",\"pickup\",\"pickup\",\"pickup\",\"pickup\",\"pickup\",\"pickup\",\"suv\",\"suv\",\"suv\",\"suv\",\"suv\",\"suv\",\"suv\",\"suv\",\"suv\",\"pickup\",\"pickup\",\"pickup\",\"pickup\",\"pickup\",\"pickup\",\"pickup\",\"subcompact\",\"subcompact\",\"subcompact\",\"subcompact\",\"subcompact\",\"subcompact\",\"subcompact\",\"subcompact\",\"subcompact\",\"subcompact\",\"subcompact\",\"subcompact\",\"subcompact\",\"subcompact\",\"subcompact\",\"subcompact\",\"subcompact\",\"subcompact\",\"midsize\",\"midsize\",\"midsize\",\"midsize\",\"midsize\",\"midsize\",\"midsize\",\"subcompact\",\"subcompact\",\"subcompact\",\"subcompact\",\"subcompact\",\"subcompact\",\"subcompact\",\"suv\",\"suv\",\"suv\",\"suv\",\"suv\",\"suv\",\"suv\",\"suv\",\"suv\",\"suv\",\"suv\",\"suv\",\"suv\",\"suv\",\"suv\",\"suv\",\"suv\",\"suv\",\"suv\",\"compact\",\"compact\",\"midsize\",\"midsize\",\"midsize\",\"midsize\",\"midsize\",\"midsize\",\"midsize\",\"suv\",\"suv\",\"suv\",\"suv\",\"midsize\",\"midsize\",\"midsize\",\"midsize\",\"midsize\",\"suv\",\"suv\",\"suv\",\"suv\",\"suv\",\"suv\",\"subcompact\",\"subcompact\",\"subcompact\",\"subcompact\",\"compact\",\"compact\",\"compact\",\"compact\",\"suv\",\"suv\",\"suv\",\"suv\",\"suv\",\"suv\",\"midsize\",\"midsize\",\"midsize\",\"midsize\",\"midsize\",\"midsize\",\"midsize\",\"compact\",\"compact\",\"compact\",\"compact\",\"compact\",\"compact\",\"compact\",\"compact\",\"compact\",\"compact\",\"compact\",\"compact\",\"suv\",\"suv\",\"pickup\",\"pickup\",\"pickup\",\"pickup\",\"pickup\",\"pickup\",\"pickup\",\"compact\",\"compact\",\"compact\",\"compact\",\"compact\",\"compact\",\"compact\",\"compact\",\"compact\",\"compact\",\"compact\",\"compact\",\"compact\",\"compact\",\"subcompact\",\"subcompact\",\"subcompact\",\"subcompact\",\"subcompact\",\"subcompact\",\"midsize\",\"midsize\",\"midsize\",\"midsize\",\"midsize\",\"midsize\",\"midsize\"]\n",
       "},\n",
       "\"mapping\":{\n",
       "\"x\":\"cty\",\n",
       "\"y\":\"hwy\"\n",
       "},\n",
       "\"data_meta\":{\n",
       "\"series_annotations\":[{\n",
       "\"type\":\"int\",\n",
       "\"column\":\"Unnamed: 0\"\n",
       "},{\n",
       "\"type\":\"str\",\n",
       "\"column\":\"manufacturer\"\n",
       "},{\n",
       "\"type\":\"str\",\n",
       "\"column\":\"model\"\n",
       "},{\n",
       "\"type\":\"float\",\n",
       "\"column\":\"displ\"\n",
       "},{\n",
       "\"type\":\"int\",\n",
       "\"column\":\"year\"\n",
       "},{\n",
       "\"type\":\"int\",\n",
       "\"column\":\"cyl\"\n",
       "},{\n",
       "\"type\":\"str\",\n",
       "\"column\":\"trans\"\n",
       "},{\n",
       "\"type\":\"str\",\n",
       "\"column\":\"drv\"\n",
       "},{\n",
       "\"type\":\"int\",\n",
       "\"column\":\"cty\"\n",
       "},{\n",
       "\"type\":\"int\",\n",
       "\"column\":\"hwy\"\n",
       "},{\n",
       "\"type\":\"str\",\n",
       "\"column\":\"fl\"\n",
       "},{\n",
       "\"type\":\"str\",\n",
       "\"column\":\"class\"\n",
       "}]\n",
       "},\n",
       "\"theme\":{\n",
       "\"name\":\"light\"\n",
       "},\n",
       "\"facet\":{\n",
       "\"name\":\"grid\",\n",
       "\"x\":\"cyl\",\n",
       "\"y\":\"year\",\n",
       "\"x_order\":1.0,\n",
       "\"y_order\":1.0,\n",
       "\"x_format\":\"{d} cylinders car\",\n",
       "\"x_labwidth\":11.0\n",
       "},\n",
       "\"kind\":\"plot\",\n",
       "\"scales\":[],\n",
       "\"layers\":[{\n",
       "\"geom\":\"point\",\n",
       "\"mapping\":{\n",
       "\"color\":\"class\"\n",
       "},\n",
       "\"data_meta\":{\n",
       "},\n",
       "\"shape\":21.0,\n",
       "\"data\":{\n",
       "}\n",
       "}],\n",
       "\"metainfo_list\":[]\n",
       "};\n",
       "           var plotContainer = document.getElementById(\"UXSEPc\");\n",
       "           window.letsPlotCall(function() {{\n",
       "               LetsPlot.buildPlotFromProcessedSpecs(plotSpec, -1, -1, plotContainer);\n",
       "           }});\n",
       "       })();\n",
       "   </script>"
      ],
      "text/plain": [
       "<lets_plot.plot.core.PlotSpec at 0x126dd4610>"
      ]
     },
     "execution_count": 15,
     "metadata": {},
     "output_type": "execute_result"
    }
   ],
   "source": [
    "p + facet_grid(x=\"cyl\", y=\"year\", x_format=\"{d} cylinders car\", x_labwidth=11)"
   ]
  },
  {
   "attachments": {},
   "cell_type": "markdown",
   "metadata": {
    "datalore": {
     "hide_input_from_viewers": false,
     "hide_output_from_viewers": false,
     "node_id": "WCnqEJYolrSXEVMuaTA3bq",
     "report_properties": {
      "relativeY": 0,
      "rowId": "wXuzQpO6aqQ4XdBW9vVAE1"
     },
     "type": "MD"
    }
   },
   "source": [
    "If the original facet label already contains `\\n` as a text separator, the line breaking is not applied."
   ]
  },
  {
   "cell_type": "code",
   "execution_count": 16,
   "metadata": {
    "datalore": {
     "hide_input_from_viewers": false,
     "hide_output_from_viewers": false,
     "node_id": "3zB04sCVxyqDElRrYNf062",
     "report_properties": {
      "relativeY": 0,
      "rowId": "9bSBmnSxaMgAkPUptNFFQ2"
     },
     "type": "CODE"
    },
    "execution": {
     "iopub.execute_input": "2024-09-27T18:24:11.349186Z",
     "iopub.status.busy": "2024-09-27T18:24:11.349120Z",
     "iopub.status.idle": "2024-09-27T18:24:11.355710Z",
     "shell.execute_reply": "2024-09-27T18:24:11.355513Z"
    }
   },
   "outputs": [
    {
     "data": {
      "text/html": [
       "   <div id=\"cjVPEH\"></div>\n",
       "   <script type=\"text/javascript\" data-lets-plot-script=\"plot\">\n",
       "       (function() {\n",
       "           var plotSpec={\n",
       "\"ggsize\":{\n",
       "\"width\":1200.0,\n",
       "\"height\":800.0\n",
       "},\n",
       "\"kind\":\"subplots\",\n",
       "\"layout\":{\n",
       "\"ncol\":2.0,\n",
       "\"nrow\":1.0,\n",
       "\"name\":\"grid\"\n",
       "},\n",
       "\"figures\":[{\n",
       "\"data\":{\n",
       "\"year\":[1999.0,1999.0,2008.0,2008.0,1999.0,1999.0,2008.0,1999.0,1999.0,2008.0,2008.0,1999.0,1999.0,2008.0,2008.0,1999.0,2008.0,2008.0,2008.0,2008.0,2008.0,1999.0,2008.0,1999.0,1999.0,2008.0,2008.0,2008.0,2008.0,2008.0,1999.0,1999.0,1999.0,2008.0,1999.0,2008.0,2008.0,1999.0,1999.0,1999.0,1999.0,2008.0,2008.0,2008.0,1999.0,1999.0,2008.0,2008.0,2008.0,2008.0,1999.0,1999.0,2008.0,2008.0,2008.0,1999.0,1999.0,1999.0,2008.0,2008.0,2008.0,1999.0,2008.0,1999.0,2008.0,2008.0,2008.0,2008.0,2008.0,2008.0,1999.0,1999.0,2008.0,1999.0,1999.0,1999.0,2008.0,1999.0,1999.0,1999.0,2008.0,2008.0,1999.0,1999.0,1999.0,1999.0,1999.0,2008.0,1999.0,2008.0,1999.0,1999.0,2008.0,2008.0,1999.0,1999.0,2008.0,2008.0,2008.0,1999.0,1999.0,1999.0,1999.0,1999.0,2008.0,2008.0,2008.0,2008.0,1999.0,1999.0,2008.0,2008.0,1999.0,1999.0,2008.0,1999.0,1999.0,2008.0,2008.0,2008.0,2008.0,2008.0,2008.0,2008.0,1999.0,1999.0,2008.0,2008.0,2008.0,2008.0,1999.0,2008.0,2008.0,1999.0,1999.0,1999.0,2008.0,1999.0,2008.0,2008.0,1999.0,1999.0,1999.0,2008.0,2008.0,2008.0,2008.0,1999.0,1999.0,2008.0,1999.0,1999.0,2008.0,2008.0,1999.0,1999.0,1999.0,2008.0,2008.0,1999.0,1999.0,2008.0,2008.0,2008.0,2008.0,1999.0,1999.0,1999.0,1999.0,2008.0,2008.0,2008.0,2008.0,1999.0,1999.0,1999.0,1999.0,2008.0,2008.0,1999.0,1999.0,2008.0,2008.0,1999.0,1999.0,2008.0,1999.0,1999.0,2008.0,2008.0,1999.0,1999.0,2008.0,1999.0,1999.0,1999.0,2008.0,2008.0,1999.0,2008.0,1999.0,1999.0,2008.0,1999.0,1999.0,2008.0,2008.0,1999.0,1999.0,2008.0,2008.0,1999.0,1999.0,1999.0,1999.0,2008.0,2008.0,2008.0,2008.0,1999.0,1999.0,1999.0,1999.0,1999.0,1999.0,2008.0,2008.0,1999.0,1999.0,2008.0,2008.0,1999.0,1999.0,2008.0],\n",
       "\"cty\":[18.0,21.0,20.0,21.0,16.0,18.0,18.0,18.0,16.0,20.0,19.0,15.0,17.0,17.0,15.0,15.0,17.0,16.0,14.0,11.0,14.0,13.0,12.0,16.0,15.0,16.0,15.0,15.0,14.0,11.0,11.0,14.0,19.0,22.0,18.0,18.0,17.0,18.0,17.0,16.0,16.0,17.0,17.0,11.0,15.0,15.0,16.0,16.0,15.0,14.0,13.0,14.0,14.0,14.0,9.0,11.0,11.0,13.0,13.0,9.0,13.0,11.0,13.0,11.0,12.0,9.0,13.0,13.0,12.0,9.0,11.0,11.0,13.0,11.0,11.0,11.0,12.0,14.0,15.0,14.0,13.0,13.0,13.0,14.0,14.0,13.0,13.0,13.0,11.0,13.0,18.0,18.0,17.0,16.0,15.0,15.0,15.0,15.0,14.0,28.0,24.0,25.0,23.0,24.0,26.0,25.0,24.0,21.0,18.0,18.0,21.0,21.0,18.0,18.0,19.0,19.0,19.0,20.0,20.0,17.0,16.0,17.0,17.0,15.0,15.0,14.0,9.0,14.0,13.0,11.0,11.0,12.0,12.0,11.0,11.0,11.0,12.0,14.0,13.0,13.0,13.0,21.0,19.0,23.0,23.0,19.0,19.0,18.0,19.0,19.0,14.0,15.0,14.0,12.0,18.0,16.0,17.0,18.0,16.0,18.0,18.0,20.0,19.0,20.0,18.0,21.0,19.0,19.0,19.0,20.0,20.0,19.0,20.0,15.0,16.0,15.0,15.0,16.0,14.0,21.0,21.0,21.0,21.0,18.0,18.0,19.0,21.0,21.0,21.0,22.0,18.0,18.0,18.0,24.0,24.0,26.0,28.0,26.0,11.0,13.0,15.0,16.0,17.0,15.0,15.0,15.0,16.0,21.0,19.0,21.0,22.0,17.0,33.0,21.0,19.0,22.0,21.0,21.0,21.0,16.0,17.0,35.0,29.0,21.0,19.0,20.0,20.0,21.0,18.0,19.0,21.0,16.0,18.0,17.0],\n",
       "\"hwy\":[29.0,29.0,31.0,30.0,26.0,26.0,27.0,26.0,25.0,28.0,27.0,25.0,25.0,25.0,25.0,24.0,25.0,23.0,20.0,15.0,20.0,17.0,17.0,26.0,23.0,26.0,25.0,24.0,19.0,14.0,15.0,17.0,27.0,30.0,26.0,29.0,26.0,24.0,24.0,22.0,22.0,24.0,24.0,17.0,22.0,21.0,23.0,23.0,19.0,18.0,17.0,17.0,19.0,19.0,12.0,17.0,15.0,17.0,17.0,12.0,17.0,16.0,18.0,15.0,16.0,12.0,17.0,17.0,16.0,12.0,15.0,16.0,17.0,15.0,17.0,17.0,18.0,17.0,19.0,17.0,19.0,19.0,17.0,17.0,17.0,16.0,16.0,17.0,15.0,17.0,26.0,25.0,26.0,24.0,21.0,22.0,23.0,22.0,20.0,33.0,32.0,32.0,29.0,32.0,34.0,36.0,36.0,29.0,26.0,27.0,30.0,31.0,26.0,26.0,28.0,26.0,29.0,28.0,27.0,24.0,24.0,24.0,22.0,19.0,20.0,17.0,12.0,19.0,18.0,14.0,15.0,18.0,18.0,15.0,17.0,16.0,18.0,17.0,19.0,19.0,17.0,29.0,27.0,31.0,32.0,27.0,26.0,26.0,25.0,25.0,17.0,17.0,20.0,18.0,26.0,26.0,27.0,28.0,25.0,25.0,24.0,27.0,25.0,26.0,23.0,26.0,26.0,26.0,26.0,25.0,27.0,25.0,27.0,20.0,20.0,19.0,17.0,20.0,17.0,29.0,27.0,31.0,31.0,26.0,26.0,28.0,27.0,29.0,31.0,31.0,26.0,26.0,27.0,30.0,33.0,35.0,37.0,35.0,15.0,18.0,20.0,20.0,22.0,17.0,19.0,18.0,20.0,29.0,26.0,29.0,29.0,24.0,44.0,29.0,26.0,29.0,29.0,29.0,29.0,23.0,24.0,44.0,41.0,29.0,26.0,28.0,29.0,29.0,29.0,28.0,29.0,26.0,26.0,26.0],\n",
       "\"class\":[\"compact\",\"compact\",\"compact\",\"compact\",\"compact\",\"compact\",\"compact\",\"compact\",\"compact\",\"compact\",\"compact\",\"compact\",\"compact\",\"compact\",\"compact\",\"midsize\",\"midsize\",\"midsize\",\"suv\",\"suv\",\"suv\",\"suv\",\"suv\",\"2seater\",\"2seater\",\"2seater\",\"2seater\",\"2seater\",\"suv\",\"suv\",\"suv\",\"suv\",\"midsize\",\"midsize\",\"midsize\",\"midsize\",\"midsize\",\"minivan\",\"minivan\",\"minivan\",\"minivan\",\"minivan\",\"minivan\",\"minivan\",\"minivan\",\"minivan\",\"minivan\",\"minivan\",\"pickup\",\"pickup\",\"pickup\",\"pickup\",\"pickup\",\"pickup\",\"pickup\",\"pickup\",\"pickup\",\"suv\",\"suv\",\"suv\",\"suv\",\"suv\",\"suv\",\"suv\",\"pickup\",\"pickup\",\"pickup\",\"pickup\",\"pickup\",\"pickup\",\"pickup\",\"pickup\",\"pickup\",\"pickup\",\"suv\",\"suv\",\"suv\",\"suv\",\"suv\",\"suv\",\"suv\",\"suv\",\"suv\",\"pickup\",\"pickup\",\"pickup\",\"pickup\",\"pickup\",\"pickup\",\"pickup\",\"subcompact\",\"subcompact\",\"subcompact\",\"subcompact\",\"subcompact\",\"subcompact\",\"subcompact\",\"subcompact\",\"subcompact\",\"subcompact\",\"subcompact\",\"subcompact\",\"subcompact\",\"subcompact\",\"subcompact\",\"subcompact\",\"subcompact\",\"subcompact\",\"midsize\",\"midsize\",\"midsize\",\"midsize\",\"midsize\",\"midsize\",\"midsize\",\"subcompact\",\"subcompact\",\"subcompact\",\"subcompact\",\"subcompact\",\"subcompact\",\"subcompact\",\"suv\",\"suv\",\"suv\",\"suv\",\"suv\",\"suv\",\"suv\",\"suv\",\"suv\",\"suv\",\"suv\",\"suv\",\"suv\",\"suv\",\"suv\",\"suv\",\"suv\",\"suv\",\"suv\",\"compact\",\"compact\",\"midsize\",\"midsize\",\"midsize\",\"midsize\",\"midsize\",\"midsize\",\"midsize\",\"suv\",\"suv\",\"suv\",\"suv\",\"midsize\",\"midsize\",\"midsize\",\"midsize\",\"midsize\",\"suv\",\"suv\",\"suv\",\"suv\",\"suv\",\"suv\",\"subcompact\",\"subcompact\",\"subcompact\",\"subcompact\",\"compact\",\"compact\",\"compact\",\"compact\",\"suv\",\"suv\",\"suv\",\"suv\",\"suv\",\"suv\",\"midsize\",\"midsize\",\"midsize\",\"midsize\",\"midsize\",\"midsize\",\"midsize\",\"compact\",\"compact\",\"compact\",\"compact\",\"compact\",\"compact\",\"compact\",\"compact\",\"compact\",\"compact\",\"compact\",\"compact\",\"suv\",\"suv\",\"pickup\",\"pickup\",\"pickup\",\"pickup\",\"pickup\",\"pickup\",\"pickup\",\"compact\",\"compact\",\"compact\",\"compact\",\"compact\",\"compact\",\"compact\",\"compact\",\"compact\",\"compact\",\"compact\",\"compact\",\"compact\",\"compact\",\"subcompact\",\"subcompact\",\"subcompact\",\"subcompact\",\"subcompact\",\"subcompact\",\"midsize\",\"midsize\",\"midsize\",\"midsize\",\"midsize\",\"midsize\",\"midsize\"]\n",
       "},\n",
       "\"mapping\":{\n",
       "\"x\":\"cty\",\n",
       "\"y\":\"hwy\"\n",
       "},\n",
       "\"data_meta\":{\n",
       "\"series_annotations\":[{\n",
       "\"type\":\"int\",\n",
       "\"column\":\"Unnamed: 0\"\n",
       "},{\n",
       "\"type\":\"str\",\n",
       "\"column\":\"manufacturer\"\n",
       "},{\n",
       "\"type\":\"str\",\n",
       "\"column\":\"model\"\n",
       "},{\n",
       "\"type\":\"float\",\n",
       "\"column\":\"displ\"\n",
       "},{\n",
       "\"type\":\"int\",\n",
       "\"column\":\"year\"\n",
       "},{\n",
       "\"type\":\"int\",\n",
       "\"column\":\"cyl\"\n",
       "},{\n",
       "\"type\":\"str\",\n",
       "\"column\":\"trans\"\n",
       "},{\n",
       "\"type\":\"str\",\n",
       "\"column\":\"drv\"\n",
       "},{\n",
       "\"type\":\"int\",\n",
       "\"column\":\"cty\"\n",
       "},{\n",
       "\"type\":\"int\",\n",
       "\"column\":\"hwy\"\n",
       "},{\n",
       "\"type\":\"str\",\n",
       "\"column\":\"fl\"\n",
       "},{\n",
       "\"type\":\"str\",\n",
       "\"column\":\"class\"\n",
       "}]\n",
       "},\n",
       "\"theme\":{\n",
       "\"name\":\"light\"\n",
       "},\n",
       "\"facet\":{\n",
       "\"name\":\"wrap\",\n",
       "\"facets\":\"year\",\n",
       "\"order\":1.0,\n",
       "\"format\":\"{d} year of car \\n manufacture\",\n",
       "\"dir\":\"h\",\n",
       "\"labwidth\":9.0\n",
       "},\n",
       "\"ggtitle\":{\n",
       "\"text\":\"Facet label with \\\\n separator & labwidth=9\"\n",
       "},\n",
       "\"kind\":\"plot\",\n",
       "\"scales\":[],\n",
       "\"layers\":[{\n",
       "\"geom\":\"point\",\n",
       "\"mapping\":{\n",
       "\"color\":\"class\"\n",
       "},\n",
       "\"data_meta\":{\n",
       "},\n",
       "\"shape\":21.0,\n",
       "\"data\":{\n",
       "}\n",
       "}],\n",
       "\"metainfo_list\":[]\n",
       "},{\n",
       "\"data\":{\n",
       "\"year\":[1999.0,1999.0,2008.0,2008.0,1999.0,1999.0,2008.0,1999.0,1999.0,2008.0,2008.0,1999.0,1999.0,2008.0,2008.0,1999.0,2008.0,2008.0,2008.0,2008.0,2008.0,1999.0,2008.0,1999.0,1999.0,2008.0,2008.0,2008.0,2008.0,2008.0,1999.0,1999.0,1999.0,2008.0,1999.0,2008.0,2008.0,1999.0,1999.0,1999.0,1999.0,2008.0,2008.0,2008.0,1999.0,1999.0,2008.0,2008.0,2008.0,2008.0,1999.0,1999.0,2008.0,2008.0,2008.0,1999.0,1999.0,1999.0,2008.0,2008.0,2008.0,1999.0,2008.0,1999.0,2008.0,2008.0,2008.0,2008.0,2008.0,2008.0,1999.0,1999.0,2008.0,1999.0,1999.0,1999.0,2008.0,1999.0,1999.0,1999.0,2008.0,2008.0,1999.0,1999.0,1999.0,1999.0,1999.0,2008.0,1999.0,2008.0,1999.0,1999.0,2008.0,2008.0,1999.0,1999.0,2008.0,2008.0,2008.0,1999.0,1999.0,1999.0,1999.0,1999.0,2008.0,2008.0,2008.0,2008.0,1999.0,1999.0,2008.0,2008.0,1999.0,1999.0,2008.0,1999.0,1999.0,2008.0,2008.0,2008.0,2008.0,2008.0,2008.0,2008.0,1999.0,1999.0,2008.0,2008.0,2008.0,2008.0,1999.0,2008.0,2008.0,1999.0,1999.0,1999.0,2008.0,1999.0,2008.0,2008.0,1999.0,1999.0,1999.0,2008.0,2008.0,2008.0,2008.0,1999.0,1999.0,2008.0,1999.0,1999.0,2008.0,2008.0,1999.0,1999.0,1999.0,2008.0,2008.0,1999.0,1999.0,2008.0,2008.0,2008.0,2008.0,1999.0,1999.0,1999.0,1999.0,2008.0,2008.0,2008.0,2008.0,1999.0,1999.0,1999.0,1999.0,2008.0,2008.0,1999.0,1999.0,2008.0,2008.0,1999.0,1999.0,2008.0,1999.0,1999.0,2008.0,2008.0,1999.0,1999.0,2008.0,1999.0,1999.0,1999.0,2008.0,2008.0,1999.0,2008.0,1999.0,1999.0,2008.0,1999.0,1999.0,2008.0,2008.0,1999.0,1999.0,2008.0,2008.0,1999.0,1999.0,1999.0,1999.0,2008.0,2008.0,2008.0,2008.0,1999.0,1999.0,1999.0,1999.0,1999.0,1999.0,2008.0,2008.0,1999.0,1999.0,2008.0,2008.0,1999.0,1999.0,2008.0],\n",
       "\"cty\":[18.0,21.0,20.0,21.0,16.0,18.0,18.0,18.0,16.0,20.0,19.0,15.0,17.0,17.0,15.0,15.0,17.0,16.0,14.0,11.0,14.0,13.0,12.0,16.0,15.0,16.0,15.0,15.0,14.0,11.0,11.0,14.0,19.0,22.0,18.0,18.0,17.0,18.0,17.0,16.0,16.0,17.0,17.0,11.0,15.0,15.0,16.0,16.0,15.0,14.0,13.0,14.0,14.0,14.0,9.0,11.0,11.0,13.0,13.0,9.0,13.0,11.0,13.0,11.0,12.0,9.0,13.0,13.0,12.0,9.0,11.0,11.0,13.0,11.0,11.0,11.0,12.0,14.0,15.0,14.0,13.0,13.0,13.0,14.0,14.0,13.0,13.0,13.0,11.0,13.0,18.0,18.0,17.0,16.0,15.0,15.0,15.0,15.0,14.0,28.0,24.0,25.0,23.0,24.0,26.0,25.0,24.0,21.0,18.0,18.0,21.0,21.0,18.0,18.0,19.0,19.0,19.0,20.0,20.0,17.0,16.0,17.0,17.0,15.0,15.0,14.0,9.0,14.0,13.0,11.0,11.0,12.0,12.0,11.0,11.0,11.0,12.0,14.0,13.0,13.0,13.0,21.0,19.0,23.0,23.0,19.0,19.0,18.0,19.0,19.0,14.0,15.0,14.0,12.0,18.0,16.0,17.0,18.0,16.0,18.0,18.0,20.0,19.0,20.0,18.0,21.0,19.0,19.0,19.0,20.0,20.0,19.0,20.0,15.0,16.0,15.0,15.0,16.0,14.0,21.0,21.0,21.0,21.0,18.0,18.0,19.0,21.0,21.0,21.0,22.0,18.0,18.0,18.0,24.0,24.0,26.0,28.0,26.0,11.0,13.0,15.0,16.0,17.0,15.0,15.0,15.0,16.0,21.0,19.0,21.0,22.0,17.0,33.0,21.0,19.0,22.0,21.0,21.0,21.0,16.0,17.0,35.0,29.0,21.0,19.0,20.0,20.0,21.0,18.0,19.0,21.0,16.0,18.0,17.0],\n",
       "\"hwy\":[29.0,29.0,31.0,30.0,26.0,26.0,27.0,26.0,25.0,28.0,27.0,25.0,25.0,25.0,25.0,24.0,25.0,23.0,20.0,15.0,20.0,17.0,17.0,26.0,23.0,26.0,25.0,24.0,19.0,14.0,15.0,17.0,27.0,30.0,26.0,29.0,26.0,24.0,24.0,22.0,22.0,24.0,24.0,17.0,22.0,21.0,23.0,23.0,19.0,18.0,17.0,17.0,19.0,19.0,12.0,17.0,15.0,17.0,17.0,12.0,17.0,16.0,18.0,15.0,16.0,12.0,17.0,17.0,16.0,12.0,15.0,16.0,17.0,15.0,17.0,17.0,18.0,17.0,19.0,17.0,19.0,19.0,17.0,17.0,17.0,16.0,16.0,17.0,15.0,17.0,26.0,25.0,26.0,24.0,21.0,22.0,23.0,22.0,20.0,33.0,32.0,32.0,29.0,32.0,34.0,36.0,36.0,29.0,26.0,27.0,30.0,31.0,26.0,26.0,28.0,26.0,29.0,28.0,27.0,24.0,24.0,24.0,22.0,19.0,20.0,17.0,12.0,19.0,18.0,14.0,15.0,18.0,18.0,15.0,17.0,16.0,18.0,17.0,19.0,19.0,17.0,29.0,27.0,31.0,32.0,27.0,26.0,26.0,25.0,25.0,17.0,17.0,20.0,18.0,26.0,26.0,27.0,28.0,25.0,25.0,24.0,27.0,25.0,26.0,23.0,26.0,26.0,26.0,26.0,25.0,27.0,25.0,27.0,20.0,20.0,19.0,17.0,20.0,17.0,29.0,27.0,31.0,31.0,26.0,26.0,28.0,27.0,29.0,31.0,31.0,26.0,26.0,27.0,30.0,33.0,35.0,37.0,35.0,15.0,18.0,20.0,20.0,22.0,17.0,19.0,18.0,20.0,29.0,26.0,29.0,29.0,24.0,44.0,29.0,26.0,29.0,29.0,29.0,29.0,23.0,24.0,44.0,41.0,29.0,26.0,28.0,29.0,29.0,29.0,28.0,29.0,26.0,26.0,26.0],\n",
       "\"class\":[\"compact\",\"compact\",\"compact\",\"compact\",\"compact\",\"compact\",\"compact\",\"compact\",\"compact\",\"compact\",\"compact\",\"compact\",\"compact\",\"compact\",\"compact\",\"midsize\",\"midsize\",\"midsize\",\"suv\",\"suv\",\"suv\",\"suv\",\"suv\",\"2seater\",\"2seater\",\"2seater\",\"2seater\",\"2seater\",\"suv\",\"suv\",\"suv\",\"suv\",\"midsize\",\"midsize\",\"midsize\",\"midsize\",\"midsize\",\"minivan\",\"minivan\",\"minivan\",\"minivan\",\"minivan\",\"minivan\",\"minivan\",\"minivan\",\"minivan\",\"minivan\",\"minivan\",\"pickup\",\"pickup\",\"pickup\",\"pickup\",\"pickup\",\"pickup\",\"pickup\",\"pickup\",\"pickup\",\"suv\",\"suv\",\"suv\",\"suv\",\"suv\",\"suv\",\"suv\",\"pickup\",\"pickup\",\"pickup\",\"pickup\",\"pickup\",\"pickup\",\"pickup\",\"pickup\",\"pickup\",\"pickup\",\"suv\",\"suv\",\"suv\",\"suv\",\"suv\",\"suv\",\"suv\",\"suv\",\"suv\",\"pickup\",\"pickup\",\"pickup\",\"pickup\",\"pickup\",\"pickup\",\"pickup\",\"subcompact\",\"subcompact\",\"subcompact\",\"subcompact\",\"subcompact\",\"subcompact\",\"subcompact\",\"subcompact\",\"subcompact\",\"subcompact\",\"subcompact\",\"subcompact\",\"subcompact\",\"subcompact\",\"subcompact\",\"subcompact\",\"subcompact\",\"subcompact\",\"midsize\",\"midsize\",\"midsize\",\"midsize\",\"midsize\",\"midsize\",\"midsize\",\"subcompact\",\"subcompact\",\"subcompact\",\"subcompact\",\"subcompact\",\"subcompact\",\"subcompact\",\"suv\",\"suv\",\"suv\",\"suv\",\"suv\",\"suv\",\"suv\",\"suv\",\"suv\",\"suv\",\"suv\",\"suv\",\"suv\",\"suv\",\"suv\",\"suv\",\"suv\",\"suv\",\"suv\",\"compact\",\"compact\",\"midsize\",\"midsize\",\"midsize\",\"midsize\",\"midsize\",\"midsize\",\"midsize\",\"suv\",\"suv\",\"suv\",\"suv\",\"midsize\",\"midsize\",\"midsize\",\"midsize\",\"midsize\",\"suv\",\"suv\",\"suv\",\"suv\",\"suv\",\"suv\",\"subcompact\",\"subcompact\",\"subcompact\",\"subcompact\",\"compact\",\"compact\",\"compact\",\"compact\",\"suv\",\"suv\",\"suv\",\"suv\",\"suv\",\"suv\",\"midsize\",\"midsize\",\"midsize\",\"midsize\",\"midsize\",\"midsize\",\"midsize\",\"compact\",\"compact\",\"compact\",\"compact\",\"compact\",\"compact\",\"compact\",\"compact\",\"compact\",\"compact\",\"compact\",\"compact\",\"suv\",\"suv\",\"pickup\",\"pickup\",\"pickup\",\"pickup\",\"pickup\",\"pickup\",\"pickup\",\"compact\",\"compact\",\"compact\",\"compact\",\"compact\",\"compact\",\"compact\",\"compact\",\"compact\",\"compact\",\"compact\",\"compact\",\"compact\",\"compact\",\"subcompact\",\"subcompact\",\"subcompact\",\"subcompact\",\"subcompact\",\"subcompact\",\"midsize\",\"midsize\",\"midsize\",\"midsize\",\"midsize\",\"midsize\",\"midsize\"]\n",
       "},\n",
       "\"mapping\":{\n",
       "\"x\":\"cty\",\n",
       "\"y\":\"hwy\"\n",
       "},\n",
       "\"data_meta\":{\n",
       "\"series_annotations\":[{\n",
       "\"type\":\"int\",\n",
       "\"column\":\"Unnamed: 0\"\n",
       "},{\n",
       "\"type\":\"str\",\n",
       "\"column\":\"manufacturer\"\n",
       "},{\n",
       "\"type\":\"str\",\n",
       "\"column\":\"model\"\n",
       "},{\n",
       "\"type\":\"float\",\n",
       "\"column\":\"displ\"\n",
       "},{\n",
       "\"type\":\"int\",\n",
       "\"column\":\"year\"\n",
       "},{\n",
       "\"type\":\"int\",\n",
       "\"column\":\"cyl\"\n",
       "},{\n",
       "\"type\":\"str\",\n",
       "\"column\":\"trans\"\n",
       "},{\n",
       "\"type\":\"str\",\n",
       "\"column\":\"drv\"\n",
       "},{\n",
       "\"type\":\"int\",\n",
       "\"column\":\"cty\"\n",
       "},{\n",
       "\"type\":\"int\",\n",
       "\"column\":\"hwy\"\n",
       "},{\n",
       "\"type\":\"str\",\n",
       "\"column\":\"fl\"\n",
       "},{\n",
       "\"type\":\"str\",\n",
       "\"column\":\"class\"\n",
       "}]\n",
       "},\n",
       "\"theme\":{\n",
       "\"name\":\"light\"\n",
       "},\n",
       "\"facet\":{\n",
       "\"name\":\"wrap\",\n",
       "\"facets\":\"year\",\n",
       "\"order\":1.0,\n",
       "\"format\":\"{d} year of car manufacture\",\n",
       "\"dir\":\"h\",\n",
       "\"labwidth\":9.0\n",
       "},\n",
       "\"ggtitle\":{\n",
       "\"text\":\"Facet label with labwidth=9 only\"\n",
       "},\n",
       "\"kind\":\"plot\",\n",
       "\"scales\":[],\n",
       "\"layers\":[{\n",
       "\"geom\":\"point\",\n",
       "\"mapping\":{\n",
       "\"color\":\"class\"\n",
       "},\n",
       "\"data_meta\":{\n",
       "},\n",
       "\"shape\":21.0,\n",
       "\"data\":{\n",
       "}\n",
       "}],\n",
       "\"metainfo_list\":[]\n",
       "}]\n",
       "};\n",
       "           var plotContainer = document.getElementById(\"cjVPEH\");\n",
       "           window.letsPlotCall(function() {{\n",
       "               LetsPlot.buildPlotFromProcessedSpecs(plotSpec, -1, -1, plotContainer);\n",
       "           }});\n",
       "       })();\n",
       "   </script>"
      ],
      "text/plain": [
       "<lets_plot.plot.subplots.SupPlotsSpec at 0x126de8700>"
      ]
     },
     "execution_count": 16,
     "metadata": {},
     "output_type": "execute_result"
    }
   ],
   "source": [
    "gggrid([\n",
    "    p + \\\n",
    "        facet_wrap(facets=\"year\", format=\"{d} year of car \\n manufacture\", labwidth=9) + \\\n",
    "        ggtitle(\"Facet label with \\\\n separator & labwidth=9\"),\n",
    "    p + \\\n",
    "        facet_wrap(facets=\"year\", format=\"{d} year of car manufacture\", labwidth=9) + \\\n",
    "        ggtitle(\"Facet label with labwidth=9 only\")\n",
    "]) + ggsize(1200, 800)"
   ]
  }
 ],
 "metadata": {
  "datalore": {
   "base_environment": "default",
   "computation_mode": "JUPYTER",
   "package_manager": "pip",
   "packages": [],
   "report_link": "https://datalore.jetbrains.com/report/HZqq77cegYd.E7get_WnChZ/2mTXwTPwB1TJLvjI36Lm9K",
   "report_row_ids": [
    "VRrPFHbDolUq7aQCeW7iZC",
    "blQ1V8PwvExeNk8TFKYnY5",
    "JTYzESbQ9V6pP8EUxM7Q0N",
    "wYGfNvjtVjc9TFCqX5pqnt",
    "IckO6v4UqSJiTsKJBIixkL",
    "Hdf03lpB6svebq49ReZKSi",
    "xNX9nnYAKVLpDwIvxO9IlK",
    "EgGgxlHrCAxR7eTrS0NGXF",
    "2JA8mwiJcSyx0BTX2LbCKk",
    "1l7jbyHIE0eV1mNj7BDOqo",
    "UcBttlOybf5uj2Qz5UWanS",
    "m8aiEzy8DWK59c0iOIGB5y",
    "47xwOkUbGx2RaVlMGT5tQb",
    "MeSbgm94r1KB3SGZVchFAd",
    "c0e3bc3l12dRYzGVkRrCtE",
    "2C4duTMhuLdFSZu3JmflIt",
    "V7zElo23NKumXUx56Ayoh9",
    "LD7NepfywF9o9S9SAclHDT",
    "nRE5AJbUOgoHLgxhZGiiCX",
    "KPcjoedwLZ6efP4yVLEsC2",
    "K3hl2RqIRy8D5XIQw78E4G",
    "426R2GIU51nIE5nes5IhjO",
    "zzmaJpuYmYMF5JSvrUoEvu",
    "9Tg5OgOIvE5VOA8eOoFrsV",
    "bvSpMvB1JLtVw3waRAsfeC",
    "lFiHpUU7I76LvxD9GtWpDq",
    "SZo9STW4IBuJRvBn5vYMlI",
    "2VjUJky4tpWcaXsTfTjcEm",
    "hD1rIA5E5Vqk3vmYz2tC81",
    "CJGhEdLHlB455K8LxI8wz3",
    "K6rwLwOLzmRbk59zkaPgsC",
    "wPYhKPz4CZoOsWdSHhpTAi",
    "xZeRu6RxSUJgAbbCxoTYbT",
    "v5Ikau40KJJ33NnaJ0egoW",
    "wXuzQpO6aqQ4XdBW9vVAE1",
    "9bSBmnSxaMgAkPUptNFFQ2"
   ],
   "version": 3
  },
  "kernelspec": {
   "display_name": "Python",
   "language": "python",
   "name": "python"
  },
  "language_info": {
   "codemirror_mode": {
    "name": "ipython",
    "version": 3
   },
   "file_extension": ".py",
   "mimetype": "text/x-python",
   "name": "python",
   "nbconvert_exporter": "python",
   "pygments_lexer": "ipython3",
   "version": "3.10.15"
  }
 },
 "nbformat": 4,
 "nbformat_minor": 4
}
