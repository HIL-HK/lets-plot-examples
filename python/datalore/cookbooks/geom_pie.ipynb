{
 "cells":[
  {
   "cell_type":"markdown",
   "source":[
    "# Pie Chart"
   ],
   "attachments":{},
   "metadata":{
    "datalore":{
     "node_id":"17zSFJVMf5GgUV2dgtuZiB",
     "type":"MD",
     "hide_input_from_viewers":false,
     "hide_output_from_viewers":false,
     "report_properties":{
      "rowId":"EfI4jE1Iq8jJtsg3ca5RJn",
      "relativeY":0
     }
    }
   }
  },
  {
   "cell_type":"markdown",
   "source":[
    "A pie chart is a circular statistical graphic, which is divided into slices to illustrate numerical proportion."
   ],
   "attachments":{},
   "metadata":{
    "datalore":{
     "node_id":"ScIetgVSgcHUyNpQSmwjkr",
     "type":"MD",
     "hide_input_from_viewers":false,
     "hide_output_from_viewers":false,
     "report_properties":{
      "rowId":"4xr1c57RkoKnTheeFqLLOc",
      "relativeY":0
     }
    }
   }
  },
  {
   "cell_type":"code",
   "source":[
    "from lets_plot import *\n",
    "from lets_plot.mapping import *\n",
    "from lets_plot.geo_data import *"
   ],
   "execution_count":1,
   "outputs":[
    {
     "name":"stdout",
     "text":[
      "The geodata is provided by © OpenStreetMap contributors and is made available here under the Open Database License (ODbL).\n"
     ],
     "output_type":"stream"
    }
   ],
   "metadata":{
    "datalore":{
     "node_id":"JQADLUnIPc76KRMyeXMdqg",
     "type":"CODE",
     "hide_input_from_viewers":false,
     "hide_output_from_viewers":false,
     "report_properties":{
      "rowId":"dtdn1Aq7qOGVqvN2RhtzZJ",
      "relativeY":0
     }
    }
   }
  },
  {
   "cell_type":"code",
   "source":[
    "LetsPlot.setup_html()"
   ],
   "execution_count":2,
   "outputs":[],
   "metadata":{
    "datalore":{
     "node_id":"E8K2ayCnRtb13XZL6z6bWl",
     "type":"CODE",
     "hide_input_from_viewers":false,
     "hide_output_from_viewers":false,
     "report_properties":{
      "rowId":"2F5HigCSNY79qnEiBzx0kB",
      "relativeY":0
     }
    }
   }
  },
  {
   "cell_type":"code",
   "source":[
    "def get_data():\n",
    "    import pandas as pd\n",
    "    df = pd.read_csv('https:\/\/raw.githubusercontent.com\/JetBrains\/lets-plot-docs\/master\/data\/mpg.csv')\n",
    "    df['explode'] = [0.2 if c == 'pickup' else 0.0 for c in df['class']]\n",
    "    return df"
   ],
   "execution_count":3,
   "outputs":[],
   "metadata":{
    "datalore":{
     "node_id":"L8UeALLvOrEmyhtiCSqhaH",
     "type":"CODE",
     "hide_input_from_viewers":false,
     "hide_output_from_viewers":false,
     "report_properties":{
      "rowId":"YAMRAeKDSotNQNOHRsX657",
      "relativeY":0
     }
    }
   }
  },
  {
   "cell_type":"code",
   "source":[
    "df = get_data()\n",
    "print(df.shape)\n",
    "df.head()"
   ],
   "execution_count":4,
   "outputs":[
    {
     "name":"stdout",
     "text":[
      "(234, 13)\n"
     ],
     "output_type":"stream"
    },
    {
     "data":{
      "text\/html":[
       "<div>\n",
       "<style scoped>\n",
       "    .dataframe tbody tr th:only-of-type {\n",
       "        vertical-align: middle;\n",
       "    }\n",
       "\n",
       "    .dataframe tbody tr th {\n",
       "        vertical-align: top;\n",
       "    }\n",
       "\n",
       "    .dataframe thead th {\n",
       "        text-align: right;\n",
       "    }\n",
       "<\/style>\n",
       "<table border=\"1\" class=\"dataframe\">\n",
       "  <thead>\n",
       "    <tr style=\"text-align: right;\">\n",
       "      <th><\/th>\n",
       "      <th>Unnamed: 0<\/th>\n",
       "      <th>manufacturer<\/th>\n",
       "      <th>model<\/th>\n",
       "      <th>displ<\/th>\n",
       "      <th>year<\/th>\n",
       "      <th>cyl<\/th>\n",
       "      <th>trans<\/th>\n",
       "      <th>drv<\/th>\n",
       "      <th>cty<\/th>\n",
       "      <th>hwy<\/th>\n",
       "      <th>fl<\/th>\n",
       "      <th>class<\/th>\n",
       "      <th>explode<\/th>\n",
       "    <\/tr>\n",
       "  <\/thead>\n",
       "  <tbody>\n",
       "    <tr>\n",
       "      <th>0<\/th>\n",
       "      <td>1<\/td>\n",
       "      <td>audi<\/td>\n",
       "      <td>a4<\/td>\n",
       "      <td>1.8<\/td>\n",
       "      <td>1999<\/td>\n",
       "      <td>4<\/td>\n",
       "      <td>auto(l5)<\/td>\n",
       "      <td>f<\/td>\n",
       "      <td>18<\/td>\n",
       "      <td>29<\/td>\n",
       "      <td>p<\/td>\n",
       "      <td>compact<\/td>\n",
       "      <td>0.0<\/td>\n",
       "    <\/tr>\n",
       "    <tr>\n",
       "      <th>1<\/th>\n",
       "      <td>2<\/td>\n",
       "      <td>audi<\/td>\n",
       "      <td>a4<\/td>\n",
       "      <td>1.8<\/td>\n",
       "      <td>1999<\/td>\n",
       "      <td>4<\/td>\n",
       "      <td>manual(m5)<\/td>\n",
       "      <td>f<\/td>\n",
       "      <td>21<\/td>\n",
       "      <td>29<\/td>\n",
       "      <td>p<\/td>\n",
       "      <td>compact<\/td>\n",
       "      <td>0.0<\/td>\n",
       "    <\/tr>\n",
       "    <tr>\n",
       "      <th>2<\/th>\n",
       "      <td>3<\/td>\n",
       "      <td>audi<\/td>\n",
       "      <td>a4<\/td>\n",
       "      <td>2.0<\/td>\n",
       "      <td>2008<\/td>\n",
       "      <td>4<\/td>\n",
       "      <td>manual(m6)<\/td>\n",
       "      <td>f<\/td>\n",
       "      <td>20<\/td>\n",
       "      <td>31<\/td>\n",
       "      <td>p<\/td>\n",
       "      <td>compact<\/td>\n",
       "      <td>0.0<\/td>\n",
       "    <\/tr>\n",
       "    <tr>\n",
       "      <th>3<\/th>\n",
       "      <td>4<\/td>\n",
       "      <td>audi<\/td>\n",
       "      <td>a4<\/td>\n",
       "      <td>2.0<\/td>\n",
       "      <td>2008<\/td>\n",
       "      <td>4<\/td>\n",
       "      <td>auto(av)<\/td>\n",
       "      <td>f<\/td>\n",
       "      <td>21<\/td>\n",
       "      <td>30<\/td>\n",
       "      <td>p<\/td>\n",
       "      <td>compact<\/td>\n",
       "      <td>0.0<\/td>\n",
       "    <\/tr>\n",
       "    <tr>\n",
       "      <th>4<\/th>\n",
       "      <td>5<\/td>\n",
       "      <td>audi<\/td>\n",
       "      <td>a4<\/td>\n",
       "      <td>2.8<\/td>\n",
       "      <td>1999<\/td>\n",
       "      <td>6<\/td>\n",
       "      <td>auto(l5)<\/td>\n",
       "      <td>f<\/td>\n",
       "      <td>16<\/td>\n",
       "      <td>26<\/td>\n",
       "      <td>p<\/td>\n",
       "      <td>compact<\/td>\n",
       "      <td>0.0<\/td>\n",
       "    <\/tr>\n",
       "  <\/tbody>\n",
       "<\/table>\n",
       "<\/div>"
      ]
     },
     "metadata":{},
     "output_type":"display_data"
    }
   ],
   "metadata":{
    "datalore":{
     "node_id":"1B8eRDuLguc1Bt9H1bMhc8",
     "type":"CODE",
     "hide_input_from_viewers":false,
     "hide_output_from_viewers":false,
     "report_properties":{
      "rowId":"WbCjhKitNvrtGhAdTGZrNy",
      "relativeY":0
     }
    }
   }
  },
  {
   "cell_type":"markdown",
   "source":[
    "## Basic Pie Chart"
   ],
   "attachments":{},
   "metadata":{
    "datalore":{
     "node_id":"UCknX9vrYZ1WyhiqecmVJo",
     "type":"MD",
     "hide_input_from_viewers":false,
     "hide_output_from_viewers":false,
     "report_properties":{
      "rowId":"VxETaaEbou2aM7hhMCTBRL",
      "relativeY":0
     }
    }
   }
  },
  {
   "cell_type":"markdown",
   "source":[
    "You can use `identity` statistical transformation to leave the data unchanged.\n",
    "\n",
    "To do this, let's calculate the classes of cars."
   ],
   "attachments":{},
   "metadata":{
    "datalore":{
     "node_id":"0cfs51A6UL7snJhCgFUrOb",
     "type":"MD",
     "hide_input_from_viewers":false,
     "hide_output_from_viewers":false,
     "report_properties":{
      "rowId":"aWKGrwgIczB4907e5OvGlU",
      "relativeY":0
     }
    }
   }
  },
  {
   "cell_type":"code",
   "source":[
    "class_counts_df = df['class'].value_counts().reset_index()\n",
    "class_counts_df.columns = ['class', 'count']\n",
    "class_counts_df"
   ],
   "execution_count":5,
   "outputs":[
    {
     "data":{
      "text\/html":[
       "<div>\n",
       "<style scoped>\n",
       "    .dataframe tbody tr th:only-of-type {\n",
       "        vertical-align: middle;\n",
       "    }\n",
       "\n",
       "    .dataframe tbody tr th {\n",
       "        vertical-align: top;\n",
       "    }\n",
       "\n",
       "    .dataframe thead th {\n",
       "        text-align: right;\n",
       "    }\n",
       "<\/style>\n",
       "<table border=\"1\" class=\"dataframe\">\n",
       "  <thead>\n",
       "    <tr style=\"text-align: right;\">\n",
       "      <th><\/th>\n",
       "      <th>class<\/th>\n",
       "      <th>count<\/th>\n",
       "    <\/tr>\n",
       "  <\/thead>\n",
       "  <tbody>\n",
       "    <tr>\n",
       "      <th>0<\/th>\n",
       "      <td>suv<\/td>\n",
       "      <td>62<\/td>\n",
       "    <\/tr>\n",
       "    <tr>\n",
       "      <th>1<\/th>\n",
       "      <td>compact<\/td>\n",
       "      <td>47<\/td>\n",
       "    <\/tr>\n",
       "    <tr>\n",
       "      <th>2<\/th>\n",
       "      <td>midsize<\/td>\n",
       "      <td>41<\/td>\n",
       "    <\/tr>\n",
       "    <tr>\n",
       "      <th>3<\/th>\n",
       "      <td>subcompact<\/td>\n",
       "      <td>35<\/td>\n",
       "    <\/tr>\n",
       "    <tr>\n",
       "      <th>4<\/th>\n",
       "      <td>pickup<\/td>\n",
       "      <td>33<\/td>\n",
       "    <\/tr>\n",
       "    <tr>\n",
       "      <th>5<\/th>\n",
       "      <td>minivan<\/td>\n",
       "      <td>11<\/td>\n",
       "    <\/tr>\n",
       "    <tr>\n",
       "      <th>6<\/th>\n",
       "      <td>2seater<\/td>\n",
       "      <td>5<\/td>\n",
       "    <\/tr>\n",
       "  <\/tbody>\n",
       "<\/table>\n",
       "<\/div>"
      ]
     },
     "metadata":{},
     "output_type":"display_data"
    }
   ],
   "metadata":{
    "datalore":{
     "node_id":"2fNtOV86Cb24XIIekJgC7I",
     "type":"CODE",
     "hide_input_from_viewers":false,
     "hide_output_from_viewers":false,
     "report_properties":{
      "rowId":"VWbKGjTzbVwgDe9B01lUsc",
      "relativeY":0
     }
    }
   }
  },
  {
   "cell_type":"code",
   "source":[
    "ggplot(class_counts_df) + \\\n",
    "    geom_pie(aes(slice='count', fill='class'), stat='identity') + \\\n",
    "    ggsize(600, 400)"
   ],
   "execution_count":6,
   "outputs":[
    {
     "data":{
      "text\/html":[
       "<html lang=\"en\">\n",
       "   <head>\n",
       "       <meta charset=\"UTF-8\">\n",
       "       <script type=\"text\/javascript\" data-lets-plot-script=\"library\" src=\"https:\/\/cdn.jsdelivr.net\/gh\/JetBrains\/lets-plot@v4.3.1\/js-package\/distr\/lets-plot.min.js\"><\/script>\n",
       "   <\/head>\n",
       "   <body>\n",
       "          <div id=\"yFxJxL\"><\/div>\n",
       "   <script type=\"text\/javascript\" data-lets-plot-script=\"plot\">\n",
       "       var plotSpec={\n",
       "\"data\":{\n",
       "\"class\":[\"suv\",\"compact\",\"midsize\",\"subcompact\",\"pickup\",\"minivan\",\"2seater\"],\n",
       "\"count\":[62.0,47.0,41.0,35.0,33.0,11.0,5.0]\n",
       "},\n",
       "\"mapping\":{\n",
       "},\n",
       "\"data_meta\":{\n",
       "},\n",
       "\"ggsize\":{\n",
       "\"width\":600.0,\n",
       "\"height\":400.0\n",
       "},\n",
       "\"kind\":\"plot\",\n",
       "\"scales\":[],\n",
       "\"layers\":[{\n",
       "\"geom\":\"pie\",\n",
       "\"stat\":\"identity\",\n",
       "\"mapping\":{\n",
       "\"slice\":\"count\",\n",
       "\"fill\":\"class\"\n",
       "},\n",
       "\"data_meta\":{\n",
       "},\n",
       "\"data\":{\n",
       "}\n",
       "}],\n",
       "\"metainfo_list\":[]\n",
       "};\n",
       "       var plotContainer = document.getElementById(\"yFxJxL\");\n",
       "       LetsPlot.buildPlotFromProcessedSpecs(plotSpec, -1, -1, plotContainer);\n",
       "   <\/script>\n",
       "   <\/body>\n",
       "<\/html>"
      ]
     },
     "metadata":{},
     "output_type":"display_data"
    }
   ],
   "metadata":{
    "datalore":{
     "node_id":"775j6iQaqlnfJUXt570D6l",
     "type":"CODE",
     "hide_input_from_viewers":false,
     "hide_output_from_viewers":false,
     "report_properties":{
      "rowId":"SHNOh6nclJZJ1hoQNc8Jgg",
      "x":0,
      "relativeY":0,
      "width":0.5833333333333334,
      "height":33,
      "splitHeight":6,
      "isDynamicHeight":false
     }
    }
   }
  },
  {
   "cell_type":"markdown",
   "source":[
    "## `count2d` Statistical Transformation"
   ],
   "attachments":{},
   "metadata":{
    "datalore":{
     "node_id":"fy484TFfSDqGF69HaZpenS",
     "type":"MD",
     "hide_input_from_viewers":false,
     "hide_output_from_viewers":false,
     "report_properties":{
      "rowId":"jG7SuTEN0xMm4eskcr3M62",
      "relativeY":0
     }
    }
   }
  },
  {
   "cell_type":"markdown",
   "source":[
    "`geom_pie()` uses `count2d` stat by default. \n",
    "It allows to make a slice sizes proportional to the number of cases in each group  (or if the weight aesthetic is supplied, the sum of the weights). \n",
    "\n",
    "There is no need to count quantities manually, statistics will do this."
   ],
   "attachments":{},
   "metadata":{
    "datalore":{
     "node_id":"CpxjTTN5CbHWvM2N6oavgn",
     "type":"MD",
     "hide_input_from_viewers":false,
     "hide_output_from_viewers":false,
     "report_properties":{
      "rowId":"0RfK2VoNKyIWqS3OD2ihHz",
      "relativeY":0
     }
    }
   }
  },
  {
   "cell_type":"code",
   "source":[
    "ggplot(df) + geom_pie(aes(fill='class')) + ggsize(600, 400)"
   ],
   "execution_count":7,
   "outputs":[
    {
     "data":{
      "text\/html":[
       "<html lang=\"en\">\n",
       "   <head>\n",
       "       <meta charset=\"UTF-8\">\n",
       "       <script type=\"text\/javascript\" data-lets-plot-script=\"library\" src=\"https:\/\/cdn.jsdelivr.net\/gh\/JetBrains\/lets-plot@v4.3.1\/js-package\/distr\/lets-plot.min.js\"><\/script>\n",
       "   <\/head>\n",
       "   <body>\n",
       "          <div id=\"r1MwOO\"><\/div>\n",
       "   <script type=\"text\/javascript\" data-lets-plot-script=\"plot\">\n",
       "       var plotSpec={\n",
       "\"data\":{\n",
       "},\n",
       "\"mapping\":{\n",
       "},\n",
       "\"data_meta\":{\n",
       "},\n",
       "\"ggsize\":{\n",
       "\"width\":600.0,\n",
       "\"height\":400.0\n",
       "},\n",
       "\"kind\":\"plot\",\n",
       "\"scales\":[],\n",
       "\"layers\":[{\n",
       "\"geom\":\"pie\",\n",
       "\"mapping\":{\n",
       "\"fill\":\"class\"\n",
       "},\n",
       "\"data_meta\":{\n",
       "},\n",
       "\"data\":{\n",
       "\"..x..\":[0.0,0.0,0.0,0.0,0.0,0.0,0.0],\n",
       "\"..y..\":[0.0,0.0,0.0,0.0,0.0,0.0,0.0],\n",
       "\"..count..\":[47.0,41.0,62.0,5.0,11.0,33.0,35.0],\n",
       "\"class\":[\"compact\",\"midsize\",\"suv\",\"2seater\",\"minivan\",\"pickup\",\"subcompact\"]\n",
       "}\n",
       "}],\n",
       "\"metainfo_list\":[]\n",
       "};\n",
       "       var plotContainer = document.getElementById(\"r1MwOO\");\n",
       "       LetsPlot.buildPlotFromProcessedSpecs(plotSpec, -1, -1, plotContainer);\n",
       "   <\/script>\n",
       "   <\/body>\n",
       "<\/html>"
      ]
     },
     "metadata":{},
     "output_type":"display_data"
    }
   ],
   "metadata":{
    "datalore":{
     "node_id":"uKmaJbeK4owJ2hhOEvCN6Y",
     "type":"CODE",
     "hide_input_from_viewers":false,
     "hide_output_from_viewers":false,
     "report_properties":{
      "rowId":"DrRjpJEgmGY2UrQRh6QKoi",
      "x":0,
      "relativeY":0,
      "width":0.5833333333333334,
      "height":31,
      "isDynamicHeight":false
     }
    }
   }
  },
  {
   "cell_type":"markdown",
   "source":[
    "`count2d` statistics provides the following variables:\n",
    "\n",
    "- `..count..` and `..sum..` - number of observations at a given location and total number of observations;\n",
    "- `..prop..` and `..proppct..` - proportion of observations belonging to a given group relative to the number of observations at a given location (and the same in percent);\n",
    "- `..sumprop..` and `..sumpct..` - proportion of observations at a given location relative to the total number of observations (and in percent)."
   ],
   "attachments":{},
   "metadata":{
    "datalore":{
     "node_id":"nqu0qVEJdM7JPzuq3zdgu6",
     "type":"MD",
     "hide_input_from_viewers":false,
     "hide_output_from_viewers":false,
     "report_properties":{
      "rowId":"bJYsZ6w2nOWyWji2Qcox7m",
      "relativeY":0
     }
    }
   }
  },
  {
   "cell_type":"markdown",
   "source":[
    "Using `layer_tooltips()` let's prepare tooltips by adding the variables provided by `count2d`."
   ],
   "attachments":{},
   "metadata":{
    "datalore":{
     "node_id":"4AAbcNbXULmVuTiffdHB7d",
     "type":"MD",
     "hide_input_from_viewers":false,
     "hide_output_from_viewers":false,
     "report_properties":{
      "rowId":"xN715qzKOLJ8R3HVesxeT2",
      "relativeY":0
     }
    }
   }
  },
  {
   "cell_type":"code",
   "source":[
    "tooltip_content = layer_tooltips().line('count|@{..count..} (@{..proppct..})')\\\n",
    "                                  .line('total|@{..sum..}')"
   ],
   "execution_count":8,
   "outputs":[],
   "metadata":{
    "datalore":{
     "node_id":"x2TuVIlCJqmtQEGfsdYzWf",
     "type":"CODE",
     "hide_input_from_viewers":false,
     "hide_output_from_viewers":false,
     "report_properties":{
      "rowId":"LWzo6l0A5F4Y7H5Tzw0G3V",
      "relativeY":0
     }
    }
   }
  },
  {
   "cell_type":"code",
   "source":[
    "ggplot(df) + \\\n",
    "    geom_pie(aes(fill='class'), tooltips=tooltip_content) + \\\n",
    "    ggsize(600, 400)"
   ],
   "execution_count":9,
   "outputs":[
    {
     "data":{
      "text\/html":[
       "<html lang=\"en\">\n",
       "   <head>\n",
       "       <meta charset=\"UTF-8\">\n",
       "       <script type=\"text\/javascript\" data-lets-plot-script=\"library\" src=\"https:\/\/cdn.jsdelivr.net\/gh\/JetBrains\/lets-plot@v4.3.1\/js-package\/distr\/lets-plot.min.js\"><\/script>\n",
       "   <\/head>\n",
       "   <body>\n",
       "          <div id=\"0v1hLn\"><\/div>\n",
       "   <script type=\"text\/javascript\" data-lets-plot-script=\"plot\">\n",
       "       var plotSpec={\n",
       "\"data\":{\n",
       "},\n",
       "\"mapping\":{\n",
       "},\n",
       "\"data_meta\":{\n",
       "},\n",
       "\"ggsize\":{\n",
       "\"width\":600.0,\n",
       "\"height\":400.0\n",
       "},\n",
       "\"kind\":\"plot\",\n",
       "\"scales\":[],\n",
       "\"layers\":[{\n",
       "\"geom\":\"pie\",\n",
       "\"mapping\":{\n",
       "\"fill\":\"class\"\n",
       "},\n",
       "\"tooltips\":{\n",
       "\"formats\":[],\n",
       "\"lines\":[\"count|@{..count..} (@{..proppct..})\",\"total|@{..sum..}\"]\n",
       "},\n",
       "\"data_meta\":{\n",
       "},\n",
       "\"data\":{\n",
       "\"..x..\":[0.0,0.0,0.0,0.0,0.0,0.0,0.0],\n",
       "\"..y..\":[0.0,0.0,0.0,0.0,0.0,0.0,0.0],\n",
       "\"..count..\":[47.0,41.0,62.0,5.0,11.0,33.0,35.0],\n",
       "\"class\":[\"compact\",\"midsize\",\"suv\",\"2seater\",\"minivan\",\"pickup\",\"subcompact\"],\n",
       "\"..sum..\":[234.0,234.0,234.0,234.0,234.0,234.0,234.0],\n",
       "\"..proppct..\":[20.085470085470085,17.52136752136752,26.495726495726498,2.1367521367521367,4.700854700854701,14.102564102564102,14.957264957264957]\n",
       "}\n",
       "}],\n",
       "\"metainfo_list\":[]\n",
       "};\n",
       "       var plotContainer = document.getElementById(\"0v1hLn\");\n",
       "       LetsPlot.buildPlotFromProcessedSpecs(plotSpec, -1, -1, plotContainer);\n",
       "   <\/script>\n",
       "   <\/body>\n",
       "<\/html>"
      ]
     },
     "metadata":{},
     "output_type":"display_data"
    }
   ],
   "metadata":{
    "datalore":{
     "node_id":"66anroQpcctCCCXw5jOyEj",
     "type":"CODE",
     "hide_input_from_viewers":false,
     "hide_output_from_viewers":false,
     "report_properties":{
      "rowId":"nuw4hXajDZZ10tixU0vjjG",
      "x":0,
      "relativeY":0,
      "width":0.5833333333333334,
      "height":33,
      "isDynamicHeight":false
     }
    }
   }
  },
  {
   "cell_type":"markdown",
   "source":[
    "Let's order sectors by count. The following ordering rule is used for the pie chart: the first slice goes to the left of 12 o'clock and others go clockwise."
   ],
   "attachments":{},
   "metadata":{
    "datalore":{
     "node_id":"Jv5e7LZkbKiDu1zcwnvMuf",
     "type":"MD",
     "hide_input_from_viewers":false,
     "hide_output_from_viewers":false,
     "report_properties":{
      "rowId":"UrChlOGf3uT3sbMXGgPApr",
      "relativeY":0
     }
    }
   }
  },
  {
   "cell_type":"code",
   "source":[
    "ggplot(df) + \\\n",
    "    geom_pie(aes(fill=as_discrete('class', order_by='..count..')),\n",
    "             tooltips=tooltip_content) + \\\n",
    "    ggsize(600, 400)"
   ],
   "execution_count":10,
   "outputs":[
    {
     "data":{
      "text\/html":[
       "<html lang=\"en\">\n",
       "   <head>\n",
       "       <meta charset=\"UTF-8\">\n",
       "       <script type=\"text\/javascript\" data-lets-plot-script=\"library\" src=\"https:\/\/cdn.jsdelivr.net\/gh\/JetBrains\/lets-plot@v4.3.1\/js-package\/distr\/lets-plot.min.js\"><\/script>\n",
       "   <\/head>\n",
       "   <body>\n",
       "          <div id=\"vqqWGT\"><\/div>\n",
       "   <script type=\"text\/javascript\" data-lets-plot-script=\"plot\">\n",
       "       var plotSpec={\n",
       "\"data\":{\n",
       "},\n",
       "\"mapping\":{\n",
       "},\n",
       "\"data_meta\":{\n",
       "},\n",
       "\"ggsize\":{\n",
       "\"width\":600.0,\n",
       "\"height\":400.0\n",
       "},\n",
       "\"kind\":\"plot\",\n",
       "\"scales\":[],\n",
       "\"layers\":[{\n",
       "\"geom\":\"pie\",\n",
       "\"mapping\":{\n",
       "\"fill\":\"class\"\n",
       "},\n",
       "\"tooltips\":{\n",
       "\"formats\":[],\n",
       "\"lines\":[\"count|@{..count..} (@{..proppct..})\",\"total|@{..sum..}\"]\n",
       "},\n",
       "\"data_meta\":{\n",
       "\"mapping_annotations\":[{\n",
       "\"aes\":\"fill\",\n",
       "\"annotation\":\"as_discrete\",\n",
       "\"parameters\":{\n",
       "\"label\":\"class\",\n",
       "\"order_by\":\"..count..\"\n",
       "}\n",
       "}]\n",
       "},\n",
       "\"data\":{\n",
       "\"..x..\":[0.0,0.0,0.0,0.0,0.0,0.0,0.0],\n",
       "\"..y..\":[0.0,0.0,0.0,0.0,0.0,0.0,0.0],\n",
       "\"..count..\":[62.0,47.0,41.0,35.0,33.0,11.0,5.0],\n",
       "\"class\":[\"suv\",\"compact\",\"midsize\",\"subcompact\",\"pickup\",\"minivan\",\"2seater\"],\n",
       "\"..sum..\":[234.0,234.0,234.0,234.0,234.0,234.0,234.0],\n",
       "\"..proppct..\":[26.495726495726498,20.085470085470085,17.52136752136752,14.957264957264957,14.102564102564102,4.700854700854701,2.1367521367521367]\n",
       "}\n",
       "}],\n",
       "\"metainfo_list\":[]\n",
       "};\n",
       "       var plotContainer = document.getElementById(\"vqqWGT\");\n",
       "       LetsPlot.buildPlotFromProcessedSpecs(plotSpec, -1, -1, plotContainer);\n",
       "   <\/script>\n",
       "   <\/body>\n",
       "<\/html>"
      ]
     },
     "metadata":{},
     "output_type":"display_data"
    }
   ],
   "metadata":{
    "datalore":{
     "node_id":"AYyokDsGAKjhumwNb6DLMt",
     "type":"CODE",
     "hide_input_from_viewers":false,
     "hide_output_from_viewers":false,
     "report_properties":{
      "rowId":"tGY5jtjEjq6kRrxIhppsqF",
      "x":0,
      "relativeY":0,
      "width":0.5833333333333334,
      "height":34,
      "isDynamicHeight":false
     }
    }
   }
  },
  {
   "cell_type":"markdown",
   "source":[
    "Let's compute weighted sum instead of simple count with aesthetic `weight`."
   ],
   "attachments":{},
   "metadata":{
    "datalore":{
     "node_id":"ly23J0o8haFyEUv4fjgiZD",
     "type":"MD",
     "hide_input_from_viewers":false,
     "hide_output_from_viewers":false,
     "report_properties":{
      "rowId":"3lcr1OXygXE9SOSRODo6u3",
      "relativeY":0
     }
    }
   }
  },
  {
   "cell_type":"code",
   "source":[
    "ggplot(df) + \\\n",
    "    geom_pie(aes(fill='class', weight='displ'),\n",
    "             tooltips=tooltip_content.format('..sum..', '.1f')) + \\\n",
    "    ggsize(600, 400)"
   ],
   "execution_count":11,
   "outputs":[
    {
     "data":{
      "text\/html":[
       "<html lang=\"en\">\n",
       "   <head>\n",
       "       <meta charset=\"UTF-8\">\n",
       "       <script type=\"text\/javascript\" data-lets-plot-script=\"library\" src=\"https:\/\/cdn.jsdelivr.net\/gh\/JetBrains\/lets-plot@v4.3.1\/js-package\/distr\/lets-plot.min.js\"><\/script>\n",
       "   <\/head>\n",
       "   <body>\n",
       "          <div id=\"yPjF4o\"><\/div>\n",
       "   <script type=\"text\/javascript\" data-lets-plot-script=\"plot\">\n",
       "       var plotSpec={\n",
       "\"data\":{\n",
       "},\n",
       "\"mapping\":{\n",
       "},\n",
       "\"data_meta\":{\n",
       "},\n",
       "\"ggsize\":{\n",
       "\"width\":600.0,\n",
       "\"height\":400.0\n",
       "},\n",
       "\"kind\":\"plot\",\n",
       "\"scales\":[],\n",
       "\"layers\":[{\n",
       "\"geom\":\"pie\",\n",
       "\"mapping\":{\n",
       "\"fill\":\"class\",\n",
       "\"weight\":\"displ\"\n",
       "},\n",
       "\"tooltips\":{\n",
       "\"formats\":[{\n",
       "\"field\":\"..sum..\",\n",
       "\"format\":\".1f\"\n",
       "}],\n",
       "\"lines\":[\"count|@{..count..} (@{..proppct..})\",\"total|@{..sum..}\"]\n",
       "},\n",
       "\"data_meta\":{\n",
       "},\n",
       "\"data\":{\n",
       "\"..x..\":[0.0,0.0,0.0,0.0,0.0,0.0,0.0],\n",
       "\"..y..\":[0.0,0.0,0.0,0.0,0.0,0.0,0.0],\n",
       "\"..count..\":[109.29999999999998,119.79999999999998,276.2999999999999,30.8,37.300000000000004,145.80000000000004,93.10000000000002],\n",
       "\"class\":[\"compact\",\"midsize\",\"suv\",\"2seater\",\"minivan\",\"pickup\",\"subcompact\"],\n",
       "\"..sum..\":[812.3999999999999,812.3999999999999,812.3999999999999,812.3999999999999,812.3999999999999,812.3999999999999,812.3999999999999],\n",
       "\"..proppct..\":[13.453963564746429,14.746430329886756,34.01033973412112,3.791235844411621,4.591334318069917,17.94682422451995,11.459871984244218]\n",
       "}\n",
       "}],\n",
       "\"metainfo_list\":[]\n",
       "};\n",
       "       var plotContainer = document.getElementById(\"yPjF4o\");\n",
       "       LetsPlot.buildPlotFromProcessedSpecs(plotSpec, -1, -1, plotContainer);\n",
       "   <\/script>\n",
       "   <\/body>\n",
       "<\/html>"
      ]
     },
     "metadata":{},
     "output_type":"display_data"
    }
   ],
   "metadata":{
    "datalore":{
     "node_id":"OP5Qr0fHXiOTzpKbWQXp6S",
     "type":"CODE",
     "hide_input_from_viewers":false,
     "hide_output_from_viewers":false,
     "report_properties":{
      "rowId":"eqvm9Lnw3PAJpYbW0QB8Vy",
      "x":0,
      "relativeY":0,
      "width":0.5833333333333334,
      "height":34,
      "isDynamicHeight":false
     }
    }
   }
  },
  {
   "cell_type":"markdown",
   "source":[
    "Let's compare the variable proportions."
   ],
   "attachments":{},
   "metadata":{
    "datalore":{
     "node_id":"Pgi9Fh4OAWUL7b2y5wSz8g",
     "type":"MD",
     "hide_input_from_viewers":false,
     "hide_output_from_viewers":false,
     "report_properties":{
      "rowId":"vYs63qabBJ5ouxJXodZgDk",
      "relativeY":0
     }
    }
   }
  },
  {
   "cell_type":"code",
   "source":[
    "ggplot(df, aes('drv', as_discrete('year'))) + \\\n",
    "    geom_pie(aes(fill='class'),\n",
    "             tooltips=layer_tooltips()\\\n",
    "                      .line('class size|@{..count..} (@{..proppct..})')\\\n",
    "                      .format('@..count..', 'd')\\\n",
    "                      .line('total size|@{..sum..} (@{..sumpct..})')) + \\\n",
    "    scale_size(guide='none') + \\\n",
    "    ggsize(600, 400)"
   ],
   "execution_count":12,
   "outputs":[
    {
     "data":{
      "text\/html":[
       "<html lang=\"en\">\n",
       "   <head>\n",
       "       <meta charset=\"UTF-8\">\n",
       "       <script type=\"text\/javascript\" data-lets-plot-script=\"library\" src=\"https:\/\/cdn.jsdelivr.net\/gh\/JetBrains\/lets-plot@v4.3.1\/js-package\/distr\/lets-plot.min.js\"><\/script>\n",
       "   <\/head>\n",
       "   <body>\n",
       "          <div id=\"pLBqqD\"><\/div>\n",
       "   <script type=\"text\/javascript\" data-lets-plot-script=\"plot\">\n",
       "       var plotSpec={\n",
       "\"data\":{\n",
       "},\n",
       "\"mapping\":{\n",
       "\"x\":\"drv\",\n",
       "\"y\":\"year\"\n",
       "},\n",
       "\"data_meta\":{\n",
       "\"mapping_annotations\":[{\n",
       "\"aes\":\"y\",\n",
       "\"annotation\":\"as_discrete\",\n",
       "\"parameters\":{\n",
       "\"label\":\"year\"\n",
       "}\n",
       "}]\n",
       "},\n",
       "\"ggsize\":{\n",
       "\"width\":600.0,\n",
       "\"height\":400.0\n",
       "},\n",
       "\"kind\":\"plot\",\n",
       "\"scales\":[{\n",
       "\"aesthetic\":\"size\",\n",
       "\"guide\":\"none\"\n",
       "}],\n",
       "\"layers\":[{\n",
       "\"geom\":\"pie\",\n",
       "\"mapping\":{\n",
       "\"fill\":\"class\"\n",
       "},\n",
       "\"tooltips\":{\n",
       "\"formats\":[{\n",
       "\"field\":\"@..count..\",\n",
       "\"format\":\"d\"\n",
       "}],\n",
       "\"lines\":[\"class size|@{..count..} (@{..proppct..})\",\"total size|@{..sum..} (@{..sumpct..})\"]\n",
       "},\n",
       "\"data_meta\":{\n",
       "},\n",
       "\"data\":{\n",
       "\"..count..\":[21.0,14.0,4.0,8.0,1.0,2.0,19.0,19.0,6.0,5.0,27.0,24.0,2.0,3.0,6.0,5.0,17.0,16.0,4.0,5.0,11.0,11.0,4.0],\n",
       "\"drv\":[\"f\",\"f\",\"4\",\"4\",\"4\",\"4\",\"f\",\"f\",\"r\",\"r\",\"4\",\"4\",\"r\",\"r\",\"f\",\"f\",\"4\",\"4\",\"r\",\"r\",\"f\",\"f\",\"4\"],\n",
       "\"year\":[1999.0,2008.0,1999.0,2008.0,1999.0,2008.0,1999.0,2008.0,2008.0,1999.0,2008.0,1999.0,1999.0,2008.0,1999.0,2008.0,2008.0,1999.0,1999.0,2008.0,1999.0,2008.0,1999.0],\n",
       "\"class\":[\"compact\",\"compact\",\"compact\",\"compact\",\"midsize\",\"midsize\",\"midsize\",\"midsize\",\"suv\",\"suv\",\"suv\",\"suv\",\"2seater\",\"2seater\",\"minivan\",\"minivan\",\"pickup\",\"pickup\",\"subcompact\",\"subcompact\",\"subcompact\",\"subcompact\",\"subcompact\"],\n",
       "\"..sum..\":[57.0,49.0,49.0,54.0,49.0,54.0,57.0,49.0,14.0,11.0,54.0,49.0,11.0,14.0,57.0,49.0,54.0,49.0,11.0,14.0,57.0,49.0,49.0],\n",
       "\"..proppct..\":[36.84210526315789,28.57142857142857,8.16326530612245,14.814814814814813,2.0408163265306123,3.7037037037037033,33.33333333333333,38.775510204081634,42.857142857142854,45.45454545454545,50.0,48.97959183673469,18.181818181818183,21.428571428571427,10.526315789473683,10.204081632653061,31.48148148148148,32.6530612244898,36.36363636363637,35.714285714285715,19.298245614035086,22.448979591836736,8.16326530612245],\n",
       "\"..sumpct..\":[24.358974358974358,20.94017094017094,20.94017094017094,23.076923076923077,20.94017094017094,23.076923076923077,24.358974358974358,20.94017094017094,5.982905982905983,4.700854700854701,23.076923076923077,20.94017094017094,4.700854700854701,5.982905982905983,24.358974358974358,20.94017094017094,23.076923076923077,20.94017094017094,4.700854700854701,5.982905982905983,24.358974358974358,20.94017094017094,20.94017094017094]\n",
       "}\n",
       "}],\n",
       "\"metainfo_list\":[]\n",
       "};\n",
       "       var plotContainer = document.getElementById(\"pLBqqD\");\n",
       "       LetsPlot.buildPlotFromProcessedSpecs(plotSpec, -1, -1, plotContainer);\n",
       "   <\/script>\n",
       "   <\/body>\n",
       "<\/html>"
      ]
     },
     "metadata":{},
     "output_type":"display_data"
    }
   ],
   "metadata":{
    "datalore":{
     "node_id":"VN6c5uKFPN6Kblbk4LtTJj",
     "type":"CODE",
     "hide_input_from_viewers":false,
     "hide_output_from_viewers":false,
     "report_properties":{
      "rowId":"OMh8VovIiADDDBK06LvaxF",
      "x":0,
      "relativeY":0,
      "width":0.5833333333333334,
      "height":37,
      "isDynamicHeight":false
     }
    }
   }
  },
  {
   "cell_type":"markdown",
   "source":[
    "## Improve Appearance"
   ],
   "attachments":{},
   "metadata":{
    "datalore":{
     "node_id":"U169t92196xQqdkQOtYZtr",
     "type":"MD",
     "hide_input_from_viewers":false,
     "hide_output_from_viewers":false,
     "report_properties":{
      "rowId":"uiDG7XqdFZJAZkI9fzQQa2",
      "relativeY":0
     }
    }
   }
  },
  {
   "cell_type":"markdown",
   "source":[
    "We can improve appearance using additional parameters for pie-chart:\n",
    "- make the pie bigger (`size`)\n",
    "- add a hole to draw donut-like chart (`hole`)\n",
    "- use blank theme (it removes axes and grid)"
   ],
   "attachments":{},
   "metadata":{
    "datalore":{
     "node_id":"NvxPhAsWXzDieAzwv0P4l1",
     "type":"MD",
     "hide_input_from_viewers":false,
     "hide_output_from_viewers":false,
     "report_properties":{
      "rowId":"vKFfIrsKgs83nl3UQXuE6a",
      "relativeY":0
     }
    }
   }
  },
  {
   "cell_type":"code",
   "source":[
    "ggplot(df) + \\\n",
    "    geom_pie(aes(fill='class'),\n",
    "             size=20, hole=.3, tooltips=tooltip_content) + \\\n",
    "    ggsize(600, 400) + \\\n",
    "    theme_void()"
   ],
   "execution_count":13,
   "outputs":[
    {
     "data":{
      "text\/html":[
       "<html lang=\"en\">\n",
       "   <head>\n",
       "       <meta charset=\"UTF-8\">\n",
       "       <script type=\"text\/javascript\" data-lets-plot-script=\"library\" src=\"https:\/\/cdn.jsdelivr.net\/gh\/JetBrains\/lets-plot@v4.3.1\/js-package\/distr\/lets-plot.min.js\"><\/script>\n",
       "   <\/head>\n",
       "   <body>\n",
       "          <div id=\"ZFc6pD\"><\/div>\n",
       "   <script type=\"text\/javascript\" data-lets-plot-script=\"plot\">\n",
       "       var plotSpec={\n",
       "\"data\":{\n",
       "},\n",
       "\"mapping\":{\n",
       "},\n",
       "\"data_meta\":{\n",
       "},\n",
       "\"ggsize\":{\n",
       "\"width\":600.0,\n",
       "\"height\":400.0\n",
       "},\n",
       "\"theme\":{\n",
       "\"name\":\"classic\",\n",
       "\"line\":\"blank\",\n",
       "\"axis\":\"blank\"\n",
       "},\n",
       "\"kind\":\"plot\",\n",
       "\"scales\":[],\n",
       "\"layers\":[{\n",
       "\"geom\":\"pie\",\n",
       "\"mapping\":{\n",
       "\"fill\":\"class\"\n",
       "},\n",
       "\"tooltips\":{\n",
       "\"formats\":[{\n",
       "\"field\":\"..sum..\",\n",
       "\"format\":\".1f\"\n",
       "}],\n",
       "\"lines\":[\"count|@{..count..} (@{..proppct..})\",\"total|@{..sum..}\"]\n",
       "},\n",
       "\"data_meta\":{\n",
       "},\n",
       "\"hole\":0.3,\n",
       "\"size\":20.0,\n",
       "\"data\":{\n",
       "\"..x..\":[0.0,0.0,0.0,0.0,0.0,0.0,0.0],\n",
       "\"..y..\":[0.0,0.0,0.0,0.0,0.0,0.0,0.0],\n",
       "\"..count..\":[47.0,41.0,62.0,5.0,11.0,33.0,35.0],\n",
       "\"class\":[\"compact\",\"midsize\",\"suv\",\"2seater\",\"minivan\",\"pickup\",\"subcompact\"],\n",
       "\"..sum..\":[234.0,234.0,234.0,234.0,234.0,234.0,234.0],\n",
       "\"..proppct..\":[20.085470085470085,17.52136752136752,26.495726495726498,2.1367521367521367,4.700854700854701,14.102564102564102,14.957264957264957]\n",
       "}\n",
       "}],\n",
       "\"metainfo_list\":[]\n",
       "};\n",
       "       var plotContainer = document.getElementById(\"ZFc6pD\");\n",
       "       LetsPlot.buildPlotFromProcessedSpecs(plotSpec, -1, -1, plotContainer);\n",
       "   <\/script>\n",
       "   <\/body>\n",
       "<\/html>"
      ]
     },
     "metadata":{},
     "output_type":"display_data"
    }
   ],
   "metadata":{
    "datalore":{
     "node_id":"oxORbdDAdVX0mju5DLGers",
     "type":"CODE",
     "hide_input_from_viewers":false,
     "hide_output_from_viewers":false,
     "report_properties":{
      "rowId":"F5389dCNEQY9yY34CtNRP6",
      "x":0,
      "relativeY":0,
      "width":0.5833333333333334,
      "height":34,
      "isDynamicHeight":false
     }
    }
   }
  },
  {
   "cell_type":"markdown",
   "source":[
    "## Add Labels to Pie Sectors"
   ],
   "attachments":{},
   "metadata":{
    "datalore":{
     "node_id":"i4qsmAnR6S5qyK3F7FYRos",
     "type":"MD",
     "hide_input_from_viewers":false,
     "hide_output_from_viewers":false,
     "report_properties":{
      "rowId":"0JSQG3ALOgBuvUEJm4FKaV",
      "relativeY":0
     }
    }
   }
  },
  {
   "cell_type":"markdown",
   "source":[
    "Let's label the sectors with their names. You can configure annotations via `layer_labels()` function."
   ],
   "attachments":{},
   "metadata":{
    "datalore":{
     "node_id":"9HCLWmKzBsYm6Qrq9DqsiE",
     "type":"MD",
     "hide_input_from_viewers":false,
     "hide_output_from_viewers":false,
     "report_properties":{
      "rowId":"LcCa95jsQrLLmjjdkx848d",
      "relativeY":0
     }
    }
   }
  },
  {
   "cell_type":"code",
   "source":[
    "ggplot(df) + \\\n",
    "    geom_pie(aes(fill=as_discrete('class', order_by='..count..')),\n",
    "             size=20, hole=.3,\n",
    "             labels=layer_labels().line('@class').size(14)) + \\\n",
    "    ggsize(600, 400) + \\\n",
    "    theme_void() + \\\n",
    "    theme(legend_position='none')"
   ],
   "execution_count":14,
   "outputs":[
    {
     "data":{
      "text\/html":[
       "<html lang=\"en\">\n",
       "   <head>\n",
       "       <meta charset=\"UTF-8\">\n",
       "       <script type=\"text\/javascript\" data-lets-plot-script=\"library\" src=\"https:\/\/cdn.jsdelivr.net\/gh\/JetBrains\/lets-plot@v4.3.1\/js-package\/distr\/lets-plot.min.js\"><\/script>\n",
       "   <\/head>\n",
       "   <body>\n",
       "          <div id=\"iGT47j\"><\/div>\n",
       "   <script type=\"text\/javascript\" data-lets-plot-script=\"plot\">\n",
       "       var plotSpec={\n",
       "\"data\":{\n",
       "},\n",
       "\"mapping\":{\n",
       "},\n",
       "\"data_meta\":{\n",
       "},\n",
       "\"ggsize\":{\n",
       "\"width\":600.0,\n",
       "\"height\":400.0\n",
       "},\n",
       "\"theme\":{\n",
       "\"name\":\"classic\",\n",
       "\"line\":\"blank\",\n",
       "\"axis\":\"blank\",\n",
       "\"legend_position\":\"none\"\n",
       "},\n",
       "\"kind\":\"plot\",\n",
       "\"scales\":[],\n",
       "\"layers\":[{\n",
       "\"geom\":\"pie\",\n",
       "\"mapping\":{\n",
       "\"fill\":\"class\"\n",
       "},\n",
       "\"data_meta\":{\n",
       "\"mapping_annotations\":[{\n",
       "\"aes\":\"fill\",\n",
       "\"annotation\":\"as_discrete\",\n",
       "\"parameters\":{\n",
       "\"label\":\"class\",\n",
       "\"order_by\":\"..count..\"\n",
       "}\n",
       "}]\n",
       "},\n",
       "\"labels\":{\n",
       "\"formats\":[],\n",
       "\"lines\":[\"@class\"],\n",
       "\"annotation_size\":14.0\n",
       "},\n",
       "\"hole\":0.3,\n",
       "\"size\":20.0,\n",
       "\"data\":{\n",
       "\"..x..\":[0.0,0.0,0.0,0.0,0.0,0.0,0.0],\n",
       "\"..y..\":[0.0,0.0,0.0,0.0,0.0,0.0,0.0],\n",
       "\"..count..\":[62.0,47.0,41.0,35.0,33.0,11.0,5.0],\n",
       "\"class\":[\"suv\",\"compact\",\"midsize\",\"subcompact\",\"pickup\",\"minivan\",\"2seater\"]\n",
       "}\n",
       "}],\n",
       "\"metainfo_list\":[]\n",
       "};\n",
       "       var plotContainer = document.getElementById(\"iGT47j\");\n",
       "       LetsPlot.buildPlotFromProcessedSpecs(plotSpec, -1, -1, plotContainer);\n",
       "   <\/script>\n",
       "   <\/body>\n",
       "<\/html>"
      ]
     },
     "metadata":{},
     "output_type":"display_data"
    }
   ],
   "metadata":{
    "datalore":{
     "node_id":"hRrsgUXfJMHePIK6DEOl4j",
     "type":"CODE",
     "hide_input_from_viewers":false,
     "hide_output_from_viewers":false,
     "report_properties":{
      "rowId":"mgmLVNYBe5zRZQdtNhOC3L",
      "x":0,
      "relativeY":0,
      "width":0.5833333333333334,
      "height":36,
      "isDynamicHeight":false
     }
    }
   }
  },
  {
   "cell_type":"markdown",
   "source":[
    "## Pie Size Depending on Data"
   ],
   "attachments":{},
   "metadata":{
    "datalore":{
     "node_id":"BVQ8UtsYhV4Q6tU3718TLw",
     "type":"MD",
     "hide_input_from_viewers":false,
     "hide_output_from_viewers":false,
     "report_properties":{
      "rowId":"0fs3hyes4ybZgclVgnhHZU",
      "relativeY":0
     }
    }
   }
  },
  {
   "cell_type":"markdown",
   "source":[
    "To make the size of the pie chart dependent on the data you can map total count (`..sum..` variable) to the `size`.\n",
    "\n",
    "Note that it has its own special representation of the size in the legend."
   ],
   "attachments":{},
   "metadata":{
    "datalore":{
     "node_id":"5LPfxfifc1eGb794HpsMzH",
     "type":"MD",
     "hide_input_from_viewers":false,
     "hide_output_from_viewers":false,
     "report_properties":{
      "rowId":"EzmcB1hXOvxkhNa9zZU2hw",
      "relativeY":0
     }
    }
   }
  },
  {
   "cell_type":"code",
   "source":[
    "ggplot(df, aes('drv', as_discrete('year'))) + \\\n",
    "    geom_pie(aes(fill='class', size='..sum..')) + \\\n",
    "    guides(fill='none') + \\\n",
    "    ggsize(600, 400)"
   ],
   "execution_count":15,
   "outputs":[
    {
     "data":{
      "text\/html":[
       "<html lang=\"en\">\n",
       "   <head>\n",
       "       <meta charset=\"UTF-8\">\n",
       "       <script type=\"text\/javascript\" data-lets-plot-script=\"library\" src=\"https:\/\/cdn.jsdelivr.net\/gh\/JetBrains\/lets-plot@v4.3.1\/js-package\/distr\/lets-plot.min.js\"><\/script>\n",
       "   <\/head>\n",
       "   <body>\n",
       "          <div id=\"QGLy5A\"><\/div>\n",
       "   <script type=\"text\/javascript\" data-lets-plot-script=\"plot\">\n",
       "       var plotSpec={\n",
       "\"data\":{\n",
       "},\n",
       "\"mapping\":{\n",
       "\"x\":\"drv\",\n",
       "\"y\":\"year\"\n",
       "},\n",
       "\"data_meta\":{\n",
       "\"mapping_annotations\":[{\n",
       "\"aes\":\"y\",\n",
       "\"annotation\":\"as_discrete\",\n",
       "\"parameters\":{\n",
       "\"label\":\"year\"\n",
       "}\n",
       "}]\n",
       "},\n",
       "\"guides\":{\n",
       "\"fill\":\"none\"\n",
       "},\n",
       "\"ggsize\":{\n",
       "\"width\":600.0,\n",
       "\"height\":400.0\n",
       "},\n",
       "\"kind\":\"plot\",\n",
       "\"scales\":[],\n",
       "\"layers\":[{\n",
       "\"geom\":\"pie\",\n",
       "\"mapping\":{\n",
       "\"fill\":\"class\",\n",
       "\"size\":\"..sum..\"\n",
       "},\n",
       "\"data_meta\":{\n",
       "},\n",
       "\"data\":{\n",
       "\"..count..\":[21.0,14.0,4.0,8.0,1.0,2.0,19.0,19.0,6.0,5.0,27.0,24.0,2.0,3.0,6.0,5.0,17.0,16.0,4.0,5.0,11.0,11.0,4.0],\n",
       "\"drv\":[\"f\",\"f\",\"4\",\"4\",\"4\",\"4\",\"f\",\"f\",\"r\",\"r\",\"4\",\"4\",\"r\",\"r\",\"f\",\"f\",\"4\",\"4\",\"r\",\"r\",\"f\",\"f\",\"4\"],\n",
       "\"year\":[1999.0,2008.0,1999.0,2008.0,1999.0,2008.0,1999.0,2008.0,2008.0,1999.0,2008.0,1999.0,1999.0,2008.0,1999.0,2008.0,2008.0,1999.0,1999.0,2008.0,1999.0,2008.0,1999.0],\n",
       "\"class\":[\"compact\",\"compact\",\"compact\",\"compact\",\"midsize\",\"midsize\",\"midsize\",\"midsize\",\"suv\",\"suv\",\"suv\",\"suv\",\"2seater\",\"2seater\",\"minivan\",\"minivan\",\"pickup\",\"pickup\",\"subcompact\",\"subcompact\",\"subcompact\",\"subcompact\",\"subcompact\"],\n",
       "\"..sum..\":[57.0,49.0,49.0,54.0,49.0,54.0,57.0,49.0,14.0,11.0,54.0,49.0,11.0,14.0,57.0,49.0,54.0,49.0,11.0,14.0,57.0,49.0,49.0]\n",
       "}\n",
       "}],\n",
       "\"metainfo_list\":[]\n",
       "};\n",
       "       var plotContainer = document.getElementById(\"QGLy5A\");\n",
       "       LetsPlot.buildPlotFromProcessedSpecs(plotSpec, -1, -1, plotContainer);\n",
       "   <\/script>\n",
       "   <\/body>\n",
       "<\/html>"
      ]
     },
     "metadata":{},
     "output_type":"display_data"
    }
   ],
   "metadata":{
    "datalore":{
     "node_id":"ZZAjS7CmjfXo4bItLbjtCR",
     "type":"CODE",
     "hide_input_from_viewers":false,
     "hide_output_from_viewers":false,
     "report_properties":{
      "rowId":"unP6AUAn4wpH9fEbdEaKEd",
      "x":0,
      "relativeY":0,
      "width":0.5833333333333334,
      "height":34,
      "isDynamicHeight":false
     }
    }
   }
  },
  {
   "cell_type":"markdown",
   "source":[
    "## Parameter `size_unit`\n",
    "\n",
    "You can use the `size_unit` parameter to relate the size of the 'pie' to the length of the unit step along one of the axis."
   ],
   "attachments":{},
   "metadata":{
    "datalore":{
     "node_id":"2oSS4oqY7sKIzoXaNslcvp",
     "type":"MD",
     "hide_input_from_viewers":false,
     "hide_output_from_viewers":false,
     "report_properties":{
      "rowId":"U7XF9oFPyRLUsgcTlknJiH",
      "relativeY":0
     }
    }
   }
  },
  {
   "cell_type":"markdown",
   "source":[
    "Let's make the pie diameter equal to the unit step along the x-axis."
   ],
   "attachments":{},
   "metadata":{
    "datalore":{
     "node_id":"eVqPJuOScAO2DW0rZ7ja4k",
     "type":"MD",
     "hide_input_from_viewers":false,
     "hide_output_from_viewers":false,
     "report_properties":{
      "rowId":"cG9j1BbE84AX9DaJDgmxEt",
      "relativeY":0
     }
    }
   }
  },
  {
   "cell_type":"code",
   "source":[
    "def get_plot(size_unit=None):\n",
    "    size = 8\n",
    "    return ggplot(df) + \\\n",
    "        geom_pie(aes(fill='class', weight='displ'),\n",
    "                 size=size, size_unit=size_unit) + \\\n",
    "        coord_fixed(xlim=[-size\/2, size\/2], ylim=[-size\/2, size\/2]) + \\\n",
    "        ggtitle(\"size={0}, size_unit={1}\".format(size, size_unit))\n",
    "\n",
    "gggrid([get_plot(), get_plot('x')]) + ggsize(800, 300)"
   ],
   "execution_count":16,
   "outputs":[
    {
     "data":{
      "text\/html":[
       "<html lang=\"en\">\n",
       "   <head>\n",
       "       <meta charset=\"UTF-8\">\n",
       "       <script type=\"text\/javascript\" data-lets-plot-script=\"library\" src=\"https:\/\/cdn.jsdelivr.net\/gh\/JetBrains\/lets-plot@v4.3.1\/js-package\/distr\/lets-plot.min.js\"><\/script>\n",
       "   <\/head>\n",
       "   <body>\n",
       "          <div id=\"6fUyfe\"><\/div>\n",
       "   <script type=\"text\/javascript\" data-lets-plot-script=\"plot\">\n",
       "       var plotSpec={\n",
       "\"ggsize\":{\n",
       "\"width\":800.0,\n",
       "\"height\":300.0\n",
       "},\n",
       "\"kind\":\"subplots\",\n",
       "\"layout\":{\n",
       "\"ncol\":2.0,\n",
       "\"nrow\":1.0,\n",
       "\"name\":\"grid\"\n",
       "},\n",
       "\"figures\":[{\n",
       "\"data\":{\n",
       "},\n",
       "\"mapping\":{\n",
       "},\n",
       "\"data_meta\":{\n",
       "},\n",
       "\"coord\":{\n",
       "\"name\":\"fixed\",\n",
       "\"ratio\":1.0,\n",
       "\"xlim\":[-4.0,4.0],\n",
       "\"ylim\":[-4.0,4.0],\n",
       "\"flip\":false\n",
       "},\n",
       "\"ggtitle\":{\n",
       "\"text\":\"size=8, size_unit=None\"\n",
       "},\n",
       "\"kind\":\"plot\",\n",
       "\"scales\":[],\n",
       "\"layers\":[{\n",
       "\"geom\":\"pie\",\n",
       "\"mapping\":{\n",
       "\"fill\":\"class\",\n",
       "\"weight\":\"displ\"\n",
       "},\n",
       "\"data_meta\":{\n",
       "},\n",
       "\"size\":8.0,\n",
       "\"data\":{\n",
       "\"..x..\":[0.0,0.0,0.0,0.0,0.0,0.0,0.0],\n",
       "\"..y..\":[0.0,0.0,0.0,0.0,0.0,0.0,0.0],\n",
       "\"..count..\":[109.29999999999998,119.79999999999998,276.2999999999999,30.8,37.300000000000004,145.80000000000004,93.10000000000002],\n",
       "\"class\":[\"compact\",\"midsize\",\"suv\",\"2seater\",\"minivan\",\"pickup\",\"subcompact\"]\n",
       "}\n",
       "}],\n",
       "\"metainfo_list\":[]\n",
       "},{\n",
       "\"data\":{\n",
       "},\n",
       "\"mapping\":{\n",
       "},\n",
       "\"data_meta\":{\n",
       "},\n",
       "\"coord\":{\n",
       "\"name\":\"fixed\",\n",
       "\"ratio\":1.0,\n",
       "\"xlim\":[-4.0,4.0],\n",
       "\"ylim\":[-4.0,4.0],\n",
       "\"flip\":false\n",
       "},\n",
       "\"ggtitle\":{\n",
       "\"text\":\"size=8, size_unit=x\"\n",
       "},\n",
       "\"kind\":\"plot\",\n",
       "\"scales\":[],\n",
       "\"layers\":[{\n",
       "\"geom\":\"pie\",\n",
       "\"mapping\":{\n",
       "\"fill\":\"class\",\n",
       "\"weight\":\"displ\"\n",
       "},\n",
       "\"data_meta\":{\n",
       "},\n",
       "\"size_unit\":\"x\",\n",
       "\"size\":8.0,\n",
       "\"data\":{\n",
       "\"..x..\":[0.0,0.0,0.0,0.0,0.0,0.0,0.0],\n",
       "\"..y..\":[0.0,0.0,0.0,0.0,0.0,0.0,0.0],\n",
       "\"..count..\":[109.29999999999998,119.79999999999998,276.2999999999999,30.8,37.300000000000004,145.80000000000004,93.10000000000002],\n",
       "\"class\":[\"compact\",\"midsize\",\"suv\",\"2seater\",\"minivan\",\"pickup\",\"subcompact\"]\n",
       "}\n",
       "}],\n",
       "\"metainfo_list\":[]\n",
       "}]\n",
       "};\n",
       "       var plotContainer = document.getElementById(\"6fUyfe\");\n",
       "       LetsPlot.buildPlotFromProcessedSpecs(plotSpec, -1, -1, plotContainer);\n",
       "   <\/script>\n",
       "   <\/body>\n",
       "<\/html>"
      ]
     },
     "metadata":{},
     "output_type":"display_data"
    }
   ],
   "metadata":{
    "datalore":{
     "node_id":"POzM5kMTpGyiEV9sWPb7Dl",
     "type":"CODE",
     "hide_input_from_viewers":false,
     "hide_output_from_viewers":false,
     "report_properties":{
      "rowId":"E1UI6omRuAVa5d05pqeIJq",
      "relativeY":0
     }
    }
   }
  },
  {
   "cell_type":"markdown",
   "source":[
    "## Explode"
   ],
   "attachments":{},
   "metadata":{
    "datalore":{
     "node_id":"XlvDpEWpxKMVBaHqExxsDx",
     "type":"MD",
     "hide_input_from_viewers":false,
     "hide_output_from_viewers":false,
     "report_properties":{
      "rowId":"ihzXZrS5BeEkcKTHsGbZMG",
      "relativeY":0
     }
    }
   }
  },
  {
   "cell_type":"markdown",
   "source":[
    "You can use values between 0 and 1 to explode slices away from their center point, detaching them from the main pie."
   ],
   "attachments":{},
   "metadata":{
    "datalore":{
     "node_id":"UC34luH8dV9XsIUNTTXJc9",
     "type":"MD",
     "hide_input_from_viewers":false,
     "hide_output_from_viewers":false,
     "report_properties":{
      "rowId":"E6v8Gj94I2FfFL7LXpWdT5",
      "relativeY":0
     }
    }
   }
  },
  {
   "cell_type":"code",
   "source":[
    "ggplot(df) + \\\n",
    "    geom_pie(aes(fill='class', explode='explode'),\n",
    "             color='black', size=20) + \\\n",
    "    scale_fill_gradient(low='dark_blue', high='light_green') + \\\n",
    "    ggsize(600, 400) + \\\n",
    "    theme_void()"
   ],
   "execution_count":17,
   "outputs":[
    {
     "data":{
      "text\/html":[
       "<html lang=\"en\">\n",
       "   <head>\n",
       "       <meta charset=\"UTF-8\">\n",
       "       <script type=\"text\/javascript\" data-lets-plot-script=\"library\" src=\"https:\/\/cdn.jsdelivr.net\/gh\/JetBrains\/lets-plot@v4.3.1\/js-package\/distr\/lets-plot.min.js\"><\/script>\n",
       "   <\/head>\n",
       "   <body>\n",
       "          <div id=\"sDh3xX\"><\/div>\n",
       "   <script type=\"text\/javascript\" data-lets-plot-script=\"plot\">\n",
       "       var plotSpec={\n",
       "\"data\":{\n",
       "},\n",
       "\"mapping\":{\n",
       "},\n",
       "\"data_meta\":{\n",
       "},\n",
       "\"ggsize\":{\n",
       "\"width\":600.0,\n",
       "\"height\":400.0\n",
       "},\n",
       "\"theme\":{\n",
       "\"name\":\"classic\",\n",
       "\"line\":\"blank\",\n",
       "\"axis\":\"blank\"\n",
       "},\n",
       "\"kind\":\"plot\",\n",
       "\"scales\":[{\n",
       "\"aesthetic\":\"fill\",\n",
       "\"low\":\"dark_blue\",\n",
       "\"high\":\"light_green\",\n",
       "\"scale_mapper_kind\":\"color_gradient\"\n",
       "}],\n",
       "\"layers\":[{\n",
       "\"geom\":\"pie\",\n",
       "\"mapping\":{\n",
       "\"fill\":\"class\",\n",
       "\"explode\":\"explode\"\n",
       "},\n",
       "\"data_meta\":{\n",
       "},\n",
       "\"color\":\"black\",\n",
       "\"size\":20.0,\n",
       "\"data\":{\n",
       "\"..x..\":[0.0,0.0,0.0,0.0,0.0,0.0,0.0],\n",
       "\"..y..\":[0.0,0.0,0.0,0.0,0.0,0.0,0.0],\n",
       "\"..count..\":[47.0,41.0,62.0,5.0,11.0,33.0,35.0],\n",
       "\"explode\":[0.0,0.0,0.0,0.0,0.0,0.2,0.0],\n",
       "\"class\":[\"compact\",\"midsize\",\"suv\",\"2seater\",\"minivan\",\"pickup\",\"subcompact\"]\n",
       "}\n",
       "}],\n",
       "\"metainfo_list\":[]\n",
       "};\n",
       "       var plotContainer = document.getElementById(\"sDh3xX\");\n",
       "       LetsPlot.buildPlotFromProcessedSpecs(plotSpec, -1, -1, plotContainer);\n",
       "   <\/script>\n",
       "   <\/body>\n",
       "<\/html>"
      ]
     },
     "metadata":{},
     "output_type":"display_data"
    }
   ],
   "metadata":{
    "datalore":{
     "node_id":"6kx7v0WLgfPgzkmvaaUhiz",
     "type":"CODE",
     "hide_input_from_viewers":false,
     "hide_output_from_viewers":false,
     "report_properties":{
      "rowId":"KD4d02CXsU3CWpWOcZrqeC",
      "x":0,
      "relativeY":0,
      "width":0.5833333333333334,
      "height":35,
      "isDynamicHeight":false
     }
    }
   }
  },
  {
   "cell_type":"markdown",
   "source":[
    "## Pie Chart Stroke and Spacers\n",
    "\n",
    "The `stroke` and the `color` aesthetics respectively set **line width** and **line color** of the pie sector arcs. \n",
    "\n",
    "The `stroke_side` parameter - 'inner', 'outer', 'both' (default) - specifies where to show the arc.\n",
    "\n",
    "By default `stroke` is 0, thus no arc is shown regardless of the value of `stroke_side` parameter.\n",
    "\n",
    "Parameters `spacer_width` and `spacer_color` define lines between sectors. The default is a narrow segment of the same color as the plot background. Spacers are not applied to exploded sectors and to the sides of adjacent sectors."
   ],
   "attachments":{},
   "metadata":{
    "datalore":{
     "node_id":"dk3xNCvS5N0mnFbSA1k5Sl",
     "type":"MD",
     "hide_input_from_viewers":false,
     "hide_output_from_viewers":false,
     "report_properties":{
      "rowId":"8WgrGL2vAHrqzVnYjwxg2n",
      "relativeY":0
     }
    }
   }
  },
  {
   "cell_type":"markdown",
   "source":[
    "### `stroke` and `color`"
   ],
   "attachments":{},
   "metadata":{
    "datalore":{
     "node_id":"bhE6XF9d1kUOX8AIGiifRu",
     "type":"MD",
     "hide_input_from_viewers":false,
     "hide_output_from_viewers":false,
     "report_properties":{
      "rowId":"nO3mY2RLW5aKZBmhzirmzO",
      "relativeY":0
     }
    }
   }
  },
  {
   "cell_type":"code",
   "source":[
    "ggplot(df) + \\\n",
    "    geom_pie(aes(fill='class', color='class'),\n",
    "             size=20, stroke=7, alpha=.3) + \\\n",
    "    ggsize(600, 400) + \\\n",
    "    theme_void()"
   ],
   "execution_count":18,
   "outputs":[
    {
     "data":{
      "text\/html":[
       "<html lang=\"en\">\n",
       "   <head>\n",
       "       <meta charset=\"UTF-8\">\n",
       "       <script type=\"text\/javascript\" data-lets-plot-script=\"library\" src=\"https:\/\/cdn.jsdelivr.net\/gh\/JetBrains\/lets-plot@v4.3.1\/js-package\/distr\/lets-plot.min.js\"><\/script>\n",
       "   <\/head>\n",
       "   <body>\n",
       "          <div id=\"M6pzI0\"><\/div>\n",
       "   <script type=\"text\/javascript\" data-lets-plot-script=\"plot\">\n",
       "       var plotSpec={\n",
       "\"data\":{\n",
       "},\n",
       "\"mapping\":{\n",
       "},\n",
       "\"data_meta\":{\n",
       "},\n",
       "\"ggsize\":{\n",
       "\"width\":600.0,\n",
       "\"height\":400.0\n",
       "},\n",
       "\"theme\":{\n",
       "\"name\":\"classic\",\n",
       "\"line\":\"blank\",\n",
       "\"axis\":\"blank\"\n",
       "},\n",
       "\"kind\":\"plot\",\n",
       "\"scales\":[],\n",
       "\"layers\":[{\n",
       "\"geom\":\"pie\",\n",
       "\"mapping\":{\n",
       "\"fill\":\"class\",\n",
       "\"color\":\"class\"\n",
       "},\n",
       "\"data_meta\":{\n",
       "},\n",
       "\"size\":20.0,\n",
       "\"stroke\":7.0,\n",
       "\"alpha\":0.3,\n",
       "\"data\":{\n",
       "\"..x..\":[0.0,0.0,0.0,0.0,0.0,0.0,0.0],\n",
       "\"..y..\":[0.0,0.0,0.0,0.0,0.0,0.0,0.0],\n",
       "\"..count..\":[47.0,41.0,62.0,5.0,11.0,33.0,35.0],\n",
       "\"class\":[\"compact\",\"midsize\",\"suv\",\"2seater\",\"minivan\",\"pickup\",\"subcompact\"]\n",
       "}\n",
       "}],\n",
       "\"metainfo_list\":[]\n",
       "};\n",
       "       var plotContainer = document.getElementById(\"M6pzI0\");\n",
       "       LetsPlot.buildPlotFromProcessedSpecs(plotSpec, -1, -1, plotContainer);\n",
       "   <\/script>\n",
       "   <\/body>\n",
       "<\/html>"
      ]
     },
     "metadata":{},
     "output_type":"display_data"
    }
   ],
   "metadata":{
    "datalore":{
     "node_id":"grrhKOUYX1DoIFvbh0Y25A",
     "type":"CODE",
     "hide_input_from_viewers":false,
     "hide_output_from_viewers":false,
     "report_properties":{
      "rowId":"2ldujBVjp13MvcgHNX5HfF",
      "x":0,
      "relativeY":0,
      "width":0.5833333333333334,
      "height":34,
      "isDynamicHeight":false
     }
    }
   }
  },
  {
   "cell_type":"markdown",
   "source":[
    "### `stroke_side`\n",
    "\n",
    "Note: `stroke=7` was added to make the arcs visible."
   ],
   "attachments":{},
   "metadata":{
    "datalore":{
     "node_id":"mnOvDkH0Zk6jgxeqWuLjPV",
     "type":"MD",
     "hide_input_from_viewers":false,
     "hide_output_from_viewers":false,
     "report_properties":{
      "rowId":"oyA3j7M2QluyBK9maV5ngW",
      "relativeY":0
     }
    }
   }
  },
  {
   "cell_type":"code",
   "source":[
    "p1 = ggplot(df, aes(fill='class', color='class')) + theme_void()\n",
    "\n",
    "gggrid([\n",
    "    p1 + geom_pie(hole=0.3, stroke=7, alpha=.3, show_legend=False) + ggtitle('Default'),\n",
    "    p1 + geom_pie(hole=0.3, stroke=7, alpha=.3, stroke_side='Inner', show_legend=False) + ggtitle('Inner stroke'),\n",
    "    p1 + geom_pie(hole=0.3, stroke=7, alpha=.3, stroke_side='Outer', show_legend=False) + ggtitle('Outer stroke'),\n",
    "    p1 + geom_pie(hole=0.3, stroke=7, alpha=.3, stroke_side='both', show_legend=False) + ggtitle('Inner & outer stroke')\n",
    "]) + ggsize(1200, 200)"
   ],
   "execution_count":19,
   "outputs":[
    {
     "data":{
      "text\/html":[
       "<html lang=\"en\">\n",
       "   <head>\n",
       "       <meta charset=\"UTF-8\">\n",
       "       <script type=\"text\/javascript\" data-lets-plot-script=\"library\" src=\"https:\/\/cdn.jsdelivr.net\/gh\/JetBrains\/lets-plot@v4.3.1\/js-package\/distr\/lets-plot.min.js\"><\/script>\n",
       "   <\/head>\n",
       "   <body>\n",
       "          <div id=\"gcJH0p\"><\/div>\n",
       "   <script type=\"text\/javascript\" data-lets-plot-script=\"plot\">\n",
       "       var plotSpec={\n",
       "\"ggsize\":{\n",
       "\"width\":1200.0,\n",
       "\"height\":200.0\n",
       "},\n",
       "\"kind\":\"subplots\",\n",
       "\"layout\":{\n",
       "\"ncol\":4.0,\n",
       "\"nrow\":1.0,\n",
       "\"name\":\"grid\"\n",
       "},\n",
       "\"figures\":[{\n",
       "\"data\":{\n",
       "},\n",
       "\"mapping\":{\n",
       "\"fill\":\"class\",\n",
       "\"color\":\"class\"\n",
       "},\n",
       "\"data_meta\":{\n",
       "},\n",
       "\"theme\":{\n",
       "\"name\":\"classic\",\n",
       "\"line\":\"blank\",\n",
       "\"axis\":\"blank\"\n",
       "},\n",
       "\"ggtitle\":{\n",
       "\"text\":\"Default\"\n",
       "},\n",
       "\"kind\":\"plot\",\n",
       "\"scales\":[],\n",
       "\"layers\":[{\n",
       "\"geom\":\"pie\",\n",
       "\"mapping\":{\n",
       "},\n",
       "\"show_legend\":false,\n",
       "\"data_meta\":{\n",
       "},\n",
       "\"hole\":0.3,\n",
       "\"stroke\":7.0,\n",
       "\"alpha\":0.3,\n",
       "\"data\":{\n",
       "\"..x..\":[0.0,0.0,0.0,0.0,0.0,0.0,0.0],\n",
       "\"..y..\":[0.0,0.0,0.0,0.0,0.0,0.0,0.0],\n",
       "\"..count..\":[47.0,41.0,62.0,5.0,11.0,33.0,35.0],\n",
       "\"class\":[\"compact\",\"midsize\",\"suv\",\"2seater\",\"minivan\",\"pickup\",\"subcompact\"]\n",
       "}\n",
       "}],\n",
       "\"metainfo_list\":[]\n",
       "},{\n",
       "\"data\":{\n",
       "},\n",
       "\"mapping\":{\n",
       "\"fill\":\"class\",\n",
       "\"color\":\"class\"\n",
       "},\n",
       "\"data_meta\":{\n",
       "},\n",
       "\"theme\":{\n",
       "\"name\":\"classic\",\n",
       "\"line\":\"blank\",\n",
       "\"axis\":\"blank\"\n",
       "},\n",
       "\"ggtitle\":{\n",
       "\"text\":\"Inner stroke\"\n",
       "},\n",
       "\"kind\":\"plot\",\n",
       "\"scales\":[],\n",
       "\"layers\":[{\n",
       "\"geom\":\"pie\",\n",
       "\"mapping\":{\n",
       "},\n",
       "\"show_legend\":false,\n",
       "\"data_meta\":{\n",
       "},\n",
       "\"hole\":0.3,\n",
       "\"stroke_side\":\"Inner\",\n",
       "\"stroke\":7.0,\n",
       "\"alpha\":0.3,\n",
       "\"data\":{\n",
       "\"..x..\":[0.0,0.0,0.0,0.0,0.0,0.0,0.0],\n",
       "\"..y..\":[0.0,0.0,0.0,0.0,0.0,0.0,0.0],\n",
       "\"..count..\":[47.0,41.0,62.0,5.0,11.0,33.0,35.0],\n",
       "\"class\":[\"compact\",\"midsize\",\"suv\",\"2seater\",\"minivan\",\"pickup\",\"subcompact\"]\n",
       "}\n",
       "}],\n",
       "\"metainfo_list\":[]\n",
       "},{\n",
       "\"data\":{\n",
       "},\n",
       "\"mapping\":{\n",
       "\"fill\":\"class\",\n",
       "\"color\":\"class\"\n",
       "},\n",
       "\"data_meta\":{\n",
       "},\n",
       "\"theme\":{\n",
       "\"name\":\"classic\",\n",
       "\"line\":\"blank\",\n",
       "\"axis\":\"blank\"\n",
       "},\n",
       "\"ggtitle\":{\n",
       "\"text\":\"Outer stroke\"\n",
       "},\n",
       "\"kind\":\"plot\",\n",
       "\"scales\":[],\n",
       "\"layers\":[{\n",
       "\"geom\":\"pie\",\n",
       "\"mapping\":{\n",
       "},\n",
       "\"show_legend\":false,\n",
       "\"data_meta\":{\n",
       "},\n",
       "\"hole\":0.3,\n",
       "\"stroke_side\":\"Outer\",\n",
       "\"stroke\":7.0,\n",
       "\"alpha\":0.3,\n",
       "\"data\":{\n",
       "\"..x..\":[0.0,0.0,0.0,0.0,0.0,0.0,0.0],\n",
       "\"..y..\":[0.0,0.0,0.0,0.0,0.0,0.0,0.0],\n",
       "\"..count..\":[47.0,41.0,62.0,5.0,11.0,33.0,35.0],\n",
       "\"class\":[\"compact\",\"midsize\",\"suv\",\"2seater\",\"minivan\",\"pickup\",\"subcompact\"]\n",
       "}\n",
       "}],\n",
       "\"metainfo_list\":[]\n",
       "},{\n",
       "\"data\":{\n",
       "},\n",
       "\"mapping\":{\n",
       "\"fill\":\"class\",\n",
       "\"color\":\"class\"\n",
       "},\n",
       "\"data_meta\":{\n",
       "},\n",
       "\"theme\":{\n",
       "\"name\":\"classic\",\n",
       "\"line\":\"blank\",\n",
       "\"axis\":\"blank\"\n",
       "},\n",
       "\"ggtitle\":{\n",
       "\"text\":\"Inner & outer stroke\"\n",
       "},\n",
       "\"kind\":\"plot\",\n",
       "\"scales\":[],\n",
       "\"layers\":[{\n",
       "\"geom\":\"pie\",\n",
       "\"mapping\":{\n",
       "},\n",
       "\"show_legend\":false,\n",
       "\"data_meta\":{\n",
       "},\n",
       "\"hole\":0.3,\n",
       "\"stroke_side\":\"both\",\n",
       "\"stroke\":7.0,\n",
       "\"alpha\":0.3,\n",
       "\"data\":{\n",
       "\"..x..\":[0.0,0.0,0.0,0.0,0.0,0.0,0.0],\n",
       "\"..y..\":[0.0,0.0,0.0,0.0,0.0,0.0,0.0],\n",
       "\"..count..\":[47.0,41.0,62.0,5.0,11.0,33.0,35.0],\n",
       "\"class\":[\"compact\",\"midsize\",\"suv\",\"2seater\",\"minivan\",\"pickup\",\"subcompact\"]\n",
       "}\n",
       "}],\n",
       "\"metainfo_list\":[]\n",
       "}]\n",
       "};\n",
       "       var plotContainer = document.getElementById(\"gcJH0p\");\n",
       "       LetsPlot.buildPlotFromProcessedSpecs(plotSpec, -1, -1, plotContainer);\n",
       "   <\/script>\n",
       "   <\/body>\n",
       "<\/html>"
      ]
     },
     "metadata":{},
     "output_type":"display_data"
    }
   ],
   "metadata":{
    "datalore":{
     "node_id":"mwj3bE4K4tgxVBRSHvwEGL",
     "type":"CODE",
     "hide_input_from_viewers":false,
     "hide_output_from_viewers":false,
     "report_properties":{
      "rowId":"vPFnoxmlEANgGfKf29f9rB",
      "relativeY":0
     }
    }
   }
  },
  {
   "cell_type":"markdown",
   "source":[
    "### `spacer_width` and `spacer_color`\n",
    "\n",
    "Spacer is a thin line separating the pie' slices. You can adjust width and color of spacers."
   ],
   "attachments":{},
   "metadata":{
    "datalore":{
     "node_id":"b8tTFimaf1O0upYC0CMB9S",
     "type":"MD",
     "hide_input_from_viewers":false,
     "hide_output_from_viewers":false,
     "report_properties":{
      "rowId":"ZA5b2HAmkD5J1ZkCRnG9Iw",
      "relativeY":0
     }
    }
   }
  },
  {
   "cell_type":"code",
   "source":[
    "ggplot(df) + \\\n",
    "    geom_pie(aes(fill='class'), \n",
    "             size=20, hole=.3, stroke=0,\n",
    "             spacer_width=4, spacer_color='light-gray') + \\\n",
    "    ggsize(600, 400) + \\\n",
    "    theme_void()"
   ],
   "execution_count":20,
   "outputs":[
    {
     "data":{
      "text\/html":[
       "<html lang=\"en\">\n",
       "   <head>\n",
       "       <meta charset=\"UTF-8\">\n",
       "       <script type=\"text\/javascript\" data-lets-plot-script=\"library\" src=\"https:\/\/cdn.jsdelivr.net\/gh\/JetBrains\/lets-plot@v4.3.1\/js-package\/distr\/lets-plot.min.js\"><\/script>\n",
       "   <\/head>\n",
       "   <body>\n",
       "          <div id=\"4kDWyo\"><\/div>\n",
       "   <script type=\"text\/javascript\" data-lets-plot-script=\"plot\">\n",
       "       var plotSpec={\n",
       "\"data\":{\n",
       "},\n",
       "\"mapping\":{\n",
       "},\n",
       "\"data_meta\":{\n",
       "},\n",
       "\"ggsize\":{\n",
       "\"width\":600.0,\n",
       "\"height\":400.0\n",
       "},\n",
       "\"theme\":{\n",
       "\"name\":\"classic\",\n",
       "\"line\":\"blank\",\n",
       "\"axis\":\"blank\"\n",
       "},\n",
       "\"kind\":\"plot\",\n",
       "\"scales\":[],\n",
       "\"layers\":[{\n",
       "\"geom\":\"pie\",\n",
       "\"mapping\":{\n",
       "\"fill\":\"class\"\n",
       "},\n",
       "\"data_meta\":{\n",
       "},\n",
       "\"hole\":0.3,\n",
       "\"spacer_width\":4.0,\n",
       "\"spacer_color\":\"light-gray\",\n",
       "\"size\":20.0,\n",
       "\"stroke\":0.0,\n",
       "\"data\":{\n",
       "\"..x..\":[0.0,0.0,0.0,0.0,0.0,0.0,0.0],\n",
       "\"..y..\":[0.0,0.0,0.0,0.0,0.0,0.0,0.0],\n",
       "\"..count..\":[47.0,41.0,62.0,5.0,11.0,33.0,35.0],\n",
       "\"class\":[\"compact\",\"midsize\",\"suv\",\"2seater\",\"minivan\",\"pickup\",\"subcompact\"]\n",
       "}\n",
       "}],\n",
       "\"metainfo_list\":[]\n",
       "};\n",
       "       var plotContainer = document.getElementById(\"4kDWyo\");\n",
       "       LetsPlot.buildPlotFromProcessedSpecs(plotSpec, -1, -1, plotContainer);\n",
       "   <\/script>\n",
       "   <\/body>\n",
       "<\/html>"
      ]
     },
     "metadata":{},
     "output_type":"display_data"
    }
   ],
   "metadata":{
    "datalore":{
     "node_id":"RlaFzr20i38NRUpWq21JOq",
     "type":"CODE",
     "hide_input_from_viewers":false,
     "hide_output_from_viewers":false,
     "report_properties":{
      "rowId":"n4E9ZpmmMI8H1KRAl59HBx",
      "x":0,
      "relativeY":0,
      "width":0.5833333333333334,
      "height":35,
      "isDynamicHeight":false
     }
    }
   }
  },
  {
   "cell_type":"markdown",
   "source":[
    "### Spacers with Exploded Sectors\n",
    "\n",
    "Spacers are not shown for exploded sectors."
   ],
   "attachments":{},
   "metadata":{
    "datalore":{
     "node_id":"MDUyVgQ48KLVqoCaiBANMj",
     "type":"MD",
     "hide_input_from_viewers":false,
     "hide_output_from_viewers":false,
     "report_properties":{
      "rowId":"fobz1XJooJKAw2WSfHXIKI",
      "relativeY":0
     }
    }
   }
  },
  {
   "cell_type":"code",
   "source":[
    "ggplot(df) + \\\n",
    "    geom_pie(aes(fill='class', explode='explode'), \n",
    "             size=20, hole=.3,\n",
    "             stroke=2, color='black',\n",
    "             spacer_width=4, spacer_color='light-gray') + \\\n",
    "    ggsize(600, 400) + \\\n",
    "    theme_void()"
   ],
   "execution_count":21,
   "outputs":[
    {
     "data":{
      "text\/html":[
       "<html lang=\"en\">\n",
       "   <head>\n",
       "       <meta charset=\"UTF-8\">\n",
       "       <script type=\"text\/javascript\" data-lets-plot-script=\"library\" src=\"https:\/\/cdn.jsdelivr.net\/gh\/JetBrains\/lets-plot@v4.3.1\/js-package\/distr\/lets-plot.min.js\"><\/script>\n",
       "   <\/head>\n",
       "   <body>\n",
       "          <div id=\"ANHFS5\"><\/div>\n",
       "   <script type=\"text\/javascript\" data-lets-plot-script=\"plot\">\n",
       "       var plotSpec={\n",
       "\"data\":{\n",
       "},\n",
       "\"mapping\":{\n",
       "},\n",
       "\"data_meta\":{\n",
       "},\n",
       "\"ggsize\":{\n",
       "\"width\":600.0,\n",
       "\"height\":400.0\n",
       "},\n",
       "\"theme\":{\n",
       "\"name\":\"classic\",\n",
       "\"line\":\"blank\",\n",
       "\"axis\":\"blank\"\n",
       "},\n",
       "\"kind\":\"plot\",\n",
       "\"scales\":[],\n",
       "\"layers\":[{\n",
       "\"geom\":\"pie\",\n",
       "\"mapping\":{\n",
       "\"fill\":\"class\",\n",
       "\"explode\":\"explode\"\n",
       "},\n",
       "\"data_meta\":{\n",
       "},\n",
       "\"hole\":0.3,\n",
       "\"spacer_width\":4.0,\n",
       "\"spacer_color\":\"light-gray\",\n",
       "\"size\":20.0,\n",
       "\"stroke\":2.0,\n",
       "\"color\":\"black\",\n",
       "\"data\":{\n",
       "\"..x..\":[0.0,0.0,0.0,0.0,0.0,0.0,0.0],\n",
       "\"..y..\":[0.0,0.0,0.0,0.0,0.0,0.0,0.0],\n",
       "\"..count..\":[47.0,41.0,62.0,5.0,11.0,33.0,35.0],\n",
       "\"explode\":[0.0,0.0,0.0,0.0,0.0,0.2,0.0],\n",
       "\"class\":[\"compact\",\"midsize\",\"suv\",\"2seater\",\"minivan\",\"pickup\",\"subcompact\"]\n",
       "}\n",
       "}],\n",
       "\"metainfo_list\":[]\n",
       "};\n",
       "       var plotContainer = document.getElementById(\"ANHFS5\");\n",
       "       LetsPlot.buildPlotFromProcessedSpecs(plotSpec, -1, -1, plotContainer);\n",
       "   <\/script>\n",
       "   <\/body>\n",
       "<\/html>"
      ]
     },
     "metadata":{},
     "output_type":"display_data"
    }
   ],
   "metadata":{
    "datalore":{
     "node_id":"F5PGxD6FJI1O1jsKrDpFAu",
     "type":"CODE",
     "hide_input_from_viewers":false,
     "hide_output_from_viewers":false,
     "report_properties":{
      "rowId":"r4xy0tloT9cXLCLMbQ65bp",
      "x":0,
      "relativeY":0,
      "width":0.5833333333333334,
      "height":36,
      "isDynamicHeight":false
     }
    }
   }
  },
  {
   "cell_type":"markdown",
   "source":[
    "## Pie Chart on Map"
   ],
   "attachments":{},
   "metadata":{
    "datalore":{
     "node_id":"z6fhu725QvMRx2Ds4gimL6",
     "type":"MD",
     "hide_input_from_viewers":false,
     "hide_output_from_viewers":false,
     "report_properties":{
      "rowId":"Gu7AYrL2RtQD0xr3ZNYDek",
      "relativeY":0
     }
    }
   }
  },
  {
   "cell_type":"code",
   "source":[
    "data = {\n",
    "    'city': ['New York', 'New York', 'Philadelphia', 'Philadelphia'],\n",
    "    'est_pop_2020': [4_381_593, 3_997_959, 832_685, 748_846],\n",
    "    'sex': ['female', 'male', 'female', 'male']\n",
    "}\n",
    "\n",
    "centroids = geocode_cities(data['city']).get_centroids()\n",
    "\n",
    "ggplot() + \\\n",
    "    geom_livemap() + \\\n",
    "    geom_pie(aes(slice='est_pop_2020', fill='sex', size='est_pop_2020'),\n",
    "             stat='identity', data=data, map=centroids, map_join='city', \n",
    "             hole=.2, alpha=.6, color='black', stroke=2,\n",
    "             spacer_color='black', spacer_width=2) + \\\n",
    "    scale_size(range=[5, 10], guide='none') + \\\n",
    "    labs(fill='Gender') + \\\n",
    "    ggsize(800, 600)"
   ],
   "execution_count":22,
   "outputs":[
    {
     "data":{
      "text\/html":[
       "<html lang=\"en\">\n",
       "   <head>\n",
       "       <meta charset=\"UTF-8\">\n",
       "       <script type=\"text\/javascript\" data-lets-plot-script=\"library\" src=\"https:\/\/cdn.jsdelivr.net\/gh\/JetBrains\/lets-plot@v4.3.1\/js-package\/distr\/lets-plot.min.js\"><\/script>\n",
       "   <\/head>\n",
       "   <body>\n",
       "          <div id=\"GtME3V\"><\/div>\n",
       "   <script type=\"text\/javascript\" data-lets-plot-script=\"plot\">\n",
       "       var plotSpec={\n",
       "\"mapping\":{\n",
       "},\n",
       "\"data_meta\":{\n",
       "},\n",
       "\"ggsize\":{\n",
       "\"width\":800.0,\n",
       "\"height\":600.0\n",
       "},\n",
       "\"kind\":\"plot\",\n",
       "\"scales\":[{\n",
       "\"aesthetic\":\"size\",\n",
       "\"guide\":\"none\",\n",
       "\"range\":[5.0,10.0]\n",
       "},{\n",
       "\"name\":\"Gender\",\n",
       "\"aesthetic\":\"fill\"\n",
       "}],\n",
       "\"layers\":[{\n",
       "\"geom\":\"livemap\",\n",
       "\"mapping\":{\n",
       "},\n",
       "\"data_meta\":{\n",
       "},\n",
       "\"tiles\":{\n",
       "\"kind\":\"vector_lets_plot\",\n",
       "\"url\":\"wss:\/\/tiles.datalore.jetbrains.com\",\n",
       "\"theme\":\"color\",\n",
       "\"attribution\":\"<a href=\\\"https:\/\/lets-plot.org\\\">© Lets-Plot<\/a>, map data: <a href=\\\"https:\/\/www.openstreetmap.org\/copyright\\\">© OpenStreetMap contributors<\/a>.\"\n",
       "},\n",
       "\"geocoding\":{\n",
       "\"url\":\"https:\/\/geo2.datalore.jetbrains.com\/map_data\/geocoding\"\n",
       "},\n",
       "\"data\":{\n",
       "}\n",
       "},{\n",
       "\"geom\":\"pie\",\n",
       "\"stat\":\"identity\",\n",
       "\"data\":{\n",
       "\"city\":[\"New York\",\"New York\",\"Philadelphia\",\"Philadelphia\"],\n",
       "\"est_pop_2020\":[4381593.0,3997959.0,832685.0,748846.0],\n",
       "\"sex\":[\"female\",\"male\",\"female\",\"male\"]\n",
       "},\n",
       "\"mapping\":{\n",
       "\"slice\":\"est_pop_2020\",\n",
       "\"fill\":\"sex\",\n",
       "\"size\":\"est_pop_2020\"\n",
       "},\n",
       "\"data_meta\":{\n",
       "},\n",
       "\"map\":{\n",
       "\"city\":[\"New York\",\"New York\",\"Philadelphia\",\"Philadelphia\"],\n",
       "\"found name\":[\"New York\",\"New York\",\"Philadelphia\",\"Philadelphia\"],\n",
       "\"geometry\":[\"{\\\"type\\\": \\\"Point\\\", \\\"coordinates\\\": [-73.8673749469137, 40.6847005337477]}\",\"{\\\"type\\\": \\\"Point\\\", \\\"coordinates\\\": [-73.8673749469137, 40.6847005337477]}\",\"{\\\"type\\\": \\\"Point\\\", \\\"coordinates\\\": [-75.1393639560221, 40.0024095922709]}\",\"{\\\"type\\\": \\\"Point\\\", \\\"coordinates\\\": [-75.1393639560221, 40.0024095922709]}\"]\n",
       "},\n",
       "\"map_join\":[[\"city\"],[\"city\"]],\n",
       "\"hole\":0.2,\n",
       "\"spacer_width\":2.0,\n",
       "\"spacer_color\":\"black\",\n",
       "\"alpha\":0.6,\n",
       "\"color\":\"black\",\n",
       "\"stroke\":2.0,\n",
       "\"map_data_meta\":{\n",
       "\"geodataframe\":{\n",
       "\"geometry\":\"geometry\"\n",
       "}\n",
       "}\n",
       "}],\n",
       "\"metainfo_list\":[]\n",
       "};\n",
       "       var plotContainer = document.getElementById(\"GtME3V\");\n",
       "       LetsPlot.buildPlotFromProcessedSpecs(plotSpec, -1, -1, plotContainer);\n",
       "   <\/script>\n",
       "   <\/body>\n",
       "<\/html>"
      ]
     },
     "metadata":{},
     "output_type":"display_data"
    }
   ],
   "metadata":{
    "datalore":{
     "node_id":"3E3OoSKDzdVyh9TgDyUKQ5",
     "type":"CODE",
     "hide_input_from_viewers":false,
     "hide_output_from_viewers":false,
     "report_properties":{
      "rowId":"bWv6yoaNpRkJPcU5HCNPKG",
      "relativeY":0
     }
    }
   }
  }
 ],
 "metadata":{
  "kernelspec":{
   "display_name":"Python",
   "language":"python",
   "name":"python"
  },
  "datalore":{
   "computation_mode":"JUPYTER",
   "package_manager":"pip",
   "base_environment":"default",
   "packages":[],
   "report_row_ids":[],
   "report_tabs":[
    {
     "id":"VIaXwDDdKDWBhxMucZ0QW9",
     "name":"Report tab",
     "rows":[
      "EfI4jE1Iq8jJtsg3ca5RJn",
      "4xr1c57RkoKnTheeFqLLOc",
      "dtdn1Aq7qOGVqvN2RhtzZJ",
      "2F5HigCSNY79qnEiBzx0kB",
      "YAMRAeKDSotNQNOHRsX657",
      "WbCjhKitNvrtGhAdTGZrNy",
      "VxETaaEbou2aM7hhMCTBRL",
      "aWKGrwgIczB4907e5OvGlU",
      "VWbKGjTzbVwgDe9B01lUsc",
      "SHNOh6nclJZJ1hoQNc8Jgg",
      "jG7SuTEN0xMm4eskcr3M62",
      "0RfK2VoNKyIWqS3OD2ihHz",
      "DrRjpJEgmGY2UrQRh6QKoi",
      "bJYsZ6w2nOWyWji2Qcox7m",
      "xN715qzKOLJ8R3HVesxeT2",
      "LWzo6l0A5F4Y7H5Tzw0G3V",
      "nuw4hXajDZZ10tixU0vjjG",
      "UrChlOGf3uT3sbMXGgPApr",
      "tGY5jtjEjq6kRrxIhppsqF",
      "3lcr1OXygXE9SOSRODo6u3",
      "eqvm9Lnw3PAJpYbW0QB8Vy",
      "vYs63qabBJ5ouxJXodZgDk",
      "OMh8VovIiADDDBK06LvaxF",
      "uiDG7XqdFZJAZkI9fzQQa2",
      "vKFfIrsKgs83nl3UQXuE6a",
      "F5389dCNEQY9yY34CtNRP6",
      "0JSQG3ALOgBuvUEJm4FKaV",
      "LcCa95jsQrLLmjjdkx848d",
      "mgmLVNYBe5zRZQdtNhOC3L",
      "0fs3hyes4ybZgclVgnhHZU",
      "EzmcB1hXOvxkhNa9zZU2hw",
      "unP6AUAn4wpH9fEbdEaKEd",
      "U7XF9oFPyRLUsgcTlknJiH",
      "cG9j1BbE84AX9DaJDgmxEt",
      "E1UI6omRuAVa5d05pqeIJq",
      "ihzXZrS5BeEkcKTHsGbZMG",
      "E6v8Gj94I2FfFL7LXpWdT5",
      "KD4d02CXsU3CWpWOcZrqeC",
      "8WgrGL2vAHrqzVnYjwxg2n",
      "nO3mY2RLW5aKZBmhzirmzO",
      "2ldujBVjp13MvcgHNX5HfF",
      "oyA3j7M2QluyBK9maV5ngW",
      "vPFnoxmlEANgGfKf29f9rB",
      "ZA5b2HAmkD5J1ZkCRnG9Iw",
      "n4E9ZpmmMI8H1KRAl59HBx",
      "fobz1XJooJKAw2WSfHXIKI",
      "r4xy0tloT9cXLCLMbQ65bp",
      "Gu7AYrL2RtQD0xr3ZNYDek",
      "bWv6yoaNpRkJPcU5HCNPKG"
     ]
    }
   ],
   "report_link":"https:\/\/datalore.jetbrains.com\/report\/HZqq77cegYd.E7get_WnChZ\/efcMD1oRLoiLnDQumCP7ot",
   "version":4
  }
 },
 "nbformat":4,
 "nbformat_minor":4
}