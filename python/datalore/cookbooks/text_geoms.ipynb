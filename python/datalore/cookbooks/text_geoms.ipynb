{
 "cells": [
  {
   "attachments": {},
   "cell_type": "markdown",
   "metadata": {
    "datalore": {
     "hide_input_from_viewers": false,
     "hide_output_from_viewers": false,
     "node_id": "EHpSxzPhgXBJmZciyPdKg1",
     "report_properties": {
      "relativeY": 0,
      "rowId": "58JF9Oq5bYYfGt8mrE5v33"
     },
     "type": "MD"
    }
   },
   "source": [
    "# Text Geoms\n",
    "\n",
    "Text geoms are useful for labeling plots. They can be used by themselves or in combination with other geoms. "
   ]
  },
  {
   "cell_type": "code",
   "execution_count": null,
   "metadata": {
    "datalore": {
     "hide_input_from_viewers": false,
     "hide_output_from_viewers": false,
     "node_id": "sOUnRDPOHcWFzMqArhm5vN",
     "report_properties": {
      "relativeY": 0,
      "rowId": "fP7Ze4vKTpoosYsLLTROFF"
     },
     "type": "CODE"
    }
   },
   "outputs": [],
   "source": [
    "from itertools import product\n",
    "\n",
    "import pandas as pd\n",
    "\n",
    "from lets_plot import *\n",
    "from lets_plot import tilesets\n",
    "from lets_plot.geo_data import *\n",
    "from lets_plot.mapping import as_discrete"
   ]
  },
  {
   "cell_type": "code",
   "execution_count": null,
   "metadata": {
    "datalore": {
     "hide_input_from_viewers": false,
     "hide_output_from_viewers": false,
     "node_id": "9yGcJhBruJhEP3wrPc05xv",
     "report_properties": {
      "relativeY": 0,
      "rowId": "sWiWBV1NZ36y7fBJ8JHMgQ"
     },
     "type": "CODE"
    }
   },
   "outputs": [],
   "source": [
    "LetsPlot.setup_html()"
   ]
  },
  {
   "attachments": {},
   "cell_type": "markdown",
   "metadata": {
    "datalore": {
     "hide_input_from_viewers": false,
     "hide_output_from_viewers": false,
     "node_id": "fPLfowdkudPKstSTRKMXN4",
     "report_properties": {
      "relativeY": 0,
      "rowId": "hcSlGReaqyHi6PtRJGY5Ol"
     },
     "type": "MD"
    }
   },
   "source": [
    "# geom_text()/geom_label()\n",
    "\n",
    "- `geom_text()` adds a text directly to the plot.\n",
    "- `geom_label()` adds a text directly to the plot with a rectangle behind the text, making it easier to read."
   ]
  },
  {
   "cell_type": "code",
   "execution_count": null,
   "metadata": {
    "datalore": {
     "hide_input_from_viewers": false,
     "hide_output_from_viewers": false,
     "node_id": "ZbbpnyzZiUfV0X2Zco8fyF",
     "report_properties": {
      "relativeY": 0,
      "rowId": "TjAouqECnOB9qvuRGAbSgb"
     },
     "type": "CODE"
    }
   },
   "outputs": [],
   "source": [
    "label_plot = ggplot() + geom_label(x=0, y=0, label='Lorem ipsum', size=14)\n",
    "text_plot = ggplot() + geom_text(x=0, y=0, label='Lorem ipsum')\n",
    "\n",
    "gggrid([label_plot, text_plot]) + ggsize(600, 300)"
   ]
  },
  {
   "attachments": {},
   "cell_type": "markdown",
   "metadata": {
    "datalore": {
     "hide_input_from_viewers": false,
     "hide_output_from_viewers": false,
     "node_id": "udksW735rx2yj7U2KlHdB1",
     "report_properties": {
      "relativeY": 0,
      "rowId": "8hs3qG6sL0NzG9yIISMQ48"
     },
     "type": "MD"
    }
   },
   "source": [
    "Change additional parameters."
   ]
  },
  {
   "cell_type": "code",
   "execution_count": null,
   "metadata": {
    "datalore": {
     "hide_input_from_viewers": false,
     "hide_output_from_viewers": false,
     "node_id": "ziMClAvoyCW39Clt6yciCx",
     "report_properties": {
      "relativeY": 0,
      "rowId": "fxg746mPEhQcHhcTCk16L9"
     },
     "type": "CODE"
    }
   },
   "outputs": [],
   "source": [
    "ggplot() + \\\n",
    "    geom_label(x=0, y=0, label='Lorem ipsum', size=.9, size_unit='y',\n",
    "               fill='#edf8e9', color='#238b45', fontface='bold',\n",
    "               label_padding=1.0, label_r=0.5, label_size=2.0) + \\\n",
    "    ggsize(500, 200)"
   ]
  },
  {
   "attachments": {},
   "cell_type": "markdown",
   "metadata": {
    "datalore": {
     "hide_input_from_viewers": false,
     "hide_output_from_viewers": false,
     "node_id": "npbq77moOOYB0H8zurXGLz",
     "report_properties": {
      "relativeY": 0,
      "rowId": "sRRzlU8IPXU3oo2uzWb341"
     },
     "type": "MD"
    }
   },
   "source": [
    "Use different fonts for labels or text."
   ]
  },
  {
   "cell_type": "code",
   "execution_count": null,
   "metadata": {
    "datalore": {
     "hide_input_from_viewers": false,
     "hide_output_from_viewers": false,
     "node_id": "UWFviF7Mtoi0oOu7kL9uAX",
     "report_properties": {
      "relativeY": 0,
      "rowId": "JNVLPuHrAaFPCKBm9Loj7o"
     },
     "type": "CODE"
    }
   },
   "outputs": [],
   "source": [
    "families = [\n",
    "    'Arial',\n",
    "    'Calibri', \n",
    "    'Garamond',\n",
    "    'Geneva',\n",
    "    'Georgia',\n",
    "    'Helvetica',\n",
    "    'Lucida Grande',\n",
    "    'Rockwell',\n",
    "    'Times New Roman',\n",
    "    'Verdana',\n",
    "    'sans-serif',\n",
    "    'serif',\n",
    "    'monospace',\n",
    "]\n",
    "\n",
    "ggplot() + \\\n",
    "    geom_label(aes(y=list(range(len(families))),\n",
    "                   label=families, family=families),\n",
    "               size=10, label_padding=0, label_r=0)"
   ]
  },
  {
   "attachments": {},
   "cell_type": "markdown",
   "metadata": {
    "datalore": {
     "hide_input_from_viewers": false,
     "hide_output_from_viewers": false,
     "node_id": "zANAjDg9JVVfaw4t9qMMxz",
     "report_properties": {
      "relativeY": 0,
      "rowId": "3vWpCRVmS36hSo7o0RH86y"
     },
     "type": "MD"
    }
   },
   "source": [
    "Add aesthetic parameters."
   ]
  },
  {
   "cell_type": "code",
   "execution_count": null,
   "metadata": {
    "datalore": {
     "hide_input_from_viewers": false,
     "hide_output_from_viewers": false,
     "node_id": "wXwDJqoS9BLnh6XKyUSucQ",
     "report_properties": {
      "relativeY": 0,
      "rowId": "nQkXHguLygatxhVPSQf6PX"
     },
     "type": "CODE"
    }
   },
   "outputs": [],
   "source": [
    "mpg_df = pd.read_csv('https://raw.githubusercontent.com/JetBrains/lets-plot-docs/master/data/mpg.csv')\n",
    "mpg_df.head()"
   ]
  },
  {
   "cell_type": "code",
   "execution_count": null,
   "metadata": {
    "datalore": {
     "hide_input_from_viewers": false,
     "hide_output_from_viewers": false,
     "node_id": "YigYHwhJB8j4vKTair6ECH",
     "report_properties": {
      "relativeY": 0,
      "rowId": "cW92RG82tJpiQuVlGDC9kt"
     },
     "type": "CODE"
    }
   },
   "outputs": [],
   "source": [
    "ggplot(mpg_df, aes('cty', 'hwy')) + geom_label(aes(label='fl'))"
   ]
  },
  {
   "cell_type": "code",
   "execution_count": null,
   "metadata": {
    "datalore": {
     "hide_input_from_viewers": false,
     "hide_output_from_viewers": false,
     "node_id": "b7beZ7SNovaGTuABZlBHIB",
     "report_properties": {
      "relativeY": 0,
      "rowId": "0bnXdimzXm0NDD4Vo7Tevi"
     },
     "type": "CODE"
    }
   },
   "outputs": [],
   "source": [
    "ggplot(mpg_df, aes('cty', 'hwy')) + \\\n",
    "    geom_label(aes(label='fl', fill=as_discrete('cyl')), color='white')"
   ]
  },
  {
   "attachments": {},
   "cell_type": "markdown",
   "metadata": {
    "datalore": {
     "hide_input_from_viewers": false,
     "hide_output_from_viewers": false,
     "node_id": "2UvWdjPlBqrQRaYb5c7tMc",
     "report_properties": {
      "relativeY": 0,
      "rowId": "ZGmfloBwvXtptp0ThN60V6"
     },
     "type": "MD"
    }
   },
   "source": [
    "## The label_format Parameter\n",
    "\n",
    "The `label_format` parameter specifies template for transforming value of the `label` aesthetic to a string."
   ]
  },
  {
   "cell_type": "code",
   "execution_count": null,
   "metadata": {
    "datalore": {
     "hide_input_from_viewers": false,
     "hide_output_from_viewers": false,
     "node_id": "atXSGULRMwjCWRru1J29tY",
     "report_properties": {
      "relativeY": 0,
      "rowId": "mfdbS2AcvG38Blt97K9ebd"
     },
     "type": "CODE"
    }
   },
   "outputs": [],
   "source": [
    "values_data = {\n",
    "    'y': list(range(5)),\n",
    "    'z': [1.0/3, 12.5/7, -22.5/11, 2.5/7, 31.67/1.77 ],\n",
    "    's': ['one', 'two', 'three', 'four', 'five']\n",
    "}"
   ]
  },
  {
   "attachments": {},
   "cell_type": "markdown",
   "metadata": {
    "datalore": {
     "hide_input_from_viewers": false,
     "hide_output_from_viewers": false,
     "node_id": "Kl9GZd45TE29VtMEQPqM33",
     "report_properties": {
      "relativeY": 0,
      "rowId": "96BewryhZGdG5T8kOteUqr"
     },
     "type": "MD"
    }
   },
   "source": [
    "Floating point numbers without formatting."
   ]
  },
  {
   "cell_type": "code",
   "execution_count": null,
   "metadata": {
    "datalore": {
     "hide_input_from_viewers": false,
     "hide_output_from_viewers": false,
     "node_id": "dJpa70Bh7GR3XMb3YhlKwb",
     "report_properties": {
      "relativeY": 0,
      "rowId": "rFq412Qxmzves7JoDh4yU5"
     },
     "type": "CODE"
    }
   },
   "outputs": [],
   "source": [
    "ggplot(values_data) + geom_text(aes(y='y', label='z'))"
   ]
  },
  {
   "attachments": {},
   "cell_type": "markdown",
   "metadata": {
    "datalore": {
     "hide_input_from_viewers": false,
     "hide_output_from_viewers": false,
     "node_id": "IC5nm2bVEBKzBerYjNg31X",
     "report_properties": {
      "relativeY": 0,
      "rowId": "Q5JqL80Kv4XpziyarYtCuN"
     },
     "type": "MD"
    }
   },
   "source": [
    "Floating point numbers with formatting."
   ]
  },
  {
   "cell_type": "code",
   "execution_count": null,
   "metadata": {
    "datalore": {
     "hide_input_from_viewers": false,
     "hide_output_from_viewers": false,
     "node_id": "1mWHKyKCTby1LB4FUzdwaT",
     "report_properties": {
      "relativeY": 0,
      "rowId": "yftfNAxSPuZgpUw22fpjiR"
     },
     "type": "CODE"
    }
   },
   "outputs": [],
   "source": [
    "ggplot(values_data) + geom_text(aes(y='y', label='z'), label_format='.3f')"
   ]
  },
  {
   "attachments": {},
   "cell_type": "markdown",
   "metadata": {
    "datalore": {
     "hide_input_from_viewers": false,
     "hide_output_from_viewers": false,
     "node_id": "Ir0DC1IajrYz84kkqHYBk5",
     "report_properties": {
      "relativeY": 0,
      "rowId": "5unRS3rlXI5dDXwoQTgvJP"
     },
     "type": "MD"
    }
   },
   "source": [
    "Numbers formatted as percentile values"
   ]
  },
  {
   "cell_type": "code",
   "execution_count": null,
   "metadata": {
    "datalore": {
     "hide_input_from_viewers": false,
     "hide_output_from_viewers": false,
     "node_id": "3F4FN1ZEiDB1TYy1oKAhWi",
     "report_properties": {
      "relativeY": 0,
      "rowId": "gVwYYQiIFAemDs6LpEOlYT"
     },
     "type": "CODE"
    }
   },
   "outputs": [],
   "source": [
    "ggplot(values_data) + geom_text(aes(y='y', label='z'), label_format='.2%')"
   ]
  },
  {
   "attachments": {},
   "cell_type": "markdown",
   "metadata": {
    "datalore": {
     "hide_input_from_viewers": false,
     "hide_output_from_viewers": false,
     "node_id": "yXnr212w5fdfoHhQg9kpqb",
     "report_properties": {
      "relativeY": 0,
      "rowId": "19hAo6QkaS07qecqFdZY5k"
     },
     "type": "MD"
    }
   },
   "source": [
    "Number format as a part of a string pattern."
   ]
  },
  {
   "cell_type": "code",
   "execution_count": null,
   "metadata": {
    "datalore": {
     "hide_input_from_viewers": false,
     "hide_output_from_viewers": false,
     "node_id": "dbFaTzT40qhcnxlZUocYNE",
     "report_properties": {
      "relativeY": 0,
      "rowId": "TNbu8BwWcktfZzOPkVTijP"
     },
     "type": "CODE"
    }
   },
   "outputs": [],
   "source": [
    "ggplot(values_data) + geom_text(aes(y='y', label='z'), label_format='Ttl: ${.2f} (B)')"
   ]
  },
  {
   "attachments": {},
   "cell_type": "markdown",
   "metadata": {
    "datalore": {
     "hide_input_from_viewers": false,
     "hide_output_from_viewers": false,
     "node_id": "jDCS9x3vzEO8JA8yktsqGM",
     "report_properties": {
      "relativeY": 0,
      "rowId": "ethZ9SP3tOAJ0VYNRvqKfT"
     },
     "type": "MD"
    }
   },
   "source": [
    "String pattern without value formatting."
   ]
  },
  {
   "cell_type": "code",
   "execution_count": null,
   "metadata": {
    "datalore": {
     "hide_input_from_viewers": false,
     "hide_output_from_viewers": false,
     "node_id": "uZsxCoT3LWeim6WUC1mR4U",
     "report_properties": {
      "relativeY": 0,
      "rowId": "Tr48RCWMkOaUl72AdVb283"
     },
     "type": "CODE"
    }
   },
   "outputs": [],
   "source": [
    "ggplot(values_data) + geom_text(aes(y='y', label='s'), label_format='\"{}\"')"
   ]
  },
  {
   "attachments": {},
   "cell_type": "markdown",
   "metadata": {
    "datalore": {
     "hide_input_from_viewers": false,
     "hide_output_from_viewers": false,
     "node_id": "6KwGVJiewB33BEZFCqdcON",
     "report_properties": {
      "relativeY": 0,
      "rowId": "32O5wAOShPXCY85gKrS9hi"
     },
     "type": "MD"
    }
   },
   "source": [
    "## The check_overlap Parameter\n",
    "\n",
    "The `check_overlap` parameter in `geom_text()` and `geom_label()` is used to prevent overlapping text labels in the same layer."
   ]
  },
  {
   "cell_type": "code",
   "execution_count": null,
   "metadata": {
    "datalore": {
     "hide_input_from_viewers": false,
     "hide_output_from_viewers": false,
     "node_id": "75Kte0N0dfCsKAjos7QgST",
     "report_properties": {
      "relativeY": 0,
      "rowId": "ZEpNJ1yP15UQg1Pew4lNXI"
     },
     "type": "CODE"
    }
   },
   "outputs": [],
   "source": [
    "p1 = ggplot(mpg_df, aes('displ', 'hwy')) + \\\n",
    "    theme(legend_position = 'none', panel_background=element_rect(fill='#CCCCCC')) + \\\n",
    "    ggsize(600, 400)"
   ]
  },
  {
   "attachments": {},
   "cell_type": "markdown",
   "metadata": {
    "datalore": {
     "hide_input_from_viewers": false,
     "hide_output_from_viewers": false,
     "node_id": "dh81Gkj4pH4eT63o1ys4Ca",
     "report_properties": {
      "relativeY": 0,
      "rowId": "jtjDGAmeJlXLywG69Qo0mj"
     },
     "type": "MD"
    }
   },
   "source": [
    "**Without** `check_overlap`: The default behavior plots all labels, which can result in an overcrowded plot."
   ]
  },
  {
   "cell_type": "code",
   "execution_count": null,
   "metadata": {
    "datalore": {
     "hide_input_from_viewers": false,
     "hide_output_from_viewers": false,
     "node_id": "zN65FTwMLnnAoZhTsJGCNm",
     "report_properties": {
      "relativeY": 0,
      "rowId": "UiIhXoeP8NXZKbJf5LRDK1"
     },
     "type": "CODE"
    }
   },
   "outputs": [],
   "source": [
    "p1 + geom_text(aes(label='class', color='class'))"
   ]
  },
  {
   "attachments": {},
   "cell_type": "markdown",
   "metadata": {
    "datalore": {
     "hide_input_from_viewers": false,
     "hide_output_from_viewers": false,
     "node_id": "tGYIuS8FVUUIMdn1tIUEBp",
     "report_properties": {
      "relativeY": 0,
      "rowId": "JvDIKRG7NpwgQRUXxyfswE"
     },
     "type": "MD"
    }
   },
   "source": [
    "**With** `check_overlap=True`: Text labels that overlap existing labels are not rendered. The labels are processed in the order they appear in the data frame, and if a subsequent label would overlap with a previous one, it is omitted."
   ]
  },
  {
   "cell_type": "code",
   "execution_count": null,
   "metadata": {
    "datalore": {
     "hide_input_from_viewers": false,
     "hide_output_from_viewers": false,
     "node_id": "uZitpaEeToCGbAiNslRiIW",
     "report_properties": {
      "relativeY": 0,
      "rowId": "ykGmCAhxjYqCz4OXME2jK6"
     },
     "type": "CODE"
    }
   },
   "outputs": [],
   "source": [
    "p1 + geom_text(aes(label='class', color='class'), check_overlap=True)"
   ]
  },
  {
   "attachments": {},
   "cell_type": "markdown",
   "metadata": {
    "datalore": {
     "hide_input_from_viewers": false,
     "hide_output_from_viewers": false,
     "node_id": "AsTgMdrccnolfjfoWTLnVN",
     "report_properties": {
      "relativeY": 0,
      "rowId": "haj3BfemjdPzBIhG6lg8aG"
     },
     "type": "MD"
    }
   },
   "source": [
    "## Support of Multiple Lines"
   ]
  },
  {
   "cell_type": "code",
   "execution_count": null,
   "metadata": {
    "datalore": {
     "hide_input_from_viewers": false,
     "hide_output_from_viewers": false,
     "node_id": "h6TxGZGEenoISACSsGrwYu",
     "report_properties": {
      "relativeY": 0,
      "rowId": "FJ0HwrZWbhBFFC3b0lTneq"
     },
     "type": "CODE"
    }
   },
   "outputs": [],
   "source": [
    "data1 = {\n",
    "    'hjust': [0, 0.5, 1],\n",
    "    'vjust': [0, 0.5, 1],\n",
    "    'angle': [0, 30],\n",
    "    'label': ['first line\\nsecond line']\n",
    "}\n",
    "\n",
    "df1 = pd.DataFrame(product(*data1.values()), columns=data1.keys())\n",
    "\n",
    "p2 = ggplot(df1, aes(x='hjust', y='vjust')) + \\\n",
    "    geom_point(size=3) + \\\n",
    "    theme_light() + \\\n",
    "    theme(panel_grid=element_blank())\n",
    "\n",
    "p2_facets = p2 + \\\n",
    "    scale_x_continuous(breaks=[0, 0.5, 1]) + \\\n",
    "    scale_y_continuous(breaks=[0, 0.5, 1], expand=[0.4]) + \\\n",
    "    facet_grid(x='angle', x_format='{d}°')"
   ]
  },
  {
   "cell_type": "code",
   "execution_count": null,
   "metadata": {
    "datalore": {
     "hide_input_from_viewers": false,
     "hide_output_from_viewers": false,
     "node_id": "TMB0wJJaqP67wg3R0kJGIR",
     "report_properties": {
      "relativeY": 0,
      "rowId": "p5cawzIE0hfZQIm7MKc4xL"
     },
     "type": "CODE"
    }
   },
   "outputs": [],
   "source": [
    "p2_facets + geom_text(aes(label='label', hjust='hjust', vjust='vjust', angle='angle'), size=9)"
   ]
  },
  {
   "cell_type": "code",
   "execution_count": null,
   "metadata": {
    "datalore": {
     "hide_input_from_viewers": false,
     "hide_output_from_viewers": false,
     "node_id": "30WyCzAKGrYzH5EsppukGu",
     "report_properties": {
      "relativeY": 0,
      "rowId": "Cn9flhInBAN49rKH2jHgCT"
     },
     "type": "CODE"
    }
   },
   "outputs": [],
   "source": [
    "p2_facets + geom_label(aes(label='label', hjust='hjust', vjust='vjust', angle='angle'), size=9, alpha=0.5)"
   ]
  },
  {
   "attachments": {},
   "cell_type": "markdown",
   "metadata": {
    "datalore": {
     "hide_input_from_viewers": false,
     "hide_output_from_viewers": false,
     "node_id": "GGmyt22qd01Nh26QyVzswH",
     "report_properties": {
      "relativeY": 0,
      "rowId": "wdTskkPtdaNFuGCba7lFQp"
     },
     "type": "MD"
    }
   },
   "source": [
    "### Change Lineheight"
   ]
  },
  {
   "cell_type": "code",
   "execution_count": null,
   "metadata": {
    "datalore": {
     "hide_input_from_viewers": false,
     "hide_output_from_viewers": false,
     "node_id": "cyx4xJGv8zeCQR55Zrw9Nc",
     "report_properties": {
      "relativeY": 0,
      "rowId": "mj2kQDpAWNcbqtwDmqE2OM"
     },
     "type": "CODE"
    }
   },
   "outputs": [],
   "source": [
    "p21 = p2 + \\\n",
    "    geom_text(aes(label='label', hjust='hjust', vjust='vjust'),\n",
    "              size=8, lineheight=0.7) + \\\n",
    "    ggtitle('lineheight=0.7')\n",
    "p22 = p2 + \\\n",
    "    geom_text(aes(label='label', hjust='hjust', vjust='vjust'),\n",
    "              size=8, lineheight=2) + \\\n",
    "    ggtitle('lineheight=2')\n",
    "\n",
    "gggrid([p21, p22]) "
   ]
  },
  {
   "cell_type": "code",
   "execution_count": null,
   "metadata": {
    "datalore": {
     "hide_input_from_viewers": false,
     "hide_output_from_viewers": false,
     "node_id": "5d0x5KyfUCVj6tKDAmiTgW",
     "report_properties": {
      "relativeY": 0,
      "rowId": "16a5UPeNsrJYYuRagsQG4n"
     },
     "type": "CODE"
    }
   },
   "outputs": [],
   "source": [
    "p23 = p2 + \\\n",
    "    geom_label(aes(label='label', hjust='hjust', vjust='vjust'),\n",
    "               size=8, alpha=0.5, lineheight=0.7) + \\\n",
    "    ggtitle('lineheight=0.7')\n",
    "p24 = p2 + \\\n",
    "    geom_label(aes(label='label', hjust='hjust', vjust='vjust'),\n",
    "               size=8, alpha=0.5, lineheight=2) + \\\n",
    "    ggtitle('lineheight=2')\n",
    "\n",
    "gggrid([p23, p24]) "
   ]
  },
  {
   "attachments": {},
   "cell_type": "markdown",
   "metadata": {
    "datalore": {
     "hide_input_from_viewers": false,
     "hide_output_from_viewers": false,
     "node_id": "7uZmgPqWb6IUa6KO97XoyW",
     "report_properties": {
      "relativeY": 0,
      "rowId": "duijhfLxNbrkH3nCPxL6bD"
     },
     "type": "MD"
    }
   },
   "source": [
    "## Rotation and Alignment"
   ]
  },
  {
   "cell_type": "code",
   "execution_count": null,
   "metadata": {
    "datalore": {
     "hide_input_from_viewers": false,
     "hide_output_from_viewers": false,
     "node_id": "JKyW2kSsHJzEnGtgVwpN8H",
     "report_properties": {
      "relativeY": 0,
      "rowId": "QZtecKyTC09zNyEGTiatxl"
     },
     "type": "CODE"
    }
   },
   "outputs": [],
   "source": [
    "data2 = {\n",
    "    'hjust': [0, 0.5, 1],\n",
    "    'vjust': [0, 0.5, 1],\n",
    "    'angle': [0, 45, 90],\n",
    "    'text' : ['Text'] \n",
    "}\n",
    "\n",
    "df2 = pd.DataFrame(product(*data2.values()), columns=data2.keys())\n",
    "\n",
    "ggplot(df2, aes(x='hjust', y='vjust')) + \\\n",
    "    geom_point(size=3) + \\\n",
    "    geom_label(aes(label='text', angle='angle', hjust='hjust', vjust='vjust'), size=9) + \\\n",
    "    facet_grid(y='angle') + \\\n",
    "    scale_x_continuous(breaks=[0, 0.5, 1], expand=[0.1]) + \\\n",
    "    scale_y_continuous(breaks=[0, 0.5, 1], expand=[0.0, 0.5]) + \\\n",
    "    theme_classic() + \\\n",
    "    theme(panel_border=element_rect(size=1))"
   ]
  },
  {
   "attachments": {},
   "cell_type": "markdown",
   "metadata": {
    "datalore": {
     "hide_input_from_viewers": false,
     "hide_output_from_viewers": false,
     "node_id": "ieA7Vx0mbRCzHwuvWqqbwC",
     "report_properties": {
      "relativeY": 0,
      "rowId": "rBiYlWSu6JSHCR3iWOeCKC"
     },
     "type": "MD"
    }
   },
   "source": [
    "### Adjust Position by Nudging a Given Offset"
   ]
  },
  {
   "cell_type": "code",
   "execution_count": null,
   "metadata": {
    "datalore": {
     "hide_input_from_viewers": false,
     "hide_output_from_viewers": false,
     "node_id": "7zcsLqPZw91n0hItL8qZBl",
     "report_properties": {
      "relativeY": 0,
      "rowId": "Gk730ek5RLP2r23eDSSIo0"
     },
     "type": "CODE"
    }
   },
   "outputs": [],
   "source": [
    "p3 = ggplot({'x': ['a', 'b', 'c'], 'y': [1.2, 3.4, 2.5]}, aes('x', 'y')) + \\\n",
    "    geom_point(size=4) + \\\n",
    "    ggsize(500, 300)\n",
    "\n",
    "p3 + geom_text(aes(label='y'))"
   ]
  },
  {
   "attachments": {},
   "cell_type": "markdown",
   "metadata": {
    "datalore": {
     "hide_input_from_viewers": false,
     "hide_output_from_viewers": false,
     "node_id": "uTE7Sth3i83FKddf6eAawn",
     "report_properties": {
      "relativeY": 0,
      "rowId": "yqKr5c8E1y2FOp6X4KfV1N"
     },
     "type": "MD"
    }
   },
   "source": [
    "### Move Text - Use position_nudge"
   ]
  },
  {
   "cell_type": "code",
   "execution_count": null,
   "metadata": {
    "datalore": {
     "hide_input_from_viewers": false,
     "hide_output_from_viewers": false,
     "node_id": "FUJqzGtMlZdY4hTJZlUwh8",
     "report_properties": {
      "relativeY": 0,
      "rowId": "qrvGb1AWKkxDsULRDYN1yH"
     },
     "type": "CODE"
    }
   },
   "outputs": [],
   "source": [
    "p3 + geom_text(aes(label='y'), position=position_nudge(y=0.2))"
   ]
  },
  {
   "attachments": {},
   "cell_type": "markdown",
   "metadata": {
    "datalore": {
     "hide_input_from_viewers": false,
     "hide_output_from_viewers": false,
     "node_id": "HPl9xPnhUeP3jVbOdLj19u",
     "report_properties": {
      "relativeY": 0,
      "rowId": "bieCqpQ9l8fOlI9kCwFF69"
     },
     "type": "MD"
    }
   },
   "source": [
    "### Move Text - Use nudge_y Parameter"
   ]
  },
  {
   "cell_type": "code",
   "execution_count": null,
   "metadata": {
    "datalore": {
     "hide_input_from_viewers": false,
     "hide_output_from_viewers": false,
     "node_id": "vcCKkwHWZ2osjQ8qrhtySu",
     "report_properties": {
      "relativeY": 0,
      "rowId": "BQH4aJhdc4KqprpOX62Ahh"
     },
     "type": "CODE"
    }
   },
   "outputs": [],
   "source": [
    "p3 + geom_text(aes(label='y'), nudge_y=0.2)"
   ]
  },
  {
   "attachments": {},
   "cell_type": "markdown",
   "metadata": {
    "datalore": {
     "hide_input_from_viewers": false,
     "hide_output_from_viewers": false,
     "node_id": "YMEyuy57shuZS6x1M7IM6a",
     "report_properties": {
      "relativeY": 0,
      "rowId": "EDi7PXcP9hBx1irTuMSGqR"
     },
     "type": "MD"
    }
   },
   "source": [
    "### Nudging units"
   ]
  },
  {
   "cell_type": "code",
   "execution_count": null,
   "metadata": {
    "datalore": {
     "hide_input_from_viewers": false,
     "hide_output_from_viewers": false,
     "node_id": "3RUHyK5DMpeith6dEecEet",
     "report_properties": {
      "relativeY": 0,
      "rowId": "wEmtn9mdydY5CPL89P6oSQ"
     },
     "type": "CODE"
    }
   },
   "outputs": [],
   "source": [
    "p3 + geom_text(aes(label='y'), nudge_y=4, nudge_unit='size') # point size was 4"
   ]
  },
  {
   "attachments": {},
   "cell_type": "markdown",
   "metadata": {
    "datalore": {
     "hide_input_from_viewers": false,
     "hide_output_from_viewers": false,
     "node_id": "9KPnpRgbLmmnsjuG6W7pL6",
     "report_properties": {
      "relativeY": 0,
      "rowId": "Qe84ygAt1rbSIjYYe2V4ld"
     },
     "type": "MD"
    }
   },
   "source": [
    "### Justification: inward and outward"
   ]
  },
  {
   "cell_type": "code",
   "execution_count": null,
   "metadata": {
    "datalore": {
     "hide_input_from_viewers": false,
     "hide_output_from_viewers": false,
     "node_id": "SCALJQiQW3RXYG3U46mDWg",
     "report_properties": {
      "relativeY": 0,
      "rowId": "nM1hmY6UpLyA2VFns8sdK3"
     },
     "type": "CODE"
    }
   },
   "outputs": [],
   "source": [
    "data3 = {\n",
    "   'x' : [1, 1, 2, 2, 1.5],\n",
    "   'y' : [1, 2, 1, 2, 1.5],\n",
    "   'text': ['bottom-left', 'top-left', 'bottom-right', 'top-right', 'center']\n",
    "}\n",
    "\n",
    "p4 = ggplot(data3, aes('x', 'y')) + \\\n",
    "    geom_point(size=4) + \\\n",
    "    ggsize(500, 300)\n",
    "\n",
    "p4 + geom_text(aes(label='text'), size=8)"
   ]
  },
  {
   "cell_type": "code",
   "execution_count": null,
   "metadata": {
    "datalore": {
     "hide_input_from_viewers": false,
     "hide_output_from_viewers": false,
     "node_id": "8cNGB9LSnKmxyU3SislH0n",
     "report_properties": {
      "relativeY": 0,
      "rowId": "bVF0jRU9gOTqtucZ17aD7n"
     },
     "type": "CODE"
    }
   },
   "outputs": [],
   "source": [
    "p4 + geom_text(aes(label='text'), size=8, hjust='inward', vjust='inward')"
   ]
  },
  {
   "cell_type": "code",
   "execution_count": null,
   "metadata": {
    "datalore": {
     "hide_input_from_viewers": false,
     "hide_output_from_viewers": false,
     "node_id": "hBegaNBF8oxDEiyTo8MHpn",
     "report_properties": {
      "relativeY": 0,
      "rowId": "JANmXBh2LKAzrD7jwIGmok"
     },
     "type": "CODE"
    }
   },
   "outputs": [],
   "source": [
    "p4 + geom_text(aes(label='text'), size=8, hjust='outward', vjust='outward')"
   ]
  },
  {
   "attachments": {},
   "cell_type": "markdown",
   "metadata": {
    "datalore": {
     "hide_input_from_viewers": false,
     "hide_output_from_viewers": false,
     "node_id": "nPvwfWOJKSycyzC328J9Ge",
     "report_properties": {
      "relativeY": 0,
      "rowId": "UjOvhzo0m7MNaAxMWUEk3d"
     },
     "type": "MD"
    }
   },
   "source": [
    "## GeoDataFrame in geom_text()/geom_label()\n",
    "\n",
    "GeoDataFrame is supported natively in the 'data' parameter for `geom_label()` and `geom_text()`."
   ]
  },
  {
   "cell_type": "code",
   "execution_count": null,
   "metadata": {
    "datalore": {
     "hide_input_from_viewers": false,
     "hide_output_from_viewers": false,
     "node_id": "ld1Iv27tEIWzEwozzCw1Pw",
     "report_properties": {
      "relativeY": 0,
      "rowId": "FgyEvh0OcyganBRnkesMoF"
     },
     "type": "CODE"
    }
   },
   "outputs": [],
   "source": [
    "gcoder = geocode_states('us-48').inc_res()\n",
    "\n",
    "ggplot() + \\\n",
    "    geom_polygon(aes(fill='state'), data=gcoder.get_boundaries(),\n",
    "                 show_legend=False, color='white', tooltips='none') + \\\n",
    "    geom_label(aes(label='state'), data=gcoder.get_centroids(), size=6) + \\\n",
    "    coord_map() + \\\n",
    "    theme(axis='blank', panel_grid='blank') + \\\n",
    "    scale_fill_brewer(name='state', palette='Dark2') + \\\n",
    "    ggsize(900, 500)"
   ]
  },
  {
   "attachments": {},
   "cell_type": "markdown",
   "metadata": {
    "datalore": {
     "hide_input_from_viewers": false,
     "hide_output_from_viewers": false,
     "node_id": "R1H90FE9yoWsIzEmci6AwU",
     "report_properties": {
      "relativeY": 0,
      "rowId": "7sBkxQ90wCUFghYZFmPAMt"
     },
     "type": "MD"
    }
   },
   "source": [
    "## Text on Livemap"
   ]
  },
  {
   "cell_type": "code",
   "execution_count": null,
   "metadata": {
    "datalore": {
     "hide_input_from_viewers": false,
     "hide_output_from_viewers": false,
     "node_id": "w7GNX1KOPH232pyURJkUgT",
     "report_properties": {
      "relativeY": 0,
      "rowId": "fNoXzxgTfjlvVPqxEBFpZN"
     },
     "type": "CODE"
    }
   },
   "outputs": [],
   "source": [
    "cities_data = {\n",
    "    'city': ['New York City', 'Prague'],\n",
    "    'lon': [-73.7997, 14.418540],\n",
    "    'lat': [40.6408, 50.073658],\n",
    "}\n",
    "\n",
    "ggplot(cities_data, aes(x='lon', y='lat')) + \\\n",
    "    geom_livemap(projection='epsg4326', tiles=tilesets.NASA_CITYLIGHTS_2012) + \\\n",
    "    geom_path(color='white') + \\\n",
    "    geom_label(aes(label='city'),\n",
    "               size=8, hjust=0.5, vjust=0.5, fill='black', color='white',\n",
    "               angle=5, label_padding=0.6, label_r=0.5, label_size=1.5) + \\\n",
    "    geom_text(x=-35, y=50, label='Average flight time: 8 hrs 43 mins\\n' +\n",
    "                                 'The shortest distance (air line): 4,082.79 mi',\n",
    "              size=7, hjust=.5, lineheight=2, color='white')"
   ]
  }
 ],
 "metadata": {
  "datalore": {
   "base_environment": "default",
   "computation_mode": "JUPYTER",
   "package_manager": "pip",
   "packages": [
    {
     "name": "lets-plot",
     "source": "PIP",
     "version": "4.6.2"
    }
   ],
   "report_link": "https://datalore.jetbrains.com/report/HZqq77cegYd.E7get_WnChZ/YSqbXvO69pkPF7hBftxHwv",
   "report_row_ids": [],
   "report_tabs": [
    {
     "id": "FvN1fPz8ssvqlgsJ9XlPjD",
     "name": "Report tab",
     "rows": [
      "58JF9Oq5bYYfGt8mrE5v33",
      "fP7Ze4vKTpoosYsLLTROFF",
      "sWiWBV1NZ36y7fBJ8JHMgQ",
      "hcSlGReaqyHi6PtRJGY5Ol",
      "TjAouqECnOB9qvuRGAbSgb",
      "8hs3qG6sL0NzG9yIISMQ48",
      "fxg746mPEhQcHhcTCk16L9",
      "sRRzlU8IPXU3oo2uzWb341",
      "JNVLPuHrAaFPCKBm9Loj7o",
      "3vWpCRVmS36hSo7o0RH86y",
      "nQkXHguLygatxhVPSQf6PX",
      "cW92RG82tJpiQuVlGDC9kt",
      "0bnXdimzXm0NDD4Vo7Tevi",
      "ZGmfloBwvXtptp0ThN60V6",
      "mfdbS2AcvG38Blt97K9ebd",
      "96BewryhZGdG5T8kOteUqr",
      "rFq412Qxmzves7JoDh4yU5",
      "Q5JqL80Kv4XpziyarYtCuN",
      "yftfNAxSPuZgpUw22fpjiR",
      "5unRS3rlXI5dDXwoQTgvJP",
      "gVwYYQiIFAemDs6LpEOlYT",
      "19hAo6QkaS07qecqFdZY5k",
      "TNbu8BwWcktfZzOPkVTijP",
      "ethZ9SP3tOAJ0VYNRvqKfT",
      "Tr48RCWMkOaUl72AdVb283",
      "32O5wAOShPXCY85gKrS9hi",
      "ZEpNJ1yP15UQg1Pew4lNXI",
      "jtjDGAmeJlXLywG69Qo0mj",
      "UiIhXoeP8NXZKbJf5LRDK1",
      "JvDIKRG7NpwgQRUXxyfswE",
      "ykGmCAhxjYqCz4OXME2jK6",
      "haj3BfemjdPzBIhG6lg8aG",
      "FJ0HwrZWbhBFFC3b0lTneq",
      "p5cawzIE0hfZQIm7MKc4xL",
      "Cn9flhInBAN49rKH2jHgCT",
      "wdTskkPtdaNFuGCba7lFQp",
      "mj2kQDpAWNcbqtwDmqE2OM",
      "16a5UPeNsrJYYuRagsQG4n",
      "duijhfLxNbrkH3nCPxL6bD",
      "QZtecKyTC09zNyEGTiatxl",
      "rBiYlWSu6JSHCR3iWOeCKC",
      "Gk730ek5RLP2r23eDSSIo0",
      "yqKr5c8E1y2FOp6X4KfV1N",
      "qrvGb1AWKkxDsULRDYN1yH",
      "bieCqpQ9l8fOlI9kCwFF69",
      "BQH4aJhdc4KqprpOX62Ahh",
      "EDi7PXcP9hBx1irTuMSGqR",
      "wEmtn9mdydY5CPL89P6oSQ",
      "Qe84ygAt1rbSIjYYe2V4ld",
      "nM1hmY6UpLyA2VFns8sdK3",
      "bVF0jRU9gOTqtucZ17aD7n",
      "JANmXBh2LKAzrD7jwIGmok",
      "UjOvhzo0m7MNaAxMWUEk3d",
      "FgyEvh0OcyganBRnkesMoF",
      "7sBkxQ90wCUFghYZFmPAMt",
      "fNoXzxgTfjlvVPqxEBFpZN"
     ]
    }
   ],
   "version": 4
  },
  "kernelspec": {
   "display_name": "Python 3 (ipykernel)",
   "language": "python",
   "name": "python3"
  },
  "language_info": {
   "codemirror_mode": {
    "name": "ipython",
    "version": 3
   },
   "file_extension": ".py",
   "mimetype": "text/x-python",
   "name": "python",
   "nbconvert_exporter": "python",
   "pygments_lexer": "ipython3",
   "version": "3.10.17"
  }
 },
 "nbformat": 4,
 "nbformat_minor": 4
}
