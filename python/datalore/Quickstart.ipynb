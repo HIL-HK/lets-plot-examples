{
 "cells": [
  {
   "cell_type": "code",
   "execution_count": null,
   "metadata": {
    "datalore": {
     "hide_input_from_viewers": false,
     "hide_output_from_viewers": false,
     "node_id": "8s7y5J9WFWtziWs6FvepbX",
     "report_properties": {
      "relativeY": 0,
      "rowId": "duoT82oUkODh0u21KYyOTd"
     },
     "type": "CODE"
    }
   },
   "outputs": [],
   "source": [
    "import numpy as np\n",
    "from lets_plot import *\n",
    "LetsPlot.setup_html()\n",
    "\n",
    "np.random.seed(12)\n",
    "data = dict(\n",
    "    cond=np.repeat(['A','B'], 200),\n",
    "    rating=np.concatenate((np.random.normal(0, 1, 200), np.random.normal(1, 1.5, 200)))\n",
    ")\n",
    "\n",
    "ggplot(data, aes(x='rating', fill='cond')) + ggsize(700, 300) \\\n",
    "    + geom_density(color='dark_green', alpha=.7) + scale_fill_brewer(type='seq') \\\n",
    "    + theme(panel_grid_major_x=\"blank\")"
   ]
  }
 ],
 "metadata": {
  "datalore": {
   "computation_mode": "JUPYTER",
   "packages": [],
   "report_link": "https://datalore.jetbrains.com/report/HZqq77cegYd.E7get_WnChZ/Vl3fAET56UBray6rPufmDA",
   "report_row_ids": [],
   "report_tabs": [
    {
     "id": "LaK75pfmW8mS9zeEGFT58r",
     "name": "Report tab",
     "rows": [
      "duoT82oUkODh0u21KYyOTd"
     ]
    }
   ],
   "version": 4
  },
  "kernelspec": {
   "display_name": "Python 3 (ipykernel)",
   "language": "python",
   "name": "python3"
  },
  "language_info": {
   "codemirror_mode": {
    "name": "ipython",
    "version": 3
   },
   "file_extension": ".py",
   "mimetype": "text/x-python",
   "name": "python",
   "nbconvert_exporter": "python",
   "pygments_lexer": "ipython3",
   "version": "3.10.18"
  }
 },
 "nbformat": 4,
 "nbformat_minor": 4
}
