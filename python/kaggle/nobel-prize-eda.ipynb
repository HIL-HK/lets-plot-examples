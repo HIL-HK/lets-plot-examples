{
 "cells": [
  {
   "cell_type": "markdown",
   "id": "03e86a2c",
   "metadata": {
    "papermill": {
     "duration": 0.009273,
     "end_time": "2025-04-04T13:02:29.986751",
     "exception": false,
     "start_time": "2025-04-04T13:02:29.977478",
     "status": "completed"
    },
    "tags": []
   },
   "source": [
    "# Nobel Prize Exploratory Data Analysis"
   ]
  },
  {
   "cell_type": "markdown",
   "id": "14582a39",
   "metadata": {
    "papermill": {
     "duration": 0.007772,
     "end_time": "2025-04-04T13:02:30.002861",
     "exception": false,
     "start_time": "2025-04-04T13:02:29.995089",
     "status": "completed"
    },
    "tags": []
   },
   "source": [
    "## Preparation"
   ]
  },
  {
   "cell_type": "code",
   "execution_count": null,
   "id": "e22b4681",
   "metadata": {
    "papermill": {
     "duration": 7.664972,
     "end_time": "2025-04-04T13:02:37.675979",
     "exception": false,
     "start_time": "2025-04-04T13:02:30.011007",
     "status": "completed"
    },
    "tags": []
   },
   "outputs": [],
   "source": [
    "# !pip install lets_plot -U"
   ]
  },
  {
   "cell_type": "code",
   "execution_count": null,
   "id": "204e6565",
   "metadata": {
    "papermill": {
     "duration": 5.534203,
     "end_time": "2025-04-04T13:02:43.219174",
     "exception": false,
     "start_time": "2025-04-04T13:02:37.684971",
     "status": "completed"
    },
    "tags": []
   },
   "outputs": [],
   "source": [
    "import numpy as np\n",
    "import pandas as pd\n",
    "import colorcet as cc\n",
    "\n",
    "from lets_plot import *\n",
    "from lets_plot.geo_data import *"
   ]
  },
  {
   "cell_type": "code",
   "execution_count": null,
   "id": "6b5c0eec",
   "metadata": {
    "papermill": {
     "duration": 0.040266,
     "end_time": "2025-04-04T13:02:43.268424",
     "exception": false,
     "start_time": "2025-04-04T13:02:43.228158",
     "status": "completed"
    },
    "tags": []
   },
   "outputs": [],
   "source": [
    "LetsPlot.setup_html()"
   ]
  },
  {
   "cell_type": "code",
   "execution_count": null,
   "id": "b3b40348",
   "metadata": {
    "papermill": {
     "duration": 0.016331,
     "end_time": "2025-04-04T13:02:43.293911",
     "exception": false,
     "start_time": "2025-04-04T13:02:43.277580",
     "status": "completed"
    },
    "tags": []
   },
   "outputs": [],
   "source": [
    "def continuous_color_scale(name=None):\n",
    "    return scale_brewer('paint_a', name=name, type='seq', palette='Blues')\n",
    "\n",
    "def discrete_color_scale(name=None):\n",
    "    return scale_brewer('paint_a', name=name, type='qual', palette='Set2')"
   ]
  },
  {
   "cell_type": "code",
   "execution_count": null,
   "id": "b703ae4e",
   "metadata": {
    "papermill": {
     "duration": 0.016598,
     "end_time": "2025-04-04T13:02:43.319496",
     "exception": false,
     "start_time": "2025-04-04T13:02:43.302898",
     "status": "completed"
    },
    "tags": []
   },
   "outputs": [],
   "source": [
    "def get_counts_df(local_df, *, column, column_name=None):\n",
    "    vc_df = local_df[column].value_counts().to_frame('count')\n",
    "    vc_df.index.name = column_name if column_name else column\n",
    "    vc_df = vc_df.reset_index()\n",
    "    return vc_df"
   ]
  },
  {
   "cell_type": "code",
   "execution_count": null,
   "id": "eef3a1da",
   "metadata": {
    "papermill": {
     "duration": 0.3412,
     "end_time": "2025-04-04T13:02:43.669609",
     "exception": false,
     "start_time": "2025-04-04T13:02:43.328409",
     "status": "completed"
    },
    "tags": []
   },
   "outputs": [],
   "source": [
    "df = pd.read_csv('Data/nobel_final.csv')\n",
    "\n",
    "all_countries = pd.Series(list(set(list(df.born_country_code) + \\\n",
    "                                   list(df.died_country_code) + \\\n",
    "                                   list(df.country_of_university))))\n",
    "all_countries = all_countries[~all_countries.isna()]\n",
    "geocoded_countries_df = geocode(names=all_countries, level='country').ignore_all_errors().get_geocodes()\n",
    "geocoded_countries_dict = geocoded_countries_df.set_index('country').to_dict()['found name']\n",
    "df = df.replace({\n",
    "    'born_country_code':\n",
    "        dict(geocoded_countries_dict, \\\n",
    "             **{str(c): np.nan for c in set(df.born_country_code) - set(geocoded_countries_dict.keys())}),\n",
    "    'died_country_code':\n",
    "        dict(geocoded_countries_dict, \\\n",
    "             **{str(c): np.nan for c in set(df.died_country_code) - set(geocoded_countries_dict.keys())}),\n",
    "    'country_of_university':\n",
    "        dict(geocoded_countries_dict, \\\n",
    "             **{str(c): np.nan for c in set(df.country_of_university) - set(geocoded_countries_dict.keys())})\n",
    "})\n",
    "df = df.rename(columns={'born_country_code': 'born_country', \\\n",
    "                        'died_country_code': 'died_country', \\\n",
    "                        'share': 'prize_share'})\n",
    "\n",
    "df['decade'] = (df.year / 10).astype(int) * 10\n",
    "df['fullname'] = df.firstname + ' ' + df.surname\n",
    "\n",
    "df.head()"
   ]
  },
  {
   "cell_type": "code",
   "execution_count": null,
   "id": "95e426f2",
   "metadata": {
    "papermill": {
     "duration": 0.039045,
     "end_time": "2025-04-04T13:02:43.717828",
     "exception": false,
     "start_time": "2025-04-04T13:02:43.678783",
     "status": "completed"
    },
    "tags": []
   },
   "outputs": [],
   "source": [
    "country_prizes_df = df[~df.country_of_university.isna()]\\\n",
    "                      .drop_duplicates(subset=['country_of_university', 'year', 'category'])\n",
    "country_prizes_df = country_prizes_df.rename(columns={'country_of_university': 'country'})\n",
    "laureates_df = df.drop_duplicates(subset=['fullname'])\n",
    "not_migrated_laureates_df = df[(~df.died_country.isna())&(df.born_country == df.died_country)]\\\n",
    "                              .drop_duplicates(subset=['born_country', 'died_country', 'fullname'])\n",
    "migrated_laureates_df = df[(~df.died_country.isna())&(df.born_country != df.died_country)]\\\n",
    "                          .drop_duplicates(subset=['born_country', 'died_country', 'fullname'])"
   ]
  },
  {
   "cell_type": "code",
   "execution_count": null,
   "id": "9f7397c6",
   "metadata": {
    "papermill": {
     "duration": 0.015976,
     "end_time": "2025-04-04T13:02:43.742910",
     "exception": false,
     "start_time": "2025-04-04T13:02:43.726934",
     "status": "completed"
    },
    "tags": []
   },
   "outputs": [],
   "source": [
    "decades = sorted(df.decade.unique())"
   ]
  },
  {
   "cell_type": "markdown",
   "id": "5e98b9ae",
   "metadata": {
    "papermill": {
     "duration": 0.008525,
     "end_time": "2025-04-04T13:02:43.760528",
     "exception": false,
     "start_time": "2025-04-04T13:02:43.752003",
     "status": "completed"
    },
    "tags": []
   },
   "source": [
    "## Visualization"
   ]
  },
  {
   "cell_type": "markdown",
   "id": "d3348ff2",
   "metadata": {
    "papermill": {
     "duration": 0.00845,
     "end_time": "2025-04-04T13:02:43.777680",
     "exception": false,
     "start_time": "2025-04-04T13:02:43.769230",
     "status": "completed"
    },
    "tags": []
   },
   "source": [
    "### Explore Countries"
   ]
  },
  {
   "cell_type": "code",
   "execution_count": null,
   "id": "a241b332",
   "metadata": {
    "papermill": {
     "duration": 0.060441,
     "end_time": "2025-04-04T13:02:43.846887",
     "exception": false,
     "start_time": "2025-04-04T13:02:43.786446",
     "status": "completed"
    },
    "tags": []
   },
   "outputs": [],
   "source": [
    "N = 10\n",
    "countries_colors = {country: cc.palette['glasbey_dark'][i] \\\n",
    "                    for i, country in enumerate(sorted(geocoded_countries_dict.values()))}\n",
    "plots = []\n",
    "for d, column, counted_name in [(country_prizes_df, 'country', 'Nobel prizes'), \\\n",
    "                                (not_migrated_laureates_df, 'born_country', 'non migrated laureates'), \\\n",
    "                                (migrated_laureates_df, 'died_country', 'immigrated laureates'), \\\n",
    "                                (migrated_laureates_df, 'born_country', 'emigrated laureates')]:\n",
    "    local_df = get_counts_df(d, column=column, column_name='country')\n",
    "    local_df['color'] = np.vectorize(countries_colors.get)(local_df.country)\n",
    "    plots.append(ggplot(local_df) + \\\n",
    "        geom_bar(aes(x='country', y='count', color='color', fill='color'), \\\n",
    "                 stat='identity', sampling=sampling_pick(N), alpha=.75, show_legend=False, \\\n",
    "                 tooltips=layer_tooltips().line('@country').line('{0} number|@count'.format(counted_name))) + \\\n",
    "        scale_color_identity() + scale_fill_identity() + \\\n",
    "        ggtitle('Top {0} Countries by {1}'.format(N, counted_name.title())) + \\\n",
    "        theme(axis_text_x='blank', axis_ticks_x='blank'))\n",
    "\n",
    "gggrid(plots, ncol=2)"
   ]
  },
  {
   "cell_type": "markdown",
   "id": "17621dc7",
   "metadata": {
    "papermill": {
     "duration": 0.009036,
     "end_time": "2025-04-04T13:02:43.865531",
     "exception": false,
     "start_time": "2025-04-04T13:02:43.856495",
     "status": "completed"
    },
    "tags": []
   },
   "source": [
    "Obviously, the US is the absolute champion in the Nobel race. A great deal of its success is due to immigrant scientists.\n",
    "\n",
    "Also here we see that many Nobel laureates have left Poland, Germany and the UK. However, the US, the UK and Germany take top positions regardless of brain drain."
   ]
  },
  {
   "cell_type": "code",
   "execution_count": null,
   "id": "24e03c2d",
   "metadata": {
    "papermill": {
     "duration": 0.028793,
     "end_time": "2025-04-04T13:02:43.903644",
     "exception": false,
     "start_time": "2025-04-04T13:02:43.874851",
     "status": "completed"
    },
    "tags": []
   },
   "outputs": [],
   "source": [
    "migrated_laureates_df['migration'] = migrated_laureates_df.born_country + ' → ' + migrated_laureates_df.died_country\n",
    "migration_df = get_counts_df(migrated_laureates_df, column='migration')\n",
    "\n",
    "ggplot(migration_df[migration_df['count'] > 1]) + \\\n",
    "    geom_bar(aes(x='migration', y='count', paint_a='count'), stat='identity', \\\n",
    "             color='#08306b', fill_by='paint_a', show_legend=False, \\\n",
    "             tooltips=layer_tooltips().line('@migration').line('migrated laureates number|@count')) + \\\n",
    "    continuous_color_scale() + \\\n",
    "    ggtitle('Popular Migration Directions for Nobel Laureates') + \\\n",
    "    theme(axis_text_x='blank', axis_ticks_x='blank')"
   ]
  },
  {
   "cell_type": "markdown",
   "id": "3aec6b33",
   "metadata": {
    "papermill": {
     "duration": 0.009057,
     "end_time": "2025-04-04T13:02:43.922548",
     "exception": false,
     "start_time": "2025-04-04T13:02:43.913491",
     "status": "completed"
    },
    "tags": []
   },
   "source": [
    "The most popular direction of migration is from the UK to the US.\n",
    "\n",
    "Except those moving to the US, another popular migration route for scientists is from Poland to Germany."
   ]
  },
  {
   "cell_type": "code",
   "execution_count": null,
   "id": "09b6816f",
   "metadata": {
    "papermill": {
     "duration": 0.054972,
     "end_time": "2025-04-04T13:02:43.987034",
     "exception": false,
     "start_time": "2025-04-04T13:02:43.932062",
     "status": "completed"
    },
    "tags": []
   },
   "outputs": [],
   "source": [
    "countries_df = get_counts_df(country_prizes_df, column='country')\n",
    "top_countries = countries_df[countries_df['count'].cumsum() < 3 * country_prizes_df.shape[0] / 4].country.values\n",
    "country_prizes_df['half'] = np.where(country_prizes_df.country.isin(top_countries), country_prizes_df.country, 'Other')\n",
    "country_prizes_df.half = pd.Categorical(country_prizes_df.half, list(top_countries) + ['Other'])\n",
    "ggplot(country_prizes_df.sort_values(by=\"half\")) + \\\n",
    "    geom_bar(aes(\"decade\", paint_a=\"half\"), position='fill', fill_by='paint_a') + \\\n",
    "    scale_x_continuous(breaks=decades, labels=[str(d) for d in decades]) + ylab('proportion of prizes') + \\\n",
    "    discrete_color_scale(name='country') + \\\n",
    "    ggtitle('Prize Proportion between Top Countries and Others')"
   ]
  },
  {
   "cell_type": "markdown",
   "id": "105c1fe7",
   "metadata": {
    "papermill": {
     "duration": 0.009735,
     "end_time": "2025-04-04T13:02:44.006969",
     "exception": false,
     "start_time": "2025-04-04T13:02:43.997234",
     "status": "completed"
    },
    "tags": []
   },
   "source": [
    "3/4 of all the Nobel prizes ever awarded belong to the US, the UK and Germany. But the situation changes over time, mostly in favor of the US and not in favor of Germany."
   ]
  },
  {
   "cell_type": "code",
   "execution_count": null,
   "id": "b183ae02",
   "metadata": {
    "papermill": {
     "duration": 0.630606,
     "end_time": "2025-04-04T13:02:44.647627",
     "exception": false,
     "start_time": "2025-04-04T13:02:44.017021",
     "status": "completed"
    },
    "tags": []
   },
   "outputs": [],
   "source": [
    "country_boundaries_gdf = geocode_countries().get_boundaries()\n",
    "\n",
    "ggplot() + \\\n",
    "    geom_map(aes(paint_a='count'), \\\n",
    "             data=laureates_df.groupby('born_country').count().iloc[:, 0].to_frame('count').reset_index(), \\\n",
    "             map=country_boundaries_gdf, \\\n",
    "             map_join=('born_country', 'country'),\n",
    "             fill_by='paint_a',\n",
    "             tooltips=layer_tooltips().line('@born_country').line('laureates number|@count')) + \\\n",
    "    continuous_color_scale() + \\\n",
    "    ggtitle('Distribution of Nobel Laureates in the World') + \\\n",
    "    theme_void()"
   ]
  },
  {
   "cell_type": "markdown",
   "id": "29f87d03",
   "metadata": {
    "papermill": {
     "duration": 0.012715,
     "end_time": "2025-04-04T13:02:44.674672",
     "exception": false,
     "start_time": "2025-04-04T13:02:44.661957",
     "status": "completed"
    },
    "tags": []
   },
   "source": [
    "Here we see that the Nobel committee prefers to acknowledge the achievements of Western science and ignore almost the whole of Africa."
   ]
  },
  {
   "cell_type": "markdown",
   "id": "555da651",
   "metadata": {
    "papermill": {
     "duration": 0.012891,
     "end_time": "2025-04-04T13:02:44.700425",
     "exception": false,
     "start_time": "2025-04-04T13:02:44.687534",
     "status": "completed"
    },
    "tags": []
   },
   "source": [
    "### Explore Universities"
   ]
  },
  {
   "cell_type": "code",
   "execution_count": null,
   "id": "9384030f",
   "metadata": {
    "papermill": {
     "duration": 0.038922,
     "end_time": "2025-04-04T13:02:44.752412",
     "exception": false,
     "start_time": "2025-04-04T13:02:44.713490",
     "status": "completed"
    },
    "tags": []
   },
   "outputs": [],
   "source": [
    "N = 10\n",
    "\n",
    "top_universities = country_prizes_df.name_of_university.value_counts().to_frame('count')[:N].index\n",
    "ggplot(country_prizes_df[country_prizes_df.name_of_university.isin(top_universities)]) + \\\n",
    "    geom_bar(aes(x='name_of_university', group='category', paint_a='category'), fill_by='paint_a', \\\n",
    "             tooltips=layer_tooltips().line('^x').line('@|@category').line('prizes number|^y')) + \\\n",
    "    discrete_color_scale() + \\\n",
    "    xlab('university') + \\\n",
    "    ggtitle('Top {0} Universities by Prize Number'.format(N)) + \\\n",
    "    theme(axis_text_x='blank', axis_ticks_x='blank')"
   ]
  },
  {
   "cell_type": "markdown",
   "id": "261e1f52",
   "metadata": {
    "papermill": {
     "duration": 0.0132,
     "end_time": "2025-04-04T13:02:44.779251",
     "exception": false,
     "start_time": "2025-04-04T13:02:44.766051",
     "status": "completed"
    },
    "tags": []
   },
   "source": [
    "Most top universities pay attention to a wide range of scientific disciplines, but some specialize in particular areas."
   ]
  },
  {
   "cell_type": "markdown",
   "id": "0275b64a",
   "metadata": {
    "papermill": {
     "duration": 0.013,
     "end_time": "2025-04-04T13:02:44.805765",
     "exception": false,
     "start_time": "2025-04-04T13:02:44.792765",
     "status": "completed"
    },
    "tags": []
   },
   "source": [
    "### Explore Gender"
   ]
  },
  {
   "cell_type": "code",
   "execution_count": null,
   "id": "afe26114",
   "metadata": {
    "papermill": {
     "duration": 0.135393,
     "end_time": "2025-04-04T13:02:44.954513",
     "exception": false,
     "start_time": "2025-04-04T13:02:44.819120",
     "status": "completed"
    },
    "tags": []
   },
   "outputs": [],
   "source": [
    "p1 = ggplot(laureates_df) + \\\n",
    "    geom_bar(aes(x='gender', paint_a='gender'), fill_by='paint_a') + \\\n",
    "    discrete_color_scale() + \\\n",
    "    ggtitle('Gender Ratio')\n",
    "p2 = ggplot(laureates_df) + \\\n",
    "    geom_bar(aes(x='category', group='gender', paint_a='gender'), fill_by='paint_a') + \\\n",
    "    discrete_color_scale() + \\\n",
    "    ggtitle('Gender Ratio by Category')\n",
    "p3 = ggplot(laureates_df) + \\\n",
    "    geom_bar(aes(x=as_discrete('decade'), group='gender', paint_a='gender'), fill_by='paint_a') + \\\n",
    "    discrete_color_scale() + \\\n",
    "    scale_x_discrete(labels=df.decade.unique().astype(str)) + \\\n",
    "    ggtitle('Gender Ratio by Decade')\n",
    "\n",
    "gggrid([p1, p2, p3], ncol=1)"
   ]
  },
  {
   "cell_type": "markdown",
   "id": "5b03bd69",
   "metadata": {
    "papermill": {
     "duration": 0.013378,
     "end_time": "2025-04-04T13:02:44.981969",
     "exception": false,
     "start_time": "2025-04-04T13:02:44.968591",
     "status": "completed"
    },
    "tags": []
   },
   "source": [
    "We see not only inequality in gender but also a slow change of this trend through the years, except the 1910s and 1950s.\n",
    "\n",
    "The best possible female/male ratio is seen in peace and literature."
   ]
  },
  {
   "cell_type": "markdown",
   "id": "69b7036b",
   "metadata": {
    "papermill": {
     "duration": 0.013196,
     "end_time": "2025-04-04T13:02:45.008599",
     "exception": false,
     "start_time": "2025-04-04T13:02:44.995403",
     "status": "completed"
    },
    "tags": []
   },
   "source": [
    "### Explore Categories"
   ]
  },
  {
   "cell_type": "code",
   "execution_count": null,
   "id": "23f0116d",
   "metadata": {
    "papermill": {
     "duration": 0.082651,
     "end_time": "2025-04-04T13:02:45.109721",
     "exception": false,
     "start_time": "2025-04-04T13:02:45.027070",
     "status": "completed"
    },
    "tags": []
   },
   "outputs": [],
   "source": [
    "ggplot(df) + \\\n",
    "    geom_bar(aes(x='category', paint_a='category'), fill_by='paint_a') + \\\n",
    "    discrete_color_scale() + \\\n",
    "    ggtitle('Nobel Prizes by Categories')"
   ]
  },
  {
   "cell_type": "markdown",
   "id": "42934baa",
   "metadata": {
    "papermill": {
     "duration": 0.013949,
     "end_time": "2025-04-04T13:02:45.137846",
     "exception": false,
     "start_time": "2025-04-04T13:02:45.123897",
     "status": "completed"
    },
    "tags": []
   },
   "source": [
    "Not all categories feature the same number of laureates, mostly due to prize sharing in collective research."
   ]
  },
  {
   "cell_type": "code",
   "execution_count": null,
   "id": "05864ce4",
   "metadata": {
    "papermill": {
     "duration": 0.06033,
     "end_time": "2025-04-04T13:02:45.212074",
     "exception": false,
     "start_time": "2025-04-04T13:02:45.151744",
     "status": "completed"
    },
    "tags": []
   },
   "outputs": [],
   "source": [
    "breaks = sorted(df.prize_share.unique())\n",
    "labels = ['1' if b == 1 else '1/{0}'.format(b) for b in breaks]\n",
    "ggplot(df) + \\\n",
    "    geom_bar(aes(x='prize_share', group='category', paint_a='category'), fill_by='paint_a') + \\\n",
    "    scale_x_continuous(name='prize share', breaks=breaks, labels=labels) + \\\n",
    "    discrete_color_scale() + \\\n",
    "    ggtitle('Sharing Prizes')"
   ]
  },
  {
   "cell_type": "markdown",
   "id": "04a0efdb",
   "metadata": {
    "papermill": {
     "duration": 0.01399,
     "end_time": "2025-04-04T13:02:45.240537",
     "exception": false,
     "start_time": "2025-04-04T13:02:45.226547",
     "status": "completed"
    },
    "tags": []
   },
   "source": [
    "In most cases the winner gets the full prize or half of it. For peace and especially for literature, it is unusual to share your prize with someone."
   ]
  },
  {
   "cell_type": "code",
   "execution_count": null,
   "id": "5f78d09a",
   "metadata": {
    "papermill": {
     "duration": 0.054047,
     "end_time": "2025-04-04T13:02:45.308762",
     "exception": false,
     "start_time": "2025-04-04T13:02:45.254715",
     "status": "completed"
    },
    "tags": []
   },
   "outputs": [],
   "source": [
    "ggplot(df.groupby(['year', 'category']).agg({'decade': 'count', 'age_get_prize': 'mean'}).reset_index()) + \\\n",
    "    geom_point(aes(x='year', y='category', size='decade', paint_a='age_get_prize'), color_by='paint_a', shape=15, \\\n",
    "               tooltips=layer_tooltips().line('laureates number|^size').line('laureates mean age|^paint_a')\\\n",
    "                       .line('@|@year').line('@|@category')) + \\\n",
    "    scale_x_continuous(breaks=decades, labels=[str(d) for d in decades]) + \\\n",
    "    scale_size(range=[1, 2], guide='none') + \\\n",
    "    continuous_color_scale(name='age get prize') + \\\n",
    "    ggtitle('Nobel Prizes by Year and Category') + \\\n",
    "    ggsize(900, 200)"
   ]
  },
  {
   "cell_type": "markdown",
   "id": "089eca83",
   "metadata": {
    "papermill": {
     "duration": 0.014244,
     "end_time": "2025-04-04T13:02:45.338000",
     "exception": false,
     "start_time": "2025-04-04T13:02:45.323756",
     "status": "completed"
    },
    "tags": []
   },
   "source": [
    "Throughout the years we see gaps in Nobel prizes awarded for some categories, especially peace. Also there is one big common gap during World War II.\n",
    "\n",
    "Finally we see that the Nobel prize for economics was first awarded in the 1970s."
   ]
  },
  {
   "cell_type": "markdown",
   "id": "7f5a816d",
   "metadata": {
    "papermill": {
     "duration": 0.014138,
     "end_time": "2025-04-04T13:02:45.367124",
     "exception": false,
     "start_time": "2025-04-04T13:02:45.352986",
     "status": "completed"
    },
    "tags": []
   },
   "source": [
    "### Explore Ages"
   ]
  },
  {
   "cell_type": "code",
   "execution_count": null,
   "id": "6306595d",
   "metadata": {
    "papermill": {
     "duration": 0.123553,
     "end_time": "2025-04-04T13:02:45.505023",
     "exception": false,
     "start_time": "2025-04-04T13:02:45.381470",
     "status": "completed"
    },
    "tags": []
   },
   "outputs": [],
   "source": [
    "ggplot(laureates_df) + \\\n",
    "    geom_density(aes(x='age')) + \\\n",
    "    ggtitle('Death Age Distribution of Nobel Laureates')"
   ]
  },
  {
   "cell_type": "markdown",
   "id": "f22be8bb",
   "metadata": {
    "papermill": {
     "duration": 0.015109,
     "end_time": "2025-04-04T13:02:45.535507",
     "exception": false,
     "start_time": "2025-04-04T13:02:45.520398",
     "status": "completed"
    },
    "tags": []
   },
   "source": [
    "The mean age of death for Nobel laureates is 85 years.\n",
    "\n",
    "Wouldn't be too bad to achieve the same life span!"
   ]
  },
  {
   "cell_type": "code",
   "execution_count": null,
   "id": "d7f82446",
   "metadata": {
    "papermill": {
     "duration": 0.055364,
     "end_time": "2025-04-04T13:02:45.605838",
     "exception": false,
     "start_time": "2025-04-04T13:02:45.550474",
     "status": "completed"
    },
    "tags": []
   },
   "outputs": [],
   "source": [
    "ggplot(df) + \\\n",
    "    geom_histogram(aes(x='age_get_prize'), binwidth=5, boundary=22) + \\\n",
    "    ggtitle('Distribution of Nobel Prize Winners Age')"
   ]
  },
  {
   "cell_type": "markdown",
   "id": "22f3010b",
   "metadata": {
    "papermill": {
     "duration": 0.015165,
     "end_time": "2025-04-04T13:02:45.636545",
     "exception": false,
     "start_time": "2025-04-04T13:02:45.621380",
     "status": "completed"
    },
    "tags": []
   },
   "source": [
    "The mean age of winning the Nobel prize is 60 years."
   ]
  },
  {
   "cell_type": "code",
   "execution_count": null,
   "id": "c332437d",
   "metadata": {
    "papermill": {
     "duration": 0.065378,
     "end_time": "2025-04-04T13:02:45.717231",
     "exception": false,
     "start_time": "2025-04-04T13:02:45.651853",
     "status": "completed"
    },
    "tags": []
   },
   "outputs": [],
   "source": [
    "ggplot(df, aes(x='age', y='age_get_prize')) + \\\n",
    "    geom_bin2d(aes(paint_a='..count..'), color='#08306b', fill_by='paint_a', binwidth=[5, 5], size=.2) + \\\n",
    "    continuous_color_scale() + \\\n",
    "    facet_grid(x='gender') + \\\n",
    "    ggtitle('Common Distribution of Death Age and Getting the Prize Age')"
   ]
  },
  {
   "cell_type": "markdown",
   "id": "d789e3af",
   "metadata": {
    "papermill": {
     "duration": 0.015236,
     "end_time": "2025-04-04T13:02:45.748279",
     "exception": false,
     "start_time": "2025-04-04T13:02:45.733043",
     "status": "completed"
    },
    "tags": []
   },
   "source": [
    "This graph confirms our previous conclusions."
   ]
  },
  {
   "cell_type": "code",
   "execution_count": null,
   "id": "33efd844",
   "metadata": {
    "papermill": {
     "duration": 0.080643,
     "end_time": "2025-04-04T13:02:45.844343",
     "exception": false,
     "start_time": "2025-04-04T13:02:45.763700",
     "status": "completed"
    },
    "tags": []
   },
   "outputs": [],
   "source": [
    "ggplot(df) + \\\n",
    "    geom_boxplot(aes(x='category', y='age_get_prize', paint_a='category'), fill_by='paint_a') + \\\n",
    "    facet_grid(x='gender') + \\\n",
    "    discrete_color_scale() + \\\n",
    "    ggtitle('Aggregated Information About Age by Category and Gender')"
   ]
  },
  {
   "cell_type": "markdown",
   "id": "78085ed0",
   "metadata": {
    "papermill": {
     "duration": 0.015538,
     "end_time": "2025-04-04T13:02:45.875856",
     "exception": false,
     "start_time": "2025-04-04T13:02:45.860318",
     "status": "completed"
    },
    "tags": []
   },
   "source": [
    "If we consider the categories, the mean age would be different. In many cases, physicists were relatively young when they achieved success, but economists tended to win the prize in slightly older age. For women, higher scatter in graph data could be explained by smaller sampling."
   ]
  },
  {
   "cell_type": "code",
   "execution_count": null,
   "id": "ff211c4d",
   "metadata": {
    "papermill": {
     "duration": 0.073959,
     "end_time": "2025-04-04T13:02:45.965490",
     "exception": false,
     "start_time": "2025-04-04T13:02:45.891531",
     "status": "completed"
    },
    "tags": []
   },
   "outputs": [],
   "source": [
    "ggplot(df, aes(x='year', y='age_get_prize')) + \\\n",
    "    geom_point(aes(paint_a='gender'), color_by='paint_a') + \\\n",
    "    geom_smooth(method='loess', color='black') + \\\n",
    "    scale_x_continuous(breaks=decades, labels=[str(d) for d in decades]) + \\\n",
    "    discrete_color_scale() + \\\n",
    "    ggtitle('Distribution of Ages by Years')"
   ]
  },
  {
   "cell_type": "markdown",
   "id": "612744fa",
   "metadata": {
    "papermill": {
     "duration": 0.016463,
     "end_time": "2025-04-04T13:02:45.999166",
     "exception": false,
     "start_time": "2025-04-04T13:02:45.982703",
     "status": "completed"
    },
    "tags": []
   },
   "source": [
    "Here we also see that the mean age when Nobel laureates receive their prize is rising over time."
   ]
  },
  {
   "cell_type": "code",
   "execution_count": null,
   "id": "54bf4a32",
   "metadata": {
    "papermill": {
     "duration": 0.114867,
     "end_time": "2025-04-04T13:02:46.130780",
     "exception": false,
     "start_time": "2025-04-04T13:02:46.015913",
     "status": "completed"
    },
    "tags": []
   },
   "outputs": [],
   "source": [
    "ggplot(df, aes(x='year', y='age_get_prize')) + \\\n",
    "    geom_point(aes(paint_a='gender'), color_by='paint_a') + \\\n",
    "    geom_smooth(method='loess', color='black') + \\\n",
    "    scale_x_continuous(breaks=decades, labels=[str(d) for d in decades]) + \\\n",
    "    facet_grid(y='category') + \\\n",
    "    discrete_color_scale() + \\\n",
    "    ggtitle('Category Wise Distribution of Ages by Years')"
   ]
  },
  {
   "cell_type": "markdown",
   "id": "a4a11157",
   "metadata": {
    "papermill": {
     "duration": 0.017584,
     "end_time": "2025-04-04T13:02:46.166609",
     "exception": false,
     "start_time": "2025-04-04T13:02:46.149025",
     "status": "completed"
    },
    "tags": []
   },
   "source": [
    "Taking categories into account, we realize that the mean age doesn't always increase. It could even decrease in the case of the peace prize. For literature or economics, things don't change."
   ]
  },
  {
   "cell_type": "code",
   "execution_count": null,
   "id": "5d1a3eca",
   "metadata": {
    "papermill": {
     "duration": 0.043519,
     "end_time": "2025-04-04T13:02:46.228903",
     "exception": false,
     "start_time": "2025-04-04T13:02:46.185384",
     "status": "completed"
    },
    "tags": []
   },
   "outputs": [],
   "source": [
    "N = 20\n",
    "\n",
    "p1 = ggplot(df.sort_values(by='age_get_prize', ascending=False)[:N]) + \\\n",
    "    geom_bar(aes(x='fullname', y='age_get_prize', paint_a='gender'), fill_by='paint_a', stat='identity') + \\\n",
    "    discrete_color_scale() + \\\n",
    "    ggtitle('Top {0} Oldest Nobel Prize Laureates'.format(N))\n",
    "p2 = ggplot(df.sort_values(by='age_get_prize', ascending=False)[-N:]) + \\\n",
    "    geom_bar(aes(x='fullname', y='age_get_prize', paint_a='gender'), fill_by='paint_a', stat='identity') + \\\n",
    "    discrete_color_scale() + \\\n",
    "    ggtitle('Top {0} Youngest Nobel Prize Laureates'.format(N))\n",
    "\n",
    "gggrid([p1, p2])"
   ]
  },
  {
   "cell_type": "markdown",
   "id": "19bdf849",
   "metadata": {
    "papermill": {
     "duration": 0.017788,
     "end_time": "2025-04-04T13:02:46.265708",
     "exception": false,
     "start_time": "2025-04-04T13:02:46.247920",
     "status": "completed"
    },
    "tags": []
   },
   "source": [
    "Finally we take a look at the oldest and youngest people who got the prize."
   ]
  },
  {
   "cell_type": "markdown",
   "id": "4f315282",
   "metadata": {
    "papermill": {
     "duration": 0.01795,
     "end_time": "2025-04-04T13:02:46.301736",
     "exception": false,
     "start_time": "2025-04-04T13:02:46.283786",
     "status": "completed"
    },
    "tags": []
   },
   "source": [
    "### Multiple Laureates"
   ]
  },
  {
   "cell_type": "code",
   "execution_count": null,
   "id": "32effb93",
   "metadata": {
    "papermill": {
     "duration": 0.042798,
     "end_time": "2025-04-04T13:02:46.362668",
     "exception": false,
     "start_time": "2025-04-04T13:02:46.319870",
     "status": "completed"
    },
    "tags": []
   },
   "outputs": [],
   "source": [
    "multiple_laureates = list({k: v for k, v in (df.fullname.value_counts() > 1).items() if v}.keys())\n",
    "ggplot(df[df.fullname.isin(multiple_laureates)]) + \\\n",
    "    geom_point(aes(x='year', y='fullname', paint_a='category', \\\n",
    "                   shape='gender', size='age_get_prize'), \\\n",
    "               color_by='paint_a', fill_by='paint_a',\n",
    "               alpha=.5, tooltips=layer_tooltips().line('@fullname').line('year get prize|@year')\\\n",
    "                                                  .line('prize category|@category')\\\n",
    "                                                  .line('prize share|1/@prize_share')\\\n",
    "                                                  .line('university|@name_of_university')\n",
    "                                                  .line('@|@gender').line('prize winning age|@age_get_prize')\\\n",
    "                                                  .line('age at death|@age')\\\n",
    "                                                  .line('born country|@born_country')\\\n",
    "                                                  .line('died country|@died_country')) + \\\n",
    "    scale_x_continuous(breaks=decades, labels=[str(d) for d in decades]) + \\\n",
    "    discrete_color_scale() + \\\n",
    "    scale_shape_manual(values=[24, 25]) + scale_size(name='prize winning age', range=[4, 8]) + \\\n",
    "    ggtitle('Laureates Who Won Nobel Prize More Than Once') + \\\n",
    "    theme(legend_position='bottom', axis_title_y='blank', axis_tooltip='blank')"
   ]
  },
  {
   "cell_type": "markdown",
   "id": "8fb5b775",
   "metadata": {
    "papermill": {
     "duration": 0.018358,
     "end_time": "2025-04-04T13:02:46.399656",
     "exception": false,
     "start_time": "2025-04-04T13:02:46.381298",
     "status": "completed"
    },
    "tags": []
   },
   "source": [
    "By now, there are four people who have received the prize more than once. One of them is a woman. Also she is the only one who moved to a different country. Two of them changed categories in which they achieved the results.\n",
    "\n",
    "The first case was in 1903 and the last one in 1980.\n",
    "\n",
    "Look at the graph and you will find out even more fascinating details about these people."
   ]
  }
 ],
 "metadata": {
  "kaggle": {
   "accelerator": "none",
   "dataSources": [
    {
     "datasetId": 654294,
     "sourceId": 1156819,
     "sourceType": "datasetVersion"
    }
   ],
   "isGpuEnabled": false,
   "isInternetEnabled": true,
   "language": "python",
   "sourceType": "notebook"
  },
  "kernelspec": {
   "display_name": "Python 3 (ipykernel)",
   "language": "python",
   "name": "python3"
  },
  "language_info": {
   "codemirror_mode": {
    "name": "ipython",
    "version": 3
   },
   "file_extension": ".py",
   "mimetype": "text/x-python",
   "name": "python",
   "nbconvert_exporter": "python",
   "pygments_lexer": "ipython3",
   "version": "3.10.18"
  },
  "papermill": {
   "default_parameters": {},
   "duration": 20.187267,
   "end_time": "2025-04-04T13:02:47.239818",
   "environment_variables": {},
   "exception": null,
   "input_path": "__notebook__.ipynb",
   "output_path": "__notebook__.ipynb",
   "parameters": {},
   "start_time": "2025-04-04T13:02:27.052551",
   "version": "2.6.0"
  }
 },
 "nbformat": 4,
 "nbformat_minor": 5
}
