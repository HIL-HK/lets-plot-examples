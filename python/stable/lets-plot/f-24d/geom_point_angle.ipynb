{
 "cells": [
  {
   "cell_type": "markdown",
   "id": "c4c21432",
   "metadata": {},
   "source": [
    "## Marker Rotation\n",
    "\n",
    "Specify marker rotation (in degrees) using the `angle` aesthetic."
   ]
  },
  {
   "cell_type": "code",
   "execution_count": 1,
   "id": "96f6596f",
   "metadata": {
    "execution": {
     "iopub.execute_input": "2024-10-02T08:41:24.246245Z",
     "iopub.status.busy": "2024-10-02T08:41:24.245991Z",
     "iopub.status.idle": "2024-10-02T08:41:24.692747Z",
     "shell.execute_reply": "2024-10-02T08:41:24.692408Z"
    }
   },
   "outputs": [],
   "source": [
    "import numpy as np\n",
    "from lets_plot import *"
   ]
  },
  {
   "cell_type": "code",
   "execution_count": 2,
   "id": "09704322",
   "metadata": {
    "execution": {
     "iopub.execute_input": "2024-10-02T08:41:24.694149Z",
     "iopub.status.busy": "2024-10-02T08:41:24.694039Z",
     "iopub.status.idle": "2024-10-02T08:41:24.696403Z",
     "shell.execute_reply": "2024-10-02T08:41:24.696163Z"
    }
   },
   "outputs": [
    {
     "data": {
      "text/html": [
       "\n",
       "            <div id=\"OcGqXT\"></div>\n",
       "            <script type=\"text/javascript\" data-lets-plot-script=\"library\">\n",
       "                if(!window.letsPlotCallQueue) {\n",
       "                    window.letsPlotCallQueue = [];\n",
       "                }; \n",
       "                window.letsPlotCall = function(f) {\n",
       "                    window.letsPlotCallQueue.push(f);\n",
       "                };\n",
       "                (function() {\n",
       "                    var script = document.createElement(\"script\");\n",
       "                    script.type = \"text/javascript\";\n",
       "                    script.src = \"https://cdn.jsdelivr.net/gh/JetBrains/lets-plot@v4.4.1/js-package/distr/lets-plot.min.js\";\n",
       "                    script.onload = function() {\n",
       "                        window.letsPlotCall = function(f) {f();};\n",
       "                        window.letsPlotCallQueue.forEach(function(f) {f();});\n",
       "                        window.letsPlotCallQueue = [];\n",
       "                        \n",
       "                    };\n",
       "                    script.onerror = function(event) {\n",
       "                        window.letsPlotCall = function(f) {};    // noop\n",
       "                        window.letsPlotCallQueue = [];\n",
       "                        var div = document.createElement(\"div\");\n",
       "                        div.style.color = 'darkred';\n",
       "                        div.textContent = 'Error loading Lets-Plot JS';\n",
       "                        document.getElementById(\"OcGqXT\").appendChild(div);\n",
       "                    };\n",
       "                    var e = document.getElementById(\"OcGqXT\");\n",
       "                    e.appendChild(script);\n",
       "                })()\n",
       "            </script>\n",
       "            "
      ]
     },
     "metadata": {},
     "output_type": "display_data"
    }
   ],
   "source": [
    "LetsPlot.setup_html()"
   ]
  },
  {
   "cell_type": "code",
   "execution_count": 3,
   "id": "7ccad20f",
   "metadata": {
    "execution": {
     "iopub.execute_input": "2024-10-02T08:41:24.697572Z",
     "iopub.status.busy": "2024-10-02T08:41:24.697481Z",
     "iopub.status.idle": "2024-10-02T08:41:24.699350Z",
     "shell.execute_reply": "2024-10-02T08:41:24.699118Z"
    }
   },
   "outputs": [],
   "source": [
    "data = {\n",
    "    'x': [1, 2, 3, 4],\n",
    "    'y': [1, 1, 1, 1],\n",
    "    'angle': [-30, 0, 30, 60]\n",
    "}"
   ]
  },
  {
   "cell_type": "code",
   "execution_count": 4,
   "id": "4bddfeb1",
   "metadata": {
    "execution": {
     "iopub.execute_input": "2024-10-02T08:41:24.700474Z",
     "iopub.status.busy": "2024-10-02T08:41:24.700395Z",
     "iopub.status.idle": "2024-10-02T08:41:24.730626Z",
     "shell.execute_reply": "2024-10-02T08:41:24.730353Z"
    }
   },
   "outputs": [
    {
     "data": {
      "text/html": [
       "   <div id=\"81JZyi\"></div>\n",
       "   <script type=\"text/javascript\" data-lets-plot-script=\"plot\">\n",
       "       (function() {\n",
       "           var plotSpec={\n",
       "\"data\":{\n",
       "\"x\":[1.0,2.0,3.0,4.0],\n",
       "\"y\":[1.0,1.0,1.0,1.0],\n",
       "\"angle\":[-30.0,0.0,30.0,60.0]\n",
       "},\n",
       "\"mapping\":{\n",
       "},\n",
       "\"data_meta\":{\n",
       "\"series_annotations\":[{\n",
       "\"type\":\"int\",\n",
       "\"column\":\"x\"\n",
       "},{\n",
       "\"type\":\"int\",\n",
       "\"column\":\"y\"\n",
       "},{\n",
       "\"type\":\"int\",\n",
       "\"column\":\"angle\"\n",
       "}]\n",
       "},\n",
       "\"kind\":\"plot\",\n",
       "\"scales\":[],\n",
       "\"layers\":[{\n",
       "\"geom\":\"point\",\n",
       "\"mapping\":{\n",
       "\"x\":\"x\",\n",
       "\"y\":\"y\",\n",
       "\"angle\":\"angle\"\n",
       "},\n",
       "\"data_meta\":{\n",
       "},\n",
       "\"size\":20.0,\n",
       "\"shape\":13.0,\n",
       "\"data\":{\n",
       "}\n",
       "},{\n",
       "\"geom\":\"point\",\n",
       "\"mapping\":{\n",
       "},\n",
       "\"data_meta\":{\n",
       "},\n",
       "\"x\":5.0,\n",
       "\"y\":1.0,\n",
       "\"angle\":90.0,\n",
       "\"size\":20.0,\n",
       "\"shape\":2.0,\n",
       "\"color\":\"red\",\n",
       "\"data\":{\n",
       "}\n",
       "}],\n",
       "\"metainfo_list\":[]\n",
       "};\n",
       "           var plotContainer = document.getElementById(\"81JZyi\");\n",
       "           window.letsPlotCall(function() {{\n",
       "               LetsPlot.buildPlotFromProcessedSpecs(plotSpec, -1, -1, plotContainer);\n",
       "           }});\n",
       "       })();\n",
       "   </script>"
      ],
      "text/plain": [
       "<lets_plot.plot.core.PlotSpec at 0x1075a4a30>"
      ]
     },
     "execution_count": 4,
     "metadata": {},
     "output_type": "execute_result"
    }
   ],
   "source": [
    "ggplot(data) +\\\n",
    "geom_point(aes(x='x', y='y', angle='angle'), size=20, shape=13.0) +\\\n",
    "geom_point(x=5, y=1.0, angle=90, size=20, shape=2.0, color='red')"
   ]
  }
 ],
 "metadata": {
  "kernelspec": {
   "display_name": "Python 3 (ipykernel)",
   "language": "python",
   "name": "python3"
  },
  "language_info": {
   "codemirror_mode": {
    "name": "ipython",
    "version": 3
   },
   "file_extension": ".py",
   "mimetype": "text/x-python",
   "name": "python",
   "nbconvert_exporter": "python",
   "pygments_lexer": "ipython3",
   "version": "3.10.15"
  }
 },
 "nbformat": 4,
 "nbformat_minor": 5
}
