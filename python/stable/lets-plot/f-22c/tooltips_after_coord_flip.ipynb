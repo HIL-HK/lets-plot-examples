{
 "cells": [
  {
   "cell_type": "code",
   "execution_count": 1,
   "id": "willing-scope",
   "metadata": {
    "execution": {
     "iopub.execute_input": "2024-11-06T19:13:01.161660Z",
     "iopub.status.busy": "2024-11-06T19:13:01.160756Z",
     "iopub.status.idle": "2024-11-06T19:13:01.595214Z",
     "shell.execute_reply": "2024-11-06T19:13:01.594971Z"
    }
   },
   "outputs": [
    {
     "data": {
      "text/html": [
       "\n",
       "            <div id=\"awZ80f\"></div>\n",
       "            <script type=\"text/javascript\" data-lets-plot-script=\"library\">\n",
       "                if(!window.letsPlotCallQueue) {\n",
       "                    window.letsPlotCallQueue = [];\n",
       "                }; \n",
       "                window.letsPlotCall = function(f) {\n",
       "                    window.letsPlotCallQueue.push(f);\n",
       "                };\n",
       "                (function() {\n",
       "                    var script = document.createElement(\"script\");\n",
       "                    script.type = \"text/javascript\";\n",
       "                    script.src = \"https://cdn.jsdelivr.net/gh/JetBrains/lets-plot@v4.5.1/js-package/distr/lets-plot.min.js\";\n",
       "                    script.onload = function() {\n",
       "                        window.letsPlotCall = function(f) {f();};\n",
       "                        window.letsPlotCallQueue.forEach(function(f) {f();});\n",
       "                        window.letsPlotCallQueue = [];\n",
       "                        \n",
       "                    };\n",
       "                    script.onerror = function(event) {\n",
       "                        window.letsPlotCall = function(f) {};    // noop\n",
       "                        window.letsPlotCallQueue = [];\n",
       "                        var div = document.createElement(\"div\");\n",
       "                        div.style.color = 'darkred';\n",
       "                        div.textContent = 'Error loading Lets-Plot JS';\n",
       "                        document.getElementById(\"awZ80f\").appendChild(div);\n",
       "                    };\n",
       "                    var e = document.getElementById(\"awZ80f\");\n",
       "                    e.appendChild(script);\n",
       "                })()\n",
       "            </script>\n",
       "            "
      ]
     },
     "metadata": {},
     "output_type": "display_data"
    }
   ],
   "source": [
    "import numpy as np\n",
    "from lets_plot import *\n",
    "LetsPlot.setup_html()"
   ]
  },
  {
   "cell_type": "code",
   "execution_count": 2,
   "id": "ancient-fifth",
   "metadata": {
    "execution": {
     "iopub.execute_input": "2024-11-06T19:13:01.596419Z",
     "iopub.status.busy": "2024-11-06T19:13:01.596286Z",
     "iopub.status.idle": "2024-11-06T19:13:01.626227Z",
     "shell.execute_reply": "2024-11-06T19:13:01.626008Z"
    }
   },
   "outputs": [
    {
     "data": {
      "text/html": [
       "   <div id=\"rkDou8\"></div>\n",
       "   <script type=\"text/javascript\" data-lets-plot-script=\"plot\">\n",
       "   \n",
       "   (function() {\n",
       "   // ----------\n",
       "   \n",
       "   var containerDiv = document.getElementById(\"rkDou8\");\n",
       "   var observer = new ResizeObserver(function(entries) {\n",
       "       for (let entry of entries) {\n",
       "           var width = containerDiv.clientWidth\n",
       "           if (entry.contentBoxSize && width > 0) {\n",
       "           \n",
       "               // Render plot\n",
       "               if (observer) {\n",
       "                   observer.disconnect();\n",
       "                   observer = null;\n",
       "               }\n",
       "\n",
       "               var plotSpec={\n",
       "\"data\":{\n",
       "},\n",
       "\"mapping\":{\n",
       "\"x\":\"x\",\n",
       "\"y\":\"y\",\n",
       "\"color\":\"x\"\n",
       "},\n",
       "\"data_meta\":{\n",
       "\"series_annotations\":[{\n",
       "\"type\":\"str\",\n",
       "\"column\":\"x\"\n",
       "},{\n",
       "\"type\":\"float\",\n",
       "\"column\":\"y\"\n",
       "}]\n",
       "},\n",
       "\"coord\":{\n",
       "\"name\":\"flip\",\n",
       "\"flip\":true\n",
       "},\n",
       "\"kind\":\"plot\",\n",
       "\"scales\":[],\n",
       "\"layers\":[{\n",
       "\"geom\":\"boxplot\",\n",
       "\"mapping\":{\n",
       "},\n",
       "\"data_meta\":{\n",
       "},\n",
       "\"data\":{\n",
       "\"..middle..\":[-0.004191884047736507,0.8788393487900246],\n",
       "\"..lower..\":[-0.7082022559518601,0.18854180151030575],\n",
       "\"..upper..\":[0.5049907930622943,1.488202091042813],\n",
       "\"..ymin..\":[-1.9875689146008928,-1.3238957243098068],\n",
       "\"..ymax..\":[2.1904556258099785,3.1146585666735085],\n",
       "\"x\":[\"A\",\"B\"]\n",
       "}\n",
       "},{\n",
       "\"geom\":\"point\",\n",
       "\"stat\":\"boxplot_outlier\",\n",
       "\"mapping\":{\n",
       "},\n",
       "\"show_legend\":false,\n",
       "\"data_meta\":{\n",
       "},\n",
       "\"data\":{\n",
       "\"..middle..\":[-0.004191884047736507,-0.004191884047736507,-0.004191884047736507,0.8788393487900246,0.8788393487900246],\n",
       "\"..lower..\":[-0.7082022559518601,-0.7082022559518601,-0.7082022559518601,0.18854180151030575,0.18854180151030575],\n",
       "\"..upper..\":[0.5049907930622943,0.5049907930622943,0.5049907930622943,1.488202091042813,1.488202091042813],\n",
       "\"..ymin..\":[-1.9875689146008928,-1.9875689146008928,-1.9875689146008928,-1.3238957243098068,-1.3238957243098068],\n",
       "\"..ymax..\":[2.1904556258099785,2.1904556258099785,2.1904556258099785,3.1146585666735085,3.1146585666735085],\n",
       "\"x\":[\"A\",\"A\",\"A\",\"B\",\"B\"],\n",
       "\"y\":[-2.6197451040897444,2.463242112485286,2.720169166589619,4.652731490654721,-2.4412673400690723]\n",
       "}\n",
       "}],\n",
       "\"metainfo_list\":[],\n",
       "\"spec_id\":\"1\"\n",
       "};\n",
       "               window.letsPlotCall(function() {\n",
       "       \n",
       "               var toolbar = null;\n",
       "               var plotContainer = containerDiv;               \n",
       "               \n",
       "                   var options = {\n",
       "                       sizing: {\n",
       "                           width_mode: \"min\",\n",
       "                           height_mode: \"scaled\",\n",
       "                           width: width\n",
       "                       }\n",
       "                   };\n",
       "                   var fig = LetsPlot.buildPlotFromProcessedSpecs(plotSpec, -1, -1, plotContainer, options);\n",
       "                   if (toolbar) {\n",
       "                     toolbar.bind(fig);\n",
       "                   }\n",
       "               });\n",
       "               \n",
       "               break;\n",
       "           }\n",
       "       }\n",
       "   });\n",
       "   \n",
       "   observer.observe(containerDiv);\n",
       "   \n",
       "   // ----------\n",
       "   })();\n",
       "   \n",
       "   </script>"
      ],
      "text/plain": [
       "<lets_plot.plot.core.PlotSpec at 0x1486f0c40>"
      ]
     },
     "execution_count": 2,
     "metadata": {},
     "output_type": "execute_result"
    }
   ],
   "source": [
    "n = 200\n",
    "np.random.seed(42)\n",
    "\n",
    "x = np.repeat(['A','B'], n)\n",
    "y = np.concatenate((np.random.normal(0, 1, n), np.random.normal(.8, 1, n)))\n",
    "\n",
    "ggplot({'x': x, 'y': y}, aes(x='x', y='y', color='x')) + geom_boxplot() + coord_flip()"
   ]
  }
 ],
 "metadata": {
  "kernelspec": {
   "display_name": "Python 3 (ipykernel)",
   "language": "python",
   "name": "python3"
  },
  "language_info": {
   "codemirror_mode": {
    "name": "ipython",
    "version": 3
   },
   "file_extension": ".py",
   "mimetype": "text/x-python",
   "name": "python",
   "nbconvert_exporter": "python",
   "pygments_lexer": "ipython3",
   "version": "3.10.15"
  }
 },
 "nbformat": 4,
 "nbformat_minor": 5
}
