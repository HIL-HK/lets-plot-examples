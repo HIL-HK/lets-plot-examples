{
 "cells": [
  {
   "cell_type": "code",
   "execution_count": 1,
   "id": "devoted-travel",
   "metadata": {
    "execution": {
     "iopub.execute_input": "2024-10-25T18:18:54.659828Z",
     "iopub.status.busy": "2024-10-25T18:18:54.659485Z",
     "iopub.status.idle": "2024-10-25T18:18:55.096642Z",
     "shell.execute_reply": "2024-10-25T18:18:55.096337Z"
    }
   },
   "outputs": [
    {
     "data": {
      "text/html": [
       "\n",
       "            <div id=\"PCKWtu\"></div>\n",
       "            <script type=\"text/javascript\" data-lets-plot-script=\"library\">\n",
       "                if(!window.letsPlotCallQueue) {\n",
       "                    window.letsPlotCallQueue = [];\n",
       "                }; \n",
       "                window.letsPlotCall = function(f) {\n",
       "                    window.letsPlotCallQueue.push(f);\n",
       "                };\n",
       "                (function() {\n",
       "                    var script = document.createElement(\"script\");\n",
       "                    script.type = \"text/javascript\";\n",
       "                    script.src = \"https://cdn.jsdelivr.net/gh/JetBrains/lets-plot@v4.5.1/js-package/distr/lets-plot.min.js\";\n",
       "                    script.onload = function() {\n",
       "                        window.letsPlotCall = function(f) {f();};\n",
       "                        window.letsPlotCallQueue.forEach(function(f) {f();});\n",
       "                        window.letsPlotCallQueue = [];\n",
       "                        \n",
       "                    };\n",
       "                    script.onerror = function(event) {\n",
       "                        window.letsPlotCall = function(f) {};    // noop\n",
       "                        window.letsPlotCallQueue = [];\n",
       "                        var div = document.createElement(\"div\");\n",
       "                        div.style.color = 'darkred';\n",
       "                        div.textContent = 'Error loading Lets-Plot JS';\n",
       "                        document.getElementById(\"PCKWtu\").appendChild(div);\n",
       "                    };\n",
       "                    var e = document.getElementById(\"PCKWtu\");\n",
       "                    e.appendChild(script);\n",
       "                })()\n",
       "            </script>\n",
       "            "
      ]
     },
     "metadata": {},
     "output_type": "display_data"
    }
   ],
   "source": [
    "import numpy as np\n",
    "from lets_plot import *\n",
    "LetsPlot.setup_html()"
   ]
  },
  {
   "cell_type": "code",
   "execution_count": 2,
   "id": "productive-semester",
   "metadata": {
    "execution": {
     "iopub.execute_input": "2024-10-25T18:18:55.097927Z",
     "iopub.status.busy": "2024-10-25T18:18:55.097805Z",
     "iopub.status.idle": "2024-10-25T18:18:55.129734Z",
     "shell.execute_reply": "2024-10-25T18:18:55.129520Z"
    }
   },
   "outputs": [
    {
     "data": {
      "text/html": [
       "   <div id=\"SE3dsr\"></div>\n",
       "   <script type=\"text/javascript\" data-lets-plot-script=\"plot\">\n",
       "   \n",
       "   (function() {\n",
       "   // ----------\n",
       "   \n",
       "   var containerDiv = document.getElementById(\"SE3dsr\");\n",
       "   var observer = new ResizeObserver(function(entries) {\n",
       "       for (let entry of entries) {\n",
       "           var width = containerDiv.clientWidth\n",
       "           if (entry.contentBoxSize && width > 0) {\n",
       "           \n",
       "               // Render plot\n",
       "               if (observer) {\n",
       "                   observer.disconnect();\n",
       "                   observer = null;\n",
       "               }\n",
       "\n",
       "               var plotSpec={\n",
       "\"data\":{\n",
       "},\n",
       "\"mapping\":{\n",
       "\"x\":\"x\",\n",
       "\"y\":\"y\"\n",
       "},\n",
       "\"data_meta\":{\n",
       "\"series_annotations\":[{\n",
       "\"type\":\"str\",\n",
       "\"column\":\"x\"\n",
       "},{\n",
       "\"type\":\"float\",\n",
       "\"column\":\"y\"\n",
       "}]\n",
       "},\n",
       "\"kind\":\"plot\",\n",
       "\"scales\":[],\n",
       "\"layers\":[{\n",
       "\"geom\":\"boxplot\",\n",
       "\"mapping\":{\n",
       "},\n",
       "\"data_meta\":{\n",
       "},\n",
       "\"whisker_width\":0.2,\n",
       "\"data\":{\n",
       "\"..middle..\":[0.17555329395483268,-0.0073801499445730065,-0.028463391521671683],\n",
       "\"..lower..\":[-0.513924467938416,-0.38826439897661413,-0.5007890008265612],\n",
       "\"..upper..\":[0.6611061177015407,0.9035324906258424,0.6547384441356571],\n",
       "\"..ymin..\":[-1.5081532895474827,-2.0223149331957355,-1.1497925774943585],\n",
       "\"..ymax..\":[1.4039587386592935,2.5391627162693324,1.706604953678462],\n",
       "\"x\":[\"c\",\"a\",\"b\"]\n",
       "}\n",
       "},{\n",
       "\"geom\":\"point\",\n",
       "\"stat\":\"boxplot_outlier\",\n",
       "\"mapping\":{\n",
       "},\n",
       "\"show_legend\":false,\n",
       "\"data_meta\":{\n",
       "},\n",
       "\"data\":{\n",
       "\"..middle..\":[0.17555329395483268,-0.0073801499445730065,-0.028463391521671683],\n",
       "\"..lower..\":[-0.513924467938416,-0.38826439897661413,-0.5007890008265612],\n",
       "\"..upper..\":[0.6611061177015407,0.9035324906258424,0.6547384441356571],\n",
       "\"..ymin..\":[-1.5081532895474827,-2.0223149331957355,-1.1497925774943585],\n",
       "\"..ymax..\":[1.4039587386592935,2.5391627162693324,1.706604953678462],\n",
       "\"x\":[\"c\",\"a\",\"b\"],\n",
       "\"y\":[NaN,3.372296253626673,-2.65517604756347]\n",
       "}\n",
       "}],\n",
       "\"metainfo_list\":[],\n",
       "\"spec_id\":\"1\"\n",
       "};\n",
       "               window.letsPlotCall(function() {\n",
       "       \n",
       "               var toolbar = null;\n",
       "               var plotContainer = containerDiv;               \n",
       "               \n",
       "                   var options = {\n",
       "                       sizing: {\n",
       "                           width_mode: \"min\",\n",
       "                           height_mode: \"scaled\",\n",
       "                           width: width\n",
       "                       }\n",
       "                   };\n",
       "                   var fig = LetsPlot.buildPlotFromProcessedSpecs(plotSpec, -1, -1, plotContainer, options);\n",
       "                   if (toolbar) {\n",
       "                     toolbar.bind(fig);\n",
       "                   }\n",
       "               });\n",
       "               \n",
       "               break;\n",
       "           }\n",
       "       }\n",
       "   });\n",
       "   \n",
       "   observer.observe(containerDiv);\n",
       "   \n",
       "   // ----------\n",
       "   })();\n",
       "   \n",
       "   </script>"
      ],
      "text/plain": [
       "<lets_plot.plot.core.PlotSpec at 0x121c1e0b0>"
      ]
     },
     "execution_count": 2,
     "metadata": {},
     "output_type": "execute_result"
    }
   ],
   "source": [
    "n = 100\n",
    "np.random.seed(42)\n",
    "x = np.random.choice(['a', 'b', 'c'], size=n)\n",
    "y = np.random.normal(size=n)\n",
    "ggplot({'x': x, 'y': y}, aes(x='x', y='y')) + geom_boxplot(whisker_width=0.2)"
   ]
  }
 ],
 "metadata": {
  "kernelspec": {
   "display_name": "Python 3 (ipykernel)",
   "language": "python",
   "name": "python3"
  },
  "language_info": {
   "codemirror_mode": {
    "name": "ipython",
    "version": 3
   },
   "file_extension": ".py",
   "mimetype": "text/x-python",
   "name": "python",
   "nbconvert_exporter": "python",
   "pygments_lexer": "ipython3",
   "version": "3.10.15"
  }
 },
 "nbformat": 4,
 "nbformat_minor": 5
}
