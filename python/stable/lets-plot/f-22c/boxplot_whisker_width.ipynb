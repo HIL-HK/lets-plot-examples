{
 "cells": [
  {
   "cell_type": "code",
   "execution_count": 1,
   "id": "devoted-travel",
   "metadata": {
    "execution": {
     "iopub.execute_input": "2024-09-27T17:58:50.024946Z",
     "iopub.status.busy": "2024-09-27T17:58:50.024626Z",
     "iopub.status.idle": "2024-09-27T17:58:50.450790Z",
     "shell.execute_reply": "2024-09-27T17:58:50.450551Z"
    }
   },
   "outputs": [
    {
     "data": {
      "text/html": [
       "\n",
       "            <div id=\"7Mg1La\"></div>\n",
       "            <script type=\"text/javascript\" data-lets-plot-script=\"library\">\n",
       "                if(!window.letsPlotCallQueue) {\n",
       "                    window.letsPlotCallQueue = [];\n",
       "                }; \n",
       "                window.letsPlotCall = function(f) {\n",
       "                    window.letsPlotCallQueue.push(f);\n",
       "                };\n",
       "                (function() {\n",
       "                    var script = document.createElement(\"script\");\n",
       "                    script.type = \"text/javascript\";\n",
       "                    script.src = \"https://cdn.jsdelivr.net/gh/JetBrains/lets-plot@v4.4.1/js-package/distr/lets-plot.min.js\";\n",
       "                    script.onload = function() {\n",
       "                        window.letsPlotCall = function(f) {f();};\n",
       "                        window.letsPlotCallQueue.forEach(function(f) {f();});\n",
       "                        window.letsPlotCallQueue = [];\n",
       "                        \n",
       "                    };\n",
       "                    script.onerror = function(event) {\n",
       "                        window.letsPlotCall = function(f) {};    // noop\n",
       "                        window.letsPlotCallQueue = [];\n",
       "                        var div = document.createElement(\"div\");\n",
       "                        div.style.color = 'darkred';\n",
       "                        div.textContent = 'Error loading Lets-Plot JS';\n",
       "                        document.getElementById(\"7Mg1La\").appendChild(div);\n",
       "                    };\n",
       "                    var e = document.getElementById(\"7Mg1La\");\n",
       "                    e.appendChild(script);\n",
       "                })()\n",
       "            </script>\n",
       "            "
      ]
     },
     "metadata": {},
     "output_type": "display_data"
    }
   ],
   "source": [
    "import numpy as np\n",
    "from lets_plot import *\n",
    "LetsPlot.setup_html()"
   ]
  },
  {
   "cell_type": "code",
   "execution_count": 2,
   "id": "productive-semester",
   "metadata": {
    "execution": {
     "iopub.execute_input": "2024-09-27T17:58:50.452019Z",
     "iopub.status.busy": "2024-09-27T17:58:50.451907Z",
     "iopub.status.idle": "2024-09-27T17:58:50.481287Z",
     "shell.execute_reply": "2024-09-27T17:58:50.481064Z"
    }
   },
   "outputs": [
    {
     "data": {
      "text/html": [
       "   <div id=\"wOlT7i\"></div>\n",
       "   <script type=\"text/javascript\" data-lets-plot-script=\"plot\">\n",
       "       (function() {\n",
       "           var plotSpec={\n",
       "\"data\":{\n",
       "},\n",
       "\"mapping\":{\n",
       "\"x\":\"x\",\n",
       "\"y\":\"y\"\n",
       "},\n",
       "\"data_meta\":{\n",
       "\"series_annotations\":[{\n",
       "\"type\":\"str\",\n",
       "\"column\":\"x\"\n",
       "},{\n",
       "\"type\":\"float\",\n",
       "\"column\":\"y\"\n",
       "}]\n",
       "},\n",
       "\"kind\":\"plot\",\n",
       "\"scales\":[],\n",
       "\"layers\":[{\n",
       "\"geom\":\"boxplot\",\n",
       "\"mapping\":{\n",
       "},\n",
       "\"data_meta\":{\n",
       "},\n",
       "\"whisker_width\":0.2,\n",
       "\"data\":{\n",
       "\"..middle..\":[0.17555329395483268,-0.0073801499445730065,-0.028463391521671683],\n",
       "\"..lower..\":[-0.513924467938416,-0.38826439897661413,-0.5007890008265612],\n",
       "\"..upper..\":[0.6611061177015407,0.9035324906258424,0.6547384441356571],\n",
       "\"..ymin..\":[-1.5081532895474827,-2.0223149331957355,-1.1497925774943585],\n",
       "\"..ymax..\":[1.4039587386592935,2.5391627162693324,1.706604953678462],\n",
       "\"x\":[\"c\",\"a\",\"b\"]\n",
       "}\n",
       "},{\n",
       "\"geom\":\"point\",\n",
       "\"stat\":\"boxplot_outlier\",\n",
       "\"mapping\":{\n",
       "},\n",
       "\"show_legend\":false,\n",
       "\"data_meta\":{\n",
       "},\n",
       "\"data\":{\n",
       "\"..middle..\":[0.17555329395483268,-0.0073801499445730065,-0.028463391521671683],\n",
       "\"..lower..\":[-0.513924467938416,-0.38826439897661413,-0.5007890008265612],\n",
       "\"..upper..\":[0.6611061177015407,0.9035324906258424,0.6547384441356571],\n",
       "\"..ymin..\":[-1.5081532895474827,-2.0223149331957355,-1.1497925774943585],\n",
       "\"..ymax..\":[1.4039587386592935,2.5391627162693324,1.706604953678462],\n",
       "\"x\":[\"c\",\"a\",\"b\"],\n",
       "\"y\":[NaN,3.372296253626673,-2.65517604756347]\n",
       "}\n",
       "}],\n",
       "\"metainfo_list\":[]\n",
       "};\n",
       "           var plotContainer = document.getElementById(\"wOlT7i\");\n",
       "           window.letsPlotCall(function() {{\n",
       "               LetsPlot.buildPlotFromProcessedSpecs(plotSpec, -1, -1, plotContainer);\n",
       "           }});\n",
       "       })();\n",
       "   </script>"
      ],
      "text/plain": [
       "<lets_plot.plot.core.PlotSpec at 0x14b683070>"
      ]
     },
     "execution_count": 2,
     "metadata": {},
     "output_type": "execute_result"
    }
   ],
   "source": [
    "n = 100\n",
    "np.random.seed(42)\n",
    "x = np.random.choice(['a', 'b', 'c'], size=n)\n",
    "y = np.random.normal(size=n)\n",
    "ggplot({'x': x, 'y': y}, aes(x='x', y='y')) + geom_boxplot(whisker_width=0.2)"
   ]
  }
 ],
 "metadata": {
  "kernelspec": {
   "display_name": "Python 3 (ipykernel)",
   "language": "python",
   "name": "python3"
  },
  "language_info": {
   "codemirror_mode": {
    "name": "ipython",
    "version": 3
   },
   "file_extension": ".py",
   "mimetype": "text/x-python",
   "name": "python",
   "nbconvert_exporter": "python",
   "pygments_lexer": "ipython3",
   "version": "3.10.15"
  }
 },
 "nbformat": 4,
 "nbformat_minor": 5
}
