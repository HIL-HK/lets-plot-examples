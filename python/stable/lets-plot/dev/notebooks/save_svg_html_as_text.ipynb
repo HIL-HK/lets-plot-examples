{
 "cells": [
  {
   "cell_type": "markdown",
   "id": "4b8e310d",
   "metadata": {},
   "source": [
    "### Return the Content into a String Using `to_html()` and `to_svg()`"
   ]
  },
  {
   "cell_type": "code",
   "execution_count": 1,
   "id": "8c2050f6",
   "metadata": {
    "execution": {
     "iopub.execute_input": "2024-10-25T18:16:11.161260Z",
     "iopub.status.busy": "2024-10-25T18:16:11.160781Z",
     "iopub.status.idle": "2024-10-25T18:16:11.582142Z",
     "shell.execute_reply": "2024-10-25T18:16:11.581784Z"
    }
   },
   "outputs": [],
   "source": [
    "import numpy as np\n",
    "import io\n",
    "from IPython import display\n",
    "from lets_plot import *"
   ]
  },
  {
   "cell_type": "code",
   "execution_count": 2,
   "id": "17a6e0d1",
   "metadata": {
    "execution": {
     "iopub.execute_input": "2024-10-25T18:16:11.583465Z",
     "iopub.status.busy": "2024-10-25T18:16:11.583358Z",
     "iopub.status.idle": "2024-10-25T18:16:11.585688Z",
     "shell.execute_reply": "2024-10-25T18:16:11.585475Z"
    }
   },
   "outputs": [
    {
     "data": {
      "text/html": [
       "\n",
       "            <div id=\"P1WwOy\"></div>\n",
       "            <script type=\"text/javascript\" data-lets-plot-script=\"library\">\n",
       "                if(!window.letsPlotCallQueue) {\n",
       "                    window.letsPlotCallQueue = [];\n",
       "                }; \n",
       "                window.letsPlotCall = function(f) {\n",
       "                    window.letsPlotCallQueue.push(f);\n",
       "                };\n",
       "                (function() {\n",
       "                    var script = document.createElement(\"script\");\n",
       "                    script.type = \"text/javascript\";\n",
       "                    script.src = \"https://cdn.jsdelivr.net/gh/JetBrains/lets-plot@v4.5.1/js-package/distr/lets-plot.min.js\";\n",
       "                    script.onload = function() {\n",
       "                        window.letsPlotCall = function(f) {f();};\n",
       "                        window.letsPlotCallQueue.forEach(function(f) {f();});\n",
       "                        window.letsPlotCallQueue = [];\n",
       "                        \n",
       "                    };\n",
       "                    script.onerror = function(event) {\n",
       "                        window.letsPlotCall = function(f) {};    // noop\n",
       "                        window.letsPlotCallQueue = [];\n",
       "                        var div = document.createElement(\"div\");\n",
       "                        div.style.color = 'darkred';\n",
       "                        div.textContent = 'Error loading Lets-Plot JS';\n",
       "                        document.getElementById(\"P1WwOy\").appendChild(div);\n",
       "                    };\n",
       "                    var e = document.getElementById(\"P1WwOy\");\n",
       "                    e.appendChild(script);\n",
       "                })()\n",
       "            </script>\n",
       "            "
      ]
     },
     "metadata": {},
     "output_type": "display_data"
    }
   ],
   "source": [
    "LetsPlot.setup_html()"
   ]
  },
  {
   "cell_type": "code",
   "execution_count": 3,
   "id": "1c4c6a00",
   "metadata": {
    "execution": {
     "iopub.execute_input": "2024-10-25T18:16:11.586707Z",
     "iopub.status.busy": "2024-10-25T18:16:11.586631Z",
     "iopub.status.idle": "2024-10-25T18:16:11.612444Z",
     "shell.execute_reply": "2024-10-25T18:16:11.612137Z"
    }
   },
   "outputs": [],
   "source": [
    "p = ggplot() + geom_point(x=0, y=0)"
   ]
  },
  {
   "cell_type": "code",
   "execution_count": 4,
   "id": "95af2676",
   "metadata": {
    "execution": {
     "iopub.execute_input": "2024-10-25T18:16:11.613629Z",
     "iopub.status.busy": "2024-10-25T18:16:11.613555Z",
     "iopub.status.idle": "2024-10-25T18:16:11.618924Z",
     "shell.execute_reply": "2024-10-25T18:16:11.618723Z"
    },
    "scrolled": false
   },
   "outputs": [
    {
     "data": {
      "text/plain": [
       "'<svg xmlns=\"http://www.w3.org/2000/svg\" xmlns:xlink=\"http://www.w3.org/1999/xlink\" display=\"block\" class=\"plt-container\" width=\"600.0\" height=\"400.0\">\\n  <style type=\"text/css\">\\n  .plt-container {\\n   font-family: Lucida Grande, sans-serif;\\n   user-select: none;\\n   -webkit-user-select: none;\\n   -moz-user-select: none;\\n   -ms-user-select: none;\\n}\\ntext {\\n   text-rendering: optimizeLegibility;\\n}\\n#p6tJKLH .plot-title {\\nfill: #474747;\\nfont-weight: normal;\\n   font-style: normal;font-family: Lucida Grand...'"
      ]
     },
     "execution_count": 4,
     "metadata": {},
     "output_type": "execute_result"
    }
   ],
   "source": [
    "svg = p.to_svg()\n",
    "svg[:500] + '...'"
   ]
  },
  {
   "cell_type": "code",
   "execution_count": 5,
   "id": "729db9c1",
   "metadata": {
    "execution": {
     "iopub.execute_input": "2024-10-25T18:16:11.619943Z",
     "iopub.status.busy": "2024-10-25T18:16:11.619870Z",
     "iopub.status.idle": "2024-10-25T18:16:11.622985Z",
     "shell.execute_reply": "2024-10-25T18:16:11.622741Z"
    }
   },
   "outputs": [
    {
     "data": {
      "image/svg+xml": [
       "<svg xmlns=\"http://www.w3.org/2000/svg\" xmlns:xlink=\"http://www.w3.org/1999/xlink\" display=\"block\" class=\"plt-container\" width=\"600.0\" height=\"400.0\">\n",
       "  <style type=\"text/css\">\n",
       "  .plt-container {\n",
       "   font-family: Lucida Grande, sans-serif;\n",
       "   user-select: none;\n",
       "   -webkit-user-select: none;\n",
       "   -moz-user-select: none;\n",
       "   -ms-user-select: none;\n",
       "}\n",
       "text {\n",
       "   text-rendering: optimizeLegibility;\n",
       "}\n",
       "#p6tJKLH .plot-title {\n",
       "fill: #474747;\n",
       "font-weight: normal;\n",
       "   font-style: normal;font-family: Lucida Grande, sans-serif;\n",
       "font-size: 16.0px;\n",
       "\n",
       "}\n",
       "#p6tJKLH .plot-subtitle {\n",
       "fill: #474747;\n",
       "font-weight: normal;\n",
       "   font-style: normal;font-family: Lucida Grande, sans-serif;\n",
       "font-size: 15.0px;\n",
       "\n",
       "}\n",
       "#p6tJKLH .plot-caption {\n",
       "fill: #474747;\n",
       "font-weight: normal;\n",
       "   font-style: normal;font-family: Lucida Grande, sans-serif;\n",
       "font-size: 13.0px;\n",
       "\n",
       "}\n",
       "#p6tJKLH .hyperlink-element {\n",
       "fill: #118ed8;\n",
       "font-weight: normal;\n",
       "   font-style: normal;\n",
       "}\n",
       "#p6tJKLH .legend-title {\n",
       "fill: #474747;\n",
       "font-weight: normal;\n",
       "   font-style: normal;font-family: Lucida Grande, sans-serif;\n",
       "font-size: 15.0px;\n",
       "\n",
       "}\n",
       "#p6tJKLH .legend-item {\n",
       "fill: #474747;\n",
       "font-weight: normal;\n",
       "   font-style: normal;font-family: Lucida Grande, sans-serif;\n",
       "font-size: 13.0px;\n",
       "\n",
       "}\n",
       "#p6tJKLH .axis-title-x {\n",
       "fill: #474747;\n",
       "font-weight: normal;\n",
       "   font-style: normal;font-family: Lucida Grande, sans-serif;\n",
       "font-size: 15.0px;\n",
       "\n",
       "}\n",
       "#p6tJKLH .axis-text-x {\n",
       "fill: #474747;\n",
       "font-weight: normal;\n",
       "   font-style: normal;font-family: Lucida Grande, sans-serif;\n",
       "font-size: 13.0px;\n",
       "\n",
       "}\n",
       "#d6ZvsVa .axis-tooltip-text-x {\n",
       "fill: #ffffff;\n",
       "font-weight: normal;\n",
       "   font-style: normal;font-family: Lucida Grande, sans-serif;\n",
       "font-size: 13.0px;\n",
       "\n",
       "}\n",
       "#p6tJKLH .axis-title-y {\n",
       "fill: #474747;\n",
       "font-weight: normal;\n",
       "   font-style: normal;font-family: Lucida Grande, sans-serif;\n",
       "font-size: 15.0px;\n",
       "\n",
       "}\n",
       "#p6tJKLH .axis-text-y {\n",
       "fill: #474747;\n",
       "font-weight: normal;\n",
       "   font-style: normal;font-family: Lucida Grande, sans-serif;\n",
       "font-size: 13.0px;\n",
       "\n",
       "}\n",
       "#d6ZvsVa .axis-tooltip-text-y {\n",
       "fill: #ffffff;\n",
       "font-weight: normal;\n",
       "   font-style: normal;font-family: Lucida Grande, sans-serif;\n",
       "font-size: 13.0px;\n",
       "\n",
       "}\n",
       "#p6tJKLH .facet-strip-text-x {\n",
       "fill: #474747;\n",
       "font-weight: normal;\n",
       "   font-style: normal;font-family: Lucida Grande, sans-serif;\n",
       "font-size: 13.0px;\n",
       "\n",
       "}\n",
       "#p6tJKLH .facet-strip-text-y {\n",
       "fill: #474747;\n",
       "font-weight: normal;\n",
       "   font-style: normal;font-family: Lucida Grande, sans-serif;\n",
       "font-size: 13.0px;\n",
       "\n",
       "}\n",
       "#d6ZvsVa .tooltip-text {\n",
       "fill: #474747;\n",
       "font-weight: normal;\n",
       "   font-style: normal;font-family: Lucida Grande, sans-serif;\n",
       "font-size: 13.0px;\n",
       "\n",
       "}\n",
       "#d6ZvsVa .tooltip-title {\n",
       "fill: #474747;\n",
       "font-weight: bold;\n",
       "   font-style: normal;font-family: Lucida Grande, sans-serif;\n",
       "font-size: 13.0px;\n",
       "\n",
       "}\n",
       "#d6ZvsVa .tooltip-label {\n",
       "fill: #474747;\n",
       "font-weight: bold;\n",
       "   font-style: normal;font-family: Lucida Grande, sans-serif;\n",
       "font-size: 13.0px;\n",
       "\n",
       "}\n",
       "\n",
       "  </style>\n",
       "  <g id=\"p6tJKLH\">\n",
       "    <path fill-rule=\"evenodd\" fill=\"rgb(255,255,255)\" fill-opacity=\"1.0\" d=\"M0.0 0.0 L0.0 400.0 L600.0 400.0 L600.0 0.0 Z\">\n",
       "    </path>\n",
       "    <g transform=\"translate(29.5 6.5 ) \">\n",
       "      <g>\n",
       "        <g transform=\"translate(35.01530667574961 0.0 ) \">\n",
       "          <g>\n",
       "            <line x1=\"52.89846933242504\" y1=\"0.0\" x2=\"52.89846933242504\" y2=\"341.0\" stroke=\"rgb(233,233,233)\" stroke-opacity=\"1.0\" stroke-width=\"1.0\" fill=\"none\">\n",
       "            </line>\n",
       "            <line x1=\"158.69540799727514\" y1=\"0.0\" x2=\"158.69540799727514\" y2=\"341.0\" stroke=\"rgb(233,233,233)\" stroke-opacity=\"1.0\" stroke-width=\"1.0\" fill=\"none\">\n",
       "            </line>\n",
       "            <line x1=\"264.4923466621252\" y1=\"0.0\" x2=\"264.4923466621252\" y2=\"341.0\" stroke=\"rgb(233,233,233)\" stroke-opacity=\"1.0\" stroke-width=\"1.0\" fill=\"none\">\n",
       "            </line>\n",
       "            <line x1=\"370.2892853269753\" y1=\"0.0\" x2=\"370.2892853269753\" y2=\"341.0\" stroke=\"rgb(233,233,233)\" stroke-opacity=\"1.0\" stroke-width=\"1.0\" fill=\"none\">\n",
       "            </line>\n",
       "            <line x1=\"476.08622399182536\" y1=\"0.0\" x2=\"476.08622399182536\" y2=\"341.0\" stroke=\"rgb(233,233,233)\" stroke-opacity=\"1.0\" stroke-width=\"1.0\" fill=\"none\">\n",
       "            </line>\n",
       "          </g>\n",
       "        </g>\n",
       "        <g transform=\"translate(35.01530667574961 0.0 ) \">\n",
       "          <g>\n",
       "            <line x1=\"0.0\" y1=\"306.9\" x2=\"528.9846933242504\" y2=\"306.9\" stroke=\"rgb(233,233,233)\" stroke-opacity=\"1.0\" stroke-width=\"1.0\" fill=\"none\">\n",
       "            </line>\n",
       "            <line x1=\"0.0\" y1=\"238.7\" x2=\"528.9846933242504\" y2=\"238.7\" stroke=\"rgb(233,233,233)\" stroke-opacity=\"1.0\" stroke-width=\"1.0\" fill=\"none\">\n",
       "            </line>\n",
       "            <line x1=\"0.0\" y1=\"170.5\" x2=\"528.9846933242504\" y2=\"170.5\" stroke=\"rgb(233,233,233)\" stroke-opacity=\"1.0\" stroke-width=\"1.0\" fill=\"none\">\n",
       "            </line>\n",
       "            <line x1=\"0.0\" y1=\"102.3\" x2=\"528.9846933242504\" y2=\"102.3\" stroke=\"rgb(233,233,233)\" stroke-opacity=\"1.0\" stroke-width=\"1.0\" fill=\"none\">\n",
       "            </line>\n",
       "            <line x1=\"0.0\" y1=\"34.099999999999994\" x2=\"528.9846933242504\" y2=\"34.099999999999994\" stroke=\"rgb(233,233,233)\" stroke-opacity=\"1.0\" stroke-width=\"1.0\" fill=\"none\">\n",
       "            </line>\n",
       "          </g>\n",
       "        </g>\n",
       "      </g>\n",
       "      <g clip-path=\"url(#cTqPHQI)\" clip-bounds-jfx=\"[rect (35.01530667574961, 0.0), (528.9846933242504, 341.0)]\">\n",
       "        <g transform=\"translate(35.01530667574961 0.0 ) \">\n",
       "          <g>\n",
       "            <g>\n",
       "              <g>\n",
       "                <g>\n",
       "                  <circle fill=\"#474747\" stroke=\"#474747\" stroke-opacity=\"0.0\" stroke-width=\"0.0\" cx=\"264.4923466621252\" cy=\"170.5\" r=\"3.3000000000000003\"/>\n",
       "                </g>\n",
       "              </g>\n",
       "            </g>\n",
       "          </g>\n",
       "        </g>\n",
       "        <defs>\n",
       "          <clipPath id=\"cTqPHQI\">\n",
       "            <rect x=\"35.01530667574961\" y=\"0.0\" width=\"528.9846933242504\" height=\"341.0\">\n",
       "            </rect>\n",
       "          </clipPath>\n",
       "        </defs>\n",
       "      </g>\n",
       "      <g>\n",
       "        <g transform=\"translate(35.01530667574961 341.0 ) \">\n",
       "          <g transform=\"translate(52.89846933242504 0.0 ) \">\n",
       "            <line stroke-width=\"1.0\" stroke=\"rgb(71,71,71)\" stroke-opacity=\"1.0\" x2=\"0.0\" y2=\"4.0\">\n",
       "            </line>\n",
       "            <g transform=\"translate(0.0 7.0 ) \">\n",
       "              <text class=\"axis-text-x\" text-anchor=\"middle\" dy=\"0.7em\">\n",
       "                <tspan>-0.4</tspan>\n",
       "              </text>\n",
       "            </g>\n",
       "          </g>\n",
       "          <g transform=\"translate(158.69540799727514 0.0 ) \">\n",
       "            <line stroke-width=\"1.0\" stroke=\"rgb(71,71,71)\" stroke-opacity=\"1.0\" x2=\"0.0\" y2=\"4.0\">\n",
       "            </line>\n",
       "            <g transform=\"translate(0.0 7.0 ) \">\n",
       "              <text class=\"axis-text-x\" text-anchor=\"middle\" dy=\"0.7em\">\n",
       "                <tspan>-0.2</tspan>\n",
       "              </text>\n",
       "            </g>\n",
       "          </g>\n",
       "          <g transform=\"translate(264.4923466621252 0.0 ) \">\n",
       "            <line stroke-width=\"1.0\" stroke=\"rgb(71,71,71)\" stroke-opacity=\"1.0\" x2=\"0.0\" y2=\"4.0\">\n",
       "            </line>\n",
       "            <g transform=\"translate(0.0 7.0 ) \">\n",
       "              <text class=\"axis-text-x\" text-anchor=\"middle\" dy=\"0.7em\">\n",
       "                <tspan>0.0</tspan>\n",
       "              </text>\n",
       "            </g>\n",
       "          </g>\n",
       "          <g transform=\"translate(370.2892853269753 0.0 ) \">\n",
       "            <line stroke-width=\"1.0\" stroke=\"rgb(71,71,71)\" stroke-opacity=\"1.0\" x2=\"0.0\" y2=\"4.0\">\n",
       "            </line>\n",
       "            <g transform=\"translate(0.0 7.0 ) \">\n",
       "              <text class=\"axis-text-x\" text-anchor=\"middle\" dy=\"0.7em\">\n",
       "                <tspan>0.2</tspan>\n",
       "              </text>\n",
       "            </g>\n",
       "          </g>\n",
       "          <g transform=\"translate(476.08622399182536 0.0 ) \">\n",
       "            <line stroke-width=\"1.0\" stroke=\"rgb(71,71,71)\" stroke-opacity=\"1.0\" x2=\"0.0\" y2=\"4.0\">\n",
       "            </line>\n",
       "            <g transform=\"translate(0.0 7.0 ) \">\n",
       "              <text class=\"axis-text-x\" text-anchor=\"middle\" dy=\"0.7em\">\n",
       "                <tspan>0.4</tspan>\n",
       "              </text>\n",
       "            </g>\n",
       "          </g>\n",
       "          <line x1=\"0.0\" y1=\"0.0\" x2=\"528.9846933242504\" y2=\"0.0\" stroke-width=\"1.0\" stroke=\"rgb(71,71,71)\" stroke-opacity=\"1.0\">\n",
       "          </line>\n",
       "        </g>\n",
       "        <g transform=\"translate(35.01530667574961 0.0 ) \">\n",
       "          <g transform=\"translate(0.0 306.9 ) \">\n",
       "            <g transform=\"translate(-3.0 0.0 ) \">\n",
       "              <text class=\"axis-text-y\" text-anchor=\"end\" dy=\"0.35em\">\n",
       "                <tspan>-0.4</tspan>\n",
       "              </text>\n",
       "            </g>\n",
       "          </g>\n",
       "          <g transform=\"translate(0.0 238.7 ) \">\n",
       "            <g transform=\"translate(-3.0 0.0 ) \">\n",
       "              <text class=\"axis-text-y\" text-anchor=\"end\" dy=\"0.35em\">\n",
       "                <tspan>-0.2</tspan>\n",
       "              </text>\n",
       "            </g>\n",
       "          </g>\n",
       "          <g transform=\"translate(0.0 170.5 ) \">\n",
       "            <g transform=\"translate(-3.0 0.0 ) \">\n",
       "              <text class=\"axis-text-y\" text-anchor=\"end\" dy=\"0.35em\">\n",
       "                <tspan>0.0</tspan>\n",
       "              </text>\n",
       "            </g>\n",
       "          </g>\n",
       "          <g transform=\"translate(0.0 102.3 ) \">\n",
       "            <g transform=\"translate(-3.0 0.0 ) \">\n",
       "              <text class=\"axis-text-y\" text-anchor=\"end\" dy=\"0.35em\">\n",
       "                <tspan>0.2</tspan>\n",
       "              </text>\n",
       "            </g>\n",
       "          </g>\n",
       "          <g transform=\"translate(0.0 34.099999999999994 ) \">\n",
       "            <g transform=\"translate(-3.0 0.0 ) \">\n",
       "              <text class=\"axis-text-y\" text-anchor=\"end\" dy=\"0.35em\">\n",
       "                <tspan>0.4</tspan>\n",
       "              </text>\n",
       "            </g>\n",
       "          </g>\n",
       "        </g>\n",
       "      </g>\n",
       "    </g>\n",
       "    <g transform=\"translate(16.0 177.0 ) rotate(-90.0 ) \">\n",
       "      <text class=\"axis-title-y\" y=\"0.0\" text-anchor=\"middle\">\n",
       "        <tspan>y</tspan>\n",
       "      </text>\n",
       "    </g>\n",
       "    <g transform=\"translate(329.00765333787484 393.0 ) \">\n",
       "      <text class=\"axis-title-x\" y=\"0.0\" text-anchor=\"middle\">\n",
       "        <tspan>x</tspan>\n",
       "      </text>\n",
       "    </g>\n",
       "    <path fill=\"rgb(0,0,0)\" fill-opacity=\"0.0\" stroke=\"rgb(71,71,71)\" stroke-opacity=\"1.0\" stroke-width=\"0.0\" d=\"M0.0 0.0 L0.0 400.0 L600.0 400.0 L600.0 0.0 Z\" pointer-events=\"none\">\n",
       "    </path>\n",
       "  </g>\n",
       "  <g id=\"d6ZvsVa\">\n",
       "  </g>\n",
       "</svg>"
      ],
      "text/plain": [
       "<IPython.core.display.SVG object>"
      ]
     },
     "execution_count": 5,
     "metadata": {},
     "output_type": "execute_result"
    }
   ],
   "source": [
    "display.SVG(svg)"
   ]
  },
  {
   "cell_type": "code",
   "execution_count": 6,
   "id": "663b4ab3",
   "metadata": {
    "execution": {
     "iopub.execute_input": "2024-10-25T18:16:11.624026Z",
     "iopub.status.busy": "2024-10-25T18:16:11.623950Z",
     "iopub.status.idle": "2024-10-25T18:16:11.626267Z",
     "shell.execute_reply": "2024-10-25T18:16:11.626060Z"
    }
   },
   "outputs": [
    {
     "data": {
      "text/plain": [
       "'<html lang=\"en\">\\n   <head>\\n       <meta charset=\"UTF-8\">\\n       <script type=\"text/javascript\" data-lets-plot-script=\"library\" src=\"https://cdn.jsdelivr.net/gh/JetBrains/lets-plot@v4.5.1/js-package/distr/lets-plot.min.js\"></script>\\n   </head>\\n   <body>\\n          <div id=\"yPLJNi\"></div>\\n   <script type=\"text/javascript\" data-lets-plot-script=\"plot\">\\n   \\n   (function() {\\n   // ----------\\n   \\n   var containerDiv = document.getElementById(\"yPLJNi\");\\n   var observer = new ResizeObserver(function(entries) {\\n       for (let entry of entries) {\\n           var width = containerDiv.clientWidth\\n           if (entry.contentBoxSize && width > 0) {\\n           \\n               // Render plot\\n               if (observer) {\\n                   observer.disconnect();\\n                   observer = null;\\n               }\\n\\n               var plotSpec={\\n\"mapping\":{\\n},\\n\"data_meta\":{\\n},\\n\"kind\":\"plot\",\\n\"scales\":[],\\n\"layers\":[{\\n\"geom\":\"point\",\\n\"mapping\":{\\n},\\n\"data_meta\":{\\n},\\n\"x\":0.0,\\n\"y\":0.0,\\n\"data\":{\\n}\\n}],\\n\"metainfo_list\":[],\\n\"spec_id\":\"2\"\\n};\\n       \\n               var toolbar = null;\\n               var plotContainer = containerDiv;               \\n               \\n               var options = {\\n                   sizing: {\\n                       width_mode: \"min\",\\n                       height_mode: \"scaled\",\\n                       width: width\\n                   }\\n               };\\n               var fig = LetsPlot.buildPlotFromProcessedSpecs(plotSpec, -1, -1, plotContainer, options);\\n               if (toolbar) {\\n                 toolbar.bind(fig);\\n               }\\n               \\n               break;\\n           }\\n       }\\n   });\\n   \\n   observer.observe(containerDiv);\\n   \\n   // ----------\\n   })();\\n   \\n   </script>\\n   </body>\\n</html>'"
      ]
     },
     "execution_count": 6,
     "metadata": {},
     "output_type": "execute_result"
    }
   ],
   "source": [
    "html = p.to_html()\n",
    "html"
   ]
  },
  {
   "cell_type": "code",
   "execution_count": 7,
   "id": "92030feb",
   "metadata": {
    "execution": {
     "iopub.execute_input": "2024-10-25T18:16:11.627217Z",
     "iopub.status.busy": "2024-10-25T18:16:11.627147Z",
     "iopub.status.idle": "2024-10-25T18:16:11.629646Z",
     "shell.execute_reply": "2024-10-25T18:16:11.629449Z"
    }
   },
   "outputs": [
    {
     "data": {
      "text/plain": [
       "'            <iframe src=\\'about:blank\\' style=\\'border:none !important;\\' width=\\'600\\' height=\\'400\\' srcdoc=\"&lt;html lang=&quot;en&quot;>\\n   &lt;head>\\n       &lt;meta charset=&quot;UTF-8&quot;>\\n       &lt;style> html, body { margin: 0; overflow: hidden; } &lt;/style>\\n       &lt;script type=&quot;text/javascript&quot; data-lets-plot-script=&quot;library&quot; src=&quot;https://cdn.jsdelivr.net/gh/JetBrains/lets-plot@v4.5.1/js-package/distr/lets-plot.min.js&quot;>&lt;/script>\\n   &lt;/head>\\n   &lt;body>\\n          &lt;div id=&quot;9fWDdN&quot;>&lt;/div>\\n   &lt;script type=&quot;text/javascript&quot; data-lets-plot-script=&quot;plot&quot;>\\n   \\n   (function() {\\n   // ----------\\n   \\n       var plotSpec={\\n&quot;mapping&quot;:{\\n},\\n&quot;data_meta&quot;:{\\n},\\n&quot;kind&quot;:&quot;plot&quot;,\\n&quot;scales&quot;:[],\\n&quot;layers&quot;:[{\\n&quot;geom&quot;:&quot;point&quot;,\\n&quot;mapping&quot;:{\\n},\\n&quot;data_meta&quot;:{\\n},\\n&quot;x&quot;:0.0,\\n&quot;y&quot;:0.0,\\n&quot;data&quot;:{\\n}\\n}],\\n&quot;metainfo_list&quot;:[],\\n&quot;spec_id&quot;:&quot;4&quot;\\n};\\n       var containerDiv = document.getElementById(&quot;9fWDdN&quot;);\\n       \\n               var toolbar = null;\\n               var plotContainer = containerDiv;               \\n               \\n       var options = {\\n           sizing: {\\n               width_mode: &quot;fixed&quot;,\\n               height_mode: &quot;fixed&quot;,\\n               width: 600.0,\\n               height: 400.0\\n           }\\n       };\\n       var fig = LetsPlot.buildPlotFromProcessedSpecs(plotSpec, -1, -1, plotContainer, options);\\n       if (toolbar) {\\n         toolbar.bind(fig);\\n       }\\n       \\n   // ----------\\n   })();\\n   \\n   &lt;/script>\\n   &lt;/body>\\n&lt;/html>\"></iframe>    '"
      ]
     },
     "execution_count": 7,
     "metadata": {},
     "output_type": "execute_result"
    }
   ],
   "source": [
    "p.to_html(iframe=True)"
   ]
  },
  {
   "cell_type": "code",
   "execution_count": 8,
   "id": "af51a603",
   "metadata": {
    "execution": {
     "iopub.execute_input": "2024-10-25T18:16:11.630608Z",
     "iopub.status.busy": "2024-10-25T18:16:11.630538Z",
     "iopub.status.idle": "2024-10-25T18:16:11.632577Z",
     "shell.execute_reply": "2024-10-25T18:16:11.632328Z"
    }
   },
   "outputs": [
    {
     "data": {
      "text/html": [
       "<html lang=\"en\">\n",
       "   <head>\n",
       "       <meta charset=\"UTF-8\">\n",
       "       <script type=\"text/javascript\" data-lets-plot-script=\"library\" src=\"https://cdn.jsdelivr.net/gh/JetBrains/lets-plot@v4.5.1/js-package/distr/lets-plot.min.js\"></script>\n",
       "   </head>\n",
       "   <body>\n",
       "          <div id=\"yPLJNi\"></div>\n",
       "   <script type=\"text/javascript\" data-lets-plot-script=\"plot\">\n",
       "   \n",
       "   (function() {\n",
       "   // ----------\n",
       "   \n",
       "   var containerDiv = document.getElementById(\"yPLJNi\");\n",
       "   var observer = new ResizeObserver(function(entries) {\n",
       "       for (let entry of entries) {\n",
       "           var width = containerDiv.clientWidth\n",
       "           if (entry.contentBoxSize && width > 0) {\n",
       "           \n",
       "               // Render plot\n",
       "               if (observer) {\n",
       "                   observer.disconnect();\n",
       "                   observer = null;\n",
       "               }\n",
       "\n",
       "               var plotSpec={\n",
       "\"mapping\":{\n",
       "},\n",
       "\"data_meta\":{\n",
       "},\n",
       "\"kind\":\"plot\",\n",
       "\"scales\":[],\n",
       "\"layers\":[{\n",
       "\"geom\":\"point\",\n",
       "\"mapping\":{\n",
       "},\n",
       "\"data_meta\":{\n",
       "},\n",
       "\"x\":0.0,\n",
       "\"y\":0.0,\n",
       "\"data\":{\n",
       "}\n",
       "}],\n",
       "\"metainfo_list\":[],\n",
       "\"spec_id\":\"2\"\n",
       "};\n",
       "       \n",
       "               var toolbar = null;\n",
       "               var plotContainer = containerDiv;               \n",
       "               \n",
       "               var options = {\n",
       "                   sizing: {\n",
       "                       width_mode: \"min\",\n",
       "                       height_mode: \"scaled\",\n",
       "                       width: width\n",
       "                   }\n",
       "               };\n",
       "               var fig = LetsPlot.buildPlotFromProcessedSpecs(plotSpec, -1, -1, plotContainer, options);\n",
       "               if (toolbar) {\n",
       "                 toolbar.bind(fig);\n",
       "               }\n",
       "               \n",
       "               break;\n",
       "           }\n",
       "       }\n",
       "   });\n",
       "   \n",
       "   observer.observe(containerDiv);\n",
       "   \n",
       "   // ----------\n",
       "   })();\n",
       "   \n",
       "   </script>\n",
       "   </body>\n",
       "</html>"
      ],
      "text/plain": [
       "<IPython.core.display.HTML object>"
      ]
     },
     "execution_count": 8,
     "metadata": {},
     "output_type": "execute_result"
    }
   ],
   "source": [
    "display.HTML(html)"
   ]
  },
  {
   "cell_type": "code",
   "execution_count": 9,
   "id": "99b2c196",
   "metadata": {
    "execution": {
     "iopub.execute_input": "2024-10-25T18:16:11.633518Z",
     "iopub.status.busy": "2024-10-25T18:16:11.633446Z",
     "iopub.status.idle": "2024-10-25T18:16:11.636189Z",
     "shell.execute_reply": "2024-10-25T18:16:11.635949Z"
    }
   },
   "outputs": [
    {
     "data": {
      "text/plain": [
       "'/Users/earkhipova/Projects/lets-plot-examples/python/stable/lets-plot/dev/notebooks/lets-plot-images/hist_plot.html'"
      ]
     },
     "execution_count": 9,
     "metadata": {},
     "output_type": "execute_result"
    }
   ],
   "source": [
    "ggsave(p, 'hist_plot.html')"
   ]
  },
  {
   "cell_type": "code",
   "execution_count": 10,
   "id": "45b8fedc",
   "metadata": {
    "execution": {
     "iopub.execute_input": "2024-10-25T18:16:11.637209Z",
     "iopub.status.busy": "2024-10-25T18:16:11.637140Z",
     "iopub.status.idle": "2024-10-25T18:16:11.639775Z",
     "shell.execute_reply": "2024-10-25T18:16:11.639553Z"
    }
   },
   "outputs": [],
   "source": [
    "data = {'x': np.random.normal(size=100),\n",
    "        'y': np.random.normal(size=100)}\n",
    "grid = gggrid([\n",
    "    ggplot() + geom_point(x=0, y=0),\n",
    "    ggplot() + geom_point(x=1.0, y=1.0)\n",
    "])\n",
    "html = grid.to_html()"
   ]
  },
  {
   "cell_type": "code",
   "execution_count": 11,
   "id": "5e7b88ab",
   "metadata": {
    "execution": {
     "iopub.execute_input": "2024-10-25T18:16:11.640711Z",
     "iopub.status.busy": "2024-10-25T18:16:11.640631Z",
     "iopub.status.idle": "2024-10-25T18:16:11.642732Z",
     "shell.execute_reply": "2024-10-25T18:16:11.642539Z"
    }
   },
   "outputs": [
    {
     "data": {
      "text/html": [
       "<html lang=\"en\">\n",
       "   <head>\n",
       "       <meta charset=\"UTF-8\">\n",
       "       <script type=\"text/javascript\" data-lets-plot-script=\"library\" src=\"https://cdn.jsdelivr.net/gh/JetBrains/lets-plot@v4.5.1/js-package/distr/lets-plot.min.js\"></script>\n",
       "   </head>\n",
       "   <body>\n",
       "          <div id=\"JcCrVg\"></div>\n",
       "   <script type=\"text/javascript\" data-lets-plot-script=\"plot\">\n",
       "   \n",
       "   (function() {\n",
       "   // ----------\n",
       "   \n",
       "   var containerDiv = document.getElementById(\"JcCrVg\");\n",
       "   var observer = new ResizeObserver(function(entries) {\n",
       "       for (let entry of entries) {\n",
       "           var width = containerDiv.clientWidth\n",
       "           if (entry.contentBoxSize && width > 0) {\n",
       "           \n",
       "               // Render plot\n",
       "               if (observer) {\n",
       "                   observer.disconnect();\n",
       "                   observer = null;\n",
       "               }\n",
       "\n",
       "               var plotSpec={\n",
       "\"kind\":\"subplots\",\n",
       "\"layout\":{\n",
       "\"ncol\":2.0,\n",
       "\"nrow\":1.0,\n",
       "\"name\":\"grid\"\n",
       "},\n",
       "\"figures\":[{\n",
       "\"mapping\":{\n",
       "},\n",
       "\"data_meta\":{\n",
       "},\n",
       "\"kind\":\"plot\",\n",
       "\"scales\":[],\n",
       "\"layers\":[{\n",
       "\"geom\":\"point\",\n",
       "\"mapping\":{\n",
       "},\n",
       "\"data_meta\":{\n",
       "},\n",
       "\"x\":0.0,\n",
       "\"y\":0.0,\n",
       "\"data\":{\n",
       "}\n",
       "}],\n",
       "\"metainfo_list\":[],\n",
       "\"spec_id\":\"7\"\n",
       "},{\n",
       "\"mapping\":{\n",
       "},\n",
       "\"data_meta\":{\n",
       "},\n",
       "\"kind\":\"plot\",\n",
       "\"scales\":[],\n",
       "\"layers\":[{\n",
       "\"geom\":\"point\",\n",
       "\"mapping\":{\n",
       "},\n",
       "\"data_meta\":{\n",
       "},\n",
       "\"x\":1.0,\n",
       "\"y\":1.0,\n",
       "\"data\":{\n",
       "}\n",
       "}],\n",
       "\"metainfo_list\":[],\n",
       "\"spec_id\":\"8\"\n",
       "}]\n",
       "};\n",
       "       \n",
       "               var toolbar = null;\n",
       "               var plotContainer = containerDiv;               \n",
       "               \n",
       "               var options = {\n",
       "                   sizing: {\n",
       "                       width_mode: \"min\",\n",
       "                       height_mode: \"scaled\",\n",
       "                       width: width\n",
       "                   }\n",
       "               };\n",
       "               var fig = LetsPlot.buildPlotFromProcessedSpecs(plotSpec, -1, -1, plotContainer, options);\n",
       "               if (toolbar) {\n",
       "                 toolbar.bind(fig);\n",
       "               }\n",
       "               \n",
       "               break;\n",
       "           }\n",
       "       }\n",
       "   });\n",
       "   \n",
       "   observer.observe(containerDiv);\n",
       "   \n",
       "   // ----------\n",
       "   })();\n",
       "   \n",
       "   </script>\n",
       "   </body>\n",
       "</html>"
      ],
      "text/plain": [
       "<IPython.core.display.HTML object>"
      ]
     },
     "execution_count": 11,
     "metadata": {},
     "output_type": "execute_result"
    }
   ],
   "source": [
    "display.HTML(html)"
   ]
  },
  {
   "cell_type": "code",
   "execution_count": 12,
   "id": "3052f03b",
   "metadata": {
    "execution": {
     "iopub.execute_input": "2024-10-25T18:16:11.643677Z",
     "iopub.status.busy": "2024-10-25T18:16:11.643595Z",
     "iopub.status.idle": "2024-10-25T18:16:11.648360Z",
     "shell.execute_reply": "2024-10-25T18:16:11.648151Z"
    },
    "scrolled": false
   },
   "outputs": [
    {
     "data": {
      "text/plain": [
       "'<svg xmlns=\"http://www.w3.org/2000/svg\" xmlns:xlink=\"http://www.w3.org/1999/xlink\" display=\"block\" class=\"plt-container\" width=\"900.0\" height=\"400.0\">\\n  <g id=\"pdCUYwh\">\\n    <rect x=\"0.0\" y=\"0.0\" height=\"400.0\" width=\"900.0\" fill=\"rgb(255,255,255)\" fill-opacity=\"1.0\" stroke=\"rgb(71,71,71)\" stroke-opacity=\"1.0\" stroke-width=\"0.0\">\\n    </rect>\\n  </g>\\n  <svg xmlns=\"http://www.w3.org/2000/svg\" xmlns:xlink=\"http://www.w3.org/1999/xlink\" display=\"block\" class=\"plt-container\" width=\"448.0\" height=\"400....'"
      ]
     },
     "execution_count": 12,
     "metadata": {},
     "output_type": "execute_result"
    }
   ],
   "source": [
    "grid.to_svg()[:500] + '...'"
   ]
  }
 ],
 "metadata": {
  "kernelspec": {
   "display_name": "Python 3 (ipykernel)",
   "language": "python",
   "name": "python3"
  },
  "language_info": {
   "codemirror_mode": {
    "name": "ipython",
    "version": 3
   },
   "file_extension": ".py",
   "mimetype": "text/x-python",
   "name": "python",
   "nbconvert_exporter": "python",
   "pygments_lexer": "ipython3",
   "version": "3.10.15"
  }
 },
 "nbformat": 4,
 "nbformat_minor": 5
}
