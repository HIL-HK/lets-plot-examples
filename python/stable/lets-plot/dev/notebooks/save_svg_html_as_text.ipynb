{
 "cells": [
  {
   "cell_type": "markdown",
   "id": "4b8e310d",
   "metadata": {},
   "source": [
    "### Return the Content into a String Using `to_html()` and `to_svg()`"
   ]
  },
  {
   "cell_type": "code",
   "execution_count": 1,
   "id": "8c2050f6",
   "metadata": {
    "execution": {
     "iopub.execute_input": "2024-09-27T17:56:05.855091Z",
     "iopub.status.busy": "2024-09-27T17:56:05.854846Z",
     "iopub.status.idle": "2024-09-27T17:56:06.269113Z",
     "shell.execute_reply": "2024-09-27T17:56:06.268785Z"
    }
   },
   "outputs": [],
   "source": [
    "import numpy as np\n",
    "import io\n",
    "from IPython import display\n",
    "from lets_plot import *"
   ]
  },
  {
   "cell_type": "code",
   "execution_count": 2,
   "id": "17a6e0d1",
   "metadata": {
    "execution": {
     "iopub.execute_input": "2024-09-27T17:56:06.270441Z",
     "iopub.status.busy": "2024-09-27T17:56:06.270315Z",
     "iopub.status.idle": "2024-09-27T17:56:06.272565Z",
     "shell.execute_reply": "2024-09-27T17:56:06.272354Z"
    }
   },
   "outputs": [
    {
     "data": {
      "text/html": [
       "\n",
       "            <div id=\"xKMhaF\"></div>\n",
       "            <script type=\"text/javascript\" data-lets-plot-script=\"library\">\n",
       "                if(!window.letsPlotCallQueue) {\n",
       "                    window.letsPlotCallQueue = [];\n",
       "                }; \n",
       "                window.letsPlotCall = function(f) {\n",
       "                    window.letsPlotCallQueue.push(f);\n",
       "                };\n",
       "                (function() {\n",
       "                    var script = document.createElement(\"script\");\n",
       "                    script.type = \"text/javascript\";\n",
       "                    script.src = \"https://cdn.jsdelivr.net/gh/JetBrains/lets-plot@v4.4.1/js-package/distr/lets-plot.min.js\";\n",
       "                    script.onload = function() {\n",
       "                        window.letsPlotCall = function(f) {f();};\n",
       "                        window.letsPlotCallQueue.forEach(function(f) {f();});\n",
       "                        window.letsPlotCallQueue = [];\n",
       "                        \n",
       "                    };\n",
       "                    script.onerror = function(event) {\n",
       "                        window.letsPlotCall = function(f) {};    // noop\n",
       "                        window.letsPlotCallQueue = [];\n",
       "                        var div = document.createElement(\"div\");\n",
       "                        div.style.color = 'darkred';\n",
       "                        div.textContent = 'Error loading Lets-Plot JS';\n",
       "                        document.getElementById(\"xKMhaF\").appendChild(div);\n",
       "                    };\n",
       "                    var e = document.getElementById(\"xKMhaF\");\n",
       "                    e.appendChild(script);\n",
       "                })()\n",
       "            </script>\n",
       "            "
      ]
     },
     "metadata": {},
     "output_type": "display_data"
    }
   ],
   "source": [
    "LetsPlot.setup_html()"
   ]
  },
  {
   "cell_type": "code",
   "execution_count": 3,
   "id": "1c4c6a00",
   "metadata": {
    "execution": {
     "iopub.execute_input": "2024-09-27T17:56:06.273724Z",
     "iopub.status.busy": "2024-09-27T17:56:06.273638Z",
     "iopub.status.idle": "2024-09-27T17:56:06.299758Z",
     "shell.execute_reply": "2024-09-27T17:56:06.299490Z"
    }
   },
   "outputs": [],
   "source": [
    "p = ggplot() + geom_point(x=0, y=0)"
   ]
  },
  {
   "cell_type": "code",
   "execution_count": 4,
   "id": "95af2676",
   "metadata": {
    "execution": {
     "iopub.execute_input": "2024-09-27T17:56:06.300919Z",
     "iopub.status.busy": "2024-09-27T17:56:06.300846Z",
     "iopub.status.idle": "2024-09-27T17:56:06.306206Z",
     "shell.execute_reply": "2024-09-27T17:56:06.305983Z"
    },
    "scrolled": false
   },
   "outputs": [
    {
     "data": {
      "text/plain": [
       "'<svg xmlns=\"http://www.w3.org/2000/svg\" xmlns:xlink=\"http://www.w3.org/1999/xlink\" display=\"block\" class=\"plt-container\" width=\"600.0\" height=\"400.0\">\\n  <style type=\"text/css\">\\n  .plt-container {\\n   font-family: Lucida Grande, sans-serif;\\n   user-select: none;\\n   -webkit-user-select: none;\\n   -moz-user-select: none;\\n   -ms-user-select: none;\\n}\\ntext {\\n   text-rendering: optimizeLegibility;\\n}\\n#peI9nJc .plot-title {\\n   fill: #474747;\\n   font-family: Lucida Grande, sans-serif;\\n   font-size: 16.0px;\\n...'"
      ]
     },
     "execution_count": 4,
     "metadata": {},
     "output_type": "execute_result"
    }
   ],
   "source": [
    "svg = p.to_svg()\n",
    "svg[:500] + '...'"
   ]
  },
  {
   "cell_type": "code",
   "execution_count": 5,
   "id": "729db9c1",
   "metadata": {
    "execution": {
     "iopub.execute_input": "2024-09-27T17:56:06.307254Z",
     "iopub.status.busy": "2024-09-27T17:56:06.307177Z",
     "iopub.status.idle": "2024-09-27T17:56:06.310082Z",
     "shell.execute_reply": "2024-09-27T17:56:06.309859Z"
    }
   },
   "outputs": [
    {
     "data": {
      "image/svg+xml": [
       "<svg xmlns=\"http://www.w3.org/2000/svg\" xmlns:xlink=\"http://www.w3.org/1999/xlink\" display=\"block\" class=\"plt-container\" width=\"600.0\" height=\"400.0\">\n",
       "  <style type=\"text/css\">\n",
       "  .plt-container {\n",
       "   font-family: Lucida Grande, sans-serif;\n",
       "   user-select: none;\n",
       "   -webkit-user-select: none;\n",
       "   -moz-user-select: none;\n",
       "   -ms-user-select: none;\n",
       "}\n",
       "text {\n",
       "   text-rendering: optimizeLegibility;\n",
       "}\n",
       "#peI9nJc .plot-title {\n",
       "   fill: #474747;\n",
       "   font-family: Lucida Grande, sans-serif;\n",
       "   font-size: 16.0px;\n",
       "   font-weight: normal;\n",
       "   font-style: normal;   \n",
       "}\n",
       "#peI9nJc .plot-subtitle {\n",
       "   fill: #474747;\n",
       "   font-family: Lucida Grande, sans-serif;\n",
       "   font-size: 15.0px;\n",
       "   font-weight: normal;\n",
       "   font-style: normal;   \n",
       "}\n",
       "#peI9nJc .plot-caption {\n",
       "   fill: #474747;\n",
       "   font-family: Lucida Grande, sans-serif;\n",
       "   font-size: 13.0px;\n",
       "   font-weight: normal;\n",
       "   font-style: normal;   \n",
       "}\n",
       "#peI9nJc .legend-title {\n",
       "   fill: #474747;\n",
       "   font-family: Lucida Grande, sans-serif;\n",
       "   font-size: 15.0px;\n",
       "   font-weight: normal;\n",
       "   font-style: normal;   \n",
       "}\n",
       "#peI9nJc .legend-item {\n",
       "   fill: #474747;\n",
       "   font-family: Lucida Grande, sans-serif;\n",
       "   font-size: 13.0px;\n",
       "   font-weight: normal;\n",
       "   font-style: normal;   \n",
       "}\n",
       "#peI9nJc .axis-title-x {\n",
       "   fill: #474747;\n",
       "   font-family: Lucida Grande, sans-serif;\n",
       "   font-size: 15.0px;\n",
       "   font-weight: normal;\n",
       "   font-style: normal;   \n",
       "}\n",
       "#peI9nJc .axis-text-x {\n",
       "   fill: #474747;\n",
       "   font-family: Lucida Grande, sans-serif;\n",
       "   font-size: 13.0px;\n",
       "   font-weight: normal;\n",
       "   font-style: normal;   \n",
       "}\n",
       "#dyG3nPy .axis-tooltip-text-x {\n",
       "   fill: #ffffff;\n",
       "   font-family: Lucida Grande, sans-serif;\n",
       "   font-size: 13.0px;\n",
       "   font-weight: normal;\n",
       "   font-style: normal;   \n",
       "}\n",
       "#peI9nJc .axis-title-y {\n",
       "   fill: #474747;\n",
       "   font-family: Lucida Grande, sans-serif;\n",
       "   font-size: 15.0px;\n",
       "   font-weight: normal;\n",
       "   font-style: normal;   \n",
       "}\n",
       "#peI9nJc .axis-text-y {\n",
       "   fill: #474747;\n",
       "   font-family: Lucida Grande, sans-serif;\n",
       "   font-size: 13.0px;\n",
       "   font-weight: normal;\n",
       "   font-style: normal;   \n",
       "}\n",
       "#dyG3nPy .axis-tooltip-text-y {\n",
       "   fill: #ffffff;\n",
       "   font-family: Lucida Grande, sans-serif;\n",
       "   font-size: 13.0px;\n",
       "   font-weight: normal;\n",
       "   font-style: normal;   \n",
       "}\n",
       "#peI9nJc .facet-strip-text-x {\n",
       "   fill: #474747;\n",
       "   font-family: Lucida Grande, sans-serif;\n",
       "   font-size: 13.0px;\n",
       "   font-weight: normal;\n",
       "   font-style: normal;   \n",
       "}\n",
       "#peI9nJc .facet-strip-text-y {\n",
       "   fill: #474747;\n",
       "   font-family: Lucida Grande, sans-serif;\n",
       "   font-size: 13.0px;\n",
       "   font-weight: normal;\n",
       "   font-style: normal;   \n",
       "}\n",
       "#dyG3nPy .tooltip-text {\n",
       "   fill: #474747;\n",
       "   font-family: Lucida Grande, sans-serif;\n",
       "   font-size: 13.0px;\n",
       "   font-weight: normal;\n",
       "   font-style: normal;   \n",
       "}\n",
       "#dyG3nPy .tooltip-title {\n",
       "   fill: #474747;\n",
       "   font-family: Lucida Grande, sans-serif;\n",
       "   font-size: 13.0px;\n",
       "   font-weight: bold;\n",
       "   font-style: normal;   \n",
       "}\n",
       "#dyG3nPy .tooltip-label {\n",
       "   fill: #474747;\n",
       "   font-family: Lucida Grande, sans-serif;\n",
       "   font-size: 13.0px;\n",
       "   font-weight: bold;\n",
       "   font-style: normal;   \n",
       "}\n",
       "\n",
       "  </style>\n",
       "  <g id=\"peI9nJc\">\n",
       "    <path fill-rule=\"evenodd\" fill=\"rgb(255,255,255)\" fill-opacity=\"1.0\" d=\"M0.0 0.0 L0.0 400.0 L600.0 400.0 L600.0 0.0 Z\">\n",
       "    </path>\n",
       "    <g transform=\"translate(29.5 6.5 ) \">\n",
       "      <g>\n",
       "        <g transform=\"translate(35.01530667574961 0.0 ) \">\n",
       "          <g>\n",
       "            <line x1=\"52.89846933242504\" y1=\"0.0\" x2=\"52.89846933242504\" y2=\"341.0\" stroke=\"rgb(233,233,233)\" stroke-opacity=\"1.0\" stroke-width=\"1.0\" fill=\"none\">\n",
       "            </line>\n",
       "            <line x1=\"158.69540799727514\" y1=\"0.0\" x2=\"158.69540799727514\" y2=\"341.0\" stroke=\"rgb(233,233,233)\" stroke-opacity=\"1.0\" stroke-width=\"1.0\" fill=\"none\">\n",
       "            </line>\n",
       "            <line x1=\"264.4923466621252\" y1=\"0.0\" x2=\"264.4923466621252\" y2=\"341.0\" stroke=\"rgb(233,233,233)\" stroke-opacity=\"1.0\" stroke-width=\"1.0\" fill=\"none\">\n",
       "            </line>\n",
       "            <line x1=\"370.2892853269753\" y1=\"0.0\" x2=\"370.2892853269753\" y2=\"341.0\" stroke=\"rgb(233,233,233)\" stroke-opacity=\"1.0\" stroke-width=\"1.0\" fill=\"none\">\n",
       "            </line>\n",
       "            <line x1=\"476.08622399182536\" y1=\"0.0\" x2=\"476.08622399182536\" y2=\"341.0\" stroke=\"rgb(233,233,233)\" stroke-opacity=\"1.0\" stroke-width=\"1.0\" fill=\"none\">\n",
       "            </line>\n",
       "          </g>\n",
       "        </g>\n",
       "        <g transform=\"translate(35.01530667574961 0.0 ) \">\n",
       "          <g>\n",
       "            <line x1=\"0.0\" y1=\"306.9\" x2=\"528.9846933242504\" y2=\"306.9\" stroke=\"rgb(233,233,233)\" stroke-opacity=\"1.0\" stroke-width=\"1.0\" fill=\"none\">\n",
       "            </line>\n",
       "            <line x1=\"0.0\" y1=\"238.7\" x2=\"528.9846933242504\" y2=\"238.7\" stroke=\"rgb(233,233,233)\" stroke-opacity=\"1.0\" stroke-width=\"1.0\" fill=\"none\">\n",
       "            </line>\n",
       "            <line x1=\"0.0\" y1=\"170.5\" x2=\"528.9846933242504\" y2=\"170.5\" stroke=\"rgb(233,233,233)\" stroke-opacity=\"1.0\" stroke-width=\"1.0\" fill=\"none\">\n",
       "            </line>\n",
       "            <line x1=\"0.0\" y1=\"102.3\" x2=\"528.9846933242504\" y2=\"102.3\" stroke=\"rgb(233,233,233)\" stroke-opacity=\"1.0\" stroke-width=\"1.0\" fill=\"none\">\n",
       "            </line>\n",
       "            <line x1=\"0.0\" y1=\"34.099999999999994\" x2=\"528.9846933242504\" y2=\"34.099999999999994\" stroke=\"rgb(233,233,233)\" stroke-opacity=\"1.0\" stroke-width=\"1.0\" fill=\"none\">\n",
       "            </line>\n",
       "          </g>\n",
       "        </g>\n",
       "      </g>\n",
       "      <g clip-path=\"url(#cRSjfk3)\" clip-bounds-jfx=\"[rect (35.01530667574961, 0.0), (528.9846933242504, 341.0)]\">\n",
       "        <g transform=\"translate(35.01530667574961 0.0 ) \">\n",
       "          <g>\n",
       "            <g>\n",
       "              <g>\n",
       "                <g>\n",
       "                  <circle fill=\"#474747\" stroke=\"#474747\" stroke-opacity=\"0.0\" stroke-width=\"0.0\" cx=\"264.4923466621252\" cy=\"170.5\" r=\"3.3000000000000003\"/>\n",
       "                </g>\n",
       "              </g>\n",
       "            </g>\n",
       "          </g>\n",
       "        </g>\n",
       "        <defs>\n",
       "          <clipPath id=\"cRSjfk3\">\n",
       "            <rect x=\"35.01530667574961\" y=\"0.0\" width=\"528.9846933242504\" height=\"341.0\">\n",
       "            </rect>\n",
       "          </clipPath>\n",
       "        </defs>\n",
       "      </g>\n",
       "      <g>\n",
       "        <g transform=\"translate(35.01530667574961 341.0 ) \">\n",
       "          <g transform=\"translate(52.89846933242504 0.0 ) \">\n",
       "            <line stroke-width=\"1.0\" stroke=\"rgb(71,71,71)\" stroke-opacity=\"1.0\" x2=\"0.0\" y2=\"4.0\">\n",
       "            </line>\n",
       "            <g transform=\"translate(0.0 7.0 ) \">\n",
       "              <text class=\"axis-text-x\" text-anchor=\"middle\" dy=\"0.7em\">\n",
       "                <tspan>-0.4</tspan>\n",
       "              </text>\n",
       "            </g>\n",
       "          </g>\n",
       "          <g transform=\"translate(158.69540799727514 0.0 ) \">\n",
       "            <line stroke-width=\"1.0\" stroke=\"rgb(71,71,71)\" stroke-opacity=\"1.0\" x2=\"0.0\" y2=\"4.0\">\n",
       "            </line>\n",
       "            <g transform=\"translate(0.0 7.0 ) \">\n",
       "              <text class=\"axis-text-x\" text-anchor=\"middle\" dy=\"0.7em\">\n",
       "                <tspan>-0.2</tspan>\n",
       "              </text>\n",
       "            </g>\n",
       "          </g>\n",
       "          <g transform=\"translate(264.4923466621252 0.0 ) \">\n",
       "            <line stroke-width=\"1.0\" stroke=\"rgb(71,71,71)\" stroke-opacity=\"1.0\" x2=\"0.0\" y2=\"4.0\">\n",
       "            </line>\n",
       "            <g transform=\"translate(0.0 7.0 ) \">\n",
       "              <text class=\"axis-text-x\" text-anchor=\"middle\" dy=\"0.7em\">\n",
       "                <tspan>0.0</tspan>\n",
       "              </text>\n",
       "            </g>\n",
       "          </g>\n",
       "          <g transform=\"translate(370.2892853269753 0.0 ) \">\n",
       "            <line stroke-width=\"1.0\" stroke=\"rgb(71,71,71)\" stroke-opacity=\"1.0\" x2=\"0.0\" y2=\"4.0\">\n",
       "            </line>\n",
       "            <g transform=\"translate(0.0 7.0 ) \">\n",
       "              <text class=\"axis-text-x\" text-anchor=\"middle\" dy=\"0.7em\">\n",
       "                <tspan>0.2</tspan>\n",
       "              </text>\n",
       "            </g>\n",
       "          </g>\n",
       "          <g transform=\"translate(476.08622399182536 0.0 ) \">\n",
       "            <line stroke-width=\"1.0\" stroke=\"rgb(71,71,71)\" stroke-opacity=\"1.0\" x2=\"0.0\" y2=\"4.0\">\n",
       "            </line>\n",
       "            <g transform=\"translate(0.0 7.0 ) \">\n",
       "              <text class=\"axis-text-x\" text-anchor=\"middle\" dy=\"0.7em\">\n",
       "                <tspan>0.4</tspan>\n",
       "              </text>\n",
       "            </g>\n",
       "          </g>\n",
       "          <line x1=\"0.0\" y1=\"0.0\" x2=\"528.9846933242504\" y2=\"0.0\" stroke-width=\"1.0\" stroke=\"rgb(71,71,71)\" stroke-opacity=\"1.0\">\n",
       "          </line>\n",
       "        </g>\n",
       "        <g transform=\"translate(35.01530667574961 0.0 ) \">\n",
       "          <g transform=\"translate(0.0 306.9 ) \">\n",
       "            <g transform=\"translate(-3.0 0.0 ) \">\n",
       "              <text class=\"axis-text-y\" text-anchor=\"end\" dy=\"0.35em\">\n",
       "                <tspan>-0.4</tspan>\n",
       "              </text>\n",
       "            </g>\n",
       "          </g>\n",
       "          <g transform=\"translate(0.0 238.7 ) \">\n",
       "            <g transform=\"translate(-3.0 0.0 ) \">\n",
       "              <text class=\"axis-text-y\" text-anchor=\"end\" dy=\"0.35em\">\n",
       "                <tspan>-0.2</tspan>\n",
       "              </text>\n",
       "            </g>\n",
       "          </g>\n",
       "          <g transform=\"translate(0.0 170.5 ) \">\n",
       "            <g transform=\"translate(-3.0 0.0 ) \">\n",
       "              <text class=\"axis-text-y\" text-anchor=\"end\" dy=\"0.35em\">\n",
       "                <tspan>0.0</tspan>\n",
       "              </text>\n",
       "            </g>\n",
       "          </g>\n",
       "          <g transform=\"translate(0.0 102.3 ) \">\n",
       "            <g transform=\"translate(-3.0 0.0 ) \">\n",
       "              <text class=\"axis-text-y\" text-anchor=\"end\" dy=\"0.35em\">\n",
       "                <tspan>0.2</tspan>\n",
       "              </text>\n",
       "            </g>\n",
       "          </g>\n",
       "          <g transform=\"translate(0.0 34.099999999999994 ) \">\n",
       "            <g transform=\"translate(-3.0 0.0 ) \">\n",
       "              <text class=\"axis-text-y\" text-anchor=\"end\" dy=\"0.35em\">\n",
       "                <tspan>0.4</tspan>\n",
       "              </text>\n",
       "            </g>\n",
       "          </g>\n",
       "        </g>\n",
       "      </g>\n",
       "    </g>\n",
       "    <g transform=\"translate(16.0 177.0 ) rotate(-90.0 ) \">\n",
       "      <text class=\"axis-title-y\" y=\"0.0\" text-anchor=\"middle\">\n",
       "        <tspan>y</tspan>\n",
       "      </text>\n",
       "    </g>\n",
       "    <g transform=\"translate(329.00765333787484 393.0 ) \">\n",
       "      <text class=\"axis-title-x\" y=\"0.0\" text-anchor=\"middle\">\n",
       "        <tspan>x</tspan>\n",
       "      </text>\n",
       "    </g>\n",
       "    <path fill=\"rgb(0,0,0)\" fill-opacity=\"0.0\" stroke=\"rgb(71,71,71)\" stroke-opacity=\"1.0\" stroke-width=\"0.0\" d=\"M0.0 0.0 L0.0 400.0 L600.0 400.0 L600.0 0.0 Z\">\n",
       "    </path>\n",
       "  </g>\n",
       "  <g id=\"dyG3nPy\">\n",
       "  </g>\n",
       "</svg>"
      ],
      "text/plain": [
       "<IPython.core.display.SVG object>"
      ]
     },
     "execution_count": 5,
     "metadata": {},
     "output_type": "execute_result"
    }
   ],
   "source": [
    "display.SVG(svg)"
   ]
  },
  {
   "cell_type": "code",
   "execution_count": 6,
   "id": "663b4ab3",
   "metadata": {
    "execution": {
     "iopub.execute_input": "2024-09-27T17:56:06.311036Z",
     "iopub.status.busy": "2024-09-27T17:56:06.310968Z",
     "iopub.status.idle": "2024-09-27T17:56:06.312966Z",
     "shell.execute_reply": "2024-09-27T17:56:06.312774Z"
    }
   },
   "outputs": [
    {
     "data": {
      "text/plain": [
       "'<html lang=\"en\">\\n   <head>\\n       <meta charset=\"UTF-8\">\\n       <script type=\"text/javascript\" data-lets-plot-script=\"library\" src=\"https://cdn.jsdelivr.net/gh/JetBrains/lets-plot@v4.4.1/js-package/distr/lets-plot.min.js\"></script>\\n   </head>\\n   <body>\\n          <div id=\"XG1dUL\"></div>\\n   <script type=\"text/javascript\" data-lets-plot-script=\"plot\">\\n       var plotSpec={\\n\"mapping\":{\\n},\\n\"data_meta\":{\\n},\\n\"kind\":\"plot\",\\n\"scales\":[],\\n\"layers\":[{\\n\"geom\":\"point\",\\n\"mapping\":{\\n},\\n\"data_meta\":{\\n},\\n\"x\":0.0,\\n\"y\":0.0,\\n\"data\":{\\n}\\n}],\\n\"metainfo_list\":[]\\n};\\n       var plotContainer = document.getElementById(\"XG1dUL\");\\n       LetsPlot.buildPlotFromProcessedSpecs(plotSpec, -1, -1, plotContainer);\\n   </script>\\n   </body>\\n</html>'"
      ]
     },
     "execution_count": 6,
     "metadata": {},
     "output_type": "execute_result"
    }
   ],
   "source": [
    "html = p.to_html()\n",
    "html"
   ]
  },
  {
   "cell_type": "code",
   "execution_count": 7,
   "id": "92030feb",
   "metadata": {
    "execution": {
     "iopub.execute_input": "2024-09-27T17:56:06.313934Z",
     "iopub.status.busy": "2024-09-27T17:56:06.313865Z",
     "iopub.status.idle": "2024-09-27T17:56:06.316051Z",
     "shell.execute_reply": "2024-09-27T17:56:06.315865Z"
    }
   },
   "outputs": [
    {
     "data": {
      "text/plain": [
       "'            <iframe src=\\'about:blank\\' style=\\'border:none !important;\\' width=\\'600\\' height=\\'400\\' srcdoc=\"&lt;html lang=&quot;en&quot;>\\n   &lt;head>\\n       &lt;meta charset=&quot;UTF-8&quot;>\\n       &lt;style> html, body { margin: 0; overflow: hidden; } &lt;/style>\\n       &lt;script type=&quot;text/javascript&quot; data-lets-plot-script=&quot;library&quot; src=&quot;https://cdn.jsdelivr.net/gh/JetBrains/lets-plot@v4.4.1/js-package/distr/lets-plot.min.js&quot;>&lt;/script>\\n   &lt;/head>\\n   &lt;body>\\n          &lt;div id=&quot;t3a51I&quot;>&lt;/div>\\n   &lt;script type=&quot;text/javascript&quot; data-lets-plot-script=&quot;plot&quot;>\\n       var plotSpec={\\n&quot;mapping&quot;:{\\n},\\n&quot;data_meta&quot;:{\\n},\\n&quot;kind&quot;:&quot;plot&quot;,\\n&quot;scales&quot;:[],\\n&quot;layers&quot;:[{\\n&quot;geom&quot;:&quot;point&quot;,\\n&quot;mapping&quot;:{\\n},\\n&quot;data_meta&quot;:{\\n},\\n&quot;x&quot;:0.0,\\n&quot;y&quot;:0.0,\\n&quot;data&quot;:{\\n}\\n}],\\n&quot;metainfo_list&quot;:[]\\n};\\n       var plotContainer = document.getElementById(&quot;t3a51I&quot;);\\n       LetsPlot.buildPlotFromProcessedSpecs(plotSpec, -1, -1, plotContainer);\\n   &lt;/script>\\n   &lt;/body>\\n&lt;/html>\"></iframe>    '"
      ]
     },
     "execution_count": 7,
     "metadata": {},
     "output_type": "execute_result"
    }
   ],
   "source": [
    "p.to_html(iframe=True)"
   ]
  },
  {
   "cell_type": "code",
   "execution_count": 8,
   "id": "af51a603",
   "metadata": {
    "execution": {
     "iopub.execute_input": "2024-09-27T17:56:06.316948Z",
     "iopub.status.busy": "2024-09-27T17:56:06.316880Z",
     "iopub.status.idle": "2024-09-27T17:56:06.318695Z",
     "shell.execute_reply": "2024-09-27T17:56:06.318491Z"
    }
   },
   "outputs": [
    {
     "data": {
      "text/html": [
       "<html lang=\"en\">\n",
       "   <head>\n",
       "       <meta charset=\"UTF-8\">\n",
       "       <script type=\"text/javascript\" data-lets-plot-script=\"library\" src=\"https://cdn.jsdelivr.net/gh/JetBrains/lets-plot@v4.4.1/js-package/distr/lets-plot.min.js\"></script>\n",
       "   </head>\n",
       "   <body>\n",
       "          <div id=\"XG1dUL\"></div>\n",
       "   <script type=\"text/javascript\" data-lets-plot-script=\"plot\">\n",
       "       var plotSpec={\n",
       "\"mapping\":{\n",
       "},\n",
       "\"data_meta\":{\n",
       "},\n",
       "\"kind\":\"plot\",\n",
       "\"scales\":[],\n",
       "\"layers\":[{\n",
       "\"geom\":\"point\",\n",
       "\"mapping\":{\n",
       "},\n",
       "\"data_meta\":{\n",
       "},\n",
       "\"x\":0.0,\n",
       "\"y\":0.0,\n",
       "\"data\":{\n",
       "}\n",
       "}],\n",
       "\"metainfo_list\":[]\n",
       "};\n",
       "       var plotContainer = document.getElementById(\"XG1dUL\");\n",
       "       LetsPlot.buildPlotFromProcessedSpecs(plotSpec, -1, -1, plotContainer);\n",
       "   </script>\n",
       "   </body>\n",
       "</html>"
      ],
      "text/plain": [
       "<IPython.core.display.HTML object>"
      ]
     },
     "execution_count": 8,
     "metadata": {},
     "output_type": "execute_result"
    }
   ],
   "source": [
    "display.HTML(html)"
   ]
  },
  {
   "cell_type": "code",
   "execution_count": 9,
   "id": "99b2c196",
   "metadata": {
    "execution": {
     "iopub.execute_input": "2024-09-27T17:56:06.319632Z",
     "iopub.status.busy": "2024-09-27T17:56:06.319555Z",
     "iopub.status.idle": "2024-09-27T17:56:06.323067Z",
     "shell.execute_reply": "2024-09-27T17:56:06.322877Z"
    }
   },
   "outputs": [
    {
     "data": {
      "text/plain": [
       "'/Users/earkhipova/Projects/lets-plot-examples/python/lets-plot/dev/notebooks/lets-plot-images/hist_plot.html'"
      ]
     },
     "execution_count": 9,
     "metadata": {},
     "output_type": "execute_result"
    }
   ],
   "source": [
    "ggsave(p, 'hist_plot.html')"
   ]
  },
  {
   "cell_type": "code",
   "execution_count": 10,
   "id": "45b8fedc",
   "metadata": {
    "execution": {
     "iopub.execute_input": "2024-09-27T17:56:06.324029Z",
     "iopub.status.busy": "2024-09-27T17:56:06.323957Z",
     "iopub.status.idle": "2024-09-27T17:56:06.326236Z",
     "shell.execute_reply": "2024-09-27T17:56:06.326044Z"
    }
   },
   "outputs": [],
   "source": [
    "data = {'x': np.random.normal(size=100),\n",
    "        'y': np.random.normal(size=100)}\n",
    "grid = gggrid([\n",
    "    ggplot() + geom_point(x=0, y=0),\n",
    "    ggplot() + geom_point(x=1.0, y=1.0)\n",
    "])\n",
    "html = grid.to_html()"
   ]
  },
  {
   "cell_type": "code",
   "execution_count": 11,
   "id": "5e7b88ab",
   "metadata": {
    "execution": {
     "iopub.execute_input": "2024-09-27T17:56:06.327189Z",
     "iopub.status.busy": "2024-09-27T17:56:06.327122Z",
     "iopub.status.idle": "2024-09-27T17:56:06.328913Z",
     "shell.execute_reply": "2024-09-27T17:56:06.328724Z"
    }
   },
   "outputs": [
    {
     "data": {
      "text/html": [
       "<html lang=\"en\">\n",
       "   <head>\n",
       "       <meta charset=\"UTF-8\">\n",
       "       <script type=\"text/javascript\" data-lets-plot-script=\"library\" src=\"https://cdn.jsdelivr.net/gh/JetBrains/lets-plot@v4.4.1/js-package/distr/lets-plot.min.js\"></script>\n",
       "   </head>\n",
       "   <body>\n",
       "          <div id=\"L0ZyEf\"></div>\n",
       "   <script type=\"text/javascript\" data-lets-plot-script=\"plot\">\n",
       "       var plotSpec={\n",
       "\"kind\":\"subplots\",\n",
       "\"layout\":{\n",
       "\"ncol\":2.0,\n",
       "\"nrow\":1.0,\n",
       "\"name\":\"grid\"\n",
       "},\n",
       "\"figures\":[{\n",
       "\"mapping\":{\n",
       "},\n",
       "\"data_meta\":{\n",
       "},\n",
       "\"kind\":\"plot\",\n",
       "\"scales\":[],\n",
       "\"layers\":[{\n",
       "\"geom\":\"point\",\n",
       "\"mapping\":{\n",
       "},\n",
       "\"data_meta\":{\n",
       "},\n",
       "\"x\":0.0,\n",
       "\"y\":0.0,\n",
       "\"data\":{\n",
       "}\n",
       "}],\n",
       "\"metainfo_list\":[]\n",
       "},{\n",
       "\"mapping\":{\n",
       "},\n",
       "\"data_meta\":{\n",
       "},\n",
       "\"kind\":\"plot\",\n",
       "\"scales\":[],\n",
       "\"layers\":[{\n",
       "\"geom\":\"point\",\n",
       "\"mapping\":{\n",
       "},\n",
       "\"data_meta\":{\n",
       "},\n",
       "\"x\":1.0,\n",
       "\"y\":1.0,\n",
       "\"data\":{\n",
       "}\n",
       "}],\n",
       "\"metainfo_list\":[]\n",
       "}]\n",
       "};\n",
       "       var plotContainer = document.getElementById(\"L0ZyEf\");\n",
       "       LetsPlot.buildPlotFromProcessedSpecs(plotSpec, -1, -1, plotContainer);\n",
       "   </script>\n",
       "   </body>\n",
       "</html>"
      ],
      "text/plain": [
       "<IPython.core.display.HTML object>"
      ]
     },
     "execution_count": 11,
     "metadata": {},
     "output_type": "execute_result"
    }
   ],
   "source": [
    "display.HTML(html)"
   ]
  },
  {
   "cell_type": "code",
   "execution_count": 12,
   "id": "3052f03b",
   "metadata": {
    "execution": {
     "iopub.execute_input": "2024-09-27T17:56:06.329824Z",
     "iopub.status.busy": "2024-09-27T17:56:06.329755Z",
     "iopub.status.idle": "2024-09-27T17:56:06.334547Z",
     "shell.execute_reply": "2024-09-27T17:56:06.334353Z"
    },
    "scrolled": false
   },
   "outputs": [
    {
     "data": {
      "text/plain": [
       "'<svg xmlns=\"http://www.w3.org/2000/svg\" xmlns:xlink=\"http://www.w3.org/1999/xlink\" display=\"block\" class=\"plt-container\" width=\"900.0\" height=\"400.0\">\\n  <g id=\"pkk44cP\">\\n    <rect x=\"0.0\" y=\"0.0\" height=\"400.0\" width=\"900.0\" fill=\"rgb(255,255,255)\" fill-opacity=\"1.0\" stroke=\"rgb(71,71,71)\" stroke-opacity=\"1.0\" stroke-width=\"0.0\">\\n    </rect>\\n  </g>\\n  <svg xmlns=\"http://www.w3.org/2000/svg\" xmlns:xlink=\"http://www.w3.org/1999/xlink\" display=\"block\" class=\"plt-container\" width=\"448.0\" height=\"400....'"
      ]
     },
     "execution_count": 12,
     "metadata": {},
     "output_type": "execute_result"
    }
   ],
   "source": [
    "grid.to_svg()[:500] + '...'"
   ]
  }
 ],
 "metadata": {
  "kernelspec": {
   "display_name": "Python 3 (ipykernel)",
   "language": "python",
   "name": "python3"
  },
  "language_info": {
   "codemirror_mode": {
    "name": "ipython",
    "version": 3
   },
   "file_extension": ".py",
   "mimetype": "text/x-python",
   "name": "python",
   "nbconvert_exporter": "python",
   "pygments_lexer": "ipython3",
   "version": "3.10.15"
  }
 },
 "nbformat": 4,
 "nbformat_minor": 5
}
