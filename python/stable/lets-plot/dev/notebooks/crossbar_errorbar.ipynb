{
 "cells": [
  {
   "cell_type": "code",
   "execution_count": 1,
   "metadata": {
    "execution": {
     "iopub.execute_input": "2024-10-02T08:47:02.630697Z",
     "iopub.status.busy": "2024-10-02T08:47:02.630343Z",
     "iopub.status.idle": "2024-10-02T08:47:03.060230Z",
     "shell.execute_reply": "2024-10-02T08:47:03.059968Z"
    }
   },
   "outputs": [
    {
     "data": {
      "text/html": [
       "\n",
       "            <div id=\"cXbemq\"></div>\n",
       "            <script type=\"text/javascript\" data-lets-plot-script=\"library\">\n",
       "                if(!window.letsPlotCallQueue) {\n",
       "                    window.letsPlotCallQueue = [];\n",
       "                }; \n",
       "                window.letsPlotCall = function(f) {\n",
       "                    window.letsPlotCallQueue.push(f);\n",
       "                };\n",
       "                (function() {\n",
       "                    var script = document.createElement(\"script\");\n",
       "                    script.type = \"text/javascript\";\n",
       "                    script.src = \"https://cdn.jsdelivr.net/gh/JetBrains/lets-plot@v4.4.1/js-package/distr/lets-plot.min.js\";\n",
       "                    script.onload = function() {\n",
       "                        window.letsPlotCall = function(f) {f();};\n",
       "                        window.letsPlotCallQueue.forEach(function(f) {f();});\n",
       "                        window.letsPlotCallQueue = [];\n",
       "                        \n",
       "                    };\n",
       "                    script.onerror = function(event) {\n",
       "                        window.letsPlotCall = function(f) {};    // noop\n",
       "                        window.letsPlotCallQueue = [];\n",
       "                        var div = document.createElement(\"div\");\n",
       "                        div.style.color = 'darkred';\n",
       "                        div.textContent = 'Error loading Lets-Plot JS';\n",
       "                        document.getElementById(\"cXbemq\").appendChild(div);\n",
       "                    };\n",
       "                    var e = document.getElementById(\"cXbemq\");\n",
       "                    e.appendChild(script);\n",
       "                })()\n",
       "            </script>\n",
       "            "
      ]
     },
     "metadata": {},
     "output_type": "display_data"
    }
   ],
   "source": [
    "from lets_plot import *\n",
    "\n",
    "LetsPlot.setup_html()\n",
    "LetsPlot.set_theme(theme_grey())"
   ]
  },
  {
   "cell_type": "code",
   "execution_count": 2,
   "metadata": {
    "execution": {
     "iopub.execute_input": "2024-10-02T08:47:03.076087Z",
     "iopub.status.busy": "2024-10-02T08:47:03.075940Z",
     "iopub.status.idle": "2024-10-02T08:47:03.077778Z",
     "shell.execute_reply": "2024-10-02T08:47:03.077570Z"
    }
   },
   "outputs": [],
   "source": [
    "data = {\n",
    "    'drink': ['coffee','tea','water', 'milk'],\n",
    "    'mean': [3, 4, 6, 2],\n",
    "    'upper': [1, 5, 7, 4],\n",
    "    'lower': [6, 3, 2, 1]\n",
    "}"
   ]
  },
  {
   "cell_type": "code",
   "execution_count": 3,
   "metadata": {
    "execution": {
     "iopub.execute_input": "2024-10-02T08:47:03.078765Z",
     "iopub.status.busy": "2024-10-02T08:47:03.078697Z",
     "iopub.status.idle": "2024-10-02T08:47:03.107638Z",
     "shell.execute_reply": "2024-10-02T08:47:03.107408Z"
    }
   },
   "outputs": [
    {
     "data": {
      "text/html": [
       "   <div id=\"ZhVxdd\"></div>\n",
       "   <script type=\"text/javascript\" data-lets-plot-script=\"plot\">\n",
       "       (function() {\n",
       "           var plotSpec={\n",
       "\"data\":{\n",
       "\"drink\":[\"coffee\",\"tea\",\"water\",\"milk\"],\n",
       "\"mean\":[3.0,4.0,6.0,2.0],\n",
       "\"upper\":[1.0,5.0,7.0,4.0],\n",
       "\"lower\":[6.0,3.0,2.0,1.0]\n",
       "},\n",
       "\"mapping\":{\n",
       "},\n",
       "\"data_meta\":{\n",
       "\"series_annotations\":[{\n",
       "\"type\":\"str\",\n",
       "\"column\":\"drink\"\n",
       "},{\n",
       "\"type\":\"int\",\n",
       "\"column\":\"mean\"\n",
       "},{\n",
       "\"type\":\"int\",\n",
       "\"column\":\"upper\"\n",
       "},{\n",
       "\"type\":\"int\",\n",
       "\"column\":\"lower\"\n",
       "}]\n",
       "},\n",
       "\"theme\":{\n",
       "\"name\":\"grey\"\n",
       "},\n",
       "\"kind\":\"plot\",\n",
       "\"scales\":[{\n",
       "\"aesthetic\":\"color\",\n",
       "\"discrete\":true\n",
       "}],\n",
       "\"layers\":[{\n",
       "\"geom\":\"crossbar\",\n",
       "\"mapping\":{\n",
       "\"x\":\"drink\",\n",
       "\"y\":\"mean\",\n",
       "\"ymin\":\"lower\",\n",
       "\"ymax\":\"upper\",\n",
       "\"color\":\"mean\"\n",
       "},\n",
       "\"tooltips\":{\n",
       "\"formats\":[],\n",
       "\"disable_splitting\":true\n",
       "},\n",
       "\"data_meta\":{\n",
       "},\n",
       "\"data\":{\n",
       "}\n",
       "}],\n",
       "\"metainfo_list\":[]\n",
       "};\n",
       "           var plotContainer = document.getElementById(\"ZhVxdd\");\n",
       "           window.letsPlotCall(function() {{\n",
       "               LetsPlot.buildPlotFromProcessedSpecs(plotSpec, -1, -1, plotContainer);\n",
       "           }});\n",
       "       })();\n",
       "   </script>"
      ],
      "text/plain": [
       "<lets_plot.plot.core.PlotSpec at 0x107d479d0>"
      ]
     },
     "execution_count": 3,
     "metadata": {},
     "output_type": "execute_result"
    }
   ],
   "source": [
    "ggplot(data) + \\\n",
    "    geom_crossbar(aes(x='drink', y='mean', ymin='lower', ymax='upper', color='mean'),\n",
    "                  tooltips=layer_tooltips().disable_splitting()) + \\\n",
    "    scale_color_discrete() + theme_grey()"
   ]
  },
  {
   "cell_type": "code",
   "execution_count": 4,
   "metadata": {
    "execution": {
     "iopub.execute_input": "2024-10-02T08:47:03.108743Z",
     "iopub.status.busy": "2024-10-02T08:47:03.108665Z",
     "iopub.status.idle": "2024-10-02T08:47:03.111314Z",
     "shell.execute_reply": "2024-10-02T08:47:03.111114Z"
    }
   },
   "outputs": [
    {
     "data": {
      "text/html": [
       "   <div id=\"2NGRq3\"></div>\n",
       "   <script type=\"text/javascript\" data-lets-plot-script=\"plot\">\n",
       "       (function() {\n",
       "           var plotSpec={\n",
       "\"data\":{\n",
       "\"drink\":[\"coffee\",\"tea\",\"water\",\"milk\"],\n",
       "\"mean\":[3.0,4.0,6.0,2.0],\n",
       "\"upper\":[1.0,5.0,7.0,4.0],\n",
       "\"lower\":[6.0,3.0,2.0,1.0]\n",
       "},\n",
       "\"mapping\":{\n",
       "},\n",
       "\"data_meta\":{\n",
       "\"series_annotations\":[{\n",
       "\"type\":\"str\",\n",
       "\"column\":\"drink\"\n",
       "},{\n",
       "\"type\":\"int\",\n",
       "\"column\":\"mean\"\n",
       "},{\n",
       "\"type\":\"int\",\n",
       "\"column\":\"upper\"\n",
       "},{\n",
       "\"type\":\"int\",\n",
       "\"column\":\"lower\"\n",
       "}]\n",
       "},\n",
       "\"theme\":{\n",
       "\"name\":\"grey\"\n",
       "},\n",
       "\"kind\":\"plot\",\n",
       "\"scales\":[{\n",
       "\"aesthetic\":\"color\",\n",
       "\"discrete\":true\n",
       "}],\n",
       "\"layers\":[{\n",
       "\"geom\":\"crossbar\",\n",
       "\"mapping\":{\n",
       "\"x\":\"drink\",\n",
       "\"y\":\"mean\",\n",
       "\"ymin\":\"lower\",\n",
       "\"ymax\":\"upper\",\n",
       "\"color\":\"mean\"\n",
       "},\n",
       "\"tooltips\":{\n",
       "\"formats\":[],\n",
       "\"disable_splitting\":true\n",
       "},\n",
       "\"data_meta\":{\n",
       "},\n",
       "\"fill_by\":\"color\",\n",
       "\"data\":{\n",
       "}\n",
       "}],\n",
       "\"metainfo_list\":[]\n",
       "};\n",
       "           var plotContainer = document.getElementById(\"2NGRq3\");\n",
       "           window.letsPlotCall(function() {{\n",
       "               LetsPlot.buildPlotFromProcessedSpecs(plotSpec, -1, -1, plotContainer);\n",
       "           }});\n",
       "       })();\n",
       "   </script>"
      ],
      "text/plain": [
       "<lets_plot.plot.core.PlotSpec at 0x14b70ea40>"
      ]
     },
     "execution_count": 4,
     "metadata": {},
     "output_type": "execute_result"
    }
   ],
   "source": [
    "ggplot(data) + \\\n",
    "    geom_crossbar(aes(x='drink', y='mean', ymin='lower', ymax='upper', color='mean'),\n",
    "                  fill_by='color',\n",
    "                  tooltips=layer_tooltips().disable_splitting()) + \\\n",
    "    scale_color_discrete()"
   ]
  },
  {
   "cell_type": "code",
   "execution_count": 5,
   "metadata": {
    "execution": {
     "iopub.execute_input": "2024-10-02T08:47:03.112306Z",
     "iopub.status.busy": "2024-10-02T08:47:03.112233Z",
     "iopub.status.idle": "2024-10-02T08:47:03.114568Z",
     "shell.execute_reply": "2024-10-02T08:47:03.114376Z"
    },
    "tags": []
   },
   "outputs": [
    {
     "data": {
      "text/html": [
       "   <div id=\"JXaxIY\"></div>\n",
       "   <script type=\"text/javascript\" data-lets-plot-script=\"plot\">\n",
       "       (function() {\n",
       "           var plotSpec={\n",
       "\"data\":{\n",
       "\"drink\":[\"coffee\",\"tea\",\"water\",\"milk\"],\n",
       "\"mean\":[3.0,4.0,6.0,2.0],\n",
       "\"upper\":[1.0,5.0,7.0,4.0],\n",
       "\"lower\":[6.0,3.0,2.0,1.0]\n",
       "},\n",
       "\"mapping\":{\n",
       "},\n",
       "\"data_meta\":{\n",
       "\"series_annotations\":[{\n",
       "\"type\":\"str\",\n",
       "\"column\":\"drink\"\n",
       "},{\n",
       "\"type\":\"int\",\n",
       "\"column\":\"mean\"\n",
       "},{\n",
       "\"type\":\"int\",\n",
       "\"column\":\"upper\"\n",
       "},{\n",
       "\"type\":\"int\",\n",
       "\"column\":\"lower\"\n",
       "}]\n",
       "},\n",
       "\"theme\":{\n",
       "\"name\":\"grey\"\n",
       "},\n",
       "\"kind\":\"plot\",\n",
       "\"scales\":[],\n",
       "\"layers\":[{\n",
       "\"geom\":\"crossbar\",\n",
       "\"mapping\":{\n",
       "\"x\":\"drink\",\n",
       "\"y\":\"mean\",\n",
       "\"ymin\":\"lower\",\n",
       "\"ymax\":\"upper\",\n",
       "\"color\":\"mean\"\n",
       "},\n",
       "\"data_meta\":{\n",
       "},\n",
       "\"data\":{\n",
       "}\n",
       "}],\n",
       "\"metainfo_list\":[]\n",
       "};\n",
       "           var plotContainer = document.getElementById(\"JXaxIY\");\n",
       "           window.letsPlotCall(function() {{\n",
       "               LetsPlot.buildPlotFromProcessedSpecs(plotSpec, -1, -1, plotContainer);\n",
       "           }});\n",
       "       })();\n",
       "   </script>"
      ],
      "text/plain": [
       "<lets_plot.plot.core.PlotSpec at 0x14b483dc0>"
      ]
     },
     "execution_count": 5,
     "metadata": {},
     "output_type": "execute_result"
    }
   ],
   "source": [
    "ggplot(data) + geom_crossbar(aes(x='drink', y='mean', ymin='lower', ymax='upper', color='mean'))"
   ]
  },
  {
   "cell_type": "code",
   "execution_count": 6,
   "metadata": {
    "execution": {
     "iopub.execute_input": "2024-10-02T08:47:03.115524Z",
     "iopub.status.busy": "2024-10-02T08:47:03.115436Z",
     "iopub.status.idle": "2024-10-02T08:47:03.117677Z",
     "shell.execute_reply": "2024-10-02T08:47:03.117483Z"
    }
   },
   "outputs": [
    {
     "data": {
      "text/html": [
       "   <div id=\"bk1XmH\"></div>\n",
       "   <script type=\"text/javascript\" data-lets-plot-script=\"plot\">\n",
       "       (function() {\n",
       "           var plotSpec={\n",
       "\"data\":{\n",
       "\"drink\":[\"coffee\",\"tea\",\"water\",\"milk\"],\n",
       "\"mean\":[3.0,4.0,6.0,2.0],\n",
       "\"upper\":[1.0,5.0,7.0,4.0],\n",
       "\"lower\":[6.0,3.0,2.0,1.0]\n",
       "},\n",
       "\"mapping\":{\n",
       "},\n",
       "\"data_meta\":{\n",
       "\"series_annotations\":[{\n",
       "\"type\":\"str\",\n",
       "\"column\":\"drink\"\n",
       "},{\n",
       "\"type\":\"int\",\n",
       "\"column\":\"mean\"\n",
       "},{\n",
       "\"type\":\"int\",\n",
       "\"column\":\"upper\"\n",
       "},{\n",
       "\"type\":\"int\",\n",
       "\"column\":\"lower\"\n",
       "}]\n",
       "},\n",
       "\"theme\":{\n",
       "\"name\":\"grey\"\n",
       "},\n",
       "\"kind\":\"plot\",\n",
       "\"scales\":[{\n",
       "\"aesthetic\":\"color\",\n",
       "\"discrete\":true\n",
       "}],\n",
       "\"layers\":[{\n",
       "\"geom\":\"errorbar\",\n",
       "\"mapping\":{\n",
       "\"x\":\"drink\",\n",
       "\"y\":\"mean\",\n",
       "\"ymin\":\"lower\",\n",
       "\"ymax\":\"upper\",\n",
       "\"color\":\"mean\"\n",
       "},\n",
       "\"data_meta\":{\n",
       "},\n",
       "\"data\":{\n",
       "}\n",
       "}],\n",
       "\"metainfo_list\":[]\n",
       "};\n",
       "           var plotContainer = document.getElementById(\"bk1XmH\");\n",
       "           window.letsPlotCall(function() {{\n",
       "               LetsPlot.buildPlotFromProcessedSpecs(plotSpec, -1, -1, plotContainer);\n",
       "           }});\n",
       "       })();\n",
       "   </script>"
      ],
      "text/plain": [
       "<lets_plot.plot.core.PlotSpec at 0x14b7402b0>"
      ]
     },
     "execution_count": 6,
     "metadata": {},
     "output_type": "execute_result"
    }
   ],
   "source": [
    "ggplot(data) + \\\n",
    "    geom_errorbar(aes(x='drink', y='mean', ymin='lower', ymax='upper', color='mean')) + \\\n",
    "    scale_color_discrete()"
   ]
  },
  {
   "cell_type": "code",
   "execution_count": 7,
   "metadata": {
    "execution": {
     "iopub.execute_input": "2024-10-02T08:47:03.118676Z",
     "iopub.status.busy": "2024-10-02T08:47:03.118608Z",
     "iopub.status.idle": "2024-10-02T08:47:03.121246Z",
     "shell.execute_reply": "2024-10-02T08:47:03.121049Z"
    }
   },
   "outputs": [
    {
     "data": {
      "text/html": [
       "   <div id=\"OkL5jT\"></div>\n",
       "   <script type=\"text/javascript\" data-lets-plot-script=\"plot\">\n",
       "       (function() {\n",
       "           var plotSpec={\n",
       "\"data\":{\n",
       "\"drink\":[\"coffee\",\"tea\",\"water\",\"milk\"],\n",
       "\"mean\":[3.0,4.0,6.0,2.0],\n",
       "\"upper\":[1.0,5.0,7.0,4.0],\n",
       "\"lower\":[6.0,3.0,2.0,1.0]\n",
       "},\n",
       "\"mapping\":{\n",
       "},\n",
       "\"data_meta\":{\n",
       "\"series_annotations\":[{\n",
       "\"type\":\"str\",\n",
       "\"column\":\"drink\"\n",
       "},{\n",
       "\"type\":\"int\",\n",
       "\"column\":\"mean\"\n",
       "},{\n",
       "\"type\":\"int\",\n",
       "\"column\":\"upper\"\n",
       "},{\n",
       "\"type\":\"int\",\n",
       "\"column\":\"lower\"\n",
       "}]\n",
       "},\n",
       "\"theme\":{\n",
       "\"name\":\"grey\"\n",
       "},\n",
       "\"kind\":\"plot\",\n",
       "\"scales\":[{\n",
       "\"aesthetic\":\"fill\",\n",
       "\"discrete\":true\n",
       "}],\n",
       "\"layers\":[{\n",
       "\"geom\":\"pointrange\",\n",
       "\"mapping\":{\n",
       "\"x\":\"drink\",\n",
       "\"y\":\"mean\",\n",
       "\"ymin\":\"lower\",\n",
       "\"ymax\":\"upper\",\n",
       "\"fill\":\"mean\"\n",
       "},\n",
       "\"data_meta\":{\n",
       "},\n",
       "\"size\":3.0,\n",
       "\"linewidth\":3.0,\n",
       "\"shape\":21.0,\n",
       "\"color\":\"dark_green\",\n",
       "\"data\":{\n",
       "}\n",
       "}],\n",
       "\"metainfo_list\":[]\n",
       "};\n",
       "           var plotContainer = document.getElementById(\"OkL5jT\");\n",
       "           window.letsPlotCall(function() {{\n",
       "               LetsPlot.buildPlotFromProcessedSpecs(plotSpec, -1, -1, plotContainer);\n",
       "           }});\n",
       "       })();\n",
       "   </script>"
      ],
      "text/plain": [
       "<lets_plot.plot.core.PlotSpec at 0x14b741600>"
      ]
     },
     "execution_count": 7,
     "metadata": {},
     "output_type": "execute_result"
    }
   ],
   "source": [
    "ggplot(data) + \\\n",
    "    geom_pointrange(aes(x='drink', y='mean', ymin='lower', ymax='upper', fill='mean'), \\\n",
    "                    size=3, linewidth=3, shape=21, color='dark_green') + \\\n",
    "    scale_fill_discrete()"
   ]
  },
  {
   "cell_type": "code",
   "execution_count": 8,
   "metadata": {
    "execution": {
     "iopub.execute_input": "2024-10-02T08:47:03.122216Z",
     "iopub.status.busy": "2024-10-02T08:47:03.122147Z",
     "iopub.status.idle": "2024-10-02T08:47:03.124742Z",
     "shell.execute_reply": "2024-10-02T08:47:03.124551Z"
    }
   },
   "outputs": [
    {
     "data": {
      "text/html": [
       "   <div id=\"KYwewK\"></div>\n",
       "   <script type=\"text/javascript\" data-lets-plot-script=\"plot\">\n",
       "       (function() {\n",
       "           var plotSpec={\n",
       "\"data\":{\n",
       "\"drink\":[\"coffee\",\"tea\",\"water\",\"milk\"],\n",
       "\"mean\":[3.0,4.0,6.0,2.0],\n",
       "\"upper\":[1.0,5.0,7.0,4.0],\n",
       "\"lower\":[6.0,3.0,2.0,1.0]\n",
       "},\n",
       "\"mapping\":{\n",
       "},\n",
       "\"data_meta\":{\n",
       "\"series_annotations\":[{\n",
       "\"type\":\"str\",\n",
       "\"column\":\"drink\"\n",
       "},{\n",
       "\"type\":\"int\",\n",
       "\"column\":\"mean\"\n",
       "},{\n",
       "\"type\":\"int\",\n",
       "\"column\":\"upper\"\n",
       "},{\n",
       "\"type\":\"int\",\n",
       "\"column\":\"lower\"\n",
       "}]\n",
       "},\n",
       "\"theme\":{\n",
       "\"name\":\"grey\"\n",
       "},\n",
       "\"kind\":\"plot\",\n",
       "\"scales\":[{\n",
       "\"aesthetic\":\"fill\",\n",
       "\"discrete\":true\n",
       "}],\n",
       "\"layers\":[{\n",
       "\"geom\":\"pointrange\",\n",
       "\"mapping\":{\n",
       "\"x\":\"drink\",\n",
       "\"y\":\"mean\",\n",
       "\"ymin\":\"lower\",\n",
       "\"ymax\":\"upper\",\n",
       "\"fill\":\"mean\"\n",
       "},\n",
       "\"data_meta\":{\n",
       "},\n",
       "\"size\":3.0,\n",
       "\"linewidth\":3.0,\n",
       "\"shape\":21.0,\n",
       "\"color\":\"dark_green\",\n",
       "\"alpha\":0.5,\n",
       "\"data\":{\n",
       "}\n",
       "}],\n",
       "\"metainfo_list\":[]\n",
       "};\n",
       "           var plotContainer = document.getElementById(\"KYwewK\");\n",
       "           window.letsPlotCall(function() {{\n",
       "               LetsPlot.buildPlotFromProcessedSpecs(plotSpec, -1, -1, plotContainer);\n",
       "           }});\n",
       "       })();\n",
       "   </script>"
      ],
      "text/plain": [
       "<lets_plot.plot.core.PlotSpec at 0x14b742260>"
      ]
     },
     "execution_count": 8,
     "metadata": {},
     "output_type": "execute_result"
    }
   ],
   "source": [
    "ggplot(data) + \\\n",
    "    geom_pointrange(aes(x='drink', y='mean', ymin='lower', ymax='upper', fill='mean'),\n",
    "                    size=3, linewidth=3, shape=21, color='dark_green', alpha=0.5) + \\\n",
    "    scale_fill_discrete()"
   ]
  }
 ],
 "metadata": {
  "kernelspec": {
   "display_name": "Python 3 (ipykernel)",
   "language": "python",
   "name": "python3"
  },
  "language_info": {
   "codemirror_mode": {
    "name": "ipython",
    "version": 3
   },
   "file_extension": ".py",
   "mimetype": "text/x-python",
   "name": "python",
   "nbconvert_exporter": "python",
   "pygments_lexer": "ipython3",
   "version": "3.10.15"
  }
 },
 "nbformat": 4,
 "nbformat_minor": 4
}
