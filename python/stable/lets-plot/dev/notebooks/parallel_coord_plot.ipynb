{
 "cells": [
  {
   "cell_type": "code",
   "execution_count": 1,
   "id": "aed85edd-713f-43c6-a1ee-6d07b31192fe",
   "metadata": {
    "execution": {
     "iopub.execute_input": "2024-10-02T08:47:30.214137Z",
     "iopub.status.busy": "2024-10-02T08:47:30.213257Z",
     "iopub.status.idle": "2024-10-02T08:47:30.648846Z",
     "shell.execute_reply": "2024-10-02T08:47:30.648486Z"
    }
   },
   "outputs": [],
   "source": [
    "import numpy as np\n",
    "import pandas as pd\n",
    "\n",
    "from lets_plot import *"
   ]
  },
  {
   "cell_type": "code",
   "execution_count": 2,
   "id": "cdf544b2-0af6-42c4-b10a-629cd5b36aa3",
   "metadata": {
    "execution": {
     "iopub.execute_input": "2024-10-02T08:47:30.650191Z",
     "iopub.status.busy": "2024-10-02T08:47:30.650082Z",
     "iopub.status.idle": "2024-10-02T08:47:30.652345Z",
     "shell.execute_reply": "2024-10-02T08:47:30.652094Z"
    }
   },
   "outputs": [
    {
     "data": {
      "text/html": [
       "\n",
       "            <div id=\"QEBasg\"></div>\n",
       "            <script type=\"text/javascript\" data-lets-plot-script=\"library\">\n",
       "                if(!window.letsPlotCallQueue) {\n",
       "                    window.letsPlotCallQueue = [];\n",
       "                }; \n",
       "                window.letsPlotCall = function(f) {\n",
       "                    window.letsPlotCallQueue.push(f);\n",
       "                };\n",
       "                (function() {\n",
       "                    var script = document.createElement(\"script\");\n",
       "                    script.type = \"text/javascript\";\n",
       "                    script.src = \"https://cdn.jsdelivr.net/gh/JetBrains/lets-plot@v4.4.1/js-package/distr/lets-plot.min.js\";\n",
       "                    script.onload = function() {\n",
       "                        window.letsPlotCall = function(f) {f();};\n",
       "                        window.letsPlotCallQueue.forEach(function(f) {f();});\n",
       "                        window.letsPlotCallQueue = [];\n",
       "                        \n",
       "                    };\n",
       "                    script.onerror = function(event) {\n",
       "                        window.letsPlotCall = function(f) {};    // noop\n",
       "                        window.letsPlotCallQueue = [];\n",
       "                        var div = document.createElement(\"div\");\n",
       "                        div.style.color = 'darkred';\n",
       "                        div.textContent = 'Error loading Lets-Plot JS';\n",
       "                        document.getElementById(\"QEBasg\").appendChild(div);\n",
       "                    };\n",
       "                    var e = document.getElementById(\"QEBasg\");\n",
       "                    e.appendChild(script);\n",
       "                })()\n",
       "            </script>\n",
       "            "
      ]
     },
     "metadata": {},
     "output_type": "display_data"
    }
   ],
   "source": [
    "LetsPlot.setup_html()"
   ]
  },
  {
   "cell_type": "markdown",
   "id": "a6348b82-1288-4509-8910-f54ab4fc6dde",
   "metadata": {},
   "source": [
    "# Function `parallel_coordinates_plot()`"
   ]
  },
  {
   "cell_type": "code",
   "execution_count": 3,
   "id": "7ba8c32f-7dd4-4c4c-8555-232db94027f5",
   "metadata": {
    "execution": {
     "iopub.execute_input": "2024-10-02T08:47:30.653563Z",
     "iopub.status.busy": "2024-10-02T08:47:30.653485Z",
     "iopub.status.idle": "2024-10-02T08:47:30.655832Z",
     "shell.execute_reply": "2024-10-02T08:47:30.655629Z"
    }
   },
   "outputs": [],
   "source": [
    "def parallel_coordinates_plot(df: pd.DataFrame, class_column_name, order=None):\n",
    "    plot_df = df.copy()\n",
    "    plot_df.insert(0, 'par_plot_idx', list(range(df.shape[0])))\n",
    "\n",
    "    var_names = df.columns.tolist()\n",
    "    var_names.remove(class_column_name)\n",
    "\n",
    "    plot_df = plot_df.melt(\n",
    "        id_vars=[class_column_name, 'par_plot_idx'],\n",
    "        value_vars= var_names\n",
    "    )\n",
    "    \n",
    "    p = ggplot(plot_df, aes(x='variable', y='value', color=class_column_name, group='par_plot_idx')) \\\n",
    "        + geom_line(size=1)\n",
    "\n",
    "    if order is not None:\n",
    "        p += scale_x_discrete(breaks=order)\n",
    "        \n",
    "    return p"
   ]
  },
  {
   "cell_type": "markdown",
   "id": "74a882f8-c3e8-448f-8ed1-c326e7458517",
   "metadata": {},
   "source": [
    "# Demo"
   ]
  },
  {
   "cell_type": "code",
   "execution_count": 4,
   "id": "7311ac4d-5018-4f1e-a84a-7113f025eddd",
   "metadata": {
    "execution": {
     "iopub.execute_input": "2024-10-02T08:47:30.656910Z",
     "iopub.status.busy": "2024-10-02T08:47:30.656841Z",
     "iopub.status.idle": "2024-10-02T08:47:30.822842Z",
     "shell.execute_reply": "2024-10-02T08:47:30.822428Z"
    }
   },
   "outputs": [
    {
     "data": {
      "text/html": [
       "<div>\n",
       "<style scoped>\n",
       "    .dataframe tbody tr th:only-of-type {\n",
       "        vertical-align: middle;\n",
       "    }\n",
       "\n",
       "    .dataframe tbody tr th {\n",
       "        vertical-align: top;\n",
       "    }\n",
       "\n",
       "    .dataframe thead th {\n",
       "        text-align: right;\n",
       "    }\n",
       "</style>\n",
       "<table border=\"1\" class=\"dataframe\">\n",
       "  <thead>\n",
       "    <tr style=\"text-align: right;\">\n",
       "      <th></th>\n",
       "      <th>sepal_length</th>\n",
       "      <th>sepal_width</th>\n",
       "      <th>petal_length</th>\n",
       "      <th>petal_width</th>\n",
       "      <th>species</th>\n",
       "    </tr>\n",
       "  </thead>\n",
       "  <tbody>\n",
       "    <tr>\n",
       "      <th>0</th>\n",
       "      <td>5.1</td>\n",
       "      <td>3.5</td>\n",
       "      <td>1.4</td>\n",
       "      <td>0.2</td>\n",
       "      <td>setosa</td>\n",
       "    </tr>\n",
       "    <tr>\n",
       "      <th>1</th>\n",
       "      <td>4.9</td>\n",
       "      <td>3.0</td>\n",
       "      <td>1.4</td>\n",
       "      <td>0.2</td>\n",
       "      <td>setosa</td>\n",
       "    </tr>\n",
       "    <tr>\n",
       "      <th>2</th>\n",
       "      <td>4.7</td>\n",
       "      <td>3.2</td>\n",
       "      <td>1.3</td>\n",
       "      <td>0.2</td>\n",
       "      <td>setosa</td>\n",
       "    </tr>\n",
       "    <tr>\n",
       "      <th>3</th>\n",
       "      <td>4.6</td>\n",
       "      <td>3.1</td>\n",
       "      <td>1.5</td>\n",
       "      <td>0.2</td>\n",
       "      <td>setosa</td>\n",
       "    </tr>\n",
       "    <tr>\n",
       "      <th>4</th>\n",
       "      <td>5.0</td>\n",
       "      <td>3.6</td>\n",
       "      <td>1.4</td>\n",
       "      <td>0.2</td>\n",
       "      <td>setosa</td>\n",
       "    </tr>\n",
       "  </tbody>\n",
       "</table>\n",
       "</div>"
      ],
      "text/plain": [
       "   sepal_length  sepal_width  petal_length  petal_width species\n",
       "0           5.1          3.5           1.4          0.2  setosa\n",
       "1           4.9          3.0           1.4          0.2  setosa\n",
       "2           4.7          3.2           1.3          0.2  setosa\n",
       "3           4.6          3.1           1.5          0.2  setosa\n",
       "4           5.0          3.6           1.4          0.2  setosa"
      ]
     },
     "execution_count": 4,
     "metadata": {},
     "output_type": "execute_result"
    }
   ],
   "source": [
    "iris = pd.read_csv('https://raw.githubusercontent.com/JetBrains/lets-plot-docs/master/data/iris.csv')\n",
    "iris.head()"
   ]
  },
  {
   "cell_type": "markdown",
   "id": "4f45b226-af70-4a77-8eef-e4af9c6be2f5",
   "metadata": {},
   "source": [
    "### Default plot"
   ]
  },
  {
   "cell_type": "code",
   "execution_count": 5,
   "id": "06ce4669-63f6-454a-a830-cfc98995f04a",
   "metadata": {
    "execution": {
     "iopub.execute_input": "2024-10-02T08:47:30.824900Z",
     "iopub.status.busy": "2024-10-02T08:47:30.824625Z",
     "iopub.status.idle": "2024-10-02T08:47:30.868213Z",
     "shell.execute_reply": "2024-10-02T08:47:30.867982Z"
    }
   },
   "outputs": [
    {
     "data": {
      "text/html": [
       "   <div id=\"PRoYva\"></div>\n",
       "   <script type=\"text/javascript\" data-lets-plot-script=\"plot\">\n",
       "       (function() {\n",
       "           var plotSpec={\n",
       "\"data\":{\n",
       "\"species\":[\"setosa\",\"setosa\",\"setosa\",\"setosa\",\"setosa\",\"setosa\",\"setosa\",\"setosa\",\"setosa\",\"setosa\",\"setosa\",\"setosa\",\"setosa\",\"setosa\",\"setosa\",\"setosa\",\"setosa\",\"setosa\",\"setosa\",\"setosa\",\"setosa\",\"setosa\",\"setosa\",\"setosa\",\"setosa\",\"setosa\",\"setosa\",\"setosa\",\"setosa\",\"setosa\",\"setosa\",\"setosa\",\"setosa\",\"setosa\",\"setosa\",\"setosa\",\"setosa\",\"setosa\",\"setosa\",\"setosa\",\"setosa\",\"setosa\",\"setosa\",\"setosa\",\"setosa\",\"setosa\",\"setosa\",\"setosa\",\"setosa\",\"setosa\",\"versicolor\",\"versicolor\",\"versicolor\",\"versicolor\",\"versicolor\",\"versicolor\",\"versicolor\",\"versicolor\",\"versicolor\",\"versicolor\",\"versicolor\",\"versicolor\",\"versicolor\",\"versicolor\",\"versicolor\",\"versicolor\",\"versicolor\",\"versicolor\",\"versicolor\",\"versicolor\",\"versicolor\",\"versicolor\",\"versicolor\",\"versicolor\",\"versicolor\",\"versicolor\",\"versicolor\",\"versicolor\",\"versicolor\",\"versicolor\",\"versicolor\",\"versicolor\",\"versicolor\",\"versicolor\",\"versicolor\",\"versicolor\",\"versicolor\",\"versicolor\",\"versicolor\",\"versicolor\",\"versicolor\",\"versicolor\",\"versicolor\",\"versicolor\",\"versicolor\",\"versicolor\",\"versicolor\",\"versicolor\",\"versicolor\",\"versicolor\",\"virginica\",\"virginica\",\"virginica\",\"virginica\",\"virginica\",\"virginica\",\"virginica\",\"virginica\",\"virginica\",\"virginica\",\"virginica\",\"virginica\",\"virginica\",\"virginica\",\"virginica\",\"virginica\",\"virginica\",\"virginica\",\"virginica\",\"virginica\",\"virginica\",\"virginica\",\"virginica\",\"virginica\",\"virginica\",\"virginica\",\"virginica\",\"virginica\",\"virginica\",\"virginica\",\"virginica\",\"virginica\",\"virginica\",\"virginica\",\"virginica\",\"virginica\",\"virginica\",\"virginica\",\"virginica\",\"virginica\",\"virginica\",\"virginica\",\"virginica\",\"virginica\",\"virginica\",\"virginica\",\"virginica\",\"virginica\",\"virginica\",\"virginica\",\"setosa\",\"setosa\",\"setosa\",\"setosa\",\"setosa\",\"setosa\",\"setosa\",\"setosa\",\"setosa\",\"setosa\",\"setosa\",\"setosa\",\"setosa\",\"setosa\",\"setosa\",\"setosa\",\"setosa\",\"setosa\",\"setosa\",\"setosa\",\"setosa\",\"setosa\",\"setosa\",\"setosa\",\"setosa\",\"setosa\",\"setosa\",\"setosa\",\"setosa\",\"setosa\",\"setosa\",\"setosa\",\"setosa\",\"setosa\",\"setosa\",\"setosa\",\"setosa\",\"setosa\",\"setosa\",\"setosa\",\"setosa\",\"setosa\",\"setosa\",\"setosa\",\"setosa\",\"setosa\",\"setosa\",\"setosa\",\"setosa\",\"setosa\",\"versicolor\",\"versicolor\",\"versicolor\",\"versicolor\",\"versicolor\",\"versicolor\",\"versicolor\",\"versicolor\",\"versicolor\",\"versicolor\",\"versicolor\",\"versicolor\",\"versicolor\",\"versicolor\",\"versicolor\",\"versicolor\",\"versicolor\",\"versicolor\",\"versicolor\",\"versicolor\",\"versicolor\",\"versicolor\",\"versicolor\",\"versicolor\",\"versicolor\",\"versicolor\",\"versicolor\",\"versicolor\",\"versicolor\",\"versicolor\",\"versicolor\",\"versicolor\",\"versicolor\",\"versicolor\",\"versicolor\",\"versicolor\",\"versicolor\",\"versicolor\",\"versicolor\",\"versicolor\",\"versicolor\",\"versicolor\",\"versicolor\",\"versicolor\",\"versicolor\",\"versicolor\",\"versicolor\",\"versicolor\",\"versicolor\",\"versicolor\",\"virginica\",\"virginica\",\"virginica\",\"virginica\",\"virginica\",\"virginica\",\"virginica\",\"virginica\",\"virginica\",\"virginica\",\"virginica\",\"virginica\",\"virginica\",\"virginica\",\"virginica\",\"virginica\",\"virginica\",\"virginica\",\"virginica\",\"virginica\",\"virginica\",\"virginica\",\"virginica\",\"virginica\",\"virginica\",\"virginica\",\"virginica\",\"virginica\",\"virginica\",\"virginica\",\"virginica\",\"virginica\",\"virginica\",\"virginica\",\"virginica\",\"virginica\",\"virginica\",\"virginica\",\"virginica\",\"virginica\",\"virginica\",\"virginica\",\"virginica\",\"virginica\",\"virginica\",\"virginica\",\"virginica\",\"virginica\",\"virginica\",\"virginica\",\"setosa\",\"setosa\",\"setosa\",\"setosa\",\"setosa\",\"setosa\",\"setosa\",\"setosa\",\"setosa\",\"setosa\",\"setosa\",\"setosa\",\"setosa\",\"setosa\",\"setosa\",\"setosa\",\"setosa\",\"setosa\",\"setosa\",\"setosa\",\"setosa\",\"setosa\",\"setosa\",\"setosa\",\"setosa\",\"setosa\",\"setosa\",\"setosa\",\"setosa\",\"setosa\",\"setosa\",\"setosa\",\"setosa\",\"setosa\",\"setosa\",\"setosa\",\"setosa\",\"setosa\",\"setosa\",\"setosa\",\"setosa\",\"setosa\",\"setosa\",\"setosa\",\"setosa\",\"setosa\",\"setosa\",\"setosa\",\"setosa\",\"setosa\",\"versicolor\",\"versicolor\",\"versicolor\",\"versicolor\",\"versicolor\",\"versicolor\",\"versicolor\",\"versicolor\",\"versicolor\",\"versicolor\",\"versicolor\",\"versicolor\",\"versicolor\",\"versicolor\",\"versicolor\",\"versicolor\",\"versicolor\",\"versicolor\",\"versicolor\",\"versicolor\",\"versicolor\",\"versicolor\",\"versicolor\",\"versicolor\",\"versicolor\",\"versicolor\",\"versicolor\",\"versicolor\",\"versicolor\",\"versicolor\",\"versicolor\",\"versicolor\",\"versicolor\",\"versicolor\",\"versicolor\",\"versicolor\",\"versicolor\",\"versicolor\",\"versicolor\",\"versicolor\",\"versicolor\",\"versicolor\",\"versicolor\",\"versicolor\",\"versicolor\",\"versicolor\",\"versicolor\",\"versicolor\",\"versicolor\",\"versicolor\",\"virginica\",\"virginica\",\"virginica\",\"virginica\",\"virginica\",\"virginica\",\"virginica\",\"virginica\",\"virginica\",\"virginica\",\"virginica\",\"virginica\",\"virginica\",\"virginica\",\"virginica\",\"virginica\",\"virginica\",\"virginica\",\"virginica\",\"virginica\",\"virginica\",\"virginica\",\"virginica\",\"virginica\",\"virginica\",\"virginica\",\"virginica\",\"virginica\",\"virginica\",\"virginica\",\"virginica\",\"virginica\",\"virginica\",\"virginica\",\"virginica\",\"virginica\",\"virginica\",\"virginica\",\"virginica\",\"virginica\",\"virginica\",\"virginica\",\"virginica\",\"virginica\",\"virginica\",\"virginica\",\"virginica\",\"virginica\",\"virginica\",\"virginica\",\"setosa\",\"setosa\",\"setosa\",\"setosa\",\"setosa\",\"setosa\",\"setosa\",\"setosa\",\"setosa\",\"setosa\",\"setosa\",\"setosa\",\"setosa\",\"setosa\",\"setosa\",\"setosa\",\"setosa\",\"setosa\",\"setosa\",\"setosa\",\"setosa\",\"setosa\",\"setosa\",\"setosa\",\"setosa\",\"setosa\",\"setosa\",\"setosa\",\"setosa\",\"setosa\",\"setosa\",\"setosa\",\"setosa\",\"setosa\",\"setosa\",\"setosa\",\"setosa\",\"setosa\",\"setosa\",\"setosa\",\"setosa\",\"setosa\",\"setosa\",\"setosa\",\"setosa\",\"setosa\",\"setosa\",\"setosa\",\"setosa\",\"setosa\",\"versicolor\",\"versicolor\",\"versicolor\",\"versicolor\",\"versicolor\",\"versicolor\",\"versicolor\",\"versicolor\",\"versicolor\",\"versicolor\",\"versicolor\",\"versicolor\",\"versicolor\",\"versicolor\",\"versicolor\",\"versicolor\",\"versicolor\",\"versicolor\",\"versicolor\",\"versicolor\",\"versicolor\",\"versicolor\",\"versicolor\",\"versicolor\",\"versicolor\",\"versicolor\",\"versicolor\",\"versicolor\",\"versicolor\",\"versicolor\",\"versicolor\",\"versicolor\",\"versicolor\",\"versicolor\",\"versicolor\",\"versicolor\",\"versicolor\",\"versicolor\",\"versicolor\",\"versicolor\",\"versicolor\",\"versicolor\",\"versicolor\",\"versicolor\",\"versicolor\",\"versicolor\",\"versicolor\",\"versicolor\",\"versicolor\",\"versicolor\",\"virginica\",\"virginica\",\"virginica\",\"virginica\",\"virginica\",\"virginica\",\"virginica\",\"virginica\",\"virginica\",\"virginica\",\"virginica\",\"virginica\",\"virginica\",\"virginica\",\"virginica\",\"virginica\",\"virginica\",\"virginica\",\"virginica\",\"virginica\",\"virginica\",\"virginica\",\"virginica\",\"virginica\",\"virginica\",\"virginica\",\"virginica\",\"virginica\",\"virginica\",\"virginica\",\"virginica\",\"virginica\",\"virginica\",\"virginica\",\"virginica\",\"virginica\",\"virginica\",\"virginica\",\"virginica\",\"virginica\",\"virginica\",\"virginica\",\"virginica\",\"virginica\",\"virginica\",\"virginica\",\"virginica\",\"virginica\",\"virginica\",\"virginica\"],\n",
       "\"par_plot_idx\":[0.0,1.0,2.0,3.0,4.0,5.0,6.0,7.0,8.0,9.0,10.0,11.0,12.0,13.0,14.0,15.0,16.0,17.0,18.0,19.0,20.0,21.0,22.0,23.0,24.0,25.0,26.0,27.0,28.0,29.0,30.0,31.0,32.0,33.0,34.0,35.0,36.0,37.0,38.0,39.0,40.0,41.0,42.0,43.0,44.0,45.0,46.0,47.0,48.0,49.0,50.0,51.0,52.0,53.0,54.0,55.0,56.0,57.0,58.0,59.0,60.0,61.0,62.0,63.0,64.0,65.0,66.0,67.0,68.0,69.0,70.0,71.0,72.0,73.0,74.0,75.0,76.0,77.0,78.0,79.0,80.0,81.0,82.0,83.0,84.0,85.0,86.0,87.0,88.0,89.0,90.0,91.0,92.0,93.0,94.0,95.0,96.0,97.0,98.0,99.0,100.0,101.0,102.0,103.0,104.0,105.0,106.0,107.0,108.0,109.0,110.0,111.0,112.0,113.0,114.0,115.0,116.0,117.0,118.0,119.0,120.0,121.0,122.0,123.0,124.0,125.0,126.0,127.0,128.0,129.0,130.0,131.0,132.0,133.0,134.0,135.0,136.0,137.0,138.0,139.0,140.0,141.0,142.0,143.0,144.0,145.0,146.0,147.0,148.0,149.0,0.0,1.0,2.0,3.0,4.0,5.0,6.0,7.0,8.0,9.0,10.0,11.0,12.0,13.0,14.0,15.0,16.0,17.0,18.0,19.0,20.0,21.0,22.0,23.0,24.0,25.0,26.0,27.0,28.0,29.0,30.0,31.0,32.0,33.0,34.0,35.0,36.0,37.0,38.0,39.0,40.0,41.0,42.0,43.0,44.0,45.0,46.0,47.0,48.0,49.0,50.0,51.0,52.0,53.0,54.0,55.0,56.0,57.0,58.0,59.0,60.0,61.0,62.0,63.0,64.0,65.0,66.0,67.0,68.0,69.0,70.0,71.0,72.0,73.0,74.0,75.0,76.0,77.0,78.0,79.0,80.0,81.0,82.0,83.0,84.0,85.0,86.0,87.0,88.0,89.0,90.0,91.0,92.0,93.0,94.0,95.0,96.0,97.0,98.0,99.0,100.0,101.0,102.0,103.0,104.0,105.0,106.0,107.0,108.0,109.0,110.0,111.0,112.0,113.0,114.0,115.0,116.0,117.0,118.0,119.0,120.0,121.0,122.0,123.0,124.0,125.0,126.0,127.0,128.0,129.0,130.0,131.0,132.0,133.0,134.0,135.0,136.0,137.0,138.0,139.0,140.0,141.0,142.0,143.0,144.0,145.0,146.0,147.0,148.0,149.0,0.0,1.0,2.0,3.0,4.0,5.0,6.0,7.0,8.0,9.0,10.0,11.0,12.0,13.0,14.0,15.0,16.0,17.0,18.0,19.0,20.0,21.0,22.0,23.0,24.0,25.0,26.0,27.0,28.0,29.0,30.0,31.0,32.0,33.0,34.0,35.0,36.0,37.0,38.0,39.0,40.0,41.0,42.0,43.0,44.0,45.0,46.0,47.0,48.0,49.0,50.0,51.0,52.0,53.0,54.0,55.0,56.0,57.0,58.0,59.0,60.0,61.0,62.0,63.0,64.0,65.0,66.0,67.0,68.0,69.0,70.0,71.0,72.0,73.0,74.0,75.0,76.0,77.0,78.0,79.0,80.0,81.0,82.0,83.0,84.0,85.0,86.0,87.0,88.0,89.0,90.0,91.0,92.0,93.0,94.0,95.0,96.0,97.0,98.0,99.0,100.0,101.0,102.0,103.0,104.0,105.0,106.0,107.0,108.0,109.0,110.0,111.0,112.0,113.0,114.0,115.0,116.0,117.0,118.0,119.0,120.0,121.0,122.0,123.0,124.0,125.0,126.0,127.0,128.0,129.0,130.0,131.0,132.0,133.0,134.0,135.0,136.0,137.0,138.0,139.0,140.0,141.0,142.0,143.0,144.0,145.0,146.0,147.0,148.0,149.0,0.0,1.0,2.0,3.0,4.0,5.0,6.0,7.0,8.0,9.0,10.0,11.0,12.0,13.0,14.0,15.0,16.0,17.0,18.0,19.0,20.0,21.0,22.0,23.0,24.0,25.0,26.0,27.0,28.0,29.0,30.0,31.0,32.0,33.0,34.0,35.0,36.0,37.0,38.0,39.0,40.0,41.0,42.0,43.0,44.0,45.0,46.0,47.0,48.0,49.0,50.0,51.0,52.0,53.0,54.0,55.0,56.0,57.0,58.0,59.0,60.0,61.0,62.0,63.0,64.0,65.0,66.0,67.0,68.0,69.0,70.0,71.0,72.0,73.0,74.0,75.0,76.0,77.0,78.0,79.0,80.0,81.0,82.0,83.0,84.0,85.0,86.0,87.0,88.0,89.0,90.0,91.0,92.0,93.0,94.0,95.0,96.0,97.0,98.0,99.0,100.0,101.0,102.0,103.0,104.0,105.0,106.0,107.0,108.0,109.0,110.0,111.0,112.0,113.0,114.0,115.0,116.0,117.0,118.0,119.0,120.0,121.0,122.0,123.0,124.0,125.0,126.0,127.0,128.0,129.0,130.0,131.0,132.0,133.0,134.0,135.0,136.0,137.0,138.0,139.0,140.0,141.0,142.0,143.0,144.0,145.0,146.0,147.0,148.0,149.0],\n",
       "\"variable\":[\"sepal_length\",\"sepal_length\",\"sepal_length\",\"sepal_length\",\"sepal_length\",\"sepal_length\",\"sepal_length\",\"sepal_length\",\"sepal_length\",\"sepal_length\",\"sepal_length\",\"sepal_length\",\"sepal_length\",\"sepal_length\",\"sepal_length\",\"sepal_length\",\"sepal_length\",\"sepal_length\",\"sepal_length\",\"sepal_length\",\"sepal_length\",\"sepal_length\",\"sepal_length\",\"sepal_length\",\"sepal_length\",\"sepal_length\",\"sepal_length\",\"sepal_length\",\"sepal_length\",\"sepal_length\",\"sepal_length\",\"sepal_length\",\"sepal_length\",\"sepal_length\",\"sepal_length\",\"sepal_length\",\"sepal_length\",\"sepal_length\",\"sepal_length\",\"sepal_length\",\"sepal_length\",\"sepal_length\",\"sepal_length\",\"sepal_length\",\"sepal_length\",\"sepal_length\",\"sepal_length\",\"sepal_length\",\"sepal_length\",\"sepal_length\",\"sepal_length\",\"sepal_length\",\"sepal_length\",\"sepal_length\",\"sepal_length\",\"sepal_length\",\"sepal_length\",\"sepal_length\",\"sepal_length\",\"sepal_length\",\"sepal_length\",\"sepal_length\",\"sepal_length\",\"sepal_length\",\"sepal_length\",\"sepal_length\",\"sepal_length\",\"sepal_length\",\"sepal_length\",\"sepal_length\",\"sepal_length\",\"sepal_length\",\"sepal_length\",\"sepal_length\",\"sepal_length\",\"sepal_length\",\"sepal_length\",\"sepal_length\",\"sepal_length\",\"sepal_length\",\"sepal_length\",\"sepal_length\",\"sepal_length\",\"sepal_length\",\"sepal_length\",\"sepal_length\",\"sepal_length\",\"sepal_length\",\"sepal_length\",\"sepal_length\",\"sepal_length\",\"sepal_length\",\"sepal_length\",\"sepal_length\",\"sepal_length\",\"sepal_length\",\"sepal_length\",\"sepal_length\",\"sepal_length\",\"sepal_length\",\"sepal_length\",\"sepal_length\",\"sepal_length\",\"sepal_length\",\"sepal_length\",\"sepal_length\",\"sepal_length\",\"sepal_length\",\"sepal_length\",\"sepal_length\",\"sepal_length\",\"sepal_length\",\"sepal_length\",\"sepal_length\",\"sepal_length\",\"sepal_length\",\"sepal_length\",\"sepal_length\",\"sepal_length\",\"sepal_length\",\"sepal_length\",\"sepal_length\",\"sepal_length\",\"sepal_length\",\"sepal_length\",\"sepal_length\",\"sepal_length\",\"sepal_length\",\"sepal_length\",\"sepal_length\",\"sepal_length\",\"sepal_length\",\"sepal_length\",\"sepal_length\",\"sepal_length\",\"sepal_length\",\"sepal_length\",\"sepal_length\",\"sepal_length\",\"sepal_length\",\"sepal_length\",\"sepal_length\",\"sepal_length\",\"sepal_length\",\"sepal_length\",\"sepal_length\",\"sepal_length\",\"sepal_length\",\"sepal_length\",\"sepal_length\",\"sepal_width\",\"sepal_width\",\"sepal_width\",\"sepal_width\",\"sepal_width\",\"sepal_width\",\"sepal_width\",\"sepal_width\",\"sepal_width\",\"sepal_width\",\"sepal_width\",\"sepal_width\",\"sepal_width\",\"sepal_width\",\"sepal_width\",\"sepal_width\",\"sepal_width\",\"sepal_width\",\"sepal_width\",\"sepal_width\",\"sepal_width\",\"sepal_width\",\"sepal_width\",\"sepal_width\",\"sepal_width\",\"sepal_width\",\"sepal_width\",\"sepal_width\",\"sepal_width\",\"sepal_width\",\"sepal_width\",\"sepal_width\",\"sepal_width\",\"sepal_width\",\"sepal_width\",\"sepal_width\",\"sepal_width\",\"sepal_width\",\"sepal_width\",\"sepal_width\",\"sepal_width\",\"sepal_width\",\"sepal_width\",\"sepal_width\",\"sepal_width\",\"sepal_width\",\"sepal_width\",\"sepal_width\",\"sepal_width\",\"sepal_width\",\"sepal_width\",\"sepal_width\",\"sepal_width\",\"sepal_width\",\"sepal_width\",\"sepal_width\",\"sepal_width\",\"sepal_width\",\"sepal_width\",\"sepal_width\",\"sepal_width\",\"sepal_width\",\"sepal_width\",\"sepal_width\",\"sepal_width\",\"sepal_width\",\"sepal_width\",\"sepal_width\",\"sepal_width\",\"sepal_width\",\"sepal_width\",\"sepal_width\",\"sepal_width\",\"sepal_width\",\"sepal_width\",\"sepal_width\",\"sepal_width\",\"sepal_width\",\"sepal_width\",\"sepal_width\",\"sepal_width\",\"sepal_width\",\"sepal_width\",\"sepal_width\",\"sepal_width\",\"sepal_width\",\"sepal_width\",\"sepal_width\",\"sepal_width\",\"sepal_width\",\"sepal_width\",\"sepal_width\",\"sepal_width\",\"sepal_width\",\"sepal_width\",\"sepal_width\",\"sepal_width\",\"sepal_width\",\"sepal_width\",\"sepal_width\",\"sepal_width\",\"sepal_width\",\"sepal_width\",\"sepal_width\",\"sepal_width\",\"sepal_width\",\"sepal_width\",\"sepal_width\",\"sepal_width\",\"sepal_width\",\"sepal_width\",\"sepal_width\",\"sepal_width\",\"sepal_width\",\"sepal_width\",\"sepal_width\",\"sepal_width\",\"sepal_width\",\"sepal_width\",\"sepal_width\",\"sepal_width\",\"sepal_width\",\"sepal_width\",\"sepal_width\",\"sepal_width\",\"sepal_width\",\"sepal_width\",\"sepal_width\",\"sepal_width\",\"sepal_width\",\"sepal_width\",\"sepal_width\",\"sepal_width\",\"sepal_width\",\"sepal_width\",\"sepal_width\",\"sepal_width\",\"sepal_width\",\"sepal_width\",\"sepal_width\",\"sepal_width\",\"sepal_width\",\"sepal_width\",\"sepal_width\",\"sepal_width\",\"sepal_width\",\"sepal_width\",\"sepal_width\",\"sepal_width\",\"sepal_width\",\"petal_length\",\"petal_length\",\"petal_length\",\"petal_length\",\"petal_length\",\"petal_length\",\"petal_length\",\"petal_length\",\"petal_length\",\"petal_length\",\"petal_length\",\"petal_length\",\"petal_length\",\"petal_length\",\"petal_length\",\"petal_length\",\"petal_length\",\"petal_length\",\"petal_length\",\"petal_length\",\"petal_length\",\"petal_length\",\"petal_length\",\"petal_length\",\"petal_length\",\"petal_length\",\"petal_length\",\"petal_length\",\"petal_length\",\"petal_length\",\"petal_length\",\"petal_length\",\"petal_length\",\"petal_length\",\"petal_length\",\"petal_length\",\"petal_length\",\"petal_length\",\"petal_length\",\"petal_length\",\"petal_length\",\"petal_length\",\"petal_length\",\"petal_length\",\"petal_length\",\"petal_length\",\"petal_length\",\"petal_length\",\"petal_length\",\"petal_length\",\"petal_length\",\"petal_length\",\"petal_length\",\"petal_length\",\"petal_length\",\"petal_length\",\"petal_length\",\"petal_length\",\"petal_length\",\"petal_length\",\"petal_length\",\"petal_length\",\"petal_length\",\"petal_length\",\"petal_length\",\"petal_length\",\"petal_length\",\"petal_length\",\"petal_length\",\"petal_length\",\"petal_length\",\"petal_length\",\"petal_length\",\"petal_length\",\"petal_length\",\"petal_length\",\"petal_length\",\"petal_length\",\"petal_length\",\"petal_length\",\"petal_length\",\"petal_length\",\"petal_length\",\"petal_length\",\"petal_length\",\"petal_length\",\"petal_length\",\"petal_length\",\"petal_length\",\"petal_length\",\"petal_length\",\"petal_length\",\"petal_length\",\"petal_length\",\"petal_length\",\"petal_length\",\"petal_length\",\"petal_length\",\"petal_length\",\"petal_length\",\"petal_length\",\"petal_length\",\"petal_length\",\"petal_length\",\"petal_length\",\"petal_length\",\"petal_length\",\"petal_length\",\"petal_length\",\"petal_length\",\"petal_length\",\"petal_length\",\"petal_length\",\"petal_length\",\"petal_length\",\"petal_length\",\"petal_length\",\"petal_length\",\"petal_length\",\"petal_length\",\"petal_length\",\"petal_length\",\"petal_length\",\"petal_length\",\"petal_length\",\"petal_length\",\"petal_length\",\"petal_length\",\"petal_length\",\"petal_length\",\"petal_length\",\"petal_length\",\"petal_length\",\"petal_length\",\"petal_length\",\"petal_length\",\"petal_length\",\"petal_length\",\"petal_length\",\"petal_length\",\"petal_length\",\"petal_length\",\"petal_length\",\"petal_length\",\"petal_length\",\"petal_length\",\"petal_length\",\"petal_length\",\"petal_length\",\"petal_length\",\"petal_width\",\"petal_width\",\"petal_width\",\"petal_width\",\"petal_width\",\"petal_width\",\"petal_width\",\"petal_width\",\"petal_width\",\"petal_width\",\"petal_width\",\"petal_width\",\"petal_width\",\"petal_width\",\"petal_width\",\"petal_width\",\"petal_width\",\"petal_width\",\"petal_width\",\"petal_width\",\"petal_width\",\"petal_width\",\"petal_width\",\"petal_width\",\"petal_width\",\"petal_width\",\"petal_width\",\"petal_width\",\"petal_width\",\"petal_width\",\"petal_width\",\"petal_width\",\"petal_width\",\"petal_width\",\"petal_width\",\"petal_width\",\"petal_width\",\"petal_width\",\"petal_width\",\"petal_width\",\"petal_width\",\"petal_width\",\"petal_width\",\"petal_width\",\"petal_width\",\"petal_width\",\"petal_width\",\"petal_width\",\"petal_width\",\"petal_width\",\"petal_width\",\"petal_width\",\"petal_width\",\"petal_width\",\"petal_width\",\"petal_width\",\"petal_width\",\"petal_width\",\"petal_width\",\"petal_width\",\"petal_width\",\"petal_width\",\"petal_width\",\"petal_width\",\"petal_width\",\"petal_width\",\"petal_width\",\"petal_width\",\"petal_width\",\"petal_width\",\"petal_width\",\"petal_width\",\"petal_width\",\"petal_width\",\"petal_width\",\"petal_width\",\"petal_width\",\"petal_width\",\"petal_width\",\"petal_width\",\"petal_width\",\"petal_width\",\"petal_width\",\"petal_width\",\"petal_width\",\"petal_width\",\"petal_width\",\"petal_width\",\"petal_width\",\"petal_width\",\"petal_width\",\"petal_width\",\"petal_width\",\"petal_width\",\"petal_width\",\"petal_width\",\"petal_width\",\"petal_width\",\"petal_width\",\"petal_width\",\"petal_width\",\"petal_width\",\"petal_width\",\"petal_width\",\"petal_width\",\"petal_width\",\"petal_width\",\"petal_width\",\"petal_width\",\"petal_width\",\"petal_width\",\"petal_width\",\"petal_width\",\"petal_width\",\"petal_width\",\"petal_width\",\"petal_width\",\"petal_width\",\"petal_width\",\"petal_width\",\"petal_width\",\"petal_width\",\"petal_width\",\"petal_width\",\"petal_width\",\"petal_width\",\"petal_width\",\"petal_width\",\"petal_width\",\"petal_width\",\"petal_width\",\"petal_width\",\"petal_width\",\"petal_width\",\"petal_width\",\"petal_width\",\"petal_width\",\"petal_width\",\"petal_width\",\"petal_width\",\"petal_width\",\"petal_width\",\"petal_width\",\"petal_width\",\"petal_width\",\"petal_width\",\"petal_width\",\"petal_width\",\"petal_width\",\"petal_width\"],\n",
       "\"value\":[5.1,4.9,4.7,4.6,5.0,5.4,4.6,5.0,4.4,4.9,5.4,4.8,4.8,4.3,5.8,5.7,5.4,5.1,5.7,5.1,5.4,5.1,4.6,5.1,4.8,5.0,5.0,5.2,5.2,4.7,4.8,5.4,5.2,5.5,4.9,5.0,5.5,4.9,4.4,5.1,5.0,4.5,4.4,5.0,5.1,4.8,5.1,4.6,5.3,5.0,7.0,6.4,6.9,5.5,6.5,5.7,6.3,4.9,6.6,5.2,5.0,5.9,6.0,6.1,5.6,6.7,5.6,5.8,6.2,5.6,5.9,6.1,6.3,6.1,6.4,6.6,6.8,6.7,6.0,5.7,5.5,5.5,5.8,6.0,5.4,6.0,6.7,6.3,5.6,5.5,5.5,6.1,5.8,5.0,5.6,5.7,5.7,6.2,5.1,5.7,6.3,5.8,7.1,6.3,6.5,7.6,4.9,7.3,6.7,7.2,6.5,6.4,6.8,5.7,5.8,6.4,6.5,7.7,7.7,6.0,6.9,5.6,7.7,6.3,6.7,7.2,6.2,6.1,6.4,7.2,7.4,7.9,6.4,6.3,6.1,7.7,6.3,6.4,6.0,6.9,6.7,6.9,5.8,6.8,6.7,6.7,6.3,6.5,6.2,5.9,3.5,3.0,3.2,3.1,3.6,3.9,3.4,3.4,2.9,3.1,3.7,3.4,3.0,3.0,4.0,4.4,3.9,3.5,3.8,3.8,3.4,3.7,3.6,3.3,3.4,3.0,3.4,3.5,3.4,3.2,3.1,3.4,4.1,4.2,3.1,3.2,3.5,3.1,3.0,3.4,3.5,2.3,3.2,3.5,3.8,3.0,3.8,3.2,3.7,3.3,3.2,3.2,3.1,2.3,2.8,2.8,3.3,2.4,2.9,2.7,2.0,3.0,2.2,2.9,2.9,3.1,3.0,2.7,2.2,2.5,3.2,2.8,2.5,2.8,2.9,3.0,2.8,3.0,2.9,2.6,2.4,2.4,2.7,2.7,3.0,3.4,3.1,2.3,3.0,2.5,2.6,3.0,2.6,2.3,2.7,3.0,2.9,2.9,2.5,2.8,3.3,2.7,3.0,2.9,3.0,3.0,2.5,2.9,2.5,3.6,3.2,2.7,3.0,2.5,2.8,3.2,3.0,3.8,2.6,2.2,3.2,2.8,2.8,2.7,3.3,3.2,2.8,3.0,2.8,3.0,2.8,3.8,2.8,2.8,2.6,3.0,3.4,3.1,3.0,3.1,3.1,3.1,2.7,3.2,3.3,3.0,2.5,3.0,3.4,3.0,1.4,1.4,1.3,1.5,1.4,1.7,1.4,1.5,1.4,1.5,1.5,1.6,1.4,1.1,1.2,1.5,1.3,1.4,1.7,1.5,1.7,1.5,1.0,1.7,1.9,1.6,1.6,1.5,1.4,1.6,1.6,1.5,1.5,1.4,1.5,1.2,1.3,1.5,1.3,1.5,1.3,1.3,1.3,1.6,1.9,1.4,1.6,1.4,1.5,1.4,4.7,4.5,4.9,4.0,4.6,4.5,4.7,3.3,4.6,3.9,3.5,4.2,4.0,4.7,3.6,4.4,4.5,4.1,4.5,3.9,4.8,4.0,4.9,4.7,4.3,4.4,4.8,5.0,4.5,3.5,3.8,3.7,3.9,5.1,4.5,4.5,4.7,4.4,4.1,4.0,4.4,4.6,4.0,3.3,4.2,4.2,4.2,4.3,3.0,4.1,6.0,5.1,5.9,5.6,5.8,6.6,4.5,6.3,5.8,6.1,5.1,5.3,5.5,5.0,5.1,5.3,5.5,6.7,6.9,5.0,5.7,4.9,6.7,4.9,5.7,6.0,4.8,4.9,5.6,5.8,6.1,6.4,5.6,5.1,5.6,6.1,5.6,5.5,4.8,5.4,5.6,5.1,5.1,5.9,5.7,5.2,5.0,5.2,5.4,5.1,0.2,0.2,0.2,0.2,0.2,0.4,0.3,0.2,0.2,0.1,0.2,0.2,0.1,0.1,0.2,0.4,0.4,0.3,0.3,0.3,0.2,0.4,0.2,0.5,0.2,0.2,0.4,0.2,0.2,0.2,0.2,0.4,0.1,0.2,0.1,0.2,0.2,0.1,0.2,0.2,0.3,0.3,0.2,0.6,0.4,0.3,0.2,0.2,0.2,0.2,1.4,1.5,1.5,1.3,1.5,1.3,1.6,1.0,1.3,1.4,1.0,1.5,1.0,1.4,1.3,1.4,1.5,1.0,1.5,1.1,1.8,1.3,1.5,1.2,1.3,1.4,1.4,1.7,1.5,1.0,1.1,1.0,1.2,1.6,1.5,1.6,1.5,1.3,1.3,1.3,1.2,1.4,1.2,1.0,1.3,1.2,1.3,1.3,1.1,1.3,2.5,1.9,2.1,1.8,2.2,2.1,1.7,1.8,1.8,2.5,2.0,1.9,2.1,2.0,2.4,2.3,1.8,2.2,2.3,1.5,2.3,2.0,2.0,1.8,2.1,1.8,1.8,1.8,2.1,1.6,1.9,2.0,2.2,1.5,1.4,2.3,2.4,1.8,1.8,2.1,2.4,2.3,1.9,2.3,2.5,2.3,1.9,2.0,2.3,1.8]\n",
       "},\n",
       "\"mapping\":{\n",
       "\"x\":\"variable\",\n",
       "\"y\":\"value\",\n",
       "\"color\":\"species\",\n",
       "\"group\":\"par_plot_idx\"\n",
       "},\n",
       "\"data_meta\":{\n",
       "\"series_annotations\":[{\n",
       "\"type\":\"str\",\n",
       "\"column\":\"species\"\n",
       "},{\n",
       "\"type\":\"int\",\n",
       "\"column\":\"par_plot_idx\"\n",
       "},{\n",
       "\"type\":\"str\",\n",
       "\"column\":\"variable\"\n",
       "},{\n",
       "\"type\":\"float\",\n",
       "\"column\":\"value\"\n",
       "}]\n",
       "},\n",
       "\"kind\":\"plot\",\n",
       "\"scales\":[],\n",
       "\"layers\":[{\n",
       "\"geom\":\"line\",\n",
       "\"mapping\":{\n",
       "},\n",
       "\"data_meta\":{\n",
       "},\n",
       "\"size\":1.0,\n",
       "\"data\":{\n",
       "}\n",
       "}],\n",
       "\"metainfo_list\":[]\n",
       "};\n",
       "           var plotContainer = document.getElementById(\"PRoYva\");\n",
       "           window.letsPlotCall(function() {{\n",
       "               LetsPlot.buildPlotFromProcessedSpecs(plotSpec, -1, -1, plotContainer);\n",
       "           }});\n",
       "       })();\n",
       "   </script>"
      ],
      "text/plain": [
       "<lets_plot.plot.core.PlotSpec at 0x14aab58a0>"
      ]
     },
     "execution_count": 5,
     "metadata": {},
     "output_type": "execute_result"
    }
   ],
   "source": [
    "parallel_coordinates_plot(iris, 'species')"
   ]
  },
  {
   "cell_type": "markdown",
   "id": "92b6f748-2d39-44c8-accd-77e0dd21fb57",
   "metadata": {},
   "source": [
    "## Reordered columns with the `order` parameter"
   ]
  },
  {
   "cell_type": "code",
   "execution_count": 6,
   "id": "18fc9754-6301-4849-87ff-287833b9446d",
   "metadata": {
    "execution": {
     "iopub.execute_input": "2024-10-02T08:47:30.869363Z",
     "iopub.status.busy": "2024-10-02T08:47:30.869291Z",
     "iopub.status.idle": "2024-10-02T08:47:30.875503Z",
     "shell.execute_reply": "2024-10-02T08:47:30.875280Z"
    }
   },
   "outputs": [
    {
     "data": {
      "text/html": [
       "   <div id=\"Ua9G2R\"></div>\n",
       "   <script type=\"text/javascript\" data-lets-plot-script=\"plot\">\n",
       "       (function() {\n",
       "           var plotSpec={\n",
       "\"data\":{\n",
       "\"species\":[\"setosa\",\"setosa\",\"setosa\",\"setosa\",\"setosa\",\"setosa\",\"setosa\",\"setosa\",\"setosa\",\"setosa\",\"setosa\",\"setosa\",\"setosa\",\"setosa\",\"setosa\",\"setosa\",\"setosa\",\"setosa\",\"setosa\",\"setosa\",\"setosa\",\"setosa\",\"setosa\",\"setosa\",\"setosa\",\"setosa\",\"setosa\",\"setosa\",\"setosa\",\"setosa\",\"setosa\",\"setosa\",\"setosa\",\"setosa\",\"setosa\",\"setosa\",\"setosa\",\"setosa\",\"setosa\",\"setosa\",\"setosa\",\"setosa\",\"setosa\",\"setosa\",\"setosa\",\"setosa\",\"setosa\",\"setosa\",\"setosa\",\"setosa\",\"versicolor\",\"versicolor\",\"versicolor\",\"versicolor\",\"versicolor\",\"versicolor\",\"versicolor\",\"versicolor\",\"versicolor\",\"versicolor\",\"versicolor\",\"versicolor\",\"versicolor\",\"versicolor\",\"versicolor\",\"versicolor\",\"versicolor\",\"versicolor\",\"versicolor\",\"versicolor\",\"versicolor\",\"versicolor\",\"versicolor\",\"versicolor\",\"versicolor\",\"versicolor\",\"versicolor\",\"versicolor\",\"versicolor\",\"versicolor\",\"versicolor\",\"versicolor\",\"versicolor\",\"versicolor\",\"versicolor\",\"versicolor\",\"versicolor\",\"versicolor\",\"versicolor\",\"versicolor\",\"versicolor\",\"versicolor\",\"versicolor\",\"versicolor\",\"versicolor\",\"versicolor\",\"versicolor\",\"versicolor\",\"versicolor\",\"versicolor\",\"virginica\",\"virginica\",\"virginica\",\"virginica\",\"virginica\",\"virginica\",\"virginica\",\"virginica\",\"virginica\",\"virginica\",\"virginica\",\"virginica\",\"virginica\",\"virginica\",\"virginica\",\"virginica\",\"virginica\",\"virginica\",\"virginica\",\"virginica\",\"virginica\",\"virginica\",\"virginica\",\"virginica\",\"virginica\",\"virginica\",\"virginica\",\"virginica\",\"virginica\",\"virginica\",\"virginica\",\"virginica\",\"virginica\",\"virginica\",\"virginica\",\"virginica\",\"virginica\",\"virginica\",\"virginica\",\"virginica\",\"virginica\",\"virginica\",\"virginica\",\"virginica\",\"virginica\",\"virginica\",\"virginica\",\"virginica\",\"virginica\",\"virginica\",\"setosa\",\"setosa\",\"setosa\",\"setosa\",\"setosa\",\"setosa\",\"setosa\",\"setosa\",\"setosa\",\"setosa\",\"setosa\",\"setosa\",\"setosa\",\"setosa\",\"setosa\",\"setosa\",\"setosa\",\"setosa\",\"setosa\",\"setosa\",\"setosa\",\"setosa\",\"setosa\",\"setosa\",\"setosa\",\"setosa\",\"setosa\",\"setosa\",\"setosa\",\"setosa\",\"setosa\",\"setosa\",\"setosa\",\"setosa\",\"setosa\",\"setosa\",\"setosa\",\"setosa\",\"setosa\",\"setosa\",\"setosa\",\"setosa\",\"setosa\",\"setosa\",\"setosa\",\"setosa\",\"setosa\",\"setosa\",\"setosa\",\"setosa\",\"versicolor\",\"versicolor\",\"versicolor\",\"versicolor\",\"versicolor\",\"versicolor\",\"versicolor\",\"versicolor\",\"versicolor\",\"versicolor\",\"versicolor\",\"versicolor\",\"versicolor\",\"versicolor\",\"versicolor\",\"versicolor\",\"versicolor\",\"versicolor\",\"versicolor\",\"versicolor\",\"versicolor\",\"versicolor\",\"versicolor\",\"versicolor\",\"versicolor\",\"versicolor\",\"versicolor\",\"versicolor\",\"versicolor\",\"versicolor\",\"versicolor\",\"versicolor\",\"versicolor\",\"versicolor\",\"versicolor\",\"versicolor\",\"versicolor\",\"versicolor\",\"versicolor\",\"versicolor\",\"versicolor\",\"versicolor\",\"versicolor\",\"versicolor\",\"versicolor\",\"versicolor\",\"versicolor\",\"versicolor\",\"versicolor\",\"versicolor\",\"virginica\",\"virginica\",\"virginica\",\"virginica\",\"virginica\",\"virginica\",\"virginica\",\"virginica\",\"virginica\",\"virginica\",\"virginica\",\"virginica\",\"virginica\",\"virginica\",\"virginica\",\"virginica\",\"virginica\",\"virginica\",\"virginica\",\"virginica\",\"virginica\",\"virginica\",\"virginica\",\"virginica\",\"virginica\",\"virginica\",\"virginica\",\"virginica\",\"virginica\",\"virginica\",\"virginica\",\"virginica\",\"virginica\",\"virginica\",\"virginica\",\"virginica\",\"virginica\",\"virginica\",\"virginica\",\"virginica\",\"virginica\",\"virginica\",\"virginica\",\"virginica\",\"virginica\",\"virginica\",\"virginica\",\"virginica\",\"virginica\",\"virginica\",\"setosa\",\"setosa\",\"setosa\",\"setosa\",\"setosa\",\"setosa\",\"setosa\",\"setosa\",\"setosa\",\"setosa\",\"setosa\",\"setosa\",\"setosa\",\"setosa\",\"setosa\",\"setosa\",\"setosa\",\"setosa\",\"setosa\",\"setosa\",\"setosa\",\"setosa\",\"setosa\",\"setosa\",\"setosa\",\"setosa\",\"setosa\",\"setosa\",\"setosa\",\"setosa\",\"setosa\",\"setosa\",\"setosa\",\"setosa\",\"setosa\",\"setosa\",\"setosa\",\"setosa\",\"setosa\",\"setosa\",\"setosa\",\"setosa\",\"setosa\",\"setosa\",\"setosa\",\"setosa\",\"setosa\",\"setosa\",\"setosa\",\"setosa\",\"versicolor\",\"versicolor\",\"versicolor\",\"versicolor\",\"versicolor\",\"versicolor\",\"versicolor\",\"versicolor\",\"versicolor\",\"versicolor\",\"versicolor\",\"versicolor\",\"versicolor\",\"versicolor\",\"versicolor\",\"versicolor\",\"versicolor\",\"versicolor\",\"versicolor\",\"versicolor\",\"versicolor\",\"versicolor\",\"versicolor\",\"versicolor\",\"versicolor\",\"versicolor\",\"versicolor\",\"versicolor\",\"versicolor\",\"versicolor\",\"versicolor\",\"versicolor\",\"versicolor\",\"versicolor\",\"versicolor\",\"versicolor\",\"versicolor\",\"versicolor\",\"versicolor\",\"versicolor\",\"versicolor\",\"versicolor\",\"versicolor\",\"versicolor\",\"versicolor\",\"versicolor\",\"versicolor\",\"versicolor\",\"versicolor\",\"versicolor\",\"virginica\",\"virginica\",\"virginica\",\"virginica\",\"virginica\",\"virginica\",\"virginica\",\"virginica\",\"virginica\",\"virginica\",\"virginica\",\"virginica\",\"virginica\",\"virginica\",\"virginica\",\"virginica\",\"virginica\",\"virginica\",\"virginica\",\"virginica\",\"virginica\",\"virginica\",\"virginica\",\"virginica\",\"virginica\",\"virginica\",\"virginica\",\"virginica\",\"virginica\",\"virginica\",\"virginica\",\"virginica\",\"virginica\",\"virginica\",\"virginica\",\"virginica\",\"virginica\",\"virginica\",\"virginica\",\"virginica\",\"virginica\",\"virginica\",\"virginica\",\"virginica\",\"virginica\",\"virginica\",\"virginica\",\"virginica\",\"virginica\",\"virginica\",\"setosa\",\"setosa\",\"setosa\",\"setosa\",\"setosa\",\"setosa\",\"setosa\",\"setosa\",\"setosa\",\"setosa\",\"setosa\",\"setosa\",\"setosa\",\"setosa\",\"setosa\",\"setosa\",\"setosa\",\"setosa\",\"setosa\",\"setosa\",\"setosa\",\"setosa\",\"setosa\",\"setosa\",\"setosa\",\"setosa\",\"setosa\",\"setosa\",\"setosa\",\"setosa\",\"setosa\",\"setosa\",\"setosa\",\"setosa\",\"setosa\",\"setosa\",\"setosa\",\"setosa\",\"setosa\",\"setosa\",\"setosa\",\"setosa\",\"setosa\",\"setosa\",\"setosa\",\"setosa\",\"setosa\",\"setosa\",\"setosa\",\"setosa\",\"versicolor\",\"versicolor\",\"versicolor\",\"versicolor\",\"versicolor\",\"versicolor\",\"versicolor\",\"versicolor\",\"versicolor\",\"versicolor\",\"versicolor\",\"versicolor\",\"versicolor\",\"versicolor\",\"versicolor\",\"versicolor\",\"versicolor\",\"versicolor\",\"versicolor\",\"versicolor\",\"versicolor\",\"versicolor\",\"versicolor\",\"versicolor\",\"versicolor\",\"versicolor\",\"versicolor\",\"versicolor\",\"versicolor\",\"versicolor\",\"versicolor\",\"versicolor\",\"versicolor\",\"versicolor\",\"versicolor\",\"versicolor\",\"versicolor\",\"versicolor\",\"versicolor\",\"versicolor\",\"versicolor\",\"versicolor\",\"versicolor\",\"versicolor\",\"versicolor\",\"versicolor\",\"versicolor\",\"versicolor\",\"versicolor\",\"versicolor\",\"virginica\",\"virginica\",\"virginica\",\"virginica\",\"virginica\",\"virginica\",\"virginica\",\"virginica\",\"virginica\",\"virginica\",\"virginica\",\"virginica\",\"virginica\",\"virginica\",\"virginica\",\"virginica\",\"virginica\",\"virginica\",\"virginica\",\"virginica\",\"virginica\",\"virginica\",\"virginica\",\"virginica\",\"virginica\",\"virginica\",\"virginica\",\"virginica\",\"virginica\",\"virginica\",\"virginica\",\"virginica\",\"virginica\",\"virginica\",\"virginica\",\"virginica\",\"virginica\",\"virginica\",\"virginica\",\"virginica\",\"virginica\",\"virginica\",\"virginica\",\"virginica\",\"virginica\",\"virginica\",\"virginica\",\"virginica\",\"virginica\",\"virginica\"],\n",
       "\"par_plot_idx\":[0.0,1.0,2.0,3.0,4.0,5.0,6.0,7.0,8.0,9.0,10.0,11.0,12.0,13.0,14.0,15.0,16.0,17.0,18.0,19.0,20.0,21.0,22.0,23.0,24.0,25.0,26.0,27.0,28.0,29.0,30.0,31.0,32.0,33.0,34.0,35.0,36.0,37.0,38.0,39.0,40.0,41.0,42.0,43.0,44.0,45.0,46.0,47.0,48.0,49.0,50.0,51.0,52.0,53.0,54.0,55.0,56.0,57.0,58.0,59.0,60.0,61.0,62.0,63.0,64.0,65.0,66.0,67.0,68.0,69.0,70.0,71.0,72.0,73.0,74.0,75.0,76.0,77.0,78.0,79.0,80.0,81.0,82.0,83.0,84.0,85.0,86.0,87.0,88.0,89.0,90.0,91.0,92.0,93.0,94.0,95.0,96.0,97.0,98.0,99.0,100.0,101.0,102.0,103.0,104.0,105.0,106.0,107.0,108.0,109.0,110.0,111.0,112.0,113.0,114.0,115.0,116.0,117.0,118.0,119.0,120.0,121.0,122.0,123.0,124.0,125.0,126.0,127.0,128.0,129.0,130.0,131.0,132.0,133.0,134.0,135.0,136.0,137.0,138.0,139.0,140.0,141.0,142.0,143.0,144.0,145.0,146.0,147.0,148.0,149.0,0.0,1.0,2.0,3.0,4.0,5.0,6.0,7.0,8.0,9.0,10.0,11.0,12.0,13.0,14.0,15.0,16.0,17.0,18.0,19.0,20.0,21.0,22.0,23.0,24.0,25.0,26.0,27.0,28.0,29.0,30.0,31.0,32.0,33.0,34.0,35.0,36.0,37.0,38.0,39.0,40.0,41.0,42.0,43.0,44.0,45.0,46.0,47.0,48.0,49.0,50.0,51.0,52.0,53.0,54.0,55.0,56.0,57.0,58.0,59.0,60.0,61.0,62.0,63.0,64.0,65.0,66.0,67.0,68.0,69.0,70.0,71.0,72.0,73.0,74.0,75.0,76.0,77.0,78.0,79.0,80.0,81.0,82.0,83.0,84.0,85.0,86.0,87.0,88.0,89.0,90.0,91.0,92.0,93.0,94.0,95.0,96.0,97.0,98.0,99.0,100.0,101.0,102.0,103.0,104.0,105.0,106.0,107.0,108.0,109.0,110.0,111.0,112.0,113.0,114.0,115.0,116.0,117.0,118.0,119.0,120.0,121.0,122.0,123.0,124.0,125.0,126.0,127.0,128.0,129.0,130.0,131.0,132.0,133.0,134.0,135.0,136.0,137.0,138.0,139.0,140.0,141.0,142.0,143.0,144.0,145.0,146.0,147.0,148.0,149.0,0.0,1.0,2.0,3.0,4.0,5.0,6.0,7.0,8.0,9.0,10.0,11.0,12.0,13.0,14.0,15.0,16.0,17.0,18.0,19.0,20.0,21.0,22.0,23.0,24.0,25.0,26.0,27.0,28.0,29.0,30.0,31.0,32.0,33.0,34.0,35.0,36.0,37.0,38.0,39.0,40.0,41.0,42.0,43.0,44.0,45.0,46.0,47.0,48.0,49.0,50.0,51.0,52.0,53.0,54.0,55.0,56.0,57.0,58.0,59.0,60.0,61.0,62.0,63.0,64.0,65.0,66.0,67.0,68.0,69.0,70.0,71.0,72.0,73.0,74.0,75.0,76.0,77.0,78.0,79.0,80.0,81.0,82.0,83.0,84.0,85.0,86.0,87.0,88.0,89.0,90.0,91.0,92.0,93.0,94.0,95.0,96.0,97.0,98.0,99.0,100.0,101.0,102.0,103.0,104.0,105.0,106.0,107.0,108.0,109.0,110.0,111.0,112.0,113.0,114.0,115.0,116.0,117.0,118.0,119.0,120.0,121.0,122.0,123.0,124.0,125.0,126.0,127.0,128.0,129.0,130.0,131.0,132.0,133.0,134.0,135.0,136.0,137.0,138.0,139.0,140.0,141.0,142.0,143.0,144.0,145.0,146.0,147.0,148.0,149.0,0.0,1.0,2.0,3.0,4.0,5.0,6.0,7.0,8.0,9.0,10.0,11.0,12.0,13.0,14.0,15.0,16.0,17.0,18.0,19.0,20.0,21.0,22.0,23.0,24.0,25.0,26.0,27.0,28.0,29.0,30.0,31.0,32.0,33.0,34.0,35.0,36.0,37.0,38.0,39.0,40.0,41.0,42.0,43.0,44.0,45.0,46.0,47.0,48.0,49.0,50.0,51.0,52.0,53.0,54.0,55.0,56.0,57.0,58.0,59.0,60.0,61.0,62.0,63.0,64.0,65.0,66.0,67.0,68.0,69.0,70.0,71.0,72.0,73.0,74.0,75.0,76.0,77.0,78.0,79.0,80.0,81.0,82.0,83.0,84.0,85.0,86.0,87.0,88.0,89.0,90.0,91.0,92.0,93.0,94.0,95.0,96.0,97.0,98.0,99.0,100.0,101.0,102.0,103.0,104.0,105.0,106.0,107.0,108.0,109.0,110.0,111.0,112.0,113.0,114.0,115.0,116.0,117.0,118.0,119.0,120.0,121.0,122.0,123.0,124.0,125.0,126.0,127.0,128.0,129.0,130.0,131.0,132.0,133.0,134.0,135.0,136.0,137.0,138.0,139.0,140.0,141.0,142.0,143.0,144.0,145.0,146.0,147.0,148.0,149.0],\n",
       "\"variable\":[\"sepal_length\",\"sepal_length\",\"sepal_length\",\"sepal_length\",\"sepal_length\",\"sepal_length\",\"sepal_length\",\"sepal_length\",\"sepal_length\",\"sepal_length\",\"sepal_length\",\"sepal_length\",\"sepal_length\",\"sepal_length\",\"sepal_length\",\"sepal_length\",\"sepal_length\",\"sepal_length\",\"sepal_length\",\"sepal_length\",\"sepal_length\",\"sepal_length\",\"sepal_length\",\"sepal_length\",\"sepal_length\",\"sepal_length\",\"sepal_length\",\"sepal_length\",\"sepal_length\",\"sepal_length\",\"sepal_length\",\"sepal_length\",\"sepal_length\",\"sepal_length\",\"sepal_length\",\"sepal_length\",\"sepal_length\",\"sepal_length\",\"sepal_length\",\"sepal_length\",\"sepal_length\",\"sepal_length\",\"sepal_length\",\"sepal_length\",\"sepal_length\",\"sepal_length\",\"sepal_length\",\"sepal_length\",\"sepal_length\",\"sepal_length\",\"sepal_length\",\"sepal_length\",\"sepal_length\",\"sepal_length\",\"sepal_length\",\"sepal_length\",\"sepal_length\",\"sepal_length\",\"sepal_length\",\"sepal_length\",\"sepal_length\",\"sepal_length\",\"sepal_length\",\"sepal_length\",\"sepal_length\",\"sepal_length\",\"sepal_length\",\"sepal_length\",\"sepal_length\",\"sepal_length\",\"sepal_length\",\"sepal_length\",\"sepal_length\",\"sepal_length\",\"sepal_length\",\"sepal_length\",\"sepal_length\",\"sepal_length\",\"sepal_length\",\"sepal_length\",\"sepal_length\",\"sepal_length\",\"sepal_length\",\"sepal_length\",\"sepal_length\",\"sepal_length\",\"sepal_length\",\"sepal_length\",\"sepal_length\",\"sepal_length\",\"sepal_length\",\"sepal_length\",\"sepal_length\",\"sepal_length\",\"sepal_length\",\"sepal_length\",\"sepal_length\",\"sepal_length\",\"sepal_length\",\"sepal_length\",\"sepal_length\",\"sepal_length\",\"sepal_length\",\"sepal_length\",\"sepal_length\",\"sepal_length\",\"sepal_length\",\"sepal_length\",\"sepal_length\",\"sepal_length\",\"sepal_length\",\"sepal_length\",\"sepal_length\",\"sepal_length\",\"sepal_length\",\"sepal_length\",\"sepal_length\",\"sepal_length\",\"sepal_length\",\"sepal_length\",\"sepal_length\",\"sepal_length\",\"sepal_length\",\"sepal_length\",\"sepal_length\",\"sepal_length\",\"sepal_length\",\"sepal_length\",\"sepal_length\",\"sepal_length\",\"sepal_length\",\"sepal_length\",\"sepal_length\",\"sepal_length\",\"sepal_length\",\"sepal_length\",\"sepal_length\",\"sepal_length\",\"sepal_length\",\"sepal_length\",\"sepal_length\",\"sepal_length\",\"sepal_length\",\"sepal_length\",\"sepal_length\",\"sepal_length\",\"sepal_length\",\"sepal_length\",\"sepal_length\",\"sepal_length\",\"sepal_width\",\"sepal_width\",\"sepal_width\",\"sepal_width\",\"sepal_width\",\"sepal_width\",\"sepal_width\",\"sepal_width\",\"sepal_width\",\"sepal_width\",\"sepal_width\",\"sepal_width\",\"sepal_width\",\"sepal_width\",\"sepal_width\",\"sepal_width\",\"sepal_width\",\"sepal_width\",\"sepal_width\",\"sepal_width\",\"sepal_width\",\"sepal_width\",\"sepal_width\",\"sepal_width\",\"sepal_width\",\"sepal_width\",\"sepal_width\",\"sepal_width\",\"sepal_width\",\"sepal_width\",\"sepal_width\",\"sepal_width\",\"sepal_width\",\"sepal_width\",\"sepal_width\",\"sepal_width\",\"sepal_width\",\"sepal_width\",\"sepal_width\",\"sepal_width\",\"sepal_width\",\"sepal_width\",\"sepal_width\",\"sepal_width\",\"sepal_width\",\"sepal_width\",\"sepal_width\",\"sepal_width\",\"sepal_width\",\"sepal_width\",\"sepal_width\",\"sepal_width\",\"sepal_width\",\"sepal_width\",\"sepal_width\",\"sepal_width\",\"sepal_width\",\"sepal_width\",\"sepal_width\",\"sepal_width\",\"sepal_width\",\"sepal_width\",\"sepal_width\",\"sepal_width\",\"sepal_width\",\"sepal_width\",\"sepal_width\",\"sepal_width\",\"sepal_width\",\"sepal_width\",\"sepal_width\",\"sepal_width\",\"sepal_width\",\"sepal_width\",\"sepal_width\",\"sepal_width\",\"sepal_width\",\"sepal_width\",\"sepal_width\",\"sepal_width\",\"sepal_width\",\"sepal_width\",\"sepal_width\",\"sepal_width\",\"sepal_width\",\"sepal_width\",\"sepal_width\",\"sepal_width\",\"sepal_width\",\"sepal_width\",\"sepal_width\",\"sepal_width\",\"sepal_width\",\"sepal_width\",\"sepal_width\",\"sepal_width\",\"sepal_width\",\"sepal_width\",\"sepal_width\",\"sepal_width\",\"sepal_width\",\"sepal_width\",\"sepal_width\",\"sepal_width\",\"sepal_width\",\"sepal_width\",\"sepal_width\",\"sepal_width\",\"sepal_width\",\"sepal_width\",\"sepal_width\",\"sepal_width\",\"sepal_width\",\"sepal_width\",\"sepal_width\",\"sepal_width\",\"sepal_width\",\"sepal_width\",\"sepal_width\",\"sepal_width\",\"sepal_width\",\"sepal_width\",\"sepal_width\",\"sepal_width\",\"sepal_width\",\"sepal_width\",\"sepal_width\",\"sepal_width\",\"sepal_width\",\"sepal_width\",\"sepal_width\",\"sepal_width\",\"sepal_width\",\"sepal_width\",\"sepal_width\",\"sepal_width\",\"sepal_width\",\"sepal_width\",\"sepal_width\",\"sepal_width\",\"sepal_width\",\"sepal_width\",\"sepal_width\",\"sepal_width\",\"sepal_width\",\"sepal_width\",\"sepal_width\",\"sepal_width\",\"sepal_width\",\"sepal_width\",\"petal_length\",\"petal_length\",\"petal_length\",\"petal_length\",\"petal_length\",\"petal_length\",\"petal_length\",\"petal_length\",\"petal_length\",\"petal_length\",\"petal_length\",\"petal_length\",\"petal_length\",\"petal_length\",\"petal_length\",\"petal_length\",\"petal_length\",\"petal_length\",\"petal_length\",\"petal_length\",\"petal_length\",\"petal_length\",\"petal_length\",\"petal_length\",\"petal_length\",\"petal_length\",\"petal_length\",\"petal_length\",\"petal_length\",\"petal_length\",\"petal_length\",\"petal_length\",\"petal_length\",\"petal_length\",\"petal_length\",\"petal_length\",\"petal_length\",\"petal_length\",\"petal_length\",\"petal_length\",\"petal_length\",\"petal_length\",\"petal_length\",\"petal_length\",\"petal_length\",\"petal_length\",\"petal_length\",\"petal_length\",\"petal_length\",\"petal_length\",\"petal_length\",\"petal_length\",\"petal_length\",\"petal_length\",\"petal_length\",\"petal_length\",\"petal_length\",\"petal_length\",\"petal_length\",\"petal_length\",\"petal_length\",\"petal_length\",\"petal_length\",\"petal_length\",\"petal_length\",\"petal_length\",\"petal_length\",\"petal_length\",\"petal_length\",\"petal_length\",\"petal_length\",\"petal_length\",\"petal_length\",\"petal_length\",\"petal_length\",\"petal_length\",\"petal_length\",\"petal_length\",\"petal_length\",\"petal_length\",\"petal_length\",\"petal_length\",\"petal_length\",\"petal_length\",\"petal_length\",\"petal_length\",\"petal_length\",\"petal_length\",\"petal_length\",\"petal_length\",\"petal_length\",\"petal_length\",\"petal_length\",\"petal_length\",\"petal_length\",\"petal_length\",\"petal_length\",\"petal_length\",\"petal_length\",\"petal_length\",\"petal_length\",\"petal_length\",\"petal_length\",\"petal_length\",\"petal_length\",\"petal_length\",\"petal_length\",\"petal_length\",\"petal_length\",\"petal_length\",\"petal_length\",\"petal_length\",\"petal_length\",\"petal_length\",\"petal_length\",\"petal_length\",\"petal_length\",\"petal_length\",\"petal_length\",\"petal_length\",\"petal_length\",\"petal_length\",\"petal_length\",\"petal_length\",\"petal_length\",\"petal_length\",\"petal_length\",\"petal_length\",\"petal_length\",\"petal_length\",\"petal_length\",\"petal_length\",\"petal_length\",\"petal_length\",\"petal_length\",\"petal_length\",\"petal_length\",\"petal_length\",\"petal_length\",\"petal_length\",\"petal_length\",\"petal_length\",\"petal_length\",\"petal_length\",\"petal_length\",\"petal_length\",\"petal_length\",\"petal_length\",\"petal_length\",\"petal_length\",\"petal_width\",\"petal_width\",\"petal_width\",\"petal_width\",\"petal_width\",\"petal_width\",\"petal_width\",\"petal_width\",\"petal_width\",\"petal_width\",\"petal_width\",\"petal_width\",\"petal_width\",\"petal_width\",\"petal_width\",\"petal_width\",\"petal_width\",\"petal_width\",\"petal_width\",\"petal_width\",\"petal_width\",\"petal_width\",\"petal_width\",\"petal_width\",\"petal_width\",\"petal_width\",\"petal_width\",\"petal_width\",\"petal_width\",\"petal_width\",\"petal_width\",\"petal_width\",\"petal_width\",\"petal_width\",\"petal_width\",\"petal_width\",\"petal_width\",\"petal_width\",\"petal_width\",\"petal_width\",\"petal_width\",\"petal_width\",\"petal_width\",\"petal_width\",\"petal_width\",\"petal_width\",\"petal_width\",\"petal_width\",\"petal_width\",\"petal_width\",\"petal_width\",\"petal_width\",\"petal_width\",\"petal_width\",\"petal_width\",\"petal_width\",\"petal_width\",\"petal_width\",\"petal_width\",\"petal_width\",\"petal_width\",\"petal_width\",\"petal_width\",\"petal_width\",\"petal_width\",\"petal_width\",\"petal_width\",\"petal_width\",\"petal_width\",\"petal_width\",\"petal_width\",\"petal_width\",\"petal_width\",\"petal_width\",\"petal_width\",\"petal_width\",\"petal_width\",\"petal_width\",\"petal_width\",\"petal_width\",\"petal_width\",\"petal_width\",\"petal_width\",\"petal_width\",\"petal_width\",\"petal_width\",\"petal_width\",\"petal_width\",\"petal_width\",\"petal_width\",\"petal_width\",\"petal_width\",\"petal_width\",\"petal_width\",\"petal_width\",\"petal_width\",\"petal_width\",\"petal_width\",\"petal_width\",\"petal_width\",\"petal_width\",\"petal_width\",\"petal_width\",\"petal_width\",\"petal_width\",\"petal_width\",\"petal_width\",\"petal_width\",\"petal_width\",\"petal_width\",\"petal_width\",\"petal_width\",\"petal_width\",\"petal_width\",\"petal_width\",\"petal_width\",\"petal_width\",\"petal_width\",\"petal_width\",\"petal_width\",\"petal_width\",\"petal_width\",\"petal_width\",\"petal_width\",\"petal_width\",\"petal_width\",\"petal_width\",\"petal_width\",\"petal_width\",\"petal_width\",\"petal_width\",\"petal_width\",\"petal_width\",\"petal_width\",\"petal_width\",\"petal_width\",\"petal_width\",\"petal_width\",\"petal_width\",\"petal_width\",\"petal_width\",\"petal_width\",\"petal_width\",\"petal_width\",\"petal_width\",\"petal_width\",\"petal_width\",\"petal_width\",\"petal_width\",\"petal_width\"],\n",
       "\"value\":[5.1,4.9,4.7,4.6,5.0,5.4,4.6,5.0,4.4,4.9,5.4,4.8,4.8,4.3,5.8,5.7,5.4,5.1,5.7,5.1,5.4,5.1,4.6,5.1,4.8,5.0,5.0,5.2,5.2,4.7,4.8,5.4,5.2,5.5,4.9,5.0,5.5,4.9,4.4,5.1,5.0,4.5,4.4,5.0,5.1,4.8,5.1,4.6,5.3,5.0,7.0,6.4,6.9,5.5,6.5,5.7,6.3,4.9,6.6,5.2,5.0,5.9,6.0,6.1,5.6,6.7,5.6,5.8,6.2,5.6,5.9,6.1,6.3,6.1,6.4,6.6,6.8,6.7,6.0,5.7,5.5,5.5,5.8,6.0,5.4,6.0,6.7,6.3,5.6,5.5,5.5,6.1,5.8,5.0,5.6,5.7,5.7,6.2,5.1,5.7,6.3,5.8,7.1,6.3,6.5,7.6,4.9,7.3,6.7,7.2,6.5,6.4,6.8,5.7,5.8,6.4,6.5,7.7,7.7,6.0,6.9,5.6,7.7,6.3,6.7,7.2,6.2,6.1,6.4,7.2,7.4,7.9,6.4,6.3,6.1,7.7,6.3,6.4,6.0,6.9,6.7,6.9,5.8,6.8,6.7,6.7,6.3,6.5,6.2,5.9,3.5,3.0,3.2,3.1,3.6,3.9,3.4,3.4,2.9,3.1,3.7,3.4,3.0,3.0,4.0,4.4,3.9,3.5,3.8,3.8,3.4,3.7,3.6,3.3,3.4,3.0,3.4,3.5,3.4,3.2,3.1,3.4,4.1,4.2,3.1,3.2,3.5,3.1,3.0,3.4,3.5,2.3,3.2,3.5,3.8,3.0,3.8,3.2,3.7,3.3,3.2,3.2,3.1,2.3,2.8,2.8,3.3,2.4,2.9,2.7,2.0,3.0,2.2,2.9,2.9,3.1,3.0,2.7,2.2,2.5,3.2,2.8,2.5,2.8,2.9,3.0,2.8,3.0,2.9,2.6,2.4,2.4,2.7,2.7,3.0,3.4,3.1,2.3,3.0,2.5,2.6,3.0,2.6,2.3,2.7,3.0,2.9,2.9,2.5,2.8,3.3,2.7,3.0,2.9,3.0,3.0,2.5,2.9,2.5,3.6,3.2,2.7,3.0,2.5,2.8,3.2,3.0,3.8,2.6,2.2,3.2,2.8,2.8,2.7,3.3,3.2,2.8,3.0,2.8,3.0,2.8,3.8,2.8,2.8,2.6,3.0,3.4,3.1,3.0,3.1,3.1,3.1,2.7,3.2,3.3,3.0,2.5,3.0,3.4,3.0,1.4,1.4,1.3,1.5,1.4,1.7,1.4,1.5,1.4,1.5,1.5,1.6,1.4,1.1,1.2,1.5,1.3,1.4,1.7,1.5,1.7,1.5,1.0,1.7,1.9,1.6,1.6,1.5,1.4,1.6,1.6,1.5,1.5,1.4,1.5,1.2,1.3,1.5,1.3,1.5,1.3,1.3,1.3,1.6,1.9,1.4,1.6,1.4,1.5,1.4,4.7,4.5,4.9,4.0,4.6,4.5,4.7,3.3,4.6,3.9,3.5,4.2,4.0,4.7,3.6,4.4,4.5,4.1,4.5,3.9,4.8,4.0,4.9,4.7,4.3,4.4,4.8,5.0,4.5,3.5,3.8,3.7,3.9,5.1,4.5,4.5,4.7,4.4,4.1,4.0,4.4,4.6,4.0,3.3,4.2,4.2,4.2,4.3,3.0,4.1,6.0,5.1,5.9,5.6,5.8,6.6,4.5,6.3,5.8,6.1,5.1,5.3,5.5,5.0,5.1,5.3,5.5,6.7,6.9,5.0,5.7,4.9,6.7,4.9,5.7,6.0,4.8,4.9,5.6,5.8,6.1,6.4,5.6,5.1,5.6,6.1,5.6,5.5,4.8,5.4,5.6,5.1,5.1,5.9,5.7,5.2,5.0,5.2,5.4,5.1,0.2,0.2,0.2,0.2,0.2,0.4,0.3,0.2,0.2,0.1,0.2,0.2,0.1,0.1,0.2,0.4,0.4,0.3,0.3,0.3,0.2,0.4,0.2,0.5,0.2,0.2,0.4,0.2,0.2,0.2,0.2,0.4,0.1,0.2,0.1,0.2,0.2,0.1,0.2,0.2,0.3,0.3,0.2,0.6,0.4,0.3,0.2,0.2,0.2,0.2,1.4,1.5,1.5,1.3,1.5,1.3,1.6,1.0,1.3,1.4,1.0,1.5,1.0,1.4,1.3,1.4,1.5,1.0,1.5,1.1,1.8,1.3,1.5,1.2,1.3,1.4,1.4,1.7,1.5,1.0,1.1,1.0,1.2,1.6,1.5,1.6,1.5,1.3,1.3,1.3,1.2,1.4,1.2,1.0,1.3,1.2,1.3,1.3,1.1,1.3,2.5,1.9,2.1,1.8,2.2,2.1,1.7,1.8,1.8,2.5,2.0,1.9,2.1,2.0,2.4,2.3,1.8,2.2,2.3,1.5,2.3,2.0,2.0,1.8,2.1,1.8,1.8,1.8,2.1,1.6,1.9,2.0,2.2,1.5,1.4,2.3,2.4,1.8,1.8,2.1,2.4,2.3,1.9,2.3,2.5,2.3,1.9,2.0,2.3,1.8]\n",
       "},\n",
       "\"mapping\":{\n",
       "\"x\":\"variable\",\n",
       "\"y\":\"value\",\n",
       "\"color\":\"species\",\n",
       "\"group\":\"par_plot_idx\"\n",
       "},\n",
       "\"data_meta\":{\n",
       "\"series_annotations\":[{\n",
       "\"type\":\"str\",\n",
       "\"column\":\"species\"\n",
       "},{\n",
       "\"type\":\"int\",\n",
       "\"column\":\"par_plot_idx\"\n",
       "},{\n",
       "\"type\":\"str\",\n",
       "\"column\":\"variable\"\n",
       "},{\n",
       "\"type\":\"float\",\n",
       "\"column\":\"value\"\n",
       "}]\n",
       "},\n",
       "\"kind\":\"plot\",\n",
       "\"scales\":[{\n",
       "\"aesthetic\":\"x\",\n",
       "\"breaks\":[\"petal_width\",\"sepal_width\",\"petal_length\",\"sepal_length\"],\n",
       "\"discrete\":true,\n",
       "\"reverse\":false\n",
       "}],\n",
       "\"layers\":[{\n",
       "\"geom\":\"line\",\n",
       "\"mapping\":{\n",
       "},\n",
       "\"data_meta\":{\n",
       "},\n",
       "\"size\":1.0,\n",
       "\"data\":{\n",
       "}\n",
       "}],\n",
       "\"metainfo_list\":[]\n",
       "};\n",
       "           var plotContainer = document.getElementById(\"Ua9G2R\");\n",
       "           window.letsPlotCall(function() {{\n",
       "               LetsPlot.buildPlotFromProcessedSpecs(plotSpec, -1, -1, plotContainer);\n",
       "           }});\n",
       "       })();\n",
       "   </script>"
      ],
      "text/plain": [
       "<lets_plot.plot.core.PlotSpec at 0x14adbf1c0>"
      ]
     },
     "execution_count": 6,
     "metadata": {},
     "output_type": "execute_result"
    }
   ],
   "source": [
    "parallel_coordinates_plot(iris, 'species', order=['petal_width', 'sepal_width', 'petal_length', 'sepal_length'])"
   ]
  },
  {
   "cell_type": "markdown",
   "id": "ccec8039-0920-420f-8640-7034bf93cd55",
   "metadata": {},
   "source": [
    "See also:  \n",
    "https://r-graph-gallery.com/parallel-plot.html"
   ]
  }
 ],
 "metadata": {
  "kernelspec": {
   "display_name": "Python 3 (ipykernel)",
   "language": "python",
   "name": "python3"
  },
  "language_info": {
   "codemirror_mode": {
    "name": "ipython",
    "version": 3
   },
   "file_extension": ".py",
   "mimetype": "text/x-python",
   "name": "python",
   "nbconvert_exporter": "python",
   "pygments_lexer": "ipython3",
   "version": "3.10.15"
  }
 },
 "nbformat": 4,
 "nbformat_minor": 5
}
