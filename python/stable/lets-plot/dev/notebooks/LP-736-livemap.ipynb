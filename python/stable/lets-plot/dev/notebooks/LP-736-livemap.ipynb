{
 "cells": [
  {
   "cell_type": "markdown",
   "id": "636d9d29",
   "metadata": {},
   "source": [
    "### Markers Shape Rotation of Points on Livemap"
   ]
  },
  {
   "cell_type": "code",
   "execution_count": 1,
   "id": "aa1ae86a",
   "metadata": {
    "execution": {
     "iopub.execute_input": "2024-11-06T19:09:54.268131Z",
     "iopub.status.busy": "2024-11-06T19:09:54.267698Z",
     "iopub.status.idle": "2024-11-06T19:09:54.721821Z",
     "shell.execute_reply": "2024-11-06T19:09:54.721575Z"
    }
   },
   "outputs": [
    {
     "name": "stdout",
     "output_type": "stream",
     "text": [
      "The geodata is provided by © OpenStreetMap contributors and is made available here under the Open Database License (ODbL).\n"
     ]
    }
   ],
   "source": [
    "from lets_plot import *\n",
    "from lets_plot.geo_data import *"
   ]
  },
  {
   "cell_type": "code",
   "execution_count": 2,
   "id": "424d58b5",
   "metadata": {
    "execution": {
     "iopub.execute_input": "2024-11-06T19:09:54.722946Z",
     "iopub.status.busy": "2024-11-06T19:09:54.722843Z",
     "iopub.status.idle": "2024-11-06T19:09:54.725021Z",
     "shell.execute_reply": "2024-11-06T19:09:54.724817Z"
    }
   },
   "outputs": [
    {
     "data": {
      "text/html": [
       "\n",
       "            <div id=\"ulPbuU\"></div>\n",
       "            <script type=\"text/javascript\" data-lets-plot-script=\"library\">\n",
       "                if(!window.letsPlotCallQueue) {\n",
       "                    window.letsPlotCallQueue = [];\n",
       "                }; \n",
       "                window.letsPlotCall = function(f) {\n",
       "                    window.letsPlotCallQueue.push(f);\n",
       "                };\n",
       "                (function() {\n",
       "                    var script = document.createElement(\"script\");\n",
       "                    script.type = \"text/javascript\";\n",
       "                    script.src = \"https://cdn.jsdelivr.net/gh/JetBrains/lets-plot@v4.5.1/js-package/distr/lets-plot.min.js\";\n",
       "                    script.onload = function() {\n",
       "                        window.letsPlotCall = function(f) {f();};\n",
       "                        window.letsPlotCallQueue.forEach(function(f) {f();});\n",
       "                        window.letsPlotCallQueue = [];\n",
       "                        \n",
       "                    };\n",
       "                    script.onerror = function(event) {\n",
       "                        window.letsPlotCall = function(f) {};    // noop\n",
       "                        window.letsPlotCallQueue = [];\n",
       "                        var div = document.createElement(\"div\");\n",
       "                        div.style.color = 'darkred';\n",
       "                        div.textContent = 'Error loading Lets-Plot JS';\n",
       "                        document.getElementById(\"ulPbuU\").appendChild(div);\n",
       "                    };\n",
       "                    var e = document.getElementById(\"ulPbuU\");\n",
       "                    e.appendChild(script);\n",
       "                })()\n",
       "            </script>\n",
       "            "
      ]
     },
     "metadata": {},
     "output_type": "display_data"
    }
   ],
   "source": [
    "LetsPlot.setup_html()"
   ]
  },
  {
   "cell_type": "code",
   "execution_count": 3,
   "id": "cd2b9458",
   "metadata": {
    "execution": {
     "iopub.execute_input": "2024-11-06T19:09:54.726037Z",
     "iopub.status.busy": "2024-11-06T19:09:54.725967Z",
     "iopub.status.idle": "2024-11-06T19:09:55.202756Z",
     "shell.execute_reply": "2024-11-06T19:09:55.202236Z"
    }
   },
   "outputs": [
    {
     "data": {
      "text/html": [
       "   <div id=\"Zly98G\"></div>\n",
       "   <script type=\"text/javascript\" data-lets-plot-script=\"plot\">\n",
       "   \n",
       "   (function() {\n",
       "   // ----------\n",
       "   \n",
       "   var containerDiv = document.getElementById(\"Zly98G\");\n",
       "   var observer = new ResizeObserver(function(entries) {\n",
       "       for (let entry of entries) {\n",
       "           var width = containerDiv.clientWidth\n",
       "           if (entry.contentBoxSize && width > 0) {\n",
       "           \n",
       "               // Render plot\n",
       "               if (observer) {\n",
       "                   observer.disconnect();\n",
       "                   observer = null;\n",
       "               }\n",
       "\n",
       "               var plotSpec={\n",
       "\"mapping\":{\n",
       "},\n",
       "\"data_meta\":{\n",
       "},\n",
       "\"kind\":\"plot\",\n",
       "\"scales\":[],\n",
       "\"layers\":[{\n",
       "\"geom\":\"livemap\",\n",
       "\"mapping\":{\n",
       "},\n",
       "\"data_meta\":{\n",
       "},\n",
       "\"tiles\":{\n",
       "\"kind\":\"vector_lets_plot\",\n",
       "\"url\":\"wss://tiles.datalore.jetbrains.com\",\n",
       "\"theme\":\"color\",\n",
       "\"attribution\":\"<a href=\\\"https://lets-plot.org\\\">© Lets-Plot</a>, map data: <a href=\\\"https://www.openstreetmap.org/copyright\\\">© OpenStreetMap contributors</a>.\"\n",
       "},\n",
       "\"geocoding\":{\n",
       "\"url\":\"https://geo2.datalore.jetbrains.com/map_data/geocoding\"\n",
       "},\n",
       "\"data\":{\n",
       "}\n",
       "},{\n",
       "\"geom\":\"point\",\n",
       "\"data\":{\n",
       "\"city\":[\"Los Angeles\",\"Chicago\",\"New York\"],\n",
       "\"angle\":[0.0,45.0,90.0]\n",
       "},\n",
       "\"mapping\":{\n",
       "\"angle\":\"angle\"\n",
       "},\n",
       "\"show_legend\":false,\n",
       "\"tooltips\":{\n",
       "\"formats\":[],\n",
       "\"lines\":[\"angle|@angle\"],\n",
       "\"title\":\"@city\"\n",
       "},\n",
       "\"data_meta\":{\n",
       "\"series_annotations\":[{\n",
       "\"type\":\"str\",\n",
       "\"column\":\"city\"\n",
       "},{\n",
       "\"type\":\"int\",\n",
       "\"column\":\"angle\"\n",
       "}]\n",
       "},\n",
       "\"map\":{\n",
       "\"city\":[\"Los Angeles\",\"Chicago\",\"New York\"],\n",
       "\"found name\":[\"Los Angeles\",\"Chicago\",\"New York\"],\n",
       "\"geometry\":[\"{\\\"type\\\": \\\"Point\\\", \\\"coordinates\\\": [-118.286736944616, 34.0204504877329]}\",\"{\\\"type\\\": \\\"Point\\\", \\\"coordinates\\\": [-87.6717840965281, 41.8337749689817]}\",\"{\\\"type\\\": \\\"Point\\\", \\\"coordinates\\\": [-73.8673749469137, 40.6847005337477]}\"]\n",
       "},\n",
       "\"map_join\":[[\"city\"],[\"city\"]],\n",
       "\"color\":\"red\",\n",
       "\"shape\":14.0,\n",
       "\"size\":10.0,\n",
       "\"map_data_meta\":{\n",
       "\"geodataframe\":{\n",
       "\"geometry\":\"geometry\"\n",
       "}\n",
       "}\n",
       "}],\n",
       "\"metainfo_list\":[],\n",
       "\"spec_id\":\"1\"\n",
       "};\n",
       "               window.letsPlotCall(function() {\n",
       "       \n",
       "               var toolbar = null;\n",
       "               var plotContainer = containerDiv;               \n",
       "               \n",
       "                   var options = {\n",
       "                       sizing: {\n",
       "                           width_mode: \"min\",\n",
       "                           height_mode: \"scaled\",\n",
       "                           width: width\n",
       "                       }\n",
       "                   };\n",
       "                   var fig = LetsPlot.buildPlotFromProcessedSpecs(plotSpec, -1, -1, plotContainer, options);\n",
       "                   if (toolbar) {\n",
       "                     toolbar.bind(fig);\n",
       "                   }\n",
       "               });\n",
       "               \n",
       "               break;\n",
       "           }\n",
       "       }\n",
       "   });\n",
       "   \n",
       "   observer.observe(containerDiv);\n",
       "   \n",
       "   // ----------\n",
       "   })();\n",
       "   \n",
       "   </script>"
      ],
      "text/plain": [
       "<lets_plot.plot.core.PlotSpec at 0x107a97d60>"
      ]
     },
     "execution_count": 3,
     "metadata": {},
     "output_type": "execute_result"
    }
   ],
   "source": [
    "data = {\"city\": [\"Los Angeles\", \"Chicago\", \"New York\"], \\\n",
    "        \"angle\": [0, 45, 90]}\n",
    "centroids = geocode_cities(data[\"city\"]).get_centroids()\n",
    "ggplot() + geom_livemap() + \\\n",
    "    geom_point(aes(angle=\"angle\"), color=\"red\", show_legend=False, \\\n",
    "               shape=14, size=10, data=data, map=centroids, map_join=\"city\", \\\n",
    "               tooltips=layer_tooltips().title(\"@city\").line(\"angle|@angle\"))"
   ]
  }
 ],
 "metadata": {
  "kernelspec": {
   "display_name": "Python 3 (ipykernel)",
   "language": "python",
   "name": "python3"
  },
  "language_info": {
   "codemirror_mode": {
    "name": "ipython",
    "version": 3
   },
   "file_extension": ".py",
   "mimetype": "text/x-python",
   "name": "python",
   "nbconvert_exporter": "python",
   "pygments_lexer": "ipython3",
   "version": "3.10.15"
  }
 },
 "nbformat": 4,
 "nbformat_minor": 5
}
