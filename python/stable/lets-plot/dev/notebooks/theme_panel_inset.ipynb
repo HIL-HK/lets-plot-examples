{
 "cells": [
  {
   "cell_type": "code",
   "execution_count": 1,
   "id": "a181905e-ddbd-416e-8e10-20210d57f4bd",
   "metadata": {
    "execution": {
     "iopub.execute_input": "2024-10-02T08:45:17.028447Z",
     "iopub.status.busy": "2024-10-02T08:45:17.027952Z",
     "iopub.status.idle": "2024-10-02T08:45:17.462305Z",
     "shell.execute_reply": "2024-10-02T08:45:17.462045Z"
    }
   },
   "outputs": [
    {
     "data": {
      "text/html": [
       "\n",
       "            <div id=\"5rmrkO\"></div>\n",
       "            <script type=\"text/javascript\" data-lets-plot-script=\"library\">\n",
       "                if(!window.letsPlotCallQueue) {\n",
       "                    window.letsPlotCallQueue = [];\n",
       "                }; \n",
       "                window.letsPlotCall = function(f) {\n",
       "                    window.letsPlotCallQueue.push(f);\n",
       "                };\n",
       "                (function() {\n",
       "                    var script = document.createElement(\"script\");\n",
       "                    script.type = \"text/javascript\";\n",
       "                    script.src = \"https://cdn.jsdelivr.net/gh/JetBrains/lets-plot@v4.4.1/js-package/distr/lets-plot.min.js\";\n",
       "                    script.onload = function() {\n",
       "                        window.letsPlotCall = function(f) {f();};\n",
       "                        window.letsPlotCallQueue.forEach(function(f) {f();});\n",
       "                        window.letsPlotCallQueue = [];\n",
       "                        \n",
       "                    };\n",
       "                    script.onerror = function(event) {\n",
       "                        window.letsPlotCall = function(f) {};    // noop\n",
       "                        window.letsPlotCallQueue = [];\n",
       "                        var div = document.createElement(\"div\");\n",
       "                        div.style.color = 'darkred';\n",
       "                        div.textContent = 'Error loading Lets-Plot JS';\n",
       "                        document.getElementById(\"5rmrkO\").appendChild(div);\n",
       "                    };\n",
       "                    var e = document.getElementById(\"5rmrkO\");\n",
       "                    e.appendChild(script);\n",
       "                })()\n",
       "            </script>\n",
       "            "
      ]
     },
     "metadata": {},
     "output_type": "display_data"
    }
   ],
   "source": [
    "from lets_plot import *\n",
    "LetsPlot.setup_html()\n",
    "\n",
    "from lets_plot.plot.coord import coord_polar"
   ]
  },
  {
   "cell_type": "code",
   "execution_count": 2,
   "id": "bd55dece-a599-4a1e-939e-3779c4a0adfc",
   "metadata": {
    "execution": {
     "iopub.execute_input": "2024-10-02T08:45:17.463477Z",
     "iopub.status.busy": "2024-10-02T08:45:17.463370Z",
     "iopub.status.idle": "2024-10-02T08:45:17.489640Z",
     "shell.execute_reply": "2024-10-02T08:45:17.489350Z"
    }
   },
   "outputs": [],
   "source": [
    "hours = list(map(lambda v: '{:02d}:00'.format(v), range(12)))\n",
    "p = ggplot() \\\n",
    "    + geom_point(aes(x=hours)) \\\n",
    "    + theme_grey()"
   ]
  },
  {
   "cell_type": "markdown",
   "id": "afd30d53-4a7a-46f7-9394-233e7be0441c",
   "metadata": {},
   "source": [
    "# Linear coordinate system  \n",
    "In linear coordinate systems `inset` acts as a margin, moving the panel boundaries within the plot:"
   ]
  },
  {
   "cell_type": "code",
   "execution_count": 3,
   "id": "75f5e483-d09c-4ab5-9431-591e5d74b7d8",
   "metadata": {
    "execution": {
     "iopub.execute_input": "2024-10-02T08:45:17.490891Z",
     "iopub.status.busy": "2024-10-02T08:45:17.490815Z",
     "iopub.status.idle": "2024-10-02T08:45:17.494409Z",
     "shell.execute_reply": "2024-10-02T08:45:17.494221Z"
    }
   },
   "outputs": [
    {
     "data": {
      "text/html": [
       "   <div id=\"DICpA2\"></div>\n",
       "   <script type=\"text/javascript\" data-lets-plot-script=\"plot\">\n",
       "       (function() {\n",
       "           var plotSpec={\n",
       "\"kind\":\"subplots\",\n",
       "\"layout\":{\n",
       "\"ncol\":2.0,\n",
       "\"nrow\":1.0,\n",
       "\"name\":\"grid\"\n",
       "},\n",
       "\"figures\":[{\n",
       "\"mapping\":{\n",
       "},\n",
       "\"data_meta\":{\n",
       "},\n",
       "\"theme\":{\n",
       "\"name\":\"grey\"\n",
       "},\n",
       "\"kind\":\"plot\",\n",
       "\"scales\":[],\n",
       "\"layers\":[{\n",
       "\"geom\":\"point\",\n",
       "\"mapping\":{\n",
       "\"x\":\"x\"\n",
       "},\n",
       "\"data_meta\":{\n",
       "},\n",
       "\"data\":{\n",
       "\"x\":[\"00:00\",\"01:00\",\"02:00\",\"03:00\",\"04:00\",\"05:00\",\"06:00\",\"07:00\",\"08:00\",\"09:00\",\"10:00\",\"11:00\"]\n",
       "}\n",
       "}],\n",
       "\"metainfo_list\":[]\n",
       "},{\n",
       "\"mapping\":{\n",
       "},\n",
       "\"data_meta\":{\n",
       "},\n",
       "\"theme\":{\n",
       "\"name\":\"grey\",\n",
       "\"panel_inset\":15.0\n",
       "},\n",
       "\"kind\":\"plot\",\n",
       "\"scales\":[],\n",
       "\"layers\":[{\n",
       "\"geom\":\"point\",\n",
       "\"mapping\":{\n",
       "\"x\":\"x\"\n",
       "},\n",
       "\"data_meta\":{\n",
       "},\n",
       "\"data\":{\n",
       "\"x\":[\"00:00\",\"01:00\",\"02:00\",\"03:00\",\"04:00\",\"05:00\",\"06:00\",\"07:00\",\"08:00\",\"09:00\",\"10:00\",\"11:00\"]\n",
       "}\n",
       "}],\n",
       "\"metainfo_list\":[]\n",
       "}]\n",
       "};\n",
       "           var plotContainer = document.getElementById(\"DICpA2\");\n",
       "           window.letsPlotCall(function() {{\n",
       "               LetsPlot.buildPlotFromProcessedSpecs(plotSpec, -1, -1, plotContainer);\n",
       "           }});\n",
       "       })();\n",
       "   </script>"
      ],
      "text/plain": [
       "<lets_plot.plot.subplots.SupPlotsSpec at 0x147683b20>"
      ]
     },
     "execution_count": 3,
     "metadata": {},
     "output_type": "execute_result"
    }
   ],
   "source": [
    "gggrid([\n",
    "    p,\n",
    "    p + theme(panel_inset=15)\n",
    "])"
   ]
  },
  {
   "cell_type": "markdown",
   "id": "b4f60f05-f388-4fab-8bec-cb347612d009",
   "metadata": {},
   "source": [
    "# Polar coordinate system\n",
    "Default inset may cause tick labels overlapping in polar coordinate system.  \n",
    "The `panel_inset` parameter acts as a margin and can be used to create space between the axis and the panel:"
   ]
  },
  {
   "cell_type": "code",
   "execution_count": 4,
   "id": "6f8f448b-6033-4e79-b730-51aa45edbc2f",
   "metadata": {
    "execution": {
     "iopub.execute_input": "2024-10-02T08:45:17.495500Z",
     "iopub.status.busy": "2024-10-02T08:45:17.495413Z",
     "iopub.status.idle": "2024-10-02T08:45:17.497971Z",
     "shell.execute_reply": "2024-10-02T08:45:17.497801Z"
    }
   },
   "outputs": [
    {
     "data": {
      "text/html": [
       "   <div id=\"Yt7Hdg\"></div>\n",
       "   <script type=\"text/javascript\" data-lets-plot-script=\"plot\">\n",
       "       (function() {\n",
       "           var plotSpec={\n",
       "\"kind\":\"subplots\",\n",
       "\"layout\":{\n",
       "\"ncol\":2.0,\n",
       "\"nrow\":1.0,\n",
       "\"name\":\"grid\"\n",
       "},\n",
       "\"figures\":[{\n",
       "\"mapping\":{\n",
       "},\n",
       "\"data_meta\":{\n",
       "},\n",
       "\"theme\":{\n",
       "\"name\":\"grey\"\n",
       "},\n",
       "\"coord\":{\n",
       "\"name\":\"polar\",\n",
       "\"xlim\":[0.0,12.0]\n",
       "},\n",
       "\"kind\":\"plot\",\n",
       "\"scales\":[],\n",
       "\"layers\":[{\n",
       "\"geom\":\"point\",\n",
       "\"mapping\":{\n",
       "\"x\":\"x\"\n",
       "},\n",
       "\"data_meta\":{\n",
       "},\n",
       "\"data\":{\n",
       "\"x\":[\"00:00\",\"01:00\",\"02:00\",\"03:00\",\"04:00\",\"05:00\",\"06:00\",\"07:00\",\"08:00\",\"09:00\",\"10:00\",\"11:00\"]\n",
       "}\n",
       "}],\n",
       "\"metainfo_list\":[]\n",
       "},{\n",
       "\"mapping\":{\n",
       "},\n",
       "\"data_meta\":{\n",
       "},\n",
       "\"theme\":{\n",
       "\"name\":\"grey\",\n",
       "\"panel_inset\":[0.0,35.0,0.0,35.0]\n",
       "},\n",
       "\"coord\":{\n",
       "\"name\":\"polar\",\n",
       "\"xlim\":[0.0,12.0]\n",
       "},\n",
       "\"kind\":\"plot\",\n",
       "\"scales\":[],\n",
       "\"layers\":[{\n",
       "\"geom\":\"point\",\n",
       "\"mapping\":{\n",
       "\"x\":\"x\"\n",
       "},\n",
       "\"data_meta\":{\n",
       "},\n",
       "\"data\":{\n",
       "\"x\":[\"00:00\",\"01:00\",\"02:00\",\"03:00\",\"04:00\",\"05:00\",\"06:00\",\"07:00\",\"08:00\",\"09:00\",\"10:00\",\"11:00\"]\n",
       "}\n",
       "}],\n",
       "\"metainfo_list\":[]\n",
       "}]\n",
       "};\n",
       "           var plotContainer = document.getElementById(\"Yt7Hdg\");\n",
       "           window.letsPlotCall(function() {{\n",
       "               LetsPlot.buildPlotFromProcessedSpecs(plotSpec, -1, -1, plotContainer);\n",
       "           }});\n",
       "       })();\n",
       "   </script>"
      ],
      "text/plain": [
       "<lets_plot.plot.subplots.SupPlotsSpec at 0x1478fefe0>"
      ]
     },
     "execution_count": 4,
     "metadata": {},
     "output_type": "execute_result"
    }
   ],
   "source": [
    "inset = [0, 35, 0, 35]\n",
    "polar = coord_polar(xlim=[0, 12])\n",
    "gggrid([\n",
    "    p + polar,\n",
    "    p + theme(panel_inset=inset) + polar,\n",
    "])"
   ]
  },
  {
   "cell_type": "markdown",
   "id": "fa972fc6-485d-475b-b0d6-717dee74c2bf",
   "metadata": {},
   "source": [
    "# Parameter `transform_bkgr`  \n",
    "\n",
    "When using the `transform_bkgr` parameter, the panel is not transformed into a circle, but remains a rectangle. This behaviour is similar to `ggplot2`.  \n",
    "In this case, `panel_inset` acts as padding, pushing the content into the panel:"
   ]
  },
  {
   "cell_type": "code",
   "execution_count": 5,
   "id": "eace351b-a6ec-4632-8d16-e0fd8d9a1ae3",
   "metadata": {
    "execution": {
     "iopub.execute_input": "2024-10-02T08:45:17.499009Z",
     "iopub.status.busy": "2024-10-02T08:45:17.498940Z",
     "iopub.status.idle": "2024-10-02T08:45:17.501352Z",
     "shell.execute_reply": "2024-10-02T08:45:17.501187Z"
    }
   },
   "outputs": [
    {
     "data": {
      "text/html": [
       "   <div id=\"nWfSkA\"></div>\n",
       "   <script type=\"text/javascript\" data-lets-plot-script=\"plot\">\n",
       "       (function() {\n",
       "           var plotSpec={\n",
       "\"kind\":\"subplots\",\n",
       "\"layout\":{\n",
       "\"ncol\":2.0,\n",
       "\"nrow\":1.0,\n",
       "\"name\":\"grid\"\n",
       "},\n",
       "\"figures\":[{\n",
       "\"mapping\":{\n",
       "},\n",
       "\"data_meta\":{\n",
       "},\n",
       "\"theme\":{\n",
       "\"name\":\"grey\"\n",
       "},\n",
       "\"coord\":{\n",
       "\"name\":\"polar\",\n",
       "\"xlim\":[0.0,12.0],\n",
       "\"transform_bkgr\":false\n",
       "},\n",
       "\"kind\":\"plot\",\n",
       "\"scales\":[],\n",
       "\"layers\":[{\n",
       "\"geom\":\"point\",\n",
       "\"mapping\":{\n",
       "\"x\":\"x\"\n",
       "},\n",
       "\"data_meta\":{\n",
       "},\n",
       "\"data\":{\n",
       "\"x\":[\"00:00\",\"01:00\",\"02:00\",\"03:00\",\"04:00\",\"05:00\",\"06:00\",\"07:00\",\"08:00\",\"09:00\",\"10:00\",\"11:00\"]\n",
       "}\n",
       "}],\n",
       "\"metainfo_list\":[]\n",
       "},{\n",
       "\"mapping\":{\n",
       "},\n",
       "\"data_meta\":{\n",
       "},\n",
       "\"theme\":{\n",
       "\"name\":\"grey\",\n",
       "\"panel_inset\":[0.0,35.0,0.0,35.0]\n",
       "},\n",
       "\"coord\":{\n",
       "\"name\":\"polar\",\n",
       "\"xlim\":[0.0,12.0],\n",
       "\"transform_bkgr\":false\n",
       "},\n",
       "\"kind\":\"plot\",\n",
       "\"scales\":[],\n",
       "\"layers\":[{\n",
       "\"geom\":\"point\",\n",
       "\"mapping\":{\n",
       "\"x\":\"x\"\n",
       "},\n",
       "\"data_meta\":{\n",
       "},\n",
       "\"data\":{\n",
       "\"x\":[\"00:00\",\"01:00\",\"02:00\",\"03:00\",\"04:00\",\"05:00\",\"06:00\",\"07:00\",\"08:00\",\"09:00\",\"10:00\",\"11:00\"]\n",
       "}\n",
       "}],\n",
       "\"metainfo_list\":[]\n",
       "}]\n",
       "};\n",
       "           var plotContainer = document.getElementById(\"nWfSkA\");\n",
       "           window.letsPlotCall(function() {{\n",
       "               LetsPlot.buildPlotFromProcessedSpecs(plotSpec, -1, -1, plotContainer);\n",
       "           }});\n",
       "       })();\n",
       "   </script>"
      ],
      "text/plain": [
       "<lets_plot.plot.subplots.SupPlotsSpec at 0x105c147f0>"
      ]
     },
     "execution_count": 5,
     "metadata": {},
     "output_type": "execute_result"
    }
   ],
   "source": [
    "polar = coord_polar(xlim=[0, 12], transform_bkgr=False)\n",
    "gggrid([\n",
    "    p + polar,\n",
    "    p + theme(panel_inset=inset) + polar\n",
    "])"
   ]
  },
  {
   "cell_type": "markdown",
   "id": "8ec5dcf8-1663-4ad1-952d-6a0d6b8acf73",
   "metadata": {},
   "source": [
    "# `coord_fixed()`\n",
    "This is how `panel_inset` works in `coord_fixed()`."
   ]
  },
  {
   "cell_type": "code",
   "execution_count": 6,
   "id": "b5ce48df-6011-49e8-8385-b4a0dcb6448f",
   "metadata": {
    "execution": {
     "iopub.execute_input": "2024-10-02T08:45:17.502453Z",
     "iopub.status.busy": "2024-10-02T08:45:17.502364Z",
     "iopub.status.idle": "2024-10-02T08:45:17.504808Z",
     "shell.execute_reply": "2024-10-02T08:45:17.504610Z"
    }
   },
   "outputs": [
    {
     "data": {
      "text/html": [
       "   <div id=\"JENRob\"></div>\n",
       "   <script type=\"text/javascript\" data-lets-plot-script=\"plot\">\n",
       "       (function() {\n",
       "           var plotSpec={\n",
       "\"mapping\":{\n",
       "},\n",
       "\"data_meta\":{\n",
       "},\n",
       "\"theme\":{\n",
       "\"name\":\"grey\",\n",
       "\"panel_inset\":40.0\n",
       "},\n",
       "\"coord\":{\n",
       "\"name\":\"fixed\",\n",
       "\"ratio\":1.0,\n",
       "\"flip\":false\n",
       "},\n",
       "\"ggtitle\":{\n",
       "\"text\":\"coord_fixed() + inset=40\"\n",
       "},\n",
       "\"kind\":\"plot\",\n",
       "\"scales\":[{\n",
       "\"aesthetic\":\"x\",\n",
       "\"position\":\"both\"\n",
       "},{\n",
       "\"aesthetic\":\"y\",\n",
       "\"position\":\"both\"\n",
       "}],\n",
       "\"layers\":[{\n",
       "\"geom\":\"point\",\n",
       "\"mapping\":{\n",
       "\"x\":\"x\"\n",
       "},\n",
       "\"data_meta\":{\n",
       "},\n",
       "\"data\":{\n",
       "\"x\":[\"00:00\",\"01:00\",\"02:00\",\"03:00\",\"04:00\",\"05:00\",\"06:00\",\"07:00\",\"08:00\",\"09:00\",\"10:00\",\"11:00\"]\n",
       "}\n",
       "}],\n",
       "\"metainfo_list\":[]\n",
       "};\n",
       "           var plotContainer = document.getElementById(\"JENRob\");\n",
       "           window.letsPlotCall(function() {{\n",
       "               LetsPlot.buildPlotFromProcessedSpecs(plotSpec, -1, -1, plotContainer);\n",
       "           }});\n",
       "       })();\n",
       "   </script>"
      ],
      "text/plain": [
       "<lets_plot.plot.core.PlotSpec at 0x147930f70>"
      ]
     },
     "execution_count": 6,
     "metadata": {},
     "output_type": "execute_result"
    }
   ],
   "source": [
    "inset = 40\n",
    "p \\\n",
    "    + scale_x_continuous(position='both') \\\n",
    "    + scale_y_continuous(position='both') \\\n",
    "    + coord_fixed() \\\n",
    "    + ggtitle('coord_fixed() + inset=' + str(inset)) \\\n",
    "    + theme(panel_inset=inset) \n"
   ]
  }
 ],
 "metadata": {
  "kernelspec": {
   "display_name": "Python 3 (ipykernel)",
   "language": "python",
   "name": "python3"
  },
  "language_info": {
   "codemirror_mode": {
    "name": "ipython",
    "version": 3
   },
   "file_extension": ".py",
   "mimetype": "text/x-python",
   "name": "python",
   "nbconvert_exporter": "python",
   "pygments_lexer": "ipython3",
   "version": "3.10.15"
  }
 },
 "nbformat": 4,
 "nbformat_minor": 5
}
