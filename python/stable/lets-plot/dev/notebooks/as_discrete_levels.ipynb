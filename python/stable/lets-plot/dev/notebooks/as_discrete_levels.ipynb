{
 "cells": [
  {
   "cell_type": "code",
   "execution_count": 1,
   "id": "prescription-boost",
   "metadata": {
    "execution": {
     "iopub.execute_input": "2024-10-02T08:44:12.076418Z",
     "iopub.status.busy": "2024-10-02T08:44:12.075852Z",
     "iopub.status.idle": "2024-10-02T08:44:12.515322Z",
     "shell.execute_reply": "2024-10-02T08:44:12.514966Z"
    }
   },
   "outputs": [],
   "source": [
    "from lets_plot import *\n",
    "from lets_plot.mapping import as_discrete"
   ]
  },
  {
   "cell_type": "code",
   "execution_count": 2,
   "id": "rural-denial",
   "metadata": {
    "execution": {
     "iopub.execute_input": "2024-10-02T08:44:12.516716Z",
     "iopub.status.busy": "2024-10-02T08:44:12.516600Z",
     "iopub.status.idle": "2024-10-02T08:44:12.518861Z",
     "shell.execute_reply": "2024-10-02T08:44:12.518644Z"
    }
   },
   "outputs": [
    {
     "data": {
      "text/html": [
       "\n",
       "            <div id=\"maWtV6\"></div>\n",
       "            <script type=\"text/javascript\" data-lets-plot-script=\"library\">\n",
       "                if(!window.letsPlotCallQueue) {\n",
       "                    window.letsPlotCallQueue = [];\n",
       "                }; \n",
       "                window.letsPlotCall = function(f) {\n",
       "                    window.letsPlotCallQueue.push(f);\n",
       "                };\n",
       "                (function() {\n",
       "                    var script = document.createElement(\"script\");\n",
       "                    script.type = \"text/javascript\";\n",
       "                    script.src = \"https://cdn.jsdelivr.net/gh/JetBrains/lets-plot@v4.4.1/js-package/distr/lets-plot.min.js\";\n",
       "                    script.onload = function() {\n",
       "                        window.letsPlotCall = function(f) {f();};\n",
       "                        window.letsPlotCallQueue.forEach(function(f) {f();});\n",
       "                        window.letsPlotCallQueue = [];\n",
       "                        \n",
       "                    };\n",
       "                    script.onerror = function(event) {\n",
       "                        window.letsPlotCall = function(f) {};    // noop\n",
       "                        window.letsPlotCallQueue = [];\n",
       "                        var div = document.createElement(\"div\");\n",
       "                        div.style.color = 'darkred';\n",
       "                        div.textContent = 'Error loading Lets-Plot JS';\n",
       "                        document.getElementById(\"maWtV6\").appendChild(div);\n",
       "                    };\n",
       "                    var e = document.getElementById(\"maWtV6\");\n",
       "                    e.appendChild(script);\n",
       "                })()\n",
       "            </script>\n",
       "            "
      ]
     },
     "metadata": {},
     "output_type": "display_data"
    }
   ],
   "source": [
    "LetsPlot.setup_html()"
   ]
  },
  {
   "cell_type": "code",
   "execution_count": 3,
   "id": "employed-browser",
   "metadata": {
    "execution": {
     "iopub.execute_input": "2024-10-02T08:44:12.519989Z",
     "iopub.status.busy": "2024-10-02T08:44:12.519905Z",
     "iopub.status.idle": "2024-10-02T08:44:12.549539Z",
     "shell.execute_reply": "2024-10-02T08:44:12.549308Z"
    }
   },
   "outputs": [
    {
     "data": {
      "text/html": [
       "   <div id=\"GPqVX7\"></div>\n",
       "   <script type=\"text/javascript\" data-lets-plot-script=\"plot\">\n",
       "       (function() {\n",
       "           var plotSpec={\n",
       "\"kind\":\"subplots\",\n",
       "\"layout\":{\n",
       "\"ncol\":3.0,\n",
       "\"nrow\":1.0,\n",
       "\"name\":\"grid\"\n",
       "},\n",
       "\"figures\":[{\n",
       "\"data\":{\n",
       "},\n",
       "\"mapping\":{\n",
       "},\n",
       "\"data_meta\":{\n",
       "\"series_annotations\":[{\n",
       "\"type\":\"str\",\n",
       "\"column\":\"x\"\n",
       "}]\n",
       "},\n",
       "\"kind\":\"plot\",\n",
       "\"scales\":[],\n",
       "\"layers\":[{\n",
       "\"geom\":\"bar\",\n",
       "\"mapping\":{\n",
       "\"x\":\"x\"\n",
       "},\n",
       "\"data_meta\":{\n",
       "},\n",
       "\"data\":{\n",
       "\"..count..\":[2.0,3.0,1.0,2.0],\n",
       "\"x\":[\"c\",\"a\",\"d\",\"b\"]\n",
       "}\n",
       "}],\n",
       "\"metainfo_list\":[]\n",
       "},{\n",
       "\"data\":{\n",
       "},\n",
       "\"mapping\":{\n",
       "},\n",
       "\"data_meta\":{\n",
       "\"series_annotations\":[{\n",
       "\"type\":\"str\",\n",
       "\"column\":\"x\"\n",
       "}]\n",
       "},\n",
       "\"kind\":\"plot\",\n",
       "\"scales\":[],\n",
       "\"layers\":[{\n",
       "\"geom\":\"bar\",\n",
       "\"mapping\":{\n",
       "\"x\":\"x\"\n",
       "},\n",
       "\"data_meta\":{\n",
       "\"series_annotations\":[{\n",
       "\"factor_levels\":[\"a\",\"b\",\"c\",\"d\"],\n",
       "\"column\":\"x\"\n",
       "}]\n",
       "},\n",
       "\"data\":{\n",
       "\"..count..\":[2.0,3.0,1.0,2.0],\n",
       "\"x\":[\"c\",\"a\",\"d\",\"b\"]\n",
       "}\n",
       "}],\n",
       "\"metainfo_list\":[]\n",
       "},{\n",
       "\"data\":{\n",
       "},\n",
       "\"mapping\":{\n",
       "},\n",
       "\"data_meta\":{\n",
       "\"series_annotations\":[{\n",
       "\"type\":\"str\",\n",
       "\"column\":\"x\"\n",
       "}]\n",
       "},\n",
       "\"kind\":\"plot\",\n",
       "\"scales\":[],\n",
       "\"layers\":[{\n",
       "\"geom\":\"bar\",\n",
       "\"mapping\":{\n",
       "\"x\":\"x\"\n",
       "},\n",
       "\"data_meta\":{\n",
       "\"series_annotations\":[{\n",
       "\"factor_levels\":[\"a\",\"d\",\"c\",\"b\"],\n",
       "\"column\":\"x\"\n",
       "}]\n",
       "},\n",
       "\"data\":{\n",
       "\"..count..\":[2.0,3.0,1.0,2.0],\n",
       "\"x\":[\"c\",\"a\",\"d\",\"b\"]\n",
       "}\n",
       "}],\n",
       "\"metainfo_list\":[]\n",
       "}]\n",
       "};\n",
       "           var plotContainer = document.getElementById(\"GPqVX7\");\n",
       "           window.letsPlotCall(function() {{\n",
       "               LetsPlot.buildPlotFromProcessedSpecs(plotSpec, -1, -1, plotContainer);\n",
       "           }});\n",
       "       })();\n",
       "   </script>"
      ],
      "text/plain": [
       "<lets_plot.plot.subplots.SupPlotsSpec at 0x149556410>"
      ]
     },
     "execution_count": 3,
     "metadata": {},
     "output_type": "execute_result"
    }
   ],
   "source": [
    "df1 = {\n",
    "    'x' : ['c', 'c', 'a', 'a', 'd', 'b', 'b', 'a']\n",
    "}\n",
    "\n",
    "gggrid([\n",
    "    ggplot(df1) + geom_bar(aes('x')),\n",
    "    ggplot(df1) + geom_bar(aes(as_discrete('x', levels=['a','b','c','d']))),\n",
    "    ggplot(df1) + geom_bar(aes(as_discrete('x', levels=['a','d']))) # missed values will be added\n",
    "])"
   ]
  },
  {
   "cell_type": "code",
   "execution_count": 4,
   "id": "trying-happiness",
   "metadata": {
    "execution": {
     "iopub.execute_input": "2024-10-02T08:44:12.550673Z",
     "iopub.status.busy": "2024-10-02T08:44:12.550597Z",
     "iopub.status.idle": "2024-10-02T08:44:12.553745Z",
     "shell.execute_reply": "2024-10-02T08:44:12.553527Z"
    }
   },
   "outputs": [
    {
     "data": {
      "text/html": [
       "   <div id=\"sY8LTu\"></div>\n",
       "   <script type=\"text/javascript\" data-lets-plot-script=\"plot\">\n",
       "       (function() {\n",
       "           var plotSpec={\n",
       "\"kind\":\"subplots\",\n",
       "\"layout\":{\n",
       "\"ncol\":1.0,\n",
       "\"nrow\":2.0,\n",
       "\"name\":\"grid\"\n",
       "},\n",
       "\"figures\":[{\n",
       "\"data\":{\n",
       "},\n",
       "\"mapping\":{\n",
       "},\n",
       "\"data_meta\":{\n",
       "\"series_annotations\":[{\n",
       "\"type\":\"int\",\n",
       "\"column\":\"x\"\n",
       "}]\n",
       "},\n",
       "\"kind\":\"plot\",\n",
       "\"scales\":[],\n",
       "\"layers\":[{\n",
       "\"geom\":\"bar\",\n",
       "\"mapping\":{\n",
       "\"x\":\"x\",\n",
       "\"fill\":\"x\"\n",
       "},\n",
       "\"data_meta\":{\n",
       "\"mapping_annotations\":[{\n",
       "\"parameters\":{\n",
       "\"label\":\"x\"\n",
       "},\n",
       "\"aes\":\"fill\",\n",
       "\"annotation\":\"as_discrete\"\n",
       "}]\n",
       "},\n",
       "\"data\":{\n",
       "\"..count..\":[3.0,1.0,2.0,1.0],\n",
       "\"x\":[3.0,2.0,1.0,4.0]\n",
       "}\n",
       "}],\n",
       "\"metainfo_list\":[]\n",
       "},{\n",
       "\"data\":{\n",
       "},\n",
       "\"mapping\":{\n",
       "},\n",
       "\"data_meta\":{\n",
       "\"series_annotations\":[{\n",
       "\"type\":\"int\",\n",
       "\"column\":\"x\"\n",
       "}]\n",
       "},\n",
       "\"kind\":\"plot\",\n",
       "\"scales\":[],\n",
       "\"layers\":[{\n",
       "\"geom\":\"bar\",\n",
       "\"mapping\":{\n",
       "\"x\":\"x\",\n",
       "\"fill\":\"x\"\n",
       "},\n",
       "\"data_meta\":{\n",
       "\"series_annotations\":[{\n",
       "\"factor_levels\":[1.0,2.0,3.0,4.0],\n",
       "\"column\":\"x\"\n",
       "}]\n",
       "},\n",
       "\"data\":{\n",
       "\"..count..\":[3.0,1.0,2.0,1.0],\n",
       "\"x\":[3.0,2.0,1.0,4.0]\n",
       "}\n",
       "}],\n",
       "\"metainfo_list\":[]\n",
       "}]\n",
       "};\n",
       "           var plotContainer = document.getElementById(\"sY8LTu\");\n",
       "           window.letsPlotCall(function() {{\n",
       "               LetsPlot.buildPlotFromProcessedSpecs(plotSpec, -1, -1, plotContainer);\n",
       "           }});\n",
       "       })();\n",
       "   </script>"
      ],
      "text/plain": [
       "<lets_plot.plot.subplots.SupPlotsSpec at 0x1493cb1f0>"
      ]
     },
     "execution_count": 4,
     "metadata": {},
     "output_type": "execute_result"
    }
   ],
   "source": [
    "df2 = {\n",
    "  'x' : [3, 2, 1, 3, 3, 1, 4]\n",
    "}\n",
    "\n",
    "gggrid([\n",
    "    ggplot(df2) + geom_bar(aes('x', fill = as_discrete('x'))),\n",
    "    ggplot(df2) + geom_bar(aes('x', fill = as_discrete('x', levels=[1,2,3,4])))\n",
    "],ncol=1)"
   ]
  },
  {
   "cell_type": "code",
   "execution_count": 5,
   "id": "inner-yacht",
   "metadata": {
    "execution": {
     "iopub.execute_input": "2024-10-02T08:44:12.554744Z",
     "iopub.status.busy": "2024-10-02T08:44:12.554670Z",
     "iopub.status.idle": "2024-10-02T08:44:12.557145Z",
     "shell.execute_reply": "2024-10-02T08:44:12.556932Z"
    }
   },
   "outputs": [
    {
     "data": {
      "text/html": [
       "   <div id=\"4MZNnN\"></div>\n",
       "   <script type=\"text/javascript\" data-lets-plot-script=\"plot\">\n",
       "       (function() {\n",
       "           var plotSpec={\n",
       "\"data\":{\n",
       "},\n",
       "\"mapping\":{\n",
       "},\n",
       "\"data_meta\":{\n",
       "\"series_annotations\":[{\n",
       "\"type\":\"int\",\n",
       "\"column\":\"x\"\n",
       "}]\n",
       "},\n",
       "\"kind\":\"plot\",\n",
       "\"scales\":[],\n",
       "\"layers\":[{\n",
       "\"geom\":\"bar\",\n",
       "\"mapping\":{\n",
       "\"x\":\"x\",\n",
       "\"fill\":\"x\"\n",
       "},\n",
       "\"data_meta\":{\n",
       "\"series_annotations\":[{\n",
       "\"factor_levels\":[4.0,3.0,2.0,1.0],\n",
       "\"order\":-1.0,\n",
       "\"column\":\"x\"\n",
       "}]\n",
       "},\n",
       "\"data\":{\n",
       "\"..count..\":[3.0,1.0,2.0,1.0],\n",
       "\"x\":[3.0,2.0,1.0,4.0]\n",
       "}\n",
       "}],\n",
       "\"metainfo_list\":[]\n",
       "};\n",
       "           var plotContainer = document.getElementById(\"4MZNnN\");\n",
       "           window.letsPlotCall(function() {{\n",
       "               LetsPlot.buildPlotFromProcessedSpecs(plotSpec, -1, -1, plotContainer);\n",
       "           }});\n",
       "       })();\n",
       "   </script>"
      ],
      "text/plain": [
       "<lets_plot.plot.core.PlotSpec at 0x149556470>"
      ]
     },
     "execution_count": 5,
     "metadata": {},
     "output_type": "execute_result"
    }
   ],
   "source": [
    "ggplot(df2) + geom_bar(aes(as_discrete('x',order=-1), fill = as_discrete('x', levels=[1,2,3,4])))"
   ]
  },
  {
   "cell_type": "code",
   "execution_count": 6,
   "id": "understood-birmingham",
   "metadata": {
    "execution": {
     "iopub.execute_input": "2024-10-02T08:44:12.558202Z",
     "iopub.status.busy": "2024-10-02T08:44:12.558132Z",
     "iopub.status.idle": "2024-10-02T08:44:12.560599Z",
     "shell.execute_reply": "2024-10-02T08:44:12.560386Z"
    }
   },
   "outputs": [
    {
     "data": {
      "text/html": [
       "   <div id=\"pZ0gMe\"></div>\n",
       "   <script type=\"text/javascript\" data-lets-plot-script=\"plot\">\n",
       "       (function() {\n",
       "           var plotSpec={\n",
       "\"data\":{\n",
       "},\n",
       "\"mapping\":{\n",
       "},\n",
       "\"data_meta\":{\n",
       "\"series_annotations\":[{\n",
       "\"type\":\"int\",\n",
       "\"column\":\"x\"\n",
       "}]\n",
       "},\n",
       "\"kind\":\"plot\",\n",
       "\"scales\":[],\n",
       "\"layers\":[{\n",
       "\"geom\":\"bar\",\n",
       "\"mapping\":{\n",
       "\"x\":\"x\",\n",
       "\"fill\":\"x\"\n",
       "},\n",
       "\"data_meta\":{\n",
       "\"series_annotations\":[{\n",
       "\"factor_levels\":[4.0,3.0,2.0,1.0],\n",
       "\"order\":-1.0,\n",
       "\"column\":\"x\"\n",
       "}]\n",
       "},\n",
       "\"data\":{\n",
       "\"..count..\":[3.0,1.0,2.0,1.0],\n",
       "\"x\":[3.0,2.0,1.0,4.0]\n",
       "}\n",
       "}],\n",
       "\"metainfo_list\":[]\n",
       "};\n",
       "           var plotContainer = document.getElementById(\"pZ0gMe\");\n",
       "           window.letsPlotCall(function() {{\n",
       "               LetsPlot.buildPlotFromProcessedSpecs(plotSpec, -1, -1, plotContainer);\n",
       "           }});\n",
       "       })();\n",
       "   </script>"
      ],
      "text/plain": [
       "<lets_plot.plot.core.PlotSpec at 0x149557370>"
      ]
     },
     "execution_count": 6,
     "metadata": {},
     "output_type": "execute_result"
    }
   ],
   "source": [
    "ggplot(df2) + geom_bar(aes(as_discrete('x',order=-1), fill = as_discrete('x', levels=[1,2])))"
   ]
  },
  {
   "cell_type": "code",
   "execution_count": 7,
   "id": "structured-anthony",
   "metadata": {
    "execution": {
     "iopub.execute_input": "2024-10-02T08:44:12.561651Z",
     "iopub.status.busy": "2024-10-02T08:44:12.561580Z",
     "iopub.status.idle": "2024-10-02T08:44:12.564339Z",
     "shell.execute_reply": "2024-10-02T08:44:12.564146Z"
    }
   },
   "outputs": [
    {
     "data": {
      "text/html": [
       "   <div id=\"2dAcpz\"></div>\n",
       "   <script type=\"text/javascript\" data-lets-plot-script=\"plot\">\n",
       "       (function() {\n",
       "           var plotSpec={\n",
       "\"data\":{\n",
       "\"cat\":[\"B\",\"C\",\"A\"],\n",
       "\"c\":[\"blue\",\"cyan\",\"gray\"]\n",
       "},\n",
       "\"mapping\":{\n",
       "},\n",
       "\"data_meta\":{\n",
       "\"series_annotations\":[{\n",
       "\"type\":\"str\",\n",
       "\"column\":\"cat\"\n",
       "},{\n",
       "\"type\":\"str\",\n",
       "\"column\":\"c\"\n",
       "}]\n",
       "},\n",
       "\"theme\":{\n",
       "\"name\":\"classic\",\n",
       "\"line\":\"blank\",\n",
       "\"axis\":\"blank\"\n",
       "},\n",
       "\"ggsize\":{\n",
       "\"width\":400.0,\n",
       "\"height\":200.0\n",
       "},\n",
       "\"facet\":{\n",
       "\"name\":\"wrap\",\n",
       "\"facets\":\"cat\",\n",
       "\"ncol\":3.0,\n",
       "\"order\":0.0,\n",
       "\"dir\":\"h\"\n",
       "},\n",
       "\"kind\":\"plot\",\n",
       "\"scales\":[{\n",
       "\"aesthetic\":\"color\",\n",
       "\"guide\":\"none\",\n",
       "\"scale_mapper_kind\":\"identity\"\n",
       "}],\n",
       "\"layers\":[{\n",
       "\"geom\":\"point\",\n",
       "\"mapping\":{\n",
       "\"color\":\"c\"\n",
       "},\n",
       "\"data_meta\":{\n",
       "},\n",
       "\"size\":15.0,\n",
       "\"data\":{\n",
       "}\n",
       "}],\n",
       "\"metainfo_list\":[]\n",
       "};\n",
       "           var plotContainer = document.getElementById(\"2dAcpz\");\n",
       "           window.letsPlotCall(function() {{\n",
       "               LetsPlot.buildPlotFromProcessedSpecs(plotSpec, -1, -1, plotContainer);\n",
       "           }});\n",
       "       })();\n",
       "   </script>"
      ],
      "text/plain": [
       "<lets_plot.plot.core.PlotSpec at 0x14958c9d0>"
      ]
     },
     "execution_count": 7,
     "metadata": {},
     "output_type": "execute_result"
    }
   ],
   "source": [
    "# https://github.com/JetBrains/lets-plot/issues/914\n",
    "\n",
    "data = dict(\n",
    "    cat = [\"B\", \"C\", \"A\"],\n",
    "    c = [\"blue\", \"cyan\", \"gray\"]\n",
    ")\n",
    "\n",
    "(ggplot(data) \n",
    "     + geom_point(aes(color=\"c\"), size=15) \n",
    "     + scale_color_identity() \n",
    "     + theme_void() + ggsize(400, 200)\n",
    "     + facet_wrap(\"cat\", ncol=3, order=0)\n",
    ")"
   ]
  },
  {
   "cell_type": "code",
   "execution_count": 8,
   "id": "convinced-mouse",
   "metadata": {
    "execution": {
     "iopub.execute_input": "2024-10-02T08:44:12.565297Z",
     "iopub.status.busy": "2024-10-02T08:44:12.565231Z",
     "iopub.status.idle": "2024-10-02T08:44:12.567754Z",
     "shell.execute_reply": "2024-10-02T08:44:12.567549Z"
    }
   },
   "outputs": [
    {
     "data": {
      "text/html": [
       "   <div id=\"ac8OWA\"></div>\n",
       "   <script type=\"text/javascript\" data-lets-plot-script=\"plot\">\n",
       "       (function() {\n",
       "           var plotSpec={\n",
       "\"data\":{\n",
       "\"cat\":[\"B\",\"C\",\"A\"]\n",
       "},\n",
       "\"mapping\":{\n",
       "},\n",
       "\"data_meta\":{\n",
       "\"series_annotations\":[{\n",
       "\"type\":\"str\",\n",
       "\"column\":\"cat\"\n",
       "},{\n",
       "\"type\":\"str\",\n",
       "\"column\":\"c\"\n",
       "}]\n",
       "},\n",
       "\"theme\":{\n",
       "\"name\":\"classic\",\n",
       "\"line\":\"blank\",\n",
       "\"axis\":\"blank\"\n",
       "},\n",
       "\"ggsize\":{\n",
       "\"width\":400.0,\n",
       "\"height\":200.0\n",
       "},\n",
       "\"facet\":{\n",
       "\"name\":\"wrap\",\n",
       "\"facets\":\"cat\",\n",
       "\"ncol\":3.0,\n",
       "\"order\":0.0,\n",
       "\"dir\":\"h\"\n",
       "},\n",
       "\"kind\":\"plot\",\n",
       "\"scales\":[],\n",
       "\"layers\":[{\n",
       "\"geom\":\"point\",\n",
       "\"mapping\":{\n",
       "\"color\":\"cat\"\n",
       "},\n",
       "\"data_meta\":{\n",
       "\"series_annotations\":[{\n",
       "\"factor_levels\":[\"C\",\"A\",\"B\"],\n",
       "\"column\":\"cat\"\n",
       "}]\n",
       "},\n",
       "\"size\":15.0,\n",
       "\"data\":{\n",
       "}\n",
       "}],\n",
       "\"metainfo_list\":[]\n",
       "};\n",
       "           var plotContainer = document.getElementById(\"ac8OWA\");\n",
       "           window.letsPlotCall(function() {{\n",
       "               LetsPlot.buildPlotFromProcessedSpecs(plotSpec, -1, -1, plotContainer);\n",
       "           }});\n",
       "       })();\n",
       "   </script>"
      ],
      "text/plain": [
       "<lets_plot.plot.core.PlotSpec at 0x14958da20>"
      ]
     },
     "execution_count": 8,
     "metadata": {},
     "output_type": "execute_result"
    }
   ],
   "source": [
    "# Facet ordering corresponds to the levels (facet_wrap)\n",
    "\n",
    "(ggplot(data) \n",
    "     + geom_point(aes(color=as_discrete(\"cat\", levels=[\"C\",\"A\",\"B\"])), size=15)\n",
    "     + theme_void() + ggsize(400, 200)\n",
    "     + facet_wrap(\"cat\", ncol=3, order=0)\n",
    ")"
   ]
  },
  {
   "cell_type": "code",
   "execution_count": 9,
   "id": "726ecdca",
   "metadata": {
    "execution": {
     "iopub.execute_input": "2024-10-02T08:44:12.568694Z",
     "iopub.status.busy": "2024-10-02T08:44:12.568629Z",
     "iopub.status.idle": "2024-10-02T08:44:12.571105Z",
     "shell.execute_reply": "2024-10-02T08:44:12.570897Z"
    }
   },
   "outputs": [
    {
     "data": {
      "text/html": [
       "   <div id=\"Hh9e7l\"></div>\n",
       "   <script type=\"text/javascript\" data-lets-plot-script=\"plot\">\n",
       "       (function() {\n",
       "           var plotSpec={\n",
       "\"data\":{\n",
       "\"cat\":[\"B\",\"C\",\"A\"]\n",
       "},\n",
       "\"mapping\":{\n",
       "},\n",
       "\"data_meta\":{\n",
       "\"series_annotations\":[{\n",
       "\"type\":\"str\",\n",
       "\"column\":\"cat\"\n",
       "},{\n",
       "\"type\":\"str\",\n",
       "\"column\":\"c\"\n",
       "}]\n",
       "},\n",
       "\"theme\":{\n",
       "\"name\":\"classic\",\n",
       "\"line\":\"blank\",\n",
       "\"axis\":\"blank\"\n",
       "},\n",
       "\"ggsize\":{\n",
       "\"width\":400.0,\n",
       "\"height\":200.0\n",
       "},\n",
       "\"facet\":{\n",
       "\"name\":\"grid\",\n",
       "\"x\":\"cat\",\n",
       "\"x_order\":0.0,\n",
       "\"y_order\":1.0\n",
       "},\n",
       "\"kind\":\"plot\",\n",
       "\"scales\":[],\n",
       "\"layers\":[{\n",
       "\"geom\":\"point\",\n",
       "\"mapping\":{\n",
       "\"color\":\"cat\"\n",
       "},\n",
       "\"data_meta\":{\n",
       "\"series_annotations\":[{\n",
       "\"factor_levels\":[\"C\",\"A\",\"B\"],\n",
       "\"column\":\"cat\"\n",
       "}]\n",
       "},\n",
       "\"size\":15.0,\n",
       "\"data\":{\n",
       "}\n",
       "}],\n",
       "\"metainfo_list\":[]\n",
       "};\n",
       "           var plotContainer = document.getElementById(\"Hh9e7l\");\n",
       "           window.letsPlotCall(function() {{\n",
       "               LetsPlot.buildPlotFromProcessedSpecs(plotSpec, -1, -1, plotContainer);\n",
       "           }});\n",
       "       })();\n",
       "   </script>"
      ],
      "text/plain": [
       "<lets_plot.plot.core.PlotSpec at 0x14958c8e0>"
      ]
     },
     "execution_count": 9,
     "metadata": {},
     "output_type": "execute_result"
    }
   ],
   "source": [
    "# Facet ordering corresponds to the levels (facet_grid)\n",
    "\n",
    "(ggplot(data) \n",
    "     + geom_point(aes(color=as_discrete(\"cat\", levels=[\"C\",\"A\",\"B\"])), size=15)\n",
    "     + theme_void() + ggsize(400, 200)\n",
    "     + facet_grid(\"cat\", x_order=0)\n",
    ")"
   ]
  },
  {
   "cell_type": "code",
   "execution_count": 10,
   "id": "f517eafb",
   "metadata": {
    "execution": {
     "iopub.execute_input": "2024-10-02T08:44:12.572133Z",
     "iopub.status.busy": "2024-10-02T08:44:12.572064Z",
     "iopub.status.idle": "2024-10-02T08:44:12.574582Z",
     "shell.execute_reply": "2024-10-02T08:44:12.574392Z"
    }
   },
   "outputs": [
    {
     "data": {
      "text/html": [
       "   <div id=\"MTR7pO\"></div>\n",
       "   <script type=\"text/javascript\" data-lets-plot-script=\"plot\">\n",
       "       (function() {\n",
       "           var plotSpec={\n",
       "\"data\":{\n",
       "\"cat\":[\"B\",\"C\",\"A\"]\n",
       "},\n",
       "\"mapping\":{\n",
       "},\n",
       "\"data_meta\":{\n",
       "\"series_annotations\":[{\n",
       "\"type\":\"str\",\n",
       "\"column\":\"cat\"\n",
       "},{\n",
       "\"type\":\"str\",\n",
       "\"column\":\"c\"\n",
       "}]\n",
       "},\n",
       "\"theme\":{\n",
       "\"name\":\"classic\",\n",
       "\"line\":\"blank\",\n",
       "\"axis\":\"blank\"\n",
       "},\n",
       "\"ggsize\":{\n",
       "\"width\":400.0,\n",
       "\"height\":200.0\n",
       "},\n",
       "\"facet\":{\n",
       "\"name\":\"wrap\",\n",
       "\"facets\":\"cat\",\n",
       "\"ncol\":3.0,\n",
       "\"order\":0.0,\n",
       "\"dir\":\"h\"\n",
       "},\n",
       "\"kind\":\"plot\",\n",
       "\"scales\":[],\n",
       "\"layers\":[{\n",
       "\"geom\":\"point\",\n",
       "\"mapping\":{\n",
       "\"color\":\"cat\"\n",
       "},\n",
       "\"data_meta\":{\n",
       "\"series_annotations\":[{\n",
       "\"factor_levels\":[\"B\",\"A\",\"C\"],\n",
       "\"order\":-1.0,\n",
       "\"column\":\"cat\"\n",
       "}]\n",
       "},\n",
       "\"size\":15.0,\n",
       "\"data\":{\n",
       "}\n",
       "}],\n",
       "\"metainfo_list\":[]\n",
       "};\n",
       "           var plotContainer = document.getElementById(\"MTR7pO\");\n",
       "           window.letsPlotCall(function() {{\n",
       "               LetsPlot.buildPlotFromProcessedSpecs(plotSpec, -1, -1, plotContainer);\n",
       "           }});\n",
       "       })();\n",
       "   </script>"
      ],
      "text/plain": [
       "<lets_plot.plot.core.PlotSpec at 0x14958e260>"
      ]
     },
     "execution_count": 10,
     "metadata": {},
     "output_type": "execute_result"
    }
   ],
   "source": [
    "# levels in reverse order\n",
    "\n",
    "(ggplot(data) \n",
    "     + geom_point(aes(color=as_discrete(\"cat\", levels=[\"C\",\"A\",\"B\"], order=-1)), size=15)\n",
    "     + theme_void() + ggsize(400, 200)\n",
    "     + facet_wrap(\"cat\", ncol=3, order=0)\n",
    ")"
   ]
  }
 ],
 "metadata": {
  "kernelspec": {
   "display_name": "Python 3 (ipykernel)",
   "language": "python",
   "name": "python3"
  },
  "language_info": {
   "codemirror_mode": {
    "name": "ipython",
    "version": 3
   },
   "file_extension": ".py",
   "mimetype": "text/x-python",
   "name": "python",
   "nbconvert_exporter": "python",
   "pygments_lexer": "ipython3",
   "version": "3.10.15"
  }
 },
 "nbformat": 4,
 "nbformat_minor": 5
}
