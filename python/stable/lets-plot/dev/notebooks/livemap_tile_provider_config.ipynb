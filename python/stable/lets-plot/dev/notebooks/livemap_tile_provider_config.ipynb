{
 "cells": [
  {
   "cell_type": "code",
   "execution_count": 1,
   "metadata": {
    "execution": {
     "iopub.execute_input": "2024-10-02T08:46:26.135708Z",
     "iopub.status.busy": "2024-10-02T08:46:26.135206Z",
     "iopub.status.idle": "2024-10-02T08:46:26.575994Z",
     "shell.execute_reply": "2024-10-02T08:46:26.575646Z"
    }
   },
   "outputs": [],
   "source": [
    "from lets_plot import *\n",
    "from lets_plot.settings_utils import *"
   ]
  },
  {
   "cell_type": "code",
   "execution_count": 2,
   "metadata": {
    "execution": {
     "iopub.execute_input": "2024-10-02T08:46:26.577475Z",
     "iopub.status.busy": "2024-10-02T08:46:26.577357Z",
     "iopub.status.idle": "2024-10-02T08:46:26.579157Z",
     "shell.execute_reply": "2024-10-02T08:46:26.578902Z"
    }
   },
   "outputs": [],
   "source": [
    "LetsPlot.setup_html(isolated_frame=True, offline=False)"
   ]
  },
  {
   "cell_type": "code",
   "execution_count": 3,
   "metadata": {
    "execution": {
     "iopub.execute_input": "2024-10-02T08:46:26.580232Z",
     "iopub.status.busy": "2024-10-02T08:46:26.580158Z",
     "iopub.status.idle": "2024-10-02T08:46:26.608500Z",
     "shell.execute_reply": "2024-10-02T08:46:26.608249Z"
    }
   },
   "outputs": [
    {
     "data": {
      "text/html": [
       "<html lang=\"en\">\n",
       "   <head>\n",
       "       <meta charset=\"UTF-8\">\n",
       "       <script type=\"text/javascript\" data-lets-plot-script=\"library\" src=\"https://cdn.jsdelivr.net/gh/JetBrains/lets-plot@v4.4.1/js-package/distr/lets-plot.min.js\"></script>\n",
       "   </head>\n",
       "   <body>\n",
       "          <div id=\"xj916t\"></div>\n",
       "   <script type=\"text/javascript\" data-lets-plot-script=\"plot\">\n",
       "       var plotSpec={\n",
       "\"mapping\":{\n",
       "},\n",
       "\"data_meta\":{\n",
       "},\n",
       "\"kind\":\"plot\",\n",
       "\"scales\":[],\n",
       "\"layers\":[{\n",
       "\"geom\":\"livemap\",\n",
       "\"mapping\":{\n",
       "},\n",
       "\"data_meta\":{\n",
       "},\n",
       "\"tiles\":{\n",
       "\"kind\":\"vector_lets_plot\",\n",
       "\"url\":\"wss://tiles.datalore.jetbrains.com\",\n",
       "\"theme\":\"color\",\n",
       "\"attribution\":\"<a href=\\\"https://lets-plot.org\\\">© Lets-Plot</a>, map data: <a href=\\\"https://www.openstreetmap.org/copyright\\\">© OpenStreetMap contributors</a>.\"\n",
       "},\n",
       "\"geocoding\":{\n",
       "\"url\":\"https://geo2.datalore.jetbrains.com/map_data/geocoding\"\n",
       "},\n",
       "\"data\":{\n",
       "}\n",
       "}],\n",
       "\"metainfo_list\":[]\n",
       "};\n",
       "       var plotContainer = document.getElementById(\"xj916t\");\n",
       "       LetsPlot.buildPlotFromProcessedSpecs(plotSpec, -1, -1, plotContainer);\n",
       "   </script>\n",
       "   </body>\n",
       "</html>"
      ],
      "text/plain": [
       "<lets_plot.plot.core.PlotSpec at 0x124183340>"
      ]
     },
     "execution_count": 3,
     "metadata": {},
     "output_type": "execute_result"
    }
   ],
   "source": [
    "# vector tiles by default without any setup\n",
    "\n",
    "ggplot() + geom_livemap()"
   ]
  },
  {
   "cell_type": "code",
   "execution_count": 4,
   "metadata": {
    "execution": {
     "iopub.execute_input": "2024-10-02T08:46:26.624708Z",
     "iopub.status.busy": "2024-10-02T08:46:26.624593Z",
     "iopub.status.idle": "2024-10-02T08:46:26.627087Z",
     "shell.execute_reply": "2024-10-02T08:46:26.626868Z"
    }
   },
   "outputs": [
    {
     "data": {
      "text/html": [
       "<html lang=\"en\">\n",
       "   <head>\n",
       "       <meta charset=\"UTF-8\">\n",
       "       <script type=\"text/javascript\" data-lets-plot-script=\"library\" src=\"https://cdn.jsdelivr.net/gh/JetBrains/lets-plot@v4.4.1/js-package/distr/lets-plot.min.js\"></script>\n",
       "   </head>\n",
       "   <body>\n",
       "          <div id=\"NdD8gF\"></div>\n",
       "   <script type=\"text/javascript\" data-lets-plot-script=\"plot\">\n",
       "       var plotSpec={\n",
       "\"mapping\":{\n",
       "},\n",
       "\"data_meta\":{\n",
       "},\n",
       "\"kind\":\"plot\",\n",
       "\"scales\":[],\n",
       "\"layers\":[{\n",
       "\"geom\":\"livemap\",\n",
       "\"mapping\":{\n",
       "},\n",
       "\"data_meta\":{\n",
       "},\n",
       "\"tiles\":{\n",
       "\"kind\":\"vector_lets_plot\",\n",
       "\"url\":\"wss://tiles.datalore.jetbrains.com\",\n",
       "\"theme\":\"dark\",\n",
       "\"attribution\":\"<a href=\\\"https://lets-plot.org\\\">© Lets-Plot</a>, map data: <a href=\\\"https://www.openstreetmap.org/copyright\\\">© OpenStreetMap contributors</a>.\"\n",
       "},\n",
       "\"geocoding\":{\n",
       "\"url\":\"https://geo2.datalore.jetbrains.com/map_data/geocoding\"\n",
       "},\n",
       "\"data\":{\n",
       "}\n",
       "}],\n",
       "\"metainfo_list\":[]\n",
       "};\n",
       "       var plotContainer = document.getElementById(\"NdD8gF\");\n",
       "       LetsPlot.buildPlotFromProcessedSpecs(plotSpec, -1, -1, plotContainer);\n",
       "   </script>\n",
       "   </body>\n",
       "</html>"
      ],
      "text/plain": [
       "<lets_plot.plot.core.PlotSpec at 0x124479d80>"
      ]
     },
     "execution_count": 4,
     "metadata": {},
     "output_type": "execute_result"
    }
   ],
   "source": [
    "# dark theme - changed without url\n",
    "\n",
    "LetsPlot.set(maptiles_lets_plot(theme='dark'))\n",
    "ggplot() + geom_livemap()"
   ]
  },
  {
   "cell_type": "code",
   "execution_count": 5,
   "metadata": {
    "execution": {
     "iopub.execute_input": "2024-10-02T08:46:26.628091Z",
     "iopub.status.busy": "2024-10-02T08:46:26.628011Z",
     "iopub.status.idle": "2024-10-02T08:46:26.630222Z",
     "shell.execute_reply": "2024-10-02T08:46:26.630025Z"
    }
   },
   "outputs": [
    {
     "data": {
      "text/html": [
       "<html lang=\"en\">\n",
       "   <head>\n",
       "       <meta charset=\"UTF-8\">\n",
       "       <script type=\"text/javascript\" data-lets-plot-script=\"library\" src=\"https://cdn.jsdelivr.net/gh/JetBrains/lets-plot@v4.4.1/js-package/distr/lets-plot.min.js\"></script>\n",
       "   </head>\n",
       "   <body>\n",
       "          <div id=\"oRm5vo\"></div>\n",
       "   <script type=\"text/javascript\" data-lets-plot-script=\"plot\">\n",
       "       var plotSpec={\n",
       "\"mapping\":{\n",
       "},\n",
       "\"data_meta\":{\n",
       "},\n",
       "\"kind\":\"plot\",\n",
       "\"scales\":[],\n",
       "\"layers\":[{\n",
       "\"geom\":\"livemap\",\n",
       "\"mapping\":{\n",
       "},\n",
       "\"data_meta\":{\n",
       "},\n",
       "\"tiles\":{\n",
       "\"kind\":\"vector_lets_plot\",\n",
       "\"url\":\"wss://tiles.datalore.jetbrains.com\",\n",
       "\"theme\":\"light\",\n",
       "\"attribution\":\"<a href=\\\"https://lets-plot.org\\\">© Lets-Plot</a>, map data: <a href=\\\"https://www.openstreetmap.org/copyright\\\">© OpenStreetMap contributors</a>.\"\n",
       "},\n",
       "\"geocoding\":{\n",
       "\"url\":\"https://geo2.datalore.jetbrains.com/map_data/geocoding\"\n",
       "},\n",
       "\"data\":{\n",
       "}\n",
       "}],\n",
       "\"metainfo_list\":[]\n",
       "};\n",
       "       var plotContainer = document.getElementById(\"oRm5vo\");\n",
       "       LetsPlot.buildPlotFromProcessedSpecs(plotSpec, -1, -1, plotContainer);\n",
       "   </script>\n",
       "   </body>\n",
       "</html>"
      ],
      "text/plain": [
       "<lets_plot.plot.core.PlotSpec at 0x12447a320>"
      ]
     },
     "execution_count": 5,
     "metadata": {},
     "output_type": "execute_result"
    }
   ],
   "source": [
    "# light theme - changed witout url\n",
    "LetsPlot.set(maptiles_lets_plot(theme='light'))\n",
    "ggplot() + geom_livemap()"
   ]
  },
  {
   "cell_type": "code",
   "execution_count": 6,
   "metadata": {
    "execution": {
     "iopub.execute_input": "2024-10-02T08:46:26.631261Z",
     "iopub.status.busy": "2024-10-02T08:46:26.631184Z",
     "iopub.status.idle": "2024-10-02T08:46:26.633279Z",
     "shell.execute_reply": "2024-10-02T08:46:26.633089Z"
    }
   },
   "outputs": [
    {
     "data": {
      "text/html": [
       "<html lang=\"en\">\n",
       "   <head>\n",
       "       <meta charset=\"UTF-8\">\n",
       "       <script type=\"text/javascript\" data-lets-plot-script=\"library\" src=\"https://cdn.jsdelivr.net/gh/JetBrains/lets-plot@v4.4.1/js-package/distr/lets-plot.min.js\"></script>\n",
       "   </head>\n",
       "   <body>\n",
       "          <div id=\"b0eM4Z\"></div>\n",
       "   <script type=\"text/javascript\" data-lets-plot-script=\"plot\">\n",
       "       var plotSpec={\n",
       "\"mapping\":{\n",
       "},\n",
       "\"data_meta\":{\n",
       "},\n",
       "\"kind\":\"plot\",\n",
       "\"scales\":[],\n",
       "\"layers\":[{\n",
       "\"geom\":\"livemap\",\n",
       "\"mapping\":{\n",
       "},\n",
       "\"data_meta\":{\n",
       "},\n",
       "\"tiles\":{\n",
       "\"kind\":\"raster_zxy\",\n",
       "\"url\":\"https://a.tile.openstreetmap.org/{z}/{x}/{y}.png\",\n",
       "\"attribution\":\"<a href=\\\"https://lets-plot.org\\\">© Lets-Plot</a>\"\n",
       "},\n",
       "\"geocoding\":{\n",
       "\"url\":\"https://geo2.datalore.jetbrains.com/map_data/geocoding\"\n",
       "},\n",
       "\"data\":{\n",
       "}\n",
       "}],\n",
       "\"metainfo_list\":[]\n",
       "};\n",
       "       var plotContainer = document.getElementById(\"b0eM4Z\");\n",
       "       LetsPlot.buildPlotFromProcessedSpecs(plotSpec, -1, -1, plotContainer);\n",
       "   </script>\n",
       "   </body>\n",
       "</html>"
      ],
      "text/plain": [
       "<lets_plot.plot.core.PlotSpec at 0x12447a350>"
      ]
     },
     "execution_count": 6,
     "metadata": {},
     "output_type": "execute_result"
    }
   ],
   "source": [
    "# raster tiles to global settings\n",
    "\n",
    "LetsPlot.set(maptiles_zxy(url='https://a.tile.openstreetmap.org/{z}/{x}/{y}.png'))\n",
    "ggplot() + geom_livemap()"
   ]
  },
  {
   "cell_type": "code",
   "execution_count": 7,
   "metadata": {
    "execution": {
     "iopub.execute_input": "2024-10-02T08:46:26.634229Z",
     "iopub.status.busy": "2024-10-02T08:46:26.634163Z",
     "iopub.status.idle": "2024-10-02T08:46:26.635612Z",
     "shell.execute_reply": "2024-10-02T08:46:26.635410Z"
    }
   },
   "outputs": [],
   "source": [
    "# This won't work - vector tiles server URL is not in settings anymore\n",
    "#LetsPlot.set(maptiles_lets_plot(theme='light'))"
   ]
  },
  {
   "cell_type": "code",
   "execution_count": 8,
   "metadata": {
    "execution": {
     "iopub.execute_input": "2024-10-02T08:46:26.636558Z",
     "iopub.status.busy": "2024-10-02T08:46:26.636486Z",
     "iopub.status.idle": "2024-10-02T08:46:26.638816Z",
     "shell.execute_reply": "2024-10-02T08:46:26.638581Z"
    }
   },
   "outputs": [
    {
     "data": {
      "text/html": [
       "<html lang=\"en\">\n",
       "   <head>\n",
       "       <meta charset=\"UTF-8\">\n",
       "       <script type=\"text/javascript\" data-lets-plot-script=\"library\" src=\"https://cdn.jsdelivr.net/gh/JetBrains/lets-plot@v4.4.1/js-package/distr/lets-plot.min.js\"></script>\n",
       "   </head>\n",
       "   <body>\n",
       "          <div id=\"pnntQU\"></div>\n",
       "   <script type=\"text/javascript\" data-lets-plot-script=\"plot\">\n",
       "       var plotSpec={\n",
       "\"mapping\":{\n",
       "},\n",
       "\"data_meta\":{\n",
       "},\n",
       "\"kind\":\"plot\",\n",
       "\"scales\":[],\n",
       "\"layers\":[{\n",
       "\"geom\":\"livemap\",\n",
       "\"mapping\":{\n",
       "},\n",
       "\"data_meta\":{\n",
       "},\n",
       "\"tiles\":{\n",
       "\"kind\":\"vector_lets_plot\",\n",
       "\"url\":\"wss://tiles.datalore.jetbrains.com\",\n",
       "\"theme\":\"light\",\n",
       "\"attribution\":\"<a href=\\\"https://lets-plot.org\\\">© Lets-Plot</a>, map data: <a href=\\\"https://www.openstreetmap.org/copyright\\\">© OpenStreetMap contributors</a>.\"\n",
       "},\n",
       "\"geocoding\":{\n",
       "\"url\":\"https://geo2.datalore.jetbrains.com/map_data/geocoding\"\n",
       "},\n",
       "\"data\":{\n",
       "}\n",
       "}],\n",
       "\"metainfo_list\":[]\n",
       "};\n",
       "       var plotContainer = document.getElementById(\"pnntQU\");\n",
       "       LetsPlot.buildPlotFromProcessedSpecs(plotSpec, -1, -1, plotContainer);\n",
       "   </script>\n",
       "   </body>\n",
       "</html>"
      ],
      "text/plain": [
       "<lets_plot.plot.core.PlotSpec at 0x12447ada0>"
      ]
     },
     "execution_count": 8,
     "metadata": {},
     "output_type": "execute_result"
    }
   ],
   "source": [
    "# pass vector tiles config directly to the livemap while raster tiles are in settings\n",
    "\n",
    "ggplot() + geom_livemap(tiles=maptiles_lets_plot(url='wss://tiles.datalore.jetbrains.com', theme='light'))"
   ]
  },
  {
   "cell_type": "code",
   "execution_count": 9,
   "metadata": {
    "execution": {
     "iopub.execute_input": "2024-10-02T08:46:26.639840Z",
     "iopub.status.busy": "2024-10-02T08:46:26.639765Z",
     "iopub.status.idle": "2024-10-02T08:46:26.642023Z",
     "shell.execute_reply": "2024-10-02T08:46:26.641804Z"
    }
   },
   "outputs": [
    {
     "data": {
      "text/html": [
       "<html lang=\"en\">\n",
       "   <head>\n",
       "       <meta charset=\"UTF-8\">\n",
       "       <script type=\"text/javascript\" data-lets-plot-script=\"library\" src=\"https://cdn.jsdelivr.net/gh/JetBrains/lets-plot@v4.4.1/js-package/distr/lets-plot.min.js\"></script>\n",
       "   </head>\n",
       "   <body>\n",
       "          <div id=\"KriURm\"></div>\n",
       "   <script type=\"text/javascript\" data-lets-plot-script=\"plot\">\n",
       "       var plotSpec={\n",
       "\"mapping\":{\n",
       "},\n",
       "\"data_meta\":{\n",
       "},\n",
       "\"kind\":\"plot\",\n",
       "\"scales\":[],\n",
       "\"layers\":[{\n",
       "\"geom\":\"livemap\",\n",
       "\"mapping\":{\n",
       "},\n",
       "\"data_meta\":{\n",
       "},\n",
       "\"tiles\":{\n",
       "\"kind\":\"vector_lets_plot\",\n",
       "\"url\":\"wss://tiles.datalore.jetbrains.com\",\n",
       "\"theme\":\"dark\",\n",
       "\"attribution\":\"<a href=\\\"https://lets-plot.org\\\">© Lets-Plot</a>, map data: <a href=\\\"https://www.openstreetmap.org/copyright\\\">© OpenStreetMap contributors</a>.\"\n",
       "},\n",
       "\"geocoding\":{\n",
       "\"url\":\"https://geo2.datalore.jetbrains.com/map_data/geocoding\"\n",
       "},\n",
       "\"data\":{\n",
       "}\n",
       "}],\n",
       "\"metainfo_list\":[]\n",
       "};\n",
       "       var plotContainer = document.getElementById(\"KriURm\");\n",
       "       LetsPlot.buildPlotFromProcessedSpecs(plotSpec, -1, -1, plotContainer);\n",
       "   </script>\n",
       "   </body>\n",
       "</html>"
      ],
      "text/plain": [
       "<lets_plot.plot.core.PlotSpec at 0x12447b280>"
      ]
     },
     "execution_count": 9,
     "metadata": {},
     "output_type": "execute_result"
    }
   ],
   "source": [
    "# Set vector tiles config with theme globally\n",
    "\n",
    "LetsPlot.set(maptiles_lets_plot(url='wss://tiles.datalore.jetbrains.com', theme='dark'))\n",
    "ggplot() + geom_livemap()"
   ]
  },
  {
   "cell_type": "code",
   "execution_count": 10,
   "metadata": {
    "execution": {
     "iopub.execute_input": "2024-10-02T08:46:26.642967Z",
     "iopub.status.busy": "2024-10-02T08:46:26.642898Z",
     "iopub.status.idle": "2024-10-02T08:46:26.645079Z",
     "shell.execute_reply": "2024-10-02T08:46:26.644877Z"
    }
   },
   "outputs": [
    {
     "data": {
      "text/html": [
       "<html lang=\"en\">\n",
       "   <head>\n",
       "       <meta charset=\"UTF-8\">\n",
       "       <script type=\"text/javascript\" data-lets-plot-script=\"library\" src=\"https://cdn.jsdelivr.net/gh/JetBrains/lets-plot@v4.4.1/js-package/distr/lets-plot.min.js\"></script>\n",
       "   </head>\n",
       "   <body>\n",
       "          <div id=\"eRCCUh\"></div>\n",
       "   <script type=\"text/javascript\" data-lets-plot-script=\"plot\">\n",
       "       var plotSpec={\n",
       "\"mapping\":{\n",
       "},\n",
       "\"data_meta\":{\n",
       "},\n",
       "\"kind\":\"plot\",\n",
       "\"scales\":[],\n",
       "\"layers\":[{\n",
       "\"geom\":\"livemap\",\n",
       "\"mapping\":{\n",
       "},\n",
       "\"data_meta\":{\n",
       "},\n",
       "\"tiles\":{\n",
       "\"kind\":\"raster_zxy\",\n",
       "\"url\":\"https://a.tile.openstreetmap.org/{z}/{x}/{y}.png\"\n",
       "},\n",
       "\"geocoding\":{\n",
       "\"url\":\"https://geo2.datalore.jetbrains.com/map_data/geocoding\"\n",
       "},\n",
       "\"data\":{\n",
       "}\n",
       "}],\n",
       "\"metainfo_list\":[]\n",
       "};\n",
       "       var plotContainer = document.getElementById(\"eRCCUh\");\n",
       "       LetsPlot.buildPlotFromProcessedSpecs(plotSpec, -1, -1, plotContainer);\n",
       "   </script>\n",
       "   </body>\n",
       "</html>"
      ],
      "text/plain": [
       "<lets_plot.plot.core.PlotSpec at 0x12447b7f0>"
      ]
     },
     "execution_count": 10,
     "metadata": {},
     "output_type": "execute_result"
    }
   ],
   "source": [
    "# raster tiles config directly to the livemap while vector tiles are in global settings\n",
    "\n",
    "ggplot() + geom_livemap(tiles='https://a.tile.openstreetmap.org/{z}/{x}/{y}.png')"
   ]
  }
 ],
 "metadata": {
  "kernelspec": {
   "display_name": "Python 3 (ipykernel)",
   "language": "python",
   "name": "python3"
  },
  "language_info": {
   "codemirror_mode": {
    "name": "ipython",
    "version": 3
   },
   "file_extension": ".py",
   "mimetype": "text/x-python",
   "name": "python",
   "nbconvert_exporter": "python",
   "pygments_lexer": "ipython3",
   "version": "3.10.15"
  }
 },
 "nbformat": 4,
 "nbformat_minor": 4
}
