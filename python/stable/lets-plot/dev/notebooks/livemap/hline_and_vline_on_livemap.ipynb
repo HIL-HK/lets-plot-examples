{
 "cells": [
  {
   "cell_type": "code",
   "execution_count": 1,
   "metadata": {
    "execution": {
     "iopub.execute_input": "2024-09-27T17:57:19.025018Z",
     "iopub.status.busy": "2024-09-27T17:57:19.024728Z",
     "iopub.status.idle": "2024-09-27T17:57:19.449706Z",
     "shell.execute_reply": "2024-09-27T17:57:19.449380Z"
    }
   },
   "outputs": [],
   "source": [
    "from lets_plot import *"
   ]
  },
  {
   "cell_type": "code",
   "execution_count": 2,
   "metadata": {
    "execution": {
     "iopub.execute_input": "2024-09-27T17:57:19.451071Z",
     "iopub.status.busy": "2024-09-27T17:57:19.450965Z",
     "iopub.status.idle": "2024-09-27T17:57:19.453224Z",
     "shell.execute_reply": "2024-09-27T17:57:19.453008Z"
    }
   },
   "outputs": [
    {
     "data": {
      "text/html": [
       "\n",
       "            <div id=\"zWqpux\"></div>\n",
       "            <script type=\"text/javascript\" data-lets-plot-script=\"library\">\n",
       "                if(!window.letsPlotCallQueue) {\n",
       "                    window.letsPlotCallQueue = [];\n",
       "                }; \n",
       "                window.letsPlotCall = function(f) {\n",
       "                    window.letsPlotCallQueue.push(f);\n",
       "                };\n",
       "                (function() {\n",
       "                    var script = document.createElement(\"script\");\n",
       "                    script.type = \"text/javascript\";\n",
       "                    script.src = \"https://cdn.jsdelivr.net/gh/JetBrains/lets-plot@v4.4.1/js-package/distr/lets-plot.min.js\";\n",
       "                    script.onload = function() {\n",
       "                        window.letsPlotCall = function(f) {f();};\n",
       "                        window.letsPlotCallQueue.forEach(function(f) {f();});\n",
       "                        window.letsPlotCallQueue = [];\n",
       "                        \n",
       "                    };\n",
       "                    script.onerror = function(event) {\n",
       "                        window.letsPlotCall = function(f) {};    // noop\n",
       "                        window.letsPlotCallQueue = [];\n",
       "                        var div = document.createElement(\"div\");\n",
       "                        div.style.color = 'darkred';\n",
       "                        div.textContent = 'Error loading Lets-Plot JS';\n",
       "                        document.getElementById(\"zWqpux\").appendChild(div);\n",
       "                    };\n",
       "                    var e = document.getElementById(\"zWqpux\");\n",
       "                    e.appendChild(script);\n",
       "                })()\n",
       "            </script>\n",
       "            "
      ]
     },
     "metadata": {},
     "output_type": "display_data"
    }
   ],
   "source": [
    "LetsPlot.setup_html()"
   ]
  },
  {
   "cell_type": "code",
   "execution_count": 3,
   "metadata": {
    "execution": {
     "iopub.execute_input": "2024-09-27T17:57:19.468963Z",
     "iopub.status.busy": "2024-09-27T17:57:19.468843Z",
     "iopub.status.idle": "2024-09-27T17:57:19.498286Z",
     "shell.execute_reply": "2024-09-27T17:57:19.498045Z"
    }
   },
   "outputs": [
    {
     "data": {
      "text/html": [
       "   <div id=\"1PhfpU\"></div>\n",
       "   <script type=\"text/javascript\" data-lets-plot-script=\"plot\">\n",
       "       (function() {\n",
       "           var plotSpec={\n",
       "\"mapping\":{\n",
       "},\n",
       "\"data_meta\":{\n",
       "},\n",
       "\"kind\":\"plot\",\n",
       "\"scales\":[],\n",
       "\"layers\":[{\n",
       "\"geom\":\"livemap\",\n",
       "\"mapping\":{\n",
       "},\n",
       "\"data_meta\":{\n",
       "},\n",
       "\"tiles\":{\n",
       "\"kind\":\"vector_lets_plot\",\n",
       "\"url\":\"wss://tiles.datalore.jetbrains.com\",\n",
       "\"theme\":\"color\",\n",
       "\"attribution\":\"<a href=\\\"https://lets-plot.org\\\">© Lets-Plot</a>, map data: <a href=\\\"https://www.openstreetmap.org/copyright\\\">© OpenStreetMap contributors</a>.\"\n",
       "},\n",
       "\"geocoding\":{\n",
       "\"url\":\"https://geo2.datalore.jetbrains.com/map_data/geocoding\"\n",
       "},\n",
       "\"data\":{\n",
       "}\n",
       "},{\n",
       "\"geom\":\"hline\",\n",
       "\"mapping\":{\n",
       "\"yintercept\":\"yintercept\"\n",
       "},\n",
       "\"data_meta\":{\n",
       "},\n",
       "\"color\":\"red\",\n",
       "\"linetype\":2.0,\n",
       "\"size\":0.5,\n",
       "\"alpha\":0.9,\n",
       "\"data\":{\n",
       "\"yintercept\":[55.0,45.0,35.0,25.0]\n",
       "}\n",
       "},{\n",
       "\"geom\":\"vline\",\n",
       "\"mapping\":{\n",
       "\"xintercept\":\"xintercept\"\n",
       "},\n",
       "\"data_meta\":{\n",
       "},\n",
       "\"color\":\"dark_green\",\n",
       "\"linetype\":4.0,\n",
       "\"size\":0.7,\n",
       "\"alpha\":0.8,\n",
       "\"data\":{\n",
       "\"xintercept\":[-110.0,-100.0,-90.0,-80.0]\n",
       "}\n",
       "}],\n",
       "\"metainfo_list\":[]\n",
       "};\n",
       "           var plotContainer = document.getElementById(\"1PhfpU\");\n",
       "           window.letsPlotCall(function() {{\n",
       "               LetsPlot.buildPlotFromProcessedSpecs(plotSpec, -1, -1, plotContainer);\n",
       "           }});\n",
       "       })();\n",
       "   </script>"
      ],
      "text/plain": [
       "<lets_plot.plot.core.PlotSpec at 0x12e9830a0>"
      ]
     },
     "execution_count": 3,
     "metadata": {},
     "output_type": "execute_result"
    }
   ],
   "source": [
    "lats = [55, 45, 35, 25]\n",
    "longs = [-110, -100, -90, -80]\n",
    "\n",
    "p = ggplot() + geom_livemap() \n",
    "p += geom_hline(aes(yintercept=lats), color='red', linetype=2, size=0.5, alpha=0.9)\n",
    "p += geom_vline(aes(xintercept=longs), color='dark_green', linetype=4, size=0.7, alpha=0.8)\n",
    "p"
   ]
  }
 ],
 "metadata": {
  "kernelspec": {
   "display_name": "Python 3 (ipykernel)",
   "language": "python",
   "name": "python3"
  },
  "language_info": {
   "codemirror_mode": {
    "name": "ipython",
    "version": 3
   },
   "file_extension": ".py",
   "mimetype": "text/x-python",
   "name": "python",
   "nbconvert_exporter": "python",
   "pygments_lexer": "ipython3",
   "version": "3.10.15"
  }
 },
 "nbformat": 4,
 "nbformat_minor": 1
}
