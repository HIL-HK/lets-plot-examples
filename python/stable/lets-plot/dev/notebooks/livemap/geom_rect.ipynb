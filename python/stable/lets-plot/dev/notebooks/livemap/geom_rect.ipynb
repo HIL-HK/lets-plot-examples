{
 "cells": [
  {
   "cell_type": "code",
   "execution_count": 1,
   "metadata": {
    "execution": {
     "iopub.execute_input": "2024-09-27T17:57:10.216227Z",
     "iopub.status.busy": "2024-09-27T17:57:10.215979Z",
     "iopub.status.idle": "2024-09-27T17:57:10.631618Z",
     "shell.execute_reply": "2024-09-27T17:57:10.631272Z"
    }
   },
   "outputs": [],
   "source": [
    "from lets_plot import *"
   ]
  },
  {
   "cell_type": "code",
   "execution_count": 2,
   "metadata": {
    "execution": {
     "iopub.execute_input": "2024-09-27T17:57:10.633024Z",
     "iopub.status.busy": "2024-09-27T17:57:10.632919Z",
     "iopub.status.idle": "2024-09-27T17:57:10.635118Z",
     "shell.execute_reply": "2024-09-27T17:57:10.634911Z"
    }
   },
   "outputs": [
    {
     "data": {
      "text/html": [
       "\n",
       "            <div id=\"pBXWxi\"></div>\n",
       "            <script type=\"text/javascript\" data-lets-plot-script=\"library\">\n",
       "                if(!window.letsPlotCallQueue) {\n",
       "                    window.letsPlotCallQueue = [];\n",
       "                }; \n",
       "                window.letsPlotCall = function(f) {\n",
       "                    window.letsPlotCallQueue.push(f);\n",
       "                };\n",
       "                (function() {\n",
       "                    var script = document.createElement(\"script\");\n",
       "                    script.type = \"text/javascript\";\n",
       "                    script.src = \"https://cdn.jsdelivr.net/gh/JetBrains/lets-plot@v4.4.1/js-package/distr/lets-plot.min.js\";\n",
       "                    script.onload = function() {\n",
       "                        window.letsPlotCall = function(f) {f();};\n",
       "                        window.letsPlotCallQueue.forEach(function(f) {f();});\n",
       "                        window.letsPlotCallQueue = [];\n",
       "                        \n",
       "                    };\n",
       "                    script.onerror = function(event) {\n",
       "                        window.letsPlotCall = function(f) {};    // noop\n",
       "                        window.letsPlotCallQueue = [];\n",
       "                        var div = document.createElement(\"div\");\n",
       "                        div.style.color = 'darkred';\n",
       "                        div.textContent = 'Error loading Lets-Plot JS';\n",
       "                        document.getElementById(\"pBXWxi\").appendChild(div);\n",
       "                    };\n",
       "                    var e = document.getElementById(\"pBXWxi\");\n",
       "                    e.appendChild(script);\n",
       "                })()\n",
       "            </script>\n",
       "            "
      ]
     },
     "metadata": {},
     "output_type": "display_data"
    }
   ],
   "source": [
    "LetsPlot.setup_html()"
   ]
  },
  {
   "cell_type": "code",
   "execution_count": 3,
   "metadata": {
    "execution": {
     "iopub.execute_input": "2024-09-27T17:57:10.650818Z",
     "iopub.status.busy": "2024-09-27T17:57:10.650722Z",
     "iopub.status.idle": "2024-09-27T17:57:10.652408Z",
     "shell.execute_reply": "2024-09-27T17:57:10.652191Z"
    }
   },
   "outputs": [],
   "source": [
    "data = dict(y_start=[48.979166], x_start=[-104.032789], y_end=[35.309947], x_end=[-80.237456])"
   ]
  },
  {
   "cell_type": "code",
   "execution_count": 4,
   "metadata": {
    "execution": {
     "iopub.execute_input": "2024-09-27T17:57:10.653433Z",
     "iopub.status.busy": "2024-09-27T17:57:10.653356Z",
     "iopub.status.idle": "2024-09-27T17:57:10.682367Z",
     "shell.execute_reply": "2024-09-27T17:57:10.682145Z"
    }
   },
   "outputs": [
    {
     "data": {
      "text/html": [
       "   <div id=\"r7GxUZ\"></div>\n",
       "   <script type=\"text/javascript\" data-lets-plot-script=\"plot\">\n",
       "       (function() {\n",
       "           var plotSpec={\n",
       "\"mapping\":{\n",
       "},\n",
       "\"data_meta\":{\n",
       "},\n",
       "\"kind\":\"plot\",\n",
       "\"scales\":[],\n",
       "\"layers\":[{\n",
       "\"geom\":\"livemap\",\n",
       "\"mapping\":{\n",
       "},\n",
       "\"data_meta\":{\n",
       "},\n",
       "\"tiles\":{\n",
       "\"kind\":\"vector_lets_plot\",\n",
       "\"url\":\"wss://tiles.datalore.jetbrains.com\",\n",
       "\"theme\":\"color\",\n",
       "\"attribution\":\"<a href=\\\"https://lets-plot.org\\\">© Lets-Plot</a>, map data: <a href=\\\"https://www.openstreetmap.org/copyright\\\">© OpenStreetMap contributors</a>.\"\n",
       "},\n",
       "\"geocoding\":{\n",
       "\"url\":\"https://geo2.datalore.jetbrains.com/map_data/geocoding\"\n",
       "},\n",
       "\"data\":{\n",
       "}\n",
       "},{\n",
       "\"geom\":\"rect\",\n",
       "\"data\":{\n",
       "\"y_start\":[48.979166],\n",
       "\"x_start\":[-104.032789],\n",
       "\"y_end\":[35.309947],\n",
       "\"x_end\":[-80.237456]\n",
       "},\n",
       "\"mapping\":{\n",
       "\"xmin\":\"x_start\",\n",
       "\"ymin\":\"y_start\",\n",
       "\"xmax\":\"x_end\",\n",
       "\"ymax\":\"y_end\"\n",
       "},\n",
       "\"data_meta\":{\n",
       "\"series_annotations\":[{\n",
       "\"type\":\"float\",\n",
       "\"column\":\"y_start\"\n",
       "},{\n",
       "\"type\":\"float\",\n",
       "\"column\":\"x_start\"\n",
       "},{\n",
       "\"type\":\"float\",\n",
       "\"column\":\"y_end\"\n",
       "},{\n",
       "\"type\":\"float\",\n",
       "\"column\":\"x_end\"\n",
       "}]\n",
       "},\n",
       "\"alpha\":0.6,\n",
       "\"color\":\"#900090\",\n",
       "\"fill\":\"pink\",\n",
       "\"size\":3.0\n",
       "}],\n",
       "\"metainfo_list\":[]\n",
       "};\n",
       "           var plotContainer = document.getElementById(\"r7GxUZ\");\n",
       "           window.letsPlotCall(function() {{\n",
       "               LetsPlot.buildPlotFromProcessedSpecs(plotSpec, -1, -1, plotContainer);\n",
       "           }});\n",
       "       })();\n",
       "   </script>"
      ],
      "text/plain": [
       "<lets_plot.plot.core.PlotSpec at 0x140a7f670>"
      ]
     },
     "execution_count": 4,
     "metadata": {},
     "output_type": "execute_result"
    }
   ],
   "source": [
    "ggplot() + geom_livemap() + geom_rect(data=data, mapping=aes(xmin='x_start', ymin='y_start', xmax='x_end', ymax='y_end'), \\\n",
    "                    alpha = 0.6, color='#900090', fill='pink', size=3)"
   ]
  }
 ],
 "metadata": {
  "kernelspec": {
   "display_name": "Python 3 (ipykernel)",
   "language": "python",
   "name": "python3"
  },
  "language_info": {
   "codemirror_mode": {
    "name": "ipython",
    "version": 3
   },
   "file_extension": ".py",
   "mimetype": "text/x-python",
   "name": "python",
   "nbconvert_exporter": "python",
   "pygments_lexer": "ipython3",
   "version": "3.10.15"
  }
 },
 "nbformat": 4,
 "nbformat_minor": 1
}
