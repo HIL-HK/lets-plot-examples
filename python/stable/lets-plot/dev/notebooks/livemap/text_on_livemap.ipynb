{
 "cells": [
  {
   "cell_type": "code",
   "execution_count": 1,
   "metadata": {
    "execution": {
     "iopub.execute_input": "2024-10-25T18:17:28.517851Z",
     "iopub.status.busy": "2024-10-25T18:17:28.517508Z",
     "iopub.status.idle": "2024-10-25T18:17:28.968792Z",
     "shell.execute_reply": "2024-10-25T18:17:28.968490Z"
    }
   },
   "outputs": [],
   "source": [
    "from lets_plot import *"
   ]
  },
  {
   "cell_type": "code",
   "execution_count": 2,
   "metadata": {
    "execution": {
     "iopub.execute_input": "2024-10-25T18:17:28.970199Z",
     "iopub.status.busy": "2024-10-25T18:17:28.970087Z",
     "iopub.status.idle": "2024-10-25T18:17:28.972475Z",
     "shell.execute_reply": "2024-10-25T18:17:28.972259Z"
    }
   },
   "outputs": [
    {
     "data": {
      "text/html": [
       "\n",
       "            <div id=\"4WFQmp\"></div>\n",
       "            <script type=\"text/javascript\" data-lets-plot-script=\"library\">\n",
       "                if(!window.letsPlotCallQueue) {\n",
       "                    window.letsPlotCallQueue = [];\n",
       "                }; \n",
       "                window.letsPlotCall = function(f) {\n",
       "                    window.letsPlotCallQueue.push(f);\n",
       "                };\n",
       "                (function() {\n",
       "                    var script = document.createElement(\"script\");\n",
       "                    script.type = \"text/javascript\";\n",
       "                    script.src = \"https://cdn.jsdelivr.net/gh/JetBrains/lets-plot@v4.5.1/js-package/distr/lets-plot.min.js\";\n",
       "                    script.onload = function() {\n",
       "                        window.letsPlotCall = function(f) {f();};\n",
       "                        window.letsPlotCallQueue.forEach(function(f) {f();});\n",
       "                        window.letsPlotCallQueue = [];\n",
       "                        \n",
       "                    };\n",
       "                    script.onerror = function(event) {\n",
       "                        window.letsPlotCall = function(f) {};    // noop\n",
       "                        window.letsPlotCallQueue = [];\n",
       "                        var div = document.createElement(\"div\");\n",
       "                        div.style.color = 'darkred';\n",
       "                        div.textContent = 'Error loading Lets-Plot JS';\n",
       "                        document.getElementById(\"4WFQmp\").appendChild(div);\n",
       "                    };\n",
       "                    var e = document.getElementById(\"4WFQmp\");\n",
       "                    e.appendChild(script);\n",
       "                })()\n",
       "            </script>\n",
       "            "
      ]
     },
     "metadata": {},
     "output_type": "display_data"
    }
   ],
   "source": [
    "LetsPlot.setup_html()"
   ]
  },
  {
   "cell_type": "code",
   "execution_count": 3,
   "metadata": {
    "execution": {
     "iopub.execute_input": "2024-10-25T18:17:28.990883Z",
     "iopub.status.busy": "2024-10-25T18:17:28.990771Z",
     "iopub.status.idle": "2024-10-25T18:17:28.992743Z",
     "shell.execute_reply": "2024-10-25T18:17:28.992537Z"
    }
   },
   "outputs": [],
   "source": [
    "arrows = {\n",
    "    'lon': [0, 0, 0, 0, 0, 0], \n",
    "    'lat': [0, 0, 0, 0, 0, 0],\n",
    "    'arrow': [\"--    0 -->\", \"--   60 -->\", \"--  120 -->\", \"--  180 -->\", \"-- -60 -->\", \"-- -120 -->\"],\n",
    "    'angle': [0, 60, 120, 180, -60, -120],\n",
    "    }"
   ]
  },
  {
   "cell_type": "code",
   "execution_count": 4,
   "metadata": {
    "execution": {
     "iopub.execute_input": "2024-10-25T18:17:28.993792Z",
     "iopub.status.busy": "2024-10-25T18:17:28.993719Z",
     "iopub.status.idle": "2024-10-25T18:17:29.026115Z",
     "shell.execute_reply": "2024-10-25T18:17:29.025901Z"
    }
   },
   "outputs": [
    {
     "data": {
      "text/html": [
       "   <div id=\"81ysYO\"></div>\n",
       "   <script type=\"text/javascript\" data-lets-plot-script=\"plot\">\n",
       "   \n",
       "   (function() {\n",
       "   // ----------\n",
       "   \n",
       "   var containerDiv = document.getElementById(\"81ysYO\");\n",
       "   var observer = new ResizeObserver(function(entries) {\n",
       "       for (let entry of entries) {\n",
       "           var width = containerDiv.clientWidth\n",
       "           if (entry.contentBoxSize && width > 0) {\n",
       "           \n",
       "               // Render plot\n",
       "               if (observer) {\n",
       "                   observer.disconnect();\n",
       "                   observer = null;\n",
       "               }\n",
       "\n",
       "               var plotSpec={\n",
       "\"data\":{\n",
       "\"lon\":[0.0,0.0,0.0,0.0,0.0,0.0],\n",
       "\"lat\":[0.0,0.0,0.0,0.0,0.0,0.0],\n",
       "\"arrow\":[\"--    0 -->\",\"--   60 -->\",\"--  120 -->\",\"--  180 -->\",\"-- -60 -->\",\"-- -120 -->\"],\n",
       "\"angle\":[0.0,60.0,120.0,180.0,-60.0,-120.0]\n",
       "},\n",
       "\"mapping\":{\n",
       "},\n",
       "\"data_meta\":{\n",
       "\"series_annotations\":[{\n",
       "\"type\":\"int\",\n",
       "\"column\":\"lon\"\n",
       "},{\n",
       "\"type\":\"int\",\n",
       "\"column\":\"lat\"\n",
       "},{\n",
       "\"type\":\"str\",\n",
       "\"column\":\"arrow\"\n",
       "},{\n",
       "\"type\":\"int\",\n",
       "\"column\":\"angle\"\n",
       "}]\n",
       "},\n",
       "\"kind\":\"plot\",\n",
       "\"scales\":[],\n",
       "\"layers\":[{\n",
       "\"geom\":\"livemap\",\n",
       "\"mapping\":{\n",
       "},\n",
       "\"data_meta\":{\n",
       "},\n",
       "\"tiles\":{\n",
       "\"kind\":\"vector_lets_plot\",\n",
       "\"url\":\"wss://tiles.datalore.jetbrains.com\",\n",
       "\"theme\":\"color\",\n",
       "\"attribution\":\"<a href=\\\"https://lets-plot.org\\\">© Lets-Plot</a>, map data: <a href=\\\"https://www.openstreetmap.org/copyright\\\">© OpenStreetMap contributors</a>.\"\n",
       "},\n",
       "\"geocoding\":{\n",
       "\"url\":\"https://geo2.datalore.jetbrains.com/map_data/geocoding\"\n",
       "},\n",
       "\"data\":{\n",
       "}\n",
       "},{\n",
       "\"geom\":\"text\",\n",
       "\"mapping\":{\n",
       "\"x\":\"lon\",\n",
       "\"y\":\"lat\",\n",
       "\"label\":\"arrow\",\n",
       "\"angle\":\"angle\"\n",
       "},\n",
       "\"data_meta\":{\n",
       "},\n",
       "\"size\":10.0,\n",
       "\"hjust\":\"left\",\n",
       "\"vjust\":\"center\",\n",
       "\"family\":\"monospace\",\n",
       "\"data\":{\n",
       "}\n",
       "}],\n",
       "\"metainfo_list\":[],\n",
       "\"spec_id\":\"1\"\n",
       "};\n",
       "               window.letsPlotCall(function() {\n",
       "       \n",
       "               var toolbar = null;\n",
       "               var plotContainer = containerDiv;               \n",
       "               \n",
       "                   var options = {\n",
       "                       sizing: {\n",
       "                           width_mode: \"min\",\n",
       "                           height_mode: \"scaled\",\n",
       "                           width: width\n",
       "                       }\n",
       "                   };\n",
       "                   var fig = LetsPlot.buildPlotFromProcessedSpecs(plotSpec, -1, -1, plotContainer, options);\n",
       "                   if (toolbar) {\n",
       "                     toolbar.bind(fig);\n",
       "                   }\n",
       "               });\n",
       "               \n",
       "               break;\n",
       "           }\n",
       "       }\n",
       "   });\n",
       "   \n",
       "   observer.observe(containerDiv);\n",
       "   \n",
       "   // ----------\n",
       "   })();\n",
       "   \n",
       "   </script>"
      ],
      "text/plain": [
       "<lets_plot.plot.core.PlotSpec at 0x144089db0>"
      ]
     },
     "execution_count": 4,
     "metadata": {},
     "output_type": "execute_result"
    }
   ],
   "source": [
    "ggplot(arrows) \\\n",
    "    + geom_livemap() \\\n",
    "    + geom_text(aes(label = 'arrow', x = 'lon', y = 'lat', angle='angle'), \\\n",
    "                size = 10, \\\n",
    "                hjust = \"left\", \\\n",
    "                vjust = \"center\", \\\n",
    "                family='monospace'\\\n",
    "               )\n"
   ]
  }
 ],
 "metadata": {
  "kernelspec": {
   "display_name": "Python 3 (ipykernel)",
   "language": "python",
   "name": "python3"
  },
  "language_info": {
   "codemirror_mode": {
    "name": "ipython",
    "version": 3
   },
   "file_extension": ".py",
   "mimetype": "text/x-python",
   "name": "python",
   "nbconvert_exporter": "python",
   "pygments_lexer": "ipython3",
   "version": "3.10.15"
  }
 },
 "nbformat": 4,
 "nbformat_minor": 4
}
