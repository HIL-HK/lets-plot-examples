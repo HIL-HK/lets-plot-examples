{
 "cells": [
  {
   "cell_type": "code",
   "execution_count": 1,
   "metadata": {
    "execution": {
     "iopub.execute_input": "2024-10-25T18:17:11.065136Z",
     "iopub.status.busy": "2024-10-25T18:17:11.064575Z",
     "iopub.status.idle": "2024-10-25T18:17:11.487637Z",
     "shell.execute_reply": "2024-10-25T18:17:11.487315Z"
    }
   },
   "outputs": [],
   "source": [
    "from lets_plot import *"
   ]
  },
  {
   "cell_type": "code",
   "execution_count": 2,
   "metadata": {
    "execution": {
     "iopub.execute_input": "2024-10-25T18:17:11.489013Z",
     "iopub.status.busy": "2024-10-25T18:17:11.488885Z",
     "iopub.status.idle": "2024-10-25T18:17:11.491229Z",
     "shell.execute_reply": "2024-10-25T18:17:11.491015Z"
    }
   },
   "outputs": [
    {
     "data": {
      "text/html": [
       "\n",
       "            <div id=\"8GFif0\"></div>\n",
       "            <script type=\"text/javascript\" data-lets-plot-script=\"library\">\n",
       "                if(!window.letsPlotCallQueue) {\n",
       "                    window.letsPlotCallQueue = [];\n",
       "                }; \n",
       "                window.letsPlotCall = function(f) {\n",
       "                    window.letsPlotCallQueue.push(f);\n",
       "                };\n",
       "                (function() {\n",
       "                    var script = document.createElement(\"script\");\n",
       "                    script.type = \"text/javascript\";\n",
       "                    script.src = \"https://cdn.jsdelivr.net/gh/JetBrains/lets-plot@v4.5.1/js-package/distr/lets-plot.min.js\";\n",
       "                    script.onload = function() {\n",
       "                        window.letsPlotCall = function(f) {f();};\n",
       "                        window.letsPlotCallQueue.forEach(function(f) {f();});\n",
       "                        window.letsPlotCallQueue = [];\n",
       "                        \n",
       "                    };\n",
       "                    script.onerror = function(event) {\n",
       "                        window.letsPlotCall = function(f) {};    // noop\n",
       "                        window.letsPlotCallQueue = [];\n",
       "                        var div = document.createElement(\"div\");\n",
       "                        div.style.color = 'darkred';\n",
       "                        div.textContent = 'Error loading Lets-Plot JS';\n",
       "                        document.getElementById(\"8GFif0\").appendChild(div);\n",
       "                    };\n",
       "                    var e = document.getElementById(\"8GFif0\");\n",
       "                    e.appendChild(script);\n",
       "                })()\n",
       "            </script>\n",
       "            "
      ]
     },
     "metadata": {},
     "output_type": "display_data"
    }
   ],
   "source": [
    "LetsPlot.setup_html()"
   ]
  },
  {
   "cell_type": "code",
   "execution_count": 3,
   "metadata": {
    "execution": {
     "iopub.execute_input": "2024-10-25T18:17:11.506678Z",
     "iopub.status.busy": "2024-10-25T18:17:11.506573Z",
     "iopub.status.idle": "2024-10-25T18:17:11.508411Z",
     "shell.execute_reply": "2024-10-25T18:17:11.508211Z"
    }
   },
   "outputs": [],
   "source": [
    "lat = [48.979166, 48.936053, 29.875645, 35.309947]\n",
    "lon = [-102.492420, -80.237456, -114.032789, -123.242456]\n",
    "values = [700, 800, 1500, 200, 500]"
   ]
  },
  {
   "cell_type": "code",
   "execution_count": 4,
   "metadata": {
    "execution": {
     "iopub.execute_input": "2024-10-25T18:17:11.509396Z",
     "iopub.status.busy": "2024-10-25T18:17:11.509327Z",
     "iopub.status.idle": "2024-10-25T18:17:11.511127Z",
     "shell.execute_reply": "2024-10-25T18:17:11.510901Z"
    }
   },
   "outputs": [],
   "source": [
    "data = dict(y_start=lat[0:2], x_start=lon[0:2], y_end=lat[2:4], x_end=lon[2:4])"
   ]
  },
  {
   "cell_type": "code",
   "execution_count": 5,
   "metadata": {
    "execution": {
     "iopub.execute_input": "2024-10-25T18:17:11.512084Z",
     "iopub.status.busy": "2024-10-25T18:17:11.512016Z",
     "iopub.status.idle": "2024-10-25T18:17:11.540312Z",
     "shell.execute_reply": "2024-10-25T18:17:11.540091Z"
    }
   },
   "outputs": [
    {
     "data": {
      "text/html": [
       "   <div id=\"UDmMff\"></div>\n",
       "   <script type=\"text/javascript\" data-lets-plot-script=\"plot\">\n",
       "   \n",
       "   (function() {\n",
       "   // ----------\n",
       "   \n",
       "   var containerDiv = document.getElementById(\"UDmMff\");\n",
       "   var observer = new ResizeObserver(function(entries) {\n",
       "       for (let entry of entries) {\n",
       "           var width = containerDiv.clientWidth\n",
       "           if (entry.contentBoxSize && width > 0) {\n",
       "           \n",
       "               // Render plot\n",
       "               if (observer) {\n",
       "                   observer.disconnect();\n",
       "                   observer = null;\n",
       "               }\n",
       "\n",
       "               var plotSpec={\n",
       "\"data\":{\n",
       "\"y_start\":[48.979166,48.936053],\n",
       "\"x_start\":[-102.49242,-80.237456],\n",
       "\"y_end\":[29.875645,35.309947],\n",
       "\"x_end\":[-114.032789,-123.242456]\n",
       "},\n",
       "\"mapping\":{\n",
       "},\n",
       "\"data_meta\":{\n",
       "\"series_annotations\":[{\n",
       "\"type\":\"float\",\n",
       "\"column\":\"y_start\"\n",
       "},{\n",
       "\"type\":\"float\",\n",
       "\"column\":\"x_start\"\n",
       "},{\n",
       "\"type\":\"float\",\n",
       "\"column\":\"y_end\"\n",
       "},{\n",
       "\"type\":\"float\",\n",
       "\"column\":\"x_end\"\n",
       "}]\n",
       "},\n",
       "\"ggtitle\":{\n",
       "\"text\":\"Segments on livemap\"\n",
       "},\n",
       "\"kind\":\"plot\",\n",
       "\"scales\":[],\n",
       "\"layers\":[{\n",
       "\"geom\":\"livemap\",\n",
       "\"mapping\":{\n",
       "},\n",
       "\"data_meta\":{\n",
       "},\n",
       "\"tiles\":{\n",
       "\"kind\":\"vector_lets_plot\",\n",
       "\"url\":\"wss://tiles.datalore.jetbrains.com\",\n",
       "\"theme\":\"color\",\n",
       "\"attribution\":\"<a href=\\\"https://lets-plot.org\\\">© Lets-Plot</a>, map data: <a href=\\\"https://www.openstreetmap.org/copyright\\\">© OpenStreetMap contributors</a>.\"\n",
       "},\n",
       "\"geocoding\":{\n",
       "\"url\":\"https://geo2.datalore.jetbrains.com/map_data/geocoding\"\n",
       "},\n",
       "\"data\":{\n",
       "}\n",
       "},{\n",
       "\"geom\":\"segment\",\n",
       "\"mapping\":{\n",
       "\"x\":\"x_start\",\n",
       "\"y\":\"y_start\",\n",
       "\"xend\":\"x_end\",\n",
       "\"yend\":\"y_end\",\n",
       "\"color\":\"y_end\"\n",
       "},\n",
       "\"data_meta\":{\n",
       "},\n",
       "\"size\":1.0,\n",
       "\"linetype\":2.0,\n",
       "\"data\":{\n",
       "}\n",
       "}],\n",
       "\"metainfo_list\":[],\n",
       "\"spec_id\":\"1\"\n",
       "};\n",
       "               window.letsPlotCall(function() {\n",
       "       \n",
       "               var toolbar = null;\n",
       "               var plotContainer = containerDiv;               \n",
       "               \n",
       "                   var options = {\n",
       "                       sizing: {\n",
       "                           width_mode: \"min\",\n",
       "                           height_mode: \"scaled\",\n",
       "                           width: width\n",
       "                       }\n",
       "                   };\n",
       "                   var fig = LetsPlot.buildPlotFromProcessedSpecs(plotSpec, -1, -1, plotContainer, options);\n",
       "                   if (toolbar) {\n",
       "                     toolbar.bind(fig);\n",
       "                   }\n",
       "               });\n",
       "               \n",
       "               break;\n",
       "           }\n",
       "       }\n",
       "   });\n",
       "   \n",
       "   observer.observe(containerDiv);\n",
       "   \n",
       "   // ----------\n",
       "   })();\n",
       "   \n",
       "   </script>"
      ],
      "text/plain": [
       "<lets_plot.plot.core.PlotSpec at 0x139deff40>"
      ]
     },
     "execution_count": 5,
     "metadata": {},
     "output_type": "execute_result"
    }
   ],
   "source": [
    "ggplot(data) \\\n",
    "    + geom_livemap() \\\n",
    "    + geom_segment(aes(x='x_start', y='y_start', xend='x_end', yend='y_end', color='y_end'), size=1, linetype=2) \\\n",
    "    + ggtitle('Segments on livemap')"
   ]
  },
  {
   "cell_type": "code",
   "execution_count": null,
   "metadata": {},
   "outputs": [],
   "source": []
  }
 ],
 "metadata": {
  "kernelspec": {
   "display_name": "Python 3 (ipykernel)",
   "language": "python",
   "name": "python3"
  },
  "language_info": {
   "codemirror_mode": {
    "name": "ipython",
    "version": 3
   },
   "file_extension": ".py",
   "mimetype": "text/x-python",
   "name": "python",
   "nbconvert_exporter": "python",
   "pygments_lexer": "ipython3",
   "version": "3.10.15"
  }
 },
 "nbformat": 4,
 "nbformat_minor": 4
}
