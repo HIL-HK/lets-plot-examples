{
 "cells": [
  {
   "cell_type": "code",
   "execution_count": 1,
   "metadata": {
    "execution": {
     "iopub.execute_input": "2024-09-27T17:57:05.976731Z",
     "iopub.status.busy": "2024-09-27T17:57:05.976430Z",
     "iopub.status.idle": "2024-09-27T17:57:06.403471Z",
     "shell.execute_reply": "2024-09-27T17:57:06.403129Z"
    }
   },
   "outputs": [],
   "source": [
    "from lets_plot import *"
   ]
  },
  {
   "cell_type": "code",
   "execution_count": 2,
   "metadata": {
    "execution": {
     "iopub.execute_input": "2024-09-27T17:57:06.404832Z",
     "iopub.status.busy": "2024-09-27T17:57:06.404717Z",
     "iopub.status.idle": "2024-09-27T17:57:06.406933Z",
     "shell.execute_reply": "2024-09-27T17:57:06.406722Z"
    }
   },
   "outputs": [
    {
     "data": {
      "text/html": [
       "\n",
       "            <div id=\"AausHJ\"></div>\n",
       "            <script type=\"text/javascript\" data-lets-plot-script=\"library\">\n",
       "                if(!window.letsPlotCallQueue) {\n",
       "                    window.letsPlotCallQueue = [];\n",
       "                }; \n",
       "                window.letsPlotCall = function(f) {\n",
       "                    window.letsPlotCallQueue.push(f);\n",
       "                };\n",
       "                (function() {\n",
       "                    var script = document.createElement(\"script\");\n",
       "                    script.type = \"text/javascript\";\n",
       "                    script.src = \"https://cdn.jsdelivr.net/gh/JetBrains/lets-plot@v4.4.1/js-package/distr/lets-plot.min.js\";\n",
       "                    script.onload = function() {\n",
       "                        window.letsPlotCall = function(f) {f();};\n",
       "                        window.letsPlotCallQueue.forEach(function(f) {f();});\n",
       "                        window.letsPlotCallQueue = [];\n",
       "                        \n",
       "                    };\n",
       "                    script.onerror = function(event) {\n",
       "                        window.letsPlotCall = function(f) {};    // noop\n",
       "                        window.letsPlotCallQueue = [];\n",
       "                        var div = document.createElement(\"div\");\n",
       "                        div.style.color = 'darkred';\n",
       "                        div.textContent = 'Error loading Lets-Plot JS';\n",
       "                        document.getElementById(\"AausHJ\").appendChild(div);\n",
       "                    };\n",
       "                    var e = document.getElementById(\"AausHJ\");\n",
       "                    e.appendChild(script);\n",
       "                })()\n",
       "            </script>\n",
       "            "
      ]
     },
     "metadata": {},
     "output_type": "display_data"
    }
   ],
   "source": [
    "LetsPlot.setup_html()"
   ]
  },
  {
   "cell_type": "code",
   "execution_count": 3,
   "metadata": {
    "execution": {
     "iopub.execute_input": "2024-09-27T17:57:06.422683Z",
     "iopub.status.busy": "2024-09-27T17:57:06.422585Z",
     "iopub.status.idle": "2024-09-27T17:57:06.424339Z",
     "shell.execute_reply": "2024-09-27T17:57:06.424133Z"
    }
   },
   "outputs": [],
   "source": [
    "lat = [48.979166, 48.936053, 29.875645, 35.309947]\n",
    "lon = [-102.492420, -80.237456, -114.032789, -123.242456]\n",
    "values = [700, 800, 1500, 200, 500]"
   ]
  },
  {
   "cell_type": "code",
   "execution_count": 4,
   "metadata": {
    "execution": {
     "iopub.execute_input": "2024-09-27T17:57:06.425364Z",
     "iopub.status.busy": "2024-09-27T17:57:06.425292Z",
     "iopub.status.idle": "2024-09-27T17:57:06.426940Z",
     "shell.execute_reply": "2024-09-27T17:57:06.426727Z"
    }
   },
   "outputs": [],
   "source": [
    "data = dict(y_start=lat[0:2], x_start=lon[0:2], y_end=lat[2:4], x_end=lon[2:4])"
   ]
  },
  {
   "cell_type": "code",
   "execution_count": 5,
   "metadata": {
    "execution": {
     "iopub.execute_input": "2024-09-27T17:57:06.427911Z",
     "iopub.status.busy": "2024-09-27T17:57:06.427840Z",
     "iopub.status.idle": "2024-09-27T17:57:06.456698Z",
     "shell.execute_reply": "2024-09-27T17:57:06.456477Z"
    }
   },
   "outputs": [
    {
     "data": {
      "text/html": [
       "   <div id=\"88tIfo\"></div>\n",
       "   <script type=\"text/javascript\" data-lets-plot-script=\"plot\">\n",
       "       (function() {\n",
       "           var plotSpec={\n",
       "\"data\":{\n",
       "\"y_start\":[48.979166,48.936053],\n",
       "\"x_start\":[-102.49242,-80.237456],\n",
       "\"y_end\":[29.875645,35.309947],\n",
       "\"x_end\":[-114.032789,-123.242456]\n",
       "},\n",
       "\"mapping\":{\n",
       "},\n",
       "\"data_meta\":{\n",
       "\"series_annotations\":[{\n",
       "\"type\":\"float\",\n",
       "\"column\":\"y_start\"\n",
       "},{\n",
       "\"type\":\"float\",\n",
       "\"column\":\"x_start\"\n",
       "},{\n",
       "\"type\":\"float\",\n",
       "\"column\":\"y_end\"\n",
       "},{\n",
       "\"type\":\"float\",\n",
       "\"column\":\"x_end\"\n",
       "}]\n",
       "},\n",
       "\"ggtitle\":{\n",
       "\"text\":\"Segments on livemap\"\n",
       "},\n",
       "\"kind\":\"plot\",\n",
       "\"scales\":[],\n",
       "\"layers\":[{\n",
       "\"geom\":\"livemap\",\n",
       "\"mapping\":{\n",
       "},\n",
       "\"data_meta\":{\n",
       "},\n",
       "\"tiles\":{\n",
       "\"kind\":\"vector_lets_plot\",\n",
       "\"url\":\"wss://tiles.datalore.jetbrains.com\",\n",
       "\"theme\":\"color\",\n",
       "\"attribution\":\"<a href=\\\"https://lets-plot.org\\\">© Lets-Plot</a>, map data: <a href=\\\"https://www.openstreetmap.org/copyright\\\">© OpenStreetMap contributors</a>.\"\n",
       "},\n",
       "\"geocoding\":{\n",
       "\"url\":\"https://geo2.datalore.jetbrains.com/map_data/geocoding\"\n",
       "},\n",
       "\"data\":{\n",
       "}\n",
       "},{\n",
       "\"geom\":\"segment\",\n",
       "\"mapping\":{\n",
       "\"x\":\"x_start\",\n",
       "\"y\":\"y_start\",\n",
       "\"xend\":\"x_end\",\n",
       "\"yend\":\"y_end\",\n",
       "\"color\":\"y_end\"\n",
       "},\n",
       "\"data_meta\":{\n",
       "},\n",
       "\"size\":1.0,\n",
       "\"linetype\":2.0,\n",
       "\"data\":{\n",
       "}\n",
       "}],\n",
       "\"metainfo_list\":[]\n",
       "};\n",
       "           var plotContainer = document.getElementById(\"88tIfo\");\n",
       "           window.letsPlotCall(function() {{\n",
       "               LetsPlot.buildPlotFromProcessedSpecs(plotSpec, -1, -1, plotContainer);\n",
       "           }});\n",
       "       })();\n",
       "   </script>"
      ],
      "text/plain": [
       "<lets_plot.plot.core.PlotSpec at 0x10364f4f0>"
      ]
     },
     "execution_count": 5,
     "metadata": {},
     "output_type": "execute_result"
    }
   ],
   "source": [
    "ggplot(data) \\\n",
    "    + geom_livemap() \\\n",
    "    + geom_segment(aes(x='x_start', y='y_start', xend='x_end', yend='y_end', color='y_end'), size=1, linetype=2) \\\n",
    "    + ggtitle('Segments on livemap')"
   ]
  },
  {
   "cell_type": "code",
   "execution_count": null,
   "metadata": {},
   "outputs": [],
   "source": []
  }
 ],
 "metadata": {
  "kernelspec": {
   "display_name": "Python 3 (ipykernel)",
   "language": "python",
   "name": "python3"
  },
  "language_info": {
   "codemirror_mode": {
    "name": "ipython",
    "version": 3
   },
   "file_extension": ".py",
   "mimetype": "text/x-python",
   "name": "python",
   "nbconvert_exporter": "python",
   "pygments_lexer": "ipython3",
   "version": "3.10.15"
  }
 },
 "nbformat": 4,
 "nbformat_minor": 4
}
