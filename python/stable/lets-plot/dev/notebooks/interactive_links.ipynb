{
 "cells": [
  {
   "cell_type": "code",
   "execution_count": 1,
   "id": "27c415bc-19bd-4ab4-80c9-efdb5d33c03a",
   "metadata": {
    "execution": {
     "iopub.execute_input": "2024-11-06T19:08:57.759311Z",
     "iopub.status.busy": "2024-11-06T19:08:57.758853Z",
     "iopub.status.idle": "2024-11-06T19:08:58.185879Z",
     "shell.execute_reply": "2024-11-06T19:08:58.185626Z"
    }
   },
   "outputs": [
    {
     "data": {
      "text/html": [
       "\n",
       "            <div id=\"l6dzs9\"></div>\n",
       "            <script type=\"text/javascript\" data-lets-plot-script=\"library\">\n",
       "                if(!window.letsPlotCallQueue) {\n",
       "                    window.letsPlotCallQueue = [];\n",
       "                }; \n",
       "                window.letsPlotCall = function(f) {\n",
       "                    window.letsPlotCallQueue.push(f);\n",
       "                };\n",
       "                (function() {\n",
       "                    var script = document.createElement(\"script\");\n",
       "                    script.type = \"text/javascript\";\n",
       "                    script.src = \"https://cdn.jsdelivr.net/gh/JetBrains/lets-plot@v4.5.1/js-package/distr/lets-plot.min.js\";\n",
       "                    script.onload = function() {\n",
       "                        window.letsPlotCall = function(f) {f();};\n",
       "                        window.letsPlotCallQueue.forEach(function(f) {f();});\n",
       "                        window.letsPlotCallQueue = [];\n",
       "                        \n",
       "                    };\n",
       "                    script.onerror = function(event) {\n",
       "                        window.letsPlotCall = function(f) {};    // noop\n",
       "                        window.letsPlotCallQueue = [];\n",
       "                        var div = document.createElement(\"div\");\n",
       "                        div.style.color = 'darkred';\n",
       "                        div.textContent = 'Error loading Lets-Plot JS';\n",
       "                        document.getElementById(\"l6dzs9\").appendChild(div);\n",
       "                    };\n",
       "                    var e = document.getElementById(\"l6dzs9\");\n",
       "                    e.appendChild(script);\n",
       "                })()\n",
       "            </script>\n",
       "            "
      ]
     },
     "metadata": {},
     "output_type": "display_data"
    }
   ],
   "source": [
    "from lets_plot import *\n",
    "LetsPlot.setup_html()"
   ]
  },
  {
   "cell_type": "code",
   "execution_count": 2,
   "id": "4fd87740-b782-4c39-8020-71528f1b58c4",
   "metadata": {
    "execution": {
     "iopub.execute_input": "2024-11-06T19:08:58.187126Z",
     "iopub.status.busy": "2024-11-06T19:08:58.187024Z",
     "iopub.status.idle": "2024-11-06T19:08:58.215001Z",
     "shell.execute_reply": "2024-11-06T19:08:58.214776Z"
    }
   },
   "outputs": [
    {
     "data": {
      "text/html": [
       "   <div id=\"1vklNZ\"></div>\n",
       "   <script type=\"text/javascript\" data-lets-plot-script=\"plot\">\n",
       "   \n",
       "   (function() {\n",
       "   // ----------\n",
       "   \n",
       "   var containerDiv = document.getElementById(\"1vklNZ\");\n",
       "   var observer = new ResizeObserver(function(entries) {\n",
       "       for (let entry of entries) {\n",
       "           var width = containerDiv.clientWidth\n",
       "           if (entry.contentBoxSize && width > 0) {\n",
       "           \n",
       "               // Render plot\n",
       "               if (observer) {\n",
       "                   observer.disconnect();\n",
       "                   observer = null;\n",
       "               }\n",
       "\n",
       "               var plotSpec={\n",
       "\"mapping\":{\n",
       "},\n",
       "\"data_meta\":{\n",
       "},\n",
       "\"ggtitle\":{\n",
       "\"text\":\"Notebook with <a href=\\\"https://google.com\\\">links</a>\",\n",
       "\"subtitle\":\"Visit <a href=\\\"https://lets-plot.org\\\">lets-plot.org</a> for more examples\"\n",
       "},\n",
       "\"caption\":{\n",
       "\"text\":\"Data provided by <a href=\\\"https://nasa.com\\\">NASA</a> and <a href=\\\"https://eida.com\\\">EISA</a>.\"\n",
       "},\n",
       "\"kind\":\"plot\",\n",
       "\"scales\":[],\n",
       "\"layers\":[{\n",
       "\"geom\":\"label\",\n",
       "\"mapping\":{\n",
       "},\n",
       "\"tooltips\":{\n",
       "\"formats\":[],\n",
       "\"lines\":[\"Link to a <a href=\\\"https://google.com\\\">google</a> inside a tooltip\"]\n",
       "},\n",
       "\"data_meta\":{\n",
       "},\n",
       "\"x\":0.0,\n",
       "\"y\":0.0,\n",
       "\"label\":\"Here is a label with a <a href=\\\"https://google.com\\\">google</a>! link\",\n",
       "\"data\":{\n",
       "}\n",
       "}],\n",
       "\"metainfo_list\":[],\n",
       "\"spec_id\":\"1\"\n",
       "};\n",
       "               window.letsPlotCall(function() {\n",
       "       \n",
       "               var toolbar = null;\n",
       "               var plotContainer = containerDiv;               \n",
       "               \n",
       "                   var options = {\n",
       "                       sizing: {\n",
       "                           width_mode: \"min\",\n",
       "                           height_mode: \"scaled\",\n",
       "                           width: width\n",
       "                       }\n",
       "                   };\n",
       "                   var fig = LetsPlot.buildPlotFromProcessedSpecs(plotSpec, -1, -1, plotContainer, options);\n",
       "                   if (toolbar) {\n",
       "                     toolbar.bind(fig);\n",
       "                   }\n",
       "               });\n",
       "               \n",
       "               break;\n",
       "           }\n",
       "       }\n",
       "   });\n",
       "   \n",
       "   observer.observe(containerDiv);\n",
       "   \n",
       "   // ----------\n",
       "   })();\n",
       "   \n",
       "   </script>"
      ],
      "text/plain": [
       "<lets_plot.plot.core.PlotSpec at 0x149d90520>"
      ]
     },
     "execution_count": 2,
     "metadata": {},
     "output_type": "execute_result"
    }
   ],
   "source": [
    "ggplot() \\\n",
    "    + geom_label(\n",
    "        x=0, y=0, label='Here is a label with a <a href=\"https://google.com\">google</a>! link',\n",
    "        tooltips=layer_tooltips().line('Link to a <a href=\"https://google.com\">google</a> inside a tooltip')\n",
    "            \n",
    "    ) \\\n",
    "    + labs(\n",
    "        title='Notebook with <a href=\"https://google.com\">links</a>',\n",
    "        subtitle='Visit <a href=\"https://lets-plot.org\">lets-plot.org</a> for more examples',\n",
    "        caption='Data provided by <a href=\"https://nasa.com\">NASA</a> and <a href=\"https://eida.com\">EISA</a>.'\n",
    "    ) \n"
   ]
  },
  {
   "cell_type": "code",
   "execution_count": null,
   "id": "a42e0e9f-1a70-4ad9-bdc1-fd01ea9caa56",
   "metadata": {},
   "outputs": [],
   "source": []
  }
 ],
 "metadata": {
  "kernelspec": {
   "display_name": "Python 3 (ipykernel)",
   "language": "python",
   "name": "python3"
  },
  "language_info": {
   "codemirror_mode": {
    "name": "ipython",
    "version": 3
   },
   "file_extension": ".py",
   "mimetype": "text/x-python",
   "name": "python",
   "nbconvert_exporter": "python",
   "pygments_lexer": "ipython3",
   "version": "3.10.15"
  }
 },
 "nbformat": 4,
 "nbformat_minor": 5
}
