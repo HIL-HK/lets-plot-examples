{
 "cells": [
  {
   "cell_type": "code",
   "execution_count": 1,
   "id": "27c415bc-19bd-4ab4-80c9-efdb5d33c03a",
   "metadata": {
    "execution": {
     "iopub.execute_input": "2024-09-27T17:55:20.532234Z",
     "iopub.status.busy": "2024-09-27T17:55:20.531951Z",
     "iopub.status.idle": "2024-09-27T17:55:20.958775Z",
     "shell.execute_reply": "2024-09-27T17:55:20.958533Z"
    }
   },
   "outputs": [
    {
     "data": {
      "text/html": [
       "\n",
       "            <div id=\"QnLwIB\"></div>\n",
       "            <script type=\"text/javascript\" data-lets-plot-script=\"library\">\n",
       "                if(!window.letsPlotCallQueue) {\n",
       "                    window.letsPlotCallQueue = [];\n",
       "                }; \n",
       "                window.letsPlotCall = function(f) {\n",
       "                    window.letsPlotCallQueue.push(f);\n",
       "                };\n",
       "                (function() {\n",
       "                    var script = document.createElement(\"script\");\n",
       "                    script.type = \"text/javascript\";\n",
       "                    script.src = \"https://cdn.jsdelivr.net/gh/JetBrains/lets-plot@v4.4.1/js-package/distr/lets-plot.min.js\";\n",
       "                    script.onload = function() {\n",
       "                        window.letsPlotCall = function(f) {f();};\n",
       "                        window.letsPlotCallQueue.forEach(function(f) {f();});\n",
       "                        window.letsPlotCallQueue = [];\n",
       "                        \n",
       "                    };\n",
       "                    script.onerror = function(event) {\n",
       "                        window.letsPlotCall = function(f) {};    // noop\n",
       "                        window.letsPlotCallQueue = [];\n",
       "                        var div = document.createElement(\"div\");\n",
       "                        div.style.color = 'darkred';\n",
       "                        div.textContent = 'Error loading Lets-Plot JS';\n",
       "                        document.getElementById(\"QnLwIB\").appendChild(div);\n",
       "                    };\n",
       "                    var e = document.getElementById(\"QnLwIB\");\n",
       "                    e.appendChild(script);\n",
       "                })()\n",
       "            </script>\n",
       "            "
      ]
     },
     "metadata": {},
     "output_type": "display_data"
    }
   ],
   "source": [
    "from lets_plot import *\n",
    "LetsPlot.setup_html()"
   ]
  },
  {
   "cell_type": "code",
   "execution_count": 2,
   "id": "4fd87740-b782-4c39-8020-71528f1b58c4",
   "metadata": {
    "execution": {
     "iopub.execute_input": "2024-09-27T17:55:20.959971Z",
     "iopub.status.busy": "2024-09-27T17:55:20.959867Z",
     "iopub.status.idle": "2024-09-27T17:55:20.988394Z",
     "shell.execute_reply": "2024-09-27T17:55:20.988170Z"
    }
   },
   "outputs": [
    {
     "data": {
      "text/html": [
       "   <div id=\"uHi8WC\"></div>\n",
       "   <script type=\"text/javascript\" data-lets-plot-script=\"plot\">\n",
       "       (function() {\n",
       "           var plotSpec={\n",
       "\"mapping\":{\n",
       "},\n",
       "\"data_meta\":{\n",
       "},\n",
       "\"ggtitle\":{\n",
       "\"text\":\"Notebook with <a href=\\\"https://google.com\\\">links</a>\",\n",
       "\"subtitle\":\"Visit <a href=\\\"https://lets-plot.org\\\">lets-plot.org</a> for more examples\"\n",
       "},\n",
       "\"caption\":{\n",
       "\"text\":\"Data provided by <a href=\\\"https://nasa.com\\\">NASA</a> and <a href=\\\"https://eida.com\\\">EISA</a>.\"\n",
       "},\n",
       "\"kind\":\"plot\",\n",
       "\"scales\":[],\n",
       "\"layers\":[{\n",
       "\"geom\":\"label\",\n",
       "\"mapping\":{\n",
       "},\n",
       "\"tooltips\":{\n",
       "\"formats\":[],\n",
       "\"lines\":[\"Link to a <a href=\\\"https://google.com\\\">google</a> inside a tooltip\"]\n",
       "},\n",
       "\"data_meta\":{\n",
       "},\n",
       "\"x\":0.0,\n",
       "\"y\":0.0,\n",
       "\"label\":\"Here is a label with a <a href=\\\"https://google.com\\\">google</a>! link\",\n",
       "\"data\":{\n",
       "}\n",
       "}],\n",
       "\"metainfo_list\":[]\n",
       "};\n",
       "           var plotContainer = document.getElementById(\"uHi8WC\");\n",
       "           window.letsPlotCall(function() {{\n",
       "               LetsPlot.buildPlotFromProcessedSpecs(plotSpec, -1, -1, plotContainer);\n",
       "           }});\n",
       "       })();\n",
       "   </script>"
      ],
      "text/plain": [
       "<lets_plot.plot.core.PlotSpec at 0x124549990>"
      ]
     },
     "execution_count": 2,
     "metadata": {},
     "output_type": "execute_result"
    }
   ],
   "source": [
    "ggplot() \\\n",
    "    + geom_label(\n",
    "        x=0, y=0, label='Here is a label with a <a href=\"https://google.com\">google</a>! link',\n",
    "        tooltips=layer_tooltips().line('Link to a <a href=\"https://google.com\">google</a> inside a tooltip')\n",
    "            \n",
    "    ) \\\n",
    "    + labs(\n",
    "        title='Notebook with <a href=\"https://google.com\">links</a>',\n",
    "        subtitle='Visit <a href=\"https://lets-plot.org\">lets-plot.org</a> for more examples',\n",
    "        caption='Data provided by <a href=\"https://nasa.com\">NASA</a> and <a href=\"https://eida.com\">EISA</a>.'\n",
    "    ) \n"
   ]
  },
  {
   "cell_type": "code",
   "execution_count": null,
   "id": "a42e0e9f-1a70-4ad9-bdc1-fd01ea9caa56",
   "metadata": {},
   "outputs": [],
   "source": []
  }
 ],
 "metadata": {
  "kernelspec": {
   "display_name": "Python 3 (ipykernel)",
   "language": "python",
   "name": "python3"
  },
  "language_info": {
   "codemirror_mode": {
    "name": "ipython",
    "version": 3
   },
   "file_extension": ".py",
   "mimetype": "text/x-python",
   "name": "python",
   "nbconvert_exporter": "python",
   "pygments_lexer": "ipython3",
   "version": "3.10.15"
  }
 },
 "nbformat": 4,
 "nbformat_minor": 5
}
