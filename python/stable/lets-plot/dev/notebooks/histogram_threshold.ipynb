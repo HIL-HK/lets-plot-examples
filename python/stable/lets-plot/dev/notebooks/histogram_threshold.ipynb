{
 "cells": [
  {
   "cell_type": "code",
   "execution_count": 1,
   "id": "9bcfb6f2-51c4-4b60-8700-4bbe9566efe2",
   "metadata": {
    "execution": {
     "iopub.execute_input": "2024-10-02T08:45:28.501585Z",
     "iopub.status.busy": "2024-10-02T08:45:28.501075Z",
     "iopub.status.idle": "2024-10-02T08:45:28.934653Z",
     "shell.execute_reply": "2024-10-02T08:45:28.934386Z"
    }
   },
   "outputs": [
    {
     "data": {
      "text/html": [
       "\n",
       "            <div id=\"FQdJ1T\"></div>\n",
       "            <script type=\"text/javascript\" data-lets-plot-script=\"library\">\n",
       "                if(!window.letsPlotCallQueue) {\n",
       "                    window.letsPlotCallQueue = [];\n",
       "                }; \n",
       "                window.letsPlotCall = function(f) {\n",
       "                    window.letsPlotCallQueue.push(f);\n",
       "                };\n",
       "                (function() {\n",
       "                    var script = document.createElement(\"script\");\n",
       "                    script.type = \"text/javascript\";\n",
       "                    script.src = \"https://cdn.jsdelivr.net/gh/JetBrains/lets-plot@v4.4.1/js-package/distr/lets-plot.min.js\";\n",
       "                    script.onload = function() {\n",
       "                        window.letsPlotCall = function(f) {f();};\n",
       "                        window.letsPlotCallQueue.forEach(function(f) {f();});\n",
       "                        window.letsPlotCallQueue = [];\n",
       "                        \n",
       "                    };\n",
       "                    script.onerror = function(event) {\n",
       "                        window.letsPlotCall = function(f) {};    // noop\n",
       "                        window.letsPlotCallQueue = [];\n",
       "                        var div = document.createElement(\"div\");\n",
       "                        div.style.color = 'darkred';\n",
       "                        div.textContent = 'Error loading Lets-Plot JS';\n",
       "                        document.getElementById(\"FQdJ1T\").appendChild(div);\n",
       "                    };\n",
       "                    var e = document.getElementById(\"FQdJ1T\");\n",
       "                    e.appendChild(script);\n",
       "                })()\n",
       "            </script>\n",
       "            "
      ]
     },
     "metadata": {},
     "output_type": "display_data"
    }
   ],
   "source": [
    "from lets_plot import *\n",
    "import pandas as pd\n",
    "\n",
    "LetsPlot.setup_html()"
   ]
  },
  {
   "cell_type": "code",
   "execution_count": 2,
   "id": "6cc8dd57-fab8-4a5e-9971-826752410179",
   "metadata": {
    "execution": {
     "iopub.execute_input": "2024-10-02T08:45:28.935932Z",
     "iopub.status.busy": "2024-10-02T08:45:28.935823Z",
     "iopub.status.idle": "2024-10-02T08:45:29.224497Z",
     "shell.execute_reply": "2024-10-02T08:45:29.223598Z"
    }
   },
   "outputs": [],
   "source": [
    "iris = pd.read_csv('https://raw.githubusercontent.com/JetBrains/lets-plot-docs/master/data/iris.csv')\n",
    "\n",
    "p = ggplot(iris, aes(x='petal_length', fill='species')) + facet_wrap(facets='species', scales='free_x')"
   ]
  },
  {
   "cell_type": "code",
   "execution_count": 3,
   "id": "a55b4bfa-d992-476d-99e8-0a0c33ccff9b",
   "metadata": {
    "execution": {
     "iopub.execute_input": "2024-10-02T08:45:29.229027Z",
     "iopub.status.busy": "2024-10-02T08:45:29.228599Z",
     "iopub.status.idle": "2024-10-02T08:45:29.290959Z",
     "shell.execute_reply": "2024-10-02T08:45:29.290703Z"
    }
   },
   "outputs": [
    {
     "data": {
      "text/html": [
       "   <div id=\"vME9wm\"></div>\n",
       "   <script type=\"text/javascript\" data-lets-plot-script=\"plot\">\n",
       "       (function() {\n",
       "           var plotSpec={\n",
       "\"kind\":\"subplots\",\n",
       "\"layout\":{\n",
       "\"ncol\":2.0,\n",
       "\"nrow\":1.0,\n",
       "\"name\":\"grid\"\n",
       "},\n",
       "\"figures\":[{\n",
       "\"data\":{\n",
       "},\n",
       "\"mapping\":{\n",
       "\"x\":\"petal_length\",\n",
       "\"fill\":\"species\"\n",
       "},\n",
       "\"data_meta\":{\n",
       "\"series_annotations\":[{\n",
       "\"type\":\"float\",\n",
       "\"column\":\"sepal_length\"\n",
       "},{\n",
       "\"type\":\"float\",\n",
       "\"column\":\"sepal_width\"\n",
       "},{\n",
       "\"type\":\"float\",\n",
       "\"column\":\"petal_length\"\n",
       "},{\n",
       "\"type\":\"float\",\n",
       "\"column\":\"petal_width\"\n",
       "},{\n",
       "\"type\":\"str\",\n",
       "\"column\":\"species\"\n",
       "}]\n",
       "},\n",
       "\"facet\":{\n",
       "\"name\":\"wrap\",\n",
       "\"facets\":\"species\",\n",
       "\"scales\":\"free_x\",\n",
       "\"order\":1.0,\n",
       "\"dir\":\"h\"\n",
       "},\n",
       "\"kind\":\"plot\",\n",
       "\"scales\":[],\n",
       "\"layers\":[{\n",
       "\"geom\":\"histogram\",\n",
       "\"mapping\":{\n",
       "},\n",
       "\"show_legend\":false,\n",
       "\"data_meta\":{\n",
       "\"series_annotations\":[{\n",
       "\"column\":\"species\",\n",
       "\"factor_levels\":[\"setosa\",\"versicolor\",\"virginica\"]\n",
       "}]\n",
       "},\n",
       "\"threshold\":0.0,\n",
       "\"bins\":3.0,\n",
       "\"alpha\":0.5,\n",
       "\"data\":{\n",
       "\"..count..\":[50.0,NaN,NaN,NaN,50.0,NaN,NaN,20.0,30.0],\n",
       "\"petal_length\":[1.0655555555555556,3.95,NaN,1.0655555555555556,3.95,NaN,NaN,3.95,6.834444444444445],\n",
       "\"species\":[\"setosa\",\"setosa\",\"setosa\",\"versicolor\",\"versicolor\",\"versicolor\",\"virginica\",\"virginica\",\"virginica\"]\n",
       "}\n",
       "}],\n",
       "\"metainfo_list\":[]\n",
       "},{\n",
       "\"data\":{\n",
       "},\n",
       "\"mapping\":{\n",
       "\"x\":\"petal_length\",\n",
       "\"fill\":\"species\"\n",
       "},\n",
       "\"data_meta\":{\n",
       "\"series_annotations\":[{\n",
       "\"type\":\"float\",\n",
       "\"column\":\"sepal_length\"\n",
       "},{\n",
       "\"type\":\"float\",\n",
       "\"column\":\"sepal_width\"\n",
       "},{\n",
       "\"type\":\"float\",\n",
       "\"column\":\"petal_length\"\n",
       "},{\n",
       "\"type\":\"float\",\n",
       "\"column\":\"petal_width\"\n",
       "},{\n",
       "\"type\":\"str\",\n",
       "\"column\":\"species\"\n",
       "}]\n",
       "},\n",
       "\"facet\":{\n",
       "\"name\":\"wrap\",\n",
       "\"facets\":\"species\",\n",
       "\"order\":1.0,\n",
       "\"dir\":\"h\"\n",
       "},\n",
       "\"kind\":\"plot\",\n",
       "\"scales\":[],\n",
       "\"layers\":[{\n",
       "\"geom\":\"histogram\",\n",
       "\"mapping\":{\n",
       "},\n",
       "\"show_legend\":false,\n",
       "\"data_meta\":{\n",
       "\"series_annotations\":[{\n",
       "\"column\":\"species\",\n",
       "\"factor_levels\":[\"setosa\",\"versicolor\",\"virginica\"]\n",
       "}]\n",
       "},\n",
       "\"threshold\":0.0,\n",
       "\"bins\":3.0,\n",
       "\"alpha\":0.5,\n",
       "\"data\":{\n",
       "\"..count..\":[50.0,NaN,NaN,NaN,50.0,NaN,NaN,20.0,30.0],\n",
       "\"petal_length\":[1.0655555555555556,3.95,NaN,1.0655555555555556,3.95,NaN,NaN,3.95,6.834444444444445],\n",
       "\"species\":[\"setosa\",\"setosa\",\"setosa\",\"versicolor\",\"versicolor\",\"versicolor\",\"virginica\",\"virginica\",\"virginica\"]\n",
       "}\n",
       "}],\n",
       "\"metainfo_list\":[]\n",
       "}]\n",
       "};\n",
       "           var plotContainer = document.getElementById(\"vME9wm\");\n",
       "           window.letsPlotCall(function() {{\n",
       "               LetsPlot.buildPlotFromProcessedSpecs(plotSpec, -1, -1, plotContainer);\n",
       "           }});\n",
       "       })();\n",
       "   </script>"
      ],
      "text/plain": [
       "<lets_plot.plot.subplots.SupPlotsSpec at 0x147a67910>"
      ]
     },
     "execution_count": 3,
     "metadata": {},
     "output_type": "execute_result"
    }
   ],
   "source": [
    "gggrid([\n",
    "    ggplot(iris, aes(x='petal_length', fill='species')) \\\n",
    "        + facet_wrap(facets='species', scales='free_x') \\\n",
    "        + geom_histogram(alpha=.5, bins=3, threshold=0, show_legend=False),\n",
    "    ggplot(iris, aes(x='petal_length', fill='species')) \\\n",
    "        + facet_wrap(facets='species') \\\n",
    "        + geom_histogram(alpha=.5, bins=3, threshold=0, show_legend=False)\n",
    "])"
   ]
  },
  {
   "cell_type": "code",
   "execution_count": 4,
   "id": "f1732195-f907-4e32-99d1-571c065effcb",
   "metadata": {
    "execution": {
     "iopub.execute_input": "2024-10-02T08:45:29.292241Z",
     "iopub.status.busy": "2024-10-02T08:45:29.292151Z",
     "iopub.status.idle": "2024-10-02T08:45:29.296030Z",
     "shell.execute_reply": "2024-10-02T08:45:29.295794Z"
    }
   },
   "outputs": [
    {
     "data": {
      "text/html": [
       "   <div id=\"ECPhbc\"></div>\n",
       "   <script type=\"text/javascript\" data-lets-plot-script=\"plot\">\n",
       "       (function() {\n",
       "           var plotSpec={\n",
       "\"data\":{\n",
       "},\n",
       "\"mapping\":{\n",
       "\"x\":\"petal_length\",\n",
       "\"fill\":\"species\"\n",
       "},\n",
       "\"data_meta\":{\n",
       "\"series_annotations\":[{\n",
       "\"type\":\"float\",\n",
       "\"column\":\"sepal_length\"\n",
       "},{\n",
       "\"type\":\"float\",\n",
       "\"column\":\"sepal_width\"\n",
       "},{\n",
       "\"type\":\"float\",\n",
       "\"column\":\"petal_length\"\n",
       "},{\n",
       "\"type\":\"float\",\n",
       "\"column\":\"petal_width\"\n",
       "},{\n",
       "\"type\":\"str\",\n",
       "\"column\":\"species\"\n",
       "}]\n",
       "},\n",
       "\"facet\":{\n",
       "\"name\":\"wrap\",\n",
       "\"facets\":\"species\",\n",
       "\"scales\":\"free_x\",\n",
       "\"order\":1.0,\n",
       "\"dir\":\"h\"\n",
       "},\n",
       "\"kind\":\"plot\",\n",
       "\"scales\":[],\n",
       "\"layers\":[{\n",
       "\"geom\":\"histogram\",\n",
       "\"mapping\":{\n",
       "},\n",
       "\"data_meta\":{\n",
       "\"series_annotations\":[{\n",
       "\"column\":\"species\",\n",
       "\"factor_levels\":[\"setosa\",\"versicolor\",\"virginica\"]\n",
       "}]\n",
       "},\n",
       "\"threshold\":0.0,\n",
       "\"bins\":4.0,\n",
       "\"alpha\":0.5,\n",
       "\"data\":{\n",
       "\"..count..\":[50.0,NaN,NaN,NaN,NaN,11.0,39.0,NaN,NaN,NaN,39.0,11.0],\n",
       "\"petal_length\":[0.963125,2.9543749999999998,NaN,NaN,NaN,2.9543749999999998,4.945625,NaN,NaN,NaN,4.945625,6.936875],\n",
       "\"species\":[\"setosa\",\"setosa\",\"setosa\",\"setosa\",\"versicolor\",\"versicolor\",\"versicolor\",\"versicolor\",\"virginica\",\"virginica\",\"virginica\",\"virginica\"]\n",
       "}\n",
       "}],\n",
       "\"metainfo_list\":[]\n",
       "};\n",
       "           var plotContainer = document.getElementById(\"ECPhbc\");\n",
       "           window.letsPlotCall(function() {{\n",
       "               LetsPlot.buildPlotFromProcessedSpecs(plotSpec, -1, -1, plotContainer);\n",
       "           }});\n",
       "       })();\n",
       "   </script>"
      ],
      "text/plain": [
       "<lets_plot.plot.core.PlotSpec at 0x1478fa1a0>"
      ]
     },
     "execution_count": 4,
     "metadata": {},
     "output_type": "execute_result"
    }
   ],
   "source": [
    "ggplot(iris, aes(x='petal_length', fill='species')) \\\n",
    "    + facet_wrap(facets='species', scales='free_x') \\\n",
    "    + geom_histogram(alpha=.5, bins=4, threshold=0)"
   ]
  },
  {
   "cell_type": "code",
   "execution_count": 5,
   "id": "88a34ca8-c1d3-4a81-ade9-e61592336fa8",
   "metadata": {
    "execution": {
     "iopub.execute_input": "2024-10-02T08:45:29.297146Z",
     "iopub.status.busy": "2024-10-02T08:45:29.297063Z",
     "iopub.status.idle": "2024-10-02T08:45:29.300254Z",
     "shell.execute_reply": "2024-10-02T08:45:29.300019Z"
    }
   },
   "outputs": [
    {
     "data": {
      "text/html": [
       "   <div id=\"zRvGD4\"></div>\n",
       "   <script type=\"text/javascript\" data-lets-plot-script=\"plot\">\n",
       "       (function() {\n",
       "           var plotSpec={\n",
       "\"data\":{\n",
       "},\n",
       "\"mapping\":{\n",
       "\"x\":\"petal_length\",\n",
       "\"fill\":\"species\"\n",
       "},\n",
       "\"data_meta\":{\n",
       "\"series_annotations\":[{\n",
       "\"type\":\"float\",\n",
       "\"column\":\"sepal_length\"\n",
       "},{\n",
       "\"type\":\"float\",\n",
       "\"column\":\"sepal_width\"\n",
       "},{\n",
       "\"type\":\"float\",\n",
       "\"column\":\"petal_length\"\n",
       "},{\n",
       "\"type\":\"float\",\n",
       "\"column\":\"petal_width\"\n",
       "},{\n",
       "\"type\":\"str\",\n",
       "\"column\":\"species\"\n",
       "}]\n",
       "},\n",
       "\"facet\":{\n",
       "\"name\":\"wrap\",\n",
       "\"facets\":\"species\",\n",
       "\"scales\":\"free_x\",\n",
       "\"order\":1.0,\n",
       "\"dir\":\"h\"\n",
       "},\n",
       "\"kind\":\"plot\",\n",
       "\"scales\":[],\n",
       "\"layers\":[{\n",
       "\"geom\":\"histogram\",\n",
       "\"mapping\":{\n",
       "},\n",
       "\"data_meta\":{\n",
       "\"series_annotations\":[{\n",
       "\"column\":\"species\",\n",
       "\"factor_levels\":[\"setosa\",\"versicolor\",\"virginica\"]\n",
       "}]\n",
       "},\n",
       "\"threshold\":0.0,\n",
       "\"bins\":4.0,\n",
       "\"alpha\":0.5,\n",
       "\"data\":{\n",
       "\"..count..\":[50.0,NaN,NaN,NaN,NaN,11.0,39.0,NaN,NaN,NaN,39.0,11.0],\n",
       "\"petal_length\":[0.963125,2.9543749999999998,NaN,NaN,NaN,2.9543749999999998,4.945625,NaN,NaN,NaN,4.945625,6.936875],\n",
       "\"species\":[\"setosa\",\"setosa\",\"setosa\",\"setosa\",\"versicolor\",\"versicolor\",\"versicolor\",\"versicolor\",\"virginica\",\"virginica\",\"virginica\",\"virginica\"]\n",
       "}\n",
       "}],\n",
       "\"metainfo_list\":[]\n",
       "};\n",
       "           var plotContainer = document.getElementById(\"zRvGD4\");\n",
       "           window.letsPlotCall(function() {{\n",
       "               LetsPlot.buildPlotFromProcessedSpecs(plotSpec, -1, -1, plotContainer);\n",
       "           }});\n",
       "       })();\n",
       "   </script>"
      ],
      "text/plain": [
       "<lets_plot.plot.core.PlotSpec at 0x1478f94e0>"
      ]
     },
     "execution_count": 5,
     "metadata": {},
     "output_type": "execute_result"
    }
   ],
   "source": [
    "p + geom_histogram(alpha=.5, bins=4, threshold=0)"
   ]
  },
  {
   "cell_type": "code",
   "execution_count": 6,
   "id": "11fff3c8-a21f-4f17-8725-0317747378f6",
   "metadata": {
    "execution": {
     "iopub.execute_input": "2024-10-02T08:45:29.301354Z",
     "iopub.status.busy": "2024-10-02T08:45:29.301281Z",
     "iopub.status.idle": "2024-10-02T08:45:29.304958Z",
     "shell.execute_reply": "2024-10-02T08:45:29.304746Z"
    }
   },
   "outputs": [
    {
     "data": {
      "text/html": [
       "   <div id=\"cTVGyy\"></div>\n",
       "   <script type=\"text/javascript\" data-lets-plot-script=\"plot\">\n",
       "       (function() {\n",
       "           var plotSpec={\n",
       "\"data\":{\n",
       "},\n",
       "\"mapping\":{\n",
       "\"x\":\"x\"\n",
       "},\n",
       "\"data_meta\":{\n",
       "\"series_annotations\":[{\n",
       "\"type\":\"int\",\n",
       "\"column\":\"x\"\n",
       "}]\n",
       "},\n",
       "\"kind\":\"plot\",\n",
       "\"scales\":[{\n",
       "\"aesthetic\":\"y\",\n",
       "\"trans\":\"log2\"\n",
       "}],\n",
       "\"layers\":[{\n",
       "\"geom\":\"histogram\",\n",
       "\"mapping\":{\n",
       "},\n",
       "\"data_meta\":{\n",
       "},\n",
       "\"data\":{\n",
       "\"..count..\":[49.0,0.0,0.0,0.0,0.0,0.0,32.0,0.0,0.0,0.0,0.0,0.0,12.0,0.0,0.0,0.0,0.0,5.0,0.0,0.0,0.0,0.0,0.0,1.0,0.0,0.0,0.0,0.0,0.0,1.0],\n",
       "\"x\":[-0.029444444444444426,0.14500000000000002,0.3194444444444445,0.493888888888889,0.6683333333333334,0.8427777777777778,1.0172222222222225,1.1916666666666669,1.3661111111111113,1.5405555555555557,1.715,1.8894444444444447,2.063888888888889,2.2383333333333333,2.412777777777778,2.587222222222222,2.7616666666666667,2.9361111111111113,3.1105555555555555,3.285,3.4594444444444443,3.633888888888889,3.8083333333333336,3.9827777777777778,4.157222222222223,4.331666666666667,4.506111111111111,4.680555555555555,4.855,5.029444444444445]\n",
       "}\n",
       "}],\n",
       "\"metainfo_list\":[]\n",
       "};\n",
       "           var plotContainer = document.getElementById(\"cTVGyy\");\n",
       "           window.letsPlotCall(function() {{\n",
       "               LetsPlot.buildPlotFromProcessedSpecs(plotSpec, -1, -1, plotContainer);\n",
       "           }});\n",
       "       })();\n",
       "   </script>"
      ],
      "text/plain": [
       "<lets_plot.plot.core.PlotSpec at 0x147ab9d80>"
      ]
     },
     "execution_count": 6,
     "metadata": {},
     "output_type": "execute_result"
    }
   ],
   "source": [
    "import numpy as np\n",
    "np.random.seed(42)\n",
    "x = np.random.poisson(size=100)\n",
    "\n",
    "ggplot({'x': x}, aes(x='x')) + geom_histogram() + scale_y_log2()"
   ]
  },
  {
   "cell_type": "code",
   "execution_count": null,
   "id": "0aaef597-e0ef-4621-a539-5a39d37570de",
   "metadata": {},
   "outputs": [],
   "source": []
  }
 ],
 "metadata": {
  "kernelspec": {
   "display_name": "Python 3 (ipykernel)",
   "language": "python",
   "name": "python3"
  },
  "language_info": {
   "codemirror_mode": {
    "name": "ipython",
    "version": 3
   },
   "file_extension": ".py",
   "mimetype": "text/x-python",
   "name": "python",
   "nbconvert_exporter": "python",
   "pygments_lexer": "ipython3",
   "version": "3.10.15"
  }
 },
 "nbformat": 4,
 "nbformat_minor": 5
}
