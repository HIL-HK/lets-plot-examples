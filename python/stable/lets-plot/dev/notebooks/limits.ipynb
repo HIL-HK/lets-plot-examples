{
 "cells": [
  {
   "cell_type": "code",
   "execution_count": 1,
   "metadata": {
    "execution": {
     "iopub.execute_input": "2024-10-02T08:48:12.296048Z",
     "iopub.status.busy": "2024-10-02T08:48:12.295538Z",
     "iopub.status.idle": "2024-10-02T08:48:12.796739Z",
     "shell.execute_reply": "2024-10-02T08:48:12.796504Z"
    }
   },
   "outputs": [
    {
     "data": {
      "text/html": [
       "\n",
       "            <div id=\"7OtACj\"></div>\n",
       "            <script type=\"text/javascript\" data-lets-plot-script=\"library\">\n",
       "                if(!window.letsPlotCallQueue) {\n",
       "                    window.letsPlotCallQueue = [];\n",
       "                }; \n",
       "                window.letsPlotCall = function(f) {\n",
       "                    window.letsPlotCallQueue.push(f);\n",
       "                };\n",
       "                (function() {\n",
       "                    var script = document.createElement(\"script\");\n",
       "                    script.type = \"text/javascript\";\n",
       "                    script.src = \"https://cdn.jsdelivr.net/gh/JetBrains/lets-plot@v4.4.1/js-package/distr/lets-plot.min.js\";\n",
       "                    script.onload = function() {\n",
       "                        window.letsPlotCall = function(f) {f();};\n",
       "                        window.letsPlotCallQueue.forEach(function(f) {f();});\n",
       "                        window.letsPlotCallQueue = [];\n",
       "                        \n",
       "                    };\n",
       "                    script.onerror = function(event) {\n",
       "                        window.letsPlotCall = function(f) {};    // noop\n",
       "                        window.letsPlotCallQueue = [];\n",
       "                        var div = document.createElement(\"div\");\n",
       "                        div.style.color = 'darkred';\n",
       "                        div.textContent = 'Error loading Lets-Plot JS';\n",
       "                        document.getElementById(\"7OtACj\").appendChild(div);\n",
       "                    };\n",
       "                    var e = document.getElementById(\"7OtACj\");\n",
       "                    e.appendChild(script);\n",
       "                })()\n",
       "            </script>\n",
       "            "
      ]
     },
     "metadata": {},
     "output_type": "display_data"
    }
   ],
   "source": [
    "from lets_plot import *\n",
    "LetsPlot.setup_html()"
   ]
  },
  {
   "cell_type": "code",
   "execution_count": 2,
   "metadata": {
    "execution": {
     "iopub.execute_input": "2024-10-02T08:48:12.812747Z",
     "iopub.status.busy": "2024-10-02T08:48:12.812606Z",
     "iopub.status.idle": "2024-10-02T08:48:12.844026Z",
     "shell.execute_reply": "2024-10-02T08:48:12.843758Z"
    }
   },
   "outputs": [],
   "source": [
    "p = ggplot() + geom_line(\n",
    "    mapping=aes(x='x', y='y', group='g', color='g'),\n",
    "    data={\n",
    "    'x': [0, 5, 10, 15, 20, 25],\n",
    "    'y': [0, 5, 10, 15, 20, 25],\n",
    "    'g': ['a', 'a', 'b', 'b', 'c', 'c']\n",
    "})"
   ]
  },
  {
   "cell_type": "code",
   "execution_count": 3,
   "metadata": {
    "execution": {
     "iopub.execute_input": "2024-10-02T08:48:12.845205Z",
     "iopub.status.busy": "2024-10-02T08:48:12.845108Z",
     "iopub.status.idle": "2024-10-02T08:48:12.848625Z",
     "shell.execute_reply": "2024-10-02T08:48:12.848392Z"
    }
   },
   "outputs": [
    {
     "data": {
      "text/html": [
       "   <div id=\"Ch4z8w\"></div>\n",
       "   <script type=\"text/javascript\" data-lets-plot-script=\"plot\">\n",
       "       (function() {\n",
       "           var plotSpec={\n",
       "\"mapping\":{\n",
       "},\n",
       "\"data_meta\":{\n",
       "},\n",
       "\"kind\":\"plot\",\n",
       "\"scales\":[],\n",
       "\"layers\":[{\n",
       "\"geom\":\"line\",\n",
       "\"data\":{\n",
       "\"x\":[0.0,5.0,10.0,15.0,20.0,25.0],\n",
       "\"y\":[0.0,5.0,10.0,15.0,20.0,25.0],\n",
       "\"g\":[\"a\",\"a\",\"b\",\"b\",\"c\",\"c\"]\n",
       "},\n",
       "\"mapping\":{\n",
       "\"x\":\"x\",\n",
       "\"y\":\"y\",\n",
       "\"group\":\"g\",\n",
       "\"color\":\"g\"\n",
       "},\n",
       "\"data_meta\":{\n",
       "\"series_annotations\":[{\n",
       "\"type\":\"int\",\n",
       "\"column\":\"x\"\n",
       "},{\n",
       "\"type\":\"int\",\n",
       "\"column\":\"y\"\n",
       "},{\n",
       "\"type\":\"str\",\n",
       "\"column\":\"g\"\n",
       "}]\n",
       "}\n",
       "}],\n",
       "\"metainfo_list\":[]\n",
       "};\n",
       "           var plotContainer = document.getElementById(\"Ch4z8w\");\n",
       "           window.letsPlotCall(function() {{\n",
       "               LetsPlot.buildPlotFromProcessedSpecs(plotSpec, -1, -1, plotContainer);\n",
       "           }});\n",
       "       })();\n",
       "   </script>"
      ],
      "text/plain": [
       "<lets_plot.plot.core.PlotSpec at 0x143287880>"
      ]
     },
     "execution_count": 3,
     "metadata": {},
     "output_type": "execute_result"
    }
   ],
   "source": [
    "p"
   ]
  },
  {
   "cell_type": "code",
   "execution_count": 4,
   "metadata": {
    "execution": {
     "iopub.execute_input": "2024-10-02T08:48:12.849676Z",
     "iopub.status.busy": "2024-10-02T08:48:12.849590Z",
     "iopub.status.idle": "2024-10-02T08:48:12.851790Z",
     "shell.execute_reply": "2024-10-02T08:48:12.851604Z"
    }
   },
   "outputs": [
    {
     "data": {
      "text/html": [
       "   <div id=\"5gmMdH\"></div>\n",
       "   <script type=\"text/javascript\" data-lets-plot-script=\"plot\">\n",
       "       (function() {\n",
       "           var plotSpec={\n",
       "\"mapping\":{\n",
       "},\n",
       "\"data_meta\":{\n",
       "},\n",
       "\"kind\":\"plot\",\n",
       "\"scales\":[{\n",
       "\"aesthetic\":\"x\",\n",
       "\"limits\":[2.0,22.0]\n",
       "}],\n",
       "\"layers\":[{\n",
       "\"geom\":\"line\",\n",
       "\"data\":{\n",
       "\"x\":[0.0,5.0,10.0,15.0,20.0,25.0],\n",
       "\"y\":[0.0,5.0,10.0,15.0,20.0,25.0],\n",
       "\"g\":[\"a\",\"a\",\"b\",\"b\",\"c\",\"c\"]\n",
       "},\n",
       "\"mapping\":{\n",
       "\"x\":\"x\",\n",
       "\"y\":\"y\",\n",
       "\"group\":\"g\",\n",
       "\"color\":\"g\"\n",
       "},\n",
       "\"data_meta\":{\n",
       "\"series_annotations\":[{\n",
       "\"type\":\"int\",\n",
       "\"column\":\"x\"\n",
       "},{\n",
       "\"type\":\"int\",\n",
       "\"column\":\"y\"\n",
       "},{\n",
       "\"type\":\"str\",\n",
       "\"column\":\"g\"\n",
       "}]\n",
       "}\n",
       "}],\n",
       "\"metainfo_list\":[]\n",
       "};\n",
       "           var plotContainer = document.getElementById(\"5gmMdH\");\n",
       "           window.letsPlotCall(function() {{\n",
       "               LetsPlot.buildPlotFromProcessedSpecs(plotSpec, -1, -1, plotContainer);\n",
       "           }});\n",
       "       })();\n",
       "   </script>"
      ],
      "text/plain": [
       "<lets_plot.plot.core.PlotSpec at 0x143bfa320>"
      ]
     },
     "execution_count": 4,
     "metadata": {},
     "output_type": "execute_result"
    }
   ],
   "source": [
    "p + xlim(2, 22)"
   ]
  },
  {
   "cell_type": "code",
   "execution_count": 5,
   "metadata": {
    "execution": {
     "iopub.execute_input": "2024-10-02T08:48:12.852753Z",
     "iopub.status.busy": "2024-10-02T08:48:12.852679Z",
     "iopub.status.idle": "2024-10-02T08:48:12.854953Z",
     "shell.execute_reply": "2024-10-02T08:48:12.854736Z"
    }
   },
   "outputs": [
    {
     "data": {
      "text/html": [
       "   <div id=\"hnneMA\"></div>\n",
       "   <script type=\"text/javascript\" data-lets-plot-script=\"plot\">\n",
       "       (function() {\n",
       "           var plotSpec={\n",
       "\"mapping\":{\n",
       "},\n",
       "\"data_meta\":{\n",
       "},\n",
       "\"coord\":{\n",
       "\"name\":\"cartesian\",\n",
       "\"xlim\":[2.0,22.0],\n",
       "\"flip\":false\n",
       "},\n",
       "\"kind\":\"plot\",\n",
       "\"scales\":[],\n",
       "\"layers\":[{\n",
       "\"geom\":\"line\",\n",
       "\"data\":{\n",
       "\"x\":[0.0,5.0,10.0,15.0,20.0,25.0],\n",
       "\"y\":[0.0,5.0,10.0,15.0,20.0,25.0],\n",
       "\"g\":[\"a\",\"a\",\"b\",\"b\",\"c\",\"c\"]\n",
       "},\n",
       "\"mapping\":{\n",
       "\"x\":\"x\",\n",
       "\"y\":\"y\",\n",
       "\"group\":\"g\",\n",
       "\"color\":\"g\"\n",
       "},\n",
       "\"data_meta\":{\n",
       "\"series_annotations\":[{\n",
       "\"type\":\"int\",\n",
       "\"column\":\"x\"\n",
       "},{\n",
       "\"type\":\"int\",\n",
       "\"column\":\"y\"\n",
       "},{\n",
       "\"type\":\"str\",\n",
       "\"column\":\"g\"\n",
       "}]\n",
       "}\n",
       "}],\n",
       "\"metainfo_list\":[]\n",
       "};\n",
       "           var plotContainer = document.getElementById(\"hnneMA\");\n",
       "           window.letsPlotCall(function() {{\n",
       "               LetsPlot.buildPlotFromProcessedSpecs(plotSpec, -1, -1, plotContainer);\n",
       "           }});\n",
       "       })();\n",
       "   </script>"
      ],
      "text/plain": [
       "<lets_plot.plot.core.PlotSpec at 0x143bfa350>"
      ]
     },
     "execution_count": 5,
     "metadata": {},
     "output_type": "execute_result"
    }
   ],
   "source": [
    "p + coord_cartesian(xlim=(2, 22))"
   ]
  }
 ],
 "metadata": {
  "kernelspec": {
   "display_name": "Python 3 (ipykernel)",
   "language": "python",
   "name": "python3"
  },
  "language_info": {
   "codemirror_mode": {
    "name": "ipython",
    "version": 3
   },
   "file_extension": ".py",
   "mimetype": "text/x-python",
   "name": "python",
   "nbconvert_exporter": "python",
   "pygments_lexer": "ipython3",
   "version": "3.10.15"
  }
 },
 "nbformat": 4,
 "nbformat_minor": 4
}
