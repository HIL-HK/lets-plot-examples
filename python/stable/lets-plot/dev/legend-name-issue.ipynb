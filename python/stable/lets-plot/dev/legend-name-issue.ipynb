{
 "cells": [
  {
   "cell_type": "code",
   "execution_count": 1,
   "id": "8a72c7c1",
   "metadata": {
    "execution": {
     "iopub.execute_input": "2024-10-02T08:44:01.684520Z",
     "iopub.status.busy": "2024-10-02T08:44:01.684277Z",
     "iopub.status.idle": "2024-10-02T08:44:02.142507Z",
     "shell.execute_reply": "2024-10-02T08:44:02.142243Z"
    }
   },
   "outputs": [
    {
     "data": {
      "text/html": [
       "\n",
       "            <div id=\"DOIzrg\"></div>\n",
       "            <script type=\"text/javascript\" data-lets-plot-script=\"library\">\n",
       "                if(!window.letsPlotCallQueue) {\n",
       "                    window.letsPlotCallQueue = [];\n",
       "                }; \n",
       "                window.letsPlotCall = function(f) {\n",
       "                    window.letsPlotCallQueue.push(f);\n",
       "                };\n",
       "                (function() {\n",
       "                    var script = document.createElement(\"script\");\n",
       "                    script.type = \"text/javascript\";\n",
       "                    script.src = \"https://cdn.jsdelivr.net/gh/JetBrains/lets-plot@v4.4.1/js-package/distr/lets-plot.min.js\";\n",
       "                    script.onload = function() {\n",
       "                        window.letsPlotCall = function(f) {f();};\n",
       "                        window.letsPlotCallQueue.forEach(function(f) {f();});\n",
       "                        window.letsPlotCallQueue = [];\n",
       "                        \n",
       "                    };\n",
       "                    script.onerror = function(event) {\n",
       "                        window.letsPlotCall = function(f) {};    // noop\n",
       "                        window.letsPlotCallQueue = [];\n",
       "                        var div = document.createElement(\"div\");\n",
       "                        div.style.color = 'darkred';\n",
       "                        div.textContent = 'Error loading Lets-Plot JS';\n",
       "                        document.getElementById(\"DOIzrg\").appendChild(div);\n",
       "                    };\n",
       "                    var e = document.getElementById(\"DOIzrg\");\n",
       "                    e.appendChild(script);\n",
       "                })()\n",
       "            </script>\n",
       "            "
      ]
     },
     "metadata": {},
     "output_type": "display_data"
    }
   ],
   "source": [
    "from lets_plot import *\n",
    "\n",
    "LetsPlot.setup_html()"
   ]
  },
  {
   "cell_type": "code",
   "execution_count": 2,
   "id": "a633a87d",
   "metadata": {
    "execution": {
     "iopub.execute_input": "2024-10-02T08:44:02.143744Z",
     "iopub.status.busy": "2024-10-02T08:44:02.143639Z",
     "iopub.status.idle": "2024-10-02T08:44:02.173960Z",
     "shell.execute_reply": "2024-10-02T08:44:02.173699Z"
    }
   },
   "outputs": [
    {
     "data": {
      "text/html": [
       "   <div id=\"ZvjTWI\"></div>\n",
       "   <script type=\"text/javascript\" data-lets-plot-script=\"plot\">\n",
       "       (function() {\n",
       "           var plotSpec={\n",
       "\"data\":{\n",
       "\"x\":[0.0,2.0],\n",
       "\"y\":[0.0,2.0],\n",
       "\"c\":[\"a\",\"b\"],\n",
       "\"s\":[\"a\",\"b\"]\n",
       "},\n",
       "\"mapping\":{\n",
       "},\n",
       "\"data_meta\":{\n",
       "\"series_annotations\":[{\n",
       "\"type\":\"int\",\n",
       "\"column\":\"x\"\n",
       "},{\n",
       "\"type\":\"int\",\n",
       "\"column\":\"y\"\n",
       "},{\n",
       "\"type\":\"str\",\n",
       "\"column\":\"c\"\n",
       "},{\n",
       "\"type\":\"str\",\n",
       "\"column\":\"s\"\n",
       "}]\n",
       "},\n",
       "\"kind\":\"plot\",\n",
       "\"scales\":[],\n",
       "\"layers\":[{\n",
       "\"geom\":\"point\",\n",
       "\"mapping\":{\n",
       "\"x\":\"x\",\n",
       "\"y\":\"y\",\n",
       "\"shape\":\"s\",\n",
       "\"color\":\"c\"\n",
       "},\n",
       "\"data_meta\":{\n",
       "},\n",
       "\"size\":10.0,\n",
       "\"data\":{\n",
       "}\n",
       "}],\n",
       "\"metainfo_list\":[]\n",
       "};\n",
       "           var plotContainer = document.getElementById(\"ZvjTWI\");\n",
       "           window.letsPlotCall(function() {{\n",
       "               LetsPlot.buildPlotFromProcessedSpecs(plotSpec, -1, -1, plotContainer);\n",
       "           }});\n",
       "       })();\n",
       "   </script>"
      ],
      "text/plain": [
       "<lets_plot.plot.core.PlotSpec at 0x13c283e20>"
      ]
     },
     "execution_count": 2,
     "metadata": {},
     "output_type": "execute_result"
    }
   ],
   "source": [
    "dat = dict(\n",
    "    x = [0, 2],\n",
    "    y = [0, 2],\n",
    "    c = [\"a\", \"b\"],\n",
    "    s = [\"a\", \"b\"]\n",
    ")\n",
    "\n",
    "p = ggplot(dat) + geom_point(aes(\"x\", \"y\", shape=\"s\", color=\"c\"), size=10)\n",
    "p"
   ]
  },
  {
   "cell_type": "code",
   "execution_count": 3,
   "id": "63c7d9f5",
   "metadata": {
    "execution": {
     "iopub.execute_input": "2024-10-02T08:44:02.175190Z",
     "iopub.status.busy": "2024-10-02T08:44:02.175094Z",
     "iopub.status.idle": "2024-10-02T08:44:02.177791Z",
     "shell.execute_reply": "2024-10-02T08:44:02.177561Z"
    }
   },
   "outputs": [
    {
     "data": {
      "text/html": [
       "   <div id=\"7Jfqsp\"></div>\n",
       "   <script type=\"text/javascript\" data-lets-plot-script=\"plot\">\n",
       "       (function() {\n",
       "           var plotSpec={\n",
       "\"data\":{\n",
       "\"x\":[0.0,2.0],\n",
       "\"y\":[0.0,2.0],\n",
       "\"c\":[\"a\",\"b\"],\n",
       "\"s\":[\"a\",\"b\"]\n",
       "},\n",
       "\"mapping\":{\n",
       "},\n",
       "\"data_meta\":{\n",
       "\"series_annotations\":[{\n",
       "\"type\":\"int\",\n",
       "\"column\":\"x\"\n",
       "},{\n",
       "\"type\":\"int\",\n",
       "\"column\":\"y\"\n",
       "},{\n",
       "\"type\":\"str\",\n",
       "\"column\":\"c\"\n",
       "},{\n",
       "\"type\":\"str\",\n",
       "\"column\":\"s\"\n",
       "}]\n",
       "},\n",
       "\"kind\":\"plot\",\n",
       "\"scales\":[{\n",
       "\"name\":\"O\",\n",
       "\"aesthetic\":\"color\",\n",
       "\"values\":[\"red\",\"blue\"]\n",
       "}],\n",
       "\"layers\":[{\n",
       "\"geom\":\"point\",\n",
       "\"mapping\":{\n",
       "\"x\":\"x\",\n",
       "\"y\":\"y\",\n",
       "\"shape\":\"s\",\n",
       "\"color\":\"c\"\n",
       "},\n",
       "\"data_meta\":{\n",
       "},\n",
       "\"size\":10.0,\n",
       "\"data\":{\n",
       "}\n",
       "}],\n",
       "\"metainfo_list\":[]\n",
       "};\n",
       "           var plotContainer = document.getElementById(\"7Jfqsp\");\n",
       "           window.letsPlotCall(function() {{\n",
       "               LetsPlot.buildPlotFromProcessedSpecs(plotSpec, -1, -1, plotContainer);\n",
       "           }});\n",
       "       })();\n",
       "   </script>"
      ],
      "text/plain": [
       "<lets_plot.plot.core.PlotSpec at 0x13c283550>"
      ]
     },
     "execution_count": 3,
     "metadata": {},
     "output_type": "execute_result"
    }
   ],
   "source": [
    "p + scale_color_manual(name=\"O\", values=[\"red\", \"blue\"]) #+ scale_shape(name=\"O\")"
   ]
  },
  {
   "cell_type": "code",
   "execution_count": 4,
   "id": "94351cdd",
   "metadata": {
    "execution": {
     "iopub.execute_input": "2024-10-02T08:44:02.178798Z",
     "iopub.status.busy": "2024-10-02T08:44:02.178722Z",
     "iopub.status.idle": "2024-10-02T08:44:02.181105Z",
     "shell.execute_reply": "2024-10-02T08:44:02.180880Z"
    }
   },
   "outputs": [
    {
     "data": {
      "text/html": [
       "   <div id=\"LEdTDS\"></div>\n",
       "   <script type=\"text/javascript\" data-lets-plot-script=\"plot\">\n",
       "       (function() {\n",
       "           var plotSpec={\n",
       "\"data\":{\n",
       "\"x\":[0.0,2.0],\n",
       "\"y\":[0.0,2.0],\n",
       "\"c\":[\"a\",\"b\"]\n",
       "},\n",
       "\"mapping\":{\n",
       "},\n",
       "\"data_meta\":{\n",
       "\"series_annotations\":[{\n",
       "\"type\":\"int\",\n",
       "\"column\":\"x\"\n",
       "},{\n",
       "\"type\":\"int\",\n",
       "\"column\":\"y\"\n",
       "},{\n",
       "\"type\":\"str\",\n",
       "\"column\":\"c\"\n",
       "},{\n",
       "\"type\":\"str\",\n",
       "\"column\":\"s\"\n",
       "}]\n",
       "},\n",
       "\"kind\":\"plot\",\n",
       "\"scales\":[],\n",
       "\"layers\":[{\n",
       "\"geom\":\"tile\",\n",
       "\"mapping\":{\n",
       "\"x\":\"x\",\n",
       "\"y\":\"y\",\n",
       "\"fill\":\"c\"\n",
       "},\n",
       "\"data_meta\":{\n",
       "},\n",
       "\"data\":{\n",
       "}\n",
       "}],\n",
       "\"metainfo_list\":[]\n",
       "};\n",
       "           var plotContainer = document.getElementById(\"LEdTDS\");\n",
       "           window.letsPlotCall(function() {{\n",
       "               LetsPlot.buildPlotFromProcessedSpecs(plotSpec, -1, -1, plotContainer);\n",
       "           }});\n",
       "       })();\n",
       "   </script>"
      ],
      "text/plain": [
       "<lets_plot.plot.core.PlotSpec at 0x13c60ac20>"
      ]
     },
     "execution_count": 4,
     "metadata": {},
     "output_type": "execute_result"
    }
   ],
   "source": [
    "p1 = ggplot(dat) + geom_tile(aes(\"x\", \"y\", fill=\"c\"))\n",
    "p1"
   ]
  },
  {
   "cell_type": "code",
   "execution_count": 5,
   "id": "e9c96610",
   "metadata": {
    "execution": {
     "iopub.execute_input": "2024-10-02T08:44:02.182084Z",
     "iopub.status.busy": "2024-10-02T08:44:02.182014Z",
     "iopub.status.idle": "2024-10-02T08:44:02.184570Z",
     "shell.execute_reply": "2024-10-02T08:44:02.184351Z"
    }
   },
   "outputs": [
    {
     "data": {
      "text/html": [
       "   <div id=\"FVd8GO\"></div>\n",
       "   <script type=\"text/javascript\" data-lets-plot-script=\"plot\">\n",
       "       (function() {\n",
       "           var plotSpec={\n",
       "\"data\":{\n",
       "\"x\":[0.0,2.0],\n",
       "\"y\":[0.0,2.0],\n",
       "\"c\":[\"a\",\"b\"]\n",
       "},\n",
       "\"mapping\":{\n",
       "},\n",
       "\"data_meta\":{\n",
       "\"series_annotations\":[{\n",
       "\"type\":\"int\",\n",
       "\"column\":\"x\"\n",
       "},{\n",
       "\"type\":\"int\",\n",
       "\"column\":\"y\"\n",
       "},{\n",
       "\"type\":\"str\",\n",
       "\"column\":\"c\"\n",
       "},{\n",
       "\"type\":\"str\",\n",
       "\"column\":\"s\"\n",
       "}]\n",
       "},\n",
       "\"kind\":\"plot\",\n",
       "\"scales\":[{\n",
       "\"name\":\"O\",\n",
       "\"aesthetic\":\"fill\",\n",
       "\"labels\":[\"No\",\"Yes\"],\n",
       "\"values\":[\"red\",\"blue\"]\n",
       "}],\n",
       "\"layers\":[{\n",
       "\"geom\":\"tile\",\n",
       "\"mapping\":{\n",
       "\"x\":\"x\",\n",
       "\"y\":\"y\",\n",
       "\"fill\":\"c\"\n",
       "},\n",
       "\"data_meta\":{\n",
       "},\n",
       "\"data\":{\n",
       "}\n",
       "}],\n",
       "\"metainfo_list\":[]\n",
       "};\n",
       "           var plotContainer = document.getElementById(\"FVd8GO\");\n",
       "           window.letsPlotCall(function() {{\n",
       "               LetsPlot.buildPlotFromProcessedSpecs(plotSpec, -1, -1, plotContainer);\n",
       "           }});\n",
       "       })();\n",
       "   </script>"
      ],
      "text/plain": [
       "<lets_plot.plot.core.PlotSpec at 0x13c283430>"
      ]
     },
     "execution_count": 5,
     "metadata": {},
     "output_type": "execute_result"
    }
   ],
   "source": [
    "p1 + scale_fill_manual(name=\"O\", values=[\"red\", \"blue\"], labels=['No', 'Yes'])"
   ]
  },
  {
   "cell_type": "code",
   "execution_count": 6,
   "id": "3871b3bb",
   "metadata": {
    "execution": {
     "iopub.execute_input": "2024-10-02T08:44:02.185663Z",
     "iopub.status.busy": "2024-10-02T08:44:02.185585Z",
     "iopub.status.idle": "2024-10-02T08:44:02.188401Z",
     "shell.execute_reply": "2024-10-02T08:44:02.188151Z"
    }
   },
   "outputs": [
    {
     "data": {
      "text/html": [
       "   <div id=\"hWoASx\"></div>\n",
       "   <script type=\"text/javascript\" data-lets-plot-script=\"plot\">\n",
       "       (function() {\n",
       "           var plotSpec={\n",
       "\"data\":{\n",
       "},\n",
       "\"mapping\":{\n",
       "},\n",
       "\"data_meta\":{\n",
       "\"series_annotations\":[{\n",
       "\"type\":\"str\",\n",
       "\"column\":\"x\"\n",
       "}]\n",
       "},\n",
       "\"kind\":\"plot\",\n",
       "\"scales\":[{\n",
       "\"name\":\"O\",\n",
       "\"aesthetic\":\"fill\",\n",
       "\"labels\":[\"No\",\"Yes\"],\n",
       "\"values\":[\"red\",\"blue\"]\n",
       "}],\n",
       "\"layers\":[{\n",
       "\"geom\":\"bar\",\n",
       "\"mapping\":{\n",
       "\"x\":\"x\",\n",
       "\"fill\":\"x\"\n",
       "},\n",
       "\"data_meta\":{\n",
       "},\n",
       "\"data\":{\n",
       "\"..count..\":[2.0,1.0],\n",
       "\"x\":[\"a\",\"b\"]\n",
       "}\n",
       "}],\n",
       "\"metainfo_list\":[]\n",
       "};\n",
       "           var plotContainer = document.getElementById(\"hWoASx\");\n",
       "           window.letsPlotCall(function() {{\n",
       "               LetsPlot.buildPlotFromProcessedSpecs(plotSpec, -1, -1, plotContainer);\n",
       "           }});\n",
       "       })();\n",
       "   </script>"
      ],
      "text/plain": [
       "<lets_plot.plot.core.PlotSpec at 0x13c60b9d0>"
      ]
     },
     "execution_count": 6,
     "metadata": {},
     "output_type": "execute_result"
    }
   ],
   "source": [
    "dat2 = dict(\n",
    "    x = [\"a\", \"a\", \"b\"],\n",
    ")\n",
    "\n",
    "\n",
    "(ggplot(dat2) + \n",
    " geom_bar(aes(\"x\", fill=\"x\")) + \n",
    " scale_fill_manual(name=\"O\", values=[\"red\", \"blue\"], labels=['No', 'Yes'])\n",
    ")\n"
   ]
  },
  {
   "cell_type": "code",
   "execution_count": 7,
   "id": "0c7035db",
   "metadata": {
    "execution": {
     "iopub.execute_input": "2024-10-02T08:44:02.189929Z",
     "iopub.status.busy": "2024-10-02T08:44:02.189832Z",
     "iopub.status.idle": "2024-10-02T08:44:02.192915Z",
     "shell.execute_reply": "2024-10-02T08:44:02.192711Z"
    }
   },
   "outputs": [
    {
     "data": {
      "text/html": [
       "   <div id=\"oHlhKC\"></div>\n",
       "   <script type=\"text/javascript\" data-lets-plot-script=\"plot\">\n",
       "       (function() {\n",
       "           var plotSpec={\n",
       "\"data\":{\n",
       "},\n",
       "\"mapping\":{\n",
       "},\n",
       "\"data_meta\":{\n",
       "\"series_annotations\":[{\n",
       "\"type\":\"str\",\n",
       "\"column\":\"x\"\n",
       "}]\n",
       "},\n",
       "\"kind\":\"plot\",\n",
       "\"scales\":[{\n",
       "\"name\":\"O\",\n",
       "\"aesthetic\":\"fill\",\n",
       "\"labels\":[\"No\",\"Yes\"],\n",
       "\"values\":[\"red\",\"blue\"]\n",
       "}],\n",
       "\"layers\":[{\n",
       "\"geom\":\"bar\",\n",
       "\"mapping\":{\n",
       "\"x\":\"x\",\n",
       "\"fill\":\"x\"\n",
       "},\n",
       "\"data_meta\":{\n",
       "\"mapping_annotations\":[{\n",
       "\"parameters\":{\n",
       "\"label\":\"x\"\n",
       "},\n",
       "\"aes\":\"fill\",\n",
       "\"annotation\":\"as_discrete\"\n",
       "}]\n",
       "},\n",
       "\"data\":{\n",
       "\"..count..\":[2.0,1.0],\n",
       "\"x\":[\"a\",\"b\"]\n",
       "}\n",
       "}],\n",
       "\"metainfo_list\":[]\n",
       "};\n",
       "           var plotContainer = document.getElementById(\"oHlhKC\");\n",
       "           window.letsPlotCall(function() {{\n",
       "               LetsPlot.buildPlotFromProcessedSpecs(plotSpec, -1, -1, plotContainer);\n",
       "           }});\n",
       "       })();\n",
       "   </script>"
      ],
      "text/plain": [
       "<lets_plot.plot.core.PlotSpec at 0x13c60b730>"
      ]
     },
     "execution_count": 7,
     "metadata": {},
     "output_type": "execute_result"
    }
   ],
   "source": [
    "from lets_plot.mapping import as_discrete\n",
    "\n",
    "\n",
    "(ggplot(dat2) + \n",
    " geom_bar(aes(\"x\", fill=as_discrete(\"x\"))) + \n",
    " scale_fill_manual(name=\"O\", values=[\"red\", \"blue\"], labels=['No', 'Yes'])\n",
    ")\n"
   ]
  },
  {
   "cell_type": "code",
   "execution_count": null,
   "id": "8b90a77a",
   "metadata": {},
   "outputs": [],
   "source": []
  }
 ],
 "metadata": {
  "kernelspec": {
   "display_name": "Python 3 (ipykernel)",
   "language": "python",
   "name": "python3"
  },
  "language_info": {
   "codemirror_mode": {
    "name": "ipython",
    "version": 3
   },
   "file_extension": ".py",
   "mimetype": "text/x-python",
   "name": "python",
   "nbconvert_exporter": "python",
   "pygments_lexer": "ipython3",
   "version": "3.10.15"
  }
 },
 "nbformat": 4,
 "nbformat_minor": 5
}
