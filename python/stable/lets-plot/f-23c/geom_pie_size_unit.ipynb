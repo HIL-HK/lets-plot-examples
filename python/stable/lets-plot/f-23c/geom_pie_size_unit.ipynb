{
 "cells": [
  {
   "cell_type": "markdown",
   "id": "naval-norman",
   "metadata": {},
   "source": [
    "# Parameter `size_unit` in `geom_pie()`\n",
    "\n",
    "\n",
    "\n",
    "\n",
    "Use the `size_unit` parameter to relate the size of the \"pie\"\\\n",
    "to the length of the unit step along one of the axis.\n"
   ]
  },
  {
   "cell_type": "code",
   "execution_count": 1,
   "id": "intermediate-barrel",
   "metadata": {
    "execution": {
     "iopub.execute_input": "2024-10-02T08:39:09.676875Z",
     "iopub.status.busy": "2024-10-02T08:39:09.676574Z",
     "iopub.status.idle": "2024-10-02T08:39:10.116537Z",
     "shell.execute_reply": "2024-10-02T08:39:10.116203Z"
    }
   },
   "outputs": [],
   "source": [
    "import pandas as pd\n",
    "\n",
    "from lets_plot import *"
   ]
  },
  {
   "cell_type": "code",
   "execution_count": 2,
   "id": "eleven-camcorder",
   "metadata": {
    "execution": {
     "iopub.execute_input": "2024-10-02T08:39:10.117969Z",
     "iopub.status.busy": "2024-10-02T08:39:10.117851Z",
     "iopub.status.idle": "2024-10-02T08:39:10.120141Z",
     "shell.execute_reply": "2024-10-02T08:39:10.119905Z"
    }
   },
   "outputs": [
    {
     "data": {
      "text/html": [
       "\n",
       "            <div id=\"KvXb0V\"></div>\n",
       "            <script type=\"text/javascript\" data-lets-plot-script=\"library\">\n",
       "                if(!window.letsPlotCallQueue) {\n",
       "                    window.letsPlotCallQueue = [];\n",
       "                }; \n",
       "                window.letsPlotCall = function(f) {\n",
       "                    window.letsPlotCallQueue.push(f);\n",
       "                };\n",
       "                (function() {\n",
       "                    var script = document.createElement(\"script\");\n",
       "                    script.type = \"text/javascript\";\n",
       "                    script.src = \"https://cdn.jsdelivr.net/gh/JetBrains/lets-plot@v4.4.1/js-package/distr/lets-plot.min.js\";\n",
       "                    script.onload = function() {\n",
       "                        window.letsPlotCall = function(f) {f();};\n",
       "                        window.letsPlotCallQueue.forEach(function(f) {f();});\n",
       "                        window.letsPlotCallQueue = [];\n",
       "                        \n",
       "                    };\n",
       "                    script.onerror = function(event) {\n",
       "                        window.letsPlotCall = function(f) {};    // noop\n",
       "                        window.letsPlotCallQueue = [];\n",
       "                        var div = document.createElement(\"div\");\n",
       "                        div.style.color = 'darkred';\n",
       "                        div.textContent = 'Error loading Lets-Plot JS';\n",
       "                        document.getElementById(\"KvXb0V\").appendChild(div);\n",
       "                    };\n",
       "                    var e = document.getElementById(\"KvXb0V\");\n",
       "                    e.appendChild(script);\n",
       "                })()\n",
       "            </script>\n",
       "            "
      ]
     },
     "metadata": {},
     "output_type": "display_data"
    }
   ],
   "source": [
    "LetsPlot.setup_html()"
   ]
  },
  {
   "cell_type": "code",
   "execution_count": 3,
   "id": "secure-florist",
   "metadata": {
    "execution": {
     "iopub.execute_input": "2024-10-02T08:39:10.121283Z",
     "iopub.status.busy": "2024-10-02T08:39:10.121195Z",
     "iopub.status.idle": "2024-10-02T08:39:10.278398Z",
     "shell.execute_reply": "2024-10-02T08:39:10.278047Z"
    }
   },
   "outputs": [
    {
     "data": {
      "text/html": [
       "<div>\n",
       "<style scoped>\n",
       "    .dataframe tbody tr th:only-of-type {\n",
       "        vertical-align: middle;\n",
       "    }\n",
       "\n",
       "    .dataframe tbody tr th {\n",
       "        vertical-align: top;\n",
       "    }\n",
       "\n",
       "    .dataframe thead th {\n",
       "        text-align: right;\n",
       "    }\n",
       "</style>\n",
       "<table border=\"1\" class=\"dataframe\">\n",
       "  <thead>\n",
       "    <tr style=\"text-align: right;\">\n",
       "      <th></th>\n",
       "      <th>Unnamed: 0</th>\n",
       "      <th>manufacturer</th>\n",
       "      <th>model</th>\n",
       "      <th>displ</th>\n",
       "      <th>year</th>\n",
       "      <th>cyl</th>\n",
       "      <th>trans</th>\n",
       "      <th>drv</th>\n",
       "      <th>cty</th>\n",
       "      <th>hwy</th>\n",
       "      <th>fl</th>\n",
       "      <th>class</th>\n",
       "    </tr>\n",
       "  </thead>\n",
       "  <tbody>\n",
       "    <tr>\n",
       "      <th>0</th>\n",
       "      <td>1</td>\n",
       "      <td>audi</td>\n",
       "      <td>a4</td>\n",
       "      <td>1.8</td>\n",
       "      <td>1999</td>\n",
       "      <td>4</td>\n",
       "      <td>auto(l5)</td>\n",
       "      <td>f</td>\n",
       "      <td>18</td>\n",
       "      <td>29</td>\n",
       "      <td>p</td>\n",
       "      <td>compact</td>\n",
       "    </tr>\n",
       "    <tr>\n",
       "      <th>1</th>\n",
       "      <td>2</td>\n",
       "      <td>audi</td>\n",
       "      <td>a4</td>\n",
       "      <td>1.8</td>\n",
       "      <td>1999</td>\n",
       "      <td>4</td>\n",
       "      <td>manual(m5)</td>\n",
       "      <td>f</td>\n",
       "      <td>21</td>\n",
       "      <td>29</td>\n",
       "      <td>p</td>\n",
       "      <td>compact</td>\n",
       "    </tr>\n",
       "    <tr>\n",
       "      <th>2</th>\n",
       "      <td>3</td>\n",
       "      <td>audi</td>\n",
       "      <td>a4</td>\n",
       "      <td>2.0</td>\n",
       "      <td>2008</td>\n",
       "      <td>4</td>\n",
       "      <td>manual(m6)</td>\n",
       "      <td>f</td>\n",
       "      <td>20</td>\n",
       "      <td>31</td>\n",
       "      <td>p</td>\n",
       "      <td>compact</td>\n",
       "    </tr>\n",
       "  </tbody>\n",
       "</table>\n",
       "</div>"
      ],
      "text/plain": [
       "   Unnamed: 0 manufacturer model  displ  year  cyl       trans drv  cty  hwy  \\\n",
       "0           1         audi    a4    1.8  1999    4    auto(l5)   f   18   29   \n",
       "1           2         audi    a4    1.8  1999    4  manual(m5)   f   21   29   \n",
       "2           3         audi    a4    2.0  2008    4  manual(m6)   f   20   31   \n",
       "\n",
       "  fl    class  \n",
       "0  p  compact  \n",
       "1  p  compact  \n",
       "2  p  compact  "
      ]
     },
     "execution_count": 3,
     "metadata": {},
     "output_type": "execute_result"
    }
   ],
   "source": [
    "mpg_df = pd.read_csv(\"https://raw.githubusercontent.com/JetBrains/lets-plot-docs/master/data/mpg.csv\")\n",
    "mpg_df.head(3)"
   ]
  },
  {
   "cell_type": "code",
   "execution_count": 4,
   "id": "superb-dealer",
   "metadata": {
    "execution": {
     "iopub.execute_input": "2024-10-02T08:39:10.280177Z",
     "iopub.status.busy": "2024-10-02T08:39:10.280012Z",
     "iopub.status.idle": "2024-10-02T08:39:10.321657Z",
     "shell.execute_reply": "2024-10-02T08:39:10.321387Z"
    }
   },
   "outputs": [
    {
     "data": {
      "text/html": [
       "   <div id=\"rvzHfz\"></div>\n",
       "   <script type=\"text/javascript\" data-lets-plot-script=\"plot\">\n",
       "       (function() {\n",
       "           var plotSpec={\n",
       "\"data\":{\n",
       "},\n",
       "\"mapping\":{\n",
       "},\n",
       "\"data_meta\":{\n",
       "\"series_annotations\":[{\n",
       "\"type\":\"int\",\n",
       "\"column\":\"Unnamed: 0\"\n",
       "},{\n",
       "\"type\":\"str\",\n",
       "\"column\":\"manufacturer\"\n",
       "},{\n",
       "\"type\":\"str\",\n",
       "\"column\":\"model\"\n",
       "},{\n",
       "\"type\":\"float\",\n",
       "\"column\":\"displ\"\n",
       "},{\n",
       "\"type\":\"int\",\n",
       "\"column\":\"year\"\n",
       "},{\n",
       "\"type\":\"int\",\n",
       "\"column\":\"cyl\"\n",
       "},{\n",
       "\"type\":\"str\",\n",
       "\"column\":\"trans\"\n",
       "},{\n",
       "\"type\":\"str\",\n",
       "\"column\":\"drv\"\n",
       "},{\n",
       "\"type\":\"int\",\n",
       "\"column\":\"cty\"\n",
       "},{\n",
       "\"type\":\"int\",\n",
       "\"column\":\"hwy\"\n",
       "},{\n",
       "\"type\":\"str\",\n",
       "\"column\":\"fl\"\n",
       "},{\n",
       "\"type\":\"str\",\n",
       "\"column\":\"class\"\n",
       "}]\n",
       "},\n",
       "\"kind\":\"plot\",\n",
       "\"scales\":[],\n",
       "\"layers\":[{\n",
       "\"geom\":\"pie\",\n",
       "\"mapping\":{\n",
       "\"fill\":\"class\",\n",
       "\"weight\":\"displ\"\n",
       "},\n",
       "\"data_meta\":{\n",
       "},\n",
       "\"data\":{\n",
       "\"..x..\":[0.0,0.0,0.0,0.0,0.0,0.0,0.0],\n",
       "\"..y..\":[0.0,0.0,0.0,0.0,0.0,0.0,0.0],\n",
       "\"..count..\":[109.29999999999998,119.79999999999998,276.2999999999999,30.8,37.300000000000004,145.80000000000004,93.10000000000002],\n",
       "\"class\":[\"compact\",\"midsize\",\"suv\",\"2seater\",\"minivan\",\"pickup\",\"subcompact\"]\n",
       "}\n",
       "}],\n",
       "\"metainfo_list\":[]\n",
       "};\n",
       "           var plotContainer = document.getElementById(\"rvzHfz\");\n",
       "           window.letsPlotCall(function() {{\n",
       "               LetsPlot.buildPlotFromProcessedSpecs(plotSpec, -1, -1, plotContainer);\n",
       "           }});\n",
       "       })();\n",
       "   </script>"
      ],
      "text/plain": [
       "<lets_plot.plot.core.PlotSpec at 0x133bda2c0>"
      ]
     },
     "execution_count": 4,
     "metadata": {},
     "output_type": "execute_result"
    }
   ],
   "source": [
    "ggplot(mpg_df) + geom_pie(aes(fill='class', weight='displ'))"
   ]
  },
  {
   "cell_type": "markdown",
   "id": "ongoing-medicaid",
   "metadata": {},
   "source": [
    "#### 1. Make Pie' Diameter Equal to the Unit Step along the X-axis\n",
    "\n",
    "Parameters: `size=1, size_unit=\"x\"`."
   ]
  },
  {
   "cell_type": "code",
   "execution_count": 5,
   "id": "synthetic-shore",
   "metadata": {
    "execution": {
     "iopub.execute_input": "2024-10-02T08:39:10.322964Z",
     "iopub.status.busy": "2024-10-02T08:39:10.322871Z",
     "iopub.status.idle": "2024-10-02T08:39:10.327524Z",
     "shell.execute_reply": "2024-10-02T08:39:10.327312Z"
    }
   },
   "outputs": [
    {
     "data": {
      "text/html": [
       "   <div id=\"Qegohc\"></div>\n",
       "   <script type=\"text/javascript\" data-lets-plot-script=\"plot\">\n",
       "       (function() {\n",
       "           var plotSpec={\n",
       "\"data\":{\n",
       "},\n",
       "\"mapping\":{\n",
       "},\n",
       "\"data_meta\":{\n",
       "\"series_annotations\":[{\n",
       "\"type\":\"int\",\n",
       "\"column\":\"Unnamed: 0\"\n",
       "},{\n",
       "\"type\":\"str\",\n",
       "\"column\":\"manufacturer\"\n",
       "},{\n",
       "\"type\":\"str\",\n",
       "\"column\":\"model\"\n",
       "},{\n",
       "\"type\":\"float\",\n",
       "\"column\":\"displ\"\n",
       "},{\n",
       "\"type\":\"int\",\n",
       "\"column\":\"year\"\n",
       "},{\n",
       "\"type\":\"int\",\n",
       "\"column\":\"cyl\"\n",
       "},{\n",
       "\"type\":\"str\",\n",
       "\"column\":\"trans\"\n",
       "},{\n",
       "\"type\":\"str\",\n",
       "\"column\":\"drv\"\n",
       "},{\n",
       "\"type\":\"int\",\n",
       "\"column\":\"cty\"\n",
       "},{\n",
       "\"type\":\"int\",\n",
       "\"column\":\"hwy\"\n",
       "},{\n",
       "\"type\":\"str\",\n",
       "\"column\":\"fl\"\n",
       "},{\n",
       "\"type\":\"str\",\n",
       "\"column\":\"class\"\n",
       "}]\n",
       "},\n",
       "\"coord\":{\n",
       "\"name\":\"fixed\",\n",
       "\"ratio\":1.0,\n",
       "\"flip\":false\n",
       "},\n",
       "\"kind\":\"plot\",\n",
       "\"scales\":[],\n",
       "\"layers\":[{\n",
       "\"geom\":\"pie\",\n",
       "\"mapping\":{\n",
       "\"fill\":\"class\",\n",
       "\"weight\":\"displ\"\n",
       "},\n",
       "\"data_meta\":{\n",
       "},\n",
       "\"size_unit\":\"x\",\n",
       "\"size\":1.0,\n",
       "\"data\":{\n",
       "\"..x..\":[0.0,0.0,0.0,0.0,0.0,0.0,0.0],\n",
       "\"..y..\":[0.0,0.0,0.0,0.0,0.0,0.0,0.0],\n",
       "\"..count..\":[109.29999999999998,119.79999999999998,276.2999999999999,30.8,37.300000000000004,145.80000000000004,93.10000000000002],\n",
       "\"class\":[\"compact\",\"midsize\",\"suv\",\"2seater\",\"minivan\",\"pickup\",\"subcompact\"]\n",
       "}\n",
       "}],\n",
       "\"metainfo_list\":[]\n",
       "};\n",
       "           var plotContainer = document.getElementById(\"Qegohc\");\n",
       "           window.letsPlotCall(function() {{\n",
       "               LetsPlot.buildPlotFromProcessedSpecs(plotSpec, -1, -1, plotContainer);\n",
       "           }});\n",
       "       })();\n",
       "   </script>"
      ],
      "text/plain": [
       "<lets_plot.plot.core.PlotSpec at 0x135c40250>"
      ]
     },
     "execution_count": 5,
     "metadata": {},
     "output_type": "execute_result"
    }
   ],
   "source": [
    "ggplot(mpg_df) + \\\n",
    "    geom_pie(aes(fill='class', weight='displ'), size=1, size_unit=\"x\") + \\\n",
    "    coord_fixed()"
   ]
  },
  {
   "cell_type": "markdown",
   "id": "b07a541e",
   "metadata": {},
   "source": [
    "#### 2. Decrease the Pie' Diameter Slightly\n",
    "\n",
    "Parameters: `size=0.7, size_unit=\"x\"`."
   ]
  },
  {
   "cell_type": "code",
   "execution_count": 6,
   "id": "3635b6f9",
   "metadata": {
    "execution": {
     "iopub.execute_input": "2024-10-02T08:39:10.328655Z",
     "iopub.status.busy": "2024-10-02T08:39:10.328582Z",
     "iopub.status.idle": "2024-10-02T08:39:10.332996Z",
     "shell.execute_reply": "2024-10-02T08:39:10.332788Z"
    }
   },
   "outputs": [
    {
     "data": {
      "text/html": [
       "   <div id=\"ZDOuXt\"></div>\n",
       "   <script type=\"text/javascript\" data-lets-plot-script=\"plot\">\n",
       "       (function() {\n",
       "           var plotSpec={\n",
       "\"data\":{\n",
       "},\n",
       "\"mapping\":{\n",
       "},\n",
       "\"data_meta\":{\n",
       "\"series_annotations\":[{\n",
       "\"type\":\"int\",\n",
       "\"column\":\"Unnamed: 0\"\n",
       "},{\n",
       "\"type\":\"str\",\n",
       "\"column\":\"manufacturer\"\n",
       "},{\n",
       "\"type\":\"str\",\n",
       "\"column\":\"model\"\n",
       "},{\n",
       "\"type\":\"float\",\n",
       "\"column\":\"displ\"\n",
       "},{\n",
       "\"type\":\"int\",\n",
       "\"column\":\"year\"\n",
       "},{\n",
       "\"type\":\"int\",\n",
       "\"column\":\"cyl\"\n",
       "},{\n",
       "\"type\":\"str\",\n",
       "\"column\":\"trans\"\n",
       "},{\n",
       "\"type\":\"str\",\n",
       "\"column\":\"drv\"\n",
       "},{\n",
       "\"type\":\"int\",\n",
       "\"column\":\"cty\"\n",
       "},{\n",
       "\"type\":\"int\",\n",
       "\"column\":\"hwy\"\n",
       "},{\n",
       "\"type\":\"str\",\n",
       "\"column\":\"fl\"\n",
       "},{\n",
       "\"type\":\"str\",\n",
       "\"column\":\"class\"\n",
       "}]\n",
       "},\n",
       "\"coord\":{\n",
       "\"name\":\"fixed\",\n",
       "\"ratio\":1.0,\n",
       "\"flip\":false\n",
       "},\n",
       "\"theme\":{\n",
       "\"name\":\"classic\",\n",
       "\"line\":\"blank\",\n",
       "\"axis\":\"blank\"\n",
       "},\n",
       "\"kind\":\"plot\",\n",
       "\"scales\":[],\n",
       "\"layers\":[{\n",
       "\"geom\":\"pie\",\n",
       "\"mapping\":{\n",
       "\"fill\":\"class\",\n",
       "\"weight\":\"displ\"\n",
       "},\n",
       "\"data_meta\":{\n",
       "},\n",
       "\"size_unit\":\"x\",\n",
       "\"size\":0.7,\n",
       "\"data\":{\n",
       "\"..x..\":[0.0,0.0,0.0,0.0,0.0,0.0,0.0],\n",
       "\"..y..\":[0.0,0.0,0.0,0.0,0.0,0.0,0.0],\n",
       "\"..count..\":[109.29999999999998,119.79999999999998,276.2999999999999,30.8,37.300000000000004,145.80000000000004,93.10000000000002],\n",
       "\"class\":[\"compact\",\"midsize\",\"suv\",\"2seater\",\"minivan\",\"pickup\",\"subcompact\"]\n",
       "}\n",
       "}],\n",
       "\"metainfo_list\":[]\n",
       "};\n",
       "           var plotContainer = document.getElementById(\"ZDOuXt\");\n",
       "           window.letsPlotCall(function() {{\n",
       "               LetsPlot.buildPlotFromProcessedSpecs(plotSpec, -1, -1, plotContainer);\n",
       "           }});\n",
       "       })();\n",
       "   </script>"
      ],
      "text/plain": [
       "<lets_plot.plot.core.PlotSpec at 0x133bd9600>"
      ]
     },
     "execution_count": 6,
     "metadata": {},
     "output_type": "execute_result"
    }
   ],
   "source": [
    "ggplot(mpg_df) + \\\n",
    "    geom_pie(aes(fill='class', weight='displ'), size=0.7, size_unit=\"x\") + \\\n",
    "    coord_fixed() + \\\n",
    "    theme_void()"
   ]
  }
 ],
 "metadata": {
  "kernelspec": {
   "display_name": "Python 3 (ipykernel)",
   "language": "python",
   "name": "python3"
  },
  "language_info": {
   "codemirror_mode": {
    "name": "ipython",
    "version": 3
   },
   "file_extension": ".py",
   "mimetype": "text/x-python",
   "name": "python",
   "nbconvert_exporter": "python",
   "pygments_lexer": "ipython3",
   "version": "3.10.15"
  }
 },
 "nbformat": 4,
 "nbformat_minor": 5
}
