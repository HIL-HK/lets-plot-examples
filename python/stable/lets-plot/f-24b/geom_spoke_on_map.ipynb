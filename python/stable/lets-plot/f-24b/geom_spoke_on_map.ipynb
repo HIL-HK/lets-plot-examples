{
 "cells": [
  {
   "cell_type": "markdown",
   "id": "71ae9054",
   "metadata": {},
   "source": [
    "# `geom_spoke()` As a Layer of `geom_livemap()`"
   ]
  },
  {
   "cell_type": "code",
   "execution_count": 1,
   "id": "52aa8a3e",
   "metadata": {
    "execution": {
     "iopub.execute_input": "2024-11-06T18:59:43.378816Z",
     "iopub.status.busy": "2024-11-06T18:59:43.378479Z",
     "iopub.status.idle": "2024-11-06T18:59:43.817963Z",
     "shell.execute_reply": "2024-11-06T18:59:43.817654Z"
    }
   },
   "outputs": [],
   "source": [
    "import numpy as np\n",
    "from lets_plot import *"
   ]
  },
  {
   "cell_type": "code",
   "execution_count": 2,
   "id": "daf9e052",
   "metadata": {
    "execution": {
     "iopub.execute_input": "2024-11-06T18:59:43.819395Z",
     "iopub.status.busy": "2024-11-06T18:59:43.819286Z",
     "iopub.status.idle": "2024-11-06T18:59:43.821505Z",
     "shell.execute_reply": "2024-11-06T18:59:43.821307Z"
    }
   },
   "outputs": [
    {
     "data": {
      "text/html": [
       "\n",
       "            <div id=\"ofjcwL\"></div>\n",
       "            <script type=\"text/javascript\" data-lets-plot-script=\"library\">\n",
       "                if(!window.letsPlotCallQueue) {\n",
       "                    window.letsPlotCallQueue = [];\n",
       "                }; \n",
       "                window.letsPlotCall = function(f) {\n",
       "                    window.letsPlotCallQueue.push(f);\n",
       "                };\n",
       "                (function() {\n",
       "                    var script = document.createElement(\"script\");\n",
       "                    script.type = \"text/javascript\";\n",
       "                    script.src = \"https://cdn.jsdelivr.net/gh/JetBrains/lets-plot@v4.5.1/js-package/distr/lets-plot.min.js\";\n",
       "                    script.onload = function() {\n",
       "                        window.letsPlotCall = function(f) {f();};\n",
       "                        window.letsPlotCallQueue.forEach(function(f) {f();});\n",
       "                        window.letsPlotCallQueue = [];\n",
       "                        \n",
       "                    };\n",
       "                    script.onerror = function(event) {\n",
       "                        window.letsPlotCall = function(f) {};    // noop\n",
       "                        window.letsPlotCallQueue = [];\n",
       "                        var div = document.createElement(\"div\");\n",
       "                        div.style.color = 'darkred';\n",
       "                        div.textContent = 'Error loading Lets-Plot JS';\n",
       "                        document.getElementById(\"ofjcwL\").appendChild(div);\n",
       "                    };\n",
       "                    var e = document.getElementById(\"ofjcwL\");\n",
       "                    e.appendChild(script);\n",
       "                })()\n",
       "            </script>\n",
       "            "
      ]
     },
     "metadata": {},
     "output_type": "display_data"
    }
   ],
   "source": [
    "LetsPlot.setup_html()"
   ]
  },
  {
   "cell_type": "code",
   "execution_count": 3,
   "id": "d3b828e2",
   "metadata": {
    "execution": {
     "iopub.execute_input": "2024-11-06T18:59:43.822611Z",
     "iopub.status.busy": "2024-11-06T18:59:43.822538Z",
     "iopub.status.idle": "2024-11-06T18:59:43.824910Z",
     "shell.execute_reply": "2024-11-06T18:59:43.824728Z"
    }
   },
   "outputs": [],
   "source": [
    "X, Y = np.meshgrid([10, 20, 30, 40], [10, 20, 30, 40])\n",
    "\n",
    "angle = np.pi / 180 * np.array([[0, 0, 5, 20],\n",
    "                                [5, 10, 20, 50],\n",
    "                                [35, 50, 65, 75],\n",
    "                                [25, 30, 50, 80]])\n",
    "amplitude = np.array([[1.5, 2.0, 2.5, 5.0],\n",
    "                      [2.0, 2.5, 3.0, 6.0],\n",
    "                      [2.5, 3.6, 5.0, 7.0],\n",
    "                      [3.0, 4.5, 5.0, 5.0]])\n",
    "data = dict(x=X.reshape(-1), y=Y.reshape(-1), amplitude=amplitude.reshape(-1), angle=angle.reshape(-1))"
   ]
  },
  {
   "cell_type": "code",
   "execution_count": 4,
   "id": "e76870c5",
   "metadata": {
    "execution": {
     "iopub.execute_input": "2024-11-06T18:59:43.825878Z",
     "iopub.status.busy": "2024-11-06T18:59:43.825806Z",
     "iopub.status.idle": "2024-11-06T18:59:43.856865Z",
     "shell.execute_reply": "2024-11-06T18:59:43.856644Z"
    }
   },
   "outputs": [
    {
     "data": {
      "text/html": [
       "   <div id=\"6ivOn7\"></div>\n",
       "   <script type=\"text/javascript\" data-lets-plot-script=\"plot\">\n",
       "   \n",
       "   (function() {\n",
       "   // ----------\n",
       "   \n",
       "   var containerDiv = document.getElementById(\"6ivOn7\");\n",
       "   var observer = new ResizeObserver(function(entries) {\n",
       "       for (let entry of entries) {\n",
       "           var width = containerDiv.clientWidth\n",
       "           if (entry.contentBoxSize && width > 0) {\n",
       "           \n",
       "               // Render plot\n",
       "               if (observer) {\n",
       "                   observer.disconnect();\n",
       "                   observer = null;\n",
       "               }\n",
       "\n",
       "               var plotSpec={\n",
       "\"data\":{\n",
       "\"x\":[10.0,20.0,30.0,40.0,10.0,20.0,30.0,40.0,10.0,20.0,30.0,40.0,10.0,20.0,30.0,40.0],\n",
       "\"y\":[10.0,10.0,10.0,10.0,20.0,20.0,20.0,20.0,30.0,30.0,30.0,30.0,40.0,40.0,40.0,40.0],\n",
       "\"amplitude\":[1.5,2.0,2.5,5.0,2.0,2.5,3.0,6.0,2.5,3.6,5.0,7.0,3.0,4.5,5.0,5.0],\n",
       "\"angle\":[0.0,0.0,0.08726646259971647,0.3490658503988659,0.08726646259971647,0.17453292519943295,0.3490658503988659,0.8726646259971648,0.6108652381980153,0.8726646259971648,1.1344640137963142,1.3089969389957472,0.4363323129985824,0.5235987755982988,0.8726646259971648,1.3962634015954636]\n",
       "},\n",
       "\"mapping\":{\n",
       "\"x\":\"x\",\n",
       "\"y\":\"y\",\n",
       "\"color\":\"amplitude\"\n",
       "},\n",
       "\"data_meta\":{\n",
       "\"series_annotations\":[{\n",
       "\"type\":\"int\",\n",
       "\"column\":\"x\"\n",
       "},{\n",
       "\"type\":\"int\",\n",
       "\"column\":\"y\"\n",
       "},{\n",
       "\"type\":\"float\",\n",
       "\"column\":\"amplitude\"\n",
       "},{\n",
       "\"type\":\"float\",\n",
       "\"column\":\"angle\"\n",
       "}]\n",
       "},\n",
       "\"kind\":\"plot\",\n",
       "\"scales\":[{\n",
       "\"aesthetic\":\"color\",\n",
       "\"low\":\"#2c7bb6\",\n",
       "\"high\":\"#d7191c\",\n",
       "\"scale_mapper_kind\":\"color_gradient\"\n",
       "}],\n",
       "\"layers\":[{\n",
       "\"geom\":\"livemap\",\n",
       "\"mapping\":{\n",
       "},\n",
       "\"data_meta\":{\n",
       "},\n",
       "\"tiles\":{\n",
       "\"kind\":\"vector_lets_plot\",\n",
       "\"url\":\"wss://tiles.datalore.jetbrains.com\",\n",
       "\"theme\":\"color\",\n",
       "\"attribution\":\"<a href=\\\"https://lets-plot.org\\\">© Lets-Plot</a>, map data: <a href=\\\"https://www.openstreetmap.org/copyright\\\">© OpenStreetMap contributors</a>.\"\n",
       "},\n",
       "\"geocoding\":{\n",
       "\"url\":\"https://geo2.datalore.jetbrains.com/map_data/geocoding\"\n",
       "},\n",
       "\"data\":{\n",
       "}\n",
       "},{\n",
       "\"geom\":\"point\",\n",
       "\"mapping\":{\n",
       "},\n",
       "\"data_meta\":{\n",
       "},\n",
       "\"size\":4.0,\n",
       "\"data\":{\n",
       "}\n",
       "},{\n",
       "\"geom\":\"spoke\",\n",
       "\"mapping\":{\n",
       "\"angle\":\"angle\",\n",
       "\"radius\":\"amplitude\"\n",
       "},\n",
       "\"data_meta\":{\n",
       "},\n",
       "\"pivot\":\"tip\",\n",
       "\"size\":2.0,\n",
       "\"data\":{\n",
       "}\n",
       "}],\n",
       "\"metainfo_list\":[],\n",
       "\"spec_id\":\"1\"\n",
       "};\n",
       "               window.letsPlotCall(function() {\n",
       "       \n",
       "               var toolbar = null;\n",
       "               var plotContainer = containerDiv;               \n",
       "               \n",
       "                   var options = {\n",
       "                       sizing: {\n",
       "                           width_mode: \"min\",\n",
       "                           height_mode: \"scaled\",\n",
       "                           width: width\n",
       "                       }\n",
       "                   };\n",
       "                   var fig = LetsPlot.buildPlotFromProcessedSpecs(plotSpec, -1, -1, plotContainer, options);\n",
       "                   if (toolbar) {\n",
       "                     toolbar.bind(fig);\n",
       "                   }\n",
       "               });\n",
       "               \n",
       "               break;\n",
       "           }\n",
       "       }\n",
       "   });\n",
       "   \n",
       "   observer.observe(containerDiv);\n",
       "   \n",
       "   // ----------\n",
       "   })();\n",
       "   \n",
       "   </script>"
      ],
      "text/plain": [
       "<lets_plot.plot.core.PlotSpec at 0x1490708e0>"
      ]
     },
     "execution_count": 4,
     "metadata": {},
     "output_type": "execute_result"
    }
   ],
   "source": [
    "ggplot(data, aes('x', 'y', color='amplitude')) + \\\n",
    "    geom_livemap() + \\\n",
    "    geom_point(size=4) + \\\n",
    "    scale_color_gradient(low='#2c7bb6', high='#d7191c') + \\\n",
    "    geom_spoke(aes(angle='angle', radius='amplitude'), pivot='tip', size=2)"
   ]
  }
 ],
 "metadata": {
  "kernelspec": {
   "display_name": "Python 3 (ipykernel)",
   "language": "python",
   "name": "python3"
  },
  "language_info": {
   "codemirror_mode": {
    "name": "ipython",
    "version": 3
   },
   "file_extension": ".py",
   "mimetype": "text/x-python",
   "name": "python",
   "nbconvert_exporter": "python",
   "pygments_lexer": "ipython3",
   "version": "3.10.15"
  }
 },
 "nbformat": 4,
 "nbformat_minor": 5
}
