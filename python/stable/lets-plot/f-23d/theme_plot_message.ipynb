{
 "cells": [
  {
   "cell_type": "markdown",
   "id": "656e7b52",
   "metadata": {},
   "source": [
    "# Option to show/hide plot messages\n",
    "\n",
    "The option `plot_message` allows to hide messages produced by sampling."
   ]
  },
  {
   "cell_type": "code",
   "execution_count": 1,
   "id": "2eb0f327",
   "metadata": {
    "execution": {
     "iopub.execute_input": "2024-10-25T18:05:05.801408Z",
     "iopub.status.busy": "2024-10-25T18:05:05.800867Z",
     "iopub.status.idle": "2024-10-25T18:05:06.231184Z",
     "shell.execute_reply": "2024-10-25T18:05:06.230826Z"
    }
   },
   "outputs": [],
   "source": [
    "from lets_plot import *"
   ]
  },
  {
   "cell_type": "code",
   "execution_count": 2,
   "id": "cedf8b23-85e1-439e-8ba4-9587c7d2008e",
   "metadata": {
    "execution": {
     "iopub.execute_input": "2024-10-25T18:05:06.232602Z",
     "iopub.status.busy": "2024-10-25T18:05:06.232485Z",
     "iopub.status.idle": "2024-10-25T18:05:06.234638Z",
     "shell.execute_reply": "2024-10-25T18:05:06.234429Z"
    }
   },
   "outputs": [
    {
     "data": {
      "text/html": [
       "\n",
       "            <div id=\"kEWATU\"></div>\n",
       "            <script type=\"text/javascript\" data-lets-plot-script=\"library\">\n",
       "                if(!window.letsPlotCallQueue) {\n",
       "                    window.letsPlotCallQueue = [];\n",
       "                }; \n",
       "                window.letsPlotCall = function(f) {\n",
       "                    window.letsPlotCallQueue.push(f);\n",
       "                };\n",
       "                (function() {\n",
       "                    var script = document.createElement(\"script\");\n",
       "                    script.type = \"text/javascript\";\n",
       "                    script.src = \"https://cdn.jsdelivr.net/gh/JetBrains/lets-plot@v4.5.1/js-package/distr/lets-plot.min.js\";\n",
       "                    script.onload = function() {\n",
       "                        window.letsPlotCall = function(f) {f();};\n",
       "                        window.letsPlotCallQueue.forEach(function(f) {f();});\n",
       "                        window.letsPlotCallQueue = [];\n",
       "                        \n",
       "                    };\n",
       "                    script.onerror = function(event) {\n",
       "                        window.letsPlotCall = function(f) {};    // noop\n",
       "                        window.letsPlotCallQueue = [];\n",
       "                        var div = document.createElement(\"div\");\n",
       "                        div.style.color = 'darkred';\n",
       "                        div.textContent = 'Error loading Lets-Plot JS';\n",
       "                        document.getElementById(\"kEWATU\").appendChild(div);\n",
       "                    };\n",
       "                    var e = document.getElementById(\"kEWATU\");\n",
       "                    e.appendChild(script);\n",
       "                })()\n",
       "            </script>\n",
       "            "
      ]
     },
     "metadata": {},
     "output_type": "display_data"
    }
   ],
   "source": [
    "LetsPlot.setup_html()"
   ]
  },
  {
   "cell_type": "code",
   "execution_count": 3,
   "id": "1fc369a0-1d09-444c-bfa9-441258666ede",
   "metadata": {
    "execution": {
     "iopub.execute_input": "2024-10-25T18:05:06.235735Z",
     "iopub.status.busy": "2024-10-25T18:05:06.235659Z",
     "iopub.status.idle": "2024-10-25T18:05:06.237266Z",
     "shell.execute_reply": "2024-10-25T18:05:06.237032Z"
    }
   },
   "outputs": [],
   "source": [
    "d = { \n",
    "    'x': [it for it in range(100)] \n",
    "}"
   ]
  },
  {
   "cell_type": "code",
   "execution_count": 4,
   "id": "fc5e08e6-227d-442d-bcf1-a09d84c14e67",
   "metadata": {
    "execution": {
     "iopub.execute_input": "2024-10-25T18:05:06.238331Z",
     "iopub.status.busy": "2024-10-25T18:05:06.238262Z",
     "iopub.status.idle": "2024-10-25T18:05:06.265744Z",
     "shell.execute_reply": "2024-10-25T18:05:06.265516Z"
    }
   },
   "outputs": [
    {
     "data": {
      "text/html": [
       "   <div id=\"VUsDX4\"></div>\n",
       "   <script type=\"text/javascript\" data-lets-plot-script=\"plot\">\n",
       "   \n",
       "   (function() {\n",
       "   // ----------\n",
       "   \n",
       "   var containerDiv = document.getElementById(\"VUsDX4\");\n",
       "   var observer = new ResizeObserver(function(entries) {\n",
       "       for (let entry of entries) {\n",
       "           var width = containerDiv.clientWidth\n",
       "           if (entry.contentBoxSize && width > 0) {\n",
       "           \n",
       "               // Render plot\n",
       "               if (observer) {\n",
       "                   observer.disconnect();\n",
       "                   observer = null;\n",
       "               }\n",
       "\n",
       "               var plotSpec={\n",
       "\"data\":{\n",
       "},\n",
       "\"mapping\":{\n",
       "},\n",
       "\"data_meta\":{\n",
       "\"series_annotations\":[{\n",
       "\"type\":\"int\",\n",
       "\"column\":\"x\"\n",
       "}]\n",
       "},\n",
       "\"kind\":\"plot\",\n",
       "\"scales\":[],\n",
       "\"layers\":[{\n",
       "\"geom\":\"point\",\n",
       "\"mapping\":{\n",
       "\"x\":\"x\"\n",
       "},\n",
       "\"sampling\":{\n",
       "\"name\":\"random\",\n",
       "\"n\":10.0,\n",
       "\"seed\":42.0\n",
       "},\n",
       "\"data_meta\":{\n",
       "},\n",
       "\"data\":{\n",
       "\"x\":[2.0,21.0,32.0,33.0,40.0,41.0,52.0,67.0,69.0,87.0]\n",
       "}\n",
       "}],\n",
       "\"metainfo_list\":[],\n",
       "\"spec_id\":\"1\",\n",
       "\"computation_messages\":[\"sampling_random(n=10, seed=42) was applied to [point/identity stat] layer\"]\n",
       "};\n",
       "               window.letsPlotCall(function() {\n",
       "       \n",
       "               var toolbar = null;\n",
       "               var plotContainer = containerDiv;               \n",
       "               \n",
       "                   var options = {\n",
       "                       sizing: {\n",
       "                           width_mode: \"min\",\n",
       "                           height_mode: \"scaled\",\n",
       "                           width: width\n",
       "                       }\n",
       "                   };\n",
       "                   var fig = LetsPlot.buildPlotFromProcessedSpecs(plotSpec, -1, -1, plotContainer, options);\n",
       "                   if (toolbar) {\n",
       "                     toolbar.bind(fig);\n",
       "                   }\n",
       "               });\n",
       "               \n",
       "               break;\n",
       "           }\n",
       "       }\n",
       "   });\n",
       "   \n",
       "   observer.observe(containerDiv);\n",
       "   \n",
       "   // ----------\n",
       "   })();\n",
       "   \n",
       "   </script>"
      ],
      "text/plain": [
       "<lets_plot.plot.core.PlotSpec at 0x136784880>"
      ]
     },
     "execution_count": 4,
     "metadata": {},
     "output_type": "execute_result"
    }
   ],
   "source": [
    "p = ggplot(d) + geom_point(aes(x='x'), sampling=sampling_random(n=10, seed=42))\n",
    "p"
   ]
  },
  {
   "cell_type": "markdown",
   "id": "707fec5f-4e3c-4cd4-becc-aa123d66029b",
   "metadata": {},
   "source": [
    "### Using the `plot_message` parameter"
   ]
  },
  {
   "cell_type": "code",
   "execution_count": 5,
   "id": "2a0e59d1",
   "metadata": {
    "execution": {
     "iopub.execute_input": "2024-10-25T18:05:06.266905Z",
     "iopub.status.busy": "2024-10-25T18:05:06.266827Z",
     "iopub.status.idle": "2024-10-25T18:05:06.269267Z",
     "shell.execute_reply": "2024-10-25T18:05:06.269059Z"
    }
   },
   "outputs": [
    {
     "data": {
      "text/html": [
       "   <div id=\"e4h2UG\"></div>\n",
       "   <script type=\"text/javascript\" data-lets-plot-script=\"plot\">\n",
       "   \n",
       "   (function() {\n",
       "   // ----------\n",
       "   \n",
       "   var containerDiv = document.getElementById(\"e4h2UG\");\n",
       "   var observer = new ResizeObserver(function(entries) {\n",
       "       for (let entry of entries) {\n",
       "           var width = containerDiv.clientWidth\n",
       "           if (entry.contentBoxSize && width > 0) {\n",
       "           \n",
       "               // Render plot\n",
       "               if (observer) {\n",
       "                   observer.disconnect();\n",
       "                   observer = null;\n",
       "               }\n",
       "\n",
       "               var plotSpec={\n",
       "\"data\":{\n",
       "},\n",
       "\"mapping\":{\n",
       "},\n",
       "\"data_meta\":{\n",
       "\"series_annotations\":[{\n",
       "\"type\":\"int\",\n",
       "\"column\":\"x\"\n",
       "}]\n",
       "},\n",
       "\"theme\":{\n",
       "\"plot_message\":\"blank\"\n",
       "},\n",
       "\"kind\":\"plot\",\n",
       "\"scales\":[],\n",
       "\"layers\":[{\n",
       "\"geom\":\"point\",\n",
       "\"mapping\":{\n",
       "\"x\":\"x\"\n",
       "},\n",
       "\"sampling\":{\n",
       "\"name\":\"random\",\n",
       "\"n\":10.0,\n",
       "\"seed\":42.0\n",
       "},\n",
       "\"data_meta\":{\n",
       "},\n",
       "\"data\":{\n",
       "\"x\":[2.0,21.0,32.0,33.0,40.0,41.0,52.0,67.0,69.0,87.0]\n",
       "}\n",
       "}],\n",
       "\"metainfo_list\":[],\n",
       "\"spec_id\":\"2\"\n",
       "};\n",
       "               window.letsPlotCall(function() {\n",
       "       \n",
       "               var toolbar = null;\n",
       "               var plotContainer = containerDiv;               \n",
       "               \n",
       "                   var options = {\n",
       "                       sizing: {\n",
       "                           width_mode: \"min\",\n",
       "                           height_mode: \"scaled\",\n",
       "                           width: width\n",
       "                       }\n",
       "                   };\n",
       "                   var fig = LetsPlot.buildPlotFromProcessedSpecs(plotSpec, -1, -1, plotContainer, options);\n",
       "                   if (toolbar) {\n",
       "                     toolbar.bind(fig);\n",
       "                   }\n",
       "               });\n",
       "               \n",
       "               break;\n",
       "           }\n",
       "       }\n",
       "   });\n",
       "   \n",
       "   observer.observe(containerDiv);\n",
       "   \n",
       "   // ----------\n",
       "   })();\n",
       "   \n",
       "   </script>"
      ],
      "text/plain": [
       "<lets_plot.plot.core.PlotSpec at 0x1367844c0>"
      ]
     },
     "execution_count": 5,
     "metadata": {},
     "output_type": "execute_result"
    }
   ],
   "source": [
    "p + theme(plot_message='blank')"
   ]
  },
  {
   "cell_type": "markdown",
   "id": "7935ee20",
   "metadata": {},
   "source": [
    "### Hiding plot messages for the whole notebook\n",
    "\n",
    "Using the `LestPlot.set_theme(...)` function messages can be suppressed for the whole notebook."
   ]
  },
  {
   "cell_type": "code",
   "execution_count": 6,
   "id": "b76694b7",
   "metadata": {
    "execution": {
     "iopub.execute_input": "2024-10-25T18:05:06.270285Z",
     "iopub.status.busy": "2024-10-25T18:05:06.270215Z",
     "iopub.status.idle": "2024-10-25T18:05:06.272711Z",
     "shell.execute_reply": "2024-10-25T18:05:06.272508Z"
    }
   },
   "outputs": [
    {
     "data": {
      "text/html": [
       "   <div id=\"poqfjZ\"></div>\n",
       "   <script type=\"text/javascript\" data-lets-plot-script=\"plot\">\n",
       "   \n",
       "   (function() {\n",
       "   // ----------\n",
       "   \n",
       "   var containerDiv = document.getElementById(\"poqfjZ\");\n",
       "   var observer = new ResizeObserver(function(entries) {\n",
       "       for (let entry of entries) {\n",
       "           var width = containerDiv.clientWidth\n",
       "           if (entry.contentBoxSize && width > 0) {\n",
       "           \n",
       "               // Render plot\n",
       "               if (observer) {\n",
       "                   observer.disconnect();\n",
       "                   observer = null;\n",
       "               }\n",
       "\n",
       "               var plotSpec={\n",
       "\"data\":{\n",
       "},\n",
       "\"mapping\":{\n",
       "},\n",
       "\"data_meta\":{\n",
       "\"series_annotations\":[{\n",
       "\"type\":\"int\",\n",
       "\"column\":\"x\"\n",
       "}]\n",
       "},\n",
       "\"theme\":{\n",
       "\"plot_message\":\"blank\"\n",
       "},\n",
       "\"kind\":\"plot\",\n",
       "\"scales\":[],\n",
       "\"layers\":[{\n",
       "\"geom\":\"point\",\n",
       "\"mapping\":{\n",
       "\"x\":\"x\"\n",
       "},\n",
       "\"sampling\":{\n",
       "\"name\":\"random\",\n",
       "\"n\":10.0,\n",
       "\"seed\":42.0\n",
       "},\n",
       "\"data_meta\":{\n",
       "},\n",
       "\"data\":{\n",
       "\"x\":[2.0,21.0,32.0,33.0,40.0,41.0,52.0,67.0,69.0,87.0]\n",
       "}\n",
       "}],\n",
       "\"metainfo_list\":[],\n",
       "\"spec_id\":\"3\"\n",
       "};\n",
       "               window.letsPlotCall(function() {\n",
       "       \n",
       "               var toolbar = null;\n",
       "               var plotContainer = containerDiv;               \n",
       "               \n",
       "                   var options = {\n",
       "                       sizing: {\n",
       "                           width_mode: \"min\",\n",
       "                           height_mode: \"scaled\",\n",
       "                           width: width\n",
       "                       }\n",
       "                   };\n",
       "                   var fig = LetsPlot.buildPlotFromProcessedSpecs(plotSpec, -1, -1, plotContainer, options);\n",
       "                   if (toolbar) {\n",
       "                     toolbar.bind(fig);\n",
       "                   }\n",
       "               });\n",
       "               \n",
       "               break;\n",
       "           }\n",
       "       }\n",
       "   });\n",
       "   \n",
       "   observer.observe(containerDiv);\n",
       "   \n",
       "   // ----------\n",
       "   })();\n",
       "   \n",
       "   </script>"
      ],
      "text/plain": [
       "<lets_plot.plot.core.PlotSpec at 0x136a9c9a0>"
      ]
     },
     "execution_count": 6,
     "metadata": {},
     "output_type": "execute_result"
    }
   ],
   "source": [
    "LetsPlot.set_theme(theme(plot_message='blank'))\n",
    "ggplot(d) + geom_point(aes(x='x'), sampling=sampling_random(n=10, seed=42))"
   ]
  }
 ],
 "metadata": {
  "kernelspec": {
   "display_name": "Python 3 (ipykernel)",
   "language": "python",
   "name": "python3"
  },
  "language_info": {
   "codemirror_mode": {
    "name": "ipython",
    "version": 3
   },
   "file_extension": ".py",
   "mimetype": "text/x-python",
   "name": "python",
   "nbconvert_exporter": "python",
   "pygments_lexer": "ipython3",
   "version": "3.10.15"
  }
 },
 "nbformat": 4,
 "nbformat_minor": 5
}
