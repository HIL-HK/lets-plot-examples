{
 "cells": [
  {
   "cell_type": "markdown",
   "id": "656e7b52",
   "metadata": {},
   "source": [
    "# Option to show/hide plot messages\n",
    "\n",
    "The option `plot_message` allows to hide messages produced by sampling."
   ]
  },
  {
   "cell_type": "code",
   "execution_count": 1,
   "id": "2eb0f327",
   "metadata": {
    "execution": {
     "iopub.execute_input": "2024-10-02T08:39:05.291613Z",
     "iopub.status.busy": "2024-10-02T08:39:05.291266Z",
     "iopub.status.idle": "2024-10-02T08:39:05.740313Z",
     "shell.execute_reply": "2024-10-02T08:39:05.739955Z"
    }
   },
   "outputs": [],
   "source": [
    "from lets_plot import *"
   ]
  },
  {
   "cell_type": "code",
   "execution_count": 2,
   "id": "cedf8b23-85e1-439e-8ba4-9587c7d2008e",
   "metadata": {
    "execution": {
     "iopub.execute_input": "2024-10-02T08:39:05.741717Z",
     "iopub.status.busy": "2024-10-02T08:39:05.741603Z",
     "iopub.status.idle": "2024-10-02T08:39:05.743817Z",
     "shell.execute_reply": "2024-10-02T08:39:05.743610Z"
    }
   },
   "outputs": [
    {
     "data": {
      "text/html": [
       "\n",
       "            <div id=\"Gwe932\"></div>\n",
       "            <script type=\"text/javascript\" data-lets-plot-script=\"library\">\n",
       "                if(!window.letsPlotCallQueue) {\n",
       "                    window.letsPlotCallQueue = [];\n",
       "                }; \n",
       "                window.letsPlotCall = function(f) {\n",
       "                    window.letsPlotCallQueue.push(f);\n",
       "                };\n",
       "                (function() {\n",
       "                    var script = document.createElement(\"script\");\n",
       "                    script.type = \"text/javascript\";\n",
       "                    script.src = \"https://cdn.jsdelivr.net/gh/JetBrains/lets-plot@v4.4.1/js-package/distr/lets-plot.min.js\";\n",
       "                    script.onload = function() {\n",
       "                        window.letsPlotCall = function(f) {f();};\n",
       "                        window.letsPlotCallQueue.forEach(function(f) {f();});\n",
       "                        window.letsPlotCallQueue = [];\n",
       "                        \n",
       "                    };\n",
       "                    script.onerror = function(event) {\n",
       "                        window.letsPlotCall = function(f) {};    // noop\n",
       "                        window.letsPlotCallQueue = [];\n",
       "                        var div = document.createElement(\"div\");\n",
       "                        div.style.color = 'darkred';\n",
       "                        div.textContent = 'Error loading Lets-Plot JS';\n",
       "                        document.getElementById(\"Gwe932\").appendChild(div);\n",
       "                    };\n",
       "                    var e = document.getElementById(\"Gwe932\");\n",
       "                    e.appendChild(script);\n",
       "                })()\n",
       "            </script>\n",
       "            "
      ]
     },
     "metadata": {},
     "output_type": "display_data"
    }
   ],
   "source": [
    "LetsPlot.setup_html()"
   ]
  },
  {
   "cell_type": "code",
   "execution_count": 3,
   "id": "1fc369a0-1d09-444c-bfa9-441258666ede",
   "metadata": {
    "execution": {
     "iopub.execute_input": "2024-10-02T08:39:05.744872Z",
     "iopub.status.busy": "2024-10-02T08:39:05.744792Z",
     "iopub.status.idle": "2024-10-02T08:39:05.746585Z",
     "shell.execute_reply": "2024-10-02T08:39:05.746326Z"
    }
   },
   "outputs": [],
   "source": [
    "d = { \n",
    "    'x': [it for it in range(100)] \n",
    "}"
   ]
  },
  {
   "cell_type": "code",
   "execution_count": 4,
   "id": "fc5e08e6-227d-442d-bcf1-a09d84c14e67",
   "metadata": {
    "execution": {
     "iopub.execute_input": "2024-10-02T08:39:05.747589Z",
     "iopub.status.busy": "2024-10-02T08:39:05.747513Z",
     "iopub.status.idle": "2024-10-02T08:39:05.776821Z",
     "shell.execute_reply": "2024-10-02T08:39:05.776573Z"
    }
   },
   "outputs": [
    {
     "data": {
      "text/html": [
       "   <div id=\"tFMRX8\"></div>\n",
       "   <script type=\"text/javascript\" data-lets-plot-script=\"plot\">\n",
       "       (function() {\n",
       "           var plotSpec={\n",
       "\"data\":{\n",
       "},\n",
       "\"mapping\":{\n",
       "},\n",
       "\"data_meta\":{\n",
       "\"series_annotations\":[{\n",
       "\"type\":\"int\",\n",
       "\"column\":\"x\"\n",
       "}]\n",
       "},\n",
       "\"kind\":\"plot\",\n",
       "\"scales\":[],\n",
       "\"layers\":[{\n",
       "\"geom\":\"point\",\n",
       "\"mapping\":{\n",
       "\"x\":\"x\"\n",
       "},\n",
       "\"sampling\":{\n",
       "\"name\":\"random\",\n",
       "\"n\":10.0,\n",
       "\"seed\":42.0\n",
       "},\n",
       "\"data_meta\":{\n",
       "},\n",
       "\"data\":{\n",
       "\"x\":[2.0,21.0,32.0,33.0,40.0,41.0,52.0,67.0,69.0,87.0]\n",
       "}\n",
       "}],\n",
       "\"metainfo_list\":[],\n",
       "\"computation_messages\":[\"sampling_random(n=10, seed=42) was applied to [point/identity stat] layer\"]\n",
       "};\n",
       "           var plotContainer = document.getElementById(\"tFMRX8\");\n",
       "           window.letsPlotCall(function() {{\n",
       "               LetsPlot.buildPlotFromProcessedSpecs(plotSpec, -1, -1, plotContainer);\n",
       "           }});\n",
       "       })();\n",
       "   </script>"
      ],
      "text/plain": [
       "<lets_plot.plot.core.PlotSpec at 0x1479835b0>"
      ]
     },
     "execution_count": 4,
     "metadata": {},
     "output_type": "execute_result"
    }
   ],
   "source": [
    "p = ggplot(d) + geom_point(aes(x='x'), sampling=sampling_random(n=10, seed=42))\n",
    "p"
   ]
  },
  {
   "cell_type": "markdown",
   "id": "707fec5f-4e3c-4cd4-becc-aa123d66029b",
   "metadata": {},
   "source": [
    "### Using the `plot_message` parameter"
   ]
  },
  {
   "cell_type": "code",
   "execution_count": 5,
   "id": "2a0e59d1",
   "metadata": {
    "execution": {
     "iopub.execute_input": "2024-10-02T08:39:05.778574Z",
     "iopub.status.busy": "2024-10-02T08:39:05.778423Z",
     "iopub.status.idle": "2024-10-02T08:39:05.781157Z",
     "shell.execute_reply": "2024-10-02T08:39:05.780940Z"
    }
   },
   "outputs": [
    {
     "data": {
      "text/html": [
       "   <div id=\"gXEo3K\"></div>\n",
       "   <script type=\"text/javascript\" data-lets-plot-script=\"plot\">\n",
       "       (function() {\n",
       "           var plotSpec={\n",
       "\"data\":{\n",
       "},\n",
       "\"mapping\":{\n",
       "},\n",
       "\"data_meta\":{\n",
       "\"series_annotations\":[{\n",
       "\"type\":\"int\",\n",
       "\"column\":\"x\"\n",
       "}]\n",
       "},\n",
       "\"theme\":{\n",
       "\"plot_message\":\"blank\"\n",
       "},\n",
       "\"kind\":\"plot\",\n",
       "\"scales\":[],\n",
       "\"layers\":[{\n",
       "\"geom\":\"point\",\n",
       "\"mapping\":{\n",
       "\"x\":\"x\"\n",
       "},\n",
       "\"sampling\":{\n",
       "\"name\":\"random\",\n",
       "\"n\":10.0,\n",
       "\"seed\":42.0\n",
       "},\n",
       "\"data_meta\":{\n",
       "},\n",
       "\"data\":{\n",
       "\"x\":[2.0,21.0,32.0,33.0,40.0,41.0,52.0,67.0,69.0,87.0]\n",
       "}\n",
       "}],\n",
       "\"metainfo_list\":[]\n",
       "};\n",
       "           var plotContainer = document.getElementById(\"gXEo3K\");\n",
       "           window.letsPlotCall(function() {{\n",
       "               LetsPlot.buildPlotFromProcessedSpecs(plotSpec, -1, -1, plotContainer);\n",
       "           }});\n",
       "       })();\n",
       "   </script>"
      ],
      "text/plain": [
       "<lets_plot.plot.core.PlotSpec at 0x149a121d0>"
      ]
     },
     "execution_count": 5,
     "metadata": {},
     "output_type": "execute_result"
    }
   ],
   "source": [
    "p + theme(plot_message='blank')"
   ]
  },
  {
   "cell_type": "markdown",
   "id": "7935ee20",
   "metadata": {},
   "source": [
    "### Hiding plot messages for the whole notebook\n",
    "\n",
    "Using the `LestPlot.set_theme(...)` function messages can be suppressed for the whole notebook."
   ]
  },
  {
   "cell_type": "code",
   "execution_count": 6,
   "id": "b76694b7",
   "metadata": {
    "execution": {
     "iopub.execute_input": "2024-10-02T08:39:05.782237Z",
     "iopub.status.busy": "2024-10-02T08:39:05.782155Z",
     "iopub.status.idle": "2024-10-02T08:39:05.784507Z",
     "shell.execute_reply": "2024-10-02T08:39:05.784309Z"
    }
   },
   "outputs": [
    {
     "data": {
      "text/html": [
       "   <div id=\"npQooY\"></div>\n",
       "   <script type=\"text/javascript\" data-lets-plot-script=\"plot\">\n",
       "       (function() {\n",
       "           var plotSpec={\n",
       "\"data\":{\n",
       "},\n",
       "\"mapping\":{\n",
       "},\n",
       "\"data_meta\":{\n",
       "\"series_annotations\":[{\n",
       "\"type\":\"int\",\n",
       "\"column\":\"x\"\n",
       "}]\n",
       "},\n",
       "\"theme\":{\n",
       "\"plot_message\":\"blank\"\n",
       "},\n",
       "\"kind\":\"plot\",\n",
       "\"scales\":[],\n",
       "\"layers\":[{\n",
       "\"geom\":\"point\",\n",
       "\"mapping\":{\n",
       "\"x\":\"x\"\n",
       "},\n",
       "\"sampling\":{\n",
       "\"name\":\"random\",\n",
       "\"n\":10.0,\n",
       "\"seed\":42.0\n",
       "},\n",
       "\"data_meta\":{\n",
       "},\n",
       "\"data\":{\n",
       "\"x\":[2.0,21.0,32.0,33.0,40.0,41.0,52.0,67.0,69.0,87.0]\n",
       "}\n",
       "}],\n",
       "\"metainfo_list\":[]\n",
       "};\n",
       "           var plotContainer = document.getElementById(\"npQooY\");\n",
       "           window.letsPlotCall(function() {{\n",
       "               LetsPlot.buildPlotFromProcessedSpecs(plotSpec, -1, -1, plotContainer);\n",
       "           }});\n",
       "       })();\n",
       "   </script>"
      ],
      "text/plain": [
       "<lets_plot.plot.core.PlotSpec at 0x149a130a0>"
      ]
     },
     "execution_count": 6,
     "metadata": {},
     "output_type": "execute_result"
    }
   ],
   "source": [
    "LetsPlot.set_theme(theme(plot_message='blank'))\n",
    "ggplot(d) + geom_point(aes(x='x'), sampling=sampling_random(n=10, seed=42))"
   ]
  }
 ],
 "metadata": {
  "kernelspec": {
   "display_name": "Python 3 (ipykernel)",
   "language": "python",
   "name": "python3"
  },
  "language_info": {
   "codemirror_mode": {
    "name": "ipython",
    "version": 3
   },
   "file_extension": ".py",
   "mimetype": "text/x-python",
   "name": "python",
   "nbconvert_exporter": "python",
   "pygments_lexer": "ipython3",
   "version": "3.10.15"
  }
 },
 "nbformat": 4,
 "nbformat_minor": 5
}
