{
 "cells": [
  {
   "cell_type": "markdown",
   "metadata": {},
   "source": [
    "Use this notebook to obtain \"expected\" values for \n",
    "```\n",
    "test_geom_imshow_alpha.py\n",
    "```\n",
    "test suite."
   ]
  },
  {
   "cell_type": "code",
   "execution_count": 1,
   "metadata": {
    "execution": {
     "iopub.execute_input": "2024-10-02T08:42:09.102208Z",
     "iopub.status.busy": "2024-10-02T08:42:09.101904Z",
     "iopub.status.idle": "2024-10-02T08:42:09.552478Z",
     "shell.execute_reply": "2024-10-02T08:42:09.552166Z"
    }
   },
   "outputs": [
    {
     "data": {
      "text/html": [
       "\n",
       "            <div id=\"IUlMy4\"></div>\n",
       "            <script type=\"text/javascript\" data-lets-plot-script=\"library\">\n",
       "                if(!window.letsPlotCallQueue) {\n",
       "                    window.letsPlotCallQueue = [];\n",
       "                }; \n",
       "                window.letsPlotCall = function(f) {\n",
       "                    window.letsPlotCallQueue.push(f);\n",
       "                };\n",
       "                (function() {\n",
       "                    var script = document.createElement(\"script\");\n",
       "                    script.type = \"text/javascript\";\n",
       "                    script.src = \"https://cdn.jsdelivr.net/gh/JetBrains/lets-plot@v4.4.1/js-package/distr/lets-plot.min.js\";\n",
       "                    script.onload = function() {\n",
       "                        window.letsPlotCall = function(f) {f();};\n",
       "                        window.letsPlotCallQueue.forEach(function(f) {f();});\n",
       "                        window.letsPlotCallQueue = [];\n",
       "                        \n",
       "                    };\n",
       "                    script.onerror = function(event) {\n",
       "                        window.letsPlotCall = function(f) {};    // noop\n",
       "                        window.letsPlotCallQueue = [];\n",
       "                        var div = document.createElement(\"div\");\n",
       "                        div.style.color = 'darkred';\n",
       "                        div.textContent = 'Error loading Lets-Plot JS';\n",
       "                        document.getElementById(\"IUlMy4\").appendChild(div);\n",
       "                    };\n",
       "                    var e = document.getElementById(\"IUlMy4\");\n",
       "                    e.appendChild(script);\n",
       "                })()\n",
       "            </script>\n",
       "            "
      ]
     },
     "metadata": {},
     "output_type": "display_data"
    }
   ],
   "source": [
    "import numpy as np\n",
    "from lets_plot import *\n",
    "\n",
    "LetsPlot.setup_html()\n"
   ]
  },
  {
   "cell_type": "code",
   "execution_count": 2,
   "metadata": {
    "execution": {
     "iopub.execute_input": "2024-10-02T08:42:09.569035Z",
     "iopub.status.busy": "2024-10-02T08:42:09.568868Z",
     "iopub.status.idle": "2024-10-02T08:42:09.570607Z",
     "shell.execute_reply": "2024-10-02T08:42:09.570342Z"
    }
   },
   "outputs": [],
   "source": [
    "LetsPlot.set_theme(flavor_solarized_light())"
   ]
  },
  {
   "cell_type": "markdown",
   "metadata": {},
   "source": [
    "### Greyscale image"
   ]
  },
  {
   "cell_type": "code",
   "execution_count": 3,
   "metadata": {
    "execution": {
     "iopub.execute_input": "2024-10-02T08:42:09.571888Z",
     "iopub.status.busy": "2024-10-02T08:42:09.571809Z",
     "iopub.status.idle": "2024-10-02T08:42:09.573553Z",
     "shell.execute_reply": "2024-10-02T08:42:09.573333Z"
    }
   },
   "outputs": [],
   "source": [
    "arr = np.array([\n",
    "    [50, 150, 200],\n",
    "    [200, 100, 50]\n",
    "    ])\n"
   ]
  },
  {
   "cell_type": "code",
   "execution_count": 4,
   "metadata": {
    "execution": {
     "iopub.execute_input": "2024-10-02T08:42:09.574665Z",
     "iopub.status.busy": "2024-10-02T08:42:09.574575Z",
     "iopub.status.idle": "2024-10-02T08:42:09.605873Z",
     "shell.execute_reply": "2024-10-02T08:42:09.605617Z"
    }
   },
   "outputs": [
    {
     "data": {
      "text/html": [
       "   <div id=\"WMrKLv\"></div>\n",
       "   <script type=\"text/javascript\" data-lets-plot-script=\"plot\">\n",
       "       (function() {\n",
       "           var plotSpec={\n",
       "\"mapping\":{\n",
       "},\n",
       "\"data_meta\":{\n",
       "},\n",
       "\"theme\":{\n",
       "\"flavor\":\"solarized_light\"\n",
       "},\n",
       "\"kind\":\"plot\",\n",
       "\"scales\":[{\n",
       "\"name\":\"\",\n",
       "\"aesthetic\":\"paint_c\",\n",
       "\"start\":0.0,\n",
       "\"end\":1.0,\n",
       "\"scale_mapper_kind\":\"color_grey\"\n",
       "}],\n",
       "\"layers\":[{\n",
       "\"geom\":\"image\",\n",
       "\"mapping\":{\n",
       "\"paint_c\":\"paint_c\"\n",
       "},\n",
       "\"show_legend\":true,\n",
       "\"data_meta\":{\n",
       "},\n",
       "\"href\":\"data:image/png;base64,iVBORw0KGgoAAAANSUhEUgAAAAMAAAACCAQAAAA3fa6RAAAAFklEQVR4nGNgaFjV8L+B4X9DaANDAwArIQX+DAv9MwAAAABJRU5ErkJggg==\",\n",
       "\"xmin\":-0.5,\n",
       "\"ymin\":-0.5,\n",
       "\"xmax\":2.5,\n",
       "\"ymax\":1.5,\n",
       "\"color_by\":\"paint_c\",\n",
       "\"data\":{\n",
       "\"paint_c\":[50.0,200.0]\n",
       "}\n",
       "}],\n",
       "\"metainfo_list\":[]\n",
       "};\n",
       "           var plotContainer = document.getElementById(\"WMrKLv\");\n",
       "           window.letsPlotCall(function() {{\n",
       "               LetsPlot.buildPlotFromProcessedSpecs(plotSpec, -1, -1, plotContainer);\n",
       "           }});\n",
       "       })();\n",
       "   </script>"
      ],
      "text/plain": [
       "<lets_plot.plot.core.PlotSpec at 0x145283640>"
      ]
     },
     "execution_count": 4,
     "metadata": {},
     "output_type": "execute_result"
    }
   ],
   "source": [
    "ggplot() + geom_imshow(arr, alpha=.5)"
   ]
  },
  {
   "cell_type": "code",
   "execution_count": 5,
   "metadata": {
    "execution": {
     "iopub.execute_input": "2024-10-02T08:42:09.607096Z",
     "iopub.status.busy": "2024-10-02T08:42:09.607009Z",
     "iopub.status.idle": "2024-10-02T08:42:09.609582Z",
     "shell.execute_reply": "2024-10-02T08:42:09.609354Z"
    }
   },
   "outputs": [
    {
     "data": {
      "text/html": [
       "   <div id=\"42Ows5\"></div>\n",
       "   <script type=\"text/javascript\" data-lets-plot-script=\"plot\">\n",
       "       (function() {\n",
       "           var plotSpec={\n",
       "\"mapping\":{\n",
       "},\n",
       "\"data_meta\":{\n",
       "},\n",
       "\"theme\":{\n",
       "\"flavor\":\"solarized_light\"\n",
       "},\n",
       "\"kind\":\"plot\",\n",
       "\"scales\":[{\n",
       "\"name\":\"\",\n",
       "\"aesthetic\":\"paint_c\",\n",
       "\"start\":0.19607843137254902,\n",
       "\"end\":0.7843137254901961,\n",
       "\"scale_mapper_kind\":\"color_grey\"\n",
       "}],\n",
       "\"layers\":[{\n",
       "\"geom\":\"image\",\n",
       "\"mapping\":{\n",
       "\"paint_c\":\"paint_c\"\n",
       "},\n",
       "\"show_legend\":true,\n",
       "\"data_meta\":{\n",
       "},\n",
       "\"href\":\"data:image/png;base64,iVBORw0KGgoAAAANSUhEUgAAAAMAAAACCAQAAAA3fa6RAAAAFklEQVR4nGMwqp9Wf6Ke4UR9Sr1RPQAqDwXpfKkizQAAAABJRU5ErkJggg==\",\n",
       "\"xmin\":-0.5,\n",
       "\"ymin\":-0.5,\n",
       "\"xmax\":2.5,\n",
       "\"ymax\":1.5,\n",
       "\"color_by\":\"paint_c\",\n",
       "\"data\":{\n",
       "\"paint_c\":[50.0,200.0]\n",
       "}\n",
       "}],\n",
       "\"metainfo_list\":[]\n",
       "};\n",
       "           var plotContainer = document.getElementById(\"42Ows5\");\n",
       "           window.letsPlotCall(function() {{\n",
       "               LetsPlot.buildPlotFromProcessedSpecs(plotSpec, -1, -1, plotContainer);\n",
       "           }});\n",
       "       })();\n",
       "   </script>"
      ],
      "text/plain": [
       "<lets_plot.plot.core.PlotSpec at 0x147362410>"
      ]
     },
     "execution_count": 5,
     "metadata": {},
     "output_type": "execute_result"
    }
   ],
   "source": [
    "# 'norm' = False\n",
    "ggplot() + geom_imshow(arr, norm=False, alpha=.5)"
   ]
  },
  {
   "cell_type": "code",
   "execution_count": 6,
   "metadata": {
    "execution": {
     "iopub.execute_input": "2024-10-02T08:42:09.610605Z",
     "iopub.status.busy": "2024-10-02T08:42:09.610529Z",
     "iopub.status.idle": "2024-10-02T08:42:09.613060Z",
     "shell.execute_reply": "2024-10-02T08:42:09.612865Z"
    }
   },
   "outputs": [
    {
     "data": {
      "text/html": [
       "   <div id=\"DbtDJB\"></div>\n",
       "   <script type=\"text/javascript\" data-lets-plot-script=\"plot\">\n",
       "       (function() {\n",
       "           var plotSpec={\n",
       "\"mapping\":{\n",
       "},\n",
       "\"data_meta\":{\n",
       "},\n",
       "\"theme\":{\n",
       "\"flavor\":\"solarized_light\"\n",
       "},\n",
       "\"kind\":\"plot\",\n",
       "\"scales\":[{\n",
       "\"name\":\"\",\n",
       "\"aesthetic\":\"paint_c\",\n",
       "\"start\":0.0,\n",
       "\"end\":1.0,\n",
       "\"scale_mapper_kind\":\"color_grey\"\n",
       "}],\n",
       "\"layers\":[{\n",
       "\"geom\":\"image\",\n",
       "\"mapping\":{\n",
       "\"paint_c\":\"paint_c\"\n",
       "},\n",
       "\"show_legend\":true,\n",
       "\"data_meta\":{\n",
       "},\n",
       "\"href\":\"data:image/png;base64,iVBORw0KGgoAAAANSUhEUgAAAAMAAAACCAQAAAA3fa6RAAAAFElEQVR4nGNgaGBg+A/EDKENDA0AFlkDVW4xkmQAAAAASUVORK5CYII=\",\n",
       "\"xmin\":-0.5,\n",
       "\"ymin\":-0.5,\n",
       "\"xmax\":2.5,\n",
       "\"ymax\":1.5,\n",
       "\"color_by\":\"paint_c\",\n",
       "\"data\":{\n",
       "\"paint_c\":[50.0,200.0]\n",
       "}\n",
       "}],\n",
       "\"metainfo_list\":[]\n",
       "};\n",
       "           var plotContainer = document.getElementById(\"DbtDJB\");\n",
       "           window.letsPlotCall(function() {{\n",
       "               LetsPlot.buildPlotFromProcessedSpecs(plotSpec, -1, -1, plotContainer);\n",
       "           }});\n",
       "       })();\n",
       "   </script>"
      ],
      "text/plain": [
       "<lets_plot.plot.core.PlotSpec at 0x1041bfb50>"
      ]
     },
     "execution_count": 6,
     "metadata": {},
     "output_type": "execute_result"
    }
   ],
   "source": [
    "# With NaN-s\n",
    "arr_nan = np.array([\n",
    "    [50., np.nan, 200.],\n",
    "    [np.nan, 100., 50.]\n",
    "    ])\n",
    "\n",
    "ggplot() + geom_imshow(arr_nan, alpha=0.5)"
   ]
  },
  {
   "cell_type": "markdown",
   "metadata": {},
   "source": [
    "### Alpha + cmap"
   ]
  },
  {
   "cell_type": "code",
   "execution_count": 7,
   "metadata": {
    "execution": {
     "iopub.execute_input": "2024-10-02T08:42:09.614103Z",
     "iopub.status.busy": "2024-10-02T08:42:09.614032Z",
     "iopub.status.idle": "2024-10-02T08:42:09.617397Z",
     "shell.execute_reply": "2024-10-02T08:42:09.617189Z"
    }
   },
   "outputs": [
    {
     "data": {
      "text/html": [
       "   <div id=\"2k85zo\"></div>\n",
       "   <script type=\"text/javascript\" data-lets-plot-script=\"plot\">\n",
       "       (function() {\n",
       "           var plotSpec={\n",
       "\"mapping\":{\n",
       "},\n",
       "\"data_meta\":{\n",
       "},\n",
       "\"theme\":{\n",
       "\"flavor\":\"solarized_light\"\n",
       "},\n",
       "\"kind\":\"plot\",\n",
       "\"scales\":[{\n",
       "\"name\":\"\",\n",
       "\"aesthetic\":\"paint_c\",\n",
       "\"colors\":[\"#000004\",\"#030312\",\"#0A0822\",\"#140E36\",\"#1E1149\",\"#2A115C\",\"#38106C\",\"#471078\",\"#54137D\",\"#601880\",\"#6D1D81\",\"#792282\",\"#882781\",\"#942C80\",\"#A1307E\",\"#AE347B\",\"#BD3977\",\"#CA3E72\",\"#D6456C\",\"#E24D66\",\"#EC5860\",\"#F3655C\",\"#F8745C\",\"#FB835F\",\"#FD9266\",\"#FEA36F\",\"#FEB27A\",\"#FEC185\",\"#FECF92\",\"#FDE0A1\",\"#FCEEB0\",\"#FCFDBF\"],\n",
       "\"scale_mapper_kind\":\"color_gradientn\"\n",
       "}],\n",
       "\"layers\":[{\n",
       "\"geom\":\"image\",\n",
       "\"mapping\":{\n",
       "\"paint_c\":\"paint_c\"\n",
       "},\n",
       "\"show_legend\":true,\n",
       "\"data_meta\":{\n",
       "},\n",
       "\"href\":\"data:image/png;base64,iVBORw0KGgoAAAANSUhEUgAAAAMAAAACCAMAAACqqpYoAAADAFBMVEUAAAQBAAUBAQYBAQgCAQkCAgsCAg0DAw8DAxIEBBQFBBYGBRgGBRoHBhwIBx4JByAKCCILCSQMCSYNCikOCysQCy0RDC8SDTETDTQUDjYVDjgWDzsYDz0ZED8aEEIcEEQdEUceEUkgEUshEU4iEVAkElMlElUnElgpEVoqEVwsEV8tEWEvEWMxEWUzEGc0EGk2EGs4EGw5D247D3A9D3E/D3JAD3RCD3VED3ZFEHdHEHhJEHhKEHlMEXpOEXtPEntREnxSE3xUE31WFH1XFX5ZFX5aFn5cFn9dF39fGH9gGIBiGYBkGoBlGoBnG4BoHIFqHIFrHYFtHYFuHoFwH4FyH4FzIIF1IYF2IYF4IoF5IoJ7I4J8I4J+JIKAJYKBJYGDJoGEJoGGJ4GIJ4GJKIGLKYGMKYGOKoGQKoGRK4GTK4CULICWLICYLYCZLYCbLn+cLn+eL3+gL3+hMH6jMH6lMX6mMX2oMn2qM32rM3ytNHyuNHuwNXuyNXuzNnq1Nnq3N3m4N3m6OHi8OXi9OXe/OnfAOnbCO3XEPHXFPHTHPXPIPnPKPnLMP3HNQHHPQHDQQW/SQm/TQ27VRG3WRWzYRWzZRmvbR2rcSGneSWjfSmjgTGfiTWbjTmXkT2TlUGTnUmPoU2LpVGLqVmHrV2DsWGDtWl/uW17vXV7wX17xYF3yYl3yZFzzZVz0Z1z0aVz1a1z2bFz2blz3cFz3clz4dFz4dlz5eF35eV35e136fV76f176gV/7g1/7hWD7h2H8iWH8imL8jGP8jmT8kGX9kmb9lGf9lmj9mGn9mmr9m2v+nWz+n23+oW7+o2/+pXH+p3L+qXP+qnT+rHb+rnf+sHj+snr+tHv+tnz+t37+uX/+u4H+vYL+v4T+wYX+wof+xIj+xor+yIz+yo3+zI/+zZD+z5L+0ZT+05X+1Zf+15n+2Jr92pz93J793qD94KH94qP946X95af956n96ar966z87K787rD88LL88rT89Lb89rj897n8+bv8+738/b+WAKI/AAABAHRSTlOAgICAgICAgICAgICAgICAgICAgICAgICAgICAgICAgICAgICAgICAgICAgICAgICAgICAgICAgICAgICAgICAgICAgICAgICAgICAgICAgICAgICAgICAgICAgICAgICAgICAgICAgICAgICAgICAgICAgICAgICAgICAgICAgICAgICAgICAgICAgICAgICAgICAgICAgICAgICAgICAgICAgICAgICAgICAgICAgICAgICAgICAgICAgICAgICAgICAgICAgICAgICAgICAgICAgICAgICAgICAgICAgICAgICAgICAgICAgICAgICAgICAgICAgICAgICAgICA3IB8ewAAABBJREFUeJxjYFj1n+F/KAMADKYC/jiztAIAAAAASUVORK5CYII=\",\n",
       "\"xmin\":-0.5,\n",
       "\"ymin\":-0.5,\n",
       "\"xmax\":2.5,\n",
       "\"ymax\":1.5,\n",
       "\"color_by\":\"paint_c\",\n",
       "\"data\":{\n",
       "\"paint_c\":[50.0,200.0]\n",
       "}\n",
       "}],\n",
       "\"metainfo_list\":[]\n",
       "};\n",
       "           var plotContainer = document.getElementById(\"2k85zo\");\n",
       "           window.letsPlotCall(function() {{\n",
       "               LetsPlot.buildPlotFromProcessedSpecs(plotSpec, -1, -1, plotContainer);\n",
       "           }});\n",
       "       })();\n",
       "   </script>"
      ],
      "text/plain": [
       "<lets_plot.plot.core.PlotSpec at 0x147363340>"
      ]
     },
     "execution_count": 7,
     "metadata": {},
     "output_type": "execute_result"
    }
   ],
   "source": [
    "ggplot() + geom_imshow(arr, cmap=\"magma\", alpha=0.5)"
   ]
  },
  {
   "cell_type": "code",
   "execution_count": 8,
   "metadata": {
    "execution": {
     "iopub.execute_input": "2024-10-02T08:42:09.618423Z",
     "iopub.status.busy": "2024-10-02T08:42:09.618351Z",
     "iopub.status.idle": "2024-10-02T08:42:09.621838Z",
     "shell.execute_reply": "2024-10-02T08:42:09.621625Z"
    }
   },
   "outputs": [
    {
     "data": {
      "text/html": [
       "   <div id=\"U5M6UQ\"></div>\n",
       "   <script type=\"text/javascript\" data-lets-plot-script=\"plot\">\n",
       "       (function() {\n",
       "           var plotSpec={\n",
       "\"mapping\":{\n",
       "},\n",
       "\"data_meta\":{\n",
       "},\n",
       "\"theme\":{\n",
       "\"flavor\":\"solarized_light\"\n",
       "},\n",
       "\"kind\":\"plot\",\n",
       "\"scales\":[{\n",
       "\"name\":\"\",\n",
       "\"aesthetic\":\"paint_c\",\n",
       "\"colors\":[\"#000004\",\"#030312\",\"#0A0822\",\"#140E36\",\"#1E1149\",\"#2A115C\",\"#38106C\",\"#471078\",\"#54137D\",\"#601880\",\"#6D1D81\",\"#792282\",\"#882781\",\"#942C80\",\"#A1307E\",\"#AE347B\",\"#BD3977\",\"#CA3E72\",\"#D6456C\",\"#E24D66\",\"#EC5860\",\"#F3655C\",\"#F8745C\",\"#FB835F\",\"#FD9266\",\"#FEA36F\",\"#FEB27A\",\"#FEC185\",\"#FECF92\",\"#FDE0A1\",\"#FCEEB0\",\"#FCFDBF\"],\n",
       "\"scale_mapper_kind\":\"color_gradientn\"\n",
       "}],\n",
       "\"layers\":[{\n",
       "\"geom\":\"image\",\n",
       "\"mapping\":{\n",
       "\"paint_c\":\"paint_c\"\n",
       "},\n",
       "\"show_legend\":true,\n",
       "\"data_meta\":{\n",
       "},\n",
       "\"href\":\"data:image/png;base64,iVBORw0KGgoAAAANSUhEUgAAAAMAAAACCAMAAACqqpYoAAADAFBMVEUAAAAAAAQBAAUBAQYBAQgCAQkCAgsCAg0DAw8DAxIEBBQFBBYGBRgGBRoHBhwIBx4JByAKCCILCSQMCSYNCikOCysQCy0RDC8SDTETDTQUDjYVDjgWDzsYDz0ZED8aEEIcEEQdEUceEUkgEUshEU4iEVAkElMlElUnElgpEVoqEVwsEV8tEWEvEWMxEWUzEGc0EGk2EGs4EGw5D247D3A9D3E/D3JAD3RCD3VED3ZFEHdHEHhJEHhKEHlMEXpOEXtPEntREnxSE3xUE31WFH1XFX5ZFX5aFn5cFn9dF39fGH9gGIBiGYBkGoBlGoBnG4BoHIFqHIFrHYFtHYFuHoFwH4FyH4FzIIF1IYF2IYF4IoF5IoJ7I4J8I4J+JIKAJYKBJYGDJoGEJoGGJ4GIJ4GJKIGLKYGMKYGOKoGQKoGRK4GTK4CULICWLICYLYCZLYCbLn+cLn+eL3+gL3+hMH6jMH6lMX6mMX2oMn2qM32rM3ytNHyuNHuwNXuyNXuzNnq3N3m4N3m6OHi8OXi9OXe/OnfAOnbCO3XEPHXFPHTHPXPIPnPKPnLMP3HNQHHPQHDQQW/SQm/TQ27VRG3WRWzYRWzZRmvbR2rcSGneSWjfSmjgTGfiTWbjTmXkT2TlUGTnUmPoU2LpVGLqVmHrV2DsWGDtWl/uW17vXV7wX17xYF3yYl3yZFzzZVz0Z1z0aVz1a1z2bFz2blz3cFz3clz4dFz4dlz5eF35eV35e136fV76f176gV/7g1/7hWD7h2H8iWH8imL8jGP8jmT8kGX9kmb9lGf9lmj9mGn9mmr9m2v+nWz+n23+oW7+o2/+pXH+p3L+qXP+qnT+rHb+rnf+sHj+snr+tHv+tnz+t37+uX/+u4H+vYL+v4T+wYX+wof+xIj+xor+yIz+yo3+zI/+zZD+z5L+0ZT+05X+1Zf+15n+2Jr92pz93J793qD94KH94qP946X95af956n96ar966z87K787rD88LL88rT89Lb89rj897n8+bv8+738/b/pkH4eAAABAHRSTlMAgICAgICAgICAgICAgICAgICAgICAgICAgICAgICAgICAgICAgICAgICAgICAgICAgICAgICAgICAgICAgICAgICAgICAgICAgICAgICAgICAgICAgICAgICAgICAgICAgICAgICAgICAgICAgICAgICAgICAgICAgICAgICAgICAgICAgICAgICAgICAgICAgICAgICAgICAgICAgICAgICAgICAgICAgICAgICAgICAgICAgICAgICAgICAgICAgICAgICAgICAgICAgICAgICAgICAgICAgICAgICAgICAgICAgICAgICAgICAgICAgICAgICAgICAgICAgICAGHJVYAAAABBJREFUeJxjYGT4z8AQxggABbcBWIp93mUAAAAASUVORK5CYII=\",\n",
       "\"xmin\":-0.5,\n",
       "\"ymin\":-0.5,\n",
       "\"xmax\":2.5,\n",
       "\"ymax\":1.5,\n",
       "\"color_by\":\"paint_c\",\n",
       "\"data\":{\n",
       "\"paint_c\":[50.0,200.0]\n",
       "}\n",
       "}],\n",
       "\"metainfo_list\":[]\n",
       "};\n",
       "           var plotContainer = document.getElementById(\"U5M6UQ\");\n",
       "           window.letsPlotCall(function() {{\n",
       "               LetsPlot.buildPlotFromProcessedSpecs(plotSpec, -1, -1, plotContainer);\n",
       "           }});\n",
       "       })();\n",
       "   </script>"
      ],
      "text/plain": [
       "<lets_plot.plot.core.PlotSpec at 0x1473633d0>"
      ]
     },
     "execution_count": 8,
     "metadata": {},
     "output_type": "execute_result"
    }
   ],
   "source": [
    "# With NaN-s\n",
    "arr_nan = np.array([\n",
    "    [50., np.nan, 200.],\n",
    "    [np.nan, 100., 50.]\n",
    "    ])\n",
    "\n",
    "ggplot() + geom_imshow(arr_nan, cmap=\"magma\", alpha=0.5)"
   ]
  },
  {
   "cell_type": "markdown",
   "metadata": {},
   "source": [
    "### Color image"
   ]
  },
  {
   "cell_type": "code",
   "execution_count": 9,
   "metadata": {
    "execution": {
     "iopub.execute_input": "2024-10-02T08:42:09.622871Z",
     "iopub.status.busy": "2024-10-02T08:42:09.622800Z",
     "iopub.status.idle": "2024-10-02T08:42:09.625462Z",
     "shell.execute_reply": "2024-10-02T08:42:09.625249Z"
    }
   },
   "outputs": [
    {
     "data": {
      "text/html": [
       "   <div id=\"WzqmMp\"></div>\n",
       "   <script type=\"text/javascript\" data-lets-plot-script=\"plot\">\n",
       "       (function() {\n",
       "           var plotSpec={\n",
       "\"mapping\":{\n",
       "},\n",
       "\"data_meta\":{\n",
       "},\n",
       "\"theme\":{\n",
       "\"flavor\":\"solarized_light\"\n",
       "},\n",
       "\"kind\":\"plot\",\n",
       "\"scales\":[],\n",
       "\"layers\":[{\n",
       "\"geom\":\"image\",\n",
       "\"mapping\":{\n",
       "},\n",
       "\"show_legend\":true,\n",
       "\"data_meta\":{\n",
       "},\n",
       "\"href\":\"data:image/png;base64,iVBORw0KGgoAAAANSUhEUgAAAAMAAAACCAIAAAASFvFNAAAAEklEQVR4nGP4z8DAAMVgCkgAADvYBfuy6mB/AAAAAElFTkSuQmCC\",\n",
       "\"xmin\":-0.5,\n",
       "\"ymin\":-0.5,\n",
       "\"xmax\":2.5,\n",
       "\"ymax\":1.5,\n",
       "\"data\":{\n",
       "}\n",
       "}],\n",
       "\"metainfo_list\":[]\n",
       "};\n",
       "           var plotContainer = document.getElementById(\"WzqmMp\");\n",
       "           window.letsPlotCall(function() {{\n",
       "               LetsPlot.buildPlotFromProcessedSpecs(plotSpec, -1, -1, plotContainer);\n",
       "           }});\n",
       "       })();\n",
       "   </script>"
      ],
      "text/plain": [
       "<lets_plot.plot.core.PlotSpec at 0x14738d660>"
      ]
     },
     "execution_count": 9,
     "metadata": {},
     "output_type": "execute_result"
    }
   ],
   "source": [
    "# RGB image\n",
    "\n",
    "A2x3x3 = np.array([\n",
    "    [[255, 0, 0], [0, 255, 0], [0, 0, 255]],\n",
    "    [[0, 255, 0], [0, 0, 255], [255, 0, 0]]\n",
    "    ])\n",
    "\n",
    "ggplot() + geom_imshow(A2x3x3)"
   ]
  },
  {
   "cell_type": "code",
   "execution_count": 10,
   "metadata": {
    "execution": {
     "iopub.execute_input": "2024-10-02T08:42:09.626662Z",
     "iopub.status.busy": "2024-10-02T08:42:09.626591Z",
     "iopub.status.idle": "2024-10-02T08:42:09.628786Z",
     "shell.execute_reply": "2024-10-02T08:42:09.628578Z"
    }
   },
   "outputs": [
    {
     "data": {
      "text/html": [
       "   <div id=\"3zmZMJ\"></div>\n",
       "   <script type=\"text/javascript\" data-lets-plot-script=\"plot\">\n",
       "       (function() {\n",
       "           var plotSpec={\n",
       "\"mapping\":{\n",
       "},\n",
       "\"data_meta\":{\n",
       "},\n",
       "\"theme\":{\n",
       "\"flavor\":\"solarized_light\"\n",
       "},\n",
       "\"kind\":\"plot\",\n",
       "\"scales\":[],\n",
       "\"layers\":[{\n",
       "\"geom\":\"image\",\n",
       "\"mapping\":{\n",
       "},\n",
       "\"show_legend\":true,\n",
       "\"data_meta\":{\n",
       "},\n",
       "\"href\":\"data:image/png;base64,iVBORw0KGgoAAAANSUhEUgAAAAMAAAACCAYAAACddGYaAAAAGElEQVR4nGP4z8BQz/AfiBn+gzCEARIEAHMECPW+3yLrAAAAAElFTkSuQmCC\",\n",
       "\"xmin\":-0.5,\n",
       "\"ymin\":-0.5,\n",
       "\"xmax\":2.5,\n",
       "\"ymax\":1.5,\n",
       "\"data\":{\n",
       "}\n",
       "}],\n",
       "\"metainfo_list\":[]\n",
       "};\n",
       "           var plotContainer = document.getElementById(\"3zmZMJ\");\n",
       "           window.letsPlotCall(function() {{\n",
       "               LetsPlot.buildPlotFromProcessedSpecs(plotSpec, -1, -1, plotContainer);\n",
       "           }});\n",
       "       })();\n",
       "   </script>"
      ],
      "text/plain": [
       "<lets_plot.plot.core.PlotSpec at 0x1041bfd00>"
      ]
     },
     "execution_count": 10,
     "metadata": {},
     "output_type": "execute_result"
    }
   ],
   "source": [
    "ggplot() + geom_imshow(A2x3x3, alpha=0.5)"
   ]
  },
  {
   "cell_type": "code",
   "execution_count": 11,
   "metadata": {
    "execution": {
     "iopub.execute_input": "2024-10-02T08:42:09.629847Z",
     "iopub.status.busy": "2024-10-02T08:42:09.629775Z",
     "iopub.status.idle": "2024-10-02T08:42:09.631569Z",
     "shell.execute_reply": "2024-10-02T08:42:09.631356Z"
    }
   },
   "outputs": [],
   "source": [
    "# RGBA image (with alpha channel)\n",
    "\n",
    "A2x3x4 = np.array([\n",
    "    [[1, 0, 0, 1], [0, 1, 0, 1], [0, 0, 1, 1]],\n",
    "    [[0, 1, 0, 0.3], [0, 0, 1, 0.3], [1, 0, 0, 0.3]]\n",
    "    ])"
   ]
  },
  {
   "cell_type": "code",
   "execution_count": 12,
   "metadata": {
    "execution": {
     "iopub.execute_input": "2024-10-02T08:42:09.632493Z",
     "iopub.status.busy": "2024-10-02T08:42:09.632426Z",
     "iopub.status.idle": "2024-10-02T08:42:09.634596Z",
     "shell.execute_reply": "2024-10-02T08:42:09.634403Z"
    }
   },
   "outputs": [
    {
     "data": {
      "text/html": [
       "   <div id=\"JZxBjV\"></div>\n",
       "   <script type=\"text/javascript\" data-lets-plot-script=\"plot\">\n",
       "       (function() {\n",
       "           var plotSpec={\n",
       "\"mapping\":{\n",
       "},\n",
       "\"data_meta\":{\n",
       "},\n",
       "\"theme\":{\n",
       "\"flavor\":\"solarized_light\"\n",
       "},\n",
       "\"kind\":\"plot\",\n",
       "\"scales\":[],\n",
       "\"layers\":[{\n",
       "\"geom\":\"image\",\n",
       "\"mapping\":{\n",
       "},\n",
       "\"show_legend\":true,\n",
       "\"data_meta\":{\n",
       "},\n",
       "\"href\":\"data:image/png;base64,iVBORw0KGgoAAAANSUhEUgAAAAMAAAACCAYAAACddGYaAAAAGUlEQVR4nGP4z8DwHwwZ/oOZvkDCF8jyBQCLFgnfUCS+/AAAAABJRU5ErkJggg==\",\n",
       "\"xmin\":-0.5,\n",
       "\"ymin\":-0.5,\n",
       "\"xmax\":2.5,\n",
       "\"ymax\":1.5,\n",
       "\"data\":{\n",
       "}\n",
       "}],\n",
       "\"metainfo_list\":[]\n",
       "};\n",
       "           var plotContainer = document.getElementById(\"JZxBjV\");\n",
       "           window.letsPlotCall(function() {{\n",
       "               LetsPlot.buildPlotFromProcessedSpecs(plotSpec, -1, -1, plotContainer);\n",
       "           }});\n",
       "       })();\n",
       "   </script>"
      ],
      "text/plain": [
       "<lets_plot.plot.core.PlotSpec at 0x145283700>"
      ]
     },
     "execution_count": 12,
     "metadata": {},
     "output_type": "execute_result"
    }
   ],
   "source": [
    "ggplot() + geom_imshow(A2x3x4)"
   ]
  },
  {
   "cell_type": "code",
   "execution_count": 13,
   "metadata": {
    "execution": {
     "iopub.execute_input": "2024-10-02T08:42:09.635589Z",
     "iopub.status.busy": "2024-10-02T08:42:09.635522Z",
     "iopub.status.idle": "2024-10-02T08:42:09.637720Z",
     "shell.execute_reply": "2024-10-02T08:42:09.637509Z"
    }
   },
   "outputs": [
    {
     "data": {
      "text/html": [
       "   <div id=\"6NoOqq\"></div>\n",
       "   <script type=\"text/javascript\" data-lets-plot-script=\"plot\">\n",
       "       (function() {\n",
       "           var plotSpec={\n",
       "\"mapping\":{\n",
       "},\n",
       "\"data_meta\":{\n",
       "},\n",
       "\"theme\":{\n",
       "\"flavor\":\"solarized_light\"\n",
       "},\n",
       "\"kind\":\"plot\",\n",
       "\"scales\":[],\n",
       "\"layers\":[{\n",
       "\"geom\":\"image\",\n",
       "\"mapping\":{\n",
       "},\n",
       "\"show_legend\":true,\n",
       "\"data_meta\":{\n",
       "},\n",
       "\"href\":\"data:image/png;base64,iVBORw0KGgoAAAANSUhEUgAAAAMAAAACCAYAAACddGYaAAAAHElEQVR4nGP4z8DQwPAfiBn+gzCDGpBQAwqqAQBuAwft32FBFAAAAABJRU5ErkJggg==\",\n",
       "\"xmin\":-0.5,\n",
       "\"ymin\":-0.5,\n",
       "\"xmax\":2.5,\n",
       "\"ymax\":1.5,\n",
       "\"data\":{\n",
       "}\n",
       "}],\n",
       "\"metainfo_list\":[]\n",
       "};\n",
       "           var plotContainer = document.getElementById(\"6NoOqq\");\n",
       "           window.letsPlotCall(function() {{\n",
       "               LetsPlot.buildPlotFromProcessedSpecs(plotSpec, -1, -1, plotContainer);\n",
       "           }});\n",
       "       })();\n",
       "   </script>"
      ],
      "text/plain": [
       "<lets_plot.plot.core.PlotSpec at 0x14738ec50>"
      ]
     },
     "execution_count": 13,
     "metadata": {},
     "output_type": "execute_result"
    }
   ],
   "source": [
    "ggplot() + geom_imshow(A2x3x4, alpha=0.5)"
   ]
  },
  {
   "cell_type": "code",
   "execution_count": 14,
   "metadata": {
    "execution": {
     "iopub.execute_input": "2024-10-02T08:42:09.638698Z",
     "iopub.status.busy": "2024-10-02T08:42:09.638631Z",
     "iopub.status.idle": "2024-10-02T08:42:09.640367Z",
     "shell.execute_reply": "2024-10-02T08:42:09.640147Z"
    }
   },
   "outputs": [
    {
     "data": {
      "text/plain": [
       "{'mapping': {},\n",
       " 'data_meta': {},\n",
       " 'theme': {'flavor': 'solarized_light'},\n",
       " 'kind': 'plot',\n",
       " 'scales': [],\n",
       " 'layers': [{'geom': 'image',\n",
       "   'mapping': {},\n",
       "   'show_legend': True,\n",
       "   'data_meta': {},\n",
       "   'href': 'data:image/png;base64,iVBORw0KGgoAAAANSUhEUgAAAAMAAAACCAYAAACddGYaAAAAHElEQVR4nGP4z8DQwPAfiBn+gzCDGpBQAwqqAQBuAwft32FBFAAAAABJRU5ErkJggg==',\n",
       "   'xmin': -0.5,\n",
       "   'ymin': -0.5,\n",
       "   'xmax': 2.5,\n",
       "   'ymax': 1.5}],\n",
       " 'metainfo_list': []}"
      ]
     },
     "execution_count": 14,
     "metadata": {},
     "output_type": "execute_result"
    }
   ],
   "source": [
    "_.as_dict()"
   ]
  },
  {
   "cell_type": "code",
   "execution_count": null,
   "metadata": {},
   "outputs": [],
   "source": []
  }
 ],
 "metadata": {
  "kernelspec": {
   "display_name": "Python 3",
   "language": "python",
   "name": "python3"
  },
  "language_info": {
   "codemirror_mode": {
    "name": "ipython",
    "version": 3
   },
   "file_extension": ".py",
   "mimetype": "text/x-python",
   "name": "python",
   "nbconvert_exporter": "python",
   "pygments_lexer": "ipython3",
   "version": "3.10.15"
  }
 },
 "nbformat": 4,
 "nbformat_minor": 4
}
