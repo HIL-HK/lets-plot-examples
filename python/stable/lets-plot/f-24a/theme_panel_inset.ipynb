{
 "cells": [
  {
   "cell_type": "markdown",
   "id": "50b64383-b9cb-4e20-bfec-c59d96cb0f63",
   "metadata": {},
   "source": [
    "# The `panel_inset` Parameter in `theme()`"
   ]
  },
  {
   "cell_type": "code",
   "execution_count": 1,
   "id": "a181905e-ddbd-416e-8e10-20210d57f4bd",
   "metadata": {
    "execution": {
     "iopub.execute_input": "2024-09-27T17:59:35.680783Z",
     "iopub.status.busy": "2024-09-27T17:59:35.680461Z",
     "iopub.status.idle": "2024-09-27T17:59:36.107299Z",
     "shell.execute_reply": "2024-09-27T17:59:36.107055Z"
    }
   },
   "outputs": [
    {
     "data": {
      "text/html": [
       "\n",
       "            <div id=\"sm18Ke\"></div>\n",
       "            <script type=\"text/javascript\" data-lets-plot-script=\"library\">\n",
       "                if(!window.letsPlotCallQueue) {\n",
       "                    window.letsPlotCallQueue = [];\n",
       "                }; \n",
       "                window.letsPlotCall = function(f) {\n",
       "                    window.letsPlotCallQueue.push(f);\n",
       "                };\n",
       "                (function() {\n",
       "                    var script = document.createElement(\"script\");\n",
       "                    script.type = \"text/javascript\";\n",
       "                    script.src = \"https://cdn.jsdelivr.net/gh/JetBrains/lets-plot@v4.4.1/js-package/distr/lets-plot.min.js\";\n",
       "                    script.onload = function() {\n",
       "                        window.letsPlotCall = function(f) {f();};\n",
       "                        window.letsPlotCallQueue.forEach(function(f) {f();});\n",
       "                        window.letsPlotCallQueue = [];\n",
       "                        \n",
       "                    };\n",
       "                    script.onerror = function(event) {\n",
       "                        window.letsPlotCall = function(f) {};    // noop\n",
       "                        window.letsPlotCallQueue = [];\n",
       "                        var div = document.createElement(\"div\");\n",
       "                        div.style.color = 'darkred';\n",
       "                        div.textContent = 'Error loading Lets-Plot JS';\n",
       "                        document.getElementById(\"sm18Ke\").appendChild(div);\n",
       "                    };\n",
       "                    var e = document.getElementById(\"sm18Ke\");\n",
       "                    e.appendChild(script);\n",
       "                })()\n",
       "            </script>\n",
       "            "
      ]
     },
     "metadata": {},
     "output_type": "display_data"
    }
   ],
   "source": [
    "from lets_plot import *\n",
    "LetsPlot.setup_html()"
   ]
  },
  {
   "cell_type": "code",
   "execution_count": 2,
   "id": "bd55dece-a599-4a1e-939e-3779c4a0adfc",
   "metadata": {
    "execution": {
     "iopub.execute_input": "2024-09-27T17:59:36.108509Z",
     "iopub.status.busy": "2024-09-27T17:59:36.108404Z",
     "iopub.status.idle": "2024-09-27T17:59:36.134895Z",
     "shell.execute_reply": "2024-09-27T17:59:36.134597Z"
    }
   },
   "outputs": [],
   "source": [
    "hours = list(map(lambda v: '{:02d}:00'.format(v), range(12)))\n",
    "\n",
    "p = ggplot() \\\n",
    "    + geom_point(aes(x=hours)) \\\n",
    "    + theme_grey() \\\n",
    "    + theme(axis_line=element_line(color='black'))"
   ]
  },
  {
   "cell_type": "markdown",
   "id": "b4f60f05-f388-4fab-8bec-cb347612d009",
   "metadata": {},
   "source": [
    "## Polar Coordinate System\n",
    "\n",
    "In the polar coordinate system, it's common for tick labels to overlap.\n",
    "\n",
    "The `panel_inset` parameter assists in creating additional space to accommodate tick labels more effectively."
   ]
  },
  {
   "cell_type": "code",
   "execution_count": 3,
   "id": "6f8f448b-6033-4e79-b730-51aa45edbc2f",
   "metadata": {
    "execution": {
     "iopub.execute_input": "2024-09-27T17:59:36.136227Z",
     "iopub.status.busy": "2024-09-27T17:59:36.136136Z",
     "iopub.status.idle": "2024-09-27T17:59:36.140480Z",
     "shell.execute_reply": "2024-09-27T17:59:36.140272Z"
    }
   },
   "outputs": [
    {
     "data": {
      "text/html": [
       "   <div id=\"AqW3IK\"></div>\n",
       "   <script type=\"text/javascript\" data-lets-plot-script=\"plot\">\n",
       "       (function() {\n",
       "           var plotSpec={\n",
       "\"kind\":\"subplots\",\n",
       "\"layout\":{\n",
       "\"ncol\":3.0,\n",
       "\"nrow\":1.0,\n",
       "\"name\":\"grid\"\n",
       "},\n",
       "\"figures\":[{\n",
       "\"mapping\":{\n",
       "},\n",
       "\"data_meta\":{\n",
       "},\n",
       "\"theme\":{\n",
       "\"name\":\"grey\",\n",
       "\"axis_line\":{\n",
       "\"color\":\"black\",\n",
       "\"blank\":false\n",
       "}\n",
       "},\n",
       "\"coord\":{\n",
       "\"name\":\"polar\"\n",
       "},\n",
       "\"kind\":\"plot\",\n",
       "\"scales\":[],\n",
       "\"layers\":[{\n",
       "\"geom\":\"point\",\n",
       "\"mapping\":{\n",
       "\"x\":\"x\"\n",
       "},\n",
       "\"data_meta\":{\n",
       "},\n",
       "\"data\":{\n",
       "\"x\":[\"00:00\",\"01:00\",\"02:00\",\"03:00\",\"04:00\",\"05:00\",\"06:00\",\"07:00\",\"08:00\",\"09:00\",\"10:00\",\"11:00\"]\n",
       "}\n",
       "}],\n",
       "\"metainfo_list\":[]\n",
       "},{\n",
       "\"mapping\":{\n",
       "},\n",
       "\"data_meta\":{\n",
       "},\n",
       "\"theme\":{\n",
       "\"name\":\"grey\",\n",
       "\"axis_line\":{\n",
       "\"color\":\"black\",\n",
       "\"blank\":false\n",
       "},\n",
       "\"panel_inset\":[0.0,35.0]\n",
       "},\n",
       "\"coord\":{\n",
       "\"name\":\"polar\"\n",
       "},\n",
       "\"kind\":\"plot\",\n",
       "\"scales\":[],\n",
       "\"layers\":[{\n",
       "\"geom\":\"point\",\n",
       "\"mapping\":{\n",
       "\"x\":\"x\"\n",
       "},\n",
       "\"data_meta\":{\n",
       "},\n",
       "\"data\":{\n",
       "\"x\":[\"00:00\",\"01:00\",\"02:00\",\"03:00\",\"04:00\",\"05:00\",\"06:00\",\"07:00\",\"08:00\",\"09:00\",\"10:00\",\"11:00\"]\n",
       "}\n",
       "}],\n",
       "\"metainfo_list\":[]\n",
       "},{\n",
       "\"mapping\":{\n",
       "},\n",
       "\"data_meta\":{\n",
       "},\n",
       "\"theme\":{\n",
       "\"name\":\"grey\",\n",
       "\"axis_line\":{\n",
       "\"color\":\"black\",\n",
       "\"blank\":false\n",
       "},\n",
       "\"panel_inset\":[0.0,35.0]\n",
       "},\n",
       "\"coord\":{\n",
       "\"name\":\"polar\",\n",
       "\"transform_bkgr\":false\n",
       "},\n",
       "\"kind\":\"plot\",\n",
       "\"scales\":[],\n",
       "\"layers\":[{\n",
       "\"geom\":\"point\",\n",
       "\"mapping\":{\n",
       "\"x\":\"x\"\n",
       "},\n",
       "\"data_meta\":{\n",
       "},\n",
       "\"data\":{\n",
       "\"x\":[\"00:00\",\"01:00\",\"02:00\",\"03:00\",\"04:00\",\"05:00\",\"06:00\",\"07:00\",\"08:00\",\"09:00\",\"10:00\",\"11:00\"]\n",
       "}\n",
       "}],\n",
       "\"metainfo_list\":[]\n",
       "}]\n",
       "};\n",
       "           var plotContainer = document.getElementById(\"AqW3IK\");\n",
       "           window.letsPlotCall(function() {{\n",
       "               LetsPlot.buildPlotFromProcessedSpecs(plotSpec, -1, -1, plotContainer);\n",
       "           }});\n",
       "       })();\n",
       "   </script>"
      ],
      "text/plain": [
       "<lets_plot.plot.subplots.SupPlotsSpec at 0x14fafa230>"
      ]
     },
     "execution_count": 3,
     "metadata": {},
     "output_type": "execute_result"
    }
   ],
   "source": [
    "gggrid([\n",
    "    p + coord_polar(),\n",
    "    p + theme(panel_inset=[0, 35]) + coord_polar(),\n",
    "    p + theme(panel_inset=[0, 35]) + coord_polar(transform_bkgr=False),\n",
    "])"
   ]
  },
  {
   "cell_type": "markdown",
   "id": "afd30d53-4a7a-46f7-9394-233e7be0441c",
   "metadata": {},
   "source": [
    "## Rectangular Coordinate System  \n",
    "In rectangular coordinate systems, the `panel_inset` parameter functions as a margin, adjusting the panel boundaries within the plot:"
   ]
  },
  {
   "cell_type": "code",
   "execution_count": 4,
   "id": "75f5e483-d09c-4ab5-9431-591e5d74b7d8",
   "metadata": {
    "execution": {
     "iopub.execute_input": "2024-09-27T17:59:36.141557Z",
     "iopub.status.busy": "2024-09-27T17:59:36.141478Z",
     "iopub.status.idle": "2024-09-27T17:59:36.143821Z",
     "shell.execute_reply": "2024-09-27T17:59:36.143623Z"
    }
   },
   "outputs": [
    {
     "data": {
      "text/html": [
       "   <div id=\"XrMOjB\"></div>\n",
       "   <script type=\"text/javascript\" data-lets-plot-script=\"plot\">\n",
       "       (function() {\n",
       "           var plotSpec={\n",
       "\"kind\":\"subplots\",\n",
       "\"layout\":{\n",
       "\"ncol\":2.0,\n",
       "\"nrow\":1.0,\n",
       "\"name\":\"grid\"\n",
       "},\n",
       "\"figures\":[{\n",
       "\"mapping\":{\n",
       "},\n",
       "\"data_meta\":{\n",
       "},\n",
       "\"theme\":{\n",
       "\"name\":\"grey\",\n",
       "\"axis_line\":{\n",
       "\"color\":\"black\",\n",
       "\"blank\":false\n",
       "}\n",
       "},\n",
       "\"kind\":\"plot\",\n",
       "\"scales\":[],\n",
       "\"layers\":[{\n",
       "\"geom\":\"point\",\n",
       "\"mapping\":{\n",
       "\"x\":\"x\"\n",
       "},\n",
       "\"data_meta\":{\n",
       "},\n",
       "\"data\":{\n",
       "\"x\":[\"00:00\",\"01:00\",\"02:00\",\"03:00\",\"04:00\",\"05:00\",\"06:00\",\"07:00\",\"08:00\",\"09:00\",\"10:00\",\"11:00\"]\n",
       "}\n",
       "}],\n",
       "\"metainfo_list\":[]\n",
       "},{\n",
       "\"mapping\":{\n",
       "},\n",
       "\"data_meta\":{\n",
       "},\n",
       "\"theme\":{\n",
       "\"name\":\"grey\",\n",
       "\"axis_line\":{\n",
       "\"color\":\"black\",\n",
       "\"blank\":false\n",
       "},\n",
       "\"panel_inset\":15.0\n",
       "},\n",
       "\"kind\":\"plot\",\n",
       "\"scales\":[],\n",
       "\"layers\":[{\n",
       "\"geom\":\"point\",\n",
       "\"mapping\":{\n",
       "\"x\":\"x\"\n",
       "},\n",
       "\"data_meta\":{\n",
       "},\n",
       "\"data\":{\n",
       "\"x\":[\"00:00\",\"01:00\",\"02:00\",\"03:00\",\"04:00\",\"05:00\",\"06:00\",\"07:00\",\"08:00\",\"09:00\",\"10:00\",\"11:00\"]\n",
       "}\n",
       "}],\n",
       "\"metainfo_list\":[]\n",
       "}]\n",
       "};\n",
       "           var plotContainer = document.getElementById(\"XrMOjB\");\n",
       "           window.letsPlotCall(function() {{\n",
       "               LetsPlot.buildPlotFromProcessedSpecs(plotSpec, -1, -1, plotContainer);\n",
       "           }});\n",
       "       })();\n",
       "   </script>"
      ],
      "text/plain": [
       "<lets_plot.plot.subplots.SupPlotsSpec at 0x14f883160>"
      ]
     },
     "execution_count": 4,
     "metadata": {},
     "output_type": "execute_result"
    }
   ],
   "source": [
    "gggrid([\n",
    "    p,\n",
    "    p + theme(panel_inset=15)\n",
    "])"
   ]
  }
 ],
 "metadata": {
  "kernelspec": {
   "display_name": "Python 3 (ipykernel)",
   "language": "python",
   "name": "python3"
  },
  "language_info": {
   "codemirror_mode": {
    "name": "ipython",
    "version": 3
   },
   "file_extension": ".py",
   "mimetype": "text/x-python",
   "name": "python",
   "nbconvert_exporter": "python",
   "pygments_lexer": "ipython3",
   "version": "3.10.15"
  }
 },
 "nbformat": 4,
 "nbformat_minor": 5
}
