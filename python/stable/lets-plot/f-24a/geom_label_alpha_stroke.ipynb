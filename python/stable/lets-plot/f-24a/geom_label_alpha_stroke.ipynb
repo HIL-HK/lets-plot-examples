{
 "cells": [
  {
   "cell_type": "markdown",
   "id": "d37b1904",
   "metadata": {},
   "source": [
    "# Parameter `alpha_stroke` in `geom_label()`\n",
    "\n",
    "\n",
    "\n",
    "Use the `alpha_stroke` parameter to enable the applying of `alpha` to `color` (label text and border)."
   ]
  },
  {
   "cell_type": "code",
   "execution_count": 1,
   "id": "0aa1a2a7",
   "metadata": {
    "execution": {
     "iopub.execute_input": "2024-09-27T17:59:47.889380Z",
     "iopub.status.busy": "2024-09-27T17:59:47.889091Z",
     "iopub.status.idle": "2024-09-27T17:59:48.315575Z",
     "shell.execute_reply": "2024-09-27T17:59:48.315256Z"
    }
   },
   "outputs": [],
   "source": [
    "import numpy as np\n",
    "\n",
    "from lets_plot import *"
   ]
  },
  {
   "cell_type": "code",
   "execution_count": 2,
   "id": "9350f0ee",
   "metadata": {
    "execution": {
     "iopub.execute_input": "2024-09-27T17:59:48.316961Z",
     "iopub.status.busy": "2024-09-27T17:59:48.316856Z",
     "iopub.status.idle": "2024-09-27T17:59:48.319112Z",
     "shell.execute_reply": "2024-09-27T17:59:48.318894Z"
    }
   },
   "outputs": [
    {
     "data": {
      "text/html": [
       "\n",
       "            <div id=\"OQMi2m\"></div>\n",
       "            <script type=\"text/javascript\" data-lets-plot-script=\"library\">\n",
       "                if(!window.letsPlotCallQueue) {\n",
       "                    window.letsPlotCallQueue = [];\n",
       "                }; \n",
       "                window.letsPlotCall = function(f) {\n",
       "                    window.letsPlotCallQueue.push(f);\n",
       "                };\n",
       "                (function() {\n",
       "                    var script = document.createElement(\"script\");\n",
       "                    script.type = \"text/javascript\";\n",
       "                    script.src = \"https://cdn.jsdelivr.net/gh/JetBrains/lets-plot@v4.4.1/js-package/distr/lets-plot.min.js\";\n",
       "                    script.onload = function() {\n",
       "                        window.letsPlotCall = function(f) {f();};\n",
       "                        window.letsPlotCallQueue.forEach(function(f) {f();});\n",
       "                        window.letsPlotCallQueue = [];\n",
       "                        \n",
       "                    };\n",
       "                    script.onerror = function(event) {\n",
       "                        window.letsPlotCall = function(f) {};    // noop\n",
       "                        window.letsPlotCallQueue = [];\n",
       "                        var div = document.createElement(\"div\");\n",
       "                        div.style.color = 'darkred';\n",
       "                        div.textContent = 'Error loading Lets-Plot JS';\n",
       "                        document.getElementById(\"OQMi2m\").appendChild(div);\n",
       "                    };\n",
       "                    var e = document.getElementById(\"OQMi2m\");\n",
       "                    e.appendChild(script);\n",
       "                })()\n",
       "            </script>\n",
       "            "
      ]
     },
     "metadata": {},
     "output_type": "display_data"
    }
   ],
   "source": [
    "LetsPlot.setup_html()"
   ]
  },
  {
   "cell_type": "code",
   "execution_count": 3,
   "id": "69b367d1",
   "metadata": {
    "execution": {
     "iopub.execute_input": "2024-09-27T17:59:48.320176Z",
     "iopub.status.busy": "2024-09-27T17:59:48.320100Z",
     "iopub.status.idle": "2024-09-27T17:59:48.321813Z",
     "shell.execute_reply": "2024-09-27T17:59:48.321623Z"
    }
   },
   "outputs": [],
   "source": [
    "x = np.arange(1, 10)\n",
    "y = x[::-1]\n",
    "data = {'x': x, 'y': y, 'alpha': x}"
   ]
  },
  {
   "cell_type": "code",
   "execution_count": 4,
   "id": "cde65d4b",
   "metadata": {
    "execution": {
     "iopub.execute_input": "2024-09-27T17:59:48.322796Z",
     "iopub.status.busy": "2024-09-27T17:59:48.322723Z",
     "iopub.status.idle": "2024-09-27T17:59:48.349099Z",
     "shell.execute_reply": "2024-09-27T17:59:48.348823Z"
    }
   },
   "outputs": [],
   "source": [
    "p = ggplot(data, aes(x='x', y='y', alpha='y')) + \\\n",
    "    geom_bar(stat='identity', fill='#2b8cbe', tooltips='none') + \\\n",
    "    guides(alpha='none')"
   ]
  },
  {
   "cell_type": "code",
   "execution_count": 5,
   "id": "13dd84d6",
   "metadata": {
    "execution": {
     "iopub.execute_input": "2024-09-27T17:59:48.350264Z",
     "iopub.status.busy": "2024-09-27T17:59:48.350189Z",
     "iopub.status.idle": "2024-09-27T17:59:48.354031Z",
     "shell.execute_reply": "2024-09-27T17:59:48.353822Z"
    }
   },
   "outputs": [
    {
     "data": {
      "text/html": [
       "   <div id=\"EOPkzV\"></div>\n",
       "   <script type=\"text/javascript\" data-lets-plot-script=\"plot\">\n",
       "       (function() {\n",
       "           var plotSpec={\n",
       "\"data\":{\n",
       "\"x\":[1.0,2.0,3.0,4.0,5.0,6.0,7.0,8.0,9.0],\n",
       "\"y\":[9.0,8.0,7.0,6.0,5.0,4.0,3.0,2.0,1.0]\n",
       "},\n",
       "\"mapping\":{\n",
       "\"x\":\"x\",\n",
       "\"y\":\"y\",\n",
       "\"alpha\":\"y\"\n",
       "},\n",
       "\"data_meta\":{\n",
       "\"series_annotations\":[{\n",
       "\"type\":\"int\",\n",
       "\"column\":\"x\"\n",
       "},{\n",
       "\"type\":\"int\",\n",
       "\"column\":\"y\"\n",
       "},{\n",
       "\"type\":\"int\",\n",
       "\"column\":\"alpha\"\n",
       "}]\n",
       "},\n",
       "\"guides\":{\n",
       "\"alpha\":\"none\"\n",
       "},\n",
       "\"kind\":\"plot\",\n",
       "\"scales\":[],\n",
       "\"layers\":[{\n",
       "\"geom\":\"bar\",\n",
       "\"stat\":\"identity\",\n",
       "\"mapping\":{\n",
       "},\n",
       "\"tooltips\":\"none\",\n",
       "\"data_meta\":{\n",
       "},\n",
       "\"fill\":\"#2b8cbe\",\n",
       "\"data\":{\n",
       "}\n",
       "},{\n",
       "\"geom\":\"label\",\n",
       "\"mapping\":{\n",
       "\"label\":\"y\"\n",
       "},\n",
       "\"data_meta\":{\n",
       "},\n",
       "\"label_format\":\".1f\",\n",
       "\"nudge_y\":1.0,\n",
       "\"fill\":\"#2b8cbe\",\n",
       "\"data\":{\n",
       "}\n",
       "}],\n",
       "\"metainfo_list\":[]\n",
       "};\n",
       "           var plotContainer = document.getElementById(\"EOPkzV\");\n",
       "           window.letsPlotCall(function() {{\n",
       "               LetsPlot.buildPlotFromProcessedSpecs(plotSpec, -1, -1, plotContainer);\n",
       "           }});\n",
       "       })();\n",
       "   </script>"
      ],
      "text/plain": [
       "<lets_plot.plot.core.PlotSpec at 0x10768f940>"
      ]
     },
     "execution_count": 5,
     "metadata": {},
     "output_type": "execute_result"
    }
   ],
   "source": [
    "p + geom_label(aes(label='y'), nudge_y=1, label_format='.1f', fill='#2b8cbe')"
   ]
  },
  {
   "cell_type": "markdown",
   "id": "6c389fe2",
   "metadata": {},
   "source": [
    "#### Use `alpha_stroke` Parameter to Apply `alpha` to `color`"
   ]
  },
  {
   "cell_type": "code",
   "execution_count": 6,
   "id": "b1b29160",
   "metadata": {
    "execution": {
     "iopub.execute_input": "2024-09-27T17:59:48.355056Z",
     "iopub.status.busy": "2024-09-27T17:59:48.354982Z",
     "iopub.status.idle": "2024-09-27T17:59:48.357427Z",
     "shell.execute_reply": "2024-09-27T17:59:48.357219Z"
    }
   },
   "outputs": [
    {
     "data": {
      "text/html": [
       "   <div id=\"ROkgaW\"></div>\n",
       "   <script type=\"text/javascript\" data-lets-plot-script=\"plot\">\n",
       "       (function() {\n",
       "           var plotSpec={\n",
       "\"data\":{\n",
       "\"x\":[1.0,2.0,3.0,4.0,5.0,6.0,7.0,8.0,9.0],\n",
       "\"y\":[9.0,8.0,7.0,6.0,5.0,4.0,3.0,2.0,1.0]\n",
       "},\n",
       "\"mapping\":{\n",
       "\"x\":\"x\",\n",
       "\"y\":\"y\",\n",
       "\"alpha\":\"y\"\n",
       "},\n",
       "\"data_meta\":{\n",
       "\"series_annotations\":[{\n",
       "\"type\":\"int\",\n",
       "\"column\":\"x\"\n",
       "},{\n",
       "\"type\":\"int\",\n",
       "\"column\":\"y\"\n",
       "},{\n",
       "\"type\":\"int\",\n",
       "\"column\":\"alpha\"\n",
       "}]\n",
       "},\n",
       "\"guides\":{\n",
       "\"alpha\":\"none\"\n",
       "},\n",
       "\"kind\":\"plot\",\n",
       "\"scales\":[],\n",
       "\"layers\":[{\n",
       "\"geom\":\"bar\",\n",
       "\"stat\":\"identity\",\n",
       "\"mapping\":{\n",
       "},\n",
       "\"tooltips\":\"none\",\n",
       "\"data_meta\":{\n",
       "},\n",
       "\"fill\":\"#2b8cbe\",\n",
       "\"data\":{\n",
       "}\n",
       "},{\n",
       "\"geom\":\"label\",\n",
       "\"mapping\":{\n",
       "\"label\":\"y\"\n",
       "},\n",
       "\"data_meta\":{\n",
       "},\n",
       "\"label_format\":\".1f\",\n",
       "\"nudge_y\":1.0,\n",
       "\"alpha_stroke\":true,\n",
       "\"fill\":\"#2b8cbe\",\n",
       "\"data\":{\n",
       "}\n",
       "}],\n",
       "\"metainfo_list\":[]\n",
       "};\n",
       "           var plotContainer = document.getElementById(\"ROkgaW\");\n",
       "           window.letsPlotCall(function() {{\n",
       "               LetsPlot.buildPlotFromProcessedSpecs(plotSpec, -1, -1, plotContainer);\n",
       "           }});\n",
       "       })();\n",
       "   </script>"
      ],
      "text/plain": [
       "<lets_plot.plot.core.PlotSpec at 0x1263274c0>"
      ]
     },
     "execution_count": 6,
     "metadata": {},
     "output_type": "execute_result"
    }
   ],
   "source": [
    "p + geom_label(aes(label='y'), nudge_y=1, label_format='.1f', fill='#2b8cbe', alpha_stroke=True)"
   ]
  }
 ],
 "metadata": {
  "kernelspec": {
   "display_name": "Python 3 (ipykernel)",
   "language": "python",
   "name": "python3"
  },
  "language_info": {
   "codemirror_mode": {
    "name": "ipython",
    "version": 3
   },
   "file_extension": ".py",
   "mimetype": "text/x-python",
   "name": "python",
   "nbconvert_exporter": "python",
   "pygments_lexer": "ipython3",
   "version": "3.10.15"
  }
 },
 "nbformat": 4,
 "nbformat_minor": 5
}
