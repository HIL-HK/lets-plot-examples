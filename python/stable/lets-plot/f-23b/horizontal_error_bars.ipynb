{
 "cells": [
  {
   "cell_type": "markdown",
   "metadata": {},
   "source": [
    "# Horizontal error bars and vertical \"dodge\"\n",
    "\n",
    "`geom_errorbar()` can be plotted horizontally by assigning `y`,`xmin`,`xmax` aesthetics. The height of the error bar is defined by the `height`.\n",
    "\n",
    "New type of position adjustment `'dodgev'` is used to adjust the position by dodging overlaps to the side. Function `position_dodgev(height)` allows to set the dodge height.\n",
    "\n"
   ]
  },
  {
   "cell_type": "code",
   "execution_count": 1,
   "metadata": {
    "execution": {
     "iopub.execute_input": "2024-10-02T08:38:08.538295Z",
     "iopub.status.busy": "2024-10-02T08:38:08.538031Z",
     "iopub.status.idle": "2024-10-02T08:38:08.972510Z",
     "shell.execute_reply": "2024-10-02T08:38:08.972225Z"
    }
   },
   "outputs": [
    {
     "data": {
      "text/html": [
       "\n",
       "            <div id=\"rHUBD6\"></div>\n",
       "            <script type=\"text/javascript\" data-lets-plot-script=\"library\">\n",
       "                if(!window.letsPlotCallQueue) {\n",
       "                    window.letsPlotCallQueue = [];\n",
       "                }; \n",
       "                window.letsPlotCall = function(f) {\n",
       "                    window.letsPlotCallQueue.push(f);\n",
       "                };\n",
       "                (function() {\n",
       "                    var script = document.createElement(\"script\");\n",
       "                    script.type = \"text/javascript\";\n",
       "                    script.src = \"https://cdn.jsdelivr.net/gh/JetBrains/lets-plot@v4.4.1/js-package/distr/lets-plot.min.js\";\n",
       "                    script.onload = function() {\n",
       "                        window.letsPlotCall = function(f) {f();};\n",
       "                        window.letsPlotCallQueue.forEach(function(f) {f();});\n",
       "                        window.letsPlotCallQueue = [];\n",
       "                        \n",
       "                    };\n",
       "                    script.onerror = function(event) {\n",
       "                        window.letsPlotCall = function(f) {};    // noop\n",
       "                        window.letsPlotCallQueue = [];\n",
       "                        var div = document.createElement(\"div\");\n",
       "                        div.style.color = 'darkred';\n",
       "                        div.textContent = 'Error loading Lets-Plot JS';\n",
       "                        document.getElementById(\"rHUBD6\").appendChild(div);\n",
       "                    };\n",
       "                    var e = document.getElementById(\"rHUBD6\");\n",
       "                    e.appendChild(script);\n",
       "                })()\n",
       "            </script>\n",
       "            "
      ]
     },
     "metadata": {},
     "output_type": "display_data"
    }
   ],
   "source": [
    "from lets_plot import *\n",
    "LetsPlot.setup_html()"
   ]
  },
  {
   "cell_type": "markdown",
   "metadata": {},
   "source": [
    "#### 1. The \"Tooth Growth\" Dataset"
   ]
  },
  {
   "cell_type": "markdown",
   "metadata": {},
   "source": [
    "The ToothGrowth dataset describes the effect of Vitamin C on tooth growth in guinea pigs. Each animal received one of three dose levels of vitamin C (0.5, 1, and 2 mg/day) by one of two delivery methods: orange juice (OJ) or ascorbic acid (VC)."
   ]
  },
  {
   "cell_type": "code",
   "execution_count": 2,
   "metadata": {
    "execution": {
     "iopub.execute_input": "2024-10-02T08:38:08.988772Z",
     "iopub.status.busy": "2024-10-02T08:38:08.988600Z",
     "iopub.status.idle": "2024-10-02T08:38:09.457980Z",
     "shell.execute_reply": "2024-10-02T08:38:09.457470Z"
    }
   },
   "outputs": [
    {
     "data": {
      "text/html": [
       "<div>\n",
       "<style scoped>\n",
       "    .dataframe tbody tr th:only-of-type {\n",
       "        vertical-align: middle;\n",
       "    }\n",
       "\n",
       "    .dataframe tbody tr th {\n",
       "        vertical-align: top;\n",
       "    }\n",
       "\n",
       "    .dataframe thead th {\n",
       "        text-align: right;\n",
       "    }\n",
       "</style>\n",
       "<table border=\"1\" class=\"dataframe\">\n",
       "  <thead>\n",
       "    <tr style=\"text-align: right;\">\n",
       "      <th></th>\n",
       "      <th>len</th>\n",
       "      <th>supp</th>\n",
       "      <th>dose</th>\n",
       "    </tr>\n",
       "  </thead>\n",
       "  <tbody>\n",
       "    <tr>\n",
       "      <th>0</th>\n",
       "      <td>4.2</td>\n",
       "      <td>VC</td>\n",
       "      <td>0.5</td>\n",
       "    </tr>\n",
       "    <tr>\n",
       "      <th>1</th>\n",
       "      <td>11.5</td>\n",
       "      <td>VC</td>\n",
       "      <td>0.5</td>\n",
       "    </tr>\n",
       "    <tr>\n",
       "      <th>2</th>\n",
       "      <td>7.3</td>\n",
       "      <td>VC</td>\n",
       "      <td>0.5</td>\n",
       "    </tr>\n",
       "    <tr>\n",
       "      <th>3</th>\n",
       "      <td>5.8</td>\n",
       "      <td>VC</td>\n",
       "      <td>0.5</td>\n",
       "    </tr>\n",
       "    <tr>\n",
       "      <th>4</th>\n",
       "      <td>6.4</td>\n",
       "      <td>VC</td>\n",
       "      <td>0.5</td>\n",
       "    </tr>\n",
       "  </tbody>\n",
       "</table>\n",
       "</div>"
      ],
      "text/plain": [
       "    len supp  dose\n",
       "0   4.2   VC   0.5\n",
       "1  11.5   VC   0.5\n",
       "2   7.3   VC   0.5\n",
       "3   5.8   VC   0.5\n",
       "4   6.4   VC   0.5"
      ]
     },
     "execution_count": 2,
     "metadata": {},
     "output_type": "execute_result"
    }
   ],
   "source": [
    "import pandas as pd\n",
    "\n",
    "df = pd.read_csv(\"https://raw.githubusercontent.com/JetBrains/lets-plot-docs/master/data/ToothGrowth.csv\")\n",
    "df.head()"
   ]
  },
  {
   "cell_type": "markdown",
   "metadata": {},
   "source": [
    "* len : Tooth length\n",
    "* dose : Dose in milligrams (0.5, 1, 2)\n",
    "* supp : Supplement type (VC or OJ)"
   ]
  },
  {
   "cell_type": "markdown",
   "metadata": {},
   "source": [
    "Let's calculate the mean value of tooth length in each group, minimum and maximum values, and use these information to plot error bars."
   ]
  },
  {
   "cell_type": "code",
   "execution_count": 3,
   "metadata": {
    "execution": {
     "iopub.execute_input": "2024-10-02T08:38:09.460980Z",
     "iopub.status.busy": "2024-10-02T08:38:09.460677Z",
     "iopub.status.idle": "2024-10-02T08:38:09.473801Z",
     "shell.execute_reply": "2024-10-02T08:38:09.473400Z"
    }
   },
   "outputs": [
    {
     "data": {
      "text/html": [
       "<div>\n",
       "<style scoped>\n",
       "    .dataframe tbody tr th:only-of-type {\n",
       "        vertical-align: middle;\n",
       "    }\n",
       "\n",
       "    .dataframe tbody tr th {\n",
       "        vertical-align: top;\n",
       "    }\n",
       "\n",
       "    .dataframe thead th {\n",
       "        text-align: right;\n",
       "    }\n",
       "</style>\n",
       "<table border=\"1\" class=\"dataframe\">\n",
       "  <thead>\n",
       "    <tr style=\"text-align: right;\">\n",
       "      <th></th>\n",
       "      <th>supp</th>\n",
       "      <th>dose</th>\n",
       "      <th>length</th>\n",
       "      <th>len_min</th>\n",
       "      <th>len_max</th>\n",
       "    </tr>\n",
       "  </thead>\n",
       "  <tbody>\n",
       "    <tr>\n",
       "      <th>0</th>\n",
       "      <td>OJ</td>\n",
       "      <td>0.5</td>\n",
       "      <td>13.23</td>\n",
       "      <td>8.2</td>\n",
       "      <td>21.5</td>\n",
       "    </tr>\n",
       "    <tr>\n",
       "      <th>1</th>\n",
       "      <td>OJ</td>\n",
       "      <td>1.0</td>\n",
       "      <td>22.70</td>\n",
       "      <td>14.5</td>\n",
       "      <td>27.3</td>\n",
       "    </tr>\n",
       "    <tr>\n",
       "      <th>2</th>\n",
       "      <td>OJ</td>\n",
       "      <td>2.0</td>\n",
       "      <td>26.06</td>\n",
       "      <td>22.4</td>\n",
       "      <td>30.9</td>\n",
       "    </tr>\n",
       "    <tr>\n",
       "      <th>3</th>\n",
       "      <td>VC</td>\n",
       "      <td>0.5</td>\n",
       "      <td>7.98</td>\n",
       "      <td>4.2</td>\n",
       "      <td>11.5</td>\n",
       "    </tr>\n",
       "    <tr>\n",
       "      <th>4</th>\n",
       "      <td>VC</td>\n",
       "      <td>1.0</td>\n",
       "      <td>16.77</td>\n",
       "      <td>13.6</td>\n",
       "      <td>22.5</td>\n",
       "    </tr>\n",
       "    <tr>\n",
       "      <th>5</th>\n",
       "      <td>VC</td>\n",
       "      <td>2.0</td>\n",
       "      <td>26.14</td>\n",
       "      <td>18.5</td>\n",
       "      <td>33.9</td>\n",
       "    </tr>\n",
       "  </tbody>\n",
       "</table>\n",
       "</div>"
      ],
      "text/plain": [
       "  supp  dose  length  len_min  len_max\n",
       "0   OJ   0.5   13.23      8.2     21.5\n",
       "1   OJ   1.0   22.70     14.5     27.3\n",
       "2   OJ   2.0   26.06     22.4     30.9\n",
       "3   VC   0.5    7.98      4.2     11.5\n",
       "4   VC   1.0   16.77     13.6     22.5\n",
       "5   VC   2.0   26.14     18.5     33.9"
      ]
     },
     "execution_count": 3,
     "metadata": {},
     "output_type": "execute_result"
    }
   ],
   "source": [
    "import numpy as np\n",
    "\n",
    "data = {}\n",
    "\n",
    "for supp_lvl in np.unique(df['supp']):\n",
    "    for dose_lvl in np.unique(df['dose']):\n",
    "        data_to_sum = df[(df['supp'] == supp_lvl) & (df['dose'] == dose_lvl)]\n",
    "\n",
    "        mean = data_to_sum['len'].mean()\n",
    "        len_min =  data_to_sum['len'].min()\n",
    "        len_max = data_to_sum['len'].max()\n",
    "\n",
    "        data.setdefault('supp', []).append(supp_lvl)\n",
    "        data.setdefault('dose', []).append(dose_lvl)\n",
    "        data.setdefault('length', []).append(mean)\n",
    "        data.setdefault('len_min', []).append(len_min)\n",
    "        data.setdefault('len_max', []).append(len_max)\n",
    "        \n",
    "pd.DataFrame(data)        "
   ]
  },
  {
   "cell_type": "markdown",
   "metadata": {},
   "source": [
    "#### 2. Error Bars without a Position Adjustment"
   ]
  },
  {
   "cell_type": "code",
   "execution_count": 4,
   "metadata": {
    "execution": {
     "iopub.execute_input": "2024-10-02T08:38:09.475479Z",
     "iopub.status.busy": "2024-10-02T08:38:09.475333Z",
     "iopub.status.idle": "2024-10-02T08:38:09.514709Z",
     "shell.execute_reply": "2024-10-02T08:38:09.514417Z"
    }
   },
   "outputs": [
    {
     "data": {
      "text/html": [
       "   <div id=\"YZCXY9\"></div>\n",
       "   <script type=\"text/javascript\" data-lets-plot-script=\"plot\">\n",
       "       (function() {\n",
       "           var plotSpec={\n",
       "\"data\":{\n",
       "\"supp\":[\"OJ\",\"OJ\",\"OJ\",\"VC\",\"VC\",\"VC\"],\n",
       "\"dose\":[0.5,1.0,2.0,0.5,1.0,2.0],\n",
       "\"len_min\":[8.2,14.5,22.4,4.2,13.6,18.5],\n",
       "\"len_max\":[21.5,27.3,30.9,11.5,22.5,33.9]\n",
       "},\n",
       "\"mapping\":{\n",
       "},\n",
       "\"data_meta\":{\n",
       "\"series_annotations\":[{\n",
       "\"type\":\"str\",\n",
       "\"column\":\"supp\"\n",
       "},{\n",
       "\"type\":\"float\",\n",
       "\"column\":\"dose\"\n",
       "},{\n",
       "\"type\":\"float\",\n",
       "\"column\":\"length\"\n",
       "},{\n",
       "\"type\":\"float\",\n",
       "\"column\":\"len_min\"\n",
       "},{\n",
       "\"type\":\"float\",\n",
       "\"column\":\"len_max\"\n",
       "}]\n",
       "},\n",
       "\"guides\":{\n",
       "\"x\":{\n",
       "\"title\":\"Tooth length [mm]\"\n",
       "}\n",
       "},\n",
       "\"kind\":\"plot\",\n",
       "\"scales\":[{\n",
       "\"aesthetic\":\"color\",\n",
       "\"palette\":\"Set1\",\n",
       "\"scale_mapper_kind\":\"color_brewer\"\n",
       "}],\n",
       "\"layers\":[{\n",
       "\"geom\":\"errorbar\",\n",
       "\"mapping\":{\n",
       "\"y\":\"dose\",\n",
       "\"xmin\":\"len_min\",\n",
       "\"xmax\":\"len_max\",\n",
       "\"color\":\"supp\"\n",
       "},\n",
       "\"data_meta\":{\n",
       "},\n",
       "\"height\":0.2,\n",
       "\"size\":1.2,\n",
       "\"data\":{\n",
       "}\n",
       "}],\n",
       "\"metainfo_list\":[]\n",
       "};\n",
       "           var plotContainer = document.getElementById(\"YZCXY9\");\n",
       "           window.letsPlotCall(function() {{\n",
       "               LetsPlot.buildPlotFromProcessedSpecs(plotSpec, -1, -1, plotContainer);\n",
       "           }});\n",
       "       })();\n",
       "   </script>"
      ],
      "text/plain": [
       "<lets_plot.plot.core.PlotSpec at 0x103813670>"
      ]
     },
     "execution_count": 4,
     "metadata": {},
     "output_type": "execute_result"
    }
   ],
   "source": [
    "ggplot(data) + \\\n",
    "    geom_errorbar(aes(y='dose', xmin='len_min', xmax='len_max', color='supp'), height=0.2, size=1.2) + \\\n",
    "    scale_color_brewer(palette=\"Set1\") + \\\n",
    "    labs(x=\"Tooth length [mm]\")"
   ]
  },
  {
   "cell_type": "markdown",
   "metadata": {},
   "source": [
    "#### 3. Error Bars with  `position = 'dodgev'`\n",
    "\n",
    "\n",
    "To fix errorbars overlapping, use `position_dodgev(height)` - to move them vertically."
   ]
  },
  {
   "cell_type": "code",
   "execution_count": 5,
   "metadata": {
    "execution": {
     "iopub.execute_input": "2024-10-02T08:38:09.516093Z",
     "iopub.status.busy": "2024-10-02T08:38:09.515999Z",
     "iopub.status.idle": "2024-10-02T08:38:09.519191Z",
     "shell.execute_reply": "2024-10-02T08:38:09.518953Z"
    }
   },
   "outputs": [
    {
     "data": {
      "text/html": [
       "   <div id=\"SO1Zul\"></div>\n",
       "   <script type=\"text/javascript\" data-lets-plot-script=\"plot\">\n",
       "       (function() {\n",
       "           var plotSpec={\n",
       "\"data\":{\n",
       "\"supp\":[\"OJ\",\"OJ\",\"OJ\",\"VC\",\"VC\",\"VC\"],\n",
       "\"dose\":[0.5,1.0,2.0,0.5,1.0,2.0],\n",
       "\"len_min\":[8.2,14.5,22.4,4.2,13.6,18.5],\n",
       "\"len_max\":[21.5,27.3,30.9,11.5,22.5,33.9]\n",
       "},\n",
       "\"mapping\":{\n",
       "},\n",
       "\"data_meta\":{\n",
       "\"series_annotations\":[{\n",
       "\"type\":\"str\",\n",
       "\"column\":\"supp\"\n",
       "},{\n",
       "\"type\":\"float\",\n",
       "\"column\":\"dose\"\n",
       "},{\n",
       "\"type\":\"float\",\n",
       "\"column\":\"length\"\n",
       "},{\n",
       "\"type\":\"float\",\n",
       "\"column\":\"len_min\"\n",
       "},{\n",
       "\"type\":\"float\",\n",
       "\"column\":\"len_max\"\n",
       "}]\n",
       "},\n",
       "\"guides\":{\n",
       "\"x\":{\n",
       "\"title\":\"Tooth length [mm]\"\n",
       "}\n",
       "},\n",
       "\"kind\":\"plot\",\n",
       "\"scales\":[{\n",
       "\"aesthetic\":\"color\",\n",
       "\"palette\":\"Set1\",\n",
       "\"scale_mapper_kind\":\"color_brewer\"\n",
       "}],\n",
       "\"layers\":[{\n",
       "\"geom\":\"errorbar\",\n",
       "\"mapping\":{\n",
       "\"y\":\"dose\",\n",
       "\"xmin\":\"len_min\",\n",
       "\"xmax\":\"len_max\",\n",
       "\"color\":\"supp\"\n",
       "},\n",
       "\"position\":{\n",
       "\"name\":\"dodgev\",\n",
       "\"height\":0.4\n",
       "},\n",
       "\"data_meta\":{\n",
       "},\n",
       "\"height\":0.2,\n",
       "\"size\":1.2,\n",
       "\"data\":{\n",
       "}\n",
       "}],\n",
       "\"metainfo_list\":[]\n",
       "};\n",
       "           var plotContainer = document.getElementById(\"SO1Zul\");\n",
       "           window.letsPlotCall(function() {{\n",
       "               LetsPlot.buildPlotFromProcessedSpecs(plotSpec, -1, -1, plotContainer);\n",
       "           }});\n",
       "       })();\n",
       "   </script>"
      ],
      "text/plain": [
       "<lets_plot.plot.core.PlotSpec at 0x134685990>"
      ]
     },
     "execution_count": 5,
     "metadata": {},
     "output_type": "execute_result"
    }
   ],
   "source": [
    "ggplot(data) + \\\n",
    "    geom_errorbar(aes(y='dose', xmin='len_min', xmax='len_max', color='supp'), height=0.2, size=1.2,\n",
    "                  position=position_dodgev(0.4)) + \\\n",
    "    scale_color_brewer(palette=\"Set1\") + \\\n",
    "    labs(x=\"Tooth length [mm]\")"
   ]
  },
  {
   "cell_type": "markdown",
   "metadata": {},
   "source": [
    "#### 4. Error Bars on Bar Plot"
   ]
  },
  {
   "cell_type": "code",
   "execution_count": 6,
   "metadata": {
    "execution": {
     "iopub.execute_input": "2024-10-02T08:38:09.520353Z",
     "iopub.status.busy": "2024-10-02T08:38:09.520275Z",
     "iopub.status.idle": "2024-10-02T08:38:09.524421Z",
     "shell.execute_reply": "2024-10-02T08:38:09.524092Z"
    }
   },
   "outputs": [
    {
     "data": {
      "text/html": [
       "   <div id=\"g6H1aG\"></div>\n",
       "   <script type=\"text/javascript\" data-lets-plot-script=\"plot\">\n",
       "       (function() {\n",
       "           var plotSpec={\n",
       "\"data\":{\n",
       "\"supp\":[\"OJ\",\"OJ\",\"OJ\",\"VC\",\"VC\",\"VC\"],\n",
       "\"dose\":[0.5,1.0,2.0,0.5,1.0,2.0],\n",
       "\"length\":[13.229999999999999,22.7,26.060000000000002,7.9799999999999995,16.770000000000003,26.139999999999997],\n",
       "\"len_min\":[8.2,14.5,22.4,4.2,13.6,18.5],\n",
       "\"len_max\":[21.5,27.3,30.9,11.5,22.5,33.9]\n",
       "},\n",
       "\"mapping\":{\n",
       "\"y\":\"dose\"\n",
       "},\n",
       "\"data_meta\":{\n",
       "\"series_annotations\":[{\n",
       "\"type\":\"str\",\n",
       "\"column\":\"supp\"\n",
       "},{\n",
       "\"type\":\"float\",\n",
       "\"column\":\"dose\"\n",
       "},{\n",
       "\"type\":\"float\",\n",
       "\"column\":\"length\"\n",
       "},{\n",
       "\"type\":\"float\",\n",
       "\"column\":\"len_min\"\n",
       "},{\n",
       "\"type\":\"float\",\n",
       "\"column\":\"len_max\"\n",
       "}]\n",
       "},\n",
       "\"kind\":\"plot\",\n",
       "\"scales\":[{\n",
       "\"aesthetic\":\"fill\",\n",
       "\"palette\":\"Paired\",\n",
       "\"scale_mapper_kind\":\"color_brewer\"\n",
       "}],\n",
       "\"layers\":[{\n",
       "\"geom\":\"bar\",\n",
       "\"stat\":\"identity\",\n",
       "\"mapping\":{\n",
       "\"x\":\"length\",\n",
       "\"fill\":\"supp\"\n",
       "},\n",
       "\"position\":\"dodge\",\n",
       "\"data_meta\":{\n",
       "},\n",
       "\"orientation\":\"y\",\n",
       "\"data\":{\n",
       "}\n",
       "},{\n",
       "\"geom\":\"errorbar\",\n",
       "\"mapping\":{\n",
       "\"xmin\":\"len_min\",\n",
       "\"xmax\":\"len_max\",\n",
       "\"group\":\"supp\"\n",
       "},\n",
       "\"position\":{\n",
       "\"name\":\"dodgev\",\n",
       "\"height\":0.9\n",
       "},\n",
       "\"data_meta\":{\n",
       "},\n",
       "\"height\":0.2,\n",
       "\"size\":1.2,\n",
       "\"data\":{\n",
       "}\n",
       "}],\n",
       "\"metainfo_list\":[]\n",
       "};\n",
       "           var plotContainer = document.getElementById(\"g6H1aG\");\n",
       "           window.letsPlotCall(function() {{\n",
       "               LetsPlot.buildPlotFromProcessedSpecs(plotSpec, -1, -1, plotContainer);\n",
       "           }});\n",
       "       })();\n",
       "   </script>"
      ],
      "text/plain": [
       "<lets_plot.plot.core.PlotSpec at 0x1342cbb50>"
      ]
     },
     "execution_count": 6,
     "metadata": {},
     "output_type": "execute_result"
    }
   ],
   "source": [
    "ggplot(data, aes(y='dose')) + \\\n",
    "    geom_bar(aes(x='length', fill='supp'), stat='identity', position='dodge', orientation='y') + \\\n",
    "    geom_errorbar(aes(xmin='len_min', xmax='len_max', group='supp'), height=0.2, size=1.2,\n",
    "                position=position_dodgev(0.9)) + \\\n",
    "    scale_fill_brewer(palette=\"Paired\")\n"
   ]
  }
 ],
 "metadata": {
  "kernelspec": {
   "display_name": "Python 3 (ipykernel)",
   "language": "python",
   "name": "python3"
  },
  "language_info": {
   "codemirror_mode": {
    "name": "ipython",
    "version": 3
   },
   "file_extension": ".py",
   "mimetype": "text/x-python",
   "name": "python",
   "nbconvert_exporter": "python",
   "pygments_lexer": "ipython3",
   "version": "3.10.15"
  }
 },
 "nbformat": 4,
 "nbformat_minor": 4
}
