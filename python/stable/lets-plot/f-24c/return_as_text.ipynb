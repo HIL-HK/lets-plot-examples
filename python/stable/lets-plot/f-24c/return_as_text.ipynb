{
 "cells": [
  {
   "cell_type": "markdown",
   "id": "dbcf1b48",
   "metadata": {},
   "source": [
    "### Return the Content Into a String Using `to_html()` and `to_svg()`"
   ]
  },
  {
   "cell_type": "markdown",
   "id": "c647fc65",
   "metadata": {},
   "source": [
    "You can use the default `None` path value to get SVG or HTML as a string from `ggplot()` or `gggrid()`."
   ]
  },
  {
   "cell_type": "code",
   "execution_count": 1,
   "id": "18d75fe2",
   "metadata": {
    "execution": {
     "iopub.execute_input": "2024-10-02T08:41:28.609266Z",
     "iopub.status.busy": "2024-10-02T08:41:28.609026Z",
     "iopub.status.idle": "2024-10-02T08:41:29.065837Z",
     "shell.execute_reply": "2024-10-02T08:41:29.065486Z"
    }
   },
   "outputs": [],
   "source": [
    "from IPython import display\n",
    "from lets_plot import *"
   ]
  },
  {
   "cell_type": "code",
   "execution_count": 2,
   "id": "9dc3feaa",
   "metadata": {
    "execution": {
     "iopub.execute_input": "2024-10-02T08:41:29.067253Z",
     "iopub.status.busy": "2024-10-02T08:41:29.067130Z",
     "iopub.status.idle": "2024-10-02T08:41:29.069495Z",
     "shell.execute_reply": "2024-10-02T08:41:29.069257Z"
    }
   },
   "outputs": [
    {
     "data": {
      "text/html": [
       "\n",
       "            <div id=\"8hIhSs\"></div>\n",
       "            <script type=\"text/javascript\" data-lets-plot-script=\"library\">\n",
       "                if(!window.letsPlotCallQueue) {\n",
       "                    window.letsPlotCallQueue = [];\n",
       "                }; \n",
       "                window.letsPlotCall = function(f) {\n",
       "                    window.letsPlotCallQueue.push(f);\n",
       "                };\n",
       "                (function() {\n",
       "                    var script = document.createElement(\"script\");\n",
       "                    script.type = \"text/javascript\";\n",
       "                    script.src = \"https://cdn.jsdelivr.net/gh/JetBrains/lets-plot@v4.4.1/js-package/distr/lets-plot.min.js\";\n",
       "                    script.onload = function() {\n",
       "                        window.letsPlotCall = function(f) {f();};\n",
       "                        window.letsPlotCallQueue.forEach(function(f) {f();});\n",
       "                        window.letsPlotCallQueue = [];\n",
       "                        \n",
       "                    };\n",
       "                    script.onerror = function(event) {\n",
       "                        window.letsPlotCall = function(f) {};    // noop\n",
       "                        window.letsPlotCallQueue = [];\n",
       "                        var div = document.createElement(\"div\");\n",
       "                        div.style.color = 'darkred';\n",
       "                        div.textContent = 'Error loading Lets-Plot JS';\n",
       "                        document.getElementById(\"8hIhSs\").appendChild(div);\n",
       "                    };\n",
       "                    var e = document.getElementById(\"8hIhSs\");\n",
       "                    e.appendChild(script);\n",
       "                })()\n",
       "            </script>\n",
       "            "
      ]
     },
     "metadata": {},
     "output_type": "display_data"
    }
   ],
   "source": [
    "LetsPlot.setup_html()"
   ]
  },
  {
   "cell_type": "code",
   "execution_count": 3,
   "id": "88b3d38f",
   "metadata": {
    "execution": {
     "iopub.execute_input": "2024-10-02T08:41:29.070617Z",
     "iopub.status.busy": "2024-10-02T08:41:29.070543Z",
     "iopub.status.idle": "2024-10-02T08:41:29.097941Z",
     "shell.execute_reply": "2024-10-02T08:41:29.097594Z"
    }
   },
   "outputs": [],
   "source": [
    "p = ggplot() + geom_point(x=0, y=0)"
   ]
  },
  {
   "cell_type": "code",
   "execution_count": 4,
   "id": "4739e6f3",
   "metadata": {
    "execution": {
     "iopub.execute_input": "2024-10-02T08:41:29.099881Z",
     "iopub.status.busy": "2024-10-02T08:41:29.099742Z",
     "iopub.status.idle": "2024-10-02T08:41:29.105712Z",
     "shell.execute_reply": "2024-10-02T08:41:29.105391Z"
    }
   },
   "outputs": [
    {
     "data": {
      "text/plain": [
       "'<svg xmlns=\"http://www.w3.org/2000/svg\" xmlns:xlink=\"http://www.w3.org/1999/xlink\" display=\"block\" class=\"plt-container\" width=\"600.0\" height=\"400.0\">\\n  <style type=\"text/css\">\\n  .plt-container {\\n   font-family: Lucida Grande, sans-serif;\\n   user-select: none;\\n   -webkit-user-select: none;\\n   -moz-user-select: none;\\n   -ms-user-select: none;\\n}\\ntext {\\n   text-rendering: optimizeLegibility;\\n}\\n#pK6p0bh .plot-title {\\n   fill: #474747;\\n   font-family: Lucida Grande, sans-serif;\\n   font-size: 16.0px;\\n...'"
      ]
     },
     "execution_count": 4,
     "metadata": {},
     "output_type": "execute_result"
    }
   ],
   "source": [
    "p.to_svg()[:500] + '...'"
   ]
  },
  {
   "cell_type": "code",
   "execution_count": 5,
   "id": "8e077162",
   "metadata": {
    "execution": {
     "iopub.execute_input": "2024-10-02T08:41:29.106731Z",
     "iopub.status.busy": "2024-10-02T08:41:29.106655Z",
     "iopub.status.idle": "2024-10-02T08:41:29.111350Z",
     "shell.execute_reply": "2024-10-02T08:41:29.111127Z"
    }
   },
   "outputs": [
    {
     "data": {
      "image/svg+xml": [
       "<svg xmlns=\"http://www.w3.org/2000/svg\" xmlns:xlink=\"http://www.w3.org/1999/xlink\" display=\"block\" class=\"plt-container\" width=\"600.0\" height=\"400.0\">\n",
       "  <style type=\"text/css\">\n",
       "  .plt-container {\n",
       "   font-family: Lucida Grande, sans-serif;\n",
       "   user-select: none;\n",
       "   -webkit-user-select: none;\n",
       "   -moz-user-select: none;\n",
       "   -ms-user-select: none;\n",
       "}\n",
       "text {\n",
       "   text-rendering: optimizeLegibility;\n",
       "}\n",
       "#p8XXyi4 .plot-title {\n",
       "   fill: #474747;\n",
       "   font-family: Lucida Grande, sans-serif;\n",
       "   font-size: 16.0px;\n",
       "   font-weight: normal;\n",
       "   font-style: normal;   \n",
       "}\n",
       "#p8XXyi4 .plot-subtitle {\n",
       "   fill: #474747;\n",
       "   font-family: Lucida Grande, sans-serif;\n",
       "   font-size: 15.0px;\n",
       "   font-weight: normal;\n",
       "   font-style: normal;   \n",
       "}\n",
       "#p8XXyi4 .plot-caption {\n",
       "   fill: #474747;\n",
       "   font-family: Lucida Grande, sans-serif;\n",
       "   font-size: 13.0px;\n",
       "   font-weight: normal;\n",
       "   font-style: normal;   \n",
       "}\n",
       "#p8XXyi4 .legend-title {\n",
       "   fill: #474747;\n",
       "   font-family: Lucida Grande, sans-serif;\n",
       "   font-size: 15.0px;\n",
       "   font-weight: normal;\n",
       "   font-style: normal;   \n",
       "}\n",
       "#p8XXyi4 .legend-item {\n",
       "   fill: #474747;\n",
       "   font-family: Lucida Grande, sans-serif;\n",
       "   font-size: 13.0px;\n",
       "   font-weight: normal;\n",
       "   font-style: normal;   \n",
       "}\n",
       "#p8XXyi4 .axis-title-x {\n",
       "   fill: #474747;\n",
       "   font-family: Lucida Grande, sans-serif;\n",
       "   font-size: 15.0px;\n",
       "   font-weight: normal;\n",
       "   font-style: normal;   \n",
       "}\n",
       "#p8XXyi4 .axis-text-x {\n",
       "   fill: #474747;\n",
       "   font-family: Lucida Grande, sans-serif;\n",
       "   font-size: 13.0px;\n",
       "   font-weight: normal;\n",
       "   font-style: normal;   \n",
       "}\n",
       "#d6KGrwq .axis-tooltip-text-x {\n",
       "   fill: #ffffff;\n",
       "   font-family: Lucida Grande, sans-serif;\n",
       "   font-size: 13.0px;\n",
       "   font-weight: normal;\n",
       "   font-style: normal;   \n",
       "}\n",
       "#p8XXyi4 .axis-title-y {\n",
       "   fill: #474747;\n",
       "   font-family: Lucida Grande, sans-serif;\n",
       "   font-size: 15.0px;\n",
       "   font-weight: normal;\n",
       "   font-style: normal;   \n",
       "}\n",
       "#p8XXyi4 .axis-text-y {\n",
       "   fill: #474747;\n",
       "   font-family: Lucida Grande, sans-serif;\n",
       "   font-size: 13.0px;\n",
       "   font-weight: normal;\n",
       "   font-style: normal;   \n",
       "}\n",
       "#d6KGrwq .axis-tooltip-text-y {\n",
       "   fill: #ffffff;\n",
       "   font-family: Lucida Grande, sans-serif;\n",
       "   font-size: 13.0px;\n",
       "   font-weight: normal;\n",
       "   font-style: normal;   \n",
       "}\n",
       "#p8XXyi4 .facet-strip-text-x {\n",
       "   fill: #474747;\n",
       "   font-family: Lucida Grande, sans-serif;\n",
       "   font-size: 13.0px;\n",
       "   font-weight: normal;\n",
       "   font-style: normal;   \n",
       "}\n",
       "#p8XXyi4 .facet-strip-text-y {\n",
       "   fill: #474747;\n",
       "   font-family: Lucida Grande, sans-serif;\n",
       "   font-size: 13.0px;\n",
       "   font-weight: normal;\n",
       "   font-style: normal;   \n",
       "}\n",
       "#d6KGrwq .tooltip-text {\n",
       "   fill: #474747;\n",
       "   font-family: Lucida Grande, sans-serif;\n",
       "   font-size: 13.0px;\n",
       "   font-weight: normal;\n",
       "   font-style: normal;   \n",
       "}\n",
       "#d6KGrwq .tooltip-title {\n",
       "   fill: #474747;\n",
       "   font-family: Lucida Grande, sans-serif;\n",
       "   font-size: 13.0px;\n",
       "   font-weight: bold;\n",
       "   font-style: normal;   \n",
       "}\n",
       "#d6KGrwq .tooltip-label {\n",
       "   fill: #474747;\n",
       "   font-family: Lucida Grande, sans-serif;\n",
       "   font-size: 13.0px;\n",
       "   font-weight: bold;\n",
       "   font-style: normal;   \n",
       "}\n",
       "\n",
       "  </style>\n",
       "  <g id=\"p8XXyi4\">\n",
       "    <path fill-rule=\"evenodd\" fill=\"rgb(255,255,255)\" fill-opacity=\"1.0\" d=\"M0.0 0.0 L0.0 400.0 L600.0 400.0 L600.0 0.0 Z\">\n",
       "    </path>\n",
       "    <g transform=\"translate(29.5 6.5 ) \">\n",
       "      <g>\n",
       "        <g transform=\"translate(35.01530667574961 0.0 ) \">\n",
       "          <g>\n",
       "            <line x1=\"52.89846933242504\" y1=\"0.0\" x2=\"52.89846933242504\" y2=\"341.0\" stroke=\"rgb(233,233,233)\" stroke-opacity=\"1.0\" stroke-width=\"1.0\" fill=\"none\">\n",
       "            </line>\n",
       "            <line x1=\"158.69540799727514\" y1=\"0.0\" x2=\"158.69540799727514\" y2=\"341.0\" stroke=\"rgb(233,233,233)\" stroke-opacity=\"1.0\" stroke-width=\"1.0\" fill=\"none\">\n",
       "            </line>\n",
       "            <line x1=\"264.4923466621252\" y1=\"0.0\" x2=\"264.4923466621252\" y2=\"341.0\" stroke=\"rgb(233,233,233)\" stroke-opacity=\"1.0\" stroke-width=\"1.0\" fill=\"none\">\n",
       "            </line>\n",
       "            <line x1=\"370.2892853269753\" y1=\"0.0\" x2=\"370.2892853269753\" y2=\"341.0\" stroke=\"rgb(233,233,233)\" stroke-opacity=\"1.0\" stroke-width=\"1.0\" fill=\"none\">\n",
       "            </line>\n",
       "            <line x1=\"476.08622399182536\" y1=\"0.0\" x2=\"476.08622399182536\" y2=\"341.0\" stroke=\"rgb(233,233,233)\" stroke-opacity=\"1.0\" stroke-width=\"1.0\" fill=\"none\">\n",
       "            </line>\n",
       "          </g>\n",
       "        </g>\n",
       "        <g transform=\"translate(35.01530667574961 0.0 ) \">\n",
       "          <g>\n",
       "            <line x1=\"0.0\" y1=\"306.9\" x2=\"528.9846933242504\" y2=\"306.9\" stroke=\"rgb(233,233,233)\" stroke-opacity=\"1.0\" stroke-width=\"1.0\" fill=\"none\">\n",
       "            </line>\n",
       "            <line x1=\"0.0\" y1=\"238.7\" x2=\"528.9846933242504\" y2=\"238.7\" stroke=\"rgb(233,233,233)\" stroke-opacity=\"1.0\" stroke-width=\"1.0\" fill=\"none\">\n",
       "            </line>\n",
       "            <line x1=\"0.0\" y1=\"170.5\" x2=\"528.9846933242504\" y2=\"170.5\" stroke=\"rgb(233,233,233)\" stroke-opacity=\"1.0\" stroke-width=\"1.0\" fill=\"none\">\n",
       "            </line>\n",
       "            <line x1=\"0.0\" y1=\"102.3\" x2=\"528.9846933242504\" y2=\"102.3\" stroke=\"rgb(233,233,233)\" stroke-opacity=\"1.0\" stroke-width=\"1.0\" fill=\"none\">\n",
       "            </line>\n",
       "            <line x1=\"0.0\" y1=\"34.099999999999994\" x2=\"528.9846933242504\" y2=\"34.099999999999994\" stroke=\"rgb(233,233,233)\" stroke-opacity=\"1.0\" stroke-width=\"1.0\" fill=\"none\">\n",
       "            </line>\n",
       "          </g>\n",
       "        </g>\n",
       "      </g>\n",
       "      <g clip-path=\"url(#cBDp1uf)\" clip-bounds-jfx=\"[rect (35.01530667574961, 0.0), (528.9846933242504, 341.0)]\">\n",
       "        <g transform=\"translate(35.01530667574961 0.0 ) \">\n",
       "          <g>\n",
       "            <g>\n",
       "              <g>\n",
       "                <g>\n",
       "                  <circle fill=\"#474747\" stroke=\"#474747\" stroke-opacity=\"0.0\" stroke-width=\"0.0\" cx=\"264.4923466621252\" cy=\"170.5\" r=\"3.3000000000000003\"/>\n",
       "                </g>\n",
       "              </g>\n",
       "            </g>\n",
       "          </g>\n",
       "        </g>\n",
       "        <defs>\n",
       "          <clipPath id=\"cBDp1uf\">\n",
       "            <rect x=\"35.01530667574961\" y=\"0.0\" width=\"528.9846933242504\" height=\"341.0\">\n",
       "            </rect>\n",
       "          </clipPath>\n",
       "        </defs>\n",
       "      </g>\n",
       "      <g>\n",
       "        <g transform=\"translate(35.01530667574961 341.0 ) \">\n",
       "          <g transform=\"translate(52.89846933242504 0.0 ) \">\n",
       "            <line stroke-width=\"1.0\" stroke=\"rgb(71,71,71)\" stroke-opacity=\"1.0\" x2=\"0.0\" y2=\"4.0\">\n",
       "            </line>\n",
       "            <g transform=\"translate(0.0 7.0 ) \">\n",
       "              <text class=\"axis-text-x\" text-anchor=\"middle\" dy=\"0.7em\">\n",
       "                <tspan>-0.4</tspan>\n",
       "              </text>\n",
       "            </g>\n",
       "          </g>\n",
       "          <g transform=\"translate(158.69540799727514 0.0 ) \">\n",
       "            <line stroke-width=\"1.0\" stroke=\"rgb(71,71,71)\" stroke-opacity=\"1.0\" x2=\"0.0\" y2=\"4.0\">\n",
       "            </line>\n",
       "            <g transform=\"translate(0.0 7.0 ) \">\n",
       "              <text class=\"axis-text-x\" text-anchor=\"middle\" dy=\"0.7em\">\n",
       "                <tspan>-0.2</tspan>\n",
       "              </text>\n",
       "            </g>\n",
       "          </g>\n",
       "          <g transform=\"translate(264.4923466621252 0.0 ) \">\n",
       "            <line stroke-width=\"1.0\" stroke=\"rgb(71,71,71)\" stroke-opacity=\"1.0\" x2=\"0.0\" y2=\"4.0\">\n",
       "            </line>\n",
       "            <g transform=\"translate(0.0 7.0 ) \">\n",
       "              <text class=\"axis-text-x\" text-anchor=\"middle\" dy=\"0.7em\">\n",
       "                <tspan>0.0</tspan>\n",
       "              </text>\n",
       "            </g>\n",
       "          </g>\n",
       "          <g transform=\"translate(370.2892853269753 0.0 ) \">\n",
       "            <line stroke-width=\"1.0\" stroke=\"rgb(71,71,71)\" stroke-opacity=\"1.0\" x2=\"0.0\" y2=\"4.0\">\n",
       "            </line>\n",
       "            <g transform=\"translate(0.0 7.0 ) \">\n",
       "              <text class=\"axis-text-x\" text-anchor=\"middle\" dy=\"0.7em\">\n",
       "                <tspan>0.2</tspan>\n",
       "              </text>\n",
       "            </g>\n",
       "          </g>\n",
       "          <g transform=\"translate(476.08622399182536 0.0 ) \">\n",
       "            <line stroke-width=\"1.0\" stroke=\"rgb(71,71,71)\" stroke-opacity=\"1.0\" x2=\"0.0\" y2=\"4.0\">\n",
       "            </line>\n",
       "            <g transform=\"translate(0.0 7.0 ) \">\n",
       "              <text class=\"axis-text-x\" text-anchor=\"middle\" dy=\"0.7em\">\n",
       "                <tspan>0.4</tspan>\n",
       "              </text>\n",
       "            </g>\n",
       "          </g>\n",
       "          <line x1=\"0.0\" y1=\"0.0\" x2=\"528.9846933242504\" y2=\"0.0\" stroke-width=\"1.0\" stroke=\"rgb(71,71,71)\" stroke-opacity=\"1.0\">\n",
       "          </line>\n",
       "        </g>\n",
       "        <g transform=\"translate(35.01530667574961 0.0 ) \">\n",
       "          <g transform=\"translate(0.0 306.9 ) \">\n",
       "            <g transform=\"translate(-3.0 0.0 ) \">\n",
       "              <text class=\"axis-text-y\" text-anchor=\"end\" dy=\"0.35em\">\n",
       "                <tspan>-0.4</tspan>\n",
       "              </text>\n",
       "            </g>\n",
       "          </g>\n",
       "          <g transform=\"translate(0.0 238.7 ) \">\n",
       "            <g transform=\"translate(-3.0 0.0 ) \">\n",
       "              <text class=\"axis-text-y\" text-anchor=\"end\" dy=\"0.35em\">\n",
       "                <tspan>-0.2</tspan>\n",
       "              </text>\n",
       "            </g>\n",
       "          </g>\n",
       "          <g transform=\"translate(0.0 170.5 ) \">\n",
       "            <g transform=\"translate(-3.0 0.0 ) \">\n",
       "              <text class=\"axis-text-y\" text-anchor=\"end\" dy=\"0.35em\">\n",
       "                <tspan>0.0</tspan>\n",
       "              </text>\n",
       "            </g>\n",
       "          </g>\n",
       "          <g transform=\"translate(0.0 102.3 ) \">\n",
       "            <g transform=\"translate(-3.0 0.0 ) \">\n",
       "              <text class=\"axis-text-y\" text-anchor=\"end\" dy=\"0.35em\">\n",
       "                <tspan>0.2</tspan>\n",
       "              </text>\n",
       "            </g>\n",
       "          </g>\n",
       "          <g transform=\"translate(0.0 34.099999999999994 ) \">\n",
       "            <g transform=\"translate(-3.0 0.0 ) \">\n",
       "              <text class=\"axis-text-y\" text-anchor=\"end\" dy=\"0.35em\">\n",
       "                <tspan>0.4</tspan>\n",
       "              </text>\n",
       "            </g>\n",
       "          </g>\n",
       "        </g>\n",
       "      </g>\n",
       "    </g>\n",
       "    <g transform=\"translate(16.0 177.0 ) rotate(-90.0 ) \">\n",
       "      <text class=\"axis-title-y\" y=\"0.0\" text-anchor=\"middle\">\n",
       "        <tspan>y</tspan>\n",
       "      </text>\n",
       "    </g>\n",
       "    <g transform=\"translate(329.00765333787484 393.0 ) \">\n",
       "      <text class=\"axis-title-x\" y=\"0.0\" text-anchor=\"middle\">\n",
       "        <tspan>x</tspan>\n",
       "      </text>\n",
       "    </g>\n",
       "    <path fill=\"rgb(0,0,0)\" fill-opacity=\"0.0\" stroke=\"rgb(71,71,71)\" stroke-opacity=\"1.0\" stroke-width=\"0.0\" d=\"M0.0 0.0 L0.0 400.0 L600.0 400.0 L600.0 0.0 Z\">\n",
       "    </path>\n",
       "  </g>\n",
       "  <g id=\"d6KGrwq\">\n",
       "  </g>\n",
       "</svg>"
      ],
      "text/plain": [
       "<IPython.core.display.SVG object>"
      ]
     },
     "execution_count": 5,
     "metadata": {},
     "output_type": "execute_result"
    }
   ],
   "source": [
    "display.SVG(p.to_svg())"
   ]
  },
  {
   "cell_type": "code",
   "execution_count": 6,
   "id": "f8113cbb",
   "metadata": {
    "execution": {
     "iopub.execute_input": "2024-10-02T08:41:29.112427Z",
     "iopub.status.busy": "2024-10-02T08:41:29.112342Z",
     "iopub.status.idle": "2024-10-02T08:41:29.115169Z",
     "shell.execute_reply": "2024-10-02T08:41:29.114972Z"
    }
   },
   "outputs": [
    {
     "data": {
      "text/plain": [
       "'<html lang=\"en\">\\n   <head>\\n       <meta charset=\"UTF-8\">\\n       <script type=\"text/javascript\" data-lets-plot-script=\"library\" src=\"https://cdn.jsdelivr.net/gh/JetBrains/lets-plot@v4.4.1/js-package/distr/lets-plot.min.js\"></script>\\n   </head>\\n   <body>\\n          <div id=\"i0lZVR\"></div>\\n   <script type=\"text/javascript\" data-lets-plot-script=\"plot\">\\n       var plotSpec={\\n\"kind\":\"subplots\",\\n\"layout\":{\\n\"ncol\":2.0,\\n\"nrow\":1.0,\\n\"name\":\"grid\"\\n},\\n\"figures\":[{\\n\"mapping\":{\\n},\\n\"data_meta\":{\\n},\\n\"kind\":\"plot\",\\n\"scales\":[],\\n\"layers\":[{\\n\"geom\":\"point\",\\n\"mapping\":{\\n},\\n\"data_meta\":{\\n},\\n\"x\":0.0,\\n\"y\":0.0,\\n\"data\":{\\n}\\n}],\\n\"metainfo_list\":[]\\n},{\\n\"mapping\":{\\n},\\n\"data_meta\":{\\n},\\n\"kind\":\"plot\",\\n\"scales\":[],\\n\"layers\":[{\\n\"geom\":\"point\",\\n\"mapping\":{\\n},\\n\"data_meta\":{\\n},\\n\"x\":1.0,\\n\"y\":1.0,\\n\"data\":{\\n}\\n}],\\n\"metainfo_list\":[]\\n}]\\n};\\n       var plotContainer = document.getElementById(\"i0lZVR\");\\n       LetsPlot.buildPlotFromProcessedSpecs(plotSpec, -1, -1, plotContainer);\\n   </script>\\n   </body>\\n</html>'"
      ]
     },
     "execution_count": 6,
     "metadata": {},
     "output_type": "execute_result"
    }
   ],
   "source": [
    "grid = gggrid([\n",
    "    ggplot() + geom_point(x=0, y=0),\n",
    "    ggplot() + geom_point(x=1.0, y=1.0)\n",
    "])\n",
    "grid.to_html()"
   ]
  },
  {
   "cell_type": "code",
   "execution_count": 7,
   "id": "afb7841f",
   "metadata": {
    "execution": {
     "iopub.execute_input": "2024-10-02T08:41:29.116185Z",
     "iopub.status.busy": "2024-10-02T08:41:29.116114Z",
     "iopub.status.idle": "2024-10-02T08:41:29.118411Z",
     "shell.execute_reply": "2024-10-02T08:41:29.118206Z"
    }
   },
   "outputs": [
    {
     "data": {
      "text/html": [
       "<html lang=\"en\">\n",
       "   <head>\n",
       "       <meta charset=\"UTF-8\">\n",
       "       <script type=\"text/javascript\" data-lets-plot-script=\"library\" src=\"https://cdn.jsdelivr.net/gh/JetBrains/lets-plot@v4.4.1/js-package/distr/lets-plot.min.js\"></script>\n",
       "   </head>\n",
       "   <body>\n",
       "          <div id=\"uqApUi\"></div>\n",
       "   <script type=\"text/javascript\" data-lets-plot-script=\"plot\">\n",
       "       var plotSpec={\n",
       "\"kind\":\"subplots\",\n",
       "\"layout\":{\n",
       "\"ncol\":2.0,\n",
       "\"nrow\":1.0,\n",
       "\"name\":\"grid\"\n",
       "},\n",
       "\"figures\":[{\n",
       "\"mapping\":{\n",
       "},\n",
       "\"data_meta\":{\n",
       "},\n",
       "\"kind\":\"plot\",\n",
       "\"scales\":[],\n",
       "\"layers\":[{\n",
       "\"geom\":\"point\",\n",
       "\"mapping\":{\n",
       "},\n",
       "\"data_meta\":{\n",
       "},\n",
       "\"x\":0.0,\n",
       "\"y\":0.0,\n",
       "\"data\":{\n",
       "}\n",
       "}],\n",
       "\"metainfo_list\":[]\n",
       "},{\n",
       "\"mapping\":{\n",
       "},\n",
       "\"data_meta\":{\n",
       "},\n",
       "\"kind\":\"plot\",\n",
       "\"scales\":[],\n",
       "\"layers\":[{\n",
       "\"geom\":\"point\",\n",
       "\"mapping\":{\n",
       "},\n",
       "\"data_meta\":{\n",
       "},\n",
       "\"x\":1.0,\n",
       "\"y\":1.0,\n",
       "\"data\":{\n",
       "}\n",
       "}],\n",
       "\"metainfo_list\":[]\n",
       "}]\n",
       "};\n",
       "       var plotContainer = document.getElementById(\"uqApUi\");\n",
       "       LetsPlot.buildPlotFromProcessedSpecs(plotSpec, -1, -1, plotContainer);\n",
       "   </script>\n",
       "   </body>\n",
       "</html>"
      ],
      "text/plain": [
       "<IPython.core.display.HTML object>"
      ]
     },
     "execution_count": 7,
     "metadata": {},
     "output_type": "execute_result"
    }
   ],
   "source": [
    "display.HTML(grid.to_html())"
   ]
  }
 ],
 "metadata": {
  "kernelspec": {
   "display_name": "Python 3 (ipykernel)",
   "language": "python",
   "name": "python3"
  },
  "language_info": {
   "codemirror_mode": {
    "name": "ipython",
    "version": 3
   },
   "file_extension": ".py",
   "mimetype": "text/x-python",
   "name": "python",
   "nbconvert_exporter": "python",
   "pygments_lexer": "ipython3",
   "version": "3.10.15"
  }
 },
 "nbformat": 4,
 "nbformat_minor": 5
}
