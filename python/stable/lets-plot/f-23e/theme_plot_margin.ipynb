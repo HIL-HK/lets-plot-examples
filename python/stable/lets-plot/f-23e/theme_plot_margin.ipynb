{
 "cells": [
  {
   "cell_type": "markdown",
   "id": "american-attachment",
   "metadata": {},
   "source": [
    "# Plot Margins\n",
    "\n",
    "`plot_margin` parameter in `theme()` allows to change the margin areas of a plot using the `margin()` function."
   ]
  },
  {
   "cell_type": "code",
   "execution_count": 1,
   "id": "announced-investigation",
   "metadata": {
    "execution": {
     "iopub.execute_input": "2024-10-02T08:38:30.753405Z",
     "iopub.status.busy": "2024-10-02T08:38:30.753156Z",
     "iopub.status.idle": "2024-10-02T08:38:31.188411Z",
     "shell.execute_reply": "2024-10-02T08:38:31.188084Z"
    }
   },
   "outputs": [],
   "source": [
    "import numpy as np\n",
    "\n",
    "from lets_plot import *"
   ]
  },
  {
   "cell_type": "code",
   "execution_count": 2,
   "id": "corporate-passion",
   "metadata": {
    "execution": {
     "iopub.execute_input": "2024-10-02T08:38:31.189815Z",
     "iopub.status.busy": "2024-10-02T08:38:31.189705Z",
     "iopub.status.idle": "2024-10-02T08:38:31.192547Z",
     "shell.execute_reply": "2024-10-02T08:38:31.192269Z"
    }
   },
   "outputs": [
    {
     "data": {
      "text/html": [
       "\n",
       "            <div id=\"AbFxrN\"></div>\n",
       "            <script type=\"text/javascript\" data-lets-plot-script=\"library\">\n",
       "                if(!window.letsPlotCallQueue) {\n",
       "                    window.letsPlotCallQueue = [];\n",
       "                }; \n",
       "                window.letsPlotCall = function(f) {\n",
       "                    window.letsPlotCallQueue.push(f);\n",
       "                };\n",
       "                (function() {\n",
       "                    var script = document.createElement(\"script\");\n",
       "                    script.type = \"text/javascript\";\n",
       "                    script.src = \"https://cdn.jsdelivr.net/gh/JetBrains/lets-plot@v4.4.1/js-package/distr/lets-plot.min.js\";\n",
       "                    script.onload = function() {\n",
       "                        window.letsPlotCall = function(f) {f();};\n",
       "                        window.letsPlotCallQueue.forEach(function(f) {f();});\n",
       "                        window.letsPlotCallQueue = [];\n",
       "                        \n",
       "                    };\n",
       "                    script.onerror = function(event) {\n",
       "                        window.letsPlotCall = function(f) {};    // noop\n",
       "                        window.letsPlotCallQueue = [];\n",
       "                        var div = document.createElement(\"div\");\n",
       "                        div.style.color = 'darkred';\n",
       "                        div.textContent = 'Error loading Lets-Plot JS';\n",
       "                        document.getElementById(\"AbFxrN\").appendChild(div);\n",
       "                    };\n",
       "                    var e = document.getElementById(\"AbFxrN\");\n",
       "                    e.appendChild(script);\n",
       "                })()\n",
       "            </script>\n",
       "            "
      ]
     },
     "metadata": {},
     "output_type": "display_data"
    }
   ],
   "source": [
    "LetsPlot.setup_html()"
   ]
  },
  {
   "cell_type": "code",
   "execution_count": 3,
   "id": "1aadd36a-0358-4edf-9ded-4b8f0ff0060a",
   "metadata": {
    "execution": {
     "iopub.execute_input": "2024-10-02T08:38:31.193786Z",
     "iopub.status.busy": "2024-10-02T08:38:31.193699Z",
     "iopub.status.idle": "2024-10-02T08:38:31.222584Z",
     "shell.execute_reply": "2024-10-02T08:38:31.222309Z"
    }
   },
   "outputs": [],
   "source": [
    "np.random.seed(42)\n",
    "data = {'x': np.random.randint(10, size=100)}\n",
    "\n",
    "p = ggplot(data, aes(x='x')) + geom_bar() + ggtitle(\"Bar Сhart\") + \\\n",
    "    theme(plot_background=element_rect(size = 6))"
   ]
  },
  {
   "cell_type": "markdown",
   "id": "8d2d1e77-e38d-42d1-8726-7dd0b67925ec",
   "metadata": {},
   "source": [
    "#### Plot without Margins"
   ]
  },
  {
   "cell_type": "code",
   "execution_count": 4,
   "id": "51e28dc7-d549-42cb-bcb5-a2389b369f32",
   "metadata": {
    "execution": {
     "iopub.execute_input": "2024-10-02T08:38:31.223844Z",
     "iopub.status.busy": "2024-10-02T08:38:31.223768Z",
     "iopub.status.idle": "2024-10-02T08:38:31.227436Z",
     "shell.execute_reply": "2024-10-02T08:38:31.227225Z"
    }
   },
   "outputs": [
    {
     "data": {
      "text/html": [
       "   <div id=\"DrifHG\"></div>\n",
       "   <script type=\"text/javascript\" data-lets-plot-script=\"plot\">\n",
       "       (function() {\n",
       "           var plotSpec={\n",
       "\"data\":{\n",
       "},\n",
       "\"mapping\":{\n",
       "\"x\":\"x\"\n",
       "},\n",
       "\"data_meta\":{\n",
       "\"series_annotations\":[{\n",
       "\"type\":\"int\",\n",
       "\"column\":\"x\"\n",
       "}]\n",
       "},\n",
       "\"ggtitle\":{\n",
       "\"text\":\"Bar Сhart\"\n",
       "},\n",
       "\"theme\":{\n",
       "\"plot_background\":{\n",
       "\"size\":6.0,\n",
       "\"blank\":false\n",
       "}\n",
       "},\n",
       "\"kind\":\"plot\",\n",
       "\"scales\":[],\n",
       "\"layers\":[{\n",
       "\"geom\":\"bar\",\n",
       "\"mapping\":{\n",
       "},\n",
       "\"data_meta\":{\n",
       "},\n",
       "\"data\":{\n",
       "\"..count..\":[11.0,9.0,15.0,10.0,11.0,9.0,6.0,10.0,7.0,12.0],\n",
       "\"x\":[6.0,3.0,7.0,4.0,9.0,2.0,5.0,1.0,0.0,8.0]\n",
       "}\n",
       "}],\n",
       "\"metainfo_list\":[]\n",
       "};\n",
       "           var plotContainer = document.getElementById(\"DrifHG\");\n",
       "           window.letsPlotCall(function() {{\n",
       "               LetsPlot.buildPlotFromProcessedSpecs(plotSpec, -1, -1, plotContainer);\n",
       "           }});\n",
       "       })();\n",
       "   </script>"
      ],
      "text/plain": [
       "<lets_plot.plot.core.PlotSpec at 0x107dc7580>"
      ]
     },
     "execution_count": 4,
     "metadata": {},
     "output_type": "execute_result"
    }
   ],
   "source": [
    "p"
   ]
  },
  {
   "cell_type": "markdown",
   "id": "757bad9f-0663-49b7-ae57-4a61c14121fb",
   "metadata": {},
   "source": [
    "#### Plot with Margins"
   ]
  },
  {
   "cell_type": "code",
   "execution_count": 5,
   "id": "voluntary-estate",
   "metadata": {
    "execution": {
     "iopub.execute_input": "2024-10-02T08:38:31.228544Z",
     "iopub.status.busy": "2024-10-02T08:38:31.228455Z",
     "iopub.status.idle": "2024-10-02T08:38:31.231091Z",
     "shell.execute_reply": "2024-10-02T08:38:31.230867Z"
    }
   },
   "outputs": [
    {
     "name": "stdout",
     "output_type": "stream",
     "text": [
      "WARN: The margin() is deprecated and will be removed in future releases.\n",
      "      Please, use a number or list of numbers to specify margins (see description of the parameter used).\n"
     ]
    },
    {
     "data": {
      "text/html": [
       "   <div id=\"4ow674\"></div>\n",
       "   <script type=\"text/javascript\" data-lets-plot-script=\"plot\">\n",
       "       (function() {\n",
       "           var plotSpec={\n",
       "\"data\":{\n",
       "},\n",
       "\"mapping\":{\n",
       "\"x\":\"x\"\n",
       "},\n",
       "\"data_meta\":{\n",
       "\"series_annotations\":[{\n",
       "\"type\":\"int\",\n",
       "\"column\":\"x\"\n",
       "}]\n",
       "},\n",
       "\"ggtitle\":{\n",
       "\"text\":\"Bar Сhart\"\n",
       "},\n",
       "\"theme\":{\n",
       "\"plot_background\":{\n",
       "\"size\":6.0,\n",
       "\"blank\":false\n",
       "},\n",
       "\"plot_margin\":[20.0,10.0,10.0,10.0]\n",
       "},\n",
       "\"kind\":\"plot\",\n",
       "\"scales\":[],\n",
       "\"layers\":[{\n",
       "\"geom\":\"bar\",\n",
       "\"mapping\":{\n",
       "},\n",
       "\"data_meta\":{\n",
       "},\n",
       "\"data\":{\n",
       "\"..count..\":[11.0,9.0,15.0,10.0,11.0,9.0,6.0,10.0,7.0,12.0],\n",
       "\"x\":[6.0,3.0,7.0,4.0,9.0,2.0,5.0,1.0,0.0,8.0]\n",
       "}\n",
       "}],\n",
       "\"metainfo_list\":[]\n",
       "};\n",
       "           var plotContainer = document.getElementById(\"4ow674\");\n",
       "           window.letsPlotCall(function() {{\n",
       "               LetsPlot.buildPlotFromProcessedSpecs(plotSpec, -1, -1, plotContainer);\n",
       "           }});\n",
       "       })();\n",
       "   </script>"
      ],
      "text/plain": [
       "<lets_plot.plot.core.PlotSpec at 0x14920e2c0>"
      ]
     },
     "execution_count": 5,
     "metadata": {},
     "output_type": "execute_result"
    }
   ],
   "source": [
    "p + theme(plot_margin=margin(t=20,  # Top\n",
    "                             r=10,  # Right\n",
    "                             b=10,  # Bottom\n",
    "                             l=10)) # Left      "
   ]
  }
 ],
 "metadata": {
  "kernelspec": {
   "display_name": "Python 3 (ipykernel)",
   "language": "python",
   "name": "python3"
  },
  "language_info": {
   "codemirror_mode": {
    "name": "ipython",
    "version": 3
   },
   "file_extension": ".py",
   "mimetype": "text/x-python",
   "name": "python",
   "nbconvert_exporter": "python",
   "pygments_lexer": "ipython3",
   "version": "3.10.15"
  }
 },
 "nbformat": 4,
 "nbformat_minor": 5
}
