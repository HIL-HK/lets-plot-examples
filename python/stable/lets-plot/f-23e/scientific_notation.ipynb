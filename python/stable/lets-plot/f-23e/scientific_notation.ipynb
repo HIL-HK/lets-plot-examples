{
 "cells": [
  {
   "cell_type": "markdown",
   "id": "0f7426d7-4987-4b9f-ab69-cf3924d48a29",
   "metadata": {},
   "source": [
    "# Scientific Notation\n",
    "\n",
    "Default format for exponents changed from e-notation to power of 10."
   ]
  },
  {
   "cell_type": "code",
   "execution_count": 1,
   "id": "f128c69b-f753-4f8d-b08e-306f91431703",
   "metadata": {
    "execution": {
     "iopub.execute_input": "2024-11-06T18:58:12.566218Z",
     "iopub.status.busy": "2024-11-06T18:58:12.565781Z",
     "iopub.status.idle": "2024-11-06T18:58:12.996269Z",
     "shell.execute_reply": "2024-11-06T18:58:12.995923Z"
    }
   },
   "outputs": [],
   "source": [
    "from lets_plot import *"
   ]
  },
  {
   "cell_type": "code",
   "execution_count": 2,
   "id": "10e77858-570a-443d-b7fb-c53be8d14d89",
   "metadata": {
    "execution": {
     "iopub.execute_input": "2024-11-06T18:58:12.997553Z",
     "iopub.status.busy": "2024-11-06T18:58:12.997444Z",
     "iopub.status.idle": "2024-11-06T18:58:12.999594Z",
     "shell.execute_reply": "2024-11-06T18:58:12.999398Z"
    }
   },
   "outputs": [
    {
     "data": {
      "text/html": [
       "\n",
       "            <div id=\"ROJu0N\"></div>\n",
       "            <script type=\"text/javascript\" data-lets-plot-script=\"library\">\n",
       "                if(!window.letsPlotCallQueue) {\n",
       "                    window.letsPlotCallQueue = [];\n",
       "                }; \n",
       "                window.letsPlotCall = function(f) {\n",
       "                    window.letsPlotCallQueue.push(f);\n",
       "                };\n",
       "                (function() {\n",
       "                    var script = document.createElement(\"script\");\n",
       "                    script.type = \"text/javascript\";\n",
       "                    script.src = \"https://cdn.jsdelivr.net/gh/JetBrains/lets-plot@v4.5.1/js-package/distr/lets-plot.min.js\";\n",
       "                    script.onload = function() {\n",
       "                        window.letsPlotCall = function(f) {f();};\n",
       "                        window.letsPlotCallQueue.forEach(function(f) {f();});\n",
       "                        window.letsPlotCallQueue = [];\n",
       "                        \n",
       "                    };\n",
       "                    script.onerror = function(event) {\n",
       "                        window.letsPlotCall = function(f) {};    // noop\n",
       "                        window.letsPlotCallQueue = [];\n",
       "                        var div = document.createElement(\"div\");\n",
       "                        div.style.color = 'darkred';\n",
       "                        div.textContent = 'Error loading Lets-Plot JS';\n",
       "                        document.getElementById(\"ROJu0N\").appendChild(div);\n",
       "                    };\n",
       "                    var e = document.getElementById(\"ROJu0N\");\n",
       "                    e.appendChild(script);\n",
       "                })()\n",
       "            </script>\n",
       "            "
      ]
     },
     "metadata": {},
     "output_type": "display_data"
    }
   ],
   "source": [
    "LetsPlot.setup_html()"
   ]
  },
  {
   "cell_type": "code",
   "execution_count": 3,
   "id": "9ec8add6-9971-476f-8015-27d620c9fb1c",
   "metadata": {
    "execution": {
     "iopub.execute_input": "2024-11-06T18:58:13.000710Z",
     "iopub.status.busy": "2024-11-06T18:58:13.000633Z",
     "iopub.status.idle": "2024-11-06T18:58:13.002250Z",
     "shell.execute_reply": "2024-11-06T18:58:13.002039Z"
    }
   },
   "outputs": [],
   "source": [
    "data = dict(\n",
    "    name = [\"electron\", \"muon\", \"tau\"],\n",
    "    mass = [9.1e-28, 1.9e-25, 3.2e-24],\n",
    ")"
   ]
  },
  {
   "cell_type": "code",
   "execution_count": 4,
   "id": "6e84c515-7de1-4e95-9321-a8c4b379a8a5",
   "metadata": {
    "execution": {
     "iopub.execute_input": "2024-11-06T18:58:13.003235Z",
     "iopub.status.busy": "2024-11-06T18:58:13.003164Z",
     "iopub.status.idle": "2024-11-06T18:58:13.029892Z",
     "shell.execute_reply": "2024-11-06T18:58:13.029636Z"
    }
   },
   "outputs": [
    {
     "data": {
      "text/html": [
       "   <div id=\"QXEj3Z\"></div>\n",
       "   <script type=\"text/javascript\" data-lets-plot-script=\"plot\">\n",
       "   \n",
       "   (function() {\n",
       "   // ----------\n",
       "   \n",
       "   var containerDiv = document.getElementById(\"QXEj3Z\");\n",
       "   var observer = new ResizeObserver(function(entries) {\n",
       "       for (let entry of entries) {\n",
       "           var width = containerDiv.clientWidth\n",
       "           if (entry.contentBoxSize && width > 0) {\n",
       "           \n",
       "               // Render plot\n",
       "               if (observer) {\n",
       "                   observer.disconnect();\n",
       "                   observer = null;\n",
       "               }\n",
       "\n",
       "               var plotSpec={\n",
       "\"data\":{\n",
       "\"name\":[\"electron\",\"muon\",\"tau\"],\n",
       "\"mass\":[9.1E-28,1.9E-25,3.2E-24]\n",
       "},\n",
       "\"mapping\":{\n",
       "},\n",
       "\"data_meta\":{\n",
       "\"series_annotations\":[{\n",
       "\"type\":\"str\",\n",
       "\"column\":\"name\"\n",
       "},{\n",
       "\"type\":\"float\",\n",
       "\"column\":\"mass\"\n",
       "}]\n",
       "},\n",
       "\"theme\":{\n",
       "\"axis_title_y\":\"blank\",\n",
       "\"axis_text_y\":\"blank\"\n",
       "},\n",
       "\"ggtitle\":{\n",
       "\"text\":\"Masses of charged leptons in grams\"\n",
       "},\n",
       "\"kind\":\"plot\",\n",
       "\"scales\":[],\n",
       "\"layers\":[{\n",
       "\"geom\":\"point\",\n",
       "\"mapping\":{\n",
       "\"x\":\"mass\"\n",
       "},\n",
       "\"tooltips\":{\n",
       "\"formats\":[],\n",
       "\"lines\":[\"@name\",\"@|@{mass}g\"]\n",
       "},\n",
       "\"data_meta\":{\n",
       "},\n",
       "\"y\":0.0,\n",
       "\"data\":{\n",
       "}\n",
       "}],\n",
       "\"metainfo_list\":[],\n",
       "\"spec_id\":\"1\"\n",
       "};\n",
       "               window.letsPlotCall(function() {\n",
       "       \n",
       "               var toolbar = null;\n",
       "               var plotContainer = containerDiv;               \n",
       "               \n",
       "                   var options = {\n",
       "                       sizing: {\n",
       "                           width_mode: \"min\",\n",
       "                           height_mode: \"scaled\",\n",
       "                           width: width\n",
       "                       }\n",
       "                   };\n",
       "                   var fig = LetsPlot.buildPlotFromProcessedSpecs(plotSpec, -1, -1, plotContainer, options);\n",
       "                   if (toolbar) {\n",
       "                     toolbar.bind(fig);\n",
       "                   }\n",
       "               });\n",
       "               \n",
       "               break;\n",
       "           }\n",
       "       }\n",
       "   });\n",
       "   \n",
       "   observer.observe(containerDiv);\n",
       "   \n",
       "   // ----------\n",
       "   })();\n",
       "   \n",
       "   </script>"
      ],
      "text/plain": [
       "<lets_plot.plot.core.PlotSpec at 0x13f086140>"
      ]
     },
     "execution_count": 4,
     "metadata": {},
     "output_type": "execute_result"
    }
   ],
   "source": [
    "ggplot(data) + \\\n",
    "    geom_point(aes(x=\"mass\"), y=0, tooltips=layer_tooltips().line(\"@name\").line(\"@|@{mass}g\")) + \\\n",
    "    theme(axis_title_y='blank', axis_text_y='blank') + \\\n",
    "    ggtitle(\"Masses of charged leptons in grams\")"
   ]
  }
 ],
 "metadata": {
  "kernelspec": {
   "display_name": "Python 3 (ipykernel)",
   "language": "python",
   "name": "python3"
  },
  "language_info": {
   "codemirror_mode": {
    "name": "ipython",
    "version": 3
   },
   "file_extension": ".py",
   "mimetype": "text/x-python",
   "name": "python",
   "nbconvert_exporter": "python",
   "pygments_lexer": "ipython3",
   "version": "3.10.15"
  }
 },
 "nbformat": 4,
 "nbformat_minor": 5
}
