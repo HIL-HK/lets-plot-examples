{
 "cells": [
  {
   "cell_type": "markdown",
   "id": "moving-ownership",
   "metadata": {},
   "source": [
    "# Margins\n",
    "\n",
    " \n",
    "The margins around the plot and text elements are controlled by the `plot_margin` parameter in `theme()` and the `margin` parameter in `element_text()` respectively.\n",
    "\n",
    "Now the parameters `plot_margin` and `margin` accept a number or a list of numbers.\n",
    "\n",
    "- A number or list of one number is specified: the same margin it applied to **all four sides**.\n",
    "- A list of two numbers: the first margin applies to the **top and bottom**, the second - to the **left and right**.\n",
    "- A list of three numbers: the first margin applies to the **top**, the second - to the **right and left**, the third - to the **bottom**.\n",
    "- A list of four numbers: the margins are applied to the **top, right, bottom and left** in that order.\n",
    "\n",
    "It is acceptable to use None for any side; in this case, the default side value for this element will be used."
   ]
  },
  {
   "cell_type": "code",
   "execution_count": 1,
   "id": "liable-jacksonville",
   "metadata": {
    "execution": {
     "iopub.execute_input": "2024-10-02T08:42:19.000430Z",
     "iopub.status.busy": "2024-10-02T08:42:19.000125Z",
     "iopub.status.idle": "2024-10-02T08:42:19.447358Z",
     "shell.execute_reply": "2024-10-02T08:42:19.447000Z"
    }
   },
   "outputs": [],
   "source": [
    "import numpy as np\n",
    "\n",
    "from lets_plot import *"
   ]
  },
  {
   "cell_type": "code",
   "execution_count": 2,
   "id": "fiscal-rates",
   "metadata": {
    "execution": {
     "iopub.execute_input": "2024-10-02T08:42:19.448789Z",
     "iopub.status.busy": "2024-10-02T08:42:19.448673Z",
     "iopub.status.idle": "2024-10-02T08:42:19.450955Z",
     "shell.execute_reply": "2024-10-02T08:42:19.450726Z"
    }
   },
   "outputs": [
    {
     "data": {
      "text/html": [
       "\n",
       "            <div id=\"fKeTa2\"></div>\n",
       "            <script type=\"text/javascript\" data-lets-plot-script=\"library\">\n",
       "                if(!window.letsPlotCallQueue) {\n",
       "                    window.letsPlotCallQueue = [];\n",
       "                }; \n",
       "                window.letsPlotCall = function(f) {\n",
       "                    window.letsPlotCallQueue.push(f);\n",
       "                };\n",
       "                (function() {\n",
       "                    var script = document.createElement(\"script\");\n",
       "                    script.type = \"text/javascript\";\n",
       "                    script.src = \"https://cdn.jsdelivr.net/gh/JetBrains/lets-plot@v4.4.1/js-package/distr/lets-plot.min.js\";\n",
       "                    script.onload = function() {\n",
       "                        window.letsPlotCall = function(f) {f();};\n",
       "                        window.letsPlotCallQueue.forEach(function(f) {f();});\n",
       "                        window.letsPlotCallQueue = [];\n",
       "                        \n",
       "                    };\n",
       "                    script.onerror = function(event) {\n",
       "                        window.letsPlotCall = function(f) {};    // noop\n",
       "                        window.letsPlotCallQueue = [];\n",
       "                        var div = document.createElement(\"div\");\n",
       "                        div.style.color = 'darkred';\n",
       "                        div.textContent = 'Error loading Lets-Plot JS';\n",
       "                        document.getElementById(\"fKeTa2\").appendChild(div);\n",
       "                    };\n",
       "                    var e = document.getElementById(\"fKeTa2\");\n",
       "                    e.appendChild(script);\n",
       "                })()\n",
       "            </script>\n",
       "            "
      ]
     },
     "metadata": {},
     "output_type": "display_data"
    }
   ],
   "source": [
    "LetsPlot.setup_html()"
   ]
  },
  {
   "cell_type": "code",
   "execution_count": 3,
   "id": "indie-yeast",
   "metadata": {
    "execution": {
     "iopub.execute_input": "2024-10-02T08:42:19.452035Z",
     "iopub.status.busy": "2024-10-02T08:42:19.451958Z",
     "iopub.status.idle": "2024-10-02T08:42:19.480123Z",
     "shell.execute_reply": "2024-10-02T08:42:19.479805Z"
    }
   },
   "outputs": [],
   "source": [
    "np.random.seed(42)\n",
    "data = {'x': np.random.randint(10, size=100)}\n",
    "\n",
    "p = ggplot(data, aes(x='x')) + \\\n",
    "    geom_bar() + \\\n",
    "    ggtitle(\"Bar Сhart\") + \\\n",
    "    theme_light() + \\\n",
    "    theme(plot_background=element_rect(size = 4))"
   ]
  },
  {
   "cell_type": "markdown",
   "id": "cooked-sender",
   "metadata": {},
   "source": [
    "#### Plot without Margins"
   ]
  },
  {
   "cell_type": "code",
   "execution_count": 4,
   "id": "buried-birth",
   "metadata": {
    "execution": {
     "iopub.execute_input": "2024-10-02T08:42:19.481462Z",
     "iopub.status.busy": "2024-10-02T08:42:19.481377Z",
     "iopub.status.idle": "2024-10-02T08:42:19.485194Z",
     "shell.execute_reply": "2024-10-02T08:42:19.484964Z"
    }
   },
   "outputs": [
    {
     "data": {
      "text/html": [
       "   <div id=\"j9JvMP\"></div>\n",
       "   <script type=\"text/javascript\" data-lets-plot-script=\"plot\">\n",
       "       (function() {\n",
       "           var plotSpec={\n",
       "\"data\":{\n",
       "},\n",
       "\"mapping\":{\n",
       "\"x\":\"x\"\n",
       "},\n",
       "\"data_meta\":{\n",
       "\"series_annotations\":[{\n",
       "\"type\":\"int\",\n",
       "\"column\":\"x\"\n",
       "}]\n",
       "},\n",
       "\"ggtitle\":{\n",
       "\"text\":\"Bar Сhart\"\n",
       "},\n",
       "\"theme\":{\n",
       "\"name\":\"light\",\n",
       "\"plot_background\":{\n",
       "\"size\":4.0,\n",
       "\"blank\":false\n",
       "}\n",
       "},\n",
       "\"kind\":\"plot\",\n",
       "\"scales\":[],\n",
       "\"layers\":[{\n",
       "\"geom\":\"bar\",\n",
       "\"mapping\":{\n",
       "},\n",
       "\"data_meta\":{\n",
       "},\n",
       "\"data\":{\n",
       "\"..count..\":[11.0,9.0,15.0,10.0,11.0,9.0,6.0,10.0,7.0,12.0],\n",
       "\"x\":[6.0,3.0,7.0,4.0,9.0,2.0,5.0,1.0,0.0,8.0]\n",
       "}\n",
       "}],\n",
       "\"metainfo_list\":[]\n",
       "};\n",
       "           var plotContainer = document.getElementById(\"j9JvMP\");\n",
       "           window.letsPlotCall(function() {{\n",
       "               LetsPlot.buildPlotFromProcessedSpecs(plotSpec, -1, -1, plotContainer);\n",
       "           }});\n",
       "       })();\n",
       "   </script>"
      ],
      "text/plain": [
       "<lets_plot.plot.core.PlotSpec at 0x105c23a30>"
      ]
     },
     "execution_count": 4,
     "metadata": {},
     "output_type": "execute_result"
    }
   ],
   "source": [
    "p"
   ]
  },
  {
   "cell_type": "markdown",
   "id": "brutal-sword",
   "metadata": {},
   "source": [
    "#### Margins Around the Plot"
   ]
  },
  {
   "cell_type": "code",
   "execution_count": 5,
   "id": "functional-client",
   "metadata": {
    "execution": {
     "iopub.execute_input": "2024-10-02T08:42:19.486417Z",
     "iopub.status.busy": "2024-10-02T08:42:19.486340Z",
     "iopub.status.idle": "2024-10-02T08:42:19.491079Z",
     "shell.execute_reply": "2024-10-02T08:42:19.490848Z"
    }
   },
   "outputs": [
    {
     "data": {
      "text/html": [
       "   <div id=\"cJwFjB\"></div>\n",
       "   <script type=\"text/javascript\" data-lets-plot-script=\"plot\">\n",
       "       (function() {\n",
       "           var plotSpec={\n",
       "\"kind\":\"subplots\",\n",
       "\"layout\":{\n",
       "\"ncol\":2.0,\n",
       "\"nrow\":2.0,\n",
       "\"name\":\"grid\"\n",
       "},\n",
       "\"figures\":[{\n",
       "\"data\":{\n",
       "},\n",
       "\"mapping\":{\n",
       "\"x\":\"x\"\n",
       "},\n",
       "\"data_meta\":{\n",
       "\"series_annotations\":[{\n",
       "\"type\":\"int\",\n",
       "\"column\":\"x\"\n",
       "}]\n",
       "},\n",
       "\"ggtitle\":{\n",
       "\"text\":\"plot_margin=40 (all sides)\"\n",
       "},\n",
       "\"theme\":{\n",
       "\"name\":\"light\",\n",
       "\"plot_background\":{\n",
       "\"size\":4.0,\n",
       "\"blank\":false\n",
       "},\n",
       "\"plot_margin\":40.0\n",
       "},\n",
       "\"kind\":\"plot\",\n",
       "\"scales\":[],\n",
       "\"layers\":[{\n",
       "\"geom\":\"bar\",\n",
       "\"mapping\":{\n",
       "},\n",
       "\"data_meta\":{\n",
       "},\n",
       "\"data\":{\n",
       "\"..count..\":[11.0,9.0,15.0,10.0,11.0,9.0,6.0,10.0,7.0,12.0],\n",
       "\"x\":[6.0,3.0,7.0,4.0,9.0,2.0,5.0,1.0,0.0,8.0]\n",
       "}\n",
       "}],\n",
       "\"metainfo_list\":[]\n",
       "},{\n",
       "\"data\":{\n",
       "},\n",
       "\"mapping\":{\n",
       "\"x\":\"x\"\n",
       "},\n",
       "\"data_meta\":{\n",
       "\"series_annotations\":[{\n",
       "\"type\":\"int\",\n",
       "\"column\":\"x\"\n",
       "}]\n",
       "},\n",
       "\"ggtitle\":{\n",
       "\"text\":\"plot_margin=[40,20]\\n(top/bottom, left/right)\"\n",
       "},\n",
       "\"theme\":{\n",
       "\"name\":\"light\",\n",
       "\"plot_background\":{\n",
       "\"size\":4.0,\n",
       "\"blank\":false\n",
       "},\n",
       "\"plot_margin\":[40.0,20.0]\n",
       "},\n",
       "\"kind\":\"plot\",\n",
       "\"scales\":[],\n",
       "\"layers\":[{\n",
       "\"geom\":\"bar\",\n",
       "\"mapping\":{\n",
       "},\n",
       "\"data_meta\":{\n",
       "},\n",
       "\"data\":{\n",
       "\"..count..\":[11.0,9.0,15.0,10.0,11.0,9.0,6.0,10.0,7.0,12.0],\n",
       "\"x\":[6.0,3.0,7.0,4.0,9.0,2.0,5.0,1.0,0.0,8.0]\n",
       "}\n",
       "}],\n",
       "\"metainfo_list\":[]\n",
       "},{\n",
       "\"data\":{\n",
       "},\n",
       "\"mapping\":{\n",
       "\"x\":\"x\"\n",
       "},\n",
       "\"data_meta\":{\n",
       "\"series_annotations\":[{\n",
       "\"type\":\"int\",\n",
       "\"column\":\"x\"\n",
       "}]\n",
       "},\n",
       "\"ggtitle\":{\n",
       "\"text\":\"plot_margin=[40,20,10]\\n(top, left/right, bottom)\"\n",
       "},\n",
       "\"theme\":{\n",
       "\"name\":\"light\",\n",
       "\"plot_background\":{\n",
       "\"size\":4.0,\n",
       "\"blank\":false\n",
       "},\n",
       "\"plot_margin\":[40.0,20.0,10.0]\n",
       "},\n",
       "\"kind\":\"plot\",\n",
       "\"scales\":[],\n",
       "\"layers\":[{\n",
       "\"geom\":\"bar\",\n",
       "\"mapping\":{\n",
       "},\n",
       "\"data_meta\":{\n",
       "},\n",
       "\"data\":{\n",
       "\"..count..\":[11.0,9.0,15.0,10.0,11.0,9.0,6.0,10.0,7.0,12.0],\n",
       "\"x\":[6.0,3.0,7.0,4.0,9.0,2.0,5.0,1.0,0.0,8.0]\n",
       "}\n",
       "}],\n",
       "\"metainfo_list\":[]\n",
       "},{\n",
       "\"data\":{\n",
       "},\n",
       "\"mapping\":{\n",
       "\"x\":\"x\"\n",
       "},\n",
       "\"data_meta\":{\n",
       "\"series_annotations\":[{\n",
       "\"type\":\"int\",\n",
       "\"column\":\"x\"\n",
       "}]\n",
       "},\n",
       "\"ggtitle\":{\n",
       "\"text\":\"plot_margin=[40,10,10,20]\\n(top, right, bottom, left)\"\n",
       "},\n",
       "\"theme\":{\n",
       "\"name\":\"light\",\n",
       "\"plot_background\":{\n",
       "\"size\":4.0,\n",
       "\"blank\":false\n",
       "},\n",
       "\"plot_margin\":[40.0,10.0,10.0,20.0]\n",
       "},\n",
       "\"kind\":\"plot\",\n",
       "\"scales\":[],\n",
       "\"layers\":[{\n",
       "\"geom\":\"bar\",\n",
       "\"mapping\":{\n",
       "},\n",
       "\"data_meta\":{\n",
       "},\n",
       "\"data\":{\n",
       "\"..count..\":[11.0,9.0,15.0,10.0,11.0,9.0,6.0,10.0,7.0,12.0],\n",
       "\"x\":[6.0,3.0,7.0,4.0,9.0,2.0,5.0,1.0,0.0,8.0]\n",
       "}\n",
       "}],\n",
       "\"metainfo_list\":[]\n",
       "}]\n",
       "};\n",
       "           var plotContainer = document.getElementById(\"cJwFjB\");\n",
       "           window.letsPlotCall(function() {{\n",
       "               LetsPlot.buildPlotFromProcessedSpecs(plotSpec, -1, -1, plotContainer);\n",
       "           }});\n",
       "       })();\n",
       "   </script>"
      ],
      "text/plain": [
       "<lets_plot.plot.subplots.SupPlotsSpec at 0x1373c3b20>"
      ]
     },
     "execution_count": 5,
     "metadata": {},
     "output_type": "execute_result"
    }
   ],
   "source": [
    "gggrid([\n",
    "    p + theme(plot_margin=40) + ggtitle(\"plot_margin=40 (all sides)\"),\n",
    "    p + theme(plot_margin=[40,20]) + ggtitle(\"plot_margin=[40,20]\\n(top/bottom, left/right)\"),\n",
    "    p + theme(plot_margin=[40,20,10]) + ggtitle(\"plot_margin=[40,20,10]\\n(top, left/right, bottom)\"),\n",
    "    p + theme(plot_margin=[40,10,10,20]) + ggtitle(\"plot_margin=[40,10,10,20]\\n(top, right, bottom, left)\")\n",
    "], ncol=2)"
   ]
  },
  {
   "cell_type": "markdown",
   "id": "interstate-rover",
   "metadata": {},
   "source": [
    "#### Margins Around the Text Element"
   ]
  },
  {
   "cell_type": "code",
   "execution_count": 6,
   "id": "placed-aerospace",
   "metadata": {
    "execution": {
     "iopub.execute_input": "2024-10-02T08:42:19.492175Z",
     "iopub.status.busy": "2024-10-02T08:42:19.492102Z",
     "iopub.status.idle": "2024-10-02T08:42:19.494586Z",
     "shell.execute_reply": "2024-10-02T08:42:19.494388Z"
    }
   },
   "outputs": [
    {
     "data": {
      "text/html": [
       "   <div id=\"eEQ0Md\"></div>\n",
       "   <script type=\"text/javascript\" data-lets-plot-script=\"plot\">\n",
       "       (function() {\n",
       "           var plotSpec={\n",
       "\"data\":{\n",
       "},\n",
       "\"mapping\":{\n",
       "\"x\":\"x\"\n",
       "},\n",
       "\"data_meta\":{\n",
       "\"series_annotations\":[{\n",
       "\"type\":\"int\",\n",
       "\"column\":\"x\"\n",
       "}]\n",
       "},\n",
       "\"ggtitle\":{\n",
       "\"text\":\"plot_title=[40,None] -> top/bottom=40,\\naxis_title=[20,20,None,None] -> top/right=20\"\n",
       "},\n",
       "\"theme\":{\n",
       "\"name\":\"light\",\n",
       "\"plot_background\":{\n",
       "\"size\":4.0,\n",
       "\"blank\":false\n",
       "},\n",
       "\"axis_title\":{\n",
       "\"margin\":[20.0,20.0,null,null],\n",
       "\"blank\":false\n",
       "},\n",
       "\"plot_title\":{\n",
       "\"margin\":[40.0,null],\n",
       "\"blank\":false\n",
       "}\n",
       "},\n",
       "\"kind\":\"plot\",\n",
       "\"scales\":[],\n",
       "\"layers\":[{\n",
       "\"geom\":\"bar\",\n",
       "\"mapping\":{\n",
       "},\n",
       "\"data_meta\":{\n",
       "},\n",
       "\"data\":{\n",
       "\"..count..\":[11.0,9.0,15.0,10.0,11.0,9.0,6.0,10.0,7.0,12.0],\n",
       "\"x\":[6.0,3.0,7.0,4.0,9.0,2.0,5.0,1.0,0.0,8.0]\n",
       "}\n",
       "}],\n",
       "\"metainfo_list\":[]\n",
       "};\n",
       "           var plotContainer = document.getElementById(\"eEQ0Md\");\n",
       "           window.letsPlotCall(function() {{\n",
       "               LetsPlot.buildPlotFromProcessedSpecs(plotSpec, -1, -1, plotContainer);\n",
       "           }});\n",
       "       })();\n",
       "   </script>"
      ],
      "text/plain": [
       "<lets_plot.plot.core.PlotSpec at 0x1373c3790>"
      ]
     },
     "execution_count": 6,
     "metadata": {},
     "output_type": "execute_result"
    }
   ],
   "source": [
    "p + theme(plot_title = element_text(margin=[40,None]),\n",
    "          axis_title = element_text(margin=[20,20,None,None])) + \\\n",
    "    ggtitle(\"plot_title=[40,None] -> top/bottom=40,\\n\" +\n",
    "            \"axis_title=[20,20,None,None] -> top/right=20\")"
   ]
  }
 ],
 "metadata": {
  "kernelspec": {
   "display_name": "Python 3 (ipykernel)",
   "language": "python",
   "name": "python3"
  },
  "language_info": {
   "codemirror_mode": {
    "name": "ipython",
    "version": 3
   },
   "file_extension": ".py",
   "mimetype": "text/x-python",
   "name": "python",
   "nbconvert_exporter": "python",
   "pygments_lexer": "ipython3",
   "version": "3.10.15"
  }
 },
 "nbformat": 4,
 "nbformat_minor": 5
}
