{
 "cells": [
  {
   "cell_type": "markdown",
   "id": "f7c40951-a35f-4921-b665-60b3c6de4d0c",
   "metadata": {},
   "source": [
    "# Using \"Exponent Format\"\n",
    "\n",
    "The `exponent_format` parameter in the `theme(...)` function can be used to configure the way \"exponent notation\" looks like on plot.  \n",
    "Available values:\n",
    "- `'e'` for E notation, for example, 1.23e+3, which is the default format.\n",
    "- `'pow'` for superscript power notation.\n",
    "\n",
    "The \"exponent format\" is automatically applied to each value formatted in scientific notation, regardless whether the format is user-defined or chosen automatically based on the data. This format affects every part of a plot, including geoms, scales, labels, and tooltips.\n",
    "\n",
    "> #### Note:\n",
    ">\n",
    "> Do NOT(!) use `exponent_format='pow'` if you are planning to export plot to a raster format (PNG,PDF).\n",
    "> \n",
    "> The `CairoSVG` library (which is under the hood of our `ggsave()` function) does not handre `tspan` element properly end breaks superscript notation when transforming SVG to PNG/PDF.\n",
    ">\n",
    "> More details: https://github.com/Kozea/CairoSVG/issues/317"
   ]
  },
  {
   "cell_type": "code",
   "execution_count": 1,
   "id": "7e5807d6-124c-461b-a9af-8f2cd88e0467",
   "metadata": {
    "execution": {
     "iopub.execute_input": "2024-11-06T19:02:01.177009Z",
     "iopub.status.busy": "2024-11-06T19:02:01.176560Z",
     "iopub.status.idle": "2024-11-06T19:02:01.603060Z",
     "shell.execute_reply": "2024-11-06T19:02:01.602725Z"
    }
   },
   "outputs": [],
   "source": [
    "from lets_plot import *\n",
    "import numpy as np"
   ]
  },
  {
   "cell_type": "code",
   "execution_count": 2,
   "id": "748b46fd-14e5-4636-a591-00c51658e83b",
   "metadata": {
    "execution": {
     "iopub.execute_input": "2024-11-06T19:02:01.604431Z",
     "iopub.status.busy": "2024-11-06T19:02:01.604316Z",
     "iopub.status.idle": "2024-11-06T19:02:01.606527Z",
     "shell.execute_reply": "2024-11-06T19:02:01.606330Z"
    }
   },
   "outputs": [
    {
     "data": {
      "text/html": [
       "\n",
       "            <div id=\"ZLTdCf\"></div>\n",
       "            <script type=\"text/javascript\" data-lets-plot-script=\"library\">\n",
       "                if(!window.letsPlotCallQueue) {\n",
       "                    window.letsPlotCallQueue = [];\n",
       "                }; \n",
       "                window.letsPlotCall = function(f) {\n",
       "                    window.letsPlotCallQueue.push(f);\n",
       "                };\n",
       "                (function() {\n",
       "                    var script = document.createElement(\"script\");\n",
       "                    script.type = \"text/javascript\";\n",
       "                    script.src = \"https://cdn.jsdelivr.net/gh/JetBrains/lets-plot@v4.5.1/js-package/distr/lets-plot.min.js\";\n",
       "                    script.onload = function() {\n",
       "                        window.letsPlotCall = function(f) {f();};\n",
       "                        window.letsPlotCallQueue.forEach(function(f) {f();});\n",
       "                        window.letsPlotCallQueue = [];\n",
       "                        \n",
       "                    };\n",
       "                    script.onerror = function(event) {\n",
       "                        window.letsPlotCall = function(f) {};    // noop\n",
       "                        window.letsPlotCallQueue = [];\n",
       "                        var div = document.createElement(\"div\");\n",
       "                        div.style.color = 'darkred';\n",
       "                        div.textContent = 'Error loading Lets-Plot JS';\n",
       "                        document.getElementById(\"ZLTdCf\").appendChild(div);\n",
       "                    };\n",
       "                    var e = document.getElementById(\"ZLTdCf\");\n",
       "                    e.appendChild(script);\n",
       "                })()\n",
       "            </script>\n",
       "            "
      ]
     },
     "metadata": {},
     "output_type": "display_data"
    }
   ],
   "source": [
    "LetsPlot.setup_html()"
   ]
  },
  {
   "cell_type": "markdown",
   "id": "cbe482a2-a887-4fdf-be6c-3b6a8cab14f8",
   "metadata": {},
   "source": [
    "#### Set `exponent_format='pow'` for all plots in the notebook\n",
    "Each plot still can be cofigured individually: `p + theme(exponent_format='e'))`"
   ]
  },
  {
   "cell_type": "code",
   "execution_count": 3,
   "id": "2eb75592-2610-438c-9d8a-d1abd78faea8",
   "metadata": {
    "execution": {
     "iopub.execute_input": "2024-11-06T19:02:01.607556Z",
     "iopub.status.busy": "2024-11-06T19:02:01.607485Z",
     "iopub.status.idle": "2024-11-06T19:02:01.608850Z",
     "shell.execute_reply": "2024-11-06T19:02:01.608640Z"
    }
   },
   "outputs": [],
   "source": [
    "# LetsPlot.set_theme(theme(exponent_format='pow'))"
   ]
  },
  {
   "cell_type": "code",
   "execution_count": 4,
   "id": "f119b573-4516-411b-9dbe-fbbf7a4a0c74",
   "metadata": {
    "execution": {
     "iopub.execute_input": "2024-11-06T19:02:01.609840Z",
     "iopub.status.busy": "2024-11-06T19:02:01.609762Z",
     "iopub.status.idle": "2024-11-06T19:02:01.635394Z",
     "shell.execute_reply": "2024-11-06T19:02:01.635136Z"
    }
   },
   "outputs": [],
   "source": [
    "n = 10\n",
    "data = {\n",
    "    'x': list(range(n)),\n",
    "    'y': [(i + 1 + 0.025 * i) * 10**(-5) for i in range(n)],\n",
    "    'c': [i * 10**(10) for i in range(n)]\n",
    "}\n",
    "\n",
    "p = ggplot(data, mapping=aes(x='x', y='y', fill='c')) + geom_bar(stat='identity')"
   ]
  },
  {
   "cell_type": "code",
   "execution_count": 5,
   "id": "4ea41bce-d220-4c57-bbf9-75112cb3852d",
   "metadata": {
    "execution": {
     "iopub.execute_input": "2024-11-06T19:02:01.636587Z",
     "iopub.status.busy": "2024-11-06T19:02:01.636501Z",
     "iopub.status.idle": "2024-11-06T19:02:01.637995Z",
     "shell.execute_reply": "2024-11-06T19:02:01.637785Z"
    }
   },
   "outputs": [],
   "source": [
    "pow_theme = theme(exponent_format='pow')"
   ]
  },
  {
   "cell_type": "markdown",
   "id": "ce1284d2-6d92-4540-b148-fcb411561d21",
   "metadata": {},
   "source": [
    "#### 1. E-notation vs. Superscript Power Notation\n",
    "\n",
    "In this example \"scientific notation\" formatting for the guides is chosen automatically, basing on the data."
   ]
  },
  {
   "cell_type": "code",
   "execution_count": 6,
   "id": "5bc8222f-2d2e-4ea2-9305-f03c65949b73",
   "metadata": {
    "execution": {
     "iopub.execute_input": "2024-11-06T19:02:01.639011Z",
     "iopub.status.busy": "2024-11-06T19:02:01.638920Z",
     "iopub.status.idle": "2024-11-06T19:02:01.643008Z",
     "shell.execute_reply": "2024-11-06T19:02:01.642805Z"
    }
   },
   "outputs": [
    {
     "data": {
      "text/html": [
       "   <div id=\"y1uAVN\"></div>\n",
       "   <script type=\"text/javascript\" data-lets-plot-script=\"plot\">\n",
       "   \n",
       "   (function() {\n",
       "   // ----------\n",
       "   \n",
       "   var containerDiv = document.getElementById(\"y1uAVN\");\n",
       "   var observer = new ResizeObserver(function(entries) {\n",
       "       for (let entry of entries) {\n",
       "           var width = containerDiv.clientWidth\n",
       "           if (entry.contentBoxSize && width > 0) {\n",
       "           \n",
       "               // Render plot\n",
       "               if (observer) {\n",
       "                   observer.disconnect();\n",
       "                   observer = null;\n",
       "               }\n",
       "\n",
       "               var plotSpec={\n",
       "\"kind\":\"subplots\",\n",
       "\"layout\":{\n",
       "\"ncol\":2.0,\n",
       "\"nrow\":1.0,\n",
       "\"name\":\"grid\"\n",
       "},\n",
       "\"figures\":[{\n",
       "\"data\":{\n",
       "\"x\":[0.0,1.0,2.0,3.0,4.0,5.0,6.0,7.0,8.0,9.0],\n",
       "\"y\":[1.0E-5,2.025E-5,3.05E-5,4.075000000000001E-5,5.1E-5,6.125000000000001E-5,7.15E-5,8.175000000000001E-5,9.2E-5,1.0225E-4],\n",
       "\"c\":[0.0,1.0E10,2.0E10,3.0E10,4.0E10,5.0E10,6.0E10,7.0E10,8.0E10,9.0E10]\n",
       "},\n",
       "\"mapping\":{\n",
       "\"x\":\"x\",\n",
       "\"y\":\"y\",\n",
       "\"fill\":\"c\"\n",
       "},\n",
       "\"data_meta\":{\n",
       "\"series_annotations\":[{\n",
       "\"type\":\"int\",\n",
       "\"column\":\"x\"\n",
       "},{\n",
       "\"type\":\"float\",\n",
       "\"column\":\"y\"\n",
       "},{\n",
       "\"type\":\"int\",\n",
       "\"column\":\"c\"\n",
       "}]\n",
       "},\n",
       "\"ggtitle\":{\n",
       "\"text\":\"E-notation (default)\"\n",
       "},\n",
       "\"kind\":\"plot\",\n",
       "\"scales\":[],\n",
       "\"layers\":[{\n",
       "\"geom\":\"bar\",\n",
       "\"stat\":\"identity\",\n",
       "\"mapping\":{\n",
       "},\n",
       "\"data_meta\":{\n",
       "},\n",
       "\"data\":{\n",
       "}\n",
       "}],\n",
       "\"metainfo_list\":[],\n",
       "\"spec_id\":\"1\"\n",
       "},{\n",
       "\"data\":{\n",
       "\"x\":[0.0,1.0,2.0,3.0,4.0,5.0,6.0,7.0,8.0,9.0],\n",
       "\"y\":[1.0E-5,2.025E-5,3.05E-5,4.075000000000001E-5,5.1E-5,6.125000000000001E-5,7.15E-5,8.175000000000001E-5,9.2E-5,1.0225E-4],\n",
       "\"c\":[0.0,1.0E10,2.0E10,3.0E10,4.0E10,5.0E10,6.0E10,7.0E10,8.0E10,9.0E10]\n",
       "},\n",
       "\"mapping\":{\n",
       "\"x\":\"x\",\n",
       "\"y\":\"y\",\n",
       "\"fill\":\"c\"\n",
       "},\n",
       "\"data_meta\":{\n",
       "\"series_annotations\":[{\n",
       "\"type\":\"int\",\n",
       "\"column\":\"x\"\n",
       "},{\n",
       "\"type\":\"float\",\n",
       "\"column\":\"y\"\n",
       "},{\n",
       "\"type\":\"int\",\n",
       "\"column\":\"c\"\n",
       "}]\n",
       "},\n",
       "\"theme\":{\n",
       "\"exponent_format\":\"pow\"\n",
       "},\n",
       "\"ggtitle\":{\n",
       "\"text\":\"Superscript Power\"\n",
       "},\n",
       "\"kind\":\"plot\",\n",
       "\"scales\":[],\n",
       "\"layers\":[{\n",
       "\"geom\":\"bar\",\n",
       "\"stat\":\"identity\",\n",
       "\"mapping\":{\n",
       "},\n",
       "\"data_meta\":{\n",
       "},\n",
       "\"data\":{\n",
       "}\n",
       "}],\n",
       "\"metainfo_list\":[],\n",
       "\"spec_id\":\"2\"\n",
       "}]\n",
       "};\n",
       "               window.letsPlotCall(function() {\n",
       "       \n",
       "               var toolbar = null;\n",
       "               var plotContainer = containerDiv;               \n",
       "               \n",
       "                   var options = {\n",
       "                       sizing: {\n",
       "                           width_mode: \"min\",\n",
       "                           height_mode: \"scaled\",\n",
       "                           width: width\n",
       "                       }\n",
       "                   };\n",
       "                   var fig = LetsPlot.buildPlotFromProcessedSpecs(plotSpec, -1, -1, plotContainer, options);\n",
       "                   if (toolbar) {\n",
       "                     toolbar.bind(fig);\n",
       "                   }\n",
       "               });\n",
       "               \n",
       "               break;\n",
       "           }\n",
       "       }\n",
       "   });\n",
       "   \n",
       "   observer.observe(containerDiv);\n",
       "   \n",
       "   // ----------\n",
       "   })();\n",
       "   \n",
       "   </script>"
      ],
      "text/plain": [
       "<lets_plot.plot.subplots.SupPlotsSpec at 0x12a782470>"
      ]
     },
     "execution_count": 6,
     "metadata": {},
     "output_type": "execute_result"
    }
   ],
   "source": [
    "gggrid([p + ggtitle(\"E-notation (default)\"),\n",
    "        p + pow_theme + ggtitle(\"Superscript Power\")])"
   ]
  },
  {
   "cell_type": "markdown",
   "id": "a1a3148b-52ce-44ae-9885-81ebc994f013",
   "metadata": {
    "tags": []
   },
   "source": [
    "#### 2. Formatting in `geom_text()` and `geom_label()`\n",
    "\n",
    "By default, values in `geom_text()` and `geom_label()` are always shown in standard notation. \n",
    "\n",
    "Thus by default, the `'pow'` in `theme()` doesn't affect numbers in `geom_text()` and `geom_label()` (see the chart on the left) unless <br>\n",
    "you specify a scientific notation formatting explicitly via the `label_format` parameter (see the chart on the right).\n"
   ]
  },
  {
   "cell_type": "code",
   "execution_count": 7,
   "id": "78b1a24c-7240-4fd4-aaf9-609fb8cc7b59",
   "metadata": {
    "execution": {
     "iopub.execute_input": "2024-11-06T19:02:01.644018Z",
     "iopub.status.busy": "2024-11-06T19:02:01.643947Z",
     "iopub.status.idle": "2024-11-06T19:02:01.647304Z",
     "shell.execute_reply": "2024-11-06T19:02:01.647107Z"
    },
    "tags": []
   },
   "outputs": [
    {
     "data": {
      "text/html": [
       "   <div id=\"Ap2emC\"></div>\n",
       "   <script type=\"text/javascript\" data-lets-plot-script=\"plot\">\n",
       "   \n",
       "   (function() {\n",
       "   // ----------\n",
       "   \n",
       "   var containerDiv = document.getElementById(\"Ap2emC\");\n",
       "   var observer = new ResizeObserver(function(entries) {\n",
       "       for (let entry of entries) {\n",
       "           var width = containerDiv.clientWidth\n",
       "           if (entry.contentBoxSize && width > 0) {\n",
       "           \n",
       "               // Render plot\n",
       "               if (observer) {\n",
       "                   observer.disconnect();\n",
       "                   observer = null;\n",
       "               }\n",
       "\n",
       "               var plotSpec={\n",
       "\"theme\":{\n",
       "\"exponent_format\":\"pow\"\n",
       "},\n",
       "\"kind\":\"subplots\",\n",
       "\"layout\":{\n",
       "\"ncol\":2.0,\n",
       "\"nrow\":1.0,\n",
       "\"name\":\"grid\"\n",
       "},\n",
       "\"figures\":[{\n",
       "\"data\":{\n",
       "\"x\":[0.0,1.0,2.0,3.0,4.0,5.0,6.0,7.0,8.0,9.0],\n",
       "\"y\":[1.0E-5,2.025E-5,3.05E-5,4.075000000000001E-5,5.1E-5,6.125000000000001E-5,7.15E-5,8.175000000000001E-5,9.2E-5,1.0225E-4],\n",
       "\"c\":[0.0,1.0E10,2.0E10,3.0E10,4.0E10,5.0E10,6.0E10,7.0E10,8.0E10,9.0E10]\n",
       "},\n",
       "\"mapping\":{\n",
       "\"x\":\"x\",\n",
       "\"y\":\"y\",\n",
       "\"fill\":\"c\"\n",
       "},\n",
       "\"data_meta\":{\n",
       "\"series_annotations\":[{\n",
       "\"type\":\"int\",\n",
       "\"column\":\"x\"\n",
       "},{\n",
       "\"type\":\"float\",\n",
       "\"column\":\"y\"\n",
       "},{\n",
       "\"type\":\"int\",\n",
       "\"column\":\"c\"\n",
       "}]\n",
       "},\n",
       "\"kind\":\"plot\",\n",
       "\"scales\":[],\n",
       "\"layers\":[{\n",
       "\"geom\":\"bar\",\n",
       "\"stat\":\"identity\",\n",
       "\"mapping\":{\n",
       "},\n",
       "\"data_meta\":{\n",
       "},\n",
       "\"data\":{\n",
       "}\n",
       "},{\n",
       "\"geom\":\"label\",\n",
       "\"mapping\":{\n",
       "\"label\":\"y\"\n",
       "},\n",
       "\"data_meta\":{\n",
       "},\n",
       "\"alpha\":0.8,\n",
       "\"fill\":\"white\",\n",
       "\"data\":{\n",
       "}\n",
       "}],\n",
       "\"metainfo_list\":[],\n",
       "\"spec_id\":\"3\"\n",
       "},{\n",
       "\"data\":{\n",
       "\"x\":[0.0,1.0,2.0,3.0,4.0,5.0,6.0,7.0,8.0,9.0],\n",
       "\"y\":[1.0E-5,2.025E-5,3.05E-5,4.075000000000001E-5,5.1E-5,6.125000000000001E-5,7.15E-5,8.175000000000001E-5,9.2E-5,1.0225E-4],\n",
       "\"c\":[0.0,1.0E10,2.0E10,3.0E10,4.0E10,5.0E10,6.0E10,7.0E10,8.0E10,9.0E10]\n",
       "},\n",
       "\"mapping\":{\n",
       "\"x\":\"x\",\n",
       "\"y\":\"y\",\n",
       "\"fill\":\"c\"\n",
       "},\n",
       "\"data_meta\":{\n",
       "\"series_annotations\":[{\n",
       "\"type\":\"int\",\n",
       "\"column\":\"x\"\n",
       "},{\n",
       "\"type\":\"float\",\n",
       "\"column\":\"y\"\n",
       "},{\n",
       "\"type\":\"int\",\n",
       "\"column\":\"c\"\n",
       "}]\n",
       "},\n",
       "\"kind\":\"plot\",\n",
       "\"scales\":[],\n",
       "\"layers\":[{\n",
       "\"geom\":\"bar\",\n",
       "\"stat\":\"identity\",\n",
       "\"mapping\":{\n",
       "},\n",
       "\"data_meta\":{\n",
       "},\n",
       "\"data\":{\n",
       "}\n",
       "},{\n",
       "\"geom\":\"label\",\n",
       "\"mapping\":{\n",
       "\"label\":\"y\"\n",
       "},\n",
       "\"data_meta\":{\n",
       "},\n",
       "\"label_format\":\".2~e\",\n",
       "\"alpha\":0.8,\n",
       "\"fill\":\"white\",\n",
       "\"data\":{\n",
       "}\n",
       "}],\n",
       "\"metainfo_list\":[],\n",
       "\"spec_id\":\"4\"\n",
       "}]\n",
       "};\n",
       "               window.letsPlotCall(function() {\n",
       "       \n",
       "               var toolbar = null;\n",
       "               var plotContainer = containerDiv;               \n",
       "               \n",
       "                   var options = {\n",
       "                       sizing: {\n",
       "                           width_mode: \"min\",\n",
       "                           height_mode: \"scaled\",\n",
       "                           width: width\n",
       "                       }\n",
       "                   };\n",
       "                   var fig = LetsPlot.buildPlotFromProcessedSpecs(plotSpec, -1, -1, plotContainer, options);\n",
       "                   if (toolbar) {\n",
       "                     toolbar.bind(fig);\n",
       "                   }\n",
       "               });\n",
       "               \n",
       "               break;\n",
       "           }\n",
       "       }\n",
       "   });\n",
       "   \n",
       "   observer.observe(containerDiv);\n",
       "   \n",
       "   // ----------\n",
       "   })();\n",
       "   \n",
       "   </script>"
      ],
      "text/plain": [
       "<lets_plot.plot.subplots.SupPlotsSpec at 0x12a782290>"
      ]
     },
     "execution_count": 7,
     "metadata": {},
     "output_type": "execute_result"
    }
   ],
   "source": [
    "left  = p + geom_label(aes(label='y'), alpha=0.8, fill='white')\n",
    "right = p + geom_label(aes(label='y'), alpha=0.8, fill='white', label_format='.2~e')\n",
    "\n",
    "gggrid([left, right]) + pow_theme"
   ]
  }
 ],
 "metadata": {
  "kernelspec": {
   "display_name": "Python 3 (ipykernel)",
   "language": "python",
   "name": "python3"
  },
  "language_info": {
   "codemirror_mode": {
    "name": "ipython",
    "version": 3
   },
   "file_extension": ".py",
   "mimetype": "text/x-python",
   "name": "python",
   "nbconvert_exporter": "python",
   "pygments_lexer": "ipython3",
   "version": "3.10.15"
  }
 },
 "nbformat": 4,
 "nbformat_minor": 5
}
