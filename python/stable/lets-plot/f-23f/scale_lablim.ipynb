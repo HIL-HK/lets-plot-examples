{
 "cells": [
  {
   "cell_type": "markdown",
   "id": "d13bb6d9-afd1-4f5d-90ed-83892a0ed8d2",
   "metadata": {},
   "source": [
    "# Limiting Labels Length for Axis and Legends\n",
    "\n",
    "Use the `lablim` parameter in `scale_xxx()` functions to specify the maximum length (number of characters) of labels for correspondent axis or legend.\n",
    "\n",
    "Labels exceeding the specified maximum lenfth will be trimmed.\n"
   ]
  },
  {
   "cell_type": "code",
   "execution_count": 1,
   "id": "96bdba02-7084-4a95-a363-bfaf2fdc00f6",
   "metadata": {
    "execution": {
     "iopub.execute_input": "2024-10-02T08:42:23.856586Z",
     "iopub.status.busy": "2024-10-02T08:42:23.856096Z",
     "iopub.status.idle": "2024-10-02T08:42:24.348079Z",
     "shell.execute_reply": "2024-10-02T08:42:24.347809Z"
    }
   },
   "outputs": [
    {
     "data": {
      "text/html": [
       "\n",
       "            <div id=\"l9EzaL\"></div>\n",
       "            <script type=\"text/javascript\" data-lets-plot-script=\"library\">\n",
       "                if(!window.letsPlotCallQueue) {\n",
       "                    window.letsPlotCallQueue = [];\n",
       "                }; \n",
       "                window.letsPlotCall = function(f) {\n",
       "                    window.letsPlotCallQueue.push(f);\n",
       "                };\n",
       "                (function() {\n",
       "                    var script = document.createElement(\"script\");\n",
       "                    script.type = \"text/javascript\";\n",
       "                    script.src = \"https://cdn.jsdelivr.net/gh/JetBrains/lets-plot@v4.4.1/js-package/distr/lets-plot.min.js\";\n",
       "                    script.onload = function() {\n",
       "                        window.letsPlotCall = function(f) {f();};\n",
       "                        window.letsPlotCallQueue.forEach(function(f) {f();});\n",
       "                        window.letsPlotCallQueue = [];\n",
       "                        \n",
       "                    };\n",
       "                    script.onerror = function(event) {\n",
       "                        window.letsPlotCall = function(f) {};    // noop\n",
       "                        window.letsPlotCallQueue = [];\n",
       "                        var div = document.createElement(\"div\");\n",
       "                        div.style.color = 'darkred';\n",
       "                        div.textContent = 'Error loading Lets-Plot JS';\n",
       "                        document.getElementById(\"l9EzaL\").appendChild(div);\n",
       "                    };\n",
       "                    var e = document.getElementById(\"l9EzaL\");\n",
       "                    e.appendChild(script);\n",
       "                })()\n",
       "            </script>\n",
       "            "
      ]
     },
     "metadata": {},
     "output_type": "display_data"
    }
   ],
   "source": [
    "from lets_plot import *\n",
    "LetsPlot.setup_html()"
   ]
  },
  {
   "cell_type": "markdown",
   "id": "40f63905-9c3f-4593-9795-b8667d1daf91",
   "metadata": {},
   "source": [
    "#### 1. Long Labels without Trimming"
   ]
  },
  {
   "cell_type": "code",
   "execution_count": 2,
   "id": "89f7671f-5e1f-4830-b5f8-dee8e5142c4b",
   "metadata": {
    "execution": {
     "iopub.execute_input": "2024-10-02T08:42:24.349512Z",
     "iopub.status.busy": "2024-10-02T08:42:24.349310Z",
     "iopub.status.idle": "2024-10-02T08:42:24.380588Z",
     "shell.execute_reply": "2024-10-02T08:42:24.380328Z"
    }
   },
   "outputs": [
    {
     "data": {
      "text/html": [
       "   <div id=\"FBeHFx\"></div>\n",
       "   <script type=\"text/javascript\" data-lets-plot-script=\"plot\">\n",
       "       (function() {\n",
       "           var plotSpec={\n",
       "\"data\":{\n",
       "\"x\":[\"A picture is worth a thousand words\",\"Make a long story short\"]\n",
       "},\n",
       "\"mapping\":{\n",
       "\"x\":\"x\",\n",
       "\"color\":\"x\"\n",
       "},\n",
       "\"data_meta\":{\n",
       "\"series_annotations\":[{\n",
       "\"type\":\"str\",\n",
       "\"column\":\"x\"\n",
       "}]\n",
       "},\n",
       "\"kind\":\"plot\",\n",
       "\"scales\":[],\n",
       "\"layers\":[{\n",
       "\"geom\":\"point\",\n",
       "\"mapping\":{\n",
       "},\n",
       "\"data_meta\":{\n",
       "},\n",
       "\"size\":7.0,\n",
       "\"data\":{\n",
       "}\n",
       "}],\n",
       "\"metainfo_list\":[]\n",
       "};\n",
       "           var plotContainer = document.getElementById(\"FBeHFx\");\n",
       "           window.letsPlotCall(function() {{\n",
       "               LetsPlot.buildPlotFromProcessedSpecs(plotSpec, -1, -1, plotContainer);\n",
       "           }});\n",
       "       })();\n",
       "   </script>"
      ],
      "text/plain": [
       "<lets_plot.plot.core.PlotSpec at 0x13fbb79a0>"
      ]
     },
     "execution_count": 2,
     "metadata": {},
     "output_type": "execute_result"
    }
   ],
   "source": [
    "data = {\n",
    "    'x': ['A picture is worth a thousand words', 'Make a long story short']\n",
    "}\n",
    "\n",
    "p = ggplot(data, aes(x='x', color='x')) + geom_point(size=7)\n",
    "p"
   ]
  },
  {
   "cell_type": "markdown",
   "id": "cf8daa5e-0887-4353-a18f-129b66916de9",
   "metadata": {},
   "source": [
    "#### 2. Use `lablim` Parameter to Trim X-Axis Labels"
   ]
  },
  {
   "cell_type": "code",
   "execution_count": 3,
   "id": "1235d88c-0ca4-424f-93d6-54e8d36086b2",
   "metadata": {
    "execution": {
     "iopub.execute_input": "2024-10-02T08:42:24.381842Z",
     "iopub.status.busy": "2024-10-02T08:42:24.381758Z",
     "iopub.status.idle": "2024-10-02T08:42:24.384208Z",
     "shell.execute_reply": "2024-10-02T08:42:24.383991Z"
    }
   },
   "outputs": [
    {
     "data": {
      "text/html": [
       "   <div id=\"pVZEOq\"></div>\n",
       "   <script type=\"text/javascript\" data-lets-plot-script=\"plot\">\n",
       "       (function() {\n",
       "           var plotSpec={\n",
       "\"data\":{\n",
       "\"x\":[\"A picture is worth a thousand words\",\"Make a long story short\"]\n",
       "},\n",
       "\"mapping\":{\n",
       "\"x\":\"x\",\n",
       "\"color\":\"x\"\n",
       "},\n",
       "\"data_meta\":{\n",
       "\"series_annotations\":[{\n",
       "\"type\":\"str\",\n",
       "\"column\":\"x\"\n",
       "}]\n",
       "},\n",
       "\"kind\":\"plot\",\n",
       "\"scales\":[{\n",
       "\"aesthetic\":\"x\",\n",
       "\"lablim\":10.0,\n",
       "\"discrete\":true,\n",
       "\"reverse\":false\n",
       "}],\n",
       "\"layers\":[{\n",
       "\"geom\":\"point\",\n",
       "\"mapping\":{\n",
       "},\n",
       "\"data_meta\":{\n",
       "},\n",
       "\"size\":7.0,\n",
       "\"data\":{\n",
       "}\n",
       "}],\n",
       "\"metainfo_list\":[]\n",
       "};\n",
       "           var plotContainer = document.getElementById(\"pVZEOq\");\n",
       "           window.letsPlotCall(function() {{\n",
       "               LetsPlot.buildPlotFromProcessedSpecs(plotSpec, -1, -1, plotContainer);\n",
       "           }});\n",
       "       })();\n",
       "   </script>"
      ],
      "text/plain": [
       "<lets_plot.plot.core.PlotSpec at 0x13fbb7f40>"
      ]
     },
     "execution_count": 3,
     "metadata": {},
     "output_type": "execute_result"
    }
   ],
   "source": [
    "p + scale_x_discrete(lablim=10)"
   ]
  }
 ],
 "metadata": {
  "kernelspec": {
   "display_name": "Python 3 (ipykernel)",
   "language": "python",
   "name": "python3"
  },
  "language_info": {
   "codemirror_mode": {
    "name": "ipython",
    "version": 3
   },
   "file_extension": ".py",
   "mimetype": "text/x-python",
   "name": "python",
   "nbconvert_exporter": "python",
   "pygments_lexer": "ipython3",
   "version": "3.10.15"
  }
 },
 "nbformat": 4,
 "nbformat_minor": 5
}
