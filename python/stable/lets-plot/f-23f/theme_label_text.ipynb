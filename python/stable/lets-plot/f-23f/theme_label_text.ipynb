{
 "cells": [
  {
   "cell_type": "markdown",
   "id": "employed-rebate",
   "metadata": {},
   "source": [
    "# Text Setting for Annotations\n",
    "\n",
    "Use the `label_text` parameter in `theme()` to set basic text settings for annotations, using the `element_text()` function with the following parameters: \n",
    "\n",
    "- family - font family;\n",
    "- face - font face (\"plain\", \"italic\", \"bold\", \"bold_italic\");\n",
    "- size - text size, can also be specified via `layer_labels().size()`;\n",
    "- color - text color.\n"
   ]
  },
  {
   "cell_type": "code",
   "execution_count": 1,
   "id": "arranged-meter",
   "metadata": {
    "execution": {
     "iopub.execute_input": "2024-10-02T08:42:55.876236Z",
     "iopub.status.busy": "2024-10-02T08:42:55.875924Z",
     "iopub.status.idle": "2024-10-02T08:42:56.330259Z",
     "shell.execute_reply": "2024-10-02T08:42:56.329915Z"
    }
   },
   "outputs": [],
   "source": [
    "import pandas as pd\n",
    "\n",
    "from lets_plot import *"
   ]
  },
  {
   "cell_type": "code",
   "execution_count": 2,
   "id": "remarkable-toolbox",
   "metadata": {
    "execution": {
     "iopub.execute_input": "2024-10-02T08:42:56.331802Z",
     "iopub.status.busy": "2024-10-02T08:42:56.331679Z",
     "iopub.status.idle": "2024-10-02T08:42:56.334045Z",
     "shell.execute_reply": "2024-10-02T08:42:56.333822Z"
    }
   },
   "outputs": [
    {
     "data": {
      "text/html": [
       "\n",
       "            <div id=\"Ifh7nf\"></div>\n",
       "            <script type=\"text/javascript\" data-lets-plot-script=\"library\">\n",
       "                if(!window.letsPlotCallQueue) {\n",
       "                    window.letsPlotCallQueue = [];\n",
       "                }; \n",
       "                window.letsPlotCall = function(f) {\n",
       "                    window.letsPlotCallQueue.push(f);\n",
       "                };\n",
       "                (function() {\n",
       "                    var script = document.createElement(\"script\");\n",
       "                    script.type = \"text/javascript\";\n",
       "                    script.src = \"https://cdn.jsdelivr.net/gh/JetBrains/lets-plot@v4.4.1/js-package/distr/lets-plot.min.js\";\n",
       "                    script.onload = function() {\n",
       "                        window.letsPlotCall = function(f) {f();};\n",
       "                        window.letsPlotCallQueue.forEach(function(f) {f();});\n",
       "                        window.letsPlotCallQueue = [];\n",
       "                        \n",
       "                    };\n",
       "                    script.onerror = function(event) {\n",
       "                        window.letsPlotCall = function(f) {};    // noop\n",
       "                        window.letsPlotCallQueue = [];\n",
       "                        var div = document.createElement(\"div\");\n",
       "                        div.style.color = 'darkred';\n",
       "                        div.textContent = 'Error loading Lets-Plot JS';\n",
       "                        document.getElementById(\"Ifh7nf\").appendChild(div);\n",
       "                    };\n",
       "                    var e = document.getElementById(\"Ifh7nf\");\n",
       "                    e.appendChild(script);\n",
       "                })()\n",
       "            </script>\n",
       "            "
      ]
     },
     "metadata": {},
     "output_type": "display_data"
    }
   ],
   "source": [
    "LetsPlot.setup_html()"
   ]
  },
  {
   "cell_type": "code",
   "execution_count": 3,
   "id": "faced-integral",
   "metadata": {
    "execution": {
     "iopub.execute_input": "2024-10-02T08:42:56.335273Z",
     "iopub.status.busy": "2024-10-02T08:42:56.335187Z",
     "iopub.status.idle": "2024-10-02T08:42:56.490818Z",
     "shell.execute_reply": "2024-10-02T08:42:56.490495Z"
    }
   },
   "outputs": [
    {
     "data": {
      "text/html": [
       "<div>\n",
       "<style scoped>\n",
       "    .dataframe tbody tr th:only-of-type {\n",
       "        vertical-align: middle;\n",
       "    }\n",
       "\n",
       "    .dataframe tbody tr th {\n",
       "        vertical-align: top;\n",
       "    }\n",
       "\n",
       "    .dataframe thead th {\n",
       "        text-align: right;\n",
       "    }\n",
       "</style>\n",
       "<table border=\"1\" class=\"dataframe\">\n",
       "  <thead>\n",
       "    <tr style=\"text-align: right;\">\n",
       "      <th></th>\n",
       "      <th>Unnamed: 0</th>\n",
       "      <th>manufacturer</th>\n",
       "      <th>model</th>\n",
       "      <th>displ</th>\n",
       "      <th>year</th>\n",
       "      <th>cyl</th>\n",
       "      <th>trans</th>\n",
       "      <th>drv</th>\n",
       "      <th>cty</th>\n",
       "      <th>hwy</th>\n",
       "      <th>fl</th>\n",
       "      <th>class</th>\n",
       "    </tr>\n",
       "  </thead>\n",
       "  <tbody>\n",
       "    <tr>\n",
       "      <th>0</th>\n",
       "      <td>1</td>\n",
       "      <td>audi</td>\n",
       "      <td>a4</td>\n",
       "      <td>1.8</td>\n",
       "      <td>1999</td>\n",
       "      <td>4</td>\n",
       "      <td>auto(l5)</td>\n",
       "      <td>f</td>\n",
       "      <td>18</td>\n",
       "      <td>29</td>\n",
       "      <td>p</td>\n",
       "      <td>compact</td>\n",
       "    </tr>\n",
       "    <tr>\n",
       "      <th>1</th>\n",
       "      <td>2</td>\n",
       "      <td>audi</td>\n",
       "      <td>a4</td>\n",
       "      <td>1.8</td>\n",
       "      <td>1999</td>\n",
       "      <td>4</td>\n",
       "      <td>manual(m5)</td>\n",
       "      <td>f</td>\n",
       "      <td>21</td>\n",
       "      <td>29</td>\n",
       "      <td>p</td>\n",
       "      <td>compact</td>\n",
       "    </tr>\n",
       "    <tr>\n",
       "      <th>2</th>\n",
       "      <td>3</td>\n",
       "      <td>audi</td>\n",
       "      <td>a4</td>\n",
       "      <td>2.0</td>\n",
       "      <td>2008</td>\n",
       "      <td>4</td>\n",
       "      <td>manual(m6)</td>\n",
       "      <td>f</td>\n",
       "      <td>20</td>\n",
       "      <td>31</td>\n",
       "      <td>p</td>\n",
       "      <td>compact</td>\n",
       "    </tr>\n",
       "    <tr>\n",
       "      <th>3</th>\n",
       "      <td>4</td>\n",
       "      <td>audi</td>\n",
       "      <td>a4</td>\n",
       "      <td>2.0</td>\n",
       "      <td>2008</td>\n",
       "      <td>4</td>\n",
       "      <td>auto(av)</td>\n",
       "      <td>f</td>\n",
       "      <td>21</td>\n",
       "      <td>30</td>\n",
       "      <td>p</td>\n",
       "      <td>compact</td>\n",
       "    </tr>\n",
       "  </tbody>\n",
       "</table>\n",
       "</div>"
      ],
      "text/plain": [
       "   Unnamed: 0 manufacturer model  displ  year  cyl       trans drv  cty  hwy  \\\n",
       "0           1         audi    a4    1.8  1999    4    auto(l5)   f   18   29   \n",
       "1           2         audi    a4    1.8  1999    4  manual(m5)   f   21   29   \n",
       "2           3         audi    a4    2.0  2008    4  manual(m6)   f   20   31   \n",
       "3           4         audi    a4    2.0  2008    4    auto(av)   f   21   30   \n",
       "\n",
       "  fl    class  \n",
       "0  p  compact  \n",
       "1  p  compact  \n",
       "2  p  compact  \n",
       "3  p  compact  "
      ]
     },
     "execution_count": 3,
     "metadata": {},
     "output_type": "execute_result"
    }
   ],
   "source": [
    "mpg_df = pd.read_csv (\"https://raw.githubusercontent.com/JetBrains/lets-plot-docs/master/data/mpg.csv\")\n",
    "mpg_df.head(4)"
   ]
  },
  {
   "cell_type": "code",
   "execution_count": 4,
   "id": "academic-wholesale",
   "metadata": {
    "execution": {
     "iopub.execute_input": "2024-10-02T08:42:56.492470Z",
     "iopub.status.busy": "2024-10-02T08:42:56.492321Z",
     "iopub.status.idle": "2024-10-02T08:42:56.494442Z",
     "shell.execute_reply": "2024-10-02T08:42:56.494164Z"
    }
   },
   "outputs": [],
   "source": [
    "label_text_opts = element_text(family='Rockwell', face='bold', size=16, color='#542788')"
   ]
  },
  {
   "cell_type": "markdown",
   "id": "suited-visit",
   "metadata": {},
   "source": [
    "#### Configure Text Labels for Bar Plot"
   ]
  },
  {
   "cell_type": "code",
   "execution_count": 5,
   "id": "employed-flavor",
   "metadata": {
    "execution": {
     "iopub.execute_input": "2024-10-02T08:42:56.495925Z",
     "iopub.status.busy": "2024-10-02T08:42:56.495780Z",
     "iopub.status.idle": "2024-10-02T08:42:56.537382Z",
     "shell.execute_reply": "2024-10-02T08:42:56.537094Z"
    }
   },
   "outputs": [
    {
     "data": {
      "text/html": [
       "   <div id=\"rOGTIg\"></div>\n",
       "   <script type=\"text/javascript\" data-lets-plot-script=\"plot\">\n",
       "       (function() {\n",
       "           var plotSpec={\n",
       "\"data\":{\n",
       "},\n",
       "\"mapping\":{\n",
       "},\n",
       "\"data_meta\":{\n",
       "\"series_annotations\":[{\n",
       "\"type\":\"int\",\n",
       "\"column\":\"Unnamed: 0\"\n",
       "},{\n",
       "\"type\":\"str\",\n",
       "\"column\":\"manufacturer\"\n",
       "},{\n",
       "\"type\":\"str\",\n",
       "\"column\":\"model\"\n",
       "},{\n",
       "\"type\":\"float\",\n",
       "\"column\":\"displ\"\n",
       "},{\n",
       "\"type\":\"int\",\n",
       "\"column\":\"year\"\n",
       "},{\n",
       "\"type\":\"int\",\n",
       "\"column\":\"cyl\"\n",
       "},{\n",
       "\"type\":\"str\",\n",
       "\"column\":\"trans\"\n",
       "},{\n",
       "\"type\":\"str\",\n",
       "\"column\":\"drv\"\n",
       "},{\n",
       "\"type\":\"int\",\n",
       "\"column\":\"cty\"\n",
       "},{\n",
       "\"type\":\"int\",\n",
       "\"column\":\"hwy\"\n",
       "},{\n",
       "\"type\":\"str\",\n",
       "\"column\":\"fl\"\n",
       "},{\n",
       "\"type\":\"str\",\n",
       "\"column\":\"class\"\n",
       "}]\n",
       "},\n",
       "\"theme\":{\n",
       "\"label_text\":{\n",
       "\"color\":\"#542788\",\n",
       "\"family\":\"Rockwell\",\n",
       "\"face\":\"bold\",\n",
       "\"size\":16.0,\n",
       "\"blank\":false\n",
       "}\n",
       "},\n",
       "\"kind\":\"plot\",\n",
       "\"scales\":[],\n",
       "\"layers\":[{\n",
       "\"geom\":\"bar\",\n",
       "\"mapping\":{\n",
       "\"x\":\"class\",\n",
       "\"fill\":\"class\"\n",
       "},\n",
       "\"data_meta\":{\n",
       "},\n",
       "\"labels\":{\n",
       "\"formats\":[],\n",
       "\"lines\":[\"@..sumpct..\"]\n",
       "},\n",
       "\"data\":{\n",
       "\"..count..\":[47.0,41.0,62.0,5.0,11.0,33.0,35.0],\n",
       "\"class\":[\"compact\",\"midsize\",\"suv\",\"2seater\",\"minivan\",\"pickup\",\"subcompact\"],\n",
       "\"..sumpct..\":[20.085470085470085,17.52136752136752,26.495726495726498,2.1367521367521367,4.700854700854701,14.102564102564102,14.957264957264957]\n",
       "}\n",
       "}],\n",
       "\"metainfo_list\":[]\n",
       "};\n",
       "           var plotContainer = document.getElementById(\"rOGTIg\");\n",
       "           window.letsPlotCall(function() {{\n",
       "               LetsPlot.buildPlotFromProcessedSpecs(plotSpec, -1, -1, plotContainer);\n",
       "           }});\n",
       "       })();\n",
       "   </script>"
      ],
      "text/plain": [
       "<lets_plot.plot.core.PlotSpec at 0x135fda4d0>"
      ]
     },
     "execution_count": 5,
     "metadata": {},
     "output_type": "execute_result"
    }
   ],
   "source": [
    "ggplot(mpg_df) + \\\n",
    "    geom_bar(aes('class', fill='class'), labels=layer_labels().line('@..sumpct..')) + \\\n",
    "    theme(label_text=label_text_opts)"
   ]
  },
  {
   "cell_type": "markdown",
   "id": "reduced-discharge",
   "metadata": {},
   "source": [
    "#### Configure Text Labels for Pie Chart"
   ]
  },
  {
   "cell_type": "code",
   "execution_count": 6,
   "id": "8083daa6-66c4-47d1-84ee-014ed78df766",
   "metadata": {
    "execution": {
     "iopub.execute_input": "2024-10-02T08:42:56.538651Z",
     "iopub.status.busy": "2024-10-02T08:42:56.538563Z",
     "iopub.status.idle": "2024-10-02T08:42:56.543426Z",
     "shell.execute_reply": "2024-10-02T08:42:56.543208Z"
    }
   },
   "outputs": [
    {
     "data": {
      "text/html": [
       "   <div id=\"YdvWOC\"></div>\n",
       "   <script type=\"text/javascript\" data-lets-plot-script=\"plot\">\n",
       "       (function() {\n",
       "           var plotSpec={\n",
       "\"data\":{\n",
       "},\n",
       "\"mapping\":{\n",
       "},\n",
       "\"data_meta\":{\n",
       "\"series_annotations\":[{\n",
       "\"type\":\"int\",\n",
       "\"column\":\"Unnamed: 0\"\n",
       "},{\n",
       "\"type\":\"str\",\n",
       "\"column\":\"manufacturer\"\n",
       "},{\n",
       "\"type\":\"str\",\n",
       "\"column\":\"model\"\n",
       "},{\n",
       "\"type\":\"float\",\n",
       "\"column\":\"displ\"\n",
       "},{\n",
       "\"type\":\"int\",\n",
       "\"column\":\"year\"\n",
       "},{\n",
       "\"type\":\"int\",\n",
       "\"column\":\"cyl\"\n",
       "},{\n",
       "\"type\":\"str\",\n",
       "\"column\":\"trans\"\n",
       "},{\n",
       "\"type\":\"str\",\n",
       "\"column\":\"drv\"\n",
       "},{\n",
       "\"type\":\"int\",\n",
       "\"column\":\"cty\"\n",
       "},{\n",
       "\"type\":\"int\",\n",
       "\"column\":\"hwy\"\n",
       "},{\n",
       "\"type\":\"str\",\n",
       "\"column\":\"fl\"\n",
       "},{\n",
       "\"type\":\"str\",\n",
       "\"column\":\"class\"\n",
       "}]\n",
       "},\n",
       "\"theme\":{\n",
       "\"name\":\"classic\",\n",
       "\"line\":\"blank\",\n",
       "\"axis\":\"blank\",\n",
       "\"label_text\":{\n",
       "\"color\":\"#542788\",\n",
       "\"family\":\"Rockwell\",\n",
       "\"face\":\"bold\",\n",
       "\"size\":16.0,\n",
       "\"blank\":false\n",
       "}\n",
       "},\n",
       "\"kind\":\"plot\",\n",
       "\"scales\":[],\n",
       "\"layers\":[{\n",
       "\"geom\":\"pie\",\n",
       "\"mapping\":{\n",
       "\"fill\":\"class\"\n",
       "},\n",
       "\"data_meta\":{\n",
       "},\n",
       "\"labels\":{\n",
       "\"formats\":[],\n",
       "\"lines\":[\"@..proppct..\"]\n",
       "},\n",
       "\"hole\":0.3,\n",
       "\"size\":26.0,\n",
       "\"data\":{\n",
       "\"..x..\":[0.0,0.0,0.0,0.0,0.0,0.0,0.0],\n",
       "\"..y..\":[0.0,0.0,0.0,0.0,0.0,0.0,0.0],\n",
       "\"..count..\":[47.0,41.0,62.0,5.0,11.0,33.0,35.0],\n",
       "\"class\":[\"compact\",\"midsize\",\"suv\",\"2seater\",\"minivan\",\"pickup\",\"subcompact\"],\n",
       "\"..proppct..\":[20.085470085470085,17.52136752136752,26.495726495726498,2.1367521367521367,4.700854700854701,14.102564102564102,14.957264957264957]\n",
       "}\n",
       "}],\n",
       "\"metainfo_list\":[]\n",
       "};\n",
       "           var plotContainer = document.getElementById(\"YdvWOC\");\n",
       "           window.letsPlotCall(function() {{\n",
       "               LetsPlot.buildPlotFromProcessedSpecs(plotSpec, -1, -1, plotContainer);\n",
       "           }});\n",
       "       })();\n",
       "   </script>"
      ],
      "text/plain": [
       "<lets_plot.plot.core.PlotSpec at 0x13629cfa0>"
      ]
     },
     "execution_count": 6,
     "metadata": {},
     "output_type": "execute_result"
    }
   ],
   "source": [
    "ggplot(mpg_df) + \\\n",
    "    geom_pie(aes(fill='class'), size=26, hole=0.3, labels=layer_labels().line('@..proppct..')) + \\\n",
    "    theme_void() + \\\n",
    "    theme(label_text=label_text_opts)"
   ]
  }
 ],
 "metadata": {
  "kernelspec": {
   "display_name": "Python 3",
   "language": "python",
   "name": "python3"
  },
  "language_info": {
   "codemirror_mode": {
    "name": "ipython",
    "version": 3
   },
   "file_extension": ".py",
   "mimetype": "text/x-python",
   "name": "python",
   "nbconvert_exporter": "python",
   "pygments_lexer": "ipython3",
   "version": "3.10.15"
  }
 },
 "nbformat": 4,
 "nbformat_minor": 5
}
