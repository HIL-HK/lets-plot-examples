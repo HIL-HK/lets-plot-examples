{
 "cells": [
  {
   "cell_type": "code",
   "execution_count": 1,
   "metadata": {},
   "outputs": [
    {
     "data": {
      "text/html": [
       "\n",
       "            <div id=\"EDXiBI\"></div>\n",
       "            <script type=\"text/javascript\" data-lets-plot-script=\"library\">\n",
       "                if(!window.letsPlotCallQueue) {\n",
       "                    window.letsPlotCallQueue = [];\n",
       "                }; \n",
       "                window.letsPlotCall = function(f) {\n",
       "                    window.letsPlotCallQueue.push(f);\n",
       "                };\n",
       "                (function() {\n",
       "                    var script = document.createElement(\"script\");\n",
       "                    script.type = \"text/javascript\";\n",
       "                    script.src = \"https://cdn.jsdelivr.net/gh/JetBrains/lets-plot@v4.3.0/js-package/distr/lets-plot.min.js\";\n",
       "                    script.onload = function() {\n",
       "                        window.letsPlotCall = function(f) {f();};\n",
       "                        window.letsPlotCallQueue.forEach(function(f) {f();});\n",
       "                        window.letsPlotCallQueue = [];\n",
       "                        \n",
       "                    };\n",
       "                    script.onerror = function(event) {\n",
       "                        window.letsPlotCall = function(f) {};    // noop\n",
       "                        window.letsPlotCallQueue = [];\n",
       "                        var div = document.createElement(\"div\");\n",
       "                        div.style.color = 'darkred';\n",
       "                        div.textContent = 'Error loading Lets-Plot JS';\n",
       "                        document.getElementById(\"EDXiBI\").appendChild(div);\n",
       "                    };\n",
       "                    var e = document.getElementById(\"EDXiBI\");\n",
       "                    e.appendChild(script);\n",
       "                })()\n",
       "            </script>\n",
       "            "
      ]
     },
     "metadata": {},
     "output_type": "display_data"
    }
   ],
   "source": [
    "import numpy as np\n",
    "from lets_plot import *\n",
    "LetsPlot.setup_html()"
   ]
  },
  {
   "cell_type": "code",
   "execution_count": 2,
   "metadata": {},
   "outputs": [],
   "source": [
    "LetsPlot.set_theme(theme(exponent_format='pow'))"
   ]
  },
  {
   "cell_type": "markdown",
   "metadata": {},
   "source": [
    "https://github.com/JetBrains/lets-plot/issues/600\n",
    "\n",
    "Cryptic error message on geom_boxplot with orientation=\"y\""
   ]
  },
  {
   "cell_type": "code",
   "execution_count": 3,
   "metadata": {},
   "outputs": [
    {
     "data": {
      "text/html": [
       "   <div id=\"KKLx07\"></div>\n",
       "   <script type=\"text/javascript\" data-lets-plot-script=\"plot\">\n",
       "       (function() {\n",
       "           var plotSpec={\n",
       "\"data\":{\n",
       "},\n",
       "\"mapping\":{\n",
       "},\n",
       "\"data_meta\":{\n",
       "},\n",
       "\"theme\":{\n",
       "\"exponent_format\":\"pow\"\n",
       "},\n",
       "\"kind\":\"plot\",\n",
       "\"scales\":[],\n",
       "\"layers\":[{\n",
       "\"geom\":\"boxplot\",\n",
       "\"mapping\":{\n",
       "\"x\":\"alphabet\",\n",
       "\"y\":\"coeff\"\n",
       "},\n",
       "\"data_meta\":{\n",
       "},\n",
       "\"data\":{\n",
       "\"..middle..\":[0.9907828282828284,0.9899509803921569],\n",
       "\"..lower..\":[0.9890671420083185,0.9877073906485672],\n",
       "\"..upper..\":[0.9932017543859649,0.9932017543859649],\n",
       "\"..ymin..\":[0.9882352941176471,0.9871794871794872],\n",
       "\"..ymax..\":[0.9947368421052631,0.9947368421052631],\n",
       "\"alphabet\":[\"a\",\"b\"]\n",
       "}\n",
       "},{\n",
       "\"geom\":\"point\",\n",
       "\"stat\":\"boxplot_outlier\",\n",
       "\"mapping\":{\n",
       "\"x\":\"alphabet\",\n",
       "\"y\":\"coeff\"\n",
       "},\n",
       "\"show_legend\":false,\n",
       "\"data_meta\":{\n",
       "},\n",
       "\"data\":{\n",
       "\"..middle..\":[0.9907828282828284,0.9899509803921569],\n",
       "\"..lower..\":[0.9890671420083185,0.9877073906485672],\n",
       "\"..upper..\":[0.9932017543859649,0.9932017543859649],\n",
       "\"..ymin..\":[0.9882352941176471,0.9871794871794872],\n",
       "\"..ymax..\":[0.9947368421052631,0.9947368421052631],\n",
       "\"alphabet\":[\"a\",\"b\"],\n",
       "\"coeff\":[NaN,NaN]\n",
       "}\n",
       "}],\n",
       "\"metainfo_list\":[]\n",
       "};\n",
       "           var plotContainer = document.getElementById(\"KKLx07\");\n",
       "           window.letsPlotCall(function() {{\n",
       "               LetsPlot.buildPlotFromProcessedSpecs(plotSpec, -1, -1, plotContainer);\n",
       "           }});\n",
       "       })();\n",
       "   </script>"
      ],
      "text/plain": [
       "<lets_plot.plot.core.PlotSpec at 0x7fd3c3453990>"
      ]
     },
     "execution_count": 3,
     "metadata": {},
     "output_type": "execute_result"
    }
   ],
   "source": [
    "data = {\n",
    "    \"alphabet\": [\"a\",\"a\",\"b\",\"a\",\"a\",\"a\",\"b\",\"b\",\"b\",\"a\",\"a\",\"a\"],\n",
    "    \"coeff\": [\n",
    "        0.9898989898989898, 0.98989898989899, 0.9871794871794872,\n",
    "        0.9916666666666667, 0.9882352941176471, 0.9947368421052631,\n",
    "        0.9916666666666667, 0.9882352941176471, 0.9947368421052631,\n",
    "        0.9916666666666667, 0.9882352941176471, 0.9947368421052631\n",
    "     ]\n",
    "}\n",
    "ggplot(data) + geom_boxplot(aes(\"alphabet\", \"coeff\"))"
   ]
  },
  {
   "cell_type": "code",
   "execution_count": 4,
   "metadata": {},
   "outputs": [
    {
     "data": {
      "text/html": [
       "   <div id=\"ksivcr\"></div>\n",
       "   <script type=\"text/javascript\" data-lets-plot-script=\"plot\">\n",
       "       (function() {\n",
       "           var plotSpec={\n",
       "\"data\":{\n",
       "},\n",
       "\"mapping\":{\n",
       "},\n",
       "\"data_meta\":{\n",
       "},\n",
       "\"theme\":{\n",
       "\"exponent_format\":\"pow\"\n",
       "},\n",
       "\"kind\":\"plot\",\n",
       "\"scales\":[],\n",
       "\"layers\":[{\n",
       "\"geom\":\"boxplot\",\n",
       "\"mapping\":{\n",
       "\"x\":\"alphabet\",\n",
       "\"y\":\"coeff\"\n",
       "},\n",
       "\"data_meta\":{\n",
       "},\n",
       "\"orientation\":\"y\",\n",
       "\"data\":{\n",
       "\"..middle..\":[\"a\",\"a\",\"b\",\"a\",\"a\",\"a\"],\n",
       "\"..lower..\":[\"a\",\"a\",\"b\",\"a\",\"a\",\"a\"],\n",
       "\"..upper..\":[\"a\",\"a\",\"b\",\"b\",\"b\",\"b\"],\n",
       "\"..ymin..\":[\"a\",\"a\",\"b\",\"a\",\"a\",\"a\"],\n",
       "\"..ymax..\":[\"a\",\"a\",\"b\",\"b\",\"b\",\"b\"],\n",
       "\"coeff\":[0.9898989898989898,0.98989898989899,0.9871794871794872,0.9916666666666667,0.9882352941176471,0.9947368421052631]\n",
       "}\n",
       "},{\n",
       "\"geom\":\"point\",\n",
       "\"stat\":\"boxplot_outlier\",\n",
       "\"mapping\":{\n",
       "\"x\":\"alphabet\",\n",
       "\"y\":\"coeff\"\n",
       "},\n",
       "\"show_legend\":false,\n",
       "\"data_meta\":{\n",
       "},\n",
       "\"orientation\":\"y\",\n",
       "\"data\":{\n",
       "\"..middle..\":[\"a\",\"a\",\"b\",\"a\",\"a\",\"a\"],\n",
       "\"..lower..\":[\"a\",\"a\",\"b\",\"a\",\"a\",\"a\"],\n",
       "\"..upper..\":[\"a\",\"a\",\"b\",\"b\",\"b\",\"b\"],\n",
       "\"..ymin..\":[\"a\",\"a\",\"b\",\"a\",\"a\",\"a\"],\n",
       "\"..ymax..\":[\"a\",\"a\",\"b\",\"b\",\"b\",\"b\"],\n",
       "\"coeff\":[0.9898989898989898,0.98989898989899,0.9871794871794872,0.9916666666666667,0.9882352941176471,0.9947368421052631],\n",
       "\"alphabet\":[null,null,null,null,null,null]\n",
       "}\n",
       "}],\n",
       "\"metainfo_list\":[]\n",
       "};\n",
       "           var plotContainer = document.getElementById(\"ksivcr\");\n",
       "           window.letsPlotCall(function() {{\n",
       "               LetsPlot.buildPlotFromProcessedSpecs(plotSpec, -1, -1, plotContainer);\n",
       "           }});\n",
       "       })();\n",
       "   </script>"
      ],
      "text/plain": [
       "<lets_plot.plot.core.PlotSpec at 0x7fd3c2e28050>"
      ]
     },
     "execution_count": 4,
     "metadata": {},
     "output_type": "execute_result"
    }
   ],
   "source": [
    "data = {\n",
    "    \"alphabet\": [\"a\",\"a\",\"b\",\"a\",\"a\",\"a\",\"b\",\"b\",\"b\",\"a\",\"a\",\"a\"],\n",
    "    \"coeff\": [\n",
    "        0.9898989898989898, 0.98989898989899, 0.9871794871794872,\n",
    "        0.9916666666666667, 0.9882352941176471, 0.9947368421052631,\n",
    "        0.9916666666666667, 0.9882352941176471, 0.9947368421052631,\n",
    "        0.9916666666666667, 0.9882352941176471, 0.9947368421052631\n",
    "     ]\n",
    "}\n",
    "ggplot(data) + geom_boxplot(aes(\"alphabet\", \"coeff\"), orientation=\"y\")"
   ]
  },
  {
   "cell_type": "code",
   "execution_count": 5,
   "metadata": {},
   "outputs": [
    {
     "data": {
      "text/html": [
       "   <div id=\"ITRKTQ\"></div>\n",
       "   <script type=\"text/javascript\" data-lets-plot-script=\"plot\">\n",
       "       (function() {\n",
       "           var plotSpec={\n",
       "\"data\":{\n",
       "},\n",
       "\"mapping\":{\n",
       "},\n",
       "\"data_meta\":{\n",
       "},\n",
       "\"theme\":{\n",
       "\"exponent_format\":\"pow\"\n",
       "},\n",
       "\"kind\":\"plot\",\n",
       "\"scales\":[],\n",
       "\"layers\":[{\n",
       "\"geom\":\"boxplot\",\n",
       "\"mapping\":{\n",
       "\"x\":\"coeff\",\n",
       "\"y\":\"alphabet\"\n",
       "},\n",
       "\"data_meta\":{\n",
       "},\n",
       "\"data\":{\n",
       "\"..middle..\":[\"a\",\"a\",\"b\",\"a\",\"a\",\"a\"],\n",
       "\"..lower..\":[\"a\",\"a\",\"b\",\"a\",\"a\",\"a\"],\n",
       "\"..upper..\":[\"a\",\"a\",\"b\",\"b\",\"b\",\"b\"],\n",
       "\"..ymin..\":[\"a\",\"a\",\"b\",\"a\",\"a\",\"a\"],\n",
       "\"..ymax..\":[\"a\",\"a\",\"b\",\"b\",\"b\",\"b\"],\n",
       "\"coeff\":[0.9898989898989898,0.98989898989899,0.9871794871794872,0.9916666666666667,0.9882352941176471,0.9947368421052631]\n",
       "}\n",
       "},{\n",
       "\"geom\":\"point\",\n",
       "\"stat\":\"boxplot_outlier\",\n",
       "\"mapping\":{\n",
       "\"x\":\"coeff\",\n",
       "\"y\":\"alphabet\"\n",
       "},\n",
       "\"show_legend\":false,\n",
       "\"data_meta\":{\n",
       "},\n",
       "\"data\":{\n",
       "\"..middle..\":[\"a\",\"a\",\"b\",\"a\",\"a\",\"a\"],\n",
       "\"..lower..\":[\"a\",\"a\",\"b\",\"a\",\"a\",\"a\"],\n",
       "\"..upper..\":[\"a\",\"a\",\"b\",\"b\",\"b\",\"b\"],\n",
       "\"..ymin..\":[\"a\",\"a\",\"b\",\"a\",\"a\",\"a\"],\n",
       "\"..ymax..\":[\"a\",\"a\",\"b\",\"b\",\"b\",\"b\"],\n",
       "\"coeff\":[0.9898989898989898,0.98989898989899,0.9871794871794872,0.9916666666666667,0.9882352941176471,0.9947368421052631],\n",
       "\"alphabet\":[null,null,null,null,null,null]\n",
       "}\n",
       "}],\n",
       "\"metainfo_list\":[]\n",
       "};\n",
       "           var plotContainer = document.getElementById(\"ITRKTQ\");\n",
       "           window.letsPlotCall(function() {{\n",
       "               LetsPlot.buildPlotFromProcessedSpecs(plotSpec, -1, -1, plotContainer);\n",
       "           }});\n",
       "       })();\n",
       "   </script>"
      ],
      "text/plain": [
       "<lets_plot.plot.core.PlotSpec at 0x7fd3c0f087d0>"
      ]
     },
     "execution_count": 5,
     "metadata": {},
     "output_type": "execute_result"
    }
   ],
   "source": [
    "data = {\n",
    "    \"alphabet\": [\"a\",\"a\",\"b\",\"a\",\"a\",\"a\",\"b\",\"b\",\"b\",\"a\",\"a\",\"a\"],\n",
    "    \"coeff\": [\n",
    "        0.9898989898989898, 0.98989898989899, 0.9871794871794872,\n",
    "        0.9916666666666667, 0.9882352941176471, 0.9947368421052631,\n",
    "        0.9916666666666667, 0.9882352941176471, 0.9947368421052631,\n",
    "        0.9916666666666667, 0.9882352941176471, 0.9947368421052631\n",
    "     ]\n",
    "}\n",
    "ggplot(data) + geom_boxplot(aes(\"coeff\", \"alphabet\"))"
   ]
  },
  {
   "cell_type": "code",
   "execution_count": null,
   "metadata": {},
   "outputs": [],
   "source": []
  }
 ],
 "metadata": {
  "kernelspec": {
   "display_name": "Python [conda env:v4.3.0]",
   "language": "python",
   "name": "conda-env-v4.3.0-py"
  },
  "language_info": {
   "codemirror_mode": {
    "name": "ipython",
    "version": 3
   },
   "file_extension": ".py",
   "mimetype": "text/x-python",
   "name": "python",
   "nbconvert_exporter": "python",
   "pygments_lexer": "ipython3",
   "version": "3.11.9"
  }
 },
 "nbformat": 4,
 "nbformat_minor": 4
}
