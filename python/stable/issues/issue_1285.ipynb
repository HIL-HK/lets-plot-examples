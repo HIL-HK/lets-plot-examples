{
 "cells": [
  {
   "cell_type": "markdown",
   "id": "e537499e-f258-4290-8b50-6667434fe731",
   "metadata": {},
   "source": [
    "Trying to eliminate margins inside plot geometry area.\n",
    "\n",
    "`scale_x_continuous(expand=[0, 0]) + scale_y_continuous(expand=[0, 0])` works as expected\n",
    "\n",
    "But `scale_continuous(['x','y'], expand=[0, 0])` fails with error\n",
    "\n",
    "https://github.com/JetBrains/lets-plot/issues/1285 [closed]"
   ]
  },
  {
   "cell_type": "code",
   "execution_count": null,
   "id": "9867ead0-0002-4ab9-9692-8beb4ab93409",
   "metadata": {},
   "outputs": [],
   "source": [
    "from lets_plot import *\n",
    "\n",
    "LetsPlot.setup_html()"
   ]
  },
  {
   "cell_type": "code",
   "execution_count": null,
   "id": "afb301a2-58cf-4daa-93d8-ce47ce293ab0",
   "metadata": {},
   "outputs": [],
   "source": [
    "data = {\n",
    "    'x': [0, 1, 2],\n",
    "    'y': [0, 1, 2]\n",
    "}\n",
    "\n",
    "ggplot(data) + \\\n",
    "    geom_point(aes(x='x', y='y'), size=15) + \\\n",
    "    scale_x_continuous(expand=[0, 0]) + scale_y_continuous(expand=[0, 0])"
   ]
  },
  {
   "cell_type": "code",
   "execution_count": null,
   "id": "1ebb2577-19d2-40be-80a3-a355feef5509",
   "metadata": {},
   "outputs": [],
   "source": [
    "\n",
    "ggplot(data) + \\\n",
    "    geom_point(aes(x='x', y='y'), size=15) + \\\n",
    "    scale_continuous(['x','y'], expand=[0, 0]) #  no expansion - points right on the edges"
   ]
  }
 ],
 "metadata": {
  "kernelspec": {
   "display_name": "Python [conda env:master]",
   "language": "python",
   "name": "conda-env-master-py"
  },
  "language_info": {
   "codemirror_mode": {
    "name": "ipython",
    "version": 3
   },
   "file_extension": ".py",
   "mimetype": "text/x-python",
   "name": "python",
   "nbconvert_exporter": "python",
   "pygments_lexer": "ipython3",
   "version": "3.11.11"
  }
 },
 "nbformat": 4,
 "nbformat_minor": 5
}
