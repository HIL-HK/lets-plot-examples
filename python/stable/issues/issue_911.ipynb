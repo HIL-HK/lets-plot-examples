{
 "cells": [
  {
   "cell_type": "code",
   "execution_count": 1,
   "id": "bfacf6ae-b2f1-4b05-a03c-1fc3f60f44f5",
   "metadata": {
    "tags": []
   },
   "outputs": [
    {
     "data": {
      "text/html": [
       "\n",
       "            <div id=\"aX7GRy\"></div>\n",
       "            <script type=\"text/javascript\" data-lets-plot-script=\"library\">\n",
       "                if(!window.letsPlotCallQueue) {\n",
       "                    window.letsPlotCallQueue = [];\n",
       "                }; \n",
       "                window.letsPlotCall = function(f) {\n",
       "                    window.letsPlotCallQueue.push(f);\n",
       "                };\n",
       "                (function() {\n",
       "                    var script = document.createElement(\"script\");\n",
       "                    script.type = \"text/javascript\";\n",
       "                    script.src = \"https://cdn.jsdelivr.net/gh/JetBrains/lets-plot@v4.6.2/js-package/distr/lets-plot.min.js\";\n",
       "                    script.onload = function() {\n",
       "                        window.letsPlotCall = function(f) {f();};\n",
       "                        window.letsPlotCallQueue.forEach(function(f) {f();});\n",
       "                        window.letsPlotCallQueue = [];\n",
       "                        \n",
       "                    };\n",
       "                    script.onerror = function(event) {\n",
       "                        window.letsPlotCall = function(f) {};    // noop\n",
       "                        window.letsPlotCallQueue = [];\n",
       "                        var div = document.createElement(\"div\");\n",
       "                        div.style.color = 'darkred';\n",
       "                        div.textContent = 'Error loading Lets-Plot JS';\n",
       "                        document.getElementById(\"aX7GRy\").appendChild(div);\n",
       "                    };\n",
       "                    var e = document.getElementById(\"aX7GRy\");\n",
       "                    e.appendChild(script);\n",
       "                })()\n",
       "            </script>\n",
       "            "
      ]
     },
     "metadata": {},
     "output_type": "display_data"
    }
   ],
   "source": [
    "import numpy as np\n",
    "\n",
    "from lets_plot import *\n",
    "LetsPlot.setup_html()"
   ]
  },
  {
   "cell_type": "markdown",
   "id": "8ec57dd6-9dae-48bf-b0f4-284ecccea1f3",
   "metadata": {},
   "source": [
    "Make the jitter in geom_jitter reproducible [CLOSED]\n",
    "\n",
    "https://github.com/JetBrains/lets-plot/issues/911"
   ]
  },
  {
   "cell_type": "code",
   "execution_count": 2,
   "id": "d6c2a359",
   "metadata": {},
   "outputs": [],
   "source": [
    "n = 100\n",
    "np.random.seed(42)\n",
    "\n",
    "x = np.random.randint(4, size=n)\n",
    "y = np.random.randint(3, size=n)\n",
    "c = np.char.add(x.astype(str), y.astype(str))"
   ]
  },
  {
   "cell_type": "code",
   "execution_count": 3,
   "id": "957e40e4-a2a5-4d89-a6fd-989a7725e891",
   "metadata": {
    "tags": []
   },
   "outputs": [
    {
     "data": {
      "text/html": [
       "   <div id=\"2qi6Fq\"></div>\n",
       "   <script type=\"text/javascript\" data-lets-plot-script=\"plot\">\n",
       "   \n",
       "   (function() {\n",
       "   // ----------\n",
       "   \n",
       "   const forceImmediateRender = false;\n",
       "   const responsive = false;\n",
       "   \n",
       "   let sizing = {\n",
       "       width_mode: \"MIN\",\n",
       "       height_mode: \"SCALED\",\n",
       "       width: null, \n",
       "       height: null \n",
       "   };\n",
       "   \n",
       "   const preferredWidth = document.body.dataset.letsPlotPreferredWidth;\n",
       "   if (preferredWidth !== undefined) {\n",
       "       sizing = {\n",
       "           width_mode: 'FIXED',\n",
       "           height_mode: 'SCALED',\n",
       "           width: parseFloat(preferredWidth)\n",
       "       };\n",
       "   }\n",
       "   \n",
       "   const containerDiv = document.getElementById(\"2qi6Fq\");\n",
       "   let fig = null;\n",
       "   \n",
       "   function renderPlot() {\n",
       "       if (fig === null) {\n",
       "           const plotSpec = {\n",
       "\"data\":{\n",
       "\"x\":[2.0,3.0,0.0,2.0,2.0,3.0,0.0,0.0,2.0,1.0,2.0,2.0,2.0,2.0,3.0,0.0,3.0,3.0,3.0,2.0,1.0,0.0,1.0,3.0,3.0,1.0,1.0,1.0,3.0,3.0,0.0,0.0,3.0,1.0,1.0,0.0,3.0,0.0,0.0,2.0,2.0,2.0,1.0,3.0,3.0,3.0,3.0,2.0,1.0,1.0,2.0,1.0,2.0,3.0,2.0,3.0,3.0,0.0,2.0,0.0,2.0,2.0,0.0,0.0,2.0,1.0,3.0,0.0,3.0,1.0,1.0,1.0,0.0,1.0,0.0,1.0,3.0,3.0,2.0,3.0,2.0,3.0,0.0,3.0,2.0,2.0,1.0,0.0,3.0,1.0,3.0,3.0,1.0,1.0,1.0,1.0,1.0,3.0,1.0,0.0],\n",
       "\"y\":[2.0,1.0,1.0,1.0,1.0,1.0,1.0,2.0,2.0,1.0,2.0,0.0,1.0,0.0,0.0,1.0,2.0,0.0,1.0,0.0,0.0,0.0,0.0,2.0,0.0,0.0,0.0,2.0,0.0,0.0,2.0,2.0,2.0,0.0,2.0,2.0,0.0,2.0,0.0,1.0,2.0,1.0,0.0,2.0,0.0,1.0,0.0,2.0,2.0,1.0,0.0,2.0,1.0,2.0,2.0,0.0,2.0,0.0,2.0,1.0,2.0,0.0,0.0,1.0,2.0,2.0,1.0,2.0,2.0,0.0,2.0,2.0,1.0,1.0,0.0,2.0,2.0,2.0,0.0,0.0,1.0,0.0,2.0,2.0,0.0,2.0,2.0,0.0,0.0,2.0,2.0,2.0,1.0,1.0,1.0,0.0,1.0,0.0,0.0,1.0],\n",
       "\"c\":[\"22\",\"31\",\"01\",\"21\",\"21\",\"31\",\"01\",\"02\",\"22\",\"11\",\"22\",\"20\",\"21\",\"20\",\"30\",\"01\",\"32\",\"30\",\"31\",\"20\",\"10\",\"00\",\"10\",\"32\",\"30\",\"10\",\"10\",\"12\",\"30\",\"30\",\"02\",\"02\",\"32\",\"10\",\"12\",\"02\",\"30\",\"02\",\"00\",\"21\",\"22\",\"21\",\"10\",\"32\",\"30\",\"31\",\"30\",\"22\",\"12\",\"11\",\"20\",\"12\",\"21\",\"32\",\"22\",\"30\",\"32\",\"00\",\"22\",\"01\",\"22\",\"20\",\"00\",\"01\",\"22\",\"12\",\"31\",\"02\",\"32\",\"10\",\"12\",\"12\",\"01\",\"11\",\"00\",\"12\",\"32\",\"32\",\"20\",\"30\",\"21\",\"30\",\"02\",\"32\",\"20\",\"22\",\"12\",\"00\",\"30\",\"12\",\"32\",\"32\",\"11\",\"11\",\"11\",\"10\",\"11\",\"30\",\"10\",\"01\"]\n",
       "},\n",
       "\"mapping\":{\n",
       "\"x\":\"x\",\n",
       "\"y\":\"y\"\n",
       "},\n",
       "\"data_meta\":{\n",
       "\"series_annotations\":[{\n",
       "\"type\":\"int\",\n",
       "\"column\":\"x\"\n",
       "},{\n",
       "\"type\":\"int\",\n",
       "\"column\":\"y\"\n",
       "},{\n",
       "\"type\":\"str\",\n",
       "\"column\":\"c\"\n",
       "}]\n",
       "},\n",
       "\"kind\":\"plot\",\n",
       "\"scales\":[],\n",
       "\"layers\":[{\n",
       "\"geom\":\"point\",\n",
       "\"mapping\":{\n",
       "\"fill\":\"c\"\n",
       "},\n",
       "\"position\":{\n",
       "\"name\":\"jitter\",\n",
       "\"width\":0.0,\n",
       "\"height\":0.5,\n",
       "\"seed\":42.0\n",
       "},\n",
       "\"data_meta\":{\n",
       "},\n",
       "\"size\":8.0,\n",
       "\"alpha\":0.5,\n",
       "\"shape\":21.0,\n",
       "\"color\":\"black\",\n",
       "\"data\":{\n",
       "}\n",
       "}],\n",
       "\"metainfo_list\":[],\n",
       "\"spec_id\":\"1\"\n",
       "};\n",
       "           window.letsPlotCall(function() { fig = LetsPlot.buildPlotFromProcessedSpecs(plotSpec, containerDiv, sizing); });\n",
       "       } else {\n",
       "           fig.updateView({});\n",
       "       }\n",
       "   }\n",
       "   \n",
       "   const renderImmediately = \n",
       "       forceImmediateRender || (\n",
       "           sizing.width_mode === 'FIXED' && \n",
       "           (sizing.height_mode === 'FIXED' || sizing.height_mode === 'SCALED')\n",
       "       );\n",
       "   \n",
       "   if (renderImmediately) {\n",
       "       renderPlot();\n",
       "   }\n",
       "   \n",
       "   if (!renderImmediately || responsive) {\n",
       "       // Set up observer for initial sizing or continuous monitoring\n",
       "       var observer = new ResizeObserver(function(entries) {\n",
       "           for (let entry of entries) {\n",
       "               if (entry.contentBoxSize && \n",
       "                   entry.contentBoxSize[0].inlineSize > 0) {\n",
       "                   if (!responsive && observer) {\n",
       "                       observer.disconnect();\n",
       "                       observer = null;\n",
       "                   }\n",
       "                   renderPlot();\n",
       "                   if (!responsive) {\n",
       "                       break;\n",
       "                   }\n",
       "               }\n",
       "           }\n",
       "       });\n",
       "       \n",
       "       observer.observe(containerDiv);\n",
       "   }\n",
       "   \n",
       "   // ----------\n",
       "   })();\n",
       "   \n",
       "   </script>"
      ],
      "text/plain": [
       "<lets_plot.plot.core.PlotSpec at 0x14b4ef010>"
      ]
     },
     "execution_count": 3,
     "metadata": {},
     "output_type": "execute_result"
    }
   ],
   "source": [
    "ggplot({'x': x, 'y': y, 'c': c}, aes('x', 'y')) + \\\n",
    "    geom_point(aes(fill='c'), \\\n",
    "               size=8, alpha=.5, shape=21, color='black', \\\n",
    "               position=position_jitter(width=0, height=.5, seed=42))"
   ]
  }
 ],
 "metadata": {
  "kernelspec": {
   "display_name": "Python 3 (ipykernel)",
   "language": "python",
   "name": "python3"
  },
  "language_info": {
   "codemirror_mode": {
    "name": "ipython",
    "version": 3
   },
   "file_extension": ".py",
   "mimetype": "text/x-python",
   "name": "python",
   "nbconvert_exporter": "python",
   "pygments_lexer": "ipython3",
   "version": "3.10.17"
  }
 },
 "nbformat": 4,
 "nbformat_minor": 5
}
