{
 "cells": [
  {
   "cell_type": "markdown",
   "id": "e537499e-f258-4290-8b50-6667434fe731",
   "metadata": {},
   "source": [
    "# Markdown: links open only inside the iframe \n",
    "Closed\n",
    "\n",
    "https://github.com/JetBrains/lets-plot/issues/1397\n",
    "\n",
    "When you click a link, a page is opened inside the iframe and replaces the plot."
   ]
  },
  {
   "cell_type": "code",
   "execution_count": null,
   "id": "9867ead0-0002-4ab9-9692-8beb4ab93409",
   "metadata": {},
   "outputs": [],
   "source": [
    "from IPython.display import HTML\n",
    "from lets_plot import *\n",
    "\n",
    "LetsPlot.setup_html()"
   ]
  },
  {
   "cell_type": "code",
   "execution_count": null,
   "id": "afb301a2-58cf-4daa-93d8-ce47ce293ab0",
   "metadata": {},
   "outputs": [],
   "source": [
    "\n",
    "p = ggplot() + geom_blank() \\\n",
    "    + theme(title=element_markdown()) \\\n",
    "    + labs(title=\"Powered by <a href='https://lets-plot.org'>Lets-Plot</a>.  \\n\"\n",
    "                 \"Visit the <a href='https://github.com/jetbrains/lets-plot/issues'>issue tracker</a> for feedback.\" \n",
    "    )\n",
    "\n",
    "file_path = ggsave(p, \"plot.html\")\n",
    "\n",
    "with open(file_path, 'r', encoding='utf-8') as f:\n",
    "    html_content = f.read()\n",
    "    \n",
    "HTML(f'{html_content}')"
   ]
  }
 ],
 "metadata": {
  "kernelspec": {
   "display_name": "Python [conda env:v4.7.2]",
   "language": "python",
   "name": "conda-env-v4.7.2-py"
  },
  "language_info": {
   "codemirror_mode": {
    "name": "ipython",
    "version": 3
   },
   "file_extension": ".py",
   "mimetype": "text/x-python",
   "name": "python",
   "nbconvert_exporter": "python",
   "pygments_lexer": "ipython3",
   "version": "3.11.13"
  }
 },
 "nbformat": 4,
 "nbformat_minor": 5
}
