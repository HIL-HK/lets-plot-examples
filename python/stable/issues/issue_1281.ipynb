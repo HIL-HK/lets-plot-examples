{
 "cells": [
  {
   "cell_type": "markdown",
   "id": "e537499e-f258-4290-8b50-6667434fe731",
   "metadata": {},
   "source": [
    "Add named transparent color\n",
    "\n",
    "https://github.com/JetBrains/lets-plot/issues/1281 [closed]\n",
    "\n",
    "It would be useful to have a named color which is transparent. Currently using rgba(0, 0, 0, 0) but this is quite cumbersome.\n",
    "Now you can use any of the three variants for a fully transparent color:\n",
    "\n",
    "- 'transparent' which is standard for SVG;\n",
    "- 'blank' as you proposed;\n",
    "- '', just an empty string for brevity, for example geom_line(color='')."
   ]
  },
  {
   "cell_type": "code",
   "execution_count": null,
   "id": "9867ead0-0002-4ab9-9692-8beb4ab93409",
   "metadata": {},
   "outputs": [],
   "source": [
    "from lets_plot import *\n",
    "\n",
    "LetsPlot.setup_html()"
   ]
  },
  {
   "cell_type": "code",
   "execution_count": null,
   "id": "afb301a2-58cf-4daa-93d8-ce47ce293ab0",
   "metadata": {},
   "outputs": [],
   "source": [
    "ggplot({\"a\": [1,2]}, aes(\"a\",\"a\")) + geom_line()"
   ]
  },
  {
   "cell_type": "code",
   "execution_count": null,
   "id": "f8c6bb36-2a84-4ddc-996f-1b03c4ee469d",
   "metadata": {},
   "outputs": [],
   "source": [
    "ggplot({\"a\": [1,2]}, aes(\"a\",\"a\")) + geom_line(color='')"
   ]
  },
  {
   "cell_type": "code",
   "execution_count": null,
   "id": "ecbe80b7-23ce-49ab-9319-17c1ee28eeb1",
   "metadata": {},
   "outputs": [],
   "source": [
    "ggplot({\"a\": [1,2]}, aes(\"a\",\"a\")) + geom_line(color='blank')"
   ]
  },
  {
   "cell_type": "code",
   "execution_count": null,
   "id": "18fcce14-45c1-4621-b2e4-5ef87de29ae9",
   "metadata": {},
   "outputs": [],
   "source": [
    "ggplot({\"a\": [1,2]}, aes(\"a\",\"a\")) + geom_line(color='transparent')"
   ]
  }
 ],
 "metadata": {
  "kernelspec": {
   "display_name": "Python [conda env:v4.6.0]",
   "language": "python",
   "name": "conda-env-v4.6.0-py"
  },
  "language_info": {
   "codemirror_mode": {
    "name": "ipython",
    "version": 3
   },
   "file_extension": ".py",
   "mimetype": "text/x-python",
   "name": "python",
   "nbconvert_exporter": "python",
   "pygments_lexer": "ipython3",
   "version": "3.11.11"
  }
 },
 "nbformat": 4,
 "nbformat_minor": 5
}
