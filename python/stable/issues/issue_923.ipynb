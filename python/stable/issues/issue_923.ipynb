{
 "cells": [
  {
   "cell_type": "code",
   "execution_count": 1,
   "id": "bfacf6ae-b2f1-4b05-a03c-1fc3f60f44f5",
   "metadata": {
    "tags": []
   },
   "outputs": [
    {
     "data": {
      "text/html": [
       "\n",
       "            <div id=\"0pOsvB\"></div>\n",
       "            <script type=\"text/javascript\" data-lets-plot-script=\"library\">\n",
       "                if(!window.letsPlotCallQueue) {\n",
       "                    window.letsPlotCallQueue = [];\n",
       "                }; \n",
       "                window.letsPlotCall = function(f) {\n",
       "                    window.letsPlotCallQueue.push(f);\n",
       "                };\n",
       "                (function() {\n",
       "                    var script = document.createElement(\"script\");\n",
       "                    script.type = \"text/javascript\";\n",
       "                    script.src = \"https://files.lp.hil-hk.com/artifacts/js/c0d2015a24882243305c16f3b08bd34fd07b2387/lets-plot.min.js\";\n",
       "                    script.onload = function() {\n",
       "                        window.letsPlotCall = function(f) {f();};\n",
       "                        window.letsPlotCallQueue.forEach(function(f) {f();});\n",
       "                        window.letsPlotCallQueue = [];\n",
       "                        \n",
       "                    };\n",
       "                    script.onerror = function(event) {\n",
       "                        window.letsPlotCall = function(f) {};    // noop\n",
       "                        window.letsPlotCallQueue = [];\n",
       "                        var div = document.createElement(\"div\");\n",
       "                        div.style.color = 'darkred';\n",
       "                        div.textContent = 'Error loading Lets-Plot JS';\n",
       "                        document.getElementById(\"0pOsvB\").appendChild(div);\n",
       "                    };\n",
       "                    var e = document.getElementById(\"0pOsvB\");\n",
       "                    e.appendChild(script);\n",
       "                })()\n",
       "            </script>\n",
       "            "
      ]
     },
     "metadata": {},
     "output_type": "display_data"
    }
   ],
   "source": [
    "from lets_plot import *\n",
    "LetsPlot.setup_html()\n"
   ]
  },
  {
   "cell_type": "markdown",
   "id": "8ec57dd6-9dae-48bf-b0f4-284ecccea1f3",
   "metadata": {},
   "source": [
    "Facets: `order = 0` doesn't work as expected\n",
    "\n",
    "https://github.com/JetBrains/lets-plot/issues/923"
   ]
  },
  {
   "cell_type": "code",
   "execution_count": 2,
   "id": "dd1cd084-ca33-4887-a652-4977f277a4f2",
   "metadata": {},
   "outputs": [
    {
     "data": {
      "text/html": [
       "   <div id=\"2wT7FZ\"></div>\n",
       "   <script type=\"text/javascript\" data-lets-plot-script=\"plot\">\n",
       "   \n",
       "   (function() {\n",
       "   // ----------\n",
       "   \n",
       "   var containerDiv = document.getElementById(\"2wT7FZ\");\n",
       "   var observer = new ResizeObserver(function(entries) {\n",
       "       for (let entry of entries) {\n",
       "           var width = containerDiv.clientWidth\n",
       "           if (entry.contentBoxSize && width > 0) {\n",
       "           \n",
       "               // Render plot\n",
       "               if (observer) {\n",
       "                   observer.disconnect();\n",
       "                   observer = null;\n",
       "               }\n",
       "\n",
       "               var plotSpec={\n",
       "\"data\":{\n",
       "\"cat\":[\"B\",\"C\",\"A\"],\n",
       "\"c\":[\"blue\",\"cyan\",\"gray\"]\n",
       "},\n",
       "\"mapping\":{\n",
       "},\n",
       "\"data_meta\":{\n",
       "\"series_annotations\":[{\n",
       "\"type\":\"str\",\n",
       "\"column\":\"cat\"\n",
       "},{\n",
       "\"type\":\"str\",\n",
       "\"column\":\"c\"\n",
       "}]\n",
       "},\n",
       "\"theme\":{\n",
       "\"name\":\"classic\",\n",
       "\"line\":\"blank\",\n",
       "\"axis\":\"blank\"\n",
       "},\n",
       "\"ggsize\":{\n",
       "\"width\":400.0,\n",
       "\"height\":200.0\n",
       "},\n",
       "\"facet\":{\n",
       "\"name\":\"wrap\",\n",
       "\"facets\":\"cat\",\n",
       "\"ncol\":3.0,\n",
       "\"order\":0.0,\n",
       "\"dir\":\"h\"\n",
       "},\n",
       "\"kind\":\"plot\",\n",
       "\"scales\":[{\n",
       "\"aesthetic\":\"color\",\n",
       "\"guide\":\"none\",\n",
       "\"scale_mapper_kind\":\"identity\"\n",
       "}],\n",
       "\"layers\":[{\n",
       "\"geom\":\"point\",\n",
       "\"mapping\":{\n",
       "\"color\":\"c\"\n",
       "},\n",
       "\"data_meta\":{\n",
       "},\n",
       "\"size\":15.0,\n",
       "\"data\":{\n",
       "}\n",
       "}],\n",
       "\"metainfo_list\":[],\n",
       "\"spec_id\":\"1\"\n",
       "};\n",
       "               window.letsPlotCall(function() {\n",
       "       \n",
       "               var toolbar = null;\n",
       "               var plotContainer = containerDiv;               \n",
       "               \n",
       "                   var options = {\n",
       "                       sizing: {\n",
       "                           width_mode: \"min\",\n",
       "                           height_mode: \"scaled\",\n",
       "                           width: width\n",
       "                       }\n",
       "                   };\n",
       "                   var fig = LetsPlot.buildPlotFromProcessedSpecs(plotSpec, -1, -1, plotContainer, options);\n",
       "                   if (toolbar) {\n",
       "                     toolbar.bind(fig);\n",
       "                   }\n",
       "               });\n",
       "               \n",
       "               break;\n",
       "           }\n",
       "       }\n",
       "   });\n",
       "   \n",
       "   observer.observe(containerDiv);\n",
       "   \n",
       "   // ----------\n",
       "   })();\n",
       "   \n",
       "   </script>"
      ],
      "text/plain": [
       "<lets_plot.plot.core.PlotSpec at 0x7ff5d8a2ca50>"
      ]
     },
     "execution_count": 2,
     "metadata": {},
     "output_type": "execute_result"
    }
   ],
   "source": [
    "# expected to preserve the B,C,A order of original sequence \n",
    "# but in reality produces A,B,C sequence of facets\n",
    "\n",
    "data = dict(\n",
    "    cat = [\"B\", \"C\", \"A\"],\n",
    "    c = [\"blue\", \"cyan\", \"gray\"]\n",
    ")\n",
    "\n",
    "p = (ggplot(data) \n",
    "     + geom_point(aes(color=\"c\"), size=15) \n",
    "     + scale_color_identity() \n",
    "     + theme_void() + ggsize(400, 200)\n",
    "     + facet_wrap(\"cat\", ncol=3, order=0)\n",
    "    )\n",
    "\n",
    "p"
   ]
  },
  {
   "cell_type": "code",
   "execution_count": 3,
   "id": "8f9221c1",
   "metadata": {},
   "outputs": [],
   "source": [
    "path_png = ggsave(p, \"facet_ordering_issue.png\")"
   ]
  },
  {
   "cell_type": "code",
   "execution_count": 4,
   "id": "d13a5736",
   "metadata": {},
   "outputs": [
    {
     "data": {
      "image/png": "[encoded data removed]",
      "text/plain": [
       "<IPython.core.display.Image object>"
      ]
     },
     "metadata": {
      "image/png": {
       "height": 300,
       "width": 400
      }
     },
     "output_type": "display_data"
    }
   ],
   "source": [
    "# When saving this plot to PNG, the picture is correct\n",
    "\n",
    "from IPython.display import Image\n",
    "\n",
    "display(Image(filename=path_png, width=400, height=300))"
   ]
  },
  {
   "cell_type": "code",
   "execution_count": 5,
   "id": "0ed57e1f",
   "metadata": {},
   "outputs": [],
   "source": [
    "# Saving plot to svg or pdf also produces picture with correct B,C,A order of facets.\n",
    "#\n",
    "# However, saving plot to html produces unexpected A,B,C ordering.\n",
    "\n",
    "path_html = ggsave(p, \"plot.html\")"
   ]
  },
  {
   "cell_type": "code",
   "execution_count": 6,
   "id": "f02ef29d",
   "metadata": {
    "tags": []
   },
   "outputs": [
    {
     "data": {
      "text/html": [
       "            <iframe src='about:blank' style='border:none !important;' width='400' height='200' srcdoc=\"&lt;html lang=&quot;en&quot;>\n",
       "   &lt;head>\n",
       "       &lt;meta charset=&quot;UTF-8&quot;>\n",
       "       &lt;style> html, body { margin: 0; overflow: hidden; } &lt;/style>\n",
       "       &lt;script type=&quot;text/javascript&quot; data-lets-plot-script=&quot;library&quot; src=&quot;https://files.lp.hil-hk.com/artifacts/js/c0d2015a24882243305c16f3b08bd34fd07b2387/lets-plot.min.js&quot;>&lt;/script>\n",
       "   &lt;/head>\n",
       "   &lt;body>\n",
       "          &lt;div id=&quot;3Tkuwn&quot;>&lt;/div>\n",
       "   &lt;script type=&quot;text/javascript&quot; data-lets-plot-script=&quot;plot&quot;>\n",
       "   \n",
       "   (function() {\n",
       "   // ----------\n",
       "   \n",
       "       var plotSpec={\n",
       "&quot;data&quot;:{\n",
       "&quot;cat&quot;:[&quot;B&quot;,&quot;C&quot;,&quot;A&quot;],\n",
       "&quot;c&quot;:[&quot;blue&quot;,&quot;cyan&quot;,&quot;gray&quot;]\n",
       "},\n",
       "&quot;mapping&quot;:{\n",
       "},\n",
       "&quot;data_meta&quot;:{\n",
       "&quot;series_annotations&quot;:[{\n",
       "&quot;type&quot;:&quot;str&quot;,\n",
       "&quot;column&quot;:&quot;cat&quot;\n",
       "},{\n",
       "&quot;type&quot;:&quot;str&quot;,\n",
       "&quot;column&quot;:&quot;c&quot;\n",
       "}]\n",
       "},\n",
       "&quot;theme&quot;:{\n",
       "&quot;name&quot;:&quot;classic&quot;,\n",
       "&quot;line&quot;:&quot;blank&quot;,\n",
       "&quot;axis&quot;:&quot;blank&quot;\n",
       "},\n",
       "&quot;ggsize&quot;:{\n",
       "&quot;width&quot;:400.0,\n",
       "&quot;height&quot;:200.0\n",
       "},\n",
       "&quot;facet&quot;:{\n",
       "&quot;name&quot;:&quot;wrap&quot;,\n",
       "&quot;facets&quot;:&quot;cat&quot;,\n",
       "&quot;ncol&quot;:3.0,\n",
       "&quot;order&quot;:0.0,\n",
       "&quot;dir&quot;:&quot;h&quot;\n",
       "},\n",
       "&quot;kind&quot;:&quot;plot&quot;,\n",
       "&quot;scales&quot;:[{\n",
       "&quot;aesthetic&quot;:&quot;color&quot;,\n",
       "&quot;guide&quot;:&quot;none&quot;,\n",
       "&quot;scale_mapper_kind&quot;:&quot;identity&quot;\n",
       "}],\n",
       "&quot;layers&quot;:[{\n",
       "&quot;geom&quot;:&quot;point&quot;,\n",
       "&quot;mapping&quot;:{\n",
       "&quot;color&quot;:&quot;c&quot;\n",
       "},\n",
       "&quot;data_meta&quot;:{\n",
       "},\n",
       "&quot;size&quot;:15.0,\n",
       "&quot;data&quot;:{\n",
       "}\n",
       "}],\n",
       "&quot;metainfo_list&quot;:[],\n",
       "&quot;spec_id&quot;:&quot;4&quot;\n",
       "};\n",
       "       var containerDiv = document.getElementById(&quot;3Tkuwn&quot;);\n",
       "       \n",
       "               var toolbar = null;\n",
       "               var plotContainer = containerDiv;               \n",
       "               \n",
       "       var options = {\n",
       "           sizing: {\n",
       "               width_mode: &quot;fixed&quot;,\n",
       "               height_mode: &quot;fixed&quot;,\n",
       "               width: 400.0,\n",
       "               height: 200.0\n",
       "           }\n",
       "       };\n",
       "       var fig = LetsPlot.buildPlotFromProcessedSpecs(plotSpec, -1, -1, plotContainer, options);\n",
       "       if (toolbar) {\n",
       "         toolbar.bind(fig);\n",
       "       }\n",
       "       \n",
       "   // ----------\n",
       "   })();\n",
       "   \n",
       "   &lt;/script>\n",
       "   &lt;/body>\n",
       "&lt;/html>\"></iframe>    "
      ],
      "text/plain": [
       "<IPython.core.display.HTML object>"
      ]
     },
     "metadata": {},
     "output_type": "display_data"
    }
   ],
   "source": [
    "from IPython.display import HTML\n",
    "\n",
    "display(HTML(filename=path_html))"
   ]
  }
 ],
 "metadata": {
  "kernelspec": {
   "display_name": "Python [conda env:master]",
   "language": "python",
   "name": "conda-env-master-py"
  },
  "language_info": {
   "codemirror_mode": {
    "name": "ipython",
    "version": 3
   },
   "file_extension": ".py",
   "mimetype": "text/x-python",
   "name": "python",
   "nbconvert_exporter": "python",
   "pygments_lexer": "ipython3",
   "version": "3.11.10"
  }
 },
 "nbformat": 4,
 "nbformat_minor": 5
}
