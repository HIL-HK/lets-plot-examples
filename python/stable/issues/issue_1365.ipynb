{
 "cells": [
  {
   "cell_type": "code",
   "execution_count": null,
   "id": "9bff77a8-8890-4238-a706-40df8518d94b",
   "metadata": {},
   "outputs": [],
   "source": [
    "from lets_plot import *"
   ]
  },
  {
   "cell_type": "code",
   "execution_count": null,
   "id": "e5f101f7-5a62-44c4-bbff-c161acb07742",
   "metadata": {},
   "outputs": [],
   "source": [
    "LetsPlot.setup_html()"
   ]
  },
  {
   "cell_type": "code",
   "execution_count": null,
   "id": "4ff3c021-090b-4f84-ab03-0b6521867ffb",
   "metadata": {},
   "outputs": [],
   "source": [
    "data = {\n",
    "    'x': [0, 4, 4, 5],\n",
    "    'y': [0, 0, 1, 3],\n",
    "    'c': ['a', 'b', 'c', 'd']\n",
    "}"
   ]
  },
  {
   "cell_type": "code",
   "execution_count": null,
   "id": "3e6701da-76a1-4d70-af26-dbc9bb089eb2",
   "metadata": {},
   "outputs": [],
   "source": [
    "p = (\n",
    "    ggplot(data, aes(x=\"x\", y=\"y\"))\n",
    "    + geom_point(aes(color='c'), size=5, show_legend=False)\n",
    "    + scale_y_continuous(expand=[0, 0])\n",
    "\n",
    ") + ggsize(600, 200)\n",
    "p_x_rev = p + scale_x_continuous(expand=[0, 0], trans=\"reverse\")\n",
    "p_x_norm = p + scale_x_continuous(expand=[0, 0])\n",
    "p_y_rev = p + scale_y_continuous(expand=[0, 0], trans=\"reverse\")"
   ]
  },
  {
   "cell_type": "code",
   "execution_count": null,
   "id": "c6b78355-c7a9-47cb-a05b-4fba9895db16",
   "metadata": {},
   "outputs": [],
   "source": [
    "gggrid([\n",
    "    p_x_norm + coord_polar(theta='y'), \n",
    "    p_x_rev + coord_polar(theta='y'),\n",
    "    p_y_rev + coord_polar(theta='y'),\n",
    "], ncol=2) + ggsize(1000, 600)"
   ]
  },
  {
   "cell_type": "code",
   "execution_count": null,
   "id": "f8ddd02e-ac7b-47f5-8423-766da9551f29",
   "metadata": {},
   "outputs": [],
   "source": [
    "gggrid([\n",
    "    p_x_norm + coord_polar(theta='y', xlim=[None, 6]), \n",
    "    p_x_rev + coord_polar(theta='y', xlim=[None, 6]),\n",
    "    p_x_norm + coord_polar(xlim=[None, 6]), \n",
    "    p_x_rev + coord_polar(xlim=[None, 6]),\n",
    "], ncol=2) + ggsize(1000, 600)"
   ]
  },
  {
   "cell_type": "code",
   "execution_count": null,
   "id": "ef8c03db-6f7d-46cb-afbf-b183334cd883",
   "metadata": {},
   "outputs": [],
   "source": [
    "gggrid([\n",
    "    p_x_norm + coord_polar(theta='y', xlim=[-2, 6]), \n",
    "    p_x_rev + coord_polar(theta='y', xlim=[-2, 6]),\n",
    "    p_x_norm + coord_polar(xlim=[-2, 6]), \n",
    "    p_x_rev + coord_polar(xlim=[-2, 6]),\n",
    "], ncol=2) + ggsize(1000, 600)"
   ]
  },
  {
   "cell_type": "code",
   "execution_count": null,
   "id": "2565eeb3-6572-48e0-ab28-b54275da0d20",
   "metadata": {},
   "outputs": [],
   "source": [
    "gggrid([\n",
    "    p_x_norm + coord_polar(theta='y', xlim=[3, None]), \n",
    "    p_x_rev + coord_polar(theta='y', xlim=[3, None]),\n",
    "    p_x_norm + coord_polar(xlim=[3, None]), \n",
    "    p_x_rev + coord_polar(xlim=[3, None]),\n",
    "], ncol=2) + ggsize(1000, 600)"
   ]
  },
  {
   "cell_type": "code",
   "execution_count": null,
   "id": "134f04b3-d215-4789-9396-d6416b9dff91",
   "metadata": {},
   "outputs": [],
   "source": []
  }
 ],
 "metadata": {
  "kernelspec": {
   "display_name": "Python 3 (ipykernel)",
   "language": "python",
   "name": "python3"
  },
  "language_info": {
   "codemirror_mode": {
    "name": "ipython",
    "version": 3
   },
   "file_extension": ".py",
   "mimetype": "text/x-python",
   "name": "python",
   "nbconvert_exporter": "python",
   "pygments_lexer": "ipython3",
   "version": "3.10.13"
  }
 },
 "nbformat": 4,
 "nbformat_minor": 5
}
