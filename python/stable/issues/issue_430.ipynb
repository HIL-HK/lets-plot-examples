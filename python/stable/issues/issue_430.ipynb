{
 "cells": [
  {
   "cell_type": "code",
   "execution_count": 1,
   "metadata": {},
   "outputs": [
    {
     "data": {
      "text/html": [
       "\n",
       "            <div id=\"Nflul3\"></div>\n",
       "            <script type=\"text/javascript\" data-lets-plot-script=\"library\">\n",
       "                if(!window.letsPlotCallQueue) {\n",
       "                    window.letsPlotCallQueue = [];\n",
       "                }; \n",
       "                window.letsPlotCall = function(f) {\n",
       "                    window.letsPlotCallQueue.push(f);\n",
       "                };\n",
       "                (function() {\n",
       "                    var script = document.createElement(\"script\");\n",
       "                    script.type = \"text/javascript\";\n",
       "                    script.src = \"https://cdn.jsdelivr.net/gh/JetBrains/lets-plot@v4.6.2/js-package/distr/lets-plot.min.js\";\n",
       "                    script.onload = function() {\n",
       "                        window.letsPlotCall = function(f) {f();};\n",
       "                        window.letsPlotCallQueue.forEach(function(f) {f();});\n",
       "                        window.letsPlotCallQueue = [];\n",
       "                        \n",
       "                    };\n",
       "                    script.onerror = function(event) {\n",
       "                        window.letsPlotCall = function(f) {};    // noop\n",
       "                        window.letsPlotCallQueue = [];\n",
       "                        var div = document.createElement(\"div\");\n",
       "                        div.style.color = 'darkred';\n",
       "                        div.textContent = 'Error loading Lets-Plot JS';\n",
       "                        document.getElementById(\"Nflul3\").appendChild(div);\n",
       "                    };\n",
       "                    var e = document.getElementById(\"Nflul3\");\n",
       "                    e.appendChild(script);\n",
       "                })()\n",
       "            </script>\n",
       "            "
      ]
     },
     "metadata": {},
     "output_type": "display_data"
    }
   ],
   "source": [
    "from lets_plot import *\n",
    "LetsPlot.setup_html()"
   ]
  },
  {
   "cell_type": "markdown",
   "metadata": {},
   "source": [
    "https://github.com/JetBrains/lets-plot/issues/430 [CLOSED]\n",
    "\n",
    "Unreadable breaks on axis"
   ]
  },
  {
   "cell_type": "code",
   "execution_count": 2,
   "metadata": {},
   "outputs": [],
   "source": [
    "count = 240\n",
    "long_names = {\n",
    "    'date': ['row_number_' + str(i) for i in range(count)],\n",
    "    'value': [123 for i in range(count)]\n",
    "}"
   ]
  },
  {
   "cell_type": "code",
   "execution_count": 3,
   "metadata": {
    "tags": []
   },
   "outputs": [
    {
     "data": {
      "text/html": [
       "   <div id=\"ayGdmy\"></div>\n",
       "   <script type=\"text/javascript\" data-lets-plot-script=\"plot\">\n",
       "   \n",
       "   (function() {\n",
       "   // ----------\n",
       "   \n",
       "   const forceImmediateRender = false;\n",
       "   const responsive = false;\n",
       "   \n",
       "   let sizing = {\n",
       "       width_mode: \"MIN\",\n",
       "       height_mode: \"SCALED\",\n",
       "       width: null, \n",
       "       height: null \n",
       "   };\n",
       "   \n",
       "   const preferredWidth = document.body.dataset.letsPlotPreferredWidth;\n",
       "   if (preferredWidth !== undefined) {\n",
       "       sizing = {\n",
       "           width_mode: 'FIXED',\n",
       "           height_mode: 'SCALED',\n",
       "           width: parseFloat(preferredWidth)\n",
       "       };\n",
       "   }\n",
       "   \n",
       "   const containerDiv = document.getElementById(\"ayGdmy\");\n",
       "   let fig = null;\n",
       "   \n",
       "   function renderPlot() {\n",
       "       if (fig === null) {\n",
       "           const plotSpec = {\n",
       "\"data\":{\n",
       "\"date\":[\"row_number_0\",\"row_number_1\",\"row_number_2\",\"row_number_3\",\"row_number_4\",\"row_number_5\",\"row_number_6\",\"row_number_7\",\"row_number_8\",\"row_number_9\",\"row_number_10\",\"row_number_11\",\"row_number_12\",\"row_number_13\",\"row_number_14\",\"row_number_15\",\"row_number_16\",\"row_number_17\",\"row_number_18\",\"row_number_19\",\"row_number_20\",\"row_number_21\",\"row_number_22\",\"row_number_23\",\"row_number_24\",\"row_number_25\",\"row_number_26\",\"row_number_27\",\"row_number_28\",\"row_number_29\",\"row_number_30\",\"row_number_31\",\"row_number_32\",\"row_number_33\",\"row_number_34\",\"row_number_35\",\"row_number_36\",\"row_number_37\",\"row_number_38\",\"row_number_39\",\"row_number_40\",\"row_number_41\",\"row_number_42\",\"row_number_43\",\"row_number_44\",\"row_number_45\",\"row_number_46\",\"row_number_47\",\"row_number_48\",\"row_number_49\",\"row_number_50\",\"row_number_51\",\"row_number_52\",\"row_number_53\",\"row_number_54\",\"row_number_55\",\"row_number_56\",\"row_number_57\",\"row_number_58\",\"row_number_59\",\"row_number_60\",\"row_number_61\",\"row_number_62\",\"row_number_63\",\"row_number_64\",\"row_number_65\",\"row_number_66\",\"row_number_67\",\"row_number_68\",\"row_number_69\",\"row_number_70\",\"row_number_71\",\"row_number_72\",\"row_number_73\",\"row_number_74\",\"row_number_75\",\"row_number_76\",\"row_number_77\",\"row_number_78\",\"row_number_79\",\"row_number_80\",\"row_number_81\",\"row_number_82\",\"row_number_83\",\"row_number_84\",\"row_number_85\",\"row_number_86\",\"row_number_87\",\"row_number_88\",\"row_number_89\",\"row_number_90\",\"row_number_91\",\"row_number_92\",\"row_number_93\",\"row_number_94\",\"row_number_95\",\"row_number_96\",\"row_number_97\",\"row_number_98\",\"row_number_99\",\"row_number_100\",\"row_number_101\",\"row_number_102\",\"row_number_103\",\"row_number_104\",\"row_number_105\",\"row_number_106\",\"row_number_107\",\"row_number_108\",\"row_number_109\",\"row_number_110\",\"row_number_111\",\"row_number_112\",\"row_number_113\",\"row_number_114\",\"row_number_115\",\"row_number_116\",\"row_number_117\",\"row_number_118\",\"row_number_119\",\"row_number_120\",\"row_number_121\",\"row_number_122\",\"row_number_123\",\"row_number_124\",\"row_number_125\",\"row_number_126\",\"row_number_127\",\"row_number_128\",\"row_number_129\",\"row_number_130\",\"row_number_131\",\"row_number_132\",\"row_number_133\",\"row_number_134\",\"row_number_135\",\"row_number_136\",\"row_number_137\",\"row_number_138\",\"row_number_139\",\"row_number_140\",\"row_number_141\",\"row_number_142\",\"row_number_143\",\"row_number_144\",\"row_number_145\",\"row_number_146\",\"row_number_147\",\"row_number_148\",\"row_number_149\",\"row_number_150\",\"row_number_151\",\"row_number_152\",\"row_number_153\",\"row_number_154\",\"row_number_155\",\"row_number_156\",\"row_number_157\",\"row_number_158\",\"row_number_159\",\"row_number_160\",\"row_number_161\",\"row_number_162\",\"row_number_163\",\"row_number_164\",\"row_number_165\",\"row_number_166\",\"row_number_167\",\"row_number_168\",\"row_number_169\",\"row_number_170\",\"row_number_171\",\"row_number_172\",\"row_number_173\",\"row_number_174\",\"row_number_175\",\"row_number_176\",\"row_number_177\",\"row_number_178\",\"row_number_179\",\"row_number_180\",\"row_number_181\",\"row_number_182\",\"row_number_183\",\"row_number_184\",\"row_number_185\",\"row_number_186\",\"row_number_187\",\"row_number_188\",\"row_number_189\",\"row_number_190\",\"row_number_191\",\"row_number_192\",\"row_number_193\",\"row_number_194\",\"row_number_195\",\"row_number_196\",\"row_number_197\",\"row_number_198\",\"row_number_199\",\"row_number_200\",\"row_number_201\",\"row_number_202\",\"row_number_203\",\"row_number_204\",\"row_number_205\",\"row_number_206\",\"row_number_207\",\"row_number_208\",\"row_number_209\",\"row_number_210\",\"row_number_211\",\"row_number_212\",\"row_number_213\",\"row_number_214\",\"row_number_215\",\"row_number_216\",\"row_number_217\",\"row_number_218\",\"row_number_219\",\"row_number_220\",\"row_number_221\",\"row_number_222\",\"row_number_223\",\"row_number_224\",\"row_number_225\",\"row_number_226\",\"row_number_227\",\"row_number_228\",\"row_number_229\",\"row_number_230\",\"row_number_231\",\"row_number_232\",\"row_number_233\",\"row_number_234\",\"row_number_235\",\"row_number_236\",\"row_number_237\",\"row_number_238\",\"row_number_239\"],\n",
       "\"value\":[123.0,123.0,123.0,123.0,123.0,123.0,123.0,123.0,123.0,123.0,123.0,123.0,123.0,123.0,123.0,123.0,123.0,123.0,123.0,123.0,123.0,123.0,123.0,123.0,123.0,123.0,123.0,123.0,123.0,123.0,123.0,123.0,123.0,123.0,123.0,123.0,123.0,123.0,123.0,123.0,123.0,123.0,123.0,123.0,123.0,123.0,123.0,123.0,123.0,123.0,123.0,123.0,123.0,123.0,123.0,123.0,123.0,123.0,123.0,123.0,123.0,123.0,123.0,123.0,123.0,123.0,123.0,123.0,123.0,123.0,123.0,123.0,123.0,123.0,123.0,123.0,123.0,123.0,123.0,123.0,123.0,123.0,123.0,123.0,123.0,123.0,123.0,123.0,123.0,123.0,123.0,123.0,123.0,123.0,123.0,123.0,123.0,123.0,123.0,123.0,123.0,123.0,123.0,123.0,123.0,123.0,123.0,123.0,123.0,123.0,123.0,123.0,123.0,123.0,123.0,123.0,123.0,123.0,123.0,123.0,123.0,123.0,123.0,123.0,123.0,123.0,123.0,123.0,123.0,123.0,123.0,123.0,123.0,123.0,123.0,123.0,123.0,123.0,123.0,123.0,123.0,123.0,123.0,123.0,123.0,123.0,123.0,123.0,123.0,123.0,123.0,123.0,123.0,123.0,123.0,123.0,123.0,123.0,123.0,123.0,123.0,123.0,123.0,123.0,123.0,123.0,123.0,123.0,123.0,123.0,123.0,123.0,123.0,123.0,123.0,123.0,123.0,123.0,123.0,123.0,123.0,123.0,123.0,123.0,123.0,123.0,123.0,123.0,123.0,123.0,123.0,123.0,123.0,123.0,123.0,123.0,123.0,123.0,123.0,123.0,123.0,123.0,123.0,123.0,123.0,123.0,123.0,123.0,123.0,123.0,123.0,123.0,123.0,123.0,123.0,123.0,123.0,123.0,123.0,123.0,123.0,123.0,123.0,123.0,123.0,123.0,123.0,123.0,123.0,123.0,123.0,123.0,123.0,123.0,123.0,123.0,123.0,123.0,123.0,123.0]\n",
       "},\n",
       "\"mapping\":{\n",
       "},\n",
       "\"data_meta\":{\n",
       "\"series_annotations\":[{\n",
       "\"type\":\"str\",\n",
       "\"column\":\"date\"\n",
       "},{\n",
       "\"type\":\"int\",\n",
       "\"column\":\"value\"\n",
       "}]\n",
       "},\n",
       "\"kind\":\"plot\",\n",
       "\"scales\":[],\n",
       "\"layers\":[{\n",
       "\"geom\":\"point\",\n",
       "\"mapping\":{\n",
       "\"x\":\"date\",\n",
       "\"y\":\"value\"\n",
       "},\n",
       "\"data_meta\":{\n",
       "},\n",
       "\"data\":{\n",
       "}\n",
       "}],\n",
       "\"metainfo_list\":[],\n",
       "\"spec_id\":\"1\"\n",
       "};\n",
       "           window.letsPlotCall(function() { fig = LetsPlot.buildPlotFromProcessedSpecs(plotSpec, containerDiv, sizing); });\n",
       "       } else {\n",
       "           fig.updateView({});\n",
       "       }\n",
       "   }\n",
       "   \n",
       "   const renderImmediately = \n",
       "       forceImmediateRender || (\n",
       "           sizing.width_mode === 'FIXED' && \n",
       "           (sizing.height_mode === 'FIXED' || sizing.height_mode === 'SCALED')\n",
       "       );\n",
       "   \n",
       "   if (renderImmediately) {\n",
       "       renderPlot();\n",
       "   }\n",
       "   \n",
       "   if (!renderImmediately || responsive) {\n",
       "       // Set up observer for initial sizing or continuous monitoring\n",
       "       var observer = new ResizeObserver(function(entries) {\n",
       "           for (let entry of entries) {\n",
       "               if (entry.contentBoxSize && \n",
       "                   entry.contentBoxSize[0].inlineSize > 0) {\n",
       "                   if (!responsive && observer) {\n",
       "                       observer.disconnect();\n",
       "                       observer = null;\n",
       "                   }\n",
       "                   renderPlot();\n",
       "                   if (!responsive) {\n",
       "                       break;\n",
       "                   }\n",
       "               }\n",
       "           }\n",
       "       });\n",
       "       \n",
       "       observer.observe(containerDiv);\n",
       "   }\n",
       "   \n",
       "   // ----------\n",
       "   })();\n",
       "   \n",
       "   </script>"
      ],
      "text/plain": [
       "<lets_plot.plot.core.PlotSpec at 0x144decf70>"
      ]
     },
     "execution_count": 3,
     "metadata": {},
     "output_type": "execute_result"
    }
   ],
   "source": [
    "ggplot(long_names) + geom_point(aes(x='date', y='value'))"
   ]
  }
 ],
 "metadata": {
  "kernelspec": {
   "display_name": "Python 3 (ipykernel)",
   "language": "python",
   "name": "python3"
  },
  "language_info": {
   "codemirror_mode": {
    "name": "ipython",
    "version": 3
   },
   "file_extension": ".py",
   "mimetype": "text/x-python",
   "name": "python",
   "nbconvert_exporter": "python",
   "pygments_lexer": "ipython3",
   "version": "3.10.17"
  }
 },
 "nbformat": 4,
 "nbformat_minor": 4
}
