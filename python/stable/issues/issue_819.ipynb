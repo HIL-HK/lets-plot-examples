{
 "cells": [
  {
   "cell_type": "code",
   "execution_count": 1,
   "id": "d6c64888-730e-446f-8306-3dc82f98bacb",
   "metadata": {
    "tags": []
   },
   "outputs": [
    {
     "data": {
      "text/html": [
       "\n",
       "            <div id=\"ui0oc5\"></div>\n",
       "            <script type=\"text/javascript\" data-lets-plot-script=\"library\">\n",
       "                if(!window.letsPlotCallQueue) {\n",
       "                    window.letsPlotCallQueue = [];\n",
       "                }; \n",
       "                window.letsPlotCall = function(f) {\n",
       "                    window.letsPlotCallQueue.push(f);\n",
       "                };\n",
       "                (function() {\n",
       "                    var script = document.createElement(\"script\");\n",
       "                    script.type = \"text/javascript\";\n",
       "                    script.src = \"https://files.lp.hil-hk.com/artifacts/js/c0d2015a24882243305c16f3b08bd34fd07b2387/lets-plot.min.js\";\n",
       "                    script.onload = function() {\n",
       "                        window.letsPlotCall = function(f) {f();};\n",
       "                        window.letsPlotCallQueue.forEach(function(f) {f();});\n",
       "                        window.letsPlotCallQueue = [];\n",
       "                        \n",
       "                    };\n",
       "                    script.onerror = function(event) {\n",
       "                        window.letsPlotCall = function(f) {};    // noop\n",
       "                        window.letsPlotCallQueue = [];\n",
       "                        var div = document.createElement(\"div\");\n",
       "                        div.style.color = 'darkred';\n",
       "                        div.textContent = 'Error loading Lets-Plot JS';\n",
       "                        document.getElementById(\"ui0oc5\").appendChild(div);\n",
       "                    };\n",
       "                    var e = document.getElementById(\"ui0oc5\");\n",
       "                    e.appendChild(script);\n",
       "                })()\n",
       "            </script>\n",
       "            "
      ]
     },
     "metadata": {},
     "output_type": "display_data"
    }
   ],
   "source": [
    "import numpy as np\n",
    "from matplotlib.scale import SymmetricalLogTransform\n",
    "from lets_plot import *\n",
    "\n",
    "LetsPlot.setup_html()"
   ]
  },
  {
   "cell_type": "markdown",
   "id": "e3a9d55a-08d8-4510-b5db-685587bce025",
   "metadata": {},
   "source": [
    "symmetrical log or symbol scale \n",
    "\n",
    "https://github.com/JetBrains/lets-plot/issues/819"
   ]
  },
  {
   "cell_type": "code",
   "execution_count": 2,
   "id": "f27fbcc6-b938-46be-b81c-5acf53e5fd49",
   "metadata": {},
   "outputs": [],
   "source": [
    "x_data = np.array([1, 2, 3, 5, 7, 8])\n",
    "y_data = np.array([0, 1, 590, -20000, 4000000, -30])\n",
    "\n",
    "# Create an instance of SymmetricalLogTransform\n",
    "symlog_transform = SymmetricalLogTransform(base=10, linthresh=1, linscale=1)\n",
    "\n",
    "# Apply the transformation to 'x' and 'y' data\n",
    "transformed_y = symlog_transform.transform(np.array(y_data))\n",
    "\n",
    "# Manually transform and create ticks and labels\n",
    "listelabel=[-100000, -10000, -1000, -100, 0, 100, 1000, 10000, 100000, 1000000, 10000000]\n",
    "listelabelSTR=[str(x) for x in listelabel]\n",
    "listelabelval=symlog_transform.transform(listelabel)\n",
    "\n",
    "\n",
    "# Create a DataFrame with the transformed data\n",
    "transformed_data = {'x': x_data, 'y': transformed_y}"
   ]
  },
  {
   "cell_type": "code",
   "execution_count": 3,
   "id": "0c1547a9-890c-400b-8196-b6361ccafcb3",
   "metadata": {
    "tags": []
   },
   "outputs": [
    {
     "data": {
      "text/html": [
       "   <div id=\"rlqyvL\"></div>\n",
       "   <script type=\"text/javascript\" data-lets-plot-script=\"plot\">\n",
       "   \n",
       "   (function() {\n",
       "   // ----------\n",
       "   \n",
       "   var containerDiv = document.getElementById(\"rlqyvL\");\n",
       "   var observer = new ResizeObserver(function(entries) {\n",
       "       for (let entry of entries) {\n",
       "           var width = containerDiv.clientWidth\n",
       "           if (entry.contentBoxSize && width > 0) {\n",
       "           \n",
       "               // Render plot\n",
       "               if (observer) {\n",
       "                   observer.disconnect();\n",
       "                   observer = null;\n",
       "               }\n",
       "\n",
       "               var plotSpec={\n",
       "\"data\":{\n",
       "\"x\":[1.0,2.0,3.0,5.0,7.0,8.0],\n",
       "\"y\":[0.0,1.1111111111111112,3.881963122753255,-5.412141106775092,7.713171102439073,-2.5882323658307733]\n",
       "},\n",
       "\"mapping\":{\n",
       "},\n",
       "\"data_meta\":{\n",
       "\"series_annotations\":[{\n",
       "\"type\":\"int\",\n",
       "\"column\":\"x\"\n",
       "},{\n",
       "\"type\":\"float\",\n",
       "\"column\":\"y\"\n",
       "}]\n",
       "},\n",
       "\"kind\":\"plot\",\n",
       "\"scales\":[{\n",
       "\"aesthetic\":\"y\",\n",
       "\"breaks\":[-6.111111111111111,-5.111111111111111,-4.111111111111111,-3.111111111111111,0.0,3.111111111111111,4.111111111111111,5.111111111111111,6.111111111111111,7.111111111111111,8.11111111111111],\n",
       "\"labels\":[\"-100000\",\"-10000\",\"-1000\",\"-100\",\"0\",\"100\",\"1000\",\"10000\",\"100000\",\"1000000\",\"10000000\"]\n",
       "}],\n",
       "\"layers\":[{\n",
       "\"geom\":\"point\",\n",
       "\"mapping\":{\n",
       "\"x\":\"x\",\n",
       "\"y\":\"y\"\n",
       "},\n",
       "\"data_meta\":{\n",
       "},\n",
       "\"data\":{\n",
       "}\n",
       "}],\n",
       "\"metainfo_list\":[],\n",
       "\"spec_id\":\"1\"\n",
       "};\n",
       "               window.letsPlotCall(function() {\n",
       "       \n",
       "               var toolbar = null;\n",
       "               var plotContainer = containerDiv;               \n",
       "               \n",
       "                   var options = {\n",
       "                       sizing: {\n",
       "                           width_mode: \"min\",\n",
       "                           height_mode: \"scaled\",\n",
       "                           width: width\n",
       "                       }\n",
       "                   };\n",
       "                   var fig = LetsPlot.buildPlotFromProcessedSpecs(plotSpec, -1, -1, plotContainer, options);\n",
       "                   if (toolbar) {\n",
       "                     toolbar.bind(fig);\n",
       "                   }\n",
       "               });\n",
       "               \n",
       "               break;\n",
       "           }\n",
       "       }\n",
       "   });\n",
       "   \n",
       "   observer.observe(containerDiv);\n",
       "   \n",
       "   // ----------\n",
       "   })();\n",
       "   \n",
       "   </script>"
      ]
     },
     "metadata": {},
     "output_type": "display_data"
    }
   ],
   "source": [
    "# Create a scatter plot with the transformed data\n",
    "p = ggplot(transformed_data) + geom_point(aes(x='x', y='y')) + \\\n",
    "    scale_y_continuous(breaks=listelabelval, labels=listelabelSTR)\n",
    "p.show()"
   ]
  }
 ],
 "metadata": {
  "kernelspec": {
   "display_name": "Python [conda env:master]",
   "language": "python",
   "name": "conda-env-master-py"
  },
  "language_info": {
   "codemirror_mode": {
    "name": "ipython",
    "version": 3
   },
   "file_extension": ".py",
   "mimetype": "text/x-python",
   "name": "python",
   "nbconvert_exporter": "python",
   "pygments_lexer": "ipython3",
   "version": "3.11.10"
  }
 },
 "nbformat": 4,
 "nbformat_minor": 5
}
