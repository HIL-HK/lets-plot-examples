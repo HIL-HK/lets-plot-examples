{
 "cells": [
  {
   "cell_type": "markdown",
   "id": "e537499e-f258-4290-8b50-6667434fe731",
   "metadata": {},
   "source": [
    "Custom ticks in colorbars \n",
    "\n",
    "https://github.com/JetBrains/lets-plot/issues/1262 [closed]"
   ]
  },
  {
   "cell_type": "code",
   "execution_count": null,
   "id": "b3c80d41-7aa3-4657-8664-12e41b2fa3b9",
   "metadata": {},
   "outputs": [],
   "source": [
    "from lets_plot import *\n",
    "LetsPlot.setup_html()\n"
   ]
  },
  {
   "cell_type": "code",
   "execution_count": null,
   "id": "ef3197f9-503f-468a-97b0-392033f480c4",
   "metadata": {},
   "outputs": [],
   "source": [
    "data = dict(time=['Lunch', 'Lunch', 'Dinner', 'Dinner', 'Dinner'])\n",
    "p = ggplot(data) + geom_bar(aes(x='time', fill='..count..')) + scale_fill_grey() + theme_void() + ggsize(400, 200)\n",
    "p"
   ]
  },
  {
   "cell_type": "code",
   "execution_count": null,
   "id": "9867ead0-0002-4ab9-9692-8beb4ab93409",
   "metadata": {},
   "outputs": [],
   "source": [
    "\n",
    "long_ticks = theme(legend_ticks_length=10) + ggtitle(\"Long Ticks\")\n",
    "thick_ticks = theme(legend_ticks=element_line(size=4)) + ggtitle(\"Thick Ticks\")\n",
    "thick_red_ticks = theme(legend_ticks=element_line(size=4, color='red')) + ggtitle(\"Thick Red Ticks\")\n",
    "hidden_ticks = theme(legend_ticks='blank') + ggtitle(\"Hidden Ticks\")\n",
    "\n",
    "gggrid([\n",
    "    p + long_ticks,\n",
    "    p + thick_ticks,\n",
    "    p + thick_red_ticks,\n",
    "    p + hidden_ticks,\n",
    "])"
   ]
  }
 ],
 "metadata": {
  "kernelspec": {
   "display_name": "Python [conda env:master]",
   "language": "python",
   "name": "conda-env-master-py"
  },
  "language_info": {
   "codemirror_mode": {
    "name": "ipython",
    "version": 3
   },
   "file_extension": ".py",
   "mimetype": "text/x-python",
   "name": "python",
   "nbconvert_exporter": "python",
   "pygments_lexer": "ipython3",
   "version": "3.11.11"
  }
 },
 "nbformat": 4,
 "nbformat_minor": 5
}
