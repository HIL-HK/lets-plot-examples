{
 "cells": [
  {
   "cell_type": "code",
   "execution_count": null,
   "id": "40d13ac6-6993-464d-9ed7-db6dbc047902",
   "metadata": {},
   "outputs": [],
   "source": [
    "import numpy as np\n",
    "from lets_plot import *\n",
    "\n",
    "LetsPlot.setup_html()"
   ]
  },
  {
   "cell_type": "markdown",
   "id": "cc9a71f9-d50e-40bf-9764-ac596540b80b",
   "metadata": {},
   "source": [
    "Error when using `stat='summary'` if the data contains NaN values. \n",
    "\n",
    "https://github.com/JetBrains/lets-plot/issues/1301 [closed]"
   ]
  },
  {
   "cell_type": "code",
   "execution_count": null,
   "id": "82a119c3-6f50-4485-b3f1-5b19348fa3ff",
   "metadata": {},
   "outputs": [],
   "source": [
    "data = {\n",
    "    'x': ['a', 'b'],\n",
    "    'y': [np.nan, 5.0]\n",
    "}"
   ]
  },
  {
   "cell_type": "code",
   "execution_count": null,
   "id": "e56f1b92-bd90-4909-a1cd-bf04a6332b63",
   "metadata": {},
   "outputs": [],
   "source": [
    "ggplot() + geom_bar(aes(x='x', y='y', fill='x'), stat='summary', data=data)"
   ]
  },
  {
   "cell_type": "code",
   "execution_count": null,
   "id": "34949f41-f1f3-43f1-b07e-36087e2e25f0",
   "metadata": {},
   "outputs": [],
   "source": [
    "ggplot() + geom_bar(aes(x='x', y='y', fill='x'), data=data)"
   ]
  }
 ],
 "metadata": {
  "kernelspec": {
   "display_name": "Python [conda env:master]",
   "language": "python",
   "name": "conda-env-master-py"
  },
  "language_info": {
   "codemirror_mode": {
    "name": "ipython",
    "version": 3
   },
   "file_extension": ".py",
   "mimetype": "text/x-python",
   "name": "python",
   "nbconvert_exporter": "python",
   "pygments_lexer": "ipython3",
   "version": "3.11.11"
  }
 },
 "nbformat": 4,
 "nbformat_minor": 5
}
