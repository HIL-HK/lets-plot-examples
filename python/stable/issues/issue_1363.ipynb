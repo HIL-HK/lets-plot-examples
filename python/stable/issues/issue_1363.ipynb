{
 "cells": [
  {
   "cell_type": "markdown",
   "id": "1e7ba729-899b-43e4-8ae4-81990e846014",
   "metadata": {},
   "source": [
    "https://github.com/JetBrains/lets-plot/issues/1363 \n",
    "\n",
    "as_discrete() does not work with aes addition"
   ]
  },
  {
   "cell_type": "code",
   "execution_count": null,
   "id": "70124f3d-8d59-4c0f-9398-4dff43723dfa",
   "metadata": {},
   "outputs": [],
   "source": [
    "import pandas as pd\n",
    "\n",
    "from lets_plot import *"
   ]
  },
  {
   "cell_type": "code",
   "execution_count": null,
   "id": "22497ac9-200c-4b79-8be9-19cb23520b4b",
   "metadata": {},
   "outputs": [],
   "source": [
    "LetsPlot.setup_html()"
   ]
  },
  {
   "cell_type": "code",
   "execution_count": null,
   "id": "46b18c72-d7d4-4994-bb42-a8900eb5ca24",
   "metadata": {},
   "outputs": [],
   "source": [
    "# Plot should work\n",
    "mpg = pd.read_csv(\"https://raw.githubusercontent.com/JetBrains/lets-plot-docs/master/data/mpg.csv\")\n",
    "\n",
    "ggplot(mpg) + aes('displ', 'hwy', color=as_discrete('cyl')) + geom_point()"
   ]
  }
 ],
 "metadata": {
  "kernelspec": {
   "display_name": "Python 3 (ipykernel)",
   "language": "python",
   "name": "python3"
  },
  "language_info": {
   "codemirror_mode": {
    "name": "ipython",
    "version": 3
   },
   "file_extension": ".py",
   "mimetype": "text/x-python",
   "name": "python",
   "nbconvert_exporter": "python",
   "pygments_lexer": "ipython3",
   "version": "3.10.13"
  }
 },
 "nbformat": 4,
 "nbformat_minor": 5
}
