{
 "cells": [
  {
   "cell_type": "code",
   "execution_count": null,
   "id": "62a62c2e",
   "metadata": {},
   "outputs": [],
   "source": [
    "from lets_plot import *\n",
    "LetsPlot.setup_html()"
   ]
  },
  {
   "cell_type": "markdown",
   "id": "d8b3bf34",
   "metadata": {},
   "source": [
    "Implementation of the 'stroke' aesthetic. [CLOSED]\n",
    "\n",
    "https://github.com/JetBrains/lets-plot/pull/729"
   ]
  },
  {
   "cell_type": "code",
   "execution_count": null,
   "id": "14d43916",
   "metadata": {
    "tags": []
   },
   "outputs": [],
   "source": [
    "ggplot() + geom_point(aes(x=[0, 1], y=[0,0]), size=10, stroke=5, shape=21, fill='gray', color='red')"
   ]
  }
 ],
 "metadata": {
  "kernelspec": {
   "display_name": "Python [conda env:master]",
   "language": "python",
   "name": "conda-env-master-py"
  },
  "language_info": {
   "codemirror_mode": {
    "name": "ipython",
    "version": 3
   },
   "file_extension": ".py",
   "mimetype": "text/x-python",
   "name": "python",
   "nbconvert_exporter": "python",
   "pygments_lexer": "ipython3",
   "version": "3.11.10"
  }
 },
 "nbformat": 4,
 "nbformat_minor": 5
}
