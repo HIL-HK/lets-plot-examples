{
 "cells": [
  {
   "cell_type": "code",
   "execution_count": null,
   "metadata": {},
   "outputs": [],
   "source": [
    "from lets_plot import *\n",
    "\n",
    "LetsPlot.setup_html()"
   ]
  },
  {
   "cell_type": "markdown",
   "metadata": {},
   "source": [
    "https://github.com/JetBrains/lets-plot/issues/481 [CLOSED]\n",
    "\n",
    "The condition of showing tooltips, depending on the number of factors, works separately by layers.\n",
    "For example, 2 layers of 3 objects each, there is no tooltip, but the legend contains 6 objects, which meets the requirement."
   ]
  },
  {
   "cell_type": "code",
   "execution_count": null,
   "metadata": {},
   "outputs": [],
   "source": [
    "(ggplot() \n",
    " + geom_point(\n",
    "    aes(x='x', color='c'),\n",
    "    data = {\n",
    "      'x': [0, 1, 2],\n",
    "      'c': ['a', 'b', 'c']\n",
    "    })  \n",
    " + geom_point(\n",
    "    aes(x='x', color='c'),\n",
    "    data = {\n",
    "      'x': [3, 4, 5],\n",
    "      'c': ['d', 'e', 'f']\n",
    "    })\n",
    ")"
   ]
  }
 ],
 "metadata": {
  "kernelspec": {
   "display_name": "Python [conda env:master]",
   "language": "python",
   "name": "conda-env-master-py"
  },
  "language_info": {
   "codemirror_mode": {
    "name": "ipython",
    "version": 3
   },
   "file_extension": ".py",
   "mimetype": "text/x-python",
   "name": "python",
   "nbconvert_exporter": "python",
   "pygments_lexer": "ipython3",
   "version": "3.11.10"
  }
 },
 "nbformat": 4,
 "nbformat_minor": 4
}
