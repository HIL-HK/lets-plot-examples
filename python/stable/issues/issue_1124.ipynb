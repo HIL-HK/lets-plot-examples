{
 "cells": [
  {
   "cell_type": "markdown",
   "id": "7be6d302-5ebf-4388-8204-fa05bd111ad3",
   "metadata": {},
   "source": [
    "Broken plot_background on `gggrid` \n",
    "\n",
    "https://github.com/JetBrains/lets-plot/issues/1124 [closed]"
   ]
  },
  {
   "cell_type": "code",
   "execution_count": null,
   "id": "ca95d315-2cf6-461b-9b53-eb33808ed8f9",
   "metadata": {},
   "outputs": [],
   "source": [
    "from lets_plot import *\n",
    "LetsPlot.setup_html()\n",
    "\n",
    "p = gggrid([\n",
    "    ggplot() + geom_point() + coord_fixed(),\n",
    "    gggrid([\n",
    "        ggplot() + geom_point() + coord_fixed(),\n",
    "        ggplot() + geom_point() + coord_fixed()\n",
    "    ])\n",
    "], ncol=1) + theme(plot_background=element_rect(size=3))\n",
    "\n",
    "p"
   ]
  },
  {
   "cell_type": "code",
   "execution_count": null,
   "id": "681c5772-2497-4d15-b4cf-a27167c5382d",
   "metadata": {},
   "outputs": [],
   "source": [
    "ggplot() + geom_point() + coord_fixed() + theme(plot_background=element_rect(size=3, fill='pink'))"
   ]
  },
  {
   "cell_type": "code",
   "execution_count": null,
   "id": "c7e73fe9-1701-46c3-a636-415bae6b5c91",
   "metadata": {},
   "outputs": [],
   "source": [
    "p = gggrid([\n",
    "    ggplot() + geom_livemap(),\n",
    "    gggrid([\n",
    "        ggplot() + geom_livemap() + coord_fixed(),\n",
    "        ggplot() + geom_livemap() + coord_fixed()\n",
    "    ])\n",
    "], ncol=1) + theme(plot_background=element_rect(size=3, fill='pink'))\n",
    "\n",
    "p"
   ]
  },
  {
   "cell_type": "code",
   "execution_count": null,
   "id": "c81ec0c8-ec0f-4c7a-8ab4-1e51ec7a9046",
   "metadata": {},
   "outputs": [],
   "source": [
    "ggplot() + geom_livemap() + theme(plot_background=element_rect(size=0, fill='pink'), plot_inset=0) # default plot_inset=4"
   ]
  },
  {
   "cell_type": "code",
   "execution_count": null,
   "id": "5daf8dae-c581-489c-ba29-f3cc5236b331",
   "metadata": {},
   "outputs": [],
   "source": [
    "gggrid([\n",
    "    ggplot() + geom_point() + coord_fixed()\n",
    "]) + theme(plot_background=element_rect(size=3, fill='pink'))"
   ]
  },
  {
   "cell_type": "code",
   "execution_count": null,
   "id": "a20bd38f-8b72-4aa4-a31c-6911351b2279",
   "metadata": {},
   "outputs": [],
   "source": []
  }
 ],
 "metadata": {
  "kernelspec": {
   "display_name": "Python [conda env:master]",
   "language": "python",
   "name": "conda-env-master-py"
  },
  "language_info": {
   "codemirror_mode": {
    "name": "ipython",
    "version": 3
   },
   "file_extension": ".py",
   "mimetype": "text/x-python",
   "name": "python",
   "nbconvert_exporter": "python",
   "pygments_lexer": "ipython3",
   "version": "3.11.11"
  }
 },
 "nbformat": 4,
 "nbformat_minor": 5
}
