{
 "cells": [
  {
   "cell_type": "code",
   "execution_count": 1,
   "metadata": {},
   "outputs": [
    {
     "data": {
      "text/html": [
       "\n",
       "            <div id=\"FEfjcN\"></div>\n",
       "            <script type=\"text/javascript\" data-lets-plot-script=\"library\">\n",
       "                if(!window.letsPlotCallQueue) {\n",
       "                    window.letsPlotCallQueue = [];\n",
       "                }; \n",
       "                window.letsPlotCall = function(f) {\n",
       "                    window.letsPlotCallQueue.push(f);\n",
       "                };\n",
       "                (function() {\n",
       "                    var script = document.createElement(\"script\");\n",
       "                    script.type = \"text/javascript\";\n",
       "                    script.src = \"https://cdn.jsdelivr.net/gh/JetBrains/lets-plot@v4.6.2/js-package/distr/lets-plot.min.js\";\n",
       "                    script.onload = function() {\n",
       "                        window.letsPlotCall = function(f) {f();};\n",
       "                        window.letsPlotCallQueue.forEach(function(f) {f();});\n",
       "                        window.letsPlotCallQueue = [];\n",
       "                        \n",
       "                    };\n",
       "                    script.onerror = function(event) {\n",
       "                        window.letsPlotCall = function(f) {};    // noop\n",
       "                        window.letsPlotCallQueue = [];\n",
       "                        var div = document.createElement(\"div\");\n",
       "                        div.style.color = 'darkred';\n",
       "                        div.textContent = 'Error loading Lets-Plot JS';\n",
       "                        document.getElementById(\"FEfjcN\").appendChild(div);\n",
       "                    };\n",
       "                    var e = document.getElementById(\"FEfjcN\");\n",
       "                    e.appendChild(script);\n",
       "                })()\n",
       "            </script>\n",
       "            "
      ]
     },
     "metadata": {},
     "output_type": "display_data"
    }
   ],
   "source": [
    "from lets_plot import *\n",
    "import pandas as pd\n",
    "import numpy as np\n",
    "LetsPlot.setup_html()"
   ]
  },
  {
   "cell_type": "markdown",
   "metadata": {},
   "source": [
    " https://github.com/JetBrains/lets-plot/issues/313 (Closed)\n",
    " \n",
    " `geom_path()` doesn't support different colors for segments "
   ]
  },
  {
   "cell_type": "code",
   "execution_count": 2,
   "metadata": {},
   "outputs": [
    {
     "data": {
      "text/html": [
       "   <div id=\"fBzsjU\"></div>\n",
       "   <script type=\"text/javascript\" data-lets-plot-script=\"plot\">\n",
       "   \n",
       "   (function() {\n",
       "   // ----------\n",
       "   \n",
       "   const forceImmediateRender = false;\n",
       "   const responsive = false;\n",
       "   \n",
       "   let sizing = {\n",
       "       width_mode: \"MIN\",\n",
       "       height_mode: \"SCALED\",\n",
       "       width: null, \n",
       "       height: null \n",
       "   };\n",
       "   \n",
       "   const preferredWidth = document.body.dataset.letsPlotPreferredWidth;\n",
       "   if (preferredWidth !== undefined) {\n",
       "       sizing = {\n",
       "           width_mode: 'FIXED',\n",
       "           height_mode: 'SCALED',\n",
       "           width: parseFloat(preferredWidth)\n",
       "       };\n",
       "   }\n",
       "   \n",
       "   const containerDiv = document.getElementById(\"fBzsjU\");\n",
       "   let fig = null;\n",
       "   \n",
       "   function renderPlot() {\n",
       "       if (fig === null) {\n",
       "           const plotSpec = {\n",
       "\"data\":{\n",
       "\"x\":[0.5421595251201934,0.7908160817841408,0.042436094048196704,-0.06540839755655714,0.7994584821849011,0.4230328820654221,-0.007616935098640809,-0.5307900984194287,-0.44435553842954567,-0.7963344907856116,-0.40730762948168575,-0.9767715832446773,-0.21534193360975662,0.04760163897726177,0.1614565498022269,-0.16346819568982096,0.7491830129671022,-0.5873284315812048,-0.41526727954158793,0.4758712166942023,-0.12220781508406331,-0.6618827630841595,0.9150634064162919,0.2802887630254429,-0.8504707975570946,-0.02728115112914331,-0.3753584122573659,-0.16641460659473828,-0.17296827237267354,-0.47149710137045253,-0.8766231058859004,-0.18501533815172877,-0.046843465988665844,-0.3148993731141063,0.2496630443060761,-0.729139716820473,0.44605172860109454,0.31830015666744815,-0.05774866838903048,-0.7046184607239554,0.5577523293582356,-0.27034844059393826,0.607841284191784,0.6074221690229267,0.05512268057606384,-0.42657219127092794,0.9345238781776923,0.48594497331592046,-0.009814884864586482,-0.36146022091467334,0.8254696122398546,-0.6823801287363334,0.6970237024277679,-0.3945809007909733,-0.5308591772049049,0.686791400545256,-0.45602273783418434,0.9148881629962946,0.49356108283247435,-0.7639500224547311,0.791992719183652,0.5898441198897222,-0.42864213509443183,0.9180163144490678,0.7452095395549376,0.20926589605229728,-0.5146463616534307,0.7190082740047381,0.9489349422492468,-0.533867372289129,-0.45268964169017667,0.408140478579303,-0.14244085004031448,-0.9396559352604965,0.018827049723850076,0.6982095171406966,-0.40889763589102346,-0.267690486376174,0.9642676227232116,-0.171162571540878,-0.8044157311011817,0.6485108358341201,0.6923382588848965,-0.08524255982435958,0.6156445827839101,0.7081029864339938,-0.8523145554966369,0.9547018238402127,-0.4163138575388623,0.7054567167091683,0.78348499900926,-0.3512968488065873,-0.021818532827399206,0.5705056903890544,0.834777540073159,-0.12832507379703828,-0.36505167292955254,-0.2175031616043781,0.612954381145165,0.16160359990187945],\n",
       "\"y\":[6.697439579974571,15.803852310024128,-2.923807464901495,0.37830853248846985,15.470761905290168,3.1656926825684177,1.9206970149497358,6.7449267847616605,6.814491231513303,17.4035674097588,3.9126257456277855,23.362310205123954,-0.5291649000397034,-1.059446981721847,0.3542287158995453,-1.0221453806636625,14.019970553658775,7.747152180355679,4.812174843685885,6.66364301737854,1.859160244901318,11.331180482481086,21.222201475055037,1.3491877620315236,17.04117403943464,0.7667026594193519,4.778601876293964,-0.4212917889204333,-0.14851367465473542,6.608276371009966,18.08877100449781,-0.18659635604592728,0.3274322225093255,2.1407506869135946,2.692399643864765,14.215286867969835,5.409939527383827,2.2983839216770487,-0.7342427940810494,13.321163092355393,8.050284862322542,2.0690987241105296,10.066749351364265,9.873203159158832,0.10186766195943048,4.798290447819847,22.095768436647038,6.106410139287672,-0.5819650475358717,2.741081120719573,16.97213630766052,12.28526155667039,11.675240514705681,5.465039055950228,6.370946543156115,12.02402791494126,5.387602092400359,21.443670555528538,6.404338667819217,14.477422284407206,16.259018332828216,9.211743730009884,4.5471493993531125,20.615727168639744,14.923346414422621,1.0992951670899045,5.490840189506404,13.210314869343463,21.45243329925786,8.984363307534547,5.550062214540527,3.018615590928607,-0.787769348398809,22.972031830980058,0.09135293806206045,11.990878067185056,4.302845231569753,3.4088536422911933,24.81969462152495,2.8375080722672674,15.070352044803638,8.896246959846467,11.490278948412254,0.04988962505323491,10.494497309040609,12.725096708666074,18.864840465487916,23.263877014582427,6.107913987472722,13.048415329539507,14.375808839527911,4.404675533918554,0.70229917842569,8.729827997889862,18.0138111075894,-0.8044676801979666,3.83512830899218,0.9301656353308316,10.194271488039407,0.41630937599442935]\n",
       "},\n",
       "\"mapping\":{\n",
       "\"x\":\"x\",\n",
       "\"y\":\"y\",\n",
       "\"color\":\"y\"\n",
       "},\n",
       "\"data_meta\":{\n",
       "\"series_annotations\":[{\n",
       "\"type\":\"float\",\n",
       "\"column\":\"x\"\n",
       "},{\n",
       "\"type\":\"float\",\n",
       "\"column\":\"y\"\n",
       "}]\n",
       "},\n",
       "\"kind\":\"plot\",\n",
       "\"scales\":[],\n",
       "\"layers\":[{\n",
       "\"geom\":\"path\",\n",
       "\"mapping\":{\n",
       "},\n",
       "\"data_meta\":{\n",
       "},\n",
       "\"data\":{\n",
       "}\n",
       "}],\n",
       "\"metainfo_list\":[],\n",
       "\"spec_id\":\"1\"\n",
       "};\n",
       "           window.letsPlotCall(function() { fig = LetsPlot.buildPlotFromProcessedSpecs(plotSpec, containerDiv, sizing); });\n",
       "       } else {\n",
       "           fig.updateView({});\n",
       "       }\n",
       "   }\n",
       "   \n",
       "   const renderImmediately = \n",
       "       forceImmediateRender || (\n",
       "           sizing.width_mode === 'FIXED' && \n",
       "           (sizing.height_mode === 'FIXED' || sizing.height_mode === 'SCALED')\n",
       "       );\n",
       "   \n",
       "   if (renderImmediately) {\n",
       "       renderPlot();\n",
       "   }\n",
       "   \n",
       "   if (!renderImmediately || responsive) {\n",
       "       // Set up observer for initial sizing or continuous monitoring\n",
       "       var observer = new ResizeObserver(function(entries) {\n",
       "           for (let entry of entries) {\n",
       "               if (entry.contentBoxSize && \n",
       "                   entry.contentBoxSize[0].inlineSize > 0) {\n",
       "                   if (!responsive && observer) {\n",
       "                       observer.disconnect();\n",
       "                       observer = null;\n",
       "                   }\n",
       "                   renderPlot();\n",
       "                   if (!responsive) {\n",
       "                       break;\n",
       "                   }\n",
       "               }\n",
       "           }\n",
       "       });\n",
       "       \n",
       "       observer.observe(containerDiv);\n",
       "   }\n",
       "   \n",
       "   // ----------\n",
       "   })();\n",
       "   \n",
       "   </script>"
      ],
      "text/plain": [
       "<lets_plot.plot.core.PlotSpec at 0x1333ed0c0>"
      ]
     },
     "execution_count": 2,
     "metadata": {},
     "output_type": "execute_result"
    }
   ],
   "source": [
    "x = np.random.uniform(-1, 1, size=100)\n",
    "y = np.random.normal(size=100)\n",
    "dat = pd.DataFrame({'x': x, 'y': 25 * x ** 2 + y})\n",
    "ggplot(dat, aes(x='x', y='y', color='y')) + geom_path()"
   ]
  }
 ],
 "metadata": {
  "kernelspec": {
   "display_name": "Python 3 (ipykernel)",
   "language": "python",
   "name": "python3"
  },
  "language_info": {
   "codemirror_mode": {
    "name": "ipython",
    "version": 3
   },
   "file_extension": ".py",
   "mimetype": "text/x-python",
   "name": "python",
   "nbconvert_exporter": "python",
   "pygments_lexer": "ipython3",
   "version": "3.10.17"
  }
 },
 "nbformat": 4,
 "nbformat_minor": 4
}
