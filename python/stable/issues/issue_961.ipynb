{
 "cells": [
  {
   "cell_type": "code",
   "execution_count": 1,
   "id": "1367d516-f7e0-4182-b0c0-e57ecdc09657",
   "metadata": {},
   "outputs": [
    {
     "ename": "ModuleNotFoundError",
     "evalue": "No module named 'polars'",
     "output_type": "error",
     "traceback": [
      "\u001b[0;31m---------------------------------------------------------------------------\u001b[0m",
      "\u001b[0;31mModuleNotFoundError\u001b[0m                       Traceback (most recent call last)",
      "Cell \u001b[0;32mIn[1], line 3\u001b[0m\n\u001b[1;32m      1\u001b[0m \u001b[38;5;28;01mimport\u001b[39;00m \u001b[38;5;21;01mdatetime\u001b[39;00m \u001b[38;5;28;01mas\u001b[39;00m \u001b[38;5;21;01mdt\u001b[39;00m\n\u001b[1;32m      2\u001b[0m \u001b[38;5;28;01mimport\u001b[39;00m \u001b[38;5;21;01mpandas\u001b[39;00m \u001b[38;5;28;01mas\u001b[39;00m \u001b[38;5;21;01mpd\u001b[39;00m\n\u001b[0;32m----> 3\u001b[0m \u001b[38;5;28;01mimport\u001b[39;00m \u001b[38;5;21;01mpolars\u001b[39;00m \u001b[38;5;28;01mas\u001b[39;00m \u001b[38;5;21;01mpl\u001b[39;00m \n\u001b[1;32m      4\u001b[0m \u001b[38;5;28;01mimport\u001b[39;00m \u001b[38;5;21;01mnumpy\u001b[39;00m \u001b[38;5;28;01mas\u001b[39;00m \u001b[38;5;21;01mnp\u001b[39;00m\n\u001b[1;32m      5\u001b[0m \u001b[38;5;28;01mfrom\u001b[39;00m \u001b[38;5;21;01mlets_plot\u001b[39;00m \u001b[38;5;28;01mimport\u001b[39;00m \u001b[38;5;241m*\u001b[39m\n",
      "\u001b[0;31mModuleNotFoundError\u001b[0m: No module named 'polars'"
     ]
    }
   ],
   "source": [
    "import datetime as dt\n",
    "import pandas as pd\n",
    "import polars as pl \n",
    "import numpy as np\n",
    "from lets_plot import *\n",
    "\n",
    "LetsPlot.setup_html()"
   ]
  },
  {
   "cell_type": "markdown",
   "id": "e66ce191-c7b6-45d2-8aca-c6bed7ce1f6f",
   "metadata": {},
   "source": [
    "DateTime is not recognised in polars.DataFrame [CLOSED]\n",
    "\n",
    "https://github.com/JetBrains/lets-plot/issues/961"
   ]
  },
  {
   "cell_type": "code",
   "execution_count": null,
   "id": "d85060d6-2a22-4981-bd37-d17acdf0b363",
   "metadata": {
    "tags": []
   },
   "outputs": [],
   "source": [
    "\n",
    "n = 31\n",
    "np.random.seed(42)\n",
    "\n",
    "df = pl.DataFrame({\n",
    "    'd': [dt.datetime(2021, 1, 1) + dt.timedelta(days=d) for d in range(n)],\n",
    "    't': np.random.normal(loc=-5, scale=6, size=n)\n",
    "})\n",
    "\n",
    "ggplot(df, aes('d', 't')) + geom_bar(stat='identity')"
   ]
  },
  {
   "cell_type": "code",
   "execution_count": null,
   "id": "b1b5547a-2fb3-49bf-90a2-602ee6777d38",
   "metadata": {},
   "outputs": [],
   "source": [
    "ggplot(df.to_pandas(), aes('d', 't')) + geom_bar(stat='identity')"
   ]
  }
 ],
 "metadata": {
  "kernelspec": {
   "display_name": "Python [conda env:master]",
   "language": "python",
   "name": "conda-env-master-py"
  },
  "language_info": {
   "codemirror_mode": {
    "name": "ipython",
    "version": 3
   },
   "file_extension": ".py",
   "mimetype": "text/x-python",
   "name": "python",
   "nbconvert_exporter": "python",
   "pygments_lexer": "ipython3",
   "version": "3.11.10"
  }
 },
 "nbformat": 4,
 "nbformat_minor": 5
}
