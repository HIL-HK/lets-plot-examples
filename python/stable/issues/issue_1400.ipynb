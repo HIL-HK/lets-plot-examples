{
 "cells": [
  {
   "cell_type": "markdown",
   "id": "9bdf5816-63d9-408c-b221-922714a2cbbc",
   "metadata": {},
   "source": [
    "Tooltip shows duplicate lines when as_discrete is applied twice to the same var #1400\n",
    "\n",
    "https://github.com/JetBrains/lets-plot/issues/1400\n",
    "\n",
    "Using as_discrete on the same variable more than once produces duplicate lines in the tooltip"
   ]
  },
  {
   "cell_type": "code",
   "execution_count": null,
   "id": "36accd27-d115-4e34-9ce4-190f8eee030b",
   "metadata": {},
   "outputs": [],
   "source": [
    "from lets_plot import *"
   ]
  },
  {
   "cell_type": "code",
   "execution_count": null,
   "id": "353a9781-bacd-4afc-bbd3-5f8716fc6321",
   "metadata": {},
   "outputs": [],
   "source": [
    "LetsPlot.setup_html()"
   ]
  },
  {
   "cell_type": "code",
   "execution_count": null,
   "id": "8f3e64e6-0d25-4cb3-89f3-a342fbb33fee",
   "metadata": {},
   "outputs": [],
   "source": [
    "data = {\n",
    "    \"category\": [ \"Slice 1\", \"Slice 2\", \"Slice 3\", \"Slice 4\", \"Slice 5\", \"Slice 6\", \"Slice 7\", \"Slice 8\", \"Slice 9\" ], \n",
    "    \"value\": [ 1.0, 1.0, 1.0, 1.0, 1.0, 1.0, 1.0, 1.0, 2.0 ]\n",
    "}"
   ]
  },
  {
   "cell_type": "code",
   "execution_count": null,
   "id": "aeafe8f0-b3b0-452f-89df-2d0c3ae45918",
   "metadata": {},
   "outputs": [],
   "source": [
    "ggplot(data) \\\n",
    "    + geom_pie(aes(color=as_discrete('category'), fill=as_discrete('category'), slice='value'), \n",
    "               size=0.9, size_unit='min')"
   ]
  }
 ],
 "metadata": {
  "kernelspec": {
   "display_name": "Python [conda env:master]",
   "language": "python",
   "name": "conda-env-master-py"
  },
  "language_info": {
   "codemirror_mode": {
    "name": "ipython",
    "version": 3
   },
   "file_extension": ".py",
   "mimetype": "text/x-python",
   "name": "python",
   "nbconvert_exporter": "python",
   "pygments_lexer": "ipython3",
   "version": "3.11.13"
  }
 },
 "nbformat": 4,
 "nbformat_minor": 5
}
