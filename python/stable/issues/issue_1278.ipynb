{
 "cells": [
  {
   "cell_type": "code",
   "execution_count": null,
   "id": "6c5f86eb-b476-470b-a43c-2ccad69b2ef9",
   "metadata": {},
   "outputs": [],
   "source": [
    "from lets_plot import *\n",
    "LetsPlot.setup_html()"
   ]
  },
  {
   "cell_type": "markdown",
   "id": "3b0f3fc3-cd4c-4a12-ac16-e67650d97ee5",
   "metadata": {},
   "source": [
    "plot_background not inheriting from rect\n",
    "\n",
    "https://github.com/JetBrains/lets-plot/issues/1278 [closed]"
   ]
  },
  {
   "cell_type": "code",
   "execution_count": null,
   "id": "481f4fa5-25cf-4792-9258-6f3a340aa6df",
   "metadata": {},
   "outputs": [],
   "source": [
    "p = ggplot() + geom_point(x=10, y=10, size=10, color='red')\n",
    "p"
   ]
  },
  {
   "cell_type": "code",
   "execution_count": null,
   "id": "dfcc3f50-1d07-42d8-bb81-fec1f6a141a1",
   "metadata": {},
   "outputs": [],
   "source": [
    "# Issue here - returns a plot with a white background, instead of an orange with dark blue border\n",
    "\n",
    "(p + theme_none()\n",
    "    + theme( rect=element_rect(fill=\"orange\", color=\"dark_blue\"),\n",
    "            plot_background=element_rect() )\n",
    ")"
   ]
  },
  {
   "cell_type": "code",
   "execution_count": null,
   "id": "40662cb9-0ea2-4d0d-8ecd-ad7bc310f1e7",
   "metadata": {},
   "outputs": [],
   "source": [
    "# Issue here if it returns a plot with a white background, instead of orange...\n",
    "\n",
    "(p + theme_none()\n",
    "    + theme(\n",
    "        rect=element_rect(fill=\"orange\", color=\"dark_blue\"),\n",
    "        plot_background=None\n",
    "    )\n",
    ")"
   ]
  },
  {
   "cell_type": "code",
   "execution_count": null,
   "id": "ca9fbb3f-7cab-4913-abf2-94f6723c5d9c",
   "metadata": {},
   "outputs": [],
   "source": [
    "(p + theme_none()\n",
    "    + theme(\n",
    "        rect=element_rect(fill=\"orange\", color=\"dark_blue\"),\n",
    "        plot_background=element_blank(),\n",
    "    )\n",
    ")"
   ]
  }
 ],
 "metadata": {
  "kernelspec": {
   "display_name": "Python [conda env:v4.6.0]",
   "language": "python",
   "name": "conda-env-v4.6.0-py"
  },
  "language_info": {
   "codemirror_mode": {
    "name": "ipython",
    "version": 3
   },
   "file_extension": ".py",
   "mimetype": "text/x-python",
   "name": "python",
   "nbconvert_exporter": "python",
   "pygments_lexer": "ipython3",
   "version": "3.11.11"
  }
 },
 "nbformat": 4,
 "nbformat_minor": 5
}
