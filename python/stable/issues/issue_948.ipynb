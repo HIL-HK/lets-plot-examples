{
 "cells": [
  {
   "cell_type": "code",
   "execution_count": null,
   "id": "486ce58f-1c75-4817-8b83-3f88e05970f9",
   "metadata": {
    "tags": []
   },
   "outputs": [],
   "source": [
    "from lets_plot import *\n",
    "\n",
    "LetsPlot.setup_html()"
   ]
  },
  {
   "cell_type": "markdown",
   "id": "7b4ecac4",
   "metadata": {},
   "source": [
    "support for multi-line axis labels [CLOSED]\n",
    "\n",
    "https://github.com/JetBrains/lets-plot/issues/948"
   ]
  },
  {
   "cell_type": "code",
   "execution_count": null,
   "id": "9542e66d-8372-4e7d-b333-1f7a0645f7d2",
   "metadata": {
    "tags": []
   },
   "outputs": [],
   "source": [
    "data = {\n",
    "    'x': ['foo\\nbar\\nbaz'],\n",
    "    'y': ['qwe\\nasd\\nzxc']\n",
    "}\n",
    "ggplot(data) + geom_point(aes(x='x', y='y'))"
   ]
  }
 ],
 "metadata": {
  "kernelspec": {
   "display_name": "Python [conda env:master]",
   "language": "python",
   "name": "conda-env-master-py"
  },
  "language_info": {
   "codemirror_mode": {
    "name": "ipython",
    "version": 3
   },
   "file_extension": ".py",
   "mimetype": "text/x-python",
   "name": "python",
   "nbconvert_exporter": "python",
   "pygments_lexer": "ipython3",
   "version": "3.11.11"
  }
 },
 "nbformat": 4,
 "nbformat_minor": 5
}
