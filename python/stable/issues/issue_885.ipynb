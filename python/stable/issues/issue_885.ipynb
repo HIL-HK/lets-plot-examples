{
 "cells": [
  {
   "cell_type": "code",
   "execution_count": 1,
   "id": "bff64870-e352-443e-947b-da40f93961f6",
   "metadata": {
    "tags": []
   },
   "outputs": [],
   "source": [
    "import numpy as np\n",
    "import io\n",
    "import os\n",
    "from IPython import display\n",
    "from lets_plot import *"
   ]
  },
  {
   "cell_type": "markdown",
   "id": "b42dc4f7-8333-428d-9343-face5055a5e9",
   "metadata": {},
   "source": [
    "Allow export functions to export to a file-like object [CLOSED]\n",
    "\n",
    "https://github.com/JetBrains/lets-plot/issues/885"
   ]
  },
  {
   "cell_type": "code",
   "execution_count": 2,
   "id": "75a6e14c-f3dc-4f32-98b5-19b5a8eb9f76",
   "metadata": {
    "tags": []
   },
   "outputs": [
    {
     "data": {
      "text/html": [
       "\n",
       "            <div id=\"XMsWGI\"></div>\n",
       "            <script type=\"text/javascript\" data-lets-plot-script=\"library\">\n",
       "                if(!window.letsPlotCallQueue) {\n",
       "                    window.letsPlotCallQueue = [];\n",
       "                }; \n",
       "                window.letsPlotCall = function(f) {\n",
       "                    window.letsPlotCallQueue.push(f);\n",
       "                };\n",
       "                (function() {\n",
       "                    var script = document.createElement(\"script\");\n",
       "                    script.type = \"text/javascript\";\n",
       "                    script.src = \"https://cdn.jsdelivr.net/gh/JetBrains/lets-plot@v4.6.2/js-package/distr/lets-plot.min.js\";\n",
       "                    script.onload = function() {\n",
       "                        window.letsPlotCall = function(f) {f();};\n",
       "                        window.letsPlotCallQueue.forEach(function(f) {f();});\n",
       "                        window.letsPlotCallQueue = [];\n",
       "                        \n",
       "                    };\n",
       "                    script.onerror = function(event) {\n",
       "                        window.letsPlotCall = function(f) {};    // noop\n",
       "                        window.letsPlotCallQueue = [];\n",
       "                        var div = document.createElement(\"div\");\n",
       "                        div.style.color = 'darkred';\n",
       "                        div.textContent = 'Error loading Lets-Plot JS';\n",
       "                        document.getElementById(\"XMsWGI\").appendChild(div);\n",
       "                    };\n",
       "                    var e = document.getElementById(\"XMsWGI\");\n",
       "                    e.appendChild(script);\n",
       "                })()\n",
       "            </script>\n",
       "            "
      ]
     },
     "metadata": {},
     "output_type": "display_data"
    }
   ],
   "source": [
    "LetsPlot.setup_html()"
   ]
  },
  {
   "cell_type": "markdown",
   "id": "30ece1d0-a8e0-47f1-a7c0-b091667c2950",
   "metadata": {},
   "source": [
    "Preparing data"
   ]
  },
  {
   "cell_type": "code",
   "execution_count": 3,
   "id": "bfd9cc40-aed5-49cd-8472-de8f28ae9119",
   "metadata": {
    "tags": []
   },
   "outputs": [],
   "source": [
    "x1 = np.random.randint(10, size=100)\n",
    "p1 = ggplot({'x': x1}, aes(x='x')) + geom_bar()\n",
    "\n",
    "n = 100\n",
    "x2 = np.arange(n)\n",
    "y2 = np.random.normal(size=n)\n",
    "w, h = 200, 150\n",
    "p2 = ggplot({'x': x2, 'y': y2}, aes(x='x', y='y')) + ggsize(w, h)"
   ]
  },
  {
   "cell_type": "markdown",
   "id": "4d68dfb9-3cba-458c-bdfa-c4a5879ce14d",
   "metadata": {},
   "source": [
    "The path parameter is string value of filename without directory.\n",
    "Function output is absolute path to the created file."
   ]
  },
  {
   "cell_type": "code",
   "execution_count": 4,
   "id": "30db8f19-4ef9-469a-9345-6bbafd7845a7",
   "metadata": {
    "tags": []
   },
   "outputs": [
    {
     "data": {
      "text/plain": [
       "'/Users/earkhipova/Projects/lets-plot-examples/python/stable/issues/plot.svg'"
      ]
     },
     "execution_count": 4,
     "metadata": {},
     "output_type": "execute_result"
    }
   ],
   "source": [
    "p1.to_svg('plot.svg')"
   ]
  },
  {
   "cell_type": "code",
   "execution_count": 5,
   "id": "6220a189-a5b9-46db-9d36-a1d052d8264d",
   "metadata": {},
   "outputs": [
    {
     "data": {
      "text/plain": [
       "'/Users/earkhipova/Projects/lets-plot-examples/python/stable/issues/plot.svg'"
      ]
     },
     "execution_count": 5,
     "metadata": {},
     "output_type": "execute_result"
    }
   ],
   "source": [
    "\n",
    "gggrid([p2 + geom_point(), p2 + geom_line()]).to_svg('plot.svg') \n",
    "\n",
    "# Saving ggrid to svg. Returns absolute path."
   ]
  },
  {
   "cell_type": "code",
   "execution_count": 6,
   "id": "e7262713-01d6-4d71-b9ec-a1059997e794",
   "metadata": {},
   "outputs": [
    {
     "data": {
      "text/plain": [
       "'/Users/earkhipova/Projects/lets-plot-examples/python/stable/issues/plot.html'"
      ]
     },
     "execution_count": 6,
     "metadata": {},
     "output_type": "execute_result"
    }
   ],
   "source": [
    "p1.to_html('plot.html')"
   ]
  },
  {
   "cell_type": "code",
   "execution_count": 7,
   "id": "14675180-5241-442e-884a-db5a92020176",
   "metadata": {},
   "outputs": [
    {
     "data": {
      "text/plain": [
       "'/Users/earkhipova/Projects/lets-plot-examples/python/stable/issues/plot.html'"
      ]
     },
     "execution_count": 7,
     "metadata": {},
     "output_type": "execute_result"
    }
   ],
   "source": [
    "\n",
    "gggrid([p2 + geom_point(), p2 + geom_line()]).to_html('plot.html') \n",
    "\n",
    "# Saving ggrid to html. Returns absolute path."
   ]
  },
  {
   "cell_type": "code",
   "execution_count": 8,
   "id": "1066fe1a-4f47-44b6-a73e-ec8c37628cf2",
   "metadata": {},
   "outputs": [
    {
     "data": {
      "text/plain": [
       "'/Users/earkhipova/Projects/lets-plot-examples/python/stable/issues/plot.png'"
      ]
     },
     "execution_count": 8,
     "metadata": {},
     "output_type": "execute_result"
    }
   ],
   "source": [
    "p1.to_png('plot.png')"
   ]
  },
  {
   "cell_type": "code",
   "execution_count": 9,
   "id": "7773fc53-6539-43fb-be1e-75f794be70ec",
   "metadata": {},
   "outputs": [
    {
     "data": {
      "text/plain": [
       "'/Users/earkhipova/Projects/lets-plot-examples/python/stable/issues/plot.png'"
      ]
     },
     "execution_count": 9,
     "metadata": {},
     "output_type": "execute_result"
    }
   ],
   "source": [
    "\n",
    "gggrid([p2 + geom_point(), p2 + geom_line()]).to_png('plot.png') \n",
    "\n",
    "# Saving ggrid to png. Returns absolute path."
   ]
  },
  {
   "cell_type": "code",
   "execution_count": 10,
   "id": "738e009c-5c5a-4c44-b08f-c35a29410b5d",
   "metadata": {},
   "outputs": [
    {
     "data": {
      "text/plain": [
       "'/Users/earkhipova/Projects/lets-plot-examples/python/stable/issues/plot.pdf'"
      ]
     },
     "execution_count": 10,
     "metadata": {},
     "output_type": "execute_result"
    }
   ],
   "source": [
    "p1.to_pdf('plot.pdf')"
   ]
  },
  {
   "cell_type": "code",
   "execution_count": 11,
   "id": "084d780c-232d-44e1-b3a7-05c0e8cb1722",
   "metadata": {},
   "outputs": [
    {
     "data": {
      "text/plain": [
       "'/Users/earkhipova/Projects/lets-plot-examples/python/stable/issues/plot.pdf'"
      ]
     },
     "execution_count": 11,
     "metadata": {},
     "output_type": "execute_result"
    }
   ],
   "source": [
    "\n",
    "gggrid([p2 + geom_point(), p2 + geom_line()]).to_png('plot.pdf') \n",
    "\n",
    "# Saving ggrid to pdf. Returns absolute path."
   ]
  },
  {
   "cell_type": "markdown",
   "id": "33ae32ff-29ef-4d86-9651-332819dec610",
   "metadata": {},
   "source": [
    "The path parameter is string value of path to plot.svg in current directory.\n",
    "Function output is absolute path to the created file."
   ]
  },
  {
   "cell_type": "code",
   "execution_count": 12,
   "id": "41c2b5e3-01a2-4cf7-9758-876fe9384064",
   "metadata": {},
   "outputs": [
    {
     "data": {
      "text/plain": [
       "'/Users/earkhipova/Projects/lets-plot-examples/python/stable/issues/plot.svg'"
      ]
     },
     "execution_count": 12,
     "metadata": {},
     "output_type": "execute_result"
    }
   ],
   "source": [
    "p1.to_svg('./plot.svg')"
   ]
  },
  {
   "cell_type": "code",
   "execution_count": 13,
   "id": "edbaaa9f-f6a6-4857-8b64-ecd4110b6184",
   "metadata": {},
   "outputs": [
    {
     "data": {
      "text/plain": [
       "'/Users/earkhipova/Projects/lets-plot-examples/python/stable/issues/plot.html'"
      ]
     },
     "execution_count": 13,
     "metadata": {},
     "output_type": "execute_result"
    }
   ],
   "source": [
    "p1.to_html('./plot.html')"
   ]
  },
  {
   "cell_type": "code",
   "execution_count": 14,
   "id": "e5534cb6-b592-46f0-b2bc-0c4c1de40743",
   "metadata": {},
   "outputs": [
    {
     "data": {
      "text/plain": [
       "'/Users/earkhipova/Projects/lets-plot-examples/python/stable/issues/plot.png'"
      ]
     },
     "execution_count": 14,
     "metadata": {},
     "output_type": "execute_result"
    }
   ],
   "source": [
    "p1.to_png('./plot.png')"
   ]
  },
  {
   "cell_type": "code",
   "execution_count": 15,
   "id": "c333ed2b-bbf3-4e2d-8a83-fbf2f08ef923",
   "metadata": {},
   "outputs": [
    {
     "data": {
      "text/plain": [
       "'/Users/earkhipova/Projects/lets-plot-examples/python/stable/issues/plot.pdf'"
      ]
     },
     "execution_count": 15,
     "metadata": {},
     "output_type": "execute_result"
    }
   ],
   "source": [
    "p1.to_pdf('./plot.pdf')"
   ]
  },
  {
   "cell_type": "markdown",
   "id": "7352d6c8-b875-4ad3-af8d-79ef5cf0b236",
   "metadata": {},
   "source": [
    "The path parameter is string value of path to plot.svg in parent directory.\n",
    "Function output is absolute path to the created file."
   ]
  },
  {
   "cell_type": "code",
   "execution_count": 16,
   "id": "8141a7ea-adb7-4c53-931d-76351bfefd07",
   "metadata": {},
   "outputs": [
    {
     "data": {
      "text/plain": [
       "'/Users/earkhipova/Projects/lets-plot-examples/python/stable/plot.svg'"
      ]
     },
     "execution_count": 16,
     "metadata": {},
     "output_type": "execute_result"
    }
   ],
   "source": [
    "p1.to_svg('../plot.svg')"
   ]
  },
  {
   "cell_type": "code",
   "execution_count": 17,
   "id": "0974654c-aeb6-4446-b436-3d60c6ab8dfd",
   "metadata": {},
   "outputs": [
    {
     "data": {
      "text/plain": [
       "'/Users/earkhipova/Projects/lets-plot-examples/python/stable/plot.html'"
      ]
     },
     "execution_count": 17,
     "metadata": {},
     "output_type": "execute_result"
    }
   ],
   "source": [
    "p1.to_html('../plot.html')"
   ]
  },
  {
   "cell_type": "code",
   "execution_count": 18,
   "id": "bdcbc625-d617-4f53-abae-7ae21bc9bbed",
   "metadata": {},
   "outputs": [
    {
     "data": {
      "text/plain": [
       "'/Users/earkhipova/Projects/lets-plot-examples/python/stable/plot.png'"
      ]
     },
     "execution_count": 18,
     "metadata": {},
     "output_type": "execute_result"
    }
   ],
   "source": [
    "p1.to_png('../plot.png')"
   ]
  },
  {
   "cell_type": "code",
   "execution_count": 19,
   "id": "d1cf306b-8865-46e9-98a4-40a0881945e4",
   "metadata": {},
   "outputs": [
    {
     "data": {
      "text/plain": [
       "'/Users/earkhipova/Projects/lets-plot-examples/python/stable/plot.pdf'"
      ]
     },
     "execution_count": 19,
     "metadata": {},
     "output_type": "execute_result"
    }
   ],
   "source": [
    "p1.to_pdf('../plot.pdf')"
   ]
  },
  {
   "cell_type": "markdown",
   "id": "a1827d99-a917-4191-a0a3-a9402186e4c7",
   "metadata": {},
   "source": [
    "The path parameter is a string value of the relative path to plot.svg\n",
    "Function output is absolute path to the created file."
   ]
  },
  {
   "cell_type": "code",
   "execution_count": 20,
   "id": "490b3ee1-a524-4586-a048-8165c3616eb1",
   "metadata": {},
   "outputs": [
    {
     "data": {
      "text/plain": [
       "'/Users/earkhipova/Projects/lets-plot-examples/python/stable/issues/new_folder/plot.svg'"
      ]
     },
     "execution_count": 20,
     "metadata": {},
     "output_type": "execute_result"
    }
   ],
   "source": [
    "p1.to_svg('new_folder/plot.svg')"
   ]
  },
  {
   "cell_type": "markdown",
   "id": "4dd851e7-0913-4e1d-b023-c26c390ce85c",
   "metadata": {},
   "source": [
    "The path parameter is a string value of the absolute path to plot.svg\n",
    "Function output is absolute path to the created file."
   ]
  },
  {
   "cell_type": "code",
   "execution_count": 21,
   "id": "89e1a48d-af9e-4f43-b213-83149f920183",
   "metadata": {},
   "outputs": [
    {
     "data": {
      "text/plain": [
       "'/Users/earkhipova/Projects/lets-plot-examples/python/stable/issues/D:/new_folder/plot.svg'"
      ]
     },
     "execution_count": 21,
     "metadata": {},
     "output_type": "execute_result"
    }
   ],
   "source": [
    "p1.to_svg('D:/new_folder/plot.svg')"
   ]
  },
  {
   "cell_type": "markdown",
   "id": "455b26c0-6446-4e7e-b4dd-71565914a3a1",
   "metadata": {},
   "source": [
    "Regression testing of ggsave()"
   ]
  },
  {
   "cell_type": "code",
   "execution_count": 22,
   "id": "89b8bb7e-8a21-4eed-8138-934ad0eccdb6",
   "metadata": {},
   "outputs": [
    {
     "data": {
      "text/plain": [
       "'/Users/earkhipova/Projects/lets-plot-examples/python/stable/issues/lets-plot-images/plot_ggsave.png'"
      ]
     },
     "execution_count": 22,
     "metadata": {},
     "output_type": "execute_result"
    }
   ],
   "source": [
    "ggsave(p1, 'plot_ggsave.png', path = 'foo/bar')\n",
    "ggsave(p1, 'plot_ggsave.png')"
   ]
  }
 ],
 "metadata": {
  "kernelspec": {
   "display_name": "Python 3 (ipykernel)",
   "language": "python",
   "name": "python3"
  },
  "language_info": {
   "codemirror_mode": {
    "name": "ipython",
    "version": 3
   },
   "file_extension": ".py",
   "mimetype": "text/x-python",
   "name": "python",
   "nbconvert_exporter": "python",
   "pygments_lexer": "ipython3",
   "version": "3.10.17"
  }
 },
 "nbformat": 4,
 "nbformat_minor": 5
}
