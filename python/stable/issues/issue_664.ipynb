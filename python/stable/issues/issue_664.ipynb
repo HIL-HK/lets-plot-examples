{
 "cells": [
  {
   "cell_type": "code",
   "execution_count": 1,
   "metadata": {},
   "outputs": [
    {
     "data": {
      "text/html": [
       "\n",
       "            <div id=\"dHsDxd\"></div>\n",
       "            <script type=\"text/javascript\" data-lets-plot-script=\"library\">\n",
       "                if(!window.letsPlotCallQueue) {\n",
       "                    window.letsPlotCallQueue = [];\n",
       "                }; \n",
       "                window.letsPlotCall = function(f) {\n",
       "                    window.letsPlotCallQueue.push(f);\n",
       "                };\n",
       "                (function() {\n",
       "                    var script = document.createElement(\"script\");\n",
       "                    script.type = \"text/javascript\";\n",
       "                    script.src = \"https://files.lp.hil-hk.com/artifacts/js/c0d2015a24882243305c16f3b08bd34fd07b2387/lets-plot.min.js\";\n",
       "                    script.onload = function() {\n",
       "                        window.letsPlotCall = function(f) {f();};\n",
       "                        window.letsPlotCallQueue.forEach(function(f) {f();});\n",
       "                        window.letsPlotCallQueue = [];\n",
       "                        \n",
       "                    };\n",
       "                    script.onerror = function(event) {\n",
       "                        window.letsPlotCall = function(f) {};    // noop\n",
       "                        window.letsPlotCallQueue = [];\n",
       "                        var div = document.createElement(\"div\");\n",
       "                        div.style.color = 'darkred';\n",
       "                        div.textContent = 'Error loading Lets-Plot JS';\n",
       "                        document.getElementById(\"dHsDxd\").appendChild(div);\n",
       "                    };\n",
       "                    var e = document.getElementById(\"dHsDxd\");\n",
       "                    e.appendChild(script);\n",
       "                })()\n",
       "            </script>\n",
       "            "
      ]
     },
     "metadata": {},
     "output_type": "display_data"
    }
   ],
   "source": [
    "import pandas as pd\n",
    "import geopandas as gpd\n",
    "from lets_plot import *\n",
    "LetsPlot.setup_html()"
   ]
  },
  {
   "cell_type": "markdown",
   "metadata": {},
   "source": [
    "'map_join'-variable is lost after stat is applied [CLOSED]\n",
    "\n",
    "https://github.com/JetBrains/lets-plot/issues/664\n"
   ]
  },
  {
   "cell_type": "code",
   "execution_count": 2,
   "metadata": {},
   "outputs": [],
   "source": [
    "coords = pd.DataFrame( {'City': ['A', 'B'], 'x': [-80, 80], 'y': [-40, 40]} )\n",
    "gdf = gpd.GeoDataFrame(coords, geometry=gpd.points_from_xy(coords.x, coords.y))\n",
    "\n",
    "df = {\n",
    "    \"Name\": [\"A\", \"A\", \"B\", \"B\"],\n",
    "    \"FullName\": [\"CityA\", \"CityA\", \"CityB\", \"CityB\"],\n",
    "    \"Vote\": [\"Yes\", \"No\", \"Yes\", \"No\"],\n",
    "    \"Number\": [120, 30, 20, 80 ]\n",
    "}"
   ]
  },
  {
   "cell_type": "code",
   "execution_count": 3,
   "metadata": {},
   "outputs": [
    {
     "data": {
      "text/html": [
       "   <div id=\"6XzAoF\"></div>\n",
       "   <script type=\"text/javascript\" data-lets-plot-script=\"plot\">\n",
       "   \n",
       "   (function() {\n",
       "   // ----------\n",
       "   \n",
       "   var containerDiv = document.getElementById(\"6XzAoF\");\n",
       "   var observer = new ResizeObserver(function(entries) {\n",
       "       for (let entry of entries) {\n",
       "           var width = containerDiv.clientWidth\n",
       "           if (entry.contentBoxSize && width > 0) {\n",
       "           \n",
       "               // Render plot\n",
       "               if (observer) {\n",
       "                   observer.disconnect();\n",
       "                   observer = null;\n",
       "               }\n",
       "\n",
       "               var plotSpec={\n",
       "\"mapping\":{\n",
       "},\n",
       "\"data_meta\":{\n",
       "},\n",
       "\"kind\":\"plot\",\n",
       "\"scales\":[],\n",
       "\"layers\":[{\n",
       "\"geom\":\"pie\",\n",
       "\"data\":{\n",
       "\"..x..\":[0.0,0.0,0.0,0.0],\n",
       "\"..y..\":[0.0,0.0,0.0,0.0],\n",
       "\"..count..\":[120.0,30.0,20.0,80.0],\n",
       "\"Vote\":[\"Yes\",\"No\",\"Yes\",\"No\"],\n",
       "\"Name\":[\"A\",\"A\",\"B\",\"B\"],\n",
       "\"FullName\":[\"CityA\",\"CityA\",\"CityB\",\"CityB\"]\n",
       "},\n",
       "\"mapping\":{\n",
       "\"fill\":\"Vote\",\n",
       "\"weight\":\"Number\",\n",
       "\"group\":\"FullName\"\n",
       "},\n",
       "\"data_meta\":{\n",
       "\"series_annotations\":[{\n",
       "\"type\":\"str\",\n",
       "\"column\":\"Name\"\n",
       "},{\n",
       "\"type\":\"str\",\n",
       "\"column\":\"FullName\"\n",
       "},{\n",
       "\"type\":\"str\",\n",
       "\"column\":\"Vote\"\n",
       "},{\n",
       "\"type\":\"int\",\n",
       "\"column\":\"Number\"\n",
       "}]\n",
       "},\n",
       "\"map\":{\n",
       "\"City\":[\"A\",\"B\"],\n",
       "\"x\":[-80.0,80.0],\n",
       "\"y\":[-40.0,40.0],\n",
       "\"geometry\":[\"{\\\"type\\\": \\\"Point\\\", \\\"coordinates\\\": [-80.0, -40.0]}\",\"{\\\"type\\\": \\\"Point\\\", \\\"coordinates\\\": [80.0, 40.0]}\"]\n",
       "},\n",
       "\"map_join\":[[\"Name\"],[\"City\"]],\n",
       "\"map_data_meta\":{\n",
       "\"geodataframe\":{\n",
       "\"geometry\":\"geometry\"\n",
       "}\n",
       "}\n",
       "}],\n",
       "\"metainfo_list\":[],\n",
       "\"spec_id\":\"1\"\n",
       "};\n",
       "               window.letsPlotCall(function() {\n",
       "       \n",
       "               var toolbar = null;\n",
       "               var plotContainer = containerDiv;               \n",
       "               \n",
       "                   var options = {\n",
       "                       sizing: {\n",
       "                           width_mode: \"min\",\n",
       "                           height_mode: \"scaled\",\n",
       "                           width: width\n",
       "                       }\n",
       "                   };\n",
       "                   var fig = LetsPlot.buildPlotFromProcessedSpecs(plotSpec, -1, -1, plotContainer, options);\n",
       "                   if (toolbar) {\n",
       "                     toolbar.bind(fig);\n",
       "                   }\n",
       "               });\n",
       "               \n",
       "               break;\n",
       "           }\n",
       "       }\n",
       "   });\n",
       "   \n",
       "   observer.observe(containerDiv);\n",
       "   \n",
       "   // ----------\n",
       "   })();\n",
       "   \n",
       "   </script>"
      ],
      "text/plain": [
       "<lets_plot.plot.core.PlotSpec at 0x7fbbce375c90>"
      ]
     },
     "execution_count": 3,
     "metadata": {},
     "output_type": "execute_result"
    }
   ],
   "source": [
    "ggplot() + geom_pie(aes(fill='Vote', weight='Number', group='FullName'), \n",
    "                    data=df, map=gdf, map_join=['Name','City'])"
   ]
  }
 ],
 "metadata": {
  "kernelspec": {
   "display_name": "Python [conda env:master]",
   "language": "python",
   "name": "conda-env-master-py"
  },
  "language_info": {
   "codemirror_mode": {
    "name": "ipython",
    "version": 3
   },
   "file_extension": ".py",
   "mimetype": "text/x-python",
   "name": "python",
   "nbconvert_exporter": "python",
   "pygments_lexer": "ipython3",
   "version": "3.11.10"
  }
 },
 "nbformat": 4,
 "nbformat_minor": 4
}
