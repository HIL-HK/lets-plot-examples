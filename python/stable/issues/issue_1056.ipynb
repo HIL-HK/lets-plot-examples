{
 "cells": [
  {
   "cell_type": "markdown",
   "id": "4d6d48c7-c743-4d5a-bc8f-947ed335b5e0",
   "metadata": {},
   "source": [
    "Livemap: `geom_hline()` and `geom_vline()` don't have tooltips on livemap\n",
    "\n",
    "https://github.com/JetBrains/lets-plot/issues/1056"
   ]
  },
  {
   "cell_type": "code",
   "execution_count": null,
   "id": "bibliographic-beijing",
   "metadata": {},
   "outputs": [],
   "source": [
    "import pandas as pd\n",
    "from lets_plot import *"
   ]
  },
  {
   "cell_type": "code",
   "execution_count": null,
   "id": "controversial-square",
   "metadata": {},
   "outputs": [],
   "source": [
    "LetsPlot.setup_html()"
   ]
  },
  {
   "cell_type": "code",
   "execution_count": null,
   "id": "silent-senator",
   "metadata": {},
   "outputs": [],
   "source": [
    "ggplot() + geom_livemap(location=[0, 0], zoom=1) + \\\n",
    "    geom_hline(yintercept=0, size=1, color=\"red\")"
   ]
  }
 ],
 "metadata": {
  "kernelspec": {
   "display_name": "Python 3 (ipykernel)",
   "language": "python",
   "name": "python3"
  },
  "language_info": {
   "codemirror_mode": {
    "name": "ipython",
    "version": 3
   },
   "file_extension": ".py",
   "mimetype": "text/x-python",
   "name": "python",
   "nbconvert_exporter": "python",
   "pygments_lexer": "ipython3",
   "version": "3.10.18"
  }
 },
 "nbformat": 4,
 "nbformat_minor": 5
}
