{
 "cells": [
  {
   "cell_type": "code",
   "execution_count": 1,
   "id": "f007b72e-5636-41ff-ab1a-fc301fb5cb28",
   "metadata": {},
   "outputs": [
    {
     "ename": "ModuleNotFoundError",
     "evalue": "No module named 'polars'",
     "output_type": "error",
     "traceback": [
      "\u001b[0;31m---------------------------------------------------------------------------\u001b[0m",
      "\u001b[0;31mModuleNotFoundError\u001b[0m                       Traceback (most recent call last)",
      "Cell \u001b[0;32mIn[1], line 3\u001b[0m\n\u001b[1;32m      1\u001b[0m \u001b[38;5;28;01mimport\u001b[39;00m \u001b[38;5;21;01mnumpy\u001b[39;00m \u001b[38;5;28;01mas\u001b[39;00m \u001b[38;5;21;01mnp\u001b[39;00m\n\u001b[1;32m      2\u001b[0m \u001b[38;5;28;01mfrom\u001b[39;00m \u001b[38;5;21;01mlets_plot\u001b[39;00m \u001b[38;5;28;01mimport\u001b[39;00m \u001b[38;5;241m*\u001b[39m\n\u001b[0;32m----> 3\u001b[0m \u001b[38;5;28;01mimport\u001b[39;00m \u001b[38;5;21;01mpolars\u001b[39;00m \u001b[38;5;28;01mas\u001b[39;00m \u001b[38;5;21;01mpl\u001b[39;00m\n\u001b[1;32m      5\u001b[0m LetsPlot\u001b[38;5;241m.\u001b[39msetup_html()\n",
      "\u001b[0;31mModuleNotFoundError\u001b[0m: No module named 'polars'"
     ]
    }
   ],
   "source": [
    "import numpy as np\n",
    "from lets_plot import *\n",
    "import polars as pl\n",
    "\n",
    "LetsPlot.setup_html()"
   ]
  },
  {
   "cell_type": "markdown",
   "id": "7d0b433f-8448-41d9-9274-adf644aa4ec0",
   "metadata": {},
   "source": [
    "How to properly apply y limits on the entire plot in a stacked bar plot\n",
    "\n",
    "https://github.com/JetBrains/lets-plot/issues/978"
   ]
  },
  {
   "cell_type": "code",
   "execution_count": null,
   "id": "68d3d8be-e527-4bbc-a311-8f8f9a11e6bf",
   "metadata": {},
   "outputs": [],
   "source": [
    "\n",
    "data = np.array([['total_revenue', 137576.4, 0],\n",
    "       ['non-offer_revenue', 136261.41, 1],\n",
    "       ['offer_revenue', 1314.99, 1],\n",
    "       ['non-offer_revenue', 136261.41, 2],\n",
    "       ['baseline_revenue', 24.81, 2],\n",
    "       ['incremental_sales', 1290.18, 2]])\n",
    "df = pl.DataFrame(data, schema={'sales_type': str, 'sales_value': float, 'index': int})"
   ]
  },
  {
   "cell_type": "code",
   "execution_count": null,
   "id": "5be2515d-b0ef-445e-9bf5-ca1e3fd620a3",
   "metadata": {},
   "outputs": [],
   "source": [
    "(ggplot(df) \n",
    " + geom_bar(aes(x='index', fill='sales_type', y='sales_value'), stat='identity',\n",
    "            tooltips=layer_tooltips(['sales_value']).title('^fill'),\n",
    "            labels=layer_labels(['sales_value'])\n",
    "            )\n",
    "+ theme(title=element_text(face='bold'), axis_title='blank', axis_ticks='blank', axis_text_x='blank')\n",
    "+ labs(title='Offer Sales Decomposition', fill='Sales Type:')\n",
    "+ ylim(120000, 138000) \n",
    ")"
   ]
  },
  {
   "cell_type": "code",
   "execution_count": null,
   "id": "e75dcf2b-dbaa-4b0c-8b35-9ff9a5f09f65",
   "metadata": {},
   "outputs": [],
   "source": [
    "(ggplot(df) \n",
    " + geom_bar(aes(x='index', fill='sales_type', y='sales_value'), stat='identity',\n",
    "            tooltips=layer_tooltips(['sales_value']).title('^fill'),\n",
    "            labels=layer_labels(['sales_value'])\n",
    "            )\n",
    "+ theme(title=element_text(face='bold'), axis_title='blank', axis_ticks='blank', axis_text_x='blank')\n",
    "+ labs(title='Offer Sales Decomposition', fill='Sales Type:')\n",
    ")"
   ]
  }
 ],
 "metadata": {
  "kernelspec": {
   "display_name": "Python [conda env:master]",
   "language": "python",
   "name": "conda-env-master-py"
  },
  "language_info": {
   "codemirror_mode": {
    "name": "ipython",
    "version": 3
   },
   "file_extension": ".py",
   "mimetype": "text/x-python",
   "name": "python",
   "nbconvert_exporter": "python",
   "pygments_lexer": "ipython3",
   "version": "3.11.10"
  }
 },
 "nbformat": 4,
 "nbformat_minor": 5
}
