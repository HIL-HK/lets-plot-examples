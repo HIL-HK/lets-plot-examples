{
 "cells": [
  {
   "cell_type": "markdown",
   "id": "7be6d302-5ebf-4388-8204-fa05bd111ad3",
   "metadata": {},
   "source": [
    "Improve how Jax array is handled [CLOSED]\n",
    "\n",
    "https://github.com/JetBrains/lets-plot/issues/1136"
   ]
  },
  {
   "cell_type": "code",
   "execution_count": 1,
   "id": "ca95d315-2cf6-461b-9b53-eb33808ed8f9",
   "metadata": {},
   "outputs": [
    {
     "name": "stdout",
     "output_type": "stream",
     "text": [
      "/bin/bash: warning: setlocale: LC_ALL: cannot change locale (en_US.UTF-8)\n",
      "Defaulting to user installation because normal site-packages is not writeable\n",
      "Requirement already satisfied: jax in /home/earkhipova/.local/lib/python3.11/site-packages (0.4.35)\n",
      "Requirement already satisfied: jaxlib<=0.4.35,>=0.4.34 in /home/earkhipova/.local/lib/python3.11/site-packages (from jax) (0.4.35)\n",
      "Requirement already satisfied: ml-dtypes>=0.4.0 in /home/earkhipova/.local/lib/python3.11/site-packages (from jax) (0.5.0)\n",
      "Requirement already satisfied: numpy>=1.24 in /opt/conda/envs/master/lib/python3.11/site-packages (from jax) (2.1.3)\n",
      "Requirement already satisfied: opt-einsum in /home/earkhipova/.local/lib/python3.11/site-packages (from jax) (3.4.0)\n",
      "Requirement already satisfied: scipy>=1.10 in /opt/conda/envs/master/lib/python3.11/site-packages (from jax) (1.14.1)\n"
     ]
    },
    {
     "data": {
      "text/html": [
       "\n",
       "            <div id=\"9Z2KL4\"></div>\n",
       "            <script type=\"text/javascript\" data-lets-plot-script=\"library\">\n",
       "                if(!window.letsPlotCallQueue) {\n",
       "                    window.letsPlotCallQueue = [];\n",
       "                }; \n",
       "                window.letsPlotCall = function(f) {\n",
       "                    window.letsPlotCallQueue.push(f);\n",
       "                };\n",
       "                (function() {\n",
       "                    var script = document.createElement(\"script\");\n",
       "                    script.type = \"text/javascript\";\n",
       "                    script.src = \"https://files.lp.hil-hk.com/artifacts/js/b1b7450b950074bd3a02cde85664d56541d0e12a/lets-plot.min.js\";\n",
       "                    script.onload = function() {\n",
       "                        window.letsPlotCall = function(f) {f();};\n",
       "                        window.letsPlotCallQueue.forEach(function(f) {f();});\n",
       "                        window.letsPlotCallQueue = [];\n",
       "                        \n",
       "                    };\n",
       "                    script.onerror = function(event) {\n",
       "                        window.letsPlotCall = function(f) {};    // noop\n",
       "                        window.letsPlotCallQueue = [];\n",
       "                        var div = document.createElement(\"div\");\n",
       "                        div.style.color = 'darkred';\n",
       "                        div.textContent = 'Error loading Lets-Plot JS';\n",
       "                        document.getElementById(\"9Z2KL4\").appendChild(div);\n",
       "                    };\n",
       "                    var e = document.getElementById(\"9Z2KL4\");\n",
       "                    e.appendChild(script);\n",
       "                })()\n",
       "            </script>\n",
       "            "
      ]
     },
     "metadata": {},
     "output_type": "display_data"
    }
   ],
   "source": [
    "!pip install jax\n",
    "\n",
    "import jax.numpy as jnp\n",
    "import lets_plot as lp\n",
    "import numpy\n",
    "\n",
    "lp.LetsPlot.setup_html()"
   ]
  },
  {
   "cell_type": "code",
   "execution_count": 2,
   "id": "8ff38017-7ff1-41e8-aaa0-ad269f09cbdd",
   "metadata": {},
   "outputs": [
    {
     "data": {
      "text/html": [
       "   <div id=\"2FFToQ\"></div>\n",
       "   <script type=\"text/javascript\" data-lets-plot-script=\"plot\">\n",
       "   \n",
       "   (function() {\n",
       "   // ----------\n",
       "   \n",
       "   var containerDiv = document.getElementById(\"2FFToQ\");\n",
       "   var observer = new ResizeObserver(function(entries) {\n",
       "       for (let entry of entries) {\n",
       "           var width = containerDiv.clientWidth\n",
       "           if (entry.contentBoxSize && width > 0) {\n",
       "           \n",
       "               // Render plot\n",
       "               if (observer) {\n",
       "                   observer.disconnect();\n",
       "                   observer = null;\n",
       "               }\n",
       "\n",
       "               var plotSpec={\n",
       "\"data\":{\n",
       "\"x\":[0.0,1.0,2.0,3.0,4.0,5.0,6.0,7.0,8.0,9.0],\n",
       "\"y\":[0.0,1.0,2.0,3.0,4.0,5.0,6.0,7.0,8.0,9.0]\n",
       "},\n",
       "\"mapping\":{\n",
       "\"x\":\"x\",\n",
       "\"y\":\"y\"\n",
       "},\n",
       "\"data_meta\":{\n",
       "\"series_annotations\":[{\n",
       "\"type\":\"unknown(python:<class 'jaxlib.xla_extension.ArrayImpl'>)\",\n",
       "\"column\":\"x\"\n",
       "},{\n",
       "\"type\":\"int\",\n",
       "\"column\":\"y\"\n",
       "}]\n",
       "},\n",
       "\"kind\":\"plot\",\n",
       "\"scales\":[],\n",
       "\"layers\":[{\n",
       "\"geom\":\"line\",\n",
       "\"mapping\":{\n",
       "},\n",
       "\"data_meta\":{\n",
       "},\n",
       "\"data\":{\n",
       "}\n",
       "}],\n",
       "\"metainfo_list\":[],\n",
       "\"spec_id\":\"1\"\n",
       "};\n",
       "               window.letsPlotCall(function() {\n",
       "       \n",
       "               var toolbar = null;\n",
       "               var plotContainer = containerDiv;               \n",
       "               \n",
       "                   var options = {\n",
       "                       sizing: {\n",
       "                           width_mode: \"min\",\n",
       "                           height_mode: \"scaled\",\n",
       "                           width: width\n",
       "                       }\n",
       "                   };\n",
       "                   var fig = LetsPlot.buildPlotFromProcessedSpecs(plotSpec, -1, -1, plotContainer, options);\n",
       "                   if (toolbar) {\n",
       "                     toolbar.bind(fig);\n",
       "                   }\n",
       "               });\n",
       "               \n",
       "               break;\n",
       "           }\n",
       "       }\n",
       "   });\n",
       "   \n",
       "   observer.observe(containerDiv);\n",
       "   \n",
       "   // ----------\n",
       "   })();\n",
       "   \n",
       "   </script>"
      ]
     },
     "metadata": {},
     "output_type": "display_data"
    }
   ],
   "source": [
    "(\n",
    "    lp.ggplot(\n",
    "        {\"x\": list(jnp.arange(0, 10)), \"y\": numpy.arange(0, 10)},\n",
    "        lp.aes(x=\"x\", y=\"y\"),\n",
    "    )\n",
    "\n",
    "\n",
    "    + lp.geom_line()\n",
    ").show()\n",
    "\n",
    "# y axis is the expected behavior with numpy\n",
    "# x axis is the behavior when used with jax\n",
    "# (jax: https://jax.readthedocs.io/en/latest/index.html)"
   ]
  }
 ],
 "metadata": {
  "kernelspec": {
   "display_name": "Python [conda env:master]",
   "language": "python",
   "name": "conda-env-master-py"
  },
  "language_info": {
   "codemirror_mode": {
    "name": "ipython",
    "version": 3
   },
   "file_extension": ".py",
   "mimetype": "text/x-python",
   "name": "python",
   "nbconvert_exporter": "python",
   "pygments_lexer": "ipython3",
   "version": "3.11.10"
  }
 },
 "nbformat": 4,
 "nbformat_minor": 5
}
