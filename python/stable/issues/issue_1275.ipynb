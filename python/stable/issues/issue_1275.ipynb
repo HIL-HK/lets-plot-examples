{
 "cells": [
  {
   "cell_type": "code",
   "execution_count": null,
   "id": "6c5f86eb-b476-470b-a43c-2ccad69b2ef9",
   "metadata": {},
   "outputs": [],
   "source": [
    "from lets_plot import *\n",
    "LetsPlot.setup_html()"
   ]
  },
  {
   "cell_type": "markdown",
   "id": "3b0f3fc3-cd4c-4a12-ac16-e67650d97ee5",
   "metadata": {},
   "source": [
    "Tooltip should not cover and hide the geometry that it provides info for. \n",
    "\n",
    "https://github.com/JetBrains/lets-plot/issues/1275 [closed]"
   ]
  },
  {
   "cell_type": "code",
   "execution_count": null,
   "id": "481f4fa5-25cf-4792-9258-6f3a340aa6df",
   "metadata": {},
   "outputs": [],
   "source": [
    "ggplot() \\\n",
    "    + geom_point(x=10, y=10, tooltips=layer_tooltips().line('foo\\nbar\\nbaz')) \\\n",
    "    + ylim(0, 10)"
   ]
  },
  {
   "cell_type": "code",
   "execution_count": null,
   "id": "e2bc521e-bb94-4884-b0bf-e5192a3aacdc",
   "metadata": {},
   "outputs": [],
   "source": [
    "ggplot() \\\n",
    "    + geom_point(x=10, y=10, size=10, tooltips=layer_tooltips().line('foo\\nbar\\nbaz')) \\\n",
    "    + geom_point(x=10, y=5, size=4, tooltips=layer_tooltips().line('foo\\nbar\\nbaz')) \\\n",
    "    + ylim(0, 10)"
   ]
  }
 ],
 "metadata": {
  "kernelspec": {
   "display_name": "Python [conda env:master]",
   "language": "python",
   "name": "conda-env-master-py"
  },
  "language_info": {
   "codemirror_mode": {
    "name": "ipython",
    "version": 3
   },
   "file_extension": ".py",
   "mimetype": "text/x-python",
   "name": "python",
   "nbconvert_exporter": "python",
   "pygments_lexer": "ipython3",
   "version": "3.11.11"
  }
 },
 "nbformat": 4,
 "nbformat_minor": 5
}
