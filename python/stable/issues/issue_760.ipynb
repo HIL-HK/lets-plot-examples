{
 "cells": [
  {
   "cell_type": "code",
   "execution_count": 1,
   "metadata": {},
   "outputs": [
    {
     "data": {
      "text/html": [
       "\n",
       "            <div id=\"r1B87n\"></div>\n",
       "            <script type=\"text/javascript\" data-lets-plot-script=\"library\">\n",
       "                if(!window.letsPlotCallQueue) {\n",
       "                    window.letsPlotCallQueue = [];\n",
       "                }; \n",
       "                window.letsPlotCall = function(f) {\n",
       "                    window.letsPlotCallQueue.push(f);\n",
       "                };\n",
       "                (function() {\n",
       "                    var script = document.createElement(\"script\");\n",
       "                    script.type = \"text/javascript\";\n",
       "                    script.src = \"https://files.lp.hil-hk.com/artifacts/js/c0d2015a24882243305c16f3b08bd34fd07b2387/lets-plot.min.js\";\n",
       "                    script.onload = function() {\n",
       "                        window.letsPlotCall = function(f) {f();};\n",
       "                        window.letsPlotCallQueue.forEach(function(f) {f();});\n",
       "                        window.letsPlotCallQueue = [];\n",
       "                        \n",
       "                    };\n",
       "                    script.onerror = function(event) {\n",
       "                        window.letsPlotCall = function(f) {};    // noop\n",
       "                        window.letsPlotCallQueue = [];\n",
       "                        var div = document.createElement(\"div\");\n",
       "                        div.style.color = 'darkred';\n",
       "                        div.textContent = 'Error loading Lets-Plot JS';\n",
       "                        document.getElementById(\"r1B87n\").appendChild(div);\n",
       "                    };\n",
       "                    var e = document.getElementById(\"r1B87n\");\n",
       "                    e.appendChild(script);\n",
       "                })()\n",
       "            </script>\n",
       "            "
      ]
     },
     "metadata": {},
     "output_type": "display_data"
    }
   ],
   "source": [
    "from lets_plot import *\n",
    "LetsPlot.setup_html()"
   ]
  },
  {
   "cell_type": "markdown",
   "metadata": {},
   "source": [
    "`ggmarginal()`: broken coloring [CLOSED]\n",
    "\n",
    "https://github.com/JetBrains/lets-plot/issues/760\n"
   ]
  },
  {
   "cell_type": "code",
   "execution_count": 2,
   "metadata": {},
   "outputs": [],
   "source": [
    "data = {\n",
    "    'x': [0, 1, 1, 1],\n",
    "    'y': [0, 1, 2, 2],\n",
    "}"
   ]
  },
  {
   "cell_type": "code",
   "execution_count": 3,
   "metadata": {
    "tags": []
   },
   "outputs": [
    {
     "data": {
      "text/html": [
       "   <div id=\"u8xnNg\"></div>\n",
       "   <script type=\"text/javascript\" data-lets-plot-script=\"plot\">\n",
       "   \n",
       "   (function() {\n",
       "   // ----------\n",
       "   \n",
       "   var containerDiv = document.getElementById(\"u8xnNg\");\n",
       "   var observer = new ResizeObserver(function(entries) {\n",
       "       for (let entry of entries) {\n",
       "           var width = containerDiv.clientWidth\n",
       "           if (entry.contentBoxSize && width > 0) {\n",
       "           \n",
       "               // Render plot\n",
       "               if (observer) {\n",
       "                   observer.disconnect();\n",
       "                   observer = null;\n",
       "               }\n",
       "\n",
       "               var plotSpec={\n",
       "\"data\":{\n",
       "},\n",
       "\"mapping\":{\n",
       "\"x\":\"x\",\n",
       "\"y\":\"y\"\n",
       "},\n",
       "\"data_meta\":{\n",
       "\"series_annotations\":[{\n",
       "\"type\":\"int\",\n",
       "\"column\":\"x\"\n",
       "},{\n",
       "\"type\":\"int\",\n",
       "\"column\":\"y\"\n",
       "}]\n",
       "},\n",
       "\"kind\":\"plot\",\n",
       "\"scales\":[],\n",
       "\"layers\":[{\n",
       "\"geom\":\"bin2d\",\n",
       "\"mapping\":{\n",
       "},\n",
       "\"data_meta\":{\n",
       "},\n",
       "\"data\":{\n",
       "\"..count..\":[1.0,1.0,2.0],\n",
       "\"x\":[5.555555555555522E-4,0.9994444444444442,0.9994444444444442],\n",
       "\"y\":[0.0011111111111111044,1.0344444444444443,1.9988888888888885]\n",
       "}\n",
       "},{\n",
       "\"geom\":\"point\",\n",
       "\"stat\":\"count\",\n",
       "\"mapping\":{\n",
       "\"color\":\"..count..\"\n",
       "},\n",
       "\"data_meta\":{\n",
       "},\n",
       "\"size\":10.0,\n",
       "\"marginal\":true,\n",
       "\"margin_side\":\"t\",\n",
       "\"data\":{\n",
       "\"..count..\":[1.0,3.0],\n",
       "\"x\":[0.0,1.0],\n",
       "\"y\":[1.0,3.0]\n",
       "}\n",
       "},{\n",
       "\"geom\":\"point\",\n",
       "\"stat\":\"count\",\n",
       "\"mapping\":{\n",
       "\"color\":\"..count..\"\n",
       "},\n",
       "\"data_meta\":{\n",
       "},\n",
       "\"size\":10.0,\n",
       "\"orientation\":\"y\",\n",
       "\"marginal\":true,\n",
       "\"margin_side\":\"r\",\n",
       "\"data\":{\n",
       "\"..count..\":[1.0,1.0,2.0],\n",
       "\"y\":[0.0,1.0,2.0],\n",
       "\"x\":[1.0,1.0,2.0]\n",
       "}\n",
       "}],\n",
       "\"metainfo_list\":[],\n",
       "\"spec_id\":\"1\"\n",
       "};\n",
       "               window.letsPlotCall(function() {\n",
       "       \n",
       "               var toolbar = null;\n",
       "               var plotContainer = containerDiv;               \n",
       "               \n",
       "                   var options = {\n",
       "                       sizing: {\n",
       "                           width_mode: \"min\",\n",
       "                           height_mode: \"scaled\",\n",
       "                           width: width\n",
       "                       }\n",
       "                   };\n",
       "                   var fig = LetsPlot.buildPlotFromProcessedSpecs(plotSpec, -1, -1, plotContainer, options);\n",
       "                   if (toolbar) {\n",
       "                     toolbar.bind(fig);\n",
       "                   }\n",
       "               });\n",
       "               \n",
       "               break;\n",
       "           }\n",
       "       }\n",
       "   });\n",
       "   \n",
       "   observer.observe(containerDiv);\n",
       "   \n",
       "   // ----------\n",
       "   })();\n",
       "   \n",
       "   </script>"
      ],
      "text/plain": [
       "<lets_plot.plot.core.PlotSpec at 0x7fc149c40fd0>"
      ]
     },
     "execution_count": 3,
     "metadata": {},
     "output_type": "execute_result"
    }
   ],
   "source": [
    "ggplot(data, aes(\"x\", \"y\")) + \\\n",
    "    geom_bin2d() + \\\n",
    "    ggmarginal(\"t\", layer=geom_point(aes(color='..count..'), stat='count', size=10)) + \\\n",
    "    ggmarginal(\"r\", layer=geom_point(aes(color='..count..'), stat='count', size=10, orientation='y'))"
   ]
  }
 ],
 "metadata": {
  "kernelspec": {
   "display_name": "Python [conda env:master]",
   "language": "python",
   "name": "conda-env-master-py"
  },
  "language_info": {
   "codemirror_mode": {
    "name": "ipython",
    "version": 3
   },
   "file_extension": ".py",
   "mimetype": "text/x-python",
   "name": "python",
   "nbconvert_exporter": "python",
   "pygments_lexer": "ipython3",
   "version": "3.11.10"
  }
 },
 "nbformat": 4,
 "nbformat_minor": 4
}
