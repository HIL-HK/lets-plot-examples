{
 "cells": [
  {
   "cell_type": "code",
   "execution_count": 1,
   "id": "298c2ed7-78b5-4d22-9690-79fb1151b81a",
   "metadata": {
    "execution": {
     "iopub.execute_input": "2024-09-27T18:07:03.877420Z",
     "iopub.status.busy": "2024-09-27T18:07:03.876977Z",
     "iopub.status.idle": "2024-09-27T18:07:04.293276Z",
     "shell.execute_reply": "2024-09-27T18:07:04.292911Z"
    }
   },
   "outputs": [],
   "source": [
    "import numpy as np\n",
    "\n",
    "from lets_plot import *"
   ]
  },
  {
   "cell_type": "code",
   "execution_count": 2,
   "id": "a2a70a05-9b7e-41bb-ad29-d412e8213ff2",
   "metadata": {
    "execution": {
     "iopub.execute_input": "2024-09-27T18:07:04.294657Z",
     "iopub.status.busy": "2024-09-27T18:07:04.294543Z",
     "iopub.status.idle": "2024-09-27T18:07:04.296729Z",
     "shell.execute_reply": "2024-09-27T18:07:04.296528Z"
    }
   },
   "outputs": [
    {
     "data": {
      "text/html": [
       "\n",
       "            <div id=\"UWFwm8\"></div>\n",
       "            <script type=\"text/javascript\" data-lets-plot-script=\"library\">\n",
       "                if(!window.letsPlotCallQueue) {\n",
       "                    window.letsPlotCallQueue = [];\n",
       "                }; \n",
       "                window.letsPlotCall = function(f) {\n",
       "                    window.letsPlotCallQueue.push(f);\n",
       "                };\n",
       "                (function() {\n",
       "                    var script = document.createElement(\"script\");\n",
       "                    script.type = \"text/javascript\";\n",
       "                    script.src = \"https://cdn.jsdelivr.net/gh/JetBrains/lets-plot@v4.4.1/js-package/distr/lets-plot.min.js\";\n",
       "                    script.onload = function() {\n",
       "                        window.letsPlotCall = function(f) {f();};\n",
       "                        window.letsPlotCallQueue.forEach(function(f) {f();});\n",
       "                        window.letsPlotCallQueue = [];\n",
       "                        \n",
       "                    };\n",
       "                    script.onerror = function(event) {\n",
       "                        window.letsPlotCall = function(f) {};    // noop\n",
       "                        window.letsPlotCallQueue = [];\n",
       "                        var div = document.createElement(\"div\");\n",
       "                        div.style.color = 'darkred';\n",
       "                        div.textContent = 'Error loading Lets-Plot JS';\n",
       "                        document.getElementById(\"UWFwm8\").appendChild(div);\n",
       "                    };\n",
       "                    var e = document.getElementById(\"UWFwm8\");\n",
       "                    e.appendChild(script);\n",
       "                })()\n",
       "            </script>\n",
       "            "
      ]
     },
     "metadata": {},
     "output_type": "display_data"
    }
   ],
   "source": [
    "LetsPlot.setup_html()"
   ]
  },
  {
   "cell_type": "code",
   "execution_count": 3,
   "id": "22bd5f4f-549f-4c78-baef-84a034e7260b",
   "metadata": {
    "execution": {
     "iopub.execute_input": "2024-09-27T18:07:04.297735Z",
     "iopub.status.busy": "2024-09-27T18:07:04.297664Z",
     "iopub.status.idle": "2024-09-27T18:07:04.299254Z",
     "shell.execute_reply": "2024-09-27T18:07:04.299046Z"
    }
   },
   "outputs": [],
   "source": [
    "np.random.seed(42)"
   ]
  },
  {
   "cell_type": "code",
   "execution_count": 4,
   "id": "ca9c0aff-258b-437f-ae87-30f5262af66a",
   "metadata": {
    "execution": {
     "iopub.execute_input": "2024-09-27T18:07:04.300267Z",
     "iopub.status.busy": "2024-09-27T18:07:04.300198Z",
     "iopub.status.idle": "2024-09-27T18:07:04.328550Z",
     "shell.execute_reply": "2024-09-27T18:07:04.328321Z"
    }
   },
   "outputs": [
    {
     "data": {
      "text/html": [
       "   <div id=\"7NnFO6\"></div>\n",
       "   <script type=\"text/javascript\" data-lets-plot-script=\"plot\">\n",
       "       (function() {\n",
       "           var plotSpec={\n",
       "\"mapping\":{\n",
       "\"x\":\"x\"\n",
       "},\n",
       "\"data_meta\":{\n",
       "},\n",
       "\"kind\":\"plot\",\n",
       "\"scales\":[{\n",
       "\"aesthetic\":\"y\",\n",
       "\"trans\":\"log2\"\n",
       "}],\n",
       "\"layers\":[{\n",
       "\"geom\":\"histogram\",\n",
       "\"mapping\":{\n",
       "},\n",
       "\"data_meta\":{\n",
       "},\n",
       "\"data\":{\n",
       "\"..count..\":[49.0,0.0,0.0,0.0,0.0,0.0,32.0,0.0,0.0,0.0,0.0,0.0,12.0,0.0,0.0,0.0,0.0,5.0,0.0,0.0,0.0,0.0,0.0,1.0,0.0,0.0,0.0,0.0,0.0,1.0],\n",
       "\"x\":[-0.029444444444444426,0.14500000000000002,0.3194444444444445,0.493888888888889,0.6683333333333334,0.8427777777777778,1.0172222222222225,1.1916666666666669,1.3661111111111113,1.5405555555555557,1.715,1.8894444444444447,2.063888888888889,2.2383333333333333,2.412777777777778,2.587222222222222,2.7616666666666667,2.9361111111111113,3.1105555555555555,3.285,3.4594444444444443,3.633888888888889,3.8083333333333336,3.9827777777777778,4.157222222222223,4.331666666666667,4.506111111111111,4.680555555555555,4.855,5.029444444444445]\n",
       "}\n",
       "}],\n",
       "\"metainfo_list\":[],\n",
       "\"data\":{\n",
       "}\n",
       "};\n",
       "           var plotContainer = document.getElementById(\"7NnFO6\");\n",
       "           window.letsPlotCall(function() {{\n",
       "               LetsPlot.buildPlotFromProcessedSpecs(plotSpec, -1, -1, plotContainer);\n",
       "           }});\n",
       "       })();\n",
       "   </script>"
      ],
      "text/plain": [
       "<lets_plot.plot.core.PlotSpec at 0x136d7f820>"
      ]
     },
     "execution_count": 4,
     "metadata": {},
     "output_type": "execute_result"
    }
   ],
   "source": [
    "ggplot(mapping=aes(x=np.random.poisson(size=100))) + geom_histogram() + scale_y_log2()"
   ]
  }
 ],
 "metadata": {
  "kernelspec": {
   "display_name": "Python 3 (ipykernel)",
   "language": "python",
   "name": "python3"
  },
  "language_info": {
   "codemirror_mode": {
    "name": "ipython",
    "version": 3
   },
   "file_extension": ".py",
   "mimetype": "text/x-python",
   "name": "python",
   "nbconvert_exporter": "python",
   "pygments_lexer": "ipython3",
   "version": "3.10.15"
  }
 },
 "nbformat": 4,
 "nbformat_minor": 5
}
