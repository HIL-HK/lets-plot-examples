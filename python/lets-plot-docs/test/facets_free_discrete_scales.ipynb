{
 "cells": [
  {
   "cell_type": "code",
   "execution_count": 1,
   "id": "f2a9d691",
   "metadata": {
    "execution": {
     "iopub.execute_input": "2024-09-27T18:07:12.927514Z",
     "iopub.status.busy": "2024-09-27T18:07:12.927191Z",
     "iopub.status.idle": "2024-09-27T18:07:13.352778Z",
     "shell.execute_reply": "2024-09-27T18:07:13.352448Z"
    }
   },
   "outputs": [],
   "source": [
    "import pandas as pd\n",
    "from lets_plot import *\n"
   ]
  },
  {
   "cell_type": "code",
   "execution_count": 2,
   "id": "632b5308",
   "metadata": {
    "execution": {
     "iopub.execute_input": "2024-09-27T18:07:13.354107Z",
     "iopub.status.busy": "2024-09-27T18:07:13.353992Z",
     "iopub.status.idle": "2024-09-27T18:07:13.356242Z",
     "shell.execute_reply": "2024-09-27T18:07:13.356021Z"
    }
   },
   "outputs": [
    {
     "data": {
      "text/html": [
       "\n",
       "            <div id=\"F2lo7o\"></div>\n",
       "            <script type=\"text/javascript\" data-lets-plot-script=\"library\">\n",
       "                if(!window.letsPlotCallQueue) {\n",
       "                    window.letsPlotCallQueue = [];\n",
       "                }; \n",
       "                window.letsPlotCall = function(f) {\n",
       "                    window.letsPlotCallQueue.push(f);\n",
       "                };\n",
       "                (function() {\n",
       "                    var script = document.createElement(\"script\");\n",
       "                    script.type = \"text/javascript\";\n",
       "                    script.src = \"https://cdn.jsdelivr.net/gh/JetBrains/lets-plot@v4.4.1/js-package/distr/lets-plot.min.js\";\n",
       "                    script.onload = function() {\n",
       "                        window.letsPlotCall = function(f) {f();};\n",
       "                        window.letsPlotCallQueue.forEach(function(f) {f();});\n",
       "                        window.letsPlotCallQueue = [];\n",
       "                        \n",
       "                    };\n",
       "                    script.onerror = function(event) {\n",
       "                        window.letsPlotCall = function(f) {};    // noop\n",
       "                        window.letsPlotCallQueue = [];\n",
       "                        var div = document.createElement(\"div\");\n",
       "                        div.style.color = 'darkred';\n",
       "                        div.textContent = 'Error loading Lets-Plot JS';\n",
       "                        document.getElementById(\"F2lo7o\").appendChild(div);\n",
       "                    };\n",
       "                    var e = document.getElementById(\"F2lo7o\");\n",
       "                    e.appendChild(script);\n",
       "                })()\n",
       "            </script>\n",
       "            "
      ]
     },
     "metadata": {},
     "output_type": "display_data"
    }
   ],
   "source": [
    "LetsPlot.setup_html()"
   ]
  },
  {
   "cell_type": "code",
   "execution_count": 3,
   "id": "57d71b80",
   "metadata": {
    "execution": {
     "iopub.execute_input": "2024-09-27T18:07:13.357301Z",
     "iopub.status.busy": "2024-09-27T18:07:13.357228Z",
     "iopub.status.idle": "2024-09-27T18:07:13.359476Z",
     "shell.execute_reply": "2024-09-27T18:07:13.359268Z"
    }
   },
   "outputs": [],
   "source": [
    "plot_data = pd.DataFrame.from_records([\n",
    "    (\"pet\", \"cat\", 5, \"carnivore\"),\n",
    "    (\"pet\", \"dog\", 10, \"carnivore\"),\n",
    "    (\"pet\", \"rabbit\", 2, \"herbivore\"),\n",
    "    (\"pet\", \"hamster\", 1, \"herbivore\"),\n",
    "\n",
    "    (\"farm_animal\", \"cow\", 500, \"herbivore\"),\n",
    "    (\"farm_animal\", \"pig\", 100, \"carnivore\"),\n",
    "    (\"farm_animal\", \"horse\", 700, \"herbivore\"),\n",
    "])\n",
    "plot_data.columns = (\"animal_type\", \"animal\", \"weight\", \"diet\")\n"
   ]
  },
  {
   "cell_type": "code",
   "execution_count": 4,
   "id": "c2b38e6c",
   "metadata": {
    "execution": {
     "iopub.execute_input": "2024-09-27T18:07:13.360468Z",
     "iopub.status.busy": "2024-09-27T18:07:13.360399Z",
     "iopub.status.idle": "2024-09-27T18:07:13.389381Z",
     "shell.execute_reply": "2024-09-27T18:07:13.389161Z"
    }
   },
   "outputs": [
    {
     "data": {
      "text/html": [
       "   <div id=\"vpupde\"></div>\n",
       "   <script type=\"text/javascript\" data-lets-plot-script=\"plot\">\n",
       "       (function() {\n",
       "           var plotSpec={\n",
       "\"data\":{\n",
       "\"animal\":[\"cat\",\"dog\",\"rabbit\",\"hamster\",\"cow\",\"pig\",\"horse\"],\n",
       "\"weight\":[5.0,10.0,2.0,1.0,500.0,100.0,700.0]\n",
       "},\n",
       "\"mapping\":{\n",
       "\"x\":\"animal\",\n",
       "\"y\":\"weight\"\n",
       "},\n",
       "\"data_meta\":{\n",
       "\"series_annotations\":[{\n",
       "\"type\":\"str\",\n",
       "\"column\":\"animal_type\"\n",
       "},{\n",
       "\"type\":\"str\",\n",
       "\"column\":\"animal\"\n",
       "},{\n",
       "\"type\":\"int\",\n",
       "\"column\":\"weight\"\n",
       "},{\n",
       "\"type\":\"str\",\n",
       "\"column\":\"diet\"\n",
       "}]\n",
       "},\n",
       "\"theme\":{\n",
       "\"name\":\"bw\",\n",
       "\"panel_grid_minor\":{\n",
       "\"blank\":true\n",
       "}\n",
       "},\n",
       "\"kind\":\"plot\",\n",
       "\"scales\":[],\n",
       "\"layers\":[{\n",
       "\"geom\":\"bar\",\n",
       "\"stat\":\"identity\",\n",
       "\"mapping\":{\n",
       "},\n",
       "\"data_meta\":{\n",
       "},\n",
       "\"data\":{\n",
       "}\n",
       "}],\n",
       "\"metainfo_list\":[]\n",
       "};\n",
       "           var plotContainer = document.getElementById(\"vpupde\");\n",
       "           window.letsPlotCall(function() {{\n",
       "               LetsPlot.buildPlotFromProcessedSpecs(plotSpec, -1, -1, plotContainer);\n",
       "           }});\n",
       "       })();\n",
       "   </script>"
      ],
      "text/plain": [
       "<lets_plot.plot.core.PlotSpec at 0x12534b040>"
      ]
     },
     "execution_count": 4,
     "metadata": {},
     "output_type": "execute_result"
    }
   ],
   "source": [
    "plot = (\n",
    "    ggplot(plot_data, aes(x=\"animal\", y=\"weight\"))\n",
    "    + geom_bar(stat=\"identity\")\n",
    "    + theme_bw()\n",
    "    + theme(\n",
    "        panel_grid_minor=element_blank()\n",
    "    )\n",
    ")\n",
    "plot"
   ]
  },
  {
   "cell_type": "markdown",
   "id": "e6b3addb",
   "metadata": {},
   "source": [
    "#### Two facets, grid, free scales"
   ]
  },
  {
   "cell_type": "code",
   "execution_count": 5,
   "id": "d49c97ea",
   "metadata": {
    "execution": {
     "iopub.execute_input": "2024-09-27T18:07:13.390504Z",
     "iopub.status.busy": "2024-09-27T18:07:13.390427Z",
     "iopub.status.idle": "2024-09-27T18:07:13.392937Z",
     "shell.execute_reply": "2024-09-27T18:07:13.392711Z"
    }
   },
   "outputs": [
    {
     "data": {
      "text/html": [
       "   <div id=\"IGgz3h\"></div>\n",
       "   <script type=\"text/javascript\" data-lets-plot-script=\"plot\">\n",
       "       (function() {\n",
       "           var plotSpec={\n",
       "\"data\":{\n",
       "\"animal_type\":[\"pet\",\"pet\",\"pet\",\"pet\",\"farm_animal\",\"farm_animal\",\"farm_animal\"],\n",
       "\"animal\":[\"cat\",\"dog\",\"rabbit\",\"hamster\",\"cow\",\"pig\",\"horse\"],\n",
       "\"weight\":[5.0,10.0,2.0,1.0,500.0,100.0,700.0]\n",
       "},\n",
       "\"mapping\":{\n",
       "\"x\":\"animal\",\n",
       "\"y\":\"weight\"\n",
       "},\n",
       "\"data_meta\":{\n",
       "\"series_annotations\":[{\n",
       "\"type\":\"str\",\n",
       "\"column\":\"animal_type\"\n",
       "},{\n",
       "\"type\":\"str\",\n",
       "\"column\":\"animal\"\n",
       "},{\n",
       "\"type\":\"int\",\n",
       "\"column\":\"weight\"\n",
       "},{\n",
       "\"type\":\"str\",\n",
       "\"column\":\"diet\"\n",
       "}]\n",
       "},\n",
       "\"theme\":{\n",
       "\"name\":\"bw\",\n",
       "\"panel_grid_minor\":{\n",
       "\"blank\":true\n",
       "}\n",
       "},\n",
       "\"facet\":{\n",
       "\"name\":\"grid\",\n",
       "\"x\":\"animal_type\",\n",
       "\"scales\":\"free\",\n",
       "\"x_order\":1.0,\n",
       "\"y_order\":1.0\n",
       "},\n",
       "\"kind\":\"plot\",\n",
       "\"scales\":[],\n",
       "\"layers\":[{\n",
       "\"geom\":\"bar\",\n",
       "\"stat\":\"identity\",\n",
       "\"mapping\":{\n",
       "},\n",
       "\"data_meta\":{\n",
       "},\n",
       "\"data\":{\n",
       "}\n",
       "}],\n",
       "\"metainfo_list\":[]\n",
       "};\n",
       "           var plotContainer = document.getElementById(\"IGgz3h\");\n",
       "           window.letsPlotCall(function() {{\n",
       "               LetsPlot.buildPlotFromProcessedSpecs(plotSpec, -1, -1, plotContainer);\n",
       "           }});\n",
       "       })();\n",
       "   </script>"
      ],
      "text/plain": [
       "<lets_plot.plot.core.PlotSpec at 0x12534b4f0>"
      ]
     },
     "execution_count": 5,
     "metadata": {},
     "output_type": "execute_result"
    }
   ],
   "source": [
    "plot + facet_grid(x = \"animal_type\", scales=\"free\")"
   ]
  },
  {
   "cell_type": "markdown",
   "id": "009732d4",
   "metadata": {},
   "source": [
    "#### Two facets, wrap, free scales"
   ]
  },
  {
   "cell_type": "code",
   "execution_count": 6,
   "id": "cc578600",
   "metadata": {
    "execution": {
     "iopub.execute_input": "2024-09-27T18:07:13.394022Z",
     "iopub.status.busy": "2024-09-27T18:07:13.393950Z",
     "iopub.status.idle": "2024-09-27T18:07:13.396289Z",
     "shell.execute_reply": "2024-09-27T18:07:13.396103Z"
    }
   },
   "outputs": [
    {
     "data": {
      "text/html": [
       "   <div id=\"bRuZpp\"></div>\n",
       "   <script type=\"text/javascript\" data-lets-plot-script=\"plot\">\n",
       "       (function() {\n",
       "           var plotSpec={\n",
       "\"data\":{\n",
       "\"animal_type\":[\"pet\",\"pet\",\"pet\",\"pet\",\"farm_animal\",\"farm_animal\",\"farm_animal\"],\n",
       "\"animal\":[\"cat\",\"dog\",\"rabbit\",\"hamster\",\"cow\",\"pig\",\"horse\"],\n",
       "\"weight\":[5.0,10.0,2.0,1.0,500.0,100.0,700.0]\n",
       "},\n",
       "\"mapping\":{\n",
       "\"x\":\"animal\",\n",
       "\"y\":\"weight\"\n",
       "},\n",
       "\"data_meta\":{\n",
       "\"series_annotations\":[{\n",
       "\"type\":\"str\",\n",
       "\"column\":\"animal_type\"\n",
       "},{\n",
       "\"type\":\"str\",\n",
       "\"column\":\"animal\"\n",
       "},{\n",
       "\"type\":\"int\",\n",
       "\"column\":\"weight\"\n",
       "},{\n",
       "\"type\":\"str\",\n",
       "\"column\":\"diet\"\n",
       "}]\n",
       "},\n",
       "\"theme\":{\n",
       "\"name\":\"bw\",\n",
       "\"panel_grid_minor\":{\n",
       "\"blank\":true\n",
       "}\n",
       "},\n",
       "\"facet\":{\n",
       "\"name\":\"wrap\",\n",
       "\"facets\":\"animal_type\",\n",
       "\"ncol\":2.0,\n",
       "\"scales\":\"free\",\n",
       "\"order\":1.0,\n",
       "\"dir\":\"h\"\n",
       "},\n",
       "\"kind\":\"plot\",\n",
       "\"scales\":[],\n",
       "\"layers\":[{\n",
       "\"geom\":\"bar\",\n",
       "\"stat\":\"identity\",\n",
       "\"mapping\":{\n",
       "},\n",
       "\"data_meta\":{\n",
       "},\n",
       "\"data\":{\n",
       "}\n",
       "}],\n",
       "\"metainfo_list\":[]\n",
       "};\n",
       "           var plotContainer = document.getElementById(\"bRuZpp\");\n",
       "           window.letsPlotCall(function() {{\n",
       "               LetsPlot.buildPlotFromProcessedSpecs(plotSpec, -1, -1, plotContainer);\n",
       "           }});\n",
       "       })();\n",
       "   </script>"
      ],
      "text/plain": [
       "<lets_plot.plot.core.PlotSpec at 0x12534aef0>"
      ]
     },
     "execution_count": 6,
     "metadata": {},
     "output_type": "execute_result"
    }
   ],
   "source": [
    "plot + facet_wrap(facets=\"animal_type\", ncol=2, scales=\"free\")"
   ]
  },
  {
   "cell_type": "markdown",
   "id": "be5fb006",
   "metadata": {},
   "source": [
    "#### Four facets, grid, free x"
   ]
  },
  {
   "cell_type": "code",
   "execution_count": 7,
   "id": "dfcffe78",
   "metadata": {
    "execution": {
     "iopub.execute_input": "2024-09-27T18:07:13.397283Z",
     "iopub.status.busy": "2024-09-27T18:07:13.397212Z",
     "iopub.status.idle": "2024-09-27T18:07:13.399511Z",
     "shell.execute_reply": "2024-09-27T18:07:13.399321Z"
    }
   },
   "outputs": [
    {
     "data": {
      "text/html": [
       "   <div id=\"fdjnVv\"></div>\n",
       "   <script type=\"text/javascript\" data-lets-plot-script=\"plot\">\n",
       "       (function() {\n",
       "           var plotSpec={\n",
       "\"data\":{\n",
       "\"animal_type\":[\"pet\",\"pet\",\"pet\",\"pet\",\"farm_animal\",\"farm_animal\",\"farm_animal\"],\n",
       "\"animal\":[\"cat\",\"dog\",\"rabbit\",\"hamster\",\"cow\",\"pig\",\"horse\"],\n",
       "\"weight\":[5.0,10.0,2.0,1.0,500.0,100.0,700.0],\n",
       "\"diet\":[\"carnivore\",\"carnivore\",\"herbivore\",\"herbivore\",\"herbivore\",\"carnivore\",\"herbivore\"]\n",
       "},\n",
       "\"mapping\":{\n",
       "\"x\":\"animal\",\n",
       "\"y\":\"weight\"\n",
       "},\n",
       "\"data_meta\":{\n",
       "\"series_annotations\":[{\n",
       "\"type\":\"str\",\n",
       "\"column\":\"animal_type\"\n",
       "},{\n",
       "\"type\":\"str\",\n",
       "\"column\":\"animal\"\n",
       "},{\n",
       "\"type\":\"int\",\n",
       "\"column\":\"weight\"\n",
       "},{\n",
       "\"type\":\"str\",\n",
       "\"column\":\"diet\"\n",
       "}]\n",
       "},\n",
       "\"theme\":{\n",
       "\"name\":\"bw\",\n",
       "\"panel_grid_minor\":{\n",
       "\"blank\":true\n",
       "}\n",
       "},\n",
       "\"facet\":{\n",
       "\"name\":\"grid\",\n",
       "\"x\":\"animal_type\",\n",
       "\"y\":\"diet\",\n",
       "\"scales\":\"free_x\",\n",
       "\"x_order\":1.0,\n",
       "\"y_order\":1.0\n",
       "},\n",
       "\"kind\":\"plot\",\n",
       "\"scales\":[],\n",
       "\"layers\":[{\n",
       "\"geom\":\"bar\",\n",
       "\"stat\":\"identity\",\n",
       "\"mapping\":{\n",
       "},\n",
       "\"data_meta\":{\n",
       "},\n",
       "\"data\":{\n",
       "}\n",
       "}],\n",
       "\"metainfo_list\":[]\n",
       "};\n",
       "           var plotContainer = document.getElementById(\"fdjnVv\");\n",
       "           window.letsPlotCall(function() {{\n",
       "               LetsPlot.buildPlotFromProcessedSpecs(plotSpec, -1, -1, plotContainer);\n",
       "           }});\n",
       "       })();\n",
       "   </script>"
      ],
      "text/plain": [
       "<lets_plot.plot.core.PlotSpec at 0x12534b490>"
      ]
     },
     "execution_count": 7,
     "metadata": {},
     "output_type": "execute_result"
    }
   ],
   "source": [
    "plot + facet_grid(x=\"animal_type\", y=\"diet\", scales=\"free_x\")"
   ]
  },
  {
   "cell_type": "markdown",
   "id": "ac86f5cb",
   "metadata": {},
   "source": [
    "#### Four facets, wrap, free x"
   ]
  },
  {
   "cell_type": "code",
   "execution_count": 8,
   "id": "c44f0d76",
   "metadata": {
    "execution": {
     "iopub.execute_input": "2024-09-27T18:07:13.400504Z",
     "iopub.status.busy": "2024-09-27T18:07:13.400435Z",
     "iopub.status.idle": "2024-09-27T18:07:13.402773Z",
     "shell.execute_reply": "2024-09-27T18:07:13.402589Z"
    }
   },
   "outputs": [
    {
     "data": {
      "text/html": [
       "   <div id=\"F4IpBu\"></div>\n",
       "   <script type=\"text/javascript\" data-lets-plot-script=\"plot\">\n",
       "       (function() {\n",
       "           var plotSpec={\n",
       "\"data\":{\n",
       "\"animal_type\":[\"pet\",\"pet\",\"pet\",\"pet\",\"farm_animal\",\"farm_animal\",\"farm_animal\"],\n",
       "\"animal\":[\"cat\",\"dog\",\"rabbit\",\"hamster\",\"cow\",\"pig\",\"horse\"],\n",
       "\"weight\":[5.0,10.0,2.0,1.0,500.0,100.0,700.0],\n",
       "\"diet\":[\"carnivore\",\"carnivore\",\"herbivore\",\"herbivore\",\"herbivore\",\"carnivore\",\"herbivore\"]\n",
       "},\n",
       "\"mapping\":{\n",
       "\"x\":\"animal\",\n",
       "\"y\":\"weight\"\n",
       "},\n",
       "\"data_meta\":{\n",
       "\"series_annotations\":[{\n",
       "\"type\":\"str\",\n",
       "\"column\":\"animal_type\"\n",
       "},{\n",
       "\"type\":\"str\",\n",
       "\"column\":\"animal\"\n",
       "},{\n",
       "\"type\":\"int\",\n",
       "\"column\":\"weight\"\n",
       "},{\n",
       "\"type\":\"str\",\n",
       "\"column\":\"diet\"\n",
       "}]\n",
       "},\n",
       "\"theme\":{\n",
       "\"name\":\"bw\",\n",
       "\"panel_grid_minor\":{\n",
       "\"blank\":true\n",
       "}\n",
       "},\n",
       "\"facet\":{\n",
       "\"name\":\"wrap\",\n",
       "\"facets\":[\"animal_type\",\"diet\"],\n",
       "\"ncol\":2.0,\n",
       "\"scales\":\"free_x\",\n",
       "\"order\":1.0,\n",
       "\"dir\":\"h\"\n",
       "},\n",
       "\"kind\":\"plot\",\n",
       "\"scales\":[],\n",
       "\"layers\":[{\n",
       "\"geom\":\"bar\",\n",
       "\"stat\":\"identity\",\n",
       "\"mapping\":{\n",
       "},\n",
       "\"data_meta\":{\n",
       "},\n",
       "\"data\":{\n",
       "}\n",
       "}],\n",
       "\"metainfo_list\":[]\n",
       "};\n",
       "           var plotContainer = document.getElementById(\"F4IpBu\");\n",
       "           window.letsPlotCall(function() {{\n",
       "               LetsPlot.buildPlotFromProcessedSpecs(plotSpec, -1, -1, plotContainer);\n",
       "           }});\n",
       "       })();\n",
       "   </script>"
      ],
      "text/plain": [
       "<lets_plot.plot.core.PlotSpec at 0x125605e70>"
      ]
     },
     "execution_count": 8,
     "metadata": {},
     "output_type": "execute_result"
    }
   ],
   "source": [
    "plot + facet_wrap(facets=[\"animal_type\", \"diet\"], ncol=2, scales=\"free_x\")"
   ]
  },
  {
   "cell_type": "markdown",
   "id": "763efd82",
   "metadata": {},
   "source": [
    "#### Four facets, grid, free y"
   ]
  },
  {
   "cell_type": "code",
   "execution_count": 9,
   "id": "a0fda8bf",
   "metadata": {
    "execution": {
     "iopub.execute_input": "2024-09-27T18:07:13.403767Z",
     "iopub.status.busy": "2024-09-27T18:07:13.403697Z",
     "iopub.status.idle": "2024-09-27T18:07:13.405983Z",
     "shell.execute_reply": "2024-09-27T18:07:13.405801Z"
    }
   },
   "outputs": [
    {
     "data": {
      "text/html": [
       "   <div id=\"Iv7Fwm\"></div>\n",
       "   <script type=\"text/javascript\" data-lets-plot-script=\"plot\">\n",
       "       (function() {\n",
       "           var plotSpec={\n",
       "\"data\":{\n",
       "\"animal_type\":[\"pet\",\"pet\",\"pet\",\"pet\",\"farm_animal\",\"farm_animal\",\"farm_animal\"],\n",
       "\"animal\":[\"cat\",\"dog\",\"rabbit\",\"hamster\",\"cow\",\"pig\",\"horse\"],\n",
       "\"weight\":[5.0,10.0,2.0,1.0,500.0,100.0,700.0],\n",
       "\"diet\":[\"carnivore\",\"carnivore\",\"herbivore\",\"herbivore\",\"herbivore\",\"carnivore\",\"herbivore\"]\n",
       "},\n",
       "\"mapping\":{\n",
       "\"x\":\"animal\",\n",
       "\"y\":\"weight\"\n",
       "},\n",
       "\"data_meta\":{\n",
       "\"series_annotations\":[{\n",
       "\"type\":\"str\",\n",
       "\"column\":\"animal_type\"\n",
       "},{\n",
       "\"type\":\"str\",\n",
       "\"column\":\"animal\"\n",
       "},{\n",
       "\"type\":\"int\",\n",
       "\"column\":\"weight\"\n",
       "},{\n",
       "\"type\":\"str\",\n",
       "\"column\":\"diet\"\n",
       "}]\n",
       "},\n",
       "\"theme\":{\n",
       "\"name\":\"bw\",\n",
       "\"panel_grid_minor\":{\n",
       "\"blank\":true\n",
       "}\n",
       "},\n",
       "\"facet\":{\n",
       "\"name\":\"grid\",\n",
       "\"x\":\"animal_type\",\n",
       "\"y\":\"diet\",\n",
       "\"scales\":\"free_y\",\n",
       "\"x_order\":1.0,\n",
       "\"y_order\":1.0\n",
       "},\n",
       "\"kind\":\"plot\",\n",
       "\"scales\":[],\n",
       "\"layers\":[{\n",
       "\"geom\":\"bar\",\n",
       "\"stat\":\"identity\",\n",
       "\"mapping\":{\n",
       "},\n",
       "\"data_meta\":{\n",
       "},\n",
       "\"data\":{\n",
       "}\n",
       "}],\n",
       "\"metainfo_list\":[]\n",
       "};\n",
       "           var plotContainer = document.getElementById(\"Iv7Fwm\");\n",
       "           window.letsPlotCall(function() {{\n",
       "               LetsPlot.buildPlotFromProcessedSpecs(plotSpec, -1, -1, plotContainer);\n",
       "           }});\n",
       "       })();\n",
       "   </script>"
      ],
      "text/plain": [
       "<lets_plot.plot.core.PlotSpec at 0x125606c80>"
      ]
     },
     "execution_count": 9,
     "metadata": {},
     "output_type": "execute_result"
    }
   ],
   "source": [
    "plot + facet_grid(x=\"animal_type\", y=\"diet\", scales=\"free_y\")"
   ]
  },
  {
   "cell_type": "markdown",
   "id": "447c81a8",
   "metadata": {},
   "source": [
    "#### Four facets, wrap, free y"
   ]
  },
  {
   "cell_type": "code",
   "execution_count": 10,
   "id": "279c2c26",
   "metadata": {
    "execution": {
     "iopub.execute_input": "2024-09-27T18:07:13.406927Z",
     "iopub.status.busy": "2024-09-27T18:07:13.406859Z",
     "iopub.status.idle": "2024-09-27T18:07:13.409313Z",
     "shell.execute_reply": "2024-09-27T18:07:13.409121Z"
    }
   },
   "outputs": [
    {
     "data": {
      "text/html": [
       "   <div id=\"zIinQM\"></div>\n",
       "   <script type=\"text/javascript\" data-lets-plot-script=\"plot\">\n",
       "       (function() {\n",
       "           var plotSpec={\n",
       "\"data\":{\n",
       "\"animal_type\":[\"pet\",\"pet\",\"pet\",\"pet\",\"farm_animal\",\"farm_animal\",\"farm_animal\"],\n",
       "\"animal\":[\"cat\",\"dog\",\"rabbit\",\"hamster\",\"cow\",\"pig\",\"horse\"],\n",
       "\"weight\":[5.0,10.0,2.0,1.0,500.0,100.0,700.0],\n",
       "\"diet\":[\"carnivore\",\"carnivore\",\"herbivore\",\"herbivore\",\"herbivore\",\"carnivore\",\"herbivore\"]\n",
       "},\n",
       "\"mapping\":{\n",
       "\"x\":\"animal\",\n",
       "\"y\":\"weight\"\n",
       "},\n",
       "\"data_meta\":{\n",
       "\"series_annotations\":[{\n",
       "\"type\":\"str\",\n",
       "\"column\":\"animal_type\"\n",
       "},{\n",
       "\"type\":\"str\",\n",
       "\"column\":\"animal\"\n",
       "},{\n",
       "\"type\":\"int\",\n",
       "\"column\":\"weight\"\n",
       "},{\n",
       "\"type\":\"str\",\n",
       "\"column\":\"diet\"\n",
       "}]\n",
       "},\n",
       "\"theme\":{\n",
       "\"name\":\"bw\",\n",
       "\"panel_grid_minor\":{\n",
       "\"blank\":true\n",
       "}\n",
       "},\n",
       "\"facet\":{\n",
       "\"name\":\"wrap\",\n",
       "\"facets\":[\"animal_type\",\"diet\"],\n",
       "\"ncol\":2.0,\n",
       "\"scales\":\"free_y\",\n",
       "\"order\":1.0,\n",
       "\"dir\":\"h\"\n",
       "},\n",
       "\"kind\":\"plot\",\n",
       "\"scales\":[],\n",
       "\"layers\":[{\n",
       "\"geom\":\"bar\",\n",
       "\"stat\":\"identity\",\n",
       "\"mapping\":{\n",
       "},\n",
       "\"data_meta\":{\n",
       "},\n",
       "\"data\":{\n",
       "}\n",
       "}],\n",
       "\"metainfo_list\":[]\n",
       "};\n",
       "           var plotContainer = document.getElementById(\"zIinQM\");\n",
       "           window.letsPlotCall(function() {{\n",
       "               LetsPlot.buildPlotFromProcessedSpecs(plotSpec, -1, -1, plotContainer);\n",
       "           }});\n",
       "       })();\n",
       "   </script>"
      ],
      "text/plain": [
       "<lets_plot.plot.core.PlotSpec at 0x125607a90>"
      ]
     },
     "execution_count": 10,
     "metadata": {},
     "output_type": "execute_result"
    }
   ],
   "source": [
    "plot + facet_wrap(facets=[\"animal_type\", \"diet\"], ncol=2, scales=\"free_y\")"
   ]
  },
  {
   "cell_type": "markdown",
   "id": "ed178b59",
   "metadata": {},
   "source": [
    "#### Four facets, grid, free scales"
   ]
  },
  {
   "cell_type": "code",
   "execution_count": 11,
   "id": "54415628",
   "metadata": {
    "execution": {
     "iopub.execute_input": "2024-09-27T18:07:13.410334Z",
     "iopub.status.busy": "2024-09-27T18:07:13.410265Z",
     "iopub.status.idle": "2024-09-27T18:07:13.412577Z",
     "shell.execute_reply": "2024-09-27T18:07:13.412389Z"
    }
   },
   "outputs": [
    {
     "data": {
      "text/html": [
       "   <div id=\"dyOAea\"></div>\n",
       "   <script type=\"text/javascript\" data-lets-plot-script=\"plot\">\n",
       "       (function() {\n",
       "           var plotSpec={\n",
       "\"data\":{\n",
       "\"animal_type\":[\"pet\",\"pet\",\"pet\",\"pet\",\"farm_animal\",\"farm_animal\",\"farm_animal\"],\n",
       "\"animal\":[\"cat\",\"dog\",\"rabbit\",\"hamster\",\"cow\",\"pig\",\"horse\"],\n",
       "\"weight\":[5.0,10.0,2.0,1.0,500.0,100.0,700.0],\n",
       "\"diet\":[\"carnivore\",\"carnivore\",\"herbivore\",\"herbivore\",\"herbivore\",\"carnivore\",\"herbivore\"]\n",
       "},\n",
       "\"mapping\":{\n",
       "\"x\":\"animal\",\n",
       "\"y\":\"weight\"\n",
       "},\n",
       "\"data_meta\":{\n",
       "\"series_annotations\":[{\n",
       "\"type\":\"str\",\n",
       "\"column\":\"animal_type\"\n",
       "},{\n",
       "\"type\":\"str\",\n",
       "\"column\":\"animal\"\n",
       "},{\n",
       "\"type\":\"int\",\n",
       "\"column\":\"weight\"\n",
       "},{\n",
       "\"type\":\"str\",\n",
       "\"column\":\"diet\"\n",
       "}]\n",
       "},\n",
       "\"theme\":{\n",
       "\"name\":\"bw\",\n",
       "\"panel_grid_minor\":{\n",
       "\"blank\":true\n",
       "}\n",
       "},\n",
       "\"facet\":{\n",
       "\"name\":\"grid\",\n",
       "\"x\":\"animal_type\",\n",
       "\"y\":\"diet\",\n",
       "\"scales\":\"free\",\n",
       "\"x_order\":1.0,\n",
       "\"y_order\":1.0\n",
       "},\n",
       "\"kind\":\"plot\",\n",
       "\"scales\":[],\n",
       "\"layers\":[{\n",
       "\"geom\":\"bar\",\n",
       "\"stat\":\"identity\",\n",
       "\"mapping\":{\n",
       "},\n",
       "\"data_meta\":{\n",
       "},\n",
       "\"data\":{\n",
       "}\n",
       "}],\n",
       "\"metainfo_list\":[]\n",
       "};\n",
       "           var plotContainer = document.getElementById(\"dyOAea\");\n",
       "           window.letsPlotCall(function() {{\n",
       "               LetsPlot.buildPlotFromProcessedSpecs(plotSpec, -1, -1, plotContainer);\n",
       "           }});\n",
       "       })();\n",
       "   </script>"
      ],
      "text/plain": [
       "<lets_plot.plot.core.PlotSpec at 0x12534bfa0>"
      ]
     },
     "execution_count": 11,
     "metadata": {},
     "output_type": "execute_result"
    }
   ],
   "source": [
    "plot + facet_grid(x=\"animal_type\", y=\"diet\", scales=\"free\")"
   ]
  },
  {
   "cell_type": "markdown",
   "id": "f01f9d1a",
   "metadata": {},
   "source": [
    "#### Four facets, wrap, free scales"
   ]
  },
  {
   "cell_type": "code",
   "execution_count": 12,
   "id": "375864f5",
   "metadata": {
    "execution": {
     "iopub.execute_input": "2024-09-27T18:07:13.413590Z",
     "iopub.status.busy": "2024-09-27T18:07:13.413520Z",
     "iopub.status.idle": "2024-09-27T18:07:13.415796Z",
     "shell.execute_reply": "2024-09-27T18:07:13.415585Z"
    }
   },
   "outputs": [
    {
     "data": {
      "text/html": [
       "   <div id=\"jlZDdd\"></div>\n",
       "   <script type=\"text/javascript\" data-lets-plot-script=\"plot\">\n",
       "       (function() {\n",
       "           var plotSpec={\n",
       "\"data\":{\n",
       "\"animal_type\":[\"pet\",\"pet\",\"pet\",\"pet\",\"farm_animal\",\"farm_animal\",\"farm_animal\"],\n",
       "\"animal\":[\"cat\",\"dog\",\"rabbit\",\"hamster\",\"cow\",\"pig\",\"horse\"],\n",
       "\"weight\":[5.0,10.0,2.0,1.0,500.0,100.0,700.0],\n",
       "\"diet\":[\"carnivore\",\"carnivore\",\"herbivore\",\"herbivore\",\"herbivore\",\"carnivore\",\"herbivore\"]\n",
       "},\n",
       "\"mapping\":{\n",
       "\"x\":\"animal\",\n",
       "\"y\":\"weight\"\n",
       "},\n",
       "\"data_meta\":{\n",
       "\"series_annotations\":[{\n",
       "\"type\":\"str\",\n",
       "\"column\":\"animal_type\"\n",
       "},{\n",
       "\"type\":\"str\",\n",
       "\"column\":\"animal\"\n",
       "},{\n",
       "\"type\":\"int\",\n",
       "\"column\":\"weight\"\n",
       "},{\n",
       "\"type\":\"str\",\n",
       "\"column\":\"diet\"\n",
       "}]\n",
       "},\n",
       "\"theme\":{\n",
       "\"name\":\"bw\",\n",
       "\"panel_grid_minor\":{\n",
       "\"blank\":true\n",
       "}\n",
       "},\n",
       "\"facet\":{\n",
       "\"name\":\"wrap\",\n",
       "\"facets\":[\"animal_type\",\"diet\"],\n",
       "\"ncol\":2.0,\n",
       "\"scales\":\"free\",\n",
       "\"order\":1.0,\n",
       "\"dir\":\"h\"\n",
       "},\n",
       "\"kind\":\"plot\",\n",
       "\"scales\":[],\n",
       "\"layers\":[{\n",
       "\"geom\":\"bar\",\n",
       "\"stat\":\"identity\",\n",
       "\"mapping\":{\n",
       "},\n",
       "\"data_meta\":{\n",
       "},\n",
       "\"data\":{\n",
       "}\n",
       "}],\n",
       "\"metainfo_list\":[]\n",
       "};\n",
       "           var plotContainer = document.getElementById(\"jlZDdd\");\n",
       "           window.letsPlotCall(function() {{\n",
       "               LetsPlot.buildPlotFromProcessedSpecs(plotSpec, -1, -1, plotContainer);\n",
       "           }});\n",
       "       })();\n",
       "   </script>"
      ],
      "text/plain": [
       "<lets_plot.plot.core.PlotSpec at 0x12560d6f0>"
      ]
     },
     "execution_count": 12,
     "metadata": {},
     "output_type": "execute_result"
    }
   ],
   "source": [
    "plot + facet_wrap(facets=[\"animal_type\", \"diet\"], ncol=2, scales=\"free\")"
   ]
  },
  {
   "cell_type": "markdown",
   "id": "648003c3",
   "metadata": {},
   "source": [
    "## Y-orientation"
   ]
  },
  {
   "cell_type": "code",
   "execution_count": 13,
   "id": "3dc987b2",
   "metadata": {
    "execution": {
     "iopub.execute_input": "2024-09-27T18:07:13.416816Z",
     "iopub.status.busy": "2024-09-27T18:07:13.416747Z",
     "iopub.status.idle": "2024-09-27T18:07:13.419238Z",
     "shell.execute_reply": "2024-09-27T18:07:13.419045Z"
    }
   },
   "outputs": [
    {
     "data": {
      "text/html": [
       "   <div id=\"X6rYzD\"></div>\n",
       "   <script type=\"text/javascript\" data-lets-plot-script=\"plot\">\n",
       "       (function() {\n",
       "           var plotSpec={\n",
       "\"data\":{\n",
       "\"animal\":[\"cat\",\"dog\",\"rabbit\",\"hamster\",\"cow\",\"pig\",\"horse\"],\n",
       "\"weight\":[5.0,10.0,2.0,1.0,500.0,100.0,700.0]\n",
       "},\n",
       "\"mapping\":{\n",
       "\"x\":\"weight\",\n",
       "\"y\":\"animal\"\n",
       "},\n",
       "\"data_meta\":{\n",
       "\"series_annotations\":[{\n",
       "\"type\":\"str\",\n",
       "\"column\":\"animal_type\"\n",
       "},{\n",
       "\"type\":\"str\",\n",
       "\"column\":\"animal\"\n",
       "},{\n",
       "\"type\":\"int\",\n",
       "\"column\":\"weight\"\n",
       "},{\n",
       "\"type\":\"str\",\n",
       "\"column\":\"diet\"\n",
       "}]\n",
       "},\n",
       "\"theme\":{\n",
       "\"name\":\"bw\",\n",
       "\"panel_grid_minor\":{\n",
       "\"blank\":true\n",
       "}\n",
       "},\n",
       "\"kind\":\"plot\",\n",
       "\"scales\":[],\n",
       "\"layers\":[{\n",
       "\"geom\":\"bar\",\n",
       "\"stat\":\"identity\",\n",
       "\"mapping\":{\n",
       "},\n",
       "\"data_meta\":{\n",
       "},\n",
       "\"orientation\":\"y\",\n",
       "\"data\":{\n",
       "}\n",
       "}],\n",
       "\"metainfo_list\":[]\n",
       "};\n",
       "           var plotContainer = document.getElementById(\"X6rYzD\");\n",
       "           window.letsPlotCall(function() {{\n",
       "               LetsPlot.buildPlotFromProcessedSpecs(plotSpec, -1, -1, plotContainer);\n",
       "           }});\n",
       "       })();\n",
       "   </script>"
      ],
      "text/plain": [
       "<lets_plot.plot.core.PlotSpec at 0x12560e560>"
      ]
     },
     "execution_count": 13,
     "metadata": {},
     "output_type": "execute_result"
    }
   ],
   "source": [
    "plot_y = (\n",
    "    ggplot(plot_data, aes(x=\"weight\", y=\"animal\"))\n",
    "    + geom_bar(stat=\"identity\", orientation=\"y\")\n",
    "    + theme_bw()\n",
    "    + theme(\n",
    "        panel_grid_minor=element_blank()\n",
    "    )\n",
    ")\n",
    "plot_y"
   ]
  },
  {
   "cell_type": "markdown",
   "id": "488b572a",
   "metadata": {},
   "source": [
    "#### Two facets, grid, free scales"
   ]
  },
  {
   "cell_type": "code",
   "execution_count": 14,
   "id": "0dd614c1",
   "metadata": {
    "execution": {
     "iopub.execute_input": "2024-09-27T18:07:13.420203Z",
     "iopub.status.busy": "2024-09-27T18:07:13.420135Z",
     "iopub.status.idle": "2024-09-27T18:07:13.422359Z",
     "shell.execute_reply": "2024-09-27T18:07:13.422157Z"
    }
   },
   "outputs": [
    {
     "data": {
      "text/html": [
       "   <div id=\"rMsxx6\"></div>\n",
       "   <script type=\"text/javascript\" data-lets-plot-script=\"plot\">\n",
       "       (function() {\n",
       "           var plotSpec={\n",
       "\"data\":{\n",
       "\"animal_type\":[\"pet\",\"pet\",\"pet\",\"pet\",\"farm_animal\",\"farm_animal\",\"farm_animal\"],\n",
       "\"animal\":[\"cat\",\"dog\",\"rabbit\",\"hamster\",\"cow\",\"pig\",\"horse\"],\n",
       "\"weight\":[5.0,10.0,2.0,1.0,500.0,100.0,700.0]\n",
       "},\n",
       "\"mapping\":{\n",
       "\"x\":\"weight\",\n",
       "\"y\":\"animal\"\n",
       "},\n",
       "\"data_meta\":{\n",
       "\"series_annotations\":[{\n",
       "\"type\":\"str\",\n",
       "\"column\":\"animal_type\"\n",
       "},{\n",
       "\"type\":\"str\",\n",
       "\"column\":\"animal\"\n",
       "},{\n",
       "\"type\":\"int\",\n",
       "\"column\":\"weight\"\n",
       "},{\n",
       "\"type\":\"str\",\n",
       "\"column\":\"diet\"\n",
       "}]\n",
       "},\n",
       "\"theme\":{\n",
       "\"name\":\"bw\",\n",
       "\"panel_grid_minor\":{\n",
       "\"blank\":true\n",
       "}\n",
       "},\n",
       "\"facet\":{\n",
       "\"name\":\"grid\",\n",
       "\"y\":\"animal_type\",\n",
       "\"scales\":\"free_y\",\n",
       "\"x_order\":1.0,\n",
       "\"y_order\":1.0\n",
       "},\n",
       "\"kind\":\"plot\",\n",
       "\"scales\":[],\n",
       "\"layers\":[{\n",
       "\"geom\":\"bar\",\n",
       "\"stat\":\"identity\",\n",
       "\"mapping\":{\n",
       "},\n",
       "\"data_meta\":{\n",
       "},\n",
       "\"orientation\":\"y\",\n",
       "\"data\":{\n",
       "}\n",
       "}],\n",
       "\"metainfo_list\":[]\n",
       "};\n",
       "           var plotContainer = document.getElementById(\"rMsxx6\");\n",
       "           window.letsPlotCall(function() {{\n",
       "               LetsPlot.buildPlotFromProcessedSpecs(plotSpec, -1, -1, plotContainer);\n",
       "           }});\n",
       "       })();\n",
       "   </script>"
      ],
      "text/plain": [
       "<lets_plot.plot.core.PlotSpec at 0x12560eb00>"
      ]
     },
     "execution_count": 14,
     "metadata": {},
     "output_type": "execute_result"
    }
   ],
   "source": [
    "plot_y + facet_grid(y = \"animal_type\", scales=\"free_y\")"
   ]
  },
  {
   "cell_type": "markdown",
   "id": "cc13ed2f",
   "metadata": {},
   "source": [
    "#### Two facets, wrap, free scales"
   ]
  },
  {
   "cell_type": "code",
   "execution_count": 15,
   "id": "310a5a2b",
   "metadata": {
    "execution": {
     "iopub.execute_input": "2024-09-27T18:07:13.423360Z",
     "iopub.status.busy": "2024-09-27T18:07:13.423290Z",
     "iopub.status.idle": "2024-09-27T18:07:13.425497Z",
     "shell.execute_reply": "2024-09-27T18:07:13.425306Z"
    }
   },
   "outputs": [
    {
     "data": {
      "text/html": [
       "   <div id=\"FRNG7r\"></div>\n",
       "   <script type=\"text/javascript\" data-lets-plot-script=\"plot\">\n",
       "       (function() {\n",
       "           var plotSpec={\n",
       "\"data\":{\n",
       "\"animal_type\":[\"pet\",\"pet\",\"pet\",\"pet\",\"farm_animal\",\"farm_animal\",\"farm_animal\"],\n",
       "\"animal\":[\"cat\",\"dog\",\"rabbit\",\"hamster\",\"cow\",\"pig\",\"horse\"],\n",
       "\"weight\":[5.0,10.0,2.0,1.0,500.0,100.0,700.0]\n",
       "},\n",
       "\"mapping\":{\n",
       "\"x\":\"weight\",\n",
       "\"y\":\"animal\"\n",
       "},\n",
       "\"data_meta\":{\n",
       "\"series_annotations\":[{\n",
       "\"type\":\"str\",\n",
       "\"column\":\"animal_type\"\n",
       "},{\n",
       "\"type\":\"str\",\n",
       "\"column\":\"animal\"\n",
       "},{\n",
       "\"type\":\"int\",\n",
       "\"column\":\"weight\"\n",
       "},{\n",
       "\"type\":\"str\",\n",
       "\"column\":\"diet\"\n",
       "}]\n",
       "},\n",
       "\"theme\":{\n",
       "\"name\":\"bw\",\n",
       "\"panel_grid_minor\":{\n",
       "\"blank\":true\n",
       "}\n",
       "},\n",
       "\"facet\":{\n",
       "\"name\":\"wrap\",\n",
       "\"facets\":\"animal_type\",\n",
       "\"ncol\":2.0,\n",
       "\"scales\":\"free\",\n",
       "\"order\":1.0,\n",
       "\"dir\":\"h\"\n",
       "},\n",
       "\"kind\":\"plot\",\n",
       "\"scales\":[],\n",
       "\"layers\":[{\n",
       "\"geom\":\"bar\",\n",
       "\"stat\":\"identity\",\n",
       "\"mapping\":{\n",
       "},\n",
       "\"data_meta\":{\n",
       "},\n",
       "\"orientation\":\"y\",\n",
       "\"data\":{\n",
       "}\n",
       "}],\n",
       "\"metainfo_list\":[]\n",
       "};\n",
       "           var plotContainer = document.getElementById(\"FRNG7r\");\n",
       "           window.letsPlotCall(function() {{\n",
       "               LetsPlot.buildPlotFromProcessedSpecs(plotSpec, -1, -1, plotContainer);\n",
       "           }});\n",
       "       })();\n",
       "   </script>"
      ],
      "text/plain": [
       "<lets_plot.plot.core.PlotSpec at 0x107330970>"
      ]
     },
     "execution_count": 15,
     "metadata": {},
     "output_type": "execute_result"
    }
   ],
   "source": [
    "plot_y + facet_wrap(facets=\"animal_type\", ncol=2, scales=\"free\")"
   ]
  },
  {
   "cell_type": "markdown",
   "id": "f84e759c",
   "metadata": {},
   "source": [
    "#### Four facets, grid, free x"
   ]
  },
  {
   "cell_type": "code",
   "execution_count": 16,
   "id": "15a97b25",
   "metadata": {
    "execution": {
     "iopub.execute_input": "2024-09-27T18:07:13.426471Z",
     "iopub.status.busy": "2024-09-27T18:07:13.426405Z",
     "iopub.status.idle": "2024-09-27T18:07:13.428683Z",
     "shell.execute_reply": "2024-09-27T18:07:13.428471Z"
    }
   },
   "outputs": [
    {
     "data": {
      "text/html": [
       "   <div id=\"oCynRF\"></div>\n",
       "   <script type=\"text/javascript\" data-lets-plot-script=\"plot\">\n",
       "       (function() {\n",
       "           var plotSpec={\n",
       "\"data\":{\n",
       "\"animal_type\":[\"pet\",\"pet\",\"pet\",\"pet\",\"farm_animal\",\"farm_animal\",\"farm_animal\"],\n",
       "\"animal\":[\"cat\",\"dog\",\"rabbit\",\"hamster\",\"cow\",\"pig\",\"horse\"],\n",
       "\"weight\":[5.0,10.0,2.0,1.0,500.0,100.0,700.0],\n",
       "\"diet\":[\"carnivore\",\"carnivore\",\"herbivore\",\"herbivore\",\"herbivore\",\"carnivore\",\"herbivore\"]\n",
       "},\n",
       "\"mapping\":{\n",
       "\"x\":\"weight\",\n",
       "\"y\":\"animal\"\n",
       "},\n",
       "\"data_meta\":{\n",
       "\"series_annotations\":[{\n",
       "\"type\":\"str\",\n",
       "\"column\":\"animal_type\"\n",
       "},{\n",
       "\"type\":\"str\",\n",
       "\"column\":\"animal\"\n",
       "},{\n",
       "\"type\":\"int\",\n",
       "\"column\":\"weight\"\n",
       "},{\n",
       "\"type\":\"str\",\n",
       "\"column\":\"diet\"\n",
       "}]\n",
       "},\n",
       "\"theme\":{\n",
       "\"name\":\"bw\",\n",
       "\"panel_grid_minor\":{\n",
       "\"blank\":true\n",
       "}\n",
       "},\n",
       "\"facet\":{\n",
       "\"name\":\"grid\",\n",
       "\"x\":\"diet\",\n",
       "\"y\":\"animal_type\",\n",
       "\"scales\":\"free_x\",\n",
       "\"x_order\":1.0,\n",
       "\"y_order\":1.0\n",
       "},\n",
       "\"kind\":\"plot\",\n",
       "\"scales\":[],\n",
       "\"layers\":[{\n",
       "\"geom\":\"bar\",\n",
       "\"stat\":\"identity\",\n",
       "\"mapping\":{\n",
       "},\n",
       "\"data_meta\":{\n",
       "},\n",
       "\"orientation\":\"y\",\n",
       "\"data\":{\n",
       "}\n",
       "}],\n",
       "\"metainfo_list\":[]\n",
       "};\n",
       "           var plotContainer = document.getElementById(\"oCynRF\");\n",
       "           window.letsPlotCall(function() {{\n",
       "               LetsPlot.buildPlotFromProcessedSpecs(plotSpec, -1, -1, plotContainer);\n",
       "           }});\n",
       "       })();\n",
       "   </script>"
      ],
      "text/plain": [
       "<lets_plot.plot.core.PlotSpec at 0x12534be80>"
      ]
     },
     "execution_count": 16,
     "metadata": {},
     "output_type": "execute_result"
    }
   ],
   "source": [
    "plot_y + facet_grid(y=\"animal_type\", x=\"diet\", scales=\"free_x\")"
   ]
  },
  {
   "cell_type": "markdown",
   "id": "50f107a8",
   "metadata": {},
   "source": [
    "#### Four facets, wrap, free x"
   ]
  },
  {
   "cell_type": "code",
   "execution_count": 17,
   "id": "0d1138c1",
   "metadata": {
    "execution": {
     "iopub.execute_input": "2024-09-27T18:07:13.429656Z",
     "iopub.status.busy": "2024-09-27T18:07:13.429587Z",
     "iopub.status.idle": "2024-09-27T18:07:13.431837Z",
     "shell.execute_reply": "2024-09-27T18:07:13.431647Z"
    }
   },
   "outputs": [
    {
     "data": {
      "text/html": [
       "   <div id=\"AuCAXK\"></div>\n",
       "   <script type=\"text/javascript\" data-lets-plot-script=\"plot\">\n",
       "       (function() {\n",
       "           var plotSpec={\n",
       "\"data\":{\n",
       "\"animal_type\":[\"pet\",\"pet\",\"pet\",\"pet\",\"farm_animal\",\"farm_animal\",\"farm_animal\"],\n",
       "\"animal\":[\"cat\",\"dog\",\"rabbit\",\"hamster\",\"cow\",\"pig\",\"horse\"],\n",
       "\"weight\":[5.0,10.0,2.0,1.0,500.0,100.0,700.0],\n",
       "\"diet\":[\"carnivore\",\"carnivore\",\"herbivore\",\"herbivore\",\"herbivore\",\"carnivore\",\"herbivore\"]\n",
       "},\n",
       "\"mapping\":{\n",
       "\"x\":\"weight\",\n",
       "\"y\":\"animal\"\n",
       "},\n",
       "\"data_meta\":{\n",
       "\"series_annotations\":[{\n",
       "\"type\":\"str\",\n",
       "\"column\":\"animal_type\"\n",
       "},{\n",
       "\"type\":\"str\",\n",
       "\"column\":\"animal\"\n",
       "},{\n",
       "\"type\":\"int\",\n",
       "\"column\":\"weight\"\n",
       "},{\n",
       "\"type\":\"str\",\n",
       "\"column\":\"diet\"\n",
       "}]\n",
       "},\n",
       "\"theme\":{\n",
       "\"name\":\"bw\",\n",
       "\"panel_grid_minor\":{\n",
       "\"blank\":true\n",
       "}\n",
       "},\n",
       "\"facet\":{\n",
       "\"name\":\"wrap\",\n",
       "\"facets\":[\"animal_type\",\"diet\"],\n",
       "\"ncol\":2.0,\n",
       "\"scales\":\"free_x\",\n",
       "\"order\":1.0,\n",
       "\"dir\":\"h\"\n",
       "},\n",
       "\"kind\":\"plot\",\n",
       "\"scales\":[],\n",
       "\"layers\":[{\n",
       "\"geom\":\"bar\",\n",
       "\"stat\":\"identity\",\n",
       "\"mapping\":{\n",
       "},\n",
       "\"data_meta\":{\n",
       "},\n",
       "\"orientation\":\"y\",\n",
       "\"data\":{\n",
       "}\n",
       "}],\n",
       "\"metainfo_list\":[]\n",
       "};\n",
       "           var plotContainer = document.getElementById(\"AuCAXK\");\n",
       "           window.letsPlotCall(function() {{\n",
       "               LetsPlot.buildPlotFromProcessedSpecs(plotSpec, -1, -1, plotContainer);\n",
       "           }});\n",
       "       })();\n",
       "   </script>"
      ],
      "text/plain": [
       "<lets_plot.plot.core.PlotSpec at 0x125615d50>"
      ]
     },
     "execution_count": 17,
     "metadata": {},
     "output_type": "execute_result"
    }
   ],
   "source": [
    "plot_y + facet_wrap(facets=[\"animal_type\", \"diet\"], ncol=2, scales=\"free_x\")"
   ]
  },
  {
   "cell_type": "markdown",
   "id": "1b178076",
   "metadata": {},
   "source": [
    "#### Four facets, grid, free y"
   ]
  },
  {
   "cell_type": "code",
   "execution_count": 18,
   "id": "33355fcf",
   "metadata": {
    "execution": {
     "iopub.execute_input": "2024-09-27T18:07:13.432836Z",
     "iopub.status.busy": "2024-09-27T18:07:13.432770Z",
     "iopub.status.idle": "2024-09-27T18:07:13.434973Z",
     "shell.execute_reply": "2024-09-27T18:07:13.434774Z"
    }
   },
   "outputs": [
    {
     "data": {
      "text/html": [
       "   <div id=\"u7Mm4U\"></div>\n",
       "   <script type=\"text/javascript\" data-lets-plot-script=\"plot\">\n",
       "       (function() {\n",
       "           var plotSpec={\n",
       "\"data\":{\n",
       "\"animal_type\":[\"pet\",\"pet\",\"pet\",\"pet\",\"farm_animal\",\"farm_animal\",\"farm_animal\"],\n",
       "\"animal\":[\"cat\",\"dog\",\"rabbit\",\"hamster\",\"cow\",\"pig\",\"horse\"],\n",
       "\"weight\":[5.0,10.0,2.0,1.0,500.0,100.0,700.0],\n",
       "\"diet\":[\"carnivore\",\"carnivore\",\"herbivore\",\"herbivore\",\"herbivore\",\"carnivore\",\"herbivore\"]\n",
       "},\n",
       "\"mapping\":{\n",
       "\"x\":\"weight\",\n",
       "\"y\":\"animal\"\n",
       "},\n",
       "\"data_meta\":{\n",
       "\"series_annotations\":[{\n",
       "\"type\":\"str\",\n",
       "\"column\":\"animal_type\"\n",
       "},{\n",
       "\"type\":\"str\",\n",
       "\"column\":\"animal\"\n",
       "},{\n",
       "\"type\":\"int\",\n",
       "\"column\":\"weight\"\n",
       "},{\n",
       "\"type\":\"str\",\n",
       "\"column\":\"diet\"\n",
       "}]\n",
       "},\n",
       "\"theme\":{\n",
       "\"name\":\"bw\",\n",
       "\"panel_grid_minor\":{\n",
       "\"blank\":true\n",
       "}\n",
       "},\n",
       "\"facet\":{\n",
       "\"name\":\"grid\",\n",
       "\"x\":\"diet\",\n",
       "\"y\":\"animal_type\",\n",
       "\"scales\":\"free_y\",\n",
       "\"x_order\":1.0,\n",
       "\"y_order\":1.0\n",
       "},\n",
       "\"kind\":\"plot\",\n",
       "\"scales\":[],\n",
       "\"layers\":[{\n",
       "\"geom\":\"bar\",\n",
       "\"stat\":\"identity\",\n",
       "\"mapping\":{\n",
       "},\n",
       "\"data_meta\":{\n",
       "},\n",
       "\"orientation\":\"y\",\n",
       "\"data\":{\n",
       "}\n",
       "}],\n",
       "\"metainfo_list\":[]\n",
       "};\n",
       "           var plotContainer = document.getElementById(\"u7Mm4U\");\n",
       "           window.letsPlotCall(function() {{\n",
       "               LetsPlot.buildPlotFromProcessedSpecs(plotSpec, -1, -1, plotContainer);\n",
       "           }});\n",
       "       })();\n",
       "   </script>"
      ],
      "text/plain": [
       "<lets_plot.plot.core.PlotSpec at 0x125616bc0>"
      ]
     },
     "execution_count": 18,
     "metadata": {},
     "output_type": "execute_result"
    }
   ],
   "source": [
    "plot_y + facet_grid(y=\"animal_type\", x=\"diet\", scales=\"free_y\")"
   ]
  },
  {
   "cell_type": "markdown",
   "id": "a6f9c778",
   "metadata": {},
   "source": [
    "#### Four facets, wrap, free y"
   ]
  },
  {
   "cell_type": "code",
   "execution_count": 19,
   "id": "20018426",
   "metadata": {
    "execution": {
     "iopub.execute_input": "2024-09-27T18:07:13.436012Z",
     "iopub.status.busy": "2024-09-27T18:07:13.435943Z",
     "iopub.status.idle": "2024-09-27T18:07:13.438117Z",
     "shell.execute_reply": "2024-09-27T18:07:13.437947Z"
    }
   },
   "outputs": [
    {
     "data": {
      "text/html": [
       "   <div id=\"fYDTZo\"></div>\n",
       "   <script type=\"text/javascript\" data-lets-plot-script=\"plot\">\n",
       "       (function() {\n",
       "           var plotSpec={\n",
       "\"data\":{\n",
       "\"animal_type\":[\"pet\",\"pet\",\"pet\",\"pet\",\"farm_animal\",\"farm_animal\",\"farm_animal\"],\n",
       "\"animal\":[\"cat\",\"dog\",\"rabbit\",\"hamster\",\"cow\",\"pig\",\"horse\"],\n",
       "\"weight\":[5.0,10.0,2.0,1.0,500.0,100.0,700.0],\n",
       "\"diet\":[\"carnivore\",\"carnivore\",\"herbivore\",\"herbivore\",\"herbivore\",\"carnivore\",\"herbivore\"]\n",
       "},\n",
       "\"mapping\":{\n",
       "\"x\":\"weight\",\n",
       "\"y\":\"animal\"\n",
       "},\n",
       "\"data_meta\":{\n",
       "\"series_annotations\":[{\n",
       "\"type\":\"str\",\n",
       "\"column\":\"animal_type\"\n",
       "},{\n",
       "\"type\":\"str\",\n",
       "\"column\":\"animal\"\n",
       "},{\n",
       "\"type\":\"int\",\n",
       "\"column\":\"weight\"\n",
       "},{\n",
       "\"type\":\"str\",\n",
       "\"column\":\"diet\"\n",
       "}]\n",
       "},\n",
       "\"theme\":{\n",
       "\"name\":\"bw\",\n",
       "\"panel_grid_minor\":{\n",
       "\"blank\":true\n",
       "}\n",
       "},\n",
       "\"facet\":{\n",
       "\"name\":\"wrap\",\n",
       "\"facets\":[\"animal_type\",\"diet\"],\n",
       "\"ncol\":2.0,\n",
       "\"scales\":\"free_y\",\n",
       "\"order\":1.0,\n",
       "\"dir\":\"h\"\n",
       "},\n",
       "\"kind\":\"plot\",\n",
       "\"scales\":[],\n",
       "\"layers\":[{\n",
       "\"geom\":\"bar\",\n",
       "\"stat\":\"identity\",\n",
       "\"mapping\":{\n",
       "},\n",
       "\"data_meta\":{\n",
       "},\n",
       "\"orientation\":\"y\",\n",
       "\"data\":{\n",
       "}\n",
       "}],\n",
       "\"metainfo_list\":[]\n",
       "};\n",
       "           var plotContainer = document.getElementById(\"fYDTZo\");\n",
       "           window.letsPlotCall(function() {{\n",
       "               LetsPlot.buildPlotFromProcessedSpecs(plotSpec, -1, -1, plotContainer);\n",
       "           }});\n",
       "       })();\n",
       "   </script>"
      ],
      "text/plain": [
       "<lets_plot.plot.core.PlotSpec at 0x125617a30>"
      ]
     },
     "execution_count": 19,
     "metadata": {},
     "output_type": "execute_result"
    }
   ],
   "source": [
    "plot_y + facet_wrap(facets=[\"animal_type\", \"diet\"], ncol=2, scales=\"free_y\")"
   ]
  },
  {
   "cell_type": "markdown",
   "id": "b7411929",
   "metadata": {},
   "source": [
    "#### Four facets, grid, free scales"
   ]
  },
  {
   "cell_type": "code",
   "execution_count": 20,
   "id": "8d51722a",
   "metadata": {
    "execution": {
     "iopub.execute_input": "2024-09-27T18:07:13.439089Z",
     "iopub.status.busy": "2024-09-27T18:07:13.439023Z",
     "iopub.status.idle": "2024-09-27T18:07:13.441271Z",
     "shell.execute_reply": "2024-09-27T18:07:13.441080Z"
    }
   },
   "outputs": [
    {
     "data": {
      "text/html": [
       "   <div id=\"87kIa6\"></div>\n",
       "   <script type=\"text/javascript\" data-lets-plot-script=\"plot\">\n",
       "       (function() {\n",
       "           var plotSpec={\n",
       "\"data\":{\n",
       "\"animal_type\":[\"pet\",\"pet\",\"pet\",\"pet\",\"farm_animal\",\"farm_animal\",\"farm_animal\"],\n",
       "\"animal\":[\"cat\",\"dog\",\"rabbit\",\"hamster\",\"cow\",\"pig\",\"horse\"],\n",
       "\"weight\":[5.0,10.0,2.0,1.0,500.0,100.0,700.0],\n",
       "\"diet\":[\"carnivore\",\"carnivore\",\"herbivore\",\"herbivore\",\"herbivore\",\"carnivore\",\"herbivore\"]\n",
       "},\n",
       "\"mapping\":{\n",
       "\"x\":\"weight\",\n",
       "\"y\":\"animal\"\n",
       "},\n",
       "\"data_meta\":{\n",
       "\"series_annotations\":[{\n",
       "\"type\":\"str\",\n",
       "\"column\":\"animal_type\"\n",
       "},{\n",
       "\"type\":\"str\",\n",
       "\"column\":\"animal\"\n",
       "},{\n",
       "\"type\":\"int\",\n",
       "\"column\":\"weight\"\n",
       "},{\n",
       "\"type\":\"str\",\n",
       "\"column\":\"diet\"\n",
       "}]\n",
       "},\n",
       "\"theme\":{\n",
       "\"name\":\"bw\",\n",
       "\"panel_grid_minor\":{\n",
       "\"blank\":true\n",
       "}\n",
       "},\n",
       "\"facet\":{\n",
       "\"name\":\"grid\",\n",
       "\"x\":\"diet\",\n",
       "\"y\":\"animal_type\",\n",
       "\"scales\":\"free\",\n",
       "\"x_order\":1.0,\n",
       "\"y_order\":1.0\n",
       "},\n",
       "\"kind\":\"plot\",\n",
       "\"scales\":[],\n",
       "\"layers\":[{\n",
       "\"geom\":\"bar\",\n",
       "\"stat\":\"identity\",\n",
       "\"mapping\":{\n",
       "},\n",
       "\"data_meta\":{\n",
       "},\n",
       "\"orientation\":\"y\",\n",
       "\"data\":{\n",
       "}\n",
       "}],\n",
       "\"metainfo_list\":[]\n",
       "};\n",
       "           var plotContainer = document.getElementById(\"87kIa6\");\n",
       "           window.letsPlotCall(function() {{\n",
       "               LetsPlot.buildPlotFromProcessedSpecs(plotSpec, -1, -1, plotContainer);\n",
       "           }});\n",
       "       })();\n",
       "   </script>"
      ],
      "text/plain": [
       "<lets_plot.plot.core.PlotSpec at 0x12534be20>"
      ]
     },
     "execution_count": 20,
     "metadata": {},
     "output_type": "execute_result"
    }
   ],
   "source": [
    "plot_y + facet_grid(y=\"animal_type\", x=\"diet\", scales=\"free\")"
   ]
  },
  {
   "cell_type": "markdown",
   "id": "1366bce4",
   "metadata": {},
   "source": [
    "#### Four facets, wrap, free scales"
   ]
  },
  {
   "cell_type": "code",
   "execution_count": 21,
   "id": "e22440f7",
   "metadata": {
    "execution": {
     "iopub.execute_input": "2024-09-27T18:07:13.442257Z",
     "iopub.status.busy": "2024-09-27T18:07:13.442189Z",
     "iopub.status.idle": "2024-09-27T18:07:13.444476Z",
     "shell.execute_reply": "2024-09-27T18:07:13.444281Z"
    }
   },
   "outputs": [
    {
     "data": {
      "text/html": [
       "   <div id=\"hPuqcM\"></div>\n",
       "   <script type=\"text/javascript\" data-lets-plot-script=\"plot\">\n",
       "       (function() {\n",
       "           var plotSpec={\n",
       "\"data\":{\n",
       "\"animal_type\":[\"pet\",\"pet\",\"pet\",\"pet\",\"farm_animal\",\"farm_animal\",\"farm_animal\"],\n",
       "\"animal\":[\"cat\",\"dog\",\"rabbit\",\"hamster\",\"cow\",\"pig\",\"horse\"],\n",
       "\"weight\":[5.0,10.0,2.0,1.0,500.0,100.0,700.0],\n",
       "\"diet\":[\"carnivore\",\"carnivore\",\"herbivore\",\"herbivore\",\"herbivore\",\"carnivore\",\"herbivore\"]\n",
       "},\n",
       "\"mapping\":{\n",
       "\"x\":\"weight\",\n",
       "\"y\":\"animal\"\n",
       "},\n",
       "\"data_meta\":{\n",
       "\"series_annotations\":[{\n",
       "\"type\":\"str\",\n",
       "\"column\":\"animal_type\"\n",
       "},{\n",
       "\"type\":\"str\",\n",
       "\"column\":\"animal\"\n",
       "},{\n",
       "\"type\":\"int\",\n",
       "\"column\":\"weight\"\n",
       "},{\n",
       "\"type\":\"str\",\n",
       "\"column\":\"diet\"\n",
       "}]\n",
       "},\n",
       "\"theme\":{\n",
       "\"name\":\"bw\",\n",
       "\"panel_grid_minor\":{\n",
       "\"blank\":true\n",
       "}\n",
       "},\n",
       "\"facet\":{\n",
       "\"name\":\"wrap\",\n",
       "\"facets\":[\"animal_type\",\"diet\"],\n",
       "\"ncol\":2.0,\n",
       "\"scales\":\"free\",\n",
       "\"order\":1.0,\n",
       "\"dir\":\"h\"\n",
       "},\n",
       "\"kind\":\"plot\",\n",
       "\"scales\":[],\n",
       "\"layers\":[{\n",
       "\"geom\":\"bar\",\n",
       "\"stat\":\"identity\",\n",
       "\"mapping\":{\n",
       "},\n",
       "\"data_meta\":{\n",
       "},\n",
       "\"orientation\":\"y\",\n",
       "\"data\":{\n",
       "}\n",
       "}],\n",
       "\"metainfo_list\":[]\n",
       "};\n",
       "           var plotContainer = document.getElementById(\"hPuqcM\");\n",
       "           window.letsPlotCall(function() {{\n",
       "               LetsPlot.buildPlotFromProcessedSpecs(plotSpec, -1, -1, plotContainer);\n",
       "           }});\n",
       "       })();\n",
       "   </script>"
      ],
      "text/plain": [
       "<lets_plot.plot.core.PlotSpec at 0x12561d750>"
      ]
     },
     "execution_count": 21,
     "metadata": {},
     "output_type": "execute_result"
    }
   ],
   "source": [
    "plot_y + facet_wrap(facets=[\"animal_type\", \"diet\"], ncol=2, scales=\"free\")"
   ]
  }
 ],
 "metadata": {
  "kernelspec": {
   "display_name": "Python 3 (ipykernel)",
   "language": "python",
   "name": "python3"
  },
  "language_info": {
   "codemirror_mode": {
    "name": "ipython",
    "version": 3
   },
   "file_extension": ".py",
   "mimetype": "text/x-python",
   "name": "python",
   "nbconvert_exporter": "python",
   "pygments_lexer": "ipython3",
   "version": "3.10.15"
  }
 },
 "nbformat": 4,
 "nbformat_minor": 5
}
