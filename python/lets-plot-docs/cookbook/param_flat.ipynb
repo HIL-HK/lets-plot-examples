{
 "cells": [
  {
   "cell_type": "markdown",
   "id": "9c919fd0",
   "metadata": {},
   "source": [
    "# Geodesic lines on livemap: `flat` parameter.\n",
    "\n",
    "\n",
    "Parameter `flat` enables or disables geodesic lines on livemap.\n",
    "\n",
    "Layers that support `flat` parameter are `geom_segment()` and `geom_path()`:\n",
    "\n",
    "- `False` (by default) - allows projection to curve a line\n",
    "- `True` - keeps a line flat"
   ]
  },
  {
   "cell_type": "code",
   "execution_count": 1,
   "id": "8074593b",
   "metadata": {
    "execution": {
     "iopub.execute_input": "2024-09-27T18:11:38.966767Z",
     "iopub.status.busy": "2024-09-27T18:11:38.966291Z",
     "iopub.status.idle": "2024-09-27T18:11:39.388668Z",
     "shell.execute_reply": "2024-09-27T18:11:39.388324Z"
    }
   },
   "outputs": [],
   "source": [
    "from lets_plot import *"
   ]
  },
  {
   "cell_type": "code",
   "execution_count": 2,
   "id": "07854c6d",
   "metadata": {
    "execution": {
     "iopub.execute_input": "2024-09-27T18:11:39.390009Z",
     "iopub.status.busy": "2024-09-27T18:11:39.389901Z",
     "iopub.status.idle": "2024-09-27T18:11:39.392186Z",
     "shell.execute_reply": "2024-09-27T18:11:39.391973Z"
    }
   },
   "outputs": [
    {
     "data": {
      "text/html": [
       "\n",
       "            <div id=\"QXidA1\"></div>\n",
       "            <script type=\"text/javascript\" data-lets-plot-script=\"library\">\n",
       "                if(!window.letsPlotCallQueue) {\n",
       "                    window.letsPlotCallQueue = [];\n",
       "                }; \n",
       "                window.letsPlotCall = function(f) {\n",
       "                    window.letsPlotCallQueue.push(f);\n",
       "                };\n",
       "                (function() {\n",
       "                    var script = document.createElement(\"script\");\n",
       "                    script.type = \"text/javascript\";\n",
       "                    script.src = \"https://cdn.jsdelivr.net/gh/JetBrains/lets-plot@v4.4.1/js-package/distr/lets-plot.min.js\";\n",
       "                    script.onload = function() {\n",
       "                        window.letsPlotCall = function(f) {f();};\n",
       "                        window.letsPlotCallQueue.forEach(function(f) {f();});\n",
       "                        window.letsPlotCallQueue = [];\n",
       "                        \n",
       "                    };\n",
       "                    script.onerror = function(event) {\n",
       "                        window.letsPlotCall = function(f) {};    // noop\n",
       "                        window.letsPlotCallQueue = [];\n",
       "                        var div = document.createElement(\"div\");\n",
       "                        div.style.color = 'darkred';\n",
       "                        div.textContent = 'Error loading Lets-Plot JS';\n",
       "                        document.getElementById(\"QXidA1\").appendChild(div);\n",
       "                    };\n",
       "                    var e = document.getElementById(\"QXidA1\");\n",
       "                    e.appendChild(script);\n",
       "                })()\n",
       "            </script>\n",
       "            "
      ]
     },
     "metadata": {},
     "output_type": "display_data"
    }
   ],
   "source": [
    "LetsPlot.setup_html()"
   ]
  },
  {
   "cell_type": "code",
   "execution_count": 3,
   "id": "3a86c13e",
   "metadata": {
    "execution": {
     "iopub.execute_input": "2024-09-27T18:11:39.393240Z",
     "iopub.status.busy": "2024-09-27T18:11:39.393166Z",
     "iopub.status.idle": "2024-09-27T18:11:39.395089Z",
     "shell.execute_reply": "2024-09-27T18:11:39.394837Z"
    },
    "scrolled": true
   },
   "outputs": [],
   "source": [
    "data = {\n",
    "    'lon': [-73.7997, -149.9002],\n",
    "    'lat': [40.6408, 61.2180],\n",
    "}"
   ]
  },
  {
   "cell_type": "markdown",
   "id": "22e1cb31",
   "metadata": {},
   "source": [
    "#### 1. Default Presentation\n",
    "\n",
    "By default a geodesic is drawn for `geom_path()` and `geom_segment()` on livemap. It is the shortest path between points on earth."
   ]
  },
  {
   "cell_type": "code",
   "execution_count": 4,
   "id": "d3eacd9f",
   "metadata": {
    "execution": {
     "iopub.execute_input": "2024-09-27T18:11:39.396094Z",
     "iopub.status.busy": "2024-09-27T18:11:39.396026Z",
     "iopub.status.idle": "2024-09-27T18:11:39.424158Z",
     "shell.execute_reply": "2024-09-27T18:11:39.423917Z"
    }
   },
   "outputs": [
    {
     "data": {
      "text/html": [
       "   <div id=\"B0JpDk\"></div>\n",
       "   <script type=\"text/javascript\" data-lets-plot-script=\"plot\">\n",
       "       (function() {\n",
       "           var plotSpec={\n",
       "\"data\":{\n",
       "\"lon\":[-73.7997,-149.9002],\n",
       "\"lat\":[40.6408,61.218]\n",
       "},\n",
       "\"mapping\":{\n",
       "\"x\":\"lon\",\n",
       "\"y\":\"lat\"\n",
       "},\n",
       "\"data_meta\":{\n",
       "\"series_annotations\":[{\n",
       "\"type\":\"float\",\n",
       "\"column\":\"lon\"\n",
       "},{\n",
       "\"type\":\"float\",\n",
       "\"column\":\"lat\"\n",
       "}]\n",
       "},\n",
       "\"kind\":\"plot\",\n",
       "\"scales\":[],\n",
       "\"layers\":[{\n",
       "\"geom\":\"livemap\",\n",
       "\"mapping\":{\n",
       "},\n",
       "\"data_meta\":{\n",
       "},\n",
       "\"tiles\":{\n",
       "\"kind\":\"vector_lets_plot\",\n",
       "\"url\":\"wss://tiles.datalore.jetbrains.com\",\n",
       "\"theme\":\"color\",\n",
       "\"attribution\":\"<a href=\\\"https://lets-plot.org\\\">© Lets-Plot</a>, map data: <a href=\\\"https://www.openstreetmap.org/copyright\\\">© OpenStreetMap contributors</a>.\"\n",
       "},\n",
       "\"geocoding\":{\n",
       "\"url\":\"https://geo2.datalore.jetbrains.com/map_data/geocoding\"\n",
       "},\n",
       "\"data\":{\n",
       "}\n",
       "},{\n",
       "\"geom\":\"path\",\n",
       "\"mapping\":{\n",
       "},\n",
       "\"data_meta\":{\n",
       "},\n",
       "\"data\":{\n",
       "}\n",
       "}],\n",
       "\"metainfo_list\":[]\n",
       "};\n",
       "           var plotContainer = document.getElementById(\"B0JpDk\");\n",
       "           window.letsPlotCall(function() {{\n",
       "               LetsPlot.buildPlotFromProcessedSpecs(plotSpec, -1, -1, plotContainer);\n",
       "           }});\n",
       "       })();\n",
       "   </script>"
      ],
      "text/plain": [
       "<lets_plot.plot.core.PlotSpec at 0x144a99870>"
      ]
     },
     "execution_count": 4,
     "metadata": {},
     "output_type": "execute_result"
    }
   ],
   "source": [
    "ggplot(data, aes(x='lon', y='lat')) + \\\n",
    "    geom_livemap() + \\\n",
    "    geom_path()"
   ]
  },
  {
   "cell_type": "markdown",
   "id": "114fdc86",
   "metadata": {},
   "source": [
    "#### 2. With flat=True\n",
    "\n",
    "If it is necessary to indicate distances for example, travel routes, a straight line is better. This is how `geom_path()` is rendered with parameter `flat=True` on livemap."
   ]
  },
  {
   "cell_type": "code",
   "execution_count": 5,
   "id": "8b5875e5",
   "metadata": {
    "execution": {
     "iopub.execute_input": "2024-09-27T18:11:39.425316Z",
     "iopub.status.busy": "2024-09-27T18:11:39.425238Z",
     "iopub.status.idle": "2024-09-27T18:11:39.427810Z",
     "shell.execute_reply": "2024-09-27T18:11:39.427597Z"
    }
   },
   "outputs": [
    {
     "data": {
      "text/html": [
       "   <div id=\"rjBB6k\"></div>\n",
       "   <script type=\"text/javascript\" data-lets-plot-script=\"plot\">\n",
       "       (function() {\n",
       "           var plotSpec={\n",
       "\"data\":{\n",
       "\"lon\":[-73.7997,-149.9002],\n",
       "\"lat\":[40.6408,61.218]\n",
       "},\n",
       "\"mapping\":{\n",
       "\"x\":\"lon\",\n",
       "\"y\":\"lat\"\n",
       "},\n",
       "\"data_meta\":{\n",
       "\"series_annotations\":[{\n",
       "\"type\":\"float\",\n",
       "\"column\":\"lon\"\n",
       "},{\n",
       "\"type\":\"float\",\n",
       "\"column\":\"lat\"\n",
       "}]\n",
       "},\n",
       "\"kind\":\"plot\",\n",
       "\"scales\":[],\n",
       "\"layers\":[{\n",
       "\"geom\":\"livemap\",\n",
       "\"mapping\":{\n",
       "},\n",
       "\"data_meta\":{\n",
       "},\n",
       "\"tiles\":{\n",
       "\"kind\":\"vector_lets_plot\",\n",
       "\"url\":\"wss://tiles.datalore.jetbrains.com\",\n",
       "\"theme\":\"color\",\n",
       "\"attribution\":\"<a href=\\\"https://lets-plot.org\\\">© Lets-Plot</a>, map data: <a href=\\\"https://www.openstreetmap.org/copyright\\\">© OpenStreetMap contributors</a>.\"\n",
       "},\n",
       "\"geocoding\":{\n",
       "\"url\":\"https://geo2.datalore.jetbrains.com/map_data/geocoding\"\n",
       "},\n",
       "\"data\":{\n",
       "}\n",
       "},{\n",
       "\"geom\":\"path\",\n",
       "\"mapping\":{\n",
       "},\n",
       "\"data_meta\":{\n",
       "},\n",
       "\"flat\":true,\n",
       "\"data\":{\n",
       "}\n",
       "}],\n",
       "\"metainfo_list\":[]\n",
       "};\n",
       "           var plotContainer = document.getElementById(\"rjBB6k\");\n",
       "           window.letsPlotCall(function() {{\n",
       "               LetsPlot.buildPlotFromProcessedSpecs(plotSpec, -1, -1, plotContainer);\n",
       "           }});\n",
       "       })();\n",
       "   </script>"
      ],
      "text/plain": [
       "<lets_plot.plot.core.PlotSpec at 0x144a9a830>"
      ]
     },
     "execution_count": 5,
     "metadata": {},
     "output_type": "execute_result"
    }
   ],
   "source": [
    "ggplot(data, aes(x='lon', y='lat')) + \\\n",
    "    geom_livemap() + \\\n",
    "    geom_path(flat=True)"
   ]
  }
 ],
 "metadata": {
  "kernelspec": {
   "display_name": "Python 3 (ipykernel)",
   "language": "python",
   "name": "python3"
  },
  "language_info": {
   "codemirror_mode": {
    "name": "ipython",
    "version": 3
   },
   "file_extension": ".py",
   "mimetype": "text/x-python",
   "name": "python",
   "nbconvert_exporter": "python",
   "pygments_lexer": "ipython3",
   "version": "3.10.15"
  }
 },
 "nbformat": 4,
 "nbformat_minor": 5
}
