{
 "cells": [
  {
   "cell_type": "markdown",
   "metadata": {},
   "source": [
    "# Geopandas and GeoDataFrame"
   ]
  },
  {
   "cell_type": "code",
   "execution_count": 1,
   "metadata": {
    "execution": {
     "iopub.execute_input": "2024-09-27T18:17:05.460750Z",
     "iopub.status.busy": "2024-09-27T18:17:05.460441Z",
     "iopub.status.idle": "2024-09-27T18:17:05.908841Z",
     "shell.execute_reply": "2024-09-27T18:17:05.908570Z"
    }
   },
   "outputs": [
    {
     "data": {
      "text/html": [
       "\n",
       "            <div id=\"SvB6rR\"></div>\n",
       "            <script type=\"text/javascript\" data-lets-plot-script=\"library\">\n",
       "                if(!window.letsPlotCallQueue) {\n",
       "                    window.letsPlotCallQueue = [];\n",
       "                }; \n",
       "                window.letsPlotCall = function(f) {\n",
       "                    window.letsPlotCallQueue.push(f);\n",
       "                };\n",
       "                (function() {\n",
       "                    var script = document.createElement(\"script\");\n",
       "                    script.type = \"text/javascript\";\n",
       "                    script.src = \"https://cdn.jsdelivr.net/gh/JetBrains/lets-plot@v4.4.1/js-package/distr/lets-plot.min.js\";\n",
       "                    script.onload = function() {\n",
       "                        window.letsPlotCall = function(f) {f();};\n",
       "                        window.letsPlotCallQueue.forEach(function(f) {f();});\n",
       "                        window.letsPlotCallQueue = [];\n",
       "                        \n",
       "                    };\n",
       "                    script.onerror = function(event) {\n",
       "                        window.letsPlotCall = function(f) {};    // noop\n",
       "                        window.letsPlotCallQueue = [];\n",
       "                        var div = document.createElement(\"div\");\n",
       "                        div.style.color = 'darkred';\n",
       "                        div.textContent = 'Error loading Lets-Plot JS';\n",
       "                        document.getElementById(\"SvB6rR\").appendChild(div);\n",
       "                    };\n",
       "                    var e = document.getElementById(\"SvB6rR\");\n",
       "                    e.appendChild(script);\n",
       "                })()\n",
       "            </script>\n",
       "            "
      ]
     },
     "metadata": {},
     "output_type": "display_data"
    }
   ],
   "source": [
    "import pandas as pd\n",
    "from geopandas import GeoDataFrame\n",
    "from shapely.geometry import MultiPolygon, Polygon, LinearRing, Point, MultiPoint, LineString, MultiLineString, mapping\n",
    "\n",
    "from lets_plot import *\n",
    "LetsPlot.setup_html()"
   ]
  },
  {
   "cell_type": "markdown",
   "metadata": {},
   "source": [
    "### Let's draw GeoDataFrame on plot"
   ]
  },
  {
   "cell_type": "code",
   "execution_count": 2,
   "metadata": {
    "execution": {
     "iopub.execute_input": "2024-09-27T18:17:05.924348Z",
     "iopub.status.busy": "2024-09-27T18:17:05.924209Z",
     "iopub.status.idle": "2024-09-27T18:17:05.927586Z",
     "shell.execute_reply": "2024-09-27T18:17:05.927306Z"
    }
   },
   "outputs": [],
   "source": [
    "POINT = Point(-5, 17)\n",
    "\n",
    "MULTI_POINT = MultiPoint([Point(3, 15), Point(6, 13)])\n",
    "\n",
    "LINE = LineString([(0, 0), (5, 5)])\n",
    "\n",
    "MULTI_LINE = MultiLineString([\n",
    "    LineString([(10, 0), (15, 5)]),\n",
    "    LineString([(10, 5), (15, 0)])\n",
    "])\n",
    "\n",
    "POLYGON = Polygon(\n",
    "    LinearRing([(1, 1), (1, 9), (9, 9), (9, 1)]),\n",
    "    [LinearRing([(2, 2), (3, 2), (3, 3), (2, 3)]),\n",
    "     LinearRing([(4, 4), (6, 4), (6, 6), (4, 6)])]\n",
    ")\n",
    "\n",
    "MULTIPOLYGON = MultiPolygon([\n",
    "    Polygon(LinearRing([(11, 12), (13, 14), (15, 13), (7, 4)])),\n",
    "    Polygon(LinearRing([(10, 2), (13, 10), (12, 3)]))\n",
    "])"
   ]
  },
  {
   "cell_type": "code",
   "execution_count": 3,
   "metadata": {
    "execution": {
     "iopub.execute_input": "2024-09-27T18:17:05.928627Z",
     "iopub.status.busy": "2024-09-27T18:17:05.928556Z",
     "iopub.status.idle": "2024-09-27T18:17:05.930840Z",
     "shell.execute_reply": "2024-09-27T18:17:05.930644Z"
    }
   },
   "outputs": [],
   "source": [
    "gdf = GeoDataFrame(\n",
    "    data={\n",
    "        'key': ['A', 'B', 'C', 'A', 'B', 'C'],\n",
    "        'kind': ['Point', 'MPoint', 'Line', 'MLine', 'Polygon', 'MPolygon'],\n",
    "        'coord': [POINT, MULTI_POINT, LINE, MULTI_LINE, POLYGON, MULTIPOLYGON]\n",
    "    },\n",
    "    geometry='coord'\n",
    ")"
   ]
  },
  {
   "cell_type": "markdown",
   "metadata": {},
   "source": [
    "### Geom kinds that support GeoDataFrame"
   ]
  },
  {
   "cell_type": "markdown",
   "metadata": {},
   "source": [
    "#### geom_polygon()\n",
    "GeoDataFrame is supported natively in the 'data' parameter. Geometries of shapes Polygon and MultiPolygon are automatically taken from GeoDataFrame for geom_polygon()."
   ]
  },
  {
   "cell_type": "code",
   "execution_count": 4,
   "metadata": {
    "execution": {
     "iopub.execute_input": "2024-09-27T18:17:05.931990Z",
     "iopub.status.busy": "2024-09-27T18:17:05.931921Z",
     "iopub.status.idle": "2024-09-27T18:17:05.936352Z",
     "shell.execute_reply": "2024-09-27T18:17:05.936166Z"
    }
   },
   "outputs": [
    {
     "data": {
      "text/html": [
       "   <div id=\"MLu7We\"></div>\n",
       "   <script type=\"text/javascript\" data-lets-plot-script=\"plot\">\n",
       "       (function() {\n",
       "           var plotSpec={\n",
       "\"mapping\":{\n",
       "},\n",
       "\"data_meta\":{\n",
       "},\n",
       "\"kind\":\"plot\",\n",
       "\"scales\":[],\n",
       "\"layers\":[{\n",
       "\"geom\":\"polygon\",\n",
       "\"data\":{\n",
       "\"kind\":[\"Point\",\"MPoint\",\"Line\",\"MLine\",\"Polygon\",\"MPolygon\"],\n",
       "\"coord\":[\"{\\\"type\\\": \\\"Point\\\", \\\"coordinates\\\": [-5.0, 17.0]}\",\"{\\\"type\\\": \\\"MultiPoint\\\", \\\"coordinates\\\": [[3.0, 15.0], [6.0, 13.0]]}\",\"{\\\"type\\\": \\\"LineString\\\", \\\"coordinates\\\": [[0.0, 0.0], [5.0, 5.0]]}\",\"{\\\"type\\\": \\\"MultiLineString\\\", \\\"coordinates\\\": [[[10.0, 0.0], [15.0, 5.0]], [[10.0, 5.0], [15.0, 0.0]]]}\",\"{\\\"type\\\": \\\"Polygon\\\", \\\"coordinates\\\": [[[1.0, 1.0], [1.0, 9.0], [9.0, 9.0], [9.0, 1.0], [1.0, 1.0]], [[2.0, 2.0], [3.0, 2.0], [3.0, 3.0], [2.0, 3.0], [2.0, 2.0]], [[4.0, 4.0], [6.0, 4.0], [6.0, 6.0], [4.0, 6.0], [4.0, 4.0]]]}\",\"{\\\"type\\\": \\\"MultiPolygon\\\", \\\"coordinates\\\": [[[[11.0, 12.0], [13.0, 14.0], [15.0, 13.0], [7.0, 4.0], [11.0, 12.0]]], [[[10.0, 2.0], [13.0, 10.0], [12.0, 3.0], [10.0, 2.0]]]]}\"]\n",
       "},\n",
       "\"mapping\":{\n",
       "\"fill\":\"kind\"\n",
       "},\n",
       "\"data_meta\":{\n",
       "\"series_annotations\":[{\n",
       "\"type\":\"str\",\n",
       "\"column\":\"key\"\n",
       "},{\n",
       "\"type\":\"str\",\n",
       "\"column\":\"kind\"\n",
       "},{\n",
       "\"type\":\"unknown(pandas:unknown-array)\",\n",
       "\"column\":\"coord\"\n",
       "}],\n",
       "\"geodataframe\":{\n",
       "\"geometry\":\"coord\"\n",
       "}\n",
       "}\n",
       "}],\n",
       "\"metainfo_list\":[]\n",
       "};\n",
       "           var plotContainer = document.getElementById(\"MLu7We\");\n",
       "           window.letsPlotCall(function() {{\n",
       "               LetsPlot.buildPlotFromProcessedSpecs(plotSpec, -1, -1, plotContainer);\n",
       "           }});\n",
       "       })();\n",
       "   </script>"
      ],
      "text/plain": [
       "<lets_plot.plot.core.PlotSpec at 0x14481edd0>"
      ]
     },
     "execution_count": 4,
     "metadata": {},
     "output_type": "execute_result"
    }
   ],
   "source": [
    "ggplot() + geom_polygon(aes(fill='kind'), data=gdf)"
   ]
  },
  {
   "cell_type": "markdown",
   "metadata": {},
   "source": [
    "GeoDataFrame can be used in the 'map' parameter (without 'data' specified). Geometries of shapes Polygon and MultiPolygon are automatically taken from GeoDataFrame for geom_polygon()."
   ]
  },
  {
   "cell_type": "code",
   "execution_count": 5,
   "metadata": {
    "execution": {
     "iopub.execute_input": "2024-09-27T18:17:05.937423Z",
     "iopub.status.busy": "2024-09-27T18:17:05.937328Z",
     "iopub.status.idle": "2024-09-27T18:17:05.940007Z",
     "shell.execute_reply": "2024-09-27T18:17:05.939826Z"
    }
   },
   "outputs": [
    {
     "data": {
      "text/html": [
       "   <div id=\"v047vE\"></div>\n",
       "   <script type=\"text/javascript\" data-lets-plot-script=\"plot\">\n",
       "       (function() {\n",
       "           var plotSpec={\n",
       "\"mapping\":{\n",
       "},\n",
       "\"data_meta\":{\n",
       "},\n",
       "\"kind\":\"plot\",\n",
       "\"scales\":[],\n",
       "\"layers\":[{\n",
       "\"geom\":\"polygon\",\n",
       "\"mapping\":{\n",
       "},\n",
       "\"data_meta\":{\n",
       "},\n",
       "\"map\":{\n",
       "\"key\":[\"A\",\"B\",\"C\",\"A\",\"B\",\"C\"],\n",
       "\"kind\":[\"Point\",\"MPoint\",\"Line\",\"MLine\",\"Polygon\",\"MPolygon\"],\n",
       "\"coord\":[\"{\\\"type\\\": \\\"Point\\\", \\\"coordinates\\\": [-5.0, 17.0]}\",\"{\\\"type\\\": \\\"MultiPoint\\\", \\\"coordinates\\\": [[3.0, 15.0], [6.0, 13.0]]}\",\"{\\\"type\\\": \\\"LineString\\\", \\\"coordinates\\\": [[0.0, 0.0], [5.0, 5.0]]}\",\"{\\\"type\\\": \\\"MultiLineString\\\", \\\"coordinates\\\": [[[10.0, 0.0], [15.0, 5.0]], [[10.0, 5.0], [15.0, 0.0]]]}\",\"{\\\"type\\\": \\\"Polygon\\\", \\\"coordinates\\\": [[[1.0, 1.0], [1.0, 9.0], [9.0, 9.0], [9.0, 1.0], [1.0, 1.0]], [[2.0, 2.0], [3.0, 2.0], [3.0, 3.0], [2.0, 3.0], [2.0, 2.0]], [[4.0, 4.0], [6.0, 4.0], [6.0, 6.0], [4.0, 6.0], [4.0, 4.0]]]}\",\"{\\\"type\\\": \\\"MultiPolygon\\\", \\\"coordinates\\\": [[[[11.0, 12.0], [13.0, 14.0], [15.0, 13.0], [7.0, 4.0], [11.0, 12.0]]], [[[10.0, 2.0], [13.0, 10.0], [12.0, 3.0], [10.0, 2.0]]]]}\"]\n",
       "},\n",
       "\"map_data_meta\":{\n",
       "\"geodataframe\":{\n",
       "\"geometry\":\"coord\"\n",
       "}\n",
       "},\n",
       "\"data\":{\n",
       "}\n",
       "}],\n",
       "\"metainfo_list\":[]\n",
       "};\n",
       "           var plotContainer = document.getElementById(\"v047vE\");\n",
       "           window.letsPlotCall(function() {{\n",
       "               LetsPlot.buildPlotFromProcessedSpecs(plotSpec, -1, -1, plotContainer);\n",
       "           }});\n",
       "       })();\n",
       "   </script>"
      ],
      "text/plain": [
       "<lets_plot.plot.core.PlotSpec at 0x14481f370>"
      ]
     },
     "execution_count": 5,
     "metadata": {},
     "output_type": "execute_result"
    }
   ],
   "source": [
    "ggplot() + geom_polygon(map=gdf)"
   ]
  },
  {
   "cell_type": "markdown",
   "metadata": {},
   "source": [
    "The data specified in the 'data' and geometries from the 'map' can be joined by a key value from 'map_id' aesthetic."
   ]
  },
  {
   "cell_type": "code",
   "execution_count": 6,
   "metadata": {
    "execution": {
     "iopub.execute_input": "2024-09-27T18:17:05.941136Z",
     "iopub.status.busy": "2024-09-27T18:17:05.941047Z",
     "iopub.status.idle": "2024-09-27T18:17:05.942820Z",
     "shell.execute_reply": "2024-09-27T18:17:05.942625Z"
    }
   },
   "outputs": [],
   "source": [
    "df = pd.DataFrame({\n",
    "    'name': ['A', 'B', 'C'],\n",
    "    'value': [42, 23, 87],\n",
    "})"
   ]
  },
  {
   "cell_type": "code",
   "execution_count": 7,
   "metadata": {
    "execution": {
     "iopub.execute_input": "2024-09-27T18:17:05.943775Z",
     "iopub.status.busy": "2024-09-27T18:17:05.943700Z",
     "iopub.status.idle": "2024-09-27T18:17:05.946709Z",
     "shell.execute_reply": "2024-09-27T18:17:05.946524Z"
    }
   },
   "outputs": [
    {
     "data": {
      "text/html": [
       "   <div id=\"HXM3bp\"></div>\n",
       "   <script type=\"text/javascript\" data-lets-plot-script=\"plot\">\n",
       "       (function() {\n",
       "           var plotSpec={\n",
       "\"mapping\":{\n",
       "},\n",
       "\"data_meta\":{\n",
       "},\n",
       "\"kind\":\"plot\",\n",
       "\"scales\":[],\n",
       "\"layers\":[{\n",
       "\"geom\":\"polygon\",\n",
       "\"data\":{\n",
       "\"name\":[\"A\",\"B\",\"C\"],\n",
       "\"value\":[42.0,23.0,87.0]\n",
       "},\n",
       "\"mapping\":{\n",
       "\"fill\":\"value\"\n",
       "},\n",
       "\"data_meta\":{\n",
       "\"series_annotations\":[{\n",
       "\"type\":\"str\",\n",
       "\"column\":\"name\"\n",
       "},{\n",
       "\"type\":\"int\",\n",
       "\"column\":\"value\"\n",
       "}]\n",
       "},\n",
       "\"map\":{\n",
       "\"key\":[\"A\",\"B\",\"C\",\"A\",\"B\",\"C\"],\n",
       "\"kind\":[\"Point\",\"MPoint\",\"Line\",\"MLine\",\"Polygon\",\"MPolygon\"],\n",
       "\"coord\":[\"{\\\"type\\\": \\\"Point\\\", \\\"coordinates\\\": [-5.0, 17.0]}\",\"{\\\"type\\\": \\\"MultiPoint\\\", \\\"coordinates\\\": [[3.0, 15.0], [6.0, 13.0]]}\",\"{\\\"type\\\": \\\"LineString\\\", \\\"coordinates\\\": [[0.0, 0.0], [5.0, 5.0]]}\",\"{\\\"type\\\": \\\"MultiLineString\\\", \\\"coordinates\\\": [[[10.0, 0.0], [15.0, 5.0]], [[10.0, 5.0], [15.0, 0.0]]]}\",\"{\\\"type\\\": \\\"Polygon\\\", \\\"coordinates\\\": [[[1.0, 1.0], [1.0, 9.0], [9.0, 9.0], [9.0, 1.0], [1.0, 1.0]], [[2.0, 2.0], [3.0, 2.0], [3.0, 3.0], [2.0, 3.0], [2.0, 2.0]], [[4.0, 4.0], [6.0, 4.0], [6.0, 6.0], [4.0, 6.0], [4.0, 4.0]]]}\",\"{\\\"type\\\": \\\"MultiPolygon\\\", \\\"coordinates\\\": [[[[11.0, 12.0], [13.0, 14.0], [15.0, 13.0], [7.0, 4.0], [11.0, 12.0]]], [[[10.0, 2.0], [13.0, 10.0], [12.0, 3.0], [10.0, 2.0]]]]}\"]\n",
       "},\n",
       "\"map_join\":[[\"name\"],[\"key\"]],\n",
       "\"map_data_meta\":{\n",
       "\"geodataframe\":{\n",
       "\"geometry\":\"coord\"\n",
       "}\n",
       "}\n",
       "}],\n",
       "\"metainfo_list\":[]\n",
       "};\n",
       "           var plotContainer = document.getElementById(\"HXM3bp\");\n",
       "           window.letsPlotCall(function() {{\n",
       "               LetsPlot.buildPlotFromProcessedSpecs(plotSpec, -1, -1, plotContainer);\n",
       "           }});\n",
       "       })();\n",
       "   </script>"
      ],
      "text/plain": [
       "<lets_plot.plot.core.PlotSpec at 0x107f47f70>"
      ]
     },
     "execution_count": 7,
     "metadata": {},
     "output_type": "execute_result"
    }
   ],
   "source": [
    "ggplot() + geom_polygon(aes(fill='value'), data=df, map=gdf, map_join=['name', 'key'])"
   ]
  },
  {
   "cell_type": "markdown",
   "metadata": {},
   "source": [
    "#### geom_point() and geom_text()\n",
    "\n",
    "GeoDataFrame is supported natively in the 'data' parameter for geom_point() and geom_text(). Geometries of shapes Point and MultiPoint are automatically taken from GeoDataFrame. \n"
   ]
  },
  {
   "cell_type": "code",
   "execution_count": 8,
   "metadata": {
    "execution": {
     "iopub.execute_input": "2024-09-27T18:17:05.947719Z",
     "iopub.status.busy": "2024-09-27T18:17:05.947649Z",
     "iopub.status.idle": "2024-09-27T18:17:05.951095Z",
     "shell.execute_reply": "2024-09-27T18:17:05.950911Z"
    }
   },
   "outputs": [
    {
     "data": {
      "text/html": [
       "   <div id=\"kaQkLO\"></div>\n",
       "   <script type=\"text/javascript\" data-lets-plot-script=\"plot\">\n",
       "       (function() {\n",
       "           var plotSpec={\n",
       "\"mapping\":{\n",
       "},\n",
       "\"data_meta\":{\n",
       "},\n",
       "\"kind\":\"plot\",\n",
       "\"scales\":[],\n",
       "\"layers\":[{\n",
       "\"geom\":\"point\",\n",
       "\"data\":{\n",
       "\"kind\":[\"Point\",\"MPoint\",\"Line\",\"MLine\",\"Polygon\",\"MPolygon\"],\n",
       "\"coord\":[\"{\\\"type\\\": \\\"Point\\\", \\\"coordinates\\\": [-5.0, 17.0]}\",\"{\\\"type\\\": \\\"MultiPoint\\\", \\\"coordinates\\\": [[3.0, 15.0], [6.0, 13.0]]}\",\"{\\\"type\\\": \\\"LineString\\\", \\\"coordinates\\\": [[0.0, 0.0], [5.0, 5.0]]}\",\"{\\\"type\\\": \\\"MultiLineString\\\", \\\"coordinates\\\": [[[10.0, 0.0], [15.0, 5.0]], [[10.0, 5.0], [15.0, 0.0]]]}\",\"{\\\"type\\\": \\\"Polygon\\\", \\\"coordinates\\\": [[[1.0, 1.0], [1.0, 9.0], [9.0, 9.0], [9.0, 1.0], [1.0, 1.0]], [[2.0, 2.0], [3.0, 2.0], [3.0, 3.0], [2.0, 3.0], [2.0, 2.0]], [[4.0, 4.0], [6.0, 4.0], [6.0, 6.0], [4.0, 6.0], [4.0, 4.0]]]}\",\"{\\\"type\\\": \\\"MultiPolygon\\\", \\\"coordinates\\\": [[[[11.0, 12.0], [13.0, 14.0], [15.0, 13.0], [7.0, 4.0], [11.0, 12.0]]], [[[10.0, 2.0], [13.0, 10.0], [12.0, 3.0], [10.0, 2.0]]]]}\"]\n",
       "},\n",
       "\"mapping\":{\n",
       "\"color\":\"kind\"\n",
       "},\n",
       "\"data_meta\":{\n",
       "\"series_annotations\":[{\n",
       "\"type\":\"str\",\n",
       "\"column\":\"key\"\n",
       "},{\n",
       "\"type\":\"str\",\n",
       "\"column\":\"kind\"\n",
       "},{\n",
       "\"type\":\"unknown(pandas:unknown-array)\",\n",
       "\"column\":\"coord\"\n",
       "}],\n",
       "\"geodataframe\":{\n",
       "\"geometry\":\"coord\"\n",
       "}\n",
       "},\n",
       "\"size\":10.0\n",
       "},{\n",
       "\"geom\":\"text\",\n",
       "\"data\":{\n",
       "\"kind\":[\"Point\",\"MPoint\",\"Line\",\"MLine\",\"Polygon\",\"MPolygon\"],\n",
       "\"coord\":[\"{\\\"type\\\": \\\"Point\\\", \\\"coordinates\\\": [-5.0, 17.0]}\",\"{\\\"type\\\": \\\"MultiPoint\\\", \\\"coordinates\\\": [[3.0, 15.0], [6.0, 13.0]]}\",\"{\\\"type\\\": \\\"LineString\\\", \\\"coordinates\\\": [[0.0, 0.0], [5.0, 5.0]]}\",\"{\\\"type\\\": \\\"MultiLineString\\\", \\\"coordinates\\\": [[[10.0, 0.0], [15.0, 5.0]], [[10.0, 5.0], [15.0, 0.0]]]}\",\"{\\\"type\\\": \\\"Polygon\\\", \\\"coordinates\\\": [[[1.0, 1.0], [1.0, 9.0], [9.0, 9.0], [9.0, 1.0], [1.0, 1.0]], [[2.0, 2.0], [3.0, 2.0], [3.0, 3.0], [2.0, 3.0], [2.0, 2.0]], [[4.0, 4.0], [6.0, 4.0], [6.0, 6.0], [4.0, 6.0], [4.0, 4.0]]]}\",\"{\\\"type\\\": \\\"MultiPolygon\\\", \\\"coordinates\\\": [[[[11.0, 12.0], [13.0, 14.0], [15.0, 13.0], [7.0, 4.0], [11.0, 12.0]]], [[[10.0, 2.0], [13.0, 10.0], [12.0, 3.0], [10.0, 2.0]]]]}\"]\n",
       "},\n",
       "\"mapping\":{\n",
       "\"label\":\"kind\"\n",
       "},\n",
       "\"data_meta\":{\n",
       "\"series_annotations\":[{\n",
       "\"type\":\"str\",\n",
       "\"column\":\"key\"\n",
       "},{\n",
       "\"type\":\"str\",\n",
       "\"column\":\"kind\"\n",
       "},{\n",
       "\"type\":\"unknown(pandas:unknown-array)\",\n",
       "\"column\":\"coord\"\n",
       "}],\n",
       "\"geodataframe\":{\n",
       "\"geometry\":\"coord\"\n",
       "}\n",
       "},\n",
       "\"angle\":25.0\n",
       "}],\n",
       "\"metainfo_list\":[]\n",
       "};\n",
       "           var plotContainer = document.getElementById(\"kaQkLO\");\n",
       "           window.letsPlotCall(function() {{\n",
       "               LetsPlot.buildPlotFromProcessedSpecs(plotSpec, -1, -1, plotContainer);\n",
       "           }});\n",
       "       })();\n",
       "   </script>"
      ],
      "text/plain": [
       "<lets_plot.plot.core.PlotSpec at 0x144834610>"
      ]
     },
     "execution_count": 8,
     "metadata": {},
     "output_type": "execute_result"
    }
   ],
   "source": [
    "ggplot() + geom_point(aes(color='kind'), data=gdf, size=10) + \\\n",
    "    geom_text(aes(label='kind'), data=gdf, angle=25)"
   ]
  },
  {
   "cell_type": "code",
   "execution_count": 9,
   "metadata": {
    "execution": {
     "iopub.execute_input": "2024-09-27T18:17:05.952056Z",
     "iopub.status.busy": "2024-09-27T18:17:05.951987Z",
     "iopub.status.idle": "2024-09-27T18:17:05.954801Z",
     "shell.execute_reply": "2024-09-27T18:17:05.954602Z"
    }
   },
   "outputs": [
    {
     "data": {
      "text/html": [
       "   <div id=\"9ECQMN\"></div>\n",
       "   <script type=\"text/javascript\" data-lets-plot-script=\"plot\">\n",
       "       (function() {\n",
       "           var plotSpec={\n",
       "\"mapping\":{\n",
       "},\n",
       "\"data_meta\":{\n",
       "},\n",
       "\"kind\":\"plot\",\n",
       "\"scales\":[],\n",
       "\"layers\":[{\n",
       "\"geom\":\"text\",\n",
       "\"data\":{\n",
       "\"key\":[\"A\",\"B\",\"C\",\"A\",\"B\",\"C\"],\n",
       "\"kind\":[\"Point\",\"MPoint\",\"Line\",\"MLine\",\"Polygon\",\"MPolygon\"],\n",
       "\"coord\":[\"{\\\"type\\\": \\\"Point\\\", \\\"coordinates\\\": [-5.0, 17.0]}\",\"{\\\"type\\\": \\\"MultiPoint\\\", \\\"coordinates\\\": [[3.0, 15.0], [6.0, 13.0]]}\",\"{\\\"type\\\": \\\"LineString\\\", \\\"coordinates\\\": [[0.0, 0.0], [5.0, 5.0]]}\",\"{\\\"type\\\": \\\"MultiLineString\\\", \\\"coordinates\\\": [[[10.0, 0.0], [15.0, 5.0]], [[10.0, 5.0], [15.0, 0.0]]]}\",\"{\\\"type\\\": \\\"Polygon\\\", \\\"coordinates\\\": [[[1.0, 1.0], [1.0, 9.0], [9.0, 9.0], [9.0, 1.0], [1.0, 1.0]], [[2.0, 2.0], [3.0, 2.0], [3.0, 3.0], [2.0, 3.0], [2.0, 2.0]], [[4.0, 4.0], [6.0, 4.0], [6.0, 6.0], [4.0, 6.0], [4.0, 4.0]]]}\",\"{\\\"type\\\": \\\"MultiPolygon\\\", \\\"coordinates\\\": [[[[11.0, 12.0], [13.0, 14.0], [15.0, 13.0], [7.0, 4.0], [11.0, 12.0]]], [[[10.0, 2.0], [13.0, 10.0], [12.0, 3.0], [10.0, 2.0]]]]}\"]\n",
       "},\n",
       "\"mapping\":{\n",
       "\"label\":\"key\",\n",
       "\"color\":\"kind\"\n",
       "},\n",
       "\"data_meta\":{\n",
       "\"series_annotations\":[{\n",
       "\"type\":\"str\",\n",
       "\"column\":\"key\"\n",
       "},{\n",
       "\"type\":\"str\",\n",
       "\"column\":\"kind\"\n",
       "},{\n",
       "\"type\":\"unknown(pandas:unknown-array)\",\n",
       "\"column\":\"coord\"\n",
       "}],\n",
       "\"geodataframe\":{\n",
       "\"geometry\":\"coord\"\n",
       "}\n",
       "}\n",
       "}],\n",
       "\"metainfo_list\":[]\n",
       "};\n",
       "           var plotContainer = document.getElementById(\"9ECQMN\");\n",
       "           window.letsPlotCall(function() {{\n",
       "               LetsPlot.buildPlotFromProcessedSpecs(plotSpec, -1, -1, plotContainer);\n",
       "           }});\n",
       "       })();\n",
       "   </script>"
      ],
      "text/plain": [
       "<lets_plot.plot.core.PlotSpec at 0x144835540>"
      ]
     },
     "execution_count": 9,
     "metadata": {},
     "output_type": "execute_result"
    }
   ],
   "source": [
    "ggplot() + geom_text(aes(label='key', color='kind'), data=gdf)"
   ]
  },
  {
   "cell_type": "markdown",
   "metadata": {},
   "source": [
    "GeoDataFrame can be used in the 'map' parameter (without 'data' specified). Geometries of shapes Point and MultiPoint are automatically taken from GeoDataFrame for geom_point()."
   ]
  },
  {
   "cell_type": "code",
   "execution_count": 10,
   "metadata": {
    "execution": {
     "iopub.execute_input": "2024-09-27T18:17:05.955791Z",
     "iopub.status.busy": "2024-09-27T18:17:05.955722Z",
     "iopub.status.idle": "2024-09-27T18:17:05.958370Z",
     "shell.execute_reply": "2024-09-27T18:17:05.958185Z"
    }
   },
   "outputs": [
    {
     "data": {
      "text/html": [
       "   <div id=\"XeE5sg\"></div>\n",
       "   <script type=\"text/javascript\" data-lets-plot-script=\"plot\">\n",
       "       (function() {\n",
       "           var plotSpec={\n",
       "\"mapping\":{\n",
       "},\n",
       "\"data_meta\":{\n",
       "},\n",
       "\"kind\":\"plot\",\n",
       "\"scales\":[],\n",
       "\"layers\":[{\n",
       "\"geom\":\"point\",\n",
       "\"mapping\":{\n",
       "},\n",
       "\"data_meta\":{\n",
       "},\n",
       "\"map\":{\n",
       "\"key\":[\"A\",\"B\",\"C\",\"A\",\"B\",\"C\"],\n",
       "\"kind\":[\"Point\",\"MPoint\",\"Line\",\"MLine\",\"Polygon\",\"MPolygon\"],\n",
       "\"coord\":[\"{\\\"type\\\": \\\"Point\\\", \\\"coordinates\\\": [-5.0, 17.0]}\",\"{\\\"type\\\": \\\"MultiPoint\\\", \\\"coordinates\\\": [[3.0, 15.0], [6.0, 13.0]]}\",\"{\\\"type\\\": \\\"LineString\\\", \\\"coordinates\\\": [[0.0, 0.0], [5.0, 5.0]]}\",\"{\\\"type\\\": \\\"MultiLineString\\\", \\\"coordinates\\\": [[[10.0, 0.0], [15.0, 5.0]], [[10.0, 5.0], [15.0, 0.0]]]}\",\"{\\\"type\\\": \\\"Polygon\\\", \\\"coordinates\\\": [[[1.0, 1.0], [1.0, 9.0], [9.0, 9.0], [9.0, 1.0], [1.0, 1.0]], [[2.0, 2.0], [3.0, 2.0], [3.0, 3.0], [2.0, 3.0], [2.0, 2.0]], [[4.0, 4.0], [6.0, 4.0], [6.0, 6.0], [4.0, 6.0], [4.0, 4.0]]]}\",\"{\\\"type\\\": \\\"MultiPolygon\\\", \\\"coordinates\\\": [[[[11.0, 12.0], [13.0, 14.0], [15.0, 13.0], [7.0, 4.0], [11.0, 12.0]]], [[[10.0, 2.0], [13.0, 10.0], [12.0, 3.0], [10.0, 2.0]]]]}\"]\n",
       "},\n",
       "\"size\":10.0,\n",
       "\"map_data_meta\":{\n",
       "\"geodataframe\":{\n",
       "\"geometry\":\"coord\"\n",
       "}\n",
       "},\n",
       "\"data\":{\n",
       "}\n",
       "}],\n",
       "\"metainfo_list\":[]\n",
       "};\n",
       "           var plotContainer = document.getElementById(\"XeE5sg\");\n",
       "           window.letsPlotCall(function() {{\n",
       "               LetsPlot.buildPlotFromProcessedSpecs(plotSpec, -1, -1, plotContainer);\n",
       "           }});\n",
       "       })();\n",
       "   </script>"
      ],
      "text/plain": [
       "<lets_plot.plot.core.PlotSpec at 0x144835b70>"
      ]
     },
     "execution_count": 10,
     "metadata": {},
     "output_type": "execute_result"
    }
   ],
   "source": [
    "ggplot() + geom_point(map=gdf, size=10)"
   ]
  },
  {
   "cell_type": "markdown",
   "metadata": {},
   "source": [
    "The data specified in the 'data' and geometries from the 'map' can be joined by a pair of keys from 'map_join' param."
   ]
  },
  {
   "cell_type": "code",
   "execution_count": 11,
   "metadata": {
    "execution": {
     "iopub.execute_input": "2024-09-27T18:17:05.959359Z",
     "iopub.status.busy": "2024-09-27T18:17:05.959292Z",
     "iopub.status.idle": "2024-09-27T18:17:05.962345Z",
     "shell.execute_reply": "2024-09-27T18:17:05.962085Z"
    }
   },
   "outputs": [
    {
     "data": {
      "text/html": [
       "   <div id=\"6U9s4x\"></div>\n",
       "   <script type=\"text/javascript\" data-lets-plot-script=\"plot\">\n",
       "       (function() {\n",
       "           var plotSpec={\n",
       "\"mapping\":{\n",
       "},\n",
       "\"data_meta\":{\n",
       "},\n",
       "\"kind\":\"plot\",\n",
       "\"scales\":[],\n",
       "\"layers\":[{\n",
       "\"geom\":\"point\",\n",
       "\"data\":{\n",
       "\"name\":[\"A\",\"B\",\"C\"],\n",
       "\"value\":[42.0,23.0,87.0]\n",
       "},\n",
       "\"mapping\":{\n",
       "\"color\":\"value\"\n",
       "},\n",
       "\"data_meta\":{\n",
       "\"series_annotations\":[{\n",
       "\"type\":\"str\",\n",
       "\"column\":\"name\"\n",
       "},{\n",
       "\"type\":\"int\",\n",
       "\"column\":\"value\"\n",
       "}]\n",
       "},\n",
       "\"map\":{\n",
       "\"key\":[\"A\",\"B\",\"C\",\"A\",\"B\",\"C\"],\n",
       "\"kind\":[\"Point\",\"MPoint\",\"Line\",\"MLine\",\"Polygon\",\"MPolygon\"],\n",
       "\"coord\":[\"{\\\"type\\\": \\\"Point\\\", \\\"coordinates\\\": [-5.0, 17.0]}\",\"{\\\"type\\\": \\\"MultiPoint\\\", \\\"coordinates\\\": [[3.0, 15.0], [6.0, 13.0]]}\",\"{\\\"type\\\": \\\"LineString\\\", \\\"coordinates\\\": [[0.0, 0.0], [5.0, 5.0]]}\",\"{\\\"type\\\": \\\"MultiLineString\\\", \\\"coordinates\\\": [[[10.0, 0.0], [15.0, 5.0]], [[10.0, 5.0], [15.0, 0.0]]]}\",\"{\\\"type\\\": \\\"Polygon\\\", \\\"coordinates\\\": [[[1.0, 1.0], [1.0, 9.0], [9.0, 9.0], [9.0, 1.0], [1.0, 1.0]], [[2.0, 2.0], [3.0, 2.0], [3.0, 3.0], [2.0, 3.0], [2.0, 2.0]], [[4.0, 4.0], [6.0, 4.0], [6.0, 6.0], [4.0, 6.0], [4.0, 4.0]]]}\",\"{\\\"type\\\": \\\"MultiPolygon\\\", \\\"coordinates\\\": [[[[11.0, 12.0], [13.0, 14.0], [15.0, 13.0], [7.0, 4.0], [11.0, 12.0]]], [[[10.0, 2.0], [13.0, 10.0], [12.0, 3.0], [10.0, 2.0]]]]}\"]\n",
       "},\n",
       "\"map_join\":[[\"name\"],[\"key\"]],\n",
       "\"size\":10.0,\n",
       "\"map_data_meta\":{\n",
       "\"geodataframe\":{\n",
       "\"geometry\":\"coord\"\n",
       "}\n",
       "}\n",
       "}],\n",
       "\"metainfo_list\":[]\n",
       "};\n",
       "           var plotContainer = document.getElementById(\"6U9s4x\");\n",
       "           window.letsPlotCall(function() {{\n",
       "               LetsPlot.buildPlotFromProcessedSpecs(plotSpec, -1, -1, plotContainer);\n",
       "           }});\n",
       "       })();\n",
       "   </script>"
      ],
      "text/plain": [
       "<lets_plot.plot.core.PlotSpec at 0x144835bd0>"
      ]
     },
     "execution_count": 11,
     "metadata": {},
     "output_type": "execute_result"
    }
   ],
   "source": [
    "ggplot() + geom_point(aes(color='value'), data=df, map=gdf, size=10, map_join=['name','key'])"
   ]
  },
  {
   "cell_type": "markdown",
   "metadata": {},
   "source": [
    "#### geom_rect()\n",
    "\n",
    "GeoDataFrame is supported natively in the 'data' parameter of geom_rect(). Geometries of shapes MultiPoint, Line, MultiLine, Polygon and MultiPolygon are automatically taken from GeoDataFrame, their bounding boxes will be drawn. "
   ]
  },
  {
   "cell_type": "code",
   "execution_count": 12,
   "metadata": {
    "execution": {
     "iopub.execute_input": "2024-09-27T18:17:05.963382Z",
     "iopub.status.busy": "2024-09-27T18:17:05.963306Z",
     "iopub.status.idle": "2024-09-27T18:17:05.966014Z",
     "shell.execute_reply": "2024-09-27T18:17:05.965826Z"
    }
   },
   "outputs": [
    {
     "data": {
      "text/html": [
       "   <div id=\"rxDQVh\"></div>\n",
       "   <script type=\"text/javascript\" data-lets-plot-script=\"plot\">\n",
       "       (function() {\n",
       "           var plotSpec={\n",
       "\"mapping\":{\n",
       "},\n",
       "\"data_meta\":{\n",
       "},\n",
       "\"kind\":\"plot\",\n",
       "\"scales\":[],\n",
       "\"layers\":[{\n",
       "\"geom\":\"rect\",\n",
       "\"data\":{\n",
       "\"kind\":[\"Point\",\"MPoint\",\"Line\",\"MLine\",\"Polygon\",\"MPolygon\"],\n",
       "\"coord\":[\"{\\\"type\\\": \\\"Point\\\", \\\"coordinates\\\": [-5.0, 17.0]}\",\"{\\\"type\\\": \\\"MultiPoint\\\", \\\"coordinates\\\": [[3.0, 15.0], [6.0, 13.0]]}\",\"{\\\"type\\\": \\\"LineString\\\", \\\"coordinates\\\": [[0.0, 0.0], [5.0, 5.0]]}\",\"{\\\"type\\\": \\\"MultiLineString\\\", \\\"coordinates\\\": [[[10.0, 0.0], [15.0, 5.0]], [[10.0, 5.0], [15.0, 0.0]]]}\",\"{\\\"type\\\": \\\"Polygon\\\", \\\"coordinates\\\": [[[1.0, 1.0], [1.0, 9.0], [9.0, 9.0], [9.0, 1.0], [1.0, 1.0]], [[2.0, 2.0], [3.0, 2.0], [3.0, 3.0], [2.0, 3.0], [2.0, 2.0]], [[4.0, 4.0], [6.0, 4.0], [6.0, 6.0], [4.0, 6.0], [4.0, 4.0]]]}\",\"{\\\"type\\\": \\\"MultiPolygon\\\", \\\"coordinates\\\": [[[[11.0, 12.0], [13.0, 14.0], [15.0, 13.0], [7.0, 4.0], [11.0, 12.0]]], [[[10.0, 2.0], [13.0, 10.0], [12.0, 3.0], [10.0, 2.0]]]]}\"]\n",
       "},\n",
       "\"mapping\":{\n",
       "\"fill\":\"kind\"\n",
       "},\n",
       "\"data_meta\":{\n",
       "\"series_annotations\":[{\n",
       "\"type\":\"str\",\n",
       "\"column\":\"key\"\n",
       "},{\n",
       "\"type\":\"str\",\n",
       "\"column\":\"kind\"\n",
       "},{\n",
       "\"type\":\"unknown(pandas:unknown-array)\",\n",
       "\"column\":\"coord\"\n",
       "}],\n",
       "\"geodataframe\":{\n",
       "\"geometry\":\"coord\"\n",
       "}\n",
       "}\n",
       "}],\n",
       "\"metainfo_list\":[]\n",
       "};\n",
       "           var plotContainer = document.getElementById(\"rxDQVh\");\n",
       "           window.letsPlotCall(function() {{\n",
       "               LetsPlot.buildPlotFromProcessedSpecs(plotSpec, -1, -1, plotContainer);\n",
       "           }});\n",
       "       })();\n",
       "   </script>"
      ],
      "text/plain": [
       "<lets_plot.plot.core.PlotSpec at 0x1448362f0>"
      ]
     },
     "execution_count": 12,
     "metadata": {},
     "output_type": "execute_result"
    }
   ],
   "source": [
    "ggplot() + geom_rect(aes(fill='kind'), data=gdf)"
   ]
  },
  {
   "cell_type": "markdown",
   "metadata": {},
   "source": [
    "GeoDataFrame can be used in the 'map' parameter. Geometries of shapes MultiPoint, Line, MultiLine, Polygon and MultiPolygon are automatically taken from GeoDataFrame for geom_rect(), their bounding boxes will be drawn. "
   ]
  },
  {
   "cell_type": "code",
   "execution_count": 13,
   "metadata": {
    "execution": {
     "iopub.execute_input": "2024-09-27T18:17:05.966997Z",
     "iopub.status.busy": "2024-09-27T18:17:05.966930Z",
     "iopub.status.idle": "2024-09-27T18:17:05.969572Z",
     "shell.execute_reply": "2024-09-27T18:17:05.969323Z"
    }
   },
   "outputs": [
    {
     "data": {
      "text/html": [
       "   <div id=\"WUXKmK\"></div>\n",
       "   <script type=\"text/javascript\" data-lets-plot-script=\"plot\">\n",
       "       (function() {\n",
       "           var plotSpec={\n",
       "\"mapping\":{\n",
       "},\n",
       "\"data_meta\":{\n",
       "},\n",
       "\"kind\":\"plot\",\n",
       "\"scales\":[],\n",
       "\"layers\":[{\n",
       "\"geom\":\"rect\",\n",
       "\"mapping\":{\n",
       "},\n",
       "\"data_meta\":{\n",
       "},\n",
       "\"map\":{\n",
       "\"key\":[\"A\",\"B\",\"C\",\"A\",\"B\",\"C\"],\n",
       "\"kind\":[\"Point\",\"MPoint\",\"Line\",\"MLine\",\"Polygon\",\"MPolygon\"],\n",
       "\"coord\":[\"{\\\"type\\\": \\\"Point\\\", \\\"coordinates\\\": [-5.0, 17.0]}\",\"{\\\"type\\\": \\\"MultiPoint\\\", \\\"coordinates\\\": [[3.0, 15.0], [6.0, 13.0]]}\",\"{\\\"type\\\": \\\"LineString\\\", \\\"coordinates\\\": [[0.0, 0.0], [5.0, 5.0]]}\",\"{\\\"type\\\": \\\"MultiLineString\\\", \\\"coordinates\\\": [[[10.0, 0.0], [15.0, 5.0]], [[10.0, 5.0], [15.0, 0.0]]]}\",\"{\\\"type\\\": \\\"Polygon\\\", \\\"coordinates\\\": [[[1.0, 1.0], [1.0, 9.0], [9.0, 9.0], [9.0, 1.0], [1.0, 1.0]], [[2.0, 2.0], [3.0, 2.0], [3.0, 3.0], [2.0, 3.0], [2.0, 2.0]], [[4.0, 4.0], [6.0, 4.0], [6.0, 6.0], [4.0, 6.0], [4.0, 4.0]]]}\",\"{\\\"type\\\": \\\"MultiPolygon\\\", \\\"coordinates\\\": [[[[11.0, 12.0], [13.0, 14.0], [15.0, 13.0], [7.0, 4.0], [11.0, 12.0]]], [[[10.0, 2.0], [13.0, 10.0], [12.0, 3.0], [10.0, 2.0]]]]}\"]\n",
       "},\n",
       "\"map_data_meta\":{\n",
       "\"geodataframe\":{\n",
       "\"geometry\":\"coord\"\n",
       "}\n",
       "},\n",
       "\"data\":{\n",
       "}\n",
       "}],\n",
       "\"metainfo_list\":[]\n",
       "};\n",
       "           var plotContainer = document.getElementById(\"WUXKmK\");\n",
       "           window.letsPlotCall(function() {{\n",
       "               LetsPlot.buildPlotFromProcessedSpecs(plotSpec, -1, -1, plotContainer);\n",
       "           }});\n",
       "       })();\n",
       "   </script>"
      ],
      "text/plain": [
       "<lets_plot.plot.core.PlotSpec at 0x144837370>"
      ]
     },
     "execution_count": 13,
     "metadata": {},
     "output_type": "execute_result"
    }
   ],
   "source": [
    "ggplot() + geom_rect(map=gdf)"
   ]
  },
  {
   "cell_type": "markdown",
   "metadata": {},
   "source": [
    "The data specified in the 'data' and geometries from the 'map' can be joined by a pair of keys from 'map_join' param."
   ]
  },
  {
   "cell_type": "code",
   "execution_count": 14,
   "metadata": {
    "execution": {
     "iopub.execute_input": "2024-09-27T18:17:05.970555Z",
     "iopub.status.busy": "2024-09-27T18:17:05.970488Z",
     "iopub.status.idle": "2024-09-27T18:17:05.973200Z",
     "shell.execute_reply": "2024-09-27T18:17:05.973028Z"
    }
   },
   "outputs": [
    {
     "data": {
      "text/html": [
       "   <div id=\"YbvsmP\"></div>\n",
       "   <script type=\"text/javascript\" data-lets-plot-script=\"plot\">\n",
       "       (function() {\n",
       "           var plotSpec={\n",
       "\"mapping\":{\n",
       "},\n",
       "\"data_meta\":{\n",
       "},\n",
       "\"kind\":\"plot\",\n",
       "\"scales\":[],\n",
       "\"layers\":[{\n",
       "\"geom\":\"rect\",\n",
       "\"data\":{\n",
       "\"name\":[\"A\",\"B\",\"C\"],\n",
       "\"value\":[42.0,23.0,87.0]\n",
       "},\n",
       "\"mapping\":{\n",
       "\"fill\":\"value\"\n",
       "},\n",
       "\"data_meta\":{\n",
       "\"series_annotations\":[{\n",
       "\"type\":\"str\",\n",
       "\"column\":\"name\"\n",
       "},{\n",
       "\"type\":\"int\",\n",
       "\"column\":\"value\"\n",
       "}]\n",
       "},\n",
       "\"map\":{\n",
       "\"key\":[\"A\",\"B\",\"C\",\"A\",\"B\",\"C\"],\n",
       "\"kind\":[\"Point\",\"MPoint\",\"Line\",\"MLine\",\"Polygon\",\"MPolygon\"],\n",
       "\"coord\":[\"{\\\"type\\\": \\\"Point\\\", \\\"coordinates\\\": [-5.0, 17.0]}\",\"{\\\"type\\\": \\\"MultiPoint\\\", \\\"coordinates\\\": [[3.0, 15.0], [6.0, 13.0]]}\",\"{\\\"type\\\": \\\"LineString\\\", \\\"coordinates\\\": [[0.0, 0.0], [5.0, 5.0]]}\",\"{\\\"type\\\": \\\"MultiLineString\\\", \\\"coordinates\\\": [[[10.0, 0.0], [15.0, 5.0]], [[10.0, 5.0], [15.0, 0.0]]]}\",\"{\\\"type\\\": \\\"Polygon\\\", \\\"coordinates\\\": [[[1.0, 1.0], [1.0, 9.0], [9.0, 9.0], [9.0, 1.0], [1.0, 1.0]], [[2.0, 2.0], [3.0, 2.0], [3.0, 3.0], [2.0, 3.0], [2.0, 2.0]], [[4.0, 4.0], [6.0, 4.0], [6.0, 6.0], [4.0, 6.0], [4.0, 4.0]]]}\",\"{\\\"type\\\": \\\"MultiPolygon\\\", \\\"coordinates\\\": [[[[11.0, 12.0], [13.0, 14.0], [15.0, 13.0], [7.0, 4.0], [11.0, 12.0]]], [[[10.0, 2.0], [13.0, 10.0], [12.0, 3.0], [10.0, 2.0]]]]}\"]\n",
       "},\n",
       "\"map_join\":[[\"name\"],[\"key\"]],\n",
       "\"map_data_meta\":{\n",
       "\"geodataframe\":{\n",
       "\"geometry\":\"coord\"\n",
       "}\n",
       "}\n",
       "}],\n",
       "\"metainfo_list\":[]\n",
       "};\n",
       "           var plotContainer = document.getElementById(\"YbvsmP\");\n",
       "           window.letsPlotCall(function() {{\n",
       "               LetsPlot.buildPlotFromProcessedSpecs(plotSpec, -1, -1, plotContainer);\n",
       "           }});\n",
       "       })();\n",
       "   </script>"
      ],
      "text/plain": [
       "<lets_plot.plot.core.PlotSpec at 0x144835b10>"
      ]
     },
     "execution_count": 14,
     "metadata": {},
     "output_type": "execute_result"
    }
   ],
   "source": [
    "ggplot() + geom_rect(aes(fill='value'), data=df, map=gdf, map_join=['name', 'key'])"
   ]
  },
  {
   "cell_type": "markdown",
   "metadata": {},
   "source": [
    "#### geom_path()\n",
    "\n",
    "GeoDataFrame is supported natively in the 'data' parameter for geom_path(). Geometries of shapes Line and MultiLine are automatically taken from GeoDataFrame.\n"
   ]
  },
  {
   "cell_type": "code",
   "execution_count": 15,
   "metadata": {
    "execution": {
     "iopub.execute_input": "2024-09-27T18:17:05.974231Z",
     "iopub.status.busy": "2024-09-27T18:17:05.974158Z",
     "iopub.status.idle": "2024-09-27T18:17:05.976795Z",
     "shell.execute_reply": "2024-09-27T18:17:05.976605Z"
    }
   },
   "outputs": [
    {
     "data": {
      "text/html": [
       "   <div id=\"pEWulb\"></div>\n",
       "   <script type=\"text/javascript\" data-lets-plot-script=\"plot\">\n",
       "       (function() {\n",
       "           var plotSpec={\n",
       "\"mapping\":{\n",
       "},\n",
       "\"data_meta\":{\n",
       "},\n",
       "\"kind\":\"plot\",\n",
       "\"scales\":[],\n",
       "\"layers\":[{\n",
       "\"geom\":\"path\",\n",
       "\"data\":{\n",
       "\"kind\":[\"Point\",\"MPoint\",\"Line\",\"MLine\",\"Polygon\",\"MPolygon\"],\n",
       "\"coord\":[\"{\\\"type\\\": \\\"Point\\\", \\\"coordinates\\\": [-5.0, 17.0]}\",\"{\\\"type\\\": \\\"MultiPoint\\\", \\\"coordinates\\\": [[3.0, 15.0], [6.0, 13.0]]}\",\"{\\\"type\\\": \\\"LineString\\\", \\\"coordinates\\\": [[0.0, 0.0], [5.0, 5.0]]}\",\"{\\\"type\\\": \\\"MultiLineString\\\", \\\"coordinates\\\": [[[10.0, 0.0], [15.0, 5.0]], [[10.0, 5.0], [15.0, 0.0]]]}\",\"{\\\"type\\\": \\\"Polygon\\\", \\\"coordinates\\\": [[[1.0, 1.0], [1.0, 9.0], [9.0, 9.0], [9.0, 1.0], [1.0, 1.0]], [[2.0, 2.0], [3.0, 2.0], [3.0, 3.0], [2.0, 3.0], [2.0, 2.0]], [[4.0, 4.0], [6.0, 4.0], [6.0, 6.0], [4.0, 6.0], [4.0, 4.0]]]}\",\"{\\\"type\\\": \\\"MultiPolygon\\\", \\\"coordinates\\\": [[[[11.0, 12.0], [13.0, 14.0], [15.0, 13.0], [7.0, 4.0], [11.0, 12.0]]], [[[10.0, 2.0], [13.0, 10.0], [12.0, 3.0], [10.0, 2.0]]]]}\"]\n",
       "},\n",
       "\"mapping\":{\n",
       "\"color\":\"kind\"\n",
       "},\n",
       "\"data_meta\":{\n",
       "\"series_annotations\":[{\n",
       "\"type\":\"str\",\n",
       "\"column\":\"key\"\n",
       "},{\n",
       "\"type\":\"str\",\n",
       "\"column\":\"kind\"\n",
       "},{\n",
       "\"type\":\"unknown(pandas:unknown-array)\",\n",
       "\"column\":\"coord\"\n",
       "}],\n",
       "\"geodataframe\":{\n",
       "\"geometry\":\"coord\"\n",
       "}\n",
       "}\n",
       "}],\n",
       "\"metainfo_list\":[]\n",
       "};\n",
       "           var plotContainer = document.getElementById(\"pEWulb\");\n",
       "           window.letsPlotCall(function() {{\n",
       "               LetsPlot.buildPlotFromProcessedSpecs(plotSpec, -1, -1, plotContainer);\n",
       "           }});\n",
       "       })();\n",
       "   </script>"
      ],
      "text/plain": [
       "<lets_plot.plot.core.PlotSpec at 0x144837a30>"
      ]
     },
     "execution_count": 15,
     "metadata": {},
     "output_type": "execute_result"
    }
   ],
   "source": [
    "ggplot() + geom_path(aes(color='kind'), data=gdf)"
   ]
  },
  {
   "cell_type": "markdown",
   "metadata": {},
   "source": [
    "Can be used in the 'map' parameter for geom_path() without specifying 'data'."
   ]
  },
  {
   "cell_type": "code",
   "execution_count": 16,
   "metadata": {
    "execution": {
     "iopub.execute_input": "2024-09-27T18:17:05.977835Z",
     "iopub.status.busy": "2024-09-27T18:17:05.977762Z",
     "iopub.status.idle": "2024-09-27T18:17:05.980448Z",
     "shell.execute_reply": "2024-09-27T18:17:05.980171Z"
    }
   },
   "outputs": [
    {
     "data": {
      "text/html": [
       "   <div id=\"SyNT2M\"></div>\n",
       "   <script type=\"text/javascript\" data-lets-plot-script=\"plot\">\n",
       "       (function() {\n",
       "           var plotSpec={\n",
       "\"mapping\":{\n",
       "},\n",
       "\"data_meta\":{\n",
       "},\n",
       "\"kind\":\"plot\",\n",
       "\"scales\":[],\n",
       "\"layers\":[{\n",
       "\"geom\":\"path\",\n",
       "\"mapping\":{\n",
       "},\n",
       "\"data_meta\":{\n",
       "},\n",
       "\"map\":{\n",
       "\"key\":[\"A\",\"B\",\"C\",\"A\",\"B\",\"C\"],\n",
       "\"kind\":[\"Point\",\"MPoint\",\"Line\",\"MLine\",\"Polygon\",\"MPolygon\"],\n",
       "\"coord\":[\"{\\\"type\\\": \\\"Point\\\", \\\"coordinates\\\": [-5.0, 17.0]}\",\"{\\\"type\\\": \\\"MultiPoint\\\", \\\"coordinates\\\": [[3.0, 15.0], [6.0, 13.0]]}\",\"{\\\"type\\\": \\\"LineString\\\", \\\"coordinates\\\": [[0.0, 0.0], [5.0, 5.0]]}\",\"{\\\"type\\\": \\\"MultiLineString\\\", \\\"coordinates\\\": [[[10.0, 0.0], [15.0, 5.0]], [[10.0, 5.0], [15.0, 0.0]]]}\",\"{\\\"type\\\": \\\"Polygon\\\", \\\"coordinates\\\": [[[1.0, 1.0], [1.0, 9.0], [9.0, 9.0], [9.0, 1.0], [1.0, 1.0]], [[2.0, 2.0], [3.0, 2.0], [3.0, 3.0], [2.0, 3.0], [2.0, 2.0]], [[4.0, 4.0], [6.0, 4.0], [6.0, 6.0], [4.0, 6.0], [4.0, 4.0]]]}\",\"{\\\"type\\\": \\\"MultiPolygon\\\", \\\"coordinates\\\": [[[[11.0, 12.0], [13.0, 14.0], [15.0, 13.0], [7.0, 4.0], [11.0, 12.0]]], [[[10.0, 2.0], [13.0, 10.0], [12.0, 3.0], [10.0, 2.0]]]]}\"]\n",
       "},\n",
       "\"map_data_meta\":{\n",
       "\"geodataframe\":{\n",
       "\"geometry\":\"coord\"\n",
       "}\n",
       "},\n",
       "\"data\":{\n",
       "}\n",
       "}],\n",
       "\"metainfo_list\":[]\n",
       "};\n",
       "           var plotContainer = document.getElementById(\"SyNT2M\");\n",
       "           window.letsPlotCall(function() {{\n",
       "               LetsPlot.buildPlotFromProcessedSpecs(plotSpec, -1, -1, plotContainer);\n",
       "           }});\n",
       "       })();\n",
       "   </script>"
      ],
      "text/plain": [
       "<lets_plot.plot.core.PlotSpec at 0x1448885b0>"
      ]
     },
     "execution_count": 16,
     "metadata": {},
     "output_type": "execute_result"
    }
   ],
   "source": [
    "ggplot() + geom_path(map=gdf)"
   ]
  },
  {
   "cell_type": "markdown",
   "metadata": {},
   "source": [
    "The data specified in the 'data' and geometries from the 'map' can be joined by a pair of keys from 'map_join' param."
   ]
  },
  {
   "cell_type": "code",
   "execution_count": 17,
   "metadata": {
    "execution": {
     "iopub.execute_input": "2024-09-27T18:17:05.981418Z",
     "iopub.status.busy": "2024-09-27T18:17:05.981352Z",
     "iopub.status.idle": "2024-09-27T18:17:05.984122Z",
     "shell.execute_reply": "2024-09-27T18:17:05.983930Z"
    }
   },
   "outputs": [
    {
     "data": {
      "text/html": [
       "   <div id=\"JPvjgn\"></div>\n",
       "   <script type=\"text/javascript\" data-lets-plot-script=\"plot\">\n",
       "       (function() {\n",
       "           var plotSpec={\n",
       "\"mapping\":{\n",
       "},\n",
       "\"data_meta\":{\n",
       "},\n",
       "\"kind\":\"plot\",\n",
       "\"scales\":[],\n",
       "\"layers\":[{\n",
       "\"geom\":\"path\",\n",
       "\"data\":{\n",
       "\"name\":[\"A\",\"B\",\"C\"],\n",
       "\"value\":[42.0,23.0,87.0]\n",
       "},\n",
       "\"mapping\":{\n",
       "\"color\":\"value\"\n",
       "},\n",
       "\"data_meta\":{\n",
       "\"series_annotations\":[{\n",
       "\"type\":\"str\",\n",
       "\"column\":\"name\"\n",
       "},{\n",
       "\"type\":\"int\",\n",
       "\"column\":\"value\"\n",
       "}]\n",
       "},\n",
       "\"map\":{\n",
       "\"key\":[\"A\",\"B\",\"C\",\"A\",\"B\",\"C\"],\n",
       "\"kind\":[\"Point\",\"MPoint\",\"Line\",\"MLine\",\"Polygon\",\"MPolygon\"],\n",
       "\"coord\":[\"{\\\"type\\\": \\\"Point\\\", \\\"coordinates\\\": [-5.0, 17.0]}\",\"{\\\"type\\\": \\\"MultiPoint\\\", \\\"coordinates\\\": [[3.0, 15.0], [6.0, 13.0]]}\",\"{\\\"type\\\": \\\"LineString\\\", \\\"coordinates\\\": [[0.0, 0.0], [5.0, 5.0]]}\",\"{\\\"type\\\": \\\"MultiLineString\\\", \\\"coordinates\\\": [[[10.0, 0.0], [15.0, 5.0]], [[10.0, 5.0], [15.0, 0.0]]]}\",\"{\\\"type\\\": \\\"Polygon\\\", \\\"coordinates\\\": [[[1.0, 1.0], [1.0, 9.0], [9.0, 9.0], [9.0, 1.0], [1.0, 1.0]], [[2.0, 2.0], [3.0, 2.0], [3.0, 3.0], [2.0, 3.0], [2.0, 2.0]], [[4.0, 4.0], [6.0, 4.0], [6.0, 6.0], [4.0, 6.0], [4.0, 4.0]]]}\",\"{\\\"type\\\": \\\"MultiPolygon\\\", \\\"coordinates\\\": [[[[11.0, 12.0], [13.0, 14.0], [15.0, 13.0], [7.0, 4.0], [11.0, 12.0]]], [[[10.0, 2.0], [13.0, 10.0], [12.0, 3.0], [10.0, 2.0]]]]}\"]\n",
       "},\n",
       "\"map_join\":[[\"name\"],[\"key\"]],\n",
       "\"map_data_meta\":{\n",
       "\"geodataframe\":{\n",
       "\"geometry\":\"coord\"\n",
       "}\n",
       "}\n",
       "}],\n",
       "\"metainfo_list\":[]\n",
       "};\n",
       "           var plotContainer = document.getElementById(\"JPvjgn\");\n",
       "           window.letsPlotCall(function() {{\n",
       "               LetsPlot.buildPlotFromProcessedSpecs(plotSpec, -1, -1, plotContainer);\n",
       "           }});\n",
       "       })();\n",
       "   </script>"
      ],
      "text/plain": [
       "<lets_plot.plot.core.PlotSpec at 0x1448886a0>"
      ]
     },
     "execution_count": 17,
     "metadata": {},
     "output_type": "execute_result"
    }
   ],
   "source": [
    "ggplot() + geom_path(aes(color='value'), data=df, map=gdf, map_join=['name', 'key'])"
   ]
  },
  {
   "cell_type": "markdown",
   "metadata": {},
   "source": [
    "#### geom_map()\n",
    "\n",
    "GeoDataFrame is supported natively in the 'data' parameter of geom_map(). Geometries of shapes Polygon and MultiPolygon are automatically taken from GeoDataFrame. \n"
   ]
  },
  {
   "cell_type": "code",
   "execution_count": 18,
   "metadata": {
    "execution": {
     "iopub.execute_input": "2024-09-27T18:17:05.985111Z",
     "iopub.status.busy": "2024-09-27T18:17:05.985043Z",
     "iopub.status.idle": "2024-09-27T18:17:05.987735Z",
     "shell.execute_reply": "2024-09-27T18:17:05.987536Z"
    }
   },
   "outputs": [
    {
     "data": {
      "text/html": [
       "   <div id=\"kUrmwp\"></div>\n",
       "   <script type=\"text/javascript\" data-lets-plot-script=\"plot\">\n",
       "       (function() {\n",
       "           var plotSpec={\n",
       "\"mapping\":{\n",
       "},\n",
       "\"data_meta\":{\n",
       "},\n",
       "\"kind\":\"plot\",\n",
       "\"scales\":[],\n",
       "\"layers\":[{\n",
       "\"geom\":\"map\",\n",
       "\"data\":{\n",
       "\"kind\":[\"Point\",\"MPoint\",\"Line\",\"MLine\",\"Polygon\",\"MPolygon\"],\n",
       "\"coord\":[\"{\\\"type\\\": \\\"Point\\\", \\\"coordinates\\\": [-5.0, 17.0]}\",\"{\\\"type\\\": \\\"MultiPoint\\\", \\\"coordinates\\\": [[3.0, 15.0], [6.0, 13.0]]}\",\"{\\\"type\\\": \\\"LineString\\\", \\\"coordinates\\\": [[0.0, 0.0], [5.0, 5.0]]}\",\"{\\\"type\\\": \\\"MultiLineString\\\", \\\"coordinates\\\": [[[10.0, 0.0], [15.0, 5.0]], [[10.0, 5.0], [15.0, 0.0]]]}\",\"{\\\"type\\\": \\\"Polygon\\\", \\\"coordinates\\\": [[[1.0, 1.0], [1.0, 9.0], [9.0, 9.0], [9.0, 1.0], [1.0, 1.0]], [[2.0, 2.0], [3.0, 2.0], [3.0, 3.0], [2.0, 3.0], [2.0, 2.0]], [[4.0, 4.0], [6.0, 4.0], [6.0, 6.0], [4.0, 6.0], [4.0, 4.0]]]}\",\"{\\\"type\\\": \\\"MultiPolygon\\\", \\\"coordinates\\\": [[[[11.0, 12.0], [13.0, 14.0], [15.0, 13.0], [7.0, 4.0], [11.0, 12.0]]], [[[10.0, 2.0], [13.0, 10.0], [12.0, 3.0], [10.0, 2.0]]]]}\"]\n",
       "},\n",
       "\"mapping\":{\n",
       "\"color\":\"kind\"\n",
       "},\n",
       "\"data_meta\":{\n",
       "\"series_annotations\":[{\n",
       "\"type\":\"str\",\n",
       "\"column\":\"key\"\n",
       "},{\n",
       "\"type\":\"str\",\n",
       "\"column\":\"kind\"\n",
       "},{\n",
       "\"type\":\"unknown(pandas:unknown-array)\",\n",
       "\"column\":\"coord\"\n",
       "}],\n",
       "\"geodataframe\":{\n",
       "\"geometry\":\"coord\"\n",
       "}\n",
       "},\n",
       "\"size\":1.0\n",
       "}],\n",
       "\"metainfo_list\":[]\n",
       "};\n",
       "           var plotContainer = document.getElementById(\"kUrmwp\");\n",
       "           window.letsPlotCall(function() {{\n",
       "               LetsPlot.buildPlotFromProcessedSpecs(plotSpec, -1, -1, plotContainer);\n",
       "           }});\n",
       "       })();\n",
       "   </script>"
      ],
      "text/plain": [
       "<lets_plot.plot.core.PlotSpec at 0x144889e70>"
      ]
     },
     "execution_count": 18,
     "metadata": {},
     "output_type": "execute_result"
    }
   ],
   "source": [
    "ggplot() + geom_map(aes(color='kind'), data=gdf, size=1)"
   ]
  },
  {
   "cell_type": "markdown",
   "metadata": {},
   "source": [
    "Can be used in the 'map' parameter for geom_map()."
   ]
  },
  {
   "cell_type": "code",
   "execution_count": 19,
   "metadata": {
    "execution": {
     "iopub.execute_input": "2024-09-27T18:17:05.988753Z",
     "iopub.status.busy": "2024-09-27T18:17:05.988687Z",
     "iopub.status.idle": "2024-09-27T18:17:05.991304Z",
     "shell.execute_reply": "2024-09-27T18:17:05.991078Z"
    }
   },
   "outputs": [
    {
     "data": {
      "text/html": [
       "   <div id=\"wUwUvs\"></div>\n",
       "   <script type=\"text/javascript\" data-lets-plot-script=\"plot\">\n",
       "       (function() {\n",
       "           var plotSpec={\n",
       "\"mapping\":{\n",
       "},\n",
       "\"data_meta\":{\n",
       "},\n",
       "\"kind\":\"plot\",\n",
       "\"scales\":[],\n",
       "\"layers\":[{\n",
       "\"geom\":\"map\",\n",
       "\"mapping\":{\n",
       "},\n",
       "\"data_meta\":{\n",
       "},\n",
       "\"map\":{\n",
       "\"key\":[\"A\",\"B\",\"C\",\"A\",\"B\",\"C\"],\n",
       "\"kind\":[\"Point\",\"MPoint\",\"Line\",\"MLine\",\"Polygon\",\"MPolygon\"],\n",
       "\"coord\":[\"{\\\"type\\\": \\\"Point\\\", \\\"coordinates\\\": [-5.0, 17.0]}\",\"{\\\"type\\\": \\\"MultiPoint\\\", \\\"coordinates\\\": [[3.0, 15.0], [6.0, 13.0]]}\",\"{\\\"type\\\": \\\"LineString\\\", \\\"coordinates\\\": [[0.0, 0.0], [5.0, 5.0]]}\",\"{\\\"type\\\": \\\"MultiLineString\\\", \\\"coordinates\\\": [[[10.0, 0.0], [15.0, 5.0]], [[10.0, 5.0], [15.0, 0.0]]]}\",\"{\\\"type\\\": \\\"Polygon\\\", \\\"coordinates\\\": [[[1.0, 1.0], [1.0, 9.0], [9.0, 9.0], [9.0, 1.0], [1.0, 1.0]], [[2.0, 2.0], [3.0, 2.0], [3.0, 3.0], [2.0, 3.0], [2.0, 2.0]], [[4.0, 4.0], [6.0, 4.0], [6.0, 6.0], [4.0, 6.0], [4.0, 4.0]]]}\",\"{\\\"type\\\": \\\"MultiPolygon\\\", \\\"coordinates\\\": [[[[11.0, 12.0], [13.0, 14.0], [15.0, 13.0], [7.0, 4.0], [11.0, 12.0]]], [[[10.0, 2.0], [13.0, 10.0], [12.0, 3.0], [10.0, 2.0]]]]}\"]\n",
       "},\n",
       "\"map_data_meta\":{\n",
       "\"geodataframe\":{\n",
       "\"geometry\":\"coord\"\n",
       "}\n",
       "},\n",
       "\"data\":{\n",
       "}\n",
       "}],\n",
       "\"metainfo_list\":[]\n",
       "};\n",
       "           var plotContainer = document.getElementById(\"wUwUvs\");\n",
       "           window.letsPlotCall(function() {{\n",
       "               LetsPlot.buildPlotFromProcessedSpecs(plotSpec, -1, -1, plotContainer);\n",
       "           }});\n",
       "       })();\n",
       "   </script>"
      ],
      "text/plain": [
       "<lets_plot.plot.core.PlotSpec at 0x144889300>"
      ]
     },
     "execution_count": 19,
     "metadata": {},
     "output_type": "execute_result"
    }
   ],
   "source": [
    "ggplot() + geom_map(map=gdf)"
   ]
  },
  {
   "cell_type": "markdown",
   "metadata": {},
   "source": [
    "The data specified in the 'data' and geometries from the 'map' can be joined by a pair of keys from 'map_join' param."
   ]
  },
  {
   "cell_type": "code",
   "execution_count": 20,
   "metadata": {
    "execution": {
     "iopub.execute_input": "2024-09-27T18:17:05.992300Z",
     "iopub.status.busy": "2024-09-27T18:17:05.992233Z",
     "iopub.status.idle": "2024-09-27T18:17:05.995019Z",
     "shell.execute_reply": "2024-09-27T18:17:05.994817Z"
    }
   },
   "outputs": [
    {
     "data": {
      "text/html": [
       "   <div id=\"PJVR9q\"></div>\n",
       "   <script type=\"text/javascript\" data-lets-plot-script=\"plot\">\n",
       "       (function() {\n",
       "           var plotSpec={\n",
       "\"mapping\":{\n",
       "},\n",
       "\"data_meta\":{\n",
       "},\n",
       "\"kind\":\"plot\",\n",
       "\"scales\":[],\n",
       "\"layers\":[{\n",
       "\"geom\":\"map\",\n",
       "\"data\":{\n",
       "\"name\":[\"A\",\"B\",\"C\"],\n",
       "\"value\":[42.0,23.0,87.0]\n",
       "},\n",
       "\"mapping\":{\n",
       "\"fill\":\"value\"\n",
       "},\n",
       "\"data_meta\":{\n",
       "\"series_annotations\":[{\n",
       "\"type\":\"str\",\n",
       "\"column\":\"name\"\n",
       "},{\n",
       "\"type\":\"int\",\n",
       "\"column\":\"value\"\n",
       "}]\n",
       "},\n",
       "\"map\":{\n",
       "\"key\":[\"A\",\"B\",\"C\",\"A\",\"B\",\"C\"],\n",
       "\"kind\":[\"Point\",\"MPoint\",\"Line\",\"MLine\",\"Polygon\",\"MPolygon\"],\n",
       "\"coord\":[\"{\\\"type\\\": \\\"Point\\\", \\\"coordinates\\\": [-5.0, 17.0]}\",\"{\\\"type\\\": \\\"MultiPoint\\\", \\\"coordinates\\\": [[3.0, 15.0], [6.0, 13.0]]}\",\"{\\\"type\\\": \\\"LineString\\\", \\\"coordinates\\\": [[0.0, 0.0], [5.0, 5.0]]}\",\"{\\\"type\\\": \\\"MultiLineString\\\", \\\"coordinates\\\": [[[10.0, 0.0], [15.0, 5.0]], [[10.0, 5.0], [15.0, 0.0]]]}\",\"{\\\"type\\\": \\\"Polygon\\\", \\\"coordinates\\\": [[[1.0, 1.0], [1.0, 9.0], [9.0, 9.0], [9.0, 1.0], [1.0, 1.0]], [[2.0, 2.0], [3.0, 2.0], [3.0, 3.0], [2.0, 3.0], [2.0, 2.0]], [[4.0, 4.0], [6.0, 4.0], [6.0, 6.0], [4.0, 6.0], [4.0, 4.0]]]}\",\"{\\\"type\\\": \\\"MultiPolygon\\\", \\\"coordinates\\\": [[[[11.0, 12.0], [13.0, 14.0], [15.0, 13.0], [7.0, 4.0], [11.0, 12.0]]], [[[10.0, 2.0], [13.0, 10.0], [12.0, 3.0], [10.0, 2.0]]]]}\"]\n",
       "},\n",
       "\"map_join\":[[\"name\"],[\"key\"]],\n",
       "\"map_data_meta\":{\n",
       "\"geodataframe\":{\n",
       "\"geometry\":\"coord\"\n",
       "}\n",
       "}\n",
       "}],\n",
       "\"metainfo_list\":[]\n",
       "};\n",
       "           var plotContainer = document.getElementById(\"PJVR9q\");\n",
       "           window.letsPlotCall(function() {{\n",
       "               LetsPlot.buildPlotFromProcessedSpecs(plotSpec, -1, -1, plotContainer);\n",
       "           }});\n",
       "       })();\n",
       "   </script>"
      ],
      "text/plain": [
       "<lets_plot.plot.core.PlotSpec at 0x144889ba0>"
      ]
     },
     "execution_count": 20,
     "metadata": {},
     "output_type": "execute_result"
    }
   ],
   "source": [
    "ggplot() + geom_map(aes(fill='value'), data=df, map=gdf, map_join=['name', 'key'])"
   ]
  }
 ],
 "metadata": {
  "kernelspec": {
   "display_name": "Python 3 (ipykernel)",
   "language": "python",
   "name": "python3"
  },
  "language_info": {
   "codemirror_mode": {
    "name": "ipython",
    "version": 3
   },
   "file_extension": ".py",
   "mimetype": "text/x-python",
   "name": "python",
   "nbconvert_exporter": "python",
   "pygments_lexer": "ipython3",
   "version": "3.10.15"
  }
 },
 "nbformat": 4,
 "nbformat_minor": 4
}
