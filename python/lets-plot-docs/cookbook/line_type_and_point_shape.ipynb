{
 "cells": [
  {
   "cell_type": "code",
   "execution_count": 1,
   "metadata": {
    "execution": {
     "iopub.execute_input": "2024-09-27T18:15:31.356329Z",
     "iopub.status.busy": "2024-09-27T18:15:31.356036Z",
     "iopub.status.idle": "2024-09-27T18:15:31.783229Z",
     "shell.execute_reply": "2024-09-27T18:15:31.782967Z"
    }
   },
   "outputs": [
    {
     "data": {
      "text/html": [
       "\n",
       "            <div id=\"kOhvtq\"></div>\n",
       "            <script type=\"text/javascript\" data-lets-plot-script=\"library\">\n",
       "                if(!window.letsPlotCallQueue) {\n",
       "                    window.letsPlotCallQueue = [];\n",
       "                }; \n",
       "                window.letsPlotCall = function(f) {\n",
       "                    window.letsPlotCallQueue.push(f);\n",
       "                };\n",
       "                (function() {\n",
       "                    var script = document.createElement(\"script\");\n",
       "                    script.type = \"text/javascript\";\n",
       "                    script.src = \"https://cdn.jsdelivr.net/gh/JetBrains/lets-plot@v4.4.1/js-package/distr/lets-plot.min.js\";\n",
       "                    script.onload = function() {\n",
       "                        window.letsPlotCall = function(f) {f();};\n",
       "                        window.letsPlotCallQueue.forEach(function(f) {f();});\n",
       "                        window.letsPlotCallQueue = [];\n",
       "                        \n",
       "                    };\n",
       "                    script.onerror = function(event) {\n",
       "                        window.letsPlotCall = function(f) {};    // noop\n",
       "                        window.letsPlotCallQueue = [];\n",
       "                        var div = document.createElement(\"div\");\n",
       "                        div.style.color = 'darkred';\n",
       "                        div.textContent = 'Error loading Lets-Plot JS';\n",
       "                        document.getElementById(\"kOhvtq\").appendChild(div);\n",
       "                    };\n",
       "                    var e = document.getElementById(\"kOhvtq\");\n",
       "                    e.appendChild(script);\n",
       "                })()\n",
       "            </script>\n",
       "            "
      ]
     },
     "metadata": {},
     "output_type": "display_data"
    }
   ],
   "source": [
    "import pandas as pd\n",
    "\n",
    "from lets_plot import *\n",
    "LetsPlot.setup_html()"
   ]
  },
  {
   "cell_type": "code",
   "execution_count": 2,
   "metadata": {
    "execution": {
     "iopub.execute_input": "2024-09-27T18:15:31.799217Z",
     "iopub.status.busy": "2024-09-27T18:15:31.799075Z",
     "iopub.status.idle": "2024-09-27T18:15:31.801021Z",
     "shell.execute_reply": "2024-09-27T18:15:31.800806Z"
    }
   },
   "outputs": [],
   "source": [
    "df = {'cond': ['A', 'A', 'B', 'B', 'C', 'C'], \\\n",
    "      'x': [2, 3, 2, 3, 2, 3], \\\n",
    "      'y': [1.0, 1.5, 2.0, 1.0, 1.6, 1.8]}"
   ]
  },
  {
   "cell_type": "code",
   "execution_count": 3,
   "metadata": {
    "execution": {
     "iopub.execute_input": "2024-09-27T18:15:31.802057Z",
     "iopub.status.busy": "2024-09-27T18:15:31.801986Z",
     "iopub.status.idle": "2024-09-27T18:15:31.830786Z",
     "shell.execute_reply": "2024-09-27T18:15:31.830521Z"
    }
   },
   "outputs": [
    {
     "data": {
      "text/html": [
       "   <div id=\"v34IdE\"></div>\n",
       "   <script type=\"text/javascript\" data-lets-plot-script=\"plot\">\n",
       "       (function() {\n",
       "           var plotSpec={\n",
       "\"data\":{\n",
       "\"cond\":[\"A\",\"A\",\"B\",\"B\",\"C\",\"C\"],\n",
       "\"x\":[2.0,3.0,2.0,3.0,2.0,3.0],\n",
       "\"y\":[1.0,1.5,2.0,1.0,1.6,1.8]\n",
       "},\n",
       "\"mapping\":{\n",
       "},\n",
       "\"data_meta\":{\n",
       "\"series_annotations\":[{\n",
       "\"type\":\"str\",\n",
       "\"column\":\"cond\"\n",
       "},{\n",
       "\"type\":\"int\",\n",
       "\"column\":\"x\"\n",
       "},{\n",
       "\"type\":\"float\",\n",
       "\"column\":\"y\"\n",
       "}]\n",
       "},\n",
       "\"kind\":\"plot\",\n",
       "\"scales\":[],\n",
       "\"layers\":[{\n",
       "\"geom\":\"line\",\n",
       "\"mapping\":{\n",
       "\"x\":\"x\",\n",
       "\"y\":\"y\",\n",
       "\"group\":\"cond\"\n",
       "},\n",
       "\"data_meta\":{\n",
       "},\n",
       "\"data\":{\n",
       "}\n",
       "},{\n",
       "\"geom\":\"point\",\n",
       "\"mapping\":{\n",
       "\"x\":\"x\",\n",
       "\"y\":\"y\"\n",
       "},\n",
       "\"data_meta\":{\n",
       "},\n",
       "\"data\":{\n",
       "}\n",
       "}],\n",
       "\"metainfo_list\":[]\n",
       "};\n",
       "           var plotContainer = document.getElementById(\"v34IdE\");\n",
       "           window.letsPlotCall(function() {{\n",
       "               LetsPlot.buildPlotFromProcessedSpecs(plotSpec, -1, -1, plotContainer);\n",
       "           }});\n",
       "       })();\n",
       "   </script>"
      ],
      "text/plain": [
       "<lets_plot.plot.core.PlotSpec at 0x146a8bd90>"
      ]
     },
     "execution_count": 3,
     "metadata": {},
     "output_type": "execute_result"
    }
   ],
   "source": [
    "# Let's plot default lines and points\n",
    "ggplot(df) + geom_line(aes(x='x', y='y', group='cond')) + \\\n",
    "    geom_point(aes(x='x', y='y'))"
   ]
  },
  {
   "cell_type": "code",
   "execution_count": 4,
   "metadata": {
    "execution": {
     "iopub.execute_input": "2024-09-27T18:15:31.831845Z",
     "iopub.status.busy": "2024-09-27T18:15:31.831772Z",
     "iopub.status.idle": "2024-09-27T18:15:31.834520Z",
     "shell.execute_reply": "2024-09-27T18:15:31.834311Z"
    }
   },
   "outputs": [
    {
     "data": {
      "text/html": [
       "   <div id=\"oXl17p\"></div>\n",
       "   <script type=\"text/javascript\" data-lets-plot-script=\"plot\">\n",
       "       (function() {\n",
       "           var plotSpec={\n",
       "\"data\":{\n",
       "\"cond\":[\"A\",\"A\",\"B\",\"B\",\"C\",\"C\"],\n",
       "\"x\":[2.0,3.0,2.0,3.0,2.0,3.0],\n",
       "\"y\":[1.0,1.5,2.0,1.0,1.6,1.8]\n",
       "},\n",
       "\"mapping\":{\n",
       "},\n",
       "\"data_meta\":{\n",
       "\"series_annotations\":[{\n",
       "\"type\":\"str\",\n",
       "\"column\":\"cond\"\n",
       "},{\n",
       "\"type\":\"int\",\n",
       "\"column\":\"x\"\n",
       "},{\n",
       "\"type\":\"float\",\n",
       "\"column\":\"y\"\n",
       "}]\n",
       "},\n",
       "\"kind\":\"plot\",\n",
       "\"scales\":[],\n",
       "\"layers\":[{\n",
       "\"geom\":\"line\",\n",
       "\"mapping\":{\n",
       "\"x\":\"x\",\n",
       "\"y\":\"y\",\n",
       "\"group\":\"cond\"\n",
       "},\n",
       "\"data_meta\":{\n",
       "},\n",
       "\"linetype\":\"dotted\",\n",
       "\"size\":1.5,\n",
       "\"data\":{\n",
       "}\n",
       "},{\n",
       "\"geom\":\"point\",\n",
       "\"mapping\":{\n",
       "\"x\":\"x\",\n",
       "\"y\":\"y\"\n",
       "},\n",
       "\"data_meta\":{\n",
       "},\n",
       "\"shape\":0.0,\n",
       "\"size\":4.0,\n",
       "\"data\":{\n",
       "}\n",
       "}],\n",
       "\"metainfo_list\":[]\n",
       "};\n",
       "           var plotContainer = document.getElementById(\"oXl17p\");\n",
       "           window.letsPlotCall(function() {{\n",
       "               LetsPlot.buildPlotFromProcessedSpecs(plotSpec, -1, -1, plotContainer);\n",
       "           }});\n",
       "       })();\n",
       "   </script>"
      ],
      "text/plain": [
       "<lets_plot.plot.core.PlotSpec at 0x146d22c50>"
      ]
     },
     "execution_count": 4,
     "metadata": {},
     "output_type": "execute_result"
    }
   ],
   "source": [
    "# Let's set dotted thicker line and hollow large squares\n",
    "ggplot(df) + geom_line(aes(x='x', y='y', group='cond'), linetype='dotted', size = 1.5) + \\\n",
    "    geom_point(aes(x='x', y='y'), shape = 0, size = 4)"
   ]
  },
  {
   "cell_type": "code",
   "execution_count": 5,
   "metadata": {
    "execution": {
     "iopub.execute_input": "2024-09-27T18:15:31.835515Z",
     "iopub.status.busy": "2024-09-27T18:15:31.835439Z",
     "iopub.status.idle": "2024-09-27T18:15:31.838090Z",
     "shell.execute_reply": "2024-09-27T18:15:31.837907Z"
    }
   },
   "outputs": [
    {
     "data": {
      "text/html": [
       "   <div id=\"3gAoqX\"></div>\n",
       "   <script type=\"text/javascript\" data-lets-plot-script=\"plot\">\n",
       "       (function() {\n",
       "           var plotSpec={\n",
       "\"data\":{\n",
       "\"cond\":[\"A\",\"A\",\"B\",\"B\",\"C\",\"C\"],\n",
       "\"x\":[2.0,3.0,2.0,3.0,2.0,3.0],\n",
       "\"y\":[1.0,1.5,2.0,1.0,1.6,1.8]\n",
       "},\n",
       "\"mapping\":{\n",
       "},\n",
       "\"data_meta\":{\n",
       "\"series_annotations\":[{\n",
       "\"type\":\"str\",\n",
       "\"column\":\"cond\"\n",
       "},{\n",
       "\"type\":\"int\",\n",
       "\"column\":\"x\"\n",
       "},{\n",
       "\"type\":\"float\",\n",
       "\"column\":\"y\"\n",
       "}]\n",
       "},\n",
       "\"kind\":\"plot\",\n",
       "\"scales\":[],\n",
       "\"layers\":[{\n",
       "\"geom\":\"line\",\n",
       "\"mapping\":{\n",
       "\"x\":\"x\",\n",
       "\"y\":\"y\",\n",
       "\"group\":\"cond\",\n",
       "\"linetype\":\"cond\"\n",
       "},\n",
       "\"data_meta\":{\n",
       "},\n",
       "\"data\":{\n",
       "}\n",
       "},{\n",
       "\"geom\":\"point\",\n",
       "\"mapping\":{\n",
       "\"x\":\"x\",\n",
       "\"y\":\"y\",\n",
       "\"shape\":\"cond\"\n",
       "},\n",
       "\"data_meta\":{\n",
       "},\n",
       "\"size\":4.0,\n",
       "\"data\":{\n",
       "}\n",
       "}],\n",
       "\"metainfo_list\":[]\n",
       "};\n",
       "           var plotContainer = document.getElementById(\"3gAoqX\");\n",
       "           window.letsPlotCall(function() {{\n",
       "               LetsPlot.buildPlotFromProcessedSpecs(plotSpec, -1, -1, plotContainer);\n",
       "           }});\n",
       "       })();\n",
       "   </script>"
      ],
      "text/plain": [
       "<lets_plot.plot.core.PlotSpec at 0x146d23490>"
      ]
     },
     "execution_count": 5,
     "metadata": {},
     "output_type": "execute_result"
    }
   ],
   "source": [
    "# We can make line type and shape of points depend on variable\n",
    "ggplot(df) + geom_line(aes(x='x', y='y', group='cond', linetype='cond')) + \\\n",
    "    geom_point(aes(x='x', y='y', shape='cond'), size=4)\n"
   ]
  },
  {
   "cell_type": "code",
   "execution_count": 6,
   "metadata": {
    "execution": {
     "iopub.execute_input": "2024-09-27T18:15:31.839054Z",
     "iopub.status.busy": "2024-09-27T18:15:31.838985Z",
     "iopub.status.idle": "2024-09-27T18:15:31.841618Z",
     "shell.execute_reply": "2024-09-27T18:15:31.841436Z"
    }
   },
   "outputs": [
    {
     "data": {
      "text/html": [
       "   <div id=\"hYbjcL\"></div>\n",
       "   <script type=\"text/javascript\" data-lets-plot-script=\"plot\">\n",
       "       (function() {\n",
       "           var plotSpec={\n",
       "\"data\":{\n",
       "\"cond\":[\"A\",\"A\",\"B\",\"B\",\"C\",\"C\"],\n",
       "\"x\":[2.0,3.0,2.0,3.0,2.0,3.0],\n",
       "\"y\":[1.0,1.5,2.0,1.0,1.6,1.8]\n",
       "},\n",
       "\"mapping\":{\n",
       "\"x\":\"x\",\n",
       "\"y\":\"y\",\n",
       "\"group\":\"cond\"\n",
       "},\n",
       "\"data_meta\":{\n",
       "\"series_annotations\":[{\n",
       "\"type\":\"str\",\n",
       "\"column\":\"cond\"\n",
       "},{\n",
       "\"type\":\"int\",\n",
       "\"column\":\"x\"\n",
       "},{\n",
       "\"type\":\"float\",\n",
       "\"column\":\"y\"\n",
       "}]\n",
       "},\n",
       "\"kind\":\"plot\",\n",
       "\"scales\":[{\n",
       "\"aesthetic\":\"shape\",\n",
       "\"solid\":false\n",
       "}],\n",
       "\"layers\":[{\n",
       "\"geom\":\"line\",\n",
       "\"mapping\":{\n",
       "\"linetype\":\"cond\"\n",
       "},\n",
       "\"data_meta\":{\n",
       "},\n",
       "\"data\":{\n",
       "}\n",
       "},{\n",
       "\"geom\":\"point\",\n",
       "\"mapping\":{\n",
       "\"shape\":\"cond\"\n",
       "},\n",
       "\"data_meta\":{\n",
       "},\n",
       "\"size\":4.0,\n",
       "\"data\":{\n",
       "}\n",
       "}],\n",
       "\"metainfo_list\":[]\n",
       "};\n",
       "           var plotContainer = document.getElementById(\"hYbjcL\");\n",
       "           window.letsPlotCall(function() {{\n",
       "               LetsPlot.buildPlotFromProcessedSpecs(plotSpec, -1, -1, plotContainer);\n",
       "           }});\n",
       "       })();\n",
       "   </script>"
      ],
      "text/plain": [
       "<lets_plot.plot.core.PlotSpec at 0x146d235b0>"
      ]
     },
     "execution_count": 6,
     "metadata": {},
     "output_type": "execute_result"
    }
   ],
   "source": [
    "# The same but with hollow shapes\n",
    "ggplot(df, aes(x='x', y='y', group='cond')) + \\\n",
    "    geom_line(aes(linetype='cond')) + \\\n",
    "    geom_point(aes(shape='cond'), size=4) + scale_shape(solid=False)"
   ]
  },
  {
   "cell_type": "code",
   "execution_count": 7,
   "metadata": {
    "execution": {
     "iopub.execute_input": "2024-09-27T18:15:31.842596Z",
     "iopub.status.busy": "2024-09-27T18:15:31.842527Z",
     "iopub.status.idle": "2024-09-27T18:15:31.845495Z",
     "shell.execute_reply": "2024-09-27T18:15:31.845237Z"
    }
   },
   "outputs": [
    {
     "data": {
      "text/html": [
       "   <div id=\"CSJLIN\"></div>\n",
       "   <script type=\"text/javascript\" data-lets-plot-script=\"plot\">\n",
       "       (function() {\n",
       "           var plotSpec={\n",
       "\"data\":{\n",
       "\"cond\":[\"A\",\"A\",\"B\",\"B\",\"C\",\"C\"],\n",
       "\"x\":[2.0,3.0,2.0,3.0,2.0,3.0],\n",
       "\"y\":[1.0,1.5,2.0,1.0,1.6,1.8]\n",
       "},\n",
       "\"mapping\":{\n",
       "},\n",
       "\"data_meta\":{\n",
       "\"series_annotations\":[{\n",
       "\"type\":\"str\",\n",
       "\"column\":\"cond\"\n",
       "},{\n",
       "\"type\":\"int\",\n",
       "\"column\":\"x\"\n",
       "},{\n",
       "\"type\":\"float\",\n",
       "\"column\":\"y\"\n",
       "}]\n",
       "},\n",
       "\"kind\":\"plot\",\n",
       "\"scales\":[{\n",
       "\"aesthetic\":\"linetype\",\n",
       "\"values\":[\"dotdash\",\"dotted\",\"dashed\"]\n",
       "},{\n",
       "\"aesthetic\":\"shape\",\n",
       "\"values\":[6.0,7.0,8.0]\n",
       "}],\n",
       "\"layers\":[{\n",
       "\"geom\":\"line\",\n",
       "\"mapping\":{\n",
       "\"x\":\"x\",\n",
       "\"y\":\"y\",\n",
       "\"group\":\"cond\",\n",
       "\"linetype\":\"cond\"\n",
       "},\n",
       "\"data_meta\":{\n",
       "},\n",
       "\"data\":{\n",
       "}\n",
       "},{\n",
       "\"geom\":\"point\",\n",
       "\"mapping\":{\n",
       "\"x\":\"x\",\n",
       "\"y\":\"y\",\n",
       "\"shape\":\"cond\"\n",
       "},\n",
       "\"data_meta\":{\n",
       "},\n",
       "\"size\":4.0,\n",
       "\"data\":{\n",
       "}\n",
       "}],\n",
       "\"metainfo_list\":[]\n",
       "};\n",
       "           var plotContainer = document.getElementById(\"CSJLIN\");\n",
       "           window.letsPlotCall(function() {{\n",
       "               LetsPlot.buildPlotFromProcessedSpecs(plotSpec, -1, -1, plotContainer);\n",
       "           }});\n",
       "       })();\n",
       "   </script>"
      ],
      "text/plain": [
       "<lets_plot.plot.core.PlotSpec at 0x146d231f0>"
      ]
     },
     "execution_count": 7,
     "metadata": {},
     "output_type": "execute_result"
    }
   ],
   "source": [
    "# Let's manually change the specific linetypes and shapes that are used\n",
    "ggplot(df) + geom_line(aes(x='x', y='y', group='cond', linetype='cond')) + \\\n",
    "    geom_point(aes(x='x', y='y', shape='cond'), size=4) + \\\n",
    "    scale_linetype_manual(values=('dotdash', 'dotted', 'dashed')) + \\\n",
    "    scale_shape_manual(values=(6, 7, 8))"
   ]
  },
  {
   "cell_type": "code",
   "execution_count": 8,
   "metadata": {
    "execution": {
     "iopub.execute_input": "2024-09-27T18:15:31.846467Z",
     "iopub.status.busy": "2024-09-27T18:15:31.846399Z",
     "iopub.status.idle": "2024-09-27T18:15:31.849337Z",
     "shell.execute_reply": "2024-09-27T18:15:31.849139Z"
    }
   },
   "outputs": [
    {
     "data": {
      "text/html": [
       "   <div id=\"bNq7UZ\"></div>\n",
       "   <script type=\"text/javascript\" data-lets-plot-script=\"plot\">\n",
       "       (function() {\n",
       "           var plotSpec={\n",
       "\"data\":{\n",
       "\"cond\":[\"A\",\"A\",\"B\",\"B\",\"C\",\"C\"],\n",
       "\"x\":[2.0,3.0,2.0,3.0,2.0,3.0],\n",
       "\"y\":[1.0,1.5,2.0,1.0,1.6,1.8]\n",
       "},\n",
       "\"mapping\":{\n",
       "\"x\":\"x\",\n",
       "\"y\":\"y\",\n",
       "\"group\":\"cond\"\n",
       "},\n",
       "\"data_meta\":{\n",
       "\"series_annotations\":[{\n",
       "\"type\":\"str\",\n",
       "\"column\":\"cond\"\n",
       "},{\n",
       "\"type\":\"int\",\n",
       "\"column\":\"x\"\n",
       "},{\n",
       "\"type\":\"float\",\n",
       "\"column\":\"y\"\n",
       "}]\n",
       "},\n",
       "\"kind\":\"plot\",\n",
       "\"scales\":[{\n",
       "\"aesthetic\":\"shape\",\n",
       "\"values\":[21.0,22.0,24.0]\n",
       "}],\n",
       "\"layers\":[{\n",
       "\"geom\":\"line\",\n",
       "\"mapping\":{\n",
       "\"linetype\":\"cond\"\n",
       "},\n",
       "\"data_meta\":{\n",
       "},\n",
       "\"size\":1.5,\n",
       "\"color\":\"gray\",\n",
       "\"data\":{\n",
       "}\n",
       "},{\n",
       "\"geom\":\"point\",\n",
       "\"mapping\":{\n",
       "\"shape\":\"cond\"\n",
       "},\n",
       "\"data_meta\":{\n",
       "},\n",
       "\"fill\":\"dark_green\",\n",
       "\"color\":\"gray\",\n",
       "\"size\":6.0,\n",
       "\"data\":{\n",
       "}\n",
       "}],\n",
       "\"metainfo_list\":[]\n",
       "};\n",
       "           var plotContainer = document.getElementById(\"bNq7UZ\");\n",
       "           window.letsPlotCall(function() {{\n",
       "               LetsPlot.buildPlotFromProcessedSpecs(plotSpec, -1, -1, plotContainer);\n",
       "           }});\n",
       "       })();\n",
       "   </script>"
      ],
      "text/plain": [
       "<lets_plot.plot.core.PlotSpec at 0x146d23c10>"
      ]
     },
     "execution_count": 8,
     "metadata": {},
     "output_type": "execute_result"
    }
   ],
   "source": [
    "# Let's set gray lines and shapes with green fill\n",
    "ggplot(df, aes(x='x', y='y', group='cond')) + \\\n",
    "    geom_line(aes(linetype='cond'), size=1.5, color='gray') + \\\n",
    "    geom_point(aes(shape='cond'), fill='dark_green', color='gray', size=6) + \\\n",
    "    scale_shape_manual(values=(21,22,24))  # Shapes: Filled circle, square, triangle"
   ]
  },
  {
   "cell_type": "code",
   "execution_count": 9,
   "metadata": {
    "execution": {
     "iopub.execute_input": "2024-09-27T18:15:31.850333Z",
     "iopub.status.busy": "2024-09-27T18:15:31.850258Z",
     "iopub.status.idle": "2024-09-27T18:15:31.853154Z",
     "shell.execute_reply": "2024-09-27T18:15:31.852966Z"
    }
   },
   "outputs": [
    {
     "data": {
      "text/html": [
       "   <div id=\"3nbPVT\"></div>\n",
       "   <script type=\"text/javascript\" data-lets-plot-script=\"plot\">\n",
       "       (function() {\n",
       "           var plotSpec={\n",
       "\"data\":{\n",
       "\"cond\":[\"A\",\"A\",\"B\",\"B\",\"C\",\"C\"],\n",
       "\"x\":[2.0,3.0,2.0,3.0,2.0,3.0],\n",
       "\"y\":[1.0,1.5,2.0,1.0,1.6,1.8]\n",
       "},\n",
       "\"mapping\":{\n",
       "\"x\":\"x\",\n",
       "\"y\":\"y\",\n",
       "\"group\":\"cond\"\n",
       "},\n",
       "\"data_meta\":{\n",
       "\"series_annotations\":[{\n",
       "\"type\":\"str\",\n",
       "\"column\":\"cond\"\n",
       "},{\n",
       "\"type\":\"int\",\n",
       "\"column\":\"x\"\n",
       "},{\n",
       "\"type\":\"float\",\n",
       "\"column\":\"y\"\n",
       "}]\n",
       "},\n",
       "\"kind\":\"plot\",\n",
       "\"scales\":[{\n",
       "\"aesthetic\":\"shape\",\n",
       "\"values\":[21.0,22.0,24.0]\n",
       "}],\n",
       "\"layers\":[{\n",
       "\"geom\":\"line\",\n",
       "\"mapping\":{\n",
       "\"linetype\":\"cond\"\n",
       "},\n",
       "\"data_meta\":{\n",
       "},\n",
       "\"size\":1.5,\n",
       "\"color\":\"gray\",\n",
       "\"alpha\":0.5,\n",
       "\"data\":{\n",
       "}\n",
       "},{\n",
       "\"geom\":\"point\",\n",
       "\"mapping\":{\n",
       "\"shape\":\"cond\"\n",
       "},\n",
       "\"data_meta\":{\n",
       "},\n",
       "\"fill\":\"dark_green\",\n",
       "\"color\":\"gray\",\n",
       "\"size\":6.0,\n",
       "\"alpha\":0.7,\n",
       "\"data\":{\n",
       "}\n",
       "}],\n",
       "\"metainfo_list\":[]\n",
       "};\n",
       "           var plotContainer = document.getElementById(\"3nbPVT\");\n",
       "           window.letsPlotCall(function() {{\n",
       "               LetsPlot.buildPlotFromProcessedSpecs(plotSpec, -1, -1, plotContainer);\n",
       "           }});\n",
       "       })();\n",
       "   </script>"
      ],
      "text/plain": [
       "<lets_plot.plot.core.PlotSpec at 0x146d23e80>"
      ]
     },
     "execution_count": 9,
     "metadata": {},
     "output_type": "execute_result"
    }
   ],
   "source": [
    "# We can also add alpha channel(transparency)\n",
    "ggplot(df, aes(x='x', y='y', group='cond')) + \\\n",
    "    geom_line(aes(linetype='cond'), size = 1.5, color='gray', alpha=.5) + \\\n",
    "    geom_point(aes(shape='cond'), fill='dark_green', color='gray', size=6, alpha=.7) + \\\n",
    "    scale_shape_manual(values=(21,22,24))"
   ]
  }
 ],
 "metadata": {
  "kernelspec": {
   "display_name": "Python 3 (ipykernel)",
   "language": "python",
   "name": "python3"
  },
  "language_info": {
   "codemirror_mode": {
    "name": "ipython",
    "version": 3
   },
   "file_extension": ".py",
   "mimetype": "text/x-python",
   "name": "python",
   "nbconvert_exporter": "python",
   "pygments_lexer": "ipython3",
   "version": "3.10.15"
  }
 },
 "nbformat": 4,
 "nbformat_minor": 1
}
