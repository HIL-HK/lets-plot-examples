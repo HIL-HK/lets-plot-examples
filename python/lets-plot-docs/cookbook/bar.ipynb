{
 "cells": [
  {
   "cell_type": "code",
   "execution_count": 1,
   "metadata": {
    "execution": {
     "iopub.execute_input": "2024-09-27T18:15:41.929505Z",
     "iopub.status.busy": "2024-09-27T18:15:41.929161Z",
     "iopub.status.idle": "2024-09-27T18:15:42.347652Z",
     "shell.execute_reply": "2024-09-27T18:15:42.347392Z"
    }
   },
   "outputs": [
    {
     "data": {
      "text/html": [
       "\n",
       "            <div id=\"H6tFOm\"></div>\n",
       "            <script type=\"text/javascript\" data-lets-plot-script=\"library\">\n",
       "                if(!window.letsPlotCallQueue) {\n",
       "                    window.letsPlotCallQueue = [];\n",
       "                }; \n",
       "                window.letsPlotCall = function(f) {\n",
       "                    window.letsPlotCallQueue.push(f);\n",
       "                };\n",
       "                (function() {\n",
       "                    var script = document.createElement(\"script\");\n",
       "                    script.type = \"text/javascript\";\n",
       "                    script.src = \"https://cdn.jsdelivr.net/gh/JetBrains/lets-plot@v4.4.1/js-package/distr/lets-plot.min.js\";\n",
       "                    script.onload = function() {\n",
       "                        window.letsPlotCall = function(f) {f();};\n",
       "                        window.letsPlotCallQueue.forEach(function(f) {f();});\n",
       "                        window.letsPlotCallQueue = [];\n",
       "                        \n",
       "                    };\n",
       "                    script.onerror = function(event) {\n",
       "                        window.letsPlotCall = function(f) {};    // noop\n",
       "                        window.letsPlotCallQueue = [];\n",
       "                        var div = document.createElement(\"div\");\n",
       "                        div.style.color = 'darkred';\n",
       "                        div.textContent = 'Error loading Lets-Plot JS';\n",
       "                        document.getElementById(\"H6tFOm\").appendChild(div);\n",
       "                    };\n",
       "                    var e = document.getElementById(\"H6tFOm\");\n",
       "                    e.appendChild(script);\n",
       "                })()\n",
       "            </script>\n",
       "            "
      ]
     },
     "metadata": {},
     "output_type": "display_data"
    }
   ],
   "source": [
    "import pandas as pd\n",
    "\n",
    "from lets_plot import *\n",
    "LetsPlot.setup_html()"
   ]
  },
  {
   "cell_type": "code",
   "execution_count": 2,
   "metadata": {
    "execution": {
     "iopub.execute_input": "2024-09-27T18:15:42.363335Z",
     "iopub.status.busy": "2024-09-27T18:15:42.363191Z",
     "iopub.status.idle": "2024-09-27T18:15:42.557458Z",
     "shell.execute_reply": "2024-09-27T18:15:42.556834Z"
    }
   },
   "outputs": [],
   "source": [
    "mpg_df=pd.read_csv('https://raw.githubusercontent.com/JetBrains/lets-plot-docs/master/data/mpg.csv')"
   ]
  },
  {
   "cell_type": "code",
   "execution_count": 3,
   "metadata": {
    "execution": {
     "iopub.execute_input": "2024-09-27T18:15:42.560662Z",
     "iopub.status.busy": "2024-09-27T18:15:42.560368Z",
     "iopub.status.idle": "2024-09-27T18:15:42.612334Z",
     "shell.execute_reply": "2024-09-27T18:15:42.612074Z"
    },
    "scrolled": false
   },
   "outputs": [
    {
     "data": {
      "text/html": [
       "   <div id=\"4Mtm3x\"></div>\n",
       "   <script type=\"text/javascript\" data-lets-plot-script=\"plot\">\n",
       "       (function() {\n",
       "           var plotSpec={\n",
       "\"data\":{\n",
       "},\n",
       "\"mapping\":{\n",
       "\"x\":\"class\"\n",
       "},\n",
       "\"data_meta\":{\n",
       "\"series_annotations\":[{\n",
       "\"type\":\"int\",\n",
       "\"column\":\"Unnamed: 0\"\n",
       "},{\n",
       "\"type\":\"str\",\n",
       "\"column\":\"manufacturer\"\n",
       "},{\n",
       "\"type\":\"str\",\n",
       "\"column\":\"model\"\n",
       "},{\n",
       "\"type\":\"float\",\n",
       "\"column\":\"displ\"\n",
       "},{\n",
       "\"type\":\"int\",\n",
       "\"column\":\"year\"\n",
       "},{\n",
       "\"type\":\"int\",\n",
       "\"column\":\"cyl\"\n",
       "},{\n",
       "\"type\":\"str\",\n",
       "\"column\":\"trans\"\n",
       "},{\n",
       "\"type\":\"str\",\n",
       "\"column\":\"drv\"\n",
       "},{\n",
       "\"type\":\"int\",\n",
       "\"column\":\"cty\"\n",
       "},{\n",
       "\"type\":\"int\",\n",
       "\"column\":\"hwy\"\n",
       "},{\n",
       "\"type\":\"str\",\n",
       "\"column\":\"fl\"\n",
       "},{\n",
       "\"type\":\"str\",\n",
       "\"column\":\"class\"\n",
       "}]\n",
       "},\n",
       "\"kind\":\"plot\",\n",
       "\"scales\":[{\n",
       "\"aesthetic\":\"fill\",\n",
       "\"discrete\":true\n",
       "}],\n",
       "\"layers\":[{\n",
       "\"geom\":\"bar\",\n",
       "\"mapping\":{\n",
       "\"fill\":\"class\"\n",
       "},\n",
       "\"data_meta\":{\n",
       "},\n",
       "\"alpha\":0.8,\n",
       "\"data\":{\n",
       "\"..count..\":[47.0,41.0,62.0,5.0,11.0,33.0,35.0],\n",
       "\"class\":[\"compact\",\"midsize\",\"suv\",\"2seater\",\"minivan\",\"pickup\",\"subcompact\"]\n",
       "}\n",
       "}],\n",
       "\"metainfo_list\":[]\n",
       "};\n",
       "           var plotContainer = document.getElementById(\"4Mtm3x\");\n",
       "           window.letsPlotCall(function() {{\n",
       "               LetsPlot.buildPlotFromProcessedSpecs(plotSpec, -1, -1, plotContainer);\n",
       "           }});\n",
       "       })();\n",
       "   </script>"
      ],
      "text/plain": [
       "<lets_plot.plot.core.PlotSpec at 0x121a05390>"
      ]
     },
     "execution_count": 3,
     "metadata": {},
     "output_type": "execute_result"
    }
   ],
   "source": [
    "ggplot(mpg_df, aes(x='class')) + \\\n",
    "    geom_bar(aes(fill='class'), alpha=.8) + \\\n",
    "    scale_fill_discrete()"
   ]
  },
  {
   "cell_type": "code",
   "execution_count": 4,
   "metadata": {
    "execution": {
     "iopub.execute_input": "2024-09-27T18:15:42.613583Z",
     "iopub.status.busy": "2024-09-27T18:15:42.613489Z",
     "iopub.status.idle": "2024-09-27T18:15:42.617979Z",
     "shell.execute_reply": "2024-09-27T18:15:42.617755Z"
    }
   },
   "outputs": [
    {
     "data": {
      "text/html": [
       "   <div id=\"nttPCe\"></div>\n",
       "   <script type=\"text/javascript\" data-lets-plot-script=\"plot\">\n",
       "       (function() {\n",
       "           var plotSpec={\n",
       "\"data\":{\n",
       "},\n",
       "\"mapping\":{\n",
       "},\n",
       "\"data_meta\":{\n",
       "\"series_annotations\":[{\n",
       "\"type\":\"int\",\n",
       "\"column\":\"Unnamed: 0\"\n",
       "},{\n",
       "\"type\":\"str\",\n",
       "\"column\":\"manufacturer\"\n",
       "},{\n",
       "\"type\":\"str\",\n",
       "\"column\":\"model\"\n",
       "},{\n",
       "\"type\":\"float\",\n",
       "\"column\":\"displ\"\n",
       "},{\n",
       "\"type\":\"int\",\n",
       "\"column\":\"year\"\n",
       "},{\n",
       "\"type\":\"int\",\n",
       "\"column\":\"cyl\"\n",
       "},{\n",
       "\"type\":\"str\",\n",
       "\"column\":\"trans\"\n",
       "},{\n",
       "\"type\":\"str\",\n",
       "\"column\":\"drv\"\n",
       "},{\n",
       "\"type\":\"int\",\n",
       "\"column\":\"cty\"\n",
       "},{\n",
       "\"type\":\"int\",\n",
       "\"column\":\"hwy\"\n",
       "},{\n",
       "\"type\":\"str\",\n",
       "\"column\":\"fl\"\n",
       "},{\n",
       "\"type\":\"str\",\n",
       "\"column\":\"class\"\n",
       "}]\n",
       "},\n",
       "\"kind\":\"plot\",\n",
       "\"scales\":[],\n",
       "\"layers\":[{\n",
       "\"geom\":\"bar\",\n",
       "\"mapping\":{\n",
       "\"x\":\"cyl\",\n",
       "\"fill\":\"drv\"\n",
       "},\n",
       "\"data_meta\":{\n",
       "},\n",
       "\"color\":\"white\",\n",
       "\"size\":0.5,\n",
       "\"data\":{\n",
       "\"..count..\":[58.0,43.0,1.0,4.0,23.0,32.0,48.0,21.0,4.0],\n",
       "\"cyl\":[4.0,6.0,8.0,5.0,4.0,6.0,8.0,8.0,6.0],\n",
       "\"drv\":[\"f\",\"f\",\"f\",\"f\",\"4\",\"4\",\"4\",\"r\",\"r\"]\n",
       "}\n",
       "}],\n",
       "\"metainfo_list\":[]\n",
       "};\n",
       "           var plotContainer = document.getElementById(\"nttPCe\");\n",
       "           window.letsPlotCall(function() {{\n",
       "               LetsPlot.buildPlotFromProcessedSpecs(plotSpec, -1, -1, plotContainer);\n",
       "           }});\n",
       "       })();\n",
       "   </script>"
      ],
      "text/plain": [
       "<lets_plot.plot.core.PlotSpec at 0x121d1b760>"
      ]
     },
     "execution_count": 4,
     "metadata": {},
     "output_type": "execute_result"
    }
   ],
   "source": [
    "ggplot(mpg_df) + \\\n",
    "    geom_bar(aes(x='cyl', fill='drv'), color='white', size=0.5)"
   ]
  },
  {
   "cell_type": "code",
   "execution_count": 5,
   "metadata": {
    "execution": {
     "iopub.execute_input": "2024-09-27T18:15:42.619085Z",
     "iopub.status.busy": "2024-09-27T18:15:42.618998Z",
     "iopub.status.idle": "2024-09-27T18:15:42.623261Z",
     "shell.execute_reply": "2024-09-27T18:15:42.623051Z"
    }
   },
   "outputs": [
    {
     "data": {
      "text/html": [
       "   <div id=\"szEWfs\"></div>\n",
       "   <script type=\"text/javascript\" data-lets-plot-script=\"plot\">\n",
       "       (function() {\n",
       "           var plotSpec={\n",
       "\"data\":{\n",
       "},\n",
       "\"mapping\":{\n",
       "},\n",
       "\"data_meta\":{\n",
       "\"series_annotations\":[{\n",
       "\"type\":\"int\",\n",
       "\"column\":\"Unnamed: 0\"\n",
       "},{\n",
       "\"type\":\"str\",\n",
       "\"column\":\"manufacturer\"\n",
       "},{\n",
       "\"type\":\"str\",\n",
       "\"column\":\"model\"\n",
       "},{\n",
       "\"type\":\"float\",\n",
       "\"column\":\"displ\"\n",
       "},{\n",
       "\"type\":\"int\",\n",
       "\"column\":\"year\"\n",
       "},{\n",
       "\"type\":\"int\",\n",
       "\"column\":\"cyl\"\n",
       "},{\n",
       "\"type\":\"str\",\n",
       "\"column\":\"trans\"\n",
       "},{\n",
       "\"type\":\"str\",\n",
       "\"column\":\"drv\"\n",
       "},{\n",
       "\"type\":\"int\",\n",
       "\"column\":\"cty\"\n",
       "},{\n",
       "\"type\":\"int\",\n",
       "\"column\":\"hwy\"\n",
       "},{\n",
       "\"type\":\"str\",\n",
       "\"column\":\"fl\"\n",
       "},{\n",
       "\"type\":\"str\",\n",
       "\"column\":\"class\"\n",
       "}]\n",
       "},\n",
       "\"kind\":\"plot\",\n",
       "\"scales\":[],\n",
       "\"layers\":[{\n",
       "\"geom\":\"bar\",\n",
       "\"mapping\":{\n",
       "\"x\":\"cyl\",\n",
       "\"fill\":\"drv\"\n",
       "},\n",
       "\"position\":\"dodge\",\n",
       "\"data_meta\":{\n",
       "},\n",
       "\"data\":{\n",
       "\"..count..\":[58.0,43.0,1.0,4.0,23.0,32.0,48.0,21.0,4.0],\n",
       "\"cyl\":[4.0,6.0,8.0,5.0,4.0,6.0,8.0,8.0,6.0],\n",
       "\"drv\":[\"f\",\"f\",\"f\",\"f\",\"4\",\"4\",\"4\",\"r\",\"r\"]\n",
       "}\n",
       "}],\n",
       "\"metainfo_list\":[]\n",
       "};\n",
       "           var plotContainer = document.getElementById(\"szEWfs\");\n",
       "           window.letsPlotCall(function() {{\n",
       "               LetsPlot.buildPlotFromProcessedSpecs(plotSpec, -1, -1, plotContainer);\n",
       "           }});\n",
       "       })();\n",
       "   </script>"
      ],
      "text/plain": [
       "<lets_plot.plot.core.PlotSpec at 0x1219b7ca0>"
      ]
     },
     "execution_count": 5,
     "metadata": {},
     "output_type": "execute_result"
    }
   ],
   "source": [
    "ggplot(mpg_df) + \\\n",
    "    geom_bar(aes(x='cyl', fill='drv'), position='dodge')"
   ]
  },
  {
   "cell_type": "code",
   "execution_count": 6,
   "metadata": {
    "execution": {
     "iopub.execute_input": "2024-09-27T18:15:42.624318Z",
     "iopub.status.busy": "2024-09-27T18:15:42.624242Z",
     "iopub.status.idle": "2024-09-27T18:15:42.625975Z",
     "shell.execute_reply": "2024-09-27T18:15:42.625755Z"
    }
   },
   "outputs": [],
   "source": [
    "results = {'rating': [5, 4, 3, 4, 3, 4, 5, 3, 5, 3, 4, 3]}"
   ]
  },
  {
   "cell_type": "code",
   "execution_count": 7,
   "metadata": {
    "execution": {
     "iopub.execute_input": "2024-09-27T18:15:42.626978Z",
     "iopub.status.busy": "2024-09-27T18:15:42.626907Z",
     "iopub.status.idle": "2024-09-27T18:15:42.629207Z",
     "shell.execute_reply": "2024-09-27T18:15:42.628977Z"
    }
   },
   "outputs": [
    {
     "data": {
      "text/html": [
       "   <div id=\"6SGDv7\"></div>\n",
       "   <script type=\"text/javascript\" data-lets-plot-script=\"plot\">\n",
       "       (function() {\n",
       "           var plotSpec={\n",
       "\"data\":{\n",
       "},\n",
       "\"mapping\":{\n",
       "\"x\":\"rating\"\n",
       "},\n",
       "\"data_meta\":{\n",
       "\"series_annotations\":[{\n",
       "\"type\":\"int\",\n",
       "\"column\":\"rating\"\n",
       "}]\n",
       "},\n",
       "\"kind\":\"plot\",\n",
       "\"scales\":[{\n",
       "\"aesthetic\":\"fill\",\n",
       "\"discrete\":true\n",
       "}],\n",
       "\"layers\":[{\n",
       "\"geom\":\"bar\",\n",
       "\"mapping\":{\n",
       "\"y\":\"..count..\",\n",
       "\"fill\":\"..count..\"\n",
       "},\n",
       "\"data_meta\":{\n",
       "},\n",
       "\"width\":0.85,\n",
       "\"data\":{\n",
       "\"..count..\":[3.0,4.0,5.0],\n",
       "\"rating\":[5.0,4.0,3.0]\n",
       "}\n",
       "}],\n",
       "\"metainfo_list\":[]\n",
       "};\n",
       "           var plotContainer = document.getElementById(\"6SGDv7\");\n",
       "           window.letsPlotCall(function() {{\n",
       "               LetsPlot.buildPlotFromProcessedSpecs(plotSpec, -1, -1, plotContainer);\n",
       "           }});\n",
       "       })();\n",
       "   </script>"
      ],
      "text/plain": [
       "<lets_plot.plot.core.PlotSpec at 0x121d36ad0>"
      ]
     },
     "execution_count": 7,
     "metadata": {},
     "output_type": "execute_result"
    }
   ],
   "source": [
    "ggplot(results, aes(x='rating')) + geom_bar(aes(y='..count..',fill='..count..'), width=0.85) + \\\n",
    "    scale_fill_discrete()"
   ]
  }
 ],
 "metadata": {
  "kernelspec": {
   "display_name": "Python 3 (ipykernel)",
   "language": "python",
   "name": "python3"
  },
  "language_info": {
   "codemirror_mode": {
    "name": "ipython",
    "version": 3
   },
   "file_extension": ".py",
   "mimetype": "text/x-python",
   "name": "python",
   "nbconvert_exporter": "python",
   "pygments_lexer": "ipython3",
   "version": "3.10.15"
  }
 },
 "nbformat": 4,
 "nbformat_minor": 2
}
