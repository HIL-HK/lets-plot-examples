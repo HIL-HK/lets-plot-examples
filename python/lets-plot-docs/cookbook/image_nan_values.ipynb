{
 "cells": [
  {
   "cell_type": "markdown",
   "metadata": {},
   "source": [
    "### `geom_imshow()` renders `NaN` values as transparent pixels"
   ]
  },
  {
   "cell_type": "code",
   "execution_count": null,
   "metadata": {},
   "outputs": [],
   "source": [
    "import numpy as np\n",
    "from osgeo import gdal, osr\n",
    "\n",
    "from lets_plot import *"
   ]
  },
  {
   "cell_type": "code",
   "execution_count": null,
   "metadata": {},
   "outputs": [],
   "source": [
    "LetsPlot.setup_html()"
   ]
  },
  {
   "cell_type": "code",
   "execution_count": null,
   "metadata": {},
   "outputs": [],
   "source": [
    "def get_bounds(data):\n",
    "    xmin, xpixel, _, ymax, _, ypixel = data.GetGeoTransform()\n",
    "    width, height = data.RasterXSize, data.RasterYSize\n",
    "    xmax = xmin + width * xpixel\n",
    "    ymin = ymax + height * ypixel\n",
    "    return xmin, ymin, xmax, ymax\n",
    "\n",
    "def get_crs(data):\n",
    "    proj = osr.SpatialReference(wkt=data.GetProjection())\n",
    "    return \"EPSG:{0}\".format(proj.GetAttrValue('AUTHORITY', 1))"
   ]
  },
  {
   "cell_type": "markdown",
   "metadata": {},
   "source": [
    "#### Load Data - Japan Digital Elevation Model (DEM)\n",
    "\n",
    "Data are available at\n",
    "\n",
    "[Harvard Dataverse](https://dataverse.harvard.edu/dataset.xhtml?persistentId=doi:10.7910/DVN/28762)\n",
    "\n",
    "Japan DEM (c) USGS. Processed for Japan by Skinner Regional Systems Analysis. Cambridge: Center for Geographic Analysis, Harvard University, 2015."
   ]
  },
  {
   "cell_type": "code",
   "execution_count": null,
   "metadata": {},
   "outputs": [],
   "source": [
    "# Load data with GDAL\n",
    "\n",
    "jp_tif = gdal.Open(\"https://raw.githubusercontent.com/JetBrains/lets-plot-docs/master/data/japan_dem_wgs84/japan_dem_wgs84.tif\")"
   ]
  },
  {
   "cell_type": "code",
   "execution_count": null,
   "metadata": {},
   "outputs": [],
   "source": [
    "# Metadata\n",
    "\n",
    "jp_crs = get_crs(jp_tif)\n",
    "jp_bounds = get_bounds(jp_tif)\n",
    "\n",
    "print(\"{}\\n{}\".format(jp_crs, jp_bounds))"
   ]
  },
  {
   "cell_type": "code",
   "execution_count": null,
   "metadata": {},
   "outputs": [],
   "source": [
    "# create the \"extent\" to use in geom_imshow()\n",
    "\n",
    "xmin = jp_bounds[0]\n",
    "xmax = jp_bounds[2]\n",
    "ymin = jp_bounds[1]\n",
    "ymax = jp_bounds[3]\n",
    "\n",
    "jp_ext=[xmin, xmax, ymin, ymax]"
   ]
  },
  {
   "cell_type": "code",
   "execution_count": null,
   "metadata": {},
   "outputs": [],
   "source": [
    "# Get the first band as a 2D numpy array\n",
    "\n",
    "jp_arr = jp_tif.GetRasterBand(1).ReadAsArray()"
   ]
  },
  {
   "cell_type": "code",
   "execution_count": null,
   "metadata": {},
   "outputs": [],
   "source": [
    "type(jp_arr), np.shape(jp_arr)"
   ]
  },
  {
   "cell_type": "code",
   "execution_count": null,
   "metadata": {},
   "outputs": [],
   "source": [
    "ggplot() + geom_imshow(jp_arr, extent=jp_ext)"
   ]
  },
  {
   "cell_type": "markdown",
   "metadata": {},
   "source": [
    "Easy to see (chart below) that values in `jp_arr` form 2 clusters: large negative values and values close to 0. \n",
    "\n",
    "After \"normalization\", those 2 clasters fall into opposite sides of the luminosity spectrum, and as result we can only see blak&wite picture."
   ]
  },
  {
   "cell_type": "code",
   "execution_count": null,
   "metadata": {},
   "outputs": [],
   "source": [
    "(ggplot() \n",
    " + geom_histogram(aes(x=jp_arr.flatten()))\n",
    " + geom_vline(xintercept=-32768, color=\"red\")\n",
    " + geom_label(label=\"-32768\", x=-30000, y=5.2E6)\n",
    " + ggtitle(\"Distribution of elevations in Japan DEM\")\n",
    " + xlab(\"elevation (m)\")\n",
    ")"
   ]
  },
  {
   "cell_type": "markdown",
   "metadata": {},
   "source": [
    "### Re-encode the sea level using `NaN` values\n",
    "\n",
    "The sea level elevation is traditionally encoded as minimal 16-bit value: -32768. "
   ]
  },
  {
   "cell_type": "code",
   "execution_count": null,
   "metadata": {},
   "outputs": [],
   "source": [
    "jp_arr_nan=jp_arr.copy().astype(np.float32)\n",
    "jp_arr_nan[jp_arr<-30000]=np.nan\n",
    "\n",
    "(ggplot() \n",
    " + geom_histogram(aes(x=jp_arr_nan.flatten()))\n",
    " + ggtitle(\"Distribution of elevations in Japan DEM\", subtitle=\"excluding 'sea level'\")\n",
    " + xlab(\"elevation (m)\")\n",
    ")"
   ]
  },
  {
   "cell_type": "markdown",
   "metadata": {},
   "source": [
    "### Sea level is now transparent"
   ]
  },
  {
   "cell_type": "code",
   "execution_count": null,
   "metadata": {},
   "outputs": [],
   "source": [
    "ggplot() + geom_imshow(jp_arr_nan, extent=jp_ext)"
   ]
  },
  {
   "cell_type": "code",
   "execution_count": null,
   "metadata": {},
   "outputs": [],
   "source": [
    "jp_bbox = dict(zip(['xmin', 'ymin', 'xmax', 'ymax'], jp_bounds))\n",
    "jp_bbox"
   ]
  },
  {
   "cell_type": "code",
   "execution_count": null,
   "metadata": {},
   "outputs": [],
   "source": [
    "labels = dict(\n",
    "    label=[\"Sea of Japan\", \"Pacific\\nOcean\"],\n",
    "    x=[134, 144],\n",
    "    y=[41, 33]\n",
    ")"
   ]
  },
  {
   "cell_type": "code",
   "execution_count": null,
   "metadata": {},
   "outputs": [],
   "source": [
    "(ggplot() \n",
    " + geom_rect(**jp_bbox, fill='#aadaff', alpha=0.2)\n",
    " + geom_text(aes(\"x\", \"y\", label=\"label\"), data=labels, color='#578bcc', size=11, fontface='italic', family=\"Courier\")\n",
    " + geom_imshow(jp_arr_nan, \"viridis\", extent=jp_ext, vmax=1500)\n",
    " + coord_fixed(xlim=[128,147], ylim=[30, 46])\n",
    " + theme_bw() \n",
    " + theme(axis_title=\"blank\", plot_title=element_text(face=\"bold\"))\n",
    " + ggsize(800, 680)\n",
    " + ggtitle(\"Japan Digital Elevation Model\") \n",
    " + labs(caption=\"Japan DEM (c) USGS.\\n\" +\n",
    "            \"Processed for Japan by Skinner Regional Systems Analysis.\\n\" +\n",
    "            \"Cambridge: Center for Geographic Analysis, Harvard University, 2015.\")\n",
    ")"
   ]
  }
 ],
 "metadata": {
  "kernelspec": {
   "display_name": "Python 3 (ipykernel)",
   "language": "python",
   "name": "python3"
  },
  "language_info": {
   "codemirror_mode": {
    "name": "ipython",
    "version": 3
   },
   "file_extension": ".py",
   "mimetype": "text/x-python",
   "name": "python",
   "nbconvert_exporter": "python",
   "pygments_lexer": "ipython3",
   "version": "3.10.17"
  }
 },
 "nbformat": 4,
 "nbformat_minor": 4
}
