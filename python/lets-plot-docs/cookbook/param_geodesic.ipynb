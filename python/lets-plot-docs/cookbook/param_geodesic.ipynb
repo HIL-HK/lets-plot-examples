{
 "cells": [
  {
   "cell_type": "markdown",
   "id": "182ed456",
   "metadata": {},
   "source": [
    "# Param `geodesic` in `geom_segment()` and `geom_path()`\n",
    "\n",
    "With `geodesic=True` a segment will be transformed to a curve representing the shortest path between two points on the surface of Earth.\n",
    "\n",
    "Note that this parameter only works when functions `geom_path()` and `geom_segment()` are used in combination with `geom_livemap()`."
   ]
  },
  {
   "cell_type": "code",
   "execution_count": 1,
   "id": "bf3b27bb",
   "metadata": {
    "execution": {
     "iopub.execute_input": "2024-11-01T20:19:13.791597Z",
     "iopub.status.busy": "2024-11-01T20:19:13.791521Z",
     "iopub.status.idle": "2024-11-01T20:19:14.127068Z",
     "shell.execute_reply": "2024-11-01T20:19:14.126642Z"
    }
   },
   "outputs": [],
   "source": [
    "import pandas as pd\n",
    "\n",
    "from lets_plot import *"
   ]
  },
  {
   "cell_type": "code",
   "execution_count": 2,
   "id": "3142c360",
   "metadata": {
    "execution": {
     "iopub.execute_input": "2024-11-01T20:19:14.128501Z",
     "iopub.status.busy": "2024-11-01T20:19:14.128393Z",
     "iopub.status.idle": "2024-11-01T20:19:14.130848Z",
     "shell.execute_reply": "2024-11-01T20:19:14.130599Z"
    }
   },
   "outputs": [
    {
     "data": {
      "text/html": [
       "\n",
       "            <div id=\"pEZBgp\"></div>\n",
       "            <script type=\"text/javascript\" data-lets-plot-script=\"library\">\n",
       "                if(!window.letsPlotCallQueue) {\n",
       "                    window.letsPlotCallQueue = [];\n",
       "                }; \n",
       "                window.letsPlotCall = function(f) {\n",
       "                    window.letsPlotCallQueue.push(f);\n",
       "                };\n",
       "                (function() {\n",
       "                    var script = document.createElement(\"script\");\n",
       "                    script.type = \"text/javascript\";\n",
       "                    script.src = \"https://cdn.jsdelivr.net/gh/JetBrains/lets-plot@v4.5.1/js-package/distr/lets-plot.min.js\";\n",
       "                    script.onload = function() {\n",
       "                        window.letsPlotCall = function(f) {f();};\n",
       "                        window.letsPlotCallQueue.forEach(function(f) {f();});\n",
       "                        window.letsPlotCallQueue = [];\n",
       "                        \n",
       "                    };\n",
       "                    script.onerror = function(event) {\n",
       "                        window.letsPlotCall = function(f) {};    // noop\n",
       "                        window.letsPlotCallQueue = [];\n",
       "                        var div = document.createElement(\"div\");\n",
       "                        div.style.color = 'darkred';\n",
       "                        div.textContent = 'Error loading Lets-Plot JS';\n",
       "                        document.getElementById(\"pEZBgp\").appendChild(div);\n",
       "                    };\n",
       "                    var e = document.getElementById(\"pEZBgp\");\n",
       "                    e.appendChild(script);\n",
       "                })()\n",
       "            </script>\n",
       "            "
      ]
     },
     "metadata": {},
     "output_type": "display_data"
    }
   ],
   "source": [
    "LetsPlot.setup_html()"
   ]
  },
  {
   "cell_type": "code",
   "execution_count": 3,
   "id": "fd755b60",
   "metadata": {
    "execution": {
     "iopub.execute_input": "2024-11-01T20:19:14.131872Z",
     "iopub.status.busy": "2024-11-01T20:19:14.131802Z",
     "iopub.status.idle": "2024-11-01T20:19:14.133361Z",
     "shell.execute_reply": "2024-11-01T20:19:14.133125Z"
    }
   },
   "outputs": [],
   "source": [
    "LetsPlot.set(maptiles_lets_plot(theme='dark'))"
   ]
  },
  {
   "cell_type": "markdown",
   "id": "7920c2c6",
   "metadata": {},
   "source": [
    "#### By Default, a Segment on Map is a Straight Line\n"
   ]
  },
  {
   "cell_type": "code",
   "execution_count": 4,
   "id": "bd2aa153",
   "metadata": {
    "execution": {
     "iopub.execute_input": "2024-11-01T20:19:14.134326Z",
     "iopub.status.busy": "2024-11-01T20:19:14.134256Z",
     "iopub.status.idle": "2024-11-01T20:19:14.167638Z",
     "shell.execute_reply": "2024-11-01T20:19:14.167237Z"
    }
   },
   "outputs": [
    {
     "data": {
      "text/html": [
       "   <div id=\"x3HFM4\"></div>\n",
       "   <script type=\"text/javascript\" data-lets-plot-script=\"plot\">\n",
       "   \n",
       "   (function() {\n",
       "   // ----------\n",
       "   \n",
       "   var containerDiv = document.getElementById(\"x3HFM4\");\n",
       "   var observer = new ResizeObserver(function(entries) {\n",
       "       for (let entry of entries) {\n",
       "           var width = containerDiv.clientWidth\n",
       "           if (entry.contentBoxSize && width > 0) {\n",
       "           \n",
       "               // Render plot\n",
       "               if (observer) {\n",
       "                   observer.disconnect();\n",
       "                   observer = null;\n",
       "               }\n",
       "\n",
       "               var plotSpec={\n",
       "\"mapping\":{\n",
       "},\n",
       "\"data_meta\":{\n",
       "},\n",
       "\"kind\":\"plot\",\n",
       "\"scales\":[],\n",
       "\"layers\":[{\n",
       "\"geom\":\"livemap\",\n",
       "\"mapping\":{\n",
       "},\n",
       "\"data_meta\":{\n",
       "},\n",
       "\"tiles\":{\n",
       "\"kind\":\"vector_lets_plot\",\n",
       "\"url\":\"wss://tiles.datalore.jetbrains.com\",\n",
       "\"theme\":\"dark\",\n",
       "\"attribution\":\"<a href=\\\"https://lets-plot.org\\\">© Lets-Plot</a>, map data: <a href=\\\"https://www.openstreetmap.org/copyright\\\">© OpenStreetMap contributors</a>.\"\n",
       "},\n",
       "\"geocoding\":{\n",
       "\"url\":\"https://geo2.datalore.jetbrains.com/map_data/geocoding\"\n",
       "},\n",
       "\"data\":{\n",
       "}\n",
       "},{\n",
       "\"geom\":\"segment\",\n",
       "\"mapping\":{\n",
       "},\n",
       "\"data_meta\":{\n",
       "},\n",
       "\"x\":-122.25165,\n",
       "\"y\":37.464958,\n",
       "\"xend\":139.413,\n",
       "\"yend\":35.4122,\n",
       "\"color\":\"white\",\n",
       "\"size\":1.0,\n",
       "\"data\":{\n",
       "}\n",
       "}],\n",
       "\"metainfo_list\":[],\n",
       "\"spec_id\":\"1\"\n",
       "};\n",
       "               window.letsPlotCall(function() {\n",
       "       \n",
       "               var toolbar = null;\n",
       "               var plotContainer = containerDiv;               \n",
       "               \n",
       "                   var options = {\n",
       "                       sizing: {\n",
       "                           width_mode: \"min\",\n",
       "                           height_mode: \"scaled\",\n",
       "                           width: width\n",
       "                       }\n",
       "                   };\n",
       "                   var fig = LetsPlot.buildPlotFromProcessedSpecs(plotSpec, -1, -1, plotContainer, options);\n",
       "                   if (toolbar) {\n",
       "                     toolbar.bind(fig);\n",
       "                   }\n",
       "               });\n",
       "               \n",
       "               break;\n",
       "           }\n",
       "       }\n",
       "   });\n",
       "   \n",
       "   observer.observe(containerDiv);\n",
       "   \n",
       "   // ----------\n",
       "   })();\n",
       "   \n",
       "   </script>"
      ],
      "text/plain": [
       "<lets_plot.plot.core.PlotSpec at 0x70fca03a6980>"
      ]
     },
     "execution_count": 4,
     "metadata": {},
     "output_type": "execute_result"
    }
   ],
   "source": [
    "ggplot() + geom_livemap() + \\\n",
    "    geom_segment(x=-122.25165, y=37.464958, xend=139.4130, yend=35.4122, color='white', size=1)"
   ]
  },
  {
   "cell_type": "markdown",
   "id": "b6196efe",
   "metadata": {},
   "source": [
    "#### Segment with `geodesic=True`"
   ]
  },
  {
   "cell_type": "markdown",
   "id": "329f021b",
   "metadata": {},
   "source": [
    "With `geodesic=True` a segment on map becomes an arc. "
   ]
  },
  {
   "cell_type": "code",
   "execution_count": 5,
   "id": "1ba15925",
   "metadata": {
    "execution": {
     "iopub.execute_input": "2024-11-01T20:19:14.168803Z",
     "iopub.status.busy": "2024-11-01T20:19:14.168726Z",
     "iopub.status.idle": "2024-11-01T20:19:14.171827Z",
     "shell.execute_reply": "2024-11-01T20:19:14.171578Z"
    }
   },
   "outputs": [
    {
     "data": {
      "text/html": [
       "   <div id=\"NcfOds\"></div>\n",
       "   <script type=\"text/javascript\" data-lets-plot-script=\"plot\">\n",
       "   \n",
       "   (function() {\n",
       "   // ----------\n",
       "   \n",
       "   var containerDiv = document.getElementById(\"NcfOds\");\n",
       "   var observer = new ResizeObserver(function(entries) {\n",
       "       for (let entry of entries) {\n",
       "           var width = containerDiv.clientWidth\n",
       "           if (entry.contentBoxSize && width > 0) {\n",
       "           \n",
       "               // Render plot\n",
       "               if (observer) {\n",
       "                   observer.disconnect();\n",
       "                   observer = null;\n",
       "               }\n",
       "\n",
       "               var plotSpec={\n",
       "\"mapping\":{\n",
       "},\n",
       "\"data_meta\":{\n",
       "},\n",
       "\"kind\":\"plot\",\n",
       "\"scales\":[],\n",
       "\"layers\":[{\n",
       "\"geom\":\"livemap\",\n",
       "\"mapping\":{\n",
       "},\n",
       "\"data_meta\":{\n",
       "},\n",
       "\"tiles\":{\n",
       "\"kind\":\"vector_lets_plot\",\n",
       "\"url\":\"wss://tiles.datalore.jetbrains.com\",\n",
       "\"theme\":\"dark\",\n",
       "\"attribution\":\"<a href=\\\"https://lets-plot.org\\\">© Lets-Plot</a>, map data: <a href=\\\"https://www.openstreetmap.org/copyright\\\">© OpenStreetMap contributors</a>.\"\n",
       "},\n",
       "\"geocoding\":{\n",
       "\"url\":\"https://geo2.datalore.jetbrains.com/map_data/geocoding\"\n",
       "},\n",
       "\"data\":{\n",
       "}\n",
       "},{\n",
       "\"geom\":\"segment\",\n",
       "\"mapping\":{\n",
       "},\n",
       "\"data_meta\":{\n",
       "},\n",
       "\"geodesic\":true,\n",
       "\"x\":-122.25165,\n",
       "\"y\":37.464958,\n",
       "\"xend\":139.413,\n",
       "\"yend\":35.4122,\n",
       "\"color\":\"white\",\n",
       "\"size\":1.0,\n",
       "\"data\":{\n",
       "}\n",
       "}],\n",
       "\"metainfo_list\":[],\n",
       "\"spec_id\":\"2\"\n",
       "};\n",
       "               window.letsPlotCall(function() {\n",
       "       \n",
       "               var toolbar = null;\n",
       "               var plotContainer = containerDiv;               \n",
       "               \n",
       "                   var options = {\n",
       "                       sizing: {\n",
       "                           width_mode: \"min\",\n",
       "                           height_mode: \"scaled\",\n",
       "                           width: width\n",
       "                       }\n",
       "                   };\n",
       "                   var fig = LetsPlot.buildPlotFromProcessedSpecs(plotSpec, -1, -1, plotContainer, options);\n",
       "                   if (toolbar) {\n",
       "                     toolbar.bind(fig);\n",
       "                   }\n",
       "               });\n",
       "               \n",
       "               break;\n",
       "           }\n",
       "       }\n",
       "   });\n",
       "   \n",
       "   observer.observe(containerDiv);\n",
       "   \n",
       "   // ----------\n",
       "   })();\n",
       "   \n",
       "   </script>"
      ],
      "text/plain": [
       "<lets_plot.plot.core.PlotSpec at 0x70fca03a7b50>"
      ]
     },
     "execution_count": 5,
     "metadata": {},
     "output_type": "execute_result"
    }
   ],
   "source": [
    "ggplot() + geom_livemap() + \\\n",
    "    geom_segment(x=-122.25165, y=37.464958, xend=139.4130, yend=35.4122, geodesic=True, color='white', size=1)"
   ]
  },
  {
   "cell_type": "markdown",
   "id": "cf51bf43",
   "metadata": {},
   "source": [
    "#### `geom_path()` with `geodesic=True`\n"
   ]
  },
  {
   "cell_type": "code",
   "execution_count": 6,
   "id": "51a02aad",
   "metadata": {
    "execution": {
     "iopub.execute_input": "2024-11-01T20:19:14.172855Z",
     "iopub.status.busy": "2024-11-01T20:19:14.172783Z",
     "iopub.status.idle": "2024-11-01T20:19:14.176920Z",
     "shell.execute_reply": "2024-11-01T20:19:14.176687Z"
    }
   },
   "outputs": [
    {
     "data": {
      "text/html": [
       "   <div id=\"f54x5q\"></div>\n",
       "   <script type=\"text/javascript\" data-lets-plot-script=\"plot\">\n",
       "   \n",
       "   (function() {\n",
       "   // ----------\n",
       "   \n",
       "   var containerDiv = document.getElementById(\"f54x5q\");\n",
       "   var observer = new ResizeObserver(function(entries) {\n",
       "       for (let entry of entries) {\n",
       "           var width = containerDiv.clientWidth\n",
       "           if (entry.contentBoxSize && width > 0) {\n",
       "           \n",
       "               // Render plot\n",
       "               if (observer) {\n",
       "                   observer.disconnect();\n",
       "                   observer = null;\n",
       "               }\n",
       "\n",
       "               var plotSpec={\n",
       "\"data\":{\n",
       "\"lon\":[-73.935242,-122.25165,139.413],\n",
       "\"lat\":[40.73061,37.464958,35.4122]\n",
       "},\n",
       "\"mapping\":{\n",
       "},\n",
       "\"data_meta\":{\n",
       "\"series_annotations\":[{\n",
       "\"type\":\"str\",\n",
       "\"column\":\"city\"\n",
       "},{\n",
       "\"type\":\"float\",\n",
       "\"column\":\"lon\"\n",
       "},{\n",
       "\"type\":\"float\",\n",
       "\"column\":\"lat\"\n",
       "}]\n",
       "},\n",
       "\"kind\":\"plot\",\n",
       "\"scales\":[],\n",
       "\"layers\":[{\n",
       "\"geom\":\"livemap\",\n",
       "\"mapping\":{\n",
       "},\n",
       "\"data_meta\":{\n",
       "},\n",
       "\"tiles\":{\n",
       "\"kind\":\"vector_lets_plot\",\n",
       "\"url\":\"wss://tiles.datalore.jetbrains.com\",\n",
       "\"theme\":\"dark\",\n",
       "\"attribution\":\"<a href=\\\"https://lets-plot.org\\\">© Lets-Plot</a>, map data: <a href=\\\"https://www.openstreetmap.org/copyright\\\">© OpenStreetMap contributors</a>.\"\n",
       "},\n",
       "\"geocoding\":{\n",
       "\"url\":\"https://geo2.datalore.jetbrains.com/map_data/geocoding\"\n",
       "},\n",
       "\"data\":{\n",
       "}\n",
       "},{\n",
       "\"geom\":\"path\",\n",
       "\"mapping\":{\n",
       "\"x\":\"lon\",\n",
       "\"y\":\"lat\"\n",
       "},\n",
       "\"data_meta\":{\n",
       "},\n",
       "\"color\":\"white\",\n",
       "\"size\":1.0,\n",
       "\"linetype\":\"dotted\",\n",
       "\"data\":{\n",
       "}\n",
       "},{\n",
       "\"geom\":\"path\",\n",
       "\"mapping\":{\n",
       "\"x\":\"lon\",\n",
       "\"y\":\"lat\"\n",
       "},\n",
       "\"data_meta\":{\n",
       "},\n",
       "\"geodesic\":true,\n",
       "\"color\":\"white\",\n",
       "\"size\":1.0,\n",
       "\"data\":{\n",
       "}\n",
       "}],\n",
       "\"metainfo_list\":[],\n",
       "\"spec_id\":\"3\"\n",
       "};\n",
       "               window.letsPlotCall(function() {\n",
       "       \n",
       "               var toolbar = null;\n",
       "               var plotContainer = containerDiv;               \n",
       "               \n",
       "                   var options = {\n",
       "                       sizing: {\n",
       "                           width_mode: \"min\",\n",
       "                           height_mode: \"scaled\",\n",
       "                           width: width\n",
       "                       }\n",
       "                   };\n",
       "                   var fig = LetsPlot.buildPlotFromProcessedSpecs(plotSpec, -1, -1, plotContainer, options);\n",
       "                   if (toolbar) {\n",
       "                     toolbar.bind(fig);\n",
       "                   }\n",
       "               });\n",
       "               \n",
       "               break;\n",
       "           }\n",
       "       }\n",
       "   });\n",
       "   \n",
       "   observer.observe(containerDiv);\n",
       "   \n",
       "   // ----------\n",
       "   })();\n",
       "   \n",
       "   </script>"
      ],
      "text/plain": [
       "<lets_plot.plot.core.PlotSpec at 0x70fca03a7fd0>"
      ]
     },
     "execution_count": 6,
     "metadata": {},
     "output_type": "execute_result"
    }
   ],
   "source": [
    "data = {\n",
    "    'city': ['New York', 'San-Francisco', 'Tokyo'],\n",
    "    'lon': [-73.935242, -122.25165, 139.4130],\n",
    "    'lat': [40.730610, 37.464958, 35.4122],\n",
    "}\n",
    "ggplot(data) + \\\n",
    "    geom_livemap() + \\\n",
    "    geom_path(aes(x='lon', y='lat'), color='white', size=1, linetype=\"dotted\") + \\\n",
    "    geom_path(aes(x='lon', y='lat'), geodesic=True, color='white', size=1)"
   ]
  }
 ],
 "metadata": {
  "kernelspec": {
   "display_name": "Python 3 (ipykernel)",
   "language": "python",
   "name": "python3"
  },
  "language_info": {
   "codemirror_mode": {
    "name": "ipython",
    "version": 3
   },
   "file_extension": ".py",
   "mimetype": "text/x-python",
   "name": "python",
   "nbconvert_exporter": "python",
   "pygments_lexer": "ipython3",
   "version": "3.10.13"
  }
 },
 "nbformat": 4,
 "nbformat_minor": 5
}
