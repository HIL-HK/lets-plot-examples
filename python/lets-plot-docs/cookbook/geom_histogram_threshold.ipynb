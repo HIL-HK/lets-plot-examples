{
 "cells": [
  {
   "cell_type": "markdown",
   "id": "2476ee0c-4cfe-4a75-934d-ba2edb2fd775",
   "metadata": {},
   "source": [
    "# Parameter `threshold` in `geom_histogram()`\n",
    "\n",
    "\n",
    "The `threshold` parameter controls how the `bin` statistic is computed. When `threshold=None` (the default), all bins are retained.\n",
    "\n",
    "When `threshold=0` or other numeric value, bins with counts less than or equal to that threshold are dropped.\n",
    "\n",
    "Dropping empty bins is particularly useful for faceted plots with free scales."
   ]
  },
  {
   "cell_type": "code",
   "execution_count": 1,
   "id": "1f9cf7f9-dc56-4310-be9f-d4ec2761e05b",
   "metadata": {
    "execution": {
     "iopub.execute_input": "2025-03-04T15:01:20.385695Z",
     "iopub.status.busy": "2025-03-04T15:01:20.385695Z",
     "iopub.status.idle": "2025-03-04T15:01:21.478194Z",
     "shell.execute_reply": "2025-03-04T15:01:21.478194Z"
    }
   },
   "outputs": [],
   "source": [
    "import pandas as pd\n",
    "\n",
    "from lets_plot import *"
   ]
  },
  {
   "cell_type": "code",
   "execution_count": 2,
   "id": "fdc9915d-7e91-4139-a6b7-862fe5c1028d",
   "metadata": {
    "execution": {
     "iopub.execute_input": "2025-03-04T15:01:21.478194Z",
     "iopub.status.busy": "2025-03-04T15:01:21.478194Z",
     "iopub.status.idle": "2025-03-04T15:01:21.493991Z",
     "shell.execute_reply": "2025-03-04T15:01:21.493991Z"
    }
   },
   "outputs": [
    {
     "data": {
      "text/html": [
       "\n",
       "            <div id=\"E5fUU4\"></div>\n",
       "            <script type=\"text/javascript\" data-lets-plot-script=\"library\">\n",
       "                if(!window.letsPlotCallQueue) {\n",
       "                    window.letsPlotCallQueue = [];\n",
       "                }; \n",
       "                window.letsPlotCall = function(f) {\n",
       "                    window.letsPlotCallQueue.push(f);\n",
       "                };\n",
       "                (function() {\n",
       "                    var script = document.createElement(\"script\");\n",
       "                    script.type = \"text/javascript\";\n",
       "                    script.src = \"https://cdn.jsdelivr.net/gh/JetBrains/lets-plot@v4.6.0/js-package/distr/lets-plot.min.js\";\n",
       "                    script.onload = function() {\n",
       "                        window.letsPlotCall = function(f) {f();};\n",
       "                        window.letsPlotCallQueue.forEach(function(f) {f();});\n",
       "                        window.letsPlotCallQueue = [];\n",
       "                        \n",
       "                    };\n",
       "                    script.onerror = function(event) {\n",
       "                        window.letsPlotCall = function(f) {};    // noop\n",
       "                        window.letsPlotCallQueue = [];\n",
       "                        var div = document.createElement(\"div\");\n",
       "                        div.style.color = 'darkred';\n",
       "                        div.textContent = 'Error loading Lets-Plot JS';\n",
       "                        document.getElementById(\"E5fUU4\").appendChild(div);\n",
       "                    };\n",
       "                    var e = document.getElementById(\"E5fUU4\");\n",
       "                    e.appendChild(script);\n",
       "                })()\n",
       "            </script>\n",
       "            "
      ]
     },
     "metadata": {},
     "output_type": "display_data"
    }
   ],
   "source": [
    "LetsPlot.setup_html()"
   ]
  },
  {
   "cell_type": "code",
   "execution_count": 3,
   "id": "38decd07-e22d-4ee0-a924-9b16859b5303",
   "metadata": {
    "execution": {
     "iopub.execute_input": "2025-03-04T15:01:21.493991Z",
     "iopub.status.busy": "2025-03-04T15:01:21.493991Z",
     "iopub.status.idle": "2025-03-04T15:01:22.141547Z",
     "shell.execute_reply": "2025-03-04T15:01:22.141547Z"
    }
   },
   "outputs": [],
   "source": [
    "iris = pd.read_csv('https://raw.githubusercontent.com/JetBrains/lets-plot-docs/master/data/iris.csv')\n",
    "\n",
    "p = ggplot(iris, aes(x='petal_length', fill='species')) + facet_wrap(facets='species', scales='free_x')"
   ]
  },
  {
   "cell_type": "markdown",
   "id": "5eaca38f-a2c4-45c5-8057-56ecfb336bc9",
   "metadata": {},
   "source": [
    "#### 1. Default Faceted Histogram with Free X-axis\n",
    "\n",
    "Despite `scales='free_x'`, the x-axis still appears to be shared across the plot facets."
   ]
  },
  {
   "cell_type": "code",
   "execution_count": 4,
   "id": "ea3f1e11-3bf3-49ac-9712-e9dca7461350",
   "metadata": {
    "execution": {
     "iopub.execute_input": "2025-03-04T15:01:22.141547Z",
     "iopub.status.busy": "2025-03-04T15:01:22.141547Z",
     "iopub.status.idle": "2025-03-04T15:01:22.251572Z",
     "shell.execute_reply": "2025-03-04T15:01:22.251572Z"
    }
   },
   "outputs": [
    {
     "data": {
      "text/html": [
       "   <div id=\"6eE2X7\"></div>\n",
       "   <script type=\"text/javascript\" data-lets-plot-script=\"plot\">\n",
       "   \n",
       "   (function() {\n",
       "   // ----------\n",
       "   \n",
       "   const forceImmediateRender = false;\n",
       "   const responsive = false;\n",
       "   \n",
       "   let sizing = {\n",
       "       width_mode: \"MIN\",\n",
       "       height_mode: \"SCALED\",\n",
       "       width: null, \n",
       "       height: null \n",
       "   };\n",
       "   \n",
       "   const preferredWidth = document.body.dataset.letsPlotPreferredWidth;\n",
       "   if (preferredWidth !== undefined) {\n",
       "       sizing = {\n",
       "           width_mode: 'FIXED',\n",
       "           height_mode: 'SCALED',\n",
       "           width: parseFloat(preferredWidth)\n",
       "       };\n",
       "   }\n",
       "   \n",
       "   const containerDiv = document.getElementById(\"6eE2X7\");\n",
       "   let fig = null;\n",
       "   \n",
       "   function renderPlot() {\n",
       "       if (fig === null) {\n",
       "           const plotSpec = {\n",
       "\"data\":{\n",
       "},\n",
       "\"mapping\":{\n",
       "\"x\":\"petal_length\",\n",
       "\"fill\":\"species\"\n",
       "},\n",
       "\"data_meta\":{\n",
       "\"series_annotations\":[{\n",
       "\"type\":\"float\",\n",
       "\"column\":\"sepal_length\"\n",
       "},{\n",
       "\"type\":\"float\",\n",
       "\"column\":\"sepal_width\"\n",
       "},{\n",
       "\"type\":\"float\",\n",
       "\"column\":\"petal_length\"\n",
       "},{\n",
       "\"type\":\"float\",\n",
       "\"column\":\"petal_width\"\n",
       "},{\n",
       "\"type\":\"str\",\n",
       "\"column\":\"species\"\n",
       "}]\n",
       "},\n",
       "\"facet\":{\n",
       "\"name\":\"wrap\",\n",
       "\"facets\":\"species\",\n",
       "\"scales\":\"free_x\",\n",
       "\"order\":1.0,\n",
       "\"dir\":\"h\"\n",
       "},\n",
       "\"kind\":\"plot\",\n",
       "\"scales\":[],\n",
       "\"layers\":[{\n",
       "\"geom\":\"histogram\",\n",
       "\"mapping\":{\n",
       "},\n",
       "\"data_meta\":{\n",
       "\"series_annotations\":[{\n",
       "\"column\":\"species\",\n",
       "\"factor_levels\":[\"setosa\",\"versicolor\",\"virginica\"]\n",
       "}]\n",
       "},\n",
       "\"alpha\":0.5,\n",
       "\"data\":{\n",
       "\"..count..\":[1.0,3.0,19.0,21.0,4.0,2.0,0.0,0.0,0.0,0.0,0.0,0.0,0.0,0.0,0.0,0.0,0.0,0.0,0.0,0.0,0.0,0.0,0.0,0.0,0.0,0.0,0.0,0.0,0.0,0.0,0.0,0.0,0.0,0.0,0.0,0.0,0.0,0.0,0.0,0.0,1.0,2.0,2.0,2.0,4.0,8.0,6.0,11.0,8.0,4.0,2.0,0.0,0.0,0.0,0.0,0.0,0.0,0.0,0.0,0.0,0.0,0.0,0.0,0.0,0.0,0.0,0.0,0.0,0.0,0.0,0.0,0.0,0.0,0.0,0.0,0.0,0.0,1.0,0.0,5.0,10.0,4.0,5.0,12.0,4.0,3.0,2.0,1.0,2.0,1.0],\n",
       "\"petal_length\":[0.9652555555555556,1.1711,1.3769444444444445,1.582788888888889,1.7886333333333333,1.994477777777778,2.2003222222222223,2.4061666666666666,2.6120111111111113,2.8178555555555556,3.0237000000000003,3.2295444444444446,3.435388888888889,3.6412333333333335,3.847077777777778,4.0529222222222225,4.258766666666666,4.464611111111111,4.670455555555556,4.8763,5.082144444444444,5.287988888888888,5.493833333333333,5.699677777777778,5.9055222222222215,6.111366666666666,6.317211111111111,6.523055555555556,6.728899999999999,6.934744444444444,0.9652555555555556,1.1711,1.3769444444444445,1.582788888888889,1.7886333333333333,1.994477777777778,2.2003222222222223,2.4061666666666666,2.6120111111111113,2.8178555555555556,3.0237000000000003,3.2295444444444446,3.435388888888889,3.6412333333333335,3.847077777777778,4.0529222222222225,4.258766666666666,4.464611111111111,4.670455555555556,4.8763,5.082144444444444,5.287988888888888,5.493833333333333,5.699677777777778,5.9055222222222215,6.111366666666666,6.317211111111111,6.523055555555556,6.728899999999999,6.934744444444444,0.9652555555555556,1.1711,1.3769444444444445,1.582788888888889,1.7886333333333333,1.994477777777778,2.2003222222222223,2.4061666666666666,2.6120111111111113,2.8178555555555556,3.0237000000000003,3.2295444444444446,3.435388888888889,3.6412333333333335,3.847077777777778,4.0529222222222225,4.258766666666666,4.464611111111111,4.670455555555556,4.8763,5.082144444444444,5.287988888888888,5.493833333333333,5.699677777777778,5.9055222222222215,6.111366666666666,6.317211111111111,6.523055555555556,6.728899999999999,6.934744444444444],\n",
       "\"species\":[\"setosa\",\"setosa\",\"setosa\",\"setosa\",\"setosa\",\"setosa\",\"setosa\",\"setosa\",\"setosa\",\"setosa\",\"setosa\",\"setosa\",\"setosa\",\"setosa\",\"setosa\",\"setosa\",\"setosa\",\"setosa\",\"setosa\",\"setosa\",\"setosa\",\"setosa\",\"setosa\",\"setosa\",\"setosa\",\"setosa\",\"setosa\",\"setosa\",\"setosa\",\"setosa\",\"versicolor\",\"versicolor\",\"versicolor\",\"versicolor\",\"versicolor\",\"versicolor\",\"versicolor\",\"versicolor\",\"versicolor\",\"versicolor\",\"versicolor\",\"versicolor\",\"versicolor\",\"versicolor\",\"versicolor\",\"versicolor\",\"versicolor\",\"versicolor\",\"versicolor\",\"versicolor\",\"versicolor\",\"versicolor\",\"versicolor\",\"versicolor\",\"versicolor\",\"versicolor\",\"versicolor\",\"versicolor\",\"versicolor\",\"versicolor\",\"virginica\",\"virginica\",\"virginica\",\"virginica\",\"virginica\",\"virginica\",\"virginica\",\"virginica\",\"virginica\",\"virginica\",\"virginica\",\"virginica\",\"virginica\",\"virginica\",\"virginica\",\"virginica\",\"virginica\",\"virginica\",\"virginica\",\"virginica\",\"virginica\",\"virginica\",\"virginica\",\"virginica\",\"virginica\",\"virginica\",\"virginica\",\"virginica\",\"virginica\",\"virginica\"]\n",
       "}\n",
       "}],\n",
       "\"metainfo_list\":[],\n",
       "\"spec_id\":\"1\"\n",
       "};\n",
       "           window.letsPlotCall(function() { fig = LetsPlot.buildPlotFromProcessedSpecs(plotSpec, containerDiv, sizing); });\n",
       "       } else {\n",
       "           fig.updateView({});\n",
       "       }\n",
       "   }\n",
       "   \n",
       "   const renderImmediately = \n",
       "       forceImmediateRender || (\n",
       "           sizing.width_mode === 'FIXED' && \n",
       "           (sizing.height_mode === 'FIXED' || sizing.height_mode === 'SCALED')\n",
       "       );\n",
       "   \n",
       "   if (renderImmediately) {\n",
       "       renderPlot();\n",
       "   }\n",
       "   \n",
       "   if (!renderImmediately || responsive) {\n",
       "       // Set up observer for initial sizing or continuous monitoring\n",
       "       var observer = new ResizeObserver(function(entries) {\n",
       "           for (let entry of entries) {\n",
       "               if (entry.contentBoxSize && \n",
       "                   entry.contentBoxSize[0].inlineSize > 0) {\n",
       "                   if (!responsive && observer) {\n",
       "                       observer.disconnect();\n",
       "                       observer = null;\n",
       "                   }\n",
       "                   renderPlot();\n",
       "                   if (!responsive) {\n",
       "                       break;\n",
       "                   }\n",
       "               }\n",
       "           }\n",
       "       });\n",
       "       \n",
       "       observer.observe(containerDiv);\n",
       "   }\n",
       "   \n",
       "   // ----------\n",
       "   })();\n",
       "   \n",
       "   </script>"
      ],
      "text/plain": [
       "<lets_plot.plot.core.PlotSpec at 0x1aeff092a70>"
      ]
     },
     "execution_count": 4,
     "metadata": {},
     "output_type": "execute_result"
    }
   ],
   "source": [
    "p + geom_histogram(alpha=.5)"
   ]
  },
  {
   "cell_type": "markdown",
   "id": "4f324322-6e3d-4de6-a93a-5871e7c665a2",
   "metadata": {},
   "source": [
    "#### 2. With a Threshold"
   ]
  },
  {
   "cell_type": "code",
   "execution_count": 5,
   "id": "5985d9ff-7a14-45ca-bc9c-6a1e2f83e75f",
   "metadata": {
    "execution": {
     "iopub.execute_input": "2025-03-04T15:01:22.251572Z",
     "iopub.status.busy": "2025-03-04T15:01:22.251572Z",
     "iopub.status.idle": "2025-03-04T15:01:22.268132Z",
     "shell.execute_reply": "2025-03-04T15:01:22.267113Z"
    }
   },
   "outputs": [
    {
     "data": {
      "text/html": [
       "   <div id=\"avIaBg\"></div>\n",
       "   <script type=\"text/javascript\" data-lets-plot-script=\"plot\">\n",
       "   \n",
       "   (function() {\n",
       "   // ----------\n",
       "   \n",
       "   const forceImmediateRender = false;\n",
       "   const responsive = false;\n",
       "   \n",
       "   let sizing = {\n",
       "       width_mode: \"MIN\",\n",
       "       height_mode: \"SCALED\",\n",
       "       width: null, \n",
       "       height: null \n",
       "   };\n",
       "   \n",
       "   const preferredWidth = document.body.dataset.letsPlotPreferredWidth;\n",
       "   if (preferredWidth !== undefined) {\n",
       "       sizing = {\n",
       "           width_mode: 'FIXED',\n",
       "           height_mode: 'SCALED',\n",
       "           width: parseFloat(preferredWidth)\n",
       "       };\n",
       "   }\n",
       "   \n",
       "   const containerDiv = document.getElementById(\"avIaBg\");\n",
       "   let fig = null;\n",
       "   \n",
       "   function renderPlot() {\n",
       "       if (fig === null) {\n",
       "           const plotSpec = {\n",
       "\"data\":{\n",
       "},\n",
       "\"mapping\":{\n",
       "\"x\":\"petal_length\",\n",
       "\"fill\":\"species\"\n",
       "},\n",
       "\"data_meta\":{\n",
       "\"series_annotations\":[{\n",
       "\"type\":\"float\",\n",
       "\"column\":\"sepal_length\"\n",
       "},{\n",
       "\"type\":\"float\",\n",
       "\"column\":\"sepal_width\"\n",
       "},{\n",
       "\"type\":\"float\",\n",
       "\"column\":\"petal_length\"\n",
       "},{\n",
       "\"type\":\"float\",\n",
       "\"column\":\"petal_width\"\n",
       "},{\n",
       "\"type\":\"str\",\n",
       "\"column\":\"species\"\n",
       "}]\n",
       "},\n",
       "\"facet\":{\n",
       "\"name\":\"wrap\",\n",
       "\"facets\":\"species\",\n",
       "\"scales\":\"free_x\",\n",
       "\"order\":1.0,\n",
       "\"dir\":\"h\"\n",
       "},\n",
       "\"kind\":\"plot\",\n",
       "\"scales\":[],\n",
       "\"layers\":[{\n",
       "\"geom\":\"histogram\",\n",
       "\"mapping\":{\n",
       "},\n",
       "\"data_meta\":{\n",
       "\"series_annotations\":[{\n",
       "\"column\":\"species\",\n",
       "\"factor_levels\":[\"setosa\",\"versicolor\",\"virginica\"]\n",
       "}]\n",
       "},\n",
       "\"threshold\":0.0,\n",
       "\"alpha\":0.5,\n",
       "\"data\":{\n",
       "\"..count..\":[1.0,3.0,19.0,21.0,4.0,2.0,NaN,NaN,NaN,NaN,NaN,NaN,NaN,NaN,NaN,NaN,NaN,NaN,NaN,NaN,NaN,NaN,NaN,NaN,NaN,NaN,NaN,NaN,NaN,NaN,NaN,NaN,NaN,NaN,NaN,NaN,NaN,NaN,NaN,NaN,1.0,2.0,2.0,2.0,4.0,8.0,6.0,11.0,8.0,4.0,2.0,NaN,NaN,NaN,NaN,NaN,NaN,NaN,NaN,NaN,NaN,NaN,NaN,NaN,NaN,NaN,NaN,NaN,NaN,NaN,NaN,NaN,NaN,NaN,NaN,NaN,NaN,1.0,0.0,5.0,10.0,4.0,5.0,12.0,4.0,3.0,2.0,1.0,2.0,1.0],\n",
       "\"petal_length\":[0.9652555555555556,1.1711,1.3769444444444445,1.582788888888889,1.7886333333333333,1.994477777777778,NaN,NaN,NaN,NaN,NaN,NaN,NaN,NaN,NaN,NaN,NaN,NaN,NaN,NaN,NaN,NaN,NaN,NaN,NaN,NaN,NaN,NaN,NaN,NaN,NaN,NaN,NaN,NaN,NaN,NaN,NaN,NaN,NaN,NaN,3.0237000000000003,3.2295444444444446,3.435388888888889,3.6412333333333335,3.847077777777778,4.0529222222222225,4.258766666666666,4.464611111111111,4.670455555555556,4.8763,5.082144444444444,NaN,NaN,NaN,NaN,NaN,NaN,NaN,NaN,NaN,NaN,NaN,NaN,NaN,NaN,NaN,NaN,NaN,NaN,NaN,NaN,NaN,NaN,NaN,NaN,NaN,NaN,4.464611111111111,4.670455555555556,4.8763,5.082144444444444,5.287988888888888,5.493833333333333,5.699677777777778,5.9055222222222215,6.111366666666666,6.317211111111111,6.523055555555556,6.728899999999999,6.934744444444444],\n",
       "\"species\":[\"setosa\",\"setosa\",\"setosa\",\"setosa\",\"setosa\",\"setosa\",\"setosa\",\"setosa\",\"setosa\",\"setosa\",\"setosa\",\"setosa\",\"setosa\",\"setosa\",\"setosa\",\"setosa\",\"setosa\",\"setosa\",\"setosa\",\"setosa\",\"setosa\",\"setosa\",\"setosa\",\"setosa\",\"setosa\",\"setosa\",\"setosa\",\"setosa\",\"setosa\",\"setosa\",\"versicolor\",\"versicolor\",\"versicolor\",\"versicolor\",\"versicolor\",\"versicolor\",\"versicolor\",\"versicolor\",\"versicolor\",\"versicolor\",\"versicolor\",\"versicolor\",\"versicolor\",\"versicolor\",\"versicolor\",\"versicolor\",\"versicolor\",\"versicolor\",\"versicolor\",\"versicolor\",\"versicolor\",\"versicolor\",\"versicolor\",\"versicolor\",\"versicolor\",\"versicolor\",\"versicolor\",\"versicolor\",\"versicolor\",\"versicolor\",\"virginica\",\"virginica\",\"virginica\",\"virginica\",\"virginica\",\"virginica\",\"virginica\",\"virginica\",\"virginica\",\"virginica\",\"virginica\",\"virginica\",\"virginica\",\"virginica\",\"virginica\",\"virginica\",\"virginica\",\"virginica\",\"virginica\",\"virginica\",\"virginica\",\"virginica\",\"virginica\",\"virginica\",\"virginica\",\"virginica\",\"virginica\",\"virginica\",\"virginica\",\"virginica\"]\n",
       "}\n",
       "}],\n",
       "\"metainfo_list\":[],\n",
       "\"spec_id\":\"2\"\n",
       "};\n",
       "           window.letsPlotCall(function() { fig = LetsPlot.buildPlotFromProcessedSpecs(plotSpec, containerDiv, sizing); });\n",
       "       } else {\n",
       "           fig.updateView({});\n",
       "       }\n",
       "   }\n",
       "   \n",
       "   const renderImmediately = \n",
       "       forceImmediateRender || (\n",
       "           sizing.width_mode === 'FIXED' && \n",
       "           (sizing.height_mode === 'FIXED' || sizing.height_mode === 'SCALED')\n",
       "       );\n",
       "   \n",
       "   if (renderImmediately) {\n",
       "       renderPlot();\n",
       "   }\n",
       "   \n",
       "   if (!renderImmediately || responsive) {\n",
       "       // Set up observer for initial sizing or continuous monitoring\n",
       "       var observer = new ResizeObserver(function(entries) {\n",
       "           for (let entry of entries) {\n",
       "               if (entry.contentBoxSize && \n",
       "                   entry.contentBoxSize[0].inlineSize > 0) {\n",
       "                   if (!responsive && observer) {\n",
       "                       observer.disconnect();\n",
       "                       observer = null;\n",
       "                   }\n",
       "                   renderPlot();\n",
       "                   if (!responsive) {\n",
       "                       break;\n",
       "                   }\n",
       "               }\n",
       "           }\n",
       "       });\n",
       "       \n",
       "       observer.observe(containerDiv);\n",
       "   }\n",
       "   \n",
       "   // ----------\n",
       "   })();\n",
       "   \n",
       "   </script>"
      ],
      "text/plain": [
       "<lets_plot.plot.core.PlotSpec at 0x1aeff4e7af0>"
      ]
     },
     "execution_count": 5,
     "metadata": {},
     "output_type": "execute_result"
    }
   ],
   "source": [
    "p + geom_histogram(threshold=0, alpha=.5)"
   ]
  }
 ],
 "metadata": {
  "kernelspec": {
   "display_name": "Python 3 (ipykernel)",
   "language": "python",
   "name": "python3"
  },
  "language_info": {
   "codemirror_mode": {
    "name": "ipython",
    "version": 3
   },
   "file_extension": ".py",
   "mimetype": "text/x-python",
   "name": "python",
   "nbconvert_exporter": "python",
   "pygments_lexer": "ipython3",
   "version": "3.10.13"
  }
 },
 "nbformat": 4,
 "nbformat_minor": 5
}
