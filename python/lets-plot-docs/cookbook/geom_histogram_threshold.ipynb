{
 "cells": [
  {
   "cell_type": "markdown",
   "id": "2476ee0c-4cfe-4a75-934d-ba2edb2fd775",
   "metadata": {},
   "source": [
    "# Parameter `threshold` in `geom_histogram()`\n",
    "\n",
    "\n",
    "The `threshold` parameter controls how the `bin` statistic is computed. When `threshold=None` (the default), all bins are retained.\n",
    "\n",
    "When `threshold=0` or other numeric value, bins with counts less than or equal to that threshold are dropped.\n",
    "\n",
    "Dropping empty bins is particularly useful for faceted plots with free scales."
   ]
  },
  {
   "cell_type": "code",
   "execution_count": 1,
   "id": "1f9cf7f9-dc56-4310-be9f-d4ec2761e05b",
   "metadata": {
    "execution": {
     "iopub.execute_input": "2024-12-17T13:11:06.674891Z",
     "iopub.status.busy": "2024-12-17T13:11:06.674771Z",
     "iopub.status.idle": "2024-12-17T13:11:07.023781Z",
     "shell.execute_reply": "2024-12-17T13:11:07.023485Z"
    }
   },
   "outputs": [],
   "source": [
    "import pandas as pd\n",
    "\n",
    "from lets_plot import *"
   ]
  },
  {
   "cell_type": "code",
   "execution_count": 2,
   "id": "fdc9915d-7e91-4139-a6b7-862fe5c1028d",
   "metadata": {
    "execution": {
     "iopub.execute_input": "2024-12-17T13:11:07.025303Z",
     "iopub.status.busy": "2024-12-17T13:11:07.025189Z",
     "iopub.status.idle": "2024-12-17T13:11:07.027454Z",
     "shell.execute_reply": "2024-12-17T13:11:07.027265Z"
    }
   },
   "outputs": [
    {
     "data": {
      "text/html": [
       "\n",
       "            <div id=\"hJe8Jt\"></div>\n",
       "            <script type=\"text/javascript\" data-lets-plot-script=\"library\">\n",
       "                if(!window.letsPlotCallQueue) {\n",
       "                    window.letsPlotCallQueue = [];\n",
       "                }; \n",
       "                window.letsPlotCall = function(f) {\n",
       "                    window.letsPlotCallQueue.push(f);\n",
       "                };\n",
       "                (function() {\n",
       "                    var script = document.createElement(\"script\");\n",
       "                    script.type = \"text/javascript\";\n",
       "                    script.src = \"https://cdn.jsdelivr.net/gh/JetBrains/lets-plot@v4.5.2/js-package/distr/lets-plot.min.js\";\n",
       "                    script.onload = function() {\n",
       "                        window.letsPlotCall = function(f) {f();};\n",
       "                        window.letsPlotCallQueue.forEach(function(f) {f();});\n",
       "                        window.letsPlotCallQueue = [];\n",
       "                        \n",
       "                    };\n",
       "                    script.onerror = function(event) {\n",
       "                        window.letsPlotCall = function(f) {};    // noop\n",
       "                        window.letsPlotCallQueue = [];\n",
       "                        var div = document.createElement(\"div\");\n",
       "                        div.style.color = 'darkred';\n",
       "                        div.textContent = 'Error loading Lets-Plot JS';\n",
       "                        document.getElementById(\"hJe8Jt\").appendChild(div);\n",
       "                    };\n",
       "                    var e = document.getElementById(\"hJe8Jt\");\n",
       "                    e.appendChild(script);\n",
       "                })()\n",
       "            </script>\n",
       "            "
      ]
     },
     "metadata": {},
     "output_type": "display_data"
    }
   ],
   "source": [
    "LetsPlot.setup_html()"
   ]
  },
  {
   "cell_type": "code",
   "execution_count": 3,
   "id": "38decd07-e22d-4ee0-a924-9b16859b5303",
   "metadata": {
    "execution": {
     "iopub.execute_input": "2024-12-17T13:11:07.028543Z",
     "iopub.status.busy": "2024-12-17T13:11:07.028392Z",
     "iopub.status.idle": "2024-12-17T13:11:07.173030Z",
     "shell.execute_reply": "2024-12-17T13:11:07.172760Z"
    }
   },
   "outputs": [],
   "source": [
    "iris = pd.read_csv('https://raw.githubusercontent.com/JetBrains/lets-plot-docs/master/data/iris.csv')\n",
    "\n",
    "p = ggplot(iris, aes(x='petal_length', fill='species')) + facet_wrap(facets='species', scales='free_x')"
   ]
  },
  {
   "cell_type": "markdown",
   "id": "5eaca38f-a2c4-45c5-8057-56ecfb336bc9",
   "metadata": {},
   "source": [
    "#### 1. Default Faceted Histogram with Free X-axis\n",
    "\n",
    "Despite `scales='free_x'`, the x-axis still appears to be shared across the plot facets."
   ]
  },
  {
   "cell_type": "code",
   "execution_count": 4,
   "id": "ea3f1e11-3bf3-49ac-9712-e9dca7461350",
   "metadata": {
    "execution": {
     "iopub.execute_input": "2024-12-17T13:11:07.174178Z",
     "iopub.status.busy": "2024-12-17T13:11:07.174104Z",
     "iopub.status.idle": "2024-12-17T13:11:07.207229Z",
     "shell.execute_reply": "2024-12-17T13:11:07.207027Z"
    }
   },
   "outputs": [
    {
     "data": {
      "text/html": [
       "   <div id=\"jUlcEn\"></div>\n",
       "   <script type=\"text/javascript\" data-lets-plot-script=\"plot\">\n",
       "   \n",
       "   (function() {\n",
       "   // ----------\n",
       "   \n",
       "   var containerDiv = document.getElementById(\"jUlcEn\");\n",
       "   var observer = new ResizeObserver(function(entries) {\n",
       "       for (let entry of entries) {\n",
       "           var width = containerDiv.clientWidth\n",
       "           if (entry.contentBoxSize && width > 0) {\n",
       "           \n",
       "               // Render plot\n",
       "               if (observer) {\n",
       "                   observer.disconnect();\n",
       "                   observer = null;\n",
       "               }\n",
       "\n",
       "               var plotSpec={\n",
       "\"data\":{\n",
       "},\n",
       "\"mapping\":{\n",
       "\"x\":\"petal_length\",\n",
       "\"fill\":\"species\"\n",
       "},\n",
       "\"data_meta\":{\n",
       "\"series_annotations\":[{\n",
       "\"type\":\"float\",\n",
       "\"column\":\"sepal_length\"\n",
       "},{\n",
       "\"type\":\"float\",\n",
       "\"column\":\"sepal_width\"\n",
       "},{\n",
       "\"type\":\"float\",\n",
       "\"column\":\"petal_length\"\n",
       "},{\n",
       "\"type\":\"float\",\n",
       "\"column\":\"petal_width\"\n",
       "},{\n",
       "\"type\":\"str\",\n",
       "\"column\":\"species\"\n",
       "}]\n",
       "},\n",
       "\"facet\":{\n",
       "\"name\":\"wrap\",\n",
       "\"facets\":\"species\",\n",
       "\"scales\":\"free_x\",\n",
       "\"order\":1.0,\n",
       "\"dir\":\"h\"\n",
       "},\n",
       "\"kind\":\"plot\",\n",
       "\"scales\":[],\n",
       "\"layers\":[{\n",
       "\"geom\":\"histogram\",\n",
       "\"mapping\":{\n",
       "},\n",
       "\"data_meta\":{\n",
       "\"series_annotations\":[{\n",
       "\"column\":\"species\",\n",
       "\"factor_levels\":[\"setosa\",\"versicolor\",\"virginica\"]\n",
       "}]\n",
       "},\n",
       "\"alpha\":0.5,\n",
       "\"data\":{\n",
       "\"..count..\":[1.0,3.0,19.0,21.0,4.0,2.0,0.0,0.0,0.0,0.0,0.0,0.0,0.0,0.0,0.0,0.0,0.0,0.0,0.0,0.0,0.0,0.0,0.0,0.0,0.0,0.0,0.0,0.0,0.0,0.0,0.0,0.0,0.0,0.0,0.0,0.0,0.0,0.0,0.0,0.0,1.0,2.0,2.0,2.0,4.0,8.0,6.0,11.0,8.0,4.0,2.0,0.0,0.0,0.0,0.0,0.0,0.0,0.0,0.0,0.0,0.0,0.0,0.0,0.0,0.0,0.0,0.0,0.0,0.0,0.0,0.0,0.0,0.0,0.0,0.0,0.0,0.0,1.0,0.0,5.0,10.0,4.0,5.0,12.0,4.0,3.0,2.0,1.0,2.0,1.0],\n",
       "\"petal_length\":[0.9652555555555556,1.1711,1.3769444444444445,1.582788888888889,1.7886333333333333,1.994477777777778,2.2003222222222223,2.4061666666666666,2.6120111111111113,2.8178555555555556,3.0237000000000003,3.2295444444444446,3.435388888888889,3.6412333333333335,3.847077777777778,4.0529222222222225,4.258766666666666,4.464611111111111,4.670455555555556,4.8763,5.082144444444444,5.287988888888888,5.493833333333333,5.699677777777778,5.9055222222222215,6.111366666666666,6.317211111111111,6.523055555555556,6.728899999999999,6.934744444444444,0.9652555555555556,1.1711,1.3769444444444445,1.582788888888889,1.7886333333333333,1.994477777777778,2.2003222222222223,2.4061666666666666,2.6120111111111113,2.8178555555555556,3.0237000000000003,3.2295444444444446,3.435388888888889,3.6412333333333335,3.847077777777778,4.0529222222222225,4.258766666666666,4.464611111111111,4.670455555555556,4.8763,5.082144444444444,5.287988888888888,5.493833333333333,5.699677777777778,5.9055222222222215,6.111366666666666,6.317211111111111,6.523055555555556,6.728899999999999,6.934744444444444,0.9652555555555556,1.1711,1.3769444444444445,1.582788888888889,1.7886333333333333,1.994477777777778,2.2003222222222223,2.4061666666666666,2.6120111111111113,2.8178555555555556,3.0237000000000003,3.2295444444444446,3.435388888888889,3.6412333333333335,3.847077777777778,4.0529222222222225,4.258766666666666,4.464611111111111,4.670455555555556,4.8763,5.082144444444444,5.287988888888888,5.493833333333333,5.699677777777778,5.9055222222222215,6.111366666666666,6.317211111111111,6.523055555555556,6.728899999999999,6.934744444444444],\n",
       "\"species\":[\"setosa\",\"setosa\",\"setosa\",\"setosa\",\"setosa\",\"setosa\",\"setosa\",\"setosa\",\"setosa\",\"setosa\",\"setosa\",\"setosa\",\"setosa\",\"setosa\",\"setosa\",\"setosa\",\"setosa\",\"setosa\",\"setosa\",\"setosa\",\"setosa\",\"setosa\",\"setosa\",\"setosa\",\"setosa\",\"setosa\",\"setosa\",\"setosa\",\"setosa\",\"setosa\",\"versicolor\",\"versicolor\",\"versicolor\",\"versicolor\",\"versicolor\",\"versicolor\",\"versicolor\",\"versicolor\",\"versicolor\",\"versicolor\",\"versicolor\",\"versicolor\",\"versicolor\",\"versicolor\",\"versicolor\",\"versicolor\",\"versicolor\",\"versicolor\",\"versicolor\",\"versicolor\",\"versicolor\",\"versicolor\",\"versicolor\",\"versicolor\",\"versicolor\",\"versicolor\",\"versicolor\",\"versicolor\",\"versicolor\",\"versicolor\",\"virginica\",\"virginica\",\"virginica\",\"virginica\",\"virginica\",\"virginica\",\"virginica\",\"virginica\",\"virginica\",\"virginica\",\"virginica\",\"virginica\",\"virginica\",\"virginica\",\"virginica\",\"virginica\",\"virginica\",\"virginica\",\"virginica\",\"virginica\",\"virginica\",\"virginica\",\"virginica\",\"virginica\",\"virginica\",\"virginica\",\"virginica\",\"virginica\",\"virginica\",\"virginica\"]\n",
       "}\n",
       "}],\n",
       "\"metainfo_list\":[],\n",
       "\"spec_id\":\"1\"\n",
       "};\n",
       "               window.letsPlotCall(function() {\n",
       "       \n",
       "               var toolbar = null;\n",
       "               var plotContainer = containerDiv;               \n",
       "               \n",
       "                   var options = {\n",
       "                       sizing: {\n",
       "                           width_mode: \"min\",\n",
       "                           height_mode: \"scaled\",\n",
       "                           width: width\n",
       "                       }\n",
       "                   };\n",
       "                   var fig = LetsPlot.buildPlotFromProcessedSpecs(plotSpec, -1, -1, plotContainer, options);\n",
       "                   if (toolbar) {\n",
       "                     toolbar.bind(fig);\n",
       "                   }\n",
       "               });\n",
       "               \n",
       "               break;\n",
       "           }\n",
       "       }\n",
       "   });\n",
       "   \n",
       "   observer.observe(containerDiv);\n",
       "   \n",
       "   // ----------\n",
       "   })();\n",
       "   \n",
       "   </script>"
      ],
      "text/plain": [
       "<lets_plot.plot.core.PlotSpec at 0x72670c1416f0>"
      ]
     },
     "execution_count": 4,
     "metadata": {},
     "output_type": "execute_result"
    }
   ],
   "source": [
    "p + geom_histogram(alpha=.5)"
   ]
  },
  {
   "cell_type": "markdown",
   "id": "4f324322-6e3d-4de6-a93a-5871e7c665a2",
   "metadata": {},
   "source": [
    "#### 2. With a Threshold"
   ]
  },
  {
   "cell_type": "code",
   "execution_count": 5,
   "id": "5985d9ff-7a14-45ca-bc9c-6a1e2f83e75f",
   "metadata": {
    "execution": {
     "iopub.execute_input": "2024-12-17T13:11:07.208507Z",
     "iopub.status.busy": "2024-12-17T13:11:07.208386Z",
     "iopub.status.idle": "2024-12-17T13:11:07.212087Z",
     "shell.execute_reply": "2024-12-17T13:11:07.211909Z"
    }
   },
   "outputs": [
    {
     "data": {
      "text/html": [
       "   <div id=\"FklJDC\"></div>\n",
       "   <script type=\"text/javascript\" data-lets-plot-script=\"plot\">\n",
       "   \n",
       "   (function() {\n",
       "   // ----------\n",
       "   \n",
       "   var containerDiv = document.getElementById(\"FklJDC\");\n",
       "   var observer = new ResizeObserver(function(entries) {\n",
       "       for (let entry of entries) {\n",
       "           var width = containerDiv.clientWidth\n",
       "           if (entry.contentBoxSize && width > 0) {\n",
       "           \n",
       "               // Render plot\n",
       "               if (observer) {\n",
       "                   observer.disconnect();\n",
       "                   observer = null;\n",
       "               }\n",
       "\n",
       "               var plotSpec={\n",
       "\"data\":{\n",
       "},\n",
       "\"mapping\":{\n",
       "\"x\":\"petal_length\",\n",
       "\"fill\":\"species\"\n",
       "},\n",
       "\"data_meta\":{\n",
       "\"series_annotations\":[{\n",
       "\"type\":\"float\",\n",
       "\"column\":\"sepal_length\"\n",
       "},{\n",
       "\"type\":\"float\",\n",
       "\"column\":\"sepal_width\"\n",
       "},{\n",
       "\"type\":\"float\",\n",
       "\"column\":\"petal_length\"\n",
       "},{\n",
       "\"type\":\"float\",\n",
       "\"column\":\"petal_width\"\n",
       "},{\n",
       "\"type\":\"str\",\n",
       "\"column\":\"species\"\n",
       "}]\n",
       "},\n",
       "\"facet\":{\n",
       "\"name\":\"wrap\",\n",
       "\"facets\":\"species\",\n",
       "\"scales\":\"free_x\",\n",
       "\"order\":1.0,\n",
       "\"dir\":\"h\"\n",
       "},\n",
       "\"kind\":\"plot\",\n",
       "\"scales\":[],\n",
       "\"layers\":[{\n",
       "\"geom\":\"histogram\",\n",
       "\"mapping\":{\n",
       "},\n",
       "\"data_meta\":{\n",
       "\"series_annotations\":[{\n",
       "\"column\":\"species\",\n",
       "\"factor_levels\":[\"setosa\",\"versicolor\",\"virginica\"]\n",
       "}]\n",
       "},\n",
       "\"threshold\":0.0,\n",
       "\"alpha\":0.5,\n",
       "\"data\":{\n",
       "\"..count..\":[1.0,3.0,19.0,21.0,4.0,2.0,NaN,NaN,NaN,NaN,NaN,NaN,NaN,NaN,NaN,NaN,NaN,NaN,NaN,NaN,NaN,NaN,NaN,NaN,NaN,NaN,NaN,NaN,NaN,NaN,NaN,NaN,NaN,NaN,NaN,NaN,NaN,NaN,NaN,NaN,1.0,2.0,2.0,2.0,4.0,8.0,6.0,11.0,8.0,4.0,2.0,NaN,NaN,NaN,NaN,NaN,NaN,NaN,NaN,NaN,NaN,NaN,NaN,NaN,NaN,NaN,NaN,NaN,NaN,NaN,NaN,NaN,NaN,NaN,NaN,NaN,NaN,1.0,0.0,5.0,10.0,4.0,5.0,12.0,4.0,3.0,2.0,1.0,2.0,1.0],\n",
       "\"petal_length\":[0.9652555555555556,1.1711,1.3769444444444445,1.582788888888889,1.7886333333333333,1.994477777777778,NaN,NaN,NaN,NaN,NaN,NaN,NaN,NaN,NaN,NaN,NaN,NaN,NaN,NaN,NaN,NaN,NaN,NaN,NaN,NaN,NaN,NaN,NaN,NaN,NaN,NaN,NaN,NaN,NaN,NaN,NaN,NaN,NaN,NaN,3.0237000000000003,3.2295444444444446,3.435388888888889,3.6412333333333335,3.847077777777778,4.0529222222222225,4.258766666666666,4.464611111111111,4.670455555555556,4.8763,5.082144444444444,NaN,NaN,NaN,NaN,NaN,NaN,NaN,NaN,NaN,NaN,NaN,NaN,NaN,NaN,NaN,NaN,NaN,NaN,NaN,NaN,NaN,NaN,NaN,NaN,NaN,NaN,4.464611111111111,4.670455555555556,4.8763,5.082144444444444,5.287988888888888,5.493833333333333,5.699677777777778,5.9055222222222215,6.111366666666666,6.317211111111111,6.523055555555556,6.728899999999999,6.934744444444444],\n",
       "\"species\":[\"setosa\",\"setosa\",\"setosa\",\"setosa\",\"setosa\",\"setosa\",\"setosa\",\"setosa\",\"setosa\",\"setosa\",\"setosa\",\"setosa\",\"setosa\",\"setosa\",\"setosa\",\"setosa\",\"setosa\",\"setosa\",\"setosa\",\"setosa\",\"setosa\",\"setosa\",\"setosa\",\"setosa\",\"setosa\",\"setosa\",\"setosa\",\"setosa\",\"setosa\",\"setosa\",\"versicolor\",\"versicolor\",\"versicolor\",\"versicolor\",\"versicolor\",\"versicolor\",\"versicolor\",\"versicolor\",\"versicolor\",\"versicolor\",\"versicolor\",\"versicolor\",\"versicolor\",\"versicolor\",\"versicolor\",\"versicolor\",\"versicolor\",\"versicolor\",\"versicolor\",\"versicolor\",\"versicolor\",\"versicolor\",\"versicolor\",\"versicolor\",\"versicolor\",\"versicolor\",\"versicolor\",\"versicolor\",\"versicolor\",\"versicolor\",\"virginica\",\"virginica\",\"virginica\",\"virginica\",\"virginica\",\"virginica\",\"virginica\",\"virginica\",\"virginica\",\"virginica\",\"virginica\",\"virginica\",\"virginica\",\"virginica\",\"virginica\",\"virginica\",\"virginica\",\"virginica\",\"virginica\",\"virginica\",\"virginica\",\"virginica\",\"virginica\",\"virginica\",\"virginica\",\"virginica\",\"virginica\",\"virginica\",\"virginica\",\"virginica\"]\n",
       "}\n",
       "}],\n",
       "\"metainfo_list\":[],\n",
       "\"spec_id\":\"2\"\n",
       "};\n",
       "               window.letsPlotCall(function() {\n",
       "       \n",
       "               var toolbar = null;\n",
       "               var plotContainer = containerDiv;               \n",
       "               \n",
       "                   var options = {\n",
       "                       sizing: {\n",
       "                           width_mode: \"min\",\n",
       "                           height_mode: \"scaled\",\n",
       "                           width: width\n",
       "                       }\n",
       "                   };\n",
       "                   var fig = LetsPlot.buildPlotFromProcessedSpecs(plotSpec, -1, -1, plotContainer, options);\n",
       "                   if (toolbar) {\n",
       "                     toolbar.bind(fig);\n",
       "                   }\n",
       "               });\n",
       "               \n",
       "               break;\n",
       "           }\n",
       "       }\n",
       "   });\n",
       "   \n",
       "   observer.observe(containerDiv);\n",
       "   \n",
       "   // ----------\n",
       "   })();\n",
       "   \n",
       "   </script>"
      ],
      "text/plain": [
       "<lets_plot.plot.core.PlotSpec at 0x7266fbb7b2e0>"
      ]
     },
     "execution_count": 5,
     "metadata": {},
     "output_type": "execute_result"
    }
   ],
   "source": [
    "p + geom_histogram(threshold=0, alpha=.5)"
   ]
  }
 ],
 "metadata": {
  "kernelspec": {
   "display_name": "Python 3 (ipykernel)",
   "language": "python",
   "name": "python3"
  },
  "language_info": {
   "codemirror_mode": {
    "name": "ipython",
    "version": 3
   },
   "file_extension": ".py",
   "mimetype": "text/x-python",
   "name": "python",
   "nbconvert_exporter": "python",
   "pygments_lexer": "ipython3",
   "version": "3.10.13"
  }
 },
 "nbformat": 4,
 "nbformat_minor": 5
}
