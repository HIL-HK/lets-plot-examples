{
 "cells": [
  {
   "cell_type": "markdown",
   "id": "d68ae8ea",
   "metadata": {},
   "source": [
    "# `stat_ecdf()`"
   ]
  },
  {
   "cell_type": "code",
   "execution_count": 1,
   "id": "0e244220",
   "metadata": {
    "execution": {
     "iopub.execute_input": "2024-10-25T18:37:35.733611Z",
     "iopub.status.busy": "2024-10-25T18:37:35.733273Z",
     "iopub.status.idle": "2024-10-25T18:37:36.157146Z",
     "shell.execute_reply": "2024-10-25T18:37:36.156796Z"
    }
   },
   "outputs": [],
   "source": [
    "import pandas as pd\n",
    "\n",
    "from lets_plot import *"
   ]
  },
  {
   "cell_type": "code",
   "execution_count": 2,
   "id": "1fdee65a",
   "metadata": {
    "execution": {
     "iopub.execute_input": "2024-10-25T18:37:36.158469Z",
     "iopub.status.busy": "2024-10-25T18:37:36.158364Z",
     "iopub.status.idle": "2024-10-25T18:37:36.160642Z",
     "shell.execute_reply": "2024-10-25T18:37:36.160441Z"
    }
   },
   "outputs": [
    {
     "data": {
      "text/html": [
       "\n",
       "            <div id=\"ypy71C\"></div>\n",
       "            <script type=\"text/javascript\" data-lets-plot-script=\"library\">\n",
       "                if(!window.letsPlotCallQueue) {\n",
       "                    window.letsPlotCallQueue = [];\n",
       "                }; \n",
       "                window.letsPlotCall = function(f) {\n",
       "                    window.letsPlotCallQueue.push(f);\n",
       "                };\n",
       "                (function() {\n",
       "                    var script = document.createElement(\"script\");\n",
       "                    script.type = \"text/javascript\";\n",
       "                    script.src = \"https://cdn.jsdelivr.net/gh/JetBrains/lets-plot@v4.5.1/js-package/distr/lets-plot.min.js\";\n",
       "                    script.onload = function() {\n",
       "                        window.letsPlotCall = function(f) {f();};\n",
       "                        window.letsPlotCallQueue.forEach(function(f) {f();});\n",
       "                        window.letsPlotCallQueue = [];\n",
       "                        \n",
       "                    };\n",
       "                    script.onerror = function(event) {\n",
       "                        window.letsPlotCall = function(f) {};    // noop\n",
       "                        window.letsPlotCallQueue = [];\n",
       "                        var div = document.createElement(\"div\");\n",
       "                        div.style.color = 'darkred';\n",
       "                        div.textContent = 'Error loading Lets-Plot JS';\n",
       "                        document.getElementById(\"ypy71C\").appendChild(div);\n",
       "                    };\n",
       "                    var e = document.getElementById(\"ypy71C\");\n",
       "                    e.appendChild(script);\n",
       "                })()\n",
       "            </script>\n",
       "            "
      ]
     },
     "metadata": {},
     "output_type": "display_data"
    }
   ],
   "source": [
    "LetsPlot.setup_html()"
   ]
  },
  {
   "cell_type": "code",
   "execution_count": 3,
   "id": "05f4c546",
   "metadata": {
    "execution": {
     "iopub.execute_input": "2024-10-25T18:37:36.161696Z",
     "iopub.status.busy": "2024-10-25T18:37:36.161621Z",
     "iopub.status.idle": "2024-10-25T18:37:36.439364Z",
     "shell.execute_reply": "2024-10-25T18:37:36.438850Z"
    }
   },
   "outputs": [
    {
     "name": "stdout",
     "output_type": "stream",
     "text": [
      "(150, 5)\n"
     ]
    },
    {
     "data": {
      "text/html": [
       "<div>\n",
       "<style scoped>\n",
       "    .dataframe tbody tr th:only-of-type {\n",
       "        vertical-align: middle;\n",
       "    }\n",
       "\n",
       "    .dataframe tbody tr th {\n",
       "        vertical-align: top;\n",
       "    }\n",
       "\n",
       "    .dataframe thead th {\n",
       "        text-align: right;\n",
       "    }\n",
       "</style>\n",
       "<table border=\"1\" class=\"dataframe\">\n",
       "  <thead>\n",
       "    <tr style=\"text-align: right;\">\n",
       "      <th></th>\n",
       "      <th>sepal_length</th>\n",
       "      <th>sepal_width</th>\n",
       "      <th>petal_length</th>\n",
       "      <th>petal_width</th>\n",
       "      <th>species</th>\n",
       "    </tr>\n",
       "  </thead>\n",
       "  <tbody>\n",
       "    <tr>\n",
       "      <th>0</th>\n",
       "      <td>5.1</td>\n",
       "      <td>3.5</td>\n",
       "      <td>1.4</td>\n",
       "      <td>0.2</td>\n",
       "      <td>setosa</td>\n",
       "    </tr>\n",
       "    <tr>\n",
       "      <th>1</th>\n",
       "      <td>4.9</td>\n",
       "      <td>3.0</td>\n",
       "      <td>1.4</td>\n",
       "      <td>0.2</td>\n",
       "      <td>setosa</td>\n",
       "    </tr>\n",
       "    <tr>\n",
       "      <th>2</th>\n",
       "      <td>4.7</td>\n",
       "      <td>3.2</td>\n",
       "      <td>1.3</td>\n",
       "      <td>0.2</td>\n",
       "      <td>setosa</td>\n",
       "    </tr>\n",
       "    <tr>\n",
       "      <th>3</th>\n",
       "      <td>4.6</td>\n",
       "      <td>3.1</td>\n",
       "      <td>1.5</td>\n",
       "      <td>0.2</td>\n",
       "      <td>setosa</td>\n",
       "    </tr>\n",
       "    <tr>\n",
       "      <th>4</th>\n",
       "      <td>5.0</td>\n",
       "      <td>3.6</td>\n",
       "      <td>1.4</td>\n",
       "      <td>0.2</td>\n",
       "      <td>setosa</td>\n",
       "    </tr>\n",
       "  </tbody>\n",
       "</table>\n",
       "</div>"
      ],
      "text/plain": [
       "   sepal_length  sepal_width  petal_length  petal_width species\n",
       "0           5.1          3.5           1.4          0.2  setosa\n",
       "1           4.9          3.0           1.4          0.2  setosa\n",
       "2           4.7          3.2           1.3          0.2  setosa\n",
       "3           4.6          3.1           1.5          0.2  setosa\n",
       "4           5.0          3.6           1.4          0.2  setosa"
      ]
     },
     "execution_count": 3,
     "metadata": {},
     "output_type": "execute_result"
    }
   ],
   "source": [
    "df = pd.read_csv(\"https://raw.githubusercontent.com/JetBrains/lets-plot-docs/master/data/iris.csv\")\n",
    "print(df.shape)\n",
    "df.head()"
   ]
  },
  {
   "cell_type": "code",
   "execution_count": 4,
   "id": "8439b1fe",
   "metadata": {
    "execution": {
     "iopub.execute_input": "2024-10-25T18:37:36.441453Z",
     "iopub.status.busy": "2024-10-25T18:37:36.441251Z",
     "iopub.status.idle": "2024-10-25T18:37:36.485016Z",
     "shell.execute_reply": "2024-10-25T18:37:36.484751Z"
    }
   },
   "outputs": [
    {
     "data": {
      "text/html": [
       "   <div id=\"6h8uoH\"></div>\n",
       "   <script type=\"text/javascript\" data-lets-plot-script=\"plot\">\n",
       "   \n",
       "   (function() {\n",
       "   // ----------\n",
       "   \n",
       "   var containerDiv = document.getElementById(\"6h8uoH\");\n",
       "   var observer = new ResizeObserver(function(entries) {\n",
       "       for (let entry of entries) {\n",
       "           var width = containerDiv.clientWidth\n",
       "           if (entry.contentBoxSize && width > 0) {\n",
       "           \n",
       "               // Render plot\n",
       "               if (observer) {\n",
       "                   observer.disconnect();\n",
       "                   observer = null;\n",
       "               }\n",
       "\n",
       "               var plotSpec={\n",
       "\"data\":{\n",
       "},\n",
       "\"mapping\":{\n",
       "\"x\":\"sepal_length\"\n",
       "},\n",
       "\"data_meta\":{\n",
       "\"series_annotations\":[{\n",
       "\"type\":\"float\",\n",
       "\"column\":\"sepal_length\"\n",
       "},{\n",
       "\"type\":\"float\",\n",
       "\"column\":\"sepal_width\"\n",
       "},{\n",
       "\"type\":\"float\",\n",
       "\"column\":\"petal_length\"\n",
       "},{\n",
       "\"type\":\"float\",\n",
       "\"column\":\"petal_width\"\n",
       "},{\n",
       "\"type\":\"str\",\n",
       "\"column\":\"species\"\n",
       "}]\n",
       "},\n",
       "\"kind\":\"plot\",\n",
       "\"scales\":[],\n",
       "\"layers\":[{\n",
       "\"geom\":\"step\",\n",
       "\"stat\":\"ecdf\",\n",
       "\"mapping\":{\n",
       "},\n",
       "\"data_meta\":{\n",
       "},\n",
       "\"pad\":true,\n",
       "\"data\":{\n",
       "\"..y..\":[0.2733333333333333,0.14666666666666667,0.07333333333333333,0.06,0.21333333333333335,0.3466666666666667,0.02666666666666667,0.10666666666666667,0.006666666666666667,0.5333333333333333,0.4866666666666667,0.3,0.3933333333333333,0.03333333333333333,0.30666666666666664,0.92,0.7666666666666667,0.9133333333333333,0.8,0.72,0.8133333333333334,0.5533333333333333,0.5933333333333334,0.6333333333333333,0.43333333333333335,0.8666666666666667,0.66,0.8866666666666667,0.9266666666666666,0.9666666666666667,0.9533333333333334,0.9466666666666667,0.9933333333333333,0.96,1.0,0.0,1.0],\n",
       "\"sepal_length\":[5.1,4.9,4.7,4.6,5.0,5.4,4.4,4.8,4.3,5.8,5.7,5.2,5.5,4.5,5.3,7.0,6.4,6.9,6.5,6.3,6.6,5.9,6.0,6.1,5.6,6.7,6.2,6.8,7.1,7.6,7.3,7.2,7.7,7.4,7.9,-Infinity,Infinity]\n",
       "}\n",
       "}],\n",
       "\"metainfo_list\":[],\n",
       "\"spec_id\":\"1\"\n",
       "};\n",
       "               window.letsPlotCall(function() {\n",
       "       \n",
       "               var toolbar = null;\n",
       "               var plotContainer = containerDiv;               \n",
       "               \n",
       "                   var options = {\n",
       "                       sizing: {\n",
       "                           width_mode: \"min\",\n",
       "                           height_mode: \"scaled\",\n",
       "                           width: width\n",
       "                       }\n",
       "                   };\n",
       "                   var fig = LetsPlot.buildPlotFromProcessedSpecs(plotSpec, -1, -1, plotContainer, options);\n",
       "                   if (toolbar) {\n",
       "                     toolbar.bind(fig);\n",
       "                   }\n",
       "               });\n",
       "               \n",
       "               break;\n",
       "           }\n",
       "       }\n",
       "   });\n",
       "   \n",
       "   observer.observe(containerDiv);\n",
       "   \n",
       "   // ----------\n",
       "   })();\n",
       "   \n",
       "   </script>"
      ],
      "text/plain": [
       "<lets_plot.plot.core.PlotSpec at 0x14168ace0>"
      ]
     },
     "execution_count": 4,
     "metadata": {},
     "output_type": "execute_result"
    }
   ],
   "source": [
    "ggplot(df, aes(x=\"sepal_length\")) + stat_ecdf()"
   ]
  },
  {
   "cell_type": "markdown",
   "id": "6c903b93",
   "metadata": {},
   "source": [
    "### Use Different Geometry"
   ]
  },
  {
   "cell_type": "code",
   "execution_count": 5,
   "id": "e8d47558",
   "metadata": {
    "execution": {
     "iopub.execute_input": "2024-10-25T18:37:36.486283Z",
     "iopub.status.busy": "2024-10-25T18:37:36.486201Z",
     "iopub.status.idle": "2024-10-25T18:37:36.489801Z",
     "shell.execute_reply": "2024-10-25T18:37:36.489579Z"
    }
   },
   "outputs": [
    {
     "data": {
      "text/html": [
       "   <div id=\"u1gpdV\"></div>\n",
       "   <script type=\"text/javascript\" data-lets-plot-script=\"plot\">\n",
       "   \n",
       "   (function() {\n",
       "   // ----------\n",
       "   \n",
       "   var containerDiv = document.getElementById(\"u1gpdV\");\n",
       "   var observer = new ResizeObserver(function(entries) {\n",
       "       for (let entry of entries) {\n",
       "           var width = containerDiv.clientWidth\n",
       "           if (entry.contentBoxSize && width > 0) {\n",
       "           \n",
       "               // Render plot\n",
       "               if (observer) {\n",
       "                   observer.disconnect();\n",
       "                   observer = null;\n",
       "               }\n",
       "\n",
       "               var plotSpec={\n",
       "\"data\":{\n",
       "},\n",
       "\"mapping\":{\n",
       "\"x\":\"sepal_length\"\n",
       "},\n",
       "\"data_meta\":{\n",
       "\"series_annotations\":[{\n",
       "\"type\":\"float\",\n",
       "\"column\":\"sepal_length\"\n",
       "},{\n",
       "\"type\":\"float\",\n",
       "\"column\":\"sepal_width\"\n",
       "},{\n",
       "\"type\":\"float\",\n",
       "\"column\":\"petal_length\"\n",
       "},{\n",
       "\"type\":\"float\",\n",
       "\"column\":\"petal_width\"\n",
       "},{\n",
       "\"type\":\"str\",\n",
       "\"column\":\"species\"\n",
       "}]\n",
       "},\n",
       "\"kind\":\"plot\",\n",
       "\"scales\":[],\n",
       "\"layers\":[{\n",
       "\"geom\":\"point\",\n",
       "\"stat\":\"ecdf\",\n",
       "\"mapping\":{\n",
       "},\n",
       "\"data_meta\":{\n",
       "},\n",
       "\"n\":15.0,\n",
       "\"pad\":true,\n",
       "\"data\":{\n",
       "\"..y..\":[0.006666666666666667,0.03333333333333333,0.10666666666666667,0.21333333333333335,0.30666666666666664,0.3933333333333333,0.5333333333333333,0.6333333333333333,0.72,0.8133333333333334,0.8866666666666667,0.9266666666666666,0.9533333333333334,0.9666666666666667,1.0,0.0,1.0],\n",
       "\"sepal_length\":[4.3,4.557142857142857,4.814285714285714,5.071428571428571,5.328571428571428,5.585714285714285,5.842857142857143,6.1,6.357142857142858,6.614285714285714,6.871428571428572,7.128571428571428,7.385714285714286,7.642857142857143,7.9,-Infinity,Infinity]\n",
       "}\n",
       "}],\n",
       "\"metainfo_list\":[],\n",
       "\"spec_id\":\"2\"\n",
       "};\n",
       "               window.letsPlotCall(function() {\n",
       "       \n",
       "               var toolbar = null;\n",
       "               var plotContainer = containerDiv;               \n",
       "               \n",
       "                   var options = {\n",
       "                       sizing: {\n",
       "                           width_mode: \"min\",\n",
       "                           height_mode: \"scaled\",\n",
       "                           width: width\n",
       "                       }\n",
       "                   };\n",
       "                   var fig = LetsPlot.buildPlotFromProcessedSpecs(plotSpec, -1, -1, plotContainer, options);\n",
       "                   if (toolbar) {\n",
       "                     toolbar.bind(fig);\n",
       "                   }\n",
       "               });\n",
       "               \n",
       "               break;\n",
       "           }\n",
       "       }\n",
       "   });\n",
       "   \n",
       "   observer.observe(containerDiv);\n",
       "   \n",
       "   // ----------\n",
       "   })();\n",
       "   \n",
       "   </script>"
      ],
      "text/plain": [
       "<lets_plot.plot.core.PlotSpec at 0x1418781f0>"
      ]
     },
     "execution_count": 5,
     "metadata": {},
     "output_type": "execute_result"
    }
   ],
   "source": [
    "ggplot(df, aes(x=\"sepal_length\")) + stat_ecdf(geom=\"point\", n=15)"
   ]
  },
  {
   "cell_type": "markdown",
   "id": "a6c3389a",
   "metadata": {},
   "source": [
    "### Additional Grouping"
   ]
  },
  {
   "cell_type": "code",
   "execution_count": 6,
   "id": "f6ab468c",
   "metadata": {
    "execution": {
     "iopub.execute_input": "2024-10-25T18:37:36.490961Z",
     "iopub.status.busy": "2024-10-25T18:37:36.490883Z",
     "iopub.status.idle": "2024-10-25T18:37:36.494407Z",
     "shell.execute_reply": "2024-10-25T18:37:36.494110Z"
    }
   },
   "outputs": [
    {
     "data": {
      "text/html": [
       "   <div id=\"EDMI5Q\"></div>\n",
       "   <script type=\"text/javascript\" data-lets-plot-script=\"plot\">\n",
       "   \n",
       "   (function() {\n",
       "   // ----------\n",
       "   \n",
       "   var containerDiv = document.getElementById(\"EDMI5Q\");\n",
       "   var observer = new ResizeObserver(function(entries) {\n",
       "       for (let entry of entries) {\n",
       "           var width = containerDiv.clientWidth\n",
       "           if (entry.contentBoxSize && width > 0) {\n",
       "           \n",
       "               // Render plot\n",
       "               if (observer) {\n",
       "                   observer.disconnect();\n",
       "                   observer = null;\n",
       "               }\n",
       "\n",
       "               var plotSpec={\n",
       "\"data\":{\n",
       "},\n",
       "\"mapping\":{\n",
       "\"x\":\"sepal_length\",\n",
       "\"color\":\"species\"\n",
       "},\n",
       "\"data_meta\":{\n",
       "\"series_annotations\":[{\n",
       "\"type\":\"float\",\n",
       "\"column\":\"sepal_length\"\n",
       "},{\n",
       "\"type\":\"float\",\n",
       "\"column\":\"sepal_width\"\n",
       "},{\n",
       "\"type\":\"float\",\n",
       "\"column\":\"petal_length\"\n",
       "},{\n",
       "\"type\":\"float\",\n",
       "\"column\":\"petal_width\"\n",
       "},{\n",
       "\"type\":\"str\",\n",
       "\"column\":\"species\"\n",
       "}]\n",
       "},\n",
       "\"kind\":\"plot\",\n",
       "\"scales\":[],\n",
       "\"layers\":[{\n",
       "\"geom\":\"step\",\n",
       "\"stat\":\"ecdf\",\n",
       "\"mapping\":{\n",
       "},\n",
       "\"data_meta\":{\n",
       "},\n",
       "\"pad\":true,\n",
       "\"data\":{\n",
       "\"..y..\":[0.72,0.4,0.22,0.18,0.56,0.9,0.08,0.32,0.02,1.0,0.98,0.78,0.94,0.1,0.8,0.0,1.0,1.0,0.82,0.98,0.22,0.84,0.42,0.78,0.02,0.88,0.1,0.06,0.52,0.6,0.68,0.32,0.94,0.48,0.72,0.96,0.12,0.08,0.0,1.0,0.38,0.12,0.78,0.56,0.9,0.02,0.86,0.66,0.84,0.48,0.7,0.06,0.98,0.18,0.76,0.04,0.26,0.22,0.88,1.0,0.14,0.0,1.0],\n",
       "\"sepal_length\":[5.1,4.9,4.7,4.6,5.0,5.4,4.4,4.8,4.3,5.8,5.7,5.2,5.5,4.5,5.3,-Infinity,Infinity,7.0,6.4,6.9,5.5,6.5,5.7,6.3,4.9,6.6,5.2,5.0,5.9,6.0,6.1,5.6,6.7,5.8,6.2,6.8,5.4,5.1,-Infinity,Infinity,6.3,5.8,7.1,6.5,7.6,4.9,7.3,6.7,7.2,6.4,6.8,5.7,7.7,6.0,6.9,5.6,6.2,6.1,7.4,7.9,5.9,-Infinity,Infinity],\n",
       "\"species\":[\"setosa\",\"setosa\",\"setosa\",\"setosa\",\"setosa\",\"setosa\",\"setosa\",\"setosa\",\"setosa\",\"setosa\",\"setosa\",\"setosa\",\"setosa\",\"setosa\",\"setosa\",\"setosa\",\"setosa\",\"versicolor\",\"versicolor\",\"versicolor\",\"versicolor\",\"versicolor\",\"versicolor\",\"versicolor\",\"versicolor\",\"versicolor\",\"versicolor\",\"versicolor\",\"versicolor\",\"versicolor\",\"versicolor\",\"versicolor\",\"versicolor\",\"versicolor\",\"versicolor\",\"versicolor\",\"versicolor\",\"versicolor\",\"versicolor\",\"versicolor\",\"virginica\",\"virginica\",\"virginica\",\"virginica\",\"virginica\",\"virginica\",\"virginica\",\"virginica\",\"virginica\",\"virginica\",\"virginica\",\"virginica\",\"virginica\",\"virginica\",\"virginica\",\"virginica\",\"virginica\",\"virginica\",\"virginica\",\"virginica\",\"virginica\",\"virginica\",\"virginica\"]\n",
       "}\n",
       "}],\n",
       "\"metainfo_list\":[],\n",
       "\"spec_id\":\"3\"\n",
       "};\n",
       "               window.letsPlotCall(function() {\n",
       "       \n",
       "               var toolbar = null;\n",
       "               var plotContainer = containerDiv;               \n",
       "               \n",
       "                   var options = {\n",
       "                       sizing: {\n",
       "                           width_mode: \"min\",\n",
       "                           height_mode: \"scaled\",\n",
       "                           width: width\n",
       "                       }\n",
       "                   };\n",
       "                   var fig = LetsPlot.buildPlotFromProcessedSpecs(plotSpec, -1, -1, plotContainer, options);\n",
       "                   if (toolbar) {\n",
       "                     toolbar.bind(fig);\n",
       "                   }\n",
       "               });\n",
       "               \n",
       "               break;\n",
       "           }\n",
       "       }\n",
       "   });\n",
       "   \n",
       "   observer.observe(containerDiv);\n",
       "   \n",
       "   // ----------\n",
       "   })();\n",
       "   \n",
       "   </script>"
      ],
      "text/plain": [
       "<lets_plot.plot.core.PlotSpec at 0x141878190>"
      ]
     },
     "execution_count": 6,
     "metadata": {},
     "output_type": "execute_result"
    }
   ],
   "source": [
    "ggplot(df, aes(x=\"sepal_length\", color=\"species\")) + stat_ecdf()"
   ]
  }
 ],
 "metadata": {
  "kernelspec": {
   "display_name": "Python 3 (ipykernel)",
   "language": "python",
   "name": "python3"
  },
  "language_info": {
   "codemirror_mode": {
    "name": "ipython",
    "version": 3
   },
   "file_extension": ".py",
   "mimetype": "text/x-python",
   "name": "python",
   "nbconvert_exporter": "python",
   "pygments_lexer": "ipython3",
   "version": "3.10.15"
  }
 },
 "nbformat": 4,
 "nbformat_minor": 5
}
