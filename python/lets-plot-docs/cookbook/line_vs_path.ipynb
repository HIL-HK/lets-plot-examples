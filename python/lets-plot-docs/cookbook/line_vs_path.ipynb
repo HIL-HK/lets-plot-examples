{
 "cells": [
  {
   "cell_type": "code",
   "execution_count": 1,
   "metadata": {
    "execution": {
     "iopub.execute_input": "2024-09-27T18:10:23.500294Z",
     "iopub.status.busy": "2024-09-27T18:10:23.500028Z",
     "iopub.status.idle": "2024-09-27T18:10:23.916373Z",
     "shell.execute_reply": "2024-09-27T18:10:23.916113Z"
    }
   },
   "outputs": [
    {
     "data": {
      "text/html": [
       "\n",
       "            <div id=\"EKYnN1\"></div>\n",
       "            <script type=\"text/javascript\" data-lets-plot-script=\"library\">\n",
       "                if(!window.letsPlotCallQueue) {\n",
       "                    window.letsPlotCallQueue = [];\n",
       "                }; \n",
       "                window.letsPlotCall = function(f) {\n",
       "                    window.letsPlotCallQueue.push(f);\n",
       "                };\n",
       "                (function() {\n",
       "                    var script = document.createElement(\"script\");\n",
       "                    script.type = \"text/javascript\";\n",
       "                    script.src = \"https://cdn.jsdelivr.net/gh/JetBrains/lets-plot@v4.4.1/js-package/distr/lets-plot.min.js\";\n",
       "                    script.onload = function() {\n",
       "                        window.letsPlotCall = function(f) {f();};\n",
       "                        window.letsPlotCallQueue.forEach(function(f) {f();});\n",
       "                        window.letsPlotCallQueue = [];\n",
       "                        \n",
       "                    };\n",
       "                    script.onerror = function(event) {\n",
       "                        window.letsPlotCall = function(f) {};    // noop\n",
       "                        window.letsPlotCallQueue = [];\n",
       "                        var div = document.createElement(\"div\");\n",
       "                        div.style.color = 'darkred';\n",
       "                        div.textContent = 'Error loading Lets-Plot JS';\n",
       "                        document.getElementById(\"EKYnN1\").appendChild(div);\n",
       "                    };\n",
       "                    var e = document.getElementById(\"EKYnN1\");\n",
       "                    e.appendChild(script);\n",
       "                })()\n",
       "            </script>\n",
       "            "
      ]
     },
     "metadata": {},
     "output_type": "display_data"
    }
   ],
   "source": [
    "import numpy as np\n",
    "import pandas as pd\n",
    "\n",
    "from lets_plot import *\n",
    "LetsPlot.setup_html()"
   ]
  },
  {
   "cell_type": "code",
   "execution_count": 2,
   "metadata": {
    "execution": {
     "iopub.execute_input": "2024-09-27T18:10:23.932461Z",
     "iopub.status.busy": "2024-09-27T18:10:23.932313Z",
     "iopub.status.idle": "2024-09-27T18:10:23.937369Z",
     "shell.execute_reply": "2024-09-27T18:10:23.937144Z"
    }
   },
   "outputs": [
    {
     "data": {
      "text/html": [
       "<div>\n",
       "<style scoped>\n",
       "    .dataframe tbody tr th:only-of-type {\n",
       "        vertical-align: middle;\n",
       "    }\n",
       "\n",
       "    .dataframe tbody tr th {\n",
       "        vertical-align: top;\n",
       "    }\n",
       "\n",
       "    .dataframe thead th {\n",
       "        text-align: right;\n",
       "    }\n",
       "</style>\n",
       "<table border=\"1\" class=\"dataframe\">\n",
       "  <thead>\n",
       "    <tr style=\"text-align: right;\">\n",
       "      <th></th>\n",
       "      <th>x</th>\n",
       "      <th>y</th>\n",
       "    </tr>\n",
       "  </thead>\n",
       "  <tbody>\n",
       "    <tr>\n",
       "      <th>0</th>\n",
       "      <td>19.352466</td>\n",
       "      <td>0.481977</td>\n",
       "    </tr>\n",
       "    <tr>\n",
       "      <th>1</th>\n",
       "      <td>47.585001</td>\n",
       "      <td>-0.444944</td>\n",
       "    </tr>\n",
       "    <tr>\n",
       "      <th>2</th>\n",
       "      <td>36.867703</td>\n",
       "      <td>-0.738881</td>\n",
       "    </tr>\n",
       "    <tr>\n",
       "      <th>3</th>\n",
       "      <td>30.334266</td>\n",
       "      <td>-0.882739</td>\n",
       "    </tr>\n",
       "    <tr>\n",
       "      <th>4</th>\n",
       "      <td>8.644913</td>\n",
       "      <td>0.703183</td>\n",
       "    </tr>\n",
       "  </tbody>\n",
       "</table>\n",
       "</div>"
      ],
      "text/plain": [
       "           x         y\n",
       "0  19.352466  0.481977\n",
       "1  47.585001 -0.444944\n",
       "2  36.867703 -0.738881\n",
       "3  30.334266 -0.882739\n",
       "4   8.644913  0.703183"
      ]
     },
     "execution_count": 2,
     "metadata": {},
     "output_type": "execute_result"
    }
   ],
   "source": [
    "np.random.seed(42)\n",
    "\n",
    "x = np.random.uniform(1, 50, size=40)\n",
    "\n",
    "data = pd.DataFrame({'x': x, 'y': np.sin(x)})\n",
    "data.head()"
   ]
  },
  {
   "cell_type": "markdown",
   "metadata": {},
   "source": [
    "**geom_line()** connects points in order of the variable on the x-axis."
   ]
  },
  {
   "cell_type": "code",
   "execution_count": 3,
   "metadata": {
    "execution": {
     "iopub.execute_input": "2024-09-27T18:10:23.938441Z",
     "iopub.status.busy": "2024-09-27T18:10:23.938363Z",
     "iopub.status.idle": "2024-09-27T18:10:23.966485Z",
     "shell.execute_reply": "2024-09-27T18:10:23.966280Z"
    }
   },
   "outputs": [
    {
     "data": {
      "text/html": [
       "   <div id=\"zcG0bZ\"></div>\n",
       "   <script type=\"text/javascript\" data-lets-plot-script=\"plot\">\n",
       "       (function() {\n",
       "           var plotSpec={\n",
       "\"data\":{\n",
       "\"x\":[19.352465823520763,47.58500101408589,36.86770314875885,30.334265725654795,8.64491338167939,8.64373149647393,3.8460969962417737,43.44263114297183,30.45463557541723,35.69555631200623,2.00864022049432,48.52558275593772,41.78968939922066,11.404616423235531,9.90942339314793,9.986820982818257,15.907869905017348,26.713065149979656,22.165305913463673,15.270227869704053,30.980791841396595,7.83519917195005,15.31508777822569,18.951730321390894,23.34742922663476,39.473622108257665,10.784015325759627,26.19748748226697,30.02831387424008,3.2760702232798886,30.76969774317048,9.355682060677285,4.187528056278696,47.49539132541333,48.315969620653405,40.6114700577066,15.926074689495163,5.78593358631281,34.527418299095686,22.567472193240462],\n",
       "\"y\":[0.48197718446300475,-0.44494353537961756,-0.7388813322619059,-0.8827393771524767,0.7031831401937904,0.7040229796230885,-0.6476562515858519,-0.5138494945312841,-0.819931277108634,-0.9078120593630401,0.9056679302712952,-0.9857360638890678,-0.8128246207909889,-0.9175022156835879,-0.465894653057347,-0.5329160490205209,-0.19857782804044166,0.9999546128151787,-0.173278284571839,0.42388947241482056,-0.421532547951662,0.9998236147456873,0.3828464061729844,0.10199671584497126,-0.9770796090495609,0.9793219746966773,-0.9777047453498247,0.8746659587629374,-0.9832687375598406,-0.13407261577425367,-0.60217991236487,0.06904093310741671,-0.8653936399008361,-0.3630149334122955,-0.9291399432472295,0.22723205574376953,-0.2163861760977563,-0.47701188923923754,0.030096345044432628,-0.5449450841004989]\n",
       "},\n",
       "\"mapping\":{\n",
       "},\n",
       "\"data_meta\":{\n",
       "\"series_annotations\":[{\n",
       "\"type\":\"float\",\n",
       "\"column\":\"x\"\n",
       "},{\n",
       "\"type\":\"float\",\n",
       "\"column\":\"y\"\n",
       "}]\n",
       "},\n",
       "\"theme\":{\n",
       "\"legend_position\":\"none\"\n",
       "},\n",
       "\"kind\":\"plot\",\n",
       "\"scales\":[{\n",
       "\"aesthetic\":\"color\",\n",
       "\"discrete\":true\n",
       "}],\n",
       "\"layers\":[{\n",
       "\"geom\":\"point\",\n",
       "\"mapping\":{\n",
       "\"x\":\"x\",\n",
       "\"y\":\"y\",\n",
       "\"color\":\"x\"\n",
       "},\n",
       "\"data_meta\":{\n",
       "},\n",
       "\"alpha\":0.7,\n",
       "\"size\":4.0,\n",
       "\"data\":{\n",
       "}\n",
       "},{\n",
       "\"geom\":\"line\",\n",
       "\"mapping\":{\n",
       "\"x\":\"x\",\n",
       "\"y\":\"y\"\n",
       "},\n",
       "\"data_meta\":{\n",
       "},\n",
       "\"linetype\":3.0,\n",
       "\"data\":{\n",
       "}\n",
       "}],\n",
       "\"metainfo_list\":[]\n",
       "};\n",
       "           var plotContainer = document.getElementById(\"zcG0bZ\");\n",
       "           window.letsPlotCall(function() {{\n",
       "               LetsPlot.buildPlotFromProcessedSpecs(plotSpec, -1, -1, plotContainer);\n",
       "           }});\n",
       "       })();\n",
       "   </script>"
      ],
      "text/plain": [
       "<lets_plot.plot.core.PlotSpec at 0x1053f12d0>"
      ]
     },
     "execution_count": 3,
     "metadata": {},
     "output_type": "execute_result"
    }
   ],
   "source": [
    "ggplot(data) + geom_point(aes(x='x', y='y', color='x'), alpha=0.7, size=4) + \\\n",
    "    scale_color_discrete() + \\\n",
    "    theme(legend_position='none') + \\\n",
    "    geom_line(aes(x='x', y='y'), linetype=3)"
   ]
  },
  {
   "cell_type": "markdown",
   "metadata": {},
   "source": [
    "**geom_path()** connects observations in the order how they appear in data."
   ]
  },
  {
   "cell_type": "code",
   "execution_count": 4,
   "metadata": {
    "execution": {
     "iopub.execute_input": "2024-09-27T18:10:23.967572Z",
     "iopub.status.busy": "2024-09-27T18:10:23.967497Z",
     "iopub.status.idle": "2024-09-27T18:10:23.970351Z",
     "shell.execute_reply": "2024-09-27T18:10:23.970151Z"
    }
   },
   "outputs": [
    {
     "data": {
      "text/html": [
       "   <div id=\"lzxEA6\"></div>\n",
       "   <script type=\"text/javascript\" data-lets-plot-script=\"plot\">\n",
       "       (function() {\n",
       "           var plotSpec={\n",
       "\"data\":{\n",
       "\"x\":[19.352465823520763,47.58500101408589,36.86770314875885,30.334265725654795,8.64491338167939,8.64373149647393,3.8460969962417737,43.44263114297183,30.45463557541723,35.69555631200623,2.00864022049432,48.52558275593772,41.78968939922066,11.404616423235531,9.90942339314793,9.986820982818257,15.907869905017348,26.713065149979656,22.165305913463673,15.270227869704053,30.980791841396595,7.83519917195005,15.31508777822569,18.951730321390894,23.34742922663476,39.473622108257665,10.784015325759627,26.19748748226697,30.02831387424008,3.2760702232798886,30.76969774317048,9.355682060677285,4.187528056278696,47.49539132541333,48.315969620653405,40.6114700577066,15.926074689495163,5.78593358631281,34.527418299095686,22.567472193240462],\n",
       "\"y\":[0.48197718446300475,-0.44494353537961756,-0.7388813322619059,-0.8827393771524767,0.7031831401937904,0.7040229796230885,-0.6476562515858519,-0.5138494945312841,-0.819931277108634,-0.9078120593630401,0.9056679302712952,-0.9857360638890678,-0.8128246207909889,-0.9175022156835879,-0.465894653057347,-0.5329160490205209,-0.19857782804044166,0.9999546128151787,-0.173278284571839,0.42388947241482056,-0.421532547951662,0.9998236147456873,0.3828464061729844,0.10199671584497126,-0.9770796090495609,0.9793219746966773,-0.9777047453498247,0.8746659587629374,-0.9832687375598406,-0.13407261577425367,-0.60217991236487,0.06904093310741671,-0.8653936399008361,-0.3630149334122955,-0.9291399432472295,0.22723205574376953,-0.2163861760977563,-0.47701188923923754,0.030096345044432628,-0.5449450841004989]\n",
       "},\n",
       "\"mapping\":{\n",
       "},\n",
       "\"data_meta\":{\n",
       "\"series_annotations\":[{\n",
       "\"type\":\"float\",\n",
       "\"column\":\"x\"\n",
       "},{\n",
       "\"type\":\"float\",\n",
       "\"column\":\"y\"\n",
       "}]\n",
       "},\n",
       "\"theme\":{\n",
       "\"legend_position\":\"none\"\n",
       "},\n",
       "\"kind\":\"plot\",\n",
       "\"scales\":[{\n",
       "\"aesthetic\":\"color\",\n",
       "\"discrete\":true\n",
       "}],\n",
       "\"layers\":[{\n",
       "\"geom\":\"point\",\n",
       "\"mapping\":{\n",
       "\"x\":\"x\",\n",
       "\"y\":\"y\",\n",
       "\"color\":\"x\"\n",
       "},\n",
       "\"data_meta\":{\n",
       "},\n",
       "\"alpha\":0.7,\n",
       "\"size\":4.0,\n",
       "\"data\":{\n",
       "}\n",
       "},{\n",
       "\"geom\":\"path\",\n",
       "\"mapping\":{\n",
       "\"x\":\"x\",\n",
       "\"y\":\"y\"\n",
       "},\n",
       "\"data_meta\":{\n",
       "},\n",
       "\"size\":0.7,\n",
       "\"linetype\":\"dotted\",\n",
       "\"data\":{\n",
       "}\n",
       "}],\n",
       "\"metainfo_list\":[]\n",
       "};\n",
       "           var plotContainer = document.getElementById(\"lzxEA6\");\n",
       "           window.letsPlotCall(function() {{\n",
       "               LetsPlot.buildPlotFromProcessedSpecs(plotSpec, -1, -1, plotContainer);\n",
       "           }});\n",
       "       })();\n",
       "   </script>"
      ],
      "text/plain": [
       "<lets_plot.plot.core.PlotSpec at 0x135f8fe20>"
      ]
     },
     "execution_count": 4,
     "metadata": {},
     "output_type": "execute_result"
    }
   ],
   "source": [
    "ggplot(data) + geom_point(aes(x='x', y='y', color='x'), alpha=0.7, size=4) + \\\n",
    "    scale_color_discrete() + \\\n",
    "    theme(legend_position='none') + \\\n",
    "    geom_path(aes(x='x', y='y'), size=0.7, linetype='dotted')"
   ]
  },
  {
   "cell_type": "markdown",
   "metadata": {},
   "source": [
    "Another example to demonstrate the difference between geom_path() and geom_line()."
   ]
  },
  {
   "cell_type": "code",
   "execution_count": 5,
   "metadata": {
    "execution": {
     "iopub.execute_input": "2024-09-27T18:10:23.971360Z",
     "iopub.status.busy": "2024-09-27T18:10:23.971290Z",
     "iopub.status.idle": "2024-09-27T18:10:23.973204Z",
     "shell.execute_reply": "2024-09-27T18:10:23.972931Z"
    }
   },
   "outputs": [],
   "source": [
    "a = [5, 1, 1, 5, 5, 2, 2, 4, 4, 3]\n",
    "b = [5, 5, 1, 1, 4, 4, 2, 2, 3, 3]\n",
    "\n",
    "snail = pd.DataFrame({'x': a, 'y': b})"
   ]
  },
  {
   "cell_type": "code",
   "execution_count": 6,
   "metadata": {
    "execution": {
     "iopub.execute_input": "2024-09-27T18:10:23.974190Z",
     "iopub.status.busy": "2024-09-27T18:10:23.974113Z",
     "iopub.status.idle": "2024-09-27T18:10:23.976602Z",
     "shell.execute_reply": "2024-09-27T18:10:23.976417Z"
    }
   },
   "outputs": [
    {
     "data": {
      "text/html": [
       "   <div id=\"EGdhAa\"></div>\n",
       "   <script type=\"text/javascript\" data-lets-plot-script=\"plot\">\n",
       "       (function() {\n",
       "           var plotSpec={\n",
       "\"mapping\":{\n",
       "},\n",
       "\"data_meta\":{\n",
       "},\n",
       "\"kind\":\"plot\",\n",
       "\"scales\":[],\n",
       "\"layers\":[{\n",
       "\"geom\":\"path\",\n",
       "\"data\":{\n",
       "\"x\":[5.0,1.0,1.0,5.0,5.0,2.0,2.0,4.0,4.0,3.0],\n",
       "\"y\":[5.0,5.0,1.0,1.0,4.0,4.0,2.0,2.0,3.0,3.0]\n",
       "},\n",
       "\"mapping\":{\n",
       "\"x\":\"x\",\n",
       "\"y\":\"y\"\n",
       "},\n",
       "\"data_meta\":{\n",
       "\"series_annotations\":[{\n",
       "\"type\":\"int\",\n",
       "\"column\":\"x\"\n",
       "},{\n",
       "\"type\":\"int\",\n",
       "\"column\":\"y\"\n",
       "}]\n",
       "},\n",
       "\"size\":2.0,\n",
       "\"alpha\":0.7\n",
       "}],\n",
       "\"metainfo_list\":[]\n",
       "};\n",
       "           var plotContainer = document.getElementById(\"EGdhAa\");\n",
       "           window.letsPlotCall(function() {{\n",
       "               LetsPlot.buildPlotFromProcessedSpecs(plotSpec, -1, -1, plotContainer);\n",
       "           }});\n",
       "       })();\n",
       "   </script>"
      ],
      "text/plain": [
       "<lets_plot.plot.core.PlotSpec at 0x135f8ff40>"
      ]
     },
     "execution_count": 6,
     "metadata": {},
     "output_type": "execute_result"
    }
   ],
   "source": [
    "ggplot() + geom_path(data=snail, mapping=aes(x='x', y='y'), size=2, alpha=0.7)"
   ]
  },
  {
   "cell_type": "code",
   "execution_count": 7,
   "metadata": {
    "execution": {
     "iopub.execute_input": "2024-09-27T18:10:23.977611Z",
     "iopub.status.busy": "2024-09-27T18:10:23.977537Z",
     "iopub.status.idle": "2024-09-27T18:10:23.979791Z",
     "shell.execute_reply": "2024-09-27T18:10:23.979606Z"
    }
   },
   "outputs": [
    {
     "data": {
      "text/html": [
       "   <div id=\"AfMNlB\"></div>\n",
       "   <script type=\"text/javascript\" data-lets-plot-script=\"plot\">\n",
       "       (function() {\n",
       "           var plotSpec={\n",
       "\"mapping\":{\n",
       "},\n",
       "\"data_meta\":{\n",
       "},\n",
       "\"kind\":\"plot\",\n",
       "\"scales\":[],\n",
       "\"layers\":[{\n",
       "\"geom\":\"line\",\n",
       "\"data\":{\n",
       "\"x\":[5.0,1.0,1.0,5.0,5.0,2.0,2.0,4.0,4.0,3.0],\n",
       "\"y\":[5.0,5.0,1.0,1.0,4.0,4.0,2.0,2.0,3.0,3.0]\n",
       "},\n",
       "\"mapping\":{\n",
       "\"x\":\"x\",\n",
       "\"y\":\"y\"\n",
       "},\n",
       "\"data_meta\":{\n",
       "\"series_annotations\":[{\n",
       "\"type\":\"int\",\n",
       "\"column\":\"x\"\n",
       "},{\n",
       "\"type\":\"int\",\n",
       "\"column\":\"y\"\n",
       "}]\n",
       "},\n",
       "\"size\":2.0,\n",
       "\"alpha\":0.7\n",
       "}],\n",
       "\"metainfo_list\":[]\n",
       "};\n",
       "           var plotContainer = document.getElementById(\"AfMNlB\");\n",
       "           window.letsPlotCall(function() {{\n",
       "               LetsPlot.buildPlotFromProcessedSpecs(plotSpec, -1, -1, plotContainer);\n",
       "           }});\n",
       "       })();\n",
       "   </script>"
      ],
      "text/plain": [
       "<lets_plot.plot.core.PlotSpec at 0x1362289a0>"
      ]
     },
     "execution_count": 7,
     "metadata": {},
     "output_type": "execute_result"
    }
   ],
   "source": [
    "ggplot() + geom_line(data=snail, mapping=aes(x='x', y='y'), size=2, alpha=0.7)"
   ]
  }
 ],
 "metadata": {
  "kernelspec": {
   "display_name": "Python 3 (ipykernel)",
   "language": "python",
   "name": "python3"
  },
  "language_info": {
   "codemirror_mode": {
    "name": "ipython",
    "version": 3
   },
   "file_extension": ".py",
   "mimetype": "text/x-python",
   "name": "python",
   "nbconvert_exporter": "python",
   "pygments_lexer": "ipython3",
   "version": "3.10.15"
  }
 },
 "nbformat": 4,
 "nbformat_minor": 4
}
