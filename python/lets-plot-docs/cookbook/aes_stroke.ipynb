{
 "cells": [
  {
   "cell_type": "markdown",
   "id": "50816dd6",
   "metadata": {},
   "source": [
    "# `stroke` aesthetic\n",
    "\n",
    "Affects the thickness of the point boundaries (in case the given shape has a boundary).\n",
    "\n",
    "Available for the following geometries: `geom_point()`, `geom_jitter()`, `geom_qq()`, `geom_qq2()`, `geom_pointrange()`, `geom_dotplot()`, `geom_ydotplot()`."
   ]
  },
  {
   "cell_type": "code",
   "execution_count": 1,
   "id": "4548aaa5",
   "metadata": {
    "execution": {
     "iopub.execute_input": "2024-09-27T18:19:35.600589Z",
     "iopub.status.busy": "2024-09-27T18:19:35.600310Z",
     "iopub.status.idle": "2024-09-27T18:19:36.015616Z",
     "shell.execute_reply": "2024-09-27T18:19:36.015271Z"
    }
   },
   "outputs": [],
   "source": [
    "from lets_plot import *"
   ]
  },
  {
   "cell_type": "code",
   "execution_count": 2,
   "id": "e5021e9e",
   "metadata": {
    "execution": {
     "iopub.execute_input": "2024-09-27T18:19:36.016998Z",
     "iopub.status.busy": "2024-09-27T18:19:36.016889Z",
     "iopub.status.idle": "2024-09-27T18:19:36.019353Z",
     "shell.execute_reply": "2024-09-27T18:19:36.019085Z"
    }
   },
   "outputs": [
    {
     "data": {
      "text/html": [
       "\n",
       "            <div id=\"UkK1Mn\"></div>\n",
       "            <script type=\"text/javascript\" data-lets-plot-script=\"library\">\n",
       "                if(!window.letsPlotCallQueue) {\n",
       "                    window.letsPlotCallQueue = [];\n",
       "                }; \n",
       "                window.letsPlotCall = function(f) {\n",
       "                    window.letsPlotCallQueue.push(f);\n",
       "                };\n",
       "                (function() {\n",
       "                    var script = document.createElement(\"script\");\n",
       "                    script.type = \"text/javascript\";\n",
       "                    script.src = \"https://cdn.jsdelivr.net/gh/JetBrains/lets-plot@v4.4.1/js-package/distr/lets-plot.min.js\";\n",
       "                    script.onload = function() {\n",
       "                        window.letsPlotCall = function(f) {f();};\n",
       "                        window.letsPlotCallQueue.forEach(function(f) {f();});\n",
       "                        window.letsPlotCallQueue = [];\n",
       "                        \n",
       "                    };\n",
       "                    script.onerror = function(event) {\n",
       "                        window.letsPlotCall = function(f) {};    // noop\n",
       "                        window.letsPlotCallQueue = [];\n",
       "                        var div = document.createElement(\"div\");\n",
       "                        div.style.color = 'darkred';\n",
       "                        div.textContent = 'Error loading Lets-Plot JS';\n",
       "                        document.getElementById(\"UkK1Mn\").appendChild(div);\n",
       "                    };\n",
       "                    var e = document.getElementById(\"UkK1Mn\");\n",
       "                    e.appendChild(script);\n",
       "                })()\n",
       "            </script>\n",
       "            "
      ]
     },
     "metadata": {},
     "output_type": "display_data"
    }
   ],
   "source": [
    "LetsPlot.setup_html()"
   ]
  },
  {
   "cell_type": "code",
   "execution_count": 3,
   "id": "7ca0b26d",
   "metadata": {
    "execution": {
     "iopub.execute_input": "2024-09-27T18:19:36.020419Z",
     "iopub.status.busy": "2024-09-27T18:19:36.020350Z",
     "iopub.status.idle": "2024-09-27T18:19:36.022474Z",
     "shell.execute_reply": "2024-09-27T18:19:36.022198Z"
    }
   },
   "outputs": [],
   "source": [
    "data1 = {\n",
    "    'x': (list(range(7)) * 4)[:26],\n",
    "    'y': ([3] * 7 + [2] * 7 + [1] * 7 + [0] * 7)[:26],\n",
    "    'shape': list(range(26)),\n",
    "}"
   ]
  },
  {
   "cell_type": "code",
   "execution_count": 4,
   "id": "1829f639",
   "metadata": {
    "execution": {
     "iopub.execute_input": "2024-09-27T18:19:36.023476Z",
     "iopub.status.busy": "2024-09-27T18:19:36.023408Z",
     "iopub.status.idle": "2024-09-27T18:19:36.025122Z",
     "shell.execute_reply": "2024-09-27T18:19:36.024928Z"
    }
   },
   "outputs": [],
   "source": [
    "p1 = ggplot(data1, aes('x', 'y')) + scale_shape_identity() + \\\n",
    "    xlim(-1, 7) + ylim(-1, 4) + \\\n",
    "    theme(legend_position='none')"
   ]
  },
  {
   "cell_type": "markdown",
   "id": "c184ec7a",
   "metadata": {},
   "source": [
    "#### 1. Default Stroke"
   ]
  },
  {
   "cell_type": "code",
   "execution_count": 5,
   "id": "4784b085",
   "metadata": {
    "execution": {
     "iopub.execute_input": "2024-09-27T18:19:36.026096Z",
     "iopub.status.busy": "2024-09-27T18:19:36.026030Z",
     "iopub.status.idle": "2024-09-27T18:19:36.054920Z",
     "shell.execute_reply": "2024-09-27T18:19:36.054662Z"
    }
   },
   "outputs": [
    {
     "data": {
      "text/html": [
       "   <div id=\"xwrMmw\"></div>\n",
       "   <script type=\"text/javascript\" data-lets-plot-script=\"plot\">\n",
       "       (function() {\n",
       "           var plotSpec={\n",
       "\"data\":{\n",
       "\"x\":[0.0,1.0,2.0,3.0,4.0,5.0,6.0,0.0,1.0,2.0,3.0,4.0,5.0,6.0,0.0,1.0,2.0,3.0,4.0,5.0,6.0,0.0,1.0,2.0,3.0,4.0],\n",
       "\"y\":[3.0,3.0,3.0,3.0,3.0,3.0,3.0,2.0,2.0,2.0,2.0,2.0,2.0,2.0,1.0,1.0,1.0,1.0,1.0,1.0,1.0,0.0,0.0,0.0,0.0,0.0],\n",
       "\"shape\":[0.0,1.0,2.0,3.0,4.0,5.0,6.0,7.0,8.0,9.0,10.0,11.0,12.0,13.0,14.0,15.0,16.0,17.0,18.0,19.0,20.0,21.0,22.0,23.0,24.0,25.0]\n",
       "},\n",
       "\"mapping\":{\n",
       "\"x\":\"x\",\n",
       "\"y\":\"y\"\n",
       "},\n",
       "\"data_meta\":{\n",
       "\"series_annotations\":[{\n",
       "\"type\":\"int\",\n",
       "\"column\":\"x\"\n",
       "},{\n",
       "\"type\":\"int\",\n",
       "\"column\":\"y\"\n",
       "},{\n",
       "\"type\":\"int\",\n",
       "\"column\":\"shape\"\n",
       "}]\n",
       "},\n",
       "\"theme\":{\n",
       "\"legend_position\":\"none\"\n",
       "},\n",
       "\"kind\":\"plot\",\n",
       "\"scales\":[{\n",
       "\"aesthetic\":\"shape\",\n",
       "\"guide\":\"none\",\n",
       "\"scale_mapper_kind\":\"identity\",\n",
       "\"discrete\":true\n",
       "},{\n",
       "\"aesthetic\":\"x\",\n",
       "\"limits\":[-1.0,7.0]\n",
       "},{\n",
       "\"aesthetic\":\"y\",\n",
       "\"limits\":[-1.0,4.0]\n",
       "}],\n",
       "\"layers\":[{\n",
       "\"geom\":\"point\",\n",
       "\"mapping\":{\n",
       "\"shape\":\"shape\"\n",
       "},\n",
       "\"data_meta\":{\n",
       "},\n",
       "\"size\":12.0,\n",
       "\"color\":\"#54278f\",\n",
       "\"fill\":\"#dd1c77\",\n",
       "\"data\":{\n",
       "}\n",
       "}],\n",
       "\"metainfo_list\":[]\n",
       "};\n",
       "           var plotContainer = document.getElementById(\"xwrMmw\");\n",
       "           window.letsPlotCall(function() {{\n",
       "               LetsPlot.buildPlotFromProcessedSpecs(plotSpec, -1, -1, plotContainer);\n",
       "           }});\n",
       "       })();\n",
       "   </script>"
      ],
      "text/plain": [
       "<lets_plot.plot.core.PlotSpec at 0x13fe8af50>"
      ]
     },
     "execution_count": 5,
     "metadata": {},
     "output_type": "execute_result"
    }
   ],
   "source": [
    "p1 + geom_point(aes(shape='shape'), size=12, color=\"#54278f\", fill=\"#dd1c77\")"
   ]
  },
  {
   "cell_type": "markdown",
   "id": "f84b550d",
   "metadata": {},
   "source": [
    "#### 2. Increased Stroke"
   ]
  },
  {
   "cell_type": "code",
   "execution_count": 6,
   "id": "56d38045",
   "metadata": {
    "execution": {
     "iopub.execute_input": "2024-09-27T18:19:36.056062Z",
     "iopub.status.busy": "2024-09-27T18:19:36.055975Z",
     "iopub.status.idle": "2024-09-27T18:19:36.058747Z",
     "shell.execute_reply": "2024-09-27T18:19:36.058481Z"
    }
   },
   "outputs": [
    {
     "data": {
      "text/html": [
       "   <div id=\"jFslU1\"></div>\n",
       "   <script type=\"text/javascript\" data-lets-plot-script=\"plot\">\n",
       "       (function() {\n",
       "           var plotSpec={\n",
       "\"data\":{\n",
       "\"x\":[0.0,1.0,2.0,3.0,4.0,5.0,6.0,0.0,1.0,2.0,3.0,4.0,5.0,6.0,0.0,1.0,2.0,3.0,4.0,5.0,6.0,0.0,1.0,2.0,3.0,4.0],\n",
       "\"y\":[3.0,3.0,3.0,3.0,3.0,3.0,3.0,2.0,2.0,2.0,2.0,2.0,2.0,2.0,1.0,1.0,1.0,1.0,1.0,1.0,1.0,0.0,0.0,0.0,0.0,0.0],\n",
       "\"shape\":[0.0,1.0,2.0,3.0,4.0,5.0,6.0,7.0,8.0,9.0,10.0,11.0,12.0,13.0,14.0,15.0,16.0,17.0,18.0,19.0,20.0,21.0,22.0,23.0,24.0,25.0]\n",
       "},\n",
       "\"mapping\":{\n",
       "\"x\":\"x\",\n",
       "\"y\":\"y\"\n",
       "},\n",
       "\"data_meta\":{\n",
       "\"series_annotations\":[{\n",
       "\"type\":\"int\",\n",
       "\"column\":\"x\"\n",
       "},{\n",
       "\"type\":\"int\",\n",
       "\"column\":\"y\"\n",
       "},{\n",
       "\"type\":\"int\",\n",
       "\"column\":\"shape\"\n",
       "}]\n",
       "},\n",
       "\"theme\":{\n",
       "\"legend_position\":\"none\"\n",
       "},\n",
       "\"kind\":\"plot\",\n",
       "\"scales\":[{\n",
       "\"aesthetic\":\"shape\",\n",
       "\"guide\":\"none\",\n",
       "\"scale_mapper_kind\":\"identity\",\n",
       "\"discrete\":true\n",
       "},{\n",
       "\"aesthetic\":\"x\",\n",
       "\"limits\":[-1.0,7.0]\n",
       "},{\n",
       "\"aesthetic\":\"y\",\n",
       "\"limits\":[-1.0,4.0]\n",
       "}],\n",
       "\"layers\":[{\n",
       "\"geom\":\"point\",\n",
       "\"mapping\":{\n",
       "\"shape\":\"shape\"\n",
       "},\n",
       "\"data_meta\":{\n",
       "},\n",
       "\"size\":12.0,\n",
       "\"stroke\":6.0,\n",
       "\"color\":\"#54278f\",\n",
       "\"fill\":\"#dd1c77\",\n",
       "\"data\":{\n",
       "}\n",
       "}],\n",
       "\"metainfo_list\":[]\n",
       "};\n",
       "           var plotContainer = document.getElementById(\"jFslU1\");\n",
       "           window.letsPlotCall(function() {{\n",
       "               LetsPlot.buildPlotFromProcessedSpecs(plotSpec, -1, -1, plotContainer);\n",
       "           }});\n",
       "       })();\n",
       "   </script>"
      ],
      "text/plain": [
       "<lets_plot.plot.core.PlotSpec at 0x14001a980>"
      ]
     },
     "execution_count": 6,
     "metadata": {},
     "output_type": "execute_result"
    }
   ],
   "source": [
    "p1 + geom_point(aes(shape='shape'), size=12, stroke=6, color=\"#54278f\", fill=\"#dd1c77\")"
   ]
  },
  {
   "cell_type": "markdown",
   "id": "4149ce11",
   "metadata": {},
   "source": [
    "#### 3. Stroke Scales"
   ]
  },
  {
   "cell_type": "code",
   "execution_count": 7,
   "id": "317746c5",
   "metadata": {
    "execution": {
     "iopub.execute_input": "2024-09-27T18:19:36.059796Z",
     "iopub.status.busy": "2024-09-27T18:19:36.059730Z",
     "iopub.status.idle": "2024-09-27T18:19:36.061468Z",
     "shell.execute_reply": "2024-09-27T18:19:36.061225Z"
    }
   },
   "outputs": [],
   "source": [
    "data2 = {\n",
    "    'x': [0, 1, 2],\n",
    "    'y': [0, 0, 0],\n",
    "    'stroke': [4, 16, 8],\n",
    "}"
   ]
  },
  {
   "cell_type": "code",
   "execution_count": 8,
   "id": "0a21b011",
   "metadata": {
    "execution": {
     "iopub.execute_input": "2024-09-27T18:19:36.062445Z",
     "iopub.status.busy": "2024-09-27T18:19:36.062378Z",
     "iopub.status.idle": "2024-09-27T18:19:36.064043Z",
     "shell.execute_reply": "2024-09-27T18:19:36.063827Z"
    }
   },
   "outputs": [],
   "source": [
    "p2 = ggplot(data2, aes('x', 'y')) + \\\n",
    "    geom_point(aes(stroke='stroke'), size=12, shape=21, color=\"#54278f\", fill=\"#dd1c77\")"
   ]
  },
  {
   "cell_type": "code",
   "execution_count": 9,
   "id": "00fe5e3a",
   "metadata": {
    "execution": {
     "iopub.execute_input": "2024-09-27T18:19:36.064988Z",
     "iopub.status.busy": "2024-09-27T18:19:36.064913Z",
     "iopub.status.idle": "2024-09-27T18:19:36.068362Z",
     "shell.execute_reply": "2024-09-27T18:19:36.068112Z"
    }
   },
   "outputs": [
    {
     "data": {
      "text/html": [
       "   <div id=\"ykZF6x\"></div>\n",
       "   <script type=\"text/javascript\" data-lets-plot-script=\"plot\">\n",
       "       (function() {\n",
       "           var plotSpec={\n",
       "\"kind\":\"subplots\",\n",
       "\"layout\":{\n",
       "\"ncol\":2.0,\n",
       "\"nrow\":2.0,\n",
       "\"name\":\"grid\"\n",
       "},\n",
       "\"figures\":[{\n",
       "\"data\":{\n",
       "\"x\":[0.0,1.0,2.0],\n",
       "\"y\":[0.0,0.0,0.0],\n",
       "\"stroke\":[4.0,16.0,8.0]\n",
       "},\n",
       "\"mapping\":{\n",
       "\"x\":\"x\",\n",
       "\"y\":\"y\"\n",
       "},\n",
       "\"data_meta\":{\n",
       "\"series_annotations\":[{\n",
       "\"type\":\"int\",\n",
       "\"column\":\"x\"\n",
       "},{\n",
       "\"type\":\"int\",\n",
       "\"column\":\"y\"\n",
       "},{\n",
       "\"type\":\"int\",\n",
       "\"column\":\"stroke\"\n",
       "}]\n",
       "},\n",
       "\"ggtitle\":{\n",
       "\"text\":\"Default scale\"\n",
       "},\n",
       "\"kind\":\"plot\",\n",
       "\"scales\":[],\n",
       "\"layers\":[{\n",
       "\"geom\":\"point\",\n",
       "\"mapping\":{\n",
       "\"stroke\":\"stroke\"\n",
       "},\n",
       "\"data_meta\":{\n",
       "},\n",
       "\"size\":12.0,\n",
       "\"shape\":21.0,\n",
       "\"color\":\"#54278f\",\n",
       "\"fill\":\"#dd1c77\",\n",
       "\"data\":{\n",
       "}\n",
       "}],\n",
       "\"metainfo_list\":[]\n",
       "},{\n",
       "\"data\":{\n",
       "\"x\":[0.0,1.0,2.0],\n",
       "\"y\":[0.0,0.0,0.0],\n",
       "\"stroke\":[4.0,16.0,8.0]\n",
       "},\n",
       "\"mapping\":{\n",
       "\"x\":\"x\",\n",
       "\"y\":\"y\"\n",
       "},\n",
       "\"data_meta\":{\n",
       "\"series_annotations\":[{\n",
       "\"type\":\"int\",\n",
       "\"column\":\"x\"\n",
       "},{\n",
       "\"type\":\"int\",\n",
       "\"column\":\"y\"\n",
       "},{\n",
       "\"type\":\"int\",\n",
       "\"column\":\"stroke\"\n",
       "}]\n",
       "},\n",
       "\"ggtitle\":{\n",
       "\"text\":\"scale_stroke()\"\n",
       "},\n",
       "\"kind\":\"plot\",\n",
       "\"scales\":[{\n",
       "\"aesthetic\":\"stroke\",\n",
       "\"range\":[2.0,4.0]\n",
       "}],\n",
       "\"layers\":[{\n",
       "\"geom\":\"point\",\n",
       "\"mapping\":{\n",
       "\"stroke\":\"stroke\"\n",
       "},\n",
       "\"data_meta\":{\n",
       "},\n",
       "\"size\":12.0,\n",
       "\"shape\":21.0,\n",
       "\"color\":\"#54278f\",\n",
       "\"fill\":\"#dd1c77\",\n",
       "\"data\":{\n",
       "}\n",
       "}],\n",
       "\"metainfo_list\":[]\n",
       "},{\n",
       "\"data\":{\n",
       "\"x\":[0.0,1.0,2.0],\n",
       "\"y\":[0.0,0.0,0.0],\n",
       "\"stroke\":[4.0,16.0,8.0]\n",
       "},\n",
       "\"mapping\":{\n",
       "\"x\":\"x\",\n",
       "\"y\":\"y\"\n",
       "},\n",
       "\"data_meta\":{\n",
       "\"series_annotations\":[{\n",
       "\"type\":\"int\",\n",
       "\"column\":\"x\"\n",
       "},{\n",
       "\"type\":\"int\",\n",
       "\"column\":\"y\"\n",
       "},{\n",
       "\"type\":\"int\",\n",
       "\"column\":\"stroke\"\n",
       "}]\n",
       "},\n",
       "\"ggtitle\":{\n",
       "\"text\":\"scale_stroke_identity()\"\n",
       "},\n",
       "\"kind\":\"plot\",\n",
       "\"scales\":[{\n",
       "\"aesthetic\":\"stroke\",\n",
       "\"guide\":\"none\",\n",
       "\"scale_mapper_kind\":\"identity\"\n",
       "}],\n",
       "\"layers\":[{\n",
       "\"geom\":\"point\",\n",
       "\"mapping\":{\n",
       "\"stroke\":\"stroke\"\n",
       "},\n",
       "\"data_meta\":{\n",
       "},\n",
       "\"size\":12.0,\n",
       "\"shape\":21.0,\n",
       "\"color\":\"#54278f\",\n",
       "\"fill\":\"#dd1c77\",\n",
       "\"data\":{\n",
       "}\n",
       "}],\n",
       "\"metainfo_list\":[]\n",
       "},\"blank\"]\n",
       "};\n",
       "           var plotContainer = document.getElementById(\"ykZF6x\");\n",
       "           window.letsPlotCall(function() {{\n",
       "               LetsPlot.buildPlotFromProcessedSpecs(plotSpec, -1, -1, plotContainer);\n",
       "           }});\n",
       "       })();\n",
       "   </script>"
      ],
      "text/plain": [
       "<lets_plot.plot.subplots.SupPlotsSpec at 0x14001b9d0>"
      ]
     },
     "execution_count": 9,
     "metadata": {},
     "output_type": "execute_result"
    }
   ],
   "source": [
    "gggrid([\n",
    "    p2 + ggtitle(\"Default scale\"),\n",
    "    p2 + scale_stroke(range=[2, 4]) + ggtitle(\"scale_stroke()\"),\n",
    "    p2 + scale_stroke_identity() + ggtitle(\"scale_stroke_identity()\"),\n",
    "], ncol=2)"
   ]
  }
 ],
 "metadata": {
  "kernelspec": {
   "display_name": "Python 3 (ipykernel)",
   "language": "python",
   "name": "python3"
  },
  "language_info": {
   "codemirror_mode": {
    "name": "ipython",
    "version": 3
   },
   "file_extension": ".py",
   "mimetype": "text/x-python",
   "name": "python",
   "nbconvert_exporter": "python",
   "pygments_lexer": "ipython3",
   "version": "3.10.15"
  }
 },
 "nbformat": 4,
 "nbformat_minor": 5
}
