{
 "cells": [
  {
   "cell_type": "markdown",
   "metadata": {},
   "source": [
    "#### This demo is a brief overview of the documentation https://lets-plot.org/python/pages/geocoding.html"
   ]
  },
  {
   "cell_type": "code",
   "execution_count": 1,
   "metadata": {
    "execution": {
     "iopub.execute_input": "2024-11-07T09:08:51.186858Z",
     "iopub.status.busy": "2024-11-07T09:08:51.186562Z",
     "iopub.status.idle": "2024-11-07T09:08:51.632020Z",
     "shell.execute_reply": "2024-11-07T09:08:51.631754Z"
    }
   },
   "outputs": [
    {
     "name": "stdout",
     "output_type": "stream",
     "text": [
      "The geodata is provided by © OpenStreetMap contributors and is made available here under the Open Database License (ODbL).\n"
     ]
    }
   ],
   "source": [
    "import shapely\n",
    "from IPython.display import display, Markdown\n",
    "\n",
    "from lets_plot import *\n",
    "from lets_plot.geo_data import *"
   ]
  },
  {
   "cell_type": "code",
   "execution_count": 2,
   "metadata": {
    "execution": {
     "iopub.execute_input": "2024-11-07T09:08:51.647562Z",
     "iopub.status.busy": "2024-11-07T09:08:51.647426Z",
     "iopub.status.idle": "2024-11-07T09:08:51.649653Z",
     "shell.execute_reply": "2024-11-07T09:08:51.649430Z"
    }
   },
   "outputs": [
    {
     "data": {
      "text/html": [
       "\n",
       "            <div id=\"SFwhf0\"></div>\n",
       "            <script type=\"text/javascript\" data-lets-plot-script=\"library\">\n",
       "                if(!window.letsPlotCallQueue) {\n",
       "                    window.letsPlotCallQueue = [];\n",
       "                }; \n",
       "                window.letsPlotCall = function(f) {\n",
       "                    window.letsPlotCallQueue.push(f);\n",
       "                };\n",
       "                (function() {\n",
       "                    var script = document.createElement(\"script\");\n",
       "                    script.type = \"text/javascript\";\n",
       "                    script.src = \"https://cdn.jsdelivr.net/gh/JetBrains/lets-plot@v4.5.1/js-package/distr/lets-plot.min.js\";\n",
       "                    script.onload = function() {\n",
       "                        window.letsPlotCall = function(f) {f();};\n",
       "                        window.letsPlotCallQueue.forEach(function(f) {f();});\n",
       "                        window.letsPlotCallQueue = [];\n",
       "                        \n",
       "                    };\n",
       "                    script.onerror = function(event) {\n",
       "                        window.letsPlotCall = function(f) {};    // noop\n",
       "                        window.letsPlotCallQueue = [];\n",
       "                        var div = document.createElement(\"div\");\n",
       "                        div.style.color = 'darkred';\n",
       "                        div.textContent = 'Error loading Lets-Plot JS';\n",
       "                        document.getElementById(\"SFwhf0\").appendChild(div);\n",
       "                    };\n",
       "                    var e = document.getElementById(\"SFwhf0\");\n",
       "                    e.appendChild(script);\n",
       "                })()\n",
       "            </script>\n",
       "            "
      ]
     },
     "metadata": {},
     "output_type": "display_data"
    }
   ],
   "source": [
    "LetsPlot.setup_html()"
   ]
  },
  {
   "cell_type": "code",
   "execution_count": 3,
   "metadata": {
    "execution": {
     "iopub.execute_input": "2024-11-07T09:08:51.650670Z",
     "iopub.status.busy": "2024-11-07T09:08:51.650575Z",
     "iopub.status.idle": "2024-11-07T09:08:51.652297Z",
     "shell.execute_reply": "2024-11-07T09:08:51.652089Z"
    }
   },
   "outputs": [],
   "source": [
    "def run_catching(f):\n",
    "    def colored(s):\n",
    "        return Markdown('<span style=\"color: #ff0000\">{}</span>'.format(s))\n",
    "    try:\n",
    "        f()\n",
    "        assert False, 'Error expected'\n",
    "    except Exception as e:\n",
    "        display(colored('{}'.format(e)))"
   ]
  },
  {
   "cell_type": "markdown",
   "metadata": {},
   "source": [
    "### Basic usage"
   ]
  },
  {
   "cell_type": "code",
   "execution_count": 4,
   "metadata": {
    "execution": {
     "iopub.execute_input": "2024-11-07T09:08:51.653383Z",
     "iopub.status.busy": "2024-11-07T09:08:51.653306Z",
     "iopub.status.idle": "2024-11-07T09:08:52.194575Z",
     "shell.execute_reply": "2024-11-07T09:08:52.194144Z"
    }
   },
   "outputs": [
    {
     "data": {
      "text/html": [
       "<div>\n",
       "<style scoped>\n",
       "    .dataframe tbody tr th:only-of-type {\n",
       "        vertical-align: middle;\n",
       "    }\n",
       "\n",
       "    .dataframe tbody tr th {\n",
       "        vertical-align: top;\n",
       "    }\n",
       "\n",
       "    .dataframe thead th {\n",
       "        text-align: right;\n",
       "    }\n",
       "</style>\n",
       "<table border=\"1\" class=\"dataframe\">\n",
       "  <thead>\n",
       "    <tr style=\"text-align: right;\">\n",
       "      <th></th>\n",
       "      <th>id</th>\n",
       "      <th>state</th>\n",
       "      <th>found name</th>\n",
       "      <th>centroid</th>\n",
       "      <th>position</th>\n",
       "      <th>limit</th>\n",
       "    </tr>\n",
       "  </thead>\n",
       "  <tbody>\n",
       "    <tr>\n",
       "      <th>0</th>\n",
       "      <td>162050</td>\n",
       "      <td>florida</td>\n",
       "      <td>Florida</td>\n",
       "      <td>[-81.664617414276, 28.0571937561035]</td>\n",
       "      <td>[-87.6348964869976, 25.1162923872471, -80.0309...</td>\n",
       "      <td>[-87.6348964869976, 24.5230695605278, -80.0309...</td>\n",
       "    </tr>\n",
       "    <tr>\n",
       "      <th>1</th>\n",
       "      <td>114690</td>\n",
       "      <td>tx</td>\n",
       "      <td>Texas</td>\n",
       "      <td>[-99.6829525269137, 31.1685702949762]</td>\n",
       "      <td>[-106.645845472813, 25.8370596170425, -93.5078...</td>\n",
       "      <td>[-106.645845472813, 25.8370596170425, -93.5078...</td>\n",
       "    </tr>\n",
       "  </tbody>\n",
       "</table>\n",
       "</div>"
      ],
      "text/plain": [
       "       id    state found name                               centroid  \\\n",
       "0  162050  florida    Florida   [-81.664617414276, 28.0571937561035]   \n",
       "1  114690       tx      Texas  [-99.6829525269137, 31.1685702949762]   \n",
       "\n",
       "                                            position  \\\n",
       "0  [-87.6348964869976, 25.1162923872471, -80.0309...   \n",
       "1  [-106.645845472813, 25.8370596170425, -93.5078...   \n",
       "\n",
       "                                               limit  \n",
       "0  [-87.6348964869976, 24.5230695605278, -80.0309...  \n",
       "1  [-106.645845472813, 25.8370596170425, -93.5078...  "
      ]
     },
     "execution_count": 4,
     "metadata": {},
     "output_type": "execute_result"
    }
   ],
   "source": [
    "# Level autodetection\n",
    "geocode(names=['florida', 'tx']).get_geocodes()\n",
    "\n",
    "# Result may contain the following columns:\n",
    "# id - for internal use. Only in geocodes DataFrame.\n",
    "# request - column with lowest administrative level. The request belongs to this level. Can be a city/county/state/country.\n",
    "# parents - if provided. Can be a county/state/country.\n",
    "# found name - name that found by geocoding.\n",
    "# geometry - only in geometry DataFrame.\n",
    "\n",
    "# Thanks to request column it's obvious that level was detected as state."
   ]
  },
  {
   "cell_type": "code",
   "execution_count": null,
   "metadata": {},
   "outputs": [],
   "source": []
  },
  {
   "cell_type": "code",
   "execution_count": 5,
   "metadata": {
    "execution": {
     "iopub.execute_input": "2024-11-07T09:08:52.196946Z",
     "iopub.status.busy": "2024-11-07T09:08:52.196620Z",
     "iopub.status.idle": "2024-11-07T09:08:52.463688Z",
     "shell.execute_reply": "2024-11-07T09:08:52.463248Z"
    }
   },
   "outputs": [
    {
     "data": {
      "text/html": [
       "<div>\n",
       "<style scoped>\n",
       "    .dataframe tbody tr th:only-of-type {\n",
       "        vertical-align: middle;\n",
       "    }\n",
       "\n",
       "    .dataframe tbody tr th {\n",
       "        vertical-align: top;\n",
       "    }\n",
       "\n",
       "    .dataframe thead th {\n",
       "        text-align: right;\n",
       "    }\n",
       "</style>\n",
       "<table border=\"1\" class=\"dataframe\">\n",
       "  <thead>\n",
       "    <tr style=\"text-align: right;\">\n",
       "      <th></th>\n",
       "      <th>id</th>\n",
       "      <th>state</th>\n",
       "      <th>found name</th>\n",
       "      <th>centroid</th>\n",
       "      <th>position</th>\n",
       "      <th>limit</th>\n",
       "    </tr>\n",
       "  </thead>\n",
       "  <tbody>\n",
       "    <tr>\n",
       "      <th>0</th>\n",
       "      <td>162050</td>\n",
       "      <td>florida</td>\n",
       "      <td>Florida</td>\n",
       "      <td>[-81.664617414276, 28.0571937561035]</td>\n",
       "      <td>[-87.6348964869976, 25.1162923872471, -80.0309...</td>\n",
       "      <td>[-87.6348964869976, 24.5230695605278, -80.0309...</td>\n",
       "    </tr>\n",
       "    <tr>\n",
       "      <th>1</th>\n",
       "      <td>114690</td>\n",
       "      <td>tx</td>\n",
       "      <td>Texas</td>\n",
       "      <td>[-99.6829525269137, 31.1685702949762]</td>\n",
       "      <td>[-106.645845472813, 25.8370596170425, -93.5078...</td>\n",
       "      <td>[-106.645845472813, 25.8370596170425, -93.5078...</td>\n",
       "    </tr>\n",
       "  </tbody>\n",
       "</table>\n",
       "</div>"
      ],
      "text/plain": [
       "       id    state found name                               centroid  \\\n",
       "0  162050  florida    Florida   [-81.664617414276, 28.0571937561035]   \n",
       "1  114690       tx      Texas  [-99.6829525269137, 31.1685702949762]   \n",
       "\n",
       "                                            position  \\\n",
       "0  [-87.6348964869976, 25.1162923872471, -80.0309...   \n",
       "1  [-106.645845472813, 25.8370596170425, -93.5078...   \n",
       "\n",
       "                                               limit  \n",
       "0  [-87.6348964869976, 24.5230695605278, -80.0309...  \n",
       "1  [-106.645845472813, 25.8370596170425, -93.5078...  "
      ]
     },
     "execution_count": 5,
     "metadata": {},
     "output_type": "execute_result"
    }
   ],
   "source": [
    "# Explicit level\n",
    "geocode_states(['florida', 'tx']).get_geocodes()"
   ]
  },
  {
   "cell_type": "code",
   "execution_count": 6,
   "metadata": {
    "execution": {
     "iopub.execute_input": "2024-11-07T09:08:52.465762Z",
     "iopub.status.busy": "2024-11-07T09:08:52.465453Z",
     "iopub.status.idle": "2024-11-07T09:08:53.253330Z",
     "shell.execute_reply": "2024-11-07T09:08:53.252661Z"
    }
   },
   "outputs": [
    {
     "data": {
      "text/html": [
       "<div>\n",
       "<style scoped>\n",
       "    .dataframe tbody tr th:only-of-type {\n",
       "        vertical-align: middle;\n",
       "    }\n",
       "\n",
       "    .dataframe tbody tr th {\n",
       "        vertical-align: top;\n",
       "    }\n",
       "\n",
       "    .dataframe thead th {\n",
       "        text-align: right;\n",
       "    }\n",
       "</style>\n",
       "<table border=\"1\" class=\"dataframe\">\n",
       "  <thead>\n",
       "    <tr style=\"text-align: right;\">\n",
       "      <th></th>\n",
       "      <th>id</th>\n",
       "      <th>state</th>\n",
       "      <th>found name</th>\n",
       "      <th>country</th>\n",
       "      <th>centroid</th>\n",
       "      <th>position</th>\n",
       "      <th>limit</th>\n",
       "    </tr>\n",
       "  </thead>\n",
       "  <tbody>\n",
       "    <tr>\n",
       "      <th>0</th>\n",
       "      <td>162050</td>\n",
       "      <td>florida</td>\n",
       "      <td>Florida</td>\n",
       "      <td>usa</td>\n",
       "      <td>[-81.664617414276, 28.0571937561035]</td>\n",
       "      <td>[-87.6348964869976, 25.1162923872471, -80.0309...</td>\n",
       "      <td>[-87.6348964869976, 24.5230695605278, -80.0309...</td>\n",
       "    </tr>\n",
       "  </tbody>\n",
       "</table>\n",
       "</div>"
      ],
      "text/plain": [
       "       id    state found name country                              centroid  \\\n",
       "0  162050  florida    Florida     usa  [-81.664617414276, 28.0571937561035]   \n",
       "\n",
       "                                            position  \\\n",
       "0  [-87.6348964869976, 25.1162923872471, -80.0309...   \n",
       "\n",
       "                                               limit  \n",
       "0  [-87.6348964869976, 24.5230695605278, -80.0309...  "
      ]
     },
     "metadata": {},
     "output_type": "display_data"
    },
    {
     "data": {
      "text/html": [
       "<div>\n",
       "<style scoped>\n",
       "    .dataframe tbody tr th:only-of-type {\n",
       "        vertical-align: middle;\n",
       "    }\n",
       "\n",
       "    .dataframe tbody tr th {\n",
       "        vertical-align: top;\n",
       "    }\n",
       "\n",
       "    .dataframe thead th {\n",
       "        text-align: right;\n",
       "    }\n",
       "</style>\n",
       "<table border=\"1\" class=\"dataframe\">\n",
       "  <thead>\n",
       "    <tr style=\"text-align: right;\">\n",
       "      <th></th>\n",
       "      <th>id</th>\n",
       "      <th>state</th>\n",
       "      <th>found name</th>\n",
       "      <th>country</th>\n",
       "      <th>centroid</th>\n",
       "      <th>position</th>\n",
       "      <th>limit</th>\n",
       "    </tr>\n",
       "  </thead>\n",
       "  <tbody>\n",
       "    <tr>\n",
       "      <th>0</th>\n",
       "      <td>1635164</td>\n",
       "      <td>florida</td>\n",
       "      <td>Florida</td>\n",
       "      <td>uruguay</td>\n",
       "      <td>[-55.8642029687055, -33.7640165537596]</td>\n",
       "      <td>[-56.5363445878029, -34.4264329969883, -55.098...</td>\n",
       "      <td>[-56.5363445878029, -34.4264329969883, -55.098...</td>\n",
       "    </tr>\n",
       "  </tbody>\n",
       "</table>\n",
       "</div>"
      ],
      "text/plain": [
       "        id    state found name  country  \\\n",
       "0  1635164  florida    Florida  uruguay   \n",
       "\n",
       "                                 centroid  \\\n",
       "0  [-55.8642029687055, -33.7640165537596]   \n",
       "\n",
       "                                            position  \\\n",
       "0  [-56.5363445878029, -34.4264329969883, -55.098...   \n",
       "\n",
       "                                               limit  \n",
       "0  [-56.5363445878029, -34.4264329969883, -55.098...  "
      ]
     },
     "metadata": {},
     "output_type": "display_data"
    },
    {
     "data": {
      "text/html": [
       "<div>\n",
       "<style scoped>\n",
       "    .dataframe tbody tr th:only-of-type {\n",
       "        vertical-align: middle;\n",
       "    }\n",
       "\n",
       "    .dataframe tbody tr th {\n",
       "        vertical-align: top;\n",
       "    }\n",
       "\n",
       "    .dataframe thead th {\n",
       "        text-align: right;\n",
       "    }\n",
       "</style>\n",
       "<table border=\"1\" class=\"dataframe\">\n",
       "  <thead>\n",
       "    <tr style=\"text-align: right;\">\n",
       "      <th></th>\n",
       "      <th>id</th>\n",
       "      <th>state</th>\n",
       "      <th>found name</th>\n",
       "      <th>centroid</th>\n",
       "      <th>position</th>\n",
       "      <th>limit</th>\n",
       "    </tr>\n",
       "  </thead>\n",
       "  <tbody>\n",
       "    <tr>\n",
       "      <th>0</th>\n",
       "      <td>162050</td>\n",
       "      <td>florida</td>\n",
       "      <td>Florida</td>\n",
       "      <td>[-81.664617414276, 28.0571937561035]</td>\n",
       "      <td>[-87.6348964869976, 25.1162923872471, -80.0309...</td>\n",
       "      <td>[-87.6348964869976, 24.5230695605278, -80.0309...</td>\n",
       "    </tr>\n",
       "  </tbody>\n",
       "</table>\n",
       "</div>"
      ],
      "text/plain": [
       "       id    state found name                              centroid  \\\n",
       "0  162050  florida    Florida  [-81.664617414276, 28.0571937561035]   \n",
       "\n",
       "                                            position  \\\n",
       "0  [-87.6348964869976, 25.1162923872471, -80.0309...   \n",
       "\n",
       "                                               limit  \n",
       "0  [-87.6348964869976, 24.5230695605278, -80.0309...  "
      ]
     },
     "metadata": {},
     "output_type": "display_data"
    }
   ],
   "source": [
    "# Parameters can be change between searches\n",
    "florida = geocode_states('florida')\n",
    "\n",
    "display(florida.countries('usa').get_geocodes())\n",
    "display(florida.countries('uruguay').get_geocodes())\n",
    "display(florida.countries(None).get_geocodes())"
   ]
  },
  {
   "cell_type": "markdown",
   "metadata": {},
   "source": [
    "### Scope"
   ]
  },
  {
   "cell_type": "code",
   "execution_count": 7,
   "metadata": {
    "execution": {
     "iopub.execute_input": "2024-11-07T09:08:53.256305Z",
     "iopub.status.busy": "2024-11-07T09:08:53.256050Z",
     "iopub.status.idle": "2024-11-07T09:08:53.506524Z",
     "shell.execute_reply": "2024-11-07T09:08:53.505987Z"
    }
   },
   "outputs": [
    {
     "data": {
      "text/html": [
       "<div>\n",
       "<style scoped>\n",
       "    .dataframe tbody tr th:only-of-type {\n",
       "        vertical-align: middle;\n",
       "    }\n",
       "\n",
       "    .dataframe tbody tr th {\n",
       "        vertical-align: top;\n",
       "    }\n",
       "\n",
       "    .dataframe thead th {\n",
       "        text-align: right;\n",
       "    }\n",
       "</style>\n",
       "<table border=\"1\" class=\"dataframe\">\n",
       "  <thead>\n",
       "    <tr style=\"text-align: right;\">\n",
       "      <th></th>\n",
       "      <th>id</th>\n",
       "      <th>state</th>\n",
       "      <th>found name</th>\n",
       "      <th>centroid</th>\n",
       "      <th>position</th>\n",
       "      <th>limit</th>\n",
       "    </tr>\n",
       "  </thead>\n",
       "  <tbody>\n",
       "    <tr>\n",
       "      <th>0</th>\n",
       "      <td>1635164</td>\n",
       "      <td>florida</td>\n",
       "      <td>Florida</td>\n",
       "      <td>[-55.8642029687055, -33.7640165537596]</td>\n",
       "      <td>[-56.5363445878029, -34.4264329969883, -55.098...</td>\n",
       "      <td>[-56.5363445878029, -34.4264329969883, -55.098...</td>\n",
       "    </tr>\n",
       "  </tbody>\n",
       "</table>\n",
       "</div>"
      ],
      "text/plain": [
       "        id    state found name                                centroid  \\\n",
       "0  1635164  florida    Florida  [-55.8642029687055, -33.7640165537596]   \n",
       "\n",
       "                                            position  \\\n",
       "0  [-56.5363445878029, -34.4264329969883, -55.098...   \n",
       "\n",
       "                                               limit  \n",
       "0  [-56.5363445878029, -34.4264329969883, -55.098...  "
      ]
     },
     "execution_count": 7,
     "metadata": {},
     "output_type": "execute_result"
    }
   ],
   "source": [
    "# str scope uses level autodetection.\n",
    "# NB: Florida in USA is the most relevant result.\n",
    "#     We can't find Florida in Uruguay using only the name - parent (country or scope) is required.\n",
    "geocode_states('florida').scope('uruguay').get_geocodes()"
   ]
  },
  {
   "cell_type": "code",
   "execution_count": 8,
   "metadata": {
    "execution": {
     "iopub.execute_input": "2024-11-07T09:08:53.508878Z",
     "iopub.status.busy": "2024-11-07T09:08:53.508566Z",
     "iopub.status.idle": "2024-11-07T09:08:53.951499Z",
     "shell.execute_reply": "2024-11-07T09:08:53.951061Z"
    }
   },
   "outputs": [
    {
     "data": {
      "text/html": [
       "<div>\n",
       "<style scoped>\n",
       "    .dataframe tbody tr th:only-of-type {\n",
       "        vertical-align: middle;\n",
       "    }\n",
       "\n",
       "    .dataframe tbody tr th {\n",
       "        vertical-align: top;\n",
       "    }\n",
       "\n",
       "    .dataframe thead th {\n",
       "        text-align: right;\n",
       "    }\n",
       "</style>\n",
       "<table border=\"1\" class=\"dataframe\">\n",
       "  <thead>\n",
       "    <tr style=\"text-align: right;\">\n",
       "      <th></th>\n",
       "      <th>id</th>\n",
       "      <th>state</th>\n",
       "      <th>found name</th>\n",
       "      <th>centroid</th>\n",
       "      <th>position</th>\n",
       "      <th>limit</th>\n",
       "    </tr>\n",
       "  </thead>\n",
       "  <tbody>\n",
       "    <tr>\n",
       "      <th>0</th>\n",
       "      <td>1635164</td>\n",
       "      <td>florida</td>\n",
       "      <td>Florida</td>\n",
       "      <td>[-55.8642029687055, -33.7640165537596]</td>\n",
       "      <td>[-56.5363445878029, -34.4264329969883, -55.098...</td>\n",
       "      <td>[-56.5363445878029, -34.4264329969883, -55.098...</td>\n",
       "    </tr>\n",
       "  </tbody>\n",
       "</table>\n",
       "</div>"
      ],
      "text/plain": [
       "        id    state found name                                centroid  \\\n",
       "0  1635164  florida    Florida  [-55.8642029687055, -33.7640165537596]   \n",
       "\n",
       "                                            position  \\\n",
       "0  [-56.5363445878029, -34.4264329969883, -55.098...   \n",
       "\n",
       "                                               limit  \n",
       "0  [-56.5363445878029, -34.4264329969883, -55.098...  "
      ]
     },
     "execution_count": 8,
     "metadata": {},
     "output_type": "execute_result"
    }
   ],
   "source": [
    "# Geocoder scope\n",
    "uruguay = geocode_countries('uruguay')\n",
    "geocode_states('florida').scope(uruguay).get_geocodes()"
   ]
  },
  {
   "cell_type": "code",
   "execution_count": 9,
   "metadata": {
    "execution": {
     "iopub.execute_input": "2024-11-07T09:08:53.953510Z",
     "iopub.status.busy": "2024-11-07T09:08:53.953292Z",
     "iopub.status.idle": "2024-11-07T09:08:53.956999Z",
     "shell.execute_reply": "2024-11-07T09:08:53.956565Z"
    }
   },
   "outputs": [
    {
     "data": {
      "text/markdown": [
       "<span style=\"color: #ff0000\">Unsupported 'scope' type. Expected 'str' or 'Geocoder' but was 'list'</span>"
      ],
      "text/plain": [
       "<IPython.core.display.Markdown object>"
      ]
     },
     "metadata": {},
     "output_type": "display_data"
    }
   ],
   "source": [
    "# Scope is a singleton. Collections are not allowed.\n",
    "scope = ['uruguay']\n",
    "run_catching(\n",
    "    lambda: geocode_states('florida').scope(scope).get_geocodes()\n",
    ")"
   ]
  },
  {
   "cell_type": "code",
   "execution_count": 10,
   "metadata": {
    "execution": {
     "iopub.execute_input": "2024-11-07T09:08:53.958637Z",
     "iopub.status.busy": "2024-11-07T09:08:53.958500Z",
     "iopub.status.idle": "2024-11-07T09:08:54.218224Z",
     "shell.execute_reply": "2024-11-07T09:08:54.217573Z"
    }
   },
   "outputs": [
    {
     "data": {
      "text/markdown": [
       "<span style=\"color: #ff0000\">'scope' has 2 entries, but expected to have exactly 1</span>"
      ],
      "text/plain": [
       "<IPython.core.display.Markdown object>"
      ]
     },
     "metadata": {},
     "output_type": "display_data"
    }
   ],
   "source": [
    "# Geocoder with more than one entry is not allowed too.\n",
    "scope = geocode_countries(['uruguay', 'usa'])\n",
    "run_catching(\n",
    "    lambda: geocode_states('florida').scope(scope).get_geocodes()\n",
    ")"
   ]
  },
  {
   "cell_type": "code",
   "execution_count": 11,
   "metadata": {
    "execution": {
     "iopub.execute_input": "2024-11-07T09:08:54.221134Z",
     "iopub.status.busy": "2024-11-07T09:08:54.220849Z",
     "iopub.status.idle": "2024-11-07T09:08:54.720096Z",
     "shell.execute_reply": "2024-11-07T09:08:54.719375Z"
    }
   },
   "outputs": [
    {
     "data": {
      "text/markdown": [
       "<span style=\"color: #ff0000\">Region is not found: worcester county</span>"
      ],
      "text/plain": [
       "<IPython.core.display.Markdown object>"
      ]
     },
     "metadata": {},
     "output_type": "display_data"
    },
    {
     "data": {
      "text/markdown": [
       "<span style=\"color: #ff0000\">Multiple objects (2) were found for worcester county:\n",
       "- Worcester County (United States, Maryland)\n",
       "- Worcester County (United States, Massachusetts)\n",
       "</span>"
      ],
      "text/plain": [
       "<IPython.core.display.Markdown object>"
      ]
     },
     "metadata": {},
     "output_type": "display_data"
    }
   ],
   "source": [
    "# str scope can be ambiguous.\n",
    "run_catching(\n",
    "    lambda: geocode_cities('worcester').scope('worcester county').get_geocodes()\n",
    ")\n",
    "\n",
    "# Let's geocode Worcester County in a way how the service does - using level detection without parents.\n",
    "# In fact Worcester County was found, but error message in case of parent ambiguity is not clear. We will improve it.\n",
    "run_catching(\n",
    "    lambda: geocode_counties('worcester county').get_geocodes()\n",
    ")"
   ]
  },
  {
   "cell_type": "markdown",
   "metadata": {},
   "source": [
    "### Parents."
   ]
  },
  {
   "cell_type": "code",
   "execution_count": 12,
   "metadata": {
    "execution": {
     "iopub.execute_input": "2024-11-07T09:08:54.723403Z",
     "iopub.status.busy": "2024-11-07T09:08:54.723091Z",
     "iopub.status.idle": "2024-11-07T09:08:55.071721Z",
     "shell.execute_reply": "2024-11-07T09:08:55.070868Z"
    }
   },
   "outputs": [
    {
     "data": {
      "text/html": [
       "<div>\n",
       "<style scoped>\n",
       "    .dataframe tbody tr th:only-of-type {\n",
       "        vertical-align: middle;\n",
       "    }\n",
       "\n",
       "    .dataframe tbody tr th {\n",
       "        vertical-align: top;\n",
       "    }\n",
       "\n",
       "    .dataframe thead th {\n",
       "        text-align: right;\n",
       "    }\n",
       "</style>\n",
       "<table border=\"1\" class=\"dataframe\">\n",
       "  <thead>\n",
       "    <tr style=\"text-align: right;\">\n",
       "      <th></th>\n",
       "      <th>id</th>\n",
       "      <th>city</th>\n",
       "      <th>found name</th>\n",
       "      <th>county</th>\n",
       "      <th>state</th>\n",
       "      <th>centroid</th>\n",
       "      <th>position</th>\n",
       "      <th>limit</th>\n",
       "    </tr>\n",
       "  </thead>\n",
       "  <tbody>\n",
       "    <tr>\n",
       "      <th>0</th>\n",
       "      <td>119776</td>\n",
       "      <td>warwick</td>\n",
       "      <td>Warwick</td>\n",
       "      <td>Worth County</td>\n",
       "      <td>georgia</td>\n",
       "      <td>[-83.9205776783726, 31.8303624540567]</td>\n",
       "      <td>[-83.9291015267372, 31.8222776055336, -83.9120...</td>\n",
       "      <td>[-83.9291015267372, 31.8222776055336, -83.9120...</td>\n",
       "    </tr>\n",
       "    <tr>\n",
       "      <th>1</th>\n",
       "      <td>158851900</td>\n",
       "      <td>worcester</td>\n",
       "      <td>Worcester</td>\n",
       "      <td>worcester county</td>\n",
       "      <td>massachusetts</td>\n",
       "      <td>[-71.8154652712922, 42.2678737342358]</td>\n",
       "      <td>[-71.8840424716473, 42.2100399434566, -71.7312...</td>\n",
       "      <td>[-71.8840424716473, 42.2100399434566, -71.7312...</td>\n",
       "    </tr>\n",
       "  </tbody>\n",
       "</table>\n",
       "</div>"
      ],
      "text/plain": [
       "          id       city found name            county          state  \\\n",
       "0     119776    warwick    Warwick      Worth County        georgia   \n",
       "1  158851900  worcester  Worcester  worcester county  massachusetts   \n",
       "\n",
       "                                centroid  \\\n",
       "0  [-83.9205776783726, 31.8303624540567]   \n",
       "1  [-71.8154652712922, 42.2678737342358]   \n",
       "\n",
       "                                            position  \\\n",
       "0  [-83.9291015267372, 31.8222776055336, -83.9120...   \n",
       "1  [-71.8840424716473, 42.2100399434566, -71.7312...   \n",
       "\n",
       "                                               limit  \n",
       "0  [-83.9291015267372, 31.8222776055336, -83.9120...  \n",
       "1  [-71.8840424716473, 42.2100399434566, -71.7312...  "
      ]
     },
     "execution_count": 12,
     "metadata": {},
     "output_type": "execute_result"
    }
   ],
   "source": [
    "# Parents should have same length as names\n",
    "geocode_cities(['warwick', 'worcester'])\\\n",
    "    .counties(['Worth County', 'worcester county'])\\\n",
    "    .states(['georgia', 'massachusetts'])\\\n",
    "    .get_geocodes()"
   ]
  },
  {
   "cell_type": "code",
   "execution_count": 13,
   "metadata": {
    "execution": {
     "iopub.execute_input": "2024-11-07T09:08:55.074428Z",
     "iopub.status.busy": "2024-11-07T09:08:55.074227Z",
     "iopub.status.idle": "2024-11-07T09:08:55.436109Z",
     "shell.execute_reply": "2024-11-07T09:08:55.435688Z"
    }
   },
   "outputs": [
    {
     "data": {
      "text/html": [
       "<div>\n",
       "<style scoped>\n",
       "    .dataframe tbody tr th:only-of-type {\n",
       "        vertical-align: middle;\n",
       "    }\n",
       "\n",
       "    .dataframe tbody tr th {\n",
       "        vertical-align: top;\n",
       "    }\n",
       "\n",
       "    .dataframe thead th {\n",
       "        text-align: right;\n",
       "    }\n",
       "</style>\n",
       "<table border=\"1\" class=\"dataframe\">\n",
       "  <thead>\n",
       "    <tr style=\"text-align: right;\">\n",
       "      <th></th>\n",
       "      <th>id</th>\n",
       "      <th>city</th>\n",
       "      <th>found name</th>\n",
       "      <th>state</th>\n",
       "      <th>country</th>\n",
       "      <th>centroid</th>\n",
       "      <th>position</th>\n",
       "      <th>limit</th>\n",
       "    </tr>\n",
       "  </thead>\n",
       "  <tbody>\n",
       "    <tr>\n",
       "      <th>0</th>\n",
       "      <td>119776</td>\n",
       "      <td>warwick</td>\n",
       "      <td>Warwick</td>\n",
       "      <td>Georgia</td>\n",
       "      <td>USA</td>\n",
       "      <td>[-83.9205776783726, 31.8303624540567]</td>\n",
       "      <td>[-83.9291015267372, 31.8222776055336, -83.9120...</td>\n",
       "      <td>[-83.9291015267372, 31.8222776055336, -83.9120...</td>\n",
       "    </tr>\n",
       "    <tr>\n",
       "      <th>1</th>\n",
       "      <td>20971097</td>\n",
       "      <td>worcester</td>\n",
       "      <td>Worcester</td>\n",
       "      <td>None</td>\n",
       "      <td>United Kingdom</td>\n",
       "      <td>[-2.2095610731112, 52.1965283900499]</td>\n",
       "      <td>[-2.2632023692131, 52.1616362035275, -2.157303...</td>\n",
       "      <td>[-2.2632023692131, 52.1616362035275, -2.157303...</td>\n",
       "    </tr>\n",
       "  </tbody>\n",
       "</table>\n",
       "</div>"
      ],
      "text/plain": [
       "         id       city found name    state         country  \\\n",
       "0    119776    warwick    Warwick  Georgia             USA   \n",
       "1  20971097  worcester  Worcester     None  United Kingdom   \n",
       "\n",
       "                                centroid  \\\n",
       "0  [-83.9205776783726, 31.8303624540567]   \n",
       "1   [-2.2095610731112, 52.1965283900499]   \n",
       "\n",
       "                                            position  \\\n",
       "0  [-83.9291015267372, 31.8222776055336, -83.9120...   \n",
       "1  [-2.2632023692131, 52.1616362035275, -2.157303...   \n",
       "\n",
       "                                               limit  \n",
       "0  [-83.9291015267372, 31.8222776055336, -83.9120...  \n",
       "1  [-2.2632023692131, 52.1616362035275, -2.157303...  "
      ]
     },
     "execution_count": 13,
     "metadata": {},
     "output_type": "execute_result"
    }
   ],
   "source": [
    "# Parents can contain None items (e.g., countries with different administrative divisions).\n",
    "geocode_cities(['warwick', 'worcester'])\\\n",
    "    .states(['Georgia', None])\\\n",
    "    .countries(['USA', 'United Kingdom'])\\\n",
    "    .get_geocodes()"
   ]
  },
  {
   "cell_type": "code",
   "execution_count": 14,
   "metadata": {
    "execution": {
     "iopub.execute_input": "2024-11-07T09:08:55.438241Z",
     "iopub.status.busy": "2024-11-07T09:08:55.437908Z",
     "iopub.status.idle": "2024-11-07T09:08:56.003531Z",
     "shell.execute_reply": "2024-11-07T09:08:56.002886Z"
    }
   },
   "outputs": [
    {
     "data": {
      "text/html": [
       "<div>\n",
       "<style scoped>\n",
       "    .dataframe tbody tr th:only-of-type {\n",
       "        vertical-align: middle;\n",
       "    }\n",
       "\n",
       "    .dataframe tbody tr th {\n",
       "        vertical-align: top;\n",
       "    }\n",
       "\n",
       "    .dataframe thead th {\n",
       "        text-align: right;\n",
       "    }\n",
       "</style>\n",
       "<table border=\"1\" class=\"dataframe\">\n",
       "  <thead>\n",
       "    <tr style=\"text-align: right;\">\n",
       "      <th></th>\n",
       "      <th>id</th>\n",
       "      <th>state</th>\n",
       "      <th>found name</th>\n",
       "      <th>centroid</th>\n",
       "      <th>position</th>\n",
       "      <th>limit</th>\n",
       "    </tr>\n",
       "  </thead>\n",
       "  <tbody>\n",
       "    <tr>\n",
       "      <th>0</th>\n",
       "      <td>60759</td>\n",
       "      <td>vermont</td>\n",
       "      <td>Vermont</td>\n",
       "      <td>[-72.772353529363, 43.8718488067389]</td>\n",
       "      <td>[-73.4377402067184, 42.7269606292248, -71.4653...</td>\n",
       "      <td>[-73.4377402067184, 42.7269606292248, -71.4653...</td>\n",
       "    </tr>\n",
       "    <tr>\n",
       "      <th>1</th>\n",
       "      <td>161957</td>\n",
       "      <td>georgia</td>\n",
       "      <td>Georgia</td>\n",
       "      <td>[-83.2514879869572, 32.6792977005243]</td>\n",
       "      <td>[-85.6052421033382, 30.3557570278645, -80.8400...</td>\n",
       "      <td>[-85.6052421033382, 30.3557570278645, -80.8400...</td>\n",
       "    </tr>\n",
       "  </tbody>\n",
       "</table>\n",
       "</div>"
      ],
      "text/plain": [
       "       id    state found name                               centroid  \\\n",
       "0   60759  vermont    Vermont   [-72.772353529363, 43.8718488067389]   \n",
       "1  161957  georgia    Georgia  [-83.2514879869572, 32.6792977005243]   \n",
       "\n",
       "                                            position  \\\n",
       "0  [-73.4377402067184, 42.7269606292248, -71.4653...   \n",
       "1  [-85.6052421033382, 30.3557570278645, -80.8400...   \n",
       "\n",
       "                                               limit  \n",
       "0  [-73.4377402067184, 42.7269606292248, -71.4653...  \n",
       "1  [-85.6052421033382, 30.3557570278645, -80.8400...  "
      ]
     },
     "metadata": {},
     "output_type": "display_data"
    },
    {
     "data": {
      "text/html": [
       "<div>\n",
       "<style scoped>\n",
       "    .dataframe tbody tr th:only-of-type {\n",
       "        vertical-align: middle;\n",
       "    }\n",
       "\n",
       "    .dataframe tbody tr th {\n",
       "        vertical-align: top;\n",
       "    }\n",
       "\n",
       "    .dataframe thead th {\n",
       "        text-align: right;\n",
       "    }\n",
       "</style>\n",
       "<table border=\"1\" class=\"dataframe\">\n",
       "  <thead>\n",
       "    <tr style=\"text-align: right;\">\n",
       "      <th></th>\n",
       "      <th>id</th>\n",
       "      <th>city</th>\n",
       "      <th>found name</th>\n",
       "      <th>state</th>\n",
       "      <th>centroid</th>\n",
       "      <th>position</th>\n",
       "      <th>limit</th>\n",
       "    </tr>\n",
       "  </thead>\n",
       "  <tbody>\n",
       "    <tr>\n",
       "      <th>0</th>\n",
       "      <td>8898137</td>\n",
       "      <td>worcester</td>\n",
       "      <td>Worcester</td>\n",
       "      <td>vermont</td>\n",
       "      <td>[-72.5724501055639, 44.4132962822914]</td>\n",
       "      <td>[-72.6543393731117, 44.3454243242741, -72.4935...</td>\n",
       "      <td>[-72.6543393731117, 44.3454243242741, -72.4935...</td>\n",
       "    </tr>\n",
       "    <tr>\n",
       "      <th>1</th>\n",
       "      <td>119776</td>\n",
       "      <td>warwick</td>\n",
       "      <td>Warwick</td>\n",
       "      <td>georgia</td>\n",
       "      <td>[-83.9205776783726, 31.8303624540567]</td>\n",
       "      <td>[-83.9291015267372, 31.8222776055336, -83.9120...</td>\n",
       "      <td>[-83.9291015267372, 31.8222776055336, -83.9120...</td>\n",
       "    </tr>\n",
       "  </tbody>\n",
       "</table>\n",
       "</div>"
      ],
      "text/plain": [
       "        id       city found name    state  \\\n",
       "0  8898137  worcester  Worcester  vermont   \n",
       "1   119776    warwick    Warwick  georgia   \n",
       "\n",
       "                                centroid  \\\n",
       "0  [-72.5724501055639, 44.4132962822914]   \n",
       "1  [-83.9205776783726, 31.8303624540567]   \n",
       "\n",
       "                                            position  \\\n",
       "0  [-72.6543393731117, 44.3454243242741, -72.4935...   \n",
       "1  [-83.9291015267372, 31.8222776055336, -83.9120...   \n",
       "\n",
       "                                               limit  \n",
       "0  [-72.6543393731117, 44.3454243242741, -72.4935...  \n",
       "1  [-83.9291015267372, 31.8222776055336, -83.9120...  "
      ]
     },
     "metadata": {},
     "output_type": "display_data"
    }
   ],
   "source": [
    "# Geocoder object can be used as parent. Number of entries should be same as the number of names.\n",
    "s = geocode_states(['vermont', 'georgia']).scope('usa')\n",
    "display(s.get_geocodes())\n",
    "\n",
    "# NB: Parent request will be present in result as a column.\n",
    "display(geocode_cities(['worcester', 'warwick']).states(s).get_geocodes())"
   ]
  },
  {
   "cell_type": "code",
   "execution_count": 15,
   "metadata": {
    "execution": {
     "iopub.execute_input": "2024-11-07T09:08:56.006312Z",
     "iopub.status.busy": "2024-11-07T09:08:56.006055Z",
     "iopub.status.idle": "2024-11-07T09:08:56.281444Z",
     "shell.execute_reply": "2024-11-07T09:08:56.280815Z"
    }
   },
   "outputs": [
    {
     "data": {
      "text/html": [
       "<div>\n",
       "<style scoped>\n",
       "    .dataframe tbody tr th:only-of-type {\n",
       "        vertical-align: middle;\n",
       "    }\n",
       "\n",
       "    .dataframe tbody tr th {\n",
       "        vertical-align: top;\n",
       "    }\n",
       "\n",
       "    .dataframe thead th {\n",
       "        text-align: right;\n",
       "    }\n",
       "</style>\n",
       "<table border=\"1\" class=\"dataframe\">\n",
       "  <thead>\n",
       "    <tr style=\"text-align: right;\">\n",
       "      <th></th>\n",
       "      <th>id</th>\n",
       "      <th>county</th>\n",
       "      <th>found name</th>\n",
       "      <th>state</th>\n",
       "      <th>centroid</th>\n",
       "      <th>position</th>\n",
       "      <th>limit</th>\n",
       "    </tr>\n",
       "  </thead>\n",
       "  <tbody>\n",
       "    <tr>\n",
       "      <th>0</th>\n",
       "      <td>1425447</td>\n",
       "      <td>Dakota County</td>\n",
       "      <td>Dakota County</td>\n",
       "      <td>NE</td>\n",
       "      <td>[-96.5715826334556, 42.4019493162632]</td>\n",
       "      <td>[-96.7274482548237, 42.2765184938908, -96.3566...</td>\n",
       "      <td>[-96.7274482548237, 42.2765184938908, -96.3566...</td>\n",
       "    </tr>\n",
       "    <tr>\n",
       "      <th>1</th>\n",
       "      <td>1826825</td>\n",
       "      <td>Nevada County</td>\n",
       "      <td>Nevada County</td>\n",
       "      <td>AR</td>\n",
       "      <td>[-93.2913903139467, 33.6979349702597]</td>\n",
       "      <td>[-93.4838207066059, 33.4403765201569, -93.1042...</td>\n",
       "      <td>[-93.4838207066059, 33.4403765201569, -93.1042...</td>\n",
       "    </tr>\n",
       "  </tbody>\n",
       "</table>\n",
       "</div>"
      ],
      "text/plain": [
       "        id         county     found name state  \\\n",
       "0  1425447  Dakota County  Dakota County    NE   \n",
       "1  1826825  Nevada County  Nevada County    AR   \n",
       "\n",
       "                                centroid  \\\n",
       "0  [-96.5715826334556, 42.4019493162632]   \n",
       "1  [-93.2913903139467, 33.6979349702597]   \n",
       "\n",
       "                                            position  \\\n",
       "0  [-96.7274482548237, 42.2765184938908, -96.3566...   \n",
       "1  [-93.4838207066059, 33.4403765201569, -93.1042...   \n",
       "\n",
       "                                               limit  \n",
       "0  [-96.7274482548237, 42.2765184938908, -96.3566...  \n",
       "1  [-93.4838207066059, 33.4403765201569, -93.1042...  "
      ]
     },
     "execution_count": 15,
     "metadata": {},
     "output_type": "execute_result"
    }
   ],
   "source": [
    "# counties and states can be combined with scope. scope acts as a top level parent.\n",
    "geocode_counties(['Dakota County', 'Nevada County']).states(['NE', 'AR']).scope('USA').get_geocodes()"
   ]
  },
  {
   "cell_type": "code",
   "execution_count": 16,
   "metadata": {
    "execution": {
     "iopub.execute_input": "2024-11-07T09:08:56.284453Z",
     "iopub.status.busy": "2024-11-07T09:08:56.284181Z",
     "iopub.status.idle": "2024-11-07T09:08:56.288620Z",
     "shell.execute_reply": "2024-11-07T09:08:56.288190Z"
    }
   },
   "outputs": [
    {
     "data": {
      "text/markdown": [
       "<span style=\"color: #ff0000\">Invalid request: countries and scope can't be used simultaneously</span>"
      ],
      "text/plain": [
       "<IPython.core.display.Markdown object>"
      ]
     },
     "metadata": {},
     "output_type": "display_data"
    }
   ],
   "source": [
    "# scope can't be combined with countries - geocoding won't try to guess what level is it\n",
    "run_catching(\n",
    "    lambda: geocode_counties('Nevada County').countries('usa').scope('Arizona').get_geocodes()\n",
    ")"
   ]
  },
  {
   "cell_type": "code",
   "execution_count": 17,
   "metadata": {
    "execution": {
     "iopub.execute_input": "2024-11-07T09:08:56.290734Z",
     "iopub.status.busy": "2024-11-07T09:08:56.290392Z",
     "iopub.status.idle": "2024-11-07T09:08:56.293785Z",
     "shell.execute_reply": "2024-11-07T09:08:56.293411Z"
    }
   },
   "outputs": [
    {
     "data": {
      "text/markdown": [
       "<span style=\"color: #ff0000\">Invalid request: countries count(1) != names count(2)</span>"
      ],
      "text/plain": [
       "<IPython.core.display.Markdown object>"
      ]
     },
     "metadata": {},
     "output_type": "display_data"
    }
   ],
   "source": [
    "# Parents and names should have same length\n",
    "run_catching(\n",
    "    lambda: geocode_states(['florida', 'rivera']).countries('uruguay').get_geocodes()\n",
    ")"
   ]
  },
  {
   "cell_type": "code",
   "execution_count": 18,
   "metadata": {
    "execution": {
     "iopub.execute_input": "2024-11-07T09:08:56.295430Z",
     "iopub.status.busy": "2024-11-07T09:08:56.295304Z",
     "iopub.status.idle": "2024-11-07T09:08:56.517630Z",
     "shell.execute_reply": "2024-11-07T09:08:56.516706Z"
    }
   },
   "outputs": [
    {
     "data": {
      "text/markdown": [
       "<span style=\"color: #ff0000\">Invalid request: countries count(1) != names count(2)</span>"
      ],
      "text/plain": [
       "<IPython.core.display.Markdown object>"
      ]
     },
     "metadata": {},
     "output_type": "display_data"
    }
   ],
   "source": [
    "# Same for Geocoder\n",
    "countries = geocode_countries('uruguay')\n",
    "run_catching(\n",
    "    lambda: geocode_states(['florida', 'rivera']).countries(countries).get_geocodes()\n",
    ")"
   ]
  },
  {
   "cell_type": "markdown",
   "metadata": {},
   "source": [
    "### Ignoring an ambiguity"
   ]
  },
  {
   "cell_type": "code",
   "execution_count": 19,
   "metadata": {
    "execution": {
     "iopub.execute_input": "2024-11-07T09:08:56.521049Z",
     "iopub.status.busy": "2024-11-07T09:08:56.520740Z",
     "iopub.status.idle": "2024-11-07T09:08:56.778325Z",
     "shell.execute_reply": "2024-11-07T09:08:56.777752Z"
    }
   },
   "outputs": [
    {
     "data": {
      "text/markdown": [
       "<span style=\"color: #ff0000\">Multiple objects (15) were found for warwick:\n",
       "- Warwick (United States, Georgia, Worth County)\n",
       "- Warwick (United States, New York, Orange County)\n",
       "- Warwick (United Kingdom, England, West Midlands, Warwickshire)\n",
       "- Warwick (United States, North Dakota, Benson County)\n",
       "- Warwick (United States, Oklahoma, Lincoln County)\n",
       "- Warwick (Canada, Ontario, Southwestern Ontario, Lambton County)\n",
       "- Warwick (United States, Massachusetts, Franklin County)\n",
       "- Warwick (United States, Rhode Island, Kent County)\n",
       "- Warwick (Canada, Arthabaska, Québec, Centre-du-Québec)\n",
       "- Warwick (Australia, Queensland)\n",
       "Multiple objects (5) were found for worcester:\n",
       "- Worcester (United States, Vermont, Washington County)\n",
       "- Worcester (United Kingdom, England, West Midlands, Worcestershire)\n",
       "- Worcester (South Africa, Western Cape, Cape Winelands District Municipality)\n",
       "- Worcester (United States, Massachusetts, Worcester County)\n",
       "- Worcester Township (United States, Pennsylvania, Montgomery County)\n",
       "</span>"
      ],
      "text/plain": [
       "<IPython.core.display.Markdown object>"
      ]
     },
     "metadata": {},
     "output_type": "display_data"
    }
   ],
   "source": [
    "# Ambiguous result generates an error:\n",
    "run_catching(\n",
    "    lambda: geocode_cities(['warwick', 'worcester']).get_geocodes()\n",
    ")"
   ]
  },
  {
   "cell_type": "code",
   "execution_count": 20,
   "metadata": {
    "execution": {
     "iopub.execute_input": "2024-11-07T09:08:56.781133Z",
     "iopub.status.busy": "2024-11-07T09:08:56.780880Z",
     "iopub.status.idle": "2024-11-07T09:08:57.042996Z",
     "shell.execute_reply": "2024-11-07T09:08:57.042611Z"
    }
   },
   "outputs": [
    {
     "data": {
      "text/html": [
       "<div>\n",
       "<style scoped>\n",
       "    .dataframe tbody tr th:only-of-type {\n",
       "        vertical-align: middle;\n",
       "    }\n",
       "\n",
       "    .dataframe tbody tr th {\n",
       "        vertical-align: top;\n",
       "    }\n",
       "\n",
       "    .dataframe thead th {\n",
       "        text-align: right;\n",
       "    }\n",
       "</style>\n",
       "<table border=\"1\" class=\"dataframe\">\n",
       "  <thead>\n",
       "    <tr style=\"text-align: right;\">\n",
       "      <th></th>\n",
       "      <th>id</th>\n",
       "      <th>city</th>\n",
       "      <th>found name</th>\n",
       "      <th>centroid</th>\n",
       "      <th>position</th>\n",
       "      <th>limit</th>\n",
       "    </tr>\n",
       "  </thead>\n",
       "  <tbody>\n",
       "    <tr>\n",
       "      <th>0</th>\n",
       "      <td>119776</td>\n",
       "      <td>warwick</td>\n",
       "      <td>Warwick</td>\n",
       "      <td>[-83.9205776783726, 31.8303624540567]</td>\n",
       "      <td>[-83.9291015267372, 31.8222776055336, -83.9120...</td>\n",
       "      <td>[-83.9291015267372, 31.8222776055336, -83.9120...</td>\n",
       "    </tr>\n",
       "    <tr>\n",
       "      <th>1</th>\n",
       "      <td>176086</td>\n",
       "      <td>warwick</td>\n",
       "      <td>Warwick</td>\n",
       "      <td>[-74.3590787617065, 41.2538411468267]</td>\n",
       "      <td>[-74.374563395977, 41.2334154546261, -74.33202...</td>\n",
       "      <td>[-74.374563395977, 41.2334154546261, -74.33202...</td>\n",
       "    </tr>\n",
       "    <tr>\n",
       "      <th>2</th>\n",
       "      <td>176448</td>\n",
       "      <td>warwick</td>\n",
       "      <td>Warwick</td>\n",
       "      <td>[-1.58227695103754, 52.3015402257442]</td>\n",
       "      <td>[-1.78017809987068, 52.2137045860291, -1.40608...</td>\n",
       "      <td>[-1.78017809987068, 52.2137045860291, -1.40608...</td>\n",
       "    </tr>\n",
       "    <tr>\n",
       "      <th>3</th>\n",
       "      <td>181594</td>\n",
       "      <td>warwick</td>\n",
       "      <td>Warwick</td>\n",
       "      <td>[-98.7057320814883, 47.8541030734777]</td>\n",
       "      <td>[-98.7164886295795, 47.8475135564804, -98.6948...</td>\n",
       "      <td>[-98.7164886295795, 47.8475135564804, -98.6948...</td>\n",
       "    </tr>\n",
       "    <tr>\n",
       "      <th>4</th>\n",
       "      <td>184249</td>\n",
       "      <td>warwick</td>\n",
       "      <td>Warwick</td>\n",
       "      <td>[-96.9995924696813, 35.6883452832699]</td>\n",
       "      <td>[-97.0261216163635, 35.6740544736385, -96.9776...</td>\n",
       "      <td>[-97.0261216163635, 35.6740544736385, -96.9776...</td>\n",
       "    </tr>\n",
       "    <tr>\n",
       "      <th>5</th>\n",
       "      <td>4072420</td>\n",
       "      <td>warwick</td>\n",
       "      <td>Warwick</td>\n",
       "      <td>[-81.8960721893947, 43.0157359689474]</td>\n",
       "      <td>[-82.0060113072395, 42.9303230345249, -81.7887...</td>\n",
       "      <td>[-82.0060113072395, 42.9303230345249, -81.7887...</td>\n",
       "    </tr>\n",
       "    <tr>\n",
       "      <th>6</th>\n",
       "      <td>158818247</td>\n",
       "      <td>warwick</td>\n",
       "      <td>Warwick</td>\n",
       "      <td>[-72.3365538645007, 42.667919844389]</td>\n",
       "      <td>[-72.4120393395424, 42.6094262301922, -72.2719...</td>\n",
       "      <td>[-72.4120393395424, 42.6094262301922, -72.2719...</td>\n",
       "    </tr>\n",
       "    <tr>\n",
       "      <th>7</th>\n",
       "      <td>158863860</td>\n",
       "      <td>warwick</td>\n",
       "      <td>Warwick</td>\n",
       "      <td>[-71.4332938210472, 41.715542525053]</td>\n",
       "      <td>[-71.5189133584499, 41.6628210246563, -71.3564...</td>\n",
       "      <td>[-71.5189133584499, 41.6293966770172, -71.3564...</td>\n",
       "    </tr>\n",
       "    <tr>\n",
       "      <th>8</th>\n",
       "      <td>159726256</td>\n",
       "      <td>warwick</td>\n",
       "      <td>Warwick</td>\n",
       "      <td>[-72.0051031618881, 45.952380001545]</td>\n",
       "      <td>[-72.0792764425278, 45.8764761686325, -71.9089...</td>\n",
       "      <td>[-72.0792764425278, 45.8764761686325, -71.9089...</td>\n",
       "    </tr>\n",
       "    <tr>\n",
       "      <th>9</th>\n",
       "      <td>1817489924</td>\n",
       "      <td>warwick</td>\n",
       "      <td>Warwick</td>\n",
       "      <td>[152.032703831792, -28.2163204997778]</td>\n",
       "      <td>[152.023720443249, -28.224236369133, 152.04168...</td>\n",
       "      <td>[152.023720443249, -28.224236369133, 152.04168...</td>\n",
       "    </tr>\n",
       "    <tr>\n",
       "      <th>10</th>\n",
       "      <td>3049373</td>\n",
       "      <td>warwick</td>\n",
       "      <td>Warwick Township</td>\n",
       "      <td>[-75.757813608352, 40.1801763474941]</td>\n",
       "      <td>[-75.8212745189667, 40.1465494930744, -75.6930...</td>\n",
       "      <td>[-75.8212745189667, 40.1465494930744, -75.6930...</td>\n",
       "    </tr>\n",
       "    <tr>\n",
       "      <th>11</th>\n",
       "      <td>3521480</td>\n",
       "      <td>warwick</td>\n",
       "      <td>Warwick Township</td>\n",
       "      <td>[-75.0764330968138, 40.2491855621338]</td>\n",
       "      <td>[-75.1225188374519, 40.2152167260647, -75.0345...</td>\n",
       "      <td>[-75.1225188374519, 40.2152167260647, -75.0345...</td>\n",
       "    </tr>\n",
       "    <tr>\n",
       "      <th>12</th>\n",
       "      <td>9244563</td>\n",
       "      <td>warwick</td>\n",
       "      <td>Warwick Mountain</td>\n",
       "      <td>[-63.3714760496144, 45.5978938937187]</td>\n",
       "      <td>[-63.4091444313526, 45.5644172430038, -63.3474...</td>\n",
       "      <td>[-63.4091444313526, 45.5644172430038, -63.3474...</td>\n",
       "    </tr>\n",
       "    <tr>\n",
       "      <th>13</th>\n",
       "      <td>158903676</td>\n",
       "      <td>warwick</td>\n",
       "      <td>West Warwick</td>\n",
       "      <td>[-71.5257788638961, 41.6969098895788]</td>\n",
       "      <td>[-71.5342850983143, 41.6620793938637, -71.4839...</td>\n",
       "      <td>[-71.5342850983143, 41.6620793938637, -71.4839...</td>\n",
       "    </tr>\n",
       "    <tr>\n",
       "      <th>14</th>\n",
       "      <td>7997266</td>\n",
       "      <td>warwick</td>\n",
       "      <td>Sainte-Élizabeth-de-Warwick</td>\n",
       "      <td>[-72.1010115992802, 45.9195195883512]</td>\n",
       "      <td>[-72.1493585407734, 45.8681344985962, -72.0435...</td>\n",
       "      <td>[-72.1493585407734, 45.8681344985962, -72.0435...</td>\n",
       "    </tr>\n",
       "    <tr>\n",
       "      <th>15</th>\n",
       "      <td>8898137</td>\n",
       "      <td>worcester</td>\n",
       "      <td>Worcester</td>\n",
       "      <td>[-72.5724501055639, 44.4132962822914]</td>\n",
       "      <td>[-72.6543393731117, 44.3454243242741, -72.4935...</td>\n",
       "      <td>[-72.6543393731117, 44.3454243242741, -72.4935...</td>\n",
       "    </tr>\n",
       "    <tr>\n",
       "      <th>16</th>\n",
       "      <td>20971097</td>\n",
       "      <td>worcester</td>\n",
       "      <td>Worcester</td>\n",
       "      <td>[-2.2095610731112, 52.1965283900499]</td>\n",
       "      <td>[-2.2632023692131, 52.1616362035275, -2.157303...</td>\n",
       "      <td>[-2.2632023692131, 52.1616362035275, -2.157303...</td>\n",
       "    </tr>\n",
       "    <tr>\n",
       "      <th>17</th>\n",
       "      <td>30670038</td>\n",
       "      <td>worcester</td>\n",
       "      <td>Worcester</td>\n",
       "      <td>[19.4459268450737, -33.6462374031544]</td>\n",
       "      <td>[19.4369441270828, -33.6537154018879, 19.45490...</td>\n",
       "      <td>[19.4369441270828, -33.6537154018879, 19.45490...</td>\n",
       "    </tr>\n",
       "    <tr>\n",
       "      <th>18</th>\n",
       "      <td>158851900</td>\n",
       "      <td>worcester</td>\n",
       "      <td>Worcester</td>\n",
       "      <td>[-71.8154652712922, 42.2678737342358]</td>\n",
       "      <td>[-71.8840424716473, 42.2100399434566, -71.7312...</td>\n",
       "      <td>[-71.8840424716473, 42.2100399434566, -71.7312...</td>\n",
       "    </tr>\n",
       "    <tr>\n",
       "      <th>19</th>\n",
       "      <td>3076291</td>\n",
       "      <td>worcester</td>\n",
       "      <td>Worcester Township</td>\n",
       "      <td>[-75.3438698875367, 40.1926231384277]</td>\n",
       "      <td>[-75.4107637703419, 40.1558580994606, -75.2932...</td>\n",
       "      <td>[-75.4107637703419, 40.1558580994606, -75.2932...</td>\n",
       "    </tr>\n",
       "  </tbody>\n",
       "</table>\n",
       "</div>"
      ],
      "text/plain": [
       "            id       city                   found name  \\\n",
       "0       119776    warwick                      Warwick   \n",
       "1       176086    warwick                      Warwick   \n",
       "2       176448    warwick                      Warwick   \n",
       "3       181594    warwick                      Warwick   \n",
       "4       184249    warwick                      Warwick   \n",
       "5      4072420    warwick                      Warwick   \n",
       "6    158818247    warwick                      Warwick   \n",
       "7    158863860    warwick                      Warwick   \n",
       "8    159726256    warwick                      Warwick   \n",
       "9   1817489924    warwick                      Warwick   \n",
       "10     3049373    warwick             Warwick Township   \n",
       "11     3521480    warwick             Warwick Township   \n",
       "12     9244563    warwick             Warwick Mountain   \n",
       "13   158903676    warwick                 West Warwick   \n",
       "14     7997266    warwick  Sainte-Élizabeth-de-Warwick   \n",
       "15     8898137  worcester                    Worcester   \n",
       "16    20971097  worcester                    Worcester   \n",
       "17    30670038  worcester                    Worcester   \n",
       "18   158851900  worcester                    Worcester   \n",
       "19     3076291  worcester           Worcester Township   \n",
       "\n",
       "                                 centroid  \\\n",
       "0   [-83.9205776783726, 31.8303624540567]   \n",
       "1   [-74.3590787617065, 41.2538411468267]   \n",
       "2   [-1.58227695103754, 52.3015402257442]   \n",
       "3   [-98.7057320814883, 47.8541030734777]   \n",
       "4   [-96.9995924696813, 35.6883452832699]   \n",
       "5   [-81.8960721893947, 43.0157359689474]   \n",
       "6    [-72.3365538645007, 42.667919844389]   \n",
       "7    [-71.4332938210472, 41.715542525053]   \n",
       "8    [-72.0051031618881, 45.952380001545]   \n",
       "9   [152.032703831792, -28.2163204997778]   \n",
       "10   [-75.757813608352, 40.1801763474941]   \n",
       "11  [-75.0764330968138, 40.2491855621338]   \n",
       "12  [-63.3714760496144, 45.5978938937187]   \n",
       "13  [-71.5257788638961, 41.6969098895788]   \n",
       "14  [-72.1010115992802, 45.9195195883512]   \n",
       "15  [-72.5724501055639, 44.4132962822914]   \n",
       "16   [-2.2095610731112, 52.1965283900499]   \n",
       "17  [19.4459268450737, -33.6462374031544]   \n",
       "18  [-71.8154652712922, 42.2678737342358]   \n",
       "19  [-75.3438698875367, 40.1926231384277]   \n",
       "\n",
       "                                             position  \\\n",
       "0   [-83.9291015267372, 31.8222776055336, -83.9120...   \n",
       "1   [-74.374563395977, 41.2334154546261, -74.33202...   \n",
       "2   [-1.78017809987068, 52.2137045860291, -1.40608...   \n",
       "3   [-98.7164886295795, 47.8475135564804, -98.6948...   \n",
       "4   [-97.0261216163635, 35.6740544736385, -96.9776...   \n",
       "5   [-82.0060113072395, 42.9303230345249, -81.7887...   \n",
       "6   [-72.4120393395424, 42.6094262301922, -72.2719...   \n",
       "7   [-71.5189133584499, 41.6628210246563, -71.3564...   \n",
       "8   [-72.0792764425278, 45.8764761686325, -71.9089...   \n",
       "9   [152.023720443249, -28.224236369133, 152.04168...   \n",
       "10  [-75.8212745189667, 40.1465494930744, -75.6930...   \n",
       "11  [-75.1225188374519, 40.2152167260647, -75.0345...   \n",
       "12  [-63.4091444313526, 45.5644172430038, -63.3474...   \n",
       "13  [-71.5342850983143, 41.6620793938637, -71.4839...   \n",
       "14  [-72.1493585407734, 45.8681344985962, -72.0435...   \n",
       "15  [-72.6543393731117, 44.3454243242741, -72.4935...   \n",
       "16  [-2.2632023692131, 52.1616362035275, -2.157303...   \n",
       "17  [19.4369441270828, -33.6537154018879, 19.45490...   \n",
       "18  [-71.8840424716473, 42.2100399434566, -71.7312...   \n",
       "19  [-75.4107637703419, 40.1558580994606, -75.2932...   \n",
       "\n",
       "                                                limit  \n",
       "0   [-83.9291015267372, 31.8222776055336, -83.9120...  \n",
       "1   [-74.374563395977, 41.2334154546261, -74.33202...  \n",
       "2   [-1.78017809987068, 52.2137045860291, -1.40608...  \n",
       "3   [-98.7164886295795, 47.8475135564804, -98.6948...  \n",
       "4   [-97.0261216163635, 35.6740544736385, -96.9776...  \n",
       "5   [-82.0060113072395, 42.9303230345249, -81.7887...  \n",
       "6   [-72.4120393395424, 42.6094262301922, -72.2719...  \n",
       "7   [-71.5189133584499, 41.6293966770172, -71.3564...  \n",
       "8   [-72.0792764425278, 45.8764761686325, -71.9089...  \n",
       "9   [152.023720443249, -28.224236369133, 152.04168...  \n",
       "10  [-75.8212745189667, 40.1465494930744, -75.6930...  \n",
       "11  [-75.1225188374519, 40.2152167260647, -75.0345...  \n",
       "12  [-63.4091444313526, 45.5644172430038, -63.3474...  \n",
       "13  [-71.5342850983143, 41.6620793938637, -71.4839...  \n",
       "14  [-72.1493585407734, 45.8681344985962, -72.0435...  \n",
       "15  [-72.6543393731117, 44.3454243242741, -72.4935...  \n",
       "16  [-2.2632023692131, 52.1616362035275, -2.157303...  \n",
       "17  [19.4369441270828, -33.6537154018879, 19.45490...  \n",
       "18  [-71.8840424716473, 42.2100399434566, -71.7312...  \n",
       "19  [-75.4107637703419, 40.1558580994606, -75.2932...  "
      ]
     },
     "execution_count": 20,
     "metadata": {},
     "output_type": "execute_result"
    }
   ],
   "source": [
    "# Ambiguous result can be converted to a matching result (e.g., for drawing on a map)\n",
    "geocode_cities(['warwick', 'worcester']).allow_ambiguous().get_geocodes()"
   ]
  },
  {
   "cell_type": "code",
   "execution_count": 21,
   "metadata": {
    "execution": {
     "iopub.execute_input": "2024-11-07T09:08:57.044639Z",
     "iopub.status.busy": "2024-11-07T09:08:57.044497Z",
     "iopub.status.idle": "2024-11-07T09:08:57.541234Z",
     "shell.execute_reply": "2024-11-07T09:08:57.540432Z"
    }
   },
   "outputs": [
    {
     "data": {
      "text/markdown": [
       "<span style=\"color: #ff0000\">No objects were found for foo.\n",
       "</span>"
      ],
      "text/plain": [
       "<IPython.core.display.Markdown object>"
      ]
     },
     "metadata": {},
     "output_type": "display_data"
    },
    {
     "data": {
      "text/markdown": [
       "<span style=\"color: #ff0000\">Region is not found: foo</span>"
      ],
      "text/plain": [
       "<IPython.core.display.Markdown object>"
      ]
     },
     "metadata": {},
     "output_type": "display_data"
    }
   ],
   "source": [
    "# Missing name gives an error\n",
    "run_catching(\n",
    "    lambda: geocode_cities(names=['paris', 'worcester', 'foo']).get_geocodes()\n",
    ")\n",
    "\n",
    "# Missing parent also gives an error\n",
    "run_catching(\n",
    "    lambda: geocode_cities('paris').countries('foo').get_geocodes()\n",
    ")"
   ]
  },
  {
   "cell_type": "code",
   "execution_count": 22,
   "metadata": {
    "execution": {
     "iopub.execute_input": "2024-11-07T09:08:57.544180Z",
     "iopub.status.busy": "2024-11-07T09:08:57.543935Z",
     "iopub.status.idle": "2024-11-07T09:08:59.173363Z",
     "shell.execute_reply": "2024-11-07T09:08:59.172709Z"
    }
   },
   "outputs": [
    {
     "data": {
      "text/markdown": [
       "<span style=\"color: #ff0000\">Multiple objects (5) were found for worcester:\n",
       "- Worcester (United States, Vermont, Washington County)\n",
       "- Worcester (United Kingdom, England, West Midlands, Worcestershire)\n",
       "- Worcester (South Africa, Western Cape, Cape Winelands District Municipality)\n",
       "- Worcester (United States, Massachusetts, Worcester County)\n",
       "- Worcester Township (United States, Pennsylvania, Montgomery County)\n",
       "</span>"
      ],
      "text/plain": [
       "<IPython.core.display.Markdown object>"
      ]
     },
     "metadata": {},
     "output_type": "display_data"
    },
    {
     "data": {
      "text/markdown": [
       "<span style=\"color: #ff0000\">Multiple objects (5) were found for worcester:\n",
       "- Worcester (United States, Vermont, Washington County)\n",
       "- Worcester (United Kingdom, England, West Midlands, Worcestershire)\n",
       "- Worcester (South Africa, Western Cape, Cape Winelands District Municipality)\n",
       "- Worcester (United States, Massachusetts, Worcester County)\n",
       "- Worcester Township (United States, Pennsylvania, Montgomery County)\n",
       "</span>"
      ],
      "text/plain": [
       "<IPython.core.display.Markdown object>"
      ]
     },
     "metadata": {},
     "output_type": "display_data"
    }
   ],
   "source": [
    "# ignore_not_found() - ingore unknown names, keep everything else, including ambiguous names\n",
    "run_catching(\n",
    "    lambda: geocode_cities(['paris', 'worcester', 'foo']).ignore_not_found().get_geocodes()\n",
    ")\n",
    "\n",
    "# Missing parent also gives an error\n",
    "run_catching(\n",
    "    lambda: geocode_cities(['paris', 'worcester']).countries(['foo', None]).ignore_not_found().get_geocodes()\n",
    ")"
   ]
  },
  {
   "cell_type": "code",
   "execution_count": 23,
   "metadata": {
    "execution": {
     "iopub.execute_input": "2024-11-07T09:08:59.176318Z",
     "iopub.status.busy": "2024-11-07T09:08:59.175875Z",
     "iopub.status.idle": "2024-11-07T09:08:59.724104Z",
     "shell.execute_reply": "2024-11-07T09:08:59.723713Z"
    }
   },
   "outputs": [
    {
     "data": {
      "text/html": [
       "<div>\n",
       "<style scoped>\n",
       "    .dataframe tbody tr th:only-of-type {\n",
       "        vertical-align: middle;\n",
       "    }\n",
       "\n",
       "    .dataframe tbody tr th {\n",
       "        vertical-align: top;\n",
       "    }\n",
       "\n",
       "    .dataframe thead th {\n",
       "        text-align: right;\n",
       "    }\n",
       "</style>\n",
       "<table border=\"1\" class=\"dataframe\">\n",
       "  <thead>\n",
       "    <tr style=\"text-align: right;\">\n",
       "      <th></th>\n",
       "      <th>id</th>\n",
       "      <th>city</th>\n",
       "      <th>found name</th>\n",
       "      <th>country</th>\n",
       "      <th>centroid</th>\n",
       "      <th>position</th>\n",
       "      <th>limit</th>\n",
       "    </tr>\n",
       "  </thead>\n",
       "  <tbody>\n",
       "    <tr>\n",
       "      <th>0</th>\n",
       "      <td>17807753</td>\n",
       "      <td>paris</td>\n",
       "      <td>Paris</td>\n",
       "      <td>france</td>\n",
       "      <td>[2.32002815231681, 48.8587861508131]</td>\n",
       "      <td>[2.22412258386612, 48.8155750930309, 2.4697606...</td>\n",
       "      <td>[2.22412258386612, 48.8155750930309, 2.4697606...</td>\n",
       "    </tr>\n",
       "  </tbody>\n",
       "</table>\n",
       "</div>"
      ],
      "text/plain": [
       "         id   city found name country                              centroid  \\\n",
       "0  17807753  paris      Paris  france  [2.32002815231681, 48.8587861508131]   \n",
       "\n",
       "                                            position  \\\n",
       "0  [2.22412258386612, 48.8155750930309, 2.4697606...   \n",
       "\n",
       "                                               limit  \n",
       "0  [2.22412258386612, 48.8155750930309, 2.4697606...  "
      ]
     },
     "execution_count": 23,
     "metadata": {},
     "output_type": "execute_result"
    }
   ],
   "source": [
    "# ignore_all_errors() - keep only exactly matched names\n",
    "geocode_cities(['paris', 'worcester', 'foo']).ignore_all_errors().get_geocodes()\n",
    "\n",
    "geocode_cities(['paris', 'worcester']).countries(['france', 'foo']).ignore_all_errors().get_geocodes()"
   ]
  },
  {
   "cell_type": "code",
   "execution_count": 24,
   "metadata": {
    "execution": {
     "iopub.execute_input": "2024-11-07T09:08:59.725859Z",
     "iopub.status.busy": "2024-11-07T09:08:59.725694Z",
     "iopub.status.idle": "2024-11-07T09:08:59.975744Z",
     "shell.execute_reply": "2024-11-07T09:08:59.975270Z"
    }
   },
   "outputs": [
    {
     "data": {
      "text/html": [
       "<div>\n",
       "<style scoped>\n",
       "    .dataframe tbody tr th:only-of-type {\n",
       "        vertical-align: middle;\n",
       "    }\n",
       "\n",
       "    .dataframe tbody tr th {\n",
       "        vertical-align: top;\n",
       "    }\n",
       "\n",
       "    .dataframe thead th {\n",
       "        text-align: right;\n",
       "    }\n",
       "</style>\n",
       "<table border=\"1\" class=\"dataframe\">\n",
       "  <thead>\n",
       "    <tr style=\"text-align: right;\">\n",
       "      <th></th>\n",
       "      <th>id</th>\n",
       "      <th>city</th>\n",
       "      <th>found name</th>\n",
       "      <th>centroid</th>\n",
       "      <th>position</th>\n",
       "      <th>limit</th>\n",
       "    </tr>\n",
       "  </thead>\n",
       "  <tbody>\n",
       "    <tr>\n",
       "      <th>0</th>\n",
       "      <td>17807753</td>\n",
       "      <td>paris</td>\n",
       "      <td>Paris</td>\n",
       "      <td>[2.32002815231681, 48.8587861508131]</td>\n",
       "      <td>[2.22412258386612, 48.8155750930309, 2.4697606...</td>\n",
       "      <td>[2.22412258386612, 48.8155750930309, 2.4697606...</td>\n",
       "    </tr>\n",
       "    <tr>\n",
       "      <th>1</th>\n",
       "      <td>8898137</td>\n",
       "      <td>worcester</td>\n",
       "      <td>Worcester</td>\n",
       "      <td>[-72.5724501055639, 44.4132962822914]</td>\n",
       "      <td>[-72.6543393731117, 44.3454243242741, -72.4935...</td>\n",
       "      <td>[-72.6543393731117, 44.3454243242741, -72.4935...</td>\n",
       "    </tr>\n",
       "    <tr>\n",
       "      <th>2</th>\n",
       "      <td>20971097</td>\n",
       "      <td>worcester</td>\n",
       "      <td>Worcester</td>\n",
       "      <td>[-2.2095610731112, 52.1965283900499]</td>\n",
       "      <td>[-2.2632023692131, 52.1616362035275, -2.157303...</td>\n",
       "      <td>[-2.2632023692131, 52.1616362035275, -2.157303...</td>\n",
       "    </tr>\n",
       "    <tr>\n",
       "      <th>3</th>\n",
       "      <td>30670038</td>\n",
       "      <td>worcester</td>\n",
       "      <td>Worcester</td>\n",
       "      <td>[19.4459268450737, -33.6462374031544]</td>\n",
       "      <td>[19.4369441270828, -33.6537154018879, 19.45490...</td>\n",
       "      <td>[19.4369441270828, -33.6537154018879, 19.45490...</td>\n",
       "    </tr>\n",
       "    <tr>\n",
       "      <th>4</th>\n",
       "      <td>158851900</td>\n",
       "      <td>worcester</td>\n",
       "      <td>Worcester</td>\n",
       "      <td>[-71.8154652712922, 42.2678737342358]</td>\n",
       "      <td>[-71.8840424716473, 42.2100399434566, -71.7312...</td>\n",
       "      <td>[-71.8840424716473, 42.2100399434566, -71.7312...</td>\n",
       "    </tr>\n",
       "    <tr>\n",
       "      <th>5</th>\n",
       "      <td>3076291</td>\n",
       "      <td>worcester</td>\n",
       "      <td>Worcester Township</td>\n",
       "      <td>[-75.3438698875367, 40.1926231384277]</td>\n",
       "      <td>[-75.4107637703419, 40.1558580994606, -75.2932...</td>\n",
       "      <td>[-75.4107637703419, 40.1558580994606, -75.2932...</td>\n",
       "    </tr>\n",
       "  </tbody>\n",
       "</table>\n",
       "</div>"
      ],
      "text/plain": [
       "          id       city          found name  \\\n",
       "0   17807753      paris               Paris   \n",
       "1    8898137  worcester           Worcester   \n",
       "2   20971097  worcester           Worcester   \n",
       "3   30670038  worcester           Worcester   \n",
       "4  158851900  worcester           Worcester   \n",
       "5    3076291  worcester  Worcester Township   \n",
       "\n",
       "                                centroid  \\\n",
       "0   [2.32002815231681, 48.8587861508131]   \n",
       "1  [-72.5724501055639, 44.4132962822914]   \n",
       "2   [-2.2095610731112, 52.1965283900499]   \n",
       "3  [19.4459268450737, -33.6462374031544]   \n",
       "4  [-71.8154652712922, 42.2678737342358]   \n",
       "5  [-75.3438698875367, 40.1926231384277]   \n",
       "\n",
       "                                            position  \\\n",
       "0  [2.22412258386612, 48.8155750930309, 2.4697606...   \n",
       "1  [-72.6543393731117, 44.3454243242741, -72.4935...   \n",
       "2  [-2.2632023692131, 52.1616362035275, -2.157303...   \n",
       "3  [19.4369441270828, -33.6537154018879, 19.45490...   \n",
       "4  [-71.8840424716473, 42.2100399434566, -71.7312...   \n",
       "5  [-75.4107637703419, 40.1558580994606, -75.2932...   \n",
       "\n",
       "                                               limit  \n",
       "0  [2.22412258386612, 48.8155750930309, 2.4697606...  \n",
       "1  [-72.6543393731117, 44.3454243242741, -72.4935...  \n",
       "2  [-2.2632023692131, 52.1616362035275, -2.157303...  \n",
       "3  [19.4369441270828, -33.6537154018879, 19.45490...  \n",
       "4  [-71.8840424716473, 42.2100399434566, -71.7312...  \n",
       "5  [-75.4107637703419, 40.1558580994606, -75.2932...  "
      ]
     },
     "execution_count": 24,
     "metadata": {},
     "output_type": "execute_result"
    }
   ],
   "source": [
    "# ignore_not_found() + allow_ambiguous() - see all ambiguous names without \"not found\" error\n",
    "geocode_cities(['paris', 'worcester', 'foo']).ignore_not_found().allow_ambiguous().get_geocodes()"
   ]
  },
  {
   "cell_type": "code",
   "execution_count": 25,
   "metadata": {
    "execution": {
     "iopub.execute_input": "2024-11-07T09:08:59.978038Z",
     "iopub.status.busy": "2024-11-07T09:08:59.977696Z",
     "iopub.status.idle": "2024-11-07T09:09:00.254404Z",
     "shell.execute_reply": "2024-11-07T09:09:00.253631Z"
    }
   },
   "outputs": [
    {
     "data": {
      "text/markdown": [
       "<span style=\"color: #ff0000\">No objects were found for foo, foo4, foo5, foo6, foo7, foo8, foo9, foo10, foo11, foo12 and (3) more.\n",
       "</span>"
      ],
      "text/plain": [
       "<IPython.core.display.Markdown object>"
      ]
     },
     "metadata": {},
     "output_type": "display_data"
    }
   ],
   "source": [
    "# List only 10 first distinct not found names\n",
    "run_catching(\n",
    "    lambda: geocode_cities(['foo', 'foo', 'foo', 'foo4', 'foo5', 'foo6', 'foo7', 'foo8', 'foo9', 'foo10', 'foo11', 'foo12', 'foo13', 'foo14', 'foo15']).get_geocodes()\n",
    ")"
   ]
  },
  {
   "cell_type": "code",
   "execution_count": 26,
   "metadata": {
    "execution": {
     "iopub.execute_input": "2024-11-07T09:09:00.257602Z",
     "iopub.status.busy": "2024-11-07T09:09:00.257360Z",
     "iopub.status.idle": "2024-11-07T09:09:00.492004Z",
     "shell.execute_reply": "2024-11-07T09:09:00.491319Z"
    }
   },
   "outputs": [
    {
     "data": {
      "text/html": [
       "<div>\n",
       "<style scoped>\n",
       "    .dataframe tbody tr th:only-of-type {\n",
       "        vertical-align: middle;\n",
       "    }\n",
       "\n",
       "    .dataframe tbody tr th {\n",
       "        vertical-align: top;\n",
       "    }\n",
       "\n",
       "    .dataframe thead th {\n",
       "        text-align: right;\n",
       "    }\n",
       "</style>\n",
       "<table border=\"1\" class=\"dataframe\">\n",
       "  <thead>\n",
       "    <tr style=\"text-align: right;\">\n",
       "      <th></th>\n",
       "      <th>id</th>\n",
       "      <th>city</th>\n",
       "      <th>found name</th>\n",
       "      <th>centroid</th>\n",
       "      <th>position</th>\n",
       "      <th>limit</th>\n",
       "    </tr>\n",
       "  </thead>\n",
       "  <tbody>\n",
       "  </tbody>\n",
       "</table>\n",
       "</div>"
      ],
      "text/plain": [
       "Empty DataFrame\n",
       "Columns: [id, city, found name, centroid, position, limit]\n",
       "Index: []"
      ]
     },
     "execution_count": 26,
     "metadata": {},
     "output_type": "execute_result"
    }
   ],
   "source": [
    "# Empty DataFrame if no matching names left\n",
    "geocode_cities('worcester').ignore_all_errors().get_geocodes()"
   ]
  },
  {
   "cell_type": "markdown",
   "metadata": {},
   "source": [
    "### `where()` function"
   ]
  },
  {
   "cell_type": "code",
   "execution_count": 27,
   "metadata": {
    "execution": {
     "iopub.execute_input": "2024-11-07T09:09:00.495194Z",
     "iopub.status.busy": "2024-11-07T09:09:00.494909Z",
     "iopub.status.idle": "2024-11-07T09:09:02.190281Z",
     "shell.execute_reply": "2024-11-07T09:09:02.189545Z"
    }
   },
   "outputs": [
    {
     "data": {
      "text/html": [
       "<div>\n",
       "<style scoped>\n",
       "    .dataframe tbody tr th:only-of-type {\n",
       "        vertical-align: middle;\n",
       "    }\n",
       "\n",
       "    .dataframe tbody tr th {\n",
       "        vertical-align: top;\n",
       "    }\n",
       "\n",
       "    .dataframe thead th {\n",
       "        text-align: right;\n",
       "    }\n",
       "</style>\n",
       "<table border=\"1\" class=\"dataframe\">\n",
       "  <thead>\n",
       "    <tr style=\"text-align: right;\">\n",
       "      <th></th>\n",
       "      <th>id</th>\n",
       "      <th>city</th>\n",
       "      <th>found name</th>\n",
       "      <th>centroid</th>\n",
       "      <th>position</th>\n",
       "      <th>limit</th>\n",
       "    </tr>\n",
       "  </thead>\n",
       "  <tbody>\n",
       "    <tr>\n",
       "      <th>0</th>\n",
       "      <td>158851900</td>\n",
       "      <td>worcester</td>\n",
       "      <td>Worcester</td>\n",
       "      <td>[-71.8154652712922, 42.2678737342358]</td>\n",
       "      <td>[-71.8840424716473, 42.2100399434566, -71.7312...</td>\n",
       "      <td>[-71.8840424716473, 42.2100399434566, -71.7312...</td>\n",
       "    </tr>\n",
       "  </tbody>\n",
       "</table>\n",
       "</div>"
      ],
      "text/plain": [
       "          id       city found name                               centroid  \\\n",
       "0  158851900  worcester  Worcester  [-71.8154652712922, 42.2678737342358]   \n",
       "\n",
       "                                            position  \\\n",
       "0  [-71.8840424716473, 42.2100399434566, -71.7312...   \n",
       "\n",
       "                                               limit  \n",
       "0  [-71.8840424716473, 42.2100399434566, -71.7312...  "
      ]
     },
     "execution_count": 27,
     "metadata": {},
     "output_type": "execute_result"
    }
   ],
   "source": [
    "# Take object closest to a place.\n",
    "boston = geocode_cities('boston')\n",
    "geocode_cities('worcester').where('worcester', closest_to=boston).get_geocodes()"
   ]
  },
  {
   "cell_type": "code",
   "execution_count": 28,
   "metadata": {
    "execution": {
     "iopub.execute_input": "2024-11-07T09:09:02.193632Z",
     "iopub.status.busy": "2024-11-07T09:09:02.193315Z",
     "iopub.status.idle": "2024-11-07T09:09:02.642752Z",
     "shell.execute_reply": "2024-11-07T09:09:02.642252Z"
    }
   },
   "outputs": [
    {
     "data": {
      "text/html": [
       "<div>\n",
       "<style scoped>\n",
       "    .dataframe tbody tr th:only-of-type {\n",
       "        vertical-align: middle;\n",
       "    }\n",
       "\n",
       "    .dataframe tbody tr th {\n",
       "        vertical-align: top;\n",
       "    }\n",
       "\n",
       "    .dataframe thead th {\n",
       "        text-align: right;\n",
       "    }\n",
       "</style>\n",
       "<table border=\"1\" class=\"dataframe\">\n",
       "  <thead>\n",
       "    <tr style=\"text-align: right;\">\n",
       "      <th></th>\n",
       "      <th>id</th>\n",
       "      <th>city</th>\n",
       "      <th>found name</th>\n",
       "      <th>centroid</th>\n",
       "      <th>position</th>\n",
       "      <th>limit</th>\n",
       "    </tr>\n",
       "  </thead>\n",
       "  <tbody>\n",
       "    <tr>\n",
       "      <th>0</th>\n",
       "      <td>158851900</td>\n",
       "      <td>worcester</td>\n",
       "      <td>Worcester</td>\n",
       "      <td>[-71.8154652712922, 42.2678737342358]</td>\n",
       "      <td>[-71.8840424716473, 42.2100399434566, -71.7312...</td>\n",
       "      <td>[-71.8840424716473, 42.2100399434566, -71.7312...</td>\n",
       "    </tr>\n",
       "  </tbody>\n",
       "</table>\n",
       "</div>"
      ],
      "text/plain": [
       "          id       city found name                               centroid  \\\n",
       "0  158851900  worcester  Worcester  [-71.8154652712922, 42.2678737342358]   \n",
       "\n",
       "                                            position  \\\n",
       "0  [-71.8840424716473, 42.2100399434566, -71.7312...   \n",
       "\n",
       "                                               limit  \n",
       "0  [-71.8840424716473, 42.2100399434566, -71.7312...  "
      ]
     },
     "execution_count": 28,
     "metadata": {},
     "output_type": "execute_result"
    }
   ],
   "source": [
    "# Take object closest to a coordinate.\n",
    "boston_coord = boston.get_centroids().geometry[0]\n",
    "geocode_cities('worcester').where('worcester', closest_to=boston_coord).get_geocodes()"
   ]
  },
  {
   "cell_type": "code",
   "execution_count": 29,
   "metadata": {
    "execution": {
     "iopub.execute_input": "2024-11-07T09:09:02.644997Z",
     "iopub.status.busy": "2024-11-07T09:09:02.644681Z",
     "iopub.status.idle": "2024-11-07T09:09:02.876711Z",
     "shell.execute_reply": "2024-11-07T09:09:02.875999Z"
    }
   },
   "outputs": [
    {
     "data": {
      "text/html": [
       "<div>\n",
       "<style scoped>\n",
       "    .dataframe tbody tr th:only-of-type {\n",
       "        vertical-align: middle;\n",
       "    }\n",
       "\n",
       "    .dataframe tbody tr th {\n",
       "        vertical-align: top;\n",
       "    }\n",
       "\n",
       "    .dataframe thead th {\n",
       "        text-align: right;\n",
       "    }\n",
       "</style>\n",
       "<table border=\"1\" class=\"dataframe\">\n",
       "  <thead>\n",
       "    <tr style=\"text-align: right;\">\n",
       "      <th></th>\n",
       "      <th>id</th>\n",
       "      <th>city</th>\n",
       "      <th>found name</th>\n",
       "      <th>centroid</th>\n",
       "      <th>position</th>\n",
       "      <th>limit</th>\n",
       "    </tr>\n",
       "  </thead>\n",
       "  <tbody>\n",
       "    <tr>\n",
       "      <th>0</th>\n",
       "      <td>158851900</td>\n",
       "      <td>worcester</td>\n",
       "      <td>Worcester</td>\n",
       "      <td>[-71.8154652712922, 42.2678737342358]</td>\n",
       "      <td>[-71.8840424716473, 42.2100399434566, -71.7312...</td>\n",
       "      <td>[-71.8840424716473, 42.2100399434566, -71.7312...</td>\n",
       "    </tr>\n",
       "  </tbody>\n",
       "</table>\n",
       "</div>"
      ],
      "text/plain": [
       "          id       city found name                               centroid  \\\n",
       "0  158851900  worcester  Worcester  [-71.8154652712922, 42.2678737342358]   \n",
       "\n",
       "                                            position  \\\n",
       "0  [-71.8840424716473, 42.2100399434566, -71.7312...   \n",
       "\n",
       "                                               limit  \n",
       "0  [-71.8840424716473, 42.2100399434566, -71.7312...  "
      ]
     },
     "execution_count": 29,
     "metadata": {},
     "output_type": "execute_result"
    }
   ],
   "source": [
    "# Or take object within rectangular area\n",
    "geocode_cities('worcester')\\\n",
    "    .where('worcester', scope=shapely.geometry.box(-71.00, 42.00, -72.00, 43.00))\\\n",
    "    .get_geocodes()"
   ]
  },
  {
   "cell_type": "code",
   "execution_count": 30,
   "metadata": {
    "execution": {
     "iopub.execute_input": "2024-11-07T09:09:02.879661Z",
     "iopub.status.busy": "2024-11-07T09:09:02.879382Z",
     "iopub.status.idle": "2024-11-07T09:09:03.326305Z",
     "shell.execute_reply": "2024-11-07T09:09:03.325620Z"
    }
   },
   "outputs": [
    {
     "data": {
      "text/html": [
       "<div>\n",
       "<style scoped>\n",
       "    .dataframe tbody tr th:only-of-type {\n",
       "        vertical-align: middle;\n",
       "    }\n",
       "\n",
       "    .dataframe tbody tr th {\n",
       "        vertical-align: top;\n",
       "    }\n",
       "\n",
       "    .dataframe thead th {\n",
       "        text-align: right;\n",
       "    }\n",
       "</style>\n",
       "<table border=\"1\" class=\"dataframe\">\n",
       "  <thead>\n",
       "    <tr style=\"text-align: right;\">\n",
       "      <th></th>\n",
       "      <th>id</th>\n",
       "      <th>city</th>\n",
       "      <th>found name</th>\n",
       "      <th>centroid</th>\n",
       "      <th>position</th>\n",
       "      <th>limit</th>\n",
       "    </tr>\n",
       "  </thead>\n",
       "  <tbody>\n",
       "    <tr>\n",
       "      <th>0</th>\n",
       "      <td>158851900</td>\n",
       "      <td>worcester</td>\n",
       "      <td>Worcester</td>\n",
       "      <td>[-71.8154652712922, 42.2678737342358]</td>\n",
       "      <td>[-71.8840424716473, 42.2100399434566, -71.7312...</td>\n",
       "      <td>[-71.8840424716473, 42.2100399434566, -71.7312...</td>\n",
       "    </tr>\n",
       "  </tbody>\n",
       "</table>\n",
       "</div>"
      ],
      "text/plain": [
       "          id       city found name                               centroid  \\\n",
       "0  158851900  worcester  Worcester  [-71.8154652712922, 42.2678737342358]   \n",
       "\n",
       "                                            position  \\\n",
       "0  [-71.8840424716473, 42.2100399434566, -71.7312...   \n",
       "\n",
       "                                               limit  \n",
       "0  [-71.8840424716473, 42.2100399434566, -71.7312...  "
      ]
     },
     "execution_count": 30,
     "metadata": {},
     "output_type": "execute_result"
    }
   ],
   "source": [
    "# Or by defining a query scope. In this case name from the scope will not go into the result DataFrame\n",
    "massachusetts = geocode_states('massachusetts')\n",
    "geocode_cities('worcester').where('worcester', scope=massachusetts).get_geocodes()"
   ]
  },
  {
   "cell_type": "code",
   "execution_count": 31,
   "metadata": {
    "execution": {
     "iopub.execute_input": "2024-11-07T09:09:03.329281Z",
     "iopub.status.busy": "2024-11-07T09:09:03.329011Z",
     "iopub.status.idle": "2024-11-07T09:09:03.600409Z",
     "shell.execute_reply": "2024-11-07T09:09:03.599795Z"
    },
    "scrolled": true
   },
   "outputs": [
    {
     "data": {
      "text/html": [
       "<div>\n",
       "<style scoped>\n",
       "    .dataframe tbody tr th:only-of-type {\n",
       "        vertical-align: middle;\n",
       "    }\n",
       "\n",
       "    .dataframe tbody tr th {\n",
       "        vertical-align: top;\n",
       "    }\n",
       "\n",
       "    .dataframe thead th {\n",
       "        text-align: right;\n",
       "    }\n",
       "</style>\n",
       "<table border=\"1\" class=\"dataframe\">\n",
       "  <thead>\n",
       "    <tr style=\"text-align: right;\">\n",
       "      <th></th>\n",
       "      <th>id</th>\n",
       "      <th>city</th>\n",
       "      <th>found name</th>\n",
       "      <th>centroid</th>\n",
       "      <th>position</th>\n",
       "      <th>limit</th>\n",
       "    </tr>\n",
       "  </thead>\n",
       "  <tbody>\n",
       "    <tr>\n",
       "      <th>0</th>\n",
       "      <td>158851900</td>\n",
       "      <td>worcester</td>\n",
       "      <td>Worcester</td>\n",
       "      <td>[-71.8154652712922, 42.2678737342358]</td>\n",
       "      <td>[-71.8840424716473, 42.2100399434566, -71.7312...</td>\n",
       "      <td>[-71.8840424716473, 42.2100399434566, -71.7312...</td>\n",
       "    </tr>\n",
       "  </tbody>\n",
       "</table>\n",
       "</div>"
      ],
      "text/plain": [
       "          id       city found name                               centroid  \\\n",
       "0  158851900  worcester  Worcester  [-71.8154652712922, 42.2678737342358]   \n",
       "\n",
       "                                            position  \\\n",
       "0  [-71.8840424716473, 42.2100399434566, -71.7312...   \n",
       "\n",
       "                                               limit  \n",
       "0  [-71.8840424716473, 42.2100399434566, -71.7312...  "
      ]
     },
     "execution_count": 31,
     "metadata": {},
     "output_type": "execute_result"
    }
   ],
   "source": [
    "# Query scope also can be a string\n",
    "geocode_cities('worcester').where('worcester', scope='massachusetts').get_geocodes()"
   ]
  },
  {
   "cell_type": "code",
   "execution_count": 32,
   "metadata": {
    "execution": {
     "iopub.execute_input": "2024-11-07T09:09:03.602831Z",
     "iopub.status.busy": "2024-11-07T09:09:03.602595Z",
     "iopub.status.idle": "2024-11-07T09:09:05.097021Z",
     "shell.execute_reply": "2024-11-07T09:09:05.096515Z"
    }
   },
   "outputs": [
    {
     "data": {
      "text/html": [
       "<div>\n",
       "<style scoped>\n",
       "    .dataframe tbody tr th:only-of-type {\n",
       "        vertical-align: middle;\n",
       "    }\n",
       "\n",
       "    .dataframe tbody tr th {\n",
       "        vertical-align: top;\n",
       "    }\n",
       "\n",
       "    .dataframe thead th {\n",
       "        text-align: right;\n",
       "    }\n",
       "</style>\n",
       "<table border=\"1\" class=\"dataframe\">\n",
       "  <thead>\n",
       "    <tr style=\"text-align: right;\">\n",
       "      <th></th>\n",
       "      <th>id</th>\n",
       "      <th>city</th>\n",
       "      <th>found name</th>\n",
       "      <th>country</th>\n",
       "      <th>centroid</th>\n",
       "      <th>position</th>\n",
       "      <th>limit</th>\n",
       "    </tr>\n",
       "  </thead>\n",
       "  <tbody>\n",
       "    <tr>\n",
       "      <th>0</th>\n",
       "      <td>158851900</td>\n",
       "      <td>worcester</td>\n",
       "      <td>Worcester</td>\n",
       "      <td>USA</td>\n",
       "      <td>[-71.8154652712922, 42.2678737342358]</td>\n",
       "      <td>[-71.8840424716473, 42.2100399434566, -71.7312...</td>\n",
       "      <td>[-71.8840424716473, 42.2100399434566, -71.7312...</td>\n",
       "    </tr>\n",
       "    <tr>\n",
       "      <th>1</th>\n",
       "      <td>20971097</td>\n",
       "      <td>worcester</td>\n",
       "      <td>Worcester</td>\n",
       "      <td>United Kingdom</td>\n",
       "      <td>[-2.2095610731112, 52.1965283900499]</td>\n",
       "      <td>[-2.2632023692131, 52.1616362035275, -2.157303...</td>\n",
       "      <td>[-2.2632023692131, 52.1616362035275, -2.157303...</td>\n",
       "    </tr>\n",
       "  </tbody>\n",
       "</table>\n",
       "</div>"
      ],
      "text/plain": [
       "          id       city found name         country  \\\n",
       "0  158851900  worcester  Worcester             USA   \n",
       "1   20971097  worcester  Worcester  United Kingdom   \n",
       "\n",
       "                                centroid  \\\n",
       "0  [-71.8154652712922, 42.2678737342358]   \n",
       "1   [-2.2095610731112, 52.1965283900499]   \n",
       "\n",
       "                                            position  \\\n",
       "0  [-71.8840424716473, 42.2100399434566, -71.7312...   \n",
       "1  [-2.2632023692131, 52.1616362035275, -2.157303...   \n",
       "\n",
       "                                               limit  \n",
       "0  [-71.8840424716473, 42.2100399434566, -71.7312...  \n",
       "1  [-2.2632023692131, 52.1616362035275, -2.157303...  "
      ]
     },
     "execution_count": 32,
     "metadata": {},
     "output_type": "execute_result"
    }
   ],
   "source": [
    "# Query scope overrides parents while keeping parents in a result dataframe.\n",
    "worcester_county=geocode_counties('Worcester County').states('massachusetts').countries('usa')\n",
    "\n",
    "geocode_cities(['worcester', 'worcester'])\\\n",
    "    .countries(['USA', 'United Kingdom'])\\\n",
    "    .where('worcester', country='USA', scope=worcester_county)\\\n",
    "    .get_geocodes()"
   ]
  },
  {
   "cell_type": "code",
   "execution_count": 33,
   "metadata": {
    "execution": {
     "iopub.execute_input": "2024-11-07T09:09:05.099031Z",
     "iopub.status.busy": "2024-11-07T09:09:05.098833Z",
     "iopub.status.idle": "2024-11-07T09:09:05.324675Z",
     "shell.execute_reply": "2024-11-07T09:09:05.323912Z"
    }
   },
   "outputs": [
    {
     "data": {
      "text/markdown": [
       "<span style=\"color: #ff0000\">'scope' has 2 entries, but expected to have exactly 1</span>"
      ],
      "text/plain": [
       "<IPython.core.display.Markdown object>"
      ]
     },
     "metadata": {},
     "output_type": "display_data"
    }
   ],
   "source": [
    "# Query scope should contain single object\n",
    "countries = geocode_countries(['usa', 'uruguay'])\n",
    "run_catching(\n",
    "    lambda: geocode_states('florida').where('florida', scope=countries).get_geocodes()\n",
    ")"
   ]
  },
  {
   "cell_type": "code",
   "execution_count": 34,
   "metadata": {
    "execution": {
     "iopub.execute_input": "2024-11-07T09:09:05.327950Z",
     "iopub.status.busy": "2024-11-07T09:09:05.327621Z",
     "iopub.status.idle": "2024-11-07T09:09:05.333105Z",
     "shell.execute_reply": "2024-11-07T09:09:05.332573Z"
    }
   },
   "outputs": [
    {
     "data": {
      "text/markdown": [
       "<span style=\"color: #ff0000\">worcester(county=worcester county, state=iowa, country=USA) is not found in names</span>"
      ],
      "text/plain": [
       "<IPython.core.display.Markdown object>"
      ]
     },
     "metadata": {},
     "output_type": "display_data"
    }
   ],
   "source": [
    "# NB: Parent is used only for searching exact row in request. \n",
    "#     It doesn't modify any parent (neither existing or empty).\n",
    "run_catching(\n",
    "    lambda: geocode_cities('worcester')\\\n",
    "        .countries('USA')\\\n",
    "        .where('worcester', country='USA', state='iowa', county='worcester county')\\\n",
    "        .get_geocodes()\n",
    ")"
   ]
  },
  {
   "cell_type": "code",
   "execution_count": 35,
   "metadata": {
    "execution": {
     "iopub.execute_input": "2024-11-07T09:09:05.335869Z",
     "iopub.status.busy": "2024-11-07T09:09:05.335366Z",
     "iopub.status.idle": "2024-11-07T09:09:05.566090Z",
     "shell.execute_reply": "2024-11-07T09:09:05.565453Z"
    }
   },
   "outputs": [
    {
     "data": {
      "text/html": [
       "<div>\n",
       "<style scoped>\n",
       "    .dataframe tbody tr th:only-of-type {\n",
       "        vertical-align: middle;\n",
       "    }\n",
       "\n",
       "    .dataframe tbody tr th {\n",
       "        vertical-align: top;\n",
       "    }\n",
       "\n",
       "    .dataframe thead th {\n",
       "        text-align: right;\n",
       "    }\n",
       "</style>\n",
       "<table border=\"1\" class=\"dataframe\">\n",
       "  <thead>\n",
       "    <tr style=\"text-align: right;\">\n",
       "      <th></th>\n",
       "      <th>id</th>\n",
       "      <th>city</th>\n",
       "      <th>found name</th>\n",
       "      <th>centroid</th>\n",
       "      <th>position</th>\n",
       "      <th>limit</th>\n",
       "    </tr>\n",
       "  </thead>\n",
       "  <tbody>\n",
       "    <tr>\n",
       "      <th>0</th>\n",
       "      <td>158863860</td>\n",
       "      <td>warwick</td>\n",
       "      <td>Warwick</td>\n",
       "      <td>[-71.4332938210472, 41.715542525053]</td>\n",
       "      <td>[-71.5189133584499, 41.6628210246563, -71.3564...</td>\n",
       "      <td>[-71.5189133584499, 41.6293966770172, -71.3564...</td>\n",
       "    </tr>\n",
       "    <tr>\n",
       "      <th>1</th>\n",
       "      <td>158903676</td>\n",
       "      <td>warwick</td>\n",
       "      <td>West Warwick</td>\n",
       "      <td>[-71.5257788638961, 41.6969098895788]</td>\n",
       "      <td>[-71.5342850983143, 41.6620793938637, -71.4839...</td>\n",
       "      <td>[-71.5342850983143, 41.6620793938637, -71.4839...</td>\n",
       "    </tr>\n",
       "  </tbody>\n",
       "</table>\n",
       "</div>"
      ],
      "text/plain": [
       "          id     city    found name                               centroid  \\\n",
       "0  158863860  warwick       Warwick   [-71.4332938210472, 41.715542525053]   \n",
       "1  158903676  warwick  West Warwick  [-71.5257788638961, 41.6969098895788]   \n",
       "\n",
       "                                            position  \\\n",
       "0  [-71.5189133584499, 41.6628210246563, -71.3564...   \n",
       "1  [-71.5342850983143, 41.6620793938637, -71.4839...   \n",
       "\n",
       "                                               limit  \n",
       "0  [-71.5189133584499, 41.6293966770172, -71.3564...  \n",
       "1  [-71.5342850983143, 41.6620793938637, -71.4839...  "
      ]
     },
     "execution_count": 35,
     "metadata": {},
     "output_type": "execute_result"
    }
   ],
   "source": [
    "geocode_cities('warwick') \\\n",
    "    .where('warwick', scope=shapely.geometry.box(-72, 41.5, -71, 42)) \\\n",
    "    .allow_ambiguous() \\\n",
    "    .get_geocodes()"
   ]
  },
  {
   "cell_type": "markdown",
   "metadata": {},
   "source": [
    "#### Error handling"
   ]
  },
  {
   "cell_type": "code",
   "execution_count": 36,
   "metadata": {
    "execution": {
     "iopub.execute_input": "2024-11-07T09:09:05.569055Z",
     "iopub.status.busy": "2024-11-07T09:09:05.568810Z",
     "iopub.status.idle": "2024-11-07T09:09:05.788121Z",
     "shell.execute_reply": "2024-11-07T09:09:05.787423Z"
    }
   },
   "outputs": [
    {
     "data": {
      "text/markdown": [
       "<span style=\"color: #ff0000\">Region is not found: foo</span>"
      ],
      "text/plain": [
       "<IPython.core.display.Markdown object>"
      ]
     },
     "metadata": {},
     "output_type": "display_data"
    }
   ],
   "source": [
    "# Failed to find parent\n",
    "run_catching(\n",
    "    lambda: geocode_states('florida').countries('foo').get_geocodes()\n",
    ")"
   ]
  },
  {
   "cell_type": "code",
   "execution_count": 37,
   "metadata": {
    "execution": {
     "iopub.execute_input": "2024-11-07T09:09:05.791154Z",
     "iopub.status.busy": "2024-11-07T09:09:05.790885Z",
     "iopub.status.idle": "2024-11-07T09:09:06.067226Z",
     "shell.execute_reply": "2024-11-07T09:09:06.066525Z"
    }
   },
   "outputs": [
    {
     "data": {
      "text/markdown": [
       "<span style=\"color: #ff0000\">Region is not found: worcester county</span>"
      ],
      "text/plain": [
       "<IPython.core.display.Markdown object>"
      ]
     },
     "metadata": {},
     "output_type": "display_data"
    }
   ],
   "source": [
    "# ambiguous parent - Worcester County. Better message required.\n",
    "run_catching(\n",
    "    lambda : geocode_cities('worcester').counties('worcester county').scope('usa').get_geocodes()\n",
    ")"
   ]
  },
  {
   "cell_type": "code",
   "execution_count": 38,
   "metadata": {
    "execution": {
     "iopub.execute_input": "2024-11-07T09:09:06.070349Z",
     "iopub.status.busy": "2024-11-07T09:09:06.070037Z",
     "iopub.status.idle": "2024-11-07T09:09:06.288646Z",
     "shell.execute_reply": "2024-11-07T09:09:06.287939Z"
    }
   },
   "outputs": [
    {
     "data": {
      "text/markdown": [
       "<span style=\"color: #ff0000\">Invalid level for request with us-48. Should be STATE, but was COUNTY.</span>"
      ],
      "text/plain": [
       "<IPython.core.display.Markdown object>"
      ]
     },
     "metadata": {},
     "output_type": "display_data"
    }
   ],
   "source": [
    "# No us-48 at non-state level\n",
    "run_catching(\n",
    "    lambda: geocode_counties('us-48').get_geocodes()\n",
    ")"
   ]
  },
  {
   "cell_type": "markdown",
   "metadata": {},
   "source": [
    "### Geocoding and geoms"
   ]
  },
  {
   "cell_type": "code",
   "execution_count": 39,
   "metadata": {
    "execution": {
     "iopub.execute_input": "2024-11-07T09:09:06.291804Z",
     "iopub.status.busy": "2024-11-07T09:09:06.291522Z",
     "iopub.status.idle": "2024-11-07T09:09:06.295120Z",
     "shell.execute_reply": "2024-11-07T09:09:06.294633Z"
    }
   },
   "outputs": [],
   "source": [
    "cities = geocode_cities(['boston', 'new york'])\n",
    "p = ggplot() + ggsize(300, 200)"
   ]
  },
  {
   "cell_type": "code",
   "execution_count": 40,
   "metadata": {
    "execution": {
     "iopub.execute_input": "2024-11-07T09:09:06.297379Z",
     "iopub.status.busy": "2024-11-07T09:09:06.297161Z",
     "iopub.status.idle": "2024-11-07T09:09:07.299603Z",
     "shell.execute_reply": "2024-11-07T09:09:07.299187Z"
    }
   },
   "outputs": [
    {
     "data": {
      "text/html": [
       "   <div id=\"OZnOGs\"></div>\n",
       "   <script type=\"text/javascript\" data-lets-plot-script=\"plot\">\n",
       "   \n",
       "   (function() {\n",
       "   // ----------\n",
       "   \n",
       "   var containerDiv = document.getElementById(\"OZnOGs\");\n",
       "   var observer = new ResizeObserver(function(entries) {\n",
       "       for (let entry of entries) {\n",
       "           var width = containerDiv.clientWidth\n",
       "           if (entry.contentBoxSize && width > 0) {\n",
       "           \n",
       "               // Render plot\n",
       "               if (observer) {\n",
       "                   observer.disconnect();\n",
       "                   observer = null;\n",
       "               }\n",
       "\n",
       "               var plotSpec={\n",
       "\"kind\":\"ggbunch\",\n",
       "\"items\":[{\n",
       "\"x\":0.0,\n",
       "\"y\":0.0,\n",
       "\"width\":null,\n",
       "\"height\":null,\n",
       "\"feature_spec\":{\n",
       "\"mapping\":{\n",
       "},\n",
       "\"data_meta\":{\n",
       "},\n",
       "\"ggsize\":{\n",
       "\"width\":300.0,\n",
       "\"height\":200.0\n",
       "},\n",
       "\"ggtitle\":{\n",
       "\"text\":\"geom_map()\"\n",
       "},\n",
       "\"kind\":\"plot\",\n",
       "\"scales\":[],\n",
       "\"layers\":[{\n",
       "\"geom\":\"map\",\n",
       "\"mapping\":{\n",
       "},\n",
       "\"data_meta\":{\n",
       "},\n",
       "\"map\":{\n",
       "\"city\":[\"boston\",\"new york\"],\n",
       "\"found name\":[\"Boston\",\"New York\"],\n",
       "\"geometry\":[\"{\\\"type\\\": \\\"MultiPolygon\\\", \\\"coordinates\\\": [[[[-71.040506512, 42.279931837], [-71.040751934, 42.278722176], [-71.041406393, 42.277820964], [-71.04316324, 42.276512062], [-71.044338048, 42.276033294], [-71.045813262, 42.276094984], [-71.048582643, 42.277625166], [-71.049237102, 42.277774026], [-71.052596569, 42.277379746], [-71.054401696, 42.276729319], [-71.05524525, 42.27605341], [-71.055585891, 42.275420416], [-71.055575162, 42.274763283], [-71.054986417, 42.273866095], [-71.053712368, 42.272762379], [-71.053489745, 42.271956385], [-71.05369091, 42.271527237], [-71.060978472, 42.267164677], [-71.061828732, 42.266917917], [-71.063102782, 42.267054708], [-71.064696014, 42.268318013], [-71.065032631, 42.268996603], [-71.064781845, 42.269877698], [-71.065459102, 42.270718561], [-71.067523062, 42.271216105], [-71.068051457, 42.270667599], [-71.069409996, 42.270330986], [-71.071679145, 42.270565677], [-71.073197275, 42.269997055], [-71.076855808, 42.270166032], [-71.078875512, 42.269292984], [-71.0808523, 42.269032813], [-71.082614511, 42.268352881], [-71.089050472, 42.269476713], [-71.089820266, 42.269250069], [-71.090190411, 42.268786053], [-71.089859158, 42.267486538], [-71.09021455, 42.266364047], [-71.090818048, 42.266191047], [-71.094131917, 42.266842816], [-71.095353663, 42.265340797], [-71.096431911, 42.264447632], [-71.097483337, 42.262799434], [-71.098864675, 42.26230055], [-71.100731492, 42.260781096], [-71.102799475, 42.259501698], [-71.103824079, 42.259446714], [-71.105001569, 42.26051422], [-71.107585877, 42.26039084], [-71.108955145, 42.26100774], [-71.110465229, 42.26083474], [-71.111461669, 42.260480693], [-71.113325804, 42.258701069], [-71.10954389, 42.255123045], [-71.109346747, 42.247701462], [-71.126376092, 42.238873078], [-71.1256814, 42.237612455], [-71.124762744, 42.237140392], [-71.124084145, 42.236099708], [-71.122637093, 42.235091209], [-71.122603565, 42.234148424], [-71.1229375, 42.233959331], [-71.124053299, 42.23403309], [-71.124460995, 42.23387216], [-71.124718487, 42.233456423], [-71.124524027, 42.23261556], [-71.125229448, 42.231767992], [-71.125950962, 42.231527938], [-71.126609445, 42.230975409], [-71.127529442, 42.230826548], [-71.128830314, 42.229480096], [-71.129203141, 42.228678125], [-71.13010034, 42.228379062], [-71.130749434, 42.227622688], [-71.142677218, 42.235690676], [-71.146642864, 42.255466364], [-71.152313054, 42.258046617], [-71.158593446, 42.254858851], [-71.171324551, 42.265059168], [-71.171694696, 42.265988542], [-71.173607111, 42.266457923], [-71.174316555, 42.266889754], [-71.174582094, 42.267561639], [-71.174501628, 42.268362269], [-71.173215508, 42.269487442], [-71.172953993, 42.270007784], [-71.174784601, 42.273117768], [-71.174852997, 42.273850002], [-71.174415797, 42.27475926], [-71.174764484, 42.275553184], [-71.176364422, 42.276355155], [-71.177461445, 42.276579117], [-71.183047146, 42.275563913], [-71.185357869, 42.279301526], [-71.187808067, 42.279974752], [-71.189929694, 42.281000685], [-71.190974414, 42.281834842], [-71.191249341, 42.282702526], [-71.178612113, 42.294320374], [-71.164702177, 42.303540356], [-71.152113229, 42.294298916], [-71.146882921, 42.296990481], [-71.140185446, 42.301821081], [-71.136501431, 42.305914082], [-71.131862551, 42.312887742], [-71.123712659, 42.322426903], [-71.123367995, 42.322282065], [-71.121529341, 42.323592308], [-71.120070219, 42.322515415], [-71.119437218, 42.322445678], [-71.118869931, 42.322567717], [-71.118397862, 42.323164501], [-71.116536409, 42.323648634], [-71.115965098, 42.326089415], [-71.115039736, 42.327018789], [-71.113559157, 42.330213262], [-71.113254726, 42.332106878], [-71.11219123, 42.333510998], [-71.110533625, 42.335039838], [-71.110990942, 42.335467646], [-71.110707968, 42.336018833], [-71.11155957, 42.337042083], [-71.110884994, 42.338593722], [-71.110579222, 42.340153408], [-71.109553277, 42.34120348], [-71.108445525, 42.34156021], [-71.108028442, 42.342187839], [-71.106514335, 42.34281681], [-71.105516553, 42.343522222], [-71.107141972, 42.346755586], [-71.106550545, 42.349500794], [-71.122873127, 42.351464147], [-71.122942865, 42.351126193], [-71.124135107, 42.351253596], [-71.126414984, 42.349919213], [-71.12858355, 42.349542368], [-71.129070371, 42.348878529], [-71.133380681, 42.346832028], [-71.135278344, 42.345650529], [-71.140778214, 42.341245054], [-71.14161104, 42.340449789], [-71.14193961, 42.339717554], [-71.144211441, 42.339732306], [-71.146244556, 42.338304047], [-71.146605313, 42.338246381], [-71.146156043, 42.337152053], [-71.148741692, 42.336575385], [-71.148295105, 42.335515925], [-71.150058657, 42.33510287], [-71.150460988, 42.334677745], [-71.149853468, 42.334345155], [-71.157036424, 42.33010061], [-71.159632802, 42.332585647], [-71.161405742, 42.333434556], [-71.162713319, 42.333594145], [-71.167527884, 42.33306978], [-71.168886423, 42.335536041], [-71.169216335, 42.337778341], [-71.168632954, 42.338338916], [-71.166809052, 42.339000072], [-71.166682988, 42.339814113], [-71.174848974, 42.350046617], [-71.173915565, 42.353174035], [-71.167509109, 42.359792306], [-71.166080832, 42.359626011], [-71.164112091, 42.358358682], [-71.162667722, 42.358268829], [-71.159166098, 42.359627352], [-71.154968441, 42.359640763], [-71.152185649, 42.360458827], [-71.14808321, 42.360914797], [-71.146327704, 42.362226381], [-71.145240068, 42.363859827], [-71.144298613, 42.364647045], [-71.143127829, 42.364778472], [-71.140589118, 42.364142796], [-71.13955915, 42.364262153], [-71.136427671, 42.366634538], [-71.134057939, 42.367549161], [-71.132892519, 42.368222387], [-71.132018119, 42.368997536], [-71.13176465, 42.369559452], [-71.132065058, 42.3704325], [-71.133131236, 42.371754814], [-71.133119166, 42.372421334], [-71.132596135, 42.372996661], [-71.131698936, 42.373462019], [-71.129537076, 42.373653795], [-71.128313988, 42.373354732], [-71.126577258, 42.372226877], [-71.124632657, 42.369430707], [-71.123826653, 42.368866109], [-71.122044325, 42.368412821], [-71.118959785, 42.368469147], [-71.1176911, 42.367854929], [-71.117082238, 42.366743166], [-71.116873026, 42.365595195], [-71.116577983, 42.359275987], [-71.117165387, 42.356707802], [-71.117066145, 42.355577265], [-71.116522998, 42.354736403], [-71.114916354, 42.353570997], [-71.113206446, 42.352825352], [-71.111512631, 42.352448506], [-71.104317605, 42.352111893], [-71.09724462, 42.352901794], [-71.093041599, 42.353593795], [-71.091001779, 42.354106091], [-71.077952832, 42.358444512], [-71.076810211, 42.359214297], [-71.07609272, 42.360090027], [-71.07479319, 42.363482981], [-71.073721647, 42.364766402], [-71.069478393, 42.36875614], [-71.063983887, 42.368642148], [-71.067115366, 42.371525487], [-71.072466373, 42.372367691], [-71.075656861, 42.379904607], [-71.080702096, 42.380749493], [-71.080971658, 42.382032915], [-71.079712361, 42.382629699], [-71.073342115, 42.391605603], [-71.072569638, 42.390496523], [-71.070744395, 42.393012405], [-71.069037169, 42.393593096], [-71.067364812, 42.395010626], [-71.066859215, 42.394684742], [-71.066970527, 42.39395519], [-71.067410409, 42.393185405], [-71.069121659, 42.391487587], [-71.070877165, 42.388747744], [-71.066566855, 42.386384746], [-71.06474027, 42.386260025], [-71.059936434, 42.38695605], [-71.056175977, 42.386859491], [-71.046984047, 42.385059751], [-71.046408713, 42.384673518], [-71.047681421, 42.379621638], [-71.05831638, 42.381198758], [-71.048161536, 42.378952435], [-71.047496349, 42.376635034], [-71.050700247, 42.370940773], [-71.054590791, 42.374112447], [-71.052899659, 42.372123613], [-71.055799127, 42.373368143], [-71.054204553, 42.371512077], [-71.061311066, 42.369292575], [-71.060640514, 42.366854477], [-71.049410105, 42.366906779], [-71.050784737, 42.360336787], [-71.047659963, 42.359749391], [-71.051986367, 42.35203411], [-71.04437694, 42.354662643], [-71.042169482, 42.350061369], [-71.040012985, 42.352952755], [-71.040871292, 42.34953298], [-71.037758589, 42.352011311], [-71.038938761, 42.34873235], [-71.034140289, 42.350833836], [-71.034102738, 42.347992069], [-71.032179594, 42.350009066], [-71.023227721, 42.346614772], [-71.030973941, 42.345040334], [-71.021836996, 42.344198131], [-71.038721502, 42.343355927], [-71.04197368, 42.339186483], [-71.014177948, 42.341718458], [-71.009628922, 42.338161892], [-71.012704074, 42.333678634], [-71.013429612, 42.337895015], [-71.022716761, 42.336344717], [-71.015225351, 42.330167665], [-71.02478072, 42.332534685], [-71.047336757, 42.326967828], [-71.047299206, 42.323211439], [-71.032691896, 42.313212285], [-71.037462205, 42.310016471], [-71.046106964, 42.313162665], [-71.042468548, 42.309517587], [-71.047650576, 42.303654349], [-71.047842354, 42.307286016], [-71.053327471, 42.307114356], [-71.049487889, 42.301692336], [-71.043678224, 42.302124167], [-71.046662182, 42.298048599], [-71.0419254, 42.289092812], [-71.042157412, 42.293050363], [-71.037867218, 42.290582761], [-71.041788608, 42.278765091], [-71.040506512, 42.279931837]]], [[[-70.969338119, 42.355250039], [-70.966887921, 42.357045757], [-70.966044366, 42.355899126], [-70.955673605, 42.353108321], [-70.953240842, 42.343868223], [-70.969338119, 42.355250039]]], [[[-70.999808013, 42.377556362], [-71.006123275, 42.375761986], [-71.010359824, 42.364748968], [-71.002857685, 42.364439177], [-70.997939855, 42.360437369], [-70.986624956, 42.359774871], [-70.991628617, 42.35366085], [-70.999156237, 42.356718531], [-71.006065607, 42.355347939], [-71.004846543, 42.346852144], [-71.02819249, 42.357761898], [-71.026836634, 42.364478068], [-71.033949852, 42.360218772], [-71.034239531, 42.363729741], [-71.041811407, 42.364062331], [-71.044926792, 42.370251454], [-71.041186452, 42.373868369], [-71.042172164, 42.381885395], [-71.035160869, 42.384488447], [-71.027106196, 42.382365504], [-71.024489701, 42.384987332], [-71.022223234, 42.386058862], [-71.019114554, 42.388514395], [-71.016818583, 42.391605603], [-71.016622782, 42.393649422], [-71.015486866, 42.396374513], [-71.011954397, 42.395477325], [-71.00989446, 42.395184968], [-71.005861759, 42.393601143], [-71.00140661, 42.396449614], [-70.998305976, 42.396638708], [-70.996475369, 42.396017784], [-70.995236188, 42.393386568], [-70.993278176, 42.392536318], [-70.994560272, 42.392344543], [-70.987587869, 42.392054868], [-70.991360396, 42.391863092], [-70.98671481, 42.386848763], [-70.995178521, 42.385608256], [-70.995603651, 42.381155843], [-71.008754522, 42.384268509], [-71.019612104, 42.377255958], [-71.011482328, 42.371276045], [-71.005664617, 42.379145551], [-70.999808013, 42.377556362]]], [[[-71.01717934, 42.311865832], [-71.011434048, 42.312113934], [-71.017153859, 42.312937362], [-71.006548405, 42.320611069], [-70.999191105, 42.320322735], [-71.011502445, 42.308539933], [-71.01717934, 42.311865832]]], [[[-70.930373669, 42.331070217], [-70.930030346, 42.33340237], [-70.92446208, 42.325098351], [-70.930942297, 42.328231133], [-70.930373669, 42.331070217]]], [[[-70.958624035, 42.33002685], [-70.95388189, 42.329489074], [-70.965919644, 42.313263246], [-70.976868421, 42.310090231], [-70.958624035, 42.33002685]]], [[[-70.986919999, 42.328000466], [-70.98353371, 42.327320534], [-70.986139476, 42.318761708], [-70.991074741, 42.32607064], [-70.986919999, 42.328000466]]]]}\",\"{\\\"type\\\": \\\"MultiPolygon\\\", \\\"coordinates\\\": [[[[-73.75658378, 40.610468968], [-73.755307049, 40.610243665], [-73.755392879, 40.609819881], [-73.750151843, 40.61148283], [-73.747082055, 40.611788598], [-73.746706545, 40.611135488], [-73.745504916, 40.611583412], [-73.742921948, 40.607274497], [-73.743325621, 40.606949953], [-73.741218746, 40.605276276], [-73.740414083, 40.604291917], [-73.738202602, 40.603079574], [-73.738291115, 40.595776009], [-73.736705929, 40.595758575], [-73.73658523, 40.594225712], [-73.813028187, 40.582976667], [-73.940636963, 40.54163361], [-73.940854222, 40.553735587], [-73.926401138, 40.561163873], [-73.911474645, 40.564808949], [-73.90164569, 40.562601519], [-73.892574459, 40.568317235], [-73.87783438, 40.568523763], [-73.852031529, 40.581347245], [-73.821435571, 40.586514456], [-73.809561431, 40.593292314], [-73.805719167, 40.590480053], [-73.807796538, 40.594050029], [-73.802452236, 40.592385739], [-73.802866638, 40.598576201], [-73.78656283, 40.603009837], [-73.790417165, 40.598958411], [-73.789746612, 40.5944832], [-73.778795153, 40.609176159], [-73.774334639, 40.607313388], [-73.781855553, 40.598037083], [-73.775074929, 40.601489043], [-73.773720413, 40.597929796], [-73.76810655, 40.597573067], [-73.771026134, 40.599910583], [-73.769058734, 40.609412191], [-73.77344951, 40.613326826], [-73.766365796, 40.613962502], [-73.761532456, 40.608785903], [-73.75658378, 40.610468968]]], [[[-73.766731918, 40.620018855], [-73.766136467, 40.615758218], [-73.767950982, 40.615197644], [-73.768938035, 40.619061318], [-73.766731918, 40.620018855]]], [[[-73.741582185, 40.637571013], [-73.742504865, 40.637844595], [-73.743116409, 40.637772176], [-73.74401629, 40.637428857], [-73.744118214, 40.637140523], [-73.747067302, 40.636641639], [-73.746156693, 40.64011908], [-73.748613596, 40.644763267], [-73.754456788, 40.647627831], [-73.747531325, 40.641454803], [-73.748690039, 40.635013558], [-73.766328245, 40.628057335], [-73.770788759, 40.619808304], [-73.777085245, 40.62744714], [-73.784989715, 40.620276343], [-73.78891781, 40.622892806], [-73.782839924, 40.62996168], [-73.82175073, 40.649498648], [-73.822268397, 40.659086085], [-73.81145373, 40.660459359], [-73.823331892, 40.660075808], [-73.823293, 40.648284964], [-73.828922957, 40.649170082], [-73.828955144, 40.655898319], [-73.832000792, 40.653724416], [-73.833327144, 40.657775842], [-73.833872974, 40.647875932], [-73.839734942, 40.662008316], [-73.835935593, 40.645227283], [-73.840624094, 40.644657321], [-73.850884885, 40.644838368], [-73.849164248, 40.650835713], [-73.856011927, 40.650751224], [-73.859610111, 40.654820085], [-73.857239038, 40.643491916], [-73.867285252, 40.639687249], [-73.879341781, 40.654356068], [-73.869680464, 40.638021618], [-73.87503013, 40.636699305], [-73.882152736, 40.643486551], [-73.891167641, 40.648908569], [-73.877024353, 40.63560766], [-73.882619441, 40.628043924], [-73.896191418, 40.622470363], [-73.896009028, 40.614477479], [-73.889719248, 40.611187791], [-73.892782331, 40.606974093], [-73.899942487, 40.605276276], [-73.901428431, 40.61147076], [-73.908784389, 40.617144903], [-73.90169397, 40.605525718], [-73.913643211, 40.603705862], [-73.91673848, 40.606532875], [-73.914226592, 40.614633046], [-73.919540048, 40.607635249], [-73.914450556, 40.602552526], [-73.908914477, 40.601333477], [-73.883965909, 40.605277617], [-73.87677893, 40.584764337], [-73.879745454, 40.579893506], [-73.895241916, 40.576477755], [-73.899443597, 40.587561846], [-73.911765665, 40.585984727], [-73.913625777, 40.592607019], [-73.914634287, 40.591113047], [-73.92168045, 40.596783166], [-73.920677304, 40.599311117], [-73.914245367, 40.594811767], [-73.91530484, 40.598578883], [-73.921589255, 40.601489043], [-73.924555779, 40.599429133], [-73.93015489, 40.603760846], [-73.914170265, 40.588558274], [-73.924719393, 40.585304795], [-73.927766383, 40.588374545], [-73.923989832, 40.590851535], [-73.929938972, 40.589187245], [-73.932504505, 40.594615968], [-73.931225091, 40.586562736], [-73.925156593, 40.584419677], [-73.913054466, 40.585774176], [-73.911690563, 40.581466602], [-73.953510225, 40.58273393], [-73.932606429, 40.581017337], [-73.931104392, 40.575830009], [-73.992960155, 40.56995068], [-74.002032727, 40.569754881], [-74.011869729, 40.57474641], [-74.012058824, 40.579700389], [-74.007941633, 40.581537679], [-73.988608271, 40.578539007], [-73.986691833, 40.579568962], [-73.991781324, 40.58098381], [-73.99045229, 40.584260088], [-74.000261128, 40.582955209], [-73.993020505, 40.588501949], [-74.000329524, 40.586192595], [-73.997014314, 40.591048674], [-74.009556323, 40.599811343], [-74.029884785, 40.60445553], [-74.036080688, 40.609051438], [-74.041745514, 40.62045739], [-74.038772285, 40.639326497], [-74.026112258, 40.645782494], [-74.029364437, 40.648547817], [-74.024122059, 40.647344861], [-74.024527073, 40.65068417], [-74.016382545, 40.655329698], [-74.019151926, 40.657098593], [-74.014264941, 40.656405251], [-74.015580565, 40.660487522], [-74.008586705, 40.659233605], [-74.010071307, 40.66266679], [-74.003548175, 40.661929192], [-74.007677436, 40.664530902], [-73.99954766, 40.664119188], [-74.002877623, 40.666215309], [-73.998363465, 40.669067802], [-73.998866379, 40.671318148], [-74.002806544, 40.667115178], [-74.006910324, 40.665951114], [-74.005421698, 40.670694542], [-74.011525065, 40.664800461], [-74.015597999, 40.664359243], [-74.017211348, 40.664835329], [-74.019072801, 40.671316807], [-74.016503245, 40.6646516], [-74.010331482, 40.668963198], [-74.014207274, 40.669448671], [-74.014930129, 40.674370464], [-74.01881665, 40.671976622], [-74.019279331, 40.679341877], [-74.005883038, 40.685874316], [-74.005355984, 40.690812201], [-74.000947773, 40.68986137], [-74.004811496, 40.691465311], [-73.99435088, 40.704160049], [-73.979083747, 40.705695595], [-73.975735009, 40.69932945], [-73.970766217, 40.699711661], [-73.974616528, 40.707433645], [-73.97120744, 40.705522594], [-73.972313851, 40.708809601], [-73.970228434, 40.70470319], [-73.967497945, 40.703173008], [-73.967256546, 40.716716655], [-73.96196723, 40.725020671], [-73.957937211, 40.724297825], [-73.961661458, 40.72561075], [-73.962687403, 40.738454349], [-73.958456218, 40.746834807], [-73.953165561, 40.74744232], [-73.956322521, 40.748807547], [-73.935029805, 40.769641348], [-73.936329335, 40.776743749], [-73.928556293, 40.776299849], [-73.909719139, 40.790644125], [-73.896907568, 40.786366055], [-73.895801157, 40.784948525], [-73.90111059, 40.782440691], [-73.902608603, 40.780058918], [-73.89429912, 40.784039267], [-73.890133649, 40.773341409], [-73.883877397, 40.77384834], [-73.884868473, 40.779710236], [-73.869363964, 40.785446068], [-73.872550428, 40.780549757], [-73.855077177, 40.771992275], [-73.858077228, 40.76992834], [-73.852841556, 40.767346746], [-73.851281852, 40.765054827], [-73.856293559, 40.768588594], [-73.862612844, 40.766583667], [-73.858961016, 40.761829511], [-73.850874156, 40.759140629], [-73.83821547, 40.764066445], [-73.840566427, 40.753481238], [-73.836438507, 40.76283935], [-73.839321882, 40.766922962], [-73.847870082, 40.766397256], [-73.849160224, 40.782015566], [-73.858982474, 40.784923044], [-73.852655143, 40.787861368], [-73.853583187, 40.793868101], [-73.839064389, 40.796791672], [-73.837369233, 40.788605672], [-73.831426799, 40.788286493], [-73.829094619, 40.796150632], [-73.819669336, 40.800654005], [-73.79427284, 40.794695552], [-73.792707771, 40.788522524], [-73.781604767, 40.790979397], [-73.783242255, 40.794703598], [-73.777918071, 40.796481881], [-73.765512854, 40.773982449], [-73.753186762, 40.764274314], [-73.754952997, 40.777351262], [-73.750625253, 40.782471536], [-73.746509403, 40.778428155], [-73.746404797, 40.779963701], [-73.701577038, 40.752156244], [-73.700180948, 40.739277777], [-73.707903028, 40.727496319], [-73.717104346, 40.726072084], [-73.725132197, 40.723962553], [-73.73017475, 40.72192544], [-73.727059364, 40.710469868], [-73.725627065, 40.679434412], [-73.726197034, 40.677107624], [-73.727519363, 40.673882308], [-73.728586882, 40.665528672], [-73.728164434, 40.664789732], [-73.727819771, 40.66479912], [-73.727766126, 40.662866612], [-73.728326708, 40.662795534], [-73.727689683, 40.660885825], [-73.726481348, 40.659002938], [-73.72548759, 40.656504491], [-73.725505024, 40.655352497], [-73.724841177, 40.653980564], [-73.724821061, 40.652463793], [-73.724976629, 40.651982343], [-73.725643158, 40.651612203], [-73.729316443, 40.650381084], [-73.735199869, 40.64941416], [-73.740764111, 40.647519202], [-73.741297871, 40.646605922], [-73.74201268, 40.642921953], [-73.742137402, 40.641694858], [-73.741893321, 40.640992128], [-73.742746264, 40.640430212], [-73.74016732, 40.637620633], [-73.739241958, 40.635205334], [-73.738881201, 40.635103411], [-73.739976883, 40.634887496], [-73.741299212, 40.637617951], [-73.741582185, 40.637571013]]], [[[-73.822409213, 40.890641004], [-73.792422116, 40.882953889], [-73.795664907, 40.880641853], [-73.803035617, 40.868648504], [-73.805755377, 40.868710194], [-73.80779922, 40.870868004], [-73.809309304, 40.871006136], [-73.802271187, 40.865258233], [-73.792891502, 40.87931954], [-73.789506555, 40.880888613], [-73.784171641, 40.877924809], [-73.788381368, 40.870532732], [-73.78511712, 40.873338288], [-73.783215433, 40.871062462], [-73.791621476, 40.867147826], [-73.800396323, 40.847972951], [-73.804600686, 40.861310071], [-73.80836919, 40.859688695], [-73.815265149, 40.86296095], [-73.815397918, 40.870043235], [-73.822000176, 40.870017754], [-73.81946817, 40.883676735], [-73.820307702, 40.886938261], [-73.823987693, 40.88833031], [-73.822409213, 40.890641004]]], [[[-73.934054822, 40.881540382], [-73.929820955, 40.888409434], [-73.919898123, 40.913330871], [-73.919289261, 40.91590576], [-73.910808116, 40.915099766], [-73.859309703, 40.900206985], [-73.85940358, 40.901105514], [-73.85900259, 40.901204754], [-73.859603405, 40.901904802], [-73.859104514, 40.902205206], [-73.858302534, 40.90180422], [-73.85820061, 40.902105965], [-73.857198805, 40.90260485], [-73.857004344, 40.904105527], [-73.857586384, 40.904396543], [-73.857304752, 40.904742544], [-73.856697232, 40.904637939], [-73.856117874, 40.904895428], [-73.856324404, 40.905893197], [-73.85568738, 40.905787252], [-73.854103535, 40.906406834], [-73.853801787, 40.906905719], [-73.853804469, 40.907408627], [-73.854881376, 40.907943721], [-73.854342252, 40.908701436], [-73.852935433, 40.909646903], [-73.852184415, 40.909241894], [-73.851385117, 40.909774306], [-73.85113433, 40.909720662], [-73.853471875, 40.907173936], [-73.851056546, 40.906286136], [-73.850242496, 40.907283906], [-73.847049326, 40.905858329], [-73.84496659, 40.905264227], [-73.844895512, 40.903927163], [-73.841389865, 40.90392448], [-73.840786368, 40.901420669], [-73.839185089, 40.899087176], [-73.839717507, 40.897237816], [-73.838397861, 40.89379122], [-73.825859874, 40.890187717], [-73.826887161, 40.889305281], [-73.820537031, 40.884809954], [-73.823601454, 40.869673095], [-73.818866014, 40.862103995], [-73.823227286, 40.859821463], [-73.812808245, 40.858571569], [-73.812383115, 40.853924699], [-73.817469925, 40.851534881], [-73.816093951, 40.845990823], [-73.811617345, 40.84645484], [-73.813612908, 40.843363632], [-73.815672845, 40.844117323], [-73.816401064, 40.843775346], [-73.817441761, 40.844130734], [-73.818329573, 40.84390409], [-73.815318793, 40.831195941], [-73.8099356, 40.827899547], [-73.81410107, 40.824014416], [-73.807465285, 40.825165069], [-73.804907799, 40.818760033], [-73.797723502, 40.815395244], [-73.803199232, 40.812224912], [-73.807053566, 40.816240129], [-73.804918528, 40.811734074], [-73.790890574, 40.807112685], [-73.790823519, 40.804093896], [-73.816414475, 40.81372693], [-73.829708844, 40.810788607], [-73.834404051, 40.804696044], [-73.84258613, 40.817008572], [-73.846659064, 40.810316544], [-73.848676085, 40.812655401], [-73.852657825, 40.813993807], [-73.848638535, 40.804437214], [-73.855952919, 40.804293718], [-73.858931512, 40.810022845], [-73.859402239, 40.807952206], [-73.867755979, 40.810419807], [-73.873509318, 40.800601703], [-73.895160109, 40.806577591], [-73.911982924, 40.796381299], [-73.920472115, 40.799583817], [-73.913833648, 40.793516735], [-73.924480677, 40.782074574], [-73.934994936, 40.782727683], [-73.932417333, 40.789455921], [-73.926094025, 40.790527451], [-73.927402943, 40.798226636], [-73.923759162, 40.800824323], [-73.927672505, 40.802300861], [-73.932851851, 40.809875326], [-73.933254182, 40.834672041], [-73.908659667, 40.871157679], [-73.922798932, 40.878636926], [-73.934054822, 40.881540382]]], [[[-74.015403539, 40.69279567], [-74.013188034, 40.687891312], [-74.025967419, 40.684176498], [-74.019728601, 40.692868089], [-74.015403539, 40.69279567]]], [[[-73.961539418, 40.749451269], [-73.944730014, 40.769491146], [-73.940109909, 40.772662819], [-73.941174746, 40.769104912], [-73.961539418, 40.749451269]]], [[[-73.883814365, 40.795363414], [-73.872064948, 40.790602551], [-73.871537894, 40.786599404], [-73.889155984, 40.787170708], [-73.891910613, 40.796275353], [-73.887421936, 40.798075093], [-73.883814365, 40.795363414]]], [[[-74.014231414, 40.699837723], [-74.019343704, 40.705808246], [-74.016708434, 40.718366193], [-74.01321888, 40.718052378], [-74.016377181, 40.720118995], [-74.012544304, 40.721221369], [-74.011380225, 40.727952289], [-74.014869779, 40.728394848], [-74.011165649, 40.730190565], [-74.014043659, 40.733063175], [-74.010727108, 40.733154369], [-74.012650251, 40.740475368], [-74.009485245, 40.740429771], [-74.012154043, 40.743292994], [-74.008897841, 40.743655087], [-74.011781216, 40.745334129], [-74.007037729, 40.758928737], [-74.000974596, 40.763146459], [-74.003157914, 40.764475477], [-73.999628127, 40.76329532], [-74.001630396, 40.766641334], [-73.997920901, 40.765795107], [-74.000671506, 40.767950236], [-73.99715513, 40.766853226], [-73.99975419, 40.769214882], [-73.994169831, 40.77219612], [-73.99618417, 40.773716914], [-73.953938037, 40.828327354], [-73.946101964, 40.843594299], [-73.947075605, 40.84995642], [-73.929225504, 40.875231904], [-73.923253566, 40.876991412], [-73.921487331, 40.872899752], [-73.920869082, 40.875210447], [-73.910441995, 40.871108059], [-73.919510543, 40.858509879], [-73.921401501, 40.860223789], [-73.934879601, 40.835023406], [-73.934347183, 40.809344255], [-73.929271102, 40.795590057], [-73.943226635, 40.78303211], [-73.942875266, 40.774496086], [-73.971358985, 40.743570599], [-73.976760954, 40.711220877], [-73.997853845, 40.708334856], [-74.008354694, 40.700395615], [-74.014231414, 40.699837723]]], [[[-73.79115209, 40.854202305], [-73.788996935, 40.858217522], [-73.781505525, 40.848432944], [-73.782838583, 40.836069455], [-73.791511506, 40.846539328], [-73.79115209, 40.854202305]]], [[[-73.769862056, 40.859260888], [-73.765329123, 40.854905035], [-73.769483864, 40.852580929], [-73.768943399, 40.844841511], [-73.77245307, 40.851412842], [-73.769862056, 40.859260888]]], [[[-74.217251837, 40.503358963], [-74.247838408, 40.495812662], [-74.255678505, 40.507382226], [-74.251400381, 40.514237868], [-74.245790541, 40.515648692], [-74.2477566, 40.517404176], [-74.23987627, 40.51983825], [-74.242966175, 40.520999632], [-74.240979999, 40.533233036], [-74.247992635, 40.542828519], [-74.246163368, 40.545400726], [-74.228679389, 40.556024824], [-74.218669385, 40.554399425], [-74.21196118, 40.558308697], [-74.204684347, 40.589130919], [-74.196900576, 40.596215886], [-74.198351651, 40.608034893], [-74.19467032, 40.613678191], [-74.200581908, 40.616692957], [-74.201560915, 40.622361735], [-74.194627404, 40.637131136], [-74.179200679, 40.644870554], [-74.178841263, 40.642416363], [-74.174437076, 40.64486519], [-74.153993279, 40.636797205], [-74.134422541, 40.641605005], [-74.127419293, 40.639746257], [-74.127801508, 40.637109678], [-74.127016962, 40.639928645], [-74.109644294, 40.645212531], [-74.085478932, 40.648598778], [-74.071540833, 40.644917492], [-74.073008001, 40.630040804], [-74.068075418, 40.628533421], [-74.072911441, 40.629733695], [-74.07221809, 40.624370685], [-74.053816795, 40.605608865], [-74.052254409, 40.599516303], [-74.0733473, 40.578029393], [-74.112547785, 40.547239357], [-74.122694582, 40.544276894], [-74.136368483, 40.529225865], [-74.140301943, 40.535204435], [-74.133667499, 40.535441808], [-74.127431363, 40.54175699], [-74.133059978, 40.546551379], [-74.14137885, 40.542748054], [-74.141715467, 40.536693043], [-74.156334847, 40.528618353], [-74.177590013, 40.519032257], [-74.184644222, 40.519059078], [-74.195029736, 40.509700967], [-74.19992879, 40.512640632], [-74.208290577, 40.511248583], [-74.217251837, 40.503358963]]], [[[-74.198814332, 40.601389803], [-74.202702194, 40.60735228], [-74.201621264, 40.613705013], [-74.198367745, 40.613359012], [-74.198814332, 40.601389803]]], [[[-73.838169873, 40.592026328], [-73.843165487, 40.593640997], [-73.838768005, 40.596303057], [-73.834284693, 40.593324501], [-73.838169873, 40.592026328]]], [[[-73.859143406, 40.596143467], [-73.8633129, 40.599535078], [-73.860909641, 40.602348681], [-73.850302845, 40.59856279], [-73.859143406, 40.596143467]]], [[[-73.810686618, 40.602297719], [-73.809971809, 40.599577993], [-73.81187886, 40.598100114], [-73.815094829, 40.603866792], [-73.810686618, 40.602297719]]], [[[-73.879585862, 40.619072046], [-73.87279585, 40.624778375], [-73.865354061, 40.627448481], [-73.866229802, 40.617736323], [-73.877208084, 40.615436357], [-73.879585862, 40.619072046]]], [[[-73.848733753, 40.606275386], [-73.845389038, 40.613560175], [-73.836638331, 40.611866381], [-73.841337562, 40.604317398], [-73.848733753, 40.606275386]]], [[[-73.820684552, 40.607856529], [-73.820655048, 40.612079614], [-73.82257551, 40.610105533], [-73.825542033, 40.613892765], [-73.837265968, 40.615114496], [-73.830754906, 40.625624602], [-73.83318767, 40.638572805], [-73.826262206, 40.635169124], [-73.823539764, 40.639180318], [-73.814184219, 40.614360805], [-73.819258958, 40.597221702], [-73.821229041, 40.594536844], [-73.827235848, 40.595293218], [-73.826871067, 40.598535968], [-73.821414113, 40.599689304], [-73.824436963, 40.600063467], [-73.820991665, 40.601023686], [-73.820684552, 40.607856529]]], [[[-73.802051246, 40.619648714], [-73.80351305, 40.615272745], [-73.806416541, 40.621503439], [-73.79854694, 40.62523971], [-73.802051246, 40.619648714]]]]}\"]\n",
       "},\n",
       "\"fill\":\"gray\",\n",
       "\"map_data_meta\":{\n",
       "\"geodataframe\":{\n",
       "\"geometry\":\"geometry\"\n",
       "}\n",
       "},\n",
       "\"data\":{\n",
       "}\n",
       "}],\n",
       "\"metainfo_list\":[],\n",
       "\"spec_id\":\"1\"\n",
       "}\n",
       "},{\n",
       "\"x\":300.0,\n",
       "\"y\":0.0,\n",
       "\"width\":null,\n",
       "\"height\":null,\n",
       "\"feature_spec\":{\n",
       "\"mapping\":{\n",
       "},\n",
       "\"data_meta\":{\n",
       "},\n",
       "\"ggsize\":{\n",
       "\"width\":300.0,\n",
       "\"height\":200.0\n",
       "},\n",
       "\"ggtitle\":{\n",
       "\"text\":\"geom_rect()\"\n",
       "},\n",
       "\"kind\":\"plot\",\n",
       "\"scales\":[],\n",
       "\"layers\":[{\n",
       "\"geom\":\"rect\",\n",
       "\"mapping\":{\n",
       "},\n",
       "\"data_meta\":{\n",
       "},\n",
       "\"map\":{\n",
       "\"city\":[\"boston\",\"new york\"],\n",
       "\"found name\":[\"Boston\",\"New York\"],\n",
       "\"geometry\":[\"{\\\"type\\\": \\\"Polygon\\\", \\\"coordinates\\\": [[[-70.9244620800018, 42.2279115021229], [-70.9244620800018, 42.3969778418541], [-71.1912493407726, 42.3969778418541], [-71.1912493407726, 42.2279115021229], [-70.9244620800018, 42.2279115021229]]]}\",\"{\\\"type\\\": \\\"Polygon\\\", \\\"coordinates\\\": [[[-73.7001809477806, 40.4960802197456], [-73.7001809477806, 40.9161785244942], [-74.2556785047054, 40.9161785244942], [-74.2556785047054, 40.4960802197456], [-73.7001809477806, 40.4960802197456]]]}\"]\n",
       "},\n",
       "\"fill\":\"gray\",\n",
       "\"map_data_meta\":{\n",
       "\"geodataframe\":{\n",
       "\"geometry\":\"geometry\"\n",
       "}\n",
       "},\n",
       "\"data\":{\n",
       "}\n",
       "}],\n",
       "\"metainfo_list\":[],\n",
       "\"spec_id\":\"2\"\n",
       "}\n",
       "},{\n",
       "\"x\":600.0,\n",
       "\"y\":0.0,\n",
       "\"width\":null,\n",
       "\"height\":null,\n",
       "\"feature_spec\":{\n",
       "\"mapping\":{\n",
       "},\n",
       "\"data_meta\":{\n",
       "},\n",
       "\"ggsize\":{\n",
       "\"width\":300.0,\n",
       "\"height\":200.0\n",
       "},\n",
       "\"ggtitle\":{\n",
       "\"text\":\"geom_point()\"\n",
       "},\n",
       "\"kind\":\"plot\",\n",
       "\"scales\":[],\n",
       "\"layers\":[{\n",
       "\"geom\":\"point\",\n",
       "\"mapping\":{\n",
       "},\n",
       "\"data_meta\":{\n",
       "},\n",
       "\"map\":{\n",
       "\"city\":[\"boston\",\"new york\"],\n",
       "\"found name\":[\"Boston\",\"New York\"],\n",
       "\"geometry\":[\"{\\\"type\\\": \\\"Point\\\", \\\"coordinates\\\": [-71.0884755326693, 42.3110405355692]}\",\"{\\\"type\\\": \\\"Point\\\", \\\"coordinates\\\": [-73.8673749469137, 40.6847005337477]}\"]\n",
       "},\n",
       "\"map_data_meta\":{\n",
       "\"geodataframe\":{\n",
       "\"geometry\":\"geometry\"\n",
       "}\n",
       "},\n",
       "\"data\":{\n",
       "}\n",
       "}],\n",
       "\"metainfo_list\":[],\n",
       "\"spec_id\":\"3\"\n",
       "}\n",
       "}]\n",
       "};\n",
       "               window.letsPlotCall(function() {\n",
       "       \n",
       "               var toolbar = null;\n",
       "               var plotContainer = containerDiv;               \n",
       "               \n",
       "                   var options = {\n",
       "                       sizing: {\n",
       "                           width_mode: \"min\",\n",
       "                           height_mode: \"scaled\",\n",
       "                           width: width\n",
       "                       }\n",
       "                   };\n",
       "                   var fig = LetsPlot.buildPlotFromProcessedSpecs(plotSpec, -1, -1, plotContainer, options);\n",
       "                   if (toolbar) {\n",
       "                     toolbar.bind(fig);\n",
       "                   }\n",
       "               });\n",
       "               \n",
       "               break;\n",
       "           }\n",
       "       }\n",
       "   });\n",
       "   \n",
       "   observer.observe(containerDiv);\n",
       "   \n",
       "   // ----------\n",
       "   })();\n",
       "   \n",
       "   </script>"
      ],
      "text/plain": [
       "<lets_plot.plot.plot.GGBunch at 0x1243fdf60>"
      ]
     },
     "execution_count": 40,
     "metadata": {},
     "output_type": "execute_result"
    }
   ],
   "source": [
    "# geocoder object can be used as map parameter to simply display a geometry\n",
    "plots = GGBunch()\n",
    "plots.add_plot(p + geom_map(map=cities, fill='gray') + ggtitle('geom_map()'), 0, 0)\n",
    "plots.add_plot(p + geom_rect(map=cities, fill='gray') + ggtitle('geom_rect()'), 300, 0)\n",
    "plots.add_plot(p + geom_point(map=cities) + ggtitle('geom_point()'), 600, 0)\n",
    "plots"
   ]
  },
  {
   "cell_type": "code",
   "execution_count": 41,
   "metadata": {
    "execution": {
     "iopub.execute_input": "2024-11-07T09:09:07.301441Z",
     "iopub.status.busy": "2024-11-07T09:09:07.301274Z",
     "iopub.status.idle": "2024-11-07T09:09:08.776553Z",
     "shell.execute_reply": "2024-11-07T09:09:08.776137Z"
    }
   },
   "outputs": [
    {
     "data": {
      "text/html": [
       "   <div id=\"eLCSuG\"></div>\n",
       "   <script type=\"text/javascript\" data-lets-plot-script=\"plot\">\n",
       "   \n",
       "   (function() {\n",
       "   // ----------\n",
       "   \n",
       "   var containerDiv = document.getElementById(\"eLCSuG\");\n",
       "   var observer = new ResizeObserver(function(entries) {\n",
       "       for (let entry of entries) {\n",
       "           var width = containerDiv.clientWidth\n",
       "           if (entry.contentBoxSize && width > 0) {\n",
       "           \n",
       "               // Render plot\n",
       "               if (observer) {\n",
       "                   observer.disconnect();\n",
       "                   observer = null;\n",
       "               }\n",
       "\n",
       "               var plotSpec={\n",
       "\"kind\":\"ggbunch\",\n",
       "\"items\":[{\n",
       "\"x\":0.0,\n",
       "\"y\":0.0,\n",
       "\"width\":null,\n",
       "\"height\":null,\n",
       "\"feature_spec\":{\n",
       "\"mapping\":{\n",
       "},\n",
       "\"data_meta\":{\n",
       "},\n",
       "\"ggsize\":{\n",
       "\"width\":300.0,\n",
       "\"height\":200.0\n",
       "},\n",
       "\"ggtitle\":{\n",
       "\"text\":\"geom_map()\"\n",
       "},\n",
       "\"kind\":\"plot\",\n",
       "\"scales\":[],\n",
       "\"layers\":[{\n",
       "\"geom\":\"map\",\n",
       "\"mapping\":{\n",
       "},\n",
       "\"data_meta\":{\n",
       "},\n",
       "\"map\":{\n",
       "\"city\":[\"boston\",\"new york\"],\n",
       "\"found name\":[\"Boston\",\"New York\"],\n",
       "\"geometry\":[\"{\\\"type\\\": \\\"MultiPolygon\\\", \\\"coordinates\\\": [[[[-71.040506512, 42.279931837], [-71.040751934, 42.278722176], [-71.041406393, 42.277820964], [-71.04316324, 42.276512062], [-71.044338048, 42.276033294], [-71.045813262, 42.276094984], [-71.048582643, 42.277625166], [-71.049237102, 42.277774026], [-71.052596569, 42.277379746], [-71.054401696, 42.276729319], [-71.05524525, 42.27605341], [-71.055585891, 42.275420416], [-71.055575162, 42.274763283], [-71.054986417, 42.273866095], [-71.053712368, 42.272762379], [-71.053489745, 42.271956385], [-71.05369091, 42.271527237], [-71.060978472, 42.267164677], [-71.061828732, 42.266917917], [-71.063102782, 42.267054708], [-71.064696014, 42.268318013], [-71.065032631, 42.268996603], [-71.064781845, 42.269877698], [-71.065459102, 42.270718561], [-71.067523062, 42.271216105], [-71.068051457, 42.270667599], [-71.069409996, 42.270330986], [-71.071679145, 42.270565677], [-71.073197275, 42.269997055], [-71.076855808, 42.270166032], [-71.078875512, 42.269292984], [-71.0808523, 42.269032813], [-71.082614511, 42.268352881], [-71.089050472, 42.269476713], [-71.089820266, 42.269250069], [-71.090190411, 42.268786053], [-71.089859158, 42.267486538], [-71.09021455, 42.266364047], [-71.090818048, 42.266191047], [-71.094131917, 42.266842816], [-71.095353663, 42.265340797], [-71.096431911, 42.264447632], [-71.097483337, 42.262799434], [-71.098864675, 42.26230055], [-71.100731492, 42.260781096], [-71.102799475, 42.259501698], [-71.103824079, 42.259446714], [-71.105001569, 42.26051422], [-71.107585877, 42.26039084], [-71.108955145, 42.26100774], [-71.110465229, 42.26083474], [-71.111461669, 42.260480693], [-71.113325804, 42.258701069], [-71.10954389, 42.255123045], [-71.109346747, 42.247701462], [-71.126376092, 42.238873078], [-71.1256814, 42.237612455], [-71.124762744, 42.237140392], [-71.124084145, 42.236099708], [-71.122637093, 42.235091209], [-71.122603565, 42.234148424], [-71.1229375, 42.233959331], [-71.124053299, 42.23403309], [-71.124460995, 42.23387216], [-71.124718487, 42.233456423], [-71.124524027, 42.23261556], [-71.125229448, 42.231767992], [-71.125950962, 42.231527938], [-71.126609445, 42.230975409], [-71.127529442, 42.230826548], [-71.128830314, 42.229480096], [-71.129203141, 42.228678125], [-71.13010034, 42.228379062], [-71.130749434, 42.227622688], [-71.142677218, 42.235690676], [-71.146642864, 42.255466364], [-71.152313054, 42.258046617], [-71.158593446, 42.254858851], [-71.171324551, 42.265059168], [-71.171694696, 42.265988542], [-71.173607111, 42.266457923], [-71.174316555, 42.266889754], [-71.174582094, 42.267561639], [-71.174501628, 42.268362269], [-71.173215508, 42.269487442], [-71.172953993, 42.270007784], [-71.174784601, 42.273117768], [-71.174852997, 42.273850002], [-71.174415797, 42.27475926], [-71.174764484, 42.275553184], [-71.176364422, 42.276355155], [-71.177461445, 42.276579117], [-71.183047146, 42.275563913], [-71.185357869, 42.279301526], [-71.187808067, 42.279974752], [-71.189929694, 42.281000685], [-71.190974414, 42.281834842], [-71.191249341, 42.282702526], [-71.178612113, 42.294320374], [-71.164702177, 42.303540356], [-71.152113229, 42.294298916], [-71.146882921, 42.296990481], [-71.140185446, 42.301821081], [-71.136501431, 42.305914082], [-71.131862551, 42.312887742], [-71.123712659, 42.322426903], [-71.123367995, 42.322282065], [-71.121529341, 42.323592308], [-71.120070219, 42.322515415], [-71.119437218, 42.322445678], [-71.118869931, 42.322567717], [-71.118397862, 42.323164501], [-71.116536409, 42.323648634], [-71.115965098, 42.326089415], [-71.115039736, 42.327018789], [-71.113559157, 42.330213262], [-71.113254726, 42.332106878], [-71.11219123, 42.333510998], [-71.110533625, 42.335039838], [-71.110990942, 42.335467646], [-71.110707968, 42.336018833], [-71.11155957, 42.337042083], [-71.110884994, 42.338593722], [-71.110579222, 42.340153408], [-71.109553277, 42.34120348], [-71.108445525, 42.34156021], [-71.108028442, 42.342187839], [-71.106514335, 42.34281681], [-71.105516553, 42.343522222], [-71.107141972, 42.346755586], [-71.106550545, 42.349500794], [-71.122873127, 42.351464147], [-71.122942865, 42.351126193], [-71.124135107, 42.351253596], [-71.126414984, 42.349919213], [-71.12858355, 42.349542368], [-71.129070371, 42.348878529], [-71.133380681, 42.346832028], [-71.135278344, 42.345650529], [-71.140778214, 42.341245054], [-71.14161104, 42.340449789], [-71.14193961, 42.339717554], [-71.144211441, 42.339732306], [-71.146244556, 42.338304047], [-71.146605313, 42.338246381], [-71.146156043, 42.337152053], [-71.148741692, 42.336575385], [-71.148295105, 42.335515925], [-71.150058657, 42.33510287], [-71.150460988, 42.334677745], [-71.149853468, 42.334345155], [-71.157036424, 42.33010061], [-71.159632802, 42.332585647], [-71.161405742, 42.333434556], [-71.162713319, 42.333594145], [-71.167527884, 42.33306978], [-71.168886423, 42.335536041], [-71.169216335, 42.337778341], [-71.168632954, 42.338338916], [-71.166809052, 42.339000072], [-71.166682988, 42.339814113], [-71.174848974, 42.350046617], [-71.173915565, 42.353174035], [-71.167509109, 42.359792306], [-71.166080832, 42.359626011], [-71.164112091, 42.358358682], [-71.162667722, 42.358268829], [-71.159166098, 42.359627352], [-71.154968441, 42.359640763], [-71.152185649, 42.360458827], [-71.14808321, 42.360914797], [-71.146327704, 42.362226381], [-71.145240068, 42.363859827], [-71.144298613, 42.364647045], [-71.143127829, 42.364778472], [-71.140589118, 42.364142796], [-71.13955915, 42.364262153], [-71.136427671, 42.366634538], [-71.134057939, 42.367549161], [-71.132892519, 42.368222387], [-71.132018119, 42.368997536], [-71.13176465, 42.369559452], [-71.132065058, 42.3704325], [-71.133131236, 42.371754814], [-71.133119166, 42.372421334], [-71.132596135, 42.372996661], [-71.131698936, 42.373462019], [-71.129537076, 42.373653795], [-71.128313988, 42.373354732], [-71.126577258, 42.372226877], [-71.124632657, 42.369430707], [-71.123826653, 42.368866109], [-71.122044325, 42.368412821], [-71.118959785, 42.368469147], [-71.1176911, 42.367854929], [-71.117082238, 42.366743166], [-71.116873026, 42.365595195], [-71.116577983, 42.359275987], [-71.117165387, 42.356707802], [-71.117066145, 42.355577265], [-71.116522998, 42.354736403], [-71.114916354, 42.353570997], [-71.113206446, 42.352825352], [-71.111512631, 42.352448506], [-71.104317605, 42.352111893], [-71.09724462, 42.352901794], [-71.093041599, 42.353593795], [-71.091001779, 42.354106091], [-71.077952832, 42.358444512], [-71.076810211, 42.359214297], [-71.07609272, 42.360090027], [-71.07479319, 42.363482981], [-71.073721647, 42.364766402], [-71.069478393, 42.36875614], [-71.063983887, 42.368642148], [-71.067115366, 42.371525487], [-71.072466373, 42.372367691], [-71.075656861, 42.379904607], [-71.080702096, 42.380749493], [-71.080971658, 42.382032915], [-71.079712361, 42.382629699], [-71.073342115, 42.391605603], [-71.072569638, 42.390496523], [-71.070744395, 42.393012405], [-71.069037169, 42.393593096], [-71.067364812, 42.395010626], [-71.066859215, 42.394684742], [-71.066970527, 42.39395519], [-71.067410409, 42.393185405], [-71.069121659, 42.391487587], [-71.070877165, 42.388747744], [-71.066566855, 42.386384746], [-71.06474027, 42.386260025], [-71.059936434, 42.38695605], [-71.056175977, 42.386859491], [-71.046984047, 42.385059751], [-71.046408713, 42.384673518], [-71.047681421, 42.379621638], [-71.05831638, 42.381198758], [-71.048161536, 42.378952435], [-71.047496349, 42.376635034], [-71.050700247, 42.370940773], [-71.054590791, 42.374112447], [-71.052899659, 42.372123613], [-71.055799127, 42.373368143], [-71.054204553, 42.371512077], [-71.061311066, 42.369292575], [-71.060640514, 42.366854477], [-71.049410105, 42.366906779], [-71.050784737, 42.360336787], [-71.047659963, 42.359749391], [-71.051986367, 42.35203411], [-71.04437694, 42.354662643], [-71.042169482, 42.350061369], [-71.040012985, 42.352952755], [-71.040871292, 42.34953298], [-71.037758589, 42.352011311], [-71.038938761, 42.34873235], [-71.034140289, 42.350833836], [-71.034102738, 42.347992069], [-71.032179594, 42.350009066], [-71.023227721, 42.346614772], [-71.030973941, 42.345040334], [-71.021836996, 42.344198131], [-71.038721502, 42.343355927], [-71.04197368, 42.339186483], [-71.014177948, 42.341718458], [-71.009628922, 42.338161892], [-71.012704074, 42.333678634], [-71.013429612, 42.337895015], [-71.022716761, 42.336344717], [-71.015225351, 42.330167665], [-71.02478072, 42.332534685], [-71.047336757, 42.326967828], [-71.047299206, 42.323211439], [-71.032691896, 42.313212285], [-71.037462205, 42.310016471], [-71.046106964, 42.313162665], [-71.042468548, 42.309517587], [-71.047650576, 42.303654349], [-71.047842354, 42.307286016], [-71.053327471, 42.307114356], [-71.049487889, 42.301692336], [-71.043678224, 42.302124167], [-71.046662182, 42.298048599], [-71.0419254, 42.289092812], [-71.042157412, 42.293050363], [-71.037867218, 42.290582761], [-71.041788608, 42.278765091], [-71.040506512, 42.279931837]]], [[[-70.969338119, 42.355250039], [-70.966887921, 42.357045757], [-70.966044366, 42.355899126], [-70.955673605, 42.353108321], [-70.953240842, 42.343868223], [-70.969338119, 42.355250039]]], [[[-70.999808013, 42.377556362], [-71.006123275, 42.375761986], [-71.010359824, 42.364748968], [-71.002857685, 42.364439177], [-70.997939855, 42.360437369], [-70.986624956, 42.359774871], [-70.991628617, 42.35366085], [-70.999156237, 42.356718531], [-71.006065607, 42.355347939], [-71.004846543, 42.346852144], [-71.02819249, 42.357761898], [-71.026836634, 42.364478068], [-71.033949852, 42.360218772], [-71.034239531, 42.363729741], [-71.041811407, 42.364062331], [-71.044926792, 42.370251454], [-71.041186452, 42.373868369], [-71.042172164, 42.381885395], [-71.035160869, 42.384488447], [-71.027106196, 42.382365504], [-71.024489701, 42.384987332], [-71.022223234, 42.386058862], [-71.019114554, 42.388514395], [-71.016818583, 42.391605603], [-71.016622782, 42.393649422], [-71.015486866, 42.396374513], [-71.011954397, 42.395477325], [-71.00989446, 42.395184968], [-71.005861759, 42.393601143], [-71.00140661, 42.396449614], [-70.998305976, 42.396638708], [-70.996475369, 42.396017784], [-70.995236188, 42.393386568], [-70.993278176, 42.392536318], [-70.994560272, 42.392344543], [-70.987587869, 42.392054868], [-70.991360396, 42.391863092], [-70.98671481, 42.386848763], [-70.995178521, 42.385608256], [-70.995603651, 42.381155843], [-71.008754522, 42.384268509], [-71.019612104, 42.377255958], [-71.011482328, 42.371276045], [-71.005664617, 42.379145551], [-70.999808013, 42.377556362]]], [[[-71.01717934, 42.311865832], [-71.011434048, 42.312113934], [-71.017153859, 42.312937362], [-71.006548405, 42.320611069], [-70.999191105, 42.320322735], [-71.011502445, 42.308539933], [-71.01717934, 42.311865832]]], [[[-70.930373669, 42.331070217], [-70.930030346, 42.33340237], [-70.92446208, 42.325098351], [-70.930942297, 42.328231133], [-70.930373669, 42.331070217]]], [[[-70.958624035, 42.33002685], [-70.95388189, 42.329489074], [-70.965919644, 42.313263246], [-70.976868421, 42.310090231], [-70.958624035, 42.33002685]]], [[[-70.986919999, 42.328000466], [-70.98353371, 42.327320534], [-70.986139476, 42.318761708], [-70.991074741, 42.32607064], [-70.986919999, 42.328000466]]]]}\",\"{\\\"type\\\": \\\"MultiPolygon\\\", \\\"coordinates\\\": [[[[-73.75658378, 40.610468968], [-73.755307049, 40.610243665], [-73.755392879, 40.609819881], [-73.750151843, 40.61148283], [-73.747082055, 40.611788598], [-73.746706545, 40.611135488], [-73.745504916, 40.611583412], [-73.742921948, 40.607274497], [-73.743325621, 40.606949953], [-73.741218746, 40.605276276], [-73.740414083, 40.604291917], [-73.738202602, 40.603079574], [-73.738291115, 40.595776009], [-73.736705929, 40.595758575], [-73.73658523, 40.594225712], [-73.813028187, 40.582976667], [-73.940636963, 40.54163361], [-73.940854222, 40.553735587], [-73.926401138, 40.561163873], [-73.911474645, 40.564808949], [-73.90164569, 40.562601519], [-73.892574459, 40.568317235], [-73.87783438, 40.568523763], [-73.852031529, 40.581347245], [-73.821435571, 40.586514456], [-73.809561431, 40.593292314], [-73.805719167, 40.590480053], [-73.807796538, 40.594050029], [-73.802452236, 40.592385739], [-73.802866638, 40.598576201], [-73.78656283, 40.603009837], [-73.790417165, 40.598958411], [-73.789746612, 40.5944832], [-73.778795153, 40.609176159], [-73.774334639, 40.607313388], [-73.781855553, 40.598037083], [-73.775074929, 40.601489043], [-73.773720413, 40.597929796], [-73.76810655, 40.597573067], [-73.771026134, 40.599910583], [-73.769058734, 40.609412191], [-73.77344951, 40.613326826], [-73.766365796, 40.613962502], [-73.761532456, 40.608785903], [-73.75658378, 40.610468968]]], [[[-73.766731918, 40.620018855], [-73.766136467, 40.615758218], [-73.767950982, 40.615197644], [-73.768938035, 40.619061318], [-73.766731918, 40.620018855]]], [[[-73.741582185, 40.637571013], [-73.742504865, 40.637844595], [-73.743116409, 40.637772176], [-73.74401629, 40.637428857], [-73.744118214, 40.637140523], [-73.747067302, 40.636641639], [-73.746156693, 40.64011908], [-73.748613596, 40.644763267], [-73.754456788, 40.647627831], [-73.747531325, 40.641454803], [-73.748690039, 40.635013558], [-73.766328245, 40.628057335], [-73.770788759, 40.619808304], [-73.777085245, 40.62744714], [-73.784989715, 40.620276343], [-73.78891781, 40.622892806], [-73.782839924, 40.62996168], [-73.82175073, 40.649498648], [-73.822268397, 40.659086085], [-73.81145373, 40.660459359], [-73.823331892, 40.660075808], [-73.823293, 40.648284964], [-73.828922957, 40.649170082], [-73.828955144, 40.655898319], [-73.832000792, 40.653724416], [-73.833327144, 40.657775842], [-73.833872974, 40.647875932], [-73.839734942, 40.662008316], [-73.835935593, 40.645227283], [-73.840624094, 40.644657321], [-73.850884885, 40.644838368], [-73.849164248, 40.650835713], [-73.856011927, 40.650751224], [-73.859610111, 40.654820085], [-73.857239038, 40.643491916], [-73.867285252, 40.639687249], [-73.879341781, 40.654356068], [-73.869680464, 40.638021618], [-73.87503013, 40.636699305], [-73.882152736, 40.643486551], [-73.891167641, 40.648908569], [-73.877024353, 40.63560766], [-73.882619441, 40.628043924], [-73.896191418, 40.622470363], [-73.896009028, 40.614477479], [-73.889719248, 40.611187791], [-73.892782331, 40.606974093], [-73.899942487, 40.605276276], [-73.901428431, 40.61147076], [-73.908784389, 40.617144903], [-73.90169397, 40.605525718], [-73.913643211, 40.603705862], [-73.91673848, 40.606532875], [-73.914226592, 40.614633046], [-73.919540048, 40.607635249], [-73.914450556, 40.602552526], [-73.908914477, 40.601333477], [-73.883965909, 40.605277617], [-73.87677893, 40.584764337], [-73.879745454, 40.579893506], [-73.895241916, 40.576477755], [-73.899443597, 40.587561846], [-73.911765665, 40.585984727], [-73.913625777, 40.592607019], [-73.914634287, 40.591113047], [-73.92168045, 40.596783166], [-73.920677304, 40.599311117], [-73.914245367, 40.594811767], [-73.91530484, 40.598578883], [-73.921589255, 40.601489043], [-73.924555779, 40.599429133], [-73.93015489, 40.603760846], [-73.914170265, 40.588558274], [-73.924719393, 40.585304795], [-73.927766383, 40.588374545], [-73.923989832, 40.590851535], [-73.929938972, 40.589187245], [-73.932504505, 40.594615968], [-73.931225091, 40.586562736], [-73.925156593, 40.584419677], [-73.913054466, 40.585774176], [-73.911690563, 40.581466602], [-73.953510225, 40.58273393], [-73.932606429, 40.581017337], [-73.931104392, 40.575830009], [-73.992960155, 40.56995068], [-74.002032727, 40.569754881], [-74.011869729, 40.57474641], [-74.012058824, 40.579700389], [-74.007941633, 40.581537679], [-73.988608271, 40.578539007], [-73.986691833, 40.579568962], [-73.991781324, 40.58098381], [-73.99045229, 40.584260088], [-74.000261128, 40.582955209], [-73.993020505, 40.588501949], [-74.000329524, 40.586192595], [-73.997014314, 40.591048674], [-74.009556323, 40.599811343], [-74.029884785, 40.60445553], [-74.036080688, 40.609051438], [-74.041745514, 40.62045739], [-74.038772285, 40.639326497], [-74.026112258, 40.645782494], [-74.029364437, 40.648547817], [-74.024122059, 40.647344861], [-74.024527073, 40.65068417], [-74.016382545, 40.655329698], [-74.019151926, 40.657098593], [-74.014264941, 40.656405251], [-74.015580565, 40.660487522], [-74.008586705, 40.659233605], [-74.010071307, 40.66266679], [-74.003548175, 40.661929192], [-74.007677436, 40.664530902], [-73.99954766, 40.664119188], [-74.002877623, 40.666215309], [-73.998363465, 40.669067802], [-73.998866379, 40.671318148], [-74.002806544, 40.667115178], [-74.006910324, 40.665951114], [-74.005421698, 40.670694542], [-74.011525065, 40.664800461], [-74.015597999, 40.664359243], [-74.017211348, 40.664835329], [-74.019072801, 40.671316807], [-74.016503245, 40.6646516], [-74.010331482, 40.668963198], [-74.014207274, 40.669448671], [-74.014930129, 40.674370464], [-74.01881665, 40.671976622], [-74.019279331, 40.679341877], [-74.005883038, 40.685874316], [-74.005355984, 40.690812201], [-74.000947773, 40.68986137], [-74.004811496, 40.691465311], [-73.99435088, 40.704160049], [-73.979083747, 40.705695595], [-73.975735009, 40.69932945], [-73.970766217, 40.699711661], [-73.974616528, 40.707433645], [-73.97120744, 40.705522594], [-73.972313851, 40.708809601], [-73.970228434, 40.70470319], [-73.967497945, 40.703173008], [-73.967256546, 40.716716655], [-73.96196723, 40.725020671], [-73.957937211, 40.724297825], [-73.961661458, 40.72561075], [-73.962687403, 40.738454349], [-73.958456218, 40.746834807], [-73.953165561, 40.74744232], [-73.956322521, 40.748807547], [-73.935029805, 40.769641348], [-73.936329335, 40.776743749], [-73.928556293, 40.776299849], [-73.909719139, 40.790644125], [-73.896907568, 40.786366055], [-73.895801157, 40.784948525], [-73.90111059, 40.782440691], [-73.902608603, 40.780058918], [-73.89429912, 40.784039267], [-73.890133649, 40.773341409], [-73.883877397, 40.77384834], [-73.884868473, 40.779710236], [-73.869363964, 40.785446068], [-73.872550428, 40.780549757], [-73.855077177, 40.771992275], [-73.858077228, 40.76992834], [-73.852841556, 40.767346746], [-73.851281852, 40.765054827], [-73.856293559, 40.768588594], [-73.862612844, 40.766583667], [-73.858961016, 40.761829511], [-73.850874156, 40.759140629], [-73.83821547, 40.764066445], [-73.840566427, 40.753481238], [-73.836438507, 40.76283935], [-73.839321882, 40.766922962], [-73.847870082, 40.766397256], [-73.849160224, 40.782015566], [-73.858982474, 40.784923044], [-73.852655143, 40.787861368], [-73.853583187, 40.793868101], [-73.839064389, 40.796791672], [-73.837369233, 40.788605672], [-73.831426799, 40.788286493], [-73.829094619, 40.796150632], [-73.819669336, 40.800654005], [-73.79427284, 40.794695552], [-73.792707771, 40.788522524], [-73.781604767, 40.790979397], [-73.783242255, 40.794703598], [-73.777918071, 40.796481881], [-73.765512854, 40.773982449], [-73.753186762, 40.764274314], [-73.754952997, 40.777351262], [-73.750625253, 40.782471536], [-73.746509403, 40.778428155], [-73.746404797, 40.779963701], [-73.701577038, 40.752156244], [-73.700180948, 40.739277777], [-73.707903028, 40.727496319], [-73.717104346, 40.726072084], [-73.725132197, 40.723962553], [-73.73017475, 40.72192544], [-73.727059364, 40.710469868], [-73.725627065, 40.679434412], [-73.726197034, 40.677107624], [-73.727519363, 40.673882308], [-73.728586882, 40.665528672], [-73.728164434, 40.664789732], [-73.727819771, 40.66479912], [-73.727766126, 40.662866612], [-73.728326708, 40.662795534], [-73.727689683, 40.660885825], [-73.726481348, 40.659002938], [-73.72548759, 40.656504491], [-73.725505024, 40.655352497], [-73.724841177, 40.653980564], [-73.724821061, 40.652463793], [-73.724976629, 40.651982343], [-73.725643158, 40.651612203], [-73.729316443, 40.650381084], [-73.735199869, 40.64941416], [-73.740764111, 40.647519202], [-73.741297871, 40.646605922], [-73.74201268, 40.642921953], [-73.742137402, 40.641694858], [-73.741893321, 40.640992128], [-73.742746264, 40.640430212], [-73.74016732, 40.637620633], [-73.739241958, 40.635205334], [-73.738881201, 40.635103411], [-73.739976883, 40.634887496], [-73.741299212, 40.637617951], [-73.741582185, 40.637571013]]], [[[-73.822409213, 40.890641004], [-73.792422116, 40.882953889], [-73.795664907, 40.880641853], [-73.803035617, 40.868648504], [-73.805755377, 40.868710194], [-73.80779922, 40.870868004], [-73.809309304, 40.871006136], [-73.802271187, 40.865258233], [-73.792891502, 40.87931954], [-73.789506555, 40.880888613], [-73.784171641, 40.877924809], [-73.788381368, 40.870532732], [-73.78511712, 40.873338288], [-73.783215433, 40.871062462], [-73.791621476, 40.867147826], [-73.800396323, 40.847972951], [-73.804600686, 40.861310071], [-73.80836919, 40.859688695], [-73.815265149, 40.86296095], [-73.815397918, 40.870043235], [-73.822000176, 40.870017754], [-73.81946817, 40.883676735], [-73.820307702, 40.886938261], [-73.823987693, 40.88833031], [-73.822409213, 40.890641004]]], [[[-73.934054822, 40.881540382], [-73.929820955, 40.888409434], [-73.919898123, 40.913330871], [-73.919289261, 40.91590576], [-73.910808116, 40.915099766], [-73.859309703, 40.900206985], [-73.85940358, 40.901105514], [-73.85900259, 40.901204754], [-73.859603405, 40.901904802], [-73.859104514, 40.902205206], [-73.858302534, 40.90180422], [-73.85820061, 40.902105965], [-73.857198805, 40.90260485], [-73.857004344, 40.904105527], [-73.857586384, 40.904396543], [-73.857304752, 40.904742544], [-73.856697232, 40.904637939], [-73.856117874, 40.904895428], [-73.856324404, 40.905893197], [-73.85568738, 40.905787252], [-73.854103535, 40.906406834], [-73.853801787, 40.906905719], [-73.853804469, 40.907408627], [-73.854881376, 40.907943721], [-73.854342252, 40.908701436], [-73.852935433, 40.909646903], [-73.852184415, 40.909241894], [-73.851385117, 40.909774306], [-73.85113433, 40.909720662], [-73.853471875, 40.907173936], [-73.851056546, 40.906286136], [-73.850242496, 40.907283906], [-73.847049326, 40.905858329], [-73.84496659, 40.905264227], [-73.844895512, 40.903927163], [-73.841389865, 40.90392448], [-73.840786368, 40.901420669], [-73.839185089, 40.899087176], [-73.839717507, 40.897237816], [-73.838397861, 40.89379122], [-73.825859874, 40.890187717], [-73.826887161, 40.889305281], [-73.820537031, 40.884809954], [-73.823601454, 40.869673095], [-73.818866014, 40.862103995], [-73.823227286, 40.859821463], [-73.812808245, 40.858571569], [-73.812383115, 40.853924699], [-73.817469925, 40.851534881], [-73.816093951, 40.845990823], [-73.811617345, 40.84645484], [-73.813612908, 40.843363632], [-73.815672845, 40.844117323], [-73.816401064, 40.843775346], [-73.817441761, 40.844130734], [-73.818329573, 40.84390409], [-73.815318793, 40.831195941], [-73.8099356, 40.827899547], [-73.81410107, 40.824014416], [-73.807465285, 40.825165069], [-73.804907799, 40.818760033], [-73.797723502, 40.815395244], [-73.803199232, 40.812224912], [-73.807053566, 40.816240129], [-73.804918528, 40.811734074], [-73.790890574, 40.807112685], [-73.790823519, 40.804093896], [-73.816414475, 40.81372693], [-73.829708844, 40.810788607], [-73.834404051, 40.804696044], [-73.84258613, 40.817008572], [-73.846659064, 40.810316544], [-73.848676085, 40.812655401], [-73.852657825, 40.813993807], [-73.848638535, 40.804437214], [-73.855952919, 40.804293718], [-73.858931512, 40.810022845], [-73.859402239, 40.807952206], [-73.867755979, 40.810419807], [-73.873509318, 40.800601703], [-73.895160109, 40.806577591], [-73.911982924, 40.796381299], [-73.920472115, 40.799583817], [-73.913833648, 40.793516735], [-73.924480677, 40.782074574], [-73.934994936, 40.782727683], [-73.932417333, 40.789455921], [-73.926094025, 40.790527451], [-73.927402943, 40.798226636], [-73.923759162, 40.800824323], [-73.927672505, 40.802300861], [-73.932851851, 40.809875326], [-73.933254182, 40.834672041], [-73.908659667, 40.871157679], [-73.922798932, 40.878636926], [-73.934054822, 40.881540382]]], [[[-74.015403539, 40.69279567], [-74.013188034, 40.687891312], [-74.025967419, 40.684176498], [-74.019728601, 40.692868089], [-74.015403539, 40.69279567]]], [[[-73.961539418, 40.749451269], [-73.944730014, 40.769491146], [-73.940109909, 40.772662819], [-73.941174746, 40.769104912], [-73.961539418, 40.749451269]]], [[[-73.883814365, 40.795363414], [-73.872064948, 40.790602551], [-73.871537894, 40.786599404], [-73.889155984, 40.787170708], [-73.891910613, 40.796275353], [-73.887421936, 40.798075093], [-73.883814365, 40.795363414]]], [[[-74.014231414, 40.699837723], [-74.019343704, 40.705808246], [-74.016708434, 40.718366193], [-74.01321888, 40.718052378], [-74.016377181, 40.720118995], [-74.012544304, 40.721221369], [-74.011380225, 40.727952289], [-74.014869779, 40.728394848], [-74.011165649, 40.730190565], [-74.014043659, 40.733063175], [-74.010727108, 40.733154369], [-74.012650251, 40.740475368], [-74.009485245, 40.740429771], [-74.012154043, 40.743292994], [-74.008897841, 40.743655087], [-74.011781216, 40.745334129], [-74.007037729, 40.758928737], [-74.000974596, 40.763146459], [-74.003157914, 40.764475477], [-73.999628127, 40.76329532], [-74.001630396, 40.766641334], [-73.997920901, 40.765795107], [-74.000671506, 40.767950236], [-73.99715513, 40.766853226], [-73.99975419, 40.769214882], [-73.994169831, 40.77219612], [-73.99618417, 40.773716914], [-73.953938037, 40.828327354], [-73.946101964, 40.843594299], [-73.947075605, 40.84995642], [-73.929225504, 40.875231904], [-73.923253566, 40.876991412], [-73.921487331, 40.872899752], [-73.920869082, 40.875210447], [-73.910441995, 40.871108059], [-73.919510543, 40.858509879], [-73.921401501, 40.860223789], [-73.934879601, 40.835023406], [-73.934347183, 40.809344255], [-73.929271102, 40.795590057], [-73.943226635, 40.78303211], [-73.942875266, 40.774496086], [-73.971358985, 40.743570599], [-73.976760954, 40.711220877], [-73.997853845, 40.708334856], [-74.008354694, 40.700395615], [-74.014231414, 40.699837723]]], [[[-73.79115209, 40.854202305], [-73.788996935, 40.858217522], [-73.781505525, 40.848432944], [-73.782838583, 40.836069455], [-73.791511506, 40.846539328], [-73.79115209, 40.854202305]]], [[[-73.769862056, 40.859260888], [-73.765329123, 40.854905035], [-73.769483864, 40.852580929], [-73.768943399, 40.844841511], [-73.77245307, 40.851412842], [-73.769862056, 40.859260888]]], [[[-74.217251837, 40.503358963], [-74.247838408, 40.495812662], [-74.255678505, 40.507382226], [-74.251400381, 40.514237868], [-74.245790541, 40.515648692], [-74.2477566, 40.517404176], [-74.23987627, 40.51983825], [-74.242966175, 40.520999632], [-74.240979999, 40.533233036], [-74.247992635, 40.542828519], [-74.246163368, 40.545400726], [-74.228679389, 40.556024824], [-74.218669385, 40.554399425], [-74.21196118, 40.558308697], [-74.204684347, 40.589130919], [-74.196900576, 40.596215886], [-74.198351651, 40.608034893], [-74.19467032, 40.613678191], [-74.200581908, 40.616692957], [-74.201560915, 40.622361735], [-74.194627404, 40.637131136], [-74.179200679, 40.644870554], [-74.178841263, 40.642416363], [-74.174437076, 40.64486519], [-74.153993279, 40.636797205], [-74.134422541, 40.641605005], [-74.127419293, 40.639746257], [-74.127801508, 40.637109678], [-74.127016962, 40.639928645], [-74.109644294, 40.645212531], [-74.085478932, 40.648598778], [-74.071540833, 40.644917492], [-74.073008001, 40.630040804], [-74.068075418, 40.628533421], [-74.072911441, 40.629733695], [-74.07221809, 40.624370685], [-74.053816795, 40.605608865], [-74.052254409, 40.599516303], [-74.0733473, 40.578029393], [-74.112547785, 40.547239357], [-74.122694582, 40.544276894], [-74.136368483, 40.529225865], [-74.140301943, 40.535204435], [-74.133667499, 40.535441808], [-74.127431363, 40.54175699], [-74.133059978, 40.546551379], [-74.14137885, 40.542748054], [-74.141715467, 40.536693043], [-74.156334847, 40.528618353], [-74.177590013, 40.519032257], [-74.184644222, 40.519059078], [-74.195029736, 40.509700967], [-74.19992879, 40.512640632], [-74.208290577, 40.511248583], [-74.217251837, 40.503358963]]], [[[-74.198814332, 40.601389803], [-74.202702194, 40.60735228], [-74.201621264, 40.613705013], [-74.198367745, 40.613359012], [-74.198814332, 40.601389803]]], [[[-73.838169873, 40.592026328], [-73.843165487, 40.593640997], [-73.838768005, 40.596303057], [-73.834284693, 40.593324501], [-73.838169873, 40.592026328]]], [[[-73.859143406, 40.596143467], [-73.8633129, 40.599535078], [-73.860909641, 40.602348681], [-73.850302845, 40.59856279], [-73.859143406, 40.596143467]]], [[[-73.810686618, 40.602297719], [-73.809971809, 40.599577993], [-73.81187886, 40.598100114], [-73.815094829, 40.603866792], [-73.810686618, 40.602297719]]], [[[-73.879585862, 40.619072046], [-73.87279585, 40.624778375], [-73.865354061, 40.627448481], [-73.866229802, 40.617736323], [-73.877208084, 40.615436357], [-73.879585862, 40.619072046]]], [[[-73.848733753, 40.606275386], [-73.845389038, 40.613560175], [-73.836638331, 40.611866381], [-73.841337562, 40.604317398], [-73.848733753, 40.606275386]]], [[[-73.820684552, 40.607856529], [-73.820655048, 40.612079614], [-73.82257551, 40.610105533], [-73.825542033, 40.613892765], [-73.837265968, 40.615114496], [-73.830754906, 40.625624602], [-73.83318767, 40.638572805], [-73.826262206, 40.635169124], [-73.823539764, 40.639180318], [-73.814184219, 40.614360805], [-73.819258958, 40.597221702], [-73.821229041, 40.594536844], [-73.827235848, 40.595293218], [-73.826871067, 40.598535968], [-73.821414113, 40.599689304], [-73.824436963, 40.600063467], [-73.820991665, 40.601023686], [-73.820684552, 40.607856529]]], [[[-73.802051246, 40.619648714], [-73.80351305, 40.615272745], [-73.806416541, 40.621503439], [-73.79854694, 40.62523971], [-73.802051246, 40.619648714]]]]}\"]\n",
       "},\n",
       "\"fill\":\"gray\",\n",
       "\"map_data_meta\":{\n",
       "\"geodataframe\":{\n",
       "\"geometry\":\"geometry\"\n",
       "}\n",
       "},\n",
       "\"data\":{\n",
       "}\n",
       "}],\n",
       "\"metainfo_list\":[],\n",
       "\"spec_id\":\"4\"\n",
       "}\n",
       "},{\n",
       "\"x\":300.0,\n",
       "\"y\":0.0,\n",
       "\"width\":null,\n",
       "\"height\":null,\n",
       "\"feature_spec\":{\n",
       "\"mapping\":{\n",
       "},\n",
       "\"data_meta\":{\n",
       "},\n",
       "\"ggsize\":{\n",
       "\"width\":300.0,\n",
       "\"height\":200.0\n",
       "},\n",
       "\"ggtitle\":{\n",
       "\"text\":\"geom_rect()\"\n",
       "},\n",
       "\"kind\":\"plot\",\n",
       "\"scales\":[],\n",
       "\"layers\":[{\n",
       "\"geom\":\"rect\",\n",
       "\"mapping\":{\n",
       "},\n",
       "\"data_meta\":{\n",
       "},\n",
       "\"map\":{\n",
       "\"city\":[\"boston\",\"new york\"],\n",
       "\"found name\":[\"Boston\",\"New York\"],\n",
       "\"geometry\":[\"{\\\"type\\\": \\\"Polygon\\\", \\\"coordinates\\\": [[[-70.9244620800018, 42.2279115021229], [-70.9244620800018, 42.3969778418541], [-71.1912493407726, 42.3969778418541], [-71.1912493407726, 42.2279115021229], [-70.9244620800018, 42.2279115021229]]]}\",\"{\\\"type\\\": \\\"Polygon\\\", \\\"coordinates\\\": [[[-73.7001809477806, 40.4960802197456], [-73.7001809477806, 40.9161785244942], [-74.2556785047054, 40.9161785244942], [-74.2556785047054, 40.4960802197456], [-73.7001809477806, 40.4960802197456]]]}\"]\n",
       "},\n",
       "\"fill\":\"gray\",\n",
       "\"map_data_meta\":{\n",
       "\"geodataframe\":{\n",
       "\"geometry\":\"geometry\"\n",
       "}\n",
       "},\n",
       "\"data\":{\n",
       "}\n",
       "}],\n",
       "\"metainfo_list\":[],\n",
       "\"spec_id\":\"5\"\n",
       "}\n",
       "},{\n",
       "\"x\":600.0,\n",
       "\"y\":0.0,\n",
       "\"width\":null,\n",
       "\"height\":null,\n",
       "\"feature_spec\":{\n",
       "\"mapping\":{\n",
       "},\n",
       "\"data_meta\":{\n",
       "},\n",
       "\"ggsize\":{\n",
       "\"width\":300.0,\n",
       "\"height\":200.0\n",
       "},\n",
       "\"ggtitle\":{\n",
       "\"text\":\"geom_point()\"\n",
       "},\n",
       "\"kind\":\"plot\",\n",
       "\"scales\":[],\n",
       "\"layers\":[{\n",
       "\"geom\":\"point\",\n",
       "\"mapping\":{\n",
       "},\n",
       "\"data_meta\":{\n",
       "},\n",
       "\"map\":{\n",
       "\"city\":[\"boston\",\"new york\"],\n",
       "\"found name\":[\"Boston\",\"New York\"],\n",
       "\"geometry\":[\"{\\\"type\\\": \\\"Point\\\", \\\"coordinates\\\": [-71.0884755326693, 42.3110405355692]}\",\"{\\\"type\\\": \\\"Point\\\", \\\"coordinates\\\": [-73.8673749469137, 40.6847005337477]}\"]\n",
       "},\n",
       "\"map_data_meta\":{\n",
       "\"geodataframe\":{\n",
       "\"geometry\":\"geometry\"\n",
       "}\n",
       "},\n",
       "\"data\":{\n",
       "}\n",
       "}],\n",
       "\"metainfo_list\":[],\n",
       "\"spec_id\":\"6\"\n",
       "}\n",
       "}]\n",
       "};\n",
       "               window.letsPlotCall(function() {\n",
       "       \n",
       "               var toolbar = null;\n",
       "               var plotContainer = containerDiv;               \n",
       "               \n",
       "                   var options = {\n",
       "                       sizing: {\n",
       "                           width_mode: \"min\",\n",
       "                           height_mode: \"scaled\",\n",
       "                           width: width\n",
       "                       }\n",
       "                   };\n",
       "                   var fig = LetsPlot.buildPlotFromProcessedSpecs(plotSpec, -1, -1, plotContainer, options);\n",
       "                   if (toolbar) {\n",
       "                     toolbar.bind(fig);\n",
       "                   }\n",
       "               });\n",
       "               \n",
       "               break;\n",
       "           }\n",
       "       }\n",
       "   });\n",
       "   \n",
       "   observer.observe(containerDiv);\n",
       "   \n",
       "   // ----------\n",
       "   })();\n",
       "   \n",
       "   </script>"
      ],
      "text/plain": [
       "<lets_plot.plot.plot.GGBunch at 0x105ebccd0>"
      ]
     },
     "execution_count": 41,
     "metadata": {},
     "output_type": "execute_result"
    }
   ],
   "source": [
    "# GeoDataFrame also can be also as map parameter to display a geometry - syntax is the same as with Geocoder.\n",
    "# It is usefull for optimisation - geocoder caches geocodes, but doesn't cache geometries.\n",
    "centroids = cities.get_centroids()\n",
    "bboxes = cities.get_limits()\n",
    "boundaries = cities.get_boundaries()\n",
    "p = ggplot() + ggsize(300, 200)\n",
    "plots = GGBunch()\n",
    "plots.add_plot(p + geom_map(map=cities.get_boundaries(), fill='gray') + ggtitle('geom_map()'), 0, 0)\n",
    "plots.add_plot(p + geom_rect(map=cities.get_limits(), fill='gray') + ggtitle('geom_rect()'), 300, 0)\n",
    "plots.add_plot(p + geom_point(map=cities.get_centroids()) + ggtitle('geom_point()'), 600, 0)\n",
    "plots"
   ]
  },
  {
   "cell_type": "markdown",
   "metadata": {},
   "source": [
    "### map and map_join"
   ]
  },
  {
   "cell_type": "code",
   "execution_count": 42,
   "metadata": {
    "execution": {
     "iopub.execute_input": "2024-11-07T09:09:08.778656Z",
     "iopub.status.busy": "2024-11-07T09:09:08.778474Z",
     "iopub.status.idle": "2024-11-07T09:09:10.416541Z",
     "shell.execute_reply": "2024-11-07T09:09:10.416124Z"
    }
   },
   "outputs": [
    {
     "data": {
      "text/html": [
       "<div>\n",
       "<style scoped>\n",
       "    .dataframe tbody tr th:only-of-type {\n",
       "        vertical-align: middle;\n",
       "    }\n",
       "\n",
       "    .dataframe tbody tr th {\n",
       "        vertical-align: top;\n",
       "    }\n",
       "\n",
       "    .dataframe thead th {\n",
       "        text-align: right;\n",
       "    }\n",
       "</style>\n",
       "<table border=\"1\" class=\"dataframe\">\n",
       "  <thead>\n",
       "    <tr style=\"text-align: right;\">\n",
       "      <th></th>\n",
       "      <th>id</th>\n",
       "      <th>city</th>\n",
       "      <th>found name</th>\n",
       "      <th>state</th>\n",
       "      <th>centroid</th>\n",
       "      <th>position</th>\n",
       "      <th>limit</th>\n",
       "    </tr>\n",
       "  </thead>\n",
       "  <tbody>\n",
       "    <tr>\n",
       "      <th>0</th>\n",
       "      <td>158809705</td>\n",
       "      <td>boston</td>\n",
       "      <td>Boston</td>\n",
       "      <td>massachusetts</td>\n",
       "      <td>[-71.0884755326693, 42.3110405355692]</td>\n",
       "      <td>[-71.1912493407726, 42.2279115021229, -71.0096...</td>\n",
       "      <td>[-71.1912493407726, 42.2279115021229, -70.9244...</td>\n",
       "    </tr>\n",
       "    <tr>\n",
       "      <th>1</th>\n",
       "      <td>61785451</td>\n",
       "      <td>new york</td>\n",
       "      <td>New York</td>\n",
       "      <td>new york</td>\n",
       "      <td>[-73.8673749469137, 40.6847005337477]</td>\n",
       "      <td>[-74.0417455136776, 40.5700233578682, -73.7001...</td>\n",
       "      <td>[-74.2556785047054, 40.4960802197456, -73.7001...</td>\n",
       "    </tr>\n",
       "    <tr>\n",
       "      <th>2</th>\n",
       "      <td>8898137</td>\n",
       "      <td>worcester</td>\n",
       "      <td>Worcester</td>\n",
       "      <td>vermont</td>\n",
       "      <td>[-72.5724501055639, 44.4132962822914]</td>\n",
       "      <td>[-72.6543393731117, 44.3454243242741, -72.4935...</td>\n",
       "      <td>[-72.6543393731117, 44.3454243242741, -72.4935...</td>\n",
       "    </tr>\n",
       "    <tr>\n",
       "      <th>3</th>\n",
       "      <td>158851900</td>\n",
       "      <td>worcester</td>\n",
       "      <td>Worcester</td>\n",
       "      <td>massachusetts</td>\n",
       "      <td>[-71.8154652712922, 42.2678737342358]</td>\n",
       "      <td>[-71.8840424716473, 42.2100399434566, -71.7312...</td>\n",
       "      <td>[-71.8840424716473, 42.2100399434566, -71.7312...</td>\n",
       "    </tr>\n",
       "  </tbody>\n",
       "</table>\n",
       "</div>"
      ],
      "text/plain": [
       "          id       city found name          state  \\\n",
       "0  158809705     boston     Boston  massachusetts   \n",
       "1   61785451   new york   New York       new york   \n",
       "2    8898137  worcester  Worcester        vermont   \n",
       "3  158851900  worcester  Worcester  massachusetts   \n",
       "\n",
       "                                centroid  \\\n",
       "0  [-71.0884755326693, 42.3110405355692]   \n",
       "1  [-73.8673749469137, 40.6847005337477]   \n",
       "2  [-72.5724501055639, 44.4132962822914]   \n",
       "3  [-71.8154652712922, 42.2678737342358]   \n",
       "\n",
       "                                            position  \\\n",
       "0  [-71.1912493407726, 42.2279115021229, -71.0096...   \n",
       "1  [-74.0417455136776, 40.5700233578682, -73.7001...   \n",
       "2  [-72.6543393731117, 44.3454243242741, -72.4935...   \n",
       "3  [-71.8840424716473, 42.2100399434566, -71.7312...   \n",
       "\n",
       "                                               limit  \n",
       "0  [-71.1912493407726, 42.2279115021229, -70.9244...  \n",
       "1  [-74.2556785047054, 40.4960802197456, -73.7001...  \n",
       "2  [-72.6543393731117, 44.3454243242741, -72.4935...  \n",
       "3  [-71.8840424716473, 42.2100399434566, -71.7312...  "
      ]
     },
     "execution_count": 42,
     "metadata": {},
     "output_type": "execute_result"
    }
   ],
   "source": [
    "# map_join allows to join data and geometry.\n",
    "# To make this exmaple more complex a demo data contains cities with same name (Worcester).\n",
    "# Also there is a city and state with same name (New York). \n",
    "# All names in DataFrame are in lower case to distinct user input from geocoding result.\n",
    "import pandas\n",
    "d = pandas.DataFrame({\n",
    "    'City_Name': ['boston', 'new york', 'worcester', 'worcester'],\n",
    "    'State_Name': ['massachusetts', 'new york', 'vermont', 'massachusetts'],\n",
    "    'mean': [523, 556, 600, 533]\n",
    "})\n",
    "\n",
    "geocoder = geocode_cities(d.City_Name).states(d.State_Name)\n",
    "geocoder.get_geocodes()"
   ]
  },
  {
   "cell_type": "code",
   "execution_count": 43,
   "metadata": {
    "execution": {
     "iopub.execute_input": "2024-11-07T09:09:10.418636Z",
     "iopub.status.busy": "2024-11-07T09:09:10.418324Z",
     "iopub.status.idle": "2024-11-07T09:09:10.910657Z",
     "shell.execute_reply": "2024-11-07T09:09:10.909991Z"
    }
   },
   "outputs": [],
   "source": [
    "# Cache boundaries\n",
    "background_states = geocode_states(['massachusetts', 'new york', 'vermont']).inc_res().get_boundaries()\n",
    "\n",
    "def draw_plot(map, map_join):\n",
    "    return ggplot() + \\\n",
    "        geom_map(map=background_states) + \\\n",
    "        geom_point(aes(size='mean', color='City_Name'), data=d, map=map, map_join=map_join) + \\\n",
    "        theme_void()"
   ]
  },
  {
   "cell_type": "code",
   "execution_count": 44,
   "metadata": {
    "execution": {
     "iopub.execute_input": "2024-11-07T09:09:10.913634Z",
     "iopub.status.busy": "2024-11-07T09:09:10.913288Z",
     "iopub.status.idle": "2024-11-07T09:09:11.151776Z",
     "shell.execute_reply": "2024-11-07T09:09:11.151391Z"
    }
   },
   "outputs": [
    {
     "data": {
      "text/html": [
       "   <div id=\"GDA1w5\"></div>\n",
       "   <script type=\"text/javascript\" data-lets-plot-script=\"plot\">\n",
       "   \n",
       "   (function() {\n",
       "   // ----------\n",
       "   \n",
       "   var containerDiv = document.getElementById(\"GDA1w5\");\n",
       "   var observer = new ResizeObserver(function(entries) {\n",
       "       for (let entry of entries) {\n",
       "           var width = containerDiv.clientWidth\n",
       "           if (entry.contentBoxSize && width > 0) {\n",
       "           \n",
       "               // Render plot\n",
       "               if (observer) {\n",
       "                   observer.disconnect();\n",
       "                   observer = null;\n",
       "               }\n",
       "\n",
       "               var plotSpec={\n",
       "\"mapping\":{\n",
       "},\n",
       "\"data_meta\":{\n",
       "},\n",
       "\"theme\":{\n",
       "\"name\":\"classic\",\n",
       "\"line\":\"blank\",\n",
       "\"axis\":\"blank\"\n",
       "},\n",
       "\"kind\":\"plot\",\n",
       "\"scales\":[],\n",
       "\"layers\":[{\n",
       "\"geom\":\"map\",\n",
       "\"mapping\":{\n",
       "},\n",
       "\"data_meta\":{\n",
       "},\n",
       "\"map\":{\n",
       "\"state\":[\"massachusetts\",\"new york\",\"vermont\"],\n",
       "\"found name\":[\"Massachusetts\",\"New York\",\"Vermont\"],\n",
       "\"geometry\":[\"{\\\"type\\\": \\\"MultiPolygon\\\", \\\"coordinates\\\": [[[[-70.889209807, 42.276572138], [-70.877235085, 42.27988869], [-70.885442644, 42.304685712], [-70.919422209, 42.306226641], [-70.883068889, 42.310373336], [-70.853234679, 42.269390523], [-70.801999122, 42.2591874], [-70.804368854, 42.245420963], [-70.788975656, 42.253687531], [-70.794192553, 42.23988086], [-70.771977156, 42.2356309], [-70.767381191, 42.254016101], [-70.747945905, 42.221153677], [-70.71658954, 42.207233012], [-70.719934255, 42.162017673], [-70.642060339, 42.091533244], [-70.643675029, 42.051466405], [-70.59916243, 42.004526407], [-70.638015568, 41.994737685], [-70.608603805, 42.010302544], [-70.656681061, 42.060349882], [-70.672522187, 42.054092288], [-70.651150346, 42.047127932], [-70.671899915, 42.046557963], [-70.668653101, 42.00984925], [-70.688252002, 42.02026695], [-70.729250908, 41.989438981], [-70.703613013, 41.999825835], [-70.651515126, 41.950054765], [-70.629644394, 41.947186142], [-70.651858449, 41.979451776], [-70.621715784, 41.942139566], [-70.583649874, 41.950254589], [-70.539216399, 41.926655173], [-70.547590256, 41.910832822], [-70.525681973, 41.858154237], [-70.54230094, 41.818452179], [-70.489202589, 41.779796183], [-70.542153418, 41.775121093], [-70.272541791, 41.723693758], [-70.372849703, 41.727519929], [-70.355302691, 41.724133641], [-70.351747423, 41.701586992], [-70.262463391, 41.707479805], [-70.189896226, 41.752303541], [-70.122119486, 41.757981777], [-70.005733073, 41.799635142], [-70.00922665, 41.875313669], [-69.989765882, 41.894248724], [-70.006084442, 41.905733943], [-69.98892501, 41.912683547], [-70.020866096, 41.908295453], [-70.035402328, 41.925391853], [-70.022538453, 41.919170469], [-70.026516169, 41.937565058], [-70.065337121, 41.931627989], [-70.054580122, 41.921170056], [-70.071447194, 41.896665394], [-70.079921633, 41.991376877], [-70.054313242, 41.994095296], [-70.080055743, 41.992192268], [-70.096570104, 42.033608258], [-70.145890564, 42.06093058], [-70.178515613, 42.056118697], [-70.199829787, 42.028789669], [-70.212689638, 42.038489878], [-70.196589679, 42.023559362], [-70.167459548, 42.034549713], [-70.194500238, 42.020819485], [-70.244920403, 42.061484456], [-70.192119777, 42.082479447], [-70.05968973, 42.040678561], [-69.9771595, 41.929712892], [-69.944002032, 41.833028644], [-69.973314553, 41.836186945], [-69.959373772, 41.818500459], [-69.984830618, 41.78530544], [-69.959304035, 41.814259887], [-69.951099157, 41.793499589], [-69.939469099, 41.799083948], [-69.940060526, 41.826057583], [-69.936778747, 41.77704899], [-69.970389605, 41.752125174], [-69.963146299, 41.712688655], [-69.984986186, 41.707112342], [-69.945642203, 41.703653634], [-69.946583658, 41.665752679], [-69.964077026, 41.653155684], [-70.014140457, 41.672713012], [-70.177114159, 41.65074572], [-70.266269445, 41.609372646], [-70.266427696, 41.630170494], [-70.241818428, 41.631466001], [-70.260423571, 41.655648798], [-70.279762298, 41.650838256], [-70.273162723, 41.631872356], [-70.348991454, 41.635262668], [-70.387263894, 41.6089046], [-70.434748381, 41.609119177], [-70.486724228, 41.55373022], [-70.527104884, 41.547691226], [-70.505235493, 41.556185782], [-70.531079918, 41.579716802], [-70.547503084, 41.553188413], [-70.528530478, 41.573076993], [-70.541710854, 41.552364975], [-70.529280156, 41.546883881], [-70.555308312, 41.549358219], [-70.552164763, 41.575069875], [-70.555988252, 41.549220085], [-70.63362211, 41.538668275], [-70.655617565, 41.515067518], [-70.686851889, 41.522116363], [-70.65348655, 41.539800167], [-70.640759468, 41.57694608], [-70.651053786, 41.645823866], [-70.620604008, 41.657200456], [-70.653993487, 41.667087078], [-70.632985161, 41.671943142], [-70.613299012, 41.676493585], [-70.62759921, 41.693610102], [-70.66116035, 41.682598293], [-70.61800763, 41.701105535], [-70.613422394, 41.728496253], [-70.639344603, 41.717377156], [-70.622831583, 41.73666358], [-70.54360047, 41.775182784], [-70.624978691, 41.737476289], [-70.603105277, 41.761500835], [-70.624970645, 41.765300184], [-70.635195225, 41.734496355], [-70.667030364, 41.736742705], [-70.641959757, 41.724031717], [-70.673997402, 41.692212671], [-70.654503107, 41.715130806], [-70.705947876, 41.72883153], [-70.706115514, 41.744706184], [-70.733149499, 41.743007004], [-70.72258696, 41.723192185], [-70.745884627, 41.738547832], [-70.713303834, 41.709085107], [-70.730362684, 41.706519574], [-70.715554208, 41.676488221], [-70.761378407, 41.721443385], [-70.74416399, 41.672171205], [-70.765856355, 41.676716208], [-70.764547437, 41.641313732], [-70.808078349, 41.658222377], [-70.824831426, 41.649668813], [-70.80335632, 41.640197933], [-70.808571875, 41.624842286], [-70.867828578, 41.639167964], [-70.841706544, 41.596451104], [-70.852345526, 41.581952423], [-70.873665065, 41.628035456], [-70.913290679, 41.619624048], [-70.90125829, 41.591388434], [-70.930094719, 41.613078117], [-70.933572203, 41.580510736], [-70.949849188, 41.584670842], [-70.927987844, 41.539348215], [-70.945550948, 41.538282037], [-70.953369588, 41.514277607], [-70.969386399, 41.535560936], [-70.981559604, 41.509174705], [-71.038131416, 41.494580805], [-71.089879274, 41.51125744], [-71.120329052, 41.496714503], [-71.141958386, 41.612532288], [-71.132558584, 41.660366803], [-71.196589619, 41.676403731], [-71.157300621, 41.711516529], [-71.19588688, 41.707261205], [-71.190788001, 41.741294414], [-71.202360392, 41.711099446], [-71.216350794, 41.712547839], [-71.215208173, 41.733477116], [-71.225592345, 41.711642593], [-71.261067241, 41.752082258], [-71.340480745, 41.797033399], [-71.33878693, 41.898592561], [-71.381463557, 41.893545985], [-71.381326765, 42.018935233], [-71.799188107, 42.008053511], [-71.800670028, 42.023513764], [-72.71456033, 42.036910057], [-72.755894512, 42.036349475], [-72.766733319, 42.003265768], [-72.817052901, 41.997685432], [-72.813783288, 42.03674376], [-73.48735705, 42.049532533], [-73.508209884, 42.086133957], [-73.264812827, 42.745851427], [-72.45844692, 42.726960629], [-71.294871122, 42.697243094], [-71.24542594, 42.742546946], [-71.181786507, 42.737340778], [-71.186139733, 42.790935338], [-71.166646779, 42.808880657], [-71.132805347, 42.82147631], [-71.064413041, 42.806274891], [-71.031196564, 42.859296799], [-70.914630443, 42.886647284], [-70.847718716, 42.860867232], [-70.816150457, 42.872041315], [-70.803633928, 42.818905413], [-70.827014744, 42.820644826], [-70.819617212, 42.837729156], [-70.864453018, 42.814863324], [-70.868776739, 42.832466662], [-70.913219601, 42.834100127], [-70.814177692, 42.792761922], [-70.833269656, 42.790082395], [-70.815541595, 42.771703899], [-70.837913901, 42.766312659], [-70.815502703, 42.755528837], [-70.825650911, 42.755590906], [-70.814608186, 42.729550302], [-70.85265398, 42.726563662], [-70.819806308, 42.725632936], [-70.830305815, 42.699997723], [-70.802575797, 42.710862011], [-70.78904137, 42.695804089], [-70.823812187, 42.681557536], [-70.77150777, 42.691033781], [-70.689327568, 42.655271888], [-70.680749863, 42.646671385], [-70.707506239, 42.63344273], [-70.690109432, 42.624207884], [-70.69514485, 42.62047663], [-70.672908425, 42.609548271], [-70.7103239, 42.572669238], [-70.779778361, 42.557784319], [-70.770927072, 42.573257983], [-70.888870507, 42.540080398], [-70.884682238, 42.52666533], [-70.864567012, 42.533673942], [-70.892609507, 42.519299984], [-70.887947828, 42.497991174], [-70.862240195, 42.5211896], [-70.84090054, 42.518343776], [-70.854330361, 42.491767108], [-70.833785981, 42.505954653], [-70.835538805, 42.490588278], [-70.93372643, 42.459020019], [-70.933706313, 42.431420088], [-70.905513614, 42.416313887], [-70.936418027, 42.416724265], [-70.944632292, 42.45984748], [-70.967291594, 42.445076555], [-70.990433693, 42.407412976], [-70.966592878, 42.388687134], [-70.953240842, 42.344158441], [-70.97204715, 42.372286767], [-70.996550471, 42.371755689], [-70.982801467, 42.391807884], [-71.019612104, 42.377546579], [-70.986624956, 42.360065281], [-71.004846543, 42.347142398], [-71.044926792, 42.37054199], [-71.023419499, 42.38635093], [-71.05831638, 42.381489426], [-71.051986367, 42.352324426], [-71.021836996, 42.344488353], [-71.04197368, 42.339476645], [-71.009628922, 42.338452041], [-71.047336757, 42.327257842], [-71.032691896, 42.313502133], [-71.053327471, 42.307404131], [-71.041788608, 42.279054523], [-71.039150655, 42.30099231], [-70.990703255, 42.307958007], [-71.017589718, 42.281363904], [-70.97281158, 42.26327911], [-70.955394655, 42.280032188], [-70.951018631, 42.26060763], [-70.970630944, 42.262852639], [-70.962570906, 42.248355299], [-70.993887037, 42.256145775], [-70.965998769, 42.247826904], [-70.974306911, 42.222064286], [-70.949284583, 42.231622338], [-70.966088623, 42.244892567], [-70.924851, 42.263371646], [-70.939035863, 42.247224748], [-70.92309013, 42.219525576], [-70.931223929, 42.251671851], [-70.893178135, 42.262511998], [-70.884529352, 42.245289534], [-70.870789737, 42.261428386], [-70.880004432, 42.273007817], [-70.889209807, 42.276572138]], [[-70.826470256, 42.75752306], [-70.867689103, 42.75584802], [-70.825650911, 42.755590906], [-70.826470256, 42.75752306]], [[-70.698747486, 42.622247189], [-70.707994401, 42.610955089], [-70.69514485, 42.62047663], [-70.698747486, 42.622247189]], [[-70.879995444, 42.273004337], [-70.880807787, 42.274017334], [-70.880004432, 42.273007817], [-70.879995444, 42.273004337]], [[-70.865686834, 42.255161405], [-70.858196765, 42.264563888], [-70.879995444, 42.273004337], [-70.865686834, 42.255161405]]], [[[-70.905952156, 41.424758881], [-70.855778754, 41.441422105], [-70.865081996, 41.423169672], [-70.905952156, 41.424758881]]], [[[-70.841329694, 41.448430717], [-70.822457671, 41.456931978], [-70.808920562, 41.444204897], [-70.841329694, 41.448430717]]], [[[-70.832110941, 41.258392185], [-70.814799964, 41.261879057], [-70.804733634, 41.249677688], [-70.832110941, 41.258392185]]], [[[-70.812286735, 42.783606201], [-70.819066018, 42.817794979], [-70.804343373, 42.816040814], [-70.771448761, 42.704023719], [-70.799371898, 42.721706182], [-70.812286735, 42.783606201]]], [[[-70.710673928, 41.492247283], [-70.805766284, 41.450431645], [-70.786046684, 41.477744579], [-70.706308633, 41.512126476], [-70.710673928, 41.492247283]]], [[[-70.630013198, 42.692821473], [-70.623473972, 42.661435604], [-70.595769435, 42.661179453], [-70.590709448, 42.640413791], [-70.664619058, 42.579921931], [-70.648266971, 42.614530474], [-70.688194335, 42.6213862], [-70.665575266, 42.651256621], [-70.680081993, 42.660752982], [-70.630013198, 42.692821473]]], [[[-70.587675869, 41.459245384], [-70.56688875, 41.470750719], [-70.552969426, 41.452966332], [-70.547320694, 41.417385489], [-70.564340651, 41.435250342], [-70.572482497, 41.414512843], [-70.505672693, 41.39662385], [-70.504361591, 41.389894531], [-70.464463234, 41.40111655], [-70.451980951, 41.358791681], [-70.452117026, 41.351011544], [-70.456388941, 41.350950647], [-70.455664247, 41.350699067], [-70.509057641, 41.349722743], [-70.507930943, 41.350215903], [-70.548358709, 41.349639595], [-70.535531044, 41.361324638], [-70.564388931, 41.382047385], [-70.54990232, 41.355227977], [-70.576171875, 41.360462308], [-70.549927801, 41.349663734], [-70.725603104, 41.339016706], [-70.775981694, 41.301322281], [-70.838218331, 41.346108466], [-70.770449638, 41.352360696], [-70.659234524, 41.460810453], [-70.598054677, 41.481259614], [-70.601107031, 41.456050873], [-70.588213212, 41.457949528], [-70.587675869, 41.459245384]], [[-70.599979162, 41.429574788], [-70.58689937, 41.458142996], [-70.588213212, 41.457949528], [-70.599979162, 41.429574788]]], [[[-70.473389626, 41.407360733], [-70.450901985, 41.420482099], [-70.451033871, 41.412941434], [-70.473389626, 41.407360733]]], [[[-70.451033871, 41.412941434], [-70.44972986, 41.413266957], [-70.450825542, 41.354873925], [-70.451980951, 41.358791681], [-70.451033871, 41.412941434]]], [[[-70.259584039, 41.297135353], [-70.278953612, 41.311988086], [-70.239537209, 41.296707541], [-70.259584039, 41.297135353]]], [[[-70.236177742, 41.28494069], [-70.201369266, 41.273412381], [-70.203717649, 41.272166669], [-70.236177742, 41.28494069]]], [[[-70.191013366, 41.27890572], [-70.201251358, 41.274842173], [-70.199059993, 41.2965855], [-70.095821768, 41.291693151], [-70.088480562, 41.277150214], [-70.008452833, 41.306953579], [-70.032938719, 41.316490173], [-70.003734259, 41.326572333], [-69.960858375, 41.266331524], [-70.008977205, 41.239361912], [-70.100861639, 41.240125], [-70.201369266, 41.273412381], [-70.191013366, 41.27890572]]], [[[-70.050631911, 41.392463744], [-70.024163872, 41.369136572], [-70.026814504, 41.35900018], [-70.050631911, 41.392463744]]], [[[-70.092486441, 41.295796931], [-70.03150776, 41.341052502], [-70.026814504, 41.35900018], [-70.018840633, 41.347796857], [-70.04559204, 41.315488368], [-70.092486441, 41.295796931]]], [[[-70.013150722, 41.354668736], [-69.999223351, 41.328129619], [-70.003734259, 41.326572333], [-70.018840633, 41.347796857], [-70.013150722, 41.354668736]]], [[[-69.986537844, 41.599414945], [-69.990559816, 41.549665332], [-70.008519888, 41.540038884], [-69.985919595, 41.619640142], [-69.975574842, 41.612848265], [-69.986537844, 41.599414945]]], [[[-69.975574842, 41.612848265], [-69.955059439, 41.637986451], [-69.974294901, 41.612007916], [-69.975574842, 41.612848265]]], [[[-69.935987592, 41.777635664], [-69.931948185, 41.70491159], [-69.936778747, 41.77704899], [-69.935987592, 41.777635664]]], [[[-69.940191954, 41.676551253], [-69.945428967, 41.65933013], [-69.934195876, 41.697300822], [-69.940191954, 41.676551253]]]]}\",\"{\\\"type\\\": \\\"MultiPolygon\\\", \\\"coordinates\\\": [[[[-74.255678505, 40.507649928], [-74.23987627, 40.520106107], [-74.246163368, 40.5456689], [-74.21196118, 40.558577031], [-74.200683658, 40.609860306], [-74.194627404, 40.637400448], [-74.071540833, 40.645186901], [-74.052254409, 40.599785149], [-74.0733473, 40.578297973], [-74.136368483, 40.529493839], [-74.133059978, 40.546819568], [-74.217251837, 40.503626615], [-74.255678505, 40.507649928]]], [[[-73.933254182, 40.834943801], [-73.908659667, 40.87142989], [-73.934054822, 40.881812721], [-73.89403224, 40.996702462], [-74.695482999, 41.3577573], [-74.740962535, 41.405119747], [-74.738456011, 41.430642307], [-74.790417105, 41.421659589], [-74.807581902, 41.442846358], [-74.830670357, 41.430502832], [-74.892625362, 41.438616514], [-74.912991375, 41.475900561], [-74.983340353, 41.480893493], [-74.983809739, 41.506190747], [-75.003151149, 41.50810048], [-75.024756342, 41.535099596], [-75.01852423, 41.551801711], [-75.074613243, 41.60571143], [-75.044125915, 41.6182293], [-75.068989992, 41.708824933], [-75.050040185, 41.71288982], [-75.053123385, 41.750624478], [-75.104655325, 41.774239987], [-75.071971267, 41.813711375], [-75.112849474, 41.822584122], [-75.117366314, 41.845836192], [-75.162643343, 41.85035035], [-75.172473639, 41.872210354], [-75.258922577, 41.862668395], [-75.278901011, 41.938800216], [-75.312936902, 41.950155348], [-75.359546989, 41.99950397], [-79.761800319, 41.998841465], [-79.761840552, 42.514689267], [-78.935380876, 42.828303874], [-78.905790746, 42.900227308], [-78.909410387, 42.933575213], [-79.016418457, 42.984055728], [-79.025076628, 43.017741591], [-79.000417739, 43.057884872], [-79.074111432, 43.077860624], [-79.058007449, 43.107570112], [-79.069667011, 43.120333403], [-79.042333961, 43.143667281], [-79.05594483, 43.254666477], [-79.2006661, 43.450471759], [-78.690389246, 43.631138653], [-76.796694696, 43.631138653], [-76.43894434, 44.094055742], [-76.352861524, 44.134333134], [-76.312722266, 44.199056178], [-76.206832677, 44.21500057], [-76.164306253, 44.239833802], [-76.161805093, 44.280722737], [-75.912833065, 44.367806017], [-75.821388513, 44.432055652], [-75.766916871, 44.515277892], [-75.284860879, 44.848304987], [-75.064666271, 44.929499477], [-74.97255519, 44.983472228], [-74.90805611, 44.983527213], [-74.826527685, 45.015861243], [-74.744500369, 44.990667254], [-74.668497294, 45.004278123], [-74.150149673, 44.991368651], [-73.343166858, 45.010724813], [-73.354762048, 44.986795485], [-73.338187337, 44.964798689], [-73.338714391, 44.919040203], [-73.381588161, 44.849223644], [-73.333341926, 44.78726998], [-73.365618289, 44.741806537], [-73.361278474, 44.69497785], [-73.39023158, 44.618352503], [-73.374389112, 44.575454593], [-73.306707591, 44.500333965], [-73.293382376, 44.437484443], [-73.334939182, 44.364441186], [-73.313280344, 44.264138639], [-73.390582949, 44.19088617], [-73.437740207, 44.045006186], [-73.407648504, 44.021110386], [-73.408111185, 43.930445015], [-73.374051154, 43.875562996], [-73.372247368, 43.845337182], [-73.392491341, 43.820778877], [-73.350592554, 43.771938533], [-73.426764607, 43.642056584], [-73.431332409, 43.587917536], [-73.396195471, 43.567882776], [-73.371890634, 43.624568582], [-73.306081295, 43.628079593], [-73.297330588, 43.579355925], [-73.258734941, 43.565026224], [-73.241486996, 43.532800823], [-73.290887922, 42.801955193], [-73.264812827, 42.745851427], [-73.508209884, 42.086133957], [-73.48735705, 42.049532533], [-73.550961614, 41.295421422], [-73.482695371, 41.212771833], [-73.727775514, 41.100695729], [-73.655237854, 41.012294143], [-73.659686297, 40.988233387], [-73.68477568, 40.944293439], [-73.698200136, 40.939217359], [-73.691219687, 40.958452821], [-73.732713461, 40.948780775], [-73.725197911, 40.928590447], [-73.773601055, 40.912172645], [-73.766371161, 40.897482187], [-73.809309304, 40.871278346], [-73.784171641, 40.878197104], [-73.800396323, 40.848244876], [-73.822000176, 40.870289952], [-73.818269223, 40.896977931], [-73.826887161, 40.889577717], [-73.81410107, 40.824286044], [-73.790823519, 40.804365277], [-73.84258613, 40.817280114], [-73.934994936, 40.7829988], [-73.934792592, 40.78903684], [-73.971358985, 40.743841231], [-73.976760954, 40.711491108], [-74.014231414, 40.700107813], [-74.007037729, 40.75919956], [-73.929225504, 40.875504166], [-73.910441995, 40.87138027], [-73.934879601, 40.835295171], [-73.933554606, 40.825979014], [-73.933254182, 40.834943801]]], [[[-73.827235848, 40.595562011], [-73.820684552, 40.608125478], [-73.837265968, 40.615383536], [-73.83318767, 40.638842136], [-73.814184219, 40.614629835], [-73.827235848, 40.595562011]]], [[[-73.694640845, 40.621221364], [-73.683785945, 40.615120679], [-73.690255433, 40.604904145], [-73.694640845, 40.621221364]]], [[[-72.728324085, 40.824504644], [-72.732642442, 40.799955726], [-72.755578011, 40.803053677], [-72.74472177, 40.787621588], [-72.763143182, 40.796686113], [-72.753455043, 40.784113258], [-72.770902812, 40.783436], [-72.773587704, 40.797658414], [-72.773623914, 40.782847255], [-72.804112583, 40.783834308], [-72.81701535, 40.759045333], [-72.874225527, 40.737068653], [-72.896017134, 40.774004012], [-72.894391716, 40.760444105], [-72.944628149, 40.740556866], [-72.987358421, 40.749810487], [-72.982580066, 40.762477219], [-72.997864634, 40.747185946], [-73.024765849, 40.758364052], [-73.035756201, 40.730014443], [-73.132723421, 40.72602734], [-73.148915917, 40.698588341], [-73.201479167, 40.707737356], [-73.202822953, 40.724717081], [-73.22240442, 40.707033277], [-73.224788904, 40.727855265], [-73.277727664, 40.684522837], [-73.317748904, 40.696553886], [-73.314139992, 40.680309087], [-73.388579339, 40.669825673], [-73.379749507, 40.658458471], [-73.404830843, 40.667681247], [-73.408439755, 40.654845536], [-73.413683474, 40.670091212], [-73.416234255, 40.655124485], [-73.463933319, 40.647169054], [-73.480073512, 40.659430772], [-73.502003253, 40.624212027], [-73.526435494, 40.65857783], [-73.531524986, 40.638548434], [-73.558431566, 40.648805201], [-73.562457561, 40.630134344], [-73.575313389, 40.651756972], [-73.572434038, 40.625012666], [-73.599120677, 40.642379969], [-73.595269024, 40.622137338], [-73.622658402, 40.632542968], [-73.617752641, 40.620454252], [-73.634784278, 40.61120886], [-73.662037253, 40.596414953], [-73.645552397, 40.616468489], [-73.657008111, 40.640455484], [-73.663149029, 40.622569174], [-73.692037761, 40.637775958], [-73.712151647, 40.619838685], [-73.699817037, 40.606175354], [-73.687962145, 40.593043417], [-73.734678179, 40.596676469], [-73.727606535, 40.607407987], [-73.940636963, 40.541901737], [-73.926401138, 40.561432242], [-73.778795153, 40.609445125], [-73.76810655, 40.597841889], [-73.77344951, 40.613595843], [-73.754370958, 40.611490309], [-73.768938035, 40.619330406], [-73.738676012, 40.632466525], [-73.754456788, 40.647897273], [-73.748690039, 40.635282844], [-73.784989715, 40.620545447], [-73.82175073, 40.649768114], [-73.81145373, 40.660728961], [-73.833872974, 40.648145378], [-73.839734942, 40.662277937], [-73.840624094, 40.644926727], [-73.859610111, 40.655089617], [-73.867285252, 40.639956594], [-73.879341781, 40.654625595], [-73.869680464, 40.638290942], [-73.891167641, 40.649178028], [-73.877024353, 40.635876954], [-73.892782331, 40.607243031], [-73.919540048, 40.607904196], [-73.883965909, 40.605546534], [-73.879745454, 40.580162108], [-73.93015489, 40.604029745], [-73.914170265, 40.588826984], [-73.931225091, 40.586831421], [-73.911690563, 40.581735224], [-73.992960155, 40.570219159], [-74.012058824, 40.579968989], [-73.993020505, 40.588770658], [-74.041745514, 40.620726496], [-73.99954766, 40.664388835], [-74.019279331, 40.679611713], [-73.99435088, 40.704430193], [-73.970766217, 40.699981749], [-73.958456218, 40.747105479], [-73.909719139, 40.79091534], [-73.890133649, 40.77361241], [-73.869363964, 40.785717219], [-73.840566427, 40.753751993], [-73.853583187, 40.794139355], [-73.777918071, 40.796753168], [-73.753186762, 40.764545202], [-73.746200949, 40.783237517], [-73.764878511, 40.813231319], [-73.753613234, 40.838131607], [-73.719998449, 40.820463896], [-73.709340692, 40.793432593], [-73.699370921, 40.833708644], [-73.727817088, 40.832747072], [-73.730387986, 40.865990371], [-73.675638735, 40.857165903], [-73.651713696, 40.829922365], [-73.65308404, 40.848356187], [-73.635617495, 40.861724317], [-73.652050048, 40.857057273], [-73.654478788, 40.878713429], [-73.633345664, 40.902882814], [-73.521974981, 40.918149948], [-73.507725745, 40.90122655], [-73.532970697, 40.88512525], [-73.524403721, 40.91175288], [-73.548571765, 40.903452784], [-73.541882336, 40.876868069], [-73.505942076, 40.872540325], [-73.509196937, 40.893095434], [-73.494910151, 40.895139277], [-73.462660611, 40.859302282], [-73.49737376, 40.923216641], [-73.484788835, 40.947917104], [-73.430722207, 40.929762572], [-73.432358181, 40.924524402], [-73.475417197, 40.912002325], [-73.433722258, 40.908890963], [-73.444763571, 40.899664164], [-73.419780135, 40.884545892], [-73.433246166, 40.906160474], [-73.39640066, 40.909253061], [-73.373980075, 40.892612636], [-73.374837041, 40.913857073], [-73.354247063, 40.890772641], [-73.352681994, 40.923793316], [-73.378661871, 40.9250848], [-73.381632417, 40.942458808], [-73.406579643, 40.915786922], [-73.400275111, 40.955762565], [-73.344965279, 40.920846909], [-73.322107494, 40.930504203], [-73.233701885, 40.906151086], [-73.148913234, 40.929640532], [-73.180822134, 40.917185694], [-73.169122338, 40.893308669], [-73.137036413, 40.934821218], [-73.138626963, 40.946620256], [-73.147564083, 40.925830454], [-73.144091964, 40.955400467], [-73.15884009, 40.967300087], [-73.12455073, 40.97370252], [-73.117378778, 40.972184654], [-73.128321916, 40.959300399], [-73.116151392, 40.947061479], [-73.108296543, 40.96817717], [-73.101566881, 40.943500847], [-73.095734417, 40.958262384], [-73.067036122, 40.950783044], [-73.091504574, 40.972464681], [-73.03970173, 40.956434458], [-72.635242045, 40.982036144], [-72.548827976, 41.008970886], [-72.447789162, 41.084803641], [-72.396135181, 41.096535623], [-72.353847474, 41.140089333], [-72.233097106, 41.160488874], [-72.267983253, 41.1365112], [-72.316686809, 41.139846593], [-72.339612991, 41.114226133], [-72.355739772, 41.117801517], [-72.349628359, 41.105425805], [-72.361996025, 41.113031209], [-72.364159226, 41.092948169], [-72.383357137, 41.08844474], [-72.374434769, 41.076826751], [-72.434324473, 41.05551526], [-72.383370548, 41.049717665], [-72.39005059, 41.030278355], [-72.424770445, 41.040792614], [-72.4541004, 41.021244675], [-72.450577008, 41.014752146], [-72.474624664, 41.021963507], [-72.460189015, 41.007623076], [-72.478107512, 41.009410769], [-72.470386773, 40.989609361], [-72.528321147, 40.979852825], [-72.575845867, 40.933583379], [-72.618682086, 40.938935727], [-72.631792724, 40.932019651], [-72.620225698, 40.92259571], [-72.650648654, 40.916554034], [-72.56403476, 40.896570235], [-72.569301277, 40.917806625], [-72.475884164, 40.90020966], [-72.442506552, 40.945701599], [-72.405152768, 40.951804966], [-72.37390101, 40.98973006], [-72.37718001, 41.021747589], [-72.366634905, 40.996094942], [-72.330026776, 40.995372087], [-72.31646955, 41.009979397], [-72.332511842, 41.033501029], [-72.312949151, 41.0409455], [-72.299044579, 41.002990901], [-72.315428853, 41.009245813], [-72.326471508, 40.990002304], [-72.260186076, 41.013093442], [-72.250649482, 40.995419025], [-72.239074409, 41.035295427], [-72.262070328, 41.04073897], [-72.241056561, 41.044608057], [-72.187446224, 41.031437725], [-72.187712789, 41.034659743], [-72.160658687, 41.053826809], [-72.144299987, 41.039861752], [-72.154818177, 41.020659953], [-72.096174359, 40.991229415], [-72.05872938, 41.012822539], [-72.063660622, 40.998675227], [-72.041480094, 41.001569331], [-72.055592537, 41.022166014], [-72.021472156, 41.021735519], [-71.992730945, 41.047583967], [-71.962446123, 41.043438613], [-71.960252076, 41.070199013], [-71.939042509, 41.07905969], [-71.85618639, 41.070840061], [-71.902607381, 41.04033798], [-72.474651486, 40.83819598], [-72.42730689, 40.864188163], [-72.435708493, 40.884945542], [-72.496958077, 40.881979018], [-72.501655966, 40.846081674], [-72.52684325, 40.862123966], [-72.519802451, 40.845987797], [-72.537134886, 40.851578861], [-72.540525198, 40.866533518], [-72.550999224, 40.838838369], [-72.577487379, 40.847648084], [-72.573987097, 40.83029151], [-72.595157772, 40.822329372], [-72.477723956, 40.83962962], [-72.753137201, 40.763130337], [-72.635115346, 40.799510551], [-72.6640369, 40.810213834], [-72.693207264, 40.797024071], [-72.728324085, 40.824504644]], [[-73.649538159, 40.800657123], [-73.649851978, 40.82780242], [-73.651713696, 40.829922365], [-73.649538159, 40.800657123]], [[-72.477557659, 40.897928774], [-72.458001673, 40.896841139], [-72.475884164, 40.90020966], [-72.477557659, 40.897928774]], [[-72.187281268, 41.029443867], [-72.184561193, 41.030728966], [-72.187446224, 41.031437725], [-72.187281268, 41.029443867]], [[-72.208121717, 41.019597799], [-72.184529006, 40.996176749], [-72.187281268, 41.029443867], [-72.208121717, 41.019597799]], [[-72.425977439, 40.860903561], [-72.425328941, 40.865274056], [-72.42730689, 40.864188163], [-72.425977439, 40.860903561]], [[-72.412960678, 40.872064233], [-72.422935814, 40.881402344], [-72.425328941, 40.865274056], [-72.412960678, 40.872064233]], [[-72.634292543, 40.799206048], [-72.633999991, 40.799854359], [-72.635115346, 40.799510551], [-72.634292543, 40.799206048]], [[-72.609567503, 40.807385669], [-72.62361601, 40.822865814], [-72.633999991, 40.799854359], [-72.609567503, 40.807385669]], [[-72.60870561, 40.806435943], [-72.587893009, 40.814066827], [-72.609567503, 40.807385669], [-72.60870561, 40.806435943]]], [[[-73.573573977, 40.609093755], [-73.585980535, 40.604920238], [-73.594094217, 40.616318285], [-73.573573977, 40.609093755]]], [[[-73.754999936, 40.582796037], [-73.739896417, 40.585353523], [-73.575122952, 40.593390763], [-73.754999936, 40.582796037]]], [[[-73.483989537, 40.614069253], [-73.495830148, 40.622184277], [-73.48723954, 40.623045999], [-73.470294178, 40.624745786], [-73.483989537, 40.614069253]]], [[[-73.432358181, 40.924524402], [-73.431482613, 40.924779028], [-73.435751349, 40.91365993], [-73.432358181, 40.924524402]]], [[[-73.12455073, 40.653560758], [-72.900472283, 40.724452883], [-73.088260442, 40.658162087], [-73.249557763, 40.623207539], [-73.316877186, 40.626343042], [-73.12455073, 40.653560758]]], [[[-73.250676244, 40.640616417], [-73.575758636, 40.57447046], [-73.5004583, 40.613593161], [-73.492902517, 40.598780662], [-73.362737393, 40.635418877], [-73.322393149, 40.646774769], [-73.268001974, 40.64207688], [-73.250676244, 40.640616417]]], [[[-73.115514368, 40.974379778], [-73.089983761, 40.966386795], [-73.117378778, 40.972184654], [-73.115514368, 40.974379778]]], [[[-72.450577008, 41.014752146], [-72.448261231, 41.014057696], [-72.449766736, 41.013259064], [-72.450577008, 41.014752146]]], [[[-72.45998919, 41.007836312], [-72.449766736, 41.013259064], [-72.431388795, 40.979394168], [-72.45998919, 41.007836312]]], [[[-72.339139581, 41.046901345], [-72.354882807, 41.042231619], [-72.384561449, 41.069169044], [-72.34285444, 41.084004343], [-72.334483266, 41.107363701], [-72.276536822, 41.076930016], [-72.32324481, 41.089001298], [-72.311016619, 41.070418954], [-72.282662988, 41.069193184], [-72.270174623, 41.025933176], [-72.309946418, 41.054068208], [-72.342245672, 41.049300029], [-72.339139581, 41.046901345]], [[-72.350490689, 41.048082858], [-72.342245672, 41.049300029], [-72.364513278, 41.066496223], [-72.350490689, 41.048082858]]], [[[-72.259211093, 41.135910451], [-72.306283861, 41.110186726], [-72.267983253, 41.1365112], [-72.259211093, 41.135910451]]], [[[-72.212348878, 41.173964292], [-72.17206344, 41.186750382], [-72.198048681, 41.16464898], [-72.212348878, 41.173964292]]], [[[-72.143084854, 41.042080075], [-72.134949714, 41.031879634], [-72.144299987, 41.039861752], [-72.143084854, 41.042080075]]], [[[-72.130576372, 41.124500334], [-72.077469975, 41.099486053], [-72.099449337, 41.043520421], [-72.106361389, 41.089977622], [-72.142832726, 41.096350551], [-72.130576372, 41.124500334]]], [[[-72.038254738, 41.249514073], [-72.027700245, 41.263151765], [-71.921813339, 41.292249709], [-72.038254738, 41.249514073]]]]}\",\"{\\\"type\\\": \\\"MultiPolygon\\\", \\\"coordinates\\\": [[[[-73.264812827, 42.745851427], [-73.290887922, 42.801955193], [-73.241486996, 43.532800823], [-73.258734941, 43.565026224], [-73.297330588, 43.579355925], [-73.306081295, 43.628079593], [-73.371890634, 43.624568582], [-73.396195471, 43.567882776], [-73.431332409, 43.587917536], [-73.426764607, 43.642056584], [-73.350592554, 43.771938533], [-73.392491341, 43.820778877], [-73.372247368, 43.845337182], [-73.374051154, 43.875562996], [-73.408111185, 43.930445015], [-73.407648504, 44.021110386], [-73.437740207, 44.045006186], [-73.390582949, 44.19088617], [-73.313280344, 44.264138639], [-73.334939182, 44.364441186], [-73.293382376, 44.437484443], [-73.306707591, 44.500333965], [-73.374389112, 44.575454593], [-73.39023158, 44.618352503], [-73.361278474, 44.69497785], [-73.365618289, 44.741806537], [-73.333341926, 44.78726998], [-73.381588161, 44.849223644], [-73.338714391, 44.919040203], [-73.338187337, 44.964798689], [-73.354762048, 44.986795485], [-73.343166858, 45.010724813], [-71.501019001, 45.013445914], [-71.465385854, 45.013224632], [-71.541547179, 44.98427555], [-71.517938375, 44.967719615], [-71.522781104, 44.939901084], [-71.495000124, 44.904694408], [-71.549965292, 44.862133116], [-71.551236659, 44.83745411], [-71.577237993, 44.815238714], [-71.573272347, 44.790901691], [-71.632812023, 44.75102663], [-71.581821889, 44.673497379], [-71.588280648, 44.660377353], [-71.546992064, 44.629668742], [-71.562656164, 44.601376802], [-71.535065621, 44.588342607], [-71.559869349, 44.563951939], [-71.597318351, 44.559295624], [-71.571844071, 44.537589848], [-71.594197601, 44.521075487], [-71.57683298, 44.502403289], [-71.645140797, 44.475557059], [-71.662200987, 44.439776391], [-71.704047471, 44.413585961], [-71.795426309, 44.398434162], [-71.815446317, 44.354298413], [-72.032795101, 44.320483804], [-72.068453729, 44.271235764], [-72.047878504, 44.238921851], [-72.066179216, 44.190062732], [-72.033265829, 44.131913781], [-72.055508047, 44.110855758], [-72.031264901, 44.100254327], [-72.045279443, 44.087276459], [-72.031645775, 44.078772515], [-72.05269441, 44.076748788], [-72.090488076, 44.009973854], [-72.11688906, 43.994376808], [-72.114111632, 43.967546672], [-72.091218978, 43.965509534], [-72.184899151, 43.864097893], [-72.18348965, 43.808676749], [-72.205471694, 43.770982325], [-72.299668193, 43.706374615], [-72.328324914, 43.601295054], [-72.380346358, 43.573625386], [-72.399119139, 43.512135744], [-72.382026762, 43.478626907], [-72.416171283, 43.376780748], [-72.390015721, 43.356240392], [-72.410539985, 43.33127439], [-72.395445853, 43.312929422], [-72.438907027, 43.251875639], [-72.457391471, 43.147467971], [-72.432704419, 43.118419647], [-72.435683012, 43.081169128], [-72.468015701, 43.052009493], [-72.443469465, 43.007158935], [-72.473360002, 42.972294241], [-72.532272041, 42.954786122], [-72.524570078, 42.915379107], [-72.55723536, 42.853898853], [-72.541720122, 42.807455063], [-72.508959621, 42.780056298], [-72.5153929, 42.765612602], [-72.490421534, 42.772346288], [-72.45844692, 42.726960629], [-73.264812827, 42.745851427]]]]}\"]\n",
       "},\n",
       "\"map_data_meta\":{\n",
       "\"geodataframe\":{\n",
       "\"geometry\":\"geometry\"\n",
       "}\n",
       "},\n",
       "\"data\":{\n",
       "}\n",
       "},{\n",
       "\"geom\":\"point\",\n",
       "\"data\":{\n",
       "\"City_Name\":[\"boston\",\"new york\",\"worcester\",\"worcester\"],\n",
       "\"State_Name\":[\"massachusetts\",\"new york\",\"vermont\",\"massachusetts\"],\n",
       "\"mean\":[523.0,556.0,600.0,533.0]\n",
       "},\n",
       "\"mapping\":{\n",
       "\"size\":\"mean\",\n",
       "\"color\":\"City_Name\"\n",
       "},\n",
       "\"data_meta\":{\n",
       "\"series_annotations\":[{\n",
       "\"type\":\"str\",\n",
       "\"column\":\"City_Name\"\n",
       "},{\n",
       "\"type\":\"str\",\n",
       "\"column\":\"State_Name\"\n",
       "},{\n",
       "\"type\":\"int\",\n",
       "\"column\":\"mean\"\n",
       "}]\n",
       "},\n",
       "\"map\":{\n",
       "\"city\":[\"boston\",\"new york\",\"worcester\",\"worcester\"],\n",
       "\"found name\":[\"Boston\",\"New York\",\"Worcester\",\"Worcester\"],\n",
       "\"state\":[\"massachusetts\",\"new york\",\"vermont\",\"massachusetts\"],\n",
       "\"geometry\":[\"{\\\"type\\\": \\\"Point\\\", \\\"coordinates\\\": [-71.0884755326693, 42.3110405355692]}\",\"{\\\"type\\\": \\\"Point\\\", \\\"coordinates\\\": [-73.8673749469137, 40.6847005337477]}\",\"{\\\"type\\\": \\\"Point\\\", \\\"coordinates\\\": [-72.5724501055639, 44.4132962822914]}\",\"{\\\"type\\\": \\\"Point\\\", \\\"coordinates\\\": [-71.8154652712922, 42.2678737342358]}\"]\n",
       "},\n",
       "\"map_join\":[[\"City_Name\",\"State_Name\"],[\"city\",\"state\"]],\n",
       "\"map_data_meta\":{\n",
       "\"geodataframe\":{\n",
       "\"geometry\":\"geometry\"\n",
       "}\n",
       "}\n",
       "}],\n",
       "\"metainfo_list\":[],\n",
       "\"spec_id\":\"7\"\n",
       "};\n",
       "               window.letsPlotCall(function() {\n",
       "       \n",
       "               var toolbar = null;\n",
       "               var plotContainer = containerDiv;               \n",
       "               \n",
       "                   var options = {\n",
       "                       sizing: {\n",
       "                           width_mode: \"min\",\n",
       "                           height_mode: \"scaled\",\n",
       "                           width: width\n",
       "                       }\n",
       "                   };\n",
       "                   var fig = LetsPlot.buildPlotFromProcessedSpecs(plotSpec, -1, -1, plotContainer, options);\n",
       "                   if (toolbar) {\n",
       "                     toolbar.bind(fig);\n",
       "                   }\n",
       "               });\n",
       "               \n",
       "               break;\n",
       "           }\n",
       "       }\n",
       "   });\n",
       "   \n",
       "   observer.observe(containerDiv);\n",
       "   \n",
       "   // ----------\n",
       "   })();\n",
       "   \n",
       "   </script>"
      ],
      "text/plain": [
       "<lets_plot.plot.core.PlotSpec at 0x1244ad1b0>"
      ]
     },
     "execution_count": 44,
     "metadata": {},
     "output_type": "execute_result"
    }
   ],
   "source": [
    "# Draw a GeoDataFrame with a data. \n",
    "# Names in GeoDataFrame from Geocoder are predefined: 'city', 'county', 'state', 'country'\n",
    "# Order of levels in map_join should match:\n",
    "draw_plot(map=geocoder.get_centroids(), map_join=[['City_Name', 'State_Name'], ['city', 'state']])\n",
    "\n",
    "# Note that Worcesters have proper position and data, but color is the same color. \n",
    "# To make the color distinct a new column with combination of city and state names can be used."
   ]
  },
  {
   "cell_type": "code",
   "execution_count": 45,
   "metadata": {
    "execution": {
     "iopub.execute_input": "2024-11-07T09:09:11.153393Z",
     "iopub.status.busy": "2024-11-07T09:09:11.153236Z",
     "iopub.status.idle": "2024-11-07T09:09:11.401538Z",
     "shell.execute_reply": "2024-11-07T09:09:11.401196Z"
    }
   },
   "outputs": [
    {
     "data": {
      "text/html": [
       "   <div id=\"OYFOLc\"></div>\n",
       "   <script type=\"text/javascript\" data-lets-plot-script=\"plot\">\n",
       "   \n",
       "   (function() {\n",
       "   // ----------\n",
       "   \n",
       "   var containerDiv = document.getElementById(\"OYFOLc\");\n",
       "   var observer = new ResizeObserver(function(entries) {\n",
       "       for (let entry of entries) {\n",
       "           var width = containerDiv.clientWidth\n",
       "           if (entry.contentBoxSize && width > 0) {\n",
       "           \n",
       "               // Render plot\n",
       "               if (observer) {\n",
       "                   observer.disconnect();\n",
       "                   observer = null;\n",
       "               }\n",
       "\n",
       "               var plotSpec={\n",
       "\"mapping\":{\n",
       "},\n",
       "\"data_meta\":{\n",
       "},\n",
       "\"theme\":{\n",
       "\"name\":\"classic\",\n",
       "\"line\":\"blank\",\n",
       "\"axis\":\"blank\"\n",
       "},\n",
       "\"kind\":\"plot\",\n",
       "\"scales\":[],\n",
       "\"layers\":[{\n",
       "\"geom\":\"map\",\n",
       "\"mapping\":{\n",
       "},\n",
       "\"data_meta\":{\n",
       "},\n",
       "\"map\":{\n",
       "\"state\":[\"massachusetts\",\"new york\",\"vermont\"],\n",
       "\"found name\":[\"Massachusetts\",\"New York\",\"Vermont\"],\n",
       "\"geometry\":[\"{\\\"type\\\": \\\"MultiPolygon\\\", \\\"coordinates\\\": [[[[-70.889209807, 42.276572138], [-70.877235085, 42.27988869], [-70.885442644, 42.304685712], [-70.919422209, 42.306226641], [-70.883068889, 42.310373336], [-70.853234679, 42.269390523], [-70.801999122, 42.2591874], [-70.804368854, 42.245420963], [-70.788975656, 42.253687531], [-70.794192553, 42.23988086], [-70.771977156, 42.2356309], [-70.767381191, 42.254016101], [-70.747945905, 42.221153677], [-70.71658954, 42.207233012], [-70.719934255, 42.162017673], [-70.642060339, 42.091533244], [-70.643675029, 42.051466405], [-70.59916243, 42.004526407], [-70.638015568, 41.994737685], [-70.608603805, 42.010302544], [-70.656681061, 42.060349882], [-70.672522187, 42.054092288], [-70.651150346, 42.047127932], [-70.671899915, 42.046557963], [-70.668653101, 42.00984925], [-70.688252002, 42.02026695], [-70.729250908, 41.989438981], [-70.703613013, 41.999825835], [-70.651515126, 41.950054765], [-70.629644394, 41.947186142], [-70.651858449, 41.979451776], [-70.621715784, 41.942139566], [-70.583649874, 41.950254589], [-70.539216399, 41.926655173], [-70.547590256, 41.910832822], [-70.525681973, 41.858154237], [-70.54230094, 41.818452179], [-70.489202589, 41.779796183], [-70.542153418, 41.775121093], [-70.272541791, 41.723693758], [-70.372849703, 41.727519929], [-70.355302691, 41.724133641], [-70.351747423, 41.701586992], [-70.262463391, 41.707479805], [-70.189896226, 41.752303541], [-70.122119486, 41.757981777], [-70.005733073, 41.799635142], [-70.00922665, 41.875313669], [-69.989765882, 41.894248724], [-70.006084442, 41.905733943], [-69.98892501, 41.912683547], [-70.020866096, 41.908295453], [-70.035402328, 41.925391853], [-70.022538453, 41.919170469], [-70.026516169, 41.937565058], [-70.065337121, 41.931627989], [-70.054580122, 41.921170056], [-70.071447194, 41.896665394], [-70.079921633, 41.991376877], [-70.054313242, 41.994095296], [-70.080055743, 41.992192268], [-70.096570104, 42.033608258], [-70.145890564, 42.06093058], [-70.178515613, 42.056118697], [-70.199829787, 42.028789669], [-70.212689638, 42.038489878], [-70.196589679, 42.023559362], [-70.167459548, 42.034549713], [-70.194500238, 42.020819485], [-70.244920403, 42.061484456], [-70.192119777, 42.082479447], [-70.05968973, 42.040678561], [-69.9771595, 41.929712892], [-69.944002032, 41.833028644], [-69.973314553, 41.836186945], [-69.959373772, 41.818500459], [-69.984830618, 41.78530544], [-69.959304035, 41.814259887], [-69.951099157, 41.793499589], [-69.939469099, 41.799083948], [-69.940060526, 41.826057583], [-69.936778747, 41.77704899], [-69.970389605, 41.752125174], [-69.963146299, 41.712688655], [-69.984986186, 41.707112342], [-69.945642203, 41.703653634], [-69.946583658, 41.665752679], [-69.964077026, 41.653155684], [-70.014140457, 41.672713012], [-70.177114159, 41.65074572], [-70.266269445, 41.609372646], [-70.266427696, 41.630170494], [-70.241818428, 41.631466001], [-70.260423571, 41.655648798], [-70.279762298, 41.650838256], [-70.273162723, 41.631872356], [-70.348991454, 41.635262668], [-70.387263894, 41.6089046], [-70.434748381, 41.609119177], [-70.486724228, 41.55373022], [-70.527104884, 41.547691226], [-70.505235493, 41.556185782], [-70.531079918, 41.579716802], [-70.547503084, 41.553188413], [-70.528530478, 41.573076993], [-70.541710854, 41.552364975], [-70.529280156, 41.546883881], [-70.555308312, 41.549358219], [-70.552164763, 41.575069875], [-70.555988252, 41.549220085], [-70.63362211, 41.538668275], [-70.655617565, 41.515067518], [-70.686851889, 41.522116363], [-70.65348655, 41.539800167], [-70.640759468, 41.57694608], [-70.651053786, 41.645823866], [-70.620604008, 41.657200456], [-70.653993487, 41.667087078], [-70.632985161, 41.671943142], [-70.613299012, 41.676493585], [-70.62759921, 41.693610102], [-70.66116035, 41.682598293], [-70.61800763, 41.701105535], [-70.613422394, 41.728496253], [-70.639344603, 41.717377156], [-70.622831583, 41.73666358], [-70.54360047, 41.775182784], [-70.624978691, 41.737476289], [-70.603105277, 41.761500835], [-70.624970645, 41.765300184], [-70.635195225, 41.734496355], [-70.667030364, 41.736742705], [-70.641959757, 41.724031717], [-70.673997402, 41.692212671], [-70.654503107, 41.715130806], [-70.705947876, 41.72883153], [-70.706115514, 41.744706184], [-70.733149499, 41.743007004], [-70.72258696, 41.723192185], [-70.745884627, 41.738547832], [-70.713303834, 41.709085107], [-70.730362684, 41.706519574], [-70.715554208, 41.676488221], [-70.761378407, 41.721443385], [-70.74416399, 41.672171205], [-70.765856355, 41.676716208], [-70.764547437, 41.641313732], [-70.808078349, 41.658222377], [-70.824831426, 41.649668813], [-70.80335632, 41.640197933], [-70.808571875, 41.624842286], [-70.867828578, 41.639167964], [-70.841706544, 41.596451104], [-70.852345526, 41.581952423], [-70.873665065, 41.628035456], [-70.913290679, 41.619624048], [-70.90125829, 41.591388434], [-70.930094719, 41.613078117], [-70.933572203, 41.580510736], [-70.949849188, 41.584670842], [-70.927987844, 41.539348215], [-70.945550948, 41.538282037], [-70.953369588, 41.514277607], [-70.969386399, 41.535560936], [-70.981559604, 41.509174705], [-71.038131416, 41.494580805], [-71.089879274, 41.51125744], [-71.120329052, 41.496714503], [-71.141958386, 41.612532288], [-71.132558584, 41.660366803], [-71.196589619, 41.676403731], [-71.157300621, 41.711516529], [-71.19588688, 41.707261205], [-71.190788001, 41.741294414], [-71.202360392, 41.711099446], [-71.216350794, 41.712547839], [-71.215208173, 41.733477116], [-71.225592345, 41.711642593], [-71.261067241, 41.752082258], [-71.340480745, 41.797033399], [-71.33878693, 41.898592561], [-71.381463557, 41.893545985], [-71.381326765, 42.018935233], [-71.799188107, 42.008053511], [-71.800670028, 42.023513764], [-72.71456033, 42.036910057], [-72.755894512, 42.036349475], [-72.766733319, 42.003265768], [-72.817052901, 41.997685432], [-72.813783288, 42.03674376], [-73.48735705, 42.049532533], [-73.508209884, 42.086133957], [-73.264812827, 42.745851427], [-72.45844692, 42.726960629], [-71.294871122, 42.697243094], [-71.24542594, 42.742546946], [-71.181786507, 42.737340778], [-71.186139733, 42.790935338], [-71.166646779, 42.808880657], [-71.132805347, 42.82147631], [-71.064413041, 42.806274891], [-71.031196564, 42.859296799], [-70.914630443, 42.886647284], [-70.847718716, 42.860867232], [-70.816150457, 42.872041315], [-70.803633928, 42.818905413], [-70.827014744, 42.820644826], [-70.819617212, 42.837729156], [-70.864453018, 42.814863324], [-70.868776739, 42.832466662], [-70.913219601, 42.834100127], [-70.814177692, 42.792761922], [-70.833269656, 42.790082395], [-70.815541595, 42.771703899], [-70.837913901, 42.766312659], [-70.815502703, 42.755528837], [-70.825650911, 42.755590906], [-70.814608186, 42.729550302], [-70.85265398, 42.726563662], [-70.819806308, 42.725632936], [-70.830305815, 42.699997723], [-70.802575797, 42.710862011], [-70.78904137, 42.695804089], [-70.823812187, 42.681557536], [-70.77150777, 42.691033781], [-70.689327568, 42.655271888], [-70.680749863, 42.646671385], [-70.707506239, 42.63344273], [-70.690109432, 42.624207884], [-70.69514485, 42.62047663], [-70.672908425, 42.609548271], [-70.7103239, 42.572669238], [-70.779778361, 42.557784319], [-70.770927072, 42.573257983], [-70.888870507, 42.540080398], [-70.884682238, 42.52666533], [-70.864567012, 42.533673942], [-70.892609507, 42.519299984], [-70.887947828, 42.497991174], [-70.862240195, 42.5211896], [-70.84090054, 42.518343776], [-70.854330361, 42.491767108], [-70.833785981, 42.505954653], [-70.835538805, 42.490588278], [-70.93372643, 42.459020019], [-70.933706313, 42.431420088], [-70.905513614, 42.416313887], [-70.936418027, 42.416724265], [-70.944632292, 42.45984748], [-70.967291594, 42.445076555], [-70.990433693, 42.407412976], [-70.966592878, 42.388687134], [-70.953240842, 42.344158441], [-70.97204715, 42.372286767], [-70.996550471, 42.371755689], [-70.982801467, 42.391807884], [-71.019612104, 42.377546579], [-70.986624956, 42.360065281], [-71.004846543, 42.347142398], [-71.044926792, 42.37054199], [-71.023419499, 42.38635093], [-71.05831638, 42.381489426], [-71.051986367, 42.352324426], [-71.021836996, 42.344488353], [-71.04197368, 42.339476645], [-71.009628922, 42.338452041], [-71.047336757, 42.327257842], [-71.032691896, 42.313502133], [-71.053327471, 42.307404131], [-71.041788608, 42.279054523], [-71.039150655, 42.30099231], [-70.990703255, 42.307958007], [-71.017589718, 42.281363904], [-70.97281158, 42.26327911], [-70.955394655, 42.280032188], [-70.951018631, 42.26060763], [-70.970630944, 42.262852639], [-70.962570906, 42.248355299], [-70.993887037, 42.256145775], [-70.965998769, 42.247826904], [-70.974306911, 42.222064286], [-70.949284583, 42.231622338], [-70.966088623, 42.244892567], [-70.924851, 42.263371646], [-70.939035863, 42.247224748], [-70.92309013, 42.219525576], [-70.931223929, 42.251671851], [-70.893178135, 42.262511998], [-70.884529352, 42.245289534], [-70.870789737, 42.261428386], [-70.880004432, 42.273007817], [-70.889209807, 42.276572138]], [[-70.826470256, 42.75752306], [-70.867689103, 42.75584802], [-70.825650911, 42.755590906], [-70.826470256, 42.75752306]], [[-70.698747486, 42.622247189], [-70.707994401, 42.610955089], [-70.69514485, 42.62047663], [-70.698747486, 42.622247189]], [[-70.879995444, 42.273004337], [-70.880807787, 42.274017334], [-70.880004432, 42.273007817], [-70.879995444, 42.273004337]], [[-70.865686834, 42.255161405], [-70.858196765, 42.264563888], [-70.879995444, 42.273004337], [-70.865686834, 42.255161405]]], [[[-70.905952156, 41.424758881], [-70.855778754, 41.441422105], [-70.865081996, 41.423169672], [-70.905952156, 41.424758881]]], [[[-70.841329694, 41.448430717], [-70.822457671, 41.456931978], [-70.808920562, 41.444204897], [-70.841329694, 41.448430717]]], [[[-70.832110941, 41.258392185], [-70.814799964, 41.261879057], [-70.804733634, 41.249677688], [-70.832110941, 41.258392185]]], [[[-70.812286735, 42.783606201], [-70.819066018, 42.817794979], [-70.804343373, 42.816040814], [-70.771448761, 42.704023719], [-70.799371898, 42.721706182], [-70.812286735, 42.783606201]]], [[[-70.710673928, 41.492247283], [-70.805766284, 41.450431645], [-70.786046684, 41.477744579], [-70.706308633, 41.512126476], [-70.710673928, 41.492247283]]], [[[-70.630013198, 42.692821473], [-70.623473972, 42.661435604], [-70.595769435, 42.661179453], [-70.590709448, 42.640413791], [-70.664619058, 42.579921931], [-70.648266971, 42.614530474], [-70.688194335, 42.6213862], [-70.665575266, 42.651256621], [-70.680081993, 42.660752982], [-70.630013198, 42.692821473]]], [[[-70.587675869, 41.459245384], [-70.56688875, 41.470750719], [-70.552969426, 41.452966332], [-70.547320694, 41.417385489], [-70.564340651, 41.435250342], [-70.572482497, 41.414512843], [-70.505672693, 41.39662385], [-70.504361591, 41.389894531], [-70.464463234, 41.40111655], [-70.451980951, 41.358791681], [-70.452117026, 41.351011544], [-70.456388941, 41.350950647], [-70.455664247, 41.350699067], [-70.509057641, 41.349722743], [-70.507930943, 41.350215903], [-70.548358709, 41.349639595], [-70.535531044, 41.361324638], [-70.564388931, 41.382047385], [-70.54990232, 41.355227977], [-70.576171875, 41.360462308], [-70.549927801, 41.349663734], [-70.725603104, 41.339016706], [-70.775981694, 41.301322281], [-70.838218331, 41.346108466], [-70.770449638, 41.352360696], [-70.659234524, 41.460810453], [-70.598054677, 41.481259614], [-70.601107031, 41.456050873], [-70.588213212, 41.457949528], [-70.587675869, 41.459245384]], [[-70.599979162, 41.429574788], [-70.58689937, 41.458142996], [-70.588213212, 41.457949528], [-70.599979162, 41.429574788]]], [[[-70.473389626, 41.407360733], [-70.450901985, 41.420482099], [-70.451033871, 41.412941434], [-70.473389626, 41.407360733]]], [[[-70.451033871, 41.412941434], [-70.44972986, 41.413266957], [-70.450825542, 41.354873925], [-70.451980951, 41.358791681], [-70.451033871, 41.412941434]]], [[[-70.259584039, 41.297135353], [-70.278953612, 41.311988086], [-70.239537209, 41.296707541], [-70.259584039, 41.297135353]]], [[[-70.236177742, 41.28494069], [-70.201369266, 41.273412381], [-70.203717649, 41.272166669], [-70.236177742, 41.28494069]]], [[[-70.191013366, 41.27890572], [-70.201251358, 41.274842173], [-70.199059993, 41.2965855], [-70.095821768, 41.291693151], [-70.088480562, 41.277150214], [-70.008452833, 41.306953579], [-70.032938719, 41.316490173], [-70.003734259, 41.326572333], [-69.960858375, 41.266331524], [-70.008977205, 41.239361912], [-70.100861639, 41.240125], [-70.201369266, 41.273412381], [-70.191013366, 41.27890572]]], [[[-70.050631911, 41.392463744], [-70.024163872, 41.369136572], [-70.026814504, 41.35900018], [-70.050631911, 41.392463744]]], [[[-70.092486441, 41.295796931], [-70.03150776, 41.341052502], [-70.026814504, 41.35900018], [-70.018840633, 41.347796857], [-70.04559204, 41.315488368], [-70.092486441, 41.295796931]]], [[[-70.013150722, 41.354668736], [-69.999223351, 41.328129619], [-70.003734259, 41.326572333], [-70.018840633, 41.347796857], [-70.013150722, 41.354668736]]], [[[-69.986537844, 41.599414945], [-69.990559816, 41.549665332], [-70.008519888, 41.540038884], [-69.985919595, 41.619640142], [-69.975574842, 41.612848265], [-69.986537844, 41.599414945]]], [[[-69.975574842, 41.612848265], [-69.955059439, 41.637986451], [-69.974294901, 41.612007916], [-69.975574842, 41.612848265]]], [[[-69.935987592, 41.777635664], [-69.931948185, 41.70491159], [-69.936778747, 41.77704899], [-69.935987592, 41.777635664]]], [[[-69.940191954, 41.676551253], [-69.945428967, 41.65933013], [-69.934195876, 41.697300822], [-69.940191954, 41.676551253]]]]}\",\"{\\\"type\\\": \\\"MultiPolygon\\\", \\\"coordinates\\\": [[[[-74.255678505, 40.507649928], [-74.23987627, 40.520106107], [-74.246163368, 40.5456689], [-74.21196118, 40.558577031], [-74.200683658, 40.609860306], [-74.194627404, 40.637400448], [-74.071540833, 40.645186901], [-74.052254409, 40.599785149], [-74.0733473, 40.578297973], [-74.136368483, 40.529493839], [-74.133059978, 40.546819568], [-74.217251837, 40.503626615], [-74.255678505, 40.507649928]]], [[[-73.933254182, 40.834943801], [-73.908659667, 40.87142989], [-73.934054822, 40.881812721], [-73.89403224, 40.996702462], [-74.695482999, 41.3577573], [-74.740962535, 41.405119747], [-74.738456011, 41.430642307], [-74.790417105, 41.421659589], [-74.807581902, 41.442846358], [-74.830670357, 41.430502832], [-74.892625362, 41.438616514], [-74.912991375, 41.475900561], [-74.983340353, 41.480893493], [-74.983809739, 41.506190747], [-75.003151149, 41.50810048], [-75.024756342, 41.535099596], [-75.01852423, 41.551801711], [-75.074613243, 41.60571143], [-75.044125915, 41.6182293], [-75.068989992, 41.708824933], [-75.050040185, 41.71288982], [-75.053123385, 41.750624478], [-75.104655325, 41.774239987], [-75.071971267, 41.813711375], [-75.112849474, 41.822584122], [-75.117366314, 41.845836192], [-75.162643343, 41.85035035], [-75.172473639, 41.872210354], [-75.258922577, 41.862668395], [-75.278901011, 41.938800216], [-75.312936902, 41.950155348], [-75.359546989, 41.99950397], [-79.761800319, 41.998841465], [-79.761840552, 42.514689267], [-78.935380876, 42.828303874], [-78.905790746, 42.900227308], [-78.909410387, 42.933575213], [-79.016418457, 42.984055728], [-79.025076628, 43.017741591], [-79.000417739, 43.057884872], [-79.074111432, 43.077860624], [-79.058007449, 43.107570112], [-79.069667011, 43.120333403], [-79.042333961, 43.143667281], [-79.05594483, 43.254666477], [-79.2006661, 43.450471759], [-78.690389246, 43.631138653], [-76.796694696, 43.631138653], [-76.43894434, 44.094055742], [-76.352861524, 44.134333134], [-76.312722266, 44.199056178], [-76.206832677, 44.21500057], [-76.164306253, 44.239833802], [-76.161805093, 44.280722737], [-75.912833065, 44.367806017], [-75.821388513, 44.432055652], [-75.766916871, 44.515277892], [-75.284860879, 44.848304987], [-75.064666271, 44.929499477], [-74.97255519, 44.983472228], [-74.90805611, 44.983527213], [-74.826527685, 45.015861243], [-74.744500369, 44.990667254], [-74.668497294, 45.004278123], [-74.150149673, 44.991368651], [-73.343166858, 45.010724813], [-73.354762048, 44.986795485], [-73.338187337, 44.964798689], [-73.338714391, 44.919040203], [-73.381588161, 44.849223644], [-73.333341926, 44.78726998], [-73.365618289, 44.741806537], [-73.361278474, 44.69497785], [-73.39023158, 44.618352503], [-73.374389112, 44.575454593], [-73.306707591, 44.500333965], [-73.293382376, 44.437484443], [-73.334939182, 44.364441186], [-73.313280344, 44.264138639], [-73.390582949, 44.19088617], [-73.437740207, 44.045006186], [-73.407648504, 44.021110386], [-73.408111185, 43.930445015], [-73.374051154, 43.875562996], [-73.372247368, 43.845337182], [-73.392491341, 43.820778877], [-73.350592554, 43.771938533], [-73.426764607, 43.642056584], [-73.431332409, 43.587917536], [-73.396195471, 43.567882776], [-73.371890634, 43.624568582], [-73.306081295, 43.628079593], [-73.297330588, 43.579355925], [-73.258734941, 43.565026224], [-73.241486996, 43.532800823], [-73.290887922, 42.801955193], [-73.264812827, 42.745851427], [-73.508209884, 42.086133957], [-73.48735705, 42.049532533], [-73.550961614, 41.295421422], [-73.482695371, 41.212771833], [-73.727775514, 41.100695729], [-73.655237854, 41.012294143], [-73.659686297, 40.988233387], [-73.68477568, 40.944293439], [-73.698200136, 40.939217359], [-73.691219687, 40.958452821], [-73.732713461, 40.948780775], [-73.725197911, 40.928590447], [-73.773601055, 40.912172645], [-73.766371161, 40.897482187], [-73.809309304, 40.871278346], [-73.784171641, 40.878197104], [-73.800396323, 40.848244876], [-73.822000176, 40.870289952], [-73.818269223, 40.896977931], [-73.826887161, 40.889577717], [-73.81410107, 40.824286044], [-73.790823519, 40.804365277], [-73.84258613, 40.817280114], [-73.934994936, 40.7829988], [-73.934792592, 40.78903684], [-73.971358985, 40.743841231], [-73.976760954, 40.711491108], [-74.014231414, 40.700107813], [-74.007037729, 40.75919956], [-73.929225504, 40.875504166], [-73.910441995, 40.87138027], [-73.934879601, 40.835295171], [-73.933554606, 40.825979014], [-73.933254182, 40.834943801]]], [[[-73.827235848, 40.595562011], [-73.820684552, 40.608125478], [-73.837265968, 40.615383536], [-73.83318767, 40.638842136], [-73.814184219, 40.614629835], [-73.827235848, 40.595562011]]], [[[-73.694640845, 40.621221364], [-73.683785945, 40.615120679], [-73.690255433, 40.604904145], [-73.694640845, 40.621221364]]], [[[-72.728324085, 40.824504644], [-72.732642442, 40.799955726], [-72.755578011, 40.803053677], [-72.74472177, 40.787621588], [-72.763143182, 40.796686113], [-72.753455043, 40.784113258], [-72.770902812, 40.783436], [-72.773587704, 40.797658414], [-72.773623914, 40.782847255], [-72.804112583, 40.783834308], [-72.81701535, 40.759045333], [-72.874225527, 40.737068653], [-72.896017134, 40.774004012], [-72.894391716, 40.760444105], [-72.944628149, 40.740556866], [-72.987358421, 40.749810487], [-72.982580066, 40.762477219], [-72.997864634, 40.747185946], [-73.024765849, 40.758364052], [-73.035756201, 40.730014443], [-73.132723421, 40.72602734], [-73.148915917, 40.698588341], [-73.201479167, 40.707737356], [-73.202822953, 40.724717081], [-73.22240442, 40.707033277], [-73.224788904, 40.727855265], [-73.277727664, 40.684522837], [-73.317748904, 40.696553886], [-73.314139992, 40.680309087], [-73.388579339, 40.669825673], [-73.379749507, 40.658458471], [-73.404830843, 40.667681247], [-73.408439755, 40.654845536], [-73.413683474, 40.670091212], [-73.416234255, 40.655124485], [-73.463933319, 40.647169054], [-73.480073512, 40.659430772], [-73.502003253, 40.624212027], [-73.526435494, 40.65857783], [-73.531524986, 40.638548434], [-73.558431566, 40.648805201], [-73.562457561, 40.630134344], [-73.575313389, 40.651756972], [-73.572434038, 40.625012666], [-73.599120677, 40.642379969], [-73.595269024, 40.622137338], [-73.622658402, 40.632542968], [-73.617752641, 40.620454252], [-73.634784278, 40.61120886], [-73.662037253, 40.596414953], [-73.645552397, 40.616468489], [-73.657008111, 40.640455484], [-73.663149029, 40.622569174], [-73.692037761, 40.637775958], [-73.712151647, 40.619838685], [-73.699817037, 40.606175354], [-73.687962145, 40.593043417], [-73.734678179, 40.596676469], [-73.727606535, 40.607407987], [-73.940636963, 40.541901737], [-73.926401138, 40.561432242], [-73.778795153, 40.609445125], [-73.76810655, 40.597841889], [-73.77344951, 40.613595843], [-73.754370958, 40.611490309], [-73.768938035, 40.619330406], [-73.738676012, 40.632466525], [-73.754456788, 40.647897273], [-73.748690039, 40.635282844], [-73.784989715, 40.620545447], [-73.82175073, 40.649768114], [-73.81145373, 40.660728961], [-73.833872974, 40.648145378], [-73.839734942, 40.662277937], [-73.840624094, 40.644926727], [-73.859610111, 40.655089617], [-73.867285252, 40.639956594], [-73.879341781, 40.654625595], [-73.869680464, 40.638290942], [-73.891167641, 40.649178028], [-73.877024353, 40.635876954], [-73.892782331, 40.607243031], [-73.919540048, 40.607904196], [-73.883965909, 40.605546534], [-73.879745454, 40.580162108], [-73.93015489, 40.604029745], [-73.914170265, 40.588826984], [-73.931225091, 40.586831421], [-73.911690563, 40.581735224], [-73.992960155, 40.570219159], [-74.012058824, 40.579968989], [-73.993020505, 40.588770658], [-74.041745514, 40.620726496], [-73.99954766, 40.664388835], [-74.019279331, 40.679611713], [-73.99435088, 40.704430193], [-73.970766217, 40.699981749], [-73.958456218, 40.747105479], [-73.909719139, 40.79091534], [-73.890133649, 40.77361241], [-73.869363964, 40.785717219], [-73.840566427, 40.753751993], [-73.853583187, 40.794139355], [-73.777918071, 40.796753168], [-73.753186762, 40.764545202], [-73.746200949, 40.783237517], [-73.764878511, 40.813231319], [-73.753613234, 40.838131607], [-73.719998449, 40.820463896], [-73.709340692, 40.793432593], [-73.699370921, 40.833708644], [-73.727817088, 40.832747072], [-73.730387986, 40.865990371], [-73.675638735, 40.857165903], [-73.651713696, 40.829922365], [-73.65308404, 40.848356187], [-73.635617495, 40.861724317], [-73.652050048, 40.857057273], [-73.654478788, 40.878713429], [-73.633345664, 40.902882814], [-73.521974981, 40.918149948], [-73.507725745, 40.90122655], [-73.532970697, 40.88512525], [-73.524403721, 40.91175288], [-73.548571765, 40.903452784], [-73.541882336, 40.876868069], [-73.505942076, 40.872540325], [-73.509196937, 40.893095434], [-73.494910151, 40.895139277], [-73.462660611, 40.859302282], [-73.49737376, 40.923216641], [-73.484788835, 40.947917104], [-73.430722207, 40.929762572], [-73.432358181, 40.924524402], [-73.475417197, 40.912002325], [-73.433722258, 40.908890963], [-73.444763571, 40.899664164], [-73.419780135, 40.884545892], [-73.433246166, 40.906160474], [-73.39640066, 40.909253061], [-73.373980075, 40.892612636], [-73.374837041, 40.913857073], [-73.354247063, 40.890772641], [-73.352681994, 40.923793316], [-73.378661871, 40.9250848], [-73.381632417, 40.942458808], [-73.406579643, 40.915786922], [-73.400275111, 40.955762565], [-73.344965279, 40.920846909], [-73.322107494, 40.930504203], [-73.233701885, 40.906151086], [-73.148913234, 40.929640532], [-73.180822134, 40.917185694], [-73.169122338, 40.893308669], [-73.137036413, 40.934821218], [-73.138626963, 40.946620256], [-73.147564083, 40.925830454], [-73.144091964, 40.955400467], [-73.15884009, 40.967300087], [-73.12455073, 40.97370252], [-73.117378778, 40.972184654], [-73.128321916, 40.959300399], [-73.116151392, 40.947061479], [-73.108296543, 40.96817717], [-73.101566881, 40.943500847], [-73.095734417, 40.958262384], [-73.067036122, 40.950783044], [-73.091504574, 40.972464681], [-73.03970173, 40.956434458], [-72.635242045, 40.982036144], [-72.548827976, 41.008970886], [-72.447789162, 41.084803641], [-72.396135181, 41.096535623], [-72.353847474, 41.140089333], [-72.233097106, 41.160488874], [-72.267983253, 41.1365112], [-72.316686809, 41.139846593], [-72.339612991, 41.114226133], [-72.355739772, 41.117801517], [-72.349628359, 41.105425805], [-72.361996025, 41.113031209], [-72.364159226, 41.092948169], [-72.383357137, 41.08844474], [-72.374434769, 41.076826751], [-72.434324473, 41.05551526], [-72.383370548, 41.049717665], [-72.39005059, 41.030278355], [-72.424770445, 41.040792614], [-72.4541004, 41.021244675], [-72.450577008, 41.014752146], [-72.474624664, 41.021963507], [-72.460189015, 41.007623076], [-72.478107512, 41.009410769], [-72.470386773, 40.989609361], [-72.528321147, 40.979852825], [-72.575845867, 40.933583379], [-72.618682086, 40.938935727], [-72.631792724, 40.932019651], [-72.620225698, 40.92259571], [-72.650648654, 40.916554034], [-72.56403476, 40.896570235], [-72.569301277, 40.917806625], [-72.475884164, 40.90020966], [-72.442506552, 40.945701599], [-72.405152768, 40.951804966], [-72.37390101, 40.98973006], [-72.37718001, 41.021747589], [-72.366634905, 40.996094942], [-72.330026776, 40.995372087], [-72.31646955, 41.009979397], [-72.332511842, 41.033501029], [-72.312949151, 41.0409455], [-72.299044579, 41.002990901], [-72.315428853, 41.009245813], [-72.326471508, 40.990002304], [-72.260186076, 41.013093442], [-72.250649482, 40.995419025], [-72.239074409, 41.035295427], [-72.262070328, 41.04073897], [-72.241056561, 41.044608057], [-72.187446224, 41.031437725], [-72.187712789, 41.034659743], [-72.160658687, 41.053826809], [-72.144299987, 41.039861752], [-72.154818177, 41.020659953], [-72.096174359, 40.991229415], [-72.05872938, 41.012822539], [-72.063660622, 40.998675227], [-72.041480094, 41.001569331], [-72.055592537, 41.022166014], [-72.021472156, 41.021735519], [-71.992730945, 41.047583967], [-71.962446123, 41.043438613], [-71.960252076, 41.070199013], [-71.939042509, 41.07905969], [-71.85618639, 41.070840061], [-71.902607381, 41.04033798], [-72.474651486, 40.83819598], [-72.42730689, 40.864188163], [-72.435708493, 40.884945542], [-72.496958077, 40.881979018], [-72.501655966, 40.846081674], [-72.52684325, 40.862123966], [-72.519802451, 40.845987797], [-72.537134886, 40.851578861], [-72.540525198, 40.866533518], [-72.550999224, 40.838838369], [-72.577487379, 40.847648084], [-72.573987097, 40.83029151], [-72.595157772, 40.822329372], [-72.477723956, 40.83962962], [-72.753137201, 40.763130337], [-72.635115346, 40.799510551], [-72.6640369, 40.810213834], [-72.693207264, 40.797024071], [-72.728324085, 40.824504644]], [[-73.649538159, 40.800657123], [-73.649851978, 40.82780242], [-73.651713696, 40.829922365], [-73.649538159, 40.800657123]], [[-72.477557659, 40.897928774], [-72.458001673, 40.896841139], [-72.475884164, 40.90020966], [-72.477557659, 40.897928774]], [[-72.187281268, 41.029443867], [-72.184561193, 41.030728966], [-72.187446224, 41.031437725], [-72.187281268, 41.029443867]], [[-72.208121717, 41.019597799], [-72.184529006, 40.996176749], [-72.187281268, 41.029443867], [-72.208121717, 41.019597799]], [[-72.425977439, 40.860903561], [-72.425328941, 40.865274056], [-72.42730689, 40.864188163], [-72.425977439, 40.860903561]], [[-72.412960678, 40.872064233], [-72.422935814, 40.881402344], [-72.425328941, 40.865274056], [-72.412960678, 40.872064233]], [[-72.634292543, 40.799206048], [-72.633999991, 40.799854359], [-72.635115346, 40.799510551], [-72.634292543, 40.799206048]], [[-72.609567503, 40.807385669], [-72.62361601, 40.822865814], [-72.633999991, 40.799854359], [-72.609567503, 40.807385669]], [[-72.60870561, 40.806435943], [-72.587893009, 40.814066827], [-72.609567503, 40.807385669], [-72.60870561, 40.806435943]]], [[[-73.573573977, 40.609093755], [-73.585980535, 40.604920238], [-73.594094217, 40.616318285], [-73.573573977, 40.609093755]]], [[[-73.754999936, 40.582796037], [-73.739896417, 40.585353523], [-73.575122952, 40.593390763], [-73.754999936, 40.582796037]]], [[[-73.483989537, 40.614069253], [-73.495830148, 40.622184277], [-73.48723954, 40.623045999], [-73.470294178, 40.624745786], [-73.483989537, 40.614069253]]], [[[-73.432358181, 40.924524402], [-73.431482613, 40.924779028], [-73.435751349, 40.91365993], [-73.432358181, 40.924524402]]], [[[-73.12455073, 40.653560758], [-72.900472283, 40.724452883], [-73.088260442, 40.658162087], [-73.249557763, 40.623207539], [-73.316877186, 40.626343042], [-73.12455073, 40.653560758]]], [[[-73.250676244, 40.640616417], [-73.575758636, 40.57447046], [-73.5004583, 40.613593161], [-73.492902517, 40.598780662], [-73.362737393, 40.635418877], [-73.322393149, 40.646774769], [-73.268001974, 40.64207688], [-73.250676244, 40.640616417]]], [[[-73.115514368, 40.974379778], [-73.089983761, 40.966386795], [-73.117378778, 40.972184654], [-73.115514368, 40.974379778]]], [[[-72.450577008, 41.014752146], [-72.448261231, 41.014057696], [-72.449766736, 41.013259064], [-72.450577008, 41.014752146]]], [[[-72.45998919, 41.007836312], [-72.449766736, 41.013259064], [-72.431388795, 40.979394168], [-72.45998919, 41.007836312]]], [[[-72.339139581, 41.046901345], [-72.354882807, 41.042231619], [-72.384561449, 41.069169044], [-72.34285444, 41.084004343], [-72.334483266, 41.107363701], [-72.276536822, 41.076930016], [-72.32324481, 41.089001298], [-72.311016619, 41.070418954], [-72.282662988, 41.069193184], [-72.270174623, 41.025933176], [-72.309946418, 41.054068208], [-72.342245672, 41.049300029], [-72.339139581, 41.046901345]], [[-72.350490689, 41.048082858], [-72.342245672, 41.049300029], [-72.364513278, 41.066496223], [-72.350490689, 41.048082858]]], [[[-72.259211093, 41.135910451], [-72.306283861, 41.110186726], [-72.267983253, 41.1365112], [-72.259211093, 41.135910451]]], [[[-72.212348878, 41.173964292], [-72.17206344, 41.186750382], [-72.198048681, 41.16464898], [-72.212348878, 41.173964292]]], [[[-72.143084854, 41.042080075], [-72.134949714, 41.031879634], [-72.144299987, 41.039861752], [-72.143084854, 41.042080075]]], [[[-72.130576372, 41.124500334], [-72.077469975, 41.099486053], [-72.099449337, 41.043520421], [-72.106361389, 41.089977622], [-72.142832726, 41.096350551], [-72.130576372, 41.124500334]]], [[[-72.038254738, 41.249514073], [-72.027700245, 41.263151765], [-71.921813339, 41.292249709], [-72.038254738, 41.249514073]]]]}\",\"{\\\"type\\\": \\\"MultiPolygon\\\", \\\"coordinates\\\": [[[[-73.264812827, 42.745851427], [-73.290887922, 42.801955193], [-73.241486996, 43.532800823], [-73.258734941, 43.565026224], [-73.297330588, 43.579355925], [-73.306081295, 43.628079593], [-73.371890634, 43.624568582], [-73.396195471, 43.567882776], [-73.431332409, 43.587917536], [-73.426764607, 43.642056584], [-73.350592554, 43.771938533], [-73.392491341, 43.820778877], [-73.372247368, 43.845337182], [-73.374051154, 43.875562996], [-73.408111185, 43.930445015], [-73.407648504, 44.021110386], [-73.437740207, 44.045006186], [-73.390582949, 44.19088617], [-73.313280344, 44.264138639], [-73.334939182, 44.364441186], [-73.293382376, 44.437484443], [-73.306707591, 44.500333965], [-73.374389112, 44.575454593], [-73.39023158, 44.618352503], [-73.361278474, 44.69497785], [-73.365618289, 44.741806537], [-73.333341926, 44.78726998], [-73.381588161, 44.849223644], [-73.338714391, 44.919040203], [-73.338187337, 44.964798689], [-73.354762048, 44.986795485], [-73.343166858, 45.010724813], [-71.501019001, 45.013445914], [-71.465385854, 45.013224632], [-71.541547179, 44.98427555], [-71.517938375, 44.967719615], [-71.522781104, 44.939901084], [-71.495000124, 44.904694408], [-71.549965292, 44.862133116], [-71.551236659, 44.83745411], [-71.577237993, 44.815238714], [-71.573272347, 44.790901691], [-71.632812023, 44.75102663], [-71.581821889, 44.673497379], [-71.588280648, 44.660377353], [-71.546992064, 44.629668742], [-71.562656164, 44.601376802], [-71.535065621, 44.588342607], [-71.559869349, 44.563951939], [-71.597318351, 44.559295624], [-71.571844071, 44.537589848], [-71.594197601, 44.521075487], [-71.57683298, 44.502403289], [-71.645140797, 44.475557059], [-71.662200987, 44.439776391], [-71.704047471, 44.413585961], [-71.795426309, 44.398434162], [-71.815446317, 44.354298413], [-72.032795101, 44.320483804], [-72.068453729, 44.271235764], [-72.047878504, 44.238921851], [-72.066179216, 44.190062732], [-72.033265829, 44.131913781], [-72.055508047, 44.110855758], [-72.031264901, 44.100254327], [-72.045279443, 44.087276459], [-72.031645775, 44.078772515], [-72.05269441, 44.076748788], [-72.090488076, 44.009973854], [-72.11688906, 43.994376808], [-72.114111632, 43.967546672], [-72.091218978, 43.965509534], [-72.184899151, 43.864097893], [-72.18348965, 43.808676749], [-72.205471694, 43.770982325], [-72.299668193, 43.706374615], [-72.328324914, 43.601295054], [-72.380346358, 43.573625386], [-72.399119139, 43.512135744], [-72.382026762, 43.478626907], [-72.416171283, 43.376780748], [-72.390015721, 43.356240392], [-72.410539985, 43.33127439], [-72.395445853, 43.312929422], [-72.438907027, 43.251875639], [-72.457391471, 43.147467971], [-72.432704419, 43.118419647], [-72.435683012, 43.081169128], [-72.468015701, 43.052009493], [-72.443469465, 43.007158935], [-72.473360002, 42.972294241], [-72.532272041, 42.954786122], [-72.524570078, 42.915379107], [-72.55723536, 42.853898853], [-72.541720122, 42.807455063], [-72.508959621, 42.780056298], [-72.5153929, 42.765612602], [-72.490421534, 42.772346288], [-72.45844692, 42.726960629], [-73.264812827, 42.745851427]]]]}\"]\n",
       "},\n",
       "\"map_data_meta\":{\n",
       "\"geodataframe\":{\n",
       "\"geometry\":\"geometry\"\n",
       "}\n",
       "},\n",
       "\"data\":{\n",
       "}\n",
       "},{\n",
       "\"geom\":\"point\",\n",
       "\"data\":{\n",
       "\"City_Name\":[\"boston\",\"new york\",\"worcester\",\"worcester\"],\n",
       "\"State_Name\":[\"massachusetts\",\"new york\",\"vermont\",\"massachusetts\"],\n",
       "\"mean\":[523.0,556.0,600.0,533.0]\n",
       "},\n",
       "\"mapping\":{\n",
       "\"size\":\"mean\",\n",
       "\"color\":\"City_Name\"\n",
       "},\n",
       "\"data_meta\":{\n",
       "\"series_annotations\":[{\n",
       "\"type\":\"str\",\n",
       "\"column\":\"City_Name\"\n",
       "},{\n",
       "\"type\":\"str\",\n",
       "\"column\":\"State_Name\"\n",
       "},{\n",
       "\"type\":\"int\",\n",
       "\"column\":\"mean\"\n",
       "}]\n",
       "},\n",
       "\"map\":{\n",
       "\"city\":[\"boston\",\"new york\",\"worcester\",\"worcester\"],\n",
       "\"found name\":[\"Boston\",\"New York\",\"Worcester\",\"Worcester\"],\n",
       "\"state\":[\"massachusetts\",\"new york\",\"vermont\",\"massachusetts\"],\n",
       "\"geometry\":[\"{\\\"type\\\": \\\"Point\\\", \\\"coordinates\\\": [-71.0884755326693, 42.3110405355692]}\",\"{\\\"type\\\": \\\"Point\\\", \\\"coordinates\\\": [-73.8673749469137, 40.6847005337477]}\",\"{\\\"type\\\": \\\"Point\\\", \\\"coordinates\\\": [-72.5724501055639, 44.4132962822914]}\",\"{\\\"type\\\": \\\"Point\\\", \\\"coordinates\\\": [-71.8154652712922, 42.2678737342358]}\"]\n",
       "},\n",
       "\"map_join\":[[\"City_Name\",\"State_Name\"],[\"city\",\"state\"]],\n",
       "\"map_data_meta\":{\n",
       "\"geodataframe\":{\n",
       "\"geometry\":\"geometry\"\n",
       "}\n",
       "}\n",
       "}],\n",
       "\"metainfo_list\":[],\n",
       "\"spec_id\":\"8\"\n",
       "};\n",
       "               window.letsPlotCall(function() {\n",
       "       \n",
       "               var toolbar = null;\n",
       "               var plotContainer = containerDiv;               \n",
       "               \n",
       "                   var options = {\n",
       "                       sizing: {\n",
       "                           width_mode: \"min\",\n",
       "                           height_mode: \"scaled\",\n",
       "                           width: width\n",
       "                       }\n",
       "                   };\n",
       "                   var fig = LetsPlot.buildPlotFromProcessedSpecs(plotSpec, -1, -1, plotContainer, options);\n",
       "                   if (toolbar) {\n",
       "                     toolbar.bind(fig);\n",
       "                   }\n",
       "               });\n",
       "               \n",
       "               break;\n",
       "           }\n",
       "       }\n",
       "   });\n",
       "   \n",
       "   observer.observe(containerDiv);\n",
       "   \n",
       "   // ----------\n",
       "   })();\n",
       "   \n",
       "   </script>"
      ],
      "text/plain": [
       "<lets_plot.plot.core.PlotSpec at 0x1244ac2e0>"
      ]
     },
     "execution_count": 45,
     "metadata": {},
     "output_type": "execute_result"
    }
   ],
   "source": [
    "# With Geocoder or GeoDataFrame returned by Geocoder we can omit generated map names.\n",
    "# Only data columns have to be defined. Map columns will be generated with the following order: \n",
    "# - city, county, state, country. \n",
    "# Not requested levels will be ommited.\n",
    "# Data columns should exactly follow this order.\n",
    "draw_plot(map=geocoder, map_join=[['City_Name', 'State_Name']])"
   ]
  },
  {
   "cell_type": "code",
   "execution_count": 46,
   "metadata": {
    "execution": {
     "iopub.execute_input": "2024-11-07T09:09:11.403089Z",
     "iopub.status.busy": "2024-11-07T09:09:11.402949Z",
     "iopub.status.idle": "2024-11-07T09:09:11.639663Z",
     "shell.execute_reply": "2024-11-07T09:09:11.639255Z"
    }
   },
   "outputs": [
    {
     "data": {
      "text/html": [
       "   <div id=\"BDg0Ei\"></div>\n",
       "   <script type=\"text/javascript\" data-lets-plot-script=\"plot\">\n",
       "   \n",
       "   (function() {\n",
       "   // ----------\n",
       "   \n",
       "   var containerDiv = document.getElementById(\"BDg0Ei\");\n",
       "   var observer = new ResizeObserver(function(entries) {\n",
       "       for (let entry of entries) {\n",
       "           var width = containerDiv.clientWidth\n",
       "           if (entry.contentBoxSize && width > 0) {\n",
       "           \n",
       "               // Render plot\n",
       "               if (observer) {\n",
       "                   observer.disconnect();\n",
       "                   observer = null;\n",
       "               }\n",
       "\n",
       "               var plotSpec={\n",
       "\"mapping\":{\n",
       "},\n",
       "\"data_meta\":{\n",
       "},\n",
       "\"theme\":{\n",
       "\"name\":\"classic\",\n",
       "\"line\":\"blank\",\n",
       "\"axis\":\"blank\"\n",
       "},\n",
       "\"kind\":\"plot\",\n",
       "\"scales\":[],\n",
       "\"layers\":[{\n",
       "\"geom\":\"map\",\n",
       "\"mapping\":{\n",
       "},\n",
       "\"data_meta\":{\n",
       "},\n",
       "\"map\":{\n",
       "\"state\":[\"massachusetts\",\"new york\",\"vermont\"],\n",
       "\"found name\":[\"Massachusetts\",\"New York\",\"Vermont\"],\n",
       "\"geometry\":[\"{\\\"type\\\": \\\"MultiPolygon\\\", \\\"coordinates\\\": [[[[-70.889209807, 42.276572138], [-70.877235085, 42.27988869], [-70.885442644, 42.304685712], [-70.919422209, 42.306226641], [-70.883068889, 42.310373336], [-70.853234679, 42.269390523], [-70.801999122, 42.2591874], [-70.804368854, 42.245420963], [-70.788975656, 42.253687531], [-70.794192553, 42.23988086], [-70.771977156, 42.2356309], [-70.767381191, 42.254016101], [-70.747945905, 42.221153677], [-70.71658954, 42.207233012], [-70.719934255, 42.162017673], [-70.642060339, 42.091533244], [-70.643675029, 42.051466405], [-70.59916243, 42.004526407], [-70.638015568, 41.994737685], [-70.608603805, 42.010302544], [-70.656681061, 42.060349882], [-70.672522187, 42.054092288], [-70.651150346, 42.047127932], [-70.671899915, 42.046557963], [-70.668653101, 42.00984925], [-70.688252002, 42.02026695], [-70.729250908, 41.989438981], [-70.703613013, 41.999825835], [-70.651515126, 41.950054765], [-70.629644394, 41.947186142], [-70.651858449, 41.979451776], [-70.621715784, 41.942139566], [-70.583649874, 41.950254589], [-70.539216399, 41.926655173], [-70.547590256, 41.910832822], [-70.525681973, 41.858154237], [-70.54230094, 41.818452179], [-70.489202589, 41.779796183], [-70.542153418, 41.775121093], [-70.272541791, 41.723693758], [-70.372849703, 41.727519929], [-70.355302691, 41.724133641], [-70.351747423, 41.701586992], [-70.262463391, 41.707479805], [-70.189896226, 41.752303541], [-70.122119486, 41.757981777], [-70.005733073, 41.799635142], [-70.00922665, 41.875313669], [-69.989765882, 41.894248724], [-70.006084442, 41.905733943], [-69.98892501, 41.912683547], [-70.020866096, 41.908295453], [-70.035402328, 41.925391853], [-70.022538453, 41.919170469], [-70.026516169, 41.937565058], [-70.065337121, 41.931627989], [-70.054580122, 41.921170056], [-70.071447194, 41.896665394], [-70.079921633, 41.991376877], [-70.054313242, 41.994095296], [-70.080055743, 41.992192268], [-70.096570104, 42.033608258], [-70.145890564, 42.06093058], [-70.178515613, 42.056118697], [-70.199829787, 42.028789669], [-70.212689638, 42.038489878], [-70.196589679, 42.023559362], [-70.167459548, 42.034549713], [-70.194500238, 42.020819485], [-70.244920403, 42.061484456], [-70.192119777, 42.082479447], [-70.05968973, 42.040678561], [-69.9771595, 41.929712892], [-69.944002032, 41.833028644], [-69.973314553, 41.836186945], [-69.959373772, 41.818500459], [-69.984830618, 41.78530544], [-69.959304035, 41.814259887], [-69.951099157, 41.793499589], [-69.939469099, 41.799083948], [-69.940060526, 41.826057583], [-69.936778747, 41.77704899], [-69.970389605, 41.752125174], [-69.963146299, 41.712688655], [-69.984986186, 41.707112342], [-69.945642203, 41.703653634], [-69.946583658, 41.665752679], [-69.964077026, 41.653155684], [-70.014140457, 41.672713012], [-70.177114159, 41.65074572], [-70.266269445, 41.609372646], [-70.266427696, 41.630170494], [-70.241818428, 41.631466001], [-70.260423571, 41.655648798], [-70.279762298, 41.650838256], [-70.273162723, 41.631872356], [-70.348991454, 41.635262668], [-70.387263894, 41.6089046], [-70.434748381, 41.609119177], [-70.486724228, 41.55373022], [-70.527104884, 41.547691226], [-70.505235493, 41.556185782], [-70.531079918, 41.579716802], [-70.547503084, 41.553188413], [-70.528530478, 41.573076993], [-70.541710854, 41.552364975], [-70.529280156, 41.546883881], [-70.555308312, 41.549358219], [-70.552164763, 41.575069875], [-70.555988252, 41.549220085], [-70.63362211, 41.538668275], [-70.655617565, 41.515067518], [-70.686851889, 41.522116363], [-70.65348655, 41.539800167], [-70.640759468, 41.57694608], [-70.651053786, 41.645823866], [-70.620604008, 41.657200456], [-70.653993487, 41.667087078], [-70.632985161, 41.671943142], [-70.613299012, 41.676493585], [-70.62759921, 41.693610102], [-70.66116035, 41.682598293], [-70.61800763, 41.701105535], [-70.613422394, 41.728496253], [-70.639344603, 41.717377156], [-70.622831583, 41.73666358], [-70.54360047, 41.775182784], [-70.624978691, 41.737476289], [-70.603105277, 41.761500835], [-70.624970645, 41.765300184], [-70.635195225, 41.734496355], [-70.667030364, 41.736742705], [-70.641959757, 41.724031717], [-70.673997402, 41.692212671], [-70.654503107, 41.715130806], [-70.705947876, 41.72883153], [-70.706115514, 41.744706184], [-70.733149499, 41.743007004], [-70.72258696, 41.723192185], [-70.745884627, 41.738547832], [-70.713303834, 41.709085107], [-70.730362684, 41.706519574], [-70.715554208, 41.676488221], [-70.761378407, 41.721443385], [-70.74416399, 41.672171205], [-70.765856355, 41.676716208], [-70.764547437, 41.641313732], [-70.808078349, 41.658222377], [-70.824831426, 41.649668813], [-70.80335632, 41.640197933], [-70.808571875, 41.624842286], [-70.867828578, 41.639167964], [-70.841706544, 41.596451104], [-70.852345526, 41.581952423], [-70.873665065, 41.628035456], [-70.913290679, 41.619624048], [-70.90125829, 41.591388434], [-70.930094719, 41.613078117], [-70.933572203, 41.580510736], [-70.949849188, 41.584670842], [-70.927987844, 41.539348215], [-70.945550948, 41.538282037], [-70.953369588, 41.514277607], [-70.969386399, 41.535560936], [-70.981559604, 41.509174705], [-71.038131416, 41.494580805], [-71.089879274, 41.51125744], [-71.120329052, 41.496714503], [-71.141958386, 41.612532288], [-71.132558584, 41.660366803], [-71.196589619, 41.676403731], [-71.157300621, 41.711516529], [-71.19588688, 41.707261205], [-71.190788001, 41.741294414], [-71.202360392, 41.711099446], [-71.216350794, 41.712547839], [-71.215208173, 41.733477116], [-71.225592345, 41.711642593], [-71.261067241, 41.752082258], [-71.340480745, 41.797033399], [-71.33878693, 41.898592561], [-71.381463557, 41.893545985], [-71.381326765, 42.018935233], [-71.799188107, 42.008053511], [-71.800670028, 42.023513764], [-72.71456033, 42.036910057], [-72.755894512, 42.036349475], [-72.766733319, 42.003265768], [-72.817052901, 41.997685432], [-72.813783288, 42.03674376], [-73.48735705, 42.049532533], [-73.508209884, 42.086133957], [-73.264812827, 42.745851427], [-72.45844692, 42.726960629], [-71.294871122, 42.697243094], [-71.24542594, 42.742546946], [-71.181786507, 42.737340778], [-71.186139733, 42.790935338], [-71.166646779, 42.808880657], [-71.132805347, 42.82147631], [-71.064413041, 42.806274891], [-71.031196564, 42.859296799], [-70.914630443, 42.886647284], [-70.847718716, 42.860867232], [-70.816150457, 42.872041315], [-70.803633928, 42.818905413], [-70.827014744, 42.820644826], [-70.819617212, 42.837729156], [-70.864453018, 42.814863324], [-70.868776739, 42.832466662], [-70.913219601, 42.834100127], [-70.814177692, 42.792761922], [-70.833269656, 42.790082395], [-70.815541595, 42.771703899], [-70.837913901, 42.766312659], [-70.815502703, 42.755528837], [-70.825650911, 42.755590906], [-70.814608186, 42.729550302], [-70.85265398, 42.726563662], [-70.819806308, 42.725632936], [-70.830305815, 42.699997723], [-70.802575797, 42.710862011], [-70.78904137, 42.695804089], [-70.823812187, 42.681557536], [-70.77150777, 42.691033781], [-70.689327568, 42.655271888], [-70.680749863, 42.646671385], [-70.707506239, 42.63344273], [-70.690109432, 42.624207884], [-70.69514485, 42.62047663], [-70.672908425, 42.609548271], [-70.7103239, 42.572669238], [-70.779778361, 42.557784319], [-70.770927072, 42.573257983], [-70.888870507, 42.540080398], [-70.884682238, 42.52666533], [-70.864567012, 42.533673942], [-70.892609507, 42.519299984], [-70.887947828, 42.497991174], [-70.862240195, 42.5211896], [-70.84090054, 42.518343776], [-70.854330361, 42.491767108], [-70.833785981, 42.505954653], [-70.835538805, 42.490588278], [-70.93372643, 42.459020019], [-70.933706313, 42.431420088], [-70.905513614, 42.416313887], [-70.936418027, 42.416724265], [-70.944632292, 42.45984748], [-70.967291594, 42.445076555], [-70.990433693, 42.407412976], [-70.966592878, 42.388687134], [-70.953240842, 42.344158441], [-70.97204715, 42.372286767], [-70.996550471, 42.371755689], [-70.982801467, 42.391807884], [-71.019612104, 42.377546579], [-70.986624956, 42.360065281], [-71.004846543, 42.347142398], [-71.044926792, 42.37054199], [-71.023419499, 42.38635093], [-71.05831638, 42.381489426], [-71.051986367, 42.352324426], [-71.021836996, 42.344488353], [-71.04197368, 42.339476645], [-71.009628922, 42.338452041], [-71.047336757, 42.327257842], [-71.032691896, 42.313502133], [-71.053327471, 42.307404131], [-71.041788608, 42.279054523], [-71.039150655, 42.30099231], [-70.990703255, 42.307958007], [-71.017589718, 42.281363904], [-70.97281158, 42.26327911], [-70.955394655, 42.280032188], [-70.951018631, 42.26060763], [-70.970630944, 42.262852639], [-70.962570906, 42.248355299], [-70.993887037, 42.256145775], [-70.965998769, 42.247826904], [-70.974306911, 42.222064286], [-70.949284583, 42.231622338], [-70.966088623, 42.244892567], [-70.924851, 42.263371646], [-70.939035863, 42.247224748], [-70.92309013, 42.219525576], [-70.931223929, 42.251671851], [-70.893178135, 42.262511998], [-70.884529352, 42.245289534], [-70.870789737, 42.261428386], [-70.880004432, 42.273007817], [-70.889209807, 42.276572138]], [[-70.826470256, 42.75752306], [-70.867689103, 42.75584802], [-70.825650911, 42.755590906], [-70.826470256, 42.75752306]], [[-70.698747486, 42.622247189], [-70.707994401, 42.610955089], [-70.69514485, 42.62047663], [-70.698747486, 42.622247189]], [[-70.879995444, 42.273004337], [-70.880807787, 42.274017334], [-70.880004432, 42.273007817], [-70.879995444, 42.273004337]], [[-70.865686834, 42.255161405], [-70.858196765, 42.264563888], [-70.879995444, 42.273004337], [-70.865686834, 42.255161405]]], [[[-70.905952156, 41.424758881], [-70.855778754, 41.441422105], [-70.865081996, 41.423169672], [-70.905952156, 41.424758881]]], [[[-70.841329694, 41.448430717], [-70.822457671, 41.456931978], [-70.808920562, 41.444204897], [-70.841329694, 41.448430717]]], [[[-70.832110941, 41.258392185], [-70.814799964, 41.261879057], [-70.804733634, 41.249677688], [-70.832110941, 41.258392185]]], [[[-70.812286735, 42.783606201], [-70.819066018, 42.817794979], [-70.804343373, 42.816040814], [-70.771448761, 42.704023719], [-70.799371898, 42.721706182], [-70.812286735, 42.783606201]]], [[[-70.710673928, 41.492247283], [-70.805766284, 41.450431645], [-70.786046684, 41.477744579], [-70.706308633, 41.512126476], [-70.710673928, 41.492247283]]], [[[-70.630013198, 42.692821473], [-70.623473972, 42.661435604], [-70.595769435, 42.661179453], [-70.590709448, 42.640413791], [-70.664619058, 42.579921931], [-70.648266971, 42.614530474], [-70.688194335, 42.6213862], [-70.665575266, 42.651256621], [-70.680081993, 42.660752982], [-70.630013198, 42.692821473]]], [[[-70.587675869, 41.459245384], [-70.56688875, 41.470750719], [-70.552969426, 41.452966332], [-70.547320694, 41.417385489], [-70.564340651, 41.435250342], [-70.572482497, 41.414512843], [-70.505672693, 41.39662385], [-70.504361591, 41.389894531], [-70.464463234, 41.40111655], [-70.451980951, 41.358791681], [-70.452117026, 41.351011544], [-70.456388941, 41.350950647], [-70.455664247, 41.350699067], [-70.509057641, 41.349722743], [-70.507930943, 41.350215903], [-70.548358709, 41.349639595], [-70.535531044, 41.361324638], [-70.564388931, 41.382047385], [-70.54990232, 41.355227977], [-70.576171875, 41.360462308], [-70.549927801, 41.349663734], [-70.725603104, 41.339016706], [-70.775981694, 41.301322281], [-70.838218331, 41.346108466], [-70.770449638, 41.352360696], [-70.659234524, 41.460810453], [-70.598054677, 41.481259614], [-70.601107031, 41.456050873], [-70.588213212, 41.457949528], [-70.587675869, 41.459245384]], [[-70.599979162, 41.429574788], [-70.58689937, 41.458142996], [-70.588213212, 41.457949528], [-70.599979162, 41.429574788]]], [[[-70.473389626, 41.407360733], [-70.450901985, 41.420482099], [-70.451033871, 41.412941434], [-70.473389626, 41.407360733]]], [[[-70.451033871, 41.412941434], [-70.44972986, 41.413266957], [-70.450825542, 41.354873925], [-70.451980951, 41.358791681], [-70.451033871, 41.412941434]]], [[[-70.259584039, 41.297135353], [-70.278953612, 41.311988086], [-70.239537209, 41.296707541], [-70.259584039, 41.297135353]]], [[[-70.236177742, 41.28494069], [-70.201369266, 41.273412381], [-70.203717649, 41.272166669], [-70.236177742, 41.28494069]]], [[[-70.191013366, 41.27890572], [-70.201251358, 41.274842173], [-70.199059993, 41.2965855], [-70.095821768, 41.291693151], [-70.088480562, 41.277150214], [-70.008452833, 41.306953579], [-70.032938719, 41.316490173], [-70.003734259, 41.326572333], [-69.960858375, 41.266331524], [-70.008977205, 41.239361912], [-70.100861639, 41.240125], [-70.201369266, 41.273412381], [-70.191013366, 41.27890572]]], [[[-70.050631911, 41.392463744], [-70.024163872, 41.369136572], [-70.026814504, 41.35900018], [-70.050631911, 41.392463744]]], [[[-70.092486441, 41.295796931], [-70.03150776, 41.341052502], [-70.026814504, 41.35900018], [-70.018840633, 41.347796857], [-70.04559204, 41.315488368], [-70.092486441, 41.295796931]]], [[[-70.013150722, 41.354668736], [-69.999223351, 41.328129619], [-70.003734259, 41.326572333], [-70.018840633, 41.347796857], [-70.013150722, 41.354668736]]], [[[-69.986537844, 41.599414945], [-69.990559816, 41.549665332], [-70.008519888, 41.540038884], [-69.985919595, 41.619640142], [-69.975574842, 41.612848265], [-69.986537844, 41.599414945]]], [[[-69.975574842, 41.612848265], [-69.955059439, 41.637986451], [-69.974294901, 41.612007916], [-69.975574842, 41.612848265]]], [[[-69.935987592, 41.777635664], [-69.931948185, 41.70491159], [-69.936778747, 41.77704899], [-69.935987592, 41.777635664]]], [[[-69.940191954, 41.676551253], [-69.945428967, 41.65933013], [-69.934195876, 41.697300822], [-69.940191954, 41.676551253]]]]}\",\"{\\\"type\\\": \\\"MultiPolygon\\\", \\\"coordinates\\\": [[[[-74.255678505, 40.507649928], [-74.23987627, 40.520106107], [-74.246163368, 40.5456689], [-74.21196118, 40.558577031], [-74.200683658, 40.609860306], [-74.194627404, 40.637400448], [-74.071540833, 40.645186901], [-74.052254409, 40.599785149], [-74.0733473, 40.578297973], [-74.136368483, 40.529493839], [-74.133059978, 40.546819568], [-74.217251837, 40.503626615], [-74.255678505, 40.507649928]]], [[[-73.933254182, 40.834943801], [-73.908659667, 40.87142989], [-73.934054822, 40.881812721], [-73.89403224, 40.996702462], [-74.695482999, 41.3577573], [-74.740962535, 41.405119747], [-74.738456011, 41.430642307], [-74.790417105, 41.421659589], [-74.807581902, 41.442846358], [-74.830670357, 41.430502832], [-74.892625362, 41.438616514], [-74.912991375, 41.475900561], [-74.983340353, 41.480893493], [-74.983809739, 41.506190747], [-75.003151149, 41.50810048], [-75.024756342, 41.535099596], [-75.01852423, 41.551801711], [-75.074613243, 41.60571143], [-75.044125915, 41.6182293], [-75.068989992, 41.708824933], [-75.050040185, 41.71288982], [-75.053123385, 41.750624478], [-75.104655325, 41.774239987], [-75.071971267, 41.813711375], [-75.112849474, 41.822584122], [-75.117366314, 41.845836192], [-75.162643343, 41.85035035], [-75.172473639, 41.872210354], [-75.258922577, 41.862668395], [-75.278901011, 41.938800216], [-75.312936902, 41.950155348], [-75.359546989, 41.99950397], [-79.761800319, 41.998841465], [-79.761840552, 42.514689267], [-78.935380876, 42.828303874], [-78.905790746, 42.900227308], [-78.909410387, 42.933575213], [-79.016418457, 42.984055728], [-79.025076628, 43.017741591], [-79.000417739, 43.057884872], [-79.074111432, 43.077860624], [-79.058007449, 43.107570112], [-79.069667011, 43.120333403], [-79.042333961, 43.143667281], [-79.05594483, 43.254666477], [-79.2006661, 43.450471759], [-78.690389246, 43.631138653], [-76.796694696, 43.631138653], [-76.43894434, 44.094055742], [-76.352861524, 44.134333134], [-76.312722266, 44.199056178], [-76.206832677, 44.21500057], [-76.164306253, 44.239833802], [-76.161805093, 44.280722737], [-75.912833065, 44.367806017], [-75.821388513, 44.432055652], [-75.766916871, 44.515277892], [-75.284860879, 44.848304987], [-75.064666271, 44.929499477], [-74.97255519, 44.983472228], [-74.90805611, 44.983527213], [-74.826527685, 45.015861243], [-74.744500369, 44.990667254], [-74.668497294, 45.004278123], [-74.150149673, 44.991368651], [-73.343166858, 45.010724813], [-73.354762048, 44.986795485], [-73.338187337, 44.964798689], [-73.338714391, 44.919040203], [-73.381588161, 44.849223644], [-73.333341926, 44.78726998], [-73.365618289, 44.741806537], [-73.361278474, 44.69497785], [-73.39023158, 44.618352503], [-73.374389112, 44.575454593], [-73.306707591, 44.500333965], [-73.293382376, 44.437484443], [-73.334939182, 44.364441186], [-73.313280344, 44.264138639], [-73.390582949, 44.19088617], [-73.437740207, 44.045006186], [-73.407648504, 44.021110386], [-73.408111185, 43.930445015], [-73.374051154, 43.875562996], [-73.372247368, 43.845337182], [-73.392491341, 43.820778877], [-73.350592554, 43.771938533], [-73.426764607, 43.642056584], [-73.431332409, 43.587917536], [-73.396195471, 43.567882776], [-73.371890634, 43.624568582], [-73.306081295, 43.628079593], [-73.297330588, 43.579355925], [-73.258734941, 43.565026224], [-73.241486996, 43.532800823], [-73.290887922, 42.801955193], [-73.264812827, 42.745851427], [-73.508209884, 42.086133957], [-73.48735705, 42.049532533], [-73.550961614, 41.295421422], [-73.482695371, 41.212771833], [-73.727775514, 41.100695729], [-73.655237854, 41.012294143], [-73.659686297, 40.988233387], [-73.68477568, 40.944293439], [-73.698200136, 40.939217359], [-73.691219687, 40.958452821], [-73.732713461, 40.948780775], [-73.725197911, 40.928590447], [-73.773601055, 40.912172645], [-73.766371161, 40.897482187], [-73.809309304, 40.871278346], [-73.784171641, 40.878197104], [-73.800396323, 40.848244876], [-73.822000176, 40.870289952], [-73.818269223, 40.896977931], [-73.826887161, 40.889577717], [-73.81410107, 40.824286044], [-73.790823519, 40.804365277], [-73.84258613, 40.817280114], [-73.934994936, 40.7829988], [-73.934792592, 40.78903684], [-73.971358985, 40.743841231], [-73.976760954, 40.711491108], [-74.014231414, 40.700107813], [-74.007037729, 40.75919956], [-73.929225504, 40.875504166], [-73.910441995, 40.87138027], [-73.934879601, 40.835295171], [-73.933554606, 40.825979014], [-73.933254182, 40.834943801]]], [[[-73.827235848, 40.595562011], [-73.820684552, 40.608125478], [-73.837265968, 40.615383536], [-73.83318767, 40.638842136], [-73.814184219, 40.614629835], [-73.827235848, 40.595562011]]], [[[-73.694640845, 40.621221364], [-73.683785945, 40.615120679], [-73.690255433, 40.604904145], [-73.694640845, 40.621221364]]], [[[-72.728324085, 40.824504644], [-72.732642442, 40.799955726], [-72.755578011, 40.803053677], [-72.74472177, 40.787621588], [-72.763143182, 40.796686113], [-72.753455043, 40.784113258], [-72.770902812, 40.783436], [-72.773587704, 40.797658414], [-72.773623914, 40.782847255], [-72.804112583, 40.783834308], [-72.81701535, 40.759045333], [-72.874225527, 40.737068653], [-72.896017134, 40.774004012], [-72.894391716, 40.760444105], [-72.944628149, 40.740556866], [-72.987358421, 40.749810487], [-72.982580066, 40.762477219], [-72.997864634, 40.747185946], [-73.024765849, 40.758364052], [-73.035756201, 40.730014443], [-73.132723421, 40.72602734], [-73.148915917, 40.698588341], [-73.201479167, 40.707737356], [-73.202822953, 40.724717081], [-73.22240442, 40.707033277], [-73.224788904, 40.727855265], [-73.277727664, 40.684522837], [-73.317748904, 40.696553886], [-73.314139992, 40.680309087], [-73.388579339, 40.669825673], [-73.379749507, 40.658458471], [-73.404830843, 40.667681247], [-73.408439755, 40.654845536], [-73.413683474, 40.670091212], [-73.416234255, 40.655124485], [-73.463933319, 40.647169054], [-73.480073512, 40.659430772], [-73.502003253, 40.624212027], [-73.526435494, 40.65857783], [-73.531524986, 40.638548434], [-73.558431566, 40.648805201], [-73.562457561, 40.630134344], [-73.575313389, 40.651756972], [-73.572434038, 40.625012666], [-73.599120677, 40.642379969], [-73.595269024, 40.622137338], [-73.622658402, 40.632542968], [-73.617752641, 40.620454252], [-73.634784278, 40.61120886], [-73.662037253, 40.596414953], [-73.645552397, 40.616468489], [-73.657008111, 40.640455484], [-73.663149029, 40.622569174], [-73.692037761, 40.637775958], [-73.712151647, 40.619838685], [-73.699817037, 40.606175354], [-73.687962145, 40.593043417], [-73.734678179, 40.596676469], [-73.727606535, 40.607407987], [-73.940636963, 40.541901737], [-73.926401138, 40.561432242], [-73.778795153, 40.609445125], [-73.76810655, 40.597841889], [-73.77344951, 40.613595843], [-73.754370958, 40.611490309], [-73.768938035, 40.619330406], [-73.738676012, 40.632466525], [-73.754456788, 40.647897273], [-73.748690039, 40.635282844], [-73.784989715, 40.620545447], [-73.82175073, 40.649768114], [-73.81145373, 40.660728961], [-73.833872974, 40.648145378], [-73.839734942, 40.662277937], [-73.840624094, 40.644926727], [-73.859610111, 40.655089617], [-73.867285252, 40.639956594], [-73.879341781, 40.654625595], [-73.869680464, 40.638290942], [-73.891167641, 40.649178028], [-73.877024353, 40.635876954], [-73.892782331, 40.607243031], [-73.919540048, 40.607904196], [-73.883965909, 40.605546534], [-73.879745454, 40.580162108], [-73.93015489, 40.604029745], [-73.914170265, 40.588826984], [-73.931225091, 40.586831421], [-73.911690563, 40.581735224], [-73.992960155, 40.570219159], [-74.012058824, 40.579968989], [-73.993020505, 40.588770658], [-74.041745514, 40.620726496], [-73.99954766, 40.664388835], [-74.019279331, 40.679611713], [-73.99435088, 40.704430193], [-73.970766217, 40.699981749], [-73.958456218, 40.747105479], [-73.909719139, 40.79091534], [-73.890133649, 40.77361241], [-73.869363964, 40.785717219], [-73.840566427, 40.753751993], [-73.853583187, 40.794139355], [-73.777918071, 40.796753168], [-73.753186762, 40.764545202], [-73.746200949, 40.783237517], [-73.764878511, 40.813231319], [-73.753613234, 40.838131607], [-73.719998449, 40.820463896], [-73.709340692, 40.793432593], [-73.699370921, 40.833708644], [-73.727817088, 40.832747072], [-73.730387986, 40.865990371], [-73.675638735, 40.857165903], [-73.651713696, 40.829922365], [-73.65308404, 40.848356187], [-73.635617495, 40.861724317], [-73.652050048, 40.857057273], [-73.654478788, 40.878713429], [-73.633345664, 40.902882814], [-73.521974981, 40.918149948], [-73.507725745, 40.90122655], [-73.532970697, 40.88512525], [-73.524403721, 40.91175288], [-73.548571765, 40.903452784], [-73.541882336, 40.876868069], [-73.505942076, 40.872540325], [-73.509196937, 40.893095434], [-73.494910151, 40.895139277], [-73.462660611, 40.859302282], [-73.49737376, 40.923216641], [-73.484788835, 40.947917104], [-73.430722207, 40.929762572], [-73.432358181, 40.924524402], [-73.475417197, 40.912002325], [-73.433722258, 40.908890963], [-73.444763571, 40.899664164], [-73.419780135, 40.884545892], [-73.433246166, 40.906160474], [-73.39640066, 40.909253061], [-73.373980075, 40.892612636], [-73.374837041, 40.913857073], [-73.354247063, 40.890772641], [-73.352681994, 40.923793316], [-73.378661871, 40.9250848], [-73.381632417, 40.942458808], [-73.406579643, 40.915786922], [-73.400275111, 40.955762565], [-73.344965279, 40.920846909], [-73.322107494, 40.930504203], [-73.233701885, 40.906151086], [-73.148913234, 40.929640532], [-73.180822134, 40.917185694], [-73.169122338, 40.893308669], [-73.137036413, 40.934821218], [-73.138626963, 40.946620256], [-73.147564083, 40.925830454], [-73.144091964, 40.955400467], [-73.15884009, 40.967300087], [-73.12455073, 40.97370252], [-73.117378778, 40.972184654], [-73.128321916, 40.959300399], [-73.116151392, 40.947061479], [-73.108296543, 40.96817717], [-73.101566881, 40.943500847], [-73.095734417, 40.958262384], [-73.067036122, 40.950783044], [-73.091504574, 40.972464681], [-73.03970173, 40.956434458], [-72.635242045, 40.982036144], [-72.548827976, 41.008970886], [-72.447789162, 41.084803641], [-72.396135181, 41.096535623], [-72.353847474, 41.140089333], [-72.233097106, 41.160488874], [-72.267983253, 41.1365112], [-72.316686809, 41.139846593], [-72.339612991, 41.114226133], [-72.355739772, 41.117801517], [-72.349628359, 41.105425805], [-72.361996025, 41.113031209], [-72.364159226, 41.092948169], [-72.383357137, 41.08844474], [-72.374434769, 41.076826751], [-72.434324473, 41.05551526], [-72.383370548, 41.049717665], [-72.39005059, 41.030278355], [-72.424770445, 41.040792614], [-72.4541004, 41.021244675], [-72.450577008, 41.014752146], [-72.474624664, 41.021963507], [-72.460189015, 41.007623076], [-72.478107512, 41.009410769], [-72.470386773, 40.989609361], [-72.528321147, 40.979852825], [-72.575845867, 40.933583379], [-72.618682086, 40.938935727], [-72.631792724, 40.932019651], [-72.620225698, 40.92259571], [-72.650648654, 40.916554034], [-72.56403476, 40.896570235], [-72.569301277, 40.917806625], [-72.475884164, 40.90020966], [-72.442506552, 40.945701599], [-72.405152768, 40.951804966], [-72.37390101, 40.98973006], [-72.37718001, 41.021747589], [-72.366634905, 40.996094942], [-72.330026776, 40.995372087], [-72.31646955, 41.009979397], [-72.332511842, 41.033501029], [-72.312949151, 41.0409455], [-72.299044579, 41.002990901], [-72.315428853, 41.009245813], [-72.326471508, 40.990002304], [-72.260186076, 41.013093442], [-72.250649482, 40.995419025], [-72.239074409, 41.035295427], [-72.262070328, 41.04073897], [-72.241056561, 41.044608057], [-72.187446224, 41.031437725], [-72.187712789, 41.034659743], [-72.160658687, 41.053826809], [-72.144299987, 41.039861752], [-72.154818177, 41.020659953], [-72.096174359, 40.991229415], [-72.05872938, 41.012822539], [-72.063660622, 40.998675227], [-72.041480094, 41.001569331], [-72.055592537, 41.022166014], [-72.021472156, 41.021735519], [-71.992730945, 41.047583967], [-71.962446123, 41.043438613], [-71.960252076, 41.070199013], [-71.939042509, 41.07905969], [-71.85618639, 41.070840061], [-71.902607381, 41.04033798], [-72.474651486, 40.83819598], [-72.42730689, 40.864188163], [-72.435708493, 40.884945542], [-72.496958077, 40.881979018], [-72.501655966, 40.846081674], [-72.52684325, 40.862123966], [-72.519802451, 40.845987797], [-72.537134886, 40.851578861], [-72.540525198, 40.866533518], [-72.550999224, 40.838838369], [-72.577487379, 40.847648084], [-72.573987097, 40.83029151], [-72.595157772, 40.822329372], [-72.477723956, 40.83962962], [-72.753137201, 40.763130337], [-72.635115346, 40.799510551], [-72.6640369, 40.810213834], [-72.693207264, 40.797024071], [-72.728324085, 40.824504644]], [[-73.649538159, 40.800657123], [-73.649851978, 40.82780242], [-73.651713696, 40.829922365], [-73.649538159, 40.800657123]], [[-72.477557659, 40.897928774], [-72.458001673, 40.896841139], [-72.475884164, 40.90020966], [-72.477557659, 40.897928774]], [[-72.187281268, 41.029443867], [-72.184561193, 41.030728966], [-72.187446224, 41.031437725], [-72.187281268, 41.029443867]], [[-72.208121717, 41.019597799], [-72.184529006, 40.996176749], [-72.187281268, 41.029443867], [-72.208121717, 41.019597799]], [[-72.425977439, 40.860903561], [-72.425328941, 40.865274056], [-72.42730689, 40.864188163], [-72.425977439, 40.860903561]], [[-72.412960678, 40.872064233], [-72.422935814, 40.881402344], [-72.425328941, 40.865274056], [-72.412960678, 40.872064233]], [[-72.634292543, 40.799206048], [-72.633999991, 40.799854359], [-72.635115346, 40.799510551], [-72.634292543, 40.799206048]], [[-72.609567503, 40.807385669], [-72.62361601, 40.822865814], [-72.633999991, 40.799854359], [-72.609567503, 40.807385669]], [[-72.60870561, 40.806435943], [-72.587893009, 40.814066827], [-72.609567503, 40.807385669], [-72.60870561, 40.806435943]]], [[[-73.573573977, 40.609093755], [-73.585980535, 40.604920238], [-73.594094217, 40.616318285], [-73.573573977, 40.609093755]]], [[[-73.754999936, 40.582796037], [-73.739896417, 40.585353523], [-73.575122952, 40.593390763], [-73.754999936, 40.582796037]]], [[[-73.483989537, 40.614069253], [-73.495830148, 40.622184277], [-73.48723954, 40.623045999], [-73.470294178, 40.624745786], [-73.483989537, 40.614069253]]], [[[-73.432358181, 40.924524402], [-73.431482613, 40.924779028], [-73.435751349, 40.91365993], [-73.432358181, 40.924524402]]], [[[-73.12455073, 40.653560758], [-72.900472283, 40.724452883], [-73.088260442, 40.658162087], [-73.249557763, 40.623207539], [-73.316877186, 40.626343042], [-73.12455073, 40.653560758]]], [[[-73.250676244, 40.640616417], [-73.575758636, 40.57447046], [-73.5004583, 40.613593161], [-73.492902517, 40.598780662], [-73.362737393, 40.635418877], [-73.322393149, 40.646774769], [-73.268001974, 40.64207688], [-73.250676244, 40.640616417]]], [[[-73.115514368, 40.974379778], [-73.089983761, 40.966386795], [-73.117378778, 40.972184654], [-73.115514368, 40.974379778]]], [[[-72.450577008, 41.014752146], [-72.448261231, 41.014057696], [-72.449766736, 41.013259064], [-72.450577008, 41.014752146]]], [[[-72.45998919, 41.007836312], [-72.449766736, 41.013259064], [-72.431388795, 40.979394168], [-72.45998919, 41.007836312]]], [[[-72.339139581, 41.046901345], [-72.354882807, 41.042231619], [-72.384561449, 41.069169044], [-72.34285444, 41.084004343], [-72.334483266, 41.107363701], [-72.276536822, 41.076930016], [-72.32324481, 41.089001298], [-72.311016619, 41.070418954], [-72.282662988, 41.069193184], [-72.270174623, 41.025933176], [-72.309946418, 41.054068208], [-72.342245672, 41.049300029], [-72.339139581, 41.046901345]], [[-72.350490689, 41.048082858], [-72.342245672, 41.049300029], [-72.364513278, 41.066496223], [-72.350490689, 41.048082858]]], [[[-72.259211093, 41.135910451], [-72.306283861, 41.110186726], [-72.267983253, 41.1365112], [-72.259211093, 41.135910451]]], [[[-72.212348878, 41.173964292], [-72.17206344, 41.186750382], [-72.198048681, 41.16464898], [-72.212348878, 41.173964292]]], [[[-72.143084854, 41.042080075], [-72.134949714, 41.031879634], [-72.144299987, 41.039861752], [-72.143084854, 41.042080075]]], [[[-72.130576372, 41.124500334], [-72.077469975, 41.099486053], [-72.099449337, 41.043520421], [-72.106361389, 41.089977622], [-72.142832726, 41.096350551], [-72.130576372, 41.124500334]]], [[[-72.038254738, 41.249514073], [-72.027700245, 41.263151765], [-71.921813339, 41.292249709], [-72.038254738, 41.249514073]]]]}\",\"{\\\"type\\\": \\\"MultiPolygon\\\", \\\"coordinates\\\": [[[[-73.264812827, 42.745851427], [-73.290887922, 42.801955193], [-73.241486996, 43.532800823], [-73.258734941, 43.565026224], [-73.297330588, 43.579355925], [-73.306081295, 43.628079593], [-73.371890634, 43.624568582], [-73.396195471, 43.567882776], [-73.431332409, 43.587917536], [-73.426764607, 43.642056584], [-73.350592554, 43.771938533], [-73.392491341, 43.820778877], [-73.372247368, 43.845337182], [-73.374051154, 43.875562996], [-73.408111185, 43.930445015], [-73.407648504, 44.021110386], [-73.437740207, 44.045006186], [-73.390582949, 44.19088617], [-73.313280344, 44.264138639], [-73.334939182, 44.364441186], [-73.293382376, 44.437484443], [-73.306707591, 44.500333965], [-73.374389112, 44.575454593], [-73.39023158, 44.618352503], [-73.361278474, 44.69497785], [-73.365618289, 44.741806537], [-73.333341926, 44.78726998], [-73.381588161, 44.849223644], [-73.338714391, 44.919040203], [-73.338187337, 44.964798689], [-73.354762048, 44.986795485], [-73.343166858, 45.010724813], [-71.501019001, 45.013445914], [-71.465385854, 45.013224632], [-71.541547179, 44.98427555], [-71.517938375, 44.967719615], [-71.522781104, 44.939901084], [-71.495000124, 44.904694408], [-71.549965292, 44.862133116], [-71.551236659, 44.83745411], [-71.577237993, 44.815238714], [-71.573272347, 44.790901691], [-71.632812023, 44.75102663], [-71.581821889, 44.673497379], [-71.588280648, 44.660377353], [-71.546992064, 44.629668742], [-71.562656164, 44.601376802], [-71.535065621, 44.588342607], [-71.559869349, 44.563951939], [-71.597318351, 44.559295624], [-71.571844071, 44.537589848], [-71.594197601, 44.521075487], [-71.57683298, 44.502403289], [-71.645140797, 44.475557059], [-71.662200987, 44.439776391], [-71.704047471, 44.413585961], [-71.795426309, 44.398434162], [-71.815446317, 44.354298413], [-72.032795101, 44.320483804], [-72.068453729, 44.271235764], [-72.047878504, 44.238921851], [-72.066179216, 44.190062732], [-72.033265829, 44.131913781], [-72.055508047, 44.110855758], [-72.031264901, 44.100254327], [-72.045279443, 44.087276459], [-72.031645775, 44.078772515], [-72.05269441, 44.076748788], [-72.090488076, 44.009973854], [-72.11688906, 43.994376808], [-72.114111632, 43.967546672], [-72.091218978, 43.965509534], [-72.184899151, 43.864097893], [-72.18348965, 43.808676749], [-72.205471694, 43.770982325], [-72.299668193, 43.706374615], [-72.328324914, 43.601295054], [-72.380346358, 43.573625386], [-72.399119139, 43.512135744], [-72.382026762, 43.478626907], [-72.416171283, 43.376780748], [-72.390015721, 43.356240392], [-72.410539985, 43.33127439], [-72.395445853, 43.312929422], [-72.438907027, 43.251875639], [-72.457391471, 43.147467971], [-72.432704419, 43.118419647], [-72.435683012, 43.081169128], [-72.468015701, 43.052009493], [-72.443469465, 43.007158935], [-72.473360002, 42.972294241], [-72.532272041, 42.954786122], [-72.524570078, 42.915379107], [-72.55723536, 42.853898853], [-72.541720122, 42.807455063], [-72.508959621, 42.780056298], [-72.5153929, 42.765612602], [-72.490421534, 42.772346288], [-72.45844692, 42.726960629], [-73.264812827, 42.745851427]]]]}\"]\n",
       "},\n",
       "\"map_data_meta\":{\n",
       "\"geodataframe\":{\n",
       "\"geometry\":\"geometry\"\n",
       "}\n",
       "},\n",
       "\"data\":{\n",
       "}\n",
       "},{\n",
       "\"geom\":\"point\",\n",
       "\"data\":{\n",
       "\"City_Name\":[\"boston\",\"new york\",\"worcester\",\"worcester\"],\n",
       "\"State_Name\":[\"massachusetts\",\"new york\",\"vermont\",\"massachusetts\"],\n",
       "\"mean\":[523.0,556.0,600.0,533.0]\n",
       "},\n",
       "\"mapping\":{\n",
       "\"size\":\"mean\",\n",
       "\"color\":\"City_Name\"\n",
       "},\n",
       "\"data_meta\":{\n",
       "\"series_annotations\":[{\n",
       "\"type\":\"str\",\n",
       "\"column\":\"City_Name\"\n",
       "},{\n",
       "\"type\":\"str\",\n",
       "\"column\":\"State_Name\"\n",
       "},{\n",
       "\"type\":\"int\",\n",
       "\"column\":\"mean\"\n",
       "}]\n",
       "},\n",
       "\"map\":{\n",
       "\"city\":[\"boston\",\"new york\",\"worcester\",\"worcester\"],\n",
       "\"found name\":[\"Boston\",\"New York\",\"Worcester\",\"Worcester\"],\n",
       "\"state\":[\"massachusetts\",\"new york\",\"vermont\",\"massachusetts\"],\n",
       "\"geometry\":[\"{\\\"type\\\": \\\"Point\\\", \\\"coordinates\\\": [-71.0884755326693, 42.3110405355692]}\",\"{\\\"type\\\": \\\"Point\\\", \\\"coordinates\\\": [-73.8673749469137, 40.6847005337477]}\",\"{\\\"type\\\": \\\"Point\\\", \\\"coordinates\\\": [-72.5724501055639, 44.4132962822914]}\",\"{\\\"type\\\": \\\"Point\\\", \\\"coordinates\\\": [-71.8154652712922, 42.2678737342358]}\"]\n",
       "},\n",
       "\"map_join\":[[\"State_Name\",\"City_Name\"],[\"city\",\"state\"]],\n",
       "\"map_data_meta\":{\n",
       "\"geodataframe\":{\n",
       "\"geometry\":\"geometry\"\n",
       "}\n",
       "}\n",
       "}],\n",
       "\"metainfo_list\":[],\n",
       "\"spec_id\":\"9\"\n",
       "};\n",
       "               window.letsPlotCall(function() {\n",
       "       \n",
       "               var toolbar = null;\n",
       "               var plotContainer = containerDiv;               \n",
       "               \n",
       "                   var options = {\n",
       "                       sizing: {\n",
       "                           width_mode: \"min\",\n",
       "                           height_mode: \"scaled\",\n",
       "                           width: width\n",
       "                       }\n",
       "                   };\n",
       "                   var fig = LetsPlot.buildPlotFromProcessedSpecs(plotSpec, -1, -1, plotContainer, options);\n",
       "                   if (toolbar) {\n",
       "                     toolbar.bind(fig);\n",
       "                   }\n",
       "               });\n",
       "               \n",
       "               break;\n",
       "           }\n",
       "       }\n",
       "   });\n",
       "   \n",
       "   observer.observe(containerDiv);\n",
       "   \n",
       "   // ----------\n",
       "   })();\n",
       "   \n",
       "   </script>"
      ],
      "text/plain": [
       "<lets_plot.plot.core.PlotSpec at 0x12441ebc0>"
      ]
     },
     "execution_count": 46,
     "metadata": {},
     "output_type": "execute_result"
    }
   ],
   "source": [
    "# Not following the order leads to an unexpected result: \n",
    "draw_plot(map=geocoder, map_join=[['State_Name', 'City_Name']])"
   ]
  },
  {
   "cell_type": "code",
   "execution_count": 47,
   "metadata": {
    "execution": {
     "iopub.execute_input": "2024-11-07T09:09:11.641564Z",
     "iopub.status.busy": "2024-11-07T09:09:11.641367Z",
     "iopub.status.idle": "2024-11-07T09:09:11.644001Z",
     "shell.execute_reply": "2024-11-07T09:09:11.643638Z"
    }
   },
   "outputs": [],
   "source": [
    "us48 = geocode_states('us-48').inc_res()\n",
    "p = ggplot() + \\\n",
    "    theme_void() + theme(legend_position='none') + \\\n",
    "    ggsize(600, 300)"
   ]
  },
  {
   "cell_type": "code",
   "execution_count": 48,
   "metadata": {
    "execution": {
     "iopub.execute_input": "2024-11-07T09:09:11.645603Z",
     "iopub.status.busy": "2024-11-07T09:09:11.645448Z",
     "iopub.status.idle": "2024-11-07T09:09:12.282468Z",
     "shell.execute_reply": "2024-11-07T09:09:12.282238Z"
    }
   },
   "outputs": [
    {
     "data": {
      "text/html": [
       "   <div id=\"ZYT2ul\"></div>\n",
       "   <script type=\"text/javascript\" data-lets-plot-script=\"plot\">\n",
       "   \n",
       "   (function() {\n",
       "   // ----------\n",
       "   \n",
       "   var containerDiv = document.getElementById(\"ZYT2ul\");\n",
       "   var observer = new ResizeObserver(function(entries) {\n",
       "       for (let entry of entries) {\n",
       "           var width = containerDiv.clientWidth\n",
       "           if (entry.contentBoxSize && width > 0) {\n",
       "           \n",
       "               // Render plot\n",
       "               if (observer) {\n",
       "                   observer.disconnect();\n",
       "                   observer = null;\n",
       "               }\n",
       "\n",
       "               var plotSpec={\n",
       "\"mapping\":{\n",
       "},\n",
       "\"data_meta\":{\n",
       "},\n",
       "\"theme\":{\n",
       "\"name\":\"classic\",\n",
       "\"line\":\"blank\",\n",
       "\"axis\":\"blank\",\n",
       "\"legend_position\":\"none\"\n",
       "},\n",
       "\"ggsize\":{\n",
       "\"width\":600.0,\n",
       "\"height\":300.0\n",
       "},\n",
       "\"kind\":\"plot\",\n",
       "\"scales\":[],\n",
       "\"layers\":[{\n",
       "\"geom\":\"map\",\n",
       "\"data\":{\n",
       "\"found name\":[\"Vermont\",\"Massachusetts\",\"New York\",\"Maine\",\"New Hampshire\",\"Texas\",\"Illinois\",\"Missouri\",\"Kansas\",\"Oklahoma\",\"Arkansas\",\"Nebraska\",\"Iowa\",\"South Dakota\",\"North Dakota\",\"Kentucky\",\"Indiana\",\"Tennessee\",\"Mississippi\",\"Alabama\",\"Georgia\",\"Colorado\",\"Wyoming\",\"Utah\",\"New Mexico\",\"Arizona\",\"Florida\",\"Ohio\",\"West Virginia\",\"Washington, D.C.\",\"Pennsylvania\",\"Delaware\",\"Maryland\",\"Montana\",\"Idaho\",\"Wisconsin\",\"Minnesota\",\"Nevada\",\"California\",\"Oregon\",\"Washington\",\"Michigan\",\"Connecticut\",\"South Carolina\",\"Virginia\",\"North Carolina\",\"Louisiana\",\"New Jersey\",\"Rhode Island\"]\n",
       "},\n",
       "\"mapping\":{\n",
       "\"fill\":\"found name\"\n",
       "},\n",
       "\"tooltips\":{\n",
       "\"formats\":[],\n",
       "\"lines\":[\"@{found name}\"]\n",
       "},\n",
       "\"data_meta\":{\n",
       "\"series_annotations\":[{\n",
       "\"type\":\"str\",\n",
       "\"column\":\"id\"\n",
       "},{\n",
       "\"type\":\"str\",\n",
       "\"column\":\"state\"\n",
       "},{\n",
       "\"type\":\"str\",\n",
       "\"column\":\"found name\"\n",
       "},{\n",
       "\"type\":\"unknown(pandas:mixed)\",\n",
       "\"column\":\"centroid\"\n",
       "},{\n",
       "\"type\":\"unknown(pandas:mixed)\",\n",
       "\"column\":\"position\"\n",
       "},{\n",
       "\"type\":\"unknown(pandas:mixed)\",\n",
       "\"column\":\"limit\"\n",
       "}]\n",
       "},\n",
       "\"map\":{\n",
       "\"state\":[\"Vermont\",\"Massachusetts\",\"New York\",\"Maine\",\"New Hampshire\",\"Texas\",\"Illinois\",\"Missouri\",\"Kansas\",\"Oklahoma\",\"Arkansas\",\"Nebraska\",\"Iowa\",\"South Dakota\",\"North Dakota\",\"Kentucky\",\"Indiana\",\"Tennessee\",\"Mississippi\",\"Alabama\",\"Georgia\",\"Colorado\",\"Wyoming\",\"Utah\",\"New Mexico\",\"Arizona\",\"Florida\",\"Ohio\",\"West Virginia\",\"Washington, D.C.\",\"Pennsylvania\",\"Delaware\",\"Maryland\",\"Montana\",\"Idaho\",\"Wisconsin\",\"Minnesota\",\"Nevada\",\"California\",\"Oregon\",\"Washington\",\"Michigan\",\"Connecticut\",\"South Carolina\",\"Virginia\",\"North Carolina\",\"Louisiana\",\"New Jersey\",\"Rhode Island\"],\n",
       "\"found name\":[\"Vermont\",\"Massachusetts\",\"New York\",\"Maine\",\"New Hampshire\",\"Texas\",\"Illinois\",\"Missouri\",\"Kansas\",\"Oklahoma\",\"Arkansas\",\"Nebraska\",\"Iowa\",\"South Dakota\",\"North Dakota\",\"Kentucky\",\"Indiana\",\"Tennessee\",\"Mississippi\",\"Alabama\",\"Georgia\",\"Colorado\",\"Wyoming\",\"Utah\",\"New Mexico\",\"Arizona\",\"Florida\",\"Ohio\",\"West Virginia\",\"Washington, D.C.\",\"Pennsylvania\",\"Delaware\",\"Maryland\",\"Montana\",\"Idaho\",\"Wisconsin\",\"Minnesota\",\"Nevada\",\"California\",\"Oregon\",\"Washington\",\"Michigan\",\"Connecticut\",\"South Carolina\",\"Virginia\",\"North Carolina\",\"Louisiana\",\"New Jersey\",\"Rhode Island\"],\n",
       "\"geometry\":[\"{\\\"type\\\": \\\"MultiPolygon\\\", \\\"coordinates\\\": [[[[-73.264812827, 42.745851427], [-73.241486996, 43.532800823], [-73.306081295, 43.628079593], [-73.431332409, 43.587917536], [-73.350592554, 43.771938533], [-73.437740207, 44.045006186], [-73.293382376, 44.437484443], [-73.39023158, 44.618352503], [-73.343166858, 45.010724813], [-71.501019001, 45.013445914], [-71.495000124, 44.904694408], [-71.632812023, 44.75102663], [-71.535065621, 44.588342607], [-71.57683298, 44.502403289], [-71.815446317, 44.354298413], [-72.032795101, 44.320483804], [-72.031645775, 44.078772515], [-72.380346358, 43.573625386], [-72.443469465, 43.007158935], [-72.55723536, 42.853898853], [-72.45844692, 42.726960629], [-73.264812827, 42.745851427]]]]}\",\"{\\\"type\\\": \\\"MultiPolygon\\\", \\\"coordinates\\\": [[[[-70.590709448, 42.640413791], [-70.664619058, 42.579921931], [-70.680081993, 42.660752982], [-70.590709448, 42.640413791]]], [[[-70.775981694, 41.301322281], [-70.838218331, 41.346108466], [-70.587675869, 41.459245384], [-70.524307723, 41.370967552], [-70.564388931, 41.382047385], [-70.775981694, 41.301322281]]], [[[-70.509057641, 41.349722743], [-70.524307723, 41.370967552], [-70.497652849, 41.363599222], [-70.509057641, 41.349722743]]], [[[-70.452117026, 41.351011544], [-70.497652849, 41.363599222], [-70.450901985, 41.420482099], [-70.452117026, 41.351011544]]], [[[-70.005733073, 41.799635142], [-70.054313242, 41.994095296], [-70.244920403, 42.061484456], [-70.05968973, 42.040678561], [-69.944784496, 41.738651664], [-69.964077026, 41.653155684], [-70.266269445, 41.609372646], [-70.260423571, 41.655648798], [-70.655617565, 41.515067518], [-70.613299012, 41.676493585], [-70.66116035, 41.682598293], [-70.54360047, 41.775182784], [-70.624970645, 41.765300184], [-70.673997402, 41.692212671], [-70.745884627, 41.738547832], [-70.715554208, 41.676488221], [-70.761378407, 41.721443385], [-70.764547437, 41.641313732], [-70.867828578, 41.639167964], [-70.852345526, 41.581952423], [-70.930094719, 41.613078117], [-70.953369588, 41.514277607], [-71.120329052, 41.496714503], [-71.132558584, 41.660366803], [-71.196589619, 41.676403731], [-71.157300621, 41.711516529], [-71.225592345, 41.711642593], [-71.340480745, 41.797033399], [-71.381326765, 42.018935233], [-71.799188107, 42.008053511], [-73.48735705, 42.049532533], [-73.264812827, 42.745851427], [-72.45844692, 42.726960629], [-71.294871122, 42.697243094], [-71.031196564, 42.859296799], [-70.816150457, 42.872041315], [-70.803633928, 42.818905413], [-70.913219601, 42.834100127], [-70.814177692, 42.792761922], [-70.867689103, 42.75584802], [-70.823812187, 42.681557536], [-70.672908425, 42.609548271], [-70.888870507, 42.540080398], [-70.835538805, 42.490588278], [-70.93372643, 42.459020019], [-70.905513614, 42.416313887], [-70.967291594, 42.445076555], [-70.953240842, 42.344158441], [-71.05831638, 42.381489426], [-71.041788608, 42.279054523], [-70.955394655, 42.280032188], [-70.974306911, 42.222064286], [-70.858196765, 42.264563888], [-70.919422209, 42.306226641], [-70.767381191, 42.254016101], [-70.59916243, 42.004526407], [-70.656681061, 42.060349882], [-70.729250908, 41.989438981], [-70.539216399, 41.926655173], [-70.489202589, 41.779796183], [-70.542153418, 41.775121093], [-70.273253208, 41.723829458], [-70.005733073, 41.799635142]], [[-70.351747423, 41.701586992], [-70.272541791, 41.723693758], [-70.273253208, 41.723829458], [-70.351747423, 41.701586992]]], [[[-70.050631911, 41.392463744], [-70.020074704, 41.349530731], [-70.092486441, 41.295796931], [-70.050631911, 41.392463744]]], [[[-70.013150722, 41.354668736], [-70.011452058, 41.337415875], [-70.020074704, 41.349530731], [-70.013150722, 41.354668736]]], [[[-69.960858375, 41.266331524], [-70.236177742, 41.28494069], [-70.095821768, 41.291693151], [-70.008452833, 41.306953579], [-70.011452058, 41.337415875], [-69.960858375, 41.266331524]]], [[[-69.935987592, 41.777635664], [-69.931948185, 41.70491159], [-69.944784496, 41.738651664], [-69.935987592, 41.777635664]]]]}\",\"{\\\"type\\\": \\\"MultiPolygon\\\", \\\"coordinates\\\": [[[[-74.194627404, 40.637400448], [-74.071540833, 40.645186901], [-74.0733473, 40.578297973], [-74.217251837, 40.503626615], [-74.194627404, 40.637400448]]], [[[-72.874225527, 40.737068653], [-73.224788904, 40.727855265], [-73.940636963, 40.541901737], [-73.738676012, 40.632466525], [-73.879341781, 40.654625595], [-73.879745454, 40.580162108], [-73.992960155, 40.570219159], [-74.041745514, 40.620726496], [-73.913374851, 40.786202938], [-73.934994936, 40.7829988], [-73.934532291, 40.831626658], [-73.934054822, 40.881812721], [-73.89403224, 40.996702462], [-74.695482999, 41.3577573], [-74.738456011, 41.430642307], [-74.983340353, 41.480893493], [-75.074613243, 41.60571143], [-75.071971267, 41.813711375], [-75.258922577, 41.862668395], [-75.359546989, 41.99950397], [-79.761800319, 41.998841465], [-79.761840552, 42.514689267], [-78.935380876, 42.828303874], [-78.909410387, 42.933575213], [-79.074111432, 43.077860624], [-79.05594483, 43.254666477], [-79.2006661, 43.450471759], [-78.690389246, 43.631138653], [-76.796694696, 43.631138653], [-76.312722266, 44.199056178], [-75.912833065, 44.367806017], [-75.284860879, 44.848304987], [-74.97255519, 44.983472228], [-74.668497294, 45.004278123], [-73.343166858, 45.010724813], [-73.39023158, 44.618352503], [-73.293382376, 44.437484443], [-73.437740207, 44.045006186], [-73.350592554, 43.771938533], [-73.431332409, 43.587917536], [-73.306081295, 43.628079593], [-73.241486996, 43.532800823], [-73.264812827, 42.745851427], [-73.48735705, 42.049532533], [-73.550961614, 41.295421422], [-73.482695371, 41.212771833], [-73.727775514, 41.100695729], [-73.659686297, 40.988233387], [-73.800396323, 40.848244876], [-73.826887161, 40.889577717], [-73.790823519, 40.804365277], [-73.896548749, 40.788696598], [-73.753186762, 40.764545202], [-73.753613234, 40.838131607], [-73.709340692, 40.793432593], [-73.730387986, 40.865990371], [-73.649538159, 40.800657123], [-73.633345664, 40.902882814], [-73.462660611, 40.859302282], [-73.484788835, 40.947917104], [-73.354247063, 40.890772641], [-73.400275111, 40.955762565], [-73.169122338, 40.893308669], [-73.12455073, 40.97370252], [-72.635242045, 40.982036144], [-72.233097106, 41.160488874], [-72.434324473, 41.05551526], [-72.383370548, 41.049717665], [-72.431388795, 40.979394168], [-72.474624664, 41.021963507], [-72.650648654, 40.916554034], [-72.458001673, 40.896841139], [-72.312949151, 41.0409455], [-72.326471508, 40.990002304], [-72.27023332, 41.025955363], [-72.384561449, 41.069169044], [-72.311016619, 41.070418954], [-72.270209168, 41.025970803], [-72.241056561, 41.044608057], [-72.184529006, 40.996176749], [-72.160658687, 41.053826809], [-72.096889651, 40.991923776], [-72.874225527, 40.737068653]]], [[[-72.900472283, 40.724452883], [-73.12455073, 40.653560758], [-73.316877186, 40.626343042], [-72.900472283, 40.724452883]]], [[[-72.096174359, 40.991229415], [-72.096889651, 40.991923776], [-71.85618639, 41.070840061], [-72.096174359, 40.991229415]]]]}\",\"{\\\"type\\\": \\\"MultiPolygon\\\", \\\"coordinates\\\": [[[[-70.22374168, 43.652210087], [-70.196633935, 43.565608263], [-70.369471461, 43.561322093], [-70.33367604, 43.44716996], [-70.559923053, 43.315356821], [-70.592033118, 43.165578246], [-70.704286247, 43.065270334], [-70.827080458, 43.12739566], [-70.809821784, 43.225882351], [-70.988427401, 43.389554769], [-70.950639099, 43.551317453], [-71.084168851, 45.305474102], [-70.952378511, 45.339115709], [-70.857539624, 45.229139775], [-70.798105896, 45.426507443], [-70.634888113, 45.383419096], [-70.72256282, 45.513675213], [-70.258804858, 45.891167969], [-70.317997187, 46.019081175], [-70.236282349, 46.145240217], [-70.292693228, 46.191474795], [-70.191185027, 46.350225359], [-70.056503266, 46.415581405], [-69.997123182, 46.695522219], [-69.22446996, 47.459839135], [-69.043215662, 47.426783592], [-69.050960541, 47.300088108], [-68.90003264, 47.177741826], [-68.234470636, 47.35530138], [-67.790198922, 47.067225426], [-67.750628293, 45.917636007], [-67.81811133, 45.693722516], [-67.450019717, 45.602465719], [-67.416222543, 45.501306206], [-67.503721565, 45.486694872], [-67.419249415, 45.377110541], [-67.489055246, 45.280583203], [-67.353444099, 45.12916714], [-67.280433029, 45.191354156], [-67.163300961, 45.158534646], [-67.04011783, 44.960906804], [-67.175688744, 44.947620481], [-67.13202104, 44.88157779], [-67.225644886, 44.933534861], [-67.1495305, 44.862772822], [-67.172841579, 44.791497141], [-67.10422799, 44.894279391], [-67.072131336, 44.817648679], [-67.023928016, 44.850053787], [-67.062460631, 44.90662694], [-66.949856132, 44.818002731], [-67.191387713, 44.643581361], [-67.28220731, 44.623778611], [-67.296121269, 44.707619101], [-67.392126918, 44.734714776], [-67.405622452, 44.594436586], [-67.428709567, 44.666640311], [-67.458435148, 44.596052617], [-67.571392357, 44.66226697], [-67.565121353, 44.531829804], [-67.657548934, 44.571423233], [-67.715634853, 44.496892691], [-67.718535662, 44.651162624], [-67.78320238, 44.520855546], [-67.792059034, 44.612137824], [-67.857266217, 44.526616931], [-67.925111353, 44.59442988], [-67.849738598, 44.49549526], [-67.894343734, 44.398900867], [-67.900303602, 44.48868379], [-67.937672138, 44.410049468], [-67.992390543, 44.505761415], [-68.036203086, 44.482801706], [-67.959410101, 44.399277717], [-68.024983406, 44.409643114], [-68.060344309, 44.33167398], [-68.095542938, 44.467490315], [-68.193624616, 44.472371936], [-68.244331777, 44.589442313], [-68.275496364, 44.51092869], [-68.323191404, 44.534280002], [-68.280934542, 44.452558458], [-68.357276917, 44.494273514], [-68.427930325, 44.396763146], [-68.42309162, 44.497755021], [-68.50562185, 44.494563192], [-68.489785105, 44.452467581], [-68.587413132, 44.413449168], [-68.526237309, 44.227924794], [-68.754526824, 44.351719469], [-68.827170432, 44.311526567], [-68.759431243, 44.424723834], [-68.659999073, 44.369737208], [-68.727258146, 44.470691532], [-68.810147792, 44.381200969], [-68.778067231, 44.492074102], [-69.044273794, 44.450690299], [-68.947979808, 44.354191124], [-69.108387977, 44.109848589], [-69.043776244, 44.092604667], [-69.07678619, 44.043006599], [-69.261165261, 43.917216361], [-69.169904441, 44.081147611], [-69.307241589, 43.953620642], [-69.283734709, 44.016904682], [-69.367703944, 43.965300322], [-69.377421588, 44.094609618], [-69.514652789, 43.831758499], [-69.507728666, 43.920728713], [-69.571711855, 43.89154898], [-69.596563429, 43.813042045], [-69.590304494, 43.861831427], [-69.66435492, 43.853288591], [-69.645209312, 44.011296183], [-69.760769606, 43.888056725], [-69.809280038, 44.000606239], [-69.786991768, 43.818844325], [-69.777864665, 43.744412363], [-69.834465981, 43.700994104], [-69.86509949, 43.91784668], [-70.025393665, 43.730727732], [-69.947109371, 43.865499347], [-70.153359175, 43.816992939], [-70.26969865, 43.718393594], [-70.254846134, 43.654469469], [-70.22374168, 43.652210087]], [[-70.311144143, 43.658558875], [-70.253813267, 43.650024086], [-70.254846134, 43.654469469], [-70.311144143, 43.658558875]], [[-69.516425729, 44.06619966], [-69.580830932, 43.887390196], [-69.571711855, 43.89154898], [-69.516425729, 44.06619966]]], [[[-69.948343188, 43.813874871], [-69.885955006, 43.851305097], [-69.894857258, 43.774878234], [-69.948343188, 43.813874871]]], [[[-69.75060001, 43.788156509], [-69.707274288, 43.828653842], [-69.752480239, 43.767942041], [-69.755606353, 43.882318139], [-69.75060001, 43.788156509]]], [[[-68.896163553, 44.156414419], [-68.806876838, 44.158118963], [-68.942529559, 44.109711796], [-68.896163553, 44.156414419]]], [[[-68.828330487, 44.03188616], [-68.909736872, 44.111854881], [-68.83518219, 44.09422338], [-68.775579482, 44.06422019], [-68.828330487, 44.03188616]]], [[[-68.741421551, 44.307771474], [-68.677167892, 44.27606374], [-68.679762081, 44.26637693], [-68.741421551, 44.307771474]]], [[[-68.708935976, 44.157440364], [-68.679762081, 44.26637693], [-68.59644413, 44.210442156], [-68.708935976, 44.157440364]]], [[[-68.481225818, 44.45588842], [-68.462949246, 44.381135255], [-68.489785105, 44.452467581], [-68.481225818, 44.45588842]]], [[[-68.367190361, 44.416917264], [-68.24947089, 44.433707893], [-68.173483908, 44.328555912], [-68.294485062, 44.287133217], [-68.329049349, 44.368897676], [-68.290731311, 44.246985912], [-68.364612758, 44.226815701], [-68.431485593, 44.303057492], [-68.367190361, 44.416917264]]]]}\",\"{\\\"type\\\": \\\"MultiPolygon\\\", \\\"coordinates\\\": [[[[-70.816150457, 42.872041315], [-71.031196564, 42.859296799], [-71.294871122, 42.697243094], [-72.45844692, 42.726960629], [-72.55723536, 42.853898853], [-72.443469465, 43.007158935], [-72.380346358, 43.573625386], [-72.031645775, 44.078772515], [-72.032795101, 44.320483804], [-71.815446317, 44.354298413], [-71.57683298, 44.502403289], [-71.535065621, 44.588342607], [-71.632812023, 44.75102663], [-71.495000124, 44.904694408], [-71.501019001, 45.013445914], [-71.397347599, 45.203521997], [-71.442824453, 45.238292813], [-71.284230798, 45.302361399], [-71.147568226, 45.239438117], [-71.084168851, 45.305474102], [-70.950639099, 43.551317453], [-70.988427401, 43.389554769], [-70.809821784, 43.225882351], [-70.827080458, 43.12739566], [-70.704286247, 43.065270334], [-70.816150457, 42.872041315]]]]}\",\"{\\\"type\\\": \\\"MultiPolygon\\\", \\\"coordinates\\\": [[[[-96.444758177, 28.769389987], [-96.38256982, 28.619964123], [-96.488416493, 28.570093811], [-96.434812546, 28.603047431], [-96.468780041, 28.674520254], [-96.484301984, 28.607754707], [-96.585977823, 28.65729779], [-96.601722389, 28.764093965], [-96.664429754, 28.723453134], [-96.639440954, 28.5723643], [-96.486541629, 28.511425853], [-96.561701149, 28.481521904], [-96.488299817, 28.509687781], [-96.40244633, 28.442687541], [-96.67466104, 28.321603239], [-96.793504357, 28.466879725], [-96.764673293, 28.412272632], [-96.85967043, 28.413419276], [-96.776519269, 28.244397193], [-96.915964633, 28.094945848], [-96.388136744, 28.37376684], [-96.973534226, 27.942818999], [-97.195967138, 27.627906203], [-97.368013412, 27.181247324], [-97.368514985, 26.898275614], [-97.147470117, 25.955141187], [-97.285029888, 25.959089398], [-97.424409539, 25.840420425], [-97.662600428, 26.038150191], [-98.194919676, 26.053390503], [-98.444579691, 26.224440336], [-98.670099825, 26.236710101], [-98.805540651, 26.368079334], [-99.084530622, 26.397977918], [-99.268680364, 26.843319833], [-99.44582954, 27.021599561], [-99.441660047, 27.250229716], [-99.538069367, 27.316850424], [-99.511810541, 27.566549331], [-99.728146791, 27.679125667], [-99.843222946, 27.769863456], [-99.931380451, 27.980619371], [-100.293219835, 28.277910054], [-100.33389017, 28.499290198], [-100.500474125, 28.661954105], [-100.675419867, 29.10147965], [-101.059874296, 29.458580911], [-101.256804764, 29.522332996], [-101.248642802, 29.623351693], [-101.307423413, 29.580232501], [-101.40225023, 29.771770388], [-102.072900385, 29.786450118], [-102.315570563, 29.880029708], [-102.387640178, 29.761240035], [-102.67399013, 29.744630456], [-102.884150594, 29.347860664], [-102.867660373, 29.223439693], [-102.995750606, 29.179270416], [-103.115960509, 28.984610438], [-103.307631165, 29.003513306], [-103.783929795, 29.265452474], [-104.037709683, 29.319799393], [-104.508280456, 29.632489979], [-104.679969996, 29.92078051], [-104.706290513, 30.234910101], [-104.859479517, 30.390310585], [-104.922629446, 30.603660196], [-105.215010345, 30.805909485], [-105.399860144, 30.851989836], [-105.95396027, 31.36488989], [-106.206679344, 31.466259956], [-106.380589753, 31.73162967], [-106.527981162, 31.78384155], [-106.635750979, 31.866302043], [-106.618739069, 32.000660598], [-103.064631075, 32.000391036], [-103.002461493, 36.500439048], [-100.00043124, 36.499925405], [-100.000392348, 34.5605582], [-99.923210442, 34.574552625], [-99.696461856, 34.381036609], [-99.402959794, 34.373480827], [-99.35879454, 34.455863535], [-99.213134497, 34.340368956], [-99.177789688, 34.212069511], [-98.979299515, 34.220235497], [-98.757036924, 34.124633521], [-98.599788398, 34.160571098], [-98.486328274, 34.06259805], [-98.364023566, 34.157108366], [-98.109461814, 34.154110998], [-98.088202626, 34.005480409], [-97.947448343, 33.976621181], [-97.967669517, 33.88318643], [-97.846892327, 33.854983002], [-97.666288465, 33.992533386], [-97.591173202, 33.902561367], [-97.457230389, 33.902124166], [-97.4206236, 33.818582743], [-97.205381691, 33.915587515], [-97.134332657, 33.718701303], [-97.048158646, 33.820053935], [-97.088627815, 33.852955252], [-96.918897629, 33.958064318], [-96.867487729, 33.852742016], [-96.764061749, 33.825579286], [-96.667931378, 33.916157484], [-96.592057049, 33.897066861], [-96.620123684, 33.84311825], [-96.347439587, 33.68666634], [-96.092305183, 33.857659847], [-95.764517784, 33.84703964], [-95.592987835, 33.943575025], [-95.543549359, 33.880607486], [-95.289919674, 33.873695433], [-95.219710171, 33.963224888], [-94.956209958, 33.858229816], [-94.861452878, 33.742971271], [-94.485849738, 33.638024479], [-94.388095289, 33.54776144], [-94.043423384, 33.552223295], [-94.042964727, 33.019213378], [-94.041907936, 31.993854493], [-93.823443353, 31.775097549], [-93.834924549, 31.586211026], [-93.726736307, 31.511600018], [-93.600307703, 31.176157594], [-93.532545716, 31.183540374], [-93.507865369, 31.031927168], [-93.577826768, 30.999715179], [-93.554948866, 30.821975917], [-93.739660531, 30.540689975], [-93.699558824, 30.059584826], [-93.926740587, 29.812155068], [-93.839536607, 29.691074789], [-94.499109238, 29.506841898], [-94.468200803, 29.557758272], [-94.55345884, 29.574357122], [-94.780865908, 29.531762302], [-94.687014073, 29.645781666], [-94.711453021, 29.791393429], [-94.901109338, 29.657539129], [-94.923275113, 29.755603373], [-94.947905838, 29.699221998], [-95.016185492, 29.720892906], [-95.021674633, 29.551945925], [-94.909595847, 29.497180581], [-94.978770018, 29.451656789], [-94.809725136, 29.363865405], [-94.886060804, 29.389516711], [-94.899866134, 29.302009642], [-95.097489953, 29.174944013], [-95.210522264, 29.212921411], [-95.160489678, 29.104565531], [-95.260424763, 28.985727578], [-95.123414844, 29.070100486], [-95.383377224, 28.869433701], [-95.926296562, 28.700415641], [-95.961778164, 28.625304401], [-95.659372509, 28.758190423], [-96.313532442, 28.417307138], [-95.97169295, 28.65672648], [-96.17920205, 28.595328033], [-96.192054945, 28.606157685], [-96.235447973, 28.642719984], [-96.17326498, 28.762713969], [-96.362270862, 28.626853377], [-96.444758177, 28.769389987]]], [[[-95.122130066, 29.087875485], [-94.913643301, 29.240459651], [-94.721012414, 29.331186712], [-95.122130066, 29.087875485]]], [[[-94.499719441, 29.506764114], [-94.779029936, 29.359714687], [-94.559678882, 29.498172998], [-94.499719441, 29.506764114]]]]}\",\"{\\\"type\\\": \\\"MultiPolygon\\\", \\\"coordinates\\\": [[[[-89.133012146, 36.982000172], [-89.254781753, 37.071961462], [-89.307755381, 37.069779485], [-89.280270785, 36.988193393], [-89.378681034, 37.03955099], [-89.520710707, 37.283669561], [-89.420803785, 37.385696769], [-89.516884536, 37.536811084], [-89.51669544, 37.692556232], [-89.840704948, 37.904535234], [-89.948662519, 37.880284041], [-89.924648702, 37.959984541], [-90.350794047, 38.211554289], [-90.368434936, 38.339411169], [-90.10848999, 38.845356256], [-90.450344235, 38.967640847], [-90.549840778, 38.872297704], [-90.625953823, 38.890453577], [-90.730999857, 39.256180823], [-91.367854178, 39.72913608], [-91.511459649, 40.137393773], [-91.420409381, 40.378013402], [-91.372553408, 40.401199758], [-91.401482373, 40.559458137], [-91.123927385, 40.669152439], [-91.092993468, 40.821079463], [-90.95223248, 40.954047292], [-90.946626663, 41.096632183], [-91.113647819, 41.241400391], [-91.045889854, 41.414085031], [-90.461432487, 41.523533911], [-90.343227535, 41.587833166], [-90.310708433, 41.742214411], [-90.18095389, 41.809354126], [-90.162894577, 42.116717845], [-90.391107649, 42.225473374], [-90.419026762, 42.328505069], [-90.641045272, 42.507989109], [-87.019924968, 42.493499815], [-87.207773477, 41.760956347], [-87.523328662, 41.760350168], [-87.531375289, 39.347705841], [-87.645990103, 39.144899994], [-87.512186766, 38.954417557], [-87.553384155, 38.863344491], [-87.497077882, 38.743126541], [-87.843147218, 38.279324323], [-87.98638925, 38.259089738], [-87.914986163, 38.160290569], [-88.042580187, 38.043110222], [-88.010994494, 37.973186374], [-88.068840355, 37.924885154], [-88.014214486, 37.885648459], [-88.099701852, 37.90440917], [-88.025017083, 37.799896896], [-88.160187006, 37.657592297], [-88.072244078, 37.481963933], [-88.476592451, 37.3868756], [-88.515940458, 37.284192592], [-88.424617946, 37.151726335], [-88.460188061, 37.07447201], [-88.983260393, 37.228685617], [-89.175724983, 37.062069476], [-89.133012146, 36.982000172]]]]}\",\"{\\\"type\\\": \\\"MultiPolygon\\\", \\\"coordinates\\\": [[[[-95.30805409, 40.000000298], [-95.415329039, 40.040511042], [-95.393281281, 40.118686706], [-95.477435589, 40.242581964], [-95.656628609, 40.310891122], [-95.662296116, 40.556382984], [-95.75302586, 40.524999797], [-95.774144232, 40.573488772], [-95.766522735, 40.585193932], [-91.72925368, 40.613634735], [-91.420409381, 40.378013402], [-91.511459649, 40.137393773], [-91.367854178, 39.72913608], [-90.730999857, 39.256180823], [-90.625953823, 38.890453577], [-90.549840778, 38.872297704], [-90.450344235, 38.967640847], [-90.10848999, 38.845356256], [-90.368434936, 38.339411169], [-90.350794047, 38.211554289], [-89.924648702, 37.959984541], [-89.948662519, 37.880284041], [-89.840704948, 37.904535234], [-89.51669544, 37.692556232], [-89.516884536, 37.536811084], [-89.420803785, 37.385696769], [-89.520710707, 37.283669561], [-89.378681034, 37.03955099], [-89.280270785, 36.988193393], [-89.307755381, 37.069779485], [-89.254781753, 37.071961462], [-89.133012146, 36.982000172], [-89.179229289, 36.812915057], [-89.116563499, 36.767557561], [-89.201046377, 36.725771427], [-89.159080535, 36.666352451], [-89.23654139, 36.566823721], [-89.365547597, 36.625058502], [-89.417292774, 36.49903357], [-89.4851996, 36.497453749], [-89.528270513, 36.580993831], [-89.53912273, 36.498102844], [-89.513177723, 36.35989666], [-89.62025553, 36.323005557], [-89.534745365, 36.252576113], [-89.698567986, 36.250591278], [-89.592101723, 36.135637164], [-89.733094722, 36.000608057], [-90.377889723, 35.995683521], [-90.063980073, 36.303037852], [-90.152584165, 36.497936547], [-94.617855996, 36.499511003], [-94.617951214, 36.99859634], [-94.588205516, 39.149786979], [-94.826514423, 39.212210029], [-94.906181395, 39.313971698], [-94.883826524, 39.388120025], [-95.110517442, 39.544588029], [-94.962702245, 39.741906077], [-94.861859232, 39.742097855], [-94.935302138, 39.775609374], [-94.875943512, 39.813294411], [-94.929574281, 39.888754338], [-95.128311217, 39.873467088], [-95.30805409, 40.000000298]]]]}\",\"{\\\"type\\\": \\\"MultiPolygon\\\", \\\"coordinates\\\": [[[[-102.042127401, 36.993127316], [-102.051756531, 40.00306204], [-95.30805409, 40.000000298], [-95.128311217, 39.873467088], [-94.929574281, 39.888754338], [-94.875943512, 39.813294411], [-94.935302138, 39.775609374], [-94.861859232, 39.742097855], [-94.962702245, 39.741906077], [-95.110517442, 39.544588029], [-94.883826524, 39.388120025], [-94.906181395, 39.313971698], [-94.826514423, 39.212210029], [-94.588205516, 39.149786979], [-94.617951214, 36.99859634], [-102.042127401, 36.993127316]]]]}\",\"{\\\"type\\\": \\\"MultiPolygon\\\", \\\"coordinates\\\": [[[[-103.002461493, 36.500439048], [-103.002441376, 37.000086308], [-102.042127401, 36.993127316], [-94.617951214, 36.99859634], [-94.617855996, 36.499511003], [-94.431219846, 35.394376516], [-94.485849738, 33.638024479], [-94.861452878, 33.742971271], [-94.956209958, 33.858229816], [-95.219710171, 33.963224888], [-95.289919674, 33.873695433], [-95.543549359, 33.880607486], [-95.592987835, 33.943575025], [-95.764517784, 33.84703964], [-96.092305183, 33.857659847], [-96.347439587, 33.68666634], [-96.620123684, 33.84311825], [-96.592057049, 33.897066861], [-96.667931378, 33.916157484], [-96.764061749, 33.825579286], [-96.867487729, 33.852742016], [-96.918897629, 33.958064318], [-97.088627815, 33.852955252], [-97.048158646, 33.820053935], [-97.134332657, 33.718701303], [-97.205381691, 33.915587515], [-97.4206236, 33.818582743], [-97.457230389, 33.902124166], [-97.591173202, 33.902561367], [-97.666288465, 33.992533386], [-97.846892327, 33.854983002], [-97.967669517, 33.88318643], [-97.947448343, 33.976621181], [-98.088202626, 34.005480409], [-98.109461814, 34.154110998], [-98.364023566, 34.157108366], [-98.486328274, 34.06259805], [-98.599788398, 34.160571098], [-98.757036924, 34.124633521], [-98.979299515, 34.220235497], [-99.177789688, 34.212069511], [-99.213134497, 34.340368956], [-99.35879454, 34.455863535], [-99.402959794, 34.373480827], [-99.696461856, 34.381036609], [-99.923210442, 34.574552625], [-100.000392348, 34.5605582], [-100.00043124, 36.499925405], [-103.002461493, 36.500439048]]]]}\",\"{\\\"type\\\": \\\"MultiPolygon\\\", \\\"coordinates\\\": [[[[-94.485849738, 33.638024479], [-94.431219846, 35.394376516], [-94.617855996, 36.499511003], [-90.152584165, 36.497936547], [-90.063980073, 36.303037852], [-90.377889723, 35.995683521], [-89.733094722, 36.000608057], [-89.642910808, 35.891967863], [-89.744405597, 35.908039659], [-89.708016068, 35.815927237], [-89.956254512, 35.733386278], [-89.931036383, 35.660043955], [-89.851176292, 35.657431483], [-89.95674938, 35.590510368], [-89.909022152, 35.520547628], [-90.028620511, 35.555248708], [-90.00263527, 35.429950655], [-90.061999261, 35.39875254], [-90.098718703, 35.478595197], [-90.170599222, 35.418351442], [-90.080658048, 35.385790765], [-90.168794096, 35.279088467], [-90.065392256, 35.137690455], [-90.309297591, 34.995694309], [-90.244476646, 34.937596321], [-90.307383835, 34.846194685], [-90.466154516, 34.890988916], [-90.454968363, 34.735557586], [-90.547611862, 34.784588367], [-90.565645695, 34.721053541], [-90.462552309, 34.687575549], [-90.524480492, 34.628503919], [-90.58841899, 34.670963287], [-90.571145564, 34.420318902], [-90.669342577, 34.313019812], [-90.765763968, 34.362109601], [-90.743081868, 34.302257448], [-90.847807378, 34.206529409], [-90.929015279, 34.244540334], [-90.810884088, 34.155902714], [-90.954300463, 34.138497859], [-90.87052837, 34.080516547], [-90.987947434, 34.019037634], [-90.967632383, 33.96332413], [-91.087921411, 33.975335062], [-91.010318398, 33.929352611], [-91.073011011, 33.857449293], [-90.988466442, 33.784529418], [-91.146617532, 33.732455671], [-91.034565568, 33.673017919], [-91.22785762, 33.683073521], [-91.130445153, 33.606033772], [-91.231418252, 33.560593128], [-91.185203791, 33.500735611], [-91.235181391, 33.438972384], [-91.125108898, 33.472841978], [-91.208702624, 33.408718407], [-91.166303605, 33.379708976], [-91.057620496, 33.445341289], [-91.142218709, 33.348989636], [-91.106141657, 33.241799176], [-91.043623388, 33.27463612], [-91.089861989, 33.139655292], [-91.201779842, 33.125120401], [-91.121195555, 33.059166223], [-91.166072935, 33.004105836], [-94.042964727, 33.019213378], [-94.043423384, 33.552223295], [-94.388095289, 33.54776144], [-94.485849738, 33.638024479]]]]}\",\"{\\\"type\\\": \\\"MultiPolygon\\\", \\\"coordinates\\\": [[[[-104.053214192, 41.001679301], [-104.053179324, 43.001271486], [-98.498549759, 42.998559773], [-98.035034537, 42.764204443], [-97.845269591, 42.867733687], [-97.241264284, 42.852915823], [-96.69662565, 42.652435452], [-96.617403924, 42.50783354], [-96.440205127, 42.49000892], [-96.381609589, 42.464544028], [-96.418168098, 42.354678065], [-96.328905523, 42.254733592], [-96.347752064, 42.166805416], [-96.240713149, 41.999351084], [-96.12950474, 41.971673369], [-96.161755621, 41.9018206], [-96.064879596, 41.796230078], [-96.121400446, 41.688521951], [-96.094090194, 41.539265066], [-96.005078405, 41.54400453], [-96.011757106, 41.476211697], [-95.920280367, 41.451566219], [-95.957136601, 41.345901936], [-95.872268826, 41.303069741], [-95.928038657, 41.298472434], [-95.927975625, 41.200068891], [-95.842187852, 41.177421659], [-95.882415622, 41.060411632], [-95.809474289, 40.891228616], [-95.888906568, 40.731854439], [-95.766522735, 40.585193932], [-95.774144232, 40.573488772], [-95.75302586, 40.524999797], [-95.662296116, 40.556382984], [-95.656628609, 40.310891122], [-95.477435589, 40.242581964], [-95.393281281, 40.118686706], [-95.415329039, 40.040511042], [-95.30805409, 40.000000298], [-102.051756531, 40.00306204], [-102.051578164, 41.002360582], [-104.053214192, 41.001679301]]]]}\",\"{\\\"type\\\": \\\"MultiPolygon\\\", \\\"coordinates\\\": [[[[-96.453307718, 43.500386328], [-91.217705458, 43.500549942], [-91.206619889, 43.352524191], [-91.057918221, 43.255366534], [-91.178251505, 43.124981672], [-91.06468007, 42.750914097], [-90.709204227, 42.636078], [-90.641045272, 42.507989109], [-90.419026762, 42.328505069], [-90.391107649, 42.225473374], [-90.162894577, 42.116717845], [-90.18095389, 41.809354126], [-90.310708433, 41.742214411], [-90.343227535, 41.587833166], [-90.461432487, 41.523533911], [-91.045889854, 41.414085031], [-91.113647819, 41.241400391], [-90.946626663, 41.096632183], [-90.95223248, 40.954047292], [-91.092993468, 40.821079463], [-91.123927385, 40.669152439], [-91.401482373, 40.559458137], [-91.372553408, 40.401199758], [-91.420409381, 40.378013402], [-91.72925368, 40.613634735], [-95.766522735, 40.585193932], [-95.888906568, 40.731854439], [-95.809474289, 40.891228616], [-95.882415622, 41.060411632], [-95.842187852, 41.177421659], [-95.927975625, 41.200068891], [-95.928038657, 41.298472434], [-95.872268826, 41.303069741], [-95.957136601, 41.345901936], [-95.920280367, 41.451566219], [-96.011757106, 41.476211697], [-96.005078405, 41.54400453], [-96.094090194, 41.539265066], [-96.121400446, 41.688521951], [-96.064879596, 41.796230078], [-96.161755621, 41.9018206], [-96.12950474, 41.971673369], [-96.240713149, 41.999351084], [-96.347752064, 42.166805416], [-96.328905523, 42.254733592], [-96.418168098, 42.354678065], [-96.381609589, 42.464544028], [-96.440205127, 42.49000892], [-96.63971588, 42.737030983], [-96.436340064, 43.120498359], [-96.585098058, 43.268474489], [-96.521518975, 43.385315537], [-96.599423736, 43.500494957], [-96.453307718, 43.500386328]]]]}\",\"{\\\"type\\\": \\\"MultiPolygon\\\", \\\"coordinates\\\": [[[[-104.053179324, 43.001271486], [-104.057756513, 44.997541755], [-104.045442492, 45.945309699], [-96.561367214, 45.935035497], [-96.583250016, 45.819072872], [-96.857515275, 45.605857372], [-96.692540646, 45.417338312], [-96.45306766, 45.298115462], [-96.453307718, 43.500386328], [-96.599423736, 43.500494957], [-96.521518975, 43.385315537], [-96.585098058, 43.268474489], [-96.436340064, 43.120498359], [-96.63971588, 42.737030983], [-96.440205127, 42.49000892], [-96.617403924, 42.50783354], [-96.69662565, 42.652435452], [-97.241264284, 42.852915823], [-97.845269591, 42.867733687], [-98.035034537, 42.764204443], [-98.498549759, 42.998559773], [-104.053179324, 43.001271486]]]]}\",\"{\\\"type\\\": \\\"MultiPolygon\\\", \\\"coordinates\\\": [[[[-104.048736244, 48.99987638], [-101.361990273, 48.999472708], [-97.228821516, 49.000461102], [-97.090266645, 48.684542477], [-97.175432146, 48.562350422], [-97.127023637, 48.52038458], [-97.142132521, 48.144981265], [-96.851049811, 47.598526776], [-96.839327216, 47.006950825], [-96.752848774, 46.924014241], [-96.798195541, 46.629573405], [-96.599378139, 46.329984069], [-96.561367214, 45.935035497], [-104.045442492, 45.945309699], [-104.048736244, 48.99987638]]]]}\",\"{\\\"type\\\": \\\"MultiPolygon\\\", \\\"coordinates\\\": [[[[-89.4851996, 36.497453749], [-89.53912273, 36.498102844], [-89.528270513, 36.580993831], [-89.4851996, 36.497453749]]], [[[-89.23654139, 36.566823721], [-89.159080535, 36.666352451], [-89.201046377, 36.725771427], [-89.116563499, 36.767557561], [-89.179229289, 36.812915057], [-89.133012146, 36.982000172], [-89.175724983, 37.062069476], [-88.983260393, 37.228685617], [-88.460188061, 37.07447201], [-88.424617946, 37.151726335], [-88.515940458, 37.284192592], [-88.476592451, 37.3868756], [-88.072244078, 37.481963933], [-88.160187006, 37.657592297], [-88.025017083, 37.799896896], [-87.906809449, 37.80762434], [-87.895003706, 37.928528935], [-87.76563406, 37.866623551], [-87.675730437, 37.901929468], [-87.675538659, 37.831732035], [-87.61539951, 37.831973433], [-87.587952465, 37.976173013], [-87.111133486, 37.782512158], [-87.033444643, 37.906592488], [-86.817335039, 37.999099195], [-86.638265401, 37.842718363], [-86.5066199, 37.930718958], [-86.462933421, 38.119425774], [-86.323453188, 38.13903138], [-86.361063123, 38.196728379], [-86.261272877, 38.052720577], [-86.039704978, 37.959232181], [-85.925004333, 38.022591323], [-85.829193145, 38.276550919], [-85.679507107, 38.297855705], [-85.606765598, 38.438685089], [-85.419568866, 38.535027355], [-85.436091274, 38.728496432], [-85.172982663, 38.688068837], [-84.813502282, 38.785398155], [-84.785178155, 38.88001442], [-84.877023697, 38.909009099], [-84.830031395, 38.973046839], [-84.897387028, 39.055475146], [-84.819934219, 39.105440676], [-84.452824295, 39.119255394], [-84.307160228, 39.007299989], [-84.21290338, 38.805706501], [-83.873168081, 38.76241833], [-83.668632209, 38.626407534], [-83.520617187, 38.70295912], [-83.298787773, 38.597284108], [-83.153316826, 38.618900031], [-82.886093706, 38.755200505], [-82.844306231, 38.590861559], [-82.593420446, 38.421862274], [-82.574655712, 38.263873458], [-82.644739151, 38.165487349], [-82.46425733, 37.983412296], [-82.502167672, 37.933119535], [-82.311642319, 37.764294595], [-82.303952426, 37.675760239], [-82.17526406, 37.647971213], [-82.133299559, 37.552995533], [-81.967705339, 37.537783384], [-82.34873727, 37.267939746], [-82.722096741, 37.120167464], [-82.878568769, 36.889584661], [-83.072590381, 36.854588538], [-83.136394769, 36.743087769], [-83.675367236, 36.600771099], [-88.070531487, 36.678117961], [-88.053322434, 36.497118473], [-89.417292774, 36.49903357], [-89.365547597, 36.625058502], [-89.23654139, 36.566823721]]]]}\",\"{\\\"type\\\": \\\"MultiPolygon\\\", \\\"coordinates\\\": [[[[-84.819934219, 39.105440676], [-84.897387028, 39.055475146], [-84.830031395, 38.973046839], [-84.877023697, 38.909009099], [-84.785178155, 38.88001442], [-84.813502282, 38.785398155], [-85.172982663, 38.688068837], [-85.436091274, 38.728496432], [-85.419568866, 38.535027355], [-85.606765598, 38.438685089], [-85.679507107, 38.297855705], [-85.829193145, 38.276550919], [-85.925004333, 38.022591323], [-86.039704978, 37.959232181], [-86.261272877, 38.052720577], [-86.361063123, 38.196728379], [-86.323453188, 38.13903138], [-86.462933421, 38.119425774], [-86.5066199, 37.930718958], [-86.638265401, 37.842718363], [-86.817335039, 37.999099195], [-87.033444643, 37.906592488], [-87.111133486, 37.782512158], [-87.587952465, 37.976173013], [-87.61539951, 37.831973433], [-87.675538659, 37.831732035], [-87.675730437, 37.901929468], [-87.76563406, 37.866623551], [-87.895003706, 37.928528935], [-87.906809449, 37.80762434], [-88.025017083, 37.799896896], [-88.099701852, 37.90440917], [-88.014214486, 37.885648459], [-88.068840355, 37.924885154], [-88.010994494, 37.973186374], [-88.042580187, 38.043110222], [-87.914986163, 38.160290569], [-87.98638925, 38.259089738], [-87.843147218, 38.279324323], [-87.497077882, 38.743126541], [-87.553384155, 38.863344491], [-87.512186766, 38.954417557], [-87.645990103, 39.144899994], [-87.531375289, 39.347705841], [-87.523328662, 41.760350168], [-87.207773477, 41.760956347], [-84.805883467, 41.760216057], [-84.805980027, 41.696127355], [-84.819934219, 39.105440676]]]]}\",\"{\\\"type\\\": \\\"MultiPolygon\\\", \\\"coordinates\\\": [[[[-90.309297591, 34.995694309], [-90.065392256, 35.137690455], [-90.168794096, 35.279088467], [-90.080658048, 35.385790765], [-90.170599222, 35.418351442], [-90.098718703, 35.478595197], [-90.061999261, 35.39875254], [-90.00263527, 35.429950655], [-90.028620511, 35.555248708], [-89.909022152, 35.520547628], [-89.95674938, 35.590510368], [-89.851176292, 35.657431483], [-89.931036383, 35.660043955], [-89.956254512, 35.733386278], [-89.708016068, 35.815927237], [-89.744405597, 35.908039659], [-89.642910808, 35.891967863], [-89.733094722, 36.000608057], [-89.592101723, 36.135637164], [-89.698567986, 36.250591278], [-89.534745365, 36.252576113], [-89.62025553, 36.323005557], [-89.513177723, 36.35989666], [-89.53912273, 36.498102844], [-89.4851996, 36.497453749], [-89.417292774, 36.49903357], [-88.053322434, 36.497118473], [-88.070531487, 36.678117961], [-83.675367236, 36.600771099], [-81.677456796, 36.58815667], [-81.707438529, 36.335170716], [-81.9081375, 36.302013248], [-82.033852637, 36.120528281], [-82.355157137, 36.115609109], [-82.557991147, 35.953879952], [-82.637231648, 36.065825969], [-82.80508697, 35.927143693], [-82.919834554, 35.928896517], [-82.992116064, 35.773921162], [-83.159586489, 35.764659494], [-83.498409837, 35.562938601], [-83.880275935, 35.518820286], [-84.023418725, 35.411617756], [-84.052546173, 35.270192921], [-84.29022342, 35.22543624], [-84.32182923, 34.988408089], [-85.605242103, 34.984610081], [-88.200023174, 34.995604455], [-90.309297591, 34.995694309]]]]}\",\"{\\\"type\\\": \\\"MultiPolygon\\\", \\\"coordinates\\\": [[[[-89.32684198, 30.302531272], [-89.463289976, 30.174465179], [-89.528611153, 30.189819485], [-89.616145045, 30.224249661], [-89.683409482, 30.451793522], [-89.852172732, 30.661809146], [-89.730746448, 31.004669219], [-91.637457758, 30.999304801], [-91.559907049, 31.054118425], [-91.654027104, 31.255753487], [-91.51561439, 31.278210282], [-91.576264501, 31.410498172], [-91.478747427, 31.359860748], [-91.522216648, 31.521990895], [-91.405414492, 31.57646656], [-91.515461504, 31.630372256], [-91.401015669, 31.620364934], [-91.369269043, 31.746706367], [-91.259238124, 31.760436594], [-91.365480423, 31.760641783], [-91.34301424, 31.846861392], [-91.256966293, 31.811711043], [-91.185619533, 31.963829845], [-91.081988364, 32.006204724], [-91.160310209, 32.070353776], [-91.07999146, 32.048000246], [-91.002829671, 32.161783576], [-91.162822098, 32.132693678], [-91.164171249, 32.196888328], [-91.039007306, 32.242349088], [-90.995233655, 32.192797959], [-90.979474336, 32.293702662], [-90.901239663, 32.323386669], [-91.003505588, 32.362144589], [-90.978547633, 32.447032481], [-91.116008162, 32.483140379], [-91.093740463, 32.549128085], [-90.987830758, 32.494189739], [-91.080397815, 32.556442469], [-91.014285386, 32.640481442], [-91.151318103, 32.615919113], [-91.052968204, 32.718643695], [-91.163624078, 32.778186053], [-91.063683629, 32.906363457], [-91.106581539, 32.988937944], [-91.145076603, 32.905494422], [-91.208262742, 32.915354222], [-91.166072935, 33.004105836], [-91.121195555, 33.059166223], [-91.201779842, 33.125120401], [-91.089861989, 33.139655292], [-91.043623388, 33.27463612], [-91.106141657, 33.241799176], [-91.142218709, 33.348989636], [-91.057620496, 33.445341289], [-91.166303605, 33.379708976], [-91.208702624, 33.408718407], [-91.125108898, 33.472841978], [-91.235181391, 33.438972384], [-91.185203791, 33.500735611], [-91.231418252, 33.560593128], [-91.130445153, 33.606033772], [-91.22785762, 33.683073521], [-91.034565568, 33.673017919], [-91.146617532, 33.732455671], [-90.988466442, 33.784529418], [-91.073011011, 33.857449293], [-91.010318398, 33.929352611], [-91.087921411, 33.975335062], [-90.967632383, 33.96332413], [-90.987947434, 34.019037634], [-90.87052837, 34.080516547], [-90.954300463, 34.138497859], [-90.810884088, 34.155902714], [-90.929015279, 34.244540334], [-90.847807378, 34.206529409], [-90.743081868, 34.302257448], [-90.765763968, 34.362109601], [-90.669342577, 34.313019812], [-90.571145564, 34.420318902], [-90.58841899, 34.670963287], [-90.524480492, 34.628503919], [-90.462552309, 34.687575549], [-90.565645695, 34.721053541], [-90.547611862, 34.784588367], [-90.454968363, 34.735557586], [-90.466154516, 34.890988916], [-90.307383835, 34.846194685], [-90.244476646, 34.937596321], [-90.309297591, 34.995694309], [-88.200023174, 34.995604455], [-88.097794801, 34.892122149], [-88.473101556, 31.893939525], [-88.395836502, 30.384795964], [-88.480944335, 30.318523943], [-88.610838354, 30.377261639], [-88.729719222, 30.343125165], [-88.966166675, 30.461363643], [-89.043184966, 30.426139534], [-88.856743276, 30.390560031], [-88.877500507, 30.386319026], [-89.28419888, 30.303224623], [-89.242926389, 30.347570926], [-89.350189269, 30.37135005], [-89.32684198, 30.302531272]]], [[[-89.066544324, 30.249526799], [-89.101409018, 30.221399814], [-89.151641428, 30.229958743], [-89.066544324, 30.249526799]]], [[[-88.580719829, 30.227043182], [-88.77848044, 30.242090374], [-88.711646497, 30.251006037], [-88.580719829, 30.227043182]]]]}\",\"{\\\"type\\\": \\\"MultiPolygon\\\", \\\"coordinates\\\": [[[[-85.605242103, 34.984610081], [-85.184085667, 32.862707824], [-84.96303007, 32.424244434], [-85.005290955, 32.325855643], [-84.88841638, 32.260884494], [-85.061143935, 32.134065628], [-85.140730441, 31.857461482], [-85.041304976, 31.540987641], [-85.107516646, 31.186450571], [-85.001656562, 31.000696868], [-87.598828822, 30.997455418], [-87.634743601, 30.865610093], [-87.406075895, 30.674638152], [-87.450371236, 30.514461994], [-87.388964742, 30.450668335], [-87.539708912, 30.306267589], [-87.60425359, 30.360721797], [-87.609796375, 30.302556753], [-87.751187682, 30.282507241], [-87.707018405, 30.334786177], [-87.753849775, 30.291099697], [-87.825019509, 30.414018631], [-87.906427234, 30.41019246], [-87.913494855, 30.651769638], [-88.011820614, 30.685297251], [-88.086363226, 30.52508086], [-88.143183142, 30.533502996], [-88.093534112, 30.521056205], [-88.128058165, 30.338653922], [-88.395836502, 30.384795964], [-88.473101556, 31.893939525], [-88.097794801, 34.892122149], [-88.200023174, 34.995604455], [-85.605242103, 34.984610081]]], [[[-88.027172238, 30.224967152], [-87.936872989, 30.260506421], [-87.514725477, 30.308111608], [-88.027172238, 30.224967152]]], [[[-87.456230521, 30.305736512], [-87.518255264, 30.279979259], [-87.509202808, 30.286252946], [-87.456230521, 30.305736512]]]]}\",\"{\\\"type\\\": \\\"MultiPolygon\\\", \\\"coordinates\\\": [[[[-81.49959147, 30.943642259], [-81.515755802, 30.848426521], [-81.601021886, 30.855051577], [-81.494534165, 30.77856034], [-81.572892219, 30.721949637], [-81.901729703, 30.829801261], [-82.02252835, 30.788169354], [-82.03720808, 30.371941477], [-82.161776572, 30.357111543], [-82.21470058, 30.568480343], [-84.864611775, 30.71159631], [-85.001656562, 31.000696868], [-85.107516646, 31.186450571], [-85.041304976, 31.540987641], [-85.140730441, 31.857461482], [-85.061143935, 32.134065628], [-84.88841638, 32.260884494], [-85.005290955, 32.325855643], [-84.96303007, 32.424244434], [-85.184085667, 32.862707824], [-85.605242103, 34.984610081], [-84.32182923, 34.988408089], [-83.108569533, 35.001361817], [-83.111965209, 34.934908748], [-83.306010962, 34.816326946], [-83.342002183, 34.68029201], [-83.03921029, 34.486388415], [-82.876610756, 34.475074857], [-82.556835115, 33.945353329], [-81.928711385, 33.464853019], [-81.939983368, 33.345049471], [-81.751638651, 33.147870898], [-81.491957903, 33.009098768], [-81.418663859, 32.629398555], [-81.1872603, 32.464225441], [-81.11722514, 32.11760357], [-80.849422663, 32.034107745], [-81.137567014, 31.720619202], [-81.267627329, 31.382485181], [-81.324750334, 31.423850209], [-81.271289885, 31.256263107], [-81.471626759, 31.098860353], [-81.407343596, 31.11876905], [-81.420930326, 31.01768598], [-81.603563399, 30.981382528], [-81.49959147, 30.943642259]], [[-81.67970717, 30.952178389], [-81.641322076, 30.995088369], [-81.604924582, 30.981876618], [-81.672695875, 31.041859388], [-81.67970717, 30.952178389]], [[-81.604219079, 30.981252193], [-81.603563399, 30.981382528], [-81.604924582, 30.981876618], [-81.604219079, 30.981252193]]], [[[-81.450878531, 30.713652223], [-81.466024965, 30.857442766], [-81.403813809, 30.950146616], [-81.450878531, 30.713652223]]]]}\",\"{\\\"type\\\": \\\"MultiPolygon\\\", \\\"coordinates\\\": [[[[-109.045182019, 36.998981237], [-109.05002743, 41.000689566], [-104.053214192, 41.001679301], [-102.051578164, 41.002360582], [-102.051756531, 40.00306204], [-102.042127401, 36.993127316], [-103.002441376, 37.000086308], [-109.045182019, 36.998981237]]]]}\",\"{\\\"type\\\": \\\"MultiPolygon\\\", \\\"coordinates\\\": [[[[-111.053150743, 44.478076994], [-111.055267006, 44.840352237], [-111.054585725, 45.000937432], [-104.057756513, 44.997541755], [-104.053179324, 43.001271486], [-104.053214192, 41.001679301], [-109.05002743, 41.000689566], [-111.04680866, 40.997870564], [-111.046679914, 42.001672536], [-111.053150743, 44.478076994]]]]}\",\"{\\\"type\\\": \\\"MultiPolygon\\\", \\\"coordinates\\\": [[[[-114.050051272, 37.000190914], [-114.052882344, 37.549260557], [-114.04150039, 41.993802935], [-111.046679914, 42.001672536], [-111.04680866, 40.997870564], [-109.05002743, 41.000689566], [-109.045182019, 36.998981237], [-114.050051272, 37.000190914]]]]}\",\"{\\\"type\\\": \\\"MultiPolygon\\\", \\\"coordinates\\\": [[[[-109.0500395, 31.332408339], [-109.050223231, 31.484944224], [-109.045182019, 36.998981237], [-103.002441376, 37.000086308], [-103.002461493, 36.500439048], [-103.064631075, 32.000391036], [-106.618739069, 32.000660598], [-106.635750979, 31.866302043], [-106.527981162, 31.78384155], [-108.208394498, 31.783626974], [-108.208487034, 31.333416849], [-108.756412715, 31.332522333], [-109.0500395, 31.332408339]]]]}\",\"{\\\"type\\\": \\\"MultiPolygon\\\", \\\"coordinates\\\": [[[[-114.818357974, 32.499082088], [-114.719961137, 32.718655765], [-114.539008588, 32.749860585], [-114.469154477, 32.844391018], [-114.509588778, 33.022000194], [-114.706819654, 33.088846207], [-114.672287554, 33.25971365], [-114.731474519, 33.30327943], [-114.72538054, 33.405411243], [-114.524175972, 33.552963585], [-114.534388483, 33.93816635], [-114.416719973, 34.107010067], [-114.13078174, 34.261938483], [-114.385775328, 34.456904233], [-114.469869286, 34.710430652], [-114.633581936, 34.871618003], [-114.632961005, 35.001888871], [-114.645979106, 35.103406459], [-114.569734633, 35.185522288], [-114.678812027, 35.497923195], [-114.7114411, 35.806756765], [-114.662209153, 35.872348845], [-114.755618423, 36.087165624], [-114.405474812, 36.147370487], [-114.252650589, 36.020193547], [-114.148190618, 36.028013527], [-114.046654254, 36.1940597], [-114.050051272, 37.000190914], [-109.045182019, 36.998981237], [-109.050223231, 31.484944224], [-109.0500395, 31.332408339], [-111.074824333, 31.33223936], [-114.81358096, 32.494077086], [-114.818357974, 32.499082088]]]]}\",\"{\\\"type\\\": \\\"MultiPolygon\\\", \\\"coordinates\\\": [[[[-87.509202808, 30.286252946], [-87.311753333, 30.326134712], [-87.518255264, 30.279979259], [-87.509202808, 30.286252946]]], [[[-87.301349044, 30.33050403], [-86.510488987, 30.381066352], [-87.18794927, 30.323988944], [-87.301349044, 30.33050403]]], [[[-85.717536807, 30.137887895], [-85.789032429, 30.170350671], [-85.734795481, 30.12055546], [-86.088096052, 30.303114653], [-86.515818536, 30.396717042], [-86.103892922, 30.384120047], [-86.192659289, 30.508152097], [-86.421196908, 30.451230258], [-86.417950094, 30.50791204], [-86.500010937, 30.522409379], [-86.492424309, 30.461765975], [-86.609867513, 30.46625331], [-86.60218969, 30.401388109], [-87.18363896, 30.343189538], [-86.862624139, 30.440490693], [-87.020139545, 30.504981726], [-87.025839239, 30.626119673], [-87.067939192, 30.448037088], [-87.182271034, 30.582236052], [-87.148578465, 30.490523279], [-87.266268432, 30.344117582], [-87.498106509, 30.31304419], [-87.343183458, 30.426319242], [-87.388964742, 30.450668335], [-87.450371236, 30.514461994], [-87.406075895, 30.674638152], [-87.634743601, 30.865610093], [-87.598828822, 30.997455418], [-85.001656562, 31.000696868], [-84.864611775, 30.71159631], [-82.21470058, 30.568480343], [-82.161776572, 30.357111543], [-82.03720808, 30.371941477], [-82.02252835, 30.788169354], [-81.901729703, 30.829801261], [-81.572892219, 30.721949637], [-81.562725306, 30.71231246], [-81.562060118, 30.711876601], [-81.49930045, 30.721194595], [-81.58448875, 30.705665946], [-81.525382251, 30.625269413], [-81.483531743, 30.673522353], [-81.495738477, 30.565242916], [-81.65994063, 30.563498139], [-81.533422172, 30.500242263], [-81.508841451, 30.537035033], [-81.517976671, 30.558199435], [-81.46235168, 30.522760749], [-81.461384351, 30.492892487], [-81.458250582, 30.396130979], [-81.526047438, 30.452207923], [-81.556439342, 30.39128696], [-81.376189739, 30.396409929], [-81.169638187, 29.56827119], [-80.526020676, 28.460779041], [-80.604372025, 28.351908177], [-80.574525744, 28.121214062], [-80.032598823, 26.802547574], [-80.057334155, 26.84286654], [-80.09713374, 26.212677435], [-80.104565173, 26.095007658], [-80.106769949, 26.153927743], [-80.168297142, 26.097913831], [-80.114265382, 26.086173803], [-80.128305405, 25.913306773], [-80.306048691, 25.614518076], [-80.305632949, 25.38535282], [-80.429478586, 25.258457512], [-80.394597432, 25.18927131], [-80.366224051, 25.28468281], [-80.256508291, 25.333100706], [-80.403498072, 25.159341024], [-80.395075357, 25.187664186], [-80.443092138, 25.244468451], [-80.673609227, 25.138442069], [-80.805874318, 25.183500499], [-81.089126319, 25.116797984], [-81.171901971, 25.22569567], [-81.145401746, 25.327005386], [-81.047187299, 25.235711038], [-81.005229503, 25.27330488], [-81.018004864, 25.212122351], [-80.962680473, 25.222543332], [-80.847626925, 25.244214982], [-80.957192481, 25.297475606], [-80.903801769, 25.353364795], [-80.965091586, 25.303532034], [-80.940868556, 25.375134945], [-81.039437056, 25.372503698], [-80.923204869, 25.442009121], [-81.091720015, 25.350254774], [-81.152810007, 25.42491138], [-81.058822721, 25.43843776], [-81.168384254, 25.459798872], [-81.051958948, 25.482832342], [-81.209530681, 25.50619036], [-81.134583056, 25.576300621], [-81.1118339, 25.515555292], [-81.034157007, 25.549383701], [-80.998128355, 25.565074235], [-81.107872277, 25.575533509], [-81.152336597, 25.652326494], [-81.164195985, 25.557365566], [-81.225932389, 25.55745542], [-81.288140863, 25.726505667], [-81.207906604, 25.712021738], [-81.236136854, 25.654709637], [-81.181246787, 25.726140887], [-81.252779961, 25.80911234], [-81.311005354, 25.794629753], [-81.299934536, 25.693157762], [-81.37668997, 25.767653435], [-81.287926286, 25.858259797], [-81.350614876, 25.82106024], [-81.543122381, 25.929449648], [-81.577647775, 25.890725255], [-81.626474025, 25.985023688], [-81.625703573, 25.986717492], [-81.652650386, 25.934710801], [-81.658508514, 25.940140833], [-81.6899921, 25.904932916], [-81.749600172, 25.968216956], [-81.664064822, 25.945291103], [-81.775562396, 26.048640759], [-81.779095083, 26.051915288], [-81.780678385, 26.060142447], [-81.868472993, 26.51634112], [-81.884399951, 26.438595951], [-82.013485283, 26.487299502], [-81.956122944, 26.539607859], [-82.034999281, 26.52902931], [-82.082420737, 26.685070843], [-82.026732713, 26.87879473], [-82.096931487, 26.914218664], [-81.98789835, 26.995069832], [-82.156265974, 26.953455359], [-82.1641168, 27.006414235], [-82.157676816, 26.942675561], [-82.274967134, 27.021885216], [-82.1479927, 26.790268421], [-82.270002365, 26.827742904], [-82.417116009, 27.024650125], [-82.340937406, 26.89772442], [-82.444788516, 27.059525996], [-82.469632477, 27.112150937], [-82.444627305, 27.070488333], [-82.574831396, 27.416388541], [-82.692135125, 27.473589331], [-82.420195341, 27.518323213], [-82.604127824, 27.516721934], [-82.542669028, 27.574637532], [-82.620383352, 27.586112022], [-82.429159284, 27.717290819], [-82.481482476, 27.743243873], [-82.382633686, 27.820901871], [-82.410248369, 27.952016294], [-82.490505427, 27.918786407], [-82.472687513, 27.82239452], [-82.533871382, 27.832876593], [-82.540174574, 27.968932986], [-82.696606368, 28.036578298], [-82.729636431, 27.934243977], [-82.582587004, 27.879235893], [-82.679308802, 27.694374025], [-82.791770548, 27.811721696], [-82.7840437, 27.782962024], [-82.803256331, 27.823706483], [-82.848747969, 27.871174514], [-82.83577472, 27.892668619], [-82.84311533, 27.908235937], [-82.833083868, 27.965491712], [-82.820373916, 27.918184704], [-82.783763409, 27.978841066], [-82.800798118, 28.170564026], [-82.711687088, 28.181834668], [-82.79914856, 28.185123056], [-82.651436627, 28.470083624], [-82.628008872, 28.907138854], [-82.776172757, 28.943084478], [-82.698294818, 28.958971202], [-82.794505656, 29.177903831], [-83.067223281, 29.187160134], [-83.067704737, 29.291413575], [-83.163742572, 29.308955222], [-83.169073462, 29.400822222], [-83.400675505, 29.517619014], [-83.414420485, 29.664009959], [-83.359051645, 29.683599472], [-83.548560441, 29.728294462], [-83.677576035, 29.925397933], [-83.977681696, 30.121243447], [-84.166452885, 30.07142812], [-84.274118096, 30.114716291], [-84.384226799, 30.037547797], [-84.34164539, 29.970172048], [-84.440605491, 29.991372228], [-84.348025024, 29.897198528], [-84.51218158, 29.917076379], [-84.887744486, 29.722685963], [-85.349182338, 29.665969312], [-85.384816049, 29.750798454], [-85.30892238, 29.687705934], [-85.362390876, 29.896384478], [-85.731040388, 30.117993951], [-85.596484691, 30.057085007], [-85.68694219, 30.122899711], [-85.622705966, 30.125572532], [-85.473073572, 30.004423857], [-85.392045379, 30.051433593], [-85.419240296, 30.096685141], [-85.479732156, 30.031122565], [-85.538716614, 30.128706694], [-85.729297739, 30.175304797], [-85.717536807, 30.137887895]], [[-85.732999742, 30.176209956], [-85.729297739, 30.175304797], [-85.730341974, 30.178626984], [-85.732999742, 30.176209956]], [[-81.479871869, 30.469918549], [-81.504165977, 30.544033349], [-81.508841451, 30.537035033], [-81.479871869, 30.469918549]], [[-81.573946649, 30.390789375], [-81.558439136, 30.387278348], [-81.556439342, 30.39128696], [-81.573946649, 30.390789375]], [[-81.696702987, 30.41858241], [-81.632528798, 30.369150865], [-81.620048136, 30.389479101], [-81.573946649, 30.390789375], [-81.696702987, 30.41858241]], [[-81.654055035, 30.334089391], [-81.619480848, 30.359100401], [-81.632528798, 30.369150865], [-81.654055035, 30.334089391]], [[-81.71477437, 30.290164948], [-81.690901369, 30.192488283], [-81.621823758, 30.217866004], [-81.665921956, 30.314760804], [-81.654055035, 30.334089391], [-81.71477437, 30.290164948]], [[-81.947682649, 26.540739834], [-81.94494955, 26.549796807], [-81.956122944, 26.539607859], [-81.947682649, 26.540739834]], [[-81.775635034, 26.704193652], [-81.906489283, 26.677246839], [-81.94494955, 26.549796807], [-81.775635034, 26.704193652]], [[-85.577465147, 30.317656249], [-85.71993202, 30.234085321], [-85.762027949, 30.314472467], [-85.851326734, 30.283900648], [-85.742184967, 30.216304958], [-85.730341974, 30.178626984], [-85.577465147, 30.317656249]], [[-81.023831964, 25.474213064], [-80.927482992, 25.502653867], [-81.088489294, 25.497950613], [-81.023831964, 25.474213064]]], [[[-85.417476743, 29.828550071], [-85.384132862, 29.878535718], [-85.400428755, 29.787965856], [-85.417476743, 29.828550071]]], [[[-85.404214561, 29.766924977], [-85.400428755, 29.787965856], [-85.384816049, 29.750798454], [-85.404214561, 29.766924977]]], [[[-82.588946521, 27.328288704], [-82.689389884, 27.441972792], [-82.627782226, 27.379868925], [-82.588946521, 27.328288704]]], [[[-82.094623446, 26.491183341], [-82.156845331, 26.70198217], [-82.065459788, 26.611542106], [-82.094623446, 26.491183341]]], [[[-82.115713656, 26.454411596], [-82.182173431, 26.481051296], [-82.013644874, 26.452834457], [-82.115713656, 26.454411596]]], [[[-81.650031209, 25.933234245], [-81.6265136, 25.98510012], [-81.626474025, 25.985023688], [-81.650031209, 25.933234245]]], [[[-81.3716501, 24.708097726], [-81.332522035, 24.639717489], [-81.395916045, 24.74547565], [-81.3716501, 24.708097726]]], [[[-80.981246531, 24.745203406], [-81.028889269, 24.730148166], [-80.92340067, 24.777096212], [-80.981246531, 24.745203406]]], [[[-80.480781198, 25.220223963], [-80.421168696, 25.138452211], [-80.422645095, 25.136706929], [-80.480781198, 25.220223963]]], [[[-80.564676672, 24.968808442], [-80.422645095, 25.136706929], [-80.417249054, 25.128955096], [-80.564676672, 24.968808442]]], [[[-80.413029939, 25.127288103], [-80.421168696, 25.138452211], [-80.403498072, 25.159341024], [-80.413029939, 25.127288103]]]]}\",\"{\\\"type\\\": \\\"MultiPolygon\\\", \\\"coordinates\\\": [[[[-82.593420446, 38.421862274], [-82.844306231, 38.590861559], [-82.886093706, 38.755200505], [-83.153316826, 38.618900031], [-83.298787773, 38.597284108], [-83.520617187, 38.70295912], [-83.668632209, 38.626407534], [-83.873168081, 38.76241833], [-84.21290338, 38.805706501], [-84.307160228, 39.007299989], [-84.452824295, 39.119255394], [-84.819934219, 39.105440676], [-84.805980027, 41.696127355], [-83.415851444, 41.733793616], [-83.112460077, 41.95941031], [-83.069111556, 41.863583028], [-82.679721862, 41.676555276], [-82.397471666, 41.676555276], [-81.245721728, 42.207556218], [-80.521082729, 42.323235869], [-80.518990606, 40.638800561], [-80.667812973, 40.583536327], [-80.601566434, 40.31485945], [-80.869122148, 39.766735286], [-80.879313201, 39.621756524], [-81.217314452, 39.387590289], [-81.37494117, 39.342011511], [-81.455361843, 39.40954417], [-81.569889486, 39.268214554], [-81.684336662, 39.270422012], [-81.746652424, 39.095983207], [-81.813703626, 39.079341441], [-81.763038039, 38.924506903], [-81.904647946, 38.876801133], [-81.932544261, 38.987450302], [-82.037382424, 39.024270326], [-82.221443653, 38.787636459], [-82.177283764, 38.603953421], [-82.290259749, 38.580368757], [-82.330631018, 38.444353938], [-82.593420446, 38.421862274]]]]}\",\"{\\\"type\\\": \\\"MultiPolygon\\\", \\\"coordinates\\\": [[[[-81.967705339, 37.537783384], [-82.133299559, 37.552995533], [-82.17526406, 37.647971213], [-82.303952426, 37.675760239], [-82.311642319, 37.764294595], [-82.502167672, 37.933119535], [-82.46425733, 37.983412296], [-82.644739151, 38.165487349], [-82.574655712, 38.263873458], [-82.593420446, 38.421862274], [-82.330631018, 38.444353938], [-82.290259749, 38.580368757], [-82.177283764, 38.603953421], [-82.221443653, 38.787636459], [-82.037382424, 39.024270326], [-81.932544261, 38.987450302], [-81.904647946, 38.876801133], [-81.763038039, 38.924506903], [-81.813703626, 39.079341441], [-81.746652424, 39.095983207], [-81.684336662, 39.270422012], [-81.569889486, 39.268214554], [-81.455361843, 39.40954417], [-81.37494117, 39.342011511], [-81.217314452, 39.387590289], [-80.879313201, 39.621756524], [-80.869122148, 39.766735286], [-80.601566434, 40.31485945], [-80.667812973, 40.583536327], [-80.518990606, 40.638800561], [-80.51944524, 39.721249044], [-79.476759285, 39.721131027], [-79.473098069, 39.201927781], [-79.103496373, 39.475856423], [-78.956351727, 39.440380186], [-78.775278479, 39.645656347], [-78.689288199, 39.545642138], [-78.47197026, 39.5158723], [-78.39531675, 39.58401382], [-78.430216312, 39.623263925], [-78.266333342, 39.618908018], [-78.176341206, 39.695993364], [-77.946210355, 39.584712535], [-77.833455652, 39.602683336], [-77.88871184, 39.555269927], [-77.765992731, 39.495723546], [-77.803239226, 39.437161535], [-77.719028592, 39.32112515], [-77.828148901, 39.132281542], [-78.347086608, 39.466011375], [-78.403697312, 39.167450666], [-78.869276494, 38.762990981], [-78.998171389, 38.84735316], [-79.282971025, 38.418095112], [-79.476574212, 38.457126617], [-79.649199843, 38.591528088], [-79.789105207, 38.268207908], [-80.306964666, 37.689621896], [-80.220863074, 37.627774179], [-80.328504145, 37.564314455], [-80.299788415, 37.508271039], [-80.464819372, 37.426144481], [-80.511390567, 37.481674254], [-80.77008158, 37.372363508], [-80.859556049, 37.429568321], [-80.900534838, 37.315000445], [-81.225103587, 37.234873474], [-81.362156421, 37.337674499], [-81.678210497, 37.201482654], [-81.925642937, 37.357316315], [-81.967705339, 37.537783384]]]]}\",\"{\\\"type\\\": \\\"MultiPolygon\\\", \\\"coordinates\\\": [[[[-77.038935721, 38.791630268], [-77.119766772, 38.934279531], [-77.041023821, 38.995852321], [-76.90936625, 38.892862201], [-77.038935721, 38.791630268]]]]}\",\"{\\\"type\\\": \\\"MultiPolygon\\\", \\\"coordinates\\\": [[[[-80.521082729, 42.323235869], [-79.761840552, 42.514689267], [-79.761800319, 41.998841465], [-75.359546989, 41.99950397], [-75.258922577, 41.862668395], [-75.071971267, 41.813711375], [-75.074613243, 41.60571143], [-74.983340353, 41.480893493], [-74.738456011, 41.430642307], [-74.695482999, 41.3577573], [-75.131347328, 40.990668833], [-75.050754994, 40.865826756], [-75.204062015, 40.692101419], [-75.1943551, 40.576479435], [-75.067905039, 40.541244596], [-75.058489144, 40.418364555], [-74.722303748, 40.149699748], [-75.254503638, 39.852608889], [-75.422442108, 39.806374311], [-75.632292777, 39.83086288], [-75.788602531, 39.722128808], [-79.476759285, 39.721131027], [-80.51944524, 39.721249044], [-80.518990606, 40.638800561], [-80.521082729, 42.323235869]]]]}\",\"{\\\"type\\\": \\\"MultiPolygon\\\", \\\"coordinates\\\": [[[[-75.788602531, 39.722128808], [-75.632292777, 39.83086288], [-75.422442108, 39.806374311], [-75.611002743, 39.624768645], [-75.588334054, 39.458169937], [-75.405644774, 39.259044081], [-75.454241037, 39.244493097], [-75.403858423, 39.239490777], [-75.403949618, 39.065569639], [-75.30609861, 38.916244358], [-75.088100731, 38.794647753], [-75.062049776, 38.608856499], [-75.077870786, 38.694397509], [-75.184078217, 38.715426028], [-75.097119659, 38.620379269], [-75.285044611, 38.591230363], [-75.059776604, 38.607719243], [-75.050588697, 38.451260626], [-75.693655014, 38.460091799], [-75.788602531, 39.722128808]]]]}\",\"{\\\"type\\\": \\\"MultiPolygon\\\", \\\"coordinates\\\": [[[[-77.520547807, 39.121347517], [-77.457580268, 39.225084633], [-77.564341575, 39.304751605], [-77.719028592, 39.32112515], [-77.803239226, 39.437161535], [-77.765992731, 39.495723546], [-77.88871184, 39.555269927], [-77.833455652, 39.602683336], [-77.946210355, 39.584712535], [-78.176341206, 39.695993364], [-78.266333342, 39.618908018], [-78.430216312, 39.623263925], [-78.39531675, 39.58401382], [-78.47197026, 39.5158723], [-78.689288199, 39.545642138], [-78.775278479, 39.645656347], [-78.956351727, 39.440380186], [-79.103496373, 39.475856423], [-79.473098069, 39.201927781], [-79.476759285, 39.721131027], [-75.788602531, 39.722128808], [-75.693655014, 38.460091799], [-75.050588697, 38.451260626], [-75.19175604, 38.208819777], [-75.16337961, 38.2946679], [-75.275412798, 38.236270845], [-75.377916098, 38.01515758], [-75.648158044, 37.966444641], [-75.758364648, 37.999254763], [-75.848755091, 37.923810929], [-75.868288279, 38.01582545], [-75.776865184, 38.071394116], [-75.863775462, 38.094430268], [-75.758344531, 38.155946732], [-75.932759196, 38.148714155], [-76.332085133, 38.474739343], [-76.16495803, 38.55391413], [-76.202369481, 38.592500389], [-76.275659502, 38.532244563], [-76.288754046, 38.628000766], [-76.046420485, 38.591194153], [-76.176948845, 38.675450385], [-76.085114032, 38.766591847], [-76.201067269, 38.67239669], [-76.298388541, 38.719008118], [-76.261218488, 38.81914705], [-76.340870708, 38.733977526], [-76.254998446, 38.861424029], [-76.199472696, 38.803815544], [-76.177192926, 38.933578134], [-76.203699857, 38.893865347], [-76.246007681, 38.973780423], [-76.201001206, 39.018468621], [-76.112500727, 39.10634324], [-76.22647047, 39.052897543], [-76.272742599, 39.169304073], [-76.185749173, 39.319180548], [-76.005562395, 39.415278733], [-75.980210155, 39.520108849], [-76.171253175, 39.664716125], [-76.083610654, 39.543582201], [-76.13354668, 39.488630444], [-76.059895903, 39.449077249], [-76.397895813, 39.29000482], [-76.477576196, 39.166759998], [-76.394721419, 39.011604935], [-76.50946632, 38.869722784], [-76.541682333, 38.901702762], [-76.551284641, 38.822961152], [-76.489671618, 38.838917613], [-76.566248685, 38.768285662], [-76.505670995, 38.503723294], [-76.380378306, 38.384456187], [-76.422549337, 38.304875046], [-76.321546733, 38.038158864], [-76.450582445, 38.212031722], [-76.464106143, 38.128663301], [-76.492813437, 38.130800139], [-76.530372798, 38.133595884], [-76.555223465, 38.210804611], [-76.685678065, 38.233188987], [-76.626826376, 38.284377605], [-76.71946317, 38.233231902], [-76.728987694, 38.319129646], [-76.775322855, 38.227263987], [-76.841240823, 38.33642453], [-76.789120138, 38.364968598], [-76.931750625, 38.417150974], [-76.833457053, 38.273368478], [-76.924444288, 38.290016949], [-77.023665905, 38.505738974], [-77.091430575, 38.4077847], [-77.244497538, 38.378564715], [-77.263244838, 38.511625081], [-77.136313319, 38.588145822], [-77.207361013, 38.563804775], [-77.191472948, 38.619235307], [-77.046165615, 38.714460433], [-77.038935721, 38.791630268], [-76.90936625, 38.892862201], [-77.041023821, 38.995852321], [-77.119766772, 38.934279531], [-77.520547807, 39.121347517]]], [[[-76.342174262, 38.955513239], [-76.337517912, 38.950547733], [-76.375200301, 38.839078546], [-76.342174262, 38.955513239]]], [[[-76.308138371, 39.037456065], [-76.248365343, 38.97153005], [-76.292888671, 38.902955353], [-76.337517912, 38.950547733], [-76.308138371, 39.037456065]]], [[[-76.040507555, 37.953992486], [-76.040349305, 37.953991145], [-76.037976891, 37.953973711], [-76.044174135, 37.953773886], [-76.040507555, 37.953992486]]], [[[-76.025243104, 37.95371756], [-76.025143787, 37.953714824], [-76.026518494, 37.953713536], [-76.025243104, 37.95371756]]], [[[-76.019361019, 37.953720242], [-76.024610102, 37.953700125], [-76.025143787, 37.953714824], [-76.019361019, 37.953720242]]], [[[-75.252816528, 38.026451021], [-75.090182126, 38.322448879], [-75.24520576, 38.026908338], [-75.252816528, 38.026451021]]]]}\",\"{\\\"type\\\": \\\"MultiPolygon\\\", \\\"coordinates\\\": [[[[-116.049231738, 49.000844657], [-114.068207145, 48.998871893], [-110.005077571, 48.9996095], [-104.048736244, 48.99987638], [-104.045442492, 45.945309699], [-104.057756513, 44.997541755], [-111.054585725, 45.000937432], [-111.055267006, 44.840352237], [-111.053150743, 44.478076994], [-111.384824663, 44.754953384], [-111.516310573, 44.643997103], [-111.468002647, 44.538951069], [-112.286568582, 44.568558633], [-112.386523783, 44.447308034], [-112.78080985, 44.484660476], [-112.854267508, 44.359587729], [-113.004506081, 44.452826679], [-113.131459057, 44.772757888], [-113.341276199, 44.784664214], [-113.455071598, 44.865424186], [-113.498818427, 44.942202419], [-113.44393909, 44.959380627], [-113.452043384, 45.059173554], [-113.691886514, 45.262502432], [-113.76602143, 45.520620793], [-113.834778517, 45.520657003], [-113.806431592, 45.601630211], [-113.935259432, 45.694340765], [-114.330047071, 45.459722579], [-114.456077367, 45.56224063], [-114.564936161, 45.557710379], [-114.495147765, 45.703969896], [-114.56646502, 45.773310363], [-114.387867451, 45.883926004], [-114.527358413, 46.145410538], [-114.444090575, 46.16927281], [-114.470719546, 46.266041547], [-114.32074517, 46.647062749], [-114.60573256, 46.635899395], [-114.665375501, 46.739234179], [-114.7667858, 46.696902215], [-114.787500501, 46.782775819], [-114.89518851, 46.801630408], [-114.925143421, 46.918680668], [-115.319786221, 47.256684601], [-115.759303719, 47.423862666], [-115.629487485, 47.479609698], [-115.755619705, 47.547933608], [-115.687758476, 47.595300078], [-115.72264865, 47.695118487], [-116.049108356, 47.976841629], [-116.049231738, 49.000844657]]]]}\",\"{\\\"type\\\": \\\"MultiPolygon\\\", \\\"coordinates\\\": [[[[-116.917429268, 45.996560007], [-116.982479542, 46.089388579], [-116.921869665, 46.167808324], [-117.062747329, 46.353623718], [-117.032349855, 48.99919644], [-116.049231738, 49.000844657], [-116.049108356, 47.976841629], [-115.72264865, 47.695118487], [-115.687758476, 47.595300078], [-115.755619705, 47.547933608], [-115.629487485, 47.479609698], [-115.759303719, 47.423862666], [-115.319786221, 47.256684601], [-114.925143421, 46.918680668], [-114.89518851, 46.801630408], [-114.787500501, 46.782775819], [-114.7667858, 46.696902215], [-114.665375501, 46.739234179], [-114.60573256, 46.635899395], [-114.32074517, 46.647062749], [-114.470719546, 46.266041547], [-114.444090575, 46.16927281], [-114.527358413, 46.145410538], [-114.387867451, 45.883926004], [-114.56646502, 45.773310363], [-114.495147765, 45.703969896], [-114.564936161, 45.557710379], [-114.456077367, 45.56224063], [-114.330047071, 45.459722579], [-113.935259432, 45.694340765], [-113.806431592, 45.601630211], [-113.834778517, 45.520657003], [-113.76602143, 45.520620793], [-113.691886514, 45.262502432], [-113.452043384, 45.059173554], [-113.44393909, 44.959380627], [-113.498818427, 44.942202419], [-113.455071598, 44.865424186], [-113.341276199, 44.784664214], [-113.131459057, 44.772757888], [-113.004506081, 44.452826679], [-112.854267508, 44.359587729], [-112.78080985, 44.484660476], [-112.386523783, 44.447308034], [-112.286568582, 44.568558633], [-111.468002647, 44.538951069], [-111.516310573, 44.643997103], [-111.384824663, 44.754953384], [-111.053150743, 44.478076994], [-111.046679914, 42.001672536], [-114.04150039, 41.993802935], [-117.02626124, 42.000263035], [-117.026870102, 43.832478672], [-116.935240477, 43.990938216], [-116.977351159, 44.085364044], [-116.893801689, 44.161918312], [-116.97641775, 44.242827147], [-117.198146582, 44.273828119], [-117.242684662, 44.39654991], [-117.062272578, 44.7271429], [-116.851222962, 44.889380336], [-116.848240346, 45.022184551], [-116.463568658, 45.604170263], [-116.547629088, 45.752489716], [-116.782676429, 45.825376064], [-116.917429268, 45.996560007]]]]}\",\"{\\\"type\\\": \\\"MultiPolygon\\\", \\\"coordinates\\\": [[[[-91.217705458, 43.500549942], [-91.244544983, 43.7753959], [-91.432522237, 43.996827006], [-91.871404052, 44.197736531], [-91.97025016, 44.365829229], [-92.232472301, 44.445434511], [-92.336114198, 44.554003626], [-92.548059672, 44.567791522], [-92.80655086, 44.750157595], [-92.762601525, 45.288250297], [-92.646461874, 45.44175446], [-92.770522088, 45.567289889], [-92.883245945, 45.574896634], [-92.869492918, 45.716261119], [-92.707563937, 45.894949883], [-92.294033021, 46.074377596], [-92.292028069, 46.667969227], [-92.207091898, 46.651940346], [-92.116414458, 46.748652756], [-92.020289451, 46.704039574], [-90.662777871, 47.302499413], [-89.95710209, 47.291102707], [-90.418620408, 46.566359103], [-90.216636658, 46.501637399], [-90.120263547, 46.33699134], [-89.091740996, 46.138388515], [-88.670827299, 45.988546908], [-88.514691889, 46.020018607], [-88.102460504, 45.921546668], [-88.130128831, 45.80970794], [-87.78141886, 45.681483597], [-87.833732665, 45.561045706], [-87.792768627, 45.499966443], [-87.88805142, 45.354696661], [-87.6573506, 45.368754119], [-87.741809338, 45.197469592], [-87.659952343, 45.107512325], [-87.44250834, 45.076433569], [-87.40569368, 45.201968998], [-87.10113287, 45.444230139], [-86.754236072, 45.443610549], [-86.249547601, 45.236125588], [-86.686287671, 44.881002456], [-87.013234198, 44.131904393], [-87.147166282, 43.379858583], [-87.019924968, 42.493499815], [-90.641045272, 42.507989109], [-90.709204227, 42.636078], [-91.06468007, 42.750914097], [-91.178251505, 43.124981672], [-91.057918221, 43.255366534], [-91.206619889, 43.352524191], [-91.217705458, 43.500549942]]]]}\",\"{\\\"type\\\": \\\"MultiPolygon\\\", \\\"coordinates\\\": [[[[-96.561367214, 45.935035497], [-96.599378139, 46.329984069], [-96.798195541, 46.629573405], [-96.752848774, 46.924014241], [-96.839327216, 47.006950825], [-96.851049811, 47.598526776], [-97.142132521, 48.144981265], [-97.127023637, 48.52038458], [-97.175432146, 48.562350422], [-97.090266645, 48.684542477], [-97.228821516, 49.000461102], [-95.15319407, 48.998861164], [-95.15338853, 49.384471625], [-94.816277772, 49.321388751], [-94.641278386, 48.741221577], [-93.84436056, 48.63022238], [-93.793361038, 48.51630494], [-93.467389494, 48.546444923], [-93.254666179, 48.642805964], [-92.954777777, 48.631555438], [-92.634889483, 48.54255572], [-92.712695003, 48.462971896], [-92.4564448, 48.414083272], [-92.369916737, 48.220277578], [-92.269583344, 48.248194009], [-92.262555957, 48.354916424], [-92.055222541, 48.359360844], [-91.958361268, 48.23313877], [-91.559110433, 48.108583689], [-91.567500383, 48.043777496], [-91.266777813, 48.078833967], [-90.885749906, 48.245944977], [-90.751583129, 48.090972304], [-90.140833408, 48.112611026], [-89.897194952, 47.987667024], [-89.483385086, 48.013716638], [-89.95710209, 47.291102707], [-90.662777871, 47.302499413], [-92.020289451, 46.704039574], [-92.116414458, 46.748652756], [-92.207091898, 46.651940346], [-92.292028069, 46.667969227], [-92.294033021, 46.074377596], [-92.707563937, 45.894949883], [-92.869492918, 45.716261119], [-92.883245945, 45.574896634], [-92.770522088, 45.567289889], [-92.646461874, 45.44175446], [-92.762601525, 45.288250297], [-92.80655086, 44.750157595], [-92.548059672, 44.567791522], [-92.336114198, 44.554003626], [-92.232472301, 44.445434511], [-91.97025016, 44.365829229], [-91.871404052, 44.197736531], [-91.432522237, 43.996827006], [-91.244544983, 43.7753959], [-91.217705458, 43.500549942], [-96.453307718, 43.500386328], [-96.45306766, 45.298115462], [-96.692540646, 45.417338312], [-96.857515275, 45.605857372], [-96.583250016, 45.819072872], [-96.561367214, 45.935035497]]]]}\",\"{\\\"type\\\": \\\"MultiPolygon\\\", \\\"coordinates\\\": [[[[-114.632961005, 35.001888871], [-117.22693339, 37.016701251], [-120.001014769, 38.999595344], [-120.00572741, 39.223457873], [-119.999442995, 41.994894594], [-117.02626124, 42.000263035], [-114.04150039, 41.993802935], [-114.052882344, 37.549260557], [-114.050051272, 37.000190914], [-114.046654254, 36.1940597], [-114.148190618, 36.028013527], [-114.252650589, 36.020193547], [-114.405474812, 36.147370487], [-114.755618423, 36.087165624], [-114.662209153, 35.872348845], [-114.7114411, 35.806756765], [-114.678812027, 35.497923195], [-114.569734633, 35.185522288], [-114.645979106, 35.103406459], [-114.632961005, 35.001888871]]]]}\",\"{\\\"type\\\": \\\"MultiPolygon\\\", \\\"coordinates\\\": [[[[-122.53422305, 37.89605543], [-122.471694052, 37.836648524], [-122.527970821, 37.815335691], [-122.925814837, 38.029259294], [-122.879942358, 38.038872331], [-122.929006666, 38.09164077], [-122.964354157, 37.989955544], [-123.024026603, 37.994799614], [-122.95027256, 38.152441084], [-122.995208949, 38.240943253], [-122.823794335, 38.072890788], [-122.972536236, 38.232242167], [-122.960761338, 38.316454142], [-123.061668724, 38.299629986], [-123.129524589, 38.45091328], [-123.727866411, 38.918799162], [-123.691301197, 39.050727636], [-123.827702254, 39.349339306], [-123.765536696, 39.559364319], [-123.851828724, 39.832737744], [-124.363126159, 40.260496438], [-124.409690648, 40.438233018], [-124.328017384, 40.615681261], [-124.208974242, 40.616449714], [-124.304219484, 40.640278459], [-124.270306975, 40.684475899], [-124.308360815, 40.648646951], [-124.24432978, 40.764829516], [-124.212835282, 40.674728751], [-124.185377508, 40.797635615], [-124.082925171, 40.831439495], [-124.124857485, 40.912604481], [-124.239403903, 40.769067407], [-124.133565779, 40.951714758], [-124.165522456, 41.12977758], [-124.074343443, 41.286752522], [-124.081979692, 41.546330005], [-124.040677696, 41.521355957], [-124.161033779, 41.737106144], [-124.254354537, 41.770749092], [-124.205288887, 41.946392208], [-124.156789184, 41.896862537], [-124.213352948, 41.998554468], [-119.999442995, 41.994894594], [-120.00572741, 39.223457873], [-120.001014769, 38.999595344], [-117.22693339, 37.016701251], [-114.632961005, 35.001888871], [-114.633581936, 34.871618003], [-114.469869286, 34.710430652], [-114.385775328, 34.456904233], [-114.13078174, 34.261938483], [-114.416719973, 34.107010067], [-114.534388483, 33.93816635], [-114.524175972, 33.552963585], [-114.72538054, 33.405411243], [-114.731474519, 33.30327943], [-114.672287554, 33.25971365], [-114.706819654, 33.088846207], [-114.509588778, 33.022000194], [-114.469154477, 32.844391018], [-114.539008588, 32.749860585], [-114.719961137, 32.718655765], [-117.124258429, 32.534343749], [-117.227865458, 32.6963076], [-117.115164399, 32.599360496], [-117.115700841, 32.674528062], [-117.208760083, 32.740989178], [-117.255571336, 32.699519545], [-117.205297351, 32.771206945], [-117.28102684, 32.821938246], [-117.271986455, 33.090851158], [-118.075462282, 33.74450013], [-118.248399792, 33.742765442], [-118.411583304, 33.741128594], [-118.390805572, 33.840791434], [-118.526865989, 34.030964077], [-118.806857765, 34.00021255], [-119.126982093, 34.099808335], [-119.265558422, 34.260739535], [-119.56283167, 34.414781481], [-120.452818125, 34.442157447], [-120.6507276, 34.577072561], [-120.600603819, 34.704835564], [-120.671666265, 34.902842939], [-120.644735545, 35.138827711], [-120.857056528, 35.205972791], [-120.899781436, 35.255206078], [-120.862666368, 35.368357748], [-120.866476446, 35.311706811], [-120.827695727, 35.338208377], [-120.887428522, 35.432976186], [-121.286606938, 35.66483438], [-121.501985639, 35.999065787], [-121.902544051, 36.306137145], [-121.978654414, 36.581176221], [-121.845360696, 36.626138091], [-121.749218255, 36.858469695], [-121.791122407, 36.806796938], [-121.899927557, 36.964650303], [-122.105859518, 36.9560498], [-122.337421328, 37.11761266], [-122.517929971, 37.523819804], [-122.514712662, 37.781128138], [-122.410429716, 37.81142503], [-122.357924134, 37.588805705], [-122.131823301, 37.504746616], [-122.12598145, 37.431478053], [-121.924485862, 37.448012531], [-122.106909603, 37.500339746], [-122.161818445, 37.667603642], [-122.261152714, 37.740335763], [-122.210689634, 37.751218826], [-122.341283709, 37.803650647], [-122.309785187, 37.893577069], [-122.429201156, 37.964781672], [-122.243582904, 38.05820033], [-122.164435486, 38.050918943], [-122.404347807, 38.152781725], [-122.492776215, 38.110099733], [-122.447023094, 37.985607684], [-122.547626048, 37.949047834], [-122.437970638, 37.882212549], [-122.53422305, 37.89605543]], [[-124.128738642, 40.92481792], [-124.120327234, 40.974560827], [-124.133565779, 40.951714758], [-124.128738642, 40.92481792]], [[-122.138302177, 38.039823174], [-122.130580381, 38.047804348], [-122.164435486, 38.050918943], [-122.138302177, 38.039823174]], [[-121.697871387, 38.007996082], [-121.69344306, 38.055697829], [-121.790147424, 38.055787683], [-121.700831205, 38.10959816], [-121.891341805, 38.053439409], [-122.044198215, 38.13708812], [-122.130580381, 38.047804348], [-121.697871387, 38.007996082]]], [[[-120.452576727, 34.02960822], [-120.3681086, 34.076619297], [-120.305448174, 34.020174891], [-120.452576727, 34.02960822]]], [[[-119.96778354, 33.942642957], [-120.115435123, 33.894184828], [-120.250622481, 34.001309574], [-120.04300341, 34.036007971], [-119.96778354, 33.942642957]]], [[[-119.929913431, 34.059670419], [-119.52028513, 34.034119695], [-119.818105549, 33.959841281], [-119.929913431, 34.059670419]]], [[[-118.501005471, 33.435722888], [-118.498557291, 33.428319597], [-118.606280833, 33.479031175], [-118.501005471, 33.435722888]]], [[[-118.325402588, 33.298758566], [-118.464569002, 33.325539082], [-118.498557291, 33.428319597], [-118.322016299, 33.345211744], [-118.325402588, 33.298758566]]], [[[-118.60738188, 33.032311946], [-118.348676115, 32.820310146], [-118.46794188, 32.833572328], [-118.60738188, 33.032311946]]]]}\",\"{\\\"type\\\": \\\"MultiPolygon\\\", \\\"coordinates\\\": [[[[-124.213352948, 41.998554468], [-124.354026765, 42.103538811], [-124.433400035, 42.323663682], [-124.401948452, 42.627654523], [-124.566487223, 42.836235166], [-124.179177582, 43.762778789], [-124.074253589, 44.797659516], [-123.969743997, 45.160441697], [-124.008452296, 45.339286029], [-123.931488991, 45.402321965], [-123.962291479, 45.567224175], [-123.881679028, 45.496813506], [-123.964855671, 45.570425391], [-123.993476182, 45.946281999], [-123.915662616, 46.01523757], [-124.021062702, 46.228289455], [-123.858272731, 46.152137518], [-123.500592113, 46.234819293], [-123.345563114, 46.120028794], [-123.176294267, 46.182040125], [-122.959994227, 46.103849709], [-122.813997567, 45.960984528], [-122.763981074, 45.657257885], [-122.29677245, 45.543722659], [-121.811303347, 45.706760734], [-121.337770075, 45.704948902], [-121.167852134, 45.60609743], [-120.634968281, 45.745847225], [-120.403960347, 45.699249208], [-119.600548893, 45.919580609], [-119.126119763, 45.932858884], [-118.987129033, 45.999855101], [-116.917429268, 45.996560007], [-116.782676429, 45.825376064], [-116.547629088, 45.752489716], [-116.463568658, 45.604170263], [-116.848240346, 45.022184551], [-116.851222962, 44.889380336], [-117.062272578, 44.7271429], [-117.242684662, 44.39654991], [-117.198146582, 44.273828119], [-116.97641775, 44.242827147], [-116.893801689, 44.161918312], [-116.977351159, 44.085364044], [-116.935240477, 43.990938216], [-117.026870102, 43.832478672], [-117.02626124, 42.000263035], [-119.999442995, 41.994894594], [-124.213352948, 41.998554468]]]]}\",\"{\\\"type\\\": \\\"MultiPolygon\\\", \\\"coordinates\\\": [[[[-123.291775435, 46.152168363], [-123.45618546, 46.270038038], [-123.696037978, 46.306495965], [-123.874989599, 46.240726858], [-123.996854424, 46.312092394], [-124.076101631, 46.270872205], [-124.065529704, 46.648292542], [-124.015804231, 46.383099854], [-123.949278742, 46.37219131], [-123.891524076, 46.513802558], [-123.960553408, 46.636486799], [-123.828637004, 46.709762067], [-124.090983868, 46.744219065], [-124.158014953, 46.905966997], [-124.021183401, 46.8325831], [-124.046814591, 46.893677115], [-123.846218884, 46.961524934], [-124.012372345, 46.985212862], [-124.038887322, 47.058144808], [-124.148025066, 47.030760795], [-124.099624604, 46.931034923], [-124.180178046, 46.926532835], [-124.201457351, 47.203788757], [-124.320996702, 47.355102897], [-124.423990846, 47.737175524], [-124.676667005, 47.967417687], [-124.733375609, 48.16401422], [-124.657949209, 48.326025009], [-124.731842726, 48.381033093], [-123.980962336, 48.164585531], [-123.318168372, 48.113012016], [-123.101515621, 48.18482548], [-123.186989576, 48.146012574], [-123.065633029, 48.119937479], [-123.007592708, 48.021642566], [-123.040992916, 48.080350757], [-122.915468216, 48.095365763], [-122.888455689, 47.991336286], [-122.826591879, 48.043687642], [-122.884503454, 48.105491102], [-122.754195035, 48.144215494], [-122.801109552, 48.086295873], [-122.678720355, 47.967856228], [-122.701202631, 47.914037704], [-122.609994113, 47.887371182], [-122.693546265, 47.867970765], [-122.784807086, 47.687157691], [-122.832368016, 47.69242689], [-122.803951353, 47.851441652], [-122.842369974, 47.779536992], [-122.864236683, 47.823565453], [-122.904113084, 47.646374702], [-122.953975935, 47.589334175], [-122.752680928, 47.667813599], [-122.608109862, 47.856555283], [-122.563882917, 47.82166779], [-122.617114037, 47.938884348], [-122.525755316, 47.912091762], [-122.472167462, 47.74994418], [-122.558951676, 47.770858705], [-122.589394748, 47.690510452], [-122.652831674, 47.746344656], [-122.608104497, 47.568650991], [-122.685420513, 47.650411427], [-122.709152699, 47.612771988], [-122.622876763, 47.568946034], [-122.698383629, 47.526714653], [-122.555004805, 47.590411752], [-122.4953565, 47.51053825], [-122.592549026, 47.337302417], [-122.551336051, 47.2887718], [-122.54430145, 47.318870276], [-122.360720336, 47.260734737], [-122.444414645, 47.30578512], [-122.323886901, 47.349462211], [-122.420851439, 47.576241642], [-122.33622238, 47.601027936], [-122.436020672, 47.66197443], [-122.307520062, 47.948088348], [-122.183903754, 48.047700226], [-122.343350351, 48.098222315], [-122.368264172, 48.19058738], [-122.374085784, 48.189153224], [-122.368133962, 48.239621669], [-122.478854209, 48.17560941], [-122.356904894, 48.056157231], [-122.51137197, 48.132934123], [-122.530327141, 48.250063509], [-122.381019294, 48.239231408], [-122.365705222, 48.327655792], [-122.508633435, 48.360874951], [-122.474074513, 48.518501669], [-122.560624033, 48.582778126], [-122.419154942, 48.596592844], [-122.511040717, 48.666524738], [-122.482459098, 48.7548244], [-122.582965493, 48.788153529], [-122.67236352, 48.731923699], [-122.646115422, 48.783446252], [-122.793170214, 48.892464638], [-122.748347819, 48.933401853], [-122.822140753, 48.942113668], [-122.733185291, 48.962133676], [-122.760867029, 49.002085179], [-117.032349855, 48.99919644], [-117.062747329, 46.353623718], [-116.921869665, 46.167808324], [-116.982479542, 46.089388579], [-116.917429268, 45.996560007], [-118.987129033, 45.999855101], [-119.126119763, 45.932858884], [-119.600548893, 45.919580609], [-120.403960347, 45.699249208], [-120.634968281, 45.745847225], [-121.167852134, 45.60609743], [-121.337770075, 45.704948902], [-121.811303347, 45.706760734], [-122.29677245, 45.543722659], [-122.763981074, 45.657257885], [-122.813997567, 45.960984528], [-122.959994227, 46.103849709], [-123.087908993, 46.173862935], [-123.291775435, 46.152168363]], [[-122.964507043, 47.585228384], [-123.036551732, 47.494871726], [-122.953975935, 47.589334175], [-122.964507043, 47.585228384]], [[-123.159741014, 47.353949547], [-123.073852313, 47.375325001], [-123.118849397, 47.391656041], [-123.036551732, 47.494871726], [-123.159741014, 47.353949547]], [[-123.029781282, 47.359330058], [-122.842066884, 47.43301034], [-123.073852313, 47.375325001], [-123.029781282, 47.359330058]], [[-122.552147576, 47.28529958], [-122.548461556, 47.28538692], [-122.551336051, 47.2887718], [-122.552147576, 47.28529958]], [[-122.694769353, 47.281920165], [-122.628896981, 47.411912084], [-122.7356489, 47.345212251], [-122.770088464, 47.167526633], [-122.830894142, 47.24394545], [-122.764367312, 47.341376692], [-122.81893149, 47.406591922], [-122.936110497, 47.205328345], [-123.069628179, 47.21039772], [-123.019299209, 47.261677533], [-123.095189631, 47.209484428], [-122.938193232, 47.198362648], [-123.080488443, 47.091734111], [-122.919011414, 47.173782885], [-122.992105633, 47.035533786], [-122.926016003, 47.147010416], [-122.910598665, 47.043761462], [-122.900710702, 47.144585699], [-122.841707468, 47.163886875], [-122.822280228, 47.091585249], [-122.815144211, 47.178058326], [-122.684908211, 47.097089142], [-122.574956417, 47.187708914], [-122.552147576, 47.28529958], [-122.694769353, 47.281920165]], [[-122.306472659, 48.205809742], [-122.369327545, 48.194529712], [-122.368264172, 48.19058738], [-122.306472659, 48.205809742]], [[-123.036435843, 46.179340482], [-123.115923107, 46.189196259], [-123.087908993, 46.173862935], [-123.036435843, 46.179340482]]], [[[-122.926285565, 48.710900545], [-122.742728591, 48.661919385], [-122.830164582, 48.60038951], [-122.910244614, 48.69411394], [-122.873266339, 48.594748825], [-123.027257323, 48.61125648], [-122.926285565, 48.710900545]]], [[[-122.96287626, 48.450099975], [-123.13485682, 48.499462008], [-123.169911951, 48.597699255], [-123.014318347, 48.560688794], [-122.96287626, 48.450099975]]], [[[-122.858846784, 48.539552987], [-122.813776284, 48.421333283], [-122.945510298, 48.465475738], [-122.919769138, 48.550882638], [-122.858846784, 48.539552987]]], [[[-122.854945511, 47.177715003], [-122.909191847, 47.21989274], [-122.849906981, 47.301733643], [-122.854945511, 47.177715003]]], [[[-122.702110559, 48.02219376], [-122.748192251, 48.072442263], [-122.700450849, 48.038514866], [-122.702110559, 48.02219376]]], [[[-122.693860084, 48.103326559], [-122.670479268, 48.01721558], [-122.700450849, 48.038514866], [-122.693860084, 48.103326559]]], [[[-122.580674887, 48.548126668], [-122.649178505, 48.528979719], [-122.649678737, 48.58780995], [-122.580674887, 48.548126668]]], [[[-122.513718903, 47.621494532], [-122.479056716, 47.583708912], [-122.577059269, 47.600288987], [-122.553037405, 47.721256614], [-122.513718903, 47.621494532]]], [[[-122.375911027, 48.034448773], [-122.377458662, 47.906025946], [-122.480450124, 47.9964526], [-122.546590716, 47.967444509], [-122.608914524, 48.151124865], [-122.686573863, 48.174507022], [-122.769305259, 48.228951842], [-122.607778609, 48.411242813], [-122.505617291, 48.297966421], [-122.734412402, 48.228431493], [-122.605781704, 48.207382858], [-122.541140467, 48.015917391], [-122.52367124, 48.096836954], [-122.375911027, 48.034448773]]], [[[-122.547730654, 48.45333606], [-122.65674904, 48.407931626], [-122.701026946, 48.499077111], [-122.55746305, 48.500198275], [-122.510211915, 48.372810781], [-122.547730654, 48.45333606]]], [[[-122.462372035, 47.343554646], [-122.466412783, 47.402004004], [-122.518849969, 47.333806157], [-122.474075854, 47.511184663], [-122.439799905, 47.441290319], [-122.373408526, 47.388429344], [-122.462372035, 47.343554646]]]]}\",\"{\\\"type\\\": \\\"MultiPolygon\\\", \\\"coordinates\\\": [[[[-90.418620408, 46.566359103], [-89.95710209, 47.291102707], [-89.483385086, 48.013716638], [-89.337549359, 47.974261343], [-88.36986199, 48.306062669], [-88.173112571, 48.230836093], [-84.860139191, 46.888916194], [-84.762832671, 46.634306163], [-84.556833655, 46.460806131], [-84.128999859, 46.53050065], [-84.10825029, 46.241444349], [-83.955471665, 46.056750119], [-83.826332688, 46.118860692], [-83.571943939, 46.105778217], [-83.433777988, 45.998166651], [-83.597166091, 45.821277648], [-82.518610954, 45.338638276], [-82.122805417, 43.591193855], [-82.455447614, 42.926751673], [-82.518938184, 42.613792866], [-82.830250114, 42.37349242], [-83.096695393, 42.289865166], [-83.112460077, 41.95941031], [-83.415851444, 41.733793616], [-84.805980027, 41.696127355], [-84.805883467, 41.760216057], [-87.207773477, 41.760956347], [-87.019924968, 42.493499815], [-87.147166282, 43.379858583], [-87.013234198, 44.131904393], [-86.686287671, 44.881002456], [-86.249547601, 45.236125588], [-86.754236072, 45.443610549], [-87.10113287, 45.444230139], [-87.40569368, 45.201968998], [-87.44250834, 45.076433569], [-87.659952343, 45.107512325], [-87.741809338, 45.197469592], [-87.6573506, 45.368754119], [-87.88805142, 45.354696661], [-87.792768627, 45.499966443], [-87.833732665, 45.561045706], [-87.78141886, 45.681483597], [-88.130128831, 45.80970794], [-88.102460504, 45.921546668], [-88.514691889, 46.020018607], [-88.670827299, 45.988546908], [-89.091740996, 46.138388515], [-90.120263547, 46.33699134], [-90.216636658, 46.501637399], [-90.418620408, 46.566359103]]]]}\",\"{\\\"type\\\": \\\"MultiPolygon\\\", \\\"coordinates\\\": [[[[-71.86032638, 41.320260018], [-71.959617734, 41.389210224], [-72.004870623, 41.306437254], [-72.084964067, 41.363253146], [-72.165563107, 41.304162741], [-72.192900181, 41.368905902], [-72.205507904, 41.28562063], [-72.388441265, 41.260454804], [-72.89349854, 41.241974384], [-72.910141647, 41.298603863], [-73.111724406, 41.200667024], [-73.103562444, 41.151384115], [-73.187129349, 41.184026599], [-73.353245258, 41.102231294], [-73.366692513, 41.151150763], [-73.433309197, 41.055460274], [-73.659686297, 40.988233387], [-73.727775514, 41.100695729], [-73.482695371, 41.212771833], [-73.550961614, 41.295421422], [-73.48735705, 42.049532533], [-71.799188107, 42.008053511], [-71.79774642, 41.416780651], [-71.86032638, 41.320260018]]]]}\",\"{\\\"type\\\": \\\"MultiPolygon\\\", \\\"coordinates\\\": [[[[-83.108569533, 35.001361817], [-82.39208445, 35.215390027], [-81.034222841, 35.149206519], [-81.041608304, 35.044658035], [-80.934743732, 35.107325166], [-80.78192085, 34.935847521], [-80.797460228, 34.819803089], [-79.676494002, 34.80506435], [-78.541616499, 33.851708025], [-78.936713934, 33.640978932], [-79.141495228, 33.397473246], [-79.191297144, 33.172883838], [-79.301789403, 33.174711764], [-79.246267676, 33.125882149], [-79.316182137, 33.147648275], [-79.274687022, 33.126804829], [-79.361557066, 33.008750081], [-79.528682828, 33.038199395], [-79.617635608, 32.953108996], [-79.579462409, 32.909034938], [-79.726290554, 32.805402428], [-79.962665588, 32.781347036], [-79.869454801, 32.731879056], [-80.000166893, 32.603880018], [-80.333545357, 32.477962375], [-80.478616655, 32.497425824], [-80.453017652, 32.322368771], [-80.63060537, 32.25655809], [-80.773984194, 32.30296433], [-80.667424053, 32.217900753], [-80.849422663, 32.034107745], [-81.11722514, 32.11760357], [-81.1872603, 32.464225441], [-81.418663859, 32.629398555], [-81.491957903, 33.009098768], [-81.751638651, 33.147870898], [-81.939983368, 33.345049471], [-81.928711385, 33.464853019], [-82.556835115, 33.945353329], [-82.876610756, 34.475074857], [-83.03921029, 34.486388415], [-83.342002183, 34.68029201], [-83.306010962, 34.816326946], [-83.111965209, 34.934908748], [-83.108569533, 35.001361817]]]]}\",\"{\\\"type\\\": \\\"MultiPolygon\\\", \\\"coordinates\\\": [[[[-77.081114799, 37.216347456], [-76.993504465, 37.29534924], [-77.040676475, 37.198546976], [-76.975406259, 37.239395678], [-76.732235849, 37.145282328], [-76.686229259, 37.197504938], [-76.663618237, 37.046809047], [-76.479913741, 36.914065182], [-76.355022043, 36.923514605], [-76.297711283, 36.755727679], [-76.330725253, 36.963977069], [-76.009718478, 36.92966491], [-75.867028981, 36.550413966], [-81.677456796, 36.58815667], [-83.675367236, 36.600771099], [-83.136394769, 36.743087769], [-83.072590381, 36.854588538], [-82.878568769, 36.889584661], [-82.722096741, 37.120167464], [-82.34873727, 37.267939746], [-81.967705339, 37.537783384], [-81.925642937, 37.357316315], [-81.678210497, 37.201482654], [-81.362156421, 37.337674499], [-81.225103587, 37.234873474], [-80.900534838, 37.315000445], [-80.859556049, 37.429568321], [-80.77008158, 37.372363508], [-80.511390567, 37.481674254], [-80.464819372, 37.426144481], [-80.299788415, 37.508271039], [-80.328504145, 37.564314455], [-80.220863074, 37.627774179], [-80.306964666, 37.689621896], [-79.789105207, 38.268207908], [-79.649199843, 38.591528088], [-79.476574212, 38.457126617], [-79.282971025, 38.418095112], [-78.998171389, 38.84735316], [-78.869276494, 38.762990981], [-78.403697312, 39.167450666], [-78.347086608, 39.466011375], [-77.828148901, 39.132281542], [-77.719028592, 39.32112515], [-77.564341575, 39.304751605], [-77.457580268, 39.225084633], [-77.520547807, 39.121347517], [-77.119766772, 38.934279531], [-77.038935721, 38.791630268], [-77.046165615, 38.714460433], [-77.191472948, 38.619235307], [-77.200440913, 38.618901372], [-77.257507592, 38.560183793], [-77.261588573, 38.557376862], [-77.264659703, 38.555263281], [-77.276575416, 38.547065109], [-77.276849002, 38.545761555], [-77.278758734, 38.536674231], [-77.279237509, 38.534397036], [-77.284097672, 38.524873853], [-77.290087044, 38.517322093], [-77.307509333, 38.497390598], [-77.310227752, 38.495306522], [-77.323338389, 38.43487367], [-77.310825884, 38.399943262], [-77.305044383, 38.37536484], [-77.304288, 38.374880701], [-77.299812734, 38.372010738], [-77.299481481, 38.371798843], [-77.296375483, 38.369807303], [-77.29628697, 38.369750977], [-77.296093851, 38.369553834], [-77.295872569, 38.369134068], [-77.295577526, 38.368572146], [-77.295444757, 38.368320018], [-77.29543671, 38.368303925], [-77.293792516, 38.365176469], [-77.293590009, 38.364791572], [-77.293490767, 38.364602476], [-77.287399471, 38.35301131], [-77.281009108, 38.340848833], [-77.280327827, 38.339551985], [-77.280031443, 38.338988721], [-77.277374715, 38.337804526], [-77.272599041, 38.335674852], [-77.270996422, 38.334960043], [-77.267333865, 38.333326578], [-77.262147814, 38.332213461], [-77.257519662, 38.331864774], [-77.256264389, 38.331769556], [-77.253248245, 38.331542909], [-77.251184285, 38.331387341], [-77.250047028, 38.33130151], [-77.247804701, 38.33113119], [-77.246190012, 38.331010491], [-77.246100157, 38.331003785], [-77.245139927, 38.330931365], [-77.241214514, 38.33098501], [-77.222300917, 38.335843831], [-77.220003605, 38.336433917], [-77.216992825, 38.337207735], [-77.207999378, 38.339517117], [-77.206120491, 38.339999914], [-77.202777117, 38.340532333], [-77.18273297, 38.34122166], [-77.182695419, 38.341223001], [-77.178474963, 38.341367841], [-77.178005576, 38.341467083], [-77.170869559, 38.343866318], [-77.169358134, 38.344375938], [-77.14900285, 38.357348442], [-77.138109058, 38.367707133], [-77.112178802, 38.369040191], [-77.09210515, 38.367130458], [-77.081077248, 38.370123804], [-77.080071419, 38.370634764], [-77.057829201, 38.3945252], [-77.055927515, 38.396567702], [-77.055562735, 38.396814466], [-77.013347447, 38.373515457], [-77.016195953, 38.37099418], [-77.016280442, 38.370477855], [-77.016261667, 38.369987011], [-77.015579045, 38.351812363], [-77.015057355, 38.337895721], [-77.014986277, 38.335996717], [-77.014896423, 38.333593458], [-77.028417438, 38.308301568], [-77.022772729, 38.300902694], [-77.017351985, 38.298709989], [-77.017067671, 38.298393488], [-77.016275078, 38.297512382], [-77.012376487, 38.293172568], [-77.010372877, 38.290942311], [-77.002790272, 38.282502741], [-76.981653124, 38.274626434], [-76.981292367, 38.274501711], [-76.980722398, 38.273980021], [-76.979409456, 38.272778392], [-76.978073716, 38.271553963], [-76.976721883, 38.270314783], [-76.973212212, 38.267101496], [-76.972982883, 38.266890943], [-76.96933642, 38.263550252], [-76.96915403, 38.263383955], [-76.968384236, 38.262678534], [-76.966667622, 38.261106759], [-76.962048858, 38.256875575], [-76.961389035, 38.255032897], [-76.961344779, 38.254873306], [-76.960961223, 38.253485262], [-76.960861981, 38.253125846], [-76.958985776, 38.246333152], [-76.958511025, 38.233615458], [-76.960074753, 38.231947124], [-77.036902606, 38.199904114], [-76.933606714, 38.201797754], [-76.926828772, 38.200932741], [-76.915441453, 38.199024349], [-76.913727522, 38.197964877], [-76.901746094, 38.189985305], [-76.900681257, 38.189240992], [-76.883773953, 38.177417815], [-76.878709942, 38.173877299], [-76.878602654, 38.173819631], [-76.859105676, 38.171031475], [-76.857769936, 38.169833869], [-76.855950058, 38.168036789], [-76.838318557, 38.16348508], [-76.802049726, 38.168408275], [-76.798172593, 38.168557137], [-76.795277148, 38.168359995], [-76.705844253, 38.059882075], [-76.721694767, 38.137432784], [-76.646949649, 38.092921525], [-76.625202298, 38.151482195], [-76.624483466, 38.151317239], [-76.58348456, 38.098232299], [-76.582008004, 38.096979707], [-76.58083722, 38.095621169], [-76.580386609, 38.095492423], [-76.579132676, 38.094909042], [-76.578391045, 38.094564378], [-76.550934613, 38.081802428], [-76.537507474, 38.075559586], [-76.535560191, 38.068455756], [-76.535439491, 38.067998439], [-76.535436809, 38.067991734], [-76.528335661, 38.055748791], [-76.592963487, 38.003255278], [-76.510002762, 38.024156392], [-76.502562314, 38.02122876], [-76.497491598, 38.019411564], [-76.477847099, 38.015425801], [-76.494585425, 37.931820005], [-76.443823278, 37.986007333], [-76.385257244, 37.914109379], [-76.322005391, 37.937388271], [-76.274734139, 37.915210426], [-76.273194551, 37.914488912], [-76.272572279, 37.914196551], [-76.261638254, 37.822241038], [-76.361912638, 37.796156555], [-76.288821101, 37.785581946], [-76.351857036, 37.735226154], [-76.302440017, 37.689933032], [-76.375338435, 37.682400048], [-76.278921068, 37.617347091], [-76.36977151, 37.507808357], [-76.25223577, 37.436507195], [-76.258309633, 37.361630648], [-76.308957038, 37.372634855], [-76.351643801, 37.454695255], [-76.354768574, 37.369068414], [-76.447701752, 37.428869605], [-76.423013359, 37.474084944], [-76.470882744, 37.415671796], [-76.409866512, 37.369175702], [-76.518545598, 37.414847016], [-76.403002739, 37.338237762], [-76.493650675, 37.342986614], [-76.438429356, 37.315170765], [-76.478757709, 37.281541228], [-76.381443143, 37.292382717], [-76.456865519, 37.137495875], [-76.298584342, 37.130029947], [-76.396050453, 37.10724324], [-76.336766928, 37.090753019], [-76.36248529, 37.045683861], [-76.278552264, 37.100215852], [-76.303628236, 37.001422048], [-76.331389099, 37.052051425], [-76.429279, 36.965222955], [-76.627868414, 37.125809491], [-76.650240719, 37.220787853], [-76.754983664, 37.190733701], [-77.015045285, 37.312377244], [-77.071930789, 37.280336022], [-77.090102348, 37.284216714], [-77.081114799, 37.216347456]], [[-77.246589661, 37.394745201], [-77.311122268, 37.370597273], [-77.278360426, 37.278419137], [-77.154483104, 37.297965775], [-77.262281924, 37.320987135], [-77.246589661, 37.394745201]], [[-77.090102348, 37.284216714], [-77.093203515, 37.307635099], [-77.154483104, 37.297965775], [-77.090102348, 37.284216714]]], [[[-76.275737286, 37.308773696], [-76.317386627, 37.37446636], [-76.308957038, 37.372634855], [-76.275737286, 37.308773696]]], [[[-75.99547863, 37.953456044], [-76.001312435, 37.95354858], [-76.001468003, 37.953552604], [-76.002947241, 37.953602225], [-75.99547863, 37.953456044]]], [[[-75.851148963, 37.421862334], [-75.917178243, 37.330746353], [-75.970041901, 37.11717546], [-76.025692374, 37.262793928], [-75.93395412, 37.387882769], [-75.977966487, 37.441258729], [-75.888211727, 37.478861958], [-75.887503624, 37.528540492], [-75.96271947, 37.474453747], [-75.934060067, 37.548002601], [-75.818275809, 37.572850585], [-75.93930915, 37.568486631], [-75.827085525, 37.633507401], [-75.88239938, 37.619806677], [-75.867957026, 37.668644339], [-75.786254257, 37.658371478], [-75.837949812, 37.713225335], [-75.748318434, 37.706785351], [-75.798428804, 37.80064255], [-75.693126619, 37.765482813], [-75.713177472, 37.83657074], [-75.639592409, 37.848957181], [-75.731309205, 37.919790298], [-75.648158044, 37.966444641], [-75.377916098, 38.01515758], [-75.501010716, 37.86591813], [-75.423328578, 37.870272696], [-75.542847008, 37.765878412], [-75.703202337, 37.625814825], [-75.625332445, 37.568104416], [-75.723309517, 37.561007291], [-75.846577138, 37.426828444], [-75.793590099, 37.401681393], [-75.851148963, 37.421862334]]], [[[-75.599333793, 37.572920322], [-75.673484802, 37.483252734], [-75.696907192, 37.52125293], [-75.599333793, 37.572920322]]], [[[-75.252816528, 38.026451021], [-75.24520576, 38.026908338], [-75.387884527, 37.8511177], [-75.252816528, 38.026451021]]]]}\",\"{\\\"type\\\": \\\"MultiPolygon\\\", \\\"coordinates\\\": [[[[-77.957762629, 33.841979653], [-78.238207698, 33.919596076], [-78.541616499, 33.851708025], [-79.676494002, 34.80506435], [-80.797460228, 34.819803089], [-80.78192085, 34.935847521], [-80.934743732, 35.107325166], [-81.041608304, 35.044658035], [-81.034222841, 35.149206519], [-82.39208445, 35.215390027], [-83.108569533, 35.001361817], [-84.32182923, 34.988408089], [-84.29022342, 35.22543624], [-84.052546173, 35.270192921], [-84.023418725, 35.411617756], [-83.880275935, 35.518820286], [-83.498409837, 35.562938601], [-83.159586489, 35.764659494], [-82.992116064, 35.773921162], [-82.919834554, 35.928896517], [-82.80508697, 35.927143693], [-82.637231648, 36.065825969], [-82.557991147, 35.953879952], [-82.355157137, 36.115609109], [-82.033852637, 36.120528281], [-81.9081375, 36.302013248], [-81.707438529, 36.335170716], [-81.677456796, 36.58815667], [-75.867028981, 36.550413966], [-75.474887341, 35.663788319], [-75.530333966, 35.21715492], [-75.906342119, 35.130697936], [-76.276111454, 34.884146601], [-76.179995835, 34.964264184], [-76.315637827, 35.016120672], [-76.278635412, 34.94032681], [-76.3866359, 34.855682999], [-76.408501267, 34.900669008], [-76.515839249, 34.719043225], [-76.630763859, 34.837485552], [-76.616282612, 34.707832932], [-76.670944691, 34.713210762], [-76.676441878, 34.809129238], [-76.779708266, 34.755393863], [-76.69482708, 34.71587956], [-77.128485292, 34.687719047], [-77.297766834, 34.561420353], [-77.318168432, 34.546198994], [-77.322494062, 34.548149922], [-77.403588742, 34.584724903], [-77.312052995, 34.633243382], [-77.395386547, 34.709741324], [-77.35348776, 34.734229892], [-77.439386845, 34.743208587], [-77.370821536, 34.639307857], [-77.447521985, 34.610043615], [-77.368357927, 34.523759633], [-77.681164893, 34.353658782], [-77.759584934, 34.311014861], [-77.826937966, 34.1516077], [-77.957762629, 33.841979653]]], [[[-76.7457515, 34.710482955], [-76.674203575, 34.695073664], [-77.104762495, 34.648844451], [-76.7457515, 34.710482955]]]]}\",\"{\\\"type\\\": \\\"MultiPolygon\\\", \\\"coordinates\\\": [[[[-91.806037277, 29.553490877], [-91.70863688, 29.569113404], [-91.820652634, 29.476861507], [-91.965341717, 29.53562066], [-92.030870765, 29.574259222], [-91.927810907, 29.634867758], [-91.895550638, 29.555393904], [-91.900884211, 29.634552598], [-91.893884987, 29.555176646], [-91.866070479, 29.630145729], [-91.806037277, 29.553490877]]], [[[-90.934669375, 29.264064431], [-90.801567435, 29.437985569], [-91.013868394, 29.338829323], [-91.061087251, 29.22404319], [-91.095406115, 29.19123441], [-91.1246261, 29.276381135], [-91.072779525, 29.311314578], [-91.116439998, 29.290922731], [-91.265302598, 29.475391656], [-91.456612942, 29.51103891], [-91.540746689, 29.526715726], [-91.55644834, 29.638278186], [-91.646993011, 29.634779245], [-91.605379879, 29.757659286], [-91.715886891, 29.73855257], [-91.744546697, 29.761815231], [-91.861593872, 29.713620096], [-91.850147545, 29.787663817], [-91.749044078, 29.765465676], [-91.829375178, 29.830669016], [-92.263973504, 29.758474678], [-92.103326619, 29.698834419], [-92.114209682, 29.599885046], [-92.008538693, 29.613640755], [-92.323684841, 29.531401545], [-93.24659273, 29.777388275], [-93.839536607, 29.691074789], [-93.926740587, 29.812155068], [-93.699558824, 30.059584826], [-93.739660531, 30.540689975], [-93.554948866, 30.821975917], [-93.577826768, 30.999715179], [-93.507865369, 31.031927168], [-93.532545716, 31.183540374], [-93.600307703, 31.176157594], [-93.726736307, 31.511600018], [-93.834924549, 31.586211026], [-93.823443353, 31.775097549], [-94.041907936, 31.993854493], [-94.042964727, 33.019213378], [-91.166072935, 33.004105836], [-91.208262742, 32.915354222], [-91.145076603, 32.905494422], [-91.106581539, 32.988937944], [-91.063683629, 32.906363457], [-91.163624078, 32.778186053], [-91.052968204, 32.718643695], [-91.151318103, 32.615919113], [-91.014285386, 32.640481442], [-91.080397815, 32.556442469], [-90.987830758, 32.494189739], [-91.093740463, 32.549128085], [-91.116008162, 32.483140379], [-90.978547633, 32.447032481], [-91.003505588, 32.362144589], [-90.901239663, 32.323386669], [-90.979474336, 32.293702662], [-90.995233655, 32.192797959], [-91.039007306, 32.242349088], [-91.164171249, 32.196888328], [-91.162822098, 32.132693678], [-91.002829671, 32.161783576], [-91.07999146, 32.048000246], [-91.160310209, 32.070353776], [-91.081988364, 32.006204724], [-91.185619533, 31.963829845], [-91.256966293, 31.811711043], [-91.34301424, 31.846861392], [-91.365480423, 31.760641783], [-91.259238124, 31.760436594], [-91.369269043, 31.746706367], [-91.401015669, 31.620364934], [-91.515461504, 31.630372256], [-91.405414492, 31.57646656], [-91.522216648, 31.521990895], [-91.478747427, 31.359860748], [-91.576264501, 31.410498172], [-91.51561439, 31.278210282], [-91.654027104, 31.255753487], [-91.559907049, 31.054118425], [-91.637457758, 30.999304801], [-89.730746448, 31.004669219], [-89.852172732, 30.661809146], [-89.683409482, 30.451793522], [-89.616145045, 30.224249661], [-89.528611153, 30.189819485], [-89.717737734, 30.025243163], [-89.816244543, 30.045708418], [-89.839000404, 29.942210019], [-89.727775902, 29.957273304], [-89.705002606, 29.874275029], [-89.607532471, 29.872154742], [-89.485084265, 30.078818947], [-89.343714416, 29.911298901], [-89.42910254, 29.817931205], [-89.285239577, 29.763104171], [-89.417692423, 29.756142497], [-89.467215668, 29.804222081], [-89.544019103, 29.792033136], [-89.432637691, 29.681475163], [-89.586011767, 29.756512642], [-89.616385102, 29.659432769], [-89.704824239, 29.703805894], [-89.782011509, 29.631144851], [-89.51996237, 29.457451701], [-89.56159696, 29.393106848], [-89.266700149, 29.349913895], [-89.325338602, 29.277234077], [-89.266218692, 29.203590006], [-89.18465808, 29.337905645], [-89.120306522, 29.255202413], [-89.175345451, 29.216459244], [-89.106969237, 29.220647514], [-89.251552373, 29.18312341], [-89.225482643, 29.147610962], [-89.01508078, 29.211047888], [-89.008717239, 29.163264334], [-89.12535578, 29.168258607], [-89.026906639, 29.140768647], [-89.063828588, 29.076226652], [-89.099805911, 29.093634309], [-89.177240678, 29.047019691], [-89.278956503, 29.212952256], [-89.397009909, 29.154312462], [-89.484844208, 29.31899339], [-89.837621748, 29.419361651], [-89.863918126, 29.481602311], [-90.056349188, 29.462712854], [-90.052771121, 29.322896004], [-90.135597736, 29.314687103], [-90.047231019, 29.190437794], [-90.225494653, 29.079249501], [-90.243642479, 29.255194366], [-90.321552604, 29.336474687], [-90.270632207, 29.386599809], [-90.400008559, 29.435720444], [-90.352186114, 29.490306079], [-90.416092979, 29.439746924], [-90.396037549, 29.418675005], [-90.395033062, 29.365952164], [-90.422604316, 29.434595557], [-90.447859168, 29.414615482], [-90.557773411, 29.458248317], [-90.648198724, 29.30114463], [-90.618194193, 29.235401005], [-90.744680464, 29.342501611], [-90.731764679, 29.278867346], [-90.761632025, 29.244822264], [-90.833622515, 29.23726514], [-90.825900435, 29.311194867], [-90.934669375, 29.264064431]], [[-89.459760189, 29.805405289], [-89.468221907, 29.805198987], [-89.467215668, 29.804222081], [-89.459760189, 29.805405289]], [[-89.516235441, 29.851812869], [-89.545075893, 29.803325236], [-89.468221907, 29.805198987], [-89.516235441, 29.851812869]], [[-89.099719226, 29.093686491], [-89.192589372, 29.138527662], [-89.099805911, 29.093634309], [-89.099719226, 29.093686491]]], [[[-90.716511905, 29.296253622], [-90.713564157, 29.189195931], [-90.731764679, 29.278867346], [-90.716511905, 29.296253622]]], [[[-90.766952187, 29.050316513], [-90.658002198, 29.065833092], [-90.719680935, 29.051528871], [-90.766952187, 29.050316513]]], [[[-90.530618727, 29.304879606], [-90.603105426, 29.284119308], [-90.542977005, 29.364318699], [-90.530618727, 29.304879606]]], [[[-90.044346303, 29.200455844], [-89.950880706, 29.266982675], [-89.99955073, 29.227668196], [-90.044346303, 29.200455844]]], [[[-89.177240678, 29.047019691], [-89.151457697, 29.004959017], [-89.178336114, 29.046360254], [-89.177240678, 29.047019691]]]]}\",\"{\\\"type\\\": \\\"MultiPolygon\\\", \\\"coordinates\\\": [[[[-75.54090187, 39.496705234], [-75.538943857, 39.496847391], [-75.52721858, 39.499733448], [-75.527222604, 39.499749541], [-75.528884232, 39.513802975], [-75.526900738, 39.531850219], [-75.5238913, 39.550515711], [-75.519206822, 39.555515349], [-75.516676158, 39.559734464], [-75.512151271, 39.572574198], [-75.512522757, 39.577329755], [-75.5236727, 39.583700001], [-75.536668003, 39.591743946], [-75.536933541, 39.591892809], [-75.537376106, 39.592843652], [-75.537769049, 39.593689889], [-75.543868393, 39.595980495], [-75.543920696, 39.596028775], [-75.555589646, 39.605564028], [-75.5572097, 39.633236378], [-75.514950156, 39.668432325], [-75.511247367, 39.676892012], [-75.510091335, 39.68293637], [-75.510021597, 39.686531872], [-75.510001481, 39.687532336], [-75.509884804, 39.693619609], [-75.50987944, 39.69388783], [-75.508874953, 39.695172608], [-75.507000089, 39.69742164], [-75.499245822, 39.700413644], [-75.497880578, 39.700754285], [-75.497589558, 39.700826705], [-75.489639491, 39.713552445], [-75.487657338, 39.715275764], [-75.483062714, 39.715438038], [-75.477361679, 39.715640545], [-75.476842672, 39.716651738], [-75.476831943, 39.716889113], [-75.47679171, 39.717866778], [-75.476644188, 39.721454233], [-75.476392061, 39.727532119], [-75.476143956, 39.733540267], [-75.476054102, 39.73370254], [-75.473358482, 39.737874717], [-75.472718775, 39.738864452], [-75.47092706, 39.741635174], [-75.470303446, 39.742600769], [-75.468849689, 39.744849801], [-75.456786454, 39.766454995], [-75.452501625, 39.769058079], [-75.254503638, 39.852608889], [-74.722303748, 40.149699748], [-75.058489144, 40.418364555], [-75.067905039, 40.541244596], [-75.1943551, 40.576479435], [-75.204062015, 40.692101419], [-75.050754994, 40.865826756], [-75.131347328, 40.990668833], [-74.695482999, 41.3577573], [-73.89403224, 40.996702462], [-73.934054822, 40.881812721], [-74.143798202, 40.643782765], [-74.134900484, 40.67342535], [-74.282518029, 40.492592007], [-73.993293434, 40.406739317], [-73.985592127, 40.453160852], [-73.991664906, 40.406255909], [-73.985677958, 40.404478759], [-73.992467463, 40.40005712], [-73.996458929, 40.369227831], [-73.979655057, 40.375938714], [-74.002387387, 40.323437594], [-74.031113237, 40.101564825], [-74.103323668, 40.131019503], [-74.031491429, 40.100359172], [-74.09599185, 39.764189869], [-74.046868533, 40.066131502], [-74.145221114, 40.074941218], [-74.056545943, 40.040296465], [-74.140680134, 40.033155084], [-74.116277397, 39.944951981], [-74.197614044, 39.949490279], [-74.105478823, 39.930167645], [-74.205522537, 39.829913378], [-74.160379618, 39.703575969], [-74.341426045, 39.602723569], [-74.336791188, 39.538613409], [-74.484050279, 39.580581143], [-74.651587307, 39.628327936], [-74.466001807, 39.529525634], [-74.378036857, 39.482694715], [-74.488283694, 39.412337691], [-74.447613358, 39.361537993], [-74.652312845, 39.309063256], [-74.630462105, 39.245811952], [-74.626611918, 39.252833426], [-74.553941488, 39.298447073], [-74.651155472, 39.208074063], [-74.631464304, 39.243984272], [-74.710216373, 39.176606387], [-74.651402235, 39.196755141], [-74.834393263, 38.990730643], [-74.966636896, 38.967675716], [-74.892499298, 39.127355665], [-74.840743393, 39.116001874], [-74.888120592, 39.172707796], [-74.802676141, 39.18801114], [-75.028023273, 39.194941968], [-75.022288796, 39.231535681], [-75.137155652, 39.181538969], [-75.141732842, 39.283912182], [-75.178725868, 39.243241847], [-75.242669731, 39.280590266], [-75.172288567, 39.300850332], [-75.252711922, 39.296202064], [-75.197093636, 39.336840212], [-75.281808525, 39.30264473], [-75.289640576, 39.356125295], [-75.287752301, 39.291454554], [-75.359053173, 39.350318444], [-75.365341902, 39.346961528], [-75.54090187, 39.496705234]], [[-74.076595455, 40.744849741], [-74.094063342, 40.809473544], [-74.134900484, 40.67342535], [-74.076595455, 40.744849741]], [[-75.012402087, 39.23583895], [-75.001630336, 39.363364577], [-75.022288796, 39.231535681], [-75.012402087, 39.23583895]], [[-75.231881887, 39.418202341], [-75.364399105, 39.354731888], [-75.359053173, 39.350318444], [-75.231881887, 39.418202341]]], [[[-74.092728943, 39.757166505], [-74.260367006, 39.544420391], [-74.307526946, 39.499922544], [-74.092728943, 39.757166505]]]]}\",\"{\\\"type\\\": \\\"MultiPolygon\\\", \\\"coordinates\\\": [[[[-71.611922979, 41.1540851], [-71.577921957, 41.232406944], [-71.544372886, 41.161689162], [-71.611922979, 41.1540851]]], [[[-71.3564533, 41.717715114], [-71.378452778, 41.666745096], [-71.459385753, 41.697575748], [-71.402070969, 41.61502406], [-71.458200216, 41.583166122], [-71.417629123, 41.477134377], [-71.445689052, 41.519120336], [-71.481171995, 41.360621899], [-71.86032638, 41.320260018], [-71.79774642, 41.416780651], [-71.799188107, 42.008053511], [-71.381326765, 42.018935233], [-71.340480745, 41.797033399], [-71.225592345, 41.711642593], [-71.30055204, 41.649447531], [-71.288419068, 41.737312675], [-71.400984675, 41.816176325], [-71.3564533, 41.717715114]]], [[[-71.22030437, 41.655522734], [-71.239905953, 41.476485282], [-71.336705536, 41.481584162], [-71.22030437, 41.655522734]]], [[[-71.120329052, 41.496714503], [-71.194571257, 41.456277519], [-71.196589619, 41.676403731], [-71.132558584, 41.660366803], [-71.120329052, 41.496714503]]]]}\"]\n",
       "},\n",
       "\"map_join\":[[\"found name\"],[\"state\"]],\n",
       "\"map_data_meta\":{\n",
       "\"geodataframe\":{\n",
       "\"geometry\":\"geometry\"\n",
       "}\n",
       "}\n",
       "}],\n",
       "\"metainfo_list\":[],\n",
       "\"spec_id\":\"10\"\n",
       "};\n",
       "               window.letsPlotCall(function() {\n",
       "       \n",
       "               var toolbar = null;\n",
       "               var plotContainer = containerDiv;               \n",
       "               \n",
       "                   var options = {\n",
       "                       sizing: {\n",
       "                           width_mode: \"min\",\n",
       "                           height_mode: \"scaled\",\n",
       "                           width: width\n",
       "                       }\n",
       "                   };\n",
       "                   var fig = LetsPlot.buildPlotFromProcessedSpecs(plotSpec, -1, -1, plotContainer, options);\n",
       "                   if (toolbar) {\n",
       "                     toolbar.bind(fig);\n",
       "                   }\n",
       "               });\n",
       "               \n",
       "               break;\n",
       "           }\n",
       "       }\n",
       "   });\n",
       "   \n",
       "   observer.observe(containerDiv);\n",
       "   \n",
       "   // ----------\n",
       "   })();\n",
       "   \n",
       "   </script>"
      ],
      "text/plain": [
       "<lets_plot.plot.core.PlotSpec at 0x1244be560>"
      ]
     },
     "execution_count": 48,
     "metadata": {},
     "output_type": "execute_result"
    }
   ],
   "source": [
    "# Geocoder can be passed to a data parameter. In this case column 'found name' can be used for join and styling:\n",
    "p + geom_map(aes(fill='found name'), \n",
    "             data=us48, \n",
    "             map=us48, map_join='found name', \n",
    "             tooltips=layer_tooltips().line('@{found name}'))"
   ]
  },
  {
   "cell_type": "code",
   "execution_count": 49,
   "metadata": {
    "execution": {
     "iopub.execute_input": "2024-11-07T09:09:12.283661Z",
     "iopub.status.busy": "2024-11-07T09:09:12.283561Z",
     "iopub.status.idle": "2024-11-07T09:09:12.641625Z",
     "shell.execute_reply": "2024-11-07T09:09:12.641351Z"
    }
   },
   "outputs": [
    {
     "data": {
      "text/html": [
       "   <div id=\"zMtlce\"></div>\n",
       "   <script type=\"text/javascript\" data-lets-plot-script=\"plot\">\n",
       "   \n",
       "   (function() {\n",
       "   // ----------\n",
       "   \n",
       "   var containerDiv = document.getElementById(\"zMtlce\");\n",
       "   var observer = new ResizeObserver(function(entries) {\n",
       "       for (let entry of entries) {\n",
       "           var width = containerDiv.clientWidth\n",
       "           if (entry.contentBoxSize && width > 0) {\n",
       "           \n",
       "               // Render plot\n",
       "               if (observer) {\n",
       "                   observer.disconnect();\n",
       "                   observer = null;\n",
       "               }\n",
       "\n",
       "               var plotSpec={\n",
       "\"mapping\":{\n",
       "},\n",
       "\"data_meta\":{\n",
       "},\n",
       "\"theme\":{\n",
       "\"name\":\"classic\",\n",
       "\"line\":\"blank\",\n",
       "\"axis\":\"blank\",\n",
       "\"legend_position\":\"none\"\n",
       "},\n",
       "\"ggsize\":{\n",
       "\"width\":600.0,\n",
       "\"height\":300.0\n",
       "},\n",
       "\"kind\":\"plot\",\n",
       "\"scales\":[],\n",
       "\"layers\":[{\n",
       "\"geom\":\"map\",\n",
       "\"data\":{\n",
       "\"found name\":[\"Vermont\",\"Massachusetts\",\"New York\",\"Maine\",\"New Hampshire\",\"Texas\",\"Illinois\",\"Missouri\",\"Kansas\",\"Oklahoma\",\"Arkansas\",\"Nebraska\",\"Iowa\",\"South Dakota\",\"North Dakota\",\"Kentucky\",\"Indiana\",\"Tennessee\",\"Mississippi\",\"Alabama\",\"Georgia\",\"Colorado\",\"Wyoming\",\"Utah\",\"New Mexico\",\"Arizona\",\"Florida\",\"Ohio\",\"West Virginia\",\"Washington, D.C.\",\"Pennsylvania\",\"Delaware\",\"Maryland\",\"Montana\",\"Idaho\",\"Wisconsin\",\"Minnesota\",\"Nevada\",\"California\",\"Oregon\",\"Washington\",\"Michigan\",\"Connecticut\",\"South Carolina\",\"Virginia\",\"North Carolina\",\"Louisiana\",\"New Jersey\",\"Rhode Island\"],\n",
       "\"geometry\":[\"{\\\"type\\\": \\\"MultiPolygon\\\", \\\"coordinates\\\": [[[[-73.264812827, 42.745851427], [-73.241486996, 43.532800823], [-73.306081295, 43.628079593], [-73.431332409, 43.587917536], [-73.350592554, 43.771938533], [-73.437740207, 44.045006186], [-73.293382376, 44.437484443], [-73.39023158, 44.618352503], [-73.343166858, 45.010724813], [-71.501019001, 45.013445914], [-71.495000124, 44.904694408], [-71.632812023, 44.75102663], [-71.535065621, 44.588342607], [-71.57683298, 44.502403289], [-71.815446317, 44.354298413], [-72.032795101, 44.320483804], [-72.031645775, 44.078772515], [-72.380346358, 43.573625386], [-72.443469465, 43.007158935], [-72.55723536, 42.853898853], [-72.45844692, 42.726960629], [-73.264812827, 42.745851427]]]]}\",\"{\\\"type\\\": \\\"MultiPolygon\\\", \\\"coordinates\\\": [[[[-70.590709448, 42.640413791], [-70.664619058, 42.579921931], [-70.680081993, 42.660752982], [-70.590709448, 42.640413791]]], [[[-70.775981694, 41.301322281], [-70.838218331, 41.346108466], [-70.587675869, 41.459245384], [-70.524307723, 41.370967552], [-70.564388931, 41.382047385], [-70.775981694, 41.301322281]]], [[[-70.509057641, 41.349722743], [-70.524307723, 41.370967552], [-70.497652849, 41.363599222], [-70.509057641, 41.349722743]]], [[[-70.452117026, 41.351011544], [-70.497652849, 41.363599222], [-70.450901985, 41.420482099], [-70.452117026, 41.351011544]]], [[[-70.005733073, 41.799635142], [-70.054313242, 41.994095296], [-70.244920403, 42.061484456], [-70.05968973, 42.040678561], [-69.944784496, 41.738651664], [-69.964077026, 41.653155684], [-70.266269445, 41.609372646], [-70.260423571, 41.655648798], [-70.655617565, 41.515067518], [-70.613299012, 41.676493585], [-70.66116035, 41.682598293], [-70.54360047, 41.775182784], [-70.624970645, 41.765300184], [-70.673997402, 41.692212671], [-70.745884627, 41.738547832], [-70.715554208, 41.676488221], [-70.761378407, 41.721443385], [-70.764547437, 41.641313732], [-70.867828578, 41.639167964], [-70.852345526, 41.581952423], [-70.930094719, 41.613078117], [-70.953369588, 41.514277607], [-71.120329052, 41.496714503], [-71.132558584, 41.660366803], [-71.196589619, 41.676403731], [-71.157300621, 41.711516529], [-71.225592345, 41.711642593], [-71.340480745, 41.797033399], [-71.381326765, 42.018935233], [-71.799188107, 42.008053511], [-73.48735705, 42.049532533], [-73.264812827, 42.745851427], [-72.45844692, 42.726960629], [-71.294871122, 42.697243094], [-71.031196564, 42.859296799], [-70.816150457, 42.872041315], [-70.803633928, 42.818905413], [-70.913219601, 42.834100127], [-70.814177692, 42.792761922], [-70.867689103, 42.75584802], [-70.823812187, 42.681557536], [-70.672908425, 42.609548271], [-70.888870507, 42.540080398], [-70.835538805, 42.490588278], [-70.93372643, 42.459020019], [-70.905513614, 42.416313887], [-70.967291594, 42.445076555], [-70.953240842, 42.344158441], [-71.05831638, 42.381489426], [-71.041788608, 42.279054523], [-70.955394655, 42.280032188], [-70.974306911, 42.222064286], [-70.858196765, 42.264563888], [-70.919422209, 42.306226641], [-70.767381191, 42.254016101], [-70.59916243, 42.004526407], [-70.656681061, 42.060349882], [-70.729250908, 41.989438981], [-70.539216399, 41.926655173], [-70.489202589, 41.779796183], [-70.542153418, 41.775121093], [-70.273253208, 41.723829458], [-70.005733073, 41.799635142]], [[-70.351747423, 41.701586992], [-70.272541791, 41.723693758], [-70.273253208, 41.723829458], [-70.351747423, 41.701586992]]], [[[-70.050631911, 41.392463744], [-70.020074704, 41.349530731], [-70.092486441, 41.295796931], [-70.050631911, 41.392463744]]], [[[-70.013150722, 41.354668736], [-70.011452058, 41.337415875], [-70.020074704, 41.349530731], [-70.013150722, 41.354668736]]], [[[-69.960858375, 41.266331524], [-70.236177742, 41.28494069], [-70.095821768, 41.291693151], [-70.008452833, 41.306953579], [-70.011452058, 41.337415875], [-69.960858375, 41.266331524]]], [[[-69.935987592, 41.777635664], [-69.931948185, 41.70491159], [-69.944784496, 41.738651664], [-69.935987592, 41.777635664]]]]}\",\"{\\\"type\\\": \\\"MultiPolygon\\\", \\\"coordinates\\\": [[[[-74.194627404, 40.637400448], [-74.071540833, 40.645186901], [-74.0733473, 40.578297973], [-74.217251837, 40.503626615], [-74.194627404, 40.637400448]]], [[[-72.874225527, 40.737068653], [-73.224788904, 40.727855265], [-73.940636963, 40.541901737], [-73.738676012, 40.632466525], [-73.879341781, 40.654625595], [-73.879745454, 40.580162108], [-73.992960155, 40.570219159], [-74.041745514, 40.620726496], [-73.913374851, 40.786202938], [-73.934994936, 40.7829988], [-73.934532291, 40.831626658], [-73.934054822, 40.881812721], [-73.89403224, 40.996702462], [-74.695482999, 41.3577573], [-74.738456011, 41.430642307], [-74.983340353, 41.480893493], [-75.074613243, 41.60571143], [-75.071971267, 41.813711375], [-75.258922577, 41.862668395], [-75.359546989, 41.99950397], [-79.761800319, 41.998841465], [-79.761840552, 42.514689267], [-78.935380876, 42.828303874], [-78.909410387, 42.933575213], [-79.074111432, 43.077860624], [-79.05594483, 43.254666477], [-79.2006661, 43.450471759], [-78.690389246, 43.631138653], [-76.796694696, 43.631138653], [-76.312722266, 44.199056178], [-75.912833065, 44.367806017], [-75.284860879, 44.848304987], [-74.97255519, 44.983472228], [-74.668497294, 45.004278123], [-73.343166858, 45.010724813], [-73.39023158, 44.618352503], [-73.293382376, 44.437484443], [-73.437740207, 44.045006186], [-73.350592554, 43.771938533], [-73.431332409, 43.587917536], [-73.306081295, 43.628079593], [-73.241486996, 43.532800823], [-73.264812827, 42.745851427], [-73.48735705, 42.049532533], [-73.550961614, 41.295421422], [-73.482695371, 41.212771833], [-73.727775514, 41.100695729], [-73.659686297, 40.988233387], [-73.800396323, 40.848244876], [-73.826887161, 40.889577717], [-73.790823519, 40.804365277], [-73.896548749, 40.788696598], [-73.753186762, 40.764545202], [-73.753613234, 40.838131607], [-73.709340692, 40.793432593], [-73.730387986, 40.865990371], [-73.649538159, 40.800657123], [-73.633345664, 40.902882814], [-73.462660611, 40.859302282], [-73.484788835, 40.947917104], [-73.354247063, 40.890772641], [-73.400275111, 40.955762565], [-73.169122338, 40.893308669], [-73.12455073, 40.97370252], [-72.635242045, 40.982036144], [-72.233097106, 41.160488874], [-72.434324473, 41.05551526], [-72.383370548, 41.049717665], [-72.431388795, 40.979394168], [-72.474624664, 41.021963507], [-72.650648654, 40.916554034], [-72.458001673, 40.896841139], [-72.312949151, 41.0409455], [-72.326471508, 40.990002304], [-72.27023332, 41.025955363], [-72.384561449, 41.069169044], [-72.311016619, 41.070418954], [-72.270209168, 41.025970803], [-72.241056561, 41.044608057], [-72.184529006, 40.996176749], [-72.160658687, 41.053826809], [-72.096889651, 40.991923776], [-72.874225527, 40.737068653]]], [[[-72.900472283, 40.724452883], [-73.12455073, 40.653560758], [-73.316877186, 40.626343042], [-72.900472283, 40.724452883]]], [[[-72.096174359, 40.991229415], [-72.096889651, 40.991923776], [-71.85618639, 41.070840061], [-72.096174359, 40.991229415]]]]}\",\"{\\\"type\\\": \\\"MultiPolygon\\\", \\\"coordinates\\\": [[[[-70.22374168, 43.652210087], [-70.196633935, 43.565608263], [-70.369471461, 43.561322093], [-70.33367604, 43.44716996], [-70.559923053, 43.315356821], [-70.592033118, 43.165578246], [-70.704286247, 43.065270334], [-70.827080458, 43.12739566], [-70.809821784, 43.225882351], [-70.988427401, 43.389554769], [-70.950639099, 43.551317453], [-71.084168851, 45.305474102], [-70.952378511, 45.339115709], [-70.857539624, 45.229139775], [-70.798105896, 45.426507443], [-70.634888113, 45.383419096], [-70.72256282, 45.513675213], [-70.258804858, 45.891167969], [-70.317997187, 46.019081175], [-70.236282349, 46.145240217], [-70.292693228, 46.191474795], [-70.191185027, 46.350225359], [-70.056503266, 46.415581405], [-69.997123182, 46.695522219], [-69.22446996, 47.459839135], [-69.043215662, 47.426783592], [-69.050960541, 47.300088108], [-68.90003264, 47.177741826], [-68.234470636, 47.35530138], [-67.790198922, 47.067225426], [-67.750628293, 45.917636007], [-67.81811133, 45.693722516], [-67.450019717, 45.602465719], [-67.416222543, 45.501306206], [-67.503721565, 45.486694872], [-67.419249415, 45.377110541], [-67.489055246, 45.280583203], [-67.353444099, 45.12916714], [-67.280433029, 45.191354156], [-67.163300961, 45.158534646], [-67.04011783, 44.960906804], [-67.175688744, 44.947620481], [-67.13202104, 44.88157779], [-67.225644886, 44.933534861], [-67.1495305, 44.862772822], [-67.172841579, 44.791497141], [-67.10422799, 44.894279391], [-67.072131336, 44.817648679], [-67.023928016, 44.850053787], [-67.062460631, 44.90662694], [-66.949856132, 44.818002731], [-67.191387713, 44.643581361], [-67.28220731, 44.623778611], [-67.296121269, 44.707619101], [-67.392126918, 44.734714776], [-67.405622452, 44.594436586], [-67.428709567, 44.666640311], [-67.458435148, 44.596052617], [-67.571392357, 44.66226697], [-67.565121353, 44.531829804], [-67.657548934, 44.571423233], [-67.715634853, 44.496892691], [-67.718535662, 44.651162624], [-67.78320238, 44.520855546], [-67.792059034, 44.612137824], [-67.857266217, 44.526616931], [-67.925111353, 44.59442988], [-67.849738598, 44.49549526], [-67.894343734, 44.398900867], [-67.900303602, 44.48868379], [-67.937672138, 44.410049468], [-67.992390543, 44.505761415], [-68.036203086, 44.482801706], [-67.959410101, 44.399277717], [-68.024983406, 44.409643114], [-68.060344309, 44.33167398], [-68.095542938, 44.467490315], [-68.193624616, 44.472371936], [-68.244331777, 44.589442313], [-68.275496364, 44.51092869], [-68.323191404, 44.534280002], [-68.280934542, 44.452558458], [-68.357276917, 44.494273514], [-68.427930325, 44.396763146], [-68.42309162, 44.497755021], [-68.50562185, 44.494563192], [-68.489785105, 44.452467581], [-68.587413132, 44.413449168], [-68.526237309, 44.227924794], [-68.754526824, 44.351719469], [-68.827170432, 44.311526567], [-68.759431243, 44.424723834], [-68.659999073, 44.369737208], [-68.727258146, 44.470691532], [-68.810147792, 44.381200969], [-68.778067231, 44.492074102], [-69.044273794, 44.450690299], [-68.947979808, 44.354191124], [-69.108387977, 44.109848589], [-69.043776244, 44.092604667], [-69.07678619, 44.043006599], [-69.261165261, 43.917216361], [-69.169904441, 44.081147611], [-69.307241589, 43.953620642], [-69.283734709, 44.016904682], [-69.367703944, 43.965300322], [-69.377421588, 44.094609618], [-69.514652789, 43.831758499], [-69.507728666, 43.920728713], [-69.571711855, 43.89154898], [-69.596563429, 43.813042045], [-69.590304494, 43.861831427], [-69.66435492, 43.853288591], [-69.645209312, 44.011296183], [-69.760769606, 43.888056725], [-69.809280038, 44.000606239], [-69.786991768, 43.818844325], [-69.777864665, 43.744412363], [-69.834465981, 43.700994104], [-69.86509949, 43.91784668], [-70.025393665, 43.730727732], [-69.947109371, 43.865499347], [-70.153359175, 43.816992939], [-70.26969865, 43.718393594], [-70.254846134, 43.654469469], [-70.22374168, 43.652210087]], [[-70.311144143, 43.658558875], [-70.253813267, 43.650024086], [-70.254846134, 43.654469469], [-70.311144143, 43.658558875]], [[-69.516425729, 44.06619966], [-69.580830932, 43.887390196], [-69.571711855, 43.89154898], [-69.516425729, 44.06619966]]], [[[-69.948343188, 43.813874871], [-69.885955006, 43.851305097], [-69.894857258, 43.774878234], [-69.948343188, 43.813874871]]], [[[-69.75060001, 43.788156509], [-69.707274288, 43.828653842], [-69.752480239, 43.767942041], [-69.755606353, 43.882318139], [-69.75060001, 43.788156509]]], [[[-68.896163553, 44.156414419], [-68.806876838, 44.158118963], [-68.942529559, 44.109711796], [-68.896163553, 44.156414419]]], [[[-68.828330487, 44.03188616], [-68.909736872, 44.111854881], [-68.83518219, 44.09422338], [-68.775579482, 44.06422019], [-68.828330487, 44.03188616]]], [[[-68.741421551, 44.307771474], [-68.677167892, 44.27606374], [-68.679762081, 44.26637693], [-68.741421551, 44.307771474]]], [[[-68.708935976, 44.157440364], [-68.679762081, 44.26637693], [-68.59644413, 44.210442156], [-68.708935976, 44.157440364]]], [[[-68.481225818, 44.45588842], [-68.462949246, 44.381135255], [-68.489785105, 44.452467581], [-68.481225818, 44.45588842]]], [[[-68.367190361, 44.416917264], [-68.24947089, 44.433707893], [-68.173483908, 44.328555912], [-68.294485062, 44.287133217], [-68.329049349, 44.368897676], [-68.290731311, 44.246985912], [-68.364612758, 44.226815701], [-68.431485593, 44.303057492], [-68.367190361, 44.416917264]]]]}\",\"{\\\"type\\\": \\\"MultiPolygon\\\", \\\"coordinates\\\": [[[[-70.816150457, 42.872041315], [-71.031196564, 42.859296799], [-71.294871122, 42.697243094], [-72.45844692, 42.726960629], [-72.55723536, 42.853898853], [-72.443469465, 43.007158935], [-72.380346358, 43.573625386], [-72.031645775, 44.078772515], [-72.032795101, 44.320483804], [-71.815446317, 44.354298413], [-71.57683298, 44.502403289], [-71.535065621, 44.588342607], [-71.632812023, 44.75102663], [-71.495000124, 44.904694408], [-71.501019001, 45.013445914], [-71.397347599, 45.203521997], [-71.442824453, 45.238292813], [-71.284230798, 45.302361399], [-71.147568226, 45.239438117], [-71.084168851, 45.305474102], [-70.950639099, 43.551317453], [-70.988427401, 43.389554769], [-70.809821784, 43.225882351], [-70.827080458, 43.12739566], [-70.704286247, 43.065270334], [-70.816150457, 42.872041315]]]]}\",\"{\\\"type\\\": \\\"MultiPolygon\\\", \\\"coordinates\\\": [[[[-96.444758177, 28.769389987], [-96.38256982, 28.619964123], [-96.488416493, 28.570093811], [-96.434812546, 28.603047431], [-96.468780041, 28.674520254], [-96.484301984, 28.607754707], [-96.585977823, 28.65729779], [-96.601722389, 28.764093965], [-96.664429754, 28.723453134], [-96.639440954, 28.5723643], [-96.486541629, 28.511425853], [-96.561701149, 28.481521904], [-96.488299817, 28.509687781], [-96.40244633, 28.442687541], [-96.67466104, 28.321603239], [-96.793504357, 28.466879725], [-96.764673293, 28.412272632], [-96.85967043, 28.413419276], [-96.776519269, 28.244397193], [-96.915964633, 28.094945848], [-96.388136744, 28.37376684], [-96.973534226, 27.942818999], [-97.195967138, 27.627906203], [-97.368013412, 27.181247324], [-97.368514985, 26.898275614], [-97.147470117, 25.955141187], [-97.285029888, 25.959089398], [-97.424409539, 25.840420425], [-97.662600428, 26.038150191], [-98.194919676, 26.053390503], [-98.444579691, 26.224440336], [-98.670099825, 26.236710101], [-98.805540651, 26.368079334], [-99.084530622, 26.397977918], [-99.268680364, 26.843319833], [-99.44582954, 27.021599561], [-99.441660047, 27.250229716], [-99.538069367, 27.316850424], [-99.511810541, 27.566549331], [-99.728146791, 27.679125667], [-99.843222946, 27.769863456], [-99.931380451, 27.980619371], [-100.293219835, 28.277910054], [-100.33389017, 28.499290198], [-100.500474125, 28.661954105], [-100.675419867, 29.10147965], [-101.059874296, 29.458580911], [-101.256804764, 29.522332996], [-101.248642802, 29.623351693], [-101.307423413, 29.580232501], [-101.40225023, 29.771770388], [-102.072900385, 29.786450118], [-102.315570563, 29.880029708], [-102.387640178, 29.761240035], [-102.67399013, 29.744630456], [-102.884150594, 29.347860664], [-102.867660373, 29.223439693], [-102.995750606, 29.179270416], [-103.115960509, 28.984610438], [-103.307631165, 29.003513306], [-103.783929795, 29.265452474], [-104.037709683, 29.319799393], [-104.508280456, 29.632489979], [-104.679969996, 29.92078051], [-104.706290513, 30.234910101], [-104.859479517, 30.390310585], [-104.922629446, 30.603660196], [-105.215010345, 30.805909485], [-105.399860144, 30.851989836], [-105.95396027, 31.36488989], [-106.206679344, 31.466259956], [-106.380589753, 31.73162967], [-106.527981162, 31.78384155], [-106.635750979, 31.866302043], [-106.618739069, 32.000660598], [-103.064631075, 32.000391036], [-103.002461493, 36.500439048], [-100.00043124, 36.499925405], [-100.000392348, 34.5605582], [-99.923210442, 34.574552625], [-99.696461856, 34.381036609], [-99.402959794, 34.373480827], [-99.35879454, 34.455863535], [-99.213134497, 34.340368956], [-99.177789688, 34.212069511], [-98.979299515, 34.220235497], [-98.757036924, 34.124633521], [-98.599788398, 34.160571098], [-98.486328274, 34.06259805], [-98.364023566, 34.157108366], [-98.109461814, 34.154110998], [-98.088202626, 34.005480409], [-97.947448343, 33.976621181], [-97.967669517, 33.88318643], [-97.846892327, 33.854983002], [-97.666288465, 33.992533386], [-97.591173202, 33.902561367], [-97.457230389, 33.902124166], [-97.4206236, 33.818582743], [-97.205381691, 33.915587515], [-97.134332657, 33.718701303], [-97.048158646, 33.820053935], [-97.088627815, 33.852955252], [-96.918897629, 33.958064318], [-96.867487729, 33.852742016], [-96.764061749, 33.825579286], [-96.667931378, 33.916157484], [-96.592057049, 33.897066861], [-96.620123684, 33.84311825], [-96.347439587, 33.68666634], [-96.092305183, 33.857659847], [-95.764517784, 33.84703964], [-95.592987835, 33.943575025], [-95.543549359, 33.880607486], [-95.289919674, 33.873695433], [-95.219710171, 33.963224888], [-94.956209958, 33.858229816], [-94.861452878, 33.742971271], [-94.485849738, 33.638024479], [-94.388095289, 33.54776144], [-94.043423384, 33.552223295], [-94.042964727, 33.019213378], [-94.041907936, 31.993854493], [-93.823443353, 31.775097549], [-93.834924549, 31.586211026], [-93.726736307, 31.511600018], [-93.600307703, 31.176157594], [-93.532545716, 31.183540374], [-93.507865369, 31.031927168], [-93.577826768, 30.999715179], [-93.554948866, 30.821975917], [-93.739660531, 30.540689975], [-93.699558824, 30.059584826], [-93.926740587, 29.812155068], [-93.839536607, 29.691074789], [-94.499109238, 29.506841898], [-94.468200803, 29.557758272], [-94.55345884, 29.574357122], [-94.780865908, 29.531762302], [-94.687014073, 29.645781666], [-94.711453021, 29.791393429], [-94.901109338, 29.657539129], [-94.923275113, 29.755603373], [-94.947905838, 29.699221998], [-95.016185492, 29.720892906], [-95.021674633, 29.551945925], [-94.909595847, 29.497180581], [-94.978770018, 29.451656789], [-94.809725136, 29.363865405], [-94.886060804, 29.389516711], [-94.899866134, 29.302009642], [-95.097489953, 29.174944013], [-95.210522264, 29.212921411], [-95.160489678, 29.104565531], [-95.260424763, 28.985727578], [-95.123414844, 29.070100486], [-95.383377224, 28.869433701], [-95.926296562, 28.700415641], [-95.961778164, 28.625304401], [-95.659372509, 28.758190423], [-96.313532442, 28.417307138], [-95.97169295, 28.65672648], [-96.17920205, 28.595328033], [-96.192054945, 28.606157685], [-96.235447973, 28.642719984], [-96.17326498, 28.762713969], [-96.362270862, 28.626853377], [-96.444758177, 28.769389987]]], [[[-95.122130066, 29.087875485], [-94.913643301, 29.240459651], [-94.721012414, 29.331186712], [-95.122130066, 29.087875485]]], [[[-94.499719441, 29.506764114], [-94.779029936, 29.359714687], [-94.559678882, 29.498172998], [-94.499719441, 29.506764114]]]]}\",\"{\\\"type\\\": \\\"MultiPolygon\\\", \\\"coordinates\\\": [[[[-89.133012146, 36.982000172], [-89.254781753, 37.071961462], [-89.307755381, 37.069779485], [-89.280270785, 36.988193393], [-89.378681034, 37.03955099], [-89.520710707, 37.283669561], [-89.420803785, 37.385696769], [-89.516884536, 37.536811084], [-89.51669544, 37.692556232], [-89.840704948, 37.904535234], [-89.948662519, 37.880284041], [-89.924648702, 37.959984541], [-90.350794047, 38.211554289], [-90.368434936, 38.339411169], [-90.10848999, 38.845356256], [-90.450344235, 38.967640847], [-90.549840778, 38.872297704], [-90.625953823, 38.890453577], [-90.730999857, 39.256180823], [-91.367854178, 39.72913608], [-91.511459649, 40.137393773], [-91.420409381, 40.378013402], [-91.372553408, 40.401199758], [-91.401482373, 40.559458137], [-91.123927385, 40.669152439], [-91.092993468, 40.821079463], [-90.95223248, 40.954047292], [-90.946626663, 41.096632183], [-91.113647819, 41.241400391], [-91.045889854, 41.414085031], [-90.461432487, 41.523533911], [-90.343227535, 41.587833166], [-90.310708433, 41.742214411], [-90.18095389, 41.809354126], [-90.162894577, 42.116717845], [-90.391107649, 42.225473374], [-90.419026762, 42.328505069], [-90.641045272, 42.507989109], [-87.019924968, 42.493499815], [-87.207773477, 41.760956347], [-87.523328662, 41.760350168], [-87.531375289, 39.347705841], [-87.645990103, 39.144899994], [-87.512186766, 38.954417557], [-87.553384155, 38.863344491], [-87.497077882, 38.743126541], [-87.843147218, 38.279324323], [-87.98638925, 38.259089738], [-87.914986163, 38.160290569], [-88.042580187, 38.043110222], [-88.010994494, 37.973186374], [-88.068840355, 37.924885154], [-88.014214486, 37.885648459], [-88.099701852, 37.90440917], [-88.025017083, 37.799896896], [-88.160187006, 37.657592297], [-88.072244078, 37.481963933], [-88.476592451, 37.3868756], [-88.515940458, 37.284192592], [-88.424617946, 37.151726335], [-88.460188061, 37.07447201], [-88.983260393, 37.228685617], [-89.175724983, 37.062069476], [-89.133012146, 36.982000172]]]]}\",\"{\\\"type\\\": \\\"MultiPolygon\\\", \\\"coordinates\\\": [[[[-95.30805409, 40.000000298], [-95.415329039, 40.040511042], [-95.393281281, 40.118686706], [-95.477435589, 40.242581964], [-95.656628609, 40.310891122], [-95.662296116, 40.556382984], [-95.75302586, 40.524999797], [-95.774144232, 40.573488772], [-95.766522735, 40.585193932], [-91.72925368, 40.613634735], [-91.420409381, 40.378013402], [-91.511459649, 40.137393773], [-91.367854178, 39.72913608], [-90.730999857, 39.256180823], [-90.625953823, 38.890453577], [-90.549840778, 38.872297704], [-90.450344235, 38.967640847], [-90.10848999, 38.845356256], [-90.368434936, 38.339411169], [-90.350794047, 38.211554289], [-89.924648702, 37.959984541], [-89.948662519, 37.880284041], [-89.840704948, 37.904535234], [-89.51669544, 37.692556232], [-89.516884536, 37.536811084], [-89.420803785, 37.385696769], [-89.520710707, 37.283669561], [-89.378681034, 37.03955099], [-89.280270785, 36.988193393], [-89.307755381, 37.069779485], [-89.254781753, 37.071961462], [-89.133012146, 36.982000172], [-89.179229289, 36.812915057], [-89.116563499, 36.767557561], [-89.201046377, 36.725771427], [-89.159080535, 36.666352451], [-89.23654139, 36.566823721], [-89.365547597, 36.625058502], [-89.417292774, 36.49903357], [-89.4851996, 36.497453749], [-89.528270513, 36.580993831], [-89.53912273, 36.498102844], [-89.513177723, 36.35989666], [-89.62025553, 36.323005557], [-89.534745365, 36.252576113], [-89.698567986, 36.250591278], [-89.592101723, 36.135637164], [-89.733094722, 36.000608057], [-90.377889723, 35.995683521], [-90.063980073, 36.303037852], [-90.152584165, 36.497936547], [-94.617855996, 36.499511003], [-94.617951214, 36.99859634], [-94.588205516, 39.149786979], [-94.826514423, 39.212210029], [-94.906181395, 39.313971698], [-94.883826524, 39.388120025], [-95.110517442, 39.544588029], [-94.962702245, 39.741906077], [-94.861859232, 39.742097855], [-94.935302138, 39.775609374], [-94.875943512, 39.813294411], [-94.929574281, 39.888754338], [-95.128311217, 39.873467088], [-95.30805409, 40.000000298]]]]}\",\"{\\\"type\\\": \\\"MultiPolygon\\\", \\\"coordinates\\\": [[[[-102.042127401, 36.993127316], [-102.051756531, 40.00306204], [-95.30805409, 40.000000298], [-95.128311217, 39.873467088], [-94.929574281, 39.888754338], [-94.875943512, 39.813294411], [-94.935302138, 39.775609374], [-94.861859232, 39.742097855], [-94.962702245, 39.741906077], [-95.110517442, 39.544588029], [-94.883826524, 39.388120025], [-94.906181395, 39.313971698], [-94.826514423, 39.212210029], [-94.588205516, 39.149786979], [-94.617951214, 36.99859634], [-102.042127401, 36.993127316]]]]}\",\"{\\\"type\\\": \\\"MultiPolygon\\\", \\\"coordinates\\\": [[[[-103.002461493, 36.500439048], [-103.002441376, 37.000086308], [-102.042127401, 36.993127316], [-94.617951214, 36.99859634], [-94.617855996, 36.499511003], [-94.431219846, 35.394376516], [-94.485849738, 33.638024479], [-94.861452878, 33.742971271], [-94.956209958, 33.858229816], [-95.219710171, 33.963224888], [-95.289919674, 33.873695433], [-95.543549359, 33.880607486], [-95.592987835, 33.943575025], [-95.764517784, 33.84703964], [-96.092305183, 33.857659847], [-96.347439587, 33.68666634], [-96.620123684, 33.84311825], [-96.592057049, 33.897066861], [-96.667931378, 33.916157484], [-96.764061749, 33.825579286], [-96.867487729, 33.852742016], [-96.918897629, 33.958064318], [-97.088627815, 33.852955252], [-97.048158646, 33.820053935], [-97.134332657, 33.718701303], [-97.205381691, 33.915587515], [-97.4206236, 33.818582743], [-97.457230389, 33.902124166], [-97.591173202, 33.902561367], [-97.666288465, 33.992533386], [-97.846892327, 33.854983002], [-97.967669517, 33.88318643], [-97.947448343, 33.976621181], [-98.088202626, 34.005480409], [-98.109461814, 34.154110998], [-98.364023566, 34.157108366], [-98.486328274, 34.06259805], [-98.599788398, 34.160571098], [-98.757036924, 34.124633521], [-98.979299515, 34.220235497], [-99.177789688, 34.212069511], [-99.213134497, 34.340368956], [-99.35879454, 34.455863535], [-99.402959794, 34.373480827], [-99.696461856, 34.381036609], [-99.923210442, 34.574552625], [-100.000392348, 34.5605582], [-100.00043124, 36.499925405], [-103.002461493, 36.500439048]]]]}\",\"{\\\"type\\\": \\\"MultiPolygon\\\", \\\"coordinates\\\": [[[[-94.485849738, 33.638024479], [-94.431219846, 35.394376516], [-94.617855996, 36.499511003], [-90.152584165, 36.497936547], [-90.063980073, 36.303037852], [-90.377889723, 35.995683521], [-89.733094722, 36.000608057], [-89.642910808, 35.891967863], [-89.744405597, 35.908039659], [-89.708016068, 35.815927237], [-89.956254512, 35.733386278], [-89.931036383, 35.660043955], [-89.851176292, 35.657431483], [-89.95674938, 35.590510368], [-89.909022152, 35.520547628], [-90.028620511, 35.555248708], [-90.00263527, 35.429950655], [-90.061999261, 35.39875254], [-90.098718703, 35.478595197], [-90.170599222, 35.418351442], [-90.080658048, 35.385790765], [-90.168794096, 35.279088467], [-90.065392256, 35.137690455], [-90.309297591, 34.995694309], [-90.244476646, 34.937596321], [-90.307383835, 34.846194685], [-90.466154516, 34.890988916], [-90.454968363, 34.735557586], [-90.547611862, 34.784588367], [-90.565645695, 34.721053541], [-90.462552309, 34.687575549], [-90.524480492, 34.628503919], [-90.58841899, 34.670963287], [-90.571145564, 34.420318902], [-90.669342577, 34.313019812], [-90.765763968, 34.362109601], [-90.743081868, 34.302257448], [-90.847807378, 34.206529409], [-90.929015279, 34.244540334], [-90.810884088, 34.155902714], [-90.954300463, 34.138497859], [-90.87052837, 34.080516547], [-90.987947434, 34.019037634], [-90.967632383, 33.96332413], [-91.087921411, 33.975335062], [-91.010318398, 33.929352611], [-91.073011011, 33.857449293], [-90.988466442, 33.784529418], [-91.146617532, 33.732455671], [-91.034565568, 33.673017919], [-91.22785762, 33.683073521], [-91.130445153, 33.606033772], [-91.231418252, 33.560593128], [-91.185203791, 33.500735611], [-91.235181391, 33.438972384], [-91.125108898, 33.472841978], [-91.208702624, 33.408718407], [-91.166303605, 33.379708976], [-91.057620496, 33.445341289], [-91.142218709, 33.348989636], [-91.106141657, 33.241799176], [-91.043623388, 33.27463612], [-91.089861989, 33.139655292], [-91.201779842, 33.125120401], [-91.121195555, 33.059166223], [-91.166072935, 33.004105836], [-94.042964727, 33.019213378], [-94.043423384, 33.552223295], [-94.388095289, 33.54776144], [-94.485849738, 33.638024479]]]]}\",\"{\\\"type\\\": \\\"MultiPolygon\\\", \\\"coordinates\\\": [[[[-104.053214192, 41.001679301], [-104.053179324, 43.001271486], [-98.498549759, 42.998559773], [-98.035034537, 42.764204443], [-97.845269591, 42.867733687], [-97.241264284, 42.852915823], [-96.69662565, 42.652435452], [-96.617403924, 42.50783354], [-96.440205127, 42.49000892], [-96.381609589, 42.464544028], [-96.418168098, 42.354678065], [-96.328905523, 42.254733592], [-96.347752064, 42.166805416], [-96.240713149, 41.999351084], [-96.12950474, 41.971673369], [-96.161755621, 41.9018206], [-96.064879596, 41.796230078], [-96.121400446, 41.688521951], [-96.094090194, 41.539265066], [-96.005078405, 41.54400453], [-96.011757106, 41.476211697], [-95.920280367, 41.451566219], [-95.957136601, 41.345901936], [-95.872268826, 41.303069741], [-95.928038657, 41.298472434], [-95.927975625, 41.200068891], [-95.842187852, 41.177421659], [-95.882415622, 41.060411632], [-95.809474289, 40.891228616], [-95.888906568, 40.731854439], [-95.766522735, 40.585193932], [-95.774144232, 40.573488772], [-95.75302586, 40.524999797], [-95.662296116, 40.556382984], [-95.656628609, 40.310891122], [-95.477435589, 40.242581964], [-95.393281281, 40.118686706], [-95.415329039, 40.040511042], [-95.30805409, 40.000000298], [-102.051756531, 40.00306204], [-102.051578164, 41.002360582], [-104.053214192, 41.001679301]]]]}\",\"{\\\"type\\\": \\\"MultiPolygon\\\", \\\"coordinates\\\": [[[[-96.453307718, 43.500386328], [-91.217705458, 43.500549942], [-91.206619889, 43.352524191], [-91.057918221, 43.255366534], [-91.178251505, 43.124981672], [-91.06468007, 42.750914097], [-90.709204227, 42.636078], [-90.641045272, 42.507989109], [-90.419026762, 42.328505069], [-90.391107649, 42.225473374], [-90.162894577, 42.116717845], [-90.18095389, 41.809354126], [-90.310708433, 41.742214411], [-90.343227535, 41.587833166], [-90.461432487, 41.523533911], [-91.045889854, 41.414085031], [-91.113647819, 41.241400391], [-90.946626663, 41.096632183], [-90.95223248, 40.954047292], [-91.092993468, 40.821079463], [-91.123927385, 40.669152439], [-91.401482373, 40.559458137], [-91.372553408, 40.401199758], [-91.420409381, 40.378013402], [-91.72925368, 40.613634735], [-95.766522735, 40.585193932], [-95.888906568, 40.731854439], [-95.809474289, 40.891228616], [-95.882415622, 41.060411632], [-95.842187852, 41.177421659], [-95.927975625, 41.200068891], [-95.928038657, 41.298472434], [-95.872268826, 41.303069741], [-95.957136601, 41.345901936], [-95.920280367, 41.451566219], [-96.011757106, 41.476211697], [-96.005078405, 41.54400453], [-96.094090194, 41.539265066], [-96.121400446, 41.688521951], [-96.064879596, 41.796230078], [-96.161755621, 41.9018206], [-96.12950474, 41.971673369], [-96.240713149, 41.999351084], [-96.347752064, 42.166805416], [-96.328905523, 42.254733592], [-96.418168098, 42.354678065], [-96.381609589, 42.464544028], [-96.440205127, 42.49000892], [-96.63971588, 42.737030983], [-96.436340064, 43.120498359], [-96.585098058, 43.268474489], [-96.521518975, 43.385315537], [-96.599423736, 43.500494957], [-96.453307718, 43.500386328]]]]}\",\"{\\\"type\\\": \\\"MultiPolygon\\\", \\\"coordinates\\\": [[[[-104.053179324, 43.001271486], [-104.057756513, 44.997541755], [-104.045442492, 45.945309699], [-96.561367214, 45.935035497], [-96.583250016, 45.819072872], [-96.857515275, 45.605857372], [-96.692540646, 45.417338312], [-96.45306766, 45.298115462], [-96.453307718, 43.500386328], [-96.599423736, 43.500494957], [-96.521518975, 43.385315537], [-96.585098058, 43.268474489], [-96.436340064, 43.120498359], [-96.63971588, 42.737030983], [-96.440205127, 42.49000892], [-96.617403924, 42.50783354], [-96.69662565, 42.652435452], [-97.241264284, 42.852915823], [-97.845269591, 42.867733687], [-98.035034537, 42.764204443], [-98.498549759, 42.998559773], [-104.053179324, 43.001271486]]]]}\",\"{\\\"type\\\": \\\"MultiPolygon\\\", \\\"coordinates\\\": [[[[-104.048736244, 48.99987638], [-101.361990273, 48.999472708], [-97.228821516, 49.000461102], [-97.090266645, 48.684542477], [-97.175432146, 48.562350422], [-97.127023637, 48.52038458], [-97.142132521, 48.144981265], [-96.851049811, 47.598526776], [-96.839327216, 47.006950825], [-96.752848774, 46.924014241], [-96.798195541, 46.629573405], [-96.599378139, 46.329984069], [-96.561367214, 45.935035497], [-104.045442492, 45.945309699], [-104.048736244, 48.99987638]]]]}\",\"{\\\"type\\\": \\\"MultiPolygon\\\", \\\"coordinates\\\": [[[[-89.4851996, 36.497453749], [-89.53912273, 36.498102844], [-89.528270513, 36.580993831], [-89.4851996, 36.497453749]]], [[[-89.23654139, 36.566823721], [-89.159080535, 36.666352451], [-89.201046377, 36.725771427], [-89.116563499, 36.767557561], [-89.179229289, 36.812915057], [-89.133012146, 36.982000172], [-89.175724983, 37.062069476], [-88.983260393, 37.228685617], [-88.460188061, 37.07447201], [-88.424617946, 37.151726335], [-88.515940458, 37.284192592], [-88.476592451, 37.3868756], [-88.072244078, 37.481963933], [-88.160187006, 37.657592297], [-88.025017083, 37.799896896], [-87.906809449, 37.80762434], [-87.895003706, 37.928528935], [-87.76563406, 37.866623551], [-87.675730437, 37.901929468], [-87.675538659, 37.831732035], [-87.61539951, 37.831973433], [-87.587952465, 37.976173013], [-87.111133486, 37.782512158], [-87.033444643, 37.906592488], [-86.817335039, 37.999099195], [-86.638265401, 37.842718363], [-86.5066199, 37.930718958], [-86.462933421, 38.119425774], [-86.323453188, 38.13903138], [-86.361063123, 38.196728379], [-86.261272877, 38.052720577], [-86.039704978, 37.959232181], [-85.925004333, 38.022591323], [-85.829193145, 38.276550919], [-85.679507107, 38.297855705], [-85.606765598, 38.438685089], [-85.419568866, 38.535027355], [-85.436091274, 38.728496432], [-85.172982663, 38.688068837], [-84.813502282, 38.785398155], [-84.785178155, 38.88001442], [-84.877023697, 38.909009099], [-84.830031395, 38.973046839], [-84.897387028, 39.055475146], [-84.819934219, 39.105440676], [-84.452824295, 39.119255394], [-84.307160228, 39.007299989], [-84.21290338, 38.805706501], [-83.873168081, 38.76241833], [-83.668632209, 38.626407534], [-83.520617187, 38.70295912], [-83.298787773, 38.597284108], [-83.153316826, 38.618900031], [-82.886093706, 38.755200505], [-82.844306231, 38.590861559], [-82.593420446, 38.421862274], [-82.574655712, 38.263873458], [-82.644739151, 38.165487349], [-82.46425733, 37.983412296], [-82.502167672, 37.933119535], [-82.311642319, 37.764294595], [-82.303952426, 37.675760239], [-82.17526406, 37.647971213], [-82.133299559, 37.552995533], [-81.967705339, 37.537783384], [-82.34873727, 37.267939746], [-82.722096741, 37.120167464], [-82.878568769, 36.889584661], [-83.072590381, 36.854588538], [-83.136394769, 36.743087769], [-83.675367236, 36.600771099], [-88.070531487, 36.678117961], [-88.053322434, 36.497118473], [-89.417292774, 36.49903357], [-89.365547597, 36.625058502], [-89.23654139, 36.566823721]]]]}\",\"{\\\"type\\\": \\\"MultiPolygon\\\", \\\"coordinates\\\": [[[[-84.819934219, 39.105440676], [-84.897387028, 39.055475146], [-84.830031395, 38.973046839], [-84.877023697, 38.909009099], [-84.785178155, 38.88001442], [-84.813502282, 38.785398155], [-85.172982663, 38.688068837], [-85.436091274, 38.728496432], [-85.419568866, 38.535027355], [-85.606765598, 38.438685089], [-85.679507107, 38.297855705], [-85.829193145, 38.276550919], [-85.925004333, 38.022591323], [-86.039704978, 37.959232181], [-86.261272877, 38.052720577], [-86.361063123, 38.196728379], [-86.323453188, 38.13903138], [-86.462933421, 38.119425774], [-86.5066199, 37.930718958], [-86.638265401, 37.842718363], [-86.817335039, 37.999099195], [-87.033444643, 37.906592488], [-87.111133486, 37.782512158], [-87.587952465, 37.976173013], [-87.61539951, 37.831973433], [-87.675538659, 37.831732035], [-87.675730437, 37.901929468], [-87.76563406, 37.866623551], [-87.895003706, 37.928528935], [-87.906809449, 37.80762434], [-88.025017083, 37.799896896], [-88.099701852, 37.90440917], [-88.014214486, 37.885648459], [-88.068840355, 37.924885154], [-88.010994494, 37.973186374], [-88.042580187, 38.043110222], [-87.914986163, 38.160290569], [-87.98638925, 38.259089738], [-87.843147218, 38.279324323], [-87.497077882, 38.743126541], [-87.553384155, 38.863344491], [-87.512186766, 38.954417557], [-87.645990103, 39.144899994], [-87.531375289, 39.347705841], [-87.523328662, 41.760350168], [-87.207773477, 41.760956347], [-84.805883467, 41.760216057], [-84.805980027, 41.696127355], [-84.819934219, 39.105440676]]]]}\",\"{\\\"type\\\": \\\"MultiPolygon\\\", \\\"coordinates\\\": [[[[-90.309297591, 34.995694309], [-90.065392256, 35.137690455], [-90.168794096, 35.279088467], [-90.080658048, 35.385790765], [-90.170599222, 35.418351442], [-90.098718703, 35.478595197], [-90.061999261, 35.39875254], [-90.00263527, 35.429950655], [-90.028620511, 35.555248708], [-89.909022152, 35.520547628], [-89.95674938, 35.590510368], [-89.851176292, 35.657431483], [-89.931036383, 35.660043955], [-89.956254512, 35.733386278], [-89.708016068, 35.815927237], [-89.744405597, 35.908039659], [-89.642910808, 35.891967863], [-89.733094722, 36.000608057], [-89.592101723, 36.135637164], [-89.698567986, 36.250591278], [-89.534745365, 36.252576113], [-89.62025553, 36.323005557], [-89.513177723, 36.35989666], [-89.53912273, 36.498102844], [-89.4851996, 36.497453749], [-89.417292774, 36.49903357], [-88.053322434, 36.497118473], [-88.070531487, 36.678117961], [-83.675367236, 36.600771099], [-81.677456796, 36.58815667], [-81.707438529, 36.335170716], [-81.9081375, 36.302013248], [-82.033852637, 36.120528281], [-82.355157137, 36.115609109], [-82.557991147, 35.953879952], [-82.637231648, 36.065825969], [-82.80508697, 35.927143693], [-82.919834554, 35.928896517], [-82.992116064, 35.773921162], [-83.159586489, 35.764659494], [-83.498409837, 35.562938601], [-83.880275935, 35.518820286], [-84.023418725, 35.411617756], [-84.052546173, 35.270192921], [-84.29022342, 35.22543624], [-84.32182923, 34.988408089], [-85.605242103, 34.984610081], [-88.200023174, 34.995604455], [-90.309297591, 34.995694309]]]]}\",\"{\\\"type\\\": \\\"MultiPolygon\\\", \\\"coordinates\\\": [[[[-89.32684198, 30.302531272], [-89.463289976, 30.174465179], [-89.528611153, 30.189819485], [-89.616145045, 30.224249661], [-89.683409482, 30.451793522], [-89.852172732, 30.661809146], [-89.730746448, 31.004669219], [-91.637457758, 30.999304801], [-91.559907049, 31.054118425], [-91.654027104, 31.255753487], [-91.51561439, 31.278210282], [-91.576264501, 31.410498172], [-91.478747427, 31.359860748], [-91.522216648, 31.521990895], [-91.405414492, 31.57646656], [-91.515461504, 31.630372256], [-91.401015669, 31.620364934], [-91.369269043, 31.746706367], [-91.259238124, 31.760436594], [-91.365480423, 31.760641783], [-91.34301424, 31.846861392], [-91.256966293, 31.811711043], [-91.185619533, 31.963829845], [-91.081988364, 32.006204724], [-91.160310209, 32.070353776], [-91.07999146, 32.048000246], [-91.002829671, 32.161783576], [-91.162822098, 32.132693678], [-91.164171249, 32.196888328], [-91.039007306, 32.242349088], [-90.995233655, 32.192797959], [-90.979474336, 32.293702662], [-90.901239663, 32.323386669], [-91.003505588, 32.362144589], [-90.978547633, 32.447032481], [-91.116008162, 32.483140379], [-91.093740463, 32.549128085], [-90.987830758, 32.494189739], [-91.080397815, 32.556442469], [-91.014285386, 32.640481442], [-91.151318103, 32.615919113], [-91.052968204, 32.718643695], [-91.163624078, 32.778186053], [-91.063683629, 32.906363457], [-91.106581539, 32.988937944], [-91.145076603, 32.905494422], [-91.208262742, 32.915354222], [-91.166072935, 33.004105836], [-91.121195555, 33.059166223], [-91.201779842, 33.125120401], [-91.089861989, 33.139655292], [-91.043623388, 33.27463612], [-91.106141657, 33.241799176], [-91.142218709, 33.348989636], [-91.057620496, 33.445341289], [-91.166303605, 33.379708976], [-91.208702624, 33.408718407], [-91.125108898, 33.472841978], [-91.235181391, 33.438972384], [-91.185203791, 33.500735611], [-91.231418252, 33.560593128], [-91.130445153, 33.606033772], [-91.22785762, 33.683073521], [-91.034565568, 33.673017919], [-91.146617532, 33.732455671], [-90.988466442, 33.784529418], [-91.073011011, 33.857449293], [-91.010318398, 33.929352611], [-91.087921411, 33.975335062], [-90.967632383, 33.96332413], [-90.987947434, 34.019037634], [-90.87052837, 34.080516547], [-90.954300463, 34.138497859], [-90.810884088, 34.155902714], [-90.929015279, 34.244540334], [-90.847807378, 34.206529409], [-90.743081868, 34.302257448], [-90.765763968, 34.362109601], [-90.669342577, 34.313019812], [-90.571145564, 34.420318902], [-90.58841899, 34.670963287], [-90.524480492, 34.628503919], [-90.462552309, 34.687575549], [-90.565645695, 34.721053541], [-90.547611862, 34.784588367], [-90.454968363, 34.735557586], [-90.466154516, 34.890988916], [-90.307383835, 34.846194685], [-90.244476646, 34.937596321], [-90.309297591, 34.995694309], [-88.200023174, 34.995604455], [-88.097794801, 34.892122149], [-88.473101556, 31.893939525], [-88.395836502, 30.384795964], [-88.480944335, 30.318523943], [-88.610838354, 30.377261639], [-88.729719222, 30.343125165], [-88.966166675, 30.461363643], [-89.043184966, 30.426139534], [-88.856743276, 30.390560031], [-88.877500507, 30.386319026], [-89.28419888, 30.303224623], [-89.242926389, 30.347570926], [-89.350189269, 30.37135005], [-89.32684198, 30.302531272]]], [[[-89.066544324, 30.249526799], [-89.101409018, 30.221399814], [-89.151641428, 30.229958743], [-89.066544324, 30.249526799]]], [[[-88.580719829, 30.227043182], [-88.77848044, 30.242090374], [-88.711646497, 30.251006037], [-88.580719829, 30.227043182]]]]}\",\"{\\\"type\\\": \\\"MultiPolygon\\\", \\\"coordinates\\\": [[[[-85.605242103, 34.984610081], [-85.184085667, 32.862707824], [-84.96303007, 32.424244434], [-85.005290955, 32.325855643], [-84.88841638, 32.260884494], [-85.061143935, 32.134065628], [-85.140730441, 31.857461482], [-85.041304976, 31.540987641], [-85.107516646, 31.186450571], [-85.001656562, 31.000696868], [-87.598828822, 30.997455418], [-87.634743601, 30.865610093], [-87.406075895, 30.674638152], [-87.450371236, 30.514461994], [-87.388964742, 30.450668335], [-87.539708912, 30.306267589], [-87.60425359, 30.360721797], [-87.609796375, 30.302556753], [-87.751187682, 30.282507241], [-87.707018405, 30.334786177], [-87.753849775, 30.291099697], [-87.825019509, 30.414018631], [-87.906427234, 30.41019246], [-87.913494855, 30.651769638], [-88.011820614, 30.685297251], [-88.086363226, 30.52508086], [-88.143183142, 30.533502996], [-88.093534112, 30.521056205], [-88.128058165, 30.338653922], [-88.395836502, 30.384795964], [-88.473101556, 31.893939525], [-88.097794801, 34.892122149], [-88.200023174, 34.995604455], [-85.605242103, 34.984610081]]], [[[-88.027172238, 30.224967152], [-87.936872989, 30.260506421], [-87.514725477, 30.308111608], [-88.027172238, 30.224967152]]], [[[-87.456230521, 30.305736512], [-87.518255264, 30.279979259], [-87.509202808, 30.286252946], [-87.456230521, 30.305736512]]]]}\",\"{\\\"type\\\": \\\"MultiPolygon\\\", \\\"coordinates\\\": [[[[-81.49959147, 30.943642259], [-81.515755802, 30.848426521], [-81.601021886, 30.855051577], [-81.494534165, 30.77856034], [-81.572892219, 30.721949637], [-81.901729703, 30.829801261], [-82.02252835, 30.788169354], [-82.03720808, 30.371941477], [-82.161776572, 30.357111543], [-82.21470058, 30.568480343], [-84.864611775, 30.71159631], [-85.001656562, 31.000696868], [-85.107516646, 31.186450571], [-85.041304976, 31.540987641], [-85.140730441, 31.857461482], [-85.061143935, 32.134065628], [-84.88841638, 32.260884494], [-85.005290955, 32.325855643], [-84.96303007, 32.424244434], [-85.184085667, 32.862707824], [-85.605242103, 34.984610081], [-84.32182923, 34.988408089], [-83.108569533, 35.001361817], [-83.111965209, 34.934908748], [-83.306010962, 34.816326946], [-83.342002183, 34.68029201], [-83.03921029, 34.486388415], [-82.876610756, 34.475074857], [-82.556835115, 33.945353329], [-81.928711385, 33.464853019], [-81.939983368, 33.345049471], [-81.751638651, 33.147870898], [-81.491957903, 33.009098768], [-81.418663859, 32.629398555], [-81.1872603, 32.464225441], [-81.11722514, 32.11760357], [-80.849422663, 32.034107745], [-81.137567014, 31.720619202], [-81.267627329, 31.382485181], [-81.324750334, 31.423850209], [-81.271289885, 31.256263107], [-81.471626759, 31.098860353], [-81.407343596, 31.11876905], [-81.420930326, 31.01768598], [-81.603563399, 30.981382528], [-81.49959147, 30.943642259]], [[-81.67970717, 30.952178389], [-81.641322076, 30.995088369], [-81.604924582, 30.981876618], [-81.672695875, 31.041859388], [-81.67970717, 30.952178389]], [[-81.604219079, 30.981252193], [-81.603563399, 30.981382528], [-81.604924582, 30.981876618], [-81.604219079, 30.981252193]]], [[[-81.450878531, 30.713652223], [-81.466024965, 30.857442766], [-81.403813809, 30.950146616], [-81.450878531, 30.713652223]]]]}\",\"{\\\"type\\\": \\\"MultiPolygon\\\", \\\"coordinates\\\": [[[[-109.045182019, 36.998981237], [-109.05002743, 41.000689566], [-104.053214192, 41.001679301], [-102.051578164, 41.002360582], [-102.051756531, 40.00306204], [-102.042127401, 36.993127316], [-103.002441376, 37.000086308], [-109.045182019, 36.998981237]]]]}\",\"{\\\"type\\\": \\\"MultiPolygon\\\", \\\"coordinates\\\": [[[[-111.053150743, 44.478076994], [-111.055267006, 44.840352237], [-111.054585725, 45.000937432], [-104.057756513, 44.997541755], [-104.053179324, 43.001271486], [-104.053214192, 41.001679301], [-109.05002743, 41.000689566], [-111.04680866, 40.997870564], [-111.046679914, 42.001672536], [-111.053150743, 44.478076994]]]]}\",\"{\\\"type\\\": \\\"MultiPolygon\\\", \\\"coordinates\\\": [[[[-114.050051272, 37.000190914], [-114.052882344, 37.549260557], [-114.04150039, 41.993802935], [-111.046679914, 42.001672536], [-111.04680866, 40.997870564], [-109.05002743, 41.000689566], [-109.045182019, 36.998981237], [-114.050051272, 37.000190914]]]]}\",\"{\\\"type\\\": \\\"MultiPolygon\\\", \\\"coordinates\\\": [[[[-109.0500395, 31.332408339], [-109.050223231, 31.484944224], [-109.045182019, 36.998981237], [-103.002441376, 37.000086308], [-103.002461493, 36.500439048], [-103.064631075, 32.000391036], [-106.618739069, 32.000660598], [-106.635750979, 31.866302043], [-106.527981162, 31.78384155], [-108.208394498, 31.783626974], [-108.208487034, 31.333416849], [-108.756412715, 31.332522333], [-109.0500395, 31.332408339]]]]}\",\"{\\\"type\\\": \\\"MultiPolygon\\\", \\\"coordinates\\\": [[[[-114.818357974, 32.499082088], [-114.719961137, 32.718655765], [-114.539008588, 32.749860585], [-114.469154477, 32.844391018], [-114.509588778, 33.022000194], [-114.706819654, 33.088846207], [-114.672287554, 33.25971365], [-114.731474519, 33.30327943], [-114.72538054, 33.405411243], [-114.524175972, 33.552963585], [-114.534388483, 33.93816635], [-114.416719973, 34.107010067], [-114.13078174, 34.261938483], [-114.385775328, 34.456904233], [-114.469869286, 34.710430652], [-114.633581936, 34.871618003], [-114.632961005, 35.001888871], [-114.645979106, 35.103406459], [-114.569734633, 35.185522288], [-114.678812027, 35.497923195], [-114.7114411, 35.806756765], [-114.662209153, 35.872348845], [-114.755618423, 36.087165624], [-114.405474812, 36.147370487], [-114.252650589, 36.020193547], [-114.148190618, 36.028013527], [-114.046654254, 36.1940597], [-114.050051272, 37.000190914], [-109.045182019, 36.998981237], [-109.050223231, 31.484944224], [-109.0500395, 31.332408339], [-111.074824333, 31.33223936], [-114.81358096, 32.494077086], [-114.818357974, 32.499082088]]]]}\",\"{\\\"type\\\": \\\"MultiPolygon\\\", \\\"coordinates\\\": [[[[-87.509202808, 30.286252946], [-87.311753333, 30.326134712], [-87.518255264, 30.279979259], [-87.509202808, 30.286252946]]], [[[-87.301349044, 30.33050403], [-86.510488987, 30.381066352], [-87.18794927, 30.323988944], [-87.301349044, 30.33050403]]], [[[-85.717536807, 30.137887895], [-85.789032429, 30.170350671], [-85.734795481, 30.12055546], [-86.088096052, 30.303114653], [-86.515818536, 30.396717042], [-86.103892922, 30.384120047], [-86.192659289, 30.508152097], [-86.421196908, 30.451230258], [-86.417950094, 30.50791204], [-86.500010937, 30.522409379], [-86.492424309, 30.461765975], [-86.609867513, 30.46625331], [-86.60218969, 30.401388109], [-87.18363896, 30.343189538], [-86.862624139, 30.440490693], [-87.020139545, 30.504981726], [-87.025839239, 30.626119673], [-87.067939192, 30.448037088], [-87.182271034, 30.582236052], [-87.148578465, 30.490523279], [-87.266268432, 30.344117582], [-87.498106509, 30.31304419], [-87.343183458, 30.426319242], [-87.388964742, 30.450668335], [-87.450371236, 30.514461994], [-87.406075895, 30.674638152], [-87.634743601, 30.865610093], [-87.598828822, 30.997455418], [-85.001656562, 31.000696868], [-84.864611775, 30.71159631], [-82.21470058, 30.568480343], [-82.161776572, 30.357111543], [-82.03720808, 30.371941477], [-82.02252835, 30.788169354], [-81.901729703, 30.829801261], [-81.572892219, 30.721949637], [-81.562725306, 30.71231246], [-81.562060118, 30.711876601], [-81.49930045, 30.721194595], [-81.58448875, 30.705665946], [-81.525382251, 30.625269413], [-81.483531743, 30.673522353], [-81.495738477, 30.565242916], [-81.65994063, 30.563498139], [-81.533422172, 30.500242263], [-81.508841451, 30.537035033], [-81.517976671, 30.558199435], [-81.46235168, 30.522760749], [-81.461384351, 30.492892487], [-81.458250582, 30.396130979], [-81.526047438, 30.452207923], [-81.556439342, 30.39128696], [-81.376189739, 30.396409929], [-81.169638187, 29.56827119], [-80.526020676, 28.460779041], [-80.604372025, 28.351908177], [-80.574525744, 28.121214062], [-80.032598823, 26.802547574], [-80.057334155, 26.84286654], [-80.09713374, 26.212677435], [-80.104565173, 26.095007658], [-80.106769949, 26.153927743], [-80.168297142, 26.097913831], [-80.114265382, 26.086173803], [-80.128305405, 25.913306773], [-80.306048691, 25.614518076], [-80.305632949, 25.38535282], [-80.429478586, 25.258457512], [-80.394597432, 25.18927131], [-80.366224051, 25.28468281], [-80.256508291, 25.333100706], [-80.403498072, 25.159341024], [-80.395075357, 25.187664186], [-80.443092138, 25.244468451], [-80.673609227, 25.138442069], [-80.805874318, 25.183500499], [-81.089126319, 25.116797984], [-81.171901971, 25.22569567], [-81.145401746, 25.327005386], [-81.047187299, 25.235711038], [-81.005229503, 25.27330488], [-81.018004864, 25.212122351], [-80.962680473, 25.222543332], [-80.847626925, 25.244214982], [-80.957192481, 25.297475606], [-80.903801769, 25.353364795], [-80.965091586, 25.303532034], [-80.940868556, 25.375134945], [-81.039437056, 25.372503698], [-80.923204869, 25.442009121], [-81.091720015, 25.350254774], [-81.152810007, 25.42491138], [-81.058822721, 25.43843776], [-81.168384254, 25.459798872], [-81.051958948, 25.482832342], [-81.209530681, 25.50619036], [-81.134583056, 25.576300621], [-81.1118339, 25.515555292], [-81.034157007, 25.549383701], [-80.998128355, 25.565074235], [-81.107872277, 25.575533509], [-81.152336597, 25.652326494], [-81.164195985, 25.557365566], [-81.225932389, 25.55745542], [-81.288140863, 25.726505667], [-81.207906604, 25.712021738], [-81.236136854, 25.654709637], [-81.181246787, 25.726140887], [-81.252779961, 25.80911234], [-81.311005354, 25.794629753], [-81.299934536, 25.693157762], [-81.37668997, 25.767653435], [-81.287926286, 25.858259797], [-81.350614876, 25.82106024], [-81.543122381, 25.929449648], [-81.577647775, 25.890725255], [-81.626474025, 25.985023688], [-81.625703573, 25.986717492], [-81.652650386, 25.934710801], [-81.658508514, 25.940140833], [-81.6899921, 25.904932916], [-81.749600172, 25.968216956], [-81.664064822, 25.945291103], [-81.775562396, 26.048640759], [-81.779095083, 26.051915288], [-81.780678385, 26.060142447], [-81.868472993, 26.51634112], [-81.884399951, 26.438595951], [-82.013485283, 26.487299502], [-81.956122944, 26.539607859], [-82.034999281, 26.52902931], [-82.082420737, 26.685070843], [-82.026732713, 26.87879473], [-82.096931487, 26.914218664], [-81.98789835, 26.995069832], [-82.156265974, 26.953455359], [-82.1641168, 27.006414235], [-82.157676816, 26.942675561], [-82.274967134, 27.021885216], [-82.1479927, 26.790268421], [-82.270002365, 26.827742904], [-82.417116009, 27.024650125], [-82.340937406, 26.89772442], [-82.444788516, 27.059525996], [-82.469632477, 27.112150937], [-82.444627305, 27.070488333], [-82.574831396, 27.416388541], [-82.692135125, 27.473589331], [-82.420195341, 27.518323213], [-82.604127824, 27.516721934], [-82.542669028, 27.574637532], [-82.620383352, 27.586112022], [-82.429159284, 27.717290819], [-82.481482476, 27.743243873], [-82.382633686, 27.820901871], [-82.410248369, 27.952016294], [-82.490505427, 27.918786407], [-82.472687513, 27.82239452], [-82.533871382, 27.832876593], [-82.540174574, 27.968932986], [-82.696606368, 28.036578298], [-82.729636431, 27.934243977], [-82.582587004, 27.879235893], [-82.679308802, 27.694374025], [-82.791770548, 27.811721696], [-82.7840437, 27.782962024], [-82.803256331, 27.823706483], [-82.848747969, 27.871174514], [-82.83577472, 27.892668619], [-82.84311533, 27.908235937], [-82.833083868, 27.965491712], [-82.820373916, 27.918184704], [-82.783763409, 27.978841066], [-82.800798118, 28.170564026], [-82.711687088, 28.181834668], [-82.79914856, 28.185123056], [-82.651436627, 28.470083624], [-82.628008872, 28.907138854], [-82.776172757, 28.943084478], [-82.698294818, 28.958971202], [-82.794505656, 29.177903831], [-83.067223281, 29.187160134], [-83.067704737, 29.291413575], [-83.163742572, 29.308955222], [-83.169073462, 29.400822222], [-83.400675505, 29.517619014], [-83.414420485, 29.664009959], [-83.359051645, 29.683599472], [-83.548560441, 29.728294462], [-83.677576035, 29.925397933], [-83.977681696, 30.121243447], [-84.166452885, 30.07142812], [-84.274118096, 30.114716291], [-84.384226799, 30.037547797], [-84.34164539, 29.970172048], [-84.440605491, 29.991372228], [-84.348025024, 29.897198528], [-84.51218158, 29.917076379], [-84.887744486, 29.722685963], [-85.349182338, 29.665969312], [-85.384816049, 29.750798454], [-85.30892238, 29.687705934], [-85.362390876, 29.896384478], [-85.731040388, 30.117993951], [-85.596484691, 30.057085007], [-85.68694219, 30.122899711], [-85.622705966, 30.125572532], [-85.473073572, 30.004423857], [-85.392045379, 30.051433593], [-85.419240296, 30.096685141], [-85.479732156, 30.031122565], [-85.538716614, 30.128706694], [-85.729297739, 30.175304797], [-85.717536807, 30.137887895]], [[-85.732999742, 30.176209956], [-85.729297739, 30.175304797], [-85.730341974, 30.178626984], [-85.732999742, 30.176209956]], [[-81.479871869, 30.469918549], [-81.504165977, 30.544033349], [-81.508841451, 30.537035033], [-81.479871869, 30.469918549]], [[-81.573946649, 30.390789375], [-81.558439136, 30.387278348], [-81.556439342, 30.39128696], [-81.573946649, 30.390789375]], [[-81.696702987, 30.41858241], [-81.632528798, 30.369150865], [-81.620048136, 30.389479101], [-81.573946649, 30.390789375], [-81.696702987, 30.41858241]], [[-81.654055035, 30.334089391], [-81.619480848, 30.359100401], [-81.632528798, 30.369150865], [-81.654055035, 30.334089391]], [[-81.71477437, 30.290164948], [-81.690901369, 30.192488283], [-81.621823758, 30.217866004], [-81.665921956, 30.314760804], [-81.654055035, 30.334089391], [-81.71477437, 30.290164948]], [[-81.947682649, 26.540739834], [-81.94494955, 26.549796807], [-81.956122944, 26.539607859], [-81.947682649, 26.540739834]], [[-81.775635034, 26.704193652], [-81.906489283, 26.677246839], [-81.94494955, 26.549796807], [-81.775635034, 26.704193652]], [[-85.577465147, 30.317656249], [-85.71993202, 30.234085321], [-85.762027949, 30.314472467], [-85.851326734, 30.283900648], [-85.742184967, 30.216304958], [-85.730341974, 30.178626984], [-85.577465147, 30.317656249]], [[-81.023831964, 25.474213064], [-80.927482992, 25.502653867], [-81.088489294, 25.497950613], [-81.023831964, 25.474213064]]], [[[-85.417476743, 29.828550071], [-85.384132862, 29.878535718], [-85.400428755, 29.787965856], [-85.417476743, 29.828550071]]], [[[-85.404214561, 29.766924977], [-85.400428755, 29.787965856], [-85.384816049, 29.750798454], [-85.404214561, 29.766924977]]], [[[-82.588946521, 27.328288704], [-82.689389884, 27.441972792], [-82.627782226, 27.379868925], [-82.588946521, 27.328288704]]], [[[-82.094623446, 26.491183341], [-82.156845331, 26.70198217], [-82.065459788, 26.611542106], [-82.094623446, 26.491183341]]], [[[-82.115713656, 26.454411596], [-82.182173431, 26.481051296], [-82.013644874, 26.452834457], [-82.115713656, 26.454411596]]], [[[-81.650031209, 25.933234245], [-81.6265136, 25.98510012], [-81.626474025, 25.985023688], [-81.650031209, 25.933234245]]], [[[-81.3716501, 24.708097726], [-81.332522035, 24.639717489], [-81.395916045, 24.74547565], [-81.3716501, 24.708097726]]], [[[-80.981246531, 24.745203406], [-81.028889269, 24.730148166], [-80.92340067, 24.777096212], [-80.981246531, 24.745203406]]], [[[-80.480781198, 25.220223963], [-80.421168696, 25.138452211], [-80.422645095, 25.136706929], [-80.480781198, 25.220223963]]], [[[-80.564676672, 24.968808442], [-80.422645095, 25.136706929], [-80.417249054, 25.128955096], [-80.564676672, 24.968808442]]], [[[-80.413029939, 25.127288103], [-80.421168696, 25.138452211], [-80.403498072, 25.159341024], [-80.413029939, 25.127288103]]]]}\",\"{\\\"type\\\": \\\"MultiPolygon\\\", \\\"coordinates\\\": [[[[-82.593420446, 38.421862274], [-82.844306231, 38.590861559], [-82.886093706, 38.755200505], [-83.153316826, 38.618900031], [-83.298787773, 38.597284108], [-83.520617187, 38.70295912], [-83.668632209, 38.626407534], [-83.873168081, 38.76241833], [-84.21290338, 38.805706501], [-84.307160228, 39.007299989], [-84.452824295, 39.119255394], [-84.819934219, 39.105440676], [-84.805980027, 41.696127355], [-83.415851444, 41.733793616], [-83.112460077, 41.95941031], [-83.069111556, 41.863583028], [-82.679721862, 41.676555276], [-82.397471666, 41.676555276], [-81.245721728, 42.207556218], [-80.521082729, 42.323235869], [-80.518990606, 40.638800561], [-80.667812973, 40.583536327], [-80.601566434, 40.31485945], [-80.869122148, 39.766735286], [-80.879313201, 39.621756524], [-81.217314452, 39.387590289], [-81.37494117, 39.342011511], [-81.455361843, 39.40954417], [-81.569889486, 39.268214554], [-81.684336662, 39.270422012], [-81.746652424, 39.095983207], [-81.813703626, 39.079341441], [-81.763038039, 38.924506903], [-81.904647946, 38.876801133], [-81.932544261, 38.987450302], [-82.037382424, 39.024270326], [-82.221443653, 38.787636459], [-82.177283764, 38.603953421], [-82.290259749, 38.580368757], [-82.330631018, 38.444353938], [-82.593420446, 38.421862274]]]]}\",\"{\\\"type\\\": \\\"MultiPolygon\\\", \\\"coordinates\\\": [[[[-81.967705339, 37.537783384], [-82.133299559, 37.552995533], [-82.17526406, 37.647971213], [-82.303952426, 37.675760239], [-82.311642319, 37.764294595], [-82.502167672, 37.933119535], [-82.46425733, 37.983412296], [-82.644739151, 38.165487349], [-82.574655712, 38.263873458], [-82.593420446, 38.421862274], [-82.330631018, 38.444353938], [-82.290259749, 38.580368757], [-82.177283764, 38.603953421], [-82.221443653, 38.787636459], [-82.037382424, 39.024270326], [-81.932544261, 38.987450302], [-81.904647946, 38.876801133], [-81.763038039, 38.924506903], [-81.813703626, 39.079341441], [-81.746652424, 39.095983207], [-81.684336662, 39.270422012], [-81.569889486, 39.268214554], [-81.455361843, 39.40954417], [-81.37494117, 39.342011511], [-81.217314452, 39.387590289], [-80.879313201, 39.621756524], [-80.869122148, 39.766735286], [-80.601566434, 40.31485945], [-80.667812973, 40.583536327], [-80.518990606, 40.638800561], [-80.51944524, 39.721249044], [-79.476759285, 39.721131027], [-79.473098069, 39.201927781], [-79.103496373, 39.475856423], [-78.956351727, 39.440380186], [-78.775278479, 39.645656347], [-78.689288199, 39.545642138], [-78.47197026, 39.5158723], [-78.39531675, 39.58401382], [-78.430216312, 39.623263925], [-78.266333342, 39.618908018], [-78.176341206, 39.695993364], [-77.946210355, 39.584712535], [-77.833455652, 39.602683336], [-77.88871184, 39.555269927], [-77.765992731, 39.495723546], [-77.803239226, 39.437161535], [-77.719028592, 39.32112515], [-77.828148901, 39.132281542], [-78.347086608, 39.466011375], [-78.403697312, 39.167450666], [-78.869276494, 38.762990981], [-78.998171389, 38.84735316], [-79.282971025, 38.418095112], [-79.476574212, 38.457126617], [-79.649199843, 38.591528088], [-79.789105207, 38.268207908], [-80.306964666, 37.689621896], [-80.220863074, 37.627774179], [-80.328504145, 37.564314455], [-80.299788415, 37.508271039], [-80.464819372, 37.426144481], [-80.511390567, 37.481674254], [-80.77008158, 37.372363508], [-80.859556049, 37.429568321], [-80.900534838, 37.315000445], [-81.225103587, 37.234873474], [-81.362156421, 37.337674499], [-81.678210497, 37.201482654], [-81.925642937, 37.357316315], [-81.967705339, 37.537783384]]]]}\",\"{\\\"type\\\": \\\"MultiPolygon\\\", \\\"coordinates\\\": [[[[-77.038935721, 38.791630268], [-77.119766772, 38.934279531], [-77.041023821, 38.995852321], [-76.90936625, 38.892862201], [-77.038935721, 38.791630268]]]]}\",\"{\\\"type\\\": \\\"MultiPolygon\\\", \\\"coordinates\\\": [[[[-80.521082729, 42.323235869], [-79.761840552, 42.514689267], [-79.761800319, 41.998841465], [-75.359546989, 41.99950397], [-75.258922577, 41.862668395], [-75.071971267, 41.813711375], [-75.074613243, 41.60571143], [-74.983340353, 41.480893493], [-74.738456011, 41.430642307], [-74.695482999, 41.3577573], [-75.131347328, 40.990668833], [-75.050754994, 40.865826756], [-75.204062015, 40.692101419], [-75.1943551, 40.576479435], [-75.067905039, 40.541244596], [-75.058489144, 40.418364555], [-74.722303748, 40.149699748], [-75.254503638, 39.852608889], [-75.422442108, 39.806374311], [-75.632292777, 39.83086288], [-75.788602531, 39.722128808], [-79.476759285, 39.721131027], [-80.51944524, 39.721249044], [-80.518990606, 40.638800561], [-80.521082729, 42.323235869]]]]}\",\"{\\\"type\\\": \\\"MultiPolygon\\\", \\\"coordinates\\\": [[[[-75.788602531, 39.722128808], [-75.632292777, 39.83086288], [-75.422442108, 39.806374311], [-75.611002743, 39.624768645], [-75.588334054, 39.458169937], [-75.405644774, 39.259044081], [-75.454241037, 39.244493097], [-75.403858423, 39.239490777], [-75.403949618, 39.065569639], [-75.30609861, 38.916244358], [-75.088100731, 38.794647753], [-75.062049776, 38.608856499], [-75.077870786, 38.694397509], [-75.184078217, 38.715426028], [-75.097119659, 38.620379269], [-75.285044611, 38.591230363], [-75.059776604, 38.607719243], [-75.050588697, 38.451260626], [-75.693655014, 38.460091799], [-75.788602531, 39.722128808]]]]}\",\"{\\\"type\\\": \\\"MultiPolygon\\\", \\\"coordinates\\\": [[[[-77.520547807, 39.121347517], [-77.457580268, 39.225084633], [-77.564341575, 39.304751605], [-77.719028592, 39.32112515], [-77.803239226, 39.437161535], [-77.765992731, 39.495723546], [-77.88871184, 39.555269927], [-77.833455652, 39.602683336], [-77.946210355, 39.584712535], [-78.176341206, 39.695993364], [-78.266333342, 39.618908018], [-78.430216312, 39.623263925], [-78.39531675, 39.58401382], [-78.47197026, 39.5158723], [-78.689288199, 39.545642138], [-78.775278479, 39.645656347], [-78.956351727, 39.440380186], [-79.103496373, 39.475856423], [-79.473098069, 39.201927781], [-79.476759285, 39.721131027], [-75.788602531, 39.722128808], [-75.693655014, 38.460091799], [-75.050588697, 38.451260626], [-75.19175604, 38.208819777], [-75.16337961, 38.2946679], [-75.275412798, 38.236270845], [-75.377916098, 38.01515758], [-75.648158044, 37.966444641], [-75.758364648, 37.999254763], [-75.848755091, 37.923810929], [-75.868288279, 38.01582545], [-75.776865184, 38.071394116], [-75.863775462, 38.094430268], [-75.758344531, 38.155946732], [-75.932759196, 38.148714155], [-76.332085133, 38.474739343], [-76.16495803, 38.55391413], [-76.202369481, 38.592500389], [-76.275659502, 38.532244563], [-76.288754046, 38.628000766], [-76.046420485, 38.591194153], [-76.176948845, 38.675450385], [-76.085114032, 38.766591847], [-76.201067269, 38.67239669], [-76.298388541, 38.719008118], [-76.261218488, 38.81914705], [-76.340870708, 38.733977526], [-76.254998446, 38.861424029], [-76.199472696, 38.803815544], [-76.177192926, 38.933578134], [-76.203699857, 38.893865347], [-76.246007681, 38.973780423], [-76.201001206, 39.018468621], [-76.112500727, 39.10634324], [-76.22647047, 39.052897543], [-76.272742599, 39.169304073], [-76.185749173, 39.319180548], [-76.005562395, 39.415278733], [-75.980210155, 39.520108849], [-76.171253175, 39.664716125], [-76.083610654, 39.543582201], [-76.13354668, 39.488630444], [-76.059895903, 39.449077249], [-76.397895813, 39.29000482], [-76.477576196, 39.166759998], [-76.394721419, 39.011604935], [-76.50946632, 38.869722784], [-76.541682333, 38.901702762], [-76.551284641, 38.822961152], [-76.489671618, 38.838917613], [-76.566248685, 38.768285662], [-76.505670995, 38.503723294], [-76.380378306, 38.384456187], [-76.422549337, 38.304875046], [-76.321546733, 38.038158864], [-76.450582445, 38.212031722], [-76.464106143, 38.128663301], [-76.492813437, 38.130800139], [-76.530372798, 38.133595884], [-76.555223465, 38.210804611], [-76.685678065, 38.233188987], [-76.626826376, 38.284377605], [-76.71946317, 38.233231902], [-76.728987694, 38.319129646], [-76.775322855, 38.227263987], [-76.841240823, 38.33642453], [-76.789120138, 38.364968598], [-76.931750625, 38.417150974], [-76.833457053, 38.273368478], [-76.924444288, 38.290016949], [-77.023665905, 38.505738974], [-77.091430575, 38.4077847], [-77.244497538, 38.378564715], [-77.263244838, 38.511625081], [-77.136313319, 38.588145822], [-77.207361013, 38.563804775], [-77.191472948, 38.619235307], [-77.046165615, 38.714460433], [-77.038935721, 38.791630268], [-76.90936625, 38.892862201], [-77.041023821, 38.995852321], [-77.119766772, 38.934279531], [-77.520547807, 39.121347517]]], [[[-76.342174262, 38.955513239], [-76.337517912, 38.950547733], [-76.375200301, 38.839078546], [-76.342174262, 38.955513239]]], [[[-76.308138371, 39.037456065], [-76.248365343, 38.97153005], [-76.292888671, 38.902955353], [-76.337517912, 38.950547733], [-76.308138371, 39.037456065]]], [[[-76.040507555, 37.953992486], [-76.040349305, 37.953991145], [-76.037976891, 37.953973711], [-76.044174135, 37.953773886], [-76.040507555, 37.953992486]]], [[[-76.025243104, 37.95371756], [-76.025143787, 37.953714824], [-76.026518494, 37.953713536], [-76.025243104, 37.95371756]]], [[[-76.019361019, 37.953720242], [-76.024610102, 37.953700125], [-76.025143787, 37.953714824], [-76.019361019, 37.953720242]]], [[[-75.252816528, 38.026451021], [-75.090182126, 38.322448879], [-75.24520576, 38.026908338], [-75.252816528, 38.026451021]]]]}\",\"{\\\"type\\\": \\\"MultiPolygon\\\", \\\"coordinates\\\": [[[[-116.049231738, 49.000844657], [-114.068207145, 48.998871893], [-110.005077571, 48.9996095], [-104.048736244, 48.99987638], [-104.045442492, 45.945309699], [-104.057756513, 44.997541755], [-111.054585725, 45.000937432], [-111.055267006, 44.840352237], [-111.053150743, 44.478076994], [-111.384824663, 44.754953384], [-111.516310573, 44.643997103], [-111.468002647, 44.538951069], [-112.286568582, 44.568558633], [-112.386523783, 44.447308034], [-112.78080985, 44.484660476], [-112.854267508, 44.359587729], [-113.004506081, 44.452826679], [-113.131459057, 44.772757888], [-113.341276199, 44.784664214], [-113.455071598, 44.865424186], [-113.498818427, 44.942202419], [-113.44393909, 44.959380627], [-113.452043384, 45.059173554], [-113.691886514, 45.262502432], [-113.76602143, 45.520620793], [-113.834778517, 45.520657003], [-113.806431592, 45.601630211], [-113.935259432, 45.694340765], [-114.330047071, 45.459722579], [-114.456077367, 45.56224063], [-114.564936161, 45.557710379], [-114.495147765, 45.703969896], [-114.56646502, 45.773310363], [-114.387867451, 45.883926004], [-114.527358413, 46.145410538], [-114.444090575, 46.16927281], [-114.470719546, 46.266041547], [-114.32074517, 46.647062749], [-114.60573256, 46.635899395], [-114.665375501, 46.739234179], [-114.7667858, 46.696902215], [-114.787500501, 46.782775819], [-114.89518851, 46.801630408], [-114.925143421, 46.918680668], [-115.319786221, 47.256684601], [-115.759303719, 47.423862666], [-115.629487485, 47.479609698], [-115.755619705, 47.547933608], [-115.687758476, 47.595300078], [-115.72264865, 47.695118487], [-116.049108356, 47.976841629], [-116.049231738, 49.000844657]]]]}\",\"{\\\"type\\\": \\\"MultiPolygon\\\", \\\"coordinates\\\": [[[[-116.917429268, 45.996560007], [-116.982479542, 46.089388579], [-116.921869665, 46.167808324], [-117.062747329, 46.353623718], [-117.032349855, 48.99919644], [-116.049231738, 49.000844657], [-116.049108356, 47.976841629], [-115.72264865, 47.695118487], [-115.687758476, 47.595300078], [-115.755619705, 47.547933608], [-115.629487485, 47.479609698], [-115.759303719, 47.423862666], [-115.319786221, 47.256684601], [-114.925143421, 46.918680668], [-114.89518851, 46.801630408], [-114.787500501, 46.782775819], [-114.7667858, 46.696902215], [-114.665375501, 46.739234179], [-114.60573256, 46.635899395], [-114.32074517, 46.647062749], [-114.470719546, 46.266041547], [-114.444090575, 46.16927281], [-114.527358413, 46.145410538], [-114.387867451, 45.883926004], [-114.56646502, 45.773310363], [-114.495147765, 45.703969896], [-114.564936161, 45.557710379], [-114.456077367, 45.56224063], [-114.330047071, 45.459722579], [-113.935259432, 45.694340765], [-113.806431592, 45.601630211], [-113.834778517, 45.520657003], [-113.76602143, 45.520620793], [-113.691886514, 45.262502432], [-113.452043384, 45.059173554], [-113.44393909, 44.959380627], [-113.498818427, 44.942202419], [-113.455071598, 44.865424186], [-113.341276199, 44.784664214], [-113.131459057, 44.772757888], [-113.004506081, 44.452826679], [-112.854267508, 44.359587729], [-112.78080985, 44.484660476], [-112.386523783, 44.447308034], [-112.286568582, 44.568558633], [-111.468002647, 44.538951069], [-111.516310573, 44.643997103], [-111.384824663, 44.754953384], [-111.053150743, 44.478076994], [-111.046679914, 42.001672536], [-114.04150039, 41.993802935], [-117.02626124, 42.000263035], [-117.026870102, 43.832478672], [-116.935240477, 43.990938216], [-116.977351159, 44.085364044], [-116.893801689, 44.161918312], [-116.97641775, 44.242827147], [-117.198146582, 44.273828119], [-117.242684662, 44.39654991], [-117.062272578, 44.7271429], [-116.851222962, 44.889380336], [-116.848240346, 45.022184551], [-116.463568658, 45.604170263], [-116.547629088, 45.752489716], [-116.782676429, 45.825376064], [-116.917429268, 45.996560007]]]]}\",\"{\\\"type\\\": \\\"MultiPolygon\\\", \\\"coordinates\\\": [[[[-91.217705458, 43.500549942], [-91.244544983, 43.7753959], [-91.432522237, 43.996827006], [-91.871404052, 44.197736531], [-91.97025016, 44.365829229], [-92.232472301, 44.445434511], [-92.336114198, 44.554003626], [-92.548059672, 44.567791522], [-92.80655086, 44.750157595], [-92.762601525, 45.288250297], [-92.646461874, 45.44175446], [-92.770522088, 45.567289889], [-92.883245945, 45.574896634], [-92.869492918, 45.716261119], [-92.707563937, 45.894949883], [-92.294033021, 46.074377596], [-92.292028069, 46.667969227], [-92.207091898, 46.651940346], [-92.116414458, 46.748652756], [-92.020289451, 46.704039574], [-90.662777871, 47.302499413], [-89.95710209, 47.291102707], [-90.418620408, 46.566359103], [-90.216636658, 46.501637399], [-90.120263547, 46.33699134], [-89.091740996, 46.138388515], [-88.670827299, 45.988546908], [-88.514691889, 46.020018607], [-88.102460504, 45.921546668], [-88.130128831, 45.80970794], [-87.78141886, 45.681483597], [-87.833732665, 45.561045706], [-87.792768627, 45.499966443], [-87.88805142, 45.354696661], [-87.6573506, 45.368754119], [-87.741809338, 45.197469592], [-87.659952343, 45.107512325], [-87.44250834, 45.076433569], [-87.40569368, 45.201968998], [-87.10113287, 45.444230139], [-86.754236072, 45.443610549], [-86.249547601, 45.236125588], [-86.686287671, 44.881002456], [-87.013234198, 44.131904393], [-87.147166282, 43.379858583], [-87.019924968, 42.493499815], [-90.641045272, 42.507989109], [-90.709204227, 42.636078], [-91.06468007, 42.750914097], [-91.178251505, 43.124981672], [-91.057918221, 43.255366534], [-91.206619889, 43.352524191], [-91.217705458, 43.500549942]]]]}\",\"{\\\"type\\\": \\\"MultiPolygon\\\", \\\"coordinates\\\": [[[[-96.561367214, 45.935035497], [-96.599378139, 46.329984069], [-96.798195541, 46.629573405], [-96.752848774, 46.924014241], [-96.839327216, 47.006950825], [-96.851049811, 47.598526776], [-97.142132521, 48.144981265], [-97.127023637, 48.52038458], [-97.175432146, 48.562350422], [-97.090266645, 48.684542477], [-97.228821516, 49.000461102], [-95.15319407, 48.998861164], [-95.15338853, 49.384471625], [-94.816277772, 49.321388751], [-94.641278386, 48.741221577], [-93.84436056, 48.63022238], [-93.793361038, 48.51630494], [-93.467389494, 48.546444923], [-93.254666179, 48.642805964], [-92.954777777, 48.631555438], [-92.634889483, 48.54255572], [-92.712695003, 48.462971896], [-92.4564448, 48.414083272], [-92.369916737, 48.220277578], [-92.269583344, 48.248194009], [-92.262555957, 48.354916424], [-92.055222541, 48.359360844], [-91.958361268, 48.23313877], [-91.559110433, 48.108583689], [-91.567500383, 48.043777496], [-91.266777813, 48.078833967], [-90.885749906, 48.245944977], [-90.751583129, 48.090972304], [-90.140833408, 48.112611026], [-89.897194952, 47.987667024], [-89.483385086, 48.013716638], [-89.95710209, 47.291102707], [-90.662777871, 47.302499413], [-92.020289451, 46.704039574], [-92.116414458, 46.748652756], [-92.207091898, 46.651940346], [-92.292028069, 46.667969227], [-92.294033021, 46.074377596], [-92.707563937, 45.894949883], [-92.869492918, 45.716261119], [-92.883245945, 45.574896634], [-92.770522088, 45.567289889], [-92.646461874, 45.44175446], [-92.762601525, 45.288250297], [-92.80655086, 44.750157595], [-92.548059672, 44.567791522], [-92.336114198, 44.554003626], [-92.232472301, 44.445434511], [-91.97025016, 44.365829229], [-91.871404052, 44.197736531], [-91.432522237, 43.996827006], [-91.244544983, 43.7753959], [-91.217705458, 43.500549942], [-96.453307718, 43.500386328], [-96.45306766, 45.298115462], [-96.692540646, 45.417338312], [-96.857515275, 45.605857372], [-96.583250016, 45.819072872], [-96.561367214, 45.935035497]]]]}\",\"{\\\"type\\\": \\\"MultiPolygon\\\", \\\"coordinates\\\": [[[[-114.632961005, 35.001888871], [-117.22693339, 37.016701251], [-120.001014769, 38.999595344], [-120.00572741, 39.223457873], [-119.999442995, 41.994894594], [-117.02626124, 42.000263035], [-114.04150039, 41.993802935], [-114.052882344, 37.549260557], [-114.050051272, 37.000190914], [-114.046654254, 36.1940597], [-114.148190618, 36.028013527], [-114.252650589, 36.020193547], [-114.405474812, 36.147370487], [-114.755618423, 36.087165624], [-114.662209153, 35.872348845], [-114.7114411, 35.806756765], [-114.678812027, 35.497923195], [-114.569734633, 35.185522288], [-114.645979106, 35.103406459], [-114.632961005, 35.001888871]]]]}\",\"{\\\"type\\\": \\\"MultiPolygon\\\", \\\"coordinates\\\": [[[[-122.53422305, 37.89605543], [-122.471694052, 37.836648524], [-122.527970821, 37.815335691], [-122.925814837, 38.029259294], [-122.879942358, 38.038872331], [-122.929006666, 38.09164077], [-122.964354157, 37.989955544], [-123.024026603, 37.994799614], [-122.95027256, 38.152441084], [-122.995208949, 38.240943253], [-122.823794335, 38.072890788], [-122.972536236, 38.232242167], [-122.960761338, 38.316454142], [-123.061668724, 38.299629986], [-123.129524589, 38.45091328], [-123.727866411, 38.918799162], [-123.691301197, 39.050727636], [-123.827702254, 39.349339306], [-123.765536696, 39.559364319], [-123.851828724, 39.832737744], [-124.363126159, 40.260496438], [-124.409690648, 40.438233018], [-124.328017384, 40.615681261], [-124.208974242, 40.616449714], [-124.304219484, 40.640278459], [-124.270306975, 40.684475899], [-124.308360815, 40.648646951], [-124.24432978, 40.764829516], [-124.212835282, 40.674728751], [-124.185377508, 40.797635615], [-124.082925171, 40.831439495], [-124.124857485, 40.912604481], [-124.239403903, 40.769067407], [-124.133565779, 40.951714758], [-124.165522456, 41.12977758], [-124.074343443, 41.286752522], [-124.081979692, 41.546330005], [-124.040677696, 41.521355957], [-124.161033779, 41.737106144], [-124.254354537, 41.770749092], [-124.205288887, 41.946392208], [-124.156789184, 41.896862537], [-124.213352948, 41.998554468], [-119.999442995, 41.994894594], [-120.00572741, 39.223457873], [-120.001014769, 38.999595344], [-117.22693339, 37.016701251], [-114.632961005, 35.001888871], [-114.633581936, 34.871618003], [-114.469869286, 34.710430652], [-114.385775328, 34.456904233], [-114.13078174, 34.261938483], [-114.416719973, 34.107010067], [-114.534388483, 33.93816635], [-114.524175972, 33.552963585], [-114.72538054, 33.405411243], [-114.731474519, 33.30327943], [-114.672287554, 33.25971365], [-114.706819654, 33.088846207], [-114.509588778, 33.022000194], [-114.469154477, 32.844391018], [-114.539008588, 32.749860585], [-114.719961137, 32.718655765], [-117.124258429, 32.534343749], [-117.227865458, 32.6963076], [-117.115164399, 32.599360496], [-117.115700841, 32.674528062], [-117.208760083, 32.740989178], [-117.255571336, 32.699519545], [-117.205297351, 32.771206945], [-117.28102684, 32.821938246], [-117.271986455, 33.090851158], [-118.075462282, 33.74450013], [-118.248399792, 33.742765442], [-118.411583304, 33.741128594], [-118.390805572, 33.840791434], [-118.526865989, 34.030964077], [-118.806857765, 34.00021255], [-119.126982093, 34.099808335], [-119.265558422, 34.260739535], [-119.56283167, 34.414781481], [-120.452818125, 34.442157447], [-120.6507276, 34.577072561], [-120.600603819, 34.704835564], [-120.671666265, 34.902842939], [-120.644735545, 35.138827711], [-120.857056528, 35.205972791], [-120.899781436, 35.255206078], [-120.862666368, 35.368357748], [-120.866476446, 35.311706811], [-120.827695727, 35.338208377], [-120.887428522, 35.432976186], [-121.286606938, 35.66483438], [-121.501985639, 35.999065787], [-121.902544051, 36.306137145], [-121.978654414, 36.581176221], [-121.845360696, 36.626138091], [-121.749218255, 36.858469695], [-121.791122407, 36.806796938], [-121.899927557, 36.964650303], [-122.105859518, 36.9560498], [-122.337421328, 37.11761266], [-122.517929971, 37.523819804], [-122.514712662, 37.781128138], [-122.410429716, 37.81142503], [-122.357924134, 37.588805705], [-122.131823301, 37.504746616], [-122.12598145, 37.431478053], [-121.924485862, 37.448012531], [-122.106909603, 37.500339746], [-122.161818445, 37.667603642], [-122.261152714, 37.740335763], [-122.210689634, 37.751218826], [-122.341283709, 37.803650647], [-122.309785187, 37.893577069], [-122.429201156, 37.964781672], [-122.243582904, 38.05820033], [-122.164435486, 38.050918943], [-122.404347807, 38.152781725], [-122.492776215, 38.110099733], [-122.447023094, 37.985607684], [-122.547626048, 37.949047834], [-122.437970638, 37.882212549], [-122.53422305, 37.89605543]], [[-124.128738642, 40.92481792], [-124.120327234, 40.974560827], [-124.133565779, 40.951714758], [-124.128738642, 40.92481792]], [[-122.138302177, 38.039823174], [-122.130580381, 38.047804348], [-122.164435486, 38.050918943], [-122.138302177, 38.039823174]], [[-121.697871387, 38.007996082], [-121.69344306, 38.055697829], [-121.790147424, 38.055787683], [-121.700831205, 38.10959816], [-121.891341805, 38.053439409], [-122.044198215, 38.13708812], [-122.130580381, 38.047804348], [-121.697871387, 38.007996082]]], [[[-120.452576727, 34.02960822], [-120.3681086, 34.076619297], [-120.305448174, 34.020174891], [-120.452576727, 34.02960822]]], [[[-119.96778354, 33.942642957], [-120.115435123, 33.894184828], [-120.250622481, 34.001309574], [-120.04300341, 34.036007971], [-119.96778354, 33.942642957]]], [[[-119.929913431, 34.059670419], [-119.52028513, 34.034119695], [-119.818105549, 33.959841281], [-119.929913431, 34.059670419]]], [[[-118.501005471, 33.435722888], [-118.498557291, 33.428319597], [-118.606280833, 33.479031175], [-118.501005471, 33.435722888]]], [[[-118.325402588, 33.298758566], [-118.464569002, 33.325539082], [-118.498557291, 33.428319597], [-118.322016299, 33.345211744], [-118.325402588, 33.298758566]]], [[[-118.60738188, 33.032311946], [-118.348676115, 32.820310146], [-118.46794188, 32.833572328], [-118.60738188, 33.032311946]]]]}\",\"{\\\"type\\\": \\\"MultiPolygon\\\", \\\"coordinates\\\": [[[[-124.213352948, 41.998554468], [-124.354026765, 42.103538811], [-124.433400035, 42.323663682], [-124.401948452, 42.627654523], [-124.566487223, 42.836235166], [-124.179177582, 43.762778789], [-124.074253589, 44.797659516], [-123.969743997, 45.160441697], [-124.008452296, 45.339286029], [-123.931488991, 45.402321965], [-123.962291479, 45.567224175], [-123.881679028, 45.496813506], [-123.964855671, 45.570425391], [-123.993476182, 45.946281999], [-123.915662616, 46.01523757], [-124.021062702, 46.228289455], [-123.858272731, 46.152137518], [-123.500592113, 46.234819293], [-123.345563114, 46.120028794], [-123.176294267, 46.182040125], [-122.959994227, 46.103849709], [-122.813997567, 45.960984528], [-122.763981074, 45.657257885], [-122.29677245, 45.543722659], [-121.811303347, 45.706760734], [-121.337770075, 45.704948902], [-121.167852134, 45.60609743], [-120.634968281, 45.745847225], [-120.403960347, 45.699249208], [-119.600548893, 45.919580609], [-119.126119763, 45.932858884], [-118.987129033, 45.999855101], [-116.917429268, 45.996560007], [-116.782676429, 45.825376064], [-116.547629088, 45.752489716], [-116.463568658, 45.604170263], [-116.848240346, 45.022184551], [-116.851222962, 44.889380336], [-117.062272578, 44.7271429], [-117.242684662, 44.39654991], [-117.198146582, 44.273828119], [-116.97641775, 44.242827147], [-116.893801689, 44.161918312], [-116.977351159, 44.085364044], [-116.935240477, 43.990938216], [-117.026870102, 43.832478672], [-117.02626124, 42.000263035], [-119.999442995, 41.994894594], [-124.213352948, 41.998554468]]]]}\",\"{\\\"type\\\": \\\"MultiPolygon\\\", \\\"coordinates\\\": [[[[-123.291775435, 46.152168363], [-123.45618546, 46.270038038], [-123.696037978, 46.306495965], [-123.874989599, 46.240726858], [-123.996854424, 46.312092394], [-124.076101631, 46.270872205], [-124.065529704, 46.648292542], [-124.015804231, 46.383099854], [-123.949278742, 46.37219131], [-123.891524076, 46.513802558], [-123.960553408, 46.636486799], [-123.828637004, 46.709762067], [-124.090983868, 46.744219065], [-124.158014953, 46.905966997], [-124.021183401, 46.8325831], [-124.046814591, 46.893677115], [-123.846218884, 46.961524934], [-124.012372345, 46.985212862], [-124.038887322, 47.058144808], [-124.148025066, 47.030760795], [-124.099624604, 46.931034923], [-124.180178046, 46.926532835], [-124.201457351, 47.203788757], [-124.320996702, 47.355102897], [-124.423990846, 47.737175524], [-124.676667005, 47.967417687], [-124.733375609, 48.16401422], [-124.657949209, 48.326025009], [-124.731842726, 48.381033093], [-123.980962336, 48.164585531], [-123.318168372, 48.113012016], [-123.101515621, 48.18482548], [-123.186989576, 48.146012574], [-123.065633029, 48.119937479], [-123.007592708, 48.021642566], [-123.040992916, 48.080350757], [-122.915468216, 48.095365763], [-122.888455689, 47.991336286], [-122.826591879, 48.043687642], [-122.884503454, 48.105491102], [-122.754195035, 48.144215494], [-122.801109552, 48.086295873], [-122.678720355, 47.967856228], [-122.701202631, 47.914037704], [-122.609994113, 47.887371182], [-122.693546265, 47.867970765], [-122.784807086, 47.687157691], [-122.832368016, 47.69242689], [-122.803951353, 47.851441652], [-122.842369974, 47.779536992], [-122.864236683, 47.823565453], [-122.904113084, 47.646374702], [-122.953975935, 47.589334175], [-122.752680928, 47.667813599], [-122.608109862, 47.856555283], [-122.563882917, 47.82166779], [-122.617114037, 47.938884348], [-122.525755316, 47.912091762], [-122.472167462, 47.74994418], [-122.558951676, 47.770858705], [-122.589394748, 47.690510452], [-122.652831674, 47.746344656], [-122.608104497, 47.568650991], [-122.685420513, 47.650411427], [-122.709152699, 47.612771988], [-122.622876763, 47.568946034], [-122.698383629, 47.526714653], [-122.555004805, 47.590411752], [-122.4953565, 47.51053825], [-122.592549026, 47.337302417], [-122.551336051, 47.2887718], [-122.54430145, 47.318870276], [-122.360720336, 47.260734737], [-122.444414645, 47.30578512], [-122.323886901, 47.349462211], [-122.420851439, 47.576241642], [-122.33622238, 47.601027936], [-122.436020672, 47.66197443], [-122.307520062, 47.948088348], [-122.183903754, 48.047700226], [-122.343350351, 48.098222315], [-122.368264172, 48.19058738], [-122.374085784, 48.189153224], [-122.368133962, 48.239621669], [-122.478854209, 48.17560941], [-122.356904894, 48.056157231], [-122.51137197, 48.132934123], [-122.530327141, 48.250063509], [-122.381019294, 48.239231408], [-122.365705222, 48.327655792], [-122.508633435, 48.360874951], [-122.474074513, 48.518501669], [-122.560624033, 48.582778126], [-122.419154942, 48.596592844], [-122.511040717, 48.666524738], [-122.482459098, 48.7548244], [-122.582965493, 48.788153529], [-122.67236352, 48.731923699], [-122.646115422, 48.783446252], [-122.793170214, 48.892464638], [-122.748347819, 48.933401853], [-122.822140753, 48.942113668], [-122.733185291, 48.962133676], [-122.760867029, 49.002085179], [-117.032349855, 48.99919644], [-117.062747329, 46.353623718], [-116.921869665, 46.167808324], [-116.982479542, 46.089388579], [-116.917429268, 45.996560007], [-118.987129033, 45.999855101], [-119.126119763, 45.932858884], [-119.600548893, 45.919580609], [-120.403960347, 45.699249208], [-120.634968281, 45.745847225], [-121.167852134, 45.60609743], [-121.337770075, 45.704948902], [-121.811303347, 45.706760734], [-122.29677245, 45.543722659], [-122.763981074, 45.657257885], [-122.813997567, 45.960984528], [-122.959994227, 46.103849709], [-123.087908993, 46.173862935], [-123.291775435, 46.152168363]], [[-122.964507043, 47.585228384], [-123.036551732, 47.494871726], [-122.953975935, 47.589334175], [-122.964507043, 47.585228384]], [[-123.159741014, 47.353949547], [-123.073852313, 47.375325001], [-123.118849397, 47.391656041], [-123.036551732, 47.494871726], [-123.159741014, 47.353949547]], [[-123.029781282, 47.359330058], [-122.842066884, 47.43301034], [-123.073852313, 47.375325001], [-123.029781282, 47.359330058]], [[-122.552147576, 47.28529958], [-122.548461556, 47.28538692], [-122.551336051, 47.2887718], [-122.552147576, 47.28529958]], [[-122.694769353, 47.281920165], [-122.628896981, 47.411912084], [-122.7356489, 47.345212251], [-122.770088464, 47.167526633], [-122.830894142, 47.24394545], [-122.764367312, 47.341376692], [-122.81893149, 47.406591922], [-122.936110497, 47.205328345], [-123.069628179, 47.21039772], [-123.019299209, 47.261677533], [-123.095189631, 47.209484428], [-122.938193232, 47.198362648], [-123.080488443, 47.091734111], [-122.919011414, 47.173782885], [-122.992105633, 47.035533786], [-122.926016003, 47.147010416], [-122.910598665, 47.043761462], [-122.900710702, 47.144585699], [-122.841707468, 47.163886875], [-122.822280228, 47.091585249], [-122.815144211, 47.178058326], [-122.684908211, 47.097089142], [-122.574956417, 47.187708914], [-122.552147576, 47.28529958], [-122.694769353, 47.281920165]], [[-122.306472659, 48.205809742], [-122.369327545, 48.194529712], [-122.368264172, 48.19058738], [-122.306472659, 48.205809742]], [[-123.036435843, 46.179340482], [-123.115923107, 46.189196259], [-123.087908993, 46.173862935], [-123.036435843, 46.179340482]]], [[[-122.926285565, 48.710900545], [-122.742728591, 48.661919385], [-122.830164582, 48.60038951], [-122.910244614, 48.69411394], [-122.873266339, 48.594748825], [-123.027257323, 48.61125648], [-122.926285565, 48.710900545]]], [[[-122.96287626, 48.450099975], [-123.13485682, 48.499462008], [-123.169911951, 48.597699255], [-123.014318347, 48.560688794], [-122.96287626, 48.450099975]]], [[[-122.858846784, 48.539552987], [-122.813776284, 48.421333283], [-122.945510298, 48.465475738], [-122.919769138, 48.550882638], [-122.858846784, 48.539552987]]], [[[-122.854945511, 47.177715003], [-122.909191847, 47.21989274], [-122.849906981, 47.301733643], [-122.854945511, 47.177715003]]], [[[-122.702110559, 48.02219376], [-122.748192251, 48.072442263], [-122.700450849, 48.038514866], [-122.702110559, 48.02219376]]], [[[-122.693860084, 48.103326559], [-122.670479268, 48.01721558], [-122.700450849, 48.038514866], [-122.693860084, 48.103326559]]], [[[-122.580674887, 48.548126668], [-122.649178505, 48.528979719], [-122.649678737, 48.58780995], [-122.580674887, 48.548126668]]], [[[-122.513718903, 47.621494532], [-122.479056716, 47.583708912], [-122.577059269, 47.600288987], [-122.553037405, 47.721256614], [-122.513718903, 47.621494532]]], [[[-122.375911027, 48.034448773], [-122.377458662, 47.906025946], [-122.480450124, 47.9964526], [-122.546590716, 47.967444509], [-122.608914524, 48.151124865], [-122.686573863, 48.174507022], [-122.769305259, 48.228951842], [-122.607778609, 48.411242813], [-122.505617291, 48.297966421], [-122.734412402, 48.228431493], [-122.605781704, 48.207382858], [-122.541140467, 48.015917391], [-122.52367124, 48.096836954], [-122.375911027, 48.034448773]]], [[[-122.547730654, 48.45333606], [-122.65674904, 48.407931626], [-122.701026946, 48.499077111], [-122.55746305, 48.500198275], [-122.510211915, 48.372810781], [-122.547730654, 48.45333606]]], [[[-122.462372035, 47.343554646], [-122.466412783, 47.402004004], [-122.518849969, 47.333806157], [-122.474075854, 47.511184663], [-122.439799905, 47.441290319], [-122.373408526, 47.388429344], [-122.462372035, 47.343554646]]]]}\",\"{\\\"type\\\": \\\"MultiPolygon\\\", \\\"coordinates\\\": [[[[-90.418620408, 46.566359103], [-89.95710209, 47.291102707], [-89.483385086, 48.013716638], [-89.337549359, 47.974261343], [-88.36986199, 48.306062669], [-88.173112571, 48.230836093], [-84.860139191, 46.888916194], [-84.762832671, 46.634306163], [-84.556833655, 46.460806131], [-84.128999859, 46.53050065], [-84.10825029, 46.241444349], [-83.955471665, 46.056750119], [-83.826332688, 46.118860692], [-83.571943939, 46.105778217], [-83.433777988, 45.998166651], [-83.597166091, 45.821277648], [-82.518610954, 45.338638276], [-82.122805417, 43.591193855], [-82.455447614, 42.926751673], [-82.518938184, 42.613792866], [-82.830250114, 42.37349242], [-83.096695393, 42.289865166], [-83.112460077, 41.95941031], [-83.415851444, 41.733793616], [-84.805980027, 41.696127355], [-84.805883467, 41.760216057], [-87.207773477, 41.760956347], [-87.019924968, 42.493499815], [-87.147166282, 43.379858583], [-87.013234198, 44.131904393], [-86.686287671, 44.881002456], [-86.249547601, 45.236125588], [-86.754236072, 45.443610549], [-87.10113287, 45.444230139], [-87.40569368, 45.201968998], [-87.44250834, 45.076433569], [-87.659952343, 45.107512325], [-87.741809338, 45.197469592], [-87.6573506, 45.368754119], [-87.88805142, 45.354696661], [-87.792768627, 45.499966443], [-87.833732665, 45.561045706], [-87.78141886, 45.681483597], [-88.130128831, 45.80970794], [-88.102460504, 45.921546668], [-88.514691889, 46.020018607], [-88.670827299, 45.988546908], [-89.091740996, 46.138388515], [-90.120263547, 46.33699134], [-90.216636658, 46.501637399], [-90.418620408, 46.566359103]]]]}\",\"{\\\"type\\\": \\\"MultiPolygon\\\", \\\"coordinates\\\": [[[[-71.86032638, 41.320260018], [-71.959617734, 41.389210224], [-72.004870623, 41.306437254], [-72.084964067, 41.363253146], [-72.165563107, 41.304162741], [-72.192900181, 41.368905902], [-72.205507904, 41.28562063], [-72.388441265, 41.260454804], [-72.89349854, 41.241974384], [-72.910141647, 41.298603863], [-73.111724406, 41.200667024], [-73.103562444, 41.151384115], [-73.187129349, 41.184026599], [-73.353245258, 41.102231294], [-73.366692513, 41.151150763], [-73.433309197, 41.055460274], [-73.659686297, 40.988233387], [-73.727775514, 41.100695729], [-73.482695371, 41.212771833], [-73.550961614, 41.295421422], [-73.48735705, 42.049532533], [-71.799188107, 42.008053511], [-71.79774642, 41.416780651], [-71.86032638, 41.320260018]]]]}\",\"{\\\"type\\\": \\\"MultiPolygon\\\", \\\"coordinates\\\": [[[[-83.108569533, 35.001361817], [-82.39208445, 35.215390027], [-81.034222841, 35.149206519], [-81.041608304, 35.044658035], [-80.934743732, 35.107325166], [-80.78192085, 34.935847521], [-80.797460228, 34.819803089], [-79.676494002, 34.80506435], [-78.541616499, 33.851708025], [-78.936713934, 33.640978932], [-79.141495228, 33.397473246], [-79.191297144, 33.172883838], [-79.301789403, 33.174711764], [-79.246267676, 33.125882149], [-79.316182137, 33.147648275], [-79.274687022, 33.126804829], [-79.361557066, 33.008750081], [-79.528682828, 33.038199395], [-79.617635608, 32.953108996], [-79.579462409, 32.909034938], [-79.726290554, 32.805402428], [-79.962665588, 32.781347036], [-79.869454801, 32.731879056], [-80.000166893, 32.603880018], [-80.333545357, 32.477962375], [-80.478616655, 32.497425824], [-80.453017652, 32.322368771], [-80.63060537, 32.25655809], [-80.773984194, 32.30296433], [-80.667424053, 32.217900753], [-80.849422663, 32.034107745], [-81.11722514, 32.11760357], [-81.1872603, 32.464225441], [-81.418663859, 32.629398555], [-81.491957903, 33.009098768], [-81.751638651, 33.147870898], [-81.939983368, 33.345049471], [-81.928711385, 33.464853019], [-82.556835115, 33.945353329], [-82.876610756, 34.475074857], [-83.03921029, 34.486388415], [-83.342002183, 34.68029201], [-83.306010962, 34.816326946], [-83.111965209, 34.934908748], [-83.108569533, 35.001361817]]]]}\",\"{\\\"type\\\": \\\"MultiPolygon\\\", \\\"coordinates\\\": [[[[-77.081114799, 37.216347456], [-76.993504465, 37.29534924], [-77.040676475, 37.198546976], [-76.975406259, 37.239395678], [-76.732235849, 37.145282328], [-76.686229259, 37.197504938], [-76.663618237, 37.046809047], [-76.479913741, 36.914065182], [-76.355022043, 36.923514605], [-76.297711283, 36.755727679], [-76.330725253, 36.963977069], [-76.009718478, 36.92966491], [-75.867028981, 36.550413966], [-81.677456796, 36.58815667], [-83.675367236, 36.600771099], [-83.136394769, 36.743087769], [-83.072590381, 36.854588538], [-82.878568769, 36.889584661], [-82.722096741, 37.120167464], [-82.34873727, 37.267939746], [-81.967705339, 37.537783384], [-81.925642937, 37.357316315], [-81.678210497, 37.201482654], [-81.362156421, 37.337674499], [-81.225103587, 37.234873474], [-80.900534838, 37.315000445], [-80.859556049, 37.429568321], [-80.77008158, 37.372363508], [-80.511390567, 37.481674254], [-80.464819372, 37.426144481], [-80.299788415, 37.508271039], [-80.328504145, 37.564314455], [-80.220863074, 37.627774179], [-80.306964666, 37.689621896], [-79.789105207, 38.268207908], [-79.649199843, 38.591528088], [-79.476574212, 38.457126617], [-79.282971025, 38.418095112], [-78.998171389, 38.84735316], [-78.869276494, 38.762990981], [-78.403697312, 39.167450666], [-78.347086608, 39.466011375], [-77.828148901, 39.132281542], [-77.719028592, 39.32112515], [-77.564341575, 39.304751605], [-77.457580268, 39.225084633], [-77.520547807, 39.121347517], [-77.119766772, 38.934279531], [-77.038935721, 38.791630268], [-77.046165615, 38.714460433], [-77.191472948, 38.619235307], [-77.200440913, 38.618901372], [-77.257507592, 38.560183793], [-77.261588573, 38.557376862], [-77.264659703, 38.555263281], [-77.276575416, 38.547065109], [-77.276849002, 38.545761555], [-77.278758734, 38.536674231], [-77.279237509, 38.534397036], [-77.284097672, 38.524873853], [-77.290087044, 38.517322093], [-77.307509333, 38.497390598], [-77.310227752, 38.495306522], [-77.323338389, 38.43487367], [-77.310825884, 38.399943262], [-77.305044383, 38.37536484], [-77.304288, 38.374880701], [-77.299812734, 38.372010738], [-77.299481481, 38.371798843], [-77.296375483, 38.369807303], [-77.29628697, 38.369750977], [-77.296093851, 38.369553834], [-77.295872569, 38.369134068], [-77.295577526, 38.368572146], [-77.295444757, 38.368320018], [-77.29543671, 38.368303925], [-77.293792516, 38.365176469], [-77.293590009, 38.364791572], [-77.293490767, 38.364602476], [-77.287399471, 38.35301131], [-77.281009108, 38.340848833], [-77.280327827, 38.339551985], [-77.280031443, 38.338988721], [-77.277374715, 38.337804526], [-77.272599041, 38.335674852], [-77.270996422, 38.334960043], [-77.267333865, 38.333326578], [-77.262147814, 38.332213461], [-77.257519662, 38.331864774], [-77.256264389, 38.331769556], [-77.253248245, 38.331542909], [-77.251184285, 38.331387341], [-77.250047028, 38.33130151], [-77.247804701, 38.33113119], [-77.246190012, 38.331010491], [-77.246100157, 38.331003785], [-77.245139927, 38.330931365], [-77.241214514, 38.33098501], [-77.222300917, 38.335843831], [-77.220003605, 38.336433917], [-77.216992825, 38.337207735], [-77.207999378, 38.339517117], [-77.206120491, 38.339999914], [-77.202777117, 38.340532333], [-77.18273297, 38.34122166], [-77.182695419, 38.341223001], [-77.178474963, 38.341367841], [-77.178005576, 38.341467083], [-77.170869559, 38.343866318], [-77.169358134, 38.344375938], [-77.14900285, 38.357348442], [-77.138109058, 38.367707133], [-77.112178802, 38.369040191], [-77.09210515, 38.367130458], [-77.081077248, 38.370123804], [-77.080071419, 38.370634764], [-77.057829201, 38.3945252], [-77.055927515, 38.396567702], [-77.055562735, 38.396814466], [-77.013347447, 38.373515457], [-77.016195953, 38.37099418], [-77.016280442, 38.370477855], [-77.016261667, 38.369987011], [-77.015579045, 38.351812363], [-77.015057355, 38.337895721], [-77.014986277, 38.335996717], [-77.014896423, 38.333593458], [-77.028417438, 38.308301568], [-77.022772729, 38.300902694], [-77.017351985, 38.298709989], [-77.017067671, 38.298393488], [-77.016275078, 38.297512382], [-77.012376487, 38.293172568], [-77.010372877, 38.290942311], [-77.002790272, 38.282502741], [-76.981653124, 38.274626434], [-76.981292367, 38.274501711], [-76.980722398, 38.273980021], [-76.979409456, 38.272778392], [-76.978073716, 38.271553963], [-76.976721883, 38.270314783], [-76.973212212, 38.267101496], [-76.972982883, 38.266890943], [-76.96933642, 38.263550252], [-76.96915403, 38.263383955], [-76.968384236, 38.262678534], [-76.966667622, 38.261106759], [-76.962048858, 38.256875575], [-76.961389035, 38.255032897], [-76.961344779, 38.254873306], [-76.960961223, 38.253485262], [-76.960861981, 38.253125846], [-76.958985776, 38.246333152], [-76.958511025, 38.233615458], [-76.960074753, 38.231947124], [-77.036902606, 38.199904114], [-76.933606714, 38.201797754], [-76.926828772, 38.200932741], [-76.915441453, 38.199024349], [-76.913727522, 38.197964877], [-76.901746094, 38.189985305], [-76.900681257, 38.189240992], [-76.883773953, 38.177417815], [-76.878709942, 38.173877299], [-76.878602654, 38.173819631], [-76.859105676, 38.171031475], [-76.857769936, 38.169833869], [-76.855950058, 38.168036789], [-76.838318557, 38.16348508], [-76.802049726, 38.168408275], [-76.798172593, 38.168557137], [-76.795277148, 38.168359995], [-76.705844253, 38.059882075], [-76.721694767, 38.137432784], [-76.646949649, 38.092921525], [-76.625202298, 38.151482195], [-76.624483466, 38.151317239], [-76.58348456, 38.098232299], [-76.582008004, 38.096979707], [-76.58083722, 38.095621169], [-76.580386609, 38.095492423], [-76.579132676, 38.094909042], [-76.578391045, 38.094564378], [-76.550934613, 38.081802428], [-76.537507474, 38.075559586], [-76.535560191, 38.068455756], [-76.535439491, 38.067998439], [-76.535436809, 38.067991734], [-76.528335661, 38.055748791], [-76.592963487, 38.003255278], [-76.510002762, 38.024156392], [-76.502562314, 38.02122876], [-76.497491598, 38.019411564], [-76.477847099, 38.015425801], [-76.494585425, 37.931820005], [-76.443823278, 37.986007333], [-76.385257244, 37.914109379], [-76.322005391, 37.937388271], [-76.274734139, 37.915210426], [-76.273194551, 37.914488912], [-76.272572279, 37.914196551], [-76.261638254, 37.822241038], [-76.361912638, 37.796156555], [-76.288821101, 37.785581946], [-76.351857036, 37.735226154], [-76.302440017, 37.689933032], [-76.375338435, 37.682400048], [-76.278921068, 37.617347091], [-76.36977151, 37.507808357], [-76.25223577, 37.436507195], [-76.258309633, 37.361630648], [-76.308957038, 37.372634855], [-76.351643801, 37.454695255], [-76.354768574, 37.369068414], [-76.447701752, 37.428869605], [-76.423013359, 37.474084944], [-76.470882744, 37.415671796], [-76.409866512, 37.369175702], [-76.518545598, 37.414847016], [-76.403002739, 37.338237762], [-76.493650675, 37.342986614], [-76.438429356, 37.315170765], [-76.478757709, 37.281541228], [-76.381443143, 37.292382717], [-76.456865519, 37.137495875], [-76.298584342, 37.130029947], [-76.396050453, 37.10724324], [-76.336766928, 37.090753019], [-76.36248529, 37.045683861], [-76.278552264, 37.100215852], [-76.303628236, 37.001422048], [-76.331389099, 37.052051425], [-76.429279, 36.965222955], [-76.627868414, 37.125809491], [-76.650240719, 37.220787853], [-76.754983664, 37.190733701], [-77.015045285, 37.312377244], [-77.071930789, 37.280336022], [-77.090102348, 37.284216714], [-77.081114799, 37.216347456]], [[-77.246589661, 37.394745201], [-77.311122268, 37.370597273], [-77.278360426, 37.278419137], [-77.154483104, 37.297965775], [-77.262281924, 37.320987135], [-77.246589661, 37.394745201]], [[-77.090102348, 37.284216714], [-77.093203515, 37.307635099], [-77.154483104, 37.297965775], [-77.090102348, 37.284216714]]], [[[-76.275737286, 37.308773696], [-76.317386627, 37.37446636], [-76.308957038, 37.372634855], [-76.275737286, 37.308773696]]], [[[-75.99547863, 37.953456044], [-76.001312435, 37.95354858], [-76.001468003, 37.953552604], [-76.002947241, 37.953602225], [-75.99547863, 37.953456044]]], [[[-75.851148963, 37.421862334], [-75.917178243, 37.330746353], [-75.970041901, 37.11717546], [-76.025692374, 37.262793928], [-75.93395412, 37.387882769], [-75.977966487, 37.441258729], [-75.888211727, 37.478861958], [-75.887503624, 37.528540492], [-75.96271947, 37.474453747], [-75.934060067, 37.548002601], [-75.818275809, 37.572850585], [-75.93930915, 37.568486631], [-75.827085525, 37.633507401], [-75.88239938, 37.619806677], [-75.867957026, 37.668644339], [-75.786254257, 37.658371478], [-75.837949812, 37.713225335], [-75.748318434, 37.706785351], [-75.798428804, 37.80064255], [-75.693126619, 37.765482813], [-75.713177472, 37.83657074], [-75.639592409, 37.848957181], [-75.731309205, 37.919790298], [-75.648158044, 37.966444641], [-75.377916098, 38.01515758], [-75.501010716, 37.86591813], [-75.423328578, 37.870272696], [-75.542847008, 37.765878412], [-75.703202337, 37.625814825], [-75.625332445, 37.568104416], [-75.723309517, 37.561007291], [-75.846577138, 37.426828444], [-75.793590099, 37.401681393], [-75.851148963, 37.421862334]]], [[[-75.599333793, 37.572920322], [-75.673484802, 37.483252734], [-75.696907192, 37.52125293], [-75.599333793, 37.572920322]]], [[[-75.252816528, 38.026451021], [-75.24520576, 38.026908338], [-75.387884527, 37.8511177], [-75.252816528, 38.026451021]]]]}\",\"{\\\"type\\\": \\\"MultiPolygon\\\", \\\"coordinates\\\": [[[[-77.957762629, 33.841979653], [-78.238207698, 33.919596076], [-78.541616499, 33.851708025], [-79.676494002, 34.80506435], [-80.797460228, 34.819803089], [-80.78192085, 34.935847521], [-80.934743732, 35.107325166], [-81.041608304, 35.044658035], [-81.034222841, 35.149206519], [-82.39208445, 35.215390027], [-83.108569533, 35.001361817], [-84.32182923, 34.988408089], [-84.29022342, 35.22543624], [-84.052546173, 35.270192921], [-84.023418725, 35.411617756], [-83.880275935, 35.518820286], [-83.498409837, 35.562938601], [-83.159586489, 35.764659494], [-82.992116064, 35.773921162], [-82.919834554, 35.928896517], [-82.80508697, 35.927143693], [-82.637231648, 36.065825969], [-82.557991147, 35.953879952], [-82.355157137, 36.115609109], [-82.033852637, 36.120528281], [-81.9081375, 36.302013248], [-81.707438529, 36.335170716], [-81.677456796, 36.58815667], [-75.867028981, 36.550413966], [-75.474887341, 35.663788319], [-75.530333966, 35.21715492], [-75.906342119, 35.130697936], [-76.276111454, 34.884146601], [-76.179995835, 34.964264184], [-76.315637827, 35.016120672], [-76.278635412, 34.94032681], [-76.3866359, 34.855682999], [-76.408501267, 34.900669008], [-76.515839249, 34.719043225], [-76.630763859, 34.837485552], [-76.616282612, 34.707832932], [-76.670944691, 34.713210762], [-76.676441878, 34.809129238], [-76.779708266, 34.755393863], [-76.69482708, 34.71587956], [-77.128485292, 34.687719047], [-77.297766834, 34.561420353], [-77.318168432, 34.546198994], [-77.322494062, 34.548149922], [-77.403588742, 34.584724903], [-77.312052995, 34.633243382], [-77.395386547, 34.709741324], [-77.35348776, 34.734229892], [-77.439386845, 34.743208587], [-77.370821536, 34.639307857], [-77.447521985, 34.610043615], [-77.368357927, 34.523759633], [-77.681164893, 34.353658782], [-77.759584934, 34.311014861], [-77.826937966, 34.1516077], [-77.957762629, 33.841979653]]], [[[-76.7457515, 34.710482955], [-76.674203575, 34.695073664], [-77.104762495, 34.648844451], [-76.7457515, 34.710482955]]]]}\",\"{\\\"type\\\": \\\"MultiPolygon\\\", \\\"coordinates\\\": [[[[-91.806037277, 29.553490877], [-91.70863688, 29.569113404], [-91.820652634, 29.476861507], [-91.965341717, 29.53562066], [-92.030870765, 29.574259222], [-91.927810907, 29.634867758], [-91.895550638, 29.555393904], [-91.900884211, 29.634552598], [-91.893884987, 29.555176646], [-91.866070479, 29.630145729], [-91.806037277, 29.553490877]]], [[[-90.934669375, 29.264064431], [-90.801567435, 29.437985569], [-91.013868394, 29.338829323], [-91.061087251, 29.22404319], [-91.095406115, 29.19123441], [-91.1246261, 29.276381135], [-91.072779525, 29.311314578], [-91.116439998, 29.290922731], [-91.265302598, 29.475391656], [-91.456612942, 29.51103891], [-91.540746689, 29.526715726], [-91.55644834, 29.638278186], [-91.646993011, 29.634779245], [-91.605379879, 29.757659286], [-91.715886891, 29.73855257], [-91.744546697, 29.761815231], [-91.861593872, 29.713620096], [-91.850147545, 29.787663817], [-91.749044078, 29.765465676], [-91.829375178, 29.830669016], [-92.263973504, 29.758474678], [-92.103326619, 29.698834419], [-92.114209682, 29.599885046], [-92.008538693, 29.613640755], [-92.323684841, 29.531401545], [-93.24659273, 29.777388275], [-93.839536607, 29.691074789], [-93.926740587, 29.812155068], [-93.699558824, 30.059584826], [-93.739660531, 30.540689975], [-93.554948866, 30.821975917], [-93.577826768, 30.999715179], [-93.507865369, 31.031927168], [-93.532545716, 31.183540374], [-93.600307703, 31.176157594], [-93.726736307, 31.511600018], [-93.834924549, 31.586211026], [-93.823443353, 31.775097549], [-94.041907936, 31.993854493], [-94.042964727, 33.019213378], [-91.166072935, 33.004105836], [-91.208262742, 32.915354222], [-91.145076603, 32.905494422], [-91.106581539, 32.988937944], [-91.063683629, 32.906363457], [-91.163624078, 32.778186053], [-91.052968204, 32.718643695], [-91.151318103, 32.615919113], [-91.014285386, 32.640481442], [-91.080397815, 32.556442469], [-90.987830758, 32.494189739], [-91.093740463, 32.549128085], [-91.116008162, 32.483140379], [-90.978547633, 32.447032481], [-91.003505588, 32.362144589], [-90.901239663, 32.323386669], [-90.979474336, 32.293702662], [-90.995233655, 32.192797959], [-91.039007306, 32.242349088], [-91.164171249, 32.196888328], [-91.162822098, 32.132693678], [-91.002829671, 32.161783576], [-91.07999146, 32.048000246], [-91.160310209, 32.070353776], [-91.081988364, 32.006204724], [-91.185619533, 31.963829845], [-91.256966293, 31.811711043], [-91.34301424, 31.846861392], [-91.365480423, 31.760641783], [-91.259238124, 31.760436594], [-91.369269043, 31.746706367], [-91.401015669, 31.620364934], [-91.515461504, 31.630372256], [-91.405414492, 31.57646656], [-91.522216648, 31.521990895], [-91.478747427, 31.359860748], [-91.576264501, 31.410498172], [-91.51561439, 31.278210282], [-91.654027104, 31.255753487], [-91.559907049, 31.054118425], [-91.637457758, 30.999304801], [-89.730746448, 31.004669219], [-89.852172732, 30.661809146], [-89.683409482, 30.451793522], [-89.616145045, 30.224249661], [-89.528611153, 30.189819485], [-89.717737734, 30.025243163], [-89.816244543, 30.045708418], [-89.839000404, 29.942210019], [-89.727775902, 29.957273304], [-89.705002606, 29.874275029], [-89.607532471, 29.872154742], [-89.485084265, 30.078818947], [-89.343714416, 29.911298901], [-89.42910254, 29.817931205], [-89.285239577, 29.763104171], [-89.417692423, 29.756142497], [-89.467215668, 29.804222081], [-89.544019103, 29.792033136], [-89.432637691, 29.681475163], [-89.586011767, 29.756512642], [-89.616385102, 29.659432769], [-89.704824239, 29.703805894], [-89.782011509, 29.631144851], [-89.51996237, 29.457451701], [-89.56159696, 29.393106848], [-89.266700149, 29.349913895], [-89.325338602, 29.277234077], [-89.266218692, 29.203590006], [-89.18465808, 29.337905645], [-89.120306522, 29.255202413], [-89.175345451, 29.216459244], [-89.106969237, 29.220647514], [-89.251552373, 29.18312341], [-89.225482643, 29.147610962], [-89.01508078, 29.211047888], [-89.008717239, 29.163264334], [-89.12535578, 29.168258607], [-89.026906639, 29.140768647], [-89.063828588, 29.076226652], [-89.099805911, 29.093634309], [-89.177240678, 29.047019691], [-89.278956503, 29.212952256], [-89.397009909, 29.154312462], [-89.484844208, 29.31899339], [-89.837621748, 29.419361651], [-89.863918126, 29.481602311], [-90.056349188, 29.462712854], [-90.052771121, 29.322896004], [-90.135597736, 29.314687103], [-90.047231019, 29.190437794], [-90.225494653, 29.079249501], [-90.243642479, 29.255194366], [-90.321552604, 29.336474687], [-90.270632207, 29.386599809], [-90.400008559, 29.435720444], [-90.352186114, 29.490306079], [-90.416092979, 29.439746924], [-90.396037549, 29.418675005], [-90.395033062, 29.365952164], [-90.422604316, 29.434595557], [-90.447859168, 29.414615482], [-90.557773411, 29.458248317], [-90.648198724, 29.30114463], [-90.618194193, 29.235401005], [-90.744680464, 29.342501611], [-90.731764679, 29.278867346], [-90.761632025, 29.244822264], [-90.833622515, 29.23726514], [-90.825900435, 29.311194867], [-90.934669375, 29.264064431]], [[-89.459760189, 29.805405289], [-89.468221907, 29.805198987], [-89.467215668, 29.804222081], [-89.459760189, 29.805405289]], [[-89.516235441, 29.851812869], [-89.545075893, 29.803325236], [-89.468221907, 29.805198987], [-89.516235441, 29.851812869]], [[-89.099719226, 29.093686491], [-89.192589372, 29.138527662], [-89.099805911, 29.093634309], [-89.099719226, 29.093686491]]], [[[-90.716511905, 29.296253622], [-90.713564157, 29.189195931], [-90.731764679, 29.278867346], [-90.716511905, 29.296253622]]], [[[-90.766952187, 29.050316513], [-90.658002198, 29.065833092], [-90.719680935, 29.051528871], [-90.766952187, 29.050316513]]], [[[-90.530618727, 29.304879606], [-90.603105426, 29.284119308], [-90.542977005, 29.364318699], [-90.530618727, 29.304879606]]], [[[-90.044346303, 29.200455844], [-89.950880706, 29.266982675], [-89.99955073, 29.227668196], [-90.044346303, 29.200455844]]], [[[-89.177240678, 29.047019691], [-89.151457697, 29.004959017], [-89.178336114, 29.046360254], [-89.177240678, 29.047019691]]]]}\",\"{\\\"type\\\": \\\"MultiPolygon\\\", \\\"coordinates\\\": [[[[-75.54090187, 39.496705234], [-75.538943857, 39.496847391], [-75.52721858, 39.499733448], [-75.527222604, 39.499749541], [-75.528884232, 39.513802975], [-75.526900738, 39.531850219], [-75.5238913, 39.550515711], [-75.519206822, 39.555515349], [-75.516676158, 39.559734464], [-75.512151271, 39.572574198], [-75.512522757, 39.577329755], [-75.5236727, 39.583700001], [-75.536668003, 39.591743946], [-75.536933541, 39.591892809], [-75.537376106, 39.592843652], [-75.537769049, 39.593689889], [-75.543868393, 39.595980495], [-75.543920696, 39.596028775], [-75.555589646, 39.605564028], [-75.5572097, 39.633236378], [-75.514950156, 39.668432325], [-75.511247367, 39.676892012], [-75.510091335, 39.68293637], [-75.510021597, 39.686531872], [-75.510001481, 39.687532336], [-75.509884804, 39.693619609], [-75.50987944, 39.69388783], [-75.508874953, 39.695172608], [-75.507000089, 39.69742164], [-75.499245822, 39.700413644], [-75.497880578, 39.700754285], [-75.497589558, 39.700826705], [-75.489639491, 39.713552445], [-75.487657338, 39.715275764], [-75.483062714, 39.715438038], [-75.477361679, 39.715640545], [-75.476842672, 39.716651738], [-75.476831943, 39.716889113], [-75.47679171, 39.717866778], [-75.476644188, 39.721454233], [-75.476392061, 39.727532119], [-75.476143956, 39.733540267], [-75.476054102, 39.73370254], [-75.473358482, 39.737874717], [-75.472718775, 39.738864452], [-75.47092706, 39.741635174], [-75.470303446, 39.742600769], [-75.468849689, 39.744849801], [-75.456786454, 39.766454995], [-75.452501625, 39.769058079], [-75.254503638, 39.852608889], [-74.722303748, 40.149699748], [-75.058489144, 40.418364555], [-75.067905039, 40.541244596], [-75.1943551, 40.576479435], [-75.204062015, 40.692101419], [-75.050754994, 40.865826756], [-75.131347328, 40.990668833], [-74.695482999, 41.3577573], [-73.89403224, 40.996702462], [-73.934054822, 40.881812721], [-74.143798202, 40.643782765], [-74.134900484, 40.67342535], [-74.282518029, 40.492592007], [-73.993293434, 40.406739317], [-73.985592127, 40.453160852], [-73.991664906, 40.406255909], [-73.985677958, 40.404478759], [-73.992467463, 40.40005712], [-73.996458929, 40.369227831], [-73.979655057, 40.375938714], [-74.002387387, 40.323437594], [-74.031113237, 40.101564825], [-74.103323668, 40.131019503], [-74.031491429, 40.100359172], [-74.09599185, 39.764189869], [-74.046868533, 40.066131502], [-74.145221114, 40.074941218], [-74.056545943, 40.040296465], [-74.140680134, 40.033155084], [-74.116277397, 39.944951981], [-74.197614044, 39.949490279], [-74.105478823, 39.930167645], [-74.205522537, 39.829913378], [-74.160379618, 39.703575969], [-74.341426045, 39.602723569], [-74.336791188, 39.538613409], [-74.484050279, 39.580581143], [-74.651587307, 39.628327936], [-74.466001807, 39.529525634], [-74.378036857, 39.482694715], [-74.488283694, 39.412337691], [-74.447613358, 39.361537993], [-74.652312845, 39.309063256], [-74.630462105, 39.245811952], [-74.626611918, 39.252833426], [-74.553941488, 39.298447073], [-74.651155472, 39.208074063], [-74.631464304, 39.243984272], [-74.710216373, 39.176606387], [-74.651402235, 39.196755141], [-74.834393263, 38.990730643], [-74.966636896, 38.967675716], [-74.892499298, 39.127355665], [-74.840743393, 39.116001874], [-74.888120592, 39.172707796], [-74.802676141, 39.18801114], [-75.028023273, 39.194941968], [-75.022288796, 39.231535681], [-75.137155652, 39.181538969], [-75.141732842, 39.283912182], [-75.178725868, 39.243241847], [-75.242669731, 39.280590266], [-75.172288567, 39.300850332], [-75.252711922, 39.296202064], [-75.197093636, 39.336840212], [-75.281808525, 39.30264473], [-75.289640576, 39.356125295], [-75.287752301, 39.291454554], [-75.359053173, 39.350318444], [-75.365341902, 39.346961528], [-75.54090187, 39.496705234]], [[-74.076595455, 40.744849741], [-74.094063342, 40.809473544], [-74.134900484, 40.67342535], [-74.076595455, 40.744849741]], [[-75.012402087, 39.23583895], [-75.001630336, 39.363364577], [-75.022288796, 39.231535681], [-75.012402087, 39.23583895]], [[-75.231881887, 39.418202341], [-75.364399105, 39.354731888], [-75.359053173, 39.350318444], [-75.231881887, 39.418202341]]], [[[-74.092728943, 39.757166505], [-74.260367006, 39.544420391], [-74.307526946, 39.499922544], [-74.092728943, 39.757166505]]]]}\",\"{\\\"type\\\": \\\"MultiPolygon\\\", \\\"coordinates\\\": [[[[-71.611922979, 41.1540851], [-71.577921957, 41.232406944], [-71.544372886, 41.161689162], [-71.611922979, 41.1540851]]], [[[-71.3564533, 41.717715114], [-71.378452778, 41.666745096], [-71.459385753, 41.697575748], [-71.402070969, 41.61502406], [-71.458200216, 41.583166122], [-71.417629123, 41.477134377], [-71.445689052, 41.519120336], [-71.481171995, 41.360621899], [-71.86032638, 41.320260018], [-71.79774642, 41.416780651], [-71.799188107, 42.008053511], [-71.381326765, 42.018935233], [-71.340480745, 41.797033399], [-71.225592345, 41.711642593], [-71.30055204, 41.649447531], [-71.288419068, 41.737312675], [-71.400984675, 41.816176325], [-71.3564533, 41.717715114]]], [[[-71.22030437, 41.655522734], [-71.239905953, 41.476485282], [-71.336705536, 41.481584162], [-71.22030437, 41.655522734]]], [[[-71.120329052, 41.496714503], [-71.194571257, 41.456277519], [-71.196589619, 41.676403731], [-71.132558584, 41.660366803], [-71.120329052, 41.496714503]]]]}\"]\n",
       "},\n",
       "\"mapping\":{\n",
       "\"fill\":\"found name\"\n",
       "},\n",
       "\"tooltips\":{\n",
       "\"formats\":[],\n",
       "\"lines\":[\"@{found name}\"]\n",
       "},\n",
       "\"data_meta\":{\n",
       "\"series_annotations\":[{\n",
       "\"type\":\"str\",\n",
       "\"column\":\"state\"\n",
       "},{\n",
       "\"type\":\"str\",\n",
       "\"column\":\"found name\"\n",
       "},{\n",
       "\"type\":\"unknown(pandas:unknown-array)\",\n",
       "\"column\":\"geometry\"\n",
       "}],\n",
       "\"geodataframe\":{\n",
       "\"geometry\":\"geometry\"\n",
       "}\n",
       "}\n",
       "}],\n",
       "\"metainfo_list\":[],\n",
       "\"spec_id\":\"11\"\n",
       "};\n",
       "               window.letsPlotCall(function() {\n",
       "       \n",
       "               var toolbar = null;\n",
       "               var plotContainer = containerDiv;               \n",
       "               \n",
       "                   var options = {\n",
       "                       sizing: {\n",
       "                           width_mode: \"min\",\n",
       "                           height_mode: \"scaled\",\n",
       "                           width: width\n",
       "                       }\n",
       "                   };\n",
       "                   var fig = LetsPlot.buildPlotFromProcessedSpecs(plotSpec, -1, -1, plotContainer, options);\n",
       "                   if (toolbar) {\n",
       "                     toolbar.bind(fig);\n",
       "                   }\n",
       "               });\n",
       "               \n",
       "               break;\n",
       "           }\n",
       "       }\n",
       "   });\n",
       "   \n",
       "   observer.observe(containerDiv);\n",
       "   \n",
       "   // ----------\n",
       "   })();\n",
       "   \n",
       "   </script>"
      ],
      "text/plain": [
       "<lets_plot.plot.core.PlotSpec at 0x123a23dc0>"
      ]
     },
     "execution_count": 49,
     "metadata": {},
     "output_type": "execute_result"
    }
   ],
   "source": [
    "# With GeoDataFrame as data a plot spec is even more compact\n",
    "p + geom_map(aes(fill='found name'), data=us48.get_boundaries(), tooltips=layer_tooltips().line('@{found name}'))"
   ]
  },
  {
   "cell_type": "code",
   "execution_count": 50,
   "metadata": {
    "execution": {
     "iopub.execute_input": "2024-11-07T09:09:12.643221Z",
     "iopub.status.busy": "2024-11-07T09:09:12.643107Z",
     "iopub.status.idle": "2024-11-07T09:09:13.020714Z",
     "shell.execute_reply": "2024-11-07T09:09:13.020439Z"
    }
   },
   "outputs": [
    {
     "data": {
      "text/html": [
       "   <div id=\"FUJHHc\"></div>\n",
       "   <script type=\"text/javascript\" data-lets-plot-script=\"plot\">\n",
       "   \n",
       "   (function() {\n",
       "   // ----------\n",
       "   \n",
       "   var containerDiv = document.getElementById(\"FUJHHc\");\n",
       "   var observer = new ResizeObserver(function(entries) {\n",
       "       for (let entry of entries) {\n",
       "           var width = containerDiv.clientWidth\n",
       "           if (entry.contentBoxSize && width > 0) {\n",
       "           \n",
       "               // Render plot\n",
       "               if (observer) {\n",
       "                   observer.disconnect();\n",
       "                   observer = null;\n",
       "               }\n",
       "\n",
       "               var plotSpec={\n",
       "\"mapping\":{\n",
       "},\n",
       "\"data_meta\":{\n",
       "},\n",
       "\"theme\":{\n",
       "\"name\":\"classic\",\n",
       "\"line\":\"blank\",\n",
       "\"axis\":\"blank\",\n",
       "\"legend_position\":\"none\"\n",
       "},\n",
       "\"ggsize\":{\n",
       "\"width\":600.0,\n",
       "\"height\":300.0\n",
       "},\n",
       "\"kind\":\"plot\",\n",
       "\"scales\":[],\n",
       "\"layers\":[{\n",
       "\"geom\":\"map\",\n",
       "\"data\":{\n",
       "\"State_Name\":[\"Kansas\",\"Minnesota\",\"New Hampshire\",\"Indiana\",\"Missouri\",\"Delaware\",\"West Virginia\",\"Pennsylvania\",\"New Mexico\",\"South Dakota\",\"Illinois\",\"South Carolina\",\"Massachusetts\",\"Washington\",\"Ohio\",\"Vermont\",\"Connecticut\",\"Tennessee\",\"Utah\",\"Arizona\",\"Virginia\",\"Mississippi\",\"Maine\",\"Arkansas\",\"Montana\",\"Wisconsin\",\"Michigan\",\"Georgia\",\"Nevada\",\"Wyoming\"],\n",
       "\"Mean_Value\":[480.0,451.0,195.0,351.0,110.0,496.0,216.0,371.0,14.0,270.0,113.0,391.0,224.0,253.0,283.0,119.0,176.0,118.0,346.0,112.0,389.0,235.0,487.0,148.0,474.0,11.0,213.0,428.0,469.0,284.0]\n",
       "},\n",
       "\"mapping\":{\n",
       "\"fill\":\"Mean_Value\"\n",
       "},\n",
       "\"tooltips\":{\n",
       "\"formats\":[],\n",
       "\"lines\":[\"@{found name}\",\"mean:|@Mean_Value\"]\n",
       "},\n",
       "\"data_meta\":{\n",
       "\"series_annotations\":[{\n",
       "\"type\":\"str\",\n",
       "\"column\":\"State_Name\"\n",
       "},{\n",
       "\"type\":\"int\",\n",
       "\"column\":\"Mean_Value\"\n",
       "}]\n",
       "},\n",
       "\"map\":{\n",
       "\"state\":[\"Vermont\",\"Massachusetts\",\"New York\",\"Maine\",\"New Hampshire\",\"Texas\",\"Illinois\",\"Missouri\",\"Kansas\",\"Oklahoma\",\"Arkansas\",\"Nebraska\",\"Iowa\",\"South Dakota\",\"North Dakota\",\"Kentucky\",\"Indiana\",\"Tennessee\",\"Mississippi\",\"Alabama\",\"Georgia\",\"Colorado\",\"Wyoming\",\"Utah\",\"New Mexico\",\"Arizona\",\"Florida\",\"Ohio\",\"West Virginia\",\"Washington, D.C.\",\"Pennsylvania\",\"Delaware\",\"Maryland\",\"Montana\",\"Idaho\",\"Wisconsin\",\"Minnesota\",\"Nevada\",\"California\",\"Oregon\",\"Washington\",\"Michigan\",\"Connecticut\",\"South Carolina\",\"Virginia\",\"North Carolina\",\"Louisiana\",\"New Jersey\",\"Rhode Island\"],\n",
       "\"found name\":[\"Vermont\",\"Massachusetts\",\"New York\",\"Maine\",\"New Hampshire\",\"Texas\",\"Illinois\",\"Missouri\",\"Kansas\",\"Oklahoma\",\"Arkansas\",\"Nebraska\",\"Iowa\",\"South Dakota\",\"North Dakota\",\"Kentucky\",\"Indiana\",\"Tennessee\",\"Mississippi\",\"Alabama\",\"Georgia\",\"Colorado\",\"Wyoming\",\"Utah\",\"New Mexico\",\"Arizona\",\"Florida\",\"Ohio\",\"West Virginia\",\"Washington, D.C.\",\"Pennsylvania\",\"Delaware\",\"Maryland\",\"Montana\",\"Idaho\",\"Wisconsin\",\"Minnesota\",\"Nevada\",\"California\",\"Oregon\",\"Washington\",\"Michigan\",\"Connecticut\",\"South Carolina\",\"Virginia\",\"North Carolina\",\"Louisiana\",\"New Jersey\",\"Rhode Island\"],\n",
       "\"geometry\":[\"{\\\"type\\\": \\\"MultiPolygon\\\", \\\"coordinates\\\": [[[[-73.264812827, 42.745851427], [-73.241486996, 43.532800823], [-73.306081295, 43.628079593], [-73.431332409, 43.587917536], [-73.350592554, 43.771938533], [-73.437740207, 44.045006186], [-73.293382376, 44.437484443], [-73.39023158, 44.618352503], [-73.343166858, 45.010724813], [-71.501019001, 45.013445914], [-71.495000124, 44.904694408], [-71.632812023, 44.75102663], [-71.535065621, 44.588342607], [-71.57683298, 44.502403289], [-71.815446317, 44.354298413], [-72.032795101, 44.320483804], [-72.031645775, 44.078772515], [-72.380346358, 43.573625386], [-72.443469465, 43.007158935], [-72.55723536, 42.853898853], [-72.45844692, 42.726960629], [-73.264812827, 42.745851427]]]]}\",\"{\\\"type\\\": \\\"MultiPolygon\\\", \\\"coordinates\\\": [[[[-70.590709448, 42.640413791], [-70.664619058, 42.579921931], [-70.680081993, 42.660752982], [-70.590709448, 42.640413791]]], [[[-70.775981694, 41.301322281], [-70.838218331, 41.346108466], [-70.587675869, 41.459245384], [-70.524307723, 41.370967552], [-70.564388931, 41.382047385], [-70.775981694, 41.301322281]]], [[[-70.509057641, 41.349722743], [-70.524307723, 41.370967552], [-70.497652849, 41.363599222], [-70.509057641, 41.349722743]]], [[[-70.452117026, 41.351011544], [-70.497652849, 41.363599222], [-70.450901985, 41.420482099], [-70.452117026, 41.351011544]]], [[[-70.005733073, 41.799635142], [-70.054313242, 41.994095296], [-70.244920403, 42.061484456], [-70.05968973, 42.040678561], [-69.944784496, 41.738651664], [-69.964077026, 41.653155684], [-70.266269445, 41.609372646], [-70.260423571, 41.655648798], [-70.655617565, 41.515067518], [-70.613299012, 41.676493585], [-70.66116035, 41.682598293], [-70.54360047, 41.775182784], [-70.624970645, 41.765300184], [-70.673997402, 41.692212671], [-70.745884627, 41.738547832], [-70.715554208, 41.676488221], [-70.761378407, 41.721443385], [-70.764547437, 41.641313732], [-70.867828578, 41.639167964], [-70.852345526, 41.581952423], [-70.930094719, 41.613078117], [-70.953369588, 41.514277607], [-71.120329052, 41.496714503], [-71.132558584, 41.660366803], [-71.196589619, 41.676403731], [-71.157300621, 41.711516529], [-71.225592345, 41.711642593], [-71.340480745, 41.797033399], [-71.381326765, 42.018935233], [-71.799188107, 42.008053511], [-73.48735705, 42.049532533], [-73.264812827, 42.745851427], [-72.45844692, 42.726960629], [-71.294871122, 42.697243094], [-71.031196564, 42.859296799], [-70.816150457, 42.872041315], [-70.803633928, 42.818905413], [-70.913219601, 42.834100127], [-70.814177692, 42.792761922], [-70.867689103, 42.75584802], [-70.823812187, 42.681557536], [-70.672908425, 42.609548271], [-70.888870507, 42.540080398], [-70.835538805, 42.490588278], [-70.93372643, 42.459020019], [-70.905513614, 42.416313887], [-70.967291594, 42.445076555], [-70.953240842, 42.344158441], [-71.05831638, 42.381489426], [-71.041788608, 42.279054523], [-70.955394655, 42.280032188], [-70.974306911, 42.222064286], [-70.858196765, 42.264563888], [-70.919422209, 42.306226641], [-70.767381191, 42.254016101], [-70.59916243, 42.004526407], [-70.656681061, 42.060349882], [-70.729250908, 41.989438981], [-70.539216399, 41.926655173], [-70.489202589, 41.779796183], [-70.542153418, 41.775121093], [-70.273253208, 41.723829458], [-70.005733073, 41.799635142]], [[-70.351747423, 41.701586992], [-70.272541791, 41.723693758], [-70.273253208, 41.723829458], [-70.351747423, 41.701586992]]], [[[-70.050631911, 41.392463744], [-70.020074704, 41.349530731], [-70.092486441, 41.295796931], [-70.050631911, 41.392463744]]], [[[-70.013150722, 41.354668736], [-70.011452058, 41.337415875], [-70.020074704, 41.349530731], [-70.013150722, 41.354668736]]], [[[-69.960858375, 41.266331524], [-70.236177742, 41.28494069], [-70.095821768, 41.291693151], [-70.008452833, 41.306953579], [-70.011452058, 41.337415875], [-69.960858375, 41.266331524]]], [[[-69.935987592, 41.777635664], [-69.931948185, 41.70491159], [-69.944784496, 41.738651664], [-69.935987592, 41.777635664]]]]}\",\"{\\\"type\\\": \\\"MultiPolygon\\\", \\\"coordinates\\\": [[[[-74.194627404, 40.637400448], [-74.071540833, 40.645186901], [-74.0733473, 40.578297973], [-74.217251837, 40.503626615], [-74.194627404, 40.637400448]]], [[[-72.874225527, 40.737068653], [-73.224788904, 40.727855265], [-73.940636963, 40.541901737], [-73.738676012, 40.632466525], [-73.879341781, 40.654625595], [-73.879745454, 40.580162108], [-73.992960155, 40.570219159], [-74.041745514, 40.620726496], [-73.913374851, 40.786202938], [-73.934994936, 40.7829988], [-73.934532291, 40.831626658], [-73.934054822, 40.881812721], [-73.89403224, 40.996702462], [-74.695482999, 41.3577573], [-74.738456011, 41.430642307], [-74.983340353, 41.480893493], [-75.074613243, 41.60571143], [-75.071971267, 41.813711375], [-75.258922577, 41.862668395], [-75.359546989, 41.99950397], [-79.761800319, 41.998841465], [-79.761840552, 42.514689267], [-78.935380876, 42.828303874], [-78.909410387, 42.933575213], [-79.074111432, 43.077860624], [-79.05594483, 43.254666477], [-79.2006661, 43.450471759], [-78.690389246, 43.631138653], [-76.796694696, 43.631138653], [-76.312722266, 44.199056178], [-75.912833065, 44.367806017], [-75.284860879, 44.848304987], [-74.97255519, 44.983472228], [-74.668497294, 45.004278123], [-73.343166858, 45.010724813], [-73.39023158, 44.618352503], [-73.293382376, 44.437484443], [-73.437740207, 44.045006186], [-73.350592554, 43.771938533], [-73.431332409, 43.587917536], [-73.306081295, 43.628079593], [-73.241486996, 43.532800823], [-73.264812827, 42.745851427], [-73.48735705, 42.049532533], [-73.550961614, 41.295421422], [-73.482695371, 41.212771833], [-73.727775514, 41.100695729], [-73.659686297, 40.988233387], [-73.800396323, 40.848244876], [-73.826887161, 40.889577717], [-73.790823519, 40.804365277], [-73.896548749, 40.788696598], [-73.753186762, 40.764545202], [-73.753613234, 40.838131607], [-73.709340692, 40.793432593], [-73.730387986, 40.865990371], [-73.649538159, 40.800657123], [-73.633345664, 40.902882814], [-73.462660611, 40.859302282], [-73.484788835, 40.947917104], [-73.354247063, 40.890772641], [-73.400275111, 40.955762565], [-73.169122338, 40.893308669], [-73.12455073, 40.97370252], [-72.635242045, 40.982036144], [-72.233097106, 41.160488874], [-72.434324473, 41.05551526], [-72.383370548, 41.049717665], [-72.431388795, 40.979394168], [-72.474624664, 41.021963507], [-72.650648654, 40.916554034], [-72.458001673, 40.896841139], [-72.312949151, 41.0409455], [-72.326471508, 40.990002304], [-72.27023332, 41.025955363], [-72.384561449, 41.069169044], [-72.311016619, 41.070418954], [-72.270209168, 41.025970803], [-72.241056561, 41.044608057], [-72.184529006, 40.996176749], [-72.160658687, 41.053826809], [-72.096889651, 40.991923776], [-72.874225527, 40.737068653]]], [[[-72.900472283, 40.724452883], [-73.12455073, 40.653560758], [-73.316877186, 40.626343042], [-72.900472283, 40.724452883]]], [[[-72.096174359, 40.991229415], [-72.096889651, 40.991923776], [-71.85618639, 41.070840061], [-72.096174359, 40.991229415]]]]}\",\"{\\\"type\\\": \\\"MultiPolygon\\\", \\\"coordinates\\\": [[[[-70.22374168, 43.652210087], [-70.196633935, 43.565608263], [-70.369471461, 43.561322093], [-70.33367604, 43.44716996], [-70.559923053, 43.315356821], [-70.592033118, 43.165578246], [-70.704286247, 43.065270334], [-70.827080458, 43.12739566], [-70.809821784, 43.225882351], [-70.988427401, 43.389554769], [-70.950639099, 43.551317453], [-71.084168851, 45.305474102], [-70.952378511, 45.339115709], [-70.857539624, 45.229139775], [-70.798105896, 45.426507443], [-70.634888113, 45.383419096], [-70.72256282, 45.513675213], [-70.258804858, 45.891167969], [-70.317997187, 46.019081175], [-70.236282349, 46.145240217], [-70.292693228, 46.191474795], [-70.191185027, 46.350225359], [-70.056503266, 46.415581405], [-69.997123182, 46.695522219], [-69.22446996, 47.459839135], [-69.043215662, 47.426783592], [-69.050960541, 47.300088108], [-68.90003264, 47.177741826], [-68.234470636, 47.35530138], [-67.790198922, 47.067225426], [-67.750628293, 45.917636007], [-67.81811133, 45.693722516], [-67.450019717, 45.602465719], [-67.416222543, 45.501306206], [-67.503721565, 45.486694872], [-67.419249415, 45.377110541], [-67.489055246, 45.280583203], [-67.353444099, 45.12916714], [-67.280433029, 45.191354156], [-67.163300961, 45.158534646], [-67.04011783, 44.960906804], [-67.175688744, 44.947620481], [-67.13202104, 44.88157779], [-67.225644886, 44.933534861], [-67.1495305, 44.862772822], [-67.172841579, 44.791497141], [-67.10422799, 44.894279391], [-67.072131336, 44.817648679], [-67.023928016, 44.850053787], [-67.062460631, 44.90662694], [-66.949856132, 44.818002731], [-67.191387713, 44.643581361], [-67.28220731, 44.623778611], [-67.296121269, 44.707619101], [-67.392126918, 44.734714776], [-67.405622452, 44.594436586], [-67.428709567, 44.666640311], [-67.458435148, 44.596052617], [-67.571392357, 44.66226697], [-67.565121353, 44.531829804], [-67.657548934, 44.571423233], [-67.715634853, 44.496892691], [-67.718535662, 44.651162624], [-67.78320238, 44.520855546], [-67.792059034, 44.612137824], [-67.857266217, 44.526616931], [-67.925111353, 44.59442988], [-67.849738598, 44.49549526], [-67.894343734, 44.398900867], [-67.900303602, 44.48868379], [-67.937672138, 44.410049468], [-67.992390543, 44.505761415], [-68.036203086, 44.482801706], [-67.959410101, 44.399277717], [-68.024983406, 44.409643114], [-68.060344309, 44.33167398], [-68.095542938, 44.467490315], [-68.193624616, 44.472371936], [-68.244331777, 44.589442313], [-68.275496364, 44.51092869], [-68.323191404, 44.534280002], [-68.280934542, 44.452558458], [-68.357276917, 44.494273514], [-68.427930325, 44.396763146], [-68.42309162, 44.497755021], [-68.50562185, 44.494563192], [-68.489785105, 44.452467581], [-68.587413132, 44.413449168], [-68.526237309, 44.227924794], [-68.754526824, 44.351719469], [-68.827170432, 44.311526567], [-68.759431243, 44.424723834], [-68.659999073, 44.369737208], [-68.727258146, 44.470691532], [-68.810147792, 44.381200969], [-68.778067231, 44.492074102], [-69.044273794, 44.450690299], [-68.947979808, 44.354191124], [-69.108387977, 44.109848589], [-69.043776244, 44.092604667], [-69.07678619, 44.043006599], [-69.261165261, 43.917216361], [-69.169904441, 44.081147611], [-69.307241589, 43.953620642], [-69.283734709, 44.016904682], [-69.367703944, 43.965300322], [-69.377421588, 44.094609618], [-69.514652789, 43.831758499], [-69.507728666, 43.920728713], [-69.571711855, 43.89154898], [-69.596563429, 43.813042045], [-69.590304494, 43.861831427], [-69.66435492, 43.853288591], [-69.645209312, 44.011296183], [-69.760769606, 43.888056725], [-69.809280038, 44.000606239], [-69.786991768, 43.818844325], [-69.777864665, 43.744412363], [-69.834465981, 43.700994104], [-69.86509949, 43.91784668], [-70.025393665, 43.730727732], [-69.947109371, 43.865499347], [-70.153359175, 43.816992939], [-70.26969865, 43.718393594], [-70.254846134, 43.654469469], [-70.22374168, 43.652210087]], [[-70.311144143, 43.658558875], [-70.253813267, 43.650024086], [-70.254846134, 43.654469469], [-70.311144143, 43.658558875]], [[-69.516425729, 44.06619966], [-69.580830932, 43.887390196], [-69.571711855, 43.89154898], [-69.516425729, 44.06619966]]], [[[-69.948343188, 43.813874871], [-69.885955006, 43.851305097], [-69.894857258, 43.774878234], [-69.948343188, 43.813874871]]], [[[-69.75060001, 43.788156509], [-69.707274288, 43.828653842], [-69.752480239, 43.767942041], [-69.755606353, 43.882318139], [-69.75060001, 43.788156509]]], [[[-68.896163553, 44.156414419], [-68.806876838, 44.158118963], [-68.942529559, 44.109711796], [-68.896163553, 44.156414419]]], [[[-68.828330487, 44.03188616], [-68.909736872, 44.111854881], [-68.83518219, 44.09422338], [-68.775579482, 44.06422019], [-68.828330487, 44.03188616]]], [[[-68.741421551, 44.307771474], [-68.677167892, 44.27606374], [-68.679762081, 44.26637693], [-68.741421551, 44.307771474]]], [[[-68.708935976, 44.157440364], [-68.679762081, 44.26637693], [-68.59644413, 44.210442156], [-68.708935976, 44.157440364]]], [[[-68.481225818, 44.45588842], [-68.462949246, 44.381135255], [-68.489785105, 44.452467581], [-68.481225818, 44.45588842]]], [[[-68.367190361, 44.416917264], [-68.24947089, 44.433707893], [-68.173483908, 44.328555912], [-68.294485062, 44.287133217], [-68.329049349, 44.368897676], [-68.290731311, 44.246985912], [-68.364612758, 44.226815701], [-68.431485593, 44.303057492], [-68.367190361, 44.416917264]]]]}\",\"{\\\"type\\\": \\\"MultiPolygon\\\", \\\"coordinates\\\": [[[[-70.816150457, 42.872041315], [-71.031196564, 42.859296799], [-71.294871122, 42.697243094], [-72.45844692, 42.726960629], [-72.55723536, 42.853898853], [-72.443469465, 43.007158935], [-72.380346358, 43.573625386], [-72.031645775, 44.078772515], [-72.032795101, 44.320483804], [-71.815446317, 44.354298413], [-71.57683298, 44.502403289], [-71.535065621, 44.588342607], [-71.632812023, 44.75102663], [-71.495000124, 44.904694408], [-71.501019001, 45.013445914], [-71.397347599, 45.203521997], [-71.442824453, 45.238292813], [-71.284230798, 45.302361399], [-71.147568226, 45.239438117], [-71.084168851, 45.305474102], [-70.950639099, 43.551317453], [-70.988427401, 43.389554769], [-70.809821784, 43.225882351], [-70.827080458, 43.12739566], [-70.704286247, 43.065270334], [-70.816150457, 42.872041315]]]]}\",\"{\\\"type\\\": \\\"MultiPolygon\\\", \\\"coordinates\\\": [[[[-96.444758177, 28.769389987], [-96.38256982, 28.619964123], [-96.488416493, 28.570093811], [-96.434812546, 28.603047431], [-96.468780041, 28.674520254], [-96.484301984, 28.607754707], [-96.585977823, 28.65729779], [-96.601722389, 28.764093965], [-96.664429754, 28.723453134], [-96.639440954, 28.5723643], [-96.486541629, 28.511425853], [-96.561701149, 28.481521904], [-96.488299817, 28.509687781], [-96.40244633, 28.442687541], [-96.67466104, 28.321603239], [-96.793504357, 28.466879725], [-96.764673293, 28.412272632], [-96.85967043, 28.413419276], [-96.776519269, 28.244397193], [-96.915964633, 28.094945848], [-96.388136744, 28.37376684], [-96.973534226, 27.942818999], [-97.195967138, 27.627906203], [-97.368013412, 27.181247324], [-97.368514985, 26.898275614], [-97.147470117, 25.955141187], [-97.285029888, 25.959089398], [-97.424409539, 25.840420425], [-97.662600428, 26.038150191], [-98.194919676, 26.053390503], [-98.444579691, 26.224440336], [-98.670099825, 26.236710101], [-98.805540651, 26.368079334], [-99.084530622, 26.397977918], [-99.268680364, 26.843319833], [-99.44582954, 27.021599561], [-99.441660047, 27.250229716], [-99.538069367, 27.316850424], [-99.511810541, 27.566549331], [-99.728146791, 27.679125667], [-99.843222946, 27.769863456], [-99.931380451, 27.980619371], [-100.293219835, 28.277910054], [-100.33389017, 28.499290198], [-100.500474125, 28.661954105], [-100.675419867, 29.10147965], [-101.059874296, 29.458580911], [-101.256804764, 29.522332996], [-101.248642802, 29.623351693], [-101.307423413, 29.580232501], [-101.40225023, 29.771770388], [-102.072900385, 29.786450118], [-102.315570563, 29.880029708], [-102.387640178, 29.761240035], [-102.67399013, 29.744630456], [-102.884150594, 29.347860664], [-102.867660373, 29.223439693], [-102.995750606, 29.179270416], [-103.115960509, 28.984610438], [-103.307631165, 29.003513306], [-103.783929795, 29.265452474], [-104.037709683, 29.319799393], [-104.508280456, 29.632489979], [-104.679969996, 29.92078051], [-104.706290513, 30.234910101], [-104.859479517, 30.390310585], [-104.922629446, 30.603660196], [-105.215010345, 30.805909485], [-105.399860144, 30.851989836], [-105.95396027, 31.36488989], [-106.206679344, 31.466259956], [-106.380589753, 31.73162967], [-106.527981162, 31.78384155], [-106.635750979, 31.866302043], [-106.618739069, 32.000660598], [-103.064631075, 32.000391036], [-103.002461493, 36.500439048], [-100.00043124, 36.499925405], [-100.000392348, 34.5605582], [-99.923210442, 34.574552625], [-99.696461856, 34.381036609], [-99.402959794, 34.373480827], [-99.35879454, 34.455863535], [-99.213134497, 34.340368956], [-99.177789688, 34.212069511], [-98.979299515, 34.220235497], [-98.757036924, 34.124633521], [-98.599788398, 34.160571098], [-98.486328274, 34.06259805], [-98.364023566, 34.157108366], [-98.109461814, 34.154110998], [-98.088202626, 34.005480409], [-97.947448343, 33.976621181], [-97.967669517, 33.88318643], [-97.846892327, 33.854983002], [-97.666288465, 33.992533386], [-97.591173202, 33.902561367], [-97.457230389, 33.902124166], [-97.4206236, 33.818582743], [-97.205381691, 33.915587515], [-97.134332657, 33.718701303], [-97.048158646, 33.820053935], [-97.088627815, 33.852955252], [-96.918897629, 33.958064318], [-96.867487729, 33.852742016], [-96.764061749, 33.825579286], [-96.667931378, 33.916157484], [-96.592057049, 33.897066861], [-96.620123684, 33.84311825], [-96.347439587, 33.68666634], [-96.092305183, 33.857659847], [-95.764517784, 33.84703964], [-95.592987835, 33.943575025], [-95.543549359, 33.880607486], [-95.289919674, 33.873695433], [-95.219710171, 33.963224888], [-94.956209958, 33.858229816], [-94.861452878, 33.742971271], [-94.485849738, 33.638024479], [-94.388095289, 33.54776144], [-94.043423384, 33.552223295], [-94.042964727, 33.019213378], [-94.041907936, 31.993854493], [-93.823443353, 31.775097549], [-93.834924549, 31.586211026], [-93.726736307, 31.511600018], [-93.600307703, 31.176157594], [-93.532545716, 31.183540374], [-93.507865369, 31.031927168], [-93.577826768, 30.999715179], [-93.554948866, 30.821975917], [-93.739660531, 30.540689975], [-93.699558824, 30.059584826], [-93.926740587, 29.812155068], [-93.839536607, 29.691074789], [-94.499109238, 29.506841898], [-94.468200803, 29.557758272], [-94.55345884, 29.574357122], [-94.780865908, 29.531762302], [-94.687014073, 29.645781666], [-94.711453021, 29.791393429], [-94.901109338, 29.657539129], [-94.923275113, 29.755603373], [-94.947905838, 29.699221998], [-95.016185492, 29.720892906], [-95.021674633, 29.551945925], [-94.909595847, 29.497180581], [-94.978770018, 29.451656789], [-94.809725136, 29.363865405], [-94.886060804, 29.389516711], [-94.899866134, 29.302009642], [-95.097489953, 29.174944013], [-95.210522264, 29.212921411], [-95.160489678, 29.104565531], [-95.260424763, 28.985727578], [-95.123414844, 29.070100486], [-95.383377224, 28.869433701], [-95.926296562, 28.700415641], [-95.961778164, 28.625304401], [-95.659372509, 28.758190423], [-96.313532442, 28.417307138], [-95.97169295, 28.65672648], [-96.17920205, 28.595328033], [-96.192054945, 28.606157685], [-96.235447973, 28.642719984], [-96.17326498, 28.762713969], [-96.362270862, 28.626853377], [-96.444758177, 28.769389987]]], [[[-95.122130066, 29.087875485], [-94.913643301, 29.240459651], [-94.721012414, 29.331186712], [-95.122130066, 29.087875485]]], [[[-94.499719441, 29.506764114], [-94.779029936, 29.359714687], [-94.559678882, 29.498172998], [-94.499719441, 29.506764114]]]]}\",\"{\\\"type\\\": \\\"MultiPolygon\\\", \\\"coordinates\\\": [[[[-89.133012146, 36.982000172], [-89.254781753, 37.071961462], [-89.307755381, 37.069779485], [-89.280270785, 36.988193393], [-89.378681034, 37.03955099], [-89.520710707, 37.283669561], [-89.420803785, 37.385696769], [-89.516884536, 37.536811084], [-89.51669544, 37.692556232], [-89.840704948, 37.904535234], [-89.948662519, 37.880284041], [-89.924648702, 37.959984541], [-90.350794047, 38.211554289], [-90.368434936, 38.339411169], [-90.10848999, 38.845356256], [-90.450344235, 38.967640847], [-90.549840778, 38.872297704], [-90.625953823, 38.890453577], [-90.730999857, 39.256180823], [-91.367854178, 39.72913608], [-91.511459649, 40.137393773], [-91.420409381, 40.378013402], [-91.372553408, 40.401199758], [-91.401482373, 40.559458137], [-91.123927385, 40.669152439], [-91.092993468, 40.821079463], [-90.95223248, 40.954047292], [-90.946626663, 41.096632183], [-91.113647819, 41.241400391], [-91.045889854, 41.414085031], [-90.461432487, 41.523533911], [-90.343227535, 41.587833166], [-90.310708433, 41.742214411], [-90.18095389, 41.809354126], [-90.162894577, 42.116717845], [-90.391107649, 42.225473374], [-90.419026762, 42.328505069], [-90.641045272, 42.507989109], [-87.019924968, 42.493499815], [-87.207773477, 41.760956347], [-87.523328662, 41.760350168], [-87.531375289, 39.347705841], [-87.645990103, 39.144899994], [-87.512186766, 38.954417557], [-87.553384155, 38.863344491], [-87.497077882, 38.743126541], [-87.843147218, 38.279324323], [-87.98638925, 38.259089738], [-87.914986163, 38.160290569], [-88.042580187, 38.043110222], [-88.010994494, 37.973186374], [-88.068840355, 37.924885154], [-88.014214486, 37.885648459], [-88.099701852, 37.90440917], [-88.025017083, 37.799896896], [-88.160187006, 37.657592297], [-88.072244078, 37.481963933], [-88.476592451, 37.3868756], [-88.515940458, 37.284192592], [-88.424617946, 37.151726335], [-88.460188061, 37.07447201], [-88.983260393, 37.228685617], [-89.175724983, 37.062069476], [-89.133012146, 36.982000172]]]]}\",\"{\\\"type\\\": \\\"MultiPolygon\\\", \\\"coordinates\\\": [[[[-95.30805409, 40.000000298], [-95.415329039, 40.040511042], [-95.393281281, 40.118686706], [-95.477435589, 40.242581964], [-95.656628609, 40.310891122], [-95.662296116, 40.556382984], [-95.75302586, 40.524999797], [-95.774144232, 40.573488772], [-95.766522735, 40.585193932], [-91.72925368, 40.613634735], [-91.420409381, 40.378013402], [-91.511459649, 40.137393773], [-91.367854178, 39.72913608], [-90.730999857, 39.256180823], [-90.625953823, 38.890453577], [-90.549840778, 38.872297704], [-90.450344235, 38.967640847], [-90.10848999, 38.845356256], [-90.368434936, 38.339411169], [-90.350794047, 38.211554289], [-89.924648702, 37.959984541], [-89.948662519, 37.880284041], [-89.840704948, 37.904535234], [-89.51669544, 37.692556232], [-89.516884536, 37.536811084], [-89.420803785, 37.385696769], [-89.520710707, 37.283669561], [-89.378681034, 37.03955099], [-89.280270785, 36.988193393], [-89.307755381, 37.069779485], [-89.254781753, 37.071961462], [-89.133012146, 36.982000172], [-89.179229289, 36.812915057], [-89.116563499, 36.767557561], [-89.201046377, 36.725771427], [-89.159080535, 36.666352451], [-89.23654139, 36.566823721], [-89.365547597, 36.625058502], [-89.417292774, 36.49903357], [-89.4851996, 36.497453749], [-89.528270513, 36.580993831], [-89.53912273, 36.498102844], [-89.513177723, 36.35989666], [-89.62025553, 36.323005557], [-89.534745365, 36.252576113], [-89.698567986, 36.250591278], [-89.592101723, 36.135637164], [-89.733094722, 36.000608057], [-90.377889723, 35.995683521], [-90.063980073, 36.303037852], [-90.152584165, 36.497936547], [-94.617855996, 36.499511003], [-94.617951214, 36.99859634], [-94.588205516, 39.149786979], [-94.826514423, 39.212210029], [-94.906181395, 39.313971698], [-94.883826524, 39.388120025], [-95.110517442, 39.544588029], [-94.962702245, 39.741906077], [-94.861859232, 39.742097855], [-94.935302138, 39.775609374], [-94.875943512, 39.813294411], [-94.929574281, 39.888754338], [-95.128311217, 39.873467088], [-95.30805409, 40.000000298]]]]}\",\"{\\\"type\\\": \\\"MultiPolygon\\\", \\\"coordinates\\\": [[[[-102.042127401, 36.993127316], [-102.051756531, 40.00306204], [-95.30805409, 40.000000298], [-95.128311217, 39.873467088], [-94.929574281, 39.888754338], [-94.875943512, 39.813294411], [-94.935302138, 39.775609374], [-94.861859232, 39.742097855], [-94.962702245, 39.741906077], [-95.110517442, 39.544588029], [-94.883826524, 39.388120025], [-94.906181395, 39.313971698], [-94.826514423, 39.212210029], [-94.588205516, 39.149786979], [-94.617951214, 36.99859634], [-102.042127401, 36.993127316]]]]}\",\"{\\\"type\\\": \\\"MultiPolygon\\\", \\\"coordinates\\\": [[[[-103.002461493, 36.500439048], [-103.002441376, 37.000086308], [-102.042127401, 36.993127316], [-94.617951214, 36.99859634], [-94.617855996, 36.499511003], [-94.431219846, 35.394376516], [-94.485849738, 33.638024479], [-94.861452878, 33.742971271], [-94.956209958, 33.858229816], [-95.219710171, 33.963224888], [-95.289919674, 33.873695433], [-95.543549359, 33.880607486], [-95.592987835, 33.943575025], [-95.764517784, 33.84703964], [-96.092305183, 33.857659847], [-96.347439587, 33.68666634], [-96.620123684, 33.84311825], [-96.592057049, 33.897066861], [-96.667931378, 33.916157484], [-96.764061749, 33.825579286], [-96.867487729, 33.852742016], [-96.918897629, 33.958064318], [-97.088627815, 33.852955252], [-97.048158646, 33.820053935], [-97.134332657, 33.718701303], [-97.205381691, 33.915587515], [-97.4206236, 33.818582743], [-97.457230389, 33.902124166], [-97.591173202, 33.902561367], [-97.666288465, 33.992533386], [-97.846892327, 33.854983002], [-97.967669517, 33.88318643], [-97.947448343, 33.976621181], [-98.088202626, 34.005480409], [-98.109461814, 34.154110998], [-98.364023566, 34.157108366], [-98.486328274, 34.06259805], [-98.599788398, 34.160571098], [-98.757036924, 34.124633521], [-98.979299515, 34.220235497], [-99.177789688, 34.212069511], [-99.213134497, 34.340368956], [-99.35879454, 34.455863535], [-99.402959794, 34.373480827], [-99.696461856, 34.381036609], [-99.923210442, 34.574552625], [-100.000392348, 34.5605582], [-100.00043124, 36.499925405], [-103.002461493, 36.500439048]]]]}\",\"{\\\"type\\\": \\\"MultiPolygon\\\", \\\"coordinates\\\": [[[[-94.485849738, 33.638024479], [-94.431219846, 35.394376516], [-94.617855996, 36.499511003], [-90.152584165, 36.497936547], [-90.063980073, 36.303037852], [-90.377889723, 35.995683521], [-89.733094722, 36.000608057], [-89.642910808, 35.891967863], [-89.744405597, 35.908039659], [-89.708016068, 35.815927237], [-89.956254512, 35.733386278], [-89.931036383, 35.660043955], [-89.851176292, 35.657431483], [-89.95674938, 35.590510368], [-89.909022152, 35.520547628], [-90.028620511, 35.555248708], [-90.00263527, 35.429950655], [-90.061999261, 35.39875254], [-90.098718703, 35.478595197], [-90.170599222, 35.418351442], [-90.080658048, 35.385790765], [-90.168794096, 35.279088467], [-90.065392256, 35.137690455], [-90.309297591, 34.995694309], [-90.244476646, 34.937596321], [-90.307383835, 34.846194685], [-90.466154516, 34.890988916], [-90.454968363, 34.735557586], [-90.547611862, 34.784588367], [-90.565645695, 34.721053541], [-90.462552309, 34.687575549], [-90.524480492, 34.628503919], [-90.58841899, 34.670963287], [-90.571145564, 34.420318902], [-90.669342577, 34.313019812], [-90.765763968, 34.362109601], [-90.743081868, 34.302257448], [-90.847807378, 34.206529409], [-90.929015279, 34.244540334], [-90.810884088, 34.155902714], [-90.954300463, 34.138497859], [-90.87052837, 34.080516547], [-90.987947434, 34.019037634], [-90.967632383, 33.96332413], [-91.087921411, 33.975335062], [-91.010318398, 33.929352611], [-91.073011011, 33.857449293], [-90.988466442, 33.784529418], [-91.146617532, 33.732455671], [-91.034565568, 33.673017919], [-91.22785762, 33.683073521], [-91.130445153, 33.606033772], [-91.231418252, 33.560593128], [-91.185203791, 33.500735611], [-91.235181391, 33.438972384], [-91.125108898, 33.472841978], [-91.208702624, 33.408718407], [-91.166303605, 33.379708976], [-91.057620496, 33.445341289], [-91.142218709, 33.348989636], [-91.106141657, 33.241799176], [-91.043623388, 33.27463612], [-91.089861989, 33.139655292], [-91.201779842, 33.125120401], [-91.121195555, 33.059166223], [-91.166072935, 33.004105836], [-94.042964727, 33.019213378], [-94.043423384, 33.552223295], [-94.388095289, 33.54776144], [-94.485849738, 33.638024479]]]]}\",\"{\\\"type\\\": \\\"MultiPolygon\\\", \\\"coordinates\\\": [[[[-104.053214192, 41.001679301], [-104.053179324, 43.001271486], [-98.498549759, 42.998559773], [-98.035034537, 42.764204443], [-97.845269591, 42.867733687], [-97.241264284, 42.852915823], [-96.69662565, 42.652435452], [-96.617403924, 42.50783354], [-96.440205127, 42.49000892], [-96.381609589, 42.464544028], [-96.418168098, 42.354678065], [-96.328905523, 42.254733592], [-96.347752064, 42.166805416], [-96.240713149, 41.999351084], [-96.12950474, 41.971673369], [-96.161755621, 41.9018206], [-96.064879596, 41.796230078], [-96.121400446, 41.688521951], [-96.094090194, 41.539265066], [-96.005078405, 41.54400453], [-96.011757106, 41.476211697], [-95.920280367, 41.451566219], [-95.957136601, 41.345901936], [-95.872268826, 41.303069741], [-95.928038657, 41.298472434], [-95.927975625, 41.200068891], [-95.842187852, 41.177421659], [-95.882415622, 41.060411632], [-95.809474289, 40.891228616], [-95.888906568, 40.731854439], [-95.766522735, 40.585193932], [-95.774144232, 40.573488772], [-95.75302586, 40.524999797], [-95.662296116, 40.556382984], [-95.656628609, 40.310891122], [-95.477435589, 40.242581964], [-95.393281281, 40.118686706], [-95.415329039, 40.040511042], [-95.30805409, 40.000000298], [-102.051756531, 40.00306204], [-102.051578164, 41.002360582], [-104.053214192, 41.001679301]]]]}\",\"{\\\"type\\\": \\\"MultiPolygon\\\", \\\"coordinates\\\": [[[[-96.453307718, 43.500386328], [-91.217705458, 43.500549942], [-91.206619889, 43.352524191], [-91.057918221, 43.255366534], [-91.178251505, 43.124981672], [-91.06468007, 42.750914097], [-90.709204227, 42.636078], [-90.641045272, 42.507989109], [-90.419026762, 42.328505069], [-90.391107649, 42.225473374], [-90.162894577, 42.116717845], [-90.18095389, 41.809354126], [-90.310708433, 41.742214411], [-90.343227535, 41.587833166], [-90.461432487, 41.523533911], [-91.045889854, 41.414085031], [-91.113647819, 41.241400391], [-90.946626663, 41.096632183], [-90.95223248, 40.954047292], [-91.092993468, 40.821079463], [-91.123927385, 40.669152439], [-91.401482373, 40.559458137], [-91.372553408, 40.401199758], [-91.420409381, 40.378013402], [-91.72925368, 40.613634735], [-95.766522735, 40.585193932], [-95.888906568, 40.731854439], [-95.809474289, 40.891228616], [-95.882415622, 41.060411632], [-95.842187852, 41.177421659], [-95.927975625, 41.200068891], [-95.928038657, 41.298472434], [-95.872268826, 41.303069741], [-95.957136601, 41.345901936], [-95.920280367, 41.451566219], [-96.011757106, 41.476211697], [-96.005078405, 41.54400453], [-96.094090194, 41.539265066], [-96.121400446, 41.688521951], [-96.064879596, 41.796230078], [-96.161755621, 41.9018206], [-96.12950474, 41.971673369], [-96.240713149, 41.999351084], [-96.347752064, 42.166805416], [-96.328905523, 42.254733592], [-96.418168098, 42.354678065], [-96.381609589, 42.464544028], [-96.440205127, 42.49000892], [-96.63971588, 42.737030983], [-96.436340064, 43.120498359], [-96.585098058, 43.268474489], [-96.521518975, 43.385315537], [-96.599423736, 43.500494957], [-96.453307718, 43.500386328]]]]}\",\"{\\\"type\\\": \\\"MultiPolygon\\\", \\\"coordinates\\\": [[[[-104.053179324, 43.001271486], [-104.057756513, 44.997541755], [-104.045442492, 45.945309699], [-96.561367214, 45.935035497], [-96.583250016, 45.819072872], [-96.857515275, 45.605857372], [-96.692540646, 45.417338312], [-96.45306766, 45.298115462], [-96.453307718, 43.500386328], [-96.599423736, 43.500494957], [-96.521518975, 43.385315537], [-96.585098058, 43.268474489], [-96.436340064, 43.120498359], [-96.63971588, 42.737030983], [-96.440205127, 42.49000892], [-96.617403924, 42.50783354], [-96.69662565, 42.652435452], [-97.241264284, 42.852915823], [-97.845269591, 42.867733687], [-98.035034537, 42.764204443], [-98.498549759, 42.998559773], [-104.053179324, 43.001271486]]]]}\",\"{\\\"type\\\": \\\"MultiPolygon\\\", \\\"coordinates\\\": [[[[-104.048736244, 48.99987638], [-101.361990273, 48.999472708], [-97.228821516, 49.000461102], [-97.090266645, 48.684542477], [-97.175432146, 48.562350422], [-97.127023637, 48.52038458], [-97.142132521, 48.144981265], [-96.851049811, 47.598526776], [-96.839327216, 47.006950825], [-96.752848774, 46.924014241], [-96.798195541, 46.629573405], [-96.599378139, 46.329984069], [-96.561367214, 45.935035497], [-104.045442492, 45.945309699], [-104.048736244, 48.99987638]]]]}\",\"{\\\"type\\\": \\\"MultiPolygon\\\", \\\"coordinates\\\": [[[[-89.4851996, 36.497453749], [-89.53912273, 36.498102844], [-89.528270513, 36.580993831], [-89.4851996, 36.497453749]]], [[[-89.23654139, 36.566823721], [-89.159080535, 36.666352451], [-89.201046377, 36.725771427], [-89.116563499, 36.767557561], [-89.179229289, 36.812915057], [-89.133012146, 36.982000172], [-89.175724983, 37.062069476], [-88.983260393, 37.228685617], [-88.460188061, 37.07447201], [-88.424617946, 37.151726335], [-88.515940458, 37.284192592], [-88.476592451, 37.3868756], [-88.072244078, 37.481963933], [-88.160187006, 37.657592297], [-88.025017083, 37.799896896], [-87.906809449, 37.80762434], [-87.895003706, 37.928528935], [-87.76563406, 37.866623551], [-87.675730437, 37.901929468], [-87.675538659, 37.831732035], [-87.61539951, 37.831973433], [-87.587952465, 37.976173013], [-87.111133486, 37.782512158], [-87.033444643, 37.906592488], [-86.817335039, 37.999099195], [-86.638265401, 37.842718363], [-86.5066199, 37.930718958], [-86.462933421, 38.119425774], [-86.323453188, 38.13903138], [-86.361063123, 38.196728379], [-86.261272877, 38.052720577], [-86.039704978, 37.959232181], [-85.925004333, 38.022591323], [-85.829193145, 38.276550919], [-85.679507107, 38.297855705], [-85.606765598, 38.438685089], [-85.419568866, 38.535027355], [-85.436091274, 38.728496432], [-85.172982663, 38.688068837], [-84.813502282, 38.785398155], [-84.785178155, 38.88001442], [-84.877023697, 38.909009099], [-84.830031395, 38.973046839], [-84.897387028, 39.055475146], [-84.819934219, 39.105440676], [-84.452824295, 39.119255394], [-84.307160228, 39.007299989], [-84.21290338, 38.805706501], [-83.873168081, 38.76241833], [-83.668632209, 38.626407534], [-83.520617187, 38.70295912], [-83.298787773, 38.597284108], [-83.153316826, 38.618900031], [-82.886093706, 38.755200505], [-82.844306231, 38.590861559], [-82.593420446, 38.421862274], [-82.574655712, 38.263873458], [-82.644739151, 38.165487349], [-82.46425733, 37.983412296], [-82.502167672, 37.933119535], [-82.311642319, 37.764294595], [-82.303952426, 37.675760239], [-82.17526406, 37.647971213], [-82.133299559, 37.552995533], [-81.967705339, 37.537783384], [-82.34873727, 37.267939746], [-82.722096741, 37.120167464], [-82.878568769, 36.889584661], [-83.072590381, 36.854588538], [-83.136394769, 36.743087769], [-83.675367236, 36.600771099], [-88.070531487, 36.678117961], [-88.053322434, 36.497118473], [-89.417292774, 36.49903357], [-89.365547597, 36.625058502], [-89.23654139, 36.566823721]]]]}\",\"{\\\"type\\\": \\\"MultiPolygon\\\", \\\"coordinates\\\": [[[[-84.819934219, 39.105440676], [-84.897387028, 39.055475146], [-84.830031395, 38.973046839], [-84.877023697, 38.909009099], [-84.785178155, 38.88001442], [-84.813502282, 38.785398155], [-85.172982663, 38.688068837], [-85.436091274, 38.728496432], [-85.419568866, 38.535027355], [-85.606765598, 38.438685089], [-85.679507107, 38.297855705], [-85.829193145, 38.276550919], [-85.925004333, 38.022591323], [-86.039704978, 37.959232181], [-86.261272877, 38.052720577], [-86.361063123, 38.196728379], [-86.323453188, 38.13903138], [-86.462933421, 38.119425774], [-86.5066199, 37.930718958], [-86.638265401, 37.842718363], [-86.817335039, 37.999099195], [-87.033444643, 37.906592488], [-87.111133486, 37.782512158], [-87.587952465, 37.976173013], [-87.61539951, 37.831973433], [-87.675538659, 37.831732035], [-87.675730437, 37.901929468], [-87.76563406, 37.866623551], [-87.895003706, 37.928528935], [-87.906809449, 37.80762434], [-88.025017083, 37.799896896], [-88.099701852, 37.90440917], [-88.014214486, 37.885648459], [-88.068840355, 37.924885154], [-88.010994494, 37.973186374], [-88.042580187, 38.043110222], [-87.914986163, 38.160290569], [-87.98638925, 38.259089738], [-87.843147218, 38.279324323], [-87.497077882, 38.743126541], [-87.553384155, 38.863344491], [-87.512186766, 38.954417557], [-87.645990103, 39.144899994], [-87.531375289, 39.347705841], [-87.523328662, 41.760350168], [-87.207773477, 41.760956347], [-84.805883467, 41.760216057], [-84.805980027, 41.696127355], [-84.819934219, 39.105440676]]]]}\",\"{\\\"type\\\": \\\"MultiPolygon\\\", \\\"coordinates\\\": [[[[-90.309297591, 34.995694309], [-90.065392256, 35.137690455], [-90.168794096, 35.279088467], [-90.080658048, 35.385790765], [-90.170599222, 35.418351442], [-90.098718703, 35.478595197], [-90.061999261, 35.39875254], [-90.00263527, 35.429950655], [-90.028620511, 35.555248708], [-89.909022152, 35.520547628], [-89.95674938, 35.590510368], [-89.851176292, 35.657431483], [-89.931036383, 35.660043955], [-89.956254512, 35.733386278], [-89.708016068, 35.815927237], [-89.744405597, 35.908039659], [-89.642910808, 35.891967863], [-89.733094722, 36.000608057], [-89.592101723, 36.135637164], [-89.698567986, 36.250591278], [-89.534745365, 36.252576113], [-89.62025553, 36.323005557], [-89.513177723, 36.35989666], [-89.53912273, 36.498102844], [-89.4851996, 36.497453749], [-89.417292774, 36.49903357], [-88.053322434, 36.497118473], [-88.070531487, 36.678117961], [-83.675367236, 36.600771099], [-81.677456796, 36.58815667], [-81.707438529, 36.335170716], [-81.9081375, 36.302013248], [-82.033852637, 36.120528281], [-82.355157137, 36.115609109], [-82.557991147, 35.953879952], [-82.637231648, 36.065825969], [-82.80508697, 35.927143693], [-82.919834554, 35.928896517], [-82.992116064, 35.773921162], [-83.159586489, 35.764659494], [-83.498409837, 35.562938601], [-83.880275935, 35.518820286], [-84.023418725, 35.411617756], [-84.052546173, 35.270192921], [-84.29022342, 35.22543624], [-84.32182923, 34.988408089], [-85.605242103, 34.984610081], [-88.200023174, 34.995604455], [-90.309297591, 34.995694309]]]]}\",\"{\\\"type\\\": \\\"MultiPolygon\\\", \\\"coordinates\\\": [[[[-89.32684198, 30.302531272], [-89.463289976, 30.174465179], [-89.528611153, 30.189819485], [-89.616145045, 30.224249661], [-89.683409482, 30.451793522], [-89.852172732, 30.661809146], [-89.730746448, 31.004669219], [-91.637457758, 30.999304801], [-91.559907049, 31.054118425], [-91.654027104, 31.255753487], [-91.51561439, 31.278210282], [-91.576264501, 31.410498172], [-91.478747427, 31.359860748], [-91.522216648, 31.521990895], [-91.405414492, 31.57646656], [-91.515461504, 31.630372256], [-91.401015669, 31.620364934], [-91.369269043, 31.746706367], [-91.259238124, 31.760436594], [-91.365480423, 31.760641783], [-91.34301424, 31.846861392], [-91.256966293, 31.811711043], [-91.185619533, 31.963829845], [-91.081988364, 32.006204724], [-91.160310209, 32.070353776], [-91.07999146, 32.048000246], [-91.002829671, 32.161783576], [-91.162822098, 32.132693678], [-91.164171249, 32.196888328], [-91.039007306, 32.242349088], [-90.995233655, 32.192797959], [-90.979474336, 32.293702662], [-90.901239663, 32.323386669], [-91.003505588, 32.362144589], [-90.978547633, 32.447032481], [-91.116008162, 32.483140379], [-91.093740463, 32.549128085], [-90.987830758, 32.494189739], [-91.080397815, 32.556442469], [-91.014285386, 32.640481442], [-91.151318103, 32.615919113], [-91.052968204, 32.718643695], [-91.163624078, 32.778186053], [-91.063683629, 32.906363457], [-91.106581539, 32.988937944], [-91.145076603, 32.905494422], [-91.208262742, 32.915354222], [-91.166072935, 33.004105836], [-91.121195555, 33.059166223], [-91.201779842, 33.125120401], [-91.089861989, 33.139655292], [-91.043623388, 33.27463612], [-91.106141657, 33.241799176], [-91.142218709, 33.348989636], [-91.057620496, 33.445341289], [-91.166303605, 33.379708976], [-91.208702624, 33.408718407], [-91.125108898, 33.472841978], [-91.235181391, 33.438972384], [-91.185203791, 33.500735611], [-91.231418252, 33.560593128], [-91.130445153, 33.606033772], [-91.22785762, 33.683073521], [-91.034565568, 33.673017919], [-91.146617532, 33.732455671], [-90.988466442, 33.784529418], [-91.073011011, 33.857449293], [-91.010318398, 33.929352611], [-91.087921411, 33.975335062], [-90.967632383, 33.96332413], [-90.987947434, 34.019037634], [-90.87052837, 34.080516547], [-90.954300463, 34.138497859], [-90.810884088, 34.155902714], [-90.929015279, 34.244540334], [-90.847807378, 34.206529409], [-90.743081868, 34.302257448], [-90.765763968, 34.362109601], [-90.669342577, 34.313019812], [-90.571145564, 34.420318902], [-90.58841899, 34.670963287], [-90.524480492, 34.628503919], [-90.462552309, 34.687575549], [-90.565645695, 34.721053541], [-90.547611862, 34.784588367], [-90.454968363, 34.735557586], [-90.466154516, 34.890988916], [-90.307383835, 34.846194685], [-90.244476646, 34.937596321], [-90.309297591, 34.995694309], [-88.200023174, 34.995604455], [-88.097794801, 34.892122149], [-88.473101556, 31.893939525], [-88.395836502, 30.384795964], [-88.480944335, 30.318523943], [-88.610838354, 30.377261639], [-88.729719222, 30.343125165], [-88.966166675, 30.461363643], [-89.043184966, 30.426139534], [-88.856743276, 30.390560031], [-88.877500507, 30.386319026], [-89.28419888, 30.303224623], [-89.242926389, 30.347570926], [-89.350189269, 30.37135005], [-89.32684198, 30.302531272]]], [[[-89.066544324, 30.249526799], [-89.101409018, 30.221399814], [-89.151641428, 30.229958743], [-89.066544324, 30.249526799]]], [[[-88.580719829, 30.227043182], [-88.77848044, 30.242090374], [-88.711646497, 30.251006037], [-88.580719829, 30.227043182]]]]}\",\"{\\\"type\\\": \\\"MultiPolygon\\\", \\\"coordinates\\\": [[[[-85.605242103, 34.984610081], [-85.184085667, 32.862707824], [-84.96303007, 32.424244434], [-85.005290955, 32.325855643], [-84.88841638, 32.260884494], [-85.061143935, 32.134065628], [-85.140730441, 31.857461482], [-85.041304976, 31.540987641], [-85.107516646, 31.186450571], [-85.001656562, 31.000696868], [-87.598828822, 30.997455418], [-87.634743601, 30.865610093], [-87.406075895, 30.674638152], [-87.450371236, 30.514461994], [-87.388964742, 30.450668335], [-87.539708912, 30.306267589], [-87.60425359, 30.360721797], [-87.609796375, 30.302556753], [-87.751187682, 30.282507241], [-87.707018405, 30.334786177], [-87.753849775, 30.291099697], [-87.825019509, 30.414018631], [-87.906427234, 30.41019246], [-87.913494855, 30.651769638], [-88.011820614, 30.685297251], [-88.086363226, 30.52508086], [-88.143183142, 30.533502996], [-88.093534112, 30.521056205], [-88.128058165, 30.338653922], [-88.395836502, 30.384795964], [-88.473101556, 31.893939525], [-88.097794801, 34.892122149], [-88.200023174, 34.995604455], [-85.605242103, 34.984610081]]], [[[-88.027172238, 30.224967152], [-87.936872989, 30.260506421], [-87.514725477, 30.308111608], [-88.027172238, 30.224967152]]], [[[-87.456230521, 30.305736512], [-87.518255264, 30.279979259], [-87.509202808, 30.286252946], [-87.456230521, 30.305736512]]]]}\",\"{\\\"type\\\": \\\"MultiPolygon\\\", \\\"coordinates\\\": [[[[-81.49959147, 30.943642259], [-81.515755802, 30.848426521], [-81.601021886, 30.855051577], [-81.494534165, 30.77856034], [-81.572892219, 30.721949637], [-81.901729703, 30.829801261], [-82.02252835, 30.788169354], [-82.03720808, 30.371941477], [-82.161776572, 30.357111543], [-82.21470058, 30.568480343], [-84.864611775, 30.71159631], [-85.001656562, 31.000696868], [-85.107516646, 31.186450571], [-85.041304976, 31.540987641], [-85.140730441, 31.857461482], [-85.061143935, 32.134065628], [-84.88841638, 32.260884494], [-85.005290955, 32.325855643], [-84.96303007, 32.424244434], [-85.184085667, 32.862707824], [-85.605242103, 34.984610081], [-84.32182923, 34.988408089], [-83.108569533, 35.001361817], [-83.111965209, 34.934908748], [-83.306010962, 34.816326946], [-83.342002183, 34.68029201], [-83.03921029, 34.486388415], [-82.876610756, 34.475074857], [-82.556835115, 33.945353329], [-81.928711385, 33.464853019], [-81.939983368, 33.345049471], [-81.751638651, 33.147870898], [-81.491957903, 33.009098768], [-81.418663859, 32.629398555], [-81.1872603, 32.464225441], [-81.11722514, 32.11760357], [-80.849422663, 32.034107745], [-81.137567014, 31.720619202], [-81.267627329, 31.382485181], [-81.324750334, 31.423850209], [-81.271289885, 31.256263107], [-81.471626759, 31.098860353], [-81.407343596, 31.11876905], [-81.420930326, 31.01768598], [-81.603563399, 30.981382528], [-81.49959147, 30.943642259]], [[-81.67970717, 30.952178389], [-81.641322076, 30.995088369], [-81.604924582, 30.981876618], [-81.672695875, 31.041859388], [-81.67970717, 30.952178389]], [[-81.604219079, 30.981252193], [-81.603563399, 30.981382528], [-81.604924582, 30.981876618], [-81.604219079, 30.981252193]]], [[[-81.450878531, 30.713652223], [-81.466024965, 30.857442766], [-81.403813809, 30.950146616], [-81.450878531, 30.713652223]]]]}\",\"{\\\"type\\\": \\\"MultiPolygon\\\", \\\"coordinates\\\": [[[[-109.045182019, 36.998981237], [-109.05002743, 41.000689566], [-104.053214192, 41.001679301], [-102.051578164, 41.002360582], [-102.051756531, 40.00306204], [-102.042127401, 36.993127316], [-103.002441376, 37.000086308], [-109.045182019, 36.998981237]]]]}\",\"{\\\"type\\\": \\\"MultiPolygon\\\", \\\"coordinates\\\": [[[[-111.053150743, 44.478076994], [-111.055267006, 44.840352237], [-111.054585725, 45.000937432], [-104.057756513, 44.997541755], [-104.053179324, 43.001271486], [-104.053214192, 41.001679301], [-109.05002743, 41.000689566], [-111.04680866, 40.997870564], [-111.046679914, 42.001672536], [-111.053150743, 44.478076994]]]]}\",\"{\\\"type\\\": \\\"MultiPolygon\\\", \\\"coordinates\\\": [[[[-114.050051272, 37.000190914], [-114.052882344, 37.549260557], [-114.04150039, 41.993802935], [-111.046679914, 42.001672536], [-111.04680866, 40.997870564], [-109.05002743, 41.000689566], [-109.045182019, 36.998981237], [-114.050051272, 37.000190914]]]]}\",\"{\\\"type\\\": \\\"MultiPolygon\\\", \\\"coordinates\\\": [[[[-109.0500395, 31.332408339], [-109.050223231, 31.484944224], [-109.045182019, 36.998981237], [-103.002441376, 37.000086308], [-103.002461493, 36.500439048], [-103.064631075, 32.000391036], [-106.618739069, 32.000660598], [-106.635750979, 31.866302043], [-106.527981162, 31.78384155], [-108.208394498, 31.783626974], [-108.208487034, 31.333416849], [-108.756412715, 31.332522333], [-109.0500395, 31.332408339]]]]}\",\"{\\\"type\\\": \\\"MultiPolygon\\\", \\\"coordinates\\\": [[[[-114.818357974, 32.499082088], [-114.719961137, 32.718655765], [-114.539008588, 32.749860585], [-114.469154477, 32.844391018], [-114.509588778, 33.022000194], [-114.706819654, 33.088846207], [-114.672287554, 33.25971365], [-114.731474519, 33.30327943], [-114.72538054, 33.405411243], [-114.524175972, 33.552963585], [-114.534388483, 33.93816635], [-114.416719973, 34.107010067], [-114.13078174, 34.261938483], [-114.385775328, 34.456904233], [-114.469869286, 34.710430652], [-114.633581936, 34.871618003], [-114.632961005, 35.001888871], [-114.645979106, 35.103406459], [-114.569734633, 35.185522288], [-114.678812027, 35.497923195], [-114.7114411, 35.806756765], [-114.662209153, 35.872348845], [-114.755618423, 36.087165624], [-114.405474812, 36.147370487], [-114.252650589, 36.020193547], [-114.148190618, 36.028013527], [-114.046654254, 36.1940597], [-114.050051272, 37.000190914], [-109.045182019, 36.998981237], [-109.050223231, 31.484944224], [-109.0500395, 31.332408339], [-111.074824333, 31.33223936], [-114.81358096, 32.494077086], [-114.818357974, 32.499082088]]]]}\",\"{\\\"type\\\": \\\"MultiPolygon\\\", \\\"coordinates\\\": [[[[-87.509202808, 30.286252946], [-87.311753333, 30.326134712], [-87.518255264, 30.279979259], [-87.509202808, 30.286252946]]], [[[-87.301349044, 30.33050403], [-86.510488987, 30.381066352], [-87.18794927, 30.323988944], [-87.301349044, 30.33050403]]], [[[-85.717536807, 30.137887895], [-85.789032429, 30.170350671], [-85.734795481, 30.12055546], [-86.088096052, 30.303114653], [-86.515818536, 30.396717042], [-86.103892922, 30.384120047], [-86.192659289, 30.508152097], [-86.421196908, 30.451230258], [-86.417950094, 30.50791204], [-86.500010937, 30.522409379], [-86.492424309, 30.461765975], [-86.609867513, 30.46625331], [-86.60218969, 30.401388109], [-87.18363896, 30.343189538], [-86.862624139, 30.440490693], [-87.020139545, 30.504981726], [-87.025839239, 30.626119673], [-87.067939192, 30.448037088], [-87.182271034, 30.582236052], [-87.148578465, 30.490523279], [-87.266268432, 30.344117582], [-87.498106509, 30.31304419], [-87.343183458, 30.426319242], [-87.388964742, 30.450668335], [-87.450371236, 30.514461994], [-87.406075895, 30.674638152], [-87.634743601, 30.865610093], [-87.598828822, 30.997455418], [-85.001656562, 31.000696868], [-84.864611775, 30.71159631], [-82.21470058, 30.568480343], [-82.161776572, 30.357111543], [-82.03720808, 30.371941477], [-82.02252835, 30.788169354], [-81.901729703, 30.829801261], [-81.572892219, 30.721949637], [-81.562725306, 30.71231246], [-81.562060118, 30.711876601], [-81.49930045, 30.721194595], [-81.58448875, 30.705665946], [-81.525382251, 30.625269413], [-81.483531743, 30.673522353], [-81.495738477, 30.565242916], [-81.65994063, 30.563498139], [-81.533422172, 30.500242263], [-81.508841451, 30.537035033], [-81.517976671, 30.558199435], [-81.46235168, 30.522760749], [-81.461384351, 30.492892487], [-81.458250582, 30.396130979], [-81.526047438, 30.452207923], [-81.556439342, 30.39128696], [-81.376189739, 30.396409929], [-81.169638187, 29.56827119], [-80.526020676, 28.460779041], [-80.604372025, 28.351908177], [-80.574525744, 28.121214062], [-80.032598823, 26.802547574], [-80.057334155, 26.84286654], [-80.09713374, 26.212677435], [-80.104565173, 26.095007658], [-80.106769949, 26.153927743], [-80.168297142, 26.097913831], [-80.114265382, 26.086173803], [-80.128305405, 25.913306773], [-80.306048691, 25.614518076], [-80.305632949, 25.38535282], [-80.429478586, 25.258457512], [-80.394597432, 25.18927131], [-80.366224051, 25.28468281], [-80.256508291, 25.333100706], [-80.403498072, 25.159341024], [-80.395075357, 25.187664186], [-80.443092138, 25.244468451], [-80.673609227, 25.138442069], [-80.805874318, 25.183500499], [-81.089126319, 25.116797984], [-81.171901971, 25.22569567], [-81.145401746, 25.327005386], [-81.047187299, 25.235711038], [-81.005229503, 25.27330488], [-81.018004864, 25.212122351], [-80.962680473, 25.222543332], [-80.847626925, 25.244214982], [-80.957192481, 25.297475606], [-80.903801769, 25.353364795], [-80.965091586, 25.303532034], [-80.940868556, 25.375134945], [-81.039437056, 25.372503698], [-80.923204869, 25.442009121], [-81.091720015, 25.350254774], [-81.152810007, 25.42491138], [-81.058822721, 25.43843776], [-81.168384254, 25.459798872], [-81.051958948, 25.482832342], [-81.209530681, 25.50619036], [-81.134583056, 25.576300621], [-81.1118339, 25.515555292], [-81.034157007, 25.549383701], [-80.998128355, 25.565074235], [-81.107872277, 25.575533509], [-81.152336597, 25.652326494], [-81.164195985, 25.557365566], [-81.225932389, 25.55745542], [-81.288140863, 25.726505667], [-81.207906604, 25.712021738], [-81.236136854, 25.654709637], [-81.181246787, 25.726140887], [-81.252779961, 25.80911234], [-81.311005354, 25.794629753], [-81.299934536, 25.693157762], [-81.37668997, 25.767653435], [-81.287926286, 25.858259797], [-81.350614876, 25.82106024], [-81.543122381, 25.929449648], [-81.577647775, 25.890725255], [-81.626474025, 25.985023688], [-81.625703573, 25.986717492], [-81.652650386, 25.934710801], [-81.658508514, 25.940140833], [-81.6899921, 25.904932916], [-81.749600172, 25.968216956], [-81.664064822, 25.945291103], [-81.775562396, 26.048640759], [-81.779095083, 26.051915288], [-81.780678385, 26.060142447], [-81.868472993, 26.51634112], [-81.884399951, 26.438595951], [-82.013485283, 26.487299502], [-81.956122944, 26.539607859], [-82.034999281, 26.52902931], [-82.082420737, 26.685070843], [-82.026732713, 26.87879473], [-82.096931487, 26.914218664], [-81.98789835, 26.995069832], [-82.156265974, 26.953455359], [-82.1641168, 27.006414235], [-82.157676816, 26.942675561], [-82.274967134, 27.021885216], [-82.1479927, 26.790268421], [-82.270002365, 26.827742904], [-82.417116009, 27.024650125], [-82.340937406, 26.89772442], [-82.444788516, 27.059525996], [-82.469632477, 27.112150937], [-82.444627305, 27.070488333], [-82.574831396, 27.416388541], [-82.692135125, 27.473589331], [-82.420195341, 27.518323213], [-82.604127824, 27.516721934], [-82.542669028, 27.574637532], [-82.620383352, 27.586112022], [-82.429159284, 27.717290819], [-82.481482476, 27.743243873], [-82.382633686, 27.820901871], [-82.410248369, 27.952016294], [-82.490505427, 27.918786407], [-82.472687513, 27.82239452], [-82.533871382, 27.832876593], [-82.540174574, 27.968932986], [-82.696606368, 28.036578298], [-82.729636431, 27.934243977], [-82.582587004, 27.879235893], [-82.679308802, 27.694374025], [-82.791770548, 27.811721696], [-82.7840437, 27.782962024], [-82.803256331, 27.823706483], [-82.848747969, 27.871174514], [-82.83577472, 27.892668619], [-82.84311533, 27.908235937], [-82.833083868, 27.965491712], [-82.820373916, 27.918184704], [-82.783763409, 27.978841066], [-82.800798118, 28.170564026], [-82.711687088, 28.181834668], [-82.79914856, 28.185123056], [-82.651436627, 28.470083624], [-82.628008872, 28.907138854], [-82.776172757, 28.943084478], [-82.698294818, 28.958971202], [-82.794505656, 29.177903831], [-83.067223281, 29.187160134], [-83.067704737, 29.291413575], [-83.163742572, 29.308955222], [-83.169073462, 29.400822222], [-83.400675505, 29.517619014], [-83.414420485, 29.664009959], [-83.359051645, 29.683599472], [-83.548560441, 29.728294462], [-83.677576035, 29.925397933], [-83.977681696, 30.121243447], [-84.166452885, 30.07142812], [-84.274118096, 30.114716291], [-84.384226799, 30.037547797], [-84.34164539, 29.970172048], [-84.440605491, 29.991372228], [-84.348025024, 29.897198528], [-84.51218158, 29.917076379], [-84.887744486, 29.722685963], [-85.349182338, 29.665969312], [-85.384816049, 29.750798454], [-85.30892238, 29.687705934], [-85.362390876, 29.896384478], [-85.731040388, 30.117993951], [-85.596484691, 30.057085007], [-85.68694219, 30.122899711], [-85.622705966, 30.125572532], [-85.473073572, 30.004423857], [-85.392045379, 30.051433593], [-85.419240296, 30.096685141], [-85.479732156, 30.031122565], [-85.538716614, 30.128706694], [-85.729297739, 30.175304797], [-85.717536807, 30.137887895]], [[-85.732999742, 30.176209956], [-85.729297739, 30.175304797], [-85.730341974, 30.178626984], [-85.732999742, 30.176209956]], [[-81.479871869, 30.469918549], [-81.504165977, 30.544033349], [-81.508841451, 30.537035033], [-81.479871869, 30.469918549]], [[-81.573946649, 30.390789375], [-81.558439136, 30.387278348], [-81.556439342, 30.39128696], [-81.573946649, 30.390789375]], [[-81.696702987, 30.41858241], [-81.632528798, 30.369150865], [-81.620048136, 30.389479101], [-81.573946649, 30.390789375], [-81.696702987, 30.41858241]], [[-81.654055035, 30.334089391], [-81.619480848, 30.359100401], [-81.632528798, 30.369150865], [-81.654055035, 30.334089391]], [[-81.71477437, 30.290164948], [-81.690901369, 30.192488283], [-81.621823758, 30.217866004], [-81.665921956, 30.314760804], [-81.654055035, 30.334089391], [-81.71477437, 30.290164948]], [[-81.947682649, 26.540739834], [-81.94494955, 26.549796807], [-81.956122944, 26.539607859], [-81.947682649, 26.540739834]], [[-81.775635034, 26.704193652], [-81.906489283, 26.677246839], [-81.94494955, 26.549796807], [-81.775635034, 26.704193652]], [[-85.577465147, 30.317656249], [-85.71993202, 30.234085321], [-85.762027949, 30.314472467], [-85.851326734, 30.283900648], [-85.742184967, 30.216304958], [-85.730341974, 30.178626984], [-85.577465147, 30.317656249]], [[-81.023831964, 25.474213064], [-80.927482992, 25.502653867], [-81.088489294, 25.497950613], [-81.023831964, 25.474213064]]], [[[-85.417476743, 29.828550071], [-85.384132862, 29.878535718], [-85.400428755, 29.787965856], [-85.417476743, 29.828550071]]], [[[-85.404214561, 29.766924977], [-85.400428755, 29.787965856], [-85.384816049, 29.750798454], [-85.404214561, 29.766924977]]], [[[-82.588946521, 27.328288704], [-82.689389884, 27.441972792], [-82.627782226, 27.379868925], [-82.588946521, 27.328288704]]], [[[-82.094623446, 26.491183341], [-82.156845331, 26.70198217], [-82.065459788, 26.611542106], [-82.094623446, 26.491183341]]], [[[-82.115713656, 26.454411596], [-82.182173431, 26.481051296], [-82.013644874, 26.452834457], [-82.115713656, 26.454411596]]], [[[-81.650031209, 25.933234245], [-81.6265136, 25.98510012], [-81.626474025, 25.985023688], [-81.650031209, 25.933234245]]], [[[-81.3716501, 24.708097726], [-81.332522035, 24.639717489], [-81.395916045, 24.74547565], [-81.3716501, 24.708097726]]], [[[-80.981246531, 24.745203406], [-81.028889269, 24.730148166], [-80.92340067, 24.777096212], [-80.981246531, 24.745203406]]], [[[-80.480781198, 25.220223963], [-80.421168696, 25.138452211], [-80.422645095, 25.136706929], [-80.480781198, 25.220223963]]], [[[-80.564676672, 24.968808442], [-80.422645095, 25.136706929], [-80.417249054, 25.128955096], [-80.564676672, 24.968808442]]], [[[-80.413029939, 25.127288103], [-80.421168696, 25.138452211], [-80.403498072, 25.159341024], [-80.413029939, 25.127288103]]]]}\",\"{\\\"type\\\": \\\"MultiPolygon\\\", \\\"coordinates\\\": [[[[-82.593420446, 38.421862274], [-82.844306231, 38.590861559], [-82.886093706, 38.755200505], [-83.153316826, 38.618900031], [-83.298787773, 38.597284108], [-83.520617187, 38.70295912], [-83.668632209, 38.626407534], [-83.873168081, 38.76241833], [-84.21290338, 38.805706501], [-84.307160228, 39.007299989], [-84.452824295, 39.119255394], [-84.819934219, 39.105440676], [-84.805980027, 41.696127355], [-83.415851444, 41.733793616], [-83.112460077, 41.95941031], [-83.069111556, 41.863583028], [-82.679721862, 41.676555276], [-82.397471666, 41.676555276], [-81.245721728, 42.207556218], [-80.521082729, 42.323235869], [-80.518990606, 40.638800561], [-80.667812973, 40.583536327], [-80.601566434, 40.31485945], [-80.869122148, 39.766735286], [-80.879313201, 39.621756524], [-81.217314452, 39.387590289], [-81.37494117, 39.342011511], [-81.455361843, 39.40954417], [-81.569889486, 39.268214554], [-81.684336662, 39.270422012], [-81.746652424, 39.095983207], [-81.813703626, 39.079341441], [-81.763038039, 38.924506903], [-81.904647946, 38.876801133], [-81.932544261, 38.987450302], [-82.037382424, 39.024270326], [-82.221443653, 38.787636459], [-82.177283764, 38.603953421], [-82.290259749, 38.580368757], [-82.330631018, 38.444353938], [-82.593420446, 38.421862274]]]]}\",\"{\\\"type\\\": \\\"MultiPolygon\\\", \\\"coordinates\\\": [[[[-81.967705339, 37.537783384], [-82.133299559, 37.552995533], [-82.17526406, 37.647971213], [-82.303952426, 37.675760239], [-82.311642319, 37.764294595], [-82.502167672, 37.933119535], [-82.46425733, 37.983412296], [-82.644739151, 38.165487349], [-82.574655712, 38.263873458], [-82.593420446, 38.421862274], [-82.330631018, 38.444353938], [-82.290259749, 38.580368757], [-82.177283764, 38.603953421], [-82.221443653, 38.787636459], [-82.037382424, 39.024270326], [-81.932544261, 38.987450302], [-81.904647946, 38.876801133], [-81.763038039, 38.924506903], [-81.813703626, 39.079341441], [-81.746652424, 39.095983207], [-81.684336662, 39.270422012], [-81.569889486, 39.268214554], [-81.455361843, 39.40954417], [-81.37494117, 39.342011511], [-81.217314452, 39.387590289], [-80.879313201, 39.621756524], [-80.869122148, 39.766735286], [-80.601566434, 40.31485945], [-80.667812973, 40.583536327], [-80.518990606, 40.638800561], [-80.51944524, 39.721249044], [-79.476759285, 39.721131027], [-79.473098069, 39.201927781], [-79.103496373, 39.475856423], [-78.956351727, 39.440380186], [-78.775278479, 39.645656347], [-78.689288199, 39.545642138], [-78.47197026, 39.5158723], [-78.39531675, 39.58401382], [-78.430216312, 39.623263925], [-78.266333342, 39.618908018], [-78.176341206, 39.695993364], [-77.946210355, 39.584712535], [-77.833455652, 39.602683336], [-77.88871184, 39.555269927], [-77.765992731, 39.495723546], [-77.803239226, 39.437161535], [-77.719028592, 39.32112515], [-77.828148901, 39.132281542], [-78.347086608, 39.466011375], [-78.403697312, 39.167450666], [-78.869276494, 38.762990981], [-78.998171389, 38.84735316], [-79.282971025, 38.418095112], [-79.476574212, 38.457126617], [-79.649199843, 38.591528088], [-79.789105207, 38.268207908], [-80.306964666, 37.689621896], [-80.220863074, 37.627774179], [-80.328504145, 37.564314455], [-80.299788415, 37.508271039], [-80.464819372, 37.426144481], [-80.511390567, 37.481674254], [-80.77008158, 37.372363508], [-80.859556049, 37.429568321], [-80.900534838, 37.315000445], [-81.225103587, 37.234873474], [-81.362156421, 37.337674499], [-81.678210497, 37.201482654], [-81.925642937, 37.357316315], [-81.967705339, 37.537783384]]]]}\",\"{\\\"type\\\": \\\"MultiPolygon\\\", \\\"coordinates\\\": [[[[-77.038935721, 38.791630268], [-77.119766772, 38.934279531], [-77.041023821, 38.995852321], [-76.90936625, 38.892862201], [-77.038935721, 38.791630268]]]]}\",\"{\\\"type\\\": \\\"MultiPolygon\\\", \\\"coordinates\\\": [[[[-80.521082729, 42.323235869], [-79.761840552, 42.514689267], [-79.761800319, 41.998841465], [-75.359546989, 41.99950397], [-75.258922577, 41.862668395], [-75.071971267, 41.813711375], [-75.074613243, 41.60571143], [-74.983340353, 41.480893493], [-74.738456011, 41.430642307], [-74.695482999, 41.3577573], [-75.131347328, 40.990668833], [-75.050754994, 40.865826756], [-75.204062015, 40.692101419], [-75.1943551, 40.576479435], [-75.067905039, 40.541244596], [-75.058489144, 40.418364555], [-74.722303748, 40.149699748], [-75.254503638, 39.852608889], [-75.422442108, 39.806374311], [-75.632292777, 39.83086288], [-75.788602531, 39.722128808], [-79.476759285, 39.721131027], [-80.51944524, 39.721249044], [-80.518990606, 40.638800561], [-80.521082729, 42.323235869]]]]}\",\"{\\\"type\\\": \\\"MultiPolygon\\\", \\\"coordinates\\\": [[[[-75.788602531, 39.722128808], [-75.632292777, 39.83086288], [-75.422442108, 39.806374311], [-75.611002743, 39.624768645], [-75.588334054, 39.458169937], [-75.405644774, 39.259044081], [-75.454241037, 39.244493097], [-75.403858423, 39.239490777], [-75.403949618, 39.065569639], [-75.30609861, 38.916244358], [-75.088100731, 38.794647753], [-75.062049776, 38.608856499], [-75.077870786, 38.694397509], [-75.184078217, 38.715426028], [-75.097119659, 38.620379269], [-75.285044611, 38.591230363], [-75.059776604, 38.607719243], [-75.050588697, 38.451260626], [-75.693655014, 38.460091799], [-75.788602531, 39.722128808]]]]}\",\"{\\\"type\\\": \\\"MultiPolygon\\\", \\\"coordinates\\\": [[[[-77.520547807, 39.121347517], [-77.457580268, 39.225084633], [-77.564341575, 39.304751605], [-77.719028592, 39.32112515], [-77.803239226, 39.437161535], [-77.765992731, 39.495723546], [-77.88871184, 39.555269927], [-77.833455652, 39.602683336], [-77.946210355, 39.584712535], [-78.176341206, 39.695993364], [-78.266333342, 39.618908018], [-78.430216312, 39.623263925], [-78.39531675, 39.58401382], [-78.47197026, 39.5158723], [-78.689288199, 39.545642138], [-78.775278479, 39.645656347], [-78.956351727, 39.440380186], [-79.103496373, 39.475856423], [-79.473098069, 39.201927781], [-79.476759285, 39.721131027], [-75.788602531, 39.722128808], [-75.693655014, 38.460091799], [-75.050588697, 38.451260626], [-75.19175604, 38.208819777], [-75.16337961, 38.2946679], [-75.275412798, 38.236270845], [-75.377916098, 38.01515758], [-75.648158044, 37.966444641], [-75.758364648, 37.999254763], [-75.848755091, 37.923810929], [-75.868288279, 38.01582545], [-75.776865184, 38.071394116], [-75.863775462, 38.094430268], [-75.758344531, 38.155946732], [-75.932759196, 38.148714155], [-76.332085133, 38.474739343], [-76.16495803, 38.55391413], [-76.202369481, 38.592500389], [-76.275659502, 38.532244563], [-76.288754046, 38.628000766], [-76.046420485, 38.591194153], [-76.176948845, 38.675450385], [-76.085114032, 38.766591847], [-76.201067269, 38.67239669], [-76.298388541, 38.719008118], [-76.261218488, 38.81914705], [-76.340870708, 38.733977526], [-76.254998446, 38.861424029], [-76.199472696, 38.803815544], [-76.177192926, 38.933578134], [-76.203699857, 38.893865347], [-76.246007681, 38.973780423], [-76.201001206, 39.018468621], [-76.112500727, 39.10634324], [-76.22647047, 39.052897543], [-76.272742599, 39.169304073], [-76.185749173, 39.319180548], [-76.005562395, 39.415278733], [-75.980210155, 39.520108849], [-76.171253175, 39.664716125], [-76.083610654, 39.543582201], [-76.13354668, 39.488630444], [-76.059895903, 39.449077249], [-76.397895813, 39.29000482], [-76.477576196, 39.166759998], [-76.394721419, 39.011604935], [-76.50946632, 38.869722784], [-76.541682333, 38.901702762], [-76.551284641, 38.822961152], [-76.489671618, 38.838917613], [-76.566248685, 38.768285662], [-76.505670995, 38.503723294], [-76.380378306, 38.384456187], [-76.422549337, 38.304875046], [-76.321546733, 38.038158864], [-76.450582445, 38.212031722], [-76.464106143, 38.128663301], [-76.492813437, 38.130800139], [-76.530372798, 38.133595884], [-76.555223465, 38.210804611], [-76.685678065, 38.233188987], [-76.626826376, 38.284377605], [-76.71946317, 38.233231902], [-76.728987694, 38.319129646], [-76.775322855, 38.227263987], [-76.841240823, 38.33642453], [-76.789120138, 38.364968598], [-76.931750625, 38.417150974], [-76.833457053, 38.273368478], [-76.924444288, 38.290016949], [-77.023665905, 38.505738974], [-77.091430575, 38.4077847], [-77.244497538, 38.378564715], [-77.263244838, 38.511625081], [-77.136313319, 38.588145822], [-77.207361013, 38.563804775], [-77.191472948, 38.619235307], [-77.046165615, 38.714460433], [-77.038935721, 38.791630268], [-76.90936625, 38.892862201], [-77.041023821, 38.995852321], [-77.119766772, 38.934279531], [-77.520547807, 39.121347517]]], [[[-76.342174262, 38.955513239], [-76.337517912, 38.950547733], [-76.375200301, 38.839078546], [-76.342174262, 38.955513239]]], [[[-76.308138371, 39.037456065], [-76.248365343, 38.97153005], [-76.292888671, 38.902955353], [-76.337517912, 38.950547733], [-76.308138371, 39.037456065]]], [[[-76.040507555, 37.953992486], [-76.040349305, 37.953991145], [-76.037976891, 37.953973711], [-76.044174135, 37.953773886], [-76.040507555, 37.953992486]]], [[[-76.025243104, 37.95371756], [-76.025143787, 37.953714824], [-76.026518494, 37.953713536], [-76.025243104, 37.95371756]]], [[[-76.019361019, 37.953720242], [-76.024610102, 37.953700125], [-76.025143787, 37.953714824], [-76.019361019, 37.953720242]]], [[[-75.252816528, 38.026451021], [-75.090182126, 38.322448879], [-75.24520576, 38.026908338], [-75.252816528, 38.026451021]]]]}\",\"{\\\"type\\\": \\\"MultiPolygon\\\", \\\"coordinates\\\": [[[[-116.049231738, 49.000844657], [-114.068207145, 48.998871893], [-110.005077571, 48.9996095], [-104.048736244, 48.99987638], [-104.045442492, 45.945309699], [-104.057756513, 44.997541755], [-111.054585725, 45.000937432], [-111.055267006, 44.840352237], [-111.053150743, 44.478076994], [-111.384824663, 44.754953384], [-111.516310573, 44.643997103], [-111.468002647, 44.538951069], [-112.286568582, 44.568558633], [-112.386523783, 44.447308034], [-112.78080985, 44.484660476], [-112.854267508, 44.359587729], [-113.004506081, 44.452826679], [-113.131459057, 44.772757888], [-113.341276199, 44.784664214], [-113.455071598, 44.865424186], [-113.498818427, 44.942202419], [-113.44393909, 44.959380627], [-113.452043384, 45.059173554], [-113.691886514, 45.262502432], [-113.76602143, 45.520620793], [-113.834778517, 45.520657003], [-113.806431592, 45.601630211], [-113.935259432, 45.694340765], [-114.330047071, 45.459722579], [-114.456077367, 45.56224063], [-114.564936161, 45.557710379], [-114.495147765, 45.703969896], [-114.56646502, 45.773310363], [-114.387867451, 45.883926004], [-114.527358413, 46.145410538], [-114.444090575, 46.16927281], [-114.470719546, 46.266041547], [-114.32074517, 46.647062749], [-114.60573256, 46.635899395], [-114.665375501, 46.739234179], [-114.7667858, 46.696902215], [-114.787500501, 46.782775819], [-114.89518851, 46.801630408], [-114.925143421, 46.918680668], [-115.319786221, 47.256684601], [-115.759303719, 47.423862666], [-115.629487485, 47.479609698], [-115.755619705, 47.547933608], [-115.687758476, 47.595300078], [-115.72264865, 47.695118487], [-116.049108356, 47.976841629], [-116.049231738, 49.000844657]]]]}\",\"{\\\"type\\\": \\\"MultiPolygon\\\", \\\"coordinates\\\": [[[[-116.917429268, 45.996560007], [-116.982479542, 46.089388579], [-116.921869665, 46.167808324], [-117.062747329, 46.353623718], [-117.032349855, 48.99919644], [-116.049231738, 49.000844657], [-116.049108356, 47.976841629], [-115.72264865, 47.695118487], [-115.687758476, 47.595300078], [-115.755619705, 47.547933608], [-115.629487485, 47.479609698], [-115.759303719, 47.423862666], [-115.319786221, 47.256684601], [-114.925143421, 46.918680668], [-114.89518851, 46.801630408], [-114.787500501, 46.782775819], [-114.7667858, 46.696902215], [-114.665375501, 46.739234179], [-114.60573256, 46.635899395], [-114.32074517, 46.647062749], [-114.470719546, 46.266041547], [-114.444090575, 46.16927281], [-114.527358413, 46.145410538], [-114.387867451, 45.883926004], [-114.56646502, 45.773310363], [-114.495147765, 45.703969896], [-114.564936161, 45.557710379], [-114.456077367, 45.56224063], [-114.330047071, 45.459722579], [-113.935259432, 45.694340765], [-113.806431592, 45.601630211], [-113.834778517, 45.520657003], [-113.76602143, 45.520620793], [-113.691886514, 45.262502432], [-113.452043384, 45.059173554], [-113.44393909, 44.959380627], [-113.498818427, 44.942202419], [-113.455071598, 44.865424186], [-113.341276199, 44.784664214], [-113.131459057, 44.772757888], [-113.004506081, 44.452826679], [-112.854267508, 44.359587729], [-112.78080985, 44.484660476], [-112.386523783, 44.447308034], [-112.286568582, 44.568558633], [-111.468002647, 44.538951069], [-111.516310573, 44.643997103], [-111.384824663, 44.754953384], [-111.053150743, 44.478076994], [-111.046679914, 42.001672536], [-114.04150039, 41.993802935], [-117.02626124, 42.000263035], [-117.026870102, 43.832478672], [-116.935240477, 43.990938216], [-116.977351159, 44.085364044], [-116.893801689, 44.161918312], [-116.97641775, 44.242827147], [-117.198146582, 44.273828119], [-117.242684662, 44.39654991], [-117.062272578, 44.7271429], [-116.851222962, 44.889380336], [-116.848240346, 45.022184551], [-116.463568658, 45.604170263], [-116.547629088, 45.752489716], [-116.782676429, 45.825376064], [-116.917429268, 45.996560007]]]]}\",\"{\\\"type\\\": \\\"MultiPolygon\\\", \\\"coordinates\\\": [[[[-91.217705458, 43.500549942], [-91.244544983, 43.7753959], [-91.432522237, 43.996827006], [-91.871404052, 44.197736531], [-91.97025016, 44.365829229], [-92.232472301, 44.445434511], [-92.336114198, 44.554003626], [-92.548059672, 44.567791522], [-92.80655086, 44.750157595], [-92.762601525, 45.288250297], [-92.646461874, 45.44175446], [-92.770522088, 45.567289889], [-92.883245945, 45.574896634], [-92.869492918, 45.716261119], [-92.707563937, 45.894949883], [-92.294033021, 46.074377596], [-92.292028069, 46.667969227], [-92.207091898, 46.651940346], [-92.116414458, 46.748652756], [-92.020289451, 46.704039574], [-90.662777871, 47.302499413], [-89.95710209, 47.291102707], [-90.418620408, 46.566359103], [-90.216636658, 46.501637399], [-90.120263547, 46.33699134], [-89.091740996, 46.138388515], [-88.670827299, 45.988546908], [-88.514691889, 46.020018607], [-88.102460504, 45.921546668], [-88.130128831, 45.80970794], [-87.78141886, 45.681483597], [-87.833732665, 45.561045706], [-87.792768627, 45.499966443], [-87.88805142, 45.354696661], [-87.6573506, 45.368754119], [-87.741809338, 45.197469592], [-87.659952343, 45.107512325], [-87.44250834, 45.076433569], [-87.40569368, 45.201968998], [-87.10113287, 45.444230139], [-86.754236072, 45.443610549], [-86.249547601, 45.236125588], [-86.686287671, 44.881002456], [-87.013234198, 44.131904393], [-87.147166282, 43.379858583], [-87.019924968, 42.493499815], [-90.641045272, 42.507989109], [-90.709204227, 42.636078], [-91.06468007, 42.750914097], [-91.178251505, 43.124981672], [-91.057918221, 43.255366534], [-91.206619889, 43.352524191], [-91.217705458, 43.500549942]]]]}\",\"{\\\"type\\\": \\\"MultiPolygon\\\", \\\"coordinates\\\": [[[[-96.561367214, 45.935035497], [-96.599378139, 46.329984069], [-96.798195541, 46.629573405], [-96.752848774, 46.924014241], [-96.839327216, 47.006950825], [-96.851049811, 47.598526776], [-97.142132521, 48.144981265], [-97.127023637, 48.52038458], [-97.175432146, 48.562350422], [-97.090266645, 48.684542477], [-97.228821516, 49.000461102], [-95.15319407, 48.998861164], [-95.15338853, 49.384471625], [-94.816277772, 49.321388751], [-94.641278386, 48.741221577], [-93.84436056, 48.63022238], [-93.793361038, 48.51630494], [-93.467389494, 48.546444923], [-93.254666179, 48.642805964], [-92.954777777, 48.631555438], [-92.634889483, 48.54255572], [-92.712695003, 48.462971896], [-92.4564448, 48.414083272], [-92.369916737, 48.220277578], [-92.269583344, 48.248194009], [-92.262555957, 48.354916424], [-92.055222541, 48.359360844], [-91.958361268, 48.23313877], [-91.559110433, 48.108583689], [-91.567500383, 48.043777496], [-91.266777813, 48.078833967], [-90.885749906, 48.245944977], [-90.751583129, 48.090972304], [-90.140833408, 48.112611026], [-89.897194952, 47.987667024], [-89.483385086, 48.013716638], [-89.95710209, 47.291102707], [-90.662777871, 47.302499413], [-92.020289451, 46.704039574], [-92.116414458, 46.748652756], [-92.207091898, 46.651940346], [-92.292028069, 46.667969227], [-92.294033021, 46.074377596], [-92.707563937, 45.894949883], [-92.869492918, 45.716261119], [-92.883245945, 45.574896634], [-92.770522088, 45.567289889], [-92.646461874, 45.44175446], [-92.762601525, 45.288250297], [-92.80655086, 44.750157595], [-92.548059672, 44.567791522], [-92.336114198, 44.554003626], [-92.232472301, 44.445434511], [-91.97025016, 44.365829229], [-91.871404052, 44.197736531], [-91.432522237, 43.996827006], [-91.244544983, 43.7753959], [-91.217705458, 43.500549942], [-96.453307718, 43.500386328], [-96.45306766, 45.298115462], [-96.692540646, 45.417338312], [-96.857515275, 45.605857372], [-96.583250016, 45.819072872], [-96.561367214, 45.935035497]]]]}\",\"{\\\"type\\\": \\\"MultiPolygon\\\", \\\"coordinates\\\": [[[[-114.632961005, 35.001888871], [-117.22693339, 37.016701251], [-120.001014769, 38.999595344], [-120.00572741, 39.223457873], [-119.999442995, 41.994894594], [-117.02626124, 42.000263035], [-114.04150039, 41.993802935], [-114.052882344, 37.549260557], [-114.050051272, 37.000190914], [-114.046654254, 36.1940597], [-114.148190618, 36.028013527], [-114.252650589, 36.020193547], [-114.405474812, 36.147370487], [-114.755618423, 36.087165624], [-114.662209153, 35.872348845], [-114.7114411, 35.806756765], [-114.678812027, 35.497923195], [-114.569734633, 35.185522288], [-114.645979106, 35.103406459], [-114.632961005, 35.001888871]]]]}\",\"{\\\"type\\\": \\\"MultiPolygon\\\", \\\"coordinates\\\": [[[[-122.53422305, 37.89605543], [-122.471694052, 37.836648524], [-122.527970821, 37.815335691], [-122.925814837, 38.029259294], [-122.879942358, 38.038872331], [-122.929006666, 38.09164077], [-122.964354157, 37.989955544], [-123.024026603, 37.994799614], [-122.95027256, 38.152441084], [-122.995208949, 38.240943253], [-122.823794335, 38.072890788], [-122.972536236, 38.232242167], [-122.960761338, 38.316454142], [-123.061668724, 38.299629986], [-123.129524589, 38.45091328], [-123.727866411, 38.918799162], [-123.691301197, 39.050727636], [-123.827702254, 39.349339306], [-123.765536696, 39.559364319], [-123.851828724, 39.832737744], [-124.363126159, 40.260496438], [-124.409690648, 40.438233018], [-124.328017384, 40.615681261], [-124.208974242, 40.616449714], [-124.304219484, 40.640278459], [-124.270306975, 40.684475899], [-124.308360815, 40.648646951], [-124.24432978, 40.764829516], [-124.212835282, 40.674728751], [-124.185377508, 40.797635615], [-124.082925171, 40.831439495], [-124.124857485, 40.912604481], [-124.239403903, 40.769067407], [-124.133565779, 40.951714758], [-124.165522456, 41.12977758], [-124.074343443, 41.286752522], [-124.081979692, 41.546330005], [-124.040677696, 41.521355957], [-124.161033779, 41.737106144], [-124.254354537, 41.770749092], [-124.205288887, 41.946392208], [-124.156789184, 41.896862537], [-124.213352948, 41.998554468], [-119.999442995, 41.994894594], [-120.00572741, 39.223457873], [-120.001014769, 38.999595344], [-117.22693339, 37.016701251], [-114.632961005, 35.001888871], [-114.633581936, 34.871618003], [-114.469869286, 34.710430652], [-114.385775328, 34.456904233], [-114.13078174, 34.261938483], [-114.416719973, 34.107010067], [-114.534388483, 33.93816635], [-114.524175972, 33.552963585], [-114.72538054, 33.405411243], [-114.731474519, 33.30327943], [-114.672287554, 33.25971365], [-114.706819654, 33.088846207], [-114.509588778, 33.022000194], [-114.469154477, 32.844391018], [-114.539008588, 32.749860585], [-114.719961137, 32.718655765], [-117.124258429, 32.534343749], [-117.227865458, 32.6963076], [-117.115164399, 32.599360496], [-117.115700841, 32.674528062], [-117.208760083, 32.740989178], [-117.255571336, 32.699519545], [-117.205297351, 32.771206945], [-117.28102684, 32.821938246], [-117.271986455, 33.090851158], [-118.075462282, 33.74450013], [-118.248399792, 33.742765442], [-118.411583304, 33.741128594], [-118.390805572, 33.840791434], [-118.526865989, 34.030964077], [-118.806857765, 34.00021255], [-119.126982093, 34.099808335], [-119.265558422, 34.260739535], [-119.56283167, 34.414781481], [-120.452818125, 34.442157447], [-120.6507276, 34.577072561], [-120.600603819, 34.704835564], [-120.671666265, 34.902842939], [-120.644735545, 35.138827711], [-120.857056528, 35.205972791], [-120.899781436, 35.255206078], [-120.862666368, 35.368357748], [-120.866476446, 35.311706811], [-120.827695727, 35.338208377], [-120.887428522, 35.432976186], [-121.286606938, 35.66483438], [-121.501985639, 35.999065787], [-121.902544051, 36.306137145], [-121.978654414, 36.581176221], [-121.845360696, 36.626138091], [-121.749218255, 36.858469695], [-121.791122407, 36.806796938], [-121.899927557, 36.964650303], [-122.105859518, 36.9560498], [-122.337421328, 37.11761266], [-122.517929971, 37.523819804], [-122.514712662, 37.781128138], [-122.410429716, 37.81142503], [-122.357924134, 37.588805705], [-122.131823301, 37.504746616], [-122.12598145, 37.431478053], [-121.924485862, 37.448012531], [-122.106909603, 37.500339746], [-122.161818445, 37.667603642], [-122.261152714, 37.740335763], [-122.210689634, 37.751218826], [-122.341283709, 37.803650647], [-122.309785187, 37.893577069], [-122.429201156, 37.964781672], [-122.243582904, 38.05820033], [-122.164435486, 38.050918943], [-122.404347807, 38.152781725], [-122.492776215, 38.110099733], [-122.447023094, 37.985607684], [-122.547626048, 37.949047834], [-122.437970638, 37.882212549], [-122.53422305, 37.89605543]], [[-124.128738642, 40.92481792], [-124.120327234, 40.974560827], [-124.133565779, 40.951714758], [-124.128738642, 40.92481792]], [[-122.138302177, 38.039823174], [-122.130580381, 38.047804348], [-122.164435486, 38.050918943], [-122.138302177, 38.039823174]], [[-121.697871387, 38.007996082], [-121.69344306, 38.055697829], [-121.790147424, 38.055787683], [-121.700831205, 38.10959816], [-121.891341805, 38.053439409], [-122.044198215, 38.13708812], [-122.130580381, 38.047804348], [-121.697871387, 38.007996082]]], [[[-120.452576727, 34.02960822], [-120.3681086, 34.076619297], [-120.305448174, 34.020174891], [-120.452576727, 34.02960822]]], [[[-119.96778354, 33.942642957], [-120.115435123, 33.894184828], [-120.250622481, 34.001309574], [-120.04300341, 34.036007971], [-119.96778354, 33.942642957]]], [[[-119.929913431, 34.059670419], [-119.52028513, 34.034119695], [-119.818105549, 33.959841281], [-119.929913431, 34.059670419]]], [[[-118.501005471, 33.435722888], [-118.498557291, 33.428319597], [-118.606280833, 33.479031175], [-118.501005471, 33.435722888]]], [[[-118.325402588, 33.298758566], [-118.464569002, 33.325539082], [-118.498557291, 33.428319597], [-118.322016299, 33.345211744], [-118.325402588, 33.298758566]]], [[[-118.60738188, 33.032311946], [-118.348676115, 32.820310146], [-118.46794188, 32.833572328], [-118.60738188, 33.032311946]]]]}\",\"{\\\"type\\\": \\\"MultiPolygon\\\", \\\"coordinates\\\": [[[[-124.213352948, 41.998554468], [-124.354026765, 42.103538811], [-124.433400035, 42.323663682], [-124.401948452, 42.627654523], [-124.566487223, 42.836235166], [-124.179177582, 43.762778789], [-124.074253589, 44.797659516], [-123.969743997, 45.160441697], [-124.008452296, 45.339286029], [-123.931488991, 45.402321965], [-123.962291479, 45.567224175], [-123.881679028, 45.496813506], [-123.964855671, 45.570425391], [-123.993476182, 45.946281999], [-123.915662616, 46.01523757], [-124.021062702, 46.228289455], [-123.858272731, 46.152137518], [-123.500592113, 46.234819293], [-123.345563114, 46.120028794], [-123.176294267, 46.182040125], [-122.959994227, 46.103849709], [-122.813997567, 45.960984528], [-122.763981074, 45.657257885], [-122.29677245, 45.543722659], [-121.811303347, 45.706760734], [-121.337770075, 45.704948902], [-121.167852134, 45.60609743], [-120.634968281, 45.745847225], [-120.403960347, 45.699249208], [-119.600548893, 45.919580609], [-119.126119763, 45.932858884], [-118.987129033, 45.999855101], [-116.917429268, 45.996560007], [-116.782676429, 45.825376064], [-116.547629088, 45.752489716], [-116.463568658, 45.604170263], [-116.848240346, 45.022184551], [-116.851222962, 44.889380336], [-117.062272578, 44.7271429], [-117.242684662, 44.39654991], [-117.198146582, 44.273828119], [-116.97641775, 44.242827147], [-116.893801689, 44.161918312], [-116.977351159, 44.085364044], [-116.935240477, 43.990938216], [-117.026870102, 43.832478672], [-117.02626124, 42.000263035], [-119.999442995, 41.994894594], [-124.213352948, 41.998554468]]]]}\",\"{\\\"type\\\": \\\"MultiPolygon\\\", \\\"coordinates\\\": [[[[-123.291775435, 46.152168363], [-123.45618546, 46.270038038], [-123.696037978, 46.306495965], [-123.874989599, 46.240726858], [-123.996854424, 46.312092394], [-124.076101631, 46.270872205], [-124.065529704, 46.648292542], [-124.015804231, 46.383099854], [-123.949278742, 46.37219131], [-123.891524076, 46.513802558], [-123.960553408, 46.636486799], [-123.828637004, 46.709762067], [-124.090983868, 46.744219065], [-124.158014953, 46.905966997], [-124.021183401, 46.8325831], [-124.046814591, 46.893677115], [-123.846218884, 46.961524934], [-124.012372345, 46.985212862], [-124.038887322, 47.058144808], [-124.148025066, 47.030760795], [-124.099624604, 46.931034923], [-124.180178046, 46.926532835], [-124.201457351, 47.203788757], [-124.320996702, 47.355102897], [-124.423990846, 47.737175524], [-124.676667005, 47.967417687], [-124.733375609, 48.16401422], [-124.657949209, 48.326025009], [-124.731842726, 48.381033093], [-123.980962336, 48.164585531], [-123.318168372, 48.113012016], [-123.101515621, 48.18482548], [-123.186989576, 48.146012574], [-123.065633029, 48.119937479], [-123.007592708, 48.021642566], [-123.040992916, 48.080350757], [-122.915468216, 48.095365763], [-122.888455689, 47.991336286], [-122.826591879, 48.043687642], [-122.884503454, 48.105491102], [-122.754195035, 48.144215494], [-122.801109552, 48.086295873], [-122.678720355, 47.967856228], [-122.701202631, 47.914037704], [-122.609994113, 47.887371182], [-122.693546265, 47.867970765], [-122.784807086, 47.687157691], [-122.832368016, 47.69242689], [-122.803951353, 47.851441652], [-122.842369974, 47.779536992], [-122.864236683, 47.823565453], [-122.904113084, 47.646374702], [-122.953975935, 47.589334175], [-122.752680928, 47.667813599], [-122.608109862, 47.856555283], [-122.563882917, 47.82166779], [-122.617114037, 47.938884348], [-122.525755316, 47.912091762], [-122.472167462, 47.74994418], [-122.558951676, 47.770858705], [-122.589394748, 47.690510452], [-122.652831674, 47.746344656], [-122.608104497, 47.568650991], [-122.685420513, 47.650411427], [-122.709152699, 47.612771988], [-122.622876763, 47.568946034], [-122.698383629, 47.526714653], [-122.555004805, 47.590411752], [-122.4953565, 47.51053825], [-122.592549026, 47.337302417], [-122.551336051, 47.2887718], [-122.54430145, 47.318870276], [-122.360720336, 47.260734737], [-122.444414645, 47.30578512], [-122.323886901, 47.349462211], [-122.420851439, 47.576241642], [-122.33622238, 47.601027936], [-122.436020672, 47.66197443], [-122.307520062, 47.948088348], [-122.183903754, 48.047700226], [-122.343350351, 48.098222315], [-122.368264172, 48.19058738], [-122.374085784, 48.189153224], [-122.368133962, 48.239621669], [-122.478854209, 48.17560941], [-122.356904894, 48.056157231], [-122.51137197, 48.132934123], [-122.530327141, 48.250063509], [-122.381019294, 48.239231408], [-122.365705222, 48.327655792], [-122.508633435, 48.360874951], [-122.474074513, 48.518501669], [-122.560624033, 48.582778126], [-122.419154942, 48.596592844], [-122.511040717, 48.666524738], [-122.482459098, 48.7548244], [-122.582965493, 48.788153529], [-122.67236352, 48.731923699], [-122.646115422, 48.783446252], [-122.793170214, 48.892464638], [-122.748347819, 48.933401853], [-122.822140753, 48.942113668], [-122.733185291, 48.962133676], [-122.760867029, 49.002085179], [-117.032349855, 48.99919644], [-117.062747329, 46.353623718], [-116.921869665, 46.167808324], [-116.982479542, 46.089388579], [-116.917429268, 45.996560007], [-118.987129033, 45.999855101], [-119.126119763, 45.932858884], [-119.600548893, 45.919580609], [-120.403960347, 45.699249208], [-120.634968281, 45.745847225], [-121.167852134, 45.60609743], [-121.337770075, 45.704948902], [-121.811303347, 45.706760734], [-122.29677245, 45.543722659], [-122.763981074, 45.657257885], [-122.813997567, 45.960984528], [-122.959994227, 46.103849709], [-123.087908993, 46.173862935], [-123.291775435, 46.152168363]], [[-122.964507043, 47.585228384], [-123.036551732, 47.494871726], [-122.953975935, 47.589334175], [-122.964507043, 47.585228384]], [[-123.159741014, 47.353949547], [-123.073852313, 47.375325001], [-123.118849397, 47.391656041], [-123.036551732, 47.494871726], [-123.159741014, 47.353949547]], [[-123.029781282, 47.359330058], [-122.842066884, 47.43301034], [-123.073852313, 47.375325001], [-123.029781282, 47.359330058]], [[-122.552147576, 47.28529958], [-122.548461556, 47.28538692], [-122.551336051, 47.2887718], [-122.552147576, 47.28529958]], [[-122.694769353, 47.281920165], [-122.628896981, 47.411912084], [-122.7356489, 47.345212251], [-122.770088464, 47.167526633], [-122.830894142, 47.24394545], [-122.764367312, 47.341376692], [-122.81893149, 47.406591922], [-122.936110497, 47.205328345], [-123.069628179, 47.21039772], [-123.019299209, 47.261677533], [-123.095189631, 47.209484428], [-122.938193232, 47.198362648], [-123.080488443, 47.091734111], [-122.919011414, 47.173782885], [-122.992105633, 47.035533786], [-122.926016003, 47.147010416], [-122.910598665, 47.043761462], [-122.900710702, 47.144585699], [-122.841707468, 47.163886875], [-122.822280228, 47.091585249], [-122.815144211, 47.178058326], [-122.684908211, 47.097089142], [-122.574956417, 47.187708914], [-122.552147576, 47.28529958], [-122.694769353, 47.281920165]], [[-122.306472659, 48.205809742], [-122.369327545, 48.194529712], [-122.368264172, 48.19058738], [-122.306472659, 48.205809742]], [[-123.036435843, 46.179340482], [-123.115923107, 46.189196259], [-123.087908993, 46.173862935], [-123.036435843, 46.179340482]]], [[[-122.926285565, 48.710900545], [-122.742728591, 48.661919385], [-122.830164582, 48.60038951], [-122.910244614, 48.69411394], [-122.873266339, 48.594748825], [-123.027257323, 48.61125648], [-122.926285565, 48.710900545]]], [[[-122.96287626, 48.450099975], [-123.13485682, 48.499462008], [-123.169911951, 48.597699255], [-123.014318347, 48.560688794], [-122.96287626, 48.450099975]]], [[[-122.858846784, 48.539552987], [-122.813776284, 48.421333283], [-122.945510298, 48.465475738], [-122.919769138, 48.550882638], [-122.858846784, 48.539552987]]], [[[-122.854945511, 47.177715003], [-122.909191847, 47.21989274], [-122.849906981, 47.301733643], [-122.854945511, 47.177715003]]], [[[-122.702110559, 48.02219376], [-122.748192251, 48.072442263], [-122.700450849, 48.038514866], [-122.702110559, 48.02219376]]], [[[-122.693860084, 48.103326559], [-122.670479268, 48.01721558], [-122.700450849, 48.038514866], [-122.693860084, 48.103326559]]], [[[-122.580674887, 48.548126668], [-122.649178505, 48.528979719], [-122.649678737, 48.58780995], [-122.580674887, 48.548126668]]], [[[-122.513718903, 47.621494532], [-122.479056716, 47.583708912], [-122.577059269, 47.600288987], [-122.553037405, 47.721256614], [-122.513718903, 47.621494532]]], [[[-122.375911027, 48.034448773], [-122.377458662, 47.906025946], [-122.480450124, 47.9964526], [-122.546590716, 47.967444509], [-122.608914524, 48.151124865], [-122.686573863, 48.174507022], [-122.769305259, 48.228951842], [-122.607778609, 48.411242813], [-122.505617291, 48.297966421], [-122.734412402, 48.228431493], [-122.605781704, 48.207382858], [-122.541140467, 48.015917391], [-122.52367124, 48.096836954], [-122.375911027, 48.034448773]]], [[[-122.547730654, 48.45333606], [-122.65674904, 48.407931626], [-122.701026946, 48.499077111], [-122.55746305, 48.500198275], [-122.510211915, 48.372810781], [-122.547730654, 48.45333606]]], [[[-122.462372035, 47.343554646], [-122.466412783, 47.402004004], [-122.518849969, 47.333806157], [-122.474075854, 47.511184663], [-122.439799905, 47.441290319], [-122.373408526, 47.388429344], [-122.462372035, 47.343554646]]]]}\",\"{\\\"type\\\": \\\"MultiPolygon\\\", \\\"coordinates\\\": [[[[-90.418620408, 46.566359103], [-89.95710209, 47.291102707], [-89.483385086, 48.013716638], [-89.337549359, 47.974261343], [-88.36986199, 48.306062669], [-88.173112571, 48.230836093], [-84.860139191, 46.888916194], [-84.762832671, 46.634306163], [-84.556833655, 46.460806131], [-84.128999859, 46.53050065], [-84.10825029, 46.241444349], [-83.955471665, 46.056750119], [-83.826332688, 46.118860692], [-83.571943939, 46.105778217], [-83.433777988, 45.998166651], [-83.597166091, 45.821277648], [-82.518610954, 45.338638276], [-82.122805417, 43.591193855], [-82.455447614, 42.926751673], [-82.518938184, 42.613792866], [-82.830250114, 42.37349242], [-83.096695393, 42.289865166], [-83.112460077, 41.95941031], [-83.415851444, 41.733793616], [-84.805980027, 41.696127355], [-84.805883467, 41.760216057], [-87.207773477, 41.760956347], [-87.019924968, 42.493499815], [-87.147166282, 43.379858583], [-87.013234198, 44.131904393], [-86.686287671, 44.881002456], [-86.249547601, 45.236125588], [-86.754236072, 45.443610549], [-87.10113287, 45.444230139], [-87.40569368, 45.201968998], [-87.44250834, 45.076433569], [-87.659952343, 45.107512325], [-87.741809338, 45.197469592], [-87.6573506, 45.368754119], [-87.88805142, 45.354696661], [-87.792768627, 45.499966443], [-87.833732665, 45.561045706], [-87.78141886, 45.681483597], [-88.130128831, 45.80970794], [-88.102460504, 45.921546668], [-88.514691889, 46.020018607], [-88.670827299, 45.988546908], [-89.091740996, 46.138388515], [-90.120263547, 46.33699134], [-90.216636658, 46.501637399], [-90.418620408, 46.566359103]]]]}\",\"{\\\"type\\\": \\\"MultiPolygon\\\", \\\"coordinates\\\": [[[[-71.86032638, 41.320260018], [-71.959617734, 41.389210224], [-72.004870623, 41.306437254], [-72.084964067, 41.363253146], [-72.165563107, 41.304162741], [-72.192900181, 41.368905902], [-72.205507904, 41.28562063], [-72.388441265, 41.260454804], [-72.89349854, 41.241974384], [-72.910141647, 41.298603863], [-73.111724406, 41.200667024], [-73.103562444, 41.151384115], [-73.187129349, 41.184026599], [-73.353245258, 41.102231294], [-73.366692513, 41.151150763], [-73.433309197, 41.055460274], [-73.659686297, 40.988233387], [-73.727775514, 41.100695729], [-73.482695371, 41.212771833], [-73.550961614, 41.295421422], [-73.48735705, 42.049532533], [-71.799188107, 42.008053511], [-71.79774642, 41.416780651], [-71.86032638, 41.320260018]]]]}\",\"{\\\"type\\\": \\\"MultiPolygon\\\", \\\"coordinates\\\": [[[[-83.108569533, 35.001361817], [-82.39208445, 35.215390027], [-81.034222841, 35.149206519], [-81.041608304, 35.044658035], [-80.934743732, 35.107325166], [-80.78192085, 34.935847521], [-80.797460228, 34.819803089], [-79.676494002, 34.80506435], [-78.541616499, 33.851708025], [-78.936713934, 33.640978932], [-79.141495228, 33.397473246], [-79.191297144, 33.172883838], [-79.301789403, 33.174711764], [-79.246267676, 33.125882149], [-79.316182137, 33.147648275], [-79.274687022, 33.126804829], [-79.361557066, 33.008750081], [-79.528682828, 33.038199395], [-79.617635608, 32.953108996], [-79.579462409, 32.909034938], [-79.726290554, 32.805402428], [-79.962665588, 32.781347036], [-79.869454801, 32.731879056], [-80.000166893, 32.603880018], [-80.333545357, 32.477962375], [-80.478616655, 32.497425824], [-80.453017652, 32.322368771], [-80.63060537, 32.25655809], [-80.773984194, 32.30296433], [-80.667424053, 32.217900753], [-80.849422663, 32.034107745], [-81.11722514, 32.11760357], [-81.1872603, 32.464225441], [-81.418663859, 32.629398555], [-81.491957903, 33.009098768], [-81.751638651, 33.147870898], [-81.939983368, 33.345049471], [-81.928711385, 33.464853019], [-82.556835115, 33.945353329], [-82.876610756, 34.475074857], [-83.03921029, 34.486388415], [-83.342002183, 34.68029201], [-83.306010962, 34.816326946], [-83.111965209, 34.934908748], [-83.108569533, 35.001361817]]]]}\",\"{\\\"type\\\": \\\"MultiPolygon\\\", \\\"coordinates\\\": [[[[-77.081114799, 37.216347456], [-76.993504465, 37.29534924], [-77.040676475, 37.198546976], [-76.975406259, 37.239395678], [-76.732235849, 37.145282328], [-76.686229259, 37.197504938], [-76.663618237, 37.046809047], [-76.479913741, 36.914065182], [-76.355022043, 36.923514605], [-76.297711283, 36.755727679], [-76.330725253, 36.963977069], [-76.009718478, 36.92966491], [-75.867028981, 36.550413966], [-81.677456796, 36.58815667], [-83.675367236, 36.600771099], [-83.136394769, 36.743087769], [-83.072590381, 36.854588538], [-82.878568769, 36.889584661], [-82.722096741, 37.120167464], [-82.34873727, 37.267939746], [-81.967705339, 37.537783384], [-81.925642937, 37.357316315], [-81.678210497, 37.201482654], [-81.362156421, 37.337674499], [-81.225103587, 37.234873474], [-80.900534838, 37.315000445], [-80.859556049, 37.429568321], [-80.77008158, 37.372363508], [-80.511390567, 37.481674254], [-80.464819372, 37.426144481], [-80.299788415, 37.508271039], [-80.328504145, 37.564314455], [-80.220863074, 37.627774179], [-80.306964666, 37.689621896], [-79.789105207, 38.268207908], [-79.649199843, 38.591528088], [-79.476574212, 38.457126617], [-79.282971025, 38.418095112], [-78.998171389, 38.84735316], [-78.869276494, 38.762990981], [-78.403697312, 39.167450666], [-78.347086608, 39.466011375], [-77.828148901, 39.132281542], [-77.719028592, 39.32112515], [-77.564341575, 39.304751605], [-77.457580268, 39.225084633], [-77.520547807, 39.121347517], [-77.119766772, 38.934279531], [-77.038935721, 38.791630268], [-77.046165615, 38.714460433], [-77.191472948, 38.619235307], [-77.200440913, 38.618901372], [-77.257507592, 38.560183793], [-77.261588573, 38.557376862], [-77.264659703, 38.555263281], [-77.276575416, 38.547065109], [-77.276849002, 38.545761555], [-77.278758734, 38.536674231], [-77.279237509, 38.534397036], [-77.284097672, 38.524873853], [-77.290087044, 38.517322093], [-77.307509333, 38.497390598], [-77.310227752, 38.495306522], [-77.323338389, 38.43487367], [-77.310825884, 38.399943262], [-77.305044383, 38.37536484], [-77.304288, 38.374880701], [-77.299812734, 38.372010738], [-77.299481481, 38.371798843], [-77.296375483, 38.369807303], [-77.29628697, 38.369750977], [-77.296093851, 38.369553834], [-77.295872569, 38.369134068], [-77.295577526, 38.368572146], [-77.295444757, 38.368320018], [-77.29543671, 38.368303925], [-77.293792516, 38.365176469], [-77.293590009, 38.364791572], [-77.293490767, 38.364602476], [-77.287399471, 38.35301131], [-77.281009108, 38.340848833], [-77.280327827, 38.339551985], [-77.280031443, 38.338988721], [-77.277374715, 38.337804526], [-77.272599041, 38.335674852], [-77.270996422, 38.334960043], [-77.267333865, 38.333326578], [-77.262147814, 38.332213461], [-77.257519662, 38.331864774], [-77.256264389, 38.331769556], [-77.253248245, 38.331542909], [-77.251184285, 38.331387341], [-77.250047028, 38.33130151], [-77.247804701, 38.33113119], [-77.246190012, 38.331010491], [-77.246100157, 38.331003785], [-77.245139927, 38.330931365], [-77.241214514, 38.33098501], [-77.222300917, 38.335843831], [-77.220003605, 38.336433917], [-77.216992825, 38.337207735], [-77.207999378, 38.339517117], [-77.206120491, 38.339999914], [-77.202777117, 38.340532333], [-77.18273297, 38.34122166], [-77.182695419, 38.341223001], [-77.178474963, 38.341367841], [-77.178005576, 38.341467083], [-77.170869559, 38.343866318], [-77.169358134, 38.344375938], [-77.14900285, 38.357348442], [-77.138109058, 38.367707133], [-77.112178802, 38.369040191], [-77.09210515, 38.367130458], [-77.081077248, 38.370123804], [-77.080071419, 38.370634764], [-77.057829201, 38.3945252], [-77.055927515, 38.396567702], [-77.055562735, 38.396814466], [-77.013347447, 38.373515457], [-77.016195953, 38.37099418], [-77.016280442, 38.370477855], [-77.016261667, 38.369987011], [-77.015579045, 38.351812363], [-77.015057355, 38.337895721], [-77.014986277, 38.335996717], [-77.014896423, 38.333593458], [-77.028417438, 38.308301568], [-77.022772729, 38.300902694], [-77.017351985, 38.298709989], [-77.017067671, 38.298393488], [-77.016275078, 38.297512382], [-77.012376487, 38.293172568], [-77.010372877, 38.290942311], [-77.002790272, 38.282502741], [-76.981653124, 38.274626434], [-76.981292367, 38.274501711], [-76.980722398, 38.273980021], [-76.979409456, 38.272778392], [-76.978073716, 38.271553963], [-76.976721883, 38.270314783], [-76.973212212, 38.267101496], [-76.972982883, 38.266890943], [-76.96933642, 38.263550252], [-76.96915403, 38.263383955], [-76.968384236, 38.262678534], [-76.966667622, 38.261106759], [-76.962048858, 38.256875575], [-76.961389035, 38.255032897], [-76.961344779, 38.254873306], [-76.960961223, 38.253485262], [-76.960861981, 38.253125846], [-76.958985776, 38.246333152], [-76.958511025, 38.233615458], [-76.960074753, 38.231947124], [-77.036902606, 38.199904114], [-76.933606714, 38.201797754], [-76.926828772, 38.200932741], [-76.915441453, 38.199024349], [-76.913727522, 38.197964877], [-76.901746094, 38.189985305], [-76.900681257, 38.189240992], [-76.883773953, 38.177417815], [-76.878709942, 38.173877299], [-76.878602654, 38.173819631], [-76.859105676, 38.171031475], [-76.857769936, 38.169833869], [-76.855950058, 38.168036789], [-76.838318557, 38.16348508], [-76.802049726, 38.168408275], [-76.798172593, 38.168557137], [-76.795277148, 38.168359995], [-76.705844253, 38.059882075], [-76.721694767, 38.137432784], [-76.646949649, 38.092921525], [-76.625202298, 38.151482195], [-76.624483466, 38.151317239], [-76.58348456, 38.098232299], [-76.582008004, 38.096979707], [-76.58083722, 38.095621169], [-76.580386609, 38.095492423], [-76.579132676, 38.094909042], [-76.578391045, 38.094564378], [-76.550934613, 38.081802428], [-76.537507474, 38.075559586], [-76.535560191, 38.068455756], [-76.535439491, 38.067998439], [-76.535436809, 38.067991734], [-76.528335661, 38.055748791], [-76.592963487, 38.003255278], [-76.510002762, 38.024156392], [-76.502562314, 38.02122876], [-76.497491598, 38.019411564], [-76.477847099, 38.015425801], [-76.494585425, 37.931820005], [-76.443823278, 37.986007333], [-76.385257244, 37.914109379], [-76.322005391, 37.937388271], [-76.274734139, 37.915210426], [-76.273194551, 37.914488912], [-76.272572279, 37.914196551], [-76.261638254, 37.822241038], [-76.361912638, 37.796156555], [-76.288821101, 37.785581946], [-76.351857036, 37.735226154], [-76.302440017, 37.689933032], [-76.375338435, 37.682400048], [-76.278921068, 37.617347091], [-76.36977151, 37.507808357], [-76.25223577, 37.436507195], [-76.258309633, 37.361630648], [-76.308957038, 37.372634855], [-76.351643801, 37.454695255], [-76.354768574, 37.369068414], [-76.447701752, 37.428869605], [-76.423013359, 37.474084944], [-76.470882744, 37.415671796], [-76.409866512, 37.369175702], [-76.518545598, 37.414847016], [-76.403002739, 37.338237762], [-76.493650675, 37.342986614], [-76.438429356, 37.315170765], [-76.478757709, 37.281541228], [-76.381443143, 37.292382717], [-76.456865519, 37.137495875], [-76.298584342, 37.130029947], [-76.396050453, 37.10724324], [-76.336766928, 37.090753019], [-76.36248529, 37.045683861], [-76.278552264, 37.100215852], [-76.303628236, 37.001422048], [-76.331389099, 37.052051425], [-76.429279, 36.965222955], [-76.627868414, 37.125809491], [-76.650240719, 37.220787853], [-76.754983664, 37.190733701], [-77.015045285, 37.312377244], [-77.071930789, 37.280336022], [-77.090102348, 37.284216714], [-77.081114799, 37.216347456]], [[-77.246589661, 37.394745201], [-77.311122268, 37.370597273], [-77.278360426, 37.278419137], [-77.154483104, 37.297965775], [-77.262281924, 37.320987135], [-77.246589661, 37.394745201]], [[-77.090102348, 37.284216714], [-77.093203515, 37.307635099], [-77.154483104, 37.297965775], [-77.090102348, 37.284216714]]], [[[-76.275737286, 37.308773696], [-76.317386627, 37.37446636], [-76.308957038, 37.372634855], [-76.275737286, 37.308773696]]], [[[-75.99547863, 37.953456044], [-76.001312435, 37.95354858], [-76.001468003, 37.953552604], [-76.002947241, 37.953602225], [-75.99547863, 37.953456044]]], [[[-75.851148963, 37.421862334], [-75.917178243, 37.330746353], [-75.970041901, 37.11717546], [-76.025692374, 37.262793928], [-75.93395412, 37.387882769], [-75.977966487, 37.441258729], [-75.888211727, 37.478861958], [-75.887503624, 37.528540492], [-75.96271947, 37.474453747], [-75.934060067, 37.548002601], [-75.818275809, 37.572850585], [-75.93930915, 37.568486631], [-75.827085525, 37.633507401], [-75.88239938, 37.619806677], [-75.867957026, 37.668644339], [-75.786254257, 37.658371478], [-75.837949812, 37.713225335], [-75.748318434, 37.706785351], [-75.798428804, 37.80064255], [-75.693126619, 37.765482813], [-75.713177472, 37.83657074], [-75.639592409, 37.848957181], [-75.731309205, 37.919790298], [-75.648158044, 37.966444641], [-75.377916098, 38.01515758], [-75.501010716, 37.86591813], [-75.423328578, 37.870272696], [-75.542847008, 37.765878412], [-75.703202337, 37.625814825], [-75.625332445, 37.568104416], [-75.723309517, 37.561007291], [-75.846577138, 37.426828444], [-75.793590099, 37.401681393], [-75.851148963, 37.421862334]]], [[[-75.599333793, 37.572920322], [-75.673484802, 37.483252734], [-75.696907192, 37.52125293], [-75.599333793, 37.572920322]]], [[[-75.252816528, 38.026451021], [-75.24520576, 38.026908338], [-75.387884527, 37.8511177], [-75.252816528, 38.026451021]]]]}\",\"{\\\"type\\\": \\\"MultiPolygon\\\", \\\"coordinates\\\": [[[[-77.957762629, 33.841979653], [-78.238207698, 33.919596076], [-78.541616499, 33.851708025], [-79.676494002, 34.80506435], [-80.797460228, 34.819803089], [-80.78192085, 34.935847521], [-80.934743732, 35.107325166], [-81.041608304, 35.044658035], [-81.034222841, 35.149206519], [-82.39208445, 35.215390027], [-83.108569533, 35.001361817], [-84.32182923, 34.988408089], [-84.29022342, 35.22543624], [-84.052546173, 35.270192921], [-84.023418725, 35.411617756], [-83.880275935, 35.518820286], [-83.498409837, 35.562938601], [-83.159586489, 35.764659494], [-82.992116064, 35.773921162], [-82.919834554, 35.928896517], [-82.80508697, 35.927143693], [-82.637231648, 36.065825969], [-82.557991147, 35.953879952], [-82.355157137, 36.115609109], [-82.033852637, 36.120528281], [-81.9081375, 36.302013248], [-81.707438529, 36.335170716], [-81.677456796, 36.58815667], [-75.867028981, 36.550413966], [-75.474887341, 35.663788319], [-75.530333966, 35.21715492], [-75.906342119, 35.130697936], [-76.276111454, 34.884146601], [-76.179995835, 34.964264184], [-76.315637827, 35.016120672], [-76.278635412, 34.94032681], [-76.3866359, 34.855682999], [-76.408501267, 34.900669008], [-76.515839249, 34.719043225], [-76.630763859, 34.837485552], [-76.616282612, 34.707832932], [-76.670944691, 34.713210762], [-76.676441878, 34.809129238], [-76.779708266, 34.755393863], [-76.69482708, 34.71587956], [-77.128485292, 34.687719047], [-77.297766834, 34.561420353], [-77.318168432, 34.546198994], [-77.322494062, 34.548149922], [-77.403588742, 34.584724903], [-77.312052995, 34.633243382], [-77.395386547, 34.709741324], [-77.35348776, 34.734229892], [-77.439386845, 34.743208587], [-77.370821536, 34.639307857], [-77.447521985, 34.610043615], [-77.368357927, 34.523759633], [-77.681164893, 34.353658782], [-77.759584934, 34.311014861], [-77.826937966, 34.1516077], [-77.957762629, 33.841979653]]], [[[-76.7457515, 34.710482955], [-76.674203575, 34.695073664], [-77.104762495, 34.648844451], [-76.7457515, 34.710482955]]]]}\",\"{\\\"type\\\": \\\"MultiPolygon\\\", \\\"coordinates\\\": [[[[-91.806037277, 29.553490877], [-91.70863688, 29.569113404], [-91.820652634, 29.476861507], [-91.965341717, 29.53562066], [-92.030870765, 29.574259222], [-91.927810907, 29.634867758], [-91.895550638, 29.555393904], [-91.900884211, 29.634552598], [-91.893884987, 29.555176646], [-91.866070479, 29.630145729], [-91.806037277, 29.553490877]]], [[[-90.934669375, 29.264064431], [-90.801567435, 29.437985569], [-91.013868394, 29.338829323], [-91.061087251, 29.22404319], [-91.095406115, 29.19123441], [-91.1246261, 29.276381135], [-91.072779525, 29.311314578], [-91.116439998, 29.290922731], [-91.265302598, 29.475391656], [-91.456612942, 29.51103891], [-91.540746689, 29.526715726], [-91.55644834, 29.638278186], [-91.646993011, 29.634779245], [-91.605379879, 29.757659286], [-91.715886891, 29.73855257], [-91.744546697, 29.761815231], [-91.861593872, 29.713620096], [-91.850147545, 29.787663817], [-91.749044078, 29.765465676], [-91.829375178, 29.830669016], [-92.263973504, 29.758474678], [-92.103326619, 29.698834419], [-92.114209682, 29.599885046], [-92.008538693, 29.613640755], [-92.323684841, 29.531401545], [-93.24659273, 29.777388275], [-93.839536607, 29.691074789], [-93.926740587, 29.812155068], [-93.699558824, 30.059584826], [-93.739660531, 30.540689975], [-93.554948866, 30.821975917], [-93.577826768, 30.999715179], [-93.507865369, 31.031927168], [-93.532545716, 31.183540374], [-93.600307703, 31.176157594], [-93.726736307, 31.511600018], [-93.834924549, 31.586211026], [-93.823443353, 31.775097549], [-94.041907936, 31.993854493], [-94.042964727, 33.019213378], [-91.166072935, 33.004105836], [-91.208262742, 32.915354222], [-91.145076603, 32.905494422], [-91.106581539, 32.988937944], [-91.063683629, 32.906363457], [-91.163624078, 32.778186053], [-91.052968204, 32.718643695], [-91.151318103, 32.615919113], [-91.014285386, 32.640481442], [-91.080397815, 32.556442469], [-90.987830758, 32.494189739], [-91.093740463, 32.549128085], [-91.116008162, 32.483140379], [-90.978547633, 32.447032481], [-91.003505588, 32.362144589], [-90.901239663, 32.323386669], [-90.979474336, 32.293702662], [-90.995233655, 32.192797959], [-91.039007306, 32.242349088], [-91.164171249, 32.196888328], [-91.162822098, 32.132693678], [-91.002829671, 32.161783576], [-91.07999146, 32.048000246], [-91.160310209, 32.070353776], [-91.081988364, 32.006204724], [-91.185619533, 31.963829845], [-91.256966293, 31.811711043], [-91.34301424, 31.846861392], [-91.365480423, 31.760641783], [-91.259238124, 31.760436594], [-91.369269043, 31.746706367], [-91.401015669, 31.620364934], [-91.515461504, 31.630372256], [-91.405414492, 31.57646656], [-91.522216648, 31.521990895], [-91.478747427, 31.359860748], [-91.576264501, 31.410498172], [-91.51561439, 31.278210282], [-91.654027104, 31.255753487], [-91.559907049, 31.054118425], [-91.637457758, 30.999304801], [-89.730746448, 31.004669219], [-89.852172732, 30.661809146], [-89.683409482, 30.451793522], [-89.616145045, 30.224249661], [-89.528611153, 30.189819485], [-89.717737734, 30.025243163], [-89.816244543, 30.045708418], [-89.839000404, 29.942210019], [-89.727775902, 29.957273304], [-89.705002606, 29.874275029], [-89.607532471, 29.872154742], [-89.485084265, 30.078818947], [-89.343714416, 29.911298901], [-89.42910254, 29.817931205], [-89.285239577, 29.763104171], [-89.417692423, 29.756142497], [-89.467215668, 29.804222081], [-89.544019103, 29.792033136], [-89.432637691, 29.681475163], [-89.586011767, 29.756512642], [-89.616385102, 29.659432769], [-89.704824239, 29.703805894], [-89.782011509, 29.631144851], [-89.51996237, 29.457451701], [-89.56159696, 29.393106848], [-89.266700149, 29.349913895], [-89.325338602, 29.277234077], [-89.266218692, 29.203590006], [-89.18465808, 29.337905645], [-89.120306522, 29.255202413], [-89.175345451, 29.216459244], [-89.106969237, 29.220647514], [-89.251552373, 29.18312341], [-89.225482643, 29.147610962], [-89.01508078, 29.211047888], [-89.008717239, 29.163264334], [-89.12535578, 29.168258607], [-89.026906639, 29.140768647], [-89.063828588, 29.076226652], [-89.099805911, 29.093634309], [-89.177240678, 29.047019691], [-89.278956503, 29.212952256], [-89.397009909, 29.154312462], [-89.484844208, 29.31899339], [-89.837621748, 29.419361651], [-89.863918126, 29.481602311], [-90.056349188, 29.462712854], [-90.052771121, 29.322896004], [-90.135597736, 29.314687103], [-90.047231019, 29.190437794], [-90.225494653, 29.079249501], [-90.243642479, 29.255194366], [-90.321552604, 29.336474687], [-90.270632207, 29.386599809], [-90.400008559, 29.435720444], [-90.352186114, 29.490306079], [-90.416092979, 29.439746924], [-90.396037549, 29.418675005], [-90.395033062, 29.365952164], [-90.422604316, 29.434595557], [-90.447859168, 29.414615482], [-90.557773411, 29.458248317], [-90.648198724, 29.30114463], [-90.618194193, 29.235401005], [-90.744680464, 29.342501611], [-90.731764679, 29.278867346], [-90.761632025, 29.244822264], [-90.833622515, 29.23726514], [-90.825900435, 29.311194867], [-90.934669375, 29.264064431]], [[-89.459760189, 29.805405289], [-89.468221907, 29.805198987], [-89.467215668, 29.804222081], [-89.459760189, 29.805405289]], [[-89.516235441, 29.851812869], [-89.545075893, 29.803325236], [-89.468221907, 29.805198987], [-89.516235441, 29.851812869]], [[-89.099719226, 29.093686491], [-89.192589372, 29.138527662], [-89.099805911, 29.093634309], [-89.099719226, 29.093686491]]], [[[-90.716511905, 29.296253622], [-90.713564157, 29.189195931], [-90.731764679, 29.278867346], [-90.716511905, 29.296253622]]], [[[-90.766952187, 29.050316513], [-90.658002198, 29.065833092], [-90.719680935, 29.051528871], [-90.766952187, 29.050316513]]], [[[-90.530618727, 29.304879606], [-90.603105426, 29.284119308], [-90.542977005, 29.364318699], [-90.530618727, 29.304879606]]], [[[-90.044346303, 29.200455844], [-89.950880706, 29.266982675], [-89.99955073, 29.227668196], [-90.044346303, 29.200455844]]], [[[-89.177240678, 29.047019691], [-89.151457697, 29.004959017], [-89.178336114, 29.046360254], [-89.177240678, 29.047019691]]]]}\",\"{\\\"type\\\": \\\"MultiPolygon\\\", \\\"coordinates\\\": [[[[-75.54090187, 39.496705234], [-75.538943857, 39.496847391], [-75.52721858, 39.499733448], [-75.527222604, 39.499749541], [-75.528884232, 39.513802975], [-75.526900738, 39.531850219], [-75.5238913, 39.550515711], [-75.519206822, 39.555515349], [-75.516676158, 39.559734464], [-75.512151271, 39.572574198], [-75.512522757, 39.577329755], [-75.5236727, 39.583700001], [-75.536668003, 39.591743946], [-75.536933541, 39.591892809], [-75.537376106, 39.592843652], [-75.537769049, 39.593689889], [-75.543868393, 39.595980495], [-75.543920696, 39.596028775], [-75.555589646, 39.605564028], [-75.5572097, 39.633236378], [-75.514950156, 39.668432325], [-75.511247367, 39.676892012], [-75.510091335, 39.68293637], [-75.510021597, 39.686531872], [-75.510001481, 39.687532336], [-75.509884804, 39.693619609], [-75.50987944, 39.69388783], [-75.508874953, 39.695172608], [-75.507000089, 39.69742164], [-75.499245822, 39.700413644], [-75.497880578, 39.700754285], [-75.497589558, 39.700826705], [-75.489639491, 39.713552445], [-75.487657338, 39.715275764], [-75.483062714, 39.715438038], [-75.477361679, 39.715640545], [-75.476842672, 39.716651738], [-75.476831943, 39.716889113], [-75.47679171, 39.717866778], [-75.476644188, 39.721454233], [-75.476392061, 39.727532119], [-75.476143956, 39.733540267], [-75.476054102, 39.73370254], [-75.473358482, 39.737874717], [-75.472718775, 39.738864452], [-75.47092706, 39.741635174], [-75.470303446, 39.742600769], [-75.468849689, 39.744849801], [-75.456786454, 39.766454995], [-75.452501625, 39.769058079], [-75.254503638, 39.852608889], [-74.722303748, 40.149699748], [-75.058489144, 40.418364555], [-75.067905039, 40.541244596], [-75.1943551, 40.576479435], [-75.204062015, 40.692101419], [-75.050754994, 40.865826756], [-75.131347328, 40.990668833], [-74.695482999, 41.3577573], [-73.89403224, 40.996702462], [-73.934054822, 40.881812721], [-74.143798202, 40.643782765], [-74.134900484, 40.67342535], [-74.282518029, 40.492592007], [-73.993293434, 40.406739317], [-73.985592127, 40.453160852], [-73.991664906, 40.406255909], [-73.985677958, 40.404478759], [-73.992467463, 40.40005712], [-73.996458929, 40.369227831], [-73.979655057, 40.375938714], [-74.002387387, 40.323437594], [-74.031113237, 40.101564825], [-74.103323668, 40.131019503], [-74.031491429, 40.100359172], [-74.09599185, 39.764189869], [-74.046868533, 40.066131502], [-74.145221114, 40.074941218], [-74.056545943, 40.040296465], [-74.140680134, 40.033155084], [-74.116277397, 39.944951981], [-74.197614044, 39.949490279], [-74.105478823, 39.930167645], [-74.205522537, 39.829913378], [-74.160379618, 39.703575969], [-74.341426045, 39.602723569], [-74.336791188, 39.538613409], [-74.484050279, 39.580581143], [-74.651587307, 39.628327936], [-74.466001807, 39.529525634], [-74.378036857, 39.482694715], [-74.488283694, 39.412337691], [-74.447613358, 39.361537993], [-74.652312845, 39.309063256], [-74.630462105, 39.245811952], [-74.626611918, 39.252833426], [-74.553941488, 39.298447073], [-74.651155472, 39.208074063], [-74.631464304, 39.243984272], [-74.710216373, 39.176606387], [-74.651402235, 39.196755141], [-74.834393263, 38.990730643], [-74.966636896, 38.967675716], [-74.892499298, 39.127355665], [-74.840743393, 39.116001874], [-74.888120592, 39.172707796], [-74.802676141, 39.18801114], [-75.028023273, 39.194941968], [-75.022288796, 39.231535681], [-75.137155652, 39.181538969], [-75.141732842, 39.283912182], [-75.178725868, 39.243241847], [-75.242669731, 39.280590266], [-75.172288567, 39.300850332], [-75.252711922, 39.296202064], [-75.197093636, 39.336840212], [-75.281808525, 39.30264473], [-75.289640576, 39.356125295], [-75.287752301, 39.291454554], [-75.359053173, 39.350318444], [-75.365341902, 39.346961528], [-75.54090187, 39.496705234]], [[-74.076595455, 40.744849741], [-74.094063342, 40.809473544], [-74.134900484, 40.67342535], [-74.076595455, 40.744849741]], [[-75.012402087, 39.23583895], [-75.001630336, 39.363364577], [-75.022288796, 39.231535681], [-75.012402087, 39.23583895]], [[-75.231881887, 39.418202341], [-75.364399105, 39.354731888], [-75.359053173, 39.350318444], [-75.231881887, 39.418202341]]], [[[-74.092728943, 39.757166505], [-74.260367006, 39.544420391], [-74.307526946, 39.499922544], [-74.092728943, 39.757166505]]]]}\",\"{\\\"type\\\": \\\"MultiPolygon\\\", \\\"coordinates\\\": [[[[-71.611922979, 41.1540851], [-71.577921957, 41.232406944], [-71.544372886, 41.161689162], [-71.611922979, 41.1540851]]], [[[-71.3564533, 41.717715114], [-71.378452778, 41.666745096], [-71.459385753, 41.697575748], [-71.402070969, 41.61502406], [-71.458200216, 41.583166122], [-71.417629123, 41.477134377], [-71.445689052, 41.519120336], [-71.481171995, 41.360621899], [-71.86032638, 41.320260018], [-71.79774642, 41.416780651], [-71.799188107, 42.008053511], [-71.381326765, 42.018935233], [-71.340480745, 41.797033399], [-71.225592345, 41.711642593], [-71.30055204, 41.649447531], [-71.288419068, 41.737312675], [-71.400984675, 41.816176325], [-71.3564533, 41.717715114]]], [[[-71.22030437, 41.655522734], [-71.239905953, 41.476485282], [-71.336705536, 41.481584162], [-71.22030437, 41.655522734]]], [[[-71.120329052, 41.496714503], [-71.194571257, 41.456277519], [-71.196589619, 41.676403731], [-71.132558584, 41.660366803], [-71.120329052, 41.496714503]]]]}\"]\n",
       "},\n",
       "\"map_join\":[[\"State_Name\"],[\"state\"]],\n",
       "\"map_data_meta\":{\n",
       "\"geodataframe\":{\n",
       "\"geometry\":\"geometry\"\n",
       "}\n",
       "}\n",
       "}],\n",
       "\"metainfo_list\":[],\n",
       "\"spec_id\":\"12\"\n",
       "};\n",
       "               window.letsPlotCall(function() {\n",
       "       \n",
       "               var toolbar = null;\n",
       "               var plotContainer = containerDiv;               \n",
       "               \n",
       "                   var options = {\n",
       "                       sizing: {\n",
       "                           width_mode: \"min\",\n",
       "                           height_mode: \"scaled\",\n",
       "                           width: width\n",
       "                       }\n",
       "                   };\n",
       "                   var fig = LetsPlot.buildPlotFromProcessedSpecs(plotSpec, -1, -1, plotContainer, options);\n",
       "                   if (toolbar) {\n",
       "                     toolbar.bind(fig);\n",
       "                   }\n",
       "               });\n",
       "               \n",
       "               break;\n",
       "           }\n",
       "       }\n",
       "   });\n",
       "   \n",
       "   observer.observe(containerDiv);\n",
       "   \n",
       "   // ----------\n",
       "   })();\n",
       "   \n",
       "   </script>"
      ],
      "text/plain": [
       "<lets_plot.plot.core.PlotSpec at 0x126b49c30>"
      ]
     },
     "execution_count": 50,
     "metadata": {},
     "output_type": "execute_result"
    }
   ],
   "source": [
    "# map_join works fine even when data and map rows doesn't match\n",
    "\n",
    "# For the simplicity I'll re-use states from us-48. Names can be provided by user.\n",
    "import random\n",
    "random.seed(1)\n",
    "area_of_interest = us48.get_geocodes().state.tolist()\n",
    "length = 30\n",
    "mean_by_state = {\n",
    "    'State_Name': random.sample(area_of_interest, length),\n",
    "    'Mean_Value': random.sample(range(0, 500), length)\n",
    "}\n",
    "\n",
    "p + geom_map(\n",
    "    aes(fill='Mean_Value'), \n",
    "    data=mean_by_state, map=us48, \n",
    "    map_join='State_Name', \n",
    "    tooltips=layer_tooltips()\n",
    "        .line('@{found name}')\n",
    "        .line('mean:|@Mean_Value')\n",
    ")\n",
    "\n",
    "# Note the variable 'found name' that is used in tooltip. \n",
    "# Thanks to map_join this variable is available for tooltip processor."
   ]
  }
 ],
 "metadata": {
  "kernelspec": {
   "display_name": "Python 3 (ipykernel)",
   "language": "python",
   "name": "python3"
  },
  "language_info": {
   "codemirror_mode": {
    "name": "ipython",
    "version": 3
   },
   "file_extension": ".py",
   "mimetype": "text/x-python",
   "name": "python",
   "nbconvert_exporter": "python",
   "pygments_lexer": "ipython3",
   "version": "3.10.15"
  }
 },
 "nbformat": 4,
 "nbformat_minor": 4
}
