{
 "cells": [
  {
   "cell_type": "markdown",
   "metadata": {},
   "source": [
    "## geom_imshow()\n",
    "\n",
    "`geom_imshow()` displays an image specified by 2D or 3D Numpy array.\n",
    "\n",
    "Whether the image is grayscale or color depends on the shape of the image array:\n",
    "- (M, N) - grey-scale image\n",
    "- (M, N, 3) - color RGB image\n",
    "- (M, N, 4) - color RGB image with alpha channel\n",
    "\n",
    "The array's `dtype` can be int, uint or float.\n",
    "\n",
    "By default, all values in the image array will be transformed to the range [0-255] using a linear scaler."
   ]
  },
  {
   "cell_type": "code",
   "execution_count": 1,
   "metadata": {
    "execution": {
     "iopub.execute_input": "2024-09-27T18:08:24.361905Z",
     "iopub.status.busy": "2024-09-27T18:08:24.361615Z",
     "iopub.status.idle": "2024-09-27T18:08:24.788354Z",
     "shell.execute_reply": "2024-09-27T18:08:24.788087Z"
    }
   },
   "outputs": [
    {
     "data": {
      "text/html": [
       "\n",
       "            <div id=\"o6NI4i\"></div>\n",
       "            <script type=\"text/javascript\" data-lets-plot-script=\"library\">\n",
       "                if(!window.letsPlotCallQueue) {\n",
       "                    window.letsPlotCallQueue = [];\n",
       "                }; \n",
       "                window.letsPlotCall = function(f) {\n",
       "                    window.letsPlotCallQueue.push(f);\n",
       "                };\n",
       "                (function() {\n",
       "                    var script = document.createElement(\"script\");\n",
       "                    script.type = \"text/javascript\";\n",
       "                    script.src = \"https://cdn.jsdelivr.net/gh/JetBrains/lets-plot@v4.4.1/js-package/distr/lets-plot.min.js\";\n",
       "                    script.onload = function() {\n",
       "                        window.letsPlotCall = function(f) {f();};\n",
       "                        window.letsPlotCallQueue.forEach(function(f) {f();});\n",
       "                        window.letsPlotCallQueue = [];\n",
       "                        \n",
       "                    };\n",
       "                    script.onerror = function(event) {\n",
       "                        window.letsPlotCall = function(f) {};    // noop\n",
       "                        window.letsPlotCallQueue = [];\n",
       "                        var div = document.createElement(\"div\");\n",
       "                        div.style.color = 'darkred';\n",
       "                        div.textContent = 'Error loading Lets-Plot JS';\n",
       "                        document.getElementById(\"o6NI4i\").appendChild(div);\n",
       "                    };\n",
       "                    var e = document.getElementById(\"o6NI4i\");\n",
       "                    e.appendChild(script);\n",
       "                })()\n",
       "            </script>\n",
       "            "
      ]
     },
     "metadata": {},
     "output_type": "display_data"
    }
   ],
   "source": [
    "import numpy as np\n",
    "from lets_plot import *\n",
    "\n",
    "LetsPlot.setup_html()"
   ]
  },
  {
   "cell_type": "markdown",
   "metadata": {},
   "source": [
    "### Grayscale image\n"
   ]
  },
  {
   "cell_type": "code",
   "execution_count": 2,
   "metadata": {
    "execution": {
     "iopub.execute_input": "2024-09-27T18:08:24.804352Z",
     "iopub.status.busy": "2024-09-27T18:08:24.804200Z",
     "iopub.status.idle": "2024-09-27T18:08:24.832702Z",
     "shell.execute_reply": "2024-09-27T18:08:24.832476Z"
    }
   },
   "outputs": [
    {
     "data": {
      "text/html": [
       "   <div id=\"ialhOL\"></div>\n",
       "   <script type=\"text/javascript\" data-lets-plot-script=\"plot\">\n",
       "       (function() {\n",
       "           var plotSpec={\n",
       "\"mapping\":{\n",
       "},\n",
       "\"data_meta\":{\n",
       "},\n",
       "\"kind\":\"plot\",\n",
       "\"scales\":[{\n",
       "\"name\":\"\",\n",
       "\"aesthetic\":\"paint_c\",\n",
       "\"start\":0.0,\n",
       "\"end\":1.0,\n",
       "\"scale_mapper_kind\":\"color_grey\"\n",
       "}],\n",
       "\"layers\":[{\n",
       "\"geom\":\"image\",\n",
       "\"mapping\":{\n",
       "\"paint_c\":\"paint_c\"\n",
       "},\n",
       "\"show_legend\":true,\n",
       "\"data_meta\":{\n",
       "},\n",
       "\"href\":\"data:image/png;base64,iVBORw0KGgoAAAANSUhEUgAAAAMAAAACCAAAAAC4HznGAAAAEElEQVR4nGNgWPWf4X8oAwAMpgL+OLO0AgAAAABJRU5ErkJggg==\",\n",
       "\"xmin\":-0.5,\n",
       "\"ymin\":-0.5,\n",
       "\"xmax\":2.5,\n",
       "\"ymax\":1.5,\n",
       "\"color_by\":\"paint_c\",\n",
       "\"data\":{\n",
       "\"paint_c\":[50.0,200.0]\n",
       "}\n",
       "}],\n",
       "\"metainfo_list\":[]\n",
       "};\n",
       "           var plotContainer = document.getElementById(\"ialhOL\");\n",
       "           window.letsPlotCall(function() {{\n",
       "               LetsPlot.buildPlotFromProcessedSpecs(plotSpec, -1, -1, plotContainer);\n",
       "           }});\n",
       "       })();\n",
       "   </script>"
      ],
      "text/plain": [
       "<lets_plot.plot.core.PlotSpec at 0x1217b36a0>"
      ]
     },
     "execution_count": 2,
     "metadata": {},
     "output_type": "execute_result"
    }
   ],
   "source": [
    "A2x3 = np.array([\n",
    "    [50, 150 ,200],\n",
    "    [200,100,50]\n",
    "    ])\n",
    "\n",
    "ggplot() + geom_imshow(A2x3)"
   ]
  },
  {
   "cell_type": "markdown",
   "metadata": {},
   "source": [
    "#### Grayscale image without normalization"
   ]
  },
  {
   "cell_type": "code",
   "execution_count": 3,
   "metadata": {
    "execution": {
     "iopub.execute_input": "2024-09-27T18:08:24.833846Z",
     "iopub.status.busy": "2024-09-27T18:08:24.833767Z",
     "iopub.status.idle": "2024-09-27T18:08:24.836343Z",
     "shell.execute_reply": "2024-09-27T18:08:24.836127Z"
    }
   },
   "outputs": [
    {
     "data": {
      "text/html": [
       "   <div id=\"J8k0Al\"></div>\n",
       "   <script type=\"text/javascript\" data-lets-plot-script=\"plot\">\n",
       "       (function() {\n",
       "           var plotSpec={\n",
       "\"mapping\":{\n",
       "},\n",
       "\"data_meta\":{\n",
       "},\n",
       "\"kind\":\"plot\",\n",
       "\"scales\":[{\n",
       "\"name\":\"\",\n",
       "\"aesthetic\":\"paint_c\",\n",
       "\"start\":0.19607843137254902,\n",
       "\"end\":0.7843137254901961,\n",
       "\"scale_mapper_kind\":\"color_grey\"\n",
       "}],\n",
       "\"layers\":[{\n",
       "\"geom\":\"image\",\n",
       "\"mapping\":{\n",
       "\"paint_c\":\"paint_c\"\n",
       "},\n",
       "\"show_legend\":true,\n",
       "\"data_meta\":{\n",
       "},\n",
       "\"href\":\"data:image/png;base64,iVBORw0KGgoAAAANSUhEUgAAAAMAAAACCAAAAAC4HznGAAAAEElEQVR4nGMwmnaC4USKEQAMJALvf3ld2gAAAABJRU5ErkJggg==\",\n",
       "\"xmin\":-0.5,\n",
       "\"ymin\":-0.5,\n",
       "\"xmax\":2.5,\n",
       "\"ymax\":1.5,\n",
       "\"color_by\":\"paint_c\",\n",
       "\"data\":{\n",
       "\"paint_c\":[50.0,200.0]\n",
       "}\n",
       "}],\n",
       "\"metainfo_list\":[]\n",
       "};\n",
       "           var plotContainer = document.getElementById(\"J8k0Al\");\n",
       "           window.letsPlotCall(function() {{\n",
       "               LetsPlot.buildPlotFromProcessedSpecs(plotSpec, -1, -1, plotContainer);\n",
       "           }});\n",
       "       })();\n",
       "   </script>"
      ],
      "text/plain": [
       "<lets_plot.plot.core.PlotSpec at 0x103763d60>"
      ]
     },
     "execution_count": 3,
     "metadata": {},
     "output_type": "execute_result"
    }
   ],
   "source": [
    "ggplot() + geom_imshow(A2x3, norm=False)"
   ]
  },
  {
   "cell_type": "markdown",
   "metadata": {},
   "source": [
    "#### Grayscale image in \"Viridis\" colors"
   ]
  },
  {
   "cell_type": "code",
   "execution_count": 4,
   "metadata": {
    "execution": {
     "iopub.execute_input": "2024-09-27T18:08:24.837422Z",
     "iopub.status.busy": "2024-09-27T18:08:24.837351Z",
     "iopub.status.idle": "2024-09-27T18:08:24.840484Z",
     "shell.execute_reply": "2024-09-27T18:08:24.840269Z"
    }
   },
   "outputs": [
    {
     "data": {
      "text/html": [
       "   <div id=\"XhL7M5\"></div>\n",
       "   <script type=\"text/javascript\" data-lets-plot-script=\"plot\">\n",
       "       (function() {\n",
       "           var plotSpec={\n",
       "\"mapping\":{\n",
       "},\n",
       "\"data_meta\":{\n",
       "},\n",
       "\"kind\":\"plot\",\n",
       "\"scales\":[{\n",
       "\"name\":\"\",\n",
       "\"aesthetic\":\"paint_c\",\n",
       "\"colors\":[\"#440154\",\"#470D60\",\"#48186A\",\"#482475\",\"#472E7C\",\"#453882\",\"#424186\",\"#3E4C8A\",\"#3A548C\",\"#365D8D\",\"#32658E\",\"#2E6D8E\",\"#2B758E\",\"#287D8E\",\"#25848E\",\"#228C8D\",\"#1F948C\",\"#1E9C89\",\"#20A386\",\"#25AB82\",\"#2EB37C\",\"#3ABA76\",\"#48C16E\",\"#58C765\",\"#69CD5B\",\"#7FD34E\",\"#93D741\",\"#A8DB34\",\"#BDDF26\",\"#D5E21A\",\"#EAE51A\",\"#FDE725\"],\n",
       "\"scale_mapper_kind\":\"color_gradientn\"\n",
       "}],\n",
       "\"layers\":[{\n",
       "\"geom\":\"image\",\n",
       "\"mapping\":{\n",
       "\"paint_c\":\"paint_c\"\n",
       "},\n",
       "\"show_legend\":true,\n",
       "\"data_meta\":{\n",
       "},\n",
       "\"href\":\"data:image/png;base64,iVBORw0KGgoAAAANSUhEUgAAAAMAAAACCAMAAACqqpYoAAADAFBMVEVEAVREAlZFBFdFBVlGB1pGCFxGCl1GC15HDWBHDmFHEGNHEWRHE2VIFGdIFmhIF2lIGGpIGmxIG21IHG5IHW9IH3BIIHFIIXNII3RIJHVIJXZIJndIKHhIKXlHKnpHLHpHLXtHLnxHL31GMH5GMn5GM39GNIBFNYFFN4FFOIJEOYNEOoNEO4RDPYRDPoVCP4VCQIZCQYZBQodBRIdARYhARog/R4g/SIk+SYk+Sok+TIo9TYo9Too8T4o8UIs7UYs7Uos6U4s6VIw5VYw5Vow4WIw4WYw3Wow3W402XI02XY01Xo01X400YI00YY0zYo0zY40yZI4yZY4xZo4xZ44xaI4waY4wao4va44vbI4ubY4ubo4ub44tcI4tcY4scY4sco4sc44rdI4rdY4qdo4qd44qeI4peY4peo4pe44ofI4ofY4nfo4nf44ngI4mgY4mgo4mgo4lg44lhI4lhY4kho4kh44jiI4jiY4jio0ii40ijI0ijY0hjo0hj40hkI0hkYwgkowgkowgk4wflIwflYsflosfl4sfmIsfmYofmooem4oenIkenYkfnokfn4gfoIgfoYgfoYcfoocgo4YgpIYhpYUhpoUip4UiqIQjqYMkqoMlq4IlrIImrYEnrYEoroApr38qsH8ssX4tsn0us3wvtHwxtXsytno0tnk1t3k3uHg4uXc6unY7u3U9vHQ/vHNAvXJCvnFEv3BGwG9IwW5KwW1MwmxOw2tQxGpSxWlUxWhWxmdYx2VayGRcyGNeyWJgymBjy19ly15nzFxpzVtszVpuzlhwz1dz0FZ10FR30VN60VF80lB/006B002E1EuG1UmJ1UiL1kaO1kWQ10OT10GV2ECY2D6b2Tyd2Tug2jmi2jel2zao2zSq3DKt3DCw3S+y3S213iu43im63ii93ybA3yXC3yPF4CHI4CDK4R/N4R3Q4RzS4hvV4hrY4hna4xnd4xjf4xji5Bjl5Bnn5Bnq5Rrs5Rvv5Rzx5R305h725iD45iH75yP95yWyl44uAAAAEElEQVR4nGNgWPWf4X8oAwAMpgL+OLO0AgAAAABJRU5ErkJggg==\",\n",
       "\"xmin\":-0.5,\n",
       "\"ymin\":-0.5,\n",
       "\"xmax\":2.5,\n",
       "\"ymax\":1.5,\n",
       "\"color_by\":\"paint_c\",\n",
       "\"data\":{\n",
       "\"paint_c\":[50.0,200.0]\n",
       "}\n",
       "}],\n",
       "\"metainfo_list\":[]\n",
       "};\n",
       "           var plotContainer = document.getElementById(\"XhL7M5\");\n",
       "           window.letsPlotCall(function() {{\n",
       "               LetsPlot.buildPlotFromProcessedSpecs(plotSpec, -1, -1, plotContainer);\n",
       "           }});\n",
       "       })();\n",
       "   </script>"
      ],
      "text/plain": [
       "<lets_plot.plot.core.PlotSpec at 0x1219f2a10>"
      ]
     },
     "execution_count": 4,
     "metadata": {},
     "output_type": "execute_result"
    }
   ],
   "source": [
    "ggplot() + geom_imshow(A2x3, cmap=\"viridis\")"
   ]
  },
  {
   "cell_type": "markdown",
   "metadata": {},
   "source": [
    "### RGB image\n",
    "\n",
    "M x N x 3 array"
   ]
  },
  {
   "cell_type": "code",
   "execution_count": 5,
   "metadata": {
    "execution": {
     "iopub.execute_input": "2024-09-27T18:08:24.841491Z",
     "iopub.status.busy": "2024-09-27T18:08:24.841419Z",
     "iopub.status.idle": "2024-09-27T18:08:24.843930Z",
     "shell.execute_reply": "2024-09-27T18:08:24.843739Z"
    }
   },
   "outputs": [
    {
     "data": {
      "text/html": [
       "   <div id=\"XZcJdQ\"></div>\n",
       "   <script type=\"text/javascript\" data-lets-plot-script=\"plot\">\n",
       "       (function() {\n",
       "           var plotSpec={\n",
       "\"mapping\":{\n",
       "},\n",
       "\"data_meta\":{\n",
       "},\n",
       "\"kind\":\"plot\",\n",
       "\"scales\":[],\n",
       "\"layers\":[{\n",
       "\"geom\":\"image\",\n",
       "\"mapping\":{\n",
       "},\n",
       "\"show_legend\":true,\n",
       "\"data_meta\":{\n",
       "},\n",
       "\"href\":\"data:image/png;base64,iVBORw0KGgoAAAANSUhEUgAAAAMAAAACCAIAAAASFvFNAAAAEklEQVR4nGP4z8DAAMVgCkgAADvYBfuy6mB/AAAAAElFTkSuQmCC\",\n",
       "\"xmin\":-0.5,\n",
       "\"ymin\":-0.5,\n",
       "\"xmax\":2.5,\n",
       "\"ymax\":1.5,\n",
       "\"data\":{\n",
       "}\n",
       "}],\n",
       "\"metainfo_list\":[]\n",
       "};\n",
       "           var plotContainer = document.getElementById(\"XZcJdQ\");\n",
       "           window.letsPlotCall(function() {{\n",
       "               LetsPlot.buildPlotFromProcessedSpecs(plotSpec, -1, -1, plotContainer);\n",
       "           }});\n",
       "       })();\n",
       "   </script>"
      ],
      "text/plain": [
       "<lets_plot.plot.core.PlotSpec at 0x1219f3880>"
      ]
     },
     "execution_count": 5,
     "metadata": {},
     "output_type": "execute_result"
    }
   ],
   "source": [
    "A2x3x3 = np.array([\n",
    "    [[255, 0, 0], [0, 255, 0], [0, 0, 255]],\n",
    "    [[0, 255, 0], [0, 0, 255], [255, 0, 0]]\n",
    "    ])\n",
    "ggplot() + geom_imshow(A2x3x3)"
   ]
  },
  {
   "cell_type": "markdown",
   "metadata": {},
   "source": [
    "### RGB image with alpha channel\n",
    "\n",
    "M x N x 4 array"
   ]
  },
  {
   "cell_type": "code",
   "execution_count": 6,
   "metadata": {
    "execution": {
     "iopub.execute_input": "2024-09-27T18:08:24.844907Z",
     "iopub.status.busy": "2024-09-27T18:08:24.844839Z",
     "iopub.status.idle": "2024-09-27T18:08:24.847439Z",
     "shell.execute_reply": "2024-09-27T18:08:24.847249Z"
    }
   },
   "outputs": [
    {
     "data": {
      "text/html": [
       "   <div id=\"CCT7ai\"></div>\n",
       "   <script type=\"text/javascript\" data-lets-plot-script=\"plot\">\n",
       "       (function() {\n",
       "           var plotSpec={\n",
       "\"mapping\":{\n",
       "},\n",
       "\"data_meta\":{\n",
       "},\n",
       "\"kind\":\"plot\",\n",
       "\"scales\":[],\n",
       "\"layers\":[{\n",
       "\"geom\":\"image\",\n",
       "\"mapping\":{\n",
       "},\n",
       "\"show_legend\":true,\n",
       "\"data_meta\":{\n",
       "},\n",
       "\"href\":\"data:image/png;base64,iVBORw0KGgoAAAANSUhEUgAAAAMAAAACCAYAAACddGYaAAAAGUlEQVR4nGP4z8DwHwwZ/oOZvkDCF8jyBQCLFgnfUCS+/AAAAABJRU5ErkJggg==\",\n",
       "\"xmin\":-0.5,\n",
       "\"ymin\":-0.5,\n",
       "\"xmax\":2.5,\n",
       "\"ymax\":1.5,\n",
       "\"data\":{\n",
       "}\n",
       "}],\n",
       "\"metainfo_list\":[]\n",
       "};\n",
       "           var plotContainer = document.getElementById(\"CCT7ai\");\n",
       "           window.letsPlotCall(function() {{\n",
       "               LetsPlot.buildPlotFromProcessedSpecs(plotSpec, -1, -1, plotContainer);\n",
       "           }});\n",
       "       })();\n",
       "   </script>"
      ],
      "text/plain": [
       "<lets_plot.plot.core.PlotSpec at 0x121a211e0>"
      ]
     },
     "execution_count": 6,
     "metadata": {},
     "output_type": "execute_result"
    }
   ],
   "source": [
    "A2x3x4 = np.array([\n",
    "    [[1, 0, 0, 1], [0, 1, 0, 1], [0, 0, 1, 1]],\n",
    "    [[0, 1, 0, 0.3], [0, 0, 1, 0.3], [1, 0, 0, 0.3]]\n",
    "    ])\n",
    "\n",
    "ggplot() + geom_imshow(A2x3x4)"
   ]
  },
  {
   "cell_type": "markdown",
   "metadata": {},
   "source": [
    "### Just a random image"
   ]
  },
  {
   "cell_type": "code",
   "execution_count": 7,
   "metadata": {
    "execution": {
     "iopub.execute_input": "2024-09-27T18:08:24.848452Z",
     "iopub.status.busy": "2024-09-27T18:08:24.848384Z",
     "iopub.status.idle": "2024-09-27T18:08:24.851077Z",
     "shell.execute_reply": "2024-09-27T18:08:24.850910Z"
    }
   },
   "outputs": [
    {
     "data": {
      "text/html": [
       "   <div id=\"PnqILL\"></div>\n",
       "   <script type=\"text/javascript\" data-lets-plot-script=\"plot\">\n",
       "       (function() {\n",
       "           var plotSpec={\n",
       "\"mapping\":{\n",
       "},\n",
       "\"data_meta\":{\n",
       "},\n",
       "\"coord\":{\n",
       "\"name\":\"cartesian\",\n",
       "\"flip\":false\n",
       "},\n",
       "\"kind\":\"plot\",\n",
       "\"scales\":[],\n",
       "\"layers\":[{\n",
       "\"geom\":\"image\",\n",
       "\"mapping\":{\n",
       "},\n",
       "\"show_legend\":true,\n",
       "\"data_meta\":{\n",
       "},\n",
       "\"href\":\"data:image/png;base64,iVBORw0KGgoAAAANSUhEUgAAAGQAAAAKCAIAAADNfmwpAAACGklEQVR4nGWUC1bEMAwDff9LG9hWmvECj9I2iS3r05md6d/vZXef6+dn3ufP2ufFs/z37/3ZZzdH/7ZTIUW2m3rJ2WmpPG0eBwQBMwPgAssj1R7U28Mr+J31xZ+t3d+RZijT7duqGv+t895t194dgUuTMDYZabswgB0eQsjLaZrlednAzZcoL2+i67107urtcr1v6+1ERW3lrdbCUKkJgIwqPZHiWW958/v2q5zyH361BFIZ/hg0ULDBUMaszAIdmQWdtzEw5CU2S7dQCYCMLCcfqm3aXNQZq/+LIKmSFlM6qrSTpRM26g1P2Rd1+71/NRTfkBi86pVMiCd8zKCIudu/2Tof2b+fCjtA4hQfqbhfjrpNWtd9Jw/N6KiW7GJHX8XV9TyxlVTUaKMiOOvaDGc7VqMalib4re6Jkn/FPL6yE0wuubkO1cH1GWQzv8zOiqJc55a0Ir8yyXTMXYN0UJ/Tx6V8VDpyQNzBD6uk7ygxX03uOgPtbWxfiU6KyOaEieis5Kli64VA01mvTiHWtMsAmSqnzL+9tyDCw4igCo6S7hZvtCpRrFwlc4r8VlNCUHCLsg0yaF+tdoJRyjeFx7TBVzRlbDvYyQejtFnHxkV1rswqmutqxlQzZDo5xLyje+LRKUxcMwHTF4X9qVq9ptuwFdvJW+KS5rYra1WZ18LXCJ1h4ka4uyGiZRxry5q69jBGwvXFVWYtzh8pVcWB9N1hogAAAABJRU5ErkJggg==\",\n",
       "\"xmin\":-0.5,\n",
       "\"ymin\":-0.5,\n",
       "\"xmax\":99.5,\n",
       "\"ymax\":9.5,\n",
       "\"data\":{\n",
       "}\n",
       "}],\n",
       "\"metainfo_list\":[]\n",
       "};\n",
       "           var plotContainer = document.getElementById(\"PnqILL\");\n",
       "           window.letsPlotCall(function() {{\n",
       "               LetsPlot.buildPlotFromProcessedSpecs(plotSpec, -1, -1, plotContainer);\n",
       "           }});\n",
       "       })();\n",
       "   </script>"
      ],
      "text/plain": [
       "<lets_plot.plot.core.PlotSpec at 0x1217b33a0>"
      ]
     },
     "execution_count": 7,
     "metadata": {},
     "output_type": "execute_result"
    }
   ],
   "source": [
    "np.random.seed(42)\n",
    "image = np.random.choice([0.0, 1.0], [10, 100, 3])\n",
    "ggplot() + geom_imshow(image) + coord_cartesian()\n"
   ]
  }
 ],
 "metadata": {
  "kernelspec": {
   "display_name": "Python 3 (ipykernel)",
   "language": "python",
   "name": "python3"
  },
  "language_info": {
   "codemirror_mode": {
    "name": "ipython",
    "version": 3
   },
   "file_extension": ".py",
   "mimetype": "text/x-python",
   "name": "python",
   "nbconvert_exporter": "python",
   "pygments_lexer": "ipython3",
   "version": "3.10.15"
  }
 },
 "nbformat": 4,
 "nbformat_minor": 1
}
