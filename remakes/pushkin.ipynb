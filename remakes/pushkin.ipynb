{
 "cells": [
  {
   "cell_type": "markdown",
   "metadata": {},
   "source": [
    "Available as executable Jupyter Notebook:\n",
    "\n",
    "[![Binder](https://mybinder.org/badge_logo.svg)](https://mybinder.org/v2/gh/HIL-HK/lets-plot-examples/master?filepath=remakes%2Fpushkin.ipynb)"
   ]
  },
  {
   "cell_type": "markdown",
   "metadata": {},
   "source": [
    "## Preliminaries"
   ]
  },
  {
   "cell_type": "code",
   "execution_count": null,
   "metadata": {},
   "outputs": [],
   "source": [
    "import pandas as pd\n",
    "import geopandas as gpd\n",
    "\n",
    "from lets_plot import *; LetsPlot.setup_html()\n",
    "from lets_plot.settings_utils import maptiles_lets_plot;"
   ]
  },
  {
   "cell_type": "code",
   "execution_count": null,
   "metadata": {},
   "outputs": [],
   "source": [
    "def set_stay_time(data):\n",
    "    current_moves = moves_df[(moves_df.departure == data['name'])|(moves_df.arrival == data['name'])]\n",
    "    years = current_moves.year.sort_values().unique()\n",
    "    years_combined = []\n",
    "    for year in years:\n",
    "        if len(years_combined) == 0 or years_combined[-1][1] + 1 != year:\n",
    "            years_combined.append((year, year))\n",
    "        else:\n",
    "            years_combined[-1] = (years_combined[-1][0], year)\n",
    "    years_combined = [str(year_from) if year_from == year_to else '{0}-{1}'.format(year_from, year_to) \\\n",
    "                      for year_from, year_to in years_combined]\n",
    "    data['name'] = '{0} ({1})'.format(data['name'], ', '.join(years_combined))\n",
    "    return data"
   ]
  },
  {
   "cell_type": "markdown",
   "metadata": {},
   "source": [
    "# Pushkin as Traveller\n",
    "\n",
    "Pushkin grew up in Moscow and St. Petersburg. In 1819 he was exiled, at the age of nineteen, to a small town called Kishinev and then he was moved to his family estate in Ekaterinoslav. He remained in exile for nearly seven years until 1826 when Tsar Nicholas came to power. Below you can see a map of his travels throughout Russia.\n",
    "\n",
    "<img src=\"https://raw.githubusercontent.com/HIL-HK/lets-plot-examples/master/data/pushkin/O.Kiprensky_-_A.S.Pushkin.jpg\" alt=\"Portrait of A.S. Pushkin\" style=\"width: 300px;\"/>\n",
    "\n",
    "[Original version](https://www.rgo.ru/ru/article/pushkin-puteshestvennik-linii-zhizni-linii-na-karte) of the graph that you can see below.\n",
    "\n",
    "Also, see the [short journey through his biography](http://pushkinland.ru/2018/english/push1.php).\n",
    "\n",
    "Some data was collected from here:\n",
    "\n",
    "- [https://en.wikipedia.org/wiki/Alexander_Pushkin](https://en.wikipedia.org/wiki/Alexander_Pushkin)\n",
    "- [http://hronika.su/pushkin-a-s](http://hronika.su/pushkin-a-s)\n",
    "- [http://pushkin-art.ru/liveinhtml](http://pushkin-art.ru/liveinhtml)\n",
    "- [http://alexanderpushkin.net/travels-in-russia](http://alexanderpushkin.net/travels-in-russia)"
   ]
  },
  {
   "cell_type": "code",
   "execution_count": null,
   "metadata": {},
   "outputs": [],
   "source": [
    "places_df = pd.read_csv('https://raw.githubusercontent.com/HIL-HK/lets-plot-examples/master/data/pushkin/places.csv')\n",
    "moves_df = pd.read_csv('https://raw.githubusercontent.com/HIL-HK/lets-plot-examples/master/data/pushkin/moves.csv')\n",
    "df = moves_df.merge(places_df, left_on='departure', right_on='name')\\\n",
    "             .rename(columns=dict(longitude='from_lon', latitude='from_lat'))\\\n",
    "             .drop(columns=['name'])\\\n",
    "             .merge(places_df, left_on='arrival', right_on='name')\\\n",
    "             .rename(columns=dict(longitude='to_lon', latitude='to_lat'))\\\n",
    "             .drop(columns=['name'])\n",
    "places_df = places_df.apply(set_stay_time, axis=1)"
   ]
  },
  {
   "cell_type": "code",
   "execution_count": null,
   "metadata": {},
   "outputs": [],
   "source": [
    "ggplot() + \\\n",
    "    geom_livemap() + \\\n",
    "    geom_point(aes(x='longitude', y='latitude', fill='name'), data=places_df, size=3, color='black') + \\\n",
    "    geom_segment(aes(x='from_lon', y='from_lat', xend='to_lon', yend='to_lat', color='path'), data=df, \\\n",
    "                 arrow=arrow(type='closed', length=10, angle=15), size=1) + \\\n",
    "    scale_color_manual(name='Trip Name', values=['#addd8e', '#e34a33', '#8856a7', '#2c7fb8', \\\n",
    "                                                 '#1c9099', '#006d2c', '#fec44f', '#636363']) + \\\n",
    "    scale_fill_discrete(name='') + \\\n",
    "    coord_cartesian(xlim=[26, 58], ylim=[38, 62]) + \\\n",
    "    ggtitle(\"Alexander Pushkin's Trips\") + \\\n",
    "    ggsize(1000, 700) + \\\n",
    "    theme(axis_title='blank', axis_text='blank', axis_ticks='blank', axis_line='blank')"
   ]
  }
 ],
 "metadata": {
  "kernelspec": {
   "display_name": "Python 3",
   "language": "python",
   "name": "python3"
  },
  "language_info": {
   "codemirror_mode": {
    "name": "ipython",
    "version": 3
   },
   "file_extension": ".py",
   "mimetype": "text/x-python",
   "name": "python",
   "nbconvert_exporter": "python",
   "pygments_lexer": "ipython3",
   "version": "3.7.8"
  }
 },
 "nbformat": 4,
 "nbformat_minor": 4
}
