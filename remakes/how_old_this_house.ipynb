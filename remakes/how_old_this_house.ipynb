{
 "cells": [
  {
   "cell_type": "markdown",
   "metadata": {},
   "source": [
    "# How Old is This House (Manhattan)?\n",
    "\n",
    "This is a tiny notebook inspired by the projects [How old is this house](https://how-old-is-this.house) and [Morphocode](https://io.morphocode.com/urban-layers).\n",
    "\n",
    "Data is provided by [Data.gov](https://catalog.data.gov/dataset/building-footprints-92723) and [OSM](https://www.openstreetmap.org)."
   ]
  },
  {
   "cell_type": "code",
   "execution_count": 1,
   "metadata": {},
   "outputs": [
    {
     "data": {
      "text/html": [
       "\n",
       "            <div id=\"FxFiKC\"></div>\n",
       "            <script type=\"text/javascript\" data-lets-plot-script=\"library\">\n",
       "                if(!window.letsPlotCallQueue) {\n",
       "                    window.letsPlotCallQueue = [];\n",
       "                }; \n",
       "                window.letsPlotCall = function(f) {\n",
       "                    window.letsPlotCallQueue.push(f);\n",
       "                };\n",
       "                (function() {\n",
       "                    var script = document.createElement(\"script\");\n",
       "                    script.type = \"text/javascript\";\n",
       "                    script.src = \"https://cdnjs.cloudflare.com/ajax/libs/lets-plot/2.0.2/lets-plot.min.js\";\n",
       "                    script.onload = function() {\n",
       "                        window.letsPlotCall = function(f) {f();};\n",
       "                        window.letsPlotCallQueue.forEach(function(f) {f();});\n",
       "                        window.letsPlotCallQueue = [];\n",
       "                        \n",
       "                    };\n",
       "                    script.onerror = function(event) {\n",
       "                        window.letsPlotCall = function(f) {};    // noop\n",
       "                        window.letsPlotCallQueue = [];\n",
       "                        var div = document.createElement(\"div\");\n",
       "                        div.style.color = 'darkred';\n",
       "                        div.textContent = 'Error loading Lets-Plot JS';\n",
       "                        document.getElementById(\"FxFiKC\").appendChild(div);\n",
       "                    };\n",
       "                    var e = document.getElementById(\"FxFiKC\");\n",
       "                    e.appendChild(script);\n",
       "                })()\n",
       "            </script>\n",
       "            "
      ]
     },
     "metadata": {},
     "output_type": "display_data"
    }
   ],
   "source": [
    "import numpy as np\n",
    "import pandas as pd\n",
    "import geopandas as gpd\n",
    "from shapely import wkt\n",
    "\n",
    "from lets_plot import *\n",
    "LetsPlot.setup_html()"
   ]
  },
  {
   "cell_type": "code",
   "execution_count": 2,
   "metadata": {},
   "outputs": [],
   "source": [
    "buildings_df = pd.read_csv('https://raw.githubusercontent.com'\n",
    "                           '/HIL-HK/lets-plot-examples/master/data/manhattan_buildings.csv')\n",
    "buildings_df = buildings_df.rename(columns={'CNSTRCT_YR': 'year', 'the_geom': 'geometry'})[['year', 'geometry']]\n",
    "buildings_df.geometry = buildings_df.geometry.apply(wkt.loads)\n",
    "buildings_df.year = np.where((buildings_df.year > 0)&(buildings_df.year <= 2020), buildings_df.year, 0)\n",
    "buildings_gdf = gpd.GeoDataFrame(buildings_df, geometry='geometry')\n",
    "\n",
    "boundary_gdf = gpd.read_file('https://raw.githubusercontent.com'\n",
    "                             '/HIL-HK/lets-plot-examples/master/data/manhattan_boundary.geojson')"
   ]
  },
  {
   "cell_type": "code",
   "execution_count": 3,
   "metadata": {},
   "outputs": [],
   "source": [
    "bc_agg_gdf = gpd.GeoDataFrame(\n",
    "    buildings_gdf.groupby('year').geometry.agg(lambda s: s.unary_union).to_frame(name='geometry').reset_index(),\n",
    "    geometry='geometry'\n",
    ")\n",
    "bc_agg_gdf.year = np.where(bc_agg_gdf.year == 0, np.nan, bc_agg_gdf.year)"
   ]
  },
  {
   "cell_type": "code",
   "execution_count": 4,
   "metadata": {},
   "outputs": [],
   "source": [
    "xmin, ymin, xmax, ymax = boundary_gdf.total_bounds\n",
    "year_breaks = [1750, 1800, 1850, 1900, 1950, 2000]\n",
    "year_labels = [str(Y) for Y in year_breaks]\n",
    "\n",
    "ggplot() + \\\n",
    "    geom_rect(xmin=xmin-.01, ymin=ymin-.01, xmax=xmax+.01, ymax=ymax+.01, fill='#252525', size=0) + \\\n",
    "    geom_polygon(data=boundary_gdf, color='#636363', fill='black', size=.5) + \\\n",
    "    geom_polygon(aes(fill='year'), data=bc_agg_gdf, \\\n",
    "                 tooltips=layer_tooltips().format('@year', 'd').line('Construction year|@year')) + \\\n",
    "    scale_fill_gradient(name='Construction year', low='#ca0020', high='#0571b0', \\\n",
    "                        breaks=year_breaks, labels=year_labels) + \\\n",
    "    ggsize(800, 600) + \\\n",
    "    ggtitle('Manhattan Buildings') + \\\n",
    "    theme(axis_title='blank', axis_text='blank', axis_ticks='blank', axis_line='blank')"
   ]
  }
 ],
 "metadata": {
  "kernelspec": {
   "display_name": "Python 3",
   "language": "python",
   "name": "python3"
  },
  "language_info": {
   "codemirror_mode": {
    "name": "ipython",
    "version": 3
   },
   "file_extension": ".py",
   "mimetype": "text/x-python",
   "name": "python",
   "nbconvert_exporter": "python",
   "pygments_lexer": "ipython3",
   "version": "3.8.10"
  }
 },
 "nbformat": 4,
 "nbformat_minor": 4
}
