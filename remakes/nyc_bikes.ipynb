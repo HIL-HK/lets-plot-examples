{
 "cells": [
  {
   "cell_type": "markdown",
   "metadata": {},
   "source": [
    "# Getting started with BigQuery GIS #\n",
    "\n",
    "Remake of the example https://cloud.google.com/bigquery/docs/gis-getting-started with Lets-Plot library\n",
    "\n",
    "### Note ###\n",
    "\n",
    "Before start you should create your own service account JSON key and put it into data/ folder named `bigquery_credentials.json`.\n",
    "\n",
    "Some instructions:\n",
    "- [How to create project](https://cloud.google.com/resource-manager/docs/creating-managing-projects)\n",
    "- [How to create service account](https://cloud.google.com/iam/docs/creating-managing-service-accounts)\n",
    "- [How to get service account key](https://cloud.google.com/docs/authentication/getting-started)"
   ]
  },
  {
   "cell_type": "code",
   "execution_count": 1,
   "metadata": {},
   "outputs": [
    {
     "data": {
      "text/html": [
       "\n",
       "            <div id=\"COgC1L\"></div>\n",
       "            <script type=\"text/javascript\" data-lets-plot-script=\"library\">\n",
       "                if(!window.letsPlotCallQueue) {\n",
       "                    window.letsPlotCallQueue = [];\n",
       "                }; \n",
       "                window.letsPlotCall = function(f) {\n",
       "                    window.letsPlotCallQueue.push(f);\n",
       "                };\n",
       "                (function() {\n",
       "                    var script = document.createElement(\"script\");\n",
       "                    script.type = \"text/javascript\";\n",
       "                    script.src = \"https://cdnjs.cloudflare.com/ajax/libs/lets-plot/2.0.2/lets-plot.min.js\";\n",
       "                    script.onload = function() {\n",
       "                        window.letsPlotCall = function(f) {f();};\n",
       "                        window.letsPlotCallQueue.forEach(function(f) {f();});\n",
       "                        window.letsPlotCallQueue = [];\n",
       "                        \n",
       "                    };\n",
       "                    script.onerror = function(event) {\n",
       "                        window.letsPlotCall = function(f) {};    // noop\n",
       "                        window.letsPlotCallQueue = [];\n",
       "                        var div = document.createElement(\"div\");\n",
       "                        div.style.color = 'darkred';\n",
       "                        div.textContent = 'Error loading Lets-Plot JS';\n",
       "                        document.getElementById(\"COgC1L\").appendChild(div);\n",
       "                    };\n",
       "                    var e = document.getElementById(\"COgC1L\");\n",
       "                    e.appendChild(script);\n",
       "                })()\n",
       "            </script>\n",
       "            "
      ]
     },
     "metadata": {},
     "output_type": "display_data"
    }
   ],
   "source": [
    "import geopandas as gpd\n",
    "from shapely import wkt\n",
    "from google.oauth2 import service_account\n",
    "from google.cloud import bigquery\n",
    "\n",
    "from lets_plot import *\n",
    "LetsPlot.setup_html()\n",
    "from lets_plot.settings_utils import maptiles_lets_plot"
   ]
  },
  {
   "cell_type": "code",
   "execution_count": 2,
   "metadata": {},
   "outputs": [],
   "source": [
    "QUERY = '''\n",
    "    SELECT ST_GeogPoint(longitude, latitude) as WKT, num_bikes_available\n",
    "    FROM `bigquery-public-data.new_york.citibike_stations`\n",
    "    WHERE num_bikes_available > 30\n",
    "'''"
   ]
  },
  {
   "cell_type": "code",
   "execution_count": 3,
   "metadata": {},
   "outputs": [],
   "source": [
    "credentials = service_account.Credentials.from_service_account_file(\n",
    "    '../data/bigquery_credentials.json',\n",
    "    scopes=['https://www.googleapis.com/auth/cloud-platform'],\n",
    ")\n",
    "client = bigquery.Client(credentials=credentials, project=credentials.project_id)"
   ]
  },
  {
   "cell_type": "code",
   "execution_count": 4,
   "metadata": {},
   "outputs": [],
   "source": [
    "df = client.query(QUERY).to_dataframe()\n",
    "df['WKT'] = df['WKT'].apply(wkt.loads)\n",
    "gdf = gpd.GeoDataFrame(df, geometry='WKT')"
   ]
  },
  {
   "cell_type": "code",
   "execution_count": 5,
   "metadata": {},
   "outputs": [
    {
     "data": {
      "text/html": [
       "   <div id=\"9RNsne\"></div>\n",
       "   <script type=\"text/javascript\" data-lets-plot-script=\"plot\">\n",
       "       (function() {\n",
       "           var plotSpec={\n",
       "'mapping':{\n",
       "},\n",
       "'data_meta':{\n",
       "},\n",
       "'ggtitle':{\n",
       "'text':\"Number of Bikes Available at the Location of NYC\"\n",
       "},\n",
       "'ggsize':{\n",
       "'width':600,\n",
       "'height':450\n",
       "},\n",
       "'kind':\"plot\",\n",
       "'scales':[{\n",
       "'name':\"available bikes\",\n",
       "'aesthetic':\"size\",\n",
       "'range':[4,8]\n",
       "}],\n",
       "'layers':[{\n",
       "'geom':\"livemap\",\n",
       "'mapping':{\n",
       "},\n",
       "'data_meta':{\n",
       "},\n",
       "'zoom':11,\n",
       "'tiles':{\n",
       "'kind':\"vector_lets_plot\",\n",
       "'url':\"wss://tiles.datalore.jetbrains.com\",\n",
       "'theme':\"color\",\n",
       "'attribution':\"Map: <a href=\\\"https://github.com/JetBrains/lets-plot\\\">© Lets-Plot</a>, map data: <a href=\\\"https://www.openstreetmap.org/copyright\\\">© OpenStreetMap contributors</a>.\"\n",
       "},\n",
       "'geocoding':{\n",
       "'url':\"https://geo2.datalore.jetbrains.com\"\n",
       "},\n",
       "'data':{\n",
       "}\n",
       "},{\n",
       "'geom':\"point\",\n",
       "'data':{\n",
       "'WKT':[\"{\\\"type\\\": \\\"Point\\\", \\\"coordinates\\\": [-73.95600096, 40.71774592]}\",\"{\\\"type\\\": \\\"Point\\\", \\\"coordinates\\\": [-73.94755757, 40.7903051]}\",\"{\\\"type\\\": \\\"Point\\\", \\\"coordinates\\\": [-73.97109243, 40.76350532]}\",\"{\\\"type\\\": \\\"Point\\\", \\\"coordinates\\\": [-73.99063168, 40.6867443]}\",\"{\\\"type\\\": \\\"Point\\\", \\\"coordinates\\\": [-73.956461, 40.813358]}\",\"{\\\"type\\\": \\\"Point\\\", \\\"coordinates\\\": [-73.99810231, 40.72917025]}\",\"{\\\"type\\\": \\\"Point\\\", \\\"coordinates\\\": [-73.9471673, 40.7839636]}\",\"{\\\"type\\\": \\\"Point\\\", \\\"coordinates\\\": [-73.98631746, 40.69236178]}\",\"{\\\"type\\\": \\\"Point\\\", \\\"coordinates\\\": [-73.97371465, 40.7643971]}\",\"{\\\"type\\\": \\\"Point\\\", \\\"coordinates\\\": [-73.97402311, 40.7597108]}\",\"{\\\"type\\\": \\\"Point\\\", \\\"coordinates\\\": [-73.9524292946, 40.7894854155]}\",\"{\\\"type\\\": \\\"Point\\\", \\\"coordinates\\\": [-74.00838676, 40.7037992]}\",\"{\\\"type\\\": \\\"Point\\\", \\\"coordinates\\\": [-73.96905301, 40.75001986]}\",\"{\\\"type\\\": \\\"Point\\\", \\\"coordinates\\\": [-73.9521, 40.74966]}\",\"{\\\"type\\\": \\\"Point\\\", \\\"coordinates\\\": [-73.99906065, 40.73047747]}\",\"{\\\"type\\\": \\\"Point\\\", \\\"coordinates\\\": [-73.99200509, 40.73492695]}\",\"{\\\"type\\\": \\\"Point\\\", \\\"coordinates\\\": [-74.00566443, 40.72243797]}\",\"{\\\"type\\\": \\\"Point\\\", \\\"coordinates\\\": [-73.99238967, 40.73726186]}\",\"{\\\"type\\\": \\\"Point\\\", \\\"coordinates\\\": [-73.9780591428, 40.7572456791]}\",\"{\\\"type\\\": \\\"Point\\\", \\\"coordinates\\\": [-73.97648516, 40.75992262]}\",\"{\\\"type\\\": \\\"Point\\\", \\\"coordinates\\\": [-73.98683077, 40.7451677]}\",\"{\\\"type\\\": \\\"Point\\\", \\\"coordinates\\\": [-73.97207836, 40.75714758]}\",\"{\\\"type\\\": \\\"Point\\\", \\\"coordinates\\\": [-74.00247214, 40.71939226]}\",\"{\\\"type\\\": \\\"Point\\\", \\\"coordinates\\\": [-73.9607082, 40.8067581]}\",\"{\\\"type\\\": \\\"Point\\\", \\\"coordinates\\\": [-74.00612572, 40.70530954]}\",\"{\\\"type\\\": \\\"Point\\\", \\\"coordinates\\\": [-73.98014437, 40.75500254]}\",\"{\\\"type\\\": \\\"Point\\\", \\\"coordinates\\\": [-74.007756, 40.746745]}\",\"{\\\"type\\\": \\\"Point\\\", \\\"coordinates\\\": [-73.977112, 40.7867947]}\",\"{\\\"type\\\": \\\"Point\\\", \\\"coordinates\\\": [-73.9960098267, 40.7243052725]}\",\"{\\\"type\\\": \\\"Point\\\", \\\"coordinates\\\": [-73.971518, 40.766368]}\",\"{\\\"type\\\": \\\"Point\\\", \\\"coordinates\\\": [-73.98602213, 40.74096374]}\",\"{\\\"type\\\": \\\"Point\\\", \\\"coordinates\\\": [-73.97634151, 40.76590936]}\",\"{\\\"type\\\": \\\"Point\\\", \\\"coordinates\\\": [-73.9891862869, 40.7428687731]}\",\"{\\\"type\\\": \\\"Point\\\", \\\"coordinates\\\": [-74.00277668, 40.76087502]}\",\"{\\\"type\\\": \\\"Point\\\", \\\"coordinates\\\": [-73.99456405, 40.73971301]}\",\"{\\\"type\\\": \\\"Point\\\", \\\"coordinates\\\": [-73.9845272899, 40.760683271]}\",\"{\\\"type\\\": \\\"Point\\\", \\\"coordinates\\\": [-73.9635556, 40.793393]}\",\"{\\\"type\\\": \\\"Point\\\", \\\"coordinates\\\": [-73.98336183, 40.76228826]}\",\"{\\\"type\\\": \\\"Point\\\", \\\"coordinates\\\": [-73.990752697, 40.7295149622]}\",\"{\\\"type\\\": \\\"Point\\\", \\\"coordinates\\\": [-73.95818491, 40.76500525]}\",\"{\\\"type\\\": \\\"Point\\\", \\\"coordinates\\\": [-73.981013, 40.689888]}\",\"{\\\"type\\\": \\\"Point\\\", \\\"coordinates\\\": [-73.9686539769, 40.7589965596]}\",\"{\\\"type\\\": \\\"Point\\\", \\\"coordinates\\\": [-73.98316936, 40.75527307]}\",\"{\\\"type\\\": \\\"Point\\\", \\\"coordinates\\\": [-73.97498696, 40.75510267]}\",\"{\\\"type\\\": \\\"Point\\\", \\\"coordinates\\\": [-73.99009296, 40.73704984]}\"],\n",
       "'num_bikes_available':[31.0,35.0,33.0,35.0,39.0,34.0,38.0,37.0,52.0,33.0,32.0,35.0,35.0,31.0,32.0,31.0,41.0,42.0,34.0,34.0,41.0,45.0,32.0,37.0,32.0,35.0,41.0,56.0,32.0,38.0,43.0,37.0,44.0,37.0,31.0,35.0,31.0,36.0,41.0,42.0,31.0,35.0,34.0,34.0,35.0]\n",
       "},\n",
       "'mapping':{\n",
       "'size':\"num_bikes_available\"\n",
       "},\n",
       "'data_meta':{\n",
       "'geodataframe':{\n",
       "'geometry':\"WKT\"\n",
       "}\n",
       "},\n",
       "'color':\"#0000ff\",\n",
       "'alpha':0.5\n",
       "}]\n",
       "};\n",
       "           var plotContainer = document.getElementById(\"9RNsne\");\n",
       "           window.letsPlotCall(function() {{\n",
       "               LetsPlot.buildPlotFromProcessedSpecs(plotSpec, -1, -1, plotContainer);\n",
       "           }});\n",
       "       })();    \n",
       "   </script>"
      ],
      "text/plain": [
       "<lets_plot.plot.core.PlotSpec at 0xad5bf70>"
      ]
     },
     "execution_count": 5,
     "metadata": {},
     "output_type": "execute_result"
    }
   ],
   "source": [
    "ggplot() + \\\n",
    "    geom_livemap(zoom=11) + \\\n",
    "    geom_point(aes(size='num_bikes_available'), data=gdf, color='#0000ff', alpha=.5) + \\\n",
    "    scale_size(range=[4, 8], name='available bikes') + \\\n",
    "    ggtitle('Number of Bikes Available at the Location of NYC') + \\\n",
    "    ggsize(600, 450)"
   ]
  }
 ],
 "metadata": {
  "kernelspec": {
   "display_name": "Python 3",
   "language": "python",
   "name": "python3"
  },
  "language_info": {
   "codemirror_mode": {
    "name": "ipython",
    "version": 3
   },
   "file_extension": ".py",
   "mimetype": "text/x-python",
   "name": "python",
   "nbconvert_exporter": "python",
   "pygments_lexer": "ipython3",
   "version": "3.8.10"
  },
  "pycharm": {
   "stem_cell": {
    "cell_type": "raw",
    "metadata": {
     "collapsed": false
    },
    "source": []
   }
  }
 },
 "nbformat": 4,
 "nbformat_minor": 2
}
