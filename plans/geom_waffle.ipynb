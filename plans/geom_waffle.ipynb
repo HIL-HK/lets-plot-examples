{
 "cells": [
  {
   "cell_type": "markdown",
   "metadata": {},
   "source": [
    "# Possible New Geometry - Waffle Chart\n",
    "\n",
    "It could be an alternative to the pie charts. It is only proof of concept, it is not in the library now.\n",
    "\n",
    "Data for the notebook originally comes from [here](https://data.world/datanerd/cat-vs-dog-popularity-in-u-s)."
   ]
  },
  {
   "cell_type": "code",
   "execution_count": 1,
   "metadata": {},
   "outputs": [
    {
     "data": {
      "text/html": [
       "\n",
       "            <div id=\"eVaZLI\"></div>\n",
       "            <script type=\"text/javascript\" data-lets-plot-script=\"library\">\n",
       "                if(!window.letsPlotCallQueue) {\n",
       "                    window.letsPlotCallQueue = [];\n",
       "                }; \n",
       "                window.letsPlotCall = function(f) {\n",
       "                    window.letsPlotCallQueue.push(f);\n",
       "                };\n",
       "                (function() {\n",
       "                    var script = document.createElement(\"script\");\n",
       "                    script.type = \"text/javascript\";\n",
       "                    script.src = \"https://cdn.jsdelivr.net/gh/JetBrains/lets-plot@v4.4.1/js-package/distr/lets-plot.min.js\";\n",
       "                    script.onload = function() {\n",
       "                        window.letsPlotCall = function(f) {f();};\n",
       "                        window.letsPlotCallQueue.forEach(function(f) {f();});\n",
       "                        window.letsPlotCallQueue = [];\n",
       "                        \n",
       "                    };\n",
       "                    script.onerror = function(event) {\n",
       "                        window.letsPlotCall = function(f) {};    // noop\n",
       "                        window.letsPlotCallQueue = [];\n",
       "                        var div = document.createElement(\"div\");\n",
       "                        div.style.color = 'darkred';\n",
       "                        div.textContent = 'Error loading Lets-Plot JS';\n",
       "                        document.getElementById(\"eVaZLI\").appendChild(div);\n",
       "                    };\n",
       "                    var e = document.getElementById(\"eVaZLI\");\n",
       "                    e.appendChild(script);\n",
       "                })()\n",
       "            </script>\n",
       "            "
      ]
     },
     "metadata": {},
     "output_type": "display_data"
    }
   ],
   "source": [
    "from io import BytesIO\n",
    "import requests\n",
    "\n",
    "import numpy as np\n",
    "import pandas as pd\n",
    "from PIL import Image\n",
    "\n",
    "from lets_plot import *\n",
    "LetsPlot.setup_html()\n",
    "\n",
    "from geoms.waffle import *"
   ]
  },
  {
   "cell_type": "code",
   "execution_count": 2,
   "metadata": {},
   "outputs": [],
   "source": [
    "df = pd.read_csv('https://raw.githubusercontent.com/HIL-HK/lets-plot-examples/master/data/cats_vs_dogs.csv')"
   ]
  },
  {
   "cell_type": "code",
   "execution_count": 3,
   "metadata": {},
   "outputs": [],
   "source": [
    "cat_cols = ['Location']\n",
    "num_cols = ['Dog Owning Households (1000s)', 'Cat Owning Households']\n",
    "df = df[cat_cols + num_cols]\n",
    "for column in num_cols:\n",
    "    df[column] = df[column].str.replace(' ', '').astype(int)"
   ]
  },
  {
   "cell_type": "code",
   "execution_count": 4,
   "metadata": {},
   "outputs": [
    {
     "data": {
      "text/html": [
       "<div>\n",
       "<style scoped>\n",
       "    .dataframe tbody tr th:only-of-type {\n",
       "        vertical-align: middle;\n",
       "    }\n",
       "\n",
       "    .dataframe tbody tr th {\n",
       "        vertical-align: top;\n",
       "    }\n",
       "\n",
       "    .dataframe thead th {\n",
       "        text-align: right;\n",
       "    }\n",
       "</style>\n",
       "<table border=\"1\" class=\"dataframe\">\n",
       "  <thead>\n",
       "    <tr style=\"text-align: right;\">\n",
       "      <th></th>\n",
       "      <th>Location</th>\n",
       "      <th>Dog Owning Households (1000s)</th>\n",
       "      <th>Cat Owning Households</th>\n",
       "      <th>More Popular Pet Type</th>\n",
       "    </tr>\n",
       "  </thead>\n",
       "  <tbody>\n",
       "    <tr>\n",
       "      <th>0</th>\n",
       "      <td>Alabama</td>\n",
       "      <td>807</td>\n",
       "      <td>501</td>\n",
       "      <td>Dog</td>\n",
       "    </tr>\n",
       "    <tr>\n",
       "      <th>1</th>\n",
       "      <td>Arizona</td>\n",
       "      <td>1008</td>\n",
       "      <td>743</td>\n",
       "      <td>Dog</td>\n",
       "    </tr>\n",
       "    <tr>\n",
       "      <th>2</th>\n",
       "      <td>Arkansas</td>\n",
       "      <td>550</td>\n",
       "      <td>351</td>\n",
       "      <td>Dog</td>\n",
       "    </tr>\n",
       "    <tr>\n",
       "      <th>3</th>\n",
       "      <td>California</td>\n",
       "      <td>4260</td>\n",
       "      <td>3687</td>\n",
       "      <td>Dog</td>\n",
       "    </tr>\n",
       "    <tr>\n",
       "      <th>4</th>\n",
       "      <td>Colorado</td>\n",
       "      <td>845</td>\n",
       "      <td>642</td>\n",
       "      <td>Dog</td>\n",
       "    </tr>\n",
       "  </tbody>\n",
       "</table>\n",
       "</div>"
      ],
      "text/plain": [
       "     Location  Dog Owning Households (1000s)  Cat Owning Households  \\\n",
       "0     Alabama                            807                    501   \n",
       "1     Arizona                           1008                    743   \n",
       "2    Arkansas                            550                    351   \n",
       "3  California                           4260                   3687   \n",
       "4    Colorado                            845                    642   \n",
       "\n",
       "  More Popular Pet Type  \n",
       "0                   Dog  \n",
       "1                   Dog  \n",
       "2                   Dog  \n",
       "3                   Dog  \n",
       "4                   Dog  "
      ]
     },
     "execution_count": 4,
     "metadata": {},
     "output_type": "execute_result"
    }
   ],
   "source": [
    "def get_classifier(*, alpha=1.0/3.0):\n",
    "    if alpha < 0 or alpha >= 1:\n",
    "        raise Exception('Bad alpha: %f' % alpha)\n",
    "    def classifier(data):\n",
    "        ratio = data['Dog Owning Households (1000s)'] / data['Cat Owning Households']\n",
    "        data['More Popular Pet Type'] = 'Cat' if ratio <= (1 - alpha) / (1 + alpha) \\\n",
    "                                              else ('Dog' if ratio >= (1 + alpha) / (1 - alpha) else 'Both')\n",
    "        return data\n",
    "    return classifier\n",
    "\n",
    "df['More Popular Pet Type'] = None\n",
    "df = df.apply(get_classifier(alpha=.05), axis=1)\n",
    "df.head()"
   ]
  },
  {
   "cell_type": "code",
   "execution_count": 5,
   "metadata": {},
   "outputs": [
    {
     "data": {
      "text/html": [
       "<div>\n",
       "<style scoped>\n",
       "    .dataframe tbody tr th:only-of-type {\n",
       "        vertical-align: middle;\n",
       "    }\n",
       "\n",
       "    .dataframe tbody tr th {\n",
       "        vertical-align: top;\n",
       "    }\n",
       "\n",
       "    .dataframe thead th {\n",
       "        text-align: right;\n",
       "    }\n",
       "</style>\n",
       "<table border=\"1\" class=\"dataframe\">\n",
       "  <thead>\n",
       "    <tr style=\"text-align: right;\">\n",
       "      <th></th>\n",
       "      <th>More Popular Pet Type</th>\n",
       "      <th>Count</th>\n",
       "    </tr>\n",
       "  </thead>\n",
       "  <tbody>\n",
       "    <tr>\n",
       "      <th>0</th>\n",
       "      <td>Both</td>\n",
       "      <td>13</td>\n",
       "    </tr>\n",
       "    <tr>\n",
       "      <th>1</th>\n",
       "      <td>Cat</td>\n",
       "      <td>5</td>\n",
       "    </tr>\n",
       "    <tr>\n",
       "      <th>2</th>\n",
       "      <td>Dog</td>\n",
       "      <td>31</td>\n",
       "    </tr>\n",
       "  </tbody>\n",
       "</table>\n",
       "</div>"
      ],
      "text/plain": [
       "  More Popular Pet Type  Count\n",
       "0                  Both     13\n",
       "1                   Cat      5\n",
       "2                   Dog     31"
      ]
     },
     "execution_count": 5,
     "metadata": {},
     "output_type": "execute_result"
    }
   ],
   "source": [
    "combined_df = df.groupby('More Popular Pet Type')['Location'].count().reset_index()\n",
    "combined_df.columns = ['More Popular Pet Type', 'Count']\n",
    "combined_df"
   ]
  },
  {
   "cell_type": "markdown",
   "metadata": {},
   "source": [
    "## Chart by Default"
   ]
  },
  {
   "cell_type": "code",
   "execution_count": 6,
   "metadata": {},
   "outputs": [
    {
     "data": {
      "text/html": [
       "   <div id=\"8BtKxw\"></div>\n",
       "   <script type=\"text/javascript\" data-lets-plot-script=\"plot\">\n",
       "       (function() {\n",
       "           var plotSpec={\n",
       "\"__error_message\":\"Not an aesthetic: 'value'\"\n",
       "};\n",
       "           var plotContainer = document.getElementById(\"8BtKxw\");\n",
       "           window.letsPlotCall(function() {{\n",
       "               LetsPlot.buildPlotFromProcessedSpecs(plotSpec, -1, -1, plotContainer);\n",
       "           }});\n",
       "       })();\n",
       "   </script>"
      ],
      "text/plain": [
       "<lets_plot.plot.core.PlotSpec at 0x148abe400>"
      ]
     },
     "execution_count": 6,
     "metadata": {},
     "output_type": "execute_result"
    }
   ],
   "source": [
    "ggplot() + \\\n",
    "    geom_waffle(aes(value='Count', group='More Popular Pet Type', fill='More Popular Pet Type'), combined_df) + \\\n",
    "    ggtitle('Dog and Cat Popularity in US') + \\\n",
    "    theme(axis_title='blank', axis_text='blank', axis_ticks='blank', axis_line='blank')"
   ]
  },
  {
   "cell_type": "markdown",
   "metadata": {},
   "source": [
    "## Chart with Changed Sizes"
   ]
  },
  {
   "cell_type": "code",
   "execution_count": 7,
   "metadata": {},
   "outputs": [
    {
     "data": {
      "text/html": [
       "   <div id=\"IqaiwY\"></div>\n",
       "   <script type=\"text/javascript\" data-lets-plot-script=\"plot\">\n",
       "       (function() {\n",
       "           var plotSpec={\n",
       "\"__error_message\":\"Not an aesthetic: 'value'\"\n",
       "};\n",
       "           var plotContainer = document.getElementById(\"IqaiwY\");\n",
       "           window.letsPlotCall(function() {{\n",
       "               LetsPlot.buildPlotFromProcessedSpecs(plotSpec, -1, -1, plotContainer);\n",
       "           }});\n",
       "       })();\n",
       "   </script>"
      ],
      "text/plain": [
       "<lets_plot.plot.core.PlotSpec at 0x148fbaeb0>"
      ]
     },
     "execution_count": 7,
     "metadata": {},
     "output_type": "execute_result"
    }
   ],
   "source": [
    "ggplot() + \\\n",
    "    geom_waffle(aes(value='Count', group='More Popular Pet Type', fill='More Popular Pet Type'), \\\n",
    "                combined_df, chart_shape=(16, 12), cell_shape=(.8, .6), color='black', size=1) + \\\n",
    "    ggtitle('Dog and Cat Popularity in US') + \\\n",
    "    theme(axis_title='blank', axis_text='blank', axis_ticks='blank', axis_line='blank')"
   ]
  },
  {
   "cell_type": "markdown",
   "metadata": {},
   "source": [
    "## Customize Shape and Coloring"
   ]
  },
  {
   "cell_type": "code",
   "execution_count": 8,
   "metadata": {},
   "outputs": [
    {
     "data": {
      "text/html": [
       "   <div id=\"V14jso\"></div>\n",
       "   <script type=\"text/javascript\" data-lets-plot-script=\"plot\">\n",
       "       (function() {\n",
       "           var plotSpec={\n",
       "\"__error_message\":\"Not an aesthetic: 'value'\"\n",
       "};\n",
       "           var plotContainer = document.getElementById(\"V14jso\");\n",
       "           window.letsPlotCall(function() {{\n",
       "               LetsPlot.buildPlotFromProcessedSpecs(plotSpec, -1, -1, plotContainer);\n",
       "           }});\n",
       "       })();\n",
       "   </script>"
      ],
      "text/plain": [
       "<lets_plot.plot.core.PlotSpec at 0x148fd7970>"
      ]
     },
     "execution_count": 8,
     "metadata": {},
     "output_type": "execute_result"
    }
   ],
   "source": [
    "grid = np.matrix([\n",
    "    [0, 0, 0, 0, 0, 1, 0, 0, 0, 0, 0],\n",
    "    [0, 0, 0, 0, 1, 1, 1, 0, 0, 0, 0],\n",
    "    [0, 0, 0, 1, 1, 1, 1, 1, 0, 0, 0],\n",
    "    [0, 0, 1, 1, 1, 1, 1, 1, 1, 0, 0],\n",
    "    [0, 1, 1, 1, 1, 1, 1, 1, 1, 1, 0],\n",
    "    [1, 1, 1, 1, 1, 1, 1, 1, 1, 1, 1],\n",
    "    [0, 1, 1, 1, 1, 1, 1, 1, 1, 1, 0],\n",
    "    [0, 0, 1, 1, 1, 1, 1, 1, 1, 0, 0],\n",
    "    [0, 0, 0, 1, 1, 1, 1, 1, 0, 0, 0],\n",
    "    [0, 0, 0, 0, 1, 1, 1, 0, 0, 0, 0],\n",
    "    [0, 0, 0, 0, 0, 1, 0, 0, 0, 0, 0],\n",
    "])\n",
    "\n",
    "ggplot() + \\\n",
    "    geom_waffle(aes(value='Count', group='More Popular Pet Type', fill='More Popular Pet Type'), \\\n",
    "                combined_df, grid=grid) + \\\n",
    "    scale_fill_manual(values=['#e41a1c', '#377eb8', '#4daf4a']) + \\\n",
    "    ggtitle('Dog and Cat Popularity in US') + \\\n",
    "    theme(axis_title='blank', axis_text='blank', axis_ticks='blank', axis_line='blank')"
   ]
  },
  {
   "cell_type": "markdown",
   "metadata": {},
   "source": [
    "## Example of Using JPEG Mask for More Complicated Chart Shape"
   ]
  },
  {
   "cell_type": "code",
   "execution_count": 9,
   "metadata": {},
   "outputs": [
    {
     "data": {
      "text/html": [
       "   <div id=\"1TDL7B\"></div>\n",
       "   <script type=\"text/javascript\" data-lets-plot-script=\"plot\">\n",
       "       (function() {\n",
       "           var plotSpec={\n",
       "\"__error_message\":\"Not an aesthetic: 'value'\"\n",
       "};\n",
       "           var plotContainer = document.getElementById(\"1TDL7B\");\n",
       "           window.letsPlotCall(function() {{\n",
       "               LetsPlot.buildPlotFromProcessedSpecs(plotSpec, -1, -1, plotContainer);\n",
       "           }});\n",
       "       })();\n",
       "   </script>"
      ],
      "text/plain": [
       "<lets_plot.plot.core.PlotSpec at 0x14ae680d0>"
      ]
     },
     "execution_count": 9,
     "metadata": {},
     "output_type": "execute_result"
    }
   ],
   "source": [
    "MASK_WIDTH, MASK_HEIGHT = 40, 40\n",
    "cat_mask_data = requests.get('https://raw.githubusercontent.com'\n",
    "                             '/HIL-HK/lets-plot-examples/master/data/images/cat_mask.jpeg')\n",
    "cat_mask = np.array(Image.open(BytesIO(cat_mask_data.content)).resize((MASK_WIDTH, MASK_HEIGHT), Image.BILINEAR))\n",
    "grid = [[(0 if color.mean() > 255 / 2 else 1) for color in row] for row in cat_mask]\n",
    "\n",
    "ggplot() + \\\n",
    "    geom_waffle(aes(value='Count', group='More Popular Pet Type', fill='More Popular Pet Type'), \\\n",
    "                combined_df, grid=grid) + \\\n",
    "    scale_fill_manual(values=['#800026', '#fc4e2a', '#fed976']) + \\\n",
    "    ggtitle('Dog and Cat Popularity in US') + \\\n",
    "    ggsize(600, 450) + \\\n",
    "    theme(axis_title='blank', axis_text='blank', axis_ticks='blank', axis_line='blank')"
   ]
  }
 ],
 "metadata": {
  "kernelspec": {
   "display_name": "Python 3 (ipykernel)",
   "language": "python",
   "name": "python3"
  },
  "language_info": {
   "codemirror_mode": {
    "name": "ipython",
    "version": 3
   },
   "file_extension": ".py",
   "mimetype": "text/x-python",
   "name": "python",
   "nbconvert_exporter": "python",
   "pygments_lexer": "ipython3",
   "version": "3.8.19"
  }
 },
 "nbformat": 4,
 "nbformat_minor": 4
}
