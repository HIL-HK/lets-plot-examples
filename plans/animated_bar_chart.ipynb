{
 "cells": [
  {
   "cell_type": "markdown",
   "metadata": {},
   "source": [
    "# Nobel Prize Laureates\n",
    "\n",
    "In the notebook we want to visualize the dynamics of increase of Nobel Prize laureates by country in the period from 1901 to 2019. For this we will use the animated bar chart.\n",
    "\n",
    "Data comes from [Kaggle](https://www.kaggle.com/bahramjannesarr/nobel-prize-from-1901-till-2020)."
   ]
  },
  {
   "cell_type": "code",
   "execution_count": 1,
   "metadata": {},
   "outputs": [
    {
     "data": {
      "text/html": [
       "\n",
       "            <div id=\"6xaPqU\"></div>\n",
       "            <script type=\"text/javascript\" data-lets-plot-script=\"library\">\n",
       "                if(!window.letsPlotCallQueue) {\n",
       "                    window.letsPlotCallQueue = [];\n",
       "                }; \n",
       "                window.letsPlotCall = function(f) {\n",
       "                    window.letsPlotCallQueue.push(f);\n",
       "                };\n",
       "                (function() {\n",
       "                    var script = document.createElement(\"script\");\n",
       "                    script.type = \"text/javascript\";\n",
       "                    script.src = \"https://dl.bintray.com/jetbrains/lets-plot/lets-plot-1.5.4.min.js\";\n",
       "                    script.onload = function() {\n",
       "                        window.letsPlotCall = function(f) {f();};\n",
       "                        window.letsPlotCallQueue.forEach(function(f) {f();});\n",
       "                        window.letsPlotCallQueue = [];\n",
       "                        \n",
       "                    };\n",
       "                    script.onerror = function(event) {\n",
       "                        window.letsPlotCall = function(f) {};    // noop\n",
       "                        window.letsPlotCallQueue = [];\n",
       "                        var div = document.createElement(\"div\");\n",
       "                        div.style.color = 'darkred';\n",
       "                        div.textContent = 'Error loading Lets-Plot JS';\n",
       "                        document.getElementById(\"6xaPqU\").appendChild(div);\n",
       "                    };\n",
       "                    var e = document.getElementById(\"6xaPqU\");\n",
       "                    e.appendChild(script);\n",
       "                })()\n",
       "            </script>\n",
       "            "
      ]
     },
     "metadata": {},
     "output_type": "display_data"
    }
   ],
   "source": [
    "import pandas as pd\n",
    "import colorcet as cc\n",
    "\n",
    "from lets_plot import *\n",
    "LetsPlot.setup_html()"
   ]
  },
  {
   "cell_type": "markdown",
   "metadata": {},
   "source": [
    "## Preparation"
   ]
  },
  {
   "cell_type": "code",
   "execution_count": 2,
   "metadata": {},
   "outputs": [],
   "source": [
    "def cramers_corrected_stat(x, y):\n",
    "    import numpy as np\n",
    "    import scipy.stats as ss\n",
    "    \n",
    "    confusion_matrix = pd.crosstab(x, y).to_numpy()\n",
    "    chi2 = ss.chi2_contingency(confusion_matrix)[0]\n",
    "    n = confusion_matrix.sum()\n",
    "    return np.sqrt(chi2 / (n * (min(confusion_matrix.shape) - 1)))\n",
    "\n",
    "def cramers_corr(df):\n",
    "    from itertools import product\n",
    "    \n",
    "    index = pd.MultiIndex.from_tuples(product(*([df.select_dtypes(include='category').columns] * 2)), \\\n",
    "                                      names=['col1', 'col2'])\n",
    "    corr_df = pd.Series(data=index.map(lambda p: cramers_corrected_stat(df[p[0]], df[p[1]])), \\\n",
    "                        index=index, name='corr').to_frame()\n",
    "    return corr_df.reset_index().pivot(index='col1', columns='col2', values='corr')"
   ]
  },
  {
   "cell_type": "code",
   "execution_count": 3,
   "metadata": {},
   "outputs": [],
   "source": [
    "def plot_corr_matrix(corr_df):\n",
    "    cols_enum = {name: index for index, name in enumerate(corr_df.columns)}\n",
    "    stacked_corr_df = corr_df.stack().reset_index()\n",
    "    stacked_corr_df.columns = ['col1', 'col2', 'corr']\n",
    "    stacked_corr_df['x'] = stacked_corr_df.col1.apply(lambda name: cols_enum[name])\n",
    "    stacked_corr_df['y'] = stacked_corr_df.col2.apply(lambda name: cols_enum[name])\n",
    "\n",
    "    return ggplot() + \\\n",
    "        geom_point(aes(x='x', y='y', fill='corr'), \\\n",
    "                   data=stacked_corr_df, color='#bd0026', shape=22, size=18, \\\n",
    "                   tooltips=layer_tooltips().line('(@col1, @col2)')\\\n",
    "                                            .format('@corr', '.2f').line('correlation value|@corr')) + \\\n",
    "        scale_fill_gradient(name='correlation', low='#ffeda0', high='#f03b20') + \\\n",
    "        scale_x_discrete(labels=list(cols_enum.keys())) + \\\n",
    "        scale_y_discrete(limits=list(cols_enum.values())[::-1], labels=list(cols_enum.keys())) + \\\n",
    "        ggtitle('Cramer\\'s V Correlation for Categorical Features') + \\\n",
    "        ggsize(600, 500) + \\\n",
    "        theme(axis_title='blank', axis_line='blank')"
   ]
  },
  {
   "cell_type": "code",
   "execution_count": 4,
   "metadata": {},
   "outputs": [],
   "source": [
    "def player_widget(plots, *, fps=1):\n",
    "    from ipywidgets import widgets as wg\n",
    "    \n",
    "    interval = max(1, int(1000 / fps))\n",
    "    player = wg.Play(min=0, max=len(plots) - 1, step=1, value=0, interval=interval)\n",
    "    slider = wg.IntSlider(min=0, max=len(plots) - 1, step=1, value=0)\n",
    "    wg.jslink((player, 'value'), (slider, 'value'))\n",
    "    widget = wg.HBox([player, slider])\n",
    "    iout = wg.interactive_output(lambda n, m: display(plots[n]), {'n': slider, 'm': player})\n",
    "    return display(widget, iout)"
   ]
  },
  {
   "cell_type": "markdown",
   "metadata": {},
   "source": [
    "## Data Exploration"
   ]
  },
  {
   "cell_type": "code",
   "execution_count": 5,
   "metadata": {},
   "outputs": [],
   "source": [
    "df = pd.read_csv('https://raw.githubusercontent.com/HIL-HK/lets-plot-examples/master/data/nobel.csv')"
   ]
  },
  {
   "cell_type": "code",
   "execution_count": 6,
   "metadata": {},
   "outputs": [
    {
     "data": {
      "text/html": [
       "<div>\n",
       "<style scoped>\n",
       "    .dataframe tbody tr th:only-of-type {\n",
       "        vertical-align: middle;\n",
       "    }\n",
       "\n",
       "    .dataframe tbody tr th {\n",
       "        vertical-align: top;\n",
       "    }\n",
       "\n",
       "    .dataframe thead th {\n",
       "        text-align: right;\n",
       "    }\n",
       "</style>\n",
       "<table border=\"1\" class=\"dataframe\">\n",
       "  <thead>\n",
       "    <tr style=\"text-align: right;\">\n",
       "      <th></th>\n",
       "      <th>firstname</th>\n",
       "      <th>surname</th>\n",
       "      <th>born_country_code</th>\n",
       "      <th>died_country_code</th>\n",
       "      <th>gender</th>\n",
       "      <th>year</th>\n",
       "      <th>category</th>\n",
       "      <th>share</th>\n",
       "      <th>name_of_university</th>\n",
       "      <th>city_of_university</th>\n",
       "      <th>country_of_university</th>\n",
       "      <th>born_month</th>\n",
       "      <th>age</th>\n",
       "      <th>age_get_prize</th>\n",
       "    </tr>\n",
       "  </thead>\n",
       "  <tbody>\n",
       "    <tr>\n",
       "      <th>0</th>\n",
       "      <td>Wilhelm Conrad</td>\n",
       "      <td>Röntgen</td>\n",
       "      <td>DE</td>\n",
       "      <td>DE</td>\n",
       "      <td>male</td>\n",
       "      <td>1901</td>\n",
       "      <td>physics</td>\n",
       "      <td>1</td>\n",
       "      <td>Munich University</td>\n",
       "      <td>Munich</td>\n",
       "      <td>Germany</td>\n",
       "      <td>Mar</td>\n",
       "      <td>78</td>\n",
       "      <td>56</td>\n",
       "    </tr>\n",
       "    <tr>\n",
       "      <th>1</th>\n",
       "      <td>Hendrik A.</td>\n",
       "      <td>Lorentz</td>\n",
       "      <td>NL</td>\n",
       "      <td>NL</td>\n",
       "      <td>male</td>\n",
       "      <td>1902</td>\n",
       "      <td>physics</td>\n",
       "      <td>2</td>\n",
       "      <td>Leiden University</td>\n",
       "      <td>Leiden</td>\n",
       "      <td>the Netherlands</td>\n",
       "      <td>Jul</td>\n",
       "      <td>75</td>\n",
       "      <td>49</td>\n",
       "    </tr>\n",
       "    <tr>\n",
       "      <th>2</th>\n",
       "      <td>Pieter</td>\n",
       "      <td>Zeeman</td>\n",
       "      <td>NL</td>\n",
       "      <td>NL</td>\n",
       "      <td>male</td>\n",
       "      <td>1902</td>\n",
       "      <td>physics</td>\n",
       "      <td>2</td>\n",
       "      <td>Amsterdam University</td>\n",
       "      <td>Amsterdam</td>\n",
       "      <td>the Netherlands</td>\n",
       "      <td>May</td>\n",
       "      <td>78</td>\n",
       "      <td>37</td>\n",
       "    </tr>\n",
       "    <tr>\n",
       "      <th>3</th>\n",
       "      <td>Henri</td>\n",
       "      <td>Becquerel</td>\n",
       "      <td>FR</td>\n",
       "      <td>FR</td>\n",
       "      <td>male</td>\n",
       "      <td>1903</td>\n",
       "      <td>physics</td>\n",
       "      <td>2</td>\n",
       "      <td>École Polytechnique</td>\n",
       "      <td>Paris</td>\n",
       "      <td>France</td>\n",
       "      <td>Dec</td>\n",
       "      <td>56</td>\n",
       "      <td>51</td>\n",
       "    </tr>\n",
       "    <tr>\n",
       "      <th>4</th>\n",
       "      <td>Pierre</td>\n",
       "      <td>Curie</td>\n",
       "      <td>FR</td>\n",
       "      <td>FR</td>\n",
       "      <td>male</td>\n",
       "      <td>1903</td>\n",
       "      <td>physics</td>\n",
       "      <td>4</td>\n",
       "      <td>École municipale de physique et de chimie indu...</td>\n",
       "      <td>Paris</td>\n",
       "      <td>France</td>\n",
       "      <td>May</td>\n",
       "      <td>47</td>\n",
       "      <td>44</td>\n",
       "    </tr>\n",
       "  </tbody>\n",
       "</table>\n",
       "</div>"
      ],
      "text/plain": [
       "        firstname    surname born_country_code died_country_code gender  year  \\\n",
       "0  Wilhelm Conrad    Röntgen                DE                DE   male  1901   \n",
       "1      Hendrik A.    Lorentz                NL                NL   male  1902   \n",
       "2          Pieter     Zeeman                NL                NL   male  1902   \n",
       "3           Henri  Becquerel                FR                FR   male  1903   \n",
       "4          Pierre      Curie                FR                FR   male  1903   \n",
       "\n",
       "  category  share                                 name_of_university  \\\n",
       "0  physics      1                                  Munich University   \n",
       "1  physics      2                                  Leiden University   \n",
       "2  physics      2                               Amsterdam University   \n",
       "3  physics      2                                École Polytechnique   \n",
       "4  physics      4  École municipale de physique et de chimie indu...   \n",
       "\n",
       "  city_of_university country_of_university born_month  age  age_get_prize  \n",
       "0             Munich               Germany        Mar   78             56  \n",
       "1             Leiden       the Netherlands        Jul   75             49  \n",
       "2          Amsterdam       the Netherlands        May   78             37  \n",
       "3              Paris                France        Dec   56             51  \n",
       "4              Paris                France        May   47             44  "
      ]
     },
     "execution_count": 6,
     "metadata": {},
     "output_type": "execute_result"
    }
   ],
   "source": [
    "df.head()"
   ]
  },
  {
   "cell_type": "code",
   "execution_count": 7,
   "metadata": {},
   "outputs": [
    {
     "data": {
      "text/plain": [
       "firstname                923\n",
       "surname                  919\n",
       "born_country_code        923\n",
       "died_country_code        311\n",
       "gender                   923\n",
       "year                     923\n",
       "category                 923\n",
       "share                    923\n",
       "name_of_university       471\n",
       "city_of_university       461\n",
       "country_of_university    463\n",
       "born_month               923\n",
       "age                      923\n",
       "age_get_prize            923\n",
       "dtype: int64"
      ]
     },
     "execution_count": 7,
     "metadata": {},
     "output_type": "execute_result"
    }
   ],
   "source": [
    "df.count() - df.isna().sum()"
   ]
  },
  {
   "cell_type": "code",
   "execution_count": 8,
   "metadata": {},
   "outputs": [],
   "source": [
    "cat_cols = ['born_country_code', 'died_country_code', 'gender', \\\n",
    "            'category', 'share', 'country_of_university', 'born_month']\n",
    "for column in cat_cols:\n",
    "    df[column] = df[column].astype('category')"
   ]
  },
  {
   "cell_type": "code",
   "execution_count": 9,
   "metadata": {},
   "outputs": [
    {
     "data": {
      "text/html": [
       "   <div id=\"guSLC3\"></div>\n",
       "   <script type=\"text/javascript\" data-lets-plot-script=\"plot\">\n",
       "       (function() {\n",
       "           var plotSpec={\n",
       "'mapping':{\n",
       "},\n",
       "'data_meta':{\n",
       "},\n",
       "'ggtitle':{\n",
       "'text':\"Cramer's V Correlation for Categorical Features\"\n",
       "},\n",
       "'ggsize':{\n",
       "'width':600,\n",
       "'height':500\n",
       "},\n",
       "'theme':{\n",
       "'axis_title':\"blank\",\n",
       "'axis_line':\"blank\"\n",
       "},\n",
       "'kind':\"plot\",\n",
       "'scales':[{\n",
       "'name':\"correlation\",\n",
       "'aesthetic':\"fill\",\n",
       "'low':\"#ffeda0\",\n",
       "'high':\"#f03b20\",\n",
       "'scale_mapper_kind':\"color_gradient\"\n",
       "},{\n",
       "'aesthetic':\"x\",\n",
       "'labels':[\"born_country_code\",\"born_month\",\"category\",\"country_of_university\",\"died_country_code\",\"gender\",\"share\"],\n",
       "'discrete':true,\n",
       "'reverse':false\n",
       "},{\n",
       "'aesthetic':\"y\",\n",
       "'labels':[\"born_country_code\",\"born_month\",\"category\",\"country_of_university\",\"died_country_code\",\"gender\",\"share\"],\n",
       "'limits':[6,5,4,3,2,1,0],\n",
       "'discrete':true,\n",
       "'reverse':false\n",
       "}],\n",
       "'layers':[{\n",
       "'geom':\"point\",\n",
       "'data':{\n",
       "'col1':[\"born_country_code\",\"born_country_code\",\"born_country_code\",\"born_country_code\",\"born_country_code\",\"born_country_code\",\"born_country_code\",\"born_month\",\"born_month\",\"born_month\",\"born_month\",\"born_month\",\"born_month\",\"born_month\",\"category\",\"category\",\"category\",\"category\",\"category\",\"category\",\"category\",\"country_of_university\",\"country_of_university\",\"country_of_university\",\"country_of_university\",\"country_of_university\",\"country_of_university\",\"country_of_university\",\"died_country_code\",\"died_country_code\",\"died_country_code\",\"died_country_code\",\"died_country_code\",\"died_country_code\",\"died_country_code\",\"gender\",\"gender\",\"gender\",\"gender\",\"gender\",\"gender\",\"gender\",\"share\",\"share\",\"share\",\"share\",\"share\",\"share\",\"share\"],\n",
       "'col2':[\"born_country_code\",\"born_month\",\"category\",\"country_of_university\",\"died_country_code\",\"gender\",\"share\",\"born_country_code\",\"born_month\",\"category\",\"country_of_university\",\"died_country_code\",\"gender\",\"share\",\"born_country_code\",\"born_month\",\"category\",\"country_of_university\",\"died_country_code\",\"gender\",\"share\",\"born_country_code\",\"born_month\",\"category\",\"country_of_university\",\"died_country_code\",\"gender\",\"share\",\"born_country_code\",\"born_month\",\"category\",\"country_of_university\",\"died_country_code\",\"gender\",\"share\",\"born_country_code\",\"born_month\",\"category\",\"country_of_university\",\"died_country_code\",\"gender\",\"share\",\"born_country_code\",\"born_month\",\"category\",\"country_of_university\",\"died_country_code\",\"gender\",\"share\"],\n",
       "'corr':[1.0,0.30250861772508636,0.35207442460019844,0.6513092935690954,0.6899224760915381,0.4726127187658592,0.30731069760458674,0.3025086177250864,1.0,0.08243372171033149,0.20143917346701226,0.28502595387323276,0.12569781076786976,0.13142260414239812,0.35207442460019844,0.08243372171033148,1.0,0.21532150053187737,0.3376041438307685,0.21566178112969855,0.3290526418211459,0.6513092935690953,0.20143917346701226,0.21532150053187737,1.0,0.8074890993514977,0.2857330640216045,0.2471968351435627,0.6899224760915381,0.28502595387323276,0.3376041438307685,0.8074890993514977,0.9999999999999999,0.29368426642761336,0.2637067945307732,0.4726127187658592,0.12569781076786976,0.21566178112969855,0.2857330640216045,0.29368426642761336,0.9901653667476452,0.057882909051534155,0.30731069760458674,0.13142260414239815,0.3290526418211459,0.24719683514356272,0.2637067945307732,0.057882909051534155,1.0],\n",
       "'x':[0.0,0.0,0.0,0.0,0.0,0.0,0.0,1.0,1.0,1.0,1.0,1.0,1.0,1.0,2.0,2.0,2.0,2.0,2.0,2.0,2.0,3.0,3.0,3.0,3.0,3.0,3.0,3.0,4.0,4.0,4.0,4.0,4.0,4.0,4.0,5.0,5.0,5.0,5.0,5.0,5.0,5.0,6.0,6.0,6.0,6.0,6.0,6.0,6.0],\n",
       "'y':[0.0,1.0,2.0,3.0,4.0,5.0,6.0,0.0,1.0,2.0,3.0,4.0,5.0,6.0,0.0,1.0,2.0,3.0,4.0,5.0,6.0,0.0,1.0,2.0,3.0,4.0,5.0,6.0,0.0,1.0,2.0,3.0,4.0,5.0,6.0,0.0,1.0,2.0,3.0,4.0,5.0,6.0,0.0,1.0,2.0,3.0,4.0,5.0,6.0]\n",
       "},\n",
       "'mapping':{\n",
       "'x':\"x\",\n",
       "'y':\"y\",\n",
       "'fill':\"corr\"\n",
       "},\n",
       "'tooltips':{\n",
       "'tooltip_formats':[{\n",
       "'field':\"@corr\",\n",
       "'format':\".2f\"\n",
       "}],\n",
       "'tooltip_lines':[\"(@col1, @col2)\",\"correlation value|@corr\"]\n",
       "},\n",
       "'data_meta':{\n",
       "},\n",
       "'color':\"#bd0026\",\n",
       "'shape':22,\n",
       "'size':18\n",
       "}]\n",
       "};\n",
       "           var plotContainer = document.getElementById(\"guSLC3\");\n",
       "           window.letsPlotCall(function() {{\n",
       "               LetsPlot.buildPlotFromProcessedSpecs(plotSpec, -1, -1, plotContainer);\n",
       "           }});\n",
       "       })();    \n",
       "   </script>"
      ],
      "text/plain": [
       "<lets_plot.plot.core.PlotSpec at 0x1c977988>"
      ]
     },
     "execution_count": 9,
     "metadata": {},
     "output_type": "execute_result"
    }
   ],
   "source": [
    "corr_df = cramers_corr(df)\n",
    "plot_corr_matrix(corr_df)"
   ]
  },
  {
   "cell_type": "markdown",
   "metadata": {},
   "source": [
    "Only the `born_country_code` column is fully filled, so we forced to use this column for construction of animated bar chart. According to correlation plot, two other columns with countries are moderate correlated with chosen one, and we has no obvious way to transfer our results for `born_country_code` to them."
   ]
  },
  {
   "cell_type": "code",
   "execution_count": 10,
   "metadata": {},
   "outputs": [],
   "source": [
    "def modulo_sort(array, m):\n",
    "    pairs = [(e, e % m) for e in array]\n",
    "    pairs = sorted(pairs, key=lambda e: (e[1], e[0]))\n",
    "    return list(list(zip(*pairs))[0])"
   ]
  },
  {
   "cell_type": "code",
   "execution_count": 11,
   "metadata": {},
   "outputs": [],
   "source": [
    "def get_sorted_countries(df, *, year=None, ascending=False):\n",
    "    year = year or df.year.max()\n",
    "    local_df = df[df.year == year]\n",
    "    return local_df.groupby(['country']).cum.sum().sort_values(ascending=ascending).index.to_list()"
   ]
  },
  {
   "cell_type": "markdown",
   "metadata": {},
   "source": [
    "## Animated Bar Chart"
   ]
  },
  {
   "cell_type": "code",
   "execution_count": 12,
   "metadata": {},
   "outputs": [],
   "source": [
    "TOP_SIZE = 10\n",
    "PALETTE = cc.palette['glasbey_hv']"
   ]
  },
  {
   "cell_type": "code",
   "execution_count": 13,
   "metadata": {},
   "outputs": [],
   "source": [
    "iso_df = pd.read_csv('https://raw.githubusercontent.com/HIL-HK/lets-plot-examples/master/data/iso_3166.csv')"
   ]
  },
  {
   "cell_type": "code",
   "execution_count": 14,
   "metadata": {},
   "outputs": [],
   "source": [
    "cum_df = df.groupby(['year', 'born_country_code', 'category']).size()\\\n",
    "           .groupby(['born_country_code', 'category']).cumsum().to_frame(name='cum').reset_index()\n",
    "cum_df = cum_df.merge(iso_df[['iso_a2', 'name_1']], left_on='born_country_code', right_on='iso_a2', how='left')\\\n",
    "               .rename(columns={'name_1': 'country'})[['year', 'country', 'category', 'cum']]\n",
    "cum_df.country = cum_df.country.astype('category')"
   ]
  },
  {
   "cell_type": "code",
   "execution_count": 15,
   "metadata": {},
   "outputs": [],
   "source": [
    "country_colors = {country: PALETTE[i] for i, country in enumerate(get_sorted_countries(cum_df))}"
   ]
  },
  {
   "cell_type": "code",
   "execution_count": 16,
   "metadata": {},
   "outputs": [],
   "source": [
    "plots = []\n",
    "for year in cum_df.year.unique():\n",
    "    countries = get_sorted_countries(cum_df, year=year)\n",
    "    top_size = min(TOP_SIZE, len(countries))\n",
    "    countries = countries[:top_size]\n",
    "    local_df = cum_df[cum_df.year == year]\n",
    "    local_df = local_df[local_df.country.isin(countries)]\n",
    "    local_df.country.cat.set_categories(countries, inplace=True)\n",
    "    local_df = local_df.sort_values(['country', 'cum', 'category'])\n",
    "    local_df['color'] = local_df.country.apply(lambda country_code: country_colors[country_code])\n",
    "    plots.append(\n",
    "        ggplot() + \\\n",
    "        geom_bar(aes(x='country', y='cum', group='category', fill='color'), \\\n",
    "                 data=local_df, stat='identity', color='white', \\\n",
    "                 sampling=sampling_pick(local_df.shape[0]), \\\n",
    "                 tooltips=layer_tooltips().line('@country')\\\n",
    "                                          .line('category|@category')\\\n",
    "                                          .line('laureates number|@cum')) + \\\n",
    "        scale_fill_identity() + \\\n",
    "        scale_x_discrete(name='born country') + \\\n",
    "        scale_y_continuous(name='total laureates number') + \\\n",
    "        ggtitle('Nobel Laureates up to {0}'.format(year)) + \\\n",
    "        ggsize(600, 450) + \\\n",
    "        theme(legend_position='none')\n",
    "    )"
   ]
  },
  {
   "cell_type": "code",
   "execution_count": 17,
   "metadata": {},
   "outputs": [
    {
     "data": {
      "application/vnd.jupyter.widget-view+json": {
       "model_id": "0195ad17b93a471db5ba2523465279a2",
       "version_major": 2,
       "version_minor": 0
      },
      "text/plain": [
       "HBox(children=(Play(value=0, interval=1000, max=115), IntSlider(value=0, max=115)))"
      ]
     },
     "metadata": {},
     "output_type": "display_data"
    },
    {
     "data": {
      "application/vnd.jupyter.widget-view+json": {
       "model_id": "fd9a97e0b44d4e44b321bd5801cb01b1",
       "version_major": 2,
       "version_minor": 0
      },
      "text/plain": [
       "Output()"
      ]
     },
     "metadata": {},
     "output_type": "display_data"
    }
   ],
   "source": [
    "player_widget(plots)"
   ]
  }
 ],
 "metadata": {
  "kernelspec": {
   "display_name": "Python 3",
   "language": "python",
   "name": "python3"
  },
  "language_info": {
   "codemirror_mode": {
    "name": "ipython",
    "version": 3
   },
   "file_extension": ".py",
   "mimetype": "text/x-python",
   "name": "python",
   "nbconvert_exporter": "python",
   "pygments_lexer": "ipython3",
   "version": "3.7.8"
  },
  "widgets": {
   "application/vnd.jupyter.widget-state+json": {
    "state": {
     "10d1a8622cb4411d8cb506b6c9182e07": {
      "model_module": "@jupyter-widgets/output",
      "model_module_version": "1.0.0",
      "model_name": "OutputModel",
      "state": {
       "layout": "IPY_MODEL_c47b9bf950dc4fef9df48c4ddd3102b7",
       "outputs": [
        {
         "data": {
          "text/html": "   <div id=\"Q7dWLL\"></div>\n   <script type=\"text/javascript\" data-lets-plot-script=\"plot\">\n       (function() {\n           var plotSpec={\n'mapping':{\n},\n'data_meta':{\n},\n'ggtitle':{\n'text':\"Nobel Laureates up to 1901\"\n},\n'ggsize':{\n'width':800,\n'height':600\n},\n'theme':{\n'legend_position':\"none\"\n},\n'kind':\"plot\",\n'scales':[{\n'name':\"Category\",\n'aesthetic':\"color\",\n'low':\"white\",\n'high':\"white\",\n'scale_mapper_kind':\"color_gradient\"\n},{\n'name':\"\",\n'aesthetic':\"fill\",\n'guide':\"none\",\n'scale_mapper_kind':\"identity\"\n},{\n'name':\"Born country\",\n'aesthetic':\"x\",\n'discrete':true\n},{\n'name':\"Total laureates number\",\n'aesthetic':\"y\"\n}],\n'layers':[{\n'geom':\"bar\",\n'stat':\"identity\",\n'data':{\n'born_country_code':[\"FR\",\"FR\",\"FR\",\"FR\",\"FR\",\"FR\",\"NL\",\"NL\",\"NL\",\"NL\",\"NL\",\"NL\",\"PL\",\"PL\",\"PL\",\"PL\",\"PL\",\"PL\",\"CH\",\"CH\",\"CH\",\"CH\",\"CH\",\"CH\",\"DE\",\"DE\",\"DE\",\"DE\",\"DE\",\"DE\",\"DK\",\"DK\",\"DK\",\"DK\",\"DK\",\"DK\",\"DZ\",\"DZ\",\"DZ\",\"DZ\",\"DZ\",\"DZ\",\"EG\",\"EG\",\"EG\",\"EG\",\"EG\",\"EG\",\"ES\",\"ES\",\"ES\",\"ES\",\"ES\",\"ES\",\"ET\",\"ET\",\"ET\",\"ET\",\"ET\",\"ET\"],\n'category':[\"chemistry\",\"economics\",\"medicine\",\"physics\",\"literature\",\"peace\",\"economics\",\"literature\",\"medicine\",\"peace\",\"physics\",\"chemistry\",\"chemistry\",\"economics\",\"literature\",\"peace\",\"physics\",\"medicine\",\"chemistry\",\"economics\",\"literature\",\"medicine\",\"physics\",\"peace\",\"chemistry\",\"economics\",\"literature\",\"medicine\",\"peace\",\"physics\",\"chemistry\",\"economics\",\"literature\",\"medicine\",\"peace\",\"physics\",\"chemistry\",\"economics\",\"literature\",\"medicine\",\"peace\",\"physics\",\"chemistry\",\"economics\",\"literature\",\"medicine\",\"peace\",\"physics\",\"chemistry\",\"economics\",\"literature\",\"medicine\",\"peace\",\"physics\",\"chemistry\",\"economics\",\"literature\",\"medicine\",\"peace\",\"physics\"],\n'cum':[0.0,0.0,0.0,0.0,1.0,1.0,0.0,0.0,0.0,0.0,0.0,1.0,0.0,0.0,0.0,0.0,0.0,1.0,0.0,0.0,0.0,0.0,0.0,1.0,0.0,0.0,0.0,0.0,0.0,1.0,0.0,0.0,0.0,0.0,0.0,0.0,0.0,0.0,0.0,0.0,0.0,0.0,0.0,0.0,0.0,0.0,0.0,0.0,0.0,0.0,0.0,0.0,0.0,0.0,0.0,0.0,0.0,0.0,0.0,0.0],\n'color':[\"#6d904f\",\"#6d904f\",\"#6d904f\",\"#6d904f\",\"#6d904f\",\"#6d904f\",\"#bcbc21\",\"#bcbc21\",\"#bcbc21\",\"#bcbc21\",\"#bcbc21\",\"#bcbc21\",\"#16bdcf\",\"#16bdcf\",\"#16bdcf\",\"#16bdcf\",\"#16bdcf\",\"#16bdcf\",\"#8c564b\",\"#8c564b\",\"#8c564b\",\"#8c564b\",\"#8c564b\",\"#8c564b\",\"#e4ae38\",\"#e4ae38\",\"#e4ae38\",\"#e4ae38\",\"#e4ae38\",\"#e4ae38\",\"#0fffa8\",\"#0fffa8\",\"#0fffa8\",\"#0fffa8\",\"#0fffa8\",\"#0fffa8\",\"#057400\",\"#057400\",\"#057400\",\"#057400\",\"#057400\",\"#057400\",\"#ffff9a\",\"#ffff9a\",\"#ffff9a\",\"#ffff9a\",\"#ffff9a\",\"#ffff9a\",\"#6026ff\",\"#6026ff\",\"#6026ff\",\"#6026ff\",\"#6026ff\",\"#6026ff\",\"#9a9301\",\"#9a9301\",\"#9a9301\",\"#9a9301\",\"#9a9301\",\"#9a9301\"]\n},\n'mapping':{\n'x':\"born_country_code\",\n'y':\"cum\",\n'group':\"category\",\n'color':\"category\",\n'fill':\"color\"\n},\n'data_meta':{\n},\n'sampling':{\n'name':\"pick\",\n'n':60\n}\n}]\n};\n           var plotContainer = document.getElementById(\"Q7dWLL\");\n           window.letsPlotCall(function() {{\n               LetsPlot.buildPlotFromProcessedSpecs(plotSpec, -1, -1, plotContainer);\n           }});\n       })();    \n   </script>",
          "text/plain": "<lets_plot.plot.core.PlotSpec at 0x7f13662170d0>"
         },
         "metadata": {},
         "output_type": "display_data"
        }
       ]
      }
     },
     "16afc68bc23349cdae12cf196ee27799": {
      "model_module": "@jupyter-widgets/controls",
      "model_module_version": "1.5.0",
      "model_name": "HBoxModel",
      "state": {
       "children": [
        "IPY_MODEL_a22cf6ef508a4e3e808a131ccc55670a",
        "IPY_MODEL_9ef46e9fbe084d15aa8fcfaf569a1c39"
       ],
       "layout": "IPY_MODEL_6c20d45e22124e89aa3eeb51b2476711"
      }
     },
     "17758689ec1c48c894cecbf29f505ff6": {
      "model_module": "@jupyter-widgets/base",
      "model_module_version": "1.2.0",
      "model_name": "LayoutModel",
      "state": {}
     },
     "26f829d925f84ce79d634070d5eb1125": {
      "model_module": "@jupyter-widgets/controls",
      "model_module_version": "1.5.0",
      "model_name": "PlayModel",
      "state": {
       "interval": 1000,
       "layout": "IPY_MODEL_7187233c519a4ca48459f7a355d4d45e",
       "max": 115,
       "style": "IPY_MODEL_51691dd10a564b9388f512962eaf8b6f"
      }
     },
     "367cadca5f354f9aaa1ea9e3d84b9b05": {
      "model_module": "@jupyter-widgets/base",
      "model_module_version": "1.2.0",
      "model_name": "LayoutModel",
      "state": {}
     },
     "4218a8cc496d4ad9aae71cb4f98bf118": {
      "model_module": "@jupyter-widgets/base",
      "model_module_version": "1.2.0",
      "model_name": "LayoutModel",
      "state": {}
     },
     "4530c1ed40af451bbbe32e117df71ffe": {
      "model_module": "@jupyter-widgets/controls",
      "model_module_version": "1.5.0",
      "model_name": "LinkModel",
      "state": {
       "source": [
        "IPY_MODEL_a22cf6ef508a4e3e808a131ccc55670a",
        "value"
       ],
       "target": [
        "IPY_MODEL_9ef46e9fbe084d15aa8fcfaf569a1c39",
        "value"
       ]
      }
     },
     "51691dd10a564b9388f512962eaf8b6f": {
      "model_module": "@jupyter-widgets/controls",
      "model_module_version": "1.5.0",
      "model_name": "DescriptionStyleModel",
      "state": {
       "description_width": ""
      }
     },
     "606fca5df30143d59f118dd644e9e689": {
      "model_module": "@jupyter-widgets/controls",
      "model_module_version": "1.5.0",
      "model_name": "DescriptionStyleModel",
      "state": {
       "description_width": ""
      }
     },
     "62429ba49ccf48d6bdaadcf0748d9f44": {
      "model_module": "@jupyter-widgets/base",
      "model_module_version": "1.2.0",
      "model_name": "LayoutModel",
      "state": {}
     },
     "6c20d45e22124e89aa3eeb51b2476711": {
      "model_module": "@jupyter-widgets/base",
      "model_module_version": "1.2.0",
      "model_name": "LayoutModel",
      "state": {}
     },
     "6e622f16466c4e12a078644b21282745": {
      "model_module": "@jupyter-widgets/controls",
      "model_module_version": "1.5.0",
      "model_name": "SliderStyleModel",
      "state": {
       "description_width": ""
      }
     },
     "7187233c519a4ca48459f7a355d4d45e": {
      "model_module": "@jupyter-widgets/base",
      "model_module_version": "1.2.0",
      "model_name": "LayoutModel",
      "state": {}
     },
     "88e5b707ffee484681256555a68fe2c3": {
      "model_module": "@jupyter-widgets/controls",
      "model_module_version": "1.5.0",
      "model_name": "LinkModel",
      "state": {
       "source": [
        "IPY_MODEL_26f829d925f84ce79d634070d5eb1125",
        "value"
       ],
       "target": [
        "IPY_MODEL_a20657145e534363b247441fcee6f75b",
        "value"
       ]
      }
     },
     "94785655e1df495284b2579ef21b2b34": {
      "model_module": "@jupyter-widgets/output",
      "model_module_version": "1.0.0",
      "model_name": "OutputModel",
      "state": {
       "layout": "IPY_MODEL_17758689ec1c48c894cecbf29f505ff6",
       "outputs": [
        {
         "data": {
          "text/html": "   <div id=\"cSNN2T\"></div>\n   <script type=\"text/javascript\" data-lets-plot-script=\"plot\">\n       (function() {\n           var plotSpec={\n'mapping':{\n},\n'data_meta':{\n},\n'ggtitle':{\n'text':\"Nobel Laureates up to 1902\"\n},\n'ggsize':{\n'width':800,\n'height':600\n},\n'theme':{\n'legend_position':\"none\"\n},\n'kind':\"plot\",\n'scales':[{\n'name':\"Category\",\n'aesthetic':\"color\",\n'low':\"white\",\n'high':\"white\",\n'scale_mapper_kind':\"color_gradient\"\n},{\n'name':\"\",\n'aesthetic':\"fill\",\n'guide':\"none\",\n'scale_mapper_kind':\"identity\"\n},{\n'name':\"Born country\",\n'aesthetic':\"x\",\n'discrete':true,\n'reverse':false\n},{\n'name':\"Total laureates number\",\n'aesthetic':\"y\"\n}],\n'layers':[{\n'geom':\"bar\",\n'stat':\"identity\",\n'data':{\n'country':[\"Netherlands\",\"Netherlands\",\"Netherlands\",\"Netherlands\",\"Netherlands\",\"Netherlands\",\"Germany\",\"Germany\",\"Germany\",\"Germany\",\"Germany\",\"Germany\",\"Switzerland\",\"Switzerland\",\"Switzerland\",\"Switzerland\",\"Switzerland\",\"Switzerland\",\"France\",\"France\",\"France\",\"France\",\"France\",\"France\",\"India\",\"India\",\"India\",\"India\",\"India\",\"India\",\"Poland\",\"Poland\",\"Poland\",\"Poland\",\"Poland\",\"Poland\",\"Zimbabwe\",\"Zimbabwe\",\"Zimbabwe\",\"Zimbabwe\",\"Zimbabwe\",\"Zimbabwe\",\"Ghana\",\"Ghana\",\"Ghana\",\"Ghana\",\"Ghana\",\"Ghana\",\"Denmark\",\"Denmark\",\"Denmark\",\"Denmark\",\"Denmark\",\"Denmark\",\"Egypt\",\"Egypt\",\"Egypt\",\"Egypt\",\"Egypt\",\"Egypt\"],\n'category':[\"economics\",\"literature\",\"medicine\",\"peace\",\"chemistry\",\"physics\",\"economics\",\"medicine\",\"peace\",\"chemistry\",\"literature\",\"physics\",\"chemistry\",\"economics\",\"literature\",\"medicine\",\"physics\",\"peace\",\"chemistry\",\"economics\",\"medicine\",\"physics\",\"literature\",\"peace\",\"chemistry\",\"economics\",\"literature\",\"peace\",\"physics\",\"medicine\",\"chemistry\",\"economics\",\"literature\",\"peace\",\"physics\",\"medicine\",\"chemistry\",\"economics\",\"literature\",\"medicine\",\"peace\",\"physics\",\"chemistry\",\"economics\",\"literature\",\"medicine\",\"peace\",\"physics\",\"chemistry\",\"economics\",\"literature\",\"medicine\",\"peace\",\"physics\",\"chemistry\",\"economics\",\"literature\",\"medicine\",\"peace\",\"physics\"],\n'cum':[0.0,0.0,0.0,0.0,1.0,2.0,0.0,0.0,0.0,1.0,1.0,1.0,0.0,0.0,0.0,0.0,0.0,3.0,0.0,0.0,0.0,0.0,1.0,1.0,0.0,0.0,0.0,0.0,0.0,1.0,0.0,0.0,0.0,0.0,0.0,1.0,0.0,0.0,0.0,0.0,0.0,0.0,0.0,0.0,0.0,0.0,0.0,0.0,0.0,0.0,0.0,0.0,0.0,0.0,0.0,0.0,0.0,0.0,0.0,0.0],\n'color':[\"#3a0182\",\"#3a0182\",\"#3a0182\",\"#3a0182\",\"#3a0182\",\"#3a0182\",\"#e4ae38\",\"#e4ae38\",\"#e4ae38\",\"#e4ae38\",\"#e4ae38\",\"#e4ae38\",\"#e277c1\",\"#e277c1\",\"#e277c1\",\"#e277c1\",\"#e277c1\",\"#e277c1\",\"#6d904f\",\"#6d904f\",\"#6d904f\",\"#6d904f\",\"#6d904f\",\"#6d904f\",\"#424f52\",\"#424f52\",\"#424f52\",\"#424f52\",\"#424f52\",\"#424f52\",\"#16bdcf\",\"#16bdcf\",\"#16bdcf\",\"#16bdcf\",\"#16bdcf\",\"#16bdcf\",\"#520066\",\"#520066\",\"#520066\",\"#520066\",\"#520066\",\"#520066\",\"#9a9301\",\"#9a9301\",\"#9a9301\",\"#9a9301\",\"#9a9301\",\"#9a9301\",\"#5d003f\",\"#5d003f\",\"#5d003f\",\"#5d003f\",\"#5d003f\",\"#5d003f\",\"#00857c\",\"#00857c\",\"#00857c\",\"#00857c\",\"#00857c\",\"#00857c\"]\n},\n'mapping':{\n'x':\"country\",\n'y':\"cum\",\n'group':\"category\",\n'color':\"category\",\n'fill':\"color\"\n},\n'data_meta':{\n},\n'sampling':{\n'name':\"pick\",\n'n':60\n}\n}]\n};\n           var plotContainer = document.getElementById(\"cSNN2T\");\n           window.letsPlotCall(function() {{\n               LetsPlot.buildPlotFromProcessedSpecs(plotSpec, -1, -1, plotContainer);\n           }});\n       })();    \n   </script>",
          "text/plain": "<lets_plot.plot.core.PlotSpec at 0x7f6f7fc9c7f0>"
         },
         "metadata": {},
         "output_type": "display_data"
        }
       ]
      }
     },
     "9ef46e9fbe084d15aa8fcfaf569a1c39": {
      "model_module": "@jupyter-widgets/controls",
      "model_module_version": "1.5.0",
      "model_name": "IntSliderModel",
      "state": {
       "layout": "IPY_MODEL_e6dfadbae49c42fb9d29e7af9920fccc",
       "max": 115,
       "style": "IPY_MODEL_fdad9b141cc8417e813eb26ff6b323c5",
       "value": 1
      }
     },
     "a20657145e534363b247441fcee6f75b": {
      "model_module": "@jupyter-widgets/controls",
      "model_module_version": "1.5.0",
      "model_name": "IntSliderModel",
      "state": {
       "layout": "IPY_MODEL_62429ba49ccf48d6bdaadcf0748d9f44",
       "max": 115,
       "style": "IPY_MODEL_6e622f16466c4e12a078644b21282745"
      }
     },
     "a22cf6ef508a4e3e808a131ccc55670a": {
      "model_module": "@jupyter-widgets/controls",
      "model_module_version": "1.5.0",
      "model_name": "PlayModel",
      "state": {
       "interval": 1000,
       "layout": "IPY_MODEL_367cadca5f354f9aaa1ea9e3d84b9b05",
       "max": 115,
       "style": "IPY_MODEL_606fca5df30143d59f118dd644e9e689",
       "value": 1
      }
     },
     "b75cd7ac530049d2803b73cb45a30312": {
      "model_module": "@jupyter-widgets/controls",
      "model_module_version": "1.5.0",
      "model_name": "HBoxModel",
      "state": {
       "children": [
        "IPY_MODEL_26f829d925f84ce79d634070d5eb1125",
        "IPY_MODEL_a20657145e534363b247441fcee6f75b"
       ],
       "layout": "IPY_MODEL_4218a8cc496d4ad9aae71cb4f98bf118"
      }
     },
     "c47b9bf950dc4fef9df48c4ddd3102b7": {
      "model_module": "@jupyter-widgets/base",
      "model_module_version": "1.2.0",
      "model_name": "LayoutModel",
      "state": {}
     },
     "e6dfadbae49c42fb9d29e7af9920fccc": {
      "model_module": "@jupyter-widgets/base",
      "model_module_version": "1.2.0",
      "model_name": "LayoutModel",
      "state": {}
     },
     "fdad9b141cc8417e813eb26ff6b323c5": {
      "model_module": "@jupyter-widgets/controls",
      "model_module_version": "1.5.0",
      "model_name": "SliderStyleModel",
      "state": {
       "description_width": ""
      }
     }
    },
    "version_major": 2,
    "version_minor": 0
   }
  }
 },
 "nbformat": 4,
 "nbformat_minor": 4
}
