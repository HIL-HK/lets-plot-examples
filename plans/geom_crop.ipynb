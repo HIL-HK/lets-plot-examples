{
 "cells": [
  {
   "cell_type": "markdown",
   "metadata": {},
   "source": [
    "# Possible New Geometry - Cropped Image\n",
    "\n",
    "With geom_crop(), you can fill polygons with any raster images loaded from a URL.\n",
    "\n",
    "To run the notebook, you need to log in on [pixabay.com](https://pixabay.com) and get the API key from [here](https://pixabay.com/api/docs)."
   ]
  },
  {
   "cell_type": "code",
   "execution_count": null,
   "metadata": {},
   "outputs": [],
   "source": [
    "import requests\n",
    "\n",
    "import pandas as pd\n",
    "import geopandas as gpd\n",
    "import shapely\n",
    "\n",
    "from lets_plot import *\n",
    "LetsPlot.setup_html()\n",
    "from geoms.crop import geom_crop"
   ]
  },
  {
   "cell_type": "markdown",
   "metadata": {},
   "source": [
    "## Preparation"
   ]
  },
  {
   "cell_type": "code",
   "execution_count": null,
   "metadata": {},
   "outputs": [],
   "source": [
    "pixabay_api_key = input('Type your API key: ')"
   ]
  },
  {
   "cell_type": "code",
   "execution_count": null,
   "metadata": {},
   "outputs": [],
   "source": [
    "def project_geometry(gdf, geometry, *, proj, new_width, new_height):\n",
    "    gdf = gdf.to_crs(proj)\n",
    "    origin = (gdf.total_bounds[0], gdf.total_bounds[1])\n",
    "    gdf[geometry] = gdf[geometry].apply(lambda geom: shapely.affinity.translate(geom, \\\n",
    "                                                                                xoff=-origin[0], \\\n",
    "                                                                                yoff=-origin[1]))\n",
    "    current_width = gdf.total_bounds[2] - gdf.total_bounds[0]\n",
    "    current_height = gdf.total_bounds[3] - gdf.total_bounds[1]\n",
    "    gdf[geometry] = gdf[geometry].apply(lambda geom: shapely.affinity.scale(geom, \\\n",
    "                                                                            xfact=new_width / current_width, \\\n",
    "                                                                            yfact=new_height / current_height, \\\n",
    "                                                                            origin=(0, 0)))\n",
    "    gdf[geometry] = gdf[geometry].apply(lambda geom: shapely.wkt.loads(shapely.wkt.dumps(geom, rounding_precision=0)))\n",
    "    return gdf"
   ]
  },
  {
   "cell_type": "code",
   "execution_count": null,
   "metadata": {},
   "outputs": [],
   "source": [
    "def get_europe_gdf():\n",
    "    world_gdf = gpd.read_file(gpd.datasets.get_path('naturalearth_lowres'))\n",
    "    europe_bb = gpd.GeoDataFrame(geometry=[ shapely.geometry.box(-10, 70, 40, 30) ], crs=world_gdf.crs)\n",
    "    return gpd.overlay(world_gdf, europe_bb, how='intersection')"
   ]
  },
  {
   "cell_type": "code",
   "execution_count": null,
   "metadata": {},
   "outputs": [],
   "source": [
    "def get_projected_europe_gdf(*, width, height):\n",
    "    europe_gdf = get_europe_gdf()\n",
    "    europe_gdf = project_geometry(europe_gdf, 'geometry', proj='epsg:3857', new_width=width, new_height=height)\n",
    "    europe_gdf = europe_gdf[~europe_gdf.geometry.isna()]\n",
    "    europe_gdf.geometry = europe_gdf.geometry.apply(lambda geom: geom if geom.is_valid else geom.convex_hull)\n",
    "    return europe_gdf"
   ]
  },
  {
   "cell_type": "code",
   "execution_count": null,
   "metadata": {},
   "outputs": [],
   "source": [
    "def point_to_df(geom, *, name):\n",
    "    return pd.DataFrame(dict(x=[geom.x], y=[geom.y], name=[name], index=[0]))\n",
    "\n",
    "def polygon_to_df(geom, *, name, index=0):\n",
    "    x, y = list(zip(*geom.exterior.coords))\n",
    "    return pd.DataFrame(dict(x=x, y=y, name=[name] * len(x), index=[index] * len(x)))\n",
    "\n",
    "def multipolygon_to_df(geom, *, name):\n",
    "    return pd.concat([polygon_to_df(polygon, name=name, index=index) for index, polygon in enumerate(geom)])\n",
    "\n",
    "def geom_to_df(geom, *, name):\n",
    "    if geom.type == 'Point':\n",
    "        return point_to_df(geom, name=name)\n",
    "    elif geom.type == 'Polygon':\n",
    "        return polygon_to_df(geom, name=name)\n",
    "    elif geom.type == 'MultiPolygon':\n",
    "        return multipolygon_to_df(geom, name=name)\n",
    "    else:\n",
    "        return pd.DataFrame(dict(x=[], y=[], name=[], index=[]))\n",
    "\n",
    "def gdf_to_df(gdf):\n",
    "    df = pd.concat([geom_to_df(row['geometry'], name=row['name']) for i, row in gdf.iterrows()])\n",
    "    return df.reset_index(drop=True)"
   ]
  },
  {
   "cell_type": "code",
   "execution_count": null,
   "metadata": {},
   "outputs": [],
   "source": [
    "def get_image_url(country, *, category):\n",
    "    query = country\n",
    "    request_url = 'https://pixabay.com/api/?key={api_key}&category={category}&q={query}'.format(\n",
    "        api_key=pixabay_api_key,\n",
    "        category=category,\n",
    "        query=query.replace(' ', '+')\n",
    "    )\n",
    "    hits = requests.get(request_url).json().get('hits')\n",
    "    if hits and len(hits) > 0:\n",
    "        return hits[0]['largeImageURL']\n",
    "    else:\n",
    "        return ''"
   ]
  },
  {
   "cell_type": "code",
   "execution_count": null,
   "metadata": {},
   "outputs": [],
   "source": [
    "def construct_images_df(countries_df, *, category, column_name=None):\n",
    "    images_df = countries_df.copy()\n",
    "    column_name = column_name or '%s_img' % category\n",
    "    images_df[column_name] = countries_df.iloc[:, 0].apply(get_image_url, category=category)\n",
    "    return images_df"
   ]
  },
  {
   "cell_type": "markdown",
   "metadata": {},
   "source": [
    "## Let's Plot!"
   ]
  },
  {
   "cell_type": "code",
   "execution_count": null,
   "metadata": {},
   "outputs": [],
   "source": [
    "width, height = 450, 600"
   ]
  },
  {
   "cell_type": "code",
   "execution_count": null,
   "metadata": {},
   "outputs": [],
   "source": [
    "europe_gdf = get_projected_europe_gdf(width=width, height=height)\n",
    "europe_gdf = europe_gdf.merge(construct_images_df(europe_gdf[['name']], category='nature'), on='name')\n",
    "europe_gdf = europe_gdf.merge(construct_images_df(europe_gdf[['name']], category='buildings'), on='name')"
   ]
  },
  {
   "cell_type": "code",
   "execution_count": null,
   "metadata": {},
   "outputs": [],
   "source": [
    "ggplot() + \\\n",
    "    geom_crop(aes(geometry='geometry', url='nature_img'), europe_gdf) + \\\n",
    "    geom_polygon(aes(x='x', y='y', group='name'), data=gdf_to_df(europe_gdf), \\\n",
    "                 color='black', size=1, alpha=0, tooltips=layer_tooltips().line('@name')) + \\\n",
    "    ggtitle('Nature in Europe') + \\\n",
    "    ggsize(width, height) + \\\n",
    "    theme(legend_position='none', axis_title='blank', axis_text='blank', axis_ticks='blank', axis_line='blank')"
   ]
  },
  {
   "cell_type": "code",
   "execution_count": null,
   "metadata": {},
   "outputs": [],
   "source": [
    "ggplot() + \\\n",
    "    geom_crop(aes(geometry='geometry', url='buildings_img'), europe_gdf) + \\\n",
    "    geom_polygon(aes(x='x', y='y', group='name'), data=gdf_to_df(europe_gdf), \\\n",
    "                 color='black', size=1, alpha=0, tooltips=layer_tooltips().line('@name')) + \\\n",
    "    ggtitle('Buildings in Europe') + \\\n",
    "    ggsize(width, height) + \\\n",
    "    theme(legend_position='none', axis_title='blank', axis_text='blank', axis_ticks='blank', axis_line='blank')"
   ]
  }
 ],
 "metadata": {
  "kernelspec": {
   "display_name": "Python 3",
   "language": "python",
   "name": "python3"
  },
  "language_info": {
   "codemirror_mode": {
    "name": "ipython",
    "version": 3
   },
   "file_extension": ".py",
   "mimetype": "text/x-python",
   "name": "python",
   "nbconvert_exporter": "python",
   "pygments_lexer": "ipython3",
   "version": "3.7.8"
  }
 },
 "nbformat": 4,
 "nbformat_minor": 2
}
